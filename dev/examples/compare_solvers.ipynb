{
 "cells": [
  {
   "cell_type": "markdown",
   "source": [
    "# Comparison of DFT solvers"
   ],
   "metadata": {}
  },
  {
   "cell_type": "markdown",
   "source": [
    "We compare four different approaches for solving the DFT minimisation problem,\n",
    "namely a density-based SCF, a potential-based SCF, direct minimisation and Newton."
   ],
   "metadata": {}
  },
  {
   "cell_type": "markdown",
   "source": [
    "First we setup our problem"
   ],
   "metadata": {}
  },
  {
   "outputs": [],
   "cell_type": "code",
   "source": [
    "using DFTK\n",
    "using LinearAlgebra\n",
    "\n",
    "a = 10.26  # Silicon lattice constant in Bohr\n",
    "lattice = a / 2 * [[0 1 1.];\n",
    "                   [1 0 1.];\n",
    "                   [1 1 0.]]\n",
    "Si = ElementPsp(:Si, psp=load_psp(\"hgh/lda/Si-q4\"))\n",
    "atoms     = [Si, Si]\n",
    "positions = [ones(3)/8, -ones(3)/8]\n",
    "\n",
    "model = model_LDA(lattice, atoms, positions)\n",
    "basis = PlaneWaveBasis(model; Ecut=5, kgrid=[3, 3, 3])\n",
    "\n",
    "# Convergence we desire\n",
    "tol = 1e-12\n",
    "is_converged = DFTK.ScfConvergenceDensity(tol);"
   ],
   "metadata": {},
   "execution_count": 1
  },
  {
   "cell_type": "markdown",
   "source": [
    "## Density-based self-consistent field"
   ],
   "metadata": {}
  },
  {
   "outputs": [
    {
     "name": "stdout",
     "output_type": "stream",
     "text": [
      "n     Energy            log10(ΔE)   log10(Δρ)   Diag\n",
      "---   ---------------   ---------   ---------   ----\n",
      "  1   -7.846741443685                   -0.70    4.8\n",
      "  2   -7.852308620072       -2.25       -1.53    1.0\n",
      "  3   -7.852646223137       -3.47       -2.52    3.2\n",
      "  4   -7.852646677461       -6.34       -3.37    2.0\n",
      "  5   -7.852646686214       -8.06       -4.65    1.8\n",
      "  6   -7.852646686728       -9.29       -5.55    3.0\n",
      "  7   -7.852646686730      -11.76       -6.29    1.5\n",
      "  8   -7.852646686730      -13.14       -7.90    2.0\n",
      "  9   -7.852646686730      -14.75       -8.10    2.8\n",
      " 10   -7.852646686730   +  -14.75       -8.84    2.0\n",
      " 11   -7.852646686730      -14.75       -9.12    1.0\n",
      " 12   -7.852646686730   +    -Inf       -8.85    1.5\n",
      " 13   -7.852646686730      -14.75       -8.12    2.2\n",
      " 14   -7.852646686730   +  -14.75       -7.78    3.0\n",
      " 15   -7.852646686730   +  -14.75       -7.45    2.0\n",
      " 16   -7.852646686730      -15.05       -7.11    3.5\n",
      " 17   -7.852646686730   +    -Inf       -6.93    3.8\n",
      " 18   -7.852646686730   +  -15.05       -8.06    3.8\n",
      " 19   -7.852646686730      -14.75       -8.07    3.0\n",
      " 20   -7.852646686730   +    -Inf       -7.72    2.0\n",
      " 21   -7.852646686730   +    -Inf       -8.89    2.8\n",
      " 22   -7.852646686730   +  -14.75       -9.26    1.0\n",
      " 23   -7.852646686730   +    -Inf      -10.63    2.8\n",
      " 24   -7.852646686730      -14.75      -10.85    2.2\n",
      " 25   -7.852646686730   +  -15.05      -11.79    1.2\n",
      " 26   -7.852646686730      -15.05      -12.03    1.5\n"
     ]
    }
   ],
   "cell_type": "code",
   "source": [
    "scfres_scf = self_consistent_field(basis; is_converged);"
   ],
   "metadata": {},
   "execution_count": 2
  },
  {
   "cell_type": "markdown",
   "source": [
    "## Potential-based SCF"
   ],
   "metadata": {}
  },
  {
   "outputs": [
    {
     "name": "stdout",
     "output_type": "stream",
     "text": [
      "n     Energy            log10(ΔE)   log10(Δρ)   α      Diag\n",
      "---   ---------------   ---------   ---------   ----   ----\n",
      "  1   -7.846685098963                   -0.70           4.8\n",
      "  2   -7.852526147503       -2.23       -1.63   0.80    2.0\n",
      "  3   -7.852636144074       -3.96       -2.73   0.80    1.0\n",
      "  4   -7.852646506431       -4.98       -3.26   0.80    2.2\n",
      "  5   -7.852646673860       -6.78       -4.11   0.80    1.0\n",
      "  6   -7.852646686370       -7.90       -4.82   0.80    1.5\n",
      "  7   -7.852646686722       -9.45       -5.64   0.80    1.8\n",
      "  8   -7.852646686730      -11.12       -6.79   0.80    2.2\n",
      "  9   -7.852646686730      -12.71       -7.66   0.80    2.8\n",
      " 10   -7.852646686730      -14.57       -8.22   0.80    2.0\n",
      " 11   -7.852646686730      -15.05       -8.70   0.80    1.8\n",
      " 12   -7.852646686730   +  -14.45       -9.57   0.80    1.5\n",
      " 13   -7.852646686730      -14.75       -9.99   0.80    2.5\n",
      " 14   -7.852646686730   +  -14.75      -11.21   0.80    1.0\n",
      " 15   -7.852646686730      -14.75      -11.57   0.80    2.2\n",
      " 16   -7.852646686730   +  -14.75      -12.47   0.80    1.0\n"
     ]
    }
   ],
   "cell_type": "code",
   "source": [
    "scfres_scfv = DFTK.scf_potential_mixing(basis; is_converged);"
   ],
   "metadata": {},
   "execution_count": 3
  },
  {
   "cell_type": "markdown",
   "source": [
    "## Direct minimization"
   ],
   "metadata": {}
  },
  {
   "outputs": [
    {
     "name": "stdout",
     "output_type": "stream",
     "text": [
      "Iter     Function value   Gradient norm \n",
      "     0     1.392138e+01     3.672561e+00\n",
      " * time: 0.43007588386535645\n",
      "     1     9.210207e-01     1.754311e+00\n",
      " * time: 0.6578269004821777\n",
      "     2    -1.837637e+00     1.980238e+00\n",
      " * time: 0.6829869747161865\n",
      "     3    -3.864499e+00     1.955284e+00\n",
      " * time: 0.7187960147857666\n",
      "     4    -5.318041e+00     1.606584e+00\n",
      " * time: 0.7552459239959717\n",
      "     5    -6.863490e+00     8.896595e-01\n",
      " * time: 0.7916979789733887\n",
      "     6    -7.047855e+00     1.014120e+00\n",
      " * time: 0.8167829513549805\n",
      "     7    -7.462746e+00     7.150034e-01\n",
      " * time: 0.8420910835266113\n",
      "     8    -7.550530e+00     6.870708e-01\n",
      " * time: 0.868290901184082\n",
      "     9    -7.686539e+00     3.893028e-01\n",
      " * time: 0.8954989910125732\n",
      "    10    -7.749753e+00     1.558979e-01\n",
      " * time: 0.9213120937347412\n",
      "    11    -7.784597e+00     9.018434e-02\n",
      " * time: 0.9480860233306885\n",
      "    12    -7.814688e+00     1.097167e-01\n",
      " * time: 0.9738979339599609\n",
      "    13    -7.828429e+00     9.558315e-02\n",
      " * time: 0.999068021774292\n",
      "    14    -7.843927e+00     3.628959e-02\n",
      " * time: 1.0242018699645996\n",
      "    15    -7.849137e+00     2.925620e-02\n",
      " * time: 1.0494890213012695\n",
      "    16    -7.852088e+00     1.574155e-02\n",
      " * time: 1.0752089023590088\n",
      "    17    -7.852483e+00     1.176007e-02\n",
      " * time: 1.1001250743865967\n",
      "    18    -7.852605e+00     3.769030e-03\n",
      " * time: 1.1255199909210205\n",
      "    19    -7.852631e+00     2.059728e-03\n",
      " * time: 1.1513330936431885\n",
      "    20    -7.852641e+00     1.453106e-03\n",
      " * time: 1.177506923675537\n",
      "    21    -7.852645e+00     8.643192e-04\n",
      " * time: 1.2923729419708252\n",
      "    22    -7.852646e+00     5.778721e-04\n",
      " * time: 1.317755937576294\n",
      "    23    -7.852646e+00     2.871517e-04\n",
      " * time: 1.344815969467163\n",
      "    24    -7.852647e+00     2.049808e-04\n",
      " * time: 1.370115041732788\n",
      "    25    -7.852647e+00     1.216023e-04\n",
      " * time: 1.3952460289001465\n",
      "    26    -7.852647e+00     5.893952e-05\n",
      " * time: 1.420259952545166\n",
      "    27    -7.852647e+00     3.498544e-05\n",
      " * time: 1.445518970489502\n",
      "    28    -7.852647e+00     1.902248e-05\n",
      " * time: 1.470484972000122\n",
      "    29    -7.852647e+00     1.103277e-05\n",
      " * time: 1.4954628944396973\n",
      "    30    -7.852647e+00     5.795133e-06\n",
      " * time: 1.5217719078063965\n",
      "    31    -7.852647e+00     3.324362e-06\n",
      " * time: 1.549588918685913\n",
      "    32    -7.852647e+00     2.335276e-06\n",
      " * time: 1.574873924255371\n",
      "    33    -7.852647e+00     1.124681e-06\n",
      " * time: 1.5998549461364746\n",
      "    34    -7.852647e+00     6.992599e-07\n",
      " * time: 1.6248719692230225\n",
      "    35    -7.852647e+00     3.270865e-07\n",
      " * time: 1.650399923324585\n",
      "    36    -7.852647e+00     2.371891e-07\n",
      " * time: 1.6761720180511475\n",
      "    37    -7.852647e+00     1.263051e-07\n",
      " * time: 1.7012178897857666\n",
      "    38    -7.852647e+00     9.011415e-08\n",
      " * time: 1.7263178825378418\n",
      "    39    -7.852647e+00     4.969995e-08\n",
      " * time: 1.753967046737671\n",
      "    40    -7.852647e+00     2.858678e-08\n",
      " * time: 1.7810370922088623\n",
      "    41    -7.852647e+00     1.670809e-08\n",
      " * time: 1.8089959621429443\n",
      "    42    -7.852647e+00     1.264715e-08\n",
      " * time: 1.837195873260498\n",
      "    43    -7.852647e+00     1.262373e-08\n",
      " * time: 1.8993580341339111\n",
      "    44    -7.852647e+00     9.723254e-09\n",
      " * time: 1.936378002166748\n",
      "    45    -7.852647e+00     4.146170e-09\n",
      " * time: 1.9637229442596436\n"
     ]
    }
   ],
   "cell_type": "code",
   "source": [
    "scfres_dm = direct_minimization(basis; tol);"
   ],
   "metadata": {},
   "execution_count": 4
  },
  {
   "cell_type": "markdown",
   "source": [
    "## Newton algorithm"
   ],
   "metadata": {}
  },
  {
   "cell_type": "markdown",
   "source": [
    "Start not too far from the solution to ensure convergence:\n",
    "We run first a very crude SCF to get close and then switch to Newton."
   ],
   "metadata": {}
  },
  {
   "outputs": [
    {
     "name": "stdout",
     "output_type": "stream",
     "text": [
      "n     Energy            log10(ΔE)   log10(Δρ)   Diag\n",
      "---   ---------------   ---------   ---------   ----\n",
      "  1   -7.846787651693                   -0.71    4.5\n",
      "  2   -7.852289819119       -2.26       -1.53    1.0\n"
     ]
    }
   ],
   "cell_type": "code",
   "source": [
    "scfres_start = self_consistent_field(basis; tol=1e-1);"
   ],
   "metadata": {},
   "execution_count": 5
  },
  {
   "cell_type": "markdown",
   "source": [
    "Remove the virtual orbitals (which Newton cannot treat yet)"
   ],
   "metadata": {}
  },
  {
   "outputs": [
    {
     "name": "stdout",
     "output_type": "stream",
     "text": [
      "n     Energy            log10(ΔE)   log10(Δρ)\n",
      "---   ---------------   ---------   ---------\n",
      "  1   -7.852646685957                   -2.56\n",
      "  2   -7.852646686730       -9.11       -5.43\n",
      "  3   -7.852646686730      -14.75      -10.18\n",
      "  4   -7.852646686730   +    -Inf      -16.00\n"
     ]
    }
   ],
   "cell_type": "code",
   "source": [
    "ψ, _ = DFTK.select_occupied_orbitals(basis, scfres_start.ψ, scfres_start.occupation)\n",
    "scfres_newton = newton(basis, ψ; tol);"
   ],
   "metadata": {},
   "execution_count": 6
  },
  {
   "cell_type": "markdown",
   "source": [
    "## Comparison of results"
   ],
   "metadata": {}
  },
  {
   "outputs": [
    {
     "name": "stdout",
     "output_type": "stream",
     "text": [
      "|ρ_newton - ρ_scf|  = 4.994481158180154e-13\n",
      "|ρ_newton - ρ_scfv| = 1.1114281970870945e-13\n",
      "|ρ_newton - ρ_dm|   = 3.483645828777761e-10\n"
     ]
    }
   ],
   "cell_type": "code",
   "source": [
    "println(\"|ρ_newton - ρ_scf|  = \", norm(scfres_newton.ρ - scfres_scf.ρ))\n",
    "println(\"|ρ_newton - ρ_scfv| = \", norm(scfres_newton.ρ - scfres_scfv.ρ))\n",
    "println(\"|ρ_newton - ρ_dm|   = \", norm(scfres_newton.ρ - scfres_dm.ρ))"
   ],
   "metadata": {},
   "execution_count": 7
  }
 ],
 "nbformat_minor": 3,
 "metadata": {
  "language_info": {
   "file_extension": ".jl",
   "mimetype": "application/julia",
   "name": "julia",
   "version": "1.8.2"
  },
  "kernelspec": {
   "name": "julia-1.8",
   "display_name": "Julia 1.8.2",
   "language": "julia"
  }
 },
 "nbformat": 4
}
