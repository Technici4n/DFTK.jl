{
 "cells": [
  {
   "cell_type": "markdown",
   "source": [
    "# Comparison of DFT solvers"
   ],
   "metadata": {}
  },
  {
   "cell_type": "markdown",
   "source": [
    "We compare four different approaches for solving the DFT minimisation problem,\n",
    "namely a density-based SCF, a potential-based SCF, direct minimisation and Newton."
   ],
   "metadata": {}
  },
  {
   "cell_type": "markdown",
   "source": [
    "First we setup our problem"
   ],
   "metadata": {}
  },
  {
   "outputs": [],
   "cell_type": "code",
   "source": [
    "using DFTK\n",
    "using LinearAlgebra\n",
    "\n",
    "a = 10.26  # Silicon lattice constant in Bohr\n",
    "lattice = a / 2 * [[0 1 1.];\n",
    "                   [1 0 1.];\n",
    "                   [1 1 0.]]\n",
    "Si = ElementPsp(:Si, psp=load_psp(\"hgh/lda/Si-q4\"))\n",
    "atoms     = [Si, Si]\n",
    "positions = [ones(3)/8, -ones(3)/8]\n",
    "\n",
    "model = model_LDA(lattice, atoms, positions)\n",
    "basis = PlaneWaveBasis(model; Ecut=5, kgrid=[3, 3, 3])\n",
    "\n",
    "# Convergence we desire\n",
    "tol = 1e-12\n",
    "is_converged = DFTK.ScfConvergenceDensity(tol);"
   ],
   "metadata": {},
   "execution_count": 1
  },
  {
   "cell_type": "markdown",
   "source": [
    "## Density-based self-consistent field"
   ],
   "metadata": {}
  },
  {
   "outputs": [
    {
     "name": "stdout",
     "output_type": "stream",
     "text": [
      "n     Energy            log10(ΔE)   log10(Δρ)   Diag\n",
      "---   ---------------   ---------   ---------   ----\n",
      "  1   -7.846824180876                   -0.70    4.5\n",
      "  2   -7.852321776866       -2.26       -1.53    1.0\n",
      "  3   -7.852646004122       -3.49       -2.52    3.2\n",
      "  4   -7.852646677169       -6.17       -3.35    2.5\n",
      "  5   -7.852646685908       -8.06       -4.76    1.2\n",
      "  6   -7.852646686726       -9.09       -5.25    4.0\n",
      "  7   -7.852646686730      -11.46       -5.98    2.0\n",
      "  8   -7.852646686730      -12.62       -7.59    2.0\n",
      "  9   -7.852646686730   +  -14.75       -7.98    3.0\n",
      " 10   -7.852646686730      -15.05       -9.02    2.5\n",
      " 11   -7.852646686730   +  -14.57      -10.02    1.5\n",
      " 12   -7.852646686730      -14.27      -10.68    3.5\n",
      " 13   -7.852646686730   +  -14.75      -12.04    1.0\n"
     ]
    }
   ],
   "cell_type": "code",
   "source": [
    "scfres_scf = self_consistent_field(basis; is_converged);"
   ],
   "metadata": {},
   "execution_count": 2
  },
  {
   "cell_type": "markdown",
   "source": [
    "## Potential-based SCF"
   ],
   "metadata": {}
  },
  {
   "outputs": [
    {
     "name": "stdout",
     "output_type": "stream",
     "text": [
      "n     Energy            log10(ΔE)   log10(Δρ)   α      Diag\n",
      "---   ---------------   ---------   ---------   ----   ----\n",
      "  1   -7.846808767076                   -0.70           4.8\n",
      "  2   -7.852525116588       -2.24       -1.63   0.80    2.0\n",
      "  3   -7.852636418326       -3.95       -2.71   0.80    1.0\n",
      "  4   -7.852646521671       -5.00       -3.30   0.80    2.2\n",
      "  5   -7.852646682671       -6.79       -4.17   0.80    1.2\n",
      "  6   -7.852646686437       -8.42       -4.88   0.80    1.5\n",
      "  7   -7.852646686725       -9.54       -5.81   0.80    2.0\n",
      "  8   -7.852646686730      -11.34       -6.74   0.80    2.0\n",
      "  9   -7.852646686730      -12.76       -7.44   0.80    2.5\n",
      " 10   -7.852646686730      -14.75       -8.92   0.80    1.5\n",
      " 11   -7.852646686730      -14.57       -8.53   0.80    3.2\n",
      " 12   -7.852646686730   +  -14.75       -8.95   0.80    1.8\n",
      " 13   -7.852646686730   +  -15.05       -9.87   0.80    1.0\n",
      " 14   -7.852646686730   +  -15.05      -10.93   0.80    1.2\n",
      " 15   -7.852646686730      -15.05      -11.64   0.80    2.2\n",
      " 16   -7.852646686730      -14.57      -12.18   0.80    1.8\n"
     ]
    }
   ],
   "cell_type": "code",
   "source": [
    "scfres_scfv = DFTK.scf_potential_mixing(basis; is_converged);"
   ],
   "metadata": {},
   "execution_count": 3
  },
  {
   "cell_type": "markdown",
   "source": [
    "## Direct minimization"
   ],
   "metadata": {}
  },
  {
   "outputs": [
    {
     "name": "stdout",
     "output_type": "stream",
     "text": [
      "Iter     Function value   Gradient norm \n",
      "     0     1.449603e+01     4.243853e+00\n",
      " * time: 0.5199978351593018\n",
      "     1     1.625171e+00     1.762913e+00\n",
      " * time: 0.7941279411315918\n",
      "     2    -1.925300e+00     1.912386e+00\n",
      " * time: 0.8231749534606934\n",
      "     3    -3.734570e+00     1.686054e+00\n",
      " * time: 0.8654317855834961\n",
      "     4    -5.231406e+00     1.503725e+00\n",
      " * time: 0.906721830368042\n",
      "     5    -6.618231e+00     9.446210e-01\n",
      " * time: 0.9547607898712158\n",
      "     6    -7.227718e+00     5.452916e-01\n",
      " * time: 0.9977920055389404\n",
      "     7    -7.502033e+00     4.120428e-01\n",
      " * time: 1.0408217906951904\n",
      "     8    -7.638555e+00     1.507858e-01\n",
      " * time: 1.0790138244628906\n",
      "     9    -7.726615e+00     1.643631e-01\n",
      " * time: 1.108285903930664\n",
      "    10    -7.769841e+00     1.173319e-01\n",
      " * time: 1.1380939483642578\n",
      "    11    -7.797787e+00     1.012401e-01\n",
      " * time: 1.167923927307129\n",
      "    12    -7.827237e+00     5.917782e-02\n",
      " * time: 1.1973178386688232\n",
      "    13    -7.843578e+00     2.816654e-02\n",
      " * time: 1.2273509502410889\n",
      "    14    -7.849221e+00     2.188554e-02\n",
      " * time: 1.2566099166870117\n",
      "    15    -7.851418e+00     2.146685e-02\n",
      " * time: 1.2855777740478516\n",
      "    16    -7.852133e+00     1.111043e-02\n",
      " * time: 1.3146319389343262\n",
      "    17    -7.852475e+00     5.729591e-03\n",
      " * time: 1.3438999652862549\n",
      "    18    -7.852592e+00     4.426407e-03\n",
      " * time: 1.3730578422546387\n",
      "    19    -7.852629e+00     2.578438e-03\n",
      " * time: 1.5131587982177734\n",
      "    20    -7.852641e+00     1.439272e-03\n",
      " * time: 1.5419588088989258\n",
      "    21    -7.852645e+00     6.797998e-04\n",
      " * time: 1.573265790939331\n",
      "    22    -7.852646e+00     3.935337e-04\n",
      " * time: 1.6041219234466553\n",
      "    23    -7.852646e+00     2.480390e-04\n",
      " * time: 1.6364848613739014\n",
      "    24    -7.852647e+00     1.389640e-04\n",
      " * time: 1.667590856552124\n",
      "    25    -7.852647e+00     8.414571e-05\n",
      " * time: 1.698368787765503\n",
      "    26    -7.852647e+00     6.234313e-05\n",
      " * time: 1.7274219989776611\n",
      "    27    -7.852647e+00     3.306750e-05\n",
      " * time: 1.7580678462982178\n",
      "    28    -7.852647e+00     2.186256e-05\n",
      " * time: 1.787827968597412\n",
      "    29    -7.852647e+00     9.529775e-06\n",
      " * time: 1.8169009685516357\n",
      "    30    -7.852647e+00     5.305744e-06\n",
      " * time: 1.8468248844146729\n",
      "    31    -7.852647e+00     3.839121e-06\n",
      " * time: 1.8763599395751953\n",
      "    32    -7.852647e+00     1.928043e-06\n",
      " * time: 1.9101958274841309\n",
      "    33    -7.852647e+00     1.247961e-06\n",
      " * time: 1.9394428730010986\n",
      "    34    -7.852647e+00     9.754124e-07\n",
      " * time: 1.9685227870941162\n",
      "    35    -7.852647e+00     3.675436e-07\n",
      " * time: 2.0034258365631104\n",
      "    36    -7.852647e+00     1.791464e-07\n",
      " * time: 2.0381968021392822\n",
      "    37    -7.852647e+00     1.409986e-07\n",
      " * time: 2.067464828491211\n",
      "    38    -7.852647e+00     8.155210e-08\n",
      " * time: 2.107158899307251\n",
      "    39    -7.852647e+00     5.066817e-08\n",
      " * time: 2.1426339149475098\n",
      "    40    -7.852647e+00     3.413352e-08\n",
      " * time: 2.1715219020843506\n",
      "    41    -7.852647e+00     3.413351e-08\n",
      " * time: 2.318598985671997\n"
     ]
    }
   ],
   "cell_type": "code",
   "source": [
    "scfres_dm = direct_minimization(basis; tol);"
   ],
   "metadata": {},
   "execution_count": 4
  },
  {
   "cell_type": "markdown",
   "source": [
    "## Newton algorithm"
   ],
   "metadata": {}
  },
  {
   "cell_type": "markdown",
   "source": [
    "Start not too far from the solution to ensure convergence:\n",
    "We run first a very crude SCF to get close and then switch to Newton."
   ],
   "metadata": {}
  },
  {
   "outputs": [
    {
     "name": "stdout",
     "output_type": "stream",
     "text": [
      "n     Energy            log10(ΔE)   log10(Δρ)   Diag\n",
      "---   ---------------   ---------   ---------   ----\n",
      "  1   -7.846863435525                   -0.70    4.5\n",
      "  2   -7.852316340985       -2.26       -1.53    1.0\n"
     ]
    }
   ],
   "cell_type": "code",
   "source": [
    "scfres_start = self_consistent_field(basis; tol=1e-1);"
   ],
   "metadata": {},
   "execution_count": 5
  },
  {
   "cell_type": "markdown",
   "source": [
    "Remove the virtual orbitals (which Newton cannot treat yet)"
   ],
   "metadata": {}
  },
  {
   "outputs": [
    {
     "name": "stdout",
     "output_type": "stream",
     "text": [
      "n     Energy            log10(ΔE)   log10(Δρ)\n",
      "---   ---------------   ---------   ---------\n",
      "  1   -7.852646686712                   -2.53\n",
      "  2   -7.852646686730      -10.76       -6.03\n",
      "  3   -7.852646686730      -15.05      -12.67\n"
     ]
    }
   ],
   "cell_type": "code",
   "source": [
    "ψ = DFTK.select_occupied_orbitals(basis, scfres_start.ψ, scfres_start.occupation).ψ\n",
    "scfres_newton = newton(basis, ψ; tol);"
   ],
   "metadata": {},
   "execution_count": 6
  },
  {
   "cell_type": "markdown",
   "source": [
    "## Comparison of results"
   ],
   "metadata": {}
  },
  {
   "outputs": [
    {
     "name": "stdout",
     "output_type": "stream",
     "text": [
      "|ρ_newton - ρ_scf|  = 2.1730912787263513e-13\n",
      "|ρ_newton - ρ_scfv| = 2.289463869389103e-13\n",
      "|ρ_newton - ρ_dm|   = 1.3060480679730836e-9\n"
     ]
    }
   ],
   "cell_type": "code",
   "source": [
    "println(\"|ρ_newton - ρ_scf|  = \", norm(scfres_newton.ρ - scfres_scf.ρ))\n",
    "println(\"|ρ_newton - ρ_scfv| = \", norm(scfres_newton.ρ - scfres_scfv.ρ))\n",
    "println(\"|ρ_newton - ρ_dm|   = \", norm(scfres_newton.ρ - scfres_dm.ρ))"
   ],
   "metadata": {},
   "execution_count": 7
  }
 ],
 "nbformat_minor": 3,
 "metadata": {
  "language_info": {
   "file_extension": ".jl",
   "mimetype": "application/julia",
   "name": "julia",
   "version": "1.8.2"
  },
  "kernelspec": {
   "name": "julia-1.8",
   "display_name": "Julia 1.8.2",
   "language": "julia"
  }
 },
 "nbformat": 4
}
