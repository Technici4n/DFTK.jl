{
 "cells": [
  {
   "cell_type": "markdown",
   "source": [
    "# Eigenvalues of the dielectric matrix\n",
    "\n",
    "We compute a few eigenvalues of the dielectric matrix ($q=0$, $ω=0$) iteratively."
   ],
   "metadata": {}
  },
  {
   "outputs": [
    {
     "name": "stdout",
     "output_type": "stream",
     "text": [
      "n     Energy            log10(ΔE)   log10(Δρ)   Diag\n",
      "---   ---------------   ---------   ---------   ----\n",
      "  1   -7.235537864711                   -0.50    7.0\n",
      "  2   -7.250436869041       -1.83       -1.41    1.0\n",
      "  3   -7.251300696017       -3.06       -2.15    3.0\n",
      "  4   -7.251225566740   +   -4.12       -2.12    3.0\n",
      "  5   -7.251333076826       -3.97       -2.77    2.0\n",
      "  6   -7.251338138310       -5.30       -3.18    2.0\n",
      "  7   -7.251338783411       -6.19       -4.04    1.0\n",
      "  8   -7.251338796286       -7.89       -4.36    4.0\n",
      "  9   -7.251338798592       -8.64       -5.05    2.0\n",
      " 10   -7.251338798694       -9.99       -5.57    3.0\n",
      " 11   -7.251338798702      -11.07       -5.86    4.0\n",
      " 12   -7.251338798704      -11.70       -6.27    2.0\n",
      " 13   -7.251338798705      -12.49       -6.91    3.0\n",
      " 14   -7.251338798705      -13.85       -7.29    2.0\n",
      " 15   -7.251338798705      -14.75       -7.67    2.0\n"
     ]
    }
   ],
   "cell_type": "code",
   "source": [
    "using DFTK\n",
    "using Plots\n",
    "using KrylovKit\n",
    "using Printf\n",
    "\n",
    "# Calculation parameters\n",
    "kgrid = [1, 1, 1]\n",
    "Ecut = 5\n",
    "\n",
    "# Silicon lattice\n",
    "a = 10.26\n",
    "lattice = a / 2 .* [[0 1 1.]; [1 0 1.]; [1 1 0.]]\n",
    "Si = ElementPsp(:Si, psp=load_psp(\"hgh/lda/Si-q4\"))\n",
    "atoms     = [Si, Si]\n",
    "positions = [ones(3)/8, -ones(3)/8]\n",
    "\n",
    "# Compute the dielectric operator without symmetries\n",
    "model = model_LDA(lattice, atoms, positions, symmetries=false)\n",
    "basis = PlaneWaveBasis(model; Ecut, kgrid)\n",
    "scfres = self_consistent_field(basis, tol=1e-14);"
   ],
   "metadata": {},
   "execution_count": 1
  },
  {
   "cell_type": "markdown",
   "source": [
    "Applying $ε^† ≔ (1- χ_0 K)$ …"
   ],
   "metadata": {}
  },
  {
   "outputs": [],
   "cell_type": "code",
   "source": [
    "function eps_fun(δρ)\n",
    "    δV = apply_kernel(basis, δρ; ρ=scfres.ρ)\n",
    "    χ0δV = apply_χ0(scfres, δV)\n",
    "    δρ - χ0δV\n",
    "end;"
   ],
   "metadata": {},
   "execution_count": 2
  },
  {
   "cell_type": "markdown",
   "source": [
    "… eagerly diagonalizes the subspace matrix at each iteration"
   ],
   "metadata": {}
  },
  {
   "outputs": [
    {
     "name": "stdout",
     "output_type": "stream",
     "text": [
      "[ Info: Arnoldi iteration step 1: normres = 0.0474662890419271\n",
      "[ Info: Arnoldi iteration step 2: normres = 0.44268229712448653\n",
      "[ Info: Arnoldi iteration step 3: normres = 0.8059301862146155\n",
      "[ Info: Arnoldi iteration step 4: normres = 0.4257097464568376\n",
      "[ Info: Arnoldi iteration step 5: normres = 0.5364807294115723\n",
      "[ Info: Arnoldi schursolve in iter 1, krylovdim = 5: 0 values converged, normres = (9.90e-02, 7.61e-02, 4.18e-01, 3.11e-01, 2.15e-02)\n",
      "[ Info: Arnoldi iteration step 6: normres = 0.3076366046031801\n",
      "[ Info: Arnoldi schursolve in iter 1, krylovdim = 6: 0 values converged, normres = (2.67e-02, 1.79e-01, 2.07e-01, 9.63e-02, 8.54e-02)\n",
      "[ Info: Arnoldi iteration step 7: normres = 0.10101883010858068\n",
      "[ Info: Arnoldi schursolve in iter 1, krylovdim = 7: 0 values converged, normres = (1.34e-03, 1.88e-02, 1.47e-02, 5.53e-02, 7.12e-02)\n",
      "[ Info: Arnoldi iteration step 8: normres = 0.1061121951218525\n",
      "[ Info: Arnoldi schursolve in iter 1, krylovdim = 8: 0 values converged, normres = (6.29e-05, 1.48e-03, 1.29e-03, 2.33e-02, 5.27e-02)\n",
      "[ Info: Arnoldi iteration step 9: normres = 0.05130763488564013\n",
      "[ Info: Arnoldi schursolve in iter 1, krylovdim = 9: 0 values converged, normres = (1.37e-06, 5.23e-05, 5.04e-05, 3.67e-03, 1.44e-02)\n",
      "[ Info: Arnoldi iteration step 10: normres = 0.07133595819498001\n",
      "[ Info: Arnoldi schursolve in iter 1, krylovdim = 10: 0 values converged, normres = (4.20e-08, 2.63e-06, 2.82e-06, 8.15e-04, 5.93e-03)\n",
      "[ Info: Arnoldi iteration step 11: normres = 0.06944576410810466\n",
      "[ Info: Arnoldi schursolve in iter 1, krylovdim = 11: 0 values converged, normres = (1.23e-09, 1.25e-07, 1.47e-07, 1.53e-04, 1.95e-03)\n",
      "[ Info: Arnoldi iteration step 12: normres = 0.09157153093517834\n",
      "[ Info: Arnoldi schursolve in iter 1, krylovdim = 12: 0 values converged, normres = (4.92e-11, 8.30e-09, 1.09e-08, 5.05e-05, 1.46e-03)\n",
      "[ Info: Arnoldi iteration step 13: normres = 0.1074682398711576\n",
      "[ Info: Arnoldi schursolve in iter 1, krylovdim = 13: 0 values converged, normres = (2.28e-12, 6.33e-10, 9.24e-10, 1.82e-05, 1.35e-03)\n",
      "[ Info: Arnoldi iteration step 14: normres = 0.45974221779839397\n",
      "[ Info: Arnoldi schursolve in iter 1, krylovdim = 14: 1 values converged, normres = (8.85e-13, 1.06e-09, 3.14e-09, 4.57e-01, 5.51e-03)\n",
      "[ Info: Arnoldi iteration step 15: normres = 0.18959799249944354\n",
      "[ Info: Arnoldi schursolve in iter 1, krylovdim = 15: 1 values converged, normres = (8.28e-14, 4.00e-10, 6.68e-02, 5.01e-04, 6.38e-06)\n",
      "[ Info: Arnoldi iteration step 16: normres = 0.18068951293618635\n",
      "[ Info: Arnoldi schursolve in iter 1, krylovdim = 16: 1 values converged, normres = (1.53e-14, 5.02e-09, 1.35e-01, 1.67e-03, 1.16e-01)\n",
      "[ Info: Arnoldi iteration step 17: normres = 0.03471494216743394\n",
      "[ Info: Arnoldi schursolve in iter 1, krylovdim = 17: 1 values converged, normres = (2.23e-16, 1.91e-08, 3.33e-03, 2.49e-03, 8.18e-04)\n",
      "[ Info: Arnoldi iteration step 18: normres = 0.02321402840043814\n",
      "[ Info: Arnoldi schursolve in iter 1, krylovdim = 18: 1 values converged, normres = (2.15e-18, 1.43e-08, 5.14e-05, 2.82e-06, 4.46e-05)\n",
      "[ Info: Arnoldi iteration step 19: normres = 0.04345124692544913\n",
      "[ Info: Arnoldi schursolve in iter 1, krylovdim = 19: 1 values converged, normres = (3.83e-20, 1.40e-06, 4.20e-07, 8.32e-07, 1.13e-06)\n",
      "[ Info: Arnoldi iteration step 20: normres = 0.18488615701347993\n",
      "[ Info: Arnoldi schursolve in iter 1, krylovdim = 20: 1 values converged, normres = (3.32e-21, 1.65e-08, 2.19e-07, 2.21e-07, 8.57e-08)\n",
      "[ Info: Arnoldi iteration step 21: normres = 0.04228593940028624\n",
      "[ Info: Arnoldi schursolve in iter 1, krylovdim = 21: 1 values converged, normres = (6.23e-23, 6.97e-09, 3.01e-10, 8.09e-09, 2.39e-09)\n",
      "[ Info: Arnoldi iteration step 22: normres = 0.20884474563360908\n",
      "[ Info: Arnoldi schursolve in iter 1, krylovdim = 22: 1 values converged, normres = (5.42e-24, 9.72e-10, 8.29e-11, 1.20e-09, 5.06e-10)\n",
      "[ Info: Arnoldi iteration step 23: normres = 0.09859942138916176\n",
      "[ Info: Arnoldi schursolve in iter 1, krylovdim = 23: 1 values converged, normres = (5.01e-25, 6.05e-10, 4.72e-11, 7.10e-09, 2.16e-09)\n",
      "[ Info: Arnoldi iteration step 24: normres = 0.014190078216530184\n",
      "[ Info: Arnoldi schursolve in iter 1, krylovdim = 24: 1 values converged, normres = (2.95e-27, 6.27e-12, 5.15e-13, 2.48e-08, 1.46e-08)\n",
      "[ Info: Arnoldi iteration step 25: normres = 0.017870694653972948\n",
      "[ Info: Arnoldi schursolve in iter 1, krylovdim = 25: 3 values converged, normres = (2.16e-29, 7.30e-14, 6.03e-15, 4.24e-08, 1.04e-07)\n",
      "[ Info: Arnoldi iteration step 26: normres = 0.11621687871045633\n",
      "[ Info: Arnoldi schursolve in iter 1, krylovdim = 26: 3 values converged, normres = (1.08e-30, 5.97e-15, 4.93e-16, 2.36e-07, 1.09e-06)\n",
      "[ Info: Arnoldi iteration step 27: normres = 0.0259779495332861\n",
      "[ Info: Arnoldi schursolve in iter 1, krylovdim = 27: 3 values converged, normres = (1.22e-32, 1.12e-16, 9.22e-18, 1.10e-08, 5.45e-09)\n",
      "[ Info: Arnoldi iteration step 28: normres = 0.09892913222642499\n",
      "[ Info: Arnoldi schursolve in iter 1, krylovdim = 28: 3 values converged, normres = (5.05e-34, 7.49e-18, 6.19e-19, 1.04e-09, 1.36e-09)\n",
      "[ Info: Arnoldi iteration step 29: normres = 0.025592139906635725\n",
      "[ Info: Arnoldi schursolve in iter 1, krylovdim = 29: 3 values converged, normres = (5.62e-36, 1.38e-19, 1.14e-20, 2.07e-11, 2.86e-11)\n",
      "[ Info: Arnoldi iteration step 30: normres = 0.11607815930086963\n",
      "[ Info: Arnoldi schursolve in iter 1, krylovdim = 30: 3 values converged, normres = (2.74e-37, 1.08e-20, 8.95e-22, 1.79e-12, 2.48e-12)\n",
      "[ Info: Arnoldi schursolve in iter 2, krylovdim = 19: 3 values converged, normres = (2.74e-37, 1.08e-20, 8.95e-22, 1.79e-12, 2.48e-12)\n",
      "[ Info: Arnoldi iteration step 20: normres = 0.14396684488288278\n",
      "┌ Info: Arnoldi eigsolve finished after 2 iterations:\n",
      "│ *  6 eigenvalues converged\n",
      "│ *  norm of residuals = (1.8659863149344049e-38, 1.2969472261481694e-21, 5.526824970212001e-22, 2.432476018688402e-13, 3.091975104368523e-13, 1.9766585606288533e-13)\n",
      "└ *  number of operations = 31\n"
     ]
    }
   ],
   "cell_type": "code",
   "source": [
    "eigsolve(eps_fun, randn(size(scfres.ρ)), 5, :LM; eager=true, verbosity=3);"
   ],
   "metadata": {},
   "execution_count": 3
  }
 ],
 "nbformat_minor": 3,
 "metadata": {
  "language_info": {
   "file_extension": ".jl",
   "mimetype": "application/julia",
   "name": "julia",
   "version": "1.8.2"
  },
  "kernelspec": {
   "name": "julia-1.8",
   "display_name": "Julia 1.8.2",
   "language": "julia"
  }
 },
 "nbformat": 4
}
