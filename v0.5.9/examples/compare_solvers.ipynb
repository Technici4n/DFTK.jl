{
 "cells": [
  {
   "cell_type": "markdown",
   "source": [
    "# Comparison of DFT solvers"
   ],
   "metadata": {}
  },
  {
   "cell_type": "markdown",
   "source": [
    "We compare four different approaches for solving the DFT minimisation problem,\n",
    "namely a density-based SCF, a potential-based SCF, direct minimisation and Newton."
   ],
   "metadata": {}
  },
  {
   "cell_type": "markdown",
   "source": [
    "First we setup our problem"
   ],
   "metadata": {}
  },
  {
   "outputs": [],
   "cell_type": "code",
   "source": [
    "using DFTK\n",
    "using LinearAlgebra\n",
    "\n",
    "a = 10.26  # Silicon lattice constant in Bohr\n",
    "lattice = a / 2 * [[0 1 1.];\n",
    "                   [1 0 1.];\n",
    "                   [1 1 0.]]\n",
    "Si = ElementPsp(:Si, psp=load_psp(\"hgh/lda/Si-q4\"))\n",
    "atoms     = [Si, Si]\n",
    "positions = [ones(3)/8, -ones(3)/8]\n",
    "\n",
    "model = model_LDA(lattice, atoms, positions)\n",
    "basis = PlaneWaveBasis(model; Ecut=5, kgrid=[3, 3, 3])\n",
    "\n",
    "# Convergence we desire\n",
    "tol = 1e-12\n",
    "is_converged = DFTK.ScfConvergenceDensity(tol);"
   ],
   "metadata": {},
   "execution_count": 1
  },
  {
   "cell_type": "markdown",
   "source": [
    "## Density-based self-consistent field"
   ],
   "metadata": {}
  },
  {
   "outputs": [
    {
     "name": "stdout",
     "output_type": "stream",
     "text": [
      "n     Energy            log10(ΔE)   log10(Δρ)   Diag\n",
      "---   ---------------   ---------   ---------   ----\n",
      "  1   -7.846733772536                   -0.70    4.8\n",
      "  2   -7.852306649566       -2.25       -1.54    1.0\n",
      "  3   -7.852646200815       -3.47       -2.51    3.2\n",
      "  4   -7.852646676679       -6.32       -3.36    2.0\n",
      "  5   -7.852646686041       -8.03       -4.68    1.8\n",
      "  6   -7.852646686725       -9.16       -5.33    3.2\n",
      "  7   -7.852646686730      -11.36       -6.10    1.2\n",
      "  8   -7.852646686730      -12.66       -7.77    2.2\n",
      "  9   -7.852646686730      -14.35       -7.66    2.8\n",
      " 10   -7.852646686730   +  -15.05       -8.65    2.2\n",
      " 11   -7.852646686730   +  -14.75       -9.14    1.5\n",
      " 12   -7.852646686730   +    -Inf      -10.36    2.2\n",
      " 13   -7.852646686730      -15.05      -10.95    3.0\n",
      " 14   -7.852646686730   +  -15.05      -11.65    1.8\n",
      " 15   -7.852646686730   +  -14.75      -12.17    2.0\n"
     ]
    }
   ],
   "cell_type": "code",
   "source": [
    "scfres_scf = self_consistent_field(basis; is_converged);"
   ],
   "metadata": {},
   "execution_count": 2
  },
  {
   "cell_type": "markdown",
   "source": [
    "## Potential-based SCF"
   ],
   "metadata": {}
  },
  {
   "outputs": [
    {
     "name": "stdout",
     "output_type": "stream",
     "text": [
      "n     Energy            log10(ΔE)   log10(Δρ)   α      Diag\n",
      "---   ---------------   ---------   ---------   ----   ----\n",
      "  1   -7.846853492606                   -0.70           4.8\n",
      "  2   -7.852526808357       -2.25       -1.64   0.80    2.0\n",
      "  3   -7.852635620944       -3.96       -2.74   0.80    1.0\n",
      "  4   -7.852646460419       -4.96       -3.23   0.80    2.2\n",
      "  5   -7.852646666935       -6.69       -4.05   0.80    1.0\n",
      "  6   -7.852646686306       -7.71       -4.70   0.80    1.8\n",
      "  7   -7.852646686717       -9.39       -5.43   0.80    2.0\n",
      "  8   -7.852646686729      -10.90       -6.73   0.80    1.8\n",
      "  9   -7.852646686730      -12.38       -7.60   0.80    2.8\n",
      " 10   -7.852646686730      -14.57       -8.16   0.80    2.0\n",
      " 11   -7.852646686730   +    -Inf       -9.17   0.80    1.8\n",
      " 12   -7.852646686730   +  -15.05       -9.31   0.80    2.2\n",
      " 13   -7.852646686730   +    -Inf       -9.99   0.80    1.0\n",
      " 14   -7.852646686730      -15.05      -11.47   0.80    1.2\n",
      " 15   -7.852646686730      -14.75      -11.50   0.80    3.2\n",
      " 16   -7.852646686730      -15.05      -12.36   0.80    1.0\n"
     ]
    }
   ],
   "cell_type": "code",
   "source": [
    "scfres_scfv = DFTK.scf_potential_mixing(basis; is_converged);"
   ],
   "metadata": {},
   "execution_count": 3
  },
  {
   "cell_type": "markdown",
   "source": [
    "## Direct minimization"
   ],
   "metadata": {}
  },
  {
   "outputs": [
    {
     "name": "stdout",
     "output_type": "stream",
     "text": [
      "Iter     Function value   Gradient norm \n",
      "     0     1.395687e+01     3.864661e+00\n",
      " * time: 0.446962833404541\n",
      "     1     1.071167e+00     1.823008e+00\n",
      " * time: 0.6789309978485107\n",
      "     2    -1.710521e+00     1.901192e+00\n",
      " * time: 0.7054078578948975\n",
      "     3    -3.911697e+00     1.705978e+00\n",
      " * time: 0.7415950298309326\n",
      "     4    -5.393641e+00     1.628686e+00\n",
      " * time: 0.7781398296356201\n",
      "     5    -6.932559e+00     9.102782e-01\n",
      " * time: 0.8183658123016357\n",
      "     6    -7.178674e+00     1.255233e+00\n",
      " * time: 0.8466508388519287\n",
      "     7    -7.642353e+00     9.633604e-01\n",
      " * time: 0.8731679916381836\n",
      "     8    -7.719119e+00     1.122243e+00\n",
      " * time: 0.8990168571472168\n",
      "     9    -7.758808e+00     7.774013e-01\n",
      " * time: 0.9253659248352051\n",
      "    10    -7.781798e+00     8.788101e-01\n",
      " * time: 0.9514050483703613\n",
      "    11    -7.807279e+00     3.977341e-01\n",
      " * time: 0.9773948192596436\n",
      "    12    -7.821200e+00     2.183187e-01\n",
      " * time: 1.003161907196045\n",
      "    13    -7.832327e+00     8.908533e-02\n",
      " * time: 1.0303068161010742\n",
      "    14    -7.848551e+00     1.016824e-01\n",
      " * time: 1.0586268901824951\n",
      "    15    -7.850690e+00     4.732502e-02\n",
      " * time: 1.0839338302612305\n",
      "    16    -7.852055e+00     1.992488e-02\n",
      " * time: 1.1108479499816895\n",
      "    17    -7.852445e+00     1.545107e-02\n",
      " * time: 1.136646032333374\n",
      "    18    -7.852603e+00     4.480381e-03\n",
      " * time: 1.1620240211486816\n",
      "    19    -7.852630e+00     3.593640e-03\n",
      " * time: 1.1878750324249268\n",
      "    20    -7.852641e+00     1.848313e-03\n",
      " * time: 1.215634822845459\n",
      "    21    -7.852646e+00     8.235709e-04\n",
      " * time: 1.2411448955535889\n",
      "    22    -7.852646e+00     3.903010e-04\n",
      " * time: 1.2664408683776855\n",
      "    23    -7.852646e+00     3.514184e-04\n",
      " * time: 1.293591022491455\n",
      "    24    -7.852647e+00     2.287094e-04\n",
      " * time: 1.3212108612060547\n",
      "    25    -7.852647e+00     1.271051e-04\n",
      " * time: 1.3499839305877686\n",
      "    26    -7.852647e+00     5.836553e-05\n",
      " * time: 1.377126932144165\n",
      "    27    -7.852647e+00     4.984735e-05\n",
      " * time: 1.4044740200042725\n",
      "    28    -7.852647e+00     2.524943e-05\n",
      " * time: 1.4330270290374756\n",
      "    29    -7.852647e+00     1.247889e-05\n",
      " * time: 1.4664928913116455\n",
      "    30    -7.852647e+00     9.463795e-06\n",
      " * time: 1.495055913925171\n",
      "    31    -7.852647e+00     3.710442e-06\n",
      " * time: 1.5228419303894043\n",
      "    32    -7.852647e+00     3.067004e-06\n",
      " * time: 1.5491750240325928\n",
      "    33    -7.852647e+00     1.554699e-06\n",
      " * time: 1.659930944442749\n",
      "    34    -7.852647e+00     7.201846e-07\n",
      " * time: 1.6850378513336182\n",
      "    35    -7.852647e+00     5.298481e-07\n",
      " * time: 1.7101390361785889\n",
      "    36    -7.852647e+00     2.426836e-07\n",
      " * time: 1.7368578910827637\n",
      "    37    -7.852647e+00     1.072389e-07\n",
      " * time: 1.7621479034423828\n",
      "    38    -7.852647e+00     7.141146e-08\n",
      " * time: 1.7875049114227295\n",
      "    39    -7.852647e+00     4.084584e-08\n",
      " * time: 1.814702033996582\n",
      "    40    -7.852647e+00     2.956395e-08\n",
      " * time: 1.8412108421325684\n",
      "    41    -7.852647e+00     1.366786e-08\n",
      " * time: 1.8684608936309814\n",
      "    42    -7.852647e+00     1.359463e-08\n",
      " * time: 1.9378068447113037\n",
      "    43    -7.852647e+00     1.359405e-08\n",
      " * time: 2.0274059772491455\n"
     ]
    }
   ],
   "cell_type": "code",
   "source": [
    "scfres_dm = direct_minimization(basis; tol);"
   ],
   "metadata": {},
   "execution_count": 4
  },
  {
   "cell_type": "markdown",
   "source": [
    "## Newton algorithm"
   ],
   "metadata": {}
  },
  {
   "cell_type": "markdown",
   "source": [
    "Start not too far from the solution to ensure convergence:\n",
    "We run first a very crude SCF to get close and then switch to Newton."
   ],
   "metadata": {}
  },
  {
   "outputs": [
    {
     "name": "stdout",
     "output_type": "stream",
     "text": [
      "n     Energy            log10(ΔE)   log10(Δρ)   Diag\n",
      "---   ---------------   ---------   ---------   ----\n",
      "  1   -7.846829849715                   -0.70    4.8\n",
      "  2   -7.852320836523       -2.26       -1.53    1.0\n"
     ]
    }
   ],
   "cell_type": "code",
   "source": [
    "scfres_start = self_consistent_field(basis; tol=1e-1);"
   ],
   "metadata": {},
   "execution_count": 5
  },
  {
   "cell_type": "markdown",
   "source": [
    "Remove the virtual orbitals (which Newton cannot treat yet)"
   ],
   "metadata": {}
  },
  {
   "outputs": [
    {
     "name": "stdout",
     "output_type": "stream",
     "text": [
      "n     Energy            log10(ΔE)   log10(Δρ)\n",
      "---   ---------------   ---------   ---------\n",
      "  1   -7.852646686712                   -2.54\n",
      "  2   -7.852646686730      -10.76       -5.99\n",
      "  3   -7.852646686730   +    -Inf      -12.68\n"
     ]
    }
   ],
   "cell_type": "code",
   "source": [
    "ψ, _ = DFTK.select_occupied_orbitals(basis, scfres_start.ψ, scfres_start.occupation)\n",
    "scfres_newton = newton(basis, ψ; tol);"
   ],
   "metadata": {},
   "execution_count": 6
  },
  {
   "cell_type": "markdown",
   "source": [
    "## Comparison of results"
   ],
   "metadata": {}
  },
  {
   "outputs": [
    {
     "name": "stdout",
     "output_type": "stream",
     "text": [
      "|ρ_newton - ρ_scf|  = 4.837090262825468e-13\n",
      "|ρ_newton - ρ_scfv| = 8.787592370075528e-13\n",
      "|ρ_newton - ρ_dm|   = 2.433994865530496e-9\n"
     ]
    }
   ],
   "cell_type": "code",
   "source": [
    "println(\"|ρ_newton - ρ_scf|  = \", norm(scfres_newton.ρ - scfres_scf.ρ))\n",
    "println(\"|ρ_newton - ρ_scfv| = \", norm(scfres_newton.ρ - scfres_scfv.ρ))\n",
    "println(\"|ρ_newton - ρ_dm|   = \", norm(scfres_newton.ρ - scfres_dm.ρ))"
   ],
   "metadata": {},
   "execution_count": 7
  }
 ],
 "nbformat_minor": 3,
 "metadata": {
  "language_info": {
   "file_extension": ".jl",
   "mimetype": "application/julia",
   "name": "julia",
   "version": "1.8.2"
  },
  "kernelspec": {
   "name": "julia-1.8",
   "display_name": "Julia 1.8.2",
   "language": "julia"
  }
 },
 "nbformat": 4
}
