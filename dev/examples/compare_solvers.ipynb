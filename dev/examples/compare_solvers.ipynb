{
 "cells": [
  {
   "cell_type": "markdown",
   "source": [
    "# Comparison of DFT solvers"
   ],
   "metadata": {}
  },
  {
   "cell_type": "markdown",
   "source": [
    "We compare four different approaches for solving the DFT minimisation problem,\n",
    "namely a density-based SCF, a potential-based SCF, direct minimisation and Newton."
   ],
   "metadata": {}
  },
  {
   "cell_type": "markdown",
   "source": [
    "First we setup our problem"
   ],
   "metadata": {}
  },
  {
   "outputs": [
    {
     "output_type": "execute_result",
     "data": {
      "text/plain": "1.0e-6"
     },
     "metadata": {},
     "execution_count": 1
    }
   ],
   "cell_type": "code",
   "source": [
    "using DFTK\n",
    "using LinearAlgebra\n",
    "\n",
    "a = 10.26  # Silicon lattice constant in Bohr\n",
    "lattice = a / 2 * [[0 1 1.];\n",
    "                   [1 0 1.];\n",
    "                   [1 1 0.]]\n",
    "Si = ElementPsp(:Si, psp=load_psp(\"hgh/lda/Si-q4\"))\n",
    "atoms     = [Si, Si]\n",
    "positions = [ones(3)/8, -ones(3)/8]\n",
    "\n",
    "model = model_LDA(lattice, atoms, positions)\n",
    "basis = PlaneWaveBasis(model; Ecut=5, kgrid=[3, 3, 3])\n",
    "\n",
    "# Convergence we desire in the density\n",
    "tol = 1e-6"
   ],
   "metadata": {},
   "execution_count": 1
  },
  {
   "cell_type": "markdown",
   "source": [
    "## Density-based self-consistent field"
   ],
   "metadata": {}
  },
  {
   "outputs": [
    {
     "name": "stdout",
     "output_type": "stream",
     "text": [
      "n     Energy            log10(ΔE)   log10(Δρ)   Diag   Δtime\n",
      "---   ---------------   ---------   ---------   ----   ------\n",
      "  1   -7.846864398270                   -0.70    4.8         \n",
      "  2   -7.852324278977       -2.26       -1.53    1.0   25.6ms\n",
      "  3   -7.852614677564       -3.54       -2.56    1.5   28.2ms\n",
      "  4   -7.852646002003       -4.50       -2.88    2.5   35.4ms\n",
      "  5   -7.852646496544       -6.31       -3.16    1.0   96.8ms\n",
      "  6   -7.852646680324       -6.74       -4.11    1.2   27.9ms\n",
      "  7   -7.852646686638       -8.20       -5.12    2.0   33.1ms\n",
      "  8   -7.852646686726      -10.06       -5.56    1.8   30.8ms\n",
      "  9   -7.852646686728      -11.66       -5.68    1.2   27.7ms\n",
      " 10   -7.852646686730      -11.79       -6.79    1.0   26.2ms\n"
     ]
    }
   ],
   "cell_type": "code",
   "source": [
    "scfres_scf = self_consistent_field(basis; tol);"
   ],
   "metadata": {},
   "execution_count": 2
  },
  {
   "cell_type": "markdown",
   "source": [
    "## Potential-based SCF"
   ],
   "metadata": {}
  },
  {
   "outputs": [
    {
     "name": "stdout",
     "output_type": "stream",
     "text": [
      "n     Energy            log10(ΔE)   log10(Δρ)   α      Diag   Δtime\n",
      "---   ---------------   ---------   ---------   ----   ----   ------\n",
      "  1   -7.846879583667                   -0.70           4.8         \n",
      "  2   -7.852551661120       -2.25       -1.64   0.80    2.0    280ms\n",
      "  3   -7.852637796281       -4.06       -2.76   0.80    1.0   25.6ms\n",
      "  4   -7.852646569638       -5.06       -3.31   0.80    2.0   31.7ms\n",
      "  5   -7.852646678820       -6.96       -4.19   0.80    1.2   25.7ms\n",
      "  6   -7.852646686527       -8.11       -4.83   0.80    1.8   30.0ms\n",
      "  7   -7.852646686718       -9.72       -5.55   0.80    1.8    107ms\n",
      "  8   -7.852646686730      -10.94       -6.68   0.80    2.0   30.2ms\n"
     ]
    }
   ],
   "cell_type": "code",
   "source": [
    "scfres_scfv = DFTK.scf_potential_mixing(basis; tol);"
   ],
   "metadata": {},
   "execution_count": 3
  },
  {
   "cell_type": "markdown",
   "source": [
    "## Direct minimization\n",
    "Note: Unlike the other algorithms, tolerance for this one is in the energy,\n",
    "thus we square the density tolerance value to be roughly equivalent."
   ],
   "metadata": {}
  },
  {
   "outputs": [
    {
     "name": "stdout",
     "output_type": "stream",
     "text": [
      "Iter     Function value   Gradient norm \n",
      "     0     1.387763e+01     4.100265e+00\n",
      " * time: 0.06656002998352051\n",
      "     1     1.461007e+00     2.058485e+00\n",
      " * time: 0.30220603942871094\n",
      "     2    -1.703875e+00     2.479936e+00\n",
      " * time: 0.3268890380859375\n",
      "     3    -3.604539e+00     2.055749e+00\n",
      " * time: 0.3623771667480469\n",
      "     4    -4.861020e+00     2.014965e+00\n",
      " * time: 0.3978590965270996\n",
      "     5    -6.493761e+00     1.315029e+00\n",
      " * time: 0.4342069625854492\n",
      "     6    -7.180420e+00     1.084283e+00\n",
      " * time: 0.470203161239624\n",
      "     7    -7.414416e+00     1.625344e+00\n",
      " * time: 0.49544811248779297\n",
      "     8    -7.503117e+00     1.384841e+00\n",
      " * time: 0.5206341743469238\n",
      "     9    -7.588632e+00     2.611082e+00\n",
      " * time: 0.5460879802703857\n",
      "    10    -7.668138e+00     2.439695e+00\n",
      " * time: 0.5716490745544434\n",
      "    11    -7.731010e+00     7.454065e-01\n",
      " * time: 0.6191070079803467\n",
      "    12    -7.745108e+00     1.330413e+00\n",
      " * time: 0.6554319858551025\n",
      "    13    -7.808243e+00     5.525375e-01\n",
      " * time: 0.6808409690856934\n",
      "    14    -7.818541e+00     2.921471e-01\n",
      " * time: 0.7175259590148926\n",
      "    15    -7.839870e+00     5.325555e-02\n",
      " * time: 0.7428410053253174\n",
      "    16    -7.848627e+00     4.558708e-02\n",
      " * time: 0.7689011096954346\n",
      "    17    -7.850941e+00     2.808103e-02\n",
      " * time: 0.794335126876831\n",
      "    18    -7.851784e+00     2.214297e-02\n",
      " * time: 0.8195950984954834\n",
      "    19    -7.852297e+00     2.313470e-02\n",
      " * time: 0.8451390266418457\n",
      "    20    -7.852526e+00     1.438033e-02\n",
      " * time: 0.8708491325378418\n",
      "    21    -7.852601e+00     3.647280e-03\n",
      " * time: 0.8962099552154541\n",
      "    22    -7.852633e+00     2.110551e-03\n",
      " * time: 0.9218239784240723\n",
      "    23    -7.852643e+00     1.226890e-03\n",
      " * time: 0.9472870826721191\n",
      "    24    -7.852646e+00     6.943377e-04\n",
      " * time: 0.972588062286377\n",
      "    25    -7.852646e+00     7.335881e-04\n",
      " * time: 0.9983351230621338\n",
      "    26    -7.852646e+00     2.184235e-04\n",
      " * time: 1.0237770080566406\n",
      "    27    -7.852647e+00     1.763062e-04\n",
      " * time: 1.0496160984039307\n",
      "    28    -7.852647e+00     1.404588e-04\n",
      " * time: 1.0752551555633545\n",
      "    29    -7.852647e+00     6.509101e-05\n",
      " * time: 1.1012351512908936\n",
      "    30    -7.852647e+00     5.747242e-05\n",
      " * time: 1.1272001266479492\n",
      "    31    -7.852647e+00     1.933129e-05\n",
      " * time: 1.1528370380401611\n",
      "    32    -7.852647e+00     8.087664e-06\n",
      " * time: 1.1785211563110352\n",
      "    33    -7.852647e+00     4.913543e-06\n",
      " * time: 1.2043771743774414\n",
      "    34    -7.852647e+00     4.170343e-06\n",
      " * time: 1.2301411628723145\n",
      "    35    -7.852647e+00     2.139089e-06\n",
      " * time: 1.2557520866394043\n",
      "    36    -7.852647e+00     1.393949e-06\n",
      " * time: 1.2811450958251953\n",
      "    37    -7.852647e+00     1.133654e-06\n",
      " * time: 1.3061420917510986\n",
      "    38    -7.852647e+00     4.753674e-07\n",
      " * time: 1.33188796043396\n",
      "    39    -7.852647e+00     2.726986e-07\n",
      " * time: 1.357314109802246\n",
      "    40    -7.852647e+00     1.664522e-07\n",
      " * time: 1.4541800022125244\n",
      "    41    -7.852647e+00     8.991629e-08\n",
      " * time: 1.4794631004333496\n",
      "    42    -7.852647e+00     5.715778e-08\n",
      " * time: 1.5043261051177979\n",
      "    43    -7.852647e+00     2.964889e-08\n",
      " * time: 1.5294461250305176\n",
      "    44    -7.852647e+00     1.737260e-08\n",
      " * time: 1.5549421310424805\n",
      "    45    -7.852647e+00     1.437890e-08\n",
      " * time: 1.5805120468139648\n",
      "    46    -7.852647e+00     1.370446e-08\n",
      " * time: 1.6273980140686035\n",
      "    47    -7.852647e+00     4.052421e-09\n",
      " * time: 1.6528081893920898\n"
     ]
    }
   ],
   "cell_type": "code",
   "source": [
    "scfres_dm = direct_minimization(basis; tol=tol^2);"
   ],
   "metadata": {},
   "execution_count": 4
  },
  {
   "cell_type": "markdown",
   "source": [
    "## Newton algorithm"
   ],
   "metadata": {}
  },
  {
   "cell_type": "markdown",
   "source": [
    "Start not too far from the solution to ensure convergence:\n",
    "We run first a very crude SCF to get close and then switch to Newton."
   ],
   "metadata": {}
  },
  {
   "outputs": [
    {
     "name": "stdout",
     "output_type": "stream",
     "text": [
      "n     Energy            log10(ΔE)   log10(Δρ)   Diag   Δtime\n",
      "---   ---------------   ---------   ---------   ----   ------\n",
      "  1   -7.846677794223                   -0.70    4.8         \n"
     ]
    }
   ],
   "cell_type": "code",
   "source": [
    "scfres_start = self_consistent_field(basis; tol=0.5);"
   ],
   "metadata": {},
   "execution_count": 5
  },
  {
   "cell_type": "markdown",
   "source": [
    "Remove the virtual orbitals (which Newton cannot treat yet)"
   ],
   "metadata": {}
  },
  {
   "outputs": [
    {
     "name": "stdout",
     "output_type": "stream",
     "text": [
      "n     Energy            log10(ΔE)   log10(Δρ)   Δtime\n",
      "---   ---------------   ---------   ---------   ------\n",
      "  1   -7.852645941494                   -1.64         \n",
      "  2   -7.852646686730       -6.13       -3.72    2.16s\n",
      "  3   -7.852646686730      -13.39       -7.27    184ms\n"
     ]
    }
   ],
   "cell_type": "code",
   "source": [
    "ψ = DFTK.select_occupied_orbitals(basis, scfres_start.ψ, scfres_start.occupation).ψ\n",
    "scfres_newton = newton(basis, ψ; tol);"
   ],
   "metadata": {},
   "execution_count": 6
  },
  {
   "cell_type": "markdown",
   "source": [
    "## Comparison of results"
   ],
   "metadata": {}
  },
  {
   "outputs": [
    {
     "name": "stdout",
     "output_type": "stream",
     "text": [
      "|ρ_newton - ρ_scf|  = 2.3688426175611255e-7\n",
      "|ρ_newton - ρ_scfv| = 1.8350179184636994e-7\n",
      "|ρ_newton - ρ_dm|   = 1.265732483282986e-9\n"
     ]
    }
   ],
   "cell_type": "code",
   "source": [
    "println(\"|ρ_newton - ρ_scf|  = \", norm(scfres_newton.ρ - scfres_scf.ρ))\n",
    "println(\"|ρ_newton - ρ_scfv| = \", norm(scfres_newton.ρ - scfres_scfv.ρ))\n",
    "println(\"|ρ_newton - ρ_dm|   = \", norm(scfres_newton.ρ - scfres_dm.ρ))"
   ],
   "metadata": {},
   "execution_count": 7
  }
 ],
 "nbformat_minor": 3,
 "metadata": {
  "language_info": {
   "file_extension": ".jl",
   "mimetype": "application/julia",
   "name": "julia",
   "version": "1.9.3"
  },
  "kernelspec": {
   "name": "julia-1.9",
   "display_name": "Julia 1.9.3",
   "language": "julia"
  }
 },
 "nbformat": 4
}
