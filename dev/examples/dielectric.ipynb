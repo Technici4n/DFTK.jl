{
 "cells": [
  {
   "cell_type": "markdown",
   "source": [
    "# Eigenvalues of the dielectric matrix\n",
    "\n",
    "We compute a few eigenvalues of the dielectric matrix ($q=0$, $ω=0$) iteratively."
   ],
   "metadata": {}
  },
  {
   "outputs": [
    {
     "name": "stdout",
     "output_type": "stream",
     "text": [
      "n     Energy            log10(ΔE)   log10(Δρ)   Diag\n",
      "---   ---------------   ---------   ---------   ----\n",
      "  1   -7.232325313423                   -0.50    6.0\n",
      "  2   -7.249198740572       -1.77       -1.39    1.0\n",
      "  3   -7.251240608763       -2.69       -1.84    4.0\n",
      "  4   -7.251226851515   +   -4.86       -2.11    4.0\n",
      "  5   -7.251270207457       -4.36       -2.25    3.0\n",
      "  6   -7.251333665690       -4.20       -2.77    2.0\n",
      "  7   -7.251338683561       -5.30       -3.89    2.0\n",
      "  8   -7.251338763200       -7.10       -3.77    4.0\n",
      "  9   -7.251338793732       -7.52       -4.16    3.0\n",
      " 10   -7.251338795642       -8.72       -4.29    1.0\n",
      " 11   -7.251338798666       -8.52       -5.25    3.0\n",
      " 12   -7.251338798685      -10.72       -5.36    1.0\n",
      " 13   -7.251338798692      -11.14       -5.48    1.0\n",
      " 14   -7.251338798704      -10.91       -6.49    3.0\n",
      " 15   -7.251338798705      -12.80       -6.76    3.0\n",
      " 16   -7.251338798705      -13.97       -7.05    1.0\n",
      " 17   -7.251338798705      -14.35       -7.56    2.0\n"
     ]
    }
   ],
   "cell_type": "code",
   "source": [
    "using DFTK\n",
    "using Plots\n",
    "using KrylovKit\n",
    "using Printf\n",
    "\n",
    "# Calculation parameters\n",
    "kgrid = [1, 1, 1]\n",
    "Ecut = 5\n",
    "\n",
    "# Silicon lattice\n",
    "a = 10.26\n",
    "lattice = a / 2 .* [[0 1 1.]; [1 0 1.]; [1 1 0.]]\n",
    "Si = ElementPsp(:Si, psp=load_psp(\"hgh/lda/Si-q4\"))\n",
    "atoms     = [Si, Si]\n",
    "positions = [ones(3)/8, -ones(3)/8]\n",
    "\n",
    "# Compute the dielectric operator without symmetries\n",
    "model = model_LDA(lattice, atoms, positions, symmetries=false)\n",
    "basis = PlaneWaveBasis(model; Ecut, kgrid)\n",
    "scfres = self_consistent_field(basis, tol=1e-14);"
   ],
   "metadata": {},
   "execution_count": 1
  },
  {
   "cell_type": "markdown",
   "source": [
    "Applying $ε^† ≔ (1- χ_0 K)$ …"
   ],
   "metadata": {}
  },
  {
   "outputs": [],
   "cell_type": "code",
   "source": [
    "function eps_fun(δρ)\n",
    "    δV = apply_kernel(basis, δρ; ρ=scfres.ρ)\n",
    "    χ0δV = apply_χ0(scfres, δV)\n",
    "    δρ - χ0δV\n",
    "end;"
   ],
   "metadata": {},
   "execution_count": 2
  },
  {
   "cell_type": "markdown",
   "source": [
    "… eagerly diagonalizes the subspace matrix at each iteration"
   ],
   "metadata": {}
  },
  {
   "outputs": [
    {
     "name": "stdout",
     "output_type": "stream",
     "text": [
      "[ Info: Arnoldi iteration step 1: normres = 0.08640012311158889\n",
      "[ Info: Arnoldi iteration step 2: normres = 0.6144850453735572\n",
      "[ Info: Arnoldi iteration step 3: normres = 0.7053939608263041\n",
      "[ Info: Arnoldi iteration step 4: normres = 0.2611774307933459\n",
      "[ Info: Arnoldi iteration step 5: normres = 0.5432762078882754\n",
      "[ Info: Arnoldi schursolve in iter 1, krylovdim = 5: 0 values converged, normres = (2.16e-02, 8.02e-02, 4.34e-01, 3.16e-01, 1.16e-02)\n",
      "[ Info: Arnoldi iteration step 6: normres = 0.2627841614153662\n",
      "[ Info: Arnoldi schursolve in iter 1, krylovdim = 6: 0 values converged, normres = (4.90e-03, 1.49e-01, 1.72e-01, 8.61e-02, 6.77e-02)\n",
      "[ Info: Arnoldi iteration step 7: normres = 0.06746172124292028\n",
      "[ Info: Arnoldi schursolve in iter 1, krylovdim = 7: 0 values converged, normres = (1.57e-04, 9.22e-03, 8.78e-03, 2.64e-02, 5.60e-02)\n",
      "[ Info: Arnoldi iteration step 8: normres = 0.1128043449792149\n",
      "[ Info: Arnoldi schursolve in iter 1, krylovdim = 8: 0 values converged, normres = (7.63e-06, 7.40e-04, 7.81e-04, 9.81e-03, 4.18e-02)\n",
      "[ Info: Arnoldi iteration step 9: normres = 0.09007862789774788\n",
      "[ Info: Arnoldi schursolve in iter 1, krylovdim = 9: 0 values converged, normres = (2.99e-07, 4.80e-05, 5.64e-05, 3.28e-03, 3.77e-02)\n",
      "[ Info: Arnoldi iteration step 10: normres = 0.07371607433742475\n",
      "[ Info: Arnoldi schursolve in iter 1, krylovdim = 10: 0 values converged, normres = (9.68e-09, 2.59e-06, 3.38e-06, 9.13e-04, 2.71e-02)\n",
      "[ Info: Arnoldi iteration step 11: normres = 0.07237756330961771\n",
      "[ Info: Arnoldi schursolve in iter 1, krylovdim = 11: 0 values converged, normres = (2.98e-10, 1.30e-07, 1.89e-07, 2.03e-04, 1.18e-02)\n",
      "[ Info: Arnoldi iteration step 12: normres = 0.0844250380238292\n",
      "[ Info: Arnoldi schursolve in iter 1, krylovdim = 12: 0 values converged, normres = (1.08e-11, 7.70e-09, 1.24e-08, 5.21e-05, 5.76e-03)\n",
      "[ Info: Arnoldi iteration step 13: normres = 0.23999417310521023\n",
      "[ Info: Arnoldi schursolve in iter 1, krylovdim = 13: 0 values converged, normres = (1.12e-12, 1.32e-09, 2.36e-09, 4.27e-05, 1.08e-02)\n",
      "[ Info: Arnoldi iteration step 14: normres = 0.17852613155164934\n",
      "[ Info: Arnoldi schursolve in iter 1, krylovdim = 14: 1 values converged, normres = (1.89e-13, 1.67e-09, 5.63e-02, 1.66e-01, 6.09e-04)\n",
      "[ Info: Arnoldi iteration step 15: normres = 0.4050058374891017\n",
      "[ Info: Arnoldi schursolve in iter 1, krylovdim = 15: 1 values converged, normres = (3.43e-14, 5.96e-10, 5.69e-02, 1.25e-03, 2.43e-05)\n",
      "[ Info: Arnoldi iteration step 16: normres = 0.08342505711623481\n",
      "[ Info: Arnoldi schursolve in iter 1, krylovdim = 16: 1 values converged, normres = (2.89e-15, 6.78e-02, 1.44e-02, 1.20e-03, 3.58e-02)\n",
      "[ Info: Arnoldi iteration step 17: normres = 0.031869921612593874\n",
      "[ Info: Arnoldi schursolve in iter 1, krylovdim = 17: 1 values converged, normres = (3.82e-17, 1.40e-08, 1.49e-03, 5.53e-04, 5.62e-04)\n",
      "[ Info: Arnoldi iteration step 18: normres = 0.02193999286364179\n",
      "[ Info: Arnoldi schursolve in iter 1, krylovdim = 18: 1 values converged, normres = (3.47e-19, 1.44e-08, 2.17e-05, 1.33e-06, 1.26e-05)\n",
      "[ Info: Arnoldi iteration step 19: normres = 0.22142878708565358\n",
      "[ Info: Arnoldi schursolve in iter 1, krylovdim = 19: 1 values converged, normres = (3.44e-20, 3.31e-06, 1.45e-06, 2.65e-07, 2.35e-06)\n",
      "[ Info: Arnoldi iteration step 20: normres = 0.05063486856826616\n",
      "[ Info: Arnoldi schursolve in iter 1, krylovdim = 20: 1 values converged, normres = (8.01e-22, 8.85e-09, 1.46e-07, 4.72e-08, 9.68e-08)\n",
      "[ Info: Arnoldi iteration step 21: normres = 0.031614917911147886\n",
      "[ Info: Arnoldi schursolve in iter 1, krylovdim = 21: 1 values converged, normres = (1.06e-23, 1.28e-09, 2.82e-09, 2.01e-09, 1.52e-09)\n",
      "[ Info: Arnoldi iteration step 22: normres = 0.6631111357943474\n",
      "[ Info: Arnoldi schursolve in iter 1, krylovdim = 22: 1 values converged, normres = (3.68e-24, 7.88e-10, 1.91e-09, 1.55e-09, 1.19e-09)\n",
      "[ Info: Arnoldi iteration step 23: normres = 0.02676846441903304\n",
      "[ Info: Arnoldi schursolve in iter 1, krylovdim = 23: 1 values converged, normres = (7.35e-26, 9.99e-11, 2.37e-10, 2.79e-03, 1.60e-03)\n",
      "[ Info: Arnoldi iteration step 24: normres = 0.014068653862287013\n",
      "[ Info: Arnoldi schursolve in iter 1, krylovdim = 24: 2 values converged, normres = (4.24e-28, 9.23e-13, 2.17e-12, 1.16e-04, 1.41e-04)\n",
      "[ Info: Arnoldi iteration step 25: normres = 0.01985750970068352\n",
      "[ Info: Arnoldi schursolve in iter 1, krylovdim = 25: 3 values converged, normres = (3.44e-30, 1.19e-14, 2.80e-14, 2.78e-06, 2.11e-07)\n",
      "[ Info: Arnoldi iteration step 26: normres = 0.1238028898086462\n",
      "[ Info: Arnoldi schursolve in iter 1, krylovdim = 26: 3 values converged, normres = (1.80e-31, 1.01e-15, 2.37e-15, 5.19e-08, 4.96e-08)\n",
      "[ Info: Arnoldi iteration step 27: normres = 0.027410931181175113\n",
      "[ Info: Arnoldi schursolve in iter 1, krylovdim = 27: 3 values converged, normres = (2.17e-33, 2.04e-17, 4.79e-17, 5.05e-09, 2.72e-09)\n",
      "[ Info: Arnoldi iteration step 28: normres = 0.10506576245479496\n",
      "[ Info: Arnoldi schursolve in iter 1, krylovdim = 28: 3 values converged, normres = (9.67e-35, 1.47e-18, 3.45e-18, 4.08e-10, 2.30e-10)\n",
      "[ Info: Arnoldi iteration step 29: normres = 0.08586503671782342\n",
      "[ Info: Arnoldi schursolve in iter 1, krylovdim = 29: 3 values converged, normres = (3.64e-36, 9.22e-20, 2.16e-19, 2.87e-11, 1.58e-11)\n",
      "[ Info: Arnoldi iteration step 30: normres = 0.0940072240145881\n",
      "[ Info: Arnoldi schursolve in iter 1, krylovdim = 30: 3 values converged, normres = (1.69e-37, 7.67e-21, 1.80e-20, 2.72e-12, 1.51e-12)\n",
      "[ Info: Arnoldi schursolve in iter 2, krylovdim = 19: 3 values converged, normres = (1.71e-37, 7.67e-21, 1.80e-20, 2.72e-12, 1.51e-12)\n",
      "[ Info: Arnoldi iteration step 20: normres = 0.061578086438920585\n",
      "┌ Info: Arnoldi eigsolve finished after 2 iterations:\n",
      "│ *  6 eigenvalues converged\n",
      "│ *  norm of residuals = (4.368820472538699e-39, 3.193052818231687e-22, 8.03468165266666e-22, 1.2534785831636532e-13, 8.304519943501017e-14, 4.416880833565324e-14)\n",
      "└ *  number of operations = 31\n"
     ]
    }
   ],
   "cell_type": "code",
   "source": [
    "eigsolve(eps_fun, randn(size(scfres.ρ)), 5, :LM; eager=true, verbosity=3);"
   ],
   "metadata": {},
   "execution_count": 3
  }
 ],
 "nbformat_minor": 3,
 "metadata": {
  "language_info": {
   "file_extension": ".jl",
   "mimetype": "application/julia",
   "name": "julia",
   "version": "1.8.2"
  },
  "kernelspec": {
   "name": "julia-1.8",
   "display_name": "Julia 1.8.2",
   "language": "julia"
  }
 },
 "nbformat": 4
}
