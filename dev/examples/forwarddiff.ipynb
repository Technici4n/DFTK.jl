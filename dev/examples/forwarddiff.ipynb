{
 "cells": [
  {
   "cell_type": "markdown",
   "source": [
    "# Polarizability using automatic differentiation\n",
    "\n",
    "Simple example for computing properties using (forward-mode)\n",
    "automatic differentiation.\n",
    "For a more classical approach and more details about computing polarizabilities,\n",
    "see Polarizability by linear response."
   ],
   "metadata": {}
  },
  {
   "outputs": [],
   "cell_type": "code",
   "source": [
    "using DFTK\n",
    "using LinearAlgebra\n",
    "using ForwardDiff\n",
    "\n",
    "# Construct PlaneWaveBasis given a particular electric field strength\n",
    "# Again we take the example of a Helium atom.\n",
    "function make_basis(ε::T; a=10., Ecut=30) where {T}\n",
    "    lattice=T(a) * I(3)  # lattice is a cube of $a$ Bohrs\n",
    "    # Helium at the center of the box\n",
    "    atoms     = [ElementPsp(:He, psp=load_psp(\"hgh/lda/He-q2\"))]\n",
    "    positions = [[1/2, 1/2, 1/2]]\n",
    "\n",
    "    model = model_DFT(lattice, atoms, positions, [:lda_x, :lda_c_vwn];\n",
    "                      extra_terms=[ExternalFromReal(r -> -ε * (r[1] - a/2))],\n",
    "                      symmetries=false)\n",
    "    PlaneWaveBasis(model; Ecut, kgrid=[1, 1, 1])  # No k-point sampling on isolated system\n",
    "end\n",
    "\n",
    "# dipole moment of a given density (assuming the current geometry)\n",
    "function dipole(basis, ρ)\n",
    "    @assert isdiag(basis.model.lattice)\n",
    "    a  = basis.model.lattice[1, 1]\n",
    "    rr = [a * (r[1] - 1/2) for r in r_vectors(basis)]\n",
    "    sum(rr .* ρ) * basis.dvol\n",
    "end\n",
    "\n",
    "# Function to compute the dipole for a given field strength\n",
    "function compute_dipole(ε; tol=1e-8, kwargs...)\n",
    "    scfres = self_consistent_field(make_basis(ε; kwargs...); tol)\n",
    "    dipole(scfres.basis, scfres.ρ)\n",
    "end;"
   ],
   "metadata": {},
   "execution_count": 1
  },
  {
   "cell_type": "markdown",
   "source": [
    "With this in place we can compute the polarizability from finite differences\n",
    "(just like in the previous example):"
   ],
   "metadata": {}
  },
  {
   "outputs": [
    {
     "name": "stdout",
     "output_type": "stream",
     "text": [
      "n     Energy            log10(ΔE)   log10(Δρ)   Diag   Δtime\n",
      "---   ---------------   ---------   ---------   ----   ------\n",
      "  1   -2.770997261210                   -0.53    9.0         \n",
      "  2   -2.772149888801       -2.94       -1.32    1.0    161ms\n",
      "  3   -2.772170386313       -4.69       -2.51    1.0    180ms\n",
      "  4   -2.772170667329       -6.55       -3.29    1.0    164ms\n",
      "  5   -2.772170720793       -7.27       -3.83    2.0    183ms\n",
      "  6   -2.772170722793       -8.70       -4.41    1.0    183ms\n",
      "  7   -2.772170723008       -9.67       -5.13    2.0    187ms\n",
      "  8   -2.772170723015      -11.17       -6.10    1.0    181ms\n",
      "  9   -2.772170723015      -12.70       -6.73    2.0    191ms\n",
      " 10   -2.772170723015   +  -14.03       -6.75    1.0    182ms\n",
      " 11   -2.772170723015      -14.05       -7.62    1.0    191ms\n",
      " 12   -2.772170723015      -13.88       -8.40    2.0    204ms\n",
      "n     Energy            log10(ΔE)   log10(Δρ)   Diag   Δtime\n",
      "---   ---------------   ---------   ---------   ----   ------\n",
      "  1   -2.770813241666                   -0.52    9.0         \n",
      "  2   -2.772062154197       -2.90       -1.32    1.0    161ms\n",
      "  3   -2.772083084762       -4.68       -2.46    1.0    163ms\n",
      "  4   -2.772083343767       -6.59       -3.16    1.0    180ms\n",
      "  5   -2.772083417058       -7.13       -4.04    2.0    183ms\n",
      "  6   -2.772083417680       -9.21       -4.59    1.0    166ms\n",
      "  7   -2.772083417810       -9.89       -5.54    2.0    201ms\n",
      "  8   -2.772083417810      -12.74       -6.21    1.0    172ms\n",
      "  9   -2.772083417811      -12.89       -7.13    2.0    205ms\n",
      " 10   -2.772083417811   +  -14.03       -7.35    1.0    180ms\n",
      " 11   -2.772083417811      -13.83       -8.37    1.0    174ms\n"
     ]
    },
    {
     "output_type": "execute_result",
     "data": {
      "text/plain": "1.7735580511009765"
     },
     "metadata": {},
     "execution_count": 2
    }
   ],
   "cell_type": "code",
   "source": [
    "polarizability_fd = let\n",
    "    ε = 0.01\n",
    "    (compute_dipole(ε) - compute_dipole(0.0)) / ε\n",
    "end"
   ],
   "metadata": {},
   "execution_count": 2
  },
  {
   "cell_type": "markdown",
   "source": [
    "We do the same thing using automatic differentiation. Under the hood this uses\n",
    "custom rules to implicitly differentiate through the self-consistent\n",
    "field fixed-point problem."
   ],
   "metadata": {}
  },
  {
   "outputs": [
    {
     "name": "stdout",
     "output_type": "stream",
     "text": [
      "n     Energy            log10(ΔE)   log10(Δρ)   Diag   Δtime\n",
      "---   ---------------   ---------   ---------   ----   ------\n",
      "  1   -2.770748881673                   -0.53    9.0         \n",
      "  2   -2.772052865024       -2.88       -1.31    1.0    161ms\n",
      "  3   -2.772083036702       -4.52       -2.56    1.0    163ms\n",
      "  4   -2.772083389070       -6.45       -3.60    1.0    189ms\n",
      "  5   -2.772083416494       -7.56       -3.97    2.0    184ms\n",
      "  6   -2.772083417742       -8.90       -4.87    1.0    173ms\n",
      "  7   -2.772083417807      -10.19       -5.27    2.0    217ms\n",
      "  8   -2.772083417810      -11.49       -5.74    1.0    173ms\n",
      "  9   -2.772083417811      -12.19       -6.27    2.0    198ms\n",
      " 10   -2.772083417811      -13.37       -7.41    1.0    193ms\n",
      " 11   -2.772083417811   +  -13.92       -7.86    2.0    192ms\n",
      " 12   -2.772083417811      -15.35       -8.24    1.0    200ms\n",
      "\n",
      "Polarizability via ForwardDiff:       1.7725349848214556\n",
      "Polarizability via finite difference: 1.7735580511009765\n"
     ]
    }
   ],
   "cell_type": "code",
   "source": [
    "polarizability = ForwardDiff.derivative(compute_dipole, 0.0)\n",
    "println()\n",
    "println(\"Polarizability via ForwardDiff:       $polarizability\")\n",
    "println(\"Polarizability via finite difference: $polarizability_fd\")"
   ],
   "metadata": {},
   "execution_count": 3
  }
 ],
 "nbformat_minor": 3,
 "metadata": {
  "language_info": {
   "file_extension": ".jl",
   "mimetype": "application/julia",
   "name": "julia",
   "version": "1.8.5"
  },
  "kernelspec": {
   "name": "julia-1.8",
   "display_name": "Julia 1.8.5",
   "language": "julia"
  }
 },
 "nbformat": 4
}
