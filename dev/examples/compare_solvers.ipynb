{
 "cells": [
  {
   "cell_type": "markdown",
   "source": [
    "# Comparison of DFT solvers"
   ],
   "metadata": {}
  },
  {
   "cell_type": "markdown",
   "source": [
    "We compare four different approaches for solving the DFT minimisation problem,\n",
    "namely a density-based SCF, a potential-based SCF, direct minimisation and Newton."
   ],
   "metadata": {}
  },
  {
   "cell_type": "markdown",
   "source": [
    "First we setup our problem"
   ],
   "metadata": {}
  },
  {
   "outputs": [
    {
     "output_type": "execute_result",
     "data": {
      "text/plain": "1.0e-6"
     },
     "metadata": {},
     "execution_count": 1
    }
   ],
   "cell_type": "code",
   "source": [
    "using DFTK\n",
    "using LinearAlgebra\n",
    "\n",
    "a = 10.26  # Silicon lattice constant in Bohr\n",
    "lattice = a / 2 * [[0 1 1.];\n",
    "                   [1 0 1.];\n",
    "                   [1 1 0.]]\n",
    "Si = ElementPsp(:Si, psp=load_psp(\"hgh/lda/Si-q4\"))\n",
    "atoms     = [Si, Si]\n",
    "positions = [ones(3)/8, -ones(3)/8]\n",
    "\n",
    "model = model_LDA(lattice, atoms, positions)\n",
    "basis = PlaneWaveBasis(model; Ecut=5, kgrid=[3, 3, 3])\n",
    "\n",
    "# Convergence we desire in the density\n",
    "tol = 1e-6"
   ],
   "metadata": {},
   "execution_count": 1
  },
  {
   "cell_type": "markdown",
   "source": [
    "## Density-based self-consistent field"
   ],
   "metadata": {}
  },
  {
   "outputs": [
    {
     "name": "stdout",
     "output_type": "stream",
     "text": [
      "n     Energy            log10(ΔE)   log10(Δρ)   Diag   Δtime\n",
      "---   ---------------   ---------   ---------   ----   ------\n",
      "  1   -7.846888432404                   -0.70    4.5         \n",
      "  2   -7.852324674490       -2.26       -1.53    1.0   25.4ms\n",
      "  3   -7.852615422701       -3.54       -2.56    1.2   27.9ms\n",
      "  4   -7.852645893107       -4.52       -2.88    2.2   34.2ms\n",
      "  5   -7.852646498028       -6.22       -3.18    1.2   26.6ms\n",
      "  6   -7.852646678242       -6.74       -4.02    1.0   24.2ms\n",
      "  7   -7.852646686272       -8.10       -5.30    1.8   28.6ms\n",
      "  8   -7.852646686721       -9.35       -5.35    2.0   31.7ms\n",
      "  9   -7.852646686729      -11.07       -6.01    1.0   27.7ms\n"
     ]
    }
   ],
   "cell_type": "code",
   "source": [
    "scfres_scf = self_consistent_field(basis; tol);"
   ],
   "metadata": {},
   "execution_count": 2
  },
  {
   "cell_type": "markdown",
   "source": [
    "## Potential-based SCF"
   ],
   "metadata": {}
  },
  {
   "outputs": [
    {
     "name": "stdout",
     "output_type": "stream",
     "text": [
      "n     Energy            log10(ΔE)   log10(Δρ)   α      Diag   Δtime\n",
      "---   ---------------   ---------   ---------   ----   ----   ------\n",
      "  1   -7.846715507501                   -0.70           4.8         \n",
      "  2   -7.852525082972       -2.24       -1.64   0.80    2.0    247ms\n",
      "  3   -7.852635074106       -3.96       -2.75   0.80    1.0   23.8ms\n",
      "  4   -7.852646440309       -4.94       -3.23   0.80    2.2   32.7ms\n",
      "  5   -7.852646665703       -6.65       -4.02   0.80    1.0   23.6ms\n",
      "  6   -7.852646686350       -7.69       -4.68   0.80    1.8   27.5ms\n",
      "  7   -7.852646686702       -9.45       -5.51   0.80    1.2   26.4ms\n",
      "  8   -7.852646686729      -10.56       -6.69   0.80    2.2   32.0ms\n"
     ]
    }
   ],
   "cell_type": "code",
   "source": [
    "scfres_scfv = DFTK.scf_potential_mixing(basis; tol);"
   ],
   "metadata": {},
   "execution_count": 3
  },
  {
   "cell_type": "markdown",
   "source": [
    "## Direct minimization\n",
    "Note: Unlike the other algorithms, tolerance for this one is in the energy,\n",
    "thus we square the density tolerance value to be roughly equivalent."
   ],
   "metadata": {}
  },
  {
   "outputs": [
    {
     "name": "stdout",
     "output_type": "stream",
     "text": [
      "Iter     Function value   Gradient norm \n",
      "     0     1.353930e+01     3.274267e+00\n",
      " * time: 0.15859603881835938\n",
      "     1     9.671937e-01     1.835145e+00\n",
      " * time: 0.3876621723175049\n",
      "     2    -1.922099e+00     2.068739e+00\n",
      " * time: 0.412891149520874\n",
      "     3    -3.947643e+00     1.803159e+00\n",
      " * time: 0.4476962089538574\n",
      "     4    -5.248157e+00     1.558622e+00\n",
      " * time: 0.4806079864501953\n",
      "     5    -6.920804e+00     1.111368e+00\n",
      " * time: 0.5155210494995117\n",
      "     6    -7.508147e+00     5.753841e-01\n",
      " * time: 0.5497081279754639\n",
      "     7    -7.698376e+00     3.082282e-01\n",
      " * time: 0.5736911296844482\n",
      "     8    -7.770219e+00     1.066928e-01\n",
      " * time: 0.5978450775146484\n",
      "     9    -7.809147e+00     1.695387e-01\n",
      " * time: 0.6239190101623535\n",
      "    10    -7.832398e+00     8.359507e-02\n",
      " * time: 0.6488721370697021\n",
      "    11    -7.844114e+00     6.787282e-02\n",
      " * time: 0.6736900806427002\n",
      "    12    -7.848645e+00     4.385409e-02\n",
      " * time: 0.7000951766967773\n",
      "    13    -7.850727e+00     2.151547e-02\n",
      " * time: 0.7261471748352051\n",
      "    14    -7.851790e+00     1.765097e-02\n",
      " * time: 0.751176118850708\n",
      "    15    -7.852306e+00     1.404365e-02\n",
      " * time: 0.776914119720459\n",
      "    16    -7.852527e+00     9.867206e-03\n",
      " * time: 0.8016331195831299\n",
      "    17    -7.852606e+00     5.378086e-03\n",
      " * time: 0.8279190063476562\n",
      "    18    -7.852631e+00     2.769630e-03\n",
      " * time: 0.852567195892334\n",
      "    19    -7.852640e+00     1.592697e-03\n",
      " * time: 0.8770270347595215\n",
      "    20    -7.852644e+00     7.723238e-04\n",
      " * time: 0.9019410610198975\n",
      "    21    -7.852646e+00     6.514918e-04\n",
      " * time: 0.9270980358123779\n",
      "    22    -7.852646e+00     5.419718e-04\n",
      " * time: 0.9523460865020752\n",
      "    23    -7.852647e+00     2.001591e-04\n",
      " * time: 0.9771840572357178\n",
      "    24    -7.852647e+00     1.260365e-04\n",
      " * time: 1.000581979751587\n",
      "    25    -7.852647e+00     7.122188e-05\n",
      " * time: 1.0246210098266602\n",
      "    26    -7.852647e+00     3.570109e-05\n",
      " * time: 1.048288106918335\n",
      "    27    -7.852647e+00     2.952779e-05\n",
      " * time: 1.0712370872497559\n",
      "    28    -7.852647e+00     1.901975e-05\n",
      " * time: 1.0965039730072021\n",
      "    29    -7.852647e+00     6.250090e-06\n",
      " * time: 1.1196911334991455\n",
      "    30    -7.852647e+00     3.483570e-06\n",
      " * time: 1.142031192779541\n",
      "    31    -7.852647e+00     2.278987e-06\n",
      " * time: 1.1679871082305908\n",
      "    32    -7.852647e+00     2.130196e-06\n",
      " * time: 1.1934421062469482\n",
      "    33    -7.852647e+00     1.148350e-06\n",
      " * time: 1.2202789783477783\n",
      "    34    -7.852647e+00     6.240783e-07\n",
      " * time: 1.2441539764404297\n",
      "    35    -7.852647e+00     3.698071e-07\n",
      " * time: 1.2684690952301025\n",
      "    36    -7.852647e+00     3.739746e-07\n",
      " * time: 1.2924480438232422\n",
      "    37    -7.852647e+00     2.102206e-07\n",
      " * time: 1.3164961338043213\n",
      "    38    -7.852647e+00     8.916844e-08\n",
      " * time: 1.3417811393737793\n",
      "    39    -7.852647e+00     7.088826e-08\n",
      " * time: 1.366379976272583\n",
      "    40    -7.852647e+00     3.389490e-08\n",
      " * time: 1.3916571140289307\n",
      "    41    -7.852647e+00     2.280645e-08\n",
      " * time: 1.418182134628296\n",
      "    42    -7.852647e+00     1.842366e-08\n",
      " * time: 1.4445509910583496\n",
      "    43    -7.852647e+00     7.886966e-09\n",
      " * time: 1.4700720310211182\n",
      "    44    -7.852647e+00     7.690808e-09\n",
      " * time: 1.5183510780334473\n",
      "    45    -7.852647e+00     6.518818e-09\n",
      " * time: 1.5546410083770752\n",
      "    46    -7.852647e+00     4.660820e-09\n",
      " * time: 1.5929040908813477\n"
     ]
    }
   ],
   "cell_type": "code",
   "source": [
    "scfres_dm = direct_minimization(basis; tol=tol^2);"
   ],
   "metadata": {},
   "execution_count": 4
  },
  {
   "cell_type": "markdown",
   "source": [
    "## Newton algorithm"
   ],
   "metadata": {}
  },
  {
   "cell_type": "markdown",
   "source": [
    "Start not too far from the solution to ensure convergence:\n",
    "We run first a very crude SCF to get close and then switch to Newton."
   ],
   "metadata": {}
  },
  {
   "outputs": [
    {
     "name": "stdout",
     "output_type": "stream",
     "text": [
      "n     Energy            log10(ΔE)   log10(Δρ)   Diag   Δtime\n",
      "---   ---------------   ---------   ---------   ----   ------\n",
      "  1   -7.846826093527                   -0.70    4.5         \n"
     ]
    }
   ],
   "cell_type": "code",
   "source": [
    "scfres_start = self_consistent_field(basis; tol=0.5);"
   ],
   "metadata": {},
   "execution_count": 5
  },
  {
   "cell_type": "markdown",
   "source": [
    "Remove the virtual orbitals (which Newton cannot treat yet)"
   ],
   "metadata": {}
  },
  {
   "outputs": [
    {
     "name": "stdout",
     "output_type": "stream",
     "text": [
      "n     Energy            log10(ΔE)   log10(Δρ)   Δtime\n",
      "---   ---------------   ---------   ---------   ------\n",
      "  1   -7.852645809054                   -1.64         \n",
      "  2   -7.852646686730       -6.06       -3.71    2.05s\n",
      "  3   -7.852646686730      -13.03       -7.15    219ms\n"
     ]
    }
   ],
   "cell_type": "code",
   "source": [
    "ψ = DFTK.select_occupied_orbitals(basis, scfres_start.ψ, scfres_start.occupation).ψ\n",
    "scfres_newton = newton(basis, ψ; tol);"
   ],
   "metadata": {},
   "execution_count": 6
  },
  {
   "cell_type": "markdown",
   "source": [
    "## Comparison of results"
   ],
   "metadata": {}
  },
  {
   "outputs": [
    {
     "name": "stdout",
     "output_type": "stream",
     "text": [
      "|ρ_newton - ρ_scf|  = 1.1638106218489757e-6\n",
      "|ρ_newton - ρ_scfv| = 3.507890077019323e-7\n",
      "|ρ_newton - ρ_dm|   = 1.2831829180515968e-9\n"
     ]
    }
   ],
   "cell_type": "code",
   "source": [
    "println(\"|ρ_newton - ρ_scf|  = \", norm(scfres_newton.ρ - scfres_scf.ρ))\n",
    "println(\"|ρ_newton - ρ_scfv| = \", norm(scfres_newton.ρ - scfres_scfv.ρ))\n",
    "println(\"|ρ_newton - ρ_dm|   = \", norm(scfres_newton.ρ - scfres_dm.ρ))"
   ],
   "metadata": {},
   "execution_count": 7
  }
 ],
 "nbformat_minor": 3,
 "metadata": {
  "language_info": {
   "file_extension": ".jl",
   "mimetype": "application/julia",
   "name": "julia",
   "version": "1.9.3"
  },
  "kernelspec": {
   "name": "julia-1.9",
   "display_name": "Julia 1.9.3",
   "language": "julia"
  }
 },
 "nbformat": 4
}
