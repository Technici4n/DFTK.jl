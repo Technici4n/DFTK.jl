{
 "cells": [
  {
   "cell_type": "markdown",
   "source": [
    "# Comparison of DFT solvers"
   ],
   "metadata": {}
  },
  {
   "cell_type": "markdown",
   "source": [
    "We compare four different approaches for solving the DFT minimisation problem,\n",
    "namely a density-based SCF, a potential-based SCF, direct minimisation and Newton."
   ],
   "metadata": {}
  },
  {
   "cell_type": "markdown",
   "source": [
    "First we setup our problem"
   ],
   "metadata": {}
  },
  {
   "outputs": [],
   "cell_type": "code",
   "source": [
    "using DFTK\n",
    "using LinearAlgebra\n",
    "\n",
    "a = 10.26  # Silicon lattice constant in Bohr\n",
    "lattice = a / 2 * [[0 1 1.];\n",
    "                   [1 0 1.];\n",
    "                   [1 1 0.]]\n",
    "Si = ElementPsp(:Si, psp=load_psp(\"hgh/lda/Si-q4\"))\n",
    "atoms     = [Si, Si]\n",
    "positions = [ones(3)/8, -ones(3)/8]\n",
    "\n",
    "model = model_LDA(lattice, atoms, positions)\n",
    "basis = PlaneWaveBasis(model; Ecut=5, kgrid=[3, 3, 3])\n",
    "\n",
    "# Convergence we desire\n",
    "tol = 1e-12\n",
    "is_converged = DFTK.ScfConvergenceDensity(tol);"
   ],
   "metadata": {},
   "execution_count": 1
  },
  {
   "cell_type": "markdown",
   "source": [
    "## Density-based self-consistent field"
   ],
   "metadata": {}
  },
  {
   "outputs": [
    {
     "name": "stdout",
     "output_type": "stream",
     "text": [
      "n     Energy            log10(ΔE)   log10(Δρ)   Diag\n",
      "---   ---------------   ---------   ---------   ----\n",
      "  1   -7.846701647412                   -0.70    5.0\n",
      "  2   -7.852280811919       -2.25       -1.53    1.0\n",
      "  3   -7.852645911837       -3.44       -2.53    3.2\n",
      "  4   -7.852646673126       -6.12       -3.35    2.5\n",
      "  5   -7.852646685526       -7.91       -4.68    1.2\n",
      "  6   -7.852646686728       -8.92       -5.25    4.0\n",
      "  7   -7.852646686729      -11.77       -5.91    1.0\n",
      "  8   -7.852646686730      -12.41       -7.34    2.0\n",
      "  9   -7.852646686730   +    -Inf       -7.71    3.0\n",
      " 10   -7.852646686730   +    -Inf       -8.72    2.0\n",
      " 11   -7.852646686730   +  -15.05       -9.63    2.2\n",
      " 12   -7.852646686730   +    -Inf       -8.58    1.0\n",
      " 13   -7.852646686730      -15.05       -8.61    2.0\n",
      " 14   -7.852646686730   +    -Inf       -8.50    2.2\n",
      " 15   -7.852646686730      -14.75       -9.37    1.2\n",
      " 16   -7.852646686730   +  -14.75       -9.13    1.0\n",
      " 17   -7.852646686730   +    -Inf       -9.76    1.8\n",
      " 18   -7.852646686730   +  -15.05      -10.68    2.0\n",
      " 19   -7.852646686730      -15.05      -10.22    1.0\n",
      " 20   -7.852646686730   +  -14.75      -10.59    1.0\n",
      " 21   -7.852646686730      -15.05      -10.89    1.0\n",
      " 22   -7.852646686730      -15.05      -11.69    1.0\n",
      " 23   -7.852646686730   +    -Inf      -12.31    2.0\n"
     ]
    }
   ],
   "cell_type": "code",
   "source": [
    "scfres_scf = self_consistent_field(basis; is_converged);"
   ],
   "metadata": {},
   "execution_count": 2
  },
  {
   "cell_type": "markdown",
   "source": [
    "## Potential-based SCF"
   ],
   "metadata": {}
  },
  {
   "outputs": [
    {
     "name": "stdout",
     "output_type": "stream",
     "text": [
      "n     Energy            log10(ΔE)   log10(Δρ)   α      Diag\n",
      "---   ---------------   ---------   ---------   ----   ----\n",
      "  1   -7.846852213167                   -0.70           4.8\n",
      "  2   -7.852528614244       -2.25       -1.63   0.80    2.0\n",
      "  3   -7.852637739303       -3.96       -2.70   0.80    1.0\n",
      "  4   -7.852646292364       -5.07       -3.32   0.80    2.0\n",
      "  5   -7.852646681872       -6.41       -4.17   0.80    1.5\n",
      "  6   -7.852646686448       -8.34       -4.84   0.80    1.5\n",
      "  7   -7.852646686720       -9.57       -5.81   0.80    1.8\n",
      "  8   -7.852646686730      -11.02       -6.47   0.80    2.2\n",
      "  9   -7.852646686730      -13.00       -7.26   0.80    1.2\n",
      " 10   -7.852646686730      -13.88       -7.90   0.80    2.0\n",
      " 11   -7.852646686730   +  -15.05       -8.78   0.80    1.5\n",
      " 12   -7.852646686730   +    -Inf       -8.79   0.80    2.2\n",
      " 13   -7.852646686730   +    -Inf       -9.79   0.80    1.0\n",
      " 14   -7.852646686730   +    -Inf      -10.19   0.80    2.0\n",
      " 15   -7.852646686730   +    -Inf      -10.95   0.80    1.2\n",
      " 16   -7.852646686730   +  -14.75      -11.40   0.80    1.8\n",
      " 17   -7.852646686730      -14.75      -12.06   0.80    1.5\n"
     ]
    }
   ],
   "cell_type": "code",
   "source": [
    "scfres_scfv = DFTK.scf_potential_mixing(basis; is_converged);"
   ],
   "metadata": {},
   "execution_count": 3
  },
  {
   "cell_type": "markdown",
   "source": [
    "## Direct minimization"
   ],
   "metadata": {}
  },
  {
   "outputs": [
    {
     "name": "stdout",
     "output_type": "stream",
     "text": [
      "Iter     Function value   Gradient norm \n",
      "     0     1.458007e+01     3.260492e+00\n",
      " * time: 0.39711594581604004\n",
      "     1     1.106978e+00     1.874839e+00\n",
      " * time: 0.6102049350738525\n",
      "     2    -1.922641e+00     1.932285e+00\n",
      " * time: 0.6343128681182861\n",
      "     3    -3.825514e+00     1.793098e+00\n",
      " * time: 0.6678240299224854\n",
      "     4    -5.316811e+00     1.383739e+00\n",
      " * time: 0.7017550468444824\n",
      "     5    -6.777217e+00     7.324062e-01\n",
      " * time: 0.7355539798736572\n",
      "     6    -6.844868e+00     9.406732e-01\n",
      " * time: 0.7592949867248535\n",
      "     7    -7.390490e+00     6.286716e-01\n",
      " * time: 0.7829329967498779\n",
      "     8    -7.507534e+00     5.003075e-01\n",
      " * time: 0.8067479133605957\n",
      "     9    -7.643853e+00     1.488940e-01\n",
      " * time: 0.830374002456665\n",
      "    10    -7.706398e+00     1.009865e-01\n",
      " * time: 0.8540959358215332\n",
      "    11    -7.760023e+00     1.241759e-01\n",
      " * time: 0.87813401222229\n",
      "    12    -7.790368e+00     1.145642e-01\n",
      " * time: 0.9022960662841797\n",
      "    13    -7.830553e+00     5.754543e-02\n",
      " * time: 0.9262509346008301\n",
      "    14    -7.843589e+00     3.923979e-02\n",
      " * time: 0.9504809379577637\n",
      "    15    -7.851061e+00     3.327280e-02\n",
      " * time: 0.9743978977203369\n",
      "    16    -7.852007e+00     1.523080e-02\n",
      " * time: 0.9986739158630371\n",
      "    17    -7.852434e+00     6.206022e-03\n",
      " * time: 1.0226969718933105\n",
      "    18    -7.852554e+00     6.250550e-03\n",
      " * time: 1.047010898590088\n",
      "    19    -7.852602e+00     3.519624e-03\n",
      " * time: 1.0715110301971436\n",
      "    20    -7.852634e+00     1.662166e-03\n",
      " * time: 1.0957980155944824\n",
      "    21    -7.852643e+00     1.434364e-03\n",
      " * time: 1.120163917541504\n",
      "    22    -7.852646e+00     5.399722e-04\n",
      " * time: 1.143812894821167\n",
      "    23    -7.852646e+00     3.278382e-04\n",
      " * time: 1.1669220924377441\n",
      "    24    -7.852647e+00     1.644027e-04\n",
      " * time: 1.190485954284668\n",
      "    25    -7.852647e+00     1.021678e-04\n",
      " * time: 1.214116096496582\n",
      "    26    -7.852647e+00     6.413657e-05\n",
      " * time: 1.2378768920898438\n",
      "    27    -7.852647e+00     3.159434e-05\n",
      " * time: 1.2614569664001465\n",
      "    28    -7.852647e+00     1.675332e-05\n",
      " * time: 1.2849769592285156\n",
      "    29    -7.852647e+00     1.269553e-05\n",
      " * time: 1.3753330707550049\n",
      "    30    -7.852647e+00     7.849630e-06\n",
      " * time: 1.3991808891296387\n",
      "    31    -7.852647e+00     4.413269e-06\n",
      " * time: 1.4232690334320068\n",
      "    32    -7.852647e+00     2.303645e-06\n",
      " * time: 1.4475269317626953\n",
      "    33    -7.852647e+00     1.373742e-06\n",
      " * time: 1.471904993057251\n",
      "    34    -7.852647e+00     5.597102e-07\n",
      " * time: 1.4963419437408447\n",
      "    35    -7.852647e+00     3.638399e-07\n",
      " * time: 1.5205459594726562\n",
      "    36    -7.852647e+00     1.977421e-07\n",
      " * time: 1.5448429584503174\n",
      "    37    -7.852647e+00     1.202885e-07\n",
      " * time: 1.568937063217163\n",
      "    38    -7.852647e+00     5.869269e-08\n",
      " * time: 1.5937480926513672\n",
      "    39    -7.852647e+00     4.361131e-08\n",
      " * time: 1.6183240413665771\n",
      "    40    -7.852647e+00     2.668042e-08\n",
      " * time: 1.6426799297332764\n",
      "    41    -7.852647e+00     1.281234e-08\n",
      " * time: 1.667306900024414\n",
      "    42    -7.852647e+00     9.707792e-09\n",
      " * time: 1.7020058631896973\n",
      "    43    -7.852647e+00     9.707790e-09\n",
      " * time: 1.8009719848632812\n"
     ]
    }
   ],
   "cell_type": "code",
   "source": [
    "scfres_dm = direct_minimization(basis; tol);"
   ],
   "metadata": {},
   "execution_count": 4
  },
  {
   "cell_type": "markdown",
   "source": [
    "## Newton algorithm"
   ],
   "metadata": {}
  },
  {
   "cell_type": "markdown",
   "source": [
    "Start not too far from the solution to ensure convergence:\n",
    "We run first a very crude SCF to get close and then switch to Newton."
   ],
   "metadata": {}
  },
  {
   "outputs": [
    {
     "name": "stdout",
     "output_type": "stream",
     "text": [
      "n     Energy            log10(ΔE)   log10(Δρ)   Diag\n",
      "---   ---------------   ---------   ---------   ----\n",
      "  1   -7.846829703318                   -0.70    4.8\n",
      "  2   -7.852309317659       -2.26       -1.53    1.0\n"
     ]
    }
   ],
   "cell_type": "code",
   "source": [
    "scfres_start = self_consistent_field(basis; tol=1e-1);"
   ],
   "metadata": {},
   "execution_count": 5
  },
  {
   "cell_type": "markdown",
   "source": [
    "Remove the virtual orbitals (which Newton cannot treat yet)"
   ],
   "metadata": {}
  },
  {
   "outputs": [
    {
     "name": "stdout",
     "output_type": "stream",
     "text": [
      "n     Energy            log10(ΔE)   log10(Δρ)\n",
      "---   ---------------   ---------   ---------\n",
      "  1   -7.852646686708                   -2.53\n",
      "  2   -7.852646686730      -10.67       -6.01\n",
      "  3   -7.852646686730   +    -Inf      -13.02\n"
     ]
    }
   ],
   "cell_type": "code",
   "source": [
    "ψ, _ = DFTK.select_occupied_orbitals(basis, scfres_start.ψ, scfres_start.occupation)\n",
    "scfres_newton = newton(basis, ψ; tol);"
   ],
   "metadata": {},
   "execution_count": 6
  },
  {
   "cell_type": "markdown",
   "source": [
    "## Comparison of results"
   ],
   "metadata": {}
  },
  {
   "outputs": [
    {
     "name": "stdout",
     "output_type": "stream",
     "text": [
      "|ρ_newton - ρ_scf|  = 3.761873251566663e-13\n",
      "|ρ_newton - ρ_scfv| = 1.2868685092881056e-12\n",
      "|ρ_newton - ρ_dm|   = 5.588289641017791e-10\n"
     ]
    }
   ],
   "cell_type": "code",
   "source": [
    "println(\"|ρ_newton - ρ_scf|  = \", norm(scfres_newton.ρ - scfres_scf.ρ))\n",
    "println(\"|ρ_newton - ρ_scfv| = \", norm(scfres_newton.ρ - scfres_scfv.ρ))\n",
    "println(\"|ρ_newton - ρ_dm|   = \", norm(scfres_newton.ρ - scfres_dm.ρ))"
   ],
   "metadata": {},
   "execution_count": 7
  }
 ],
 "nbformat_minor": 3,
 "metadata": {
  "language_info": {
   "file_extension": ".jl",
   "mimetype": "application/julia",
   "name": "julia",
   "version": "1.8.2"
  },
  "kernelspec": {
   "name": "julia-1.8",
   "display_name": "Julia 1.8.2",
   "language": "julia"
  }
 },
 "nbformat": 4
}
