{
 "cells": [
  {
   "cell_type": "markdown",
   "source": [
    "# Polarizability using automatic differentiation\n",
    "\n",
    "Simple example for computing properties using (forward-mode)\n",
    "automatic differentiation.\n",
    "For a more classical approach and more details about computing polarizabilities,\n",
    "see Polarizability by linear response."
   ],
   "metadata": {}
  },
  {
   "outputs": [],
   "cell_type": "code",
   "source": [
    "using DFTK\n",
    "using LinearAlgebra\n",
    "using ForwardDiff\n",
    "\n",
    "# Construct PlaneWaveBasis given a particular electric field strength\n",
    "# Again we take the example of a Helium atom.\n",
    "function make_basis(ε::T; a=10., Ecut=30) where {T}\n",
    "    lattice=T(a) * I(3)  # lattice is a cube of $a$ Bohrs\n",
    "    # Helium at the center of the box\n",
    "    atoms     = [ElementPsp(:He, psp=load_psp(\"hgh/lda/He-q2\"))]\n",
    "    positions = [[1/2, 1/2, 1/2]]\n",
    "\n",
    "    model = model_DFT(lattice, atoms, positions, [:lda_x, :lda_c_vwn];\n",
    "                      extra_terms=[ExternalFromReal(r -> -ε * (r[1] - a/2))],\n",
    "                      symmetries=false)\n",
    "    PlaneWaveBasis(model; Ecut, kgrid=[1, 1, 1])  # No k-point sampling on isolated system\n",
    "end\n",
    "\n",
    "# dipole moment of a given density (assuming the current geometry)\n",
    "function dipole(basis, ρ)\n",
    "    @assert isdiag(basis.model.lattice)\n",
    "    a  = basis.model.lattice[1, 1]\n",
    "    rr = [a * (r[1] - 1/2) for r in r_vectors(basis)]\n",
    "    sum(rr .* ρ) * basis.dvol\n",
    "end\n",
    "\n",
    "# Function to compute the dipole for a given field strength\n",
    "function compute_dipole(ε; tol=1e-8, kwargs...)\n",
    "    scfres = self_consistent_field(make_basis(ε; kwargs...); tol)\n",
    "    dipole(scfres.basis, scfres.ρ)\n",
    "end;"
   ],
   "metadata": {},
   "execution_count": 1
  },
  {
   "cell_type": "markdown",
   "source": [
    "With this in place we can compute the polarizability from finite differences\n",
    "(just like in the previous example):"
   ],
   "metadata": {}
  },
  {
   "outputs": [
    {
     "name": "stdout",
     "output_type": "stream",
     "text": [
      "n     Energy            log10(ΔE)   log10(Δρ)   Diag   Δtime\n",
      "---   ---------------   ---------   ---------   ----   ------\n",
      "  1   -2.770863021576                   -0.52    9.0         \n",
      "  2   -2.772147338971       -2.89       -1.33    1.0    143ms\n",
      "  3   -2.772170201375       -4.64       -2.42    1.0    174ms\n",
      "  4   -2.772170642166       -6.36       -3.12    1.0    148ms\n",
      "  5   -2.772170722837       -7.09       -4.30    2.0    169ms\n",
      "  6   -2.772170722967       -9.89       -4.63    1.0    194ms\n",
      "  7   -2.772170723013      -10.33       -5.63    1.0    154ms\n",
      "  8   -2.772170723015      -11.74       -6.01    2.0    180ms\n",
      "  9   -2.772170723015      -13.12       -7.30    1.0    173ms\n",
      " 10   -2.772170723015      -14.51       -7.74    2.0    201ms\n",
      " 11   -2.772170723015      -15.05       -8.32    2.0    194ms\n",
      "n     Energy            log10(ΔE)   log10(Δρ)   Diag   Δtime\n",
      "---   ---------------   ---------   ---------   ----   ------\n",
      "  1   -2.770743371188                   -0.52    9.0         \n",
      "  2   -2.772059597879       -2.88       -1.33    1.0    191ms\n",
      "  3   -2.772082932973       -4.63       -2.42    1.0    145ms\n",
      "  4   -2.772083332886       -6.40       -3.11    1.0    152ms\n",
      "  5   -2.772083417761       -7.07       -4.59    2.0    216ms\n",
      "  6   -2.772083417785      -10.61       -4.71    1.0    151ms\n",
      "  7   -2.772083417809      -10.63       -5.76    1.0    154ms\n",
      "  8   -2.772083417811      -11.77       -6.05    2.0    201ms\n",
      "  9   -2.772083417811      -13.03       -6.62    1.0    157ms\n",
      " 10   -2.772083417811      -13.81       -7.92    1.0    182ms\n",
      " 11   -2.772083417811   +    -Inf       -9.24    2.0    188ms\n"
     ]
    },
    {
     "output_type": "execute_result",
     "data": {
      "text/plain": "1.7735578737999809"
     },
     "metadata": {},
     "execution_count": 2
    }
   ],
   "cell_type": "code",
   "source": [
    "polarizability_fd = let\n",
    "    ε = 0.01\n",
    "    (compute_dipole(ε) - compute_dipole(0.0)) / ε\n",
    "end"
   ],
   "metadata": {},
   "execution_count": 2
  },
  {
   "cell_type": "markdown",
   "source": [
    "We do the same thing using automatic differentiation. Under the hood this uses\n",
    "custom rules to implicitly differentiate through the self-consistent\n",
    "field fixed-point problem."
   ],
   "metadata": {}
  },
  {
   "outputs": [
    {
     "name": "stdout",
     "output_type": "stream",
     "text": [
      "n     Energy            log10(ΔE)   log10(Δρ)   Diag   Δtime\n",
      "---   ---------------   ---------   ---------   ----   ------\n",
      "  1   -2.770546511064                   -0.53    8.0         \n",
      "  2   -2.772048913283       -2.82       -1.28    1.0    146ms\n",
      "  3   -2.772082187988       -4.48       -2.88    1.0    220ms\n",
      "  4   -2.772083398984       -5.92       -3.44    2.0    169ms\n",
      "  5   -2.772083413632       -7.83       -3.73    2.0    170ms\n",
      "  6   -2.772083417768       -8.38       -5.26    1.0    185ms\n",
      "  7   -2.772083417810      -10.37       -5.69    2.0    451ms\n",
      "  8   -2.772083417810   +  -13.07       -5.65    2.0    242ms\n",
      "  9   -2.772083417811      -12.45       -6.56    1.0    664ms\n",
      " 10   -2.772083417811      -14.03       -7.17    1.0    175ms\n",
      " 11   -2.772083417811   +  -14.12       -7.91    2.0    187ms\n",
      " 12   -2.772083417811   +  -15.35       -8.25    1.0    182ms\n",
      "\n",
      "Polarizability via ForwardDiff:       1.772534984692124\n",
      "Polarizability via finite difference: 1.7735578737999809\n"
     ]
    }
   ],
   "cell_type": "code",
   "source": [
    "polarizability = ForwardDiff.derivative(compute_dipole, 0.0)\n",
    "println()\n",
    "println(\"Polarizability via ForwardDiff:       $polarizability\")\n",
    "println(\"Polarizability via finite difference: $polarizability_fd\")"
   ],
   "metadata": {},
   "execution_count": 3
  }
 ],
 "nbformat_minor": 3,
 "metadata": {
  "language_info": {
   "file_extension": ".jl",
   "mimetype": "application/julia",
   "name": "julia",
   "version": "1.8.5"
  },
  "kernelspec": {
   "name": "julia-1.8",
   "display_name": "Julia 1.8.5",
   "language": "julia"
  }
 },
 "nbformat": 4
}
