{
 "cells": [
  {
   "cell_type": "markdown",
   "source": [
    "# Comparison of DFT solvers"
   ],
   "metadata": {}
  },
  {
   "cell_type": "markdown",
   "source": [
    "We compare four different approaches for solving the DFT minimisation problem,\n",
    "namely a density-based SCF, a potential-based SCF, direct minimisation and Newton."
   ],
   "metadata": {}
  },
  {
   "cell_type": "markdown",
   "source": [
    "First we setup our problem"
   ],
   "metadata": {}
  },
  {
   "outputs": [
    {
     "output_type": "execute_result",
     "data": {
      "text/plain": "1.0e-6"
     },
     "metadata": {},
     "execution_count": 1
    }
   ],
   "cell_type": "code",
   "source": [
    "using DFTK\n",
    "using LinearAlgebra\n",
    "\n",
    "a = 10.26  # Silicon lattice constant in Bohr\n",
    "lattice = a / 2 * [[0 1 1.];\n",
    "                   [1 0 1.];\n",
    "                   [1 1 0.]]\n",
    "Si = ElementPsp(:Si, psp=load_psp(\"hgh/lda/Si-q4\"))\n",
    "atoms     = [Si, Si]\n",
    "positions = [ones(3)/8, -ones(3)/8]\n",
    "\n",
    "model = model_LDA(lattice, atoms, positions)\n",
    "basis = PlaneWaveBasis(model; Ecut=5, kgrid=[3, 3, 3])\n",
    "\n",
    "# Convergence we desire in the density\n",
    "tol = 1e-6"
   ],
   "metadata": {},
   "execution_count": 1
  },
  {
   "cell_type": "markdown",
   "source": [
    "## Density-based self-consistent field"
   ],
   "metadata": {}
  },
  {
   "outputs": [
    {
     "name": "stdout",
     "output_type": "stream",
     "text": [
      "n     Energy            log10(ΔE)   log10(Δρ)   Diag   Δtime\n",
      "---   ---------------   ---------   ---------   ----   ------\n",
      "  1   -7.846705468839                   -0.70    4.5         \n",
      "  2   -7.852299507379       -2.25       -1.54    1.0   22.5ms\n",
      "  3   -7.852609027163       -3.51       -2.56    1.5   24.8ms\n",
      "  4   -7.852645981234       -4.43       -2.87    2.5   30.6ms\n",
      "  5   -7.852646476317       -6.31       -3.13    1.0   22.6ms\n",
      "  6   -7.852646679705       -6.69       -4.18    1.0   23.1ms\n",
      "  7   -7.852646686637       -8.16       -4.79    2.2   30.1ms\n",
      "  8   -7.852646686722      -10.07       -5.48    1.2   24.0ms\n",
      "  9   -7.852646686726      -11.39       -5.47    1.8   27.5ms\n",
      " 10   -7.852646686730      -11.45       -6.79    1.0   23.1ms\n"
     ]
    }
   ],
   "cell_type": "code",
   "source": [
    "scfres_scf = self_consistent_field(basis; tol);"
   ],
   "metadata": {},
   "execution_count": 2
  },
  {
   "cell_type": "markdown",
   "source": [
    "## Potential-based SCF"
   ],
   "metadata": {}
  },
  {
   "outputs": [
    {
     "name": "stdout",
     "output_type": "stream",
     "text": [
      "n     Energy            log10(ΔE)   log10(Δρ)   α      Diag   Δtime\n",
      "---   ---------------   ---------   ---------   ----   ----   ------\n",
      "  1   -7.846861981055                   -0.70           4.2         \n",
      "  2   -7.852526544895       -2.25       -1.64   0.80    2.2    251ms\n",
      "  3   -7.852635484328       -3.96       -2.74   0.80    1.0   21.5ms\n",
      "  4   -7.852646585303       -4.95       -3.23   0.80    2.0   28.0ms\n",
      "  5   -7.852646681395       -7.02       -4.09   0.80    1.2   22.4ms\n",
      "  6   -7.852646686340       -8.31       -4.93   0.80    1.8   24.4ms\n",
      "  7   -7.852646686724       -9.42       -5.74   0.80    2.0   27.2ms\n",
      "  8   -7.852646686730      -11.28       -7.02   0.80    2.2   27.8ms\n"
     ]
    }
   ],
   "cell_type": "code",
   "source": [
    "scfres_scfv = DFTK.scf_potential_mixing(basis; tol);"
   ],
   "metadata": {},
   "execution_count": 3
  },
  {
   "cell_type": "markdown",
   "source": [
    "## Direct minimization\n",
    "Note: Unlike the other algorithms, tolerance for this one is in the energy,\n",
    "thus we square the density tolerance value to be roughly equivalent."
   ],
   "metadata": {}
  },
  {
   "outputs": [
    {
     "name": "stdout",
     "output_type": "stream",
     "text": [
      "Iter     Function value   Gradient norm \n",
      "     0     1.414416e+01     3.819027e+00\n",
      " * time: 0.06415700912475586\n",
      "     1     1.499629e+00     1.816671e+00\n",
      " * time: 0.28557395935058594\n",
      "     2    -1.828028e+00     2.140743e+00\n",
      " * time: 0.3086268901824951\n",
      "     3    -3.781181e+00     1.699356e+00\n",
      " * time: 0.3420140743255615\n",
      "     4    -5.284528e+00     1.673057e+00\n",
      " * time: 0.3753979206085205\n",
      "     5    -6.781747e+00     1.205959e+00\n",
      " * time: 0.408519983291626\n",
      "     6    -6.801508e+00     1.846747e+00\n",
      " * time: 0.49550294876098633\n",
      "     7    -7.399865e+00     1.634452e+00\n",
      " * time: 0.5188210010528564\n",
      "     8    -7.475928e+00     2.672984e+00\n",
      " * time: 0.5417439937591553\n",
      "     9    -7.556175e+00     1.440332e+00\n",
      " * time: 0.5744199752807617\n",
      "    10    -7.609637e+00     1.086797e+00\n",
      " * time: 0.6174969673156738\n",
      "    11    -7.705436e+00     1.523459e+00\n",
      " * time: 0.6401748657226562\n",
      "    12    -7.739166e+00     1.174956e+00\n",
      " * time: 0.6632978916168213\n",
      "    13    -7.752216e+00     8.066082e-01\n",
      " * time: 0.6965310573577881\n",
      "    14    -7.775136e+00     8.195260e-01\n",
      " * time: 0.71999192237854\n",
      "    15    -7.793799e+00     3.381609e-01\n",
      " * time: 0.7430088520050049\n",
      "    16    -7.808668e+00     1.135232e-01\n",
      " * time: 0.7656879425048828\n",
      "    17    -7.826031e+00     1.108195e-01\n",
      " * time: 0.7887530326843262\n",
      "    18    -7.842759e+00     5.394946e-02\n",
      " * time: 0.811661958694458\n",
      "    19    -7.848969e+00     2.436825e-02\n",
      " * time: 0.8345119953155518\n",
      "    20    -7.851123e+00     1.724585e-02\n",
      " * time: 0.8573648929595947\n",
      "    21    -7.852238e+00     8.469975e-03\n",
      " * time: 0.8800010681152344\n",
      "    22    -7.852507e+00     6.062297e-03\n",
      " * time: 0.9029090404510498\n",
      "    23    -7.852620e+00     4.153117e-03\n",
      " * time: 0.9257528781890869\n",
      "    24    -7.852641e+00     5.002568e-03\n",
      " * time: 0.9484438896179199\n",
      "    25    -7.852645e+00     2.027080e-03\n",
      " * time: 0.9720559120178223\n",
      "    26    -7.852646e+00     4.893335e-04\n",
      " * time: 0.9947469234466553\n",
      "    27    -7.852646e+00     2.647019e-04\n",
      " * time: 1.0174908638000488\n",
      "    28    -7.852647e+00     2.642852e-04\n",
      " * time: 1.0401899814605713\n",
      "    29    -7.852647e+00     9.840857e-05\n",
      " * time: 1.0631940364837646\n",
      "    30    -7.852647e+00     8.111702e-05\n",
      " * time: 1.0859599113464355\n",
      "    31    -7.852647e+00     4.364955e-05\n",
      " * time: 1.1090278625488281\n",
      "    32    -7.852647e+00     1.696508e-05\n",
      " * time: 1.132066011428833\n",
      "    33    -7.852647e+00     1.452268e-05\n",
      " * time: 1.1551330089569092\n",
      "    34    -7.852647e+00     7.304796e-06\n",
      " * time: 1.1786189079284668\n",
      "    35    -7.852647e+00     3.437986e-06\n",
      " * time: 1.201570987701416\n",
      "    36    -7.852647e+00     2.414105e-06\n",
      " * time: 1.2253940105438232\n",
      "    37    -7.852647e+00     1.400840e-06\n",
      " * time: 1.248607873916626\n",
      "    38    -7.852647e+00     8.778237e-07\n",
      " * time: 1.272101879119873\n",
      "    39    -7.852647e+00     5.076841e-07\n",
      " * time: 1.2954819202423096\n",
      "    40    -7.852647e+00     4.219665e-07\n",
      " * time: 1.3186328411102295\n",
      "    41    -7.852647e+00     2.119466e-07\n",
      " * time: 1.3420639038085938\n",
      "    42    -7.852647e+00     7.051841e-08\n",
      " * time: 1.364832878112793\n",
      "    43    -7.852647e+00     5.175837e-08\n",
      " * time: 1.3880589008331299\n",
      "    44    -7.852647e+00     3.766278e-08\n",
      " * time: 1.4107439517974854\n",
      "    45    -7.852647e+00     1.756258e-08\n",
      " * time: 1.4339039325714111\n",
      "    46    -7.852647e+00     1.151741e-08\n",
      " * time: 1.4565620422363281\n",
      "    47    -7.852647e+00     1.151740e-08\n",
      " * time: 1.590911865234375\n"
     ]
    }
   ],
   "cell_type": "code",
   "source": [
    "scfres_dm = direct_minimization(basis; tol=tol^2);"
   ],
   "metadata": {},
   "execution_count": 4
  },
  {
   "cell_type": "markdown",
   "source": [
    "## Newton algorithm"
   ],
   "metadata": {}
  },
  {
   "cell_type": "markdown",
   "source": [
    "Start not too far from the solution to ensure convergence:\n",
    "We run first a very crude SCF to get close and then switch to Newton."
   ],
   "metadata": {}
  },
  {
   "outputs": [
    {
     "name": "stdout",
     "output_type": "stream",
     "text": [
      "n     Energy            log10(ΔE)   log10(Δρ)   Diag   Δtime\n",
      "---   ---------------   ---------   ---------   ----   ------\n",
      "  1   -7.846841719537                   -0.70    4.8         \n"
     ]
    }
   ],
   "cell_type": "code",
   "source": [
    "scfres_start = self_consistent_field(basis; tol=0.5);"
   ],
   "metadata": {},
   "execution_count": 5
  },
  {
   "cell_type": "markdown",
   "source": [
    "Remove the virtual orbitals (which Newton cannot treat yet)"
   ],
   "metadata": {}
  },
  {
   "outputs": [
    {
     "name": "stdout",
     "output_type": "stream",
     "text": [
      "n     Energy            log10(ΔE)   log10(Δρ)   Δtime\n",
      "---   ---------------   ---------   ---------   ------\n",
      "  1   -7.852645906125                   -1.64         \n",
      "  2   -7.852646686730       -6.11       -3.71    1.85s\n",
      "  3   -7.852646686730      -13.29       -7.25    145ms\n"
     ]
    }
   ],
   "cell_type": "code",
   "source": [
    "ψ = DFTK.select_occupied_orbitals(basis, scfres_start.ψ, scfres_start.occupation).ψ\n",
    "scfres_newton = newton(basis, ψ; tol);"
   ],
   "metadata": {},
   "execution_count": 6
  },
  {
   "cell_type": "markdown",
   "source": [
    "## Comparison of results"
   ],
   "metadata": {}
  },
  {
   "outputs": [
    {
     "name": "stdout",
     "output_type": "stream",
     "text": [
      "|ρ_newton - ρ_scf|  = 4.285720935158202e-7\n",
      "|ρ_newton - ρ_scfv| = 4.803478664928212e-7\n",
      "|ρ_newton - ρ_dm|   = 1.5003720431345346e-9\n"
     ]
    }
   ],
   "cell_type": "code",
   "source": [
    "println(\"|ρ_newton - ρ_scf|  = \", norm(scfres_newton.ρ - scfres_scf.ρ))\n",
    "println(\"|ρ_newton - ρ_scfv| = \", norm(scfres_newton.ρ - scfres_scfv.ρ))\n",
    "println(\"|ρ_newton - ρ_dm|   = \", norm(scfres_newton.ρ - scfres_dm.ρ))"
   ],
   "metadata": {},
   "execution_count": 7
  }
 ],
 "nbformat_minor": 3,
 "metadata": {
  "language_info": {
   "file_extension": ".jl",
   "mimetype": "application/julia",
   "name": "julia",
   "version": "1.9.3"
  },
  "kernelspec": {
   "name": "julia-1.9",
   "display_name": "Julia 1.9.3",
   "language": "julia"
  }
 },
 "nbformat": 4
}
