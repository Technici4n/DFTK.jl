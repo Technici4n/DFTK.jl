{
 "cells": [
  {
   "cell_type": "markdown",
   "source": [
    "# Polarizability using automatic differentiation\n",
    "\n",
    "Simple example for computing properties using (forward-mode)\n",
    "automatic differentiation.\n",
    "For a more classical approach and more details about computing polarizabilities,\n",
    "see Polarizability by linear response."
   ],
   "metadata": {}
  },
  {
   "outputs": [],
   "cell_type": "code",
   "source": [
    "using DFTK\n",
    "using LinearAlgebra\n",
    "using ForwardDiff\n",
    "\n",
    "# Construct PlaneWaveBasis given a particular electric field strength\n",
    "# Again we take the example of a Helium atom.\n",
    "function make_basis(ε::T; a=10., Ecut=30) where {T}\n",
    "    lattice=T(a) * I(3)  # lattice is a cube of $a$ Bohrs\n",
    "    # Helium at the center of the box\n",
    "    atoms     = [ElementPsp(:He, psp=load_psp(\"hgh/lda/He-q2\"))]\n",
    "    positions = [[1/2, 1/2, 1/2]]\n",
    "\n",
    "    model = model_DFT(lattice, atoms, positions, [:lda_x, :lda_c_vwn];\n",
    "                      extra_terms=[ExternalFromReal(r -> -ε * (r[1] - a/2))],\n",
    "                      symmetries=false)\n",
    "    PlaneWaveBasis(model; Ecut, kgrid=[1, 1, 1])  # No k-point sampling on isolated system\n",
    "end\n",
    "\n",
    "# dipole moment of a given density (assuming the current geometry)\n",
    "function dipole(basis, ρ)\n",
    "    @assert isdiag(basis.model.lattice)\n",
    "    a  = basis.model.lattice[1, 1]\n",
    "    rr = [a * (r[1] - 1/2) for r in r_vectors(basis)]\n",
    "    sum(rr .* ρ) * basis.dvol\n",
    "end\n",
    "\n",
    "# Function to compute the dipole for a given field strength\n",
    "function compute_dipole(ε; tol=1e-8, kwargs...)\n",
    "    scfres = self_consistent_field(make_basis(ε; kwargs...); tol)\n",
    "    dipole(scfres.basis, scfres.ρ)\n",
    "end;"
   ],
   "metadata": {},
   "execution_count": 1
  },
  {
   "cell_type": "markdown",
   "source": [
    "With this in place we can compute the polarizability from finite differences\n",
    "(just like in the previous example):"
   ],
   "metadata": {}
  },
  {
   "outputs": [
    {
     "name": "stdout",
     "output_type": "stream",
     "text": [
      "n     Energy            log10(ΔE)   log10(Δρ)   Diag   Δtime\n",
      "---   ---------------   ---------   ---------   ----   ------\n",
      "  1   -2.770816926974                   -0.53    9.0         \n",
      "  2   -2.772143921504       -2.88       -1.30    1.0    204ms\n",
      "  3   -2.772170153216       -4.58       -2.62    1.0    161ms\n",
      "  4   -2.772170720316       -6.25       -3.92    2.0    190ms\n",
      "  5   -2.772170722732       -8.62       -4.31    2.0    231ms\n",
      "  6   -2.772170723007       -9.56       -5.40    1.0    167ms\n",
      "  7   -2.772170723015      -11.12       -5.96    2.0    196ms\n",
      "  8   -2.772170723015      -12.99       -6.56    1.0    200ms\n",
      "  9   -2.772170723015      -13.86       -7.40    2.0    211ms\n",
      " 10   -2.772170723015   +  -14.75       -8.10    2.0    226ms\n",
      "n     Energy            log10(ΔE)   log10(Δρ)   Diag   Δtime\n",
      "---   ---------------   ---------   ---------   ----   ------\n",
      "  1   -2.770753399937                   -0.53    8.0         \n",
      "  2   -2.772050668940       -2.89       -1.31    1.0    159ms\n",
      "  3   -2.772082666167       -4.49       -2.58    1.0    191ms\n",
      "  4   -2.772083408072       -6.13       -3.65    2.0    188ms\n",
      "  5   -2.772083416862       -8.06       -4.06    1.0    174ms\n",
      "  6   -2.772083417799       -9.03       -4.98    2.0    228ms\n",
      "  7   -2.772083417809      -10.99       -5.71    1.0    169ms\n",
      "  8   -2.772083417811      -11.93       -6.40    2.0    200ms\n",
      "  9   -2.772083417811      -13.82       -6.84    1.0    203ms\n",
      " 10   -2.772083417811      -13.88       -8.14    2.0    208ms\n"
     ]
    },
    {
     "output_type": "execute_result",
     "data": {
      "text/plain": "1.773558063493046"
     },
     "metadata": {},
     "execution_count": 2
    }
   ],
   "cell_type": "code",
   "source": [
    "polarizability_fd = let\n",
    "    ε = 0.01\n",
    "    (compute_dipole(ε) - compute_dipole(0.0)) / ε\n",
    "end"
   ],
   "metadata": {},
   "execution_count": 2
  },
  {
   "cell_type": "markdown",
   "source": [
    "We do the same thing using automatic differentiation. Under the hood this uses\n",
    "custom rules to implicitly differentiate through the self-consistent\n",
    "field fixed-point problem."
   ],
   "metadata": {}
  },
  {
   "outputs": [
    {
     "name": "stdout",
     "output_type": "stream",
     "text": [
      "n     Energy            log10(ΔE)   log10(Δρ)   Diag   Δtime\n",
      "---   ---------------   ---------   ---------   ----   ------\n",
      "  1   -2.770751899086                   -0.53    9.0         \n",
      "  2   -2.772052232574       -2.89       -1.30    1.0    220ms\n",
      "  3   -2.772082863402       -4.51       -2.67    1.0    162ms\n",
      "  4   -2.772083416719       -6.26       -4.05    2.0    227ms\n",
      "  5   -2.772083417781       -8.97       -5.13    1.0    168ms\n",
      "  6   -2.772083417810      -10.54       -5.70    2.0    205ms\n",
      "  7   -2.772083417811      -12.34       -6.24    1.0    171ms\n",
      "  8   -2.772083417811      -13.44       -7.38    1.0    198ms\n",
      "  9   -2.772083417811   +  -15.05       -7.46    2.0    219ms\n",
      " 10   -2.772083417811   +  -14.57       -8.93    1.0    213ms\n",
      "\n",
      "Polarizability via ForwardDiff:       1.772534968771911\n",
      "Polarizability via finite difference: 1.773558063493046\n"
     ]
    }
   ],
   "cell_type": "code",
   "source": [
    "polarizability = ForwardDiff.derivative(compute_dipole, 0.0)\n",
    "println()\n",
    "println(\"Polarizability via ForwardDiff:       $polarizability\")\n",
    "println(\"Polarizability via finite difference: $polarizability_fd\")"
   ],
   "metadata": {},
   "execution_count": 3
  }
 ],
 "nbformat_minor": 3,
 "metadata": {
  "language_info": {
   "file_extension": ".jl",
   "mimetype": "application/julia",
   "name": "julia",
   "version": "1.8.5"
  },
  "kernelspec": {
   "name": "julia-1.8",
   "display_name": "Julia 1.8.5",
   "language": "julia"
  }
 },
 "nbformat": 4
}
