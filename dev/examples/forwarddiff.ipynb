{
 "cells": [
  {
   "cell_type": "markdown",
   "source": [
    "# Polarizability using automatic differentiation\n",
    "\n",
    "Simple example for computing properties using (forward-mode)\n",
    "automatic differentiation.\n",
    "For a more classical approach and more details about computing polarizabilities,\n",
    "see Polarizability by linear response."
   ],
   "metadata": {}
  },
  {
   "outputs": [],
   "cell_type": "code",
   "source": [
    "using DFTK\n",
    "using LinearAlgebra\n",
    "using ForwardDiff\n",
    "\n",
    "# Construct PlaneWaveBasis given a particular electric field strength\n",
    "# Again we take the example of a Helium atom.\n",
    "function make_basis(ε::T; a=10., Ecut=30) where {T}\n",
    "    lattice=T(a) * I(3)  # lattice is a cube of $a$ Bohrs\n",
    "    # Helium at the center of the box\n",
    "    atoms     = [ElementPsp(:He, psp=load_psp(\"hgh/lda/He-q2\"))]\n",
    "    positions = [[1/2, 1/2, 1/2]]\n",
    "\n",
    "    model = model_DFT(lattice, atoms, positions, [:lda_x, :lda_c_vwn];\n",
    "                      extra_terms=[ExternalFromReal(r -> -ε * (r[1] - a/2))],\n",
    "                      symmetries=false)\n",
    "    PlaneWaveBasis(model; Ecut, kgrid=[1, 1, 1])  # No k-point sampling on isolated system\n",
    "end\n",
    "\n",
    "# dipole moment of a given density (assuming the current geometry)\n",
    "function dipole(basis, ρ)\n",
    "    @assert isdiag(basis.model.lattice)\n",
    "    a  = basis.model.lattice[1, 1]\n",
    "    rr = [a * (r[1] - 1/2) for r in r_vectors(basis)]\n",
    "    sum(rr .* ρ) * basis.dvol\n",
    "end\n",
    "\n",
    "# Function to compute the dipole for a given field strength\n",
    "function compute_dipole(ε; tol=1e-8, kwargs...)\n",
    "    scfres = self_consistent_field(make_basis(ε; kwargs...); tol)\n",
    "    dipole(scfres.basis, scfres.ρ)\n",
    "end;"
   ],
   "metadata": {},
   "execution_count": 1
  },
  {
   "cell_type": "markdown",
   "source": [
    "With this in place we can compute the polarizability from finite differences\n",
    "(just like in the previous example):"
   ],
   "metadata": {}
  },
  {
   "outputs": [
    {
     "name": "stdout",
     "output_type": "stream",
     "text": [
      "n     Energy            log10(ΔE)   log10(Δρ)   Diag   Δtime\n",
      "---   ---------------   ---------   ---------   ----   ------\n",
      "  1   -2.770929695973                   -0.53    9.0         \n",
      "  2   -2.772149069712       -2.91       -1.32    1.0    201ms\n",
      "  3   -2.772170390287       -4.67       -2.49    1.0    166ms\n",
      "  4   -2.772170663647       -6.56       -3.24    1.0    168ms\n",
      "  5   -2.772170721890       -7.23       -3.93    2.0    192ms\n",
      "  6   -2.772170722842       -9.02       -4.41    1.0    193ms\n",
      "  7   -2.772170723009       -9.78       -5.21    1.0    174ms\n",
      "  8   -2.772170723015      -11.23       -5.75    2.0    200ms\n",
      "  9   -2.772170723015      -12.53       -6.56    1.0    200ms\n",
      " 10   -2.772170723015      -13.67       -6.80    1.0    190ms\n",
      " 11   -2.772170723015   +  -14.31       -7.19    1.0    202ms\n",
      " 12   -2.772170723015      -14.65       -7.37    1.0    191ms\n",
      " 13   -2.772170723015   +  -14.75       -7.88    2.0    214ms\n",
      " 14   -2.772170723015   +  -14.35       -8.08    1.0    192ms\n",
      "n     Energy            log10(ΔE)   log10(Δρ)   Diag   Δtime\n",
      "---   ---------------   ---------   ---------   ----   ------\n",
      "  1   -2.770752148690                   -0.52    9.0         \n",
      "  2   -2.772058791422       -2.88       -1.33    1.0    163ms\n",
      "  3   -2.772082814748       -4.62       -2.40    1.0    165ms\n",
      "  4   -2.772083325557       -6.29       -3.09    1.0    281ms\n",
      "  5   -2.772083417660       -7.04       -4.74    2.0    190ms\n",
      "  6   -2.772083417804       -9.84       -4.88    2.0    193ms\n",
      "  7   -2.772083417810      -11.19       -5.83    1.0    591ms\n",
      "  8   -2.772083417811      -12.20       -6.39    2.0    202ms\n",
      "  9   -2.772083417811      -13.50       -6.97    1.0    190ms\n",
      " 10   -2.772083417811      -13.65       -8.04    2.0    227ms\n"
     ]
    },
    {
     "output_type": "execute_result",
     "data": {
      "text/plain": "1.7735581037663906"
     },
     "metadata": {},
     "execution_count": 2
    }
   ],
   "cell_type": "code",
   "source": [
    "polarizability_fd = let\n",
    "    ε = 0.01\n",
    "    (compute_dipole(ε) - compute_dipole(0.0)) / ε\n",
    "end"
   ],
   "metadata": {},
   "execution_count": 2
  },
  {
   "cell_type": "markdown",
   "source": [
    "We do the same thing using automatic differentiation. Under the hood this uses\n",
    "custom rules to implicitly differentiate through the self-consistent\n",
    "field fixed-point problem."
   ],
   "metadata": {}
  },
  {
   "outputs": [
    {
     "name": "stdout",
     "output_type": "stream",
     "text": [
      "n     Energy            log10(ΔE)   log10(Δρ)   Diag   Δtime\n",
      "---   ---------------   ---------   ---------   ----   ------\n",
      "  1   -2.770795054502                   -0.53   10.0         \n",
      "  2   -2.772053188698       -2.90       -1.30    1.0    165ms\n",
      "  3   -2.772082716601       -4.53       -2.71    1.0    167ms\n",
      "  4   -2.772083409791       -6.16       -3.63    2.0    219ms\n",
      "  5   -2.772083416546       -8.17       -4.00    1.0    170ms\n",
      "  6   -2.772083417790       -8.91       -4.78    2.0    218ms\n",
      "  7   -2.772083417808      -10.74       -5.34    1.0    173ms\n",
      "  8   -2.772083417811      -11.54       -6.71    2.0    214ms\n",
      "  9   -2.772083417811      -14.27       -7.24    1.0    191ms\n",
      " 10   -2.772083417811      -13.77       -7.46    1.0    201ms\n",
      " 11   -2.772083417811   +  -14.40       -8.94    1.0    182ms\n",
      "\n",
      "Polarizability via ForwardDiff:       1.7725349724477377\n",
      "Polarizability via finite difference: 1.7735581037663906\n"
     ]
    }
   ],
   "cell_type": "code",
   "source": [
    "polarizability = ForwardDiff.derivative(compute_dipole, 0.0)\n",
    "println()\n",
    "println(\"Polarizability via ForwardDiff:       $polarizability\")\n",
    "println(\"Polarizability via finite difference: $polarizability_fd\")"
   ],
   "metadata": {},
   "execution_count": 3
  }
 ],
 "nbformat_minor": 3,
 "metadata": {
  "language_info": {
   "file_extension": ".jl",
   "mimetype": "application/julia",
   "name": "julia",
   "version": "1.8.5"
  },
  "kernelspec": {
   "name": "julia-1.8",
   "display_name": "Julia 1.8.5",
   "language": "julia"
  }
 },
 "nbformat": 4
}
