{
 "cells": [
  {
   "cell_type": "markdown",
   "source": [
    "# Eigenvalues of the dielectric matrix\n",
    "\n",
    "We compute a few eigenvalues of the dielectric matrix ($q=0$, $ω=0$) iteratively."
   ],
   "metadata": {}
  },
  {
   "outputs": [
    {
     "name": "stdout",
     "output_type": "stream",
     "text": [
      "n     Energy            log10(ΔE)   log10(Δρ)   Diag\n",
      "---   ---------------   ---------   ---------   ----\n",
      "  1   -7.234274307830                   -0.50    8.0\n",
      "  2   -7.249896893972       -1.81       -1.38    1.0\n",
      "  3   -7.250576864996       -3.17       -1.71    2.0\n",
      "  4   -7.250936136746       -3.44       -1.86    1.0\n",
      "  5   -7.251331906477       -3.40       -2.78    1.0\n",
      "  6   -7.251338263726       -5.20       -3.17    3.0\n",
      "  7   -7.251338730790       -6.33       -3.66    1.0\n",
      "  8   -7.251338792274       -7.21       -4.38    1.0\n",
      "  9   -7.251338798148       -8.23       -4.67    3.0\n",
      " 10   -7.251338798652       -9.30       -5.19    1.0\n",
      " 11   -7.251338798691      -10.41       -5.50    2.0\n",
      " 12   -7.251338798703      -10.90       -5.96    1.0\n",
      " 13   -7.251338798704      -11.94       -6.25    2.0\n",
      " 14   -7.251338798704      -12.72       -6.81    1.0\n",
      " 15   -7.251338798705      -13.43       -7.14    2.0\n",
      " 16   -7.251338798705      -14.15       -7.62    1.0\n",
      " 17   -7.251338798705      -14.75       -7.66    2.0\n",
      " 18   -7.251338798705   +  -14.75       -8.43    1.0\n"
     ]
    }
   ],
   "cell_type": "code",
   "source": [
    "using DFTK\n",
    "using Plots\n",
    "using KrylovKit\n",
    "using Printf\n",
    "\n",
    "# Calculation parameters\n",
    "kgrid = [1, 1, 1]\n",
    "Ecut = 5\n",
    "\n",
    "# Silicon lattice\n",
    "a = 10.26\n",
    "lattice = a / 2 .* [[0 1 1.]; [1 0 1.]; [1 1 0.]]\n",
    "Si = ElementPsp(:Si, psp=load_psp(\"hgh/lda/Si-q4\"))\n",
    "atoms     = [Si, Si]\n",
    "positions = [ones(3)/8, -ones(3)/8]\n",
    "\n",
    "# Compute the dielectric operator without symmetries\n",
    "model  = model_LDA(lattice, atoms, positions, symmetries=false)\n",
    "basis  = PlaneWaveBasis(model; Ecut, kgrid)\n",
    "scfres = self_consistent_field(basis, tol=1e-8);"
   ],
   "metadata": {},
   "execution_count": 1
  },
  {
   "cell_type": "markdown",
   "source": [
    "Applying $ε^† ≔ (1- χ_0 K)$ …"
   ],
   "metadata": {}
  },
  {
   "outputs": [],
   "cell_type": "code",
   "source": [
    "function eps_fun(δρ)\n",
    "    δV = apply_kernel(basis, δρ; ρ=scfres.ρ)\n",
    "    χ0δV = apply_χ0(scfres, δV)\n",
    "    δρ - χ0δV\n",
    "end;"
   ],
   "metadata": {},
   "execution_count": 2
  },
  {
   "cell_type": "markdown",
   "source": [
    "… eagerly diagonalizes the subspace matrix at each iteration"
   ],
   "metadata": {}
  },
  {
   "outputs": [
    {
     "name": "stdout",
     "output_type": "stream",
     "text": [
      "[ Info: Arnoldi iteration step 1: normres = 0.04800132112501075\n",
      "[ Info: Arnoldi iteration step 2: normres = 0.46575189394239136\n",
      "[ Info: Arnoldi iteration step 3: normres = 0.30201360463938\n",
      "[ Info: Arnoldi iteration step 4: normres = 1.086397369834899\n",
      "[ Info: Arnoldi iteration step 5: normres = 0.3864178211866155\n",
      "[ Info: Arnoldi schursolve in iter 1, krylovdim = 5: 0 values converged, normres = (2.45e-01, 5.93e-02, 1.64e-01, 2.43e-01, 1.65e-02)\n",
      "[ Info: Arnoldi iteration step 6: normres = 0.406190075182722\n",
      "[ Info: Arnoldi schursolve in iter 1, krylovdim = 6: 0 values converged, normres = (9.57e-02, 2.42e-01, 2.92e-01, 5.90e-02, 7.21e-02)\n",
      "[ Info: Arnoldi iteration step 7: normres = 0.08762074514958924\n",
      "[ Info: Arnoldi schursolve in iter 1, krylovdim = 7: 0 values converged, normres = (4.17e-03, 2.34e-02, 1.22e-02, 1.93e-02, 7.16e-02)\n",
      "[ Info: Arnoldi iteration step 8: normres = 0.11167132090521631\n",
      "[ Info: Arnoldi schursolve in iter 1, krylovdim = 8: 0 values converged, normres = (2.00e-04, 1.84e-03, 1.06e-03, 6.91e-03, 4.84e-02)\n",
      "[ Info: Arnoldi iteration step 9: normres = 0.07584834093621425\n",
      "[ Info: Arnoldi schursolve in iter 1, krylovdim = 9: 0 values converged, normres = (6.68e-06, 1.02e-04, 6.53e-05, 2.07e-03, 3.75e-02)\n",
      "[ Info: Arnoldi iteration step 10: normres = 0.08452916871435384\n",
      "[ Info: Arnoldi schursolve in iter 1, krylovdim = 10: 0 values converged, normres = (2.42e-07, 6.08e-06, 4.31e-06, 5.65e-04, 2.00e-02)\n",
      "[ Info: Arnoldi iteration step 11: normres = 0.07320657403127438\n",
      "[ Info: Arnoldi schursolve in iter 1, krylovdim = 11: 0 values converged, normres = (7.81e-09, 3.27e-07, 2.58e-07, 1.60e-04, 1.47e-02)\n",
      "[ Info: Arnoldi iteration step 12: normres = 0.06331574327030184\n",
      "[ Info: Arnoldi schursolve in iter 1, krylovdim = 12: 0 values converged, normres = (2.07e-10, 1.39e-08, 1.22e-08, 2.66e-05, 4.43e-03)\n",
      "[ Info: Arnoldi iteration step 13: normres = 0.06377486929151477\n",
      "[ Info: Arnoldi schursolve in iter 1, krylovdim = 13: 0 values converged, normres = (5.71e-12, 6.34e-10, 6.14e-10, 5.50e-06, 1.82e-03)\n",
      "[ Info: Arnoldi iteration step 14: normres = 0.6976050080892234\n",
      "[ Info: Arnoldi schursolve in iter 1, krylovdim = 14: 0 values converged, normres = (2.60e-12, 7.10e-10, 8.87e-10, 6.95e-01, 1.21e-02)\n",
      "[ Info: Arnoldi iteration step 15: normres = 0.11280845117820248\n",
      "[ Info: Arnoldi schursolve in iter 1, krylovdim = 15: 1 values converged, normres = (1.94e-13, 6.50e-10, 6.94e-02, 1.14e-03, 9.09e-06)\n",
      "[ Info: Arnoldi iteration step 16: normres = 0.36738482491962277\n",
      "[ Info: Arnoldi schursolve in iter 1, krylovdim = 16: 1 values converged, normres = (6.52e-14, 2.64e-09, 1.41e-01, 6.66e-03, 3.37e-01)\n",
      "[ Info: Arnoldi iteration step 17: normres = 0.03242883593397666\n",
      "[ Info: Arnoldi schursolve in iter 1, krylovdim = 17: 1 values converged, normres = (9.61e-16, 2.06e-08, 4.90e-03, 3.08e-06, 7.15e-03)\n",
      "[ Info: Arnoldi iteration step 18: normres = 0.029540865160393014\n",
      "[ Info: Arnoldi schursolve in iter 1, krylovdim = 18: 1 values converged, normres = (1.18e-17, 1.34e-05, 9.49e-05, 1.39e-04, 6.64e-05)\n",
      "[ Info: Arnoldi iteration step 19: normres = 0.20640051422772868\n",
      "[ Info: Arnoldi schursolve in iter 1, krylovdim = 19: 1 values converged, normres = (1.12e-18, 2.89e-07, 1.58e-05, 2.33e-08, 2.86e-05)\n",
      "[ Info: Arnoldi iteration step 20: normres = 0.03265258973390977\n",
      "[ Info: Arnoldi schursolve in iter 1, krylovdim = 20: 1 values converged, normres = (1.63e-20, 1.16e-08, 3.87e-07, 7.83e-07, 5.15e-08)\n",
      "[ Info: Arnoldi iteration step 21: normres = 0.032360566073000537\n",
      "[ Info: Arnoldi schursolve in iter 1, krylovdim = 21: 1 values converged, normres = (2.19e-22, 2.39e-09, 8.02e-09, 9.22e-09, 1.63e-08)\n",
      "[ Info: Arnoldi iteration step 22: normres = 0.027881232919921783\n",
      "[ Info: Arnoldi schursolve in iter 1, krylovdim = 22: 1 values converged, normres = (2.52e-24, 4.47e-11, 1.47e-10, 2.41e-10, 2.92e-10)\n",
      "[ Info: Arnoldi iteration step 23: normres = 0.7148065511923536\n",
      "[ Info: Arnoldi schursolve in iter 1, krylovdim = 23: 1 values converged, normres = (1.14e-24, 4.82e-11, 1.58e-10, 3.43e-10, 3.83e-10)\n",
      "[ Info: Arnoldi iteration step 24: normres = 0.018710323784196264\n",
      "[ Info: Arnoldi schursolve in iter 1, krylovdim = 24: 1 values converged, normres = (1.32e-26, 2.81e-12, 9.23e-12, 8.81e-03, 2.79e-03)\n",
      "[ Info: Arnoldi iteration step 25: normres = 0.02212319514473471\n",
      "[ Info: Arnoldi schursolve in iter 1, krylovdim = 25: 3 values converged, normres = (1.19e-28, 4.02e-14, 1.32e-13, 2.27e-05, 8.92e-05)\n",
      "[ Info: Arnoldi iteration step 26: normres = 0.11586529150525517\n",
      "[ Info: Arnoldi schursolve in iter 1, krylovdim = 26: 3 values converged, normres = (6.07e-30, 3.40e-15, 1.11e-14, 3.37e-09, 4.21e-09)\n",
      "[ Info: Arnoldi iteration step 27: normres = 0.03538472096612915\n",
      "[ Info: Arnoldi schursolve in iter 1, krylovdim = 27: 3 values converged, normres = (9.13e-32, 8.33e-17, 2.73e-16, 4.10e-07, 1.80e-07)\n",
      "[ Info: Arnoldi iteration step 28: normres = 0.12172775378104599\n",
      "[ Info: Arnoldi schursolve in iter 1, krylovdim = 28: 3 values converged, normres = (4.91e-33, 7.48e-18, 2.45e-17, 3.25e-09, 6.99e-09)\n",
      "[ Info: Arnoldi iteration step 29: normres = 0.18282646559134572\n",
      "[ Info: Arnoldi schursolve in iter 1, krylovdim = 29: 3 values converged, normres = (4.00e-34, 1.03e-18, 3.36e-18, 5.74e-09, 4.11e-09)\n",
      "[ Info: Arnoldi iteration step 30: normres = 0.02510563711383677\n",
      "[ Info: Arnoldi schursolve in iter 1, krylovdim = 30: 3 values converged, normres = (4.71e-36, 2.10e-20, 6.89e-20, 1.66e-10, 2.96e-11)\n",
      "[ Info: Arnoldi schursolve in iter 2, krylovdim = 19: 3 values converged, normres = (4.88e-36, 2.10e-20, 6.89e-20, 1.66e-10, 2.96e-11)\n",
      "[ Info: Arnoldi iteration step 20: normres = 0.03147979302639787\n",
      "[ Info: Arnoldi schursolve in iter 2, krylovdim = 20: 3 values converged, normres = (6.08e-38, 4.32e-22, 1.42e-21, 3.75e-12, 6.29e-13)\n",
      "[ Info: Arnoldi iteration step 21: normres = 0.07311801717103608\n",
      "┌ Info: Arnoldi eigsolve finished after 2 iterations:\n",
      "│ *  6 eigenvalues converged\n",
      "│ *  norm of residuals = (1.8891009682538274e-39, 2.1829961115973703e-23, 7.459727514956157e-23, 2.100851200120331e-13, 7.380177528517635e-14, 7.076226052338817e-14)\n",
      "└ *  number of operations = 32\n"
     ]
    }
   ],
   "cell_type": "code",
   "source": [
    "eigsolve(eps_fun, randn(size(scfres.ρ)), 5, :LM; eager=true, verbosity=3);"
   ],
   "metadata": {},
   "execution_count": 3
  }
 ],
 "nbformat_minor": 3,
 "metadata": {
  "language_info": {
   "file_extension": ".jl",
   "mimetype": "application/julia",
   "name": "julia",
   "version": "1.8.3"
  },
  "kernelspec": {
   "name": "julia-1.8",
   "display_name": "Julia 1.8.3",
   "language": "julia"
  }
 },
 "nbformat": 4
}
