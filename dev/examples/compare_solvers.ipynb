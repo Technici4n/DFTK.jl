{
 "cells": [
  {
   "cell_type": "markdown",
   "source": [
    "# Comparison of DFT solvers"
   ],
   "metadata": {}
  },
  {
   "cell_type": "markdown",
   "source": [
    "We compare four different approaches for solving the DFT minimisation problem,\n",
    "namely a density-based SCF, a potential-based SCF, direct minimisation and Newton."
   ],
   "metadata": {}
  },
  {
   "cell_type": "markdown",
   "source": [
    "First we setup our problem"
   ],
   "metadata": {}
  },
  {
   "outputs": [],
   "cell_type": "code",
   "source": [
    "using DFTK\n",
    "using LinearAlgebra\n",
    "\n",
    "a = 10.26  # Silicon lattice constant in Bohr\n",
    "lattice = a / 2 * [[0 1 1.];\n",
    "                   [1 0 1.];\n",
    "                   [1 1 0.]]\n",
    "Si = ElementPsp(:Si, psp=load_psp(\"hgh/lda/Si-q4\"))\n",
    "atoms     = [Si, Si]\n",
    "positions = [ones(3)/8, -ones(3)/8]\n",
    "\n",
    "model = model_LDA(lattice, atoms, positions)\n",
    "basis = PlaneWaveBasis(model; Ecut=5, kgrid=[3, 3, 3])\n",
    "\n",
    "# Convergence we desire\n",
    "tol = 1e-12\n",
    "is_converged = DFTK.ScfConvergenceDensity(tol);"
   ],
   "metadata": {},
   "execution_count": 1
  },
  {
   "cell_type": "markdown",
   "source": [
    "## Density-based self-consistent field"
   ],
   "metadata": {}
  },
  {
   "outputs": [
    {
     "name": "stdout",
     "output_type": "stream",
     "text": [
      "n     Energy            log10(ΔE)   log10(Δρ)   Diag\n",
      "---   ---------------   ---------   ---------   ----\n",
      "  1   -7.846753238711                   -0.70    4.2\n",
      "  2   -7.852263983678       -2.26       -1.53    1.0\n",
      "  3   -7.852645951639       -3.42       -2.53    3.0\n",
      "  4   -7.852646676246       -6.14       -3.35    2.5\n",
      "  5   -7.852646685929       -8.01       -4.74    1.2\n",
      "  6   -7.852646686725       -9.10       -5.25    4.2\n",
      "  7   -7.852646686729      -11.38       -5.87    2.0\n",
      "  8   -7.852646686730      -12.38       -7.26    2.0\n",
      "  9   -7.852646686730      -14.27       -7.77    2.5\n",
      " 10   -7.852646686730   +  -14.45       -8.94    2.0\n",
      " 11   -7.852646686730      -14.75       -9.50    1.8\n",
      " 12   -7.852646686730   +    -Inf       -8.70    1.0\n",
      " 13   -7.852646686730   +  -14.27       -8.83    1.2\n",
      " 14   -7.852646686730      -14.27       -8.51    2.0\n",
      " 15   -7.852646686730   +  -14.57       -9.04    1.0\n",
      " 16   -7.852646686730   +    -Inf       -8.89    1.0\n",
      " 17   -7.852646686730      -15.05       -9.72    1.0\n",
      " 18   -7.852646686730   +  -14.75       -9.81    1.0\n",
      " 19   -7.852646686730   +  -14.75      -10.12    1.0\n",
      " 20   -7.852646686730      -14.45      -11.08    1.0\n",
      " 21   -7.852646686730   +  -14.75      -11.55    1.0\n",
      " 22   -7.852646686730   +    -Inf      -12.82    2.2\n"
     ]
    }
   ],
   "cell_type": "code",
   "source": [
    "scfres_scf = self_consistent_field(basis; is_converged);"
   ],
   "metadata": {},
   "execution_count": 2
  },
  {
   "cell_type": "markdown",
   "source": [
    "## Potential-based SCF"
   ],
   "metadata": {}
  },
  {
   "outputs": [
    {
     "name": "stdout",
     "output_type": "stream",
     "text": [
      "n     Energy            log10(ΔE)   log10(Δρ)   α      Diag\n",
      "---   ---------------   ---------   ---------   ----   ----\n",
      "  1   -7.846815799667                   -0.70           4.8\n",
      "  2   -7.852525955694       -2.24       -1.63   0.80    2.0\n",
      "  3   -7.852637155634       -3.95       -2.70   0.80    1.0\n",
      "  4   -7.852646403098       -5.03       -3.31   0.80    2.2\n",
      "  5   -7.852646682103       -6.55       -4.12   0.80    1.8\n",
      "  6   -7.852646686383       -8.37       -4.73   0.80    1.2\n",
      "  7   -7.852646686722       -9.47       -5.76   0.80    1.5\n",
      "  8   -7.852646686730      -11.10       -6.49   0.80    2.0\n",
      "  9   -7.852646686730      -12.73       -7.40   0.80    1.8\n",
      " 10   -7.852646686730      -14.21       -8.16   0.80    2.5\n",
      " 11   -7.852646686730      -14.45       -8.29   0.80    2.0\n",
      " 12   -7.852646686730   +  -14.45       -9.32   0.80    1.0\n",
      " 13   -7.852646686730      -14.45      -10.03   0.80    2.2\n",
      " 14   -7.852646686730   +  -14.75      -10.33   0.80    2.0\n",
      " 15   -7.852646686730   +    -Inf      -11.38   0.80    1.2\n",
      " 16   -7.852646686730   +    -Inf      -12.26   0.80    2.5\n"
     ]
    }
   ],
   "cell_type": "code",
   "source": [
    "scfres_scfv = DFTK.scf_potential_mixing(basis; is_converged);"
   ],
   "metadata": {},
   "execution_count": 3
  },
  {
   "cell_type": "markdown",
   "source": [
    "## Direct minimization"
   ],
   "metadata": {}
  },
  {
   "outputs": [
    {
     "name": "stdout",
     "output_type": "stream",
     "text": [
      "Iter     Function value   Gradient norm \n",
      "     0     1.398401e+01     3.840823e+00\n",
      " * time: 0.35711216926574707\n",
      "     1     1.188877e+00     1.730289e+00\n",
      " * time: 0.5120270252227783\n",
      "     2    -1.279008e+00     2.235397e+00\n",
      " * time: 0.5306510925292969\n",
      "     3    -3.783845e+00     1.801057e+00\n",
      " * time: 0.55715012550354\n",
      "     4    -4.908720e+00     1.466029e+00\n",
      " * time: 0.5837070941925049\n",
      "     5    -6.735595e+00     1.135926e+00\n",
      " * time: 0.6111931800842285\n",
      "     6    -7.434914e+00     3.339177e-01\n",
      " * time: 0.6379101276397705\n",
      "     7    -7.661337e+00     1.585963e-01\n",
      " * time: 0.6571481227874756\n",
      "     8    -7.747480e+00     1.414059e-01\n",
      " * time: 0.6766271591186523\n",
      "     9    -7.803402e+00     7.817952e-02\n",
      " * time: 0.6954360008239746\n",
      "    10    -7.829947e+00     7.455909e-02\n",
      " * time: 0.714846134185791\n",
      "    11    -7.839078e+00     7.032872e-02\n",
      " * time: 0.7344551086425781\n",
      "    12    -7.844134e+00     5.183019e-02\n",
      " * time: 0.7541611194610596\n",
      "    13    -7.847935e+00     3.699192e-02\n",
      " * time: 0.773428201675415\n",
      "    14    -7.850261e+00     2.493568e-02\n",
      " * time: 0.7916831970214844\n",
      "    15    -7.851622e+00     1.678580e-02\n",
      " * time: 0.8102631568908691\n",
      "    16    -7.852307e+00     1.289655e-02\n",
      " * time: 0.8286681175231934\n",
      "    17    -7.852542e+00     5.643412e-03\n",
      " * time: 0.8468441963195801\n",
      "    18    -7.852611e+00     2.540987e-03\n",
      " * time: 0.8651270866394043\n",
      "    19    -7.852633e+00     1.588652e-03\n",
      " * time: 0.8834850788116455\n",
      "    20    -7.852641e+00     9.649186e-04\n",
      " * time: 0.9019680023193359\n",
      "    21    -7.852645e+00     7.021243e-04\n",
      " * time: 0.921058177947998\n",
      "    22    -7.852646e+00     5.812563e-04\n",
      " * time: 0.9395580291748047\n",
      "    23    -7.852647e+00     2.243830e-04\n",
      " * time: 0.9582409858703613\n",
      "    24    -7.852647e+00     1.021488e-04\n",
      " * time: 0.9769241809844971\n",
      "    25    -7.852647e+00     7.879260e-05\n",
      " * time: 0.9953060150146484\n",
      "    26    -7.852647e+00     3.725625e-05\n",
      " * time: 1.0139391422271729\n",
      "    27    -7.852647e+00     2.978722e-05\n",
      " * time: 1.032222032546997\n",
      "    28    -7.852647e+00     1.867016e-05\n",
      " * time: 1.051084041595459\n",
      "    29    -7.852647e+00     7.640076e-06\n",
      " * time: 1.0698590278625488\n",
      "    30    -7.852647e+00     4.000433e-06\n",
      " * time: 1.0885510444641113\n",
      "    31    -7.852647e+00     2.060538e-06\n",
      " * time: 1.1070590019226074\n",
      "    32    -7.852647e+00     1.549300e-06\n",
      " * time: 1.1256680488586426\n",
      "    33    -7.852647e+00     7.578796e-07\n",
      " * time: 1.1444270610809326\n",
      "    34    -7.852647e+00     4.788849e-07\n",
      " * time: 1.1631231307983398\n",
      "    35    -7.852647e+00     3.386498e-07\n",
      " * time: 1.1817622184753418\n",
      "    36    -7.852647e+00     1.598042e-07\n",
      " * time: 1.1999850273132324\n",
      "    37    -7.852647e+00     9.964911e-08\n",
      " * time: 1.219353199005127\n",
      "    38    -7.852647e+00     6.278055e-08\n",
      " * time: 1.2379460334777832\n",
      "    39    -7.852647e+00     3.510105e-08\n",
      " * time: 1.2567720413208008\n",
      "    40    -7.852647e+00     2.174154e-08\n",
      " * time: 1.2756381034851074\n",
      "    41    -7.852647e+00     1.238772e-08\n",
      " * time: 1.2942421436309814\n",
      "    42    -7.852647e+00     1.225801e-08\n",
      " * time: 1.3596820831298828\n",
      "    43    -7.852647e+00     4.119157e-09\n",
      " * time: 1.3781161308288574\n"
     ]
    }
   ],
   "cell_type": "code",
   "source": [
    "scfres_dm = direct_minimization(basis; tol);"
   ],
   "metadata": {},
   "execution_count": 4
  },
  {
   "cell_type": "markdown",
   "source": [
    "## Newton algorithm"
   ],
   "metadata": {}
  },
  {
   "cell_type": "markdown",
   "source": [
    "Start not too far from the solution to ensure convergence:\n",
    "We run first a very crude SCF to get close and then switch to Newton."
   ],
   "metadata": {}
  },
  {
   "outputs": [
    {
     "name": "stdout",
     "output_type": "stream",
     "text": [
      "n     Energy            log10(ΔE)   log10(Δρ)   Diag\n",
      "---   ---------------   ---------   ---------   ----\n",
      "  1   -7.846795706654                   -0.70    4.8\n",
      "  2   -7.852316138705       -2.26       -1.53    1.0\n"
     ]
    }
   ],
   "cell_type": "code",
   "source": [
    "scfres_start = self_consistent_field(basis; tol=1e-1);"
   ],
   "metadata": {},
   "execution_count": 5
  },
  {
   "cell_type": "markdown",
   "source": [
    "Remove the virtual orbitals (which Newton cannot treat yet)"
   ],
   "metadata": {}
  },
  {
   "outputs": [
    {
     "name": "stdout",
     "output_type": "stream",
     "text": [
      "n     Energy            log10(ΔE)   log10(Δρ)\n",
      "---   ---------------   ---------   ---------\n",
      "  1   -7.852646686705                   -2.54\n",
      "  2   -7.852646686730      -10.61       -5.91\n",
      "  3   -7.852646686730   +  -15.05      -12.71\n"
     ]
    }
   ],
   "cell_type": "code",
   "source": [
    "ψ, _ = DFTK.select_occupied_orbitals(basis, scfres_start.ψ, scfres_start.occupation)\n",
    "scfres_newton = newton(basis, ψ; tol);"
   ],
   "metadata": {},
   "execution_count": 6
  },
  {
   "cell_type": "markdown",
   "source": [
    "## Comparison of results"
   ],
   "metadata": {}
  },
  {
   "outputs": [
    {
     "name": "stdout",
     "output_type": "stream",
     "text": [
      "|ρ_newton - ρ_scf|  = 1.4013864271517352e-13\n",
      "|ρ_newton - ρ_scfv| = 5.421598366710728e-13\n",
      "|ρ_newton - ρ_dm|   = 8.446781017588987e-10\n"
     ]
    }
   ],
   "cell_type": "code",
   "source": [
    "println(\"|ρ_newton - ρ_scf|  = \", norm(scfres_newton.ρ - scfres_scf.ρ))\n",
    "println(\"|ρ_newton - ρ_scfv| = \", norm(scfres_newton.ρ - scfres_scfv.ρ))\n",
    "println(\"|ρ_newton - ρ_dm|   = \", norm(scfres_newton.ρ - scfres_dm.ρ))"
   ],
   "metadata": {},
   "execution_count": 7
  }
 ],
 "nbformat_minor": 3,
 "metadata": {
  "language_info": {
   "file_extension": ".jl",
   "mimetype": "application/julia",
   "name": "julia",
   "version": "1.8.2"
  },
  "kernelspec": {
   "name": "julia-1.8",
   "display_name": "Julia 1.8.2",
   "language": "julia"
  }
 },
 "nbformat": 4
}
