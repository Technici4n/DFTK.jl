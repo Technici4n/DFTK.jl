{
 "cells": [
  {
   "cell_type": "markdown",
   "source": [
    "# Eigenvalues of the dielectric matrix\n",
    "\n",
    "We compute a few eigenvalues of the dielectric matrix ($q=0$, $ω=0$) iteratively."
   ],
   "metadata": {}
  },
  {
   "outputs": [
    {
     "name": "stdout",
     "output_type": "stream",
     "text": [
      "n     Energy            log10(ΔE)   log10(Δρ)   Diag\n",
      "---   ---------------   ---------   ---------   ----\n",
      "  1   -7.235636015073                   -0.50    8.0\n",
      "  2   -7.250454673718       -1.83       -1.40    1.0\n",
      "  3   -7.251319359605       -3.06       -2.13    4.0\n",
      "  4   -7.251310099473   +   -5.03       -2.39    4.0\n",
      "  5   -7.251325930644       -4.80       -2.60    3.0\n",
      "  6   -7.251337643055       -4.93       -3.11    2.0\n",
      "  7   -7.251338767763       -5.95       -4.04    1.0\n",
      "  8   -7.251338787245       -7.71       -4.02    4.0\n",
      "  9   -7.251338797421       -7.99       -4.44    3.0\n",
      " 10   -7.251338798018       -9.22       -4.62    1.0\n",
      " 11   -7.251338798697       -9.17       -5.80    3.0\n",
      " 12   -7.251338798704      -11.11       -6.03    4.0\n",
      " 13   -7.251338798704      -12.77       -6.43    2.0\n",
      " 14   -7.251338798705      -13.34       -6.79    2.0\n",
      " 15   -7.251338798705      -13.94       -7.24    2.0\n",
      " 16   -7.251338798705   +  -14.75       -7.64    3.0\n"
     ]
    }
   ],
   "cell_type": "code",
   "source": [
    "using DFTK\n",
    "using Plots\n",
    "using KrylovKit\n",
    "using Printf\n",
    "\n",
    "# Calculation parameters\n",
    "kgrid = [1, 1, 1]\n",
    "Ecut = 5\n",
    "\n",
    "# Silicon lattice\n",
    "a = 10.26\n",
    "lattice = a / 2 .* [[0 1 1.]; [1 0 1.]; [1 1 0.]]\n",
    "Si = ElementPsp(:Si, psp=load_psp(\"hgh/lda/Si-q4\"))\n",
    "atoms     = [Si, Si]\n",
    "positions = [ones(3)/8, -ones(3)/8]\n",
    "\n",
    "# Compute the dielectric operator without symmetries\n",
    "model = model_LDA(lattice, atoms, positions, symmetries=false)\n",
    "basis = PlaneWaveBasis(model; Ecut, kgrid)\n",
    "scfres = self_consistent_field(basis, tol=1e-14);"
   ],
   "metadata": {},
   "execution_count": 1
  },
  {
   "cell_type": "markdown",
   "source": [
    "Applying $ε^† ≔ (1- χ_0 K)$ …"
   ],
   "metadata": {}
  },
  {
   "outputs": [],
   "cell_type": "code",
   "source": [
    "function eps_fun(δρ)\n",
    "    δV = apply_kernel(basis, δρ; ρ=scfres.ρ)\n",
    "    χ0δV = apply_χ0(scfres, δV)\n",
    "    δρ - χ0δV\n",
    "end;"
   ],
   "metadata": {},
   "execution_count": 2
  },
  {
   "cell_type": "markdown",
   "source": [
    "… eagerly diagonalizes the subspace matrix at each iteration"
   ],
   "metadata": {}
  },
  {
   "outputs": [
    {
     "name": "stdout",
     "output_type": "stream",
     "text": [
      "[ Info: Arnoldi iteration step 1: normres = 0.057839899012218546\n",
      "[ Info: Arnoldi iteration step 2: normres = 0.6173625823732082\n",
      "[ Info: Arnoldi iteration step 3: normres = 0.8199902051170637\n",
      "[ Info: Arnoldi iteration step 4: normres = 0.2527430576220875\n",
      "[ Info: Arnoldi iteration step 5: normres = 0.4677976123211599\n",
      "[ Info: Arnoldi schursolve in iter 1, krylovdim = 5: 0 values converged, normres = (2.20e-02, 6.63e-02, 4.17e-01, 1.99e-01, 9.70e-03)\n",
      "[ Info: Arnoldi iteration step 6: normres = 0.3357890757323083\n",
      "[ Info: Arnoldi schursolve in iter 1, krylovdim = 6: 0 values converged, normres = (6.53e-03, 1.96e-01, 2.22e-01, 1.16e-01, 6.29e-02)\n",
      "[ Info: Arnoldi iteration step 7: normres = 0.07716241934080051\n",
      "[ Info: Arnoldi schursolve in iter 1, krylovdim = 7: 0 values converged, normres = (2.52e-04, 1.68e-02, 9.92e-03, 4.48e-02, 5.26e-02)\n",
      "[ Info: Arnoldi iteration step 8: normres = 0.10008242857247779\n",
      "[ Info: Arnoldi schursolve in iter 1, krylovdim = 8: 0 values converged, normres = (1.07e-05, 1.15e-03, 7.62e-04, 1.23e-02, 2.99e-02)\n",
      "[ Info: Arnoldi iteration step 9: normres = 0.07275824089222258\n",
      "[ Info: Arnoldi schursolve in iter 1, krylovdim = 9: 0 values converged, normres = (3.37e-07, 6.03e-05, 4.44e-05, 3.14e-03, 2.70e-02)\n",
      "[ Info: Arnoldi iteration step 10: normres = 0.08129196833642813\n",
      "[ Info: Arnoldi schursolve in iter 1, krylovdim = 10: 0 values converged, normres = (1.18e-08, 3.46e-06, 2.83e-06, 8.17e-04, 2.27e-02)\n",
      "[ Info: Arnoldi iteration step 11: normres = 0.10049500707137277\n",
      "[ Info: Arnoldi schursolve in iter 1, krylovdim = 11: 0 values converged, normres = (5.29e-10, 2.61e-07, 2.38e-07, 3.58e-04, 5.47e-02)\n",
      "[ Info: Arnoldi iteration step 12: normres = 0.0635502063381125\n",
      "[ Info: Arnoldi schursolve in iter 1, krylovdim = 12: 0 values converged, normres = (1.43e-11, 1.15e-08, 1.17e-08, 7.38e-05, 2.26e-02)\n",
      "[ Info: Arnoldi iteration step 13: normres = 0.09182804025359316\n",
      "[ Info: Arnoldi schursolve in iter 1, krylovdim = 13: 1 values converged, normres = (5.68e-13, 7.52e-10, 8.44e-10, 2.16e-05, 1.26e-02)\n",
      "[ Info: Arnoldi iteration step 14: normres = 0.5811255090962081\n",
      "[ Info: Arnoldi schursolve in iter 1, krylovdim = 14: 1 values converged, normres = (2.53e-13, 1.10e-09, 1.90e-09, 5.75e-01, 1.49e-02)\n",
      "[ Info: Arnoldi iteration step 15: normres = 0.05264933404018317\n",
      "[ Info: Arnoldi schursolve in iter 1, krylovdim = 15: 1 values converged, normres = (6.84e-15, 1.10e-10, 2.39e-02, 1.85e-03, 3.57e-06)\n",
      "[ Info: Arnoldi iteration step 16: normres = 0.6397961500489657\n",
      "[ Info: Arnoldi schursolve in iter 1, krylovdim = 16: 1 values converged, normres = (3.48e-15, 2.04e-10, 6.96e-02, 1.22e-02, 6.35e-01)\n",
      "[ Info: Arnoldi iteration step 17: normres = 0.03431846503183617\n",
      "[ Info: Arnoldi schursolve in iter 1, krylovdim = 17: 1 values converged, normres = (6.84e-17, 4.74e-09, 1.64e-02, 2.38e-05, 2.83e-03)\n",
      "[ Info: Arnoldi iteration step 18: normres = 0.02024799694508499\n",
      "[ Info: Arnoldi schursolve in iter 1, krylovdim = 18: 1 values converged, normres = (5.73e-19, 1.46e-05, 2.19e-04, 5.96e-08, 4.13e-05)\n",
      "[ Info: Arnoldi iteration step 19: normres = 0.1674610866477041\n",
      "[ Info: Arnoldi schursolve in iter 1, krylovdim = 19: 1 values converged, normres = (4.05e-20, 2.27e-07, 2.52e-05, 9.95e-07, 5.13e-06)\n",
      "[ Info: Arnoldi iteration step 20: normres = 0.06881226430856538\n",
      "[ Info: Arnoldi schursolve in iter 1, krylovdim = 20: 1 values converged, normres = (1.35e-21, 1.33e-08, 1.50e-06, 2.17e-07, 2.82e-07)\n",
      "[ Info: Arnoldi iteration step 21: normres = 0.029997001636593995\n",
      "[ Info: Arnoldi schursolve in iter 1, krylovdim = 21: 1 values converged, normres = (1.69e-23, 1.71e-08, 2.51e-08, 7.93e-09, 3.13e-10)\n",
      "[ Info: Arnoldi iteration step 22: normres = 0.10504349631741568\n",
      "[ Info: Arnoldi schursolve in iter 1, krylovdim = 22: 1 values converged, normres = (7.35e-25, 2.06e-09, 4.35e-10, 5.78e-10, 1.84e-10)\n",
      "[ Info: Arnoldi iteration step 23: normres = 0.19484150204560607\n",
      "[ Info: Arnoldi schursolve in iter 1, krylovdim = 23: 1 values converged, normres = (1.32e-25, 1.61e-09, 1.65e-09, 3.00e-09, 8.68e-10)\n",
      "[ Info: Arnoldi iteration step 24: normres = 0.01732199617086767\n",
      "[ Info: Arnoldi schursolve in iter 1, krylovdim = 24: 1 values converged, normres = (9.68e-28, 3.20e-11, 8.14e-12, 1.93e-03, 7.06e-04)\n",
      "[ Info: Arnoldi iteration step 25: normres = 0.11819884935787583\n",
      "[ Info: Arnoldi schursolve in iter 1, krylovdim = 25: 1 values converged, normres = (4.87e-29, 2.62e-12, 6.78e-13, 1.87e-08, 7.74e-10)\n",
      "[ Info: Arnoldi iteration step 26: normres = 0.023940814325465652\n",
      "[ Info: Arnoldi schursolve in iter 1, krylovdim = 26: 3 values converged, normres = (5.13e-31, 4.59e-14, 1.19e-14, 3.67e-06, 1.78e-06)\n",
      "[ Info: Arnoldi iteration step 27: normres = 0.01641051185488863\n",
      "[ Info: Arnoldi schursolve in iter 1, krylovdim = 27: 3 values converged, normres = (3.45e-33, 4.91e-16, 1.27e-16, 1.26e-08, 8.97e-09)\n",
      "[ Info: Arnoldi iteration step 28: normres = 0.08747899125680916\n",
      "[ Info: Arnoldi schursolve in iter 1, krylovdim = 28: 3 values converged, normres = (1.26e-34, 2.90e-17, 7.51e-18, 1.07e-09, 1.35e-09)\n",
      "[ Info: Arnoldi iteration step 29: normres = 0.021236346916573803\n",
      "[ Info: Arnoldi schursolve in iter 1, krylovdim = 29: 3 values converged, normres = (1.17e-36, 4.46e-19, 1.15e-19, 2.16e-11, 3.17e-11)\n",
      "[ Info: Arnoldi iteration step 30: normres = 0.0985453192091853\n",
      "[ Info: Arnoldi schursolve in iter 1, krylovdim = 30: 3 values converged, normres = (4.77e-38, 2.91e-20, 7.52e-21, 1.55e-12, 2.28e-12)\n",
      "[ Info: Arnoldi schursolve in iter 2, krylovdim = 19: 3 values converged, normres = (4.77e-38, 2.91e-20, 7.52e-21, 1.55e-12, 2.28e-12)\n",
      "[ Info: Arnoldi iteration step 20: normres = 0.09755546447236414\n",
      "┌ Info: Arnoldi eigsolve finished after 2 iterations:\n",
      "│ *  6 eigenvalues converged\n",
      "│ *  norm of residuals = (2.299852340920684e-39, 2.5364454493415253e-21, 1.2632045501081989e-21, 1.547504722153435e-13, 2.583935924059226e-13, 2.526753297768228e-13)\n",
      "└ *  number of operations = 31\n"
     ]
    }
   ],
   "cell_type": "code",
   "source": [
    "eigsolve(eps_fun, randn(size(scfres.ρ)), 5, :LM; eager=true, verbosity=3);"
   ],
   "metadata": {},
   "execution_count": 3
  }
 ],
 "nbformat_minor": 3,
 "metadata": {
  "language_info": {
   "file_extension": ".jl",
   "mimetype": "application/julia",
   "name": "julia",
   "version": "1.8.2"
  },
  "kernelspec": {
   "name": "julia-1.8",
   "display_name": "Julia 1.8.2",
   "language": "julia"
  }
 },
 "nbformat": 4
}
