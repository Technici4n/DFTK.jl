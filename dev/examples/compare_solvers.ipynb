{
 "cells": [
  {
   "cell_type": "markdown",
   "source": [
    "# Comparison of DFT solvers"
   ],
   "metadata": {}
  },
  {
   "cell_type": "markdown",
   "source": [
    "We compare four different approaches for solving the DFT minimisation problem,\n",
    "namely a density-based SCF, a potential-based SCF, direct minimisation and Newton."
   ],
   "metadata": {}
  },
  {
   "cell_type": "markdown",
   "source": [
    "First we setup our problem"
   ],
   "metadata": {}
  },
  {
   "outputs": [
    {
     "output_type": "execute_result",
     "data": {
      "text/plain": "1.0e-6"
     },
     "metadata": {},
     "execution_count": 1
    }
   ],
   "cell_type": "code",
   "source": [
    "using DFTK\n",
    "using LinearAlgebra\n",
    "\n",
    "a = 10.26  # Silicon lattice constant in Bohr\n",
    "lattice = a / 2 * [[0 1 1.];\n",
    "                   [1 0 1.];\n",
    "                   [1 1 0.]]\n",
    "Si = ElementPsp(:Si, psp=load_psp(\"hgh/lda/Si-q4\"))\n",
    "atoms     = [Si, Si]\n",
    "positions = [ones(3)/8, -ones(3)/8]\n",
    "\n",
    "model = model_LDA(lattice, atoms, positions)\n",
    "basis = PlaneWaveBasis(model; Ecut=5, kgrid=[3, 3, 3])\n",
    "\n",
    "# Convergence we desire in the density\n",
    "tol = 1e-6"
   ],
   "metadata": {},
   "execution_count": 1
  },
  {
   "cell_type": "markdown",
   "source": [
    "## Density-based self-consistent field"
   ],
   "metadata": {}
  },
  {
   "outputs": [
    {
     "name": "stdout",
     "output_type": "stream",
     "text": [
      "n     Energy            log10(ΔE)   log10(Δρ)   Diag   Δtime\n",
      "---   ---------------   ---------   ---------   ----   ------\n",
      "  1   -7.846796209942                   -0.70    4.5         \n",
      "  2   -7.852315815645       -2.26       -1.53    1.0   22.4ms\n",
      "  3   -7.852616953688       -3.52       -2.55    1.5   25.3ms\n",
      "  4   -7.852645993071       -4.54       -2.91    2.8   31.1ms\n",
      "  5   -7.852646541060       -6.26       -3.25    1.0   22.5ms\n",
      "  6   -7.852646679984       -6.86       -4.15    1.0   22.9ms\n",
      "  7   -7.852646686643       -8.18       -5.35    2.0   28.4ms\n",
      "  8   -7.852646686726      -10.08       -5.50    2.5   30.0ms\n",
      "  9   -7.852646686729      -11.48       -5.90    1.0   23.3ms\n",
      " 10   -7.852646686730      -12.23       -6.38    1.2   23.8ms\n"
     ]
    }
   ],
   "cell_type": "code",
   "source": [
    "scfres_scf = self_consistent_field(basis; tol);"
   ],
   "metadata": {},
   "execution_count": 2
  },
  {
   "cell_type": "markdown",
   "source": [
    "## Potential-based SCF"
   ],
   "metadata": {}
  },
  {
   "outputs": [
    {
     "name": "stdout",
     "output_type": "stream",
     "text": [
      "n     Energy            log10(ΔE)   log10(Δρ)   α      Diag   Δtime\n",
      "---   ---------------   ---------   ---------   ----   ----   ------\n",
      "  1   -7.846750531154                   -0.70           4.5         \n",
      "  2   -7.852552409317       -2.24       -1.63   0.80    2.0    246ms\n",
      "  3   -7.852638799638       -4.06       -2.74   0.80    1.0   21.7ms\n",
      "  4   -7.852646579117       -5.11       -3.34   0.80    2.0   26.6ms\n",
      "  5   -7.852646677418       -7.01       -4.27   0.80    1.0   21.1ms\n",
      "  6   -7.852646686569       -8.04       -4.81   0.80    2.2   27.7ms\n",
      "  7   -7.852646686719       -9.82       -5.69   0.80    1.2   22.2ms\n",
      "  8   -7.852646686730      -10.99       -6.93   0.80    2.2   28.3ms\n"
     ]
    }
   ],
   "cell_type": "code",
   "source": [
    "scfres_scfv = DFTK.scf_potential_mixing(basis; tol);"
   ],
   "metadata": {},
   "execution_count": 3
  },
  {
   "cell_type": "markdown",
   "source": [
    "## Direct minimization\n",
    "Note: Unlike the other algorithms, tolerance for this one is in the energy,\n",
    "thus we square the density tolerance value to be roughly equivalent."
   ],
   "metadata": {}
  },
  {
   "outputs": [
    {
     "name": "stdout",
     "output_type": "stream",
     "text": [
      "Iter     Function value   Gradient norm \n",
      "     0     1.387562e+01     3.830957e+00\n",
      " * time: 0.05608987808227539\n",
      "     1     1.435374e+00     1.867935e+00\n",
      " * time: 0.2666919231414795\n",
      "     2    -1.650323e+00     2.219159e+00\n",
      " * time: 0.28975701332092285\n",
      "     3    -3.977699e+00     2.037454e+00\n",
      " * time: 0.3230760097503662\n",
      "     4    -5.610636e+00     1.730406e+00\n",
      " * time: 0.35573482513427734\n",
      "     5    -7.116095e+00     7.771538e-01\n",
      " * time: 0.3892979621887207\n",
      "     6    -7.464658e+00     6.013647e-01\n",
      " * time: 0.41211795806884766\n",
      "     7    -7.670964e+00     1.860984e-01\n",
      " * time: 0.4351358413696289\n",
      "     8    -7.723602e+00     1.256394e-01\n",
      " * time: 0.457927942276001\n",
      "     9    -7.766271e+00     7.477208e-02\n",
      " * time: 0.4808080196380615\n",
      "    10    -7.781895e+00     5.767812e-02\n",
      " * time: 0.5034949779510498\n",
      "    11    -7.796630e+00     6.133094e-02\n",
      " * time: 0.526465892791748\n",
      "    12    -7.811670e+00     5.428785e-02\n",
      " * time: 0.5495798587799072\n",
      "    13    -7.827941e+00     4.981379e-02\n",
      " * time: 0.5726468563079834\n",
      "    14    -7.837877e+00     5.346312e-02\n",
      " * time: 0.5956869125366211\n",
      "    15    -7.844485e+00     5.583323e-02\n",
      " * time: 0.6186480522155762\n",
      "    16    -7.845612e+00     5.458008e-02\n",
      " * time: 0.6421120166778564\n",
      "    17    -7.846229e+00     3.030012e-02\n",
      " * time: 0.6651449203491211\n",
      "    18    -7.849960e+00     1.961423e-02\n",
      " * time: 0.6879689693450928\n",
      "    19    -7.852009e+00     1.167618e-02\n",
      " * time: 0.7645719051361084\n",
      "    20    -7.852351e+00     7.555782e-03\n",
      " * time: 0.7870628833770752\n",
      "    21    -7.852568e+00     4.364378e-03\n",
      " * time: 0.810014009475708\n",
      "    22    -7.852618e+00     2.634663e-03\n",
      " * time: 0.833076000213623\n",
      "    23    -7.852637e+00     1.174595e-03\n",
      " * time: 0.8565428256988525\n",
      "    24    -7.852644e+00     7.436960e-04\n",
      " * time: 0.8792378902435303\n",
      "    25    -7.852646e+00     3.918929e-04\n",
      " * time: 0.9019880294799805\n",
      "    26    -7.852646e+00     2.401999e-04\n",
      " * time: 0.9246869087219238\n",
      "    27    -7.852647e+00     1.648291e-04\n",
      " * time: 0.9471490383148193\n",
      "    28    -7.852647e+00     1.031826e-04\n",
      " * time: 0.9700930118560791\n",
      "    29    -7.852647e+00     5.456509e-05\n",
      " * time: 0.9930779933929443\n",
      "    30    -7.852647e+00     3.934227e-05\n",
      " * time: 1.0156769752502441\n",
      "    31    -7.852647e+00     1.634851e-05\n",
      " * time: 1.0383360385894775\n",
      "    32    -7.852647e+00     1.093528e-05\n",
      " * time: 1.0611989498138428\n",
      "    33    -7.852647e+00     5.233686e-06\n",
      " * time: 1.0836100578308105\n",
      "    34    -7.852647e+00     2.807528e-06\n",
      " * time: 1.1065239906311035\n",
      "    35    -7.852647e+00     1.835014e-06\n",
      " * time: 1.1291899681091309\n",
      "    36    -7.852647e+00     1.204671e-06\n",
      " * time: 1.1515848636627197\n",
      "    37    -7.852647e+00     7.850434e-07\n",
      " * time: 1.1744890213012695\n",
      "    38    -7.852647e+00     4.266444e-07\n",
      " * time: 1.1974399089813232\n",
      "    39    -7.852647e+00     2.005281e-07\n",
      " * time: 1.2201600074768066\n",
      "    40    -7.852647e+00     7.884164e-08\n",
      " * time: 1.2428770065307617\n",
      "    41    -7.852647e+00     6.075934e-08\n",
      " * time: 1.2658848762512207\n",
      "    42    -7.852647e+00     2.958984e-08\n",
      " * time: 1.2889020442962646\n",
      "    43    -7.852647e+00     1.750259e-08\n",
      " * time: 1.311769962310791\n",
      "    44    -7.852647e+00     1.750259e-08\n",
      " * time: 1.414794921875\n"
     ]
    }
   ],
   "cell_type": "code",
   "source": [
    "scfres_dm = direct_minimization(basis; tol=tol^2);"
   ],
   "metadata": {},
   "execution_count": 4
  },
  {
   "cell_type": "markdown",
   "source": [
    "## Newton algorithm"
   ],
   "metadata": {}
  },
  {
   "cell_type": "markdown",
   "source": [
    "Start not too far from the solution to ensure convergence:\n",
    "We run first a very crude SCF to get close and then switch to Newton."
   ],
   "metadata": {}
  },
  {
   "outputs": [
    {
     "name": "stdout",
     "output_type": "stream",
     "text": [
      "n     Energy            log10(ΔE)   log10(Δρ)   Diag   Δtime\n",
      "---   ---------------   ---------   ---------   ----   ------\n",
      "  1   -7.846852126294                   -0.70    4.5         \n"
     ]
    }
   ],
   "cell_type": "code",
   "source": [
    "scfres_start = self_consistent_field(basis; tol=0.5);"
   ],
   "metadata": {},
   "execution_count": 5
  },
  {
   "cell_type": "markdown",
   "source": [
    "Remove the virtual orbitals (which Newton cannot treat yet)"
   ],
   "metadata": {}
  },
  {
   "outputs": [
    {
     "name": "stdout",
     "output_type": "stream",
     "text": [
      "n     Energy            log10(ΔE)   log10(Δρ)   Δtime\n",
      "---   ---------------   ---------   ---------   ------\n",
      "  1   -7.852645892920                   -1.64         \n",
      "  2   -7.852646686730       -6.10       -3.71    1.86s\n",
      "  3   -7.852646686730      -13.25       -7.23    157ms\n"
     ]
    }
   ],
   "cell_type": "code",
   "source": [
    "ψ = DFTK.select_occupied_orbitals(basis, scfres_start.ψ, scfres_start.occupation).ψ\n",
    "scfres_newton = newton(basis, ψ; tol);"
   ],
   "metadata": {},
   "execution_count": 6
  },
  {
   "cell_type": "markdown",
   "source": [
    "## Comparison of results"
   ],
   "metadata": {}
  },
  {
   "outputs": [
    {
     "name": "stdout",
     "output_type": "stream",
     "text": [
      "|ρ_newton - ρ_scf|  = 3.2946319433704964e-7\n",
      "|ρ_newton - ρ_scfv| = 9.488489954558992e-8\n",
      "|ρ_newton - ρ_dm|   = 1.4311169311692976e-9\n"
     ]
    }
   ],
   "cell_type": "code",
   "source": [
    "println(\"|ρ_newton - ρ_scf|  = \", norm(scfres_newton.ρ - scfres_scf.ρ))\n",
    "println(\"|ρ_newton - ρ_scfv| = \", norm(scfres_newton.ρ - scfres_scfv.ρ))\n",
    "println(\"|ρ_newton - ρ_dm|   = \", norm(scfres_newton.ρ - scfres_dm.ρ))"
   ],
   "metadata": {},
   "execution_count": 7
  }
 ],
 "nbformat_minor": 3,
 "metadata": {
  "language_info": {
   "file_extension": ".jl",
   "mimetype": "application/julia",
   "name": "julia",
   "version": "1.9.0"
  },
  "kernelspec": {
   "name": "julia-1.9",
   "display_name": "Julia 1.9.0",
   "language": "julia"
  }
 },
 "nbformat": 4
}
