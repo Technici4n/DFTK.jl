{
 "cells": [
  {
   "cell_type": "markdown",
   "source": [
    "# Eigenvalues of the dielectric matrix\n",
    "\n",
    "We compute a few eigenvalues of the dielectric matrix ($q=0$, $ω=0$) iteratively."
   ],
   "metadata": {}
  },
  {
   "outputs": [
    {
     "name": "stdout",
     "output_type": "stream",
     "text": [
      "n     Energy            log10(ΔE)   log10(Δρ)   Diag   Δtime\n",
      "---   ---------------   ---------   ---------   ----   ------\n",
      "  1   -7.233841879444                   -0.50    7.0         \n",
      "  2   -7.249853439303       -1.80       -1.40    1.0   7.70ms\n",
      "  3   -7.251097537960       -2.91       -1.90    2.0   8.81ms\n",
      "  4   -7.250994666915   +   -3.99       -1.90    2.0   9.38ms\n",
      "  5   -7.251323551963       -3.48       -2.57    1.0   7.49ms\n",
      "  6   -7.251338257283       -4.83       -3.26    1.0   7.69ms\n",
      "  7   -7.251338707369       -6.35       -3.59    3.0   10.6ms\n",
      "  8   -7.251338793640       -7.06       -4.11    2.0   9.47ms\n",
      "  9   -7.251338797458       -8.42       -4.61    1.0   7.66ms\n",
      " 10   -7.251338798647       -8.92       -5.13    3.0   10.4ms\n",
      " 11   -7.251338798691      -10.36       -5.43    3.0   10.7ms\n",
      " 12   -7.251338798702      -10.97       -5.88    1.0   8.14ms\n",
      " 13   -7.251338798704      -11.71       -6.37    2.0   9.04ms\n",
      " 14   -7.251338798705      -12.59       -6.74    2.0   9.85ms\n",
      " 15   -7.251338798705      -13.50       -7.36    1.0   7.93ms\n",
      " 16   -7.251338798705      -14.75       -7.51    3.0   10.3ms\n",
      " 17   -7.251338798705      -15.05       -7.92    1.0   7.92ms\n",
      " 18   -7.251338798705   +    -Inf       -8.41    2.0   9.09ms\n"
     ]
    }
   ],
   "cell_type": "code",
   "source": [
    "using DFTK\n",
    "using Plots\n",
    "using KrylovKit\n",
    "using Printf\n",
    "\n",
    "# Calculation parameters\n",
    "kgrid = [1, 1, 1]\n",
    "Ecut = 5\n",
    "\n",
    "# Silicon lattice\n",
    "a = 10.26\n",
    "lattice = a / 2 .* [[0 1 1.]; [1 0 1.]; [1 1 0.]]\n",
    "Si = ElementPsp(:Si, psp=load_psp(\"hgh/lda/Si-q4\"))\n",
    "atoms     = [Si, Si]\n",
    "positions = [ones(3)/8, -ones(3)/8]\n",
    "\n",
    "# Compute the dielectric operator without symmetries\n",
    "model  = model_LDA(lattice, atoms, positions, symmetries=false)\n",
    "basis  = PlaneWaveBasis(model; Ecut, kgrid)\n",
    "scfres = self_consistent_field(basis, tol=1e-8);"
   ],
   "metadata": {},
   "execution_count": 1
  },
  {
   "cell_type": "markdown",
   "source": [
    "Applying $ε^† ≔ (1- χ_0 K)$ …"
   ],
   "metadata": {}
  },
  {
   "outputs": [],
   "cell_type": "code",
   "source": [
    "function eps_fun(δρ)\n",
    "    δV = apply_kernel(basis, δρ; ρ=scfres.ρ)\n",
    "    χ0δV = apply_χ0(scfres, δV)\n",
    "    δρ - χ0δV\n",
    "end;"
   ],
   "metadata": {},
   "execution_count": 2
  },
  {
   "cell_type": "markdown",
   "source": [
    "… eagerly diagonalizes the subspace matrix at each iteration"
   ],
   "metadata": {}
  },
  {
   "outputs": [
    {
     "name": "stdout",
     "output_type": "stream",
     "text": [
      "[ Info: Arnoldi iteration step 1: normres = 0.043372318567918636\n",
      "[ Info: Arnoldi iteration step 2: normres = 0.3791347963629421\n",
      "[ Info: Arnoldi iteration step 3: normres = 0.7306850599951538\n",
      "[ Info: Arnoldi iteration step 4: normres = 0.5287276007079457\n",
      "[ Info: Arnoldi iteration step 5: normres = 0.5733070693884327\n",
      "[ Info: Arnoldi schursolve in iter 1, krylovdim = 5: 0 values converged, normres = (1.52e-01, 8.50e-02, 5.02e-01, 2.14e-01, 1.43e-02)\n",
      "[ Info: Arnoldi iteration step 6: normres = 0.3026888900699499\n",
      "[ Info: Arnoldi schursolve in iter 1, krylovdim = 6: 0 values converged, normres = (3.83e-02, 1.45e-01, 2.05e-01, 1.23e-01, 1.04e-01)\n",
      "[ Info: Arnoldi iteration step 7: normres = 0.06662911806187036\n",
      "[ Info: Arnoldi schursolve in iter 1, krylovdim = 7: 0 values converged, normres = (1.23e-03, 9.88e-03, 9.98e-03, 3.50e-02, 4.53e-02)\n",
      "[ Info: Arnoldi iteration step 8: normres = 0.10829632098172595\n",
      "[ Info: Arnoldi schursolve in iter 1, krylovdim = 8: 0 values converged, normres = (5.82e-05, 7.80e-04, 8.74e-04, 1.34e-02, 5.25e-02)\n",
      "[ Info: Arnoldi iteration step 9: normres = 0.08645244279653942\n",
      "[ Info: Arnoldi schursolve in iter 1, krylovdim = 9: 0 values converged, normres = (2.19e-06, 4.85e-05, 6.05e-05, 4.32e-03, 4.75e-02)\n",
      "[ Info: Arnoldi iteration step 10: normres = 0.09084058623188324\n",
      "[ Info: Arnoldi schursolve in iter 1, krylovdim = 10: 0 values converged, normres = (8.64e-08, 3.17e-06, 4.39e-06, 1.38e-03, 3.15e-02)\n",
      "[ Info: Arnoldi iteration step 11: normres = 0.08077126289295619\n",
      "[ Info: Arnoldi schursolve in iter 1, krylovdim = 11: 0 values converged, normres = (3.03e-09, 1.83e-07, 2.83e-07, 3.94e-04, 2.07e-02)\n",
      "[ Info: Arnoldi iteration step 12: normres = 0.08522038208666625\n",
      "[ Info: Arnoldi schursolve in iter 1, krylovdim = 12: 0 values converged, normres = (1.11e-10, 1.11e-08, 1.90e-08, 1.10e-04, 1.27e-02)\n",
      "[ Info: Arnoldi iteration step 13: normres = 0.06752646439465645\n",
      "[ Info: Arnoldi schursolve in iter 1, krylovdim = 13: 0 values converged, normres = (3.17e-12, 5.12e-10, 9.70e-10, 2.09e-05, 4.67e-03)\n",
      "[ Info: Arnoldi iteration step 14: normres = 0.5296111381053219\n",
      "[ Info: Arnoldi schursolve in iter 1, krylovdim = 14: 0 values converged, normres = (1.31e-12, 7.27e-10, 2.20e-09, 5.28e-01, 1.37e-02)\n",
      "[ Info: Arnoldi iteration step 15: normres = 0.03489657350276056\n",
      "[ Info: Arnoldi schursolve in iter 1, krylovdim = 15: 1 values converged, normres = (2.31e-14, 4.45e-11, 1.09e-02, 9.61e-03, 2.85e-06)\n",
      "[ Info: Arnoldi iteration step 16: normres = 0.724297024228955\n",
      "[ Info: Arnoldi schursolve in iter 1, krylovdim = 16: 1 values converged, normres = (8.55e-15, 3.09e-11, 1.16e-02, 4.76e-04, 5.78e-01)\n",
      "[ Info: Arnoldi iteration step 17: normres = 0.045815241480261865\n",
      "[ Info: Arnoldi schursolve in iter 1, krylovdim = 17: 1 values converged, normres = (3.49e-16, 2.59e-10, 3.86e-02, 7.52e-05, 2.51e-03)\n",
      "[ Info: Arnoldi iteration step 18: normres = 0.013438607372487388\n",
      "[ Info: Arnoldi schursolve in iter 1, krylovdim = 18: 1 values converged, normres = (1.94e-18, 2.68e-04, 2.13e-04, 1.16e-05, 2.19e-05)\n",
      "[ Info: Arnoldi iteration step 19: normres = 0.09561631058136369\n",
      "[ Info: Arnoldi schursolve in iter 1, krylovdim = 19: 1 values converged, normres = (7.70e-20, 1.01e-06, 2.17e-05, 7.87e-08, 1.73e-06)\n",
      "[ Info: Arnoldi iteration step 20: normres = 0.12380716833363535\n",
      "[ Info: Arnoldi schursolve in iter 1, krylovdim = 20: 1 values converged, normres = (4.64e-21, 1.96e-09, 2.35e-06, 6.96e-08, 2.02e-07)\n",
      "[ Info: Arnoldi iteration step 21: normres = 0.03193031536108568\n",
      "[ Info: Arnoldi schursolve in iter 1, krylovdim = 21: 1 values converged, normres = (6.28e-23, 5.03e-08, 1.29e-08, 2.01e-09, 4.84e-09)\n",
      "[ Info: Arnoldi iteration step 22: normres = 0.031756817433255397\n",
      "[ Info: Arnoldi schursolve in iter 1, krylovdim = 22: 1 values converged, normres = (8.21e-25, 1.06e-09, 2.06e-10, 4.52e-11, 1.11e-10)\n",
      "[ Info: Arnoldi iteration step 23: normres = 0.576313151482697\n",
      "[ Info: Arnoldi schursolve in iter 1, krylovdim = 23: 1 values converged, normres = (3.45e-25, 1.31e-09, 2.77e-10, 7.93e-11, 1.96e-10)\n",
      "[ Info: Arnoldi iteration step 24: normres = 0.01796946709707208\n",
      "[ Info: Arnoldi schursolve in iter 1, krylovdim = 24: 1 values converged, normres = (3.33e-27, 5.11e-11, 1.03e-11, 7.11e-10, 1.74e-09)\n",
      "[ Info: Arnoldi iteration step 25: normres = 0.047804912087678286\n",
      "[ Info: Arnoldi schursolve in iter 1, krylovdim = 25: 1 values converged, normres = (6.54e-29, 1.61e-12, 3.23e-13, 1.93e-04, 1.21e-04)\n",
      "[ Info: Arnoldi iteration step 26: normres = 0.06931390884127997\n",
      "[ Info: Arnoldi schursolve in iter 1, krylovdim = 26: 3 values converged, normres = (2.01e-30, 8.28e-14, 1.67e-14, 8.30e-10, 2.10e-09)\n",
      "[ Info: Arnoldi iteration step 27: normres = 0.07196454696698765\n",
      "[ Info: Arnoldi schursolve in iter 1, krylovdim = 27: 3 values converged, normres = (6.03e-32, 3.99e-15, 8.03e-16, 2.30e-09, 7.76e-09)\n",
      "[ Info: Arnoldi iteration step 28: normres = 0.05087595573488263\n",
      "[ Info: Arnoldi schursolve in iter 1, krylovdim = 28: 3 values converged, normres = (1.37e-33, 1.53e-16, 3.07e-17, 2.96e-08, 1.62e-09)\n",
      "[ Info: Arnoldi iteration step 29: normres = 0.03591007974407266\n",
      "[ Info: Arnoldi schursolve in iter 1, krylovdim = 29: 3 values converged, normres = (2.03e-35, 3.60e-18, 7.25e-19, 4.53e-11, 9.80e-10)\n",
      "[ Info: Arnoldi iteration step 30: normres = 0.14530516778489277\n",
      "[ Info: Arnoldi schursolve in iter 1, krylovdim = 30: 3 values converged, normres = (1.44e-36, 4.58e-19, 9.22e-20, 6.61e-12, 1.42e-10)\n",
      "[ Info: Arnoldi schursolve in iter 2, krylovdim = 19: 3 values converged, normres = (1.44e-36, 4.58e-19, 9.22e-20, 6.61e-12, 1.42e-10)\n",
      "[ Info: Arnoldi iteration step 20: normres = 0.0692042448670327\n",
      "[ Info: Arnoldi schursolve in iter 2, krylovdim = 20: 4 values converged, normres = (4.25e-38, 2.22e-20, 4.48e-21, 3.56e-13, 7.65e-12)\n",
      "[ Info: Arnoldi iteration step 21: normres = 0.037453739750890856\n",
      "┌ Info: Arnoldi eigsolve finished after 2 iterations:\n",
      "│ *  6 eigenvalues converged\n",
      "│ *  norm of residuals = (6.828737944987527e-40, 5.84185651386235e-22, 5.433892441361821e-23, 1.0370184006326083e-14, 2.230014509533751e-13, 1.447148595619127e-14)\n",
      "└ *  number of operations = 32\n"
     ]
    }
   ],
   "cell_type": "code",
   "source": [
    "eigsolve(eps_fun, randn(size(scfres.ρ)), 5, :LM; eager=true, verbosity=3);"
   ],
   "metadata": {},
   "execution_count": 3
  }
 ],
 "nbformat_minor": 3,
 "metadata": {
  "language_info": {
   "file_extension": ".jl",
   "mimetype": "application/julia",
   "name": "julia",
   "version": "1.8.5"
  },
  "kernelspec": {
   "name": "julia-1.8",
   "display_name": "Julia 1.8.5",
   "language": "julia"
  }
 },
 "nbformat": 4
}
