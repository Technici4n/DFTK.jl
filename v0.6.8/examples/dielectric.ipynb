{
 "cells": [
  {
   "cell_type": "markdown",
   "source": [
    "# Eigenvalues of the dielectric matrix\n",
    "\n",
    "We compute a few eigenvalues of the dielectric matrix ($q=0$, $ω=0$) iteratively."
   ],
   "metadata": {}
  },
  {
   "outputs": [
    {
     "name": "stdout",
     "output_type": "stream",
     "text": [
      "n     Energy            log10(ΔE)   log10(Δρ)   Diag   Δtime\n",
      "---   ---------------   ---------   ---------   ----   ------\n",
      "  1   -7.234093349019                   -0.50    8.0         \n",
      "  2   -7.250324639508       -1.79       -1.40    1.0   6.84ms\n",
      "  3   -7.251140641656       -3.09       -2.08    1.0   6.79ms\n",
      "  4   -7.251130884697   +   -5.01       -1.99    2.0   8.64ms\n",
      "  5   -7.251332730573       -3.69       -2.66    1.0   60.1ms\n",
      "  6   -7.251337929565       -5.28       -3.10    1.0   7.04ms\n",
      "  7   -7.251338701570       -6.11       -3.54    1.0   6.97ms\n",
      "  8   -7.251338783212       -7.09       -4.10    1.0   7.05ms\n",
      "  9   -7.251338797837       -7.83       -4.44    2.0   8.56ms\n",
      " 10   -7.251338798349       -9.29       -4.71    2.0   8.28ms\n",
      " 11   -7.251338798653       -9.52       -5.20    1.0   7.56ms\n",
      " 12   -7.251338798699      -10.33       -5.74    2.0   8.81ms\n",
      " 13   -7.251338798704      -11.31       -6.26    2.0   8.61ms\n",
      " 14   -7.251338798705      -12.53       -6.83    2.0   8.39ms\n",
      " 15   -7.251338798705      -13.60       -7.30    2.0   8.56ms\n",
      " 16   -7.251338798705      -14.35       -7.66    2.0   8.19ms\n",
      " 17   -7.251338798705   +  -14.75       -8.09    1.0   7.26ms\n"
     ]
    }
   ],
   "cell_type": "code",
   "source": [
    "using DFTK\n",
    "using Plots\n",
    "using KrylovKit\n",
    "using Printf\n",
    "\n",
    "# Calculation parameters\n",
    "kgrid = [1, 1, 1]\n",
    "Ecut = 5\n",
    "\n",
    "# Silicon lattice\n",
    "a = 10.26\n",
    "lattice = a / 2 .* [[0 1 1.]; [1 0 1.]; [1 1 0.]]\n",
    "Si = ElementPsp(:Si, psp=load_psp(\"hgh/lda/Si-q4\"))\n",
    "atoms     = [Si, Si]\n",
    "positions = [ones(3)/8, -ones(3)/8]\n",
    "\n",
    "# Compute the dielectric operator without symmetries\n",
    "model  = model_LDA(lattice, atoms, positions, symmetries=false)\n",
    "basis  = PlaneWaveBasis(model; Ecut, kgrid)\n",
    "scfres = self_consistent_field(basis, tol=1e-8);"
   ],
   "metadata": {},
   "execution_count": 1
  },
  {
   "cell_type": "markdown",
   "source": [
    "Applying $ε^† ≔ (1- χ_0 K)$ …"
   ],
   "metadata": {}
  },
  {
   "outputs": [],
   "cell_type": "code",
   "source": [
    "function eps_fun(δρ)\n",
    "    δV = apply_kernel(basis, δρ; ρ=scfres.ρ)\n",
    "    χ0δV = apply_χ0(scfres, δV)\n",
    "    δρ - χ0δV\n",
    "end;"
   ],
   "metadata": {},
   "execution_count": 2
  },
  {
   "cell_type": "markdown",
   "source": [
    "… eagerly diagonalizes the subspace matrix at each iteration"
   ],
   "metadata": {}
  },
  {
   "outputs": [
    {
     "name": "stdout",
     "output_type": "stream",
     "text": [
      "[ Info: Arnoldi iteration step 1: normres = 0.06809425222129582\n",
      "[ Info: Arnoldi iteration step 2: normres = 0.2898712187427273\n",
      "[ Info: Arnoldi iteration step 3: normres = 0.843734922906015\n",
      "[ Info: Arnoldi iteration step 4: normres = 0.4639078095034705\n",
      "[ Info: Arnoldi iteration step 5: normres = 0.6402579792339624\n",
      "[ Info: Arnoldi schursolve in iter 1, krylovdim = 5: 0 values converged, normres = (1.44e-01, 7.96e-02, 5.51e-01, 2.80e-01, 2.72e-02)\n",
      "[ Info: Arnoldi iteration step 6: normres = 0.23415855269531177\n",
      "[ Info: Arnoldi schursolve in iter 1, krylovdim = 6: 0 values converged, normres = (2.82e-02, 1.45e-01, 1.23e-01, 1.03e-01, 5.43e-02)\n",
      "[ Info: Arnoldi iteration step 7: normres = 0.0677280025666337\n",
      "[ Info: Arnoldi schursolve in iter 1, krylovdim = 7: 0 values converged, normres = (9.13e-04, 8.97e-03, 5.89e-03, 3.46e-02, 5.20e-02)\n",
      "[ Info: Arnoldi iteration step 8: normres = 0.10421931538142641\n",
      "[ Info: Arnoldi schursolve in iter 1, krylovdim = 8: 0 values converged, normres = (4.07e-05, 6.53e-04, 4.77e-04, 1.08e-02, 3.56e-02)\n",
      "[ Info: Arnoldi iteration step 9: normres = 0.07299376299079308\n",
      "[ Info: Arnoldi schursolve in iter 1, krylovdim = 9: 0 values converged, normres = (1.29e-06, 3.43e-05, 2.79e-05, 2.83e-03, 3.30e-02)\n",
      "[ Info: Arnoldi iteration step 10: normres = 0.10819641558968787\n",
      "[ Info: Arnoldi schursolve in iter 1, krylovdim = 10: 0 values converged, normres = (6.11e-08, 2.69e-06, 2.43e-06, 1.11e-03, 3.91e-02)\n",
      "[ Info: Arnoldi iteration step 11: normres = 0.08064780879811566\n",
      "[ Info: Arnoldi schursolve in iter 1, krylovdim = 11: 0 values converged, normres = (2.16e-09, 1.59e-07, 1.60e-07, 3.60e-04, 3.68e-02)\n",
      "[ Info: Arnoldi iteration step 12: normres = 0.06984162890808193\n",
      "[ Info: Arnoldi schursolve in iter 1, krylovdim = 12: 0 values converged, normres = (6.41e-11, 7.64e-09, 8.53e-09, 7.26e-05, 1.38e-02)\n",
      "[ Info: Arnoldi iteration step 13: normres = 0.1528159351702536\n",
      "[ Info: Arnoldi schursolve in iter 1, krylovdim = 13: 0 values converged, normres = (4.21e-12, 8.25e-10, 1.02e-09, 3.53e-05, 1.33e-02)\n",
      "[ Info: Arnoldi iteration step 14: normres = 0.33526166117682354\n",
      "[ Info: Arnoldi schursolve in iter 1, krylovdim = 14: 0 values converged, normres = (1.40e-12, 2.84e-09, 3.32e-01, 1.43e-02, 2.63e-03)\n",
      "[ Info: Arnoldi iteration step 15: normres = 0.23126757597995065\n",
      "[ Info: Arnoldi schursolve in iter 1, krylovdim = 15: 1 values converged, normres = (1.45e-13, 1.73e-09, 5.36e-02, 1.84e-04, 1.46e-05)\n",
      "[ Info: Arnoldi iteration step 16: normres = 0.14085424977768365\n",
      "[ Info: Arnoldi schursolve in iter 1, krylovdim = 16: 1 values converged, normres = (1.96e-14, 4.73e-08, 5.42e-02, 3.72e-04, 1.28e-01)\n",
      "[ Info: Arnoldi iteration step 17: normres = 0.032165659462377774\n",
      "[ Info: Arnoldi schursolve in iter 1, krylovdim = 17: 1 values converged, normres = (2.64e-16, 3.95e-08, 1.24e-03, 2.67e-07, 2.99e-03)\n",
      "[ Info: Arnoldi iteration step 18: normres = 0.02039304104962589\n",
      "[ Info: Arnoldi schursolve in iter 1, krylovdim = 18: 1 values converged, normres = (2.23e-18, 3.73e-08, 1.68e-05, 2.15e-08, 4.45e-05)\n",
      "[ Info: Arnoldi iteration step 19: normres = 0.0533589118593939\n",
      "[ Info: Arnoldi schursolve in iter 1, krylovdim = 19: 1 values converged, normres = (4.89e-20, 4.85e-07, 3.34e-07, 1.50e-06, 8.30e-07)\n",
      "[ Info: Arnoldi iteration step 20: normres = 0.20012597958178868\n",
      "[ Info: Arnoldi schursolve in iter 1, krylovdim = 20: 1 values converged, normres = (4.53e-21, 4.35e-08, 8.31e-08, 3.08e-08, 3.06e-07)\n",
      "[ Info: Arnoldi iteration step 21: normres = 0.03276120442985552\n",
      "[ Info: Arnoldi schursolve in iter 1, krylovdim = 21: 1 values converged, normres = (6.66e-23, 1.67e-09, 1.66e-09, 8.07e-09, 3.13e-09)\n",
      "[ Info: Arnoldi iteration step 22: normres = 0.01627459586074113\n",
      "[ Info: Arnoldi schursolve in iter 1, krylovdim = 22: 1 values converged, normres = (4.46e-25, 1.79e-11, 1.76e-11, 9.67e-11, 3.17e-11)\n",
      "[ Info: Arnoldi iteration step 23: normres = 0.3340546932652836\n",
      "[ Info: Arnoldi schursolve in iter 1, krylovdim = 23: 1 values converged, normres = (6.31e-26, 4.12e-12, 4.05e-12, 2.47e-11, 7.96e-12)\n",
      "[ Info: Arnoldi iteration step 24: normres = 0.056557798106095514\n",
      "[ Info: Arnoldi schursolve in iter 1, krylovdim = 24: 1 values converged, normres = (3.31e-27, 1.60e-12, 1.57e-12, 2.01e-02, 7.46e-03)\n",
      "[ Info: Arnoldi iteration step 25: normres = 0.05936922741847843\n",
      "[ Info: Arnoldi schursolve in iter 1, krylovdim = 25: 3 values converged, normres = (8.05e-29, 6.15e-14, 6.03e-14, 1.28e-09, 3.59e-10)\n",
      "[ Info: Arnoldi iteration step 26: normres = 0.056932840141651606\n",
      "[ Info: Arnoldi schursolve in iter 1, krylovdim = 26: 3 values converged, normres = (2.07e-30, 2.67e-15, 2.62e-15, 3.27e-05, 7.03e-05)\n",
      "[ Info: Arnoldi iteration step 27: normres = 0.0232505793893188\n",
      "[ Info: Arnoldi schursolve in iter 1, krylovdim = 27: 3 values converged, normres = (1.98e-32, 4.10e-17, 4.02e-17, 2.63e-10, 8.04e-11)\n",
      "[ Info: Arnoldi iteration step 28: normres = 0.10015966144551414\n",
      "[ Info: Arnoldi schursolve in iter 1, krylovdim = 28: 3 values converged, normres = (8.54e-34, 2.89e-18, 2.84e-18, 4.82e-10, 1.82e-10)\n",
      "[ Info: Arnoldi iteration step 29: normres = 0.015404661048209391\n",
      "[ Info: Arnoldi schursolve in iter 1, krylovdim = 29: 3 values converged, normres = (5.59e-36, 3.09e-20, 3.03e-20, 5.22e-11, 3.18e-10)\n",
      "[ Info: Arnoldi iteration step 30: normres = 0.05754280812501412\n",
      "[ Info: Arnoldi schursolve in iter 1, krylovdim = 30: 3 values converged, normres = (1.33e-37, 1.17e-21, 1.15e-21, 2.38e-12, 3.04e-11)\n",
      "[ Info: Arnoldi schursolve in iter 2, krylovdim = 19: 3 values converged, normres = (1.33e-37, 1.17e-21, 1.15e-21, 2.38e-12, 3.04e-11)\n",
      "[ Info: Arnoldi iteration step 20: normres = 0.16372748532689863\n",
      "[ Info: Arnoldi schursolve in iter 2, krylovdim = 20: 4 values converged, normres = (1.03e-38, 1.61e-22, 1.57e-22, 3.68e-13, 4.66e-12)\n",
      "[ Info: Arnoldi iteration step 21: normres = 0.09852655348991715\n",
      "┌ Info: Arnoldi eigsolve finished after 2 iterations:\n",
      "│ *  6 eigenvalues converged\n",
      "│ *  norm of residuals = (4.541927037353906e-40, 1.1907236168816461e-23, 1.1758421763144359e-23, 3.056884700046183e-14, 3.806296712247798e-13, 1.9725815052756168e-13)\n",
      "└ *  number of operations = 32\n"
     ]
    }
   ],
   "cell_type": "code",
   "source": [
    "eigsolve(eps_fun, randn(size(scfres.ρ)), 5, :LM; eager=true, verbosity=3);"
   ],
   "metadata": {},
   "execution_count": 3
  }
 ],
 "nbformat_minor": 3,
 "metadata": {
  "language_info": {
   "file_extension": ".jl",
   "mimetype": "application/julia",
   "name": "julia",
   "version": "1.9.0"
  },
  "kernelspec": {
   "name": "julia-1.9",
   "display_name": "Julia 1.9.0",
   "language": "julia"
  }
 },
 "nbformat": 4
}
