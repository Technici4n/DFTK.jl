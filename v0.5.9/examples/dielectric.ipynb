{
 "cells": [
  {
   "cell_type": "markdown",
   "source": [
    "# Eigenvalues of the dielectric matrix\n",
    "\n",
    "We compute a few eigenvalues of the dielectric matrix ($q=0$, $ω=0$) iteratively."
   ],
   "metadata": {}
  },
  {
   "outputs": [
    {
     "name": "stdout",
     "output_type": "stream",
     "text": [
      "n     Energy            log10(ΔE)   log10(Δρ)   Diag\n",
      "---   ---------------   ---------   ---------   ----\n",
      "  1   -7.235338472629                   -0.50    8.0\n",
      "  2   -7.250306319304       -1.82       -1.41    1.0\n",
      "  3   -7.251298919778       -3.00       -2.11    4.0\n",
      "  4   -7.251212277069   +   -4.06       -2.11    3.0\n",
      "  5   -7.251327507669       -3.94       -2.63    2.0\n",
      "  6   -7.251338236777       -4.97       -3.22    2.0\n",
      "  7   -7.251338783091       -6.26       -4.10    2.0\n",
      "  8   -7.251338793076       -8.00       -4.16    5.0\n",
      "  9   -7.251338798075       -8.30       -4.61    2.0\n",
      " 10   -7.251338798633       -9.25       -5.12    2.0\n",
      " 11   -7.251338798701      -10.16       -5.68    3.0\n",
      " 12   -7.251338798704      -11.50       -6.55    3.0\n",
      " 13   -7.251338798705      -13.09       -6.99    3.0\n",
      " 14   -7.251338798705      -13.94       -7.46    3.0\n",
      " 15   -7.251338798705      -15.05       -8.11    2.0\n"
     ]
    }
   ],
   "cell_type": "code",
   "source": [
    "using DFTK\n",
    "using Plots\n",
    "using KrylovKit\n",
    "using Printf\n",
    "\n",
    "# Calculation parameters\n",
    "kgrid = [1, 1, 1]\n",
    "Ecut = 5\n",
    "\n",
    "# Silicon lattice\n",
    "a = 10.26\n",
    "lattice = a / 2 .* [[0 1 1.]; [1 0 1.]; [1 1 0.]]\n",
    "Si = ElementPsp(:Si, psp=load_psp(\"hgh/lda/Si-q4\"))\n",
    "atoms     = [Si, Si]\n",
    "positions = [ones(3)/8, -ones(3)/8]\n",
    "\n",
    "# Compute the dielectric operator without symmetries\n",
    "model = model_LDA(lattice, atoms, positions, symmetries=false)\n",
    "basis = PlaneWaveBasis(model; Ecut, kgrid)\n",
    "scfres = self_consistent_field(basis, tol=1e-14);"
   ],
   "metadata": {},
   "execution_count": 1
  },
  {
   "cell_type": "markdown",
   "source": [
    "Applying $ε^† ≔ (1- χ_0 K)$ …"
   ],
   "metadata": {}
  },
  {
   "outputs": [],
   "cell_type": "code",
   "source": [
    "function eps_fun(δρ)\n",
    "    δV = apply_kernel(basis, δρ; ρ=scfres.ρ)\n",
    "    χ0δV = apply_χ0(scfres, δV)\n",
    "    δρ - χ0δV\n",
    "end;"
   ],
   "metadata": {},
   "execution_count": 2
  },
  {
   "cell_type": "markdown",
   "source": [
    "… eagerly diagonalizes the subspace matrix at each iteration"
   ],
   "metadata": {}
  },
  {
   "outputs": [
    {
     "name": "stdout",
     "output_type": "stream",
     "text": [
      "[ Info: Arnoldi iteration step 1: normres = 0.04876027196376789\n",
      "[ Info: Arnoldi iteration step 2: normres = 0.2765761933085702\n",
      "[ Info: Arnoldi iteration step 3: normres = 0.23754028606193606\n",
      "[ Info: Arnoldi iteration step 4: normres = 0.616429419947394\n",
      "[ Info: Arnoldi iteration step 5: normres = 0.2621754636925592\n",
      "[ Info: Arnoldi schursolve in iter 1, krylovdim = 5: 0 values converged, normres = (1.38e-01, 5.54e-02, 1.68e-01, 1.19e-01, 6.47e-02)\n",
      "[ Info: Arnoldi iteration step 6: normres = 1.0504121757668388\n",
      "[ Info: Arnoldi schursolve in iter 1, krylovdim = 6: 0 values converged, normres = (4.22e-01, 2.01e-01, 9.19e-01, 1.53e-01, 5.48e-02)\n",
      "[ Info: Arnoldi iteration step 7: normres = 0.13781399768724534\n",
      "[ Info: Arnoldi schursolve in iter 1, krylovdim = 7: 0 values converged, normres = (1.01e-01, 1.81e-02, 6.93e-03, 7.35e-02, 4.67e-02)\n",
      "[ Info: Arnoldi iteration step 8: normres = 0.12880402398233526\n",
      "[ Info: Arnoldi schursolve in iter 1, krylovdim = 8: 0 values converged, normres = (5.77e-03, 1.72e-03, 7.51e-04, 3.56e-02, 6.37e-02)\n",
      "[ Info: Arnoldi iteration step 9: normres = 0.08478154056717035\n",
      "[ Info: Arnoldi schursolve in iter 1, krylovdim = 9: 0 values converged, normres = (2.11e-04, 1.03e-04, 5.02e-05, 1.06e-02, 4.26e-02)\n",
      "[ Info: Arnoldi iteration step 10: normres = 0.07756439584232892\n",
      "[ Info: Arnoldi schursolve in iter 1, krylovdim = 10: 0 values converged, normres = (7.23e-06, 5.92e-06, 3.21e-06, 3.31e-03, 3.23e-02)\n",
      "[ Info: Arnoldi iteration step 11: normres = 0.09459986390907439\n",
      "[ Info: Arnoldi schursolve in iter 1, krylovdim = 11: 0 values converged, normres = (2.93e-07, 3.92e-07, 2.35e-07, 9.64e-04, 1.85e-02)\n",
      "[ Info: Arnoldi iteration step 12: normres = 0.07344890143237828\n",
      "[ Info: Arnoldi schursolve in iter 1, krylovdim = 12: 0 values converged, normres = (9.34e-09, 2.07e-08, 1.38e-08, 2.50e-04, 1.16e-02)\n",
      "[ Info: Arnoldi iteration step 13: normres = 0.036040675774249645\n",
      "[ Info: Arnoldi schursolve in iter 1, krylovdim = 13: 0 values converged, normres = (1.42e-10, 5.10e-10, 3.76e-10, 2.52e-05, 2.20e-03)\n",
      "[ Info: Arnoldi iteration step 14: normres = 0.7191882249172481\n",
      "[ Info: Arnoldi schursolve in iter 1, krylovdim = 14: 0 values converged, normres = (5.32e-11, 3.61e-10, 3.09e-10, 6.28e-01, 3.16e-01)\n",
      "[ Info: Arnoldi iteration step 15: normres = 0.07478760095700467\n",
      "[ Info: Arnoldi schursolve in iter 1, krylovdim = 15: 0 values converged, normres = (3.10e-12, 1.67e-10, 6.07e-02, 1.16e-04, 4.04e-06)\n",
      "[ Info: Arnoldi iteration step 16: normres = 0.4413982053794264\n",
      "[ Info: Arnoldi schursolve in iter 1, krylovdim = 16: 0 values converged, normres = (1.29e-12, 6.36e-10, 2.43e-01, 5.31e-04, 3.66e-01)\n",
      "[ Info: Arnoldi iteration step 17: normres = 0.015635968994837726\n",
      "[ Info: Arnoldi schursolve in iter 1, krylovdim = 17: 1 values converged, normres = (9.36e-15, 1.26e-03, 3.88e-03, 1.69e-03, 1.77e-03)\n",
      "[ Info: Arnoldi iteration step 18: normres = 0.029261864468387473\n",
      "[ Info: Arnoldi schursolve in iter 1, krylovdim = 18: 1 values converged, normres = (1.13e-16, 7.53e-09, 7.85e-05, 7.04e-09, 5.21e-05)\n",
      "[ Info: Arnoldi iteration step 19: normres = 0.08238356873252865\n",
      "[ Info: Arnoldi schursolve in iter 1, krylovdim = 19: 1 values converged, normres = (3.88e-18, 5.82e-07, 4.30e-06, 2.23e-06, 2.27e-06)\n",
      "[ Info: Arnoldi iteration step 20: normres = 0.11029498166306786\n",
      "[ Info: Arnoldi schursolve in iter 1, krylovdim = 20: 1 values converged, normres = (2.10e-19, 3.67e-07, 2.14e-07, 7.54e-09, 3.55e-07)\n",
      "[ Info: Arnoldi iteration step 21: normres = 0.020352348254345558\n",
      "[ Info: Arnoldi schursolve in iter 1, krylovdim = 21: 1 values converged, normres = (1.78e-21, 5.49e-09, 1.87e-09, 1.29e-09, 5.20e-09)\n",
      "[ Info: Arnoldi iteration step 22: normres = 0.0811206132199327\n",
      "[ Info: Arnoldi schursolve in iter 1, krylovdim = 22: 1 values converged, normres = (6.00e-23, 2.59e-10, 1.76e-10, 3.06e-10, 8.78e-11)\n",
      "[ Info: Arnoldi iteration step 23: normres = 0.5461283007643769\n",
      "[ Info: Arnoldi schursolve in iter 1, krylovdim = 23: 1 values converged, normres = (2.50e-23, 3.57e-10, 2.33e-10, 1.82e-10, 6.42e-10)\n",
      "[ Info: Arnoldi iteration step 24: normres = 0.023942849186423417\n",
      "[ Info: Arnoldi schursolve in iter 1, krylovdim = 24: 1 values converged, normres = (3.10e-25, 1.62e-11, 1.09e-11, 9.96e-03, 3.02e-03)\n",
      "[ Info: Arnoldi iteration step 25: normres = 0.06455582193644013\n",
      "[ Info: Arnoldi schursolve in iter 1, krylovdim = 25: 3 values converged, normres = (8.24e-27, 6.83e-13, 4.57e-13, 2.96e-09, 6.91e-09)\n",
      "[ Info: Arnoldi iteration step 26: normres = 0.060203361955209145\n",
      "[ Info: Arnoldi schursolve in iter 1, krylovdim = 26: 3 values converged, normres = (2.23e-28, 3.11e-14, 2.08e-14, 5.06e-06, 5.41e-06)\n",
      "[ Info: Arnoldi iteration step 27: normres = 0.05180642182634228\n",
      "[ Info: Arnoldi schursolve in iter 1, krylovdim = 27: 3 values converged, normres = (4.79e-30, 1.08e-15, 7.20e-16, 3.71e-07, 3.59e-08)\n",
      "[ Info: Arnoldi iteration step 28: normres = 0.06093553550323456\n",
      "[ Info: Arnoldi schursolve in iter 1, krylovdim = 28: 3 values converged, normres = (1.29e-31, 4.85e-17, 3.25e-17, 4.10e-09, 3.41e-09)\n",
      "[ Info: Arnoldi iteration step 29: normres = 0.01437217593435431\n",
      "[ Info: Arnoldi schursolve in iter 1, krylovdim = 29: 3 values converged, normres = (7.65e-34, 4.58e-19, 3.07e-19, 3.16e-10, 2.24e-10)\n",
      "[ Info: Arnoldi iteration step 30: normres = 0.10750757713113648\n",
      "[ Info: Arnoldi schursolve in iter 1, krylovdim = 30: 3 values converged, normres = (3.45e-35, 3.33e-20, 2.23e-20, 2.67e-11, 1.93e-11)\n",
      "[ Info: Arnoldi schursolve in iter 2, krylovdim = 19: 3 values converged, normres = (3.45e-35, 3.33e-20, 2.23e-20, 1.93e-11, 2.67e-11)\n",
      "[ Info: Arnoldi iteration step 20: normres = 0.16425787880447532\n",
      "[ Info: Arnoldi schursolve in iter 2, krylovdim = 20: 3 values converged, normres = (2.67e-36, 4.52e-21, 3.03e-21, 4.09e-12, 2.96e-12)\n",
      "[ Info: Arnoldi iteration step 21: normres = 0.06173492912307898\n",
      "┌ Info: Arnoldi eigsolve finished after 2 iterations:\n",
      "│ *  6 eigenvalues converged\n",
      "│ *  norm of residuals = (7.452747076641391e-38, 2.1489267682092544e-22, 2.0346826523902291e-22, 2.0910060231108258e-13, 2.0910060231108258e-13, 3.2037466410879237e-13)\n",
      "└ *  number of operations = 32\n"
     ]
    }
   ],
   "cell_type": "code",
   "source": [
    "eigsolve(eps_fun, randn(size(scfres.ρ)), 5, :LM; eager=true, verbosity=3);"
   ],
   "metadata": {},
   "execution_count": 3
  }
 ],
 "nbformat_minor": 3,
 "metadata": {
  "language_info": {
   "file_extension": ".jl",
   "mimetype": "application/julia",
   "name": "julia",
   "version": "1.8.2"
  },
  "kernelspec": {
   "name": "julia-1.8",
   "display_name": "Julia 1.8.2",
   "language": "julia"
  }
 },
 "nbformat": 4
}
