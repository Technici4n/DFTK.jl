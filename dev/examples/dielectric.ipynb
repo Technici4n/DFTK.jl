{
 "cells": [
  {
   "cell_type": "markdown",
   "source": [
    "# Eigenvalues of the dielectric matrix\n",
    "\n",
    "We compute a few eigenvalues of the dielectric matrix ($q=0$, $ω=0$) iteratively."
   ],
   "metadata": {}
  },
  {
   "outputs": [
    {
     "name": "stdout",
     "output_type": "stream",
     "text": [
      "n     Energy            log10(ΔE)   log10(Δρ)   Diag   Δtime\n",
      "---   ---------------   ---------   ---------   ----   ------\n",
      "  1   -7.233369197404                   -0.50    7.0         \n",
      "  2   -7.249546661578       -1.79       -1.39    1.0   9.78ms\n",
      "  3   -7.251006445003       -2.84       -1.83    2.0   11.9ms\n",
      "  4   -7.251033104674       -4.57       -1.92    1.0   10.6ms\n",
      "  5   -7.251314016890       -3.55       -2.48    1.0   10.0ms\n",
      "  6   -7.251338028843       -4.62       -3.06    2.0   12.1ms\n",
      "  7   -7.251338654996       -6.20       -3.43    1.0   10.3ms\n",
      "  8   -7.251338738351       -7.08       -3.67    2.0   12.6ms\n",
      "  9   -7.251338793161       -7.26       -4.22    1.0   10.6ms\n",
      " 10   -7.251338798386       -8.28       -4.92    2.0   69.9ms\n",
      " 11   -7.251338798674       -9.54       -5.30    2.0   14.2ms\n",
      " 12   -7.251338798699      -10.60       -5.63    2.0   13.1ms\n",
      " 13   -7.251338798704      -11.28       -6.26    1.0   11.2ms\n",
      " 14   -7.251338798704      -12.36       -6.53    2.0   12.9ms\n",
      " 15   -7.251338798705      -13.13       -6.88    1.0   12.0ms\n",
      " 16   -7.251338798705      -13.91       -7.18    2.0   12.9ms\n",
      " 17   -7.251338798705      -14.45       -7.93    1.0   11.4ms\n",
      " 18   -7.251338798705   +    -Inf       -8.15    3.0   14.5ms\n"
     ]
    }
   ],
   "cell_type": "code",
   "source": [
    "using DFTK\n",
    "using Plots\n",
    "using KrylovKit\n",
    "using Printf\n",
    "\n",
    "# Calculation parameters\n",
    "kgrid = [1, 1, 1]\n",
    "Ecut = 5\n",
    "\n",
    "# Silicon lattice\n",
    "a = 10.26\n",
    "lattice = a / 2 .* [[0 1 1.]; [1 0 1.]; [1 1 0.]]\n",
    "Si = ElementPsp(:Si, psp=load_psp(\"hgh/lda/Si-q4\"))\n",
    "atoms     = [Si, Si]\n",
    "positions = [ones(3)/8, -ones(3)/8]\n",
    "\n",
    "# Compute the dielectric operator without symmetries\n",
    "model  = model_LDA(lattice, atoms, positions, symmetries=false)\n",
    "basis  = PlaneWaveBasis(model; Ecut, kgrid)\n",
    "scfres = self_consistent_field(basis, tol=1e-8);"
   ],
   "metadata": {},
   "execution_count": 1
  },
  {
   "cell_type": "markdown",
   "source": [
    "Applying $ε^† ≔ (1- χ_0 K)$ …"
   ],
   "metadata": {}
  },
  {
   "outputs": [],
   "cell_type": "code",
   "source": [
    "function eps_fun(δρ)\n",
    "    δV = apply_kernel(basis, δρ; ρ=scfres.ρ)\n",
    "    χ0δV = apply_χ0(scfres, δV)\n",
    "    δρ - χ0δV\n",
    "end;"
   ],
   "metadata": {},
   "execution_count": 2
  },
  {
   "cell_type": "markdown",
   "source": [
    "… eagerly diagonalizes the subspace matrix at each iteration"
   ],
   "metadata": {}
  },
  {
   "outputs": [
    {
     "name": "stdout",
     "output_type": "stream",
     "text": [
      "[ Info: Arnoldi iteration step 1: normres = 0.06655470344746517\n",
      "[ Info: Arnoldi iteration step 2: normres = 0.5308443818861538\n",
      "[ Info: Arnoldi iteration step 3: normres = 0.7324018766797052\n",
      "[ Info: Arnoldi iteration step 4: normres = 0.21187680492240643\n",
      "[ Info: Arnoldi iteration step 5: normres = 0.41516144924405196\n",
      "[ Info: Arnoldi schursolve in iter 1, krylovdim = 5: 0 values converged, normres = (1.34e-02, 3.45e-02, 3.61e-01, 2.02e-01, 1.23e-02)\n",
      "[ Info: Arnoldi iteration step 6: normres = 0.368521000951862\n",
      "[ Info: Arnoldi schursolve in iter 1, krylovdim = 6: 0 values converged, normres = (4.52e-03, 2.64e-01, 2.05e-01, 1.16e-01, 6.89e-02)\n",
      "[ Info: Arnoldi iteration step 7: normres = 0.0880467345779853\n",
      "[ Info: Arnoldi schursolve in iter 1, krylovdim = 7: 0 values converged, normres = (1.97e-04, 2.29e-02, 5.83e-03, 3.99e-02, 6.82e-02)\n",
      "[ Info: Arnoldi iteration step 8: normres = 0.12425911082990389\n",
      "[ Info: Arnoldi schursolve in iter 1, krylovdim = 8: 0 values converged, normres = (1.07e-05, 2.05e-03, 5.92e-04, 1.75e-02, 7.04e-02)\n",
      "[ Info: Arnoldi iteration step 9: normres = 0.07241354401739378\n",
      "[ Info: Arnoldi schursolve in iter 1, krylovdim = 9: 0 values converged, normres = (3.36e-07, 1.07e-04, 3.43e-05, 4.77e-03, 3.77e-02)\n",
      "[ Info: Arnoldi iteration step 10: normres = 0.0875254134721848\n",
      "[ Info: Arnoldi schursolve in iter 1, krylovdim = 10: 0 values converged, normres = (1.28e-08, 6.74e-06, 2.41e-06, 1.47e-03, 2.53e-02)\n",
      "[ Info: Arnoldi iteration step 11: normres = 0.07389955398626086\n",
      "[ Info: Arnoldi schursolve in iter 1, krylovdim = 11: 0 values converged, normres = (4.07e-10, 3.51e-07, 1.39e-07, 3.51e-04, 1.26e-02)\n",
      "[ Info: Arnoldi iteration step 12: normres = 0.08885721702804102\n",
      "[ Info: Arnoldi schursolve in iter 1, krylovdim = 12: 0 values converged, normres = (1.57e-11, 2.22e-08, 9.80e-09, 1.03e-04, 7.90e-03)\n",
      "[ Info: Arnoldi iteration step 13: normres = 0.05508976390500512\n",
      "[ Info: Arnoldi schursolve in iter 1, krylovdim = 13: 1 values converged, normres = (3.68e-13, 8.54e-10, 4.17e-10, 1.77e-05, 3.01e-03)\n",
      "[ Info: Arnoldi iteration step 14: normres = 0.6451790621726862\n",
      "[ Info: Arnoldi schursolve in iter 1, krylovdim = 14: 1 values converged, normres = (1.63e-13, 9.99e-10, 6.53e-10, 6.34e-01, 1.78e-02)\n",
      "[ Info: Arnoldi iteration step 15: normres = 0.07821999451322262\n",
      "[ Info: Arnoldi schursolve in iter 1, krylovdim = 15: 1 values converged, normres = (7.39e-15, 2.19e-10, 4.30e-02, 7.66e-04, 5.75e-06)\n",
      "[ Info: Arnoldi iteration step 16: normres = 0.6410198965182221\n",
      "[ Info: Arnoldi schursolve in iter 1, krylovdim = 16: 1 values converged, normres = (3.74e-15, 4.15e-10, 1.11e-01, 3.26e-03, 6.27e-01)\n",
      "[ Info: Arnoldi iteration step 17: normres = 0.031241573450399532\n",
      "[ Info: Arnoldi schursolve in iter 1, krylovdim = 17: 1 values converged, normres = (6.70e-17, 6.28e-09, 1.46e-02, 4.53e-03, 1.09e-03)\n",
      "[ Info: Arnoldi iteration step 18: normres = 0.020388522489655492\n",
      "[ Info: Arnoldi schursolve in iter 1, krylovdim = 18: 1 values converged, normres = (5.62e-19, 1.11e-08, 1.94e-04, 6.51e-05, 2.42e-05)\n",
      "[ Info: Arnoldi iteration step 19: normres = 0.049890350019257575\n",
      "[ Info: Arnoldi schursolve in iter 1, krylovdim = 19: 1 values converged, normres = (1.16e-20, 4.40e-06, 4.69e-06, 1.06e-08, 2.53e-06)\n",
      "[ Info: Arnoldi iteration step 20: normres = 0.2059148129128181\n",
      "[ Info: Arnoldi schursolve in iter 1, krylovdim = 20: 1 values converged, normres = (1.08e-21, 1.22e-08, 1.01e-06, 2.58e-07, 3.62e-07)\n",
      "[ Info: Arnoldi iteration step 21: normres = 0.03191023420947734\n",
      "[ Info: Arnoldi schursolve in iter 1, krylovdim = 21: 1 values converged, normres = (1.58e-23, 1.71e-08, 1.93e-08, 1.98e-09, 1.27e-08)\n",
      "[ Info: Arnoldi iteration step 22: normres = 0.025433125333651656\n",
      "[ Info: Arnoldi schursolve in iter 1, krylovdim = 22: 1 values converged, normres = (1.65e-25, 4.23e-10, 6.46e-11, 2.67e-11, 2.33e-10)\n",
      "[ Info: Arnoldi iteration step 23: normres = 0.6528552942947141\n",
      "[ Info: Arnoldi schursolve in iter 1, krylovdim = 23: 1 values converged, normres = (7.57e-26, 5.32e-10, 8.36e-11, 4.64e-11, 4.01e-10)\n",
      "[ Info: Arnoldi iteration step 24: normres = 0.0173242251903343\n",
      "[ Info: Arnoldi schursolve in iter 1, krylovdim = 24: 1 values converged, normres = (7.31e-28, 2.22e-11, 3.51e-12, 1.22e-09, 9.08e-09)\n",
      "[ Info: Arnoldi iteration step 25: normres = 0.033048211452005795\n",
      "[ Info: Arnoldi schursolve in iter 1, krylovdim = 25: 3 values converged, normres = (9.90e-30, 4.81e-13, 7.48e-14, 1.89e-08, 8.20e-08)\n",
      "[ Info: Arnoldi iteration step 26: normres = 0.0921851202712515\n",
      "[ Info: Arnoldi schursolve in iter 1, krylovdim = 26: 3 values converged, normres = (4.08e-31, 3.33e-14, 5.18e-15, 1.39e-09, 1.51e-08)\n",
      "[ Info: Arnoldi iteration step 27: normres = 0.029769602658572165\n",
      "[ Info: Arnoldi schursolve in iter 1, krylovdim = 27: 3 values converged, normres = (5.08e-33, 6.68e-16, 1.04e-16, 3.18e-07, 2.02e-07)\n",
      "[ Info: Arnoldi iteration step 28: normres = 0.0866794951741783\n",
      "[ Info: Arnoldi schursolve in iter 1, krylovdim = 28: 3 values converged, normres = (1.91e-34, 4.16e-17, 6.47e-18, 2.65e-10, 2.41e-08)\n",
      "[ Info: Arnoldi iteration step 29: normres = 0.029250347111180654\n",
      "[ Info: Arnoldi schursolve in iter 1, krylovdim = 29: 3 values converged, normres = (2.35e-36, 8.27e-19, 1.29e-19, 6.91e-12, 5.64e-10)\n",
      "[ Info: Arnoldi iteration step 30: normres = 0.06773003889246998\n",
      "[ Info: Arnoldi schursolve in iter 1, krylovdim = 30: 4 values converged, normres = (6.85e-38, 3.95e-20, 6.14e-21, 3.62e-13, 2.97e-11)\n",
      "[ Info: Arnoldi schursolve in iter 2, krylovdim = 19: 4 values converged, normres = (6.85e-38, 3.95e-20, 6.14e-21, 3.62e-13, 2.97e-11)\n",
      "[ Info: Arnoldi iteration step 20: normres = 0.0349800646504542\n",
      "┌ Info: Arnoldi eigsolve finished after 2 iterations:\n",
      "│ *  6 eigenvalues converged\n",
      "│ *  norm of residuals = (1.001741664659434e-39, 9.298202024769681e-22, 3.6097806629439892e-22, 9.42536625503184e-15, 7.727218676458658e-13, 1.4746060763964955e-13)\n",
      "└ *  number of operations = 31\n"
     ]
    }
   ],
   "cell_type": "code",
   "source": [
    "eigsolve(eps_fun, randn(size(scfres.ρ)), 5, :LM; eager=true, verbosity=3);"
   ],
   "metadata": {},
   "execution_count": 3
  }
 ],
 "nbformat_minor": 3,
 "metadata": {
  "language_info": {
   "file_extension": ".jl",
   "mimetype": "application/julia",
   "name": "julia",
   "version": "1.8.5"
  },
  "kernelspec": {
   "name": "julia-1.8",
   "display_name": "Julia 1.8.5",
   "language": "julia"
  }
 },
 "nbformat": 4
}
