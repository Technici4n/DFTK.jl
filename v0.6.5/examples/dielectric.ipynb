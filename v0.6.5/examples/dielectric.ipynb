{
 "cells": [
  {
   "cell_type": "markdown",
   "source": [
    "# Eigenvalues of the dielectric matrix\n",
    "\n",
    "We compute a few eigenvalues of the dielectric matrix ($q=0$, $ω=0$) iteratively."
   ],
   "metadata": {}
  },
  {
   "outputs": [
    {
     "name": "stdout",
     "output_type": "stream",
     "text": [
      "n     Energy            log10(ΔE)   log10(Δρ)   Diag   Δtime\n",
      "---   ---------------   ---------   ---------   ----   ------\n",
      "  1   -7.234536296272                   -0.50    8.0         \n",
      "  2   -7.250177372572       -1.81       -1.39    1.0   12.3ms\n",
      "  3   -7.251077622062       -3.05       -2.05    1.0   12.1ms\n",
      "  4   -7.251105796805       -4.55       -1.97    2.0   15.9ms\n",
      "  5   -7.251329994430       -3.65       -2.63    1.0   12.4ms\n",
      "  6   -7.251338137575       -5.09       -3.18    1.0   12.6ms\n",
      "  7   -7.251338633047       -6.30       -3.46    2.0   14.4ms\n",
      "  8   -7.251338785911       -6.82       -3.94    2.0   15.8ms\n",
      "  9   -7.251338796191       -7.99       -4.38    1.0   13.3ms\n",
      " 10   -7.251338798559       -8.63       -5.13    2.0   15.4ms\n",
      " 11   -7.251338798692       -9.88       -5.64    2.0   17.1ms\n",
      " 12   -7.251338798702      -10.99       -5.85    3.0   17.3ms\n",
      " 13   -7.251338798704      -11.62       -6.42    1.0   12.8ms\n",
      " 14   -7.251338798704      -12.66       -6.53    3.0   17.9ms\n",
      " 15   -7.251338798705      -13.03       -7.00    1.0   12.2ms\n",
      " 16   -7.251338798705      -14.21       -7.56    2.0   14.4ms\n",
      " 17   -7.251338798705      -15.05       -7.87    2.0   20.0ms\n",
      " 18   -7.251338798705      -15.05       -8.34    1.0   13.5ms\n"
     ]
    }
   ],
   "cell_type": "code",
   "source": [
    "using DFTK\n",
    "using Plots\n",
    "using KrylovKit\n",
    "using Printf\n",
    "\n",
    "# Calculation parameters\n",
    "kgrid = [1, 1, 1]\n",
    "Ecut = 5\n",
    "\n",
    "# Silicon lattice\n",
    "a = 10.26\n",
    "lattice = a / 2 .* [[0 1 1.]; [1 0 1.]; [1 1 0.]]\n",
    "Si = ElementPsp(:Si, psp=load_psp(\"hgh/lda/Si-q4\"))\n",
    "atoms     = [Si, Si]\n",
    "positions = [ones(3)/8, -ones(3)/8]\n",
    "\n",
    "# Compute the dielectric operator without symmetries\n",
    "model  = model_LDA(lattice, atoms, positions, symmetries=false)\n",
    "basis  = PlaneWaveBasis(model; Ecut, kgrid)\n",
    "scfres = self_consistent_field(basis, tol=1e-8);"
   ],
   "metadata": {},
   "execution_count": 1
  },
  {
   "cell_type": "markdown",
   "source": [
    "Applying $ε^† ≔ (1- χ_0 K)$ …"
   ],
   "metadata": {}
  },
  {
   "outputs": [],
   "cell_type": "code",
   "source": [
    "function eps_fun(δρ)\n",
    "    δV = apply_kernel(basis, δρ; ρ=scfres.ρ)\n",
    "    χ0δV = apply_χ0(scfres, δV)\n",
    "    δρ - χ0δV\n",
    "end;"
   ],
   "metadata": {},
   "execution_count": 2
  },
  {
   "cell_type": "markdown",
   "source": [
    "… eagerly diagonalizes the subspace matrix at each iteration"
   ],
   "metadata": {}
  },
  {
   "outputs": [
    {
     "name": "stdout",
     "output_type": "stream",
     "text": [
      "[ Info: Arnoldi iteration step 1: normres = 0.04519429135012608\n",
      "[ Info: Arnoldi iteration step 2: normres = 0.4545509676827249\n",
      "[ Info: Arnoldi iteration step 3: normres = 0.785746650277408\n",
      "[ Info: Arnoldi iteration step 4: normres = 0.47786682730974817\n",
      "[ Info: Arnoldi iteration step 5: normres = 0.5160638879312818\n",
      "[ Info: Arnoldi schursolve in iter 1, krylovdim = 5: 0 values converged, normres = (1.07e-01, 7.99e-02, 3.99e-01, 2.97e-01, 3.30e-02)\n",
      "[ Info: Arnoldi iteration step 6: normres = 0.329636584622599\n",
      "[ Info: Arnoldi schursolve in iter 1, krylovdim = 6: 0 values converged, normres = (2.99e-02, 1.39e-01, 2.59e-01, 1.15e-01, 6.65e-02)\n",
      "[ Info: Arnoldi iteration step 7: normres = 0.07816922874559946\n",
      "[ Info: Arnoldi schursolve in iter 1, krylovdim = 7: 0 values converged, normres = (1.16e-03, 1.24e-02, 1.58e-02, 4.10e-02, 5.69e-02)\n",
      "[ Info: Arnoldi iteration step 8: normres = 0.10526058960791121\n",
      "[ Info: Arnoldi schursolve in iter 1, krylovdim = 8: 0 values converged, normres = (5.27e-05, 9.31e-04, 1.32e-03, 1.42e-02, 4.12e-02)\n",
      "[ Info: Arnoldi iteration step 9: normres = 0.0839396247432873\n",
      "[ Info: Arnoldi schursolve in iter 1, krylovdim = 9: 0 values converged, normres = (1.92e-06, 5.61e-05, 8.84e-05, 4.30e-03, 3.72e-02)\n",
      "[ Info: Arnoldi iteration step 10: normres = 0.1011104784879004\n",
      "[ Info: Arnoldi schursolve in iter 1, krylovdim = 10: 0 values converged, normres = (8.52e-08, 4.14e-06, 7.28e-06, 1.68e-03, 3.60e-02)\n",
      "[ Info: Arnoldi iteration step 11: normres = 0.0607824534163222\n",
      "[ Info: Arnoldi schursolve in iter 1, krylovdim = 11: 0 values converged, normres = (2.24e-09, 1.79e-07, 3.49e-07, 3.44e-04, 1.68e-02)\n",
      "[ Info: Arnoldi iteration step 12: normres = 0.08507322529439695\n",
      "[ Info: Arnoldi schursolve in iter 1, krylovdim = 12: 0 values converged, normres = (8.15e-11, 1.07e-08, 2.31e-08, 8.98e-05, 8.49e-03)\n",
      "[ Info: Arnoldi iteration step 13: normres = 0.030532104403107878\n",
      "[ Info: Arnoldi schursolve in iter 1, krylovdim = 13: 0 values converged, normres = (1.06e-12, 2.25e-10, 5.39e-10, 7.90e-06, 1.40e-03)\n",
      "[ Info: Arnoldi iteration step 14: normres = 0.6289714499567257\n",
      "[ Info: Arnoldi schursolve in iter 1, krylovdim = 14: 1 values converged, normres = (3.30e-13, 1.28e-10, 3.51e-10, 3.27e-04, 6.13e-01)\n",
      "[ Info: Arnoldi iteration step 15: normres = 0.08445891154441164\n",
      "[ Info: Arnoldi schursolve in iter 1, krylovdim = 15: 1 values converged, normres = (2.25e-14, 6.32e-11, 7.09e-02, 3.42e-03, 3.17e-05)\n",
      "[ Info: Arnoldi iteration step 16: normres = 0.7388330232437335\n",
      "[ Info: Arnoldi schursolve in iter 1, krylovdim = 16: 1 values converged, normres = (9.29e-15, 5.57e-11, 6.77e-02, 9.84e-04, 7.32e-01)\n",
      "[ Info: Arnoldi iteration step 17: normres = 0.03361951645871876\n",
      "[ Info: Arnoldi schursolve in iter 1, krylovdim = 17: 1 values converged, normres = (2.52e-16, 8.36e-10, 2.40e-02, 8.73e-03, 4.52e-03)\n",
      "[ Info: Arnoldi iteration step 18: normres = 0.017661085367873974\n",
      "[ Info: Arnoldi schursolve in iter 1, krylovdim = 18: 1 values converged, normres = (1.83e-18, 1.02e-04, 2.58e-04, 1.03e-07, 1.26e-04)\n",
      "[ Info: Arnoldi iteration step 19: normres = 0.05538436288703238\n",
      "[ Info: Arnoldi schursolve in iter 1, krylovdim = 19: 1 values converged, normres = (4.23e-20, 2.91e-06, 9.88e-06, 1.56e-06, 4.93e-06)\n",
      "[ Info: Arnoldi iteration step 20: normres = 0.20427707067126719\n",
      "[ Info: Arnoldi schursolve in iter 1, krylovdim = 20: 1 values converged, normres = (3.99e-21, 3.21e-09, 1.67e-06, 2.90e-08, 9.43e-07)\n",
      "[ Info: Arnoldi iteration step 21: normres = 0.024500609808492876\n",
      "[ Info: Arnoldi schursolve in iter 1, krylovdim = 21: 1 values converged, normres = (4.38e-23, 6.50e-09, 3.05e-08, 1.00e-08, 1.71e-08)\n",
      "[ Info: Arnoldi iteration step 22: normres = 0.02608597204552171\n",
      "[ Info: Arnoldi schursolve in iter 1, krylovdim = 22: 1 values converged, normres = (4.69e-25, 3.30e-11, 5.31e-10, 9.46e-11, 3.59e-10)\n",
      "[ Info: Arnoldi iteration step 23: normres = 0.6382691548503368\n",
      "[ Info: Arnoldi schursolve in iter 1, krylovdim = 23: 1 values converged, normres = (1.97e-25, 3.53e-11, 5.54e-10, 1.29e-10, 4.85e-10)\n",
      "[ Info: Arnoldi iteration step 24: normres = 0.018455620332354834\n",
      "[ Info: Arnoldi schursolve in iter 1, krylovdim = 24: 1 values converged, normres = (2.15e-27, 1.82e-12, 2.89e-11, 8.32e-10, 2.87e-09)\n",
      "[ Info: Arnoldi iteration step 25: normres = 0.06617158844034257\n",
      "[ Info: Arnoldi schursolve in iter 1, krylovdim = 25: 2 values converged, normres = (5.90e-29, 8.02e-14, 1.27e-12, 4.92e-04, 5.46e-05)\n",
      "[ Info: Arnoldi iteration step 26: normres = 0.04802516301306736\n",
      "[ Info: Arnoldi schursolve in iter 1, krylovdim = 26: 3 values converged, normres = (1.28e-30, 2.93e-15, 4.65e-14, 1.55e-05, 1.17e-05)\n",
      "[ Info: Arnoldi iteration step 27: normres = 0.028730564789067336\n",
      "[ Info: Arnoldi schursolve in iter 1, krylovdim = 27: 3 values converged, normres = (1.51e-32, 5.52e-17, 8.75e-16, 1.62e-09, 1.06e-08)\n",
      "[ Info: Arnoldi iteration step 28: normres = 0.09972522073729255\n",
      "[ Info: Arnoldi schursolve in iter 1, krylovdim = 28: 3 values converged, normres = (6.45e-34, 3.88e-18, 6.15e-17, 1.92e-08, 9.20e-09)\n",
      "[ Info: Arnoldi iteration step 29: normres = 0.023869257860341907\n",
      "[ Info: Arnoldi schursolve in iter 1, krylovdim = 29: 3 values converged, normres = (6.55e-36, 6.41e-20, 1.02e-18, 6.50e-11, 4.30e-10)\n",
      "[ Info: Arnoldi iteration step 30: normres = 0.2320263775066859\n",
      "[ Info: Arnoldi schursolve in iter 1, krylovdim = 30: 3 values converged, normres = (6.84e-37, 1.13e-20, 1.80e-19, 1.28e-11, 8.16e-11)\n",
      "[ Info: Arnoldi schursolve in iter 2, krylovdim = 19: 3 values converged, normres = (6.84e-37, 1.13e-20, 1.80e-19, 1.28e-11, 8.16e-11)\n",
      "[ Info: Arnoldi iteration step 20: normres = 0.04153492981165665\n",
      "[ Info: Arnoldi schursolve in iter 2, krylovdim = 20: 4 values converged, normres = (1.38e-38, 3.70e-22, 5.87e-21, 4.71e-13, 3.03e-12)\n",
      "[ Info: Arnoldi iteration step 21: normres = 0.07047739357630636\n",
      "┌ Info: Arnoldi eigsolve finished after 2 iterations:\n",
      "│ *  6 eigenvalues converged\n",
      "│ *  norm of residuals = (3.90447173538127e-40, 1.8206440191633036e-23, 2.404631930377351e-22, 2.5638696226813656e-14, 1.3346680273328733e-13, 1.3346680273328733e-13)\n",
      "└ *  number of operations = 32\n"
     ]
    }
   ],
   "cell_type": "code",
   "source": [
    "eigsolve(eps_fun, randn(size(scfres.ρ)), 5, :LM; eager=true, verbosity=3);"
   ],
   "metadata": {},
   "execution_count": 3
  }
 ],
 "nbformat_minor": 3,
 "metadata": {
  "language_info": {
   "file_extension": ".jl",
   "mimetype": "application/julia",
   "name": "julia",
   "version": "1.8.5"
  },
  "kernelspec": {
   "name": "julia-1.8",
   "display_name": "Julia 1.8.5",
   "language": "julia"
  }
 },
 "nbformat": 4
}
