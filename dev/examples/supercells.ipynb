{
 "cells": [
  {
   "cell_type": "markdown",
   "source": [
    "# Creating and modelling metallic supercells\n",
    "\n",
    "In this section we will be concerned with modelling supercells of aluminium.\n",
    "When dealing with periodic problems there is no unique definition of the\n",
    "lattice: Clearly any duplication of the lattice along an axis is also a valid\n",
    "repetitive unit to describe exactly the same system.\n",
    "This is exactly what a **supercell** is: An $n$-fold repetition along one of the\n",
    "axes of the original lattice.\n",
    "\n",
    "The following code achieves this for aluminium:"
   ],
   "metadata": {}
  },
  {
   "outputs": [],
   "cell_type": "code",
   "source": [
    "using DFTK\n",
    "using LinearAlgebra\n",
    "using ASEconvert\n",
    "\n",
    "function aluminium_setup(repeat=1; Ecut=7.0, kgrid=[2, 2, 2])\n",
    "    a = 7.65339\n",
    "    lattice = a * Matrix(I, 3, 3)\n",
    "    Al = ElementPsp(:Al, psp=load_psp(\"hgh/lda/al-q3\"))\n",
    "    atoms     = [Al, Al, Al, Al]\n",
    "    positions = [[0.0, 0.0, 0.0], [0.0, 0.5, 0.5], [0.5, 0.0, 0.5], [0.5, 0.5, 0.0]]\n",
    "    unit_cell = periodic_system(lattice, atoms, positions)\n",
    "\n",
    "    # Make supercell in ASE:\n",
    "    # We convert our lattice to the conventions used in ASE, make the supercell\n",
    "    # and then convert back ...\n",
    "    supercell_ase = convert_ase(unit_cell) * pytuple((repeat, 1, 1))\n",
    "    supercell     = pyconvert(AbstractSystem, supercell_ase)\n",
    "\n",
    "    # Unfortunately right now the conversion to ASE drops the pseudopotential information,\n",
    "    # so we need to reattach it:\n",
    "    supercell = attach_psp(supercell, Al=\"hgh/lda/al-q3\")\n",
    "\n",
    "    # Construct an LDA model and discretise\n",
    "    # Note: We disable symmetries explicitly here. Otherwise the problem sizes\n",
    "    #       we are able to run on the CI are too simple to observe the numerical\n",
    "    #       instabilities we want to trigger here.\n",
    "    model = model_LDA(supercell; temperature=1e-3, symmetries=false)\n",
    "    PlaneWaveBasis(model; Ecut, kgrid)\n",
    "end;"
   ],
   "metadata": {},
   "execution_count": 1
  },
  {
   "cell_type": "markdown",
   "source": [
    "As part of the code we are using a routine inside the ASE,\n",
    "the [atomistic simulation environment](https://wiki.fysik.dtu.dk/ase/index.html)\n",
    "for creating the supercell and make use of the two-way interoperability of\n",
    "DFTK and ASE. For more details on this aspect see the documentation\n",
    "on Input and output formats."
   ],
   "metadata": {}
  },
  {
   "cell_type": "markdown",
   "source": [
    "Write an example supercell structure to a file to plot it:"
   ],
   "metadata": {}
  },
  {
   "outputs": [
    {
     "name": "stdout",
     "output_type": "stream",
     "text": [
      "┌ Warning: Skipping atomic property pseudopotential, which is not supported in ASE.\n",
      "└ @ ASEconvert ~/.julia/packages/ASEconvert/neSFl/src/ASEconvert.jl:123\n",
      "┌ Warning: Skipping atomic property pseudopotential, which is not supported in ASE.\n",
      "└ @ ASEconvert ~/.julia/packages/ASEconvert/neSFl/src/ASEconvert.jl:123\n"
     ]
    },
    {
     "output_type": "execute_result",
     "data": {
      "text/plain": "\u001b[0m\u001b[1mPython None\u001b[22m"
     },
     "metadata": {},
     "execution_count": 2
    }
   ],
   "cell_type": "code",
   "source": [
    "setup = aluminium_setup(5)\n",
    "convert_ase(periodic_system(setup.model)).write(\"al_supercell.png\")"
   ],
   "metadata": {},
   "execution_count": 2
  },
  {
   "cell_type": "markdown",
   "source": [
    "<img src=\"https://docs.dftk.org/stable/examples/al_supercell.png\" width=500 height=500 />"
   ],
   "metadata": {}
  },
  {
   "cell_type": "markdown",
   "source": [
    "As we will see in this notebook the modelling of a system generally becomes\n",
    "harder if the system becomes larger.\n",
    "\n",
    "- This sounds like a trivial statement as *per se* the cost per SCF step increases\n",
    "  as the system (and thus $N$) gets larger.\n",
    "- But there is more to it:\n",
    "  If one is not careful also the *number of SCF iterations* increases\n",
    "  as the system gets larger.\n",
    "- The aim of a proper computational treatment of such supercells is therefore\n",
    "  to ensure that the **number of SCF iterations remains constant** when the\n",
    "  system size increases."
   ],
   "metadata": {}
  },
  {
   "cell_type": "markdown",
   "source": [
    "For achieving the latter DFTK by default employs the `LdosMixing`\n",
    "preconditioner [^HL2021] during the SCF iterations. This mixing approach is\n",
    "completely parameter free, but still automatically adapts to the treated\n",
    "system in order to efficiently prevent charge sloshing. As a result,\n",
    "modelling aluminium slabs indeed takes roughly the same number of SCF iterations\n",
    "irrespective of the supercell size:\n",
    "\n",
    "[^HL2021]:\n",
    "   M. F. Herbst and A. Levitt.\n",
    "   *Black-box inhomogeneous preconditioning for self-consistent field iterations in density functional theory.*\n",
    "   J. Phys. Cond. Matt *33* 085503 (2021). [ArXiv:2009.01665](https://arxiv.org/abs/2009.01665)"
   ],
   "metadata": {}
  },
  {
   "outputs": [
    {
     "name": "stdout",
     "output_type": "stream",
     "text": [
      "┌ Warning: Skipping atomic property pseudopotential, which is not supported in ASE.\n",
      "└ @ ASEconvert ~/.julia/packages/ASEconvert/neSFl/src/ASEconvert.jl:123\n",
      "n     Energy            log10(ΔE)   log10(Δρ)   Diag   Δtime\n",
      "---   ---------------   ---------   ---------   ----   ------\n",
      "  1   -8.298296918538                   -0.85    5.1         \n",
      "  2   -8.300189288025       -2.72       -1.25    1.0    128ms\n",
      "  3   -8.300430533449       -3.62       -1.89    3.1    178ms\n",
      "  4   -8.300462013419       -4.50       -2.77    1.9    149ms\n",
      "  5   -8.300464166342       -5.67       -3.05    3.1    249ms\n",
      "  6   -8.300464402295       -6.63       -3.22    3.5    163ms\n",
      "  7   -8.300464521262       -6.92       -3.38    6.1    245ms\n",
      "  8   -8.300464588810       -7.17       -3.54    1.4    154ms\n",
      "  9   -8.300464628182       -7.40       -3.73    2.1    166ms\n",
      " 10   -8.300464633427       -8.28       -3.81    1.1    138ms\n",
      " 11   -8.300464642034       -8.07       -4.05    1.5    204ms\n"
     ]
    }
   ],
   "cell_type": "code",
   "source": [
    "self_consistent_field(aluminium_setup(1); tol=1e-4);"
   ],
   "metadata": {},
   "execution_count": 3
  },
  {
   "outputs": [
    {
     "name": "stdout",
     "output_type": "stream",
     "text": [
      "┌ Warning: Skipping atomic property pseudopotential, which is not supported in ASE.\n",
      "└ @ ASEconvert ~/.julia/packages/ASEconvert/neSFl/src/ASEconvert.jl:123\n",
      "n     Energy            log10(ΔE)   log10(Δρ)   Diag   Δtime\n",
      "---   ---------------   ---------   ---------   ----   ------\n",
      "  1   -16.64160133244                   -0.70    5.8         \n",
      "  2   -16.67805348929       -1.44       -1.14    1.4    374ms\n",
      "  3   -16.67919214971       -2.94       -1.88    2.6    468ms\n",
      "  4   -16.67927760394       -4.07       -2.74    3.1    831ms\n",
      "  5   -16.67928580020       -5.09       -3.09    6.0    579ms\n",
      "  6   -16.67928618700       -6.41       -3.49    2.0    363ms\n",
      "  7   -16.67928621538       -7.55       -3.96    2.1    381ms\n",
      "  8   -16.67928622146       -8.22       -4.55    3.1    438ms\n"
     ]
    }
   ],
   "cell_type": "code",
   "source": [
    "self_consistent_field(aluminium_setup(2); tol=1e-4);"
   ],
   "metadata": {},
   "execution_count": 4
  },
  {
   "outputs": [
    {
     "name": "stdout",
     "output_type": "stream",
     "text": [
      "┌ Warning: Skipping atomic property pseudopotential, which is not supported in ASE.\n",
      "└ @ ASEconvert ~/.julia/packages/ASEconvert/neSFl/src/ASEconvert.jl:123\n",
      "n     Energy            log10(ΔE)   log10(Δρ)   Diag   Δtime\n",
      "---   ---------------   ---------   ---------   ----   ------\n",
      "  1   -33.32527558738                   -0.56    6.6         \n",
      "  2   -33.33266698255       -2.13       -1.00    1.1    1.23s\n",
      "  3   -33.33403735266       -2.86       -1.74    4.9    1.67s\n",
      "  4   -33.33427411446       -3.63       -2.62    2.1    1.31s\n",
      "  5   -33.33574371712       -2.83       -2.51    7.5    2.13s\n",
      "  6   -33.33694311547       -2.92       -2.52    5.4    1.56s\n",
      "  7   -33.33694322323       -6.97       -2.52    2.5    1.29s\n",
      "  8   -33.33674864736   +   -3.71       -2.23    2.2    1.46s\n",
      "  9   -33.33676508783       -4.78       -2.24    1.0    1.18s\n",
      " 10   -33.33682403225       -4.23       -2.33    1.0    1.20s\n",
      " 11   -33.33686568047       -4.38       -2.42    1.0    1.20s\n",
      " 12   -33.33688287836       -4.76       -2.47    1.0    1.19s\n",
      " 13   -33.33690459011       -4.66       -2.57    1.0    1.21s\n",
      " 14   -33.33693993494       -4.45       -3.08    1.5    1.29s\n",
      " 15   -33.33694368820       -5.43       -3.82    2.9    1.58s\n",
      " 16   -33.33694361468   +   -7.13       -3.68    4.1    1.68s\n",
      " 17   -33.33694375748       -6.85       -4.26    2.2    1.50s\n"
     ]
    }
   ],
   "cell_type": "code",
   "source": [
    "self_consistent_field(aluminium_setup(4); tol=1e-4);"
   ],
   "metadata": {},
   "execution_count": 5
  },
  {
   "cell_type": "markdown",
   "source": [
    "When switching off explicitly the `LdosMixing`, by selecting `mixing=SimpleMixing()`,\n",
    "the performance of number of required SCF steps starts to increase as we increase\n",
    "the size of the modelled problem:"
   ],
   "metadata": {}
  },
  {
   "outputs": [
    {
     "name": "stdout",
     "output_type": "stream",
     "text": [
      "┌ Warning: Skipping atomic property pseudopotential, which is not supported in ASE.\n",
      "└ @ ASEconvert ~/.julia/packages/ASEconvert/neSFl/src/ASEconvert.jl:123\n",
      "n     Energy            log10(ΔE)   log10(Δρ)   Diag   Δtime\n",
      "---   ---------------   ---------   ---------   ----   ------\n",
      "  1   -8.298209755356                   -0.85    5.0         \n",
      "  2   -8.300256459346       -2.69       -1.58    1.2    122ms\n",
      "  3   -8.300439581161       -3.74       -2.70    3.8    168ms\n",
      "  4   -8.300451332625       -4.93       -2.69    2.9    184ms\n",
      "  5   -8.300463585350       -4.91       -3.20    1.0    118ms\n",
      "  6   -8.300464492486       -6.04       -3.67    3.2    177ms\n",
      "  7   -8.300464641333       -6.83       -4.52    1.8    176ms\n"
     ]
    }
   ],
   "cell_type": "code",
   "source": [
    "self_consistent_field(aluminium_setup(1); tol=1e-4, mixing=SimpleMixing());"
   ],
   "metadata": {},
   "execution_count": 6
  },
  {
   "outputs": [
    {
     "name": "stdout",
     "output_type": "stream",
     "text": [
      "┌ Warning: Skipping atomic property pseudopotential, which is not supported in ASE.\n",
      "└ @ ASEconvert ~/.julia/packages/ASEconvert/neSFl/src/ASEconvert.jl:123\n",
      "n     Energy            log10(ΔE)   log10(Δρ)   Diag   Δtime\n",
      "---   ---------------   ---------   ---------   ----   ------\n",
      "  1   -33.32475059812                   -0.56    6.6         \n",
      "  2   -33.27814567540   +   -1.33       -1.25    1.0    1.05s\n",
      "  3   +12.14239285684   +    1.66       -0.24    8.6    2.74s\n",
      "  4   -33.32647874231        1.66       -1.82    6.4    2.52s\n",
      "  5   -33.23817267351   +   -1.05       -1.35    4.1    1.99s\n",
      "  6   -33.25862198414       -1.69       -1.60    3.4    1.64s\n",
      "  7   -32.98156137158   +   -0.56       -1.29    4.8    1.75s\n",
      "  8   -33.33475543620       -0.45       -2.17    4.1    1.62s\n",
      "  9   -33.33631209421       -2.81       -2.45    2.1    1.26s\n",
      " 10   -33.33680045448       -3.31       -2.63    2.9    1.44s\n",
      " 11   -33.33692440080       -3.91       -3.01    1.6    1.27s\n",
      " 12   -33.33693626148       -4.93       -3.26    2.9    1.42s\n",
      " 13   -33.33694262539       -5.20       -3.57    2.0    1.26s\n",
      " 14   -33.33694355761       -6.03       -4.00    2.2    1.36s\n",
      " 15   -33.33694251256   +   -5.98       -3.98    3.6    1.56s\n",
      " 16   -33.33694330476       -6.10       -4.21    2.9    1.44s\n"
     ]
    }
   ],
   "cell_type": "code",
   "source": [
    "self_consistent_field(aluminium_setup(4); tol=1e-4, mixing=SimpleMixing());"
   ],
   "metadata": {},
   "execution_count": 7
  },
  {
   "cell_type": "markdown",
   "source": [
    "For completion let us note that the more traditional `mixing=KerkerMixing()`\n",
    "approach would also help in this particular setting to obtain a constant\n",
    "number of SCF iterations for an increasing system size (try it!). In contrast\n",
    "to `LdosMixing`, however, `KerkerMixing` is only suitable to model bulk metallic\n",
    "system (like the case we are considering here). When modelling metallic surfaces\n",
    "or mixtures of metals and insulators, `KerkerMixing` fails, while `LdosMixing`\n",
    "still works well. See the Modelling a gallium arsenide surface example\n",
    "or [^HL2021] for details. Due to the general applicability of `LdosMixing` this\n",
    "method is the default mixing approach in DFTK."
   ],
   "metadata": {}
  }
 ],
 "nbformat_minor": 3,
 "metadata": {
  "language_info": {
   "file_extension": ".jl",
   "mimetype": "application/julia",
   "name": "julia",
   "version": "1.8.5"
  },
  "kernelspec": {
   "name": "julia-1.8",
   "display_name": "Julia 1.8.5",
   "language": "julia"
  }
 },
 "nbformat": 4
}
