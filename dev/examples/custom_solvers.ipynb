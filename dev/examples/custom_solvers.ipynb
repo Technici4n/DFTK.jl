{
 "cells": [
  {
   "cell_type": "markdown",
   "source": [
    "# Custom solvers\n",
    "In this example, we show how to define custom solvers. Our system\n",
    "will again be silicon, because we are not very imaginative"
   ],
   "metadata": {}
  },
  {
   "outputs": [],
   "cell_type": "code",
   "source": [
    "using DFTK, LinearAlgebra\n",
    "\n",
    "a = 10.26\n",
    "lattice = a / 2 * [[0 1 1.];\n",
    "                   [1 0 1.];\n",
    "                   [1 1 0.]]\n",
    "Si = ElementPsp(:Si, psp=load_psp(\"hgh/lda/Si-q4\"))\n",
    "atoms = [Si, Si]\n",
    "positions =  [ones(3)/8, -ones(3)/8]\n",
    "\n",
    "# We take very (very) crude parameters\n",
    "model = model_LDA(lattice, atoms, positions)\n",
    "basis = PlaneWaveBasis(model; Ecut=5, kgrid=[1, 1, 1]);"
   ],
   "metadata": {},
   "execution_count": 1
  },
  {
   "cell_type": "markdown",
   "source": [
    "We define our custom fix-point solver: simply a damped fixed-point"
   ],
   "metadata": {}
  },
  {
   "outputs": [],
   "cell_type": "code",
   "source": [
    "function my_fp_solver(f, x0, max_iter; tol)\n",
    "    mixing_factor = .7\n",
    "    x = x0\n",
    "    fx = f(x)\n",
    "    for n = 1:max_iter\n",
    "        inc = fx - x\n",
    "        if norm(inc) < tol\n",
    "            break\n",
    "        end\n",
    "        x = x + mixing_factor * inc\n",
    "        fx = f(x)\n",
    "    end\n",
    "    (fixpoint=x, converged=norm(fx-x) < tol)\n",
    "end;"
   ],
   "metadata": {},
   "execution_count": 2
  },
  {
   "cell_type": "markdown",
   "source": [
    "Our eigenvalue solver just forms the dense matrix and diagonalizes\n",
    "it explicitly (this only works for very small systems)"
   ],
   "metadata": {}
  },
  {
   "outputs": [],
   "cell_type": "code",
   "source": [
    "function my_eig_solver(A, X0; maxiter, tol, kwargs...)\n",
    "    n = size(X0, 2)\n",
    "    A = Array(A)\n",
    "    E = eigen(A)\n",
    "    λ = E.values[1:n]\n",
    "    X = E.vectors[:, 1:n]\n",
    "    (; λ, X, residual_norms=[], iterations=0, converged=true, n_matvec=0)\n",
    "end;"
   ],
   "metadata": {},
   "execution_count": 3
  },
  {
   "cell_type": "markdown",
   "source": [
    "Finally we also define our custom mixing scheme. It will be a mixture\n",
    "of simple mixing (for the first 2 steps) and than default to Kerker mixing.\n",
    "In the mixing interface `δF` is $(ρ_\\text{out} - ρ_\\text{in})$, i.e.\n",
    "the difference in density between two subsequent SCF steps and the `mix`\n",
    "function returns $δρ$, which is added to $ρ_\\text{in}$ to yield $ρ_\\text{next}$,\n",
    "the density for the next SCF step."
   ],
   "metadata": {}
  },
  {
   "outputs": [],
   "cell_type": "code",
   "source": [
    "struct MyMixing\n",
    "    n_simple  # Number of iterations for simple mixing\n",
    "end\n",
    "MyMixing() = MyMixing(2)\n",
    "\n",
    "function DFTK.mix_density(mixing::MyMixing, basis, δF; n_iter, kwargs...)\n",
    "    if n_iter <= mixing.n_simple\n",
    "        return δF  # Simple mixing -> Do not modify update at all\n",
    "    else\n",
    "        # Use the default KerkerMixing from DFTK\n",
    "        DFTK.mix_density(KerkerMixing(), basis, δF; kwargs...)\n",
    "    end\n",
    "end"
   ],
   "metadata": {},
   "execution_count": 4
  },
  {
   "cell_type": "markdown",
   "source": [
    "That's it! Now we just run the SCF with these solvers"
   ],
   "metadata": {}
  },
  {
   "outputs": [
    {
     "name": "stdout",
     "output_type": "stream",
     "text": [
      "n     Energy            log10(ΔE)   log10(Δρ)   Diag   Δtime\n",
      "---   ---------------   ---------   ---------   ----   ------\n",
      "  1   -7.224299812278                   -0.48    0.0         \n",
      "  2   -7.247842676288       -1.63       -0.87    0.0    491ms\n",
      "  3   -7.251068302542       -2.49       -1.31    0.0    149ms\n",
      "  4   -7.251272329754       -3.69       -1.62    0.0   67.7ms\n",
      "  5   -7.251322045645       -4.30       -1.92    0.0   66.9ms\n",
      "  6   -7.251334385000       -4.91       -2.22    0.0   67.7ms\n",
      "  7   -7.251337572211       -5.50       -2.51    0.0   66.7ms\n",
      "  8   -7.251338438752       -6.06       -2.79    0.0   66.7ms\n",
      "  9   -7.251338687652       -6.60       -3.06    0.0   70.0ms\n",
      " 10   -7.251338762977       -7.12       -3.32    0.0    172ms\n",
      " 11   -7.251338786827       -7.62       -3.58    0.0   66.0ms\n",
      " 12   -7.251338794658       -8.11       -3.83    0.0   66.2ms\n",
      " 13   -7.251338797301       -8.58       -4.08    0.0   66.7ms\n",
      " 14   -7.251338798212       -9.04       -4.31    0.0   67.4ms\n",
      " 15   -7.251338798530       -9.50       -4.55    0.0   66.5ms\n",
      " 16   -7.251338798642       -9.95       -4.78    0.0   68.4ms\n",
      " 17   -7.251338798682      -10.40       -5.01    0.0   71.8ms\n",
      " 18   -7.251338798697      -10.85       -5.24    0.0    163ms\n",
      " 19   -7.251338798702      -11.29       -5.47    0.0   67.3ms\n",
      " 20   -7.251338798704      -11.74       -5.69    0.0   69.3ms\n",
      " 21   -7.251338798704      -12.18       -5.92    0.0   67.5ms\n",
      " 22   -7.251338798704      -12.62       -6.14    0.0   67.7ms\n",
      " 23   -7.251338798704      -13.07       -6.37    0.0   68.7ms\n",
      " 24   -7.251338798705      -13.56       -6.59    0.0   73.3ms\n",
      " 25   -7.251338798705      -13.82       -6.81    0.0    151ms\n",
      " 26   -7.251338798705      -14.75       -7.02    0.0   67.6ms\n",
      " 27   -7.251338798705      -14.75       -7.24    0.0   68.5ms\n",
      " 28   -7.251338798705   +    -Inf       -7.37    0.0   66.7ms\n",
      " 29   -7.251338798705   +  -15.05       -7.42    0.0   67.1ms\n",
      " 30   -7.251338798705      -15.05       -7.61    0.0   67.2ms\n",
      " 31   -7.251338798705   +  -13.88       -7.05    0.0   70.7ms\n",
      " 32   -7.251338798705      -13.88       -7.28    0.0    154ms\n",
      " 33   -7.251338798705   +    -Inf       -7.61    0.0   68.5ms\n",
      " 34   -7.251338798705      -14.45       -7.91    0.0   67.4ms\n",
      " 35   -7.251338798704   +  -13.13       -6.76    0.0   67.0ms\n",
      " 36   -7.251338798705      -13.17       -7.00    0.0   66.5ms\n",
      " 37   -7.251338798705      -14.10       -7.36    0.0   67.3ms\n",
      " 38   -7.251338798705   +  -14.57       -7.68    0.0   68.3ms\n",
      " 39   -7.251338798705   +  -14.27       -7.63    0.0   72.9ms\n",
      " 40   -7.251338798705      -14.27       -7.68    0.0    151ms\n",
      " 41   -7.251338798705      -14.75       -7.76    0.0   66.4ms\n",
      " 42   -7.251338798705   +  -15.05       -7.85    0.0   68.6ms\n",
      " 43   -7.251338798705   +  -14.75       -7.84    0.0   68.2ms\n",
      " 44   -7.251338798705      -15.05       -7.71    0.0   67.8ms\n",
      " 45   -7.251338798705   +  -15.05       -7.56    0.0   67.7ms\n",
      " 46   -7.251338798705   +  -14.75       -7.84    0.0   72.4ms\n",
      " 47   -7.251338798705      -14.57       -7.67    0.0    153ms\n",
      " 48   -7.251338798705   +    -Inf       -7.58    0.0   66.6ms\n",
      " 49   -7.251338798705   +    -Inf       -7.51    0.0   67.7ms\n",
      " 50   -7.251338798705   +  -15.05       -7.50    0.0   66.5ms\n",
      " 51   -7.251338798705   +  -14.57       -7.44    0.0   68.5ms\n",
      " 52   -7.251338798705      -14.35       -7.68    0.0   67.9ms\n",
      " 53   -7.251338798705   +  -14.57       -7.89    0.0   69.5ms\n",
      " 54   -7.251338798705   +  -13.91       -7.07    0.0    156ms\n",
      " 55   -7.251338798705      -13.91       -7.33    0.0   66.4ms\n",
      " 56   -7.251338798705      -14.75       -7.56    0.0   66.8ms\n",
      " 57   -7.251338798705   +    -Inf       -7.77    0.0   67.6ms\n",
      " 58   -7.251338798705      -15.05       -7.69    0.0   67.4ms\n",
      " 59   -7.251338798705   +    -Inf       -7.53    0.0   68.7ms\n",
      " 60   -7.251338798705   +  -15.05       -7.65    0.0   67.9ms\n",
      " 61   -7.251338798705   +    -Inf       -7.77    0.0   71.8ms\n",
      " 62   -7.251338798705   +  -14.45       -7.53    0.0    152ms\n",
      " 63   -7.251338798705      -14.45       -7.71    0.0   66.6ms\n",
      " 64   -7.251338798705   +    -Inf       -7.56    0.0   67.7ms\n",
      " 65   -7.251338798705   +  -15.05       -7.69    0.0   69.3ms\n",
      " 66   -7.251338798705      -15.05       -7.58    0.0   68.9ms\n",
      " 67   -7.251338798705   +  -15.05       -7.79    0.0   66.6ms\n",
      " 68   -7.251338798705   +    -Inf       -7.67    0.0   72.7ms\n",
      " 69   -7.251338798705   +    -Inf       -7.53    0.0    153ms\n",
      " 70   -7.251338798705   +  -15.05       -7.42    0.0   66.1ms\n",
      " 71   -7.251338798705   +    -Inf       -7.61    0.0   66.0ms\n",
      " 72   -7.251338798705      -15.05       -7.89    0.0   68.4ms\n",
      " 73   -7.251338798705   +  -14.75       -7.73    0.0   66.6ms\n",
      " 74   -7.251338798705      -14.57       -7.47    0.0   68.3ms\n",
      " 75   -7.251338798705   +    -Inf       -7.56    0.0   70.4ms\n",
      " 76   -7.251338798705   +  -14.57       -7.46    0.0    155ms\n",
      " 77   -7.251338798705      -15.05       -7.61    0.0   67.9ms\n",
      " 78   -7.251338798705      -14.45       -7.66    0.0   66.7ms\n",
      " 79   -7.251338798705   +  -14.75       -7.49    0.0   67.5ms\n",
      " 80   -7.251338798705      -14.75       -7.74    0.0   67.3ms\n",
      " 81   -7.251338798705   +  -13.85       -7.17    0.0   68.5ms\n",
      " 82   -7.251338798705      -13.91       -7.41    0.0   68.6ms\n",
      " 83   -7.251338798705   +  -15.05       -7.75    0.0   70.6ms\n",
      " 84   -7.251338798705   +  -14.75       -7.71    0.0    151ms\n",
      " 85   -7.251338798705      -14.35       -7.85    0.0   67.8ms\n",
      " 86   -7.251338798705   +  -13.75       -7.05    0.0   67.6ms\n",
      " 87   -7.251338798705      -13.80       -7.30    0.0   67.6ms\n",
      " 88   -7.251338798705      -14.75       -7.61    0.0   68.9ms\n",
      " 89   -7.251338798705   +  -14.27       -7.39    0.0   67.7ms\n",
      " 90   -7.251338798705      -14.75       -7.62    0.0   71.6ms\n",
      " 91   -7.251338798705   +    -Inf       -7.85    0.0    155ms\n",
      " 92   -7.251338798705      -14.57       -7.55    0.0   65.5ms\n",
      " 93   -7.251338798705   +  -14.57       -7.64    0.0   67.1ms\n",
      " 94   -7.251338798705      -14.75       -7.80    0.0   68.2ms\n",
      " 95   -7.251338798704   +  -13.19       -6.75    0.0   67.5ms\n",
      " 96   -7.251338798705      -13.22       -7.00    0.0   69.0ms\n",
      " 97   -7.251338798705      -14.75       -7.35    0.0   69.8ms\n",
      " 98   -7.251338798705      -14.75       -7.57    0.0    156ms\n",
      " 99   -7.251338798705   +  -15.05       -7.66    0.0   67.0ms\n",
      " 100   -7.251338798705   +  -15.05       -7.88    0.0   67.0ms\n",
      " 101   -7.251338798705   +  -13.59       -6.93    0.0   66.8ms\n",
      "┌ Warning: SCF not converged.\n",
      "└ @ DFTK ~/work/DFTK.jl/DFTK.jl/src/scf/scf_callbacks.jl:38\n"
     ]
    }
   ],
   "cell_type": "code",
   "source": [
    "scfres = self_consistent_field(basis;\n",
    "                               tol=1e-8,\n",
    "                               solver=my_fp_solver,\n",
    "                               eigensolver=my_eig_solver,\n",
    "                               mixing=MyMixing());"
   ],
   "metadata": {},
   "execution_count": 5
  },
  {
   "cell_type": "markdown",
   "source": [
    "Note that the default convergence criterion is the difference in\n",
    "density. When this gets below `tol`, the\n",
    "\"driver\" `self_consistent_field` artificially makes the fixed-point\n",
    "solver think it's converged by forcing `f(x) = x`. You can customize\n",
    "this with the `is_converged` keyword argument to\n",
    "`self_consistent_field`."
   ],
   "metadata": {}
  }
 ],
 "nbformat_minor": 3,
 "metadata": {
  "language_info": {
   "file_extension": ".jl",
   "mimetype": "application/julia",
   "name": "julia",
   "version": "1.8.5"
  },
  "kernelspec": {
   "name": "julia-1.8",
   "display_name": "Julia 1.8.5",
   "language": "julia"
  }
 },
 "nbformat": 4
}
