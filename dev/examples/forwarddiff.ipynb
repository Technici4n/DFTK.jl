{
 "cells": [
  {
   "cell_type": "markdown",
   "source": [
    "# Polarizability using automatic differentiation\n",
    "\n",
    "Simple example for computing properties using (forward-mode)\n",
    "automatic differentiation.\n",
    "For a more classical approach and more details about computing polarizabilities,\n",
    "see Polarizability by linear response."
   ],
   "metadata": {}
  },
  {
   "outputs": [],
   "cell_type": "code",
   "source": [
    "using DFTK\n",
    "using LinearAlgebra\n",
    "using ForwardDiff\n",
    "\n",
    "# Construct PlaneWaveBasis given a particular electric field strength\n",
    "# Again we take the example of a Helium atom.\n",
    "function make_basis(ε::T; a=10., Ecut=30) where {T}\n",
    "    lattice=T(a) * I(3)  # lattice is a cube of $a$ Bohrs\n",
    "    # Helium at the center of the box\n",
    "    atoms     = [ElementPsp(:He, psp=load_psp(\"hgh/lda/He-q2\"))]\n",
    "    positions = [[1/2, 1/2, 1/2]]\n",
    "\n",
    "    model = model_DFT(lattice, atoms, positions, [:lda_x, :lda_c_vwn];\n",
    "                      extra_terms=[ExternalFromReal(r -> -ε * (r[1] - a/2))],\n",
    "                      symmetries=false)\n",
    "    PlaneWaveBasis(model; Ecut, kgrid=[1, 1, 1])  # No k-point sampling on isolated system\n",
    "end\n",
    "\n",
    "# dipole moment of a given density (assuming the current geometry)\n",
    "function dipole(basis, ρ)\n",
    "    @assert isdiag(basis.model.lattice)\n",
    "    a  = basis.model.lattice[1, 1]\n",
    "    rr = [a * (r[1] - 1/2) for r in r_vectors(basis)]\n",
    "    sum(rr .* ρ) * basis.dvol\n",
    "end\n",
    "\n",
    "# Function to compute the dipole for a given field strength\n",
    "function compute_dipole(ε; tol=1e-8, kwargs...)\n",
    "    scfres = self_consistent_field(make_basis(ε; kwargs...); tol)\n",
    "    dipole(scfres.basis, scfres.ρ)\n",
    "end;"
   ],
   "metadata": {},
   "execution_count": 1
  },
  {
   "cell_type": "markdown",
   "source": [
    "With this in place we can compute the polarizability from finite differences\n",
    "(just like in the previous example):"
   ],
   "metadata": {}
  },
  {
   "outputs": [
    {
     "name": "stdout",
     "output_type": "stream",
     "text": [
      "n     Energy            log10(ΔE)   log10(Δρ)   Diag   Δtime\n",
      "---   ---------------   ---------   ---------   ----   ------\n",
      "  1   -2.770845043636                   -0.53    9.0         \n",
      "  2   -2.772141012097       -2.89       -1.31    1.0    156ms\n",
      "  3   -2.772170197526       -4.53       -2.63    1.0    141ms\n",
      "  4   -2.772170721972       -6.28       -4.21    2.0    164ms\n",
      "  5   -2.772170723002       -8.99       -4.93    2.0    190ms\n",
      "  6   -2.772170723015      -10.90       -6.16    1.0    145ms\n",
      "  7   -2.772170723015      -12.35       -6.61    2.0    188ms\n",
      "  8   -2.772170723015   +  -14.18       -6.94    2.0    173ms\n",
      "  9   -2.772170723015      -14.05       -8.91    1.0    168ms\n",
      "n     Energy            log10(ΔE)   log10(Δρ)   Diag   Δtime\n",
      "---   ---------------   ---------   ---------   ----   ------\n",
      "  1   -2.770575981092                   -0.53    9.0         \n",
      "  2   -2.772046976502       -2.83       -1.30    1.0    140ms\n",
      "  3   -2.772082131844       -4.45       -2.67    1.0    154ms\n",
      "  4   -2.772083413618       -5.89       -3.79    2.0    160ms\n",
      "  5   -2.772083417621       -8.40       -4.38    2.0    191ms\n",
      "  6   -2.772083417803       -9.74       -5.50    1.0    145ms\n",
      "  7   -2.772083417810      -11.12       -5.88    2.0    171ms\n",
      "  8   -2.772083417811      -12.65       -6.82    1.0    153ms\n",
      "  9   -2.772083417811   +  -14.65       -7.81    1.0    180ms\n",
      " 10   -2.772083417811   +  -15.05       -8.34    2.0    181ms\n"
     ]
    },
    {
     "output_type": "execute_result",
     "data": {
      "text/plain": "1.773557934829794"
     },
     "metadata": {},
     "execution_count": 2
    }
   ],
   "cell_type": "code",
   "source": [
    "polarizability_fd = let\n",
    "    ε = 0.01\n",
    "    (compute_dipole(ε) - compute_dipole(0.0)) / ε\n",
    "end"
   ],
   "metadata": {},
   "execution_count": 2
  },
  {
   "cell_type": "markdown",
   "source": [
    "We do the same thing using automatic differentiation. Under the hood this uses\n",
    "custom rules to implicitly differentiate through the self-consistent\n",
    "field fixed-point problem."
   ],
   "metadata": {}
  },
  {
   "outputs": [
    {
     "name": "stdout",
     "output_type": "stream",
     "text": [
      "n     Energy            log10(ΔE)   log10(Δρ)   Diag   Δtime\n",
      "---   ---------------   ---------   ---------   ----   ------\n",
      "  1   -2.770756516091                   -0.53    8.0         \n",
      "  2   -2.772050478140       -2.89       -1.32    1.0    172ms\n",
      "  3   -2.772082525809       -4.49       -2.54    1.0    141ms\n",
      "  4   -2.772083397884       -6.06       -3.47    2.0    174ms\n",
      "  5   -2.772083414697       -7.77       -3.79    1.0    171ms\n",
      "  6   -2.772083417517       -8.55       -4.56    1.0    146ms\n",
      "  7   -2.772083417810       -9.53       -5.48    2.0    191ms\n",
      "  8   -2.772083417810      -12.48       -6.20    1.0    153ms\n",
      "  9   -2.772083417811      -12.91       -6.62    2.0    192ms\n",
      " 10   -2.772083417811   +  -14.65       -6.76    1.0    164ms\n",
      " 11   -2.772083417811      -14.10       -7.97    1.0    163ms\n",
      " 12   -2.772083417811      -14.31       -8.11    2.0    189ms\n",
      "\n",
      "Polarizability via ForwardDiff:       1.7725349556414487\n",
      "Polarizability via finite difference: 1.773557934829794\n"
     ]
    }
   ],
   "cell_type": "code",
   "source": [
    "polarizability = ForwardDiff.derivative(compute_dipole, 0.0)\n",
    "println()\n",
    "println(\"Polarizability via ForwardDiff:       $polarizability\")\n",
    "println(\"Polarizability via finite difference: $polarizability_fd\")"
   ],
   "metadata": {},
   "execution_count": 3
  }
 ],
 "nbformat_minor": 3,
 "metadata": {
  "language_info": {
   "file_extension": ".jl",
   "mimetype": "application/julia",
   "name": "julia",
   "version": "1.9.3"
  },
  "kernelspec": {
   "name": "julia-1.9",
   "display_name": "Julia 1.9.3",
   "language": "julia"
  }
 },
 "nbformat": 4
}
