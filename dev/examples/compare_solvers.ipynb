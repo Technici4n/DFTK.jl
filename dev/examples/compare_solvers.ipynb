{
 "cells": [
  {
   "cell_type": "markdown",
   "source": [
    "# Comparison of DFT solvers"
   ],
   "metadata": {}
  },
  {
   "cell_type": "markdown",
   "source": [
    "We compare four different approaches for solving the DFT minimisation problem,\n",
    "namely a density-based SCF, a potential-based SCF, direct minimisation and Newton."
   ],
   "metadata": {}
  },
  {
   "cell_type": "markdown",
   "source": [
    "First we setup our problem"
   ],
   "metadata": {}
  },
  {
   "outputs": [
    {
     "output_type": "execute_result",
     "data": {
      "text/plain": "1.0e-6"
     },
     "metadata": {},
     "execution_count": 1
    }
   ],
   "cell_type": "code",
   "source": [
    "using DFTK\n",
    "using LinearAlgebra\n",
    "\n",
    "a = 10.26  # Silicon lattice constant in Bohr\n",
    "lattice = a / 2 * [[0 1 1.];\n",
    "                   [1 0 1.];\n",
    "                   [1 1 0.]]\n",
    "Si = ElementPsp(:Si, psp=load_psp(\"hgh/lda/Si-q4\"))\n",
    "atoms     = [Si, Si]\n",
    "positions = [ones(3)/8, -ones(3)/8]\n",
    "\n",
    "model = model_LDA(lattice, atoms, positions)\n",
    "basis = PlaneWaveBasis(model; Ecut=5, kgrid=[3, 3, 3])\n",
    "\n",
    "# Convergence we desire in the density\n",
    "tol = 1e-6"
   ],
   "metadata": {},
   "execution_count": 1
  },
  {
   "cell_type": "markdown",
   "source": [
    "## Density-based self-consistent field"
   ],
   "metadata": {}
  },
  {
   "outputs": [
    {
     "name": "stdout",
     "output_type": "stream",
     "text": [
      "n     Energy            log10(ΔE)   log10(Δρ)   Diag   Δtime\n",
      "---   ---------------   ---------   ---------   ----   ------\n",
      "  1   -7.846900677869                   -0.70    4.8         \n",
      "  2   -7.852327293746       -2.27       -1.53    1.0   23.2ms\n",
      "  3   -7.852617125128       -3.54       -2.55    1.5   26.1ms\n",
      "  4   -7.852645995454       -4.54       -2.89    2.2   30.5ms\n",
      "  5   -7.852646518440       -6.28       -3.21    1.0   24.2ms\n",
      "  6   -7.852646680093       -6.79       -4.12    1.2   24.3ms\n",
      "  7   -7.852646686657       -8.18       -5.10    2.0   29.7ms\n",
      "  8   -7.852646686726      -10.16       -5.57    1.8   27.2ms\n",
      "  9   -7.852646686729      -11.55       -5.81    1.2   26.1ms\n",
      " 10   -7.852646686730      -12.02       -6.76    1.0   24.3ms\n"
     ]
    }
   ],
   "cell_type": "code",
   "source": [
    "scfres_scf = self_consistent_field(basis; tol);"
   ],
   "metadata": {},
   "execution_count": 2
  },
  {
   "cell_type": "markdown",
   "source": [
    "## Potential-based SCF"
   ],
   "metadata": {}
  },
  {
   "outputs": [
    {
     "name": "stdout",
     "output_type": "stream",
     "text": [
      "n     Energy            log10(ΔE)   log10(Δρ)   α      Diag   Δtime\n",
      "---   ---------------   ---------   ---------   ----   ----   ------\n",
      "  1   -7.846912263954                   -0.70           4.5         \n",
      "  2   -7.852526732346       -2.25       -1.64   0.80    2.0    245ms\n",
      "  3   -7.852636813100       -3.96       -2.71   0.80    1.0   21.1ms\n",
      "  4   -7.852646460395       -5.02       -3.28   0.80    2.2   28.3ms\n",
      "  5   -7.852646682508       -6.65       -4.13   0.80    1.5   24.5ms\n",
      "  6   -7.852646686389       -8.41       -4.82   0.80    1.2   22.6ms\n",
      "  7   -7.852646686723       -9.48       -5.78   0.80    1.8   25.9ms\n",
      "  8   -7.852646686730      -11.15       -6.70   0.80    2.5   28.8ms\n"
     ]
    }
   ],
   "cell_type": "code",
   "source": [
    "scfres_scfv = DFTK.scf_potential_mixing(basis; tol);"
   ],
   "metadata": {},
   "execution_count": 3
  },
  {
   "cell_type": "markdown",
   "source": [
    "## Direct minimization\n",
    "Note: Unlike the other algorithms, tolerance for this one is in the energy,\n",
    "thus we square the density tolerance value to be roughly equivalent."
   ],
   "metadata": {}
  },
  {
   "outputs": [
    {
     "name": "stdout",
     "output_type": "stream",
     "text": [
      "Iter     Function value   Gradient norm \n",
      "     0     1.362998e+01     3.976707e+00\n",
      " * time: 0.4465970993041992\n",
      "     1     1.440284e+00     1.997293e+00\n",
      " * time: 0.6391019821166992\n",
      "     2    -1.595739e+00     2.251622e+00\n",
      " * time: 0.6618289947509766\n",
      "     3    -3.940603e+00     2.056064e+00\n",
      " * time: 0.6945400238037109\n",
      "     4    -5.478939e+00     1.698710e+00\n",
      " * time: 0.7270441055297852\n",
      "     5    -7.018123e+00     9.137941e-01\n",
      " * time: 0.7597460746765137\n",
      "     6    -7.251789e+00     1.158366e+00\n",
      " * time: 0.7826390266418457\n",
      "     7    -7.658926e+00     5.097061e-01\n",
      " * time: 0.8057291507720947\n",
      "     8    -7.743893e+00     3.439463e-01\n",
      " * time: 0.8283610343933105\n",
      "     9    -7.787456e+00     9.210439e-02\n",
      " * time: 0.8512201309204102\n",
      "    10    -7.818644e+00     1.262324e-01\n",
      " * time: 0.8738369941711426\n",
      "    11    -7.833656e+00     1.271061e-01\n",
      " * time: 0.8964240550994873\n",
      "    12    -7.844939e+00     3.434592e-02\n",
      " * time: 0.9193220138549805\n",
      "    13    -7.850543e+00     5.213181e-02\n",
      " * time: 0.9421432018280029\n",
      "    14    -7.851802e+00     2.138317e-02\n",
      " * time: 0.9648301601409912\n",
      "    15    -7.852326e+00     1.126958e-02\n",
      " * time: 0.9877359867095947\n",
      "    16    -7.852494e+00     1.493947e-02\n",
      " * time: 1.163844108581543\n",
      "    17    -7.852591e+00     3.182901e-03\n",
      " * time: 1.1869211196899414\n",
      "    18    -7.852632e+00     2.354187e-03\n",
      " * time: 1.209822177886963\n",
      "    19    -7.852641e+00     1.588094e-03\n",
      " * time: 1.2322721481323242\n",
      "    20    -7.852644e+00     6.905372e-04\n",
      " * time: 1.255458116531372\n",
      "    21    -7.852646e+00     6.548473e-04\n",
      " * time: 1.2781600952148438\n",
      "    22    -7.852646e+00     5.278211e-04\n",
      " * time: 1.3006160259246826\n",
      "    23    -7.852647e+00     2.132299e-04\n",
      " * time: 1.3230671882629395\n",
      "    24    -7.852647e+00     1.617030e-04\n",
      " * time: 1.3455851078033447\n",
      "    25    -7.852647e+00     5.728917e-05\n",
      " * time: 1.3681139945983887\n",
      "    26    -7.852647e+00     3.531012e-05\n",
      " * time: 1.3905251026153564\n",
      "    27    -7.852647e+00     2.189275e-05\n",
      " * time: 1.4132840633392334\n",
      "    28    -7.852647e+00     1.513569e-05\n",
      " * time: 1.4361071586608887\n",
      "    29    -7.852647e+00     9.511600e-06\n",
      " * time: 1.458575963973999\n",
      "    30    -7.852647e+00     3.819195e-06\n",
      " * time: 1.481227159500122\n",
      "    31    -7.852647e+00     2.226035e-06\n",
      " * time: 1.5037031173706055\n",
      "    32    -7.852647e+00     1.314616e-06\n",
      " * time: 1.5261950492858887\n",
      "    33    -7.852647e+00     5.703589e-07\n",
      " * time: 1.549131155014038\n",
      "    34    -7.852647e+00     3.281738e-07\n",
      " * time: 1.5718979835510254\n",
      "    35    -7.852647e+00     2.502730e-07\n",
      " * time: 1.5945911407470703\n",
      "    36    -7.852647e+00     1.583107e-07\n",
      " * time: 1.6171929836273193\n",
      "    37    -7.852647e+00     8.642075e-08\n",
      " * time: 1.6400070190429688\n",
      "    38    -7.852647e+00     5.543013e-08\n",
      " * time: 1.662775993347168\n",
      "    39    -7.852647e+00     4.374948e-08\n",
      " * time: 1.6854071617126465\n",
      "    40    -7.852647e+00     2.068884e-08\n",
      " * time: 1.7078301906585693\n",
      "    41    -7.852647e+00     1.463121e-08\n",
      " * time: 1.7303071022033691\n",
      "    42    -7.852647e+00     9.670431e-09\n",
      " * time: 1.7528331279754639\n",
      "    43    -7.852647e+00     4.775172e-09\n",
      " * time: 1.775691032409668\n",
      "    44    -7.852647e+00     2.964673e-09\n",
      " * time: 1.7986500263214111\n",
      "    45    -7.852647e+00     2.202745e-09\n",
      " * time: 1.8214991092681885\n"
     ]
    }
   ],
   "cell_type": "code",
   "source": [
    "scfres_dm = direct_minimization(basis; tol=tol^2);"
   ],
   "metadata": {},
   "execution_count": 4
  },
  {
   "cell_type": "markdown",
   "source": [
    "## Newton algorithm"
   ],
   "metadata": {}
  },
  {
   "cell_type": "markdown",
   "source": [
    "Start not too far from the solution to ensure convergence:\n",
    "We run first a very crude SCF to get close and then switch to Newton."
   ],
   "metadata": {}
  },
  {
   "outputs": [
    {
     "name": "stdout",
     "output_type": "stream",
     "text": [
      "n     Energy            log10(ΔE)   log10(Δρ)   Diag   Δtime\n",
      "---   ---------------   ---------   ---------   ----   ------\n",
      "  1   -7.846788177796                   -0.70    4.8         \n"
     ]
    }
   ],
   "cell_type": "code",
   "source": [
    "scfres_start = self_consistent_field(basis; tol=0.5);"
   ],
   "metadata": {},
   "execution_count": 5
  },
  {
   "cell_type": "markdown",
   "source": [
    "Remove the virtual orbitals (which Newton cannot treat yet)"
   ],
   "metadata": {}
  },
  {
   "outputs": [
    {
     "name": "stdout",
     "output_type": "stream",
     "text": [
      "n     Energy            log10(ΔE)   log10(Δρ)   Δtime\n",
      "---   ---------------   ---------   ---------   ------\n",
      "  1   -7.852645886686                   -1.64         \n",
      "  2   -7.852646686730       -6.10       -3.70    1.61s\n",
      "  3   -7.852646686730      -13.27       -7.23    159ms\n"
     ]
    }
   ],
   "cell_type": "code",
   "source": [
    "ψ = DFTK.select_occupied_orbitals(basis, scfres_start.ψ, scfres_start.occupation).ψ\n",
    "scfres_newton = newton(basis, ψ; tol);"
   ],
   "metadata": {},
   "execution_count": 6
  },
  {
   "cell_type": "markdown",
   "source": [
    "## Comparison of results"
   ],
   "metadata": {}
  },
  {
   "outputs": [
    {
     "name": "stdout",
     "output_type": "stream",
     "text": [
      "|ρ_newton - ρ_scf|  = 2.2406990610683587e-7\n",
      "|ρ_newton - ρ_scfv| = 1.1444935050933841e-7\n",
      "|ρ_newton - ρ_dm|   = 5.792553560015922e-10\n"
     ]
    }
   ],
   "cell_type": "code",
   "source": [
    "println(\"|ρ_newton - ρ_scf|  = \", norm(scfres_newton.ρ - scfres_scf.ρ))\n",
    "println(\"|ρ_newton - ρ_scfv| = \", norm(scfres_newton.ρ - scfres_scfv.ρ))\n",
    "println(\"|ρ_newton - ρ_dm|   = \", norm(scfres_newton.ρ - scfres_dm.ρ))"
   ],
   "metadata": {},
   "execution_count": 7
  }
 ],
 "nbformat_minor": 3,
 "metadata": {
  "language_info": {
   "file_extension": ".jl",
   "mimetype": "application/julia",
   "name": "julia",
   "version": "1.8.5"
  },
  "kernelspec": {
   "name": "julia-1.8",
   "display_name": "Julia 1.8.5",
   "language": "julia"
  }
 },
 "nbformat": 4
}
