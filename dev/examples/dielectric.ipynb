{
 "cells": [
  {
   "cell_type": "markdown",
   "source": [
    "# Eigenvalues of the dielectric matrix\n",
    "\n",
    "We compute a few eigenvalues of the dielectric matrix ($q=0$, $ω=0$) iteratively."
   ],
   "metadata": {}
  },
  {
   "outputs": [
    {
     "name": "stdout",
     "output_type": "stream",
     "text": [
      "n     Energy            log10(ΔE)   log10(Δρ)   Diag   Δtime\n",
      "---   ---------------   ---------   ---------   ----   ------\n",
      "  1   -7.235398044357                   -0.50    7.0         \n",
      "  2   -7.250302103116       -1.83       -1.40    1.0   11.1ms\n",
      "  3   -7.251149204793       -3.07       -2.18    1.0   12.0ms\n",
      "  4   -7.251231078782       -4.09       -2.11    3.0   17.7ms\n",
      "  5   -7.251334927132       -3.98       -2.68    1.0   13.4ms\n",
      "  6   -7.251337986810       -5.51       -3.16    1.0   13.3ms\n",
      "  7   -7.251338681379       -6.16       -3.56    1.0   13.6ms\n",
      "  8   -7.251338788768       -6.97       -3.98    2.0   18.6ms\n",
      "  9   -7.251338797274       -8.07       -4.51    1.0   13.7ms\n",
      " 10   -7.251338798462       -8.93       -4.89    2.0   15.9ms\n",
      " 11   -7.251338798689       -9.64       -5.39    2.0   16.0ms\n",
      " 12   -7.251338798702      -10.89       -5.94    1.0   13.7ms\n",
      " 13   -7.251338798704      -11.81       -6.07    2.0   15.9ms\n",
      " 14   -7.251338798704      -12.11       -6.84    1.0   15.2ms\n",
      " 15   -7.251338798705      -13.14       -6.76    3.0   19.0ms\n",
      " 16   -7.251338798705      -13.56       -7.12    1.0   14.4ms\n",
      " 17   -7.251338798705      -13.94       -7.79    2.0   16.7ms\n",
      " 18   -7.251338798705   +  -14.75       -8.06    2.0   15.9ms\n"
     ]
    }
   ],
   "cell_type": "code",
   "source": [
    "using DFTK\n",
    "using Plots\n",
    "using KrylovKit\n",
    "using Printf\n",
    "\n",
    "# Calculation parameters\n",
    "kgrid = [1, 1, 1]\n",
    "Ecut = 5\n",
    "\n",
    "# Silicon lattice\n",
    "a = 10.26\n",
    "lattice = a / 2 .* [[0 1 1.]; [1 0 1.]; [1 1 0.]]\n",
    "Si = ElementPsp(:Si, psp=load_psp(\"hgh/lda/Si-q4\"))\n",
    "atoms     = [Si, Si]\n",
    "positions = [ones(3)/8, -ones(3)/8]\n",
    "\n",
    "# Compute the dielectric operator without symmetries\n",
    "model  = model_LDA(lattice, atoms, positions, symmetries=false)\n",
    "basis  = PlaneWaveBasis(model; Ecut, kgrid)\n",
    "scfres = self_consistent_field(basis, tol=1e-8);"
   ],
   "metadata": {},
   "execution_count": 1
  },
  {
   "cell_type": "markdown",
   "source": [
    "Applying $ε^† ≔ (1- χ_0 K)$ …"
   ],
   "metadata": {}
  },
  {
   "outputs": [],
   "cell_type": "code",
   "source": [
    "function eps_fun(δρ)\n",
    "    δV = apply_kernel(basis, δρ; ρ=scfres.ρ)\n",
    "    χ0δV = apply_χ0(scfres, δV)\n",
    "    δρ - χ0δV\n",
    "end;"
   ],
   "metadata": {},
   "execution_count": 2
  },
  {
   "cell_type": "markdown",
   "source": [
    "… eagerly diagonalizes the subspace matrix at each iteration"
   ],
   "metadata": {}
  },
  {
   "outputs": [
    {
     "name": "stdout",
     "output_type": "stream",
     "text": [
      "[ Info: Arnoldi iteration step 1: normres = 0.06653809902973797\n",
      "[ Info: Arnoldi iteration step 2: normres = 0.3885259546437622\n",
      "[ Info: Arnoldi iteration step 3: normres = 0.6899581120594744\n",
      "[ Info: Arnoldi iteration step 4: normres = 0.49421942858680673\n",
      "[ Info: Arnoldi iteration step 5: normres = 0.5018189539214835\n",
      "[ Info: Arnoldi schursolve in iter 1, krylovdim = 5: 0 values converged, normres = (1.13e-01, 6.00e-02, 3.83e-01, 2.98e-01, 1.10e-02)\n",
      "[ Info: Arnoldi iteration step 6: normres = 0.3008589952519847\n",
      "[ Info: Arnoldi schursolve in iter 1, krylovdim = 6: 0 values converged, normres = (2.78e-02, 7.65e-02, 2.51e-01, 8.70e-02, 1.11e-01)\n",
      "[ Info: Arnoldi iteration step 7: normres = 0.07627329728603004\n",
      "[ Info: Arnoldi schursolve in iter 1, krylovdim = 7: 0 values converged, normres = (1.03e-03, 6.72e-03, 1.67e-02, 3.38e-02, 5.71e-02)\n",
      "[ Info: Arnoldi iteration step 8: normres = 0.13157501494014096\n",
      "[ Info: Arnoldi schursolve in iter 1, krylovdim = 8: 0 values converged, normres = (5.93e-05, 6.38e-04, 1.76e-03, 1.57e-02, 5.39e-02)\n",
      "[ Info: Arnoldi iteration step 9: normres = 0.05432353747357808\n",
      "[ Info: Arnoldi schursolve in iter 1, krylovdim = 9: 0 values converged, normres = (1.38e-06, 2.44e-05, 7.47e-05, 2.90e-03, 2.00e-02)\n",
      "[ Info: Arnoldi iteration step 10: normres = 0.0942842249072067\n",
      "[ Info: Arnoldi schursolve in iter 1, krylovdim = 10: 0 values converged, normres = (5.66e-08, 1.65e-06, 5.60e-06, 9.11e-04, 1.29e-02)\n",
      "[ Info: Arnoldi iteration step 11: normres = 0.06636350816310535\n",
      "[ Info: Arnoldi schursolve in iter 1, krylovdim = 11: 0 values converged, normres = (1.62e-09, 7.79e-08, 2.95e-07, 2.12e-04, 7.71e-03)\n",
      "[ Info: Arnoldi iteration step 12: normres = 0.05905456452730581\n",
      "[ Info: Arnoldi schursolve in iter 1, krylovdim = 12: 0 values converged, normres = (4.03e-11, 3.12e-09, 1.31e-08, 3.30e-05, 2.06e-03)\n",
      "[ Info: Arnoldi iteration step 13: normres = 0.12378353269172399\n",
      "[ Info: Arnoldi schursolve in iter 1, krylovdim = 13: 0 values converged, normres = (2.14e-12, 2.73e-10, 1.26e-09, 1.26e-05, 1.52e-03)\n",
      "[ Info: Arnoldi iteration step 14: normres = 0.47644904433749735\n",
      "[ Info: Arnoldi schursolve in iter 1, krylovdim = 14: 1 values converged, normres = (9.15e-13, 6.30e-10, 9.20e-09, 4.74e-01, 4.50e-03)\n",
      "[ Info: Arnoldi iteration step 15: normres = 0.14697383063433628\n",
      "[ Info: Arnoldi schursolve in iter 1, krylovdim = 15: 1 values converged, normres = (6.73e-14, 6.23e-10, 5.09e-02, 6.88e-04, 1.09e-05)\n",
      "[ Info: Arnoldi iteration step 16: normres = 0.3080524505014323\n",
      "[ Info: Arnoldi schursolve in iter 1, krylovdim = 16: 1 values converged, normres = (1.88e-14, 2.66e-09, 8.16e-02, 3.04e-03, 2.93e-01)\n",
      "[ Info: Arnoldi iteration step 17: normres = 0.03151023002833816\n",
      "[ Info: Arnoldi schursolve in iter 1, krylovdim = 17: 1 values converged, normres = (2.63e-16, 9.07e-04, 2.36e-03, 4.07e-03, 5.30e-03)\n",
      "[ Info: Arnoldi iteration step 18: normres = 0.01889601969011951\n",
      "[ Info: Arnoldi schursolve in iter 1, krylovdim = 18: 1 values converged, normres = (2.05e-18, 3.65e-06, 3.11e-05, 4.18e-05, 8.09e-05)\n",
      "[ Info: Arnoldi iteration step 19: normres = 0.22566822275012294\n",
      "[ Info: Arnoldi schursolve in iter 1, krylovdim = 19: 1 values converged, normres = (2.00e-19, 8.10e-08, 5.03e-06, 4.12e-08, 1.63e-05)\n",
      "[ Info: Arnoldi iteration step 20: normres = 0.0252826740160686\n",
      "[ Info: Arnoldi schursolve in iter 1, krylovdim = 20: 1 values converged, normres = (2.39e-21, 7.21e-08, 7.85e-08, 3.05e-07, 2.46e-07)\n",
      "[ Info: Arnoldi iteration step 21: normres = 0.013171076932546677\n",
      "[ Info: Arnoldi schursolve in iter 1, krylovdim = 21: 1 values converged, normres = (1.29e-23, 5.30e-10, 7.47e-10, 2.79e-09, 2.43e-09)\n",
      "[ Info: Arnoldi iteration step 22: normres = 0.04240778659290419\n",
      "[ Info: Arnoldi schursolve in iter 1, krylovdim = 22: 1 values converged, normres = (2.25e-25, 1.42e-11, 2.12e-11, 8.22e-11, 7.80e-11)\n",
      "[ Info: Arnoldi iteration step 23: normres = 0.6866248714889139\n",
      "[ Info: Arnoldi schursolve in iter 1, krylovdim = 23: 1 values converged, normres = (8.76e-26, 1.69e-11, 1.13e-11, 7.85e-11, 7.46e-11)\n",
      "[ Info: Arnoldi iteration step 24: normres = 0.039356904063605355\n",
      "[ Info: Arnoldi schursolve in iter 1, krylovdim = 24: 1 values converged, normres = (2.43e-27, 1.83e-12, 2.74e-12, 3.72e-09, 2.46e-09)\n",
      "[ Info: Arnoldi iteration step 25: normres = 0.052132046721367994\n",
      "[ Info: Arnoldi schursolve in iter 1, krylovdim = 25: 3 values converged, normres = (5.22e-29, 9.44e-14, 6.32e-14, 4.86e-04, 6.79e-04)\n",
      "[ Info: Arnoldi iteration step 26: normres = 0.07106568508536572\n",
      "[ Info: Arnoldi schursolve in iter 1, krylovdim = 26: 3 values converged, normres = (1.67e-30, 3.41e-15, 5.09e-15, 1.55e-09, 1.49e-09)\n",
      "[ Info: Arnoldi iteration step 27: normres = 0.04691550640419143\n",
      "[ Info: Arnoldi schursolve in iter 1, krylovdim = 27: 3 values converged, normres = (3.24e-32, 1.06e-16, 1.59e-16, 1.96e-09, 2.46e-09)\n",
      "[ Info: Arnoldi iteration step 28: normres = 0.06514611353494766\n",
      "[ Info: Arnoldi schursolve in iter 1, krylovdim = 28: 3 values converged, normres = (9.34e-34, 5.12e-18, 7.64e-18, 9.88e-10, 1.07e-09)\n",
      "[ Info: Arnoldi iteration step 29: normres = 0.01919099905528053\n",
      "[ Info: Arnoldi schursolve in iter 1, krylovdim = 29: 3 values converged, normres = (7.42e-36, 6.50e-20, 9.71e-20, 1.68e-09, 5.40e-11)\n",
      "[ Info: Arnoldi iteration step 30: normres = 0.2035443471113213\n",
      "[ Info: Arnoldi schursolve in iter 1, krylovdim = 30: 3 values converged, normres = (6.96e-37, 1.57e-20, 1.05e-20, 3.03e-10, 4.13e-11)\n",
      "[ Info: Arnoldi schursolve in iter 2, krylovdim = 19: 3 values converged, normres = (6.96e-37, 1.57e-20, 1.05e-20, 3.03e-10, 4.13e-11)\n",
      "[ Info: Arnoldi iteration step 20: normres = 0.026432346586177317\n",
      "[ Info: Arnoldi schursolve in iter 2, krylovdim = 20: 3 values converged, normres = (8.20e-39, 2.10e-22, 3.13e-22, 6.82e-12, 7.95e-13)\n",
      "[ Info: Arnoldi iteration step 21: normres = 0.06226048400997153\n",
      "┌ Info: Arnoldi eigsolve finished after 2 iterations:\n",
      "│ *  6 eigenvalues converged\n",
      "│ *  norm of residuals = (2.1113187950801957e-40, 1.2221680477201554e-23, 1.2221680477201554e-23, 1.5123851388618633e-13, 1.5123851388618633e-13, 1.225630137770264e-14)\n",
      "└ *  number of operations = 32\n"
     ]
    }
   ],
   "cell_type": "code",
   "source": [
    "eigsolve(eps_fun, randn(size(scfres.ρ)), 5, :LM; eager=true, verbosity=3);"
   ],
   "metadata": {},
   "execution_count": 3
  }
 ],
 "nbformat_minor": 3,
 "metadata": {
  "language_info": {
   "file_extension": ".jl",
   "mimetype": "application/julia",
   "name": "julia",
   "version": "1.8.5"
  },
  "kernelspec": {
   "name": "julia-1.8",
   "display_name": "Julia 1.8.5",
   "language": "julia"
  }
 },
 "nbformat": 4
}
