{
 "cells": [
  {
   "cell_type": "markdown",
   "source": [
    "# Comparison of DFT solvers"
   ],
   "metadata": {}
  },
  {
   "cell_type": "markdown",
   "source": [
    "We compare four different approaches for solving the DFT minimisation problem,\n",
    "namely a density-based SCF, a potential-based SCF, direct minimisation and Newton."
   ],
   "metadata": {}
  },
  {
   "cell_type": "markdown",
   "source": [
    "First we setup our problem"
   ],
   "metadata": {}
  },
  {
   "outputs": [],
   "cell_type": "code",
   "source": [
    "using DFTK\n",
    "using LinearAlgebra\n",
    "\n",
    "a = 10.26  # Silicon lattice constant in Bohr\n",
    "lattice = a / 2 * [[0 1 1.];\n",
    "                   [1 0 1.];\n",
    "                   [1 1 0.]]\n",
    "Si = ElementPsp(:Si, psp=load_psp(\"hgh/lda/Si-q4\"))\n",
    "atoms     = [Si, Si]\n",
    "positions = [ones(3)/8, -ones(3)/8]\n",
    "\n",
    "model = model_LDA(lattice, atoms, positions)\n",
    "basis = PlaneWaveBasis(model; Ecut=5, kgrid=[3, 3, 3])\n",
    "\n",
    "# Convergence we desire\n",
    "tol = 1e-12\n",
    "is_converged = DFTK.ScfConvergenceDensity(tol);"
   ],
   "metadata": {},
   "execution_count": 1
  },
  {
   "cell_type": "markdown",
   "source": [
    "## Density-based self-consistent field"
   ],
   "metadata": {}
  },
  {
   "outputs": [
    {
     "name": "stdout",
     "output_type": "stream",
     "text": [
      "n     Energy            log10(ΔE)   log10(Δρ)   Diag\n",
      "---   ---------------   ---------   ---------   ----\n",
      "  1   -7.846821079182                   -0.70    4.0\n",
      "  2   -7.852314179360       -2.26       -1.53    1.0\n",
      "  3   -7.852646031314       -3.48       -2.52    3.2\n",
      "  4   -7.852646675565       -6.19       -3.33    2.2\n",
      "  5   -7.852646685806       -7.99       -4.73    1.2\n",
      "  6   -7.852646686727       -9.04       -5.21    3.8\n",
      "  7   -7.852646686729      -11.68       -5.84    1.0\n",
      "  8   -7.852646686730      -12.40       -7.40    2.0\n",
      "  9   -7.852646686730   +  -15.05       -7.66    3.0\n",
      " 10   -7.852646686730      -15.05       -8.21    1.2\n",
      " 11   -7.852646686730   +  -14.57       -9.53    2.0\n",
      " 12   -7.852646686730      -14.27      -10.37    2.2\n",
      " 13   -7.852646686730   +  -14.57      -11.04    2.5\n",
      " 14   -7.852646686730   +    -Inf      -12.06    2.2\n"
     ]
    }
   ],
   "cell_type": "code",
   "source": [
    "scfres_scf = self_consistent_field(basis; is_converged);"
   ],
   "metadata": {},
   "execution_count": 2
  },
  {
   "cell_type": "markdown",
   "source": [
    "## Potential-based SCF"
   ],
   "metadata": {}
  },
  {
   "outputs": [
    {
     "name": "stdout",
     "output_type": "stream",
     "text": [
      "n     Energy            log10(ΔE)   log10(Δρ)   α      Diag\n",
      "---   ---------------   ---------   ---------   ----   ----\n",
      "  1   -7.846787376778                   -0.70           4.0\n",
      "  2   -7.852527124566       -2.24       -1.63   0.80    2.2\n",
      "  3   -7.852637422954       -3.96       -2.69   0.80    1.0\n",
      "  4   -7.852646291416       -5.05       -3.28   0.80    2.0\n",
      "  5   -7.852646677676       -6.41       -4.05   0.80    1.8\n",
      "  6   -7.852646686443       -8.06       -4.70   0.80    1.5\n",
      "  7   -7.852646686714       -9.57       -5.86   0.80    1.5\n",
      "  8   -7.852646686730      -10.80       -6.44   0.80    2.5\n",
      "  9   -7.852646686730      -12.92       -7.18   0.80    1.8\n",
      " 10   -7.852646686730      -14.27       -8.66   0.80    1.8\n",
      " 11   -7.852646686730      -15.05       -9.26   0.80    3.0\n",
      " 12   -7.852646686730      -15.05       -9.85   0.80    1.5\n",
      " 13   -7.852646686730   +  -14.75      -10.21   0.80    1.8\n",
      " 14   -7.852646686730      -15.05      -10.82   0.80    1.2\n",
      " 15   -7.852646686730      -14.57      -11.68   0.80    1.8\n",
      " 16   -7.852646686730   +  -14.75      -12.14   0.80    2.2\n"
     ]
    }
   ],
   "cell_type": "code",
   "source": [
    "scfres_scfv = DFTK.scf_potential_mixing(basis; is_converged);"
   ],
   "metadata": {},
   "execution_count": 3
  },
  {
   "cell_type": "markdown",
   "source": [
    "## Direct minimization"
   ],
   "metadata": {}
  },
  {
   "outputs": [
    {
     "name": "stdout",
     "output_type": "stream",
     "text": [
      "Iter     Function value   Gradient norm \n",
      "     0     1.414042e+01     3.682112e+00\n",
      " * time: 0.4008371829986572\n",
      "     1     8.360356e-01     2.027574e+00\n",
      " * time: 0.6151490211486816\n",
      "     2    -1.728534e+00     2.343325e+00\n",
      " * time: 0.6388571262359619\n",
      "     3    -3.721390e+00     2.062259e+00\n",
      " * time: 0.672370195388794\n",
      "     4    -4.903412e+00     1.806843e+00\n",
      " * time: 0.7056190967559814\n",
      "     5    -6.631667e+00     1.298201e+00\n",
      " * time: 0.7386970520019531\n",
      "     6    -7.343751e+00     8.954196e-01\n",
      " * time: 0.7720551490783691\n",
      "     7    -7.573097e+00     8.837704e-01\n",
      " * time: 0.7951211929321289\n",
      "     8    -7.728419e+00     3.159068e-01\n",
      " * time: 0.8182351589202881\n",
      "     9    -7.787883e+00     1.064033e-01\n",
      " * time: 0.8415250778198242\n",
      "    10    -7.827409e+00     1.213519e-01\n",
      " * time: 0.864922046661377\n",
      "    11    -7.842887e+00     6.554982e-02\n",
      " * time: 0.8882231712341309\n",
      "    12    -7.848649e+00     3.734445e-02\n",
      " * time: 0.9116110801696777\n",
      "    13    -7.850968e+00     3.023308e-02\n",
      " * time: 0.9349861145019531\n",
      "    14    -7.851933e+00     1.605666e-02\n",
      " * time: 0.9581010341644287\n",
      "    15    -7.852288e+00     1.207764e-02\n",
      " * time: 0.9810481071472168\n",
      "    16    -7.852488e+00     7.947549e-03\n",
      " * time: 1.0042381286621094\n",
      "    17    -7.852593e+00     4.406453e-03\n",
      " * time: 1.027688980102539\n",
      "    18    -7.852630e+00     1.908431e-03\n",
      " * time: 1.050812005996704\n",
      "    19    -7.852641e+00     1.470752e-03\n",
      " * time: 1.0738050937652588\n",
      "    20    -7.852645e+00     9.099783e-04\n",
      " * time: 1.0969200134277344\n",
      "    21    -7.852646e+00     3.706882e-04\n",
      " * time: 1.1202080249786377\n",
      "    22    -7.852646e+00     2.784330e-04\n",
      " * time: 1.1433720588684082\n",
      "    23    -7.852647e+00     1.650518e-04\n",
      " * time: 1.1664791107177734\n",
      "    24    -7.852647e+00     6.676683e-05\n",
      " * time: 1.2670750617980957\n",
      "    25    -7.852647e+00     3.564798e-05\n",
      " * time: 1.290466070175171\n",
      "    26    -7.852647e+00     2.838416e-05\n",
      " * time: 1.3136751651763916\n",
      "    27    -7.852647e+00     1.318205e-05\n",
      " * time: 1.336820125579834\n",
      "    28    -7.852647e+00     7.115164e-06\n",
      " * time: 1.359896183013916\n",
      "    29    -7.852647e+00     4.927887e-06\n",
      " * time: 1.3829700946807861\n",
      "    30    -7.852647e+00     2.890827e-06\n",
      " * time: 1.4061241149902344\n",
      "    31    -7.852647e+00     1.613438e-06\n",
      " * time: 1.4291040897369385\n",
      "    32    -7.852647e+00     1.137881e-06\n",
      " * time: 1.452125072479248\n",
      "    33    -7.852647e+00     7.130338e-07\n",
      " * time: 1.4750351905822754\n",
      "    34    -7.852647e+00     3.542572e-07\n",
      " * time: 1.4979209899902344\n",
      "    35    -7.852647e+00     2.324587e-07\n",
      " * time: 1.520838975906372\n",
      "    36    -7.852647e+00     2.039150e-07\n",
      " * time: 1.5438830852508545\n",
      "    37    -7.852647e+00     1.489729e-07\n",
      " * time: 1.56685209274292\n",
      "    38    -7.852647e+00     7.778261e-08\n",
      " * time: 1.5896501541137695\n",
      "    39    -7.852647e+00     3.939838e-08\n",
      " * time: 1.612563133239746\n",
      "    40    -7.852647e+00     2.377329e-08\n",
      " * time: 1.6359241008758545\n",
      "    41    -7.852647e+00     1.612834e-08\n",
      " * time: 1.659121036529541\n",
      "    42    -7.852647e+00     9.898565e-09\n",
      " * time: 1.6922001838684082\n"
     ]
    }
   ],
   "cell_type": "code",
   "source": [
    "scfres_dm = direct_minimization(basis; tol);"
   ],
   "metadata": {},
   "execution_count": 4
  },
  {
   "cell_type": "markdown",
   "source": [
    "## Newton algorithm"
   ],
   "metadata": {}
  },
  {
   "cell_type": "markdown",
   "source": [
    "Start not too far from the solution to ensure convergence:\n",
    "We run first a very crude SCF to get close and then switch to Newton."
   ],
   "metadata": {}
  },
  {
   "outputs": [
    {
     "name": "stdout",
     "output_type": "stream",
     "text": [
      "n     Energy            log10(ΔE)   log10(Δρ)   Diag\n",
      "---   ---------------   ---------   ---------   ----\n",
      "  1   -7.846805540033                   -0.70    3.8\n",
      "  2   -7.852294777133       -2.26       -1.53    1.0\n"
     ]
    }
   ],
   "cell_type": "code",
   "source": [
    "scfres_start = self_consistent_field(basis; tol=1e-1);"
   ],
   "metadata": {},
   "execution_count": 5
  },
  {
   "cell_type": "markdown",
   "source": [
    "Remove the virtual orbitals (which Newton cannot treat yet)"
   ],
   "metadata": {}
  },
  {
   "outputs": [
    {
     "name": "stdout",
     "output_type": "stream",
     "text": [
      "n     Energy            log10(ΔE)   log10(Δρ)\n",
      "---   ---------------   ---------   ---------\n",
      "  1   -7.852646686228                   -2.55\n",
      "  2   -7.852646686730       -9.30       -5.74\n",
      "  3   -7.852646686730   +    -Inf      -11.07\n",
      "  4   -7.852646686730   +    -Inf      -16.00\n"
     ]
    }
   ],
   "cell_type": "code",
   "source": [
    "ψ, _ = DFTK.select_occupied_orbitals(basis, scfres_start.ψ, scfres_start.occupation)\n",
    "scfres_newton = newton(basis, ψ; tol);"
   ],
   "metadata": {},
   "execution_count": 6
  },
  {
   "cell_type": "markdown",
   "source": [
    "## Comparison of results"
   ],
   "metadata": {}
  },
  {
   "outputs": [
    {
     "name": "stdout",
     "output_type": "stream",
     "text": [
      "|ρ_newton - ρ_scf|  = 7.848417280441665e-13\n",
      "|ρ_newton - ρ_scfv| = 9.276274017891365e-14\n",
      "|ρ_newton - ρ_dm|   = 1.3732801838127205e-9\n"
     ]
    }
   ],
   "cell_type": "code",
   "source": [
    "println(\"|ρ_newton - ρ_scf|  = \", norm(scfres_newton.ρ - scfres_scf.ρ))\n",
    "println(\"|ρ_newton - ρ_scfv| = \", norm(scfres_newton.ρ - scfres_scfv.ρ))\n",
    "println(\"|ρ_newton - ρ_dm|   = \", norm(scfres_newton.ρ - scfres_dm.ρ))"
   ],
   "metadata": {},
   "execution_count": 7
  }
 ],
 "nbformat_minor": 3,
 "metadata": {
  "language_info": {
   "file_extension": ".jl",
   "mimetype": "application/julia",
   "name": "julia",
   "version": "1.8.1"
  },
  "kernelspec": {
   "name": "julia-1.8",
   "display_name": "Julia 1.8.1",
   "language": "julia"
  }
 },
 "nbformat": 4
}
