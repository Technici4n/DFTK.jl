{
 "cells": [
  {
   "cell_type": "markdown",
   "source": [
    "# Eigenvalues of the dielectric matrix\n",
    "\n",
    "We compute a few eigenvalues of the dielectric matrix ($q=0$, $ω=0$) iteratively."
   ],
   "metadata": {}
  },
  {
   "outputs": [
    {
     "name": "stdout",
     "output_type": "stream",
     "text": [
      "n     Energy            log10(ΔE)   log10(Δρ)   Diag   Δtime\n",
      "---   ---------------   ---------   ---------   ----   ------\n",
      "  1   -7.234349178175                   -0.50    8.0         \n",
      "  2   -7.250191020042       -1.80       -1.40    1.0   8.66ms\n",
      "  3   -7.250941857359       -3.12       -1.92    1.0   9.01ms\n",
      "  4   -7.250915397455   +   -4.58       -1.85    2.0   11.1ms\n",
      "  5   -7.251334408993       -3.38       -2.75    1.0   9.19ms\n",
      "  6   -7.251337933762       -5.45       -3.17    1.0   8.87ms\n",
      "  7   -7.251338665478       -6.14       -3.44    2.0   10.8ms\n",
      "  8   -7.251338783390       -6.93       -3.94    1.0   9.11ms\n",
      "  9   -7.251338795082       -7.93       -4.22    3.0   12.1ms\n",
      " 10   -7.251338798205       -8.51       -4.90    1.0   9.48ms\n",
      " 11   -7.251338798681       -9.32       -5.22    3.0   13.0ms\n",
      " 12   -7.251338798699      -10.74       -5.55    1.0   9.55ms\n",
      " 13   -7.251338798703      -11.42       -5.85    2.0   11.4ms\n",
      " 14   -7.251338798704      -11.94       -6.16    1.0   9.62ms\n",
      " 15   -7.251338798705      -12.44       -6.79    2.0   11.3ms\n",
      " 16   -7.251338798705      -13.55       -7.24    3.0   13.0ms\n",
      " 17   -7.251338798705      -14.45       -7.74    1.0   9.56ms\n",
      " 18   -7.251338798705   +    -Inf       -7.99    2.0   11.5ms\n",
      " 19   -7.251338798705   +  -14.75       -8.38    1.0   9.75ms\n"
     ]
    }
   ],
   "cell_type": "code",
   "source": [
    "using DFTK\n",
    "using Plots\n",
    "using KrylovKit\n",
    "using Printf\n",
    "\n",
    "# Calculation parameters\n",
    "kgrid = [1, 1, 1]\n",
    "Ecut = 5\n",
    "\n",
    "# Silicon lattice\n",
    "a = 10.26\n",
    "lattice = a / 2 .* [[0 1 1.]; [1 0 1.]; [1 1 0.]]\n",
    "Si = ElementPsp(:Si, psp=load_psp(\"hgh/lda/Si-q4\"))\n",
    "atoms     = [Si, Si]\n",
    "positions = [ones(3)/8, -ones(3)/8]\n",
    "\n",
    "# Compute the dielectric operator without symmetries\n",
    "model  = model_LDA(lattice, atoms, positions, symmetries=false)\n",
    "basis  = PlaneWaveBasis(model; Ecut, kgrid)\n",
    "scfres = self_consistent_field(basis, tol=1e-8);"
   ],
   "metadata": {},
   "execution_count": 1
  },
  {
   "cell_type": "markdown",
   "source": [
    "Applying $ε^† ≔ (1- χ_0 K)$ …"
   ],
   "metadata": {}
  },
  {
   "outputs": [],
   "cell_type": "code",
   "source": [
    "function eps_fun(δρ)\n",
    "    δV = apply_kernel(basis, δρ; ρ=scfres.ρ)\n",
    "    χ0δV = apply_χ0(scfres, δV)\n",
    "    δρ - χ0δV\n",
    "end;"
   ],
   "metadata": {},
   "execution_count": 2
  },
  {
   "cell_type": "markdown",
   "source": [
    "… eagerly diagonalizes the subspace matrix at each iteration"
   ],
   "metadata": {}
  },
  {
   "outputs": [
    {
     "name": "stdout",
     "output_type": "stream",
     "text": [
      "[ Info: Arnoldi iteration step 1: normres = 0.0395008722016716\n",
      "[ Info: Arnoldi iteration step 2: normres = 0.4310690884897886\n",
      "[ Info: Arnoldi iteration step 3: normres = 0.650301280197362\n",
      "[ Info: Arnoldi iteration step 4: normres = 0.6699777211481873\n",
      "[ Info: Arnoldi iteration step 5: normres = 0.44523996063538746\n",
      "[ Info: Arnoldi schursolve in iter 1, krylovdim = 5: 0 values converged, normres = (1.43e-01, 7.39e-02, 3.39e-01, 2.38e-01, 2.60e-02)\n",
      "[ Info: Arnoldi iteration step 6: normres = 0.3194510949838267\n",
      "[ Info: Arnoldi schursolve in iter 1, krylovdim = 6: 0 values converged, normres = (4.15e-02, 1.81e-01, 2.30e-01, 9.42e-02, 4.21e-02)\n",
      "[ Info: Arnoldi iteration step 7: normres = 0.06425540504906814\n",
      "[ Info: Arnoldi schursolve in iter 1, krylovdim = 7: 0 values converged, normres = (1.28e-03, 1.18e-02, 9.35e-03, 2.23e-02, 5.23e-02)\n",
      "[ Info: Arnoldi iteration step 8: normres = 0.11508493583551203\n",
      "[ Info: Arnoldi schursolve in iter 1, krylovdim = 8: 0 values converged, normres = (6.38e-05, 9.73e-04, 8.47e-04, 8.39e-03, 5.54e-02)\n",
      "[ Info: Arnoldi iteration step 9: normres = 0.08181818106343626\n",
      "[ Info: Arnoldi schursolve in iter 1, krylovdim = 9: 0 values converged, normres = (2.27e-06, 5.72e-05, 5.54e-05, 2.50e-03, 4.62e-02)\n",
      "[ Info: Arnoldi iteration step 10: normres = 0.0841030434237251\n",
      "[ Info: Arnoldi schursolve in iter 1, krylovdim = 10: 0 values converged, normres = (8.39e-08, 3.52e-06, 3.81e-06, 8.06e-04, 3.79e-02)\n",
      "[ Info: Arnoldi iteration step 11: normres = 0.08960667812209312\n",
      "[ Info: Arnoldi schursolve in iter 1, krylovdim = 11: 0 values converged, normres = (3.24e-09, 2.24e-07, 2.68e-07, 2.44e-04, 2.44e-02)\n",
      "[ Info: Arnoldi iteration step 12: normres = 0.09029276376510455\n",
      "[ Info: Arnoldi schursolve in iter 1, krylovdim = 12: 0 values converged, normres = (1.27e-10, 1.45e-08, 1.93e-08, 7.58e-05, 1.70e-02)\n",
      "[ Info: Arnoldi iteration step 13: normres = 0.04554171491950513\n",
      "[ Info: Arnoldi schursolve in iter 1, krylovdim = 13: 0 values converged, normres = (2.46e-12, 4.56e-10, 6.74e-10, 1.03e-05, 4.87e-03)\n",
      "[ Info: Arnoldi iteration step 14: normres = 0.6938258805349462\n",
      "[ Info: Arnoldi schursolve in iter 1, krylovdim = 14: 0 values converged, normres = (1.03e-12, 4.19e-10, 7.60e-10, 6.88e-01, 1.28e-02)\n",
      "[ Info: Arnoldi iteration step 15: normres = 0.0726964475854886\n",
      "[ Info: Arnoldi schursolve in iter 1, krylovdim = 15: 1 values converged, normres = (4.95e-14, 1.22e-10, 4.87e-02, 3.50e-04, 1.68e-05)\n",
      "[ Info: Arnoldi iteration step 16: normres = 0.6092265314372545\n",
      "[ Info: Arnoldi schursolve in iter 1, krylovdim = 16: 1 values converged, normres = (2.53e-14, 2.81e-10, 1.59e-01, 6.37e-03, 5.84e-01)\n",
      "[ Info: Arnoldi iteration step 17: normres = 0.03354812028563814\n",
      "[ Info: Arnoldi schursolve in iter 1, krylovdim = 17: 1 values converged, normres = (4.55e-16, 2.42e-09, 1.39e-02, 4.71e-03, 2.88e-03)\n",
      "[ Info: Arnoldi iteration step 18: normres = 0.020052972988595884\n",
      "[ Info: Arnoldi schursolve in iter 1, krylovdim = 18: 1 values converged, normres = (3.78e-18, 3.13e-09, 1.85e-04, 4.14e-09, 8.09e-05)\n",
      "[ Info: Arnoldi iteration step 19: normres = 0.14264069195964307\n",
      "[ Info: Arnoldi schursolve in iter 1, krylovdim = 19: 1 values converged, normres = (2.27e-19, 1.79e-05, 8.29e-07, 7.50e-06, 4.40e-06)\n",
      "[ Info: Arnoldi iteration step 20: normres = 0.09145215835091942\n",
      "[ Info: Arnoldi schursolve in iter 1, krylovdim = 20: 1 values converged, normres = (1.01e-20, 2.28e-09, 1.43e-06, 1.88e-08, 7.88e-07)\n",
      "[ Info: Arnoldi iteration step 21: normres = 0.026127269373491753\n",
      "[ Info: Arnoldi schursolve in iter 1, krylovdim = 21: 1 values converged, normres = (1.10e-22, 2.45e-08, 6.19e-09, 3.66e-09, 1.50e-08)\n",
      "[ Info: Arnoldi iteration step 22: normres = 0.017861749562829488\n",
      "[ Info: Arnoldi schursolve in iter 1, krylovdim = 22: 1 values converged, normres = (8.10e-25, 1.79e-10, 2.36e-10, 6.20e-11, 1.89e-10)\n",
      "[ Info: Arnoldi iteration step 23: normres = 0.4023178369065623\n",
      "[ Info: Arnoldi schursolve in iter 1, krylovdim = 23: 1 values converged, normres = (1.40e-25, 4.89e-11, 6.82e-11, 1.93e-11, 5.94e-11)\n",
      "[ Info: Arnoldi iteration step 24: normres = 0.0419310765763061\n",
      "[ Info: Arnoldi schursolve in iter 1, krylovdim = 24: 1 values converged, normres = (5.34e-27, 1.36e-11, 1.88e-11, 1.38e-08, 2.11e-08)\n",
      "[ Info: Arnoldi iteration step 25: normres = 0.033089250068019854\n",
      "[ Info: Arnoldi schursolve in iter 1, krylovdim = 25: 3 values converged, normres = (7.24e-29, 2.93e-13, 4.07e-13, 4.04e-04, 4.58e-04)\n",
      "[ Info: Arnoldi iteration step 26: normres = 0.10040137860486463\n",
      "[ Info: Arnoldi schursolve in iter 1, krylovdim = 26: 3 values converged, normres = (3.23e-30, 2.18e-14, 3.04e-14, 6.29e-06, 2.08e-06)\n",
      "[ Info: Arnoldi iteration step 27: normres = 0.0318681453609075\n",
      "[ Info: Arnoldi schursolve in iter 1, krylovdim = 27: 3 values converged, normres = (4.32e-32, 4.73e-16, 6.58e-16, 3.43e-10, 1.14e-09)\n",
      "[ Info: Arnoldi iteration step 28: normres = 0.08606875695054038\n",
      "[ Info: Arnoldi schursolve in iter 1, krylovdim = 28: 3 values converged, normres = (1.62e-33, 2.93e-17, 4.07e-17, 2.89e-10, 1.14e-09)\n",
      "[ Info: Arnoldi iteration step 29: normres = 0.02063787445531586\n",
      "[ Info: Arnoldi schursolve in iter 1, krylovdim = 29: 3 values converged, normres = (1.41e-35, 4.13e-19, 5.73e-19, 8.85e-11, 1.96e-09)\n",
      "[ Info: Arnoldi iteration step 30: normres = 0.17655765159753456\n",
      "[ Info: Arnoldi schursolve in iter 1, krylovdim = 30: 3 values converged, normres = (1.09e-36, 5.30e-20, 7.36e-20, 1.56e-11, 2.80e-10)\n",
      "[ Info: Arnoldi schursolve in iter 2, krylovdim = 19: 3 values converged, normres = (1.09e-36, 5.30e-20, 7.36e-20, 1.56e-11, 2.80e-10)\n",
      "[ Info: Arnoldi iteration step 20: normres = 0.1454021345526276\n",
      "[ Info: Arnoldi schursolve in iter 2, krylovdim = 20: 3 values converged, normres = (7.44e-38, 6.35e-21, 8.83e-21, 2.05e-12, 3.80e-11)\n",
      "[ Info: Arnoldi iteration step 21: normres = 0.034620831647065815\n",
      "[ Info: Arnoldi schursolve in iter 2, krylovdim = 21: 4 values converged, normres = (1.12e-39, 1.59e-22, 2.20e-22, 5.72e-14, 1.06e-12)\n",
      "[ Info: Arnoldi iteration step 22: normres = 0.01261275933720819\n",
      "┌ Info: Arnoldi eigsolve finished after 2 iterations:\n",
      "│ *  6 eigenvalues converged\n",
      "│ *  norm of residuals = (5.798264286666174e-42, 1.3071887758128077e-24, 1.4042096618683864e-24, 5.187498793955598e-16, 5.897901492082065e-15, 5.417241461918829e-16)\n",
      "└ *  number of operations = 33\n"
     ]
    }
   ],
   "cell_type": "code",
   "source": [
    "eigsolve(eps_fun, randn(size(scfres.ρ)), 5, :LM; eager=true, verbosity=3);"
   ],
   "metadata": {},
   "execution_count": 3
  }
 ],
 "nbformat_minor": 3,
 "metadata": {
  "language_info": {
   "file_extension": ".jl",
   "mimetype": "application/julia",
   "name": "julia",
   "version": "1.9.3"
  },
  "kernelspec": {
   "name": "julia-1.9",
   "display_name": "Julia 1.9.3",
   "language": "julia"
  }
 },
 "nbformat": 4
}
