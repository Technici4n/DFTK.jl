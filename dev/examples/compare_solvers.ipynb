{
 "cells": [
  {
   "cell_type": "markdown",
   "source": [
    "# Comparison of DFT solvers"
   ],
   "metadata": {}
  },
  {
   "cell_type": "markdown",
   "source": [
    "We compare four different approaches for solving the DFT minimisation problem,\n",
    "namely a density-based SCF, a potential-based SCF, direct minimisation and Newton."
   ],
   "metadata": {}
  },
  {
   "cell_type": "markdown",
   "source": [
    "First we setup our problem"
   ],
   "metadata": {}
  },
  {
   "outputs": [
    {
     "output_type": "execute_result",
     "data": {
      "text/plain": "1.0e-6"
     },
     "metadata": {},
     "execution_count": 1
    }
   ],
   "cell_type": "code",
   "source": [
    "using DFTK\n",
    "using LinearAlgebra\n",
    "\n",
    "a = 10.26  # Silicon lattice constant in Bohr\n",
    "lattice = a / 2 * [[0 1 1.];\n",
    "                   [1 0 1.];\n",
    "                   [1 1 0.]]\n",
    "Si = ElementPsp(:Si, psp=load_psp(\"hgh/lda/Si-q4\"))\n",
    "atoms     = [Si, Si]\n",
    "positions = [ones(3)/8, -ones(3)/8]\n",
    "\n",
    "model = model_LDA(lattice, atoms, positions)\n",
    "basis = PlaneWaveBasis(model; Ecut=5, kgrid=[3, 3, 3])\n",
    "\n",
    "# Convergence we desire in the density\n",
    "tol = 1e-6"
   ],
   "metadata": {},
   "execution_count": 1
  },
  {
   "cell_type": "markdown",
   "source": [
    "## Density-based self-consistent field"
   ],
   "metadata": {}
  },
  {
   "outputs": [
    {
     "name": "stdout",
     "output_type": "stream",
     "text": [
      "n     Energy            log10(ΔE)   log10(Δρ)   Diag   Δtime\n",
      "---   ---------------   ---------   ---------   ----   ------\n",
      "  1   -7.846831919626                   -0.70    4.5         \n",
      "  2   -7.852316714790       -2.26       -1.53    1.0   25.0ms\n",
      "  3   -7.852614044791       -3.53       -2.56    1.5   26.8ms\n",
      "  4   -7.852645862731       -4.50       -2.87    2.8   34.8ms\n",
      "  5   -7.852646474388       -6.21       -3.15    1.0   24.9ms\n",
      "  6   -7.852646679565       -6.69       -4.24    1.0   25.1ms\n",
      "  7   -7.852646686671       -8.15       -4.90    2.2   33.0ms\n",
      "  8   -7.852646686722      -10.29       -5.40    1.5   27.1ms\n",
      "  9   -7.852646686729      -11.17       -5.78    1.2   27.0ms\n",
      " 10   -7.852646686730      -11.99       -6.51    1.0   25.1ms\n"
     ]
    }
   ],
   "cell_type": "code",
   "source": [
    "scfres_scf = self_consistent_field(basis; tol);"
   ],
   "metadata": {},
   "execution_count": 2
  },
  {
   "cell_type": "markdown",
   "source": [
    "## Potential-based SCF"
   ],
   "metadata": {}
  },
  {
   "outputs": [
    {
     "name": "stdout",
     "output_type": "stream",
     "text": [
      "n     Energy            log10(ΔE)   log10(Δρ)   α      Diag   Δtime\n",
      "---   ---------------   ---------   ---------   ----   ----   ------\n",
      "  1   -7.846763416077                   -0.70           4.5         \n",
      "  2   -7.852527484157       -2.24       -1.63   0.80    2.2    275ms\n",
      "  3   -7.852637149975       -3.96       -2.72   0.80    1.0   23.8ms\n",
      "  4   -7.852646486631       -5.03       -3.28   0.80    2.2   31.5ms\n",
      "  5   -7.852646670183       -6.74       -4.14   0.80    1.0   24.2ms\n",
      "  6   -7.852646686520       -7.79       -4.74   0.80    2.2   32.6ms\n",
      "  7   -7.852646686720       -9.70       -5.47   0.80    1.5   26.1ms\n",
      "  8   -7.852646686729      -11.05       -6.54   0.80    1.8   27.9ms\n"
     ]
    }
   ],
   "cell_type": "code",
   "source": [
    "scfres_scfv = DFTK.scf_potential_mixing(basis; tol);"
   ],
   "metadata": {},
   "execution_count": 3
  },
  {
   "cell_type": "markdown",
   "source": [
    "## Direct minimization\n",
    "Note: Unlike the other algorithms, tolerance for this one is in the energy,\n",
    "thus we square the density tolerance value to be roughly equivalent."
   ],
   "metadata": {}
  },
  {
   "outputs": [
    {
     "name": "stdout",
     "output_type": "stream",
     "text": [
      "Iter     Function value   Gradient norm \n",
      "     0     1.392458e+01     3.313986e+00\n",
      " * time: 0.4027440547943115\n",
      "     1     1.296880e+00     1.791472e+00\n",
      " * time: 0.6005160808563232\n",
      "     2    -1.710809e+00     2.073823e+00\n",
      " * time: 0.6249191761016846\n",
      "     3    -3.831514e+00     1.709645e+00\n",
      " * time: 0.6602730751037598\n",
      "     4    -5.278277e+00     1.639737e+00\n",
      " * time: 0.6945970058441162\n",
      "     5    -6.923993e+00     8.726145e-01\n",
      " * time: 0.7298040390014648\n",
      "     6    -6.941958e+00     1.133358e+00\n",
      " * time: 0.7546670436859131\n",
      "     7    -7.623218e+00     9.262458e-01\n",
      " * time: 0.779818058013916\n",
      "     8    -7.685034e+00     1.349921e+00\n",
      " * time: 0.8045182228088379\n",
      "     9    -7.743378e+00     3.200082e-01\n",
      " * time: 0.8399660587310791\n",
      "    10    -7.798322e+00     5.038182e-01\n",
      " * time: 0.8643290996551514\n",
      "    11    -7.817333e+00     1.068974e-01\n",
      " * time: 0.8885130882263184\n",
      "    12    -7.827661e+00     7.643262e-02\n",
      " * time: 0.9128851890563965\n",
      "    13    -7.839297e+00     5.461717e-02\n",
      " * time: 0.9368791580200195\n",
      "    14    -7.845789e+00     5.751489e-02\n",
      " * time: 0.9608240127563477\n",
      "    15    -7.846158e+00     5.804107e-02\n",
      " * time: 0.9852890968322754\n",
      "    16    -7.846193e+00     6.130368e-02\n",
      " * time: 1.0299320220947266\n",
      "    17    -7.846326e+00     6.493774e-02\n",
      " * time: 1.0865461826324463\n",
      "    18    -7.846765e+00     6.035186e-02\n",
      " * time: 1.1320102214813232\n",
      "    19    -7.846889e+00     4.306480e-02\n",
      " * time: 1.1563191413879395\n",
      "    20    -7.849506e+00     2.954555e-02\n",
      " * time: 1.1804141998291016\n",
      "    21    -7.852160e+00     1.512823e-02\n",
      " * time: 1.204590082168579\n",
      "    22    -7.852414e+00     9.371530e-03\n",
      " * time: 1.22861909866333\n",
      "    23    -7.852570e+00     6.246023e-03\n",
      " * time: 1.2525620460510254\n",
      "    24    -7.852622e+00     2.384202e-03\n",
      " * time: 1.277048110961914\n",
      "    25    -7.852640e+00     1.179478e-03\n",
      " * time: 1.3012371063232422\n",
      "    26    -7.852645e+00     1.054876e-03\n",
      " * time: 1.3258130550384521\n",
      "    27    -7.852646e+00     3.959823e-04\n",
      " * time: 1.3499891757965088\n",
      "    28    -7.852646e+00     3.272773e-04\n",
      " * time: 1.3740980625152588\n",
      "    29    -7.852647e+00     1.704585e-04\n",
      " * time: 1.397975206375122\n",
      "    30    -7.852647e+00     8.531706e-05\n",
      " * time: 1.4218251705169678\n",
      "    31    -7.852647e+00     4.411647e-05\n",
      " * time: 1.4457061290740967\n",
      "    32    -7.852647e+00     2.536920e-05\n",
      " * time: 1.4693920612335205\n",
      "    33    -7.852647e+00     1.779094e-05\n",
      " * time: 1.4932801723480225\n",
      "    34    -7.852647e+00     1.395646e-05\n",
      " * time: 1.5170471668243408\n",
      "    35    -7.852647e+00     4.710388e-06\n",
      " * time: 1.5404670238494873\n",
      "    36    -7.852647e+00     3.136238e-06\n",
      " * time: 1.6306140422821045\n",
      "    37    -7.852647e+00     2.442991e-06\n",
      " * time: 1.6545820236206055\n",
      "    38    -7.852647e+00     1.243245e-06\n",
      " * time: 1.678288221359253\n",
      "    39    -7.852647e+00     6.803222e-07\n",
      " * time: 1.7021610736846924\n",
      "    40    -7.852647e+00     4.471893e-07\n",
      " * time: 1.726135015487671\n",
      "    41    -7.852647e+00     3.502504e-07\n",
      " * time: 1.7502970695495605\n",
      "    42    -7.852647e+00     1.425541e-07\n",
      " * time: 1.7743752002716064\n",
      "    43    -7.852647e+00     7.092582e-08\n",
      " * time: 1.798577070236206\n",
      "    44    -7.852647e+00     2.764066e-08\n",
      " * time: 1.8228721618652344\n",
      "    45    -7.852647e+00     1.713098e-08\n",
      " * time: 1.8467681407928467\n",
      "    46    -7.852647e+00     1.223993e-08\n",
      " * time: 1.8816981315612793\n",
      "    47    -7.852647e+00     7.391018e-09\n",
      " * time: 1.9167711734771729\n",
      "    48    -7.852647e+00     3.874508e-09\n",
      " * time: 1.9407410621643066\n",
      "    49    -7.852647e+00     3.862277e-09\n",
      " * time: 1.9857470989227295\n",
      "    50    -7.852647e+00     3.861916e-09\n",
      " * time: 2.050903081893921\n"
     ]
    }
   ],
   "cell_type": "code",
   "source": [
    "scfres_dm = direct_minimization(basis; tol=tol^2);"
   ],
   "metadata": {},
   "execution_count": 4
  },
  {
   "cell_type": "markdown",
   "source": [
    "## Newton algorithm"
   ],
   "metadata": {}
  },
  {
   "cell_type": "markdown",
   "source": [
    "Start not too far from the solution to ensure convergence:\n",
    "We run first a very crude SCF to get close and then switch to Newton."
   ],
   "metadata": {}
  },
  {
   "outputs": [
    {
     "name": "stdout",
     "output_type": "stream",
     "text": [
      "n     Energy            log10(ΔE)   log10(Δρ)   Diag   Δtime\n",
      "---   ---------------   ---------   ---------   ----   ------\n",
      "  1   -7.846837983364                   -0.70    4.5         \n"
     ]
    }
   ],
   "cell_type": "code",
   "source": [
    "scfres_start = self_consistent_field(basis; tol=0.5);"
   ],
   "metadata": {},
   "execution_count": 5
  },
  {
   "cell_type": "markdown",
   "source": [
    "Remove the virtual orbitals (which Newton cannot treat yet)"
   ],
   "metadata": {}
  },
  {
   "outputs": [
    {
     "name": "stdout",
     "output_type": "stream",
     "text": [
      "n     Energy            log10(ΔE)   log10(Δρ)   Δtime\n",
      "---   ---------------   ---------   ---------   ------\n",
      "  1   -7.852645914524                   -1.64         \n",
      "  2   -7.852646686730       -6.11       -3.71    1.69s\n",
      "  3   -7.852646686730      -13.30       -7.25    217ms\n"
     ]
    }
   ],
   "cell_type": "code",
   "source": [
    "ψ = DFTK.select_occupied_orbitals(basis, scfres_start.ψ, scfres_start.occupation).ψ\n",
    "scfres_newton = newton(basis, ψ; tol);"
   ],
   "metadata": {},
   "execution_count": 6
  },
  {
   "cell_type": "markdown",
   "source": [
    "## Comparison of results"
   ],
   "metadata": {}
  },
  {
   "outputs": [
    {
     "name": "stdout",
     "output_type": "stream",
     "text": [
      "|ρ_newton - ρ_scf|  = 2.05526864622207e-7\n",
      "|ρ_newton - ρ_scfv| = 2.2726550040263757e-7\n",
      "|ρ_newton - ρ_dm|   = 6.11556233853583e-10\n"
     ]
    }
   ],
   "cell_type": "code",
   "source": [
    "println(\"|ρ_newton - ρ_scf|  = \", norm(scfres_newton.ρ - scfres_scf.ρ))\n",
    "println(\"|ρ_newton - ρ_scfv| = \", norm(scfres_newton.ρ - scfres_scfv.ρ))\n",
    "println(\"|ρ_newton - ρ_dm|   = \", norm(scfres_newton.ρ - scfres_dm.ρ))"
   ],
   "metadata": {},
   "execution_count": 7
  }
 ],
 "nbformat_minor": 3,
 "metadata": {
  "language_info": {
   "file_extension": ".jl",
   "mimetype": "application/julia",
   "name": "julia",
   "version": "1.8.5"
  },
  "kernelspec": {
   "name": "julia-1.8",
   "display_name": "Julia 1.8.5",
   "language": "julia"
  }
 },
 "nbformat": 4
}
