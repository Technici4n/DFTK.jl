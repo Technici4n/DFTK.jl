{
 "cells": [
  {
   "cell_type": "markdown",
   "source": [
    "# Eigenvalues of the dielectric matrix\n",
    "\n",
    "We compute a few eigenvalues of the dielectric matrix ($q=0$, $ω=0$) iteratively."
   ],
   "metadata": {}
  },
  {
   "outputs": [
    {
     "name": "stdout",
     "output_type": "stream",
     "text": [
      "n     Energy            log10(ΔE)   log10(Δρ)   Diag   Δtime\n",
      "---   ---------------   ---------   ---------   ----   ------\n",
      "  1   -7.234371819652                   -0.50    8.0         \n",
      "  2   -7.250198592591       -1.80       -1.40    1.0   9.58ms\n",
      "  3   -7.250868089593       -3.17       -1.86    1.0   9.82ms\n",
      "  4   -7.250931858961       -4.20       -1.85    2.0   11.8ms\n",
      "  5   -7.251333437467       -3.40       -2.70    1.0   9.77ms\n",
      "  6   -7.251338124145       -5.33       -3.14    1.0   9.80ms\n",
      "  7   -7.251338700190       -6.24       -3.56    2.0   11.5ms\n",
      "  8   -7.251338790848       -7.04       -4.10    2.0   12.2ms\n",
      "  9   -7.251338798445       -8.12       -4.72    2.0   11.9ms\n",
      " 10   -7.251338798668       -9.65       -5.24    1.0   10.1ms\n",
      " 11   -7.251338798699      -10.50       -5.77    2.0   11.6ms\n",
      " 12   -7.251338798704      -11.37       -5.93    2.0   12.2ms\n",
      " 13   -7.251338798704      -12.06       -6.44    1.0   10.4ms\n",
      " 14   -7.251338798705      -13.08       -6.63    2.0   12.2ms\n",
      " 15   -7.251338798705      -13.52       -7.13    1.0   10.2ms\n",
      " 16   -7.251338798705      -14.10       -7.78    2.0   12.1ms\n",
      " 17   -7.251338798705   +  -14.57       -8.07    2.0   11.9ms\n"
     ]
    }
   ],
   "cell_type": "code",
   "source": [
    "using DFTK\n",
    "using Plots\n",
    "using KrylovKit\n",
    "using Printf\n",
    "\n",
    "# Calculation parameters\n",
    "kgrid = [1, 1, 1]\n",
    "Ecut = 5\n",
    "\n",
    "# Silicon lattice\n",
    "a = 10.26\n",
    "lattice = a / 2 .* [[0 1 1.]; [1 0 1.]; [1 1 0.]]\n",
    "Si = ElementPsp(:Si, psp=load_psp(\"hgh/lda/Si-q4\"))\n",
    "atoms     = [Si, Si]\n",
    "positions = [ones(3)/8, -ones(3)/8]\n",
    "\n",
    "# Compute the dielectric operator without symmetries\n",
    "model  = model_LDA(lattice, atoms, positions, symmetries=false)\n",
    "basis  = PlaneWaveBasis(model; Ecut, kgrid)\n",
    "scfres = self_consistent_field(basis, tol=1e-8);"
   ],
   "metadata": {},
   "execution_count": 1
  },
  {
   "cell_type": "markdown",
   "source": [
    "Applying $ε^† ≔ (1- χ_0 K)$ …"
   ],
   "metadata": {}
  },
  {
   "outputs": [],
   "cell_type": "code",
   "source": [
    "function eps_fun(δρ)\n",
    "    δV = apply_kernel(basis, δρ; ρ=scfres.ρ)\n",
    "    χ0δV = apply_χ0(scfres, δV)\n",
    "    δρ - χ0δV\n",
    "end;"
   ],
   "metadata": {},
   "execution_count": 2
  },
  {
   "cell_type": "markdown",
   "source": [
    "… eagerly diagonalizes the subspace matrix at each iteration"
   ],
   "metadata": {}
  },
  {
   "outputs": [
    {
     "name": "stdout",
     "output_type": "stream",
     "text": [
      "[ Info: Arnoldi iteration step 1: normres = 0.0581417482260896\n",
      "[ Info: Arnoldi iteration step 2: normres = 0.5951827952560188\n",
      "[ Info: Arnoldi iteration step 3: normres = 0.8247193521140938\n",
      "[ Info: Arnoldi iteration step 4: normres = 0.25892772984347256\n",
      "[ Info: Arnoldi iteration step 5: normres = 0.3136123947173698\n",
      "[ Info: Arnoldi schursolve in iter 1, krylovdim = 5: 0 values converged, normres = (1.52e-02, 3.76e-02, 2.44e-01, 1.92e-01, 2.21e-02)\n",
      "[ Info: Arnoldi iteration step 6: normres = 0.4609781568315167\n",
      "[ Info: Arnoldi schursolve in iter 1, krylovdim = 6: 0 values converged, normres = (5.44e-03, 4.97e-02, 4.28e-01, 1.20e-01, 9.00e-02)\n",
      "[ Info: Arnoldi iteration step 7: normres = 0.08867774857031735\n",
      "[ Info: Arnoldi schursolve in iter 1, krylovdim = 7: 0 values converged, normres = (2.57e-04, 7.83e-03, 3.48e-02, 3.80e-02, 6.34e-02)\n",
      "[ Info: Arnoldi iteration step 8: normres = 0.10217093836658096\n",
      "[ Info: Arnoldi schursolve in iter 1, krylovdim = 8: 0 values converged, normres = (1.17e-05, 6.07e-04, 2.98e-03, 1.68e-02, 6.54e-02)\n",
      "[ Info: Arnoldi iteration step 9: normres = 0.07997793607097978\n",
      "[ Info: Arnoldi schursolve in iter 1, krylovdim = 9: 0 values converged, normres = (4.00e-07, 3.38e-05, 1.84e-04, 4.23e-03, 2.94e-02)\n",
      "[ Info: Arnoldi iteration step 10: normres = 0.07143032098769286\n",
      "[ Info: Arnoldi schursolve in iter 1, krylovdim = 10: 0 values converged, normres = (1.26e-08, 1.78e-06, 1.08e-05, 1.20e-03, 2.07e-02)\n",
      "[ Info: Arnoldi iteration step 11: normres = 0.0769324079949058\n",
      "[ Info: Arnoldi schursolve in iter 1, krylovdim = 11: 0 values converged, normres = (4.14e-10, 9.56e-08, 6.43e-07, 2.81e-04, 9.85e-03)\n",
      "[ Info: Arnoldi iteration step 12: normres = 0.08176352120027754\n",
      "[ Info: Arnoldi schursolve in iter 1, krylovdim = 12: 0 values converged, normres = (1.46e-11, 5.57e-09, 4.16e-08, 7.56e-05, 5.66e-03)\n",
      "[ Info: Arnoldi iteration step 13: normres = 0.04585418047248297\n",
      "[ Info: Arnoldi schursolve in iter 1, krylovdim = 13: 1 values converged, normres = (2.84e-13, 1.75e-10, 1.45e-09, 9.92e-06, 1.46e-03)\n",
      "[ Info: Arnoldi iteration step 14: normres = 0.715819931878204\n",
      "[ Info: Arnoldi schursolve in iter 1, krylovdim = 14: 1 values converged, normres = (1.29e-13, 1.87e-10, 1.95e-09, 7.11e-01, 1.78e-02)\n",
      "[ Info: Arnoldi iteration step 15: normres = 0.11403447616024819\n",
      "[ Info: Arnoldi schursolve in iter 1, krylovdim = 15: 1 values converged, normres = (9.70e-15, 1.20e-10, 7.33e-02, 1.08e-03, 1.92e-05)\n",
      "[ Info: Arnoldi iteration step 16: normres = 0.4326245170635238\n",
      "[ Info: Arnoldi schursolve in iter 1, krylovdim = 16: 1 values converged, normres = (3.76e-15, 3.74e-10, 1.72e-01, 9.09e-03, 3.94e-01)\n",
      "[ Info: Arnoldi iteration step 17: normres = 0.03511852723859574\n",
      "[ Info: Arnoldi schursolve in iter 1, krylovdim = 17: 1 values converged, normres = (6.33e-17, 1.17e-07, 7.97e-03, 1.18e-05, 7.76e-03)\n",
      "[ Info: Arnoldi iteration step 18: normres = 0.019556528477608564\n",
      "[ Info: Arnoldi schursolve in iter 1, krylovdim = 18: 1 values converged, normres = (5.10e-19, 4.84e-08, 1.02e-04, 1.06e-04, 2.80e-05)\n",
      "[ Info: Arnoldi iteration step 19: normres = 0.08288522375392629\n",
      "[ Info: Arnoldi schursolve in iter 1, krylovdim = 19: 1 values converged, normres = (1.75e-20, 3.22e-08, 5.61e-06, 5.96e-08, 6.62e-06)\n",
      "[ Info: Arnoldi iteration step 20: normres = 0.13710914587300538\n",
      "[ Info: Arnoldi schursolve in iter 1, krylovdim = 20: 1 values converged, normres = (1.16e-21, 6.63e-08, 6.62e-07, 7.11e-07, 5.42e-07)\n",
      "[ Info: Arnoldi iteration step 21: normres = 0.032510824397104066\n",
      "[ Info: Arnoldi schursolve in iter 1, krylovdim = 21: 1 values converged, normres = (1.61e-23, 3.72e-09, 1.47e-08, 1.18e-08, 1.93e-08)\n",
      "[ Info: Arnoldi iteration step 22: normres = 0.020423565372618278\n",
      "[ Info: Arnoldi schursolve in iter 1, krylovdim = 22: 1 values converged, normres = (1.35e-25, 8.29e-11, 1.85e-10, 2.38e-10, 2.33e-10)\n",
      "[ Info: Arnoldi iteration step 23: normres = 0.6874520742585447\n",
      "[ Info: Arnoldi schursolve in iter 1, krylovdim = 23: 1 values converged, normres = (4.91e-26, 6.06e-11, 1.28e-10, 1.91e-10, 1.91e-10)\n",
      "[ Info: Arnoldi iteration step 24: normres = 0.021366484583989084\n",
      "[ Info: Arnoldi schursolve in iter 1, krylovdim = 24: 1 values converged, normres = (7.78e-28, 5.84e-12, 1.26e-11, 3.79e-09, 3.58e-09)\n",
      "[ Info: Arnoldi iteration step 25: normres = 0.029679479944348032\n",
      "[ Info: Arnoldi schursolve in iter 1, krylovdim = 25: 3 values converged, normres = (9.46e-30, 1.14e-13, 2.44e-13, 1.42e-08, 7.60e-08)\n",
      "[ Info: Arnoldi iteration step 26: normres = 0.09755035897121779\n",
      "[ Info: Arnoldi schursolve in iter 1, krylovdim = 26: 3 values converged, normres = (4.11e-31, 8.28e-15, 1.78e-14, 9.60e-06, 2.34e-06)\n",
      "[ Info: Arnoldi iteration step 27: normres = 0.026707333718175498\n",
      "[ Info: Arnoldi schursolve in iter 1, krylovdim = 27: 3 values converged, normres = (4.60e-33, 1.50e-16, 3.22e-16, 2.73e-09, 2.29e-09)\n",
      "[ Info: Arnoldi iteration step 28: normres = 0.10475427134656794\n",
      "[ Info: Arnoldi schursolve in iter 1, krylovdim = 28: 3 values converged, normres = (2.08e-34, 1.12e-17, 2.39e-17, 3.15e-08, 1.28e-08)\n",
      "[ Info: Arnoldi iteration step 29: normres = 0.021222759584787972\n",
      "[ Info: Arnoldi schursolve in iter 1, krylovdim = 29: 3 values converged, normres = (1.87e-36, 1.63e-19, 3.50e-19, 4.75e-10, 5.62e-10)\n",
      "[ Info: Arnoldi iteration step 30: normres = 0.20370182411931048\n",
      "[ Info: Arnoldi schursolve in iter 1, krylovdim = 30: 3 values converged, normres = (1.72e-37, 2.53e-20, 5.42e-20, 7.61e-11, 1.02e-10)\n",
      "[ Info: Arnoldi schursolve in iter 2, krylovdim = 19: 3 values converged, normres = (1.72e-37, 2.53e-20, 5.42e-20, 7.61e-11, 1.02e-10)\n",
      "[ Info: Arnoldi iteration step 20: normres = 0.0715100045406942\n",
      "[ Info: Arnoldi schursolve in iter 2, krylovdim = 20: 3 values converged, normres = (5.67e-39, 1.44e-21, 3.09e-21, 4.98e-12, 6.48e-12)\n",
      "[ Info: Arnoldi iteration step 21: normres = 0.05018451195280178\n",
      "┌ Info: Arnoldi eigsolve finished after 2 iterations:\n",
      "│ *  6 eigenvalues converged\n",
      "│ *  norm of residuals = (1.2213086297313478e-40, 5.1237607282006305e-23, 1.2080613544236323e-22, 1.9675291220591337e-13, 2.0677506662606273e-13, 5.11221572489676e-14)\n",
      "└ *  number of operations = 32\n"
     ]
    }
   ],
   "cell_type": "code",
   "source": [
    "eigsolve(eps_fun, randn(size(scfres.ρ)), 5, :LM; eager=true, verbosity=3);"
   ],
   "metadata": {},
   "execution_count": 3
  }
 ],
 "nbformat_minor": 3,
 "metadata": {
  "language_info": {
   "file_extension": ".jl",
   "mimetype": "application/julia",
   "name": "julia",
   "version": "1.8.5"
  },
  "kernelspec": {
   "name": "julia-1.8",
   "display_name": "Julia 1.8.5",
   "language": "julia"
  }
 },
 "nbformat": 4
}
