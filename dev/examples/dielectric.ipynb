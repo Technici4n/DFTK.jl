{
 "cells": [
  {
   "cell_type": "markdown",
   "source": [
    "# Eigenvalues of the dielectric matrix\n",
    "\n",
    "We compute a few eigenvalues of the dielectric matrix ($q=0$, $ω=0$) iteratively."
   ],
   "metadata": {}
  },
  {
   "outputs": [
    {
     "name": "stdout",
     "output_type": "stream",
     "text": [
      "n     Energy            log10(ΔE)   log10(Δρ)   Diag\n",
      "---   ---------------   ---------   ---------   ----\n",
      "  1   -7.233752463096                   -0.50    8.0\n",
      "  2   -7.249722956985       -1.80       -1.37    1.0\n",
      "  3   -7.249919394734       -3.71       -1.56    4.0\n",
      "  4   -7.251031475472       -2.95       -1.91    2.0\n",
      "  5   -7.251315711854       -3.55       -2.40    2.0\n",
      "  6   -7.251338289206       -4.65       -3.24    1.0\n",
      "  7   -7.251338694277       -6.39       -3.56    3.0\n",
      "  8   -7.251338795595       -6.99       -4.21    3.0\n",
      "  9   -7.251338798521       -8.53       -4.86    3.0\n",
      " 10   -7.251338798679       -9.80       -5.29    3.0\n",
      " 11   -7.251338798697      -10.75       -5.62    3.0\n",
      " 12   -7.251338798704      -11.13       -6.48    3.0\n",
      " 13   -7.251338798705      -12.85       -6.91    3.0\n",
      " 14   -7.251338798705      -13.85       -7.35    2.0\n",
      " 15   -7.251338798705   +    -Inf       -7.90    1.0\n"
     ]
    }
   ],
   "cell_type": "code",
   "source": [
    "using DFTK\n",
    "using Plots\n",
    "using KrylovKit\n",
    "using Printf\n",
    "\n",
    "# Calculation parameters\n",
    "kgrid = [1, 1, 1]\n",
    "Ecut = 5\n",
    "\n",
    "# Silicon lattice\n",
    "a = 10.26\n",
    "lattice = a / 2 .* [[0 1 1.]; [1 0 1.]; [1 1 0.]]\n",
    "Si = ElementPsp(:Si, psp=load_psp(\"hgh/lda/Si-q4\"))\n",
    "atoms     = [Si, Si]\n",
    "positions = [ones(3)/8, -ones(3)/8]\n",
    "\n",
    "# Compute the dielectric operator without symmetries\n",
    "model = model_LDA(lattice, atoms, positions, symmetries=false)\n",
    "basis = PlaneWaveBasis(model; Ecut, kgrid)\n",
    "scfres = self_consistent_field(basis, tol=1e-14);"
   ],
   "metadata": {},
   "execution_count": 1
  },
  {
   "cell_type": "markdown",
   "source": [
    "Applying $ε^† ≔ (1- χ_0 K)$ …"
   ],
   "metadata": {}
  },
  {
   "outputs": [],
   "cell_type": "code",
   "source": [
    "function eps_fun(δρ)\n",
    "    δV = apply_kernel(basis, δρ; ρ=scfres.ρ)\n",
    "    χ0δV = apply_χ0(scfres, δV)\n",
    "    δρ - χ0δV\n",
    "end;"
   ],
   "metadata": {},
   "execution_count": 2
  },
  {
   "cell_type": "markdown",
   "source": [
    "… eagerly diagonalizes the subspace matrix at each iteration"
   ],
   "metadata": {}
  },
  {
   "outputs": [
    {
     "name": "stdout",
     "output_type": "stream",
     "text": [
      "[ Info: Arnoldi iteration step 1: normres = 0.04738517206029606\n",
      "[ Info: Arnoldi iteration step 2: normres = 0.5376036025176781\n",
      "[ Info: Arnoldi iteration step 3: normres = 0.8838495302316605\n",
      "[ Info: Arnoldi iteration step 4: normres = 0.39317957050384494\n",
      "[ Info: Arnoldi iteration step 5: normres = 0.4235838251171594\n",
      "[ Info: Arnoldi schursolve in iter 1, krylovdim = 5: 0 values converged, normres = (5.73e-02, 7.04e-02, 3.29e-01, 2.50e-01, 1.44e-02)\n",
      "[ Info: Arnoldi iteration step 6: normres = 0.37992368237628604\n",
      "[ Info: Arnoldi schursolve in iter 1, krylovdim = 6: 0 values converged, normres = (1.82e-02, 1.22e-01, 3.23e-01, 1.26e-01, 8.50e-02)\n",
      "[ Info: Arnoldi iteration step 7: normres = 0.07222892439305195\n",
      "[ Info: Arnoldi schursolve in iter 1, krylovdim = 7: 0 values converged, normres = (6.47e-04, 1.07e-02, 1.86e-02, 3.16e-02, 5.34e-02)\n",
      "[ Info: Arnoldi iteration step 8: normres = 0.1078671612355406\n",
      "[ Info: Arnoldi schursolve in iter 1, krylovdim = 8: 0 values converged, normres = (3.06e-05, 8.37e-04, 1.62e-03, 1.23e-02, 6.15e-02)\n",
      "[ Info: Arnoldi iteration step 9: normres = 0.08528172172247829\n",
      "[ Info: Arnoldi schursolve in iter 1, krylovdim = 9: 0 values converged, normres = (1.13e-06, 5.12e-05, 1.10e-04, 3.97e-03, 4.21e-02)\n",
      "[ Info: Arnoldi iteration step 10: normres = 0.068036629572419\n",
      "[ Info: Arnoldi schursolve in iter 1, krylovdim = 10: 0 values converged, normres = (3.36e-08, 2.52e-06, 6.04e-06, 9.65e-04, 2.08e-02)\n",
      "[ Info: Arnoldi iteration step 11: normres = 0.08447813886275059\n",
      "[ Info: Arnoldi schursolve in iter 1, krylovdim = 11: 0 values converged, normres = (1.22e-09, 1.50e-07, 3.98e-07, 2.55e-04, 1.08e-02)\n",
      "[ Info: Arnoldi iteration step 12: normres = 0.08718576118401085\n",
      "[ Info: Arnoldi schursolve in iter 1, krylovdim = 12: 0 values converged, normres = (4.63e-11, 9.41e-09, 2.78e-08, 7.82e-05, 7.79e-03)\n",
      "[ Info: Arnoldi iteration step 13: normres = 0.03605118449640919\n",
      "[ Info: Arnoldi schursolve in iter 1, krylovdim = 13: 1 values converged, normres = (7.04e-13, 2.32e-10, 7.59e-10, 8.02e-06, 1.65e-03)\n",
      "[ Info: Arnoldi iteration step 14: normres = 0.5717376084962281\n",
      "[ Info: Arnoldi schursolve in iter 1, krylovdim = 14: 1 values converged, normres = (1.91e-13, 1.11e-10, 4.09e-10, 4.17e-05, 5.40e-01)\n",
      "[ Info: Arnoldi iteration step 15: normres = 0.06048197237851546\n",
      "[ Info: Arnoldi schursolve in iter 1, krylovdim = 15: 1 values converged, normres = (9.57e-15, 3.83e-11, 3.93e-02, 3.42e-02, 1.33e-05)\n",
      "[ Info: Arnoldi iteration step 16: normres = 0.6525555536951511\n",
      "[ Info: Arnoldi schursolve in iter 1, krylovdim = 16: 1 values converged, normres = (3.06e-15, 2.26e-11, 3.35e-02, 3.55e-03, 7.07e-06)\n",
      "[ Info: Arnoldi iteration step 17: normres = 0.06319981952837603\n",
      "[ Info: Arnoldi schursolve in iter 1, krylovdim = 17: 1 values converged, normres = (1.80e-16, 6.00e-10, 5.39e-02, 1.03e-02, 2.21e-03)\n",
      "[ Info: Arnoldi iteration step 18: normres = 0.017442185752716933\n",
      "[ Info: Arnoldi schursolve in iter 1, krylovdim = 18: 1 values converged, normres = (1.29e-18, 5.68e-10, 6.18e-04, 1.79e-07, 1.45e-04)\n",
      "[ Info: Arnoldi iteration step 19: normres = 0.03433381295928099\n",
      "[ Info: Arnoldi schursolve in iter 1, krylovdim = 19: 1 values converged, normres = (1.83e-20, 1.85e-06, 1.38e-05, 1.30e-06, 3.35e-06)\n",
      "[ Info: Arnoldi iteration step 20: normres = 0.19485116048769185\n",
      "[ Info: Arnoldi schursolve in iter 1, krylovdim = 20: 1 values converged, normres = (1.57e-21, 7.11e-09, 1.99e-06, 3.37e-08, 5.74e-07)\n",
      "[ Info: Arnoldi iteration step 21: normres = 0.04951894779865781\n",
      "[ Info: Arnoldi schursolve in iter 1, krylovdim = 21: 1 values converged, normres = (3.67e-23, 6.11e-10, 8.21e-08, 2.50e-08, 9.84e-09)\n",
      "[ Info: Arnoldi iteration step 22: normres = 0.017312232766048322\n",
      "[ Info: Arnoldi schursolve in iter 1, krylovdim = 22: 1 values converged, normres = (2.62e-25, 1.65e-11, 9.38e-10, 3.24e-10, 9.63e-11)\n",
      "[ Info: Arnoldi iteration step 23: normres = 0.29783923917073646\n",
      "[ Info: Arnoldi schursolve in iter 1, krylovdim = 23: 1 values converged, normres = (3.29e-26, 3.26e-12, 1.90e-10, 7.30e-11, 2.02e-11)\n",
      "[ Info: Arnoldi iteration step 24: normres = 0.05501431605285878\n",
      "[ Info: Arnoldi schursolve in iter 1, krylovdim = 24: 1 values converged, normres = (1.68e-27, 1.20e-12, 7.02e-11, 1.31e-09, 1.80e-10)\n",
      "[ Info: Arnoldi iteration step 25: normres = 0.10110029922901072\n",
      "[ Info: Arnoldi schursolve in iter 1, krylovdim = 25: 2 values converged, normres = (7.09e-29, 8.32e-14, 4.86e-12, 6.80e-09, 2.81e-09)\n",
      "[ Info: Arnoldi iteration step 26: normres = 0.03129500960812926\n",
      "[ Info: Arnoldi schursolve in iter 1, krylovdim = 26: 3 values converged, normres = (9.92e-31, 1.96e-15, 1.14e-13, 3.30e-05, 5.11e-05)\n",
      "[ Info: Arnoldi iteration step 27: normres = 0.06401617679389049\n",
      "[ Info: Arnoldi schursolve in iter 1, krylovdim = 27: 3 values converged, normres = (2.63e-32, 8.32e-17, 4.86e-15, 4.15e-06, 5.27e-07)\n",
      "[ Info: Arnoldi iteration step 28: normres = 0.04653089225682561\n",
      "[ Info: Arnoldi schursolve in iter 1, krylovdim = 28: 3 values converged, normres = (5.40e-34, 2.85e-18, 1.67e-16, 6.29e-08, 1.42e-07)\n",
      "[ Info: Arnoldi iteration step 29: normres = 0.01509950064065966\n",
      "[ Info: Arnoldi schursolve in iter 1, krylovdim = 29: 3 values converged, normres = (3.36e-36, 2.83e-20, 1.65e-18, 1.84e-09, 9.21e-10)\n",
      "[ Info: Arnoldi iteration step 30: normres = 0.1488659746371268\n",
      "[ Info: Arnoldi schursolve in iter 1, krylovdim = 30: 3 values converged, normres = (2.15e-37, 2.97e-21, 1.73e-19, 2.13e-10, 1.08e-10)\n",
      "[ Info: Arnoldi schursolve in iter 2, krylovdim = 19: 3 values converged, normres = (2.15e-37, 2.97e-21, 1.73e-19, 2.13e-10, 1.08e-10)\n",
      "[ Info: Arnoldi iteration step 20: normres = 0.1278152068009576\n",
      "[ Info: Arnoldi schursolve in iter 2, krylovdim = 20: 3 values converged, normres = (1.29e-38, 3.14e-22, 1.83e-20, 2.55e-11, 1.30e-11)\n",
      "[ Info: Arnoldi iteration step 21: normres = 0.04474265772884372\n",
      "┌ Info: Arnoldi eigsolve finished after 2 iterations:\n",
      "│ *  6 eigenvalues converged\n",
      "│ *  norm of residuals = (2.5624672976654328e-40, 1.0422806696130138e-23, 5.992099411950289e-22, 9.485152112617986e-13, 1.8198858502111914e-13, 4.8018183970830845e-14)\n",
      "└ *  number of operations = 32\n"
     ]
    }
   ],
   "cell_type": "code",
   "source": [
    "eigsolve(eps_fun, randn(size(scfres.ρ)), 5, :LM; eager=true, verbosity=3);"
   ],
   "metadata": {},
   "execution_count": 3
  }
 ],
 "nbformat_minor": 3,
 "metadata": {
  "language_info": {
   "file_extension": ".jl",
   "mimetype": "application/julia",
   "name": "julia",
   "version": "1.8.3"
  },
  "kernelspec": {
   "name": "julia-1.8",
   "display_name": "Julia 1.8.3",
   "language": "julia"
  }
 },
 "nbformat": 4
}
