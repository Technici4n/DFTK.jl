{
 "cells": [
  {
   "cell_type": "markdown",
   "source": [
    "# Comparison of DFT solvers"
   ],
   "metadata": {}
  },
  {
   "cell_type": "markdown",
   "source": [
    "We compare four different approaches for solving the DFT minimisation problem,\n",
    "namely a density-based SCF, a potential-based SCF, direct minimisation and Newton."
   ],
   "metadata": {}
  },
  {
   "cell_type": "markdown",
   "source": [
    "First we setup our problem"
   ],
   "metadata": {}
  },
  {
   "outputs": [],
   "cell_type": "code",
   "source": [
    "using DFTK\n",
    "using LinearAlgebra\n",
    "\n",
    "a = 10.26  # Silicon lattice constant in Bohr\n",
    "lattice = a / 2 * [[0 1 1.];\n",
    "                   [1 0 1.];\n",
    "                   [1 1 0.]]\n",
    "Si = ElementPsp(:Si, psp=load_psp(\"hgh/lda/Si-q4\"))\n",
    "atoms     = [Si, Si]\n",
    "positions = [ones(3)/8, -ones(3)/8]\n",
    "\n",
    "model = model_LDA(lattice, atoms, positions)\n",
    "basis = PlaneWaveBasis(model; Ecut=5, kgrid=[3, 3, 3])\n",
    "\n",
    "# Convergence we desire\n",
    "tol = 1e-12\n",
    "is_converged = DFTK.ScfConvergenceDensity(tol);"
   ],
   "metadata": {},
   "execution_count": 1
  },
  {
   "cell_type": "markdown",
   "source": [
    "## Density-based self-consistent field"
   ],
   "metadata": {}
  },
  {
   "outputs": [
    {
     "name": "stdout",
     "output_type": "stream",
     "text": [
      "n     Energy            log10(ΔE)   log10(Δρ)   Diag\n",
      "---   ---------------   ---------   ---------   ----\n",
      "  1   -7.846864831980                   -0.70    4.8\n",
      "  2   -7.852320476563       -2.26       -1.53    1.0\n",
      "  3   -7.852646211684       -3.49       -2.52    3.2\n",
      "  4   -7.852646677188       -6.33       -3.37    2.2\n",
      "  5   -7.852646686310       -8.04       -4.65    1.5\n",
      "  6   -7.852646686728       -9.38       -5.61    3.0\n",
      "  7   -7.852646686730      -11.79       -6.33    1.5\n",
      "  8   -7.852646686730      -13.26       -7.46    2.0\n",
      "  9   -7.852646686730      -14.45       -8.13    2.2\n",
      " 10   -7.852646686730   +    -Inf       -9.01    2.2\n",
      " 11   -7.852646686730   +  -14.75       -9.74    2.2\n",
      " 12   -7.852646686730      -14.75      -10.87    2.5\n",
      " 13   -7.852646686730   +  -14.75      -11.61    3.0\n",
      " 14   -7.852646686730   +    -Inf      -12.61    1.0\n"
     ]
    }
   ],
   "cell_type": "code",
   "source": [
    "scfres_scf = self_consistent_field(basis; is_converged);"
   ],
   "metadata": {},
   "execution_count": 2
  },
  {
   "cell_type": "markdown",
   "source": [
    "## Potential-based SCF"
   ],
   "metadata": {}
  },
  {
   "outputs": [
    {
     "name": "stdout",
     "output_type": "stream",
     "text": [
      "n     Energy            log10(ΔE)   log10(Δρ)   α      Diag\n",
      "---   ---------------   ---------   ---------   ----   ----\n",
      "  1   -7.846903922259                   -0.70           4.8\n",
      "  2   -7.852526362818       -2.25       -1.64   0.80    2.0\n",
      "  3   -7.852636124149       -3.96       -2.73   0.80    1.0\n",
      "  4   -7.852646501450       -4.98       -3.24   0.80    2.0\n",
      "  5   -7.852646673454       -6.76       -4.08   0.80    1.0\n",
      "  6   -7.852646686374       -7.89       -4.80   0.80    1.8\n",
      "  7   -7.852646686725       -9.45       -5.53   0.80    1.8\n",
      "  8   -7.852646686729      -11.34       -6.89   0.80    1.5\n",
      "  9   -7.852646686730      -12.33       -7.02   0.80    3.0\n",
      " 10   -7.852646686730   +  -15.05       -7.81   0.80    1.0\n",
      " 11   -7.852646686730   +    -Inf       -8.97   0.80    1.2\n",
      " 12   -7.852646686730      -15.05       -9.30   0.80    2.5\n",
      " 13   -7.852646686730   +    -Inf       -9.70   0.80    1.0\n",
      " 14   -7.852646686730   +    -Inf      -10.77   0.80    1.2\n",
      " 15   -7.852646686730      -14.75      -11.28   0.80    2.2\n",
      " 16   -7.852646686730   +  -14.75      -11.44   0.80    2.0\n",
      " 17   -7.852646686730   +  -15.05      -12.59   0.80    1.0\n"
     ]
    }
   ],
   "cell_type": "code",
   "source": [
    "scfres_scfv = DFTK.scf_potential_mixing(basis; is_converged);"
   ],
   "metadata": {},
   "execution_count": 3
  },
  {
   "cell_type": "markdown",
   "source": [
    "## Direct minimization"
   ],
   "metadata": {}
  },
  {
   "outputs": [
    {
     "name": "stdout",
     "output_type": "stream",
     "text": [
      "Iter     Function value   Gradient norm \n",
      "     0     1.395722e+01     3.357735e+00\n",
      " * time: 0.38953709602355957\n",
      "     1     1.224852e+00     1.712618e+00\n",
      " * time: 0.5931251049041748\n",
      "     2    -1.580323e+00     1.925210e+00\n",
      " * time: 0.6158449649810791\n",
      "     3    -3.638169e+00     1.741070e+00\n",
      " * time: 0.6482610702514648\n",
      "     4    -4.767823e+00     1.633621e+00\n",
      " * time: 0.6804769039154053\n",
      "     5    -6.550105e+00     1.101609e+00\n",
      " * time: 0.7129080295562744\n",
      "     6    -7.262372e+00     6.798549e-01\n",
      " * time: 0.7456309795379639\n",
      "     7    -7.558813e+00     4.725440e-01\n",
      " * time: 0.7683501243591309\n",
      "     8    -7.671351e+00     1.509780e-01\n",
      " * time: 0.7910919189453125\n",
      "     9    -7.763530e+00     2.172366e-01\n",
      " * time: 0.8139231204986572\n",
      "    10    -7.809558e+00     6.580967e-02\n",
      " * time: 0.8366289138793945\n",
      "    11    -7.828410e+00     6.342906e-02\n",
      " * time: 0.8593940734863281\n",
      "    12    -7.840512e+00     5.914150e-02\n",
      " * time: 0.8822081089019775\n",
      "    13    -7.845868e+00     5.154915e-02\n",
      " * time: 0.904932975769043\n",
      "    14    -7.849215e+00     3.500103e-02\n",
      " * time: 0.9275670051574707\n",
      "    15    -7.851160e+00     1.583539e-02\n",
      " * time: 0.950221061706543\n",
      "    16    -7.852121e+00     1.073441e-02\n",
      " * time: 0.9727599620819092\n",
      "    17    -7.852493e+00     6.614208e-03\n",
      " * time: 0.9951839447021484\n",
      "    18    -7.852593e+00     3.497171e-03\n",
      " * time: 1.0176661014556885\n",
      "    19    -7.852622e+00     2.370350e-03\n",
      " * time: 1.040276050567627\n",
      "    20    -7.852637e+00     1.504433e-03\n",
      " * time: 1.0627450942993164\n",
      "    21    -7.852644e+00     9.854459e-04\n",
      " * time: 1.0852839946746826\n",
      "    22    -7.852646e+00     4.502362e-04\n",
      " * time: 1.1078400611877441\n",
      "    23    -7.852646e+00     2.824470e-04\n",
      " * time: 1.1302621364593506\n",
      "    24    -7.852647e+00     1.694459e-04\n",
      " * time: 1.1527400016784668\n",
      "    25    -7.852647e+00     8.527453e-05\n",
      " * time: 1.175300121307373\n",
      "    26    -7.852647e+00     6.717571e-05\n",
      " * time: 1.1977729797363281\n",
      "    27    -7.852647e+00     3.305574e-05\n",
      " * time: 1.2202649116516113\n",
      "    28    -7.852647e+00     1.532178e-05\n",
      " * time: 1.242854118347168\n",
      "    29    -7.852647e+00     1.127586e-05\n",
      " * time: 1.2653350830078125\n",
      "    30    -7.852647e+00     7.484563e-06\n",
      " * time: 1.2878210544586182\n",
      "    31    -7.852647e+00     3.891245e-06\n",
      " * time: 1.310434103012085\n",
      "    32    -7.852647e+00     2.024651e-06\n",
      " * time: 1.3328731060028076\n",
      "    33    -7.852647e+00     9.221083e-07\n",
      " * time: 1.3554160594940186\n",
      "    34    -7.852647e+00     4.663350e-07\n",
      " * time: 1.378026008605957\n",
      "    35    -7.852647e+00     2.200194e-07\n",
      " * time: 1.4005060195922852\n",
      "    36    -7.852647e+00     1.633081e-07\n",
      " * time: 1.4229960441589355\n",
      "    37    -7.852647e+00     1.261863e-07\n",
      " * time: 1.4456639289855957\n",
      "    38    -7.852647e+00     9.259032e-08\n",
      " * time: 1.4681909084320068\n",
      "    39    -7.852647e+00     5.053137e-08\n",
      " * time: 1.4906749725341797\n",
      "    40    -7.852647e+00     2.402650e-08\n",
      " * time: 1.5133020877838135\n",
      "    41    -7.852647e+00     1.503276e-08\n",
      " * time: 1.5357060432434082\n",
      "    42    -7.852647e+00     1.302677e-08\n",
      " * time: 1.5680689811706543\n",
      "    43    -7.852647e+00     5.257173e-09\n",
      " * time: 1.5906319618225098\n"
     ]
    }
   ],
   "cell_type": "code",
   "source": [
    "scfres_dm = direct_minimization(basis; tol);"
   ],
   "metadata": {},
   "execution_count": 4
  },
  {
   "cell_type": "markdown",
   "source": [
    "## Newton algorithm"
   ],
   "metadata": {}
  },
  {
   "cell_type": "markdown",
   "source": [
    "Start not too far from the solution to ensure convergence:\n",
    "We run first a very crude SCF to get close and then switch to Newton."
   ],
   "metadata": {}
  },
  {
   "outputs": [
    {
     "name": "stdout",
     "output_type": "stream",
     "text": [
      "n     Energy            log10(ΔE)   log10(Δρ)   Diag\n",
      "---   ---------------   ---------   ---------   ----\n",
      "  1   -7.846690036403                   -0.70    4.8\n",
      "  2   -7.852292936525       -2.25       -1.53    1.0\n"
     ]
    }
   ],
   "cell_type": "code",
   "source": [
    "scfres_start = self_consistent_field(basis; tol=1e-1);"
   ],
   "metadata": {},
   "execution_count": 5
  },
  {
   "cell_type": "markdown",
   "source": [
    "Remove the virtual orbitals (which Newton cannot treat yet)"
   ],
   "metadata": {}
  },
  {
   "outputs": [
    {
     "name": "stdout",
     "output_type": "stream",
     "text": [
      "n     Energy            log10(ΔE)   log10(Δρ)\n",
      "---   ---------------   ---------   ---------\n",
      "  1   -7.852646686709                   -2.54\n",
      "  2   -7.852646686730      -10.69       -5.94\n",
      "  3   -7.852646686730      -14.35      -12.67\n"
     ]
    }
   ],
   "cell_type": "code",
   "source": [
    "ψ, _ = DFTK.select_occupied_orbitals(basis, scfres_start.ψ, scfres_start.occupation)\n",
    "scfres_newton = newton(basis, ψ; tol);"
   ],
   "metadata": {},
   "execution_count": 6
  },
  {
   "cell_type": "markdown",
   "source": [
    "## Comparison of results"
   ],
   "metadata": {}
  },
  {
   "outputs": [
    {
     "name": "stdout",
     "output_type": "stream",
     "text": [
      "|ρ_newton - ρ_scf|  = 1.0436706273505455e-13\n",
      "|ρ_newton - ρ_scfv| = 9.003532055925759e-13\n",
      "|ρ_newton - ρ_dm|   = 8.757682192825914e-10\n"
     ]
    }
   ],
   "cell_type": "code",
   "source": [
    "println(\"|ρ_newton - ρ_scf|  = \", norm(scfres_newton.ρ - scfres_scf.ρ))\n",
    "println(\"|ρ_newton - ρ_scfv| = \", norm(scfres_newton.ρ - scfres_scfv.ρ))\n",
    "println(\"|ρ_newton - ρ_dm|   = \", norm(scfres_newton.ρ - scfres_dm.ρ))"
   ],
   "metadata": {},
   "execution_count": 7
  }
 ],
 "nbformat_minor": 3,
 "metadata": {
  "language_info": {
   "file_extension": ".jl",
   "mimetype": "application/julia",
   "name": "julia",
   "version": "1.8.2"
  },
  "kernelspec": {
   "name": "julia-1.8",
   "display_name": "Julia 1.8.2",
   "language": "julia"
  }
 },
 "nbformat": 4
}
