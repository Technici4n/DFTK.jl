{
 "cells": [
  {
   "cell_type": "markdown",
   "source": [
    "# Eigenvalues of the dielectric matrix\n",
    "\n",
    "We compute a few eigenvalues of the dielectric matrix ($q=0$, $ω=0$) iteratively."
   ],
   "metadata": {}
  },
  {
   "outputs": [
    {
     "name": "stdout",
     "output_type": "stream",
     "text": [
      "n     Energy            log10(ΔE)   log10(Δρ)   Diag\n",
      "---   ---------------   ---------   ---------   ----\n",
      "  1   -7.233451815690                   -0.50    7.0\n",
      "  2   -7.250039144151       -1.78       -1.40    1.0\n",
      "  3   -7.251272968470       -2.91       -2.02    4.0\n",
      "  4   -7.251195533226   +   -4.11       -2.07    4.0\n",
      "  5   -7.251319866886       -3.91       -2.53    3.0\n",
      "  6   -7.251336766768       -4.77       -2.96    3.0\n",
      "  7   -7.251338777086       -5.70       -3.98    2.0\n",
      "  8   -7.251338791719       -7.83       -4.13    4.0\n",
      "  9   -7.251338798570       -8.16       -4.86    3.0\n",
      " 10   -7.251338798685       -9.94       -5.37    3.0\n",
      " 11   -7.251338798702      -10.78       -5.86    3.0\n",
      " 12   -7.251338798704      -11.62       -6.40    2.0\n",
      " 13   -7.251338798705      -12.90       -7.07    3.0\n",
      " 14   -7.251338798705      -14.35       -7.40    2.0\n"
     ]
    }
   ],
   "cell_type": "code",
   "source": [
    "using DFTK\n",
    "using Plots\n",
    "using KrylovKit\n",
    "using Printf\n",
    "\n",
    "# Calculation parameters\n",
    "kgrid = [1, 1, 1]\n",
    "Ecut = 5\n",
    "\n",
    "# Silicon lattice\n",
    "a = 10.26\n",
    "lattice = a / 2 .* [[0 1 1.]; [1 0 1.]; [1 1 0.]]\n",
    "Si = ElementPsp(:Si, psp=load_psp(\"hgh/lda/Si-q4\"))\n",
    "atoms     = [Si, Si]\n",
    "positions = [ones(3)/8, -ones(3)/8]\n",
    "\n",
    "# Compute the dielectric operator without symmetries\n",
    "model = model_LDA(lattice, atoms, positions, symmetries=false)\n",
    "basis = PlaneWaveBasis(model; Ecut, kgrid)\n",
    "scfres = self_consistent_field(basis, tol=1e-14);"
   ],
   "metadata": {},
   "execution_count": 1
  },
  {
   "cell_type": "markdown",
   "source": [
    "Applying $ε^† ≔ (1- χ_0 K)$ …"
   ],
   "metadata": {}
  },
  {
   "outputs": [],
   "cell_type": "code",
   "source": [
    "function eps_fun(δρ)\n",
    "    δV = apply_kernel(basis, δρ; ρ=scfres.ρ)\n",
    "    χ0δV = apply_χ0(scfres, δV)\n",
    "    δρ - χ0δV\n",
    "end;"
   ],
   "metadata": {},
   "execution_count": 2
  },
  {
   "cell_type": "markdown",
   "source": [
    "… eagerly diagonalizes the subspace matrix at each iteration"
   ],
   "metadata": {}
  },
  {
   "outputs": [
    {
     "name": "stdout",
     "output_type": "stream",
     "text": [
      "[ Info: Arnoldi iteration step 1: normres = 0.05761833890173986\n",
      "[ Info: Arnoldi iteration step 2: normres = 0.4263062033783244\n",
      "[ Info: Arnoldi iteration step 3: normres = 0.9607306557542182\n",
      "[ Info: Arnoldi iteration step 4: normres = 0.2987324446826641\n",
      "[ Info: Arnoldi iteration step 5: normres = 0.15391002859448014\n",
      "[ Info: Arnoldi schursolve in iter 1, krylovdim = 5: 0 values converged, normres = (1.44e-02, 1.45e-02, 9.07e-02, 1.07e-01, 6.00e-02)\n",
      "[ Info: Arnoldi iteration step 6: normres = 0.5626718718964424\n",
      "[ Info: Arnoldi schursolve in iter 1, krylovdim = 6: 0 values converged, normres = (4.47e-03, 1.07e-02, 5.25e-01, 1.83e-01, 3.66e-02)\n",
      "[ Info: Arnoldi iteration step 7: normres = 0.18511465949893796\n",
      "[ Info: Arnoldi schursolve in iter 1, krylovdim = 7: 0 values converged, normres = (7.45e-04, 1.55e-01, 1.79e-02, 4.84e-02, 8.17e-02)\n",
      "[ Info: Arnoldi iteration step 8: normres = 0.09363385866780242\n",
      "[ Info: Arnoldi schursolve in iter 1, krylovdim = 8: 0 values converged, normres = (3.10e-05, 1.06e-02, 7.20e-04, 1.61e-02, 4.28e-02)\n",
      "[ Info: Arnoldi iteration step 9: normres = 0.060438041556092365\n",
      "[ Info: Arnoldi schursolve in iter 1, krylovdim = 9: 0 values converged, normres = (7.99e-07, 4.45e-04, 3.38e-05, 3.02e-03, 1.43e-02)\n",
      "[ Info: Arnoldi iteration step 10: normres = 0.067534814035531\n",
      "[ Info: Arnoldi schursolve in iter 1, krylovdim = 10: 0 values converged, normres = (2.32e-08, 2.11e-05, 1.78e-06, 6.26e-04, 5.49e-03)\n",
      "[ Info: Arnoldi iteration step 11: normres = 0.06491842355523411\n",
      "[ Info: Arnoldi schursolve in iter 1, krylovdim = 11: 0 values converged, normres = (6.41e-10, 9.54e-07, 8.89e-08, 1.20e-04, 1.95e-03)\n",
      "[ Info: Arnoldi iteration step 12: normres = 0.10433484101206508\n",
      "[ Info: Arnoldi schursolve in iter 1, krylovdim = 12: 0 values converged, normres = (2.85e-11, 6.90e-08, 7.11e-09, 3.60e-05, 1.07e-03)\n",
      "[ Info: Arnoldi iteration step 13: normres = 0.46129464916864843\n",
      "[ Info: Arnoldi schursolve in iter 1, krylovdim = 13: 0 values converged, normres = (6.39e-12, 2.78e-08, 3.26e-09, 5.17e-04, 4.31e-01)\n",
      "[ Info: Arnoldi iteration step 14: normres = 0.11680274452187828\n",
      "[ Info: Arnoldi schursolve in iter 1, krylovdim = 14: 1 values converged, normres = (6.38e-13, 1.80e-08, 2.46e-08, 1.06e-01, 2.36e-04)\n",
      "[ Info: Arnoldi iteration step 15: normres = 0.053566921336429464\n",
      "[ Info: Arnoldi schursolve in iter 1, krylovdim = 15: 1 values converged, normres = (1.42e-14, 6.90e-10, 4.06e-03, 7.16e-04, 1.20e-06)\n",
      "[ Info: Arnoldi iteration step 16: normres = 0.6167631189790279\n",
      "[ Info: Arnoldi schursolve in iter 1, krylovdim = 16: 1 values converged, normres = (7.19e-15, 1.35e-09, 1.88e-07, 1.46e-02, 6.16e-01)\n",
      "[ Info: Arnoldi iteration step 17: normres = 0.03922346278805374\n",
      "[ Info: Arnoldi schursolve in iter 1, krylovdim = 17: 1 values converged, normres = (1.57e-16, 2.63e-08, 1.80e-02, 5.72e-07, 5.36e-04)\n",
      "[ Info: Arnoldi iteration step 18: normres = 0.023136795356665473\n",
      "[ Info: Arnoldi schursolve in iter 1, krylovdim = 18: 1 values converged, normres = (1.50e-18, 3.31e-07, 2.75e-04, 8.01e-08, 8.81e-06)\n",
      "[ Info: Arnoldi iteration step 19: normres = 0.10389653998640508\n",
      "[ Info: Arnoldi schursolve in iter 1, krylovdim = 19: 1 values converged, normres = (6.48e-20, 8.53e-06, 1.69e-05, 2.67e-07, 6.12e-07)\n",
      "[ Info: Arnoldi iteration step 20: normres = 0.10635769894238348\n",
      "[ Info: Arnoldi schursolve in iter 1, krylovdim = 20: 1 values converged, normres = (3.38e-21, 5.27e-07, 1.71e-06, 4.07e-08, 5.91e-08)\n",
      "[ Info: Arnoldi iteration step 21: normres = 0.051948232290704416\n",
      "[ Info: Arnoldi schursolve in iter 1, krylovdim = 21: 1 values converged, normres = (7.39e-23, 6.29e-08, 8.17e-09, 1.40e-09, 2.45e-09)\n",
      "[ Info: Arnoldi iteration step 22: normres = 0.603875431480832\n",
      "[ Info: Arnoldi schursolve in iter 1, krylovdim = 22: 1 values converged, normres = (3.10e-23, 7.12e-08, 1.07e-08, 2.31e-09, 3.69e-09)\n",
      "[ Info: Arnoldi iteration step 23: normres = 0.01783380609885715\n",
      "[ Info: Arnoldi schursolve in iter 1, krylovdim = 23: 1 values converged, normres = (3.13e-25, 3.16e-09, 6.00e-10, 3.71e-03, 9.64e-04)\n",
      "[ Info: Arnoldi iteration step 24: normres = 0.013547789998319444\n",
      "[ Info: Arnoldi schursolve in iter 1, krylovdim = 24: 1 values converged, normres = (1.74e-27, 2.80e-11, 4.65e-12, 6.02e-06, 5.58e-05)\n",
      "[ Info: Arnoldi iteration step 25: normres = 0.05509556595449836\n",
      "[ Info: Arnoldi schursolve in iter 1, krylovdim = 25: 1 values converged, normres = (3.94e-29, 1.01e-12, 1.68e-13, 2.56e-06, 1.97e-06)\n",
      "[ Info: Arnoldi iteration step 26: normres = 0.0644985904559901\n",
      "[ Info: Arnoldi schursolve in iter 1, krylovdim = 26: 3 values converged, normres = (1.14e-30, 4.95e-14, 8.24e-15, 4.74e-08, 9.84e-08)\n",
      "[ Info: Arnoldi iteration step 27: normres = 0.04393060563654943\n",
      "[ Info: Arnoldi schursolve in iter 1, krylovdim = 27: 3 values converged, normres = (2.08e-32, 1.45e-15, 2.41e-16, 9.15e-10, 3.21e-09)\n",
      "[ Info: Arnoldi iteration step 28: normres = 0.06609246554689495\n",
      "[ Info: Arnoldi schursolve in iter 1, krylovdim = 28: 3 values converged, normres = (6.05e-34, 7.00e-17, 1.17e-17, 5.27e-11, 1.85e-10)\n",
      "[ Info: Arnoldi iteration step 29: normres = 0.01584948655718685\n",
      "[ Info: Arnoldi schursolve in iter 1, krylovdim = 29: 4 values converged, normres = (3.98e-36, 7.38e-19, 1.23e-19, 6.14e-13, 2.17e-12)\n",
      "[ Info: Arnoldi iteration step 30: normres = 0.1959747695594041\n",
      "┌ Info: Arnoldi eigsolve finished after 1 iterations:\n",
      "│ *  6 eigenvalues converged\n",
      "│ *  norm of residuals = (3.3877545258886416e-37, 1.0363057995664284e-19, 2.5371381202269463e-20, 9.578072502605986e-14, 3.4599383805408784e-13, 5.18810039167233e-13)\n",
      "└ *  number of operations = 30\n"
     ]
    }
   ],
   "cell_type": "code",
   "source": [
    "eigsolve(eps_fun, randn(size(scfres.ρ)), 5, :LM; eager=true, verbosity=3);"
   ],
   "metadata": {},
   "execution_count": 3
  }
 ],
 "nbformat_minor": 3,
 "metadata": {
  "language_info": {
   "file_extension": ".jl",
   "mimetype": "application/julia",
   "name": "julia",
   "version": "1.8.2"
  },
  "kernelspec": {
   "name": "julia-1.8",
   "display_name": "Julia 1.8.2",
   "language": "julia"
  }
 },
 "nbformat": 4
}
