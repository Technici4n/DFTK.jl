{
 "cells": [
  {
   "cell_type": "markdown",
   "source": [
    "# Comparison of DFT solvers"
   ],
   "metadata": {}
  },
  {
   "cell_type": "markdown",
   "source": [
    "We compare four different approaches for solving the DFT minimisation problem,\n",
    "namely a density-based SCF, a potential-based SCF, direct minimisation and Newton."
   ],
   "metadata": {}
  },
  {
   "cell_type": "markdown",
   "source": [
    "First we setup our problem"
   ],
   "metadata": {}
  },
  {
   "outputs": [],
   "cell_type": "code",
   "source": [
    "using DFTK\n",
    "using LinearAlgebra\n",
    "\n",
    "a = 10.26  # Silicon lattice constant in Bohr\n",
    "lattice = a / 2 * [[0 1 1.];\n",
    "                   [1 0 1.];\n",
    "                   [1 1 0.]]\n",
    "Si = ElementPsp(:Si, psp=load_psp(\"hgh/lda/Si-q4\"))\n",
    "atoms     = [Si, Si]\n",
    "positions = [ones(3)/8, -ones(3)/8]\n",
    "\n",
    "model = model_LDA(lattice, atoms, positions)\n",
    "basis = PlaneWaveBasis(model; Ecut=5, kgrid=[3, 3, 3])\n",
    "\n",
    "# Convergence we desire\n",
    "tol = 1e-12\n",
    "is_converged = DFTK.ScfConvergenceDensity(tol);"
   ],
   "metadata": {},
   "execution_count": 1
  },
  {
   "cell_type": "markdown",
   "source": [
    "## Density-based self-consistent field"
   ],
   "metadata": {}
  },
  {
   "outputs": [
    {
     "name": "stdout",
     "output_type": "stream",
     "text": [
      "n     Energy            log10(ΔE)   log10(Δρ)   Diag\n",
      "---   ---------------   ---------   ---------   ----\n",
      "  1   -7.846866074884                   -0.70    4.8\n",
      "  2   -7.852323292223       -2.26       -1.53    1.0\n",
      "  3   -7.852646062078       -3.49       -2.52    3.2\n",
      "  4   -7.852646676389       -6.21       -3.36    2.2\n",
      "  5   -7.852646685907       -8.02       -4.74    1.5\n",
      "  6   -7.852646686724       -9.09       -5.21    3.8\n",
      "  7   -7.852646686729      -11.25       -5.97    1.0\n",
      "  8   -7.852646686730      -12.44       -7.67    2.0\n",
      "  9   -7.852646686730      -14.75       -7.48    3.0\n",
      " 10   -7.852646686730      -14.45       -8.39    2.0\n",
      " 11   -7.852646686730   +  -14.75       -9.43    2.2\n",
      " 12   -7.852646686730   +  -14.75       -9.53    1.0\n",
      " 13   -7.852646686730      -14.45      -10.72    1.8\n",
      " 14   -7.852646686730   +  -14.57      -11.05    2.5\n",
      " 15   -7.852646686730      -14.57      -11.68    2.0\n",
      " 16   -7.852646686730   +    -Inf      -12.04    1.5\n"
     ]
    }
   ],
   "cell_type": "code",
   "source": [
    "scfres_scf = self_consistent_field(basis; is_converged);"
   ],
   "metadata": {},
   "execution_count": 2
  },
  {
   "cell_type": "markdown",
   "source": [
    "## Potential-based SCF"
   ],
   "metadata": {}
  },
  {
   "outputs": [
    {
     "name": "stdout",
     "output_type": "stream",
     "text": [
      "n     Energy            log10(ΔE)   log10(Δρ)   α      Diag\n",
      "---   ---------------   ---------   ---------   ----   ----\n",
      "  1   -7.846854501663                   -0.70           4.8\n",
      "  2   -7.852526242268       -2.25       -1.64   0.80    2.0\n",
      "  3   -7.852635854359       -3.96       -2.73   0.80    1.0\n",
      "  4   -7.852646460839       -4.97       -3.28   0.80    2.2\n",
      "  5   -7.852646682068       -6.66       -4.13   0.80    1.5\n",
      "  6   -7.852646686351       -8.37       -4.81   0.80    1.2\n",
      "  7   -7.852646686722       -9.43       -5.82   0.80    2.0\n",
      "  8   -7.852646686730      -11.09       -6.74   0.80    2.2\n",
      "  9   -7.852646686730      -12.98       -7.74   0.80    2.2\n",
      " 10   -7.852646686730   +  -15.05       -8.71   0.80    2.2\n",
      " 11   -7.852646686730      -14.45       -8.41   0.80    3.0\n",
      " 12   -7.852646686730   +  -14.75       -9.46   0.80    1.0\n",
      " 13   -7.852646686730   +    -Inf       -9.87   0.80    1.2\n",
      " 14   -7.852646686730   +  -15.05      -10.52   0.80    1.2\n",
      " 15   -7.852646686730      -14.57      -11.72   0.80    1.5\n",
      " 16   -7.852646686730   +  -14.75      -12.74   0.80    2.5\n"
     ]
    }
   ],
   "cell_type": "code",
   "source": [
    "scfres_scfv = DFTK.scf_potential_mixing(basis; is_converged);"
   ],
   "metadata": {},
   "execution_count": 3
  },
  {
   "cell_type": "markdown",
   "source": [
    "## Direct minimization"
   ],
   "metadata": {}
  },
  {
   "outputs": [
    {
     "name": "stdout",
     "output_type": "stream",
     "text": [
      "Iter     Function value   Gradient norm \n",
      "     0     1.401755e+01     3.170813e+00\n",
      " * time: 0.4618558883666992\n",
      "     1     1.011138e+00     1.621464e+00\n",
      " * time: 0.7044589519500732\n",
      "     2    -1.372487e+00     1.952217e+00\n",
      " * time: 0.7309598922729492\n",
      "     3    -3.771051e+00     1.660165e+00\n",
      " * time: 0.7698860168457031\n",
      "     4    -5.024524e+00     1.413719e+00\n",
      " * time: 0.8090798854827881\n",
      "     5    -6.770002e+00     8.144984e-01\n",
      " * time: 0.8491299152374268\n",
      "     6    -6.984151e+00     9.742548e-01\n",
      " * time: 0.9693019390106201\n",
      "     7    -7.561639e+00     6.507033e-01\n",
      " * time: 0.9953529834747314\n",
      "     8    -7.667288e+00     8.144754e-01\n",
      " * time: 1.0209259986877441\n",
      "     9    -7.713306e+00     6.135366e-01\n",
      " * time: 1.048063039779663\n",
      "    10    -7.745640e+00     6.147709e-01\n",
      " * time: 1.0743849277496338\n",
      "    11    -7.778990e+00     4.318149e-01\n",
      " * time: 1.1004199981689453\n",
      "    12    -7.796058e+00     3.214593e-01\n",
      " * time: 1.1256890296936035\n",
      "    13    -7.812623e+00     9.684468e-02\n",
      " * time: 1.1514079570770264\n",
      "    14    -7.826449e+00     9.147563e-02\n",
      " * time: 1.176908016204834\n",
      "    15    -7.843056e+00     6.079726e-02\n",
      " * time: 1.2020659446716309\n",
      "    16    -7.849515e+00     2.010344e-02\n",
      " * time: 1.2287020683288574\n",
      "    17    -7.851217e+00     1.913919e-02\n",
      " * time: 1.2557809352874756\n",
      "    18    -7.852478e+00     1.003159e-02\n",
      " * time: 1.2828009128570557\n",
      "    19    -7.852595e+00     5.388215e-03\n",
      " * time: 1.3095159530639648\n",
      "    20    -7.852630e+00     1.816875e-03\n",
      " * time: 1.3368120193481445\n",
      "    21    -7.852642e+00     1.557088e-03\n",
      " * time: 1.3638300895690918\n",
      "    22    -7.852645e+00     1.307141e-03\n",
      " * time: 1.3893358707427979\n",
      "    23    -7.852646e+00     3.723498e-04\n",
      " * time: 1.4148669242858887\n",
      "    24    -7.852647e+00     1.853782e-04\n",
      " * time: 1.4409899711608887\n",
      "    25    -7.852647e+00     1.280167e-04\n",
      " * time: 1.4674410820007324\n",
      "    26    -7.852647e+00     5.626593e-05\n",
      " * time: 1.4937188625335693\n",
      "    27    -7.852647e+00     5.283882e-05\n",
      " * time: 1.5193610191345215\n",
      "    28    -7.852647e+00     2.451787e-05\n",
      " * time: 1.5458159446716309\n",
      "    29    -7.852647e+00     1.086521e-05\n",
      " * time: 1.5728840827941895\n",
      "    30    -7.852647e+00     7.109936e-06\n",
      " * time: 1.5993919372558594\n",
      "    31    -7.852647e+00     3.246318e-06\n",
      " * time: 1.6263880729675293\n",
      "    32    -7.852647e+00     3.295923e-06\n",
      " * time: 1.653691053390503\n",
      "    33    -7.852647e+00     1.666184e-06\n",
      " * time: 1.6805498600006104\n",
      "    34    -7.852647e+00     9.518903e-07\n",
      " * time: 1.7063488960266113\n",
      "    35    -7.852647e+00     4.485847e-07\n",
      " * time: 1.7322990894317627\n",
      "    36    -7.852647e+00     2.895242e-07\n",
      " * time: 1.7584810256958008\n",
      "    37    -7.852647e+00     1.867102e-07\n",
      " * time: 1.784337043762207\n",
      "    38    -7.852647e+00     7.707634e-08\n",
      " * time: 1.8105039596557617\n",
      "    39    -7.852647e+00     4.068670e-08\n",
      " * time: 1.8373329639434814\n",
      "    40    -7.852647e+00     2.503563e-08\n",
      " * time: 1.8634099960327148\n",
      "    41    -7.852647e+00     1.205669e-08\n",
      " * time: 1.888664960861206\n",
      "    42    -7.852647e+00     9.278224e-09\n",
      " * time: 1.9255499839782715\n",
      "    43    -7.852647e+00     9.133135e-09\n",
      " * time: 1.9872288703918457\n",
      "    44    -7.852647e+00     9.126202e-09\n",
      " * time: 2.0602099895477295\n"
     ]
    }
   ],
   "cell_type": "code",
   "source": [
    "scfres_dm = direct_minimization(basis; tol);"
   ],
   "metadata": {},
   "execution_count": 4
  },
  {
   "cell_type": "markdown",
   "source": [
    "## Newton algorithm"
   ],
   "metadata": {}
  },
  {
   "cell_type": "markdown",
   "source": [
    "Start not too far from the solution to ensure convergence:\n",
    "We run first a very crude SCF to get close and then switch to Newton."
   ],
   "metadata": {}
  },
  {
   "outputs": [
    {
     "name": "stdout",
     "output_type": "stream",
     "text": [
      "n     Energy            log10(ΔE)   log10(Δρ)   Diag\n",
      "---   ---------------   ---------   ---------   ----\n",
      "  1   -7.846845942185                   -0.70    4.8\n",
      "  2   -7.852320616590       -2.26       -1.53    1.0\n"
     ]
    }
   ],
   "cell_type": "code",
   "source": [
    "scfres_start = self_consistent_field(basis; tol=1e-1);"
   ],
   "metadata": {},
   "execution_count": 5
  },
  {
   "cell_type": "markdown",
   "source": [
    "Remove the virtual orbitals (which Newton cannot treat yet)"
   ],
   "metadata": {}
  },
  {
   "outputs": [
    {
     "name": "stdout",
     "output_type": "stream",
     "text": [
      "n     Energy            log10(ΔE)   log10(Δρ)\n",
      "---   ---------------   ---------   ---------\n",
      "  1   -7.852646686709                   -2.56\n",
      "  2   -7.852646686730      -10.68       -5.96\n",
      "  3   -7.852646686730   +  -15.05      -12.66\n"
     ]
    }
   ],
   "cell_type": "code",
   "source": [
    "ψ, _ = DFTK.select_occupied_orbitals(basis, scfres_start.ψ, scfres_start.occupation)\n",
    "scfres_newton = newton(basis, ψ; tol);"
   ],
   "metadata": {},
   "execution_count": 6
  },
  {
   "cell_type": "markdown",
   "source": [
    "## Comparison of results"
   ],
   "metadata": {}
  },
  {
   "outputs": [
    {
     "name": "stdout",
     "output_type": "stream",
     "text": [
      "|ρ_newton - ρ_scf|  = 7.120171389295844e-13\n",
      "|ρ_newton - ρ_scfv| = 2.457923387119928e-13\n",
      "|ρ_newton - ρ_dm|   = 1.1083621904822855e-9\n"
     ]
    }
   ],
   "cell_type": "code",
   "source": [
    "println(\"|ρ_newton - ρ_scf|  = \", norm(scfres_newton.ρ - scfres_scf.ρ))\n",
    "println(\"|ρ_newton - ρ_scfv| = \", norm(scfres_newton.ρ - scfres_scfv.ρ))\n",
    "println(\"|ρ_newton - ρ_dm|   = \", norm(scfres_newton.ρ - scfres_dm.ρ))"
   ],
   "metadata": {},
   "execution_count": 7
  }
 ],
 "nbformat_minor": 3,
 "metadata": {
  "language_info": {
   "file_extension": ".jl",
   "mimetype": "application/julia",
   "name": "julia",
   "version": "1.8.2"
  },
  "kernelspec": {
   "name": "julia-1.8",
   "display_name": "Julia 1.8.2",
   "language": "julia"
  }
 },
 "nbformat": 4
}
