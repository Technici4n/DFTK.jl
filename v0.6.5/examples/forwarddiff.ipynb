{
 "cells": [
  {
   "cell_type": "markdown",
   "source": [
    "# Polarizability using automatic differentiation\n",
    "\n",
    "Simple example for computing properties using (forward-mode)\n",
    "automatic differentiation.\n",
    "For a more classical approach and more details about computing polarizabilities,\n",
    "see Polarizability by linear response."
   ],
   "metadata": {}
  },
  {
   "outputs": [],
   "cell_type": "code",
   "source": [
    "using DFTK\n",
    "using LinearAlgebra\n",
    "using ForwardDiff\n",
    "\n",
    "# Construct PlaneWaveBasis given a particular electric field strength\n",
    "# Again we take the example of a Helium atom.\n",
    "function make_basis(ε::T; a=10., Ecut=30) where {T}\n",
    "    lattice=T(a) * I(3)  # lattice is a cube of $a$ Bohrs\n",
    "    # Helium at the center of the box\n",
    "    atoms     = [ElementPsp(:He, psp=load_psp(\"hgh/lda/He-q2\"))]\n",
    "    positions = [[1/2, 1/2, 1/2]]\n",
    "\n",
    "    model = model_DFT(lattice, atoms, positions, [:lda_x, :lda_c_vwn];\n",
    "                      extra_terms=[ExternalFromReal(r -> -ε * (r[1] - a/2))],\n",
    "                      symmetries=false)\n",
    "    PlaneWaveBasis(model; Ecut, kgrid=[1, 1, 1])  # No k-point sampling on isolated system\n",
    "end\n",
    "\n",
    "# dipole moment of a given density (assuming the current geometry)\n",
    "function dipole(basis, ρ)\n",
    "    @assert isdiag(basis.model.lattice)\n",
    "    a  = basis.model.lattice[1, 1]\n",
    "    rr = [a * (r[1] - 1/2) for r in r_vectors(basis)]\n",
    "    sum(rr .* ρ) * basis.dvol\n",
    "end\n",
    "\n",
    "# Function to compute the dipole for a given field strength\n",
    "function compute_dipole(ε; tol=1e-8, kwargs...)\n",
    "    scfres = self_consistent_field(make_basis(ε; kwargs...); tol)\n",
    "    dipole(scfres.basis, scfres.ρ)\n",
    "end;"
   ],
   "metadata": {},
   "execution_count": 1
  },
  {
   "cell_type": "markdown",
   "source": [
    "With this in place we can compute the polarizability from finite differences\n",
    "(just like in the previous example):"
   ],
   "metadata": {}
  },
  {
   "outputs": [
    {
     "name": "stdout",
     "output_type": "stream",
     "text": [
      "n     Energy            log10(ΔE)   log10(Δρ)   Diag   Δtime\n",
      "---   ---------------   ---------   ---------   ----   ------\n",
      "  1   -2.770919383066                   -0.53    9.0         \n",
      "  2   -2.772145084478       -2.91       -1.30    1.0    189ms\n",
      "  3   -2.772170148596       -4.60       -2.68    1.0    227ms\n",
      "  4   -2.772170721691       -6.24       -4.09    2.0    220ms\n",
      "  5   -2.772170723004       -8.88       -5.12    2.0    264ms\n",
      "  6   -2.772170723015      -10.95       -5.88    2.0    227ms\n",
      "  7   -2.772170723015      -12.63       -6.91    1.0    217ms\n",
      "  8   -2.772170723015      -13.95       -7.57    2.0    259ms\n",
      "  9   -2.772170723015   +  -14.27       -8.32    1.0    220ms\n",
      "n     Energy            log10(ΔE)   log10(Δρ)   Diag   Δtime\n",
      "---   ---------------   ---------   ---------   ----   ------\n",
      "  1   -2.770749689589                   -0.53    8.0         \n",
      "  2   -2.772054641480       -2.88       -1.31    1.0    221ms\n",
      "  3   -2.772082924247       -4.55       -2.55    1.0    190ms\n",
      "  4   -2.772083363993       -6.36       -3.42    1.0    226ms\n",
      "  5   -2.772083415707       -7.29       -3.86    2.0    223ms\n",
      "  6   -2.772083417773       -8.68       -5.10    1.0    218ms\n",
      "  7   -2.772083417807      -10.47       -5.22    2.0    231ms\n",
      "  8   -2.772083417810      -11.47       -5.79    1.0    230ms\n",
      "  9   -2.772083417811      -12.31       -6.57    2.0    248ms\n",
      " 10   -2.772083417811      -13.99       -7.56    1.0    242ms\n",
      " 11   -2.772083417811      -14.51       -8.39    1.0    237ms\n"
     ]
    },
    {
     "output_type": "execute_result",
     "data": {
      "text/plain": "1.7735577124311241"
     },
     "metadata": {},
     "execution_count": 2
    }
   ],
   "cell_type": "code",
   "source": [
    "polarizability_fd = let\n",
    "    ε = 0.01\n",
    "    (compute_dipole(ε) - compute_dipole(0.0)) / ε\n",
    "end"
   ],
   "metadata": {},
   "execution_count": 2
  },
  {
   "cell_type": "markdown",
   "source": [
    "We do the same thing using automatic differentiation. Under the hood this uses\n",
    "custom rules to implicitly differentiate through the self-consistent\n",
    "field fixed-point problem."
   ],
   "metadata": {}
  },
  {
   "outputs": [
    {
     "name": "stdout",
     "output_type": "stream",
     "text": [
      "n     Energy            log10(ΔE)   log10(Δρ)   Diag   Δtime\n",
      "---   ---------------   ---------   ---------   ----   ------\n",
      "  1   -2.770697901413                   -0.53    8.0         \n",
      "  2   -2.772049665174       -2.87       -1.31    1.0    234ms\n",
      "  3   -2.772082832794       -4.48       -2.59    1.0    189ms\n",
      "  4   -2.772083384923       -6.26       -3.95    1.0    217ms\n",
      "  5   -2.772083417716       -7.48       -4.63    2.0    270ms\n",
      "  6   -2.772083417809      -10.03       -5.63    2.0    226ms\n",
      "  7   -2.772083417811      -11.78       -6.43    2.0    271ms\n",
      "  8   -2.772083417811      -13.68       -6.97    2.0    232ms\n",
      "  9   -2.772083417811   +  -13.81       -8.52    1.0    246ms\n",
      "\n",
      "Polarizability via ForwardDiff:       1.7725349699100676\n",
      "Polarizability via finite difference: 1.7735577124311241\n"
     ]
    }
   ],
   "cell_type": "code",
   "source": [
    "polarizability = ForwardDiff.derivative(compute_dipole, 0.0)\n",
    "println()\n",
    "println(\"Polarizability via ForwardDiff:       $polarizability\")\n",
    "println(\"Polarizability via finite difference: $polarizability_fd\")"
   ],
   "metadata": {},
   "execution_count": 3
  }
 ],
 "nbformat_minor": 3,
 "metadata": {
  "language_info": {
   "file_extension": ".jl",
   "mimetype": "application/julia",
   "name": "julia",
   "version": "1.8.5"
  },
  "kernelspec": {
   "name": "julia-1.8",
   "display_name": "Julia 1.8.5",
   "language": "julia"
  }
 },
 "nbformat": 4
}
