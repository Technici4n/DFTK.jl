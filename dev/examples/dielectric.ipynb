{
 "cells": [
  {
   "cell_type": "markdown",
   "source": [
    "# Eigenvalues of the dielectric matrix\n",
    "\n",
    "We compute a few eigenvalues of the dielectric matrix ($q=0$, $ω=0$) iteratively."
   ],
   "metadata": {}
  },
  {
   "outputs": [
    {
     "name": "stdout",
     "output_type": "stream",
     "text": [
      "n     Energy            log10(ΔE)   log10(Δρ)   Diag   Δtime\n",
      "---   ---------------   ---------   ---------   ----   ------\n",
      "  1   -7.233541813733                   -0.50    8.0         \n",
      "  2   -7.249781453027       -1.79       -1.37    1.0   9.23ms\n",
      "  3   -7.250261673148       -3.32       -1.65    2.0   9.94ms\n",
      "  4   -7.250994562966       -3.13       -1.90    1.0   9.09ms\n",
      "  5   -7.251324646187       -3.48       -2.64    1.0   9.59ms\n",
      "  6   -7.251337655540       -4.89       -2.98    2.0   11.1ms\n",
      "  7   -7.251338691780       -5.98       -3.58    2.0   10.8ms\n",
      "  8   -7.251338780157       -7.05       -3.94    2.0   12.3ms\n",
      "  9   -7.251338796895       -7.78       -4.38    2.0   11.8ms\n",
      " 10   -7.251338798548       -8.78       -5.01    1.0   10.1ms\n",
      " 11   -7.251338798639      -10.04       -5.14    3.0   12.3ms\n",
      " 12   -7.251338798696      -10.25       -5.63    1.0   9.42ms\n",
      " 13   -7.251338798704      -11.11       -6.30    3.0   11.5ms\n",
      " 14   -7.251338798704      -12.23       -6.58    3.0   55.3ms\n",
      " 15   -7.251338798705      -13.11       -7.08    2.0   10.3ms\n",
      " 16   -7.251338798705      -14.10       -7.60    1.0   8.29ms\n",
      " 17   -7.251338798705      -14.35       -7.72    3.0   11.8ms\n",
      " 18   -7.251338798705   +  -14.45       -8.15    1.0   8.27ms\n"
     ]
    }
   ],
   "cell_type": "code",
   "source": [
    "using DFTK\n",
    "using Plots\n",
    "using KrylovKit\n",
    "using Printf\n",
    "\n",
    "# Calculation parameters\n",
    "kgrid = [1, 1, 1]\n",
    "Ecut = 5\n",
    "\n",
    "# Silicon lattice\n",
    "a = 10.26\n",
    "lattice = a / 2 .* [[0 1 1.]; [1 0 1.]; [1 1 0.]]\n",
    "Si = ElementPsp(:Si, psp=load_psp(\"hgh/lda/Si-q4\"))\n",
    "atoms     = [Si, Si]\n",
    "positions = [ones(3)/8, -ones(3)/8]\n",
    "\n",
    "# Compute the dielectric operator without symmetries\n",
    "model  = model_LDA(lattice, atoms, positions, symmetries=false)\n",
    "basis  = PlaneWaveBasis(model; Ecut, kgrid)\n",
    "scfres = self_consistent_field(basis, tol=1e-8);"
   ],
   "metadata": {},
   "execution_count": 1
  },
  {
   "cell_type": "markdown",
   "source": [
    "Applying $ε^† ≔ (1- χ_0 K)$ …"
   ],
   "metadata": {}
  },
  {
   "outputs": [],
   "cell_type": "code",
   "source": [
    "function eps_fun(δρ)\n",
    "    δV = apply_kernel(basis, δρ; ρ=scfres.ρ)\n",
    "    χ0δV = apply_χ0(scfres, δV)\n",
    "    δρ - χ0δV\n",
    "end;"
   ],
   "metadata": {},
   "execution_count": 2
  },
  {
   "cell_type": "markdown",
   "source": [
    "… eagerly diagonalizes the subspace matrix at each iteration"
   ],
   "metadata": {}
  },
  {
   "outputs": [
    {
     "name": "stdout",
     "output_type": "stream",
     "text": [
      "[ Info: Arnoldi iteration step 1: normres = 0.08232702715607189\n",
      "[ Info: Arnoldi iteration step 2: normres = 0.5346692165605208\n",
      "[ Info: Arnoldi iteration step 3: normres = 0.7806980330429258\n",
      "[ Info: Arnoldi iteration step 4: normres = 0.2202056365273654\n",
      "[ Info: Arnoldi iteration step 5: normres = 0.5874815243803898\n",
      "[ Info: Arnoldi schursolve in iter 1, krylovdim = 5: 0 values converged, normres = (2.39e-02, 6.91e-02, 5.59e-01, 1.66e-01, 1.08e-03)\n",
      "[ Info: Arnoldi iteration step 6: normres = 0.22095147174548135\n",
      "[ Info: Arnoldi schursolve in iter 1, krylovdim = 6: 0 values converged, normres = (3.91e-03, 6.32e-02, 1.52e-01, 1.06e-01, 5.84e-02)\n",
      "[ Info: Arnoldi iteration step 7: normres = 0.09855927741867178\n",
      "[ Info: Arnoldi schursolve in iter 1, krylovdim = 7: 0 values converged, normres = (1.87e-04, 6.06e-03, 1.39e-02, 6.95e-02, 5.91e-02)\n",
      "[ Info: Arnoldi iteration step 8: normres = 0.10422917788841543\n",
      "[ Info: Arnoldi schursolve in iter 1, krylovdim = 8: 0 values converged, normres = (8.39e-06, 4.49e-04, 1.14e-03, 2.27e-02, 4.01e-02)\n",
      "[ Info: Arnoldi iteration step 9: normres = 0.060962051954879005\n",
      "[ Info: Arnoldi schursolve in iter 1, krylovdim = 9: 0 values converged, normres = (2.18e-07, 1.91e-05, 5.37e-05, 4.26e-03, 2.02e-02)\n",
      "[ Info: Arnoldi iteration step 10: normres = 0.09950152060923588\n",
      "[ Info: Arnoldi schursolve in iter 1, krylovdim = 10: 0 values converged, normres = (9.62e-09, 1.41e-06, 4.42e-06, 1.68e-03, 3.44e-02)\n",
      "[ Info: Arnoldi iteration step 11: normres = 0.09610971260020534\n",
      "[ Info: Arnoldi schursolve in iter 1, krylovdim = 11: 0 values converged, normres = (4.00e-10, 9.63e-08, 3.36e-07, 5.69e-04, 4.36e-02)\n",
      "[ Info: Arnoldi iteration step 12: normres = 0.07820675776263987\n",
      "[ Info: Arnoldi schursolve in iter 1, krylovdim = 12: 0 values converged, normres = (1.36e-11, 5.43e-09, 2.11e-08, 1.63e-04, 2.61e-02)\n",
      "[ Info: Arnoldi iteration step 13: normres = 0.10397465157689513\n",
      "[ Info: Arnoldi schursolve in iter 1, krylovdim = 13: 1 values converged, normres = (6.03e-13, 3.92e-10, 1.69e-09, 5.03e-05, 1.55e-02)\n",
      "[ Info: Arnoldi iteration step 14: normres = 0.4000655333324868\n",
      "[ Info: Arnoldi schursolve in iter 1, krylovdim = 14: 1 values converged, normres = (2.35e-13, 1.37e-09, 2.87e-01, 2.77e-01, 4.88e-03)\n",
      "[ Info: Arnoldi iteration step 15: normres = 0.04182610920141683\n",
      "[ Info: Arnoldi schursolve in iter 1, krylovdim = 15: 1 values converged, normres = (4.55e-15, 7.05e-09, 1.13e-02, 7.27e-06, 3.27e-06)\n",
      "[ Info: Arnoldi iteration step 16: normres = 0.5946904340905459\n",
      "[ Info: Arnoldi schursolve in iter 1, krylovdim = 16: 1 values converged, normres = (1.93e-15, 8.39e-09, 1.37e-02, 1.25e-05, 5.88e-01)\n",
      "[ Info: Arnoldi iteration step 17: normres = 0.03439375681155681\n",
      "[ Info: Arnoldi schursolve in iter 1, krylovdim = 17: 1 values converged, normres = (3.68e-17, 1.10e-03, 7.13e-05, 1.64e-02, 5.14e-03)\n",
      "[ Info: Arnoldi iteration step 18: normres = 0.019963410748157415\n",
      "[ Info: Arnoldi schursolve in iter 1, krylovdim = 18: 1 values converged, normres = (3.05e-19, 1.17e-07, 1.47e-05, 2.04e-09, 2.52e-04)\n",
      "[ Info: Arnoldi iteration step 19: normres = 0.11513196801997982\n",
      "[ Info: Arnoldi schursolve in iter 1, krylovdim = 19: 1 values converged, normres = (1.47e-20, 9.35e-08, 1.13e-06, 2.10e-05, 5.12e-06)\n",
      "[ Info: Arnoldi iteration step 20: normres = 0.09323562119831491\n",
      "[ Info: Arnoldi schursolve in iter 1, krylovdim = 20: 1 values converged, normres = (6.69e-22, 2.68e-08, 8.92e-08, 2.58e-09, 2.02e-06)\n",
      "[ Info: Arnoldi iteration step 21: normres = 0.029292814051223012\n",
      "[ Info: Arnoldi schursolve in iter 1, krylovdim = 21: 1 values converged, normres = (8.22e-24, 2.90e-10, 1.83e-09, 4.43e-08, 7.98e-10)\n",
      "[ Info: Arnoldi iteration step 22: normres = 0.017349418908503663\n",
      "[ Info: Arnoldi schursolve in iter 1, krylovdim = 22: 1 values converged, normres = (5.88e-26, 3.33e-12, 2.09e-11, 6.86e-11, 5.53e-10)\n",
      "[ Info: Arnoldi iteration step 23: normres = 0.250246555843493\n",
      "[ Info: Arnoldi schursolve in iter 1, krylovdim = 23: 2 values converged, normres = (6.15e-27, 5.61e-13, 3.52e-12, 1.25e-11, 1.03e-10)\n",
      "[ Info: Arnoldi iteration step 24: normres = 0.08415142300014948\n",
      "[ Info: Arnoldi schursolve in iter 1, krylovdim = 24: 2 values converged, normres = (4.85e-28, 3.17e-13, 1.99e-12, 2.78e-10, 2.16e-09)\n",
      "[ Info: Arnoldi iteration step 25: normres = 0.07171114306858899\n",
      "[ Info: Arnoldi schursolve in iter 1, krylovdim = 25: 3 values converged, normres = (1.43e-29, 1.54e-14, 9.67e-14, 5.44e-10, 4.74e-09)\n",
      "[ Info: Arnoldi iteration step 26: normres = 0.058716574090569656\n",
      "[ Info: Arnoldi schursolve in iter 1, krylovdim = 26: 3 values converged, normres = (3.78e-31, 6.88e-16, 4.32e-15, 3.10e-06, 5.72e-08)\n",
      "[ Info: Arnoldi iteration step 27: normres = 0.027724197437616796\n",
      "[ Info: Arnoldi schursolve in iter 1, krylovdim = 27: 3 values converged, normres = (4.32e-33, 1.26e-17, 7.89e-17, 4.03e-06, 1.36e-06)\n",
      "[ Info: Arnoldi iteration step 28: normres = 0.0920399526684622\n",
      "[ Info: Arnoldi schursolve in iter 1, krylovdim = 28: 3 values converged, normres = (1.73e-34, 8.31e-19, 5.22e-18, 2.27e-07, 1.92e-07)\n",
      "[ Info: Arnoldi iteration step 29: normres = 0.020389912422203553\n",
      "[ Info: Arnoldi schursolve in iter 1, krylovdim = 29: 3 values converged, normres = (1.48e-36, 1.15e-20, 7.23e-20, 3.35e-10, 4.75e-09)\n",
      "[ Info: Arnoldi iteration step 30: normres = 0.12458816726823346\n",
      "[ Info: Arnoldi schursolve in iter 1, krylovdim = 30: 3 values converged, normres = (7.94e-38, 1.01e-21, 6.34e-21, 3.16e-11, 4.58e-10)\n",
      "[ Info: Arnoldi schursolve in iter 2, krylovdim = 19: 3 values converged, normres = (7.94e-38, 1.01e-21, 6.34e-21, 3.16e-11, 4.58e-10)\n",
      "[ Info: Arnoldi iteration step 20: normres = 0.18190711361753012\n",
      "[ Info: Arnoldi schursolve in iter 2, krylovdim = 20: 3 values converged, normres = (6.68e-39, 1.47e-22, 9.22e-22, 5.00e-12, 7.51e-11)\n",
      "[ Info: Arnoldi iteration step 21: normres = 0.03907794653370463\n",
      "[ Info: Arnoldi schursolve in iter 2, krylovdim = 21: 4 values converged, normres = (1.18e-40, 4.42e-24, 2.77e-23, 1.70e-13, 2.54e-12)\n",
      "[ Info: Arnoldi iteration step 22: normres = 0.011124005428025264\n",
      "┌ Info: Arnoldi eigsolve finished after 2 iterations:\n",
      "│ *  6 eigenvalues converged\n",
      "│ *  norm of residuals = (5.3870111727815276e-43, 3.218669379619087e-26, 2.0466476807586977e-25, 1.3659636749962446e-15, 1.761715647010874e-14, 2.5584162961272197e-15)\n",
      "└ *  number of operations = 33\n"
     ]
    }
   ],
   "cell_type": "code",
   "source": [
    "eigsolve(eps_fun, randn(size(scfres.ρ)), 5, :LM; eager=true, verbosity=3);"
   ],
   "metadata": {},
   "execution_count": 3
  }
 ],
 "nbformat_minor": 3,
 "metadata": {
  "language_info": {
   "file_extension": ".jl",
   "mimetype": "application/julia",
   "name": "julia",
   "version": "1.8.5"
  },
  "kernelspec": {
   "name": "julia-1.8",
   "display_name": "Julia 1.8.5",
   "language": "julia"
  }
 },
 "nbformat": 4
}
