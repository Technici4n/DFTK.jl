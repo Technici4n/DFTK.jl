{
 "cells": [
  {
   "cell_type": "markdown",
   "source": [
    "# Eigenvalues of the dielectric matrix\n",
    "\n",
    "We compute a few eigenvalues of the dielectric matrix ($q=0$, $ω=0$) iteratively."
   ],
   "metadata": {}
  },
  {
   "outputs": [
    {
     "name": "stdout",
     "output_type": "stream",
     "text": [
      "n     Energy            log10(ΔE)   log10(Δρ)   Diag   Δtime\n",
      "---   ---------------   ---------   ---------   ----   ------\n",
      "  1   -7.235928157611                   -0.50    7.0         \n",
      "  2   -7.250493023112       -1.84       -1.41    1.0   48.2ms\n",
      "  3   -7.251205141552       -3.15       -2.24    1.0   7.87ms\n",
      "  4   -7.251280342563       -4.12       -2.19    3.0   10.6ms\n",
      "  5   -7.251337084190       -4.25       -2.64    1.0   7.96ms\n",
      "  6   -7.251337219222       -6.87       -3.05    1.0   7.84ms\n",
      "  7   -7.251338641745       -5.85       -3.47    1.0   8.06ms\n",
      "  8   -7.251338784176       -6.85       -4.13    1.0   7.77ms\n",
      "  9   -7.251338794710       -7.98       -4.16    3.0   10.4ms\n",
      " 10   -7.251338797607       -8.54       -4.53    2.0   9.70ms\n",
      " 11   -7.251338798586       -9.01       -5.11    1.0   7.91ms\n",
      " 12   -7.251338798693       -9.97       -5.53    3.0   10.4ms\n",
      " 13   -7.251338798703      -10.99       -6.23    1.0   8.13ms\n",
      " 14   -7.251338798704      -12.04       -6.17    3.0   11.1ms\n",
      " 15   -7.251338798704      -12.54       -6.47    1.0   8.11ms\n",
      " 16   -7.251338798705      -12.83       -7.10    2.0   9.75ms\n",
      " 17   -7.251338798705      -13.91       -7.73    3.0   10.6ms\n",
      " 18   -7.251338798705   +    -Inf       -7.70    4.0   11.1ms\n",
      " 19   -7.251338798705   +  -14.57       -7.95    1.0   8.11ms\n",
      " 20   -7.251338798705      -14.75       -8.70    2.0   9.17ms\n"
     ]
    }
   ],
   "cell_type": "code",
   "source": [
    "using DFTK\n",
    "using Plots\n",
    "using KrylovKit\n",
    "using Printf\n",
    "\n",
    "# Calculation parameters\n",
    "kgrid = [1, 1, 1]\n",
    "Ecut = 5\n",
    "\n",
    "# Silicon lattice\n",
    "a = 10.26\n",
    "lattice = a / 2 .* [[0 1 1.]; [1 0 1.]; [1 1 0.]]\n",
    "Si = ElementPsp(:Si, psp=load_psp(\"hgh/lda/Si-q4\"))\n",
    "atoms     = [Si, Si]\n",
    "positions = [ones(3)/8, -ones(3)/8]\n",
    "\n",
    "# Compute the dielectric operator without symmetries\n",
    "model  = model_LDA(lattice, atoms, positions, symmetries=false)\n",
    "basis  = PlaneWaveBasis(model; Ecut, kgrid)\n",
    "scfres = self_consistent_field(basis, tol=1e-8);"
   ],
   "metadata": {},
   "execution_count": 1
  },
  {
   "cell_type": "markdown",
   "source": [
    "Applying $ε^† ≔ (1- χ_0 K)$ …"
   ],
   "metadata": {}
  },
  {
   "outputs": [],
   "cell_type": "code",
   "source": [
    "function eps_fun(δρ)\n",
    "    δV = apply_kernel(basis, δρ; ρ=scfres.ρ)\n",
    "    χ0δV = apply_χ0(scfres, δV)\n",
    "    δρ - χ0δV\n",
    "end;"
   ],
   "metadata": {},
   "execution_count": 2
  },
  {
   "cell_type": "markdown",
   "source": [
    "… eagerly diagonalizes the subspace matrix at each iteration"
   ],
   "metadata": {}
  },
  {
   "outputs": [
    {
     "name": "stdout",
     "output_type": "stream",
     "text": [
      "[ Info: Arnoldi iteration step 1: normres = 0.07718783681339494\n",
      "[ Info: Arnoldi iteration step 2: normres = 0.2712424018991417\n",
      "[ Info: Arnoldi iteration step 3: normres = 0.8685081918518571\n",
      "[ Info: Arnoldi iteration step 4: normres = 0.4620835711001057\n",
      "[ Info: Arnoldi iteration step 5: normres = 0.5547335445231032\n",
      "[ Info: Arnoldi schursolve in iter 1, krylovdim = 5: 0 values converged, normres = (1.18e-01, 6.12e-02, 4.67e-01, 2.67e-01, 1.06e-02)\n",
      "[ Info: Arnoldi iteration step 6: normres = 0.301171398048127\n",
      "[ Info: Arnoldi schursolve in iter 1, krylovdim = 6: 0 values converged, normres = (3.14e-02, 2.24e-01, 1.25e-01, 1.15e-01, 9.51e-02)\n",
      "[ Info: Arnoldi iteration step 7: normres = 0.06069123454547228\n",
      "[ Info: Arnoldi schursolve in iter 1, krylovdim = 7: 0 values converged, normres = (8.84e-04, 1.07e-02, 5.21e-03, 2.37e-02, 4.62e-02)\n",
      "[ Info: Arnoldi iteration step 8: normres = 0.10737288228490632\n",
      "[ Info: Arnoldi schursolve in iter 1, krylovdim = 8: 0 values converged, normres = (4.10e-05, 8.15e-04, 4.40e-04, 8.05e-03, 4.87e-02)\n",
      "[ Info: Arnoldi iteration step 9: normres = 0.06381993740302443\n",
      "[ Info: Arnoldi schursolve in iter 1, krylovdim = 9: 0 values converged, normres = (1.12e-06, 3.66e-05, 2.19e-05, 1.68e-03, 3.23e-02)\n",
      "[ Info: Arnoldi iteration step 10: normres = 0.09792800345538517\n",
      "[ Info: Arnoldi schursolve in iter 1, krylovdim = 10: 0 values converged, normres = (4.85e-08, 2.64e-06, 1.76e-06, 6.34e-04, 4.15e-02)\n",
      "[ Info: Arnoldi iteration step 11: normres = 0.09267253069045776\n",
      "[ Info: Arnoldi schursolve in iter 1, krylovdim = 11: 0 values converged, normres = (1.94e-09, 1.74e-07, 1.29e-07, 1.98e-04, 3.60e-02)\n",
      "[ Info: Arnoldi iteration step 12: normres = 0.08796388383104088\n",
      "[ Info: Arnoldi schursolve in iter 1, krylovdim = 12: 0 values converged, normres = (7.51e-11, 1.12e-08, 9.27e-09, 7.00e-05, 3.62e-02)\n",
      "[ Info: Arnoldi iteration step 13: normres = 0.04917949861660707\n",
      "[ Info: Arnoldi schursolve in iter 1, krylovdim = 13: 0 values converged, normres = (1.57e-12, 3.82e-10, 3.49e-10, 1.03e-05, 1.03e-02)\n",
      "[ Info: Arnoldi iteration step 14: normres = 0.6725480338713818\n",
      "[ Info: Arnoldi schursolve in iter 1, krylovdim = 14: 1 values converged, normres = (7.17e-13, 4.56e-10, 5.55e-10, 6.69e-01, 9.18e-03)\n",
      "[ Info: Arnoldi iteration step 15: normres = 0.12203795290698581\n",
      "[ Info: Arnoldi schursolve in iter 1, krylovdim = 15: 1 values converged, normres = (5.48e-14, 3.40e-10, 7.00e-02, 5.32e-04, 1.14e-06)\n",
      "[ Info: Arnoldi iteration step 16: normres = 0.276489476382631\n",
      "[ Info: Arnoldi schursolve in iter 1, krylovdim = 16: 1 values converged, normres = (1.48e-14, 1.72e-09, 1.61e-01, 5.50e-03, 2.23e-01)\n",
      "[ Info: Arnoldi iteration step 17: normres = 0.03195858953761195\n",
      "[ Info: Arnoldi schursolve in iter 1, krylovdim = 17: 1 values converged, normres = (2.04e-16, 4.82e-08, 3.89e-03, 3.56e-06, 4.84e-03)\n",
      "[ Info: Arnoldi iteration step 18: normres = 0.019592782815542626\n",
      "[ Info: Arnoldi schursolve in iter 1, krylovdim = 18: 1 values converged, normres = (1.65e-18, 3.39e-05, 3.77e-05, 2.57e-09, 6.92e-05)\n",
      "[ Info: Arnoldi iteration step 19: normres = 0.05830030380227445\n",
      "[ Info: Arnoldi schursolve in iter 1, krylovdim = 19: 1 values converged, normres = (3.97e-20, 4.42e-08, 1.94e-06, 2.76e-06, 9.53e-07)\n",
      "[ Info: Arnoldi iteration step 20: normres = 0.17172893160184297\n",
      "[ Info: Arnoldi schursolve in iter 1, krylovdim = 20: 1 values converged, normres = (3.25e-21, 1.26e-07, 2.50e-07, 1.04e-08, 4.78e-07)\n",
      "[ Info: Arnoldi iteration step 21: normres = 0.034902932622570965\n",
      "[ Info: Arnoldi schursolve in iter 1, krylovdim = 21: 1 values converged, normres = (4.93e-23, 6.75e-09, 2.14e-09, 2.02e-09, 1.33e-08)\n",
      "[ Info: Arnoldi iteration step 22: normres = 0.035806826775710905\n",
      "[ Info: Arnoldi schursolve in iter 1, krylovdim = 22: 1 values converged, normres = (7.28e-25, 1.58e-10, 5.46e-11, 9.13e-11, 3.37e-10)\n",
      "[ Info: Arnoldi iteration step 23: normres = 0.5890839433182545\n",
      "[ Info: Arnoldi schursolve in iter 1, krylovdim = 23: 1 values converged, normres = (3.17e-25, 2.09e-10, 6.83e-11, 1.64e-10, 6.47e-10)\n",
      "[ Info: Arnoldi iteration step 24: normres = 0.015735727939045877\n",
      "[ Info: Arnoldi schursolve in iter 1, krylovdim = 24: 1 values converged, normres = (2.64e-27, 6.80e-12, 2.32e-12, 7.48e-10, 3.13e-09)\n",
      "[ Info: Arnoldi iteration step 25: normres = 0.04506222741495636\n",
      "[ Info: Arnoldi schursolve in iter 1, krylovdim = 25: 3 values converged, normres = (4.89e-29, 2.02e-13, 6.88e-14, 9.33e-09, 1.13e-08)\n",
      "[ Info: Arnoldi iteration step 26: normres = 0.07159459801075287\n",
      "[ Info: Arnoldi schursolve in iter 1, krylovdim = 26: 3 values converged, normres = (1.57e-30, 1.09e-14, 3.73e-15, 8.10e-06, 1.18e-05)\n",
      "[ Info: Arnoldi iteration step 27: normres = 0.06254494845352729\n",
      "[ Info: Arnoldi schursolve in iter 1, krylovdim = 27: 3 values converged, normres = (4.08e-32, 4.56e-16, 1.55e-16, 3.12e-07, 1.04e-07)\n",
      "[ Info: Arnoldi iteration step 28: normres = 0.05530083204221395\n",
      "[ Info: Arnoldi schursolve in iter 1, krylovdim = 28: 3 values converged, normres = (1.00e-33, 1.86e-17, 6.36e-18, 3.05e-08, 2.92e-09)\n",
      "[ Info: Arnoldi iteration step 29: normres = 0.026809231877048808\n",
      "[ Info: Arnoldi schursolve in iter 1, krylovdim = 29: 3 values converged, normres = (1.11e-35, 3.31e-19, 1.13e-19, 3.32e-10, 4.94e-10)\n",
      "[ Info: Arnoldi iteration step 30: normres = 0.08301684741436521\n",
      "[ Info: Arnoldi schursolve in iter 1, krylovdim = 30: 3 values converged, normres = (4.00e-37, 1.97e-20, 6.72e-21, 2.20e-11, 3.25e-11)\n",
      "[ Info: Arnoldi schursolve in iter 2, krylovdim = 19: 3 values converged, normres = (4.00e-37, 1.97e-20, 6.72e-21, 2.20e-11, 3.25e-11)\n",
      "[ Info: Arnoldi iteration step 20: normres = 0.22563240513642857\n",
      "[ Info: Arnoldi schursolve in iter 2, krylovdim = 20: 3 values converged, normres = (4.16e-38, 3.52e-21, 1.20e-21, 4.43e-12, 6.53e-12)\n",
      "[ Info: Arnoldi iteration step 21: normres = 0.02634517602395973\n",
      "┌ Info: Arnoldi eigsolve finished after 2 iterations:\n",
      "│ *  6 eigenvalues converged\n",
      "│ *  norm of residuals = (4.913186314108603e-40, 7.086621612481011e-23, 4.062393200760443e-23, 1.0007333717257328e-13, 8.01391731312853e-14, 6.649236359234256e-14)\n",
      "└ *  number of operations = 32\n"
     ]
    }
   ],
   "cell_type": "code",
   "source": [
    "eigsolve(eps_fun, randn(size(scfres.ρ)), 5, :LM; eager=true, verbosity=3);"
   ],
   "metadata": {},
   "execution_count": 3
  }
 ],
 "nbformat_minor": 3,
 "metadata": {
  "language_info": {
   "file_extension": ".jl",
   "mimetype": "application/julia",
   "name": "julia",
   "version": "1.8.5"
  },
  "kernelspec": {
   "name": "julia-1.8",
   "display_name": "Julia 1.8.5",
   "language": "julia"
  }
 },
 "nbformat": 4
}
