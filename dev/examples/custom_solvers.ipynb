{
 "cells": [
  {
   "cell_type": "markdown",
   "source": [
    "# Custom solvers\n",
    "In this example, we show how to define custom solvers. Our system\n",
    "will again be silicon, because we are not very imaginative"
   ],
   "metadata": {}
  },
  {
   "outputs": [],
   "cell_type": "code",
   "source": [
    "using DFTK, LinearAlgebra\n",
    "\n",
    "a = 10.26\n",
    "lattice = a / 2 * [[0 1 1.];\n",
    "                   [1 0 1.];\n",
    "                   [1 1 0.]]\n",
    "Si = ElementPsp(:Si, psp=load_psp(\"hgh/lda/Si-q4\"))\n",
    "atoms = [Si, Si]\n",
    "positions =  [ones(3)/8, -ones(3)/8]\n",
    "\n",
    "# We take very (very) crude parameters\n",
    "model = model_LDA(lattice, atoms, positions)\n",
    "basis = PlaneWaveBasis(model; Ecut=5, kgrid=[1, 1, 1]);"
   ],
   "metadata": {},
   "execution_count": 1
  },
  {
   "cell_type": "markdown",
   "source": [
    "We define our custom fix-point solver: simply a damped fixed-point"
   ],
   "metadata": {}
  },
  {
   "outputs": [],
   "cell_type": "code",
   "source": [
    "function my_fp_solver(f, x0, max_iter; tol)\n",
    "    mixing_factor = .7\n",
    "    x = x0\n",
    "    fx = f(x)\n",
    "    for n = 1:max_iter\n",
    "        inc = fx - x\n",
    "        if norm(inc) < tol\n",
    "            break\n",
    "        end\n",
    "        x = x + mixing_factor * inc\n",
    "        fx = f(x)\n",
    "    end\n",
    "    (fixpoint=x, converged=norm(fx-x) < tol)\n",
    "end;"
   ],
   "metadata": {},
   "execution_count": 2
  },
  {
   "cell_type": "markdown",
   "source": [
    "Our eigenvalue solver just forms the dense matrix and diagonalizes\n",
    "it explicitly (this only works for very small systems)"
   ],
   "metadata": {}
  },
  {
   "outputs": [],
   "cell_type": "code",
   "source": [
    "function my_eig_solver(A, X0; maxiter, tol, kwargs...)\n",
    "    n = size(X0, 2)\n",
    "    A = Array(A)\n",
    "    E = eigen(A)\n",
    "    λ = E.values[1:n]\n",
    "    X = E.vectors[:, 1:n]\n",
    "    (; λ, X, residual_norms=[], iterations=0, converged=true, n_matvec=0)\n",
    "end;"
   ],
   "metadata": {},
   "execution_count": 3
  },
  {
   "cell_type": "markdown",
   "source": [
    "Finally we also define our custom mixing scheme. It will be a mixture\n",
    "of simple mixing (for the first 2 steps) and than default to Kerker mixing.\n",
    "In the mixing interface `δF` is $(ρ_\\text{out} - ρ_\\text{in})$, i.e.\n",
    "the difference in density between two subsequent SCF steps and the `mix`\n",
    "function returns $δρ$, which is added to $ρ_\\text{in}$ to yield $ρ_\\text{next}$,\n",
    "the density for the next SCF step."
   ],
   "metadata": {}
  },
  {
   "outputs": [],
   "cell_type": "code",
   "source": [
    "struct MyMixing\n",
    "    n_simple  # Number of iterations for simple mixing\n",
    "end\n",
    "MyMixing() = MyMixing(2)\n",
    "\n",
    "function DFTK.mix_density(mixing::MyMixing, basis, δF; n_iter, kwargs...)\n",
    "    if n_iter <= mixing.n_simple\n",
    "        return δF  # Simple mixing -> Do not modify update at all\n",
    "    else\n",
    "        # Use the default KerkerMixing from DFTK\n",
    "        DFTK.mix_density(KerkerMixing(), basis, δF; kwargs...)\n",
    "    end\n",
    "end"
   ],
   "metadata": {},
   "execution_count": 4
  },
  {
   "cell_type": "markdown",
   "source": [
    "That's it! Now we just run the SCF with these solvers"
   ],
   "metadata": {}
  },
  {
   "outputs": [
    {
     "name": "stdout",
     "output_type": "stream",
     "text": [
      "n     Energy            log10(ΔE)   log10(Δρ)   Diag   Δtime\n",
      "---   ---------------   ---------   ---------   ----   ------\n",
      "  1   -7.203357313699                   -0.47    0.0         \n",
      "  2   -7.244503530521       -1.39       -0.82    0.0    558ms\n",
      "  3   -7.250862725879       -2.20       -1.28    0.0   71.7ms\n",
      "  4   -7.251226460911       -3.44       -1.59    0.0   72.3ms\n",
      "  5   -7.251311825264       -4.07       -1.89    0.0   72.8ms\n",
      "  6   -7.251332052251       -4.69       -2.19    0.0   76.2ms\n",
      "  7   -7.251337018549       -5.30       -2.47    0.0   75.3ms\n",
      "  8   -7.251338300809       -5.89       -2.75    0.0    191ms\n",
      "  9   -7.251338651393       -6.46       -3.02    0.0   72.3ms\n",
      " 10   -7.251338752915       -6.99       -3.28    0.0   72.1ms\n",
      " 11   -7.251338783888       -7.51       -3.54    0.0   71.1ms\n",
      " 12   -7.251338793760       -8.01       -3.79    0.0   79.7ms\n",
      " 13   -7.251338797016       -8.49       -4.03    0.0   84.0ms\n",
      " 14   -7.251338798119       -8.96       -4.27    0.0   76.6ms\n",
      " 15   -7.251338798499       -9.42       -4.51    0.0   74.4ms\n",
      " 16   -7.251338798632       -9.88       -4.74    0.0    194ms\n",
      " 17   -7.251338798679      -10.33       -4.97    0.0   70.8ms\n",
      " 18   -7.251338798695      -10.78       -5.20    0.0   75.0ms\n",
      " 19   -7.251338798701      -11.23       -5.43    0.0   72.9ms\n",
      " 20   -7.251338798703      -11.67       -5.65    0.0   72.9ms\n",
      " 21   -7.251338798704      -12.12       -5.88    0.0   79.1ms\n",
      " 22   -7.251338798704      -12.57       -6.10    0.0   77.9ms\n",
      " 23   -7.251338798704      -13.00       -6.33    0.0   76.0ms\n",
      " 24   -7.251338798705      -13.50       -6.55    0.0    187ms\n",
      " 25   -7.251338798705      -13.67       -6.77    0.0   70.6ms\n",
      " 26   -7.251338798705   +    -Inf       -7.00    0.0   73.1ms\n",
      " 27   -7.251338798705   +  -14.45       -7.16    0.0   73.7ms\n",
      " 28   -7.251338798705      -14.35       -7.35    0.0   71.7ms\n",
      " 29   -7.251338798705      -15.05       -7.56    0.0   76.4ms\n",
      " 30   -7.251338798705   +  -14.21       -7.19    0.0   77.4ms\n",
      " 31   -7.251338798705      -14.35       -7.44    0.0   74.2ms\n",
      " 32   -7.251338798705      -14.75       -7.80    0.0    175ms\n",
      " 33   -7.251338798705   +  -14.45       -7.34    0.0   70.0ms\n",
      " 34   -7.251338798705   +    -Inf       -7.62    0.0   71.2ms\n",
      " 35   -7.251338798705      -14.35       -7.69    0.0   77.3ms\n",
      " 36   -7.251338798705   +  -14.21       -7.38    0.0   72.8ms\n",
      " 37   -7.251338798705      -14.45       -7.61    0.0   76.2ms\n",
      " 38   -7.251338798705   +    -Inf       -7.79    0.0   77.7ms\n",
      " 39   -7.251338798705      -14.45       -7.96    0.0   75.3ms\n",
      " 40   -7.251338798705   +  -15.05       -7.71    0.0    177ms\n",
      " 41   -7.251338798705   +  -14.35       -7.47    0.0   71.8ms\n",
      " 42   -7.251338798705      -14.35       -7.67    0.0   71.4ms\n",
      " 43   -7.251338798705   +  -14.75       -7.65    0.0   70.5ms\n",
      " 44   -7.251338798705   +  -14.75       -7.60    0.0   72.1ms\n",
      " 45   -7.251338798705      -14.57       -7.84    0.0   76.1ms\n",
      " 46   -7.251338798704   +  -12.47       -6.39    0.0   75.8ms\n",
      " 47   -7.251338798705      -12.51       -6.64    0.0   75.3ms\n",
      " 48   -7.251338798705      -13.57       -6.99    0.0    175ms\n",
      " 49   -7.251338798705      -14.75       -7.33    0.0   69.5ms\n",
      " 50   -7.251338798705      -14.45       -7.57    0.0   71.5ms\n",
      " 51   -7.251338798705   +    -Inf       -7.81    0.0   73.8ms\n",
      " 52   -7.251338798705      -14.75       -7.71    0.0   74.1ms\n",
      " 53   -7.251338798705   +  -14.27       -7.64    0.0   72.9ms\n",
      " 54   -7.251338798705      -14.45       -7.52    0.0   78.7ms\n",
      " 55   -7.251338798705   +  -14.75       -7.73    0.0   75.4ms\n",
      " 56   -7.251338798705   +  -14.35       -7.44    0.0   75.4ms\n",
      " 57   -7.251338798705      -14.21       -7.70    0.0    170ms\n",
      " 58   -7.251338798705   +  -14.75       -7.39    0.0   73.2ms\n",
      " 59   -7.251338798705   +  -14.75       -7.59    0.0   71.3ms\n",
      " 60   -7.251338798705      -14.45       -7.82    0.0   71.9ms\n",
      " 61   -7.251338798704   +  -13.37       -6.83    0.0   72.8ms\n",
      " 62   -7.251338798705      -13.45       -7.09    0.0   77.2ms\n",
      " 63   -7.251338798705      -14.27       -7.44    0.0   77.7ms\n",
      " 64   -7.251338798705   +    -Inf       -7.70    0.0   77.2ms\n",
      " 65   -7.251338798705   +  -14.45       -7.97    0.0    174ms\n",
      " 66   -7.251338798705      -14.75       -7.47    0.0   71.0ms\n",
      " 67   -7.251338798705      -15.05       -7.50    0.0   72.4ms\n",
      " 68   -7.251338798705      -15.05       -7.60    0.0   74.5ms\n",
      " 69   -7.251338798705   +  -15.05       -7.53    0.0   71.8ms\n",
      " 70   -7.251338798705   +  -15.05       -7.36    0.0   78.3ms\n",
      " 71   -7.251338798705   +  -14.75       -7.55    0.0   76.9ms\n",
      " 72   -7.251338798705      -14.27       -7.70    0.0   76.3ms\n",
      " 73   -7.251338798705   +  -14.45       -7.78    0.0    173ms\n",
      " 74   -7.251338798705      -14.45       -7.76    0.0   71.0ms\n",
      " 75   -7.251338798705   +  -14.45       -7.45    0.0   72.1ms\n",
      " 76   -7.251338798705      -14.75       -7.63    0.0   72.6ms\n",
      " 77   -7.251338798705   +  -14.75       -7.88    0.0   72.6ms\n",
      " 78   -7.251338798705   +  -14.15       -7.22    0.0   75.4ms\n",
      " 79   -7.251338798705      -14.05       -7.45    0.0   75.7ms\n",
      " 80   -7.251338798705      -14.75       -7.63    0.0   77.1ms\n",
      " 81   -7.251338798705   +  -14.45       -7.78    0.0    174ms\n",
      " 82   -7.251338798705   +    -Inf       -7.69    0.0   71.1ms\n",
      " 83   -7.251338798705      -14.45       -7.88    0.0   72.7ms\n",
      " 84   -7.251338798705      -15.05       -7.90    0.0   71.1ms\n",
      " 85   -7.251338798705   +  -14.57       -7.66    0.0   70.9ms\n",
      " 86   -7.251338798705   +    -Inf       -7.83    0.0   76.1ms\n",
      " 87   -7.251338798705   +  -14.27       -7.23    0.0   74.5ms\n",
      " 88   -7.251338798705      -14.45       -7.45    0.0   76.2ms\n",
      " 89   -7.251338798705      -14.57       -7.78    0.0    175ms\n",
      " 90   -7.251338798705   +  -15.05       -7.52    0.0   72.3ms\n",
      " 91   -7.251338798705   +  -14.75       -7.81    0.0   71.2ms\n",
      " 92   -7.251338798705      -14.45       -7.60    0.0   72.3ms\n",
      " 93   -7.251338798705   +  -14.05       -7.33    0.0   72.8ms\n",
      " 94   -7.251338798705      -14.15       -7.53    0.0   75.2ms\n",
      " 95   -7.251338798705      -15.05       -7.75    0.0   77.4ms\n",
      " 96   -7.251338798705   +  -14.57       -8.03    0.0   76.9ms\n"
     ]
    }
   ],
   "cell_type": "code",
   "source": [
    "scfres = self_consistent_field(basis;\n",
    "                               tol=1e-8,\n",
    "                               solver=my_fp_solver,\n",
    "                               eigensolver=my_eig_solver,\n",
    "                               mixing=MyMixing());"
   ],
   "metadata": {},
   "execution_count": 5
  },
  {
   "cell_type": "markdown",
   "source": [
    "Note that the default convergence criterion is the difference in\n",
    "density. When this gets below `tol`, the\n",
    "\"driver\" `self_consistent_field` artificially makes the fixed-point\n",
    "solver think it's converged by forcing `f(x) = x`. You can customize\n",
    "this with the `is_converged` keyword argument to\n",
    "`self_consistent_field`."
   ],
   "metadata": {}
  }
 ],
 "nbformat_minor": 3,
 "metadata": {
  "language_info": {
   "file_extension": ".jl",
   "mimetype": "application/julia",
   "name": "julia",
   "version": "1.8.5"
  },
  "kernelspec": {
   "name": "julia-1.8",
   "display_name": "Julia 1.8.5",
   "language": "julia"
  }
 },
 "nbformat": 4
}
