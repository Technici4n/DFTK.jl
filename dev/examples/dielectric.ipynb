{
 "cells": [
  {
   "cell_type": "markdown",
   "source": [
    "# Eigenvalues of the dielectric matrix\n",
    "\n",
    "We compute a few eigenvalues of the dielectric matrix ($q=0$, $ω=0$) iteratively."
   ],
   "metadata": {}
  },
  {
   "outputs": [
    {
     "name": "stdout",
     "output_type": "stream",
     "text": [
      "n     Energy            log10(ΔE)   log10(Δρ)   Diag\n",
      "---   ---------------   ---------   ---------   ----\n",
      "  1   -7.234740752913                   -0.50    7.0\n",
      "  2   -7.249778240275       -1.82       -1.39    1.0\n",
      "  3   -7.251179348323       -2.85       -1.96    2.0\n",
      "  4   -7.251251864259       -4.14       -2.15    2.0\n",
      "  5   -7.251300702870       -4.31       -2.37    1.0\n",
      "  6   -7.251336267140       -4.45       -2.92    1.0\n",
      "  7   -7.251338693644       -5.62       -3.62    1.0\n",
      "  8   -7.251338777016       -7.08       -3.85    2.0\n",
      "  9   -7.251338796693       -7.71       -4.43    1.0\n",
      " 10   -7.251338798611       -8.72       -5.04    2.0\n",
      " 11   -7.251338798684      -10.13       -5.51    1.0\n",
      " 12   -7.251338798701      -10.79       -5.72    3.0\n",
      " 13   -7.251338798703      -11.58       -5.99    1.0\n",
      " 14   -7.251338798704      -12.01       -6.49    1.0\n",
      " 15   -7.251338798705      -12.62       -6.98    3.0\n",
      " 16   -7.251338798705      -13.97       -7.25    2.0\n",
      " 17   -7.251338798705      -14.45       -7.60    1.0\n"
     ]
    }
   ],
   "cell_type": "code",
   "source": [
    "using DFTK\n",
    "using Plots\n",
    "using KrylovKit\n",
    "using Printf\n",
    "\n",
    "# Calculation parameters\n",
    "kgrid = [1, 1, 1]\n",
    "Ecut = 5\n",
    "\n",
    "# Silicon lattice\n",
    "a = 10.26\n",
    "lattice = a / 2 .* [[0 1 1.]; [1 0 1.]; [1 1 0.]]\n",
    "Si = ElementPsp(:Si, psp=load_psp(\"hgh/lda/Si-q4\"))\n",
    "atoms     = [Si, Si]\n",
    "positions = [ones(3)/8, -ones(3)/8]\n",
    "\n",
    "# Compute the dielectric operator without symmetries\n",
    "model = model_LDA(lattice, atoms, positions, symmetries=false)\n",
    "basis = PlaneWaveBasis(model; Ecut, kgrid)\n",
    "scfres = self_consistent_field(basis, tol=1e-14);"
   ],
   "metadata": {},
   "execution_count": 1
  },
  {
   "cell_type": "markdown",
   "source": [
    "Applying $ε^† ≔ (1- χ_0 K)$ …"
   ],
   "metadata": {}
  },
  {
   "outputs": [],
   "cell_type": "code",
   "source": [
    "function eps_fun(δρ)\n",
    "    δV = apply_kernel(basis, δρ; ρ=scfres.ρ)\n",
    "    χ0δV = apply_χ0(scfres, δV)\n",
    "    δρ - χ0δV\n",
    "end;"
   ],
   "metadata": {},
   "execution_count": 2
  },
  {
   "cell_type": "markdown",
   "source": [
    "… eagerly diagonalizes the subspace matrix at each iteration"
   ],
   "metadata": {}
  },
  {
   "outputs": [
    {
     "name": "stdout",
     "output_type": "stream",
     "text": [
      "[ Info: Arnoldi iteration step 1: normres = 0.05299583454794791\n",
      "[ Info: Arnoldi iteration step 2: normres = 0.5125137114651308\n",
      "[ Info: Arnoldi iteration step 3: normres = 0.9372774701903317\n",
      "[ Info: Arnoldi iteration step 4: normres = 0.2777072774055313\n",
      "[ Info: Arnoldi iteration step 5: normres = 0.5477894434711637\n",
      "[ Info: Arnoldi schursolve in iter 1, krylovdim = 5: 0 values converged, normres = (3.96e-02, 8.18e-02, 4.90e-01, 2.27e-01, 1.76e-02)\n",
      "[ Info: Arnoldi iteration step 6: normres = 0.2105942091751543\n",
      "[ Info: Arnoldi schursolve in iter 1, krylovdim = 6: 0 values converged, normres = (7.09e-03, 1.29e-01, 1.15e-01, 9.55e-02, 1.63e-02)\n",
      "[ Info: Arnoldi iteration step 7: normres = 0.09212410901742929\n",
      "[ Info: Arnoldi schursolve in iter 1, krylovdim = 7: 0 values converged, normres = (3.07e-04, 9.97e-03, 8.87e-03, 4.14e-02, 7.97e-02)\n",
      "[ Info: Arnoldi iteration step 8: normres = 0.10767950018746926\n",
      "[ Info: Arnoldi schursolve in iter 1, krylovdim = 8: 0 values converged, normres = (1.41e-05, 7.52e-04, 7.38e-04, 1.38e-02, 4.81e-02)\n",
      "[ Info: Arnoldi iteration step 9: normres = 0.079144756411394\n",
      "[ Info: Arnoldi schursolve in iter 1, krylovdim = 9: 0 values converged, normres = (4.89e-07, 4.32e-05, 4.72e-05, 4.06e-03, 3.73e-02)\n",
      "[ Info: Arnoldi iteration step 10: normres = 0.09960925117123416\n",
      "[ Info: Arnoldi schursolve in iter 1, krylovdim = 10: 0 values converged, normres = (2.13e-08, 3.13e-06, 3.81e-06, 1.52e-03, 3.69e-02)\n",
      "[ Info: Arnoldi iteration step 11: normres = 0.07070911459129506\n",
      "[ Info: Arnoldi schursolve in iter 1, krylovdim = 11: 0 values converged, normres = (6.51e-10, 1.57e-07, 2.12e-07, 3.73e-04, 2.04e-02)\n",
      "[ Info: Arnoldi iteration step 12: normres = 0.08230016430626017\n",
      "[ Info: Arnoldi schursolve in iter 1, krylovdim = 12: 0 values converged, normres = (2.28e-11, 8.95e-09, 1.34e-08, 8.78e-05, 8.92e-03)\n",
      "[ Info: Arnoldi iteration step 13: normres = 0.1559815306867512\n",
      "[ Info: Arnoldi schursolve in iter 1, krylovdim = 13: 0 values converged, normres = (1.55e-12, 1.01e-09, 1.69e-09, 4.99e-05, 1.21e-02)\n",
      "[ Info: Arnoldi iteration step 14: normres = 0.339007246786743\n",
      "[ Info: Arnoldi schursolve in iter 1, krylovdim = 14: 1 values converged, normres = (4.74e-13, 1.77e-09, 1.12e-08, 3.33e-01, 2.78e-03)\n",
      "[ Info: Arnoldi iteration step 15: normres = 0.1795278418745805\n",
      "[ Info: Arnoldi schursolve in iter 1, krylovdim = 15: 1 values converged, normres = (3.76e-14, 3.23e-10, 4.42e-02, 3.08e-05, 4.52e-06)\n",
      "[ Info: Arnoldi iteration step 16: normres = 0.2263778031009181\n",
      "[ Info: Arnoldi schursolve in iter 1, krylovdim = 16: 1 values converged, normres = (8.87e-15, 2.53e-09, 1.99e-01, 3.01e-03, 1.03e-01)\n",
      "[ Info: Arnoldi iteration step 17: normres = 0.027604448421663395\n",
      "[ Info: Arnoldi schursolve in iter 1, krylovdim = 17: 1 values converged, normres = (1.05e-16, 1.91e-08, 3.92e-03, 1.51e-03, 9.57e-05)\n",
      "[ Info: Arnoldi iteration step 18: normres = 0.02129068063485133\n",
      "[ Info: Arnoldi schursolve in iter 1, krylovdim = 18: 1 values converged, normres = (9.23e-19, 1.28e-08, 5.51e-05, 7.79e-08, 2.34e-05)\n",
      "[ Info: Arnoldi iteration step 19: normres = 0.2147268083475337\n",
      "[ Info: Arnoldi schursolve in iter 1, krylovdim = 19: 1 values converged, normres = (8.77e-20, 5.48e-06, 6.81e-06, 4.03e-06, 9.27e-07)\n",
      "[ Info: Arnoldi iteration step 20: normres = 0.027194699662727462\n",
      "[ Info: Arnoldi schursolve in iter 1, krylovdim = 20: 1 values converged, normres = (1.10e-21, 2.01e-08, 1.91e-07, 1.02e-07, 6.82e-09)\n",
      "[ Info: Arnoldi iteration step 21: normres = 0.035809900616639856\n",
      "[ Info: Arnoldi schursolve in iter 1, krylovdim = 21: 1 values converged, normres = (1.63e-23, 1.69e-09, 4.19e-09, 1.95e-09, 1.82e-09)\n",
      "[ Info: Arnoldi iteration step 22: normres = 0.5162472698024455\n",
      "[ Info: Arnoldi schursolve in iter 1, krylovdim = 22: 1 values converged, normres = (3.94e-24, 7.26e-10, 1.76e-09, 9.43e-10, 8.41e-10)\n",
      "[ Info: Arnoldi iteration step 23: normres = 0.06663291923400251\n",
      "[ Info: Arnoldi schursolve in iter 1, krylovdim = 23: 1 values converged, normres = (2.22e-25, 2.82e-10, 6.72e-10, 1.49e-08, 1.86e-08)\n",
      "[ Info: Arnoldi iteration step 24: normres = 0.013386173203371174\n",
      "[ Info: Arnoldi schursolve in iter 1, krylovdim = 24: 1 values converged, normres = (1.22e-27, 2.48e-12, 6.03e-12, 4.88e-04, 1.96e-04)\n",
      "[ Info: Arnoldi iteration step 25: normres = 0.06978508677210898\n",
      "[ Info: Arnoldi schursolve in iter 1, krylovdim = 25: 3 values converged, normres = (3.53e-29, 1.15e-13, 2.78e-13, 2.17e-07, 2.26e-05)\n",
      "[ Info: Arnoldi iteration step 26: normres = 0.05079178849119842\n",
      "[ Info: Arnoldi schursolve in iter 1, krylovdim = 26: 3 values converged, normres = (8.09e-31, 4.44e-15, 1.08e-14, 1.77e-08, 9.86e-09)\n",
      "[ Info: Arnoldi iteration step 27: normres = 0.017807374821003058\n",
      "[ Info: Arnoldi schursolve in iter 1, krylovdim = 27: 3 values converged, normres = (5.93e-33, 5.19e-17, 1.26e-16, 8.59e-09, 1.06e-08)\n",
      "[ Info: Arnoldi iteration step 28: normres = 0.08466211493474138\n",
      "[ Info: Arnoldi schursolve in iter 1, krylovdim = 28: 3 values converged, normres = (2.10e-34, 2.96e-18, 7.18e-18, 4.63e-10, 7.24e-10)\n",
      "[ Info: Arnoldi iteration step 29: normres = 0.0636090052226056\n",
      "[ Info: Arnoldi schursolve in iter 1, krylovdim = 29: 3 values converged, normres = (5.86e-36, 1.38e-19, 3.34e-19, 2.42e-11, 3.85e-11)\n",
      "[ Info: Arnoldi iteration step 30: normres = 0.15483714620685227\n",
      "[ Info: Arnoldi schursolve in iter 1, krylovdim = 30: 3 values converged, normres = (4.40e-37, 1.84e-20, 4.47e-20, 3.69e-12, 5.86e-12)\n",
      "[ Info: Arnoldi schursolve in iter 2, krylovdim = 19: 3 values converged, normres = (4.40e-37, 1.84e-20, 4.47e-20, 3.69e-12, 5.86e-12)\n",
      "[ Info: Arnoldi iteration step 20: normres = 0.04964775628840093\n",
      "┌ Info: Arnoldi eigsolve finished after 2 iterations:\n",
      "│ *  6 eigenvalues converged\n",
      "│ *  norm of residuals = (9.272626684756476e-39, 6.343586832507307e-22, 1.1439400414262912e-21, 1.4104783719817594e-13, 2.460426995165671e-13, 1.6849035174817912e-13)\n",
      "└ *  number of operations = 31\n"
     ]
    }
   ],
   "cell_type": "code",
   "source": [
    "eigsolve(eps_fun, randn(size(scfres.ρ)), 5, :LM; eager=true, verbosity=3);"
   ],
   "metadata": {},
   "execution_count": 3
  }
 ],
 "nbformat_minor": 3,
 "metadata": {
  "language_info": {
   "file_extension": ".jl",
   "mimetype": "application/julia",
   "name": "julia",
   "version": "1.8.3"
  },
  "kernelspec": {
   "name": "julia-1.8",
   "display_name": "Julia 1.8.3",
   "language": "julia"
  }
 },
 "nbformat": 4
}
