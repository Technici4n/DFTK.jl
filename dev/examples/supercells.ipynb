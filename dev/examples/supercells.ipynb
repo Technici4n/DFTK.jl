{
 "cells": [
  {
   "cell_type": "markdown",
   "source": [
    "# Creating and modelling metallic supercells\n",
    "\n",
    "In this section we will be concerned with modelling supercells of aluminium.\n",
    "When dealing with periodic problems there is no unique definition of the\n",
    "lattice: Clearly any duplication of the lattice along an axis is also a valid\n",
    "repetitive unit to describe exactly the same system.\n",
    "This is exactly what a **supercell** is: An $n$-fold repetition along one of the\n",
    "axes of the original lattice.\n",
    "\n",
    "The following code achieves this for aluminium:"
   ],
   "metadata": {}
  },
  {
   "outputs": [],
   "cell_type": "code",
   "source": [
    "using DFTK\n",
    "using LinearAlgebra\n",
    "using ASEconvert\n",
    "\n",
    "function aluminium_setup(repeat=1; Ecut=7.0, kgrid=[2, 2, 2])\n",
    "    a = 7.65339\n",
    "    lattice = a * Matrix(I, 3, 3)\n",
    "    Al = ElementPsp(:Al, psp=load_psp(\"hgh/lda/al-q3\"))\n",
    "    atoms     = [Al, Al, Al, Al]\n",
    "    positions = [[0.0, 0.0, 0.0], [0.0, 0.5, 0.5], [0.5, 0.0, 0.5], [0.5, 0.5, 0.0]]\n",
    "    unit_cell = periodic_system(lattice, atoms, positions)\n",
    "\n",
    "    # Make supercell in ASE:\n",
    "    # We convert our lattice to the conventions used in ASE, make the supercell\n",
    "    # and then convert back ...\n",
    "    supercell_ase = convert_ase(unit_cell) * pytuple((repeat, 1, 1))\n",
    "    supercell     = pyconvert(AbstractSystem, supercell_ase)\n",
    "\n",
    "    # Unfortunately right now the conversion to ASE drops the pseudopotential information,\n",
    "    # so we need to reattach it:\n",
    "    supercell = attach_psp(supercell, Al=\"hgh/lda/al-q3\")\n",
    "\n",
    "    # Construct an LDA model and discretise\n",
    "    # Note: We disable symmetries explicitly here. Otherwise the problem sizes\n",
    "    #       we are able to run on the CI are too simple to observe the numerical\n",
    "    #       instabilities we want to trigger here.\n",
    "    model = model_LDA(supercell; temperature=1e-3, symmetries=false)\n",
    "    PlaneWaveBasis(model; Ecut, kgrid)\n",
    "end;"
   ],
   "metadata": {},
   "execution_count": 1
  },
  {
   "cell_type": "markdown",
   "source": [
    "As part of the code we are using a routine inside the ASE,\n",
    "the [atomistic simulation environment](https://wiki.fysik.dtu.dk/ase/index.html)\n",
    "for creating the supercell and make use of the two-way interoperability of\n",
    "DFTK and ASE. For more details on this aspect see the documentation\n",
    "on Input and output formats."
   ],
   "metadata": {}
  },
  {
   "cell_type": "markdown",
   "source": [
    "Write an example supercell structure to a file to plot it:"
   ],
   "metadata": {}
  },
  {
   "outputs": [
    {
     "name": "stdout",
     "output_type": "stream",
     "text": [
      "┌ Warning: Skipping atomic property pseudopotential, which is not supported in ASE.\n",
      "└ @ ASEconvert ~/.julia/packages/ASEconvert/XF0Hn/src/ASEconvert.jl:144\n",
      "┌ Warning: Skipping atomic property pseudopotential, which is not supported in ASE.\n",
      "└ @ ASEconvert ~/.julia/packages/ASEconvert/XF0Hn/src/ASEconvert.jl:144\n"
     ]
    },
    {
     "output_type": "execute_result",
     "data": {
      "text/plain": "\u001b[0m\u001b[1mPython None\u001b[22m"
     },
     "metadata": {},
     "execution_count": 2
    }
   ],
   "cell_type": "code",
   "source": [
    "setup = aluminium_setup(5)\n",
    "convert_ase(periodic_system(setup.model)).write(\"al_supercell.png\")"
   ],
   "metadata": {},
   "execution_count": 2
  },
  {
   "cell_type": "markdown",
   "source": [
    "<img src=\"https://docs.dftk.org/stable/examples/al_supercell.png\" width=500 height=500 />"
   ],
   "metadata": {}
  },
  {
   "cell_type": "markdown",
   "source": [
    "As we will see in this notebook the modelling of a system generally becomes\n",
    "harder if the system becomes larger.\n",
    "\n",
    "- This sounds like a trivial statement as *per se* the cost per SCF step increases\n",
    "  as the system (and thus $N$) gets larger.\n",
    "- But there is more to it:\n",
    "  If one is not careful also the *number of SCF iterations* increases\n",
    "  as the system gets larger.\n",
    "- The aim of a proper computational treatment of such supercells is therefore\n",
    "  to ensure that the **number of SCF iterations remains constant** when the\n",
    "  system size increases."
   ],
   "metadata": {}
  },
  {
   "cell_type": "markdown",
   "source": [
    "For achieving the latter DFTK by default employs the `LdosMixing`\n",
    "preconditioner [^HL2021] during the SCF iterations. This mixing approach is\n",
    "completely parameter free, but still automatically adapts to the treated\n",
    "system in order to efficiently prevent charge sloshing. As a result,\n",
    "modelling aluminium slabs indeed takes roughly the same number of SCF iterations\n",
    "irrespective of the supercell size:\n",
    "\n",
    "[^HL2021]:\n",
    "   M. F. Herbst and A. Levitt.\n",
    "   *Black-box inhomogeneous preconditioning for self-consistent field iterations in density functional theory.*\n",
    "   J. Phys. Cond. Matt *33* 085503 (2021). [ArXiv:2009.01665](https://arxiv.org/abs/2009.01665)"
   ],
   "metadata": {}
  },
  {
   "outputs": [
    {
     "name": "stdout",
     "output_type": "stream",
     "text": [
      "┌ Warning: Skipping atomic property pseudopotential, which is not supported in ASE.\n",
      "└ @ ASEconvert ~/.julia/packages/ASEconvert/XF0Hn/src/ASEconvert.jl:144\n",
      "n     Energy            log10(ΔE)   log10(Δρ)   Diag   Δtime\n",
      "---   ---------------   ---------   ---------   ----   ------\n",
      "  1   -8.298359784894                   -0.85    4.8         \n",
      "  2   -8.300182953412       -2.74       -1.26    1.2    174ms\n",
      "  3   -8.300427829600       -3.61       -1.89    3.5    320ms\n",
      "  4   -8.300462349684       -4.46       -2.77    1.6    157ms\n",
      "  5   -8.300464345994       -5.70       -3.09    3.0    220ms\n",
      "  6   -8.300464501152       -6.81       -3.28    9.9    344ms\n",
      "  7   -8.300464573988       -7.14       -3.43    1.2    185ms\n",
      "  8   -8.300464608127       -7.47       -3.57    2.1    198ms\n",
      "  9   -8.300464634798       -7.57       -3.78    1.9    196ms\n",
      " 10   -8.300464638507       -8.43       -3.88    2.4    248ms\n",
      " 11   -8.300464643246       -8.32       -4.15    3.1    297ms\n"
     ]
    }
   ],
   "cell_type": "code",
   "source": [
    "self_consistent_field(aluminium_setup(1); tol=1e-4);"
   ],
   "metadata": {},
   "execution_count": 3
  },
  {
   "outputs": [
    {
     "name": "stdout",
     "output_type": "stream",
     "text": [
      "┌ Warning: Skipping atomic property pseudopotential, which is not supported in ASE.\n",
      "└ @ ASEconvert ~/.julia/packages/ASEconvert/XF0Hn/src/ASEconvert.jl:144\n",
      "n     Energy            log10(ΔE)   log10(Δρ)   Diag   Δtime\n",
      "---   ---------------   ---------   ---------   ----   ------\n",
      "  1   -16.63663702279                   -0.71    4.5         \n",
      "  2   -16.64096220308       -2.36       -1.15    1.0    352ms\n",
      "  3   -16.67838349634       -1.43       -1.77    2.1    475ms\n",
      "  4   -16.67923826482       -3.07       -2.24    4.6    564ms\n",
      "  5   -16.67927822252       -4.40       -2.63    3.2    495ms\n",
      "  6   -16.67928600456       -5.11       -3.23    2.2    411ms\n",
      "  7   -16.67928619205       -6.73       -3.44    4.1    583ms\n",
      "  8   -16.67928621996       -7.55       -4.12    1.0    359ms\n"
     ]
    }
   ],
   "cell_type": "code",
   "source": [
    "self_consistent_field(aluminium_setup(2); tol=1e-4);"
   ],
   "metadata": {},
   "execution_count": 4
  },
  {
   "outputs": [
    {
     "name": "stdout",
     "output_type": "stream",
     "text": [
      "┌ Warning: Skipping atomic property pseudopotential, which is not supported in ASE.\n",
      "└ @ ASEconvert ~/.julia/packages/ASEconvert/XF0Hn/src/ASEconvert.jl:144\n",
      "n     Energy            log10(ΔE)   log10(Δρ)   Diag   Δtime\n",
      "---   ---------------   ---------   ---------   ----   ------\n",
      "  1   -33.32526075676                   -0.56    7.1         \n",
      "  2   -33.33245283803       -2.14       -1.00    1.0    1.35s\n",
      "  3   -33.33412651934       -2.78       -1.73    4.8    1.90s\n",
      "  4   -33.33428423221       -3.80       -2.65    2.0    1.37s\n",
      "  5   -33.33557400682       -2.89       -2.41    5.5    2.33s\n",
      "  6   -33.33694269450       -2.86       -2.53    7.8    1.86s\n",
      "  7   -33.33694318912       -6.31       -2.56    1.4    1.31s\n",
      "  8   -33.33687960625   +   -4.20       -2.42    1.9    1.38s\n",
      "  9   -33.33686755984   +   -4.92       -2.39    1.0    1.26s\n",
      " 10   -33.33687646174       -5.05       -2.42    1.0    1.30s\n",
      " 11   -33.33690776399       -4.50       -2.56    1.0    1.30s\n",
      " 12   -33.33690840049       -6.20       -2.56    1.0    1.31s\n",
      " 13   -33.33691576062       -5.13       -2.61    1.0    1.32s\n",
      " 14   -33.33692918173       -4.87       -2.75    1.0    1.31s\n",
      " 15   -33.33693755649       -5.08       -2.93    1.4    1.41s\n",
      " 16   -33.33694106671       -5.45       -3.11    2.0    1.52s\n",
      " 17   -33.33694376779       -5.57       -4.21    2.1    1.65s\n"
     ]
    }
   ],
   "cell_type": "code",
   "source": [
    "self_consistent_field(aluminium_setup(4); tol=1e-4);"
   ],
   "metadata": {},
   "execution_count": 5
  },
  {
   "cell_type": "markdown",
   "source": [
    "When switching off explicitly the `LdosMixing`, by selecting `mixing=SimpleMixing()`,\n",
    "the performance of number of required SCF steps starts to increase as we increase\n",
    "the size of the modelled problem:"
   ],
   "metadata": {}
  },
  {
   "outputs": [
    {
     "name": "stdout",
     "output_type": "stream",
     "text": [
      "┌ Warning: Skipping atomic property pseudopotential, which is not supported in ASE.\n",
      "└ @ ASEconvert ~/.julia/packages/ASEconvert/XF0Hn/src/ASEconvert.jl:144\n",
      "n     Energy            log10(ΔE)   log10(Δρ)   Diag   Δtime\n",
      "---   ---------------   ---------   ---------   ----   ------\n",
      "  1   -8.298471816809                   -0.85    5.1         \n",
      "  2   -8.300250994434       -2.75       -1.59    1.0    121ms\n",
      "  3   -8.300410726852       -3.80       -2.43    2.5    165ms\n",
      "  4   -8.300341269697   +   -4.16       -2.20    7.5    306ms\n",
      "  5   -8.300464093046       -3.91       -3.51    1.0    151ms\n",
      "  6   -8.300464563426       -6.33       -3.77    3.8    284ms\n",
      "  7   -8.300464638473       -7.12       -4.17    1.2    154ms\n"
     ]
    }
   ],
   "cell_type": "code",
   "source": [
    "self_consistent_field(aluminium_setup(1); tol=1e-4, mixing=SimpleMixing());"
   ],
   "metadata": {},
   "execution_count": 6
  },
  {
   "outputs": [
    {
     "name": "stdout",
     "output_type": "stream",
     "text": [
      "┌ Warning: Skipping atomic property pseudopotential, which is not supported in ASE.\n",
      "└ @ ASEconvert ~/.julia/packages/ASEconvert/XF0Hn/src/ASEconvert.jl:144\n",
      "n     Energy            log10(ΔE)   log10(Δρ)   Diag   Δtime\n",
      "---   ---------------   ---------   ---------   ----   ------\n",
      "  1   -33.32491742814                   -0.56    6.4         \n",
      "  2   -33.30695538238   +   -1.75       -1.26    1.6    1.15s\n",
      "  3   -8.771039673142   +    1.39       -0.37    7.0    2.61s\n",
      "  4   -33.32308655233        1.39       -1.71    5.9    2.48s\n",
      "  5   -33.12569608630   +   -0.70       -1.25    4.5    2.59s\n",
      "  6   -30.99338864186   +    0.33       -0.88    4.4    1.99s\n",
      "  7   -33.32661672443        0.37       -1.96    4.5    1.99s\n",
      "  8   -33.33069282750       -2.39       -2.03    2.0    1.44s\n",
      "  9   -33.33457565721       -2.41       -2.11    2.4    1.55s\n",
      " 10   -33.33625191167       -2.78       -2.61    1.8    1.38s\n",
      " 11   -33.33689458234       -3.19       -3.05    3.0    1.67s\n",
      " 12   -33.33688600357   +   -5.07       -3.14    3.0    1.59s\n",
      " 13   -33.33693004355       -4.36       -3.41    2.8    1.53s\n",
      " 14   -33.33694351132       -4.87       -3.99    3.1    1.61s\n",
      " 15   -33.33693502290   +   -5.07       -3.59    3.8    2.08s\n",
      " 16   -33.33694362630       -5.07       -4.40    3.8    1.72s\n"
     ]
    }
   ],
   "cell_type": "code",
   "source": [
    "self_consistent_field(aluminium_setup(4); tol=1e-4, mixing=SimpleMixing());"
   ],
   "metadata": {},
   "execution_count": 7
  },
  {
   "cell_type": "markdown",
   "source": [
    "For completion let us note that the more traditional `mixing=KerkerMixing()`\n",
    "approach would also help in this particular setting to obtain a constant\n",
    "number of SCF iterations for an increasing system size (try it!). In contrast\n",
    "to `LdosMixing`, however, `KerkerMixing` is only suitable to model bulk metallic\n",
    "system (like the case we are considering here). When modelling metallic surfaces\n",
    "or mixtures of metals and insulators, `KerkerMixing` fails, while `LdosMixing`\n",
    "still works well. See the Modelling a gallium arsenide surface example\n",
    "or [^HL2021] for details. Due to the general applicability of `LdosMixing` this\n",
    "method is the default mixing approach in DFTK."
   ],
   "metadata": {}
  }
 ],
 "nbformat_minor": 3,
 "metadata": {
  "language_info": {
   "file_extension": ".jl",
   "mimetype": "application/julia",
   "name": "julia",
   "version": "1.8.5"
  },
  "kernelspec": {
   "name": "julia-1.8",
   "display_name": "Julia 1.8.5",
   "language": "julia"
  }
 },
 "nbformat": 4
}
