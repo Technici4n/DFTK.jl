{
 "cells": [
  {
   "cell_type": "markdown",
   "source": [
    "# Polarizability using automatic differentiation\n",
    "\n",
    "Simple example for computing properties using (forward-mode)\n",
    "automatic differentiation.\n",
    "For a more classical approach and more details about computing polarizabilities,\n",
    "see Polarizability by linear response."
   ],
   "metadata": {}
  },
  {
   "outputs": [],
   "cell_type": "code",
   "source": [
    "using DFTK\n",
    "using LinearAlgebra\n",
    "using ForwardDiff\n",
    "\n",
    "# Construct PlaneWaveBasis given a particular electric field strength\n",
    "# Again we take the example of a Helium atom.\n",
    "function make_basis(ε::T; a=10., Ecut=30) where {T}\n",
    "    lattice=T(a) * I(3)  # lattice is a cube of $a$ Bohrs\n",
    "    # Helium at the center of the box\n",
    "    atoms     = [ElementPsp(:He, psp=load_psp(\"hgh/lda/He-q2\"))]\n",
    "    positions = [[1/2, 1/2, 1/2]]\n",
    "\n",
    "    model = model_DFT(lattice, atoms, positions, [:lda_x, :lda_c_vwn];\n",
    "                      extra_terms=[ExternalFromReal(r -> -ε * (r[1] - a/2))],\n",
    "                      symmetries=false)\n",
    "    PlaneWaveBasis(model; Ecut, kgrid=[1, 1, 1])  # No k-point sampling on isolated system\n",
    "end\n",
    "\n",
    "# dipole moment of a given density (assuming the current geometry)\n",
    "function dipole(basis, ρ)\n",
    "    @assert isdiag(basis.model.lattice)\n",
    "    a  = basis.model.lattice[1, 1]\n",
    "    rr = [a * (r[1] - 1/2) for r in r_vectors(basis)]\n",
    "    sum(rr .* ρ) * basis.dvol\n",
    "end\n",
    "\n",
    "# Function to compute the dipole for a given field strength\n",
    "function compute_dipole(ε; tol=1e-8, kwargs...)\n",
    "    scfres = self_consistent_field(make_basis(ε; kwargs...); tol)\n",
    "    dipole(scfres.basis, scfres.ρ)\n",
    "end;"
   ],
   "metadata": {},
   "execution_count": 1
  },
  {
   "cell_type": "markdown",
   "source": [
    "With this in place we can compute the polarizability from finite differences\n",
    "(just like in the previous example):"
   ],
   "metadata": {}
  },
  {
   "outputs": [
    {
     "name": "stdout",
     "output_type": "stream",
     "text": [
      "n     Energy            log10(ΔE)   log10(Δρ)   Diag   Δtime\n",
      "---   ---------------   ---------   ---------   ----   ------\n",
      "  1   -2.770912456936                   -0.52    9.0         \n",
      "  2   -2.772149486566       -2.91       -1.32    1.0    139ms\n",
      "  3   -2.772170270585       -4.68       -2.45    1.0    157ms\n",
      "  4   -2.772170650681       -6.42       -3.18    1.0    142ms\n",
      "  5   -2.772170722821       -7.14       -4.29    2.0    175ms\n",
      "  6   -2.772170722864      -10.37       -4.39    1.0    172ms\n",
      "  7   -2.772170723011       -9.83       -5.21    1.0    147ms\n",
      "  8   -2.772170723013      -11.61       -5.40    1.0    160ms\n",
      "  9   -2.772170723015      -11.81       -6.29    1.0    159ms\n",
      " 10   -2.772170723015      -13.03       -6.66    2.0    177ms\n",
      " 11   -2.772170723015      -13.72       -6.93    1.0    172ms\n",
      " 12   -2.772170723015   +  -13.92       -7.59    1.0    154ms\n",
      " 13   -2.772170723015      -14.27       -8.10    1.0    193ms\n",
      "n     Energy            log10(ΔE)   log10(Δρ)   Diag   Δtime\n",
      "---   ---------------   ---------   ---------   ----   ------\n",
      "  1   -2.770852992187                   -0.53    9.0         \n",
      "  2   -2.772056397280       -2.92       -1.31    1.0    139ms\n",
      "  3   -2.772083144548       -4.57       -2.61    1.0    163ms\n",
      "  4   -2.772083399907       -6.59       -3.80    1.0    142ms\n",
      "  5   -2.772083417484       -7.76       -4.30    2.0    162ms\n",
      "  6   -2.772083417802       -9.50       -5.30    1.0    180ms\n",
      "  7   -2.772083417810      -11.05       -5.93    2.0    165ms\n",
      "  8   -2.772083417811      -12.86       -6.92    1.0    153ms\n",
      "  9   -2.772083417811      -13.71       -7.27    2.0    188ms\n",
      " 10   -2.772083417811   +  -14.51       -7.80    1.0    161ms\n",
      " 11   -2.772083417811   +  -14.40       -8.68    1.0    162ms\n"
     ]
    },
    {
     "output_type": "execute_result",
     "data": {
      "text/plain": "1.7735583436015256"
     },
     "metadata": {},
     "execution_count": 2
    }
   ],
   "cell_type": "code",
   "source": [
    "polarizability_fd = let\n",
    "    ε = 0.01\n",
    "    (compute_dipole(ε) - compute_dipole(0.0)) / ε\n",
    "end"
   ],
   "metadata": {},
   "execution_count": 2
  },
  {
   "cell_type": "markdown",
   "source": [
    "We do the same thing using automatic differentiation. Under the hood this uses\n",
    "custom rules to implicitly differentiate through the self-consistent\n",
    "field fixed-point problem."
   ],
   "metadata": {}
  },
  {
   "outputs": [
    {
     "name": "stdout",
     "output_type": "stream",
     "text": [
      "n     Energy            log10(ΔE)   log10(Δρ)   Diag   Δtime\n",
      "---   ---------------   ---------   ---------   ----   ------\n",
      "  1   -2.770719737804                   -0.53    9.0         \n",
      "  2   -2.772048595784       -2.88       -1.31    1.0    139ms\n",
      "  3   -2.772082519938       -4.47       -2.60    1.0    141ms\n",
      "  4   -2.772083415916       -6.05       -4.11    2.0    195ms\n",
      "  5   -2.772083417755       -8.74       -4.61    2.0    162ms\n",
      "  6   -2.772083417809      -10.27       -5.85    1.0    146ms\n",
      "  7   -2.772083417811      -11.80       -6.44    2.0    197ms\n",
      "  8   -2.772083417811      -13.57       -6.89    2.0    172ms\n",
      "  9   -2.772083417811   +  -13.64       -7.66    1.0    157ms\n",
      " 10   -2.772083417811      -13.94       -9.03    2.0    178ms\n",
      "\n",
      "Polarizability via ForwardDiff:       1.7725349720801444\n",
      "Polarizability via finite difference: 1.7735583436015256\n"
     ]
    }
   ],
   "cell_type": "code",
   "source": [
    "polarizability = ForwardDiff.derivative(compute_dipole, 0.0)\n",
    "println()\n",
    "println(\"Polarizability via ForwardDiff:       $polarizability\")\n",
    "println(\"Polarizability via finite difference: $polarizability_fd\")"
   ],
   "metadata": {},
   "execution_count": 3
  }
 ],
 "nbformat_minor": 3,
 "metadata": {
  "language_info": {
   "file_extension": ".jl",
   "mimetype": "application/julia",
   "name": "julia",
   "version": "1.9.3"
  },
  "kernelspec": {
   "name": "julia-1.9",
   "display_name": "Julia 1.9.3",
   "language": "julia"
  }
 },
 "nbformat": 4
}
