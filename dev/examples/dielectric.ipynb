{
 "cells": [
  {
   "cell_type": "markdown",
   "source": [
    "# Eigenvalues of the dielectric matrix\n",
    "\n",
    "We compute a few eigenvalues of the dielectric matrix ($q=0$, $ω=0$) iteratively."
   ],
   "metadata": {}
  },
  {
   "outputs": [
    {
     "name": "stdout",
     "output_type": "stream",
     "text": [
      "n     Energy            log10(ΔE)   log10(Δρ)   Diag\n",
      "---   ---------------   ---------   ---------   ----\n",
      "  1   -7.235094935346                   -0.50    7.0\n",
      "  2   -7.250253088284       -1.82       -1.40    1.0\n",
      "  3   -7.251166752325       -3.04       -2.01    2.0\n",
      "  4   -7.251072913205   +   -4.03       -1.95    2.0\n",
      "  5   -7.251329107967       -3.59       -2.65    1.0\n",
      "  6   -7.251338238358       -5.04       -3.19    2.0\n",
      "  7   -7.251338738656       -6.30       -3.70    1.0\n",
      "  8   -7.251338789031       -7.30       -4.11    1.0\n",
      "  9   -7.251338797904       -8.05       -4.74    3.0\n",
      " 10   -7.251338798651       -9.13       -5.22    2.0\n",
      " 11   -7.251338798698      -10.33       -5.69    2.0\n",
      " 12   -7.251338798704      -11.23       -6.32    2.0\n",
      " 13   -7.251338798704      -12.46       -6.74    2.0\n",
      " 14   -7.251338798705      -13.37       -7.07    3.0\n",
      " 15   -7.251338798705      -14.27       -7.66    1.0\n"
     ]
    }
   ],
   "cell_type": "code",
   "source": [
    "using DFTK\n",
    "using Plots\n",
    "using KrylovKit\n",
    "using Printf\n",
    "\n",
    "# Calculation parameters\n",
    "kgrid = [1, 1, 1]\n",
    "Ecut = 5\n",
    "\n",
    "# Silicon lattice\n",
    "a = 10.26\n",
    "lattice = a / 2 .* [[0 1 1.]; [1 0 1.]; [1 1 0.]]\n",
    "Si = ElementPsp(:Si, psp=load_psp(\"hgh/lda/Si-q4\"))\n",
    "atoms     = [Si, Si]\n",
    "positions = [ones(3)/8, -ones(3)/8]\n",
    "\n",
    "# Compute the dielectric operator without symmetries\n",
    "model = model_LDA(lattice, atoms, positions, symmetries=false)\n",
    "basis = PlaneWaveBasis(model; Ecut, kgrid)\n",
    "scfres = self_consistent_field(basis, tol=1e-14);"
   ],
   "metadata": {},
   "execution_count": 1
  },
  {
   "cell_type": "markdown",
   "source": [
    "Applying $ε^† ≔ (1- χ_0 K)$ …"
   ],
   "metadata": {}
  },
  {
   "outputs": [],
   "cell_type": "code",
   "source": [
    "function eps_fun(δρ)\n",
    "    δV = apply_kernel(basis, δρ; ρ=scfres.ρ)\n",
    "    χ0δV = apply_χ0(scfres, δV)\n",
    "    δρ - χ0δV\n",
    "end;"
   ],
   "metadata": {},
   "execution_count": 2
  },
  {
   "cell_type": "markdown",
   "source": [
    "… eagerly diagonalizes the subspace matrix at each iteration"
   ],
   "metadata": {}
  },
  {
   "outputs": [
    {
     "name": "stdout",
     "output_type": "stream",
     "text": [
      "[ Info: Arnoldi iteration step 1: normres = 0.0913775982178309\n",
      "[ Info: Arnoldi iteration step 2: normres = 0.44974471143114614\n",
      "[ Info: Arnoldi iteration step 3: normres = 0.6507817516839228\n",
      "[ Info: Arnoldi iteration step 4: normres = 0.23745905963664166\n",
      "[ Info: Arnoldi iteration step 5: normres = 0.5410324602624126\n",
      "[ Info: Arnoldi schursolve in iter 1, krylovdim = 5: 0 values converged, normres = (1.02e-02, 8.16e-02, 4.85e-01, 2.25e-01, 1.48e-02)\n",
      "[ Info: Arnoldi iteration step 6: normres = 0.29521755746441974\n",
      "[ Info: Arnoldi schursolve in iter 1, krylovdim = 6: 0 values converged, normres = (2.42e-03, 1.13e-01, 2.25e-01, 1.22e-01, 8.31e-02)\n",
      "[ Info: Arnoldi iteration step 7: normres = 0.07219116006779588\n",
      "[ Info: Arnoldi schursolve in iter 1, krylovdim = 7: 0 values converged, normres = (8.45e-05, 8.99e-03, 1.27e-02, 3.67e-02, 5.03e-02)\n",
      "[ Info: Arnoldi iteration step 8: normres = 0.10817706835432732\n",
      "[ Info: Arnoldi schursolve in iter 1, krylovdim = 8: 0 values converged, normres = (3.92e-06, 6.81e-04, 1.07e-03, 1.18e-02, 4.59e-02)\n",
      "[ Info: Arnoldi iteration step 9: normres = 0.06349218723913863\n",
      "[ Info: Arnoldi schursolve in iter 1, krylovdim = 9: 0 values converged, normres = (1.07e-07, 3.08e-05, 5.36e-05, 2.57e-03, 3.37e-02)\n",
      "[ Info: Arnoldi iteration step 10: normres = 0.09728868159191754\n",
      "[ Info: Arnoldi schursolve in iter 1, krylovdim = 10: 0 values converged, normres = (4.59e-09, 2.19e-06, 4.26e-06, 9.42e-04, 4.19e-02)\n",
      "[ Info: Arnoldi iteration step 11: normres = 0.0953965594373379\n",
      "[ Info: Arnoldi schursolve in iter 1, krylovdim = 11: 0 values converged, normres = (1.89e-10, 1.48e-07, 3.20e-07, 3.02e-04, 3.56e-02)\n",
      "[ Info: Arnoldi iteration step 12: normres = 0.08500010864934712\n",
      "[ Info: Arnoldi schursolve in iter 1, krylovdim = 12: 0 values converged, normres = (7.09e-12, 9.28e-09, 2.23e-08, 1.04e-04, 3.54e-02)\n",
      "[ Info: Arnoldi iteration step 13: normres = 0.092159008831369\n",
      "[ Info: Arnoldi schursolve in iter 1, krylovdim = 13: 1 values converged, normres = (2.79e-13, 5.97e-10, 1.59e-09, 2.99e-05, 2.03e-02)\n",
      "[ Info: Arnoldi iteration step 14: normres = 0.4666008276948853\n",
      "[ Info: Arnoldi schursolve in iter 1, krylovdim = 14: 1 values converged, normres = (1.10e-13, 1.03e-09, 5.76e-09, 4.60e-01, 2.26e-03)\n",
      "[ Info: Arnoldi iteration step 15: normres = 0.14510544961289143\n",
      "[ Info: Arnoldi schursolve in iter 1, krylovdim = 15: 1 values converged, normres = (7.57e-15, 2.23e-10, 5.03e-02, 3.38e-04, 1.08e-05)\n",
      "[ Info: Arnoldi iteration step 16: normres = 0.21388564674692448\n",
      "[ Info: Arnoldi schursolve in iter 1, krylovdim = 16: 1 values converged, normres = (1.69e-15, 1.60e-09, 1.86e-01, 7.52e-03, 1.03e-01)\n",
      "[ Info: Arnoldi iteration step 17: normres = 0.0303652796893996\n",
      "[ Info: Arnoldi schursolve in iter 1, krylovdim = 17: 1 values converged, normres = (2.19e-17, 2.37e-08, 4.00e-03, 1.51e-04, 1.84e-03)\n",
      "[ Info: Arnoldi iteration step 18: normres = 0.020129704469963563\n",
      "[ Info: Arnoldi schursolve in iter 1, krylovdim = 18: 1 values converged, normres = (1.82e-19, 2.44e-05, 4.71e-05, 4.38e-08, 2.70e-05)\n",
      "[ Info: Arnoldi iteration step 19: normres = 0.22310610142693182\n",
      "[ Info: Arnoldi schursolve in iter 1, krylovdim = 19: 1 values converged, normres = (1.79e-20, 4.00e-08, 8.65e-06, 2.71e-06, 4.07e-06)\n",
      "[ Info: Arnoldi iteration step 20: normres = 0.02532935812349221\n",
      "[ Info: Arnoldi schursolve in iter 1, krylovdim = 20: 1 values converged, normres = (2.11e-22, 6.81e-09, 1.79e-07, 3.87e-08, 1.08e-07)\n",
      "[ Info: Arnoldi iteration step 21: normres = 0.023586174165031643\n",
      "[ Info: Arnoldi schursolve in iter 1, krylovdim = 21: 1 values converged, normres = (2.04e-24, 4.44e-10, 2.72e-09, 9.53e-10, 1.70e-09)\n",
      "[ Info: Arnoldi iteration step 22: normres = 0.25881399922145787\n",
      "[ Info: Arnoldi schursolve in iter 1, krylovdim = 22: 1 values converged, normres = (2.23e-25, 7.52e-11, 4.83e-10, 1.87e-10, 3.32e-10)\n",
      "[ Info: Arnoldi iteration step 23: normres = 0.18086612232116953\n",
      "[ Info: Arnoldi schursolve in iter 1, krylovdim = 23: 1 values converged, normres = (3.71e-26, 7.75e-11, 4.97e-10, 1.05e-09, 1.87e-09)\n",
      "[ Info: Arnoldi iteration step 24: normres = 0.01926046962730185\n",
      "[ Info: Arnoldi schursolve in iter 1, krylovdim = 24: 1 values converged, normres = (3.02e-28, 1.21e-12, 7.76e-12, 1.29e-03, 1.77e-03)\n",
      "[ Info: Arnoldi iteration step 25: normres = 0.06326610477568033\n",
      "[ Info: Arnoldi schursolve in iter 1, krylovdim = 25: 3 values converged, normres = (7.90e-30, 5.04e-14, 3.24e-13, 6.89e-05, 3.87e-05)\n",
      "[ Info: Arnoldi iteration step 26: normres = 0.057255745505389005\n",
      "[ Info: Arnoldi schursolve in iter 1, krylovdim = 26: 3 values converged, normres = (2.03e-31, 2.18e-15, 1.40e-14, 2.01e-06, 3.94e-06)\n",
      "[ Info: Arnoldi iteration step 27: normres = 0.06042269612085935\n",
      "[ Info: Arnoldi schursolve in iter 1, krylovdim = 27: 3 values converged, normres = (5.08e-33, 8.78e-17, 5.64e-16, 1.76e-09, 4.05e-09)\n",
      "[ Info: Arnoldi iteration step 28: normres = 0.04610466965237343\n",
      "[ Info: Arnoldi schursolve in iter 1, krylovdim = 28: 3 values converged, normres = (1.04e-34, 2.99e-18, 1.92e-17, 1.27e-09, 9.27e-09)\n",
      "[ Info: Arnoldi iteration step 29: normres = 0.0221838715225417\n",
      "[ Info: Arnoldi schursolve in iter 1, krylovdim = 29: 3 values converged, normres = (9.49e-37, 4.37e-20, 2.81e-19, 1.76e-11, 1.48e-10)\n",
      "[ Info: Arnoldi iteration step 30: normres = 0.1765097463663121\n",
      "[ Info: Arnoldi schursolve in iter 1, krylovdim = 30: 3 values converged, normres = (7.67e-38, 6.05e-21, 3.89e-20, 2.73e-12, 2.29e-11)\n",
      "[ Info: Arnoldi schursolve in iter 2, krylovdim = 19: 3 values converged, normres = (7.67e-38, 6.05e-21, 3.89e-20, 2.73e-12, 2.29e-11)\n",
      "[ Info: Arnoldi iteration step 20: normres = 0.08632415295018082\n",
      "[ Info: Arnoldi schursolve in iter 2, krylovdim = 20: 4 values converged, normres = (2.98e-39, 4.02e-22, 2.58e-21, 2.04e-13, 1.71e-12)\n",
      "[ Info: Arnoldi iteration step 21: normres = 0.03991405616105177\n",
      "┌ Info: Arnoldi eigsolve finished after 2 iterations:\n",
      "│ *  6 eigenvalues converged\n",
      "│ *  norm of residuals = (5.167654457312421e-41, 1.1493266295025522e-23, 7.463701975895505e-23, 6.484246650307433e-15, 5.329514975567557e-14, 9.625838112977635e-15)\n",
      "└ *  number of operations = 32\n"
     ]
    }
   ],
   "cell_type": "code",
   "source": [
    "eigsolve(eps_fun, randn(size(scfres.ρ)), 5, :LM; eager=true, verbosity=3);"
   ],
   "metadata": {},
   "execution_count": 3
  }
 ],
 "nbformat_minor": 3,
 "metadata": {
  "language_info": {
   "file_extension": ".jl",
   "mimetype": "application/julia",
   "name": "julia",
   "version": "1.8.3"
  },
  "kernelspec": {
   "name": "julia-1.8",
   "display_name": "Julia 1.8.3",
   "language": "julia"
  }
 },
 "nbformat": 4
}
