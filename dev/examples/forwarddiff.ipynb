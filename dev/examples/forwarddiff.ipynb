{
 "cells": [
  {
   "cell_type": "markdown",
   "source": [
    "# Polarizability using automatic differentiation\n",
    "\n",
    "Simple example for computing properties using (forward-mode)\n",
    "automatic differentiation.\n",
    "For a more classical approach and more details about computing polarizabilities,\n",
    "see Polarizability by linear response."
   ],
   "metadata": {}
  },
  {
   "outputs": [],
   "cell_type": "code",
   "source": [
    "using DFTK\n",
    "using LinearAlgebra\n",
    "using ForwardDiff\n",
    "\n",
    "# Construct PlaneWaveBasis given a particular electric field strength\n",
    "# Again we take the example of a Helium atom.\n",
    "function make_basis(ε::T; a=10., Ecut=30) where {T}\n",
    "    lattice=T(a) * I(3)  # lattice is a cube of $a$ Bohrs\n",
    "    # Helium at the center of the box\n",
    "    atoms     = [ElementPsp(:He, psp=load_psp(\"hgh/lda/He-q2\"))]\n",
    "    positions = [[1/2, 1/2, 1/2]]\n",
    "\n",
    "    model = model_DFT(lattice, atoms, positions, [:lda_x, :lda_c_vwn];\n",
    "                      extra_terms=[ExternalFromReal(r -> -ε * (r[1] - a/2))],\n",
    "                      symmetries=false)\n",
    "    PlaneWaveBasis(model; Ecut, kgrid=[1, 1, 1])  # No k-point sampling on isolated system\n",
    "end\n",
    "\n",
    "# dipole moment of a given density (assuming the current geometry)\n",
    "function dipole(basis, ρ)\n",
    "    @assert isdiag(basis.model.lattice)\n",
    "    a  = basis.model.lattice[1, 1]\n",
    "    rr = [a * (r[1] - 1/2) for r in r_vectors(basis)]\n",
    "    sum(rr .* ρ) * basis.dvol\n",
    "end\n",
    "\n",
    "# Function to compute the dipole for a given field strength\n",
    "function compute_dipole(ε; tol=1e-8, kwargs...)\n",
    "    scfres = self_consistent_field(make_basis(ε; kwargs...); tol)\n",
    "    dipole(scfres.basis, scfres.ρ)\n",
    "end;"
   ],
   "metadata": {},
   "execution_count": 1
  },
  {
   "cell_type": "markdown",
   "source": [
    "With this in place we can compute the polarizability from finite differences\n",
    "(just like in the previous example):"
   ],
   "metadata": {}
  },
  {
   "outputs": [
    {
     "name": "stdout",
     "output_type": "stream",
     "text": [
      "n     Energy            log10(ΔE)   log10(Δρ)   Diag   Δtime\n",
      "---   ---------------   ---------   ---------   ----   ------\n",
      "  1   -2.770762260936                   -0.53    8.0         \n",
      "  2   -2.772140288493       -2.86       -1.31    1.0    175ms\n",
      "  3   -2.772169997173       -4.53       -2.58    1.0    153ms\n",
      "  4   -2.772170711632       -6.15       -3.62    2.0    217ms\n",
      "  5   -2.772170722632       -7.96       -4.18    2.0    175ms\n",
      "  6   -2.772170722994       -9.44       -5.16    1.0    185ms\n",
      "  7   -2.772170723015      -10.67       -6.27    2.0    177ms\n",
      "  8   -2.772170723015      -13.74       -6.67    1.0    173ms\n",
      "  9   -2.772170723015      -13.95       -7.88    2.0    191ms\n",
      " 10   -2.772170723015      -14.15       -8.68    2.0    200ms\n",
      "n     Energy            log10(ΔE)   log10(Δρ)   Diag   Δtime\n",
      "---   ---------------   ---------   ---------   ----   ------\n",
      "  1   -2.770852912772                   -0.52    9.0         \n",
      "  2   -2.772063728262       -2.92       -1.32    1.0    169ms\n",
      "  3   -2.772083116475       -4.71       -2.47    1.0    150ms\n",
      "  4   -2.772083352019       -6.63       -3.17    1.0    203ms\n",
      "  5   -2.772083417351       -7.18       -4.14    2.0    174ms\n",
      "  6   -2.772083417658       -9.51       -4.47    1.0    161ms\n",
      "  7   -2.772083417809       -9.82       -5.59    1.0    159ms\n",
      "  8   -2.772083417811      -11.84       -6.31    1.0    169ms\n",
      "  9   -2.772083417811      -13.36       -6.47    2.0    193ms\n",
      " 10   -2.772083417811      -13.85       -7.41    1.0    182ms\n",
      " 11   -2.772083417811      -14.21       -8.19    2.0    184ms\n"
     ]
    },
    {
     "output_type": "execute_result",
     "data": {
      "text/plain": "1.7735581061500645"
     },
     "metadata": {},
     "execution_count": 2
    }
   ],
   "cell_type": "code",
   "source": [
    "polarizability_fd = let\n",
    "    ε = 0.01\n",
    "    (compute_dipole(ε) - compute_dipole(0.0)) / ε\n",
    "end"
   ],
   "metadata": {},
   "execution_count": 2
  },
  {
   "cell_type": "markdown",
   "source": [
    "We do the same thing using automatic differentiation. Under the hood this uses\n",
    "custom rules to implicitly differentiate through the self-consistent\n",
    "field fixed-point problem."
   ],
   "metadata": {}
  },
  {
   "outputs": [
    {
     "name": "stdout",
     "output_type": "stream",
     "text": [
      "n     Energy            log10(ΔE)   log10(Δρ)   Diag   Δtime\n",
      "---   ---------------   ---------   ---------   ----   ------\n",
      "  1   -2.770806375533                   -0.53    9.0         \n",
      "  2   -2.772049297135       -2.91       -1.30    1.0    147ms\n",
      "  3   -2.772082359196       -4.48       -2.65    1.0    165ms\n",
      "  4   -2.772083412908       -5.98       -3.77    2.0    201ms\n",
      "  5   -2.772083417367       -8.35       -4.23    2.0    171ms\n",
      "  6   -2.772083417803       -9.36       -5.11    1.0    175ms\n",
      "  7   -2.772083417810      -11.13       -6.48    1.0    161ms\n",
      "  8   -2.772083417811      -12.60       -6.23    2.0    193ms\n",
      "  9   -2.772083417811      -13.57       -7.29    1.0    183ms\n",
      " 10   -2.772083417811   +  -14.12       -7.40    1.0    172ms\n",
      " 11   -2.772083417811      -13.83       -7.83    1.0    175ms\n",
      " 12   -2.772083417811   +  -14.05       -8.28    2.0    193ms\n",
      "\n",
      "Polarizability via ForwardDiff:       1.7725349819449114\n",
      "Polarizability via finite difference: 1.7735581061500645\n"
     ]
    }
   ],
   "cell_type": "code",
   "source": [
    "polarizability = ForwardDiff.derivative(compute_dipole, 0.0)\n",
    "println()\n",
    "println(\"Polarizability via ForwardDiff:       $polarizability\")\n",
    "println(\"Polarizability via finite difference: $polarizability_fd\")"
   ],
   "metadata": {},
   "execution_count": 3
  }
 ],
 "nbformat_minor": 3,
 "metadata": {
  "language_info": {
   "file_extension": ".jl",
   "mimetype": "application/julia",
   "name": "julia",
   "version": "1.9.0"
  },
  "kernelspec": {
   "name": "julia-1.9",
   "display_name": "Julia 1.9.0",
   "language": "julia"
  }
 },
 "nbformat": 4
}
