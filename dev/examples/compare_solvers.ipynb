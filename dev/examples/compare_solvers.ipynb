{
 "cells": [
  {
   "cell_type": "markdown",
   "source": [
    "# Comparison of DFT solvers"
   ],
   "metadata": {}
  },
  {
   "cell_type": "markdown",
   "source": [
    "We compare four different approaches for solving the DFT minimisation problem,\n",
    "namely a density-based SCF, a potential-based SCF, direct minimisation and Newton."
   ],
   "metadata": {}
  },
  {
   "cell_type": "markdown",
   "source": [
    "First we setup our problem"
   ],
   "metadata": {}
  },
  {
   "outputs": [
    {
     "output_type": "execute_result",
     "data": {
      "text/plain": "1.0e-6"
     },
     "metadata": {},
     "execution_count": 1
    }
   ],
   "cell_type": "code",
   "source": [
    "using DFTK\n",
    "using LinearAlgebra\n",
    "\n",
    "a = 10.26  # Silicon lattice constant in Bohr\n",
    "lattice = a / 2 * [[0 1 1.];\n",
    "                   [1 0 1.];\n",
    "                   [1 1 0.]]\n",
    "Si = ElementPsp(:Si, psp=load_psp(\"hgh/lda/Si-q4\"))\n",
    "atoms     = [Si, Si]\n",
    "positions = [ones(3)/8, -ones(3)/8]\n",
    "\n",
    "model = model_LDA(lattice, atoms, positions)\n",
    "basis = PlaneWaveBasis(model; Ecut=5, kgrid=[3, 3, 3])\n",
    "\n",
    "# Convergence we desire in the density\n",
    "tol = 1e-6"
   ],
   "metadata": {},
   "execution_count": 1
  },
  {
   "cell_type": "markdown",
   "source": [
    "## Density-based self-consistent field"
   ],
   "metadata": {}
  },
  {
   "outputs": [
    {
     "name": "stdout",
     "output_type": "stream",
     "text": [
      "n     Energy            log10(ΔE)   log10(Δρ)   Diag   Δtime\n",
      "---   ---------------   ---------   ---------   ----   ------\n",
      "  1   -7.846688862671                   -0.70    4.5         \n",
      "  2   -7.852255266276       -2.25       -1.53    1.0   93.7ms\n",
      "  3   -7.852612306857       -3.45       -2.56    1.8   29.7ms\n",
      "  4   -7.852645982088       -4.47       -2.89    2.5   36.0ms\n",
      "  5   -7.852646514570       -6.27       -3.20    1.0   27.3ms\n",
      "  6   -7.852646679196       -6.78       -4.06    1.0   27.7ms\n",
      "  7   -7.852646686587       -8.13       -5.17    2.0   35.3ms\n",
      "  8   -7.852646686726       -9.86       -5.57    1.5   30.6ms\n",
      "  9   -7.852646686727      -12.06       -5.55    1.5   30.7ms\n",
      " 10   -7.852646686730      -11.54       -6.72    1.0   27.7ms\n"
     ]
    }
   ],
   "cell_type": "code",
   "source": [
    "scfres_scf = self_consistent_field(basis; tol);"
   ],
   "metadata": {},
   "execution_count": 2
  },
  {
   "cell_type": "markdown",
   "source": [
    "## Potential-based SCF"
   ],
   "metadata": {}
  },
  {
   "outputs": [
    {
     "name": "stdout",
     "output_type": "stream",
     "text": [
      "n     Energy            log10(ΔE)   log10(Δρ)   α      Diag   Δtime\n",
      "---   ---------------   ---------   ---------   ----   ----   ------\n",
      "  1   -7.846693141151                   -0.70           4.5         \n",
      "  2   -7.852549692793       -2.23       -1.64   0.80    2.2    282ms\n",
      "  3   -7.852637870922       -4.05       -2.74   0.80    1.0   25.2ms\n",
      "  4   -7.852646430496       -5.07       -3.32   0.80    2.0   31.5ms\n",
      "  5   -7.852646676988       -6.61       -4.15   0.80    2.0   30.7ms\n",
      "  6   -7.852646686393       -8.03       -4.75   0.80    1.5   91.5ms\n",
      "  7   -7.852646686724       -9.48       -5.78   0.80    1.8   29.0ms\n",
      "  8   -7.852646686730      -11.25       -6.75   0.80    2.2   31.7ms\n"
     ]
    }
   ],
   "cell_type": "code",
   "source": [
    "scfres_scfv = DFTK.scf_potential_mixing(basis; tol);"
   ],
   "metadata": {},
   "execution_count": 3
  },
  {
   "cell_type": "markdown",
   "source": [
    "## Direct minimization\n",
    "Note: Unlike the other algorithms, tolerance for this one is in the energy,\n",
    "thus we square the density tolerance value to be roughly equivalent."
   ],
   "metadata": {}
  },
  {
   "outputs": [
    {
     "name": "stdout",
     "output_type": "stream",
     "text": [
      "Iter     Function value   Gradient norm \n",
      "     0     1.415417e+01     3.878634e+00\n",
      " * time: 0.0639040470123291\n",
      "     1     1.357454e+00     2.232629e+00\n",
      " * time: 0.38184094429016113\n",
      "     2    -1.409403e+00     2.713847e+00\n",
      " * time: 0.4078691005706787\n",
      "     3    -3.711272e+00     2.354088e+00\n",
      " * time: 0.44581103324890137\n",
      "     4    -4.909513e+00     2.121931e+00\n",
      " * time: 0.4833240509033203\n",
      "     5    -6.667353e+00     1.155858e+00\n",
      " * time: 0.5208511352539062\n",
      "     6    -7.394385e+00     3.783053e-01\n",
      " * time: 0.5582461357116699\n",
      "     7    -7.628805e+00     1.843477e-01\n",
      " * time: 0.5848960876464844\n",
      "     8    -7.702457e+00     1.085585e-01\n",
      " * time: 0.6109521389007568\n",
      "     9    -7.736438e+00     8.232195e-02\n",
      " * time: 0.6373059749603271\n",
      "    10    -7.761303e+00     6.825428e-02\n",
      " * time: 0.6640670299530029\n",
      "    11    -7.783244e+00     7.692851e-02\n",
      " * time: 0.6909940242767334\n",
      "    12    -7.803324e+00     9.472467e-02\n",
      " * time: 0.7177960872650146\n",
      "    13    -7.826983e+00     6.808226e-02\n",
      " * time: 0.744049072265625\n",
      "    14    -7.837496e+00     5.187299e-02\n",
      " * time: 0.7707419395446777\n",
      "    15    -7.848328e+00     4.504113e-02\n",
      " * time: 0.7971930503845215\n",
      "    16    -7.851189e+00     3.227270e-02\n",
      " * time: 0.8240160942077637\n",
      "    17    -7.852278e+00     9.964410e-03\n",
      " * time: 0.8505709171295166\n",
      "    18    -7.852527e+00     6.648163e-03\n",
      " * time: 0.8769500255584717\n",
      "    19    -7.852609e+00     4.645666e-03\n",
      " * time: 0.9041061401367188\n",
      "    20    -7.852637e+00     2.584596e-03\n",
      " * time: 0.931041955947876\n",
      "    21    -7.852644e+00     1.452945e-03\n",
      " * time: 0.9576020240783691\n",
      "    22    -7.852646e+00     7.591132e-04\n",
      " * time: 0.9842970371246338\n",
      "    23    -7.852646e+00     3.317211e-04\n",
      " * time: 1.0107769966125488\n",
      "    24    -7.852647e+00     2.112421e-04\n",
      " * time: 1.0373039245605469\n",
      "    25    -7.852647e+00     9.517419e-05\n",
      " * time: 1.064103126525879\n",
      "    26    -7.852647e+00     5.772649e-05\n",
      " * time: 1.0907459259033203\n",
      "    27    -7.852647e+00     3.601573e-05\n",
      " * time: 1.117272138595581\n",
      "    28    -7.852647e+00     2.340434e-05\n",
      " * time: 1.1434879302978516\n",
      "    29    -7.852647e+00     1.256149e-05\n",
      " * time: 1.1698110103607178\n",
      "    30    -7.852647e+00     8.290822e-06\n",
      " * time: 1.19559907913208\n",
      "    31    -7.852647e+00     5.192597e-06\n",
      " * time: 1.221276044845581\n",
      "    32    -7.852647e+00     5.290308e-06\n",
      " * time: 1.2474091053009033\n",
      "    33    -7.852647e+00     3.128452e-06\n",
      " * time: 1.273306131362915\n",
      "    34    -7.852647e+00     1.663225e-06\n",
      " * time: 1.2992351055145264\n",
      "    35    -7.852647e+00     1.074983e-06\n",
      " * time: 1.325268030166626\n",
      "    36    -7.852647e+00     3.761550e-07\n",
      " * time: 1.351210117340088\n",
      "    37    -7.852647e+00     2.422066e-07\n",
      " * time: 1.3772659301757812\n",
      "    38    -7.852647e+00     2.149131e-07\n",
      " * time: 1.4031131267547607\n",
      "    39    -7.852647e+00     1.038935e-07\n",
      " * time: 1.4288570880889893\n",
      "    40    -7.852647e+00     4.864059e-08\n",
      " * time: 1.454638957977295\n",
      "    41    -7.852647e+00     3.769960e-08\n",
      " * time: 1.4807500839233398\n",
      "    42    -7.852647e+00     2.337656e-08\n",
      " * time: 1.5069530010223389\n",
      "    43    -7.852647e+00     1.000044e-08\n",
      " * time: 1.5435500144958496\n",
      "    44    -7.852647e+00     7.835272e-09\n",
      " * time: 1.5694999694824219\n",
      "    45    -7.852647e+00     7.835270e-09\n",
      " * time: 1.7281699180603027\n"
     ]
    }
   ],
   "cell_type": "code",
   "source": [
    "scfres_dm = direct_minimization(basis; tol=tol^2);"
   ],
   "metadata": {},
   "execution_count": 4
  },
  {
   "cell_type": "markdown",
   "source": [
    "## Newton algorithm"
   ],
   "metadata": {}
  },
  {
   "cell_type": "markdown",
   "source": [
    "Start not too far from the solution to ensure convergence:\n",
    "We run first a very crude SCF to get close and then switch to Newton."
   ],
   "metadata": {}
  },
  {
   "outputs": [
    {
     "name": "stdout",
     "output_type": "stream",
     "text": [
      "n     Energy            log10(ΔE)   log10(Δρ)   Diag   Δtime\n",
      "---   ---------------   ---------   ---------   ----   ------\n",
      "  1   -7.846899854742                   -0.70    4.8         \n"
     ]
    }
   ],
   "cell_type": "code",
   "source": [
    "scfres_start = self_consistent_field(basis; tol=0.5);"
   ],
   "metadata": {},
   "execution_count": 5
  },
  {
   "cell_type": "markdown",
   "source": [
    "Remove the virtual orbitals (which Newton cannot treat yet)"
   ],
   "metadata": {}
  },
  {
   "outputs": [
    {
     "name": "stdout",
     "output_type": "stream",
     "text": [
      "n     Energy            log10(ΔE)   log10(Δρ)   Δtime\n",
      "---   ---------------   ---------   ---------   ------\n",
      "  1   -7.852645935716                   -1.64         \n",
      "  2   -7.852646686730       -6.12       -3.71    2.13s\n",
      "  3   -7.852646686730      -13.35       -7.27    165ms\n"
     ]
    }
   ],
   "cell_type": "code",
   "source": [
    "ψ = DFTK.select_occupied_orbitals(basis, scfres_start.ψ, scfres_start.occupation).ψ\n",
    "scfres_newton = newton(basis, ψ; tol);"
   ],
   "metadata": {},
   "execution_count": 6
  },
  {
   "cell_type": "markdown",
   "source": [
    "## Comparison of results"
   ],
   "metadata": {}
  },
  {
   "outputs": [
    {
     "name": "stdout",
     "output_type": "stream",
     "text": [
      "|ρ_newton - ρ_scf|  = 3.092403935897309e-7\n",
      "|ρ_newton - ρ_scfv| = 2.1568428993264149e-7\n",
      "|ρ_newton - ρ_dm|   = 9.088936397427687e-10\n"
     ]
    }
   ],
   "cell_type": "code",
   "source": [
    "println(\"|ρ_newton - ρ_scf|  = \", norm(scfres_newton.ρ - scfres_scf.ρ))\n",
    "println(\"|ρ_newton - ρ_scfv| = \", norm(scfres_newton.ρ - scfres_scfv.ρ))\n",
    "println(\"|ρ_newton - ρ_dm|   = \", norm(scfres_newton.ρ - scfres_dm.ρ))"
   ],
   "metadata": {},
   "execution_count": 7
  }
 ],
 "nbformat_minor": 3,
 "metadata": {
  "language_info": {
   "file_extension": ".jl",
   "mimetype": "application/julia",
   "name": "julia",
   "version": "1.9.1"
  },
  "kernelspec": {
   "name": "julia-1.9",
   "display_name": "Julia 1.9.1",
   "language": "julia"
  }
 },
 "nbformat": 4
}
