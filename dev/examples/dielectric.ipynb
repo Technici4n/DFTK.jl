{
 "cells": [
  {
   "cell_type": "markdown",
   "source": [
    "# Eigenvalues of the dielectric matrix\n",
    "\n",
    "We compute a few eigenvalues of the dielectric matrix ($q=0$, $ω=0$) iteratively."
   ],
   "metadata": {}
  },
  {
   "outputs": [
    {
     "name": "stdout",
     "output_type": "stream",
     "text": [
      "n     Energy            log10(ΔE)   log10(Δρ)   Diag   Δtime\n",
      "---   ---------------   ---------   ---------   ----   ------\n",
      "  1   -7.233570063856                   -0.50    8.0         \n",
      "  2   -7.249994390960       -1.78       -1.39    1.0   7.81ms\n",
      "  3   -7.250926343584       -3.03       -1.86    2.0   8.84ms\n",
      "  4   -7.250999837656       -4.13       -1.89    2.0   9.36ms\n",
      "  5   -7.251328381259       -3.48       -2.61    1.0   7.94ms\n",
      "  6   -7.251337583201       -5.04       -3.05    1.0   7.84ms\n",
      "  7   -7.251338699756       -5.95       -3.73    2.0   9.33ms\n",
      "  8   -7.251338784640       -7.07       -3.99    3.0   11.7ms\n",
      "  9   -7.251338797762       -7.88       -4.69    1.0   8.23ms\n",
      " 10   -7.251338798629       -9.06       -4.99    3.0   11.6ms\n",
      " 11   -7.251338798692      -10.20       -5.37    1.0   8.45ms\n",
      " 12   -7.251338798701      -11.08       -5.71    1.0   8.64ms\n",
      " 13   -7.251338798704      -11.48       -6.32    2.0   9.94ms\n",
      " 14   -7.251338798704      -12.31       -6.57    3.0   11.6ms\n",
      " 15   -7.251338798705      -13.34       -7.32    1.0   8.82ms\n",
      " 16   -7.251338798705      -14.75       -7.44    3.0   11.6ms\n",
      " 17   -7.251338798705      -14.75       -8.08    1.0   8.84ms\n"
     ]
    }
   ],
   "cell_type": "code",
   "source": [
    "using DFTK\n",
    "using Plots\n",
    "using KrylovKit\n",
    "using Printf\n",
    "\n",
    "# Calculation parameters\n",
    "kgrid = [1, 1, 1]\n",
    "Ecut = 5\n",
    "\n",
    "# Silicon lattice\n",
    "a = 10.26\n",
    "lattice = a / 2 .* [[0 1 1.]; [1 0 1.]; [1 1 0.]]\n",
    "Si = ElementPsp(:Si, psp=load_psp(\"hgh/lda/Si-q4\"))\n",
    "atoms     = [Si, Si]\n",
    "positions = [ones(3)/8, -ones(3)/8]\n",
    "\n",
    "# Compute the dielectric operator without symmetries\n",
    "model  = model_LDA(lattice, atoms, positions, symmetries=false)\n",
    "basis  = PlaneWaveBasis(model; Ecut, kgrid)\n",
    "scfres = self_consistent_field(basis, tol=1e-8);"
   ],
   "metadata": {},
   "execution_count": 1
  },
  {
   "cell_type": "markdown",
   "source": [
    "Applying $ε^† ≔ (1- χ_0 K)$ …"
   ],
   "metadata": {}
  },
  {
   "outputs": [],
   "cell_type": "code",
   "source": [
    "function eps_fun(δρ)\n",
    "    δV = apply_kernel(basis, δρ; ρ=scfres.ρ)\n",
    "    χ0δV = apply_χ0(scfres, δV)\n",
    "    δρ - χ0δV\n",
    "end;"
   ],
   "metadata": {},
   "execution_count": 2
  },
  {
   "cell_type": "markdown",
   "source": [
    "… eagerly diagonalizes the subspace matrix at each iteration"
   ],
   "metadata": {}
  },
  {
   "outputs": [
    {
     "name": "stdout",
     "output_type": "stream",
     "text": [
      "[ Info: Arnoldi iteration step 1: normres = 0.05671973824637365\n",
      "[ Info: Arnoldi iteration step 2: normres = 0.6360913422097373\n",
      "[ Info: Arnoldi iteration step 3: normres = 0.7895865798999196\n",
      "[ Info: Arnoldi iteration step 4: normres = 0.2625695222587917\n",
      "[ Info: Arnoldi iteration step 5: normres = 0.4623644037454543\n",
      "[ Info: Arnoldi schursolve in iter 1, krylovdim = 5: 0 values converged, normres = (2.04e-02, 7.19e-02, 3.90e-01, 2.36e-01, 1.91e-02)\n",
      "[ Info: Arnoldi iteration step 6: normres = 0.3174942742295876\n",
      "[ Info: Arnoldi schursolve in iter 1, krylovdim = 6: 0 values converged, normres = (5.78e-03, 1.91e-01, 2.16e-01, 1.10e-01, 4.04e-02)\n",
      "[ Info: Arnoldi iteration step 7: normres = 0.07616536492619268\n",
      "[ Info: Arnoldi schursolve in iter 1, krylovdim = 7: 0 values converged, normres = (2.16e-04, 1.49e-02, 1.06e-02, 3.69e-02, 5.65e-02)\n",
      "[ Info: Arnoldi iteration step 8: normres = 0.1194086649592165\n",
      "[ Info: Arnoldi schursolve in iter 1, krylovdim = 8: 0 values converged, normres = (1.11e-05, 1.26e-03, 9.91e-04, 1.39e-02, 5.01e-02)\n",
      "[ Info: Arnoldi iteration step 9: normres = 0.07551722144750025\n",
      "[ Info: Arnoldi schursolve in iter 1, krylovdim = 9: 0 values converged, normres = (3.65e-07, 6.85e-05, 5.99e-05, 3.82e-03, 3.75e-02)\n",
      "[ Info: Arnoldi iteration step 10: normres = 0.09116337637441264\n",
      "[ Info: Arnoldi schursolve in iter 1, krylovdim = 10: 0 values converged, normres = (1.47e-08, 4.61e-06, 4.49e-06, 1.39e-03, 3.80e-02)\n",
      "[ Info: Arnoldi iteration step 11: normres = 0.08992694203043629\n",
      "[ Info: Arnoldi schursolve in iter 1, krylovdim = 11: 0 values converged, normres = (5.65e-10, 2.90e-07, 3.14e-07, 4.04e-04, 2.33e-02)\n",
      "[ Info: Arnoldi iteration step 12: normres = 0.0722444288170851\n",
      "[ Info: Arnoldi schursolve in iter 1, krylovdim = 12: 0 values converged, normres = (1.77e-11, 1.50e-08, 1.80e-08, 9.67e-05, 1.19e-02)\n",
      "[ Info: Arnoldi iteration step 13: normres = 0.04736345282887486\n",
      "[ Info: Arnoldi schursolve in iter 1, krylovdim = 13: 1 values converged, normres = (3.55e-13, 4.88e-10, 6.48e-10, 1.32e-05, 3.13e-03)\n",
      "[ Info: Arnoldi iteration step 14: normres = 0.744250386157024\n",
      "[ Info: Arnoldi schursolve in iter 1, krylovdim = 14: 1 values converged, normres = (1.78e-13, 6.31e-10, 1.11e-09, 7.40e-01, 6.45e-02)\n",
      "[ Info: Arnoldi iteration step 15: normres = 0.0565046158357237\n",
      "[ Info: Arnoldi schursolve in iter 1, krylovdim = 15: 1 values converged, normres = (6.74e-15, 2.40e-09, 3.50e-02, 1.64e-04, 1.40e-05)\n",
      "[ Info: Arnoldi iteration step 16: normres = 0.6923133368795619\n",
      "[ Info: Arnoldi schursolve in iter 1, krylovdim = 16: 1 values converged, normres = (2.72e-15, 3.81e-09, 2.99e-02, 8.68e-05, 6.79e-01)\n",
      "[ Info: Arnoldi iteration step 17: normres = 0.04138355360732955\n",
      "[ Info: Arnoldi schursolve in iter 1, krylovdim = 17: 1 values converged, normres = (7.71e-17, 2.42e-08, 4.85e-03, 3.14e-06, 2.88e-02)\n",
      "[ Info: Arnoldi iteration step 18: normres = 0.01735528052693305\n",
      "[ Info: Arnoldi schursolve in iter 1, krylovdim = 18: 1 values converged, normres = (5.51e-19, 1.42e-08, 5.54e-05, 3.61e-04, 1.70e-05)\n",
      "[ Info: Arnoldi iteration step 19: normres = 0.17526206723514837\n",
      "[ Info: Arnoldi schursolve in iter 1, krylovdim = 19: 1 values converged, normres = (4.06e-20, 5.99e-06, 2.75e-06, 9.35e-09, 4.75e-05)\n",
      "[ Info: Arnoldi iteration step 20: normres = 0.03163849779344224\n",
      "[ Info: Arnoldi schursolve in iter 1, krylovdim = 20: 1 values converged, normres = (6.25e-22, 1.02e-08, 1.83e-07, 2.59e-08, 1.51e-06)\n",
      "[ Info: Arnoldi iteration step 21: normres = 0.01955084323745775\n",
      "[ Info: Arnoldi schursolve in iter 1, krylovdim = 21: 1 values converged, normres = (5.02e-24, 1.29e-09, 1.95e-09, 1.79e-09, 2.11e-08)\n",
      "[ Info: Arnoldi iteration step 22: normres = 0.03498507606275586\n",
      "[ Info: Arnoldi schursolve in iter 1, krylovdim = 22: 1 values converged, normres = (7.29e-26, 3.08e-11, 4.50e-11, 3.19e-11, 5.43e-10)\n",
      "[ Info: Arnoldi iteration step 23: normres = 0.2558843526783099\n",
      "[ Info: Arnoldi schursolve in iter 1, krylovdim = 23: 1 values converged, normres = (7.88e-27, 5.38e-12, 7.88e-12, 6.23e-12, 1.05e-10)\n",
      "[ Info: Arnoldi iteration step 24: normres = 0.09859752410545704\n",
      "[ Info: Arnoldi schursolve in iter 1, krylovdim = 24: 1 values converged, normres = (1.05e-27, 3.47e-12, 5.08e-12, 6.76e-11, 1.15e-09)\n",
      "[ Info: Arnoldi iteration step 25: normres = 0.04278224180071841\n",
      "[ Info: Arnoldi schursolve in iter 1, krylovdim = 25: 3 values converged, normres = (1.28e-29, 1.03e-13, 1.51e-13, 5.52e-04, 3.20e-04)\n",
      "[ Info: Arnoldi iteration step 26: normres = 0.08379981617944825\n",
      "[ Info: Arnoldi schursolve in iter 1, krylovdim = 26: 3 values converged, normres = (4.81e-31, 6.54e-15, 9.59e-15, 3.61e-10, 7.39e-09)\n",
      "[ Info: Arnoldi iteration step 27: normres = 0.022568221602732443\n",
      "[ Info: Arnoldi schursolve in iter 1, krylovdim = 27: 3 values converged, normres = (4.51e-33, 9.85e-17, 1.44e-16, 2.54e-10, 5.25e-09)\n",
      "[ Info: Arnoldi iteration step 28: normres = 0.1080254192846488\n",
      "[ Info: Arnoldi schursolve in iter 1, krylovdim = 28: 3 values converged, normres = (2.09e-34, 7.45e-18, 1.09e-17, 6.30e-10, 2.94e-07)\n",
      "[ Info: Arnoldi iteration step 29: normres = 0.04008646956185461\n",
      "[ Info: Arnoldi schursolve in iter 1, krylovdim = 29: 3 values converged, normres = (3.58e-36, 2.09e-19, 3.06e-19, 1.15e-10, 8.99e-09)\n",
      "[ Info: Arnoldi iteration step 30: normres = 0.13663184426932853\n",
      "[ Info: Arnoldi schursolve in iter 1, krylovdim = 30: 3 values converged, normres = (2.38e-37, 2.49e-20, 3.65e-20, 1.08e-11, 1.22e-09)\n",
      "[ Info: Arnoldi schursolve in iter 2, krylovdim = 19: 3 values converged, normres = (2.38e-37, 2.49e-20, 3.65e-20, 1.08e-11, 1.22e-09)\n",
      "[ Info: Arnoldi iteration step 20: normres = 0.0341340345794337\n",
      "[ Info: Arnoldi schursolve in iter 2, krylovdim = 20: 4 values converged, normres = (3.43e-39, 5.84e-22, 8.56e-22, 3.07e-13, 3.15e-11)\n",
      "[ Info: Arnoldi iteration step 21: normres = 0.0768707545490589\n",
      "[ Info: Arnoldi schursolve in iter 2, krylovdim = 21: 4 values converged, normres = (1.12e-40, 3.12e-23, 4.58e-23, 1.82e-14, 1.87e-12)\n",
      "[ Info: Arnoldi iteration step 22: normres = 0.01887937747838093\n",
      "┌ Info: Arnoldi eigsolve finished after 2 iterations:\n",
      "│ *  6 eigenvalues converged\n",
      "│ *  norm of residuals = (8.901239640962321e-43, 3.9890607333692044e-25, 5.749955050866423e-25, 2.5628365976473735e-16, 2.561291907336872e-14, 2.5542922282242334e-15)\n",
      "└ *  number of operations = 33\n"
     ]
    }
   ],
   "cell_type": "code",
   "source": [
    "eigsolve(eps_fun, randn(size(scfres.ρ)), 5, :LM; eager=true, verbosity=3);"
   ],
   "metadata": {},
   "execution_count": 3
  }
 ],
 "nbformat_minor": 3,
 "metadata": {
  "language_info": {
   "file_extension": ".jl",
   "mimetype": "application/julia",
   "name": "julia",
   "version": "1.9.0"
  },
  "kernelspec": {
   "name": "julia-1.9",
   "display_name": "Julia 1.9.0",
   "language": "julia"
  }
 },
 "nbformat": 4
}
