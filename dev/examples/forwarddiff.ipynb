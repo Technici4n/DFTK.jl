{
 "cells": [
  {
   "cell_type": "markdown",
   "source": [
    "# Polarizability using automatic differentiation\n",
    "\n",
    "Simple example for computing properties using (forward-mode)\n",
    "automatic differentiation.\n",
    "For a more classical approach and more details about computing polarizabilities,\n",
    "see Polarizability by linear response."
   ],
   "metadata": {}
  },
  {
   "outputs": [],
   "cell_type": "code",
   "source": [
    "using DFTK\n",
    "using LinearAlgebra\n",
    "using ForwardDiff\n",
    "\n",
    "# Construct PlaneWaveBasis given a particular electric field strength\n",
    "# Again we take the example of a Helium atom.\n",
    "function make_basis(ε::T; a=10., Ecut=30) where {T}\n",
    "    lattice=T(a) * I(3)  # lattice is a cube of $a$ Bohrs\n",
    "    # Helium at the center of the box\n",
    "    atoms     = [ElementPsp(:He, psp=load_psp(\"hgh/lda/He-q2\"))]\n",
    "    positions = [[1/2, 1/2, 1/2]]\n",
    "\n",
    "    model = model_DFT(lattice, atoms, positions, [:lda_x, :lda_c_vwn];\n",
    "                      extra_terms=[ExternalFromReal(r -> -ε * (r[1] - a/2))],\n",
    "                      symmetries=false)\n",
    "    PlaneWaveBasis(model; Ecut, kgrid=[1, 1, 1])  # No k-point sampling on isolated system\n",
    "end\n",
    "\n",
    "# dipole moment of a given density (assuming the current geometry)\n",
    "function dipole(basis, ρ)\n",
    "    @assert isdiag(basis.model.lattice)\n",
    "    a  = basis.model.lattice[1, 1]\n",
    "    rr = [a * (r[1] - 1/2) for r in r_vectors(basis)]\n",
    "    sum(rr .* ρ) * basis.dvol\n",
    "end\n",
    "\n",
    "# Function to compute the dipole for a given field strength\n",
    "function compute_dipole(ε; tol=1e-8, kwargs...)\n",
    "    scfres = self_consistent_field(make_basis(ε; kwargs...); tol)\n",
    "    dipole(scfres.basis, scfres.ρ)\n",
    "end;"
   ],
   "metadata": {},
   "execution_count": 1
  },
  {
   "cell_type": "markdown",
   "source": [
    "With this in place we can compute the polarizability from finite differences\n",
    "(just like in the previous example):"
   ],
   "metadata": {}
  },
  {
   "outputs": [
    {
     "name": "stdout",
     "output_type": "stream",
     "text": [
      "n     Energy            log10(ΔE)   log10(Δρ)   Diag   Δtime\n",
      "---   ---------------   ---------   ---------   ----   ------\n",
      "  1   -2.770815816465                   -0.53    9.0         \n",
      "  2   -2.772142804552       -2.88       -1.31    1.0    154ms\n",
      "  3   -2.772170327912       -4.56       -2.54    1.0    182ms\n",
      "  4   -2.772170699471       -6.43       -3.44    2.0    176ms\n",
      "  5   -2.772170721020       -7.67       -3.90    1.0    170ms\n",
      "  6   -2.772170722856       -8.74       -4.82    1.0    191ms\n",
      "  7   -2.772170723008       -9.82       -5.05    2.0    185ms\n",
      "  8   -2.772170723015      -11.16       -6.50    1.0    182ms\n",
      "  9   -2.772170723015      -12.94       -6.86    2.0    201ms\n",
      " 10   -2.772170723015      -14.05       -7.98    1.0    182ms\n",
      " 11   -2.772170723015      -14.75       -8.82    2.0    202ms\n",
      "n     Energy            log10(ΔE)   log10(Δρ)   Diag   Δtime\n",
      "---   ---------------   ---------   ---------   ----   ------\n",
      "  1   -2.770548509747                   -0.53    8.0         \n",
      "  2   -2.772051269577       -2.82       -1.29    1.0    186ms\n",
      "  3   -2.772082434079       -4.51       -2.67    1.0    156ms\n",
      "  4   -2.772083414134       -6.01       -3.88    2.0    184ms\n",
      "  5   -2.772083417600       -8.46       -4.37    2.0    223ms\n",
      "  6   -2.772083417802       -9.69       -5.26    1.0    163ms\n",
      "  7   -2.772083417811      -11.08       -5.91    2.0    193ms\n",
      "  8   -2.772083417811      -13.09       -6.56    1.0    171ms\n",
      "  9   -2.772083417811      -13.68       -7.26    2.0    205ms\n",
      " 10   -2.772083417811   +  -14.65       -7.49    1.0    192ms\n",
      " 11   -2.772083417811   +  -13.95       -8.36    1.0    172ms\n"
     ]
    },
    {
     "output_type": "execute_result",
     "data": {
      "text/plain": "1.7735580394577344"
     },
     "metadata": {},
     "execution_count": 2
    }
   ],
   "cell_type": "code",
   "source": [
    "polarizability_fd = let\n",
    "    ε = 0.01\n",
    "    (compute_dipole(ε) - compute_dipole(0.0)) / ε\n",
    "end"
   ],
   "metadata": {},
   "execution_count": 2
  },
  {
   "cell_type": "markdown",
   "source": [
    "We do the same thing using automatic differentiation. Under the hood this uses\n",
    "custom rules to implicitly differentiate through the self-consistent\n",
    "field fixed-point problem."
   ],
   "metadata": {}
  },
  {
   "outputs": [
    {
     "name": "stdout",
     "output_type": "stream",
     "text": [
      "n     Energy            log10(ΔE)   log10(Δρ)   Diag   Δtime\n",
      "---   ---------------   ---------   ---------   ----   ------\n",
      "  1   -2.770726216029                   -0.53    8.0         \n",
      "  2   -2.772039806771       -2.88       -1.30    1.0    222ms\n",
      "  3   -2.772081346381       -4.38       -2.68    1.0    157ms\n",
      "  4   -2.772083409566       -5.69       -3.67    2.0    232ms\n",
      "  5   -2.772083416383       -8.17       -3.99    2.0    180ms\n",
      "  6   -2.772083417777       -8.86       -5.26    1.0    163ms\n",
      "  7   -2.772083417810      -10.48       -5.69    2.0    218ms\n",
      "  8   -2.772083417811      -12.34       -6.37    2.0    191ms\n",
      "  9   -2.772083417811      -13.68       -6.76    1.0    192ms\n",
      " 10   -2.772083417811   +  -14.10       -7.77    1.0    181ms\n",
      " 11   -2.772083417811      -14.12       -8.54    2.0    211ms\n",
      "\n",
      "Polarizability via ForwardDiff:       1.772534973588074\n",
      "Polarizability via finite difference: 1.7735580394577344\n"
     ]
    }
   ],
   "cell_type": "code",
   "source": [
    "polarizability = ForwardDiff.derivative(compute_dipole, 0.0)\n",
    "println()\n",
    "println(\"Polarizability via ForwardDiff:       $polarizability\")\n",
    "println(\"Polarizability via finite difference: $polarizability_fd\")"
   ],
   "metadata": {},
   "execution_count": 3
  }
 ],
 "nbformat_minor": 3,
 "metadata": {
  "language_info": {
   "file_extension": ".jl",
   "mimetype": "application/julia",
   "name": "julia",
   "version": "1.9.3"
  },
  "kernelspec": {
   "name": "julia-1.9",
   "display_name": "Julia 1.9.3",
   "language": "julia"
  }
 },
 "nbformat": 4
}
