{
 "cells": [
  {
   "cell_type": "markdown",
   "source": [
    "# AtomsBase integration"
   ],
   "metadata": {}
  },
  {
   "cell_type": "markdown",
   "source": [
    "[AtomsBase.jl](https://github.com/JuliaMolSim/AtomsBase.jl) is a common interface\n",
    "for representing atomic structures in Julia. DFTK directly supports using such\n",
    "structures to run a calculation as is demonstrated here."
   ],
   "metadata": {}
  },
  {
   "outputs": [],
   "cell_type": "code",
   "source": [
    "using DFTK"
   ],
   "metadata": {},
   "execution_count": 1
  },
  {
   "cell_type": "markdown",
   "source": [
    "## Feeding an AtomsBase AbstractSystem to DFTK\n",
    "In this example we construct a silicon system using the `ase.build.bulk` routine\n",
    "from the [atomistic simulation environment](https://wiki.fysik.dtu.dk/ase/index.html)\n",
    "(ASE), which is exposed by [ASEconvert](https://github.com/mfherbst/ASEconvert.jl)\n",
    "as an AtomsBase `AbstractSystem`."
   ],
   "metadata": {}
  },
  {
   "outputs": [
    {
     "output_type": "execute_result",
     "data": {
      "text/plain": "FlexibleSystem(Si₂, periodic = TTT):\n    bounding_box      : [       0    2.715    2.715;\n                            2.715        0    2.715;\n                            2.715    2.715        0]u\"Å\"\n\n    Atom(Si, [       0,        0,        0]u\"Å\")\n    Atom(Si, [  1.3575,   1.3575,   1.3575]u\"Å\")\n\n                       \n                       \n                       \n                       \n              Si       \n                       \n          Si           \n                       \n                       \n                       \n                       \n"
     },
     "metadata": {},
     "execution_count": 2
    }
   ],
   "cell_type": "code",
   "source": [
    "# Construct bulk system and convert to an AbstractSystem\n",
    "using ASEconvert\n",
    "system_ase = ase.build.bulk(\"Si\")\n",
    "system = pyconvert(AbstractSystem, system_ase)"
   ],
   "metadata": {},
   "execution_count": 2
  },
  {
   "cell_type": "markdown",
   "source": [
    "To use an AbstractSystem in DFTK, we attach pseudopotentials, construct a DFT model,\n",
    "discretise and solve:"
   ],
   "metadata": {}
  },
  {
   "outputs": [
    {
     "name": "stdout",
     "output_type": "stream",
     "text": [
      "n     Energy            log10(ΔE)   log10(Δρ)   Diag   Δtime\n",
      "---   ---------------   ---------   ---------   ----   ------\n",
      "  1   -7.921691000913                   -0.69    5.8         \n",
      "  2   -7.926165916580       -2.35       -1.22    1.0    228ms\n",
      "  3   -7.926835844143       -3.17       -2.37    1.6    270ms\n",
      "  4   -7.926861478311       -4.59       -2.99    2.8    264ms\n",
      "  5   -7.926861621870       -6.84       -3.30    2.1    227ms\n",
      "  6   -7.926861664710       -7.37       -3.69    1.4    242ms\n",
      "  7   -7.926861680594       -7.80       -4.41    1.2    201ms\n",
      "  8   -7.926861681816       -8.91       -4.96    2.4    233ms\n",
      "  9   -7.926861681852      -10.45       -5.13    2.0    225ms\n",
      " 10   -7.926861681872      -10.71       -5.97    1.1    217ms\n",
      " 11   -7.926861681873      -11.97       -6.93    2.2    237ms\n",
      " 12   -7.926861681873      -13.62       -7.25    3.1    259ms\n",
      " 13   -7.926861681873   +  -14.75       -7.77    1.4    220ms\n",
      " 14   -7.926861681873   +  -15.05       -8.67    2.1    226ms\n"
     ]
    }
   ],
   "cell_type": "code",
   "source": [
    "system = attach_psp(system; Si=\"hgh/lda/si-q4\")\n",
    "\n",
    "model  = model_LDA(system; temperature=1e-3)\n",
    "basis  = PlaneWaveBasis(model; Ecut=15, kgrid=[4, 4, 4])\n",
    "scfres = self_consistent_field(basis, tol=1e-8);"
   ],
   "metadata": {},
   "execution_count": 3
  },
  {
   "cell_type": "markdown",
   "source": [
    "If we did not want to use ASE we could of course use any other package\n",
    "which yields an AbstractSystem object. This includes:"
   ],
   "metadata": {}
  },
  {
   "cell_type": "markdown",
   "source": [
    "### Reading a system using AtomsIO"
   ],
   "metadata": {}
  },
  {
   "outputs": [
    {
     "name": "stdout",
     "output_type": "stream",
     "text": [
      "n     Energy            log10(ΔE)   log10(Δρ)   Diag   Δtime\n",
      "---   ---------------   ---------   ---------   ----   ------\n",
      "  1   -7.921729185034                   -0.69    5.6         \n",
      "  2   -7.926168680176       -2.35       -1.22    1.0    213ms\n",
      "  3   -7.926836952866       -3.18       -2.37    1.6    229ms\n",
      "  4   -7.926861526280       -4.61       -3.01    2.9    308ms\n",
      "  5   -7.926861635190       -6.96       -3.34    2.0    215ms\n",
      "  6   -7.926861667660       -7.49       -3.74    1.6    210ms\n",
      "  7   -7.926861680665       -7.89       -4.41    1.0    196ms\n",
      "  8   -7.926861681823       -8.94       -5.01    2.4    265ms\n",
      "  9   -7.926861681858      -10.45       -5.20    1.9    224ms\n",
      " 10   -7.926861681872      -10.87       -5.95    1.1    199ms\n",
      " 11   -7.926861681873      -12.01       -6.94    2.4    237ms\n",
      " 12   -7.926861681873      -13.59       -7.37    2.8    261ms\n",
      " 13   -7.926861681873   +    -Inf       -8.35    1.8    213ms\n"
     ]
    }
   ],
   "cell_type": "code",
   "source": [
    "using AtomsIO\n",
    "\n",
    "# Read a file using [AtomsIO](https://github.com/mfherbst/AtomsIO.jl),\n",
    "# which directly yields an AbstractSystem.\n",
    "system = load_system(\"Si.extxyz\")\n",
    "\n",
    "# Now run the LDA calculation:\n",
    "system = attach_psp(system; Si=\"hgh/lda/si-q4\")\n",
    "model  = model_LDA(system; temperature=1e-3)\n",
    "basis  = PlaneWaveBasis(model; Ecut=15, kgrid=[4, 4, 4])\n",
    "scfres = self_consistent_field(basis, tol=1e-8);"
   ],
   "metadata": {},
   "execution_count": 4
  },
  {
   "cell_type": "markdown",
   "source": [
    "The same could be achieved using [ExtXYZ](https://github.com/libAtoms/ExtXYZ.jl)\n",
    "by `system = Atoms(read_frame(\"Si.extxyz\"))`,\n",
    "since the `ExtXYZ.Atoms` object is directly AtomsBase-compatible."
   ],
   "metadata": {}
  },
  {
   "cell_type": "markdown",
   "source": [
    "### Directly setting up a system in AtomsBase"
   ],
   "metadata": {}
  },
  {
   "outputs": [
    {
     "name": "stdout",
     "output_type": "stream",
     "text": [
      "n     Energy            log10(ΔE)   log10(Δρ)   Diag   Δtime\n",
      "---   ---------------   ---------   ---------   ----   ------\n",
      "  1   -7.921627920561                   -0.69    5.8         \n",
      "  2   -7.926167794491       -2.34       -1.22    1.0    253ms\n",
      "  3   -7.926839932235       -3.17       -2.37    1.9    239ms\n",
      "  4   -7.926864893217       -4.60       -3.00    2.5    251ms\n",
      "  5   -7.926865032067       -6.86       -3.30    1.9    215ms\n",
      "  6   -7.926865073232       -7.39       -3.65    1.6    211ms\n",
      "  7   -7.926865091496       -7.74       -4.36    1.1    218ms\n"
     ]
    }
   ],
   "cell_type": "code",
   "source": [
    "using AtomsBase\n",
    "using Unitful\n",
    "using UnitfulAtomic\n",
    "\n",
    "# Construct a system in the AtomsBase world\n",
    "a = 10.26u\"bohr\"  # Silicon lattice constant\n",
    "lattice = a / 2 * [[0, 1, 1.],  # Lattice as vector of vectors\n",
    "                   [1, 0, 1.],\n",
    "                   [1, 1, 0.]]\n",
    "atoms  = [:Si => ones(3)/8, :Si => -ones(3)/8]\n",
    "system = periodic_system(atoms, lattice; fractional=true)\n",
    "\n",
    "# Now run the LDA calculation:\n",
    "system = attach_psp(system; Si=\"hgh/lda/si-q4\")\n",
    "model  = model_LDA(system; temperature=1e-3)\n",
    "basis  = PlaneWaveBasis(model; Ecut=15, kgrid=[4, 4, 4])\n",
    "scfres = self_consistent_field(basis, tol=1e-4);"
   ],
   "metadata": {},
   "execution_count": 5
  },
  {
   "cell_type": "markdown",
   "source": [
    "## Obtaining an AbstractSystem from DFTK data"
   ],
   "metadata": {}
  },
  {
   "cell_type": "markdown",
   "source": [
    "At any point we can also get back the DFTK model as an\n",
    "AtomsBase-compatible `AbstractSystem`:"
   ],
   "metadata": {}
  },
  {
   "outputs": [
    {
     "output_type": "execute_result",
     "data": {
      "text/plain": "FlexibleSystem(Si₂, periodic = TTT):\n    bounding_box      : [       0     5.13     5.13;\n                             5.13        0     5.13;\n                             5.13     5.13        0]u\"a₀\"\n\n    Atom(Si, [  1.2825,   1.2825,   1.2825]u\"a₀\")\n    Atom(Si, [ -1.2825,  -1.2825,  -1.2825]u\"a₀\")\n\n                       \n                       \n                       \n                       \n              Si       \n                       \n          Si           \n                       \n                       \n                       \n                       \n"
     },
     "metadata": {},
     "execution_count": 6
    }
   ],
   "cell_type": "code",
   "source": [
    "second_system = atomic_system(model)"
   ],
   "metadata": {},
   "execution_count": 6
  },
  {
   "cell_type": "markdown",
   "source": [
    "Similarly DFTK offers a method to the `atomic_system` and `periodic_system` functions\n",
    "(from AtomsBase), which enable a seamless conversion of the usual data structures for\n",
    "setting up DFTK calculations into an `AbstractSystem`:"
   ],
   "metadata": {}
  },
  {
   "outputs": [
    {
     "output_type": "execute_result",
     "data": {
      "text/plain": "FlexibleSystem(Si₂, periodic = TTT):\n    bounding_box      : [       0  5.13155  5.13155;\n                          5.13155        0  5.13155;\n                          5.13155  5.13155        0]u\"a₀\"\n\n    Atom(Si, [ 1.28289,  1.28289,  1.28289]u\"a₀\")\n    Atom(Si, [-1.28289, -1.28289, -1.28289]u\"a₀\")\n\n                       \n                       \n                       \n                       \n              Si       \n                       \n          Si           \n                       \n                       \n                       \n                       \n"
     },
     "metadata": {},
     "execution_count": 7
    }
   ],
   "cell_type": "code",
   "source": [
    "lattice = 5.431u\"Å\" / 2 * [[0 1 1.];\n",
    "                           [1 0 1.];\n",
    "                           [1 1 0.]];\n",
    "Si = ElementPsp(:Si, psp=load_psp(\"hgh/lda/Si-q4\"))\n",
    "atoms     = [Si, Si]\n",
    "positions = [ones(3)/8, -ones(3)/8]\n",
    "\n",
    "third_system = atomic_system(lattice, atoms, positions)"
   ],
   "metadata": {},
   "execution_count": 7
  }
 ],
 "nbformat_minor": 3,
 "metadata": {
  "language_info": {
   "file_extension": ".jl",
   "mimetype": "application/julia",
   "name": "julia",
   "version": "1.8.5"
  },
  "kernelspec": {
   "name": "julia-1.8",
   "display_name": "Julia 1.8.5",
   "language": "julia"
  }
 },
 "nbformat": 4
}
