{
 "cells": [
  {
   "cell_type": "markdown",
   "source": [
    "# Eigenvalues of the dielectric matrix\n",
    "\n",
    "We compute a few eigenvalues of the dielectric matrix ($q=0$, $ω=0$) iteratively."
   ],
   "metadata": {}
  },
  {
   "outputs": [
    {
     "name": "stdout",
     "output_type": "stream",
     "text": [
      "n     Energy            log10(ΔE)   log10(Δρ)   Diag\n",
      "---   ---------------   ---------   ---------   ----\n",
      "  1   -7.234226578278                   -0.50    8.0\n",
      "  2   -7.250227580227       -1.80       -1.40    1.0\n",
      "  3   -7.251316822968       -2.96       -2.16    4.0\n",
      "  4   -7.251295869454   +   -4.68       -2.29    3.0\n",
      "  5   -7.251330909420       -4.46       -2.72    2.0\n",
      "  6   -7.251337231337       -5.20       -3.04    2.0\n",
      "  7   -7.251338767613       -5.81       -3.94    1.0\n",
      "  8   -7.251338794221       -7.58       -4.21    4.0\n",
      "  9   -7.251338798236       -8.40       -4.73    2.0\n",
      " 10   -7.251338798681       -9.35       -5.39    2.0\n",
      " 11   -7.251338798699      -10.74       -5.64    3.0\n",
      " 12   -7.251338798704      -11.35       -6.06    2.0\n",
      " 13   -7.251338798705      -12.22       -6.86    3.0\n",
      " 14   -7.251338798705      -14.01       -7.28    2.0\n"
     ]
    }
   ],
   "cell_type": "code",
   "source": [
    "using DFTK\n",
    "using Plots\n",
    "using KrylovKit\n",
    "using Printf\n",
    "\n",
    "# Calculation parameters\n",
    "kgrid = [1, 1, 1]\n",
    "Ecut = 5\n",
    "\n",
    "# Silicon lattice\n",
    "a = 10.26\n",
    "lattice = a / 2 .* [[0 1 1.]; [1 0 1.]; [1 1 0.]]\n",
    "Si = ElementPsp(:Si, psp=load_psp(\"hgh/lda/Si-q4\"))\n",
    "atoms     = [Si, Si]\n",
    "positions = [ones(3)/8, -ones(3)/8]\n",
    "\n",
    "# Compute the dielectric operator without symmetries\n",
    "model = model_LDA(lattice, atoms, positions, symmetries=false)\n",
    "basis = PlaneWaveBasis(model; Ecut, kgrid)\n",
    "scfres = self_consistent_field(basis, tol=1e-14);"
   ],
   "metadata": {},
   "execution_count": 1
  },
  {
   "cell_type": "markdown",
   "source": [
    "Applying $ε^† ≔ (1- χ_0 K)$ …"
   ],
   "metadata": {}
  },
  {
   "outputs": [],
   "cell_type": "code",
   "source": [
    "function eps_fun(δρ)\n",
    "    δV = apply_kernel(basis, δρ; ρ=scfres.ρ)\n",
    "    χ0δV = apply_χ0(scfres, δV)\n",
    "    δρ - χ0δV\n",
    "end;"
   ],
   "metadata": {},
   "execution_count": 2
  },
  {
   "cell_type": "markdown",
   "source": [
    "… eagerly diagonalizes the subspace matrix at each iteration"
   ],
   "metadata": {}
  },
  {
   "outputs": [
    {
     "name": "stdout",
     "output_type": "stream",
     "text": [
      "[ Info: Arnoldi iteration step 1: normres = 0.0761188165435452\n",
      "[ Info: Arnoldi iteration step 2: normres = 0.6176260667356475\n",
      "[ Info: Arnoldi iteration step 3: normres = 0.7030464419834104\n",
      "[ Info: Arnoldi iteration step 4: normres = 0.22770287344324094\n",
      "[ Info: Arnoldi iteration step 5: normres = 0.24183650522483577\n",
      "[ Info: Arnoldi schursolve in iter 1, krylovdim = 5: 0 values converged, normres = (6.41e-03, 2.66e-02, 1.69e-01, 1.61e-01, 5.61e-02)\n",
      "[ Info: Arnoldi iteration step 6: normres = 0.6025913971811977\n",
      "[ Info: Arnoldi schursolve in iter 1, krylovdim = 6: 0 values converged, normres = (2.85e-03, 5.49e-02, 5.78e-01, 1.25e-01, 4.24e-02)\n",
      "[ Info: Arnoldi iteration step 7: normres = 0.10397430451184511\n",
      "[ Info: Arnoldi schursolve in iter 1, krylovdim = 7: 0 values converged, normres = (1.97e-04, 5.81e-02, 1.01e-02, 4.55e-02, 6.71e-02)\n",
      "[ Info: Arnoldi iteration step 8: normres = 0.12158092013501101\n",
      "[ Info: Arnoldi schursolve in iter 1, krylovdim = 8: 0 values converged, normres = (1.03e-05, 4.99e-03, 9.73e-04, 1.77e-02, 4.79e-02)\n",
      "[ Info: Arnoldi iteration step 9: normres = 0.07094801742393012\n",
      "[ Info: Arnoldi schursolve in iter 1, krylovdim = 9: 0 values converged, normres = (3.22e-07, 2.59e-04, 5.65e-05, 5.05e-03, 3.46e-02)\n",
      "[ Info: Arnoldi iteration step 10: normres = 0.08170387681072645\n",
      "[ Info: Arnoldi schursolve in iter 1, krylovdim = 10: 0 values converged, normres = (1.15e-08, 1.53e-05, 3.71e-06, 1.45e-03, 2.21e-02)\n",
      "[ Info: Arnoldi iteration step 11: normres = 0.06972252515997408\n",
      "[ Info: Arnoldi schursolve in iter 1, krylovdim = 11: 0 values converged, normres = (3.46e-10, 7.59e-07, 2.05e-07, 3.47e-04, 1.20e-02)\n",
      "[ Info: Arnoldi iteration step 12: normres = 0.08151882380193035\n",
      "[ Info: Arnoldi schursolve in iter 1, krylovdim = 12: 0 values converged, normres = (1.21e-11, 4.33e-08, 1.30e-08, 8.55e-05, 5.83e-03)\n",
      "[ Info: Arnoldi iteration step 13: normres = 0.19169540923811176\n",
      "[ Info: Arnoldi schursolve in iter 1, krylovdim = 13: 1 values converged, normres = (9.98e-13, 5.88e-09, 1.95e-09, 5.30e-05, 7.65e-03)\n",
      "[ Info: Arnoldi iteration step 14: normres = 0.2189118775116575\n",
      "[ Info: Arnoldi schursolve in iter 1, krylovdim = 14: 1 values converged, normres = (1.98e-13, 7.06e-09, 1.09e-08, 2.14e-01, 1.08e-03)\n",
      "[ Info: Arnoldi iteration step 15: normres = 0.1783824114416449\n",
      "[ Info: Arnoldi schursolve in iter 1, krylovdim = 15: 1 values converged, normres = (1.53e-14, 1.12e-09, 2.85e-02, 1.26e-03, 6.77e-06)\n",
      "[ Info: Arnoldi iteration step 16: normres = 0.2583309582277186\n",
      "[ Info: Arnoldi schursolve in iter 1, krylovdim = 16: 1 values converged, normres = (4.10e-15, 5.98e-09, 2.49e-01, 1.44e-02, 5.94e-02)\n",
      "[ Info: Arnoldi iteration step 17: normres = 0.026608425579869317\n",
      "[ Info: Arnoldi schursolve in iter 1, krylovdim = 17: 1 values converged, normres = (4.76e-17, 5.71e-05, 4.52e-03, 5.72e-04, 8.66e-04)\n",
      "[ Info: Arnoldi iteration step 18: normres = 0.027651284438598562\n",
      "[ Info: Arnoldi schursolve in iter 1, krylovdim = 18: 1 values converged, normres = (5.42e-19, 3.45e-06, 8.20e-05, 6.99e-08, 2.08e-05)\n",
      "[ Info: Arnoldi iteration step 19: normres = 0.21583715844282966\n",
      "[ Info: Arnoldi schursolve in iter 1, krylovdim = 19: 1 values converged, normres = (5.29e-20, 6.72e-07, 1.36e-05, 3.83e-06, 3.79e-07)\n",
      "[ Info: Arnoldi iteration step 20: normres = 0.044560183433290865\n",
      "[ Info: Arnoldi schursolve in iter 1, krylovdim = 20: 1 values converged, normres = (1.07e-21, 4.73e-07, 2.83e-08, 3.42e-08, 1.47e-07)\n",
      "[ Info: Arnoldi iteration step 21: normres = 0.028903841151607892\n",
      "[ Info: Arnoldi schursolve in iter 1, krylovdim = 21: 1 values converged, normres = (1.29e-23, 3.41e-09, 8.51e-09, 8.97e-10, 3.10e-09)\n",
      "[ Info: Arnoldi iteration step 22: normres = 0.48513113453950446\n",
      "[ Info: Arnoldi schursolve in iter 1, krylovdim = 22: 1 values converged, normres = (2.84e-24, 1.33e-09, 3.16e-09, 3.85e-10, 1.30e-09)\n",
      "[ Info: Arnoldi iteration step 23: normres = 0.03197714248676976\n",
      "[ Info: Arnoldi schursolve in iter 1, krylovdim = 23: 1 values converged, normres = (7.91e-26, 2.59e-10, 6.18e-10, 1.02e-03, 1.48e-02)\n",
      "[ Info: Arnoldi iteration step 24: normres = 0.0147164009183068\n",
      "[ Info: Arnoldi schursolve in iter 1, krylovdim = 24: 1 values converged, normres = (4.75e-28, 2.48e-12, 5.92e-12, 1.21e-08, 7.26e-08)\n",
      "[ Info: Arnoldi iteration step 25: normres = 0.057245748374117104\n",
      "[ Info: Arnoldi schursolve in iter 1, krylovdim = 25: 3 values converged, normres = (1.12e-29, 9.29e-14, 2.22e-13, 2.99e-07, 2.29e-07)\n",
      "[ Info: Arnoldi iteration step 26: normres = 0.06074841630824919\n",
      "[ Info: Arnoldi schursolve in iter 1, krylovdim = 26: 3 values converged, normres = (3.06e-31, 4.30e-15, 1.03e-14, 1.32e-08, 4.66e-08)\n",
      "[ Info: Arnoldi iteration step 27: normres = 0.03399335268683611\n",
      "[ Info: Arnoldi schursolve in iter 1, krylovdim = 27: 3 values converged, normres = (4.30e-33, 9.67e-17, 2.31e-16, 1.48e-08, 5.63e-09)\n",
      "[ Info: Arnoldi iteration step 28: normres = 0.0804213538644385\n",
      "[ Info: Arnoldi schursolve in iter 1, krylovdim = 28: 3 values converged, normres = (1.52e-34, 5.69e-18, 1.36e-17, 1.56e-10, 1.00e-09)\n",
      "[ Info: Arnoldi iteration step 29: normres = 0.11232261696634792\n",
      "[ Info: Arnoldi schursolve in iter 1, krylovdim = 29: 3 values converged, normres = (7.21e-36, 4.38e-19, 1.05e-18, 1.33e-11, 8.55e-11)\n",
      "[ Info: Arnoldi iteration step 30: normres = 0.06223066515991544\n",
      "[ Info: Arnoldi schursolve in iter 1, krylovdim = 30: 4 values converged, normres = (2.23e-37, 2.42e-20, 5.79e-20, 8.41e-13, 5.40e-12)\n",
      "[ Info: Arnoldi schursolve in iter 2, krylovdim = 19: 4 values converged, normres = (2.24e-37, 2.42e-20, 5.79e-20, 8.41e-13, 5.40e-12)\n",
      "[ Info: Arnoldi iteration step 20: normres = 0.0812298592383836\n",
      "┌ Info: Arnoldi eigsolve finished after 2 iterations:\n",
      "│ *  6 eigenvalues converged\n",
      "│ *  norm of residuals = (7.679754343725098e-39, 1.3564588256395596e-21, 3.061387455743423e-21, 5.2201273062781387e-14, 3.3648843229026264e-13, 8.920365129121318e-14)\n",
      "└ *  number of operations = 31\n"
     ]
    }
   ],
   "cell_type": "code",
   "source": [
    "eigsolve(eps_fun, randn(size(scfres.ρ)), 5, :LM; eager=true, verbosity=3);"
   ],
   "metadata": {},
   "execution_count": 3
  }
 ],
 "nbformat_minor": 3,
 "metadata": {
  "language_info": {
   "file_extension": ".jl",
   "mimetype": "application/julia",
   "name": "julia",
   "version": "1.8.2"
  },
  "kernelspec": {
   "name": "julia-1.8",
   "display_name": "Julia 1.8.2",
   "language": "julia"
  }
 },
 "nbformat": 4
}
