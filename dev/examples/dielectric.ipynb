{
 "cells": [
  {
   "cell_type": "markdown",
   "source": [
    "# Eigenvalues of the dielectric matrix\n",
    "\n",
    "We compute a few eigenvalues of the dielectric matrix ($q=0$, $ω=0$) iteratively."
   ],
   "metadata": {}
  },
  {
   "outputs": [
    {
     "name": "stdout",
     "output_type": "stream",
     "text": [
      "n     Energy            log10(ΔE)   log10(Δρ)   Diag\n",
      "---   ---------------   ---------   ---------   ----\n",
      "  1   -7.235269424813                   -0.50    8.0\n",
      "  2   -7.250218249675       -1.83       -1.40    1.0\n",
      "  3   -7.251290784589       -2.97       -2.05    4.0\n",
      "  4   -7.251297812971       -5.15       -2.23    5.0\n",
      "  5   -7.251337965312       -4.40       -3.03    4.0\n",
      "  6   -7.251338727299       -6.12       -3.66    2.0\n",
      "  7   -7.251338772625       -7.34       -3.94    3.0\n",
      "  8   -7.251338791939       -7.71       -4.24    2.0\n",
      "  9   -7.251338798593       -8.18       -5.33    1.0\n",
      " 10   -7.251338798689      -10.02       -5.41    4.0\n",
      " 11   -7.251338798700      -10.94       -5.73    2.0\n",
      " 12   -7.251338798704      -11.38       -6.26    2.0\n",
      " 13   -7.251338798705      -12.44       -6.99    3.0\n",
      " 14   -7.251338798705      -13.75       -7.46    3.0\n",
      " 15   -7.251338798705   +  -14.57       -7.84    2.0\n"
     ]
    }
   ],
   "cell_type": "code",
   "source": [
    "using DFTK\n",
    "using Plots\n",
    "using KrylovKit\n",
    "using Printf\n",
    "\n",
    "# Calculation parameters\n",
    "kgrid = [1, 1, 1]\n",
    "Ecut = 5\n",
    "\n",
    "# Silicon lattice\n",
    "a = 10.26\n",
    "lattice = a / 2 .* [[0 1 1.]; [1 0 1.]; [1 1 0.]]\n",
    "Si = ElementPsp(:Si, psp=load_psp(\"hgh/lda/Si-q4\"))\n",
    "atoms     = [Si, Si]\n",
    "positions = [ones(3)/8, -ones(3)/8]\n",
    "\n",
    "# Compute the dielectric operator without symmetries\n",
    "model = model_LDA(lattice, atoms, positions, symmetries=false)\n",
    "basis = PlaneWaveBasis(model; Ecut, kgrid)\n",
    "scfres = self_consistent_field(basis, tol=1e-14);"
   ],
   "metadata": {},
   "execution_count": 1
  },
  {
   "cell_type": "markdown",
   "source": [
    "Applying $ε^† ≔ (1- χ_0 K)$ …"
   ],
   "metadata": {}
  },
  {
   "outputs": [],
   "cell_type": "code",
   "source": [
    "function eps_fun(δρ)\n",
    "    δV = apply_kernel(basis, δρ; ρ=scfres.ρ)\n",
    "    χ0δV = apply_χ0(scfres, δV)\n",
    "    δρ - χ0δV\n",
    "end;"
   ],
   "metadata": {},
   "execution_count": 2
  },
  {
   "cell_type": "markdown",
   "source": [
    "… eagerly diagonalizes the subspace matrix at each iteration"
   ],
   "metadata": {}
  },
  {
   "outputs": [
    {
     "name": "stdout",
     "output_type": "stream",
     "text": [
      "[ Info: Arnoldi iteration step 1: normres = 0.05564312041311757\n",
      "[ Info: Arnoldi iteration step 2: normres = 0.6369107891332869\n",
      "[ Info: Arnoldi iteration step 3: normres = 0.7200114725092105\n",
      "[ Info: Arnoldi iteration step 4: normres = 0.28653990945541297\n",
      "[ Info: Arnoldi iteration step 5: normres = 0.3520717837814289\n",
      "[ Info: Arnoldi schursolve in iter 1, krylovdim = 5: 0 values converged, normres = (1.31e-02, 6.42e-02, 2.64e-01, 2.22e-01, 1.89e-02)\n",
      "[ Info: Arnoldi iteration step 6: normres = 0.42635148306671344\n",
      "[ Info: Arnoldi schursolve in iter 1, krylovdim = 6: 0 values converged, normres = (4.55e-03, 1.01e-01, 3.83e-01, 1.15e-01, 6.73e-02)\n",
      "[ Info: Arnoldi iteration step 7: normres = 0.07298401620500555\n",
      "[ Info: Arnoldi schursolve in iter 1, krylovdim = 7: 0 values converged, normres = (1.71e-04, 1.09e-02, 2.34e-02, 3.00e-02, 5.50e-02)\n",
      "[ Info: Arnoldi iteration step 8: normres = 0.11861492035654068\n",
      "[ Info: Arnoldi schursolve in iter 1, krylovdim = 8: 0 values converged, normres = (8.79e-06, 9.42e-04, 2.20e-03, 1.19e-02, 5.54e-02)\n",
      "[ Info: Arnoldi iteration step 9: normres = 0.07704227698430445\n",
      "[ Info: Arnoldi schursolve in iter 1, krylovdim = 9: 0 values converged, normres = (2.94e-07, 5.20e-05, 1.35e-04, 3.35e-03, 4.28e-02)\n",
      "[ Info: Arnoldi iteration step 10: normres = 0.0924868686361227\n",
      "[ Info: Arnoldi schursolve in iter 1, krylovdim = 10: 0 values converged, normres = (1.19e-08, 3.52e-06, 1.02e-05, 1.19e-03, 3.42e-02)\n",
      "[ Info: Arnoldi iteration step 11: normres = 0.08711980602605486\n",
      "[ Info: Arnoldi schursolve in iter 1, krylovdim = 11: 0 values converged, normres = (4.47e-10, 2.16e-07, 6.96e-07, 3.37e-04, 2.05e-02)\n",
      "[ Info: Arnoldi iteration step 12: normres = 0.07528993779395124\n",
      "[ Info: Arnoldi schursolve in iter 1, krylovdim = 12: 0 values converged, normres = (1.46e-11, 1.16e-08, 4.16e-08, 8.60e-05, 1.20e-02)\n",
      "[ Info: Arnoldi iteration step 13: normres = 0.03138465578731106\n",
      "[ Info: Arnoldi schursolve in iter 1, krylovdim = 13: 1 values converged, normres = (1.95e-13, 2.53e-10, 1.00e-09, 7.98e-06, 2.20e-03)\n",
      "[ Info: Arnoldi iteration step 14: normres = 0.41816650767779223\n",
      "[ Info: Arnoldi schursolve in iter 1, krylovdim = 14: 1 values converged, normres = (3.52e-14, 7.53e-11, 3.32e-10, 1.06e-05, 5.55e-03)\n",
      "[ Info: Arnoldi iteration step 15: normres = 0.09394589084690301\n",
      "[ Info: Arnoldi schursolve in iter 1, krylovdim = 15: 1 values converged, normres = (3.36e-15, 2.39e-10, 9.00e-02, 1.30e-03, 4.40e-05)\n",
      "[ Info: Arnoldi iteration step 16: normres = 0.6735288095574635\n",
      "[ Info: Arnoldi schursolve in iter 1, krylovdim = 16: 1 values converged, normres = (1.17e-15, 2.05e-10, 5.96e-02, 4.87e-04, 6.49e-01)\n",
      "[ Info: Arnoldi iteration step 17: normres = 0.04939620116629756\n",
      "[ Info: Arnoldi schursolve in iter 1, krylovdim = 17: 1 values converged, normres = (4.56e-17, 3.67e-03, 1.50e-02, 7.59e-06, 3.75e-02)\n",
      "[ Info: Arnoldi iteration step 18: normres = 0.018870546180315282\n",
      "[ Info: Arnoldi schursolve in iter 1, krylovdim = 18: 1 values converged, normres = (3.57e-19, 2.80e-09, 1.96e-04, 5.59e-08, 5.15e-04)\n",
      "[ Info: Arnoldi iteration step 19: normres = 0.10573867951151193\n",
      "[ Info: Arnoldi schursolve in iter 1, krylovdim = 19: 1 values converged, normres = (1.57e-20, 5.89e-06, 1.26e-05, 5.23e-06, 4.00e-05)\n",
      "[ Info: Arnoldi iteration step 20: normres = 0.11468313114380756\n",
      "[ Info: Arnoldi schursolve in iter 1, krylovdim = 20: 1 values converged, normres = (8.79e-22, 1.19e-06, 7.29e-07, 5.87e-08, 4.61e-06)\n",
      "[ Info: Arnoldi iteration step 21: normres = 0.02868926777437435\n",
      "[ Info: Arnoldi schursolve in iter 1, krylovdim = 21: 1 values converged, normres = (1.06e-23, 1.61e-09, 2.75e-08, 1.35e-08, 9.96e-08)\n",
      "[ Info: Arnoldi iteration step 22: normres = 0.019325266288365568\n",
      "[ Info: Arnoldi schursolve in iter 1, krylovdim = 22: 1 values converged, normres = (8.44e-26, 3.12e-10, 1.54e-10, 1.39e-09, 1.41e-10)\n",
      "[ Info: Arnoldi iteration step 23: normres = 0.1261718472390196\n",
      "[ Info: Arnoldi schursolve in iter 1, krylovdim = 23: 1 values converged, normres = (4.38e-27, 2.56e-11, 1.31e-11, 1.27e-10, 6.82e-12)\n",
      "[ Info: Arnoldi iteration step 24: normres = 0.14917047541726808\n",
      "[ Info: Arnoldi schursolve in iter 1, krylovdim = 24: 1 values converged, normres = (6.24e-28, 1.43e-11, 2.73e-11, 1.50e-02, 1.08e-01)\n",
      "[ Info: Arnoldi iteration step 25: normres = 0.06988537261877215\n",
      "[ Info: Arnoldi schursolve in iter 1, krylovdim = 25: 1 values converged, normres = (1.80e-29, 1.25e-12, 6.42e-13, 2.73e-09, 2.64e-10)\n",
      "[ Info: Arnoldi iteration step 26: normres = 0.049073903812162825\n",
      "[ Info: Arnoldi schursolve in iter 1, krylovdim = 26: 3 values converged, normres = (3.97e-31, 2.41e-14, 4.69e-14, 1.46e-05, 2.99e-04)\n",
      "[ Info: Arnoldi iteration step 27: normres = 0.023781628687184257\n",
      "[ Info: Arnoldi schursolve in iter 1, krylovdim = 27: 3 values converged, normres = (3.88e-33, 3.75e-16, 7.32e-16, 5.91e-09, 1.50e-08)\n",
      "[ Info: Arnoldi iteration step 28: normres = 0.10073021328853018\n",
      "[ Info: Arnoldi schursolve in iter 1, krylovdim = 28: 3 values converged, normres = (1.69e-34, 2.68e-17, 5.23e-17, 6.20e-09, 7.25e-10)\n",
      "[ Info: Arnoldi iteration step 29: normres = 0.0320762273140083\n",
      "[ Info: Arnoldi schursolve in iter 1, krylovdim = 29: 3 values converged, normres = (2.30e-36, 5.94e-19, 1.16e-18, 7.50e-10, 7.27e-11)\n",
      "[ Info: Arnoldi iteration step 30: normres = 0.1884978896862732\n",
      "[ Info: Arnoldi schursolve in iter 1, krylovdim = 30: 3 values converged, normres = (2.06e-37, 9.38e-20, 1.83e-19, 1.76e-10, 5.05e-11)\n",
      "[ Info: Arnoldi schursolve in iter 2, krylovdim = 19: 3 values converged, normres = (2.06e-37, 9.38e-20, 1.83e-19, 1.76e-10, 5.05e-11)\n",
      "[ Info: Arnoldi iteration step 20: normres = 0.030941110358513824\n",
      "[ Info: Arnoldi schursolve in iter 2, krylovdim = 20: 3 values converged, normres = (2.76e-39, 2.08e-21, 4.05e-21, 4.00e-12, 8.28e-13)\n",
      "[ Info: Arnoldi iteration step 21: normres = 0.07824235053583924\n",
      "┌ Info: Arnoldi eigsolve finished after 2 iterations:\n",
      "│ *  5 eigenvalues converged\n",
      "│ *  norm of residuals = (9.072348301268334e-41, 1.3703524088157304e-22, 1.3703524088157304e-22, 2.35295114915379e-13, 9.035635709362979e-14)\n",
      "└ *  number of operations = 32\n"
     ]
    }
   ],
   "cell_type": "code",
   "source": [
    "eigsolve(eps_fun, randn(size(scfres.ρ)), 5, :LM; eager=true, verbosity=3);"
   ],
   "metadata": {},
   "execution_count": 3
  }
 ],
 "nbformat_minor": 3,
 "metadata": {
  "language_info": {
   "file_extension": ".jl",
   "mimetype": "application/julia",
   "name": "julia",
   "version": "1.8.2"
  },
  "kernelspec": {
   "name": "julia-1.8",
   "display_name": "Julia 1.8.2",
   "language": "julia"
  }
 },
 "nbformat": 4
}
