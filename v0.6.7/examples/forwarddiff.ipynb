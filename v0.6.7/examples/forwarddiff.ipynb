{
 "cells": [
  {
   "cell_type": "markdown",
   "source": [
    "# Polarizability using automatic differentiation\n",
    "\n",
    "Simple example for computing properties using (forward-mode)\n",
    "automatic differentiation.\n",
    "For a more classical approach and more details about computing polarizabilities,\n",
    "see Polarizability by linear response."
   ],
   "metadata": {}
  },
  {
   "outputs": [],
   "cell_type": "code",
   "source": [
    "using DFTK\n",
    "using LinearAlgebra\n",
    "using ForwardDiff\n",
    "\n",
    "# Construct PlaneWaveBasis given a particular electric field strength\n",
    "# Again we take the example of a Helium atom.\n",
    "function make_basis(ε::T; a=10., Ecut=30) where {T}\n",
    "    lattice=T(a) * I(3)  # lattice is a cube of $a$ Bohrs\n",
    "    # Helium at the center of the box\n",
    "    atoms     = [ElementPsp(:He, psp=load_psp(\"hgh/lda/He-q2\"))]\n",
    "    positions = [[1/2, 1/2, 1/2]]\n",
    "\n",
    "    model = model_DFT(lattice, atoms, positions, [:lda_x, :lda_c_vwn];\n",
    "                      extra_terms=[ExternalFromReal(r -> -ε * (r[1] - a/2))],\n",
    "                      symmetries=false)\n",
    "    PlaneWaveBasis(model; Ecut, kgrid=[1, 1, 1])  # No k-point sampling on isolated system\n",
    "end\n",
    "\n",
    "# dipole moment of a given density (assuming the current geometry)\n",
    "function dipole(basis, ρ)\n",
    "    @assert isdiag(basis.model.lattice)\n",
    "    a  = basis.model.lattice[1, 1]\n",
    "    rr = [a * (r[1] - 1/2) for r in r_vectors(basis)]\n",
    "    sum(rr .* ρ) * basis.dvol\n",
    "end\n",
    "\n",
    "# Function to compute the dipole for a given field strength\n",
    "function compute_dipole(ε; tol=1e-8, kwargs...)\n",
    "    scfres = self_consistent_field(make_basis(ε; kwargs...); tol)\n",
    "    dipole(scfres.basis, scfres.ρ)\n",
    "end;"
   ],
   "metadata": {},
   "execution_count": 1
  },
  {
   "cell_type": "markdown",
   "source": [
    "With this in place we can compute the polarizability from finite differences\n",
    "(just like in the previous example):"
   ],
   "metadata": {}
  },
  {
   "outputs": [
    {
     "name": "stdout",
     "output_type": "stream",
     "text": [
      "n     Energy            log10(ΔE)   log10(Δρ)   Diag   Δtime\n",
      "---   ---------------   ---------   ---------   ----   ------\n",
      "  1   -2.770939911031                   -0.53    9.0         \n",
      "  2   -2.772146955010       -2.92       -1.32    1.0    233ms\n",
      "  3   -2.772170503651       -4.63       -2.53    1.0    182ms\n",
      "  4   -2.772170681081       -6.75       -3.32    1.0    180ms\n",
      "  5   -2.772170720258       -7.41       -3.81    2.0    250ms\n",
      "  6   -2.772170722968       -8.57       -5.42    1.0    189ms\n",
      "  7   -2.772170723014      -10.34       -5.43    3.0    263ms\n",
      "  8   -2.772170723015      -11.81       -6.53    1.0    255ms\n",
      "  9   -2.772170723015      -13.52       -6.96    2.0    243ms\n",
      " 10   -2.772170723015   +  -13.83       -7.51    1.0    215ms\n",
      " 11   -2.772170723015      -13.73       -8.15    1.0    220ms\n",
      "n     Energy            log10(ΔE)   log10(Δρ)   Diag   Δtime\n",
      "---   ---------------   ---------   ---------   ----   ------\n",
      "  1   -2.770862908379                   -0.53    9.0         \n",
      "  2   -2.772060997836       -2.92       -1.32    1.0    262ms\n",
      "  3   -2.772083183196       -4.65       -2.50    1.0    177ms\n",
      "  4   -2.772083364963       -6.74       -3.24    1.0    184ms\n",
      "  5   -2.772083416095       -7.29       -3.89    2.0    260ms\n",
      "  6   -2.772083417766       -8.78       -5.13    1.0    207ms\n",
      "  7   -2.772083417810      -10.35       -5.43    2.0    233ms\n",
      "  8   -2.772083417810      -12.47       -6.20    1.0    211ms\n",
      "  9   -2.772083417811      -12.93       -7.18    2.0    258ms\n",
      " 10   -2.772083417811      -14.65       -7.73    1.0    255ms\n",
      " 11   -2.772083417811      -14.35       -8.62    2.0    237ms\n"
     ]
    },
    {
     "output_type": "execute_result",
     "data": {
      "text/plain": "1.7735578997794241"
     },
     "metadata": {},
     "execution_count": 2
    }
   ],
   "cell_type": "code",
   "source": [
    "polarizability_fd = let\n",
    "    ε = 0.01\n",
    "    (compute_dipole(ε) - compute_dipole(0.0)) / ε\n",
    "end"
   ],
   "metadata": {},
   "execution_count": 2
  },
  {
   "cell_type": "markdown",
   "source": [
    "We do the same thing using automatic differentiation. Under the hood this uses\n",
    "custom rules to implicitly differentiate through the self-consistent\n",
    "field fixed-point problem."
   ],
   "metadata": {}
  },
  {
   "outputs": [
    {
     "name": "stdout",
     "output_type": "stream",
     "text": [
      "n     Energy            log10(ΔE)   log10(Δρ)   Diag   Δtime\n",
      "---   ---------------   ---------   ---------   ----   ------\n",
      "  1   -2.770669531477                   -0.53    8.0         \n",
      "  2   -2.772053655492       -2.86       -1.31    1.0    175ms\n",
      "  3   -2.772082894113       -4.53       -2.61    1.0    227ms\n",
      "  4   -2.772083413377       -6.28       -3.86    2.0    209ms\n",
      "  5   -2.772083417328       -8.40       -4.22    2.0    217ms\n",
      "  6   -2.772083417797       -9.33       -5.26    1.0    466ms\n",
      "  7   -2.772083417810      -10.88       -6.06    2.0    293ms\n",
      "  8   -2.772083417811      -12.93       -6.47    2.0    332ms\n",
      "  9   -2.772083417811   +  -13.97       -7.21    1.0    810ms\n",
      " 10   -2.772083417811      -13.75       -8.37    2.0    256ms\n",
      "\n",
      "Polarizability via ForwardDiff:       1.7725349639324037\n",
      "Polarizability via finite difference: 1.7735578997794241\n"
     ]
    }
   ],
   "cell_type": "code",
   "source": [
    "polarizability = ForwardDiff.derivative(compute_dipole, 0.0)\n",
    "println()\n",
    "println(\"Polarizability via ForwardDiff:       $polarizability\")\n",
    "println(\"Polarizability via finite difference: $polarizability_fd\")"
   ],
   "metadata": {},
   "execution_count": 3
  }
 ],
 "nbformat_minor": 3,
 "metadata": {
  "language_info": {
   "file_extension": ".jl",
   "mimetype": "application/julia",
   "name": "julia",
   "version": "1.8.5"
  },
  "kernelspec": {
   "name": "julia-1.8",
   "display_name": "Julia 1.8.5",
   "language": "julia"
  }
 },
 "nbformat": 4
}
