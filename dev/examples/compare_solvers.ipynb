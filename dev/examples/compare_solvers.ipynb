{
 "cells": [
  {
   "cell_type": "markdown",
   "source": [
    "# Comparison of DFT solvers"
   ],
   "metadata": {}
  },
  {
   "cell_type": "markdown",
   "source": [
    "We compare four different approaches for solving the DFT minimisation problem,\n",
    "namely a density-based SCF, a potential-based SCF, direct minimisation and Newton."
   ],
   "metadata": {}
  },
  {
   "cell_type": "markdown",
   "source": [
    "First we setup our problem"
   ],
   "metadata": {}
  },
  {
   "outputs": [],
   "cell_type": "code",
   "source": [
    "using DFTK\n",
    "using LinearAlgebra\n",
    "\n",
    "a = 10.26  # Silicon lattice constant in Bohr\n",
    "lattice = a / 2 * [[0 1 1.];\n",
    "                   [1 0 1.];\n",
    "                   [1 1 0.]]\n",
    "Si = ElementPsp(:Si, psp=load_psp(\"hgh/lda/Si-q4\"))\n",
    "atoms     = [Si, Si]\n",
    "positions = [ones(3)/8, -ones(3)/8]\n",
    "\n",
    "model = model_LDA(lattice, atoms, positions)\n",
    "basis = PlaneWaveBasis(model; Ecut=5, kgrid=[3, 3, 3])\n",
    "\n",
    "# Convergence we desire\n",
    "tol = 1e-12\n",
    "is_converged = DFTK.ScfConvergenceDensity(tol);"
   ],
   "metadata": {},
   "execution_count": 1
  },
  {
   "cell_type": "markdown",
   "source": [
    "## Density-based self-consistent field"
   ],
   "metadata": {}
  },
  {
   "outputs": [
    {
     "name": "stdout",
     "output_type": "stream",
     "text": [
      "n     Energy            log10(ΔE)   log10(Δρ)   Diag\n",
      "---   ---------------   ---------   ---------   ----\n",
      "  1   -7.846828074800                   -0.70    5.0\n",
      "  2   -7.852321600517       -2.26       -1.53    1.0\n",
      "  3   -7.852645998240       -3.49       -2.52    3.2\n",
      "  4   -7.852646676607       -6.17       -3.35    2.5\n",
      "  5   -7.852646685894       -8.03       -4.75    1.2\n",
      "  6   -7.852646686727       -9.08       -5.23    4.2\n",
      "  7   -7.852646686730      -11.52       -5.89    2.0\n",
      "  8   -7.852646686730      -12.51       -7.49    2.0\n",
      "  9   -7.852646686730      -14.35       -7.94    2.8\n",
      " 10   -7.852646686730   +  -14.75       -8.78    2.0\n",
      " 11   -7.852646686730   +  -15.05       -9.54    1.0\n",
      " 12   -7.852646686730   +  -14.75       -8.68    1.0\n",
      " 13   -7.852646686730      -14.45       -8.23    2.0\n",
      " 14   -7.852646686730   +  -14.75       -8.50    1.0\n",
      " 15   -7.852646686730      -14.75       -8.47    1.0\n",
      " 16   -7.852646686730   +  -14.75       -8.72    1.0\n",
      " 17   -7.852646686730   +    -Inf       -9.36    1.0\n",
      " 18   -7.852646686730   +    -Inf       -9.73    1.0\n",
      " 19   -7.852646686730   +  -15.05       -9.96    1.0\n",
      " 20   -7.852646686730      -14.75      -10.93    1.0\n",
      " 21   -7.852646686730   +  -15.05      -11.17    2.0\n",
      " 22   -7.852646686730      -14.75      -11.17    1.0\n",
      " 23   -7.852646686730   +  -14.75      -11.17    1.0\n",
      " 24   -7.852646686730   +    -Inf      -11.19    1.0\n",
      " 25   -7.852646686730   +  -14.75      -11.23    1.0\n",
      " 26   -7.852646686730   +    -Inf      -11.09    1.0\n",
      " 27   -7.852646686730   +    -Inf      -11.52    1.0\n",
      " 28   -7.852646686730   +    -Inf      -13.07    1.0\n"
     ]
    }
   ],
   "cell_type": "code",
   "source": [
    "scfres_scf = self_consistent_field(basis; is_converged);"
   ],
   "metadata": {},
   "execution_count": 2
  },
  {
   "cell_type": "markdown",
   "source": [
    "## Potential-based SCF"
   ],
   "metadata": {}
  },
  {
   "outputs": [
    {
     "name": "stdout",
     "output_type": "stream",
     "text": [
      "n     Energy            log10(ΔE)   log10(Δρ)   α      Diag\n",
      "---   ---------------   ---------   ---------   ----   ----\n",
      "  1   -7.846822901025                   -0.70           4.8\n",
      "  2   -7.852525669876       -2.24       -1.63   0.80    2.0\n",
      "  3   -7.852636758820       -3.95       -2.70   0.80    1.0\n",
      "  4   -7.852646412189       -5.02       -3.29   0.80    2.2\n",
      "  5   -7.852646682706       -6.57       -4.13   0.80    1.8\n",
      "  6   -7.852646686496       -8.42       -4.75   0.80    1.2\n",
      "  7   -7.852646686723       -9.64       -5.68   0.80    1.8\n",
      "  8   -7.852646686730      -11.15       -6.62   0.80    1.8\n",
      "  9   -7.852646686730      -12.72       -7.75   0.80    2.2\n",
      " 10   -7.852646686730      -14.57       -8.54   0.80    2.2\n",
      " 11   -7.852646686730   +  -15.05       -8.82   0.80    1.8\n",
      " 12   -7.852646686730   +  -14.57      -10.06   0.80    1.2\n",
      " 13   -7.852646686730      -14.45      -10.53   0.80    2.8\n",
      " 14   -7.852646686730   +  -14.57      -11.00   0.80    1.0\n",
      " 15   -7.852646686730      -14.45      -12.13   0.80    1.0\n"
     ]
    }
   ],
   "cell_type": "code",
   "source": [
    "scfres_scfv = DFTK.scf_potential_mixing(basis; is_converged);"
   ],
   "metadata": {},
   "execution_count": 3
  },
  {
   "cell_type": "markdown",
   "source": [
    "## Direct minimization"
   ],
   "metadata": {}
  },
  {
   "outputs": [
    {
     "name": "stdout",
     "output_type": "stream",
     "text": [
      "Iter     Function value   Gradient norm \n",
      "     0     1.425407e+01     3.697795e+00\n",
      " * time: 0.40921497344970703\n",
      "     1     1.553112e+00     1.757882e+00\n",
      " * time: 0.6309118270874023\n",
      "     2    -1.663573e+00     2.016311e+00\n",
      " * time: 0.6550998687744141\n",
      "     3    -3.992693e+00     1.698892e+00\n",
      " * time: 0.6895308494567871\n",
      "     4    -5.472235e+00     1.418458e+00\n",
      " * time: 0.7240908145904541\n",
      "     5    -7.024048e+00     1.074440e+00\n",
      " * time: 0.7581667900085449\n",
      "     6    -7.198445e+00     1.489547e+00\n",
      " * time: 0.782526969909668\n",
      "     7    -7.550130e+00     1.209519e+00\n",
      " * time: 0.8068759441375732\n",
      "     8    -7.603539e+00     2.271987e+00\n",
      " * time: 0.8307688236236572\n",
      "     9    -7.641082e+00     2.114389e+00\n",
      " * time: 0.944598913192749\n",
      "    10    -7.664945e+00     1.959445e+00\n",
      " * time: 0.9792218208312988\n",
      "    11    -7.681865e+00     1.832239e+00\n",
      " * time: 1.013206958770752\n",
      "    12    -7.687211e+00     1.733765e+00\n",
      " * time: 1.048292875289917\n",
      "    13    -7.742562e+00     5.169872e-01\n",
      " * time: 1.0926878452301025\n",
      "    14    -7.827382e+00     1.880070e-01\n",
      " * time: 1.1160459518432617\n",
      "    15    -7.828724e+00     3.969701e-01\n",
      " * time: 1.1399660110473633\n",
      "    16    -7.845998e+00     2.423814e-01\n",
      " * time: 1.1642777919769287\n",
      "    17    -7.851472e+00     3.580215e-02\n",
      " * time: 1.1889238357543945\n",
      "    18    -7.852130e+00     2.155637e-02\n",
      " * time: 1.2130558490753174\n",
      "    19    -7.852444e+00     1.408183e-02\n",
      " * time: 1.2371418476104736\n",
      "    20    -7.852578e+00     9.640612e-03\n",
      " * time: 1.261775016784668\n",
      "    21    -7.852606e+00     3.047170e-03\n",
      " * time: 1.2865259647369385\n",
      "    22    -7.852632e+00     1.784327e-03\n",
      " * time: 1.3104088306427002\n",
      "    23    -7.852643e+00     2.025837e-03\n",
      " * time: 1.3342909812927246\n",
      "    24    -7.852645e+00     5.800617e-04\n",
      " * time: 1.3580348491668701\n",
      "    25    -7.852646e+00     3.525362e-04\n",
      " * time: 1.3819777965545654\n",
      "    26    -7.852647e+00     2.236496e-04\n",
      " * time: 1.405545949935913\n",
      "    27    -7.852647e+00     1.427519e-04\n",
      " * time: 1.4293057918548584\n",
      "    28    -7.852647e+00     7.504889e-05\n",
      " * time: 1.453204870223999\n",
      "    29    -7.852647e+00     4.591130e-05\n",
      " * time: 1.476982831954956\n",
      "    30    -7.852647e+00     3.410850e-05\n",
      " * time: 1.5004680156707764\n",
      "    31    -7.852647e+00     1.436229e-05\n",
      " * time: 1.5244548320770264\n",
      "    32    -7.852647e+00     7.845644e-06\n",
      " * time: 1.5478489398956299\n",
      "    33    -7.852647e+00     4.846145e-06\n",
      " * time: 1.5719609260559082\n",
      "    34    -7.852647e+00     2.256547e-06\n",
      " * time: 1.595932960510254\n",
      "    35    -7.852647e+00     1.009089e-06\n",
      " * time: 1.619581937789917\n",
      "    36    -7.852647e+00     6.455200e-07\n",
      " * time: 1.6433188915252686\n",
      "    37    -7.852647e+00     5.425788e-07\n",
      " * time: 1.6681318283081055\n",
      "    38    -7.852647e+00     2.810120e-07\n",
      " * time: 1.692612886428833\n",
      "    39    -7.852647e+00     8.826291e-08\n",
      " * time: 1.7164759635925293\n",
      "    40    -7.852647e+00     4.370473e-08\n",
      " * time: 1.7412168979644775\n",
      "    41    -7.852647e+00     2.851915e-08\n",
      " * time: 1.7653648853302002\n",
      "    42    -7.852647e+00     2.290134e-08\n",
      " * time: 1.79001784324646\n",
      "    43    -7.852647e+00     1.419135e-08\n",
      " * time: 1.8143889904022217\n",
      "    44    -7.852647e+00     8.007845e-09\n",
      " * time: 1.8484899997711182\n",
      "    45    -7.852647e+00     3.346384e-09\n",
      " * time: 1.8725008964538574\n",
      "    46    -7.852647e+00     3.346384e-09\n",
      " * time: 1.9690189361572266\n"
     ]
    }
   ],
   "cell_type": "code",
   "source": [
    "scfres_dm = direct_minimization(basis; tol);"
   ],
   "metadata": {},
   "execution_count": 4
  },
  {
   "cell_type": "markdown",
   "source": [
    "## Newton algorithm"
   ],
   "metadata": {}
  },
  {
   "cell_type": "markdown",
   "source": [
    "Start not too far from the solution to ensure convergence:\n",
    "We run first a very crude SCF to get close and then switch to Newton."
   ],
   "metadata": {}
  },
  {
   "outputs": [
    {
     "name": "stdout",
     "output_type": "stream",
     "text": [
      "n     Energy            log10(ΔE)   log10(Δρ)   Diag\n",
      "---   ---------------   ---------   ---------   ----\n",
      "  1   -7.846824935523                   -0.70    4.8\n",
      "  2   -7.852323021312       -2.26       -1.53    1.0\n"
     ]
    }
   ],
   "cell_type": "code",
   "source": [
    "scfres_start = self_consistent_field(basis; tol=1e-1);"
   ],
   "metadata": {},
   "execution_count": 5
  },
  {
   "cell_type": "markdown",
   "source": [
    "Remove the virtual orbitals (which Newton cannot treat yet)"
   ],
   "metadata": {}
  },
  {
   "outputs": [
    {
     "name": "stdout",
     "output_type": "stream",
     "text": [
      "n     Energy            log10(ΔE)   log10(Δρ)\n",
      "---   ---------------   ---------   ---------\n",
      "  1   -7.852646686712                   -2.55\n",
      "  2   -7.852646686730      -10.75       -6.01\n",
      "  3   -7.852646686730   +  -14.75      -12.67\n"
     ]
    }
   ],
   "cell_type": "code",
   "source": [
    "ψ, _ = DFTK.select_occupied_orbitals(basis, scfres_start.ψ, scfres_start.occupation)\n",
    "scfres_newton = newton(basis, ψ; tol);"
   ],
   "metadata": {},
   "execution_count": 6
  },
  {
   "cell_type": "markdown",
   "source": [
    "## Comparison of results"
   ],
   "metadata": {}
  },
  {
   "outputs": [
    {
     "name": "stdout",
     "output_type": "stream",
     "text": [
      "|ρ_newton - ρ_scf|  = 6.531913212229115e-14\n",
      "|ρ_newton - ρ_scfv| = 1.1408466299350108e-12\n",
      "|ρ_newton - ρ_dm|   = 6.114159494888362e-10\n"
     ]
    }
   ],
   "cell_type": "code",
   "source": [
    "println(\"|ρ_newton - ρ_scf|  = \", norm(scfres_newton.ρ - scfres_scf.ρ))\n",
    "println(\"|ρ_newton - ρ_scfv| = \", norm(scfres_newton.ρ - scfres_scfv.ρ))\n",
    "println(\"|ρ_newton - ρ_dm|   = \", norm(scfres_newton.ρ - scfres_dm.ρ))"
   ],
   "metadata": {},
   "execution_count": 7
  }
 ],
 "nbformat_minor": 3,
 "metadata": {
  "language_info": {
   "file_extension": ".jl",
   "mimetype": "application/julia",
   "name": "julia",
   "version": "1.8.2"
  },
  "kernelspec": {
   "name": "julia-1.8",
   "display_name": "Julia 1.8.2",
   "language": "julia"
  }
 },
 "nbformat": 4
}
