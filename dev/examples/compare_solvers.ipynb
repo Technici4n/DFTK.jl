{
 "cells": [
  {
   "cell_type": "markdown",
   "source": [
    "# Comparison of DFT solvers"
   ],
   "metadata": {}
  },
  {
   "cell_type": "markdown",
   "source": [
    "We compare four different approaches for solving the DFT minimisation problem,\n",
    "namely a density-based SCF, a potential-based SCF, direct minimisation and Newton."
   ],
   "metadata": {}
  },
  {
   "cell_type": "markdown",
   "source": [
    "First we setup our problem"
   ],
   "metadata": {}
  },
  {
   "outputs": [
    {
     "output_type": "execute_result",
     "data": {
      "text/plain": "1.0e-6"
     },
     "metadata": {},
     "execution_count": 1
    }
   ],
   "cell_type": "code",
   "source": [
    "using DFTK\n",
    "using LinearAlgebra\n",
    "\n",
    "a = 10.26  # Silicon lattice constant in Bohr\n",
    "lattice = a / 2 * [[0 1 1.];\n",
    "                   [1 0 1.];\n",
    "                   [1 1 0.]]\n",
    "Si = ElementPsp(:Si, psp=load_psp(\"hgh/lda/Si-q4\"))\n",
    "atoms     = [Si, Si]\n",
    "positions = [ones(3)/8, -ones(3)/8]\n",
    "\n",
    "model = model_LDA(lattice, atoms, positions)\n",
    "basis = PlaneWaveBasis(model; Ecut=5, kgrid=[3, 3, 3])\n",
    "\n",
    "# Convergence we desire in the density\n",
    "tol = 1e-6"
   ],
   "metadata": {},
   "execution_count": 1
  },
  {
   "cell_type": "markdown",
   "source": [
    "## Density-based self-consistent field"
   ],
   "metadata": {}
  },
  {
   "outputs": [
    {
     "name": "stdout",
     "output_type": "stream",
     "text": [
      "n     Energy            log10(ΔE)   log10(Δρ)   Diag   Δtime\n",
      "---   ---------------   ---------   ---------   ----   ------\n",
      "  1   -7.846855915947                   -0.70    4.5         \n",
      "  2   -7.852313886691       -2.26       -1.53    1.0   24.5ms\n",
      "  3   -7.852615418873       -3.52       -2.56    1.5   26.9ms\n",
      "  4   -7.852645925983       -4.52       -2.88    2.5   33.7ms\n",
      "  5   -7.852646496018       -6.24       -3.18    1.0   24.5ms\n",
      "  6   -7.852646677447       -6.74       -3.98    1.0   24.5ms\n",
      "  7   -7.852646686116       -8.06       -5.14    1.5   27.6ms\n",
      "  8   -7.852646686722       -9.22       -5.40    2.5   33.5ms\n",
      "  9   -7.852646686728      -11.20       -5.74    1.0   24.8ms\n",
      " 10   -7.852646686730      -11.85       -6.37    1.0   24.5ms\n"
     ]
    }
   ],
   "cell_type": "code",
   "source": [
    "scfres_scf = self_consistent_field(basis; tol);"
   ],
   "metadata": {},
   "execution_count": 2
  },
  {
   "cell_type": "markdown",
   "source": [
    "## Potential-based SCF"
   ],
   "metadata": {}
  },
  {
   "outputs": [
    {
     "name": "stdout",
     "output_type": "stream",
     "text": [
      "n     Energy            log10(ΔE)   log10(Δρ)   α      Diag   Δtime\n",
      "---   ---------------   ---------   ---------   ----   ----   ------\n",
      "  1   -7.846791917172                   -0.70           4.8         \n",
      "  2   -7.852525085510       -2.24       -1.64   0.80    2.2    268ms\n",
      "  3   -7.852635557331       -3.96       -2.74   0.80    1.0   22.7ms\n",
      "  4   -7.852646503373       -4.96       -3.23   0.80    2.2   30.3ms\n",
      "  5   -7.852646672951       -6.77       -4.06   0.80    1.2   24.6ms\n",
      "  6   -7.852646686309       -7.87       -4.79   0.80    1.8   26.9ms\n",
      "  7   -7.852646686722       -9.38       -5.58   0.80    1.8   27.0ms\n",
      "  8   -7.852646686729      -11.13       -6.99   0.80    2.0   27.4ms\n"
     ]
    }
   ],
   "cell_type": "code",
   "source": [
    "scfres_scfv = DFTK.scf_potential_mixing(basis; tol);"
   ],
   "metadata": {},
   "execution_count": 3
  },
  {
   "cell_type": "markdown",
   "source": [
    "## Direct minimization\n",
    "Note: Unlike the other algorithms, tolerance for this one is in the energy,\n",
    "thus we square the density tolerance value to be roughly equivalent."
   ],
   "metadata": {}
  },
  {
   "outputs": [
    {
     "name": "stdout",
     "output_type": "stream",
     "text": [
      "Iter     Function value   Gradient norm \n",
      "     0     1.355891e+01     3.936679e+00\n",
      " * time: 0.4190831184387207\n",
      "     1     1.018362e+00     1.892724e+00\n",
      " * time: 0.6144440174102783\n",
      "     2    -1.671756e+00     2.251118e+00\n",
      " * time: 0.6377520561218262\n",
      "     3    -3.585475e+00     2.122780e+00\n",
      " * time: 0.6713149547576904\n",
      "     4    -4.720523e+00     1.866894e+00\n",
      " * time: 0.7050330638885498\n",
      "     5    -6.389947e+00     1.228906e+00\n",
      " * time: 0.7387411594390869\n",
      "     6    -7.217424e+00     7.549511e-01\n",
      " * time: 0.7721090316772461\n",
      "     7    -7.438192e+00     7.453749e-01\n",
      " * time: 0.7952060699462891\n",
      "     8    -7.720323e+00     2.552353e-01\n",
      " * time: 0.8187000751495361\n",
      "     9    -7.784678e+00     9.445510e-02\n",
      " * time: 0.8420829772949219\n",
      "    10    -7.819143e+00     7.925538e-02\n",
      " * time: 0.865286111831665\n",
      "    11    -7.835908e+00     6.459594e-02\n",
      " * time: 0.8885729312896729\n",
      "    12    -7.841652e+00     4.031123e-02\n",
      " * time: 0.9117910861968994\n",
      "    13    -7.844492e+00     2.582869e-02\n",
      " * time: 0.935168981552124\n",
      "    14    -7.845464e+00     3.428555e-02\n",
      " * time: 0.958327054977417\n",
      "    15    -7.845584e+00     3.806472e-02\n",
      " * time: 1.0017001628875732\n",
      "    16    -7.845602e+00     4.437456e-02\n",
      " * time: 1.1554019451141357\n",
      "    17    -7.845602e+00     4.437456e-02\n",
      " * time: 1.5506370067596436\n"
     ]
    }
   ],
   "cell_type": "code",
   "source": [
    "scfres_dm = direct_minimization(basis; tol=tol^2);"
   ],
   "metadata": {},
   "execution_count": 4
  },
  {
   "cell_type": "markdown",
   "source": [
    "## Newton algorithm"
   ],
   "metadata": {}
  },
  {
   "cell_type": "markdown",
   "source": [
    "Start not too far from the solution to ensure convergence:\n",
    "We run first a very crude SCF to get close and then switch to Newton."
   ],
   "metadata": {}
  },
  {
   "outputs": [
    {
     "name": "stdout",
     "output_type": "stream",
     "text": [
      "n     Energy            log10(ΔE)   log10(Δρ)   Diag   Δtime\n",
      "---   ---------------   ---------   ---------   ----   ------\n",
      "  1   -7.846878243737                   -0.70    4.8         \n"
     ]
    }
   ],
   "cell_type": "code",
   "source": [
    "scfres_start = self_consistent_field(basis; tol=0.5);"
   ],
   "metadata": {},
   "execution_count": 5
  },
  {
   "cell_type": "markdown",
   "source": [
    "Remove the virtual orbitals (which Newton cannot treat yet)"
   ],
   "metadata": {}
  },
  {
   "outputs": [
    {
     "name": "stdout",
     "output_type": "stream",
     "text": [
      "n     Energy            log10(ΔE)   log10(Δρ)   Δtime\n",
      "---   ---------------   ---------   ---------   ------\n",
      "  1   -7.852645911170                   -1.64         \n",
      "  2   -7.852646686730       -6.11       -3.71    1.64s\n",
      "  3   -7.852646686730      -13.30       -7.25    168ms\n"
     ]
    }
   ],
   "cell_type": "code",
   "source": [
    "ψ = DFTK.select_occupied_orbitals(basis, scfres_start.ψ, scfres_start.occupation).ψ\n",
    "scfres_newton = newton(basis, ψ; tol);"
   ],
   "metadata": {},
   "execution_count": 6
  },
  {
   "cell_type": "markdown",
   "source": [
    "## Comparison of results"
   ],
   "metadata": {}
  },
  {
   "outputs": [
    {
     "name": "stdout",
     "output_type": "stream",
     "text": [
      "|ρ_newton - ρ_scf|  = 3.4223897760304476e-7\n",
      "|ρ_newton - ρ_scfv| = 3.2598536113650966e-7\n",
      "|ρ_newton - ρ_dm|   = 0.011554306987132326\n"
     ]
    }
   ],
   "cell_type": "code",
   "source": [
    "println(\"|ρ_newton - ρ_scf|  = \", norm(scfres_newton.ρ - scfres_scf.ρ))\n",
    "println(\"|ρ_newton - ρ_scfv| = \", norm(scfres_newton.ρ - scfres_scfv.ρ))\n",
    "println(\"|ρ_newton - ρ_dm|   = \", norm(scfres_newton.ρ - scfres_dm.ρ))"
   ],
   "metadata": {},
   "execution_count": 7
  }
 ],
 "nbformat_minor": 3,
 "metadata": {
  "language_info": {
   "file_extension": ".jl",
   "mimetype": "application/julia",
   "name": "julia",
   "version": "1.8.5"
  },
  "kernelspec": {
   "name": "julia-1.8",
   "display_name": "Julia 1.8.5",
   "language": "julia"
  }
 },
 "nbformat": 4
}
