{
 "cells": [
  {
   "cell_type": "markdown",
   "source": [
    "# Comparison of DFT solvers"
   ],
   "metadata": {}
  },
  {
   "cell_type": "markdown",
   "source": [
    "We compare four different approaches for solving the DFT minimisation problem,\n",
    "namely a density-based SCF, a potential-based SCF, direct minimisation and Newton."
   ],
   "metadata": {}
  },
  {
   "cell_type": "markdown",
   "source": [
    "First we setup our problem"
   ],
   "metadata": {}
  },
  {
   "outputs": [
    {
     "output_type": "execute_result",
     "data": {
      "text/plain": "1.0e-6"
     },
     "metadata": {},
     "execution_count": 1
    }
   ],
   "cell_type": "code",
   "source": [
    "using DFTK\n",
    "using LinearAlgebra\n",
    "\n",
    "a = 10.26  # Silicon lattice constant in Bohr\n",
    "lattice = a / 2 * [[0 1 1.];\n",
    "                   [1 0 1.];\n",
    "                   [1 1 0.]]\n",
    "Si = ElementPsp(:Si, psp=load_psp(\"hgh/lda/Si-q4\"))\n",
    "atoms     = [Si, Si]\n",
    "positions = [ones(3)/8, -ones(3)/8]\n",
    "\n",
    "model = model_LDA(lattice, atoms, positions)\n",
    "basis = PlaneWaveBasis(model; Ecut=5, kgrid=[3, 3, 3])\n",
    "\n",
    "# Convergence we desire in the density\n",
    "tol = 1e-6"
   ],
   "metadata": {},
   "execution_count": 1
  },
  {
   "cell_type": "markdown",
   "source": [
    "## Density-based self-consistent field"
   ],
   "metadata": {}
  },
  {
   "outputs": [
    {
     "name": "stdout",
     "output_type": "stream",
     "text": [
      "n     Energy            log10(ΔE)   log10(Δρ)   Diag   Δtime\n",
      "---   ---------------   ---------   ---------   ----   ------\n",
      "  1   -7.846914624143                   -0.70    4.8         \n",
      "  2   -7.852331751974       -2.27       -1.53    1.0   23.4ms\n",
      "  3   -7.852614840788       -3.55       -2.56    1.2   24.2ms\n",
      "  4   -7.852645986743       -4.51       -2.88    2.5   31.4ms\n",
      "  5   -7.852646496349       -6.29       -3.16    1.0   23.2ms\n",
      "  6   -7.852646679685       -6.74       -4.01    1.0   23.2ms\n",
      "  7   -7.852646686401       -8.17       -5.11    1.5   27.4ms\n",
      "  8   -7.852646686724       -9.49       -5.48    2.2   30.1ms\n",
      "  9   -7.852646686729      -11.32       -5.80    1.0   23.3ms\n",
      " 10   -7.852646686730      -11.94       -6.44    1.2   24.2ms\n"
     ]
    }
   ],
   "cell_type": "code",
   "source": [
    "scfres_scf = self_consistent_field(basis; tol);"
   ],
   "metadata": {},
   "execution_count": 2
  },
  {
   "cell_type": "markdown",
   "source": [
    "## Potential-based SCF"
   ],
   "metadata": {}
  },
  {
   "outputs": [
    {
     "name": "stdout",
     "output_type": "stream",
     "text": [
      "n     Energy            log10(ΔE)   log10(Δρ)   α      Diag   Δtime\n",
      "---   ---------------   ---------   ---------   ----   ----   ------\n",
      "  1   -7.846792095033                   -0.70           4.5         \n",
      "  2   -7.852525847712       -2.24       -1.64   0.80    2.2    253ms\n",
      "  3   -7.852636123862       -3.96       -2.72   0.80    1.0   21.2ms\n",
      "  4   -7.852646379137       -4.99       -3.25   0.80    2.0   27.0ms\n",
      "  5   -7.852646667319       -6.54       -4.03   0.80    1.8   25.0ms\n",
      "  6   -7.852646686371       -7.72       -4.67   0.80    1.8   25.9ms\n",
      "  7   -7.852646686706       -9.48       -5.49   0.80    1.8   25.3ms\n",
      "  8   -7.852646686730      -10.63       -6.53   0.80    2.0   26.9ms\n"
     ]
    }
   ],
   "cell_type": "code",
   "source": [
    "scfres_scfv = DFTK.scf_potential_mixing(basis; tol);"
   ],
   "metadata": {},
   "execution_count": 3
  },
  {
   "cell_type": "markdown",
   "source": [
    "## Direct minimization\n",
    "Note: Unlike the other algorithms, tolerance for this one is in the energy,\n",
    "thus we square the density tolerance value to be roughly equivalent."
   ],
   "metadata": {}
  },
  {
   "outputs": [
    {
     "name": "stdout",
     "output_type": "stream",
     "text": [
      "Iter     Function value   Gradient norm \n",
      "     0     1.388475e+01     3.617397e+00\n",
      " * time: 0.4410591125488281\n",
      "     1     1.096726e+00     1.685084e+00\n",
      " * time: 0.6350610256195068\n",
      "     2    -1.134171e+00     1.949813e+00\n",
      " * time: 0.6584711074829102\n",
      "     3    -3.824264e+00     1.548542e+00\n",
      " * time: 0.6913111209869385\n",
      "     4    -5.116729e+00     1.536114e+00\n",
      " * time: 0.7242169380187988\n",
      "     5    -6.938011e+00     9.218547e-01\n",
      " * time: 0.7568809986114502\n",
      "     6    -7.298856e+00     1.049312e+00\n",
      " * time: 0.8755130767822266\n",
      "     7    -7.653258e+00     3.851928e-01\n",
      " * time: 0.8988039493560791\n",
      "     8    -7.756418e+00     1.014988e-01\n",
      " * time: 0.9215600490570068\n",
      "     9    -7.806572e+00     1.069192e-01\n",
      " * time: 0.9441831111907959\n",
      "    10    -7.823649e+00     1.282912e-01\n",
      " * time: 0.9670050144195557\n",
      "    11    -7.841769e+00     5.565561e-02\n",
      " * time: 0.989825963973999\n",
      "    12    -7.847373e+00     5.991220e-02\n",
      " * time: 1.0127809047698975\n",
      "    13    -7.848547e+00     4.165889e-02\n",
      " * time: 1.0360031127929688\n",
      "    14    -7.850359e+00     1.997580e-02\n",
      " * time: 1.0589280128479004\n",
      "    15    -7.851770e+00     1.777338e-02\n",
      " * time: 1.0820119380950928\n",
      "    16    -7.852352e+00     9.742906e-03\n",
      " * time: 1.1050910949707031\n",
      "    17    -7.852541e+00     5.503537e-03\n",
      " * time: 1.1281609535217285\n",
      "    18    -7.852603e+00     3.499200e-03\n",
      " * time: 1.1511790752410889\n",
      "    19    -7.852629e+00     2.143633e-03\n",
      " * time: 1.175529956817627\n",
      "    20    -7.852641e+00     1.213742e-03\n",
      " * time: 1.198652982711792\n",
      "    21    -7.852644e+00     7.792084e-04\n",
      " * time: 1.22194504737854\n",
      "    22    -7.852646e+00     6.109545e-04\n",
      " * time: 1.245323896408081\n",
      "    23    -7.852646e+00     2.331961e-04\n",
      " * time: 1.2684988975524902\n",
      "    24    -7.852647e+00     1.593572e-04\n",
      " * time: 1.2918601036071777\n",
      "    25    -7.852647e+00     9.865953e-05\n",
      " * time: 1.3150150775909424\n",
      "    26    -7.852647e+00     4.299611e-05\n",
      " * time: 1.3379230499267578\n",
      "    27    -7.852647e+00     2.839786e-05\n",
      " * time: 1.361009120941162\n",
      "    28    -7.852647e+00     1.376061e-05\n",
      " * time: 1.3842189311981201\n",
      "    29    -7.852647e+00     8.549111e-06\n",
      " * time: 1.4072909355163574\n",
      "    30    -7.852647e+00     4.795448e-06\n",
      " * time: 1.4301490783691406\n",
      "    31    -7.852647e+00     3.141751e-06\n",
      " * time: 1.4532511234283447\n",
      "    32    -7.852647e+00     2.015560e-06\n",
      " * time: 1.4766430854797363\n",
      "    33    -7.852647e+00     1.247732e-06\n",
      " * time: 1.4995710849761963\n",
      "    34    -7.852647e+00     8.043276e-07\n",
      " * time: 1.5227620601654053\n",
      "    35    -7.852647e+00     4.699265e-07\n",
      " * time: 1.546133041381836\n",
      "    36    -7.852647e+00     2.777424e-07\n",
      " * time: 1.569993019104004\n",
      "    37    -7.852647e+00     2.028624e-07\n",
      " * time: 1.592879056930542\n",
      "    38    -7.852647e+00     1.494034e-07\n",
      " * time: 1.6154959201812744\n",
      "    39    -7.852647e+00     7.324032e-08\n",
      " * time: 1.6382639408111572\n",
      "    40    -7.852647e+00     5.444400e-08\n",
      " * time: 1.6613171100616455\n",
      "    41    -7.852647e+00     2.774389e-08\n",
      " * time: 1.6842410564422607\n",
      "    42    -7.852647e+00     1.671853e-08\n",
      " * time: 1.7069590091705322\n",
      "    43    -7.852647e+00     1.318310e-08\n",
      " * time: 1.7400140762329102\n",
      "    44    -7.852647e+00     1.318173e-08\n",
      " * time: 1.8123550415039062\n"
     ]
    }
   ],
   "cell_type": "code",
   "source": [
    "scfres_dm = direct_minimization(basis; tol=tol^2);"
   ],
   "metadata": {},
   "execution_count": 4
  },
  {
   "cell_type": "markdown",
   "source": [
    "## Newton algorithm"
   ],
   "metadata": {}
  },
  {
   "cell_type": "markdown",
   "source": [
    "Start not too far from the solution to ensure convergence:\n",
    "We run first a very crude SCF to get close and then switch to Newton."
   ],
   "metadata": {}
  },
  {
   "outputs": [
    {
     "name": "stdout",
     "output_type": "stream",
     "text": [
      "n     Energy            log10(ΔE)   log10(Δρ)   Diag   Δtime\n",
      "---   ---------------   ---------   ---------   ----   ------\n",
      "  1   -7.846758090796                   -0.70    4.8         \n"
     ]
    }
   ],
   "cell_type": "code",
   "source": [
    "scfres_start = self_consistent_field(basis; tol=0.5);"
   ],
   "metadata": {},
   "execution_count": 5
  },
  {
   "cell_type": "markdown",
   "source": [
    "Remove the virtual orbitals (which Newton cannot treat yet)"
   ],
   "metadata": {}
  },
  {
   "outputs": [
    {
     "name": "stdout",
     "output_type": "stream",
     "text": [
      "n     Energy            log10(ΔE)   log10(Δρ)   Δtime\n",
      "---   ---------------   ---------   ---------   ------\n",
      "  1   -7.852645867100                   -1.64         \n",
      "  2   -7.852646686730       -6.09       -3.70    1.61s\n",
      "  3   -7.852646686730      -13.21       -7.22    161ms\n"
     ]
    }
   ],
   "cell_type": "code",
   "source": [
    "ψ = DFTK.select_occupied_orbitals(basis, scfres_start.ψ, scfres_start.occupation).ψ\n",
    "scfres_newton = newton(basis, ψ; tol);"
   ],
   "metadata": {},
   "execution_count": 6
  },
  {
   "cell_type": "markdown",
   "source": [
    "## Comparison of results"
   ],
   "metadata": {}
  },
  {
   "outputs": [
    {
     "name": "stdout",
     "output_type": "stream",
     "text": [
      "|ρ_newton - ρ_scf|  = 3.654088307247456e-7\n",
      "|ρ_newton - ρ_scfv| = 4.7164194216433393e-7\n",
      "|ρ_newton - ρ_dm|   = 1.3143153367958464e-9\n"
     ]
    }
   ],
   "cell_type": "code",
   "source": [
    "println(\"|ρ_newton - ρ_scf|  = \", norm(scfres_newton.ρ - scfres_scf.ρ))\n",
    "println(\"|ρ_newton - ρ_scfv| = \", norm(scfres_newton.ρ - scfres_scfv.ρ))\n",
    "println(\"|ρ_newton - ρ_dm|   = \", norm(scfres_newton.ρ - scfres_dm.ρ))"
   ],
   "metadata": {},
   "execution_count": 7
  }
 ],
 "nbformat_minor": 3,
 "metadata": {
  "language_info": {
   "file_extension": ".jl",
   "mimetype": "application/julia",
   "name": "julia",
   "version": "1.8.5"
  },
  "kernelspec": {
   "name": "julia-1.8",
   "display_name": "Julia 1.8.5",
   "language": "julia"
  }
 },
 "nbformat": 4
}
