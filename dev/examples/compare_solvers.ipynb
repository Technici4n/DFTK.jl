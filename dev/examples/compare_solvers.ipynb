{
 "cells": [
  {
   "cell_type": "markdown",
   "source": [
    "# Comparison of DFT solvers"
   ],
   "metadata": {}
  },
  {
   "cell_type": "markdown",
   "source": [
    "We compare four different approaches for solving the DFT minimisation problem,\n",
    "namely a density-based SCF, a potential-based SCF, direct minimisation and Newton."
   ],
   "metadata": {}
  },
  {
   "cell_type": "markdown",
   "source": [
    "First we setup our problem"
   ],
   "metadata": {}
  },
  {
   "outputs": [],
   "cell_type": "code",
   "source": [
    "using DFTK\n",
    "using LinearAlgebra\n",
    "\n",
    "a = 10.26  # Silicon lattice constant in Bohr\n",
    "lattice = a / 2 * [[0 1 1.];\n",
    "                   [1 0 1.];\n",
    "                   [1 1 0.]]\n",
    "Si = ElementPsp(:Si, psp=load_psp(\"hgh/lda/Si-q4\"))\n",
    "atoms     = [Si, Si]\n",
    "positions = [ones(3)/8, -ones(3)/8]\n",
    "\n",
    "model = model_LDA(lattice, atoms, positions)\n",
    "basis = PlaneWaveBasis(model; Ecut=5, kgrid=[3, 3, 3])\n",
    "\n",
    "# Convergence we desire\n",
    "tol = 1e-12\n",
    "is_converged = DFTK.ScfConvergenceDensity(tol);"
   ],
   "metadata": {},
   "execution_count": 1
  },
  {
   "cell_type": "markdown",
   "source": [
    "## Density-based self-consistent field"
   ],
   "metadata": {}
  },
  {
   "outputs": [
    {
     "name": "stdout",
     "output_type": "stream",
     "text": [
      "n     Energy            log10(ΔE)   log10(Δρ)   Diag\n",
      "---   ---------------   ---------   ---------   ----\n",
      "  1   -7.846884282458                   -0.70    4.8\n",
      "  2   -7.852304965042       -2.27       -1.54    1.0\n",
      "  3   -7.852646212946       -3.47       -2.52    3.2\n",
      "  4   -7.852646676505       -6.33       -3.37    2.2\n",
      "  5   -7.852646686174       -8.01       -4.66    1.8\n",
      "  6   -7.852646686728       -9.26       -5.39    3.2\n",
      "  7   -7.852646686730      -11.71       -6.19    1.0\n",
      "  8   -7.852646686730      -12.96       -7.87    2.2\n",
      "  9   -7.852646686730   +    -Inf       -7.99    3.2\n",
      " 10   -7.852646686730   +    -Inf       -9.25    2.5\n",
      " 11   -7.852646686730   +    -Inf       -8.85    1.0\n",
      " 12   -7.852646686730   +  -15.05      -10.25    2.2\n",
      " 13   -7.852646686730   +  -14.57      -10.93    2.8\n",
      " 14   -7.852646686730      -14.45      -11.55    1.8\n",
      " 15   -7.852646686730   +    -Inf      -12.28    3.0\n"
     ]
    }
   ],
   "cell_type": "code",
   "source": [
    "scfres_scf = self_consistent_field(basis; is_converged);"
   ],
   "metadata": {},
   "execution_count": 2
  },
  {
   "cell_type": "markdown",
   "source": [
    "## Potential-based SCF"
   ],
   "metadata": {}
  },
  {
   "outputs": [
    {
     "name": "stdout",
     "output_type": "stream",
     "text": [
      "n     Energy            log10(ΔE)   log10(Δρ)   α      Diag\n",
      "---   ---------------   ---------   ---------   ----   ----\n",
      "  1   -7.846579844340                   -0.70           4.2\n",
      "  2   -7.852523331279       -2.23       -1.64   0.80    2.5\n",
      "  3   -7.852635530567       -3.95       -2.72   0.80    1.0\n",
      "  4   -7.852646455300       -4.96       -3.23   0.80    2.0\n",
      "  5   -7.852646667395       -6.67       -4.07   0.80    1.0\n",
      "  6   -7.852646686430       -7.72       -4.79   0.80    2.0\n",
      "  7   -7.852646686722       -9.53       -5.53   0.80    1.8\n",
      "  8   -7.852646686729      -11.14       -6.69   0.80    1.8\n",
      "  9   -7.852646686730      -12.32       -7.13   0.80    2.8\n",
      " 10   -7.852646686730      -14.35       -8.71   0.80    1.0\n",
      " 11   -7.852646686730   +  -14.57       -8.38   0.80    3.2\n",
      " 12   -7.852646686730      -14.57       -9.51   0.80    1.0\n",
      " 13   -7.852646686730   +    -Inf       -9.60   0.80    2.0\n",
      " 14   -7.852646686730   +  -14.75      -10.98   0.80    1.0\n",
      " 15   -7.852646686730      -14.35      -11.43   0.80    2.8\n",
      " 16   -7.852646686730   +  -15.05      -12.46   0.80    1.0\n"
     ]
    }
   ],
   "cell_type": "code",
   "source": [
    "scfres_scfv = DFTK.scf_potential_mixing(basis; is_converged);"
   ],
   "metadata": {},
   "execution_count": 3
  },
  {
   "cell_type": "markdown",
   "source": [
    "## Direct minimization"
   ],
   "metadata": {}
  },
  {
   "outputs": [
    {
     "name": "stdout",
     "output_type": "stream",
     "text": [
      "Iter     Function value   Gradient norm \n",
      "     0     1.425381e+01     3.385699e+00\n",
      " * time: 0.45820188522338867\n",
      "     1     1.871260e+00     2.063258e+00\n",
      " * time: 0.7304139137268066\n",
      "     2    -1.429179e+00     2.372134e+00\n",
      " * time: 0.7595748901367188\n",
      "     3    -3.594853e+00     1.880530e+00\n",
      " * time: 0.8001198768615723\n",
      "     4    -5.099509e+00     1.412771e+00\n",
      " * time: 0.8400189876556396\n",
      "     5    -6.775656e+00     9.380122e-01\n",
      " * time: 0.8802459239959717\n",
      "     6    -6.803340e+00     1.452442e+00\n",
      " * time: 0.9071497917175293\n",
      "     7    -7.445653e+00     9.671171e-01\n",
      " * time: 0.9350588321685791\n",
      "     8    -7.676529e+00     3.340431e-01\n",
      " * time: 0.9745209217071533\n",
      "     9    -7.751657e+00     1.675841e-01\n",
      " * time: 1.003173828125\n",
      "    10    -7.792868e+00     1.070677e-01\n",
      " * time: 1.0313518047332764\n",
      "    11    -7.819797e+00     1.352720e-01\n",
      " * time: 1.0589849948883057\n",
      "    12    -7.836127e+00     6.348034e-02\n",
      " * time: 1.086167812347412\n",
      "    13    -7.847085e+00     3.659400e-02\n",
      " * time: 1.1146810054779053\n",
      "    14    -7.850940e+00     2.100730e-02\n",
      " * time: 1.1437749862670898\n",
      "    15    -7.852058e+00     1.432803e-02\n",
      " * time: 1.1709868907928467\n",
      "    16    -7.852456e+00     8.585947e-03\n",
      " * time: 1.1988840103149414\n",
      "    17    -7.852582e+00     5.060527e-03\n",
      " * time: 1.226874828338623\n",
      "    18    -7.852623e+00     3.329553e-03\n",
      " * time: 1.253943920135498\n",
      "    19    -7.852637e+00     1.759211e-03\n",
      " * time: 1.2809958457946777\n",
      "    20    -7.852642e+00     1.094939e-03\n",
      " * time: 1.3085339069366455\n",
      "    21    -7.852645e+00     6.200690e-04\n",
      " * time: 1.3358500003814697\n",
      "    22    -7.852646e+00     4.669259e-04\n",
      " * time: 1.3629570007324219\n",
      "    23    -7.852646e+00     2.474748e-04\n",
      " * time: 1.3900527954101562\n",
      "    24    -7.852647e+00     1.455011e-04\n",
      " * time: 1.4182019233703613\n",
      "    25    -7.852647e+00     1.034136e-04\n",
      " * time: 1.4457509517669678\n",
      "    26    -7.852647e+00     5.135224e-05\n",
      " * time: 1.4747538566589355\n",
      "    27    -7.852647e+00     2.782265e-05\n",
      " * time: 1.5054218769073486\n",
      "    28    -7.852647e+00     2.545360e-05\n",
      " * time: 1.532958984375\n",
      "    29    -7.852647e+00     1.237013e-05\n",
      " * time: 1.5605390071868896\n",
      "    30    -7.852647e+00     5.855531e-06\n",
      " * time: 1.5873589515686035\n",
      "    31    -7.852647e+00     3.505383e-06\n",
      " * time: 1.6143908500671387\n",
      "    32    -7.852647e+00     2.390339e-06\n",
      " * time: 1.6411619186401367\n",
      "    33    -7.852647e+00     1.305380e-06\n",
      " * time: 1.6677849292755127\n",
      "    34    -7.852647e+00     7.524006e-07\n",
      " * time: 1.6945319175720215\n",
      "    35    -7.852647e+00     3.716247e-07\n",
      " * time: 1.720944881439209\n",
      "    36    -7.852647e+00     2.413195e-07\n",
      " * time: 1.748309850692749\n",
      "    37    -7.852647e+00     1.758161e-07\n",
      " * time: 1.7763538360595703\n",
      "    38    -7.852647e+00     1.168201e-07\n",
      " * time: 1.8045299053192139\n",
      "    39    -7.852647e+00     8.447576e-08\n",
      " * time: 1.9094858169555664\n",
      "    40    -7.852647e+00     4.293721e-08\n",
      " * time: 1.9377148151397705\n",
      "    41    -7.852647e+00     2.253111e-08\n",
      " * time: 1.9656360149383545\n",
      "    42    -7.852647e+00     1.611128e-08\n",
      " * time: 1.993006944656372\n",
      "    43    -7.852647e+00     1.179938e-08\n",
      " * time: 2.0219368934631348\n",
      "    44    -7.852647e+00     7.002480e-09\n",
      " * time: 2.051041841506958\n",
      "    45    -7.852647e+00     6.903081e-09\n",
      " * time: 2.1050589084625244\n"
     ]
    }
   ],
   "cell_type": "code",
   "source": [
    "scfres_dm = direct_minimization(basis; tol);"
   ],
   "metadata": {},
   "execution_count": 4
  },
  {
   "cell_type": "markdown",
   "source": [
    "## Newton algorithm"
   ],
   "metadata": {}
  },
  {
   "cell_type": "markdown",
   "source": [
    "Start not too far from the solution to ensure convergence:\n",
    "We run first a very crude SCF to get close and then switch to Newton."
   ],
   "metadata": {}
  },
  {
   "outputs": [
    {
     "name": "stdout",
     "output_type": "stream",
     "text": [
      "n     Energy            log10(ΔE)   log10(Δρ)   Diag\n",
      "---   ---------------   ---------   ---------   ----\n",
      "  1   -7.846870286635                   -0.70    4.8\n",
      "  2   -7.852328417337       -2.26       -1.53    1.0\n"
     ]
    }
   ],
   "cell_type": "code",
   "source": [
    "scfres_start = self_consistent_field(basis; tol=1e-1);"
   ],
   "metadata": {},
   "execution_count": 5
  },
  {
   "cell_type": "markdown",
   "source": [
    "Remove the virtual orbitals (which Newton cannot treat yet)"
   ],
   "metadata": {}
  },
  {
   "outputs": [
    {
     "name": "stdout",
     "output_type": "stream",
     "text": [
      "n     Energy            log10(ΔE)   log10(Δρ)\n",
      "---   ---------------   ---------   ---------\n",
      "  1   -7.852646686712                   -2.55\n",
      "  2   -7.852646686730      -10.74       -5.99\n",
      "  3   -7.852646686730   +    -Inf      -12.64\n"
     ]
    }
   ],
   "cell_type": "code",
   "source": [
    "ψ = DFTK.select_occupied_orbitals(basis, scfres_start.ψ, scfres_start.occupation).ψ\n",
    "scfres_newton = newton(basis, ψ; tol);"
   ],
   "metadata": {},
   "execution_count": 6
  },
  {
   "cell_type": "markdown",
   "source": [
    "## Comparison of results"
   ],
   "metadata": {}
  },
  {
   "outputs": [
    {
     "name": "stdout",
     "output_type": "stream",
     "text": [
      "|ρ_newton - ρ_scf|  = 2.39284107024252e-13\n",
      "|ρ_newton - ρ_scfv| = 4.292818335793729e-13\n",
      "|ρ_newton - ρ_dm|   = 2.582211720960404e-10\n"
     ]
    }
   ],
   "cell_type": "code",
   "source": [
    "println(\"|ρ_newton - ρ_scf|  = \", norm(scfres_newton.ρ - scfres_scf.ρ))\n",
    "println(\"|ρ_newton - ρ_scfv| = \", norm(scfres_newton.ρ - scfres_scfv.ρ))\n",
    "println(\"|ρ_newton - ρ_dm|   = \", norm(scfres_newton.ρ - scfres_dm.ρ))"
   ],
   "metadata": {},
   "execution_count": 7
  }
 ],
 "nbformat_minor": 3,
 "metadata": {
  "language_info": {
   "file_extension": ".jl",
   "mimetype": "application/julia",
   "name": "julia",
   "version": "1.8.2"
  },
  "kernelspec": {
   "name": "julia-1.8",
   "display_name": "Julia 1.8.2",
   "language": "julia"
  }
 },
 "nbformat": 4
}
