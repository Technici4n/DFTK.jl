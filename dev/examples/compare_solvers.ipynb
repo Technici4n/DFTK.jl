{
 "cells": [
  {
   "cell_type": "markdown",
   "source": [
    "# Comparison of DFT solvers"
   ],
   "metadata": {}
  },
  {
   "cell_type": "markdown",
   "source": [
    "We compare four different approaches for solving the DFT minimisation problem,\n",
    "namely a density-based SCF, a potential-based SCF, direct minimisation and Newton."
   ],
   "metadata": {}
  },
  {
   "cell_type": "markdown",
   "source": [
    "First we setup our problem"
   ],
   "metadata": {}
  },
  {
   "outputs": [
    {
     "output_type": "execute_result",
     "data": {
      "text/plain": "1.0e-6"
     },
     "metadata": {},
     "execution_count": 1
    }
   ],
   "cell_type": "code",
   "source": [
    "using DFTK\n",
    "using LinearAlgebra\n",
    "\n",
    "a = 10.26  # Silicon lattice constant in Bohr\n",
    "lattice = a / 2 * [[0 1 1.];\n",
    "                   [1 0 1.];\n",
    "                   [1 1 0.]]\n",
    "Si = ElementPsp(:Si, psp=load_psp(\"hgh/lda/Si-q4\"))\n",
    "atoms     = [Si, Si]\n",
    "positions = [ones(3)/8, -ones(3)/8]\n",
    "\n",
    "model = model_LDA(lattice, atoms, positions)\n",
    "basis = PlaneWaveBasis(model; Ecut=5, kgrid=[3, 3, 3])\n",
    "\n",
    "# Convergence we desire in the density\n",
    "tol = 1e-6"
   ],
   "metadata": {},
   "execution_count": 1
  },
  {
   "cell_type": "markdown",
   "source": [
    "## Density-based self-consistent field"
   ],
   "metadata": {}
  },
  {
   "outputs": [
    {
     "name": "stdout",
     "output_type": "stream",
     "text": [
      "n     Energy            log10(ΔE)   log10(Δρ)   Diag   Δtime\n",
      "---   ---------------   ---------   ---------   ----   ------\n",
      "  1   -7.846853755446                   -0.70    4.8         \n",
      "  2   -7.852325475257       -2.26       -1.53    1.0   24.4ms\n",
      "  3   -7.852615475817       -3.54       -2.55    1.5   26.4ms\n",
      "  4   -7.852645978387       -4.52       -2.89    2.8   33.8ms\n",
      "  5   -7.852646521678       -6.26       -3.21    1.0   24.7ms\n",
      "  6   -7.852646678755       -6.80       -3.99    1.0   24.8ms\n",
      "  7   -7.852646686311       -8.12       -5.26    1.5   28.1ms\n",
      "  8   -7.852646686724       -9.38       -5.46    2.5   35.2ms\n",
      "  9   -7.852646686730      -11.28       -6.62    1.0   25.3ms\n"
     ]
    }
   ],
   "cell_type": "code",
   "source": [
    "scfres_scf = self_consistent_field(basis; tol);"
   ],
   "metadata": {},
   "execution_count": 2
  },
  {
   "cell_type": "markdown",
   "source": [
    "## Potential-based SCF"
   ],
   "metadata": {}
  },
  {
   "outputs": [
    {
     "name": "stdout",
     "output_type": "stream",
     "text": [
      "n     Energy            log10(ΔE)   log10(Δρ)   α      Diag   Δtime\n",
      "---   ---------------   ---------   ---------   ----   ----   ------\n",
      "  1   -7.846801294325                   -0.70           4.8         \n",
      "  2   -7.852555105665       -2.24       -1.63   0.80    2.0    322ms\n",
      "  3   -7.852639472023       -4.07       -2.73   0.80    1.0   22.7ms\n",
      "  4   -7.852646512646       -5.15       -3.39   0.80    2.0   27.6ms\n",
      "  5   -7.852646680035       -6.78       -4.29   0.80    1.5   24.7ms\n",
      "  6   -7.852646686621       -8.18       -4.82   0.80    2.0   28.4ms\n",
      "  7   -7.852646686720      -10.00       -5.67   0.80    1.2   24.3ms\n",
      "  8   -7.852646686730      -11.02       -6.32   0.80    2.2   28.6ms\n"
     ]
    }
   ],
   "cell_type": "code",
   "source": [
    "scfres_scfv = DFTK.scf_potential_mixing(basis; tol);"
   ],
   "metadata": {},
   "execution_count": 3
  },
  {
   "cell_type": "markdown",
   "source": [
    "## Direct minimization\n",
    "Note: Unlike the other algorithms, tolerance for this one is in the energy,\n",
    "thus we square the density tolerance value to be roughly equivalent."
   ],
   "metadata": {}
  },
  {
   "outputs": [
    {
     "name": "stdout",
     "output_type": "stream",
     "text": [
      "Iter     Function value   Gradient norm \n",
      "     0     1.397936e+01     3.671649e+00\n",
      " * time: 0.4098169803619385\n",
      "     1     1.413390e+00     1.921467e+00\n",
      " * time: 0.6038758754730225\n",
      "     2    -1.255853e+00     2.371135e+00\n",
      " * time: 0.6287798881530762\n",
      "     3    -3.672617e+00     1.991315e+00\n",
      " * time: 0.6644330024719238\n",
      "     4    -5.003933e+00     1.830372e+00\n",
      " * time: 0.6999249458312988\n",
      "     5    -6.822543e+00     1.041037e+00\n",
      " * time: 0.7352800369262695\n",
      "     6    -7.455369e+00     4.707801e-01\n",
      " * time: 0.7708508968353271\n",
      "     7    -7.703309e+00     2.479563e-01\n",
      " * time: 0.7954459190368652\n",
      "     8    -7.788945e+00     1.046308e-01\n",
      " * time: 0.8197710514068604\n",
      "     9    -7.812252e+00     1.563123e-01\n",
      " * time: 0.8443939685821533\n",
      "    10    -7.832874e+00     4.620092e-02\n",
      " * time: 0.8688030242919922\n",
      "    11    -7.843145e+00     5.613406e-02\n",
      " * time: 0.8931820392608643\n",
      "    12    -7.846602e+00     5.429516e-02\n",
      " * time: 0.9176840782165527\n",
      "    13    -7.846986e+00     3.732356e-02\n",
      " * time: 0.9421689510345459\n",
      "    14    -7.849049e+00     2.427747e-02\n",
      " * time: 0.9666218757629395\n",
      "    15    -7.851227e+00     1.899617e-02\n",
      " * time: 0.9913370609283447\n",
      "    16    -7.852126e+00     1.121012e-02\n",
      " * time: 1.0159220695495605\n",
      "    17    -7.852495e+00     5.965166e-03\n",
      " * time: 1.0403249263763428\n",
      "    18    -7.852601e+00     3.826984e-03\n",
      " * time: 1.0648810863494873\n",
      "    19    -7.852629e+00     2.226513e-03\n",
      " * time: 1.0892999172210693\n",
      "    20    -7.852640e+00     1.185179e-03\n",
      " * time: 1.1143438816070557\n",
      "    21    -7.852645e+00     8.673218e-04\n",
      " * time: 1.1388740539550781\n",
      "    22    -7.852646e+00     5.865963e-04\n",
      " * time: 1.163783073425293\n",
      "    23    -7.852646e+00     4.299906e-04\n",
      " * time: 1.1886160373687744\n",
      "    24    -7.852647e+00     3.328511e-04\n",
      " * time: 1.213418960571289\n",
      "    25    -7.852647e+00     1.393868e-04\n",
      " * time: 1.2378380298614502\n",
      "    26    -7.852647e+00     8.412514e-05\n",
      " * time: 1.2624800205230713\n",
      "    27    -7.852647e+00     3.535912e-05\n",
      " * time: 1.3457250595092773\n",
      "    28    -7.852647e+00     2.708823e-05\n",
      " * time: 1.3704140186309814\n",
      "    29    -7.852647e+00     1.523601e-05\n",
      " * time: 1.3946709632873535\n",
      "    30    -7.852647e+00     5.772334e-06\n",
      " * time: 1.4194390773773193\n",
      "    31    -7.852647e+00     3.155963e-06\n",
      " * time: 1.4440209865570068\n",
      "    32    -7.852647e+00     2.009995e-06\n",
      " * time: 1.4683849811553955\n",
      "    33    -7.852647e+00     1.198421e-06\n",
      " * time: 1.4926390647888184\n",
      "    34    -7.852647e+00     1.186190e-06\n",
      " * time: 1.5169670581817627\n",
      "    35    -7.852647e+00     5.614734e-07\n",
      " * time: 1.5412368774414062\n",
      "    36    -7.852647e+00     3.229684e-07\n",
      " * time: 1.5656728744506836\n",
      "    37    -7.852647e+00     2.243398e-07\n",
      " * time: 1.5898120403289795\n",
      "    38    -7.852647e+00     1.256700e-07\n",
      " * time: 1.614314079284668\n",
      "    39    -7.852647e+00     8.493660e-08\n",
      " * time: 1.6386380195617676\n",
      "    40    -7.852647e+00     4.871276e-08\n",
      " * time: 1.6629290580749512\n",
      "    41    -7.852647e+00     2.955652e-08\n",
      " * time: 1.6872179508209229\n",
      "    42    -7.852647e+00     1.829228e-08\n",
      " * time: 1.7114250659942627\n",
      "    43    -7.852647e+00     8.744520e-09\n",
      " * time: 1.7358620166778564\n",
      "    44    -7.852647e+00     7.643194e-09\n",
      " * time: 1.7706949710845947\n",
      "    45    -7.852647e+00     2.901355e-09\n",
      " * time: 1.7949988842010498\n",
      "    46    -7.852647e+00     2.861091e-09\n",
      " * time: 1.8194859027862549\n",
      "    47    -7.852647e+00     2.859124e-09\n",
      " * time: 1.8761839866638184\n",
      "    48    -7.852647e+00     2.834476e-09\n",
      " * time: 1.9220850467681885\n"
     ]
    }
   ],
   "cell_type": "code",
   "source": [
    "scfres_dm = direct_minimization(basis; tol=tol^2);"
   ],
   "metadata": {},
   "execution_count": 4
  },
  {
   "cell_type": "markdown",
   "source": [
    "## Newton algorithm"
   ],
   "metadata": {}
  },
  {
   "cell_type": "markdown",
   "source": [
    "Start not too far from the solution to ensure convergence:\n",
    "We run first a very crude SCF to get close and then switch to Newton."
   ],
   "metadata": {}
  },
  {
   "outputs": [
    {
     "name": "stdout",
     "output_type": "stream",
     "text": [
      "n     Energy            log10(ΔE)   log10(Δρ)   Diag   Δtime\n",
      "---   ---------------   ---------   ---------   ----   ------\n",
      "  1   -7.846792963934                   -0.70    4.5         \n"
     ]
    }
   ],
   "cell_type": "code",
   "source": [
    "scfres_start = self_consistent_field(basis; tol=0.5);"
   ],
   "metadata": {},
   "execution_count": 5
  },
  {
   "cell_type": "markdown",
   "source": [
    "Remove the virtual orbitals (which Newton cannot treat yet)"
   ],
   "metadata": {}
  },
  {
   "outputs": [
    {
     "name": "stdout",
     "output_type": "stream",
     "text": [
      "n     Energy            log10(ΔE)   log10(Δρ)   Δtime\n",
      "---   ---------------   ---------   ---------   ------\n",
      "  1   -7.852645892005                   -1.64         \n",
      "  2   -7.852646686730       -6.10       -3.71    1.50s\n",
      "  3   -7.852646686730      -13.24       -7.23    168ms\n"
     ]
    }
   ],
   "cell_type": "code",
   "source": [
    "ψ = DFTK.select_occupied_orbitals(basis, scfres_start.ψ, scfres_start.occupation).ψ\n",
    "scfres_newton = newton(basis, ψ; tol);"
   ],
   "metadata": {},
   "execution_count": 6
  },
  {
   "cell_type": "markdown",
   "source": [
    "## Comparison of results"
   ],
   "metadata": {}
  },
  {
   "outputs": [
    {
     "name": "stdout",
     "output_type": "stream",
     "text": [
      "|ρ_newton - ρ_scf|  = 3.0086462569240137e-7\n",
      "|ρ_newton - ρ_scfv| = 8.383718947048147e-8\n",
      "|ρ_newton - ρ_dm|   = 5.853950607452973e-10\n"
     ]
    }
   ],
   "cell_type": "code",
   "source": [
    "println(\"|ρ_newton - ρ_scf|  = \", norm(scfres_newton.ρ - scfres_scf.ρ))\n",
    "println(\"|ρ_newton - ρ_scfv| = \", norm(scfres_newton.ρ - scfres_scfv.ρ))\n",
    "println(\"|ρ_newton - ρ_dm|   = \", norm(scfres_newton.ρ - scfres_dm.ρ))"
   ],
   "metadata": {},
   "execution_count": 7
  }
 ],
 "nbformat_minor": 3,
 "metadata": {
  "language_info": {
   "file_extension": ".jl",
   "mimetype": "application/julia",
   "name": "julia",
   "version": "1.8.5"
  },
  "kernelspec": {
   "name": "julia-1.8",
   "display_name": "Julia 1.8.5",
   "language": "julia"
  }
 },
 "nbformat": 4
}
