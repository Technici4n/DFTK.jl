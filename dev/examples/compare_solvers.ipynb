{
 "cells": [
  {
   "cell_type": "markdown",
   "source": [
    "# Comparison of DFT solvers"
   ],
   "metadata": {}
  },
  {
   "cell_type": "markdown",
   "source": [
    "We compare four different approaches for solving the DFT minimisation problem,\n",
    "namely a density-based SCF, a potential-based SCF, direct minimisation and Newton."
   ],
   "metadata": {}
  },
  {
   "cell_type": "markdown",
   "source": [
    "First we setup our problem"
   ],
   "metadata": {}
  },
  {
   "outputs": [],
   "cell_type": "code",
   "source": [
    "using DFTK\n",
    "using LinearAlgebra\n",
    "\n",
    "a = 10.26  # Silicon lattice constant in Bohr\n",
    "lattice = a / 2 * [[0 1 1.];\n",
    "                   [1 0 1.];\n",
    "                   [1 1 0.]]\n",
    "Si = ElementPsp(:Si, psp=load_psp(\"hgh/lda/Si-q4\"))\n",
    "atoms     = [Si, Si]\n",
    "positions = [ones(3)/8, -ones(3)/8]\n",
    "\n",
    "model = model_LDA(lattice, atoms, positions)\n",
    "basis = PlaneWaveBasis(model; Ecut=5, kgrid=[3, 3, 3])\n",
    "\n",
    "# Convergence we desire\n",
    "tol = 1e-12\n",
    "is_converged = DFTK.ScfConvergenceDensity(tol);"
   ],
   "metadata": {},
   "execution_count": 1
  },
  {
   "cell_type": "markdown",
   "source": [
    "## Density-based self-consistent field"
   ],
   "metadata": {}
  },
  {
   "outputs": [
    {
     "name": "stdout",
     "output_type": "stream",
     "text": [
      "n     Energy            log10(ΔE)   log10(Δρ)   Diag\n",
      "---   ---------------   ---------   ---------   ----\n",
      "  1   -7.846833869919                   -0.70    4.8\n",
      "  2   -7.852324127405       -2.26       -1.53    1.0\n",
      "  3   -7.852646074420       -3.49       -2.52    3.2\n",
      "  4   -7.852646677858       -6.22       -3.37    2.0\n",
      "  5   -7.852646685874       -8.10       -4.77    1.2\n",
      "  6   -7.852646686723       -9.07       -5.20    3.8\n",
      "  7   -7.852646686730      -11.19       -6.10    1.5\n",
      "  8   -7.852646686730      -12.54       -7.29    2.5\n",
      "  9   -7.852646686730      -14.75       -7.50    2.0\n",
      " 10   -7.852646686730   +  -14.75       -8.64    2.0\n",
      " 11   -7.852646686730   +    -Inf       -9.55    2.2\n",
      " 12   -7.852646686730      -14.75      -10.19    2.2\n",
      " 13   -7.852646686730   +  -14.45      -10.54    1.2\n",
      " 14   -7.852646686730      -14.75      -11.51    1.8\n",
      " 15   -7.852646686730   +    -Inf      -12.03    2.8\n"
     ]
    }
   ],
   "cell_type": "code",
   "source": [
    "scfres_scf = self_consistent_field(basis; is_converged);"
   ],
   "metadata": {},
   "execution_count": 2
  },
  {
   "cell_type": "markdown",
   "source": [
    "## Potential-based SCF"
   ],
   "metadata": {}
  },
  {
   "outputs": [
    {
     "name": "stdout",
     "output_type": "stream",
     "text": [
      "n     Energy            log10(ΔE)   log10(Δρ)   α      Diag\n",
      "---   ---------------   ---------   ---------   ----   ----\n",
      "  1   -7.846865228085                   -0.70           4.8\n",
      "  2   -7.852528953265       -2.25       -1.63   0.80    2.0\n",
      "  3   -7.852637296646       -3.97       -2.71   0.80    1.0\n",
      "  4   -7.852646514579       -5.04       -3.30   0.80    2.2\n",
      "  5   -7.852646674393       -6.80       -4.13   0.80    1.0\n",
      "  6   -7.852646686455       -7.92       -4.76   0.80    1.8\n",
      "  7   -7.852646686725       -9.57       -5.50   0.80    1.8\n",
      "  8   -7.852646686730      -11.35       -6.54   0.80    1.5\n",
      "  9   -7.852646686730      -12.64       -7.64   0.80    2.5\n",
      " 10   -7.852646686730      -14.45       -8.16   0.80    2.2\n",
      " 11   -7.852646686730   +    -Inf       -8.85   0.80    1.2\n",
      " 12   -7.852646686730      -14.75       -9.27   0.80    1.8\n",
      " 13   -7.852646686730   +  -14.45      -10.61   0.80    1.5\n",
      " 14   -7.852646686730   +    -Inf      -11.04   0.80    2.8\n",
      " 15   -7.852646686730      -14.75      -11.95   0.80    1.0\n",
      " 16   -7.852646686730   +    -Inf      -12.30   0.80    1.8\n"
     ]
    }
   ],
   "cell_type": "code",
   "source": [
    "scfres_scfv = DFTK.scf_potential_mixing(basis; is_converged);"
   ],
   "metadata": {},
   "execution_count": 3
  },
  {
   "cell_type": "markdown",
   "source": [
    "## Direct minimization"
   ],
   "metadata": {}
  },
  {
   "outputs": [
    {
     "name": "stdout",
     "output_type": "stream",
     "text": [
      "Iter     Function value   Gradient norm \n",
      "     0     1.359635e+01     3.130224e+00\n",
      " * time: 0.5113751888275146\n",
      "     1     9.989111e-01     1.691151e+00\n",
      " * time: 0.7747170925140381\n",
      "     2    -1.572958e+00     1.912545e+00\n",
      " * time: 0.8104970455169678\n",
      "     3    -3.951798e+00     1.661732e+00\n",
      " * time: 0.8636701107025146\n",
      "     4    -5.206350e+00     1.489098e+00\n",
      " * time: 0.9163761138916016\n",
      "     5    -6.949500e+00     1.060034e+00\n",
      " * time: 0.9747982025146484\n",
      "     6    -7.491058e+00     6.398959e-01\n",
      " * time: 1.0274531841278076\n",
      "     7    -7.706429e+00     4.616394e-01\n",
      " * time: 1.0712461471557617\n",
      "     8    -7.785557e+00     1.467471e-01\n",
      " * time: 1.107795000076294\n",
      "     9    -7.821048e+00     1.020928e-01\n",
      " * time: 1.1443190574645996\n",
      "    10    -7.838458e+00     7.520775e-02\n",
      " * time: 1.180110216140747\n",
      "    11    -7.844678e+00     4.721835e-02\n",
      " * time: 1.216008186340332\n",
      "    12    -7.849372e+00     2.578113e-02\n",
      " * time: 1.2520902156829834\n",
      "    13    -7.851380e+00     1.952536e-02\n",
      " * time: 1.2884831428527832\n",
      "    14    -7.852066e+00     1.241476e-02\n",
      " * time: 1.3250110149383545\n",
      "    15    -7.852395e+00     8.394921e-03\n",
      " * time: 1.3618390560150146\n",
      "    16    -7.852560e+00     5.266895e-03\n",
      " * time: 1.4009761810302734\n",
      "    17    -7.852619e+00     5.052537e-03\n",
      " * time: 1.4376821517944336\n",
      "    18    -7.852636e+00     1.751575e-03\n",
      " * time: 1.4797790050506592\n",
      "    19    -7.852642e+00     8.676588e-04\n",
      " * time: 1.5160531997680664\n",
      "    20    -7.852645e+00     4.647224e-04\n",
      " * time: 1.5518300533294678\n",
      "    21    -7.852646e+00     3.870175e-04\n",
      " * time: 1.5878322124481201\n",
      "    22    -7.852647e+00     2.435138e-04\n",
      " * time: 1.6231451034545898\n",
      "    23    -7.852647e+00     1.112351e-04\n",
      " * time: 1.6581552028656006\n",
      "    24    -7.852647e+00     7.355474e-05\n",
      " * time: 1.694338083267212\n",
      "    25    -7.852647e+00     3.712959e-05\n",
      " * time: 1.7313411235809326\n",
      "    26    -7.852647e+00     2.526223e-05\n",
      " * time: 1.7676301002502441\n",
      "    27    -7.852647e+00     1.757131e-05\n",
      " * time: 1.9257922172546387\n",
      "    28    -7.852647e+00     8.488052e-06\n",
      " * time: 1.9620451927185059\n",
      "    29    -7.852647e+00     3.877600e-06\n",
      " * time: 1.998225212097168\n",
      "    30    -7.852647e+00     2.083393e-06\n",
      " * time: 2.0345280170440674\n",
      "    31    -7.852647e+00     1.012923e-06\n",
      " * time: 2.0706582069396973\n",
      "    32    -7.852647e+00     8.351889e-07\n",
      " * time: 2.107349157333374\n",
      "    33    -7.852647e+00     4.664734e-07\n",
      " * time: 2.143376111984253\n",
      "    34    -7.852647e+00     2.658026e-07\n",
      " * time: 2.1789000034332275\n",
      "    35    -7.852647e+00     1.862956e-07\n",
      " * time: 2.2145321369171143\n",
      "    36    -7.852647e+00     1.085331e-07\n",
      " * time: 2.250225067138672\n",
      "    37    -7.852647e+00     7.904655e-08\n",
      " * time: 2.285429000854492\n",
      "    38    -7.852647e+00     4.111371e-08\n",
      " * time: 2.3211300373077393\n"
     ]
    }
   ],
   "cell_type": "code",
   "source": [
    "scfres_dm = direct_minimization(basis; tol);"
   ],
   "metadata": {},
   "execution_count": 4
  },
  {
   "cell_type": "markdown",
   "source": [
    "## Newton algorithm"
   ],
   "metadata": {}
  },
  {
   "cell_type": "markdown",
   "source": [
    "Start not too far from the solution to ensure convergence:\n",
    "We run first a very crude SCF to get close and then switch to Newton."
   ],
   "metadata": {}
  },
  {
   "outputs": [
    {
     "name": "stdout",
     "output_type": "stream",
     "text": [
      "n     Energy            log10(ΔE)   log10(Δρ)   Diag\n",
      "---   ---------------   ---------   ---------   ----\n",
      "  1   -7.846806246997                   -0.70    4.5\n",
      "  2   -7.852315156191       -2.26       -1.53    1.0\n"
     ]
    }
   ],
   "cell_type": "code",
   "source": [
    "scfres_start = self_consistent_field(basis; tol=1e-1);"
   ],
   "metadata": {},
   "execution_count": 5
  },
  {
   "cell_type": "markdown",
   "source": [
    "Remove the virtual orbitals (which Newton cannot treat yet)"
   ],
   "metadata": {}
  },
  {
   "outputs": [
    {
     "name": "stdout",
     "output_type": "stream",
     "text": [
      "n     Energy            log10(ΔE)   log10(Δρ)\n",
      "---   ---------------   ---------   ---------\n",
      "  1   -7.852646686683                   -2.55\n",
      "  2   -7.852646686730      -10.33       -5.88\n",
      "  3   -7.852646686730   +  -14.75      -12.50\n"
     ]
    }
   ],
   "cell_type": "code",
   "source": [
    "ψ = DFTK.select_occupied_orbitals(basis, scfres_start.ψ, scfres_start.occupation).ψ\n",
    "scfres_newton = newton(basis, ψ; tol);"
   ],
   "metadata": {},
   "execution_count": 6
  },
  {
   "cell_type": "markdown",
   "source": [
    "## Comparison of results"
   ],
   "metadata": {}
  },
  {
   "outputs": [
    {
     "name": "stdout",
     "output_type": "stream",
     "text": [
      "|ρ_newton - ρ_scf|  = 6.958923498771137e-13\n",
      "|ρ_newton - ρ_scfv| = 2.8546424869035893e-13\n",
      "|ρ_newton - ρ_dm|   = 2.185779698181387e-9\n"
     ]
    }
   ],
   "cell_type": "code",
   "source": [
    "println(\"|ρ_newton - ρ_scf|  = \", norm(scfres_newton.ρ - scfres_scf.ρ))\n",
    "println(\"|ρ_newton - ρ_scfv| = \", norm(scfres_newton.ρ - scfres_scfv.ρ))\n",
    "println(\"|ρ_newton - ρ_dm|   = \", norm(scfres_newton.ρ - scfres_dm.ρ))"
   ],
   "metadata": {},
   "execution_count": 7
  }
 ],
 "nbformat_minor": 3,
 "metadata": {
  "language_info": {
   "file_extension": ".jl",
   "mimetype": "application/julia",
   "name": "julia",
   "version": "1.8.3"
  },
  "kernelspec": {
   "name": "julia-1.8",
   "display_name": "Julia 1.8.3",
   "language": "julia"
  }
 },
 "nbformat": 4
}
