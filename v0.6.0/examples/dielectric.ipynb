{
 "cells": [
  {
   "cell_type": "markdown",
   "source": [
    "# Eigenvalues of the dielectric matrix\n",
    "\n",
    "We compute a few eigenvalues of the dielectric matrix ($q=0$, $ω=0$) iteratively."
   ],
   "metadata": {}
  },
  {
   "outputs": [
    {
     "name": "stdout",
     "output_type": "stream",
     "text": [
      "n     Energy            log10(ΔE)   log10(Δρ)   Diag\n",
      "---   ---------------   ---------   ---------   ----\n",
      "  1   -7.235315758145                   -0.50    7.0\n",
      "  2   -7.250361753122       -1.82       -1.41    1.0\n",
      "  3   -7.251208906266       -3.07       -2.26    1.0\n",
      "  4   -7.251313871375       -3.98       -2.37    2.0\n",
      "  5   -7.251332698634       -4.73       -2.73    1.0\n",
      "  6   -7.251338037360       -5.27       -3.19    2.0\n",
      "  7   -7.251338728270       -6.16       -3.68    1.0\n",
      "  8   -7.251338784520       -7.25       -3.95    2.0\n",
      "  9   -7.251338797311       -7.89       -4.43    1.0\n",
      " 10   -7.251338798515       -8.92       -5.04    2.0\n",
      " 11   -7.251338798668       -9.82       -5.25    2.0\n",
      " 12   -7.251338798696      -10.56       -5.53    1.0\n",
      " 13   -7.251338798704      -11.10       -6.10    2.0\n",
      " 14   -7.251338798704      -12.14       -6.66    1.0\n",
      " 15   -7.251338798705      -13.19       -7.05    2.0\n",
      " 16   -7.251338798705      -14.35       -7.60    1.0\n",
      " 17   -7.251338798705      -14.45       -7.98    3.0\n",
      " 18   -7.251338798705   +  -14.75       -8.40    2.0\n"
     ]
    }
   ],
   "cell_type": "code",
   "source": [
    "using DFTK\n",
    "using Plots\n",
    "using KrylovKit\n",
    "using Printf\n",
    "\n",
    "# Calculation parameters\n",
    "kgrid = [1, 1, 1]\n",
    "Ecut = 5\n",
    "\n",
    "# Silicon lattice\n",
    "a = 10.26\n",
    "lattice = a / 2 .* [[0 1 1.]; [1 0 1.]; [1 1 0.]]\n",
    "Si = ElementPsp(:Si, psp=load_psp(\"hgh/lda/Si-q4\"))\n",
    "atoms     = [Si, Si]\n",
    "positions = [ones(3)/8, -ones(3)/8]\n",
    "\n",
    "# Compute the dielectric operator without symmetries\n",
    "model  = model_LDA(lattice, atoms, positions, symmetries=false)\n",
    "basis  = PlaneWaveBasis(model; Ecut, kgrid)\n",
    "scfres = self_consistent_field(basis, tol=1e-8);"
   ],
   "metadata": {},
   "execution_count": 1
  },
  {
   "cell_type": "markdown",
   "source": [
    "Applying $ε^† ≔ (1- χ_0 K)$ …"
   ],
   "metadata": {}
  },
  {
   "outputs": [],
   "cell_type": "code",
   "source": [
    "function eps_fun(δρ)\n",
    "    δV = apply_kernel(basis, δρ; ρ=scfres.ρ)\n",
    "    χ0δV = apply_χ0(scfres, δV)\n",
    "    δρ - χ0δV\n",
    "end;"
   ],
   "metadata": {},
   "execution_count": 2
  },
  {
   "cell_type": "markdown",
   "source": [
    "… eagerly diagonalizes the subspace matrix at each iteration"
   ],
   "metadata": {}
  },
  {
   "outputs": [
    {
     "name": "stdout",
     "output_type": "stream",
     "text": [
      "[ Info: Arnoldi iteration step 1: normres = 0.06877308536216521\n",
      "[ Info: Arnoldi iteration step 2: normres = 0.5203055277771127\n",
      "[ Info: Arnoldi iteration step 3: normres = 0.9411504445307582\n",
      "[ Info: Arnoldi iteration step 4: normres = 0.28450240612734384\n",
      "[ Info: Arnoldi iteration step 5: normres = 0.4495010349525038\n",
      "[ Info: Arnoldi schursolve in iter 1, krylovdim = 5: 0 values converged, normres = (3.70e-02, 5.69e-02, 2.83e-01, 3.39e-01, 5.27e-02)\n",
      "[ Info: Arnoldi iteration step 6: normres = 0.35607507896654544\n",
      "[ Info: Arnoldi schursolve in iter 1, krylovdim = 6: 0 values converged, normres = (1.19e-02, 2.20e-01, 2.56e-01, 8.12e-02, 5.23e-02)\n",
      "[ Info: Arnoldi iteration step 7: normres = 0.0842798602735927\n",
      "[ Info: Arnoldi schursolve in iter 1, krylovdim = 7: 0 values converged, normres = (5.14e-04, 2.16e-02, 1.03e-02, 3.40e-02, 6.83e-02)\n",
      "[ Info: Arnoldi iteration step 8: normres = 0.10195001355557103\n",
      "[ Info: Arnoldi schursolve in iter 1, krylovdim = 8: 0 values converged, normres = (2.29e-05, 1.59e-03, 8.47e-04, 1.25e-02, 4.38e-02)\n",
      "[ Info: Arnoldi iteration step 9: normres = 0.07706114752408544\n",
      "[ Info: Arnoldi schursolve in iter 1, krylovdim = 9: 0 values converged, normres = (7.55e-07, 8.60e-05, 5.09e-05, 3.15e-03, 2.15e-02)\n",
      "[ Info: Arnoldi iteration step 10: normres = 0.08532478336867182\n",
      "[ Info: Arnoldi schursolve in iter 1, krylovdim = 10: 0 values converged, normres = (2.79e-08, 5.25e-06, 3.46e-06, 9.06e-04, 1.30e-02)\n",
      "[ Info: Arnoldi iteration step 11: normres = 0.06663908996504384\n",
      "[ Info: Arnoldi schursolve in iter 1, krylovdim = 11: 0 values converged, normres = (8.03e-10, 2.48e-07, 1.81e-07, 1.98e-04, 6.33e-03)\n",
      "[ Info: Arnoldi iteration step 12: normres = 0.08830232646674005\n",
      "[ Info: Arnoldi schursolve in iter 1, krylovdim = 12: 0 values converged, normres = (3.04e-11, 1.54e-08, 1.25e-08, 5.35e-05, 3.42e-03)\n",
      "[ Info: Arnoldi iteration step 13: normres = 0.038163321926169246\n",
      "[ Info: Arnoldi schursolve in iter 1, krylovdim = 13: 1 values converged, normres = (4.95e-13, 4.09e-10, 3.68e-10, 6.24e-06, 8.17e-04)\n",
      "[ Info: Arnoldi iteration step 14: normres = 0.6903766371786794\n",
      "[ Info: Arnoldi schursolve in iter 1, krylovdim = 14: 1 values converged, normres = (1.93e-13, 3.26e-10, 3.49e-10, 6.84e-01, 4.26e-02)\n",
      "[ Info: Arnoldi iteration step 15: normres = 0.04182758545138519\n",
      "[ Info: Arnoldi schursolve in iter 1, krylovdim = 15: 1 values converged, normres = (5.62e-15, 5.56e-11, 1.04e-02, 2.83e-02, 1.12e-05)\n",
      "[ Info: Arnoldi iteration step 16: normres = 0.33457463919580377\n",
      "[ Info: Arnoldi schursolve in iter 1, krylovdim = 16: 1 values converged, normres = (8.03e-16, 1.30e-11, 7.76e-03, 5.20e-04, 6.13e-07)\n",
      "[ Info: Arnoldi iteration step 17: normres = 0.12473552814239121\n",
      "[ Info: Arnoldi schursolve in iter 1, krylovdim = 17: 1 values converged, normres = (1.06e-16, 1.29e-10, 1.22e-01, 2.63e-04, 1.03e-02)\n",
      "[ Info: Arnoldi iteration step 18: normres = 0.019003372837220978\n",
      "[ Info: Arnoldi schursolve in iter 1, krylovdim = 18: 1 values converged, normres = (8.39e-19, 7.33e-10, 1.53e-03, 1.86e-07, 9.09e-05)\n",
      "[ Info: Arnoldi iteration step 19: normres = 0.15332823489940098\n",
      "[ Info: Arnoldi schursolve in iter 1, krylovdim = 19: 1 values converged, normres = (5.40e-20, 4.77e-05, 1.51e-04, 5.49e-06, 8.83e-06)\n",
      "[ Info: Arnoldi iteration step 20: normres = 0.06754606439785323\n",
      "[ Info: Arnoldi schursolve in iter 1, krylovdim = 20: 1 values converged, normres = (1.78e-21, 7.97e-10, 9.41e-06, 1.71e-08, 7.05e-07)\n",
      "[ Info: Arnoldi iteration step 21: normres = 0.0301435306346923\n",
      "[ Info: Arnoldi schursolve in iter 1, krylovdim = 21: 1 values converged, normres = (2.25e-23, 1.71e-07, 8.67e-08, 1.28e-08, 9.42e-09)\n",
      "[ Info: Arnoldi iteration step 22: normres = 0.020442928904326904\n",
      "[ Info: Arnoldi schursolve in iter 1, krylovdim = 22: 1 values converged, normres = (1.89e-25, 9.22e-11, 2.58e-09, 1.78e-10, 1.53e-10)\n",
      "[ Info: Arnoldi iteration step 23: normres = 0.6476916841232451\n",
      "[ Info: Arnoldi schursolve in iter 1, krylovdim = 23: 1 values converged, normres = (6.20e-26, 5.51e-11, 1.56e-09, 1.23e-10, 1.08e-10)\n",
      "[ Info: Arnoldi iteration step 24: normres = 0.022051965012226785\n",
      "[ Info: Arnoldi schursolve in iter 1, krylovdim = 24: 1 values converged, normres = (1.06e-27, 6.32e-12, 1.73e-10, 7.80e-03, 1.56e-02)\n",
      "[ Info: Arnoldi iteration step 25: normres = 0.03178733015427311\n",
      "[ Info: Arnoldi schursolve in iter 1, krylovdim = 25: 2 values converged, normres = (1.38e-29, 1.27e-13, 3.58e-12, 2.79e-09, 2.74e-09)\n",
      "[ Info: Arnoldi iteration step 26: normres = 0.09150103011596651\n",
      "[ Info: Arnoldi schursolve in iter 1, krylovdim = 26: 3 values converged, normres = (5.65e-31, 8.76e-15, 2.46e-13, 9.48e-06, 2.57e-05)\n",
      "[ Info: Arnoldi iteration step 27: normres = 0.024896868720093578\n",
      "[ Info: Arnoldi schursolve in iter 1, krylovdim = 27: 3 values converged, normres = (5.87e-33, 1.47e-16, 4.12e-15, 5.07e-07, 2.62e-07)\n",
      "[ Info: Arnoldi iteration step 28: normres = 0.10729294435375268\n",
      "[ Info: Arnoldi schursolve in iter 1, krylovdim = 28: 3 values converged, normres = (2.71e-34, 1.11e-17, 3.12e-16, 4.76e-08, 5.74e-09)\n",
      "[ Info: Arnoldi iteration step 29: normres = 0.017303423557641508\n",
      "[ Info: Arnoldi schursolve in iter 1, krylovdim = 29: 3 values converged, normres = (1.99e-36, 1.33e-19, 3.73e-18, 5.77e-11, 8.72e-11)\n",
      "[ Info: Arnoldi iteration step 30: normres = 0.17995458808590473\n",
      "[ Info: Arnoldi schursolve in iter 1, krylovdim = 30: 3 values converged, normres = (1.54e-37, 1.69e-20, 4.74e-19, 8.32e-12, 1.27e-11)\n",
      "[ Info: Arnoldi schursolve in iter 2, krylovdim = 19: 3 values converged, normres = (1.54e-37, 1.69e-20, 4.74e-19, 8.32e-12, 1.27e-11)\n",
      "[ Info: Arnoldi iteration step 20: normres = 0.04949133668044214\n",
      "┌ Info: Arnoldi eigsolve finished after 2 iterations:\n",
      "│ *  5 eigenvalues converged\n",
      "│ *  norm of residuals = (3.667315598998771e-39, 7.091099379297076e-22, 1.9577402831649132e-20, 3.971273701238424e-13, 6.560690551587027e-13)\n",
      "└ *  number of operations = 31\n"
     ]
    }
   ],
   "cell_type": "code",
   "source": [
    "eigsolve(eps_fun, randn(size(scfres.ρ)), 5, :LM; eager=true, verbosity=3);"
   ],
   "metadata": {},
   "execution_count": 3
  }
 ],
 "nbformat_minor": 3,
 "metadata": {
  "language_info": {
   "file_extension": ".jl",
   "mimetype": "application/julia",
   "name": "julia",
   "version": "1.8.3"
  },
  "kernelspec": {
   "name": "julia-1.8",
   "display_name": "Julia 1.8.3",
   "language": "julia"
  }
 },
 "nbformat": 4
}
