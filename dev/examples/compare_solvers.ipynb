{
 "cells": [
  {
   "cell_type": "markdown",
   "source": [
    "# Comparison of DFT solvers"
   ],
   "metadata": {}
  },
  {
   "cell_type": "markdown",
   "source": [
    "We compare four different approaches for solving the DFT minimisation problem,\n",
    "namely a density-based SCF, a potential-based SCF, direct minimisation and Newton."
   ],
   "metadata": {}
  },
  {
   "cell_type": "markdown",
   "source": [
    "First we setup our problem"
   ],
   "metadata": {}
  },
  {
   "outputs": [
    {
     "output_type": "execute_result",
     "data": {
      "text/plain": "1.0e-6"
     },
     "metadata": {},
     "execution_count": 1
    }
   ],
   "cell_type": "code",
   "source": [
    "using DFTK\n",
    "using LinearAlgebra\n",
    "\n",
    "a = 10.26  # Silicon lattice constant in Bohr\n",
    "lattice = a / 2 * [[0 1 1.];\n",
    "                   [1 0 1.];\n",
    "                   [1 1 0.]]\n",
    "Si = ElementPsp(:Si, psp=load_psp(\"hgh/lda/Si-q4\"))\n",
    "atoms     = [Si, Si]\n",
    "positions = [ones(3)/8, -ones(3)/8]\n",
    "\n",
    "model = model_LDA(lattice, atoms, positions)\n",
    "basis = PlaneWaveBasis(model; Ecut=5, kgrid=[3, 3, 3])\n",
    "\n",
    "# Convergence we desire in the density\n",
    "tol = 1e-6"
   ],
   "metadata": {},
   "execution_count": 1
  },
  {
   "cell_type": "markdown",
   "source": [
    "## Density-based self-consistent field"
   ],
   "metadata": {}
  },
  {
   "outputs": [
    {
     "name": "stdout",
     "output_type": "stream",
     "text": [
      "n     Energy            log10(ΔE)   log10(Δρ)   Diag\n",
      "---   ---------------   ---------   ---------   ----\n",
      "  1   -7.846812238451                   -0.70    4.5\n",
      "  2   -7.852301715354       -2.26       -1.53    1.0\n",
      "  3   -7.852615720867       -3.50       -2.55    1.8\n",
      "  4   -7.852645814062       -4.52       -2.87    2.5\n",
      "  5   -7.852646469933       -6.18       -3.16    1.0\n",
      "  6   -7.852646677729       -6.68       -4.11    1.0\n",
      "  7   -7.852646686652       -8.05       -5.18    1.8\n",
      "  8   -7.852646686719      -10.18       -5.25    1.8\n",
      "  9   -7.852646686730      -10.96       -6.50    1.0\n"
     ]
    }
   ],
   "cell_type": "code",
   "source": [
    "scfres_scf = self_consistent_field(basis; tol);"
   ],
   "metadata": {},
   "execution_count": 2
  },
  {
   "cell_type": "markdown",
   "source": [
    "## Potential-based SCF"
   ],
   "metadata": {}
  },
  {
   "outputs": [
    {
     "name": "stdout",
     "output_type": "stream",
     "text": [
      "n     Energy            log10(ΔE)   log10(Δρ)   α      Diag\n",
      "---   ---------------   ---------   ---------   ----   ----\n",
      "  1   -7.846647197658                   -0.70           4.5\n",
      "  2   -7.852526915665       -2.23       -1.63   0.80    2.0\n",
      "  3   -7.852636882680       -3.96       -2.73   0.80    1.0\n",
      "  4   -7.852646473173       -5.02       -3.30   0.80    2.2\n",
      "  5   -7.852646674929       -6.70       -4.16   0.80    1.2\n",
      "  6   -7.852646686464       -7.94       -4.77   0.80    1.8\n",
      "  7   -7.852646686727       -9.58       -5.52   0.80    1.5\n",
      "  8   -7.852646686730      -11.53       -7.12   0.80    1.5\n"
     ]
    }
   ],
   "cell_type": "code",
   "source": [
    "scfres_scfv = DFTK.scf_potential_mixing(basis; tol);"
   ],
   "metadata": {},
   "execution_count": 3
  },
  {
   "cell_type": "markdown",
   "source": [
    "## Direct minimization\n",
    "Note: Unlike the other algorithms, tolerance for this one is in the energy,\n",
    "thus we square the density tolerance value to be roughly equivalent."
   ],
   "metadata": {}
  },
  {
   "outputs": [
    {
     "name": "stdout",
     "output_type": "stream",
     "text": [
      "Iter     Function value   Gradient norm \n",
      "     0     1.381319e+01     3.556652e+00\n",
      " * time: 0.481273889541626\n",
      "     1     1.271672e+00     1.785515e+00\n",
      " * time: 0.7346000671386719\n",
      "     2    -1.617000e+00     2.171599e+00\n",
      " * time: 0.7653861045837402\n",
      "     3    -3.910903e+00     1.841267e+00\n",
      " * time: 0.8091819286346436\n",
      "     4    -5.216567e+00     1.651589e+00\n",
      " * time: 0.853705883026123\n",
      "     5    -6.872641e+00     8.120640e-01\n",
      " * time: 0.8985950946807861\n",
      "     6    -7.166827e+00     8.295751e-01\n",
      " * time: 0.93088698387146\n",
      "     7    -7.649713e+00     1.805159e-01\n",
      " * time: 0.9645819664001465\n",
      "     8    -7.751617e+00     1.055805e-01\n",
      " * time: 0.9985170364379883\n",
      "     9    -7.796718e+00     1.254682e-01\n",
      " * time: 1.032027006149292\n",
      "    10    -7.814124e+00     9.577684e-02\n",
      " * time: 1.0642719268798828\n",
      "    11    -7.828101e+00     5.907188e-02\n",
      " * time: 1.0954289436340332\n",
      "    12    -7.841842e+00     4.218166e-02\n",
      " * time: 1.1263689994812012\n",
      "    13    -7.848502e+00     3.474708e-02\n",
      " * time: 1.1573939323425293\n",
      "    14    -7.850454e+00     2.675333e-02\n",
      " * time: 1.1880838871002197\n",
      "    15    -7.851739e+00     1.439069e-02\n",
      " * time: 1.21875\n",
      "    16    -7.852274e+00     1.143989e-02\n",
      " * time: 1.2497570514678955\n",
      "    17    -7.852502e+00     4.997124e-03\n",
      " * time: 1.280642032623291\n",
      "    18    -7.852597e+00     3.459100e-03\n",
      " * time: 1.3114759922027588\n",
      "    19    -7.852629e+00     2.389813e-03\n",
      " * time: 1.3427140712738037\n",
      "    20    -7.852641e+00     1.805285e-03\n",
      " * time: 1.3732380867004395\n",
      "    21    -7.852645e+00     7.694375e-04\n",
      " * time: 1.4042909145355225\n",
      "    22    -7.852646e+00     5.104240e-04\n",
      " * time: 1.4353749752044678\n",
      "    23    -7.852647e+00     2.217803e-04\n",
      " * time: 1.467055082321167\n",
      "    24    -7.852647e+00     1.143907e-04\n",
      " * time: 1.4985449314117432\n",
      "    25    -7.852647e+00     1.411592e-04\n",
      " * time: 1.5298941135406494\n",
      "    26    -7.852647e+00     7.794145e-05\n",
      " * time: 1.5610918998718262\n",
      "    27    -7.852647e+00     3.056049e-05\n",
      " * time: 1.592418909072876\n",
      "    28    -7.852647e+00     1.354032e-05\n",
      " * time: 1.6236300468444824\n",
      "    29    -7.852647e+00     1.208384e-05\n",
      " * time: 1.6553950309753418\n",
      "    30    -7.852647e+00     1.028656e-05\n",
      " * time: 1.6870129108428955\n",
      "    31    -7.852647e+00     6.345994e-06\n",
      " * time: 1.7178819179534912\n",
      "    32    -7.852647e+00     2.764430e-06\n",
      " * time: 1.7487819194793701\n",
      "    33    -7.852647e+00     1.081576e-06\n",
      " * time: 1.7801408767700195\n",
      "    34    -7.852647e+00     7.936260e-07\n",
      " * time: 1.9011290073394775\n",
      "    35    -7.852647e+00     4.305283e-07\n",
      " * time: 1.9319779872894287\n",
      "    36    -7.852647e+00     3.708687e-07\n",
      " * time: 1.9623849391937256\n",
      "    37    -7.852647e+00     1.918579e-07\n",
      " * time: 1.99257493019104\n",
      "    38    -7.852647e+00     1.030740e-07\n",
      " * time: 2.022451877593994\n",
      "    39    -7.852647e+00     6.916310e-08\n",
      " * time: 2.053030014038086\n",
      "    40    -7.852647e+00     3.933542e-08\n",
      " * time: 2.084120988845825\n",
      "    41    -7.852647e+00     3.272507e-08\n",
      " * time: 2.1149890422821045\n",
      "    42    -7.852647e+00     2.581449e-08\n",
      " * time: 2.1458380222320557\n",
      "    43    -7.852647e+00     8.554614e-09\n",
      " * time: 2.1901960372924805\n",
      "    44    -7.852647e+00     8.242803e-09\n",
      " * time: 2.2347829341888428\n"
     ]
    }
   ],
   "cell_type": "code",
   "source": [
    "scfres_dm = direct_minimization(basis; tol=tol^2);"
   ],
   "metadata": {},
   "execution_count": 4
  },
  {
   "cell_type": "markdown",
   "source": [
    "## Newton algorithm"
   ],
   "metadata": {}
  },
  {
   "cell_type": "markdown",
   "source": [
    "Start not too far from the solution to ensure convergence:\n",
    "We run first a very crude SCF to get close and then switch to Newton."
   ],
   "metadata": {}
  },
  {
   "outputs": [
    {
     "name": "stdout",
     "output_type": "stream",
     "text": [
      "n     Energy            log10(ΔE)   log10(Δρ)   Diag\n",
      "---   ---------------   ---------   ---------   ----\n",
      "  1   -7.846832654717                   -0.70    4.5\n"
     ]
    }
   ],
   "cell_type": "code",
   "source": [
    "scfres_start = self_consistent_field(basis; tol=0.5);"
   ],
   "metadata": {},
   "execution_count": 5
  },
  {
   "cell_type": "markdown",
   "source": [
    "Remove the virtual orbitals (which Newton cannot treat yet)"
   ],
   "metadata": {}
  },
  {
   "outputs": [
    {
     "name": "stdout",
     "output_type": "stream",
     "text": [
      "n     Energy            log10(ΔE)   log10(Δρ)\n",
      "---   ---------------   ---------   ---------\n",
      "  1   -7.852645908604                   -1.64\n",
      "  2   -7.852646686730       -6.11       -3.71\n",
      "  3   -7.852646686730      -13.36       -7.25\n"
     ]
    }
   ],
   "cell_type": "code",
   "source": [
    "ψ = DFTK.select_occupied_orbitals(basis, scfres_start.ψ, scfres_start.occupation).ψ\n",
    "scfres_newton = newton(basis, ψ; tol);"
   ],
   "metadata": {},
   "execution_count": 6
  },
  {
   "cell_type": "markdown",
   "source": [
    "## Comparison of results"
   ],
   "metadata": {}
  },
  {
   "outputs": [
    {
     "name": "stdout",
     "output_type": "stream",
     "text": [
      "|ρ_newton - ρ_scf|  = 3.3489804749214644e-7\n",
      "|ρ_newton - ρ_scfv| = 2.8123300289219777e-7\n",
      "|ρ_newton - ρ_dm|   = 1.0592413609315867e-9\n"
     ]
    }
   ],
   "cell_type": "code",
   "source": [
    "println(\"|ρ_newton - ρ_scf|  = \", norm(scfres_newton.ρ - scfres_scf.ρ))\n",
    "println(\"|ρ_newton - ρ_scfv| = \", norm(scfres_newton.ρ - scfres_scfv.ρ))\n",
    "println(\"|ρ_newton - ρ_dm|   = \", norm(scfres_newton.ρ - scfres_dm.ρ))"
   ],
   "metadata": {},
   "execution_count": 7
  }
 ],
 "nbformat_minor": 3,
 "metadata": {
  "language_info": {
   "file_extension": ".jl",
   "mimetype": "application/julia",
   "name": "julia",
   "version": "1.8.4"
  },
  "kernelspec": {
   "name": "julia-1.8",
   "display_name": "Julia 1.8.4",
   "language": "julia"
  }
 },
 "nbformat": 4
}
