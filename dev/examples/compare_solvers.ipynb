{
 "cells": [
  {
   "cell_type": "markdown",
   "source": [
    "# Comparison of DFT solvers"
   ],
   "metadata": {}
  },
  {
   "cell_type": "markdown",
   "source": [
    "We compare four different approaches for solving the DFT minimisation problem,\n",
    "namely a density-based SCF, a potential-based SCF, direct minimisation and Newton."
   ],
   "metadata": {}
  },
  {
   "cell_type": "markdown",
   "source": [
    "First we setup our problem"
   ],
   "metadata": {}
  },
  {
   "outputs": [],
   "cell_type": "code",
   "source": [
    "using DFTK\n",
    "using LinearAlgebra\n",
    "\n",
    "a = 10.26  # Silicon lattice constant in Bohr\n",
    "lattice = a / 2 * [[0 1 1.];\n",
    "                   [1 0 1.];\n",
    "                   [1 1 0.]]\n",
    "Si = ElementPsp(:Si, psp=load_psp(\"hgh/lda/Si-q4\"))\n",
    "atoms     = [Si, Si]\n",
    "positions = [ones(3)/8, -ones(3)/8]\n",
    "\n",
    "model = model_LDA(lattice, atoms, positions)\n",
    "basis = PlaneWaveBasis(model; Ecut=5, kgrid=[3, 3, 3])\n",
    "\n",
    "# Convergence we desire\n",
    "tol = 1e-12\n",
    "is_converged = DFTK.ScfConvergenceDensity(tol);"
   ],
   "metadata": {},
   "execution_count": 1
  },
  {
   "cell_type": "markdown",
   "source": [
    "## Density-based self-consistent field"
   ],
   "metadata": {}
  },
  {
   "outputs": [
    {
     "name": "stdout",
     "output_type": "stream",
     "text": [
      "n     Energy            log10(ΔE)   log10(Δρ)   Diag\n",
      "---   ---------------   ---------   ---------   ----\n",
      "  1   -7.846914510534                   -0.70    4.5\n",
      "  2   -7.852332712084       -2.27       -1.53    1.0\n",
      "  3   -7.852645957776       -3.50       -2.53    2.8\n",
      "  4   -7.852646677648       -6.14       -3.36    2.8\n",
      "  5   -7.852646685993       -8.08       -4.78    1.2\n",
      "  6   -7.852646686725       -9.14       -5.24    4.2\n",
      "  7   -7.852646686730      -11.32       -5.94    2.0\n",
      "  8   -7.852646686730      -12.54       -7.38    1.8\n",
      "  9   -7.852646686730      -14.57       -7.79    2.2\n",
      " 10   -7.852646686730   +  -15.05       -8.55    2.0\n",
      " 11   -7.852646686730   +    -Inf       -9.29    2.8\n",
      " 12   -7.852646686730   +  -15.05       -9.96    1.0\n",
      " 13   -7.852646686730      -14.57       -9.23    1.0\n",
      " 14   -7.852646686730   +  -14.75       -9.13    1.0\n",
      " 15   -7.852646686730   +  -15.05       -9.15    1.0\n",
      " 16   -7.852646686730      -15.05       -9.31    1.0\n",
      " 17   -7.852646686730   +    -Inf      -10.03    1.0\n",
      " 18   -7.852646686730   +    -Inf      -10.53    1.0\n",
      " 19   -7.852646686730   +    -Inf      -10.07    1.2\n",
      " 20   -7.852646686730      -14.75      -11.38    1.0\n",
      " 21   -7.852646686730   +  -15.05      -11.44    1.2\n",
      " 22   -7.852646686730      -14.75      -11.83    1.2\n",
      " 23   -7.852646686730   +  -14.75      -11.81    1.0\n",
      " 24   -7.852646686730      -14.57      -11.73    1.0\n",
      " 25   -7.852646686730   +  -14.35      -12.31    1.0\n"
     ]
    }
   ],
   "cell_type": "code",
   "source": [
    "scfres_scf = self_consistent_field(basis; is_converged);"
   ],
   "metadata": {},
   "execution_count": 2
  },
  {
   "cell_type": "markdown",
   "source": [
    "## Potential-based SCF"
   ],
   "metadata": {}
  },
  {
   "outputs": [
    {
     "name": "stdout",
     "output_type": "stream",
     "text": [
      "n     Energy            log10(ΔE)   log10(Δρ)   α      Diag\n",
      "---   ---------------   ---------   ---------   ----   ----\n",
      "  1   -7.846794387229                   -0.70           4.8\n",
      "  2   -7.852526610434       -2.24       -1.63   0.80    2.2\n",
      "  3   -7.852636997931       -3.96       -2.71   0.80    1.0\n",
      "  4   -7.852646449274       -5.02       -3.29   0.80    2.0\n",
      "  5   -7.852646677476       -6.64       -4.13   0.80    1.8\n",
      "  6   -7.852646686562       -8.04       -4.77   0.80    1.8\n",
      "  7   -7.852646686717       -9.81       -5.72   0.80    1.5\n",
      "  8   -7.852646686730      -10.91       -6.76   0.80    2.5\n",
      "  9   -7.852646686730      -12.65       -7.63   0.80    2.2\n",
      " 10   -7.852646686730      -14.75       -9.08   0.80    2.0\n",
      " 11   -7.852646686730   +    -Inf       -8.64   0.80    3.5\n",
      " 12   -7.852646686730   +  -14.57       -9.49   0.80    1.0\n",
      " 13   -7.852646686730      -15.05      -10.34   0.80    1.0\n",
      " 14   -7.852646686730   +  -15.05      -11.10   0.80    2.0\n",
      " 15   -7.852646686730      -14.35      -12.45   0.80    2.0\n"
     ]
    }
   ],
   "cell_type": "code",
   "source": [
    "scfres_scfv = DFTK.scf_potential_mixing(basis; is_converged);"
   ],
   "metadata": {},
   "execution_count": 3
  },
  {
   "cell_type": "markdown",
   "source": [
    "## Direct minimization"
   ],
   "metadata": {}
  },
  {
   "outputs": [
    {
     "name": "stdout",
     "output_type": "stream",
     "text": [
      "Iter     Function value   Gradient norm \n",
      "     0     1.415347e+01     3.330773e+00\n",
      " * time: 0.4491748809814453\n",
      "     1     1.072013e+00     1.759465e+00\n",
      " * time: 0.6942028999328613\n",
      "     2    -1.290555e+00     2.112202e+00\n",
      " * time: 0.7224760055541992\n",
      "     3    -3.844877e+00     1.631682e+00\n",
      " * time: 0.760814905166626\n",
      "     4    -5.135011e+00     1.396647e+00\n",
      " * time: 0.7993960380554199\n",
      "     5    -6.820694e+00     7.825370e-01\n",
      " * time: 0.8373310565948486\n",
      "     6    -7.035438e+00     8.473043e-01\n",
      " * time: 0.8635520935058594\n",
      "     7    -7.501412e+00     4.988218e-01\n",
      " * time: 0.889599084854126\n",
      "     8    -7.642839e+00     2.534134e-01\n",
      " * time: 0.916254997253418\n",
      "     9    -7.723512e+00     1.337986e-01\n",
      " * time: 0.9438130855560303\n",
      "    10    -7.772445e+00     1.107918e-01\n",
      " * time: 0.9690020084381104\n",
      "    11    -7.792412e+00     8.449653e-02\n",
      " * time: 0.9949550628662109\n",
      "    12    -7.813372e+00     8.832470e-02\n",
      " * time: 1.020956039428711\n",
      "    13    -7.828241e+00     7.266812e-02\n",
      " * time: 1.0478060245513916\n",
      "    14    -7.837980e+00     5.231921e-02\n",
      " * time: 1.0750360488891602\n",
      "    15    -7.849393e+00     2.437575e-02\n",
      " * time: 1.1013610363006592\n",
      "    16    -7.851685e+00     2.322922e-02\n",
      " * time: 1.1281609535217285\n",
      "    17    -7.852408e+00     1.062247e-02\n",
      " * time: 1.1537189483642578\n",
      "    18    -7.852562e+00     5.366487e-03\n",
      " * time: 1.1806049346923828\n",
      "    19    -7.852624e+00     2.300835e-03\n",
      " * time: 1.2070629596710205\n",
      "    20    -7.852639e+00     1.632799e-03\n",
      " * time: 1.2337229251861572\n",
      "    21    -7.852644e+00     1.244411e-03\n",
      " * time: 1.2607500553131104\n",
      "    22    -7.852645e+00     4.115398e-04\n",
      " * time: 1.287829875946045\n",
      "    23    -7.852646e+00     2.708755e-04\n",
      " * time: 1.3150739669799805\n",
      "    24    -7.852647e+00     1.803319e-04\n",
      " * time: 1.3426129817962646\n",
      "    25    -7.852647e+00     1.607169e-04\n",
      " * time: 1.3706409931182861\n",
      "    26    -7.852647e+00     7.565469e-05\n",
      " * time: 1.3989319801330566\n",
      "    27    -7.852647e+00     3.380066e-05\n",
      " * time: 1.4272520542144775\n",
      "    28    -7.852647e+00     1.957072e-05\n",
      " * time: 1.4558899402618408\n",
      "    29    -7.852647e+00     1.191682e-05\n",
      " * time: 1.4844489097595215\n",
      "    30    -7.852647e+00     8.510648e-06\n",
      " * time: 1.5121409893035889\n",
      "    31    -7.852647e+00     4.831540e-06\n",
      " * time: 1.5394980907440186\n",
      "    32    -7.852647e+00     2.247178e-06\n",
      " * time: 1.567728042602539\n",
      "    33    -7.852647e+00     1.256944e-06\n",
      " * time: 1.5957670211791992\n",
      "    34    -7.852647e+00     8.352831e-07\n",
      " * time: 1.623840093612671\n",
      "    35    -7.852647e+00     4.000351e-07\n",
      " * time: 1.6496529579162598\n",
      "    36    -7.852647e+00     1.811914e-07\n",
      " * time: 1.7466108798980713\n",
      "    37    -7.852647e+00     1.193414e-07\n",
      " * time: 1.7749269008636475\n",
      "    38    -7.852647e+00     8.601730e-08\n",
      " * time: 1.802954912185669\n",
      "    39    -7.852647e+00     5.332979e-08\n",
      " * time: 1.8299310207366943\n",
      "    40    -7.852647e+00     2.834814e-08\n",
      " * time: 1.8565878868103027\n",
      "    41    -7.852647e+00     1.548143e-08\n",
      " * time: 1.8814959526062012\n",
      "    42    -7.852647e+00     1.531175e-08\n",
      " * time: 1.9279770851135254\n",
      "    43    -7.852647e+00     1.531098e-08\n",
      " * time: 2.0138800144195557\n",
      "    44    -7.852647e+00     4.797010e-09\n",
      " * time: 2.040618896484375\n"
     ]
    }
   ],
   "cell_type": "code",
   "source": [
    "scfres_dm = direct_minimization(basis; tol);"
   ],
   "metadata": {},
   "execution_count": 4
  },
  {
   "cell_type": "markdown",
   "source": [
    "## Newton algorithm"
   ],
   "metadata": {}
  },
  {
   "cell_type": "markdown",
   "source": [
    "Start not too far from the solution to ensure convergence:\n",
    "We run first a very crude SCF to get close and then switch to Newton."
   ],
   "metadata": {}
  },
  {
   "outputs": [
    {
     "name": "stdout",
     "output_type": "stream",
     "text": [
      "n     Energy            log10(ΔE)   log10(Δρ)   Diag\n",
      "---   ---------------   ---------   ---------   ----\n",
      "  1   -7.846847481131                   -0.70    4.5\n",
      "  2   -7.852313277518       -2.26       -1.53    1.0\n"
     ]
    }
   ],
   "cell_type": "code",
   "source": [
    "scfres_start = self_consistent_field(basis; tol=1e-1);"
   ],
   "metadata": {},
   "execution_count": 5
  },
  {
   "cell_type": "markdown",
   "source": [
    "Remove the virtual orbitals (which Newton cannot treat yet)"
   ],
   "metadata": {}
  },
  {
   "outputs": [
    {
     "name": "stdout",
     "output_type": "stream",
     "text": [
      "n     Energy            log10(ΔE)   log10(Δρ)\n",
      "---   ---------------   ---------   ---------\n",
      "  1   -7.852646686674                   -2.54\n",
      "  2   -7.852646686730      -10.26       -5.95\n",
      "  3   -7.852646686730   +    -Inf      -12.19\n"
     ]
    }
   ],
   "cell_type": "code",
   "source": [
    "ψ, _ = DFTK.select_occupied_orbitals(basis, scfres_start.ψ, scfres_start.occupation)\n",
    "scfres_newton = newton(basis, ψ; tol);"
   ],
   "metadata": {},
   "execution_count": 6
  },
  {
   "cell_type": "markdown",
   "source": [
    "## Comparison of results"
   ],
   "metadata": {}
  },
  {
   "outputs": [
    {
     "name": "stdout",
     "output_type": "stream",
     "text": [
      "|ρ_newton - ρ_scf|  = 4.2643237912216476e-13\n",
      "|ρ_newton - ρ_scfv| = 3.481154601319785e-12\n",
      "|ρ_newton - ρ_dm|   = 4.2547778511442593e-10\n"
     ]
    }
   ],
   "cell_type": "code",
   "source": [
    "println(\"|ρ_newton - ρ_scf|  = \", norm(scfres_newton.ρ - scfres_scf.ρ))\n",
    "println(\"|ρ_newton - ρ_scfv| = \", norm(scfres_newton.ρ - scfres_scfv.ρ))\n",
    "println(\"|ρ_newton - ρ_dm|   = \", norm(scfres_newton.ρ - scfres_dm.ρ))"
   ],
   "metadata": {},
   "execution_count": 7
  }
 ],
 "nbformat_minor": 3,
 "metadata": {
  "language_info": {
   "file_extension": ".jl",
   "mimetype": "application/julia",
   "name": "julia",
   "version": "1.8.2"
  },
  "kernelspec": {
   "name": "julia-1.8",
   "display_name": "Julia 1.8.2",
   "language": "julia"
  }
 },
 "nbformat": 4
}
