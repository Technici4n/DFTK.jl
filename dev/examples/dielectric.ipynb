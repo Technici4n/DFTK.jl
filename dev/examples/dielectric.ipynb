{
 "cells": [
  {
   "cell_type": "markdown",
   "source": [
    "# Eigenvalues of the dielectric matrix\n",
    "\n",
    "We compute a few eigenvalues of the dielectric matrix ($q=0$, $ω=0$) iteratively."
   ],
   "metadata": {}
  },
  {
   "outputs": [
    {
     "name": "stdout",
     "output_type": "stream",
     "text": [
      "n     Energy            log10(ΔE)   log10(Δρ)   Diag\n",
      "---   ---------------   ---------   ---------   ----\n",
      "  1   -7.234414274647                   -0.50    7.0\n",
      "  2   -7.250050799585       -1.81       -1.40    1.0\n",
      "  3   -7.251235579267       -2.93       -1.99    4.0\n",
      "  4   -7.251080541512   +   -3.81       -1.95    5.0\n",
      "  5   -7.251328204018       -3.61       -2.63    4.0\n",
      "  6   -7.251337776740       -5.02       -3.06    4.0\n",
      "  7   -7.251338794807       -5.99       -4.18    3.0\n",
      "  8   -7.251338796341       -8.81       -4.40    4.0\n",
      "  9   -7.251338798671       -8.63       -5.20    3.0\n",
      " 10   -7.251338798704      -10.48       -5.94    4.0\n",
      " 11   -7.251338798704      -12.31       -6.48    2.0\n",
      " 12   -7.251338798705      -13.37       -6.88    3.0\n",
      " 13   -7.251338798705      -13.67       -7.57    2.0\n",
      " 14   -7.251338798705      -14.45       -7.95    3.0\n"
     ]
    }
   ],
   "cell_type": "code",
   "source": [
    "using DFTK\n",
    "using Plots\n",
    "using KrylovKit\n",
    "using Printf\n",
    "\n",
    "# Calculation parameters\n",
    "kgrid = [1, 1, 1]\n",
    "Ecut = 5\n",
    "\n",
    "# Silicon lattice\n",
    "a = 10.26\n",
    "lattice = a / 2 .* [[0 1 1.]; [1 0 1.]; [1 1 0.]]\n",
    "Si = ElementPsp(:Si, psp=load_psp(\"hgh/lda/Si-q4\"))\n",
    "atoms     = [Si, Si]\n",
    "positions = [ones(3)/8, -ones(3)/8]\n",
    "\n",
    "# Compute the dielectric operator without symmetries\n",
    "model = model_LDA(lattice, atoms, positions, symmetries=false)\n",
    "basis = PlaneWaveBasis(model; Ecut, kgrid)\n",
    "scfres = self_consistent_field(basis, tol=1e-14);"
   ],
   "metadata": {},
   "execution_count": 1
  },
  {
   "cell_type": "markdown",
   "source": [
    "Applying $ε^† ≔ (1- χ_0 K)$ …"
   ],
   "metadata": {}
  },
  {
   "outputs": [],
   "cell_type": "code",
   "source": [
    "function eps_fun(δρ)\n",
    "    δV = apply_kernel(basis, δρ; ρ=scfres.ρ)\n",
    "    χ0δV = apply_χ0(scfres, δV)\n",
    "    δρ - χ0δV\n",
    "end;"
   ],
   "metadata": {},
   "execution_count": 2
  },
  {
   "cell_type": "markdown",
   "source": [
    "… eagerly diagonalizes the subspace matrix at each iteration"
   ],
   "metadata": {}
  },
  {
   "outputs": [
    {
     "name": "stdout",
     "output_type": "stream",
     "text": [
      "[ Info: Arnoldi iteration step 1: normres = 0.06465593221737852\n",
      "[ Info: Arnoldi iteration step 2: normres = 0.4424999383133998\n",
      "[ Info: Arnoldi iteration step 3: normres = 0.960919207434664\n",
      "[ Info: Arnoldi iteration step 4: normres = 0.3012283354229543\n",
      "[ Info: Arnoldi iteration step 5: normres = 0.23729717463306063\n",
      "[ Info: Arnoldi schursolve in iter 1, krylovdim = 5: 0 values converged, normres = (2.15e-02, 2.52e-02, 1.43e-01, 1.85e-01, 2.37e-02)\n",
      "[ Info: Arnoldi iteration step 6: normres = 0.5394845587190044\n",
      "[ Info: Arnoldi schursolve in iter 1, krylovdim = 6: 0 values converged, normres = (9.73e-03, 1.02e-01, 5.15e-01, 8.71e-02, 7.18e-02)\n",
      "[ Info: Arnoldi iteration step 7: normres = 0.07411854409797758\n",
      "[ Info: Arnoldi schursolve in iter 1, krylovdim = 7: 0 values converged, normres = (4.09e-04, 3.18e-02, 5.69e-03, 1.86e-02, 5.66e-02)\n",
      "[ Info: Arnoldi iteration step 8: normres = 0.11272845303539494\n",
      "[ Info: Arnoldi schursolve in iter 1, krylovdim = 8: 0 values converged, normres = (1.98e-05, 2.52e-03, 5.11e-04, 6.43e-03, 5.05e-02)\n",
      "[ Info: Arnoldi iteration step 9: normres = 0.06554515020732853\n",
      "[ Info: Arnoldi schursolve in iter 1, krylovdim = 9: 0 values converged, normres = (5.59e-07, 1.17e-04, 2.63e-05, 1.42e-03, 3.15e-02)\n",
      "[ Info: Arnoldi iteration step 10: normres = 0.09349438739363525\n",
      "[ Info: Arnoldi schursolve in iter 1, krylovdim = 10: 0 values converged, normres = (2.31e-08, 8.07e-06, 2.02e-06, 5.15e-04, 4.03e-02)\n",
      "[ Info: Arnoldi iteration step 11: normres = 0.09810826754259833\n",
      "[ Info: Arnoldi schursolve in iter 1, krylovdim = 11: 0 values converged, normres = (9.78e-10, 5.62e-07, 1.57e-07, 1.75e-04, 3.67e-02)\n",
      "[ Info: Arnoldi iteration step 12: normres = 0.0824654807936504\n",
      "[ Info: Arnoldi schursolve in iter 1, krylovdim = 12: 0 values converged, normres = (3.52e-11, 3.36e-08, 1.04e-08, 5.33e-05, 2.57e-02)\n",
      "[ Info: Arnoldi iteration step 13: normres = 0.052539635441874614\n",
      "[ Info: Arnoldi schursolve in iter 1, krylovdim = 13: 1 values converged, normres = (7.86e-13, 1.22e-09, 4.18e-10, 8.28e-06, 7.85e-03)\n",
      "[ Info: Arnoldi iteration step 14: normres = 0.5823158516278024\n",
      "[ Info: Arnoldi schursolve in iter 1, krylovdim = 14: 1 values converged, normres = (3.38e-13, 1.59e-09, 7.97e-10, 5.81e-01, 3.47e-03)\n",
      "[ Info: Arnoldi iteration step 15: normres = 0.04657565784035577\n",
      "[ Info: Arnoldi schursolve in iter 1, krylovdim = 15: 1 values converged, normres = (8.39e-15, 1.57e-10, 2.20e-02, 2.02e-03, 1.43e-06)\n",
      "[ Info: Arnoldi iteration step 16: normres = 0.7470116632488644\n",
      "[ Info: Arnoldi schursolve in iter 1, krylovdim = 16: 1 values converged, normres = (4.03e-15, 1.83e-10, 3.22e-02, 1.49e-03, 7.45e-01)\n",
      "[ Info: Arnoldi iteration step 17: normres = 0.041243053606564335\n",
      "[ Info: Arnoldi schursolve in iter 1, krylovdim = 17: 1 values converged, normres = (1.18e-16, 7.81e-09, 2.69e-02, 1.06e-03, 3.42e-03)\n",
      "[ Info: Arnoldi iteration step 18: normres = 0.022520299545342258\n",
      "[ Info: Arnoldi schursolve in iter 1, krylovdim = 18: 1 values converged, normres = (1.10e-18, 8.27e-09, 4.00e-04, 3.92e-05, 4.42e-05)\n",
      "[ Info: Arnoldi iteration step 19: normres = 0.20089911400940944\n",
      "[ Info: Arnoldi schursolve in iter 1, krylovdim = 19: 1 values converged, normres = (9.52e-20, 5.54e-05, 1.31e-05, 3.11e-08, 9.32e-06)\n",
      "[ Info: Arnoldi iteration step 20: normres = 0.06485977106850868\n",
      "[ Info: Arnoldi schursolve in iter 1, krylovdim = 20: 1 values converged, normres = (2.94e-21, 2.61e-08, 3.13e-06, 5.23e-08, 5.80e-07)\n",
      "[ Info: Arnoldi iteration step 21: normres = 0.02474013345968749\n",
      "[ Info: Arnoldi schursolve in iter 1, krylovdim = 21: 1 values converged, normres = (3.04e-23, 1.57e-08, 4.94e-08, 7.55e-09, 7.51e-09)\n",
      "[ Info: Arnoldi iteration step 22: normres = 0.028006440556531037\n",
      "[ Info: Arnoldi schursolve in iter 1, krylovdim = 22: 1 values converged, normres = (3.49e-25, 9.49e-10, 5.09e-11, 1.05e-10, 1.88e-10)\n",
      "[ Info: Arnoldi iteration step 23: normres = 0.609539318804798\n",
      "[ Info: Arnoldi schursolve in iter 1, krylovdim = 23: 1 values converged, normres = (1.45e-25, 1.03e-09, 1.21e-10, 1.52e-10, 2.73e-10)\n",
      "[ Info: Arnoldi iteration step 24: normres = 0.017244166164661123\n",
      "[ Info: Arnoldi schursolve in iter 1, krylovdim = 24: 1 values converged, normres = (1.44e-27, 4.65e-11, 3.56e-12, 3.06e-03, 1.13e-04)\n",
      "[ Info: Arnoldi iteration step 25: normres = 0.03197258761665143\n",
      "[ Info: Arnoldi schursolve in iter 1, krylovdim = 25: 3 values converged, normres = (1.88e-29, 9.70e-13, 7.41e-14, 2.74e-09, 5.12e-09)\n",
      "[ Info: Arnoldi iteration step 26: normres = 0.09180202214077815\n",
      "[ Info: Arnoldi schursolve in iter 1, krylovdim = 26: 3 values converged, normres = (7.72e-31, 6.68e-14, 5.10e-15, 6.64e-06, 9.63e-06)\n",
      "[ Info: Arnoldi iteration step 27: normres = 0.03549107894211782\n",
      "[ Info: Arnoldi schursolve in iter 1, krylovdim = 27: 3 values converged, normres = (1.14e-32, 1.60e-15, 1.22e-16, 7.83e-08, 3.63e-07)\n",
      "[ Info: Arnoldi iteration step 28: normres = 0.08483695374591757\n",
      "[ Info: Arnoldi schursolve in iter 1, krylovdim = 28: 3 values converged, normres = (4.24e-34, 9.80e-17, 7.48e-18, 1.55e-08, 3.76e-09)\n",
      "[ Info: Arnoldi iteration step 29: normres = 0.05078028722687982\n",
      "[ Info: Arnoldi schursolve in iter 1, krylovdim = 29: 3 values converged, normres = (9.05e-36, 3.38e-18, 2.58e-19, 2.18e-10, 8.15e-10)\n",
      "[ Info: Arnoldi iteration step 30: normres = 0.11663487187198893\n",
      "[ Info: Arnoldi schursolve in iter 1, krylovdim = 30: 3 values converged, normres = (5.22e-37, 3.53e-19, 2.69e-20, 2.74e-11, 1.06e-10)\n",
      "[ Info: Arnoldi schursolve in iter 2, krylovdim = 19: 3 values converged, normres = (5.22e-37, 3.53e-19, 2.69e-20, 2.74e-11, 1.06e-10)\n",
      "[ Info: Arnoldi iteration step 20: normres = 0.03866556225923669\n",
      "[ Info: Arnoldi schursolve in iter 2, krylovdim = 20: 4 values converged, normres = (8.41e-39, 9.15e-21, 6.99e-22, 7.73e-13, 2.93e-12)\n",
      "[ Info: Arnoldi iteration step 21: normres = 0.068579009428351\n",
      "┌ Info: Arnoldi eigsolve finished after 2 iterations:\n",
      "│ *  6 eigenvalues converged\n",
      "│ *  norm of residuals = (2.4675212921419213e-40, 4.392168698259539e-22, 9.90398177711532e-23, 4.115014113234961e-14, 1.4647292524830335e-13, 1.0963888278640059e-13)\n",
      "└ *  number of operations = 32\n"
     ]
    }
   ],
   "cell_type": "code",
   "source": [
    "eigsolve(eps_fun, randn(size(scfres.ρ)), 5, :LM; eager=true, verbosity=3);"
   ],
   "metadata": {},
   "execution_count": 3
  }
 ],
 "nbformat_minor": 3,
 "metadata": {
  "language_info": {
   "file_extension": ".jl",
   "mimetype": "application/julia",
   "name": "julia",
   "version": "1.8.2"
  },
  "kernelspec": {
   "name": "julia-1.8",
   "display_name": "Julia 1.8.2",
   "language": "julia"
  }
 },
 "nbformat": 4
}
