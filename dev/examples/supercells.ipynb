{
 "cells": [
  {
   "cell_type": "markdown",
   "source": [
    "# Creating and modelling metallic supercells\n",
    "\n",
    "In this section we will be concerned with modelling supercells of aluminium.\n",
    "When dealing with periodic problems there is no unique definition of the\n",
    "lattice: Clearly any duplication of the lattice along an axis is also a valid\n",
    "repetitive unit to describe exactly the same system.\n",
    "This is exactly what a **supercell** is: An $n$-fold repetition along one of the\n",
    "axes of the original lattice.\n",
    "\n",
    "The following code achieves this for aluminium:"
   ],
   "metadata": {}
  },
  {
   "outputs": [
    {
     "output_type": "execute_result",
     "data": {
      "text/plain": "aluminium_setup (generic function with 2 methods)"
     },
     "metadata": {},
     "execution_count": 1
    }
   ],
   "cell_type": "code",
   "source": [
    "using DFTK\n",
    "using LinearAlgebra\n",
    "\n",
    "function aluminium_setup(repeat=1; Ecut=7.0, kgrid=[2, 2, 2])\n",
    "    a = 7.65339\n",
    "    lattice = a * Matrix(I, 3, 3)\n",
    "    Al = ElementPsp(:Al, psp=load_psp(\"hgh/lda/al-q3\"))\n",
    "    atoms     = [Al, Al, Al, Al]\n",
    "    positions = [[0.0, 0.0, 0.0], [0.0, 0.5, 0.5], [0.5, 0.0, 0.5], [0.5, 0.5, 0.0]]\n",
    "\n",
    "    # Make supercell in ASE:\n",
    "    # We convert our lattice to the conventions used in ASE\n",
    "    # and then back ...\n",
    "    supercell = ase_atoms(lattice, atoms, positions) * (repeat, 1, 1)\n",
    "    lattice   = load_lattice(supercell)\n",
    "    positions = load_positions(supercell)\n",
    "    atoms = fill(Al, length(positions))\n",
    "\n",
    "    # Construct an LDA model and discretise\n",
    "    # Note: We disable symmetries explicitly here. Otherwise the problem sizes\n",
    "    #       we are able to run on the CI are too simple to observe the numerical\n",
    "    #       instabilities we want to trigger here.\n",
    "    model = model_LDA(lattice, atoms, positions; temperature=1e-3, symmetries=false)\n",
    "    PlaneWaveBasis(model; Ecut, kgrid)\n",
    "end"
   ],
   "metadata": {},
   "execution_count": 1
  },
  {
   "cell_type": "markdown",
   "source": [
    "As part of the code we are using a routine inside the ASE,\n",
    "the [atomistic simulation environment](https://wiki.fysik.dtu.dk/ase/index.html)\n",
    "for creating the supercell and make use of the two-way interoperability of\n",
    "DFTK and ASE. For more details on this aspect see the documentation\n",
    "on Input and output formats."
   ],
   "metadata": {}
  },
  {
   "cell_type": "markdown",
   "source": [
    "Write an example supercell structure to a file to plot it:"
   ],
   "metadata": {}
  },
  {
   "outputs": [],
   "cell_type": "code",
   "source": [
    "setup = aluminium_setup(5)\n",
    "ase_atoms(setup.model).write(\"al_supercell.png\")"
   ],
   "metadata": {},
   "execution_count": 2
  },
  {
   "cell_type": "markdown",
   "source": [
    "<img src=\"https://docs.dftk.org/stable/examples/al_supercell.png\" width=500 height=500 />"
   ],
   "metadata": {}
  },
  {
   "cell_type": "markdown",
   "source": [
    "As we will see in this notebook the modelling of a system generally becomes\n",
    "harder if the system becomes larger.\n",
    "\n",
    "- This sounds like a trival statement as *per se* the cost per SCF step increases\n",
    "  as the system (and thus $N$) gets larger.\n",
    "- But there is more to it:\n",
    "  If one is not careful also the *number of SCF iterations* increases\n",
    "  as the system gets larger.\n",
    "- The aim of a proper computational treatment of such supercells is therefore\n",
    "  to ensure that the **number of SCF iterations remains constant** when the\n",
    "  system size increases."
   ],
   "metadata": {}
  },
  {
   "cell_type": "markdown",
   "source": [
    "For achieving the latter DFTK by default employs the `LdosMixing`\n",
    "preconditioner [^HL2021] during the SCF iterations. This mixing approach is\n",
    "completely parameter free, but still automatically adapts to the treated\n",
    "system in order to efficiently prevent charge sloshing. As a result,\n",
    "modelling aluminium slabs indeed takes roughly the same number of SCF iterations\n",
    "irrespective of the supercell size:\n",
    "\n",
    "[^HL2021]:\n",
    "   M. F. Herbst and A. Levitt.\n",
    "   *Black-box inhomogeneous preconditioning for self-consistent field iterations in density functional theory.*\n",
    "   J. Phys. Cond. Matt *33* 085503 (2021). [ArXiv:2009.01665](https://arxiv.org/abs/2009.01665)"
   ],
   "metadata": {}
  },
  {
   "outputs": [
    {
     "name": "stdout",
     "output_type": "stream",
     "text": [
      "n     Energy            log10(ΔE)   log10(Δρ)   Diag\n",
      "---   ---------------   ---------   ---------   ----\n",
      "  1   -8.298367494556                   -0.85    4.9\n",
      "  2   -8.300200190532       -2.74       -1.25    1.0\n",
      "  3   -8.300448883940       -3.60       -1.87    3.6\n",
      "  4   -8.300461761920       -4.89       -2.72    1.1\n",
      "  5   -8.300463852143       -5.68       -3.07    8.4\n",
      "┌ Warning: Eigensolver not converged\n",
      "│   iterations =\n",
      "│    8-element Vector{Int64}:\n",
      "│       3\n",
      "│       2\n",
      "│       2\n",
      "│       1\n",
      "│       2\n",
      "│       1\n",
      "│       1\n",
      "│     100\n",
      "└ @ DFTK ~/work/DFTK.jl/DFTK.jl/src/scf/self_consistent_field.jl:36\n",
      "  6   -8.300464223203       -6.43       -3.22   14.0\n",
      "  7   -8.300464420806       -6.70       -3.35    6.4\n",
      "  8   -8.300464535190       -6.94       -3.49    1.9\n",
      "  9   -8.300464628528       -7.03       -3.75    1.2\n",
      " 10   -8.300464636580       -8.09       -3.90    1.6\n",
      " 11   -8.300464642443       -8.23       -4.22    1.0\n"
     ]
    }
   ],
   "cell_type": "code",
   "source": [
    "is_converged = DFTK.ScfConvergenceDensity(1e-4)  # Flag convergence based on density\n",
    "self_consistent_field(aluminium_setup(1); is_converged);"
   ],
   "metadata": {},
   "execution_count": 3
  },
  {
   "outputs": [
    {
     "name": "stdout",
     "output_type": "stream",
     "text": [
      "n     Energy            log10(ΔE)   log10(Δρ)   Diag\n",
      "---   ---------------   ---------   ---------   ----\n",
      "  1   -16.67457301051                   -0.70    6.1\n",
      "  2   -16.67867880434       -2.39       -1.14    1.5\n",
      "  3   -16.67922805802       -3.26       -1.86    4.4\n",
      "  4   -16.67927787694       -4.30       -2.75    2.1\n",
      "  5   -16.67928566323       -5.11       -3.19    4.4\n",
      "  6   -16.67928620857       -6.26       -3.49    3.6\n",
      "  7   -16.67928622119       -7.90       -3.94    1.0\n",
      "  8   -16.67928622391       -8.57       -4.59    1.0\n"
     ]
    }
   ],
   "cell_type": "code",
   "source": [
    "self_consistent_field(aluminium_setup(2); is_converged);"
   ],
   "metadata": {},
   "execution_count": 4
  },
  {
   "outputs": [
    {
     "name": "stdout",
     "output_type": "stream",
     "text": [
      "n     Energy            log10(ΔE)   log10(Δρ)   Diag\n",
      "---   ---------------   ---------   ---------   ----\n",
      "  1   -33.32481625226                   -0.56    6.6\n",
      "  2   -33.33410028796       -2.03       -0.99    1.1\n",
      "  3   -33.33602329120       -2.72       -1.71    3.8\n",
      "  4   -33.33618490442       -3.79       -2.64    2.6\n",
      "  5   -33.33692732923       -3.13       -2.68    5.5\n",
      "  6   -33.33693842727       -4.95       -2.93   12.2\n",
      "  7   -33.33694389142       -5.26       -4.05    2.1\n"
     ]
    }
   ],
   "cell_type": "code",
   "source": [
    "self_consistent_field(aluminium_setup(4); is_converged, n_bands=30);"
   ],
   "metadata": {},
   "execution_count": 5
  },
  {
   "cell_type": "markdown",
   "source": [
    "When switching off explicitly the `LdosMixing`, by selecting `mixing=SimpleMixing()`,\n",
    "the performance of number of required SCF steps starts to increase as we increase\n",
    "the size of the modelled problem:"
   ],
   "metadata": {}
  },
  {
   "outputs": [
    {
     "name": "stdout",
     "output_type": "stream",
     "text": [
      "n     Energy            log10(ΔE)   log10(Δρ)   Diag\n",
      "---   ---------------   ---------   ---------   ----\n",
      "  1   -8.298526222259                   -0.85    4.6\n",
      "  2   -8.300276648050       -2.76       -1.59    1.0\n",
      "  3   -8.300421453468       -3.84       -2.38    6.4\n",
      "┌ Warning: Eigensolver not converged\n",
      "│   iterations =\n",
      "│    8-element Vector{Int64}:\n",
      "│      41\n",
      "│       3\n",
      "│       3\n",
      "│       3\n",
      "│       3\n",
      "│       3\n",
      "│       3\n",
      "│     100\n",
      "└ @ DFTK ~/work/DFTK.jl/DFTK.jl/src/scf/self_consistent_field.jl:36\n",
      "  4   -8.300318320362   +   -3.99       -2.17   19.9\n",
      "  5   -8.300464521667       -3.84       -3.72    2.9\n",
      "  6   -8.300464606565       -7.07       -4.02    4.2\n"
     ]
    }
   ],
   "cell_type": "code",
   "source": [
    "self_consistent_field(aluminium_setup(1); is_converged, mixing=SimpleMixing());"
   ],
   "metadata": {},
   "execution_count": 6
  },
  {
   "outputs": [
    {
     "name": "stdout",
     "output_type": "stream",
     "text": [
      "n     Energy            log10(ΔE)   log10(Δρ)   Diag\n",
      "---   ---------------   ---------   ---------   ----\n",
      "  1   -33.32597784721                   -0.56    6.4\n",
      "  2   -33.28117620523   +   -1.35       -1.25    1.1\n",
      "  3   +10.89372851393   +    1.65       -0.24    8.6\n",
      "  4   -33.31229743811        1.65       -1.60    7.6\n",
      "  5   -32.91538907015   +   -0.40       -1.18    5.2\n",
      "  6   -30.57077975138   +    0.37       -0.84    5.2\n",
      "  7   -33.31744237311        0.44       -1.85    7.4\n",
      "  8   -33.32375648976       -2.20       -1.85    2.2\n",
      "  9   -33.33469270308       -1.96       -2.09    2.4\n",
      " 10   -33.33661675908       -2.72       -2.69    2.4\n",
      " 11   -33.33684579218       -3.64       -2.90    2.9\n",
      " 12   -33.33685908510       -4.88       -2.98    1.4\n",
      " 13   -33.33693599783       -4.11       -3.27    3.0\n",
      " 14   -33.33694293339       -5.16       -3.70    3.0\n",
      " 15   -33.33694200484   +   -6.03       -3.85    3.2\n",
      " 16   -33.33694312988       -5.95       -4.05    3.4\n"
     ]
    }
   ],
   "cell_type": "code",
   "source": [
    "self_consistent_field(aluminium_setup(4); is_converged, mixing=SimpleMixing(), n_bands=30);"
   ],
   "metadata": {},
   "execution_count": 7
  },
  {
   "cell_type": "markdown",
   "source": [
    "For completion let us note that the more traditional `mixing=KerkerMixing()`\n",
    "approach would also help in this particular setting to obtain a constant\n",
    "number of SCF iterations for an increasing system size (try it!). In contrast\n",
    "to `LdosMixing`, however, `KerkerMixing` is only suitable to model bulk metallic\n",
    "system (like the case we are considering here). When modelling metallic surfaces\n",
    "or mixtures of metals and insulators, `KerkerMixing` fails, while `LdosMixing`\n",
    "still works well. See the Modelling a gallium arsenide surface example\n",
    "or [^HL2021] for details. Due to the general applicability of `LdosMixing` this\n",
    "method is the default mixing approach in DFTK."
   ],
   "metadata": {}
  }
 ],
 "nbformat_minor": 3,
 "metadata": {
  "language_info": {
   "file_extension": ".jl",
   "mimetype": "application/julia",
   "name": "julia",
   "version": "1.8.1"
  },
  "kernelspec": {
   "name": "julia-1.8",
   "display_name": "Julia 1.8.1",
   "language": "julia"
  }
 },
 "nbformat": 4
}
