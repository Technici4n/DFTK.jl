{
 "cells": [
  {
   "cell_type": "markdown",
   "source": [
    "# Eigenvalues of the dielectric matrix\n",
    "\n",
    "We compute a few eigenvalues of the dielectric matrix ($q=0$, $ω=0$) iteratively."
   ],
   "metadata": {}
  },
  {
   "outputs": [
    {
     "name": "stdout",
     "output_type": "stream",
     "text": [
      "n     Energy            log10(ΔE)   log10(Δρ)   Diag\n",
      "---   ---------------   ---------   ---------   ----\n",
      "  1   -7.234160494301                   -0.50    7.0\n",
      "  2   -7.250179314451       -1.80       -1.41    1.0\n",
      "  3   -7.251309862476       -2.95       -2.05    4.0\n",
      "  4   -7.251310648708       -6.10       -2.31    4.0\n",
      "  5   -7.251335946440       -4.60       -2.81    4.0\n",
      "  6   -7.251338403654       -5.61       -3.37    1.0\n",
      "  7   -7.251338756359       -6.45       -3.84    2.0\n",
      "  8   -7.251338795696       -7.41       -4.35    2.0\n",
      "  9   -7.251338798367       -8.57       -4.70    2.0\n",
      " 10   -7.251338798611       -9.61       -5.03    2.0\n",
      " 11   -7.251338798668      -10.24       -5.25    3.0\n",
      " 12   -7.251338798702      -10.47       -5.82    2.0\n",
      " 13   -7.251338798704      -11.67       -6.49    3.0\n",
      " 14   -7.251338798705      -12.81       -6.92    3.0\n",
      " 15   -7.251338798705      -14.05       -7.28    2.0\n"
     ]
    }
   ],
   "cell_type": "code",
   "source": [
    "using DFTK\n",
    "using Plots\n",
    "using KrylovKit\n",
    "using Printf\n",
    "\n",
    "# Calculation parameters\n",
    "kgrid = [1, 1, 1]\n",
    "Ecut = 5\n",
    "\n",
    "# Silicon lattice\n",
    "a = 10.26\n",
    "lattice = a / 2 .* [[0 1 1.]; [1 0 1.]; [1 1 0.]]\n",
    "Si = ElementPsp(:Si, psp=load_psp(\"hgh/lda/Si-q4\"))\n",
    "atoms     = [Si, Si]\n",
    "positions = [ones(3)/8, -ones(3)/8]\n",
    "\n",
    "# Compute the dielectric operator without symmetries\n",
    "model = model_LDA(lattice, atoms, positions, symmetries=false)\n",
    "basis = PlaneWaveBasis(model; Ecut, kgrid)\n",
    "scfres = self_consistent_field(basis, tol=1e-14);"
   ],
   "metadata": {},
   "execution_count": 1
  },
  {
   "cell_type": "markdown",
   "source": [
    "Applying $ε^† ≔ (1- χ_0 K)$ …"
   ],
   "metadata": {}
  },
  {
   "outputs": [],
   "cell_type": "code",
   "source": [
    "function eps_fun(δρ)\n",
    "    δV = apply_kernel(basis, δρ; ρ=scfres.ρ)\n",
    "    χ0δV = apply_χ0(scfres, δV)\n",
    "    δρ - χ0δV\n",
    "end;"
   ],
   "metadata": {},
   "execution_count": 2
  },
  {
   "cell_type": "markdown",
   "source": [
    "… eagerly diagonalizes the subspace matrix at each iteration"
   ],
   "metadata": {}
  },
  {
   "outputs": [
    {
     "name": "stdout",
     "output_type": "stream",
     "text": [
      "[ Info: Arnoldi iteration step 1: normres = 0.062436754982387974\n",
      "[ Info: Arnoldi iteration step 2: normres = 0.620239727401989\n",
      "[ Info: Arnoldi iteration step 3: normres = 0.6964597099406643\n",
      "[ Info: Arnoldi iteration step 4: normres = 0.2811706506566628\n",
      "[ Info: Arnoldi iteration step 5: normres = 0.36923149300845187\n",
      "[ Info: Arnoldi schursolve in iter 1, krylovdim = 5: 0 values converged, normres = (1.29e-02, 6.02e-02, 2.61e-01, 2.52e-01, 2.73e-02)\n",
      "[ Info: Arnoldi iteration step 6: normres = 0.4150038472803924\n",
      "[ Info: Arnoldi schursolve in iter 1, krylovdim = 6: 0 values converged, normres = (4.31e-03, 8.41e-02, 3.81e-01, 1.08e-01, 6.50e-02)\n",
      "[ Info: Arnoldi iteration step 7: normres = 0.07444249919708958\n",
      "[ Info: Arnoldi schursolve in iter 1, krylovdim = 7: 0 values converged, normres = (1.67e-04, 1.02e-02, 2.46e-02, 3.11e-02, 5.56e-02)\n",
      "[ Info: Arnoldi iteration step 8: normres = 0.09575203548527253\n",
      "[ Info: Arnoldi schursolve in iter 1, krylovdim = 8: 0 values converged, normres = (6.87e-06, 6.85e-04, 1.83e-03, 9.15e-03, 3.63e-02)\n",
      "[ Info: Arnoldi iteration step 9: normres = 0.04736432179350737\n",
      "[ Info: Arnoldi schursolve in iter 1, krylovdim = 9: 0 values converged, normres = (1.38e-07, 2.25e-05, 6.66e-05, 1.30e-03, 1.40e-02)\n",
      "[ Info: Arnoldi iteration step 10: normres = 0.09513816327373793\n",
      "[ Info: Arnoldi schursolve in iter 1, krylovdim = 10: 0 values converged, normres = (5.71e-09, 1.53e-06, 5.03e-06, 4.01e-04, 1.22e-02)\n",
      "[ Info: Arnoldi iteration step 11: normres = 0.0879560658088517\n",
      "[ Info: Arnoldi schursolve in iter 1, krylovdim = 11: 0 values converged, normres = (2.17e-10, 9.60e-08, 3.51e-07, 1.22e-04, 2.53e-02)\n",
      "[ Info: Arnoldi iteration step 12: normres = 0.10699141331493268\n",
      "[ Info: Arnoldi schursolve in iter 1, krylovdim = 12: 0 values converged, normres = (1.04e-11, 7.68e-09, 3.13e-08, 5.74e-05, 6.02e-02)\n",
      "[ Info: Arnoldi iteration step 13: normres = 0.2308896841487883\n",
      "[ Info: Arnoldi schursolve in iter 1, krylovdim = 13: 0 values converged, normres = (1.04e-12, 1.27e-09, 5.75e-09, 4.72e-05, 9.29e-02)\n",
      "[ Info: Arnoldi iteration step 14: normres = 0.21685555359514067\n",
      "[ Info: Arnoldi schursolve in iter 1, krylovdim = 14: 1 values converged, normres = (2.24e-13, 3.38e-09, 2.13e-01, 1.41e-02, 4.52e-04)\n",
      "[ Info: Arnoldi iteration step 15: normres = 0.40838443523681983\n",
      "[ Info: Arnoldi schursolve in iter 1, krylovdim = 15: 1 values converged, normres = (4.17e-14, 1.97e-09, 6.63e-02, 2.31e-04, 2.79e-05)\n",
      "[ Info: Arnoldi iteration step 16: normres = 0.07769991241629656\n",
      "[ Info: Arnoldi schursolve in iter 1, krylovdim = 16: 1 values converged, normres = (3.03e-15, 2.93e-08, 3.95e-02, 1.51e-05, 6.12e-02)\n",
      "[ Info: Arnoldi iteration step 17: normres = 0.033066442277681636\n",
      "[ Info: Arnoldi schursolve in iter 1, krylovdim = 17: 1 values converged, normres = (4.15e-17, 5.98e-04, 6.25e-04, 2.54e-07, 1.47e-03)\n",
      "[ Info: Arnoldi iteration step 18: normres = 0.021981566995966144\n",
      "[ Info: Arnoldi schursolve in iter 1, krylovdim = 18: 1 values converged, normres = (3.78e-19, 4.45e-08, 1.26e-05, 5.72e-08, 2.37e-05)\n",
      "[ Info: Arnoldi iteration step 19: normres = 0.11526581408032942\n",
      "[ Info: Arnoldi schursolve in iter 1, krylovdim = 19: 1 values converged, normres = (1.82e-20, 8.32e-07, 5.18e-07, 2.03e-06, 2.00e-08)\n",
      "[ Info: Arnoldi iteration step 20: normres = 0.09431481356851727\n",
      "[ Info: Arnoldi schursolve in iter 1, krylovdim = 20: 1 values converged, normres = (8.35e-22, 5.13e-08, 6.19e-08, 1.10e-07, 1.55e-07)\n",
      "[ Info: Arnoldi iteration step 21: normres = 0.0340620018016442\n",
      "[ Info: Arnoldi schursolve in iter 1, krylovdim = 21: 1 values converged, normres = (1.20e-23, 1.76e-09, 6.65e-10, 4.26e-09, 2.44e-09)\n",
      "[ Info: Arnoldi iteration step 22: normres = 0.6375588586593205\n",
      "[ Info: Arnoldi schursolve in iter 1, krylovdim = 22: 1 values converged, normres = (3.72e-24, 9.97e-10, 2.97e-10, 2.66e-09, 1.58e-09)\n",
      "[ Info: Arnoldi iteration step 23: normres = 0.031002551178356583\n",
      "[ Info: Arnoldi schursolve in iter 1, krylovdim = 23: 1 values converged, normres = (9.37e-26, 1.65e-10, 5.28e-11, 5.28e-08, 1.69e-08)\n",
      "[ Info: Arnoldi iteration step 24: normres = 0.018818147607432462\n",
      "[ Info: Arnoldi schursolve in iter 1, krylovdim = 24: 1 values converged, normres = (7.21e-28, 2.05e-12, 6.49e-13, 7.34e-08, 2.80e-06)\n",
      "[ Info: Arnoldi iteration step 25: normres = 0.1301775370902702\n",
      "[ Info: Arnoldi schursolve in iter 1, krylovdim = 25: 3 values converged, normres = (4.08e-29, 1.91e-13, 6.07e-14, 3.59e-07, 1.27e-07)\n",
      "[ Info: Arnoldi iteration step 26: normres = 0.01785096138118718\n",
      "[ Info: Arnoldi schursolve in iter 1, krylovdim = 26: 3 values converged, normres = (3.13e-31, 2.41e-15, 7.64e-16, 3.95e-07, 3.32e-07)\n",
      "[ Info: Arnoldi iteration step 27: normres = 0.020786696318894172\n",
      "[ Info: Arnoldi schursolve in iter 1, krylovdim = 27: 3 values converged, normres = (2.67e-33, 3.27e-17, 1.04e-17, 3.74e-09, 5.96e-09)\n",
      "[ Info: Arnoldi iteration step 28: normres = 0.09276596908327091\n",
      "[ Info: Arnoldi schursolve in iter 1, krylovdim = 28: 3 values converged, normres = (1.04e-34, 2.06e-18, 6.52e-19, 2.78e-10, 4.24e-10)\n",
      "[ Info: Arnoldi iteration step 29: normres = 0.0272625124425887\n",
      "[ Info: Arnoldi schursolve in iter 1, krylovdim = 29: 3 values converged, normres = (1.23e-36, 4.03e-20, 1.28e-20, 6.07e-12, 9.19e-12)\n",
      "[ Info: Arnoldi iteration step 30: normres = 0.1104090898609545\n",
      "┌ Info: Arnoldi eigsolve finished after 1 iterations:\n",
      "│ *  6 eigenvalues converged\n",
      "│ *  norm of residuals = (5.79822876005537e-38, 3.0938475499806e-21, 1.949882945906557e-21, 5.167043866318214e-13, 8.305961723352353e-13, 3.001583292691998e-13)\n",
      "└ *  number of operations = 30\n"
     ]
    }
   ],
   "cell_type": "code",
   "source": [
    "eigsolve(eps_fun, randn(size(scfres.ρ)), 5, :LM; eager=true, verbosity=3);"
   ],
   "metadata": {},
   "execution_count": 3
  }
 ],
 "nbformat_minor": 3,
 "metadata": {
  "language_info": {
   "file_extension": ".jl",
   "mimetype": "application/julia",
   "name": "julia",
   "version": "1.8.2"
  },
  "kernelspec": {
   "name": "julia-1.8",
   "display_name": "Julia 1.8.2",
   "language": "julia"
  }
 },
 "nbformat": 4
}
