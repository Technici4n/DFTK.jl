{
 "cells": [
  {
   "cell_type": "markdown",
   "source": [
    "# Comparison of DFT solvers"
   ],
   "metadata": {}
  },
  {
   "cell_type": "markdown",
   "source": [
    "We compare four different approaches for solving the DFT minimisation problem,\n",
    "namely a density-based SCF, a potential-based SCF, direct minimisation and Newton."
   ],
   "metadata": {}
  },
  {
   "cell_type": "markdown",
   "source": [
    "First we setup our problem"
   ],
   "metadata": {}
  },
  {
   "outputs": [
    {
     "output_type": "execute_result",
     "data": {
      "text/plain": "1.0e-6"
     },
     "metadata": {},
     "execution_count": 1
    }
   ],
   "cell_type": "code",
   "source": [
    "using DFTK\n",
    "using LinearAlgebra\n",
    "\n",
    "a = 10.26  # Silicon lattice constant in Bohr\n",
    "lattice = a / 2 * [[0 1 1.];\n",
    "                   [1 0 1.];\n",
    "                   [1 1 0.]]\n",
    "Si = ElementPsp(:Si, psp=load_psp(\"hgh/lda/Si-q4\"))\n",
    "atoms     = [Si, Si]\n",
    "positions = [ones(3)/8, -ones(3)/8]\n",
    "\n",
    "model = model_LDA(lattice, atoms, positions)\n",
    "basis = PlaneWaveBasis(model; Ecut=5, kgrid=[3, 3, 3])\n",
    "\n",
    "# Convergence we desire in the density\n",
    "tol = 1e-6"
   ],
   "metadata": {},
   "execution_count": 1
  },
  {
   "cell_type": "markdown",
   "source": [
    "## Density-based self-consistent field"
   ],
   "metadata": {}
  },
  {
   "outputs": [
    {
     "name": "stdout",
     "output_type": "stream",
     "text": [
      "n     Energy            log10(ΔE)   log10(Δρ)   Diag   Δtime\n",
      "---   ---------------   ---------   ---------   ----   ------\n",
      "  1   -7.846762251120                   -0.70    4.2         \n",
      "  2   -7.852288787563       -2.26       -1.53    1.0   28.2ms\n",
      "  3   -7.852613914200       -3.49       -2.55    1.8   32.2ms\n",
      "  4   -7.852645952319       -4.49       -2.88    2.5   38.2ms\n",
      "  5   -7.852646502514       -6.26       -3.19    1.0   27.8ms\n",
      "  6   -7.852646679782       -6.75       -4.05    1.2   29.3ms\n",
      "  7   -7.852646686630       -8.16       -5.13    1.8   35.0ms\n",
      "  8   -7.852646686726      -10.02       -5.53    2.0   35.5ms\n",
      "  9   -7.852646686729      -11.47       -5.84    1.5   31.1ms\n",
      " 10   -7.852646686730      -12.07       -6.76    1.0   29.1ms\n"
     ]
    }
   ],
   "cell_type": "code",
   "source": [
    "scfres_scf = self_consistent_field(basis; tol);"
   ],
   "metadata": {},
   "execution_count": 2
  },
  {
   "cell_type": "markdown",
   "source": [
    "## Potential-based SCF"
   ],
   "metadata": {}
  },
  {
   "outputs": [
    {
     "name": "stdout",
     "output_type": "stream",
     "text": [
      "n     Energy            log10(ΔE)   log10(Δρ)   α      Diag   Δtime\n",
      "---   ---------------   ---------   ---------   ----   ----   ------\n",
      "  1   -7.846793857432                   -0.70           4.5         \n",
      "  2   -7.852523722202       -2.24       -1.64   0.80    2.0    309ms\n",
      "  3   -7.852634489083       -3.96       -2.73   0.80    1.0   26.2ms\n",
      "  4   -7.852646447505       -4.92       -3.22   0.80    2.2   35.6ms\n",
      "  5   -7.852646666012       -6.66       -4.03   0.80    1.0   25.9ms\n",
      "  6   -7.852646686353       -7.69       -4.69   0.80    1.8   31.6ms\n",
      "  7   -7.852646686706       -9.45       -5.44   0.80    1.5   29.6ms\n",
      "  8   -7.852646686729      -10.63       -6.65   0.80    2.0   32.4ms\n"
     ]
    }
   ],
   "cell_type": "code",
   "source": [
    "scfres_scfv = DFTK.scf_potential_mixing(basis; tol);"
   ],
   "metadata": {},
   "execution_count": 3
  },
  {
   "cell_type": "markdown",
   "source": [
    "## Direct minimization\n",
    "Note: Unlike the other algorithms, tolerance for this one is in the energy,\n",
    "thus we square the density tolerance value to be roughly equivalent."
   ],
   "metadata": {}
  },
  {
   "outputs": [
    {
     "name": "stdout",
     "output_type": "stream",
     "text": [
      "Iter     Function value   Gradient norm \n",
      "     0     1.407181e+01     3.698735e+00\n",
      " * time: 0.4698197841644287\n",
      "     1     1.221729e+00     2.144132e+00\n",
      " * time: 0.6976048946380615\n",
      "     2    -1.343581e+00     2.515894e+00\n",
      " * time: 0.7256410121917725\n",
      "     3    -3.492710e+00     2.174440e+00\n",
      " * time: 0.7654728889465332\n",
      "     4    -4.510256e+00     2.214217e+00\n",
      " * time: 0.8042428493499756\n",
      "     5    -6.219041e+00     1.388732e+00\n",
      " * time: 0.8431007862091064\n",
      "     6    -7.005222e+00     7.358489e-01\n",
      " * time: 0.8822929859161377\n",
      "     7    -7.408341e+00     5.269211e-01\n",
      " * time: 0.9092328548431396\n",
      "     8    -7.641025e+00     1.641274e-01\n",
      " * time: 0.9362127780914307\n",
      "     9    -7.764646e+00     1.896864e-01\n",
      " * time: 0.9633979797363281\n",
      "    10    -7.813177e+00     8.247559e-02\n",
      " * time: 0.990562915802002\n",
      "    11    -7.839890e+00     5.958862e-02\n",
      " * time: 1.0176868438720703\n",
      "    12    -7.846816e+00     3.340002e-02\n",
      " * time: 1.0447659492492676\n",
      "    13    -7.849859e+00     3.124541e-02\n",
      " * time: 1.0723578929901123\n",
      "    14    -7.851782e+00     2.666145e-02\n",
      " * time: 1.0996558666229248\n",
      "    15    -7.852422e+00     1.056578e-02\n",
      " * time: 1.1272180080413818\n",
      "    16    -7.852565e+00     6.440287e-03\n",
      " * time: 1.1544578075408936\n",
      "    17    -7.852613e+00     2.496088e-03\n",
      " * time: 1.1823809146881104\n",
      "    18    -7.852635e+00     1.305253e-03\n",
      " * time: 1.2103049755096436\n",
      "    19    -7.852643e+00     1.035207e-03\n",
      " * time: 1.2381789684295654\n",
      "    20    -7.852646e+00     6.612257e-04\n",
      " * time: 1.2658419609069824\n",
      "    21    -7.852646e+00     2.845855e-04\n",
      " * time: 1.2936739921569824\n",
      "    22    -7.852647e+00     1.738243e-04\n",
      " * time: 1.321249008178711\n",
      "    23    -7.852647e+00     1.005882e-04\n",
      " * time: 1.3489108085632324\n",
      "    24    -7.852647e+00     8.831005e-05\n",
      " * time: 1.376025915145874\n",
      "    25    -7.852647e+00     6.320076e-05\n",
      " * time: 1.40352201461792\n",
      "    26    -7.852647e+00     1.818299e-05\n",
      " * time: 1.4307348728179932\n",
      "    27    -7.852647e+00     1.094937e-05\n",
      " * time: 1.4570729732513428\n",
      "    28    -7.852647e+00     6.440075e-06\n",
      " * time: 1.4845588207244873\n",
      "    29    -7.852647e+00     3.773814e-06\n",
      " * time: 1.5120739936828613\n",
      "    30    -7.852647e+00     3.002563e-06\n",
      " * time: 1.539097785949707\n",
      "    31    -7.852647e+00     1.318497e-06\n",
      " * time: 1.5666558742523193\n",
      "    32    -7.852647e+00     6.654935e-07\n",
      " * time: 1.5940868854522705\n",
      "    33    -7.852647e+00     3.879297e-07\n",
      " * time: 1.6204028129577637\n",
      "    34    -7.852647e+00     2.478345e-07\n",
      " * time: 1.6476588249206543\n",
      "    35    -7.852647e+00     1.958317e-07\n",
      " * time: 1.674677848815918\n",
      "    36    -7.852647e+00     1.171469e-07\n",
      " * time: 1.701422929763794\n",
      "    37    -7.852647e+00     5.472685e-08\n",
      " * time: 1.7291038036346436\n",
      "    38    -7.852647e+00     2.755311e-08\n",
      " * time: 1.756086826324463\n",
      "    39    -7.852647e+00     2.162085e-08\n",
      " * time: 1.8707818984985352\n",
      "    40    -7.852647e+00     1.078730e-08\n",
      " * time: 1.898366928100586\n",
      "    41    -7.852647e+00     6.986663e-09\n",
      " * time: 1.9251987934112549\n",
      "    42    -7.852647e+00     6.986649e-09\n",
      " * time: 2.0233469009399414\n"
     ]
    }
   ],
   "cell_type": "code",
   "source": [
    "scfres_dm = direct_minimization(basis; tol=tol^2);"
   ],
   "metadata": {},
   "execution_count": 4
  },
  {
   "cell_type": "markdown",
   "source": [
    "## Newton algorithm"
   ],
   "metadata": {}
  },
  {
   "cell_type": "markdown",
   "source": [
    "Start not too far from the solution to ensure convergence:\n",
    "We run first a very crude SCF to get close and then switch to Newton."
   ],
   "metadata": {}
  },
  {
   "outputs": [
    {
     "name": "stdout",
     "output_type": "stream",
     "text": [
      "n     Energy            log10(ΔE)   log10(Δρ)   Diag   Δtime\n",
      "---   ---------------   ---------   ---------   ----   ------\n",
      "  1   -7.846664746137                   -0.70    4.8         \n"
     ]
    }
   ],
   "cell_type": "code",
   "source": [
    "scfres_start = self_consistent_field(basis; tol=0.5);"
   ],
   "metadata": {},
   "execution_count": 5
  },
  {
   "cell_type": "markdown",
   "source": [
    "Remove the virtual orbitals (which Newton cannot treat yet)"
   ],
   "metadata": {}
  },
  {
   "outputs": [
    {
     "name": "stdout",
     "output_type": "stream",
     "text": [
      "n     Energy            log10(ΔE)   log10(Δρ)   Δtime\n",
      "---   ---------------   ---------   ---------   ------\n",
      "  1   -7.852645923705                   -1.64         \n",
      "  2   -7.852646686730       -6.12       -3.71    1.94s\n",
      "  3   -7.852646686730      -13.37       -7.26    238ms\n"
     ]
    }
   ],
   "cell_type": "code",
   "source": [
    "ψ = DFTK.select_occupied_orbitals(basis, scfres_start.ψ, scfres_start.occupation).ψ\n",
    "scfres_newton = newton(basis, ψ; tol);"
   ],
   "metadata": {},
   "execution_count": 6
  },
  {
   "cell_type": "markdown",
   "source": [
    "## Comparison of results"
   ],
   "metadata": {}
  },
  {
   "outputs": [
    {
     "name": "stdout",
     "output_type": "stream",
     "text": [
      "|ρ_newton - ρ_scf|  = 2.0776215597058799e-7\n",
      "|ρ_newton - ρ_scfv| = 3.839535111967938e-7\n",
      "|ρ_newton - ρ_dm|   = 1.2339789980750775e-9\n"
     ]
    }
   ],
   "cell_type": "code",
   "source": [
    "println(\"|ρ_newton - ρ_scf|  = \", norm(scfres_newton.ρ - scfres_scf.ρ))\n",
    "println(\"|ρ_newton - ρ_scfv| = \", norm(scfres_newton.ρ - scfres_scfv.ρ))\n",
    "println(\"|ρ_newton - ρ_dm|   = \", norm(scfres_newton.ρ - scfres_dm.ρ))"
   ],
   "metadata": {},
   "execution_count": 7
  }
 ],
 "nbformat_minor": 3,
 "metadata": {
  "language_info": {
   "file_extension": ".jl",
   "mimetype": "application/julia",
   "name": "julia",
   "version": "1.8.5"
  },
  "kernelspec": {
   "name": "julia-1.8",
   "display_name": "Julia 1.8.5",
   "language": "julia"
  }
 },
 "nbformat": 4
}
