{
 "cells": [
  {
   "cell_type": "markdown",
   "source": [
    "# Polarizability using automatic differentiation\n",
    "\n",
    "Simple example for computing properties using (forward-mode)\n",
    "automatic differentiation.\n",
    "For a more classical approach and more details about computing polarizabilities,\n",
    "see Polarizability by linear response."
   ],
   "metadata": {}
  },
  {
   "outputs": [],
   "cell_type": "code",
   "source": [
    "using DFTK\n",
    "using LinearAlgebra\n",
    "using ForwardDiff\n",
    "\n",
    "# Construct PlaneWaveBasis given a particular electric field strength\n",
    "# Again we take the example of a Helium atom.\n",
    "function make_basis(ε::T; a=10., Ecut=30) where {T}\n",
    "    lattice=T(a) * I(3)  # lattice is a cube of $a$ Bohrs\n",
    "    # Helium at the center of the box\n",
    "    atoms     = [ElementPsp(:He, psp=load_psp(\"hgh/lda/He-q2\"))]\n",
    "    positions = [[1/2, 1/2, 1/2]]\n",
    "\n",
    "    model = model_DFT(lattice, atoms, positions, [:lda_x, :lda_c_vwn];\n",
    "                      extra_terms=[ExternalFromReal(r -> -ε * (r[1] - a/2))],\n",
    "                      symmetries=false)\n",
    "    PlaneWaveBasis(model; Ecut, kgrid=[1, 1, 1])  # No k-point sampling on isolated system\n",
    "end\n",
    "\n",
    "# dipole moment of a given density (assuming the current geometry)\n",
    "function dipole(basis, ρ)\n",
    "    @assert isdiag(basis.model.lattice)\n",
    "    a  = basis.model.lattice[1, 1]\n",
    "    rr = [a * (r[1] - 1/2) for r in r_vectors(basis)]\n",
    "    sum(rr .* ρ) * basis.dvol\n",
    "end\n",
    "\n",
    "# Function to compute the dipole for a given field strength\n",
    "function compute_dipole(ε; tol=1e-8, kwargs...)\n",
    "    scfres = self_consistent_field(make_basis(ε; kwargs...); tol)\n",
    "    dipole(scfres.basis, scfres.ρ)\n",
    "end;"
   ],
   "metadata": {},
   "execution_count": 1
  },
  {
   "cell_type": "markdown",
   "source": [
    "With this in place we can compute the polarizability from finite differences\n",
    "(just like in the previous example):"
   ],
   "metadata": {}
  },
  {
   "outputs": [
    {
     "name": "stdout",
     "output_type": "stream",
     "text": [
      "n     Energy            log10(ΔE)   log10(Δρ)   Diag   Δtime\n",
      "---   ---------------   ---------   ---------   ----   ------\n",
      "  1   -2.770835541141                   -0.52    9.0         \n",
      "  2   -2.772141834692       -2.88       -1.32    1.0    152ms\n",
      "  3   -2.772170305099       -4.55       -2.52    1.0    132ms\n",
      "  4   -2.772170658289       -6.45       -3.32    1.0    134ms\n",
      "  5   -2.772170719697       -7.21       -3.77    2.0    169ms\n",
      "  6   -2.772170722948       -8.49       -4.89    1.0    137ms\n",
      "  7   -2.772170723005      -10.25       -5.04    2.0    157ms\n",
      "  8   -2.772170723015      -11.02       -6.27    1.0    162ms\n",
      "  9   -2.772170723015      -12.77       -6.74    2.0    162ms\n",
      " 10   -2.772170723015   +  -15.35       -7.26    1.0    167ms\n",
      " 11   -2.772170723015   +  -14.40       -8.01    2.0    173ms\n",
      "n     Energy            log10(ΔE)   log10(Δρ)   Diag   Δtime\n",
      "---   ---------------   ---------   ---------   ----   ------\n",
      "  1   -2.770721077634                   -0.53    9.0         \n",
      "  2   -2.772053919646       -2.88       -1.30    1.0    182ms\n",
      "  3   -2.772082861618       -4.54       -2.68    1.0    132ms\n",
      "  4   -2.772083416826       -6.26       -4.10    2.0    150ms\n",
      "  5   -2.772083417791       -9.02       -5.13    1.0    151ms\n",
      "  6   -2.772083417810      -10.71       -5.59    2.0    154ms\n",
      "  7   -2.772083417811      -12.29       -6.13    1.0    145ms\n",
      "  8   -2.772083417811      -13.75       -7.03    1.0    145ms\n",
      "  9   -2.772083417811      -13.94       -7.48    2.0    159ms\n",
      " 10   -2.772083417811      -14.15       -7.87    1.0    162ms\n",
      " 11   -2.772083417811   +  -14.27       -8.94    2.0    162ms\n"
     ]
    },
    {
     "output_type": "execute_result",
     "data": {
      "text/plain": "1.7735578867439137"
     },
     "metadata": {},
     "execution_count": 2
    }
   ],
   "cell_type": "code",
   "source": [
    "polarizability_fd = let\n",
    "    ε = 0.01\n",
    "    (compute_dipole(ε) - compute_dipole(0.0)) / ε\n",
    "end"
   ],
   "metadata": {},
   "execution_count": 2
  },
  {
   "cell_type": "markdown",
   "source": [
    "We do the same thing using automatic differentiation. Under the hood this uses\n",
    "custom rules to implicitly differentiate through the self-consistent\n",
    "field fixed-point problem."
   ],
   "metadata": {}
  },
  {
   "outputs": [
    {
     "name": "stdout",
     "output_type": "stream",
     "text": [
      "n     Energy            log10(ΔE)   log10(Δρ)   Diag   Δtime\n",
      "---   ---------------   ---------   ---------   ----   ------\n",
      "  1   -2.770697326927                   -0.53    8.0         \n",
      "  2   -2.772052710749       -2.87       -1.31    1.0    130ms\n",
      "  3   -2.772082939142       -4.52       -2.55    1.0    133ms\n",
      "  4   -2.772083379823       -6.36       -3.58    1.0    171ms\n",
      "  5   -2.772083416264       -7.44       -3.93    2.0    152ms\n",
      "  6   -2.772083417744       -8.83       -5.00    1.0    135ms\n",
      "  7   -2.772083417805      -10.22       -5.20    2.0    161ms\n",
      "  8   -2.772083417810      -11.33       -5.73    1.0    164ms\n",
      "  9   -2.772083417811      -12.14       -6.80    2.0    168ms\n",
      " 10   -2.772083417811      -14.65       -7.40    1.0    179ms\n",
      " 11   -2.772083417811   +  -14.65       -8.27    1.0    143ms\n",
      "\n",
      "Polarizability via ForwardDiff:       1.7725349665480812\n",
      "Polarizability via finite difference: 1.7735578867439137\n"
     ]
    }
   ],
   "cell_type": "code",
   "source": [
    "polarizability = ForwardDiff.derivative(compute_dipole, 0.0)\n",
    "println()\n",
    "println(\"Polarizability via ForwardDiff:       $polarizability\")\n",
    "println(\"Polarizability via finite difference: $polarizability_fd\")"
   ],
   "metadata": {},
   "execution_count": 3
  }
 ],
 "nbformat_minor": 3,
 "metadata": {
  "language_info": {
   "file_extension": ".jl",
   "mimetype": "application/julia",
   "name": "julia",
   "version": "1.8.5"
  },
  "kernelspec": {
   "name": "julia-1.8",
   "display_name": "Julia 1.8.5",
   "language": "julia"
  }
 },
 "nbformat": 4
}
