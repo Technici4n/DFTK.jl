{
 "cells": [
  {
   "cell_type": "markdown",
   "source": [
    "# Comparison of DFT solvers"
   ],
   "metadata": {}
  },
  {
   "cell_type": "markdown",
   "source": [
    "We compare four different approaches for solving the DFT minimisation problem,\n",
    "namely a density-based SCF, a potential-based SCF, direct minimisation and Newton."
   ],
   "metadata": {}
  },
  {
   "cell_type": "markdown",
   "source": [
    "First we setup our problem"
   ],
   "metadata": {}
  },
  {
   "outputs": [
    {
     "output_type": "execute_result",
     "data": {
      "text/plain": "1.0e-6"
     },
     "metadata": {},
     "execution_count": 1
    }
   ],
   "cell_type": "code",
   "source": [
    "using DFTK\n",
    "using LinearAlgebra\n",
    "\n",
    "a = 10.26  # Silicon lattice constant in Bohr\n",
    "lattice = a / 2 * [[0 1 1.];\n",
    "                   [1 0 1.];\n",
    "                   [1 1 0.]]\n",
    "Si = ElementPsp(:Si, psp=load_psp(\"hgh/lda/Si-q4\"))\n",
    "atoms     = [Si, Si]\n",
    "positions = [ones(3)/8, -ones(3)/8]\n",
    "\n",
    "model = model_LDA(lattice, atoms, positions)\n",
    "basis = PlaneWaveBasis(model; Ecut=5, kgrid=[3, 3, 3])\n",
    "\n",
    "# Convergence we desire in the density\n",
    "tol = 1e-6"
   ],
   "metadata": {},
   "execution_count": 1
  },
  {
   "cell_type": "markdown",
   "source": [
    "## Density-based self-consistent field"
   ],
   "metadata": {}
  },
  {
   "outputs": [
    {
     "name": "stdout",
     "output_type": "stream",
     "text": [
      "n     Energy            log10(ΔE)   log10(Δρ)   Diag   Δtime\n",
      "---   ---------------   ---------   ---------   ----   ------\n",
      "  1   -7.846826102106                   -0.70    4.8         \n",
      "  2   -7.852319464371       -2.26       -1.53    1.0   24.7ms\n",
      "  3   -7.852613714145       -3.53       -2.56    1.5   27.3ms\n",
      "  4   -7.852645955095       -4.49       -2.88    2.8   36.1ms\n",
      "  5   -7.852646484056       -6.28       -3.15    1.0   26.0ms\n",
      "  6   -7.852646679302       -6.71       -4.05    1.0   25.2ms\n",
      "  7   -7.852646686601       -8.14       -5.20    1.8   30.4ms\n",
      "  8   -7.852646686723       -9.91       -5.41    2.0   30.2ms\n",
      "  9   -7.852646686727      -11.40       -5.59    1.2   26.2ms\n",
      " 10   -7.852646686730      -11.60       -6.74    1.0   25.8ms\n"
     ]
    }
   ],
   "cell_type": "code",
   "source": [
    "scfres_scf = self_consistent_field(basis; tol);"
   ],
   "metadata": {},
   "execution_count": 2
  },
  {
   "cell_type": "markdown",
   "source": [
    "## Potential-based SCF"
   ],
   "metadata": {}
  },
  {
   "outputs": [
    {
     "name": "stdout",
     "output_type": "stream",
     "text": [
      "n     Energy            log10(ΔE)   log10(Δρ)   α      Diag   Δtime\n",
      "---   ---------------   ---------   ---------   ----   ----   ------\n",
      "  1   -7.846879339739                   -0.70           4.5         \n",
      "  2   -7.852529025027       -2.25       -1.64   0.80    2.5    269ms\n",
      "  3   -7.852635433059       -3.97       -2.75   0.80    1.0   23.6ms\n",
      "  4   -7.852646421261       -4.96       -3.22   0.80    1.8   27.8ms\n",
      "  5   -7.852646661730       -6.62       -4.00   0.80    1.0   22.6ms\n",
      "  6   -7.852646686384       -7.61       -4.56   0.80    2.0   28.9ms\n",
      "  7   -7.852646686704       -9.49       -5.52   0.80    1.2   25.3ms\n",
      "  8   -7.852646686729      -10.60       -6.39   0.80    2.2   30.6ms\n"
     ]
    }
   ],
   "cell_type": "code",
   "source": [
    "scfres_scfv = DFTK.scf_potential_mixing(basis; tol);"
   ],
   "metadata": {},
   "execution_count": 3
  },
  {
   "cell_type": "markdown",
   "source": [
    "## Direct minimization\n",
    "Note: Unlike the other algorithms, tolerance for this one is in the energy,\n",
    "thus we square the density tolerance value to be roughly equivalent."
   ],
   "metadata": {}
  },
  {
   "outputs": [
    {
     "name": "stdout",
     "output_type": "stream",
     "text": [
      "Iter     Function value   Gradient norm \n",
      "     0     1.393751e+01     3.240481e+00\n",
      " * time: 0.05931401252746582\n",
      "     1     1.305702e+00     1.821923e+00\n",
      " * time: 0.2817058563232422\n",
      "     2    -1.729064e+00     2.219201e+00\n",
      " * time: 0.30689096450805664\n",
      "     3    -3.591691e+00     1.927514e+00\n",
      " * time: 0.3426978588104248\n",
      "     4    -4.966495e+00     1.947827e+00\n",
      " * time: 0.37777090072631836\n",
      "     5    -6.654111e+00     9.992025e-01\n",
      " * time: 0.41257691383361816\n",
      "     6    -7.387702e+00     4.386107e-01\n",
      " * time: 0.44777393341064453\n",
      "     7    -7.644966e+00     2.188102e-01\n",
      " * time: 0.4721829891204834\n",
      "     8    -7.746144e+00     1.085700e-01\n",
      " * time: 0.4970219135284424\n",
      "     9    -7.801247e+00     1.487940e-01\n",
      " * time: 0.5216610431671143\n",
      "    10    -7.822715e+00     8.661438e-02\n",
      " * time: 0.546440839767456\n",
      "    11    -7.838794e+00     6.960334e-02\n",
      " * time: 0.5714459419250488\n",
      "    12    -7.845025e+00     5.442257e-02\n",
      " * time: 0.5961189270019531\n",
      "    13    -7.848315e+00     3.705262e-02\n",
      " * time: 0.62152099609375\n",
      "    14    -7.850595e+00     2.911482e-02\n",
      " * time: 0.7145788669586182\n",
      "    15    -7.851467e+00     1.791542e-02\n",
      " * time: 0.7392129898071289\n",
      "    16    -7.852085e+00     9.304042e-03\n",
      " * time: 0.7638199329376221\n",
      "    17    -7.852473e+00     6.637504e-03\n",
      " * time: 0.7882449626922607\n",
      "    18    -7.852592e+00     3.711761e-03\n",
      " * time: 0.8128180503845215\n",
      "    19    -7.852624e+00     1.888984e-03\n",
      " * time: 0.8369460105895996\n",
      "    20    -7.852638e+00     1.293672e-03\n",
      " * time: 0.861353874206543\n",
      "    21    -7.852644e+00     7.827785e-04\n",
      " * time: 0.8855328559875488\n",
      "    22    -7.852646e+00     5.418687e-04\n",
      " * time: 0.9097199440002441\n",
      "    23    -7.852646e+00     2.375533e-04\n",
      " * time: 0.9340870380401611\n",
      "    24    -7.852647e+00     1.329163e-04\n",
      " * time: 0.9582960605621338\n",
      "    25    -7.852647e+00     6.225066e-05\n",
      " * time: 0.982820987701416\n",
      "    26    -7.852647e+00     3.983181e-05\n",
      " * time: 1.0068449974060059\n",
      "    27    -7.852647e+00     2.987269e-05\n",
      " * time: 1.0309879779815674\n",
      "    28    -7.852647e+00     1.718962e-05\n",
      " * time: 1.05491304397583\n",
      "    29    -7.852647e+00     7.437390e-06\n",
      " * time: 1.0788750648498535\n",
      "    30    -7.852647e+00     4.054103e-06\n",
      " * time: 1.1033539772033691\n",
      "    31    -7.852647e+00     2.253251e-06\n",
      " * time: 1.128237009048462\n",
      "    32    -7.852647e+00     1.602196e-06\n",
      " * time: 1.1536200046539307\n",
      "    33    -7.852647e+00     1.082332e-06\n",
      " * time: 1.1785659790039062\n",
      "    34    -7.852647e+00     5.356231e-07\n",
      " * time: 1.203352928161621\n",
      "    35    -7.852647e+00     3.804287e-07\n",
      " * time: 1.2280888557434082\n",
      "    36    -7.852647e+00     2.041281e-07\n",
      " * time: 1.2528059482574463\n",
      "    37    -7.852647e+00     1.037828e-07\n",
      " * time: 1.2775120735168457\n",
      "    38    -7.852647e+00     6.628237e-08\n",
      " * time: 1.3020389080047607\n",
      "    39    -7.852647e+00     4.804371e-08\n",
      " * time: 1.3263440132141113\n",
      "    40    -7.852647e+00     2.643161e-08\n",
      " * time: 1.3511378765106201\n",
      "    41    -7.852647e+00     1.602345e-08\n",
      " * time: 1.375478982925415\n"
     ]
    }
   ],
   "cell_type": "code",
   "source": [
    "scfres_dm = direct_minimization(basis; tol=tol^2);"
   ],
   "metadata": {},
   "execution_count": 4
  },
  {
   "cell_type": "markdown",
   "source": [
    "## Newton algorithm"
   ],
   "metadata": {}
  },
  {
   "cell_type": "markdown",
   "source": [
    "Start not too far from the solution to ensure convergence:\n",
    "We run first a very crude SCF to get close and then switch to Newton."
   ],
   "metadata": {}
  },
  {
   "outputs": [
    {
     "name": "stdout",
     "output_type": "stream",
     "text": [
      "n     Energy            log10(ΔE)   log10(Δρ)   Diag   Δtime\n",
      "---   ---------------   ---------   ---------   ----   ------\n",
      "  1   -7.846869975747                   -0.70    4.8         \n"
     ]
    }
   ],
   "cell_type": "code",
   "source": [
    "scfres_start = self_consistent_field(basis; tol=0.5);"
   ],
   "metadata": {},
   "execution_count": 5
  },
  {
   "cell_type": "markdown",
   "source": [
    "Remove the virtual orbitals (which Newton cannot treat yet)"
   ],
   "metadata": {}
  },
  {
   "outputs": [
    {
     "name": "stdout",
     "output_type": "stream",
     "text": [
      "n     Energy            log10(ΔE)   log10(Δρ)   Δtime\n",
      "---   ---------------   ---------   ---------   ------\n",
      "  1   -7.852645910457                   -1.64         \n",
      "  2   -7.852646686730       -6.11       -3.71    1.92s\n",
      "  3   -7.852646686730      -13.30       -7.24    197ms\n"
     ]
    }
   ],
   "cell_type": "code",
   "source": [
    "ψ = DFTK.select_occupied_orbitals(basis, scfres_start.ψ, scfres_start.occupation).ψ\n",
    "scfres_newton = newton(basis, ψ; tol);"
   ],
   "metadata": {},
   "execution_count": 6
  },
  {
   "cell_type": "markdown",
   "source": [
    "## Comparison of results"
   ],
   "metadata": {}
  },
  {
   "outputs": [
    {
     "name": "stdout",
     "output_type": "stream",
     "text": [
      "|ρ_newton - ρ_scf|  = 2.2759983990436503e-7\n",
      "|ρ_newton - ρ_scfv| = 4.950090790746194e-7\n",
      "|ρ_newton - ρ_dm|   = 1.3144871858226076e-9\n"
     ]
    }
   ],
   "cell_type": "code",
   "source": [
    "println(\"|ρ_newton - ρ_scf|  = \", norm(scfres_newton.ρ - scfres_scf.ρ))\n",
    "println(\"|ρ_newton - ρ_scfv| = \", norm(scfres_newton.ρ - scfres_scfv.ρ))\n",
    "println(\"|ρ_newton - ρ_dm|   = \", norm(scfres_newton.ρ - scfres_dm.ρ))"
   ],
   "metadata": {},
   "execution_count": 7
  }
 ],
 "nbformat_minor": 3,
 "metadata": {
  "language_info": {
   "file_extension": ".jl",
   "mimetype": "application/julia",
   "name": "julia",
   "version": "1.9.0"
  },
  "kernelspec": {
   "name": "julia-1.9",
   "display_name": "Julia 1.9.0",
   "language": "julia"
  }
 },
 "nbformat": 4
}
