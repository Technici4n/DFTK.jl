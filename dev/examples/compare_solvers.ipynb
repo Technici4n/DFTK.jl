{
 "cells": [
  {
   "cell_type": "markdown",
   "source": [
    "# Comparison of DFT solvers"
   ],
   "metadata": {}
  },
  {
   "cell_type": "markdown",
   "source": [
    "We compare four different approaches for solving the DFT minimisation problem,\n",
    "namely a density-based SCF, a potential-based SCF, direct minimisation and Newton."
   ],
   "metadata": {}
  },
  {
   "cell_type": "markdown",
   "source": [
    "First we setup our problem"
   ],
   "metadata": {}
  },
  {
   "outputs": [],
   "cell_type": "code",
   "source": [
    "using DFTK\n",
    "using LinearAlgebra\n",
    "\n",
    "a = 10.26  # Silicon lattice constant in Bohr\n",
    "lattice = a / 2 * [[0 1 1.];\n",
    "                   [1 0 1.];\n",
    "                   [1 1 0.]]\n",
    "Si = ElementPsp(:Si, psp=load_psp(\"hgh/lda/Si-q4\"))\n",
    "atoms     = [Si, Si]\n",
    "positions = [ones(3)/8, -ones(3)/8]\n",
    "\n",
    "model = model_LDA(lattice, atoms, positions)\n",
    "basis = PlaneWaveBasis(model; Ecut=5, kgrid=[3, 3, 3])\n",
    "\n",
    "# Convergence we desire\n",
    "tol = 1e-12\n",
    "is_converged = DFTK.ScfConvergenceDensity(tol);"
   ],
   "metadata": {},
   "execution_count": 1
  },
  {
   "cell_type": "markdown",
   "source": [
    "## Density-based self-consistent field"
   ],
   "metadata": {}
  },
  {
   "outputs": [
    {
     "name": "stdout",
     "output_type": "stream",
     "text": [
      "n     Energy            log10(ΔE)   log10(Δρ)   Diag\n",
      "---   ---------------   ---------   ---------   ----\n",
      "  1   -7.846885952816                   -0.70    4.5\n",
      "  2   -7.852324142757       -2.26       -1.53    1.0\n",
      "  3   -7.852614395196       -3.54       -2.55    1.2\n",
      "  4   -7.852645925270       -4.50       -2.88    2.5\n",
      "  5   -7.852646493937       -6.25       -3.17    1.0\n",
      "  6   -7.852646680045       -6.73       -4.10    1.2\n",
      "  7   -7.852646686627       -8.18       -5.02    2.0\n",
      "  8   -7.852646686726      -10.01       -5.57    1.5\n",
      "  9   -7.852646686729      -11.52       -5.76    1.5\n",
      " 10   -7.852646686730      -11.93       -6.79    1.0\n",
      " 11   -7.852646686730      -13.19       -7.37    2.0\n",
      " 12   -7.852646686730   +  -14.75       -7.48    2.0\n",
      " 13   -7.852646686730      -15.05       -8.93    1.0\n",
      " 14   -7.852646686730      -15.05       -9.32    3.0\n",
      " 15   -7.852646686730   +    -Inf       -9.54    1.0\n",
      " 16   -7.852646686730   +  -15.05       -9.98    1.0\n",
      " 17   -7.852646686730      -14.75      -11.36    1.0\n",
      " 18   -7.852646686730   +  -15.05      -11.37    2.5\n",
      " 19   -7.852646686730      -14.75      -11.86    1.0\n",
      " 20   -7.852646686730   +  -14.75      -12.74    1.0\n"
     ]
    }
   ],
   "cell_type": "code",
   "source": [
    "scfres_scf = self_consistent_field(basis; is_converged);"
   ],
   "metadata": {},
   "execution_count": 2
  },
  {
   "cell_type": "markdown",
   "source": [
    "## Potential-based SCF"
   ],
   "metadata": {}
  },
  {
   "outputs": [
    {
     "name": "stdout",
     "output_type": "stream",
     "text": [
      "n     Energy            log10(ΔE)   log10(Δρ)   α      Diag\n",
      "---   ---------------   ---------   ---------   ----   ----\n",
      "  1   -7.846806971672                   -0.70           4.5\n",
      "  2   -7.852527528339       -2.24       -1.64   0.80    2.2\n",
      "  3   -7.852636934476       -3.96       -2.72   0.80    1.0\n",
      "  4   -7.852646506920       -5.02       -3.29   0.80    2.0\n",
      "  5   -7.852646675261       -6.77       -4.12   0.80    1.5\n",
      "  6   -7.852646686398       -7.95       -4.83   0.80    1.8\n",
      "  7   -7.852646686725       -9.49       -5.68   0.80    2.0\n",
      "  8   -7.852646686730      -11.33       -6.72   0.80    1.8\n",
      "  9   -7.852646686730      -12.57       -7.25   0.80    2.5\n",
      " 10   -7.852646686730      -14.75       -8.05   0.80    1.0\n",
      " 11   -7.852646686730   +  -14.75       -8.94   0.80    2.0\n",
      " 12   -7.852646686730   +  -14.75      -10.11   0.80    2.2\n",
      " 13   -7.852646686730      -15.05      -10.30   0.80    2.5\n",
      " 14   -7.852646686730   +  -14.57      -11.64   0.80    1.0\n",
      " 15   -7.852646686730      -14.35      -11.74   0.80    3.0\n",
      " 16   -7.852646686730   +  -14.75      -12.63   0.80    1.0\n"
     ]
    }
   ],
   "cell_type": "code",
   "source": [
    "scfres_scfv = DFTK.scf_potential_mixing(basis; is_converged);"
   ],
   "metadata": {},
   "execution_count": 3
  },
  {
   "cell_type": "markdown",
   "source": [
    "## Direct minimization"
   ],
   "metadata": {}
  },
  {
   "outputs": [
    {
     "name": "stdout",
     "output_type": "stream",
     "text": [
      "Iter     Function value   Gradient norm \n",
      "     0     1.386235e+01     3.221085e+00\n",
      " * time: 0.5090339183807373\n",
      "     1     1.445648e+00     1.581162e+00\n",
      " * time: 0.7520959377288818\n",
      "     2    -1.565237e+00     1.897089e+00\n",
      " * time: 0.7887539863586426\n",
      "     3    -3.624514e+00     1.631327e+00\n",
      " * time: 0.8368339538574219\n",
      "     4    -4.937919e+00     1.499357e+00\n",
      " * time: 0.8853549957275391\n",
      "     5    -6.592419e+00     9.033809e-01\n",
      " * time: 0.9371669292449951\n",
      "     6    -7.272128e+00     4.176231e-01\n",
      " * time: 0.9902658462524414\n",
      "     7    -7.530774e+00     2.002258e-01\n",
      " * time: 1.0270090103149414\n",
      "     8    -7.648479e+00     1.374711e-01\n",
      " * time: 1.170400857925415\n",
      "     9    -7.734251e+00     1.054106e-01\n",
      " * time: 1.2049078941345215\n",
      "    10    -7.782818e+00     1.050994e-01\n",
      " * time: 1.2384068965911865\n",
      "    11    -7.820284e+00     6.761928e-02\n",
      " * time: 1.2724359035491943\n",
      "    12    -7.837861e+00     4.966433e-02\n",
      " * time: 1.3114328384399414\n",
      "    13    -7.848131e+00     2.309448e-02\n",
      " * time: 1.3479468822479248\n",
      "    14    -7.851033e+00     1.549365e-02\n",
      " * time: 1.3854138851165771\n",
      "    15    -7.852189e+00     8.733348e-03\n",
      " * time: 1.4234728813171387\n",
      "    16    -7.852499e+00     6.369975e-03\n",
      " * time: 1.4596898555755615\n",
      "    17    -7.852604e+00     2.089204e-03\n",
      " * time: 1.4970879554748535\n",
      "    18    -7.852636e+00     1.240275e-03\n",
      " * time: 1.5349929332733154\n",
      "    19    -7.852644e+00     1.020943e-03\n",
      " * time: 1.57200288772583\n",
      "    20    -7.852646e+00     5.366173e-04\n",
      " * time: 1.6087830066680908\n",
      "    21    -7.852646e+00     2.332637e-04\n",
      " * time: 1.6445598602294922\n",
      "    22    -7.852647e+00     1.570925e-04\n",
      " * time: 1.6795899868011475\n",
      "    23    -7.852647e+00     8.880882e-05\n",
      " * time: 1.7152328491210938\n",
      "    24    -7.852647e+00     5.690042e-05\n",
      " * time: 1.7524240016937256\n",
      "    25    -7.852647e+00     3.122461e-05\n",
      " * time: 1.788092851638794\n",
      "    26    -7.852647e+00     1.940312e-05\n",
      " * time: 1.8232529163360596\n",
      "    27    -7.852647e+00     9.442018e-06\n",
      " * time: 1.8592708110809326\n",
      "    28    -7.852647e+00     5.692823e-06\n",
      " * time: 1.8960199356079102\n",
      "    29    -7.852647e+00     4.917684e-06\n",
      " * time: 1.9327318668365479\n",
      "    30    -7.852647e+00     2.314940e-06\n",
      " * time: 1.9668998718261719\n",
      "    31    -7.852647e+00     1.278679e-06\n",
      " * time: 2.0023908615112305\n",
      "    32    -7.852647e+00     8.789359e-07\n",
      " * time: 2.040409803390503\n",
      "    33    -7.852647e+00     4.928720e-07\n",
      " * time: 2.076373815536499\n",
      "    34    -7.852647e+00     3.020932e-07\n",
      " * time: 2.1122589111328125\n",
      "    35    -7.852647e+00     1.477350e-07\n",
      " * time: 2.149467945098877\n",
      "    36    -7.852647e+00     9.511848e-08\n",
      " * time: 2.1853678226470947\n",
      "    37    -7.852647e+00     5.198707e-08\n",
      " * time: 2.2216827869415283\n",
      "    38    -7.852647e+00     3.126375e-08\n",
      " * time: 2.259150981903076\n",
      "    39    -7.852647e+00     2.029810e-08\n",
      " * time: 2.2948529720306396\n",
      "    40    -7.852647e+00     1.123945e-08\n",
      " * time: 2.330213785171509\n",
      "    41    -7.852647e+00     4.728428e-09\n",
      " * time: 2.365921974182129\n",
      "    42    -7.852647e+00     3.022832e-09\n",
      " * time: 2.399589776992798\n"
     ]
    }
   ],
   "cell_type": "code",
   "source": [
    "scfres_dm = direct_minimization(basis; tol);"
   ],
   "metadata": {},
   "execution_count": 4
  },
  {
   "cell_type": "markdown",
   "source": [
    "## Newton algorithm"
   ],
   "metadata": {}
  },
  {
   "cell_type": "markdown",
   "source": [
    "Start not too far from the solution to ensure convergence:\n",
    "We run first a very crude SCF to get close and then switch to Newton."
   ],
   "metadata": {}
  },
  {
   "outputs": [
    {
     "name": "stdout",
     "output_type": "stream",
     "text": [
      "n     Energy            log10(ΔE)   log10(Δρ)   Diag\n",
      "---   ---------------   ---------   ---------   ----\n",
      "  1   -7.846780173014                   -0.70    4.5\n",
      "  2   -7.852293238993       -2.26       -1.53    1.0\n"
     ]
    }
   ],
   "cell_type": "code",
   "source": [
    "scfres_start = self_consistent_field(basis; tol=1e-1);"
   ],
   "metadata": {},
   "execution_count": 5
  },
  {
   "cell_type": "markdown",
   "source": [
    "Remove the virtual orbitals (which Newton cannot treat yet)"
   ],
   "metadata": {}
  },
  {
   "outputs": [
    {
     "name": "stdout",
     "output_type": "stream",
     "text": [
      "n     Energy            log10(ΔE)   log10(Δρ)\n",
      "---   ---------------   ---------   ---------\n",
      "  1   -7.852646686529                   -2.55\n",
      "  2   -7.852646686730       -9.70       -5.67\n",
      "  3   -7.852646686730   +    -Inf      -11.08\n",
      "  4   -7.852646686730      -14.75      -15.43\n"
     ]
    }
   ],
   "cell_type": "code",
   "source": [
    "ψ = DFTK.select_occupied_orbitals(basis, scfres_start.ψ, scfres_start.occupation).ψ\n",
    "scfres_newton = newton(basis, ψ; tol);"
   ],
   "metadata": {},
   "execution_count": 6
  },
  {
   "cell_type": "markdown",
   "source": [
    "## Comparison of results"
   ],
   "metadata": {}
  },
  {
   "outputs": [
    {
     "name": "stdout",
     "output_type": "stream",
     "text": [
      "|ρ_newton - ρ_scf|  = 1.3043472475548476e-13\n",
      "|ρ_newton - ρ_scfv| = 3.099780334308039e-13\n",
      "|ρ_newton - ρ_dm|   = 4.367863736959555e-10\n"
     ]
    }
   ],
   "cell_type": "code",
   "source": [
    "println(\"|ρ_newton - ρ_scf|  = \", norm(scfres_newton.ρ - scfres_scf.ρ))\n",
    "println(\"|ρ_newton - ρ_scfv| = \", norm(scfres_newton.ρ - scfres_scfv.ρ))\n",
    "println(\"|ρ_newton - ρ_dm|   = \", norm(scfres_newton.ρ - scfres_dm.ρ))"
   ],
   "metadata": {},
   "execution_count": 7
  }
 ],
 "nbformat_minor": 3,
 "metadata": {
  "language_info": {
   "file_extension": ".jl",
   "mimetype": "application/julia",
   "name": "julia",
   "version": "1.8.3"
  },
  "kernelspec": {
   "name": "julia-1.8",
   "display_name": "Julia 1.8.3",
   "language": "julia"
  }
 },
 "nbformat": 4
}
