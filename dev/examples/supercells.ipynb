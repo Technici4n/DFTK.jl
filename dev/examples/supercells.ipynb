{
 "cells": [
  {
   "cell_type": "markdown",
   "source": [
    "# Creating and modelling metallic supercells\n",
    "\n",
    "In this section we will be concerned with modelling supercells of aluminium.\n",
    "When dealing with periodic problems there is no unique definition of the\n",
    "lattice: Clearly any duplication of the lattice along an axis is also a valid\n",
    "repetitive unit to describe exactly the same system.\n",
    "This is exactly what a **supercell** is: An $n$-fold repetition along one of the\n",
    "axes of the original lattice.\n",
    "\n",
    "The following code achieves this for aluminium:"
   ],
   "metadata": {}
  },
  {
   "outputs": [],
   "cell_type": "code",
   "source": [
    "using DFTK\n",
    "using LinearAlgebra\n",
    "\n",
    "function aluminium_setup(repeat=1; Ecut=7.0, kgrid=[2, 2, 2])\n",
    "    a = 7.65339\n",
    "    lattice = a * Matrix(I, 3, 3)\n",
    "    Al = ElementPsp(:Al, psp=load_psp(\"hgh/lda/al-q3\"))\n",
    "    atoms     = [Al, Al, Al, Al]\n",
    "    positions = [[0.0, 0.0, 0.0], [0.0, 0.5, 0.5], [0.5, 0.0, 0.5], [0.5, 0.5, 0.0]]\n",
    "\n",
    "    # Make supercell in ASE:\n",
    "    # We convert our lattice to the conventions used in ASE\n",
    "    # and then back ...\n",
    "    supercell = ase_atoms(lattice, atoms, positions) * (repeat, 1, 1)\n",
    "    lattice   = load_lattice(supercell)\n",
    "    positions = load_positions(supercell)\n",
    "    atoms = fill(Al, length(positions))\n",
    "\n",
    "    # Construct an LDA model and discretise\n",
    "    # Note: We disable symmetries explicitly here. Otherwise the problem sizes\n",
    "    #       we are able to run on the CI are too simple to observe the numerical\n",
    "    #       instabilities we want to trigger here.\n",
    "    model = model_LDA(lattice, atoms, positions; temperature=1e-3, symmetries=false)\n",
    "    PlaneWaveBasis(model; Ecut, kgrid)\n",
    "end;"
   ],
   "metadata": {},
   "execution_count": 1
  },
  {
   "cell_type": "markdown",
   "source": [
    "As part of the code we are using a routine inside the ASE,\n",
    "the [atomistic simulation environment](https://wiki.fysik.dtu.dk/ase/index.html)\n",
    "for creating the supercell and make use of the two-way interoperability of\n",
    "DFTK and ASE. For more details on this aspect see the documentation\n",
    "on Input and output formats."
   ],
   "metadata": {}
  },
  {
   "cell_type": "markdown",
   "source": [
    "Write an example supercell structure to a file to plot it:"
   ],
   "metadata": {}
  },
  {
   "outputs": [],
   "cell_type": "code",
   "source": [
    "setup = aluminium_setup(5)\n",
    "ase_atoms(setup.model).write(\"al_supercell.png\")"
   ],
   "metadata": {},
   "execution_count": 2
  },
  {
   "cell_type": "markdown",
   "source": [
    "<img src=\"https://docs.dftk.org/stable/examples/al_supercell.png\" width=500 height=500 />"
   ],
   "metadata": {}
  },
  {
   "cell_type": "markdown",
   "source": [
    "As we will see in this notebook the modelling of a system generally becomes\n",
    "harder if the system becomes larger.\n",
    "\n",
    "- This sounds like a trivial statement as *per se* the cost per SCF step increases\n",
    "  as the system (and thus $N$) gets larger.\n",
    "- But there is more to it:\n",
    "  If one is not careful also the *number of SCF iterations* increases\n",
    "  as the system gets larger.\n",
    "- The aim of a proper computational treatment of such supercells is therefore\n",
    "  to ensure that the **number of SCF iterations remains constant** when the\n",
    "  system size increases."
   ],
   "metadata": {}
  },
  {
   "cell_type": "markdown",
   "source": [
    "For achieving the latter DFTK by default employs the `LdosMixing`\n",
    "preconditioner [^HL2021] during the SCF iterations. This mixing approach is\n",
    "completely parameter free, but still automatically adapts to the treated\n",
    "system in order to efficiently prevent charge sloshing. As a result,\n",
    "modelling aluminium slabs indeed takes roughly the same number of SCF iterations\n",
    "irrespective of the supercell size:\n",
    "\n",
    "[^HL2021]:\n",
    "   M. F. Herbst and A. Levitt.\n",
    "   *Black-box inhomogeneous preconditioning for self-consistent field iterations in density functional theory.*\n",
    "   J. Phys. Cond. Matt *33* 085503 (2021). [ArXiv:2009.01665](https://arxiv.org/abs/2009.01665)"
   ],
   "metadata": {}
  },
  {
   "outputs": [
    {
     "name": "stdout",
     "output_type": "stream",
     "text": [
      "n     Energy            log10(ΔE)   log10(Δρ)   Diag\n",
      "---   ---------------   ---------   ---------   ----\n",
      "  1   -8.298522145482                   -0.85    5.1\n",
      "  2   -8.300204580160       -2.77       -1.25    1.0\n",
      "  3   -8.300443725427       -3.62       -1.89    2.6\n",
      "  4   -8.300459762411       -4.79       -2.72    2.4\n",
      "  5   -8.300463350372       -5.45       -3.01   11.1\n",
      "  6   -8.300463939636       -6.23       -3.16    2.6\n",
      "  7   -8.300464310876       -6.43       -3.31    1.0\n",
      "  8   -8.300464465130       -6.81       -3.42    1.2\n",
      "  9   -8.300464615258       -6.82       -3.69    1.4\n",
      " 10   -8.300464634406       -7.72       -3.88    1.0\n",
      " 11   -8.300464639990       -8.25       -4.12    1.0\n"
     ]
    }
   ],
   "cell_type": "code",
   "source": [
    "is_converged = DFTK.ScfConvergenceDensity(1e-4)  # Flag convergence based on density\n",
    "self_consistent_field(aluminium_setup(1); is_converged);"
   ],
   "metadata": {},
   "execution_count": 3
  },
  {
   "outputs": [
    {
     "name": "stdout",
     "output_type": "stream",
     "text": [
      "n     Energy            log10(ΔE)   log10(Δρ)   Diag\n",
      "---   ---------------   ---------   ---------   ----\n",
      "  1   -16.67465646597                   -0.70    6.8\n",
      "  2   -16.67867232878       -2.40       -1.14    1.0\n",
      "  3   -16.67921982255       -3.26       -1.87    3.0\n",
      "  4   -16.67928056858       -4.22       -2.76    4.4\n",
      "  5   -16.67928602520       -5.26       -3.18    5.2\n",
      "  6   -16.67928620715       -6.74       -3.48    3.6\n",
      "  7   -16.67928621936       -7.91       -3.94    1.0\n",
      "  8   -16.67928622387       -8.35       -4.56    1.4\n"
     ]
    }
   ],
   "cell_type": "code",
   "source": [
    "self_consistent_field(aluminium_setup(2); is_converged);"
   ],
   "metadata": {},
   "execution_count": 4
  },
  {
   "outputs": [
    {
     "name": "stdout",
     "output_type": "stream",
     "text": [
      "n     Energy            log10(ΔE)   log10(Δρ)   Diag\n",
      "---   ---------------   ---------   ---------   ----\n",
      "  1   -33.32585813159                   -0.56    6.6\n",
      "  2   -33.33274255951       -2.16       -1.00    1.1\n",
      "  3   -33.33409607556       -2.87       -1.74    4.4\n",
      "  4   -33.33429780758       -3.70       -2.64    2.8\n",
      "  5   -33.33615019137       -2.73       -2.50    6.1\n",
      "  6   -33.33694341769       -3.10       -2.52    8.2\n",
      "  7   -33.33694338856   +   -7.54       -2.53    2.2\n",
      "  8   -33.33679857875   +   -3.84       -2.26    2.8\n",
      "  9   -33.33676314519   +   -4.45       -2.21    1.0\n",
      " 10   -33.33683120541       -4.17       -2.32    1.0\n",
      " 11   -33.33684889701       -4.75       -2.36    1.0\n",
      " 12   -33.33686629562       -4.76       -2.40    1.0\n",
      " 13   -33.33688813257       -4.66       -2.47    1.0\n",
      " 14   -33.33692823163       -4.40       -2.75    3.2\n",
      " 15   -33.33693490382       -5.18       -2.87    1.5\n",
      " 16   -33.33694360107       -5.06       -3.59    3.5\n",
      " 17   -33.33694392220       -6.49       -4.29    3.5\n"
     ]
    }
   ],
   "cell_type": "code",
   "source": [
    "self_consistent_field(aluminium_setup(4); is_converged);"
   ],
   "metadata": {},
   "execution_count": 5
  },
  {
   "cell_type": "markdown",
   "source": [
    "When switching off explicitly the `LdosMixing`, by selecting `mixing=SimpleMixing()`,\n",
    "the performance of number of required SCF steps starts to increase as we increase\n",
    "the size of the modelled problem:"
   ],
   "metadata": {}
  },
  {
   "outputs": [
    {
     "name": "stdout",
     "output_type": "stream",
     "text": [
      "n     Energy            log10(ΔE)   log10(Δρ)   Diag\n",
      "---   ---------------   ---------   ---------   ----\n",
      "  1   -8.297942087867                   -0.85    5.8\n",
      "  2   -8.300189932026       -2.65       -1.59    1.8\n",
      "  3   -8.300429987028       -3.62       -2.42    3.8\n",
      "  4   -8.300319030715   +   -3.95       -2.17   12.0\n",
      "  5   -8.300464512105       -3.84       -3.66    3.1\n",
      "  6   -8.300464600674       -7.05       -3.96    3.0\n",
      "  7   -8.300464627335       -7.57       -4.14    1.6\n"
     ]
    }
   ],
   "cell_type": "code",
   "source": [
    "self_consistent_field(aluminium_setup(1); is_converged, mixing=SimpleMixing());"
   ],
   "metadata": {},
   "execution_count": 6
  },
  {
   "outputs": [
    {
     "name": "stdout",
     "output_type": "stream",
     "text": [
      "n     Energy            log10(ΔE)   log10(Δρ)   Diag\n",
      "---   ---------------   ---------   ---------   ----\n",
      "  1   -33.30495460818                   -0.56    6.8\n",
      "  2   -33.32703663157       -1.66       -1.27    1.2\n",
      "  3   -24.47262383857   +    0.95       -0.59    6.8\n",
      "  4   -33.00139027453        0.93       -1.28    5.9\n",
      "  5   -33.23565289277       -0.63       -1.28    5.5\n",
      "  6   -33.29603513897       -1.22       -1.73    3.6\n",
      "  7   -32.90786426868   +   -0.41       -1.25    4.8\n",
      "  8   -33.33344061029       -0.37       -2.17    4.9\n",
      "  9   -33.33310125159   +   -3.47       -2.18    2.2\n",
      " 10   -33.33495825747       -2.73       -2.36    1.8\n",
      " 11   -33.33644552033       -2.83       -2.65    1.8\n",
      " 12   -33.33686779714       -3.37       -3.01    3.4\n",
      " 13   -33.33693907908       -4.15       -3.41    3.8\n",
      " 14   -33.33694320992       -5.38       -3.75    3.4\n",
      " 15   -33.33693949011   +   -5.43       -3.71    3.9\n",
      " 16   -33.33694388537       -5.36       -4.49    3.0\n"
     ]
    }
   ],
   "cell_type": "code",
   "source": [
    "self_consistent_field(aluminium_setup(4); is_converged, mixing=SimpleMixing());"
   ],
   "metadata": {},
   "execution_count": 7
  },
  {
   "cell_type": "markdown",
   "source": [
    "For completion let us note that the more traditional `mixing=KerkerMixing()`\n",
    "approach would also help in this particular setting to obtain a constant\n",
    "number of SCF iterations for an increasing system size (try it!). In contrast\n",
    "to `LdosMixing`, however, `KerkerMixing` is only suitable to model bulk metallic\n",
    "system (like the case we are considering here). When modelling metallic surfaces\n",
    "or mixtures of metals and insulators, `KerkerMixing` fails, while `LdosMixing`\n",
    "still works well. See the Modelling a gallium arsenide surface example\n",
    "or [^HL2021] for details. Due to the general applicability of `LdosMixing` this\n",
    "method is the default mixing approach in DFTK."
   ],
   "metadata": {}
  }
 ],
 "nbformat_minor": 3,
 "metadata": {
  "language_info": {
   "file_extension": ".jl",
   "mimetype": "application/julia",
   "name": "julia",
   "version": "1.8.3"
  },
  "kernelspec": {
   "name": "julia-1.8",
   "display_name": "Julia 1.8.3",
   "language": "julia"
  }
 },
 "nbformat": 4
}
