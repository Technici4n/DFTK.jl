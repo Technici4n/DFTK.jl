{
 "cells": [
  {
   "cell_type": "markdown",
   "source": [
    "# Polarizability using automatic differentiation\n",
    "\n",
    "Simple example for computing properties using (forward-mode)\n",
    "automatic differentiation.\n",
    "For a more classical approach and more details about computing polarizabilities,\n",
    "see Polarizability by linear response."
   ],
   "metadata": {}
  },
  {
   "outputs": [],
   "cell_type": "code",
   "source": [
    "using DFTK\n",
    "using LinearAlgebra\n",
    "using ForwardDiff\n",
    "\n",
    "# Construct PlaneWaveBasis given a particular electric field strength\n",
    "# Again we take the example of a Helium atom.\n",
    "function make_basis(ε::T; a=10., Ecut=30) where {T}\n",
    "    lattice=T(a) * I(3)  # lattice is a cube of $a$ Bohrs\n",
    "    # Helium at the center of the box\n",
    "    atoms     = [ElementPsp(:He, psp=load_psp(\"hgh/lda/He-q2\"))]\n",
    "    positions = [[1/2, 1/2, 1/2]]\n",
    "\n",
    "    model = model_DFT(lattice, atoms, positions, [:lda_x, :lda_c_vwn];\n",
    "                      extra_terms=[ExternalFromReal(r -> -ε * (r[1] - a/2))],\n",
    "                      symmetries=false)\n",
    "    PlaneWaveBasis(model; Ecut, kgrid=[1, 1, 1])  # No k-point sampling on isolated system\n",
    "end\n",
    "\n",
    "# dipole moment of a given density (assuming the current geometry)\n",
    "function dipole(basis, ρ)\n",
    "    @assert isdiag(basis.model.lattice)\n",
    "    a  = basis.model.lattice[1, 1]\n",
    "    rr = [a * (r[1] - 1/2) for r in r_vectors(basis)]\n",
    "    sum(rr .* ρ) * basis.dvol\n",
    "end\n",
    "\n",
    "# Function to compute the dipole for a given field strength\n",
    "function compute_dipole(ε; tol=1e-8, kwargs...)\n",
    "    scfres = self_consistent_field(make_basis(ε; kwargs...); tol)\n",
    "    dipole(scfres.basis, scfres.ρ)\n",
    "end;"
   ],
   "metadata": {},
   "execution_count": 1
  },
  {
   "cell_type": "markdown",
   "source": [
    "With this in place we can compute the polarizability from finite differences\n",
    "(just like in the previous example):"
   ],
   "metadata": {}
  },
  {
   "outputs": [
    {
     "name": "stdout",
     "output_type": "stream",
     "text": [
      "n     Energy            log10(ΔE)   log10(Δρ)   Diag   Δtime\n",
      "---   ---------------   ---------   ---------   ----   ------\n",
      "  1   -2.770940080076                   -0.53    9.0         \n",
      "  2   -2.772146381966       -2.92       -1.32    1.0    183ms\n",
      "  3   -2.772170319869       -4.62       -2.51    1.0    145ms\n",
      "  4   -2.772170661708       -6.47       -3.30    1.0    146ms\n",
      "  5   -2.772170721467       -7.22       -3.89    2.0    192ms\n",
      "  6   -2.772170722979       -8.82       -5.16    1.0    151ms\n",
      "  7   -2.772170723014      -10.45       -5.51    2.0    172ms\n",
      "  8   -2.772170723015      -12.10       -6.70    1.0    175ms\n",
      "  9   -2.772170723015      -13.35       -6.84    2.0    178ms\n",
      " 10   -2.772170723015   +  -14.40       -7.38    1.0    168ms\n",
      " 11   -2.772170723015      -14.10       -8.87    2.0    212ms\n",
      "n     Energy            log10(ΔE)   log10(Δρ)   Diag   Δtime\n",
      "---   ---------------   ---------   ---------   ----   ------\n",
      "  1   -2.770495219031                   -0.53    9.0         \n",
      "  2   -2.772055601454       -2.81       -1.29    1.0    143ms\n",
      "  3   -2.772082786597       -4.57       -2.65    1.0    170ms\n",
      "  4   -2.772083413556       -6.20       -3.83    2.0    166ms\n",
      "  5   -2.772083417196       -8.44       -4.17    2.0    167ms\n",
      "  6   -2.772083417786       -9.23       -5.15    1.0    171ms\n",
      "  7   -2.772083417810      -10.63       -5.55    2.0    173ms\n",
      "  8   -2.772083417810      -12.17       -6.03    1.0    156ms\n",
      "  9   -2.772083417811      -12.73       -7.11    2.0    207ms\n",
      " 10   -2.772083417811   +  -14.10       -7.73    1.0    167ms\n",
      " 11   -2.772083417811      -14.40       -8.40    2.0    179ms\n"
     ]
    },
    {
     "output_type": "execute_result",
     "data": {
      "text/plain": "1.7735580630786767"
     },
     "metadata": {},
     "execution_count": 2
    }
   ],
   "cell_type": "code",
   "source": [
    "polarizability_fd = let\n",
    "    ε = 0.01\n",
    "    (compute_dipole(ε) - compute_dipole(0.0)) / ε\n",
    "end"
   ],
   "metadata": {},
   "execution_count": 2
  },
  {
   "cell_type": "markdown",
   "source": [
    "We do the same thing using automatic differentiation. Under the hood this uses\n",
    "custom rules to implicitly differentiate through the self-consistent\n",
    "field fixed-point problem."
   ],
   "metadata": {}
  },
  {
   "outputs": [
    {
     "name": "stdout",
     "output_type": "stream",
     "text": [
      "n     Energy            log10(ΔE)   log10(Δρ)   Diag   Δtime\n",
      "---   ---------------   ---------   ---------   ----   ------\n",
      "  1   -2.770733273959                   -0.53    9.0         \n",
      "  2   -2.772052649750       -2.88       -1.31    1.0    235ms\n",
      "  3   -2.772082864501       -4.52       -2.57    1.0    145ms\n",
      "  4   -2.772083409533       -6.26       -3.66    2.0    168ms\n",
      "  5   -2.772083417188       -8.12       -4.10    2.0    223ms\n",
      "  6   -2.772083417792       -9.22       -5.23    1.0    150ms\n",
      "  7   -2.772083417811      -10.74       -6.09    2.0    173ms\n",
      "  8   -2.772083417811      -13.31       -6.53    1.0    156ms\n",
      "  9   -2.772083417811      -13.48       -7.20    2.0    213ms\n",
      " 10   -2.772083417811      -14.18       -7.27    1.0    167ms\n",
      " 11   -2.772083417811   +  -14.75       -8.35    1.0    160ms\n",
      "\n",
      "Polarizability via ForwardDiff:       1.7725349597178677\n",
      "Polarizability via finite difference: 1.7735580630786767\n"
     ]
    }
   ],
   "cell_type": "code",
   "source": [
    "polarizability = ForwardDiff.derivative(compute_dipole, 0.0)\n",
    "println()\n",
    "println(\"Polarizability via ForwardDiff:       $polarizability\")\n",
    "println(\"Polarizability via finite difference: $polarizability_fd\")"
   ],
   "metadata": {},
   "execution_count": 3
  }
 ],
 "nbformat_minor": 3,
 "metadata": {
  "language_info": {
   "file_extension": ".jl",
   "mimetype": "application/julia",
   "name": "julia",
   "version": "1.8.5"
  },
  "kernelspec": {
   "name": "julia-1.8",
   "display_name": "Julia 1.8.5",
   "language": "julia"
  }
 },
 "nbformat": 4
}
