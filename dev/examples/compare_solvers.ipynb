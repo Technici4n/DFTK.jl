{
 "cells": [
  {
   "cell_type": "markdown",
   "source": [
    "# Comparison of DFT solvers"
   ],
   "metadata": {}
  },
  {
   "cell_type": "markdown",
   "source": [
    "We compare four different approaches for solving the DFT minimisation problem,\n",
    "namely a density-based SCF, a potential-based SCF, direct minimisation and Newton."
   ],
   "metadata": {}
  },
  {
   "cell_type": "markdown",
   "source": [
    "First we setup our problem"
   ],
   "metadata": {}
  },
  {
   "outputs": [],
   "cell_type": "code",
   "source": [
    "using DFTK\n",
    "using LinearAlgebra\n",
    "\n",
    "a = 10.26  # Silicon lattice constant in Bohr\n",
    "lattice = a / 2 * [[0 1 1.];\n",
    "                   [1 0 1.];\n",
    "                   [1 1 0.]]\n",
    "Si = ElementPsp(:Si, psp=load_psp(\"hgh/lda/Si-q4\"))\n",
    "atoms     = [Si, Si]\n",
    "positions = [ones(3)/8, -ones(3)/8]\n",
    "\n",
    "model = model_LDA(lattice, atoms, positions)\n",
    "basis = PlaneWaveBasis(model; Ecut=5, kgrid=[3, 3, 3])\n",
    "\n",
    "# Convergence we desire\n",
    "tol = 1e-12\n",
    "is_converged = DFTK.ScfConvergenceDensity(tol);"
   ],
   "metadata": {},
   "execution_count": 1
  },
  {
   "cell_type": "markdown",
   "source": [
    "## Density-based self-consistent field"
   ],
   "metadata": {}
  },
  {
   "outputs": [
    {
     "name": "stdout",
     "output_type": "stream",
     "text": [
      "n     Energy            log10(ΔE)   log10(Δρ)   Diag\n",
      "---   ---------------   ---------   ---------   ----\n",
      "  1   -7.846776040096                   -0.70    4.2\n",
      "  2   -7.852290110593       -2.26       -1.53    1.0\n",
      "  3   -7.852646083799       -3.45       -2.52    3.2\n",
      "  4   -7.852646677868       -6.23       -3.37    2.2\n",
      "  5   -7.852646685852       -8.10       -4.77    1.0\n",
      "  6   -7.852646686723       -9.06       -5.19    3.8\n",
      "  7   -7.852646686730      -11.19       -6.14    1.5\n",
      "  8   -7.852646686730      -12.60       -7.43    2.5\n",
      "  9   -7.852646686730   +  -15.05       -7.51    2.0\n",
      " 10   -7.852646686730   +    -Inf       -8.72    2.2\n",
      " 11   -7.852646686730   +  -15.05       -9.46    2.0\n",
      " 12   -7.852646686730      -15.05      -10.59    2.5\n",
      " 13   -7.852646686730   +  -15.05      -10.64    1.0\n",
      " 14   -7.852646686730   +    -Inf      -11.21    2.2\n",
      " 15   -7.852646686730   +  -14.75      -11.91    2.2\n",
      " 16   -7.852646686730      -14.57      -13.07    2.8\n"
     ]
    }
   ],
   "cell_type": "code",
   "source": [
    "scfres_scf = self_consistent_field(basis; is_converged);"
   ],
   "metadata": {},
   "execution_count": 2
  },
  {
   "cell_type": "markdown",
   "source": [
    "## Potential-based SCF"
   ],
   "metadata": {}
  },
  {
   "outputs": [
    {
     "name": "stdout",
     "output_type": "stream",
     "text": [
      "n     Energy            log10(ΔE)   log10(Δρ)   α      Diag\n",
      "---   ---------------   ---------   ---------   ----   ----\n",
      "  1   -7.846894264762                   -0.70           4.8\n",
      "  2   -7.852528499007       -2.25       -1.64   0.80    2.0\n",
      "  3   -7.852635239768       -3.97       -2.74   0.80    1.0\n",
      "  4   -7.852646538745       -4.95       -3.21   0.80    2.0\n",
      "  5   -7.852646674180       -6.87       -4.03   0.80    1.0\n",
      "  6   -7.852646686297       -7.92       -4.70   0.80    1.8\n",
      "  7   -7.852646686710       -9.38       -5.50   0.80    2.0\n",
      "  8   -7.852646686729      -10.72       -6.62   0.80    2.0\n",
      "  9   -7.852646686730      -12.39       -7.76   0.80    2.5\n",
      " 10   -7.852646686730   +  -14.75       -8.63   0.80    2.5\n",
      " 11   -7.852646686730      -14.75       -8.44   0.80    2.8\n",
      " 12   -7.852646686730      -15.05       -9.59   0.80    1.0\n",
      " 13   -7.852646686730   +    -Inf      -10.47   0.80    1.5\n",
      " 14   -7.852646686730   +  -15.05      -10.96   0.80    2.2\n",
      " 15   -7.852646686730      -15.05      -11.72   0.80    1.2\n",
      " 16   -7.852646686730   +    -Inf      -12.94   0.80    2.0\n"
     ]
    }
   ],
   "cell_type": "code",
   "source": [
    "scfres_scfv = DFTK.scf_potential_mixing(basis; is_converged);"
   ],
   "metadata": {},
   "execution_count": 3
  },
  {
   "cell_type": "markdown",
   "source": [
    "## Direct minimization"
   ],
   "metadata": {}
  },
  {
   "outputs": [
    {
     "name": "stdout",
     "output_type": "stream",
     "text": [
      "Iter     Function value   Gradient norm \n",
      "     0     1.425568e+01     2.941390e+00\n",
      " * time: 0.4644641876220703\n",
      "     1     1.255442e+00     1.964259e+00\n",
      " * time: 0.7063579559326172\n",
      "     2    -1.422608e+00     2.240613e+00\n",
      " * time: 0.8402481079101562\n",
      "     3    -3.773446e+00     1.982681e+00\n",
      " * time: 0.8814761638641357\n",
      "     4    -5.003320e+00     1.840952e+00\n",
      " * time: 0.920619010925293\n",
      "     5    -6.691110e+00     1.185614e+00\n",
      " * time: 0.9597311019897461\n",
      "     6    -7.356761e+00     4.506051e-01\n",
      " * time: 0.9988811016082764\n",
      "     7    -7.617681e+00     1.580695e-01\n",
      " * time: 1.0256671905517578\n",
      "     8    -7.720773e+00     2.096028e-01\n",
      " * time: 1.052422046661377\n",
      "     9    -7.769587e+00     7.644061e-02\n",
      " * time: 1.079329013824463\n",
      "    10    -7.790805e+00     9.894087e-02\n",
      " * time: 1.1072630882263184\n",
      "    11    -7.805600e+00     1.081378e-01\n",
      " * time: 1.1353609561920166\n",
      "    12    -7.819902e+00     5.816362e-02\n",
      " * time: 1.1630079746246338\n",
      "    13    -7.839035e+00     4.054660e-02\n",
      " * time: 1.1904761791229248\n",
      "    14    -7.848025e+00     2.987835e-02\n",
      " * time: 1.2173311710357666\n",
      "    15    -7.850905e+00     1.760127e-02\n",
      " * time: 1.2444641590118408\n",
      "    16    -7.852146e+00     1.018928e-02\n",
      " * time: 1.2718820571899414\n",
      "    17    -7.852474e+00     6.482827e-03\n",
      " * time: 1.3001911640167236\n",
      "    18    -7.852586e+00     3.769104e-03\n",
      " * time: 1.3277201652526855\n",
      "    19    -7.852623e+00     2.312614e-03\n",
      " * time: 1.354276180267334\n",
      "    20    -7.852638e+00     1.022100e-03\n",
      " * time: 1.3820350170135498\n",
      "    21    -7.852644e+00     7.088063e-04\n",
      " * time: 1.4092121124267578\n",
      "    22    -7.852646e+00     5.034380e-04\n",
      " * time: 1.4359581470489502\n",
      "    23    -7.852646e+00     2.843323e-04\n",
      " * time: 1.4644081592559814\n",
      "    24    -7.852647e+00     1.236628e-04\n",
      " * time: 1.4923510551452637\n",
      "    25    -7.852647e+00     6.862834e-05\n",
      " * time: 1.5192539691925049\n",
      "    26    -7.852647e+00     3.348152e-05\n",
      " * time: 1.5461771488189697\n",
      "    27    -7.852647e+00     1.962229e-05\n",
      " * time: 1.5739121437072754\n",
      "    28    -7.852647e+00     1.332924e-05\n",
      " * time: 1.600512981414795\n",
      "    29    -7.852647e+00     6.452168e-06\n",
      " * time: 1.6277880668640137\n",
      "    30    -7.852647e+00     4.331973e-06\n",
      " * time: 1.6553850173950195\n",
      "    31    -7.852647e+00     2.075061e-06\n",
      " * time: 1.6837141513824463\n",
      "    32    -7.852647e+00     1.431397e-06\n",
      " * time: 1.712702989578247\n",
      "    33    -7.852647e+00     8.105861e-07\n",
      " * time: 1.7416341304779053\n",
      "    34    -7.852647e+00     6.592721e-07\n",
      " * time: 1.770491123199463\n",
      "    35    -7.852647e+00     3.172845e-07\n",
      " * time: 1.7987191677093506\n",
      "    36    -7.852647e+00     1.479491e-07\n",
      " * time: 1.8265891075134277\n",
      "    37    -7.852647e+00     9.213664e-08\n",
      " * time: 1.8535001277923584\n",
      "    38    -7.852647e+00     5.589873e-08\n",
      " * time: 1.8818001747131348\n",
      "    39    -7.852647e+00     3.125035e-08\n",
      " * time: 1.9111709594726562\n",
      "    40    -7.852647e+00     1.614396e-08\n",
      " * time: 1.9399709701538086\n",
      "    41    -7.852647e+00     1.023175e-08\n",
      " * time: 1.968945026397705\n",
      "    42    -7.852647e+00     8.612369e-09\n",
      " * time: 2.0101611614227295\n",
      "    43    -7.852647e+00     8.610616e-09\n",
      " * time: 2.0977261066436768\n"
     ]
    }
   ],
   "cell_type": "code",
   "source": [
    "scfres_dm = direct_minimization(basis; tol);"
   ],
   "metadata": {},
   "execution_count": 4
  },
  {
   "cell_type": "markdown",
   "source": [
    "## Newton algorithm"
   ],
   "metadata": {}
  },
  {
   "cell_type": "markdown",
   "source": [
    "Start not too far from the solution to ensure convergence:\n",
    "We run first a very crude SCF to get close and then switch to Newton."
   ],
   "metadata": {}
  },
  {
   "outputs": [
    {
     "name": "stdout",
     "output_type": "stream",
     "text": [
      "n     Energy            log10(ΔE)   log10(Δρ)   Diag\n",
      "---   ---------------   ---------   ---------   ----\n",
      "  1   -7.846752636392                   -0.70    4.8\n",
      "  2   -7.852308863939       -2.26       -1.53    1.0\n"
     ]
    }
   ],
   "cell_type": "code",
   "source": [
    "scfres_start = self_consistent_field(basis; tol=1e-1);"
   ],
   "metadata": {},
   "execution_count": 5
  },
  {
   "cell_type": "markdown",
   "source": [
    "Remove the virtual orbitals (which Newton cannot treat yet)"
   ],
   "metadata": {}
  },
  {
   "outputs": [
    {
     "name": "stdout",
     "output_type": "stream",
     "text": [
      "n     Energy            log10(ΔE)   log10(Δρ)\n",
      "---   ---------------   ---------   ---------\n",
      "  1   -7.852646686709                   -2.54\n",
      "  2   -7.852646686730      -10.67       -5.95\n",
      "  3   -7.852646686730   +  -14.75      -12.59\n"
     ]
    }
   ],
   "cell_type": "code",
   "source": [
    "ψ, _ = DFTK.select_occupied_orbitals(basis, scfres_start.ψ, scfres_start.occupation)\n",
    "scfres_newton = newton(basis, ψ; tol);"
   ],
   "metadata": {},
   "execution_count": 6
  },
  {
   "cell_type": "markdown",
   "source": [
    "## Comparison of results"
   ],
   "metadata": {}
  },
  {
   "outputs": [
    {
     "name": "stdout",
     "output_type": "stream",
     "text": [
      "|ρ_newton - ρ_scf|  = 2.6988970388668492e-14\n",
      "|ρ_newton - ρ_scfv| = 2.0275310841393318e-13\n",
      "|ρ_newton - ρ_dm|   = 1.0173593797284858e-9\n"
     ]
    }
   ],
   "cell_type": "code",
   "source": [
    "println(\"|ρ_newton - ρ_scf|  = \", norm(scfres_newton.ρ - scfres_scf.ρ))\n",
    "println(\"|ρ_newton - ρ_scfv| = \", norm(scfres_newton.ρ - scfres_scfv.ρ))\n",
    "println(\"|ρ_newton - ρ_dm|   = \", norm(scfres_newton.ρ - scfres_dm.ρ))"
   ],
   "metadata": {},
   "execution_count": 7
  }
 ],
 "nbformat_minor": 3,
 "metadata": {
  "language_info": {
   "file_extension": ".jl",
   "mimetype": "application/julia",
   "name": "julia",
   "version": "1.8.2"
  },
  "kernelspec": {
   "name": "julia-1.8",
   "display_name": "Julia 1.8.2",
   "language": "julia"
  }
 },
 "nbformat": 4
}
