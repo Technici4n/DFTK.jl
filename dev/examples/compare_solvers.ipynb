{
 "cells": [
  {
   "cell_type": "markdown",
   "source": [
    "# Comparison of DFT solvers"
   ],
   "metadata": {}
  },
  {
   "cell_type": "markdown",
   "source": [
    "We compare four different approaches for solving the DFT minimisation problem,\n",
    "namely a density-based SCF, a potential-based SCF, direct minimisation and Newton."
   ],
   "metadata": {}
  },
  {
   "cell_type": "markdown",
   "source": [
    "First we setup our problem"
   ],
   "metadata": {}
  },
  {
   "outputs": [
    {
     "output_type": "execute_result",
     "data": {
      "text/plain": "1.0e-6"
     },
     "metadata": {},
     "execution_count": 1
    }
   ],
   "cell_type": "code",
   "source": [
    "using DFTK\n",
    "using LinearAlgebra\n",
    "\n",
    "a = 10.26  # Silicon lattice constant in Bohr\n",
    "lattice = a / 2 * [[0 1 1.];\n",
    "                   [1 0 1.];\n",
    "                   [1 1 0.]]\n",
    "Si = ElementPsp(:Si, psp=load_psp(\"hgh/lda/Si-q4\"))\n",
    "atoms     = [Si, Si]\n",
    "positions = [ones(3)/8, -ones(3)/8]\n",
    "\n",
    "model = model_LDA(lattice, atoms, positions)\n",
    "basis = PlaneWaveBasis(model; Ecut=5, kgrid=[3, 3, 3])\n",
    "\n",
    "# Convergence we desire in the density\n",
    "tol = 1e-6"
   ],
   "metadata": {},
   "execution_count": 1
  },
  {
   "cell_type": "markdown",
   "source": [
    "## Density-based self-consistent field"
   ],
   "metadata": {}
  },
  {
   "outputs": [
    {
     "name": "stdout",
     "output_type": "stream",
     "text": [
      "n     Energy            log10(ΔE)   log10(Δρ)   Diag   Δtime\n",
      "---   ---------------   ---------   ---------   ----   ------\n",
      "  1   -7.846943371155                   -0.70    4.8         \n",
      "  2   -7.852336811934       -2.27       -1.53    1.0   30.5ms\n",
      "  3   -7.852615502768       -3.55       -2.56    1.2   31.8ms\n",
      "  4   -7.852645972440       -4.52       -2.88    2.2   39.5ms\n",
      "  5   -7.852646480547       -6.29       -3.15    1.0   29.7ms\n",
      "  6   -7.852646679291       -6.70       -4.03    1.2   96.0ms\n",
      "  7   -7.852646686459       -8.14       -5.06    1.8   36.3ms\n",
      "  8   -7.852646686725       -9.58       -5.50    2.2   39.1ms\n",
      "  9   -7.852646686728      -11.58       -5.64    1.2   31.4ms\n",
      " 10   -7.852646686730      -11.65       -6.39    1.0   30.9ms\n"
     ]
    }
   ],
   "cell_type": "code",
   "source": [
    "scfres_scf = self_consistent_field(basis; tol);"
   ],
   "metadata": {},
   "execution_count": 2
  },
  {
   "cell_type": "markdown",
   "source": [
    "## Potential-based SCF"
   ],
   "metadata": {}
  },
  {
   "outputs": [
    {
     "name": "stdout",
     "output_type": "stream",
     "text": [
      "n     Energy            log10(ΔE)   log10(Δρ)   α      Diag   Δtime\n",
      "---   ---------------   ---------   ---------   ----   ----   ------\n",
      "  1   -7.846834451538                   -0.70           4.5         \n",
      "  2   -7.852554973348       -2.24       -1.64   0.80    2.2    327ms\n",
      "  3   -7.852638985353       -4.08       -2.74   0.80    1.0   28.1ms\n",
      "  4   -7.852646441595       -5.13       -3.35   0.80    2.2   36.5ms\n",
      "  5   -7.852646678981       -6.62       -4.20   0.80    1.8   33.6ms\n",
      "  6   -7.852646686483       -8.12       -4.75   0.80    1.8   33.4ms\n",
      "  7   -7.852646686718       -9.63       -5.69   0.80    1.8   32.8ms\n",
      "  8   -7.852646686730      -10.95       -6.47   0.80    2.0   36.5ms\n"
     ]
    }
   ],
   "cell_type": "code",
   "source": [
    "scfres_scfv = DFTK.scf_potential_mixing(basis; tol);"
   ],
   "metadata": {},
   "execution_count": 3
  },
  {
   "cell_type": "markdown",
   "source": [
    "## Direct minimization\n",
    "Note: Unlike the other algorithms, tolerance for this one is in the energy,\n",
    "thus we square the density tolerance value to be roughly equivalent."
   ],
   "metadata": {}
  },
  {
   "outputs": [
    {
     "name": "stdout",
     "output_type": "stream",
     "text": [
      "Iter     Function value   Gradient norm \n",
      "     0     1.413061e+01     3.449337e+00\n",
      " * time: 0.07423806190490723\n",
      "     1     1.348093e+00     1.764888e+00\n",
      " * time: 0.3639180660247803\n",
      "     2    -1.469790e+00     1.930433e+00\n",
      " * time: 0.3942830562591553\n",
      "     3    -3.909347e+00     1.768220e+00\n",
      " * time: 0.4377319812774658\n",
      "     4    -5.362253e+00     1.438126e+00\n",
      " * time: 0.5726280212402344\n",
      "     5    -6.955596e+00     9.841543e-01\n",
      " * time: 0.6147270202636719\n",
      "     6    -7.105859e+00     1.260686e+00\n",
      " * time: 0.644287109375\n",
      "     7    -7.442948e+00     1.133851e+00\n",
      " * time: 0.6745750904083252\n",
      "     8    -7.710794e+00     3.718770e-01\n",
      " * time: 0.7174930572509766\n",
      "     9    -7.772794e+00     3.184127e-01\n",
      " * time: 0.7474701404571533\n",
      "    10    -7.813965e+00     1.086521e-01\n",
      " * time: 0.7775819301605225\n",
      "    11    -7.836733e+00     1.603111e-01\n",
      " * time: 0.8076629638671875\n",
      "    12    -7.845131e+00     4.106174e-02\n",
      " * time: 0.8383331298828125\n",
      "    13    -7.848828e+00     2.953831e-02\n",
      " * time: 0.8687410354614258\n",
      "    14    -7.850862e+00     3.071853e-02\n",
      " * time: 0.8987960815429688\n",
      "    15    -7.851934e+00     2.094195e-02\n",
      " * time: 0.9293739795684814\n",
      "    16    -7.852363e+00     9.664212e-03\n",
      " * time: 0.9603309631347656\n",
      "    17    -7.852543e+00     6.453958e-03\n",
      " * time: 0.9911050796508789\n",
      "    18    -7.852612e+00     2.857777e-03\n",
      " * time: 1.0212719440460205\n",
      "    19    -7.852635e+00     1.580160e-03\n",
      " * time: 1.0513739585876465\n",
      "    20    -7.852642e+00     1.390286e-03\n",
      " * time: 1.0814001560211182\n",
      "    21    -7.852645e+00     8.263395e-04\n",
      " * time: 1.111678123474121\n",
      "    22    -7.852646e+00     5.835847e-04\n",
      " * time: 1.1418869495391846\n",
      "    23    -7.852647e+00     4.344622e-04\n",
      " * time: 1.1725120544433594\n",
      "    24    -7.852647e+00     1.751204e-04\n",
      " * time: 1.202787160873413\n",
      "    25    -7.852647e+00     7.746478e-05\n",
      " * time: 1.2329199314117432\n",
      "    26    -7.852647e+00     4.892431e-05\n",
      " * time: 1.2630600929260254\n",
      "    27    -7.852647e+00     3.963569e-05\n",
      " * time: 1.2934880256652832\n",
      "    28    -7.852647e+00     2.883017e-05\n",
      " * time: 1.3239030838012695\n",
      "    29    -7.852647e+00     1.180932e-05\n",
      " * time: 1.3546819686889648\n",
      "    30    -7.852647e+00     4.653173e-06\n",
      " * time: 1.385249137878418\n",
      "    31    -7.852647e+00     3.753077e-06\n",
      " * time: 1.4156429767608643\n",
      "    32    -7.852647e+00     3.140572e-06\n",
      " * time: 1.4459171295166016\n",
      "    33    -7.852647e+00     1.645032e-06\n",
      " * time: 1.4758400917053223\n",
      "    34    -7.852647e+00     6.769586e-07\n",
      " * time: 1.5059521198272705\n",
      "    35    -7.852647e+00     4.663792e-07\n",
      " * time: 1.5355849266052246\n",
      "    36    -7.852647e+00     3.214144e-07\n",
      " * time: 1.5653369426727295\n",
      "    37    -7.852647e+00     1.400950e-07\n",
      " * time: 1.5948050022125244\n",
      "    38    -7.852647e+00     7.331775e-08\n",
      " * time: 1.6245770454406738\n",
      "    39    -7.852647e+00     3.747981e-08\n",
      " * time: 1.6547491550445557\n",
      "    40    -7.852647e+00     2.313139e-08\n",
      " * time: 1.6850290298461914\n",
      "    41    -7.852647e+00     1.577960e-08\n",
      " * time: 1.7157671451568604\n",
      "    42    -7.852647e+00     1.577960e-08\n",
      " * time: 1.877532958984375\n"
     ]
    }
   ],
   "cell_type": "code",
   "source": [
    "scfres_dm = direct_minimization(basis; tol=tol^2);"
   ],
   "metadata": {},
   "execution_count": 4
  },
  {
   "cell_type": "markdown",
   "source": [
    "## Newton algorithm"
   ],
   "metadata": {}
  },
  {
   "cell_type": "markdown",
   "source": [
    "Start not too far from the solution to ensure convergence:\n",
    "We run first a very crude SCF to get close and then switch to Newton."
   ],
   "metadata": {}
  },
  {
   "outputs": [
    {
     "name": "stdout",
     "output_type": "stream",
     "text": [
      "n     Energy            log10(ΔE)   log10(Δρ)   Diag   Δtime\n",
      "---   ---------------   ---------   ---------   ----   ------\n",
      "  1   -7.846894393802                   -0.70    4.8         \n"
     ]
    }
   ],
   "cell_type": "code",
   "source": [
    "scfres_start = self_consistent_field(basis; tol=0.5);"
   ],
   "metadata": {},
   "execution_count": 5
  },
  {
   "cell_type": "markdown",
   "source": [
    "Remove the virtual orbitals (which Newton cannot treat yet)"
   ],
   "metadata": {}
  },
  {
   "outputs": [
    {
     "name": "stdout",
     "output_type": "stream",
     "text": [
      "n     Energy            log10(ΔE)   log10(Δρ)   Δtime\n",
      "---   ---------------   ---------   ---------   ------\n",
      "  1   -7.852645903828                   -1.64         \n",
      "  2   -7.852646686730       -6.11       -3.71    2.46s\n",
      "  3   -7.852646686730      -13.30       -7.24    212ms\n"
     ]
    }
   ],
   "cell_type": "code",
   "source": [
    "ψ = DFTK.select_occupied_orbitals(basis, scfres_start.ψ, scfres_start.occupation).ψ\n",
    "scfres_newton = newton(basis, ψ; tol);"
   ],
   "metadata": {},
   "execution_count": 6
  },
  {
   "cell_type": "markdown",
   "source": [
    "## Comparison of results"
   ],
   "metadata": {}
  },
  {
   "outputs": [
    {
     "name": "stdout",
     "output_type": "stream",
     "text": [
      "|ρ_newton - ρ_scf|  = 4.7088708055714735e-7\n",
      "|ρ_newton - ρ_scfv| = 1.594199404291166e-7\n",
      "|ρ_newton - ρ_dm|   = 1.0099508606861262e-9\n"
     ]
    }
   ],
   "cell_type": "code",
   "source": [
    "println(\"|ρ_newton - ρ_scf|  = \", norm(scfres_newton.ρ - scfres_scf.ρ))\n",
    "println(\"|ρ_newton - ρ_scfv| = \", norm(scfres_newton.ρ - scfres_scfv.ρ))\n",
    "println(\"|ρ_newton - ρ_dm|   = \", norm(scfres_newton.ρ - scfres_dm.ρ))"
   ],
   "metadata": {},
   "execution_count": 7
  }
 ],
 "nbformat_minor": 3,
 "metadata": {
  "language_info": {
   "file_extension": ".jl",
   "mimetype": "application/julia",
   "name": "julia",
   "version": "1.9.1"
  },
  "kernelspec": {
   "name": "julia-1.9",
   "display_name": "Julia 1.9.1",
   "language": "julia"
  }
 },
 "nbformat": 4
}
