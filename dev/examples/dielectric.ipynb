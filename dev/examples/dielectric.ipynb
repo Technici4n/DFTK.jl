{
 "cells": [
  {
   "cell_type": "markdown",
   "source": [
    "# Eigenvalues of the dielectric matrix\n",
    "\n",
    "We compute a few eigenvalues of the dielectric matrix ($q=0$, $ω=0$) iteratively."
   ],
   "metadata": {}
  },
  {
   "outputs": [
    {
     "name": "stdout",
     "output_type": "stream",
     "text": [
      "n     Energy            log10(ΔE)   log10(Δρ)   Diag\n",
      "---   ---------------   ---------   ---------   ----\n",
      "  1   -7.233591726285                   -0.50    7.0\n",
      "  2   -7.250021798074       -1.78       -1.41    1.0\n",
      "  3   -7.251317967737       -2.89       -2.02    4.0\n",
      "  4   -7.251314016743   +   -5.40       -2.42    4.0\n",
      "  5   -7.251316480942       -5.61       -2.48    3.0\n",
      "  6   -7.251337075248       -4.69       -3.04    2.0\n",
      "  7   -7.251338772659       -5.77       -4.09    2.0\n",
      "  8   -7.251338792180       -7.71       -4.14    4.0\n",
      "  9   -7.251338797671       -8.26       -4.50    2.0\n",
      " 10   -7.251338798106       -9.36       -4.65    1.0\n",
      " 11   -7.251338798697       -9.23       -5.53    3.0\n",
      " 12   -7.251338798701      -11.38       -5.65    2.0\n",
      " 13   -7.251338798703      -11.86       -5.87    1.0\n",
      " 14   -7.251338798704      -11.71       -6.73    3.0\n",
      " 15   -7.251338798705      -13.27       -6.88    3.0\n",
      " 16   -7.251338798705      -14.01       -7.17    1.0\n"
     ]
    }
   ],
   "cell_type": "code",
   "source": [
    "using DFTK\n",
    "using Plots\n",
    "using KrylovKit\n",
    "using Printf\n",
    "\n",
    "# Calculation parameters\n",
    "kgrid = [1, 1, 1]\n",
    "Ecut = 5\n",
    "\n",
    "# Silicon lattice\n",
    "a = 10.26\n",
    "lattice = a / 2 .* [[0 1 1.]; [1 0 1.]; [1 1 0.]]\n",
    "Si = ElementPsp(:Si, psp=load_psp(\"hgh/lda/Si-q4\"))\n",
    "atoms     = [Si, Si]\n",
    "positions = [ones(3)/8, -ones(3)/8]\n",
    "\n",
    "# Compute the dielectric operator without symmetries\n",
    "model = model_LDA(lattice, atoms, positions, symmetries=false)\n",
    "basis = PlaneWaveBasis(model; Ecut, kgrid)\n",
    "scfres = self_consistent_field(basis, tol=1e-14);"
   ],
   "metadata": {},
   "execution_count": 1
  },
  {
   "cell_type": "markdown",
   "source": [
    "Applying $ε^† ≔ (1- χ_0 K)$ …"
   ],
   "metadata": {}
  },
  {
   "outputs": [],
   "cell_type": "code",
   "source": [
    "function eps_fun(δρ)\n",
    "    δV = apply_kernel(basis, δρ; ρ=scfres.ρ)\n",
    "    χ0δV = apply_χ0(scfres, δV)\n",
    "    δρ - χ0δV\n",
    "end;"
   ],
   "metadata": {},
   "execution_count": 2
  },
  {
   "cell_type": "markdown",
   "source": [
    "… eagerly diagonalizes the subspace matrix at each iteration"
   ],
   "metadata": {}
  },
  {
   "outputs": [
    {
     "name": "stdout",
     "output_type": "stream",
     "text": [
      "[ Info: Arnoldi iteration step 1: normres = 0.035387809119208115\n",
      "[ Info: Arnoldi iteration step 2: normres = 0.5283207302804925\n",
      "[ Info: Arnoldi iteration step 3: normres = 0.6460456563688416\n",
      "[ Info: Arnoldi iteration step 4: normres = 0.6362566657725816\n",
      "[ Info: Arnoldi iteration step 5: normres = 0.35920196326317416\n",
      "[ Info: Arnoldi schursolve in iter 1, krylovdim = 5: 0 values converged, normres = (1.01e-01, 6.67e-02, 2.61e-01, 2.15e-01, 1.17e-02)\n",
      "[ Info: Arnoldi iteration step 6: normres = 0.4144042123404512\n",
      "[ Info: Arnoldi schursolve in iter 1, krylovdim = 6: 0 values converged, normres = (3.47e-02, 1.07e-01, 3.70e-01, 1.16e-01, 7.44e-02)\n",
      "[ Info: Arnoldi iteration step 7: normres = 0.06966006624154675\n",
      "[ Info: Arnoldi schursolve in iter 1, krylovdim = 7: 0 values converged, normres = (1.24e-03, 1.09e-02, 2.14e-02, 2.95e-02, 5.13e-02)\n",
      "[ Info: Arnoldi iteration step 8: normres = 0.12471570833146566\n",
      "[ Info: Arnoldi schursolve in iter 1, krylovdim = 8: 0 values converged, normres = (6.69e-05, 9.73e-04, 2.11e-03, 1.21e-02, 5.31e-02)\n",
      "[ Info: Arnoldi iteration step 9: normres = 0.07512287812403996\n",
      "[ Info: Arnoldi schursolve in iter 1, krylovdim = 9: 0 values converged, normres = (2.19e-06, 5.30e-05, 1.28e-04, 3.54e-03, 4.32e-02)\n",
      "[ Info: Arnoldi iteration step 10: normres = 0.08587056564614454\n",
      "[ Info: Arnoldi schursolve in iter 1, krylovdim = 10: 0 values converged, normres = (8.22e-08, 3.29e-06, 8.84e-06, 1.08e-03, 2.88e-02)\n",
      "[ Info: Arnoldi iteration step 11: normres = 0.08747087976915505\n",
      "[ Info: Arnoldi schursolve in iter 1, krylovdim = 11: 0 values converged, normres = (3.12e-09, 2.06e-07, 6.14e-07, 3.28e-04, 1.99e-02)\n",
      "[ Info: Arnoldi iteration step 12: normres = 0.07602280778549898\n",
      "[ Info: Arnoldi schursolve in iter 1, krylovdim = 12: 0 values converged, normres = (1.02e-10, 1.10e-08, 3.64e-08, 7.88e-05, 1.01e-02)\n",
      "[ Info: Arnoldi iteration step 13: normres = 0.1463961174891713\n",
      "[ Info: Arnoldi schursolve in iter 1, krylovdim = 13: 0 values converged, normres = (6.35e-12, 1.12e-09, 4.11e-09, 3.48e-05, 8.88e-03)\n",
      "[ Info: Arnoldi iteration step 14: normres = 0.3024261002050727\n",
      "[ Info: Arnoldi schursolve in iter 1, krylovdim = 14: 0 values converged, normres = (1.90e-12, 3.54e-09, 2.30e-01, 1.91e-01, 4.15e-05)\n",
      "[ Info: Arnoldi iteration step 15: normres = 0.27435386336730994\n",
      "[ Info: Arnoldi schursolve in iter 1, krylovdim = 15: 1 values converged, normres = (2.35e-13, 2.10e-09, 5.85e-02, 9.80e-04, 6.20e-06)\n",
      "[ Info: Arnoldi iteration step 16: normres = 0.14733672221524569\n",
      "[ Info: Arnoldi schursolve in iter 1, krylovdim = 16: 1 values converged, normres = (3.29e-14, 2.12e-08, 6.16e-02, 2.49e-03, 1.30e-01)\n",
      "[ Info: Arnoldi iteration step 17: normres = 0.029482620295712206\n",
      "[ Info: Arnoldi schursolve in iter 1, krylovdim = 17: 1 values converged, normres = (4.09e-16, 1.83e-07, 1.32e-03, 2.10e-07, 2.78e-03)\n",
      "[ Info: Arnoldi iteration step 18: normres = 0.02220790621664589\n",
      "[ Info: Arnoldi schursolve in iter 1, krylovdim = 18: 1 values converged, normres = (3.74e-18, 1.12e-06, 1.92e-05, 1.64e-05, 4.15e-05)\n",
      "[ Info: Arnoldi iteration step 19: normres = 0.07459354839886809\n",
      "[ Info: Arnoldi schursolve in iter 1, krylovdim = 19: 1 values converged, normres = (1.16e-19, 6.03e-07, 7.43e-07, 4.58e-08, 2.45e-06)\n",
      "[ Info: Arnoldi iteration step 20: normres = 0.15961373295283718\n",
      "[ Info: Arnoldi schursolve in iter 1, krylovdim = 20: 1 values converged, normres = (8.82e-21, 7.54e-08, 1.04e-07, 1.33e-07, 3.47e-07)\n",
      "[ Info: Arnoldi iteration step 21: normres = 0.028191252268128412\n",
      "[ Info: Arnoldi schursolve in iter 1, krylovdim = 21: 1 values converged, normres = (1.08e-22, 2.05e-09, 1.60e-09, 6.07e-09, 5.83e-09)\n",
      "[ Info: Arnoldi iteration step 22: normres = 0.09890630365177422\n",
      "[ Info: Arnoldi schursolve in iter 1, krylovdim = 22: 1 values converged, normres = (4.39e-24, 1.34e-10, 1.03e-10, 4.22e-10, 4.29e-10)\n",
      "[ Info: Arnoldi iteration step 23: normres = 0.22467560049656027\n",
      "[ Info: Arnoldi schursolve in iter 1, krylovdim = 23: 1 values converged, normres = (9.08e-25, 1.69e-10, 1.30e-10, 2.53e-09, 2.57e-09)\n",
      "[ Info: Arnoldi iteration step 24: normres = 0.014625770495269487\n",
      "[ Info: Arnoldi schursolve in iter 1, krylovdim = 24: 1 values converged, normres = (5.63e-27, 2.04e-12, 1.58e-12, 1.49e-03, 1.84e-03)\n",
      "[ Info: Arnoldi iteration step 25: normres = 0.12041691372624964\n",
      "[ Info: Arnoldi schursolve in iter 1, krylovdim = 25: 3 values converged, normres = (2.87e-28, 1.69e-13, 1.31e-13, 1.23e-08, 1.21e-08)\n",
      "[ Info: Arnoldi iteration step 26: normres = 0.024545157510959766\n",
      "[ Info: Arnoldi schursolve in iter 1, krylovdim = 26: 3 values converged, normres = (3.11e-30, 3.05e-15, 2.36e-15, 2.22e-08, 3.58e-08)\n",
      "[ Info: Arnoldi iteration step 27: normres = 0.03061425516855331\n",
      "[ Info: Arnoldi schursolve in iter 1, krylovdim = 27: 3 values converged, normres = (3.91e-32, 6.12e-17, 4.73e-17, 3.44e-08, 7.75e-08)\n",
      "[ Info: Arnoldi iteration step 28: normres = 0.08429781089115139\n",
      "[ Info: Arnoldi schursolve in iter 1, krylovdim = 28: 3 values converged, normres = (1.44e-33, 3.73e-18, 2.88e-18, 6.64e-10, 4.83e-09)\n",
      "[ Info: Arnoldi iteration step 29: normres = 0.029201628494562246\n",
      "[ Info: Arnoldi schursolve in iter 1, krylovdim = 29: 3 values converged, normres = (1.76e-35, 7.35e-20, 5.68e-20, 1.53e-11, 1.25e-10)\n",
      "[ Info: Arnoldi iteration step 30: normres = 0.1931380705377512\n",
      "[ Info: Arnoldi schursolve in iter 1, krylovdim = 30: 3 values converged, normres = (1.62e-36, 1.19e-20, 9.23e-21, 2.82e-12, 2.31e-11)\n",
      "[ Info: Arnoldi schursolve in iter 2, krylovdim = 19: 3 values converged, normres = (1.62e-36, 1.19e-20, 9.23e-21, 2.82e-12, 2.31e-11)\n",
      "[ Info: Arnoldi iteration step 20: normres = 0.04013887211137412\n",
      "┌ Info: Arnoldi eigsolve finished after 2 iterations:\n",
      "│ *  6 eigenvalues converged\n",
      "│ *  norm of residuals = (2.8059992683558983e-38, 3.4283105193291936e-22, 2.4704278355237457e-22, 9.0166584478338e-14, 7.33885199571171e-13, 3.2433646138940374e-13)\n",
      "└ *  number of operations = 31\n"
     ]
    }
   ],
   "cell_type": "code",
   "source": [
    "eigsolve(eps_fun, randn(size(scfres.ρ)), 5, :LM; eager=true, verbosity=3);"
   ],
   "metadata": {},
   "execution_count": 3
  }
 ],
 "nbformat_minor": 3,
 "metadata": {
  "language_info": {
   "file_extension": ".jl",
   "mimetype": "application/julia",
   "name": "julia",
   "version": "1.8.1"
  },
  "kernelspec": {
   "name": "julia-1.8",
   "display_name": "Julia 1.8.1",
   "language": "julia"
  }
 },
 "nbformat": 4
}
