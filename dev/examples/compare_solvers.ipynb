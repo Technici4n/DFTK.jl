{
 "cells": [
  {
   "cell_type": "markdown",
   "source": [
    "# Comparison of DFT solvers"
   ],
   "metadata": {}
  },
  {
   "cell_type": "markdown",
   "source": [
    "We compare four different approaches for solving the DFT minimisation problem,\n",
    "namely a density-based SCF, a potential-based SCF, direct minimisation and Newton."
   ],
   "metadata": {}
  },
  {
   "cell_type": "markdown",
   "source": [
    "First we setup our problem"
   ],
   "metadata": {}
  },
  {
   "outputs": [],
   "cell_type": "code",
   "source": [
    "using DFTK\n",
    "using LinearAlgebra\n",
    "\n",
    "a = 10.26  # Silicon lattice constant in Bohr\n",
    "lattice = a / 2 * [[0 1 1.];\n",
    "                   [1 0 1.];\n",
    "                   [1 1 0.]]\n",
    "Si = ElementPsp(:Si, psp=load_psp(\"hgh/lda/Si-q4\"))\n",
    "atoms     = [Si, Si]\n",
    "positions = [ones(3)/8, -ones(3)/8]\n",
    "\n",
    "model = model_LDA(lattice, atoms, positions)\n",
    "basis = PlaneWaveBasis(model; Ecut=5, kgrid=[3, 3, 3])\n",
    "\n",
    "# Convergence we desire\n",
    "tol = 1e-12\n",
    "is_converged = DFTK.ScfConvergenceDensity(tol);"
   ],
   "metadata": {},
   "execution_count": 1
  },
  {
   "cell_type": "markdown",
   "source": [
    "## Density-based self-consistent field"
   ],
   "metadata": {}
  },
  {
   "outputs": [
    {
     "name": "stdout",
     "output_type": "stream",
     "text": [
      "n     Energy            log10(ΔE)   log10(Δρ)   Diag\n",
      "---   ---------------   ---------   ---------   ----\n",
      "  1   -7.846811572598                   -0.70    4.2\n",
      "  2   -7.852286557855       -2.26       -1.53    1.0\n",
      "  3   -7.852645982290       -3.44       -2.53    3.0\n",
      "  4   -7.852646677099       -6.16       -3.38    2.5\n",
      "  5   -7.852646685921       -8.05       -4.76    1.5\n",
      "  6   -7.852646686725       -9.10       -5.20    4.0\n",
      "  7   -7.852646686730      -11.32       -5.95    2.0\n",
      "  8   -7.852646686730      -12.62       -7.62    1.8\n",
      "  9   -7.852646686730   +    -Inf       -7.60    2.8\n",
      " 10   -7.852646686730      -14.75       -8.81    2.0\n",
      " 11   -7.852646686730   +    -Inf      -10.31    2.5\n",
      " 12   -7.852646686730   +    -Inf      -10.29    1.8\n",
      " 13   -7.852646686730   +    -Inf      -11.58    2.0\n",
      " 14   -7.852646686730   +    -Inf      -12.33    3.0\n"
     ]
    }
   ],
   "cell_type": "code",
   "source": [
    "scfres_scf = self_consistent_field(basis; is_converged);"
   ],
   "metadata": {},
   "execution_count": 2
  },
  {
   "cell_type": "markdown",
   "source": [
    "## Potential-based SCF"
   ],
   "metadata": {}
  },
  {
   "outputs": [
    {
     "name": "stdout",
     "output_type": "stream",
     "text": [
      "n     Energy            log10(ΔE)   log10(Δρ)   α      Diag\n",
      "---   ---------------   ---------   ---------   ----   ----\n",
      "  1   -7.846780943025                   -0.70           4.5\n",
      "  2   -7.852523356273       -2.24       -1.64   0.80    2.2\n",
      "  3   -7.852635324646       -3.95       -2.72   0.80    1.0\n",
      "  4   -7.852646482072       -4.95       -3.22   0.80    2.0\n",
      "  5   -7.852646672172       -6.72       -4.05   0.80    1.5\n",
      "  6   -7.852646686387       -7.85       -4.78   0.80    1.5\n",
      "  7   -7.852646686718       -9.48       -5.62   0.80    2.0\n",
      "  8   -7.852646686730      -10.94       -7.01   0.80    2.0\n",
      "  9   -7.852646686730      -12.71       -7.27   0.80    3.0\n",
      " 10   -7.852646686730   +  -14.75       -8.04   0.80    1.0\n",
      " 11   -7.852646686730      -14.27       -8.46   0.80    2.0\n",
      " 12   -7.852646686730   +  -14.45       -9.13   0.80    1.2\n",
      " 13   -7.852646686730   +    -Inf       -9.58   0.80    2.2\n",
      " 14   -7.852646686730   +  -14.75      -10.97   0.80    1.2\n",
      " 15   -7.852646686730      -14.45      -11.17   0.80    2.5\n",
      " 16   -7.852646686730   +  -14.45      -11.81   0.80    1.0\n",
      " 17   -7.852646686730      -14.45      -12.64   0.80    1.0\n"
     ]
    }
   ],
   "cell_type": "code",
   "source": [
    "scfres_scfv = DFTK.scf_potential_mixing(basis; is_converged);"
   ],
   "metadata": {},
   "execution_count": 3
  },
  {
   "cell_type": "markdown",
   "source": [
    "## Direct minimization"
   ],
   "metadata": {}
  },
  {
   "outputs": [
    {
     "name": "stdout",
     "output_type": "stream",
     "text": [
      "Iter     Function value   Gradient norm \n",
      "     0     1.412976e+01     3.587663e+00\n",
      " * time: 0.39490294456481934\n",
      "     1     1.085646e+00     1.968111e+00\n",
      " * time: 0.5905249118804932\n",
      "     2    -1.737782e+00     1.943858e+00\n",
      " * time: 0.6136119365692139\n",
      "     3    -3.704627e+00     1.766677e+00\n",
      " * time: 0.6465868949890137\n",
      "     4    -5.113320e+00     1.519755e+00\n",
      " * time: 0.6796128749847412\n",
      "     5    -6.622301e+00     1.145451e+00\n",
      " * time: 0.712993860244751\n",
      "     6    -7.352095e+00     6.554711e-01\n",
      " * time: 0.746006965637207\n",
      "     7    -7.617213e+00     3.631565e-01\n",
      " * time: 0.7689058780670166\n",
      "     8    -7.720524e+00     1.281307e-01\n",
      " * time: 0.7921009063720703\n",
      "     9    -7.765364e+00     2.214731e-01\n",
      " * time: 0.8152530193328857\n",
      "    10    -7.801816e+00     7.761197e-02\n",
      " * time: 0.8385410308837891\n",
      "    11    -7.828809e+00     6.880180e-02\n",
      " * time: 0.8614909648895264\n",
      "    12    -7.841190e+00     5.079711e-02\n",
      " * time: 0.8849289417266846\n",
      "    13    -7.845306e+00     5.990287e-02\n",
      " * time: 0.9079399108886719\n",
      "    14    -7.845639e+00     5.797065e-02\n",
      " * time: 0.9408140182495117\n",
      "    15    -7.846164e+00     4.033522e-02\n",
      " * time: 0.9736039638519287\n",
      "    16    -7.848532e+00     4.277104e-02\n",
      " * time: 0.9968938827514648\n",
      "    17    -7.851107e+00     1.747773e-02\n",
      " * time: 1.0197169780731201\n",
      "    18    -7.852264e+00     1.453629e-02\n",
      " * time: 1.0425539016723633\n",
      "    19    -7.852459e+00     7.657947e-03\n",
      " * time: 1.0656449794769287\n",
      "    20    -7.852587e+00     7.387883e-03\n",
      " * time: 1.0887980461120605\n",
      "    21    -7.852635e+00     3.320804e-03\n",
      " * time: 1.1117489337921143\n",
      "    22    -7.852643e+00     2.244248e-03\n",
      " * time: 1.1345880031585693\n",
      "    23    -7.852646e+00     1.006999e-03\n",
      " * time: 1.1574039459228516\n",
      "    24    -7.852646e+00     3.949817e-04\n",
      " * time: 1.1813080310821533\n",
      "    25    -7.852647e+00     3.512145e-04\n",
      " * time: 1.2051279544830322\n",
      "    26    -7.852647e+00     2.311779e-04\n",
      " * time: 1.2291760444641113\n",
      "    27    -7.852647e+00     1.704172e-04\n",
      " * time: 1.2527508735656738\n",
      "    28    -7.852647e+00     4.390905e-05\n",
      " * time: 1.2763850688934326\n",
      "    29    -7.852647e+00     3.368553e-05\n",
      " * time: 1.2996759414672852\n",
      "    30    -7.852647e+00     3.314492e-05\n",
      " * time: 1.323472023010254\n",
      "    31    -7.852647e+00     1.346511e-05\n",
      " * time: 1.3470048904418945\n",
      "    32    -7.852647e+00     6.601974e-06\n",
      " * time: 1.3701870441436768\n",
      "    33    -7.852647e+00     3.954272e-06\n",
      " * time: 1.3936810493469238\n",
      "    34    -7.852647e+00     2.152833e-06\n",
      " * time: 1.4170150756835938\n",
      "    35    -7.852647e+00     1.452819e-06\n",
      " * time: 1.4401168823242188\n",
      "    36    -7.852647e+00     9.132118e-07\n",
      " * time: 1.4632408618927002\n",
      "    37    -7.852647e+00     5.183163e-07\n",
      " * time: 1.4861528873443604\n",
      "    38    -7.852647e+00     4.281313e-07\n",
      " * time: 1.5682668685913086\n",
      "    39    -7.852647e+00     2.560144e-07\n",
      " * time: 1.5917088985443115\n",
      "    40    -7.852647e+00     8.792528e-08\n",
      " * time: 1.615541934967041\n",
      "    41    -7.852647e+00     4.415809e-08\n",
      " * time: 1.6399948596954346\n",
      "    42    -7.852647e+00     2.057179e-08\n",
      " * time: 1.664219856262207\n",
      "    43    -7.852647e+00     1.387436e-08\n",
      " * time: 1.6886000633239746\n",
      "    44    -7.852647e+00     1.152084e-08\n",
      " * time: 1.7125630378723145\n",
      "    45    -7.852647e+00     6.406354e-09\n",
      " * time: 1.7365350723266602\n",
      "    46    -7.852647e+00     6.216513e-09\n",
      " * time: 1.782315969467163\n",
      "    47    -7.852647e+00     2.193219e-09\n",
      " * time: 1.8063230514526367\n",
      "    48    -7.852647e+00     2.409451e-09\n",
      " * time: 1.8304240703582764\n"
     ]
    }
   ],
   "cell_type": "code",
   "source": [
    "scfres_dm = direct_minimization(basis; tol);"
   ],
   "metadata": {},
   "execution_count": 4
  },
  {
   "cell_type": "markdown",
   "source": [
    "## Newton algorithm"
   ],
   "metadata": {}
  },
  {
   "cell_type": "markdown",
   "source": [
    "Start not too far from the solution to ensure convergence:\n",
    "We run first a very crude SCF to get close and then switch to Newton."
   ],
   "metadata": {}
  },
  {
   "outputs": [
    {
     "name": "stdout",
     "output_type": "stream",
     "text": [
      "n     Energy            log10(ΔE)   log10(Δρ)   Diag\n",
      "---   ---------------   ---------   ---------   ----\n",
      "  1   -7.846803339538                   -0.70    5.0\n",
      "  2   -7.852320332668       -2.26       -1.53    1.0\n"
     ]
    }
   ],
   "cell_type": "code",
   "source": [
    "scfres_start = self_consistent_field(basis; tol=1e-1);"
   ],
   "metadata": {},
   "execution_count": 5
  },
  {
   "cell_type": "markdown",
   "source": [
    "Remove the virtual orbitals (which Newton cannot treat yet)"
   ],
   "metadata": {}
  },
  {
   "outputs": [
    {
     "name": "stdout",
     "output_type": "stream",
     "text": [
      "n     Energy            log10(ΔE)   log10(Δρ)\n",
      "---   ---------------   ---------   ---------\n",
      "  1   -7.852646686712                   -2.54\n",
      "  2   -7.852646686730      -10.74       -5.97\n",
      "  3   -7.852646686730      -15.05      -12.70\n"
     ]
    }
   ],
   "cell_type": "code",
   "source": [
    "ψ = DFTK.select_occupied_orbitals(basis, scfres_start.ψ, scfres_start.occupation).ψ\n",
    "scfres_newton = newton(basis, ψ; tol);"
   ],
   "metadata": {},
   "execution_count": 6
  },
  {
   "cell_type": "markdown",
   "source": [
    "## Comparison of results"
   ],
   "metadata": {}
  },
  {
   "outputs": [
    {
     "name": "stdout",
     "output_type": "stream",
     "text": [
      "|ρ_newton - ρ_scf|  = 3.414926473789687e-13\n",
      "|ρ_newton - ρ_scfv| = 3.1321987486148424e-13\n",
      "|ρ_newton - ρ_dm|   = 2.3898025591069963e-10\n"
     ]
    }
   ],
   "cell_type": "code",
   "source": [
    "println(\"|ρ_newton - ρ_scf|  = \", norm(scfres_newton.ρ - scfres_scf.ρ))\n",
    "println(\"|ρ_newton - ρ_scfv| = \", norm(scfres_newton.ρ - scfres_scfv.ρ))\n",
    "println(\"|ρ_newton - ρ_dm|   = \", norm(scfres_newton.ρ - scfres_dm.ρ))"
   ],
   "metadata": {},
   "execution_count": 7
  }
 ],
 "nbformat_minor": 3,
 "metadata": {
  "language_info": {
   "file_extension": ".jl",
   "mimetype": "application/julia",
   "name": "julia",
   "version": "1.8.2"
  },
  "kernelspec": {
   "name": "julia-1.8",
   "display_name": "Julia 1.8.2",
   "language": "julia"
  }
 },
 "nbformat": 4
}
