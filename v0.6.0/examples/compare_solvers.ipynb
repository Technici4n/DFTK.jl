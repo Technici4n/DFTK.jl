{
 "cells": [
  {
   "cell_type": "markdown",
   "source": [
    "# Comparison of DFT solvers"
   ],
   "metadata": {}
  },
  {
   "cell_type": "markdown",
   "source": [
    "We compare four different approaches for solving the DFT minimisation problem,\n",
    "namely a density-based SCF, a potential-based SCF, direct minimisation and Newton."
   ],
   "metadata": {}
  },
  {
   "cell_type": "markdown",
   "source": [
    "First we setup our problem"
   ],
   "metadata": {}
  },
  {
   "outputs": [
    {
     "output_type": "execute_result",
     "data": {
      "text/plain": "1.0e-6"
     },
     "metadata": {},
     "execution_count": 1
    }
   ],
   "cell_type": "code",
   "source": [
    "using DFTK\n",
    "using LinearAlgebra\n",
    "\n",
    "a = 10.26  # Silicon lattice constant in Bohr\n",
    "lattice = a / 2 * [[0 1 1.];\n",
    "                   [1 0 1.];\n",
    "                   [1 1 0.]]\n",
    "Si = ElementPsp(:Si, psp=load_psp(\"hgh/lda/Si-q4\"))\n",
    "atoms     = [Si, Si]\n",
    "positions = [ones(3)/8, -ones(3)/8]\n",
    "\n",
    "model = model_LDA(lattice, atoms, positions)\n",
    "basis = PlaneWaveBasis(model; Ecut=5, kgrid=[3, 3, 3])\n",
    "\n",
    "# Convergence we desire in the density\n",
    "tol = 1e-6"
   ],
   "metadata": {},
   "execution_count": 1
  },
  {
   "cell_type": "markdown",
   "source": [
    "## Density-based self-consistent field"
   ],
   "metadata": {}
  },
  {
   "outputs": [
    {
     "name": "stdout",
     "output_type": "stream",
     "text": [
      "n     Energy            log10(ΔE)   log10(Δρ)   Diag\n",
      "---   ---------------   ---------   ---------   ----\n",
      "  1   -7.846841818608                   -0.70    4.5\n",
      "  2   -7.852307996201       -2.26       -1.53    1.0\n",
      "  3   -7.852615645775       -3.51       -2.56    1.5\n",
      "  4   -7.852645956332       -4.52       -2.89    2.5\n",
      "  5   -7.852646511306       -6.26       -3.20    1.2\n",
      "  6   -7.852646679268       -6.77       -4.07    1.0\n",
      "  7   -7.852646686691       -8.13       -5.28    2.2\n",
      "  8   -7.852646686725      -10.46       -5.48    1.8\n",
      "  9   -7.852646686727      -11.73       -5.56    1.2\n",
      " 10   -7.852646686730      -11.59       -6.75    1.0\n"
     ]
    }
   ],
   "cell_type": "code",
   "source": [
    "scfres_scf = self_consistent_field(basis; tol);"
   ],
   "metadata": {},
   "execution_count": 2
  },
  {
   "cell_type": "markdown",
   "source": [
    "## Potential-based SCF"
   ],
   "metadata": {}
  },
  {
   "outputs": [
    {
     "name": "stdout",
     "output_type": "stream",
     "text": [
      "n     Energy            log10(ΔE)   log10(Δρ)   α      Diag\n",
      "---   ---------------   ---------   ---------   ----   ----\n",
      "  1   -7.846775178548                   -0.70           4.5\n",
      "  2   -7.852551901121       -2.24       -1.63   0.80    2.2\n",
      "  3   -7.852640000360       -4.06       -2.71   0.80    1.0\n",
      "  4   -7.852646420166       -5.19       -3.40   0.80    1.8\n",
      "  5   -7.852646682312       -6.58       -4.24   0.80    2.2\n",
      "  6   -7.852646686614       -8.37       -4.83   0.80    1.8\n",
      "  7   -7.852646686718       -9.98       -5.80   0.80    1.2\n",
      "  8   -7.852646686730      -10.94       -6.28   0.80    2.5\n"
     ]
    }
   ],
   "cell_type": "code",
   "source": [
    "scfres_scfv = DFTK.scf_potential_mixing(basis; tol);"
   ],
   "metadata": {},
   "execution_count": 3
  },
  {
   "cell_type": "markdown",
   "source": [
    "## Direct minimization\n",
    "Note: Unlike the other algorithms, tolerance for this one is in the energy,\n",
    "thus we square the density tolerance value to be roughly equivalent."
   ],
   "metadata": {}
  },
  {
   "outputs": [
    {
     "name": "stdout",
     "output_type": "stream",
     "text": [
      "Iter     Function value   Gradient norm \n",
      "     0     1.352738e+01     3.708230e+00\n",
      " * time: 0.43405818939208984\n",
      "     1     1.610146e+00     1.927271e+00\n",
      " * time: 0.6559610366821289\n",
      "     2    -1.547074e+00     2.314557e+00\n",
      " * time: 0.6835250854492188\n",
      "     3    -3.603128e+00     1.771096e+00\n",
      " * time: 0.724567174911499\n",
      "     4    -5.009949e+00     1.461763e+00\n",
      " * time: 0.7645220756530762\n",
      "     5    -6.631694e+00     1.082323e+00\n",
      " * time: 0.803901195526123\n",
      "     6    -7.311454e+00     6.447777e-01\n",
      " * time: 0.8435850143432617\n",
      "     7    -7.590539e+00     5.265649e-01\n",
      " * time: 0.8713021278381348\n",
      "     8    -7.720535e+00     8.002090e-02\n",
      " * time: 0.8988971710205078\n",
      "     9    -7.758775e+00     1.817943e-01\n",
      " * time: 0.9267120361328125\n",
      "    10    -7.785797e+00     9.025668e-02\n",
      " * time: 0.9540691375732422\n",
      "    11    -7.802759e+00     9.845955e-02\n",
      " * time: 0.9816880226135254\n",
      "    12    -7.822301e+00     6.953764e-02\n",
      " * time: 1.009505033493042\n",
      "    13    -7.834289e+00     5.570577e-02\n",
      " * time: 1.0372660160064697\n",
      "    14    -7.842978e+00     4.501397e-02\n",
      " * time: 1.0644361972808838\n",
      "    15    -7.847446e+00     4.467058e-02\n",
      " * time: 1.0920510292053223\n",
      "    16    -7.850334e+00     2.347032e-02\n",
      " * time: 1.119271993637085\n",
      "    17    -7.851611e+00     1.462241e-02\n",
      " * time: 1.1466891765594482\n",
      "    18    -7.852222e+00     1.088591e-02\n",
      " * time: 1.1740050315856934\n",
      "    19    -7.852459e+00     7.442304e-03\n",
      " * time: 1.2013700008392334\n",
      "    20    -7.852587e+00     3.228506e-03\n",
      " * time: 1.229168176651001\n",
      "    21    -7.852632e+00     2.839919e-03\n",
      " * time: 1.256566047668457\n",
      "    22    -7.852642e+00     1.719446e-03\n",
      " * time: 1.283830165863037\n",
      "    23    -7.852645e+00     6.884201e-04\n",
      " * time: 1.3113231658935547\n",
      "    24    -7.852646e+00     4.624798e-04\n",
      " * time: 1.3386499881744385\n",
      "    25    -7.852646e+00     3.509049e-04\n",
      " * time: 1.3660831451416016\n",
      "    26    -7.852647e+00     1.741768e-04\n",
      " * time: 1.3933210372924805\n",
      "    27    -7.852647e+00     9.070795e-05\n",
      " * time: 1.4208459854125977\n",
      "    28    -7.852647e+00     5.646102e-05\n",
      " * time: 1.4479961395263672\n",
      "    29    -7.852647e+00     4.623151e-05\n",
      " * time: 1.4753170013427734\n",
      "    30    -7.852647e+00     2.472812e-05\n",
      " * time: 1.5025460720062256\n",
      "    31    -7.852647e+00     1.172975e-05\n",
      " * time: 1.5302860736846924\n",
      "    32    -7.852647e+00     6.159589e-06\n",
      " * time: 1.557753086090088\n",
      "    33    -7.852647e+00     2.392777e-06\n",
      " * time: 1.5854361057281494\n",
      "    34    -7.852647e+00     1.499205e-06\n",
      " * time: 1.68107008934021\n",
      "    35    -7.852647e+00     9.889741e-07\n",
      " * time: 1.7085649967193604\n",
      "    36    -7.852647e+00     6.920643e-07\n",
      " * time: 1.736396074295044\n",
      "    37    -7.852647e+00     4.684592e-07\n",
      " * time: 1.7641680240631104\n",
      "    38    -7.852647e+00     2.293421e-07\n",
      " * time: 1.7918310165405273\n",
      "    39    -7.852647e+00     1.192678e-07\n",
      " * time: 1.8195641040802002\n",
      "    40    -7.852647e+00     6.654915e-08\n",
      " * time: 1.8466429710388184\n",
      "    41    -7.852647e+00     4.731035e-08\n",
      " * time: 1.8741891384124756\n",
      "    42    -7.852647e+00     2.635339e-08\n",
      " * time: 1.9012370109558105\n",
      "    43    -7.852647e+00     2.054143e-08\n",
      " * time: 1.9531850814819336\n",
      "    44    -7.852647e+00     2.054136e-08\n",
      " * time: 2.067552089691162\n"
     ]
    }
   ],
   "cell_type": "code",
   "source": [
    "scfres_dm = direct_minimization(basis; tol=tol^2);"
   ],
   "metadata": {},
   "execution_count": 4
  },
  {
   "cell_type": "markdown",
   "source": [
    "## Newton algorithm"
   ],
   "metadata": {}
  },
  {
   "cell_type": "markdown",
   "source": [
    "Start not too far from the solution to ensure convergence:\n",
    "We run first a very crude SCF to get close and then switch to Newton."
   ],
   "metadata": {}
  },
  {
   "outputs": [
    {
     "name": "stdout",
     "output_type": "stream",
     "text": [
      "n     Energy            log10(ΔE)   log10(Δρ)   Diag\n",
      "---   ---------------   ---------   ---------   ----\n",
      "  1   -7.846682371935                   -0.70    4.2\n"
     ]
    }
   ],
   "cell_type": "code",
   "source": [
    "scfres_start = self_consistent_field(basis; tol=0.5);"
   ],
   "metadata": {},
   "execution_count": 5
  },
  {
   "cell_type": "markdown",
   "source": [
    "Remove the virtual orbitals (which Newton cannot treat yet)"
   ],
   "metadata": {}
  },
  {
   "outputs": [
    {
     "name": "stdout",
     "output_type": "stream",
     "text": [
      "n     Energy            log10(ΔE)   log10(Δρ)\n",
      "---   ---------------   ---------   ---------\n",
      "  1   -7.852645789188                   -1.64\n",
      "  2   -7.852646686730       -6.05       -3.70\n",
      "  3   -7.852646686730      -13.04       -7.15\n"
     ]
    }
   ],
   "cell_type": "code",
   "source": [
    "ψ = DFTK.select_occupied_orbitals(basis, scfres_start.ψ, scfres_start.occupation).ψ\n",
    "scfres_newton = newton(basis, ψ; tol);"
   ],
   "metadata": {},
   "execution_count": 6
  },
  {
   "cell_type": "markdown",
   "source": [
    "## Comparison of results"
   ],
   "metadata": {}
  },
  {
   "outputs": [
    {
     "name": "stdout",
     "output_type": "stream",
     "text": [
      "|ρ_newton - ρ_scf|  = 2.595961232655167e-7\n",
      "|ρ_newton - ρ_scfv| = 2.12595950822635e-7\n",
      "|ρ_newton - ρ_dm|   = 2.4720602321336543e-9\n"
     ]
    }
   ],
   "cell_type": "code",
   "source": [
    "println(\"|ρ_newton - ρ_scf|  = \", norm(scfres_newton.ρ - scfres_scf.ρ))\n",
    "println(\"|ρ_newton - ρ_scfv| = \", norm(scfres_newton.ρ - scfres_scfv.ρ))\n",
    "println(\"|ρ_newton - ρ_dm|   = \", norm(scfres_newton.ρ - scfres_dm.ρ))"
   ],
   "metadata": {},
   "execution_count": 7
  }
 ],
 "nbformat_minor": 3,
 "metadata": {
  "language_info": {
   "file_extension": ".jl",
   "mimetype": "application/julia",
   "name": "julia",
   "version": "1.8.3"
  },
  "kernelspec": {
   "name": "julia-1.8",
   "display_name": "Julia 1.8.3",
   "language": "julia"
  }
 },
 "nbformat": 4
}
