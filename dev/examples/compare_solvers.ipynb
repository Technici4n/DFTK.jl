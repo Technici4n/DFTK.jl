{
 "cells": [
  {
   "cell_type": "markdown",
   "source": [
    "# Comparison of DFT solvers"
   ],
   "metadata": {}
  },
  {
   "cell_type": "markdown",
   "source": [
    "We compare four different approaches for solving the DFT minimisation problem,\n",
    "namely a density-based SCF, a potential-based SCF, direct minimisation and Newton."
   ],
   "metadata": {}
  },
  {
   "cell_type": "markdown",
   "source": [
    "First we setup our problem"
   ],
   "metadata": {}
  },
  {
   "outputs": [],
   "cell_type": "code",
   "source": [
    "using DFTK\n",
    "using LinearAlgebra\n",
    "\n",
    "a = 10.26  # Silicon lattice constant in Bohr\n",
    "lattice = a / 2 * [[0 1 1.];\n",
    "                   [1 0 1.];\n",
    "                   [1 1 0.]]\n",
    "Si = ElementPsp(:Si, psp=load_psp(\"hgh/lda/Si-q4\"))\n",
    "atoms     = [Si, Si]\n",
    "positions = [ones(3)/8, -ones(3)/8]\n",
    "\n",
    "model = model_LDA(lattice, atoms, positions)\n",
    "basis = PlaneWaveBasis(model; Ecut=5, kgrid=[3, 3, 3])\n",
    "\n",
    "# Convergence we desire\n",
    "tol = 1e-12\n",
    "is_converged = DFTK.ScfConvergenceDensity(tol);"
   ],
   "metadata": {},
   "execution_count": 1
  },
  {
   "cell_type": "markdown",
   "source": [
    "## Density-based self-consistent field"
   ],
   "metadata": {}
  },
  {
   "outputs": [
    {
     "name": "stdout",
     "output_type": "stream",
     "text": [
      "n     Energy            log10(ΔE)   log10(Δρ)   Diag\n",
      "---   ---------------   ---------   ---------   ----\n",
      "  1   -7.846736109937                   -0.70    4.0\n",
      "  2   -7.852277286690       -2.26       -1.53    1.0\n",
      "  3   -7.852645974077       -3.43       -2.53    3.5\n",
      "  4   -7.852646677653       -6.15       -3.33    2.8\n",
      "  5   -7.852646686116       -8.07       -4.75    1.2\n",
      "  6   -7.852646686728       -9.21       -5.37    3.5\n",
      "  7   -7.852646686730      -11.74       -6.06    1.0\n",
      "  8   -7.852646686730      -12.69       -7.43    2.2\n",
      "  9   -7.852646686730   +    -Inf       -7.73    3.0\n",
      " 10   -7.852646686730   +    -Inf       -8.39    1.0\n",
      " 11   -7.852646686730      -15.05       -9.70    2.5\n",
      " 12   -7.852646686730   +  -14.57       -8.62    1.0\n",
      " 13   -7.852646686730      -14.45       -8.37    1.0\n",
      " 14   -7.852646686730   +  -14.75       -8.85    1.0\n",
      " 15   -7.852646686730      -14.75       -8.65    1.0\n",
      " 16   -7.852646686730   +  -14.57       -8.70    1.0\n",
      " 17   -7.852646686730   +  -14.57       -9.64    1.0\n",
      " 18   -7.852646686730      -14.27       -8.43    1.0\n",
      " 19   -7.852646686730   +  -14.75      -10.00    1.0\n",
      " 20   -7.852646686730      -14.75      -10.83    3.0\n",
      " 21   -7.852646686730   +    -Inf      -10.69    1.0\n",
      " 22   -7.852646686730   +    -Inf      -10.89    1.0\n",
      " 23   -7.852646686730   +  -14.75      -10.90    1.0\n",
      " 24   -7.852646686730      -14.45      -11.11    1.0\n",
      " 25   -7.852646686730   +  -14.45      -10.82    1.8\n",
      " 26   -7.852646686730      -14.57      -12.17    2.2\n"
     ]
    }
   ],
   "cell_type": "code",
   "source": [
    "scfres_scf = self_consistent_field(basis; is_converged);"
   ],
   "metadata": {},
   "execution_count": 2
  },
  {
   "cell_type": "markdown",
   "source": [
    "## Potential-based SCF"
   ],
   "metadata": {}
  },
  {
   "outputs": [
    {
     "name": "stdout",
     "output_type": "stream",
     "text": [
      "n     Energy            log10(ΔE)   log10(Δρ)   α      Diag\n",
      "---   ---------------   ---------   ---------   ----   ----\n",
      "  1   -7.846826185617                   -0.70           4.0\n",
      "  2   -7.852525872386       -2.24       -1.62   0.80    5.0\n",
      "  3   -7.852610756907       -4.07       -2.78   0.80    5.2\n",
      "  4   -7.852646569771       -4.45       -3.55   0.80    7.2\n",
      "  5   -7.852646683550       -6.94       -4.49   0.80    8.8\n",
      "  6   -7.852646686666       -8.51       -5.10   0.80   10.2\n",
      "  7   -7.852646686725      -10.24       -6.19   0.80   11.5\n",
      "  8   -7.852646686730      -11.28       -7.25   0.80   13.5\n",
      "  9   -7.852646686730      -13.52       -7.68   0.80   15.8\n",
      " 10   -7.852646686730      -14.27       -9.53   0.80   15.8\n",
      " 11   -7.852646686730   +  -14.45       -9.74   0.80   19.5\n",
      " 12   -7.852646686730   +    -Inf      -10.31   0.80   19.5\n",
      " 13   -7.852646686730      -14.27      -11.82   0.80   20.0\n",
      " 14   -7.852646686730   +  -14.45      -11.87   0.80   23.5\n",
      " 15   -7.852646686730   +  -14.75      -13.41   0.80   24.0\n"
     ]
    }
   ],
   "cell_type": "code",
   "source": [
    "scfres_scfv = DFTK.scf_potential_mixing(basis; is_converged);"
   ],
   "metadata": {},
   "execution_count": 3
  },
  {
   "cell_type": "markdown",
   "source": [
    "## Direct minimization"
   ],
   "metadata": {}
  },
  {
   "outputs": [
    {
     "name": "stdout",
     "output_type": "stream",
     "text": [
      "Iter     Function value   Gradient norm \n",
      "     0     1.413460e+01     3.037528e+00\n",
      " * time: 0.5841071605682373\n",
      "     1     8.892430e-01     1.936676e+00\n",
      " * time: 0.8692631721496582\n",
      "     2    -1.867267e+00     2.353001e+00\n",
      " * time: 0.8995821475982666\n",
      "     3    -3.869565e+00     1.906856e+00\n",
      " * time: 0.9437651634216309\n",
      "     4    -5.299142e+00     1.649818e+00\n",
      " * time: 0.9869821071624756\n",
      "     5    -6.824661e+00     8.529749e-01\n",
      " * time: 1.0297811031341553\n",
      "     6    -7.356323e+00     3.818479e-01\n",
      " * time: 1.0730690956115723\n",
      "     7    -7.539289e+00     1.531567e-01\n",
      " * time: 1.1031250953674316\n",
      "     8    -7.651837e+00     1.540889e-01\n",
      " * time: 1.3537781238555908\n",
      "     9    -7.756935e+00     1.328065e-01\n",
      " * time: 1.3837950229644775\n",
      "    10    -7.812454e+00     9.057374e-02\n",
      " * time: 1.4142351150512695\n",
      "    11    -7.838072e+00     5.206039e-02\n",
      " * time: 1.4444360733032227\n",
      "    12    -7.845638e+00     4.708996e-02\n",
      " * time: 1.4751110076904297\n",
      "    13    -7.848876e+00     3.492065e-02\n",
      " * time: 1.505113124847412\n",
      "    14    -7.850430e+00     2.513554e-02\n",
      " * time: 1.5348351001739502\n",
      "    15    -7.851745e+00     1.181983e-02\n",
      " * time: 1.5643820762634277\n",
      "    16    -7.852308e+00     7.719402e-03\n",
      " * time: 1.5954020023345947\n",
      "    17    -7.852534e+00     4.257001e-03\n",
      " * time: 1.625669002532959\n",
      "    18    -7.852614e+00     3.677505e-03\n",
      " * time: 1.6558799743652344\n",
      "    19    -7.852639e+00     1.457057e-03\n",
      " * time: 1.6865999698638916\n",
      "    20    -7.852645e+00     6.046018e-04\n",
      " * time: 1.7164671421051025\n",
      "    21    -7.852646e+00     3.329972e-04\n",
      " * time: 1.7468719482421875\n",
      "    22    -7.852646e+00     2.018160e-04\n",
      " * time: 1.7798290252685547\n",
      "    23    -7.852647e+00     1.381422e-04\n",
      " * time: 1.8100440502166748\n",
      "    24    -7.852647e+00     8.742248e-05\n",
      " * time: 1.8403520584106445\n",
      "    25    -7.852647e+00     5.578937e-05\n",
      " * time: 1.8705761432647705\n",
      "    26    -7.852647e+00     2.795407e-05\n",
      " * time: 1.9007251262664795\n",
      "    27    -7.852647e+00     1.797726e-05\n",
      " * time: 1.9329321384429932\n",
      "    28    -7.852647e+00     1.526945e-05\n",
      " * time: 1.9633450508117676\n",
      "    29    -7.852647e+00     9.332569e-06\n",
      " * time: 1.9937851428985596\n",
      "    30    -7.852647e+00     2.603689e-06\n",
      " * time: 2.027052164077759\n",
      "    31    -7.852647e+00     1.676518e-06\n",
      " * time: 2.0579590797424316\n",
      "    32    -7.852647e+00     1.375724e-06\n",
      " * time: 2.0891029834747314\n",
      "    33    -7.852647e+00     6.179602e-07\n",
      " * time: 2.120455026626587\n",
      "    34    -7.852647e+00     3.904479e-07\n",
      " * time: 2.150918960571289\n",
      "    35    -7.852647e+00     2.275755e-07\n",
      " * time: 2.181481122970581\n",
      "    36    -7.852647e+00     1.056453e-07\n",
      " * time: 2.2120001316070557\n",
      "    37    -7.852647e+00     7.280345e-08\n",
      " * time: 2.242741107940674\n",
      "    38    -7.852647e+00     3.477133e-08\n",
      " * time: 2.2761290073394775\n",
      "    39    -7.852647e+00     2.404215e-08\n",
      " * time: 2.306450128555298\n",
      "    40    -7.852647e+00     1.431189e-08\n",
      " * time: 2.3430001735687256\n",
      "    41    -7.852647e+00     9.242163e-09\n",
      " * time: 2.373600959777832\n",
      "    42    -7.852647e+00     6.299219e-09\n",
      " * time: 2.417117118835449\n",
      "    43    -7.852647e+00     6.299156e-09\n",
      " * time: 2.510899066925049\n"
     ]
    }
   ],
   "cell_type": "code",
   "source": [
    "scfres_dm = direct_minimization(basis; tol);"
   ],
   "metadata": {},
   "execution_count": 4
  },
  {
   "cell_type": "markdown",
   "source": [
    "## Newton algorithm"
   ],
   "metadata": {}
  },
  {
   "cell_type": "markdown",
   "source": [
    "Start not too far from the solution to ensure convergence:\n",
    "We run first a very crude SCF to get close and then switch to Newton."
   ],
   "metadata": {}
  },
  {
   "outputs": [
    {
     "name": "stdout",
     "output_type": "stream",
     "text": [
      "n     Energy            log10(ΔE)   log10(Δρ)   Diag\n",
      "---   ---------------   ---------   ---------   ----\n",
      "  1   -7.846795725225                   -0.70    4.0\n",
      "  2   -7.852307397227       -2.26       -1.53    1.0\n"
     ]
    }
   ],
   "cell_type": "code",
   "source": [
    "scfres_start = self_consistent_field(basis; tol=1e-1);"
   ],
   "metadata": {},
   "execution_count": 5
  },
  {
   "cell_type": "markdown",
   "source": [
    "Remove the virtual orbitals (which Newton cannot treat yet)"
   ],
   "metadata": {}
  },
  {
   "outputs": [
    {
     "name": "stdout",
     "output_type": "stream",
     "text": [
      "n     Energy            log10(ΔE)   log10(Δρ)\n",
      "---   ---------------   ---------   ---------\n",
      "  1   -7.852646686677                   -2.54\n",
      "  2   -7.852646686730      -10.28       -5.79\n",
      "  3   -7.852646686730   +    -Inf      -12.22\n"
     ]
    }
   ],
   "cell_type": "code",
   "source": [
    "ψ, _ = DFTK.select_occupied_orbitals(basis, scfres_start.ψ, scfres_start.occupation)\n",
    "scfres_newton = newton(basis, ψ; tol);"
   ],
   "metadata": {},
   "execution_count": 6
  },
  {
   "cell_type": "markdown",
   "source": [
    "## Comparison of results"
   ],
   "metadata": {}
  },
  {
   "outputs": [
    {
     "name": "stdout",
     "output_type": "stream",
     "text": [
      "|ρ_newton - ρ_scf|  = 6.447116994467486e-13\n",
      "|ρ_newton - ρ_scfv| = 2.5260624653536675e-14\n",
      "|ρ_newton - ρ_dm|   = 1.0798539684111054e-9\n"
     ]
    }
   ],
   "cell_type": "code",
   "source": [
    "println(\"|ρ_newton - ρ_scf|  = \", norm(scfres_newton.ρ - scfres_scf.ρ))\n",
    "println(\"|ρ_newton - ρ_scfv| = \", norm(scfres_newton.ρ - scfres_scfv.ρ))\n",
    "println(\"|ρ_newton - ρ_dm|   = \", norm(scfres_newton.ρ - scfres_dm.ρ))"
   ],
   "metadata": {},
   "execution_count": 7
  }
 ],
 "nbformat_minor": 3,
 "metadata": {
  "language_info": {
   "file_extension": ".jl",
   "mimetype": "application/julia",
   "name": "julia",
   "version": "1.8.1"
  },
  "kernelspec": {
   "name": "julia-1.8",
   "display_name": "Julia 1.8.1",
   "language": "julia"
  }
 },
 "nbformat": 4
}
