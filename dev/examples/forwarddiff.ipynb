{
 "cells": [
  {
   "cell_type": "markdown",
   "source": [
    "# Polarizability using automatic differentiation\n",
    "\n",
    "Simple example for computing properties using (forward-mode)\n",
    "automatic differentiation.\n",
    "For a more classical approach and more details about computing polarizabilities,\n",
    "see Polarizability by linear response."
   ],
   "metadata": {}
  },
  {
   "outputs": [],
   "cell_type": "code",
   "source": [
    "using DFTK\n",
    "using LinearAlgebra\n",
    "using ForwardDiff\n",
    "\n",
    "# Construct PlaneWaveBasis given a particular electric field strength\n",
    "# Again we take the example of a Helium atom.\n",
    "function make_basis(ε::T; a=10., Ecut=30) where {T}\n",
    "    lattice=T(a) * I(3)  # lattice is a cube of $a$ Bohrs\n",
    "    # Helium at the center of the box\n",
    "    atoms     = [ElementPsp(:He, psp=load_psp(\"hgh/lda/He-q2\"))]\n",
    "    positions = [[1/2, 1/2, 1/2]]\n",
    "\n",
    "    model = model_DFT(lattice, atoms, positions, [:lda_x, :lda_c_vwn];\n",
    "                      extra_terms=[ExternalFromReal(r -> -ε * (r[1] - a/2))],\n",
    "                      symmetries=false)\n",
    "    PlaneWaveBasis(model; Ecut, kgrid=[1, 1, 1])  # No k-point sampling on isolated system\n",
    "end\n",
    "\n",
    "# dipole moment of a given density (assuming the current geometry)\n",
    "function dipole(basis, ρ)\n",
    "    @assert isdiag(basis.model.lattice)\n",
    "    a  = basis.model.lattice[1, 1]\n",
    "    rr = [a * (r[1] - 1/2) for r in r_vectors(basis)]\n",
    "    sum(rr .* ρ) * basis.dvol\n",
    "end\n",
    "\n",
    "# Function to compute the dipole for a given field strength\n",
    "function compute_dipole(ε; tol=1e-8, kwargs...)\n",
    "    scfres = self_consistent_field(make_basis(ε; kwargs...); tol)\n",
    "    dipole(scfres.basis, scfres.ρ)\n",
    "end;"
   ],
   "metadata": {},
   "execution_count": 1
  },
  {
   "cell_type": "markdown",
   "source": [
    "With this in place we can compute the polarizability from finite differences\n",
    "(just like in the previous example):"
   ],
   "metadata": {}
  },
  {
   "outputs": [
    {
     "name": "stdout",
     "output_type": "stream",
     "text": [
      "n     Energy            log10(ΔE)   log10(Δρ)   Diag   Δtime\n",
      "---   ---------------   ---------   ---------   ----   ------\n",
      "  1   -2.770932283655                   -0.52    8.0         \n",
      "  2   -2.772145630722       -2.92       -1.32    1.0    153ms\n",
      "  3   -2.772170208495       -4.61       -2.49    1.0    131ms\n",
      "  4   -2.772170656155       -6.35       -3.18    2.0    151ms\n",
      "  5   -2.772170722195       -7.18       -4.09    1.0    151ms\n",
      "  6   -2.772170722953       -9.12       -4.87    1.0    137ms\n",
      "  7   -2.772170723014      -10.21       -5.60    2.0    177ms\n",
      "  8   -2.772170723015      -12.22       -6.14    2.0    161ms\n",
      "  9   -2.772170723015      -13.70       -6.76    1.0    163ms\n",
      " 10   -2.772170723015   +  -13.91       -6.95    1.0    150ms\n",
      " 11   -2.772170723015      -14.10       -7.64    1.0    145ms\n",
      " 12   -2.772170723015   +  -14.12       -8.36    2.0    182ms\n",
      "n     Energy            log10(ΔE)   log10(Δρ)   Diag   Δtime\n",
      "---   ---------------   ---------   ---------   ----   ------\n",
      "  1   -2.770780553199                   -0.52    9.0         \n",
      "  2   -2.772060973177       -2.89       -1.32    1.0    131ms\n",
      "  3   -2.772083058031       -4.66       -2.45    1.0    131ms\n",
      "  4   -2.772083337472       -6.55       -3.13    1.0    171ms\n",
      "  5   -2.772083417069       -7.10       -4.06    2.0    154ms\n",
      "  6   -2.772083417654       -9.23       -4.52    1.0    136ms\n",
      "  7   -2.772083417808       -9.81       -5.74    1.0    155ms\n",
      "  8   -2.772083417810      -11.62       -5.82    2.0    159ms\n",
      "  9   -2.772083417811      -12.48       -7.02    1.0    159ms\n",
      " 10   -2.772083417811      -13.71       -7.76    2.0    166ms\n",
      " 11   -2.772083417811   +  -15.05       -8.00    2.0    163ms\n",
      " 12   -2.772083417811      -14.57       -8.98    1.0    163ms\n"
     ]
    },
    {
     "output_type": "execute_result",
     "data": {
      "text/plain": "1.7735580511599087"
     },
     "metadata": {},
     "execution_count": 2
    }
   ],
   "cell_type": "code",
   "source": [
    "polarizability_fd = let\n",
    "    ε = 0.01\n",
    "    (compute_dipole(ε) - compute_dipole(0.0)) / ε\n",
    "end"
   ],
   "metadata": {},
   "execution_count": 2
  },
  {
   "cell_type": "markdown",
   "source": [
    "We do the same thing using automatic differentiation. Under the hood this uses\n",
    "custom rules to implicitly differentiate through the self-consistent\n",
    "field fixed-point problem."
   ],
   "metadata": {}
  },
  {
   "outputs": [
    {
     "name": "stdout",
     "output_type": "stream",
     "text": [
      "n     Energy            log10(ΔE)   log10(Δρ)   Diag   Δtime\n",
      "---   ---------------   ---------   ---------   ----   ------\n",
      "  1   -2.770489838607                   -0.53    9.0         \n",
      "  2   -2.772054667979       -2.81       -1.29    1.0    196ms\n",
      "  3   -2.772082772574       -4.55       -2.70    1.0    132ms\n",
      "  4   -2.772083416199       -6.19       -3.99    2.0    166ms\n",
      "  5   -2.772083417767       -8.80       -4.83    1.0    169ms\n",
      "  6   -2.772083417810      -10.37       -5.49    2.0    156ms\n",
      "  7   -2.772083417811      -11.98       -6.15    1.0    139ms\n",
      "  8   -2.772083417811      -13.34       -7.15    1.0    169ms\n",
      "  9   -2.772083417811      -14.21       -7.44    2.0    167ms\n",
      " 10   -2.772083417811   +  -13.81       -8.89    1.0    167ms\n",
      "\n",
      "Polarizability via ForwardDiff:       1.772534972943695\n",
      "Polarizability via finite difference: 1.7735580511599087\n"
     ]
    }
   ],
   "cell_type": "code",
   "source": [
    "polarizability = ForwardDiff.derivative(compute_dipole, 0.0)\n",
    "println()\n",
    "println(\"Polarizability via ForwardDiff:       $polarizability\")\n",
    "println(\"Polarizability via finite difference: $polarizability_fd\")"
   ],
   "metadata": {},
   "execution_count": 3
  }
 ],
 "nbformat_minor": 3,
 "metadata": {
  "language_info": {
   "file_extension": ".jl",
   "mimetype": "application/julia",
   "name": "julia",
   "version": "1.8.5"
  },
  "kernelspec": {
   "name": "julia-1.8",
   "display_name": "Julia 1.8.5",
   "language": "julia"
  }
 },
 "nbformat": 4
}
