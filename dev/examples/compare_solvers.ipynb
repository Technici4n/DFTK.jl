{
 "cells": [
  {
   "cell_type": "markdown",
   "source": [
    "# Comparison of DFT solvers"
   ],
   "metadata": {}
  },
  {
   "cell_type": "markdown",
   "source": [
    "We compare four different approaches for solving the DFT minimisation problem,\n",
    "namely a density-based SCF, a potential-based SCF, direct minimisation and Newton."
   ],
   "metadata": {}
  },
  {
   "cell_type": "markdown",
   "source": [
    "First we setup our problem"
   ],
   "metadata": {}
  },
  {
   "outputs": [],
   "cell_type": "code",
   "source": [
    "using DFTK\n",
    "using LinearAlgebra\n",
    "\n",
    "a = 10.26  # Silicon lattice constant in Bohr\n",
    "lattice = a / 2 * [[0 1 1.];\n",
    "                   [1 0 1.];\n",
    "                   [1 1 0.]]\n",
    "Si = ElementPsp(:Si, psp=load_psp(\"hgh/lda/Si-q4\"))\n",
    "atoms     = [Si, Si]\n",
    "positions = [ones(3)/8, -ones(3)/8]\n",
    "\n",
    "model = model_LDA(lattice, atoms, positions)\n",
    "basis = PlaneWaveBasis(model; Ecut=5, kgrid=[3, 3, 3])\n",
    "\n",
    "# Convergence we desire\n",
    "tol = 1e-12\n",
    "is_converged = DFTK.ScfConvergenceDensity(tol);"
   ],
   "metadata": {},
   "execution_count": 1
  },
  {
   "cell_type": "markdown",
   "source": [
    "## Density-based self-consistent field"
   ],
   "metadata": {}
  },
  {
   "outputs": [
    {
     "name": "stdout",
     "output_type": "stream",
     "text": [
      "n     Energy            log10(ΔE)   log10(Δρ)   Diag\n",
      "---   ---------------   ---------   ---------   ----\n",
      "  1   -7.846926003516                   -0.70    4.5\n",
      "  2   -7.852331947073       -2.27       -1.53    1.0\n",
      "  3   -7.852645991074       -3.50       -2.53    2.8\n",
      "  4   -7.852646676494       -6.16       -3.37    2.5\n",
      "  5   -7.852646685821       -8.03       -4.76    1.5\n",
      "  6   -7.852646686722       -9.04       -5.15    4.2\n",
      "  7   -7.852646686730      -11.15       -5.94    2.0\n",
      "  8   -7.852646686730      -12.49       -7.39    2.0\n",
      "  9   -7.852646686730      -14.45       -7.54    2.5\n",
      " 10   -7.852646686730      -15.05       -8.59    1.5\n",
      " 11   -7.852646686730   +  -14.57      -10.02    2.5\n",
      " 12   -7.852646686730      -14.57      -10.34    2.2\n",
      " 13   -7.852646686730   +  -14.75      -10.86    1.0\n",
      " 14   -7.852646686730      -14.45       -9.38    1.2\n",
      " 15   -7.852646686730   +  -14.57       -9.96    1.0\n",
      " 16   -7.852646686730      -15.05      -10.13    1.0\n",
      " 17   -7.852646686730   +  -15.05      -11.13    1.0\n",
      " 18   -7.852646686730   +  -14.75      -11.15    1.0\n",
      " 19   -7.852646686730      -14.45      -11.14    1.0\n",
      " 20   -7.852646686730   +  -14.57      -11.25    1.0\n",
      " 21   -7.852646686730      -14.57      -11.17    1.5\n",
      " 22   -7.852646686730   +  -14.75      -11.74    1.0\n",
      " 23   -7.852646686730   +    -Inf      -12.10    2.0\n"
     ]
    }
   ],
   "cell_type": "code",
   "source": [
    "scfres_scf = self_consistent_field(basis; is_converged);"
   ],
   "metadata": {},
   "execution_count": 2
  },
  {
   "cell_type": "markdown",
   "source": [
    "## Potential-based SCF"
   ],
   "metadata": {}
  },
  {
   "outputs": [
    {
     "name": "stdout",
     "output_type": "stream",
     "text": [
      "n     Energy            log10(ΔE)   log10(Δρ)   α      Diag\n",
      "---   ---------------   ---------   ---------   ----   ----\n",
      "  1   -7.846791516437                   -0.70           4.5\n",
      "  2   -7.852527155569       -2.24       -1.64   0.80    2.0\n",
      "  3   -7.852636416526       -3.96       -2.71   0.80    1.0\n",
      "  4   -7.852646458550       -5.00       -3.28   0.80    2.2\n",
      "  5   -7.852646678834       -6.66       -4.08   0.80    1.2\n",
      "  6   -7.852646686434       -8.12       -4.77   0.80    1.5\n",
      "  7   -7.852646686722       -9.54       -5.86   0.80    1.5\n",
      "  8   -7.852646686730      -11.12       -6.75   0.80    2.8\n",
      "  9   -7.852646686730      -13.08       -7.86   0.80    2.0\n",
      " 10   -7.852646686730   +  -14.57       -8.11   0.80    2.2\n",
      " 11   -7.852646686730      -14.57       -8.82   0.80    1.0\n",
      " 12   -7.852646686730   +  -14.75       -9.50   0.80    1.8\n",
      " 13   -7.852646686730   +    -Inf      -10.78   0.80    1.8\n",
      " 14   -7.852646686730   +  -14.75      -10.93   0.80    2.8\n",
      " 15   -7.852646686730      -14.57      -11.77   0.80    1.0\n",
      " 16   -7.852646686730   +  -14.75      -13.02   0.80    1.8\n"
     ]
    }
   ],
   "cell_type": "code",
   "source": [
    "scfres_scfv = DFTK.scf_potential_mixing(basis; is_converged);"
   ],
   "metadata": {},
   "execution_count": 3
  },
  {
   "cell_type": "markdown",
   "source": [
    "## Direct minimization"
   ],
   "metadata": {}
  },
  {
   "outputs": [
    {
     "name": "stdout",
     "output_type": "stream",
     "text": [
      "Iter     Function value   Gradient norm \n",
      "     0     1.384966e+01     4.028776e+00\n",
      " * time: 0.5502490997314453\n",
      "     1     1.187006e+00     1.833639e+00\n",
      " * time: 0.7733321189880371\n",
      "     2    -1.361957e+00     2.074655e+00\n",
      " * time: 0.8008129596710205\n",
      "     3    -3.498887e+00     1.854022e+00\n",
      " * time: 0.8400449752807617\n",
      "     4    -4.686476e+00     1.382134e+00\n",
      " * time: 0.8796491622924805\n",
      "     5    -6.439636e+00     9.479681e-01\n",
      " * time: 0.9188289642333984\n",
      "     6    -7.243313e+00     5.487089e-01\n",
      " * time: 0.9576189517974854\n",
      "     7    -7.569037e+00     3.078092e-01\n",
      " * time: 0.9845249652862549\n",
      "     8    -7.713195e+00     1.197546e-01\n",
      " * time: 1.0124800205230713\n",
      "     9    -7.803358e+00     1.184633e-01\n",
      " * time: 1.0400371551513672\n",
      "    10    -7.834905e+00     6.150196e-02\n",
      " * time: 1.0670759677886963\n",
      "    11    -7.844463e+00     5.414960e-02\n",
      " * time: 1.0941040515899658\n",
      "    12    -7.848733e+00     4.024446e-02\n",
      " * time: 1.121124029159546\n",
      "    13    -7.849194e+00     2.342352e-02\n",
      " * time: 1.1483490467071533\n",
      "    14    -7.850673e+00     1.732843e-02\n",
      " * time: 1.175572156906128\n",
      "    15    -7.852114e+00     1.483839e-02\n",
      " * time: 1.2026619911193848\n",
      "    16    -7.852530e+00     6.595654e-03\n",
      " * time: 1.2300500869750977\n",
      "    17    -7.852611e+00     3.439591e-03\n",
      " * time: 1.257077932357788\n",
      "    18    -7.852632e+00     1.775527e-03\n",
      " * time: 1.2851850986480713\n",
      "    19    -7.852641e+00     1.059261e-03\n",
      " * time: 1.3126800060272217\n",
      "    20    -7.852645e+00     5.347838e-04\n",
      " * time: 1.339858055114746\n",
      "    21    -7.852646e+00     4.180749e-04\n",
      " * time: 1.3671150207519531\n",
      "    22    -7.852647e+00     2.087700e-04\n",
      " * time: 1.3944101333618164\n",
      "    23    -7.852647e+00     1.274880e-04\n",
      " * time: 1.4216301441192627\n",
      "    24    -7.852647e+00     7.709424e-05\n",
      " * time: 1.448716163635254\n",
      "    25    -7.852647e+00     3.736319e-05\n",
      " * time: 1.476135015487671\n",
      "    26    -7.852647e+00     2.008644e-05\n",
      " * time: 1.5034410953521729\n",
      "    27    -7.852647e+00     1.073706e-05\n",
      " * time: 1.5304629802703857\n",
      "    28    -7.852647e+00     6.791031e-06\n",
      " * time: 1.5578739643096924\n",
      "    29    -7.852647e+00     2.649656e-06\n",
      " * time: 1.5852110385894775\n",
      "    30    -7.852647e+00     1.519733e-06\n",
      " * time: 1.6124720573425293\n",
      "    31    -7.852647e+00     9.665104e-07\n",
      " * time: 1.639909029006958\n",
      "    32    -7.852647e+00     6.246507e-07\n",
      " * time: 1.6673710346221924\n",
      "    33    -7.852647e+00     3.334640e-07\n",
      " * time: 1.7392621040344238\n",
      "    34    -7.852647e+00     2.249605e-07\n",
      " * time: 1.7667441368103027\n",
      "    35    -7.852647e+00     1.447969e-07\n",
      " * time: 1.7937941551208496\n",
      "    36    -7.852647e+00     6.568492e-08\n",
      " * time: 1.8207781314849854\n",
      "    37    -7.852647e+00     4.457794e-08\n",
      " * time: 1.8480541706085205\n",
      "    38    -7.852647e+00     1.912892e-08\n",
      " * time: 1.8751449584960938\n",
      "    39    -7.852647e+00     1.387868e-08\n",
      " * time: 1.9020111560821533\n",
      "    40    -7.852647e+00     6.411750e-09\n",
      " * time: 1.929150104522705\n",
      "    41    -7.852647e+00     6.411725e-09\n",
      " * time: 2.0262889862060547\n"
     ]
    }
   ],
   "cell_type": "code",
   "source": [
    "scfres_dm = direct_minimization(basis; tol);"
   ],
   "metadata": {},
   "execution_count": 4
  },
  {
   "cell_type": "markdown",
   "source": [
    "## Newton algorithm"
   ],
   "metadata": {}
  },
  {
   "cell_type": "markdown",
   "source": [
    "Start not too far from the solution to ensure convergence:\n",
    "We run first a very crude SCF to get close and then switch to Newton."
   ],
   "metadata": {}
  },
  {
   "outputs": [
    {
     "name": "stdout",
     "output_type": "stream",
     "text": [
      "n     Energy            log10(ΔE)   log10(Δρ)   Diag\n",
      "---   ---------------   ---------   ---------   ----\n",
      "  1   -7.846826158948                   -0.70    4.8\n",
      "  2   -7.852287891760       -2.26       -1.53    1.0\n"
     ]
    }
   ],
   "cell_type": "code",
   "source": [
    "scfres_start = self_consistent_field(basis; tol=1e-1);"
   ],
   "metadata": {},
   "execution_count": 5
  },
  {
   "cell_type": "markdown",
   "source": [
    "Remove the virtual orbitals (which Newton cannot treat yet)"
   ],
   "metadata": {}
  },
  {
   "outputs": [
    {
     "name": "stdout",
     "output_type": "stream",
     "text": [
      "n     Energy            log10(ΔE)   log10(Δρ)\n",
      "---   ---------------   ---------   ---------\n",
      "  1   -7.852646685703                   -2.56\n",
      "  2   -7.852646686730       -8.99       -5.36\n",
      "  3   -7.852646686730   +  -15.05      -10.03\n",
      "  4   -7.852646686730   +    -Inf      -16.04\n"
     ]
    }
   ],
   "cell_type": "code",
   "source": [
    "ψ, _ = DFTK.select_occupied_orbitals(basis, scfres_start.ψ, scfres_start.occupation)\n",
    "scfres_newton = newton(basis, ψ; tol);"
   ],
   "metadata": {},
   "execution_count": 6
  },
  {
   "cell_type": "markdown",
   "source": [
    "## Comparison of results"
   ],
   "metadata": {}
  },
  {
   "outputs": [
    {
     "name": "stdout",
     "output_type": "stream",
     "text": [
      "|ρ_newton - ρ_scf|  = 4.752264643159578e-13\n",
      "|ρ_newton - ρ_scfv| = 1.727735041879446e-13\n",
      "|ρ_newton - ρ_dm|   = 1.3505596524055624e-9\n"
     ]
    }
   ],
   "cell_type": "code",
   "source": [
    "println(\"|ρ_newton - ρ_scf|  = \", norm(scfres_newton.ρ - scfres_scf.ρ))\n",
    "println(\"|ρ_newton - ρ_scfv| = \", norm(scfres_newton.ρ - scfres_scfv.ρ))\n",
    "println(\"|ρ_newton - ρ_dm|   = \", norm(scfres_newton.ρ - scfres_dm.ρ))"
   ],
   "metadata": {},
   "execution_count": 7
  }
 ],
 "nbformat_minor": 3,
 "metadata": {
  "language_info": {
   "file_extension": ".jl",
   "mimetype": "application/julia",
   "name": "julia",
   "version": "1.8.2"
  },
  "kernelspec": {
   "name": "julia-1.8",
   "display_name": "Julia 1.8.2",
   "language": "julia"
  }
 },
 "nbformat": 4
}
