{
 "cells": [
  {
   "cell_type": "markdown",
   "source": [
    "# Eigenvalues of the dielectric matrix\n",
    "\n",
    "We compute a few eigenvalues of the dielectric matrix ($q=0$, $ω=0$) iteratively."
   ],
   "metadata": {}
  },
  {
   "outputs": [
    {
     "name": "stdout",
     "output_type": "stream",
     "text": [
      "n     Energy            log10(ΔE)   log10(Δρ)   Diag   Δtime\n",
      "---   ---------------   ---------   ---------   ----   ------\n",
      "  1   -7.233811352527                   -0.50    7.0         \n",
      "  2   -7.249739502118       -1.80       -1.38    1.0   7.68ms\n",
      "  3   -7.250895823068       -2.94       -1.85    2.0   9.42ms\n",
      "  4   -7.250968569772       -4.14       -1.87    2.0   9.79ms\n",
      "  5   -7.251324716062       -3.45       -2.57    1.0   8.20ms\n",
      "  6   -7.251337358630       -4.90       -3.04    1.0   8.19ms\n",
      "  7   -7.251338654933       -5.89       -3.65    2.0   9.21ms\n",
      "  8   -7.251338785701       -6.88       -4.04    3.0   11.1ms\n",
      "  9   -7.251338797902       -7.91       -4.69    2.0   9.81ms\n",
      " 10   -7.251338798652       -9.12       -5.18    2.0   10.0ms\n",
      " 11   -7.251338798696      -10.35       -5.63    1.0   8.34ms\n",
      " 12   -7.251338798703      -11.14       -6.00    2.0   9.74ms\n",
      " 13   -7.251338798704      -12.00       -6.51    1.0   8.50ms\n",
      " 14   -7.251338798705      -12.98       -7.13    2.0   10.0ms\n",
      " 15   -7.251338798705      -14.05       -7.59    3.0   11.4ms\n",
      " 16   -7.251338798705      -14.75       -8.14    2.0   9.55ms\n"
     ]
    }
   ],
   "cell_type": "code",
   "source": [
    "using DFTK\n",
    "using Plots\n",
    "using KrylovKit\n",
    "using Printf\n",
    "\n",
    "# Calculation parameters\n",
    "kgrid = [1, 1, 1]\n",
    "Ecut = 5\n",
    "\n",
    "# Silicon lattice\n",
    "a = 10.26\n",
    "lattice = a / 2 .* [[0 1 1.]; [1 0 1.]; [1 1 0.]]\n",
    "Si = ElementPsp(:Si, psp=load_psp(\"hgh/lda/Si-q4\"))\n",
    "atoms     = [Si, Si]\n",
    "positions = [ones(3)/8, -ones(3)/8]\n",
    "\n",
    "# Compute the dielectric operator without symmetries\n",
    "model  = model_LDA(lattice, atoms, positions, symmetries=false)\n",
    "basis  = PlaneWaveBasis(model; Ecut, kgrid)\n",
    "scfres = self_consistent_field(basis, tol=1e-8);"
   ],
   "metadata": {},
   "execution_count": 1
  },
  {
   "cell_type": "markdown",
   "source": [
    "Applying $ε^† ≔ (1- χ_0 K)$ …"
   ],
   "metadata": {}
  },
  {
   "outputs": [],
   "cell_type": "code",
   "source": [
    "function eps_fun(δρ)\n",
    "    δV = apply_kernel(basis, δρ; ρ=scfres.ρ)\n",
    "    χ0δV = apply_χ0(scfres, δV)\n",
    "    δρ - χ0δV\n",
    "end;"
   ],
   "metadata": {},
   "execution_count": 2
  },
  {
   "cell_type": "markdown",
   "source": [
    "… eagerly diagonalizes the subspace matrix at each iteration"
   ],
   "metadata": {}
  },
  {
   "outputs": [
    {
     "name": "stdout",
     "output_type": "stream",
     "text": [
      "[ Info: Arnoldi iteration step 1: normres = 0.04518543322290685\n",
      "[ Info: Arnoldi iteration step 2: normres = 0.7768804675259975\n",
      "[ Info: Arnoldi iteration step 3: normres = 0.6767508353649142\n",
      "[ Info: Arnoldi iteration step 4: normres = 0.3930727561780659\n",
      "[ Info: Arnoldi iteration step 5: normres = 0.19983220094599785\n",
      "[ Info: Arnoldi schursolve in iter 1, krylovdim = 5: 0 values converged, normres = (1.36e-02, 4.95e-02, 1.19e-01, 1.45e-01, 4.45e-02)\n",
      "[ Info: Arnoldi iteration step 6: normres = 0.5420176198204847\n",
      "[ Info: Arnoldi schursolve in iter 1, krylovdim = 6: 0 values converged, normres = (5.34e-03, 5.86e-02, 5.21e-01, 8.73e-02, 3.48e-02)\n",
      "[ Info: Arnoldi iteration step 7: normres = 0.10442326842494482\n",
      "[ Info: Arnoldi schursolve in iter 1, krylovdim = 7: 0 values converged, normres = (3.29e-04, 1.52e-02, 5.25e-02, 2.85e-02, 7.96e-02)\n",
      "[ Info: Arnoldi iteration step 8: normres = 0.09314796230463236\n",
      "[ Info: Arnoldi schursolve in iter 1, krylovdim = 8: 0 values converged, normres = (1.33e-05, 1.04e-03, 3.90e-03, 9.37e-03, 4.77e-02)\n",
      "[ Info: Arnoldi iteration step 9: normres = 0.09416164988193185\n",
      "[ Info: Arnoldi schursolve in iter 1, krylovdim = 9: 0 values converged, normres = (5.43e-07, 6.98e-05, 2.90e-04, 3.03e-03, 3.26e-02)\n",
      "[ Info: Arnoldi iteration step 10: normres = 0.08222814257545619\n",
      "[ Info: Arnoldi schursolve in iter 1, krylovdim = 10: 0 values converged, normres = (1.96e-08, 4.20e-06, 1.95e-05, 9.62e-04, 2.61e-02)\n",
      "[ Info: Arnoldi iteration step 11: normres = 0.05174784534941359\n",
      "[ Info: Arnoldi schursolve in iter 1, krylovdim = 11: 0 values converged, normres = (4.36e-10, 1.53e-07, 7.88e-07, 1.61e-04, 9.87e-03)\n",
      "[ Info: Arnoldi iteration step 12: normres = 0.08128491018271763\n",
      "[ Info: Arnoldi schursolve in iter 1, krylovdim = 12: 0 values converged, normres = (1.48e-11, 8.33e-09, 4.73e-08, 3.29e-05, 3.26e-03)\n",
      "[ Info: Arnoldi iteration step 13: normres = 0.044027694594789384\n",
      "[ Info: Arnoldi schursolve in iter 1, krylovdim = 13: 1 values converged, normres = (2.85e-13, 2.67e-10, 1.69e-09, 5.21e-06, 1.15e-03)\n",
      "[ Info: Arnoldi iteration step 14: normres = 0.4332649526383739\n",
      "[ Info: Arnoldi schursolve in iter 1, krylovdim = 14: 1 values converged, normres = (5.38e-14, 8.32e-11, 5.85e-10, 7.66e-06, 3.64e-03)\n",
      "[ Info: Arnoldi iteration step 15: normres = 0.08671056722174152\n",
      "[ Info: Arnoldi schursolve in iter 1, krylovdim = 15: 1 values converged, normres = (4.81e-15, 7.11e-10, 8.28e-02, 2.10e-03, 1.17e-05)\n",
      "[ Info: Arnoldi iteration step 16: normres = 0.4293835310447263\n",
      "[ Info: Arnoldi schursolve in iter 1, krylovdim = 16: 1 values converged, normres = (9.04e-16, 4.65e-10, 2.57e-02, 9.51e-05, 2.14e-06)\n",
      "[ Info: Arnoldi iteration step 17: normres = 0.09158173440196822\n",
      "[ Info: Arnoldi schursolve in iter 1, krylovdim = 17: 1 values converged, normres = (7.49e-17, 2.00e-08, 1.51e-02, 1.02e-04, 8.58e-02)\n",
      "[ Info: Arnoldi iteration step 18: normres = 0.02126975604706045\n",
      "[ Info: Arnoldi schursolve in iter 1, krylovdim = 18: 1 values converged, normres = (6.64e-19, 3.89e-09, 2.21e-04, 1.87e-08, 1.34e-03)\n",
      "[ Info: Arnoldi iteration step 19: normres = 0.03340896293508807\n",
      "[ Info: Arnoldi schursolve in iter 1, krylovdim = 19: 1 values converged, normres = (9.10e-21, 4.83e-06, 1.57e-07, 3.18e-05, 4.60e-06)\n",
      "[ Info: Arnoldi iteration step 20: normres = 0.20308613145910118\n",
      "[ Info: Arnoldi schursolve in iter 1, krylovdim = 20: 1 values converged, normres = (8.31e-22, 4.01e-07, 6.28e-07, 3.98e-09, 5.54e-06)\n",
      "[ Info: Arnoldi iteration step 21: normres = 0.046216255441007624\n",
      "[ Info: Arnoldi schursolve in iter 1, krylovdim = 21: 1 values converged, normres = (1.77e-23, 1.01e-08, 2.57e-08, 2.31e-07, 1.94e-08)\n",
      "[ Info: Arnoldi iteration step 22: normres = 0.018862599105326717\n",
      "[ Info: Arnoldi schursolve in iter 1, krylovdim = 22: 1 values converged, normres = (1.39e-25, 3.34e-10, 9.01e-11, 2.94e-09, 1.26e-09)\n",
      "[ Info: Arnoldi iteration step 23: normres = 0.06609809972856791\n",
      "[ Info: Arnoldi schursolve in iter 1, krylovdim = 23: 1 values converged, normres = (3.76e-27, 1.44e-11, 4.06e-12, 1.37e-10, 6.69e-11)\n",
      "[ Info: Arnoldi iteration step 24: normres = 0.2617655810217276\n",
      "[ Info: Arnoldi schursolve in iter 1, krylovdim = 24: 1 values converged, normres = (8.89e-28, 1.87e-11, 5.27e-12, 5.85e-10, 2.85e-10)\n",
      "[ Info: Arnoldi iteration step 25: normres = 0.01698876015742134\n",
      "[ Info: Arnoldi schursolve in iter 1, krylovdim = 25: 3 values converged, normres = (6.54e-30, 2.98e-13, 8.40e-14, 1.11e-08, 5.38e-09)\n",
      "[ Info: Arnoldi iteration step 26: normres = 0.10906434146950644\n",
      "[ Info: Arnoldi schursolve in iter 1, krylovdim = 26: 3 values converged, normres = (3.00e-31, 2.21e-14, 6.23e-15, 2.65e-04, 3.37e-05)\n",
      "[ Info: Arnoldi iteration step 27: normres = 0.029332721523776657\n",
      "[ Info: Arnoldi schursolve in iter 1, krylovdim = 27: 3 values converged, normres = (3.91e-33, 4.82e-16, 1.36e-16, 3.43e-09, 1.81e-09)\n",
      "[ Info: Arnoldi iteration step 28: normres = 0.09166529617633075\n",
      "[ Info: Arnoldi schursolve in iter 1, krylovdim = 28: 3 values converged, normres = (1.50e-34, 2.98e-17, 8.38e-18, 1.63e-09, 7.82e-10)\n",
      "[ Info: Arnoldi iteration step 29: normres = 0.024262843119426208\n",
      "[ Info: Arnoldi schursolve in iter 1, krylovdim = 29: 3 values converged, normres = (1.59e-36, 5.26e-19, 1.48e-19, 1.20e-09, 7.01e-09)\n",
      "[ Info: Arnoldi iteration step 30: normres = 0.11836209175790233\n",
      "[ Info: Arnoldi schursolve in iter 1, krylovdim = 30: 3 values converged, normres = (7.87e-38, 4.19e-20, 1.18e-20, 8.91e-11, 2.45e-10)\n",
      "[ Info: Arnoldi schursolve in iter 2, krylovdim = 19: 3 values converged, normres = (7.87e-38, 4.19e-20, 1.18e-20, 8.91e-11, 2.45e-10)\n",
      "[ Info: Arnoldi iteration step 20: normres = 0.08934556937223173\n",
      "[ Info: Arnoldi schursolve in iter 2, krylovdim = 20: 3 values converged, normres = (3.43e-39, 3.28e-21, 9.25e-22, 8.06e-12, 2.34e-11)\n",
      "[ Info: Arnoldi iteration step 21: normres = 0.0857026949369595\n",
      "[ Info: Arnoldi schursolve in iter 2, krylovdim = 21: 4 values converged, normres = (1.26e-40, 1.98e-22, 5.57e-23, 5.38e-13, 1.56e-12)\n",
      "[ Info: Arnoldi iteration step 22: normres = 0.01716619629954386\n",
      "┌ Info: Arnoldi eigsolve finished after 2 iterations:\n",
      "│ *  6 eigenvalues converged\n",
      "│ *  norm of residuals = (9.105967951684425e-43, 2.3117688949650247e-24, 6.841443370647697e-25, 6.955829999173867e-15, 1.6178128990550503e-14, 1.029704976119984e-14)\n",
      "└ *  number of operations = 33\n"
     ]
    }
   ],
   "cell_type": "code",
   "source": [
    "eigsolve(eps_fun, randn(size(scfres.ρ)), 5, :LM; eager=true, verbosity=3);"
   ],
   "metadata": {},
   "execution_count": 3
  }
 ],
 "nbformat_minor": 3,
 "metadata": {
  "language_info": {
   "file_extension": ".jl",
   "mimetype": "application/julia",
   "name": "julia",
   "version": "1.9.1"
  },
  "kernelspec": {
   "name": "julia-1.9",
   "display_name": "Julia 1.9.1",
   "language": "julia"
  }
 },
 "nbformat": 4
}
