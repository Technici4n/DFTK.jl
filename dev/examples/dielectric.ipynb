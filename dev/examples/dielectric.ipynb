{
 "cells": [
  {
   "cell_type": "markdown",
   "source": [
    "# Eigenvalues of the dielectric matrix\n",
    "\n",
    "We compute a few eigenvalues of the dielectric matrix ($q=0$, $ω=0$) iteratively."
   ],
   "metadata": {}
  },
  {
   "outputs": [
    {
     "name": "stdout",
     "output_type": "stream",
     "text": [
      "n     Energy            log10(ΔE)   log10(Δρ)   Diag   Δtime\n",
      "---   ---------------   ---------   ---------   ----   ------\n",
      "  1   -7.234690626820                   -0.50    7.0         \n",
      "  2   -7.250193914285       -1.81       -1.40    1.0   10.1ms\n",
      "  3   -7.251187160231       -3.00       -2.05    2.0   11.0ms\n",
      "  4   -7.251204078360       -4.77       -2.08    2.0   12.3ms\n",
      "  5   -7.251317401701       -3.95       -2.49    1.0   10.2ms\n",
      "  6   -7.251338103889       -4.68       -3.19    1.0   10.0ms\n",
      "  7   -7.251338730898       -6.20       -3.66    2.0   12.2ms\n",
      "  8   -7.251338785613       -7.26       -3.95    2.0   12.4ms\n",
      "  9   -7.251338797979       -7.91       -4.68    1.0   10.6ms\n",
      " 10   -7.251338798654       -9.17       -5.24    2.0   12.1ms\n",
      " 11   -7.251338798690      -10.44       -5.49    2.0   12.2ms\n",
      " 12   -7.251338798703      -10.88       -6.16    1.0   10.6ms\n",
      " 13   -7.251338798704      -11.96       -6.38    3.0   14.4ms\n",
      " 14   -7.251338798705      -12.78       -6.81    1.0   10.3ms\n",
      " 15   -7.251338798705      -13.71       -7.21    2.0   12.3ms\n",
      " 16   -7.251338798705      -14.27       -7.97    1.0   10.5ms\n",
      " 17   -7.251338798705      -14.75       -8.17    3.0   74.8ms\n"
     ]
    }
   ],
   "cell_type": "code",
   "source": [
    "using DFTK\n",
    "using Plots\n",
    "using KrylovKit\n",
    "using Printf\n",
    "\n",
    "# Calculation parameters\n",
    "kgrid = [1, 1, 1]\n",
    "Ecut = 5\n",
    "\n",
    "# Silicon lattice\n",
    "a = 10.26\n",
    "lattice = a / 2 .* [[0 1 1.]; [1 0 1.]; [1 1 0.]]\n",
    "Si = ElementPsp(:Si, psp=load_psp(\"hgh/lda/Si-q4\"))\n",
    "atoms     = [Si, Si]\n",
    "positions = [ones(3)/8, -ones(3)/8]\n",
    "\n",
    "# Compute the dielectric operator without symmetries\n",
    "model  = model_LDA(lattice, atoms, positions, symmetries=false)\n",
    "basis  = PlaneWaveBasis(model; Ecut, kgrid)\n",
    "scfres = self_consistent_field(basis, tol=1e-8);"
   ],
   "metadata": {},
   "execution_count": 1
  },
  {
   "cell_type": "markdown",
   "source": [
    "Applying $ε^† ≔ (1- χ_0 K)$ …"
   ],
   "metadata": {}
  },
  {
   "outputs": [],
   "cell_type": "code",
   "source": [
    "function eps_fun(δρ)\n",
    "    δV = apply_kernel(basis, δρ; ρ=scfres.ρ)\n",
    "    χ0δV = apply_χ0(scfres, δV)\n",
    "    δρ - χ0δV\n",
    "end;"
   ],
   "metadata": {},
   "execution_count": 2
  },
  {
   "cell_type": "markdown",
   "source": [
    "… eagerly diagonalizes the subspace matrix at each iteration"
   ],
   "metadata": {}
  },
  {
   "outputs": [
    {
     "name": "stdout",
     "output_type": "stream",
     "text": [
      "[ Info: Arnoldi iteration step 1: normres = 0.07878325439177834\n",
      "[ Info: Arnoldi iteration step 2: normres = 0.5534171532386455\n",
      "[ Info: Arnoldi iteration step 3: normres = 0.8290316854549691\n",
      "[ Info: Arnoldi iteration step 4: normres = 0.26765663678362467\n",
      "[ Info: Arnoldi iteration step 5: normres = 0.4332474654355491\n",
      "[ Info: Arnoldi schursolve in iter 1, krylovdim = 5: 0 values converged, normres = (2.24e-02, 5.42e-02, 3.42e-01, 2.59e-01, 1.04e-02)\n",
      "[ Info: Arnoldi iteration step 6: normres = 0.29759320890354996\n",
      "[ Info: Arnoldi schursolve in iter 1, krylovdim = 6: 0 values converged, normres = (5.56e-03, 7.18e-02, 2.60e-01, 9.13e-02, 7.92e-02)\n",
      "[ Info: Arnoldi iteration step 7: normres = 0.07688314094792136\n",
      "[ Info: Arnoldi schursolve in iter 1, krylovdim = 7: 0 values converged, normres = (2.04e-04, 6.11e-03, 1.67e-02, 2.82e-02, 5.85e-02)\n",
      "[ Info: Arnoldi iteration step 8: normres = 0.07825567633253022\n",
      "[ Info: Arnoldi schursolve in iter 1, krylovdim = 8: 0 values converged, normres = (6.85e-06, 3.37e-04, 1.02e-03, 6.88e-03, 3.17e-02)\n",
      "[ Info: Arnoldi iteration step 9: normres = 0.05839095865475092\n",
      "[ Info: Arnoldi schursolve in iter 1, krylovdim = 9: 0 values converged, normres = (1.70e-07, 1.37e-05, 4.59e-05, 1.20e-03, 1.39e-02)\n",
      "[ Info: Arnoldi iteration step 10: normres = 0.10704848232868575\n",
      "[ Info: Arnoldi schursolve in iter 1, krylovdim = 10: 0 values converged, normres = (7.85e-09, 1.03e-06, 3.84e-06, 3.94e-04, 1.20e-02)\n",
      "[ Info: Arnoldi iteration step 11: normres = 0.06353328296584308\n",
      "[ Info: Arnoldi schursolve in iter 1, krylovdim = 11: 0 values converged, normres = (2.24e-10, 4.98e-08, 2.08e-07, 1.25e-04, 5.04e-02)\n",
      "[ Info: Arnoldi iteration step 12: normres = 0.08113023427994191\n",
      "[ Info: Arnoldi schursolve in iter 1, krylovdim = 12: 0 values converged, normres = (7.61e-12, 2.73e-09, 1.26e-08, 2.72e-05, 1.65e-02)\n",
      "[ Info: Arnoldi iteration step 13: normres = 0.2869822104081191\n",
      "[ Info: Arnoldi schursolve in iter 1, krylovdim = 13: 1 values converged, normres = (9.84e-13, 5.97e-10, 3.08e-09, 3.64e-05, 7.04e-02)\n",
      "[ Info: Arnoldi iteration step 14: normres = 0.2477624297457249\n",
      "[ Info: Arnoldi schursolve in iter 1, krylovdim = 14: 1 values converged, normres = (2.50e-13, 3.49e-09, 2.39e-01, 3.33e-02, 1.13e-03)\n",
      "[ Info: Arnoldi iteration step 15: normres = 0.14744943182521664\n",
      "[ Info: Arnoldi schursolve in iter 1, krylovdim = 15: 1 values converged, normres = (1.59e-14, 3.48e-09, 2.40e-02, 4.86e-05, 2.45e-06)\n",
      "[ Info: Arnoldi iteration step 16: normres = 0.2950611996423213\n",
      "[ Info: Arnoldi schursolve in iter 1, krylovdim = 16: 1 values converged, normres = (4.16e-15, 1.40e-08, 3.19e-02, 3.55e-04, 2.93e-01)\n",
      "[ Info: Arnoldi iteration step 17: normres = 0.025813606045035617\n",
      "[ Info: Arnoldi schursolve in iter 1, krylovdim = 17: 1 values converged, normres = (4.81e-17, 5.67e-04, 6.75e-04, 1.69e-03, 5.44e-03)\n",
      "[ Info: Arnoldi iteration step 18: normres = 0.021390768471061715\n",
      "[ Info: Arnoldi schursolve in iter 1, krylovdim = 18: 1 values converged, normres = (4.22e-19, 2.25e-06, 1.21e-05, 2.11e-08, 8.76e-05)\n",
      "[ Info: Arnoldi iteration step 19: normres = 0.14100308916952856\n",
      "[ Info: Arnoldi schursolve in iter 1, krylovdim = 19: 1 values converged, normres = (2.47e-20, 1.27e-07, 1.14e-06, 8.70e-06, 2.44e-06)\n",
      "[ Info: Arnoldi iteration step 20: normres = 0.051241511284939416\n",
      "[ Info: Arnoldi schursolve in iter 1, krylovdim = 20: 1 values converged, normres = (6.24e-22, 2.58e-08, 4.61e-08, 4.10e-08, 4.73e-07)\n",
      "[ Info: Arnoldi iteration step 21: normres = 0.03216199382572206\n",
      "[ Info: Arnoldi schursolve in iter 1, krylovdim = 21: 1 values converged, normres = (8.29e-24, 7.76e-10, 8.11e-10, 9.58e-09, 5.61e-09)\n",
      "[ Info: Arnoldi iteration step 22: normres = 0.05483545045644674\n",
      "[ Info: Arnoldi schursolve in iter 1, krylovdim = 22: 1 values converged, normres = (1.90e-25, 2.91e-11, 2.93e-11, 4.29e-10, 1.37e-10)\n",
      "[ Info: Arnoldi iteration step 23: normres = 0.5252830942962224\n",
      "[ Info: Arnoldi schursolve in iter 1, krylovdim = 23: 1 values converged, normres = (8.02e-26, 4.59e-11, 4.61e-11, 1.16e-09, 3.86e-10)\n",
      "[ Info: Arnoldi iteration step 24: normres = 0.016333696457010754\n",
      "[ Info: Arnoldi schursolve in iter 1, krylovdim = 24: 1 values converged, normres = (6.36e-28, 1.17e-12, 1.17e-12, 1.21e-03, 6.73e-04)\n",
      "[ Info: Arnoldi iteration step 25: normres = 0.025779436823283538\n",
      "[ Info: Arnoldi schursolve in iter 1, krylovdim = 25: 3 values converged, normres = (6.72e-30, 1.96e-14, 1.97e-14, 1.14e-04, 3.56e-05)\n",
      "[ Info: Arnoldi iteration step 26: normres = 0.12334213736340256\n",
      "[ Info: Arnoldi schursolve in iter 1, krylovdim = 26: 3 values converged, normres = (3.64e-31, 1.76e-15, 1.77e-15, 1.61e-08, 9.06e-10)\n",
      "[ Info: Arnoldi iteration step 27: normres = 0.01703537070933422\n",
      "[ Info: Arnoldi schursolve in iter 1, krylovdim = 27: 3 values converged, normres = (2.64e-33, 2.08e-17, 2.09e-17, 1.51e-07, 7.96e-10)\n",
      "[ Info: Arnoldi iteration step 28: normres = 0.08982859080183213\n",
      "[ Info: Arnoldi schursolve in iter 1, krylovdim = 28: 3 values converged, normres = (9.92e-35, 1.26e-18, 1.27e-18, 3.66e-09, 2.51e-09)\n",
      "[ Info: Arnoldi iteration step 29: normres = 0.04463093798895406\n",
      "[ Info: Arnoldi schursolve in iter 1, krylovdim = 29: 3 values converged, normres = (1.94e-36, 4.11e-20, 4.13e-20, 1.44e-10, 3.47e-10)\n",
      "[ Info: Arnoldi iteration step 30: normres = 0.18613618282337413\n",
      "[ Info: Arnoldi schursolve in iter 1, krylovdim = 30: 3 values converged, normres = (1.72e-37, 6.42e-21, 6.45e-21, 2.57e-11, 6.16e-11)\n",
      "[ Info: Arnoldi schursolve in iter 2, krylovdim = 19: 3 values converged, normres = (1.72e-37, 6.42e-21, 6.45e-21, 2.57e-11, 6.16e-11)\n",
      "[ Info: Arnoldi iteration step 20: normres = 0.030099955225873335\n",
      "[ Info: Arnoldi schursolve in iter 2, krylovdim = 20: 4 values converged, normres = (2.23e-39, 1.38e-22, 1.38e-22, 6.12e-13, 1.47e-12)\n",
      "[ Info: Arnoldi iteration step 21: normres = 0.0779643093729365\n",
      "┌ Info: Arnoldi eigsolve finished after 2 iterations:\n",
      "│ *  6 eigenvalues converged\n",
      "│ *  norm of residuals = (7.353779724645567e-41, 7.349415062792809e-24, 1.0291369690902863e-23, 3.6109434431867763e-14, 7.70547275916295e-14, 7.70547275916295e-14)\n",
      "└ *  number of operations = 32\n"
     ]
    }
   ],
   "cell_type": "code",
   "source": [
    "eigsolve(eps_fun, randn(size(scfres.ρ)), 5, :LM; eager=true, verbosity=3);"
   ],
   "metadata": {},
   "execution_count": 3
  }
 ],
 "nbformat_minor": 3,
 "metadata": {
  "language_info": {
   "file_extension": ".jl",
   "mimetype": "application/julia",
   "name": "julia",
   "version": "1.8.5"
  },
  "kernelspec": {
   "name": "julia-1.8",
   "display_name": "Julia 1.8.5",
   "language": "julia"
  }
 },
 "nbformat": 4
}
