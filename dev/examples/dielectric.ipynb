{
 "cells": [
  {
   "cell_type": "markdown",
   "source": [
    "# Eigenvalues of the dielectric matrix\n",
    "\n",
    "We compute a few eigenvalues of the dielectric matrix ($q=0$, $ω=0$) iteratively."
   ],
   "metadata": {}
  },
  {
   "outputs": [
    {
     "name": "stdout",
     "output_type": "stream",
     "text": [
      "n     Energy            log10(ΔE)   log10(Δρ)   Diag\n",
      "---   ---------------   ---------   ---------   ----\n",
      "  1   -7.234328164538                   -0.50    7.0\n",
      "  2   -7.249895108874       -1.81       -1.39    1.0\n",
      "  3   -7.251243091255       -2.87       -1.91    4.0\n",
      "  4   -7.251287325745       -4.35       -2.18    3.0\n",
      "  5   -7.251325135768       -4.42       -2.56    2.0\n",
      "  6   -7.251334384067       -5.03       -2.83    2.0\n",
      "  7   -7.251338751580       -5.36       -3.87    1.0\n",
      "  8   -7.251338783387       -7.50       -3.99    4.0\n",
      "  9   -7.251338798393       -7.82       -4.78    3.0\n",
      " 10   -7.251338798677       -9.55       -5.36    2.0\n",
      " 11   -7.251338798700      -10.63       -5.78    3.0\n",
      " 12   -7.251338798704      -11.42       -6.39    2.0\n",
      " 13   -7.251338798705      -12.60       -6.91    3.0\n",
      " 14   -7.251338798705      -13.82       -7.42    3.0\n",
      " 15   -7.251338798705      -15.05       -7.85    3.0\n"
     ]
    }
   ],
   "cell_type": "code",
   "source": [
    "using DFTK\n",
    "using Plots\n",
    "using KrylovKit\n",
    "using Printf\n",
    "\n",
    "# Calculation parameters\n",
    "kgrid = [1, 1, 1]\n",
    "Ecut = 5\n",
    "\n",
    "# Silicon lattice\n",
    "a = 10.26\n",
    "lattice = a / 2 .* [[0 1 1.]; [1 0 1.]; [1 1 0.]]\n",
    "Si = ElementPsp(:Si, psp=load_psp(\"hgh/lda/Si-q4\"))\n",
    "atoms     = [Si, Si]\n",
    "positions = [ones(3)/8, -ones(3)/8]\n",
    "\n",
    "# Compute the dielectric operator without symmetries\n",
    "model = model_LDA(lattice, atoms, positions, symmetries=false)\n",
    "basis = PlaneWaveBasis(model; Ecut, kgrid)\n",
    "scfres = self_consistent_field(basis, tol=1e-14);"
   ],
   "metadata": {},
   "execution_count": 1
  },
  {
   "cell_type": "markdown",
   "source": [
    "Applying $ε^† ≔ (1- χ_0 K)$ …"
   ],
   "metadata": {}
  },
  {
   "outputs": [],
   "cell_type": "code",
   "source": [
    "function eps_fun(δρ)\n",
    "    δV = apply_kernel(basis, δρ; ρ=scfres.ρ)\n",
    "    χ0δV = apply_χ0(scfres, δV)\n",
    "    δρ - χ0δV\n",
    "end;"
   ],
   "metadata": {},
   "execution_count": 2
  },
  {
   "cell_type": "markdown",
   "source": [
    "… eagerly diagonalizes the subspace matrix at each iteration"
   ],
   "metadata": {}
  },
  {
   "outputs": [
    {
     "name": "stdout",
     "output_type": "stream",
     "text": [
      "[ Info: Arnoldi iteration step 1: normres = 0.060538214591168725\n",
      "[ Info: Arnoldi iteration step 2: normres = 0.5596371937201587\n",
      "[ Info: Arnoldi iteration step 3: normres = 0.7169843799936884\n",
      "[ Info: Arnoldi iteration step 4: normres = 0.2496845078693491\n",
      "[ Info: Arnoldi iteration step 5: normres = 0.42404008615156963\n",
      "[ Info: Arnoldi schursolve in iter 1, krylovdim = 5: 0 values converged, normres = (1.11e-02, 6.62e-02, 3.58e-01, 2.13e-01, 4.11e-02)\n",
      "[ Info: Arnoldi iteration step 6: normres = 0.30936702979332376\n",
      "[ Info: Arnoldi schursolve in iter 1, krylovdim = 6: 0 values converged, normres = (2.89e-03, 9.22e-02, 2.69e-01, 9.89e-02, 2.50e-02)\n",
      "[ Info: Arnoldi iteration step 7: normres = 0.09518370346477044\n",
      "[ Info: Arnoldi schursolve in iter 1, krylovdim = 7: 0 values converged, normres = (1.41e-04, 1.13e-02, 2.32e-02, 6.25e-02, 6.06e-02)\n",
      "[ Info: Arnoldi iteration step 8: normres = 0.1411707426654123\n",
      "[ Info: Arnoldi schursolve in iter 1, krylovdim = 8: 0 values converged, normres = (8.50e-06, 1.13e-03, 2.54e-03, 2.64e-02, 4.49e-02)\n",
      "[ Info: Arnoldi iteration step 9: normres = 0.062382119086421314\n",
      "[ Info: Arnoldi schursolve in iter 1, krylovdim = 9: 0 values converged, normres = (2.34e-07, 5.17e-05, 1.30e-04, 6.86e-03, 3.26e-02)\n",
      "[ Info: Arnoldi iteration step 10: normres = 0.0944167657276234\n",
      "[ Info: Arnoldi schursolve in iter 1, krylovdim = 10: 0 values converged, normres = (9.65e-09, 3.54e-06, 9.92e-06, 2.35e-03, 2.59e-02)\n",
      "[ Info: Arnoldi iteration step 11: normres = 0.06929606383203209\n",
      "[ Info: Arnoldi schursolve in iter 1, krylovdim = 11: 0 values converged, normres = (2.85e-10, 1.70e-07, 5.28e-07, 5.00e-04, 1.17e-02)\n",
      "[ Info: Arnoldi iteration step 12: normres = 0.05150516142232344\n",
      "[ Info: Arnoldi schursolve in iter 1, krylovdim = 12: 0 values converged, normres = (6.33e-12, 6.22e-09, 2.14e-08, 8.27e-05, 3.88e-03)\n",
      "[ Info: Arnoldi iteration step 13: normres = 0.08336821899038208\n",
      "[ Info: Arnoldi schursolve in iter 1, krylovdim = 13: 1 values converged, normres = (2.24e-13, 3.59e-10, 1.37e-09, 1.97e-05, 1.68e-03)\n",
      "[ Info: Arnoldi iteration step 14: normres = 0.6992867015279912\n",
      "[ Info: Arnoldi schursolve in iter 1, krylovdim = 14: 1 values converged, normres = (1.15e-13, 5.54e-10, 3.06e-09, 6.89e-01, 1.69e-02)\n",
      "[ Info: Arnoldi iteration step 15: normres = 0.12203941329937244\n",
      "[ Info: Arnoldi schursolve in iter 1, krylovdim = 15: 1 values converged, normres = (8.27e-15, 4.36e-10, 6.67e-02, 2.16e-04, 6.25e-06)\n",
      "[ Info: Arnoldi iteration step 16: normres = 0.26498515452821225\n",
      "[ Info: Arnoldi schursolve in iter 1, krylovdim = 16: 1 values converged, normres = (2.09e-15, 3.00e-09, 1.14e-01, 4.52e-04, 2.37e-01)\n",
      "[ Info: Arnoldi iteration step 17: normres = 0.02702414816918396\n",
      "[ Info: Arnoldi schursolve in iter 1, krylovdim = 17: 1 values converged, normres = (2.45e-17, 1.82e-08, 2.74e-03, 3.54e-03, 2.40e-03)\n",
      "[ Info: Arnoldi iteration step 18: normres = 0.028035022075211923\n",
      "[ Info: Arnoldi schursolve in iter 1, krylovdim = 18: 1 values converged, normres = (2.86e-19, 3.69e-07, 5.14e-05, 6.37e-08, 8.85e-05)\n",
      "[ Info: Arnoldi iteration step 19: normres = 0.0526031355619801\n",
      "[ Info: Arnoldi schursolve in iter 1, krylovdim = 19: 1 values converged, normres = (6.22e-21, 1.45e-06, 1.05e-06, 7.51e-07, 3.32e-06)\n",
      "[ Info: Arnoldi iteration step 20: normres = 0.14282618097623084\n",
      "[ Info: Arnoldi schursolve in iter 1, krylovdim = 20: 1 values converged, normres = (4.28e-22, 7.52e-09, 2.19e-07, 1.18e-08, 4.72e-07)\n",
      "[ Info: Arnoldi iteration step 21: normres = 0.03555701423642627\n",
      "[ Info: Arnoldi schursolve in iter 1, krylovdim = 21: 1 values converged, normres = (6.52e-24, 1.34e-09, 5.34e-09, 9.07e-09, 9.57e-09)\n",
      "[ Info: Arnoldi iteration step 22: normres = 0.059288272635629656\n",
      "[ Info: Arnoldi schursolve in iter 1, krylovdim = 22: 1 values converged, normres = (1.60e-25, 4.45e-11, 2.12e-10, 3.97e-10, 4.11e-10)\n",
      "[ Info: Arnoldi iteration step 23: normres = 0.5472085740553218\n",
      "[ Info: Arnoldi schursolve in iter 1, krylovdim = 23: 1 values converged, normres = (6.88e-26, 6.64e-11, 3.16e-10, 9.84e-10, 9.66e-10)\n",
      "[ Info: Arnoldi iteration step 24: normres = 0.016080244182727202\n",
      "[ Info: Arnoldi schursolve in iter 1, krylovdim = 24: 1 values converged, normres = (5.51e-28, 1.82e-12, 8.67e-12, 6.39e-03, 2.12e-03)\n",
      "[ Info: Arnoldi iteration step 25: normres = 0.09081781395892842\n",
      "[ Info: Arnoldi schursolve in iter 1, krylovdim = 25: 3 values converged, normres = (2.08e-29, 1.11e-13, 5.26e-13, 4.28e-08, 6.73e-08)\n",
      "[ Info: Arnoldi iteration step 26: normres = 0.03680162617361557\n",
      "[ Info: Arnoldi schursolve in iter 1, krylovdim = 26: 3 values converged, normres = (3.43e-31, 3.08e-15, 1.46e-14, 3.73e-08, 2.36e-08)\n",
      "[ Info: Arnoldi iteration step 27: normres = 0.03636985511257214\n",
      "[ Info: Arnoldi schursolve in iter 1, krylovdim = 27: 3 values converged, normres = (5.13e-33, 7.33e-17, 3.48e-16, 3.04e-07, 2.49e-08)\n",
      "[ Info: Arnoldi iteration step 28: normres = 0.06902319896847173\n",
      "[ Info: Arnoldi schursolve in iter 1, krylovdim = 28: 3 values converged, normres = (1.56e-34, 3.70e-18, 1.76e-17, 9.19e-09, 1.10e-08)\n",
      "[ Info: Arnoldi iteration step 29: normres = 0.01618832755912593\n",
      "[ Info: Arnoldi schursolve in iter 1, krylovdim = 29: 3 values converged, normres = (1.05e-36, 3.99e-20, 1.90e-19, 2.12e-10, 1.07e-10)\n",
      "[ Info: Arnoldi iteration step 30: normres = 0.18595924034744388\n",
      "[ Info: Arnoldi schursolve in iter 1, krylovdim = 30: 3 values converged, normres = (8.38e-38, 5.25e-21, 2.50e-20, 3.10e-11, 1.54e-11)\n",
      "[ Info: Arnoldi schursolve in iter 2, krylovdim = 19: 3 values converged, normres = (8.38e-38, 5.25e-21, 2.50e-20, 3.10e-11, 1.54e-11)\n",
      "[ Info: Arnoldi iteration step 20: normres = 0.052718274858939256\n",
      "[ Info: Arnoldi schursolve in iter 2, krylovdim = 20: 3 values converged, normres = (2.10e-39, 2.33e-22, 1.11e-21, 1.57e-12, 7.79e-13)\n",
      "[ Info: Arnoldi iteration step 21: normres = 0.07755392362025158\n",
      "┌ Info: Arnoldi eigsolve finished after 2 iterations:\n",
      "│ *  6 eigenvalues converged\n",
      "│ *  norm of residuals = (6.930618975333479e-41, 1.2532752837001947e-23, 5.94680647966812e-23, 9.316691431101997e-14, 5.50044845144571e-14, 2.3171453410483577e-14)\n",
      "└ *  number of operations = 32\n"
     ]
    }
   ],
   "cell_type": "code",
   "source": [
    "eigsolve(eps_fun, randn(size(scfres.ρ)), 5, :LM; eager=true, verbosity=3);"
   ],
   "metadata": {},
   "execution_count": 3
  }
 ],
 "nbformat_minor": 3,
 "metadata": {
  "language_info": {
   "file_extension": ".jl",
   "mimetype": "application/julia",
   "name": "julia",
   "version": "1.8.2"
  },
  "kernelspec": {
   "name": "julia-1.8",
   "display_name": "Julia 1.8.2",
   "language": "julia"
  }
 },
 "nbformat": 4
}
