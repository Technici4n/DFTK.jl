{
 "cells": [
  {
   "cell_type": "markdown",
   "source": [
    "# Custom solvers\n",
    "In this example, we show how to define custom solvers. Our system\n",
    "will again be silicon, because we are not very imaginative"
   ],
   "metadata": {}
  },
  {
   "outputs": [],
   "cell_type": "code",
   "source": [
    "using DFTK, LinearAlgebra\n",
    "\n",
    "a = 10.26\n",
    "lattice = a / 2 * [[0 1 1.];\n",
    "                   [1 0 1.];\n",
    "                   [1 1 0.]]\n",
    "Si = ElementPsp(:Si, psp=load_psp(\"hgh/lda/Si-q4\"))\n",
    "atoms = [Si, Si]\n",
    "positions =  [ones(3)/8, -ones(3)/8]\n",
    "\n",
    "# We take very (very) crude parameters\n",
    "model = model_LDA(lattice, atoms, positions)\n",
    "basis = PlaneWaveBasis(model; Ecut=5, kgrid=[1, 1, 1]);"
   ],
   "metadata": {},
   "execution_count": 1
  },
  {
   "cell_type": "markdown",
   "source": [
    "We define our custom fix-point solver: simply a damped fixed-point"
   ],
   "metadata": {}
  },
  {
   "outputs": [],
   "cell_type": "code",
   "source": [
    "function my_fp_solver(f, x0, max_iter; tol)\n",
    "    mixing_factor = .7\n",
    "    x = x0\n",
    "    fx = f(x)\n",
    "    for n = 1:max_iter\n",
    "        inc = fx - x\n",
    "        if norm(inc) < tol\n",
    "            break\n",
    "        end\n",
    "        x = x + mixing_factor * inc\n",
    "        fx = f(x)\n",
    "    end\n",
    "    (fixpoint=x, converged=norm(fx-x) < tol)\n",
    "end;"
   ],
   "metadata": {},
   "execution_count": 2
  },
  {
   "cell_type": "markdown",
   "source": [
    "Our eigenvalue solver just forms the dense matrix and diagonalizes\n",
    "it explicitly (this only works for very small systems)"
   ],
   "metadata": {}
  },
  {
   "outputs": [],
   "cell_type": "code",
   "source": [
    "function my_eig_solver(A, X0; maxiter, tol, kwargs...)\n",
    "    n = size(X0, 2)\n",
    "    A = Array(A)\n",
    "    E = eigen(A)\n",
    "    λ = E.values[1:n]\n",
    "    X = E.vectors[:, 1:n]\n",
    "    (; λ, X, residual_norms=[], iterations=0, converged=true, n_matvec=0)\n",
    "end;"
   ],
   "metadata": {},
   "execution_count": 3
  },
  {
   "cell_type": "markdown",
   "source": [
    "Finally we also define our custom mixing scheme. It will be a mixture\n",
    "of simple mixing (for the first 2 steps) and than default to Kerker mixing.\n",
    "In the mixing interface `δF` is $(ρ_\\text{out} - ρ_\\text{in})$, i.e.\n",
    "the difference in density between two subsequent SCF steps and the `mix`\n",
    "function returns $δρ$, which is added to $ρ_\\text{in}$ to yield $ρ_\\text{next}$,\n",
    "the density for the next SCF step."
   ],
   "metadata": {}
  },
  {
   "outputs": [],
   "cell_type": "code",
   "source": [
    "struct MyMixing\n",
    "    n_simple  # Number of iterations for simple mixing\n",
    "end\n",
    "MyMixing() = MyMixing(2)\n",
    "\n",
    "function DFTK.mix_density(mixing::MyMixing, basis, δF; n_iter, kwargs...)\n",
    "    if n_iter <= mixing.n_simple\n",
    "        return δF  # Simple mixing -> Do not modify update at all\n",
    "    else\n",
    "        # Use the default KerkerMixing from DFTK\n",
    "        DFTK.mix_density(KerkerMixing(), basis, δF; kwargs...)\n",
    "    end\n",
    "end"
   ],
   "metadata": {},
   "execution_count": 4
  },
  {
   "cell_type": "markdown",
   "source": [
    "That's it! Now we just run the SCF with these solvers"
   ],
   "metadata": {}
  },
  {
   "outputs": [
    {
     "name": "stdout",
     "output_type": "stream",
     "text": [
      "n     Energy            log10(ΔE)   log10(Δρ)   Diag   Δtime\n",
      "---   ---------------   ---------   ---------   ----   ------\n",
      "  1   -7.198162381411                   -0.47    0.0         \n",
      "  2   -7.243562758257       -1.34       -0.81    0.0    723ms\n",
      "  3   -7.250813090209       -2.14       -1.28    0.0   97.1ms\n",
      "  4   -7.251215687340       -3.40       -1.59    0.0   95.3ms\n",
      "  5   -7.251309457424       -4.03       -1.90    0.0    231ms\n",
      "  6   -7.251331514875       -4.66       -2.19    0.0   94.1ms\n",
      "  7   -7.251336890945       -5.27       -2.48    0.0   95.0ms\n",
      "  8   -7.251338268821       -5.86       -2.75    0.0   96.1ms\n",
      "  9   -7.251338642889       -6.43       -3.02    0.0   97.2ms\n",
      " 10   -7.251338750518       -6.97       -3.28    0.0   98.0ms\n",
      " 11   -7.251338783175       -7.49       -3.53    0.0    100ms\n",
      " 12   -7.251338793538       -7.98       -3.78    0.0    101ms\n",
      " 13   -7.251338796944       -8.47       -4.03    0.0    254ms\n",
      " 14   -7.251338798095       -8.94       -4.26    0.0   95.2ms\n",
      " 15   -7.251338798491       -9.40       -4.50    0.0   93.3ms\n",
      " 16   -7.251338798629       -9.86       -4.73    0.0   92.0ms\n",
      " 17   -7.251338798678      -10.31       -4.96    0.0   92.1ms\n",
      " 18   -7.251338798695      -10.76       -5.19    0.0   91.2ms\n",
      " 19   -7.251338798701      -11.21       -5.42    0.0   94.2ms\n",
      " 20   -7.251338798703      -11.66       -5.64    0.0    255ms\n",
      " 21   -7.251338798704      -12.10       -5.87    0.0   93.1ms\n",
      " 22   -7.251338798704      -12.55       -6.09    0.0   92.0ms\n",
      " 23   -7.251338798704      -13.00       -6.32    0.0   98.4ms\n",
      " 24   -7.251338798705      -13.43       -6.54    0.0   91.3ms\n",
      " 25   -7.251338798705      -13.82       -6.76    0.0   94.5ms\n",
      " 26   -7.251338798705      -14.57       -6.98    0.0   92.6ms\n",
      " 27   -7.251338798705   +    -Inf       -7.19    0.0   95.7ms\n",
      " 28   -7.251338798705   +  -14.15       -7.11    0.0    215ms\n",
      " 29   -7.251338798705      -13.97       -7.32    0.0   93.9ms\n",
      " 30   -7.251338798705   +  -14.75       -7.61    0.0   93.3ms\n",
      " 31   -7.251338798705      -14.75       -7.46    0.0   90.6ms\n",
      " 32   -7.251338798705   +  -14.75       -7.73    0.0   88.2ms\n",
      " 33   -7.251338798705   +  -14.27       -7.21    0.0   98.9ms\n",
      " 34   -7.251338798705      -14.21       -7.43    0.0   97.3ms\n",
      " 35   -7.251338798705   +  -14.57       -7.78    0.0    213ms\n",
      " 36   -7.251338798705      -14.57       -7.50    0.0   92.3ms\n",
      " 37   -7.251338798705   +  -15.05       -7.62    0.0   97.9ms\n",
      " 38   -7.251338798705      -14.75       -7.61    0.0   96.9ms\n",
      " 39   -7.251338798705   +  -14.45       -7.61    0.0   90.5ms\n",
      " 40   -7.251338798705      -14.45       -7.87    0.0   92.7ms\n",
      " 41   -7.251338798705   +  -14.21       -7.20    0.0   93.7ms\n",
      " 42   -7.251338798705      -14.35       -7.46    0.0   98.6ms\n",
      " 43   -7.251338798705      -14.75       -7.74    0.0    212ms\n",
      " 44   -7.251338798705      -15.05       -7.72    0.0   96.9ms\n",
      " 45   -7.251338798705      -15.05       -7.83    0.0   98.6ms\n",
      " 46   -7.251338798705   +  -14.45       -7.55    0.0    100ms\n",
      " 47   -7.251338798705   +    -Inf       -7.40    0.0    101ms\n",
      " 48   -7.251338798705      -14.75       -7.50    0.0   93.1ms\n",
      " 49   -7.251338798705   +    -Inf       -7.75    0.0   92.7ms\n",
      " 50   -7.251338798705   +  -14.75       -7.58    0.0   92.6ms\n",
      " 51   -7.251338798705      -15.05       -7.58    0.0    206ms\n",
      " 52   -7.251338798705   +  -15.05       -7.48    0.0   86.2ms\n",
      " 53   -7.251338798705      -14.75       -7.68    0.0   92.0ms\n",
      " 54   -7.251338798705   +  -14.75       -7.55    0.0   92.5ms\n",
      " 55   -7.251338798705      -14.75       -7.80    0.0   94.6ms\n",
      " 56   -7.251338798705   +    -Inf       -7.86    0.0   93.6ms\n",
      " 57   -7.251338798705   +  -14.45       -7.40    0.0   97.5ms\n",
      " 58   -7.251338798705      -14.45       -7.60    0.0    209ms\n",
      " 59   -7.251338798705   +  -14.45       -7.52    0.0   98.8ms\n",
      " 60   -7.251338798705      -14.35       -7.52    0.0   94.3ms\n",
      " 61   -7.251338798705   +  -14.57       -7.66    0.0   93.9ms\n",
      " 62   -7.251338798705   +    -Inf       -7.73    0.0   92.5ms\n",
      " 63   -7.251338798705      -15.05       -7.60    0.0   91.9ms\n",
      " 64   -7.251338798705      -15.05       -7.73    0.0   93.7ms\n",
      " 65   -7.251338798705   +  -14.75       -7.73    0.0    103ms\n",
      " 66   -7.251338798705      -14.75       -7.53    0.0    207ms\n",
      " 67   -7.251338798705   +    -Inf       -7.50    0.0   87.7ms\n",
      " 68   -7.251338798705   +  -14.75       -7.64    0.0   94.3ms\n",
      " 69   -7.251338798705   +  -14.75       -7.77    0.0   91.3ms\n",
      " 70   -7.251338798705      -14.45       -7.84    0.0   91.5ms\n",
      " 71   -7.251338798705   +    -Inf       -7.95    0.0   91.3ms\n",
      " 72   -7.251338798705   +  -14.75       -7.37    0.0   92.4ms\n",
      " 73   -7.251338798705   +  -14.57       -7.30    0.0    101ms\n",
      " 74   -7.251338798705      -14.57       -7.55    0.0    211ms\n",
      " 75   -7.251338798705   +  -14.75       -7.61    0.0   95.0ms\n",
      " 76   -7.251338798705   +  -14.45       -7.28    0.0   92.4ms\n",
      " 77   -7.251338798705      -14.15       -7.52    0.0   91.6ms\n",
      " 78   -7.251338798705   +    -Inf       -7.55    0.0   91.3ms\n",
      " 79   -7.251338798705      -14.75       -7.69    0.0   91.4ms\n",
      " 80   -7.251338798705   +  -14.75       -7.91    0.0   90.3ms\n",
      " 81   -7.251338798705   +  -13.85       -7.10    0.0    205ms\n",
      " 82   -7.251338798705      -13.85       -7.34    0.0   91.1ms\n",
      " 83   -7.251338798705   +    -Inf       -7.69    0.0   97.1ms\n",
      " 84   -7.251338798705   +  -14.75       -7.57    0.0   98.6ms\n",
      " 85   -7.251338798705   +  -14.35       -7.30    0.0   91.6ms\n",
      " 86   -7.251338798705      -14.21       -7.50    0.0   92.1ms\n",
      " 87   -7.251338798705      -14.75       -7.71    0.0   90.7ms\n",
      " 88   -7.251338798705   +  -14.05       -7.28    0.0   97.5ms\n",
      " 89   -7.251338798705      -14.35       -7.53    0.0    203ms\n",
      " 90   -7.251338798705      -14.57       -7.52    0.0   89.4ms\n",
      " 91   -7.251338798705   +    -Inf       -7.70    0.0   92.9ms\n",
      " 92   -7.251338798705   +    -Inf       -7.90    0.0   92.2ms\n",
      " 93   -7.251338798705   +  -14.21       -7.27    0.0   94.5ms\n",
      " 94   -7.251338798705      -14.27       -7.51    0.0   94.9ms\n",
      " 95   -7.251338798705      -14.75       -7.65    0.0   96.5ms\n",
      " 96   -7.251338798705   +  -15.05       -7.79    0.0   95.6ms\n",
      " 97   -7.251338798705   +  -14.27       -7.29    0.0    207ms\n",
      " 98   -7.251338798705      -14.15       -7.53    0.0   95.3ms\n",
      " 99   -7.251338798705   +  -14.75       -7.84    0.0   91.2ms\n",
      " 100   -7.251338798705   +  -14.15       -7.23    0.0   96.3ms\n",
      " 101   -7.251338798705      -14.45       -7.48    0.0   94.3ms\n",
      "┌ Warning: SCF not converged.\n",
      "└ @ DFTK ~/work/DFTK.jl/DFTK.jl/src/scf/scf_callbacks.jl:38\n"
     ]
    }
   ],
   "cell_type": "code",
   "source": [
    "scfres = self_consistent_field(basis;\n",
    "                               tol=1e-8,\n",
    "                               solver=my_fp_solver,\n",
    "                               eigensolver=my_eig_solver,\n",
    "                               mixing=MyMixing());"
   ],
   "metadata": {},
   "execution_count": 5
  },
  {
   "cell_type": "markdown",
   "source": [
    "Note that the default convergence criterion is the difference in\n",
    "density. When this gets below `tol`, the\n",
    "\"driver\" `self_consistent_field` artificially makes the fixed-point\n",
    "solver think it's converged by forcing `f(x) = x`. You can customize\n",
    "this with the `is_converged` keyword argument to\n",
    "`self_consistent_field`."
   ],
   "metadata": {}
  }
 ],
 "nbformat_minor": 3,
 "metadata": {
  "language_info": {
   "file_extension": ".jl",
   "mimetype": "application/julia",
   "name": "julia",
   "version": "1.8.5"
  },
  "kernelspec": {
   "name": "julia-1.8",
   "display_name": "Julia 1.8.5",
   "language": "julia"
  }
 },
 "nbformat": 4
}
