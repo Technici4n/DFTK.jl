{
 "cells": [
  {
   "cell_type": "markdown",
   "source": [
    "# Eigenvalues of the dielectric matrix\n",
    "\n",
    "We compute a few eigenvalues of the dielectric matrix ($q=0$, $ω=0$) iteratively."
   ],
   "metadata": {}
  },
  {
   "outputs": [
    {
     "name": "stdout",
     "output_type": "stream",
     "text": [
      "n     Energy            log10(ΔE)   log10(Δρ)   Diag\n",
      "---   ---------------   ---------   ---------   ----\n",
      "  1   -7.234432708341                   -0.50    8.0\n",
      "  2   -7.250330294518       -1.80       -1.41    1.0\n",
      "  3   -7.251168224425       -3.08       -1.97    4.0\n",
      "  4   -7.250939844828   +   -3.64       -1.87    4.0\n",
      "  5   -7.251336715968       -3.40       -2.95    3.0\n",
      "  6   -7.251338338980       -5.79       -3.24    3.0\n",
      "  7   -7.251338790054       -6.35       -4.13    2.0\n",
      "  8   -7.251338796679       -8.18       -4.37    4.0\n",
      "  9   -7.251338798598       -8.72       -4.86    3.0\n",
      " 10   -7.251338798633      -10.45       -5.03    1.0\n",
      " 11   -7.251338798703      -10.16       -5.97    3.0\n",
      " 12   -7.251338798704      -11.77       -6.46    3.0\n",
      " 13   -7.251338798705      -13.16       -6.83    2.0\n",
      " 14   -7.251338798705      -14.27       -7.33    2.0\n"
     ]
    }
   ],
   "cell_type": "code",
   "source": [
    "using DFTK\n",
    "using Plots\n",
    "using KrylovKit\n",
    "using Printf\n",
    "\n",
    "# Calculation parameters\n",
    "kgrid = [1, 1, 1]\n",
    "Ecut = 5\n",
    "\n",
    "# Silicon lattice\n",
    "a = 10.26\n",
    "lattice = a / 2 .* [[0 1 1.]; [1 0 1.]; [1 1 0.]]\n",
    "Si = ElementPsp(:Si, psp=load_psp(\"hgh/lda/Si-q4\"))\n",
    "atoms     = [Si, Si]\n",
    "positions = [ones(3)/8, -ones(3)/8]\n",
    "\n",
    "# Compute the dielectric operator without symmetries\n",
    "model = model_LDA(lattice, atoms, positions, symmetries=false)\n",
    "basis = PlaneWaveBasis(model; Ecut, kgrid)\n",
    "scfres = self_consistent_field(basis, tol=1e-14);"
   ],
   "metadata": {},
   "execution_count": 1
  },
  {
   "cell_type": "markdown",
   "source": [
    "Applying $ε^† ≔ (1- χ_0 K)$ …"
   ],
   "metadata": {}
  },
  {
   "outputs": [],
   "cell_type": "code",
   "source": [
    "function eps_fun(δρ)\n",
    "    δV = apply_kernel(basis, δρ; ρ=scfres.ρ)\n",
    "    χ0δV = apply_χ0(scfres, δV)\n",
    "    δρ - χ0δV\n",
    "end;"
   ],
   "metadata": {},
   "execution_count": 2
  },
  {
   "cell_type": "markdown",
   "source": [
    "… eagerly diagonalizes the subspace matrix at each iteration"
   ],
   "metadata": {}
  },
  {
   "outputs": [
    {
     "name": "stdout",
     "output_type": "stream",
     "text": [
      "[ Info: Arnoldi iteration step 1: normres = 0.047205602577258636\n",
      "[ Info: Arnoldi iteration step 2: normres = 0.6140561276935238\n",
      "[ Info: Arnoldi iteration step 3: normres = 0.8424301264702035\n",
      "[ Info: Arnoldi iteration step 4: normres = 0.21401493912429137\n",
      "[ Info: Arnoldi iteration step 5: normres = 0.6206389259486044\n",
      "[ Info: Arnoldi schursolve in iter 1, krylovdim = 5: 0 values converged, normres = (2.75e-02, 8.60e-02, 5.83e-01, 1.93e-01, 5.82e-03)\n",
      "[ Info: Arnoldi iteration step 6: normres = 0.18304646681448217\n",
      "[ Info: Arnoldi schursolve in iter 1, krylovdim = 6: 0 values converged, normres = (4.07e-03, 1.06e-01, 9.67e-02, 8.21e-02, 2.17e-02)\n",
      "[ Info: Arnoldi iteration step 7: normres = 0.13227177854624608\n",
      "[ Info: Arnoldi schursolve in iter 1, krylovdim = 7: 0 values converged, normres = (2.60e-04, 1.24e-02, 1.15e-02, 1.09e-01, 6.61e-02)\n",
      "[ Info: Arnoldi iteration step 8: normres = 0.11560673459904641\n",
      "[ Info: Arnoldi schursolve in iter 1, krylovdim = 8: 0 values converged, normres = (1.32e-05, 1.05e-03, 1.09e-03, 4.35e-02, 4.16e-02)\n",
      "[ Info: Arnoldi iteration step 9: normres = 0.07538447911933947\n",
      "[ Info: Arnoldi schursolve in iter 1, krylovdim = 9: 0 values converged, normres = (4.36e-07, 5.77e-05, 6.64e-05, 1.26e-02, 3.73e-02)\n",
      "[ Info: Arnoldi iteration step 10: normres = 0.11237104960176555\n",
      "[ Info: Arnoldi schursolve in iter 1, krylovdim = 10: 0 values converged, normres = (2.13e-08, 4.67e-06, 5.99e-06, 5.11e-03, 3.49e-02)\n",
      "[ Info: Arnoldi iteration step 11: normres = 0.06242339263465149\n",
      "[ Info: Arnoldi schursolve in iter 1, krylovdim = 11: 0 values converged, normres = (5.83e-10, 2.12e-07, 3.03e-07, 1.22e-03, 2.18e-02)\n",
      "[ Info: Arnoldi iteration step 12: normres = 0.07148995878317448\n",
      "[ Info: Arnoldi schursolve in iter 1, krylovdim = 12: 0 values converged, normres = (1.75e-11, 1.03e-08, 1.63e-08, 2.34e-04, 7.37e-03)\n",
      "[ Info: Arnoldi iteration step 13: normres = 0.19247127042364956\n",
      "[ Info: Arnoldi schursolve in iter 1, krylovdim = 13: 0 values converged, normres = (1.47e-12, 1.44e-09, 2.52e-09, 1.59e-04, 1.10e-02)\n",
      "[ Info: Arnoldi iteration step 14: normres = 0.2488807447992073\n",
      "[ Info: Arnoldi schursolve in iter 1, krylovdim = 14: 1 values converged, normres = (3.34e-13, 2.03e-09, 1.94e-08, 2.41e-01, 6.04e-04)\n",
      "[ Info: Arnoldi iteration step 15: normres = 0.1991187391902644\n",
      "[ Info: Arnoldi schursolve in iter 1, krylovdim = 15: 1 values converged, normres = (2.88e-14, 3.56e-10, 3.57e-02, 2.51e-04, 1.56e-05)\n",
      "[ Info: Arnoldi iteration step 16: normres = 0.2075742174731902\n",
      "[ Info: Arnoldi schursolve in iter 1, krylovdim = 16: 1 values converged, normres = (6.28e-15, 2.79e-09, 1.96e-01, 2.67e-03, 6.26e-02)\n",
      "[ Info: Arnoldi iteration step 17: normres = 0.0299605177657885\n",
      "[ Info: Arnoldi schursolve in iter 1, krylovdim = 17: 1 values converged, normres = (8.05e-17, 3.43e-08, 3.99e-03, 5.17e-07, 1.19e-03)\n",
      "[ Info: Arnoldi iteration step 18: normres = 0.020545902202729407\n",
      "[ Info: Arnoldi schursolve in iter 1, krylovdim = 18: 1 values converged, normres = (6.83e-19, 1.67e-08, 5.42e-05, 5.10e-08, 1.78e-05)\n",
      "[ Info: Arnoldi iteration step 19: normres = 0.0602689552055917\n",
      "[ Info: Arnoldi schursolve in iter 1, krylovdim = 19: 1 values converged, normres = (1.71e-20, 2.12e-06, 4.88e-07, 7.42e-07, 2.51e-07)\n",
      "[ Info: Arnoldi iteration step 20: normres = 0.1963231825104308\n",
      "[ Info: Arnoldi schursolve in iter 1, krylovdim = 20: 1 values converged, normres = (1.55e-21, 2.46e-08, 3.40e-07, 1.24e-07, 6.15e-08)\n",
      "[ Info: Arnoldi iteration step 21: normres = 0.030560377872411608\n",
      "[ Info: Arnoldi schursolve in iter 1, krylovdim = 21: 1 values converged, normres = (2.12e-23, 2.24e-09, 7.56e-09, 3.23e-09, 1.57e-09)\n",
      "[ Info: Arnoldi iteration step 22: normres = 0.5433290564708503\n",
      "[ Info: Arnoldi schursolve in iter 1, krylovdim = 22: 1 values converged, normres = (5.45e-24, 1.16e-09, 3.36e-09, 1.65e-09, 7.98e-10)\n",
      "[ Info: Arnoldi iteration step 23: normres = 0.03326597468685304\n",
      "[ Info: Arnoldi schursolve in iter 1, krylovdim = 23: 1 values converged, normres = (1.51e-25, 2.05e-10, 6.41e-10, 2.32e-02, 1.56e-02)\n",
      "[ Info: Arnoldi iteration step 24: normres = 0.01841162171293883\n",
      "[ Info: Arnoldi schursolve in iter 1, krylovdim = 24: 1 values converged, normres = (1.13e-27, 2.48e-12, 7.58e-12, 2.77e-04, 2.13e-04)\n",
      "[ Info: Arnoldi iteration step 25: normres = 0.13130750320495432\n",
      "[ Info: Arnoldi schursolve in iter 1, krylovdim = 25: 3 values converged, normres = (6.36e-29, 2.29e-13, 6.99e-13, 2.09e-07, 4.05e-07)\n",
      "[ Info: Arnoldi iteration step 26: normres = 0.022365061084822738\n",
      "[ Info: Arnoldi schursolve in iter 1, krylovdim = 26: 3 values converged, normres = (6.19e-31, 3.69e-15, 1.13e-14, 2.41e-08, 1.22e-08)\n",
      "[ Info: Arnoldi iteration step 27: normres = 0.050775730353731244\n",
      "[ Info: Arnoldi schursolve in iter 1, krylovdim = 27: 3 values converged, normres = (1.30e-32, 1.23e-16, 3.77e-16, 9.34e-09, 1.90e-08)\n",
      "[ Info: Arnoldi iteration step 28: normres = 0.05716918679520321\n",
      "[ Info: Arnoldi schursolve in iter 1, krylovdim = 28: 3 values converged, normres = (3.27e-34, 5.19e-18, 1.59e-17, 3.92e-10, 1.10e-09)\n",
      "[ Info: Arnoldi iteration step 29: normres = 0.015264199138249114\n",
      "[ Info: Arnoldi schursolve in iter 1, krylovdim = 29: 3 values converged, normres = (2.06e-36, 5.24e-20, 1.60e-19, 4.47e-12, 1.22e-11)\n",
      "[ Info: Arnoldi iteration step 30: normres = 0.20935499713415054\n",
      "[ Info: Arnoldi schursolve in iter 1, krylovdim = 30: 4 values converged, normres = (1.93e-37, 8.26e-21, 2.52e-20, 7.87e-13, 2.15e-12)\n",
      "[ Info: Arnoldi schursolve in iter 2, krylovdim = 19: 4 values converged, normres = (1.93e-37, 8.26e-21, 2.52e-20, 7.87e-13, 2.15e-12)\n",
      "[ Info: Arnoldi iteration step 20: normres = 0.03504860935981602\n",
      "┌ Info: Arnoldi eigsolve finished after 2 iterations:\n",
      "│ *  6 eigenvalues converged\n",
      "│ *  norm of residuals = (3.184737048289945e-39, 2.3004650679639206e-22, 7.306449757225603e-22, 2.4755326222315486e-14, 6.66590901729705e-14, 2.4108001293562088e-14)\n",
      "└ *  number of operations = 31\n"
     ]
    }
   ],
   "cell_type": "code",
   "source": [
    "eigsolve(eps_fun, randn(size(scfres.ρ)), 5, :LM; eager=true, verbosity=3);"
   ],
   "metadata": {},
   "execution_count": 3
  }
 ],
 "nbformat_minor": 3,
 "metadata": {
  "language_info": {
   "file_extension": ".jl",
   "mimetype": "application/julia",
   "name": "julia",
   "version": "1.8.2"
  },
  "kernelspec": {
   "name": "julia-1.8",
   "display_name": "Julia 1.8.2",
   "language": "julia"
  }
 },
 "nbformat": 4
}
