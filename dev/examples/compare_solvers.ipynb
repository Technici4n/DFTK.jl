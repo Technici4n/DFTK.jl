{
 "cells": [
  {
   "cell_type": "markdown",
   "source": [
    "# Comparison of DFT solvers"
   ],
   "metadata": {}
  },
  {
   "cell_type": "markdown",
   "source": [
    "We compare four different approaches for solving the DFT minimisation problem,\n",
    "namely a density-based SCF, a potential-based SCF, direct minimisation and Newton."
   ],
   "metadata": {}
  },
  {
   "cell_type": "markdown",
   "source": [
    "First we setup our problem"
   ],
   "metadata": {}
  },
  {
   "outputs": [
    {
     "output_type": "execute_result",
     "data": {
      "text/plain": "1.0e-6"
     },
     "metadata": {},
     "execution_count": 1
    }
   ],
   "cell_type": "code",
   "source": [
    "using DFTK\n",
    "using LinearAlgebra\n",
    "\n",
    "a = 10.26  # Silicon lattice constant in Bohr\n",
    "lattice = a / 2 * [[0 1 1.];\n",
    "                   [1 0 1.];\n",
    "                   [1 1 0.]]\n",
    "Si = ElementPsp(:Si, psp=load_psp(\"hgh/lda/Si-q4\"))\n",
    "atoms     = [Si, Si]\n",
    "positions = [ones(3)/8, -ones(3)/8]\n",
    "\n",
    "model = model_LDA(lattice, atoms, positions)\n",
    "basis = PlaneWaveBasis(model; Ecut=5, kgrid=[3, 3, 3])\n",
    "\n",
    "# Convergence we desire in the density\n",
    "tol = 1e-6"
   ],
   "metadata": {},
   "execution_count": 1
  },
  {
   "cell_type": "markdown",
   "source": [
    "## Density-based self-consistent field"
   ],
   "metadata": {}
  },
  {
   "outputs": [
    {
     "name": "stdout",
     "output_type": "stream",
     "text": [
      "n     Energy            log10(ΔE)   log10(Δρ)   Diag   Δtime\n",
      "---   ---------------   ---------   ---------   ----   ------\n",
      "  1   -7.846776764444                   -0.70    4.5         \n",
      "  2   -7.852314679519       -2.26       -1.53    1.0   29.7ms\n",
      "  3   -7.852615280567       -3.52       -2.55    1.5   34.3ms\n",
      "  4   -7.852645947678       -4.51       -2.87    2.5   39.5ms\n",
      "  5   -7.852646477112       -6.28       -3.14    1.0   30.7ms\n",
      "  6   -7.852646678730       -6.70       -4.10    1.2   31.0ms\n",
      "  7   -7.852646686640       -8.10       -5.13    2.2   38.7ms\n",
      "  8   -7.852646686725      -10.07       -5.48    1.5   33.7ms\n",
      "  9   -7.852646686726      -12.22       -5.47    1.2   31.4ms\n",
      " 10   -7.852646686730      -11.41       -6.74    1.0   30.0ms\n"
     ]
    }
   ],
   "cell_type": "code",
   "source": [
    "scfres_scf = self_consistent_field(basis; tol);"
   ],
   "metadata": {},
   "execution_count": 2
  },
  {
   "cell_type": "markdown",
   "source": [
    "## Potential-based SCF"
   ],
   "metadata": {}
  },
  {
   "outputs": [
    {
     "name": "stdout",
     "output_type": "stream",
     "text": [
      "n     Energy            log10(ΔE)   log10(Δρ)   α      Diag   Δtime\n",
      "---   ---------------   ---------   ---------   ----   ----   ------\n",
      "  1   -7.846827243147                   -0.70           4.2         \n",
      "  2   -7.852529400443       -2.24       -1.64   0.80    2.2    331ms\n",
      "  3   -7.852637286534       -3.97       -2.72   0.80    1.0   27.7ms\n",
      "  4   -7.852646437011       -5.04       -3.30   0.80    2.0   35.2ms\n",
      "  5   -7.852646682489       -6.61       -4.16   0.80    1.8   32.9ms\n",
      "  6   -7.852646686572       -8.39       -4.86   0.80    2.0   34.2ms\n",
      "  7   -7.852646686723       -9.82       -5.85   0.80    1.8   33.9ms\n",
      "  8   -7.852646686730      -11.20       -6.57   0.80    2.2   35.8ms\n"
     ]
    }
   ],
   "cell_type": "code",
   "source": [
    "scfres_scfv = DFTK.scf_potential_mixing(basis; tol);"
   ],
   "metadata": {},
   "execution_count": 3
  },
  {
   "cell_type": "markdown",
   "source": [
    "## Direct minimization\n",
    "Note: Unlike the other algorithms, tolerance for this one is in the energy,\n",
    "thus we square the density tolerance value to be roughly equivalent."
   ],
   "metadata": {}
  },
  {
   "outputs": [
    {
     "name": "stdout",
     "output_type": "stream",
     "text": [
      "Iter     Function value   Gradient norm \n",
      "     0     1.405013e+01     3.481822e+00\n",
      " * time: 0.06895995140075684\n",
      "     1     1.102799e+00     1.921991e+00\n",
      " * time: 0.32888197898864746\n",
      "     2    -1.605068e+00     2.113716e+00\n",
      " * time: 0.35839009284973145\n",
      "     3    -3.944285e+00     1.730618e+00\n",
      " * time: 0.4003620147705078\n",
      "     4    -5.282932e+00     1.463238e+00\n",
      " * time: 0.4415099620819092\n",
      "     5    -6.981249e+00     7.145949e-01\n",
      " * time: 0.48272109031677246\n",
      "     6    -7.295606e+00     6.905351e-01\n",
      " * time: 0.5103180408477783\n",
      "     7    -7.729764e+00     2.006619e-01\n",
      " * time: 0.5390410423278809\n",
      "     8    -7.799664e+00     1.257350e-01\n",
      " * time: 0.5682320594787598\n",
      "     9    -7.829489e+00     8.027929e-02\n",
      " * time: 0.597661018371582\n",
      "    10    -7.842262e+00     5.117779e-02\n",
      " * time: 0.6265299320220947\n",
      "    11    -7.847937e+00     3.955934e-02\n",
      " * time: 0.655493974685669\n",
      "    12    -7.851219e+00     1.767533e-02\n",
      " * time: 0.6851019859313965\n",
      "    13    -7.852256e+00     1.243512e-02\n",
      " * time: 0.7144138813018799\n",
      "    14    -7.852508e+00     6.792961e-03\n",
      " * time: 0.7435359954833984\n",
      "    15    -7.852590e+00     3.201120e-03\n",
      " * time: 0.7719950675964355\n",
      "    16    -7.852630e+00     2.064137e-03\n",
      " * time: 0.8010499477386475\n",
      "    17    -7.852641e+00     1.511251e-03\n",
      " * time: 0.8303999900817871\n",
      "    18    -7.852645e+00     5.717845e-04\n",
      " * time: 0.8598430156707764\n",
      "    19    -7.852646e+00     3.605140e-04\n",
      " * time: 0.8889620304107666\n",
      "    20    -7.852646e+00     2.342912e-04\n",
      " * time: 0.9181969165802002\n",
      "    21    -7.852647e+00     1.294975e-04\n",
      " * time: 0.9469759464263916\n",
      "    22    -7.852647e+00     7.684306e-05\n",
      " * time: 0.9758179187774658\n",
      "    23    -7.852647e+00     4.131566e-05\n",
      " * time: 1.0049560070037842\n",
      "    24    -7.852647e+00     2.454400e-05\n",
      " * time: 1.0342679023742676\n",
      "    25    -7.852647e+00     1.721786e-05\n",
      " * time: 1.0638360977172852\n",
      "    26    -7.852647e+00     8.455840e-06\n",
      " * time: 1.0939929485321045\n",
      "    27    -7.852647e+00     5.422124e-06\n",
      " * time: 1.1234838962554932\n",
      "    28    -7.852647e+00     3.816946e-06\n",
      " * time: 1.1530039310455322\n",
      "    29    -7.852647e+00     2.077934e-06\n",
      " * time: 1.1825239658355713\n",
      "    30    -7.852647e+00     1.138020e-06\n",
      " * time: 1.2118849754333496\n",
      "    31    -7.852647e+00     6.698691e-07\n",
      " * time: 1.2417659759521484\n",
      "    32    -7.852647e+00     3.554308e-07\n",
      " * time: 1.2718620300292969\n",
      "    33    -7.852647e+00     1.978706e-07\n",
      " * time: 1.3008198738098145\n",
      "    34    -7.852647e+00     1.324748e-07\n",
      " * time: 1.3982529640197754\n",
      "    35    -7.852647e+00     6.483447e-08\n",
      " * time: 1.4281039237976074\n",
      "    36    -7.852647e+00     3.149492e-08\n",
      " * time: 1.4582428932189941\n",
      "    37    -7.852647e+00     2.153340e-08\n",
      " * time: 1.4886090755462646\n",
      "    38    -7.852647e+00     9.339443e-09\n",
      " * time: 1.5183908939361572\n",
      "    39    -7.852647e+00     8.866211e-09\n",
      " * time: 1.5743699073791504\n",
      "    40    -7.852647e+00     4.002439e-09\n",
      " * time: 1.6044929027557373\n",
      "    41    -7.852647e+00     3.105536e-09\n",
      " * time: 1.6343660354614258\n"
     ]
    }
   ],
   "cell_type": "code",
   "source": [
    "scfres_dm = direct_minimization(basis; tol=tol^2);"
   ],
   "metadata": {},
   "execution_count": 4
  },
  {
   "cell_type": "markdown",
   "source": [
    "## Newton algorithm"
   ],
   "metadata": {}
  },
  {
   "cell_type": "markdown",
   "source": [
    "Start not too far from the solution to ensure convergence:\n",
    "We run first a very crude SCF to get close and then switch to Newton."
   ],
   "metadata": {}
  },
  {
   "outputs": [
    {
     "name": "stdout",
     "output_type": "stream",
     "text": [
      "n     Energy            log10(ΔE)   log10(Δρ)   Diag   Δtime\n",
      "---   ---------------   ---------   ---------   ----   ------\n",
      "  1   -7.846860480053                   -0.70    4.5         \n"
     ]
    }
   ],
   "cell_type": "code",
   "source": [
    "scfres_start = self_consistent_field(basis; tol=0.5);"
   ],
   "metadata": {},
   "execution_count": 5
  },
  {
   "cell_type": "markdown",
   "source": [
    "Remove the virtual orbitals (which Newton cannot treat yet)"
   ],
   "metadata": {}
  },
  {
   "outputs": [
    {
     "name": "stdout",
     "output_type": "stream",
     "text": [
      "n     Energy            log10(ΔE)   log10(Δρ)   Δtime\n",
      "---   ---------------   ---------   ---------   ------\n",
      "  1   -7.852645916084                   -1.64         \n",
      "  2   -7.852646686730       -6.11       -3.71    2.34s\n",
      "  3   -7.852646686730      -13.30       -7.25    215ms\n"
     ]
    }
   ],
   "cell_type": "code",
   "source": [
    "ψ = DFTK.select_occupied_orbitals(basis, scfres_start.ψ, scfres_start.occupation).ψ\n",
    "scfres_newton = newton(basis, ψ; tol);"
   ],
   "metadata": {},
   "execution_count": 6
  },
  {
   "cell_type": "markdown",
   "source": [
    "## Comparison of results"
   ],
   "metadata": {}
  },
  {
   "outputs": [
    {
     "name": "stdout",
     "output_type": "stream",
     "text": [
      "|ρ_newton - ρ_scf|  = 3.066341977444012e-7\n",
      "|ρ_newton - ρ_scfv| = 1.2855444887966448e-7\n",
      "|ρ_newton - ρ_dm|   = 6.392577152507202e-10\n"
     ]
    }
   ],
   "cell_type": "code",
   "source": [
    "println(\"|ρ_newton - ρ_scf|  = \", norm(scfres_newton.ρ - scfres_scf.ρ))\n",
    "println(\"|ρ_newton - ρ_scfv| = \", norm(scfres_newton.ρ - scfres_scfv.ρ))\n",
    "println(\"|ρ_newton - ρ_dm|   = \", norm(scfres_newton.ρ - scfres_dm.ρ))"
   ],
   "metadata": {},
   "execution_count": 7
  }
 ],
 "nbformat_minor": 3,
 "metadata": {
  "language_info": {
   "file_extension": ".jl",
   "mimetype": "application/julia",
   "name": "julia",
   "version": "1.9.0"
  },
  "kernelspec": {
   "name": "julia-1.9",
   "display_name": "Julia 1.9.0",
   "language": "julia"
  }
 },
 "nbformat": 4
}
