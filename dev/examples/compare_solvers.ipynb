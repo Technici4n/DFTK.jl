{
 "cells": [
  {
   "cell_type": "markdown",
   "source": [
    "# Comparison of DFT solvers"
   ],
   "metadata": {}
  },
  {
   "cell_type": "markdown",
   "source": [
    "We compare four different approaches for solving the DFT minimisation problem,\n",
    "namely a density-based SCF, a potential-based SCF, direct minimisation and Newton."
   ],
   "metadata": {}
  },
  {
   "cell_type": "markdown",
   "source": [
    "First we setup our problem"
   ],
   "metadata": {}
  },
  {
   "outputs": [
    {
     "output_type": "execute_result",
     "data": {
      "text/plain": "1.0e-6"
     },
     "metadata": {},
     "execution_count": 1
    }
   ],
   "cell_type": "code",
   "source": [
    "using DFTK\n",
    "using LinearAlgebra\n",
    "\n",
    "a = 10.26  # Silicon lattice constant in Bohr\n",
    "lattice = a / 2 * [[0 1 1.];\n",
    "                   [1 0 1.];\n",
    "                   [1 1 0.]]\n",
    "Si = ElementPsp(:Si, psp=load_psp(\"hgh/lda/Si-q4\"))\n",
    "atoms     = [Si, Si]\n",
    "positions = [ones(3)/8, -ones(3)/8]\n",
    "\n",
    "model = model_LDA(lattice, atoms, positions)\n",
    "basis = PlaneWaveBasis(model; Ecut=5, kgrid=[3, 3, 3])\n",
    "\n",
    "# Convergence we desire in the density\n",
    "tol = 1e-6"
   ],
   "metadata": {},
   "execution_count": 1
  },
  {
   "cell_type": "markdown",
   "source": [
    "## Density-based self-consistent field"
   ],
   "metadata": {}
  },
  {
   "outputs": [
    {
     "name": "stdout",
     "output_type": "stream",
     "text": [
      "n     Energy            log10(ΔE)   log10(Δρ)   Diag   Δtime\n",
      "---   ---------------   ---------   ---------   ----   ------\n",
      "  1   -7.846862674927                   -0.70    4.5         \n",
      "  2   -7.852328695673       -2.26       -1.53    1.0   23.0ms\n",
      "  3   -7.852616145052       -3.54       -2.55    1.5   24.9ms\n",
      "  4   -7.852645961751       -4.53       -2.88    2.5   31.2ms\n",
      "  5   -7.852646500904       -6.27       -3.18    1.0   23.0ms\n",
      "  6   -7.852646678787       -6.75       -4.07    1.0   23.7ms\n",
      "  7   -7.852646686684       -8.10       -5.05    2.2   31.2ms\n",
      "  8   -7.852646686725      -10.39       -5.43    1.5   26.2ms\n",
      "  9   -7.852646686728      -11.52       -5.57    1.5   26.1ms\n",
      " 10   -7.852646686730      -11.69       -6.70    1.0   23.8ms\n"
     ]
    }
   ],
   "cell_type": "code",
   "source": [
    "scfres_scf = self_consistent_field(basis; tol);"
   ],
   "metadata": {},
   "execution_count": 2
  },
  {
   "cell_type": "markdown",
   "source": [
    "## Potential-based SCF"
   ],
   "metadata": {}
  },
  {
   "outputs": [
    {
     "name": "stdout",
     "output_type": "stream",
     "text": [
      "n     Energy            log10(ΔE)   log10(Δρ)   α      Diag   Δtime\n",
      "---   ---------------   ---------   ---------   ----   ----   ------\n",
      "  1   -7.846650334104                   -0.70           4.8         \n",
      "  2   -7.852524320213       -2.23       -1.63   0.80    2.0    256ms\n",
      "  3   -7.852635067408       -3.96       -2.74   0.80    1.0   21.6ms\n",
      "  4   -7.852646582222       -4.94       -3.22   0.80    2.2   29.4ms\n",
      "  5   -7.852646681389       -7.00       -4.06   0.80    1.0   21.9ms\n",
      "  6   -7.852646686380       -8.30       -4.84   0.80    1.2   22.9ms\n",
      "  7   -7.852646686719       -9.47       -6.03   0.80    2.0   26.4ms\n"
     ]
    }
   ],
   "cell_type": "code",
   "source": [
    "scfres_scfv = DFTK.scf_potential_mixing(basis; tol);"
   ],
   "metadata": {},
   "execution_count": 3
  },
  {
   "cell_type": "markdown",
   "source": [
    "## Direct minimization\n",
    "Note: Unlike the other algorithms, tolerance for this one is in the energy,\n",
    "thus we square the density tolerance value to be roughly equivalent."
   ],
   "metadata": {}
  },
  {
   "outputs": [
    {
     "name": "stdout",
     "output_type": "stream",
     "text": [
      "Iter     Function value   Gradient norm \n",
      "     0     1.365158e+01     3.203774e+00\n",
      " * time: 0.0571138858795166\n",
      "     1     1.168081e+00     1.788360e+00\n",
      " * time: 0.27680301666259766\n",
      "     2    -1.403232e+00     2.070497e+00\n",
      " * time: 0.2996499538421631\n",
      "     3    -3.476088e+00     1.637649e+00\n",
      " * time: 0.33226895332336426\n",
      "     4    -4.759202e+00     1.533888e+00\n",
      " * time: 0.3651309013366699\n",
      "     5    -6.500367e+00     1.194463e+00\n",
      " * time: 0.3979198932647705\n",
      "     6    -7.329846e+00     5.628575e-01\n",
      " * time: 0.43091893196105957\n",
      "     7    -7.614910e+00     1.475561e-01\n",
      " * time: 0.4538588523864746\n",
      "     8    -7.719996e+00     1.947586e-01\n",
      " * time: 0.4768340587615967\n",
      "     9    -7.771750e+00     1.456097e-01\n",
      " * time: 0.49973583221435547\n",
      "    10    -7.811256e+00     1.042340e-01\n",
      " * time: 0.5229129791259766\n",
      "    11    -7.837440e+00     6.310637e-02\n",
      " * time: 0.5461008548736572\n",
      "    12    -7.845147e+00     6.162088e-02\n",
      " * time: 0.5694029331207275\n",
      "    13    -7.846466e+00     5.594612e-02\n",
      " * time: 0.5923349857330322\n",
      "    14    -7.847140e+00     4.911564e-02\n",
      " * time: 0.6149389743804932\n",
      "    15    -7.849666e+00     2.930819e-02\n",
      " * time: 0.6374788284301758\n",
      "    16    -7.851809e+00     2.525618e-02\n",
      " * time: 0.6600759029388428\n",
      "    17    -7.852354e+00     1.556301e-02\n",
      " * time: 0.6829700469970703\n",
      "    18    -7.852529e+00     6.301636e-03\n",
      " * time: 0.706204891204834\n",
      "    19    -7.852601e+00     4.581413e-03\n",
      " * time: 0.7287399768829346\n",
      "    20    -7.852629e+00     2.843911e-03\n",
      " * time: 0.7513189315795898\n",
      "    21    -7.852641e+00     1.248150e-03\n",
      " * time: 0.7741379737854004\n",
      "    22    -7.852645e+00     6.710496e-04\n",
      " * time: 0.7966759204864502\n",
      "    23    -7.852646e+00     4.565611e-04\n",
      " * time: 0.8194220066070557\n",
      "    24    -7.852647e+00     2.284608e-04\n",
      " * time: 0.8420848846435547\n",
      "    25    -7.852647e+00     1.425514e-04\n",
      " * time: 0.8645260334014893\n",
      "    26    -7.852647e+00     8.855807e-05\n",
      " * time: 0.9506230354309082\n",
      "    27    -7.852647e+00     3.830833e-05\n",
      " * time: 0.9736518859863281\n",
      "    28    -7.852647e+00     2.452425e-05\n",
      " * time: 0.9966230392456055\n",
      "    29    -7.852647e+00     1.633042e-05\n",
      " * time: 1.019178867340088\n",
      "    30    -7.852647e+00     8.670196e-06\n",
      " * time: 1.041856050491333\n",
      "    31    -7.852647e+00     5.349211e-06\n",
      " * time: 1.0644068717956543\n",
      "    32    -7.852647e+00     4.336885e-06\n",
      " * time: 1.086751937866211\n",
      "    33    -7.852647e+00     3.332772e-06\n",
      " * time: 1.1091959476470947\n",
      "    34    -7.852647e+00     1.458792e-06\n",
      " * time: 1.1318418979644775\n",
      "    35    -7.852647e+00     7.366751e-07\n",
      " * time: 1.1545429229736328\n",
      "    36    -7.852647e+00     4.002349e-07\n",
      " * time: 1.17728590965271\n",
      "    37    -7.852647e+00     2.720997e-07\n",
      " * time: 1.199995994567871\n",
      "    38    -7.852647e+00     1.839255e-07\n",
      " * time: 1.222872018814087\n",
      "    39    -7.852647e+00     1.190961e-07\n",
      " * time: 1.246001958847046\n",
      "    40    -7.852647e+00     8.117764e-08\n",
      " * time: 1.268846035003662\n",
      "    41    -7.852647e+00     5.156651e-08\n",
      " * time: 1.2917919158935547\n",
      "    42    -7.852647e+00     3.421449e-08\n",
      " * time: 1.314314842224121\n",
      "    43    -7.852647e+00     1.678299e-08\n",
      " * time: 1.3369970321655273\n",
      "    44    -7.852647e+00     1.175903e-08\n",
      " * time: 1.3594059944152832\n",
      "    45    -7.852647e+00     8.075961e-09\n",
      " * time: 1.3920910358428955\n",
      "    46    -7.852647e+00     2.443212e-09\n",
      " * time: 1.4149248600006104\n"
     ]
    }
   ],
   "cell_type": "code",
   "source": [
    "scfres_dm = direct_minimization(basis; tol=tol^2);"
   ],
   "metadata": {},
   "execution_count": 4
  },
  {
   "cell_type": "markdown",
   "source": [
    "## Newton algorithm"
   ],
   "metadata": {}
  },
  {
   "cell_type": "markdown",
   "source": [
    "Start not too far from the solution to ensure convergence:\n",
    "We run first a very crude SCF to get close and then switch to Newton."
   ],
   "metadata": {}
  },
  {
   "outputs": [
    {
     "name": "stdout",
     "output_type": "stream",
     "text": [
      "n     Energy            log10(ΔE)   log10(Δρ)   Diag   Δtime\n",
      "---   ---------------   ---------   ---------   ----   ------\n",
      "  1   -7.846825624597                   -0.70    4.5         \n"
     ]
    }
   ],
   "cell_type": "code",
   "source": [
    "scfres_start = self_consistent_field(basis; tol=0.5);"
   ],
   "metadata": {},
   "execution_count": 5
  },
  {
   "cell_type": "markdown",
   "source": [
    "Remove the virtual orbitals (which Newton cannot treat yet)"
   ],
   "metadata": {}
  },
  {
   "outputs": [
    {
     "name": "stdout",
     "output_type": "stream",
     "text": [
      "n     Energy            log10(ΔE)   log10(Δρ)   Δtime\n",
      "---   ---------------   ---------   ---------   ------\n",
      "  1   -7.852645846837                   -1.64         \n",
      "  2   -7.852646686730       -6.08       -3.71    1.94s\n",
      "  3   -7.852646686730      -13.11       -7.19    165ms\n"
     ]
    }
   ],
   "cell_type": "code",
   "source": [
    "ψ = DFTK.select_occupied_orbitals(basis, scfres_start.ψ, scfres_start.occupation).ψ\n",
    "scfres_newton = newton(basis, ψ; tol);"
   ],
   "metadata": {},
   "execution_count": 6
  },
  {
   "cell_type": "markdown",
   "source": [
    "## Comparison of results"
   ],
   "metadata": {}
  },
  {
   "outputs": [
    {
     "name": "stdout",
     "output_type": "stream",
     "text": [
      "|ρ_newton - ρ_scf|  = 2.6981494345650427e-7\n",
      "|ρ_newton - ρ_scfv| = 9.8822215887817e-7\n",
      "|ρ_newton - ρ_dm|   = 8.79071541876669e-10\n"
     ]
    }
   ],
   "cell_type": "code",
   "source": [
    "println(\"|ρ_newton - ρ_scf|  = \", norm(scfres_newton.ρ - scfres_scf.ρ))\n",
    "println(\"|ρ_newton - ρ_scfv| = \", norm(scfres_newton.ρ - scfres_scfv.ρ))\n",
    "println(\"|ρ_newton - ρ_dm|   = \", norm(scfres_newton.ρ - scfres_dm.ρ))"
   ],
   "metadata": {},
   "execution_count": 7
  }
 ],
 "nbformat_minor": 3,
 "metadata": {
  "language_info": {
   "file_extension": ".jl",
   "mimetype": "application/julia",
   "name": "julia",
   "version": "1.9.3"
  },
  "kernelspec": {
   "name": "julia-1.9",
   "display_name": "Julia 1.9.3",
   "language": "julia"
  }
 },
 "nbformat": 4
}
