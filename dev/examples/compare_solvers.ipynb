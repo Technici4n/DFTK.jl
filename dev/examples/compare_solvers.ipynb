{
 "cells": [
  {
   "cell_type": "markdown",
   "source": [
    "# Comparison of DFT solvers"
   ],
   "metadata": {}
  },
  {
   "cell_type": "markdown",
   "source": [
    "We compare four different approaches for solving the DFT minimisation problem,\n",
    "namely a density-based SCF, a potential-based SCF, direct minimisation and Newton."
   ],
   "metadata": {}
  },
  {
   "cell_type": "markdown",
   "source": [
    "First we setup our problem"
   ],
   "metadata": {}
  },
  {
   "outputs": [
    {
     "output_type": "execute_result",
     "data": {
      "text/plain": "1.0e-6"
     },
     "metadata": {},
     "execution_count": 1
    }
   ],
   "cell_type": "code",
   "source": [
    "using DFTK\n",
    "using LinearAlgebra\n",
    "\n",
    "a = 10.26  # Silicon lattice constant in Bohr\n",
    "lattice = a / 2 * [[0 1 1.];\n",
    "                   [1 0 1.];\n",
    "                   [1 1 0.]]\n",
    "Si = ElementPsp(:Si, psp=load_psp(\"hgh/lda/Si-q4\"))\n",
    "atoms     = [Si, Si]\n",
    "positions = [ones(3)/8, -ones(3)/8]\n",
    "\n",
    "model = model_LDA(lattice, atoms, positions)\n",
    "basis = PlaneWaveBasis(model; Ecut=5, kgrid=[3, 3, 3])\n",
    "\n",
    "# Convergence we desire in the density\n",
    "tol = 1e-6"
   ],
   "metadata": {},
   "execution_count": 1
  },
  {
   "cell_type": "markdown",
   "source": [
    "## Density-based self-consistent field"
   ],
   "metadata": {}
  },
  {
   "outputs": [
    {
     "name": "stdout",
     "output_type": "stream",
     "text": [
      "n     Energy            log10(ΔE)   log10(Δρ)   Diag   Δtime\n",
      "---   ---------------   ---------   ---------   ----   ------\n",
      "  1   -7.846889609358                   -0.70    4.8         \n",
      "  2   -7.852322616917       -2.26       -1.53    1.0   24.1ms\n",
      "  3   -7.852614702479       -3.53       -2.56    1.5   26.4ms\n",
      "  4   -7.852645974109       -4.50       -2.88    2.5   33.1ms\n",
      "  5   -7.852646498823       -6.28       -3.17    1.0   24.7ms\n",
      "  6   -7.852646677673       -6.75       -3.99    1.0   24.5ms\n",
      "  7   -7.852646686304       -8.06       -5.22    1.5   28.4ms\n",
      "  8   -7.852646686722       -9.38       -5.39    3.0   36.7ms\n",
      "  9   -7.852646686729      -11.14       -6.26    1.0   25.2ms\n"
     ]
    }
   ],
   "cell_type": "code",
   "source": [
    "scfres_scf = self_consistent_field(basis; tol);"
   ],
   "metadata": {},
   "execution_count": 2
  },
  {
   "cell_type": "markdown",
   "source": [
    "## Potential-based SCF"
   ],
   "metadata": {}
  },
  {
   "outputs": [
    {
     "name": "stdout",
     "output_type": "stream",
     "text": [
      "n     Energy            log10(ΔE)   log10(Δρ)   α      Diag   Δtime\n",
      "---   ---------------   ---------   ---------   ----   ----   ------\n",
      "  1   -7.846872820468                   -0.70           4.8         \n",
      "  2   -7.852554248297       -2.25       -1.63   0.80    2.0    268ms\n",
      "  3   -7.852639732076       -4.07       -2.73   0.80    1.0   23.7ms\n",
      "  4   -7.852646509682       -5.17       -3.37   0.80    1.8   28.2ms\n",
      "  5   -7.852646677333       -6.78       -4.30   0.80    1.2   25.5ms\n",
      "  6   -7.852646686585       -8.03       -4.77   0.80    2.0   30.9ms\n",
      "  7   -7.852646686716       -9.88       -5.61   0.80    1.2   24.8ms\n",
      "  8   -7.852646686730      -10.85       -6.23   0.80    2.2   30.5ms\n"
     ]
    }
   ],
   "cell_type": "code",
   "source": [
    "scfres_scfv = DFTK.scf_potential_mixing(basis; tol);"
   ],
   "metadata": {},
   "execution_count": 3
  },
  {
   "cell_type": "markdown",
   "source": [
    "## Direct minimization\n",
    "Note: Unlike the other algorithms, tolerance for this one is in the energy,\n",
    "thus we square the density tolerance value to be roughly equivalent."
   ],
   "metadata": {}
  },
  {
   "outputs": [
    {
     "name": "stdout",
     "output_type": "stream",
     "text": [
      "Iter     Function value   Gradient norm \n",
      "     0     1.381197e+01     3.095717e+00\n",
      " * time: 0.06739687919616699\n",
      "     1     1.580073e+00     2.139347e+00\n",
      " * time: 0.29509401321411133\n",
      "     2    -1.603868e+00     2.088466e+00\n",
      " * time: 0.3200368881225586\n",
      "     3    -3.397268e+00     2.187460e+00\n",
      " * time: 0.3555769920349121\n",
      "     4    -4.871459e+00     1.940291e+00\n",
      " * time: 0.3912661075592041\n",
      "     5    -6.450377e+00     1.371263e+00\n",
      " * time: 0.4274110794067383\n",
      "     6    -7.271432e+00     6.948440e-01\n",
      " * time: 0.46318507194519043\n",
      "     7    -7.619547e+00     3.543792e-01\n",
      " * time: 0.48778295516967773\n",
      "     8    -7.759358e+00     1.353346e-01\n",
      " * time: 0.5129048824310303\n",
      "     9    -7.799861e+00     1.577114e-01\n",
      " * time: 0.5375440120697021\n",
      "    10    -7.823919e+00     6.506014e-02\n",
      " * time: 0.5623939037322998\n",
      "    11    -7.839110e+00     4.534192e-02\n",
      " * time: 0.5873398780822754\n",
      "    12    -7.847338e+00     4.011979e-02\n",
      " * time: 0.6128759384155273\n",
      "    13    -7.850648e+00     2.702126e-02\n",
      " * time: 0.6378428936004639\n",
      "    14    -7.851989e+00     1.829425e-02\n",
      " * time: 0.6626489162445068\n",
      "    15    -7.852327e+00     1.045190e-02\n",
      " * time: 0.6874799728393555\n",
      "    16    -7.852524e+00     4.961352e-03\n",
      " * time: 0.7121849060058594\n",
      "    17    -7.852605e+00     3.506202e-03\n",
      " * time: 0.7368359565734863\n",
      "    18    -7.852632e+00     2.015324e-03\n",
      " * time: 0.7616350650787354\n",
      "    19    -7.852642e+00     1.127546e-03\n",
      " * time: 0.7861440181732178\n",
      "    20    -7.852645e+00     5.926367e-04\n",
      " * time: 0.8109281063079834\n",
      "    21    -7.852646e+00     5.172223e-04\n",
      " * time: 0.835813045501709\n",
      "    22    -7.852646e+00     4.189785e-04\n",
      " * time: 0.8604090213775635\n",
      "    23    -7.852647e+00     2.186664e-04\n",
      " * time: 0.8855750560760498\n",
      "    24    -7.852647e+00     1.187764e-04\n",
      " * time: 0.9104011058807373\n",
      "    25    -7.852647e+00     4.634407e-05\n",
      " * time: 0.9358789920806885\n",
      "    26    -7.852647e+00     2.031184e-05\n",
      " * time: 0.9611480236053467\n",
      "    27    -7.852647e+00     1.477601e-05\n",
      " * time: 0.98614501953125\n",
      "    28    -7.852647e+00     6.635684e-06\n",
      " * time: 1.011725902557373\n",
      "    29    -7.852647e+00     4.865110e-06\n",
      " * time: 1.039306879043579\n",
      "    30    -7.852647e+00     3.027631e-06\n",
      " * time: 1.0673151016235352\n",
      "    31    -7.852647e+00     1.388878e-06\n",
      " * time: 1.1591520309448242\n",
      "    32    -7.852647e+00     7.391424e-07\n",
      " * time: 1.1846249103546143\n",
      "    33    -7.852647e+00     4.190305e-07\n",
      " * time: 1.209886074066162\n",
      "    34    -7.852647e+00     2.740653e-07\n",
      " * time: 1.2343389987945557\n",
      "    35    -7.852647e+00     2.000458e-07\n",
      " * time: 1.2589941024780273\n",
      "    36    -7.852647e+00     1.068850e-07\n",
      " * time: 1.2835679054260254\n",
      "    37    -7.852647e+00     6.621506e-08\n",
      " * time: 1.3120489120483398\n",
      "    38    -7.852647e+00     4.965728e-08\n",
      " * time: 1.3370680809020996\n",
      "    39    -7.852647e+00     2.602043e-08\n",
      " * time: 1.361814022064209\n",
      "    40    -7.852647e+00     9.775661e-09\n",
      " * time: 1.3862619400024414\n",
      "    41    -7.852647e+00     9.775661e-09\n",
      " * time: 1.505997896194458\n"
     ]
    }
   ],
   "cell_type": "code",
   "source": [
    "scfres_dm = direct_minimization(basis; tol=tol^2);"
   ],
   "metadata": {},
   "execution_count": 4
  },
  {
   "cell_type": "markdown",
   "source": [
    "## Newton algorithm"
   ],
   "metadata": {}
  },
  {
   "cell_type": "markdown",
   "source": [
    "Start not too far from the solution to ensure convergence:\n",
    "We run first a very crude SCF to get close and then switch to Newton."
   ],
   "metadata": {}
  },
  {
   "outputs": [
    {
     "name": "stdout",
     "output_type": "stream",
     "text": [
      "n     Energy            log10(ΔE)   log10(Δρ)   Diag   Δtime\n",
      "---   ---------------   ---------   ---------   ----   ------\n",
      "  1   -7.846913128373                   -0.70    4.5         \n"
     ]
    }
   ],
   "cell_type": "code",
   "source": [
    "scfres_start = self_consistent_field(basis; tol=0.5);"
   ],
   "metadata": {},
   "execution_count": 5
  },
  {
   "cell_type": "markdown",
   "source": [
    "Remove the virtual orbitals (which Newton cannot treat yet)"
   ],
   "metadata": {}
  },
  {
   "outputs": [
    {
     "name": "stdout",
     "output_type": "stream",
     "text": [
      "n     Energy            log10(ΔE)   log10(Δρ)   Δtime\n",
      "---   ---------------   ---------   ---------   ------\n",
      "  1   -7.852645944053                   -1.64         \n",
      "  2   -7.852646686730       -6.13       -3.72    1.99s\n",
      "  3   -7.852646686730      -13.37       -7.27    183ms\n"
     ]
    }
   ],
   "cell_type": "code",
   "source": [
    "ψ = DFTK.select_occupied_orbitals(basis, scfres_start.ψ, scfres_start.occupation).ψ\n",
    "scfres_newton = newton(basis, ψ; tol);"
   ],
   "metadata": {},
   "execution_count": 6
  },
  {
   "cell_type": "markdown",
   "source": [
    "## Comparison of results"
   ],
   "metadata": {}
  },
  {
   "outputs": [
    {
     "name": "stdout",
     "output_type": "stream",
     "text": [
      "|ρ_newton - ρ_scf|  = 8.057746274894355e-7\n",
      "|ρ_newton - ρ_scfv| = 4.8006706700075596e-8\n",
      "|ρ_newton - ρ_dm|   = 1.1517171795412542e-9\n"
     ]
    }
   ],
   "cell_type": "code",
   "source": [
    "println(\"|ρ_newton - ρ_scf|  = \", norm(scfres_newton.ρ - scfres_scf.ρ))\n",
    "println(\"|ρ_newton - ρ_scfv| = \", norm(scfres_newton.ρ - scfres_scfv.ρ))\n",
    "println(\"|ρ_newton - ρ_dm|   = \", norm(scfres_newton.ρ - scfres_dm.ρ))"
   ],
   "metadata": {},
   "execution_count": 7
  }
 ],
 "nbformat_minor": 3,
 "metadata": {
  "language_info": {
   "file_extension": ".jl",
   "mimetype": "application/julia",
   "name": "julia",
   "version": "1.9.0"
  },
  "kernelspec": {
   "name": "julia-1.9",
   "display_name": "Julia 1.9.0",
   "language": "julia"
  }
 },
 "nbformat": 4
}
