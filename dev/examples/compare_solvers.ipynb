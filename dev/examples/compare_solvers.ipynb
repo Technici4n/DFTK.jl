{
 "cells": [
  {
   "cell_type": "markdown",
   "source": [
    "# Comparison of DFT solvers"
   ],
   "metadata": {}
  },
  {
   "cell_type": "markdown",
   "source": [
    "We compare four different approaches for solving the DFT minimisation problem,\n",
    "namely a density-based SCF, a potential-based SCF, direct minimisation and Newton."
   ],
   "metadata": {}
  },
  {
   "cell_type": "markdown",
   "source": [
    "First we setup our problem"
   ],
   "metadata": {}
  },
  {
   "outputs": [],
   "cell_type": "code",
   "source": [
    "using DFTK\n",
    "using LinearAlgebra\n",
    "\n",
    "a = 10.26  # Silicon lattice constant in Bohr\n",
    "lattice = a / 2 * [[0 1 1.];\n",
    "                   [1 0 1.];\n",
    "                   [1 1 0.]]\n",
    "Si = ElementPsp(:Si, psp=load_psp(\"hgh/lda/Si-q4\"))\n",
    "atoms     = [Si, Si]\n",
    "positions = [ones(3)/8, -ones(3)/8]\n",
    "\n",
    "model = model_LDA(lattice, atoms, positions)\n",
    "basis = PlaneWaveBasis(model; Ecut=5, kgrid=[3, 3, 3])\n",
    "\n",
    "# Convergence we desire\n",
    "tol = 1e-12\n",
    "is_converged = DFTK.ScfConvergenceDensity(tol);"
   ],
   "metadata": {},
   "execution_count": 1
  },
  {
   "cell_type": "markdown",
   "source": [
    "## Density-based self-consistent field"
   ],
   "metadata": {}
  },
  {
   "outputs": [
    {
     "name": "stdout",
     "output_type": "stream",
     "text": [
      "n     Energy            log10(ΔE)   log10(Δρ)   Diag\n",
      "---   ---------------   ---------   ---------   ----\n",
      "  1   -7.846870891814                   -0.70    4.5\n",
      "  2   -7.852319684177       -2.26       -1.53    1.0\n",
      "  3   -7.852645982059       -3.49       -2.53    3.0\n",
      "  4   -7.852646677193       -6.16       -3.36    2.8\n",
      "  5   -7.852646685861       -8.06       -4.77    1.0\n",
      "  6   -7.852646686724       -9.06       -5.20    4.5\n",
      "  7   -7.852646686730      -11.27       -6.00    2.0\n",
      "  8   -7.852646686730      -12.73       -7.55    1.5\n",
      "  9   -7.852646686730      -14.75       -7.91    2.5\n",
      " 10   -7.852646686730   +    -Inf       -8.64    1.0\n",
      " 11   -7.852646686730      -15.05       -9.37    2.5\n",
      " 12   -7.852646686730      -15.05      -10.09    2.8\n",
      " 13   -7.852646686730      -15.05      -10.08    1.0\n",
      " 14   -7.852646686730   +  -15.05       -9.38    2.0\n",
      " 15   -7.852646686730   +    -Inf      -10.14    2.0\n",
      " 16   -7.852646686730   +  -15.05       -9.74    1.0\n",
      " 17   -7.852646686730      -15.05      -10.93    1.0\n",
      " 18   -7.852646686730   +    -Inf      -11.34    1.2\n",
      " 19   -7.852646686730   +    -Inf      -11.93    2.0\n",
      " 20   -7.852646686730   +    -Inf      -12.34    2.0\n"
     ]
    }
   ],
   "cell_type": "code",
   "source": [
    "scfres_scf = self_consistent_field(basis; is_converged);"
   ],
   "metadata": {},
   "execution_count": 2
  },
  {
   "cell_type": "markdown",
   "source": [
    "## Potential-based SCF"
   ],
   "metadata": {}
  },
  {
   "outputs": [
    {
     "name": "stdout",
     "output_type": "stream",
     "text": [
      "n     Energy            log10(ΔE)   log10(Δρ)   α      Diag\n",
      "---   ---------------   ---------   ---------   ----   ----\n",
      "  1   -7.846858235620                   -0.70           5.0\n",
      "  2   -7.852528548614       -2.25       -1.64   0.80    2.2\n",
      "  3   -7.852634095623       -3.98       -2.76   0.80    1.0\n",
      "  4   -7.852646444247       -4.91       -3.20   0.80    2.0\n",
      "  5   -7.852646666454       -6.65       -4.00   0.80    1.5\n",
      "  6   -7.852646686227       -7.70       -4.62   0.80    1.8\n",
      "  7   -7.852646686716       -9.31       -5.51   0.80    1.5\n",
      "  8   -7.852646686730      -10.87       -6.79   0.80    2.2\n",
      "  9   -7.852646686730      -12.79       -7.04   0.80    2.5\n",
      " 10   -7.852646686730      -14.27       -7.59   0.80    1.0\n",
      " 11   -7.852646686730   +    -Inf       -8.57   0.80    1.0\n",
      " 12   -7.852646686730   +    -Inf       -9.31   0.80    2.2\n",
      " 13   -7.852646686730      -15.05      -10.13   0.80    1.5\n",
      " 14   -7.852646686730      -15.05      -10.41   0.80    2.2\n",
      " 15   -7.852646686730   +  -14.45      -11.31   0.80    1.0\n",
      " 16   -7.852646686730      -14.45      -12.53   0.80    1.5\n"
     ]
    }
   ],
   "cell_type": "code",
   "source": [
    "scfres_scfv = DFTK.scf_potential_mixing(basis; is_converged);"
   ],
   "metadata": {},
   "execution_count": 3
  },
  {
   "cell_type": "markdown",
   "source": [
    "## Direct minimization"
   ],
   "metadata": {}
  },
  {
   "outputs": [
    {
     "name": "stdout",
     "output_type": "stream",
     "text": [
      "Iter     Function value   Gradient norm \n",
      "     0     1.413140e+01     3.201596e+00\n",
      " * time: 0.42616987228393555\n",
      "     1     1.138610e+00     1.588333e+00\n",
      " * time: 0.6279528141021729\n",
      "     2    -1.479028e+00     1.906306e+00\n",
      " * time: 0.7418577671051025\n",
      "     3    -3.485025e+00     1.698690e+00\n",
      " * time: 0.775446891784668\n",
      "     4    -4.627127e+00     1.515257e+00\n",
      " * time: 0.8093068599700928\n",
      "     5    -6.454648e+00     9.990811e-01\n",
      " * time: 0.8428688049316406\n",
      "     6    -7.302145e+00     5.451949e-01\n",
      " * time: 0.8764429092407227\n",
      "     7    -7.582108e+00     5.443144e-01\n",
      " * time: 0.8999028205871582\n",
      "     8    -7.770723e+00     2.150627e-01\n",
      " * time: 0.9235029220581055\n",
      "     9    -7.819831e+00     7.613228e-02\n",
      " * time: 0.9469759464263916\n",
      "    10    -7.837884e+00     8.268728e-02\n",
      " * time: 0.970477819442749\n",
      "    11    -7.842544e+00     5.805534e-02\n",
      " * time: 0.9938058853149414\n",
      "    12    -7.847603e+00     4.305388e-02\n",
      " * time: 1.0173068046569824\n",
      "    13    -7.850851e+00     2.491178e-02\n",
      " * time: 1.0409698486328125\n",
      "    14    -7.851886e+00     2.823736e-02\n",
      " * time: 1.0645499229431152\n",
      "    15    -7.852361e+00     7.948341e-03\n",
      " * time: 1.0882139205932617\n",
      "    16    -7.852552e+00     7.624767e-03\n",
      " * time: 1.1116478443145752\n",
      "    17    -7.852614e+00     3.384993e-03\n",
      " * time: 1.1351978778839111\n",
      "    18    -7.852637e+00     1.414708e-03\n",
      " * time: 1.1586718559265137\n",
      "    19    -7.852643e+00     1.022258e-03\n",
      " * time: 1.1822118759155273\n",
      "    20    -7.852645e+00     7.151108e-04\n",
      " * time: 1.2055587768554688\n",
      "    21    -7.852646e+00     4.132881e-04\n",
      " * time: 1.2289669513702393\n",
      "    22    -7.852647e+00     3.572518e-04\n",
      " * time: 1.25266695022583\n",
      "    23    -7.852647e+00     1.903926e-04\n",
      " * time: 1.2759559154510498\n",
      "    24    -7.852647e+00     1.114083e-04\n",
      " * time: 1.2996799945831299\n",
      "    25    -7.852647e+00     6.526543e-05\n",
      " * time: 1.3232619762420654\n",
      "    26    -7.852647e+00     4.240640e-05\n",
      " * time: 1.3467037677764893\n",
      "    27    -7.852647e+00     2.422136e-05\n",
      " * time: 1.3698828220367432\n",
      "    28    -7.852647e+00     1.175738e-05\n",
      " * time: 1.3932478427886963\n",
      "    29    -7.852647e+00     6.004556e-06\n",
      " * time: 1.4165079593658447\n",
      "    30    -7.852647e+00     4.568530e-06\n",
      " * time: 1.4396817684173584\n",
      "    31    -7.852647e+00     3.226488e-06\n",
      " * time: 1.4629428386688232\n",
      "    32    -7.852647e+00     1.173685e-06\n",
      " * time: 1.4863829612731934\n",
      "    33    -7.852647e+00     1.011767e-06\n",
      " * time: 1.5095617771148682\n",
      "    34    -7.852647e+00     6.832132e-07\n",
      " * time: 1.5328609943389893\n",
      "    35    -7.852647e+00     2.513675e-07\n",
      " * time: 1.556114912033081\n",
      "    36    -7.852647e+00     1.590718e-07\n",
      " * time: 1.5794939994812012\n",
      "    37    -7.852647e+00     1.710096e-07\n",
      " * time: 1.6027657985687256\n",
      "    38    -7.852647e+00     7.960356e-08\n",
      " * time: 1.6261029243469238\n",
      "    39    -7.852647e+00     4.453762e-08\n",
      " * time: 1.649237871170044\n",
      "    40    -7.852647e+00     2.498295e-08\n",
      " * time: 1.6723477840423584\n",
      "    41    -7.852647e+00     1.729599e-08\n",
      " * time: 1.6957988739013672\n",
      "    42    -7.852647e+00     1.332809e-08\n",
      " * time: 1.719012975692749\n",
      "    43    -7.852647e+00     7.063057e-09\n",
      " * time: 1.7424678802490234\n",
      "    44    -7.852647e+00     7.063041e-09\n",
      " * time: 1.8274598121643066\n"
     ]
    }
   ],
   "cell_type": "code",
   "source": [
    "scfres_dm = direct_minimization(basis; tol);"
   ],
   "metadata": {},
   "execution_count": 4
  },
  {
   "cell_type": "markdown",
   "source": [
    "## Newton algorithm"
   ],
   "metadata": {}
  },
  {
   "cell_type": "markdown",
   "source": [
    "Start not too far from the solution to ensure convergence:\n",
    "We run first a very crude SCF to get close and then switch to Newton."
   ],
   "metadata": {}
  },
  {
   "outputs": [
    {
     "name": "stdout",
     "output_type": "stream",
     "text": [
      "n     Energy            log10(ΔE)   log10(Δρ)   Diag\n",
      "---   ---------------   ---------   ---------   ----\n",
      "  1   -7.846844377738                   -0.70    4.8\n",
      "  2   -7.852318283431       -2.26       -1.53    1.0\n"
     ]
    }
   ],
   "cell_type": "code",
   "source": [
    "scfres_start = self_consistent_field(basis; tol=1e-1);"
   ],
   "metadata": {},
   "execution_count": 5
  },
  {
   "cell_type": "markdown",
   "source": [
    "Remove the virtual orbitals (which Newton cannot treat yet)"
   ],
   "metadata": {}
  },
  {
   "outputs": [
    {
     "name": "stdout",
     "output_type": "stream",
     "text": [
      "n     Energy            log10(ΔE)   log10(Δρ)\n",
      "---   ---------------   ---------   ---------\n",
      "  1   -7.852646686711                   -2.54\n",
      "  2   -7.852646686730      -10.73       -5.99\n",
      "  3   -7.852646686730   +  -15.05      -12.64\n"
     ]
    }
   ],
   "cell_type": "code",
   "source": [
    "ψ, _ = DFTK.select_occupied_orbitals(basis, scfres_start.ψ, scfres_start.occupation)\n",
    "scfres_newton = newton(basis, ψ; tol);"
   ],
   "metadata": {},
   "execution_count": 6
  },
  {
   "cell_type": "markdown",
   "source": [
    "## Comparison of results"
   ],
   "metadata": {}
  },
  {
   "outputs": [
    {
     "name": "stdout",
     "output_type": "stream",
     "text": [
      "|ρ_newton - ρ_scf|  = 2.0564373852783712e-13\n",
      "|ρ_newton - ρ_scfv| = 3.723124034942094e-13\n",
      "|ρ_newton - ρ_dm|   = 6.350542655076842e-10\n"
     ]
    }
   ],
   "cell_type": "code",
   "source": [
    "println(\"|ρ_newton - ρ_scf|  = \", norm(scfres_newton.ρ - scfres_scf.ρ))\n",
    "println(\"|ρ_newton - ρ_scfv| = \", norm(scfres_newton.ρ - scfres_scfv.ρ))\n",
    "println(\"|ρ_newton - ρ_dm|   = \", norm(scfres_newton.ρ - scfres_dm.ρ))"
   ],
   "metadata": {},
   "execution_count": 7
  }
 ],
 "nbformat_minor": 3,
 "metadata": {
  "language_info": {
   "file_extension": ".jl",
   "mimetype": "application/julia",
   "name": "julia",
   "version": "1.8.2"
  },
  "kernelspec": {
   "name": "julia-1.8",
   "display_name": "Julia 1.8.2",
   "language": "julia"
  }
 },
 "nbformat": 4
}
