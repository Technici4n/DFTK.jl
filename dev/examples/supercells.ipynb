{
 "cells": [
  {
   "cell_type": "markdown",
   "source": [
    "# Creating and modelling metallic supercells\n",
    "\n",
    "In this section we will be concerned with modelling supercells of aluminium.\n",
    "When dealing with periodic problems there is no unique definition of the\n",
    "lattice: Clearly any duplication of the lattice along an axis is also a valid\n",
    "repetitive unit to describe exactly the same system.\n",
    "This is exactly what a **supercell** is: An $n$-fold repetition along one of the\n",
    "axes of the original lattice.\n",
    "\n",
    "The following code achieves this for aluminium:"
   ],
   "metadata": {}
  },
  {
   "outputs": [
    {
     "name": "stdout",
     "output_type": "stream",
     "text": [
      "\u001b[32m\u001b[1m    CondaPkg \u001b[22m\u001b[39m\u001b[0mFound dependencies: /home/runner/.julia/packages/ASEconvert/CNQ1A/CondaPkg.toml\n",
      "\u001b[32m\u001b[1m    CondaPkg \u001b[22m\u001b[39m\u001b[0mFound dependencies: /home/runner/.julia/packages/PythonCall/qTEA1/CondaPkg.toml\n",
      "\u001b[32m\u001b[1m    CondaPkg \u001b[22m\u001b[39m\u001b[0mDependencies already up to date\n"
     ]
    }
   ],
   "cell_type": "code",
   "source": [
    "using DFTK\n",
    "using LinearAlgebra\n",
    "using ASEconvert\n",
    "\n",
    "function aluminium_setup(repeat=1; Ecut=7.0, kgrid=[2, 2, 2])\n",
    "    a = 7.65339\n",
    "    lattice = a * Matrix(I, 3, 3)\n",
    "    Al = ElementPsp(:Al; psp=load_psp(\"hgh/lda/al-q3\"))\n",
    "    atoms     = [Al, Al, Al, Al]\n",
    "    positions = [[0.0, 0.0, 0.0], [0.0, 0.5, 0.5], [0.5, 0.0, 0.5], [0.5, 0.5, 0.0]]\n",
    "    unit_cell = periodic_system(lattice, atoms, positions)\n",
    "\n",
    "    # Make supercell in ASE:\n",
    "    # We convert our lattice to the conventions used in ASE, make the supercell\n",
    "    # and then convert back ...\n",
    "    supercell_ase = convert_ase(unit_cell) * pytuple((repeat, 1, 1))\n",
    "    supercell     = pyconvert(AbstractSystem, supercell_ase)\n",
    "\n",
    "    # Unfortunately right now the conversion to ASE drops the pseudopotential information,\n",
    "    # so we need to reattach it:\n",
    "    supercell = attach_psp(supercell; Al=\"hgh/lda/al-q3\")\n",
    "\n",
    "    # Construct an LDA model and discretise\n",
    "    # Note: We disable symmetries explicitly here. Otherwise the problem sizes\n",
    "    #       we are able to run on the CI are too simple to observe the numerical\n",
    "    #       instabilities we want to trigger here.\n",
    "    model = model_LDA(supercell; temperature=1e-3, symmetries=false)\n",
    "    PlaneWaveBasis(model; Ecut, kgrid)\n",
    "end;"
   ],
   "metadata": {},
   "execution_count": 1
  },
  {
   "cell_type": "markdown",
   "source": [
    "As part of the code we are using a routine inside the ASE,\n",
    "the [atomistic simulation environment](https://wiki.fysik.dtu.dk/ase/index.html)\n",
    "for creating the supercell and make use of the two-way interoperability of\n",
    "DFTK and ASE. For more details on this aspect see the documentation\n",
    "on Input and output formats."
   ],
   "metadata": {}
  },
  {
   "cell_type": "markdown",
   "source": [
    "Write an example supercell structure to a file to plot it:"
   ],
   "metadata": {}
  },
  {
   "outputs": [
    {
     "name": "stdout",
     "output_type": "stream",
     "text": [
      "┌ Warning: Skipping atomic property pseudopotential, which is not supported in ASE.\n",
      "└ @ ASEconvert ~/.julia/packages/ASEconvert/CNQ1A/src/ASEconvert.jl:123\n",
      "┌ Warning: Skipping atomic property pseudopotential, which is not supported in ASE.\n",
      "└ @ ASEconvert ~/.julia/packages/ASEconvert/CNQ1A/src/ASEconvert.jl:123\n"
     ]
    },
    {
     "output_type": "execute_result",
     "data": {
      "text/plain": "Python: None"
     },
     "metadata": {},
     "execution_count": 2
    }
   ],
   "cell_type": "code",
   "source": [
    "setup = aluminium_setup(5)\n",
    "convert_ase(periodic_system(setup.model)).write(\"al_supercell.png\")"
   ],
   "metadata": {},
   "execution_count": 2
  },
  {
   "cell_type": "markdown",
   "source": [
    "<img src=\"https://docs.dftk.org/stable/examples/al_supercell.png\" width=500 height=500 />"
   ],
   "metadata": {}
  },
  {
   "cell_type": "markdown",
   "source": [
    "As we will see in this notebook the modelling of a system generally becomes\n",
    "harder if the system becomes larger.\n",
    "\n",
    "- This sounds like a trivial statement as *per se* the cost per SCF step increases\n",
    "  as the system (and thus $N$) gets larger.\n",
    "- But there is more to it:\n",
    "  If one is not careful also the *number of SCF iterations* increases\n",
    "  as the system gets larger.\n",
    "- The aim of a proper computational treatment of such supercells is therefore\n",
    "  to ensure that the **number of SCF iterations remains constant** when the\n",
    "  system size increases."
   ],
   "metadata": {}
  },
  {
   "cell_type": "markdown",
   "source": [
    "For achieving the latter DFTK by default employs the `LdosMixing`\n",
    "preconditioner [^HL2021] during the SCF iterations. This mixing approach is\n",
    "completely parameter free, but still automatically adapts to the treated\n",
    "system in order to efficiently prevent charge sloshing. As a result,\n",
    "modelling aluminium slabs indeed takes roughly the same number of SCF iterations\n",
    "irrespective of the supercell size:\n",
    "\n",
    "[^HL2021]:\n",
    "   M. F. Herbst and A. Levitt.\n",
    "   *Black-box inhomogeneous preconditioning for self-consistent field iterations in density functional theory.*\n",
    "   J. Phys. Cond. Matt *33* 085503 (2021). [ArXiv:2009.01665](https://arxiv.org/abs/2009.01665)"
   ],
   "metadata": {}
  },
  {
   "outputs": [
    {
     "name": "stdout",
     "output_type": "stream",
     "text": [
      "┌ Warning: Skipping atomic property pseudopotential, which is not supported in ASE.\n",
      "└ @ ASEconvert ~/.julia/packages/ASEconvert/CNQ1A/src/ASEconvert.jl:123\n",
      "n     Energy            log10(ΔE)   log10(Δρ)   Diag   Δtime\n",
      "---   ---------------   ---------   ---------   ----   ------\n",
      "  1   -8.298537830893                   -0.85    5.0         \n",
      "  2   -8.300215905718       -2.78       -1.26    1.0    123ms\n",
      "  3   -8.300437963771       -3.65       -1.89    3.0    161ms\n",
      "  4   -8.300461509763       -4.63       -2.78    2.1    137ms\n",
      "  5   -8.300464479126       -5.53       -3.15    2.9    176ms\n",
      "  6   -8.300464572855       -7.03       -3.34    1.8    159ms\n",
      "  7   -8.300464606789       -7.47       -3.49    1.6    179ms\n",
      "  8   -8.300464626446       -7.71       -3.64    2.1    151ms\n",
      "  9   -8.300464637371       -7.96       -3.80   12.2    308ms\n",
      " 10   -8.300464641542       -8.38       -3.95    1.8    151ms\n",
      " 11   -8.300464643793       -8.65       -4.30    2.9    174ms\n"
     ]
    }
   ],
   "cell_type": "code",
   "source": [
    "self_consistent_field(aluminium_setup(1); tol=1e-4);"
   ],
   "metadata": {},
   "execution_count": 3
  },
  {
   "outputs": [
    {
     "name": "stdout",
     "output_type": "stream",
     "text": [
      "┌ Warning: Skipping atomic property pseudopotential, which is not supported in ASE.\n",
      "└ @ ASEconvert ~/.julia/packages/ASEconvert/CNQ1A/src/ASEconvert.jl:123\n",
      "n     Energy            log10(ΔE)   log10(Δρ)   Diag   Δtime\n",
      "---   ---------------   ---------   ---------   ----   ------\n",
      "  1   -16.63205098771                   -0.70    5.4         \n",
      "  2   -16.63609604002       -2.39       -1.14    1.0    328ms\n",
      "  3   -16.67915216157       -1.37       -1.72    3.0    396ms\n",
      "  4   -16.67927252979       -3.92       -2.23    2.6    399ms\n",
      "  5   -16.67928465965       -4.92       -2.85    3.2    424ms\n",
      "  6   -16.67928604750       -5.86       -3.15    4.6    480ms\n",
      "  7   -16.67928615566       -6.97       -3.29    1.1    295ms\n",
      "  8   -16.67928621475       -7.23       -3.85    1.0    285ms\n",
      "  9   -16.67928622144       -8.17       -4.47    2.8    390ms\n"
     ]
    }
   ],
   "cell_type": "code",
   "source": [
    "self_consistent_field(aluminium_setup(2); tol=1e-4);"
   ],
   "metadata": {},
   "execution_count": 4
  },
  {
   "outputs": [
    {
     "name": "stdout",
     "output_type": "stream",
     "text": [
      "┌ Warning: Skipping atomic property pseudopotential, which is not supported in ASE.\n",
      "└ @ ASEconvert ~/.julia/packages/ASEconvert/CNQ1A/src/ASEconvert.jl:123\n",
      "n     Energy            log10(ΔE)   log10(Δρ)   Diag   Δtime\n",
      "---   ---------------   ---------   ---------   ----   ------\n",
      "  1   -33.31706541185                   -0.56    6.5         \n",
      "  2   -33.32570574027       -2.06       -1.00    1.4    1.27s\n",
      "  3   -33.33594185867       -1.99       -1.68    6.9    1.78s\n",
      "  4   -33.33684222647       -3.05       -2.33    4.5    1.66s\n",
      "  5   -33.33693478949       -4.03       -2.83    6.8    1.89s\n",
      "  6   -33.33694352733       -5.06       -3.58    3.9    1.56s\n",
      "  7   -33.33694375895       -6.64       -3.93    4.2    1.62s\n",
      "  8   -33.33694377955       -7.69       -4.59    2.4    1.32s\n"
     ]
    }
   ],
   "cell_type": "code",
   "source": [
    "self_consistent_field(aluminium_setup(4); tol=1e-4);"
   ],
   "metadata": {},
   "execution_count": 5
  },
  {
   "cell_type": "markdown",
   "source": [
    "When switching off explicitly the `LdosMixing`, by selecting `mixing=SimpleMixing()`,\n",
    "the performance of number of required SCF steps starts to increase as we increase\n",
    "the size of the modelled problem:"
   ],
   "metadata": {}
  },
  {
   "outputs": [
    {
     "name": "stdout",
     "output_type": "stream",
     "text": [
      "┌ Warning: Skipping atomic property pseudopotential, which is not supported in ASE.\n",
      "└ @ ASEconvert ~/.julia/packages/ASEconvert/CNQ1A/src/ASEconvert.jl:123\n",
      "n     Energy            log10(ΔE)   log10(Δρ)   Diag   Δtime\n",
      "---   ---------------   ---------   ---------   ----   ------\n",
      "  1   -8.298500142106                   -0.85    5.0         \n",
      "  2   -8.300276831839       -2.75       -1.59    1.0   99.2ms\n",
      "  3   -8.300429112481       -3.82       -2.57    3.2    142ms\n",
      "  4   -8.300388609159   +   -4.39       -2.31    4.1    209ms\n",
      "  5   -8.300464159114       -4.12       -3.37    1.1    109ms\n",
      "  6   -8.300464550196       -6.41       -3.72    3.9    183ms\n",
      "  7   -8.300464637949       -7.06       -4.21    1.0    112ms\n"
     ]
    }
   ],
   "cell_type": "code",
   "source": [
    "self_consistent_field(aluminium_setup(1); tol=1e-4, mixing=SimpleMixing());"
   ],
   "metadata": {},
   "execution_count": 6
  },
  {
   "outputs": [
    {
     "name": "stdout",
     "output_type": "stream",
     "text": [
      "┌ Warning: Skipping atomic property pseudopotential, which is not supported in ASE.\n",
      "└ @ ASEconvert ~/.julia/packages/ASEconvert/CNQ1A/src/ASEconvert.jl:123\n",
      "n     Energy            log10(ΔE)   log10(Δρ)   Diag   Δtime\n",
      "---   ---------------   ---------   ---------   ----   ------\n",
      "  1   -33.32397914175                   -0.56    6.5         \n",
      "  2   -33.29938938023   +   -1.61       -1.26    1.0    988ms\n",
      "  3   -0.562954189508   +    1.52       -0.31    6.8    2.34s\n",
      "  4   -33.33227545044        1.52       -1.87    6.4    2.13s\n",
      "  5   -32.91479577789   +   -0.38       -1.18    5.0    2.02s\n",
      "  6   -32.27365940249   +   -0.19       -1.04    4.6    1.85s\n",
      "  7   -33.32307297669        0.02       -1.88    4.2    1.70s\n",
      "  8   -33.32826506182       -2.28       -1.91    2.0    1.23s\n",
      "  9   -33.33516197916       -2.16       -2.14    2.1    1.28s\n",
      " 10   -33.33673779456       -2.80       -2.76    1.6    1.13s\n",
      " 11   -33.33691813688       -3.74       -3.15    3.5    1.61s\n",
      " 12   -33.33692776329       -5.02       -3.30    2.4    1.17s\n",
      " 13   -33.33694064162       -4.89       -3.46    2.8    1.26s\n",
      " 14   -33.33694258650       -5.71       -3.79    3.2    1.34s\n",
      " 15   -33.33694327606       -6.16       -4.09    2.4    1.28s\n"
     ]
    }
   ],
   "cell_type": "code",
   "source": [
    "self_consistent_field(aluminium_setup(4); tol=1e-4, mixing=SimpleMixing());"
   ],
   "metadata": {},
   "execution_count": 7
  },
  {
   "cell_type": "markdown",
   "source": [
    "For completion let us note that the more traditional `mixing=KerkerMixing()`\n",
    "approach would also help in this particular setting to obtain a constant\n",
    "number of SCF iterations for an increasing system size (try it!). In contrast\n",
    "to `LdosMixing`, however, `KerkerMixing` is only suitable to model bulk metallic\n",
    "system (like the case we are considering here). When modelling metallic surfaces\n",
    "or mixtures of metals and insulators, `KerkerMixing` fails, while `LdosMixing`\n",
    "still works well. See the Modelling a gallium arsenide surface example\n",
    "or [^HL2021] for details. Due to the general applicability of `LdosMixing` this\n",
    "method is the default mixing approach in DFTK."
   ],
   "metadata": {}
  }
 ],
 "nbformat_minor": 3,
 "metadata": {
  "language_info": {
   "file_extension": ".jl",
   "mimetype": "application/julia",
   "name": "julia",
   "version": "1.9.3"
  },
  "kernelspec": {
   "name": "julia-1.9",
   "display_name": "Julia 1.9.3",
   "language": "julia"
  }
 },
 "nbformat": 4
}
