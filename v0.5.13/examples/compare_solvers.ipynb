{
 "cells": [
  {
   "cell_type": "markdown",
   "source": [
    "# Comparison of DFT solvers"
   ],
   "metadata": {}
  },
  {
   "cell_type": "markdown",
   "source": [
    "We compare four different approaches for solving the DFT minimisation problem,\n",
    "namely a density-based SCF, a potential-based SCF, direct minimisation and Newton."
   ],
   "metadata": {}
  },
  {
   "cell_type": "markdown",
   "source": [
    "First we setup our problem"
   ],
   "metadata": {}
  },
  {
   "outputs": [],
   "cell_type": "code",
   "source": [
    "using DFTK\n",
    "using LinearAlgebra\n",
    "\n",
    "a = 10.26  # Silicon lattice constant in Bohr\n",
    "lattice = a / 2 * [[0 1 1.];\n",
    "                   [1 0 1.];\n",
    "                   [1 1 0.]]\n",
    "Si = ElementPsp(:Si, psp=load_psp(\"hgh/lda/Si-q4\"))\n",
    "atoms     = [Si, Si]\n",
    "positions = [ones(3)/8, -ones(3)/8]\n",
    "\n",
    "model = model_LDA(lattice, atoms, positions)\n",
    "basis = PlaneWaveBasis(model; Ecut=5, kgrid=[3, 3, 3])\n",
    "\n",
    "# Convergence we desire\n",
    "tol = 1e-12\n",
    "is_converged = DFTK.ScfConvergenceDensity(tol);"
   ],
   "metadata": {},
   "execution_count": 1
  },
  {
   "cell_type": "markdown",
   "source": [
    "## Density-based self-consistent field"
   ],
   "metadata": {}
  },
  {
   "outputs": [
    {
     "name": "stdout",
     "output_type": "stream",
     "text": [
      "n     Energy            log10(ΔE)   log10(Δρ)   Diag\n",
      "---   ---------------   ---------   ---------   ----\n",
      "  1   -7.846820888168                   -0.70    4.5\n",
      "  2   -7.852307954849       -2.26       -1.53    1.0\n",
      "  3   -7.852646202562       -3.47       -2.52    3.2\n",
      "  4   -7.852646676948       -6.32       -3.35    2.2\n",
      "  5   -7.852646685959       -8.05       -4.74    1.5\n",
      "  6   -7.852646686725       -9.12       -5.24    3.5\n",
      "  7   -7.852646686730      -11.35       -6.02    1.0\n",
      "  8   -7.852646686730      -12.54       -7.45    2.2\n",
      "  9   -7.852646686730   +  -14.75       -7.59    3.2\n",
      " 10   -7.852646686730      -14.45       -8.94    2.0\n",
      " 11   -7.852646686730   +  -14.75       -9.42    2.0\n",
      " 12   -7.852646686730      -14.57      -10.72    3.0\n",
      " 13   -7.852646686730   +  -14.45      -11.04    1.2\n",
      " 14   -7.852646686730      -14.75      -11.64    2.0\n",
      " 15   -7.852646686730      -15.05      -12.34    2.5\n"
     ]
    }
   ],
   "cell_type": "code",
   "source": [
    "scfres_scf = self_consistent_field(basis; is_converged);"
   ],
   "metadata": {},
   "execution_count": 2
  },
  {
   "cell_type": "markdown",
   "source": [
    "## Potential-based SCF"
   ],
   "metadata": {}
  },
  {
   "outputs": [
    {
     "name": "stdout",
     "output_type": "stream",
     "text": [
      "n     Energy            log10(ΔE)   log10(Δρ)   α      Diag\n",
      "---   ---------------   ---------   ---------   ----   ----\n",
      "  1   -7.846850176298                   -0.70           4.8\n",
      "  2   -7.852554401971       -2.24       -1.63   0.80    2.0\n",
      "  3   -7.852640082715       -4.07       -2.72   0.80    1.0\n",
      "  4   -7.852646522072       -5.19       -3.38   0.80    2.0\n",
      "  5   -7.852646683707       -6.79       -4.31   0.80    1.5\n",
      "  6   -7.852646686595       -8.54       -4.91   0.80    1.5\n",
      "  7   -7.852646686721       -9.90       -5.76   0.80    1.5\n",
      "  8   -7.852646686730      -11.07       -6.42   0.80    2.5\n",
      "  9   -7.852646686730      -12.90       -7.20   0.80    1.2\n",
      " 10   -7.852646686730      -13.88       -7.80   0.80    2.0\n",
      " 11   -7.852646686730   +  -15.05       -9.00   0.80    1.2\n",
      " 12   -7.852646686730   +  -14.75       -9.34   0.80    2.8\n",
      " 13   -7.852646686730   +  -15.05      -10.53   0.80    1.0\n",
      " 14   -7.852646686730      -15.05      -11.18   0.80    2.5\n",
      " 15   -7.852646686730   +    -Inf      -12.24   0.80    1.8\n"
     ]
    }
   ],
   "cell_type": "code",
   "source": [
    "scfres_scfv = DFTK.scf_potential_mixing(basis; is_converged);"
   ],
   "metadata": {},
   "execution_count": 3
  },
  {
   "cell_type": "markdown",
   "source": [
    "## Direct minimization"
   ],
   "metadata": {}
  },
  {
   "outputs": [
    {
     "name": "stdout",
     "output_type": "stream",
     "text": [
      "Iter     Function value   Gradient norm \n",
      "     0     1.382230e+01     3.088731e+00\n",
      " * time: 0.47106313705444336\n",
      "     1     9.909403e-01     2.009202e+00\n",
      " * time: 0.6850690841674805\n",
      "     2    -1.631625e+00     2.340765e+00\n",
      " * time: 0.7087600231170654\n",
      "     3    -3.811220e+00     1.953074e+00\n",
      " * time: 0.7426400184631348\n",
      "     4    -5.156808e+00     1.628624e+00\n",
      " * time: 0.7767541408538818\n",
      "     5    -6.823026e+00     1.215498e+00\n",
      " * time: 0.8106801509857178\n",
      "     6    -6.876862e+00     1.664093e+00\n",
      " * time: 0.8343541622161865\n",
      "     7    -7.535643e+00     1.556286e+00\n",
      " * time: 0.8582501411437988\n",
      "     8    -7.550807e+00     2.605009e+00\n",
      " * time: 0.8819961547851562\n",
      "     9    -7.627954e+00     2.420604e+00\n",
      " * time: 0.9061160087585449\n",
      "    10    -7.650049e+00     2.193387e+00\n",
      " * time: 0.9403212070465088\n",
      "    11    -7.656949e+00     2.104877e+00\n",
      " * time: 0.9746661186218262\n",
      "    12    -7.662145e+00     1.970000e+00\n",
      " * time: 1.0090911388397217\n",
      "    13    -7.720648e+00     3.404679e-01\n",
      " * time: 1.0544230937957764\n",
      "    14    -7.808648e+00     5.854216e-01\n",
      " * time: 1.0783350467681885\n",
      "    15    -7.811792e+00     2.506327e-01\n",
      " * time: 1.102046012878418\n",
      "    16    -7.839391e+00     2.089362e-01\n",
      " * time: 1.1255271434783936\n",
      "    17    -7.846000e+00     5.455315e-02\n",
      " * time: 1.1492691040039062\n",
      "    18    -7.849400e+00     5.038669e-02\n",
      " * time: 1.1731760501861572\n",
      "    19    -7.851664e+00     2.865155e-02\n",
      " * time: 1.1972270011901855\n",
      "    20    -7.852298e+00     1.503620e-02\n",
      " * time: 1.2212650775909424\n",
      "    21    -7.852538e+00     9.736001e-03\n",
      " * time: 1.2457361221313477\n",
      "    22    -7.852602e+00     4.920896e-03\n",
      " * time: 1.2699921131134033\n",
      "    23    -7.852626e+00     2.376065e-03\n",
      " * time: 1.2947711944580078\n",
      "    24    -7.852637e+00     2.580097e-03\n",
      " * time: 1.3192901611328125\n",
      "    25    -7.852643e+00     1.042438e-03\n",
      " * time: 1.3430821895599365\n",
      "    26    -7.852646e+00     7.622559e-04\n",
      " * time: 1.366631031036377\n",
      "    27    -7.852646e+00     4.545891e-04\n",
      " * time: 1.391442060470581\n",
      "    28    -7.852647e+00     3.258017e-04\n",
      " * time: 1.417370080947876\n",
      "    29    -7.852647e+00     2.453050e-04\n",
      " * time: 1.443519115447998\n",
      "    30    -7.852647e+00     9.638020e-05\n",
      " * time: 1.4693121910095215\n",
      "    31    -7.852647e+00     4.776504e-05\n",
      " * time: 1.4952571392059326\n",
      "    32    -7.852647e+00     3.347361e-05\n",
      " * time: 1.5547611713409424\n",
      "    33    -7.852647e+00     1.591610e-05\n",
      " * time: 1.5787792205810547\n",
      "    34    -7.852647e+00     1.095509e-05\n",
      " * time: 1.6026430130004883\n",
      "    35    -7.852647e+00     5.084700e-06\n",
      " * time: 1.6263902187347412\n",
      "    36    -7.852647e+00     3.597230e-06\n",
      " * time: 1.6498901844024658\n",
      "    37    -7.852647e+00     2.136727e-06\n",
      " * time: 1.6732120513916016\n",
      "    38    -7.852647e+00     6.829447e-07\n",
      " * time: 1.6966521739959717\n",
      "    39    -7.852647e+00     5.094076e-07\n",
      " * time: 1.7201170921325684\n",
      "    40    -7.852647e+00     3.290325e-07\n",
      " * time: 1.7436320781707764\n",
      "    41    -7.852647e+00     1.624752e-07\n",
      " * time: 1.7671270370483398\n",
      "    42    -7.852647e+00     1.923070e-07\n",
      " * time: 1.790722131729126\n",
      "    43    -7.852647e+00     1.428511e-07\n",
      " * time: 1.8144700527191162\n",
      "    44    -7.852647e+00     3.365357e-08\n",
      " * time: 1.838240146636963\n",
      "    45    -7.852647e+00     1.628400e-08\n",
      " * time: 1.8623361587524414\n",
      "    46    -7.852647e+00     2.062011e-08\n",
      " * time: 1.8859961032867432\n"
     ]
    }
   ],
   "cell_type": "code",
   "source": [
    "scfres_dm = direct_minimization(basis; tol);"
   ],
   "metadata": {},
   "execution_count": 4
  },
  {
   "cell_type": "markdown",
   "source": [
    "## Newton algorithm"
   ],
   "metadata": {}
  },
  {
   "cell_type": "markdown",
   "source": [
    "Start not too far from the solution to ensure convergence:\n",
    "We run first a very crude SCF to get close and then switch to Newton."
   ],
   "metadata": {}
  },
  {
   "outputs": [
    {
     "name": "stdout",
     "output_type": "stream",
     "text": [
      "n     Energy            log10(ΔE)   log10(Δρ)   Diag\n",
      "---   ---------------   ---------   ---------   ----\n",
      "  1   -7.846819299804                   -0.70    4.5\n",
      "  2   -7.852319456340       -2.26       -1.53    1.0\n"
     ]
    }
   ],
   "cell_type": "code",
   "source": [
    "scfres_start = self_consistent_field(basis; tol=1e-1);"
   ],
   "metadata": {},
   "execution_count": 5
  },
  {
   "cell_type": "markdown",
   "source": [
    "Remove the virtual orbitals (which Newton cannot treat yet)"
   ],
   "metadata": {}
  },
  {
   "outputs": [
    {
     "name": "stdout",
     "output_type": "stream",
     "text": [
      "n     Energy            log10(ΔE)   log10(Δρ)\n",
      "---   ---------------   ---------   ---------\n",
      "  1   -7.852646686711                   -2.55\n",
      "  2   -7.852646686730      -10.73       -5.99\n",
      "  3   -7.852646686730   +    -Inf      -12.62\n"
     ]
    }
   ],
   "cell_type": "code",
   "source": [
    "ψ = DFTK.select_occupied_orbitals(basis, scfres_start.ψ, scfres_start.occupation).ψ\n",
    "scfres_newton = newton(basis, ψ; tol);"
   ],
   "metadata": {},
   "execution_count": 6
  },
  {
   "cell_type": "markdown",
   "source": [
    "## Comparison of results"
   ],
   "metadata": {}
  },
  {
   "outputs": [
    {
     "name": "stdout",
     "output_type": "stream",
     "text": [
      "|ρ_newton - ρ_scf|  = 4.0096467090361775e-13\n",
      "|ρ_newton - ρ_scfv| = 4.372682917405269e-12\n",
      "|ρ_newton - ρ_dm|   = 1.5669978087659768e-9\n"
     ]
    }
   ],
   "cell_type": "code",
   "source": [
    "println(\"|ρ_newton - ρ_scf|  = \", norm(scfres_newton.ρ - scfres_scf.ρ))\n",
    "println(\"|ρ_newton - ρ_scfv| = \", norm(scfres_newton.ρ - scfres_scfv.ρ))\n",
    "println(\"|ρ_newton - ρ_dm|   = \", norm(scfres_newton.ρ - scfres_dm.ρ))"
   ],
   "metadata": {},
   "execution_count": 7
  }
 ],
 "nbformat_minor": 3,
 "metadata": {
  "language_info": {
   "file_extension": ".jl",
   "mimetype": "application/julia",
   "name": "julia",
   "version": "1.8.2"
  },
  "kernelspec": {
   "name": "julia-1.8",
   "display_name": "Julia 1.8.2",
   "language": "julia"
  }
 },
 "nbformat": 4
}
