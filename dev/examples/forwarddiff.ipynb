{
 "cells": [
  {
   "cell_type": "markdown",
   "source": [
    "# Polarizability using automatic differentiation\n",
    "\n",
    "Simple example for computing properties using (forward-mode)\n",
    "automatic differentiation.\n",
    "For a more classical approach and more details about computing polarizabilities,\n",
    "see Polarizability by linear response."
   ],
   "metadata": {}
  },
  {
   "outputs": [],
   "cell_type": "code",
   "source": [
    "using DFTK\n",
    "using LinearAlgebra\n",
    "using ForwardDiff\n",
    "\n",
    "# Construct PlaneWaveBasis given a particular electric field strength\n",
    "# Again we take the example of a Helium atom.\n",
    "function make_basis(ε::T; a=10., Ecut=30) where {T}\n",
    "    lattice=T(a) * I(3)  # lattice is a cube of $a$ Bohrs\n",
    "    # Helium at the center of the box\n",
    "    atoms     = [ElementPsp(:He, psp=load_psp(\"hgh/lda/He-q2\"))]\n",
    "    positions = [[1/2, 1/2, 1/2]]\n",
    "\n",
    "    model = model_DFT(lattice, atoms, positions, [:lda_x, :lda_c_vwn];\n",
    "                      extra_terms=[ExternalFromReal(r -> -ε * (r[1] - a/2))],\n",
    "                      symmetries=false)\n",
    "    PlaneWaveBasis(model; Ecut, kgrid=[1, 1, 1])  # No k-point sampling on isolated system\n",
    "end\n",
    "\n",
    "# dipole moment of a given density (assuming the current geometry)\n",
    "function dipole(basis, ρ)\n",
    "    @assert isdiag(basis.model.lattice)\n",
    "    a  = basis.model.lattice[1, 1]\n",
    "    rr = [a * (r[1] - 1/2) for r in r_vectors(basis)]\n",
    "    sum(rr .* ρ) * basis.dvol\n",
    "end\n",
    "\n",
    "# Function to compute the dipole for a given field strength\n",
    "function compute_dipole(ε; tol=1e-8, kwargs...)\n",
    "    scfres = self_consistent_field(make_basis(ε; kwargs...); tol)\n",
    "    dipole(scfres.basis, scfres.ρ)\n",
    "end;"
   ],
   "metadata": {},
   "execution_count": 1
  },
  {
   "cell_type": "markdown",
   "source": [
    "With this in place we can compute the polarizability from finite differences\n",
    "(just like in the previous example):"
   ],
   "metadata": {}
  },
  {
   "outputs": [
    {
     "name": "stdout",
     "output_type": "stream",
     "text": [
      "n     Energy            log10(ΔE)   log10(Δρ)   Diag   Δtime\n",
      "---   ---------------   ---------   ---------   ----   ------\n",
      "  1   -2.770474832430                   -0.53    9.0         \n",
      "  2   -2.772137463479       -2.78       -1.28    1.0    164ms\n",
      "  3   -2.772169842108       -4.49       -2.78    1.0    163ms\n",
      "  4   -2.772170719294       -6.06       -3.78    2.0    199ms\n",
      "  5   -2.772170722735       -8.46       -4.24    2.0    185ms\n",
      "  6   -2.772170723012       -9.56       -5.39    1.0    202ms\n",
      "  7   -2.772170723015      -11.48       -6.14    2.0    187ms\n",
      "  8   -2.772170723015      -13.36       -6.46    2.0    196ms\n",
      "  9   -2.772170723015      -13.86       -7.65    1.0    194ms\n",
      " 10   -2.772170723015   +  -13.97       -7.96    1.0    182ms\n",
      " 11   -2.772170723015      -13.88       -9.06    1.0    189ms\n",
      "n     Energy            log10(ΔE)   log10(Δρ)   Diag   Δtime\n",
      "---   ---------------   ---------   ---------   ----   ------\n",
      "  1   -2.770568462056                   -0.53    9.0         \n",
      "  2   -2.772047188806       -2.83       -1.30    1.0    162ms\n",
      "  3   -2.772082382640       -4.45       -2.68    1.0    188ms\n",
      "  4   -2.772083412238       -5.99       -3.71    2.0    183ms\n",
      "  5   -2.772083417028       -8.32       -4.10    2.0    191ms\n",
      "  6   -2.772083417790       -9.12       -5.52    1.0    194ms\n",
      "  7   -2.772083417810      -10.69       -5.67    2.0    188ms\n",
      "  8   -2.772083417811      -12.27       -6.45    2.0    193ms\n",
      "  9   -2.772083417811      -13.95       -6.90    1.0    193ms\n",
      " 10   -2.772083417811   +  -13.92       -8.17    2.0    199ms\n"
     ]
    },
    {
     "output_type": "execute_result",
     "data": {
      "text/plain": "1.7735580413567154"
     },
     "metadata": {},
     "execution_count": 2
    }
   ],
   "cell_type": "code",
   "source": [
    "polarizability_fd = let\n",
    "    ε = 0.01\n",
    "    (compute_dipole(ε) - compute_dipole(0.0)) / ε\n",
    "end"
   ],
   "metadata": {},
   "execution_count": 2
  },
  {
   "cell_type": "markdown",
   "source": [
    "We do the same thing using automatic differentiation. Under the hood this uses\n",
    "custom rules to implicitly differentiate through the self-consistent\n",
    "field fixed-point problem."
   ],
   "metadata": {}
  },
  {
   "outputs": [
    {
     "name": "stdout",
     "output_type": "stream",
     "text": [
      "n     Energy            log10(ΔE)   log10(Δρ)   Diag   Δtime\n",
      "---   ---------------   ---------   ---------   ----   ------\n",
      "  1   -2.770840413627                   -0.53    9.0         \n",
      "  2   -2.772058064358       -2.91       -1.31    1.0    161ms\n",
      "  3   -2.772083249177       -4.60       -2.59    1.0    165ms\n",
      "  4   -2.772083400746       -6.82       -3.58    1.0    197ms\n",
      "  5   -2.772083416687       -7.80       -4.01    2.0    184ms\n",
      "  6   -2.772083417788       -8.96       -5.28    1.0    167ms\n",
      "  7   -2.772083417810      -10.66       -5.56    2.0    222ms\n",
      "  8   -2.772083417811      -12.16       -6.38    2.0    191ms\n",
      "  9   -2.772083417811      -14.35       -6.86    1.0    201ms\n",
      " 10   -2.772083417811   +  -13.83       -7.32    1.0    200ms\n",
      " 11   -2.772083417811      -13.72       -8.15    1.0    175ms\n",
      "\n",
      "Polarizability via ForwardDiff:       1.7725349715019227\n",
      "Polarizability via finite difference: 1.7735580413567154\n"
     ]
    }
   ],
   "cell_type": "code",
   "source": [
    "polarizability = ForwardDiff.derivative(compute_dipole, 0.0)\n",
    "println()\n",
    "println(\"Polarizability via ForwardDiff:       $polarizability\")\n",
    "println(\"Polarizability via finite difference: $polarizability_fd\")"
   ],
   "metadata": {},
   "execution_count": 3
  }
 ],
 "nbformat_minor": 3,
 "metadata": {
  "language_info": {
   "file_extension": ".jl",
   "mimetype": "application/julia",
   "name": "julia",
   "version": "1.8.4"
  },
  "kernelspec": {
   "name": "julia-1.8",
   "display_name": "Julia 1.8.4",
   "language": "julia"
  }
 },
 "nbformat": 4
}
