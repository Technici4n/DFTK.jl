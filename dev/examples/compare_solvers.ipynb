{
 "cells": [
  {
   "cell_type": "markdown",
   "source": [
    "# Comparison of DFT solvers"
   ],
   "metadata": {}
  },
  {
   "cell_type": "markdown",
   "source": [
    "We compare four different approaches for solving the DFT minimisation problem,\n",
    "namely a density-based SCF, a potential-based SCF, direct minimisation and Newton."
   ],
   "metadata": {}
  },
  {
   "cell_type": "markdown",
   "source": [
    "First we setup our problem"
   ],
   "metadata": {}
  },
  {
   "outputs": [],
   "cell_type": "code",
   "source": [
    "using DFTK\n",
    "using LinearAlgebra\n",
    "\n",
    "a = 10.26  # Silicon lattice constant in Bohr\n",
    "lattice = a / 2 * [[0 1 1.];\n",
    "                   [1 0 1.];\n",
    "                   [1 1 0.]]\n",
    "Si = ElementPsp(:Si, psp=load_psp(\"hgh/lda/Si-q4\"))\n",
    "atoms     = [Si, Si]\n",
    "positions = [ones(3)/8, -ones(3)/8]\n",
    "\n",
    "model = model_LDA(lattice, atoms, positions)\n",
    "basis = PlaneWaveBasis(model; Ecut=5, kgrid=[3, 3, 3])\n",
    "\n",
    "# Convergence we desire\n",
    "tol = 1e-12\n",
    "is_converged = DFTK.ScfConvergenceDensity(tol);"
   ],
   "metadata": {},
   "execution_count": 1
  },
  {
   "cell_type": "markdown",
   "source": [
    "## Density-based self-consistent field"
   ],
   "metadata": {}
  },
  {
   "outputs": [
    {
     "name": "stdout",
     "output_type": "stream",
     "text": [
      "n     Energy            log10(ΔE)   log10(Δρ)   Diag\n",
      "---   ---------------   ---------   ---------   ----\n",
      "  1   -7.846844604687                   -0.70    4.8\n",
      "  2   -7.852324506740       -2.26       -1.53    1.0\n",
      "  3   -7.852646075143       -3.49       -2.52    3.2\n",
      "  4   -7.852646677505       -6.22       -3.37    2.0\n",
      "  5   -7.852646685882       -8.08       -4.76    1.2\n",
      "  6   -7.852646686724       -9.07       -5.17    3.8\n",
      "  7   -7.852646686729      -11.26       -5.93    1.5\n",
      "  8   -7.852646686730      -12.37       -7.22    2.5\n",
      "  9   -7.852646686730   +  -15.05       -7.43    2.2\n",
      " 10   -7.852646686730   +  -15.05       -8.78    2.2\n",
      " 11   -7.852646686730      -14.57       -9.53    3.0\n",
      " 12   -7.852646686730   +  -15.05       -9.59    1.0\n",
      " 13   -7.852646686730      -14.57      -11.02    2.0\n",
      " 14   -7.852646686730   +  -14.45      -11.03    1.2\n",
      " 15   -7.852646686730   +  -15.05      -12.19    2.5\n"
     ]
    }
   ],
   "cell_type": "code",
   "source": [
    "scfres_scf = self_consistent_field(basis; is_converged);"
   ],
   "metadata": {},
   "execution_count": 2
  },
  {
   "cell_type": "markdown",
   "source": [
    "## Potential-based SCF"
   ],
   "metadata": {}
  },
  {
   "outputs": [
    {
     "name": "stdout",
     "output_type": "stream",
     "text": [
      "n     Energy            log10(ΔE)   log10(Δρ)   α      Diag\n",
      "---   ---------------   ---------   ---------   ----   ----\n",
      "  1   -7.846842837558                   -0.70           4.8\n",
      "  2   -7.852526275600       -2.25       -1.64   0.80    2.0\n",
      "  3   -7.852636414924       -3.96       -2.73   0.80    1.0\n",
      "  4   -7.852646507646       -5.00       -3.26   0.80    2.2\n",
      "  5   -7.852646672703       -6.78       -4.12   0.80    1.0\n",
      "  6   -7.852646686460       -7.86       -4.75   0.80    2.0\n",
      "  7   -7.852646686723       -9.58       -5.50   0.80    1.8\n",
      "  8   -7.852646686729      -11.16       -6.81   0.80    1.5\n",
      "  9   -7.852646686730      -12.44       -7.17   0.80    3.0\n",
      " 10   -7.852646686730      -15.05       -8.11   0.80    1.0\n",
      " 11   -7.852646686730   +  -14.75       -8.89   0.80    1.8\n",
      " 12   -7.852646686730   +  -14.45       -9.24   0.80    2.0\n",
      " 13   -7.852646686730      -14.75      -10.31   0.80    1.2\n",
      " 14   -7.852646686730      -15.05      -10.88   0.80    2.0\n",
      " 15   -7.852646686730      -15.05      -12.26   0.80    1.5\n"
     ]
    }
   ],
   "cell_type": "code",
   "source": [
    "scfres_scfv = DFTK.scf_potential_mixing(basis; is_converged);"
   ],
   "metadata": {},
   "execution_count": 3
  },
  {
   "cell_type": "markdown",
   "source": [
    "## Direct minimization"
   ],
   "metadata": {}
  },
  {
   "outputs": [
    {
     "name": "stdout",
     "output_type": "stream",
     "text": [
      "Iter     Function value   Gradient norm \n",
      "     0     1.375149e+01     3.739452e+00\n",
      " * time: 0.4675459861755371\n",
      "     1     1.240606e+00     2.014757e+00\n",
      " * time: 0.7329211235046387\n",
      "     2    -1.634993e+00     2.110146e+00\n",
      " * time: 0.7601809501647949\n",
      "     3    -3.880072e+00     2.017669e+00\n",
      " * time: 0.7999579906463623\n",
      "     4    -5.268418e+00     1.784266e+00\n",
      " * time: 0.8396220207214355\n",
      "     5    -6.862216e+00     1.277918e+00\n",
      " * time: 0.8816330432891846\n",
      "     6    -6.966118e+00     1.626533e+00\n",
      " * time: 0.9092941284179688\n",
      "     7    -7.357613e+00     1.088615e+00\n",
      " * time: 0.9373679161071777\n",
      "     8    -7.382638e+00     1.880260e+00\n",
      " * time: 0.9653141498565674\n",
      "     9    -7.578859e+00     1.624281e+00\n",
      " * time: 0.9943289756774902\n",
      "    10    -7.631019e+00     1.092616e+00\n",
      " * time: 1.036102056503296\n",
      "    11    -7.672122e+00     7.832488e-01\n",
      " * time: 1.0781540870666504\n",
      "    12    -7.700346e+00     1.258960e+00\n",
      " * time: 1.1064269542694092\n",
      "    13    -7.735334e+00     8.482296e-01\n",
      " * time: 1.1342620849609375\n",
      "    14    -7.761914e+00     5.336380e-01\n",
      " * time: 1.1745071411132812\n",
      "    15    -7.783180e+00     6.850882e-01\n",
      " * time: 1.2019600868225098\n",
      "    16    -7.808588e+00     2.736351e-01\n",
      " * time: 1.2341489791870117\n",
      "    17    -7.824131e+00     1.969317e-01\n",
      " * time: 1.2619609832763672\n",
      "    18    -7.835688e+00     8.164297e-02\n",
      " * time: 1.2900819778442383\n",
      "    19    -7.848727e+00     6.044601e-02\n",
      " * time: 1.319998025894165\n",
      "    20    -7.851337e+00     3.001630e-02\n",
      " * time: 1.347999095916748\n",
      "    21    -7.852195e+00     1.169234e-02\n",
      " * time: 1.3774869441986084\n",
      "    22    -7.852505e+00     9.569533e-03\n",
      " * time: 1.4052600860595703\n",
      "    23    -7.852609e+00     4.142439e-03\n",
      " * time: 1.433380126953125\n",
      "    24    -7.852638e+00     1.943691e-03\n",
      " * time: 1.5420169830322266\n",
      "    25    -7.852644e+00     2.206407e-03\n",
      " * time: 1.5701560974121094\n",
      "    26    -7.852646e+00     4.215772e-04\n",
      " * time: 1.599039077758789\n",
      "    27    -7.852646e+00     2.553955e-04\n",
      " * time: 1.6271641254425049\n",
      "    28    -7.852647e+00     2.296404e-04\n",
      " * time: 1.6542949676513672\n",
      "    29    -7.852647e+00     6.869325e-05\n",
      " * time: 1.6821911334991455\n",
      "    30    -7.852647e+00     5.802429e-05\n",
      " * time: 1.7094240188598633\n",
      "    31    -7.852647e+00     3.780567e-05\n",
      " * time: 1.7375929355621338\n",
      "    32    -7.852647e+00     2.746394e-05\n",
      " * time: 1.76546311378479\n",
      "    33    -7.852647e+00     1.191748e-05\n",
      " * time: 1.7927360534667969\n",
      "    34    -7.852647e+00     7.192790e-06\n",
      " * time: 1.8212981224060059\n",
      "    35    -7.852647e+00     5.110946e-06\n",
      " * time: 1.8492331504821777\n",
      "    36    -7.852647e+00     2.375616e-06\n",
      " * time: 1.876997947692871\n",
      "    37    -7.852647e+00     1.056909e-06\n",
      " * time: 1.9043281078338623\n",
      "    38    -7.852647e+00     5.948859e-07\n",
      " * time: 1.9320600032806396\n",
      "    39    -7.852647e+00     5.409958e-07\n",
      " * time: 1.95939302444458\n",
      "    40    -7.852647e+00     2.422281e-07\n",
      " * time: 1.9877009391784668\n",
      "    41    -7.852647e+00     1.366345e-07\n",
      " * time: 2.0156679153442383\n",
      "    42    -7.852647e+00     8.989578e-08\n",
      " * time: 2.043765068054199\n",
      "    43    -7.852647e+00     5.613558e-08\n",
      " * time: 2.0727851390838623\n",
      "    44    -7.852647e+00     2.566586e-08\n",
      " * time: 2.1017630100250244\n",
      "    45    -7.852647e+00     1.789678e-08\n",
      " * time: 2.130711078643799\n",
      "    46    -7.852647e+00     1.195086e-08\n",
      " * time: 2.158353090286255\n",
      "    47    -7.852647e+00     6.439898e-09\n",
      " * time: 2.186228036880493\n",
      "    48    -7.852647e+00     4.874749e-09\n",
      " * time: 2.2272610664367676\n",
      "    49    -7.852647e+00     1.597408e-09\n",
      " * time: 2.254739999771118\n"
     ]
    }
   ],
   "cell_type": "code",
   "source": [
    "scfres_dm = direct_minimization(basis; tol);"
   ],
   "metadata": {},
   "execution_count": 4
  },
  {
   "cell_type": "markdown",
   "source": [
    "## Newton algorithm"
   ],
   "metadata": {}
  },
  {
   "cell_type": "markdown",
   "source": [
    "Start not too far from the solution to ensure convergence:\n",
    "We run first a very crude SCF to get close and then switch to Newton."
   ],
   "metadata": {}
  },
  {
   "outputs": [
    {
     "name": "stdout",
     "output_type": "stream",
     "text": [
      "n     Energy            log10(ΔE)   log10(Δρ)   Diag\n",
      "---   ---------------   ---------   ---------   ----\n",
      "  1   -7.846824814470                   -0.70    4.5\n",
      "  2   -7.852309094668       -2.26       -1.53    1.0\n"
     ]
    }
   ],
   "cell_type": "code",
   "source": [
    "scfres_start = self_consistent_field(basis; tol=1e-1);"
   ],
   "metadata": {},
   "execution_count": 5
  },
  {
   "cell_type": "markdown",
   "source": [
    "Remove the virtual orbitals (which Newton cannot treat yet)"
   ],
   "metadata": {}
  },
  {
   "outputs": [
    {
     "name": "stdout",
     "output_type": "stream",
     "text": [
      "n     Energy            log10(ΔE)   log10(Δρ)\n",
      "---   ---------------   ---------   ---------\n",
      "  1   -7.852646686675                   -2.54\n",
      "  2   -7.852646686730      -10.26       -5.95\n",
      "  3   -7.852646686730   +    -Inf      -12.31\n"
     ]
    }
   ],
   "cell_type": "code",
   "source": [
    "ψ = DFTK.select_occupied_orbitals(basis, scfres_start.ψ, scfres_start.occupation).ψ\n",
    "scfres_newton = newton(basis, ψ; tol);"
   ],
   "metadata": {},
   "execution_count": 6
  },
  {
   "cell_type": "markdown",
   "source": [
    "## Comparison of results"
   ],
   "metadata": {}
  },
  {
   "outputs": [
    {
     "name": "stdout",
     "output_type": "stream",
     "text": [
      "|ρ_newton - ρ_scf|  = 5.626694552303882e-13\n",
      "|ρ_newton - ρ_scfv| = 9.541130500476552e-13\n",
      "|ρ_newton - ρ_dm|   = 2.0548017955722177e-10\n"
     ]
    }
   ],
   "cell_type": "code",
   "source": [
    "println(\"|ρ_newton - ρ_scf|  = \", norm(scfres_newton.ρ - scfres_scf.ρ))\n",
    "println(\"|ρ_newton - ρ_scfv| = \", norm(scfres_newton.ρ - scfres_scfv.ρ))\n",
    "println(\"|ρ_newton - ρ_dm|   = \", norm(scfres_newton.ρ - scfres_dm.ρ))"
   ],
   "metadata": {},
   "execution_count": 7
  }
 ],
 "nbformat_minor": 3,
 "metadata": {
  "language_info": {
   "file_extension": ".jl",
   "mimetype": "application/julia",
   "name": "julia",
   "version": "1.8.2"
  },
  "kernelspec": {
   "name": "julia-1.8",
   "display_name": "Julia 1.8.2",
   "language": "julia"
  }
 },
 "nbformat": 4
}
