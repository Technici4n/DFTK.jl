{
 "cells": [
  {
   "cell_type": "markdown",
   "source": [
    "# Eigenvalues of the dielectric matrix\n",
    "\n",
    "We compute a few eigenvalues of the dielectric matrix ($q=0$, $ω=0$) iteratively."
   ],
   "metadata": {}
  },
  {
   "outputs": [
    {
     "name": "stdout",
     "output_type": "stream",
     "text": [
      "n     Energy            log10(ΔE)   log10(Δρ)   Diag   Δtime\n",
      "---   ---------------   ---------   ---------   ----   ------\n",
      "  1   -7.234036613010                   -0.50    7.0         \n",
      "  2   -7.249814027105       -1.80       -1.40    1.0   8.09ms\n",
      "  3   -7.251149789017       -2.87       -2.03    2.0   9.46ms\n",
      "  4   -7.251258825106       -3.96       -2.16    3.0   12.2ms\n",
      "  5   -7.251313914548       -4.26       -2.46    1.0   8.73ms\n",
      "  6   -7.251337216191       -4.63       -3.01    1.0   8.74ms\n",
      "  7   -7.251338720167       -5.82       -3.67    1.0   8.57ms\n",
      "  8   -7.251338785818       -7.18       -3.98    2.0   10.5ms\n",
      "  9   -7.251338797716       -7.92       -4.67    1.0   8.80ms\n",
      " 10   -7.251338798533       -9.09       -4.93    2.0   10.2ms\n",
      " 11   -7.251338798680       -9.83       -5.58    1.0   9.16ms\n",
      " 12   -7.251338798703      -10.64       -5.95    3.0   12.6ms\n",
      " 13   -7.251338798704      -11.97       -6.37    1.0   9.00ms\n",
      " 14   -7.251338798705      -12.80       -6.87    2.0   10.5ms\n",
      " 15   -7.251338798705      -13.56       -7.44    2.0   10.6ms\n",
      " 16   -7.251338798705      -14.35       -7.81    2.0   10.7ms\n",
      " 17   -7.251338798705   +  -14.75       -8.14    1.0   9.40ms\n"
     ]
    }
   ],
   "cell_type": "code",
   "source": [
    "using DFTK\n",
    "using Plots\n",
    "using KrylovKit\n",
    "using Printf\n",
    "\n",
    "# Calculation parameters\n",
    "kgrid = [1, 1, 1]\n",
    "Ecut = 5\n",
    "\n",
    "# Silicon lattice\n",
    "a = 10.26\n",
    "lattice = a / 2 .* [[0 1 1.]; [1 0 1.]; [1 1 0.]]\n",
    "Si = ElementPsp(:Si, psp=load_psp(\"hgh/lda/Si-q4\"))\n",
    "atoms     = [Si, Si]\n",
    "positions = [ones(3)/8, -ones(3)/8]\n",
    "\n",
    "# Compute the dielectric operator without symmetries\n",
    "model  = model_LDA(lattice, atoms, positions, symmetries=false)\n",
    "basis  = PlaneWaveBasis(model; Ecut, kgrid)\n",
    "scfres = self_consistent_field(basis, tol=1e-8);"
   ],
   "metadata": {},
   "execution_count": 1
  },
  {
   "cell_type": "markdown",
   "source": [
    "Applying $ε^† ≔ (1- χ_0 K)$ …"
   ],
   "metadata": {}
  },
  {
   "outputs": [],
   "cell_type": "code",
   "source": [
    "function eps_fun(δρ)\n",
    "    δV = apply_kernel(basis, δρ; ρ=scfres.ρ)\n",
    "    χ0δV = apply_χ0(scfres, δV)\n",
    "    δρ - χ0δV\n",
    "end;"
   ],
   "metadata": {},
   "execution_count": 2
  },
  {
   "cell_type": "markdown",
   "source": [
    "… eagerly diagonalizes the subspace matrix at each iteration"
   ],
   "metadata": {}
  },
  {
   "outputs": [
    {
     "name": "stdout",
     "output_type": "stream",
     "text": [
      "[ Info: Arnoldi iteration step 1: normres = 0.04815990562502615\n",
      "[ Info: Arnoldi iteration step 2: normres = 0.6270711013079217\n",
      "[ Info: Arnoldi iteration step 3: normres = 0.775993452820397\n",
      "[ Info: Arnoldi iteration step 4: normres = 0.20405699315924394\n",
      "[ Info: Arnoldi iteration step 5: normres = 0.5632766800141137\n",
      "[ Info: Arnoldi schursolve in iter 1, krylovdim = 5: 0 values converged, normres = (1.62e-02, 8.31e-02, 5.32e-01, 1.65e-01, 1.38e-02)\n",
      "[ Info: Arnoldi iteration step 6: normres = 0.2557842282394802\n",
      "[ Info: Arnoldi schursolve in iter 1, krylovdim = 6: 0 values converged, normres = (3.41e-03, 1.15e-01, 1.83e-01, 1.05e-01, 3.03e-02)\n",
      "[ Info: Arnoldi iteration step 7: normres = 0.10577447541118046\n",
      "[ Info: Arnoldi schursolve in iter 1, krylovdim = 7: 0 values converged, normres = (1.79e-04, 1.30e-02, 1.65e-02, 8.06e-02, 5.69e-02)\n",
      "[ Info: Arnoldi iteration step 8: normres = 0.11681601012298723\n",
      "[ Info: Arnoldi schursolve in iter 1, krylovdim = 8: 0 values converged, normres = (9.00e-06, 1.07e-03, 1.51e-03, 2.84e-02, 4.44e-02)\n",
      "[ Info: Arnoldi iteration step 9: normres = 0.07887824438124694\n",
      "[ Info: Arnoldi schursolve in iter 1, krylovdim = 9: 0 values converged, normres = (3.12e-07, 6.21e-05, 9.75e-05, 8.90e-03, 4.64e-02)\n",
      "[ Info: Arnoldi iteration step 10: normres = 0.0913676963568248\n",
      "[ Info: Arnoldi schursolve in iter 1, krylovdim = 10: 0 values converged, normres = (1.24e-08, 4.09e-06, 7.14e-06, 2.92e-03, 3.68e-02)\n",
      "[ Info: Arnoldi iteration step 11: normres = 0.09754171642932645\n",
      "[ Info: Arnoldi schursolve in iter 1, krylovdim = 11: 0 values converged, normres = (5.28e-10, 2.88e-07, 5.59e-07, 1.03e-03, 3.02e-02)\n",
      "[ Info: Arnoldi iteration step 12: normres = 0.0744756115233653\n",
      "[ Info: Arnoldi schursolve in iter 1, krylovdim = 12: 0 values converged, normres = (1.68e-11, 1.50e-08, 3.24e-08, 2.45e-04, 1.55e-02)\n",
      "[ Info: Arnoldi iteration step 13: normres = 0.0459609536391724\n",
      "[ Info: Arnoldi schursolve in iter 1, krylovdim = 13: 1 values converged, normres = (3.32e-13, 4.85e-10, 1.16e-09, 3.53e-05, 4.65e-03)\n",
      "[ Info: Arnoldi iteration step 14: normres = 0.6579691520605293\n",
      "[ Info: Arnoldi schursolve in iter 1, krylovdim = 14: 1 values converged, normres = (1.17e-13, 3.30e-10, 9.21e-10, 6.53e-01, 1.20e-02)\n",
      "[ Info: Arnoldi iteration step 15: normres = 0.04385586418308863\n",
      "[ Info: Arnoldi schursolve in iter 1, krylovdim = 15: 1 values converged, normres = (3.77e-15, 6.77e-11, 3.29e-02, 4.86e-03, 1.04e-05)\n",
      "[ Info: Arnoldi iteration step 16: normres = 0.6801609057010772\n",
      "[ Info: Arnoldi schursolve in iter 1, krylovdim = 16: 1 values converged, normres = (1.80e-15, 9.08e-11, 5.69e-02, 7.11e-03, 6.76e-01)\n",
      "[ Info: Arnoldi iteration step 17: normres = 0.018154774779507988\n",
      "[ Info: Arnoldi schursolve in iter 1, krylovdim = 17: 1 values converged, normres = (2.10e-17, 4.96e-03, 8.57e-03, 1.16e-05, 2.18e-03)\n",
      "[ Info: Arnoldi iteration step 18: normres = 0.036013934551074586\n",
      "[ Info: Arnoldi schursolve in iter 1, krylovdim = 18: 1 values converged, normres = (3.14e-19, 2.34e-04, 4.38e-05, 5.50e-05, 1.49e-05)\n",
      "[ Info: Arnoldi iteration step 19: normres = 0.12709117191102298\n",
      "[ Info: Arnoldi schursolve in iter 1, krylovdim = 19: 1 values converged, normres = (1.68e-20, 1.07e-08, 2.05e-05, 2.38e-08, 5.44e-06)\n",
      "[ Info: Arnoldi iteration step 20: normres = 0.06815613306184111\n",
      "[ Info: Arnoldi schursolve in iter 1, krylovdim = 20: 1 values converged, normres = (5.62e-22, 1.13e-06, 5.25e-07, 3.44e-07, 1.53e-07)\n",
      "[ Info: Arnoldi iteration step 21: normres = 0.02136441895663791\n",
      "[ Info: Arnoldi schursolve in iter 1, krylovdim = 21: 1 values converged, normres = (4.95e-24, 6.68e-10, 1.75e-08, 4.02e-09, 4.24e-09)\n",
      "[ Info: Arnoldi iteration step 22: normres = 0.07304658007879376\n",
      "[ Info: Arnoldi schursolve in iter 1, krylovdim = 22: 1 values converged, normres = (1.49e-25, 4.53e-11, 8.43e-10, 1.91e-10, 2.44e-10)\n",
      "[ Info: Arnoldi iteration step 23: normres = 0.5147975337599371\n",
      "[ Info: Arnoldi schursolve in iter 1, krylovdim = 23: 1 values converged, normres = (5.91e-26, 5.91e-11, 1.10e-09, 3.93e-10, 4.91e-10)\n",
      "[ Info: Arnoldi iteration step 24: normres = 0.02301818613033356\n",
      "[ Info: Arnoldi schursolve in iter 1, krylovdim = 24: 1 values converged, normres = (6.99e-28, 2.53e-12, 4.72e-11, 3.79e-09, 4.78e-09)\n",
      "[ Info: Arnoldi iteration step 25: normres = 0.04872264436439593\n",
      "[ Info: Arnoldi schursolve in iter 1, krylovdim = 25: 2 values converged, normres = (1.40e-29, 8.10e-14, 1.51e-12, 2.78e-09, 4.23e-09)\n",
      "[ Info: Arnoldi iteration step 26: normres = 0.07700988518018559\n",
      "[ Info: Arnoldi schursolve in iter 1, krylovdim = 26: 3 values converged, normres = (4.77e-31, 4.61e-15, 8.59e-14, 1.04e-05, 1.09e-05)\n",
      "[ Info: Arnoldi iteration step 27: normres = 0.060633238550128296\n",
      "[ Info: Arnoldi schursolve in iter 1, krylovdim = 27: 3 values converged, normres = (1.21e-32, 1.88e-16, 3.51e-15, 3.08e-07, 7.11e-08)\n",
      "[ Info: Arnoldi iteration step 28: normres = 0.05615746148566265\n",
      "[ Info: Arnoldi schursolve in iter 1, krylovdim = 28: 3 values converged, normres = (3.03e-34, 7.95e-18, 1.48e-16, 3.28e-08, 3.12e-08)\n",
      "[ Info: Arnoldi iteration step 29: normres = 0.015137620059788583\n",
      "[ Info: Arnoldi schursolve in iter 1, krylovdim = 29: 3 values converged, normres = (1.89e-36, 7.93e-20, 1.48e-18, 1.95e-10, 4.54e-10)\n",
      "[ Info: Arnoldi iteration step 30: normres = 0.1694727877247033\n",
      "[ Info: Arnoldi schursolve in iter 1, krylovdim = 30: 3 values converged, normres = (1.39e-37, 9.56e-21, 1.78e-19, 2.58e-11, 6.10e-11)\n",
      "[ Info: Arnoldi schursolve in iter 2, krylovdim = 19: 3 values converged, normres = (1.39e-37, 9.56e-21, 1.78e-19, 2.58e-11, 6.10e-11)\n",
      "[ Info: Arnoldi iteration step 20: normres = 0.07433785985142234\n",
      "[ Info: Arnoldi schursolve in iter 2, krylovdim = 20: 3 values converged, normres = (4.89e-39, 5.94e-22, 1.11e-20, 1.82e-12, 4.30e-12)\n",
      "[ Info: Arnoldi iteration step 21: normres = 0.06778717547886462\n",
      "┌ Info: Arnoldi eigsolve finished after 2 iterations:\n",
      "│ *  6 eigenvalues converged\n",
      "│ *  norm of residuals = (1.4353227888804586e-40, 2.881209879558194e-23, 5.306686962211241e-22, 9.829624175075912e-14, 2.51116228252614e-13, 6.87290426370582e-14)\n",
      "└ *  number of operations = 32\n"
     ]
    }
   ],
   "cell_type": "code",
   "source": [
    "eigsolve(eps_fun, randn(size(scfres.ρ)), 5, :LM; eager=true, verbosity=3);"
   ],
   "metadata": {},
   "execution_count": 3
  }
 ],
 "nbformat_minor": 3,
 "metadata": {
  "language_info": {
   "file_extension": ".jl",
   "mimetype": "application/julia",
   "name": "julia",
   "version": "1.9.1"
  },
  "kernelspec": {
   "name": "julia-1.9",
   "display_name": "Julia 1.9.1",
   "language": "julia"
  }
 },
 "nbformat": 4
}
