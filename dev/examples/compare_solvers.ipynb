{
 "cells": [
  {
   "cell_type": "markdown",
   "source": [
    "# Comparison of DFT solvers"
   ],
   "metadata": {}
  },
  {
   "cell_type": "markdown",
   "source": [
    "We compare four different approaches for solving the DFT minimisation problem,\n",
    "namely a density-based SCF, a potential-based SCF, direct minimisation and Newton."
   ],
   "metadata": {}
  },
  {
   "cell_type": "markdown",
   "source": [
    "First we setup our problem"
   ],
   "metadata": {}
  },
  {
   "outputs": [],
   "cell_type": "code",
   "source": [
    "using DFTK\n",
    "using LinearAlgebra\n",
    "\n",
    "a = 10.26  # Silicon lattice constant in Bohr\n",
    "lattice = a / 2 * [[0 1 1.];\n",
    "                   [1 0 1.];\n",
    "                   [1 1 0.]]\n",
    "Si = ElementPsp(:Si, psp=load_psp(\"hgh/lda/Si-q4\"))\n",
    "atoms     = [Si, Si]\n",
    "positions = [ones(3)/8, -ones(3)/8]\n",
    "\n",
    "model = model_LDA(lattice, atoms, positions)\n",
    "basis = PlaneWaveBasis(model; Ecut=5, kgrid=[3, 3, 3])\n",
    "\n",
    "# Convergence we desire\n",
    "tol = 1e-12\n",
    "is_converged = DFTK.ScfConvergenceDensity(tol);"
   ],
   "metadata": {},
   "execution_count": 1
  },
  {
   "cell_type": "markdown",
   "source": [
    "## Density-based self-consistent field"
   ],
   "metadata": {}
  },
  {
   "outputs": [
    {
     "name": "stdout",
     "output_type": "stream",
     "text": [
      "n     Energy            log10(ΔE)   log10(Δρ)   Diag\n",
      "---   ---------------   ---------   ---------   ----\n",
      "  1   -7.846721373268                   -0.70    4.5\n",
      "  2   -7.852300546703       -2.25       -1.54    1.0\n",
      "  3   -7.852646215197       -3.46       -2.52    3.2\n",
      "  4   -7.852646678059       -6.33       -3.41    2.2\n",
      "  5   -7.852646686205       -8.09       -4.61    1.8\n",
      "  6   -7.852646686728       -9.28       -5.83    3.0\n",
      "  7   -7.852646686730      -11.82       -7.06    2.5\n",
      "  8   -7.852646686730      -13.91       -7.54    2.8\n",
      "  9   -7.852646686730   +  -14.75       -8.49    2.5\n",
      " 10   -7.852646686730      -14.75      -10.11    2.5\n",
      " 11   -7.852646686730   +  -14.75      -10.73    3.8\n",
      " 12   -7.852646686730   +  -14.75       -9.85    2.0\n",
      " 13   -7.852646686730      -14.75       -8.97    3.2\n",
      " 14   -7.852646686730   +  -15.05       -8.27    4.2\n",
      " 15   -7.852646686730      -14.57       -8.28    4.2\n",
      " 16   -7.852646686730   +  -14.21       -8.47    3.2\n",
      " 17   -7.852646686730      -14.35       -8.47    2.2\n",
      " 18   -7.852646686730   +    -Inf       -8.43    3.0\n",
      " 19   -7.852646686730   +    -Inf       -9.19    3.5\n",
      " 20   -7.852646686730      -14.57       -9.65    2.0\n",
      " 21   -7.852646686730   +  -14.75       -9.97    1.5\n",
      " 22   -7.852646686730      -14.75      -11.18    1.8\n",
      " 23   -7.852646686730   +  -14.57      -11.91    2.2\n",
      " 24   -7.852646686730   +    -Inf      -12.09    1.0\n"
     ]
    }
   ],
   "cell_type": "code",
   "source": [
    "scfres_scf = self_consistent_field(basis; is_converged);"
   ],
   "metadata": {},
   "execution_count": 2
  },
  {
   "cell_type": "markdown",
   "source": [
    "## Potential-based SCF"
   ],
   "metadata": {}
  },
  {
   "outputs": [
    {
     "name": "stdout",
     "output_type": "stream",
     "text": [
      "n     Energy            log10(ΔE)   log10(Δρ)   α      Diag\n",
      "---   ---------------   ---------   ---------   ----   ----\n",
      "  1   -7.846775837069                   -0.70           4.8\n",
      "  2   -7.852525389414       -2.24       -1.64   0.80    2.2\n",
      "  3   -7.852635613211       -3.96       -2.74   0.80    1.0\n",
      "  4   -7.852646583404       -4.96       -3.23   0.80    2.2\n",
      "  5   -7.852646681104       -7.01       -4.10   0.80    1.2\n",
      "  6   -7.852646686310       -8.28       -4.90   0.80    1.5\n",
      "  7   -7.852646686720       -9.39       -5.82   0.80    2.0\n",
      "  8   -7.852646686730      -11.01       -6.60   0.80    2.0\n",
      "  9   -7.852646686730      -12.70       -7.29   0.80    2.2\n",
      " 10   -7.852646686730      -14.75       -7.96   0.80    1.5\n",
      " 11   -7.852646686730      -15.05       -8.47   0.80    2.2\n",
      " 12   -7.852646686730      -15.05       -8.80   0.80    2.0\n",
      " 13   -7.852646686730   +  -14.75       -9.56   0.80    1.5\n",
      " 14   -7.852646686730      -14.75      -10.26   0.80    1.8\n",
      " 15   -7.852646686730   +  -14.75      -11.10   0.80    2.2\n",
      " 16   -7.852646686730   +  -14.75      -12.41   0.80    1.8\n"
     ]
    }
   ],
   "cell_type": "code",
   "source": [
    "scfres_scfv = DFTK.scf_potential_mixing(basis; is_converged);"
   ],
   "metadata": {},
   "execution_count": 3
  },
  {
   "cell_type": "markdown",
   "source": [
    "## Direct minimization"
   ],
   "metadata": {}
  },
  {
   "outputs": [
    {
     "name": "stdout",
     "output_type": "stream",
     "text": [
      "Iter     Function value   Gradient norm \n",
      "     0     1.363936e+01     3.527092e+00\n",
      " * time: 0.4305901527404785\n",
      "     1     1.555842e+00     1.805304e+00\n",
      " * time: 0.6248800754547119\n",
      "     2    -1.481519e+00     2.046385e+00\n",
      " * time: 0.7442581653594971\n",
      "     3    -3.653171e+00     1.775244e+00\n",
      " * time: 0.7779140472412109\n",
      "     4    -5.008097e+00     1.472117e+00\n",
      " * time: 0.8118040561676025\n",
      "     5    -6.716980e+00     9.121510e-01\n",
      " * time: 0.845440149307251\n",
      "     6    -6.754167e+00     1.543065e+00\n",
      " * time: 0.8685891628265381\n",
      "     7    -7.497812e+00     1.326442e+00\n",
      " * time: 0.8919780254364014\n",
      "     8    -7.543500e+00     2.410042e+00\n",
      " * time: 0.9151041507720947\n",
      "     9    -7.636287e+00     6.975646e-01\n",
      " * time: 0.9487631320953369\n",
      "    10    -7.681552e+00     1.562454e+00\n",
      " * time: 0.9826879501342773\n",
      "    11    -7.778348e+00     7.690697e-01\n",
      " * time: 1.0062580108642578\n",
      "    12    -7.806236e+00     1.902862e-01\n",
      " * time: 1.0501079559326172\n",
      "    13    -7.826908e+00     1.818753e-01\n",
      " * time: 1.0732910633087158\n",
      "    14    -7.833831e+00     1.462313e-01\n",
      " * time: 1.0968050956726074\n",
      "    15    -7.842929e+00     3.632218e-02\n",
      " * time: 1.1203229427337646\n",
      "    16    -7.849515e+00     2.560455e-02\n",
      " * time: 1.1437630653381348\n",
      "    17    -7.851970e+00     2.485591e-02\n",
      " * time: 1.167363166809082\n",
      "    18    -7.852425e+00     1.527595e-02\n",
      " * time: 1.1906399726867676\n",
      "    19    -7.852570e+00     3.768483e-03\n",
      " * time: 1.2140650749206543\n",
      "    20    -7.852616e+00     2.862633e-03\n",
      " * time: 1.237523078918457\n",
      "    21    -7.852635e+00     1.905390e-03\n",
      " * time: 1.261286973953247\n",
      "    22    -7.852644e+00     1.174217e-03\n",
      " * time: 1.2845959663391113\n",
      "    23    -7.852646e+00     6.405255e-04\n",
      " * time: 1.307819128036499\n",
      "    24    -7.852646e+00     2.591045e-04\n",
      " * time: 1.3311810493469238\n",
      "    25    -7.852647e+00     1.606837e-04\n",
      " * time: 1.354583978652954\n",
      "    26    -7.852647e+00     1.436257e-04\n",
      " * time: 1.3779001235961914\n",
      "    27    -7.852647e+00     5.526109e-05\n",
      " * time: 1.4013590812683105\n",
      "    28    -7.852647e+00     3.595735e-05\n",
      " * time: 1.4248721599578857\n",
      "    29    -7.852647e+00     1.177734e-05\n",
      " * time: 1.448246955871582\n",
      "    30    -7.852647e+00     7.722912e-06\n",
      " * time: 1.4717841148376465\n",
      "    31    -7.852647e+00     8.605772e-06\n",
      " * time: 1.4951910972595215\n",
      "    32    -7.852647e+00     3.411419e-06\n",
      " * time: 1.5186331272125244\n",
      "    33    -7.852647e+00     1.504146e-06\n",
      " * time: 1.5423450469970703\n",
      "    34    -7.852647e+00     9.360070e-07\n",
      " * time: 1.5663771629333496\n",
      "    35    -7.852647e+00     5.327567e-07\n",
      " * time: 1.5897259712219238\n",
      "    36    -7.852647e+00     3.542594e-07\n",
      " * time: 1.613111972808838\n",
      "    37    -7.852647e+00     2.116031e-07\n",
      " * time: 1.636718988418579\n",
      "    38    -7.852647e+00     1.745948e-07\n",
      " * time: 1.6602561473846436\n",
      "    39    -7.852647e+00     6.588485e-08\n",
      " * time: 1.683985948562622\n",
      "    40    -7.852647e+00     2.630085e-08\n",
      " * time: 1.7076890468597412\n",
      "    41    -7.852647e+00     1.699387e-08\n",
      " * time: 1.7308919429779053\n",
      "    42    -7.852647e+00     1.310797e-08\n",
      " * time: 1.7541930675506592\n",
      "    43    -7.852647e+00     9.594525e-09\n",
      " * time: 1.7784221172332764\n",
      "    44    -7.852647e+00     4.249651e-09\n",
      " * time: 1.8017561435699463\n",
      "    45    -7.852647e+00     1.869859e-09\n",
      " * time: 1.8253381252288818\n",
      "    46    -7.852647e+00     1.869859e-09\n",
      " * time: 1.9315521717071533\n"
     ]
    }
   ],
   "cell_type": "code",
   "source": [
    "scfres_dm = direct_minimization(basis; tol);"
   ],
   "metadata": {},
   "execution_count": 4
  },
  {
   "cell_type": "markdown",
   "source": [
    "## Newton algorithm"
   ],
   "metadata": {}
  },
  {
   "cell_type": "markdown",
   "source": [
    "Start not too far from the solution to ensure convergence:\n",
    "We run first a very crude SCF to get close and then switch to Newton."
   ],
   "metadata": {}
  },
  {
   "outputs": [
    {
     "name": "stdout",
     "output_type": "stream",
     "text": [
      "n     Energy            log10(ΔE)   log10(Δρ)   Diag\n",
      "---   ---------------   ---------   ---------   ----\n",
      "  1   -7.846789761058                   -0.70    4.5\n",
      "  2   -7.852297574243       -2.26       -1.53    1.0\n"
     ]
    }
   ],
   "cell_type": "code",
   "source": [
    "scfres_start = self_consistent_field(basis; tol=1e-1);"
   ],
   "metadata": {},
   "execution_count": 5
  },
  {
   "cell_type": "markdown",
   "source": [
    "Remove the virtual orbitals (which Newton cannot treat yet)"
   ],
   "metadata": {}
  },
  {
   "outputs": [
    {
     "name": "stdout",
     "output_type": "stream",
     "text": [
      "n     Energy            log10(ΔE)   log10(Δρ)\n",
      "---   ---------------   ---------   ---------\n",
      "  1   -7.852646686425                   -2.54\n",
      "  2   -7.852646686730       -9.52       -5.68\n",
      "  3   -7.852646686730      -14.45      -10.76\n",
      "  4   -7.852646686730   +  -14.45      -15.31\n"
     ]
    }
   ],
   "cell_type": "code",
   "source": [
    "ψ = DFTK.select_occupied_orbitals(basis, scfres_start.ψ, scfres_start.occupation).ψ\n",
    "scfres_newton = newton(basis, ψ; tol);"
   ],
   "metadata": {},
   "execution_count": 6
  },
  {
   "cell_type": "markdown",
   "source": [
    "## Comparison of results"
   ],
   "metadata": {}
  },
  {
   "outputs": [
    {
     "name": "stdout",
     "output_type": "stream",
     "text": [
      "|ρ_newton - ρ_scf|  = 4.634998098597339e-13\n",
      "|ρ_newton - ρ_scfv| = 2.244389012718364e-12\n",
      "|ρ_newton - ρ_dm|   = 1.9165828972484852e-10\n"
     ]
    }
   ],
   "cell_type": "code",
   "source": [
    "println(\"|ρ_newton - ρ_scf|  = \", norm(scfres_newton.ρ - scfres_scf.ρ))\n",
    "println(\"|ρ_newton - ρ_scfv| = \", norm(scfres_newton.ρ - scfres_scfv.ρ))\n",
    "println(\"|ρ_newton - ρ_dm|   = \", norm(scfres_newton.ρ - scfres_dm.ρ))"
   ],
   "metadata": {},
   "execution_count": 7
  }
 ],
 "nbformat_minor": 3,
 "metadata": {
  "language_info": {
   "file_extension": ".jl",
   "mimetype": "application/julia",
   "name": "julia",
   "version": "1.8.2"
  },
  "kernelspec": {
   "name": "julia-1.8",
   "display_name": "Julia 1.8.2",
   "language": "julia"
  }
 },
 "nbformat": 4
}
