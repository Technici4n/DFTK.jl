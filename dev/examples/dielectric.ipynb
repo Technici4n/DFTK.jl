{
 "cells": [
  {
   "cell_type": "markdown",
   "source": [
    "# Eigenvalues of the dielectric matrix\n",
    "\n",
    "We compute a few eigenvalues of the dielectric matrix ($q=0$, $ω=0$) iteratively."
   ],
   "metadata": {}
  },
  {
   "outputs": [
    {
     "name": "stdout",
     "output_type": "stream",
     "text": [
      "n     Energy            log10(ΔE)   log10(Δρ)   Diag   Δtime\n",
      "---   ---------------   ---------   ---------   ----   ------\n",
      "  1   -7.234359399705                   -0.50    7.0         \n",
      "  2   -7.249835193985       -1.81       -1.40    1.0   7.01ms\n",
      "  3   -7.251104508452       -2.90       -1.99    2.0   7.84ms\n",
      "  4   -7.251071839724   +   -4.49       -1.94    2.0   10.9ms\n",
      "  5   -7.251326640236       -3.59       -2.56    1.0   6.98ms\n",
      "  6   -7.251336743195       -5.00       -2.92    2.0   8.47ms\n",
      "  7   -7.251338571987       -5.74       -3.43    1.0   7.05ms\n",
      "  8   -7.251338767601       -6.71       -3.86    1.0   7.14ms\n",
      "  9   -7.251338796721       -7.54       -4.43    2.0   8.90ms\n",
      " 10   -7.251338798530       -8.74       -4.90    2.0   8.60ms\n",
      " 11   -7.251338798685       -9.81       -5.43    2.0   8.77ms\n",
      " 12   -7.251338798698      -10.88       -5.66    2.0   8.83ms\n",
      " 13   -7.251338798704      -11.26       -6.22    1.0   12.0ms\n",
      " 14   -7.251338798704      -12.23       -6.56    3.0   10.7ms\n",
      " 15   -7.251338798705      -13.06       -7.11    1.0   9.23ms\n",
      " 16   -7.251338798705      -13.71       -7.59    3.0   10.5ms\n",
      " 17   -7.251338798705   +  -14.75       -7.91    2.0   8.68ms\n",
      " 18   -7.251338798705      -15.05       -8.25    1.0   7.63ms\n"
     ]
    }
   ],
   "cell_type": "code",
   "source": [
    "using DFTK\n",
    "using Plots\n",
    "using KrylovKit\n",
    "using Printf\n",
    "\n",
    "# Calculation parameters\n",
    "kgrid = [1, 1, 1]\n",
    "Ecut = 5\n",
    "\n",
    "# Silicon lattice\n",
    "a = 10.26\n",
    "lattice = a / 2 .* [[0 1 1.]; [1 0 1.]; [1 1 0.]]\n",
    "Si = ElementPsp(:Si, psp=load_psp(\"hgh/lda/Si-q4\"))\n",
    "atoms     = [Si, Si]\n",
    "positions = [ones(3)/8, -ones(3)/8]\n",
    "\n",
    "# Compute the dielectric operator without symmetries\n",
    "model  = model_LDA(lattice, atoms, positions, symmetries=false)\n",
    "basis  = PlaneWaveBasis(model; Ecut, kgrid)\n",
    "scfres = self_consistent_field(basis, tol=1e-8);"
   ],
   "metadata": {},
   "execution_count": 1
  },
  {
   "cell_type": "markdown",
   "source": [
    "Applying $ε^† ≔ (1- χ_0 K)$ …"
   ],
   "metadata": {}
  },
  {
   "outputs": [],
   "cell_type": "code",
   "source": [
    "function eps_fun(δρ)\n",
    "    δV = apply_kernel(basis, δρ; ρ=scfres.ρ)\n",
    "    χ0δV = apply_χ0(scfres, δV)\n",
    "    δρ - χ0δV\n",
    "end;"
   ],
   "metadata": {},
   "execution_count": 2
  },
  {
   "cell_type": "markdown",
   "source": [
    "… eagerly diagonalizes the subspace matrix at each iteration"
   ],
   "metadata": {}
  },
  {
   "outputs": [
    {
     "name": "stdout",
     "output_type": "stream",
     "text": [
      "[ Info: Arnoldi iteration step 1: normres = 0.03955420500263514\n",
      "[ Info: Arnoldi iteration step 2: normres = 0.7350314144418543\n",
      "[ Info: Arnoldi iteration step 3: normres = 0.7831586244304041\n",
      "[ Info: Arnoldi iteration step 4: normres = 0.30083318878819426\n",
      "[ Info: Arnoldi iteration step 5: normres = 0.3181963169215268\n",
      "[ Info: Arnoldi schursolve in iter 1, krylovdim = 5: 0 values converged, normres = (1.88e-02, 5.84e-02, 2.33e-01, 2.04e-01, 3.94e-02)\n",
      "[ Info: Arnoldi iteration step 6: normres = 0.45647533738788865\n",
      "[ Info: Arnoldi schursolve in iter 1, krylovdim = 6: 0 values converged, normres = (7.32e-03, 1.66e-01, 4.07e-01, 1.02e-01, 6.13e-02)\n",
      "[ Info: Arnoldi iteration step 7: normres = 0.08313312669698986\n",
      "[ Info: Arnoldi schursolve in iter 1, krylovdim = 7: 0 values converged, normres = (3.37e-04, 2.87e-02, 1.39e-02, 3.47e-02, 5.97e-02)\n",
      "[ Info: Arnoldi iteration step 8: normres = 0.11077071926525388\n",
      "[ Info: Arnoldi schursolve in iter 1, krylovdim = 8: 0 values converged, normres = (1.62e-05, 2.27e-03, 1.23e-03, 1.28e-02, 4.93e-02)\n",
      "[ Info: Arnoldi iteration step 9: normres = 0.08808842484677537\n",
      "[ Info: Arnoldi schursolve in iter 1, krylovdim = 9: 0 values converged, normres = (6.23e-07, 1.45e-04, 8.79e-05, 4.29e-03, 4.35e-02)\n",
      "[ Info: Arnoldi iteration step 10: normres = 0.09048783528332535\n",
      "[ Info: Arnoldi schursolve in iter 1, krylovdim = 10: 0 values converged, normres = (2.44e-08, 9.39e-06, 6.32e-06, 1.34e-03, 3.11e-02)\n",
      "[ Info: Arnoldi iteration step 11: normres = 0.07213186816576729\n",
      "[ Info: Arnoldi schursolve in iter 1, krylovdim = 11: 0 values converged, normres = (7.66e-10, 4.87e-07, 3.64e-07, 3.48e-04, 1.92e-02)\n",
      "[ Info: Arnoldi iteration step 12: normres = 0.08705750337496147\n",
      "[ Info: Arnoldi schursolve in iter 1, krylovdim = 12: 0 values converged, normres = (2.85e-11, 2.96e-08, 2.46e-08, 9.21e-05, 9.80e-03)\n",
      "[ Info: Arnoldi iteration step 13: normres = 0.03588861256679522\n",
      "[ Info: Arnoldi schursolve in iter 1, krylovdim = 13: 1 values converged, normres = (4.35e-13, 7.37e-10, 6.77e-10, 9.81e-06, 2.10e-03)\n",
      "[ Info: Arnoldi iteration step 14: normres = 0.682046520432747\n",
      "[ Info: Arnoldi schursolve in iter 1, krylovdim = 14: 1 values converged, normres = (1.53e-13, 4.85e-10, 5.15e-10, 6.60e-01, 1.37e-01)\n",
      "[ Info: Arnoldi iteration step 15: normres = 0.09442247651499677\n",
      "[ Info: Arnoldi schursolve in iter 1, krylovdim = 15: 1 values converged, normres = (1.15e-14, 3.17e-10, 7.68e-02, 2.82e-03, 3.20e-05)\n",
      "[ Info: Arnoldi iteration step 16: normres = 0.6545465440740548\n",
      "[ Info: Arnoldi schursolve in iter 1, krylovdim = 16: 1 values converged, normres = (5.46e-15, 4.89e-10, 1.26e-01, 7.71e-03, 6.41e-01)\n",
      "[ Info: Arnoldi iteration step 17: normres = 0.03227098959282646\n",
      "[ Info: Arnoldi schursolve in iter 1, krylovdim = 17: 1 values converged, normres = (1.07e-16, 1.31e-02, 5.36e-03, 3.26e-05, 1.02e-02)\n",
      "[ Info: Arnoldi iteration step 18: normres = 0.02084762463999428\n",
      "[ Info: Arnoldi schursolve in iter 1, krylovdim = 18: 1 values converged, normres = (9.18e-19, 2.60e-08, 1.93e-04, 6.98e-09, 1.54e-04)\n",
      "[ Info: Arnoldi iteration step 19: normres = 0.05809299588092051\n",
      "[ Info: Arnoldi schursolve in iter 1, krylovdim = 19: 1 values converged, normres = (2.22e-20, 1.87e-08, 7.50e-06, 6.20e-06, 2.20e-06)\n",
      "[ Info: Arnoldi iteration step 20: normres = 0.1946717211235136\n",
      "[ Info: Arnoldi schursolve in iter 1, krylovdim = 20: 1 values converged, normres = (2.05e-21, 1.21e-06, 1.12e-07, 5.48e-09, 1.21e-06)\n",
      "[ Info: Arnoldi iteration step 21: normres = 0.021631802030348684\n",
      "[ Info: Arnoldi schursolve in iter 1, krylovdim = 21: 1 values converged, normres = (1.93e-23, 8.15e-09, 1.73e-08, 1.22e-08, 1.73e-08)\n",
      "[ Info: Arnoldi iteration step 22: normres = 0.023597523972523533\n",
      "[ Info: Arnoldi schursolve in iter 1, krylovdim = 22: 1 values converged, normres = (1.87e-25, 2.55e-10, 1.47e-10, 2.12e-10, 2.90e-10)\n",
      "[ Info: Arnoldi iteration step 23: normres = 0.6949846218729685\n",
      "[ Info: Arnoldi schursolve in iter 1, krylovdim = 23: 1 values converged, normres = (6.82e-26, 1.78e-10, 1.02e-10, 1.69e-10, 2.37e-10)\n",
      "[ Info: Arnoldi iteration step 24: normres = 0.022701254047149344\n",
      "[ Info: Arnoldi schursolve in iter 1, krylovdim = 24: 1 values converged, normres = (1.15e-27, 1.88e-11, 1.08e-11, 7.64e-03, 2.29e-03)\n",
      "[ Info: Arnoldi iteration step 25: normres = 0.04102670906233634\n",
      "[ Info: Arnoldi schursolve in iter 1, krylovdim = 25: 3 values converged, normres = (1.94e-29, 5.03e-13, 2.89e-13, 2.30e-04, 6.26e-05)\n",
      "[ Info: Arnoldi iteration step 26: normres = 0.08100977665135307\n",
      "[ Info: Arnoldi schursolve in iter 1, krylovdim = 26: 3 values converged, normres = (7.02e-31, 3.07e-14, 1.76e-14, 3.74e-09, 4.84e-09)\n",
      "[ Info: Arnoldi iteration step 27: normres = 0.05397440356496855\n",
      "[ Info: Arnoldi schursolve in iter 1, krylovdim = 27: 3 values converged, normres = (1.58e-32, 1.11e-15, 6.39e-16, 1.05e-07, 2.69e-07)\n",
      "[ Info: Arnoldi iteration step 28: normres = 0.06033376585607219\n",
      "[ Info: Arnoldi schursolve in iter 1, krylovdim = 28: 3 values converged, normres = (4.22e-34, 4.96e-17, 2.85e-17, 2.75e-09, 1.09e-09)\n",
      "[ Info: Arnoldi iteration step 29: normres = 0.04055865771420513\n",
      "[ Info: Arnoldi schursolve in iter 1, krylovdim = 29: 3 values converged, normres = (7.08e-36, 1.33e-18, 7.64e-19, 1.88e-09, 9.45e-10)\n",
      "[ Info: Arnoldi iteration step 30: normres = 0.14988978707782075\n",
      "[ Info: Arnoldi schursolve in iter 1, krylovdim = 30: 3 values converged, normres = (5.15e-37, 1.73e-19, 9.94e-20, 2.76e-10, 1.40e-10)\n",
      "[ Info: Arnoldi schursolve in iter 2, krylovdim = 19: 3 values converged, normres = (5.15e-37, 1.73e-19, 9.94e-20, 2.76e-10, 1.40e-10)\n",
      "[ Info: Arnoldi iteration step 20: normres = 0.031184286814989307\n",
      "[ Info: Arnoldi schursolve in iter 2, krylovdim = 20: 3 values converged, normres = (6.80e-39, 3.73e-21, 2.14e-21, 6.59e-12, 3.36e-12)\n",
      "[ Info: Arnoldi iteration step 21: normres = 0.07999196849732419\n",
      "┌ Info: Arnoldi eigsolve finished after 2 iterations:\n",
      "│ *  6 eigenvalues converged\n",
      "│ *  norm of residuals = (2.3094681983885217e-40, 2.0583467289812655e-22, 7.541719241012465e-23, 4.023750229194065e-13, 3.4786818368416795e-13, 1.6049106817435918e-13)\n",
      "└ *  number of operations = 32\n"
     ]
    }
   ],
   "cell_type": "code",
   "source": [
    "eigsolve(eps_fun, randn(size(scfres.ρ)), 5, :LM; eager=true, verbosity=3);"
   ],
   "metadata": {},
   "execution_count": 3
  }
 ],
 "nbformat_minor": 3,
 "metadata": {
  "language_info": {
   "file_extension": ".jl",
   "mimetype": "application/julia",
   "name": "julia",
   "version": "1.9.3"
  },
  "kernelspec": {
   "name": "julia-1.9",
   "display_name": "Julia 1.9.3",
   "language": "julia"
  }
 },
 "nbformat": 4
}
