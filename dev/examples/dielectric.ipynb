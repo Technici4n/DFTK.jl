{
 "cells": [
  {
   "cell_type": "markdown",
   "source": [
    "# Eigenvalues of the dielectric matrix\n",
    "\n",
    "We compute a few eigenvalues of the dielectric matrix ($q=0$, $ω=0$) iteratively."
   ],
   "metadata": {}
  },
  {
   "outputs": [
    {
     "name": "stdout",
     "output_type": "stream",
     "text": [
      "n     Energy            log10(ΔE)   log10(Δρ)   Diag\n",
      "---   ---------------   ---------   ---------   ----\n",
      "  1   -7.233891356578                   -0.50    7.0\n",
      "  2   -7.249993647027       -1.79       -1.40    1.0\n",
      "  3   -7.250920180465       -3.03       -1.81    4.0\n",
      "  4   -7.250968942763       -4.31       -1.88    2.0\n",
      "  5   -7.251331451140       -3.44       -2.66    2.0\n",
      "  6   -7.251338115277       -5.18       -3.12    2.0\n",
      "  7   -7.251338771062       -6.18       -3.82    2.0\n",
      "  8   -7.251338795965       -7.60       -4.25    3.0\n",
      "  9   -7.251338798617       -8.58       -5.01    2.0\n",
      " 10   -7.251338798686      -10.16       -5.43    3.0\n",
      " 11   -7.251338798704      -10.76       -6.03    3.0\n",
      " 12   -7.251338798705      -12.03       -6.90    3.0\n",
      " 13   -7.251338798705      -13.82       -7.14    3.0\n",
      " 14   -7.251338798705      -14.57       -7.67    1.0\n"
     ]
    }
   ],
   "cell_type": "code",
   "source": [
    "using DFTK\n",
    "using Plots\n",
    "using KrylovKit\n",
    "using Printf\n",
    "\n",
    "# Calculation parameters\n",
    "kgrid = [1, 1, 1]\n",
    "Ecut = 5\n",
    "\n",
    "# Silicon lattice\n",
    "a = 10.26\n",
    "lattice = a / 2 .* [[0 1 1.]; [1 0 1.]; [1 1 0.]]\n",
    "Si = ElementPsp(:Si, psp=load_psp(\"hgh/lda/Si-q4\"))\n",
    "atoms     = [Si, Si]\n",
    "positions = [ones(3)/8, -ones(3)/8]\n",
    "\n",
    "# Compute the dielectric operator without symmetries\n",
    "model = model_LDA(lattice, atoms, positions, symmetries=false)\n",
    "basis = PlaneWaveBasis(model; Ecut, kgrid)\n",
    "scfres = self_consistent_field(basis, tol=1e-14);"
   ],
   "metadata": {},
   "execution_count": 1
  },
  {
   "cell_type": "markdown",
   "source": [
    "Applying $ε^† ≔ (1- χ_0 K)$ …"
   ],
   "metadata": {}
  },
  {
   "outputs": [],
   "cell_type": "code",
   "source": [
    "function eps_fun(δρ)\n",
    "    δV = apply_kernel(basis, δρ; ρ=scfres.ρ)\n",
    "    χ0δV = apply_χ0(scfres, δV)\n",
    "    δρ - χ0δV\n",
    "end;"
   ],
   "metadata": {},
   "execution_count": 2
  },
  {
   "cell_type": "markdown",
   "source": [
    "… eagerly diagonalizes the subspace matrix at each iteration"
   ],
   "metadata": {}
  },
  {
   "outputs": [
    {
     "name": "stdout",
     "output_type": "stream",
     "text": [
      "[ Info: Arnoldi iteration step 1: normres = 0.051475438983684806\n",
      "[ Info: Arnoldi iteration step 2: normres = 0.42436363101309754\n",
      "[ Info: Arnoldi iteration step 3: normres = 1.011707361747678\n",
      "[ Info: Arnoldi iteration step 4: normres = 0.349547570318821\n",
      "[ Info: Arnoldi iteration step 5: normres = 0.2152256289721488\n",
      "[ Info: Arnoldi schursolve in iter 1, krylovdim = 5: 0 values converged, normres = (2.50e-02, 2.57e-02, 1.50e-01, 1.14e-01, 9.69e-02)\n",
      "[ Info: Arnoldi iteration step 6: normres = 0.5527551681347113\n",
      "[ Info: Arnoldi schursolve in iter 1, krylovdim = 6: 0 values converged, normres = (1.13e-02, 8.62e-02, 5.29e-01, 9.13e-02, 2.03e-02)\n",
      "[ Info: Arnoldi iteration step 7: normres = 0.08882754968189606\n",
      "[ Info: Arnoldi schursolve in iter 1, krylovdim = 7: 0 values converged, normres = (5.97e-04, 4.09e-02, 8.53e-03, 2.83e-02, 7.12e-02)\n",
      "[ Info: Arnoldi iteration step 8: normres = 0.10384484477396469\n",
      "[ Info: Arnoldi schursolve in iter 1, krylovdim = 8: 0 values converged, normres = (2.65e-05, 2.98e-03, 6.03e-04, 9.06e-03, 4.37e-02)\n",
      "[ Info: Arnoldi iteration step 9: normres = 0.0862229618043539\n",
      "[ Info: Arnoldi schursolve in iter 1, krylovdim = 9: 0 values converged, normres = (1.01e-06, 1.88e-04, 4.29e-05, 3.11e-03, 4.20e-02)\n",
      "[ Info: Arnoldi iteration step 10: normres = 0.08738021794169668\n",
      "[ Info: Arnoldi schursolve in iter 1, krylovdim = 10: 0 values converged, normres = (3.82e-08, 1.18e-05, 3.00e-06, 9.52e-04, 2.90e-02)\n",
      "[ Info: Arnoldi iteration step 11: normres = 0.07450434460448613\n",
      "[ Info: Arnoldi schursolve in iter 1, krylovdim = 11: 0 values converged, normres = (1.24e-09, 6.31e-07, 1.78e-07, 2.51e-04, 1.78e-02)\n",
      "[ Info: Arnoldi iteration step 12: normres = 0.07780250455899342\n",
      "[ Info: Arnoldi schursolve in iter 1, krylovdim = 12: 0 values converged, normres = (4.10e-11, 3.42e-08, 1.07e-08, 5.78e-05, 7.92e-03)\n",
      "[ Info: Arnoldi iteration step 13: normres = 0.07365621413371662\n",
      "[ Info: Arnoldi schursolve in iter 1, krylovdim = 13: 0 values converged, normres = (1.30e-12, 1.78e-09, 6.16e-10, 1.37e-05, 3.88e-03)\n",
      "[ Info: Arnoldi iteration step 14: normres = 0.5908626082200262\n",
      "[ Info: Arnoldi schursolve in iter 1, krylovdim = 14: 1 values converged, normres = (5.61e-13, 2.28e-09, 1.13e-09, 5.84e-01, 2.32e-02)\n",
      "[ Info: Arnoldi iteration step 15: normres = 0.06155481729787739\n",
      "[ Info: Arnoldi schursolve in iter 1, krylovdim = 15: 1 values converged, normres = (1.87e-14, 3.17e-10, 2.97e-02, 8.26e-05, 1.37e-06)\n",
      "[ Info: Arnoldi iteration step 16: normres = 0.4839553206437742\n",
      "[ Info: Arnoldi schursolve in iter 1, krylovdim = 16: 1 values converged, normres = (8.47e-15, 1.01e-09, 2.50e-01, 2.30e-02, 4.11e-01)\n",
      "[ Info: Arnoldi iteration step 17: normres = 0.030943932264456964\n",
      "[ Info: Arnoldi schursolve in iter 1, krylovdim = 17: 1 values converged, normres = (1.26e-16, 1.17e-08, 1.01e-02, 3.86e-06, 2.36e-03)\n",
      "[ Info: Arnoldi iteration step 18: normres = 0.03672116387742564\n",
      "[ Info: Arnoldi schursolve in iter 1, krylovdim = 18: 1 values converged, normres = (1.93e-18, 3.98e-08, 2.47e-04, 2.76e-05, 5.74e-05)\n",
      "[ Info: Arnoldi iteration step 19: normres = 0.17807278683051564\n",
      "[ Info: Arnoldi schursolve in iter 1, krylovdim = 19: 1 values converged, normres = (1.63e-19, 3.30e-05, 1.63e-05, 2.32e-08, 1.07e-05)\n",
      "[ Info: Arnoldi iteration step 20: normres = 0.023163131564753418\n",
      "[ Info: Arnoldi schursolve in iter 1, krylovdim = 20: 1 values converged, normres = (1.63e-21, 9.76e-09, 6.09e-07, 1.33e-07, 1.47e-07)\n",
      "[ Info: Arnoldi iteration step 21: normres = 0.03575917189584211\n",
      "[ Info: Arnoldi schursolve in iter 1, krylovdim = 21: 1 values converged, normres = (2.41e-23, 1.32e-08, 5.64e-09, 2.57e-09, 4.46e-09)\n",
      "[ Info: Arnoldi iteration step 22: normres = 0.17264240406790293\n",
      "[ Info: Arnoldi schursolve in iter 1, krylovdim = 22: 1 values converged, normres = (1.74e-24, 1.56e-09, 6.11e-10, 3.38e-10, 5.71e-10)\n",
      "[ Info: Arnoldi iteration step 23: normres = 0.1803904444301143\n",
      "[ Info: Arnoldi schursolve in iter 1, krylovdim = 23: 1 values converged, normres = (2.94e-25, 1.75e-09, 6.77e-10, 3.14e-09, 5.18e-09)\n",
      "[ Info: Arnoldi iteration step 24: normres = 0.014704565496594107\n",
      "[ Info: Arnoldi schursolve in iter 1, krylovdim = 24: 1 values converged, normres = (1.79e-27, 1.90e-11, 7.41e-12, 3.41e-09, 7.76e-09)\n",
      "[ Info: Arnoldi iteration step 25: normres = 0.05255077806304351\n",
      "[ Info: Arnoldi schursolve in iter 1, krylovdim = 25: 3 values converged, normres = (3.88e-29, 6.57e-13, 2.55e-13, 3.90e-05, 5.95e-05)\n",
      "[ Info: Arnoldi iteration step 26: normres = 0.05948138714181841\n",
      "[ Info: Arnoldi schursolve in iter 1, krylovdim = 26: 3 values converged, normres = (1.04e-30, 2.98e-14, 1.16e-14, 1.60e-08, 1.81e-08)\n",
      "[ Info: Arnoldi iteration step 27: normres = 0.02462060868587059\n",
      "[ Info: Arnoldi schursolve in iter 1, krylovdim = 27: 3 values converged, normres = (1.06e-32, 4.86e-16, 1.89e-16, 3.28e-08, 3.76e-08)\n",
      "[ Info: Arnoldi iteration step 28: normres = 0.17588541782620165\n",
      "[ Info: Arnoldi schursolve in iter 1, krylovdim = 28: 3 values converged, normres = (8.15e-34, 6.21e-17, 2.41e-17, 7.97e-09, 3.59e-09)\n",
      "[ Info: Arnoldi iteration step 29: normres = 0.13055862033582696\n",
      "[ Info: Arnoldi schursolve in iter 1, krylovdim = 29: 3 values converged, normres = (4.91e-35, 6.48e-18, 2.52e-18, 9.81e-10, 3.01e-10)\n",
      "[ Info: Arnoldi iteration step 30: normres = 0.03347160283620403\n",
      "[ Info: Arnoldi schursolve in iter 1, krylovdim = 30: 3 values converged, normres = (7.43e-37, 1.67e-19, 6.48e-20, 2.69e-11, 1.28e-11)\n",
      "[ Info: Arnoldi schursolve in iter 2, krylovdim = 19: 3 values converged, normres = (1.84e-36, 1.67e-19, 6.48e-20, 2.69e-11, 1.28e-11)\n",
      "[ Info: Arnoldi iteration step 20: normres = 0.04381243726634014\n",
      "┌ Info: Arnoldi eigsolve finished after 2 iterations:\n",
      "│ *  6 eigenvalues converged\n",
      "│ *  norm of residuals = (1.3449478492749254e-38, 4.826795935016203e-21, 2.5234318578913486e-21, 8.577269841991033e-13, 6.957540652131074e-13, 3.445094334918681e-13)\n",
      "└ *  number of operations = 31\n"
     ]
    }
   ],
   "cell_type": "code",
   "source": [
    "eigsolve(eps_fun, randn(size(scfres.ρ)), 5, :LM; eager=true, verbosity=3);"
   ],
   "metadata": {},
   "execution_count": 3
  }
 ],
 "nbformat_minor": 3,
 "metadata": {
  "language_info": {
   "file_extension": ".jl",
   "mimetype": "application/julia",
   "name": "julia",
   "version": "1.8.2"
  },
  "kernelspec": {
   "name": "julia-1.8",
   "display_name": "Julia 1.8.2",
   "language": "julia"
  }
 },
 "nbformat": 4
}
