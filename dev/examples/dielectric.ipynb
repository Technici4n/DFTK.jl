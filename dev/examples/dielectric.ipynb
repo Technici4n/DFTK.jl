{
 "cells": [
  {
   "cell_type": "markdown",
   "source": [
    "# Eigenvalues of the dielectric matrix\n",
    "\n",
    "We compute a few eigenvalues of the dielectric matrix ($q=0$, $ω=0$) iteratively."
   ],
   "metadata": {}
  },
  {
   "outputs": [
    {
     "name": "stdout",
     "output_type": "stream",
     "text": [
      "n     Energy            log10(ΔE)   log10(Δρ)   Diag\n",
      "---   ---------------   ---------   ---------   ----\n",
      "  1   -7.233403229429                   -0.50    6.0\n",
      "  2   -7.249490323346       -1.79       -1.39    1.0\n",
      "  3   -7.251253815196       -2.75       -2.00    4.0\n",
      "  4   -7.251157717262   +   -4.02       -2.02    5.0\n",
      "  5   -7.251317273646       -3.80       -2.50    4.0\n",
      "  6   -7.251337485165       -4.69       -3.03    4.0\n",
      "  7   -7.251338792015       -5.88       -4.10    3.0\n",
      "  8   -7.251338794309       -8.64       -4.24    4.0\n",
      "  9   -7.251338798525       -8.38       -4.93    2.0\n",
      " 10   -7.251338798702       -9.75       -5.68    3.0\n",
      " 11   -7.251338798704      -11.72       -6.29    3.0\n",
      " 12   -7.251338798704      -12.75       -6.52    3.0\n",
      " 13   -7.251338798705      -12.91       -7.40    2.0\n",
      " 14   -7.251338798705      -14.27       -7.60    4.0\n"
     ]
    }
   ],
   "cell_type": "code",
   "source": [
    "using DFTK\n",
    "using Plots\n",
    "using KrylovKit\n",
    "using Printf\n",
    "\n",
    "# Calculation parameters\n",
    "kgrid = [1, 1, 1]\n",
    "Ecut = 5\n",
    "\n",
    "# Silicon lattice\n",
    "a = 10.26\n",
    "lattice = a / 2 .* [[0 1 1.]; [1 0 1.]; [1 1 0.]]\n",
    "Si = ElementPsp(:Si, psp=load_psp(\"hgh/lda/Si-q4\"))\n",
    "atoms     = [Si, Si]\n",
    "positions = [ones(3)/8, -ones(3)/8]\n",
    "\n",
    "# Compute the dielectric operator without symmetries\n",
    "model = model_LDA(lattice, atoms, positions, symmetries=false)\n",
    "basis = PlaneWaveBasis(model; Ecut, kgrid)\n",
    "scfres = self_consistent_field(basis, tol=1e-14);"
   ],
   "metadata": {},
   "execution_count": 1
  },
  {
   "cell_type": "markdown",
   "source": [
    "Applying $ε^† ≔ (1- χ_0 K)$ …"
   ],
   "metadata": {}
  },
  {
   "outputs": [],
   "cell_type": "code",
   "source": [
    "function eps_fun(δρ)\n",
    "    δV = apply_kernel(basis, δρ; ρ=scfres.ρ)\n",
    "    χ0δV = apply_χ0(scfres, δV)\n",
    "    δρ - χ0δV\n",
    "end;"
   ],
   "metadata": {},
   "execution_count": 2
  },
  {
   "cell_type": "markdown",
   "source": [
    "… eagerly diagonalizes the subspace matrix at each iteration"
   ],
   "metadata": {}
  },
  {
   "outputs": [
    {
     "name": "stdout",
     "output_type": "stream",
     "text": [
      "[ Info: Arnoldi iteration step 1: normres = 0.0810442448356497\n",
      "[ Info: Arnoldi iteration step 2: normres = 0.5696356310061619\n",
      "[ Info: Arnoldi iteration step 3: normres = 0.614716963627778\n",
      "[ Info: Arnoldi iteration step 4: normres = 0.225945061104137\n",
      "[ Info: Arnoldi iteration step 5: normres = 0.3650607677643011\n",
      "[ Info: Arnoldi schursolve in iter 1, krylovdim = 5: 0 values converged, normres = (7.60e-03, 3.68e-02, 2.98e-01, 2.05e-01, 3.07e-02)\n",
      "[ Info: Arnoldi iteration step 6: normres = 0.41693522176780845\n",
      "[ Info: Arnoldi schursolve in iter 1, krylovdim = 6: 0 values converged, normres = (2.83e-03, 2.42e-01, 3.09e-01, 1.15e-01, 4.33e-02)\n",
      "[ Info: Arnoldi iteration step 7: normres = 0.07483251008887316\n",
      "[ Info: Arnoldi schursolve in iter 1, krylovdim = 7: 0 values converged, normres = (1.12e-04, 2.39e-02, 6.70e-03, 3.70e-02, 5.41e-02)\n",
      "[ Info: Arnoldi iteration step 8: normres = 0.13484962434503056\n",
      "[ Info: Arnoldi schursolve in iter 1, krylovdim = 8: 0 values converged, normres = (6.48e-06, 2.26e-03, 7.02e-04, 1.51e-02, 4.98e-02)\n",
      "[ Info: Arnoldi iteration step 9: normres = 0.0570444800992445\n",
      "[ Info: Arnoldi schursolve in iter 1, krylovdim = 9: 0 values converged, normres = (1.63e-07, 9.50e-05, 3.29e-05, 3.69e-03, 3.63e-02)\n",
      "[ Info: Arnoldi iteration step 10: normres = 0.10627727593259445\n",
      "[ Info: Arnoldi schursolve in iter 1, krylovdim = 10: 0 values converged, normres = (7.53e-09, 7.25e-06, 2.79e-06, 1.33e-03, 2.69e-02)\n",
      "[ Info: Arnoldi iteration step 11: normres = 0.07055365063181006\n",
      "[ Info: Arnoldi schursolve in iter 1, krylovdim = 11: 0 values converged, normres = (2.29e-10, 3.63e-07, 1.55e-07, 3.27e-04, 1.64e-02)\n",
      "[ Info: Arnoldi iteration step 12: normres = 0.0624278476765782\n",
      "[ Info: Arnoldi schursolve in iter 1, krylovdim = 12: 0 values converged, normres = (6.14e-12, 1.60e-08, 7.57e-09, 6.38e-05, 6.46e-03)\n",
      "[ Info: Arnoldi iteration step 13: normres = 0.04463466015271072\n",
      "[ Info: Arnoldi schursolve in iter 1, krylovdim = 13: 1 values converged, normres = (1.16e-13, 4.90e-10, 2.57e-10, 7.95e-06, 1.44e-03)\n",
      "[ Info: Arnoldi iteration step 14: normres = 0.5658036918794072\n",
      "[ Info: Arnoldi schursolve in iter 1, krylovdim = 14: 1 values converged, normres = (3.12e-14, 2.32e-10, 1.37e-10, 4.31e-05, 5.20e-01)\n",
      "[ Info: Arnoldi iteration step 15: normres = 0.06847237120668052\n",
      "[ Info: Arnoldi schursolve in iter 1, krylovdim = 15: 1 values converged, normres = (1.78e-15, 9.37e-11, 5.90e-02, 3.30e-03, 4.40e-05)\n",
      "[ Info: Arnoldi iteration step 16: normres = 0.7175817348434004\n",
      "[ Info: Arnoldi schursolve in iter 1, krylovdim = 16: 1 values converged, normres = (6.87e-16, 7.35e-11, 5.06e-02, 1.49e-03, 7.03e-01)\n",
      "[ Info: Arnoldi iteration step 17: normres = 0.0598941177338735\n",
      "[ Info: Arnoldi schursolve in iter 1, krylovdim = 17: 1 values converged, normres = (3.47e-17, 1.28e-09, 4.59e-02, 1.24e-02, 4.83e-03)\n",
      "[ Info: Arnoldi iteration step 18: normres = 0.020023863014273616\n",
      "[ Info: Arnoldi schursolve in iter 1, krylovdim = 18: 1 values converged, normres = (2.89e-19, 7.83e-05, 6.04e-04, 8.11e-05, 1.86e-04)\n",
      "[ Info: Arnoldi iteration step 19: normres = 0.1338559442405939\n",
      "[ Info: Arnoldi schursolve in iter 1, krylovdim = 19: 1 values converged, normres = (1.61e-20, 1.63e-08, 5.47e-05, 9.82e-08, 2.01e-05)\n",
      "[ Info: Arnoldi iteration step 20: normres = 0.048625624208349746\n",
      "[ Info: Arnoldi schursolve in iter 1, krylovdim = 20: 1 values converged, normres = (3.84e-22, 6.27e-09, 2.35e-06, 7.18e-07, 6.78e-07)\n",
      "[ Info: Arnoldi iteration step 21: normres = 0.026599507863605786\n",
      "[ Info: Arnoldi schursolve in iter 1, krylovdim = 21: 1 values converged, normres = (4.22e-24, 2.12e-08, 3.55e-08, 1.25e-08, 1.45e-08)\n",
      "[ Info: Arnoldi iteration step 22: normres = 0.030822317492626275\n",
      "[ Info: Arnoldi schursolve in iter 1, krylovdim = 22: 1 values converged, normres = (5.42e-26, 1.89e-10, 8.32e-10, 2.89e-10, 3.25e-10)\n",
      "[ Info: Arnoldi iteration step 23: normres = 0.2067423016948252\n",
      "[ Info: Arnoldi schursolve in iter 1, krylovdim = 23: 1 values converged, normres = (4.67e-27, 2.82e-11, 1.15e-10, 4.40e-11, 4.99e-11)\n",
      "[ Info: Arnoldi iteration step 24: normres = 0.08541281029299422\n",
      "[ Info: Arnoldi schursolve in iter 1, krylovdim = 24: 1 values converged, normres = (5.45e-28, 1.58e-11, 6.52e-11, 4.65e-10, 5.33e-10)\n",
      "[ Info: Arnoldi iteration step 25: normres = 0.036480870646926365\n",
      "[ Info: Arnoldi schursolve in iter 1, krylovdim = 25: 2 values converged, normres = (5.65e-30, 4.03e-13, 1.65e-12, 9.34e-05, 4.12e-04)\n",
      "[ Info: Arnoldi iteration step 26: normres = 0.07351498377978737\n",
      "[ Info: Arnoldi schursolve in iter 1, krylovdim = 26: 3 values converged, normres = (1.85e-31, 2.21e-14, 9.01e-14, 1.12e-04, 2.53e-05)\n",
      "[ Info: Arnoldi iteration step 27: normres = 0.06646735286729102\n",
      "[ Info: Arnoldi schursolve in iter 1, krylovdim = 27: 3 values converged, normres = (5.14e-33, 9.92e-16, 4.05e-15, 1.26e-09, 9.91e-10)\n",
      "[ Info: Arnoldi iteration step 28: normres = 0.052068001858013746\n",
      "[ Info: Arnoldi schursolve in iter 1, krylovdim = 28: 3 values converged, normres = (1.19e-34, 3.86e-17, 1.58e-16, 9.35e-08, 2.78e-07)\n",
      "[ Info: Arnoldi iteration step 29: normres = 0.01821078533055278\n",
      "[ Info: Arnoldi schursolve in iter 1, krylovdim = 29: 3 values converged, normres = (8.93e-37, 4.61e-19, 1.89e-18, 3.10e-09, 1.26e-09)\n",
      "[ Info: Arnoldi iteration step 30: normres = 0.21832745903044368\n",
      "[ Info: Arnoldi schursolve in iter 1, krylovdim = 30: 3 values converged, normres = (8.89e-38, 7.83e-20, 3.20e-19, 6.18e-10, 5.47e-11)\n",
      "[ Info: Arnoldi schursolve in iter 2, krylovdim = 19: 3 values converged, normres = (8.89e-38, 7.83e-20, 3.20e-19, 6.18e-10, 5.47e-11)\n",
      "[ Info: Arnoldi iteration step 20: normres = 0.027370530388904652\n",
      "[ Info: Arnoldi schursolve in iter 2, krylovdim = 20: 3 values converged, normres = (1.09e-39, 1.65e-21, 6.72e-21, 1.47e-11, 1.67e-12)\n",
      "[ Info: Arnoldi iteration step 21: normres = 0.04489336728452719\n",
      "┌ Info: Arnoldi eigsolve finished after 2 iterations:\n",
      "│ *  6 eigenvalues converged\n",
      "│ *  norm of residuals = (2.02231989763227e-41, 4.855739661507692e-23, 2.0090255740875942e-22, 4.783914961689513e-13, 1.0407604740068537e-13, 1.5414082372954962e-14)\n",
      "└ *  number of operations = 32\n"
     ]
    }
   ],
   "cell_type": "code",
   "source": [
    "eigsolve(eps_fun, randn(size(scfres.ρ)), 5, :LM; eager=true, verbosity=3);"
   ],
   "metadata": {},
   "execution_count": 3
  }
 ],
 "nbformat_minor": 3,
 "metadata": {
  "language_info": {
   "file_extension": ".jl",
   "mimetype": "application/julia",
   "name": "julia",
   "version": "1.8.2"
  },
  "kernelspec": {
   "name": "julia-1.8",
   "display_name": "Julia 1.8.2",
   "language": "julia"
  }
 },
 "nbformat": 4
}
