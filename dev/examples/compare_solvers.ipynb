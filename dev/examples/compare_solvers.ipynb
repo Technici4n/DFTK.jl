{
 "cells": [
  {
   "cell_type": "markdown",
   "source": [
    "# Comparison of DFT solvers"
   ],
   "metadata": {}
  },
  {
   "cell_type": "markdown",
   "source": [
    "We compare four different approaches for solving the DFT minimisation problem,\n",
    "namely a density-based SCF, a potential-based SCF, direct minimisation and Newton."
   ],
   "metadata": {}
  },
  {
   "cell_type": "markdown",
   "source": [
    "First we setup our problem"
   ],
   "metadata": {}
  },
  {
   "outputs": [],
   "cell_type": "code",
   "source": [
    "using DFTK\n",
    "using LinearAlgebra\n",
    "\n",
    "a = 10.26  # Silicon lattice constant in Bohr\n",
    "lattice = a / 2 * [[0 1 1.];\n",
    "                   [1 0 1.];\n",
    "                   [1 1 0.]]\n",
    "Si = ElementPsp(:Si, psp=load_psp(\"hgh/lda/Si-q4\"))\n",
    "atoms     = [Si, Si]\n",
    "positions = [ones(3)/8, -ones(3)/8]\n",
    "\n",
    "model = model_LDA(lattice, atoms, positions)\n",
    "basis = PlaneWaveBasis(model; Ecut=5, kgrid=[3, 3, 3])\n",
    "\n",
    "# Convergence we desire\n",
    "tol = 1e-12\n",
    "is_converged = DFTK.ScfConvergenceDensity(tol);"
   ],
   "metadata": {},
   "execution_count": 1
  },
  {
   "cell_type": "markdown",
   "source": [
    "## Density-based self-consistent field"
   ],
   "metadata": {}
  },
  {
   "outputs": [
    {
     "name": "stdout",
     "output_type": "stream",
     "text": [
      "n     Energy            log10(ΔE)   log10(Δρ)   Diag\n",
      "---   ---------------   ---------   ---------   ----\n",
      "  1   -7.846869607461                   -0.70    4.5\n",
      "  2   -7.852312823491       -2.26       -1.53    1.0\n",
      "  3   -7.852646225159       -3.48       -2.52    3.2\n",
      "  4   -7.852646676519       -6.35       -3.37    2.5\n",
      "  5   -7.852646685944       -8.03       -4.61    1.2\n",
      "  6   -7.852646686729       -9.11       -5.63    3.2\n",
      "  7   -7.852646686730      -11.94       -6.45    1.5\n",
      "  8   -7.852646686730      -13.30       -7.75    2.5\n",
      "  9   -7.852646686730      -14.75       -8.61    3.5\n",
      " 10   -7.852646686730      -15.05       -9.03    1.2\n",
      " 11   -7.852646686730   +  -15.05       -9.89    2.5\n",
      " 12   -7.852646686730   +    -Inf       -9.73    1.0\n",
      " 13   -7.852646686730   +  -14.75       -9.19    2.0\n",
      " 14   -7.852646686730   +    -Inf       -8.31    2.0\n",
      " 15   -7.852646686730   +    -Inf       -8.39    1.2\n",
      " 16   -7.852646686730   +    -Inf       -8.23    1.8\n",
      " 17   -7.852646686730      -14.57       -8.04    2.8\n",
      " 18   -7.852646686730   +  -14.57       -8.38    2.5\n",
      " 19   -7.852646686730   +    -Inf       -8.46    1.0\n",
      " 20   -7.852646686730      -14.75       -8.81    2.0\n",
      " 21   -7.852646686730   +  -14.75       -9.67    1.0\n",
      " 22   -7.852646686730      -14.75       -9.62    1.0\n",
      " 23   -7.852646686730      -15.05      -11.48    1.0\n",
      " 24   -7.852646686730   +  -15.05      -11.74    2.8\n",
      " 25   -7.852646686730   +  -14.75      -11.83    1.0\n",
      " 26   -7.852646686730      -14.45      -12.05    1.0\n"
     ]
    }
   ],
   "cell_type": "code",
   "source": [
    "scfres_scf = self_consistent_field(basis; is_converged);"
   ],
   "metadata": {},
   "execution_count": 2
  },
  {
   "cell_type": "markdown",
   "source": [
    "## Potential-based SCF"
   ],
   "metadata": {}
  },
  {
   "outputs": [
    {
     "name": "stdout",
     "output_type": "stream",
     "text": [
      "n     Energy            log10(ΔE)   log10(Δρ)   α      Diag\n",
      "---   ---------------   ---------   ---------   ----   ----\n",
      "  1   -7.846880474455                   -0.70           4.8\n",
      "  2   -7.852557055434       -2.25       -1.63   0.80    2.0\n",
      "  3   -7.852639996997       -4.08       -2.73   0.80    1.0\n",
      "  4   -7.852646520044       -5.19       -3.39   0.80    2.0\n",
      "  5   -7.852646678451       -6.80       -4.29   0.80    1.2\n",
      "  6   -7.852646686619       -8.09       -4.82   0.80    2.0\n",
      "  7   -7.852646686719      -10.00       -5.76   0.80    1.2\n",
      "  8   -7.852646686730      -10.97       -6.36   0.80    2.5\n",
      "  9   -7.852646686730      -12.93       -7.38   0.80    1.0\n",
      " 10   -7.852646686730      -13.85       -7.92   0.80    2.5\n",
      " 11   -7.852646686730      -14.75       -8.95   0.80    1.2\n",
      " 12   -7.852646686730   +  -14.27       -9.94   0.80    2.5\n",
      " 13   -7.852646686730   +    -Inf      -10.44   0.80    2.2\n",
      " 14   -7.852646686730   +    -Inf      -11.68   0.80    1.8\n",
      " 15   -7.852646686730      -14.45      -11.82   0.80    2.8\n",
      " 16   -7.852646686730   +    -Inf      -12.25   0.80    1.0\n"
     ]
    }
   ],
   "cell_type": "code",
   "source": [
    "scfres_scfv = DFTK.scf_potential_mixing(basis; is_converged);"
   ],
   "metadata": {},
   "execution_count": 3
  },
  {
   "cell_type": "markdown",
   "source": [
    "## Direct minimization"
   ],
   "metadata": {}
  },
  {
   "outputs": [
    {
     "name": "stdout",
     "output_type": "stream",
     "text": [
      "Iter     Function value   Gradient norm \n",
      "     0     1.395496e+01     3.641243e+00\n",
      " * time: 0.4709479808807373\n",
      "     1     1.431951e+00     2.287508e+00\n",
      " * time: 0.7085630893707275\n",
      "     2    -1.649548e+00     2.712881e+00\n",
      " * time: 0.73573899269104\n",
      "     3    -3.625392e+00     2.143154e+00\n",
      " * time: 0.7741968631744385\n",
      "     4    -5.164198e+00     1.696287e+00\n",
      " * time: 0.8122329711914062\n",
      "     5    -6.700953e+00     1.047682e+00\n",
      " * time: 0.8530979156494141\n",
      "     6    -6.789728e+00     1.221947e+00\n",
      " * time: 0.8808999061584473\n",
      "     7    -7.421713e+00     7.283113e-01\n",
      " * time: 0.9086639881134033\n",
      "     8    -7.534804e+00     6.095644e-01\n",
      " * time: 0.937222957611084\n",
      "     9    -7.669522e+00     2.295460e-01\n",
      " * time: 0.9642598628997803\n",
      "    10    -7.721928e+00     1.275654e-01\n",
      " * time: 0.9925520420074463\n",
      "    11    -7.789073e+00     1.529589e-01\n",
      " * time: 1.0205140113830566\n",
      "    12    -7.825534e+00     8.528827e-02\n",
      " * time: 1.0478270053863525\n",
      "    13    -7.842618e+00     4.177171e-02\n",
      " * time: 1.0777580738067627\n",
      "    14    -7.850995e+00     2.959618e-02\n",
      " * time: 1.1955060958862305\n",
      "    15    -7.852116e+00     1.446123e-02\n",
      " * time: 1.2231528759002686\n",
      "    16    -7.852492e+00     6.890889e-03\n",
      " * time: 1.251065969467163\n",
      "    17    -7.852598e+00     5.155324e-03\n",
      " * time: 1.2793450355529785\n",
      "    18    -7.852632e+00     2.118744e-03\n",
      " * time: 1.3087000846862793\n",
      "    19    -7.852643e+00     8.743161e-04\n",
      " * time: 1.3377959728240967\n",
      "    20    -7.852646e+00     6.644450e-04\n",
      " * time: 1.367659091949463\n",
      "    21    -7.852646e+00     2.733630e-04\n",
      " * time: 1.397217035293579\n",
      "    22    -7.852647e+00     1.985008e-04\n",
      " * time: 1.4275870323181152\n",
      "    23    -7.852647e+00     1.408918e-04\n",
      " * time: 1.4568750858306885\n",
      "    24    -7.852647e+00     5.554833e-05\n",
      " * time: 1.4865610599517822\n",
      "    25    -7.852647e+00     3.210806e-05\n",
      " * time: 1.5160140991210938\n",
      "    26    -7.852647e+00     2.440790e-05\n",
      " * time: 1.5453379154205322\n",
      "    27    -7.852647e+00     8.414676e-06\n",
      " * time: 1.5747570991516113\n",
      "    28    -7.852647e+00     4.717451e-06\n",
      " * time: 1.6039059162139893\n",
      "    29    -7.852647e+00     4.451479e-06\n",
      " * time: 1.6328930854797363\n",
      "    30    -7.852647e+00     1.585819e-06\n",
      " * time: 1.6616270542144775\n",
      "    31    -7.852647e+00     8.869380e-07\n",
      " * time: 1.6912620067596436\n",
      "    32    -7.852647e+00     7.250428e-07\n",
      " * time: 1.719454050064087\n",
      "    33    -7.852647e+00     2.889493e-07\n",
      " * time: 1.748194932937622\n",
      "    34    -7.852647e+00     1.974422e-07\n",
      " * time: 1.7771868705749512\n",
      "    35    -7.852647e+00     1.330349e-07\n",
      " * time: 1.8057150840759277\n",
      "    36    -7.852647e+00     4.672664e-08\n",
      " * time: 1.83433198928833\n",
      "    37    -7.852647e+00     3.080443e-08\n",
      " * time: 1.8622419834136963\n",
      "    38    -7.852647e+00     2.495593e-08\n",
      " * time: 1.8889200687408447\n",
      "    39    -7.852647e+00     1.528599e-08\n",
      " * time: 1.9273350238800049\n",
      "    40    -7.852647e+00     5.638748e-09\n",
      " * time: 1.9555809497833252\n",
      "    41    -7.852647e+00     4.112220e-09\n",
      " * time: 1.9829630851745605\n",
      "    42    -7.852647e+00     4.107759e-09\n",
      " * time: 2.046983003616333\n",
      "    43    -7.852647e+00     1.030650e-09\n",
      " * time: 2.076591968536377\n"
     ]
    }
   ],
   "cell_type": "code",
   "source": [
    "scfres_dm = direct_minimization(basis; tol);"
   ],
   "metadata": {},
   "execution_count": 4
  },
  {
   "cell_type": "markdown",
   "source": [
    "## Newton algorithm"
   ],
   "metadata": {}
  },
  {
   "cell_type": "markdown",
   "source": [
    "Start not too far from the solution to ensure convergence:\n",
    "We run first a very crude SCF to get close and then switch to Newton."
   ],
   "metadata": {}
  },
  {
   "outputs": [
    {
     "name": "stdout",
     "output_type": "stream",
     "text": [
      "n     Energy            log10(ΔE)   log10(Δρ)   Diag\n",
      "---   ---------------   ---------   ---------   ----\n",
      "  1   -7.846856098393                   -0.70    4.8\n",
      "  2   -7.852316473116       -2.26       -1.53    1.0\n"
     ]
    }
   ],
   "cell_type": "code",
   "source": [
    "scfres_start = self_consistent_field(basis; tol=1e-1);"
   ],
   "metadata": {},
   "execution_count": 5
  },
  {
   "cell_type": "markdown",
   "source": [
    "Remove the virtual orbitals (which Newton cannot treat yet)"
   ],
   "metadata": {}
  },
  {
   "outputs": [
    {
     "name": "stdout",
     "output_type": "stream",
     "text": [
      "n     Energy            log10(ΔE)   log10(Δρ)\n",
      "---   ---------------   ---------   ---------\n",
      "  1   -7.852646686706                   -2.54\n",
      "  2   -7.852646686730      -10.62       -5.99\n",
      "  3   -7.852646686730      -14.75      -12.48\n"
     ]
    }
   ],
   "cell_type": "code",
   "source": [
    "ψ, _ = DFTK.select_occupied_orbitals(basis, scfres_start.ψ, scfres_start.occupation)\n",
    "scfres_newton = newton(basis, ψ; tol);"
   ],
   "metadata": {},
   "execution_count": 6
  },
  {
   "cell_type": "markdown",
   "source": [
    "## Comparison of results"
   ],
   "metadata": {}
  },
  {
   "outputs": [
    {
     "name": "stdout",
     "output_type": "stream",
     "text": [
      "|ρ_newton - ρ_scf|  = 6.965445807235536e-13\n",
      "|ρ_newton - ρ_scfv| = 2.3024330893434884e-13\n",
      "|ρ_newton - ρ_dm|   = 2.197986902514822e-10\n"
     ]
    }
   ],
   "cell_type": "code",
   "source": [
    "println(\"|ρ_newton - ρ_scf|  = \", norm(scfres_newton.ρ - scfres_scf.ρ))\n",
    "println(\"|ρ_newton - ρ_scfv| = \", norm(scfres_newton.ρ - scfres_scfv.ρ))\n",
    "println(\"|ρ_newton - ρ_dm|   = \", norm(scfres_newton.ρ - scfres_dm.ρ))"
   ],
   "metadata": {},
   "execution_count": 7
  }
 ],
 "nbformat_minor": 3,
 "metadata": {
  "language_info": {
   "file_extension": ".jl",
   "mimetype": "application/julia",
   "name": "julia",
   "version": "1.8.2"
  },
  "kernelspec": {
   "name": "julia-1.8",
   "display_name": "Julia 1.8.2",
   "language": "julia"
  }
 },
 "nbformat": 4
}
