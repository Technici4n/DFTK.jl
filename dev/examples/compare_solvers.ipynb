{
 "cells": [
  {
   "cell_type": "markdown",
   "source": [
    "# Comparison of DFT solvers"
   ],
   "metadata": {}
  },
  {
   "cell_type": "markdown",
   "source": [
    "We compare four different approaches for solving the DFT minimisation problem,\n",
    "namely a density-based SCF, a potential-based SCF, direct minimisation and Newton."
   ],
   "metadata": {}
  },
  {
   "cell_type": "markdown",
   "source": [
    "First we setup our problem"
   ],
   "metadata": {}
  },
  {
   "outputs": [
    {
     "output_type": "execute_result",
     "data": {
      "text/plain": "1.0e-6"
     },
     "metadata": {},
     "execution_count": 1
    }
   ],
   "cell_type": "code",
   "source": [
    "using DFTK\n",
    "using LinearAlgebra\n",
    "\n",
    "a = 10.26  # Silicon lattice constant in Bohr\n",
    "lattice = a / 2 * [[0 1 1.];\n",
    "                   [1 0 1.];\n",
    "                   [1 1 0.]]\n",
    "Si = ElementPsp(:Si, psp=load_psp(\"hgh/lda/Si-q4\"))\n",
    "atoms     = [Si, Si]\n",
    "positions = [ones(3)/8, -ones(3)/8]\n",
    "\n",
    "model = model_LDA(lattice, atoms, positions)\n",
    "basis = PlaneWaveBasis(model; Ecut=5, kgrid=[3, 3, 3])\n",
    "\n",
    "# Convergence we desire in the density\n",
    "tol = 1e-6"
   ],
   "metadata": {},
   "execution_count": 1
  },
  {
   "cell_type": "markdown",
   "source": [
    "## Density-based self-consistent field"
   ],
   "metadata": {}
  },
  {
   "outputs": [
    {
     "name": "stdout",
     "output_type": "stream",
     "text": [
      "n     Energy            log10(ΔE)   log10(Δρ)   Diag   Δtime\n",
      "---   ---------------   ---------   ---------   ----   ------\n",
      "  1   -7.846782699239                   -0.70    4.8         \n",
      "  2   -7.852311006509       -2.26       -1.53    1.0   28.7ms\n",
      "  3   -7.852614718409       -3.52       -2.56    1.5   31.9ms\n",
      "  4   -7.852645894147       -4.51       -2.87    2.5   39.7ms\n",
      "  5   -7.852646461311       -6.25       -3.13    1.0   31.0ms\n",
      "  6   -7.852646677637       -6.66       -4.07    1.0   30.8ms\n",
      "  7   -7.852646686680       -8.04       -5.08    2.2   41.2ms\n",
      "  8   -7.852646686724      -10.35       -5.38    1.5   35.3ms\n",
      "  9   -7.852646686728      -11.36       -5.60    1.2   33.1ms\n",
      " 10   -7.852646686730      -11.77       -6.57    1.0   31.8ms\n"
     ]
    }
   ],
   "cell_type": "code",
   "source": [
    "scfres_scf = self_consistent_field(basis; tol);"
   ],
   "metadata": {},
   "execution_count": 2
  },
  {
   "cell_type": "markdown",
   "source": [
    "## Potential-based SCF"
   ],
   "metadata": {}
  },
  {
   "outputs": [
    {
     "name": "stdout",
     "output_type": "stream",
     "text": [
      "n     Energy            log10(ΔE)   log10(Δρ)   α      Diag   Δtime\n",
      "---   ---------------   ---------   ---------   ----   ----   ------\n",
      "  1   -7.846791647342                   -0.70           4.5         \n",
      "  2   -7.852526678919       -2.24       -1.64   0.80    2.2    403ms\n",
      "  3   -7.852635670256       -3.96       -2.73   0.80    1.0   28.1ms\n",
      "  4   -7.852646435994       -4.97       -3.24   0.80    2.2   37.9ms\n",
      "  5   -7.852646663994       -6.64       -4.05   0.80    1.2   29.5ms\n",
      "  6   -7.852646686347       -7.65       -4.69   0.80    2.0   35.6ms\n",
      "  7   -7.852646686718       -9.43       -5.44   0.80    1.8   34.7ms\n",
      "  8   -7.852646686729      -10.93       -6.86   0.80    2.0   35.2ms\n"
     ]
    }
   ],
   "cell_type": "code",
   "source": [
    "scfres_scfv = DFTK.scf_potential_mixing(basis; tol);"
   ],
   "metadata": {},
   "execution_count": 3
  },
  {
   "cell_type": "markdown",
   "source": [
    "## Direct minimization\n",
    "Note: Unlike the other algorithms, tolerance for this one is in the energy,\n",
    "thus we square the density tolerance value to be roughly equivalent."
   ],
   "metadata": {}
  },
  {
   "outputs": [
    {
     "name": "stdout",
     "output_type": "stream",
     "text": [
      "Iter     Function value   Gradient norm \n",
      "     0     1.449062e+01     3.459514e+00\n",
      " * time: 0.5785741806030273\n",
      "     1     1.296408e+00     1.719668e+00\n",
      " * time: 0.8134510517120361\n",
      "     2    -1.782898e+00     2.045837e+00\n",
      " * time: 0.8426899909973145\n",
      "     3    -3.797214e+00     1.743141e+00\n",
      " * time: 0.8849210739135742\n",
      "     4    -5.285085e+00     1.605613e+00\n",
      " * time: 0.9270901679992676\n",
      "     5    -6.813404e+00     7.702941e-01\n",
      " * time: 0.9693081378936768\n",
      "     6    -6.975342e+00     9.654320e-01\n",
      " * time: 0.9986531734466553\n",
      "     7    -7.484278e+00     6.218531e-01\n",
      " * time: 1.0278480052947998\n",
      "     8    -7.674467e+00     3.284689e-01\n",
      " * time: 1.0570399761199951\n",
      "     9    -7.789492e+00     1.257377e-01\n",
      " * time: 1.0864901542663574\n",
      "    10    -7.822904e+00     1.035072e-01\n",
      " * time: 1.1161420345306396\n",
      "    11    -7.838553e+00     8.606433e-02\n",
      " * time: 1.1455771923065186\n",
      "    12    -7.846841e+00     5.507149e-02\n",
      " * time: 1.1747090816497803\n",
      "    13    -7.847983e+00     4.215131e-02\n",
      " * time: 1.2039780616760254\n",
      "    14    -7.849452e+00     2.737785e-02\n",
      " * time: 1.2332830429077148\n",
      "    15    -7.851417e+00     1.516852e-02\n",
      " * time: 1.262235164642334\n",
      "    16    -7.852166e+00     1.075023e-02\n",
      " * time: 1.2901442050933838\n",
      "    17    -7.852446e+00     6.633387e-03\n",
      " * time: 1.3183660507202148\n",
      "    18    -7.852579e+00     5.057424e-03\n",
      " * time: 1.3468091487884521\n",
      "    19    -7.852628e+00     2.814452e-03\n",
      " * time: 1.3742051124572754\n",
      "    20    -7.852641e+00     1.258550e-03\n",
      " * time: 1.4018540382385254\n",
      "    21    -7.852644e+00     6.918781e-04\n",
      " * time: 1.4297001361846924\n",
      "    22    -7.852646e+00     5.084058e-04\n",
      " * time: 1.45786714553833\n",
      "    23    -7.852646e+00     2.734301e-04\n",
      " * time: 1.485733985900879\n",
      "    24    -7.852647e+00     1.873823e-04\n",
      " * time: 1.5137991905212402\n",
      "    25    -7.852647e+00     8.496039e-05\n",
      " * time: 1.5421249866485596\n",
      "    26    -7.852647e+00     5.130085e-05\n",
      " * time: 1.5702600479125977\n",
      "    27    -7.852647e+00     2.145389e-05\n",
      " * time: 1.5983481407165527\n",
      "    28    -7.852647e+00     1.721344e-05\n",
      " * time: 1.6259331703186035\n",
      "    29    -7.852647e+00     1.194474e-05\n",
      " * time: 1.654595136642456\n",
      "    30    -7.852647e+00     4.836222e-06\n",
      " * time: 1.6844310760498047\n",
      "    31    -7.852647e+00     3.576436e-06\n",
      " * time: 1.7141010761260986\n",
      "    32    -7.852647e+00     1.806693e-06\n",
      " * time: 1.7436959743499756\n",
      "    33    -7.852647e+00     9.900069e-07\n",
      " * time: 1.7731451988220215\n",
      "    34    -7.852647e+00     6.071496e-07\n",
      " * time: 1.802725076675415\n",
      "    35    -7.852647e+00     3.834020e-07\n",
      " * time: 1.832280158996582\n",
      "    36    -7.852647e+00     3.253336e-07\n",
      " * time: 1.8615591526031494\n",
      "    37    -7.852647e+00     1.847659e-07\n",
      " * time: 1.890923023223877\n",
      "    38    -7.852647e+00     7.642066e-08\n",
      " * time: 1.920586109161377\n",
      "    39    -7.852647e+00     5.760242e-08\n",
      " * time: 2.005120038986206\n",
      "    40    -7.852647e+00     3.594023e-08\n",
      " * time: 2.0352180004119873\n",
      "    41    -7.852647e+00     1.576378e-08\n",
      " * time: 2.0648701190948486\n",
      "    42    -7.852647e+00     8.222570e-09\n",
      " * time: 2.0946080684661865\n",
      "    43    -7.852647e+00     7.101837e-09\n",
      " * time: 2.1242380142211914\n",
      "    44    -7.852647e+00     4.914536e-09\n",
      " * time: 2.1536660194396973\n",
      "    45    -7.852647e+00     2.545276e-09\n",
      " * time: 2.183568000793457\n",
      "    46    -7.852647e+00     2.511614e-09\n",
      " * time: 2.2387630939483643\n",
      "    47    -7.852647e+00     2.511614e-09\n",
      " * time: 2.358138084411621\n"
     ]
    }
   ],
   "cell_type": "code",
   "source": [
    "scfres_dm = direct_minimization(basis; tol=tol^2);"
   ],
   "metadata": {},
   "execution_count": 4
  },
  {
   "cell_type": "markdown",
   "source": [
    "## Newton algorithm"
   ],
   "metadata": {}
  },
  {
   "cell_type": "markdown",
   "source": [
    "Start not too far from the solution to ensure convergence:\n",
    "We run first a very crude SCF to get close and then switch to Newton."
   ],
   "metadata": {}
  },
  {
   "outputs": [
    {
     "name": "stdout",
     "output_type": "stream",
     "text": [
      "n     Energy            log10(ΔE)   log10(Δρ)   Diag   Δtime\n",
      "---   ---------------   ---------   ---------   ----   ------\n",
      "  1   -7.846605959555                   -0.70    4.5         \n"
     ]
    }
   ],
   "cell_type": "code",
   "source": [
    "scfres_start = self_consistent_field(basis; tol=0.5);"
   ],
   "metadata": {},
   "execution_count": 5
  },
  {
   "cell_type": "markdown",
   "source": [
    "Remove the virtual orbitals (which Newton cannot treat yet)"
   ],
   "metadata": {}
  },
  {
   "outputs": [
    {
     "name": "stdout",
     "output_type": "stream",
     "text": [
      "n     Energy            log10(ΔE)   log10(Δρ)   Δtime\n",
      "---   ---------------   ---------   ---------   ------\n",
      "  1   -7.852645897712                   -1.64         \n",
      "  2   -7.852646686730       -6.10       -3.71    1.91s\n",
      "  3   -7.852646686730      -13.30       -7.24    204ms\n"
     ]
    }
   ],
   "cell_type": "code",
   "source": [
    "ψ = DFTK.select_occupied_orbitals(basis, scfres_start.ψ, scfres_start.occupation).ψ\n",
    "scfres_newton = newton(basis, ψ; tol);"
   ],
   "metadata": {},
   "execution_count": 6
  },
  {
   "cell_type": "markdown",
   "source": [
    "## Comparison of results"
   ],
   "metadata": {}
  },
  {
   "outputs": [
    {
     "name": "stdout",
     "output_type": "stream",
     "text": [
      "|ρ_newton - ρ_scf|  = 2.9918588011265883e-7\n",
      "|ρ_newton - ρ_scfv| = 3.387686814355384e-7\n",
      "|ρ_newton - ρ_dm|   = 7.57048989439487e-10\n"
     ]
    }
   ],
   "cell_type": "code",
   "source": [
    "println(\"|ρ_newton - ρ_scf|  = \", norm(scfres_newton.ρ - scfres_scf.ρ))\n",
    "println(\"|ρ_newton - ρ_scfv| = \", norm(scfres_newton.ρ - scfres_scfv.ρ))\n",
    "println(\"|ρ_newton - ρ_dm|   = \", norm(scfres_newton.ρ - scfres_dm.ρ))"
   ],
   "metadata": {},
   "execution_count": 7
  }
 ],
 "nbformat_minor": 3,
 "metadata": {
  "language_info": {
   "file_extension": ".jl",
   "mimetype": "application/julia",
   "name": "julia",
   "version": "1.8.5"
  },
  "kernelspec": {
   "name": "julia-1.8",
   "display_name": "Julia 1.8.5",
   "language": "julia"
  }
 },
 "nbformat": 4
}
