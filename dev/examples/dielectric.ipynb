{
 "cells": [
  {
   "cell_type": "markdown",
   "source": [
    "# Eigenvalues of the dielectric matrix\n",
    "\n",
    "We compute a few eigenvalues of the dielectric matrix ($q=0$, $ω=0$) iteratively."
   ],
   "metadata": {}
  },
  {
   "outputs": [
    {
     "name": "stdout",
     "output_type": "stream",
     "text": [
      "n     Energy            log10(ΔE)   log10(Δρ)   Diag   Δtime\n",
      "---   ---------------   ---------   ---------   ----   ------\n",
      "  1   -7.234378282640                   -0.50    7.0         \n",
      "  2   -7.249799331626       -1.81       -1.39    1.0   10.5ms\n",
      "  3   -7.250847701358       -2.98       -1.81    2.0   13.1ms\n",
      "  4   -7.250993969754       -3.83       -1.89    2.0   12.3ms\n",
      "  5   -7.251326988711       -3.48       -2.60    1.0   9.28ms\n",
      "  6   -7.251337877176       -4.96       -3.08    2.0   13.3ms\n",
      "  7   -7.251338681425       -6.09       -3.47    3.0   12.6ms\n",
      "  8   -7.251338776230       -7.02       -3.90    1.0   10.9ms\n",
      "  9   -7.251338797509       -7.67       -4.77    1.0   11.2ms\n",
      " 10   -7.251338798675       -8.93       -5.21    3.0   13.7ms\n",
      " 11   -7.251338798697      -10.65       -5.61    2.0   11.7ms\n",
      " 12   -7.251338798704      -11.21       -6.21    1.0   73.2ms\n",
      " 13   -7.251338798704      -12.12       -6.48    3.0   12.4ms\n",
      " 14   -7.251338798705      -12.99       -6.93    1.0   8.91ms\n",
      " 15   -7.251338798705      -14.15       -7.52    2.0   10.5ms\n",
      " 16   -7.251338798705      -14.27       -7.89    3.0   12.6ms\n",
      " 17   -7.251338798705   +  -14.75       -8.23    1.0   9.35ms\n"
     ]
    }
   ],
   "cell_type": "code",
   "source": [
    "using DFTK\n",
    "using Plots\n",
    "using KrylovKit\n",
    "using Printf\n",
    "\n",
    "# Calculation parameters\n",
    "kgrid = [1, 1, 1]\n",
    "Ecut = 5\n",
    "\n",
    "# Silicon lattice\n",
    "a = 10.26\n",
    "lattice = a / 2 .* [[0 1 1.]; [1 0 1.]; [1 1 0.]]\n",
    "Si = ElementPsp(:Si, psp=load_psp(\"hgh/lda/Si-q4\"))\n",
    "atoms     = [Si, Si]\n",
    "positions = [ones(3)/8, -ones(3)/8]\n",
    "\n",
    "# Compute the dielectric operator without symmetries\n",
    "model  = model_LDA(lattice, atoms, positions, symmetries=false)\n",
    "basis  = PlaneWaveBasis(model; Ecut, kgrid)\n",
    "scfres = self_consistent_field(basis, tol=1e-8);"
   ],
   "metadata": {},
   "execution_count": 1
  },
  {
   "cell_type": "markdown",
   "source": [
    "Applying $ε^† ≔ (1- χ_0 K)$ …"
   ],
   "metadata": {}
  },
  {
   "outputs": [],
   "cell_type": "code",
   "source": [
    "function eps_fun(δρ)\n",
    "    δV = apply_kernel(basis, δρ; ρ=scfres.ρ)\n",
    "    χ0δV = apply_χ0(scfres, δV)\n",
    "    δρ - χ0δV\n",
    "end;"
   ],
   "metadata": {},
   "execution_count": 2
  },
  {
   "cell_type": "markdown",
   "source": [
    "… eagerly diagonalizes the subspace matrix at each iteration"
   ],
   "metadata": {}
  },
  {
   "outputs": [
    {
     "name": "stdout",
     "output_type": "stream",
     "text": [
      "[ Info: Arnoldi iteration step 1: normres = 0.04083287112995299\n",
      "[ Info: Arnoldi iteration step 2: normres = 0.8398331148359578\n",
      "[ Info: Arnoldi iteration step 3: normres = 0.5085684707923668\n",
      "[ Info: Arnoldi iteration step 4: normres = 0.3862912572205094\n",
      "[ Info: Arnoldi iteration step 5: normres = 0.25068144902205247\n",
      "[ Info: Arnoldi schursolve in iter 1, krylovdim = 5: 0 values converged, normres = (1.04e-02, 7.56e-02, 1.79e-01, 1.58e-01, 1.03e-02)\n",
      "[ Info: Arnoldi iteration step 6: normres = 0.6203999219341219\n",
      "[ Info: Arnoldi schursolve in iter 1, krylovdim = 6: 0 values converged, normres = (4.47e-03, 1.08e-01, 5.78e-01, 1.41e-01, 1.34e-01)\n",
      "[ Info: Arnoldi iteration step 7: normres = 0.08584513955617142\n",
      "[ Info: Arnoldi schursolve in iter 1, krylovdim = 7: 0 values converged, normres = (2.61e-04, 4.47e-02, 2.66e-02, 3.67e-02, 4.44e-02)\n",
      "[ Info: Arnoldi iteration step 8: normres = 0.13166599353285327\n",
      "[ Info: Arnoldi schursolve in iter 1, krylovdim = 8: 0 values converged, normres = (1.48e-05, 4.14e-03, 2.80e-03, 1.50e-02, 4.74e-02)\n",
      "[ Info: Arnoldi iteration step 9: normres = 0.0613042831956688\n",
      "[ Info: Arnoldi schursolve in iter 1, krylovdim = 9: 0 values converged, normres = (3.96e-07, 1.84e-04, 1.39e-04, 3.64e-03, 3.71e-02)\n",
      "[ Info: Arnoldi iteration step 10: normres = 0.10788583897762496\n",
      "[ Info: Arnoldi schursolve in iter 1, krylovdim = 10: 0 values converged, normres = (1.87e-08, 1.44e-05, 1.21e-05, 1.42e-03, 3.16e-02)\n",
      "[ Info: Arnoldi iteration step 11: normres = 0.06554187126505547\n",
      "[ Info: Arnoldi schursolve in iter 1, krylovdim = 11: 0 values converged, normres = (5.35e-10, 6.84e-07, 6.37e-07, 3.51e-04, 2.21e-02)\n",
      "[ Info: Arnoldi iteration step 12: normres = 0.055677077818777614\n",
      "[ Info: Arnoldi schursolve in iter 1, krylovdim = 12: 0 values converged, normres = (1.25e-11, 2.57e-08, 2.65e-08, 5.15e-05, 5.45e-03)\n",
      "[ Info: Arnoldi iteration step 13: normres = 0.05129250599099374\n",
      "[ Info: Arnoldi schursolve in iter 1, krylovdim = 13: 1 values converged, normres = (2.76e-13, 9.34e-10, 1.07e-09, 8.27e-06, 1.68e-03)\n",
      "[ Info: Arnoldi iteration step 14: normres = 0.6604923641355552\n",
      "[ Info: Arnoldi schursolve in iter 1, krylovdim = 14: 1 values converged, normres = (9.38e-14, 5.97e-10, 7.88e-10, 6.20e-01, 1.95e-01)\n",
      "[ Info: Arnoldi iteration step 15: normres = 0.07061966044397092\n",
      "[ Info: Arnoldi schursolve in iter 1, krylovdim = 15: 1 values converged, normres = (5.14e-15, 2.27e-10, 5.68e-02, 4.24e-03, 3.50e-05)\n",
      "[ Info: Arnoldi iteration step 16: normres = 0.7599241672821704\n",
      "[ Info: Arnoldi schursolve in iter 1, krylovdim = 16: 1 values converged, normres = (2.48e-15, 2.71e-10, 7.73e-02, 2.72e-03, 7.51e-01)\n",
      "[ Info: Arnoldi iteration step 17: normres = 0.034180948992386606\n",
      "[ Info: Arnoldi schursolve in iter 1, krylovdim = 17: 1 values converged, normres = (6.03e-17, 2.06e-09, 2.17e-02, 7.65e-03, 2.79e-03)\n",
      "[ Info: Arnoldi iteration step 18: normres = 0.026497416090452225\n",
      "[ Info: Arnoldi schursolve in iter 1, krylovdim = 18: 1 values converged, normres = (6.59e-19, 1.87e-04, 3.27e-04, 7.23e-06, 1.58e-04)\n",
      "[ Info: Arnoldi iteration step 19: normres = 0.20181227068590069\n",
      "[ Info: Arnoldi schursolve in iter 1, krylovdim = 19: 1 values converged, normres = (6.08e-20, 4.59e-06, 5.91e-05, 6.91e-08, 2.79e-05)\n",
      "[ Info: Arnoldi iteration step 20: normres = 0.026509641955662657\n",
      "[ Info: Arnoldi schursolve in iter 1, krylovdim = 20: 1 values converged, normres = (7.23e-22, 2.43e-09, 1.21e-06, 7.37e-08, 6.33e-07)\n",
      "[ Info: Arnoldi iteration step 21: normres = 0.03561360028911804\n",
      "[ Info: Arnoldi schursolve in iter 1, krylovdim = 21: 1 values converged, normres = (1.07e-23, 2.82e-08, 4.06e-09, 8.76e-09, 1.41e-08)\n",
      "[ Info: Arnoldi iteration step 22: normres = 0.03634186521465889\n",
      "[ Info: Arnoldi schursolve in iter 1, krylovdim = 22: 1 values converged, normres = (1.61e-25, 2.29e-10, 6.48e-10, 1.47e-10, 4.16e-10)\n",
      "[ Info: Arnoldi iteration step 23: normres = 0.6887753657659499\n",
      "[ Info: Arnoldi schursolve in iter 1, krylovdim = 23: 1 values converged, normres = (7.20e-26, 2.54e-10, 7.07e-10, 2.09e-10, 5.84e-10)\n",
      "[ Info: Arnoldi iteration step 24: normres = 0.023285543138175265\n",
      "[ Info: Arnoldi schursolve in iter 1, krylovdim = 24: 1 values converged, normres = (1.01e-27, 1.74e-11, 4.86e-11, 5.90e-03, 4.86e-03)\n",
      "[ Info: Arnoldi iteration step 25: normres = 0.12094426870718344\n",
      "[ Info: Arnoldi schursolve in iter 1, krylovdim = 25: 1 values converged, normres = (5.26e-29, 1.47e-12, 4.15e-12, 2.11e-09, 7.40e-09)\n",
      "[ Info: Arnoldi iteration step 26: normres = 0.02644509997110105\n",
      "[ Info: Arnoldi schursolve in iter 1, krylovdim = 26: 3 values converged, normres = (6.03e-31, 2.80e-14, 7.85e-14, 2.48e-05, 4.34e-06)\n",
      "[ Info: Arnoldi iteration step 27: normres = 0.08952913952969838\n",
      "[ Info: Arnoldi schursolve in iter 1, krylovdim = 27: 3 values converged, normres = (2.26e-32, 1.69e-15, 4.75e-15, 6.92e-08, 2.85e-07)\n",
      "[ Info: Arnoldi iteration step 28: normres = 0.029842099461734294\n",
      "[ Info: Arnoldi schursolve in iter 1, krylovdim = 28: 3 values converged, normres = (2.95e-34, 3.65e-17, 1.03e-16, 3.48e-09, 2.28e-08)\n",
      "[ Info: Arnoldi iteration step 29: normres = 0.02703153143014727\n",
      "[ Info: Arnoldi schursolve in iter 1, krylovdim = 29: 3 values converged, normres = (3.26e-36, 6.44e-19, 1.81e-18, 1.37e-10, 8.46e-10)\n",
      "[ Info: Arnoldi iteration step 30: normres = 0.16719671259800162\n",
      "[ Info: Arnoldi schursolve in iter 1, krylovdim = 30: 3 values converged, normres = (2.64e-37, 9.30e-20, 2.61e-19, 2.34e-11, 1.38e-10)\n",
      "[ Info: Arnoldi schursolve in iter 2, krylovdim = 19: 3 values converged, normres = (2.64e-37, 9.30e-20, 2.61e-19, 2.34e-11, 1.38e-10)\n",
      "[ Info: Arnoldi iteration step 20: normres = 0.030265200134201597\n",
      "[ Info: Arnoldi schursolve in iter 2, krylovdim = 20: 4 values converged, normres = (3.40e-39, 1.96e-21, 5.51e-21, 5.44e-13, 3.23e-12)\n",
      "[ Info: Arnoldi iteration step 21: normres = 0.07556041332495263\n",
      "┌ Info: Arnoldi eigsolve finished after 2 iterations:\n",
      "│ *  6 eigenvalues converged\n",
      "│ *  norm of residuals = (1.0880537073700053e-40, 1.0170350052207638e-22, 3.0330227438477267e-22, 3.1242553697760284e-14, 1.849423736247335e-13, 6.271770056099102e-14)\n",
      "└ *  number of operations = 32\n"
     ]
    }
   ],
   "cell_type": "code",
   "source": [
    "eigsolve(eps_fun, randn(size(scfres.ρ)), 5, :LM; eager=true, verbosity=3);"
   ],
   "metadata": {},
   "execution_count": 3
  }
 ],
 "nbformat_minor": 3,
 "metadata": {
  "language_info": {
   "file_extension": ".jl",
   "mimetype": "application/julia",
   "name": "julia",
   "version": "1.8.5"
  },
  "kernelspec": {
   "name": "julia-1.8",
   "display_name": "Julia 1.8.5",
   "language": "julia"
  }
 },
 "nbformat": 4
}
