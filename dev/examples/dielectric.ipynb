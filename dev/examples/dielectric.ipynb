{
 "cells": [
  {
   "cell_type": "markdown",
   "source": [
    "# Eigenvalues of the dielectric matrix\n",
    "\n",
    "We compute a few eigenvalues of the dielectric matrix ($q=0$, $ω=0$) iteratively."
   ],
   "metadata": {}
  },
  {
   "outputs": [
    {
     "name": "stdout",
     "output_type": "stream",
     "text": [
      "n     Energy            log10(ΔE)   log10(Δρ)   Diag   Δtime\n",
      "---   ---------------   ---------   ---------   ----   ------\n",
      "  1   -7.234309791452                   -0.50    7.0         \n",
      "  2   -7.250263068647       -1.80       -1.41    1.0   7.78ms\n",
      "  3   -7.251160053968       -3.05       -2.22    1.0   7.86ms\n",
      "  4   -7.251307589008       -3.83       -2.29    2.0   9.92ms\n",
      "  5   -7.251333860480       -4.58       -2.67    1.0   8.11ms\n",
      "  6   -7.251337184615       -5.48       -3.05    1.0   8.42ms\n",
      "  7   -7.251338696688       -5.82       -3.59    1.0   8.32ms\n",
      "  8   -7.251338790016       -7.03       -4.04    2.0   10.1ms\n",
      "  9   -7.251338797709       -8.11       -4.54    2.0   10.8ms\n",
      " 10   -7.251338798445       -9.13       -4.88    2.0   9.84ms\n",
      " 11   -7.251338798689       -9.61       -5.66    2.0   10.4ms\n",
      " 12   -7.251338798704      -10.83       -6.09    3.0   12.2ms\n",
      " 13   -7.251338798704      -12.38       -6.51    1.0   8.85ms\n",
      " 14   -7.251338798705      -12.94       -6.84    2.0   10.3ms\n",
      " 15   -7.251338798705      -13.75       -7.20    2.0   10.2ms\n",
      " 16   -7.251338798705      -14.57       -7.88    2.0   10.0ms\n",
      " 17   -7.251338798705      -15.05       -8.20    2.0   10.1ms\n"
     ]
    }
   ],
   "cell_type": "code",
   "source": [
    "using DFTK\n",
    "using Plots\n",
    "using KrylovKit\n",
    "using Printf\n",
    "\n",
    "# Calculation parameters\n",
    "kgrid = [1, 1, 1]\n",
    "Ecut = 5\n",
    "\n",
    "# Silicon lattice\n",
    "a = 10.26\n",
    "lattice = a / 2 .* [[0 1 1.]; [1 0 1.]; [1 1 0.]]\n",
    "Si = ElementPsp(:Si, psp=load_psp(\"hgh/lda/Si-q4\"))\n",
    "atoms     = [Si, Si]\n",
    "positions = [ones(3)/8, -ones(3)/8]\n",
    "\n",
    "# Compute the dielectric operator without symmetries\n",
    "model  = model_LDA(lattice, atoms, positions, symmetries=false)\n",
    "basis  = PlaneWaveBasis(model; Ecut, kgrid)\n",
    "scfres = self_consistent_field(basis, tol=1e-8);"
   ],
   "metadata": {},
   "execution_count": 1
  },
  {
   "cell_type": "markdown",
   "source": [
    "Applying $ε^† ≔ (1- χ_0 K)$ …"
   ],
   "metadata": {}
  },
  {
   "outputs": [],
   "cell_type": "code",
   "source": [
    "function eps_fun(δρ)\n",
    "    δV = apply_kernel(basis, δρ; ρ=scfres.ρ)\n",
    "    χ0δV = apply_χ0(scfres, δV)\n",
    "    δρ - χ0δV\n",
    "end;"
   ],
   "metadata": {},
   "execution_count": 2
  },
  {
   "cell_type": "markdown",
   "source": [
    "… eagerly diagonalizes the subspace matrix at each iteration"
   ],
   "metadata": {}
  },
  {
   "outputs": [
    {
     "name": "stdout",
     "output_type": "stream",
     "text": [
      "[ Info: Arnoldi iteration step 1: normres = 0.04821245375055228\n",
      "[ Info: Arnoldi iteration step 2: normres = 0.4876366971841036\n",
      "[ Info: Arnoldi iteration step 3: normres = 0.9594391021368813\n",
      "[ Info: Arnoldi iteration step 4: normres = 0.36363451350747944\n",
      "[ Info: Arnoldi iteration step 5: normres = 0.4784622136594223\n",
      "[ Info: Arnoldi schursolve in iter 1, krylovdim = 5: 0 values converged, normres = (5.26e-02, 7.92e-02, 4.13e-01, 2.19e-01, 3.30e-02)\n",
      "[ Info: Arnoldi iteration step 6: normres = 0.2312161140972307\n",
      "[ Info: Arnoldi schursolve in iter 1, krylovdim = 6: 0 values converged, normres = (1.08e-02, 1.32e-01, 1.55e-01, 9.46e-02, 1.51e-02)\n",
      "[ Info: Arnoldi iteration step 7: normres = 0.07238706065950778\n",
      "[ Info: Arnoldi schursolve in iter 1, krylovdim = 7: 0 values converged, normres = (3.54e-04, 7.86e-03, 8.50e-03, 2.29e-02, 6.29e-02)\n",
      "[ Info: Arnoldi iteration step 8: normres = 0.07700761994350452\n",
      "[ Info: Arnoldi schursolve in iter 1, krylovdim = 8: 0 values converged, normres = (1.15e-05, 4.16e-04, 4.98e-04, 4.95e-03, 3.64e-02)\n",
      "[ Info: Arnoldi iteration step 9: normres = 0.07792262569437612\n",
      "[ Info: Arnoldi schursolve in iter 1, krylovdim = 9: 0 values converged, normres = (3.89e-07, 2.32e-05, 3.08e-05, 1.29e-03, 3.94e-02)\n",
      "[ Info: Arnoldi iteration step 10: normres = 0.08196235395939061\n",
      "[ Info: Arnoldi schursolve in iter 1, krylovdim = 10: 0 values converged, normres = (1.37e-08, 1.33e-06, 1.96e-06, 3.27e-04, 3.18e-02)\n",
      "[ Info: Arnoldi iteration step 11: normres = 0.07793760647550825\n",
      "[ Info: Arnoldi schursolve in iter 1, krylovdim = 11: 0 values converged, normres = (4.63e-10, 7.45e-08, 1.22e-07, 8.73e-05, 2.94e-02)\n",
      "[ Info: Arnoldi iteration step 12: normres = 0.06799169593975413\n",
      "[ Info: Arnoldi schursolve in iter 1, krylovdim = 12: 0 values converged, normres = (1.33e-11, 3.45e-09, 6.25e-09, 1.63e-05, 1.36e-02)\n",
      "[ Info: Arnoldi iteration step 13: normres = 0.12430645441112752\n",
      "[ Info: Arnoldi schursolve in iter 1, krylovdim = 13: 1 values converged, normres = (7.53e-13, 3.35e-10, 6.83e-10, 1.13e-05, 1.03e-01)\n",
      "[ Info: Arnoldi iteration step 14: normres = 0.7109831055219777\n",
      "[ Info: Arnoldi schursolve in iter 1, krylovdim = 14: 1 values converged, normres = (3.38e-13, 3.55e-10, 9.14e-10, 6.96e-01, 1.27e-02)\n",
      "[ Info: Arnoldi iteration step 15: normres = 0.09665206614954527\n",
      "[ Info: Arnoldi schursolve in iter 1, krylovdim = 15: 1 values converged, normres = (2.29e-14, 4.92e-10, 6.31e-02, 4.86e-04, 2.44e-05)\n",
      "[ Info: Arnoldi iteration step 16: normres = 0.5338971372965631\n",
      "[ Info: Arnoldi schursolve in iter 1, krylovdim = 16: 1 values converged, normres = (9.86e-15, 1.16e-09, 1.04e-01, 1.76e-03, 5.18e-01)\n",
      "[ Info: Arnoldi iteration step 17: normres = 0.029758373147989865\n",
      "[ Info: Arnoldi schursolve in iter 1, krylovdim = 17: 1 values converged, normres = (1.49e-16, 1.16e-07, 5.40e-03, 2.15e-07, 1.11e-02)\n",
      "[ Info: Arnoldi iteration step 18: normres = 0.02097936815438923\n",
      "[ Info: Arnoldi schursolve in iter 1, krylovdim = 18: 1 values converged, normres = (1.29e-18, 1.69e-05, 7.30e-05, 9.08e-09, 1.69e-04)\n",
      "[ Info: Arnoldi iteration step 19: normres = 0.14332401396288116\n",
      "[ Info: Arnoldi schursolve in iter 1, krylovdim = 19: 1 values converged, normres = (7.77e-20, 5.06e-08, 7.26e-06, 1.72e-05, 5.62e-06)\n",
      "[ Info: Arnoldi iteration step 20: normres = 0.10194734154834471\n",
      "[ Info: Arnoldi schursolve in iter 1, krylovdim = 20: 1 values converged, normres = (3.86e-21, 3.55e-07, 5.43e-07, 8.63e-08, 1.84e-06)\n",
      "[ Info: Arnoldi iteration step 21: normres = 0.025733098219588538\n",
      "[ Info: Arnoldi schursolve in iter 1, krylovdim = 21: 1 values converged, normres = (4.18e-23, 7.25e-09, 8.76e-09, 8.12e-09, 3.48e-08)\n",
      "[ Info: Arnoldi iteration step 22: normres = 0.014676705836883148\n",
      "[ Info: Arnoldi schursolve in iter 1, krylovdim = 22: 1 values converged, normres = (2.52e-25, 1.09e-10, 5.91e-12, 3.77e-10, 1.47e-11)\n",
      "[ Info: Arnoldi iteration step 23: normres = 0.3724922780493239\n",
      "[ Info: Arnoldi schursolve in iter 1, krylovdim = 23: 1 values converged, normres = (4.06e-26, 2.90e-11, 1.22e-12, 1.11e-10, 1.52e-12)\n",
      "[ Info: Arnoldi iteration step 24: normres = 0.0510176193230996\n",
      "[ Info: Arnoldi schursolve in iter 1, krylovdim = 24: 1 values converged, normres = (1.87e-27, 9.59e-12, 4.22e-13, 3.46e-09, 1.83e-09)\n",
      "[ Info: Arnoldi iteration step 25: normres = 0.021834905607980657\n",
      "[ Info: Arnoldi schursolve in iter 1, krylovdim = 25: 3 values converged, normres = (1.68e-29, 1.38e-13, 5.96e-15, 4.31e-09, 9.28e-10)\n",
      "[ Info: Arnoldi iteration step 26: normres = 0.1152798889847402\n",
      "[ Info: Arnoldi schursolve in iter 1, krylovdim = 26: 3 values converged, normres = (8.54e-31, 1.17e-14, 5.07e-16, 5.90e-05, 2.91e-05)\n",
      "[ Info: Arnoldi iteration step 27: normres = 0.027615176255424582\n",
      "[ Info: Arnoldi schursolve in iter 1, krylovdim = 27: 3 values converged, normres = (9.98e-33, 2.23e-16, 9.61e-18, 7.78e-07, 4.25e-07)\n",
      "[ Info: Arnoldi iteration step 28: normres = 0.0995178942995976\n",
      "[ Info: Arnoldi schursolve in iter 1, krylovdim = 28: 3 values converged, normres = (4.30e-34, 1.58e-17, 6.81e-19, 7.03e-08, 3.86e-08)\n",
      "[ Info: Arnoldi iteration step 29: normres = 0.021971327516534533\n",
      "[ Info: Arnoldi schursolve in iter 1, krylovdim = 29: 3 values converged, normres = (4.00e-36, 2.38e-19, 1.03e-20, 9.80e-10, 1.69e-09)\n",
      "[ Info: Arnoldi iteration step 30: normres = 0.21303136686666713\n",
      "[ Info: Arnoldi schursolve in iter 1, krylovdim = 30: 3 values converged, normres = (3.75e-37, 3.72e-20, 1.61e-21, 1.76e-10, 2.89e-10)\n",
      "[ Info: Arnoldi schursolve in iter 2, krylovdim = 19: 3 values converged, normres = (3.75e-37, 3.72e-20, 1.61e-21, 1.76e-10, 2.89e-10)\n",
      "[ Info: Arnoldi iteration step 20: normres = 0.08931975637818877\n",
      "[ Info: Arnoldi schursolve in iter 2, krylovdim = 20: 3 values converged, normres = (1.57e-38, 2.74e-21, 1.18e-22, 1.46e-11, 2.42e-11)\n",
      "[ Info: Arnoldi iteration step 21: normres = 0.05903911911108313\n",
      "[ Info: Arnoldi schursolve in iter 2, krylovdim = 21: 4 values converged, normres = (4.00e-40, 1.15e-22, 4.96e-24, 6.81e-13, 1.13e-12)\n",
      "[ Info: Arnoldi iteration step 22: normres = 0.012048672654334278\n",
      "┌ Info: Arnoldi eigsolve finished after 2 iterations:\n",
      "│ *  6 eigenvalues converged\n",
      "│ *  norm of residuals = (1.991155805696637e-42, 9.13608694546547e-25, 4.463431255741966e-25, 5.971326389446144e-15, 8.391603262889739e-15, 3.156170134592482e-15)\n",
      "└ *  number of operations = 33\n"
     ]
    }
   ],
   "cell_type": "code",
   "source": [
    "eigsolve(eps_fun, randn(size(scfres.ρ)), 5, :LM; eager=true, verbosity=3);"
   ],
   "metadata": {},
   "execution_count": 3
  }
 ],
 "nbformat_minor": 3,
 "metadata": {
  "language_info": {
   "file_extension": ".jl",
   "mimetype": "application/julia",
   "name": "julia",
   "version": "1.9.3"
  },
  "kernelspec": {
   "name": "julia-1.9",
   "display_name": "Julia 1.9.3",
   "language": "julia"
  }
 },
 "nbformat": 4
}
