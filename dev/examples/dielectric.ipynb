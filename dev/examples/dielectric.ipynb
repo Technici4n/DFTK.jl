{
 "cells": [
  {
   "cell_type": "markdown",
   "source": [
    "# Eigenvalues of the dielectric matrix\n",
    "\n",
    "We compute a few eigenvalues of the dielectric matrix ($q=0$, $ω=0$) iteratively."
   ],
   "metadata": {}
  },
  {
   "outputs": [
    {
     "name": "stdout",
     "output_type": "stream",
     "text": [
      "n     Energy            log10(ΔE)   log10(Δρ)   Diag\n",
      "---   ---------------   ---------   ---------   ----\n",
      "  1   -7.232830403309                   -0.50    7.0\n",
      "  2   -7.249548044294       -1.78       -1.39    1.0\n",
      "  3   -7.251144386776       -2.80       -1.85    4.0\n",
      "  4   -7.251082034025   +   -4.21       -1.95    3.0\n",
      "  5   -7.251296902015       -3.67       -2.36    2.0\n",
      "  6   -7.251333610066       -4.44       -2.75    2.0\n",
      "  7   -7.251338705811       -5.29       -3.75    2.0\n",
      "  8   -7.251338781703       -7.12       -3.92    4.0\n",
      "  9   -7.251338795245       -7.87       -4.31    1.0\n",
      " 10   -7.251338798484       -8.49       -4.87    2.0\n",
      " 11   -7.251338798678       -9.71       -5.34    3.0\n",
      " 12   -7.251338798703      -10.60       -5.88    3.0\n",
      " 13   -7.251338798704      -11.85       -6.43    2.0\n",
      " 14   -7.251338798705      -13.10       -6.73    3.0\n",
      " 15   -7.251338798705      -13.43       -7.38    1.0\n",
      " 16   -7.251338798705   +  -14.75       -7.79    3.0\n"
     ]
    }
   ],
   "cell_type": "code",
   "source": [
    "using DFTK\n",
    "using Plots\n",
    "using KrylovKit\n",
    "using Printf\n",
    "\n",
    "# Calculation parameters\n",
    "kgrid = [1, 1, 1]\n",
    "Ecut = 5\n",
    "\n",
    "# Silicon lattice\n",
    "a = 10.26\n",
    "lattice = a / 2 .* [[0 1 1.]; [1 0 1.]; [1 1 0.]]\n",
    "Si = ElementPsp(:Si, psp=load_psp(\"hgh/lda/Si-q4\"))\n",
    "atoms     = [Si, Si]\n",
    "positions = [ones(3)/8, -ones(3)/8]\n",
    "\n",
    "# Compute the dielectric operator without symmetries\n",
    "model = model_LDA(lattice, atoms, positions, symmetries=false)\n",
    "basis = PlaneWaveBasis(model; Ecut, kgrid)\n",
    "scfres = self_consistent_field(basis, tol=1e-14);"
   ],
   "metadata": {},
   "execution_count": 1
  },
  {
   "cell_type": "markdown",
   "source": [
    "Applying $ε^† ≔ (1- χ_0 K)$ …"
   ],
   "metadata": {}
  },
  {
   "outputs": [],
   "cell_type": "code",
   "source": [
    "function eps_fun(δρ)\n",
    "    δV = apply_kernel(basis, δρ; ρ=scfres.ρ)\n",
    "    χ0δV = apply_χ0(scfres, δV)\n",
    "    δρ - χ0δV\n",
    "end;"
   ],
   "metadata": {},
   "execution_count": 2
  },
  {
   "cell_type": "markdown",
   "source": [
    "… eagerly diagonalizes the subspace matrix at each iteration"
   ],
   "metadata": {}
  },
  {
   "outputs": [
    {
     "name": "stdout",
     "output_type": "stream",
     "text": [
      "[ Info: Arnoldi iteration step 1: normres = 0.04929941482744436\n",
      "[ Info: Arnoldi iteration step 2: normres = 0.5498278098205504\n",
      "[ Info: Arnoldi iteration step 3: normres = 0.6733034082007715\n",
      "[ Info: Arnoldi iteration step 4: normres = 0.5479701183576479\n",
      "[ Info: Arnoldi iteration step 5: normres = 0.36160438120357963\n",
      "[ Info: Arnoldi schursolve in iter 1, krylovdim = 5: 0 values converged, normres = (8.16e-02, 6.35e-02, 2.36e-01, 2.53e-01, 2.18e-02)\n",
      "[ Info: Arnoldi iteration step 6: normres = 0.41200460219642093\n",
      "[ Info: Arnoldi schursolve in iter 1, krylovdim = 6: 0 values converged, normres = (2.75e-02, 9.43e-02, 3.73e-01, 9.05e-02, 9.99e-02)\n",
      "[ Info: Arnoldi iteration step 7: normres = 0.09714327372534842\n",
      "[ Info: Arnoldi schursolve in iter 1, krylovdim = 7: 0 values converged, normres = (1.37e-03, 1.40e-02, 3.06e-02, 3.61e-02, 7.41e-02)\n",
      "[ Info: Arnoldi iteration step 8: normres = 0.08569311716819913\n",
      "[ Info: Arnoldi schursolve in iter 1, krylovdim = 8: 0 values converged, normres = (5.25e-05, 9.05e-04, 2.19e-03, 1.34e-02, 5.04e-02)\n",
      "[ Info: Arnoldi iteration step 9: normres = 0.07295718601739572\n",
      "[ Info: Arnoldi schursolve in iter 1, krylovdim = 9: 0 values converged, normres = (1.61e-06, 4.47e-05, 1.20e-04, 2.70e-03, 1.66e-02)\n",
      "[ Info: Arnoldi iteration step 10: normres = 0.07596596469524351\n",
      "[ Info: Arnoldi schursolve in iter 1, krylovdim = 10: 0 values converged, normres = (5.41e-08, 2.51e-06, 7.51e-06, 8.10e-04, 1.21e-02)\n",
      "[ Info: Arnoldi iteration step 11: normres = 0.07217606202471531\n",
      "[ Info: Arnoldi schursolve in iter 1, krylovdim = 11: 0 values converged, normres = (1.65e-09, 1.24e-07, 4.11e-07, 1.65e-04, 4.84e-03)\n",
      "[ Info: Arnoldi iteration step 12: normres = 0.08391575380943414\n",
      "[ Info: Arnoldi schursolve in iter 1, krylovdim = 12: 0 values converged, normres = (6.00e-11, 7.48e-09, 2.75e-08, 4.68e-05, 3.02e-03)\n",
      "[ Info: Arnoldi iteration step 13: normres = 0.04535146682149346\n",
      "[ Info: Arnoldi schursolve in iter 1, krylovdim = 13: 0 values converged, normres = (1.16e-12, 2.35e-10, 9.53e-10, 6.19e-06, 7.90e-04)\n",
      "[ Info: Arnoldi iteration step 14: normres = 0.6702775503676709\n",
      "[ Info: Arnoldi schursolve in iter 1, krylovdim = 14: 1 values converged, normres = (4.62e-13, 2.04e-10, 1.01e-09, 6.62e-01, 7.69e-02)\n",
      "[ Info: Arnoldi iteration step 15: normres = 0.1022393168796362\n",
      "[ Info: Arnoldi schursolve in iter 1, krylovdim = 15: 1 values converged, normres = (3.24e-14, 1.05e-10, 6.81e-02, 5.96e-04, 8.80e-06)\n",
      "[ Info: Arnoldi iteration step 16: normres = 0.5284510229589408\n",
      "[ Info: Arnoldi schursolve in iter 1, krylovdim = 16: 1 values converged, normres = (1.46e-14, 2.39e-10, 1.74e-01, 6.04e-03, 4.96e-01)\n",
      "[ Info: Arnoldi iteration step 17: normres = 0.032997038888400124\n",
      "[ Info: Arnoldi schursolve in iter 1, krylovdim = 17: 1 values converged, normres = (2.48e-16, 2.82e-08, 1.07e-02, 7.13e-03, 1.43e-03)\n",
      "[ Info: Arnoldi iteration step 18: normres = 0.02146698834477327\n",
      "[ Info: Arnoldi schursolve in iter 1, krylovdim = 18: 1 values converged, normres = (2.20e-18, 1.32e-04, 7.46e-05, 8.25e-05, 7.82e-05)\n",
      "[ Info: Arnoldi iteration step 19: normres = 0.22730330153661796\n",
      "[ Info: Arnoldi schursolve in iter 1, krylovdim = 19: 1 values converged, normres = (2.21e-19, 7.88e-09, 2.55e-05, 1.86e-08, 2.13e-05)\n",
      "[ Info: Arnoldi iteration step 20: normres = 0.023027162025318716\n",
      "[ Info: Arnoldi schursolve in iter 1, krylovdim = 20: 1 values converged, normres = (2.36e-21, 9.18e-08, 4.66e-07, 5.89e-08, 4.45e-07)\n",
      "[ Info: Arnoldi iteration step 21: normres = 0.013850104927162153\n",
      "[ Info: Arnoldi schursolve in iter 1, krylovdim = 21: 1 values converged, normres = (1.34e-23, 4.32e-10, 4.26e-09, 3.13e-09, 3.15e-09)\n",
      "[ Info: Arnoldi iteration step 22: normres = 0.19428434206759929\n",
      "[ Info: Arnoldi schursolve in iter 1, krylovdim = 22: 1 values converged, normres = (1.07e-24, 5.83e-11, 5.42e-10, 4.34e-10, 4.46e-10)\n",
      "[ Info: Arnoldi iteration step 23: normres = 0.09905096736031983\n",
      "[ Info: Arnoldi schursolve in iter 1, krylovdim = 23: 1 values converged, normres = (1.01e-25, 4.09e-11, 3.78e-10, 3.55e-08, 2.11e-08)\n",
      "[ Info: Arnoldi iteration step 24: normres = 0.025260281604340785\n",
      "[ Info: Arnoldi schursolve in iter 1, krylovdim = 24: 2 values converged, normres = (1.04e-27, 6.78e-13, 6.30e-12, 1.95e-08, 9.08e-09)\n",
      "[ Info: Arnoldi iteration step 25: normres = 0.11211705301630256\n",
      "[ Info: Arnoldi schursolve in iter 1, krylovdim = 25: 3 values converged, normres = (5.06e-29, 5.39e-14, 5.01e-13, 1.45e-08, 2.35e-08)\n",
      "[ Info: Arnoldi iteration step 26: normres = 0.04980836866484658\n",
      "[ Info: Arnoldi schursolve in iter 1, krylovdim = 26: 3 values converged, normres = (1.10e-30, 1.94e-15, 1.80e-14, 5.66e-06, 2.61e-06)\n",
      "[ Info: Arnoldi iteration step 27: normres = 0.04811514974136572\n",
      "[ Info: Arnoldi schursolve in iter 1, krylovdim = 27: 3 values converged, normres = (2.21e-32, 6.28e-17, 5.84e-16, 1.96e-08, 1.61e-08)\n",
      "[ Info: Arnoldi iteration step 28: normres = 0.08295952425525545\n",
      "[ Info: Arnoldi schursolve in iter 1, krylovdim = 28: 3 values converged, normres = (7.97e-34, 3.75e-18, 3.48e-17, 1.22e-08, 8.51e-09)\n",
      "[ Info: Arnoldi iteration step 29: normres = 0.04029251710946626\n",
      "[ Info: Arnoldi schursolve in iter 1, krylovdim = 29: 3 values converged, normres = (1.35e-35, 1.03e-19, 9.56e-19, 2.37e-10, 2.75e-10)\n",
      "[ Info: Arnoldi iteration step 30: normres = 0.15269418968441206\n",
      "[ Info: Arnoldi schursolve in iter 1, krylovdim = 30: 3 values converged, normres = (9.97e-37, 1.35e-20, 1.26e-19, 3.51e-11, 4.09e-11)\n",
      "[ Info: Arnoldi schursolve in iter 2, krylovdim = 19: 3 values converged, normres = (9.98e-37, 1.35e-20, 1.26e-19, 3.51e-11, 4.09e-11)\n",
      "[ Info: Arnoldi iteration step 20: normres = 0.08356723140257423\n",
      "[ Info: Arnoldi schursolve in iter 2, krylovdim = 20: 3 values converged, normres = (3.60e-38, 8.08e-22, 7.51e-21, 2.35e-12, 2.73e-12)\n",
      "[ Info: Arnoldi iteration step 21: normres = 0.02887438579526414\n",
      "┌ Info: Arnoldi eigsolve finished after 2 iterations:\n",
      "│ *  6 eigenvalues converged\n",
      "│ *  norm of residuals = (4.455928676073468e-40, 1.6352495836252063e-23, 1.4192472809533161e-22, 5.2641601543214535e-14, 8.060481874183996e-14, 7.894289596243415e-14)\n",
      "└ *  number of operations = 32\n"
     ]
    }
   ],
   "cell_type": "code",
   "source": [
    "eigsolve(eps_fun, randn(size(scfres.ρ)), 5, :LM; eager=true, verbosity=3);"
   ],
   "metadata": {},
   "execution_count": 3
  }
 ],
 "nbformat_minor": 3,
 "metadata": {
  "language_info": {
   "file_extension": ".jl",
   "mimetype": "application/julia",
   "name": "julia",
   "version": "1.8.2"
  },
  "kernelspec": {
   "name": "julia-1.8",
   "display_name": "Julia 1.8.2",
   "language": "julia"
  }
 },
 "nbformat": 4
}
