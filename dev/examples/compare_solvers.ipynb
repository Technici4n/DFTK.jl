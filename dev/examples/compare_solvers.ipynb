{
 "cells": [
  {
   "cell_type": "markdown",
   "source": [
    "# Comparison of DFT solvers"
   ],
   "metadata": {}
  },
  {
   "cell_type": "markdown",
   "source": [
    "We compare four different approaches for solving the DFT minimisation problem,\n",
    "namely a density-based SCF, a potential-based SCF, direct minimisation and Newton."
   ],
   "metadata": {}
  },
  {
   "cell_type": "markdown",
   "source": [
    "First we setup our problem"
   ],
   "metadata": {}
  },
  {
   "outputs": [
    {
     "output_type": "execute_result",
     "data": {
      "text/plain": "1.0e-6"
     },
     "metadata": {},
     "execution_count": 1
    }
   ],
   "cell_type": "code",
   "source": [
    "using DFTK\n",
    "using LinearAlgebra\n",
    "\n",
    "a = 10.26  # Silicon lattice constant in Bohr\n",
    "lattice = a / 2 * [[0 1 1.];\n",
    "                   [1 0 1.];\n",
    "                   [1 1 0.]]\n",
    "Si = ElementPsp(:Si, psp=load_psp(\"hgh/lda/Si-q4\"))\n",
    "atoms     = [Si, Si]\n",
    "positions = [ones(3)/8, -ones(3)/8]\n",
    "\n",
    "model = model_LDA(lattice, atoms, positions)\n",
    "basis = PlaneWaveBasis(model; Ecut=5, kgrid=[3, 3, 3])\n",
    "\n",
    "# Convergence we desire in the density\n",
    "tol = 1e-6"
   ],
   "metadata": {},
   "execution_count": 1
  },
  {
   "cell_type": "markdown",
   "source": [
    "## Density-based self-consistent field"
   ],
   "metadata": {}
  },
  {
   "outputs": [
    {
     "name": "stdout",
     "output_type": "stream",
     "text": [
      "n     Energy            log10(ΔE)   log10(Δρ)   Diag   Δtime\n",
      "---   ---------------   ---------   ---------   ----   ------\n",
      "  1   -7.846838570861                   -0.70    4.8         \n",
      "  2   -7.852315430888       -2.26       -1.53    1.0   25.6ms\n",
      "  3   -7.852616688540       -3.52       -2.56    1.5   28.4ms\n",
      "  4   -7.852645981065       -4.53       -2.89    2.2   33.3ms\n",
      "  5   -7.852646512537       -6.27       -3.19    1.2   27.5ms\n",
      "  6   -7.852646679945       -6.78       -4.17    1.0   25.6ms\n",
      "  7   -7.852646686693       -8.17       -5.28    2.2   34.0ms\n",
      "  8   -7.852646686727      -10.46       -5.58    1.8   29.9ms\n",
      "  9   -7.852646686728      -12.32       -5.57    1.0   25.4ms\n",
      " 10   -7.852646686730      -11.67       -6.76    1.0   25.4ms\n"
     ]
    }
   ],
   "cell_type": "code",
   "source": [
    "scfres_scf = self_consistent_field(basis; tol);"
   ],
   "metadata": {},
   "execution_count": 2
  },
  {
   "cell_type": "markdown",
   "source": [
    "## Potential-based SCF"
   ],
   "metadata": {}
  },
  {
   "outputs": [
    {
     "name": "stdout",
     "output_type": "stream",
     "text": [
      "n     Energy            log10(ΔE)   log10(Δρ)   α      Diag   Δtime\n",
      "---   ---------------   ---------   ---------   ----   ----   ------\n",
      "  1   -7.846848274848                   -0.70           4.5         \n",
      "  2   -7.852527894309       -2.25       -1.63   0.80    2.2    295ms\n",
      "  3   -7.852636773775       -3.96       -2.71   0.80    1.0   24.1ms\n",
      "  4   -7.852646446548       -5.01       -3.27   0.80    2.0   30.5ms\n",
      "  5   -7.852646673525       -6.64       -4.10   0.80    1.8   27.6ms\n",
      "  6   -7.852646686371       -7.89       -4.79   0.80    1.5   27.6ms\n",
      "  7   -7.852646686724       -9.45       -5.61   0.80    2.0   29.9ms\n",
      "  8   -7.852646686730      -11.26       -7.01   0.80    1.8   28.7ms\n"
     ]
    }
   ],
   "cell_type": "code",
   "source": [
    "scfres_scfv = DFTK.scf_potential_mixing(basis; tol);"
   ],
   "metadata": {},
   "execution_count": 3
  },
  {
   "cell_type": "markdown",
   "source": [
    "## Direct minimization\n",
    "Note: Unlike the other algorithms, tolerance for this one is in the energy,\n",
    "thus we square the density tolerance value to be roughly equivalent."
   ],
   "metadata": {}
  },
  {
   "outputs": [
    {
     "name": "stdout",
     "output_type": "stream",
     "text": [
      "Iter     Function value   Gradient norm \n",
      "     0     1.381880e+01     4.022556e+00\n",
      " * time: 0.061776161193847656\n",
      "     1     1.415777e+00     1.937231e+00\n",
      " * time: 0.29176902770996094\n",
      "     2    -1.670444e+00     2.302269e+00\n",
      " * time: 0.31676602363586426\n",
      "     3    -3.794552e+00     1.999406e+00\n",
      " * time: 0.35188913345336914\n",
      "     4    -5.077896e+00     1.753237e+00\n",
      " * time: 0.38639116287231445\n",
      "     5    -6.761117e+00     1.019566e+00\n",
      " * time: 0.4212350845336914\n",
      "     6    -7.401284e+00     5.217440e-01\n",
      " * time: 0.45582103729248047\n",
      "     7    -7.655469e+00     5.235782e-01\n",
      " * time: 0.48003315925598145\n",
      "     8    -7.768748e+00     1.864230e-01\n",
      " * time: 0.504249095916748\n",
      "     9    -7.807246e+00     1.045219e-01\n",
      " * time: 0.5285310745239258\n",
      "    10    -7.833614e+00     7.130251e-02\n",
      " * time: 0.5531520843505859\n",
      "    11    -7.843853e+00     3.853596e-02\n",
      " * time: 0.577355146408081\n",
      "    12    -7.849802e+00     2.316241e-02\n",
      " * time: 0.6017360687255859\n",
      "    13    -7.852006e+00     1.375641e-02\n",
      " * time: 0.6259000301361084\n",
      "    14    -7.852431e+00     7.259496e-03\n",
      " * time: 0.6502840518951416\n",
      "    15    -7.852575e+00     3.709520e-03\n",
      " * time: 0.6747381687164307\n",
      "    16    -7.852623e+00     2.695842e-03\n",
      " * time: 0.6989130973815918\n",
      "    17    -7.852639e+00     1.590067e-03\n",
      " * time: 0.7232480049133301\n",
      "    18    -7.852644e+00     9.199303e-04\n",
      " * time: 0.7476401329040527\n",
      "    19    -7.852646e+00     4.941276e-04\n",
      " * time: 0.7722389698028564\n",
      "    20    -7.852646e+00     2.604549e-04\n",
      " * time: 0.7966971397399902\n",
      "    21    -7.852647e+00     1.825397e-04\n",
      " * time: 0.8213880062103271\n",
      "    22    -7.852647e+00     1.617970e-04\n",
      " * time: 0.8458170890808105\n",
      "    23    -7.852647e+00     6.948857e-05\n",
      " * time: 0.8701190948486328\n",
      "    24    -7.852647e+00     2.490670e-05\n",
      " * time: 0.8944129943847656\n",
      "    25    -7.852647e+00     1.435439e-05\n",
      " * time: 0.9187221527099609\n",
      "    26    -7.852647e+00     8.818142e-06\n",
      " * time: 0.9431161880493164\n",
      "    27    -7.852647e+00     5.481108e-06\n",
      " * time: 0.9673490524291992\n",
      "    28    -7.852647e+00     2.672478e-06\n",
      " * time: 0.9914710521697998\n",
      "    29    -7.852647e+00     1.900941e-06\n",
      " * time: 1.016167163848877\n",
      "    30    -7.852647e+00     1.125564e-06\n",
      " * time: 1.0411531925201416\n",
      "    31    -7.852647e+00     6.414683e-07\n",
      " * time: 1.0655250549316406\n",
      "    32    -7.852647e+00     3.942053e-07\n",
      " * time: 1.08976411819458\n",
      "    33    -7.852647e+00     2.186008e-07\n",
      " * time: 1.1140081882476807\n",
      "    34    -7.852647e+00     1.134878e-07\n",
      " * time: 1.1385340690612793\n",
      "    35    -7.852647e+00     6.640198e-08\n",
      " * time: 1.1630160808563232\n",
      "    36    -7.852647e+00     3.344396e-08\n",
      " * time: 1.1877820491790771\n",
      "    37    -7.852647e+00     1.556916e-08\n",
      " * time: 1.212170124053955\n",
      "    38    -7.852647e+00     1.164522e-08\n",
      " * time: 1.2474491596221924\n",
      "    39    -7.852647e+00     5.861105e-09\n",
      " * time: 1.2718260288238525\n",
      "    40    -7.852647e+00     6.144853e-09\n",
      " * time: 1.2960879802703857\n",
      "    41    -7.852647e+00     2.172766e-09\n",
      " * time: 1.3206801414489746\n"
     ]
    }
   ],
   "cell_type": "code",
   "source": [
    "scfres_dm = direct_minimization(basis; tol=tol^2);"
   ],
   "metadata": {},
   "execution_count": 4
  },
  {
   "cell_type": "markdown",
   "source": [
    "## Newton algorithm"
   ],
   "metadata": {}
  },
  {
   "cell_type": "markdown",
   "source": [
    "Start not too far from the solution to ensure convergence:\n",
    "We run first a very crude SCF to get close and then switch to Newton."
   ],
   "metadata": {}
  },
  {
   "outputs": [
    {
     "name": "stdout",
     "output_type": "stream",
     "text": [
      "n     Energy            log10(ΔE)   log10(Δρ)   Diag   Δtime\n",
      "---   ---------------   ---------   ---------   ----   ------\n",
      "  1   -7.846824042206                   -0.70    4.5         \n"
     ]
    }
   ],
   "cell_type": "code",
   "source": [
    "scfres_start = self_consistent_field(basis; tol=0.5);"
   ],
   "metadata": {},
   "execution_count": 5
  },
  {
   "cell_type": "markdown",
   "source": [
    "Remove the virtual orbitals (which Newton cannot treat yet)"
   ],
   "metadata": {}
  },
  {
   "outputs": [
    {
     "name": "stdout",
     "output_type": "stream",
     "text": [
      "n     Energy            log10(ΔE)   log10(Δρ)   Δtime\n",
      "---   ---------------   ---------   ---------   ------\n",
      "  1   -7.852645903293                   -1.64         \n",
      "  2   -7.852646686730       -6.11       -3.71    2.08s\n",
      "  3   -7.852646686730      -13.28       -7.24    178ms\n"
     ]
    }
   ],
   "cell_type": "code",
   "source": [
    "ψ = DFTK.select_occupied_orbitals(basis, scfres_start.ψ, scfres_start.occupation).ψ\n",
    "scfres_newton = newton(basis, ψ; tol);"
   ],
   "metadata": {},
   "execution_count": 6
  },
  {
   "cell_type": "markdown",
   "source": [
    "## Comparison of results"
   ],
   "metadata": {}
  },
  {
   "outputs": [
    {
     "name": "stdout",
     "output_type": "stream",
     "text": [
      "|ρ_newton - ρ_scf|  = 2.5205839317607363e-7\n",
      "|ρ_newton - ρ_scfv| = 1.4070457644308792e-7\n",
      "|ρ_newton - ρ_dm|   = 6.001728832152742e-10\n"
     ]
    }
   ],
   "cell_type": "code",
   "source": [
    "println(\"|ρ_newton - ρ_scf|  = \", norm(scfres_newton.ρ - scfres_scf.ρ))\n",
    "println(\"|ρ_newton - ρ_scfv| = \", norm(scfres_newton.ρ - scfres_scfv.ρ))\n",
    "println(\"|ρ_newton - ρ_dm|   = \", norm(scfres_newton.ρ - scfres_dm.ρ))"
   ],
   "metadata": {},
   "execution_count": 7
  }
 ],
 "nbformat_minor": 3,
 "metadata": {
  "language_info": {
   "file_extension": ".jl",
   "mimetype": "application/julia",
   "name": "julia",
   "version": "1.9.2"
  },
  "kernelspec": {
   "name": "julia-1.9",
   "display_name": "Julia 1.9.2",
   "language": "julia"
  }
 },
 "nbformat": 4
}
