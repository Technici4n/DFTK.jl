{
 "cells": [
  {
   "cell_type": "markdown",
   "source": [
    "# Eigenvalues of the dielectric matrix\n",
    "\n",
    "We compute a few eigenvalues of the dielectric matrix ($q=0$, $ω=0$) iteratively."
   ],
   "metadata": {}
  },
  {
   "outputs": [
    {
     "name": "stdout",
     "output_type": "stream",
     "text": [
      "n     Energy            log10(ΔE)   log10(Δρ)   Diag\n",
      "---   ---------------   ---------   ---------   ----\n",
      "  1   -7.233140230195                   -0.50    7.0\n",
      "  2   -7.249590389826       -1.78       -1.41    1.0\n",
      "  3   -7.251259213572       -2.78       -1.89    4.0\n",
      "  4   -7.251286368126       -4.57       -2.16    3.0\n",
      "  5   -7.251333613419       -4.33       -2.68    3.0\n",
      "  6   -7.251337683289       -5.39       -3.13    1.0\n",
      "  7   -7.251338698557       -5.99       -3.64    1.0\n",
      "  8   -7.251338789803       -7.04       -4.12    2.0\n",
      "  9   -7.251338798322       -8.07       -4.82    2.0\n",
      " 10   -7.251338798677       -9.45       -5.35    2.0\n",
      " 11   -7.251338798699      -10.66       -5.67    3.0\n",
      " 12   -7.251338798704      -11.29       -6.36    2.0\n",
      " 13   -7.251338798704      -12.61       -6.62    3.0\n",
      " 14   -7.251338798705      -13.30       -6.98    1.0\n",
      " 15   -7.251338798705      -14.01       -7.71    3.0\n"
     ]
    }
   ],
   "cell_type": "code",
   "source": [
    "using DFTK\n",
    "using Plots\n",
    "using KrylovKit\n",
    "using Printf\n",
    "\n",
    "# Calculation parameters\n",
    "kgrid = [1, 1, 1]\n",
    "Ecut = 5\n",
    "\n",
    "# Silicon lattice\n",
    "a = 10.26\n",
    "lattice = a / 2 .* [[0 1 1.]; [1 0 1.]; [1 1 0.]]\n",
    "Si = ElementPsp(:Si, psp=load_psp(\"hgh/lda/Si-q4\"))\n",
    "atoms     = [Si, Si]\n",
    "positions = [ones(3)/8, -ones(3)/8]\n",
    "\n",
    "# Compute the dielectric operator without symmetries\n",
    "model = model_LDA(lattice, atoms, positions, symmetries=false)\n",
    "basis = PlaneWaveBasis(model; Ecut, kgrid)\n",
    "scfres = self_consistent_field(basis, tol=1e-14);"
   ],
   "metadata": {},
   "execution_count": 1
  },
  {
   "cell_type": "markdown",
   "source": [
    "Applying $ε^† ≔ (1- χ_0 K)$ …"
   ],
   "metadata": {}
  },
  {
   "outputs": [],
   "cell_type": "code",
   "source": [
    "function eps_fun(δρ)\n",
    "    δV = apply_kernel(basis, δρ; ρ=scfres.ρ)\n",
    "    χ0δV = apply_χ0(scfres, δV)\n",
    "    δρ - χ0δV\n",
    "end;"
   ],
   "metadata": {},
   "execution_count": 2
  },
  {
   "cell_type": "markdown",
   "source": [
    "… eagerly diagonalizes the subspace matrix at each iteration"
   ],
   "metadata": {}
  },
  {
   "outputs": [
    {
     "name": "stdout",
     "output_type": "stream",
     "text": [
      "[ Info: Arnoldi iteration step 1: normres = 0.09247704319739801\n",
      "[ Info: Arnoldi iteration step 2: normres = 0.46556568479834864\n",
      "[ Info: Arnoldi iteration step 3: normres = 0.4984631665119583\n",
      "[ Info: Arnoldi iteration step 4: normres = 0.39440252488897715\n",
      "[ Info: Arnoldi iteration step 5: normres = 0.2642604637780276\n",
      "[ Info: Arnoldi schursolve in iter 1, krylovdim = 5: 0 values converged, normres = (5.34e-03, 7.54e-02, 1.67e-01, 1.84e-01, 4.87e-02)\n",
      "[ Info: Arnoldi iteration step 6: normres = 0.5031608728216457\n",
      "[ Info: Arnoldi schursolve in iter 1, krylovdim = 6: 0 values converged, normres = (2.21e-03, 1.58e-01, 4.61e-01, 9.34e-02, 3.53e-02)\n",
      "[ Info: Arnoldi iteration step 7: normres = 0.08774758737339433\n",
      "[ Info: Arnoldi schursolve in iter 1, krylovdim = 7: 0 values converged, normres = (1.08e-04, 2.89e-02, 2.37e-02, 2.68e-02, 6.88e-02)\n",
      "[ Info: Arnoldi iteration step 8: normres = 0.11632959240708601\n",
      "[ Info: Arnoldi schursolve in iter 1, krylovdim = 8: 0 values converged, normres = (5.47e-06, 2.42e-03, 2.21e-03, 1.08e-02, 6.22e-02)\n",
      "[ Info: Arnoldi iteration step 9: normres = 0.07247096230112388\n",
      "[ Info: Arnoldi schursolve in iter 1, krylovdim = 9: 0 values converged, normres = (1.73e-07, 1.27e-04, 1.29e-04, 3.06e-03, 3.79e-02)\n",
      "[ Info: Arnoldi iteration step 10: normres = 0.08113104237879956\n",
      "[ Info: Arnoldi schursolve in iter 1, krylovdim = 10: 0 values converged, normres = (6.05e-09, 7.29e-06, 8.22e-06, 8.05e-04, 1.87e-02)\n",
      "[ Info: Arnoldi iteration step 11: normres = 0.07864304550181418\n",
      "[ Info: Arnoldi schursolve in iter 1, krylovdim = 11: 0 values converged, normres = (2.05e-10, 4.06e-07, 5.09e-07, 2.06e-04, 9.81e-03)\n",
      "[ Info: Arnoldi iteration step 12: normres = 0.08928760328584252\n",
      "[ Info: Arnoldi schursolve in iter 1, krylovdim = 12: 0 values converged, normres = (7.91e-12, 2.58e-08, 3.59e-08, 6.05e-05, 6.44e-03)\n",
      "[ Info: Arnoldi iteration step 13: normres = 0.04412951202016995\n",
      "[ Info: Arnoldi schursolve in iter 1, krylovdim = 13: 1 values converged, normres = (1.50e-13, 7.99e-10, 1.23e-09, 8.43e-06, 1.98e-03)\n",
      "[ Info: Arnoldi iteration step 14: normres = 0.6813918384247036\n",
      "[ Info: Arnoldi schursolve in iter 1, krylovdim = 14: 1 values converged, normres = (5.51e-14, 5.77e-10, 1.05e-09, 6.75e-01, 9.53e-03)\n",
      "[ Info: Arnoldi iteration step 15: normres = 0.0802243828716101\n",
      "[ Info: Arnoldi schursolve in iter 1, krylovdim = 15: 1 values converged, normres = (3.30e-15, 2.56e-10, 6.09e-02, 1.05e-03, 4.91e-06)\n",
      "[ Info: Arnoldi iteration step 16: normres = 0.578112204593896\n",
      "[ Info: Arnoldi schursolve in iter 1, krylovdim = 16: 1 values converged, normres = (1.61e-15, 5.93e-10, 1.78e-01, 8.90e-03, 5.48e-01)\n",
      "[ Info: Arnoldi iteration step 17: normres = 0.03386572444019307\n",
      "[ Info: Arnoldi schursolve in iter 1, krylovdim = 17: 1 values converged, normres = (2.86e-17, 1.66e-08, 1.26e-02, 1.64e-07, 6.92e-03)\n",
      "[ Info: Arnoldi iteration step 18: normres = 0.022284905492812413\n",
      "[ Info: Arnoldi schursolve in iter 1, krylovdim = 18: 1 values converged, normres = (2.64e-19, 1.26e-08, 1.86e-04, 3.28e-08, 1.13e-04)\n",
      "[ Info: Arnoldi iteration step 19: normres = 0.10287260077682496\n",
      "[ Info: Arnoldi schursolve in iter 1, krylovdim = 19: 1 values converged, normres = (1.13e-20, 1.27e-05, 8.54e-07, 7.11e-06, 4.73e-06)\n",
      "[ Info: Arnoldi iteration step 20: normres = 0.08452214634396665\n",
      "[ Info: Arnoldi schursolve in iter 1, krylovdim = 20: 1 values converged, normres = (4.67e-22, 6.37e-07, 7.03e-07, 1.41e-07, 7.11e-07)\n",
      "[ Info: Arnoldi iteration step 21: normres = 0.032631384822767416\n",
      "[ Info: Arnoldi schursolve in iter 1, krylovdim = 21: 1 values converged, normres = (6.42e-24, 1.85e-08, 1.02e-08, 1.08e-08, 1.42e-08)\n",
      "[ Info: Arnoldi iteration step 22: normres = 0.01764501370764073\n",
      "[ Info: Arnoldi schursolve in iter 1, krylovdim = 22: 1 values converged, normres = (4.67e-26, 1.93e-10, 1.52e-10, 1.33e-10, 1.86e-10)\n",
      "[ Info: Arnoldi iteration step 23: normres = 0.5074912431245008\n",
      "[ Info: Arnoldi schursolve in iter 1, krylovdim = 23: 1 values converged, normres = (1.08e-26, 7.66e-11, 6.01e-11, 5.92e-11, 8.27e-11)\n",
      "[ Info: Arnoldi iteration step 24: normres = 0.03019731977063805\n",
      "[ Info: Arnoldi schursolve in iter 1, krylovdim = 24: 1 values converged, normres = (2.80e-28, 1.37e-11, 1.07e-11, 9.28e-10, 1.30e-09)\n",
      "[ Info: Arnoldi iteration step 25: normres = 0.03416794484723277\n",
      "[ Info: Arnoldi schursolve in iter 1, krylovdim = 25: 3 values converged, normres = (3.93e-30, 3.09e-13, 2.43e-13, 1.04e-09, 1.49e-09)\n",
      "[ Info: Arnoldi iteration step 26: normres = 0.08675577484567763\n",
      "[ Info: Arnoldi schursolve in iter 1, krylovdim = 26: 3 values converged, normres = (1.51e-31, 1.98e-14, 1.56e-14, 4.31e-05, 9.25e-06)\n",
      "[ Info: Arnoldi iteration step 27: normres = 0.05514338980985953\n",
      "[ Info: Arnoldi schursolve in iter 1, krylovdim = 27: 3 values converged, normres = (3.50e-33, 7.43e-16, 5.84e-16, 4.30e-09, 4.88e-09)\n",
      "[ Info: Arnoldi iteration step 28: normres = 0.068773109283843\n",
      "[ Info: Arnoldi schursolve in iter 1, krylovdim = 28: 3 values converged, normres = (1.07e-34, 3.80e-17, 2.98e-17, 7.51e-08, 6.02e-08)\n",
      "[ Info: Arnoldi iteration step 29: normres = 0.02994731904114207\n",
      "[ Info: Arnoldi schursolve in iter 1, krylovdim = 29: 3 values converged, normres = (1.32e-36, 7.53e-19, 5.91e-19, 2.18e-10, 2.43e-09)\n",
      "[ Info: Arnoldi iteration step 30: normres = 0.15536007635164711\n",
      "[ Info: Arnoldi schursolve in iter 1, krylovdim = 30: 3 values converged, normres = (9.93e-38, 1.01e-19, 7.90e-20, 3.56e-11, 3.70e-10)\n",
      "[ Info: Arnoldi schursolve in iter 2, krylovdim = 19: 3 values converged, normres = (9.93e-38, 1.01e-19, 7.90e-20, 3.56e-11, 3.70e-10)\n",
      "[ Info: Arnoldi iteration step 20: normres = 0.032763158998423324\n",
      "[ Info: Arnoldi schursolve in iter 2, krylovdim = 20: 4 values converged, normres = (1.38e-39, 2.30e-21, 1.80e-21, 8.89e-13, 9.38e-12)\n",
      "[ Info: Arnoldi iteration step 21: normres = 0.07387381211966472\n",
      "┌ Info: Arnoldi eigsolve finished after 2 iterations:\n",
      "│ *  6 eigenvalues converged\n",
      "│ *  norm of residuals = (4.3542799843517786e-41, 1.1784521774589008e-22, 6.452405986395687e-23, 5.0510704946569974e-14, 5.3472039786198e-13, 3.224860774432246e-14)\n",
      "└ *  number of operations = 32\n"
     ]
    }
   ],
   "cell_type": "code",
   "source": [
    "eigsolve(eps_fun, randn(size(scfres.ρ)), 5, :LM; eager=true, verbosity=3);"
   ],
   "metadata": {},
   "execution_count": 3
  }
 ],
 "nbformat_minor": 3,
 "metadata": {
  "language_info": {
   "file_extension": ".jl",
   "mimetype": "application/julia",
   "name": "julia",
   "version": "1.8.1"
  },
  "kernelspec": {
   "name": "julia-1.8",
   "display_name": "Julia 1.8.1",
   "language": "julia"
  }
 },
 "nbformat": 4
}
