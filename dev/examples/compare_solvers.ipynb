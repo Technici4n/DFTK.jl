{
 "cells": [
  {
   "cell_type": "markdown",
   "source": [
    "# Comparison of DFT solvers"
   ],
   "metadata": {}
  },
  {
   "cell_type": "markdown",
   "source": [
    "We compare four different approaches for solving the DFT minimisation problem,\n",
    "namely a density-based SCF, a potential-based SCF, direct minimisation and Newton."
   ],
   "metadata": {}
  },
  {
   "cell_type": "markdown",
   "source": [
    "First we setup our problem"
   ],
   "metadata": {}
  },
  {
   "outputs": [],
   "cell_type": "code",
   "source": [
    "using DFTK\n",
    "using LinearAlgebra\n",
    "\n",
    "a = 10.26  # Silicon lattice constant in Bohr\n",
    "lattice = a / 2 * [[0 1 1.];\n",
    "                   [1 0 1.];\n",
    "                   [1 1 0.]]\n",
    "Si = ElementPsp(:Si, psp=load_psp(\"hgh/lda/Si-q4\"))\n",
    "atoms     = [Si, Si]\n",
    "positions = [ones(3)/8, -ones(3)/8]\n",
    "\n",
    "model = model_LDA(lattice, atoms, positions)\n",
    "basis = PlaneWaveBasis(model; Ecut=5, kgrid=[3, 3, 3])\n",
    "\n",
    "# Convergence we desire\n",
    "tol = 1e-12\n",
    "is_converged = DFTK.ScfConvergenceDensity(tol);"
   ],
   "metadata": {},
   "execution_count": 1
  },
  {
   "cell_type": "markdown",
   "source": [
    "## Density-based self-consistent field"
   ],
   "metadata": {}
  },
  {
   "outputs": [
    {
     "name": "stdout",
     "output_type": "stream",
     "text": [
      "n     Energy            log10(ΔE)   log10(Δρ)   Diag\n",
      "---   ---------------   ---------   ---------   ----\n",
      "  1   -7.846860416912                   -0.70    4.8\n",
      "  2   -7.852320327895       -2.26       -1.53    1.0\n",
      "  3   -7.852646207987       -3.49       -2.52    3.2\n",
      "  4   -7.852646677558       -6.33       -3.37    2.2\n",
      "  5   -7.852646686077       -8.07       -4.68    1.5\n",
      "  6   -7.852646686727       -9.19       -5.37    3.2\n",
      "  7   -7.852646686730      -11.56       -6.15    1.2\n",
      "  8   -7.852646686730      -12.81       -7.86    2.2\n",
      "  9   -7.852646686730      -14.27       -7.73    2.8\n",
      " 10   -7.852646686730   +  -14.45       -8.48    2.0\n",
      " 11   -7.852646686730   +    -Inf       -9.09    2.2\n",
      " 12   -7.852646686730   +  -14.75       -9.98    2.0\n",
      " 13   -7.852646686730      -14.75      -11.02    2.2\n",
      " 14   -7.852646686730      -15.05      -11.19    1.5\n",
      " 15   -7.852646686730      -15.05      -12.06    2.8\n"
     ]
    }
   ],
   "cell_type": "code",
   "source": [
    "scfres_scf = self_consistent_field(basis; is_converged);"
   ],
   "metadata": {},
   "execution_count": 2
  },
  {
   "cell_type": "markdown",
   "source": [
    "## Potential-based SCF"
   ],
   "metadata": {}
  },
  {
   "outputs": [
    {
     "name": "stdout",
     "output_type": "stream",
     "text": [
      "n     Energy            log10(ΔE)   log10(Δρ)   α      Diag\n",
      "---   ---------------   ---------   ---------   ----   ----\n",
      "  1   -7.846819075201                   -0.70           4.8\n",
      "  2   -7.852553213346       -2.24       -1.63   0.80    2.0\n",
      "  3   -7.852639161098       -4.07       -2.72   0.80    1.0\n",
      "  4   -7.852646512585       -5.13       -3.38   0.80    2.0\n",
      "  5   -7.852646683028       -6.77       -4.29   0.80    1.5\n",
      "  6   -7.852646686612       -8.45       -4.89   0.80    1.8\n",
      "  7   -7.852646686719       -9.97       -5.72   0.80    1.2\n",
      "  8   -7.852646686730      -10.96       -6.36   0.80    2.0\n",
      "  9   -7.852646686730      -12.91       -7.31   0.80    1.5\n",
      " 10   -7.852646686730      -14.05       -7.94   0.80    2.0\n",
      " 11   -7.852646686730   +    -Inf       -8.97   0.80    1.2\n",
      " 12   -7.852646686730   +    -Inf      -10.13   0.80    2.8\n",
      " 13   -7.852646686730      -14.75      -10.38   0.80    2.8\n",
      " 14   -7.852646686730   +  -14.45      -11.34   0.80    1.0\n",
      " 15   -7.852646686730      -14.45      -11.56   0.80    2.0\n",
      " 16   -7.852646686730   +  -15.05      -12.79   0.80    1.0\n"
     ]
    }
   ],
   "cell_type": "code",
   "source": [
    "scfres_scfv = DFTK.scf_potential_mixing(basis; is_converged);"
   ],
   "metadata": {},
   "execution_count": 3
  },
  {
   "cell_type": "markdown",
   "source": [
    "## Direct minimization"
   ],
   "metadata": {}
  },
  {
   "outputs": [
    {
     "name": "stdout",
     "output_type": "stream",
     "text": [
      "Iter     Function value   Gradient norm \n",
      "     0     1.410897e+01     3.877618e+00\n",
      " * time: 0.3966841697692871\n",
      "     1     1.134426e+00     1.958723e+00\n",
      " * time: 0.6038470268249512\n",
      "     2    -1.615841e+00     2.272934e+00\n",
      " * time: 0.6271970272064209\n",
      "     3    -3.581695e+00     2.064738e+00\n",
      " * time: 0.6606171131134033\n",
      "     4    -4.981044e+00     2.038922e+00\n",
      " * time: 0.6940851211547852\n",
      "     5    -6.536462e+00     1.404998e+00\n",
      " * time: 0.7273671627044678\n",
      "     6    -7.205873e+00     7.784236e-01\n",
      " * time: 0.7607560157775879\n",
      "     7    -7.496883e+00     5.826828e-01\n",
      " * time: 0.7838292121887207\n",
      "     8    -7.654754e+00     1.204961e-01\n",
      " * time: 0.8068861961364746\n",
      "     9    -7.726058e+00     1.918430e-01\n",
      " * time: 0.8304250240325928\n",
      "    10    -7.777650e+00     8.176157e-02\n",
      " * time: 0.8541011810302734\n",
      "    11    -7.809755e+00     7.683105e-02\n",
      " * time: 0.8777501583099365\n",
      "    12    -7.837414e+00     6.116649e-02\n",
      " * time: 0.900719165802002\n",
      "    13    -7.846180e+00     3.892607e-02\n",
      " * time: 0.9236822128295898\n",
      "    14    -7.850557e+00     1.764674e-02\n",
      " * time: 0.946707010269165\n",
      "    15    -7.851863e+00     1.384998e-02\n",
      " * time: 0.9697611331939697\n",
      "    16    -7.852400e+00     8.993266e-03\n",
      " * time: 0.992988109588623\n",
      "    17    -7.852583e+00     7.765023e-03\n",
      " * time: 1.0160682201385498\n",
      "    18    -7.852630e+00     2.315408e-03\n",
      " * time: 1.0389950275421143\n",
      "    19    -7.852641e+00     1.090877e-03\n",
      " * time: 1.0622270107269287\n",
      "    20    -7.852645e+00     6.715989e-04\n",
      " * time: 1.0851740837097168\n",
      "    21    -7.852646e+00     4.734140e-04\n",
      " * time: 1.1079421043395996\n",
      "    22    -7.852646e+00     3.041531e-04\n",
      " * time: 1.1310160160064697\n",
      "    23    -7.852647e+00     1.368667e-04\n",
      " * time: 1.154198169708252\n",
      "    24    -7.852647e+00     5.971033e-05\n",
      " * time: 1.1769649982452393\n",
      "    25    -7.852647e+00     3.257556e-05\n",
      " * time: 1.1999640464782715\n",
      "    26    -7.852647e+00     1.854285e-05\n",
      " * time: 1.2232251167297363\n",
      "    27    -7.852647e+00     1.220379e-05\n",
      " * time: 1.3142030239105225\n",
      "    28    -7.852647e+00     7.916246e-06\n",
      " * time: 1.337414026260376\n",
      "    29    -7.852647e+00     5.013860e-06\n",
      " * time: 1.3605279922485352\n",
      "    30    -7.852647e+00     2.958126e-06\n",
      " * time: 1.384059190750122\n",
      "    31    -7.852647e+00     2.155820e-06\n",
      " * time: 1.4071080684661865\n",
      "    32    -7.852647e+00     1.832085e-06\n",
      " * time: 1.4301750659942627\n",
      "    33    -7.852647e+00     9.665493e-07\n",
      " * time: 1.4530889987945557\n",
      "    34    -7.852647e+00     2.775777e-07\n",
      " * time: 1.4761340618133545\n",
      "    35    -7.852647e+00     1.685537e-07\n",
      " * time: 1.4991121292114258\n",
      "    36    -7.852647e+00     1.217395e-07\n",
      " * time: 1.5220332145690918\n",
      "    37    -7.852647e+00     7.348087e-08\n",
      " * time: 1.5447912216186523\n",
      "    38    -7.852647e+00     3.337007e-08\n",
      " * time: 1.5677142143249512\n",
      "    39    -7.852647e+00     2.178452e-08\n",
      " * time: 1.5908300876617432\n",
      "    40    -7.852647e+00     1.632194e-08\n",
      " * time: 1.6138591766357422\n",
      "    41    -7.852647e+00     8.660766e-09\n",
      " * time: 1.647165060043335\n",
      "    42    -7.852647e+00     8.622536e-09\n",
      " * time: 1.701207160949707\n",
      "    43    -7.852647e+00     8.622536e-09\n",
      " * time: 1.814709186553955\n"
     ]
    }
   ],
   "cell_type": "code",
   "source": [
    "scfres_dm = direct_minimization(basis; tol);"
   ],
   "metadata": {},
   "execution_count": 4
  },
  {
   "cell_type": "markdown",
   "source": [
    "## Newton algorithm"
   ],
   "metadata": {}
  },
  {
   "cell_type": "markdown",
   "source": [
    "Start not too far from the solution to ensure convergence:\n",
    "We run first a very crude SCF to get close and then switch to Newton."
   ],
   "metadata": {}
  },
  {
   "outputs": [
    {
     "name": "stdout",
     "output_type": "stream",
     "text": [
      "n     Energy            log10(ΔE)   log10(Δρ)   Diag\n",
      "---   ---------------   ---------   ---------   ----\n",
      "  1   -7.846717120236                   -0.70    4.8\n",
      "  2   -7.852312467576       -2.25       -1.53    1.0\n"
     ]
    }
   ],
   "cell_type": "code",
   "source": [
    "scfres_start = self_consistent_field(basis; tol=1e-1);"
   ],
   "metadata": {},
   "execution_count": 5
  },
  {
   "cell_type": "markdown",
   "source": [
    "Remove the virtual orbitals (which Newton cannot treat yet)"
   ],
   "metadata": {}
  },
  {
   "outputs": [
    {
     "name": "stdout",
     "output_type": "stream",
     "text": [
      "n     Energy            log10(ΔE)   log10(Δρ)\n",
      "---   ---------------   ---------   ---------\n",
      "  1   -7.852646686704                   -2.54\n",
      "  2   -7.852646686730      -10.60       -5.92\n",
      "  3   -7.852646686730   +    -Inf      -12.58\n"
     ]
    }
   ],
   "cell_type": "code",
   "source": [
    "ψ, _ = DFTK.select_occupied_orbitals(basis, scfres_start.ψ, scfres_start.occupation)\n",
    "scfres_newton = newton(basis, ψ; tol);"
   ],
   "metadata": {},
   "execution_count": 6
  },
  {
   "cell_type": "markdown",
   "source": [
    "## Comparison of results"
   ],
   "metadata": {}
  },
  {
   "outputs": [
    {
     "name": "stdout",
     "output_type": "stream",
     "text": [
      "|ρ_newton - ρ_scf|  = 6.449824040930948e-13\n",
      "|ρ_newton - ρ_scfv| = 2.416968114532289e-13\n",
      "|ρ_newton - ρ_dm|   = 9.57069652494818e-10\n"
     ]
    }
   ],
   "cell_type": "code",
   "source": [
    "println(\"|ρ_newton - ρ_scf|  = \", norm(scfres_newton.ρ - scfres_scf.ρ))\n",
    "println(\"|ρ_newton - ρ_scfv| = \", norm(scfres_newton.ρ - scfres_scfv.ρ))\n",
    "println(\"|ρ_newton - ρ_dm|   = \", norm(scfres_newton.ρ - scfres_dm.ρ))"
   ],
   "metadata": {},
   "execution_count": 7
  }
 ],
 "nbformat_minor": 3,
 "metadata": {
  "language_info": {
   "file_extension": ".jl",
   "mimetype": "application/julia",
   "name": "julia",
   "version": "1.8.2"
  },
  "kernelspec": {
   "name": "julia-1.8",
   "display_name": "Julia 1.8.2",
   "language": "julia"
  }
 },
 "nbformat": 4
}
