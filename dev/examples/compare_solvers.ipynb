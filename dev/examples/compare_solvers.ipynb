{
 "cells": [
  {
   "cell_type": "markdown",
   "source": [
    "# Comparison of DFT solvers"
   ],
   "metadata": {}
  },
  {
   "cell_type": "markdown",
   "source": [
    "We compare four different approaches for solving the DFT minimisation problem,\n",
    "namely a density-based SCF, a potential-based SCF, direct minimisation and Newton."
   ],
   "metadata": {}
  },
  {
   "cell_type": "markdown",
   "source": [
    "First we setup our problem"
   ],
   "metadata": {}
  },
  {
   "outputs": [
    {
     "output_type": "execute_result",
     "data": {
      "text/plain": "1.0e-6"
     },
     "metadata": {},
     "execution_count": 1
    }
   ],
   "cell_type": "code",
   "source": [
    "using DFTK\n",
    "using LinearAlgebra\n",
    "\n",
    "a = 10.26  # Silicon lattice constant in Bohr\n",
    "lattice = a / 2 * [[0 1 1.];\n",
    "                   [1 0 1.];\n",
    "                   [1 1 0.]]\n",
    "Si = ElementPsp(:Si, psp=load_psp(\"hgh/lda/Si-q4\"))\n",
    "atoms     = [Si, Si]\n",
    "positions = [ones(3)/8, -ones(3)/8]\n",
    "\n",
    "model = model_LDA(lattice, atoms, positions)\n",
    "basis = PlaneWaveBasis(model; Ecut=5, kgrid=[3, 3, 3])\n",
    "\n",
    "# Convergence we desire in the density\n",
    "tol = 1e-6"
   ],
   "metadata": {},
   "execution_count": 1
  },
  {
   "cell_type": "markdown",
   "source": [
    "## Density-based self-consistent field"
   ],
   "metadata": {}
  },
  {
   "outputs": [
    {
     "name": "stdout",
     "output_type": "stream",
     "text": [
      "n     Energy            log10(ΔE)   log10(Δρ)   Diag   Δtime\n",
      "---   ---------------   ---------   ---------   ----   ------\n",
      "  1   -7.846820221274                   -0.70    4.8         \n",
      "  2   -7.852314995646       -2.26       -1.53    1.0   24.1ms\n",
      "  3   -7.852614473017       -3.52       -2.55    1.5   26.5ms\n",
      "  4   -7.852646019421       -4.50       -2.90    2.8   33.7ms\n",
      "  5   -7.852646532473       -6.29       -3.23    1.0   24.4ms\n",
      "  6   -7.852646679003       -6.83       -4.01    1.0   24.3ms\n",
      "  7   -7.852646686514       -8.12       -5.23    1.8   28.9ms\n",
      "  8   -7.852646686723       -9.68       -5.40    2.0   30.1ms\n",
      "  9   -7.852646686728      -11.28       -5.78    1.2   25.5ms\n",
      " 10   -7.852646686730      -11.85       -6.86    1.0   24.6ms\n"
     ]
    }
   ],
   "cell_type": "code",
   "source": [
    "scfres_scf = self_consistent_field(basis; tol);"
   ],
   "metadata": {},
   "execution_count": 2
  },
  {
   "cell_type": "markdown",
   "source": [
    "## Potential-based SCF"
   ],
   "metadata": {}
  },
  {
   "outputs": [
    {
     "name": "stdout",
     "output_type": "stream",
     "text": [
      "n     Energy            log10(ΔE)   log10(Δρ)   α      Diag   Δtime\n",
      "---   ---------------   ---------   ---------   ----   ----   ------\n",
      "  1   -7.846791197410                   -0.70           4.5         \n",
      "  2   -7.852525664830       -2.24       -1.63   0.80    2.0    256ms\n",
      "  3   -7.852636693175       -3.95       -2.72   0.80    1.0   22.2ms\n",
      "  4   -7.852646456156       -5.01       -3.31   0.80    2.2   29.5ms\n",
      "  5   -7.852646682603       -6.65       -4.16   0.80    1.8   26.4ms\n",
      "  6   -7.852646686398       -8.42       -4.85   0.80    1.2   25.0ms\n",
      "  7   -7.852646686722       -9.49       -5.82   0.80    1.8   26.9ms\n",
      "  8   -7.852646686730      -11.13       -6.74   0.80    2.5   30.5ms\n"
     ]
    }
   ],
   "cell_type": "code",
   "source": [
    "scfres_scfv = DFTK.scf_potential_mixing(basis; tol);"
   ],
   "metadata": {},
   "execution_count": 3
  },
  {
   "cell_type": "markdown",
   "source": [
    "## Direct minimization\n",
    "Note: Unlike the other algorithms, tolerance for this one is in the energy,\n",
    "thus we square the density tolerance value to be roughly equivalent."
   ],
   "metadata": {}
  },
  {
   "outputs": [
    {
     "name": "stdout",
     "output_type": "stream",
     "text": [
      "Iter     Function value   Gradient norm \n",
      "     0     1.415700e+01     3.702282e+00\n",
      " * time: 0.438647985458374\n",
      "     1     1.008384e+00     1.890780e+00\n",
      " * time: 0.7487719058990479\n",
      "     2    -1.589538e+00     2.251019e+00\n",
      " * time: 0.771824836730957\n",
      "     3    -3.868164e+00     1.965930e+00\n",
      " * time: 0.8046817779541016\n",
      "     4    -5.036559e+00     1.691528e+00\n",
      " * time: 0.8375508785247803\n",
      "     5    -6.868612e+00     1.013069e+00\n",
      " * time: 0.8704788684844971\n",
      "     6    -7.505920e+00     4.842897e-01\n",
      " * time: 0.9037399291992188\n",
      "     7    -7.712201e+00     1.629385e-01\n",
      " * time: 0.9267477989196777\n",
      "     8    -7.788790e+00     1.893895e-01\n",
      " * time: 0.9499619007110596\n",
      "     9    -7.825465e+00     6.750482e-02\n",
      " * time: 0.9731488227844238\n",
      "    10    -7.838379e+00     5.507646e-02\n",
      " * time: 0.9964158535003662\n",
      "    11    -7.843108e+00     5.387135e-02\n",
      " * time: 1.0196897983551025\n",
      "    12    -7.844606e+00     5.398411e-02\n",
      " * time: 1.0429978370666504\n",
      "    13    -7.846563e+00     3.791053e-02\n",
      " * time: 1.066438913345337\n",
      "    14    -7.849482e+00     2.700876e-02\n",
      " * time: 1.0897128582000732\n",
      "    15    -7.851323e+00     1.712009e-02\n",
      " * time: 1.113318920135498\n",
      "    16    -7.852204e+00     9.951977e-03\n",
      " * time: 1.136488914489746\n",
      "    17    -7.852534e+00     4.104961e-03\n",
      " * time: 1.1598320007324219\n",
      "    18    -7.852609e+00     2.583064e-03\n",
      " * time: 1.1836137771606445\n",
      "    19    -7.852633e+00     1.490525e-03\n",
      " * time: 1.2071027755737305\n",
      "    20    -7.852642e+00     8.811996e-04\n",
      " * time: 1.2302939891815186\n",
      "    21    -7.852645e+00     5.128790e-04\n",
      " * time: 1.2534899711608887\n",
      "    22    -7.852646e+00     2.479060e-04\n",
      " * time: 1.2767598628997803\n",
      "    23    -7.852647e+00     1.284007e-04\n",
      " * time: 1.3002548217773438\n",
      "    24    -7.852647e+00     9.074619e-05\n",
      " * time: 1.3238449096679688\n",
      "    25    -7.852647e+00     3.917593e-05\n",
      " * time: 1.3475029468536377\n",
      "    26    -7.852647e+00     2.653103e-05\n",
      " * time: 1.371358871459961\n",
      "    27    -7.852647e+00     1.835258e-05\n",
      " * time: 1.395171880722046\n",
      "    28    -7.852647e+00     1.028413e-05\n",
      " * time: 1.4187839031219482\n",
      "    29    -7.852647e+00     5.625590e-06\n",
      " * time: 1.4421448707580566\n",
      "    30    -7.852647e+00     4.283885e-06\n",
      " * time: 1.4654109477996826\n",
      "    31    -7.852647e+00     2.102622e-06\n",
      " * time: 1.4885039329528809\n",
      "    32    -7.852647e+00     8.289637e-07\n",
      " * time: 1.5116899013519287\n",
      "    33    -7.852647e+00     6.398764e-07\n",
      " * time: 1.5348589420318604\n",
      "    34    -7.852647e+00     3.947217e-07\n",
      " * time: 1.5580558776855469\n",
      "    35    -7.852647e+00     1.864581e-07\n",
      " * time: 1.5813357830047607\n",
      "    36    -7.852647e+00     9.493208e-08\n",
      " * time: 1.6047148704528809\n",
      "    37    -7.852647e+00     5.810292e-08\n",
      " * time: 1.6281559467315674\n",
      "    38    -7.852647e+00     3.548268e-08\n",
      " * time: 1.651479959487915\n",
      "    39    -7.852647e+00     1.907933e-08\n",
      " * time: 1.6747767925262451\n",
      "    40    -7.852647e+00     1.042050e-08\n",
      " * time: 1.6984407901763916\n",
      "    41    -7.852647e+00     8.454802e-09\n",
      " * time: 1.7320809364318848\n",
      "    42    -7.852647e+00     8.448009e-09\n",
      " * time: 1.7955458164215088\n",
      "    43    -7.852647e+00     8.442760e-09\n",
      " * time: 1.8591609001159668\n",
      "    44    -7.852647e+00     1.680765e-09\n",
      " * time: 1.8826239109039307\n"
     ]
    }
   ],
   "cell_type": "code",
   "source": [
    "scfres_dm = direct_minimization(basis; tol=tol^2);"
   ],
   "metadata": {},
   "execution_count": 4
  },
  {
   "cell_type": "markdown",
   "source": [
    "## Newton algorithm"
   ],
   "metadata": {}
  },
  {
   "cell_type": "markdown",
   "source": [
    "Start not too far from the solution to ensure convergence:\n",
    "We run first a very crude SCF to get close and then switch to Newton."
   ],
   "metadata": {}
  },
  {
   "outputs": [
    {
     "name": "stdout",
     "output_type": "stream",
     "text": [
      "n     Energy            log10(ΔE)   log10(Δρ)   Diag   Δtime\n",
      "---   ---------------   ---------   ---------   ----   ------\n",
      "  1   -7.846939022233                   -0.70    4.5         \n"
     ]
    }
   ],
   "cell_type": "code",
   "source": [
    "scfres_start = self_consistent_field(basis; tol=0.5);"
   ],
   "metadata": {},
   "execution_count": 5
  },
  {
   "cell_type": "markdown",
   "source": [
    "Remove the virtual orbitals (which Newton cannot treat yet)"
   ],
   "metadata": {}
  },
  {
   "outputs": [
    {
     "name": "stdout",
     "output_type": "stream",
     "text": [
      "n     Energy            log10(ΔE)   log10(Δρ)   Δtime\n",
      "---   ---------------   ---------   ---------   ------\n",
      "  1   -7.852645941520                   -1.64         \n",
      "  2   -7.852646686730       -6.13       -3.71    2.30s\n",
      "  3   -7.852646686730      -13.36       -7.27    127ms\n"
     ]
    }
   ],
   "cell_type": "code",
   "source": [
    "ψ = DFTK.select_occupied_orbitals(basis, scfres_start.ψ, scfres_start.occupation).ψ\n",
    "scfres_newton = newton(basis, ψ; tol);"
   ],
   "metadata": {},
   "execution_count": 6
  },
  {
   "cell_type": "markdown",
   "source": [
    "## Comparison of results"
   ],
   "metadata": {}
  },
  {
   "outputs": [
    {
     "name": "stdout",
     "output_type": "stream",
     "text": [
      "|ρ_newton - ρ_scf|  = 1.2546271372765062e-7\n",
      "|ρ_newton - ρ_scfv| = 1.1307107299869511e-7\n",
      "|ρ_newton - ρ_dm|   = 1.3063831290243122e-9\n"
     ]
    }
   ],
   "cell_type": "code",
   "source": [
    "println(\"|ρ_newton - ρ_scf|  = \", norm(scfres_newton.ρ - scfres_scf.ρ))\n",
    "println(\"|ρ_newton - ρ_scfv| = \", norm(scfres_newton.ρ - scfres_scfv.ρ))\n",
    "println(\"|ρ_newton - ρ_dm|   = \", norm(scfres_newton.ρ - scfres_dm.ρ))"
   ],
   "metadata": {},
   "execution_count": 7
  }
 ],
 "nbformat_minor": 3,
 "metadata": {
  "language_info": {
   "file_extension": ".jl",
   "mimetype": "application/julia",
   "name": "julia",
   "version": "1.8.5"
  },
  "kernelspec": {
   "name": "julia-1.8",
   "display_name": "Julia 1.8.5",
   "language": "julia"
  }
 },
 "nbformat": 4
}
