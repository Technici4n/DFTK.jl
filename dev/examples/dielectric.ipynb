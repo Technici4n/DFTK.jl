{
 "cells": [
  {
   "cell_type": "markdown",
   "source": [
    "# Eigenvalues of the dielectric matrix\n",
    "\n",
    "We compute a few eigenvalues of the dielectric matrix ($q=0$, $ω=0$) iteratively."
   ],
   "metadata": {}
  },
  {
   "outputs": [
    {
     "name": "stdout",
     "output_type": "stream",
     "text": [
      "n     Energy            log10(ΔE)   log10(Δρ)   Diag\n",
      "---   ---------------   ---------   ---------   ----\n",
      "  1   -7.234942690399                   -0.50    7.0\n",
      "  2   -7.250214010614       -1.82       -1.40    1.0\n",
      "  3   -7.251235776830       -2.99       -2.01    4.0\n",
      "  4   -7.251098626927   +   -3.86       -1.97    4.0\n",
      "  5   -7.251327390519       -3.64       -2.63    4.0\n",
      "  6   -7.251337908327       -4.98       -3.11    3.0\n",
      "  7   -7.251338791186       -6.05       -4.12    3.0\n",
      "  8   -7.251338795461       -8.37       -4.28    4.0\n",
      "  9   -7.251338798602       -8.50       -4.89    3.0\n",
      " 10   -7.251338798662      -10.22       -5.19    1.0\n",
      " 11   -7.251338798703      -10.39       -5.90    3.0\n",
      " 12   -7.251338798704      -11.85       -6.33    2.0\n",
      " 13   -7.251338798705      -12.68       -6.82    4.0\n",
      " 14   -7.251338798705      -13.65       -7.33    2.0\n",
      " 15   -7.251338798705      -15.05       -7.73    2.0\n"
     ]
    }
   ],
   "cell_type": "code",
   "source": [
    "using DFTK\n",
    "using Plots\n",
    "using KrylovKit\n",
    "using Printf\n",
    "\n",
    "# Calculation parameters\n",
    "kgrid = [1, 1, 1]\n",
    "Ecut = 5\n",
    "\n",
    "# Silicon lattice\n",
    "a = 10.26\n",
    "lattice = a / 2 .* [[0 1 1.]; [1 0 1.]; [1 1 0.]]\n",
    "Si = ElementPsp(:Si, psp=load_psp(\"hgh/lda/Si-q4\"))\n",
    "atoms     = [Si, Si]\n",
    "positions = [ones(3)/8, -ones(3)/8]\n",
    "\n",
    "# Compute the dielectric operator without symmetries\n",
    "model = model_LDA(lattice, atoms, positions, symmetries=false)\n",
    "basis = PlaneWaveBasis(model; Ecut, kgrid)\n",
    "scfres = self_consistent_field(basis, tol=1e-14);"
   ],
   "metadata": {},
   "execution_count": 1
  },
  {
   "cell_type": "markdown",
   "source": [
    "Applying $ε^† ≔ (1- χ_0 K)$ …"
   ],
   "metadata": {}
  },
  {
   "outputs": [],
   "cell_type": "code",
   "source": [
    "function eps_fun(δρ)\n",
    "    δV = apply_kernel(basis, δρ; ρ=scfres.ρ)\n",
    "    χ0δV = apply_χ0(scfres, δV)\n",
    "    δρ - χ0δV\n",
    "end;"
   ],
   "metadata": {},
   "execution_count": 2
  },
  {
   "cell_type": "markdown",
   "source": [
    "… eagerly diagonalizes the subspace matrix at each iteration"
   ],
   "metadata": {}
  },
  {
   "outputs": [
    {
     "name": "stdout",
     "output_type": "stream",
     "text": [
      "[ Info: Arnoldi iteration step 1: normres = 0.07248379398601269\n",
      "[ Info: Arnoldi iteration step 2: normres = 0.4152047750152431\n",
      "[ Info: Arnoldi iteration step 3: normres = 0.9539720357542801\n",
      "[ Info: Arnoldi iteration step 4: normres = 0.26896664513073965\n",
      "[ Info: Arnoldi iteration step 5: normres = 0.6353109603879212\n",
      "[ Info: Arnoldi schursolve in iter 1, krylovdim = 5: 0 values converged, normres = (4.97e-02, 8.68e-02, 5.86e-01, 2.24e-01, 1.65e-02)\n",
      "[ Info: Arnoldi iteration step 6: normres = 0.21967851110237588\n",
      "[ Info: Arnoldi schursolve in iter 1, krylovdim = 6: 0 values converged, normres = (8.59e-03, 1.28e-01, 1.10e-01, 1.11e-01, 7.94e-02)\n",
      "[ Info: Arnoldi iteration step 7: normres = 0.07172060502561016\n",
      "[ Info: Arnoldi schursolve in iter 1, krylovdim = 7: 0 values converged, normres = (2.91e-04, 8.18e-03, 5.74e-03, 3.84e-02, 4.95e-02)\n",
      "[ Info: Arnoldi iteration step 8: normres = 0.11253190267360703\n",
      "[ Info: Arnoldi schursolve in iter 1, krylovdim = 8: 0 values converged, normres = (1.39e-05, 6.34e-04, 4.97e-04, 1.21e-02, 3.63e-02)\n",
      "[ Info: Arnoldi iteration step 9: normres = 0.05791458382470061\n",
      "[ Info: Arnoldi schursolve in iter 1, krylovdim = 9: 0 values converged, normres = (3.50e-07, 2.65e-05, 2.31e-05, 2.56e-03, 2.99e-02)\n",
      "[ Info: Arnoldi iteration step 10: normres = 0.11024925789777755\n",
      "[ Info: Arnoldi schursolve in iter 1, krylovdim = 10: 0 values converged, normres = (1.69e-08, 2.12e-06, 2.06e-06, 1.02e-03, 3.76e-02)\n",
      "[ Info: Arnoldi iteration step 11: normres = 0.09744914179305156\n",
      "[ Info: Arnoldi schursolve in iter 1, krylovdim = 11: 0 values converged, normres = (7.17e-10, 1.49e-07, 1.61e-07, 3.59e-04, 4.21e-02)\n",
      "[ Info: Arnoldi iteration step 12: normres = 0.06944093622235052\n",
      "[ Info: Arnoldi schursolve in iter 1, krylovdim = 12: 0 values converged, normres = (2.16e-11, 7.41e-09, 8.89e-09, 9.07e-05, 2.50e-02)\n",
      "[ Info: Arnoldi iteration step 13: normres = 0.07745260092284005\n",
      "[ Info: Arnoldi schursolve in iter 1, krylovdim = 13: 1 values converged, normres = (7.13e-13, 3.99e-10, 5.31e-10, 2.10e-05, 1.07e-02)\n",
      "[ Info: Arnoldi iteration step 14: normres = 0.49854759690614114\n",
      "[ Info: Arnoldi schursolve in iter 1, krylovdim = 14: 1 values converged, normres = (2.89e-13, 6.17e-10, 1.45e-09, 4.93e-01, 1.10e-02)\n",
      "[ Info: Arnoldi iteration step 15: normres = 0.040394439932523486\n",
      "[ Info: Arnoldi schursolve in iter 1, krylovdim = 15: 1 values converged, normres = (5.64e-15, 3.80e-11, 1.51e-02, 3.06e-03, 1.09e-06)\n",
      "[ Info: Arnoldi iteration step 16: normres = 0.6299475859286747\n",
      "[ Info: Arnoldi schursolve in iter 1, krylovdim = 16: 1 values converged, normres = (2.71e-15, 5.93e-11, 3.49e-02, 8.00e-03, 6.26e-01)\n",
      "[ Info: Arnoldi iteration step 17: normres = 0.03599972013538676\n",
      "[ Info: Arnoldi schursolve in iter 1, krylovdim = 17: 1 values converged, normres = (5.83e-17, 1.23e-02, 1.27e-02, 7.37e-05, 1.82e-03)\n",
      "[ Info: Arnoldi iteration step 18: normres = 0.024761625796481508\n",
      "[ Info: Arnoldi schursolve in iter 1, krylovdim = 18: 1 values converged, normres = (6.00e-19, 2.90e-04, 2.21e-05, 5.11e-06, 3.28e-05)\n",
      "[ Info: Arnoldi iteration step 19: normres = 0.21496610628913662\n",
      "[ Info: Arnoldi schursolve in iter 1, krylovdim = 19: 1 values converged, normres = (5.82e-20, 8.33e-10, 4.78e-05, 4.67e-08, 6.11e-06)\n",
      "[ Info: Arnoldi iteration step 20: normres = 0.03545241111712457\n",
      "[ Info: Arnoldi schursolve in iter 1, krylovdim = 20: 1 values converged, normres = (9.41e-22, 1.31e-06, 2.62e-07, 1.86e-07, 4.99e-08)\n",
      "[ Info: Arnoldi iteration step 21: normres = 0.028637132499554924\n",
      "[ Info: Arnoldi schursolve in iter 1, krylovdim = 21: 1 values converged, normres = (1.12e-23, 5.72e-10, 2.56e-08, 1.72e-09, 3.68e-09)\n",
      "[ Info: Arnoldi iteration step 22: normres = 0.0439009972561706\n",
      "[ Info: Arnoldi schursolve in iter 1, krylovdim = 22: 1 values converged, normres = (2.03e-25, 2.98e-11, 7.38e-10, 6.07e-11, 1.14e-10)\n",
      "[ Info: Arnoldi iteration step 23: normres = 0.5808010363174487\n",
      "[ Info: Arnoldi schursolve in iter 1, krylovdim = 23: 1 values converged, normres = (8.68e-26, 4.01e-11, 9.51e-10, 1.13e-10, 2.13e-10)\n",
      "[ Info: Arnoldi iteration step 24: normres = 0.017359624633235746\n",
      "[ Info: Arnoldi schursolve in iter 1, krylovdim = 24: 1 values converged, normres = (7.99e-28, 1.41e-12, 3.46e-11, 3.32e-09, 9.45e-09)\n",
      "[ Info: Arnoldi iteration step 25: normres = 0.05238442489180534\n",
      "[ Info: Arnoldi schursolve in iter 1, krylovdim = 25: 2 values converged, normres = (1.72e-29, 4.84e-14, 1.19e-12, 3.84e-09, 7.25e-09)\n",
      "[ Info: Arnoldi iteration step 26: normres = 0.06978586933705805\n",
      "[ Info: Arnoldi schursolve in iter 1, krylovdim = 26: 3 values converged, normres = (5.40e-31, 2.57e-15, 6.30e-14, 5.76e-06, 1.55e-05)\n",
      "[ Info: Arnoldi iteration step 27: normres = 0.040098903009357305\n",
      "[ Info: Arnoldi schursolve in iter 1, krylovdim = 27: 3 values converged, normres = (8.98e-33, 6.84e-17, 1.68e-15, 2.17e-07, 1.11e-08)\n",
      "[ Info: Arnoldi iteration step 28: normres = 0.08875760056656568\n",
      "[ Info: Arnoldi schursolve in iter 1, krylovdim = 28: 3 values converged, normres = (3.52e-34, 4.46e-18, 1.10e-16, 2.47e-09, 1.93e-08)\n",
      "[ Info: Arnoldi iteration step 29: normres = 0.19177623128727006\n",
      "[ Info: Arnoldi schursolve in iter 1, krylovdim = 29: 3 values converged, normres = (2.96e-35, 6.25e-19, 1.53e-17, 2.34e-09, 5.55e-09)\n",
      "[ Info: Arnoldi iteration step 30: normres = 0.026728770525945047\n",
      "[ Info: Arnoldi schursolve in iter 1, krylovdim = 30: 3 values converged, normres = (3.74e-37, 1.39e-20, 3.41e-19, 4.17e-11, 1.41e-10)\n",
      "[ Info: Arnoldi schursolve in iter 2, krylovdim = 19: 3 values converged, normres = (3.87e-37, 1.39e-20, 3.41e-19, 4.17e-11, 1.41e-10)\n",
      "[ Info: Arnoldi iteration step 20: normres = 0.028679213917334894\n",
      "[ Info: Arnoldi schursolve in iter 2, krylovdim = 20: 4 values converged, normres = (4.41e-39, 2.62e-22, 6.42e-21, 8.66e-13, 2.91e-12)\n",
      "[ Info: Arnoldi iteration step 21: normres = 0.07987652225060829\n",
      "┌ Info: Arnoldi eigsolve finished after 2 iterations:\n",
      "│ *  6 eigenvalues converged\n",
      "│ *  norm of residuals = (1.490967662859498e-40, 1.4357760485278012e-23, 3.333246340258897e-22, 5.2580267549638423e-14, 1.4401920488188471e-13, 1.4484021892434657e-14)\n",
      "└ *  number of operations = 32\n"
     ]
    }
   ],
   "cell_type": "code",
   "source": [
    "eigsolve(eps_fun, randn(size(scfres.ρ)), 5, :LM; eager=true, verbosity=3);"
   ],
   "metadata": {},
   "execution_count": 3
  }
 ],
 "nbformat_minor": 3,
 "metadata": {
  "language_info": {
   "file_extension": ".jl",
   "mimetype": "application/julia",
   "name": "julia",
   "version": "1.8.2"
  },
  "kernelspec": {
   "name": "julia-1.8",
   "display_name": "Julia 1.8.2",
   "language": "julia"
  }
 },
 "nbformat": 4
}
