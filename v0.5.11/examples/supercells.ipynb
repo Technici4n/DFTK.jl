{
 "cells": [
  {
   "cell_type": "markdown",
   "source": [
    "# Creating and modelling metallic supercells\n",
    "\n",
    "In this section we will be concerned with modelling supercells of aluminium.\n",
    "When dealing with periodic problems there is no unique definition of the\n",
    "lattice: Clearly any duplication of the lattice along an axis is also a valid\n",
    "repetitive unit to describe exactly the same system.\n",
    "This is exactly what a **supercell** is: An $n$-fold repetition along one of the\n",
    "axes of the original lattice.\n",
    "\n",
    "The following code achieves this for aluminium:"
   ],
   "metadata": {}
  },
  {
   "outputs": [],
   "cell_type": "code",
   "source": [
    "using DFTK\n",
    "using LinearAlgebra\n",
    "\n",
    "function aluminium_setup(repeat=1; Ecut=7.0, kgrid=[2, 2, 2])\n",
    "    a = 7.65339\n",
    "    lattice = a * Matrix(I, 3, 3)\n",
    "    Al = ElementPsp(:Al, psp=load_psp(\"hgh/lda/al-q3\"))\n",
    "    atoms     = [Al, Al, Al, Al]\n",
    "    positions = [[0.0, 0.0, 0.0], [0.0, 0.5, 0.5], [0.5, 0.0, 0.5], [0.5, 0.5, 0.0]]\n",
    "\n",
    "    # Make supercell in ASE:\n",
    "    # We convert our lattice to the conventions used in ASE\n",
    "    # and then back ...\n",
    "    supercell = ase_atoms(lattice, atoms, positions) * (repeat, 1, 1)\n",
    "    lattice   = load_lattice(supercell)\n",
    "    positions = load_positions(supercell)\n",
    "    atoms = fill(Al, length(positions))\n",
    "\n",
    "    # Construct an LDA model and discretise\n",
    "    # Note: We disable symmetries explicitly here. Otherwise the problem sizes\n",
    "    #       we are able to run on the CI are too simple to observe the numerical\n",
    "    #       instabilities we want to trigger here.\n",
    "    model = model_LDA(lattice, atoms, positions; temperature=1e-3, symmetries=false)\n",
    "    PlaneWaveBasis(model; Ecut, kgrid)\n",
    "end;"
   ],
   "metadata": {},
   "execution_count": 1
  },
  {
   "cell_type": "markdown",
   "source": [
    "As part of the code we are using a routine inside the ASE,\n",
    "the [atomistic simulation environment](https://wiki.fysik.dtu.dk/ase/index.html)\n",
    "for creating the supercell and make use of the two-way interoperability of\n",
    "DFTK and ASE. For more details on this aspect see the documentation\n",
    "on Input and output formats."
   ],
   "metadata": {}
  },
  {
   "cell_type": "markdown",
   "source": [
    "Write an example supercell structure to a file to plot it:"
   ],
   "metadata": {}
  },
  {
   "outputs": [],
   "cell_type": "code",
   "source": [
    "setup = aluminium_setup(5)\n",
    "ase_atoms(setup.model).write(\"al_supercell.png\")"
   ],
   "metadata": {},
   "execution_count": 2
  },
  {
   "cell_type": "markdown",
   "source": [
    "<img src=\"https://docs.dftk.org/stable/examples/al_supercell.png\" width=500 height=500 />"
   ],
   "metadata": {}
  },
  {
   "cell_type": "markdown",
   "source": [
    "As we will see in this notebook the modelling of a system generally becomes\n",
    "harder if the system becomes larger.\n",
    "\n",
    "- This sounds like a trivial statement as *per se* the cost per SCF step increases\n",
    "  as the system (and thus $N$) gets larger.\n",
    "- But there is more to it:\n",
    "  If one is not careful also the *number of SCF iterations* increases\n",
    "  as the system gets larger.\n",
    "- The aim of a proper computational treatment of such supercells is therefore\n",
    "  to ensure that the **number of SCF iterations remains constant** when the\n",
    "  system size increases."
   ],
   "metadata": {}
  },
  {
   "cell_type": "markdown",
   "source": [
    "For achieving the latter DFTK by default employs the `LdosMixing`\n",
    "preconditioner [^HL2021] during the SCF iterations. This mixing approach is\n",
    "completely parameter free, but still automatically adapts to the treated\n",
    "system in order to efficiently prevent charge sloshing. As a result,\n",
    "modelling aluminium slabs indeed takes roughly the same number of SCF iterations\n",
    "irrespective of the supercell size:\n",
    "\n",
    "[^HL2021]:\n",
    "   M. F. Herbst and A. Levitt.\n",
    "   *Black-box inhomogeneous preconditioning for self-consistent field iterations in density functional theory.*\n",
    "   J. Phys. Cond. Matt *33* 085503 (2021). [ArXiv:2009.01665](https://arxiv.org/abs/2009.01665)"
   ],
   "metadata": {}
  },
  {
   "outputs": [
    {
     "name": "stdout",
     "output_type": "stream",
     "text": [
      "n     Energy            log10(ΔE)   log10(Δρ)   Diag\n",
      "---   ---------------   ---------   ---------   ----\n",
      "  1   -8.298342155082                   -0.85    5.0\n",
      "  2   -8.300167919753       -2.74       -1.26    1.1\n",
      "  3   -8.300445200710       -3.56       -1.89    2.5\n",
      "  4   -8.300462335916       -4.77       -2.76    2.6\n",
      "  5   -8.300464163726       -5.74       -3.04   10.5\n",
      "  6   -8.300464375499       -6.67       -3.19    2.0\n",
      "  7   -8.300464507954       -6.88       -3.32    1.6\n",
      "  8   -8.300464573601       -7.18       -3.44    1.1\n",
      "  9   -8.300464627946       -7.26       -3.66    1.0\n",
      " 10   -8.300464636228       -8.08       -3.79    1.0\n",
      " 11   -8.300464642245       -8.22       -4.00    2.0\n"
     ]
    }
   ],
   "cell_type": "code",
   "source": [
    "is_converged = DFTK.ScfConvergenceDensity(1e-4)  # Flag convergence based on density\n",
    "self_consistent_field(aluminium_setup(1); is_converged);"
   ],
   "metadata": {},
   "execution_count": 3
  },
  {
   "outputs": [
    {
     "name": "stdout",
     "output_type": "stream",
     "text": [
      "n     Energy            log10(ΔE)   log10(Δρ)   Diag\n",
      "---   ---------------   ---------   ---------   ----\n",
      "  1   -16.67458014973                   -0.70    6.1\n",
      "  2   -16.67869280855       -2.39       -1.14    1.0\n",
      "  3   -16.67922492415       -3.27       -1.87    3.9\n",
      "  4   -16.67928228106       -4.24       -2.78    3.6\n",
      "  5   -16.67928611688       -5.42       -3.22    4.9\n",
      "  6   -16.67928621144       -7.02       -3.51    3.1\n",
      "  7   -16.67928622111       -8.01       -3.96    1.0\n",
      "  8   -16.67928622415       -8.52       -4.59    1.0\n"
     ]
    }
   ],
   "cell_type": "code",
   "source": [
    "self_consistent_field(aluminium_setup(2); is_converged);"
   ],
   "metadata": {},
   "execution_count": 4
  },
  {
   "outputs": [
    {
     "name": "stdout",
     "output_type": "stream",
     "text": [
      "n     Energy            log10(ΔE)   log10(Δρ)   Diag\n",
      "---   ---------------   ---------   ---------   ----\n",
      "  1   -33.32548076191                   -0.56    7.1\n",
      "  2   -33.33274510159       -2.14       -1.00    1.0\n",
      "  3   -33.33413774011       -2.86       -1.74    5.4\n",
      "  4   -33.33428105764       -3.84       -2.64    3.8\n",
      "  5   -33.33694326948       -2.57       -2.52    9.4\n",
      "  6   -33.33694357528       -6.51       -2.52    5.0\n",
      "  7   -33.33694121990   +   -5.63       -2.56    3.6\n",
      "  8   -33.33686710745   +   -4.13       -2.63    1.6\n",
      "  9   -33.33687542933       -5.08       -2.68    1.0\n",
      " 10   -33.33688832819       -4.89       -2.73    1.0\n",
      " 11   -33.33690233922       -4.85       -2.79    1.0\n",
      " 12   -33.33692428195       -4.66       -2.94    1.6\n",
      " 13   -33.33693365689       -5.03       -3.10    2.1\n",
      " 14   -33.33693826025       -5.34       -3.24    2.5\n",
      " 15   -33.33694259873       -5.36       -3.58    4.2\n",
      " 16   -33.33694384052       -5.91       -4.25    3.0\n"
     ]
    }
   ],
   "cell_type": "code",
   "source": [
    "self_consistent_field(aluminium_setup(4); is_converged);"
   ],
   "metadata": {},
   "execution_count": 5
  },
  {
   "cell_type": "markdown",
   "source": [
    "When switching off explicitly the `LdosMixing`, by selecting `mixing=SimpleMixing()`,\n",
    "the performance of number of required SCF steps starts to increase as we increase\n",
    "the size of the modelled problem:"
   ],
   "metadata": {}
  },
  {
   "outputs": [
    {
     "name": "stdout",
     "output_type": "stream",
     "text": [
      "n     Energy            log10(ΔE)   log10(Δρ)   Diag\n",
      "---   ---------------   ---------   ---------   ----\n",
      "  1   -8.298313816763                   -0.85    5.2\n",
      "  2   -8.300232995295       -2.72       -1.58    1.0\n",
      "  3   -8.300360111622       -3.90       -2.22    4.1\n",
      "  4   -8.300312563016   +   -4.32       -2.16    7.2\n",
      "  5   -8.300464207075       -3.82       -3.60    1.4\n",
      "  6   -8.300464585635       -6.42       -3.88    4.1\n",
      "  7   -8.300464636159       -7.30       -4.28    1.9\n"
     ]
    }
   ],
   "cell_type": "code",
   "source": [
    "self_consistent_field(aluminium_setup(1); is_converged, mixing=SimpleMixing());"
   ],
   "metadata": {},
   "execution_count": 6
  },
  {
   "outputs": [
    {
     "name": "stdout",
     "output_type": "stream",
     "text": [
      "n     Energy            log10(ΔE)   log10(Δρ)   Diag\n",
      "---   ---------------   ---------   ---------   ----\n",
      "  1   -33.31924148135                   -0.56    7.0\n",
      "  2   -33.32257553954       -2.48       -1.28    1.1\n",
      "  3   -26.39884975302   +    0.84       -0.65    7.8\n",
      "  4   -33.18543016090        0.83       -1.45    6.1\n",
      "  5   -33.28974247072       -0.98       -1.42    3.6\n",
      "  6   -33.27593747069   +   -1.86       -1.64    3.8\n",
      "  7   -32.66570356116   +   -0.21       -1.15    5.0\n",
      "  8   -33.33456698749       -0.17       -2.26    5.1\n",
      "  9   -33.33286866515   +   -2.77       -2.07    2.9\n",
      " 10   -33.33654111313       -2.44       -2.51    2.6\n",
      " 11   -33.33667399446       -3.88       -2.80    2.0\n",
      " 12   -33.33688724262       -3.67       -3.11    2.8\n",
      " 13   -33.33692783215       -4.39       -3.35    2.9\n",
      " 14   -33.33693830075       -4.98       -3.55    2.5\n",
      " 15   -33.33693291024   +   -5.27       -3.53    4.4\n",
      " 16   -33.33694332226       -4.98       -4.15    3.1\n"
     ]
    }
   ],
   "cell_type": "code",
   "source": [
    "self_consistent_field(aluminium_setup(4); is_converged, mixing=SimpleMixing());"
   ],
   "metadata": {},
   "execution_count": 7
  },
  {
   "cell_type": "markdown",
   "source": [
    "For completion let us note that the more traditional `mixing=KerkerMixing()`\n",
    "approach would also help in this particular setting to obtain a constant\n",
    "number of SCF iterations for an increasing system size (try it!). In contrast\n",
    "to `LdosMixing`, however, `KerkerMixing` is only suitable to model bulk metallic\n",
    "system (like the case we are considering here). When modelling metallic surfaces\n",
    "or mixtures of metals and insulators, `KerkerMixing` fails, while `LdosMixing`\n",
    "still works well. See the Modelling a gallium arsenide surface example\n",
    "or [^HL2021] for details. Due to the general applicability of `LdosMixing` this\n",
    "method is the default mixing approach in DFTK."
   ],
   "metadata": {}
  }
 ],
 "nbformat_minor": 3,
 "metadata": {
  "language_info": {
   "file_extension": ".jl",
   "mimetype": "application/julia",
   "name": "julia",
   "version": "1.8.2"
  },
  "kernelspec": {
   "name": "julia-1.8",
   "display_name": "Julia 1.8.2",
   "language": "julia"
  }
 },
 "nbformat": 4
}
