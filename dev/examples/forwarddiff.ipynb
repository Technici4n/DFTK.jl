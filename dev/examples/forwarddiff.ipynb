{
 "cells": [
  {
   "cell_type": "markdown",
   "source": [
    "# Polarizability using automatic differentiation\n",
    "\n",
    "Simple example for computing properties using (forward-mode)\n",
    "automatic differentiation.\n",
    "For a more classical approach and more details about computing polarizabilities,\n",
    "see Polarizability by linear response."
   ],
   "metadata": {}
  },
  {
   "outputs": [],
   "cell_type": "code",
   "source": [
    "using DFTK\n",
    "using LinearAlgebra\n",
    "using ForwardDiff\n",
    "\n",
    "# Construct PlaneWaveBasis given a particular electric field strength\n",
    "# Again we take the example of a Helium atom.\n",
    "function make_basis(ε::T; a=10., Ecut=30) where {T}\n",
    "    lattice=T(a) * I(3)  # lattice is a cube of $a$ Bohrs\n",
    "    # Helium at the center of the box\n",
    "    atoms     = [ElementPsp(:He, psp=load_psp(\"hgh/lda/He-q2\"))]\n",
    "    positions = [[1/2, 1/2, 1/2]]\n",
    "\n",
    "    model = model_DFT(lattice, atoms, positions, [:lda_x, :lda_c_vwn];\n",
    "                      extra_terms=[ExternalFromReal(r -> -ε * (r[1] - a/2))],\n",
    "                      symmetries=false)\n",
    "    PlaneWaveBasis(model; Ecut, kgrid=[1, 1, 1])  # No k-point sampling on isolated system\n",
    "end\n",
    "\n",
    "# dipole moment of a given density (assuming the current geometry)\n",
    "function dipole(basis, ρ)\n",
    "    @assert isdiag(basis.model.lattice)\n",
    "    a  = basis.model.lattice[1, 1]\n",
    "    rr = [a * (r[1] - 1/2) for r in r_vectors(basis)]\n",
    "    sum(rr .* ρ) * basis.dvol\n",
    "end\n",
    "\n",
    "# Function to compute the dipole for a given field strength\n",
    "function compute_dipole(ε; tol=1e-8, kwargs...)\n",
    "    scfres = self_consistent_field(make_basis(ε; kwargs...); tol)\n",
    "    dipole(scfres.basis, scfres.ρ)\n",
    "end;"
   ],
   "metadata": {},
   "execution_count": 1
  },
  {
   "cell_type": "markdown",
   "source": [
    "With this in place we can compute the polarizability from finite differences\n",
    "(just like in the previous example):"
   ],
   "metadata": {}
  },
  {
   "outputs": [
    {
     "name": "stdout",
     "output_type": "stream",
     "text": [
      "n     Energy            log10(ΔE)   log10(Δρ)   Diag   Δtime\n",
      "---   ---------------   ---------   ---------   ----   ------\n",
      "  1   -2.770691488123                   -0.53    8.0         \n",
      "  2   -2.772133317956       -2.84       -1.30    1.0    171ms\n",
      "  3   -2.772169216987       -4.44       -2.65    1.0    215ms\n",
      "  4   -2.772170719038       -5.82       -3.90    2.0    203ms\n",
      "  5   -2.772170722797       -8.42       -4.42    2.0    239ms\n",
      "  6   -2.772170723007       -9.68       -5.49    1.0    191ms\n",
      "  7   -2.772170723015      -11.10       -5.96    2.0    214ms\n",
      "  8   -2.772170723015      -12.83       -6.65    2.0    263ms\n",
      "  9   -2.772170723015      -14.24       -7.51    1.0    218ms\n",
      " 10   -2.772170723015   +    -Inf       -8.33    2.0    255ms\n",
      "n     Energy            log10(ΔE)   log10(Δρ)   Diag   Δtime\n",
      "---   ---------------   ---------   ---------   ----   ------\n",
      "  1   -2.770779647124                   -0.52    9.0         \n",
      "  2   -2.772060093959       -2.89       -1.32    1.0    217ms\n",
      "  3   -2.772082964553       -4.64       -2.43    1.0    178ms\n",
      "  4   -2.772083331734       -6.44       -3.11    1.0    185ms\n",
      "  5   -2.772083417556       -7.07       -4.27    2.0    243ms\n",
      "  6   -2.772083417722       -9.78       -4.56    1.0    189ms\n",
      "  7   -2.772083417808      -10.07       -5.73    1.0    184ms\n",
      "  8   -2.772083417811      -11.59       -6.12    2.0    244ms\n",
      "  9   -2.772083417811      -14.35       -6.41    1.0    202ms\n",
      " 10   -2.772083417811      -13.39       -7.98    1.0    214ms\n",
      " 11   -2.772083417811      -14.65       -8.02    2.0    224ms\n"
     ]
    },
    {
     "output_type": "execute_result",
     "data": {
      "text/plain": "1.7735580620102331"
     },
     "metadata": {},
     "execution_count": 2
    }
   ],
   "cell_type": "code",
   "source": [
    "polarizability_fd = let\n",
    "    ε = 0.01\n",
    "    (compute_dipole(ε) - compute_dipole(0.0)) / ε\n",
    "end"
   ],
   "metadata": {},
   "execution_count": 2
  },
  {
   "cell_type": "markdown",
   "source": [
    "We do the same thing using automatic differentiation. Under the hood this uses\n",
    "custom rules to implicitly differentiate through the self-consistent\n",
    "field fixed-point problem."
   ],
   "metadata": {}
  },
  {
   "outputs": [
    {
     "name": "stdout",
     "output_type": "stream",
     "text": [
      "n     Energy            log10(ΔE)   log10(Δρ)   Diag   Δtime\n",
      "---   ---------------   ---------   ---------   ----   ------\n",
      "  1   -2.770744112124                   -0.53    9.0         \n",
      "  2   -2.772053395463       -2.88       -1.30    1.0    173ms\n",
      "  3   -2.772082778211       -4.53       -2.68    1.0    228ms\n",
      "  4   -2.772083415071       -6.20       -3.84    2.0    207ms\n",
      "  5   -2.772083417584       -8.60       -4.35    2.0    200ms\n",
      "  6   -2.772083417805       -9.65       -5.74    1.0    239ms\n",
      "  7   -2.772083417811      -11.28       -6.03    2.0    207ms\n",
      "  8   -2.772083417811      -13.08       -6.73    1.0    187ms\n",
      "  9   -2.772083417811      -14.57       -7.43    1.0    240ms\n",
      " 10   -2.772083417811   +  -14.45       -8.34    2.0    232ms\n",
      "\n",
      "Polarizability via ForwardDiff:       1.772534983150897\n",
      "Polarizability via finite difference: 1.7735580620102331\n"
     ]
    }
   ],
   "cell_type": "code",
   "source": [
    "polarizability = ForwardDiff.derivative(compute_dipole, 0.0)\n",
    "println()\n",
    "println(\"Polarizability via ForwardDiff:       $polarizability\")\n",
    "println(\"Polarizability via finite difference: $polarizability_fd\")"
   ],
   "metadata": {},
   "execution_count": 3
  }
 ],
 "nbformat_minor": 3,
 "metadata": {
  "language_info": {
   "file_extension": ".jl",
   "mimetype": "application/julia",
   "name": "julia",
   "version": "1.8.5"
  },
  "kernelspec": {
   "name": "julia-1.8",
   "display_name": "Julia 1.8.5",
   "language": "julia"
  }
 },
 "nbformat": 4
}
