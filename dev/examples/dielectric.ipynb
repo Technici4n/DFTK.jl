{
 "cells": [
  {
   "cell_type": "markdown",
   "source": [
    "# Eigenvalues of the dielectric matrix\n",
    "\n",
    "We compute a few eigenvalues of the dielectric matrix ($q=0$, $ω=0$) iteratively."
   ],
   "metadata": {}
  },
  {
   "outputs": [
    {
     "name": "stdout",
     "output_type": "stream",
     "text": [
      "n     Energy            log10(ΔE)   log10(Δρ)   Diag\n",
      "---   ---------------   ---------   ---------   ----\n",
      "  1   -7.234468543839                   -0.50    7.0\n",
      "  2   -7.249928195512       -1.81       -1.40    1.0\n",
      "  3   -7.250944609845       -2.99       -1.79    4.0\n",
      "  4   -7.250971869290       -4.56       -1.88    2.0\n",
      "  5   -7.251323469472       -3.45       -2.55    2.0\n",
      "  6   -7.251338053750       -4.84       -3.15    2.0\n",
      "  7   -7.251338777875       -6.14       -3.84    2.0\n",
      "  8   -7.251338793906       -7.80       -4.14    3.0\n",
      "  9   -7.251338798477       -8.34       -4.77    1.0\n",
      " 10   -7.251338798686       -9.68       -5.32    2.0\n",
      " 11   -7.251338798701      -10.83       -5.81    3.0\n",
      " 12   -7.251338798704      -11.47       -6.63    3.0\n",
      " 13   -7.251338798705      -13.30       -7.15    2.0\n",
      " 14   -7.251338798705      -14.45       -7.53    2.0\n"
     ]
    }
   ],
   "cell_type": "code",
   "source": [
    "using DFTK\n",
    "using Plots\n",
    "using KrylovKit\n",
    "using Printf\n",
    "\n",
    "# Calculation parameters\n",
    "kgrid = [1, 1, 1]\n",
    "Ecut = 5\n",
    "\n",
    "# Silicon lattice\n",
    "a = 10.26\n",
    "lattice = a / 2 .* [[0 1 1.]; [1 0 1.]; [1 1 0.]]\n",
    "Si = ElementPsp(:Si, psp=load_psp(\"hgh/lda/Si-q4\"))\n",
    "atoms     = [Si, Si]\n",
    "positions = [ones(3)/8, -ones(3)/8]\n",
    "\n",
    "# Compute the dielectric operator without symmetries\n",
    "model = model_LDA(lattice, atoms, positions, symmetries=false)\n",
    "basis = PlaneWaveBasis(model; Ecut, kgrid)\n",
    "scfres = self_consistent_field(basis, tol=1e-14);"
   ],
   "metadata": {},
   "execution_count": 1
  },
  {
   "cell_type": "markdown",
   "source": [
    "Applying $ε^† ≔ (1- χ_0 K)$ …"
   ],
   "metadata": {}
  },
  {
   "outputs": [],
   "cell_type": "code",
   "source": [
    "function eps_fun(δρ)\n",
    "    δV = apply_kernel(basis, δρ; ρ=scfres.ρ)\n",
    "    χ0δV = apply_χ0(scfres, δV)\n",
    "    δρ - χ0δV\n",
    "end;"
   ],
   "metadata": {},
   "execution_count": 2
  },
  {
   "cell_type": "markdown",
   "source": [
    "… eagerly diagonalizes the subspace matrix at each iteration"
   ],
   "metadata": {}
  },
  {
   "outputs": [
    {
     "name": "stdout",
     "output_type": "stream",
     "text": [
      "[ Info: Arnoldi iteration step 1: normres = 0.07253304232137124\n",
      "[ Info: Arnoldi iteration step 2: normres = 0.4209952619330018\n",
      "[ Info: Arnoldi iteration step 3: normres = 0.9764982519798023\n",
      "[ Info: Arnoldi iteration step 4: normres = 0.30630275775698707\n",
      "[ Info: Arnoldi iteration step 5: normres = 0.4442226634871382\n",
      "[ Info: Arnoldi schursolve in iter 1, krylovdim = 5: 0 values converged, normres = (4.41e-02, 5.03e-02, 3.28e-01, 2.91e-01, 2.63e-02)\n",
      "[ Info: Arnoldi iteration step 6: normres = 0.33561805204346534\n",
      "[ Info: Arnoldi schursolve in iter 1, krylovdim = 6: 0 values converged, normres = (1.35e-02, 2.02e-01, 2.39e-01, 8.85e-02, 7.58e-02)\n",
      "[ Info: Arnoldi iteration step 7: normres = 0.07336007037857882\n",
      "[ Info: Arnoldi schursolve in iter 1, krylovdim = 7: 0 values converged, normres = (4.91e-04, 1.72e-02, 6.81e-03, 2.68e-02, 5.42e-02)\n",
      "[ Info: Arnoldi iteration step 8: normres = 0.12008079792618427\n",
      "[ Info: Arnoldi schursolve in iter 1, krylovdim = 8: 0 values converged, normres = (2.53e-05, 1.44e-03, 6.40e-04, 9.78e-03, 4.67e-02)\n",
      "[ Info: Arnoldi iteration step 9: normres = 0.06731852125130768\n",
      "[ Info: Arnoldi schursolve in iter 1, krylovdim = 9: 0 values converged, normres = (7.42e-07, 7.03e-05, 3.47e-05, 2.50e-03, 3.70e-02)\n",
      "[ Info: Arnoldi iteration step 10: normres = 0.08704954989605378\n",
      "[ Info: Arnoldi schursolve in iter 1, krylovdim = 10: 0 values converged, normres = (2.87e-08, 4.55e-06, 2.51e-06, 9.01e-04, 3.66e-02)\n",
      "[ Info: Arnoldi iteration step 11: normres = 0.09159582473985847\n",
      "[ Info: Arnoldi schursolve in iter 1, krylovdim = 11: 0 values converged, normres = (1.13e-09, 2.94e-07, 1.80e-07, 2.67e-04, 2.38e-02)\n",
      "[ Info: Arnoldi iteration step 12: normres = 0.05940303081690154\n",
      "[ Info: Arnoldi schursolve in iter 1, krylovdim = 12: 0 values converged, normres = (2.89e-11, 1.24e-08, 8.43e-09, 5.32e-05, 1.01e-02)\n",
      "[ Info: Arnoldi iteration step 13: normres = 0.21207622213072447\n",
      "[ Info: Arnoldi schursolve in iter 1, krylovdim = 13: 0 values converged, normres = (2.63e-12, 1.84e-09, 1.39e-09, 3.42e-05, 1.28e-02)\n",
      "[ Info: Arnoldi iteration step 14: normres = 0.20983519657216063\n",
      "[ Info: Arnoldi schursolve in iter 1, krylovdim = 14: 1 values converged, normres = (5.21e-13, 2.77e-09, 1.78e-01, 1.06e-01, 2.56e-04)\n",
      "[ Info: Arnoldi iteration step 15: normres = 0.38384663132259983\n",
      "[ Info: Arnoldi schursolve in iter 1, krylovdim = 15: 1 values converged, normres = (8.91e-14, 9.68e-10, 6.18e-02, 4.17e-04, 2.60e-06)\n",
      "[ Info: Arnoldi iteration step 16: normres = 0.08234324803571272\n",
      "[ Info: Arnoldi schursolve in iter 1, krylovdim = 16: 1 values converged, normres = (7.43e-15, 3.76e-08, 6.79e-02, 3.99e-05, 3.90e-02)\n",
      "[ Info: Arnoldi iteration step 17: normres = 0.02919796811207598\n",
      "[ Info: Arnoldi schursolve in iter 1, krylovdim = 17: 1 values converged, normres = (9.02e-17, 1.04e-05, 1.33e-03, 2.76e-07, 8.17e-04)\n",
      "[ Info: Arnoldi iteration step 18: normres = 0.01718362369159745\n",
      "[ Info: Arnoldi schursolve in iter 1, krylovdim = 18: 1 values converged, normres = (6.40e-19, 1.99e-08, 1.51e-05, 1.51e-07, 1.02e-05)\n",
      "[ Info: Arnoldi iteration step 19: normres = 0.15616807157475565\n",
      "[ Info: Arnoldi schursolve in iter 1, krylovdim = 19: 1 values converged, normres = (4.23e-20, 1.54e-06, 4.73e-07, 3.05e-07, 1.17e-06)\n",
      "[ Info: Arnoldi iteration step 20: normres = 0.05117838557876826\n",
      "[ Info: Arnoldi schursolve in iter 1, krylovdim = 20: 1 values converged, normres = (1.05e-21, 4.60e-08, 5.49e-08, 7.61e-09, 6.09e-08)\n",
      "[ Info: Arnoldi iteration step 21: normres = 0.038130434461201214\n",
      "[ Info: Arnoldi schursolve in iter 1, krylovdim = 21: 1 values converged, normres = (1.66e-23, 1.63e-09, 7.98e-10, 1.38e-09, 1.03e-09)\n",
      "[ Info: Arnoldi iteration step 22: normres = 0.4790546557452145\n",
      "[ Info: Arnoldi schursolve in iter 1, krylovdim = 22: 1 values converged, normres = (3.57e-24, 5.93e-10, 2.91e-10, 5.55e-10, 4.23e-10)\n",
      "[ Info: Arnoldi iteration step 23: normres = 0.06385923350188015\n",
      "[ Info: Arnoldi schursolve in iter 1, krylovdim = 23: 1 values converged, normres = (2.00e-25, 2.33e-10, 1.15e-10, 1.22e-08, 5.12e-09)\n",
      "[ Info: Arnoldi iteration step 24: normres = 0.014902601366102749\n",
      "[ Info: Arnoldi schursolve in iter 1, krylovdim = 24: 1 values converged, normres = (1.23e-27, 2.31e-12, 1.13e-12, 2.17e-04, 9.46e-05)\n",
      "[ Info: Arnoldi iteration step 25: normres = 0.09390138555530311\n",
      "[ Info: Arnoldi schursolve in iter 1, krylovdim = 25: 3 values converged, normres = (4.81e-29, 1.46e-13, 7.15e-14, 2.47e-05, 6.02e-06)\n",
      "[ Info: Arnoldi iteration step 26: normres = 0.0427667419986206\n",
      "[ Info: Arnoldi schursolve in iter 1, krylovdim = 26: 3 values converged, normres = (9.19e-31, 4.69e-15, 2.30e-15, 2.41e-08, 1.58e-06)\n",
      "[ Info: Arnoldi iteration step 27: normres = 0.05729553363576314\n",
      "[ Info: Arnoldi schursolve in iter 1, krylovdim = 27: 3 values converged, normres = (2.17e-32, 1.77e-16, 8.68e-17, 1.14e-08, 1.43e-08)\n",
      "[ Info: Arnoldi iteration step 28: normres = 0.05166659920998526\n",
      "[ Info: Arnoldi schursolve in iter 1, krylovdim = 28: 3 values converged, normres = (4.97e-34, 6.77e-18, 3.32e-18, 2.10e-09, 1.81e-09)\n",
      "[ Info: Arnoldi iteration step 29: normres = 0.1270939934459337\n",
      "[ Info: Arnoldi schursolve in iter 1, krylovdim = 29: 3 values converged, normres = (2.65e-35, 5.82e-19, 2.86e-19, 1.96e-10, 1.77e-10)\n",
      "[ Info: Arnoldi iteration step 30: normres = 0.039375138687762636\n",
      "[ Info: Arnoldi schursolve in iter 1, krylovdim = 30: 3 values converged, normres = (5.13e-37, 2.04e-20, 1.00e-20, 7.82e-12, 7.06e-12)\n",
      "[ Info: Arnoldi schursolve in iter 2, krylovdim = 19: 3 values converged, normres = (5.28e-37, 2.04e-20, 1.00e-20, 7.82e-12, 7.06e-12)\n",
      "[ Info: Arnoldi iteration step 20: normres = 0.049883886396941725\n",
      "┌ Info: Arnoldi eigsolve finished after 2 iterations:\n",
      "│ *  6 eigenvalues converged\n",
      "│ *  norm of residuals = (1.0569404544602563e-38, 6.71465836321808e-22, 2.9867264488579345e-22, 2.8420210760766066e-13, 2.2407672183144146e-13, 5.634916017014787e-14)\n",
      "└ *  number of operations = 31\n"
     ]
    }
   ],
   "cell_type": "code",
   "source": [
    "eigsolve(eps_fun, randn(size(scfres.ρ)), 5, :LM; eager=true, verbosity=3);"
   ],
   "metadata": {},
   "execution_count": 3
  }
 ],
 "nbformat_minor": 3,
 "metadata": {
  "language_info": {
   "file_extension": ".jl",
   "mimetype": "application/julia",
   "name": "julia",
   "version": "1.8.3"
  },
  "kernelspec": {
   "name": "julia-1.8",
   "display_name": "Julia 1.8.3",
   "language": "julia"
  }
 },
 "nbformat": 4
}
