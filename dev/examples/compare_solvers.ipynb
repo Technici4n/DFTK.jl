{
 "cells": [
  {
   "cell_type": "markdown",
   "source": [
    "# Comparison of DFT solvers"
   ],
   "metadata": {}
  },
  {
   "cell_type": "markdown",
   "source": [
    "We compare four different approaches for solving the DFT minimisation problem,\n",
    "namely a density-based SCF, a potential-based SCF, direct minimisation and Newton."
   ],
   "metadata": {}
  },
  {
   "cell_type": "markdown",
   "source": [
    "First we setup our problem"
   ],
   "metadata": {}
  },
  {
   "outputs": [],
   "cell_type": "code",
   "source": [
    "using DFTK\n",
    "using LinearAlgebra\n",
    "\n",
    "a = 10.26  # Silicon lattice constant in Bohr\n",
    "lattice = a / 2 * [[0 1 1.];\n",
    "                   [1 0 1.];\n",
    "                   [1 1 0.]]\n",
    "Si = ElementPsp(:Si, psp=load_psp(\"hgh/lda/Si-q4\"))\n",
    "atoms     = [Si, Si]\n",
    "positions = [ones(3)/8, -ones(3)/8]\n",
    "\n",
    "model = model_LDA(lattice, atoms, positions)\n",
    "basis = PlaneWaveBasis(model; Ecut=5, kgrid=[3, 3, 3])\n",
    "\n",
    "# Convergence we desire\n",
    "tol = 1e-12\n",
    "is_converged = DFTK.ScfConvergenceDensity(tol);"
   ],
   "metadata": {},
   "execution_count": 1
  },
  {
   "cell_type": "markdown",
   "source": [
    "## Density-based self-consistent field"
   ],
   "metadata": {}
  },
  {
   "outputs": [
    {
     "name": "stdout",
     "output_type": "stream",
     "text": [
      "n     Energy            log10(ΔE)   log10(Δρ)   Diag\n",
      "---   ---------------   ---------   ---------   ----\n",
      "  1   -7.846778817982                   -0.70    4.8\n",
      "  2   -7.852312176244       -2.26       -1.53    1.0\n",
      "  3   -7.852646202295       -3.48       -2.52    3.2\n",
      "  4   -7.852646677473       -6.32       -3.37    2.0\n",
      "  5   -7.852646685816       -8.08       -4.75    1.2\n",
      "  6   -7.852646686723       -9.04       -5.18    3.8\n",
      "  7   -7.852646686729      -11.21       -6.00    1.0\n",
      "  8   -7.852646686730      -12.37       -7.18    2.8\n",
      "  9   -7.852646686730   +    -Inf       -7.43    2.2\n",
      " 10   -7.852646686730      -15.05       -8.57    2.0\n",
      " 11   -7.852646686730   +  -14.75       -8.93    2.2\n",
      " 12   -7.852646686730      -14.57       -9.13    1.0\n",
      " 13   -7.852646686730   +    -Inf      -10.31    2.0\n",
      " 14   -7.852646686730      -14.75      -10.49    1.2\n",
      " 15   -7.852646686730      -14.75      -11.03    1.8\n",
      " 16   -7.852646686730   +  -14.45      -11.47    1.8\n",
      " 17   -7.852646686730   +  -14.75      -12.66    2.2\n"
     ]
    }
   ],
   "cell_type": "code",
   "source": [
    "scfres_scf = self_consistent_field(basis; is_converged);"
   ],
   "metadata": {},
   "execution_count": 2
  },
  {
   "cell_type": "markdown",
   "source": [
    "## Potential-based SCF"
   ],
   "metadata": {}
  },
  {
   "outputs": [
    {
     "name": "stdout",
     "output_type": "stream",
     "text": [
      "n     Energy            log10(ΔE)   log10(Δρ)   α      Diag\n",
      "---   ---------------   ---------   ---------   ----   ----\n",
      "  1   -7.846757701511                   -0.70           4.5\n",
      "  2   -7.852526265321       -2.24       -1.63   0.80    2.2\n",
      "  3   -7.852636735567       -3.96       -2.71   0.80    1.0\n",
      "  4   -7.852646458412       -5.01       -3.27   0.80    2.2\n",
      "  5   -7.852646676537       -6.66       -4.10   0.80    1.2\n",
      "  6   -7.852646686621       -8.00       -4.76   0.80    2.2\n",
      "  7   -7.852646686722      -10.00       -5.66   0.80    1.0\n",
      "  8   -7.852646686730      -11.10       -6.80   0.80    2.2\n",
      "  9   -7.852646686730      -12.65       -7.34   0.80    2.5\n",
      " 10   -7.852646686730      -14.57       -8.30   0.80    1.2\n",
      " 11   -7.852646686730   +  -15.05       -9.32   0.80    2.2\n",
      " 12   -7.852646686730   +  -14.57      -10.40   0.80    2.5\n",
      " 13   -7.852646686730      -15.05      -10.80   0.80    2.8\n",
      " 14   -7.852646686730   +  -15.05      -11.99   0.80    1.0\n",
      " 15   -7.852646686730      -14.75      -12.19   0.80    2.2\n"
     ]
    }
   ],
   "cell_type": "code",
   "source": [
    "scfres_scfv = DFTK.scf_potential_mixing(basis; is_converged);"
   ],
   "metadata": {},
   "execution_count": 3
  },
  {
   "cell_type": "markdown",
   "source": [
    "## Direct minimization"
   ],
   "metadata": {}
  },
  {
   "outputs": [
    {
     "name": "stdout",
     "output_type": "stream",
     "text": [
      "Iter     Function value   Gradient norm \n",
      "     0     1.396489e+01     3.624885e+00\n",
      " * time: 0.5809459686279297\n",
      "     1     1.266791e+00     1.881944e+00\n",
      " * time: 0.8338849544525146\n",
      "     2    -1.358369e+00     2.185131e+00\n",
      " * time: 0.8627939224243164\n",
      "     3    -3.808380e+00     2.031262e+00\n",
      " * time: 0.9017770290374756\n",
      "     4    -5.040150e+00     1.742657e+00\n",
      " * time: 0.9412789344787598\n",
      "     5    -6.825720e+00     1.085950e+00\n",
      " * time: 0.9806840419769287\n",
      "     6    -6.828447e+00     1.254849e+00\n",
      " * time: 1.008310079574585\n",
      "     7    -7.457005e+00     7.755490e-01\n",
      " * time: 1.0362391471862793\n",
      "     8    -7.501660e+00     8.261294e-01\n",
      " * time: 1.0660901069641113\n",
      "     9    -7.756270e+00     3.757554e-01\n",
      " * time: 1.0960609912872314\n",
      "    10    -7.818225e+00     1.549047e-01\n",
      " * time: 1.1251821517944336\n",
      "    11    -7.837388e+00     6.985469e-02\n",
      " * time: 1.153581142425537\n",
      "    12    -7.844050e+00     6.131709e-02\n",
      " * time: 1.182049036026001\n",
      "    13    -7.845898e+00     4.637303e-02\n",
      " * time: 1.2100110054016113\n",
      "    14    -7.845996e+00     3.738787e-02\n",
      " * time: 1.2387769222259521\n",
      "    15    -7.847847e+00     4.132727e-02\n",
      " * time: 1.2673320770263672\n",
      "    16    -7.850664e+00     2.745294e-02\n",
      " * time: 1.2957050800323486\n",
      "    17    -7.852067e+00     1.704803e-02\n",
      " * time: 1.32413911819458\n",
      "    18    -7.852482e+00     8.541798e-03\n",
      " * time: 1.3510780334472656\n",
      "    19    -7.852594e+00     4.201088e-03\n",
      " * time: 1.3785679340362549\n",
      "    20    -7.852625e+00     3.161875e-03\n",
      " * time: 1.4068269729614258\n",
      "    21    -7.852636e+00     1.721637e-03\n",
      " * time: 1.4357030391693115\n",
      "    22    -7.852644e+00     1.151354e-03\n",
      " * time: 1.4659769535064697\n",
      "    23    -7.852646e+00     8.743772e-04\n",
      " * time: 1.4949469566345215\n",
      "    24    -7.852646e+00     3.271338e-04\n",
      " * time: 1.5250649452209473\n",
      "    25    -7.852647e+00     2.335628e-04\n",
      " * time: 1.556230068206787\n",
      "    26    -7.852647e+00     1.826236e-04\n",
      " * time: 1.5860669612884521\n",
      "    27    -7.852647e+00     8.643156e-05\n",
      " * time: 1.615821123123169\n",
      "    28    -7.852647e+00     5.610726e-05\n",
      " * time: 1.645524024963379\n",
      "    29    -7.852647e+00     2.426230e-05\n",
      " * time: 1.6742100715637207\n",
      "    30    -7.852647e+00     2.236911e-05\n",
      " * time: 1.7035930156707764\n",
      "    31    -7.852647e+00     1.476716e-05\n",
      " * time: 1.7336370944976807\n",
      "    32    -7.852647e+00     4.548636e-06\n",
      " * time: 1.7627849578857422\n",
      "    33    -7.852647e+00     3.727338e-06\n",
      " * time: 1.7918379306793213\n",
      "    34    -7.852647e+00     2.048235e-06\n",
      " * time: 1.8208119869232178\n",
      "    35    -7.852647e+00     6.919645e-07\n",
      " * time: 1.8498189449310303\n",
      "    36    -7.852647e+00     9.556805e-07\n",
      " * time: 1.8788931369781494\n",
      "    37    -7.852647e+00     5.138169e-07\n",
      " * time: 1.90789794921875\n",
      "    38    -7.852647e+00     1.935387e-07\n",
      " * time: 1.9359490871429443\n",
      "    39    -7.852647e+00     1.436783e-07\n",
      " * time: 1.9641549587249756\n",
      "    40    -7.852647e+00     7.287966e-08\n",
      " * time: 1.9922809600830078\n",
      "    41    -7.852647e+00     3.895792e-08\n",
      " * time: 2.0204811096191406\n",
      "    42    -7.852647e+00     3.896496e-08\n",
      " * time: 2.048896074295044\n",
      "    43    -7.852647e+00     2.059054e-08\n",
      " * time: 2.0774221420288086\n",
      "    44    -7.852647e+00     8.021462e-09\n",
      " * time: 2.1053340435028076\n",
      "    45    -7.852647e+00     8.021462e-09\n",
      " * time: 2.295685052871704\n"
     ]
    }
   ],
   "cell_type": "code",
   "source": [
    "scfres_dm = direct_minimization(basis; tol);"
   ],
   "metadata": {},
   "execution_count": 4
  },
  {
   "cell_type": "markdown",
   "source": [
    "## Newton algorithm"
   ],
   "metadata": {}
  },
  {
   "cell_type": "markdown",
   "source": [
    "Start not too far from the solution to ensure convergence:\n",
    "We run first a very crude SCF to get close and then switch to Newton."
   ],
   "metadata": {}
  },
  {
   "outputs": [
    {
     "name": "stdout",
     "output_type": "stream",
     "text": [
      "n     Energy            log10(ΔE)   log10(Δρ)   Diag\n",
      "---   ---------------   ---------   ---------   ----\n",
      "  1   -7.846771342125                   -0.70    4.5\n",
      "  2   -7.852298979707       -2.26       -1.53    1.0\n"
     ]
    }
   ],
   "cell_type": "code",
   "source": [
    "scfres_start = self_consistent_field(basis; tol=1e-1);"
   ],
   "metadata": {},
   "execution_count": 5
  },
  {
   "cell_type": "markdown",
   "source": [
    "Remove the virtual orbitals (which Newton cannot treat yet)"
   ],
   "metadata": {}
  },
  {
   "outputs": [
    {
     "name": "stdout",
     "output_type": "stream",
     "text": [
      "n     Energy            log10(ΔE)   log10(Δρ)\n",
      "---   ---------------   ---------   ---------\n",
      "  1   -7.852646686662                   -2.54\n",
      "  2   -7.852646686730      -10.17       -5.80\n",
      "  3   -7.852646686730   +    -Inf      -12.09\n"
     ]
    }
   ],
   "cell_type": "code",
   "source": [
    "ψ, _ = DFTK.select_occupied_orbitals(basis, scfres_start.ψ, scfres_start.occupation)\n",
    "scfres_newton = newton(basis, ψ; tol);"
   ],
   "metadata": {},
   "execution_count": 6
  },
  {
   "cell_type": "markdown",
   "source": [
    "## Comparison of results"
   ],
   "metadata": {}
  },
  {
   "outputs": [
    {
     "name": "stdout",
     "output_type": "stream",
     "text": [
      "|ρ_newton - ρ_scf|  = 8.291692335274598e-14\n",
      "|ρ_newton - ρ_scfv| = 6.806480131407212e-14\n",
      "|ρ_newton - ρ_dm|   = 8.637278435167049e-10\n"
     ]
    }
   ],
   "cell_type": "code",
   "source": [
    "println(\"|ρ_newton - ρ_scf|  = \", norm(scfres_newton.ρ - scfres_scf.ρ))\n",
    "println(\"|ρ_newton - ρ_scfv| = \", norm(scfres_newton.ρ - scfres_scfv.ρ))\n",
    "println(\"|ρ_newton - ρ_dm|   = \", norm(scfres_newton.ρ - scfres_dm.ρ))"
   ],
   "metadata": {},
   "execution_count": 7
  }
 ],
 "nbformat_minor": 3,
 "metadata": {
  "language_info": {
   "file_extension": ".jl",
   "mimetype": "application/julia",
   "name": "julia",
   "version": "1.8.2"
  },
  "kernelspec": {
   "name": "julia-1.8",
   "display_name": "Julia 1.8.2",
   "language": "julia"
  }
 },
 "nbformat": 4
}
