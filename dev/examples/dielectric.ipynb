{
 "cells": [
  {
   "cell_type": "markdown",
   "source": [
    "# Eigenvalues of the dielectric matrix\n",
    "\n",
    "We compute a few eigenvalues of the dielectric matrix ($q=0$, $ω=0$) iteratively."
   ],
   "metadata": {}
  },
  {
   "outputs": [
    {
     "name": "stdout",
     "output_type": "stream",
     "text": [
      "n     Energy            log10(ΔE)   log10(Δρ)   Diag\n",
      "---   ---------------   ---------   ---------   ----\n",
      "  1   -7.235940220976                   -0.50    7.0\n",
      "  2   -7.250443104415       -1.84       -1.40    1.0\n",
      "  3   -7.251286719040       -3.07       -2.13    3.0\n",
      "  4   -7.251183313775   +   -3.99       -2.06    4.0\n",
      "  5   -7.251333060098       -3.82       -2.77    2.0\n",
      "  6   -7.251338191168       -5.29       -3.18    2.0\n",
      "  7   -7.251338776378       -6.23       -4.01    1.0\n",
      "  8   -7.251338794761       -7.74       -4.24    4.0\n",
      "  9   -7.251338798171       -8.47       -4.69    2.0\n",
      " 10   -7.251338798646       -9.32       -5.17    3.0\n",
      " 11   -7.251338798701      -10.26       -5.84    3.0\n",
      " 12   -7.251338798704      -11.50       -6.28    3.0\n",
      " 13   -7.251338798704      -12.66       -6.75    3.0\n",
      " 14   -7.251338798705      -13.36       -7.19    3.0\n",
      " 15   -7.251338798705      -14.57       -7.75    2.0\n"
     ]
    }
   ],
   "cell_type": "code",
   "source": [
    "using DFTK\n",
    "using Plots\n",
    "using KrylovKit\n",
    "using Printf\n",
    "\n",
    "# Calculation parameters\n",
    "kgrid = [1, 1, 1]\n",
    "Ecut = 5\n",
    "\n",
    "# Silicon lattice\n",
    "a = 10.26\n",
    "lattice = a / 2 .* [[0 1 1.]; [1 0 1.]; [1 1 0.]]\n",
    "Si = ElementPsp(:Si, psp=load_psp(\"hgh/lda/Si-q4\"))\n",
    "atoms     = [Si, Si]\n",
    "positions = [ones(3)/8, -ones(3)/8]\n",
    "\n",
    "# Compute the dielectric operator without symmetries\n",
    "model = model_LDA(lattice, atoms, positions, symmetries=false)\n",
    "basis = PlaneWaveBasis(model; Ecut, kgrid)\n",
    "scfres = self_consistent_field(basis, tol=1e-14);"
   ],
   "metadata": {},
   "execution_count": 1
  },
  {
   "cell_type": "markdown",
   "source": [
    "Applying $ε^† ≔ (1- χ_0 K)$ …"
   ],
   "metadata": {}
  },
  {
   "outputs": [],
   "cell_type": "code",
   "source": [
    "function eps_fun(δρ)\n",
    "    δV = apply_kernel(basis, δρ; ρ=scfres.ρ)\n",
    "    χ0δV = apply_χ0(scfres, δV)\n",
    "    δρ - χ0δV\n",
    "end;"
   ],
   "metadata": {},
   "execution_count": 2
  },
  {
   "cell_type": "markdown",
   "source": [
    "… eagerly diagonalizes the subspace matrix at each iteration"
   ],
   "metadata": {}
  },
  {
   "outputs": [
    {
     "name": "stdout",
     "output_type": "stream",
     "text": [
      "[ Info: Arnoldi iteration step 1: normres = 0.09009866765092887\n",
      "[ Info: Arnoldi iteration step 2: normres = 0.498326410223011\n",
      "[ Info: Arnoldi iteration step 3: normres = 0.6703650996463831\n",
      "[ Info: Arnoldi iteration step 4: normres = 0.21944219496087777\n",
      "[ Info: Arnoldi iteration step 5: normres = 0.6084759403412064\n",
      "[ Info: Arnoldi schursolve in iter 1, krylovdim = 5: 0 values converged, normres = (1.21e-02, 8.52e-02, 5.52e-01, 2.40e-01, 2.96e-02)\n",
      "[ Info: Arnoldi iteration step 6: normres = 0.23023644549492386\n",
      "[ Info: Arnoldi schursolve in iter 1, krylovdim = 6: 0 values converged, normres = (2.28e-03, 1.08e-01, 1.62e-01, 9.60e-02, 4.19e-02)\n",
      "[ Info: Arnoldi iteration step 7: normres = 0.11016143075104032\n",
      "[ Info: Arnoldi schursolve in iter 1, krylovdim = 7: 0 values converged, normres = (1.23e-04, 1.23e-02, 1.49e-02, 7.85e-02, 6.58e-02)\n",
      "[ Info: Arnoldi iteration step 8: normres = 0.13066255782857455\n",
      "[ Info: Arnoldi schursolve in iter 1, krylovdim = 8: 0 values converged, normres = (7.14e-06, 1.19e-03, 1.63e-03, 4.11e-02, 6.82e-02)\n",
      "[ Info: Arnoldi iteration step 9: normres = 0.06413163578884142\n",
      "[ Info: Arnoldi schursolve in iter 1, krylovdim = 9: 0 values converged, normres = (1.97e-07, 5.40e-05, 8.22e-05, 9.32e-03, 2.62e-02)\n",
      "[ Info: Arnoldi iteration step 10: normres = 0.0799973958834488\n",
      "[ Info: Arnoldi schursolve in iter 1, krylovdim = 10: 0 values converged, normres = (6.88e-09, 3.12e-06, 5.28e-06, 2.60e-03, 1.53e-02)\n",
      "[ Info: Arnoldi iteration step 11: normres = 0.08901623855964289\n",
      "[ Info: Arnoldi schursolve in iter 1, krylovdim = 11: 0 values converged, normres = (2.61e-10, 1.93e-07, 3.61e-07, 6.85e-04, 7.64e-03)\n",
      "[ Info: Arnoldi iteration step 12: normres = 0.07465900466271508\n",
      "[ Info: Arnoldi schursolve in iter 1, krylovdim = 12: 0 values converged, normres = (8.48e-12, 1.04e-08, 2.17e-08, 1.81e-04, 4.90e-03)\n",
      "[ Info: Arnoldi iteration step 13: normres = 0.09263631734524475\n",
      "[ Info: Arnoldi schursolve in iter 1, krylovdim = 13: 1 values converged, normres = (3.34e-13, 6.65e-10, 1.53e-09, 4.90e-05, 2.71e-03)\n",
      "[ Info: Arnoldi iteration step 14: normres = 0.36600646450275004\n",
      "[ Info: Arnoldi schursolve in iter 1, krylovdim = 14: 1 values converged, normres = (1.10e-13, 1.19e-09, 8.77e-09, 3.63e-01, 5.34e-04)\n",
      "[ Info: Arnoldi iteration step 15: normres = 0.21755295020807186\n",
      "[ Info: Arnoldi schursolve in iter 1, krylovdim = 15: 1 values converged, normres = (1.08e-14, 3.22e-10, 5.89e-02, 8.71e-04, 1.15e-05)\n",
      "[ Info: Arnoldi iteration step 16: normres = 0.2162165188268807\n",
      "[ Info: Arnoldi schursolve in iter 1, krylovdim = 16: 1 values converged, normres = (2.38e-15, 1.58e-09, 1.74e-01, 2.18e-03, 1.24e-01)\n",
      "[ Info: Arnoldi iteration step 17: normres = 0.026071428153609865\n",
      "[ Info: Arnoldi schursolve in iter 1, krylovdim = 17: 1 values converged, normres = (2.70e-17, 3.26e-03, 8.03e-04, 2.05e-06, 1.95e-03)\n",
      "[ Info: Arnoldi iteration step 18: normres = 0.013969991356401722\n",
      "[ Info: Arnoldi schursolve in iter 1, krylovdim = 18: 1 values converged, normres = (1.55e-19, 3.02e-05, 6.34e-06, 1.44e-05, 1.34e-05)\n",
      "[ Info: Arnoldi iteration step 19: normres = 0.07314771952911756\n",
      "[ Info: Arnoldi schursolve in iter 1, krylovdim = 19: 1 values converged, normres = (4.68e-21, 1.28e-08, 1.48e-06, 2.53e-07, 1.01e-06)\n",
      "[ Info: Arnoldi iteration step 20: normres = 0.1378680545672119\n",
      "[ Info: Arnoldi schursolve in iter 1, krylovdim = 20: 1 values converged, normres = (3.13e-22, 1.68e-07, 5.70e-08, 3.15e-08, 1.39e-07)\n",
      "[ Info: Arnoldi iteration step 21: normres = 0.034395846913700796\n",
      "[ Info: Arnoldi schursolve in iter 1, krylovdim = 21: 1 values converged, normres = (4.60e-24, 1.26e-09, 4.10e-09, 1.45e-09, 3.52e-09)\n",
      "[ Info: Arnoldi iteration step 22: normres = 0.048270166704498414\n",
      "[ Info: Arnoldi schursolve in iter 1, krylovdim = 22: 1 values converged, normres = (9.16e-26, 5.45e-11, 1.25e-10, 4.81e-11, 1.24e-10)\n",
      "[ Info: Arnoldi iteration step 23: normres = 0.5148893623785422\n",
      "[ Info: Arnoldi schursolve in iter 1, krylovdim = 23: 1 values converged, normres = (3.69e-26, 7.62e-11, 1.74e-10, 1.07e-10, 2.78e-10)\n",
      "[ Info: Arnoldi iteration step 24: normres = 0.016857470945217445\n",
      "[ Info: Arnoldi schursolve in iter 1, krylovdim = 24: 1 values converged, normres = (3.11e-28, 2.20e-12, 5.05e-12, 1.74e-03, 1.42e-03)\n",
      "[ Info: Arnoldi iteration step 25: normres = 0.046290316500815026\n",
      "[ Info: Arnoldi schursolve in iter 1, krylovdim = 25: 3 values converged, normres = (5.92e-30, 6.70e-14, 1.53e-13, 8.40e-09, 2.12e-08)\n",
      "[ Info: Arnoldi iteration step 26: normres = 0.07053738159350399\n",
      "[ Info: Arnoldi schursolve in iter 1, krylovdim = 26: 3 values converged, normres = (1.88e-31, 3.60e-15, 8.24e-15, 9.12e-06, 1.79e-06)\n",
      "[ Info: Arnoldi iteration step 27: normres = 0.04127828531029307\n",
      "[ Info: Arnoldi schursolve in iter 1, krylovdim = 27: 3 values converged, normres = (3.21e-33, 9.82e-17, 2.25e-16, 8.07e-10, 2.55e-09)\n",
      "[ Info: Arnoldi iteration step 28: normres = 0.0760697401145097\n",
      "[ Info: Arnoldi schursolve in iter 1, krylovdim = 28: 3 values converged, normres = (1.07e-34, 5.46e-18, 1.25e-17, 1.48e-08, 2.02e-08)\n",
      "[ Info: Arnoldi iteration step 29: normres = 0.016187823512723076\n",
      "[ Info: Arnoldi schursolve in iter 1, krylovdim = 29: 3 values converged, normres = (7.22e-37, 5.91e-20, 1.35e-19, 1.13e-11, 3.01e-10)\n",
      "[ Info: Arnoldi iteration step 30: normres = 0.07579976763049265\n",
      "[ Info: Arnoldi schursolve in iter 1, krylovdim = 30: 4 values converged, normres = (2.30e-38, 3.03e-21, 6.94e-21, 6.46e-13, 1.71e-11)\n",
      "[ Info: Arnoldi schursolve in iter 2, krylovdim = 19: 4 values converged, normres = (2.30e-38, 3.03e-21, 6.94e-21, 6.46e-13, 1.71e-11)\n",
      "[ Info: Arnoldi iteration step 20: normres = 0.10266289411331563\n",
      "[ Info: Arnoldi schursolve in iter 2, krylovdim = 20: 4 values converged, normres = (1.02e-39, 2.23e-22, 5.11e-22, 5.28e-14, 1.40e-12)\n",
      "[ Info: Arnoldi iteration step 21: normres = 0.13655323848124684\n",
      "┌ Info: Arnoldi eigsolve finished after 2 iterations:\n",
      "│ *  6 eigenvalues converged\n",
      "│ *  norm of residuals = (6.77881286647059e-41, 2.6185622669838874e-23, 6.508220793305587e-23, 7.0538028252907124e-15, 1.86245178800766e-13, 7.318421940715362e-15)\n",
      "└ *  number of operations = 32\n"
     ]
    }
   ],
   "cell_type": "code",
   "source": [
    "eigsolve(eps_fun, randn(size(scfres.ρ)), 5, :LM; eager=true, verbosity=3);"
   ],
   "metadata": {},
   "execution_count": 3
  }
 ],
 "nbformat_minor": 3,
 "metadata": {
  "language_info": {
   "file_extension": ".jl",
   "mimetype": "application/julia",
   "name": "julia",
   "version": "1.8.2"
  },
  "kernelspec": {
   "name": "julia-1.8",
   "display_name": "Julia 1.8.2",
   "language": "julia"
  }
 },
 "nbformat": 4
}
