{
 "cells": [
  {
   "cell_type": "markdown",
   "source": [
    "# Custom solvers\n",
    "In this example, we show how to define custom solvers. Our system\n",
    "will again be silicon, because we are not very imaginative"
   ],
   "metadata": {}
  },
  {
   "outputs": [],
   "cell_type": "code",
   "source": [
    "using DFTK, LinearAlgebra\n",
    "\n",
    "a = 10.26\n",
    "lattice = a / 2 * [[0 1 1.];\n",
    "                   [1 0 1.];\n",
    "                   [1 1 0.]]\n",
    "Si = ElementPsp(:Si, psp=load_psp(\"hgh/lda/Si-q4\"))\n",
    "atoms = [Si, Si]\n",
    "positions =  [ones(3)/8, -ones(3)/8]\n",
    "\n",
    "# We take very (very) crude parameters\n",
    "model = model_LDA(lattice, atoms, positions)\n",
    "basis = PlaneWaveBasis(model; Ecut=5, kgrid=[1, 1, 1]);"
   ],
   "metadata": {},
   "execution_count": 1
  },
  {
   "cell_type": "markdown",
   "source": [
    "We define our custom fix-point solver: simply a damped fixed-point"
   ],
   "metadata": {}
  },
  {
   "outputs": [],
   "cell_type": "code",
   "source": [
    "function my_fp_solver(f, x0, max_iter; tol)\n",
    "    mixing_factor = .7\n",
    "    x = x0\n",
    "    fx = f(x)\n",
    "    for n = 1:max_iter\n",
    "        inc = fx - x\n",
    "        if norm(inc) < tol\n",
    "            break\n",
    "        end\n",
    "        x = x + mixing_factor * inc\n",
    "        fx = f(x)\n",
    "    end\n",
    "    (fixpoint=x, converged=norm(fx-x) < tol)\n",
    "end;"
   ],
   "metadata": {},
   "execution_count": 2
  },
  {
   "cell_type": "markdown",
   "source": [
    "Our eigenvalue solver just forms the dense matrix and diagonalizes\n",
    "it explicitly (this only works for very small systems)"
   ],
   "metadata": {}
  },
  {
   "outputs": [],
   "cell_type": "code",
   "source": [
    "function my_eig_solver(A, X0; maxiter, tol, kwargs...)\n",
    "    n = size(X0, 2)\n",
    "    A = Array(A)\n",
    "    E = eigen(A)\n",
    "    λ = E.values[1:n]\n",
    "    X = E.vectors[:, 1:n]\n",
    "    (; λ, X, residual_norms=[], iterations=0, converged=true, n_matvec=0)\n",
    "end;"
   ],
   "metadata": {},
   "execution_count": 3
  },
  {
   "cell_type": "markdown",
   "source": [
    "Finally we also define our custom mixing scheme. It will be a mixture\n",
    "of simple mixing (for the first 2 steps) and than default to Kerker mixing.\n",
    "In the mixing interface `δF` is $(ρ_\\text{out} - ρ_\\text{in})$, i.e.\n",
    "the difference in density between two subsequent SCF steps and the `mix`\n",
    "function returns $δρ$, which is added to $ρ_\\text{in}$ to yield $ρ_\\text{next}$,\n",
    "the density for the next SCF step."
   ],
   "metadata": {}
  },
  {
   "outputs": [],
   "cell_type": "code",
   "source": [
    "struct MyMixing\n",
    "    n_simple  # Number of iterations for simple mixing\n",
    "end\n",
    "MyMixing() = MyMixing(2)\n",
    "\n",
    "function DFTK.mix_density(mixing::MyMixing, basis, δF; n_iter, kwargs...)\n",
    "    if n_iter <= mixing.n_simple\n",
    "        return δF  # Simple mixing -> Do not modify update at all\n",
    "    else\n",
    "        # Use the default KerkerMixing from DFTK\n",
    "        DFTK.mix_density(KerkerMixing(), basis, δF; kwargs...)\n",
    "    end\n",
    "end"
   ],
   "metadata": {},
   "execution_count": 4
  },
  {
   "cell_type": "markdown",
   "source": [
    "That's it! Now we just run the SCF with these solvers"
   ],
   "metadata": {}
  },
  {
   "outputs": [
    {
     "name": "stdout",
     "output_type": "stream",
     "text": [
      "n     Energy            log10(ΔE)   log10(Δρ)   Diag   Δtime\n",
      "---   ---------------   ---------   ---------   ----   ------\n",
      "  1   -7.236398514656                   -0.50    0.0         \n",
      "  2   -7.249671378655       -1.88       -0.92    0.0    516ms\n",
      "  3   -7.251178601284       -2.82       -1.34    0.0   68.4ms\n",
      "  4   -7.251296781148       -3.93       -1.65    0.0   70.5ms\n",
      "  5   -7.251327500613       -4.51       -1.96    0.0   74.9ms\n",
      "  6   -7.251335637057       -5.09       -2.25    0.0   75.4ms\n",
      "  7   -7.251337871785       -5.65       -2.55    0.0    167ms\n",
      "  8   -7.251338514073       -6.19       -2.83    0.0   67.9ms\n",
      "  9   -7.251338707627       -6.71       -3.10    0.0   68.6ms\n",
      " 10   -7.251338768563       -7.22       -3.37    0.0   73.2ms\n",
      " 11   -7.251338788468       -7.70       -3.62    0.0   76.9ms\n",
      " 12   -7.251338795162       -8.17       -3.87    0.0    165ms\n",
      " 13   -7.251338797462       -8.64       -4.11    0.0   67.0ms\n",
      " 14   -7.251338798264       -9.10       -4.35    0.0   69.8ms\n",
      " 15   -7.251338798548       -9.55       -4.58    0.0   71.1ms\n",
      " 16   -7.251338798648      -10.00       -4.82    0.0   75.4ms\n",
      " 17   -7.251338798684      -10.44       -5.04    0.0   75.4ms\n",
      " 18   -7.251338798697      -10.89       -5.27    0.0    138ms\n",
      " 19   -7.251338798702      -11.33       -5.50    0.0   69.2ms\n",
      " 20   -7.251338798704      -11.78       -5.72    0.0   71.3ms\n",
      " 21   -7.251338798704      -12.22       -5.95    0.0   74.8ms\n",
      " 22   -7.251338798704      -12.66       -6.17    0.0   76.2ms\n",
      " 23   -7.251338798704      -13.13       -6.39    0.0    144ms\n",
      " 24   -7.251338798705      -13.56       -6.61    0.0   68.4ms\n",
      " 25   -7.251338798705      -13.88       -6.84    0.0   69.1ms\n",
      " 26   -7.251338798705      -14.45       -7.04    0.0   72.8ms\n",
      " 27   -7.251338798705      -14.57       -7.26    0.0   76.4ms\n",
      " 28   -7.251338798705   +  -14.21       -7.38    0.0   76.4ms\n",
      " 29   -7.251338798705      -14.21       -7.55    0.0    139ms\n",
      " 30   -7.251338798705   +    -Inf       -7.77    0.0   70.4ms\n",
      " 31   -7.251338798705   +  -14.57       -7.37    0.0   70.4ms\n",
      " 32   -7.251338798705      -14.45       -7.59    0.0   74.9ms\n",
      " 33   -7.251338798705   +    -Inf       -7.77    0.0   75.8ms\n",
      " 34   -7.251338798705   +    -Inf       -7.91    0.0    144ms\n",
      " 35   -7.251338798705   +  -14.27       -7.34    0.0   69.0ms\n",
      " 36   -7.251338798705      -14.27       -7.57    0.0   69.4ms\n",
      " 37   -7.251338798705   +    -Inf       -7.78    0.0   72.3ms\n",
      " 38   -7.251338798705   +  -14.75       -7.73    0.0   76.2ms\n",
      " 39   -7.251338798705   +    -Inf       -7.65    0.0   74.1ms\n",
      " 40   -7.251338798705   +  -14.75       -7.77    0.0    138ms\n",
      " 41   -7.251338798705   +    -Inf       -7.92    0.0   69.2ms\n",
      " 42   -7.251338798705   +  -13.97       -7.12    0.0   70.2ms\n",
      " 43   -7.251338798705      -13.94       -7.36    0.0   75.0ms\n",
      " 44   -7.251338798705      -15.05       -7.70    0.0   74.1ms\n",
      " 45   -7.251338798705      -14.75       -7.69    0.0    143ms\n",
      " 46   -7.251338798705   +  -14.57       -7.75    0.0   68.5ms\n",
      " 47   -7.251338798705      -15.05       -7.68    0.0   70.8ms\n",
      " 48   -7.251338798705   +    -Inf       -7.65    0.0   74.9ms\n",
      " 49   -7.251338798705   +  -13.97       -7.16    0.0   75.2ms\n",
      " 50   -7.251338798705      -14.15       -7.39    0.0   74.5ms\n",
      " 51   -7.251338798705      -14.27       -7.65    0.0    137ms\n",
      " 52   -7.251338798705   +  -14.57       -7.39    0.0   69.5ms\n",
      " 53   -7.251338798705   +    -Inf       -7.61    0.0   71.6ms\n",
      " 54   -7.251338798705   +  -14.75       -7.63    0.0   75.5ms\n",
      " 55   -7.251338798705      -15.05       -7.56    0.0   73.8ms\n",
      " 56   -7.251338798705      -15.05       -7.79    0.0    141ms\n",
      " 57   -7.251338798705   +  -14.01       -7.21    0.0   69.8ms\n",
      " 58   -7.251338798705      -13.97       -7.45    0.0   71.9ms\n",
      " 59   -7.251338798705   +  -15.05       -7.78    0.0   73.9ms\n",
      " 60   -7.251338798705      -14.75       -7.56    0.0   75.2ms\n",
      " 61   -7.251338798705   +  -13.94       -7.17    0.0    144ms\n",
      " 62   -7.251338798705      -13.85       -7.40    0.0   69.6ms\n",
      " 63   -7.251338798705   +  -14.75       -7.57    0.0   67.7ms\n",
      " 64   -7.251338798705   +    -Inf       -7.89    0.0   70.4ms\n",
      " 65   -7.251338798705   +    -Inf       -7.91    0.0   75.7ms\n",
      " 66   -7.251338798705   +  -14.75       -7.98    0.0   73.6ms\n",
      " 67   -7.251338798705   +  -14.45       -7.46    0.0    139ms\n",
      " 68   -7.251338798705      -14.57       -7.70    0.0   70.1ms\n",
      " 69   -7.251338798705      -15.05       -7.69    0.0   71.1ms\n",
      " 70   -7.251338798705      -14.45       -7.62    0.0   74.5ms\n",
      " 71   -7.251338798705   +  -14.05       -7.42    0.0   74.1ms\n",
      " 72   -7.251338798705      -14.27       -7.71    0.0    144ms\n",
      " 73   -7.251338798705   +  -14.45       -7.40    0.0   68.9ms\n",
      " 74   -7.251338798705      -14.27       -7.61    0.0   69.3ms\n",
      " 75   -7.251338798705   +    -Inf       -7.94    0.0   73.8ms\n",
      " 76   -7.251338798705   +  -14.35       -7.33    0.0   75.7ms\n",
      " 77   -7.251338798705      -14.57       -7.61    0.0   74.1ms\n",
      " 78   -7.251338798705   +    -Inf       -7.60    0.0    141ms\n",
      " 79   -7.251338798705      -15.05       -7.77    0.0   69.6ms\n",
      " 80   -7.251338798705   +  -14.57       -7.43    0.0   68.2ms\n",
      " 81   -7.251338798705      -15.05       -7.66    0.0   74.4ms\n",
      " 82   -7.251338798705   +  -14.45       -7.30    0.0   76.4ms\n",
      " 83   -7.251338798705      -14.57       -7.52    0.0    143ms\n",
      " 84   -7.251338798705      -14.75       -7.82    0.0   67.6ms\n",
      " 85   -7.251338798705      -14.75       -7.95    0.0   68.2ms\n",
      " 86   -7.251338798705   +  -14.75       -7.53    0.0   71.1ms\n",
      " 87   -7.251338798705      -14.75       -7.79    0.0   75.1ms\n",
      " 88   -7.251338798705   +  -14.27       -7.47    0.0   74.1ms\n",
      " 89   -7.251338798705      -14.45       -7.57    0.0    137ms\n",
      " 90   -7.251338798705   +    -Inf       -7.79    0.0   67.8ms\n",
      " 91   -7.251338798705      -14.75       -7.73    0.0   70.2ms\n",
      " 92   -7.251338798705   +  -15.05       -7.63    0.0   76.4ms\n",
      " 93   -7.251338798705   +  -15.05       -7.55    0.0   75.5ms\n",
      " 94   -7.251338798705      -15.05       -7.60    0.0    144ms\n",
      " 95   -7.251338798705   +  -14.75       -7.87    0.0   67.5ms\n",
      " 96   -7.251338798705   +  -15.05       -7.37    0.0   69.7ms\n",
      " 97   -7.251338798705      -15.05       -7.56    0.0   71.3ms\n",
      " 98   -7.251338798705   +  -14.57       -7.46    0.0   75.7ms\n",
      " 99   -7.251338798705      -14.27       -7.71    0.0   76.5ms\n",
      " 100   -7.251338798705   +  -14.75       -7.91    0.0    139ms\n",
      " 101   -7.251338798705   +  -13.88       -7.12    0.0   68.8ms\n",
      "┌ Warning: SCF not converged.\n",
      "└ @ DFTK ~/work/DFTK.jl/DFTK.jl/src/scf/scf_callbacks.jl:38\n"
     ]
    }
   ],
   "cell_type": "code",
   "source": [
    "scfres = self_consistent_field(basis;\n",
    "                               tol=1e-8,\n",
    "                               solver=my_fp_solver,\n",
    "                               eigensolver=my_eig_solver,\n",
    "                               mixing=MyMixing());"
   ],
   "metadata": {},
   "execution_count": 5
  },
  {
   "cell_type": "markdown",
   "source": [
    "Note that the default convergence criterion is the difference in\n",
    "density. When this gets below `tol`, the\n",
    "\"driver\" `self_consistent_field` artificially makes the fixed-point\n",
    "solver think it's converged by forcing `f(x) = x`. You can customize\n",
    "this with the `is_converged` keyword argument to\n",
    "`self_consistent_field`."
   ],
   "metadata": {}
  }
 ],
 "nbformat_minor": 3,
 "metadata": {
  "language_info": {
   "file_extension": ".jl",
   "mimetype": "application/julia",
   "name": "julia",
   "version": "1.9.0"
  },
  "kernelspec": {
   "name": "julia-1.9",
   "display_name": "Julia 1.9.0",
   "language": "julia"
  }
 },
 "nbformat": 4
}
