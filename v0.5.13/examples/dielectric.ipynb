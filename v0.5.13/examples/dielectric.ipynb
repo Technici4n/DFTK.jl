{
 "cells": [
  {
   "cell_type": "markdown",
   "source": [
    "# Eigenvalues of the dielectric matrix\n",
    "\n",
    "We compute a few eigenvalues of the dielectric matrix ($q=0$, $ω=0$) iteratively."
   ],
   "metadata": {}
  },
  {
   "outputs": [
    {
     "name": "stdout",
     "output_type": "stream",
     "text": [
      "n     Energy            log10(ΔE)   log10(Δρ)   Diag\n",
      "---   ---------------   ---------   ---------   ----\n",
      "  1   -7.233678168460                   -0.50    8.0\n",
      "  2   -7.250105310877       -1.78       -1.41    1.0\n",
      "  3   -7.251308072113       -2.92       -2.07    4.0\n",
      "  4   -7.251254966562   +   -4.27       -2.20    4.0\n",
      "  5   -7.251314236100       -4.23       -2.47    2.0\n",
      "  6   -7.251338119256       -4.62       -3.17    2.0\n",
      "  7   -7.251338783196       -6.18       -4.09    2.0\n",
      "  8   -7.251338793562       -7.98       -4.18    4.0\n",
      "  9   -7.251338798305       -8.32       -4.69    2.0\n",
      " 10   -7.251338798655       -9.46       -5.25    2.0\n",
      " 11   -7.251338798702      -10.33       -5.84    3.0\n",
      " 12   -7.251338798704      -11.69       -6.16    2.0\n",
      " 13   -7.251338798705      -12.45       -6.82    3.0\n",
      " 14   -7.251338798705      -13.62       -7.41    3.0\n",
      " 15   -7.251338798705      -14.75       -7.73    2.0\n"
     ]
    }
   ],
   "cell_type": "code",
   "source": [
    "using DFTK\n",
    "using Plots\n",
    "using KrylovKit\n",
    "using Printf\n",
    "\n",
    "# Calculation parameters\n",
    "kgrid = [1, 1, 1]\n",
    "Ecut = 5\n",
    "\n",
    "# Silicon lattice\n",
    "a = 10.26\n",
    "lattice = a / 2 .* [[0 1 1.]; [1 0 1.]; [1 1 0.]]\n",
    "Si = ElementPsp(:Si, psp=load_psp(\"hgh/lda/Si-q4\"))\n",
    "atoms     = [Si, Si]\n",
    "positions = [ones(3)/8, -ones(3)/8]\n",
    "\n",
    "# Compute the dielectric operator without symmetries\n",
    "model = model_LDA(lattice, atoms, positions, symmetries=false)\n",
    "basis = PlaneWaveBasis(model; Ecut, kgrid)\n",
    "scfres = self_consistent_field(basis, tol=1e-14);"
   ],
   "metadata": {},
   "execution_count": 1
  },
  {
   "cell_type": "markdown",
   "source": [
    "Applying $ε^† ≔ (1- χ_0 K)$ …"
   ],
   "metadata": {}
  },
  {
   "outputs": [],
   "cell_type": "code",
   "source": [
    "function eps_fun(δρ)\n",
    "    δV = apply_kernel(basis, δρ; ρ=scfres.ρ)\n",
    "    χ0δV = apply_χ0(scfres, δV)\n",
    "    δρ - χ0δV\n",
    "end;"
   ],
   "metadata": {},
   "execution_count": 2
  },
  {
   "cell_type": "markdown",
   "source": [
    "… eagerly diagonalizes the subspace matrix at each iteration"
   ],
   "metadata": {}
  },
  {
   "outputs": [
    {
     "name": "stdout",
     "output_type": "stream",
     "text": [
      "[ Info: Arnoldi iteration step 1: normres = 0.053207820719386574\n",
      "[ Info: Arnoldi iteration step 2: normres = 0.5140618324583824\n",
      "[ Info: Arnoldi iteration step 3: normres = 0.9240512615542702\n",
      "[ Info: Arnoldi iteration step 4: normres = 0.20912786811395268\n",
      "[ Info: Arnoldi iteration step 5: normres = 0.3560664892455914\n",
      "[ Info: Arnoldi schursolve in iter 1, krylovdim = 5: 0 values converged, normres = (1.62e-02, 2.95e-02, 2.93e-01, 1.97e-01, 3.05e-02)\n",
      "[ Info: Arnoldi iteration step 6: normres = 0.49500012907461954\n",
      "[ Info: Arnoldi schursolve in iter 1, krylovdim = 6: 0 values converged, normres = (6.69e-03, 1.21e-01, 4.53e-01, 1.30e-01, 8.52e-02)\n",
      "[ Info: Arnoldi iteration step 7: normres = 0.0868013014611168\n",
      "[ Info: Arnoldi schursolve in iter 1, krylovdim = 7: 0 values converged, normres = (3.36e-04, 3.58e-02, 7.72e-03, 5.32e-02, 4.92e-02)\n",
      "[ Info: Arnoldi iteration step 8: normres = 0.11579806629841129\n",
      "[ Info: Arnoldi schursolve in iter 1, krylovdim = 8: 0 values converged, normres = (1.72e-05, 3.05e-03, 7.16e-04, 2.29e-02, 5.48e-02)\n",
      "[ Info: Arnoldi iteration step 9: normres = 0.089163722351597\n",
      "[ Info: Arnoldi schursolve in iter 1, krylovdim = 9: 0 values converged, normres = (6.61e-07, 1.94e-04, 5.06e-05, 7.13e-03, 4.03e-02)\n",
      "[ Info: Arnoldi iteration step 10: normres = 0.08540160879290609\n",
      "[ Info: Arnoldi schursolve in iter 1, krylovdim = 10: 0 values converged, normres = (2.47e-08, 1.21e-05, 3.51e-06, 2.30e-03, 3.05e-02)\n",
      "[ Info: Arnoldi iteration step 11: normres = 0.07440296473873866\n",
      "[ Info: Arnoldi schursolve in iter 1, krylovdim = 11: 0 values converged, normres = (7.97e-10, 6.40e-07, 2.07e-07, 5.88e-04, 1.77e-02)\n",
      "[ Info: Arnoldi iteration step 12: normres = 0.07973045163966247\n",
      "[ Info: Arnoldi schursolve in iter 1, krylovdim = 12: 0 values converged, normres = (2.74e-11, 3.62e-08, 1.30e-08, 1.53e-04, 9.69e-03)\n",
      "[ Info: Arnoldi iteration step 13: normres = 0.059238702035320404\n",
      "[ Info: Arnoldi schursolve in iter 1, krylovdim = 13: 1 values converged, normres = (6.83e-13, 1.46e-09, 5.79e-10, 2.47e-05, 2.91e-03)\n",
      "[ Info: Arnoldi iteration step 14: normres = 0.5763777773170095\n",
      "[ Info: Arnoldi schursolve in iter 1, krylovdim = 14: 1 values converged, normres = (2.97e-13, 2.00e-09, 1.19e-09, 5.72e-01, 4.05e-03)\n",
      "[ Info: Arnoldi iteration step 15: normres = 0.07416865679099134\n",
      "[ Info: Arnoldi schursolve in iter 1, krylovdim = 15: 1 values converged, normres = (1.15e-14, 3.07e-10, 3.40e-02, 1.60e-03, 2.43e-06)\n",
      "[ Info: Arnoldi iteration step 16: normres = 0.5589260189912512\n",
      "[ Info: Arnoldi schursolve in iter 1, krylovdim = 16: 1 values converged, normres = (5.44e-15, 6.37e-10, 1.17e-01, 1.52e-02, 5.44e-01)\n",
      "[ Info: Arnoldi iteration step 17: normres = 0.03595964871273145\n",
      "[ Info: Arnoldi schursolve in iter 1, krylovdim = 17: 1 values converged, normres = (1.05e-16, 4.30e-08, 1.44e-02, 3.64e-03, 3.12e-04)\n",
      "[ Info: Arnoldi iteration step 18: normres = 0.02531793572283773\n",
      "[ Info: Arnoldi schursolve in iter 1, krylovdim = 18: 1 values converged, normres = (1.10e-18, 1.59e-04, 1.80e-04, 1.07e-07, 6.74e-05)\n",
      "[ Info: Arnoldi iteration step 19: normres = 0.2085697443743946\n",
      "[ Info: Arnoldi schursolve in iter 1, krylovdim = 19: 1 values converged, normres = (1.04e-19, 8.25e-09, 3.89e-05, 1.22e-05, 3.43e-07)\n",
      "[ Info: Arnoldi iteration step 20: normres = 0.03952989050778407\n",
      "[ Info: Arnoldi schursolve in iter 1, krylovdim = 20: 1 values converged, normres = (1.86e-21, 1.12e-06, 4.06e-07, 3.98e-07, 1.36e-07)\n",
      "[ Info: Arnoldi iteration step 21: normres = 0.027676929802637407\n",
      "[ Info: Arnoldi schursolve in iter 1, krylovdim = 21: 1 values converged, normres = (2.14e-23, 1.58e-08, 1.53e-08, 1.65e-09, 8.44e-09)\n",
      "[ Info: Arnoldi iteration step 22: normres = 0.04969619166105618\n",
      "[ Info: Arnoldi schursolve in iter 1, krylovdim = 22: 1 values converged, normres = (4.38e-25, 7.14e-10, 4.84e-11, 7.38e-11, 2.99e-10)\n",
      "[ Info: Arnoldi iteration step 23: normres = 0.44469357734362963\n",
      "[ Info: Arnoldi schursolve in iter 1, krylovdim = 23: 1 values converged, normres = (1.62e-25, 1.07e-09, 1.64e-10, 2.09e-10, 8.61e-10)\n",
      "[ Info: Arnoldi iteration step 24: normres = 0.014929590421254357\n",
      "[ Info: Arnoldi schursolve in iter 1, krylovdim = 24: 1 values converged, normres = (1.14e-27, 2.21e-11, 1.90e-12, 1.32e-09, 5.07e-09)\n",
      "[ Info: Arnoldi iteration step 25: normres = 0.03466131948436767\n",
      "[ Info: Arnoldi schursolve in iter 1, krylovdim = 25: 3 values converged, normres = (1.62e-29, 5.00e-13, 4.28e-14, 2.68e-09, 1.27e-08)\n",
      "[ Info: Arnoldi iteration step 26: normres = 0.08475359061500073\n",
      "[ Info: Arnoldi schursolve in iter 1, krylovdim = 26: 3 values converged, normres = (6.12e-31, 3.17e-14, 2.72e-15, 4.09e-06, 1.88e-07)\n",
      "[ Info: Arnoldi iteration step 27: normres = 0.05371865699823124\n",
      "[ Info: Arnoldi schursolve in iter 1, krylovdim = 27: 3 values converged, normres = (1.37e-32, 1.15e-15, 9.84e-17, 9.14e-08, 7.96e-09)\n",
      "[ Info: Arnoldi iteration step 28: normres = 0.06041672315015025\n",
      "[ Info: Arnoldi schursolve in iter 1, krylovdim = 28: 3 values converged, normres = (3.68e-34, 5.15e-17, 4.41e-18, 1.54e-08, 2.69e-09)\n",
      "[ Info: Arnoldi iteration step 29: normres = 0.05103061471818576\n",
      "[ Info: Arnoldi schursolve in iter 1, krylovdim = 29: 3 values converged, normres = (7.77e-36, 1.74e-18, 1.49e-19, 5.44e-11, 6.53e-10)\n",
      "[ Info: Arnoldi iteration step 30: normres = 0.10578687268114333\n",
      "[ Info: Arnoldi schursolve in iter 1, krylovdim = 30: 3 values converged, normres = (4.06e-37, 1.64e-19, 1.41e-20, 5.80e-12, 7.05e-11)\n",
      "[ Info: Arnoldi schursolve in iter 2, krylovdim = 19: 3 values converged, normres = (4.06e-37, 1.64e-19, 1.41e-20, 5.80e-12, 7.05e-11)\n",
      "[ Info: Arnoldi iteration step 20: normres = 0.024425466773983644\n",
      "[ Info: Arnoldi schursolve in iter 2, krylovdim = 20: 4 values converged, normres = (4.13e-39, 2.69e-21, 2.31e-22, 1.06e-13, 1.28e-12)\n",
      "[ Info: Arnoldi iteration step 21: normres = 0.07582220334799568\n",
      "┌ Info: Arnoldi eigsolve finished after 2 iterations:\n",
      "│ *  6 eigenvalues converged\n",
      "│ *  norm of residuals = (1.3239574954346765e-40, 1.4021757139724495e-22, 5.1899230839347444e-23, 6.073557005935841e-15, 6.793497088684244e-14, 1.765661317366597e-14)\n",
      "└ *  number of operations = 32\n"
     ]
    }
   ],
   "cell_type": "code",
   "source": [
    "eigsolve(eps_fun, randn(size(scfres.ρ)), 5, :LM; eager=true, verbosity=3);"
   ],
   "metadata": {},
   "execution_count": 3
  }
 ],
 "nbformat_minor": 3,
 "metadata": {
  "language_info": {
   "file_extension": ".jl",
   "mimetype": "application/julia",
   "name": "julia",
   "version": "1.8.2"
  },
  "kernelspec": {
   "name": "julia-1.8",
   "display_name": "Julia 1.8.2",
   "language": "julia"
  }
 },
 "nbformat": 4
}
