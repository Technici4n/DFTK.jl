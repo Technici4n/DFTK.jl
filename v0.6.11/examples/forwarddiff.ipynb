{
 "cells": [
  {
   "cell_type": "markdown",
   "source": [
    "# Polarizability using automatic differentiation\n",
    "\n",
    "Simple example for computing properties using (forward-mode)\n",
    "automatic differentiation.\n",
    "For a more classical approach and more details about computing polarizabilities,\n",
    "see Polarizability by linear response."
   ],
   "metadata": {}
  },
  {
   "outputs": [],
   "cell_type": "code",
   "source": [
    "using DFTK\n",
    "using LinearAlgebra\n",
    "using ForwardDiff\n",
    "\n",
    "# Construct PlaneWaveBasis given a particular electric field strength\n",
    "# Again we take the example of a Helium atom.\n",
    "function make_basis(ε::T; a=10., Ecut=30) where {T}\n",
    "    lattice=T(a) * I(3)  # lattice is a cube of $a$ Bohrs\n",
    "    # Helium at the center of the box\n",
    "    atoms     = [ElementPsp(:He, psp=load_psp(\"hgh/lda/He-q2\"))]\n",
    "    positions = [[1/2, 1/2, 1/2]]\n",
    "\n",
    "    model = model_DFT(lattice, atoms, positions, [:lda_x, :lda_c_vwn];\n",
    "                      extra_terms=[ExternalFromReal(r -> -ε * (r[1] - a/2))],\n",
    "                      symmetries=false)\n",
    "    PlaneWaveBasis(model; Ecut, kgrid=[1, 1, 1])  # No k-point sampling on isolated system\n",
    "end\n",
    "\n",
    "# dipole moment of a given density (assuming the current geometry)\n",
    "function dipole(basis, ρ)\n",
    "    @assert isdiag(basis.model.lattice)\n",
    "    a  = basis.model.lattice[1, 1]\n",
    "    rr = [a * (r[1] - 1/2) for r in r_vectors(basis)]\n",
    "    sum(rr .* ρ) * basis.dvol\n",
    "end\n",
    "\n",
    "# Function to compute the dipole for a given field strength\n",
    "function compute_dipole(ε; tol=1e-8, kwargs...)\n",
    "    scfres = self_consistent_field(make_basis(ε; kwargs...); tol)\n",
    "    dipole(scfres.basis, scfres.ρ)\n",
    "end;"
   ],
   "metadata": {},
   "execution_count": 1
  },
  {
   "cell_type": "markdown",
   "source": [
    "With this in place we can compute the polarizability from finite differences\n",
    "(just like in the previous example):"
   ],
   "metadata": {}
  },
  {
   "outputs": [
    {
     "name": "stdout",
     "output_type": "stream",
     "text": [
      "n     Energy            log10(ΔE)   log10(Δρ)   Diag   Δtime\n",
      "---   ---------------   ---------   ---------   ----   ------\n",
      "  1   -2.770715766026                   -0.53    8.0         \n",
      "  2   -2.772139373534       -2.85       -1.31    1.0    162ms\n",
      "  3   -2.772170239924       -4.51       -2.57    1.0    190ms\n",
      "  4   -2.772170675239       -6.36       -3.47    1.0    155ms\n",
      "  5   -2.772170722109       -7.33       -4.02    2.0    216ms\n",
      "  6   -2.772170722973       -9.06       -4.73    1.0    159ms\n",
      "  7   -2.772170723011      -10.42       -5.46    1.0    181ms\n",
      "  8   -2.772170723015      -11.44       -6.17    2.0    188ms\n",
      "  9   -2.772170723015      -13.42       -6.67    1.0    187ms\n",
      " 10   -2.772170723015   +  -14.07       -7.03    1.0    173ms\n",
      " 11   -2.772170723015   +  -14.21       -7.38    1.0    191ms\n",
      " 12   -2.772170723015      -14.27       -8.47    2.0    201ms\n",
      "n     Energy            log10(ΔE)   log10(Δρ)   Diag   Δtime\n",
      "---   ---------------   ---------   ---------   ----   ------\n",
      "  1   -2.770793927955                   -0.52   10.0         \n",
      "  2   -2.772061048353       -2.90       -1.32    1.0    189ms\n",
      "  3   -2.772083033013       -4.66       -2.44    1.0    157ms\n",
      "  4   -2.772083334686       -6.52       -3.13    1.0    211ms\n",
      "  5   -2.772083417514       -7.08       -4.24    2.0    179ms\n",
      "  6   -2.772083417795       -9.55       -5.28    1.0    180ms\n",
      "  7   -2.772083417810      -10.82       -5.71    2.0    184ms\n",
      "  8   -2.772083417811      -12.02       -6.67    2.0    198ms\n",
      "  9   -2.772083417811      -14.12       -7.01    1.0    187ms\n",
      " 10   -2.772083417811      -13.77       -7.86    2.0    223ms\n",
      " 11   -2.772083417811   +  -14.01       -8.36    1.0    179ms\n"
     ]
    },
    {
     "output_type": "execute_result",
     "data": {
      "text/plain": "1.7735579901989036"
     },
     "metadata": {},
     "execution_count": 2
    }
   ],
   "cell_type": "code",
   "source": [
    "polarizability_fd = let\n",
    "    ε = 0.01\n",
    "    (compute_dipole(ε) - compute_dipole(0.0)) / ε\n",
    "end"
   ],
   "metadata": {},
   "execution_count": 2
  },
  {
   "cell_type": "markdown",
   "source": [
    "We do the same thing using automatic differentiation. Under the hood this uses\n",
    "custom rules to implicitly differentiate through the self-consistent\n",
    "field fixed-point problem."
   ],
   "metadata": {}
  },
  {
   "outputs": [
    {
     "name": "stdout",
     "output_type": "stream",
     "text": [
      "n     Energy            log10(ΔE)   log10(Δρ)   Diag   Δtime\n",
      "---   ---------------   ---------   ---------   ----   ------\n",
      "  1   -2.770531789654                   -0.53    9.0         \n",
      "  2   -2.772048126685       -2.82       -1.30    1.0    150ms\n",
      "  3   -2.772082596192       -4.46       -2.66    1.0    206ms\n",
      "  4   -2.772083415075       -6.09       -3.86    2.0    175ms\n",
      "  5   -2.772083417631       -8.59       -4.40    2.0    229ms\n",
      "  6   -2.772083417804       -9.76       -5.47    1.0    160ms\n",
      "  7   -2.772083417811      -11.21       -6.04    2.0    192ms\n",
      "  8   -2.772083417811      -12.92       -6.96    2.0    186ms\n",
      "  9   -2.772083417811   +  -13.94       -7.37    1.0    188ms\n",
      " 10   -2.772083417811   +  -14.31       -8.63    2.0    199ms\n",
      "\n",
      "Polarizability via ForwardDiff:       1.7725349696871942\n",
      "Polarizability via finite difference: 1.7735579901989036\n"
     ]
    }
   ],
   "cell_type": "code",
   "source": [
    "polarizability = ForwardDiff.derivative(compute_dipole, 0.0)\n",
    "println()\n",
    "println(\"Polarizability via ForwardDiff:       $polarizability\")\n",
    "println(\"Polarizability via finite difference: $polarizability_fd\")"
   ],
   "metadata": {},
   "execution_count": 3
  }
 ],
 "nbformat_minor": 3,
 "metadata": {
  "language_info": {
   "file_extension": ".jl",
   "mimetype": "application/julia",
   "name": "julia",
   "version": "1.9.2"
  },
  "kernelspec": {
   "name": "julia-1.9",
   "display_name": "Julia 1.9.2",
   "language": "julia"
  }
 },
 "nbformat": 4
}
