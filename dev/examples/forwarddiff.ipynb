{
 "cells": [
  {
   "cell_type": "markdown",
   "source": [
    "# Polarizability using automatic differentiation\n",
    "\n",
    "Simple example for computing properties using (forward-mode)\n",
    "automatic differentiation.\n",
    "For a more classical approach and more details about computing polarizabilities,\n",
    "see Polarizability by linear response."
   ],
   "metadata": {}
  },
  {
   "outputs": [],
   "cell_type": "code",
   "source": [
    "using DFTK\n",
    "using LinearAlgebra\n",
    "using ForwardDiff\n",
    "\n",
    "# Construct PlaneWaveBasis given a particular electric field strength\n",
    "# Again we take the example of a Helium atom.\n",
    "function make_basis(ε::T; a=10., Ecut=30) where {T}\n",
    "    lattice=T(a) * I(3)  # lattice is a cube of $a$ Bohrs\n",
    "    # Helium at the center of the box\n",
    "    atoms     = [ElementPsp(:He, psp=load_psp(\"hgh/lda/He-q2\"))]\n",
    "    positions = [[1/2, 1/2, 1/2]]\n",
    "\n",
    "    model = model_DFT(lattice, atoms, positions, [:lda_x, :lda_c_vwn];\n",
    "                      extra_terms=[ExternalFromReal(r -> -ε * (r[1] - a/2))],\n",
    "                      symmetries=false)\n",
    "    PlaneWaveBasis(model; Ecut, kgrid=[1, 1, 1])  # No k-point sampling on isolated system\n",
    "end\n",
    "\n",
    "# dipole moment of a given density (assuming the current geometry)\n",
    "function dipole(basis, ρ)\n",
    "    @assert isdiag(basis.model.lattice)\n",
    "    a  = basis.model.lattice[1, 1]\n",
    "    rr = [a * (r[1] - 1/2) for r in r_vectors(basis)]\n",
    "    sum(rr .* ρ) * basis.dvol\n",
    "end\n",
    "\n",
    "# Function to compute the dipole for a given field strength\n",
    "function compute_dipole(ε; tol=1e-8, kwargs...)\n",
    "    scfres = self_consistent_field(make_basis(ε; kwargs...); tol)\n",
    "    dipole(scfres.basis, scfres.ρ)\n",
    "end;"
   ],
   "metadata": {},
   "execution_count": 1
  },
  {
   "cell_type": "markdown",
   "source": [
    "With this in place we can compute the polarizability from finite differences\n",
    "(just like in the previous example):"
   ],
   "metadata": {}
  },
  {
   "outputs": [
    {
     "name": "stdout",
     "output_type": "stream",
     "text": [
      "n     Energy            log10(ΔE)   log10(Δρ)   Diag   Δtime\n",
      "---   ---------------   ---------   ---------   ----   ------\n",
      "  1   -2.770880510890                   -0.52    9.0         \n",
      "  2   -2.772148760382       -2.90       -1.32    1.0    160ms\n",
      "  3   -2.772170270126       -4.67       -2.43    1.0    139ms\n",
      "  4   -2.772170652720       -6.42       -3.15    1.0    156ms\n",
      "  5   -2.772170722888       -7.15       -4.36    2.0    160ms\n",
      "  6   -2.772170722970      -10.09       -4.63    1.0    157ms\n",
      "  7   -2.772170723013      -10.37       -5.72    1.0    146ms\n",
      "  8   -2.772170723015      -11.69       -6.25    2.0    180ms\n",
      "  9   -2.772170723015      -13.57       -6.72    1.0    152ms\n",
      " 10   -2.772170723015   +  -14.57       -7.25    1.0    180ms\n",
      " 11   -2.772170723015   +  -14.51       -7.93    2.0    184ms\n",
      " 12   -2.772170723015      -14.75       -8.32    1.0    184ms\n",
      "n     Energy            log10(ΔE)   log10(Δρ)   Diag   Δtime\n",
      "---   ---------------   ---------   ---------   ----   ------\n",
      "  1   -2.770787683745                   -0.52    9.0         \n",
      "  2   -2.772060008408       -2.90       -1.32    1.0    153ms\n",
      "  3   -2.772083114721       -4.64       -2.47    1.0    140ms\n",
      "  4   -2.772083344100       -6.64       -3.17    1.0    153ms\n",
      "  5   -2.772083416249       -7.14       -3.91    2.0    159ms\n",
      "  6   -2.772083417756       -8.82       -5.07    1.0    144ms\n",
      "  7   -2.772083417810      -10.26       -5.53    2.0    170ms\n",
      "  8   -2.772083417811      -12.91       -6.48    1.0    150ms\n",
      "  9   -2.772083417811      -13.39       -7.61    2.0    188ms\n",
      " 10   -2.772083417811      -14.45       -8.09    1.0    172ms\n"
     ]
    },
    {
     "output_type": "execute_result",
     "data": {
      "text/plain": "1.7735578504253355"
     },
     "metadata": {},
     "execution_count": 2
    }
   ],
   "cell_type": "code",
   "source": [
    "polarizability_fd = let\n",
    "    ε = 0.01\n",
    "    (compute_dipole(ε) - compute_dipole(0.0)) / ε\n",
    "end"
   ],
   "metadata": {},
   "execution_count": 2
  },
  {
   "cell_type": "markdown",
   "source": [
    "We do the same thing using automatic differentiation. Under the hood this uses\n",
    "custom rules to implicitly differentiate through the self-consistent\n",
    "field fixed-point problem."
   ],
   "metadata": {}
  },
  {
   "outputs": [
    {
     "name": "stdout",
     "output_type": "stream",
     "text": [
      "n     Energy            log10(ΔE)   log10(Δρ)   Diag   Δtime\n",
      "---   ---------------   ---------   ---------   ----   ------\n",
      "  1   -2.770839547434                   -0.52    9.0         \n",
      "  2   -2.772062866329       -2.91       -1.32    1.0    137ms\n",
      "  3   -2.772083091869       -4.69       -2.46    1.0    178ms\n",
      "  4   -2.772083350579       -6.59       -3.17    1.0    141ms\n",
      "  5   -2.772083417327       -7.18       -4.12    2.0    182ms\n",
      "  6   -2.772083417634       -9.51       -4.41    1.0    162ms\n",
      "  7   -2.772083417808       -9.76       -5.39    1.0    149ms\n",
      "  8   -2.772083417810      -11.64       -5.83    1.0    159ms\n",
      "  9   -2.772083417811      -12.88       -6.32    1.0    161ms\n",
      " 10   -2.772083417811      -13.56       -7.88    2.0    183ms\n",
      " 11   -2.772083417811      -14.40       -7.80    2.0    174ms\n",
      " 12   -2.772083417811      -14.45       -8.54    1.0    161ms\n",
      "\n",
      "Polarizability via ForwardDiff:       1.7725349768435497\n",
      "Polarizability via finite difference: 1.7735578504253355\n"
     ]
    }
   ],
   "cell_type": "code",
   "source": [
    "polarizability = ForwardDiff.derivative(compute_dipole, 0.0)\n",
    "println()\n",
    "println(\"Polarizability via ForwardDiff:       $polarizability\")\n",
    "println(\"Polarizability via finite difference: $polarizability_fd\")"
   ],
   "metadata": {},
   "execution_count": 3
  }
 ],
 "nbformat_minor": 3,
 "metadata": {
  "language_info": {
   "file_extension": ".jl",
   "mimetype": "application/julia",
   "name": "julia",
   "version": "1.9.2"
  },
  "kernelspec": {
   "name": "julia-1.9",
   "display_name": "Julia 1.9.2",
   "language": "julia"
  }
 },
 "nbformat": 4
}
