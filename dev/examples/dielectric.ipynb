{
 "cells": [
  {
   "cell_type": "markdown",
   "source": [
    "# Eigenvalues of the dielectric matrix\n",
    "\n",
    "We compute a few eigenvalues of the dielectric matrix ($q=0$, $ω=0$) iteratively."
   ],
   "metadata": {}
  },
  {
   "outputs": [
    {
     "name": "stdout",
     "output_type": "stream",
     "text": [
      "n     Energy            log10(ΔE)   log10(Δρ)   Diag   Δtime\n",
      "---   ---------------   ---------   ---------   ----   ------\n",
      "  1   -7.233540803505                   -0.50    8.0         \n",
      "  2   -7.249838020777       -1.79       -1.39    1.0   9.49ms\n",
      "  3   -7.251094410082       -2.90       -1.93    2.0   11.4ms\n",
      "  4   -7.250961729016   +   -3.88       -1.87    2.0   11.8ms\n",
      "  5   -7.251330152567       -3.43       -2.68    1.0   9.50ms\n",
      "  6   -7.251337864953       -5.11       -3.09    1.0   9.87ms\n",
      "  7   -7.251338692256       -6.08       -3.68    1.0   10.0ms\n",
      "  8   -7.251338792797       -7.00       -4.12    2.0   11.9ms\n",
      "  9   -7.251338798163       -8.27       -4.72    2.0   11.5ms\n",
      " 10   -7.251338798636       -9.33       -5.16    2.0   11.7ms\n",
      " 11   -7.251338798693      -10.24       -5.52    2.0   11.6ms\n",
      " 12   -7.251338798703      -10.99       -6.16    1.0   9.84ms\n",
      " 13   -7.251338798704      -12.01       -6.41    2.0   11.8ms\n",
      " 14   -7.251338798705      -12.73       -7.00    1.0   10.1ms\n",
      " 15   -7.251338798705      -13.69       -7.35    2.0   12.0ms\n",
      " 16   -7.251338798705      -15.05       -7.78    1.0   10.7ms\n",
      " 17   -7.251338798705   +    -Inf       -8.50    2.0   11.9ms\n"
     ]
    }
   ],
   "cell_type": "code",
   "source": [
    "using DFTK\n",
    "using Plots\n",
    "using KrylovKit\n",
    "using Printf\n",
    "\n",
    "# Calculation parameters\n",
    "kgrid = [1, 1, 1]\n",
    "Ecut = 5\n",
    "\n",
    "# Silicon lattice\n",
    "a = 10.26\n",
    "lattice = a / 2 .* [[0 1 1.]; [1 0 1.]; [1 1 0.]]\n",
    "Si = ElementPsp(:Si, psp=load_psp(\"hgh/lda/Si-q4\"))\n",
    "atoms     = [Si, Si]\n",
    "positions = [ones(3)/8, -ones(3)/8]\n",
    "\n",
    "# Compute the dielectric operator without symmetries\n",
    "model  = model_LDA(lattice, atoms, positions, symmetries=false)\n",
    "basis  = PlaneWaveBasis(model; Ecut, kgrid)\n",
    "scfres = self_consistent_field(basis, tol=1e-8);"
   ],
   "metadata": {},
   "execution_count": 1
  },
  {
   "cell_type": "markdown",
   "source": [
    "Applying $ε^† ≔ (1- χ_0 K)$ …"
   ],
   "metadata": {}
  },
  {
   "outputs": [],
   "cell_type": "code",
   "source": [
    "function eps_fun(δρ)\n",
    "    δV = apply_kernel(basis, δρ; ρ=scfres.ρ)\n",
    "    χ0δV = apply_χ0(scfres, δV)\n",
    "    δρ - χ0δV\n",
    "end;"
   ],
   "metadata": {},
   "execution_count": 2
  },
  {
   "cell_type": "markdown",
   "source": [
    "… eagerly diagonalizes the subspace matrix at each iteration"
   ],
   "metadata": {}
  },
  {
   "outputs": [
    {
     "name": "stdout",
     "output_type": "stream",
     "text": [
      "[ Info: Arnoldi iteration step 1: normres = 0.08046625504709679\n",
      "[ Info: Arnoldi iteration step 2: normres = 0.5886504190342801\n",
      "[ Info: Arnoldi iteration step 3: normres = 0.6513359002642987\n",
      "[ Info: Arnoldi iteration step 4: normres = 0.1803372677800273\n",
      "[ Info: Arnoldi iteration step 5: normres = 0.2732885847104777\n",
      "[ Info: Arnoldi schursolve in iter 1, krylovdim = 5: 0 values converged, normres = (5.09e-03, 2.03e-02, 2.17e-01, 1.60e-01, 3.59e-02)\n",
      "[ Info: Arnoldi iteration step 6: normres = 0.5798761032341905\n",
      "[ Info: Arnoldi schursolve in iter 1, krylovdim = 6: 0 values converged, normres = (2.21e-03, 4.38e-02, 5.55e-01, 1.36e-01, 7.05e-02)\n",
      "[ Info: Arnoldi iteration step 7: normres = 0.08619013126356262\n",
      "[ Info: Arnoldi schursolve in iter 1, krylovdim = 7: 0 values converged, normres = (1.25e-04, 4.65e-02, 5.80e-03, 4.48e-02, 4.73e-02)\n",
      "[ Info: Arnoldi iteration step 8: normres = 0.10719355462090249\n",
      "[ Info: Arnoldi schursolve in iter 1, krylovdim = 8: 0 values converged, normres = (5.73e-06, 3.46e-03, 5.09e-04, 1.37e-02, 3.52e-02)\n",
      "[ Info: Arnoldi iteration step 9: normres = 0.05652336377451212\n",
      "[ Info: Arnoldi schursolve in iter 1, krylovdim = 9: 0 values converged, normres = (1.40e-07, 1.39e-04, 2.28e-05, 2.64e-03, 2.47e-02)\n",
      "[ Info: Arnoldi iteration step 10: normres = 0.07479210808711756\n",
      "[ Info: Arnoldi schursolve in iter 1, krylovdim = 10: 0 values converged, normres = (4.48e-09, 7.30e-06, 1.33e-06, 6.01e-04, 1.63e-02)\n",
      "[ Info: Arnoldi iteration step 11: normres = 0.052414394921653513\n",
      "[ Info: Arnoldi schursolve in iter 1, krylovdim = 11: 0 values converged, normres = (9.95e-11, 2.63e-07, 5.29e-08, 8.82e-05, 5.78e-03)\n",
      "[ Info: Arnoldi iteration step 12: normres = 0.03484962242872323\n",
      "[ Info: Arnoldi schursolve in iter 1, krylovdim = 12: 0 values converged, normres = (1.45e-12, 6.19e-09, 1.37e-09, 7.96e-06, 1.16e-03)\n",
      "[ Info: Arnoldi iteration step 13: normres = 0.49355621108089176\n",
      "[ Info: Arnoldi schursolve in iter 1, krylovdim = 13: 1 values converged, normres = (3.38e-13, 2.52e-09, 6.33e-10, 3.29e-05, 4.74e-01)\n",
      "[ Info: Arnoldi iteration step 14: normres = 0.31300088645356267\n",
      "[ Info: Arnoldi schursolve in iter 1, krylovdim = 14: 1 values converged, normres = (8.50e-14, 3.04e-09, 2.06e-09, 2.83e-01, 6.46e-04)\n",
      "[ Info: Arnoldi iteration step 15: normres = 0.05348025558416617\n",
      "[ Info: Arnoldi schursolve in iter 1, krylovdim = 15: 1 values converged, normres = (2.20e-15, 1.95e-10, 1.32e-02, 2.09e-03, 3.65e-07)\n",
      "[ Info: Arnoldi iteration step 16: normres = 0.7303177202870025\n",
      "[ Info: Arnoldi schursolve in iter 1, krylovdim = 16: 1 values converged, normres = (8.99e-16, 1.62e-10, 1.23e-02, 4.85e-03, 7.25e-01)\n",
      "[ Info: Arnoldi iteration step 17: normres = 0.04712480621711904\n",
      "[ Info: Arnoldi schursolve in iter 1, krylovdim = 17: 1 values converged, normres = (3.45e-17, 3.40e-08, 3.56e-02, 1.84e-05, 2.61e-03)\n",
      "[ Info: Arnoldi iteration step 18: normres = 0.02350574842219953\n",
      "[ Info: Arnoldi schursolve in iter 1, krylovdim = 18: 1 values converged, normres = (3.35e-19, 4.38e-04, 3.36e-04, 1.43e-07, 4.14e-05)\n",
      "[ Info: Arnoldi iteration step 19: normres = 0.22480370170624295\n",
      "[ Info: Arnoldi schursolve in iter 1, krylovdim = 19: 1 values converged, normres = (3.34e-20, 2.02e-08, 9.18e-05, 2.68e-06, 7.17e-06)\n",
      "[ Info: Arnoldi iteration step 20: normres = 0.039654526275101416\n",
      "[ Info: Arnoldi schursolve in iter 1, krylovdim = 20: 1 values converged, normres = (6.13e-22, 1.65e-06, 2.44e-06, 1.66e-09, 2.78e-07)\n",
      "[ Info: Arnoldi iteration step 21: normres = 0.03240328474432821\n",
      "[ Info: Arnoldi schursolve in iter 1, krylovdim = 21: 1 values converged, normres = (8.27e-24, 1.06e-08, 6.29e-08, 1.48e-09, 6.47e-09)\n",
      "[ Info: Arnoldi iteration step 22: normres = 0.06534303541575062\n",
      "[ Info: Arnoldi schursolve in iter 1, krylovdim = 22: 1 values converged, normres = (2.23e-25, 2.70e-09, 5.40e-10, 7.36e-11, 3.07e-10)\n",
      "[ Info: Arnoldi iteration step 23: normres = 0.4025414065059609\n",
      "[ Info: Arnoldi schursolve in iter 1, krylovdim = 23: 1 values converged, normres = (7.62e-26, 4.01e-09, 7.06e-10, 2.25e-10, 9.33e-10)\n",
      "[ Info: Arnoldi iteration step 24: normres = 0.01374681113618116\n",
      "[ Info: Arnoldi schursolve in iter 1, krylovdim = 24: 1 values converged, normres = (4.84e-28, 7.02e-11, 1.15e-11, 2.64e-03, 2.54e-03)\n",
      "[ Info: Arnoldi iteration step 25: normres = 0.06943440225300683\n",
      "[ Info: Arnoldi schursolve in iter 1, krylovdim = 25: 1 values converged, normres = (1.39e-29, 3.21e-12, 5.70e-13, 2.33e-09, 9.59e-09)\n",
      "[ Info: Arnoldi iteration step 26: normres = 0.04852325610902704\n",
      "[ Info: Arnoldi schursolve in iter 1, krylovdim = 26: 3 values converged, normres = (3.03e-31, 1.18e-13, 2.10e-14, 9.46e-07, 1.14e-06)\n",
      "[ Info: Arnoldi iteration step 27: normres = 0.06593270064511463\n",
      "[ Info: Arnoldi schursolve in iter 1, krylovdim = 27: 3 values converged, normres = (8.28e-33, 5.20e-15, 9.22e-16, 2.10e-07, 3.01e-07)\n",
      "[ Info: Arnoldi iteration step 28: normres = 0.04735325561158167\n",
      "[ Info: Arnoldi schursolve in iter 1, krylovdim = 28: 3 values converged, normres = (1.73e-34, 1.81e-16, 3.21e-17, 3.32e-10, 4.53e-09)\n",
      "[ Info: Arnoldi iteration step 29: normres = 0.03575891857469814\n",
      "[ Info: Arnoldi schursolve in iter 1, krylovdim = 29: 3 values converged, normres = (2.55e-36, 4.27e-18, 7.57e-19, 9.85e-12, 1.56e-10)\n",
      "[ Info: Arnoldi iteration step 30: normres = 0.14434169377391812\n",
      "[ Info: Arnoldi schursolve in iter 1, krylovdim = 30: 3 values converged, normres = (1.79e-37, 5.36e-19, 9.50e-20, 1.41e-12, 2.25e-11)\n",
      "[ Info: Arnoldi schursolve in iter 2, krylovdim = 19: 3 values converged, normres = (1.79e-37, 5.36e-19, 9.50e-20, 1.41e-12, 2.25e-11)\n",
      "[ Info: Arnoldi iteration step 20: normres = 0.032387178437019395\n",
      "┌ Info: Arnoldi eigsolve finished after 2 iterations:\n",
      "│ *  5 eigenvalues converged\n",
      "│ *  norm of residuals = (2.452401675901733e-39, 1.1954500713410727e-20, 3.27548875298861e-21, 3.484693348104436e-14, 5.55455163719166e-13)\n",
      "└ *  number of operations = 31\n"
     ]
    }
   ],
   "cell_type": "code",
   "source": [
    "eigsolve(eps_fun, randn(size(scfres.ρ)), 5, :LM; eager=true, verbosity=3);"
   ],
   "metadata": {},
   "execution_count": 3
  }
 ],
 "nbformat_minor": 3,
 "metadata": {
  "language_info": {
   "file_extension": ".jl",
   "mimetype": "application/julia",
   "name": "julia",
   "version": "1.8.5"
  },
  "kernelspec": {
   "name": "julia-1.8",
   "display_name": "Julia 1.8.5",
   "language": "julia"
  }
 },
 "nbformat": 4
}
