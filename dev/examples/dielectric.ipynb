{
 "cells": [
  {
   "cell_type": "markdown",
   "source": [
    "# Eigenvalues of the dielectric matrix\n",
    "\n",
    "We compute a few eigenvalues of the dielectric matrix ($q=0$, $ω=0$) iteratively."
   ],
   "metadata": {}
  },
  {
   "outputs": [
    {
     "name": "stdout",
     "output_type": "stream",
     "text": [
      "n     Energy            log10(ΔE)   log10(Δρ)   Diag\n",
      "---   ---------------   ---------   ---------   ----\n",
      "  1   -7.232763009617                   -0.50    8.0\n",
      "  2   -7.250079594702       -1.76       -1.40    1.0\n",
      "  3   -7.251098621046       -2.99       -1.98    2.0\n",
      "  4   -7.251153099805       -4.26       -1.99    2.0\n",
      "  5   -7.251323668291       -3.77       -2.54    1.0\n",
      "  6   -7.251337883065       -4.85       -3.11    1.0\n",
      "  7   -7.251338713509       -6.08       -3.58    2.0\n",
      "  8   -7.251338788846       -7.12       -4.09    1.0\n",
      "  9   -7.251338797562       -8.06       -4.74    2.0\n",
      " 10   -7.251338798501       -9.03       -4.80    3.0\n",
      " 11   -7.251338798656       -9.81       -5.16    1.0\n",
      " 12   -7.251338798681      -10.61       -5.29    3.0\n",
      " 13   -7.251338798700      -10.72       -5.69    1.0\n",
      " 14   -7.251338798704      -11.38       -6.44    2.0\n",
      " 15   -7.251338798704      -12.67       -6.49    2.0\n",
      " 16   -7.251338798705      -13.01       -7.22    1.0\n",
      " 17   -7.251338798705      -14.27       -7.24    3.0\n",
      " 18   -7.251338798705      -14.45       -7.94    1.0\n",
      " 19   -7.251338798705      -14.57       -7.92    3.0\n",
      " 20   -7.251338798705      -14.75       -8.49    1.0\n"
     ]
    }
   ],
   "cell_type": "code",
   "source": [
    "using DFTK\n",
    "using Plots\n",
    "using KrylovKit\n",
    "using Printf\n",
    "\n",
    "# Calculation parameters\n",
    "kgrid = [1, 1, 1]\n",
    "Ecut = 5\n",
    "\n",
    "# Silicon lattice\n",
    "a = 10.26\n",
    "lattice = a / 2 .* [[0 1 1.]; [1 0 1.]; [1 1 0.]]\n",
    "Si = ElementPsp(:Si, psp=load_psp(\"hgh/lda/Si-q4\"))\n",
    "atoms     = [Si, Si]\n",
    "positions = [ones(3)/8, -ones(3)/8]\n",
    "\n",
    "# Compute the dielectric operator without symmetries\n",
    "model  = model_LDA(lattice, atoms, positions, symmetries=false)\n",
    "basis  = PlaneWaveBasis(model; Ecut, kgrid)\n",
    "scfres = self_consistent_field(basis, tol=1e-8);"
   ],
   "metadata": {},
   "execution_count": 1
  },
  {
   "cell_type": "markdown",
   "source": [
    "Applying $ε^† ≔ (1- χ_0 K)$ …"
   ],
   "metadata": {}
  },
  {
   "outputs": [],
   "cell_type": "code",
   "source": [
    "function eps_fun(δρ)\n",
    "    δV = apply_kernel(basis, δρ; ρ=scfres.ρ)\n",
    "    χ0δV = apply_χ0(scfres, δV)\n",
    "    δρ - χ0δV\n",
    "end;"
   ],
   "metadata": {},
   "execution_count": 2
  },
  {
   "cell_type": "markdown",
   "source": [
    "… eagerly diagonalizes the subspace matrix at each iteration"
   ],
   "metadata": {}
  },
  {
   "outputs": [
    {
     "name": "stdout",
     "output_type": "stream",
     "text": [
      "[ Info: Arnoldi iteration step 1: normres = 0.04910362100310163\n",
      "[ Info: Arnoldi iteration step 2: normres = 0.32685171711216576\n",
      "[ Info: Arnoldi iteration step 3: normres = 0.5031957585647238\n",
      "[ Info: Arnoldi iteration step 4: normres = 0.5079185939475834\n",
      "[ Info: Arnoldi iteration step 5: normres = 0.23231998806838075\n",
      "[ Info: Arnoldi schursolve in iter 1, krylovdim = 5: 0 values converged, normres = (5.16e-02, 1.27e-02, 1.55e-01, 7.41e-02, 1.47e-01)\n",
      "[ Info: Arnoldi iteration step 6: normres = 0.5053162890130384\n",
      "[ Info: Arnoldi schursolve in iter 1, krylovdim = 6: 0 values converged, normres = (2.17e-02, 4.61e-02, 4.93e-01, 7.43e-02, 1.69e-02)\n",
      "[ Info: Arnoldi iteration step 7: normres = 0.17248495736530225\n",
      "[ Info: Arnoldi schursolve in iter 1, krylovdim = 7: 0 values converged, normres = (2.32e-03, 8.24e-02, 9.60e-03, 1.35e-01, 6.03e-02)\n",
      "[ Info: Arnoldi iteration step 8: normres = 0.11280525268200924\n",
      "[ Info: Arnoldi schursolve in iter 1, krylovdim = 8: 0 values converged, normres = (1.15e-04, 6.73e-03, 6.64e-04, 4.68e-02, 3.59e-02)\n",
      "[ Info: Arnoldi iteration step 9: normres = 0.06352509927760237\n",
      "[ Info: Arnoldi schursolve in iter 1, krylovdim = 9: 0 values converged, normres = (3.16e-06, 3.07e-04, 3.39e-05, 1.03e-02, 2.60e-02)\n",
      "[ Info: Arnoldi iteration step 10: normres = 0.07407272204560367\n",
      "[ Info: Arnoldi schursolve in iter 1, krylovdim = 10: 0 values converged, normres = (9.99e-08, 1.59e-05, 1.94e-06, 2.29e-03, 1.68e-02)\n",
      "[ Info: Arnoldi iteration step 11: normres = 0.10802758602954131\n",
      "[ Info: Arnoldi schursolve in iter 1, krylovdim = 11: 0 values converged, normres = (4.74e-09, 1.25e-06, 1.70e-07, 9.03e-04, 2.53e-02)\n",
      "[ Info: Arnoldi iteration step 12: normres = 0.09637192844424078\n",
      "[ Info: Arnoldi schursolve in iter 1, krylovdim = 12: 0 values converged, normres = (1.99e-10, 8.69e-08, 1.32e-08, 3.33e-04, 5.00e-02)\n",
      "[ Info: Arnoldi iteration step 13: normres = 0.03214515602473275\n",
      "[ Info: Arnoldi schursolve in iter 1, krylovdim = 13: 0 values converged, normres = (2.76e-12, 1.99e-09, 3.35e-10, 3.69e-05, 1.06e-02)\n",
      "[ Info: Arnoldi iteration step 14: normres = 0.2641370518600954\n",
      "[ Info: Arnoldi schursolve in iter 1, krylovdim = 14: 1 values converged, normres = (3.05e-13, 3.54e-10, 6.58e-11, 2.48e-05, 1.14e-02)\n",
      "[ Info: Arnoldi iteration step 15: normres = 0.10703072870000467\n",
      "[ Info: Arnoldi schursolve in iter 1, krylovdim = 15: 1 values converged, normres = (3.04e-14, 2.50e-10, 8.68e-10, 1.05e-01, 6.01e-05)\n",
      "[ Info: Arnoldi iteration step 16: normres = 0.09413221832485175\n",
      "[ Info: Arnoldi schursolve in iter 1, krylovdim = 16: 1 values converged, normres = (1.20e-15, 1.66e-11, 7.32e-03, 2.45e-04, 8.31e-07)\n",
      "[ Info: Arnoldi iteration step 17: normres = 0.4697182972852811\n",
      "[ Info: Arnoldi schursolve in iter 1, krylovdim = 17: 1 values converged, normres = (5.27e-16, 4.82e-11, 1.28e-01, 1.23e-03, 4.51e-01)\n",
      "[ Info: Arnoldi iteration step 18: normres = 0.02165148670006927\n",
      "[ Info: Arnoldi schursolve in iter 1, krylovdim = 18: 1 values converged, normres = (5.56e-18, 5.65e-10, 7.09e-03, 5.45e-06, 3.98e-04)\n",
      "[ Info: Arnoldi iteration step 19: normres = 0.03890309519608576\n",
      "[ Info: Arnoldi schursolve in iter 1, krylovdim = 19: 1 values converged, normres = (8.89e-20, 7.47e-05, 1.65e-04, 4.72e-06, 9.82e-06)\n",
      "[ Info: Arnoldi iteration step 20: normres = 0.20292537898394938\n",
      "[ Info: Arnoldi schursolve in iter 1, krylovdim = 20: 1 values converged, normres = (8.03e-21, 2.35e-09, 2.74e-05, 2.67e-08, 1.84e-06)\n",
      "[ Info: Arnoldi iteration step 21: normres = 0.04771507018566467\n",
      "[ Info: Arnoldi schursolve in iter 1, krylovdim = 21: 1 values converged, normres = (1.78e-22, 1.33e-09, 1.06e-06, 2.46e-09, 8.08e-08)\n",
      "[ Info: Arnoldi iteration step 22: normres = 0.014529102987068688\n",
      "[ Info: Arnoldi schursolve in iter 1, krylovdim = 22: 1 values converged, normres = (1.07e-24, 8.56e-09, 5.57e-09, 1.50e-10, 8.42e-10)\n",
      "[ Info: Arnoldi iteration step 23: normres = 0.07820359496453158\n",
      "[ Info: Arnoldi schursolve in iter 1, krylovdim = 23: 1 values converged, normres = (3.44e-26, 5.13e-10, 1.06e-10, 8.76e-12, 4.75e-11)\n",
      "[ Info: Arnoldi iteration step 24: normres = 0.2820117222502083\n",
      "[ Info: Arnoldi schursolve in iter 1, krylovdim = 24: 1 values converged, normres = (8.65e-27, 6.91e-10, 6.53e-11, 3.41e-11, 1.86e-10)\n",
      "[ Info: Arnoldi iteration step 25: normres = 0.02972089819584279\n",
      "[ Info: Arnoldi schursolve in iter 1, krylovdim = 25: 1 values converged, normres = (1.13e-28, 2.02e-11, 2.75e-12, 4.70e-10, 2.08e-09)\n",
      "[ Info: Arnoldi iteration step 26: normres = 0.09797174385799752\n",
      "[ Info: Arnoldi schursolve in iter 1, krylovdim = 26: 1 values converged, normres = (4.90e-30, 1.47e-12, 2.03e-13, 3.07e-04, 2.75e-04)\n",
      "[ Info: Arnoldi iteration step 27: normres = 0.03964132007811684\n",
      "[ Info: Arnoldi schursolve in iter 1, krylovdim = 27: 3 values converged, normres = (8.16e-32, 3.96e-14, 5.46e-15, 1.16e-06, 1.46e-06)\n",
      "[ Info: Arnoldi iteration step 28: normres = 0.07708472321034196\n",
      "[ Info: Arnoldi schursolve in iter 1, krylovdim = 28: 3 values converged, normres = (2.78e-33, 2.25e-15, 3.10e-16, 8.96e-07, 2.57e-07)\n",
      "[ Info: Arnoldi iteration step 29: normres = 0.013932044924272597\n",
      "[ Info: Arnoldi schursolve in iter 1, krylovdim = 29: 3 values converged, normres = (1.61e-35, 2.09e-17, 2.88e-18, 2.92e-09, 8.78e-09)\n",
      "[ Info: Arnoldi iteration step 30: normres = 0.12976579599497776\n",
      "[ Info: Arnoldi schursolve in iter 1, krylovdim = 30: 3 values converged, normres = (8.79e-37, 1.85e-18, 2.55e-19, 3.21e-11, 8.90e-10)\n",
      "[ Info: Arnoldi schursolve in iter 2, krylovdim = 19: 3 values converged, normres = (8.79e-37, 1.85e-18, 2.55e-19, 3.21e-11, 8.90e-10)\n",
      "[ Info: Arnoldi iteration step 20: normres = 0.12452873000522575\n",
      "[ Info: Arnoldi schursolve in iter 2, krylovdim = 20: 3 values converged, normres = (5.22e-38, 1.94e-19, 2.68e-20, 4.40e-12, 1.11e-10)\n",
      "[ Info: Arnoldi iteration step 21: normres = 0.06632951202297578\n",
      "[ Info: Arnoldi schursolve in iter 2, krylovdim = 21: 4 values converged, normres = (1.53e-39, 9.52e-21, 1.31e-21, 2.40e-13, 6.06e-12)\n",
      "[ Info: Arnoldi iteration step 22: normres = 0.016043045700923738\n",
      "┌ Info: Arnoldi eigsolve finished after 2 iterations:\n",
      "│ *  6 eigenvalues converged\n",
      "│ *  norm of residuals = (1.0165123268270056e-41, 1.0157985541052246e-22, 1.30922170588899e-23, 2.8198683937142535e-15, 7.11245153163362e-14, 2.3178715642682073e-14)\n",
      "└ *  number of operations = 33\n"
     ]
    }
   ],
   "cell_type": "code",
   "source": [
    "eigsolve(eps_fun, randn(size(scfres.ρ)), 5, :LM; eager=true, verbosity=3);"
   ],
   "metadata": {},
   "execution_count": 3
  }
 ],
 "nbformat_minor": 3,
 "metadata": {
  "language_info": {
   "file_extension": ".jl",
   "mimetype": "application/julia",
   "name": "julia",
   "version": "1.8.3"
  },
  "kernelspec": {
   "name": "julia-1.8",
   "display_name": "Julia 1.8.3",
   "language": "julia"
  }
 },
 "nbformat": 4
}
