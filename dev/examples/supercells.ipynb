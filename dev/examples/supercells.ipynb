{
 "cells": [
  {
   "cell_type": "markdown",
   "source": [
    "# Creating and modelling metallic supercells\n",
    "\n",
    "In this section we will be concerned with modelling supercells of aluminium.\n",
    "When dealing with periodic problems there is no unique definition of the\n",
    "lattice: Clearly any duplication of the lattice along an axis is also a valid\n",
    "repetitive unit to describe exactly the same system.\n",
    "This is exactly what a **supercell** is: An $n$-fold repetition along one of the\n",
    "axes of the original lattice.\n",
    "\n",
    "The following code achieves this for aluminium:"
   ],
   "metadata": {}
  },
  {
   "outputs": [],
   "cell_type": "code",
   "source": [
    "using DFTK\n",
    "using LinearAlgebra\n",
    "using ASEconvert\n",
    "\n",
    "function aluminium_setup(repeat=1; Ecut=7.0, kgrid=[2, 2, 2])\n",
    "    a = 7.65339\n",
    "    lattice = a * Matrix(I, 3, 3)\n",
    "    Al = ElementPsp(:Al, psp=load_psp(\"hgh/lda/al-q3\"))\n",
    "    atoms     = [Al, Al, Al, Al]\n",
    "    positions = [[0.0, 0.0, 0.0], [0.0, 0.5, 0.5], [0.5, 0.0, 0.5], [0.5, 0.5, 0.0]]\n",
    "    unit_cell = periodic_system(lattice, atoms, positions)\n",
    "\n",
    "    # Make supercell in ASE:\n",
    "    # We convert our lattice to the conventions used in ASE, make the supercell\n",
    "    # and then convert back ...\n",
    "    supercell_ase = convert_ase(unit_cell) * pytuple((repeat, 1, 1))\n",
    "    supercell     = pyconvert(AbstractSystem, supercell_ase)\n",
    "\n",
    "    # Unfortunately right now the conversion to ASE drops the pseudopotential information,\n",
    "    # so we need to reattach it:\n",
    "    supercell = attach_psp(supercell, Al=\"hgh/lda/al-q3\")\n",
    "\n",
    "    # Construct an LDA model and discretise\n",
    "    # Note: We disable symmetries explicitly here. Otherwise the problem sizes\n",
    "    #       we are able to run on the CI are too simple to observe the numerical\n",
    "    #       instabilities we want to trigger here.\n",
    "    model = model_LDA(supercell; temperature=1e-3, symmetries=false)\n",
    "    PlaneWaveBasis(model; Ecut, kgrid)\n",
    "end;"
   ],
   "metadata": {},
   "execution_count": 1
  },
  {
   "cell_type": "markdown",
   "source": [
    "As part of the code we are using a routine inside the ASE,\n",
    "the [atomistic simulation environment](https://wiki.fysik.dtu.dk/ase/index.html)\n",
    "for creating the supercell and make use of the two-way interoperability of\n",
    "DFTK and ASE. For more details on this aspect see the documentation\n",
    "on Input and output formats."
   ],
   "metadata": {}
  },
  {
   "cell_type": "markdown",
   "source": [
    "Write an example supercell structure to a file to plot it:"
   ],
   "metadata": {}
  },
  {
   "outputs": [
    {
     "name": "stdout",
     "output_type": "stream",
     "text": [
      "┌ Warning: Skipping atomic property pseudopotential, which is not supported in ASE.\n",
      "└ @ ASEconvert ~/.julia/packages/ASEconvert/neSFl/src/ASEconvert.jl:123\n",
      "┌ Warning: Skipping atomic property pseudopotential, which is not supported in ASE.\n",
      "└ @ ASEconvert ~/.julia/packages/ASEconvert/neSFl/src/ASEconvert.jl:123\n"
     ]
    },
    {
     "output_type": "execute_result",
     "data": {
      "text/plain": "\u001b[0m\u001b[1mPython None\u001b[22m"
     },
     "metadata": {},
     "execution_count": 2
    }
   ],
   "cell_type": "code",
   "source": [
    "setup = aluminium_setup(5)\n",
    "convert_ase(periodic_system(setup.model)).write(\"al_supercell.png\")"
   ],
   "metadata": {},
   "execution_count": 2
  },
  {
   "cell_type": "markdown",
   "source": [
    "<img src=\"https://docs.dftk.org/stable/examples/al_supercell.png\" width=500 height=500 />"
   ],
   "metadata": {}
  },
  {
   "cell_type": "markdown",
   "source": [
    "As we will see in this notebook the modelling of a system generally becomes\n",
    "harder if the system becomes larger.\n",
    "\n",
    "- This sounds like a trivial statement as *per se* the cost per SCF step increases\n",
    "  as the system (and thus $N$) gets larger.\n",
    "- But there is more to it:\n",
    "  If one is not careful also the *number of SCF iterations* increases\n",
    "  as the system gets larger.\n",
    "- The aim of a proper computational treatment of such supercells is therefore\n",
    "  to ensure that the **number of SCF iterations remains constant** when the\n",
    "  system size increases."
   ],
   "metadata": {}
  },
  {
   "cell_type": "markdown",
   "source": [
    "For achieving the latter DFTK by default employs the `LdosMixing`\n",
    "preconditioner [^HL2021] during the SCF iterations. This mixing approach is\n",
    "completely parameter free, but still automatically adapts to the treated\n",
    "system in order to efficiently prevent charge sloshing. As a result,\n",
    "modelling aluminium slabs indeed takes roughly the same number of SCF iterations\n",
    "irrespective of the supercell size:\n",
    "\n",
    "[^HL2021]:\n",
    "   M. F. Herbst and A. Levitt.\n",
    "   *Black-box inhomogeneous preconditioning for self-consistent field iterations in density functional theory.*\n",
    "   J. Phys. Cond. Matt *33* 085503 (2021). [ArXiv:2009.01665](https://arxiv.org/abs/2009.01665)"
   ],
   "metadata": {}
  },
  {
   "outputs": [
    {
     "name": "stdout",
     "output_type": "stream",
     "text": [
      "┌ Warning: Skipping atomic property pseudopotential, which is not supported in ASE.\n",
      "└ @ ASEconvert ~/.julia/packages/ASEconvert/neSFl/src/ASEconvert.jl:123\n",
      "n     Energy            log10(ΔE)   log10(Δρ)   Diag   Δtime\n",
      "---   ---------------   ---------   ---------   ----   ------\n",
      "  1   -8.298434191202                   -0.85    5.1         \n",
      "  2   -8.300208345881       -2.75       -1.25    1.0    126ms\n",
      "  3   -8.300436631471       -3.64       -1.89    2.0    146ms\n",
      "  4   -8.300461431490       -4.61       -2.75    2.9    164ms\n",
      "  5   -8.300464406324       -5.53       -3.18    3.1    246ms\n",
      "  6   -8.300464524597       -6.93       -3.35    9.8    276ms\n",
      "  7   -8.300464584609       -7.22       -3.50    1.5    146ms\n",
      "  8   -8.300464617303       -7.49       -3.65    2.2    161ms\n",
      "  9   -8.300464634540       -7.76       -3.81    1.6    160ms\n",
      " 10   -8.300464641205       -8.18       -3.98    4.9    266ms\n",
      " 11   -8.300464643674       -8.61       -4.28    2.8    248ms\n"
     ]
    }
   ],
   "cell_type": "code",
   "source": [
    "self_consistent_field(aluminium_setup(1); tol=1e-4);"
   ],
   "metadata": {},
   "execution_count": 3
  },
  {
   "outputs": [
    {
     "name": "stdout",
     "output_type": "stream",
     "text": [
      "┌ Warning: Skipping atomic property pseudopotential, which is not supported in ASE.\n",
      "└ @ ASEconvert ~/.julia/packages/ASEconvert/neSFl/src/ASEconvert.jl:123\n",
      "n     Energy            log10(ΔE)   log10(Δρ)   Diag   Δtime\n",
      "---   ---------------   ---------   ---------   ----   ------\n",
      "  1   -16.67335215233                   -0.70    5.5         \n",
      "  2   -16.67777299726       -2.35       -1.15    1.0    419ms\n",
      "  3   -16.67851265183       -3.13       -1.85    4.2    912ms\n",
      "  4   -16.67891218642       -3.40       -2.37    3.6    469ms\n",
      "  5   -16.67925554500       -3.46       -2.93    2.9    458ms\n",
      "  6   -16.67928534230       -4.53       -3.45    5.2    564ms\n",
      "  7   -16.67928614253       -6.10       -3.77    2.2    424ms\n",
      "  8   -16.67928621387       -7.15       -4.40    2.1    363ms\n"
     ]
    }
   ],
   "cell_type": "code",
   "source": [
    "self_consistent_field(aluminium_setup(2); tol=1e-4);"
   ],
   "metadata": {},
   "execution_count": 4
  },
  {
   "outputs": [
    {
     "name": "stdout",
     "output_type": "stream",
     "text": [
      "┌ Warning: Skipping atomic property pseudopotential, which is not supported in ASE.\n",
      "└ @ ASEconvert ~/.julia/packages/ASEconvert/neSFl/src/ASEconvert.jl:123\n",
      "n     Energy            log10(ΔE)   log10(Δρ)   Diag   Δtime\n",
      "---   ---------------   ---------   ---------   ----   ------\n",
      "  1   -33.32621133093                   -0.56    7.2         \n",
      "  2   -33.33287155803       -2.18       -1.00    1.0    1.22s\n",
      "  3   -33.33412986461       -2.90       -1.73    3.9    1.51s\n",
      "  4   -33.33428703622       -3.80       -2.64    2.8    1.30s\n",
      "  5   -33.33565632870       -2.86       -2.31    6.6    2.00s\n",
      "  6   -33.33694001872       -2.89       -2.51    9.5    1.80s\n",
      "  7   -33.33694081926       -6.10       -2.53    1.0    1.17s\n",
      "  8   -33.33686980712   +   -4.15       -2.43    1.1    1.17s\n",
      "  9   -33.33683650335   +   -4.48       -2.36    1.2    1.16s\n",
      " 10   -33.33683720093       -6.16       -2.36    1.0    1.14s\n",
      " 11   -33.33685217072       -4.82       -2.39    1.0    1.16s\n",
      " 12   -33.33685393802       -5.75       -2.40    1.0    1.17s\n",
      " 13   -33.33686220452       -5.08       -2.42    1.0    1.16s\n",
      " 14   -33.33686535795       -5.50       -2.43    1.0    1.15s\n",
      " 15   -33.33686616501       -6.09       -2.43    1.0    1.16s\n",
      " 16   -33.33685500513   +   -4.95       -2.40    1.0    1.14s\n",
      " 17   -33.33694355606       -4.05       -3.65    1.8    1.35s\n",
      " 18   -33.33694375349       -6.70       -3.80    3.6    1.75s\n",
      " 19   -33.33694372816   +   -7.60       -3.85    1.4    1.12s\n",
      " 20   -33.33694376937       -7.38       -4.12    1.1    1.09s\n"
     ]
    }
   ],
   "cell_type": "code",
   "source": [
    "self_consistent_field(aluminium_setup(4); tol=1e-4);"
   ],
   "metadata": {},
   "execution_count": 5
  },
  {
   "cell_type": "markdown",
   "source": [
    "When switching off explicitly the `LdosMixing`, by selecting `mixing=SimpleMixing()`,\n",
    "the performance of number of required SCF steps starts to increase as we increase\n",
    "the size of the modelled problem:"
   ],
   "metadata": {}
  },
  {
   "outputs": [
    {
     "name": "stdout",
     "output_type": "stream",
     "text": [
      "┌ Warning: Skipping atomic property pseudopotential, which is not supported in ASE.\n",
      "└ @ ASEconvert ~/.julia/packages/ASEconvert/neSFl/src/ASEconvert.jl:123\n",
      "n     Energy            log10(ΔE)   log10(Δρ)   Diag   Δtime\n",
      "---   ---------------   ---------   ---------   ----   ------\n",
      "  1   -8.298260496522                   -0.85    5.2         \n",
      "  2   -8.300227501905       -2.71       -1.59    1.2    118ms\n",
      "  3   -8.300428061245       -3.70       -2.51    2.2    145ms\n",
      "  4   -8.300369659484   +   -4.23       -2.26    4.2    205ms\n",
      "  5   -8.300463881591       -4.03       -3.37    1.1    132ms\n",
      "  6   -8.300464566877       -6.16       -3.74    3.5    219ms\n",
      "  7   -8.300464634414       -7.17       -4.19    1.2    123ms\n"
     ]
    }
   ],
   "cell_type": "code",
   "source": [
    "self_consistent_field(aluminium_setup(1); tol=1e-4, mixing=SimpleMixing());"
   ],
   "metadata": {},
   "execution_count": 6
  },
  {
   "outputs": [
    {
     "name": "stdout",
     "output_type": "stream",
     "text": [
      "┌ Warning: Skipping atomic property pseudopotential, which is not supported in ASE.\n",
      "└ @ ASEconvert ~/.julia/packages/ASEconvert/neSFl/src/ASEconvert.jl:123\n",
      "n     Energy            log10(ΔE)   log10(Δρ)   Diag   Δtime\n",
      "---   ---------------   ---------   ---------   ----   ------\n",
      "  1   -33.32566923996                   -0.56    6.4         \n",
      "  2   -33.33074732209       -2.29       -1.28    1.0    989ms\n",
      "  3   -30.37945535120   +    0.47       -0.83    4.9    1.67s\n",
      "  4   -32.84627380727        0.39       -1.21    5.4    1.86s\n",
      "  5   -33.27930132917       -0.36       -1.39    3.0    1.40s\n",
      "  6   -33.12437625461   +   -0.81       -1.40    3.0    1.38s\n",
      "  7   -33.22329612824       -1.00       -1.52    3.4    1.38s\n",
      "  8   -33.33392716727       -0.96       -2.25    2.4    1.20s\n",
      "  9   -33.33490426877       -3.01       -2.32    4.1    1.63s\n",
      " 10   -33.33560671573       -3.15       -2.28    2.2    1.33s\n",
      " 11   -33.33680800223       -2.92       -2.80    1.8    1.16s\n",
      " 12   -33.33686737024       -4.23       -2.96    2.2    1.23s\n",
      " 13   -33.33694104862       -4.13       -3.35    2.8    1.36s\n",
      " 14   -33.33694336996       -5.63       -3.75    2.8    1.29s\n",
      " 15   -33.33694254731   +   -6.08       -3.94    3.1    1.41s\n",
      " 16   -33.33694357725       -5.99       -4.29    2.9    1.30s\n"
     ]
    }
   ],
   "cell_type": "code",
   "source": [
    "self_consistent_field(aluminium_setup(4); tol=1e-4, mixing=SimpleMixing());"
   ],
   "metadata": {},
   "execution_count": 7
  },
  {
   "cell_type": "markdown",
   "source": [
    "For completion let us note that the more traditional `mixing=KerkerMixing()`\n",
    "approach would also help in this particular setting to obtain a constant\n",
    "number of SCF iterations for an increasing system size (try it!). In contrast\n",
    "to `LdosMixing`, however, `KerkerMixing` is only suitable to model bulk metallic\n",
    "system (like the case we are considering here). When modelling metallic surfaces\n",
    "or mixtures of metals and insulators, `KerkerMixing` fails, while `LdosMixing`\n",
    "still works well. See the Modelling a gallium arsenide surface example\n",
    "or [^HL2021] for details. Due to the general applicability of `LdosMixing` this\n",
    "method is the default mixing approach in DFTK."
   ],
   "metadata": {}
  }
 ],
 "nbformat_minor": 3,
 "metadata": {
  "language_info": {
   "file_extension": ".jl",
   "mimetype": "application/julia",
   "name": "julia",
   "version": "1.8.5"
  },
  "kernelspec": {
   "name": "julia-1.8",
   "display_name": "Julia 1.8.5",
   "language": "julia"
  }
 },
 "nbformat": 4
}
