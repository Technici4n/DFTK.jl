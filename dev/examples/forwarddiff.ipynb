{
 "cells": [
  {
   "cell_type": "markdown",
   "source": [
    "# Polarizability using automatic differentiation\n",
    "\n",
    "Simple example for computing properties using (forward-mode)\n",
    "automatic differentiation.\n",
    "For a more classical approach and more details about computing polarizabilities,\n",
    "see Polarizability by linear response."
   ],
   "metadata": {}
  },
  {
   "outputs": [],
   "cell_type": "code",
   "source": [
    "using DFTK\n",
    "using LinearAlgebra\n",
    "using ForwardDiff\n",
    "\n",
    "# Construct PlaneWaveBasis given a particular electric field strength\n",
    "# Again we take the example of a Helium atom.\n",
    "function make_basis(ε::T; a=10., Ecut=30) where {T}\n",
    "    lattice=T(a) * I(3)  # lattice is a cube of $a$ Bohrs\n",
    "    # Helium at the center of the box\n",
    "    atoms     = [ElementPsp(:He, psp=load_psp(\"hgh/lda/He-q2\"))]\n",
    "    positions = [[1/2, 1/2, 1/2]]\n",
    "\n",
    "    model = model_DFT(lattice, atoms, positions, [:lda_x, :lda_c_vwn];\n",
    "                      extra_terms=[ExternalFromReal(r -> -ε * (r[1] - a/2))],\n",
    "                      symmetries=false)\n",
    "    PlaneWaveBasis(model; Ecut, kgrid=[1, 1, 1])  # No k-point sampling on isolated system\n",
    "end\n",
    "\n",
    "# dipole moment of a given density (assuming the current geometry)\n",
    "function dipole(basis, ρ)\n",
    "    @assert isdiag(basis.model.lattice)\n",
    "    a  = basis.model.lattice[1, 1]\n",
    "    rr = [a * (r[1] - 1/2) for r in r_vectors(basis)]\n",
    "    sum(rr .* ρ) * basis.dvol\n",
    "end\n",
    "\n",
    "# Function to compute the dipole for a given field strength\n",
    "function compute_dipole(ε; tol=1e-8, kwargs...)\n",
    "    scfres = self_consistent_field(make_basis(ε; kwargs...); tol)\n",
    "    dipole(scfres.basis, scfres.ρ)\n",
    "end;"
   ],
   "metadata": {},
   "execution_count": 1
  },
  {
   "cell_type": "markdown",
   "source": [
    "With this in place we can compute the polarizability from finite differences\n",
    "(just like in the previous example):"
   ],
   "metadata": {}
  },
  {
   "outputs": [
    {
     "name": "stdout",
     "output_type": "stream",
     "text": [
      "n     Energy            log10(ΔE)   log10(Δρ)   Diag   Δtime\n",
      "---   ---------------   ---------   ---------   ----   ------\n",
      "  1   -2.770909699349                   -0.52    9.0         \n",
      "  2   -2.772149429487       -2.91       -1.32    1.0    155ms\n",
      "  3   -2.772170332472       -4.68       -2.47    1.0    139ms\n",
      "  4   -2.772170653902       -6.49       -3.19    1.0    140ms\n",
      "  5   -2.772170722792       -7.16       -4.18    2.0    178ms\n",
      "  6   -2.772170722871      -10.10       -4.34    1.0    143ms\n",
      "  7   -2.772170723009       -9.86       -5.12    1.0    161ms\n",
      "  8   -2.772170723013      -11.38       -5.26    1.0    149ms\n",
      "  9   -2.772170723015      -11.75       -6.13    1.0    174ms\n",
      " 10   -2.772170723015      -13.22       -6.14    2.0    170ms\n",
      " 11   -2.772170723015      -13.25       -6.78    1.0    165ms\n",
      " 12   -2.772170723015      -14.01       -7.05    1.0    155ms\n",
      " 13   -2.772170723015   +    -Inf       -7.29    2.0    179ms\n",
      " 14   -2.772170723015      -13.85       -8.09    1.0    170ms\n",
      "n     Energy            log10(ΔE)   log10(Δρ)   Diag   Δtime\n",
      "---   ---------------   ---------   ---------   ----   ------\n",
      "  1   -2.770811372747                   -0.52    9.0         \n",
      "  2   -2.772062457759       -2.90       -1.32    1.0    137ms\n",
      "  3   -2.772083047170       -4.69       -2.44    1.0    154ms\n",
      "  4   -2.772083343029       -6.53       -3.14    1.0    141ms\n",
      "  5   -2.772083417404       -7.13       -4.18    2.0    159ms\n",
      "  6   -2.772083417688       -9.55       -4.49    1.0    159ms\n",
      "  7   -2.772083417809       -9.92       -5.70    1.0    145ms\n",
      "  8   -2.772083417811      -11.78       -6.34    2.0    178ms\n",
      "  9   -2.772083417811      -13.77       -6.44    1.0    159ms\n",
      " 10   -2.772083417811      -13.86       -7.40    1.0    170ms\n",
      " 11   -2.772083417811   +    -Inf       -8.36    2.0    176ms\n"
     ]
    },
    {
     "output_type": "execute_result",
     "data": {
      "text/plain": "1.7735580375705744"
     },
     "metadata": {},
     "execution_count": 2
    }
   ],
   "cell_type": "code",
   "source": [
    "polarizability_fd = let\n",
    "    ε = 0.01\n",
    "    (compute_dipole(ε) - compute_dipole(0.0)) / ε\n",
    "end"
   ],
   "metadata": {},
   "execution_count": 2
  },
  {
   "cell_type": "markdown",
   "source": [
    "We do the same thing using automatic differentiation. Under the hood this uses\n",
    "custom rules to implicitly differentiate through the self-consistent\n",
    "field fixed-point problem."
   ],
   "metadata": {}
  },
  {
   "outputs": [
    {
     "name": "stdout",
     "output_type": "stream",
     "text": [
      "n     Energy            log10(ΔE)   log10(Δρ)   Diag   Δtime\n",
      "---   ---------------   ---------   ---------   ----   ------\n",
      "  1   -2.770763969594                   -0.52    8.0         \n",
      "  2   -2.772057440669       -2.89       -1.32    1.0    137ms\n",
      "  3   -2.772082856241       -4.59       -2.47    1.0    166ms\n",
      "  4   -2.772083320546       -6.33       -3.17    1.0    141ms\n",
      "  5   -2.772083414947       -7.03       -3.77    2.0    202ms\n",
      "  6   -2.772083417748       -8.55       -5.25    1.0    143ms\n",
      "  7   -2.772083417810      -10.21       -5.57    3.0    180ms\n",
      "  8   -2.772083417810      -12.44       -5.98    1.0    154ms\n",
      "  9   -2.772083417811      -12.69       -7.22    1.0    151ms\n",
      " 10   -2.772083417811      -13.94       -8.04    2.0    194ms\n",
      "\n",
      "Polarizability via ForwardDiff:       1.77253497488744\n",
      "Polarizability via finite difference: 1.7735580375705744\n"
     ]
    }
   ],
   "cell_type": "code",
   "source": [
    "polarizability = ForwardDiff.derivative(compute_dipole, 0.0)\n",
    "println()\n",
    "println(\"Polarizability via ForwardDiff:       $polarizability\")\n",
    "println(\"Polarizability via finite difference: $polarizability_fd\")"
   ],
   "metadata": {},
   "execution_count": 3
  }
 ],
 "nbformat_minor": 3,
 "metadata": {
  "language_info": {
   "file_extension": ".jl",
   "mimetype": "application/julia",
   "name": "julia",
   "version": "1.9.0"
  },
  "kernelspec": {
   "name": "julia-1.9",
   "display_name": "Julia 1.9.0",
   "language": "julia"
  }
 },
 "nbformat": 4
}
