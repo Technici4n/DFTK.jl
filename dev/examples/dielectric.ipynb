{
 "cells": [
  {
   "cell_type": "markdown",
   "source": [
    "# Eigenvalues of the dielectric matrix\n",
    "\n",
    "We compute a few eigenvalues of the dielectric matrix ($q=0$, $ω=0$) iteratively."
   ],
   "metadata": {}
  },
  {
   "outputs": [
    {
     "name": "stdout",
     "output_type": "stream",
     "text": [
      "n     Energy            log10(ΔE)   log10(Δρ)   Diag   Δtime\n",
      "---   ---------------   ---------   ---------   ----   ------\n",
      "  1   -7.233938185567                   -0.50    8.0         \n",
      "  2   -7.250265360505       -1.79       -1.40    1.0   6.81ms\n",
      "  3   -7.251147911001       -3.05       -2.15    1.0   7.19ms\n",
      "  4   -7.251201539951       -4.27       -2.08    2.0   8.61ms\n",
      "  5   -7.251332103056       -3.88       -2.66    1.0   7.08ms\n",
      "  6   -7.251338075620       -5.22       -3.15    2.0   8.36ms\n",
      "  7   -7.251338735641       -6.18       -3.73    1.0   7.19ms\n",
      "  8   -7.251338787217       -7.29       -3.95    3.0   9.89ms\n",
      "  9   -7.251338796451       -8.03       -4.39    1.0   7.53ms\n",
      " 10   -7.251338798377       -8.72       -4.88    2.0   8.79ms\n",
      " 11   -7.251338798659       -9.55       -5.12    3.0   10.1ms\n",
      " 12   -7.251338798691      -10.49       -5.46    1.0   7.87ms\n",
      " 13   -7.251338798702      -10.95       -5.85    2.0   9.04ms\n",
      " 14   -7.251338798704      -11.78       -6.19    1.0   7.53ms\n",
      " 15   -7.251338798705      -12.39       -7.03    2.0   9.02ms\n",
      " 16   -7.251338798705      -14.27       -7.28    1.0   7.77ms\n",
      " 17   -7.251338798705   +    -Inf       -7.68    1.0   7.51ms\n",
      " 18   -7.251338798705   +    -Inf       -8.00    2.0   9.19ms\n"
     ]
    }
   ],
   "cell_type": "code",
   "source": [
    "using DFTK\n",
    "using Plots\n",
    "using KrylovKit\n",
    "using Printf\n",
    "\n",
    "# Calculation parameters\n",
    "kgrid = [1, 1, 1]\n",
    "Ecut = 5\n",
    "\n",
    "# Silicon lattice\n",
    "a = 10.26\n",
    "lattice = a / 2 .* [[0 1 1.]; [1 0 1.]; [1 1 0.]]\n",
    "Si = ElementPsp(:Si, psp=load_psp(\"hgh/lda/Si-q4\"))\n",
    "atoms     = [Si, Si]\n",
    "positions = [ones(3)/8, -ones(3)/8]\n",
    "\n",
    "# Compute the dielectric operator without symmetries\n",
    "model  = model_LDA(lattice, atoms, positions, symmetries=false)\n",
    "basis  = PlaneWaveBasis(model; Ecut, kgrid)\n",
    "scfres = self_consistent_field(basis, tol=1e-8);"
   ],
   "metadata": {},
   "execution_count": 1
  },
  {
   "cell_type": "markdown",
   "source": [
    "Applying $ε^† ≔ (1- χ_0 K)$ …"
   ],
   "metadata": {}
  },
  {
   "outputs": [],
   "cell_type": "code",
   "source": [
    "function eps_fun(δρ)\n",
    "    δV = apply_kernel(basis, δρ; ρ=scfres.ρ)\n",
    "    χ0δV = apply_χ0(scfres, δV)\n",
    "    δρ - χ0δV\n",
    "end;"
   ],
   "metadata": {},
   "execution_count": 2
  },
  {
   "cell_type": "markdown",
   "source": [
    "… eagerly diagonalizes the subspace matrix at each iteration"
   ],
   "metadata": {}
  },
  {
   "outputs": [
    {
     "name": "stdout",
     "output_type": "stream",
     "text": [
      "[ Info: Arnoldi iteration step 1: normres = 0.070773891249633\n",
      "[ Info: Arnoldi iteration step 2: normres = 0.5253487917555449\n",
      "[ Info: Arnoldi iteration step 3: normres = 0.7009193051488015\n",
      "[ Info: Arnoldi iteration step 4: normres = 0.22435740486280956\n",
      "[ Info: Arnoldi iteration step 5: normres = 0.5413094581547006\n",
      "[ Info: Arnoldi schursolve in iter 1, krylovdim = 5: 0 values converged, normres = (1.20e-02, 8.13e-02, 4.84e-01, 2.26e-01, 2.37e-02)\n",
      "[ Info: Arnoldi iteration step 6: normres = 0.2724298981869029\n",
      "[ Info: Arnoldi schursolve in iter 1, krylovdim = 6: 0 values converged, normres = (2.71e-03, 1.29e-01, 1.94e-01, 1.07e-01, 3.60e-02)\n",
      "[ Info: Arnoldi iteration step 7: normres = 0.0944096284759632\n",
      "[ Info: Arnoldi schursolve in iter 1, krylovdim = 7: 0 values converged, normres = (1.28e-04, 1.26e-02, 1.58e-02, 6.80e-02, 5.83e-02)\n",
      "[ Info: Arnoldi iteration step 8: normres = 0.10595890733453593\n",
      "[ Info: Arnoldi schursolve in iter 1, krylovdim = 8: 0 values converged, normres = (5.82e-06, 9.47e-04, 1.31e-03, 2.19e-02, 3.77e-02)\n",
      "[ Info: Arnoldi iteration step 9: normres = 0.07736138017270304\n",
      "[ Info: Arnoldi schursolve in iter 1, krylovdim = 9: 0 values converged, normres = (1.95e-07, 5.23e-05, 8.03e-05, 5.86e-03, 3.01e-02)\n",
      "[ Info: Arnoldi iteration step 10: normres = 0.10316196509384899\n",
      "[ Info: Arnoldi schursolve in iter 1, krylovdim = 10: 0 values converged, normres = (8.93e-09, 4.02e-06, 6.88e-06, 2.55e-03, 4.78e-02)\n",
      "[ Info: Arnoldi iteration step 11: normres = 0.07707449460362116\n",
      "[ Info: Arnoldi schursolve in iter 1, krylovdim = 11: 0 values converged, normres = (2.96e-10, 2.19e-07, 4.17e-07, 6.60e-04, 2.75e-02)\n",
      "[ Info: Arnoldi iteration step 12: normres = 0.07752660353958209\n",
      "[ Info: Arnoldi schursolve in iter 1, krylovdim = 12: 0 values converged, normres = (9.84e-12, 1.19e-08, 2.51e-08, 1.57e-04, 1.24e-02)\n",
      "[ Info: Arnoldi iteration step 13: normres = 0.036046394697155724\n",
      "[ Info: Arnoldi schursolve in iter 1, krylovdim = 13: 1 values converged, normres = (1.51e-13, 2.98e-10, 6.95e-10, 1.69e-05, 2.59e-03)\n",
      "[ Info: Arnoldi iteration step 14: normres = 0.5944986923694612\n",
      "[ Info: Arnoldi schursolve in iter 1, krylovdim = 14: 1 values converged, normres = (4.15e-14, 1.41e-10, 3.71e-10, 6.06e-05, 7.55e-02)\n",
      "[ Info: Arnoldi iteration step 15: normres = 0.05977162682952352\n",
      "[ Info: Arnoldi schursolve in iter 1, krylovdim = 15: 1 values converged, normres = (2.41e-15, 1.31e-09, 5.42e-02, 1.73e-05, 4.31e-06)\n",
      "[ Info: Arnoldi iteration step 16: normres = 0.46871024744655293\n",
      "[ Info: Arnoldi schursolve in iter 1, krylovdim = 16: 1 values converged, normres = (5.05e-16, 1.09e-09, 1.90e-02, 1.46e-05, 2.66e-06)\n",
      "[ Info: Arnoldi iteration step 17: normres = 0.09148829777931215\n",
      "[ Info: Arnoldi schursolve in iter 1, krylovdim = 17: 1 values converged, normres = (4.10e-17, 8.42e-09, 1.07e-02, 1.65e-07, 8.50e-02)\n",
      "[ Info: Arnoldi iteration step 18: normres = 0.019159489919206785\n",
      "[ Info: Arnoldi schursolve in iter 1, krylovdim = 18: 1 values converged, normres = (3.27e-19, 8.34e-09, 1.42e-04, 1.27e-08, 1.19e-03)\n",
      "[ Info: Arnoldi iteration step 19: normres = 0.07789344986036259\n",
      "[ Info: Arnoldi schursolve in iter 1, krylovdim = 19: 1 values converged, normres = (1.06e-20, 1.77e-06, 7.14e-06, 1.65e-08, 6.80e-05)\n",
      "[ Info: Arnoldi iteration step 20: normres = 0.1556520553177843\n",
      "[ Info: Arnoldi schursolve in iter 1, krylovdim = 20: 1 values converged, normres = (7.89e-22, 1.14e-08, 9.72e-07, 5.18e-06, 8.78e-06)\n",
      "[ Info: Arnoldi iteration step 21: normres = 0.028066206803561856\n",
      "[ Info: Arnoldi schursolve in iter 1, krylovdim = 21: 1 values converged, normres = (9.53e-24, 2.89e-09, 1.92e-08, 1.93e-09, 2.26e-07)\n",
      "[ Info: Arnoldi iteration step 22: normres = 0.017393061081719598\n",
      "[ Info: Arnoldi schursolve in iter 1, krylovdim = 22: 1 values converged, normres = (6.81e-26, 4.01e-11, 2.17e-10, 6.41e-10, 2.76e-09)\n",
      "[ Info: Arnoldi iteration step 23: normres = 0.24226232909687517\n",
      "[ Info: Arnoldi schursolve in iter 1, krylovdim = 23: 1 values converged, normres = (6.88e-27, 6.49e-12, 3.53e-11, 1.10e-10, 4.96e-10)\n",
      "[ Info: Arnoldi iteration step 24: normres = 0.07449200661044576\n",
      "[ Info: Arnoldi schursolve in iter 1, krylovdim = 24: 1 values converged, normres = (4.81e-28, 3.26e-12, 1.77e-11, 1.53e-09, 8.82e-09)\n",
      "[ Info: Arnoldi iteration step 25: normres = 0.038709885964675554\n",
      "[ Info: Arnoldi schursolve in iter 1, krylovdim = 25: 3 values converged, normres = (7.63e-30, 8.49e-14, 4.62e-13, 6.75e-09, 2.85e-08)\n",
      "[ Info: Arnoldi iteration step 26: normres = 0.07847824578239809\n",
      "[ Info: Arnoldi schursolve in iter 1, krylovdim = 26: 3 values converged, normres = (2.69e-31, 5.03e-15, 2.74e-14, 1.08e-04, 7.18e-05)\n",
      "[ Info: Arnoldi iteration step 27: normres = 0.02271563375742379\n",
      "[ Info: Arnoldi schursolve in iter 1, krylovdim = 27: 3 values converged, normres = (2.54e-33, 7.67e-17, 4.17e-16, 7.59e-10, 1.34e-08)\n",
      "[ Info: Arnoldi iteration step 28: normres = 0.10456874828126099\n",
      "[ Info: Arnoldi schursolve in iter 1, krylovdim = 28: 3 values converged, normres = (1.13e-34, 5.54e-18, 3.01e-17, 1.07e-09, 3.63e-08)\n",
      "[ Info: Arnoldi iteration step 29: normres = 0.019022257086798902\n",
      "[ Info: Arnoldi schursolve in iter 1, krylovdim = 29: 3 values converged, normres = (9.25e-37, 7.46e-20, 4.06e-19, 2.47e-09, 3.64e-10)\n",
      "[ Info: Arnoldi iteration step 30: normres = 0.11406332235532383\n",
      "[ Info: Arnoldi schursolve in iter 1, krylovdim = 30: 3 values converged, normres = (4.42e-38, 5.74e-21, 3.12e-20, 2.12e-10, 2.57e-11)\n",
      "[ Info: Arnoldi schursolve in iter 2, krylovdim = 19: 3 values converged, normres = (4.42e-38, 5.74e-21, 3.12e-20, 2.12e-10, 2.57e-11)\n",
      "[ Info: Arnoldi iteration step 20: normres = 0.13794545680096743\n",
      "[ Info: Arnoldi schursolve in iter 2, krylovdim = 20: 3 values converged, normres = (2.95e-39, 6.84e-22, 3.72e-21, 2.87e-11, 3.43e-12)\n",
      "[ Info: Arnoldi iteration step 21: normres = 0.0701578976566858\n",
      "[ Info: Arnoldi schursolve in iter 2, krylovdim = 21: 3 values converged, normres = (9.06e-41, 3.50e-23, 1.90e-22, 1.64e-12, 1.96e-13)\n",
      "[ Info: Arnoldi iteration step 22: normres = 0.016312222803122136\n",
      "┌ Info: Arnoldi eigsolve finished after 2 iterations:\n",
      "│ *  6 eigenvalues converged\n",
      "│ *  norm of residuals = (6.133955327790954e-43, 3.8022115983642287e-25, 2.0824710720047676e-24, 1.9613470434128724e-14, 8.80049294264536e-16, 6.431509094601923e-15)\n",
      "└ *  number of operations = 33\n"
     ]
    }
   ],
   "cell_type": "code",
   "source": [
    "eigsolve(eps_fun, randn(size(scfres.ρ)), 5, :LM; eager=true, verbosity=3);"
   ],
   "metadata": {},
   "execution_count": 3
  }
 ],
 "nbformat_minor": 3,
 "metadata": {
  "language_info": {
   "file_extension": ".jl",
   "mimetype": "application/julia",
   "name": "julia",
   "version": "1.9.0"
  },
  "kernelspec": {
   "name": "julia-1.9",
   "display_name": "Julia 1.9.0",
   "language": "julia"
  }
 },
 "nbformat": 4
}
