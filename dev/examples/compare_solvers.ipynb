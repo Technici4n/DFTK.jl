{
 "cells": [
  {
   "cell_type": "markdown",
   "source": [
    "# Comparison of DFT solvers"
   ],
   "metadata": {}
  },
  {
   "cell_type": "markdown",
   "source": [
    "We compare four different approaches for solving the DFT minimisation problem,\n",
    "namely a density-based SCF, a potential-based SCF, direct minimisation and Newton."
   ],
   "metadata": {}
  },
  {
   "cell_type": "markdown",
   "source": [
    "First we setup our problem"
   ],
   "metadata": {}
  },
  {
   "outputs": [],
   "cell_type": "code",
   "source": [
    "using DFTK\n",
    "using LinearAlgebra\n",
    "\n",
    "a = 10.26  # Silicon lattice constant in Bohr\n",
    "lattice = a / 2 * [[0 1 1.];\n",
    "                   [1 0 1.];\n",
    "                   [1 1 0.]]\n",
    "Si = ElementPsp(:Si, psp=load_psp(\"hgh/lda/Si-q4\"))\n",
    "atoms     = [Si, Si]\n",
    "positions = [ones(3)/8, -ones(3)/8]\n",
    "\n",
    "model = model_LDA(lattice, atoms, positions)\n",
    "basis = PlaneWaveBasis(model; Ecut=5, kgrid=[3, 3, 3])\n",
    "\n",
    "# Convergence we desire\n",
    "tol = 1e-12\n",
    "is_converged = DFTK.ScfConvergenceDensity(tol);"
   ],
   "metadata": {},
   "execution_count": 1
  },
  {
   "cell_type": "markdown",
   "source": [
    "## Density-based self-consistent field"
   ],
   "metadata": {}
  },
  {
   "outputs": [
    {
     "name": "stdout",
     "output_type": "stream",
     "text": [
      "n     Energy            log10(ΔE)   log10(Δρ)   Diag\n",
      "---   ---------------   ---------   ---------   ----\n",
      "  1   -7.846838065676                   -0.70    4.0\n",
      "  2   -7.852316675546       -2.26       -1.53    1.0\n",
      "  3   -7.852646079444       -3.48       -2.52    3.2\n",
      "  4   -7.852646676723       -6.22       -3.34    2.2\n",
      "  5   -7.852646685861       -8.04       -4.77    1.0\n",
      "  6   -7.852646686726       -9.06       -5.19    4.0\n",
      "  7   -7.852646686729      -11.45       -5.88    1.8\n",
      "  8   -7.852646686730      -12.44       -7.27    2.0\n",
      "  9   -7.852646686730      -15.05       -7.61    2.5\n",
      " 10   -7.852646686730   +  -14.75       -8.57    2.2\n",
      " 11   -7.852646686730   +  -14.75       -9.95    2.2\n",
      " 12   -7.852646686730   +    -Inf      -10.56    2.0\n",
      " 13   -7.852646686730      -14.35      -11.38    2.5\n",
      " 14   -7.852646686730   +  -14.35      -11.52    1.0\n",
      " 15   -7.852646686730      -14.75      -11.44    1.0\n",
      " 16   -7.852646686730   +    -Inf      -11.28    1.0\n",
      " 17   -7.852646686730   +    -Inf      -11.20    1.0\n",
      " 18   -7.852646686730   +  -14.75      -11.80    1.0\n",
      " 19   -7.852646686730      -14.27      -11.88    1.0\n",
      " 20   -7.852646686730   +  -14.45      -11.41    1.0\n",
      " 21   -7.852646686730   +  -14.75      -11.04    1.0\n",
      " 22   -7.852646686730      -14.75      -12.49    1.5\n"
     ]
    }
   ],
   "cell_type": "code",
   "source": [
    "scfres_scf = self_consistent_field(basis; is_converged);"
   ],
   "metadata": {},
   "execution_count": 2
  },
  {
   "cell_type": "markdown",
   "source": [
    "## Potential-based SCF"
   ],
   "metadata": {}
  },
  {
   "outputs": [
    {
     "name": "stdout",
     "output_type": "stream",
     "text": [
      "n     Energy            log10(ΔE)   log10(Δρ)   α      Diag\n",
      "---   ---------------   ---------   ---------   ----   ----\n",
      "  1   -7.846819333975                   -0.70           4.2\n",
      "  2   -7.852524610368       -2.24       -1.62   0.80    5.0\n",
      "  3   -7.852610796720       -4.06       -2.79   0.80    5.2\n",
      "  4   -7.852646566376       -4.45       -3.57   0.80    7.0\n",
      "  5   -7.852646683295       -6.93       -4.48   0.80    8.8\n",
      "  6   -7.852646686668       -8.47       -5.08   0.80   10.5\n",
      "  7   -7.852646686725      -10.25       -6.23   0.80   11.5\n",
      "  8   -7.852646686730      -11.29       -7.18   0.80   13.5\n",
      "  9   -7.852646686730      -13.64       -7.69   0.80   15.5\n",
      " 10   -7.852646686730   +  -14.57       -9.62   0.80   16.8\n",
      " 11   -7.852646686730      -14.75       -9.58   0.80   19.0\n",
      " 12   -7.852646686730      -14.75      -10.87   0.80   20.0\n",
      " 13   -7.852646686730   +  -14.75      -11.80   0.80   21.8\n",
      " 14   -7.852646686730      -14.45      -12.38   0.80   23.8\n"
     ]
    }
   ],
   "cell_type": "code",
   "source": [
    "scfres_scfv = DFTK.scf_potential_mixing(basis; is_converged);"
   ],
   "metadata": {},
   "execution_count": 3
  },
  {
   "cell_type": "markdown",
   "source": [
    "## Direct minimization"
   ],
   "metadata": {}
  },
  {
   "outputs": [
    {
     "name": "stdout",
     "output_type": "stream",
     "text": [
      "Iter     Function value   Gradient norm \n",
      "     0     1.408833e+01     3.448768e+00\n",
      " * time: 0.43297719955444336\n",
      "     1     1.421088e+00     1.737928e+00\n",
      " * time: 0.6463110446929932\n",
      "     2    -1.444889e+00     2.089293e+00\n",
      " * time: 0.6720960140228271\n",
      "     3    -3.578585e+00     1.729548e+00\n",
      " * time: 0.7091691493988037\n",
      "     4    -4.900931e+00     1.606836e+00\n",
      " * time: 0.7464561462402344\n",
      "     5    -6.621558e+00     9.877220e-01\n",
      " * time: 0.7836480140686035\n",
      "     6    -7.301899e+00     3.221510e-01\n",
      " * time: 0.8205900192260742\n",
      "     7    -7.527342e+00     1.588221e-01\n",
      " * time: 0.8465399742126465\n",
      "     8    -7.635508e+00     1.653076e-01\n",
      " * time: 0.8721551895141602\n",
      "     9    -7.715895e+00     1.199263e-01\n",
      " * time: 0.8981020450592041\n",
      "    10    -7.779716e+00     9.983116e-02\n",
      " * time: 0.9233930110931396\n",
      "    11    -7.812171e+00     8.648838e-02\n",
      " * time: 0.9482061862945557\n",
      "    12    -7.833440e+00     5.640855e-02\n",
      " * time: 0.9730551242828369\n",
      "    13    -7.841181e+00     5.315456e-02\n",
      " * time: 0.9988970756530762\n",
      "    14    -7.846066e+00     5.948301e-02\n",
      " * time: 1.0245811939239502\n",
      "    15    -7.847937e+00     4.679182e-02\n",
      " * time: 1.050286054611206\n",
      "    16    -7.850020e+00     2.359876e-02\n",
      " * time: 1.076235055923462\n",
      "    17    -7.851681e+00     1.372892e-02\n",
      " * time: 1.1017630100250244\n",
      "    18    -7.852325e+00     1.066735e-02\n",
      " * time: 1.1274549961090088\n",
      "    19    -7.852518e+00     7.099772e-03\n",
      " * time: 1.1534810066223145\n",
      "    20    -7.852597e+00     3.245042e-03\n",
      " * time: 1.1790690422058105\n",
      "    21    -7.852630e+00     2.398459e-03\n",
      " * time: 1.3053112030029297\n",
      "    22    -7.852641e+00     1.588408e-03\n",
      " * time: 1.330435037612915\n",
      "    23    -7.852645e+00     9.644063e-04\n",
      " * time: 1.3551020622253418\n",
      "    24    -7.852646e+00     8.084876e-04\n",
      " * time: 1.38008713722229\n",
      "    25    -7.852646e+00     3.625906e-04\n",
      " * time: 1.4059422016143799\n",
      "    26    -7.852647e+00     1.579899e-04\n",
      " * time: 1.4316802024841309\n",
      "    27    -7.852647e+00     6.274521e-05\n",
      " * time: 1.4572021961212158\n",
      "    28    -7.852647e+00     4.065348e-05\n",
      " * time: 1.4830701351165771\n",
      "    29    -7.852647e+00     2.791895e-05\n",
      " * time: 1.508714199066162\n",
      "    30    -7.852647e+00     2.026540e-05\n",
      " * time: 1.5343520641326904\n",
      "    31    -7.852647e+00     9.208139e-06\n",
      " * time: 1.560034990310669\n",
      "    32    -7.852647e+00     4.794817e-06\n",
      " * time: 1.5859291553497314\n",
      "    33    -7.852647e+00     2.251312e-06\n",
      " * time: 1.6114790439605713\n",
      "    34    -7.852647e+00     1.574903e-06\n",
      " * time: 1.6372871398925781\n",
      "    35    -7.852647e+00     1.117409e-06\n",
      " * time: 1.6630311012268066\n",
      "    36    -7.852647e+00     6.674510e-07\n",
      " * time: 1.688662052154541\n",
      "    37    -7.852647e+00     4.819875e-07\n",
      " * time: 1.7144880294799805\n",
      "    38    -7.852647e+00     3.452596e-07\n",
      " * time: 1.7398121356964111\n",
      "    39    -7.852647e+00     1.376164e-07\n",
      " * time: 1.7648980617523193\n",
      "    40    -7.852647e+00     8.386346e-08\n",
      " * time: 1.7904481887817383\n",
      "    41    -7.852647e+00     5.287105e-08\n",
      " * time: 1.816220998764038\n",
      "    42    -7.852647e+00     2.924876e-08\n",
      " * time: 1.8420791625976562\n",
      "    43    -7.852647e+00     2.719416e-08\n",
      " * time: 1.8679640293121338\n",
      "    44    -7.852647e+00     2.719415e-08\n",
      " * time: 1.9831080436706543\n"
     ]
    }
   ],
   "cell_type": "code",
   "source": [
    "scfres_dm = direct_minimization(basis; tol);"
   ],
   "metadata": {},
   "execution_count": 4
  },
  {
   "cell_type": "markdown",
   "source": [
    "## Newton algorithm"
   ],
   "metadata": {}
  },
  {
   "cell_type": "markdown",
   "source": [
    "Start not too far from the solution to ensure convergence:\n",
    "We run first a very crude SCF to get close and then switch to Newton."
   ],
   "metadata": {}
  },
  {
   "outputs": [
    {
     "name": "stdout",
     "output_type": "stream",
     "text": [
      "n     Energy            log10(ΔE)   log10(Δρ)   Diag\n",
      "---   ---------------   ---------   ---------   ----\n",
      "  1   -7.846697801839                   -0.70    4.0\n",
      "  2   -7.852300227419       -2.25       -1.53    1.0\n"
     ]
    }
   ],
   "cell_type": "code",
   "source": [
    "scfres_start = self_consistent_field(basis; tol=1e-1);"
   ],
   "metadata": {},
   "execution_count": 5
  },
  {
   "cell_type": "markdown",
   "source": [
    "Remove the virtual orbitals (which Newton cannot treat yet)"
   ],
   "metadata": {}
  },
  {
   "outputs": [
    {
     "name": "stdout",
     "output_type": "stream",
     "text": [
      "n     Energy            log10(ΔE)   log10(Δρ)\n",
      "---   ---------------   ---------   ---------\n",
      "  1   -7.852646686618                   -2.54\n",
      "  2   -7.852646686730       -9.95       -5.66\n",
      "  3   -7.852646686730   +  -14.75      -11.43\n",
      "  4   -7.852646686730   +    -Inf      -15.78\n"
     ]
    }
   ],
   "cell_type": "code",
   "source": [
    "ψ, _ = DFTK.select_occupied_orbitals(basis, scfres_start.ψ, scfres_start.occupation)\n",
    "scfres_newton = newton(basis, ψ; tol);"
   ],
   "metadata": {},
   "execution_count": 6
  },
  {
   "cell_type": "markdown",
   "source": [
    "## Comparison of results"
   ],
   "metadata": {}
  },
  {
   "outputs": [
    {
     "name": "stdout",
     "output_type": "stream",
     "text": [
      "|ρ_newton - ρ_scf|  = 3.873220130649322e-13\n",
      "|ρ_newton - ρ_scfv| = 3.845971959160428e-13\n",
      "|ρ_newton - ρ_dm|   = 2.453290510979936e-9\n"
     ]
    }
   ],
   "cell_type": "code",
   "source": [
    "println(\"|ρ_newton - ρ_scf|  = \", norm(scfres_newton.ρ - scfres_scf.ρ))\n",
    "println(\"|ρ_newton - ρ_scfv| = \", norm(scfres_newton.ρ - scfres_scfv.ρ))\n",
    "println(\"|ρ_newton - ρ_dm|   = \", norm(scfres_newton.ρ - scfres_dm.ρ))"
   ],
   "metadata": {},
   "execution_count": 7
  }
 ],
 "nbformat_minor": 3,
 "metadata": {
  "language_info": {
   "file_extension": ".jl",
   "mimetype": "application/julia",
   "name": "julia",
   "version": "1.8.1"
  },
  "kernelspec": {
   "name": "julia-1.8",
   "display_name": "Julia 1.8.1",
   "language": "julia"
  }
 },
 "nbformat": 4
}
