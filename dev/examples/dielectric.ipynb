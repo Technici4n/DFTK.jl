{
 "cells": [
  {
   "cell_type": "markdown",
   "source": [
    "# Eigenvalues of the dielectric matrix\n",
    "\n",
    "We compute a few eigenvalues of the dielectric matrix ($q=0$, $ω=0$) iteratively."
   ],
   "metadata": {}
  },
  {
   "outputs": [
    {
     "name": "stdout",
     "output_type": "stream",
     "text": [
      "n     Energy            log10(ΔE)   log10(Δρ)   Diag\n",
      "---   ---------------   ---------   ---------   ----\n",
      "  1   -7.234770191225                   -0.50    7.0\n",
      "  2   -7.250182680038       -1.81       -1.41    1.0\n",
      "  3   -7.251147843118       -3.02       -2.24    1.0\n",
      "  4   -7.251315167076       -3.78       -2.28    3.0\n",
      "  5   -7.251335897791       -4.68       -2.72    1.0\n",
      "  6   -7.251335116301   +   -6.11       -2.88    2.0\n",
      "  7   -7.251338367411       -5.49       -3.29    1.0\n",
      "  8   -7.251338767130       -6.40       -3.80    1.0\n",
      "  9   -7.251338794457       -7.56       -4.18    2.0\n",
      " 10   -7.251338797218       -8.56       -4.45    2.0\n",
      " 11   -7.251338798603       -8.86       -5.20    1.0\n",
      " 12   -7.251338798699      -10.02       -5.59    3.0\n",
      " 13   -7.251338798703      -11.40       -5.87    1.0\n",
      " 14   -7.251338798704      -11.81       -6.44    2.0\n",
      " 15   -7.251338798705      -12.76       -6.62    2.0\n",
      " 16   -7.251338798705      -13.65       -6.98    1.0\n",
      " 17   -7.251338798705      -13.88       -7.49    2.0\n",
      " 18   -7.251338798705      -14.57       -8.09    1.0\n"
     ]
    }
   ],
   "cell_type": "code",
   "source": [
    "using DFTK\n",
    "using Plots\n",
    "using KrylovKit\n",
    "using Printf\n",
    "\n",
    "# Calculation parameters\n",
    "kgrid = [1, 1, 1]\n",
    "Ecut = 5\n",
    "\n",
    "# Silicon lattice\n",
    "a = 10.26\n",
    "lattice = a / 2 .* [[0 1 1.]; [1 0 1.]; [1 1 0.]]\n",
    "Si = ElementPsp(:Si, psp=load_psp(\"hgh/lda/Si-q4\"))\n",
    "atoms     = [Si, Si]\n",
    "positions = [ones(3)/8, -ones(3)/8]\n",
    "\n",
    "# Compute the dielectric operator without symmetries\n",
    "model  = model_LDA(lattice, atoms, positions, symmetries=false)\n",
    "basis  = PlaneWaveBasis(model; Ecut, kgrid)\n",
    "scfres = self_consistent_field(basis, tol=1e-8);"
   ],
   "metadata": {},
   "execution_count": 1
  },
  {
   "cell_type": "markdown",
   "source": [
    "Applying $ε^† ≔ (1- χ_0 K)$ …"
   ],
   "metadata": {}
  },
  {
   "outputs": [],
   "cell_type": "code",
   "source": [
    "function eps_fun(δρ)\n",
    "    δV = apply_kernel(basis, δρ; ρ=scfres.ρ)\n",
    "    χ0δV = apply_χ0(scfres, δV)\n",
    "    δρ - χ0δV\n",
    "end;"
   ],
   "metadata": {},
   "execution_count": 2
  },
  {
   "cell_type": "markdown",
   "source": [
    "… eagerly diagonalizes the subspace matrix at each iteration"
   ],
   "metadata": {}
  },
  {
   "outputs": [
    {
     "name": "stdout",
     "output_type": "stream",
     "text": [
      "[ Info: Arnoldi iteration step 1: normres = 0.03197951900508811\n",
      "[ Info: Arnoldi iteration step 2: normres = 0.7124589362311384\n",
      "[ Info: Arnoldi iteration step 3: normres = 0.8125301908346361\n",
      "[ Info: Arnoldi iteration step 4: normres = 0.4105015362225375\n",
      "[ Info: Arnoldi iteration step 5: normres = 0.34416851445427665\n",
      "[ Info: Arnoldi schursolve in iter 1, krylovdim = 5: 0 values converged, normres = (4.35e-02, 7.65e-02, 2.32e-01, 2.27e-01, 7.27e-02)\n",
      "[ Info: Arnoldi iteration step 6: normres = 0.43698773802701696\n",
      "[ Info: Arnoldi schursolve in iter 1, krylovdim = 6: 0 values converged, normres = (1.51e-02, 1.05e-01, 4.08e-01, 9.76e-02, 3.50e-02)\n",
      "[ Info: Arnoldi iteration step 7: normres = 0.10685763332451928\n",
      "[ Info: Arnoldi schursolve in iter 1, krylovdim = 7: 0 values converged, normres = (9.03e-04, 2.30e-02, 3.68e-02, 5.01e-02, 7.59e-02)\n",
      "[ Info: Arnoldi iteration step 8: normres = 0.11016965616415021\n",
      "[ Info: Arnoldi schursolve in iter 1, krylovdim = 8: 0 values converged, normres = (4.37e-05, 1.85e-03, 3.30e-03, 2.09e-02, 5.78e-02)\n",
      "[ Info: Arnoldi iteration step 9: normres = 0.06306305432386124\n",
      "[ Info: Arnoldi schursolve in iter 1, krylovdim = 9: 0 values converged, normres = (1.18e-06, 8.20e-05, 1.62e-04, 4.42e-03, 2.18e-02)\n",
      "[ Info: Arnoldi iteration step 10: normres = 0.07142484862115825\n",
      "[ Info: Arnoldi schursolve in iter 1, krylovdim = 10: 0 values converged, normres = (3.68e-08, 4.24e-06, 9.33e-06, 1.11e-03, 1.16e-02)\n",
      "[ Info: Arnoldi iteration step 11: normres = 0.0870746792570245\n",
      "[ Info: Arnoldi schursolve in iter 1, krylovdim = 11: 0 values converged, normres = (1.37e-09, 2.56e-07, 6.24e-07, 2.85e-04, 5.73e-03)\n",
      "[ Info: Arnoldi iteration step 12: normres = 0.07432885750125376\n",
      "[ Info: Arnoldi schursolve in iter 1, krylovdim = 12: 0 values converged, normres = (4.43e-11, 1.38e-08, 3.73e-08, 7.55e-05, 3.64e-03)\n",
      "[ Info: Arnoldi iteration step 13: normres = 0.06298570401081807\n",
      "[ Info: Arnoldi schursolve in iter 1, krylovdim = 13: 0 values converged, normres = (1.18e-12, 5.97e-10, 1.79e-09, 1.37e-05, 1.34e-03)\n",
      "[ Info: Arnoldi iteration step 14: normres = 0.6691570857863135\n",
      "[ Info: Arnoldi schursolve in iter 1, krylovdim = 14: 1 values converged, normres = (5.78e-13, 8.68e-10, 3.74e-09, 6.67e-01, 8.53e-03)\n",
      "[ Info: Arnoldi iteration step 15: normres = 0.1251977321962059\n",
      "[ Info: Arnoldi schursolve in iter 1, krylovdim = 15: 1 values converged, normres = (4.30e-14, 7.58e-10, 6.70e-02, 3.25e-04, 1.54e-05)\n",
      "[ Info: Arnoldi iteration step 16: normres = 0.3574522508886357\n",
      "[ Info: Arnoldi schursolve in iter 1, krylovdim = 16: 1 values converged, normres = (1.39e-14, 3.13e-09, 1.23e-01, 8.73e-04, 3.33e-01)\n",
      "[ Info: Arnoldi iteration step 17: normres = 0.03482627303207083\n",
      "[ Info: Arnoldi schursolve in iter 1, krylovdim = 17: 1 values converged, normres = (2.21e-16, 5.04e-08, 4.75e-03, 2.82e-03, 7.30e-03)\n",
      "[ Info: Arnoldi iteration step 18: normres = 0.01666875722895641\n",
      "[ Info: Arnoldi schursolve in iter 1, krylovdim = 18: 1 values converged, normres = (1.52e-18, 1.02e-07, 5.21e-05, 6.68e-05, 6.70e-05)\n",
      "[ Info: Arnoldi iteration step 19: normres = 0.06890458071591268\n",
      "[ Info: Arnoldi schursolve in iter 1, krylovdim = 19: 1 values converged, normres = (4.33e-20, 1.52e-07, 2.36e-06, 1.66e-07, 4.73e-06)\n",
      "[ Info: Arnoldi iteration step 20: normres = 0.08876860347073975\n",
      "[ Info: Arnoldi schursolve in iter 1, krylovdim = 20: 1 values converged, normres = (1.89e-21, 1.31e-08, 1.87e-07, 5.03e-08, 4.25e-07)\n",
      "[ Info: Arnoldi iteration step 21: normres = 0.03211240772252353\n",
      "[ Info: Arnoldi schursolve in iter 1, krylovdim = 21: 1 values converged, normres = (2.53e-23, 1.77e-09, 3.62e-09, 6.12e-09, 8.13e-09)\n",
      "[ Info: Arnoldi iteration step 22: normres = 0.027586065243265335\n",
      "[ Info: Arnoldi schursolve in iter 1, krylovdim = 22: 1 values converged, normres = (2.91e-25, 3.06e-11, 6.80e-11, 1.21e-10, 1.69e-10)\n",
      "[ Info: Arnoldi iteration step 23: normres = 0.5330292841632562\n",
      "[ Info: Arnoldi schursolve in iter 1, krylovdim = 23: 1 values converged, normres = (7.10e-26, 1.27e-11, 2.83e-11, 5.64e-11, 7.90e-11)\n",
      "[ Info: Arnoldi iteration step 24: normres = 0.030111177967278205\n",
      "[ Info: Arnoldi schursolve in iter 1, krylovdim = 24: 1 values converged, normres = (1.84e-27, 2.30e-12, 5.12e-12, 8.92e-09, 1.10e-08)\n",
      "[ Info: Arnoldi iteration step 25: normres = 0.02946317072300932\n",
      "[ Info: Arnoldi schursolve in iter 1, krylovdim = 25: 3 values converged, normres = (2.22e-29, 4.44e-14, 9.90e-14, 2.79e-09, 5.05e-09)\n",
      "[ Info: Arnoldi iteration step 26: normres = 0.08794382959697887\n",
      "[ Info: Arnoldi schursolve in iter 1, krylovdim = 26: 3 values converged, normres = (8.64e-31, 2.88e-15, 6.41e-15, 1.28e-09, 1.84e-09)\n",
      "[ Info: Arnoldi iteration step 27: normres = 0.05427668561383584\n",
      "[ Info: Arnoldi schursolve in iter 1, krylovdim = 27: 3 values converged, normres = (1.97e-32, 1.07e-16, 2.37e-16, 1.03e-06, 2.74e-08)\n",
      "[ Info: Arnoldi iteration step 28: normres = 0.058127957719582186\n",
      "[ Info: Arnoldi schursolve in iter 1, krylovdim = 28: 3 values converged, normres = (5.12e-34, 4.64e-18, 1.03e-17, 1.16e-09, 2.82e-09)\n",
      "[ Info: Arnoldi iteration step 29: normres = 0.017493315540093195\n",
      "[ Info: Arnoldi schursolve in iter 1, krylovdim = 29: 3 values converged, normres = (3.69e-36, 5.35e-20, 1.19e-19, 3.82e-11, 8.05e-10)\n",
      "[ Info: Arnoldi iteration step 30: normres = 0.23339345709444198\n",
      "[ Info: Arnoldi schursolve in iter 1, krylovdim = 30: 3 values converged, normres = (3.77e-37, 9.07e-21, 2.02e-20, 7.07e-12, 1.53e-10)\n",
      "[ Info: Arnoldi schursolve in iter 2, krylovdim = 19: 3 values converged, normres = (3.77e-37, 9.07e-21, 2.02e-20, 7.07e-12, 1.53e-10)\n",
      "[ Info: Arnoldi iteration step 20: normres = 0.04299221212072737\n",
      "[ Info: Arnoldi schursolve in iter 2, krylovdim = 20: 4 values converged, normres = (7.65e-39, 3.21e-22, 7.15e-22, 2.85e-13, 6.15e-12)\n",
      "[ Info: Arnoldi iteration step 21: normres = 0.0556364602035886\n",
      "┌ Info: Arnoldi eigsolve finished after 2 iterations:\n",
      "│ *  6 eigenvalues converged\n",
      "│ *  norm of residuals = (1.7474653872438094e-40, 1.1797890505127919e-23, 2.854785638635361e-23, 1.1534352689230161e-14, 2.4913323839238613e-13, 5.303276147832689e-14)\n",
      "└ *  number of operations = 32\n"
     ]
    }
   ],
   "cell_type": "code",
   "source": [
    "eigsolve(eps_fun, randn(size(scfres.ρ)), 5, :LM; eager=true, verbosity=3);"
   ],
   "metadata": {},
   "execution_count": 3
  }
 ],
 "nbformat_minor": 3,
 "metadata": {
  "language_info": {
   "file_extension": ".jl",
   "mimetype": "application/julia",
   "name": "julia",
   "version": "1.8.3"
  },
  "kernelspec": {
   "name": "julia-1.8",
   "display_name": "Julia 1.8.3",
   "language": "julia"
  }
 },
 "nbformat": 4
}
