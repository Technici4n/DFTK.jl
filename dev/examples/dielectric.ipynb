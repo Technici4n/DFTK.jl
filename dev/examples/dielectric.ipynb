{
 "cells": [
  {
   "cell_type": "markdown",
   "source": [
    "# Eigenvalues of the dielectric matrix\n",
    "\n",
    "We compute a few eigenvalues of the dielectric matrix ($q=0$, $ω=0$) iteratively."
   ],
   "metadata": {}
  },
  {
   "outputs": [
    {
     "name": "stdout",
     "output_type": "stream",
     "text": [
      "n     Energy            log10(ΔE)   log10(Δρ)   Diag   Δtime\n",
      "---   ---------------   ---------   ---------   ----   ------\n",
      "  1   -7.235443893334                   -0.50    8.0         \n",
      "  2   -7.250309583765       -1.83       -1.40    1.0   6.99ms\n",
      "  3   -7.251091973630       -3.11       -2.03    1.0   6.96ms\n",
      "  4   -7.251052803152   +   -4.41       -1.93    2.0   8.58ms\n",
      "  5   -7.251333826772       -3.55       -2.71    1.0   6.83ms\n",
      "  6   -7.251338198171       -5.36       -3.18    1.0   6.83ms\n",
      "  7   -7.251338689588       -6.31       -3.50    2.0   8.51ms\n",
      "  8   -7.251338788722       -7.00       -4.04    1.0   6.98ms\n",
      "  9   -7.251338796288       -8.12       -4.30    3.0   9.95ms\n",
      " 10   -7.251338798183       -8.72       -4.72    1.0   7.34ms\n",
      " 11   -7.251338798662       -9.32       -5.30    2.0   8.80ms\n",
      " 12   -7.251338798696      -10.48       -5.50    3.0   10.3ms\n",
      " 13   -7.251338798704      -11.10       -6.19    1.0   7.19ms\n",
      " 14   -7.251338798704      -12.08       -6.40    3.0   10.7ms\n",
      " 15   -7.251338798705      -12.87       -6.93    1.0   7.24ms\n",
      " 16   -7.251338798705      -13.77       -7.42    3.0   9.33ms\n",
      " 17   -7.251338798705   +  -14.57       -7.57    2.0   9.10ms\n",
      " 18   -7.251338798705      -14.57       -7.97    1.0   7.24ms\n",
      " 19   -7.251338798705      -15.05       -8.22    2.0   9.05ms\n"
     ]
    }
   ],
   "cell_type": "code",
   "source": [
    "using DFTK\n",
    "using Plots\n",
    "using KrylovKit\n",
    "using Printf\n",
    "\n",
    "# Calculation parameters\n",
    "kgrid = [1, 1, 1]\n",
    "Ecut = 5\n",
    "\n",
    "# Silicon lattice\n",
    "a = 10.26\n",
    "lattice = a / 2 .* [[0 1 1.]; [1 0 1.]; [1 1 0.]]\n",
    "Si = ElementPsp(:Si, psp=load_psp(\"hgh/lda/Si-q4\"))\n",
    "atoms     = [Si, Si]\n",
    "positions = [ones(3)/8, -ones(3)/8]\n",
    "\n",
    "# Compute the dielectric operator without symmetries\n",
    "model  = model_LDA(lattice, atoms, positions, symmetries=false)\n",
    "basis  = PlaneWaveBasis(model; Ecut, kgrid)\n",
    "scfres = self_consistent_field(basis, tol=1e-8);"
   ],
   "metadata": {},
   "execution_count": 1
  },
  {
   "cell_type": "markdown",
   "source": [
    "Applying $ε^† ≔ (1- χ_0 K)$ …"
   ],
   "metadata": {}
  },
  {
   "outputs": [],
   "cell_type": "code",
   "source": [
    "function eps_fun(δρ)\n",
    "    δV = apply_kernel(basis, δρ; ρ=scfres.ρ)\n",
    "    χ0δV = apply_χ0(scfres, δV)\n",
    "    δρ - χ0δV\n",
    "end;"
   ],
   "metadata": {},
   "execution_count": 2
  },
  {
   "cell_type": "markdown",
   "source": [
    "… eagerly diagonalizes the subspace matrix at each iteration"
   ],
   "metadata": {}
  },
  {
   "outputs": [
    {
     "name": "stdout",
     "output_type": "stream",
     "text": [
      "[ Info: Arnoldi iteration step 1: normres = 0.06843915734409153\n",
      "[ Info: Arnoldi iteration step 2: normres = 0.4164532561112056\n",
      "[ Info: Arnoldi iteration step 3: normres = 1.0098780613328449\n",
      "[ Info: Arnoldi iteration step 4: normres = 0.2971934147623961\n",
      "[ Info: Arnoldi iteration step 5: normres = 0.5922441918274343\n",
      "[ Info: Arnoldi schursolve in iter 1, krylovdim = 5: 0 values converged, normres = (5.79e-02, 7.77e-02, 5.25e-01, 2.55e-01, 2.22e-02)\n",
      "[ Info: Arnoldi iteration step 6: normres = 0.2322958096482033\n",
      "[ Info: Arnoldi schursolve in iter 1, krylovdim = 6: 0 values converged, normres = (1.05e-02, 8.37e-02, 1.66e-01, 1.08e-01, 3.96e-02)\n",
      "[ Info: Arnoldi iteration step 7: normres = 0.0816171362237299\n",
      "[ Info: Arnoldi schursolve in iter 1, krylovdim = 7: 0 values converged, normres = (4.09e-04, 6.60e-03, 1.18e-02, 4.54e-02, 6.05e-02)\n",
      "[ Info: Arnoldi iteration step 8: normres = 0.08586696873890254\n",
      "[ Info: Arnoldi schursolve in iter 1, krylovdim = 8: 0 values converged, normres = (1.49e-05, 3.91e-04, 7.73e-04, 1.12e-02, 2.90e-02)\n",
      "[ Info: Arnoldi iteration step 9: normres = 0.06046055634171146\n",
      "[ Info: Arnoldi schursolve in iter 1, krylovdim = 9: 0 values converged, normres = (3.86e-07, 1.65e-05, 3.63e-05, 2.07e-03, 1.41e-02)\n",
      "[ Info: Arnoldi iteration step 10: normres = 0.11612957645967996\n",
      "[ Info: Arnoldi schursolve in iter 1, krylovdim = 10: 0 values converged, normres = (1.96e-08, 1.40e-06, 3.41e-06, 8.61e-04, 2.25e-02)\n",
      "[ Info: Arnoldi iteration step 11: normres = 0.0724585686244193\n",
      "[ Info: Arnoldi schursolve in iter 1, krylovdim = 11: 0 values converged, normres = (6.24e-10, 7.40e-08, 2.01e-07, 2.59e-04, 4.47e-02)\n",
      "[ Info: Arnoldi iteration step 12: normres = 0.083312184212844\n",
      "[ Info: Arnoldi schursolve in iter 1, krylovdim = 12: 0 values converged, normres = (2.23e-11, 4.33e-09, 1.31e-08, 6.78e-05, 2.08e-02)\n",
      "[ Info: Arnoldi iteration step 13: normres = 0.04385034481674122\n",
      "[ Info: Arnoldi schursolve in iter 1, krylovdim = 13: 1 values converged, normres = (4.22e-13, 1.35e-10, 4.52e-10, 9.85e-06, 6.27e-03)\n",
      "[ Info: Arnoldi iteration step 14: normres = 0.6874293437826222\n",
      "[ Info: Arnoldi schursolve in iter 1, krylovdim = 14: 1 values converged, normres = (1.49e-13, 8.93e-11, 3.46e-10, 6.36e-01, 2.25e-01)\n",
      "[ Info: Arnoldi iteration step 15: normres = 0.08970823468422305\n",
      "[ Info: Arnoldi schursolve in iter 1, krylovdim = 15: 1 values converged, normres = (1.06e-14, 5.08e-11, 7.33e-02, 6.91e-03, 2.47e-05)\n",
      "[ Info: Arnoldi iteration step 16: normres = 0.7146663815821083\n",
      "[ Info: Arnoldi schursolve in iter 1, krylovdim = 16: 1 values converged, normres = (5.23e-15, 7.61e-11, 1.12e-01, 1.22e-02, 6.99e-01)\n",
      "[ Info: Arnoldi iteration step 17: normres = 0.03242654242130969\n",
      "[ Info: Arnoldi schursolve in iter 1, krylovdim = 17: 1 values converged, normres = (1.09e-16, 6.04e-10, 1.65e-02, 2.66e-03, 9.95e-03)\n",
      "[ Info: Arnoldi iteration step 18: normres = 0.011621958065210197\n",
      "[ Info: Arnoldi schursolve in iter 1, krylovdim = 18: 1 values converged, normres = (5.22e-19, 7.87e-05, 9.83e-05, 1.48e-08, 8.68e-05)\n",
      "[ Info: Arnoldi iteration step 19: normres = 0.08166417810381395\n",
      "[ Info: Arnoldi schursolve in iter 1, krylovdim = 19: 1 values converged, normres = (1.75e-20, 5.19e-06, 4.28e-06, 2.02e-06, 4.69e-06)\n",
      "[ Info: Arnoldi iteration step 20: normres = 0.08803085929372823\n",
      "[ Info: Arnoldi schursolve in iter 1, krylovdim = 20: 1 values converged, normres = (7.64e-22, 1.43e-09, 5.33e-07, 3.67e-07, 2.83e-07)\n",
      "[ Info: Arnoldi iteration step 21: normres = 0.01985830454168233\n",
      "[ Info: Arnoldi schursolve in iter 1, krylovdim = 21: 1 values converged, normres = (6.26e-24, 6.08e-09, 3.45e-09, 2.01e-09, 6.38e-09)\n",
      "[ Info: Arnoldi iteration step 22: normres = 0.052098489200082226\n",
      "[ Info: Arnoldi schursolve in iter 1, krylovdim = 22: 1 values converged, normres = (1.35e-25, 2.03e-10, 1.29e-10, 7.46e-11, 2.42e-10)\n",
      "[ Info: Arnoldi iteration step 23: normres = 0.6507811312209376\n",
      "[ Info: Arnoldi schursolve in iter 1, krylovdim = 23: 1 values converged, normres = (4.91e-26, 1.48e-10, 9.80e-11, 6.52e-11, 2.13e-10)\n",
      "[ Info: Arnoldi iteration step 24: normres = 0.037461063473082354\n",
      "[ Info: Arnoldi schursolve in iter 1, krylovdim = 24: 1 values converged, normres = (1.31e-27, 2.34e-11, 1.51e-11, 3.86e-09, 7.07e-09)\n",
      "[ Info: Arnoldi iteration step 25: normres = 0.0906362622490399\n",
      "[ Info: Arnoldi schursolve in iter 1, krylovdim = 25: 1 values converged, normres = (4.93e-29, 1.43e-12, 9.24e-13, 6.38e-09, 6.64e-08)\n",
      "[ Info: Arnoldi iteration step 26: normres = 0.028862017917679707\n",
      "[ Info: Arnoldi schursolve in iter 1, krylovdim = 26: 3 values converged, normres = (6.37e-31, 3.12e-14, 2.02e-14, 4.16e-05, 5.89e-06)\n",
      "[ Info: Arnoldi iteration step 27: normres = 0.016994046749111282\n",
      "[ Info: Arnoldi schursolve in iter 1, krylovdim = 27: 3 values converged, normres = (4.44e-33, 3.46e-16, 2.24e-16, 6.55e-09, 4.00e-08)\n",
      "[ Info: Arnoldi iteration step 28: normres = 0.08691707998618368\n",
      "[ Info: Arnoldi schursolve in iter 1, krylovdim = 28: 3 values converged, normres = (1.61e-34, 2.03e-17, 1.31e-17, 2.01e-08, 2.15e-08)\n",
      "[ Info: Arnoldi iteration step 29: normres = 0.04491620786936515\n",
      "[ Info: Arnoldi schursolve in iter 1, krylovdim = 29: 3 values converged, normres = (3.17e-36, 6.60e-19, 4.27e-19, 1.25e-09, 8.08e-11)\n",
      "[ Info: Arnoldi iteration step 30: normres = 0.19638939382739576\n",
      "[ Info: Arnoldi schursolve in iter 1, krylovdim = 30: 3 values converged, normres = (2.89e-37, 1.04e-19, 6.72e-20, 2.22e-10, 3.02e-12)\n",
      "[ Info: Arnoldi schursolve in iter 2, krylovdim = 19: 3 values converged, normres = (2.89e-37, 1.04e-19, 6.72e-20, 2.22e-10, 3.02e-12)\n",
      "[ Info: Arnoldi iteration step 20: normres = 0.07387409073631233\n",
      "[ Info: Arnoldi schursolve in iter 2, krylovdim = 20: 3 values converged, normres = (9.48e-39, 5.75e-21, 3.73e-21, 1.38e-11, 3.70e-13)\n",
      "[ Info: Arnoldi iteration step 21: normres = 0.04639493405836301\n",
      "┌ Info: Arnoldi eigsolve finished after 2 iterations:\n",
      "│ *  6 eigenvalues converged\n",
      "│ *  norm of residuals = (1.9099198257267888e-40, 1.914685232073035e-22, 3.378977888799477e-23, 5.098350683870307e-13, 1.622387328720019e-14, 3.023802304313292e-14)\n",
      "└ *  number of operations = 32\n"
     ]
    }
   ],
   "cell_type": "code",
   "source": [
    "eigsolve(eps_fun, randn(size(scfres.ρ)), 5, :LM; eager=true, verbosity=3);"
   ],
   "metadata": {},
   "execution_count": 3
  }
 ],
 "nbformat_minor": 3,
 "metadata": {
  "language_info": {
   "file_extension": ".jl",
   "mimetype": "application/julia",
   "name": "julia",
   "version": "1.9.1"
  },
  "kernelspec": {
   "name": "julia-1.9",
   "display_name": "Julia 1.9.1",
   "language": "julia"
  }
 },
 "nbformat": 4
}
