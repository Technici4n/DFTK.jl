{
 "cells": [
  {
   "cell_type": "markdown",
   "source": [
    "# Eigenvalues of the dielectric matrix\n",
    "\n",
    "We compute a few eigenvalues of the dielectric matrix ($q=0$, $ω=0$) iteratively."
   ],
   "metadata": {}
  },
  {
   "outputs": [
    {
     "name": "stdout",
     "output_type": "stream",
     "text": [
      "n     Energy            log10(ΔE)   log10(Δρ)   Diag   Δtime\n",
      "---   ---------------   ---------   ---------   ----   ------\n",
      "  1   -7.232947980096                   -0.50    7.0         \n",
      "  2   -7.249812696224       -1.77       -1.39    1.0   7.66ms\n",
      "  3   -7.250997497497       -2.93       -1.87    2.0   9.15ms\n",
      "  4   -7.251132158447       -3.87       -1.98    2.0   8.79ms\n",
      "  5   -7.251317357067       -3.73       -2.48    1.0   7.58ms\n",
      "  6   -7.251337217153       -4.70       -3.12    1.0   7.77ms\n",
      "  7   -7.251338440579       -5.91       -3.25    3.0   10.3ms\n",
      "  8   -7.251338746671       -6.51       -3.70    1.0   7.98ms\n",
      "  9   -7.251338794219       -7.32       -4.28    2.0   9.57ms\n",
      " 10   -7.251338798380       -8.38       -4.70    2.0   9.74ms\n",
      " 11   -7.251338798625       -9.61       -5.01    1.0   7.97ms\n",
      " 12   -7.251338798679      -10.27       -5.40    1.0   8.16ms\n",
      " 13   -7.251338798703      -10.62       -5.97    2.0   9.46ms\n",
      " 14   -7.251338798704      -11.81       -6.45    1.0   8.73ms\n",
      " 15   -7.251338798705      -12.64       -6.98    2.0   48.0ms\n",
      " 16   -7.251338798705      -14.21       -7.45    1.0   8.36ms\n",
      " 17   -7.251338798705   +  -15.05       -7.66    1.0   8.34ms\n",
      " 18   -7.251338798705      -14.45       -8.10    1.0   8.57ms\n"
     ]
    }
   ],
   "cell_type": "code",
   "source": [
    "using DFTK\n",
    "using Plots\n",
    "using KrylovKit\n",
    "using Printf\n",
    "\n",
    "# Calculation parameters\n",
    "kgrid = [1, 1, 1]\n",
    "Ecut = 5\n",
    "\n",
    "# Silicon lattice\n",
    "a = 10.26\n",
    "lattice = a / 2 .* [[0 1 1.]; [1 0 1.]; [1 1 0.]]\n",
    "Si = ElementPsp(:Si, psp=load_psp(\"hgh/lda/Si-q4\"))\n",
    "atoms     = [Si, Si]\n",
    "positions = [ones(3)/8, -ones(3)/8]\n",
    "\n",
    "# Compute the dielectric operator without symmetries\n",
    "model  = model_LDA(lattice, atoms, positions, symmetries=false)\n",
    "basis  = PlaneWaveBasis(model; Ecut, kgrid)\n",
    "scfres = self_consistent_field(basis, tol=1e-8);"
   ],
   "metadata": {},
   "execution_count": 1
  },
  {
   "cell_type": "markdown",
   "source": [
    "Applying $ε^† ≔ (1- χ_0 K)$ …"
   ],
   "metadata": {}
  },
  {
   "outputs": [],
   "cell_type": "code",
   "source": [
    "function eps_fun(δρ)\n",
    "    δV = apply_kernel(basis, δρ; ρ=scfres.ρ)\n",
    "    χ0δV = apply_χ0(scfres, δV)\n",
    "    δρ - χ0δV\n",
    "end;"
   ],
   "metadata": {},
   "execution_count": 2
  },
  {
   "cell_type": "markdown",
   "source": [
    "… eagerly diagonalizes the subspace matrix at each iteration"
   ],
   "metadata": {}
  },
  {
   "outputs": [
    {
     "name": "stdout",
     "output_type": "stream",
     "text": [
      "[ Info: Arnoldi iteration step 1: normres = 0.11125200227717003\n",
      "[ Info: Arnoldi iteration step 2: normres = 0.5359627532090409\n",
      "[ Info: Arnoldi iteration step 3: normres = 0.5971402346599269\n",
      "[ Info: Arnoldi iteration step 4: normres = 0.24209941364441911\n",
      "[ Info: Arnoldi iteration step 5: normres = 0.605717465441287\n",
      "[ Info: Arnoldi schursolve in iter 1, krylovdim = 5: 0 values converged, normres = (1.66e-02, 9.21e-02, 5.50e-01, 2.36e-01, 8.37e-03)\n",
      "[ Info: Arnoldi iteration step 6: normres = 0.2220893362129997\n",
      "[ Info: Arnoldi schursolve in iter 1, krylovdim = 6: 0 values converged, normres = (2.81e-03, 1.03e-01, 1.30e-01, 1.07e-01, 9.95e-02)\n",
      "[ Info: Arnoldi iteration step 7: normres = 0.06149429593255662\n",
      "[ Info: Arnoldi schursolve in iter 1, krylovdim = 7: 0 values converged, normres = (7.95e-05, 5.40e-03, 6.42e-03, 2.78e-02, 4.43e-02)\n",
      "[ Info: Arnoldi iteration step 8: normres = 0.09713051894932645\n",
      "[ Info: Arnoldi schursolve in iter 1, krylovdim = 8: 0 values converged, normres = (3.33e-06, 3.72e-04, 4.91e-04, 8.49e-03, 3.65e-02)\n",
      "[ Info: Arnoldi iteration step 9: normres = 0.06217463947827169\n",
      "[ Info: Arnoldi schursolve in iter 1, krylovdim = 9: 0 values converged, normres = (8.84e-08, 1.62e-05, 2.36e-05, 1.63e-03, 2.15e-02)\n",
      "[ Info: Arnoldi iteration step 10: normres = 0.08376286198880985\n",
      "[ Info: Arnoldi schursolve in iter 1, krylovdim = 10: 0 values converged, normres = (3.17e-09, 9.46e-07, 1.53e-06, 4.11e-04, 1.47e-02)\n",
      "[ Info: Arnoldi iteration step 11: normres = 0.0731535979725983\n",
      "[ Info: Arnoldi schursolve in iter 1, krylovdim = 11: 0 values converged, normres = (9.93e-11, 4.86e-08, 8.72e-08, 9.25e-05, 9.95e-03)\n",
      "[ Info: Arnoldi iteration step 12: normres = 0.11544805171633139\n",
      "[ Info: Arnoldi schursolve in iter 1, krylovdim = 12: 0 values converged, normres = (5.03e-12, 4.09e-09, 8.17e-09, 3.96e-05, 2.47e-02)\n",
      "[ Info: Arnoldi iteration step 13: normres = 0.18872730115420175\n",
      "[ Info: Arnoldi schursolve in iter 1, krylovdim = 13: 1 values converged, normres = (4.20e-13, 5.72e-10, 1.28e-09, 3.52e-05, 1.13e-01)\n",
      "[ Info: Arnoldi iteration step 14: normres = 0.24923805019237133\n",
      "[ Info: Arnoldi schursolve in iter 1, krylovdim = 14: 1 values converged, normres = (1.02e-13, 1.28e-09, 2.40e-01, 5.04e-02, 7.61e-04)\n",
      "[ Info: Arnoldi iteration step 15: normres = 0.3870742447188111\n",
      "[ Info: Arnoldi schursolve in iter 1, krylovdim = 15: 1 values converged, normres = (1.79e-14, 6.12e-10, 7.21e-02, 6.62e-04, 2.08e-05)\n",
      "[ Info: Arnoldi iteration step 16: normres = 0.07406004166489702\n",
      "[ Info: Arnoldi schursolve in iter 1, krylovdim = 16: 1 values converged, normres = (1.28e-15, 1.32e-08, 4.72e-02, 3.19e-04, 5.22e-02)\n",
      "[ Info: Arnoldi iteration step 17: normres = 0.02952929499068928\n",
      "[ Info: Arnoldi schursolve in iter 1, krylovdim = 17: 1 values converged, normres = (1.57e-17, 5.11e-04, 7.77e-04, 1.28e-07, 1.12e-03)\n",
      "[ Info: Arnoldi iteration step 18: normres = 0.024006027010578645\n",
      "[ Info: Arnoldi schursolve in iter 1, krylovdim = 18: 1 values converged, normres = (1.56e-19, 2.09e-08, 1.48e-05, 5.70e-06, 1.89e-05)\n",
      "[ Info: Arnoldi iteration step 19: normres = 0.2083793999025631\n",
      "[ Info: Arnoldi schursolve in iter 1, krylovdim = 19: 1 values converged, normres = (1.44e-20, 2.27e-06, 1.99e-07, 8.47e-08, 3.38e-06)\n",
      "[ Info: Arnoldi iteration step 20: normres = 0.060714187458586893\n",
      "[ Info: Arnoldi schursolve in iter 1, krylovdim = 20: 1 values converged, normres = (4.08e-22, 1.11e-07, 2.31e-08, 1.90e-07, 7.81e-09)\n",
      "[ Info: Arnoldi iteration step 21: normres = 0.029214391199518883\n",
      "[ Info: Arnoldi schursolve in iter 1, krylovdim = 21: 1 values converged, normres = (4.96e-24, 1.51e-09, 1.60e-09, 1.88e-09, 3.63e-09)\n",
      "[ Info: Arnoldi iteration step 22: normres = 0.2848434497432238\n",
      "[ Info: Arnoldi schursolve in iter 1, krylovdim = 22: 1 values converged, normres = (5.95e-25, 3.14e-10, 2.92e-10, 4.07e-10, 7.79e-10)\n",
      "[ Info: Arnoldi iteration step 23: normres = 0.07343269905762183\n",
      "[ Info: Arnoldi schursolve in iter 1, krylovdim = 23: 1 values converged, normres = (4.06e-26, 1.51e-10, 1.41e-10, 3.94e-09, 7.85e-09)\n",
      "[ Info: Arnoldi iteration step 24: normres = 0.014083876333479812\n",
      "[ Info: Arnoldi schursolve in iter 1, krylovdim = 24: 1 values converged, normres = (2.34e-28, 1.44e-12, 1.35e-12, 5.31e-09, 1.42e-08)\n",
      "[ Info: Arnoldi iteration step 25: normres = 0.10609834438096466\n",
      "[ Info: Arnoldi schursolve in iter 1, krylovdim = 25: 3 values converged, normres = (1.05e-29, 1.04e-13, 9.75e-14, 3.38e-05, 1.33e-05)\n",
      "[ Info: Arnoldi iteration step 26: normres = 0.029111019003330935\n",
      "[ Info: Arnoldi schursolve in iter 1, krylovdim = 26: 3 values converged, normres = (1.35e-31, 2.26e-15, 2.12e-15, 3.32e-08, 7.68e-08)\n",
      "[ Info: Arnoldi iteration step 27: normres = 0.028391975301373704\n",
      "[ Info: Arnoldi schursolve in iter 1, krylovdim = 27: 3 values converged, normres = (1.58e-33, 4.20e-17, 3.94e-17, 1.91e-08, 1.09e-08)\n",
      "[ Info: Arnoldi iteration step 28: normres = 0.08954194651885954\n",
      "[ Info: Arnoldi schursolve in iter 1, krylovdim = 28: 3 values converged, normres = (6.18e-35, 2.72e-18, 2.55e-18, 7.50e-10, 1.61e-09)\n",
      "[ Info: Arnoldi iteration step 29: normres = 0.035162303494960315\n",
      "[ Info: Arnoldi schursolve in iter 1, krylovdim = 29: 3 values converged, normres = (9.06e-37, 6.44e-20, 6.04e-20, 1.95e-11, 3.97e-11)\n",
      "[ Info: Arnoldi iteration step 30: normres = 0.17844622776641159\n",
      "[ Info: Arnoldi schursolve in iter 1, krylovdim = 30: 3 values converged, normres = (7.80e-38, 9.84e-21, 9.23e-21, 3.39e-12, 6.89e-12)\n",
      "[ Info: Arnoldi schursolve in iter 2, krylovdim = 19: 3 values converged, normres = (7.80e-38, 9.84e-21, 9.23e-21, 3.39e-12, 6.89e-12)\n",
      "[ Info: Arnoldi iteration step 20: normres = 0.04063328414539207\n",
      "┌ Info: Arnoldi eigsolve finished after 2 iterations:\n",
      "│ *  6 eigenvalues converged\n",
      "│ *  norm of residuals = (1.3531182906637426e-39, 2.804102808472933e-22, 2.65387271035042e-22, 1.072241618975673e-13, 2.313094329539525e-13, 1.3104102567010808e-13)\n",
      "└ *  number of operations = 31\n"
     ]
    }
   ],
   "cell_type": "code",
   "source": [
    "eigsolve(eps_fun, randn(size(scfres.ρ)), 5, :LM; eager=true, verbosity=3);"
   ],
   "metadata": {},
   "execution_count": 3
  }
 ],
 "nbformat_minor": 3,
 "metadata": {
  "language_info": {
   "file_extension": ".jl",
   "mimetype": "application/julia",
   "name": "julia",
   "version": "1.8.5"
  },
  "kernelspec": {
   "name": "julia-1.8",
   "display_name": "Julia 1.8.5",
   "language": "julia"
  }
 },
 "nbformat": 4
}
