{
 "cells": [
  {
   "cell_type": "markdown",
   "source": [
    "# Polarizability using automatic differentiation\n",
    "\n",
    "Simple example for computing properties using (forward-mode)\n",
    "automatic differentiation.\n",
    "For a more classical approach and more details about computing polarizabilities,\n",
    "see Polarizability by linear response."
   ],
   "metadata": {}
  },
  {
   "outputs": [],
   "cell_type": "code",
   "source": [
    "using DFTK\n",
    "using LinearAlgebra\n",
    "using ForwardDiff\n",
    "\n",
    "# Construct PlaneWaveBasis given a particular electric field strength\n",
    "# Again we take the example of a Helium atom.\n",
    "function make_basis(ε::T; a=10., Ecut=30) where {T}\n",
    "    lattice=T(a) * I(3)  # lattice is a cube of $a$ Bohrs\n",
    "    # Helium at the center of the box\n",
    "    atoms     = [ElementPsp(:He, psp=load_psp(\"hgh/lda/He-q2\"))]\n",
    "    positions = [[1/2, 1/2, 1/2]]\n",
    "\n",
    "    model = model_DFT(lattice, atoms, positions, [:lda_x, :lda_c_vwn];\n",
    "                      extra_terms=[ExternalFromReal(r -> -ε * (r[1] - a/2))],\n",
    "                      symmetries=false)\n",
    "    PlaneWaveBasis(model; Ecut, kgrid=[1, 1, 1])  # No k-point sampling on isolated system\n",
    "end\n",
    "\n",
    "# dipole moment of a given density (assuming the current geometry)\n",
    "function dipole(basis, ρ)\n",
    "    @assert isdiag(basis.model.lattice)\n",
    "    a  = basis.model.lattice[1, 1]\n",
    "    rr = [a * (r[1] - 1/2) for r in r_vectors(basis)]\n",
    "    sum(rr .* ρ) * basis.dvol\n",
    "end\n",
    "\n",
    "# Function to compute the dipole for a given field strength\n",
    "function compute_dipole(ε; tol=1e-8, kwargs...)\n",
    "    scfres = self_consistent_field(make_basis(ε; kwargs...); tol)\n",
    "    dipole(scfres.basis, scfres.ρ)\n",
    "end;"
   ],
   "metadata": {},
   "execution_count": 1
  },
  {
   "cell_type": "markdown",
   "source": [
    "With this in place we can compute the polarizability from finite differences\n",
    "(just like in the previous example):"
   ],
   "metadata": {}
  },
  {
   "outputs": [
    {
     "name": "stdout",
     "output_type": "stream",
     "text": [
      "n     Energy            log10(ΔE)   log10(Δρ)   Diag   Δtime\n",
      "---   ---------------   ---------   ---------   ----   ------\n",
      "  1   -2.770731029709                   -0.53    8.0         \n",
      "  2   -2.772138202134       -2.85       -1.30    1.0    177ms\n",
      "  3   -2.772170158597       -4.50       -2.66    1.0    151ms\n",
      "  4   -2.772170721203       -6.25       -4.08    2.0    208ms\n",
      "  5   -2.772170722966       -8.75       -4.74    2.0    173ms\n",
      "  6   -2.772170723013      -10.33       -5.74    1.0    160ms\n",
      "  7   -2.772170723015      -11.71       -6.13    2.0    196ms\n",
      "  8   -2.772170723015      -13.15       -6.89    1.0    167ms\n",
      "  9   -2.772170723015   +  -14.75       -7.87    2.0    193ms\n",
      " 10   -2.772170723015      -13.80       -7.93    2.0    204ms\n",
      " 11   -2.772170723015   +  -14.07       -9.35    1.0    166ms\n",
      "n     Energy            log10(ΔE)   log10(Δρ)   Diag   Δtime\n",
      "---   ---------------   ---------   ---------   ----   ------\n",
      "  1   -2.770772425704                   -0.52    9.0         \n",
      "  2   -2.772060418800       -2.89       -1.32    1.0    171ms\n",
      "  3   -2.772083019544       -4.65       -2.44    1.0    149ms\n",
      "  4   -2.772083336362       -6.50       -3.13    1.0    174ms\n",
      "  5   -2.772083417376       -7.09       -4.16    2.0    196ms\n",
      "  6   -2.772083417657       -9.55       -4.48    1.0    154ms\n",
      "  7   -2.772083417809       -9.82       -5.55    1.0    168ms\n",
      "  8   -2.772083417811      -11.78       -6.44    1.0    160ms\n",
      "  9   -2.772083417811      -13.28       -6.44    2.0    201ms\n",
      " 10   -2.772083417811      -13.73       -7.14    1.0    173ms\n",
      " 11   -2.772083417811      -13.97       -7.85    2.0    194ms\n",
      " 12   -2.772083417811   +  -13.86       -8.54    1.0    176ms\n"
     ]
    },
    {
     "output_type": "execute_result",
     "data": {
      "text/plain": "1.7735579227575207"
     },
     "metadata": {},
     "execution_count": 2
    }
   ],
   "cell_type": "code",
   "source": [
    "polarizability_fd = let\n",
    "    ε = 0.01\n",
    "    (compute_dipole(ε) - compute_dipole(0.0)) / ε\n",
    "end"
   ],
   "metadata": {},
   "execution_count": 2
  },
  {
   "cell_type": "markdown",
   "source": [
    "We do the same thing using automatic differentiation. Under the hood this uses\n",
    "custom rules to implicitly differentiate through the self-consistent\n",
    "field fixed-point problem."
   ],
   "metadata": {}
  },
  {
   "outputs": [
    {
     "name": "stdout",
     "output_type": "stream",
     "text": [
      "n     Energy            log10(ΔE)   log10(Δρ)   Diag   Δtime\n",
      "---   ---------------   ---------   ---------   ----   ------\n",
      "  1   -2.770556761967                   -0.53    9.0         \n",
      "  2   -2.772047373631       -2.83       -1.29    1.0    146ms\n",
      "  3   -2.772082271361       -4.46       -2.74    1.0    184ms\n",
      "  4   -2.772083407127       -5.94       -3.57    2.0    168ms\n",
      "  5   -2.772083416903       -8.01       -4.02    1.0    191ms\n",
      "  6   -2.772083417735       -9.08       -5.11    1.0    154ms\n",
      "  7   -2.772083417807      -10.15       -5.21    2.0    193ms\n",
      "  8   -2.772083417811      -11.42       -6.44    1.0    160ms\n",
      "  9   -2.772083417811      -13.36       -7.22    2.0    200ms\n",
      " 10   -2.772083417811   +  -14.88       -7.13    1.0    172ms\n",
      " 11   -2.772083417811      -13.82       -7.99    2.0    191ms\n",
      " 12   -2.772083417811   +  -13.75       -8.43    1.0    174ms\n",
      "\n",
      "Polarizability via ForwardDiff:       1.7725349641176986\n",
      "Polarizability via finite difference: 1.7735579227575207\n"
     ]
    }
   ],
   "cell_type": "code",
   "source": [
    "polarizability = ForwardDiff.derivative(compute_dipole, 0.0)\n",
    "println()\n",
    "println(\"Polarizability via ForwardDiff:       $polarizability\")\n",
    "println(\"Polarizability via finite difference: $polarizability_fd\")"
   ],
   "metadata": {},
   "execution_count": 3
  }
 ],
 "nbformat_minor": 3,
 "metadata": {
  "language_info": {
   "file_extension": ".jl",
   "mimetype": "application/julia",
   "name": "julia",
   "version": "1.9.0"
  },
  "kernelspec": {
   "name": "julia-1.9",
   "display_name": "Julia 1.9.0",
   "language": "julia"
  }
 },
 "nbformat": 4
}
