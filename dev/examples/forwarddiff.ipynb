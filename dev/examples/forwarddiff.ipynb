{
 "cells": [
  {
   "cell_type": "markdown",
   "source": [
    "# Polarizability using automatic differentiation\n",
    "\n",
    "Simple example for computing properties using (forward-mode)\n",
    "automatic differentiation.\n",
    "For a more classical approach and more details about computing polarizabilities,\n",
    "see Polarizability by linear response."
   ],
   "metadata": {}
  },
  {
   "outputs": [],
   "cell_type": "code",
   "source": [
    "using DFTK\n",
    "using LinearAlgebra\n",
    "using ForwardDiff\n",
    "\n",
    "# Construct PlaneWaveBasis given a particular electric field strength\n",
    "# Again we take the example of a Helium atom.\n",
    "function make_basis(ε::T; a=10., Ecut=30) where {T}\n",
    "    lattice=T(a) * I(3)  # lattice is a cube of $a$ Bohrs\n",
    "    # Helium at the center of the box\n",
    "    atoms     = [ElementPsp(:He, psp=load_psp(\"hgh/lda/He-q2\"))]\n",
    "    positions = [[1/2, 1/2, 1/2]]\n",
    "\n",
    "    model = model_DFT(lattice, atoms, positions, [:lda_x, :lda_c_vwn];\n",
    "                      extra_terms=[ExternalFromReal(r -> -ε * (r[1] - a/2))],\n",
    "                      symmetries=false)\n",
    "    PlaneWaveBasis(model; Ecut, kgrid=[1, 1, 1])  # No k-point sampling on isolated system\n",
    "end\n",
    "\n",
    "# dipole moment of a given density (assuming the current geometry)\n",
    "function dipole(basis, ρ)\n",
    "    @assert isdiag(basis.model.lattice)\n",
    "    a  = basis.model.lattice[1, 1]\n",
    "    rr = [a * (r[1] - 1/2) for r in r_vectors(basis)]\n",
    "    sum(rr .* ρ) * basis.dvol\n",
    "end\n",
    "\n",
    "# Function to compute the dipole for a given field strength\n",
    "function compute_dipole(ε; tol=1e-8, kwargs...)\n",
    "    scfres = self_consistent_field(make_basis(ε; kwargs...); tol)\n",
    "    dipole(scfres.basis, scfres.ρ)\n",
    "end;"
   ],
   "metadata": {},
   "execution_count": 1
  },
  {
   "cell_type": "markdown",
   "source": [
    "With this in place we can compute the polarizability from finite differences\n",
    "(just like in the previous example):"
   ],
   "metadata": {}
  },
  {
   "outputs": [
    {
     "name": "stdout",
     "output_type": "stream",
     "text": [
      "n     Energy            log10(ΔE)   log10(Δρ)   Diag   Δtime\n",
      "---   ---------------   ---------   ---------   ----   ------\n",
      "  1   -2.770528798123                   -0.53    9.0         \n",
      "  2   -2.772138938518       -2.79       -1.29    1.0    200ms\n",
      "  3   -2.772170231934       -4.50       -2.69    1.0    159ms\n",
      "  4   -2.772170721496       -6.31       -3.97    2.0    224ms\n",
      "  5   -2.772170722958       -8.83       -4.74    1.0    211ms\n",
      "  6   -2.772170723011      -10.28       -5.51    1.0    166ms\n",
      "  7   -2.772170723015      -11.43       -5.85    2.0    218ms\n",
      "  8   -2.772170723015      -12.65       -7.01    1.0    174ms\n",
      "  9   -2.772170723015      -14.65       -7.20    2.0    203ms\n",
      " 10   -2.772170723015   +  -14.03       -7.29    1.0    199ms\n",
      " 11   -2.772170723015      -14.40       -8.16    1.0    184ms\n",
      "n     Energy            log10(ΔE)   log10(Δρ)   Diag   Δtime\n",
      "---   ---------------   ---------   ---------   ----   ------\n",
      "  1   -2.770593581529                   -0.53    9.0         \n",
      "  2   -2.772047404550       -2.84       -1.30    1.0    191ms\n",
      "  3   -2.772082516114       -4.45       -2.67    1.0    158ms\n",
      "  4   -2.772083407942       -6.05       -3.56    2.0    180ms\n",
      "  5   -2.772083414547       -8.18       -3.80    2.0    219ms\n",
      "  6   -2.772083417742       -8.50       -5.00    1.0    164ms\n",
      "  7   -2.772083417809      -10.18       -5.38    2.0    210ms\n",
      "  8   -2.772083417811      -11.72       -6.06    1.0    171ms\n",
      "  9   -2.772083417811      -13.08       -6.41    1.0    183ms\n",
      " 10   -2.772083417811      -13.59       -7.14    2.0    206ms\n",
      " 11   -2.772083417811      -14.35       -7.68    1.0    186ms\n",
      " 12   -2.772083417811      -13.80       -8.73    1.0    189ms\n"
     ]
    },
    {
     "output_type": "execute_result",
     "data": {
      "text/plain": "1.7735579952481817"
     },
     "metadata": {},
     "execution_count": 2
    }
   ],
   "cell_type": "code",
   "source": [
    "polarizability_fd = let\n",
    "    ε = 0.01\n",
    "    (compute_dipole(ε) - compute_dipole(0.0)) / ε\n",
    "end"
   ],
   "metadata": {},
   "execution_count": 2
  },
  {
   "cell_type": "markdown",
   "source": [
    "We do the same thing using automatic differentiation. Under the hood this uses\n",
    "custom rules to implicitly differentiate through the self-consistent\n",
    "field fixed-point problem."
   ],
   "metadata": {}
  },
  {
   "outputs": [
    {
     "name": "stdout",
     "output_type": "stream",
     "text": [
      "n     Energy            log10(ΔE)   log10(Δρ)   Diag   Δtime\n",
      "---   ---------------   ---------   ---------   ----   ------\n",
      "  1   -2.770720669540                   -0.53    9.0         \n",
      "  2   -2.772055739881       -2.87       -1.31    1.0    234ms\n",
      "  3   -2.772083155689       -4.56       -2.55    1.0    158ms\n",
      "  4   -2.772083385653       -6.64       -3.50    1.0    225ms\n",
      "  5   -2.772083415879       -7.52       -3.90    2.0    185ms\n",
      "  6   -2.772083417746       -8.73       -5.11    1.0    165ms\n",
      "  7   -2.772083417810      -10.20       -5.47    2.0    224ms\n",
      "  8   -2.772083417811      -11.98       -5.93    2.0    193ms\n",
      "  9   -2.772083417811   +  -14.88       -6.59    1.0    203ms\n",
      " 10   -2.772083417811   +  -14.21       -6.96    1.0    183ms\n",
      " 11   -2.772083417811      -13.74       -8.09    1.0    174ms\n",
      "\n",
      "Polarizability via ForwardDiff:       1.7725349701278148\n",
      "Polarizability via finite difference: 1.7735579952481817\n"
     ]
    }
   ],
   "cell_type": "code",
   "source": [
    "polarizability = ForwardDiff.derivative(compute_dipole, 0.0)\n",
    "println()\n",
    "println(\"Polarizability via ForwardDiff:       $polarizability\")\n",
    "println(\"Polarizability via finite difference: $polarizability_fd\")"
   ],
   "metadata": {},
   "execution_count": 3
  }
 ],
 "nbformat_minor": 3,
 "metadata": {
  "language_info": {
   "file_extension": ".jl",
   "mimetype": "application/julia",
   "name": "julia",
   "version": "1.9.2"
  },
  "kernelspec": {
   "name": "julia-1.9",
   "display_name": "Julia 1.9.2",
   "language": "julia"
  }
 },
 "nbformat": 4
}
