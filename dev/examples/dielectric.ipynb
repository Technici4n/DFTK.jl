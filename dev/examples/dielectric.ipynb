{
 "cells": [
  {
   "cell_type": "markdown",
   "source": [
    "# Eigenvalues of the dielectric matrix\n",
    "\n",
    "We compute a few eigenvalues of the dielectric matrix ($q=0$, $ω=0$) iteratively."
   ],
   "metadata": {}
  },
  {
   "outputs": [
    {
     "name": "stdout",
     "output_type": "stream",
     "text": [
      "n     Energy            log10(ΔE)   log10(Δρ)   Diag   Δtime\n",
      "---   ---------------   ---------   ---------   ----   ------\n",
      "  1   -7.234065243281                   -0.50    7.0         \n",
      "  2   -7.249443536050       -1.81       -1.39    1.0   8.23ms\n",
      "  3   -7.250941683952       -2.82       -1.74    3.0   10.9ms\n",
      "  4   -7.251162234852       -3.66       -1.97    1.0   9.00ms\n",
      "  5   -7.251299512562       -3.86       -2.38    1.0   10.1ms\n",
      "  6   -7.251336690203       -4.43       -2.93    2.0   11.4ms\n",
      "  7   -7.251338505314       -5.74       -3.26    2.0   11.5ms\n",
      "  8   -7.251338724255       -6.66       -3.74    1.0   8.69ms\n",
      "  9   -7.251338789849       -7.18       -4.08    2.0   10.9ms\n",
      " 10   -7.251338797459       -8.12       -4.81    1.0   9.33ms\n",
      " 11   -7.251338798674       -8.92       -5.21    3.0   14.3ms\n",
      " 12   -7.251338798695      -10.67       -5.56    1.0   10.3ms\n",
      " 13   -7.251338798703      -11.09       -5.97    2.0   11.4ms\n",
      " 14   -7.251338798704      -11.87       -6.76    1.0   9.40ms\n",
      " 15   -7.251338798705      -12.72       -7.00    3.0   12.5ms\n",
      " 16   -7.251338798705      -14.57       -7.50    1.0   53.6ms\n",
      " 17   -7.251338798705      -14.57       -8.23    2.0   9.33ms\n"
     ]
    }
   ],
   "cell_type": "code",
   "source": [
    "using DFTK\n",
    "using Plots\n",
    "using KrylovKit\n",
    "using Printf\n",
    "\n",
    "# Calculation parameters\n",
    "kgrid = [1, 1, 1]\n",
    "Ecut = 5\n",
    "\n",
    "# Silicon lattice\n",
    "a = 10.26\n",
    "lattice = a / 2 .* [[0 1 1.]; [1 0 1.]; [1 1 0.]]\n",
    "Si = ElementPsp(:Si, psp=load_psp(\"hgh/lda/Si-q4\"))\n",
    "atoms     = [Si, Si]\n",
    "positions = [ones(3)/8, -ones(3)/8]\n",
    "\n",
    "# Compute the dielectric operator without symmetries\n",
    "model  = model_LDA(lattice, atoms, positions, symmetries=false)\n",
    "basis  = PlaneWaveBasis(model; Ecut, kgrid)\n",
    "scfres = self_consistent_field(basis, tol=1e-8);"
   ],
   "metadata": {},
   "execution_count": 1
  },
  {
   "cell_type": "markdown",
   "source": [
    "Applying $ε^† ≔ (1- χ_0 K)$ …"
   ],
   "metadata": {}
  },
  {
   "outputs": [],
   "cell_type": "code",
   "source": [
    "function eps_fun(δρ)\n",
    "    δV = apply_kernel(basis, δρ; ρ=scfres.ρ)\n",
    "    χ0δV = apply_χ0(scfres, δV)\n",
    "    δρ - χ0δV\n",
    "end;"
   ],
   "metadata": {},
   "execution_count": 2
  },
  {
   "cell_type": "markdown",
   "source": [
    "… eagerly diagonalizes the subspace matrix at each iteration"
   ],
   "metadata": {}
  },
  {
   "outputs": [
    {
     "name": "stdout",
     "output_type": "stream",
     "text": [
      "[ Info: Arnoldi iteration step 1: normres = 0.044800525796875\n",
      "[ Info: Arnoldi iteration step 2: normres = 0.3272831257206461\n",
      "[ Info: Arnoldi iteration step 3: normres = 0.3462974479457861\n",
      "[ Info: Arnoldi iteration step 4: normres = 0.7872913542433054\n",
      "[ Info: Arnoldi iteration step 5: normres = 0.8258817411162449\n",
      "[ Info: Arnoldi schursolve in iter 1, krylovdim = 5: 0 values converged, normres = (5.22e-01, 1.03e-01, 5.58e-01, 2.96e-01, 2.84e-02)\n",
      "[ Info: Arnoldi iteration step 6: normres = 0.24199997620542768\n",
      "[ Info: Arnoldi schursolve in iter 1, krylovdim = 6: 0 values converged, normres = (1.31e-01, 1.05e-01, 1.33e-01, 9.25e-02, 4.37e-02)\n",
      "[ Info: Arnoldi iteration step 7: normres = 0.09435378210200342\n",
      "[ Info: Arnoldi schursolve in iter 1, krylovdim = 7: 0 values converged, normres = (5.96e-03, 9.11e-03, 1.06e-02, 5.86e-02, 6.44e-02)\n",
      "[ Info: Arnoldi iteration step 8: normres = 0.13393619143177027\n",
      "[ Info: Arnoldi schursolve in iter 1, krylovdim = 8: 0 values converged, normres = (3.51e-04, 8.93e-04, 1.16e-03, 2.93e-02, 5.54e-02)\n",
      "[ Info: Arnoldi iteration step 9: normres = 0.05695954157199602\n",
      "[ Info: Arnoldi schursolve in iter 1, krylovdim = 9: 0 values converged, normres = (8.55e-06, 3.57e-05, 5.15e-05, 5.48e-03, 1.86e-02)\n",
      "[ Info: Arnoldi iteration step 10: normres = 0.0905903288707021\n",
      "[ Info: Arnoldi schursolve in iter 1, krylovdim = 10: 0 values converged, normres = (3.35e-07, 2.30e-06, 3.69e-06, 1.62e-03, 1.13e-02)\n",
      "[ Info: Arnoldi iteration step 11: normres = 0.08015903157063993\n",
      "[ Info: Arnoldi schursolve in iter 1, krylovdim = 11: 0 values converged, normres = (1.15e-08, 1.29e-07, 2.29e-07, 4.00e-04, 5.68e-03)\n",
      "[ Info: Arnoldi iteration step 12: normres = 0.07632337881808836\n",
      "[ Info: Arnoldi schursolve in iter 1, krylovdim = 12: 0 values converged, normres = (3.80e-10, 7.03e-09, 1.39e-08, 1.02e-04, 3.24e-03)\n",
      "[ Info: Arnoldi iteration step 13: normres = 0.0494651947372139\n",
      "[ Info: Arnoldi schursolve in iter 1, krylovdim = 13: 0 values converged, normres = (8.01e-12, 2.42e-10, 5.30e-10, 1.53e-05, 1.02e-03)\n",
      "[ Info: Arnoldi iteration step 14: normres = 0.7243620774382924\n",
      "[ Info: Arnoldi schursolve in iter 1, krylovdim = 14: 0 values converged, normres = (3.66e-12, 2.58e-10, 7.11e-10, 7.08e-01, 1.20e-02)\n",
      "[ Info: Arnoldi iteration step 15: normres = 0.05482392211842061\n",
      "[ Info: Arnoldi schursolve in iter 1, krylovdim = 15: 1 values converged, normres = (1.26e-13, 4.66e-11, 3.53e-02, 1.71e-03, 1.70e-05)\n",
      "[ Info: Arnoldi iteration step 16: normres = 0.7001107236038236\n",
      "[ Info: Arnoldi schursolve in iter 1, krylovdim = 16: 1 values converged, normres = (6.08e-14, 6.26e-11, 5.97e-02, 2.08e-03, 6.96e-01)\n",
      "[ Info: Arnoldi iteration step 17: normres = 0.04335528009633894\n",
      "[ Info: Arnoldi schursolve in iter 1, krylovdim = 17: 1 values converged, normres = (1.73e-15, 2.05e-09, 2.48e-02, 5.54e-03, 1.10e-03)\n",
      "[ Info: Arnoldi iteration step 18: normres = 0.018936149224991213\n",
      "[ Info: Arnoldi schursolve in iter 1, krylovdim = 18: 1 values converged, normres = (1.36e-17, 2.70e-04, 1.52e-04, 1.79e-08, 7.92e-05)\n",
      "[ Info: Arnoldi iteration step 19: normres = 0.07134751341975896\n",
      "[ Info: Arnoldi schursolve in iter 1, krylovdim = 19: 1 values converged, normres = (4.00e-19, 5.94e-09, 1.46e-05, 1.57e-06, 3.80e-06)\n",
      "[ Info: Arnoldi iteration step 20: normres = 0.17001402239016794\n",
      "[ Info: Arnoldi schursolve in iter 1, krylovdim = 20: 1 values converged, normres = (3.28e-20, 1.00e-06, 1.88e-06, 9.95e-08, 6.74e-07)\n",
      "[ Info: Arnoldi iteration step 21: normres = 0.02978422260406389\n",
      "[ Info: Arnoldi schursolve in iter 1, krylovdim = 21: 1 values converged, normres = (4.21e-22, 6.59e-09, 4.47e-08, 3.21e-09, 1.57e-08)\n",
      "[ Info: Arnoldi iteration step 22: normres = 0.01954798800056761\n",
      "[ Info: Arnoldi schursolve in iter 1, krylovdim = 22: 1 values converged, normres = (3.38e-24, 3.56e-11, 5.78e-10, 5.29e-11, 2.20e-10)\n",
      "[ Info: Arnoldi iteration step 23: normres = 0.7117910046881971\n",
      "[ Info: Arnoldi schursolve in iter 1, krylovdim = 23: 1 values converged, normres = (1.31e-24, 2.86e-11, 4.43e-10, 4.71e-11, 1.99e-10)\n",
      "[ Info: Arnoldi iteration step 24: normres = 0.021032987814783445\n",
      "[ Info: Arnoldi schursolve in iter 1, krylovdim = 24: 1 values converged, normres = (1.98e-26, 2.55e-12, 4.02e-11, 1.15e-09, 4.77e-09)\n",
      "[ Info: Arnoldi iteration step 25: normres = 0.03274183539033872\n",
      "[ Info: Arnoldi schursolve in iter 1, krylovdim = 25: 3 values converged, normres = (2.66e-28, 5.46e-14, 8.63e-13, 5.16e-09, 2.26e-08)\n",
      "[ Info: Arnoldi iteration step 26: normres = 0.09412940787214562\n",
      "[ Info: Arnoldi schursolve in iter 1, krylovdim = 26: 3 values converged, normres = (1.12e-29, 3.88e-15, 6.13e-14, 1.15e-08, 3.72e-08)\n",
      "[ Info: Arnoldi iteration step 27: normres = 0.031652003242720654\n",
      "[ Info: Arnoldi schursolve in iter 1, krylovdim = 27: 3 values converged, normres = (1.48e-31, 8.24e-17, 1.30e-15, 3.50e-07, 5.18e-07)\n",
      "[ Info: Arnoldi iteration step 28: normres = 0.09181623890107314\n",
      "[ Info: Arnoldi schursolve in iter 1, krylovdim = 28: 3 values converged, normres = (5.93e-33, 5.47e-18, 8.63e-17, 1.28e-08, 2.72e-08)\n",
      "[ Info: Arnoldi iteration step 29: normres = 0.09359802154039949\n",
      "[ Info: Arnoldi schursolve in iter 1, krylovdim = 29: 3 values converged, normres = (2.35e-34, 3.53e-19, 5.57e-18, 2.16e-10, 3.56e-09)\n",
      "[ Info: Arnoldi iteration step 30: normres = 0.06241097099747053\n",
      "[ Info: Arnoldi schursolve in iter 1, krylovdim = 30: 3 values converged, normres = (7.25e-36, 1.96e-20, 3.10e-19, 1.44e-11, 2.22e-10)\n",
      "[ Info: Arnoldi schursolve in iter 2, krylovdim = 19: 3 values converged, normres = (7.32e-36, 1.96e-20, 3.10e-19, 1.44e-11, 2.22e-10)\n",
      "[ Info: Arnoldi iteration step 20: normres = 0.023051781351984473\n",
      "[ Info: Arnoldi schursolve in iter 2, krylovdim = 20: 4 values converged, normres = (6.91e-38, 2.99e-22, 4.72e-21, 2.46e-13, 3.74e-12)\n",
      "[ Info: Arnoldi iteration step 21: normres = 0.07411195422156121\n",
      "┌ Info: Arnoldi eigsolve finished after 2 iterations:\n",
      "│ *  6 eigenvalues converged\n",
      "│ *  norm of residuals = (2.154547848243699e-39, 1.5090003302168016e-23, 2.3770765156591956e-22, 1.3707708389784286e-14, 2.0884363482761835e-13, 2.604442483580827e-14)\n",
      "└ *  number of operations = 32\n"
     ]
    }
   ],
   "cell_type": "code",
   "source": [
    "eigsolve(eps_fun, randn(size(scfres.ρ)), 5, :LM; eager=true, verbosity=3);"
   ],
   "metadata": {},
   "execution_count": 3
  }
 ],
 "nbformat_minor": 3,
 "metadata": {
  "language_info": {
   "file_extension": ".jl",
   "mimetype": "application/julia",
   "name": "julia",
   "version": "1.8.5"
  },
  "kernelspec": {
   "name": "julia-1.8",
   "display_name": "Julia 1.8.5",
   "language": "julia"
  }
 },
 "nbformat": 4
}
