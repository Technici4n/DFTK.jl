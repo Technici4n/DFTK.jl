{
 "cells": [
  {
   "cell_type": "markdown",
   "source": [
    "# Eigenvalues of the dielectric matrix\n",
    "\n",
    "We compute a few eigenvalues of the dielectric matrix ($q=0$, $ω=0$) iteratively."
   ],
   "metadata": {}
  },
  {
   "outputs": [
    {
     "name": "stdout",
     "output_type": "stream",
     "text": [
      "n     Energy            log10(ΔE)   log10(Δρ)   Diag   Δtime\n",
      "---   ---------------   ---------   ---------   ----   ------\n",
      "  1   -7.234269534680                   -0.50    8.0         \n",
      "  2   -7.250226957832       -1.80       -1.41    1.0   7.91ms\n",
      "  3   -7.251152838889       -3.03       -2.25    1.0   7.71ms\n",
      "  4   -7.251318223011       -3.78       -2.36    3.0   10.9ms\n",
      "  5   -7.251334667834       -4.78       -2.74    1.0   7.86ms\n",
      "  6   -7.251337296518       -5.58       -3.07    1.0   7.80ms\n",
      "  7   -7.251338716657       -5.85       -3.64    1.0   8.10ms\n",
      "  8   -7.251338787055       -7.15       -3.97    2.0   9.65ms\n",
      "  9   -7.251338796907       -8.01       -4.45    1.0   8.29ms\n",
      " 10   -7.251338798499       -8.80       -4.93    3.0   11.1ms\n",
      " 11   -7.251338798692       -9.72       -5.44    2.0   10.0ms\n",
      " 12   -7.251338798703      -10.95       -5.97    1.0   8.44ms\n",
      " 13   -7.251338798704      -11.91       -6.40    2.0   10.4ms\n",
      " 14   -7.251338798704      -12.89       -6.78    1.0   8.54ms\n",
      " 15   -7.251338798705      -13.42       -7.34    2.0   10.5ms\n",
      " 16   -7.251338798705      -15.05       -7.86    2.0   10.2ms\n",
      " 17   -7.251338798705   +    -Inf       -8.22    2.0   10.3ms\n"
     ]
    }
   ],
   "cell_type": "code",
   "source": [
    "using DFTK\n",
    "using Plots\n",
    "using KrylovKit\n",
    "using Printf\n",
    "\n",
    "# Calculation parameters\n",
    "kgrid = [1, 1, 1]\n",
    "Ecut = 5\n",
    "\n",
    "# Silicon lattice\n",
    "a = 10.26\n",
    "lattice = a / 2 .* [[0 1 1.]; [1 0 1.]; [1 1 0.]]\n",
    "Si = ElementPsp(:Si, psp=load_psp(\"hgh/lda/Si-q4\"))\n",
    "atoms     = [Si, Si]\n",
    "positions = [ones(3)/8, -ones(3)/8]\n",
    "\n",
    "# Compute the dielectric operator without symmetries\n",
    "model  = model_LDA(lattice, atoms, positions, symmetries=false)\n",
    "basis  = PlaneWaveBasis(model; Ecut, kgrid)\n",
    "scfres = self_consistent_field(basis, tol=1e-8);"
   ],
   "metadata": {},
   "execution_count": 1
  },
  {
   "cell_type": "markdown",
   "source": [
    "Applying $ε^† ≔ (1- χ_0 K)$ …"
   ],
   "metadata": {}
  },
  {
   "outputs": [],
   "cell_type": "code",
   "source": [
    "function eps_fun(δρ)\n",
    "    δV = apply_kernel(basis, δρ; ρ=scfres.ρ)\n",
    "    χ0δV = apply_χ0(scfres, δV)\n",
    "    δρ - χ0δV\n",
    "end;"
   ],
   "metadata": {},
   "execution_count": 2
  },
  {
   "cell_type": "markdown",
   "source": [
    "… eagerly diagonalizes the subspace matrix at each iteration"
   ],
   "metadata": {}
  },
  {
   "outputs": [
    {
     "name": "stdout",
     "output_type": "stream",
     "text": [
      "[ Info: Arnoldi iteration step 1: normres = 0.03273661113139435\n",
      "[ Info: Arnoldi iteration step 2: normres = 0.6738593409539334\n",
      "[ Info: Arnoldi iteration step 3: normres = 0.7567370577686792\n",
      "[ Info: Arnoldi iteration step 4: normres = 0.48318389417575575\n",
      "[ Info: Arnoldi iteration step 5: normres = 0.32142225175456485\n",
      "[ Info: Arnoldi schursolve in iter 1, krylovdim = 5: 0 values converged, normres = (5.38e-02, 7.83e-02, 1.80e-01, 2.41e-01, 6.46e-02)\n",
      "[ Info: Arnoldi iteration step 6: normres = 0.39924077217098997\n",
      "[ Info: Arnoldi schursolve in iter 1, krylovdim = 6: 0 values converged, normres = (1.82e-02, 1.30e-01, 3.66e-01, 6.73e-02, 3.20e-02)\n",
      "[ Info: Arnoldi iteration step 7: normres = 0.09478745462826177\n",
      "[ Info: Arnoldi schursolve in iter 1, krylovdim = 7: 0 values converged, normres = (9.21e-04, 2.12e-02, 2.57e-02, 3.05e-02, 7.62e-02)\n",
      "[ Info: Arnoldi iteration step 8: normres = 0.13174209783528354\n",
      "[ Info: Arnoldi schursolve in iter 1, krylovdim = 8: 0 values converged, normres = (5.21e-05, 1.96e-03, 2.65e-03, 1.26e-02, 5.57e-02)\n",
      "[ Info: Arnoldi iteration step 9: normres = 0.04390551303301819\n",
      "[ Info: Arnoldi schursolve in iter 1, krylovdim = 9: 0 values converged, normres = (9.96e-07, 6.21e-05, 9.35e-05, 2.12e-03, 1.92e-02)\n",
      "[ Info: Arnoldi iteration step 10: normres = 0.07302252014193093\n",
      "[ Info: Arnoldi schursolve in iter 1, krylovdim = 10: 0 values converged, normres = (3.08e-08, 3.12e-06, 5.20e-06, 4.35e-04, 6.80e-03)\n",
      "[ Info: Arnoldi iteration step 11: normres = 0.10186926990525466\n",
      "[ Info: Arnoldi schursolve in iter 1, krylovdim = 11: 0 values converged, normres = (1.37e-09, 2.31e-07, 4.29e-07, 1.60e-04, 5.58e-03)\n",
      "[ Info: Arnoldi iteration step 12: normres = 0.042295745768241536\n",
      "[ Info: Arnoldi schursolve in iter 1, krylovdim = 12: 0 values converged, normres = (2.47e-11, 6.75e-09, 1.39e-08, 2.03e-05, 1.66e-03)\n",
      "[ Info: Arnoldi iteration step 13: normres = 0.10227608086540593\n",
      "[ Info: Arnoldi schursolve in iter 1, krylovdim = 13: 0 values converged, normres = (1.09e-12, 4.89e-10, 1.11e-09, 6.50e-06, 1.03e-03)\n",
      "[ Info: Arnoldi iteration step 14: normres = 0.753297964882005\n",
      "[ Info: Arnoldi schursolve in iter 1, krylovdim = 14: 1 values converged, normres = (5.05e-13, 5.18e-10, 1.47e-09, 7.38e-01, 1.85e-02)\n",
      "[ Info: Arnoldi iteration step 15: normres = 0.09891090324297498\n",
      "[ Info: Arnoldi schursolve in iter 1, krylovdim = 15: 1 values converged, normres = (3.54e-14, 5.61e-10, 6.80e-02, 1.25e-04, 1.54e-05)\n",
      "[ Info: Arnoldi iteration step 16: normres = 0.4315189754092557\n",
      "[ Info: Arnoldi schursolve in iter 1, krylovdim = 16: 1 values converged, normres = (1.32e-14, 2.00e-09, 1.18e-01, 1.48e-03, 4.13e-01)\n",
      "[ Info: Arnoldi iteration step 17: normres = 0.03438597866202619\n",
      "[ Info: Arnoldi schursolve in iter 1, krylovdim = 17: 1 values converged, normres = (2.17e-16, 2.50e-08, 5.70e-03, 4.37e-03, 8.51e-03)\n",
      "[ Info: Arnoldi iteration step 18: normres = 0.021260913239059195\n",
      "[ Info: Arnoldi schursolve in iter 1, krylovdim = 18: 1 values converged, normres = (1.91e-18, 1.62e-08, 8.05e-05, 1.48e-04, 1.83e-05)\n",
      "[ Info: Arnoldi iteration step 19: normres = 0.12810861264903797\n",
      "[ Info: Arnoldi schursolve in iter 1, krylovdim = 19: 1 values converged, normres = (1.02e-19, 4.98e-06, 4.80e-06, 3.34e-08, 1.41e-05)\n",
      "[ Info: Arnoldi iteration step 20: normres = 0.0779740567233076\n",
      "[ Info: Arnoldi schursolve in iter 1, krylovdim = 20: 1 values converged, normres = (3.90e-21, 1.79e-08, 4.77e-07, 3.19e-07, 1.07e-06)\n",
      "[ Info: Arnoldi iteration step 21: normres = 0.03152766299921297\n",
      "[ Info: Arnoldi schursolve in iter 1, krylovdim = 21: 1 values converged, normres = (5.15e-23, 2.15e-09, 9.94e-09, 2.13e-09, 2.61e-08)\n",
      "[ Info: Arnoldi iteration step 22: normres = 0.03229084521575983\n",
      "[ Info: Arnoldi schursolve in iter 1, krylovdim = 22: 1 values converged, normres = (6.87e-25, 4.84e-11, 2.11e-10, 2.96e-10, 5.38e-10)\n",
      "[ Info: Arnoldi iteration step 23: normres = 0.6147087925950391\n",
      "[ Info: Arnoldi schursolve in iter 1, krylovdim = 23: 1 values converged, normres = (3.16e-25, 6.89e-11, 3.03e-10, 6.49e-10, 1.13e-09)\n",
      "[ Info: Arnoldi iteration step 24: normres = 0.015840510850163036\n",
      "[ Info: Arnoldi schursolve in iter 1, krylovdim = 24: 1 values converged, normres = (2.61e-27, 2.18e-12, 9.55e-12, 6.69e-09, 4.49e-09)\n",
      "[ Info: Arnoldi iteration step 25: normres = 0.018542333261501277\n",
      "[ Info: Arnoldi schursolve in iter 1, krylovdim = 25: 3 values converged, normres = (1.99e-29, 2.65e-14, 1.16e-13, 8.15e-05, 4.23e-05)\n",
      "[ Info: Arnoldi iteration step 26: normres = 0.1254922444805324\n",
      "[ Info: Arnoldi schursolve in iter 1, krylovdim = 26: 3 values converged, normres = (1.08e-30, 2.36e-15, 1.03e-14, 9.32e-09, 1.36e-08)\n",
      "[ Info: Arnoldi iteration step 27: normres = 0.031220885892042444\n",
      "[ Info: Arnoldi schursolve in iter 1, krylovdim = 27: 3 values converged, normres = (1.45e-32, 5.24e-17, 2.29e-16, 2.29e-07, 2.45e-08)\n",
      "[ Info: Arnoldi iteration step 28: normres = 0.1039880082278144\n",
      "[ Info: Arnoldi schursolve in iter 1, krylovdim = 28: 3 values converged, normres = (6.51e-34, 3.86e-18, 1.69e-17, 5.02e-09, 8.12e-09)\n",
      "[ Info: Arnoldi iteration step 29: normres = 0.04021016137671944\n",
      "[ Info: Arnoldi schursolve in iter 1, krylovdim = 29: 3 values converged, normres = (1.12e-35, 1.08e-19, 4.73e-19, 4.77e-10, 3.69e-10)\n",
      "[ Info: Arnoldi iteration step 30: normres = 0.1451530944661535\n",
      "[ Info: Arnoldi schursolve in iter 1, krylovdim = 30: 3 values converged, normres = (7.88e-37, 1.37e-20, 5.97e-20, 6.91e-11, 5.20e-11)\n",
      "[ Info: Arnoldi schursolve in iter 2, krylovdim = 19: 3 values converged, normres = (7.88e-37, 1.37e-20, 5.97e-20, 6.91e-11, 5.20e-11)\n",
      "[ Info: Arnoldi iteration step 20: normres = 0.020500573474386257\n",
      "[ Info: Arnoldi schursolve in iter 2, krylovdim = 20: 3 values converged, normres = (6.81e-39, 1.92e-22, 8.40e-22, 1.08e-12, 8.15e-13)\n",
      "[ Info: Arnoldi iteration step 21: normres = 0.040065213865634136\n",
      "┌ Info: Arnoldi eigsolve finished after 2 iterations:\n",
      "│ *  6 eigenvalues converged\n",
      "│ *  norm of residuals = (1.1231306239642005e-40, 5.0532837013387866e-24, 2.2599689456471672e-23, 3.117613668111639e-14, 3.177305729982208e-14, 2.054150669315148e-14)\n",
      "└ *  number of operations = 32\n"
     ]
    }
   ],
   "cell_type": "code",
   "source": [
    "eigsolve(eps_fun, randn(size(scfres.ρ)), 5, :LM; eager=true, verbosity=3);"
   ],
   "metadata": {},
   "execution_count": 3
  }
 ],
 "nbformat_minor": 3,
 "metadata": {
  "language_info": {
   "file_extension": ".jl",
   "mimetype": "application/julia",
   "name": "julia",
   "version": "1.9.3"
  },
  "kernelspec": {
   "name": "julia-1.9",
   "display_name": "Julia 1.9.3",
   "language": "julia"
  }
 },
 "nbformat": 4
}
