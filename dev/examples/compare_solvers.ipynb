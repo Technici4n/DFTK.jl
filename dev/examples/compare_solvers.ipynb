{
 "cells": [
  {
   "cell_type": "markdown",
   "source": [
    "# Comparison of DFT solvers"
   ],
   "metadata": {}
  },
  {
   "cell_type": "markdown",
   "source": [
    "We compare four different approaches for solving the DFT minimisation problem,\n",
    "namely a density-based SCF, a potential-based SCF, direct minimisation and Newton."
   ],
   "metadata": {}
  },
  {
   "cell_type": "markdown",
   "source": [
    "First we setup our problem"
   ],
   "metadata": {}
  },
  {
   "outputs": [
    {
     "output_type": "execute_result",
     "data": {
      "text/plain": "1.0e-6"
     },
     "metadata": {},
     "execution_count": 1
    }
   ],
   "cell_type": "code",
   "source": [
    "using DFTK\n",
    "using LinearAlgebra\n",
    "\n",
    "a = 10.26  # Silicon lattice constant in Bohr\n",
    "lattice = a / 2 * [[0 1 1.];\n",
    "                   [1 0 1.];\n",
    "                   [1 1 0.]]\n",
    "Si = ElementPsp(:Si, psp=load_psp(\"hgh/lda/Si-q4\"))\n",
    "atoms     = [Si, Si]\n",
    "positions = [ones(3)/8, -ones(3)/8]\n",
    "\n",
    "model = model_LDA(lattice, atoms, positions)\n",
    "basis = PlaneWaveBasis(model; Ecut=5, kgrid=[3, 3, 3])\n",
    "\n",
    "# Convergence we desire in the density\n",
    "tol = 1e-6"
   ],
   "metadata": {},
   "execution_count": 1
  },
  {
   "cell_type": "markdown",
   "source": [
    "## Density-based self-consistent field"
   ],
   "metadata": {}
  },
  {
   "outputs": [
    {
     "name": "stdout",
     "output_type": "stream",
     "text": [
      "n     Energy            log10(ΔE)   log10(Δρ)   Diag   Δtime\n",
      "---   ---------------   ---------   ---------   ----   ------\n",
      "  1   -7.846800067508                   -0.70    4.5         \n",
      "  2   -7.852296431475       -2.26       -1.53    1.0   33.0ms\n",
      "  3   -7.852614098608       -3.50       -2.56    1.8   35.3ms\n",
      "  4   -7.852645789342       -4.50       -2.87    2.5   40.9ms\n",
      "  5   -7.852646462763       -6.17       -3.16    1.0   31.6ms\n",
      "  6   -7.852646677810       -6.67       -4.30    1.2   32.4ms\n",
      "  7   -7.852646686661       -8.05       -5.05    2.5   42.3ms\n",
      "  8   -7.852646686723      -10.21       -5.34    1.5   37.9ms\n",
      "  9   -7.852646686729      -11.24       -5.84    1.0   30.3ms\n",
      " 10   -7.852646686730      -12.13       -6.23    1.5   32.7ms\n"
     ]
    }
   ],
   "cell_type": "code",
   "source": [
    "scfres_scf = self_consistent_field(basis; tol);"
   ],
   "metadata": {},
   "execution_count": 2
  },
  {
   "cell_type": "markdown",
   "source": [
    "## Potential-based SCF"
   ],
   "metadata": {}
  },
  {
   "outputs": [
    {
     "name": "stdout",
     "output_type": "stream",
     "text": [
      "n     Energy            log10(ΔE)   log10(Δρ)   α      Diag   Δtime\n",
      "---   ---------------   ---------   ---------   ----   ----   ------\n",
      "  1   -7.846835133184                   -0.70           5.0         \n",
      "  2   -7.852526363271       -2.24       -1.63   0.80    2.0    321ms\n",
      "  3   -7.852636815897       -3.96       -2.71   0.80    1.0   27.5ms\n",
      "  4   -7.852646472734       -5.02       -3.28   0.80    2.2   37.2ms\n",
      "  5   -7.852646667772       -6.71       -4.13   0.80    1.0   27.9ms\n",
      "  6   -7.852646686384       -7.73       -4.68   0.80    1.8   33.5ms\n",
      "  7   -7.852646686704       -9.49       -5.41   0.80    1.2   30.2ms\n",
      "  8   -7.852646686729      -10.60       -6.58   0.80    1.8   34.2ms\n"
     ]
    }
   ],
   "cell_type": "code",
   "source": [
    "scfres_scfv = DFTK.scf_potential_mixing(basis; tol);"
   ],
   "metadata": {},
   "execution_count": 3
  },
  {
   "cell_type": "markdown",
   "source": [
    "## Direct minimization\n",
    "Note: Unlike the other algorithms, tolerance for this one is in the energy,\n",
    "thus we square the density tolerance value to be roughly equivalent."
   ],
   "metadata": {}
  },
  {
   "outputs": [
    {
     "name": "stdout",
     "output_type": "stream",
     "text": [
      "Iter     Function value   Gradient norm \n",
      "     0     1.366733e+01     3.314700e+00\n",
      " * time: 0.4878859519958496\n",
      "     1     1.263723e+00     1.804067e+00\n",
      " * time: 0.7247071266174316\n",
      "     2    -1.827860e+00     2.220975e+00\n",
      " * time: 0.7536890506744385\n",
      "     3    -3.598623e+00     1.941920e+00\n",
      " * time: 0.7949259281158447\n",
      "     4    -4.970364e+00     1.771720e+00\n",
      " * time: 0.8364410400390625\n",
      "     5    -6.557245e+00     1.353857e+00\n",
      " * time: 0.8776960372924805\n",
      "     6    -7.349210e+00     7.287997e-01\n",
      " * time: 0.9183769226074219\n",
      "     7    -7.618835e+00     6.589671e-01\n",
      " * time: 0.9472310543060303\n",
      "     8    -7.722296e+00     3.189256e-01\n",
      " * time: 0.9763400554656982\n",
      "     9    -7.775083e+00     1.256551e-01\n",
      " * time: 1.0054590702056885\n",
      "    10    -7.809851e+00     9.843377e-02\n",
      " * time: 1.0340509414672852\n",
      "    11    -7.829770e+00     6.890962e-02\n",
      " * time: 1.0627870559692383\n",
      "    12    -7.842515e+00     4.768674e-02\n",
      " * time: 1.0913739204406738\n",
      "    13    -7.850250e+00     2.751567e-02\n",
      " * time: 1.1203501224517822\n",
      "    14    -7.851423e+00     1.975489e-02\n",
      " * time: 1.149601936340332\n",
      "    15    -7.851946e+00     1.497674e-02\n",
      " * time: 1.178689956665039\n",
      "    16    -7.852363e+00     9.989324e-03\n",
      " * time: 1.207489013671875\n",
      "    17    -7.852564e+00     6.458108e-03\n",
      " * time: 1.236156940460205\n",
      "    18    -7.852618e+00     3.153140e-03\n",
      " * time: 1.2648510932922363\n",
      "    19    -7.852635e+00     1.606269e-03\n",
      " * time: 1.2937109470367432\n",
      "    20    -7.852643e+00     7.364618e-04\n",
      " * time: 1.322641134262085\n",
      "    21    -7.852646e+00     6.139232e-04\n",
      " * time: 1.351891040802002\n",
      "    22    -7.852646e+00     4.340681e-04\n",
      " * time: 1.380708932876587\n",
      "    23    -7.852647e+00     2.399285e-04\n",
      " * time: 1.4093260765075684\n",
      "    24    -7.852647e+00     7.606677e-05\n",
      " * time: 1.4378859996795654\n",
      "    25    -7.852647e+00     5.100488e-05\n",
      " * time: 1.4669649600982666\n",
      "    26    -7.852647e+00     3.416776e-05\n",
      " * time: 1.496269941329956\n",
      "    27    -7.852647e+00     2.561825e-05\n",
      " * time: 1.6362390518188477\n",
      "    28    -7.852647e+00     1.696290e-05\n",
      " * time: 1.6648039817810059\n",
      "    29    -7.852647e+00     6.909060e-06\n",
      " * time: 1.693450927734375\n",
      "    30    -7.852647e+00     3.183399e-06\n",
      " * time: 1.7222740650177002\n",
      "    31    -7.852647e+00     2.219188e-06\n",
      " * time: 1.7512450218200684\n",
      "    32    -7.852647e+00     1.519213e-06\n",
      " * time: 1.7801721096038818\n",
      "    33    -7.852647e+00     8.992871e-07\n",
      " * time: 1.8095741271972656\n",
      "    34    -7.852647e+00     5.009229e-07\n",
      " * time: 1.838489055633545\n",
      "    35    -7.852647e+00     2.916469e-07\n",
      " * time: 1.8670339584350586\n",
      "    36    -7.852647e+00     1.945458e-07\n",
      " * time: 1.8960649967193604\n",
      "    37    -7.852647e+00     8.949343e-08\n",
      " * time: 1.9248239994049072\n",
      "    38    -7.852647e+00     6.257761e-08\n",
      " * time: 1.9537620544433594\n",
      "    39    -7.852647e+00     3.763151e-08\n",
      " * time: 1.9826030731201172\n",
      "    40    -7.852647e+00     1.549150e-08\n",
      " * time: 2.011431932449341\n",
      "    41    -7.852647e+00     1.549150e-08\n",
      " * time: 2.1771581172943115\n"
     ]
    }
   ],
   "cell_type": "code",
   "source": [
    "scfres_dm = direct_minimization(basis; tol=tol^2);"
   ],
   "metadata": {},
   "execution_count": 4
  },
  {
   "cell_type": "markdown",
   "source": [
    "## Newton algorithm"
   ],
   "metadata": {}
  },
  {
   "cell_type": "markdown",
   "source": [
    "Start not too far from the solution to ensure convergence:\n",
    "We run first a very crude SCF to get close and then switch to Newton."
   ],
   "metadata": {}
  },
  {
   "outputs": [
    {
     "name": "stdout",
     "output_type": "stream",
     "text": [
      "n     Energy            log10(ΔE)   log10(Δρ)   Diag   Δtime\n",
      "---   ---------------   ---------   ---------   ----   ------\n",
      "  1   -7.846813738911                   -0.70    4.5         \n"
     ]
    }
   ],
   "cell_type": "code",
   "source": [
    "scfres_start = self_consistent_field(basis; tol=0.5);"
   ],
   "metadata": {},
   "execution_count": 5
  },
  {
   "cell_type": "markdown",
   "source": [
    "Remove the virtual orbitals (which Newton cannot treat yet)"
   ],
   "metadata": {}
  },
  {
   "outputs": [
    {
     "name": "stdout",
     "output_type": "stream",
     "text": [
      "n     Energy            log10(ΔE)   log10(Δρ)   Δtime\n",
      "---   ---------------   ---------   ---------   ------\n",
      "  1   -7.852645913119                   -1.64         \n",
      "  2   -7.852646686730       -6.11       -3.71    1.94s\n",
      "  3   -7.852646686730      -13.28       -7.25    255ms\n"
     ]
    }
   ],
   "cell_type": "code",
   "source": [
    "ψ = DFTK.select_occupied_orbitals(basis, scfres_start.ψ, scfres_start.occupation).ψ\n",
    "scfres_newton = newton(basis, ψ; tol);"
   ],
   "metadata": {},
   "execution_count": 6
  },
  {
   "cell_type": "markdown",
   "source": [
    "## Comparison of results"
   ],
   "metadata": {}
  },
  {
   "outputs": [
    {
     "name": "stdout",
     "output_type": "stream",
     "text": [
      "|ρ_newton - ρ_scf|  = 4.3193862884767917e-7\n",
      "|ρ_newton - ρ_scfv| = 1.9413131601378368e-7\n",
      "|ρ_newton - ρ_dm|   = 9.308931891717643e-10\n"
     ]
    }
   ],
   "cell_type": "code",
   "source": [
    "println(\"|ρ_newton - ρ_scf|  = \", norm(scfres_newton.ρ - scfres_scf.ρ))\n",
    "println(\"|ρ_newton - ρ_scfv| = \", norm(scfres_newton.ρ - scfres_scfv.ρ))\n",
    "println(\"|ρ_newton - ρ_dm|   = \", norm(scfres_newton.ρ - scfres_dm.ρ))"
   ],
   "metadata": {},
   "execution_count": 7
  }
 ],
 "nbformat_minor": 3,
 "metadata": {
  "language_info": {
   "file_extension": ".jl",
   "mimetype": "application/julia",
   "name": "julia",
   "version": "1.8.5"
  },
  "kernelspec": {
   "name": "julia-1.8",
   "display_name": "Julia 1.8.5",
   "language": "julia"
  }
 },
 "nbformat": 4
}
