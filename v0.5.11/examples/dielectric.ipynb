{
 "cells": [
  {
   "cell_type": "markdown",
   "source": [
    "# Eigenvalues of the dielectric matrix\n",
    "\n",
    "We compute a few eigenvalues of the dielectric matrix ($q=0$, $ω=0$) iteratively."
   ],
   "metadata": {}
  },
  {
   "outputs": [
    {
     "name": "stdout",
     "output_type": "stream",
     "text": [
      "n     Energy            log10(ΔE)   log10(Δρ)   Diag\n",
      "---   ---------------   ---------   ---------   ----\n",
      "  1   -7.233603464674                   -0.50    7.0\n",
      "  2   -7.250055545646       -1.78       -1.40    1.0\n",
      "  3   -7.250754713509       -3.16       -1.75    4.0\n",
      "  4   -7.250916728470       -3.79       -1.85    2.0\n",
      "  5   -7.251334512092       -3.38       -2.79    2.0\n",
      "  6   -7.251338274984       -5.42       -3.19    3.0\n",
      "  7   -7.251338775493       -6.30       -3.95    2.0\n",
      "  8   -7.251338791960       -7.78       -4.14    4.0\n",
      "  9   -7.251338798419       -8.19       -4.77    2.0\n",
      " 10   -7.251338798655       -9.63       -5.22    3.0\n",
      " 11   -7.251338798696      -10.38       -5.64    3.0\n",
      " 12   -7.251338798704      -11.11       -6.27    3.0\n",
      " 13   -7.251338798705      -12.74       -6.77    2.0\n",
      " 14   -7.251338798705      -13.53       -7.29    3.0\n",
      " 15   -7.251338798705      -14.45       -7.81    2.0\n"
     ]
    }
   ],
   "cell_type": "code",
   "source": [
    "using DFTK\n",
    "using Plots\n",
    "using KrylovKit\n",
    "using Printf\n",
    "\n",
    "# Calculation parameters\n",
    "kgrid = [1, 1, 1]\n",
    "Ecut = 5\n",
    "\n",
    "# Silicon lattice\n",
    "a = 10.26\n",
    "lattice = a / 2 .* [[0 1 1.]; [1 0 1.]; [1 1 0.]]\n",
    "Si = ElementPsp(:Si, psp=load_psp(\"hgh/lda/Si-q4\"))\n",
    "atoms     = [Si, Si]\n",
    "positions = [ones(3)/8, -ones(3)/8]\n",
    "\n",
    "# Compute the dielectric operator without symmetries\n",
    "model = model_LDA(lattice, atoms, positions, symmetries=false)\n",
    "basis = PlaneWaveBasis(model; Ecut, kgrid)\n",
    "scfres = self_consistent_field(basis, tol=1e-14);"
   ],
   "metadata": {},
   "execution_count": 1
  },
  {
   "cell_type": "markdown",
   "source": [
    "Applying $ε^† ≔ (1- χ_0 K)$ …"
   ],
   "metadata": {}
  },
  {
   "outputs": [],
   "cell_type": "code",
   "source": [
    "function eps_fun(δρ)\n",
    "    δV = apply_kernel(basis, δρ; ρ=scfres.ρ)\n",
    "    χ0δV = apply_χ0(scfres, δV)\n",
    "    δρ - χ0δV\n",
    "end;"
   ],
   "metadata": {},
   "execution_count": 2
  },
  {
   "cell_type": "markdown",
   "source": [
    "… eagerly diagonalizes the subspace matrix at each iteration"
   ],
   "metadata": {}
  },
  {
   "outputs": [
    {
     "name": "stdout",
     "output_type": "stream",
     "text": [
      "[ Info: Arnoldi iteration step 1: normres = 0.04792449465197779\n",
      "[ Info: Arnoldi iteration step 2: normres = 0.5964530614693303\n",
      "[ Info: Arnoldi iteration step 3: normres = 0.9271443434480896\n",
      "[ Info: Arnoldi iteration step 4: normres = 0.2277484128299124\n",
      "[ Info: Arnoldi iteration step 5: normres = 0.5765231006741814\n",
      "[ Info: Arnoldi schursolve in iter 1, krylovdim = 5: 0 values converged, normres = (3.17e-02, 8.09e-02, 5.32e-01, 2.02e-01, 3.51e-02)\n",
      "[ Info: Arnoldi iteration step 6: normres = 0.22212587292552544\n",
      "[ Info: Arnoldi schursolve in iter 1, krylovdim = 6: 0 values converged, normres = (5.72e-03, 9.97e-02, 1.52e-01, 1.06e-01, 2.47e-02)\n",
      "[ Info: Arnoldi iteration step 7: normres = 0.13502370065915822\n",
      "[ Info: Arnoldi schursolve in iter 1, krylovdim = 7: 0 values converged, normres = (3.68e-04, 1.22e-02, 1.79e-02, 1.01e-01, 7.99e-02)\n",
      "[ Info: Arnoldi iteration step 8: normres = 0.11093236049358848\n",
      "[ Info: Arnoldi schursolve in iter 1, krylovdim = 8: 0 values converged, normres = (1.83e-05, 1.03e-03, 1.67e-03, 4.69e-02, 5.55e-02)\n",
      "[ Info: Arnoldi iteration step 9: normres = 0.08509310642726672\n",
      "[ Info: Arnoldi schursolve in iter 1, krylovdim = 9: 0 values converged, normres = (6.79e-07, 6.36e-05, 1.15e-04, 1.47e-02, 3.64e-02)\n",
      "[ Info: Arnoldi iteration step 10: normres = 0.10041688354544545\n",
      "[ Info: Arnoldi schursolve in iter 1, krylovdim = 10: 0 values converged, normres = (2.97e-08, 4.61e-06, 9.27e-06, 5.37e-03, 2.93e-02)\n",
      "[ Info: Arnoldi iteration step 11: normres = 0.060417030247206766\n",
      "[ Info: Arnoldi schursolve in iter 1, krylovdim = 11: 0 values converged, normres = (7.77e-10, 1.98e-07, 4.43e-07, 1.11e-03, 1.43e-02)\n",
      "[ Info: Arnoldi iteration step 12: normres = 0.09335786612868935\n",
      "[ Info: Arnoldi schursolve in iter 1, krylovdim = 12: 0 values converged, normres = (3.09e-11, 1.29e-08, 3.19e-08, 3.03e-04, 7.25e-03)\n",
      "[ Info: Arnoldi iteration step 13: normres = 0.07058342286252947\n",
      "[ Info: Arnoldi schursolve in iter 1, krylovdim = 13: 1 values converged, normres = (9.39e-13, 6.42e-10, 1.76e-09, 6.98e-05, 3.70e-03)\n",
      "[ Info: Arnoldi iteration step 14: normres = 0.48021499743696777\n",
      "[ Info: Arnoldi schursolve in iter 1, krylovdim = 14: 1 values converged, normres = (3.75e-13, 1.05e-09, 5.50e-09, 4.78e-01, 1.17e-03)\n",
      "[ Info: Arnoldi iteration step 15: normres = 0.18281870935195974\n",
      "[ Info: Arnoldi schursolve in iter 1, krylovdim = 15: 1 values converged, normres = (3.41e-14, 3.95e-10, 6.71e-02, 6.04e-04, 1.55e-05)\n",
      "[ Info: Arnoldi iteration step 16: normres = 0.28746302516552225\n",
      "[ Info: Arnoldi schursolve in iter 1, krylovdim = 16: 1 values converged, normres = (9.61e-15, 1.87e-09, 1.91e-01, 1.17e-02, 2.10e-01)\n",
      "[ Info: Arnoldi iteration step 17: normres = 0.030834263120575894\n",
      "[ Info: Arnoldi schursolve in iter 1, krylovdim = 17: 1 values converged, normres = (1.31e-16, 3.85e-03, 3.03e-03, 3.49e-03, 1.25e-03)\n",
      "[ Info: Arnoldi iteration step 18: normres = 0.0172206640323542\n",
      "[ Info: Arnoldi schursolve in iter 1, krylovdim = 18: 1 values converged, normres = (9.27e-19, 1.45e-05, 5.36e-05, 8.05e-06, 4.56e-05)\n",
      "[ Info: Arnoldi iteration step 19: normres = 0.07402960413333656\n",
      "[ Info: Arnoldi schursolve in iter 1, krylovdim = 19: 1 values converged, normres = (2.84e-20, 3.60e-08, 2.72e-06, 2.22e-06, 1.13e-06)\n",
      "[ Info: Arnoldi iteration step 20: normres = 0.1712352253049687\n",
      "[ Info: Arnoldi schursolve in iter 1, krylovdim = 20: 1 values converged, normres = (2.33e-21, 1.06e-07, 3.80e-07, 1.03e-07, 3.99e-07)\n",
      "[ Info: Arnoldi iteration step 21: normres = 0.024910270155230303\n",
      "[ Info: Arnoldi schursolve in iter 1, krylovdim = 21: 1 values converged, normres = (2.51e-23, 2.57e-09, 6.59e-09, 6.32e-09, 5.26e-09)\n",
      "[ Info: Arnoldi iteration step 22: normres = 0.060548154349442114\n",
      "[ Info: Arnoldi schursolve in iter 1, krylovdim = 22: 1 values converged, normres = (6.25e-25, 1.12e-10, 2.57e-10, 2.68e-10, 2.39e-10)\n",
      "[ Info: Arnoldi iteration step 23: normres = 0.3461634675976382\n",
      "[ Info: Arnoldi schursolve in iter 1, krylovdim = 23: 1 values converged, normres = (1.89e-25, 1.67e-10, 3.75e-10, 9.72e-10, 8.35e-10)\n",
      "[ Info: Arnoldi iteration step 24: normres = 0.014152675435582353\n",
      "[ Info: Arnoldi schursolve in iter 1, krylovdim = 24: 1 values converged, normres = (1.20e-27, 2.56e-12, 5.86e-12, 4.87e-04, 1.47e-04)\n",
      "[ Info: Arnoldi iteration step 25: normres = 0.08706836719501308\n",
      "[ Info: Arnoldi schursolve in iter 1, krylovdim = 25: 3 values converged, normres = (4.34e-29, 1.49e-13, 3.41e-13, 4.19e-08, 7.85e-09)\n",
      "[ Info: Arnoldi iteration step 26: normres = 0.03395774169979666\n",
      "[ Info: Arnoldi schursolve in iter 1, krylovdim = 26: 3 values converged, normres = (6.61e-31, 3.83e-15, 8.77e-15, 1.79e-06, 2.40e-06)\n",
      "[ Info: Arnoldi iteration step 27: normres = 0.03730821462953359\n",
      "[ Info: Arnoldi schursolve in iter 1, krylovdim = 27: 3 values converged, normres = (1.02e-32, 9.39e-17, 2.15e-16, 4.45e-09, 3.96e-09)\n",
      "[ Info: Arnoldi iteration step 28: normres = 0.07779400225144269\n",
      "[ Info: Arnoldi schursolve in iter 1, krylovdim = 28: 3 values converged, normres = (3.46e-34, 5.31e-18, 1.21e-17, 1.29e-09, 7.05e-09)\n",
      "[ Info: Arnoldi iteration step 29: normres = 0.016244179668610012\n",
      "[ Info: Arnoldi schursolve in iter 1, krylovdim = 29: 3 values converged, normres = (2.35e-36, 5.79e-20, 1.32e-19, 1.44e-11, 7.58e-11)\n",
      "[ Info: Arnoldi iteration step 30: normres = 0.19382182751078908\n",
      "[ Info: Arnoldi schursolve in iter 1, krylovdim = 30: 3 values converged, normres = (1.96e-37, 7.95e-21, 1.82e-20, 2.19e-12, 1.16e-11)\n",
      "[ Info: Arnoldi schursolve in iter 2, krylovdim = 19: 3 values converged, normres = (1.96e-37, 7.95e-21, 1.82e-20, 2.19e-12, 1.16e-11)\n",
      "[ Info: Arnoldi iteration step 20: normres = 0.07968057729061277\n",
      "┌ Info: Arnoldi eigsolve finished after 2 iterations:\n",
      "│ *  5 eigenvalues converged\n",
      "│ *  norm of residuals = (7.425831764766724e-39, 5.301382911765265e-22, 1.2222941174038064e-21, 1.658397464042647e-13, 8.894973376342963e-13)\n",
      "└ *  number of operations = 31\n"
     ]
    }
   ],
   "cell_type": "code",
   "source": [
    "eigsolve(eps_fun, randn(size(scfres.ρ)), 5, :LM; eager=true, verbosity=3);"
   ],
   "metadata": {},
   "execution_count": 3
  }
 ],
 "nbformat_minor": 3,
 "metadata": {
  "language_info": {
   "file_extension": ".jl",
   "mimetype": "application/julia",
   "name": "julia",
   "version": "1.8.2"
  },
  "kernelspec": {
   "name": "julia-1.8",
   "display_name": "Julia 1.8.2",
   "language": "julia"
  }
 },
 "nbformat": 4
}
