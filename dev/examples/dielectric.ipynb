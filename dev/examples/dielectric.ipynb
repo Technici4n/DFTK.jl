{
 "cells": [
  {
   "cell_type": "markdown",
   "source": [
    "# Eigenvalues of the dielectric matrix\n",
    "\n",
    "We compute a few eigenvalues of the dielectric matrix ($q=0$, $ω=0$) iteratively."
   ],
   "metadata": {}
  },
  {
   "outputs": [
    {
     "name": "stdout",
     "output_type": "stream",
     "text": [
      "n     Energy            log10(ΔE)   log10(Δρ)   Diag\n",
      "---   ---------------   ---------   ---------   ----\n",
      "  1   -7.233623217617                   -0.50    7.0\n",
      "  2   -7.250260843562       -1.78       -1.41    1.0\n",
      "  3   -7.251274137483       -2.99       -2.02    4.0\n",
      "  4   -7.251232267688   +   -4.38       -2.12    4.0\n",
      "  5   -7.251320024052       -4.06       -2.53    3.0\n",
      "  6   -7.251335789820       -4.80       -2.90    3.0\n",
      "  7   -7.251338784102       -5.52       -4.07    2.0\n",
      "  8   -7.251338791988       -8.10       -4.15    5.0\n",
      "  9   -7.251338798423       -8.19       -4.84    3.0\n",
      " 10   -7.251338798686       -9.58       -5.41    2.0\n",
      " 11   -7.251338798701      -10.82       -5.79    3.0\n",
      " 12   -7.251338798704      -11.48       -6.60    3.0\n",
      " 13   -7.251338798705      -13.15       -7.08    3.0\n",
      " 14   -7.251338798705      -13.94       -7.56    3.0\n",
      " 15   -7.251338798705   +  -14.27       -8.17    3.0\n"
     ]
    }
   ],
   "cell_type": "code",
   "source": [
    "using DFTK\n",
    "using Plots\n",
    "using KrylovKit\n",
    "using Printf\n",
    "\n",
    "# Calculation parameters\n",
    "kgrid = [1, 1, 1]\n",
    "Ecut = 5\n",
    "\n",
    "# Silicon lattice\n",
    "a = 10.26\n",
    "lattice = a / 2 .* [[0 1 1.]; [1 0 1.]; [1 1 0.]]\n",
    "Si = ElementPsp(:Si, psp=load_psp(\"hgh/lda/Si-q4\"))\n",
    "atoms     = [Si, Si]\n",
    "positions = [ones(3)/8, -ones(3)/8]\n",
    "\n",
    "# Compute the dielectric operator without symmetries\n",
    "model = model_LDA(lattice, atoms, positions, symmetries=false)\n",
    "basis = PlaneWaveBasis(model; Ecut, kgrid)\n",
    "scfres = self_consistent_field(basis, tol=1e-14);"
   ],
   "metadata": {},
   "execution_count": 1
  },
  {
   "cell_type": "markdown",
   "source": [
    "Applying $ε^† ≔ (1- χ_0 K)$ …"
   ],
   "metadata": {}
  },
  {
   "outputs": [],
   "cell_type": "code",
   "source": [
    "function eps_fun(δρ)\n",
    "    δV = apply_kernel(basis, δρ; ρ=scfres.ρ)\n",
    "    χ0δV = apply_χ0(scfres, δV)\n",
    "    δρ - χ0δV\n",
    "end;"
   ],
   "metadata": {},
   "execution_count": 2
  },
  {
   "cell_type": "markdown",
   "source": [
    "… eagerly diagonalizes the subspace matrix at each iteration"
   ],
   "metadata": {}
  },
  {
   "outputs": [
    {
     "name": "stdout",
     "output_type": "stream",
     "text": [
      "[ Info: Arnoldi iteration step 1: normres = 0.06059833483065516\n",
      "[ Info: Arnoldi iteration step 2: normres = 0.2989600540439532\n",
      "[ Info: Arnoldi iteration step 3: normres = 0.7740876812762891\n",
      "[ Info: Arnoldi iteration step 4: normres = 0.5496951033249264\n",
      "[ Info: Arnoldi iteration step 5: normres = 0.5314003047751292\n",
      "[ Info: Arnoldi schursolve in iter 1, krylovdim = 5: 0 values converged, normres = (1.43e-01, 6.07e-02, 4.52e-01, 2.31e-01, 1.81e-02)\n",
      "[ Info: Arnoldi iteration step 6: normres = 0.256846161543604\n",
      "[ Info: Arnoldi schursolve in iter 1, krylovdim = 6: 0 values converged, normres = (3.00e-02, 6.98e-02, 2.05e-01, 1.07e-01, 4.13e-02)\n",
      "[ Info: Arnoldi iteration step 7: normres = 0.07220463474022804\n",
      "[ Info: Arnoldi schursolve in iter 1, krylovdim = 7: 0 values converged, normres = (1.04e-03, 5.17e-03, 1.30e-02, 3.73e-02, 5.50e-02)\n",
      "[ Info: Arnoldi iteration step 8: normres = 0.08903289345683386\n",
      "[ Info: Arnoldi schursolve in iter 1, krylovdim = 8: 0 values converged, normres = (3.93e-05, 3.18e-04, 8.86e-04, 9.49e-03, 2.94e-02)\n",
      "[ Info: Arnoldi iteration step 9: normres = 0.04956434169033799\n",
      "[ Info: Arnoldi schursolve in iter 1, krylovdim = 9: 0 values converged, normres = (8.37e-07, 1.11e-05, 3.43e-05, 1.49e-03, 1.34e-02)\n",
      "[ Info: Arnoldi iteration step 10: normres = 0.09136971972270565\n",
      "[ Info: Arnoldi schursolve in iter 1, krylovdim = 10: 0 values converged, normres = (3.25e-08, 7.04e-07, 2.41e-06, 3.94e-04, 9.20e-03)\n",
      "[ Info: Arnoldi iteration step 11: normres = 0.05615202048678064\n",
      "[ Info: Arnoldi schursolve in iter 1, krylovdim = 11: 0 values converged, normres = (7.82e-10, 2.77e-08, 1.05e-07, 6.71e-05, 4.51e-03)\n",
      "[ Info: Arnoldi iteration step 12: normres = 0.09820305989526856\n",
      "[ Info: Arnoldi schursolve in iter 1, krylovdim = 12: 0 values converged, normres = (3.25e-11, 1.87e-09, 7.85e-09, 1.86e-05, 3.50e-03)\n",
      "[ Info: Arnoldi iteration step 13: normres = 0.08311198592367133\n",
      "[ Info: Arnoldi schursolve in iter 1, krylovdim = 13: 0 values converged, normres = (1.23e-12, 1.21e-10, 5.69e-10, 8.53e-06, 7.34e-02)\n",
      "[ Info: Arnoldi iteration step 14: normres = 0.6094696079958997\n",
      "[ Info: Arnoldi schursolve in iter 1, krylovdim = 14: 1 values converged, normres = (3.71e-13, 6.60e-11, 3.56e-10, 2.83e-01, 4.66e-01)\n",
      "[ Info: Arnoldi iteration step 15: normres = 0.058378089250895694\n",
      "[ Info: Arnoldi schursolve in iter 1, krylovdim = 15: 1 values converged, normres = (1.73e-14, 2.03e-11, 1.75e-08, 4.88e-02, 3.49e-05)\n",
      "[ Info: Arnoldi iteration step 16: normres = 0.2870648302688374\n",
      "[ Info: Arnoldi schursolve in iter 1, krylovdim = 16: 1 values converged, normres = (2.13e-15, 4.12e-12, 1.08e-02, 6.23e-04, 5.22e-07)\n",
      "[ Info: Arnoldi iteration step 17: normres = 0.14710188782474978\n",
      "[ Info: Arnoldi schursolve in iter 1, krylovdim = 17: 1 values converged, normres = (3.31e-16, 4.01e-11, 1.43e-01, 4.29e-03, 1.09e-02)\n",
      "[ Info: Arnoldi iteration step 18: normres = 0.014030591494365741\n",
      "[ Info: Arnoldi schursolve in iter 1, krylovdim = 18: 1 values converged, normres = (1.94e-18, 1.31e-03, 2.34e-04, 8.81e-05, 6.66e-05)\n",
      "[ Info: Arnoldi iteration step 19: normres = 0.0606722528234547\n",
      "[ Info: Arnoldi schursolve in iter 1, krylovdim = 19: 1 values converged, normres = (4.85e-20, 4.50e-10, 5.28e-05, 2.00e-08, 4.85e-06)\n",
      "[ Info: Arnoldi iteration step 20: normres = 0.13411800665570917\n",
      "[ Info: Arnoldi schursolve in iter 1, krylovdim = 20: 1 values converged, normres = (3.16e-21, 1.28e-09, 6.18e-06, 4.68e-07, 4.47e-07)\n",
      "[ Info: Arnoldi iteration step 21: normres = 0.03847921768336691\n",
      "[ Info: Arnoldi schursolve in iter 1, krylovdim = 21: 1 values converged, normres = (5.15e-23, 1.21e-07, 1.11e-07, 1.66e-08, 9.15e-09)\n",
      "[ Info: Arnoldi iteration step 22: normres = 0.029509418966931683\n",
      "[ Info: Arnoldi schursolve in iter 1, krylovdim = 22: 1 values converged, normres = (6.31e-25, 2.97e-11, 3.22e-09, 2.19e-10, 3.50e-10)\n",
      "[ Info: Arnoldi iteration step 23: normres = 0.6865379685562291\n",
      "[ Info: Arnoldi schursolve in iter 1, krylovdim = 23: 1 values converged, normres = (2.41e-25, 4.35e-11, 2.49e-09, 2.10e-10, 3.14e-10)\n",
      "[ Info: Arnoldi iteration step 24: normres = 0.0220672450980266\n",
      "[ Info: Arnoldi schursolve in iter 1, krylovdim = 24: 1 values converged, normres = (3.75e-27, 2.95e-12, 2.29e-10, 1.10e-02, 1.39e-03)\n",
      "[ Info: Arnoldi iteration step 25: normres = 0.035991084695078626\n",
      "[ Info: Arnoldi schursolve in iter 1, krylovdim = 25: 2 values converged, normres = (5.53e-29, 6.80e-14, 5.36e-12, 1.48e-04, 8.75e-05)\n",
      "[ Info: Arnoldi iteration step 26: normres = 0.09212287773344917\n",
      "[ Info: Arnoldi schursolve in iter 1, krylovdim = 26: 3 values converged, normres = (2.28e-30, 4.71e-15, 3.71e-13, 2.99e-09, 9.08e-09)\n",
      "[ Info: Arnoldi iteration step 27: normres = 0.03177021773325649\n",
      "[ Info: Arnoldi schursolve in iter 1, krylovdim = 27: 3 values converged, normres = (3.02e-32, 1.01e-16, 7.93e-15, 7.76e-09, 1.68e-08)\n",
      "[ Info: Arnoldi iteration step 28: normres = 0.08632208280784429\n",
      "[ Info: Arnoldi schursolve in iter 1, krylovdim = 28: 3 values converged, normres = (1.14e-33, 6.28e-18, 4.95e-16, 2.14e-09, 9.53e-09)\n",
      "[ Info: Arnoldi iteration step 29: normres = 0.016091688839845585\n",
      "[ Info: Arnoldi schursolve in iter 1, krylovdim = 29: 3 values converged, normres = (7.68e-36, 6.84e-20, 5.39e-18, 1.23e-10, 1.18e-10)\n",
      "[ Info: Arnoldi iteration step 30: normres = 0.06510949569700943\n",
      "[ Info: Arnoldi schursolve in iter 1, krylovdim = 30: 3 values converged, normres = (2.08e-37, 2.97e-21, 2.34e-19, 5.98e-12, 7.94e-12)\n",
      "[ Info: Arnoldi schursolve in iter 2, krylovdim = 19: 3 values converged, normres = (2.08e-37, 2.97e-21, 2.34e-19, 5.98e-12, 7.94e-12)\n",
      "[ Info: Arnoldi iteration step 20: normres = 0.058220047254731205\n",
      "[ Info: Arnoldi schursolve in iter 2, krylovdim = 20: 4 values converged, normres = (5.23e-39, 1.23e-22, 9.68e-21, 2.74e-13, 3.60e-13)\n",
      "[ Info: Arnoldi iteration step 21: normres = 0.20174363108204177\n",
      "┌ Info: Arnoldi eigsolve finished after 2 iterations:\n",
      "│ *  6 eigenvalues converged\n",
      "│ *  norm of residuals = (4.851779209163815e-40, 1.9534308260749354e-23, 1.3648647051921326e-21, 4.898530897331492e-14, 1.6449081631707278e-13, 1.6449081631707278e-13)\n",
      "└ *  number of operations = 32\n"
     ]
    }
   ],
   "cell_type": "code",
   "source": [
    "eigsolve(eps_fun, randn(size(scfres.ρ)), 5, :LM; eager=true, verbosity=3);"
   ],
   "metadata": {},
   "execution_count": 3
  }
 ],
 "nbformat_minor": 3,
 "metadata": {
  "language_info": {
   "file_extension": ".jl",
   "mimetype": "application/julia",
   "name": "julia",
   "version": "1.8.2"
  },
  "kernelspec": {
   "name": "julia-1.8",
   "display_name": "Julia 1.8.2",
   "language": "julia"
  }
 },
 "nbformat": 4
}
