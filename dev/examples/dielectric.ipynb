{
 "cells": [
  {
   "cell_type": "markdown",
   "source": [
    "# Eigenvalues of the dielectric matrix\n",
    "\n",
    "We compute a few eigenvalues of the dielectric matrix ($q=0$, $ω=0$) iteratively."
   ],
   "metadata": {}
  },
  {
   "outputs": [
    {
     "name": "stdout",
     "output_type": "stream",
     "text": [
      "n     Energy            log10(ΔE)   log10(Δρ)   Diag   Δtime\n",
      "---   ---------------   ---------   ---------   ----   ------\n",
      "  1   -7.235387757915                   -0.50    7.0         \n",
      "  2   -7.250422632806       -1.82       -1.40    1.0   7.26ms\n",
      "  3   -7.251185889656       -3.12       -2.18    1.0   7.11ms\n",
      "  4   -7.251197654827       -4.93       -2.07    2.0   9.18ms\n",
      "  5   -7.251336538873       -3.86       -2.77    1.0   7.07ms\n",
      "  6   -7.251338582936       -5.69       -3.42    1.0   7.32ms\n",
      "  7   -7.251338739296       -6.81       -3.62    2.0   8.75ms\n",
      "  8   -7.251338794579       -7.26       -4.14    1.0   7.21ms\n",
      "  9   -7.251338798242       -8.44       -4.74    1.0   7.33ms\n",
      " 10   -7.251338798655       -9.38       -5.26    2.0   8.71ms\n",
      " 11   -7.251338798697      -10.37       -5.55    2.0   9.13ms\n",
      " 12   -7.251338798703      -11.22       -6.05    1.0   7.50ms\n",
      " 13   -7.251338798704      -11.94       -6.36    2.0   52.5ms\n",
      " 14   -7.251338798705      -12.68       -6.87    2.0   9.15ms\n",
      " 15   -7.251338798705      -13.62       -7.40    2.0   8.85ms\n",
      " 16   -7.251338798705   +    -Inf       -7.48    3.0   10.1ms\n",
      " 17   -7.251338798705      -14.75       -7.88    1.0   7.66ms\n",
      " 18   -7.251338798705      -14.75       -8.02    2.0   8.83ms\n"
     ]
    }
   ],
   "cell_type": "code",
   "source": [
    "using DFTK\n",
    "using Plots\n",
    "using KrylovKit\n",
    "using Printf\n",
    "\n",
    "# Calculation parameters\n",
    "kgrid = [1, 1, 1]\n",
    "Ecut = 5\n",
    "\n",
    "# Silicon lattice\n",
    "a = 10.26\n",
    "lattice = a / 2 .* [[0 1 1.]; [1 0 1.]; [1 1 0.]]\n",
    "Si = ElementPsp(:Si, psp=load_psp(\"hgh/lda/Si-q4\"))\n",
    "atoms     = [Si, Si]\n",
    "positions = [ones(3)/8, -ones(3)/8]\n",
    "\n",
    "# Compute the dielectric operator without symmetries\n",
    "model  = model_LDA(lattice, atoms, positions, symmetries=false)\n",
    "basis  = PlaneWaveBasis(model; Ecut, kgrid)\n",
    "scfres = self_consistent_field(basis, tol=1e-8);"
   ],
   "metadata": {},
   "execution_count": 1
  },
  {
   "cell_type": "markdown",
   "source": [
    "Applying $ε^† ≔ (1- χ_0 K)$ …"
   ],
   "metadata": {}
  },
  {
   "outputs": [],
   "cell_type": "code",
   "source": [
    "function eps_fun(δρ)\n",
    "    δV = apply_kernel(basis, δρ; ρ=scfres.ρ)\n",
    "    χ0δV = apply_χ0(scfres, δV)\n",
    "    δρ - χ0δV\n",
    "end;"
   ],
   "metadata": {},
   "execution_count": 2
  },
  {
   "cell_type": "markdown",
   "source": [
    "… eagerly diagonalizes the subspace matrix at each iteration"
   ],
   "metadata": {}
  },
  {
   "outputs": [
    {
     "name": "stdout",
     "output_type": "stream",
     "text": [
      "[ Info: Arnoldi iteration step 1: normres = 0.04777730503317939\n",
      "[ Info: Arnoldi iteration step 2: normres = 0.5010289260544466\n",
      "[ Info: Arnoldi iteration step 3: normres = 0.9666603773281056\n",
      "[ Info: Arnoldi iteration step 4: normres = 0.3751598582505789\n",
      "[ Info: Arnoldi iteration step 5: normres = 0.3907628437219316\n",
      "[ Info: Arnoldi schursolve in iter 1, krylovdim = 5: 0 values converged, normres = (5.00e-02, 5.97e-02, 3.14e-01, 2.15e-01, 4.24e-02)\n",
      "[ Info: Arnoldi iteration step 6: normres = 0.33587403082157835\n",
      "[ Info: Arnoldi schursolve in iter 1, krylovdim = 6: 0 values converged, normres = (1.42e-02, 8.77e-02, 2.98e-01, 1.06e-01, 3.29e-02)\n",
      "[ Info: Arnoldi iteration step 7: normres = 0.09919318003776179\n",
      "[ Info: Arnoldi schursolve in iter 1, krylovdim = 7: 0 values converged, normres = (6.93e-04, 1.07e-02, 2.52e-02, 4.55e-02, 7.52e-02)\n",
      "[ Info: Arnoldi iteration step 8: normres = 0.10409093405136391\n",
      "[ Info: Arnoldi schursolve in iter 1, krylovdim = 8: 0 values converged, normres = (3.17e-05, 8.17e-04, 2.14e-03, 1.80e-02, 5.54e-02)\n",
      "[ Info: Arnoldi iteration step 9: normres = 0.07654663795338812\n",
      "[ Info: Arnoldi schursolve in iter 1, krylovdim = 9: 0 values converged, normres = (1.04e-06, 4.38e-05, 1.27e-04, 4.45e-03, 2.57e-02)\n",
      "[ Info: Arnoldi iteration step 10: normres = 0.09336380860550308\n",
      "[ Info: Arnoldi schursolve in iter 1, krylovdim = 10: 0 values converged, normres = (4.29e-08, 3.02e-06, 9.79e-06, 1.68e-03, 2.40e-02)\n",
      "[ Info: Arnoldi iteration step 11: normres = 0.052337038272691906\n",
      "[ Info: Arnoldi schursolve in iter 1, krylovdim = 11: 0 values converged, normres = (9.56e-10, 1.10e-07, 3.94e-07, 2.64e-04, 8.37e-03)\n",
      "[ Info: Arnoldi iteration step 12: normres = 0.07604463031931569\n",
      "[ Info: Arnoldi schursolve in iter 1, krylovdim = 12: 0 values converged, normres = (3.05e-11, 5.67e-09, 2.25e-08, 5.31e-05, 2.83e-03)\n",
      "[ Info: Arnoldi iteration step 13: normres = 0.05500178923870213\n",
      "[ Info: Arnoldi schursolve in iter 1, krylovdim = 13: 1 values converged, normres = (7.35e-13, 2.27e-10, 1.00e-09, 1.05e-05, 1.28e-03)\n",
      "[ Info: Arnoldi iteration step 14: normres = 0.7196404804010307\n",
      "[ Info: Arnoldi schursolve in iter 1, krylovdim = 14: 1 values converged, normres = (2.84e-13, 1.71e-10, 8.81e-10, 6.66e-01, 2.45e-01)\n",
      "[ Info: Arnoldi iteration step 15: normres = 0.09507593499773015\n",
      "[ Info: Arnoldi schursolve in iter 1, krylovdim = 15: 1 values converged, normres = (2.15e-14, 1.82e-10, 7.47e-02, 9.06e-04, 2.95e-05)\n",
      "[ Info: Arnoldi iteration step 16: normres = 0.5013713927892817\n",
      "[ Info: Arnoldi schursolve in iter 1, krylovdim = 16: 1 values converged, normres = (8.91e-15, 4.59e-10, 1.31e-01, 5.44e-03, 4.83e-01)\n",
      "[ Info: Arnoldi iteration step 17: normres = 0.02937781940899526\n",
      "[ Info: Arnoldi schursolve in iter 1, krylovdim = 17: 1 values converged, normres = (1.33e-16, 1.67e-08, 6.75e-03, 5.08e-03, 7.64e-03)\n",
      "[ Info: Arnoldi iteration step 18: normres = 0.014431655200386861\n",
      "[ Info: Arnoldi schursolve in iter 1, krylovdim = 18: 1 values converged, normres = (7.95e-19, 6.42e-05, 2.12e-06, 6.04e-08, 9.65e-05)\n",
      "[ Info: Arnoldi iteration step 19: normres = 0.16133669612069998\n",
      "[ Info: Arnoldi schursolve in iter 1, krylovdim = 19: 1 values converged, normres = (5.39e-20, 1.90e-08, 7.03e-06, 3.22e-06, 1.12e-05)\n",
      "[ Info: Arnoldi iteration step 20: normres = 0.048345374173924795\n",
      "[ Info: Arnoldi schursolve in iter 1, krylovdim = 20: 1 values converged, normres = (1.26e-21, 9.31e-09, 2.96e-07, 4.16e-07, 3.76e-07)\n",
      "[ Info: Arnoldi iteration step 21: normres = 0.017354769525056664\n",
      "[ Info: Arnoldi schursolve in iter 1, krylovdim = 21: 1 values converged, normres = (9.02e-24, 1.83e-09, 2.83e-09, 3.72e-09, 5.97e-09)\n",
      "[ Info: Arnoldi iteration step 22: normres = 0.0520873899139025\n",
      "[ Info: Arnoldi schursolve in iter 1, krylovdim = 22: 1 values converged, normres = (1.94e-25, 4.77e-11, 1.06e-10, 1.22e-10, 2.37e-10)\n",
      "[ Info: Arnoldi iteration step 23: normres = 0.6681322121949403\n",
      "[ Info: Arnoldi schursolve in iter 1, krylovdim = 23: 1 values converged, normres = (8.02e-26, 4.48e-11, 9.95e-11, 1.42e-10, 2.77e-10)\n",
      "[ Info: Arnoldi iteration step 24: normres = 0.028116155387435636\n",
      "[ Info: Arnoldi schursolve in iter 1, krylovdim = 24: 1 values converged, normres = (1.45e-27, 4.27e-12, 9.42e-12, 1.52e-09, 2.41e-09)\n",
      "[ Info: Arnoldi iteration step 25: normres = 0.05768728524484907\n",
      "[ Info: Arnoldi schursolve in iter 1, krylovdim = 25: 3 values converged, normres = (3.44e-29, 1.63e-13, 3.61e-13, 2.85e-04, 4.15e-04)\n",
      "[ Info: Arnoldi iteration step 26: normres = 0.07273636551856234\n",
      "[ Info: Arnoldi schursolve in iter 1, krylovdim = 26: 3 values converged, normres = (1.12e-30, 8.96e-15, 1.99e-14, 7.35e-09, 1.08e-08)\n",
      "[ Info: Arnoldi iteration step 27: normres = 0.01691628303470266\n",
      "[ Info: Arnoldi schursolve in iter 1, krylovdim = 27: 3 values converged, normres = (7.88e-33, 1.01e-16, 2.23e-16, 5.71e-07, 3.02e-08)\n",
      "[ Info: Arnoldi iteration step 28: normres = 0.08014110379916872\n",
      "[ Info: Arnoldi schursolve in iter 1, krylovdim = 28: 3 values converged, normres = (2.64e-34, 5.42e-18, 1.20e-17, 2.41e-08, 2.24e-08)\n",
      "[ Info: Arnoldi iteration step 29: normres = 0.024232180252678898\n",
      "[ Info: Arnoldi schursolve in iter 1, krylovdim = 29: 3 values converged, normres = (2.80e-36, 9.55e-20, 2.12e-19, 1.55e-10, 3.84e-10)\n",
      "[ Info: Arnoldi iteration step 30: normres = 0.1615681198104224\n",
      "[ Info: Arnoldi schursolve in iter 1, krylovdim = 30: 3 values converged, normres = (1.90e-37, 1.05e-20, 2.32e-20, 1.57e-11, 4.49e-11)\n",
      "[ Info: Arnoldi schursolve in iter 2, krylovdim = 19: 3 values converged, normres = (1.90e-37, 1.05e-20, 2.32e-20, 1.57e-11, 4.49e-11)\n",
      "[ Info: Arnoldi iteration step 20: normres = 0.12912667327686952\n",
      "[ Info: Arnoldi schursolve in iter 2, krylovdim = 20: 3 values converged, normres = (1.19e-38, 1.17e-21, 2.59e-21, 2.00e-12, 5.71e-12)\n",
      "[ Info: Arnoldi iteration step 21: normres = 0.06422597400443429\n",
      "┌ Info: Arnoldi eigsolve finished after 2 iterations:\n",
      "│ *  6 eigenvalues converged\n",
      "│ *  norm of residuals = (3.336841366136715e-40, 5.46769260689837e-23, 4.666206128302272e-23, 1.0424166348920193e-13, 2.674225425835347e-13, 2.185006299318157e-13)\n",
      "└ *  number of operations = 32\n"
     ]
    }
   ],
   "cell_type": "code",
   "source": [
    "eigsolve(eps_fun, randn(size(scfres.ρ)), 5, :LM; eager=true, verbosity=3);"
   ],
   "metadata": {},
   "execution_count": 3
  }
 ],
 "nbformat_minor": 3,
 "metadata": {
  "language_info": {
   "file_extension": ".jl",
   "mimetype": "application/julia",
   "name": "julia",
   "version": "1.9.2"
  },
  "kernelspec": {
   "name": "julia-1.9",
   "display_name": "Julia 1.9.2",
   "language": "julia"
  }
 },
 "nbformat": 4
}
