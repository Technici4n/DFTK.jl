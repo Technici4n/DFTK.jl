{
 "cells": [
  {
   "cell_type": "markdown",
   "source": [
    "# Eigenvalues of the dielectric matrix\n",
    "\n",
    "We compute a few eigenvalues of the dielectric matrix ($q=0$, $ω=0$) iteratively."
   ],
   "metadata": {}
  },
  {
   "outputs": [
    {
     "name": "stdout",
     "output_type": "stream",
     "text": [
      "n     Energy            log10(ΔE)   log10(Δρ)   Diag\n",
      "---   ---------------   ---------   ---------   ----\n",
      "  1   -7.234766571483                   -0.50    7.0\n",
      "  2   -7.250272562748       -1.81       -1.40    1.0\n",
      "  3   -7.251188257533       -3.04       -2.24    1.0\n",
      "  4   -7.251311556095       -3.91       -2.32    2.0\n",
      "  5   -7.251334363066       -4.64       -2.71    1.0\n",
      "  6   -7.251336358837       -5.70       -2.94    2.0\n",
      "  7   -7.251338682414       -5.63       -3.61    1.0\n",
      "  8   -7.251338778732       -7.02       -3.85    2.0\n",
      "  9   -7.251338794754       -7.80       -4.23    1.0\n",
      " 10   -7.251338798061       -8.48       -4.75    1.0\n",
      " 11   -7.251338798567       -9.30       -4.95    3.0\n",
      " 12   -7.251338798673       -9.98       -5.33    1.0\n",
      " 13   -7.251338798703      -10.52       -6.05    2.0\n",
      " 14   -7.251338798704      -11.95       -6.13    3.0\n",
      " 15   -7.251338798704      -12.50       -6.52    1.0\n",
      " 16   -7.251338798705      -13.01       -6.80    2.0\n",
      " 17   -7.251338798705      -13.65       -7.18    1.0\n",
      " 18   -7.251338798705      -14.45       -7.88    2.0\n",
      " 19   -7.251338798705      -15.05       -8.03    2.0\n"
     ]
    }
   ],
   "cell_type": "code",
   "source": [
    "using DFTK\n",
    "using Plots\n",
    "using KrylovKit\n",
    "using Printf\n",
    "\n",
    "# Calculation parameters\n",
    "kgrid = [1, 1, 1]\n",
    "Ecut = 5\n",
    "\n",
    "# Silicon lattice\n",
    "a = 10.26\n",
    "lattice = a / 2 .* [[0 1 1.]; [1 0 1.]; [1 1 0.]]\n",
    "Si = ElementPsp(:Si, psp=load_psp(\"hgh/lda/Si-q4\"))\n",
    "atoms     = [Si, Si]\n",
    "positions = [ones(3)/8, -ones(3)/8]\n",
    "\n",
    "# Compute the dielectric operator without symmetries\n",
    "model  = model_LDA(lattice, atoms, positions, symmetries=false)\n",
    "basis  = PlaneWaveBasis(model; Ecut, kgrid)\n",
    "scfres = self_consistent_field(basis, tol=1e-8);"
   ],
   "metadata": {},
   "execution_count": 1
  },
  {
   "cell_type": "markdown",
   "source": [
    "Applying $ε^† ≔ (1- χ_0 K)$ …"
   ],
   "metadata": {}
  },
  {
   "outputs": [],
   "cell_type": "code",
   "source": [
    "function eps_fun(δρ)\n",
    "    δV = apply_kernel(basis, δρ; ρ=scfres.ρ)\n",
    "    χ0δV = apply_χ0(scfres, δV)\n",
    "    δρ - χ0δV\n",
    "end;"
   ],
   "metadata": {},
   "execution_count": 2
  },
  {
   "cell_type": "markdown",
   "source": [
    "… eagerly diagonalizes the subspace matrix at each iteration"
   ],
   "metadata": {}
  },
  {
   "outputs": [
    {
     "name": "stdout",
     "output_type": "stream",
     "text": [
      "[ Info: Arnoldi iteration step 1: normres = 0.049470698710326555\n",
      "[ Info: Arnoldi iteration step 2: normres = 0.4097800955632776\n",
      "[ Info: Arnoldi iteration step 3: normres = 0.5011641898040461\n",
      "[ Info: Arnoldi iteration step 4: normres = 0.799229952124047\n",
      "[ Info: Arnoldi iteration step 5: normres = 0.3325998648798636\n",
      "[ Info: Arnoldi schursolve in iter 1, krylovdim = 5: 0 values converged, normres = (1.28e-01, 4.60e-02, 2.20e-01, 2.05e-01, 3.95e-02)\n",
      "[ Info: Arnoldi iteration step 6: normres = 0.4559410328035674\n",
      "[ Info: Arnoldi schursolve in iter 1, krylovdim = 6: 0 values converged, normres = (5.16e-02, 1.71e-01, 4.00e-01, 9.50e-02, 4.35e-02)\n",
      "[ Info: Arnoldi iteration step 7: normres = 0.08362857680788917\n",
      "[ Info: Arnoldi schursolve in iter 1, krylovdim = 7: 0 values converged, normres = (2.35e-03, 2.92e-02, 1.02e-02, 3.19e-02, 6.25e-02)\n",
      "[ Info: Arnoldi iteration step 8: normres = 0.09734723936036886\n",
      "[ Info: Arnoldi schursolve in iter 1, krylovdim = 8: 0 values converged, normres = (9.67e-05, 1.95e-03, 7.63e-04, 8.68e-03, 3.35e-02)\n",
      "[ Info: Arnoldi iteration step 9: normres = 0.07741618794006566\n",
      "[ Info: Arnoldi schursolve in iter 1, krylovdim = 9: 0 values converged, normres = (3.28e-06, 1.10e-04, 4.79e-05, 2.47e-03, 3.28e-02)\n",
      "[ Info: Arnoldi iteration step 10: normres = 0.09973533470305862\n",
      "[ Info: Arnoldi schursolve in iter 1, krylovdim = 10: 0 values converged, normres = (1.43e-07, 7.90e-06, 3.84e-06, 8.89e-04, 3.83e-02)\n",
      "[ Info: Arnoldi iteration step 11: normres = 0.07991093470106664\n",
      "[ Info: Arnoldi schursolve in iter 1, krylovdim = 11: 0 values converged, normres = (5.02e-09, 4.64e-07, 2.51e-07, 2.91e-04, 3.69e-02)\n",
      "[ Info: Arnoldi iteration step 12: normres = 0.07374996447346034\n",
      "[ Info: Arnoldi schursolve in iter 1, krylovdim = 12: 0 values converged, normres = (1.57e-10, 2.36e-08, 1.42e-08, 6.27e-05, 1.47e-02)\n",
      "[ Info: Arnoldi iteration step 13: normres = 0.03736329731690744\n",
      "[ Info: Arnoldi schursolve in iter 1, krylovdim = 13: 0 values converged, normres = (2.53e-12, 6.24e-10, 4.15e-10, 7.45e-06, 3.47e-03)\n",
      "[ Info: Arnoldi iteration step 14: normres = 0.6866496303253904\n",
      "[ Info: Arnoldi schursolve in iter 1, krylovdim = 14: 1 values converged, normres = (8.54e-13, 3.81e-10, 2.89e-10, 1.41e-04, 6.78e-01)\n",
      "[ Info: Arnoldi iteration step 15: normres = 0.07264056193103606\n",
      "[ Info: Arnoldi schursolve in iter 1, krylovdim = 15: 1 values converged, normres = (5.56e-14, 7.84e-10, 6.26e-02, 8.79e-04, 7.91e-06)\n",
      "[ Info: Arnoldi iteration step 16: normres = 0.6562126643941122\n",
      "[ Info: Arnoldi schursolve in iter 1, krylovdim = 16: 1 values converged, normres = (2.52e-14, 1.64e-09, 7.64e-02, 1.38e-03, 6.48e-01)\n",
      "[ Info: Arnoldi iteration step 17: normres = 0.034588220654208454\n",
      "[ Info: Arnoldi schursolve in iter 1, krylovdim = 17: 1 values converged, normres = (5.14e-16, 9.00e-09, 7.41e-03, 4.04e-06, 1.81e-02)\n",
      "[ Info: Arnoldi iteration step 18: normres = 0.025051842876224164\n",
      "[ Info: Arnoldi schursolve in iter 1, krylovdim = 18: 1 values converged, normres = (5.32e-18, 9.55e-08, 1.23e-04, 2.12e-05, 3.29e-04)\n",
      "[ Info: Arnoldi iteration step 19: normres = 0.19017169977132478\n",
      "[ Info: Arnoldi schursolve in iter 1, krylovdim = 19: 1 values converged, normres = (4.79e-19, 7.40e-06, 1.79e-05, 1.48e-08, 5.88e-05)\n",
      "[ Info: Arnoldi iteration step 20: normres = 0.02332310187575509\n",
      "[ Info: Arnoldi schursolve in iter 1, krylovdim = 20: 1 values converged, normres = (4.84e-21, 1.70e-08, 3.25e-07, 2.30e-07, 1.08e-06)\n",
      "[ Info: Arnoldi iteration step 21: normres = 0.02807619933423954\n",
      "[ Info: Arnoldi schursolve in iter 1, krylovdim = 21: 1 values converged, normres = (5.61e-23, 3.31e-09, 5.04e-09, 5.74e-09, 2.18e-08)\n",
      "[ Info: Arnoldi iteration step 22: normres = 0.04378293147477609\n",
      "[ Info: Arnoldi schursolve in iter 1, krylovdim = 22: 1 values converged, normres = (1.02e-24, 9.82e-11, 1.47e-10, 1.25e-10, 7.18e-10)\n",
      "[ Info: Arnoldi iteration step 23: normres = 0.6913785141508032\n",
      "[ Info: Arnoldi schursolve in iter 1, krylovdim = 23: 1 values converged, normres = (4.27e-25, 9.08e-11, 1.36e-10, 1.46e-10, 8.14e-10)\n",
      "[ Info: Arnoldi iteration step 24: normres = 0.023052671887447244\n",
      "[ Info: Arnoldi schursolve in iter 1, krylovdim = 24: 1 values converged, normres = (6.38e-27, 7.26e-12, 1.09e-11, 2.23e-09, 1.03e-08)\n",
      "[ Info: Arnoldi iteration step 25: normres = 0.1033280989984478\n",
      "[ Info: Arnoldi schursolve in iter 1, krylovdim = 25: 3 values converged, normres = (2.76e-28, 5.08e-13, 7.61e-13, 9.77e-04, 5.16e-04)\n",
      "[ Info: Arnoldi iteration step 26: normres = 0.030264302863726947\n",
      "[ Info: Arnoldi schursolve in iter 1, krylovdim = 26: 3 values converged, normres = (3.72e-30, 1.15e-14, 1.73e-14, 1.64e-08, 6.33e-08)\n",
      "[ Info: Arnoldi iteration step 27: normres = 0.02615560546421022\n",
      "[ Info: Arnoldi schursolve in iter 1, krylovdim = 27: 3 values converged, normres = (3.99e-32, 1.97e-16, 2.95e-16, 4.98e-07, 3.46e-08)\n",
      "[ Info: Arnoldi iteration step 28: normres = 0.11393235704789366\n",
      "[ Info: Arnoldi schursolve in iter 1, krylovdim = 28: 3 values converged, normres = (1.97e-33, 1.60e-17, 2.40e-17, 4.31e-08, 1.82e-08)\n",
      "[ Info: Arnoldi iteration step 29: normres = 0.15790442846409897\n",
      "[ Info: Arnoldi schursolve in iter 1, krylovdim = 29: 3 values converged, normres = (1.38e-34, 1.88e-18, 2.82e-18, 5.51e-09, 2.41e-10)\n",
      "[ Info: Arnoldi iteration step 30: normres = 0.03512799371279737\n",
      "[ Info: Arnoldi schursolve in iter 1, krylovdim = 30: 3 values converged, normres = (2.31e-36, 5.57e-20, 8.34e-20, 1.90e-10, 1.56e-11)\n",
      "[ Info: Arnoldi schursolve in iter 2, krylovdim = 19: 3 values converged, normres = (2.41e-36, 5.57e-20, 8.34e-20, 1.90e-10, 1.56e-11)\n",
      "[ Info: Arnoldi iteration step 20: normres = 0.024193953639758587\n",
      "[ Info: Arnoldi schursolve in iter 2, krylovdim = 20: 3 values converged, normres = (2.30e-38, 8.82e-22, 1.32e-21, 3.32e-12, 2.88e-13)\n",
      "[ Info: Arnoldi iteration step 21: normres = 0.0664444859464502\n",
      "┌ Info: Arnoldi eigsolve finished after 2 iterations:\n",
      "│ *  6 eigenvalues converged\n",
      "│ *  norm of residuals = (6.327257242503075e-40, 3.8929570751139167e-23, 5.320055366385579e-23, 1.6160237031128328e-13, 2.506171134361664e-14, 8.548328084302632e-14)\n",
      "└ *  number of operations = 32\n"
     ]
    }
   ],
   "cell_type": "code",
   "source": [
    "eigsolve(eps_fun, randn(size(scfres.ρ)), 5, :LM; eager=true, verbosity=3);"
   ],
   "metadata": {},
   "execution_count": 3
  }
 ],
 "nbformat_minor": 3,
 "metadata": {
  "language_info": {
   "file_extension": ".jl",
   "mimetype": "application/julia",
   "name": "julia",
   "version": "1.8.3"
  },
  "kernelspec": {
   "name": "julia-1.8",
   "display_name": "Julia 1.8.3",
   "language": "julia"
  }
 },
 "nbformat": 4
}
