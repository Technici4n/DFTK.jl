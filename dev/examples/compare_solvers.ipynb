{
 "cells": [
  {
   "cell_type": "markdown",
   "source": [
    "# Comparison of DFT solvers"
   ],
   "metadata": {}
  },
  {
   "cell_type": "markdown",
   "source": [
    "We compare four different approaches for solving the DFT minimisation problem,\n",
    "namely a density-based SCF, a potential-based SCF, direct minimisation and Newton."
   ],
   "metadata": {}
  },
  {
   "cell_type": "markdown",
   "source": [
    "First we setup our problem"
   ],
   "metadata": {}
  },
  {
   "outputs": [
    {
     "output_type": "execute_result",
     "data": {
      "text/plain": "1.0e-6"
     },
     "metadata": {},
     "execution_count": 1
    }
   ],
   "cell_type": "code",
   "source": [
    "using DFTK\n",
    "using LinearAlgebra\n",
    "\n",
    "a = 10.26  # Silicon lattice constant in Bohr\n",
    "lattice = a / 2 * [[0 1 1.];\n",
    "                   [1 0 1.];\n",
    "                   [1 1 0.]]\n",
    "Si = ElementPsp(:Si, psp=load_psp(\"hgh/lda/Si-q4\"))\n",
    "atoms     = [Si, Si]\n",
    "positions = [ones(3)/8, -ones(3)/8]\n",
    "\n",
    "model = model_LDA(lattice, atoms, positions)\n",
    "basis = PlaneWaveBasis(model; Ecut=5, kgrid=[3, 3, 3])\n",
    "\n",
    "# Convergence we desire in the density\n",
    "tol = 1e-6"
   ],
   "metadata": {},
   "execution_count": 1
  },
  {
   "cell_type": "markdown",
   "source": [
    "## Density-based self-consistent field"
   ],
   "metadata": {}
  },
  {
   "outputs": [
    {
     "name": "stdout",
     "output_type": "stream",
     "text": [
      "n     Energy            log10(ΔE)   log10(Δρ)   Diag   Δtime\n",
      "---   ---------------   ---------   ---------   ----   ------\n",
      "  1   -7.846888756946                   -0.70    4.8         \n",
      "  2   -7.852321058508       -2.27       -1.53    1.0   31.5ms\n",
      "  3   -7.852614200360       -3.53       -2.55    1.5   35.6ms\n",
      "  4   -7.852645933612       -4.50       -2.88    2.5   41.2ms\n",
      "  5   -7.852646493430       -6.25       -3.17    1.0   31.9ms\n",
      "  6   -7.852646680158       -6.73       -4.10    1.0   31.2ms\n",
      "  7   -7.852646686473       -8.20       -5.16    1.8   36.4ms\n",
      "  8   -7.852646686716       -9.61       -5.26    2.2    125ms\n",
      "  9   -7.852646686728      -10.94       -5.68    1.0   30.8ms\n",
      " 10   -7.852646686730      -11.70       -6.43    1.0   31.5ms\n"
     ]
    }
   ],
   "cell_type": "code",
   "source": [
    "scfres_scf = self_consistent_field(basis; tol);"
   ],
   "metadata": {},
   "execution_count": 2
  },
  {
   "cell_type": "markdown",
   "source": [
    "## Potential-based SCF"
   ],
   "metadata": {}
  },
  {
   "outputs": [
    {
     "name": "stdout",
     "output_type": "stream",
     "text": [
      "n     Energy            log10(ΔE)   log10(Δρ)   α      Diag   Δtime\n",
      "---   ---------------   ---------   ---------   ----   ----   ------\n",
      "  1   -7.846640834341                   -0.70           4.5         \n",
      "  2   -7.852551563895       -2.23       -1.62   0.80    2.0    283ms\n",
      "  3   -7.852639209090       -4.06       -2.72   0.80    1.0   27.6ms\n",
      "  4   -7.852646519435       -5.14       -3.38   0.80    2.0   35.7ms\n",
      "  5   -7.852646682526       -6.79       -4.29   0.80    1.5    140ms\n",
      "  6   -7.852646686560       -8.39       -4.82   0.80    1.8   32.4ms\n",
      "  7   -7.852646686719       -9.80       -5.61   0.80    1.8   32.8ms\n",
      "  8   -7.852646686730      -10.99       -6.54   0.80    2.0   35.2ms\n"
     ]
    }
   ],
   "cell_type": "code",
   "source": [
    "scfres_scfv = DFTK.scf_potential_mixing(basis; tol);"
   ],
   "metadata": {},
   "execution_count": 3
  },
  {
   "cell_type": "markdown",
   "source": [
    "## Direct minimization\n",
    "Note: Unlike the other algorithms, tolerance for this one is in the energy,\n",
    "thus we square the density tolerance value to be roughly equivalent."
   ],
   "metadata": {}
  },
  {
   "outputs": [
    {
     "name": "stdout",
     "output_type": "stream",
     "text": [
      "Iter     Function value   Gradient norm \n",
      "     0     1.389958e+01     3.803351e+00\n",
      " * time: 0.45978617668151855\n",
      "     1     1.497460e+00     2.136163e+00\n",
      " * time: 0.6877310276031494\n",
      "     2    -1.402315e+00     2.401464e+00\n",
      " * time: 0.7200620174407959\n",
      "     3    -3.579807e+00     2.370690e+00\n",
      " * time: 0.7646591663360596\n",
      "     4    -4.988087e+00     2.096859e+00\n",
      " * time: 0.8094151020050049\n",
      "     5    -6.479897e+00     1.343088e+00\n",
      " * time: 0.8541381359100342\n",
      "     6    -7.141146e+00     5.712613e-01\n",
      " * time: 0.8993279933929443\n",
      "     7    -7.504259e+00     2.179216e-01\n",
      " * time: 0.9290690422058105\n",
      "     8    -7.696416e+00     1.891440e-01\n",
      " * time: 0.9605309963226318\n",
      "     9    -7.770969e+00     1.367252e-01\n",
      " * time: 0.99198317527771\n",
      "    10    -7.817639e+00     6.541635e-02\n",
      " * time: 1.0224010944366455\n",
      "    11    -7.838642e+00     5.885977e-02\n",
      " * time: 1.052950143814087\n",
      "    12    -7.845037e+00     5.204940e-02\n",
      " * time: 1.0822670459747314\n",
      "    13    -7.846189e+00     3.749749e-02\n",
      " * time: 1.1128931045532227\n",
      "    14    -7.848264e+00     4.127356e-02\n",
      " * time: 1.1431519985198975\n",
      "    15    -7.850572e+00     2.298970e-02\n",
      " * time: 1.1729021072387695\n",
      "    16    -7.851804e+00     1.331265e-02\n",
      " * time: 1.2025041580200195\n",
      "    17    -7.852363e+00     9.606736e-03\n",
      " * time: 1.232630968093872\n",
      "    18    -7.852585e+00     7.310704e-03\n",
      " * time: 1.2631161212921143\n",
      "    19    -7.852631e+00     2.975252e-03\n",
      " * time: 1.293039083480835\n",
      "    20    -7.852642e+00     1.090855e-03\n",
      " * time: 1.3239781856536865\n",
      "    21    -7.852645e+00     6.813815e-04\n",
      " * time: 1.3551530838012695\n",
      "    22    -7.852646e+00     5.047686e-04\n",
      " * time: 1.3847320079803467\n",
      "    23    -7.852646e+00     3.273130e-04\n",
      " * time: 1.414734125137329\n",
      "    24    -7.852647e+00     2.075801e-04\n",
      " * time: 1.444291114807129\n",
      "    25    -7.852647e+00     1.215030e-04\n",
      " * time: 1.4736011028289795\n",
      "    26    -7.852647e+00     8.911203e-05\n",
      " * time: 1.5033981800079346\n",
      "    27    -7.852647e+00     5.425843e-05\n",
      " * time: 1.5336451530456543\n",
      "    28    -7.852647e+00     2.183745e-05\n",
      " * time: 1.5717780590057373\n",
      "    29    -7.852647e+00     9.837304e-06\n",
      " * time: 1.603931188583374\n",
      "    30    -7.852647e+00     8.066051e-06\n",
      " * time: 1.6360070705413818\n",
      "    31    -7.852647e+00     4.253293e-06\n",
      " * time: 1.6683731079101562\n",
      "    32    -7.852647e+00     2.781651e-06\n",
      " * time: 1.7006971836090088\n",
      "    33    -7.852647e+00     1.870170e-06\n",
      " * time: 1.7325429916381836\n",
      "    34    -7.852647e+00     1.216762e-06\n",
      " * time: 1.7637851238250732\n",
      "    35    -7.852647e+00     7.386606e-07\n",
      " * time: 1.8835060596466064\n",
      "    36    -7.852647e+00     3.148445e-07\n",
      " * time: 1.9131040573120117\n",
      "    37    -7.852647e+00     1.508805e-07\n",
      " * time: 1.942608118057251\n",
      "    38    -7.852647e+00     8.788281e-08\n",
      " * time: 1.972391128540039\n",
      "    39    -7.852647e+00     4.859686e-08\n",
      " * time: 2.0018420219421387\n",
      "    40    -7.852647e+00     3.720593e-08\n",
      " * time: 2.0319910049438477\n",
      "    41    -7.852647e+00     2.068749e-08\n",
      " * time: 2.0613911151885986\n"
     ]
    }
   ],
   "cell_type": "code",
   "source": [
    "scfres_dm = direct_minimization(basis; tol=tol^2);"
   ],
   "metadata": {},
   "execution_count": 4
  },
  {
   "cell_type": "markdown",
   "source": [
    "## Newton algorithm"
   ],
   "metadata": {}
  },
  {
   "cell_type": "markdown",
   "source": [
    "Start not too far from the solution to ensure convergence:\n",
    "We run first a very crude SCF to get close and then switch to Newton."
   ],
   "metadata": {}
  },
  {
   "outputs": [
    {
     "name": "stdout",
     "output_type": "stream",
     "text": [
      "n     Energy            log10(ΔE)   log10(Δρ)   Diag   Δtime\n",
      "---   ---------------   ---------   ---------   ----   ------\n",
      "  1   -7.846802447126                   -0.70    4.5         \n"
     ]
    }
   ],
   "cell_type": "code",
   "source": [
    "scfres_start = self_consistent_field(basis; tol=0.5);"
   ],
   "metadata": {},
   "execution_count": 5
  },
  {
   "cell_type": "markdown",
   "source": [
    "Remove the virtual orbitals (which Newton cannot treat yet)"
   ],
   "metadata": {}
  },
  {
   "outputs": [
    {
     "name": "stdout",
     "output_type": "stream",
     "text": [
      "n     Energy            log10(ΔE)   log10(Δρ)   Δtime\n",
      "---   ---------------   ---------   ---------   ------\n",
      "  1   -7.852645902246                   -1.64         \n",
      "  2   -7.852646686730       -6.11       -3.71    2.05s\n",
      "  3   -7.852646686730      -13.30       -7.25    204ms\n"
     ]
    }
   ],
   "cell_type": "code",
   "source": [
    "ψ = DFTK.select_occupied_orbitals(basis, scfres_start.ψ, scfres_start.occupation).ψ\n",
    "scfres_newton = newton(basis, ψ; tol);"
   ],
   "metadata": {},
   "execution_count": 6
  },
  {
   "cell_type": "markdown",
   "source": [
    "## Comparison of results"
   ],
   "metadata": {}
  },
  {
   "outputs": [
    {
     "name": "stdout",
     "output_type": "stream",
     "text": [
      "|ρ_newton - ρ_scf|  = 3.19982795257949e-7\n",
      "|ρ_newton - ρ_scfv| = 8.994066842169838e-8\n",
      "|ρ_newton - ρ_dm|   = 5.805381281296187e-9\n"
     ]
    }
   ],
   "cell_type": "code",
   "source": [
    "println(\"|ρ_newton - ρ_scf|  = \", norm(scfres_newton.ρ - scfres_scf.ρ))\n",
    "println(\"|ρ_newton - ρ_scfv| = \", norm(scfres_newton.ρ - scfres_scfv.ρ))\n",
    "println(\"|ρ_newton - ρ_dm|   = \", norm(scfres_newton.ρ - scfres_dm.ρ))"
   ],
   "metadata": {},
   "execution_count": 7
  }
 ],
 "nbformat_minor": 3,
 "metadata": {
  "language_info": {
   "file_extension": ".jl",
   "mimetype": "application/julia",
   "name": "julia",
   "version": "1.8.5"
  },
  "kernelspec": {
   "name": "julia-1.8",
   "display_name": "Julia 1.8.5",
   "language": "julia"
  }
 },
 "nbformat": 4
}
