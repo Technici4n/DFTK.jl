{
 "cells": [
  {
   "cell_type": "markdown",
   "source": [
    "# Eigenvalues of the dielectric matrix\n",
    "\n",
    "We compute a few eigenvalues of the dielectric matrix ($q=0$, $ω=0$) iteratively."
   ],
   "metadata": {}
  },
  {
   "outputs": [
    {
     "name": "stdout",
     "output_type": "stream",
     "text": [
      "n     Energy            log10(ΔE)   log10(Δρ)   Diag   Δtime\n",
      "---   ---------------   ---------   ---------   ----   ------\n",
      "  1   -7.235986313137                   -0.50    8.0         \n",
      "  2   -7.250366627603       -1.84       -1.39    1.0   8.02ms\n",
      "  3   -7.251037098114       -3.17       -1.96    1.0   7.67ms\n",
      "  4   -7.251047392690       -4.99       -1.92    2.0   9.49ms\n",
      "  5   -7.251327274544       -3.55       -2.58    1.0   8.25ms\n",
      "  6   -7.251338000087       -4.97       -3.14    1.0   8.05ms\n",
      "  7   -7.251338721780       -6.14       -3.66    2.0   9.21ms\n",
      "  8   -7.251338788841       -7.17       -4.08    2.0   9.86ms\n",
      "  9   -7.251338797829       -8.05       -4.74    2.0   9.27ms\n",
      " 10   -7.251338798582       -9.12       -4.98    3.0   11.0ms\n",
      " 11   -7.251338798679      -10.01       -5.35    1.0   8.12ms\n",
      " 12   -7.251338798701      -10.66       -5.81    3.0   11.0ms\n",
      " 13   -7.251338798704      -11.57       -6.21    3.0   11.5ms\n",
      " 14   -7.251338798705      -12.37       -6.86    1.0   8.45ms\n",
      " 15   -7.251338798705      -13.53       -7.08    3.0   10.8ms\n",
      " 16   -7.251338798705      -14.35       -7.49    1.0   8.38ms\n",
      " 17   -7.251338798705   +  -14.75       -7.78    2.0   9.63ms\n",
      " 18   -7.251338798705      -14.75       -8.26    2.0   9.85ms\n"
     ]
    }
   ],
   "cell_type": "code",
   "source": [
    "using DFTK\n",
    "using Plots\n",
    "using KrylovKit\n",
    "using Printf\n",
    "\n",
    "# Calculation parameters\n",
    "kgrid = [1, 1, 1]\n",
    "Ecut = 5\n",
    "\n",
    "# Silicon lattice\n",
    "a = 10.26\n",
    "lattice = a / 2 .* [[0 1 1.]; [1 0 1.]; [1 1 0.]]\n",
    "Si = ElementPsp(:Si, psp=load_psp(\"hgh/lda/Si-q4\"))\n",
    "atoms     = [Si, Si]\n",
    "positions = [ones(3)/8, -ones(3)/8]\n",
    "\n",
    "# Compute the dielectric operator without symmetries\n",
    "model  = model_LDA(lattice, atoms, positions, symmetries=false)\n",
    "basis  = PlaneWaveBasis(model; Ecut, kgrid)\n",
    "scfres = self_consistent_field(basis, tol=1e-8);"
   ],
   "metadata": {},
   "execution_count": 1
  },
  {
   "cell_type": "markdown",
   "source": [
    "Applying $ε^† ≔ (1- χ_0 K)$ …"
   ],
   "metadata": {}
  },
  {
   "outputs": [],
   "cell_type": "code",
   "source": [
    "function eps_fun(δρ)\n",
    "    δV = apply_kernel(basis, δρ; ρ=scfres.ρ)\n",
    "    χ0δV = apply_χ0(scfres, δV)\n",
    "    δρ - χ0δV\n",
    "end;"
   ],
   "metadata": {},
   "execution_count": 2
  },
  {
   "cell_type": "markdown",
   "source": [
    "… eagerly diagonalizes the subspace matrix at each iteration"
   ],
   "metadata": {}
  },
  {
   "outputs": [
    {
     "name": "stdout",
     "output_type": "stream",
     "text": [
      "[ Info: Arnoldi iteration step 1: normres = 0.06964736977067967\n",
      "[ Info: Arnoldi iteration step 2: normres = 0.5677118981861332\n",
      "[ Info: Arnoldi iteration step 3: normres = 0.7864547034260219\n",
      "[ Info: Arnoldi iteration step 4: normres = 0.23042000719661962\n",
      "[ Info: Arnoldi iteration step 5: normres = 0.6173401732206831\n",
      "[ Info: Arnoldi schursolve in iter 1, krylovdim = 5: 0 values converged, normres = (2.62e-02, 8.92e-02, 5.73e-01, 2.09e-01, 1.41e-02)\n",
      "[ Info: Arnoldi iteration step 6: normres = 0.22748678238837122\n",
      "[ Info: Arnoldi schursolve in iter 1, krylovdim = 6: 0 values converged, normres = (4.54e-03, 9.78e-02, 1.44e-01, 1.08e-01, 5.85e-02)\n",
      "[ Info: Arnoldi iteration step 7: normres = 0.07557935583745279\n",
      "[ Info: Arnoldi schursolve in iter 1, krylovdim = 7: 0 values converged, normres = (1.66e-04, 7.11e-03, 9.52e-03, 5.28e-02, 4.63e-02)\n",
      "[ Info: Arnoldi iteration step 8: normres = 0.07662777893632465\n",
      "[ Info: Arnoldi schursolve in iter 1, krylovdim = 8: 0 values converged, normres = (5.45e-06, 3.81e-04, 5.65e-04, 1.18e-02, 2.13e-02)\n",
      "[ Info: Arnoldi iteration step 9: normres = 0.0715787162292128\n",
      "[ Info: Arnoldi schursolve in iter 1, krylovdim = 9: 0 values converged, normres = (1.67e-07, 1.92e-05, 3.16e-05, 2.65e-03, 1.38e-02)\n",
      "[ Info: Arnoldi iteration step 10: normres = 0.10077474415949134\n",
      "[ Info: Arnoldi schursolve in iter 1, krylovdim = 10: 0 values converged, normres = (7.31e-09, 1.38e-06, 2.53e-06, 8.86e-04, 1.67e-02)\n",
      "[ Info: Arnoldi iteration step 11: normres = 0.08257386398968407\n",
      "[ Info: Arnoldi schursolve in iter 1, krylovdim = 11: 0 values converged, normres = (2.68e-10, 8.47e-08, 1.73e-07, 3.09e-04, 5.18e-02)\n",
      "[ Info: Arnoldi iteration step 12: normres = 0.09785045812171268\n",
      "[ Info: Arnoldi schursolve in iter 1, krylovdim = 12: 0 values converged, normres = (1.13e-11, 5.86e-09, 1.33e-08, 1.02e-04, 3.28e-02)\n",
      "[ Info: Arnoldi iteration step 13: normres = 0.09817917672986992\n",
      "[ Info: Arnoldi schursolve in iter 1, krylovdim = 13: 1 values converged, normres = (4.73e-13, 4.02e-10, 1.01e-09, 3.12e-05, 1.93e-02)\n",
      "[ Info: Arnoldi iteration step 14: normres = 0.5010797971033442\n",
      "[ Info: Arnoldi schursolve in iter 1, krylovdim = 14: 1 values converged, normres = (2.10e-13, 9.23e-10, 6.48e-09, 4.99e-01, 6.03e-03)\n",
      "[ Info: Arnoldi iteration step 15: normres = 0.08709408367315384\n",
      "[ Info: Arnoldi schursolve in iter 1, krylovdim = 15: 1 values converged, normres = (9.32e-15, 1.74e-09, 3.13e-02, 7.29e-05, 1.16e-06)\n",
      "[ Info: Arnoldi iteration step 16: normres = 0.4433687563996279\n",
      "[ Info: Arnoldi schursolve in iter 1, krylovdim = 16: 1 values converged, normres = (3.52e-15, 4.62e-09, 5.27e-02, 5.07e-04, 4.37e-01)\n",
      "[ Info: Arnoldi iteration step 17: normres = 0.030022545669115483\n",
      "[ Info: Arnoldi schursolve in iter 1, krylovdim = 17: 1 values converged, normres = (4.93e-17, 3.84e-08, 2.02e-03, 6.83e-07, 9.84e-03)\n",
      "[ Info: Arnoldi iteration step 18: normres = 0.017139727082439087\n",
      "[ Info: Arnoldi schursolve in iter 1, krylovdim = 18: 1 values converged, normres = (3.48e-19, 2.16e-05, 7.30e-06, 4.21e-09, 1.22e-04)\n",
      "[ Info: Arnoldi iteration step 19: normres = 0.18609354050926397\n",
      "[ Info: Arnoldi schursolve in iter 1, krylovdim = 19: 1 values converged, normres = (2.79e-20, 1.04e-08, 2.98e-06, 1.67e-05, 5.91e-06)\n",
      "[ Info: Arnoldi iteration step 20: normres = 0.05227060050131702\n",
      "[ Info: Arnoldi schursolve in iter 1, krylovdim = 20: 1 values converged, normres = (6.95e-22, 2.83e-08, 1.29e-07, 1.85e-08, 8.93e-07)\n",
      "[ Info: Arnoldi iteration step 21: normres = 0.034269638126217764\n",
      "[ Info: Arnoldi schursolve in iter 1, krylovdim = 21: 1 values converged, normres = (9.93e-24, 6.34e-10, 2.98e-09, 1.78e-09, 2.26e-08)\n",
      "[ Info: Arnoldi iteration step 22: normres = 0.018230689980172722\n",
      "[ Info: Arnoldi schursolve in iter 1, krylovdim = 22: 1 values converged, normres = (7.46e-26, 7.07e-12, 3.58e-11, 3.78e-11, 2.97e-10)\n",
      "[ Info: Arnoldi iteration step 23: normres = 0.39829634083393356\n",
      "[ Info: Arnoldi schursolve in iter 1, krylovdim = 23: 1 values converged, normres = (1.28e-26, 2.01e-12, 1.01e-11, 1.18e-11, 9.34e-11)\n",
      "[ Info: Arnoldi iteration step 24: normres = 0.04982052228308532\n",
      "[ Info: Arnoldi schursolve in iter 1, krylovdim = 24: 2 values converged, normres = (5.79e-28, 6.46e-13, 3.26e-12, 2.64e-10, 2.13e-09)\n",
      "[ Info: Arnoldi iteration step 25: normres = 0.0653927664847361\n",
      "[ Info: Arnoldi schursolve in iter 1, krylovdim = 25: 3 values converged, normres = (1.56e-29, 2.82e-14, 1.42e-13, 8.99e-10, 6.59e-09)\n",
      "[ Info: Arnoldi iteration step 26: normres = 0.04819370430179396\n",
      "[ Info: Arnoldi schursolve in iter 1, krylovdim = 26: 3 values converged, normres = (3.39e-31, 1.04e-15, 5.24e-15, 7.46e-05, 4.90e-05)\n",
      "[ Info: Arnoldi iteration step 27: normres = 0.026615494414567228\n",
      "[ Info: Arnoldi schursolve in iter 1, krylovdim = 27: 3 values converged, normres = (3.72e-33, 1.82e-17, 9.18e-17, 1.75e-07, 1.26e-07)\n",
      "[ Info: Arnoldi iteration step 28: normres = 0.10139143143646415\n",
      "[ Info: Arnoldi schursolve in iter 1, krylovdim = 28: 3 values converged, normres = (1.64e-34, 1.32e-18, 6.66e-18, 1.08e-07, 7.90e-08)\n",
      "[ Info: Arnoldi iteration step 29: normres = 0.04940526347815312\n",
      "[ Info: Arnoldi schursolve in iter 1, krylovdim = 29: 3 values converged, normres = (3.41e-36, 4.46e-20, 2.25e-19, 3.41e-11, 3.95e-09)\n",
      "[ Info: Arnoldi iteration step 30: normres = 0.12718120818177522\n",
      "[ Info: Arnoldi schursolve in iter 1, krylovdim = 30: 3 values converged, normres = (2.13e-37, 5.03e-21, 2.54e-20, 4.67e-12, 6.87e-10)\n",
      "[ Info: Arnoldi schursolve in iter 2, krylovdim = 19: 3 values converged, normres = (2.14e-37, 5.03e-21, 2.54e-20, 4.67e-12, 6.87e-10)\n",
      "[ Info: Arnoldi iteration step 20: normres = 0.021428380949833015\n",
      "[ Info: Arnoldi schursolve in iter 2, krylovdim = 20: 4 values converged, normres = (1.91e-39, 7.24e-23, 3.66e-22, 7.43e-14, 1.10e-11)\n",
      "[ Info: Arnoldi iteration step 21: normres = 0.027231631418333225\n",
      "┌ Info: Arnoldi eigsolve finished after 2 iterations:\n",
      "│ *  6 eigenvalues converged\n",
      "│ *  norm of residuals = (2.1301284616381926e-41, 1.2894813011628272e-24, 6.609831243853158e-24, 1.4551102241098896e-15, 2.1407921538361236e-13, 1.397798546572341e-13)\n",
      "└ *  number of operations = 32\n"
     ]
    }
   ],
   "cell_type": "code",
   "source": [
    "eigsolve(eps_fun, randn(size(scfres.ρ)), 5, :LM; eager=true, verbosity=3);"
   ],
   "metadata": {},
   "execution_count": 3
  }
 ],
 "nbformat_minor": 3,
 "metadata": {
  "language_info": {
   "file_extension": ".jl",
   "mimetype": "application/julia",
   "name": "julia",
   "version": "1.8.5"
  },
  "kernelspec": {
   "name": "julia-1.8",
   "display_name": "Julia 1.8.5",
   "language": "julia"
  }
 },
 "nbformat": 4
}
