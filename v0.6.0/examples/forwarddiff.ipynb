{
 "cells": [
  {
   "cell_type": "markdown",
   "source": [
    "# Polarizability using automatic differentiation\n",
    "\n",
    "Simple example for computing properties using (forward-mode)\n",
    "automatic differentiation.\n",
    "For a more classical approach and more details about computing polarizabilities,\n",
    "see Polarizability by linear response."
   ],
   "metadata": {}
  },
  {
   "outputs": [],
   "cell_type": "code",
   "source": [
    "using DFTK\n",
    "using LinearAlgebra\n",
    "using ForwardDiff\n",
    "\n",
    "# Construct PlaneWaveBasis given a particular electric field strength\n",
    "# Again we take the example of a Helium atom.\n",
    "function make_basis(ε::T; a=10., Ecut=30) where {T}\n",
    "    lattice=T(a) * I(3)  # lattice is a cube of $a$ Bohrs\n",
    "    # Helium at the center of the box\n",
    "    atoms     = [ElementPsp(:He, psp=load_psp(\"hgh/lda/He-q2\"))]\n",
    "    positions = [[1/2, 1/2, 1/2]]\n",
    "\n",
    "    model = model_DFT(lattice, atoms, positions, [:lda_x, :lda_c_vwn];\n",
    "                      extra_terms=[ExternalFromReal(r -> -ε * (r[1] - a/2))],\n",
    "                      symmetries=false)\n",
    "    PlaneWaveBasis(model; Ecut, kgrid=[1, 1, 1])  # No k-point sampling on isolated system\n",
    "end\n",
    "\n",
    "# dipole moment of a given density (assuming the current geometry)\n",
    "function dipole(basis, ρ)\n",
    "    @assert isdiag(basis.model.lattice)\n",
    "    a  = basis.model.lattice[1, 1]\n",
    "    rr = [a * (r[1] - 1/2) for r in r_vectors(basis)]\n",
    "    sum(rr .* ρ) * basis.dvol\n",
    "end\n",
    "\n",
    "# Function to compute the dipole for a given field strength\n",
    "function compute_dipole(ε; tol=1e-8, kwargs...)\n",
    "    scfres = self_consistent_field(make_basis(ε; kwargs...); tol)\n",
    "    dipole(scfres.basis, scfres.ρ)\n",
    "end;"
   ],
   "metadata": {},
   "execution_count": 1
  },
  {
   "cell_type": "markdown",
   "source": [
    "With this in place we can compute the polarizability from finite differences\n",
    "(just like in the previous example):"
   ],
   "metadata": {}
  },
  {
   "outputs": [
    {
     "name": "stdout",
     "output_type": "stream",
     "text": [
      "n     Energy            log10(ΔE)   log10(Δρ)   Diag\n",
      "---   ---------------   ---------   ---------   ----\n",
      "  1   -2.770783275770                   -0.53    8.0\n",
      "  2   -2.772133785020       -2.87       -1.30    1.0\n",
      "  3   -2.772169296027       -4.45       -2.63    1.0\n",
      "  4   -2.772170718607       -5.85       -3.83    2.0\n",
      "  5   -2.772170722846       -8.37       -4.40    2.0\n",
      "  6   -2.772170723009       -9.79       -5.60    1.0\n",
      "  7   -2.772170723015      -11.20       -6.00    2.0\n",
      "  8   -2.772170723015      -13.01       -6.60    1.0\n",
      "  9   -2.772170723015      -13.70       -7.27    2.0\n",
      " 10   -2.772170723015      -14.18       -7.97    1.0\n",
      " 11   -2.772170723015   +  -13.91       -8.64    2.0\n",
      "n     Energy            log10(ΔE)   log10(Δρ)   Diag\n",
      "---   ---------------   ---------   ---------   ----\n",
      "  1   -2.770748050153                   -0.53    8.0\n",
      "  2   -2.772053063272       -2.88       -1.31    1.0\n",
      "  3   -2.772082609035       -4.53       -2.55    1.0\n",
      "  4   -2.772083399043       -6.10       -3.50    2.0\n",
      "  5   -2.772083416201       -7.77       -3.93    1.0\n",
      "  6   -2.772083417621       -8.85       -4.65    1.0\n",
      "  7   -2.772083417808       -9.73       -5.21    2.0\n",
      "  8   -2.772083417810      -11.61       -6.22    1.0\n",
      "  9   -2.772083417811      -12.91       -6.84    2.0\n",
      " 10   -2.772083417811      -15.35       -7.85    1.0\n",
      " 11   -2.772083417811      -13.94       -8.26    1.0\n"
     ]
    },
    {
     "output_type": "execute_result",
     "data": {
      "text/plain": "1.773558062396603"
     },
     "metadata": {},
     "execution_count": 2
    }
   ],
   "cell_type": "code",
   "source": [
    "polarizability_fd = let\n",
    "    ε = 0.01\n",
    "    (compute_dipole(ε) - compute_dipole(0.0)) / ε\n",
    "end"
   ],
   "metadata": {},
   "execution_count": 2
  },
  {
   "cell_type": "markdown",
   "source": [
    "We do the same thing using automatic differentiation. Under the hood this uses\n",
    "custom rules to implicitly differentiate through the self-consistent\n",
    "field fixed-point problem."
   ],
   "metadata": {}
  },
  {
   "outputs": [
    {
     "name": "stdout",
     "output_type": "stream",
     "text": [
      "n     Energy            log10(ΔE)   log10(Δρ)   Diag\n",
      "---   ---------------   ---------   ---------   ----\n",
      "  1   -2.770910078195                   -0.53    9.0\n",
      "  2   -2.772061922561       -2.94       -1.32    1.0\n",
      "  3   -2.772083151598       -4.67       -2.52    1.0\n",
      "  4   -2.772083365739       -6.67       -3.31    1.0\n",
      "  5   -2.772083414684       -7.31       -3.78    2.0\n",
      "  6   -2.772083417725       -8.52       -4.89    1.0\n",
      "  7   -2.772083417809      -10.07       -5.36    2.0\n",
      "  8   -2.772083417810      -11.91       -6.18    1.0\n",
      "  9   -2.772083417811      -12.66       -6.74    2.0\n",
      " 10   -2.772083417811      -13.91       -7.52    1.0\n",
      " 11   -2.772083417811      -14.10       -8.05    2.0\n",
      "\n",
      "Polarizability via ForwardDiff:       1.772534962252541\n",
      "Polarizability via finite difference: 1.773558062396603\n"
     ]
    }
   ],
   "cell_type": "code",
   "source": [
    "polarizability = ForwardDiff.derivative(compute_dipole, 0.0)\n",
    "println()\n",
    "println(\"Polarizability via ForwardDiff:       $polarizability\")\n",
    "println(\"Polarizability via finite difference: $polarizability_fd\")"
   ],
   "metadata": {},
   "execution_count": 3
  }
 ],
 "nbformat_minor": 3,
 "metadata": {
  "language_info": {
   "file_extension": ".jl",
   "mimetype": "application/julia",
   "name": "julia",
   "version": "1.8.3"
  },
  "kernelspec": {
   "name": "julia-1.8",
   "display_name": "Julia 1.8.3",
   "language": "julia"
  }
 },
 "nbformat": 4
}
