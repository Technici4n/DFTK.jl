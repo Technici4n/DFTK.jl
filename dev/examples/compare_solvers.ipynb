{
 "cells": [
  {
   "cell_type": "markdown",
   "source": [
    "# Comparison of DFT solvers"
   ],
   "metadata": {}
  },
  {
   "cell_type": "markdown",
   "source": [
    "We compare four different approaches for solving the DFT minimisation problem,\n",
    "namely a density-based SCF, a potential-based SCF, direct minimisation and Newton."
   ],
   "metadata": {}
  },
  {
   "cell_type": "markdown",
   "source": [
    "First we setup our problem"
   ],
   "metadata": {}
  },
  {
   "outputs": [],
   "cell_type": "code",
   "source": [
    "using DFTK\n",
    "using LinearAlgebra\n",
    "\n",
    "a = 10.26  # Silicon lattice constant in Bohr\n",
    "lattice = a / 2 * [[0 1 1.];\n",
    "                   [1 0 1.];\n",
    "                   [1 1 0.]]\n",
    "Si = ElementPsp(:Si, psp=load_psp(\"hgh/lda/Si-q4\"))\n",
    "atoms     = [Si, Si]\n",
    "positions = [ones(3)/8, -ones(3)/8]\n",
    "\n",
    "model = model_LDA(lattice, atoms, positions)\n",
    "basis = PlaneWaveBasis(model; Ecut=5, kgrid=[3, 3, 3])\n",
    "\n",
    "# Convergence we desire\n",
    "tol = 1e-12\n",
    "is_converged = DFTK.ScfConvergenceDensity(tol);"
   ],
   "metadata": {},
   "execution_count": 1
  },
  {
   "cell_type": "markdown",
   "source": [
    "## Density-based self-consistent field"
   ],
   "metadata": {}
  },
  {
   "outputs": [
    {
     "name": "stdout",
     "output_type": "stream",
     "text": [
      "n     Energy            log10(ΔE)   log10(Δρ)   Diag\n",
      "---   ---------------   ---------   ---------   ----\n",
      "  1   -7.846736623807                   -0.70    4.5\n",
      "  2   -7.852303821300       -2.25       -1.53    1.0\n",
      "  3   -7.852645949830       -3.47       -2.53    3.0\n",
      "  4   -7.852646678629       -6.14       -3.36    2.8\n",
      "  5   -7.852646686065       -8.13       -4.80    1.0\n",
      "  6   -7.852646686725       -9.18       -5.25    4.2\n",
      "  7   -7.852646686730      -11.32       -6.02    2.0\n",
      "  8   -7.852646686730      -12.69       -7.53    1.8\n",
      "  9   -7.852646686730      -15.05       -7.88    2.2\n",
      " 10   -7.852646686730      -14.57       -8.55    1.0\n",
      " 11   -7.852646686730   +    -Inf       -9.39    3.2\n",
      " 12   -7.852646686730   +    -Inf       -9.01    1.0\n",
      " 13   -7.852646686730   +  -14.27       -8.87    1.0\n",
      " 14   -7.852646686730      -14.45       -8.81    1.0\n",
      " 15   -7.852646686730   +  -14.75       -9.44    1.0\n",
      " 16   -7.852646686730      -14.45       -9.14    1.0\n",
      " 17   -7.852646686730   +  -14.57      -10.81    1.0\n",
      " 18   -7.852646686730   +  -14.57      -10.60    1.0\n",
      " 19   -7.852646686730      -14.45      -10.64    1.0\n",
      " 20   -7.852646686730   +    -Inf      -11.83    1.2\n",
      " 21   -7.852646686730      -14.75      -12.31    2.2\n"
     ]
    }
   ],
   "cell_type": "code",
   "source": [
    "scfres_scf = self_consistent_field(basis; is_converged);"
   ],
   "metadata": {},
   "execution_count": 2
  },
  {
   "cell_type": "markdown",
   "source": [
    "## Potential-based SCF"
   ],
   "metadata": {}
  },
  {
   "outputs": [
    {
     "name": "stdout",
     "output_type": "stream",
     "text": [
      "n     Energy            log10(ΔE)   log10(Δρ)   α      Diag\n",
      "---   ---------------   ---------   ---------   ----   ----\n",
      "  1   -7.846728065981                   -0.70           4.8\n",
      "  2   -7.852525173378       -2.24       -1.63   0.80    2.0\n",
      "  3   -7.852637009199       -3.95       -2.70   0.80    1.0\n",
      "  4   -7.852646424906       -5.03       -3.30   0.80    2.2\n",
      "  5   -7.852646677875       -6.60       -4.10   0.80    1.5\n",
      "  6   -7.852646686477       -8.07       -4.70   0.80    1.5\n",
      "  7   -7.852646686721       -9.61       -5.61   0.80    1.2\n",
      "  8   -7.852646686730      -11.06       -6.45   0.80    2.0\n",
      "  9   -7.852646686730      -12.70       -7.45   0.80    1.8\n",
      " 10   -7.852646686730      -14.27       -8.48   0.80    2.0\n",
      " 11   -7.852646686730      -14.75       -9.15   0.80    1.8\n",
      " 12   -7.852646686730   +  -14.45       -9.73   0.80    1.8\n",
      " 13   -7.852646686730   +    -Inf      -10.58   0.80    2.2\n",
      " 14   -7.852646686730   +  -15.05      -11.83   0.80    2.2\n",
      " 15   -7.852646686730      -15.05      -12.00   0.80    2.8\n"
     ]
    }
   ],
   "cell_type": "code",
   "source": [
    "scfres_scfv = DFTK.scf_potential_mixing(basis; is_converged);"
   ],
   "metadata": {},
   "execution_count": 3
  },
  {
   "cell_type": "markdown",
   "source": [
    "## Direct minimization"
   ],
   "metadata": {}
  },
  {
   "outputs": [
    {
     "name": "stdout",
     "output_type": "stream",
     "text": [
      "Iter     Function value   Gradient norm \n",
      "     0     1.382746e+01     3.530947e+00\n",
      " * time: 0.5062541961669922\n",
      "     1     1.173781e+00     1.980115e+00\n",
      " * time: 0.71563720703125\n",
      "     2    -1.642220e+00     2.311241e+00\n",
      " * time: 0.7424840927124023\n",
      "     3    -3.990369e+00     2.018864e+00\n",
      " * time: 0.7805020809173584\n",
      "     4    -5.290798e+00     1.904194e+00\n",
      " * time: 0.8184812068939209\n",
      "     5    -6.905898e+00     1.068103e+00\n",
      " * time: 0.8572371006011963\n",
      "     6    -6.972481e+00     2.186421e+00\n",
      " * time: 0.8836960792541504\n",
      "     7    -7.540171e+00     1.962677e+00\n",
      " * time: 0.910006046295166\n",
      "     8    -7.599818e+00     3.441565e+00\n",
      " * time: 0.9362561702728271\n",
      "     9    -7.664461e+00     1.106168e+00\n",
      " * time: 0.9743361473083496\n",
      "    10    -7.703325e+00     5.990561e-01\n",
      " * time: 1.0318682193756104\n",
      "    11    -7.774785e+00     6.420904e-01\n",
      " * time: 1.0585901737213135\n",
      "    12    -7.796587e+00     8.410452e-02\n",
      " * time: 1.0850391387939453\n",
      "    13    -7.810985e+00     9.301242e-02\n",
      " * time: 1.1114380359649658\n",
      "    14    -7.836329e+00     1.283126e-01\n",
      " * time: 1.137794017791748\n",
      "    15    -7.845250e+00     4.221261e-02\n",
      " * time: 1.1644740104675293\n",
      "    16    -7.850015e+00     3.016092e-02\n",
      " * time: 1.1910011768341064\n",
      "    17    -7.851821e+00     3.368324e-02\n",
      " * time: 1.217867136001587\n",
      "    18    -7.852402e+00     1.574779e-02\n",
      " * time: 1.244621992111206\n",
      "    19    -7.852606e+00     6.235774e-03\n",
      " * time: 1.2719700336456299\n",
      "    20    -7.852637e+00     3.493509e-03\n",
      " * time: 1.2985851764678955\n",
      "    21    -7.852643e+00     1.165294e-03\n",
      " * time: 1.3250551223754883\n",
      "    22    -7.852645e+00     7.373977e-04\n",
      " * time: 1.351356029510498\n",
      "    23    -7.852646e+00     5.408741e-04\n",
      " * time: 1.3783090114593506\n",
      "    24    -7.852647e+00     2.963081e-04\n",
      " * time: 1.4047651290893555\n",
      "    25    -7.852647e+00     1.916525e-04\n",
      " * time: 1.4313220977783203\n",
      "    26    -7.852647e+00     6.771499e-05\n",
      " * time: 1.45766019821167\n",
      "    27    -7.852647e+00     4.803052e-05\n",
      " * time: 1.484354019165039\n",
      "    28    -7.852647e+00     2.667567e-05\n",
      " * time: 1.5106921195983887\n",
      "    29    -7.852647e+00     1.460141e-05\n",
      " * time: 1.5377230644226074\n",
      "    30    -7.852647e+00     1.016166e-05\n",
      " * time: 1.5639581680297852\n",
      "    31    -7.852647e+00     7.683128e-06\n",
      " * time: 1.5904541015625\n",
      "    32    -7.852647e+00     5.349415e-06\n",
      " * time: 1.6169390678405762\n",
      "    33    -7.852647e+00     2.261864e-06\n",
      " * time: 1.6435232162475586\n",
      "    34    -7.852647e+00     1.312390e-06\n",
      " * time: 1.6701371669769287\n",
      "    35    -7.852647e+00     1.123793e-06\n",
      " * time: 1.6970691680908203\n",
      "    36    -7.852647e+00     4.913208e-07\n",
      " * time: 1.7236101627349854\n",
      "    37    -7.852647e+00     2.375328e-07\n",
      " * time: 1.7500121593475342\n",
      "    38    -7.852647e+00     1.263540e-07\n",
      " * time: 1.7764861583709717\n",
      "    39    -7.852647e+00     7.804668e-08\n",
      " * time: 1.8470401763916016\n",
      "    40    -7.852647e+00     5.615113e-08\n",
      " * time: 1.8733901977539062\n",
      "    41    -7.852647e+00     2.697534e-08\n",
      " * time: 1.8996951580047607\n",
      "    42    -7.852647e+00     1.882672e-08\n",
      " * time: 1.925896167755127\n",
      "    43    -7.852647e+00     1.058368e-08\n",
      " * time: 1.9524140357971191\n"
     ]
    }
   ],
   "cell_type": "code",
   "source": [
    "scfres_dm = direct_minimization(basis; tol);"
   ],
   "metadata": {},
   "execution_count": 4
  },
  {
   "cell_type": "markdown",
   "source": [
    "## Newton algorithm"
   ],
   "metadata": {}
  },
  {
   "cell_type": "markdown",
   "source": [
    "Start not too far from the solution to ensure convergence:\n",
    "We run first a very crude SCF to get close and then switch to Newton."
   ],
   "metadata": {}
  },
  {
   "outputs": [
    {
     "name": "stdout",
     "output_type": "stream",
     "text": [
      "n     Energy            log10(ΔE)   log10(Δρ)   Diag\n",
      "---   ---------------   ---------   ---------   ----\n",
      "  1   -7.846862472936                   -0.70    4.5\n",
      "  2   -7.852315812093       -2.26       -1.53    1.0\n"
     ]
    }
   ],
   "cell_type": "code",
   "source": [
    "scfres_start = self_consistent_field(basis; tol=1e-1);"
   ],
   "metadata": {},
   "execution_count": 5
  },
  {
   "cell_type": "markdown",
   "source": [
    "Remove the virtual orbitals (which Newton cannot treat yet)"
   ],
   "metadata": {}
  },
  {
   "outputs": [
    {
     "name": "stdout",
     "output_type": "stream",
     "text": [
      "n     Energy            log10(ΔE)   log10(Δρ)\n",
      "---   ---------------   ---------   ---------\n",
      "  1   -7.852646686680                   -2.55\n",
      "  2   -7.852646686730      -10.31       -5.87\n",
      "  3   -7.852646686730   +  -14.45      -12.09\n"
     ]
    }
   ],
   "cell_type": "code",
   "source": [
    "ψ = DFTK.select_occupied_orbitals(basis, scfres_start.ψ, scfres_start.occupation).ψ\n",
    "scfres_newton = newton(basis, ψ; tol);"
   ],
   "metadata": {},
   "execution_count": 6
  },
  {
   "cell_type": "markdown",
   "source": [
    "## Comparison of results"
   ],
   "metadata": {}
  },
  {
   "outputs": [
    {
     "name": "stdout",
     "output_type": "stream",
     "text": [
      "|ρ_newton - ρ_scf|  = 2.49374722865254e-13\n",
      "|ρ_newton - ρ_scfv| = 2.742461740982124e-13\n",
      "|ρ_newton - ρ_dm|   = 8.668504826270394e-10\n"
     ]
    }
   ],
   "cell_type": "code",
   "source": [
    "println(\"|ρ_newton - ρ_scf|  = \", norm(scfres_newton.ρ - scfres_scf.ρ))\n",
    "println(\"|ρ_newton - ρ_scfv| = \", norm(scfres_newton.ρ - scfres_scfv.ρ))\n",
    "println(\"|ρ_newton - ρ_dm|   = \", norm(scfres_newton.ρ - scfres_dm.ρ))"
   ],
   "metadata": {},
   "execution_count": 7
  }
 ],
 "nbformat_minor": 3,
 "metadata": {
  "language_info": {
   "file_extension": ".jl",
   "mimetype": "application/julia",
   "name": "julia",
   "version": "1.8.3"
  },
  "kernelspec": {
   "name": "julia-1.8",
   "display_name": "Julia 1.8.3",
   "language": "julia"
  }
 },
 "nbformat": 4
}
