{
 "cells": [
  {
   "cell_type": "markdown",
   "source": [
    "# Polarizability using automatic differentiation\n",
    "\n",
    "Simple example for computing properties using (forward-mode)\n",
    "automatic differentiation.\n",
    "For a more classical approach and more details about computing polarizabilities,\n",
    "see Polarizability by linear response."
   ],
   "metadata": {}
  },
  {
   "outputs": [],
   "cell_type": "code",
   "source": [
    "using DFTK\n",
    "using LinearAlgebra\n",
    "using ForwardDiff\n",
    "\n",
    "# Construct PlaneWaveBasis given a particular electric field strength\n",
    "# Again we take the example of a Helium atom.\n",
    "function make_basis(ε::T; a=10., Ecut=30) where {T}\n",
    "    lattice=T(a) * I(3)  # lattice is a cube of $a$ Bohrs\n",
    "    # Helium at the center of the box\n",
    "    atoms     = [ElementPsp(:He, psp=load_psp(\"hgh/lda/He-q2\"))]\n",
    "    positions = [[1/2, 1/2, 1/2]]\n",
    "\n",
    "    model = model_DFT(lattice, atoms, positions, [:lda_x, :lda_c_vwn];\n",
    "                      extra_terms=[ExternalFromReal(r -> -ε * (r[1] - a/2))],\n",
    "                      symmetries=false)\n",
    "    PlaneWaveBasis(model; Ecut, kgrid=[1, 1, 1])  # No k-point sampling on isolated system\n",
    "end\n",
    "\n",
    "# dipole moment of a given density (assuming the current geometry)\n",
    "function dipole(basis, ρ)\n",
    "    @assert isdiag(basis.model.lattice)\n",
    "    a  = basis.model.lattice[1, 1]\n",
    "    rr = [a * (r[1] - 1/2) for r in r_vectors(basis)]\n",
    "    sum(rr .* ρ) * basis.dvol\n",
    "end\n",
    "\n",
    "# Function to compute the dipole for a given field strength\n",
    "function compute_dipole(ε; tol=1e-8, kwargs...)\n",
    "    scfres = self_consistent_field(make_basis(ε; kwargs...); tol)\n",
    "    dipole(scfres.basis, scfres.ρ)\n",
    "end;"
   ],
   "metadata": {},
   "execution_count": 1
  },
  {
   "cell_type": "markdown",
   "source": [
    "With this in place we can compute the polarizability from finite differences\n",
    "(just like in the previous example):"
   ],
   "metadata": {}
  },
  {
   "outputs": [
    {
     "name": "stdout",
     "output_type": "stream",
     "text": [
      "n     Energy            log10(ΔE)   log10(Δρ)   Diag   Δtime\n",
      "---   ---------------   ---------   ---------   ----   ------\n",
      "  1   -2.770657462207                   -0.53    8.0         \n",
      "  2   -2.772133372050       -2.83       -1.30    1.0    175ms\n",
      "  3   -2.772169066506       -4.45       -2.67    1.0    192ms\n",
      "  4   -2.772170719097       -5.78       -3.90    2.0    193ms\n",
      "  5   -2.772170722884       -8.42       -4.45    2.0    207ms\n",
      "  6   -2.772170723008       -9.91       -5.30    1.0    205ms\n",
      "  7   -2.772170723015      -11.17       -5.94    2.0    204ms\n",
      "  8   -2.772170723015      -12.97       -6.54    1.0    215ms\n",
      "  9   -2.772170723015      -14.05       -7.66    2.0    229ms\n",
      " 10   -2.772170723015      -14.35       -7.92    2.0    246ms\n",
      " 11   -2.772170723015   +    -Inf       -9.07    1.0    185ms\n",
      "n     Energy            log10(ΔE)   log10(Δρ)   Diag   Δtime\n",
      "---   ---------------   ---------   ---------   ----   ------\n",
      "  1   -2.770795739561                   -0.52    9.0         \n",
      "  2   -2.772059440584       -2.90       -1.32    1.0    162ms\n",
      "  3   -2.772083103146       -4.63       -2.48    1.0    187ms\n",
      "  4   -2.772083350626       -6.61       -3.20    1.0    172ms\n",
      "  5   -2.772083415056       -7.19       -3.80    2.0    228ms\n",
      "  6   -2.772083417717       -8.58       -4.86    1.0    185ms\n",
      "  7   -2.772083417807      -10.04       -5.22    2.0    213ms\n",
      "  8   -2.772083417810      -11.55       -5.94    1.0    206ms\n",
      "  9   -2.772083417811      -12.42       -6.67    2.0    232ms\n",
      " 10   -2.772083417811   +  -14.65       -7.13    1.0    219ms\n",
      " 11   -2.772083417811      -13.68       -8.27    2.0    231ms\n"
     ]
    },
    {
     "output_type": "execute_result",
     "data": {
      "text/plain": "1.7735579981995528"
     },
     "metadata": {},
     "execution_count": 2
    }
   ],
   "cell_type": "code",
   "source": [
    "polarizability_fd = let\n",
    "    ε = 0.01\n",
    "    (compute_dipole(ε) - compute_dipole(0.0)) / ε\n",
    "end"
   ],
   "metadata": {},
   "execution_count": 2
  },
  {
   "cell_type": "markdown",
   "source": [
    "We do the same thing using automatic differentiation. Under the hood this uses\n",
    "custom rules to implicitly differentiate through the self-consistent\n",
    "field fixed-point problem."
   ],
   "metadata": {}
  },
  {
   "outputs": [
    {
     "name": "stdout",
     "output_type": "stream",
     "text": [
      "n     Energy            log10(ΔE)   log10(Δρ)   Diag   Δtime\n",
      "---   ---------------   ---------   ---------   ----   ------\n",
      "  1   -2.770721209780                   -0.53    8.0         \n",
      "  2   -2.772050161346       -2.88       -1.31    1.0    162ms\n",
      "  3   -2.772082555796       -4.49       -2.60    1.0    222ms\n",
      "  4   -2.772083412630       -6.07       -3.84    2.0    206ms\n",
      "  5   -2.772083417213       -8.34       -4.14    2.0    209ms\n",
      "  6   -2.772083417799       -9.23       -5.48    1.0    235ms\n",
      "  7   -2.772083417810      -10.93       -5.96    2.0    192ms\n",
      "  8   -2.772083417811      -12.98       -6.77    1.0    174ms\n",
      "  9   -2.772083417811      -14.88       -7.56    2.0    242ms\n",
      " 10   -2.772083417811      -13.95       -7.69    2.0    225ms\n",
      " 11   -2.772083417811      -14.24       -9.06    1.0    216ms\n",
      "\n",
      "Polarizability via ForwardDiff:       1.7725349718014076\n",
      "Polarizability via finite difference: 1.7735579981995528\n"
     ]
    }
   ],
   "cell_type": "code",
   "source": [
    "polarizability = ForwardDiff.derivative(compute_dipole, 0.0)\n",
    "println()\n",
    "println(\"Polarizability via ForwardDiff:       $polarizability\")\n",
    "println(\"Polarizability via finite difference: $polarizability_fd\")"
   ],
   "metadata": {},
   "execution_count": 3
  }
 ],
 "nbformat_minor": 3,
 "metadata": {
  "language_info": {
   "file_extension": ".jl",
   "mimetype": "application/julia",
   "name": "julia",
   "version": "1.9.2"
  },
  "kernelspec": {
   "name": "julia-1.9",
   "display_name": "Julia 1.9.2",
   "language": "julia"
  }
 },
 "nbformat": 4
}
