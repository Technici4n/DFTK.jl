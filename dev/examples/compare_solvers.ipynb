{
 "cells": [
  {
   "cell_type": "markdown",
   "source": [
    "# Comparison of DFT solvers"
   ],
   "metadata": {}
  },
  {
   "cell_type": "markdown",
   "source": [
    "We compare four different approaches for solving the DFT minimisation problem,\n",
    "namely a density-based SCF, a potential-based SCF, direct minimisation and Newton."
   ],
   "metadata": {}
  },
  {
   "cell_type": "markdown",
   "source": [
    "First we setup our problem"
   ],
   "metadata": {}
  },
  {
   "outputs": [
    {
     "output_type": "execute_result",
     "data": {
      "text/plain": "1.0e-6"
     },
     "metadata": {},
     "execution_count": 1
    }
   ],
   "cell_type": "code",
   "source": [
    "using DFTK\n",
    "using LinearAlgebra\n",
    "\n",
    "a = 10.26  # Silicon lattice constant in Bohr\n",
    "lattice = a / 2 * [[0 1 1.];\n",
    "                   [1 0 1.];\n",
    "                   [1 1 0.]]\n",
    "Si = ElementPsp(:Si, psp=load_psp(\"hgh/lda/Si-q4\"))\n",
    "atoms     = [Si, Si]\n",
    "positions = [ones(3)/8, -ones(3)/8]\n",
    "\n",
    "model = model_LDA(lattice, atoms, positions)\n",
    "basis = PlaneWaveBasis(model; Ecut=5, kgrid=[3, 3, 3])\n",
    "\n",
    "# Convergence we desire in the density\n",
    "tol = 1e-6"
   ],
   "metadata": {},
   "execution_count": 1
  },
  {
   "cell_type": "markdown",
   "source": [
    "## Density-based self-consistent field"
   ],
   "metadata": {}
  },
  {
   "outputs": [
    {
     "name": "stdout",
     "output_type": "stream",
     "text": [
      "n     Energy            log10(ΔE)   log10(Δρ)   Diag\n",
      "---   ---------------   ---------   ---------   ----\n",
      "  1   -7.846780565437                   -0.70    4.5\n",
      "  2   -7.852307089080       -2.26       -1.53    1.0\n",
      "  3   -7.852613568499       -3.51       -2.55    1.5\n",
      "  4   -7.852645805798       -4.49       -2.86    2.8\n",
      "  5   -7.852646459403       -6.18       -3.14    1.0\n",
      "  6   -7.852646677780       -6.66       -4.11    1.0\n",
      "  7   -7.852646686579       -8.06       -4.88    2.0\n",
      "  8   -7.852646686723       -9.84       -5.53    1.5\n",
      "  9   -7.852646686729      -11.21       -5.93    1.5\n",
      " 10   -7.852646686730      -12.23       -6.96    1.0\n"
     ]
    }
   ],
   "cell_type": "code",
   "source": [
    "scfres_scf = self_consistent_field(basis; tol);"
   ],
   "metadata": {},
   "execution_count": 2
  },
  {
   "cell_type": "markdown",
   "source": [
    "## Potential-based SCF"
   ],
   "metadata": {}
  },
  {
   "outputs": [
    {
     "name": "stdout",
     "output_type": "stream",
     "text": [
      "n     Energy            log10(ΔE)   log10(Δρ)   α      Diag\n",
      "---   ---------------   ---------   ---------   ----   ----\n",
      "  1   -7.846872003394                   -0.70           4.5\n",
      "  2   -7.852527932448       -2.25       -1.63   0.80    2.0\n",
      "  3   -7.852637413508       -3.96       -2.71   0.80    1.0\n",
      "  4   -7.852646445346       -5.04       -3.30   0.80    2.0\n",
      "  5   -7.852646667008       -6.65       -4.09   0.80    1.0\n",
      "  6   -7.852646686458       -7.71       -4.66   0.80    2.2\n",
      "  7   -7.852646686726       -9.57       -5.46   0.80    1.5\n",
      "  8   -7.852646686730      -11.46       -6.73   0.80    1.8\n"
     ]
    }
   ],
   "cell_type": "code",
   "source": [
    "scfres_scfv = DFTK.scf_potential_mixing(basis; tol);"
   ],
   "metadata": {},
   "execution_count": 3
  },
  {
   "cell_type": "markdown",
   "source": [
    "## Direct minimization\n",
    "Note: Unlike the other algorithms, tolerance for this one is in the energy,\n",
    "thus we square the density tolerance value to be roughly equivalent."
   ],
   "metadata": {}
  },
  {
   "outputs": [
    {
     "name": "stdout",
     "output_type": "stream",
     "text": [
      "Iter     Function value   Gradient norm \n",
      "     0     1.393172e+01     3.489963e+00\n",
      " * time: 0.4359889030456543\n",
      "     1     1.006765e+00     1.787797e+00\n",
      " * time: 0.63714599609375\n",
      "     2    -1.218206e+00     2.075597e+00\n",
      " * time: 0.6638948917388916\n",
      "     3    -3.599640e+00     1.886257e+00\n",
      " * time: 0.7020909786224365\n",
      "     4    -4.475754e+00     1.806459e+00\n",
      " * time: 0.7403469085693359\n",
      "     5    -6.446152e+00     1.296440e+00\n",
      " * time: 0.7784478664398193\n",
      "     6    -7.197312e+00     8.198472e-01\n",
      " * time: 0.8168320655822754\n",
      "     7    -7.475116e+00     8.242275e-01\n",
      " * time: 0.8433098793029785\n",
      "     8    -7.692006e+00     5.061305e-01\n",
      " * time: 0.869891881942749\n",
      "     9    -7.775580e+00     3.006914e-01\n",
      " * time: 0.8963210582733154\n",
      "    10    -7.812844e+00     8.452223e-02\n",
      " * time: 0.922882080078125\n",
      "    11    -7.830136e+00     1.475323e-01\n",
      " * time: 0.9494779109954834\n",
      "    12    -7.840010e+00     8.966894e-02\n",
      " * time: 0.9761040210723877\n",
      "    13    -7.848751e+00     2.956687e-02\n",
      " * time: 1.0026800632476807\n",
      "    14    -7.851488e+00     1.913825e-02\n",
      " * time: 1.029453992843628\n",
      "    15    -7.852255e+00     1.058296e-02\n",
      " * time: 1.0557889938354492\n",
      "    16    -7.852488e+00     5.912006e-03\n",
      " * time: 1.0825989246368408\n",
      "    17    -7.852588e+00     4.515187e-03\n",
      " * time: 1.1091220378875732\n",
      "    18    -7.852626e+00     3.651308e-03\n",
      " * time: 1.13565993309021\n",
      "    19    -7.852640e+00     1.081874e-03\n",
      " * time: 1.1620190143585205\n",
      "    20    -7.852644e+00     8.802898e-04\n",
      " * time: 1.1886050701141357\n",
      "    21    -7.852646e+00     4.037333e-04\n",
      " * time: 1.2155919075012207\n",
      "    22    -7.852646e+00     2.629401e-04\n",
      " * time: 1.2421610355377197\n",
      "    23    -7.852647e+00     2.211373e-04\n",
      " * time: 1.2685399055480957\n",
      "    24    -7.852647e+00     9.138196e-05\n",
      " * time: 1.2953338623046875\n",
      "    25    -7.852647e+00     4.564091e-05\n",
      " * time: 1.321781873703003\n",
      "    26    -7.852647e+00     2.838609e-05\n",
      " * time: 1.3482739925384521\n",
      "    27    -7.852647e+00     1.690251e-05\n",
      " * time: 1.3746249675750732\n",
      "    28    -7.852647e+00     1.332984e-05\n",
      " * time: 1.4010059833526611\n",
      "    29    -7.852647e+00     5.909771e-06\n",
      " * time: 1.4276988506317139\n",
      "    30    -7.852647e+00     3.409880e-06\n",
      " * time: 1.4544060230255127\n",
      "    31    -7.852647e+00     2.002711e-06\n",
      " * time: 1.4808690547943115\n",
      "    32    -7.852647e+00     1.173275e-06\n",
      " * time: 1.5073790550231934\n",
      "    33    -7.852647e+00     7.325384e-07\n",
      " * time: 1.5338969230651855\n",
      "    34    -7.852647e+00     3.227667e-07\n",
      " * time: 1.5606870651245117\n",
      "    35    -7.852647e+00     2.298537e-07\n",
      " * time: 1.5870020389556885\n",
      "    36    -7.852647e+00     1.524804e-07\n",
      " * time: 1.6133880615234375\n",
      "    37    -7.852647e+00     6.949802e-08\n",
      " * time: 1.6399669647216797\n",
      "    38    -7.852647e+00     4.708825e-08\n",
      " * time: 1.666450023651123\n",
      "    39    -7.852647e+00     2.673706e-08\n",
      " * time: 1.692760944366455\n",
      "    40    -7.852647e+00     1.437535e-08\n",
      " * time: 1.7193820476531982\n"
     ]
    }
   ],
   "cell_type": "code",
   "source": [
    "scfres_dm = direct_minimization(basis; tol=tol^2);"
   ],
   "metadata": {},
   "execution_count": 4
  },
  {
   "cell_type": "markdown",
   "source": [
    "## Newton algorithm"
   ],
   "metadata": {}
  },
  {
   "cell_type": "markdown",
   "source": [
    "Start not too far from the solution to ensure convergence:\n",
    "We run first a very crude SCF to get close and then switch to Newton."
   ],
   "metadata": {}
  },
  {
   "outputs": [
    {
     "name": "stdout",
     "output_type": "stream",
     "text": [
      "n     Energy            log10(ΔE)   log10(Δρ)   Diag\n",
      "---   ---------------   ---------   ---------   ----\n",
      "  1   -7.846861438340                   -0.70    4.8\n"
     ]
    }
   ],
   "cell_type": "code",
   "source": [
    "scfres_start = self_consistent_field(basis; tol=0.5);"
   ],
   "metadata": {},
   "execution_count": 5
  },
  {
   "cell_type": "markdown",
   "source": [
    "Remove the virtual orbitals (which Newton cannot treat yet)"
   ],
   "metadata": {}
  },
  {
   "outputs": [
    {
     "name": "stdout",
     "output_type": "stream",
     "text": [
      "n     Energy            log10(ΔE)   log10(Δρ)\n",
      "---   ---------------   ---------   ---------\n",
      "  1   -7.852645890319                   -1.64\n",
      "  2   -7.852646686730       -6.10       -3.70\n",
      "  3   -7.852646686730      -13.29       -7.24\n"
     ]
    }
   ],
   "cell_type": "code",
   "source": [
    "ψ = DFTK.select_occupied_orbitals(basis, scfres_start.ψ, scfres_start.occupation).ψ\n",
    "scfres_newton = newton(basis, ψ; tol);"
   ],
   "metadata": {},
   "execution_count": 6
  },
  {
   "cell_type": "markdown",
   "source": [
    "## Comparison of results"
   ],
   "metadata": {}
  },
  {
   "outputs": [
    {
     "name": "stdout",
     "output_type": "stream",
     "text": [
      "|ρ_newton - ρ_scf|  = 4.3327423659784e-8\n",
      "|ρ_newton - ρ_scfv| = 1.6238220812091434e-7\n",
      "|ρ_newton - ρ_dm|   = 2.346630041340683e-9\n"
     ]
    }
   ],
   "cell_type": "code",
   "source": [
    "println(\"|ρ_newton - ρ_scf|  = \", norm(scfres_newton.ρ - scfres_scf.ρ))\n",
    "println(\"|ρ_newton - ρ_scfv| = \", norm(scfres_newton.ρ - scfres_scfv.ρ))\n",
    "println(\"|ρ_newton - ρ_dm|   = \", norm(scfres_newton.ρ - scfres_dm.ρ))"
   ],
   "metadata": {},
   "execution_count": 7
  }
 ],
 "nbformat_minor": 3,
 "metadata": {
  "language_info": {
   "file_extension": ".jl",
   "mimetype": "application/julia",
   "name": "julia",
   "version": "1.8.3"
  },
  "kernelspec": {
   "name": "julia-1.8",
   "display_name": "Julia 1.8.3",
   "language": "julia"
  }
 },
 "nbformat": 4
}
