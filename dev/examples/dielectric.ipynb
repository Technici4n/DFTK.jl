{
 "cells": [
  {
   "cell_type": "markdown",
   "source": [
    "# Eigenvalues of the dielectric matrix\n",
    "\n",
    "We compute a few eigenvalues of the dielectric matrix ($q=0$, $ω=0$) iteratively."
   ],
   "metadata": {}
  },
  {
   "outputs": [
    {
     "name": "stdout",
     "output_type": "stream",
     "text": [
      "n     Energy            log10(ΔE)   log10(Δρ)   Diag   Δtime\n",
      "---   ---------------   ---------   ---------   ----   ------\n",
      "  1   -7.235117250637                   -0.50    8.0         \n",
      "  2   -7.250190596770       -1.82       -1.39    1.0   9.12ms\n",
      "  3   -7.251224163777       -2.99       -2.15    2.0   10.9ms\n",
      "  4   -7.251290101294       -4.18       -2.25    3.0   13.2ms\n",
      "  5   -7.251330274876       -4.40       -2.69    1.0   9.50ms\n",
      "  6   -7.251337499824       -5.14       -3.08    1.0   9.38ms\n",
      "  7   -7.251338724203       -5.91       -3.75    1.0   9.49ms\n",
      "  8   -7.251338791564       -7.17       -4.18    2.0   11.1ms\n",
      "  9   -7.251338798330       -8.17       -4.78    2.0   11.8ms\n",
      " 10   -7.251338798688       -9.45       -5.39    2.0   11.8ms\n",
      " 11   -7.251338798702      -10.84       -5.87    2.0   11.3ms\n",
      " 12   -7.251338798704      -11.78       -6.19    1.0   9.26ms\n",
      " 13   -7.251338798704      -12.24       -6.91    2.0   11.2ms\n",
      " 14   -7.251338798705      -13.39       -7.40    3.0   12.9ms\n",
      " 15   -7.251338798705      -15.05       -8.00    2.0   11.6ms\n"
     ]
    }
   ],
   "cell_type": "code",
   "source": [
    "using DFTK\n",
    "using Plots\n",
    "using KrylovKit\n",
    "using Printf\n",
    "\n",
    "# Calculation parameters\n",
    "kgrid = [1, 1, 1]\n",
    "Ecut = 5\n",
    "\n",
    "# Silicon lattice\n",
    "a = 10.26\n",
    "lattice = a / 2 .* [[0 1 1.]; [1 0 1.]; [1 1 0.]]\n",
    "Si = ElementPsp(:Si, psp=load_psp(\"hgh/lda/Si-q4\"))\n",
    "atoms     = [Si, Si]\n",
    "positions = [ones(3)/8, -ones(3)/8]\n",
    "\n",
    "# Compute the dielectric operator without symmetries\n",
    "model  = model_LDA(lattice, atoms, positions, symmetries=false)\n",
    "basis  = PlaneWaveBasis(model; Ecut, kgrid)\n",
    "scfres = self_consistent_field(basis, tol=1e-8);"
   ],
   "metadata": {},
   "execution_count": 1
  },
  {
   "cell_type": "markdown",
   "source": [
    "Applying $ε^† ≔ (1- χ_0 K)$ …"
   ],
   "metadata": {}
  },
  {
   "outputs": [],
   "cell_type": "code",
   "source": [
    "function eps_fun(δρ)\n",
    "    δV = apply_kernel(basis, δρ; ρ=scfres.ρ)\n",
    "    χ0δV = apply_χ0(scfres, δV)\n",
    "    δρ - χ0δV\n",
    "end;"
   ],
   "metadata": {},
   "execution_count": 2
  },
  {
   "cell_type": "markdown",
   "source": [
    "… eagerly diagonalizes the subspace matrix at each iteration"
   ],
   "metadata": {}
  },
  {
   "outputs": [
    {
     "name": "stdout",
     "output_type": "stream",
     "text": [
      "[ Info: Arnoldi iteration step 1: normres = 0.08106952330203646\n",
      "[ Info: Arnoldi iteration step 2: normres = 0.5924007478557886\n",
      "[ Info: Arnoldi iteration step 3: normres = 0.6666319876176388\n",
      "[ Info: Arnoldi iteration step 4: normres = 0.23194656987015\n",
      "[ Info: Arnoldi iteration step 5: normres = 0.5101860899868604\n",
      "[ Info: Arnoldi schursolve in iter 1, krylovdim = 5: 0 values converged, normres = (1.33e-02, 6.59e-02, 3.76e-01, 3.37e-01, 3.02e-02)\n",
      "[ Info: Arnoldi iteration step 6: normres = 0.3183513287366025\n",
      "[ Info: Arnoldi schursolve in iter 1, krylovdim = 6: 0 values converged, normres = (3.79e-03, 2.14e-01, 1.97e-01, 9.41e-02, 5.09e-02)\n",
      "[ Info: Arnoldi iteration step 7: normres = 0.0650789564172651\n",
      "[ Info: Arnoldi schursolve in iter 1, krylovdim = 7: 0 values converged, normres = (1.22e-04, 1.36e-02, 8.04e-03, 2.95e-02, 5.20e-02)\n",
      "[ Info: Arnoldi iteration step 8: normres = 0.12026901692848052\n",
      "[ Info: Arnoldi schursolve in iter 1, krylovdim = 8: 0 values converged, normres = (6.39e-06, 1.18e-03, 7.68e-04, 1.18e-02, 4.85e-02)\n",
      "[ Info: Arnoldi iteration step 9: normres = 0.06786357715982569\n",
      "[ Info: Arnoldi schursolve in iter 1, krylovdim = 9: 0 values converged, normres = (1.87e-07, 5.69e-05, 4.13e-05, 2.96e-03, 3.00e-02)\n",
      "[ Info: Arnoldi iteration step 10: normres = 0.08127642375672275\n",
      "[ Info: Arnoldi schursolve in iter 1, krylovdim = 10: 0 values converged, normres = (6.77e-09, 3.45e-06, 2.79e-06, 9.81e-04, 2.58e-02)\n",
      "[ Info: Arnoldi iteration step 11: normres = 0.07804580975264411\n",
      "[ Info: Arnoldi schursolve in iter 1, krylovdim = 11: 0 values converged, normres = (2.23e-10, 1.85e-07, 1.65e-07, 2.22e-04, 1.16e-02)\n",
      "[ Info: Arnoldi iteration step 12: normres = 0.05725514219570259\n",
      "[ Info: Arnoldi schursolve in iter 1, krylovdim = 12: 0 values converged, normres = (5.51e-12, 7.49e-09, 7.45e-09, 4.06e-05, 4.28e-03)\n",
      "[ Info: Arnoldi iteration step 13: normres = 0.36061349151290195\n",
      "[ Info: Arnoldi schursolve in iter 1, krylovdim = 13: 1 values converged, normres = (8.72e-13, 1.97e-09, 2.18e-09, 5.23e-05, 1.22e-02)\n",
      "[ Info: Arnoldi iteration step 14: normres = 0.13130549518632595\n",
      "[ Info: Arnoldi schursolve in iter 1, krylovdim = 14: 1 values converged, normres = (1.03e-13, 1.54e-09, 1.66e-08, 1.25e-01, 5.65e-04)\n",
      "[ Info: Arnoldi iteration step 15: normres = 0.08833788279526268\n",
      "[ Info: Arnoldi schursolve in iter 1, krylovdim = 15: 1 values converged, normres = (3.83e-15, 1.01e-10, 8.13e-03, 4.55e-04, 8.13e-07)\n",
      "[ Info: Arnoldi iteration step 16: normres = 0.4614677167337636\n",
      "[ Info: Arnoldi schursolve in iter 1, krylovdim = 16: 1 values converged, normres = (1.66e-15, 2.92e-10, 2.41e-08, 1.13e-01, 4.46e-01)\n",
      "[ Info: Arnoldi iteration step 17: normres = 0.037686714404727074\n",
      "[ Info: Arnoldi schursolve in iter 1, krylovdim = 17: 1 values converged, normres = (3.02e-17, 1.80e-08, 1.20e-02, 1.14e-06, 7.79e-04)\n",
      "[ Info: Arnoldi iteration step 18: normres = 0.025587608181119943\n",
      "[ Info: Arnoldi schursolve in iter 1, krylovdim = 18: 1 values converged, normres = (3.20e-19, 8.59e-05, 1.86e-04, 2.78e-08, 1.38e-05)\n",
      "[ Info: Arnoldi iteration step 19: normres = 0.19857347659590052\n",
      "[ Info: Arnoldi schursolve in iter 1, krylovdim = 19: 1 values converged, normres = (2.74e-20, 1.34e-08, 2.87e-05, 2.12e-06, 3.17e-07)\n",
      "[ Info: Arnoldi iteration step 20: normres = 0.02624766683476478\n",
      "[ Info: Arnoldi schursolve in iter 1, krylovdim = 20: 1 values converged, normres = (3.42e-22, 6.31e-07, 9.63e-08, 3.41e-08, 4.19e-08)\n",
      "[ Info: Arnoldi iteration step 21: normres = 0.03435138784283461\n",
      "[ Info: Arnoldi schursolve in iter 1, krylovdim = 21: 1 values converged, normres = (4.83e-24, 1.48e-09, 1.43e-08, 6.30e-10, 1.18e-09)\n",
      "[ Info: Arnoldi iteration step 22: normres = 0.6906587844641843\n",
      "[ Info: Arnoldi schursolve in iter 1, krylovdim = 22: 1 values converged, normres = (2.01e-24, 1.12e-09, 1.31e-08, 7.28e-10, 1.31e-09)\n",
      "[ Info: Arnoldi iteration step 23: normres = 0.045673163168482904\n",
      "[ Info: Arnoldi schursolve in iter 1, krylovdim = 23: 1 values converged, normres = (6.03e-26, 2.11e-10, 2.14e-09, 3.89e-08, 2.71e-06)\n",
      "[ Info: Arnoldi iteration step 24: normres = 0.019224019284277655\n",
      "[ Info: Arnoldi schursolve in iter 1, krylovdim = 24: 1 values converged, normres = (4.81e-28, 2.57e-12, 2.73e-11, 4.04e-09, 7.97e-09)\n",
      "[ Info: Arnoldi iteration step 25: normres = 0.04576761416492038\n",
      "[ Info: Arnoldi schursolve in iter 1, krylovdim = 25: 3 values converged, normres = (9.04e-30, 7.71e-14, 8.20e-13, 1.36e-05, 3.67e-06)\n",
      "[ Info: Arnoldi iteration step 26: normres = 0.06465469545904441\n",
      "[ Info: Arnoldi schursolve in iter 1, krylovdim = 26: 3 values converged, normres = (2.64e-31, 3.81e-15, 4.04e-14, 1.71e-08, 2.73e-08)\n",
      "[ Info: Arnoldi iteration step 27: normres = 0.026136872281455805\n",
      "[ Info: Arnoldi schursolve in iter 1, krylovdim = 27: 3 values converged, normres = (2.85e-33, 6.59e-17, 7.00e-16, 1.58e-09, 1.12e-08)\n",
      "[ Info: Arnoldi iteration step 28: normres = 0.10641738308883722\n",
      "[ Info: Arnoldi schursolve in iter 1, krylovdim = 28: 3 values converged, normres = (1.31e-34, 4.99e-18, 5.30e-17, 1.25e-10, 8.49e-10)\n",
      "[ Info: Arnoldi iteration step 29: normres = 0.12643564983732014\n",
      "[ Info: Arnoldi schursolve in iter 1, krylovdim = 29: 3 values converged, normres = (7.18e-36, 4.51e-19, 4.79e-18, 1.26e-11, 8.75e-11)\n",
      "[ Info: Arnoldi iteration step 30: normres = 0.04443311029705875\n",
      "[ Info: Arnoldi schursolve in iter 1, krylovdim = 30: 4 values converged, normres = (1.57e-37, 1.78e-20, 1.89e-19, 5.68e-13, 3.94e-12)\n",
      "[ Info: Arnoldi schursolve in iter 2, krylovdim = 19: 4 values converged, normres = (1.59e-37, 1.78e-20, 1.89e-19, 5.68e-13, 3.94e-12)\n",
      "[ Info: Arnoldi iteration step 20: normres = 0.029211645976251\n",
      "┌ Info: Arnoldi eigsolve finished after 2 iterations:\n",
      "│ *  6 eigenvalues converged\n",
      "│ *  norm of residuals = (1.8843828719769415e-39, 3.3883596976034326e-22, 3.583583808237492e-21, 1.1929322036714699e-14, 8.25852727879899e-14, 8.22906756426478e-14)\n",
      "└ *  number of operations = 31\n"
     ]
    }
   ],
   "cell_type": "code",
   "source": [
    "eigsolve(eps_fun, randn(size(scfres.ρ)), 5, :LM; eager=true, verbosity=3);"
   ],
   "metadata": {},
   "execution_count": 3
  }
 ],
 "nbformat_minor": 3,
 "metadata": {
  "language_info": {
   "file_extension": ".jl",
   "mimetype": "application/julia",
   "name": "julia",
   "version": "1.9.0"
  },
  "kernelspec": {
   "name": "julia-1.9",
   "display_name": "Julia 1.9.0",
   "language": "julia"
  }
 },
 "nbformat": 4
}
