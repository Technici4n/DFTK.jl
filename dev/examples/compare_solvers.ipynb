{
 "cells": [
  {
   "cell_type": "markdown",
   "source": [
    "# Comparison of DFT solvers"
   ],
   "metadata": {}
  },
  {
   "cell_type": "markdown",
   "source": [
    "We compare four different approaches for solving the DFT minimisation problem,\n",
    "namely a density-based SCF, a potential-based SCF, direct minimisation and Newton."
   ],
   "metadata": {}
  },
  {
   "cell_type": "markdown",
   "source": [
    "First we setup our problem"
   ],
   "metadata": {}
  },
  {
   "outputs": [
    {
     "output_type": "execute_result",
     "data": {
      "text/plain": "1.0e-6"
     },
     "metadata": {},
     "execution_count": 1
    }
   ],
   "cell_type": "code",
   "source": [
    "using DFTK\n",
    "using LinearAlgebra\n",
    "\n",
    "a = 10.26  # Silicon lattice constant in Bohr\n",
    "lattice = a / 2 * [[0 1 1.];\n",
    "                   [1 0 1.];\n",
    "                   [1 1 0.]]\n",
    "Si = ElementPsp(:Si, psp=load_psp(\"hgh/lda/Si-q4\"))\n",
    "atoms     = [Si, Si]\n",
    "positions = [ones(3)/8, -ones(3)/8]\n",
    "\n",
    "model = model_LDA(lattice, atoms, positions)\n",
    "basis = PlaneWaveBasis(model; Ecut=5, kgrid=[3, 3, 3])\n",
    "\n",
    "# Convergence we desire in the density\n",
    "tol = 1e-6"
   ],
   "metadata": {},
   "execution_count": 1
  },
  {
   "cell_type": "markdown",
   "source": [
    "## Density-based self-consistent field"
   ],
   "metadata": {}
  },
  {
   "outputs": [
    {
     "name": "stdout",
     "output_type": "stream",
     "text": [
      "n     Energy            log10(ΔE)   log10(Δρ)   Diag   Δtime\n",
      "---   ---------------   ---------   ---------   ----   ------\n",
      "  1   -7.846645099175                   -0.70    4.2         \n",
      "  2   -7.852279049319       -2.25       -1.53    1.0   22.6ms\n",
      "  3   -7.852607827909       -3.48       -2.56    1.8   25.2ms\n",
      "  4   -7.852645926318       -4.42       -2.85    2.5   31.4ms\n",
      "  5   -7.852646420866       -6.31       -3.07    1.2   24.1ms\n",
      "  6   -7.852646679018       -6.59       -4.07    1.0   22.9ms\n",
      "  7   -7.852646686580       -8.12       -4.74    2.0   76.6ms\n",
      "  8   -7.852646686715       -9.87       -5.44    1.5   25.3ms\n",
      "  9   -7.852646686727      -10.92       -5.62    1.8   26.6ms\n",
      " 10   -7.852646686730      -11.64       -6.78    1.0   23.5ms\n"
     ]
    }
   ],
   "cell_type": "code",
   "source": [
    "scfres_scf = self_consistent_field(basis; tol);"
   ],
   "metadata": {},
   "execution_count": 2
  },
  {
   "cell_type": "markdown",
   "source": [
    "## Potential-based SCF"
   ],
   "metadata": {}
  },
  {
   "outputs": [
    {
     "name": "stdout",
     "output_type": "stream",
     "text": [
      "n     Energy            log10(ΔE)   log10(Δρ)   α      Diag   Δtime\n",
      "---   ---------------   ---------   ---------   ----   ----   ------\n",
      "  1   -7.846800570245                   -0.70           4.8         \n",
      "  2   -7.852526233611       -2.24       -1.64   0.80    2.2    235ms\n",
      "  3   -7.852635639405       -3.96       -2.73   0.80    1.0   21.1ms\n",
      "  4   -7.852646476103       -4.97       -3.24   0.80    2.2   27.2ms\n",
      "  5   -7.852646668960       -6.71       -4.06   0.80    1.0   20.6ms\n",
      "  6   -7.852646686374       -7.76       -4.71   0.80    2.0   26.2ms\n",
      "  7   -7.852646686719       -9.46       -5.45   0.80    2.0   25.8ms\n",
      "  8   -7.852646686730      -10.98       -6.79   0.80    1.8   24.9ms\n"
     ]
    }
   ],
   "cell_type": "code",
   "source": [
    "scfres_scfv = DFTK.scf_potential_mixing(basis; tol);"
   ],
   "metadata": {},
   "execution_count": 3
  },
  {
   "cell_type": "markdown",
   "source": [
    "## Direct minimization\n",
    "Note: Unlike the other algorithms, tolerance for this one is in the energy,\n",
    "thus we square the density tolerance value to be roughly equivalent."
   ],
   "metadata": {}
  },
  {
   "outputs": [
    {
     "name": "stdout",
     "output_type": "stream",
     "text": [
      "Iter     Function value   Gradient norm \n",
      "     0     1.332785e+01     3.706568e+00\n",
      " * time: 0.4216299057006836\n",
      "     1     1.084173e+00     2.009595e+00\n",
      " * time: 0.6115908622741699\n",
      "     2    -1.342657e+00     2.382133e+00\n",
      " * time: 0.6339888572692871\n",
      "     3    -3.557018e+00     2.111651e+00\n",
      " * time: 0.6662600040435791\n",
      "     4    -4.527987e+00     1.927488e+00\n",
      " * time: 0.6982748508453369\n",
      "     5    -6.423306e+00     1.261537e+00\n",
      " * time: 0.7303268909454346\n",
      "     6    -7.253818e+00     7.109531e-01\n",
      " * time: 0.7622017860412598\n",
      "     7    -7.534074e+00     6.888555e-01\n",
      " * time: 0.7844038009643555\n",
      "     8    -7.708005e+00     2.362437e-01\n",
      " * time: 0.8066380023956299\n",
      "     9    -7.762491e+00     8.574024e-02\n",
      " * time: 0.8289239406585693\n",
      "    10    -7.795191e+00     8.324705e-02\n",
      " * time: 0.8514559268951416\n",
      "    11    -7.820300e+00     8.418323e-02\n",
      " * time: 0.8739728927612305\n",
      "    12    -7.836263e+00     5.561215e-02\n",
      " * time: 0.8967728614807129\n",
      "    13    -7.846794e+00     3.709933e-02\n",
      " * time: 0.9190878868103027\n",
      "    14    -7.850220e+00     3.637104e-02\n",
      " * time: 0.9413847923278809\n",
      "    15    -7.851787e+00     1.019300e-02\n",
      " * time: 1.0295507907867432\n",
      "    16    -7.852392e+00     9.178422e-03\n",
      " * time: 1.0520868301391602\n",
      "    17    -7.852580e+00     4.662177e-03\n",
      " * time: 1.0745949745178223\n",
      "    18    -7.852629e+00     2.363411e-03\n",
      " * time: 1.09676194190979\n",
      "    19    -7.852642e+00     1.380345e-03\n",
      " * time: 1.1193327903747559\n",
      "    20    -7.852645e+00     9.017826e-04\n",
      " * time: 1.1417369842529297\n",
      "    21    -7.852646e+00     4.430157e-04\n",
      " * time: 1.163827896118164\n",
      "    22    -7.852647e+00     2.065445e-04\n",
      " * time: 1.1858859062194824\n",
      "    23    -7.852647e+00     1.109579e-04\n",
      " * time: 1.2079038619995117\n",
      "    24    -7.852647e+00     9.741089e-05\n",
      " * time: 1.2300307750701904\n",
      "    25    -7.852647e+00     5.495204e-05\n",
      " * time: 1.2523999214172363\n",
      "    26    -7.852647e+00     3.484692e-05\n",
      " * time: 1.274507999420166\n",
      "    27    -7.852647e+00     2.077287e-05\n",
      " * time: 1.2968518733978271\n",
      "    28    -7.852647e+00     1.148927e-05\n",
      " * time: 1.3190457820892334\n",
      "    29    -7.852647e+00     6.182377e-06\n",
      " * time: 1.3412408828735352\n",
      "    30    -7.852647e+00     3.345629e-06\n",
      " * time: 1.3633627891540527\n",
      "    31    -7.852647e+00     2.691126e-06\n",
      " * time: 1.385868787765503\n",
      "    32    -7.852647e+00     1.603260e-06\n",
      " * time: 1.4081768989562988\n",
      "    33    -7.852647e+00     8.345405e-07\n",
      " * time: 1.4303529262542725\n",
      "    34    -7.852647e+00     4.649694e-07\n",
      " * time: 1.4527969360351562\n",
      "    35    -7.852647e+00     2.650818e-07\n",
      " * time: 1.4749717712402344\n",
      "    36    -7.852647e+00     1.410908e-07\n",
      " * time: 1.4972069263458252\n",
      "    37    -7.852647e+00     8.478911e-08\n",
      " * time: 1.519406795501709\n",
      "    38    -7.852647e+00     5.314406e-08\n",
      " * time: 1.541733980178833\n",
      "    39    -7.852647e+00     2.768368e-08\n",
      " * time: 1.563971996307373\n",
      "    40    -7.852647e+00     1.941147e-08\n",
      " * time: 1.586195945739746\n",
      "    41    -7.852647e+00     1.204011e-08\n",
      " * time: 1.6084368228912354\n",
      "    42    -7.852647e+00     1.204011e-08\n",
      " * time: 1.728064775466919\n"
     ]
    }
   ],
   "cell_type": "code",
   "source": [
    "scfres_dm = direct_minimization(basis; tol=tol^2);"
   ],
   "metadata": {},
   "execution_count": 4
  },
  {
   "cell_type": "markdown",
   "source": [
    "## Newton algorithm"
   ],
   "metadata": {}
  },
  {
   "cell_type": "markdown",
   "source": [
    "Start not too far from the solution to ensure convergence:\n",
    "We run first a very crude SCF to get close and then switch to Newton."
   ],
   "metadata": {}
  },
  {
   "outputs": [
    {
     "name": "stdout",
     "output_type": "stream",
     "text": [
      "n     Energy            log10(ΔE)   log10(Δρ)   Diag   Δtime\n",
      "---   ---------------   ---------   ---------   ----   ------\n",
      "  1   -7.846791562286                   -0.70    4.5         \n"
     ]
    }
   ],
   "cell_type": "code",
   "source": [
    "scfres_start = self_consistent_field(basis; tol=0.5);"
   ],
   "metadata": {},
   "execution_count": 5
  },
  {
   "cell_type": "markdown",
   "source": [
    "Remove the virtual orbitals (which Newton cannot treat yet)"
   ],
   "metadata": {}
  },
  {
   "outputs": [
    {
     "name": "stdout",
     "output_type": "stream",
     "text": [
      "n     Energy            log10(ΔE)   log10(Δρ)   Δtime\n",
      "---   ---------------   ---------   ---------   ------\n",
      "  1   -7.852645804916                   -1.64         \n",
      "  2   -7.852646686730       -6.05       -3.71    1.57s\n",
      "  3   -7.852646686730      -13.06       -7.16    157ms\n"
     ]
    }
   ],
   "cell_type": "code",
   "source": [
    "ψ = DFTK.select_occupied_orbitals(basis, scfres_start.ψ, scfres_start.occupation).ψ\n",
    "scfres_newton = newton(basis, ψ; tol);"
   ],
   "metadata": {},
   "execution_count": 6
  },
  {
   "cell_type": "markdown",
   "source": [
    "## Comparison of results"
   ],
   "metadata": {}
  },
  {
   "outputs": [
    {
     "name": "stdout",
     "output_type": "stream",
     "text": [
      "|ρ_newton - ρ_scf|  = 3.494233181759162e-7\n",
      "|ρ_newton - ρ_scfv| = 1.8563207684647625e-7\n",
      "|ρ_newton - ρ_dm|   = 2.9436017260596223e-9\n"
     ]
    }
   ],
   "cell_type": "code",
   "source": [
    "println(\"|ρ_newton - ρ_scf|  = \", norm(scfres_newton.ρ - scfres_scf.ρ))\n",
    "println(\"|ρ_newton - ρ_scfv| = \", norm(scfres_newton.ρ - scfres_scfv.ρ))\n",
    "println(\"|ρ_newton - ρ_dm|   = \", norm(scfres_newton.ρ - scfres_dm.ρ))"
   ],
   "metadata": {},
   "execution_count": 7
  }
 ],
 "nbformat_minor": 3,
 "metadata": {
  "language_info": {
   "file_extension": ".jl",
   "mimetype": "application/julia",
   "name": "julia",
   "version": "1.8.5"
  },
  "kernelspec": {
   "name": "julia-1.8",
   "display_name": "Julia 1.8.5",
   "language": "julia"
  }
 },
 "nbformat": 4
}
