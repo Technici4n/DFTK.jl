{
 "cells": [
  {
   "cell_type": "markdown",
   "source": [
    "# Eigenvalues of the dielectric matrix\n",
    "\n",
    "We compute a few eigenvalues of the dielectric matrix ($q=0$, $ω=0$) iteratively."
   ],
   "metadata": {}
  },
  {
   "outputs": [
    {
     "name": "stdout",
     "output_type": "stream",
     "text": [
      "n     Energy            log10(ΔE)   log10(Δρ)   Diag   Δtime\n",
      "---   ---------------   ---------   ---------   ----   ------\n",
      "  1   -7.235708428306                   -0.50    7.0         \n",
      "  2   -7.250224597658       -1.84       -1.39    1.0   9.82ms\n",
      "  3   -7.251163064661       -3.03       -2.01    2.0   10.9ms\n",
      "  4   -7.251130038437   +   -4.48       -1.99    2.0   11.9ms\n",
      "  5   -7.251325957981       -3.71       -2.60    1.0   9.76ms\n",
      "  6   -7.251337739624       -4.93       -3.06    1.0   10.0ms\n",
      "  7   -7.251338721053       -6.01       -3.75    1.0   10.2ms\n",
      "  8   -7.251338793399       -7.14       -4.17    2.0   12.0ms\n",
      "  9   -7.251338798178       -8.32       -4.68    2.0   11.9ms\n",
      " 10   -7.251338798638       -9.34       -5.14    2.0   12.3ms\n",
      " 11   -7.251338798698      -10.22       -5.81    1.0   77.4ms\n",
      " 12   -7.251338798703      -11.28       -5.98    3.0   13.3ms\n",
      " 13   -7.251338798704      -12.07       -6.39    1.0   10.4ms\n",
      " 14   -7.251338798705      -12.74       -6.88    2.0   12.3ms\n",
      " 15   -7.251338798705      -13.52       -7.19    3.0   13.8ms\n",
      " 16   -7.251338798705      -14.57       -7.53    1.0   10.4ms\n",
      " 17   -7.251338798705      -15.05       -7.89    2.0   12.3ms\n",
      " 18   -7.251338798705   +    -Inf       -8.31    1.0   10.6ms\n"
     ]
    }
   ],
   "cell_type": "code",
   "source": [
    "using DFTK\n",
    "using Plots\n",
    "using KrylovKit\n",
    "using Printf\n",
    "\n",
    "# Calculation parameters\n",
    "kgrid = [1, 1, 1]\n",
    "Ecut = 5\n",
    "\n",
    "# Silicon lattice\n",
    "a = 10.26\n",
    "lattice = a / 2 .* [[0 1 1.]; [1 0 1.]; [1 1 0.]]\n",
    "Si = ElementPsp(:Si, psp=load_psp(\"hgh/lda/Si-q4\"))\n",
    "atoms     = [Si, Si]\n",
    "positions = [ones(3)/8, -ones(3)/8]\n",
    "\n",
    "# Compute the dielectric operator without symmetries\n",
    "model  = model_LDA(lattice, atoms, positions, symmetries=false)\n",
    "basis  = PlaneWaveBasis(model; Ecut, kgrid)\n",
    "scfres = self_consistent_field(basis, tol=1e-8);"
   ],
   "metadata": {},
   "execution_count": 1
  },
  {
   "cell_type": "markdown",
   "source": [
    "Applying $ε^† ≔ (1- χ_0 K)$ …"
   ],
   "metadata": {}
  },
  {
   "outputs": [],
   "cell_type": "code",
   "source": [
    "function eps_fun(δρ)\n",
    "    δV = apply_kernel(basis, δρ; ρ=scfres.ρ)\n",
    "    χ0δV = apply_χ0(scfres, δV)\n",
    "    δρ - χ0δV\n",
    "end;"
   ],
   "metadata": {},
   "execution_count": 2
  },
  {
   "cell_type": "markdown",
   "source": [
    "… eagerly diagonalizes the subspace matrix at each iteration"
   ],
   "metadata": {}
  },
  {
   "outputs": [
    {
     "name": "stdout",
     "output_type": "stream",
     "text": [
      "[ Info: Arnoldi iteration step 1: normres = 0.045150682862456715\n",
      "[ Info: Arnoldi iteration step 2: normres = 0.5153799434616646\n",
      "[ Info: Arnoldi iteration step 3: normres = 0.9840983311836609\n",
      "[ Info: Arnoldi iteration step 4: normres = 0.30815099027335896\n",
      "[ Info: Arnoldi iteration step 5: normres = 0.5259385415416025\n",
      "[ Info: Arnoldi schursolve in iter 1, krylovdim = 5: 0 values converged, normres = (5.19e-02, 8.25e-02, 4.81e-01, 1.90e-01, 1.03e-02)\n",
      "[ Info: Arnoldi iteration step 6: normres = 0.25526470747979585\n",
      "[ Info: Arnoldi schursolve in iter 1, krylovdim = 6: 0 values converged, normres = (1.11e-02, 1.23e-01, 1.77e-01, 1.15e-01, 2.78e-02)\n",
      "[ Info: Arnoldi iteration step 7: normres = 0.10489280393087289\n",
      "[ Info: Arnoldi schursolve in iter 1, krylovdim = 7: 0 values converged, normres = (5.57e-04, 1.25e-02, 1.47e-02, 5.86e-02, 7.66e-02)\n",
      "[ Info: Arnoldi iteration step 8: normres = 0.12170015421663354\n",
      "[ Info: Arnoldi schursolve in iter 1, krylovdim = 8: 0 values converged, normres = (3.00e-05, 1.13e-03, 1.49e-03, 2.90e-02, 6.90e-02)\n",
      "[ Info: Arnoldi iteration step 9: normres = 0.05668585145951136\n",
      "[ Info: Arnoldi schursolve in iter 1, krylovdim = 9: 0 values converged, normres = (7.30e-07, 4.52e-05, 6.60e-05, 5.62e-03, 2.22e-02)\n",
      "[ Info: Arnoldi iteration step 10: normres = 0.09100732439648415\n",
      "[ Info: Arnoldi schursolve in iter 1, krylovdim = 10: 0 values converged, normres = (2.85e-08, 2.88e-06, 4.67e-06, 1.55e-03, 1.12e-02)\n",
      "[ Info: Arnoldi iteration step 11: normres = 0.056449425319245114\n",
      "[ Info: Arnoldi schursolve in iter 1, krylovdim = 11: 0 values converged, normres = (6.89e-10, 1.14e-07, 2.05e-07, 2.71e-04, 3.87e-03)\n",
      "[ Info: Arnoldi iteration step 12: normres = 0.09820881170091524\n",
      "[ Info: Arnoldi schursolve in iter 1, krylovdim = 12: 0 values converged, normres = (2.88e-11, 7.77e-09, 1.55e-08, 7.71e-05, 2.01e-03)\n",
      "[ Info: Arnoldi iteration step 13: normres = 0.08355217012148844\n",
      "[ Info: Arnoldi schursolve in iter 1, krylovdim = 13: 0 values converged, normres = (1.06e-12, 4.79e-10, 1.06e-09, 2.61e-05, 2.14e-03)\n",
      "[ Info: Arnoldi iteration step 14: normres = 0.6577164000985152\n",
      "[ Info: Arnoldi schursolve in iter 1, krylovdim = 14: 1 values converged, normres = (5.39e-13, 8.15e-10, 2.83e-09, 6.52e-01, 1.36e-02)\n",
      "[ Info: Arnoldi iteration step 15: normres = 0.12069123977201687\n",
      "[ Info: Arnoldi schursolve in iter 1, krylovdim = 15: 1 values converged, normres = (3.72e-14, 8.11e-10, 6.09e-02, 1.06e-04, 5.89e-06)\n",
      "[ Info: Arnoldi iteration step 16: normres = 0.42651552326748743\n",
      "[ Info: Arnoldi schursolve in iter 1, krylovdim = 16: 1 values converged, normres = (1.36e-14, 3.23e-09, 9.91e-02, 1.95e-04, 4.11e-01)\n",
      "[ Info: Arnoldi iteration step 17: normres = 0.02020797064737115\n",
      "[ Info: Arnoldi schursolve in iter 1, krylovdim = 17: 1 values converged, normres = (1.32e-16, 1.49e-08, 2.83e-03, 3.75e-03, 4.64e-03)\n",
      "[ Info: Arnoldi iteration step 18: normres = 0.017541447795080687\n",
      "[ Info: Arnoldi schursolve in iter 1, krylovdim = 18: 1 values converged, normres = (9.48e-19, 1.57e-08, 3.24e-05, 2.95e-05, 6.93e-05)\n",
      "[ Info: Arnoldi iteration step 19: normres = 0.176985310966724\n",
      "[ Info: Arnoldi schursolve in iter 1, krylovdim = 19: 1 values converged, normres = (7.09e-20, 2.49e-06, 3.05e-06, 4.25e-08, 1.01e-05)\n",
      "[ Info: Arnoldi iteration step 20: normres = 0.07250576916866824\n",
      "[ Info: Arnoldi schursolve in iter 1, krylovdim = 20: 1 values converged, normres = (2.49e-21, 1.72e-08, 2.47e-07, 5.06e-08, 7.23e-07)\n",
      "[ Info: Arnoldi iteration step 21: normres = 0.028642735028527315\n",
      "[ Info: Arnoldi schursolve in iter 1, krylovdim = 21: 1 values converged, normres = (2.99e-23, 4.74e-09, 7.40e-10, 1.18e-08, 1.00e-08)\n",
      "[ Info: Arnoldi iteration step 22: normres = 0.027684333757490246\n",
      "[ Info: Arnoldi schursolve in iter 1, krylovdim = 22: 1 values converged, normres = (3.40e-25, 3.04e-11, 8.16e-11, 1.37e-10, 2.78e-10)\n",
      "[ Info: Arnoldi iteration step 23: normres = 0.6345863681789454\n",
      "[ Info: Arnoldi schursolve in iter 1, krylovdim = 23: 1 values converged, normres = (1.40e-25, 3.07e-11, 8.19e-11, 1.81e-10, 3.56e-10)\n",
      "[ Info: Arnoldi iteration step 24: normres = 0.01744870129551381\n",
      "[ Info: Arnoldi schursolve in iter 1, krylovdim = 24: 1 values converged, normres = (1.47e-27, 1.57e-12, 4.19e-12, 3.49e-09, 5.07e-09)\n",
      "[ Info: Arnoldi iteration step 25: normres = 0.016801693265193967\n",
      "[ Info: Arnoldi schursolve in iter 1, krylovdim = 25: 3 values converged, normres = (1.01e-29, 1.72e-14, 4.60e-14, 2.32e-08, 4.18e-08)\n",
      "[ Info: Arnoldi iteration step 26: normres = 0.0880805327611212\n",
      "[ Info: Arnoldi schursolve in iter 1, krylovdim = 26: 3 values converged, normres = (3.72e-31, 1.01e-15, 2.70e-15, 7.57e-06, 1.19e-06)\n",
      "[ Info: Arnoldi iteration step 27: normres = 0.04382099146092585\n",
      "[ Info: Arnoldi schursolve in iter 1, krylovdim = 27: 3 values converged, normres = (7.25e-33, 8.89e-17, 3.32e-17, 1.35e-09, 2.38e-09)\n",
      "[ Info: Arnoldi iteration step 28: normres = 0.0938748452337755\n",
      "[ Info: Arnoldi schursolve in iter 1, krylovdim = 28: 3 values converged, normres = (2.86e-34, 5.67e-18, 2.12e-18, 1.77e-09, 1.79e-08)\n",
      "[ Info: Arnoldi iteration step 29: normres = 0.09178175586921737\n",
      "[ Info: Arnoldi schursolve in iter 1, krylovdim = 29: 3 values converged, normres = (1.16e-35, 1.44e-19, 3.85e-19, 3.71e-10, 1.38e-09)\n",
      "[ Info: Arnoldi iteration step 30: normres = 0.11372287774595838\n",
      "[ Info: Arnoldi schursolve in iter 1, krylovdim = 30: 3 values converged, normres = (6.36e-37, 1.40e-20, 3.75e-20, 4.04e-11, 1.52e-10)\n",
      "[ Info: Arnoldi schursolve in iter 2, krylovdim = 19: 3 values converged, normres = (6.37e-37, 1.40e-20, 3.75e-20, 4.04e-11, 1.52e-10)\n",
      "[ Info: Arnoldi iteration step 20: normres = 0.08333108192680792\n",
      "[ Info: Arnoldi schursolve in iter 2, krylovdim = 20: 3 values converged, normres = (2.27e-38, 2.20e-21, 8.23e-22, 2.62e-12, 9.92e-12)\n",
      "[ Info: Arnoldi iteration step 21: normres = 0.036736351020971274\n",
      "┌ Info: Arnoldi eigsolve finished after 2 iterations:\n",
      "│ *  6 eigenvalues converged\n",
      "│ *  norm of residuals = (3.588397653342086e-40, 4.9334660951468297e-23, 4.9334660951468297e-23, 7.522653569224194e-14, 2.8615095355467064e-13, 1.1892530593517677e-13)\n",
      "└ *  number of operations = 32\n"
     ]
    }
   ],
   "cell_type": "code",
   "source": [
    "eigsolve(eps_fun, randn(size(scfres.ρ)), 5, :LM; eager=true, verbosity=3);"
   ],
   "metadata": {},
   "execution_count": 3
  }
 ],
 "nbformat_minor": 3,
 "metadata": {
  "language_info": {
   "file_extension": ".jl",
   "mimetype": "application/julia",
   "name": "julia",
   "version": "1.8.5"
  },
  "kernelspec": {
   "name": "julia-1.8",
   "display_name": "Julia 1.8.5",
   "language": "julia"
  }
 },
 "nbformat": 4
}
