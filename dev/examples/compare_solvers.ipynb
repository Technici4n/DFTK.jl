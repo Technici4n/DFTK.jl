{
 "cells": [
  {
   "cell_type": "markdown",
   "source": [
    "# Comparison of DFT solvers"
   ],
   "metadata": {}
  },
  {
   "cell_type": "markdown",
   "source": [
    "We compare four different approaches for solving the DFT minimisation problem,\n",
    "namely a density-based SCF, a potential-based SCF, direct minimisation and Newton."
   ],
   "metadata": {}
  },
  {
   "cell_type": "markdown",
   "source": [
    "First we setup our problem"
   ],
   "metadata": {}
  },
  {
   "outputs": [],
   "cell_type": "code",
   "source": [
    "using DFTK\n",
    "using LinearAlgebra\n",
    "\n",
    "a = 10.26  # Silicon lattice constant in Bohr\n",
    "lattice = a / 2 * [[0 1 1.];\n",
    "                   [1 0 1.];\n",
    "                   [1 1 0.]]\n",
    "Si = ElementPsp(:Si, psp=load_psp(\"hgh/lda/Si-q4\"))\n",
    "atoms     = [Si, Si]\n",
    "positions = [ones(3)/8, -ones(3)/8]\n",
    "\n",
    "model = model_LDA(lattice, atoms, positions)\n",
    "basis = PlaneWaveBasis(model; Ecut=5, kgrid=[3, 3, 3])\n",
    "\n",
    "# Convergence we desire\n",
    "tol = 1e-12\n",
    "is_converged = DFTK.ScfConvergenceDensity(tol);"
   ],
   "metadata": {},
   "execution_count": 1
  },
  {
   "cell_type": "markdown",
   "source": [
    "## Density-based self-consistent field"
   ],
   "metadata": {}
  },
  {
   "outputs": [
    {
     "name": "stdout",
     "output_type": "stream",
     "text": [
      "n     Energy            log10(ΔE)   log10(Δρ)   Diag\n",
      "---   ---------------   ---------   ---------   ----\n",
      "  1   -7.846716669405                   -0.70    5.0\n",
      "  2   -7.852320096770       -2.25       -1.53    1.0\n",
      "  3   -7.852646023759       -3.49       -2.53    3.0\n",
      "  4   -7.852646677365       -6.18       -3.41    2.2\n",
      "  5   -7.852646686217       -8.05       -4.67    1.8\n",
      "  6   -7.852646686725       -9.29       -5.62    2.5\n",
      "  7   -7.852646686730      -11.32       -6.62    3.2\n",
      "  8   -7.852646686730      -14.05       -7.36    1.5\n",
      "  9   -7.852646686730   +  -14.45       -8.29    2.0\n",
      " 10   -7.852646686730      -14.45       -9.26    4.0\n",
      " 11   -7.852646686730      -14.75       -9.81    1.0\n",
      " 12   -7.852646686730   +  -14.75      -10.87    2.0\n",
      " 13   -7.852646686730      -14.75       -9.81    1.0\n",
      " 14   -7.852646686730   +  -14.45       -9.80    1.0\n",
      " 15   -7.852646686730      -14.45      -10.16    2.0\n",
      " 16   -7.852646686730   +  -14.75       -9.63    1.0\n",
      " 17   -7.852646686730   +    -Inf      -10.42    1.8\n",
      " 18   -7.852646686730   +    -Inf       -9.69    2.0\n",
      " 19   -7.852646686730      -15.05      -11.00    1.8\n",
      " 20   -7.852646686730   +  -15.05      -10.99    1.0\n",
      " 21   -7.852646686730   +  -14.75      -10.99    1.0\n",
      " 22   -7.852646686730      -14.45      -10.97    1.0\n",
      " 23   -7.852646686730   +  -14.57      -10.97    1.0\n",
      " 24   -7.852646686730      -15.05      -11.00    1.0\n",
      " 25   -7.852646686730      -14.75      -12.55    2.0\n"
     ]
    }
   ],
   "cell_type": "code",
   "source": [
    "scfres_scf = self_consistent_field(basis; is_converged);"
   ],
   "metadata": {},
   "execution_count": 2
  },
  {
   "cell_type": "markdown",
   "source": [
    "## Potential-based SCF"
   ],
   "metadata": {}
  },
  {
   "outputs": [
    {
     "name": "stdout",
     "output_type": "stream",
     "text": [
      "n     Energy            log10(ΔE)   log10(Δρ)   α      Diag\n",
      "---   ---------------   ---------   ---------   ----   ----\n",
      "  1   -7.846896200289                   -0.70           4.5\n",
      "  2   -7.852528706995       -2.25       -1.63   0.80    2.0\n",
      "  3   -7.852637515773       -3.96       -2.71   0.80    1.0\n",
      "  4   -7.852646480728       -5.05       -3.30   0.80    2.0\n",
      "  5   -7.852646669805       -6.72       -4.14   0.80    1.0\n",
      "  6   -7.852646686372       -7.78       -4.72   0.80    2.0\n",
      "  7   -7.852646686721       -9.46       -5.47   0.80    1.8\n",
      "  8   -7.852646686729      -11.07       -6.65   0.80    1.8\n",
      "  9   -7.852646686730      -12.44       -7.85   0.80    2.5\n",
      " 10   -7.852646686730      -15.05       -8.32   0.80    2.5\n",
      " 11   -7.852646686730   +    -Inf       -9.27   0.80    1.5\n",
      " 12   -7.852646686730      -15.05       -9.78   0.80    2.5\n",
      " 13   -7.852646686730   +  -14.75      -10.57   0.80    1.0\n",
      " 14   -7.852646686730   +  -15.05      -11.45   0.80    2.2\n",
      " 15   -7.852646686730   +  -15.05      -11.44   0.80    2.2\n",
      " 16   -7.852646686730      -14.45      -12.36   0.80    1.0\n"
     ]
    }
   ],
   "cell_type": "code",
   "source": [
    "scfres_scfv = DFTK.scf_potential_mixing(basis; is_converged);"
   ],
   "metadata": {},
   "execution_count": 3
  },
  {
   "cell_type": "markdown",
   "source": [
    "## Direct minimization"
   ],
   "metadata": {}
  },
  {
   "outputs": [
    {
     "name": "stdout",
     "output_type": "stream",
     "text": [
      "Iter     Function value   Gradient norm \n",
      "     0     1.395547e+01     3.540831e+00\n",
      " * time: 0.5083088874816895\n",
      "     1     1.415993e+00     1.789928e+00\n",
      " * time: 0.7569029331207275\n",
      "     2    -1.950175e+00     1.912752e+00\n",
      " * time: 0.7854628562927246\n",
      "     3    -3.704713e+00     1.721673e+00\n",
      " * time: 0.826042890548706\n",
      "     4    -5.176779e+00     1.436891e+00\n",
      " * time: 0.8682630062103271\n",
      "     5    -6.705521e+00     1.149900e+00\n",
      " * time: 0.9111578464508057\n",
      "     6    -7.428553e+00     7.441189e-01\n",
      " * time: 0.9591808319091797\n",
      "     7    -7.645872e+00     6.446570e-01\n",
      " * time: 0.9911179542541504\n",
      "     8    -7.764543e+00     1.247534e-01\n",
      " * time: 1.0202958583831787\n",
      "     9    -7.802409e+00     1.380080e-01\n",
      " * time: 1.0492219924926758\n",
      "    10    -7.827375e+00     9.568594e-02\n",
      " * time: 1.0782089233398438\n",
      "    11    -7.839580e+00     5.222852e-02\n",
      " * time: 1.107990026473999\n",
      "    12    -7.848995e+00     2.524409e-02\n",
      " * time: 1.137826919555664\n",
      "    13    -7.851602e+00     2.050782e-02\n",
      " * time: 1.1671550273895264\n",
      "    14    -7.852189e+00     1.310943e-02\n",
      " * time: 1.263232946395874\n",
      "    15    -7.852476e+00     9.203229e-03\n",
      " * time: 1.2917070388793945\n",
      "    16    -7.852581e+00     5.016355e-03\n",
      " * time: 1.3217799663543701\n",
      "    17    -7.852619e+00     2.764207e-03\n",
      " * time: 1.3513128757476807\n",
      "    18    -7.852635e+00     1.695519e-03\n",
      " * time: 1.3795759677886963\n",
      "    19    -7.852642e+00     1.041334e-03\n",
      " * time: 1.4079639911651611\n",
      "    20    -7.852645e+00     6.139974e-04\n",
      " * time: 1.440453052520752\n",
      "    21    -7.852646e+00     3.137301e-04\n",
      " * time: 1.4685029983520508\n",
      "    22    -7.852647e+00     1.436510e-04\n",
      " * time: 1.4966988563537598\n",
      "    23    -7.852647e+00     8.214079e-05\n",
      " * time: 1.5255138874053955\n",
      "    24    -7.852647e+00     5.757745e-05\n",
      " * time: 1.554776906967163\n",
      "    25    -7.852647e+00     3.232759e-05\n",
      " * time: 1.5839848518371582\n",
      "    26    -7.852647e+00     1.868575e-05\n",
      " * time: 1.6129510402679443\n",
      "    27    -7.852647e+00     9.216481e-06\n",
      " * time: 1.640760898590088\n",
      "    28    -7.852647e+00     5.424301e-06\n",
      " * time: 1.6794488430023193\n",
      "    29    -7.852647e+00     3.762770e-06\n",
      " * time: 1.708739995956421\n",
      "    30    -7.852647e+00     1.991109e-06\n",
      " * time: 1.7363948822021484\n",
      "    31    -7.852647e+00     1.039995e-06\n",
      " * time: 1.7640190124511719\n",
      "    32    -7.852647e+00     5.624706e-07\n",
      " * time: 1.7923610210418701\n",
      "    33    -7.852647e+00     3.355572e-07\n",
      " * time: 1.819687843322754\n",
      "    34    -7.852647e+00     1.927028e-07\n",
      " * time: 1.8471028804779053\n",
      "    35    -7.852647e+00     1.420153e-07\n",
      " * time: 1.8742270469665527\n",
      "    36    -7.852647e+00     8.210427e-08\n",
      " * time: 1.9024498462677002\n",
      "    37    -7.852647e+00     4.444963e-08\n",
      " * time: 1.930685043334961\n",
      "    38    -7.852647e+00     2.622832e-08\n",
      " * time: 1.958920955657959\n",
      "    39    -7.852647e+00     1.369454e-08\n",
      " * time: 1.987104892730713\n",
      "    40    -7.852647e+00     9.762881e-09\n",
      " * time: 2.027765989303589\n",
      "    41    -7.852647e+00     4.370641e-09\n",
      " * time: 2.0560338497161865\n",
      "    42    -7.852647e+00     4.370641e-09\n",
      " * time: 2.1677398681640625\n"
     ]
    }
   ],
   "cell_type": "code",
   "source": [
    "scfres_dm = direct_minimization(basis; tol);"
   ],
   "metadata": {},
   "execution_count": 4
  },
  {
   "cell_type": "markdown",
   "source": [
    "## Newton algorithm"
   ],
   "metadata": {}
  },
  {
   "cell_type": "markdown",
   "source": [
    "Start not too far from the solution to ensure convergence:\n",
    "We run first a very crude SCF to get close and then switch to Newton."
   ],
   "metadata": {}
  },
  {
   "outputs": [
    {
     "name": "stdout",
     "output_type": "stream",
     "text": [
      "n     Energy            log10(ΔE)   log10(Δρ)   Diag\n",
      "---   ---------------   ---------   ---------   ----\n",
      "  1   -7.846846546711                   -0.70    4.5\n",
      "  2   -7.852315972563       -2.26       -1.53    1.0\n"
     ]
    }
   ],
   "cell_type": "code",
   "source": [
    "scfres_start = self_consistent_field(basis; tol=1e-1);"
   ],
   "metadata": {},
   "execution_count": 5
  },
  {
   "cell_type": "markdown",
   "source": [
    "Remove the virtual orbitals (which Newton cannot treat yet)"
   ],
   "metadata": {}
  },
  {
   "outputs": [
    {
     "name": "stdout",
     "output_type": "stream",
     "text": [
      "n     Energy            log10(ΔE)   log10(Δρ)\n",
      "---   ---------------   ---------   ---------\n",
      "  1   -7.852646686709                   -2.54\n",
      "  2   -7.852646686730      -10.69       -5.97\n",
      "  3   -7.852646686730   +    -Inf      -12.74\n"
     ]
    }
   ],
   "cell_type": "code",
   "source": [
    "ψ, _ = DFTK.select_occupied_orbitals(basis, scfres_start.ψ, scfres_start.occupation)\n",
    "scfres_newton = newton(basis, ψ; tol);"
   ],
   "metadata": {},
   "execution_count": 6
  },
  {
   "cell_type": "markdown",
   "source": [
    "## Comparison of results"
   ],
   "metadata": {}
  },
  {
   "outputs": [
    {
     "name": "stdout",
     "output_type": "stream",
     "text": [
      "|ρ_newton - ρ_scf|  = 3.1452877041438066e-13\n",
      "|ρ_newton - ρ_scfv| = 3.0055759633080983e-13\n",
      "|ρ_newton - ρ_dm|   = 7.10130475334042e-10\n"
     ]
    }
   ],
   "cell_type": "code",
   "source": [
    "println(\"|ρ_newton - ρ_scf|  = \", norm(scfres_newton.ρ - scfres_scf.ρ))\n",
    "println(\"|ρ_newton - ρ_scfv| = \", norm(scfres_newton.ρ - scfres_scfv.ρ))\n",
    "println(\"|ρ_newton - ρ_dm|   = \", norm(scfres_newton.ρ - scfres_dm.ρ))"
   ],
   "metadata": {},
   "execution_count": 7
  }
 ],
 "nbformat_minor": 3,
 "metadata": {
  "language_info": {
   "file_extension": ".jl",
   "mimetype": "application/julia",
   "name": "julia",
   "version": "1.8.2"
  },
  "kernelspec": {
   "name": "julia-1.8",
   "display_name": "Julia 1.8.2",
   "language": "julia"
  }
 },
 "nbformat": 4
}
