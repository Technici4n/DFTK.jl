{
 "cells": [
  {
   "cell_type": "markdown",
   "source": [
    "# Comparison of DFT solvers"
   ],
   "metadata": {}
  },
  {
   "cell_type": "markdown",
   "source": [
    "We compare four different approaches for solving the DFT minimisation problem,\n",
    "namely a density-based SCF, a potential-based SCF, direct minimisation and Newton."
   ],
   "metadata": {}
  },
  {
   "cell_type": "markdown",
   "source": [
    "First we setup our problem"
   ],
   "metadata": {}
  },
  {
   "outputs": [],
   "cell_type": "code",
   "source": [
    "using DFTK\n",
    "using LinearAlgebra\n",
    "\n",
    "a = 10.26  # Silicon lattice constant in Bohr\n",
    "lattice = a / 2 * [[0 1 1.];\n",
    "                   [1 0 1.];\n",
    "                   [1 1 0.]]\n",
    "Si = ElementPsp(:Si, psp=load_psp(\"hgh/lda/Si-q4\"))\n",
    "atoms     = [Si, Si]\n",
    "positions = [ones(3)/8, -ones(3)/8]\n",
    "\n",
    "model = model_LDA(lattice, atoms, positions)\n",
    "basis = PlaneWaveBasis(model; Ecut=5, kgrid=[3, 3, 3])\n",
    "\n",
    "# Convergence we desire\n",
    "tol = 1e-12\n",
    "is_converged = DFTK.ScfConvergenceDensity(tol);"
   ],
   "metadata": {},
   "execution_count": 1
  },
  {
   "cell_type": "markdown",
   "source": [
    "## Density-based self-consistent field"
   ],
   "metadata": {}
  },
  {
   "outputs": [
    {
     "name": "stdout",
     "output_type": "stream",
     "text": [
      "n     Energy            log10(ΔE)   log10(Δρ)   Diag\n",
      "---   ---------------   ---------   ---------   ----\n",
      "  1   -7.846879101615                   -0.70    4.8\n",
      "  2   -7.852326147525       -2.26       -1.53    1.0\n",
      "  3   -7.852646111531       -3.49       -2.52    3.0\n",
      "  4   -7.852646676585       -6.25       -3.37    2.5\n",
      "  5   -7.852646685757       -8.04       -4.76    1.2\n",
      "  6   -7.852646686722       -9.02       -5.19    4.0\n",
      "  7   -7.852646686730      -11.11       -6.18    1.5\n",
      "  8   -7.852646686730      -12.55       -7.26    2.5\n",
      "  9   -7.852646686730      -14.57       -7.52    2.0\n",
      " 10   -7.852646686730   +  -14.75       -8.63    2.0\n",
      " 11   -7.852646686730      -14.75       -9.64    2.2\n",
      " 12   -7.852646686730   +  -15.05       -9.95    2.0\n",
      " 13   -7.852646686730   +  -14.75      -10.74    1.5\n",
      " 14   -7.852646686730      -14.75      -11.69    2.0\n",
      " 15   -7.852646686730   +  -15.05      -12.29    2.5\n"
     ]
    }
   ],
   "cell_type": "code",
   "source": [
    "scfres_scf = self_consistent_field(basis; is_converged);"
   ],
   "metadata": {},
   "execution_count": 2
  },
  {
   "cell_type": "markdown",
   "source": [
    "## Potential-based SCF"
   ],
   "metadata": {}
  },
  {
   "outputs": [
    {
     "name": "stdout",
     "output_type": "stream",
     "text": [
      "n     Energy            log10(ΔE)   log10(Δρ)   α      Diag\n",
      "---   ---------------   ---------   ---------   ----   ----\n",
      "  1   -7.846845392153                   -0.70           4.8\n",
      "  2   -7.852527263209       -2.25       -1.63   0.80    2.0\n",
      "  3   -7.852637438335       -3.96       -2.71   0.80    1.0\n",
      "  4   -7.852646478584       -5.04       -3.30   0.80    2.2\n",
      "  5   -7.852646677692       -6.70       -4.16   0.80    1.2\n",
      "  6   -7.852646686549       -8.05       -4.78   0.80    1.5\n",
      "  7   -7.852646686717       -9.77       -5.64   0.80    1.5\n",
      "  8   -7.852646686730      -10.91       -6.41   0.80    2.2\n",
      "  9   -7.852646686730      -12.59       -7.58   0.80    1.8\n",
      " 10   -7.852646686730      -14.05       -8.18   0.80    2.2\n",
      " 11   -7.852646686730      -14.75       -9.27   0.80    1.5\n",
      " 12   -7.852646686730   +    -Inf       -9.51   0.80    2.5\n",
      " 13   -7.852646686730   +    -Inf       -9.79   0.80    1.0\n",
      " 14   -7.852646686730   +  -14.45      -10.86   0.80    1.0\n",
      " 15   -7.852646686730      -14.45      -11.20   0.80    2.2\n",
      " 16   -7.852646686730   +  -14.75      -12.11   0.80    1.0\n"
     ]
    }
   ],
   "cell_type": "code",
   "source": [
    "scfres_scfv = DFTK.scf_potential_mixing(basis; is_converged);"
   ],
   "metadata": {},
   "execution_count": 3
  },
  {
   "cell_type": "markdown",
   "source": [
    "## Direct minimization"
   ],
   "metadata": {}
  },
  {
   "outputs": [
    {
     "name": "stdout",
     "output_type": "stream",
     "text": [
      "Iter     Function value   Gradient norm \n",
      "     0     1.442933e+01     4.158441e+00\n",
      " * time: 0.5102031230926514\n",
      "     1     1.190810e+00     1.993544e+00\n",
      " * time: 0.9082019329071045\n",
      "     2    -1.574824e+00     2.258942e+00\n",
      " * time: 0.944382905960083\n",
      "     3    -3.504314e+00     1.817344e+00\n",
      " * time: 0.9961481094360352\n",
      "     4    -4.877634e+00     1.710773e+00\n",
      " * time: 1.037132978439331\n",
      "     5    -6.483805e+00     1.404218e+00\n",
      " * time: 1.078913927078247\n",
      "     6    -7.311805e+00     8.021307e-01\n",
      " * time: 1.1194839477539062\n",
      "     7    -7.608617e+00     8.079301e-01\n",
      " * time: 1.1479980945587158\n",
      "     8    -7.751461e+00     2.682307e-01\n",
      " * time: 1.1768651008605957\n",
      "     9    -7.792524e+00     1.730960e-01\n",
      " * time: 1.2058861255645752\n",
      "    10    -7.814265e+00     1.853800e-01\n",
      " * time: 1.2338049411773682\n",
      "    11    -7.829606e+00     5.546431e-02\n",
      " * time: 1.2620251178741455\n",
      "    12    -7.840207e+00     3.420393e-02\n",
      " * time: 1.2890629768371582\n",
      "    13    -7.844285e+00     2.374787e-02\n",
      " * time: 1.3172569274902344\n",
      "    14    -7.845336e+00     3.421216e-02\n",
      " * time: 1.344731092453003\n",
      "    15    -7.845612e+00     4.485880e-02\n",
      " * time: 1.3847630023956299\n",
      "    16    -7.845623e+00     4.758901e-02\n",
      " * time: 1.4626200199127197\n",
      "    17    -7.845623e+00     4.951062e-02\n",
      " * time: 1.563796043395996\n",
      "    18    -7.845623e+00     4.951062e-02\n",
      " * time: 2.025006055831909\n",
      "    19    -7.845623e+00     4.951062e-02\n",
      " * time: 2.668074131011963\n"
     ]
    }
   ],
   "cell_type": "code",
   "source": [
    "scfres_dm = direct_minimization(basis; tol);"
   ],
   "metadata": {},
   "execution_count": 4
  },
  {
   "cell_type": "markdown",
   "source": [
    "## Newton algorithm"
   ],
   "metadata": {}
  },
  {
   "cell_type": "markdown",
   "source": [
    "Start not too far from the solution to ensure convergence:\n",
    "We run first a very crude SCF to get close and then switch to Newton."
   ],
   "metadata": {}
  },
  {
   "outputs": [
    {
     "name": "stdout",
     "output_type": "stream",
     "text": [
      "n     Energy            log10(ΔE)   log10(Δρ)   Diag\n",
      "---   ---------------   ---------   ---------   ----\n",
      "  1   -7.846747154004                   -0.70    4.8\n",
      "  2   -7.852303307278       -2.26       -1.53    1.0\n"
     ]
    }
   ],
   "cell_type": "code",
   "source": [
    "scfres_start = self_consistent_field(basis; tol=1e-1);"
   ],
   "metadata": {},
   "execution_count": 5
  },
  {
   "cell_type": "markdown",
   "source": [
    "Remove the virtual orbitals (which Newton cannot treat yet)"
   ],
   "metadata": {}
  },
  {
   "outputs": [
    {
     "name": "stdout",
     "output_type": "stream",
     "text": [
      "n     Energy            log10(ΔE)   log10(Δρ)\n",
      "---   ---------------   ---------   ---------\n",
      "  1   -7.852646686673                   -2.55\n",
      "  2   -7.852646686730      -10.25       -5.77\n",
      "  3   -7.852646686730   +    -Inf      -11.87\n",
      "  4   -7.852646686730      -14.75      -15.50\n"
     ]
    }
   ],
   "cell_type": "code",
   "source": [
    "ψ = DFTK.select_occupied_orbitals(basis, scfres_start.ψ, scfres_start.occupation).ψ\n",
    "scfres_newton = newton(basis, ψ; tol);"
   ],
   "metadata": {},
   "execution_count": 6
  },
  {
   "cell_type": "markdown",
   "source": [
    "## Comparison of results"
   ],
   "metadata": {}
  },
  {
   "outputs": [
    {
     "name": "stdout",
     "output_type": "stream",
     "text": [
      "|ρ_newton - ρ_scf|  = 3.4562080625403004e-13\n",
      "|ρ_newton - ρ_scfv| = 7.481886868096052e-13\n",
      "|ρ_newton - ρ_dm|   = 0.016860477678723597\n"
     ]
    }
   ],
   "cell_type": "code",
   "source": [
    "println(\"|ρ_newton - ρ_scf|  = \", norm(scfres_newton.ρ - scfres_scf.ρ))\n",
    "println(\"|ρ_newton - ρ_scfv| = \", norm(scfres_newton.ρ - scfres_scfv.ρ))\n",
    "println(\"|ρ_newton - ρ_dm|   = \", norm(scfres_newton.ρ - scfres_dm.ρ))"
   ],
   "metadata": {},
   "execution_count": 7
  }
 ],
 "nbformat_minor": 3,
 "metadata": {
  "language_info": {
   "file_extension": ".jl",
   "mimetype": "application/julia",
   "name": "julia",
   "version": "1.8.2"
  },
  "kernelspec": {
   "name": "julia-1.8",
   "display_name": "Julia 1.8.2",
   "language": "julia"
  }
 },
 "nbformat": 4
}
