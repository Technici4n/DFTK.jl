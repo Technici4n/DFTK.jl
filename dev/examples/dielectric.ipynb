{
 "cells": [
  {
   "cell_type": "markdown",
   "source": [
    "# Eigenvalues of the dielectric matrix\n",
    "\n",
    "We compute a few eigenvalues of the dielectric matrix ($q=0$, $ω=0$) iteratively."
   ],
   "metadata": {}
  },
  {
   "outputs": [
    {
     "name": "stdout",
     "output_type": "stream",
     "text": [
      "n     Energy            log10(ΔE)   log10(Δρ)   Diag   Δtime\n",
      "---   ---------------   ---------   ---------   ----   ------\n",
      "  1   -7.234610987851                   -0.50    7.0         \n",
      "  2   -7.250077974306       -1.81       -1.39    1.0   6.84ms\n",
      "  3   -7.251037013149       -3.02       -1.95    2.0   7.79ms\n",
      "  4   -7.251107618298       -4.15       -1.95    2.0   8.75ms\n",
      "  5   -7.251321251412       -3.67       -2.51    1.0   7.18ms\n",
      "  6   -7.251337426835       -4.79       -3.02    1.0   7.25ms\n",
      "  7   -7.251338622488       -5.92       -3.67    1.0   7.46ms\n",
      "  8   -7.251338793341       -6.77       -4.07    3.0   10.4ms\n",
      "  9   -7.251338798030       -8.33       -4.58    1.0   7.19ms\n",
      " 10   -7.251338798568       -9.27       -5.18    1.0   7.60ms\n",
      " 11   -7.251338798696       -9.90       -5.41    3.0   9.87ms\n",
      " 12   -7.251338798703      -11.16       -5.76    1.0   7.57ms\n",
      " 13   -7.251338798704      -12.00       -5.98    2.0   9.37ms\n",
      " 14   -7.251338798704      -12.07       -6.50    1.0   7.54ms\n",
      " 15   -7.251338798705      -12.81       -7.06    2.0   8.98ms\n",
      " 16   -7.251338798705      -14.05       -7.17    2.0   8.53ms\n",
      " 17   -7.251338798705      -14.35       -7.71    1.0   7.39ms\n",
      " 18   -7.251338798705   +    -Inf       -8.34    2.0   9.04ms\n"
     ]
    }
   ],
   "cell_type": "code",
   "source": [
    "using DFTK\n",
    "using Plots\n",
    "using KrylovKit\n",
    "using Printf\n",
    "\n",
    "# Calculation parameters\n",
    "kgrid = [1, 1, 1]\n",
    "Ecut = 5\n",
    "\n",
    "# Silicon lattice\n",
    "a = 10.26\n",
    "lattice = a / 2 .* [[0 1 1.]; [1 0 1.]; [1 1 0.]]\n",
    "Si = ElementPsp(:Si, psp=load_psp(\"hgh/lda/Si-q4\"))\n",
    "atoms     = [Si, Si]\n",
    "positions = [ones(3)/8, -ones(3)/8]\n",
    "\n",
    "# Compute the dielectric operator without symmetries\n",
    "model  = model_LDA(lattice, atoms, positions, symmetries=false)\n",
    "basis  = PlaneWaveBasis(model; Ecut, kgrid)\n",
    "scfres = self_consistent_field(basis, tol=1e-8);"
   ],
   "metadata": {},
   "execution_count": 1
  },
  {
   "cell_type": "markdown",
   "source": [
    "Applying $ε^† ≔ (1- χ_0 K)$ …"
   ],
   "metadata": {}
  },
  {
   "outputs": [],
   "cell_type": "code",
   "source": [
    "function eps_fun(δρ)\n",
    "    δV = apply_kernel(basis, δρ; ρ=scfres.ρ)\n",
    "    χ0δV = apply_χ0(scfres, δV)\n",
    "    δρ - χ0δV\n",
    "end;"
   ],
   "metadata": {},
   "execution_count": 2
  },
  {
   "cell_type": "markdown",
   "source": [
    "… eagerly diagonalizes the subspace matrix at each iteration"
   ],
   "metadata": {}
  },
  {
   "outputs": [
    {
     "name": "stdout",
     "output_type": "stream",
     "text": [
      "[ Info: Arnoldi iteration step 1: normres = 0.07867752414303222\n",
      "[ Info: Arnoldi iteration step 2: normres = 0.19960763632382306\n",
      "[ Info: Arnoldi iteration step 3: normres = 0.5015881419044331\n",
      "[ Info: Arnoldi iteration step 4: normres = 0.722677225440526\n",
      "[ Info: Arnoldi iteration step 5: normres = 0.8081766824928922\n",
      "[ Info: Arnoldi schursolve in iter 1, krylovdim = 5: 0 values converged, normres = (4.88e-01, 9.52e-02, 6.05e-01, 1.98e-01, 2.43e-02)\n",
      "[ Info: Arnoldi iteration step 6: normres = 0.1905211745451693\n",
      "[ Info: Arnoldi schursolve in iter 1, krylovdim = 6: 0 values converged, normres = (7.17e-02, 5.31e-02, 1.04e-01, 1.10e-01, 3.13e-02)\n",
      "[ Info: Arnoldi iteration step 7: normres = 0.07166764053005673\n",
      "[ Info: Arnoldi schursolve in iter 1, krylovdim = 7: 0 values converged, normres = (2.45e-03, 3.36e-03, 6.87e-03, 4.81e-02, 4.87e-02)\n",
      "[ Info: Arnoldi iteration step 8: normres = 0.09674657993730995\n",
      "[ Info: Arnoldi schursolve in iter 1, krylovdim = 8: 0 values converged, normres = (1.01e-04, 2.27e-04, 5.13e-04, 1.35e-02, 2.79e-02)\n",
      "[ Info: Arnoldi iteration step 9: normres = 0.07302374008955484\n",
      "[ Info: Arnoldi schursolve in iter 1, krylovdim = 9: 0 values converged, normres = (3.20e-06, 1.18e-05, 2.98e-05, 3.43e-03, 2.66e-02)\n",
      "[ Info: Arnoldi iteration step 10: normres = 0.09479454715479164\n",
      "[ Info: Arnoldi schursolve in iter 1, krylovdim = 10: 0 values converged, normres = (1.32e-07, 8.09e-07, 2.26e-06, 1.11e-03, 2.77e-02)\n",
      "[ Info: Arnoldi iteration step 11: normres = 0.08875426368244752\n",
      "[ Info: Arnoldi schursolve in iter 1, krylovdim = 11: 0 values converged, normres = (5.17e-09, 5.27e-08, 1.64e-07, 4.09e-04, 4.63e-02)\n",
      "[ Info: Arnoldi iteration step 12: normres = 0.07918283515081659\n",
      "[ Info: Arnoldi schursolve in iter 1, krylovdim = 12: 0 values converged, normres = (1.75e-10, 2.93e-09, 1.01e-08, 1.04e-04, 2.19e-02)\n",
      "[ Info: Arnoldi iteration step 13: normres = 0.07861377600200761\n",
      "[ Info: Arnoldi schursolve in iter 1, krylovdim = 13: 0 values converged, normres = (5.87e-12, 1.60e-10, 6.12e-10, 2.40e-05, 9.22e-03)\n",
      "[ Info: Arnoldi iteration step 14: normres = 0.6197882728036055\n",
      "[ Info: Arnoldi schursolve in iter 1, krylovdim = 14: 0 values converged, normres = (2.87e-12, 2.74e-10, 1.71e-09, 6.16e-01, 6.26e-03)\n",
      "[ Info: Arnoldi iteration step 15: normres = 0.15055960314411532\n",
      "[ Info: Arnoldi schursolve in iter 1, krylovdim = 15: 1 values converged, normres = (2.33e-13, 1.57e-10, 7.08e-02, 5.70e-04, 2.49e-06)\n",
      "[ Info: Arnoldi iteration step 16: normres = 0.19593891554245865\n",
      "[ Info: Arnoldi schursolve in iter 1, krylovdim = 16: 1 values converged, normres = (4.45e-14, 1.11e-09, 1.05e-01, 3.11e-03, 1.64e-01)\n",
      "[ Info: Arnoldi iteration step 17: normres = 0.033320575348276045\n",
      "[ Info: Arnoldi schursolve in iter 1, krylovdim = 17: 1 values converged, normres = (6.40e-16, 2.76e-03, 9.82e-04, 1.69e-03, 3.17e-03)\n",
      "[ Info: Arnoldi iteration step 18: normres = 0.02198172227654401\n",
      "[ Info: Arnoldi schursolve in iter 1, krylovdim = 18: 1 values converged, normres = (5.85e-18, 9.03e-09, 4.30e-05, 5.66e-05, 1.39e-05)\n",
      "[ Info: Arnoldi iteration step 19: normres = 0.03967923299799314\n",
      "[ Info: Arnoldi schursolve in iter 1, krylovdim = 19: 1 values converged, normres = (9.56e-20, 1.05e-08, 1.12e-06, 8.61e-09, 1.67e-06)\n",
      "[ Info: Arnoldi iteration step 20: normres = 0.15857760376033544\n",
      "[ Info: Arnoldi schursolve in iter 1, krylovdim = 20: 1 values converged, normres = (7.28e-21, 1.42e-07, 5.25e-08, 2.54e-07, 2.65e-08)\n",
      "[ Info: Arnoldi iteration step 21: normres = 0.02839805504639211\n",
      "[ Info: Arnoldi schursolve in iter 1, krylovdim = 21: 1 values converged, normres = (8.85e-23, 4.11e-10, 3.00e-09, 1.55e-09, 5.48e-09)\n",
      "[ Info: Arnoldi iteration step 22: normres = 0.14080241799379042\n",
      "[ Info: Arnoldi schursolve in iter 1, krylovdim = 22: 1 values converged, normres = (5.20e-24, 4.23e-11, 2.83e-10, 1.47e-10, 5.76e-10)\n",
      "[ Info: Arnoldi iteration step 23: normres = 0.24332403088129623\n",
      "[ Info: Arnoldi schursolve in iter 1, krylovdim = 23: 1 values converged, normres = (1.15e-24, 5.49e-11, 3.65e-10, 8.10e-10, 2.92e-09)\n",
      "[ Info: Arnoldi iteration step 24: normres = 0.015079706367199757\n",
      "[ Info: Arnoldi schursolve in iter 1, krylovdim = 24: 2 values converged, normres = (7.46e-27, 7.22e-13, 4.83e-12, 4.22e-08, 5.56e-08)\n",
      "[ Info: Arnoldi iteration step 25: normres = 0.06694205676899553\n",
      "[ Info: Arnoldi schursolve in iter 1, krylovdim = 25: 3 values converged, normres = (2.06e-28, 3.18e-14, 2.13e-13, 9.94e-09, 5.04e-08)\n",
      "[ Info: Arnoldi iteration step 26: normres = 0.07669407557600424\n",
      "[ Info: Arnoldi schursolve in iter 1, krylovdim = 26: 3 values converged, normres = (7.07e-30, 1.84e-15, 1.23e-14, 5.67e-06, 3.14e-07)\n",
      "[ Info: Arnoldi iteration step 27: normres = 0.020175067164651405\n",
      "[ Info: Arnoldi schursolve in iter 1, krylovdim = 27: 3 values converged, normres = (5.90e-32, 2.46e-17, 1.65e-16, 5.28e-08, 1.86e-08)\n",
      "[ Info: Arnoldi iteration step 28: normres = 0.10095067871805967\n",
      "[ Info: Arnoldi schursolve in iter 1, krylovdim = 28: 3 values converged, normres = (2.55e-33, 1.74e-18, 1.16e-17, 2.93e-09, 9.06e-09)\n",
      "[ Info: Arnoldi iteration step 29: normres = 0.02546358258614137\n",
      "[ Info: Arnoldi schursolve in iter 1, krylovdim = 29: 3 values converged, normres = (2.77e-35, 3.09e-20, 2.07e-19, 2.45e-11, 1.80e-10)\n",
      "[ Info: Arnoldi iteration step 30: normres = 0.22448440849959606\n",
      "[ Info: Arnoldi schursolve in iter 1, krylovdim = 30: 3 values converged, normres = (2.81e-36, 5.31e-21, 3.55e-20, 4.71e-12, 3.45e-11)\n",
      "[ Info: Arnoldi schursolve in iter 2, krylovdim = 19: 3 values converged, normres = (2.81e-36, 5.31e-21, 3.55e-20, 4.71e-12, 3.45e-11)\n",
      "[ Info: Arnoldi iteration step 20: normres = 0.04438512208011772\n",
      "[ Info: Arnoldi schursolve in iter 2, krylovdim = 20: 4 values converged, normres = (5.68e-38, 1.85e-22, 1.23e-21, 1.85e-13, 1.35e-12)\n",
      "[ Info: Arnoldi iteration step 21: normres = 0.06689702159659643\n",
      "┌ Info: Arnoldi eigsolve finished after 2 iterations:\n",
      "│ *  6 eigenvalues converged\n",
      "│ *  norm of residuals = (1.6279510554039063e-39, 8.66542970413942e-24, 5.853099793714346e-23, 9.614581473306719e-15, 7.016849412672848e-14, 5.031857722493475e-14)\n",
      "└ *  number of operations = 32\n"
     ]
    }
   ],
   "cell_type": "code",
   "source": [
    "eigsolve(eps_fun, randn(size(scfres.ρ)), 5, :LM; eager=true, verbosity=3);"
   ],
   "metadata": {},
   "execution_count": 3
  }
 ],
 "nbformat_minor": 3,
 "metadata": {
  "language_info": {
   "file_extension": ".jl",
   "mimetype": "application/julia",
   "name": "julia",
   "version": "1.9.3"
  },
  "kernelspec": {
   "name": "julia-1.9",
   "display_name": "Julia 1.9.3",
   "language": "julia"
  }
 },
 "nbformat": 4
}
