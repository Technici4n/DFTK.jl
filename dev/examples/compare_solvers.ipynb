{
 "cells": [
  {
   "cell_type": "markdown",
   "source": [
    "# Comparison of DFT solvers"
   ],
   "metadata": {}
  },
  {
   "cell_type": "markdown",
   "source": [
    "We compare four different approaches for solving the DFT minimisation problem,\n",
    "namely a density-based SCF, a potential-based SCF, direct minimisation and Newton."
   ],
   "metadata": {}
  },
  {
   "cell_type": "markdown",
   "source": [
    "First we setup our problem"
   ],
   "metadata": {}
  },
  {
   "outputs": [
    {
     "output_type": "execute_result",
     "data": {
      "text/plain": "1.0e-6"
     },
     "metadata": {},
     "execution_count": 1
    }
   ],
   "cell_type": "code",
   "source": [
    "using DFTK\n",
    "using LinearAlgebra\n",
    "\n",
    "a = 10.26  # Silicon lattice constant in Bohr\n",
    "lattice = a / 2 * [[0 1 1.];\n",
    "                   [1 0 1.];\n",
    "                   [1 1 0.]]\n",
    "Si = ElementPsp(:Si, psp=load_psp(\"hgh/lda/Si-q4\"))\n",
    "atoms     = [Si, Si]\n",
    "positions = [ones(3)/8, -ones(3)/8]\n",
    "\n",
    "model = model_LDA(lattice, atoms, positions)\n",
    "basis = PlaneWaveBasis(model; Ecut=5, kgrid=[3, 3, 3])\n",
    "\n",
    "# Convergence we desire in the density\n",
    "tol = 1e-6"
   ],
   "metadata": {},
   "execution_count": 1
  },
  {
   "cell_type": "markdown",
   "source": [
    "## Density-based self-consistent field"
   ],
   "metadata": {}
  },
  {
   "outputs": [
    {
     "name": "stdout",
     "output_type": "stream",
     "text": [
      "n     Energy            log10(ΔE)   log10(Δρ)   Diag   Δtime\n",
      "---   ---------------   ---------   ---------   ----   ------\n",
      "  1   -7.846836510189                   -0.70    4.5         \n",
      "  2   -7.852320102264       -2.26       -1.53    1.0   22.3ms\n",
      "  3   -7.852615149103       -3.53       -2.56    1.5   24.8ms\n",
      "  4   -7.852645988885       -4.51       -2.88    2.5   31.1ms\n",
      "  5   -7.852646497321       -6.29       -3.16    1.0   22.8ms\n",
      "  6   -7.852646678499       -6.74       -3.97    1.0   23.2ms\n",
      "  7   -7.852646686362       -8.10       -5.08    1.5   26.2ms\n",
      "  8   -7.852646686722       -9.44       -5.39    2.5   31.4ms\n",
      "  9   -7.852646686729      -11.16       -5.94    1.0   23.1ms\n",
      " 10   -7.852646686730      -12.23       -6.32    1.2   25.2ms\n"
     ]
    }
   ],
   "cell_type": "code",
   "source": [
    "scfres_scf = self_consistent_field(basis; tol);"
   ],
   "metadata": {},
   "execution_count": 2
  },
  {
   "cell_type": "markdown",
   "source": [
    "## Potential-based SCF"
   ],
   "metadata": {}
  },
  {
   "outputs": [
    {
     "name": "stdout",
     "output_type": "stream",
     "text": [
      "n     Energy            log10(ΔE)   log10(Δρ)   α      Diag   Δtime\n",
      "---   ---------------   ---------   ---------   ----   ----   ------\n",
      "  1   -7.846711339708                   -0.70           4.8         \n",
      "  2   -7.852551417790       -2.23       -1.64   0.80    2.0    251ms\n",
      "  3   -7.852637516473       -4.07       -2.76   0.80    1.0   21.8ms\n",
      "  4   -7.852646559659       -5.04       -3.30   0.80    2.0   27.1ms\n",
      "  5   -7.852646676212       -6.93       -4.15   0.80    1.0   21.2ms\n",
      "  6   -7.852646686350       -7.99       -4.83   0.80    1.5   24.3ms\n",
      "  7   -7.852646686720       -9.43       -5.82   0.80    1.8   25.2ms\n",
      "  8   -7.852646686730      -11.00       -6.61   0.80    2.5   28.8ms\n"
     ]
    }
   ],
   "cell_type": "code",
   "source": [
    "scfres_scfv = DFTK.scf_potential_mixing(basis; tol);"
   ],
   "metadata": {},
   "execution_count": 3
  },
  {
   "cell_type": "markdown",
   "source": [
    "## Direct minimization\n",
    "Note: Unlike the other algorithms, tolerance for this one is in the energy,\n",
    "thus we square the density tolerance value to be roughly equivalent."
   ],
   "metadata": {}
  },
  {
   "outputs": [
    {
     "name": "stdout",
     "output_type": "stream",
     "text": [
      "Iter     Function value   Gradient norm \n",
      "     0     1.392974e+01     3.658807e+00\n",
      " * time: 0.0574040412902832\n",
      "     1     1.006004e+00     1.888416e+00\n",
      " * time: 0.26959896087646484\n",
      "     2    -1.793979e+00     2.055529e+00\n",
      " * time: 0.29210805892944336\n",
      "     3    -3.781946e+00     1.724610e+00\n",
      " * time: 0.3252260684967041\n",
      "     4    -5.340734e+00     1.336223e+00\n",
      " * time: 0.3573930263519287\n",
      "     5    -6.910200e+00     8.413963e-01\n",
      " * time: 0.38973212242126465\n",
      "     6    -7.122929e+00     1.181162e+00\n",
      " * time: 0.41250109672546387\n",
      "     7    -7.633963e+00     8.734192e-01\n",
      " * time: 0.43518805503845215\n",
      "     8    -7.698615e+00     1.257339e+00\n",
      " * time: 0.45757603645324707\n",
      "     9    -7.724728e+00     9.670677e-01\n",
      " * time: 0.4801759719848633\n",
      "    10    -7.763006e+00     4.636726e-01\n",
      " * time: 0.512455940246582\n",
      "    11    -7.795849e+00     6.360716e-01\n",
      " * time: 0.5352420806884766\n",
      "    12    -7.816957e+00     1.114486e-01\n",
      " * time: 0.5577669143676758\n",
      "    13    -7.829783e+00     9.277646e-02\n",
      " * time: 0.5804688930511475\n",
      "    14    -7.845937e+00     1.016578e-01\n",
      " * time: 0.6032609939575195\n",
      "    15    -7.849126e+00     7.055614e-02\n",
      " * time: 0.625730037689209\n",
      "    16    -7.851010e+00     3.395614e-02\n",
      " * time: 0.6484429836273193\n",
      "    17    -7.851927e+00     2.616648e-02\n",
      " * time: 0.6709449291229248\n",
      "    18    -7.852450e+00     7.481464e-03\n",
      " * time: 0.6934731006622314\n",
      "    19    -7.852570e+00     5.096723e-03\n",
      " * time: 0.7738161087036133\n",
      "    20    -7.852625e+00     2.639969e-03\n",
      " * time: 0.7966489791870117\n",
      "    21    -7.852638e+00     1.584566e-03\n",
      " * time: 0.8193480968475342\n",
      "    22    -7.852643e+00     1.064759e-03\n",
      " * time: 0.8416581153869629\n",
      "    23    -7.852646e+00     6.035307e-04\n",
      " * time: 0.8645799160003662\n",
      "    24    -7.852646e+00     3.241753e-04\n",
      " * time: 0.8870849609375\n",
      "    25    -7.852647e+00     1.812590e-04\n",
      " * time: 0.9095900058746338\n",
      "    26    -7.852647e+00     1.181678e-04\n",
      " * time: 0.9319119453430176\n",
      "    27    -7.852647e+00     6.893115e-05\n",
      " * time: 0.95436692237854\n",
      "    28    -7.852647e+00     3.921454e-05\n",
      " * time: 0.9773070812225342\n",
      "    29    -7.852647e+00     2.879959e-05\n",
      " * time: 0.9998459815979004\n",
      "    30    -7.852647e+00     1.073511e-05\n",
      " * time: 1.0222930908203125\n",
      "    31    -7.852647e+00     5.216913e-06\n",
      " * time: 1.0449090003967285\n",
      "    32    -7.852647e+00     2.961709e-06\n",
      " * time: 1.0677900314331055\n",
      "    33    -7.852647e+00     1.934257e-06\n",
      " * time: 1.0905311107635498\n",
      "    34    -7.852647e+00     1.339526e-06\n",
      " * time: 1.1135120391845703\n",
      "    35    -7.852647e+00     6.190972e-07\n",
      " * time: 1.1359219551086426\n",
      "    36    -7.852647e+00     4.000155e-07\n",
      " * time: 1.158613920211792\n",
      "    37    -7.852647e+00     3.048071e-07\n",
      " * time: 1.1810619831085205\n",
      "    38    -7.852647e+00     9.862271e-08\n",
      " * time: 1.2034070491790771\n",
      "    39    -7.852647e+00     5.764529e-08\n",
      " * time: 1.2262980937957764\n",
      "    40    -7.852647e+00     3.962695e-08\n",
      " * time: 1.2492039203643799\n",
      "    41    -7.852647e+00     2.118146e-08\n",
      " * time: 1.2716341018676758\n",
      "    42    -7.852647e+00     1.043690e-08\n",
      " * time: 1.2943840026855469\n",
      "    43    -7.852647e+00     6.968294e-09\n",
      " * time: 1.317073106765747\n"
     ]
    }
   ],
   "cell_type": "code",
   "source": [
    "scfres_dm = direct_minimization(basis; tol=tol^2);"
   ],
   "metadata": {},
   "execution_count": 4
  },
  {
   "cell_type": "markdown",
   "source": [
    "## Newton algorithm"
   ],
   "metadata": {}
  },
  {
   "cell_type": "markdown",
   "source": [
    "Start not too far from the solution to ensure convergence:\n",
    "We run first a very crude SCF to get close and then switch to Newton."
   ],
   "metadata": {}
  },
  {
   "outputs": [
    {
     "name": "stdout",
     "output_type": "stream",
     "text": [
      "n     Energy            log10(ΔE)   log10(Δρ)   Diag   Δtime\n",
      "---   ---------------   ---------   ---------   ----   ------\n",
      "  1   -7.846903803553                   -0.70    4.5         \n"
     ]
    }
   ],
   "cell_type": "code",
   "source": [
    "scfres_start = self_consistent_field(basis; tol=0.5);"
   ],
   "metadata": {},
   "execution_count": 5
  },
  {
   "cell_type": "markdown",
   "source": [
    "Remove the virtual orbitals (which Newton cannot treat yet)"
   ],
   "metadata": {}
  },
  {
   "outputs": [
    {
     "name": "stdout",
     "output_type": "stream",
     "text": [
      "n     Energy            log10(ΔE)   log10(Δρ)   Δtime\n",
      "---   ---------------   ---------   ---------   ------\n",
      "  1   -7.852645923303                   -1.64         \n",
      "  2   -7.852646686730       -6.12       -3.71    1.84s\n",
      "  3   -7.852646686730      -13.30       -7.26    185ms\n"
     ]
    }
   ],
   "cell_type": "code",
   "source": [
    "ψ = DFTK.select_occupied_orbitals(basis, scfres_start.ψ, scfres_start.occupation).ψ\n",
    "scfres_newton = newton(basis, ψ; tol);"
   ],
   "metadata": {},
   "execution_count": 6
  },
  {
   "cell_type": "markdown",
   "source": [
    "## Comparison of results"
   ],
   "metadata": {}
  },
  {
   "outputs": [
    {
     "name": "stdout",
     "output_type": "stream",
     "text": [
      "|ρ_newton - ρ_scf|  = 4.0753162055331485e-7\n",
      "|ρ_newton - ρ_scfv| = 1.3879863813519674e-7\n",
      "|ρ_newton - ρ_dm|   = 9.674000561725078e-10\n"
     ]
    }
   ],
   "cell_type": "code",
   "source": [
    "println(\"|ρ_newton - ρ_scf|  = \", norm(scfres_newton.ρ - scfres_scf.ρ))\n",
    "println(\"|ρ_newton - ρ_scfv| = \", norm(scfres_newton.ρ - scfres_scfv.ρ))\n",
    "println(\"|ρ_newton - ρ_dm|   = \", norm(scfres_newton.ρ - scfres_dm.ρ))"
   ],
   "metadata": {},
   "execution_count": 7
  }
 ],
 "nbformat_minor": 3,
 "metadata": {
  "language_info": {
   "file_extension": ".jl",
   "mimetype": "application/julia",
   "name": "julia",
   "version": "1.9.1"
  },
  "kernelspec": {
   "name": "julia-1.9",
   "display_name": "Julia 1.9.1",
   "language": "julia"
  }
 },
 "nbformat": 4
}
