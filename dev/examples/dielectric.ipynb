{
 "cells": [
  {
   "cell_type": "markdown",
   "source": [
    "# Eigenvalues of the dielectric matrix\n",
    "\n",
    "We compute a few eigenvalues of the dielectric matrix ($q=0$, $ω=0$) iteratively."
   ],
   "metadata": {}
  },
  {
   "outputs": [
    {
     "name": "stdout",
     "output_type": "stream",
     "text": [
      "n     Energy            log10(ΔE)   log10(Δρ)   Diag\n",
      "---   ---------------   ---------   ---------   ----\n",
      "  1   -7.234909221967                   -0.50    8.0\n",
      "  2   -7.250318760757       -1.81       -1.40    1.0\n",
      "  3   -7.251312865332       -3.00       -2.13    4.0\n",
      "  4   -7.251299379330   +   -4.87       -2.28    4.0\n",
      "  5   -7.251332616890       -4.48       -2.76    2.0\n",
      "  6   -7.251336727352       -5.39       -2.99    2.0\n",
      "  7   -7.251338767995       -5.69       -3.90    1.0\n",
      "  8   -7.251338795979       -7.55       -4.30    4.0\n",
      "  9   -7.251338798566       -8.59       -4.99    2.0\n",
      " 10   -7.251338798692       -9.90       -5.51    3.0\n",
      " 11   -7.251338798702      -11.01       -5.81    3.0\n",
      " 12   -7.251338798704      -11.58       -6.29    2.0\n",
      " 13   -7.251338798705      -12.60       -6.81    3.0\n",
      " 14   -7.251338798705      -13.80       -7.05    1.0\n",
      " 15   -7.251338798705      -14.35       -7.37    2.0\n"
     ]
    }
   ],
   "cell_type": "code",
   "source": [
    "using DFTK\n",
    "using Plots\n",
    "using KrylovKit\n",
    "using Printf\n",
    "\n",
    "# Calculation parameters\n",
    "kgrid = [1, 1, 1]\n",
    "Ecut = 5\n",
    "\n",
    "# Silicon lattice\n",
    "a = 10.26\n",
    "lattice = a / 2 .* [[0 1 1.]; [1 0 1.]; [1 1 0.]]\n",
    "Si = ElementPsp(:Si, psp=load_psp(\"hgh/lda/Si-q4\"))\n",
    "atoms     = [Si, Si]\n",
    "positions = [ones(3)/8, -ones(3)/8]\n",
    "\n",
    "# Compute the dielectric operator without symmetries\n",
    "model = model_LDA(lattice, atoms, positions, symmetries=false)\n",
    "basis = PlaneWaveBasis(model; Ecut, kgrid)\n",
    "scfres = self_consistent_field(basis, tol=1e-14);"
   ],
   "metadata": {},
   "execution_count": 1
  },
  {
   "cell_type": "markdown",
   "source": [
    "Applying $ε^† ≔ (1- χ_0 K)$ …"
   ],
   "metadata": {}
  },
  {
   "outputs": [],
   "cell_type": "code",
   "source": [
    "function eps_fun(δρ)\n",
    "    δV = apply_kernel(basis, δρ; ρ=scfres.ρ)\n",
    "    χ0δV = apply_χ0(scfres, δV)\n",
    "    δρ - χ0δV\n",
    "end;"
   ],
   "metadata": {},
   "execution_count": 2
  },
  {
   "cell_type": "markdown",
   "source": [
    "… eagerly diagonalizes the subspace matrix at each iteration"
   ],
   "metadata": {}
  },
  {
   "outputs": [
    {
     "name": "stdout",
     "output_type": "stream",
     "text": [
      "[ Info: Arnoldi iteration step 1: normres = 0.02773544392666214\n",
      "[ Info: Arnoldi iteration step 2: normres = 0.5833026752586292\n",
      "[ Info: Arnoldi iteration step 3: normres = 0.2805887146613025\n",
      "[ Info: Arnoldi iteration step 4: normres = 0.7329154971285935\n",
      "[ Info: Arnoldi iteration step 5: normres = 0.5720362529651676\n",
      "[ Info: Arnoldi schursolve in iter 1, krylovdim = 5: 0 values converged, normres = (5.06e-01, 1.01e-01, 1.65e-01, 1.76e-01, 5.25e-02)\n",
      "[ Info: Arnoldi iteration step 6: normres = 0.565025442873891\n",
      "[ Info: Arnoldi schursolve in iter 1, krylovdim = 6: 0 values converged, normres = (2.56e-01, 1.03e-01, 4.78e-01, 9.20e-02, 3.80e-02)\n",
      "[ Info: Arnoldi iteration step 7: normres = 0.08999549452510035\n",
      "[ Info: Arnoldi schursolve in iter 1, krylovdim = 7: 0 values converged, normres = (1.34e-02, 2.10e-02, 3.46e-02, 2.87e-02, 6.47e-02)\n",
      "[ Info: Arnoldi iteration step 8: normres = 0.10149721556398027\n",
      "[ Info: Arnoldi schursolve in iter 1, krylovdim = 8: 0 values converged, normres = (5.75e-04, 1.46e-03, 2.66e-03, 8.09e-03, 3.74e-02)\n",
      "[ Info: Arnoldi iteration step 9: normres = 0.06361915349783462\n",
      "[ Info: Arnoldi schursolve in iter 1, krylovdim = 9: 0 values converged, normres = (1.60e-05, 6.72e-05, 1.36e-04, 1.86e-03, 2.91e-02)\n",
      "[ Info: Arnoldi iteration step 10: normres = 0.0975152302514071\n",
      "[ Info: Arnoldi schursolve in iter 1, krylovdim = 10: 0 values converged, normres = (6.84e-07, 4.79e-06, 1.08e-05, 6.73e-04, 3.65e-02)\n",
      "[ Info: Arnoldi iteration step 11: normres = 0.09512064867463191\n",
      "[ Info: Arnoldi schursolve in iter 1, krylovdim = 11: 0 values converged, normres = (2.82e-08, 3.26e-07, 8.18e-07, 2.30e-04, 3.94e-02)\n",
      "[ Info: Arnoldi iteration step 12: normres = 0.07115919632434337\n",
      "[ Info: Arnoldi schursolve in iter 1, krylovdim = 12: 0 values converged, normres = (8.78e-10, 1.68e-08, 4.71e-08, 6.15e-05, 2.35e-02)\n",
      "[ Info: Arnoldi iteration step 13: normres = 0.0475552720495697\n",
      "[ Info: Arnoldi schursolve in iter 1, krylovdim = 13: 0 values converged, normres = (1.77e-11, 5.51e-10, 1.71e-09, 8.37e-06, 5.97e-03)\n",
      "[ Info: Arnoldi iteration step 14: normres = 0.6403219016409589\n",
      "[ Info: Arnoldi schursolve in iter 1, krylovdim = 14: 0 values converged, normres = (7.56e-12, 5.97e-10, 2.42e-09, 6.36e-01, 3.15e-03)\n",
      "[ Info: Arnoldi iteration step 15: normres = 0.11602621125608827\n",
      "[ Info: Arnoldi schursolve in iter 1, krylovdim = 15: 1 values converged, normres = (5.39e-13, 2.72e-10, 6.57e-02, 2.01e-03, 2.45e-05)\n",
      "[ Info: Arnoldi iteration step 16: normres = 0.3846663315242135\n",
      "[ Info: Arnoldi schursolve in iter 1, krylovdim = 16: 1 values converged, normres = (1.94e-13, 8.08e-10, 2.16e-01, 4.23e-02, 3.13e-01)\n",
      "[ Info: Arnoldi iteration step 17: normres = 0.032978038996732836\n",
      "[ Info: Arnoldi schursolve in iter 1, krylovdim = 17: 1 values converged, normres = (3.00e-15, 6.95e-03, 2.67e-03, 1.47e-05, 5.15e-03)\n",
      "[ Info: Arnoldi iteration step 18: normres = 0.01961169803567912\n",
      "[ Info: Arnoldi schursolve in iter 1, krylovdim = 18: 1 values converged, normres = (2.43e-17, 1.87e-05, 9.48e-05, 1.67e-05, 7.15e-05)\n",
      "[ Info: Arnoldi iteration step 19: normres = 0.16836796242130425\n",
      "[ Info: Arnoldi schursolve in iter 1, krylovdim = 19: 1 values converged, normres = (1.72e-18, 4.19e-08, 1.11e-05, 2.21e-07, 9.29e-06)\n",
      "[ Info: Arnoldi iteration step 20: normres = 0.08260330737399631\n",
      "[ Info: Arnoldi schursolve in iter 1, krylovdim = 20: 1 values converged, normres = (6.93e-20, 7.34e-07, 3.18e-07, 3.35e-07, 6.89e-07)\n",
      "[ Info: Arnoldi iteration step 21: normres = 0.030268238040079453\n",
      "[ Info: Arnoldi schursolve in iter 1, krylovdim = 21: 1 values converged, normres = (8.79e-22, 9.34e-10, 1.64e-08, 1.71e-08, 3.04e-09)\n",
      "[ Info: Arnoldi iteration step 22: normres = 0.22683911276211358\n",
      "[ Info: Arnoldi schursolve in iter 1, krylovdim = 22: 1 values converged, normres = (8.31e-23, 1.68e-10, 2.49e-09, 2.77e-09, 8.92e-10)\n",
      "[ Info: Arnoldi iteration step 23: normres = 0.09021583786151936\n",
      "[ Info: Arnoldi schursolve in iter 1, krylovdim = 23: 1 values converged, normres = (7.04e-24, 1.06e-10, 1.54e-09, 1.08e-07, 1.77e-08)\n",
      "[ Info: Arnoldi iteration step 24: normres = 0.013852326975429577\n",
      "[ Info: Arnoldi schursolve in iter 1, krylovdim = 24: 2 values converged, normres = (4.01e-26, 9.59e-13, 1.42e-11, 3.26e-08, 4.06e-07)\n",
      "[ Info: Arnoldi iteration step 25: normres = 0.06184995933378426\n",
      "[ Info: Arnoldi schursolve in iter 1, krylovdim = 25: 3 values converged, normres = (1.02e-27, 3.90e-14, 5.77e-13, 2.04e-07, 1.28e-07)\n",
      "[ Info: Arnoldi iteration step 26: normres = 0.05038290936541609\n",
      "[ Info: Arnoldi schursolve in iter 1, krylovdim = 26: 3 values converged, normres = (2.31e-29, 1.49e-15, 2.20e-14, 1.67e-06, 1.08e-07)\n",
      "[ Info: Arnoldi iteration step 27: normres = 0.09141635141078296\n",
      "[ Info: Arnoldi schursolve in iter 1, krylovdim = 27: 3 values converged, normres = (8.83e-31, 9.17e-17, 1.36e-15, 4.11e-08, 5.78e-09)\n",
      "[ Info: Arnoldi iteration step 28: normres = 0.03325144302448318\n",
      "[ Info: Arnoldi schursolve in iter 1, krylovdim = 28: 3 values converged, normres = (1.29e-32, 2.24e-18, 3.32e-17, 1.23e-09, 1.86e-09)\n",
      "[ Info: Arnoldi iteration step 29: normres = 0.040709802688635395\n",
      "[ Info: Arnoldi schursolve in iter 1, krylovdim = 29: 3 values converged, normres = (2.17e-34, 5.99e-20, 8.85e-19, 3.60e-11, 5.24e-11)\n",
      "[ Info: Arnoldi iteration step 30: normres = 0.12485818888272644\n",
      "[ Info: Arnoldi schursolve in iter 1, krylovdim = 30: 3 values converged, normres = (1.35e-35, 6.76e-21, 9.99e-20, 4.65e-12, 6.78e-12)\n",
      "[ Info: Arnoldi schursolve in iter 2, krylovdim = 19: 3 values converged, normres = (1.35e-35, 6.76e-21, 9.99e-20, 4.65e-12, 6.78e-12)\n",
      "[ Info: Arnoldi iteration step 20: normres = 0.04100580589242168\n",
      "┌ Info: Arnoldi eigsolve finished after 2 iterations:\n",
      "│ *  6 eigenvalues converged\n",
      "│ *  norm of residuals = (2.29223712094669e-37, 1.8436040395016897e-22, 2.7082211558239768e-21, 1.399523417634739e-13, 1.9939833250702606e-13, 1.3393251921488323e-13)\n",
      "└ *  number of operations = 31\n"
     ]
    }
   ],
   "cell_type": "code",
   "source": [
    "eigsolve(eps_fun, randn(size(scfres.ρ)), 5, :LM; eager=true, verbosity=3);"
   ],
   "metadata": {},
   "execution_count": 3
  }
 ],
 "nbformat_minor": 3,
 "metadata": {
  "language_info": {
   "file_extension": ".jl",
   "mimetype": "application/julia",
   "name": "julia",
   "version": "1.8.2"
  },
  "kernelspec": {
   "name": "julia-1.8",
   "display_name": "Julia 1.8.2",
   "language": "julia"
  }
 },
 "nbformat": 4
}
