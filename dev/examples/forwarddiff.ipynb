{
 "cells": [
  {
   "cell_type": "markdown",
   "source": [
    "# Polarizability using automatic differentiation\n",
    "\n",
    "Simple example for computing properties using (forward-mode)\n",
    "automatic differentiation.\n",
    "For a more classical approach and more details about computing polarizabilities,\n",
    "see Polarizability by linear response."
   ],
   "metadata": {}
  },
  {
   "outputs": [],
   "cell_type": "code",
   "source": [
    "using DFTK\n",
    "using LinearAlgebra\n",
    "using ForwardDiff\n",
    "\n",
    "# Construct PlaneWaveBasis given a particular electric field strength\n",
    "# Again we take the example of a Helium atom.\n",
    "function make_basis(ε::T; a=10., Ecut=30) where {T}\n",
    "    lattice=T(a) * I(3)  # lattice is a cube of $a$ Bohrs\n",
    "    # Helium at the center of the box\n",
    "    atoms     = [ElementPsp(:He, psp=load_psp(\"hgh/lda/He-q2\"))]\n",
    "    positions = [[1/2, 1/2, 1/2]]\n",
    "\n",
    "    model = model_DFT(lattice, atoms, positions, [:lda_x, :lda_c_vwn];\n",
    "                      extra_terms=[ExternalFromReal(r -> -ε * (r[1] - a/2))],\n",
    "                      symmetries=false)\n",
    "    PlaneWaveBasis(model; Ecut, kgrid=[1, 1, 1])  # No k-point sampling on isolated system\n",
    "end\n",
    "\n",
    "# dipole moment of a given density (assuming the current geometry)\n",
    "function dipole(basis, ρ)\n",
    "    @assert isdiag(basis.model.lattice)\n",
    "    a  = basis.model.lattice[1, 1]\n",
    "    rr = [a * (r[1] - 1/2) for r in r_vectors(basis)]\n",
    "    sum(rr .* ρ) * basis.dvol\n",
    "end\n",
    "\n",
    "# Function to compute the dipole for a given field strength\n",
    "function compute_dipole(ε; tol=1e-8, kwargs...)\n",
    "    scfres = self_consistent_field(make_basis(ε; kwargs...); tol)\n",
    "    dipole(scfres.basis, scfres.ρ)\n",
    "end;"
   ],
   "metadata": {},
   "execution_count": 1
  },
  {
   "cell_type": "markdown",
   "source": [
    "With this in place we can compute the polarizability from finite differences\n",
    "(just like in the previous example):"
   ],
   "metadata": {}
  },
  {
   "outputs": [
    {
     "name": "stdout",
     "output_type": "stream",
     "text": [
      "n     Energy            log10(ΔE)   log10(Δρ)   Diag   Δtime\n",
      "---   ---------------   ---------   ---------   ----   ------\n",
      "  1   -2.770626965992                   -0.53    9.0         \n",
      "  2   -2.772138746419       -2.82       -1.29    1.0    237ms\n",
      "  3   -2.772170011273       -4.50       -2.69    1.0    177ms\n",
      "  4   -2.772170720769       -6.15       -3.86    2.0    208ms\n",
      "  5   -2.772170722907       -8.67       -4.46    1.0    218ms\n",
      "  6   -2.772170723007      -10.00       -5.34    1.0    182ms\n",
      "  7   -2.772170723014      -11.13       -5.64    2.0    225ms\n",
      "  8   -2.772170723015      -12.25       -6.93    1.0    190ms\n",
      "  9   -2.772170723015      -13.66       -7.01    2.0    233ms\n",
      " 10   -2.772170723015   +  -13.89       -7.31    1.0    203ms\n",
      " 11   -2.772170723015      -14.07       -8.44    1.0    205ms\n",
      "n     Energy            log10(ΔE)   log10(Δρ)   Diag   Δtime\n",
      "---   ---------------   ---------   ---------   ----   ------\n",
      "  1   -2.770748343173                   -0.52    9.0         \n",
      "  2   -2.772053875071       -2.88       -1.32    1.0    205ms\n",
      "  3   -2.772082910550       -4.54       -2.53    1.0    176ms\n",
      "  4   -2.772083384187       -6.32       -3.35    2.0    262ms\n",
      "  5   -2.772083412422       -7.55       -3.67    1.0    180ms\n",
      "  6   -2.772083417275       -8.31       -4.39    1.0    194ms\n",
      "  7   -2.772083417803       -9.28       -4.97    2.0    208ms\n",
      "  8   -2.772083417809      -11.22       -5.48    1.0    190ms\n",
      "  9   -2.772083417811      -11.72       -6.05    2.0    241ms\n",
      " 10   -2.772083417811      -13.17       -6.59    1.0    213ms\n",
      " 11   -2.772083417811      -14.88       -7.75    1.0    194ms\n",
      " 12   -2.772083417811   +  -14.57       -8.19    2.0    239ms\n"
     ]
    },
    {
     "output_type": "execute_result",
     "data": {
      "text/plain": "1.773558026471175"
     },
     "metadata": {},
     "execution_count": 2
    }
   ],
   "cell_type": "code",
   "source": [
    "polarizability_fd = let\n",
    "    ε = 0.01\n",
    "    (compute_dipole(ε) - compute_dipole(0.0)) / ε\n",
    "end"
   ],
   "metadata": {},
   "execution_count": 2
  },
  {
   "cell_type": "markdown",
   "source": [
    "We do the same thing using automatic differentiation. Under the hood this uses\n",
    "custom rules to implicitly differentiate through the self-consistent\n",
    "field fixed-point problem."
   ],
   "metadata": {}
  },
  {
   "outputs": [
    {
     "name": "stdout",
     "output_type": "stream",
     "text": [
      "n     Energy            log10(ΔE)   log10(Δρ)   Diag   Δtime\n",
      "---   ---------------   ---------   ---------   ----   ------\n",
      "  1   -2.770834309580                   -0.52    9.0         \n",
      "  2   -2.772062557049       -2.91       -1.32    1.0    173ms\n",
      "  3   -2.772083048247       -4.69       -2.45    1.0    232ms\n",
      "  4   -2.772083343147       -6.53       -3.15    1.0    179ms\n",
      "  5   -2.772083417329       -7.13       -4.14    2.0    252ms\n",
      "  6   -2.772083417626       -9.53       -4.42    1.0    182ms\n",
      "  7   -2.772083417808       -9.74       -5.73    1.0    207ms\n",
      "  8   -2.772083417810      -11.59       -6.02    2.0    211ms\n",
      "  9   -2.772083417811      -12.97       -6.47    1.0    210ms\n",
      " 10   -2.772083417811      -13.75       -7.96    2.0    224ms\n",
      " 11   -2.772083417811   +  -14.57       -8.43    2.0    233ms\n",
      "\n",
      "Polarizability via ForwardDiff:       1.7725349763338558\n",
      "Polarizability via finite difference: 1.773558026471175\n"
     ]
    }
   ],
   "cell_type": "code",
   "source": [
    "polarizability = ForwardDiff.derivative(compute_dipole, 0.0)\n",
    "println()\n",
    "println(\"Polarizability via ForwardDiff:       $polarizability\")\n",
    "println(\"Polarizability via finite difference: $polarizability_fd\")"
   ],
   "metadata": {},
   "execution_count": 3
  }
 ],
 "nbformat_minor": 3,
 "metadata": {
  "language_info": {
   "file_extension": ".jl",
   "mimetype": "application/julia",
   "name": "julia",
   "version": "1.9.3"
  },
  "kernelspec": {
   "name": "julia-1.9",
   "display_name": "Julia 1.9.3",
   "language": "julia"
  }
 },
 "nbformat": 4
}
