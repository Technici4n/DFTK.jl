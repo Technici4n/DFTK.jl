{
 "cells": [
  {
   "cell_type": "markdown",
   "source": [
    "# Polarizability using automatic differentiation\n",
    "\n",
    "Simple example for computing properties using (forward-mode)\n",
    "automatic differentiation.\n",
    "For a more classical approach and more details about computing polarizabilities,\n",
    "see Polarizability by linear response."
   ],
   "metadata": {}
  },
  {
   "outputs": [],
   "cell_type": "code",
   "source": [
    "using DFTK\n",
    "using LinearAlgebra\n",
    "using ForwardDiff\n",
    "\n",
    "# Construct PlaneWaveBasis given a particular electric field strength\n",
    "# Again we take the example of a Helium atom.\n",
    "function make_basis(ε::T; a=10., Ecut=30) where {T}\n",
    "    lattice=T(a) * I(3)  # lattice is a cube of $a$ Bohrs\n",
    "    # Helium at the center of the box\n",
    "    atoms     = [ElementPsp(:He, psp=load_psp(\"hgh/lda/He-q2\"))]\n",
    "    positions = [[1/2, 1/2, 1/2]]\n",
    "\n",
    "    model = model_DFT(lattice, atoms, positions, [:lda_x, :lda_c_vwn];\n",
    "                      extra_terms=[ExternalFromReal(r -> -ε * (r[1] - a/2))],\n",
    "                      symmetries=false)\n",
    "    PlaneWaveBasis(model; Ecut, kgrid=[1, 1, 1])  # No k-point sampling on isolated system\n",
    "end\n",
    "\n",
    "# dipole moment of a given density (assuming the current geometry)\n",
    "function dipole(basis, ρ)\n",
    "    @assert isdiag(basis.model.lattice)\n",
    "    a  = basis.model.lattice[1, 1]\n",
    "    rr = [a * (r[1] - 1/2) for r in r_vectors(basis)]\n",
    "    sum(rr .* ρ) * basis.dvol\n",
    "end\n",
    "\n",
    "# Function to compute the dipole for a given field strength\n",
    "function compute_dipole(ε; tol=1e-8, kwargs...)\n",
    "    scfres = self_consistent_field(make_basis(ε; kwargs...); tol)\n",
    "    dipole(scfres.basis, scfres.ρ)\n",
    "end;"
   ],
   "metadata": {},
   "execution_count": 1
  },
  {
   "cell_type": "markdown",
   "source": [
    "With this in place we can compute the polarizability from finite differences\n",
    "(just like in the previous example):"
   ],
   "metadata": {}
  },
  {
   "outputs": [
    {
     "name": "stdout",
     "output_type": "stream",
     "text": [
      "n     Energy            log10(ΔE)   log10(Δρ)   Diag   Δtime\n",
      "---   ---------------   ---------   ---------   ----   ------\n",
      "  1   -2.770858883866                   -0.53    9.0         \n",
      "  2   -2.772141864913       -2.89       -1.31    1.0    194ms\n",
      "  3   -2.772170177349       -4.55       -2.59    1.0    145ms\n",
      "  4   -2.772170719417       -6.27       -3.88    2.0    161ms\n",
      "  5   -2.772170722807       -8.47       -4.34    2.0    183ms\n",
      "  6   -2.772170723011       -9.69       -5.72    1.0    146ms\n",
      "  7   -2.772170723015      -11.44       -6.35    2.0    167ms\n",
      "  8   -2.772170723015      -13.61       -6.65    2.0    196ms\n",
      "  9   -2.772170723015      -13.81       -7.48    1.0    151ms\n",
      " 10   -2.772170723015   +  -13.94       -8.63    2.0    179ms\n",
      "n     Energy            log10(ΔE)   log10(Δρ)   Diag   Δtime\n",
      "---   ---------------   ---------   ---------   ----   ------\n",
      "  1   -2.770729235734                   -0.53    8.0         \n",
      "  2   -2.772048340665       -2.88       -1.31    1.0    138ms\n",
      "  3   -2.772082494135       -4.47       -2.60    1.0    140ms\n",
      "  4   -2.772083414094       -6.04       -3.93    2.0    161ms\n",
      "  5   -2.772083417494       -8.47       -4.28    2.0    267ms\n",
      "  6   -2.772083417805       -9.51       -5.77    1.0    146ms\n",
      "  7   -2.772083417811      -11.27       -6.31    2.0    166ms\n",
      "  8   -2.772083417811      -13.41       -6.98    2.0    546ms\n",
      "  9   -2.772083417811   +    -Inf       -7.69    1.0    163ms\n",
      " 10   -2.772083417811   +  -13.94       -8.53    1.0    165ms\n"
     ]
    },
    {
     "output_type": "execute_result",
     "data": {
      "text/plain": "1.773558104265066"
     },
     "metadata": {},
     "execution_count": 2
    }
   ],
   "cell_type": "code",
   "source": [
    "polarizability_fd = let\n",
    "    ε = 0.01\n",
    "    (compute_dipole(ε) - compute_dipole(0.0)) / ε\n",
    "end"
   ],
   "metadata": {},
   "execution_count": 2
  },
  {
   "cell_type": "markdown",
   "source": [
    "We do the same thing using automatic differentiation. Under the hood this uses\n",
    "custom rules to implicitly differentiate through the self-consistent\n",
    "field fixed-point problem."
   ],
   "metadata": {}
  },
  {
   "outputs": [
    {
     "name": "stdout",
     "output_type": "stream",
     "text": [
      "n     Energy            log10(ΔE)   log10(Δρ)   Diag   Δtime\n",
      "---   ---------------   ---------   ---------   ----   ------\n",
      "  1   -2.770657552915                   -0.53    9.0         \n",
      "  2   -2.772051532579       -2.86       -1.30    1.0    169ms\n",
      "  3   -2.772082830337       -4.50       -2.65    1.0    142ms\n",
      "  4   -2.772083415983       -6.23       -3.96    2.0    184ms\n",
      "  5   -2.772083417742       -8.75       -4.61    2.0    163ms\n",
      "  6   -2.772083417808      -10.18       -5.61    1.0    146ms\n",
      "  7   -2.772083417811      -11.55       -6.17    2.0    187ms\n",
      "  8   -2.772083417811      -13.19       -7.04    1.0    151ms\n",
      "  9   -2.772083417811   +  -13.99       -7.86    1.0    171ms\n",
      " 10   -2.772083417811      -14.03       -8.72    2.0    180ms\n",
      "\n",
      "Polarizability via ForwardDiff:       1.7725349667585004\n",
      "Polarizability via finite difference: 1.773558104265066\n"
     ]
    }
   ],
   "cell_type": "code",
   "source": [
    "polarizability = ForwardDiff.derivative(compute_dipole, 0.0)\n",
    "println()\n",
    "println(\"Polarizability via ForwardDiff:       $polarizability\")\n",
    "println(\"Polarizability via finite difference: $polarizability_fd\")"
   ],
   "metadata": {},
   "execution_count": 3
  }
 ],
 "nbformat_minor": 3,
 "metadata": {
  "language_info": {
   "file_extension": ".jl",
   "mimetype": "application/julia",
   "name": "julia",
   "version": "1.8.5"
  },
  "kernelspec": {
   "name": "julia-1.8",
   "display_name": "Julia 1.8.5",
   "language": "julia"
  }
 },
 "nbformat": 4
}
