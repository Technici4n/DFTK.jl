{
 "cells": [
  {
   "cell_type": "markdown",
   "source": [
    "# Eigenvalues of the dielectric matrix\n",
    "\n",
    "We compute a few eigenvalues of the dielectric matrix ($q=0$, $ω=0$) iteratively."
   ],
   "metadata": {}
  },
  {
   "outputs": [
    {
     "name": "stdout",
     "output_type": "stream",
     "text": [
      "n     Energy            log10(ΔE)   log10(Δρ)   Diag   Δtime\n",
      "---   ---------------   ---------   ---------   ----   ------\n",
      "  1   -7.235946716512                   -0.50    8.0         \n",
      "  2   -7.250427702452       -1.84       -1.39    1.0   12.1ms\n",
      "  3   -7.251200850878       -3.11       -2.24    1.0   12.1ms\n",
      "  4   -7.251315253752       -3.94       -2.30    2.0   14.2ms\n",
      "  5   -7.251337888019       -4.65       -2.91    1.0   12.0ms\n",
      "  6   -7.251338557058       -6.17       -3.36    2.0   14.3ms\n",
      "  7   -7.251338594877       -7.42       -3.50    1.0   12.7ms\n",
      "  8   -7.251338776551       -6.74       -3.94    1.0   12.4ms\n",
      "  9   -7.251338798038       -7.67       -4.59    2.0   13.9ms\n",
      " 10   -7.251338798592       -9.26       -5.17    2.0   14.6ms\n",
      " 11   -7.251338798697       -9.98       -5.50    2.0   15.2ms\n",
      " 12   -7.251338798703      -11.18       -6.12    1.0   13.2ms\n",
      " 13   -7.251338798704      -12.19       -6.23    2.0   14.9ms\n",
      " 14   -7.251338798705      -12.40       -6.86    1.0   75.3ms\n",
      " 15   -7.251338798705      -13.75       -7.12    3.0   16.0ms\n",
      " 16   -7.251338798705      -14.01       -7.54    2.0   13.6ms\n",
      " 17   -7.251338798705   +  -15.05       -8.07    2.0   13.8ms\n"
     ]
    }
   ],
   "cell_type": "code",
   "source": [
    "using DFTK\n",
    "using Plots\n",
    "using KrylovKit\n",
    "using Printf\n",
    "\n",
    "# Calculation parameters\n",
    "kgrid = [1, 1, 1]\n",
    "Ecut = 5\n",
    "\n",
    "# Silicon lattice\n",
    "a = 10.26\n",
    "lattice = a / 2 .* [[0 1 1.]; [1 0 1.]; [1 1 0.]]\n",
    "Si = ElementPsp(:Si, psp=load_psp(\"hgh/lda/Si-q4\"))\n",
    "atoms     = [Si, Si]\n",
    "positions = [ones(3)/8, -ones(3)/8]\n",
    "\n",
    "# Compute the dielectric operator without symmetries\n",
    "model  = model_LDA(lattice, atoms, positions, symmetries=false)\n",
    "basis  = PlaneWaveBasis(model; Ecut, kgrid)\n",
    "scfres = self_consistent_field(basis, tol=1e-8);"
   ],
   "metadata": {},
   "execution_count": 1
  },
  {
   "cell_type": "markdown",
   "source": [
    "Applying $ε^† ≔ (1- χ_0 K)$ …"
   ],
   "metadata": {}
  },
  {
   "outputs": [],
   "cell_type": "code",
   "source": [
    "function eps_fun(δρ)\n",
    "    δV = apply_kernel(basis, δρ; ρ=scfres.ρ)\n",
    "    χ0δV = apply_χ0(scfres, δV)\n",
    "    δρ - χ0δV\n",
    "end;"
   ],
   "metadata": {},
   "execution_count": 2
  },
  {
   "cell_type": "markdown",
   "source": [
    "… eagerly diagonalizes the subspace matrix at each iteration"
   ],
   "metadata": {}
  },
  {
   "outputs": [
    {
     "name": "stdout",
     "output_type": "stream",
     "text": [
      "[ Info: Arnoldi iteration step 1: normres = 0.06220195209883573\n",
      "[ Info: Arnoldi iteration step 2: normres = 0.3359524533235789\n",
      "[ Info: Arnoldi iteration step 3: normres = 1.0175861719013046\n",
      "[ Info: Arnoldi iteration step 4: normres = 0.30966363081624626\n",
      "[ Info: Arnoldi iteration step 5: normres = 0.32814785667405755\n",
      "[ Info: Arnoldi schursolve in iter 1, krylovdim = 5: 0 values converged, normres = (3.07e-02, 2.80e-02, 2.47e-01, 2.01e-01, 6.98e-02)\n",
      "[ Info: Arnoldi iteration step 6: normres = 0.3489717203095167\n",
      "[ Info: Arnoldi schursolve in iter 1, krylovdim = 6: 0 values converged, normres = (1.02e-02, 2.89e-01, 1.70e-01, 7.94e-02, 1.55e-02)\n",
      "[ Info: Arnoldi iteration step 7: normres = 0.09820359213710973\n",
      "[ Info: Arnoldi schursolve in iter 1, krylovdim = 7: 0 values converged, normres = (5.01e-04, 2.58e-02, 5.51e-03, 3.25e-02, 8.39e-02)\n",
      "[ Info: Arnoldi iteration step 8: normres = 0.10532948167707908\n",
      "[ Info: Arnoldi schursolve in iter 1, krylovdim = 8: 0 values converged, normres = (2.26e-05, 1.91e-03, 4.53e-04, 1.08e-02, 5.01e-02)\n",
      "[ Info: Arnoldi iteration step 9: normres = 0.07729005015081439\n",
      "[ Info: Arnoldi schursolve in iter 1, krylovdim = 9: 0 values converged, normres = (7.67e-07, 1.08e-04, 2.85e-05, 3.26e-03, 3.59e-02)\n",
      "[ Info: Arnoldi iteration step 10: normres = 0.08797257629965577\n",
      "[ Info: Arnoldi schursolve in iter 1, krylovdim = 10: 0 values converged, normres = (2.93e-08, 6.80e-06, 2.00e-06, 1.01e-03, 2.44e-02)\n",
      "[ Info: Arnoldi iteration step 11: normres = 0.07570663109009865\n",
      "[ Info: Arnoldi schursolve in iter 1, krylovdim = 11: 0 values converged, normres = (9.63e-10, 3.68e-07, 1.21e-07, 2.64e-04, 1.47e-02)\n",
      "[ Info: Arnoldi iteration step 12: normres = 0.07892449678100669\n",
      "[ Info: Arnoldi schursolve in iter 1, krylovdim = 12: 0 values converged, normres = (3.22e-11, 2.01e-08, 7.27e-09, 5.98e-05, 6.25e-03)\n",
      "[ Info: Arnoldi iteration step 13: normres = 0.11268918268792776\n",
      "[ Info: Arnoldi schursolve in iter 1, krylovdim = 13: 0 values converged, normres = (1.57e-12, 1.61e-09, 6.49e-10, 2.25e-05, 5.23e-03)\n",
      "[ Info: Arnoldi iteration step 14: normres = 0.5021256056607\n",
      "[ Info: Arnoldi schursolve in iter 1, krylovdim = 14: 1 values converged, normres = (6.22e-13, 2.26e-09, 1.50e-09, 4.95e-01, 2.84e-03)\n",
      "[ Info: Arnoldi iteration step 15: normres = 0.026368822848512052\n",
      "[ Info: Arnoldi schursolve in iter 1, krylovdim = 15: 1 values converged, normres = (8.15e-15, 9.97e-11, 2.08e-07, 1.03e-02, 7.26e-07)\n",
      "[ Info: Arnoldi iteration step 16: normres = 0.0529940073455025\n",
      "[ Info: Arnoldi schursolve in iter 1, krylovdim = 16: 1 values converged, normres = (1.80e-16, 3.53e-12, 4.89e-05, 4.01e-04, 9.09e-08)\n",
      "[ Info: Arnoldi iteration step 17: normres = 0.6887648547984055\n",
      "[ Info: Arnoldi schursolve in iter 1, krylovdim = 17: 1 values converged, normres = (9.49e-17, 6.11e-12, 1.08e-06, 1.08e-03, 6.86e-01)\n",
      "[ Info: Arnoldi iteration step 18: normres = 0.03275369691507597\n",
      "[ Info: Arnoldi schursolve in iter 1, krylovdim = 18: 1 values converged, normres = (1.84e-18, 3.12e-10, 1.71e-02, 2.90e-05, 3.37e-05)\n",
      "[ Info: Arnoldi iteration step 19: normres = 0.21310350671024503\n",
      "[ Info: Arnoldi schursolve in iter 1, krylovdim = 19: 1 values converged, normres = (1.77e-19, 2.34e-10, 2.77e-03, 8.49e-06, 4.59e-07)\n",
      "[ Info: Arnoldi iteration step 20: normres = 0.03388758957628654\n",
      "[ Info: Arnoldi schursolve in iter 1, krylovdim = 20: 1 values converged, normres = (2.72e-21, 7.05e-05, 2.03e-05, 9.76e-08, 2.36e-07)\n",
      "[ Info: Arnoldi iteration step 21: normres = 0.03157280177629107\n",
      "[ Info: Arnoldi schursolve in iter 1, krylovdim = 21: 1 values converged, normres = (3.58e-23, 1.39e-10, 1.55e-06, 2.77e-09, 5.28e-09)\n",
      "[ Info: Arnoldi iteration step 22: normres = 0.12296107441745795\n",
      "[ Info: Arnoldi schursolve in iter 1, krylovdim = 22: 1 values converged, normres = (1.83e-24, 5.98e-10, 1.27e-07, 4.87e-10, 2.31e-10)\n",
      "[ Info: Arnoldi iteration step 23: normres = 0.18306072239493468\n",
      "[ Info: Arnoldi schursolve in iter 1, krylovdim = 23: 1 values converged, normres = (3.16e-25, 9.06e-08, 1.19e-07, 4.14e-09, 5.13e-09)\n",
      "[ Info: Arnoldi iteration step 24: normres = 0.012776074908135374\n",
      "[ Info: Arnoldi schursolve in iter 1, krylovdim = 24: 1 values converged, normres = (1.66e-27, 7.88e-12, 1.38e-09, 9.69e-09, 1.37e-08)\n",
      "[ Info: Arnoldi iteration step 25: normres = 0.018947928102527576\n",
      "[ Info: Arnoldi schursolve in iter 1, krylovdim = 25: 2 values converged, normres = (1.29e-29, 1.14e-13, 1.69e-11, 2.05e-06, 5.68e-06)\n",
      "[ Info: Arnoldi iteration step 26: normres = 0.10042079409300428\n",
      "[ Info: Arnoldi schursolve in iter 1, krylovdim = 26: 2 values converged, normres = (5.46e-31, 7.79e-15, 1.16e-12, 3.88e-07, 8.39e-09)\n",
      "[ Info: Arnoldi iteration step 27: normres = 0.043185041016703785\n",
      "[ Info: Arnoldi schursolve in iter 1, krylovdim = 27: 3 values converged, normres = (1.04e-32, 2.47e-16, 3.68e-14, 2.07e-08, 4.37e-08)\n",
      "[ Info: Arnoldi iteration step 28: normres = 0.17441733174082694\n",
      "[ Info: Arnoldi schursolve in iter 1, krylovdim = 28: 3 values converged, normres = (8.09e-34, 3.24e-17, 4.83e-15, 8.42e-09, 2.45e-09)\n",
      "[ Info: Arnoldi iteration step 29: normres = 0.143045089052906\n",
      "[ Info: Arnoldi schursolve in iter 1, krylovdim = 29: 3 values converged, normres = (5.26e-35, 3.60e-18, 5.37e-16, 3.75e-10, 9.33e-10)\n",
      "[ Info: Arnoldi iteration step 30: normres = 0.024292251987927206\n",
      "[ Info: Arnoldi schursolve in iter 1, krylovdim = 30: 3 values converged, normres = (5.82e-37, 6.82e-20, 1.02e-17, 2.18e-11, 1.07e-12)\n",
      "[ Info: Arnoldi schursolve in iter 2, krylovdim = 19: 3 values converged, normres = (6.13e-37, 6.82e-20, 1.02e-17, 2.18e-11, 1.07e-12)\n",
      "[ Info: Arnoldi iteration step 20: normres = 0.051966668835217555\n",
      "┌ Info: Arnoldi eigsolve finished after 2 iterations:\n",
      "│ *  6 eigenvalues converged\n",
      "│ *  norm of residuals = (1.2502535253412738e-38, 2.3395275599703914e-21, 3.4208050855351545e-19, 8.241676547428084e-13, 6.900609315549209e-13, 4.981576285404776e-13)\n",
      "└ *  number of operations = 31\n"
     ]
    }
   ],
   "cell_type": "code",
   "source": [
    "eigsolve(eps_fun, randn(size(scfres.ρ)), 5, :LM; eager=true, verbosity=3);"
   ],
   "metadata": {},
   "execution_count": 3
  }
 ],
 "nbformat_minor": 3,
 "metadata": {
  "language_info": {
   "file_extension": ".jl",
   "mimetype": "application/julia",
   "name": "julia",
   "version": "1.8.4"
  },
  "kernelspec": {
   "name": "julia-1.8",
   "display_name": "Julia 1.8.4",
   "language": "julia"
  }
 },
 "nbformat": 4
}
