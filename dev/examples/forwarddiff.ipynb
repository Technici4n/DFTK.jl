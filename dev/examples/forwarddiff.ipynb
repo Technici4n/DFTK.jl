{
 "cells": [
  {
   "cell_type": "markdown",
   "source": [
    "# Polarizability using automatic differentiation\n",
    "\n",
    "Simple example for computing properties using (forward-mode)\n",
    "automatic differentiation.\n",
    "For a more classical approach and more details about computing polarizabilities,\n",
    "see Polarizability by linear response."
   ],
   "metadata": {}
  },
  {
   "outputs": [],
   "cell_type": "code",
   "source": [
    "using DFTK\n",
    "using LinearAlgebra\n",
    "using ForwardDiff\n",
    "\n",
    "# Construct PlaneWaveBasis given a particular electric field strength\n",
    "# Again we take the example of a Helium atom.\n",
    "function make_basis(ε::T; a=10., Ecut=30) where {T}\n",
    "    lattice=T(a) * I(3)  # lattice is a cube of $a$ Bohrs\n",
    "    # Helium at the center of the box\n",
    "    atoms     = [ElementPsp(:He, psp=load_psp(\"hgh/lda/He-q2\"))]\n",
    "    positions = [[1/2, 1/2, 1/2]]\n",
    "\n",
    "    model = model_DFT(lattice, atoms, positions, [:lda_x, :lda_c_vwn];\n",
    "                      extra_terms=[ExternalFromReal(r -> -ε * (r[1] - a/2))],\n",
    "                      symmetries=false)\n",
    "    PlaneWaveBasis(model; Ecut, kgrid=[1, 1, 1])  # No k-point sampling on isolated system\n",
    "end\n",
    "\n",
    "# dipole moment of a given density (assuming the current geometry)\n",
    "function dipole(basis, ρ)\n",
    "    @assert isdiag(basis.model.lattice)\n",
    "    a  = basis.model.lattice[1, 1]\n",
    "    rr = [a * (r[1] - 1/2) for r in r_vectors(basis)]\n",
    "    sum(rr .* ρ) * basis.dvol\n",
    "end\n",
    "\n",
    "# Function to compute the dipole for a given field strength\n",
    "function compute_dipole(ε; tol=1e-8, kwargs...)\n",
    "    scfres = self_consistent_field(make_basis(ε; kwargs...); tol)\n",
    "    dipole(scfres.basis, scfres.ρ)\n",
    "end;"
   ],
   "metadata": {},
   "execution_count": 1
  },
  {
   "cell_type": "markdown",
   "source": [
    "With this in place we can compute the polarizability from finite differences\n",
    "(just like in the previous example):"
   ],
   "metadata": {}
  },
  {
   "outputs": [
    {
     "name": "stdout",
     "output_type": "stream",
     "text": [
      "n     Energy            log10(ΔE)   log10(Δρ)   Diag   Δtime\n",
      "---   ---------------   ---------   ---------   ----   ------\n",
      "  1   -2.770842768932                   -0.52    9.0         \n",
      "  2   -2.772146434549       -2.88       -1.33    1.0    236ms\n",
      "  3   -2.772170172634       -4.62       -2.41    1.0    279ms\n",
      "  4   -2.772170638482       -6.33       -3.11    1.0    246ms\n",
      "  5   -2.772170722931       -7.07       -4.53    2.0    289ms\n",
      "  6   -2.772170723005      -10.13       -4.85    1.0    310ms\n",
      "  7   -2.772170723013      -11.12       -5.53    1.0    287ms\n",
      "  8   -2.772170723015      -11.68       -6.64    2.0    313ms\n",
      "  9   -2.772170723015   +  -14.57       -6.61    1.0    322ms\n",
      " 10   -2.772170723015      -13.78       -7.90    1.0    294ms\n",
      " 11   -2.772170723015      -14.57       -8.04    2.0    296ms\n",
      "n     Energy            log10(ΔE)   log10(Δρ)   Diag   Δtime\n",
      "---   ---------------   ---------   ---------   ----   ------\n",
      "  1   -2.770693851268                   -0.53    9.0         \n",
      "  2   -2.772051583329       -2.87       -1.30    1.0    238ms\n",
      "  3   -2.772082607123       -4.51       -2.68    1.0    280ms\n",
      "  4   -2.772083411955       -6.09       -3.66    2.0    272ms\n",
      "  5   -2.772083417222       -8.28       -4.15    2.0    282ms\n",
      "  6   -2.772083417805       -9.23       -5.70    1.0    329ms\n",
      "  7   -2.772083417811      -11.22       -6.14    2.0    275ms\n",
      "  8   -2.772083417811      -13.46       -6.57    1.0    258ms\n",
      "  9   -2.772083417811      -14.31       -7.33    1.0    306ms\n",
      " 10   -2.772083417811   +  -14.88       -7.73    2.0    305ms\n",
      " 11   -2.772083417811      -14.03       -7.98    1.0    261ms\n",
      " 12   -2.772083417811   +  -14.12       -8.63    1.0    310ms\n"
     ]
    },
    {
     "output_type": "execute_result",
     "data": {
      "text/plain": "1.773557806463927"
     },
     "metadata": {},
     "execution_count": 2
    }
   ],
   "cell_type": "code",
   "source": [
    "polarizability_fd = let\n",
    "    ε = 0.01\n",
    "    (compute_dipole(ε) - compute_dipole(0.0)) / ε\n",
    "end"
   ],
   "metadata": {},
   "execution_count": 2
  },
  {
   "cell_type": "markdown",
   "source": [
    "We do the same thing using automatic differentiation. Under the hood this uses\n",
    "custom rules to implicitly differentiate through the self-consistent\n",
    "field fixed-point problem."
   ],
   "metadata": {}
  },
  {
   "outputs": [
    {
     "name": "stdout",
     "output_type": "stream",
     "text": [
      "n     Energy            log10(ΔE)   log10(Δρ)   Diag   Δtime\n",
      "---   ---------------   ---------   ---------   ----   ------\n",
      "  1   -2.770671742451                   -0.53    8.0         \n",
      "  2   -2.772042659647       -2.86       -1.30    1.0    231ms\n",
      "  3   -2.772081909203       -4.41       -2.65    1.0    306ms\n",
      "  4   -2.772083413356       -5.82       -3.90    2.0    257ms\n",
      "  5   -2.772083417687       -8.36       -4.56    2.0    273ms\n",
      "  6   -2.772083417808       -9.92       -5.68    1.0    266ms\n",
      "  7   -2.772083417811      -11.52       -6.20    2.0    587ms\n",
      "  8   -2.772083417811      -13.37       -6.99    1.0    318ms\n",
      "  9   -2.772083417811      -14.21       -7.81    2.0    381ms\n",
      " 10   -2.772083417811      -13.91       -8.31    1.0    798ms\n",
      "\n",
      "Polarizability via ForwardDiff:       1.7725349833387414\n",
      "Polarizability via finite difference: 1.773557806463927\n"
     ]
    }
   ],
   "cell_type": "code",
   "source": [
    "polarizability = ForwardDiff.derivative(compute_dipole, 0.0)\n",
    "println()\n",
    "println(\"Polarizability via ForwardDiff:       $polarizability\")\n",
    "println(\"Polarizability via finite difference: $polarizability_fd\")"
   ],
   "metadata": {},
   "execution_count": 3
  }
 ],
 "nbformat_minor": 3,
 "metadata": {
  "language_info": {
   "file_extension": ".jl",
   "mimetype": "application/julia",
   "name": "julia",
   "version": "1.8.5"
  },
  "kernelspec": {
   "name": "julia-1.8",
   "display_name": "Julia 1.8.5",
   "language": "julia"
  }
 },
 "nbformat": 4
}
