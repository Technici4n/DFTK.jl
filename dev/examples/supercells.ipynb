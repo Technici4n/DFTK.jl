{
 "cells": [
  {
   "cell_type": "markdown",
   "source": [
    "# Creating and modelling metallic supercells\n",
    "\n",
    "In this section we will be concerned with modelling supercells of aluminium.\n",
    "When dealing with periodic problems there is no unique definition of the\n",
    "lattice: Clearly any duplication of the lattice along an axis is also a valid\n",
    "repetitive unit to describe exactly the same system.\n",
    "This is exactly what a **supercell** is: An $n$-fold repetition along one of the\n",
    "axes of the original lattice.\n",
    "\n",
    "The following code achieves this for aluminium:"
   ],
   "metadata": {}
  },
  {
   "outputs": [
    {
     "name": "stdout",
     "output_type": "stream",
     "text": [
      "\u001b[32m\u001b[1m    CondaPkg \u001b[22m\u001b[39m\u001b[0mFound dependencies: /home/runner/.julia/packages/ASEconvert/CNQ1A/CondaPkg.toml\n",
      "\u001b[32m\u001b[1m    CondaPkg \u001b[22m\u001b[39m\u001b[0mFound dependencies: /home/runner/.julia/packages/PythonCall/qTEA1/CondaPkg.toml\n",
      "\u001b[32m\u001b[1m    CondaPkg \u001b[22m\u001b[39m\u001b[0mDependencies already up to date\n"
     ]
    }
   ],
   "cell_type": "code",
   "source": [
    "using DFTK\n",
    "using LinearAlgebra\n",
    "using ASEconvert\n",
    "\n",
    "function aluminium_setup(repeat=1; Ecut=7.0, kgrid=[2, 2, 2])\n",
    "    a = 7.65339\n",
    "    lattice = a * Matrix(I, 3, 3)\n",
    "    Al = ElementPsp(:Al; psp=load_psp(\"hgh/lda/al-q3\"))\n",
    "    atoms     = [Al, Al, Al, Al]\n",
    "    positions = [[0.0, 0.0, 0.0], [0.0, 0.5, 0.5], [0.5, 0.0, 0.5], [0.5, 0.5, 0.0]]\n",
    "    unit_cell = periodic_system(lattice, atoms, positions)\n",
    "\n",
    "    # Make supercell in ASE:\n",
    "    # We convert our lattice to the conventions used in ASE, make the supercell\n",
    "    # and then convert back ...\n",
    "    supercell_ase = convert_ase(unit_cell) * pytuple((repeat, 1, 1))\n",
    "    supercell     = pyconvert(AbstractSystem, supercell_ase)\n",
    "\n",
    "    # Unfortunately right now the conversion to ASE drops the pseudopotential information,\n",
    "    # so we need to reattach it:\n",
    "    supercell = attach_psp(supercell; Al=\"hgh/lda/al-q3\")\n",
    "\n",
    "    # Construct an LDA model and discretise\n",
    "    # Note: We disable symmetries explicitly here. Otherwise the problem sizes\n",
    "    #       we are able to run on the CI are too simple to observe the numerical\n",
    "    #       instabilities we want to trigger here.\n",
    "    model = model_LDA(supercell; temperature=1e-3, symmetries=false)\n",
    "    PlaneWaveBasis(model; Ecut, kgrid)\n",
    "end;"
   ],
   "metadata": {},
   "execution_count": 1
  },
  {
   "cell_type": "markdown",
   "source": [
    "As part of the code we are using a routine inside the ASE,\n",
    "the [atomistic simulation environment](https://wiki.fysik.dtu.dk/ase/index.html)\n",
    "for creating the supercell and make use of the two-way interoperability of\n",
    "DFTK and ASE. For more details on this aspect see the documentation\n",
    "on Input and output formats."
   ],
   "metadata": {}
  },
  {
   "cell_type": "markdown",
   "source": [
    "Write an example supercell structure to a file to plot it:"
   ],
   "metadata": {}
  },
  {
   "outputs": [
    {
     "name": "stdout",
     "output_type": "stream",
     "text": [
      "┌ Warning: Skipping atomic property pseudopotential, which is not supported in ASE.\n",
      "└ @ ASEconvert ~/.julia/packages/ASEconvert/CNQ1A/src/ASEconvert.jl:123\n",
      "┌ Warning: Skipping atomic property pseudopotential, which is not supported in ASE.\n",
      "└ @ ASEconvert ~/.julia/packages/ASEconvert/CNQ1A/src/ASEconvert.jl:123\n"
     ]
    },
    {
     "output_type": "execute_result",
     "data": {
      "text/plain": "Python: None"
     },
     "metadata": {},
     "execution_count": 2
    }
   ],
   "cell_type": "code",
   "source": [
    "setup = aluminium_setup(5)\n",
    "convert_ase(periodic_system(setup.model)).write(\"al_supercell.png\")"
   ],
   "metadata": {},
   "execution_count": 2
  },
  {
   "cell_type": "markdown",
   "source": [
    "<img src=\"https://docs.dftk.org/stable/examples/al_supercell.png\" width=500 height=500 />"
   ],
   "metadata": {}
  },
  {
   "cell_type": "markdown",
   "source": [
    "As we will see in this notebook the modelling of a system generally becomes\n",
    "harder if the system becomes larger.\n",
    "\n",
    "- This sounds like a trivial statement as *per se* the cost per SCF step increases\n",
    "  as the system (and thus $N$) gets larger.\n",
    "- But there is more to it:\n",
    "  If one is not careful also the *number of SCF iterations* increases\n",
    "  as the system gets larger.\n",
    "- The aim of a proper computational treatment of such supercells is therefore\n",
    "  to ensure that the **number of SCF iterations remains constant** when the\n",
    "  system size increases."
   ],
   "metadata": {}
  },
  {
   "cell_type": "markdown",
   "source": [
    "For achieving the latter DFTK by default employs the `LdosMixing`\n",
    "preconditioner [^HL2021] during the SCF iterations. This mixing approach is\n",
    "completely parameter free, but still automatically adapts to the treated\n",
    "system in order to efficiently prevent charge sloshing. As a result,\n",
    "modelling aluminium slabs indeed takes roughly the same number of SCF iterations\n",
    "irrespective of the supercell size:\n",
    "\n",
    "[^HL2021]:\n",
    "   M. F. Herbst and A. Levitt.\n",
    "   *Black-box inhomogeneous preconditioning for self-consistent field iterations in density functional theory.*\n",
    "   J. Phys. Cond. Matt *33* 085503 (2021). [ArXiv:2009.01665](https://arxiv.org/abs/2009.01665)"
   ],
   "metadata": {}
  },
  {
   "outputs": [
    {
     "name": "stdout",
     "output_type": "stream",
     "text": [
      "┌ Warning: Skipping atomic property pseudopotential, which is not supported in ASE.\n",
      "└ @ ASEconvert ~/.julia/packages/ASEconvert/CNQ1A/src/ASEconvert.jl:123\n",
      "n     Energy            log10(ΔE)   log10(Δρ)   Diag   Δtime\n",
      "---   ---------------   ---------   ---------   ----   ------\n",
      "  1   -8.298416645800                   -0.85    5.0         \n",
      "  2   -8.300193854622       -2.75       -1.25    1.0    114ms\n",
      "  3   -8.300430225088       -3.63       -1.89    2.2    160ms\n",
      "  4   -8.300461941200       -4.50       -2.77    3.0    132ms\n",
      "  5   -8.300464135539       -5.66       -3.07    3.0    146ms\n",
      "  6   -8.300464368117       -6.63       -3.23    4.2    145ms\n",
      "  7   -8.300464499183       -6.88       -3.37    6.0    197ms\n",
      "  8   -8.300464570736       -7.15       -3.51    2.4    164ms\n",
      "  9   -8.300464625587       -7.26       -3.73    1.4    157ms\n",
      " 10   -8.300464628832       -8.49       -3.78    1.0    100ms\n",
      " 11   -8.300464640304       -7.94       -4.00    1.9    135ms\n"
     ]
    }
   ],
   "cell_type": "code",
   "source": [
    "self_consistent_field(aluminium_setup(1); tol=1e-4);"
   ],
   "metadata": {},
   "execution_count": 3
  },
  {
   "outputs": [
    {
     "name": "stdout",
     "output_type": "stream",
     "text": [
      "┌ Warning: Skipping atomic property pseudopotential, which is not supported in ASE.\n",
      "└ @ ASEconvert ~/.julia/packages/ASEconvert/CNQ1A/src/ASEconvert.jl:123\n",
      "n     Energy            log10(ΔE)   log10(Δρ)   Diag   Δtime\n",
      "---   ---------------   ---------   ---------   ----   ------\n",
      "  1   -16.64213490072                   -0.70    6.9         \n",
      "  2   -16.64603160853       -2.41       -1.14    1.0    242ms\n",
      "  3   -16.67920263699       -1.48       -1.87    2.2    271ms\n",
      "  4   -16.67927883900       -4.12       -2.67    5.1    403ms\n",
      "  5   -16.67928595583       -5.15       -2.99    4.4    386ms\n",
      "  6   -16.67928619162       -6.63       -3.31    1.9    270ms\n",
      "  7   -16.67928621621       -7.61       -3.76    1.9    257ms\n",
      "  8   -16.67928622118       -8.30       -4.52    2.0    291ms\n"
     ]
    }
   ],
   "cell_type": "code",
   "source": [
    "self_consistent_field(aluminium_setup(2); tol=1e-4);"
   ],
   "metadata": {},
   "execution_count": 4
  },
  {
   "outputs": [
    {
     "name": "stdout",
     "output_type": "stream",
     "text": [
      "┌ Warning: Skipping atomic property pseudopotential, which is not supported in ASE.\n",
      "└ @ ASEconvert ~/.julia/packages/ASEconvert/CNQ1A/src/ASEconvert.jl:123\n",
      "n     Energy            log10(ΔE)   log10(Δρ)   Diag   Δtime\n",
      "---   ---------------   ---------   ---------   ----   ------\n",
      "  1   -33.32476727370                   -0.56    6.9         \n",
      "  2   -33.33260340434       -2.11       -1.00    1.0    997ms\n",
      "  3   -33.33408456364       -2.83       -1.74    3.2    1.19s\n",
      "  4   -33.33426136460       -3.75       -2.64    3.9    1.12s\n",
      "  5   -33.33551540550       -2.90       -2.49    5.8    1.52s\n",
      "  6   -33.33694281576       -2.85       -2.49    7.8    1.31s\n",
      "  7   -33.33694257309   +   -6.61       -2.49    1.1    912ms\n",
      "  8   -33.33691860703   +   -4.62       -2.47    2.2    980ms\n",
      "  9   -33.33544391192   +   -2.83       -1.97    3.4    1.47s\n",
      " 10   -33.33493848733   +   -3.30       -1.92    1.6    970ms\n",
      " 11   -33.33437086778   +   -3.25       -1.87    1.5    991ms\n",
      " 12   -33.33510910887       -3.13       -1.94    1.4    964ms\n",
      " 13   -33.33638374474       -2.89       -2.20    2.5    1.26s\n",
      " 14   -33.31946200161   +   -1.77       -1.47    5.2    2.05s\n",
      " 15   -33.33688724882       -1.76       -2.59    5.0    2.01s\n",
      " 16   -33.33647818869   +   -3.39       -2.24    2.9    1.36s\n",
      " 17   -33.33685794863       -3.42       -2.61    2.1    1.20s\n",
      " 18   -33.33685471691   +   -5.49       -2.58    1.2    927ms\n",
      " 19   -33.33688764840       -4.48       -2.58    1.2    923ms\n",
      " 20   -33.33688099070   +   -5.18       -2.56    1.0    907ms\n",
      " 21   -33.33689258949       -4.94       -2.60    1.1    923ms\n",
      " 22   -33.33687277799   +   -4.70       -2.65    1.0    909ms\n",
      " 23   -33.33687668181       -5.41       -2.76    1.0    870ms\n",
      " 24   -33.33692193813       -4.34       -3.01    1.6    939ms\n",
      " 25   -33.33692319110       -5.90       -3.03    1.6    922ms\n",
      " 26   -33.33694332506       -4.70       -3.68    3.4    1.19s\n",
      " 27   -33.33694368680       -6.44       -4.13    4.1    1.49s\n"
     ]
    }
   ],
   "cell_type": "code",
   "source": [
    "self_consistent_field(aluminium_setup(4); tol=1e-4);"
   ],
   "metadata": {},
   "execution_count": 5
  },
  {
   "cell_type": "markdown",
   "source": [
    "When switching off explicitly the `LdosMixing`, by selecting `mixing=SimpleMixing()`,\n",
    "the performance of number of required SCF steps starts to increase as we increase\n",
    "the size of the modelled problem:"
   ],
   "metadata": {}
  },
  {
   "outputs": [
    {
     "name": "stdout",
     "output_type": "stream",
     "text": [
      "┌ Warning: Skipping atomic property pseudopotential, which is not supported in ASE.\n",
      "└ @ ASEconvert ~/.julia/packages/ASEconvert/CNQ1A/src/ASEconvert.jl:123\n",
      "n     Energy            log10(ΔE)   log10(Δρ)   Diag   Δtime\n",
      "---   ---------------   ---------   ---------   ----   ------\n",
      "  1   -8.298460903190                   -0.85    5.2         \n",
      "  2   -8.300274264027       -2.74       -1.59    1.1   88.9ms\n",
      "  3   -8.300435879713       -3.79       -2.64    3.2    123ms\n",
      "  4   -8.300420846338   +   -4.82       -2.43    7.0    193ms\n",
      "  5   -8.300464411066       -4.36       -3.39    1.0   89.7ms\n",
      "  6   -8.300464616816       -6.69       -3.94    3.4    158ms\n",
      "  7   -8.300464641867       -7.60       -4.36    1.6    108ms\n"
     ]
    }
   ],
   "cell_type": "code",
   "source": [
    "self_consistent_field(aluminium_setup(1); tol=1e-4, mixing=SimpleMixing());"
   ],
   "metadata": {},
   "execution_count": 6
  },
  {
   "outputs": [
    {
     "name": "stdout",
     "output_type": "stream",
     "text": [
      "┌ Warning: Skipping atomic property pseudopotential, which is not supported in ASE.\n",
      "└ @ ASEconvert ~/.julia/packages/ASEconvert/CNQ1A/src/ASEconvert.jl:123\n",
      "n     Energy            log10(ΔE)   log10(Δρ)   Diag   Δtime\n",
      "---   ---------------   ---------   ---------   ----   ------\n",
      "  1   -33.32753450080                   -0.56    7.0         \n",
      "  2   -33.31878819076   +   -2.06       -1.27    1.4    826ms\n",
      "  3   -16.68140120307   +    1.22       -0.45    6.4    1.73s\n",
      "  4   -33.32656845068        1.22       -1.90    5.9    1.56s\n",
      "  5   -33.28254828963   +   -1.36       -1.42    3.1    1.38s\n",
      "  6   -33.26758229320   +   -1.82       -1.62    3.5    1.30s\n",
      "  7   -33.12802083828   +   -0.86       -1.40    5.0    1.39s\n",
      "  8   -33.33630273999       -0.68       -2.53    4.1    1.26s\n",
      "  9   -33.33562128123   +   -3.17       -2.42    3.1    1.29s\n",
      " 10   -33.33680881767       -2.93       -2.70    2.4    1.05s\n",
      " 11   -33.33684869493       -4.40       -3.00    1.8    919ms\n",
      " 12   -33.33694006477       -4.04       -3.43    2.8    1.12s\n",
      " 13   -33.33694077519       -6.15       -3.56    3.5    1.19s\n",
      " 14   -33.33694366988       -5.54       -4.12    2.2    1.01s\n"
     ]
    }
   ],
   "cell_type": "code",
   "source": [
    "self_consistent_field(aluminium_setup(4); tol=1e-4, mixing=SimpleMixing());"
   ],
   "metadata": {},
   "execution_count": 7
  },
  {
   "cell_type": "markdown",
   "source": [
    "For completion let us note that the more traditional `mixing=KerkerMixing()`\n",
    "approach would also help in this particular setting to obtain a constant\n",
    "number of SCF iterations for an increasing system size (try it!). In contrast\n",
    "to `LdosMixing`, however, `KerkerMixing` is only suitable to model bulk metallic\n",
    "system (like the case we are considering here). When modelling metallic surfaces\n",
    "or mixtures of metals and insulators, `KerkerMixing` fails, while `LdosMixing`\n",
    "still works well. See the Modelling a gallium arsenide surface example\n",
    "or [^HL2021] for details. Due to the general applicability of `LdosMixing` this\n",
    "method is the default mixing approach in DFTK."
   ],
   "metadata": {}
  }
 ],
 "nbformat_minor": 3,
 "metadata": {
  "language_info": {
   "file_extension": ".jl",
   "mimetype": "application/julia",
   "name": "julia",
   "version": "1.9.3"
  },
  "kernelspec": {
   "name": "julia-1.9",
   "display_name": "Julia 1.9.3",
   "language": "julia"
  }
 },
 "nbformat": 4
}
