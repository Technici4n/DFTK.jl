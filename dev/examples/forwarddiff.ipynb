{
 "cells": [
  {
   "cell_type": "markdown",
   "source": [
    "# Polarizability using automatic differentiation\n",
    "\n",
    "Simple example for computing properties using (forward-mode)\n",
    "automatic differentiation.\n",
    "For a more classical approach and more details about computing polarizabilities,\n",
    "see Polarizability by linear response."
   ],
   "metadata": {}
  },
  {
   "outputs": [],
   "cell_type": "code",
   "source": [
    "using DFTK\n",
    "using LinearAlgebra\n",
    "using ForwardDiff\n",
    "\n",
    "# Construct PlaneWaveBasis given a particular electric field strength\n",
    "# Again we take the example of a Helium atom.\n",
    "function make_basis(ε::T; a=10., Ecut=30) where {T}\n",
    "    lattice=T(a) * I(3)  # lattice is a cube of $a$ Bohrs\n",
    "    # Helium at the center of the box\n",
    "    atoms     = [ElementPsp(:He, psp=load_psp(\"hgh/lda/He-q2\"))]\n",
    "    positions = [[1/2, 1/2, 1/2]]\n",
    "\n",
    "    model = model_DFT(lattice, atoms, positions, [:lda_x, :lda_c_vwn];\n",
    "                      extra_terms=[ExternalFromReal(r -> -ε * (r[1] - a/2))],\n",
    "                      symmetries=false)\n",
    "    PlaneWaveBasis(model; Ecut, kgrid=[1, 1, 1])  # No k-point sampling on isolated system\n",
    "end\n",
    "\n",
    "# dipole moment of a given density (assuming the current geometry)\n",
    "function dipole(basis, ρ)\n",
    "    @assert isdiag(basis.model.lattice)\n",
    "    a  = basis.model.lattice[1, 1]\n",
    "    rr = [a * (r[1] - 1/2) for r in r_vectors(basis)]\n",
    "    sum(rr .* ρ) * basis.dvol\n",
    "end\n",
    "\n",
    "# Function to compute the dipole for a given field strength\n",
    "function compute_dipole(ε; tol=1e-8, kwargs...)\n",
    "    scfres = self_consistent_field(make_basis(ε; kwargs...); tol)\n",
    "    dipole(scfres.basis, scfres.ρ)\n",
    "end;"
   ],
   "metadata": {},
   "execution_count": 1
  },
  {
   "cell_type": "markdown",
   "source": [
    "With this in place we can compute the polarizability from finite differences\n",
    "(just like in the previous example):"
   ],
   "metadata": {}
  },
  {
   "outputs": [
    {
     "name": "stdout",
     "output_type": "stream",
     "text": [
      "n     Energy            log10(ΔE)   log10(Δρ)   Diag   Δtime\n",
      "---   ---------------   ---------   ---------   ----   ------\n",
      "  1   -2.770871557576                   -0.53    8.0         \n",
      "  2   -2.772125362034       -2.90       -1.30    1.0    210ms\n",
      "  3   -2.772168804953       -4.36       -2.69    1.0    177ms\n",
      "  4   -2.772170705083       -5.72       -3.49    2.0    274ms\n",
      "  5   -2.772170719207       -7.85       -3.75    2.0    202ms\n",
      "  6   -2.772170722932       -8.43       -4.62    1.0    183ms\n",
      "  7   -2.772170723003      -10.15       -5.06    1.0    206ms\n",
      "  8   -2.772170723015      -10.92       -6.07    2.0    216ms\n",
      "  9   -2.772170723015   +  -13.41       -6.02    2.0    241ms\n",
      " 10   -2.772170723015      -13.00       -6.66    1.0    194ms\n",
      " 11   -2.772170723015      -13.85       -7.32    1.0    220ms\n",
      " 12   -2.772170723015      -14.07       -8.13    2.0    219ms\n",
      "n     Energy            log10(ΔE)   log10(Δρ)   Diag   Δtime\n",
      "---   ---------------   ---------   ---------   ----   ------\n",
      "  1   -2.770612465726                   -0.53    9.0         \n",
      "  2   -2.772046528481       -2.84       -1.30    1.0    173ms\n",
      "  3   -2.772082302503       -4.45       -2.70    1.0    195ms\n",
      "  4   -2.772083409338       -5.96       -3.64    2.0    200ms\n",
      "  5   -2.772083416955       -8.12       -4.06    2.0    235ms\n",
      "  6   -2.772083417790       -9.08       -5.22    1.0    180ms\n",
      "  7   -2.772083417810      -10.68       -5.85    2.0    213ms\n",
      "  8   -2.772083417811      -12.68       -6.35    2.0    213ms\n",
      "  9   -2.772083417811      -14.12       -6.99    1.0    207ms\n",
      " 10   -2.772083417811      -15.35       -7.51    1.0    199ms\n",
      " 11   -2.772083417811      -13.71       -8.31    2.0    229ms\n"
     ]
    },
    {
     "output_type": "execute_result",
     "data": {
      "text/plain": "1.773557963930991"
     },
     "metadata": {},
     "execution_count": 2
    }
   ],
   "cell_type": "code",
   "source": [
    "polarizability_fd = let\n",
    "    ε = 0.01\n",
    "    (compute_dipole(ε) - compute_dipole(0.0)) / ε\n",
    "end"
   ],
   "metadata": {},
   "execution_count": 2
  },
  {
   "cell_type": "markdown",
   "source": [
    "We do the same thing using automatic differentiation. Under the hood this uses\n",
    "custom rules to implicitly differentiate through the self-consistent\n",
    "field fixed-point problem."
   ],
   "metadata": {}
  },
  {
   "outputs": [
    {
     "name": "stdout",
     "output_type": "stream",
     "text": [
      "n     Energy            log10(ΔE)   log10(Δρ)   Diag   Δtime\n",
      "---   ---------------   ---------   ---------   ----   ------\n",
      "  1   -2.770747248134                   -0.52    9.0         \n",
      "  2   -2.772059667013       -2.88       -1.32    1.0    232ms\n",
      "  3   -2.772082939868       -4.63       -2.43    1.0    173ms\n",
      "  4   -2.772083335027       -6.40       -3.12    1.0    235ms\n",
      "  5   -2.772083417732       -7.08       -4.49    2.0    203ms\n",
      "  6   -2.772083417782      -10.30       -4.62    1.0    212ms\n",
      "  7   -2.772083417807      -10.60       -5.59    1.0    185ms\n",
      "  8   -2.772083417811      -11.47       -7.00    2.0    221ms\n",
      "  9   -2.772083417811   +  -14.75       -7.00    2.0    220ms\n",
      " 10   -2.772083417811      -14.45       -7.69    1.0    208ms\n",
      " 11   -2.772083417811   +  -14.75       -9.06    2.0    224ms\n",
      "\n",
      "Polarizability via ForwardDiff:       1.772534973058285\n",
      "Polarizability via finite difference: 1.773557963930991\n"
     ]
    }
   ],
   "cell_type": "code",
   "source": [
    "polarizability = ForwardDiff.derivative(compute_dipole, 0.0)\n",
    "println()\n",
    "println(\"Polarizability via ForwardDiff:       $polarizability\")\n",
    "println(\"Polarizability via finite difference: $polarizability_fd\")"
   ],
   "metadata": {},
   "execution_count": 3
  }
 ],
 "nbformat_minor": 3,
 "metadata": {
  "language_info": {
   "file_extension": ".jl",
   "mimetype": "application/julia",
   "name": "julia",
   "version": "1.9.0"
  },
  "kernelspec": {
   "name": "julia-1.9",
   "display_name": "Julia 1.9.0",
   "language": "julia"
  }
 },
 "nbformat": 4
}
