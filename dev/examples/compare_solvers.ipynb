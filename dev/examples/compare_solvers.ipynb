{
 "cells": [
  {
   "cell_type": "markdown",
   "source": [
    "# Comparison of DFT solvers"
   ],
   "metadata": {}
  },
  {
   "cell_type": "markdown",
   "source": [
    "We compare four different approaches for solving the DFT minimisation problem,\n",
    "namely a density-based SCF, a potential-based SCF, direct minimisation and Newton."
   ],
   "metadata": {}
  },
  {
   "cell_type": "markdown",
   "source": [
    "First we setup our problem"
   ],
   "metadata": {}
  },
  {
   "outputs": [],
   "cell_type": "code",
   "source": [
    "using DFTK\n",
    "using LinearAlgebra\n",
    "\n",
    "a = 10.26  # Silicon lattice constant in Bohr\n",
    "lattice = a / 2 * [[0 1 1.];\n",
    "                   [1 0 1.];\n",
    "                   [1 1 0.]]\n",
    "Si = ElementPsp(:Si, psp=load_psp(\"hgh/lda/Si-q4\"))\n",
    "atoms     = [Si, Si]\n",
    "positions = [ones(3)/8, -ones(3)/8]\n",
    "\n",
    "model = model_LDA(lattice, atoms, positions)\n",
    "basis = PlaneWaveBasis(model; Ecut=5, kgrid=[3, 3, 3])\n",
    "\n",
    "# Convergence we desire\n",
    "tol = 1e-12\n",
    "is_converged = DFTK.ScfConvergenceDensity(tol);"
   ],
   "metadata": {},
   "execution_count": 1
  },
  {
   "cell_type": "markdown",
   "source": [
    "## Density-based self-consistent field"
   ],
   "metadata": {}
  },
  {
   "outputs": [
    {
     "name": "stdout",
     "output_type": "stream",
     "text": [
      "n     Energy            log10(ΔE)   log10(Δρ)   Diag\n",
      "---   ---------------   ---------   ---------   ----\n",
      "  1   -7.846834837157                   -0.70    4.8\n",
      "  2   -7.852319554563       -2.26       -1.53    1.0\n",
      "  3   -7.852646164816       -3.49       -2.52    3.2\n",
      "  4   -7.852646676595       -6.29       -3.36    2.2\n",
      "  5   -7.852646685893       -8.03       -4.73    1.5\n",
      "  6   -7.852646686724       -9.08       -5.27    3.8\n",
      "  7   -7.852646686730      -11.27       -6.08    1.2\n",
      "  8   -7.852646686730      -12.56       -7.58    2.2\n",
      "  9   -7.852646686730      -14.35       -7.57    2.5\n",
      " 10   -7.852646686730      -15.05       -8.76    2.0\n",
      " 11   -7.852646686730   +  -15.05       -9.58    2.5\n",
      " 12   -7.852646686730   +  -14.75       -9.83    1.0\n",
      " 13   -7.852646686730      -15.05      -11.21    2.0\n",
      " 14   -7.852646686730      -15.05      -11.42    1.8\n",
      " 15   -7.852646686730   +  -14.75      -12.46    2.5\n"
     ]
    }
   ],
   "cell_type": "code",
   "source": [
    "scfres_scf = self_consistent_field(basis; is_converged);"
   ],
   "metadata": {},
   "execution_count": 2
  },
  {
   "cell_type": "markdown",
   "source": [
    "## Potential-based SCF"
   ],
   "metadata": {}
  },
  {
   "outputs": [
    {
     "name": "stdout",
     "output_type": "stream",
     "text": [
      "n     Energy            log10(ΔE)   log10(Δρ)   α      Diag\n",
      "---   ---------------   ---------   ---------   ----   ----\n",
      "  1   -7.846854167540                   -0.70           4.8\n",
      "  2   -7.852528555528       -2.25       -1.63   0.80    2.0\n",
      "  3   -7.852637021499       -3.96       -2.71   0.80    1.0\n",
      "  4   -7.852646500247       -5.02       -3.28   0.80    2.2\n",
      "  5   -7.852646681902       -6.74       -4.11   0.80    1.2\n",
      "  6   -7.852646686339       -8.35       -4.81   0.80    1.2\n",
      "  7   -7.852646686721       -9.42       -5.79   0.80    1.8\n",
      "  8   -7.852646686730      -11.07       -6.62   0.80    2.2\n",
      "  9   -7.852646686730      -12.88       -7.77   0.80    2.0\n",
      " 10   -7.852646686730      -15.05       -8.38   0.80    2.2\n",
      " 11   -7.852646686730      -15.05       -8.47   0.80    2.0\n",
      " 12   -7.852646686730   +    -Inf       -9.50   0.80    1.0\n",
      " 13   -7.852646686730      -14.75       -9.99   0.80    2.0\n",
      " 14   -7.852646686730   +  -14.75      -10.82   0.80    1.2\n",
      " 15   -7.852646686730      -14.75      -11.57   0.80    1.8\n",
      " 16   -7.852646686730   +  -14.45      -12.90   0.80    2.0\n"
     ]
    }
   ],
   "cell_type": "code",
   "source": [
    "scfres_scfv = DFTK.scf_potential_mixing(basis; is_converged);"
   ],
   "metadata": {},
   "execution_count": 3
  },
  {
   "cell_type": "markdown",
   "source": [
    "## Direct minimization"
   ],
   "metadata": {}
  },
  {
   "outputs": [
    {
     "name": "stdout",
     "output_type": "stream",
     "text": [
      "Iter     Function value   Gradient norm \n",
      "     0     1.393057e+01     3.733603e+00\n",
      " * time: 0.4572129249572754\n",
      "     1     1.024307e+00     1.950170e+00\n",
      " * time: 0.6680440902709961\n",
      "     2    -1.490782e+00     2.246964e+00\n",
      " * time: 0.6949639320373535\n",
      "     3    -3.814900e+00     1.825841e+00\n",
      " * time: 0.8629879951477051\n",
      "     4    -4.966042e+00     1.656600e+00\n",
      " * time: 0.9015960693359375\n",
      "     5    -6.777482e+00     8.934188e-01\n",
      " * time: 0.9403579235076904\n",
      "     6    -7.395787e+00     5.009778e-01\n",
      " * time: 0.9789650440216064\n",
      "     7    -7.632528e+00     2.711337e-01\n",
      " * time: 1.0057039260864258\n",
      "     8    -7.726262e+00     8.520718e-02\n",
      " * time: 1.0324039459228516\n",
      "     9    -7.759652e+00     1.241048e-01\n",
      " * time: 1.0589759349822998\n",
      "    10    -7.775273e+00     6.105748e-02\n",
      " * time: 1.0857460498809814\n",
      "    11    -7.782735e+00     7.089747e-02\n",
      " * time: 1.1125049591064453\n",
      "    12    -7.786939e+00     6.312374e-02\n",
      " * time: 1.1389639377593994\n",
      "    13    -7.795833e+00     6.603219e-02\n",
      " * time: 1.1654949188232422\n",
      "    14    -7.820571e+00     5.744623e-02\n",
      " * time: 1.1920299530029297\n",
      "    15    -7.836737e+00     4.057394e-02\n",
      " * time: 1.218770980834961\n",
      "    16    -7.846766e+00     3.034520e-02\n",
      " * time: 1.2452919483184814\n",
      "    17    -7.849883e+00     2.018608e-02\n",
      " * time: 1.2719430923461914\n",
      "    18    -7.851920e+00     8.589006e-03\n",
      " * time: 1.2987120151519775\n",
      "    19    -7.852420e+00     8.412102e-03\n",
      " * time: 1.3262441158294678\n",
      "    20    -7.852563e+00     5.041577e-03\n",
      " * time: 1.3547401428222656\n",
      "    21    -7.852622e+00     2.429915e-03\n",
      " * time: 1.3839409351348877\n",
      "    22    -7.852641e+00     1.346711e-03\n",
      " * time: 1.411592960357666\n",
      "    23    -7.852645e+00     7.664248e-04\n",
      " * time: 1.4383749961853027\n",
      "    24    -7.852646e+00     3.172564e-04\n",
      " * time: 1.4655201435089111\n",
      "    25    -7.852647e+00     1.999231e-04\n",
      " * time: 1.4926040172576904\n",
      "    26    -7.852647e+00     1.060842e-04\n",
      " * time: 1.5191941261291504\n",
      "    27    -7.852647e+00     6.444027e-05\n",
      " * time: 1.5467300415039062\n",
      "    28    -7.852647e+00     5.758465e-05\n",
      " * time: 1.5734760761260986\n",
      "    29    -7.852647e+00     2.645081e-05\n",
      " * time: 1.6004891395568848\n",
      "    30    -7.852647e+00     1.653221e-05\n",
      " * time: 1.6273269653320312\n",
      "    31    -7.852647e+00     9.237129e-06\n",
      " * time: 1.6537909507751465\n",
      "    32    -7.852647e+00     5.414845e-06\n",
      " * time: 1.6802639961242676\n",
      "    33    -7.852647e+00     3.207678e-06\n",
      " * time: 1.707247018814087\n",
      "    34    -7.852647e+00     1.772941e-06\n",
      " * time: 1.733633041381836\n",
      "    35    -7.852647e+00     1.660388e-06\n",
      " * time: 1.7602131366729736\n",
      "    36    -7.852647e+00     8.584272e-07\n",
      " * time: 1.7867131233215332\n",
      "    37    -7.852647e+00     3.993217e-07\n",
      " * time: 1.813364028930664\n",
      "    38    -7.852647e+00     2.903415e-07\n",
      " * time: 1.839940071105957\n",
      "    39    -7.852647e+00     1.132141e-07\n",
      " * time: 1.8661460876464844\n",
      "    40    -7.852647e+00     7.805331e-08\n",
      " * time: 1.892219066619873\n",
      "    41    -7.852647e+00     3.915140e-08\n",
      " * time: 1.9184610843658447\n",
      "    42    -7.852647e+00     2.043097e-08\n",
      " * time: 1.9448330402374268\n",
      "    43    -7.852647e+00     1.263726e-08\n",
      " * time: 1.9710071086883545\n",
      "    44    -7.852647e+00     6.151619e-09\n",
      " * time: 1.99733304977417\n",
      "    45    -7.852647e+00     3.871622e-09\n",
      " * time: 2.0235071182250977\n",
      "    46    -7.852647e+00     2.567893e-09\n",
      " * time: 2.0498850345611572\n"
     ]
    }
   ],
   "cell_type": "code",
   "source": [
    "scfres_dm = direct_minimization(basis; tol);"
   ],
   "metadata": {},
   "execution_count": 4
  },
  {
   "cell_type": "markdown",
   "source": [
    "## Newton algorithm"
   ],
   "metadata": {}
  },
  {
   "cell_type": "markdown",
   "source": [
    "Start not too far from the solution to ensure convergence:\n",
    "We run first a very crude SCF to get close and then switch to Newton."
   ],
   "metadata": {}
  },
  {
   "outputs": [
    {
     "name": "stdout",
     "output_type": "stream",
     "text": [
      "n     Energy            log10(ΔE)   log10(Δρ)   Diag\n",
      "---   ---------------   ---------   ---------   ----\n",
      "  1   -7.846791552104                   -0.70    4.8\n",
      "  2   -7.852312649078       -2.26       -1.53    1.0\n"
     ]
    }
   ],
   "cell_type": "code",
   "source": [
    "scfres_start = self_consistent_field(basis; tol=1e-1);"
   ],
   "metadata": {},
   "execution_count": 5
  },
  {
   "cell_type": "markdown",
   "source": [
    "Remove the virtual orbitals (which Newton cannot treat yet)"
   ],
   "metadata": {}
  },
  {
   "outputs": [
    {
     "name": "stdout",
     "output_type": "stream",
     "text": [
      "n     Energy            log10(ΔE)   log10(Δρ)\n",
      "---   ---------------   ---------   ---------\n",
      "  1   -7.852646686698                   -2.55\n",
      "  2   -7.852646686730      -10.49       -5.86\n",
      "  3   -7.852646686730   +  -14.35      -12.59\n"
     ]
    }
   ],
   "cell_type": "code",
   "source": [
    "ψ = DFTK.select_occupied_orbitals(basis, scfres_start.ψ, scfres_start.occupation).ψ\n",
    "scfres_newton = newton(basis, ψ; tol);"
   ],
   "metadata": {},
   "execution_count": 6
  },
  {
   "cell_type": "markdown",
   "source": [
    "## Comparison of results"
   ],
   "metadata": {}
  },
  {
   "outputs": [
    {
     "name": "stdout",
     "output_type": "stream",
     "text": [
      "|ρ_newton - ρ_scf|  = 8.469304733629998e-14\n",
      "|ρ_newton - ρ_scfv| = 8.27566518069133e-13\n",
      "|ρ_newton - ρ_dm|   = 1.1382784197640866e-10\n"
     ]
    }
   ],
   "cell_type": "code",
   "source": [
    "println(\"|ρ_newton - ρ_scf|  = \", norm(scfres_newton.ρ - scfres_scf.ρ))\n",
    "println(\"|ρ_newton - ρ_scfv| = \", norm(scfres_newton.ρ - scfres_scfv.ρ))\n",
    "println(\"|ρ_newton - ρ_dm|   = \", norm(scfres_newton.ρ - scfres_dm.ρ))"
   ],
   "metadata": {},
   "execution_count": 7
  }
 ],
 "nbformat_minor": 3,
 "metadata": {
  "language_info": {
   "file_extension": ".jl",
   "mimetype": "application/julia",
   "name": "julia",
   "version": "1.8.3"
  },
  "kernelspec": {
   "name": "julia-1.8",
   "display_name": "Julia 1.8.3",
   "language": "julia"
  }
 },
 "nbformat": 4
}
