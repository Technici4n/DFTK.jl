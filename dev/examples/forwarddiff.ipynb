{
 "cells": [
  {
   "cell_type": "markdown",
   "source": [
    "# Polarizability using automatic differentiation\n",
    "\n",
    "Simple example for computing properties using (forward-mode)\n",
    "automatic differentiation.\n",
    "For a more classical approach and more details about computing polarizabilities,\n",
    "see Polarizability by linear response."
   ],
   "metadata": {}
  },
  {
   "outputs": [],
   "cell_type": "code",
   "source": [
    "using DFTK\n",
    "using LinearAlgebra\n",
    "using ForwardDiff\n",
    "\n",
    "# Construct PlaneWaveBasis given a particular electric field strength\n",
    "# Again we take the example of a Helium atom.\n",
    "function make_basis(ε::T; a=10., Ecut=30) where {T}\n",
    "    lattice=T(a) * I(3)  # lattice is a cube of $a$ Bohrs\n",
    "    # Helium at the center of the box\n",
    "    atoms     = [ElementPsp(:He, psp=load_psp(\"hgh/lda/He-q2\"))]\n",
    "    positions = [[1/2, 1/2, 1/2]]\n",
    "\n",
    "    model = model_DFT(lattice, atoms, positions, [:lda_x, :lda_c_vwn];\n",
    "                      extra_terms=[ExternalFromReal(r -> -ε * (r[1] - a/2))],\n",
    "                      symmetries=false)\n",
    "    PlaneWaveBasis(model; Ecut, kgrid=[1, 1, 1])  # No k-point sampling on isolated system\n",
    "end\n",
    "\n",
    "# dipole moment of a given density (assuming the current geometry)\n",
    "function dipole(basis, ρ)\n",
    "    @assert isdiag(basis.model.lattice)\n",
    "    a  = basis.model.lattice[1, 1]\n",
    "    rr = [a * (r[1] - 1/2) for r in r_vectors(basis)]\n",
    "    sum(rr .* ρ) * basis.dvol\n",
    "end\n",
    "\n",
    "# Function to compute the dipole for a given field strength\n",
    "function compute_dipole(ε; tol=1e-8, kwargs...)\n",
    "    scfres = self_consistent_field(make_basis(ε; kwargs...); tol)\n",
    "    dipole(scfres.basis, scfres.ρ)\n",
    "end;"
   ],
   "metadata": {},
   "execution_count": 1
  },
  {
   "cell_type": "markdown",
   "source": [
    "With this in place we can compute the polarizability from finite differences\n",
    "(just like in the previous example):"
   ],
   "metadata": {}
  },
  {
   "outputs": [
    {
     "name": "stdout",
     "output_type": "stream",
     "text": [
      "n     Energy            log10(ΔE)   log10(Δρ)   Diag   Δtime\n",
      "---   ---------------   ---------   ---------   ----   ------\n",
      "  1   -2.770833535136                   -0.52    9.0         \n",
      "  2   -2.772141716361       -2.88       -1.32    1.0    153ms\n",
      "  3   -2.772170160315       -4.55       -2.52    1.0    156ms\n",
      "  4   -2.772170688813       -6.28       -3.35    2.0    199ms\n",
      "  5   -2.772170720058       -7.51       -3.80    1.0    160ms\n",
      "  6   -2.772170722695       -8.58       -4.53    1.0    183ms\n",
      "  7   -2.772170723000       -9.52       -4.87    2.0    185ms\n",
      "  8   -2.772170723014      -10.85       -5.65    1.0    174ms\n",
      "  9   -2.772170723015      -12.12       -6.72    2.0    202ms\n",
      " 10   -2.772170723015      -14.24       -6.99    1.0    188ms\n",
      " 11   -2.772170723015      -14.18       -7.91    1.0    174ms\n",
      " 12   -2.772170723015   +  -14.75       -8.16    2.0    211ms\n",
      "n     Energy            log10(ΔE)   log10(Δρ)   Diag   Δtime\n",
      "---   ---------------   ---------   ---------   ----   ------\n",
      "  1   -2.770731745278                   -0.52    9.0         \n",
      "  2   -2.772055189463       -2.88       -1.32    1.0    154ms\n",
      "  3   -2.772083108149       -4.55       -2.51    1.0    177ms\n",
      "  4   -2.772083368540       -6.58       -3.36    1.0    158ms\n",
      "  5   -2.772083416140       -7.32       -3.91    2.0    210ms\n",
      "  6   -2.772083417758       -8.79       -5.21    1.0    163ms\n",
      "  7   -2.772083417810      -10.28       -5.72    2.0    191ms\n",
      "  8   -2.772083417811      -12.90       -5.98    2.0    189ms\n",
      "  9   -2.772083417811      -13.54       -6.88    1.0    189ms\n",
      " 10   -2.772083417811   +  -13.99       -7.32    1.0    181ms\n",
      " 11   -2.772083417811      -13.73       -8.07    2.0    206ms\n"
     ]
    },
    {
     "output_type": "execute_result",
     "data": {
      "text/plain": "1.7735580155357455"
     },
     "metadata": {},
     "execution_count": 2
    }
   ],
   "cell_type": "code",
   "source": [
    "polarizability_fd = let\n",
    "    ε = 0.01\n",
    "    (compute_dipole(ε) - compute_dipole(0.0)) / ε\n",
    "end"
   ],
   "metadata": {},
   "execution_count": 2
  },
  {
   "cell_type": "markdown",
   "source": [
    "We do the same thing using automatic differentiation. Under the hood this uses\n",
    "custom rules to implicitly differentiate through the self-consistent\n",
    "field fixed-point problem."
   ],
   "metadata": {}
  },
  {
   "outputs": [
    {
     "name": "stdout",
     "output_type": "stream",
     "text": [
      "n     Energy            log10(ΔE)   log10(Δρ)   Diag   Δtime\n",
      "---   ---------------   ---------   ---------   ----   ------\n",
      "  1   -2.770922004076                   -0.53    9.0         \n",
      "  2   -2.772064635035       -2.94       -1.32    1.0    198ms\n",
      "  3   -2.772083204154       -4.73       -2.51    1.0    154ms\n",
      "  4   -2.772083365351       -6.79       -3.25    1.0    183ms\n",
      "  5   -2.772083415731       -7.30       -3.86    2.0    217ms\n",
      "  6   -2.772083417730       -8.70       -4.78    1.0    162ms\n",
      "  7   -2.772083417808      -10.10       -5.28    2.0    214ms\n",
      "  8   -2.772083417810      -11.69       -6.06    1.0    168ms\n",
      "  9   -2.772083417811      -12.69       -6.93    2.0    208ms\n",
      " 10   -2.772083417811      -14.75       -7.62    1.0    178ms\n",
      " 11   -2.772083417811   +  -15.35       -8.23    2.0    200ms\n",
      "\n",
      "Polarizability via ForwardDiff:       1.7725349682992868\n",
      "Polarizability via finite difference: 1.7735580155357455\n"
     ]
    }
   ],
   "cell_type": "code",
   "source": [
    "polarizability = ForwardDiff.derivative(compute_dipole, 0.0)\n",
    "println()\n",
    "println(\"Polarizability via ForwardDiff:       $polarizability\")\n",
    "println(\"Polarizability via finite difference: $polarizability_fd\")"
   ],
   "metadata": {},
   "execution_count": 3
  }
 ],
 "nbformat_minor": 3,
 "metadata": {
  "language_info": {
   "file_extension": ".jl",
   "mimetype": "application/julia",
   "name": "julia",
   "version": "1.9.1"
  },
  "kernelspec": {
   "name": "julia-1.9",
   "display_name": "Julia 1.9.1",
   "language": "julia"
  }
 },
 "nbformat": 4
}
