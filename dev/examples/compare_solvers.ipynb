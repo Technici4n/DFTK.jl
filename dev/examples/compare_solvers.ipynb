{
 "cells": [
  {
   "cell_type": "markdown",
   "source": [
    "# Comparison of DFT solvers"
   ],
   "metadata": {}
  },
  {
   "cell_type": "markdown",
   "source": [
    "We compare four different approaches for solving the DFT minimisation problem,\n",
    "namely a density-based SCF, a potential-based SCF, direct minimisation and Newton."
   ],
   "metadata": {}
  },
  {
   "cell_type": "markdown",
   "source": [
    "First we setup our problem"
   ],
   "metadata": {}
  },
  {
   "outputs": [
    {
     "output_type": "execute_result",
     "data": {
      "text/plain": "1.0e-6"
     },
     "metadata": {},
     "execution_count": 1
    }
   ],
   "cell_type": "code",
   "source": [
    "using DFTK\n",
    "using LinearAlgebra\n",
    "\n",
    "a = 10.26  # Silicon lattice constant in Bohr\n",
    "lattice = a / 2 * [[0 1 1.];\n",
    "                   [1 0 1.];\n",
    "                   [1 1 0.]]\n",
    "Si = ElementPsp(:Si, psp=load_psp(\"hgh/lda/Si-q4\"))\n",
    "atoms     = [Si, Si]\n",
    "positions = [ones(3)/8, -ones(3)/8]\n",
    "\n",
    "model = model_LDA(lattice, atoms, positions)\n",
    "basis = PlaneWaveBasis(model; Ecut=5, kgrid=[3, 3, 3])\n",
    "\n",
    "# Convergence we desire in the density\n",
    "tol = 1e-6"
   ],
   "metadata": {},
   "execution_count": 1
  },
  {
   "cell_type": "markdown",
   "source": [
    "## Density-based self-consistent field"
   ],
   "metadata": {}
  },
  {
   "outputs": [
    {
     "name": "stdout",
     "output_type": "stream",
     "text": [
      "n     Energy            log10(ΔE)   log10(Δρ)   Diag   Δtime\n",
      "---   ---------------   ---------   ---------   ----   ------\n",
      "  1   -7.846905868835                   -0.70    4.8         \n",
      "  2   -7.852324919922       -2.27       -1.53    1.0   89.9ms\n",
      "  3   -7.852616342054       -3.54       -2.56    1.5   30.3ms\n",
      "  4   -7.852645998424       -4.53       -2.89    2.5   36.3ms\n",
      "  5   -7.852646507075       -6.29       -3.18    1.2   26.9ms\n",
      "  6   -7.852646680103       -6.76       -4.13    1.0   24.9ms\n",
      "  7   -7.852646686692       -8.18       -5.13    2.2   36.3ms\n",
      "  8   -7.852646686727      -10.46       -5.56    1.5   29.4ms\n",
      "  9   -7.852646686728      -11.85       -5.63    1.2   29.1ms\n",
      " 10   -7.852646686730      -11.75       -6.72    1.0   26.7ms\n"
     ]
    }
   ],
   "cell_type": "code",
   "source": [
    "scfres_scf = self_consistent_field(basis; tol);"
   ],
   "metadata": {},
   "execution_count": 2
  },
  {
   "cell_type": "markdown",
   "source": [
    "## Potential-based SCF"
   ],
   "metadata": {}
  },
  {
   "outputs": [
    {
     "name": "stdout",
     "output_type": "stream",
     "text": [
      "n     Energy            log10(ΔE)   log10(Δρ)   α      Diag   Δtime\n",
      "---   ---------------   ---------   ---------   ----   ----   ------\n",
      "  1   -7.846929698334                   -0.70           4.2         \n",
      "  2   -7.852555098253       -2.25       -1.64   0.80    2.2    261ms\n",
      "  3   -7.852638854723       -4.08       -2.75   0.80    1.0   24.6ms\n",
      "  4   -7.852646572249       -5.11       -3.33   0.80    2.0   90.8ms\n",
      "  5   -7.852646678700       -6.97       -4.24   0.80    1.5   24.5ms\n",
      "  6   -7.852646686573       -8.10       -4.82   0.80    2.2   31.2ms\n",
      "  7   -7.852646686719       -9.83       -5.60   0.80    1.2   28.9ms\n",
      "  8   -7.852646686730      -10.99       -6.77   0.80    2.2   32.7ms\n"
     ]
    }
   ],
   "cell_type": "code",
   "source": [
    "scfres_scfv = DFTK.scf_potential_mixing(basis; tol);"
   ],
   "metadata": {},
   "execution_count": 3
  },
  {
   "cell_type": "markdown",
   "source": [
    "## Direct minimization\n",
    "Note: Unlike the other algorithms, tolerance for this one is in the energy,\n",
    "thus we square the density tolerance value to be roughly equivalent."
   ],
   "metadata": {}
  },
  {
   "outputs": [
    {
     "name": "stdout",
     "output_type": "stream",
     "text": [
      "Iter     Function value   Gradient norm \n",
      "     0     1.417826e+01     3.395009e+00\n",
      " * time: 0.06259298324584961\n",
      "     1     1.631667e+00     1.809978e+00\n",
      " * time: 0.29938697814941406\n",
      "     2    -1.708040e+00     2.153477e+00\n",
      " * time: 0.3238658905029297\n",
      "     3    -3.619673e+00     1.888787e+00\n",
      " * time: 0.3589029312133789\n",
      "     4    -4.966605e+00     1.950443e+00\n",
      " * time: 0.39638280868530273\n",
      "     5    -6.567789e+00     1.142818e+00\n",
      " * time: 0.43483495712280273\n",
      "     6    -7.271658e+00     5.578251e-01\n",
      " * time: 0.47048187255859375\n",
      "     7    -7.549843e+00     3.537144e-01\n",
      " * time: 0.49629688262939453\n",
      "     8    -7.694692e+00     1.159700e-01\n",
      " * time: 0.5235958099365234\n",
      "     9    -7.759558e+00     1.789728e-01\n",
      " * time: 0.5486419200897217\n",
      "    10    -7.801169e+00     8.981334e-02\n",
      " * time: 0.575218915939331\n",
      "    11    -7.823509e+00     7.088640e-02\n",
      " * time: 0.5998988151550293\n",
      "    12    -7.838997e+00     3.711674e-02\n",
      " * time: 0.6246368885040283\n",
      "    13    -7.846775e+00     2.313623e-02\n",
      " * time: 0.6496548652648926\n",
      "    14    -7.850650e+00     2.338986e-02\n",
      " * time: 0.6749758720397949\n",
      "    15    -7.851913e+00     1.836728e-02\n",
      " * time: 0.6991088390350342\n",
      "    16    -7.852425e+00     8.747071e-03\n",
      " * time: 0.7258968353271484\n",
      "    17    -7.852587e+00     5.203987e-03\n",
      " * time: 0.7501509189605713\n",
      "    18    -7.852630e+00     1.424282e-03\n",
      " * time: 0.773317813873291\n",
      "    19    -7.852642e+00     9.445034e-04\n",
      " * time: 0.7967119216918945\n",
      "    20    -7.852645e+00     7.693497e-04\n",
      " * time: 0.8212358951568604\n",
      "    21    -7.852646e+00     3.813505e-04\n",
      " * time: 0.846146821975708\n",
      "    22    -7.852647e+00     2.329587e-04\n",
      " * time: 0.8712489604949951\n",
      "    23    -7.852647e+00     1.055222e-04\n",
      " * time: 0.8976240158081055\n",
      "    24    -7.852647e+00     5.761517e-05\n",
      " * time: 0.9241149425506592\n",
      "    25    -7.852647e+00     3.556109e-05\n",
      " * time: 0.9497878551483154\n",
      "    26    -7.852647e+00     2.836940e-05\n",
      " * time: 0.9763009548187256\n",
      "    27    -7.852647e+00     1.713924e-05\n",
      " * time: 0.9997348785400391\n",
      "    28    -7.852647e+00     6.209804e-06\n",
      " * time: 1.0258839130401611\n",
      "    29    -7.852647e+00     3.625910e-06\n",
      " * time: 1.0500569343566895\n",
      "    30    -7.852647e+00     2.306977e-06\n",
      " * time: 1.0741169452667236\n",
      "    31    -7.852647e+00     1.187695e-06\n",
      " * time: 1.099334955215454\n",
      "    32    -7.852647e+00     8.418303e-07\n",
      " * time: 1.1258838176727295\n",
      "    33    -7.852647e+00     6.558149e-07\n",
      " * time: 1.151439905166626\n",
      "    34    -7.852647e+00     3.519633e-07\n",
      " * time: 1.1778578758239746\n",
      "    35    -7.852647e+00     1.897232e-07\n",
      " * time: 1.2018518447875977\n",
      "    36    -7.852647e+00     9.493881e-08\n",
      " * time: 1.227787971496582\n",
      "    37    -7.852647e+00     5.162673e-08\n",
      " * time: 1.2513020038604736\n",
      "    38    -7.852647e+00     3.819826e-08\n",
      " * time: 1.2748758792877197\n",
      "    39    -7.852647e+00     2.512148e-08\n",
      " * time: 1.300299882888794\n",
      "    40    -7.852647e+00     1.324427e-08\n",
      " * time: 1.3846750259399414\n",
      "    41    -7.852647e+00     1.324426e-08\n",
      " * time: 1.4882938861846924\n"
     ]
    }
   ],
   "cell_type": "code",
   "source": [
    "scfres_dm = direct_minimization(basis; tol=tol^2);"
   ],
   "metadata": {},
   "execution_count": 4
  },
  {
   "cell_type": "markdown",
   "source": [
    "## Newton algorithm"
   ],
   "metadata": {}
  },
  {
   "cell_type": "markdown",
   "source": [
    "Start not too far from the solution to ensure convergence:\n",
    "We run first a very crude SCF to get close and then switch to Newton."
   ],
   "metadata": {}
  },
  {
   "outputs": [
    {
     "name": "stdout",
     "output_type": "stream",
     "text": [
      "n     Energy            log10(ΔE)   log10(Δρ)   Diag   Δtime\n",
      "---   ---------------   ---------   ---------   ----   ------\n",
      "  1   -7.846849979637                   -0.70    4.5         \n"
     ]
    }
   ],
   "cell_type": "code",
   "source": [
    "scfres_start = self_consistent_field(basis; tol=0.5);"
   ],
   "metadata": {},
   "execution_count": 5
  },
  {
   "cell_type": "markdown",
   "source": [
    "Remove the virtual orbitals (which Newton cannot treat yet)"
   ],
   "metadata": {}
  },
  {
   "outputs": [
    {
     "name": "stdout",
     "output_type": "stream",
     "text": [
      "n     Energy            log10(ΔE)   log10(Δρ)   Δtime\n",
      "---   ---------------   ---------   ---------   ------\n",
      "  1   -7.852645921047                   -1.64         \n",
      "  2   -7.852646686730       -6.12       -3.71    2.13s\n",
      "  3   -7.852646686730      -13.34       -7.26    199ms\n"
     ]
    }
   ],
   "cell_type": "code",
   "source": [
    "ψ = DFTK.select_occupied_orbitals(basis, scfres_start.ψ, scfres_start.occupation).ψ\n",
    "scfres_newton = newton(basis, ψ; tol);"
   ],
   "metadata": {},
   "execution_count": 6
  },
  {
   "cell_type": "markdown",
   "source": [
    "## Comparison of results"
   ],
   "metadata": {}
  },
  {
   "outputs": [
    {
     "name": "stdout",
     "output_type": "stream",
     "text": [
      "|ρ_newton - ρ_scf|  = 2.633080431196351e-7\n",
      "|ρ_newton - ρ_scfv| = 5.314313581357188e-8\n",
      "|ρ_newton - ρ_dm|   = 2.509740947988247e-9\n"
     ]
    }
   ],
   "cell_type": "code",
   "source": [
    "println(\"|ρ_newton - ρ_scf|  = \", norm(scfres_newton.ρ - scfres_scf.ρ))\n",
    "println(\"|ρ_newton - ρ_scfv| = \", norm(scfres_newton.ρ - scfres_scfv.ρ))\n",
    "println(\"|ρ_newton - ρ_dm|   = \", norm(scfres_newton.ρ - scfres_dm.ρ))"
   ],
   "metadata": {},
   "execution_count": 7
  }
 ],
 "nbformat_minor": 3,
 "metadata": {
  "language_info": {
   "file_extension": ".jl",
   "mimetype": "application/julia",
   "name": "julia",
   "version": "1.9.2"
  },
  "kernelspec": {
   "name": "julia-1.9",
   "display_name": "Julia 1.9.2",
   "language": "julia"
  }
 },
 "nbformat": 4
}
