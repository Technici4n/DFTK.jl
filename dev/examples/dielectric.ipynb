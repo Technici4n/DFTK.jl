{
 "cells": [
  {
   "cell_type": "markdown",
   "source": [
    "# Eigenvalues of the dielectric matrix\n",
    "\n",
    "We compute a few eigenvalues of the dielectric matrix ($q=0$, $ω=0$) iteratively."
   ],
   "metadata": {}
  },
  {
   "outputs": [
    {
     "name": "stdout",
     "output_type": "stream",
     "text": [
      "n     Energy            log10(ΔE)   log10(Δρ)   Diag\n",
      "---   ---------------   ---------   ---------   ----\n",
      "  1   -7.234949496808                   -0.50    8.0\n",
      "  2   -7.250201221245       -1.82       -1.39    1.0\n",
      "  3   -7.250940251497       -3.13       -1.81    4.0\n",
      "  4   -7.250960193262       -4.70       -1.87    2.0\n",
      "  5   -7.251324968042       -3.44       -2.56    2.0\n",
      "  6   -7.251337879543       -4.89       -3.07    2.0\n",
      "  7   -7.251338758577       -6.06       -3.82    1.0\n",
      "  8   -7.251338794043       -7.45       -4.22    3.0\n",
      "  9   -7.251338798550       -8.35       -5.01    2.0\n",
      " 10   -7.251338798679       -9.89       -5.35    3.0\n",
      " 11   -7.251338798702      -10.63       -5.82    3.0\n",
      " 12   -7.251338798704      -11.64       -6.44    2.0\n",
      " 13   -7.251338798705      -12.83       -7.08    3.0\n",
      " 14   -7.251338798705      -14.05       -7.49    2.0\n"
     ]
    }
   ],
   "cell_type": "code",
   "source": [
    "using DFTK\n",
    "using Plots\n",
    "using KrylovKit\n",
    "using Printf\n",
    "\n",
    "# Calculation parameters\n",
    "kgrid = [1, 1, 1]\n",
    "Ecut = 5\n",
    "\n",
    "# Silicon lattice\n",
    "a = 10.26\n",
    "lattice = a / 2 .* [[0 1 1.]; [1 0 1.]; [1 1 0.]]\n",
    "Si = ElementPsp(:Si, psp=load_psp(\"hgh/lda/Si-q4\"))\n",
    "atoms     = [Si, Si]\n",
    "positions = [ones(3)/8, -ones(3)/8]\n",
    "\n",
    "# Compute the dielectric operator without symmetries\n",
    "model = model_LDA(lattice, atoms, positions, symmetries=false)\n",
    "basis = PlaneWaveBasis(model; Ecut, kgrid)\n",
    "scfres = self_consistent_field(basis, tol=1e-14);"
   ],
   "metadata": {},
   "execution_count": 1
  },
  {
   "cell_type": "markdown",
   "source": [
    "Applying $ε^† ≔ (1- χ_0 K)$ …"
   ],
   "metadata": {}
  },
  {
   "outputs": [],
   "cell_type": "code",
   "source": [
    "function eps_fun(δρ)\n",
    "    δV = apply_kernel(basis, δρ; ρ=scfres.ρ)\n",
    "    χ0δV = apply_χ0(scfres, δV)\n",
    "    δρ - χ0δV\n",
    "end;"
   ],
   "metadata": {},
   "execution_count": 2
  },
  {
   "cell_type": "markdown",
   "source": [
    "… eagerly diagonalizes the subspace matrix at each iteration"
   ],
   "metadata": {}
  },
  {
   "outputs": [
    {
     "name": "stdout",
     "output_type": "stream",
     "text": [
      "[ Info: Arnoldi iteration step 1: normres = 0.05951742143298765\n",
      "[ Info: Arnoldi iteration step 2: normres = 0.6410804622893896\n",
      "[ Info: Arnoldi iteration step 3: normres = 0.7934831220143665\n",
      "[ Info: Arnoldi iteration step 4: normres = 0.31589298430052826\n",
      "[ Info: Arnoldi iteration step 5: normres = 0.39049625672049504\n",
      "[ Info: Arnoldi schursolve in iter 1, krylovdim = 5: 0 values converged, normres = (3.61e-02, 6.38e-02, 1.89e-01, 3.33e-01, 2.94e-02)\n",
      "[ Info: Arnoldi iteration step 6: normres = 0.3499137578130887\n",
      "[ Info: Arnoldi schursolve in iter 1, krylovdim = 6: 0 values converged, normres = (1.16e-02, 2.05e-01, 2.65e-01, 5.36e-02, 6.84e-02)\n",
      "[ Info: Arnoldi iteration step 7: normres = 0.08253068413224263\n",
      "[ Info: Arnoldi schursolve in iter 1, krylovdim = 7: 0 values converged, normres = (4.75e-04, 1.93e-02, 1.15e-02, 1.80e-02, 6.98e-02)\n",
      "[ Info: Arnoldi iteration step 8: normres = 0.10055147786340109\n",
      "[ Info: Arnoldi schursolve in iter 1, krylovdim = 8: 0 values converged, normres = (2.09e-05, 1.40e-03, 9.29e-04, 6.60e-03, 4.87e-02)\n",
      "[ Info: Arnoldi iteration step 9: normres = 0.08879411132818321\n",
      "[ Info: Arnoldi schursolve in iter 1, krylovdim = 9: 0 values converged, normres = (7.97e-07, 8.79e-05, 6.48e-05, 1.99e-03, 3.06e-02)\n",
      "[ Info: Arnoldi iteration step 10: normres = 0.07778585941943952\n",
      "[ Info: Arnoldi schursolve in iter 1, krylovdim = 10: 0 values converged, normres = (2.71e-08, 4.96e-06, 4.07e-06, 5.60e-04, 1.97e-02)\n",
      "[ Info: Arnoldi iteration step 11: normres = 0.06913267354419035\n",
      "[ Info: Arnoldi schursolve in iter 1, krylovdim = 11: 0 values converged, normres = (8.02e-10, 2.40e-07, 2.18e-07, 1.22e-04, 9.22e-03)\n",
      "[ Info: Arnoldi iteration step 12: normres = 0.08547123856045233\n",
      "[ Info: Arnoldi schursolve in iter 1, krylovdim = 12: 0 values converged, normres = (2.95e-11, 1.45e-08, 1.46e-08, 3.26e-05, 4.87e-03)\n",
      "[ Info: Arnoldi iteration step 13: normres = 0.15205536331421424\n",
      "[ Info: Arnoldi schursolve in iter 1, krylovdim = 13: 0 values converged, normres = (1.92e-12, 1.55e-09, 1.73e-09, 1.57e-05, 5.10e-03)\n",
      "[ Info: Arnoldi iteration step 14: normres = 0.301944021915149\n",
      "[ Info: Arnoldi schursolve in iter 1, krylovdim = 14: 1 values converged, normres = (5.33e-13, 2.66e-09, 1.51e-08, 2.98e-01, 4.10e-03)\n",
      "[ Info: Arnoldi iteration step 15: normres = 0.28320946953669673\n",
      "[ Info: Arnoldi schursolve in iter 1, krylovdim = 15: 1 values converged, normres = (6.81e-14, 8.77e-10, 6.34e-02, 5.07e-04, 2.56e-05)\n",
      "[ Info: Arnoldi iteration step 16: normres = 0.11555839046781965\n",
      "[ Info: Arnoldi schursolve in iter 1, krylovdim = 16: 1 values converged, normres = (8.09e-15, 8.83e-09, 9.52e-02, 2.02e-04, 6.15e-02)\n",
      "[ Info: Arnoldi iteration step 17: normres = 0.030594486621808057\n",
      "[ Info: Arnoldi schursolve in iter 1, krylovdim = 17: 1 values converged, normres = (1.04e-16, 9.99e-04, 1.71e-03, 1.56e-07, 1.33e-03)\n",
      "[ Info: Arnoldi iteration step 18: normres = 0.024377068078291392\n",
      "[ Info: Arnoldi schursolve in iter 1, krylovdim = 18: 1 values converged, normres = (1.05e-18, 2.07e-05, 2.45e-05, 5.61e-07, 2.37e-05)\n",
      "[ Info: Arnoldi iteration step 19: normres = 0.21918444932171727\n",
      "[ Info: Arnoldi schursolve in iter 1, krylovdim = 19: 1 values converged, normres = (1.06e-19, 2.85e-07, 5.51e-06, 2.97e-07, 4.58e-06)\n",
      "[ Info: Arnoldi iteration step 20: normres = 0.04862187672237496\n",
      "[ Info: Arnoldi schursolve in iter 1, krylovdim = 20: 1 values converged, normres = (2.31e-21, 6.98e-08, 1.94e-07, 9.63e-08, 1.67e-07)\n",
      "[ Info: Arnoldi iteration step 21: normres = 0.020908311282224444\n",
      "[ Info: Arnoldi schursolve in iter 1, krylovdim = 21: 1 values converged, normres = (2.01e-23, 2.06e-09, 2.01e-09, 9.00e-10, 2.82e-09)\n",
      "[ Info: Arnoldi iteration step 22: normres = 0.4435896862560921\n",
      "[ Info: Arnoldi schursolve in iter 1, krylovdim = 22: 1 values converged, normres = (3.87e-24, 6.21e-10, 6.71e-10, 3.19e-10, 9.97e-10)\n",
      "[ Info: Arnoldi iteration step 23: normres = 0.04490497966249122\n",
      "[ Info: Arnoldi schursolve in iter 1, krylovdim = 23: 1 values converged, normres = (1.57e-25, 1.80e-10, 1.94e-10, 6.45e-09, 1.98e-08)\n",
      "[ Info: Arnoldi iteration step 24: normres = 0.015593878923485342\n",
      "[ Info: Arnoldi schursolve in iter 1, krylovdim = 24: 1 values converged, normres = (1.00e-27, 1.85e-12, 1.99e-12, 4.32e-09, 1.35e-08)\n",
      "[ Info: Arnoldi iteration step 25: normres = 0.06963345784353084\n",
      "[ Info: Arnoldi schursolve in iter 1, krylovdim = 25: 3 values converged, normres = (2.87e-29, 8.48e-14, 9.10e-14, 2.02e-05, 1.09e-05)\n",
      "[ Info: Arnoldi iteration step 26: normres = 0.055351929815241084\n",
      "[ Info: Arnoldi schursolve in iter 1, krylovdim = 26: 3 values converged, normres = (7.16e-31, 3.58e-15, 3.84e-15, 7.74e-09, 2.77e-08)\n",
      "[ Info: Arnoldi iteration step 27: normres = 0.025740518760766874\n",
      "[ Info: Arnoldi schursolve in iter 1, krylovdim = 27: 3 values converged, normres = (7.58e-33, 6.05e-17, 6.49e-17, 8.11e-09, 1.70e-08)\n",
      "[ Info: Arnoldi iteration step 28: normres = 0.10629398036775269\n",
      "[ Info: Arnoldi schursolve in iter 1, krylovdim = 28: 3 values converged, normres = (3.48e-34, 4.57e-18, 4.90e-18, 4.07e-10, 1.65e-09)\n",
      "[ Info: Arnoldi iteration step 29: normres = 0.11987078638628912\n",
      "[ Info: Arnoldi schursolve in iter 1, krylovdim = 29: 3 values converged, normres = (1.81e-35, 3.92e-19, 4.20e-19, 3.82e-11, 1.58e-10)\n",
      "[ Info: Arnoldi iteration step 30: normres = 0.048951099951785676\n",
      "[ Info: Arnoldi schursolve in iter 1, krylovdim = 30: 3 values converged, normres = (4.45e-37, 1.69e-20, 1.82e-20, 1.89e-12, 7.77e-12)\n",
      "[ Info: Arnoldi schursolve in iter 2, krylovdim = 19: 3 values converged, normres = (4.62e-37, 1.69e-20, 1.82e-20, 1.89e-12, 7.77e-12)\n",
      "[ Info: Arnoldi iteration step 20: normres = 0.05949607548348788\n",
      "┌ Info: Arnoldi eigsolve finished after 2 iterations:\n",
      "│ *  6 eigenvalues converged\n",
      "│ *  norm of residuals = (1.0957472789905122e-38, 6.676677745166323e-22, 7.3712845937682e-22, 8.206218706765275e-14, 3.3700489211266285e-13, 9.114676914486079e-14)\n",
      "└ *  number of operations = 31\n"
     ]
    }
   ],
   "cell_type": "code",
   "source": [
    "eigsolve(eps_fun, randn(size(scfres.ρ)), 5, :LM; eager=true, verbosity=3);"
   ],
   "metadata": {},
   "execution_count": 3
  }
 ],
 "nbformat_minor": 3,
 "metadata": {
  "language_info": {
   "file_extension": ".jl",
   "mimetype": "application/julia",
   "name": "julia",
   "version": "1.8.2"
  },
  "kernelspec": {
   "name": "julia-1.8",
   "display_name": "Julia 1.8.2",
   "language": "julia"
  }
 },
 "nbformat": 4
}
