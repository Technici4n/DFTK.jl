{
 "cells": [
  {
   "cell_type": "markdown",
   "source": [
    "# Eigenvalues of the dielectric matrix\n",
    "\n",
    "We compute a few eigenvalues of the dielectric matrix ($q=0$, $ω=0$) iteratively."
   ],
   "metadata": {}
  },
  {
   "outputs": [
    {
     "name": "stdout",
     "output_type": "stream",
     "text": [
      "n     Energy            log10(ΔE)   log10(Δρ)   Diag\n",
      "---   ---------------   ---------   ---------   ----\n",
      "  1   -7.234722159584                   -0.50    7.0\n",
      "  2   -7.250167355596       -1.81       -1.39    1.0\n",
      "  3   -7.251261156371       -2.96       -2.04    3.0\n",
      "  4   -7.251154301641   +   -3.97       -2.02    4.0\n",
      "  5   -7.251326593294       -3.76       -2.61    4.0\n",
      "  6   -7.251337338147       -4.97       -3.02    3.0\n",
      "  7   -7.251338765163       -5.85       -3.97    2.0\n",
      "  8   -7.251338789058       -7.62       -4.06    4.0\n",
      "  9   -7.251338797722       -8.06       -4.50    2.0\n",
      " 10   -7.251338798043       -9.49       -4.63    1.0\n",
      " 11   -7.251338798701       -9.18       -5.63    3.0\n",
      " 12   -7.251338798704      -11.44       -5.96    2.0\n",
      " 13   -7.251338798704   +  -12.77       -6.15    1.0\n",
      " 14   -7.251338798704      -12.54       -6.58    1.0\n",
      " 15   -7.251338798705      -13.19       -7.30    3.0\n",
      " 16   -7.251338798705      -14.57       -7.60    2.0\n"
     ]
    }
   ],
   "cell_type": "code",
   "source": [
    "using DFTK\n",
    "using Plots\n",
    "using KrylovKit\n",
    "using Printf\n",
    "\n",
    "# Calculation parameters\n",
    "kgrid = [1, 1, 1]\n",
    "Ecut = 5\n",
    "\n",
    "# Silicon lattice\n",
    "a = 10.26\n",
    "lattice = a / 2 .* [[0 1 1.]; [1 0 1.]; [1 1 0.]]\n",
    "Si = ElementPsp(:Si, psp=load_psp(\"hgh/lda/Si-q4\"))\n",
    "atoms     = [Si, Si]\n",
    "positions = [ones(3)/8, -ones(3)/8]\n",
    "\n",
    "# Compute the dielectric operator without symmetries\n",
    "model = model_LDA(lattice, atoms, positions, symmetries=false)\n",
    "basis = PlaneWaveBasis(model; Ecut, kgrid)\n",
    "scfres = self_consistent_field(basis, tol=1e-14);"
   ],
   "metadata": {},
   "execution_count": 1
  },
  {
   "cell_type": "markdown",
   "source": [
    "Applying $ε^† ≔ (1- χ_0 K)$ …"
   ],
   "metadata": {}
  },
  {
   "outputs": [],
   "cell_type": "code",
   "source": [
    "function eps_fun(δρ)\n",
    "    δV = apply_kernel(basis, δρ; ρ=scfres.ρ)\n",
    "    χ0δV = apply_χ0(scfres, δV)\n",
    "    δρ - χ0δV\n",
    "end;"
   ],
   "metadata": {},
   "execution_count": 2
  },
  {
   "cell_type": "markdown",
   "source": [
    "… eagerly diagonalizes the subspace matrix at each iteration"
   ],
   "metadata": {}
  },
  {
   "outputs": [
    {
     "name": "stdout",
     "output_type": "stream",
     "text": [
      "[ Info: Arnoldi iteration step 1: normres = 0.06191881547588871\n",
      "[ Info: Arnoldi iteration step 2: normres = 0.6879546438803961\n",
      "[ Info: Arnoldi iteration step 3: normres = 0.7225037762415915\n",
      "[ Info: Arnoldi iteration step 4: normres = 0.28602640883011976\n",
      "[ Info: Arnoldi iteration step 5: normres = 0.2977348973059923\n",
      "[ Info: Arnoldi schursolve in iter 1, krylovdim = 5: 0 values converged, normres = (1.16e-02, 5.29e-02, 2.20e-01, 1.91e-01, 3.15e-02)\n",
      "[ Info: Arnoldi iteration step 6: normres = 0.4691845146076329\n",
      "[ Info: Arnoldi schursolve in iter 1, krylovdim = 6: 0 values converged, normres = (4.72e-03, 1.87e-01, 4.06e-01, 9.86e-02, 4.63e-02)\n",
      "[ Info: Arnoldi iteration step 7: normres = 0.09410062709159353\n",
      "[ Info: Arnoldi schursolve in iter 1, krylovdim = 7: 0 values converged, normres = (2.41e-04, 3.28e-02, 1.43e-02, 3.65e-02, 7.06e-02)\n",
      "[ Info: Arnoldi iteration step 8: normres = 0.12124274939988207\n",
      "[ Info: Arnoldi schursolve in iter 1, krylovdim = 8: 0 values converged, normres = (1.26e-05, 2.81e-03, 1.36e-03, 1.41e-02, 5.67e-02)\n",
      "[ Info: Arnoldi iteration step 9: normres = 0.06621055030442927\n",
      "[ Info: Arnoldi schursolve in iter 1, krylovdim = 9: 0 values converged, normres = (3.64e-07, 1.35e-04, 7.29e-05, 3.61e-03, 3.50e-02)\n",
      "[ Info: Arnoldi iteration step 10: normres = 0.09147274824738628\n",
      "[ Info: Arnoldi schursolve in iter 1, krylovdim = 10: 0 values converged, normres = (1.45e-08, 8.89e-06, 5.34e-06, 1.18e-03, 2.35e-02)\n",
      "[ Info: Arnoldi iteration step 11: normres = 0.07733748003992962\n",
      "[ Info: Arnoldi schursolve in iter 1, krylovdim = 11: 0 values converged, normres = (4.88e-10, 4.93e-07, 3.29e-07, 3.16e-04, 1.45e-02)\n",
      "[ Info: Arnoldi iteration step 12: normres = 0.07340929626580313\n",
      "[ Info: Arnoldi schursolve in iter 1, krylovdim = 12: 0 values converged, normres = (1.53e-11, 2.53e-08, 1.87e-08, 7.03e-05, 6.71e-03)\n",
      "[ Info: Arnoldi iteration step 13: normres = 0.06137131708517362\n",
      "[ Info: Arnoldi schursolve in iter 1, krylovdim = 13: 1 values converged, normres = (4.02e-13, 1.09e-09, 8.92e-10, 1.34e-05, 2.57e-03)\n",
      "[ Info: Arnoldi iteration step 14: normres = 0.6030658870386905\n",
      "[ Info: Arnoldi schursolve in iter 1, krylovdim = 14: 1 values converged, normres = (1.87e-13, 1.69e-09, 2.18e-09, 5.97e-01, 3.63e-03)\n",
      "[ Info: Arnoldi iteration step 15: normres = 0.11317695203822657\n",
      "[ Info: Arnoldi schursolve in iter 1, krylovdim = 15: 1 values converged, normres = (1.10e-14, 4.16e-10, 5.28e-02, 3.77e-04, 4.24e-06)\n",
      "[ Info: Arnoldi iteration step 16: normres = 0.28446101148007646\n",
      "[ Info: Arnoldi schursolve in iter 1, krylovdim = 16: 1 values converged, normres = (3.19e-15, 2.39e-09, 2.26e-01, 1.15e-03, 1.72e-01)\n",
      "[ Info: Arnoldi iteration step 17: normres = 0.03634330040543802\n",
      "[ Info: Arnoldi schursolve in iter 1, krylovdim = 17: 1 values converged, normres = (5.10e-17, 1.24e-08, 6.41e-03, 1.19e-04, 3.14e-03)\n",
      "[ Info: Arnoldi iteration step 18: normres = 0.019123625373586722\n",
      "[ Info: Arnoldi schursolve in iter 1, krylovdim = 18: 1 values converged, normres = (4.05e-19, 5.91e-05, 5.59e-05, 1.90e-07, 4.39e-05)\n",
      "[ Info: Arnoldi iteration step 19: normres = 0.21608266771025317\n",
      "[ Info: Arnoldi schursolve in iter 1, krylovdim = 19: 1 values converged, normres = (3.79e-20, 3.86e-08, 1.26e-05, 1.57e-06, 7.38e-06)\n",
      "[ Info: Arnoldi iteration step 20: normres = 0.04117711875570714\n",
      "[ Info: Arnoldi schursolve in iter 1, krylovdim = 20: 1 values converged, normres = (7.39e-22, 2.46e-08, 4.33e-07, 1.91e-08, 2.95e-07)\n",
      "[ Info: Arnoldi iteration step 21: normres = 0.03162346259145868\n",
      "[ Info: Arnoldi schursolve in iter 1, krylovdim = 21: 1 values converged, normres = (9.67e-24, 8.47e-09, 3.26e-09, 6.46e-09, 2.17e-09)\n",
      "[ Info: Arnoldi iteration step 22: normres = 0.23653230765963937\n",
      "[ Info: Arnoldi schursolve in iter 1, krylovdim = 22: 1 values converged, normres = (9.62e-25, 1.36e-09, 5.25e-10, 1.17e-09, 2.99e-10)\n",
      "[ Info: Arnoldi iteration step 23: normres = 0.09874932012782141\n",
      "[ Info: Arnoldi schursolve in iter 1, krylovdim = 23: 1 values converged, normres = (8.86e-26, 9.08e-10, 3.10e-10, 1.45e-08, 1.19e-08)\n",
      "[ Info: Arnoldi iteration step 24: normres = 0.014848339529891829\n",
      "[ Info: Arnoldi schursolve in iter 1, krylovdim = 24: 1 values converged, normres = (5.42e-28, 9.06e-12, 3.45e-12, 3.34e-05, 2.68e-06)\n",
      "[ Info: Arnoldi iteration step 25: normres = 0.07758535274026865\n",
      "[ Info: Arnoldi schursolve in iter 1, krylovdim = 25: 3 values converged, normres = (1.74e-29, 4.65e-13, 1.77e-13, 9.62e-08, 9.14e-07)\n",
      "[ Info: Arnoldi iteration step 26: normres = 0.050203446208794834\n",
      "[ Info: Arnoldi schursolve in iter 1, krylovdim = 26: 3 values converged, normres = (3.93e-31, 1.77e-14, 6.75e-15, 8.75e-08, 1.19e-07)\n",
      "[ Info: Arnoldi iteration step 27: normres = 0.0484597579522389\n",
      "[ Info: Arnoldi schursolve in iter 1, krylovdim = 27: 3 values converged, normres = (7.84e-33, 5.66e-16, 2.15e-16, 8.68e-08, 1.07e-08)\n",
      "[ Info: Arnoldi iteration step 28: normres = 0.059071636535734745\n",
      "[ Info: Arnoldi schursolve in iter 1, krylovdim = 28: 3 values converged, normres = (2.05e-34, 2.46e-17, 9.37e-18, 3.73e-09, 1.30e-09)\n",
      "[ Info: Arnoldi iteration step 29: normres = 0.12177589998903086\n",
      "[ Info: Arnoldi schursolve in iter 1, krylovdim = 29: 3 values converged, normres = (1.05e-35, 2.03e-18, 7.74e-19, 3.18e-10, 1.63e-10)\n",
      "[ Info: Arnoldi iteration step 30: normres = 0.04245904310297068\n",
      "[ Info: Arnoldi schursolve in iter 1, krylovdim = 30: 3 values converged, normres = (2.19e-37, 7.73e-20, 2.94e-20, 1.38e-11, 7.07e-12)\n",
      "[ Info: Arnoldi schursolve in iter 2, krylovdim = 19: 3 values converged, normres = (2.27e-37, 7.73e-20, 2.94e-20, 1.38e-11, 7.07e-12)\n",
      "[ Info: Arnoldi iteration step 20: normres = 0.020704760589566017\n",
      "┌ Info: Arnoldi eigsolve finished after 2 iterations:\n",
      "│ *  6 eigenvalues converged\n",
      "│ *  norm of residuals = (1.8652417350776136e-39, 1.048736366646099e-21, 4.70977635578983e-22, 2.0671654530935642e-13, 1.3352184583265936e-13, 8.206824989316029e-14)\n",
      "└ *  number of operations = 31\n"
     ]
    }
   ],
   "cell_type": "code",
   "source": [
    "eigsolve(eps_fun, randn(size(scfres.ρ)), 5, :LM; eager=true, verbosity=3);"
   ],
   "metadata": {},
   "execution_count": 3
  }
 ],
 "nbformat_minor": 3,
 "metadata": {
  "language_info": {
   "file_extension": ".jl",
   "mimetype": "application/julia",
   "name": "julia",
   "version": "1.8.2"
  },
  "kernelspec": {
   "name": "julia-1.8",
   "display_name": "Julia 1.8.2",
   "language": "julia"
  }
 },
 "nbformat": 4
}
