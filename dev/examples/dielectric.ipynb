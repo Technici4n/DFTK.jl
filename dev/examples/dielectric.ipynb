{
 "cells": [
  {
   "cell_type": "markdown",
   "source": [
    "# Eigenvalues of the dielectric matrix\n",
    "\n",
    "We compute a few eigenvalues of the dielectric matrix ($q=0$, $ω=0$) iteratively."
   ],
   "metadata": {}
  },
  {
   "outputs": [
    {
     "name": "stdout",
     "output_type": "stream",
     "text": [
      "n     Energy            log10(ΔE)   log10(Δρ)   Diag   Δtime\n",
      "---   ---------------   ---------   ---------   ----   ------\n",
      "  1   -7.235150063740                   -0.50    8.0         \n",
      "  2   -7.250229469694       -1.82       -1.40    1.0   7.95ms\n",
      "  3   -7.251161674284       -3.03       -2.20    1.0   8.10ms\n",
      "  4   -7.251273675662       -3.95       -2.20    2.0   10.4ms\n",
      "  5   -7.251332804028       -4.23       -2.66    1.0   8.46ms\n",
      "  6   -7.251337879562       -5.29       -3.12    1.0   8.42ms\n",
      "  7   -7.251338747177       -6.06       -3.73    2.0   9.72ms\n",
      "  8   -7.251338788784       -7.38       -4.00    2.0   10.1ms\n",
      "  9   -7.251338796576       -8.11       -4.37    1.0   8.55ms\n",
      " 10   -7.251338798029       -8.84       -4.62    2.0   83.0ms\n",
      " 11   -7.251338798606       -9.24       -5.10    1.0   9.29ms\n",
      " 12   -7.251338798694      -10.06       -5.47    2.0   10.3ms\n",
      " 13   -7.251338798701      -11.13       -5.75    1.0   8.43ms\n",
      " 14   -7.251338798704      -11.58       -6.27    2.0   9.55ms\n",
      " 15   -7.251338798705      -12.20       -6.83    2.0   10.1ms\n",
      " 16   -7.251338798705      -13.67       -7.11    2.0   9.81ms\n",
      " 17   -7.251338798705      -14.45       -7.72    1.0   8.48ms\n",
      " 18   -7.251338798705   +    -Inf       -7.93    2.0   10.4ms\n",
      " 19   -7.251338798705   +  -14.75       -8.36    1.0   8.33ms\n"
     ]
    }
   ],
   "cell_type": "code",
   "source": [
    "using DFTK\n",
    "using Plots\n",
    "using KrylovKit\n",
    "using Printf\n",
    "\n",
    "# Calculation parameters\n",
    "kgrid = [1, 1, 1]\n",
    "Ecut = 5\n",
    "\n",
    "# Silicon lattice\n",
    "a = 10.26\n",
    "lattice = a / 2 .* [[0 1 1.]; [1 0 1.]; [1 1 0.]]\n",
    "Si = ElementPsp(:Si, psp=load_psp(\"hgh/lda/Si-q4\"))\n",
    "atoms     = [Si, Si]\n",
    "positions = [ones(3)/8, -ones(3)/8]\n",
    "\n",
    "# Compute the dielectric operator without symmetries\n",
    "model  = model_LDA(lattice, atoms, positions, symmetries=false)\n",
    "basis  = PlaneWaveBasis(model; Ecut, kgrid)\n",
    "scfres = self_consistent_field(basis, tol=1e-8);"
   ],
   "metadata": {},
   "execution_count": 1
  },
  {
   "cell_type": "markdown",
   "source": [
    "Applying $ε^† ≔ (1- χ_0 K)$ …"
   ],
   "metadata": {}
  },
  {
   "outputs": [],
   "cell_type": "code",
   "source": [
    "function eps_fun(δρ)\n",
    "    δV = apply_kernel(basis, δρ; ρ=scfres.ρ)\n",
    "    χ0δV = apply_χ0(scfres, δV)\n",
    "    δρ - χ0δV\n",
    "end;"
   ],
   "metadata": {},
   "execution_count": 2
  },
  {
   "cell_type": "markdown",
   "source": [
    "… eagerly diagonalizes the subspace matrix at each iteration"
   ],
   "metadata": {}
  },
  {
   "outputs": [
    {
     "name": "stdout",
     "output_type": "stream",
     "text": [
      "[ Info: Arnoldi iteration step 1: normres = 0.048258649185405816\n",
      "[ Info: Arnoldi iteration step 2: normres = 0.6578353258841745\n",
      "[ Info: Arnoldi iteration step 3: normres = 0.8542113303682541\n",
      "[ Info: Arnoldi iteration step 4: normres = 0.3215092921019278\n",
      "[ Info: Arnoldi iteration step 5: normres = 0.3965467753158967\n",
      "[ Info: Arnoldi schursolve in iter 1, krylovdim = 5: 0 values converged, normres = (3.43e-02, 7.07e-02, 3.05e-01, 2.41e-01, 6.92e-03)\n",
      "[ Info: Arnoldi iteration step 6: normres = 0.3746127138809356\n",
      "[ Info: Arnoldi schursolve in iter 1, krylovdim = 6: 0 values converged, normres = (1.08e-02, 1.23e-01, 3.13e-01, 9.95e-02, 1.08e-01)\n",
      "[ Info: Arnoldi iteration step 7: normres = 0.0903156710122267\n",
      "[ Info: Arnoldi schursolve in iter 1, krylovdim = 7: 0 values converged, normres = (4.83e-04, 1.36e-02, 2.28e-02, 3.76e-02, 6.99e-02)\n",
      "[ Info: Arnoldi iteration step 8: normres = 0.09423146625252836\n",
      "[ Info: Arnoldi schursolve in iter 1, krylovdim = 8: 0 values converged, normres = (1.99e-05, 9.31e-04, 1.73e-03, 1.30e-02, 4.47e-02)\n",
      "[ Info: Arnoldi iteration step 9: normres = 0.10021698008088188\n",
      "[ Info: Arnoldi schursolve in iter 1, krylovdim = 9: 0 values converged, normres = (8.66e-07, 6.69e-05, 1.39e-04, 4.56e-03, 3.47e-02)\n",
      "[ Info: Arnoldi iteration step 10: normres = 0.08056475207497965\n",
      "[ Info: Arnoldi schursolve in iter 1, krylovdim = 10: 0 values converged, normres = (3.04e-08, 3.89e-06, 8.95e-06, 1.33e-03, 2.54e-02)\n",
      "[ Info: Arnoldi iteration step 11: normres = 0.04956973352208687\n",
      "[ Info: Arnoldi schursolve in iter 1, krylovdim = 11: 0 values converged, normres = (6.45e-10, 1.35e-07, 3.45e-07, 2.10e-04, 8.46e-03)\n",
      "[ Info: Arnoldi iteration step 12: normres = 0.09330406131773118\n",
      "[ Info: Arnoldi schursolve in iter 1, krylovdim = 12: 0 values converged, normres = (2.54e-11, 8.63e-09, 2.44e-08, 5.37e-05, 3.75e-03)\n",
      "[ Info: Arnoldi iteration step 13: normres = 0.037050356109206324\n",
      "[ Info: Arnoldi schursolve in iter 1, krylovdim = 13: 1 values converged, normres = (4.08e-13, 2.28e-10, 7.16e-10, 6.65e-06, 9.99e-04)\n",
      "[ Info: Arnoldi iteration step 14: normres = 0.6390596028996879\n",
      "[ Info: Arnoldi schursolve in iter 1, krylovdim = 14: 1 values converged, normres = (1.25e-13, 1.24e-10, 4.42e-10, 5.27e-05, 5.88e-01)\n",
      "[ Info: Arnoldi iteration step 15: normres = 0.08541216367023262\n",
      "[ Info: Arnoldi schursolve in iter 1, krylovdim = 15: 1 values converged, normres = (9.00e-15, 7.28e-11, 7.48e-02, 1.04e-03, 5.38e-05)\n",
      "[ Info: Arnoldi iteration step 16: normres = 0.7310057892248397\n",
      "[ Info: Arnoldi schursolve in iter 1, krylovdim = 16: 1 values converged, normres = (4.33e-15, 1.00e-10, 1.03e-01, 4.84e-03, 7.17e-01)\n",
      "[ Info: Arnoldi iteration step 17: normres = 0.03657851628347676\n",
      "[ Info: Arnoldi schursolve in iter 1, krylovdim = 17: 1 values converged, normres = (1.08e-16, 9.17e-10, 2.02e-02, 6.48e-03, 1.01e-02)\n",
      "[ Info: Arnoldi iteration step 18: normres = 0.020722127242223377\n",
      "[ Info: Arnoldi schursolve in iter 1, krylovdim = 18: 1 values converged, normres = (9.18e-19, 1.51e-09, 2.75e-04, 3.82e-05, 1.77e-04)\n",
      "[ Info: Arnoldi iteration step 19: normres = 0.05671300724882912\n",
      "[ Info: Arnoldi schursolve in iter 1, krylovdim = 19: 1 values converged, normres = (2.16e-20, 1.03e-05, 1.02e-06, 2.36e-08, 7.50e-06)\n",
      "[ Info: Arnoldi iteration step 20: normres = 0.21141172653893162\n",
      "[ Info: Arnoldi schursolve in iter 1, krylovdim = 20: 1 values converged, normres = (2.13e-21, 1.11e-09, 1.78e-06, 1.03e-06, 1.02e-06)\n",
      "[ Info: Arnoldi iteration step 21: normres = 0.025339823303165584\n",
      "[ Info: Arnoldi schursolve in iter 1, krylovdim = 21: 1 values converged, normres = (2.39e-23, 2.78e-08, 1.88e-08, 5.45e-09, 3.02e-08)\n",
      "[ Info: Arnoldi iteration step 22: normres = 0.024632967438374304\n",
      "[ Info: Arnoldi schursolve in iter 1, krylovdim = 22: 1 values converged, normres = (2.42e-25, 3.21e-10, 4.34e-10, 3.15e-10, 4.43e-10)\n",
      "[ Info: Arnoldi iteration step 23: normres = 0.6612174342055509\n",
      "[ Info: Arnoldi schursolve in iter 1, krylovdim = 23: 1 values converged, normres = (1.05e-25, 3.23e-10, 4.80e-10, 4.42e-10, 6.11e-10)\n",
      "[ Info: Arnoldi iteration step 24: normres = 0.017994935228110118\n",
      "[ Info: Arnoldi schursolve in iter 1, krylovdim = 24: 1 values converged, normres = (1.12e-27, 1.75e-11, 2.43e-11, 1.29e-03, 1.20e-03)\n",
      "[ Info: Arnoldi iteration step 25: normres = 0.029590207927224783\n",
      "[ Info: Arnoldi schursolve in iter 1, krylovdim = 25: 3 values converged, normres = (1.36e-29, 3.35e-13, 4.69e-13, 9.13e-09, 2.46e-07)\n",
      "[ Info: Arnoldi iteration step 26: normres = 0.10825849196500954\n",
      "[ Info: Arnoldi schursolve in iter 1, krylovdim = 26: 3 values converged, normres = (6.53e-31, 2.68e-14, 3.76e-14, 4.32e-08, 8.94e-11)\n",
      "[ Info: Arnoldi iteration step 27: normres = 0.016616244195143768\n",
      "[ Info: Arnoldi schursolve in iter 1, krylovdim = 27: 3 values converged, normres = (4.58e-33, 3.05e-16, 4.27e-16, 1.77e-07, 1.43e-07)\n",
      "[ Info: Arnoldi iteration step 28: normres = 0.04198738419071163\n",
      "[ Info: Arnoldi schursolve in iter 1, krylovdim = 28: 3 values converged, normres = (7.89e-35, 8.39e-18, 1.17e-17, 5.25e-09, 4.06e-09)\n",
      "[ Info: Arnoldi iteration step 29: normres = 0.06760742682032868\n",
      "[ Info: Arnoldi schursolve in iter 1, krylovdim = 29: 3 values converged, normres = (2.36e-36, 4.18e-19, 5.85e-19, 3.67e-10, 2.00e-10)\n",
      "[ Info: Arnoldi iteration step 30: normres = 0.19262559579710953\n",
      "[ Info: Arnoldi schursolve in iter 1, krylovdim = 30: 3 values converged, normres = (1.98e-37, 5.81e-20, 8.13e-20, 5.72e-11, 3.00e-11)\n",
      "[ Info: Arnoldi schursolve in iter 2, krylovdim = 19: 3 values converged, normres = (1.98e-37, 5.81e-20, 8.13e-20, 5.72e-11, 3.00e-11)\n",
      "[ Info: Arnoldi iteration step 20: normres = 0.06024750526397298\n",
      "[ Info: Arnoldi schursolve in iter 2, krylovdim = 20: 3 values converged, normres = (5.65e-39, 2.92e-21, 4.08e-21, 3.26e-12, 1.71e-12)\n",
      "[ Info: Arnoldi iteration step 21: normres = 0.07549745605713375\n",
      "┌ Info: Arnoldi eigsolve finished after 2 iterations:\n",
      "│ *  6 eigenvalues converged\n",
      "│ *  norm of residuals = (1.8260540385803375e-40, 1.5491761720549405e-22, 7.400889585817161e-23, 1.9197490138556662e-13, 1.4267686596452746e-13, 6.680263031401699e-14)\n",
      "└ *  number of operations = 32\n"
     ]
    }
   ],
   "cell_type": "code",
   "source": [
    "eigsolve(eps_fun, randn(size(scfres.ρ)), 5, :LM; eager=true, verbosity=3);"
   ],
   "metadata": {},
   "execution_count": 3
  }
 ],
 "nbformat_minor": 3,
 "metadata": {
  "language_info": {
   "file_extension": ".jl",
   "mimetype": "application/julia",
   "name": "julia",
   "version": "1.9.2"
  },
  "kernelspec": {
   "name": "julia-1.9",
   "display_name": "Julia 1.9.2",
   "language": "julia"
  }
 },
 "nbformat": 4
}
