{
 "cells": [
  {
   "cell_type": "markdown",
   "source": [
    "# Comparison of DFT solvers"
   ],
   "metadata": {}
  },
  {
   "cell_type": "markdown",
   "source": [
    "We compare four different approaches for solving the DFT minimisation problem,\n",
    "namely a density-based SCF, a potential-based SCF, direct minimisation and Newton."
   ],
   "metadata": {}
  },
  {
   "cell_type": "markdown",
   "source": [
    "First we setup our problem"
   ],
   "metadata": {}
  },
  {
   "outputs": [],
   "cell_type": "code",
   "source": [
    "using DFTK\n",
    "using LinearAlgebra\n",
    "\n",
    "a = 10.26  # Silicon lattice constant in Bohr\n",
    "lattice = a / 2 * [[0 1 1.];\n",
    "                   [1 0 1.];\n",
    "                   [1 1 0.]]\n",
    "Si = ElementPsp(:Si, psp=load_psp(\"hgh/lda/Si-q4\"))\n",
    "atoms     = [Si, Si]\n",
    "positions = [ones(3)/8, -ones(3)/8]\n",
    "\n",
    "model = model_LDA(lattice, atoms, positions)\n",
    "basis = PlaneWaveBasis(model; Ecut=5, kgrid=[3, 3, 3])\n",
    "\n",
    "# Convergence we desire\n",
    "tol = 1e-12\n",
    "is_converged = DFTK.ScfConvergenceDensity(tol);"
   ],
   "metadata": {},
   "execution_count": 1
  },
  {
   "cell_type": "markdown",
   "source": [
    "## Density-based self-consistent field"
   ],
   "metadata": {}
  },
  {
   "outputs": [
    {
     "name": "stdout",
     "output_type": "stream",
     "text": [
      "n     Energy            log10(ΔE)   log10(Δρ)   Diag\n",
      "---   ---------------   ---------   ---------   ----\n",
      "  1   -7.846781746598                   -0.70    4.5\n",
      "  2   -7.852305779154       -2.26       -1.53    1.0\n",
      "  3   -7.852646187906       -3.47       -2.52    3.2\n",
      "  4   -7.852646677360       -6.31       -3.38    2.2\n",
      "  5   -7.852646686260       -8.05       -4.65    1.8\n",
      "  6   -7.852646686727       -9.33       -5.60    3.0\n",
      "  7   -7.852646686730      -11.59       -6.26    1.8\n",
      "  8   -7.852646686730      -13.09       -7.63    2.0\n",
      "  9   -7.852646686730      -14.75       -8.04    2.5\n",
      " 10   -7.852646686730   +    -Inf       -9.38    3.0\n",
      " 11   -7.852646686730      -14.75      -10.44    2.5\n",
      " 12   -7.852646686730   +  -14.75      -10.87    1.8\n",
      " 13   -7.852646686730   +  -15.05      -10.26    1.0\n",
      " 14   -7.852646686730      -15.05       -9.71    2.0\n",
      " 15   -7.852646686730   +  -14.57       -9.37    2.5\n",
      " 16   -7.852646686730      -14.57       -9.26    1.2\n",
      " 17   -7.852646686730   +  -15.05       -9.29    1.0\n",
      " 18   -7.852646686730   +  -15.05       -9.51    2.8\n",
      " 19   -7.852646686730      -14.45      -10.11    2.8\n",
      " 20   -7.852646686730   +  -14.57       -9.92    2.8\n",
      " 21   -7.852646686730      -15.05      -10.24    2.8\n",
      " 22   -7.852646686730   +    -Inf      -11.04    1.0\n",
      " 23   -7.852646686730   +  -14.75      -11.35    1.5\n",
      " 24   -7.852646686730      -14.75      -12.01    1.2\n"
     ]
    }
   ],
   "cell_type": "code",
   "source": [
    "scfres_scf = self_consistent_field(basis; is_converged);"
   ],
   "metadata": {},
   "execution_count": 2
  },
  {
   "cell_type": "markdown",
   "source": [
    "## Potential-based SCF"
   ],
   "metadata": {}
  },
  {
   "outputs": [
    {
     "name": "stdout",
     "output_type": "stream",
     "text": [
      "n     Energy            log10(ΔE)   log10(Δρ)   α      Diag\n",
      "---   ---------------   ---------   ---------   ----   ----\n",
      "  1   -7.846796792479                   -0.70           4.5\n",
      "  2   -7.852529498164       -2.24       -1.63   0.80    2.2\n",
      "  3   -7.852637137522       -3.97       -2.71   0.80    1.0\n",
      "  4   -7.852646549008       -5.03       -3.29   0.80    2.0\n",
      "  5   -7.852646678648       -6.89       -4.16   0.80    1.5\n",
      "  6   -7.852646686483       -8.11       -4.85   0.80    1.8\n",
      "  7   -7.852646686722       -9.62       -5.76   0.80    2.0\n",
      "  8   -7.852646686730      -11.11       -6.86   0.80    1.8\n",
      "  9   -7.852646686730      -12.94       -7.68   0.80    2.5\n",
      " 10   -7.852646686730   +    -Inf       -8.29   0.80    1.8\n",
      " 11   -7.852646686730      -15.05       -9.01   0.80    1.5\n",
      " 12   -7.852646686730   +  -15.05      -10.16   0.80    2.2\n",
      " 13   -7.852646686730      -14.75      -10.69   0.80    2.5\n",
      " 14   -7.852646686730   +  -14.75      -11.16   0.80    1.5\n",
      " 15   -7.852646686730   +    -Inf      -12.25   0.80    1.8\n"
     ]
    }
   ],
   "cell_type": "code",
   "source": [
    "scfres_scfv = DFTK.scf_potential_mixing(basis; is_converged);"
   ],
   "metadata": {},
   "execution_count": 3
  },
  {
   "cell_type": "markdown",
   "source": [
    "## Direct minimization"
   ],
   "metadata": {}
  },
  {
   "outputs": [
    {
     "name": "stdout",
     "output_type": "stream",
     "text": [
      "Iter     Function value   Gradient norm \n",
      "     0     1.379921e+01     2.926761e+00\n",
      " * time: 0.4574751853942871\n",
      "     1     1.494926e+00     1.863559e+00\n",
      " * time: 0.690040111541748\n",
      "     2    -1.365442e+00     2.265997e+00\n",
      " * time: 0.7180361747741699\n",
      "     3    -3.881186e+00     1.848818e+00\n",
      " * time: 0.7578921318054199\n",
      "     4    -5.117198e+00     1.666880e+00\n",
      " * time: 0.7979521751403809\n",
      "     5    -6.852429e+00     8.951877e-01\n",
      " * time: 0.8376140594482422\n",
      "     6    -6.875273e+00     1.102213e+00\n",
      " * time: 0.8653721809387207\n",
      "     7    -7.372344e+00     8.070090e-01\n",
      " * time: 0.8930351734161377\n",
      "     8    -7.405682e+00     8.554857e-01\n",
      " * time: 0.9210031032562256\n",
      "     9    -7.667032e+00     4.648194e-01\n",
      " * time: 0.9488570690155029\n",
      "    10    -7.744921e+00     2.644307e-01\n",
      " * time: 0.9765892028808594\n",
      "    11    -7.798751e+00     1.046200e-01\n",
      " * time: 1.0041592121124268\n",
      "    12    -7.842115e+00     7.256412e-02\n",
      " * time: 1.0324389934539795\n",
      "    13    -7.849709e+00     3.922563e-02\n",
      " * time: 1.0605010986328125\n",
      "    14    -7.851818e+00     1.892228e-02\n",
      " * time: 1.0879840850830078\n",
      "    15    -7.852355e+00     1.387934e-02\n",
      " * time: 1.1162121295928955\n",
      "    16    -7.852578e+00     8.394861e-03\n",
      " * time: 1.144043207168579\n",
      "    17    -7.852620e+00     4.891558e-03\n",
      " * time: 1.1719861030578613\n",
      "    18    -7.852636e+00     1.842397e-03\n",
      " * time: 1.2002251148223877\n",
      "    19    -7.852643e+00     1.009870e-03\n",
      " * time: 1.2281601428985596\n",
      "    20    -7.852645e+00     6.180429e-04\n",
      " * time: 1.2560410499572754\n",
      "    21    -7.852646e+00     5.325200e-04\n",
      " * time: 1.2842609882354736\n",
      "    22    -7.852647e+00     2.118581e-04\n",
      " * time: 1.3121840953826904\n",
      "    23    -7.852647e+00     1.183108e-04\n",
      " * time: 1.340313196182251\n",
      "    24    -7.852647e+00     6.015869e-05\n",
      " * time: 1.36863112449646\n",
      "    25    -7.852647e+00     3.166782e-05\n",
      " * time: 1.3967599868774414\n",
      "    26    -7.852647e+00     1.858251e-05\n",
      " * time: 1.425482988357544\n",
      "    27    -7.852647e+00     9.654361e-06\n",
      " * time: 1.453517198562622\n",
      "    28    -7.852647e+00     6.323216e-06\n",
      " * time: 1.4816300868988037\n",
      "    29    -7.852647e+00     4.043575e-06\n",
      " * time: 1.5097131729125977\n",
      "    30    -7.852647e+00     2.089130e-06\n",
      " * time: 1.5378990173339844\n",
      "    31    -7.852647e+00     1.164431e-06\n",
      " * time: 1.5668680667877197\n",
      "    32    -7.852647e+00     7.518743e-07\n",
      " * time: 1.5960969924926758\n",
      "    33    -7.852647e+00     4.397508e-07\n",
      " * time: 1.6252341270446777\n",
      "    34    -7.852647e+00     2.498139e-07\n",
      " * time: 1.653012990951538\n",
      "    35    -7.852647e+00     1.211090e-07\n",
      " * time: 1.6810832023620605\n",
      "    36    -7.852647e+00     7.703310e-08\n",
      " * time: 1.709238052368164\n",
      "    37    -7.852647e+00     4.866790e-08\n",
      " * time: 1.7375249862670898\n",
      "    38    -7.852647e+00     2.897043e-08\n",
      " * time: 1.76558518409729\n",
      "    39    -7.852647e+00     1.999808e-08\n",
      " * time: 1.805807113647461\n",
      "    40    -7.852647e+00     9.001636e-09\n",
      " * time: 1.9002420902252197\n"
     ]
    }
   ],
   "cell_type": "code",
   "source": [
    "scfres_dm = direct_minimization(basis; tol);"
   ],
   "metadata": {},
   "execution_count": 4
  },
  {
   "cell_type": "markdown",
   "source": [
    "## Newton algorithm"
   ],
   "metadata": {}
  },
  {
   "cell_type": "markdown",
   "source": [
    "Start not too far from the solution to ensure convergence:\n",
    "We run first a very crude SCF to get close and then switch to Newton."
   ],
   "metadata": {}
  },
  {
   "outputs": [
    {
     "name": "stdout",
     "output_type": "stream",
     "text": [
      "n     Energy            log10(ΔE)   log10(Δρ)   Diag\n",
      "---   ---------------   ---------   ---------   ----\n",
      "  1   -7.846888029639                   -0.70    4.5\n",
      "  2   -7.852326976629       -2.26       -1.53    1.0\n"
     ]
    }
   ],
   "cell_type": "code",
   "source": [
    "scfres_start = self_consistent_field(basis; tol=1e-1);"
   ],
   "metadata": {},
   "execution_count": 5
  },
  {
   "cell_type": "markdown",
   "source": [
    "Remove the virtual orbitals (which Newton cannot treat yet)"
   ],
   "metadata": {}
  },
  {
   "outputs": [
    {
     "name": "stdout",
     "output_type": "stream",
     "text": [
      "n     Energy            log10(ΔE)   log10(Δρ)\n",
      "---   ---------------   ---------   ---------\n",
      "  1   -7.852646686714                   -2.55\n",
      "  2   -7.852646686730      -10.81       -6.03\n",
      "  3   -7.852646686730   +    -Inf      -12.82\n"
     ]
    }
   ],
   "cell_type": "code",
   "source": [
    "ψ = DFTK.select_occupied_orbitals(basis, scfres_start.ψ, scfres_start.occupation).ψ\n",
    "scfres_newton = newton(basis, ψ; tol);"
   ],
   "metadata": {},
   "execution_count": 6
  },
  {
   "cell_type": "markdown",
   "source": [
    "## Comparison of results"
   ],
   "metadata": {}
  },
  {
   "outputs": [
    {
     "name": "stdout",
     "output_type": "stream",
     "text": [
      "|ρ_newton - ρ_scf|  = 9.155502641413414e-13\n",
      "|ρ_newton - ρ_scfv| = 1.302996343344456e-13\n",
      "|ρ_newton - ρ_dm|   = 1.1964223068345413e-9\n"
     ]
    }
   ],
   "cell_type": "code",
   "source": [
    "println(\"|ρ_newton - ρ_scf|  = \", norm(scfres_newton.ρ - scfres_scf.ρ))\n",
    "println(\"|ρ_newton - ρ_scfv| = \", norm(scfres_newton.ρ - scfres_scfv.ρ))\n",
    "println(\"|ρ_newton - ρ_dm|   = \", norm(scfres_newton.ρ - scfres_dm.ρ))"
   ],
   "metadata": {},
   "execution_count": 7
  }
 ],
 "nbformat_minor": 3,
 "metadata": {
  "language_info": {
   "file_extension": ".jl",
   "mimetype": "application/julia",
   "name": "julia",
   "version": "1.8.2"
  },
  "kernelspec": {
   "name": "julia-1.8",
   "display_name": "Julia 1.8.2",
   "language": "julia"
  }
 },
 "nbformat": 4
}
