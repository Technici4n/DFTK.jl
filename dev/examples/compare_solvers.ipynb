{
 "cells": [
  {
   "cell_type": "markdown",
   "source": [
    "# Comparison of DFT solvers"
   ],
   "metadata": {}
  },
  {
   "cell_type": "markdown",
   "source": [
    "We compare four different approaches for solving the DFT minimisation problem,\n",
    "namely a density-based SCF, a potential-based SCF, direct minimisation and Newton."
   ],
   "metadata": {}
  },
  {
   "cell_type": "markdown",
   "source": [
    "First we setup our problem"
   ],
   "metadata": {}
  },
  {
   "outputs": [],
   "cell_type": "code",
   "source": [
    "using DFTK\n",
    "using LinearAlgebra\n",
    "\n",
    "a = 10.26  # Silicon lattice constant in Bohr\n",
    "lattice = a / 2 * [[0 1 1.];\n",
    "                   [1 0 1.];\n",
    "                   [1 1 0.]]\n",
    "Si = ElementPsp(:Si, psp=load_psp(\"hgh/lda/Si-q4\"))\n",
    "atoms     = [Si, Si]\n",
    "positions = [ones(3)/8, -ones(3)/8]\n",
    "\n",
    "model = model_LDA(lattice, atoms, positions)\n",
    "basis = PlaneWaveBasis(model; Ecut=5, kgrid=[3, 3, 3])\n",
    "\n",
    "# Convergence we desire\n",
    "tol = 1e-12\n",
    "is_converged = DFTK.ScfConvergenceDensity(tol);"
   ],
   "metadata": {},
   "execution_count": 1
  },
  {
   "cell_type": "markdown",
   "source": [
    "## Density-based self-consistent field"
   ],
   "metadata": {}
  },
  {
   "outputs": [
    {
     "name": "stdout",
     "output_type": "stream",
     "text": [
      "n     Energy            log10(ΔE)   log10(Δρ)   Diag\n",
      "---   ---------------   ---------   ---------   ----\n",
      "  1   -7.846790407483                   -0.70    4.2\n",
      "  2   -7.852298977710       -2.26       -1.53    1.0\n",
      "  3   -7.852646200697       -3.46       -2.52    3.2\n",
      "  4   -7.852646677492       -6.32       -3.38    2.2\n",
      "  5   -7.852646686128       -8.06       -4.65    1.2\n",
      "  6   -7.852646686727       -9.22       -5.48    3.0\n",
      "  7   -7.852646686730      -11.57       -6.23    1.2\n",
      "  8   -7.852646686730      -12.86       -7.59    2.0\n",
      "  9   -7.852646686730      -14.75       -7.77    3.0\n",
      " 10   -7.852646686730   +    -Inf       -8.56    2.0\n",
      " 11   -7.852646686730   +  -14.75       -9.22    2.0\n",
      " 12   -7.852646686730   +  -14.75      -10.37    2.8\n",
      " 13   -7.852646686730      -14.57      -11.35    2.8\n",
      " 14   -7.852646686730   +    -Inf      -12.11    3.2\n"
     ]
    }
   ],
   "cell_type": "code",
   "source": [
    "scfres_scf = self_consistent_field(basis; is_converged);"
   ],
   "metadata": {},
   "execution_count": 2
  },
  {
   "cell_type": "markdown",
   "source": [
    "## Potential-based SCF"
   ],
   "metadata": {}
  },
  {
   "outputs": [
    {
     "name": "stdout",
     "output_type": "stream",
     "text": [
      "n     Energy            log10(ΔE)   log10(Δρ)   α      Diag\n",
      "---   ---------------   ---------   ---------   ----   ----\n",
      "  1   -7.846804771311                   -0.70           4.5\n",
      "  2   -7.852526920500       -2.24       -1.63   0.80    2.2\n",
      "  3   -7.852637353521       -3.96       -2.71   0.80    1.0\n",
      "  4   -7.852646456413       -5.04       -3.29   0.80    2.0\n",
      "  5   -7.852646674711       -6.66       -4.14   0.80    1.8\n",
      "  6   -7.852646686349       -7.93       -4.81   0.80    1.5\n",
      "  7   -7.852646686725       -9.43       -5.61   0.80    2.0\n",
      "  8   -7.852646686730      -11.32       -6.67   0.80    1.5\n",
      "  9   -7.852646686730      -12.54       -7.38   0.80    2.5\n",
      " 10   -7.852646686730      -14.45       -8.18   0.80    1.5\n",
      " 11   -7.852646686730   +  -14.75       -9.09   0.80    1.8\n",
      " 12   -7.852646686730      -14.75       -9.57   0.80    2.5\n",
      " 13   -7.852646686730   +  -14.75      -10.63   0.80    1.2\n",
      " 14   -7.852646686730      -14.45      -11.82   0.80    2.2\n",
      " 15   -7.852646686730   +  -14.75      -12.60   0.80    2.5\n"
     ]
    }
   ],
   "cell_type": "code",
   "source": [
    "scfres_scfv = DFTK.scf_potential_mixing(basis; is_converged);"
   ],
   "metadata": {},
   "execution_count": 3
  },
  {
   "cell_type": "markdown",
   "source": [
    "## Direct minimization"
   ],
   "metadata": {}
  },
  {
   "outputs": [
    {
     "name": "stdout",
     "output_type": "stream",
     "text": [
      "Iter     Function value   Gradient norm \n",
      "     0     1.394313e+01     3.408703e+00\n",
      " * time: 0.5118119716644287\n",
      "     1     1.409176e+00     2.077444e+00\n",
      " * time: 0.7786960601806641\n",
      "     2    -1.710051e+00     2.525937e+00\n",
      " * time: 0.8137130737304688\n",
      "     3    -3.816168e+00     2.043623e+00\n",
      " * time: 0.8658711910247803\n",
      "     4    -5.230322e+00     1.817269e+00\n",
      " * time: 0.9186639785766602\n",
      "     5    -6.840058e+00     1.113156e+00\n",
      " * time: 0.9736931324005127\n",
      "     6    -7.460580e+00     5.194075e-01\n",
      " * time: 1.0247859954833984\n",
      "     7    -7.681192e+00     2.469104e-01\n",
      " * time: 1.061225175857544\n",
      "     8    -7.761779e+00     1.649156e-01\n",
      " * time: 1.0977551937103271\n",
      "     9    -7.800376e+00     1.529435e-01\n",
      " * time: 1.1328840255737305\n",
      "    10    -7.827666e+00     6.345833e-02\n",
      " * time: 1.1723730564117432\n",
      "    11    -7.844023e+00     4.600982e-02\n",
      " * time: 1.2093751430511475\n",
      "    12    -7.850277e+00     3.097422e-02\n",
      " * time: 1.2458751201629639\n",
      "    13    -7.851868e+00     2.156404e-02\n",
      " * time: 1.2813770771026611\n",
      "    14    -7.852309e+00     1.294148e-02\n",
      " * time: 1.322268009185791\n",
      "    15    -7.852521e+00     6.571827e-03\n",
      " * time: 1.363368034362793\n",
      "    16    -7.852606e+00     3.279551e-03\n",
      " * time: 1.3998091220855713\n",
      "    17    -7.852634e+00     2.488101e-03\n",
      " * time: 1.5392701625823975\n",
      "    18    -7.852643e+00     1.253978e-03\n",
      " * time: 1.5746841430664062\n",
      "    19    -7.852645e+00     7.658325e-04\n",
      " * time: 1.6096091270446777\n",
      "    20    -7.852646e+00     5.010194e-04\n",
      " * time: 1.6493861675262451\n",
      "    21    -7.852646e+00     2.666721e-04\n",
      " * time: 1.6846191883087158\n",
      "    22    -7.852647e+00     1.941287e-04\n",
      " * time: 1.7201480865478516\n",
      "    23    -7.852647e+00     7.297005e-05\n",
      " * time: 1.755561113357544\n",
      "    24    -7.852647e+00     4.859879e-05\n",
      " * time: 1.7911431789398193\n",
      "    25    -7.852647e+00     3.828070e-05\n",
      " * time: 1.8269541263580322\n",
      "    26    -7.852647e+00     1.687421e-05\n",
      " * time: 1.8653910160064697\n",
      "    27    -7.852647e+00     9.392998e-06\n",
      " * time: 1.9005670547485352\n",
      "    28    -7.852647e+00     4.457057e-06\n",
      " * time: 1.934969186782837\n",
      "    29    -7.852647e+00     3.226187e-06\n",
      " * time: 1.9709360599517822\n",
      "    30    -7.852647e+00     2.334886e-06\n",
      " * time: 2.0052402019500732\n",
      "    31    -7.852647e+00     1.229202e-06\n",
      " * time: 2.041581153869629\n",
      "    32    -7.852647e+00     7.715819e-07\n",
      " * time: 2.0796070098876953\n",
      "    33    -7.852647e+00     4.529377e-07\n",
      " * time: 2.1158230304718018\n",
      "    34    -7.852647e+00     1.824074e-07\n",
      " * time: 2.1521341800689697\n",
      "    35    -7.852647e+00     1.223545e-07\n",
      " * time: 2.1914851665496826\n",
      "    36    -7.852647e+00     8.657923e-08\n",
      " * time: 2.227169990539551\n",
      "    37    -7.852647e+00     5.673616e-08\n",
      " * time: 2.2636051177978516\n",
      "    38    -7.852647e+00     3.871435e-08\n",
      " * time: 2.3012921810150146\n",
      "    39    -7.852647e+00     2.774540e-08\n",
      " * time: 2.337402105331421\n",
      "    40    -7.852647e+00     2.589598e-08\n",
      " * time: 2.411750078201294\n",
      "    41    -7.852647e+00     1.794706e-08\n",
      " * time: 2.465212106704712\n",
      "    42    -7.852647e+00     1.141919e-08\n",
      " * time: 2.500117063522339\n",
      "    43    -7.852647e+00     8.549248e-09\n",
      " * time: 2.559758186340332\n"
     ]
    }
   ],
   "cell_type": "code",
   "source": [
    "scfres_dm = direct_minimization(basis; tol);"
   ],
   "metadata": {},
   "execution_count": 4
  },
  {
   "cell_type": "markdown",
   "source": [
    "## Newton algorithm"
   ],
   "metadata": {}
  },
  {
   "cell_type": "markdown",
   "source": [
    "Start not too far from the solution to ensure convergence:\n",
    "We run first a very crude SCF to get close and then switch to Newton."
   ],
   "metadata": {}
  },
  {
   "outputs": [
    {
     "name": "stdout",
     "output_type": "stream",
     "text": [
      "n     Energy            log10(ΔE)   log10(Δρ)   Diag\n",
      "---   ---------------   ---------   ---------   ----\n",
      "  1   -7.846881949815                   -0.70    5.0\n",
      "  2   -7.852327624250       -2.26       -1.53    1.0\n"
     ]
    }
   ],
   "cell_type": "code",
   "source": [
    "scfres_start = self_consistent_field(basis; tol=1e-1);"
   ],
   "metadata": {},
   "execution_count": 5
  },
  {
   "cell_type": "markdown",
   "source": [
    "Remove the virtual orbitals (which Newton cannot treat yet)"
   ],
   "metadata": {}
  },
  {
   "outputs": [
    {
     "name": "stdout",
     "output_type": "stream",
     "text": [
      "n     Energy            log10(ΔE)   log10(Δρ)\n",
      "---   ---------------   ---------   ---------\n",
      "  1   -7.852646686713                   -2.55\n",
      "  2   -7.852646686730      -10.76       -6.01\n",
      "  3   -7.852646686730   +    -Inf      -12.66\n"
     ]
    }
   ],
   "cell_type": "code",
   "source": [
    "ψ = DFTK.select_occupied_orbitals(basis, scfres_start.ψ, scfres_start.occupation).ψ\n",
    "scfres_newton = newton(basis, ψ; tol);"
   ],
   "metadata": {},
   "execution_count": 6
  },
  {
   "cell_type": "markdown",
   "source": [
    "## Comparison of results"
   ],
   "metadata": {}
  },
  {
   "outputs": [
    {
     "name": "stdout",
     "output_type": "stream",
     "text": [
      "|ρ_newton - ρ_scf|  = 4.728053070258524e-13\n",
      "|ρ_newton - ρ_scfv| = 4.953935797903657e-13\n",
      "|ρ_newton - ρ_dm|   = 8.322703004693876e-10\n"
     ]
    }
   ],
   "cell_type": "code",
   "source": [
    "println(\"|ρ_newton - ρ_scf|  = \", norm(scfres_newton.ρ - scfres_scf.ρ))\n",
    "println(\"|ρ_newton - ρ_scfv| = \", norm(scfres_newton.ρ - scfres_scfv.ρ))\n",
    "println(\"|ρ_newton - ρ_dm|   = \", norm(scfres_newton.ρ - scfres_dm.ρ))"
   ],
   "metadata": {},
   "execution_count": 7
  }
 ],
 "nbformat_minor": 3,
 "metadata": {
  "language_info": {
   "file_extension": ".jl",
   "mimetype": "application/julia",
   "name": "julia",
   "version": "1.8.3"
  },
  "kernelspec": {
   "name": "julia-1.8",
   "display_name": "Julia 1.8.3",
   "language": "julia"
  }
 },
 "nbformat": 4
}
