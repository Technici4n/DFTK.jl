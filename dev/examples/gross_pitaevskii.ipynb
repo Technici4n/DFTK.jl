{
 "cells": [
  {
   "cell_type": "markdown",
   "source": [
    "# Gross-Pitaevskii equation in one dimension\n",
    "In this example we will use DFTK to solve\n",
    "the Gross-Pitaevskii equation, and use this opportunity to explore a few internals."
   ],
   "metadata": {}
  },
  {
   "cell_type": "markdown",
   "source": [
    "## The model\n",
    "The [Gross-Pitaevskii equation](https://en.wikipedia.org/wiki/Gross%E2%80%93Pitaevskii_equation) (GPE)\n",
    "is a simple non-linear equation used to model bosonic systems\n",
    "in a mean-field approach. Denoting by $ψ$ the effective one-particle bosonic\n",
    "wave function, the time-independent GPE reads in atomic units:\n",
    "$$\n",
    "    H ψ = \\left(-\\frac12 Δ + V + 2 C |ψ|^2\\right) ψ = μ ψ \\qquad \\|ψ\\|_{L^2} = 1\n",
    "$$\n",
    "where $C$ provides the strength of the boson-boson coupling.\n",
    "It's in particular a favorite model of applied mathematicians because it\n",
    "has a structure simpler than but similar to that of DFT, and displays\n",
    "interesting behavior (especially in higher dimensions with magnetic fields, see\n",
    "Gross-Pitaevskii equation with external magnetic field)."
   ],
   "metadata": {}
  },
  {
   "cell_type": "markdown",
   "source": [
    "We wish to model this equation in 1D using DFTK.\n",
    "First we set up the lattice. For a 1D case we supply two zero lattice vectors,"
   ],
   "metadata": {}
  },
  {
   "outputs": [],
   "cell_type": "code",
   "source": [
    "a = 10\n",
    "lattice = a .* [[1 0 0.]; [0 0 0]; [0 0 0]];"
   ],
   "metadata": {},
   "execution_count": 1
  },
  {
   "cell_type": "markdown",
   "source": [
    "which is special cased in DFTK to support 1D models.\n",
    "\n",
    "For the potential term `V` we just pick a harmonic\n",
    "potential. The real-space grid is in $[0,1)$\n",
    "in fractional coordinates( see\n",
    "Lattices and lattice vectors),\n",
    "therefore:"
   ],
   "metadata": {}
  },
  {
   "outputs": [],
   "cell_type": "code",
   "source": [
    "pot(x) = (x - a/2)^2;"
   ],
   "metadata": {},
   "execution_count": 2
  },
  {
   "cell_type": "markdown",
   "source": [
    "We setup each energy term in sequence: kinetic, potential and nonlinear term.\n",
    "For the non-linearity we use the `LocalNonlinearity(f)` term of DFTK, with f(ρ) = C ρ^α.\n",
    "This object introduces an energy term $C ∫ ρ(r)^α dr$\n",
    "to the total energy functional, thus a potential term $α C ρ^{α-1}$.\n",
    "In our case we thus need the parameters"
   ],
   "metadata": {}
  },
  {
   "outputs": [],
   "cell_type": "code",
   "source": [
    "C = 1.0\n",
    "α = 2;"
   ],
   "metadata": {},
   "execution_count": 3
  },
  {
   "cell_type": "markdown",
   "source": [
    "… and with this build the model"
   ],
   "metadata": {}
  },
  {
   "outputs": [],
   "cell_type": "code",
   "source": [
    "using DFTK\n",
    "using LinearAlgebra\n",
    "\n",
    "n_electrons = 1  # Increase this for fun\n",
    "terms = [Kinetic(),\n",
    "         ExternalFromReal(r -> pot(r[1])),\n",
    "         LocalNonlinearity(ρ -> C * ρ^α),\n",
    "]\n",
    "model = Model(lattice; n_electrons, terms, spin_polarization=:spinless);  # spinless electrons"
   ],
   "metadata": {},
   "execution_count": 4
  },
  {
   "cell_type": "markdown",
   "source": [
    "We discretize using a moderate Ecut (For 1D values up to `5000` are completely fine)\n",
    "and run a direct minimization algorithm:"
   ],
   "metadata": {}
  },
  {
   "outputs": [
    {
     "name": "stdout",
     "output_type": "stream",
     "text": [
      "Iter     Function value   Gradient norm \n",
      "     0     1.789959e+02     2.028838e+02\n",
      " * time: 0.0007259845733642578\n",
      "     1     1.684360e+02     1.529851e+02\n",
      " * time: 0.003229856491088867\n",
      "     2     1.284075e+02     1.659691e+02\n",
      " * time: 0.00662684440612793\n",
      "     3     6.759131e+01     1.313524e+02\n",
      " * time: 0.010596990585327148\n",
      "     4     9.205890e+00     2.505204e+01\n",
      " * time: 0.014474868774414062\n",
      "     5     6.355106e+00     1.953015e+01\n",
      " * time: 0.01708197593688965\n",
      "     6     6.271385e+00     9.963588e+00\n",
      " * time: 0.019122838973999023\n",
      "     7     3.702643e+00     5.013576e+00\n",
      " * time: 0.02117300033569336\n",
      "     8     2.175268e+00     5.309687e+00\n",
      " * time: 0.023196935653686523\n",
      "     9     2.114894e+00     3.222960e+00\n",
      " * time: 0.024806976318359375\n",
      "    10     1.969559e+00     3.089592e+00\n",
      " * time: 0.026543855667114258\n",
      "    11     1.624977e+00     2.415888e+00\n",
      " * time: 0.02861499786376953\n",
      "    12     1.308242e+00     1.216666e+00\n",
      " * time: 0.03017592430114746\n",
      "    13     1.217595e+00     7.867839e-01\n",
      " * time: 0.03177690505981445\n",
      "    14     1.166915e+00     3.899821e-01\n",
      " * time: 0.03338503837585449\n",
      "    15     1.159435e+00     3.944366e-01\n",
      " * time: 0.03497886657714844\n",
      "    16     1.148337e+00     2.390441e-01\n",
      " * time: 0.03664398193359375\n",
      "    17     1.147962e+00     2.139600e-01\n",
      " * time: 0.037758827209472656\n",
      "    18     1.144500e+00     7.623296e-02\n",
      " * time: 0.03887796401977539\n",
      "    19     1.144194e+00     3.175714e-02\n",
      " * time: 0.040467023849487305\n",
      "    20     1.144090e+00     1.709631e-02\n",
      " * time: 0.042105913162231445\n",
      "    21     1.144072e+00     1.279804e-02\n",
      " * time: 0.043675899505615234\n",
      "    22     1.144060e+00     1.019894e-02\n",
      " * time: 0.04528689384460449\n",
      "    23     1.144043e+00     8.048715e-03\n",
      " * time: 0.04698300361633301\n",
      "    24     1.144040e+00     8.145645e-03\n",
      " * time: 0.048603057861328125\n",
      "    25     1.144039e+00     5.370558e-03\n",
      " * time: 0.05016899108886719\n",
      "    26     1.144038e+00     4.345758e-03\n",
      " * time: 0.051748037338256836\n",
      "    27     1.144037e+00     2.786924e-03\n",
      " * time: 0.0533299446105957\n",
      "    28     1.144037e+00     1.612215e-03\n",
      " * time: 0.054904937744140625\n",
      "    29     1.144037e+00     1.055481e-03\n",
      " * time: 0.05661487579345703\n",
      "    30     1.144037e+00     4.548268e-04\n",
      " * time: 0.05820894241333008\n",
      "    31     1.144037e+00     2.034079e-04\n",
      " * time: 0.059783935546875\n",
      "    32     1.144037e+00     2.144987e-04\n",
      " * time: 0.06138801574707031\n",
      "    33     1.144037e+00     1.964307e-04\n",
      " * time: 0.06296205520629883\n",
      "    34     1.144037e+00     1.832837e-04\n",
      " * time: 0.06454682350158691\n",
      "    35     1.144037e+00     1.516687e-04\n",
      " * time: 0.06610798835754395\n",
      "    36     1.144037e+00     1.033666e-04\n",
      " * time: 0.06773591041564941\n",
      "    37     1.144037e+00     6.085672e-05\n",
      " * time: 0.06934499740600586\n",
      "    38     1.144037e+00     2.678540e-05\n",
      " * time: 0.0709688663482666\n",
      "    39     1.144037e+00     7.955658e-06\n",
      " * time: 0.07263684272766113\n",
      "    40     1.144037e+00     6.104576e-06\n",
      " * time: 0.07422995567321777\n",
      "    41     1.144037e+00     3.841046e-06\n",
      " * time: 0.0758218765258789\n",
      "    42     1.144037e+00     5.059025e-06\n",
      " * time: 0.07749700546264648\n",
      "    43     1.144037e+00     4.472921e-06\n",
      " * time: 0.07908892631530762\n",
      "    44     1.144037e+00     3.216493e-06\n",
      " * time: 0.08069300651550293\n",
      "    45     1.144037e+00     2.342524e-06\n",
      " * time: 0.08229494094848633\n",
      "    46     1.144037e+00     1.499798e-06\n",
      " * time: 0.08387994766235352\n",
      "    47     1.144037e+00     9.709367e-07\n",
      " * time: 0.0854649543762207\n",
      "    48     1.144037e+00     6.060957e-07\n",
      " * time: 0.08713889122009277\n",
      "    49     1.144037e+00     4.253877e-07\n",
      " * time: 0.08886003494262695\n",
      "    50     1.144037e+00     1.381685e-07\n",
      " * time: 0.09044790267944336\n",
      "    51     1.144037e+00     1.381678e-07\n",
      " * time: 0.09476804733276367\n"
     ]
    },
    {
     "output_type": "execute_result",
     "data": {
      "text/plain": "Energy breakdown (in Ha):\n    Kinetic             0.2682057 \n    ExternalFromReal    0.4707475 \n    LocalNonlinearity   0.4050836 \n\n    total               1.144036852755 "
     },
     "metadata": {},
     "execution_count": 5
    }
   ],
   "cell_type": "code",
   "source": [
    "basis = PlaneWaveBasis(model, Ecut=500, kgrid=(1, 1, 1))\n",
    "scfres = direct_minimization(basis, tol=1e-8) # This is a constrained preconditioned LBFGS\n",
    "scfres.energies"
   ],
   "metadata": {},
   "execution_count": 5
  },
  {
   "cell_type": "markdown",
   "source": [
    "## Internals\n",
    "We use the opportunity to explore some of DFTK internals.\n",
    "\n",
    "Extract the converged density and the obtained wave function:"
   ],
   "metadata": {}
  },
  {
   "outputs": [],
   "cell_type": "code",
   "source": [
    "ρ = real(scfres.ρ)[:, 1, 1, 1]  # converged density, first spin component\n",
    "ψ_fourier = scfres.ψ[1][:, 1];    # first k-point, all G components, first eigenvector"
   ],
   "metadata": {},
   "execution_count": 6
  },
  {
   "cell_type": "markdown",
   "source": [
    "Transform the wave function to real space and fix the phase:"
   ],
   "metadata": {}
  },
  {
   "outputs": [],
   "cell_type": "code",
   "source": [
    "ψ = ifft(basis, basis.kpoints[1], ψ_fourier)[:, 1, 1]\n",
    "ψ /= (ψ[div(end, 2)] / abs(ψ[div(end, 2)]));"
   ],
   "metadata": {},
   "execution_count": 7
  },
  {
   "cell_type": "markdown",
   "source": [
    "Check whether $ψ$ is normalised:"
   ],
   "metadata": {}
  },
  {
   "outputs": [],
   "cell_type": "code",
   "source": [
    "x = a * vec(first.(DFTK.r_vectors(basis)))\n",
    "N = length(x)\n",
    "dx = a / N  # real-space grid spacing\n",
    "@assert sum(abs2.(ψ)) * dx ≈ 1.0"
   ],
   "metadata": {},
   "execution_count": 8
  },
  {
   "cell_type": "markdown",
   "source": [
    "The density is simply built from ψ:"
   ],
   "metadata": {}
  },
  {
   "outputs": [
    {
     "output_type": "execute_result",
     "data": {
      "text/plain": "1.2423929498144614e-15"
     },
     "metadata": {},
     "execution_count": 9
    }
   ],
   "cell_type": "code",
   "source": [
    "norm(scfres.ρ - abs2.(ψ))"
   ],
   "metadata": {},
   "execution_count": 9
  },
  {
   "cell_type": "markdown",
   "source": [
    "We summarize the ground state in a nice plot:"
   ],
   "metadata": {}
  },
  {
   "outputs": [
    {
     "output_type": "execute_result",
     "data": {
      "text/plain": "Plot{Plots.GRBackend() n=3}",
      "image/png": "[encoded data removed]",
      "text/html": [
       "<?xml version=\"1.0\" encoding=\"utf-8\"?>\n",
       "<svg xmlns=\"http://www.w3.org/2000/svg\" xmlns:xlink=\"http://www.w3.org/1999/xlink\" width=\"600\" height=\"400\" viewBox=\"0 0 2400 1600\">\n",
       "<defs>\n",
       "  <clipPath id=\"clip550\">\n",
       "    <rect x=\"0\" y=\"0\" width=\"2400\" height=\"1600\"/>\n",
       "  </clipPath>\n",
       "</defs>\n",
       "<path clip-path=\"url(#clip550)\" d=\"\n",
       "M0 1600 L2400 1600 L2400 0 L0 0  Z\n",
       "  \" fill=\"#ffffff\" fill-rule=\"evenodd\" fill-opacity=\"1\"/>\n",
       "<defs>\n",
       "  <clipPath id=\"clip551\">\n",
       "    <rect x=\"480\" y=\"0\" width=\"1681\" height=\"1600\"/>\n",
       "  </clipPath>\n",
       "</defs>\n",
       "<path clip-path=\"url(#clip550)\" d=\"\n",
       "M156.598 1486.45 L2352.76 1486.45 L2352.76 47.2441 L156.598 47.2441  Z\n",
       "  \" fill=\"#ffffff\" fill-rule=\"evenodd\" fill-opacity=\"1\"/>\n",
       "<defs>\n",
       "  <clipPath id=\"clip552\">\n",
       "    <rect x=\"156\" y=\"47\" width=\"2197\" height=\"1440\"/>\n",
       "  </clipPath>\n",
       "</defs>\n",
       "<polyline clip-path=\"url(#clip552)\" style=\"stroke:#000000; stroke-linecap:round; stroke-linejoin:round; stroke-width:2; stroke-opacity:0.1; fill:none\" points=\"\n",
       "  218.754,1486.45 218.754,47.2441 \n",
       "  \"/>\n",
       "<polyline clip-path=\"url(#clip552)\" style=\"stroke:#000000; stroke-linecap:round; stroke-linejoin:round; stroke-width:2; stroke-opacity:0.1; fill:none\" points=\"\n",
       "  739.124,1486.45 739.124,47.2441 \n",
       "  \"/>\n",
       "<polyline clip-path=\"url(#clip552)\" style=\"stroke:#000000; stroke-linecap:round; stroke-linejoin:round; stroke-width:2; stroke-opacity:0.1; fill:none\" points=\"\n",
       "  1259.5,1486.45 1259.5,47.2441 \n",
       "  \"/>\n",
       "<polyline clip-path=\"url(#clip552)\" style=\"stroke:#000000; stroke-linecap:round; stroke-linejoin:round; stroke-width:2; stroke-opacity:0.1; fill:none\" points=\"\n",
       "  1779.87,1486.45 1779.87,47.2441 \n",
       "  \"/>\n",
       "<polyline clip-path=\"url(#clip552)\" style=\"stroke:#000000; stroke-linecap:round; stroke-linejoin:round; stroke-width:2; stroke-opacity:0.1; fill:none\" points=\"\n",
       "  2300.24,1486.45 2300.24,47.2441 \n",
       "  \"/>\n",
       "<polyline clip-path=\"url(#clip550)\" style=\"stroke:#000000; stroke-linecap:round; stroke-linejoin:round; stroke-width:4; stroke-opacity:1; fill:none\" points=\"\n",
       "  156.598,1486.45 2352.76,1486.45 \n",
       "  \"/>\n",
       "<polyline clip-path=\"url(#clip550)\" style=\"stroke:#000000; stroke-linecap:round; stroke-linejoin:round; stroke-width:4; stroke-opacity:1; fill:none\" points=\"\n",
       "  218.754,1486.45 218.754,1467.55 \n",
       "  \"/>\n",
       "<polyline clip-path=\"url(#clip550)\" style=\"stroke:#000000; stroke-linecap:round; stroke-linejoin:round; stroke-width:4; stroke-opacity:1; fill:none\" points=\"\n",
       "  739.124,1486.45 739.124,1467.55 \n",
       "  \"/>\n",
       "<polyline clip-path=\"url(#clip550)\" style=\"stroke:#000000; stroke-linecap:round; stroke-linejoin:round; stroke-width:4; stroke-opacity:1; fill:none\" points=\"\n",
       "  1259.5,1486.45 1259.5,1467.55 \n",
       "  \"/>\n",
       "<polyline clip-path=\"url(#clip550)\" style=\"stroke:#000000; stroke-linecap:round; stroke-linejoin:round; stroke-width:4; stroke-opacity:1; fill:none\" points=\"\n",
       "  1779.87,1486.45 1779.87,1467.55 \n",
       "  \"/>\n",
       "<polyline clip-path=\"url(#clip550)\" style=\"stroke:#000000; stroke-linecap:round; stroke-linejoin:round; stroke-width:4; stroke-opacity:1; fill:none\" points=\"\n",
       "  2300.24,1486.45 2300.24,1467.55 \n",
       "  \"/>\n",
       "<path clip-path=\"url(#clip550)\" d=\"M196.138 1517.37 Q192.527 1517.37 190.698 1520.93 Q188.893 1524.47 188.893 1531.6 Q188.893 1538.71 190.698 1542.27 Q192.527 1545.82 196.138 1545.82 Q199.772 1545.82 201.578 1542.27 Q203.407 1538.71 203.407 1531.6 Q203.407 1524.47 201.578 1520.93 Q199.772 1517.37 196.138 1517.37 M196.138 1513.66 Q201.948 1513.66 205.004 1518.27 Q208.082 1522.85 208.082 1531.6 Q208.082 1540.33 205.004 1544.94 Q201.948 1549.52 196.138 1549.52 Q190.328 1549.52 187.249 1544.94 Q184.194 1540.33 184.194 1531.6 Q184.194 1522.85 187.249 1518.27 Q190.328 1513.66 196.138 1513.66 Z\" fill=\"#000000\" fill-rule=\"evenodd\" fill-opacity=\"1\" /><path clip-path=\"url(#clip550)\" d=\"M216.3 1542.97 L221.184 1542.97 L221.184 1548.85 L216.3 1548.85 L216.3 1542.97 Z\" fill=\"#000000\" fill-rule=\"evenodd\" fill-opacity=\"1\" /><path clip-path=\"url(#clip550)\" d=\"M241.369 1517.37 Q237.758 1517.37 235.929 1520.93 Q234.124 1524.47 234.124 1531.6 Q234.124 1538.71 235.929 1542.27 Q237.758 1545.82 241.369 1545.82 Q245.003 1545.82 246.809 1542.27 Q248.638 1538.71 248.638 1531.6 Q248.638 1524.47 246.809 1520.93 Q245.003 1517.37 241.369 1517.37 M241.369 1513.66 Q247.179 1513.66 250.235 1518.27 Q253.314 1522.85 253.314 1531.6 Q253.314 1540.33 250.235 1544.94 Q247.179 1549.52 241.369 1549.52 Q235.559 1549.52 232.48 1544.94 Q229.425 1540.33 229.425 1531.6 Q229.425 1522.85 232.48 1518.27 Q235.559 1513.66 241.369 1513.66 Z\" fill=\"#000000\" fill-rule=\"evenodd\" fill-opacity=\"1\" /><path clip-path=\"url(#clip550)\" d=\"M710.861 1544.91 L727.18 1544.91 L727.18 1548.85 L705.236 1548.85 L705.236 1544.91 Q707.898 1542.16 712.481 1537.53 Q717.088 1532.88 718.268 1531.53 Q720.513 1529.01 721.393 1527.27 Q722.296 1525.51 722.296 1523.82 Q722.296 1521.07 720.351 1519.33 Q718.43 1517.6 715.328 1517.6 Q713.129 1517.6 710.676 1518.36 Q708.245 1519.13 705.467 1520.68 L705.467 1515.95 Q708.291 1514.82 710.745 1514.24 Q713.199 1513.66 715.236 1513.66 Q720.606 1513.66 723.8 1516.35 Q726.995 1519.03 726.995 1523.52 Q726.995 1525.65 726.185 1527.57 Q725.398 1529.47 723.291 1532.07 Q722.713 1532.74 719.611 1535.95 Q716.509 1539.15 710.861 1544.91 Z\" fill=\"#000000\" fill-rule=\"evenodd\" fill-opacity=\"1\" /><path clip-path=\"url(#clip550)\" d=\"M736.995 1542.97 L741.879 1542.97 L741.879 1548.85 L736.995 1548.85 L736.995 1542.97 Z\" fill=\"#000000\" fill-rule=\"evenodd\" fill-opacity=\"1\" /><path clip-path=\"url(#clip550)\" d=\"M752.111 1514.29 L770.467 1514.29 L770.467 1518.22 L756.393 1518.22 L756.393 1526.7 Q757.411 1526.35 758.43 1526.19 Q759.448 1526 760.467 1526 Q766.254 1526 769.634 1529.17 Q773.013 1532.34 773.013 1537.76 Q773.013 1543.34 769.541 1546.44 Q766.069 1549.52 759.749 1549.52 Q757.573 1549.52 755.305 1549.15 Q753.06 1548.78 750.652 1548.04 L750.652 1543.34 Q752.736 1544.47 754.958 1545.03 Q757.18 1545.58 759.657 1545.58 Q763.661 1545.58 765.999 1543.48 Q768.337 1541.37 768.337 1537.76 Q768.337 1534.15 765.999 1532.04 Q763.661 1529.94 759.657 1529.94 Q757.782 1529.94 755.907 1530.35 Q754.055 1530.77 752.111 1531.65 L752.111 1514.29 Z\" fill=\"#000000\" fill-rule=\"evenodd\" fill-opacity=\"1\" /><path clip-path=\"url(#clip550)\" d=\"M1226.66 1514.29 L1245.02 1514.29 L1245.02 1518.22 L1230.94 1518.22 L1230.94 1526.7 Q1231.96 1526.35 1232.98 1526.19 Q1234 1526 1235.02 1526 Q1240.8 1526 1244.18 1529.17 Q1247.56 1532.34 1247.56 1537.76 Q1247.56 1543.34 1244.09 1546.44 Q1240.62 1549.52 1234.3 1549.52 Q1232.12 1549.52 1229.85 1549.15 Q1227.61 1548.78 1225.2 1548.04 L1225.2 1543.34 Q1227.28 1544.47 1229.51 1545.03 Q1231.73 1545.58 1234.21 1545.58 Q1238.21 1545.58 1240.55 1543.48 Q1242.89 1541.37 1242.89 1537.76 Q1242.89 1534.15 1240.55 1532.04 Q1238.21 1529.94 1234.21 1529.94 Q1232.33 1529.94 1230.46 1530.35 Q1228.6 1530.77 1226.66 1531.65 L1226.66 1514.29 Z\" fill=\"#000000\" fill-rule=\"evenodd\" fill-opacity=\"1\" /><path clip-path=\"url(#clip550)\" d=\"M1256.78 1542.97 L1261.66 1542.97 L1261.66 1548.85 L1256.78 1548.85 L1256.78 1542.97 Z\" fill=\"#000000\" fill-rule=\"evenodd\" fill-opacity=\"1\" /><path clip-path=\"url(#clip550)\" d=\"M1281.84 1517.37 Q1278.23 1517.37 1276.4 1520.93 Q1274.6 1524.47 1274.6 1531.6 Q1274.6 1538.71 1276.4 1542.27 Q1278.23 1545.82 1281.84 1545.82 Q1285.48 1545.82 1287.28 1542.27 Q1289.11 1538.71 1289.11 1531.6 Q1289.11 1524.47 1287.28 1520.93 Q1285.48 1517.37 1281.84 1517.37 M1281.84 1513.66 Q1287.65 1513.66 1290.71 1518.27 Q1293.79 1522.85 1293.79 1531.6 Q1293.79 1540.33 1290.71 1544.94 Q1287.65 1549.52 1281.84 1549.52 Q1276.03 1549.52 1272.96 1544.94 Q1269.9 1540.33 1269.9 1531.6 Q1269.9 1522.85 1272.96 1518.27 Q1276.03 1513.66 1281.84 1513.66 Z\" fill=\"#000000\" fill-rule=\"evenodd\" fill-opacity=\"1\" /><path clip-path=\"url(#clip550)\" d=\"M1746.19 1514.29 L1768.41 1514.29 L1768.41 1516.28 L1755.86 1548.85 L1750.98 1548.85 L1762.78 1518.22 L1746.19 1518.22 L1746.19 1514.29 Z\" fill=\"#000000\" fill-rule=\"evenodd\" fill-opacity=\"1\" /><path clip-path=\"url(#clip550)\" d=\"M1777.53 1542.97 L1782.41 1542.97 L1782.41 1548.85 L1777.53 1548.85 L1777.53 1542.97 Z\" fill=\"#000000\" fill-rule=\"evenodd\" fill-opacity=\"1\" /><path clip-path=\"url(#clip550)\" d=\"M1792.64 1514.29 L1811 1514.29 L1811 1518.22 L1796.93 1518.22 L1796.93 1526.7 Q1797.94 1526.35 1798.96 1526.19 Q1799.98 1526 1801 1526 Q1806.79 1526 1810.17 1529.17 Q1813.55 1532.34 1813.55 1537.76 Q1813.55 1543.34 1810.07 1546.44 Q1806.6 1549.52 1800.28 1549.52 Q1798.11 1549.52 1795.84 1549.15 Q1793.59 1548.78 1791.19 1548.04 L1791.19 1543.34 Q1793.27 1544.47 1795.49 1545.03 Q1797.71 1545.58 1800.19 1545.58 Q1804.19 1545.58 1806.53 1543.48 Q1808.87 1541.37 1808.87 1537.76 Q1808.87 1534.15 1806.53 1532.04 Q1804.19 1529.94 1800.19 1529.94 Q1798.32 1529.94 1796.44 1530.35 Q1794.59 1530.77 1792.64 1531.65 L1792.64 1514.29 Z\" fill=\"#000000\" fill-rule=\"evenodd\" fill-opacity=\"1\" /><path clip-path=\"url(#clip550)\" d=\"M2252.31 1544.91 L2259.95 1544.91 L2259.95 1518.55 L2251.64 1520.21 L2251.64 1515.95 L2259.9 1514.29 L2264.58 1514.29 L2264.58 1544.91 L2272.22 1544.91 L2272.22 1548.85 L2252.31 1548.85 L2252.31 1544.91 Z\" fill=\"#000000\" fill-rule=\"evenodd\" fill-opacity=\"1\" /><path clip-path=\"url(#clip550)\" d=\"M2291.66 1517.37 Q2288.05 1517.37 2286.22 1520.93 Q2284.42 1524.47 2284.42 1531.6 Q2284.42 1538.71 2286.22 1542.27 Q2288.05 1545.82 2291.66 1545.82 Q2295.29 1545.82 2297.1 1542.27 Q2298.93 1538.71 2298.93 1531.6 Q2298.93 1524.47 2297.1 1520.93 Q2295.29 1517.37 2291.66 1517.37 M2291.66 1513.66 Q2297.47 1513.66 2300.53 1518.27 Q2303.61 1522.85 2303.61 1531.6 Q2303.61 1540.33 2300.53 1544.94 Q2297.47 1549.52 2291.66 1549.52 Q2285.85 1549.52 2282.77 1544.94 Q2279.72 1540.33 2279.72 1531.6 Q2279.72 1522.85 2282.77 1518.27 Q2285.85 1513.66 2291.66 1513.66 Z\" fill=\"#000000\" fill-rule=\"evenodd\" fill-opacity=\"1\" /><path clip-path=\"url(#clip550)\" d=\"M2311.82 1542.97 L2316.71 1542.97 L2316.71 1548.85 L2311.82 1548.85 L2311.82 1542.97 Z\" fill=\"#000000\" fill-rule=\"evenodd\" fill-opacity=\"1\" /><path clip-path=\"url(#clip550)\" d=\"M2336.89 1517.37 Q2333.28 1517.37 2331.45 1520.93 Q2329.65 1524.47 2329.65 1531.6 Q2329.65 1538.71 2331.45 1542.27 Q2333.28 1545.82 2336.89 1545.82 Q2340.53 1545.82 2342.33 1542.27 Q2344.16 1538.71 2344.16 1531.6 Q2344.16 1524.47 2342.33 1520.93 Q2340.53 1517.37 2336.89 1517.37 M2336.89 1513.66 Q2342.7 1513.66 2345.76 1518.27 Q2348.84 1522.85 2348.84 1531.6 Q2348.84 1540.33 2345.76 1544.94 Q2342.7 1549.52 2336.89 1549.52 Q2331.08 1549.52 2328 1544.94 Q2324.95 1540.33 2324.95 1531.6 Q2324.95 1522.85 2328 1518.27 Q2331.08 1513.66 2336.89 1513.66 Z\" fill=\"#000000\" fill-rule=\"evenodd\" fill-opacity=\"1\" /><polyline clip-path=\"url(#clip552)\" style=\"stroke:#000000; stroke-linecap:round; stroke-linejoin:round; stroke-width:2; stroke-opacity:0.1; fill:none\" points=\"\n",
       "  156.598,1445.72 2352.76,1445.72 \n",
       "  \"/>\n",
       "<polyline clip-path=\"url(#clip552)\" style=\"stroke:#000000; stroke-linecap:round; stroke-linejoin:round; stroke-width:2; stroke-opacity:0.1; fill:none\" points=\"\n",
       "  156.598,1082.52 2352.76,1082.52 \n",
       "  \"/>\n",
       "<polyline clip-path=\"url(#clip552)\" style=\"stroke:#000000; stroke-linecap:round; stroke-linejoin:round; stroke-width:2; stroke-opacity:0.1; fill:none\" points=\"\n",
       "  156.598,719.322 2352.76,719.322 \n",
       "  \"/>\n",
       "<polyline clip-path=\"url(#clip552)\" style=\"stroke:#000000; stroke-linecap:round; stroke-linejoin:round; stroke-width:2; stroke-opacity:0.1; fill:none\" points=\"\n",
       "  156.598,356.126 2352.76,356.126 \n",
       "  \"/>\n",
       "<polyline clip-path=\"url(#clip550)\" style=\"stroke:#000000; stroke-linecap:round; stroke-linejoin:round; stroke-width:4; stroke-opacity:1; fill:none\" points=\"\n",
       "  156.598,1486.45 156.598,47.2441 \n",
       "  \"/>\n",
       "<polyline clip-path=\"url(#clip550)\" style=\"stroke:#000000; stroke-linecap:round; stroke-linejoin:round; stroke-width:4; stroke-opacity:1; fill:none\" points=\"\n",
       "  156.598,1445.72 175.496,1445.72 \n",
       "  \"/>\n",
       "<polyline clip-path=\"url(#clip550)\" style=\"stroke:#000000; stroke-linecap:round; stroke-linejoin:round; stroke-width:4; stroke-opacity:1; fill:none\" points=\"\n",
       "  156.598,1082.52 175.496,1082.52 \n",
       "  \"/>\n",
       "<polyline clip-path=\"url(#clip550)\" style=\"stroke:#000000; stroke-linecap:round; stroke-linejoin:round; stroke-width:4; stroke-opacity:1; fill:none\" points=\"\n",
       "  156.598,719.322 175.496,719.322 \n",
       "  \"/>\n",
       "<polyline clip-path=\"url(#clip550)\" style=\"stroke:#000000; stroke-linecap:round; stroke-linejoin:round; stroke-width:4; stroke-opacity:1; fill:none\" points=\"\n",
       "  156.598,356.126 175.496,356.126 \n",
       "  \"/>\n",
       "<path clip-path=\"url(#clip550)\" d=\"M63.4226 1431.51 Q59.8115 1431.51 57.9828 1435.08 Q56.1773 1438.62 56.1773 1445.75 Q56.1773 1452.86 57.9828 1456.42 Q59.8115 1459.96 63.4226 1459.96 Q67.0569 1459.96 68.8624 1456.42 Q70.6911 1452.86 70.6911 1445.75 Q70.6911 1438.62 68.8624 1435.08 Q67.0569 1431.51 63.4226 1431.51 M63.4226 1427.81 Q69.2328 1427.81 72.2883 1432.42 Q75.367 1437 75.367 1445.75 Q75.367 1454.48 72.2883 1459.08 Q69.2328 1463.67 63.4226 1463.67 Q57.6125 1463.67 54.5338 1459.08 Q51.4782 1454.48 51.4782 1445.75 Q51.4782 1437 54.5338 1432.42 Q57.6125 1427.81 63.4226 1427.81 Z\" fill=\"#000000\" fill-rule=\"evenodd\" fill-opacity=\"1\" /><path clip-path=\"url(#clip550)\" d=\"M83.5845 1457.12 L88.4688 1457.12 L88.4688 1463 L83.5845 1463 L83.5845 1457.12 Z\" fill=\"#000000\" fill-rule=\"evenodd\" fill-opacity=\"1\" /><path clip-path=\"url(#clip550)\" d=\"M108.654 1431.51 Q105.043 1431.51 103.214 1435.08 Q101.409 1438.62 101.409 1445.75 Q101.409 1452.86 103.214 1456.42 Q105.043 1459.96 108.654 1459.96 Q112.288 1459.96 114.094 1456.42 Q115.922 1452.86 115.922 1445.75 Q115.922 1438.62 114.094 1435.08 Q112.288 1431.51 108.654 1431.51 M108.654 1427.81 Q114.464 1427.81 117.52 1432.42 Q120.598 1437 120.598 1445.75 Q120.598 1454.48 117.52 1459.08 Q114.464 1463.67 108.654 1463.67 Q102.844 1463.67 99.765 1459.08 Q96.7095 1454.48 96.7095 1445.75 Q96.7095 1437 99.765 1432.42 Q102.844 1427.81 108.654 1427.81 Z\" fill=\"#000000\" fill-rule=\"evenodd\" fill-opacity=\"1\" /><path clip-path=\"url(#clip550)\" d=\"M65.0198 1068.32 Q61.4087 1068.32 59.58 1071.88 Q57.7745 1075.42 57.7745 1082.55 Q57.7745 1089.66 59.58 1093.22 Q61.4087 1096.77 65.0198 1096.77 Q68.6541 1096.77 70.4596 1093.22 Q72.2883 1089.66 72.2883 1082.55 Q72.2883 1075.42 70.4596 1071.88 Q68.6541 1068.32 65.0198 1068.32 M65.0198 1064.61 Q70.83 1064.61 73.8855 1069.22 Q76.9642 1073.8 76.9642 1082.55 Q76.9642 1091.28 73.8855 1095.89 Q70.83 1100.47 65.0198 1100.47 Q59.2097 1100.47 56.131 1095.89 Q53.0754 1091.28 53.0754 1082.55 Q53.0754 1073.8 56.131 1069.22 Q59.2097 1064.61 65.0198 1064.61 Z\" fill=\"#000000\" fill-rule=\"evenodd\" fill-opacity=\"1\" /><path clip-path=\"url(#clip550)\" d=\"M85.1818 1093.92 L90.066 1093.92 L90.066 1099.8 L85.1818 1099.8 L85.1818 1093.92 Z\" fill=\"#000000\" fill-rule=\"evenodd\" fill-opacity=\"1\" /><path clip-path=\"url(#clip550)\" d=\"M104.279 1095.86 L120.598 1095.86 L120.598 1099.8 L98.6539 1099.8 L98.6539 1095.86 Q101.316 1093.11 105.899 1088.48 Q110.506 1083.83 111.686 1082.48 Q113.932 1079.96 114.811 1078.23 Q115.714 1076.47 115.714 1074.78 Q115.714 1072.02 113.77 1070.29 Q111.848 1068.55 108.746 1068.55 Q106.547 1068.55 104.094 1069.31 Q101.663 1070.08 98.8854 1071.63 L98.8854 1066.91 Q101.709 1065.77 104.163 1065.19 Q106.617 1064.61 108.654 1064.61 Q114.024 1064.61 117.219 1067.3 Q120.413 1069.98 120.413 1074.48 Q120.413 1076.6 119.603 1078.53 Q118.816 1080.42 116.709 1083.02 Q116.131 1083.69 113.029 1086.91 Q109.927 1090.1 104.279 1095.86 Z\" fill=\"#000000\" fill-rule=\"evenodd\" fill-opacity=\"1\" /><path clip-path=\"url(#clip550)\" d=\"M62.9365 705.121 Q59.3254 705.121 57.4967 708.686 Q55.6912 712.227 55.6912 719.357 Q55.6912 726.463 57.4967 730.028 Q59.3254 733.57 62.9365 733.57 Q66.5707 733.57 68.3763 730.028 Q70.205 726.463 70.205 719.357 Q70.205 712.227 68.3763 708.686 Q66.5707 705.121 62.9365 705.121 M62.9365 701.417 Q68.7467 701.417 71.8022 706.024 Q74.8809 710.607 74.8809 719.357 Q74.8809 728.084 71.8022 732.69 Q68.7467 737.274 62.9365 737.274 Q57.1264 737.274 54.0477 732.69 Q50.9921 728.084 50.9921 719.357 Q50.9921 710.607 54.0477 706.024 Q57.1264 701.417 62.9365 701.417 Z\" fill=\"#000000\" fill-rule=\"evenodd\" fill-opacity=\"1\" /><path clip-path=\"url(#clip550)\" d=\"M83.0984 730.723 L87.9827 730.723 L87.9827 736.602 L83.0984 736.602 L83.0984 730.723 Z\" fill=\"#000000\" fill-rule=\"evenodd\" fill-opacity=\"1\" /><path clip-path=\"url(#clip550)\" d=\"M111.015 706.116 L99.2095 724.565 L111.015 724.565 L111.015 706.116 M109.788 702.042 L115.668 702.042 L115.668 724.565 L120.598 724.565 L120.598 728.454 L115.668 728.454 L115.668 736.602 L111.015 736.602 L111.015 728.454 L95.4132 728.454 L95.4132 723.94 L109.788 702.042 Z\" fill=\"#000000\" fill-rule=\"evenodd\" fill-opacity=\"1\" /><path clip-path=\"url(#clip550)\" d=\"M63.2606 341.924 Q59.6495 341.924 57.8208 345.489 Q56.0152 349.031 56.0152 356.16 Q56.0152 363.267 57.8208 366.831 Q59.6495 370.373 63.2606 370.373 Q66.8948 370.373 68.7004 366.831 Q70.5291 363.267 70.5291 356.16 Q70.5291 349.031 68.7004 345.489 Q66.8948 341.924 63.2606 341.924 M63.2606 338.221 Q69.0707 338.221 72.1263 342.827 Q75.205 347.41 75.205 356.16 Q75.205 364.887 72.1263 369.494 Q69.0707 374.077 63.2606 374.077 Q57.4504 374.077 54.3717 369.494 Q51.3162 364.887 51.3162 356.16 Q51.3162 347.41 54.3717 342.827 Q57.4504 338.221 63.2606 338.221 Z\" fill=\"#000000\" fill-rule=\"evenodd\" fill-opacity=\"1\" /><path clip-path=\"url(#clip550)\" d=\"M83.4225 367.526 L88.3067 367.526 L88.3067 373.406 L83.4225 373.406 L83.4225 367.526 Z\" fill=\"#000000\" fill-rule=\"evenodd\" fill-opacity=\"1\" /><path clip-path=\"url(#clip550)\" d=\"M109.071 354.262 Q105.922 354.262 104.071 356.415 Q102.242 358.568 102.242 362.318 Q102.242 366.044 104.071 368.22 Q105.922 370.373 109.071 370.373 Q112.219 370.373 114.047 368.22 Q115.899 366.044 115.899 362.318 Q115.899 358.568 114.047 356.415 Q112.219 354.262 109.071 354.262 M118.353 339.609 L118.353 343.869 Q116.594 343.035 114.788 342.596 Q113.006 342.156 111.246 342.156 Q106.617 342.156 104.163 345.281 Q101.733 348.406 101.385 354.725 Q102.751 352.711 104.811 351.646 Q106.871 350.558 109.348 350.558 Q114.557 350.558 117.566 353.73 Q120.598 356.878 120.598 362.318 Q120.598 367.642 117.45 370.859 Q114.302 374.077 109.071 374.077 Q103.075 374.077 99.9039 369.494 Q96.7326 364.887 96.7326 356.16 Q96.7326 347.966 100.621 343.105 Q104.51 338.221 111.061 338.221 Q112.82 338.221 114.603 338.568 Q116.408 338.915 118.353 339.609 Z\" fill=\"#000000\" fill-rule=\"evenodd\" fill-opacity=\"1\" /><polyline clip-path=\"url(#clip552)\" style=\"stroke:#009af9; stroke-linecap:round; stroke-linejoin:round; stroke-width:4; stroke-opacity:1; fill:none\" points=\"\n",
       "  218.754,1445.72 228.39,1445.72 238.027,1445.72 247.663,1445.72 257.3,1445.72 266.936,1445.72 276.573,1445.72 286.209,1445.71 295.846,1445.71 305.482,1445.71 \n",
       "  315.119,1445.71 324.755,1445.71 334.392,1445.71 344.028,1445.71 353.665,1445.71 363.301,1445.71 372.938,1445.71 382.574,1445.7 392.211,1445.7 401.847,1445.69 \n",
       "  411.484,1445.69 421.12,1445.68 430.757,1445.67 440.393,1445.65 450.03,1445.64 459.666,1445.61 469.303,1445.58 478.939,1445.55 488.576,1445.51 498.212,1445.45 \n",
       "  507.849,1445.38 517.485,1445.3 527.122,1445.19 536.758,1445.06 546.395,1444.9 556.031,1444.7 565.668,1444.47 575.304,1444.18 584.941,1443.82 594.577,1443.4 \n",
       "  604.214,1442.89 613.85,1442.28 623.487,1441.55 633.123,1440.68 642.76,1439.65 652.396,1438.43 662.033,1436.99 671.669,1435.3 681.305,1433.32 690.942,1431.02 \n",
       "  700.578,1428.34 710.215,1425.24 719.851,1421.67 729.488,1417.56 739.124,1412.86 748.761,1407.49 758.397,1401.39 768.034,1394.48 777.67,1386.69 787.307,1377.93 \n",
       "  796.943,1368.13 806.58,1357.2 816.216,1345.06 825.853,1331.63 835.489,1316.83 845.126,1300.58 854.762,1282.83 864.399,1263.51 874.035,1242.57 883.672,1219.98 \n",
       "  893.308,1195.69 902.945,1169.72 912.581,1142.05 922.218,1112.71 931.854,1081.73 941.491,1049.19 951.127,1015.15 960.764,979.714 970.4,942.996 980.037,905.13 \n",
       "  989.673,866.267 999.31,826.574 1008.95,786.229 1018.58,745.422 1028.22,704.353 1037.86,663.223 1047.49,622.241 1057.13,581.614 1066.77,541.546 1076.4,502.237 \n",
       "  1086.04,463.879 1095.67,426.658 1105.31,390.745 1114.95,356.303 1124.58,323.481 1134.22,292.415 1143.86,263.228 1153.49,236.029 1163.13,210.915 1172.77,187.971 \n",
       "  1182.4,167.269 1192.04,148.873 1201.68,132.833 1211.31,119.194 1220.95,107.99 1230.59,99.2491 1240.22,92.9911 1249.86,89.2307 1259.5,87.9763 1269.13,89.2307 \n",
       "  1278.77,92.9911 1288.4,99.2491 1298.04,107.99 1307.68,119.194 1317.31,132.833 1326.95,148.873 1336.59,167.269 1346.22,187.971 1355.86,210.915 1365.5,236.029 \n",
       "  1375.13,263.228 1384.77,292.415 1394.41,323.481 1404.04,356.303 1413.68,390.745 1423.32,426.658 1432.95,463.879 1442.59,502.237 1452.23,541.546 1461.86,581.614 \n",
       "  1471.5,622.241 1481.13,663.223 1490.77,704.353 1500.41,745.422 1510.04,786.229 1519.68,826.574 1529.32,866.267 1538.95,905.13 1548.59,942.996 1558.23,979.714 \n",
       "  1567.86,1015.15 1577.5,1049.19 1587.14,1081.73 1596.77,1112.71 1606.41,1142.05 1616.05,1169.72 1625.68,1195.69 1635.32,1219.97 1644.96,1242.57 1654.59,1263.51 \n",
       "  1664.23,1282.83 1673.86,1300.58 1683.5,1316.83 1693.14,1331.63 1702.77,1345.06 1712.41,1357.2 1722.05,1368.13 1731.68,1377.93 1741.32,1386.69 1750.96,1394.48 \n",
       "  1760.59,1401.39 1770.23,1407.49 1779.87,1412.86 1789.5,1417.56 1799.14,1421.67 1808.78,1425.24 1818.41,1428.34 1828.05,1431.02 1837.69,1433.32 1847.32,1435.3 \n",
       "  1856.96,1436.99 1866.59,1438.43 1876.23,1439.65 1885.87,1440.68 1895.5,1441.55 1905.14,1442.28 1914.78,1442.89 1924.41,1443.4 1934.05,1443.82 1943.69,1444.18 \n",
       "  1953.32,1444.47 1962.96,1444.7 1972.6,1444.9 1982.23,1445.06 1991.87,1445.19 2001.51,1445.3 2011.14,1445.38 2020.78,1445.45 2030.42,1445.51 2040.05,1445.55 \n",
       "  2049.69,1445.58 2059.32,1445.61 2068.96,1445.64 2078.6,1445.65 2088.23,1445.67 2097.87,1445.68 2107.51,1445.69 2117.14,1445.69 2126.78,1445.7 2136.42,1445.7 \n",
       "  2146.05,1445.71 2155.69,1445.71 2165.33,1445.71 2174.96,1445.71 2184.6,1445.71 2194.24,1445.71 2203.87,1445.71 2213.51,1445.71 2223.15,1445.71 2232.78,1445.71 \n",
       "  2242.42,1445.72 2252.05,1445.72 2261.69,1445.72 2271.33,1445.72 2280.96,1445.72 2290.6,1445.72 \n",
       "  \"/>\n",
       "<polyline clip-path=\"url(#clip552)\" style=\"stroke:#e26f46; stroke-linecap:round; stroke-linejoin:round; stroke-width:4; stroke-opacity:1; fill:none\" points=\"\n",
       "  218.754,1445.72 228.39,1445.72 238.027,1445.72 247.663,1445.72 257.3,1445.72 266.936,1445.72 276.573,1445.72 286.209,1445.72 295.846,1445.72 305.482,1445.72 \n",
       "  315.119,1445.72 324.755,1445.72 334.392,1445.72 344.028,1445.72 353.665,1445.72 363.301,1445.72 372.938,1445.72 382.574,1445.72 392.211,1445.72 401.847,1445.72 \n",
       "  411.484,1445.72 421.12,1445.72 430.757,1445.72 440.393,1445.72 450.03,1445.72 459.666,1445.72 469.303,1445.72 478.939,1445.72 488.576,1445.72 498.212,1445.72 \n",
       "  507.849,1445.72 517.485,1445.72 527.122,1445.72 536.758,1445.72 546.395,1445.72 556.031,1445.72 565.668,1445.72 575.304,1445.72 584.941,1445.72 594.577,1445.72 \n",
       "  604.214,1445.72 613.85,1445.72 623.487,1445.72 633.123,1445.72 642.76,1445.72 652.396,1445.72 662.033,1445.72 671.669,1445.72 681.305,1445.72 690.942,1445.72 \n",
       "  700.578,1445.72 710.215,1445.72 719.851,1445.72 729.488,1445.72 739.124,1445.72 748.761,1445.72 758.397,1445.72 768.034,1445.72 777.67,1445.72 787.307,1445.72 \n",
       "  796.943,1445.72 806.58,1445.72 816.216,1445.72 825.853,1445.72 835.489,1445.72 845.126,1445.72 854.762,1445.72 864.399,1445.72 874.035,1445.72 883.672,1445.72 \n",
       "  893.308,1445.72 902.945,1445.72 912.581,1445.72 922.218,1445.72 931.854,1445.72 941.491,1445.72 951.127,1445.72 960.764,1445.72 970.4,1445.72 980.037,1445.72 \n",
       "  989.673,1445.72 999.31,1445.72 1008.95,1445.72 1018.58,1445.72 1028.22,1445.72 1037.86,1445.72 1047.49,1445.72 1057.13,1445.72 1066.77,1445.72 1076.4,1445.72 \n",
       "  1086.04,1445.72 1095.67,1445.72 1105.31,1445.72 1114.95,1445.72 1124.58,1445.72 1134.22,1445.72 1143.86,1445.72 1153.49,1445.72 1163.13,1445.72 1172.77,1445.72 \n",
       "  1182.4,1445.72 1192.04,1445.72 1201.68,1445.72 1211.31,1445.72 1220.95,1445.72 1230.59,1445.72 1240.22,1445.72 1249.86,1445.72 1259.5,1445.72 1269.13,1445.72 \n",
       "  1278.77,1445.72 1288.4,1445.72 1298.04,1445.72 1307.68,1445.72 1317.31,1445.72 1326.95,1445.72 1336.59,1445.72 1346.22,1445.72 1355.86,1445.72 1365.5,1445.72 \n",
       "  1375.13,1445.72 1384.77,1445.72 1394.41,1445.72 1404.04,1445.72 1413.68,1445.72 1423.32,1445.72 1432.95,1445.72 1442.59,1445.72 1452.23,1445.72 1461.86,1445.72 \n",
       "  1471.5,1445.72 1481.13,1445.72 1490.77,1445.72 1500.41,1445.72 1510.04,1445.72 1519.68,1445.72 1529.32,1445.72 1538.95,1445.72 1548.59,1445.72 1558.23,1445.72 \n",
       "  1567.86,1445.72 1577.5,1445.72 1587.14,1445.72 1596.77,1445.72 1606.41,1445.72 1616.05,1445.72 1625.68,1445.72 1635.32,1445.72 1644.96,1445.72 1654.59,1445.72 \n",
       "  1664.23,1445.72 1673.86,1445.72 1683.5,1445.72 1693.14,1445.72 1702.77,1445.72 1712.41,1445.72 1722.05,1445.72 1731.68,1445.72 1741.32,1445.72 1750.96,1445.72 \n",
       "  1760.59,1445.72 1770.23,1445.72 1779.87,1445.72 1789.5,1445.72 1799.14,1445.72 1808.78,1445.72 1818.41,1445.72 1828.05,1445.72 1837.69,1445.72 1847.32,1445.72 \n",
       "  1856.96,1445.72 1866.59,1445.72 1876.23,1445.72 1885.87,1445.72 1895.5,1445.72 1905.14,1445.72 1914.78,1445.72 1924.41,1445.72 1934.05,1445.72 1943.69,1445.72 \n",
       "  1953.32,1445.72 1962.96,1445.72 1972.6,1445.72 1982.23,1445.72 1991.87,1445.72 2001.51,1445.72 2011.14,1445.72 2020.78,1445.72 2030.42,1445.72 2040.05,1445.72 \n",
       "  2049.69,1445.72 2059.32,1445.72 2068.96,1445.72 2078.6,1445.72 2088.23,1445.72 2097.87,1445.72 2107.51,1445.72 2117.14,1445.72 2126.78,1445.72 2136.42,1445.72 \n",
       "  2146.05,1445.72 2155.69,1445.72 2165.33,1445.72 2174.96,1445.72 2184.6,1445.72 2194.24,1445.72 2203.87,1445.72 2213.51,1445.72 2223.15,1445.72 2232.78,1445.72 \n",
       "  2242.42,1445.72 2252.05,1445.72 2261.69,1445.72 2271.33,1445.72 2280.96,1445.72 2290.6,1445.72 \n",
       "  \"/>\n",
       "<polyline clip-path=\"url(#clip552)\" style=\"stroke:#3da44d; stroke-linecap:round; stroke-linejoin:round; stroke-width:4; stroke-opacity:1; fill:none\" points=\"\n",
       "  218.754,1445.72 228.39,1445.72 238.027,1445.72 247.663,1445.72 257.3,1445.72 266.936,1445.72 276.573,1445.72 286.209,1445.72 295.846,1445.72 305.482,1445.72 \n",
       "  315.119,1445.72 324.755,1445.72 334.392,1445.72 344.028,1445.72 353.665,1445.72 363.301,1445.72 372.938,1445.72 382.574,1445.72 392.211,1445.72 401.847,1445.72 \n",
       "  411.484,1445.72 421.12,1445.72 430.757,1445.72 440.393,1445.72 450.03,1445.72 459.666,1445.72 469.303,1445.72 478.939,1445.72 488.576,1445.72 498.212,1445.72 \n",
       "  507.849,1445.72 517.485,1445.72 527.122,1445.72 536.758,1445.72 546.395,1445.72 556.031,1445.72 565.668,1445.71 575.304,1445.71 584.941,1445.71 594.577,1445.71 \n",
       "  604.214,1445.71 613.85,1445.71 623.487,1445.71 633.123,1445.7 642.76,1445.7 652.396,1445.69 662.033,1445.67 671.669,1445.66 681.305,1445.63 690.942,1445.6 \n",
       "  700.578,1445.55 710.215,1445.48 719.851,1445.4 729.488,1445.28 739.124,1445.12 748.761,1444.91 758.397,1444.63 768.034,1444.27 777.67,1443.8 787.307,1443.19 \n",
       "  796.943,1442.4 806.58,1441.4 816.216,1440.14 825.853,1438.55 835.489,1436.57 845.126,1434.12 854.762,1431.11 864.399,1427.43 874.035,1422.99 883.672,1417.65 \n",
       "  893.308,1411.29 902.945,1403.77 912.581,1394.94 922.218,1384.65 931.854,1372.76 941.491,1359.13 951.127,1343.63 960.764,1326.13 970.4,1306.55 980.037,1284.79 \n",
       "  989.673,1260.82 999.31,1234.63 1008.95,1206.22 1018.58,1175.66 1028.22,1143.06 1037.86,1108.55 1047.49,1072.3 1057.13,1034.55 1066.77,995.534 1076.4,955.539 \n",
       "  1086.04,914.872 1095.67,873.861 1105.31,832.845 1114.95,792.175 1124.58,752.202 1134.22,713.274 1143.86,675.732 1153.49,639.903 1163.13,606.097 1172.77,574.605 \n",
       "  1182.4,545.694 1192.04,519.605 1201.68,496.555 1211.31,476.732 1220.95,460.294 1230.59,447.374 1240.22,438.072 1249.86,432.462 1259.5,430.587 1269.13,432.462 \n",
       "  1278.77,438.072 1288.4,447.374 1298.04,460.294 1307.68,476.732 1317.31,496.555 1326.95,519.605 1336.59,545.694 1346.22,574.605 1355.86,606.097 1365.5,639.903 \n",
       "  1375.13,675.732 1384.77,713.274 1394.41,752.202 1404.04,792.175 1413.68,832.845 1423.32,873.861 1432.95,914.872 1442.59,955.539 1452.23,995.534 1461.86,1034.55 \n",
       "  1471.5,1072.3 1481.13,1108.55 1490.77,1143.06 1500.41,1175.66 1510.04,1206.22 1519.68,1234.63 1529.32,1260.82 1538.95,1284.79 1548.59,1306.55 1558.23,1326.13 \n",
       "  1567.86,1343.63 1577.5,1359.13 1587.14,1372.76 1596.77,1384.65 1606.41,1394.94 1616.05,1403.77 1625.68,1411.29 1635.32,1417.65 1644.96,1422.99 1654.59,1427.43 \n",
       "  1664.23,1431.11 1673.86,1434.12 1683.5,1436.57 1693.14,1438.55 1702.77,1440.14 1712.41,1441.4 1722.05,1442.4 1731.68,1443.19 1741.32,1443.8 1750.96,1444.27 \n",
       "  1760.59,1444.63 1770.23,1444.91 1779.87,1445.12 1789.5,1445.28 1799.14,1445.4 1808.78,1445.48 1818.41,1445.55 1828.05,1445.6 1837.69,1445.63 1847.32,1445.66 \n",
       "  1856.96,1445.67 1866.59,1445.69 1876.23,1445.7 1885.87,1445.7 1895.5,1445.71 1905.14,1445.71 1914.78,1445.71 1924.41,1445.71 1934.05,1445.71 1943.69,1445.71 \n",
       "  1953.32,1445.71 1962.96,1445.72 1972.6,1445.72 1982.23,1445.72 1991.87,1445.72 2001.51,1445.72 2011.14,1445.72 2020.78,1445.72 2030.42,1445.72 2040.05,1445.72 \n",
       "  2049.69,1445.72 2059.32,1445.72 2068.96,1445.72 2078.6,1445.72 2088.23,1445.72 2097.87,1445.72 2107.51,1445.72 2117.14,1445.72 2126.78,1445.72 2136.42,1445.72 \n",
       "  2146.05,1445.72 2155.69,1445.72 2165.33,1445.72 2174.96,1445.72 2184.6,1445.72 2194.24,1445.72 2203.87,1445.72 2213.51,1445.72 2223.15,1445.72 2232.78,1445.72 \n",
       "  2242.42,1445.72 2252.05,1445.72 2261.69,1445.72 2271.33,1445.72 2280.96,1445.72 2290.6,1445.72 \n",
       "  \"/>\n",
       "<path clip-path=\"url(#clip550)\" d=\"\n",
       "M229.803 302.578 L627.636 302.578 L627.636 95.2176 L229.803 95.2176  Z\n",
       "  \" fill=\"#ffffff\" fill-rule=\"evenodd\" fill-opacity=\"1\"/>\n",
       "<polyline clip-path=\"url(#clip550)\" style=\"stroke:#000000; stroke-linecap:round; stroke-linejoin:round; stroke-width:4; stroke-opacity:1; fill:none\" points=\"\n",
       "  229.803,302.578 627.636,302.578 627.636,95.2176 229.803,95.2176 229.803,302.578 \n",
       "  \"/>\n",
       "<polyline clip-path=\"url(#clip550)\" style=\"stroke:#009af9; stroke-linecap:round; stroke-linejoin:round; stroke-width:4; stroke-opacity:1; fill:none\" points=\"\n",
       "  254.205,147.058 400.616,147.058 \n",
       "  \"/>\n",
       "<path clip-path=\"url(#clip550)\" d=\"M440.203 142.393 Q439.485 141.977 438.629 141.791 Q437.795 141.583 436.777 141.583 Q433.166 141.583 431.221 143.944 Q429.3 146.282 429.3 150.68 L429.3 164.338 L425.018 164.338 L425.018 138.412 L429.3 138.412 L429.3 142.44 Q430.642 140.078 432.795 138.944 Q434.948 137.787 438.027 137.787 Q438.467 137.787 438.999 137.856 Q439.531 137.903 440.179 138.018 L440.203 142.393 Z\" fill=\"#000000\" fill-rule=\"evenodd\" fill-opacity=\"1\" /><path clip-path=\"url(#clip550)\" d=\"M465.804 150.31 L465.804 152.393 L446.221 152.393 Q446.499 156.791 448.86 159.106 Q451.244 161.398 455.48 161.398 Q457.934 161.398 460.226 160.796 Q462.54 160.194 464.809 158.99 L464.809 163.018 Q462.517 163.99 460.11 164.5 Q457.703 165.009 455.226 165.009 Q449.022 165.009 445.388 161.398 Q441.777 157.787 441.777 151.629 Q441.777 145.264 445.203 141.537 Q448.652 137.787 454.485 137.787 Q459.716 137.787 462.749 141.166 Q465.804 144.523 465.804 150.31 M461.545 149.06 Q461.499 145.565 459.578 143.481 Q457.679 141.398 454.531 141.398 Q450.966 141.398 448.814 143.412 Q446.684 145.426 446.36 149.083 L461.545 149.06 Z\" fill=\"#000000\" fill-rule=\"evenodd\" fill-opacity=\"1\" /><path clip-path=\"url(#clip550)\" d=\"M484.577 151.305 Q479.415 151.305 477.425 152.486 Q475.434 153.666 475.434 156.514 Q475.434 158.782 476.915 160.125 Q478.42 161.444 480.989 161.444 Q484.531 161.444 486.661 158.944 Q488.813 156.421 488.813 152.254 L488.813 151.305 L484.577 151.305 M493.073 149.546 L493.073 164.338 L488.813 164.338 L488.813 160.402 Q487.355 162.763 485.179 163.898 Q483.003 165.009 479.855 165.009 Q475.874 165.009 473.513 162.787 Q471.175 160.541 471.175 156.791 Q471.175 152.416 474.091 150.194 Q477.031 147.972 482.841 147.972 L488.813 147.972 L488.813 147.555 Q488.813 144.615 486.869 143.018 Q484.948 141.398 481.452 141.398 Q479.23 141.398 477.124 141.93 Q475.017 142.463 473.073 143.527 L473.073 139.592 Q475.411 138.69 477.61 138.25 Q479.809 137.787 481.892 137.787 Q487.517 137.787 490.295 140.703 Q493.073 143.62 493.073 149.546 Z\" fill=\"#000000\" fill-rule=\"evenodd\" fill-opacity=\"1\" /><path clip-path=\"url(#clip550)\" d=\"M501.846 128.319 L506.105 128.319 L506.105 164.338 L501.846 164.338 L501.846 128.319 Z\" fill=\"#000000\" fill-rule=\"evenodd\" fill-opacity=\"1\" /><path clip-path=\"url(#clip550)\" d=\"M525.248 128.366 Q522.147 133.69 520.642 138.898 Q519.137 144.106 519.137 149.453 Q519.137 154.801 520.642 160.055 Q522.17 165.287 525.248 170.588 L521.545 170.588 Q518.073 165.148 516.336 159.893 Q514.624 154.639 514.624 149.453 Q514.624 144.291 516.336 139.06 Q518.049 133.828 521.545 128.366 L525.248 128.366 Z\" fill=\"#000000\" fill-rule=\"evenodd\" fill-opacity=\"1\" /><path clip-path=\"url(#clip550)\" d=\"M542.494 164.916 Q537.147 164.06 534.67 161.814 Q531.637 159.06 531.637 153.435 L531.637 138.412 L535.943 138.412 L535.943 153.273 Q535.943 157.509 537.91 159.268 Q539.623 160.796 542.494 161.12 L542.494 138.412 L546.73 138.412 L546.73 161.097 Q549.762 160.773 551.313 159.245 Q553.281 157.301 553.281 153.25 L553.281 138.412 L557.586 138.412 L557.586 153.412 Q557.586 159.245 554.554 161.791 Q551.822 164.083 546.73 164.893 L546.73 174.199 L542.494 174.199 L542.494 164.916 Z\" fill=\"#000000\" fill-rule=\"evenodd\" fill-opacity=\"1\" /><path clip-path=\"url(#clip550)\" d=\"M564.114 128.366 L567.818 128.366 Q571.29 133.828 573.003 139.06 Q574.739 144.291 574.739 149.453 Q574.739 154.639 573.003 159.893 Q571.29 165.148 567.818 170.588 L564.114 170.588 Q567.193 165.287 568.697 160.055 Q570.225 154.801 570.225 149.453 Q570.225 144.106 568.697 138.898 Q567.193 133.69 564.114 128.366 Z\" fill=\"#000000\" fill-rule=\"evenodd\" fill-opacity=\"1\" /><polyline clip-path=\"url(#clip550)\" style=\"stroke:#e26f46; stroke-linecap:round; stroke-linejoin:round; stroke-width:4; stroke-opacity:1; fill:none\" points=\"\n",
       "  254.205,198.898 400.616,198.898 \n",
       "  \"/>\n",
       "<path clip-path=\"url(#clip550)\" d=\"M425.018 190.252 L429.277 190.252 L429.277 216.178 L425.018 216.178 L425.018 190.252 M425.018 180.159 L429.277 180.159 L429.277 185.553 L425.018 185.553 L425.018 180.159 Z\" fill=\"#000000\" fill-rule=\"evenodd\" fill-opacity=\"1\" /><path clip-path=\"url(#clip550)\" d=\"M458.374 195.229 Q459.971 192.358 462.193 190.993 Q464.415 189.627 467.425 189.627 Q471.476 189.627 473.675 192.474 Q475.874 195.298 475.874 200.529 L475.874 216.178 L471.591 216.178 L471.591 200.668 Q471.591 196.942 470.272 195.136 Q468.952 193.33 466.244 193.33 Q462.934 193.33 461.013 195.53 Q459.091 197.729 459.091 201.525 L459.091 216.178 L454.809 216.178 L454.809 200.668 Q454.809 196.918 453.49 195.136 Q452.17 193.33 449.416 193.33 Q446.152 193.33 444.23 195.553 Q442.309 197.752 442.309 201.525 L442.309 216.178 L438.027 216.178 L438.027 190.252 L442.309 190.252 L442.309 194.28 Q443.767 191.895 445.804 190.761 Q447.841 189.627 450.642 189.627 Q453.466 189.627 455.434 191.062 Q457.425 192.497 458.374 195.229 Z\" fill=\"#000000\" fill-rule=\"evenodd\" fill-opacity=\"1\" /><path clip-path=\"url(#clip550)\" d=\"M496.151 203.145 Q490.989 203.145 488.999 204.326 Q487.008 205.506 487.008 208.354 Q487.008 210.622 488.489 211.965 Q489.994 213.284 492.563 213.284 Q496.105 213.284 498.235 210.784 Q500.387 208.261 500.387 204.094 L500.387 203.145 L496.151 203.145 M504.647 201.386 L504.647 216.178 L500.387 216.178 L500.387 212.242 Q498.929 214.603 496.753 215.738 Q494.577 216.849 491.429 216.849 Q487.448 216.849 485.087 214.627 Q482.749 212.381 482.749 208.631 Q482.749 204.256 485.665 202.034 Q488.605 199.812 494.415 199.812 L500.387 199.812 L500.387 199.395 Q500.387 196.455 498.443 194.858 Q496.522 193.238 493.026 193.238 Q490.804 193.238 488.698 193.77 Q486.591 194.303 484.647 195.367 L484.647 191.432 Q486.985 190.53 489.184 190.09 Q491.383 189.627 493.466 189.627 Q499.091 189.627 501.869 192.543 Q504.647 195.46 504.647 201.386 Z\" fill=\"#000000\" fill-rule=\"evenodd\" fill-opacity=\"1\" /><path clip-path=\"url(#clip550)\" d=\"M530.48 202.914 Q530.48 198.284 528.559 195.738 Q526.66 193.192 523.211 193.192 Q519.786 193.192 517.864 195.738 Q515.966 198.284 515.966 202.914 Q515.966 207.52 517.864 210.066 Q519.786 212.613 523.211 212.613 Q526.66 212.613 528.559 210.066 Q530.48 207.52 530.48 202.914 M534.739 212.96 Q534.739 219.58 531.799 222.798 Q528.86 226.039 522.795 226.039 Q520.549 226.039 518.559 225.691 Q516.568 225.367 514.693 224.673 L514.693 220.529 Q516.568 221.548 518.397 222.034 Q520.225 222.52 522.123 222.52 Q526.313 222.52 528.397 220.321 Q530.48 218.145 530.48 213.724 L530.48 211.617 Q529.16 213.909 527.1 215.043 Q525.04 216.178 522.17 216.178 Q517.401 216.178 514.485 212.543 Q511.568 208.909 511.568 202.914 Q511.568 196.895 514.485 193.261 Q517.401 189.627 522.17 189.627 Q525.04 189.627 527.1 190.761 Q529.16 191.895 530.48 194.187 L530.48 190.252 L534.739 190.252 L534.739 212.96 Z\" fill=\"#000000\" fill-rule=\"evenodd\" fill-opacity=\"1\" /><path clip-path=\"url(#clip550)\" d=\"M553.744 180.206 Q550.642 185.53 549.137 190.738 Q547.633 195.946 547.633 201.293 Q547.633 206.641 549.137 211.895 Q550.665 217.127 553.744 222.428 L550.04 222.428 Q546.568 216.988 544.832 211.733 Q543.119 206.479 543.119 201.293 Q543.119 196.131 544.832 190.9 Q546.545 185.668 550.04 180.206 L553.744 180.206 Z\" fill=\"#000000\" fill-rule=\"evenodd\" fill-opacity=\"1\" /><path clip-path=\"url(#clip550)\" d=\"M570.989 216.756 Q565.642 215.9 563.165 213.654 Q560.133 210.9 560.133 205.275 L560.133 190.252 L564.438 190.252 L564.438 205.113 Q564.438 209.349 566.406 211.108 Q568.119 212.636 570.989 212.96 L570.989 190.252 L575.225 190.252 L575.225 212.937 Q578.257 212.613 579.808 211.085 Q581.776 209.141 581.776 205.09 L581.776 190.252 L586.081 190.252 L586.081 205.252 Q586.081 211.085 583.049 213.631 Q580.318 215.923 575.225 216.733 L575.225 226.039 L570.989 226.039 L570.989 216.756 Z\" fill=\"#000000\" fill-rule=\"evenodd\" fill-opacity=\"1\" /><path clip-path=\"url(#clip550)\" d=\"M592.609 180.206 L596.313 180.206 Q599.785 185.668 601.498 190.9 Q603.234 196.131 603.234 201.293 Q603.234 206.479 601.498 211.733 Q599.785 216.988 596.313 222.428 L592.609 222.428 Q595.688 217.127 597.193 211.895 Q598.72 206.641 598.72 201.293 Q598.72 195.946 597.193 190.738 Q595.688 185.53 592.609 180.206 Z\" fill=\"#000000\" fill-rule=\"evenodd\" fill-opacity=\"1\" /><polyline clip-path=\"url(#clip550)\" style=\"stroke:#3da44d; stroke-linecap:round; stroke-linejoin:round; stroke-width:4; stroke-opacity:1; fill:none\" points=\"\n",
       "  254.205,250.738 400.616,250.738 \n",
       "  \"/>\n",
       "<path clip-path=\"url(#clip550)\" d=\"M427.101 246.721 Q428.513 244.36 432.008 242.277 Q433.374 241.467 437.587 241.467 Q442.309 241.467 445.249 245.217 Q448.212 248.967 448.212 255.078 Q448.212 261.189 445.249 264.939 Q442.309 268.689 437.587 268.689 Q434.74 268.689 432.68 267.578 Q430.642 266.443 429.3 264.129 L429.3 277.879 L425.018 277.879 L425.018 255.309 Q425.018 249.962 427.101 246.721 M443.791 255.078 Q443.791 250.379 441.846 247.717 Q439.925 245.032 436.545 245.032 Q433.166 245.032 431.221 247.717 Q429.3 250.379 429.3 255.078 Q429.3 259.777 431.221 262.462 Q433.166 265.124 436.545 265.124 Q439.925 265.124 441.846 262.462 Q443.791 259.777 443.791 255.078 Z\" fill=\"#000000\" fill-rule=\"evenodd\" fill-opacity=\"1\" /></svg>\n"
      ],
      "image/svg+xml": [
       "<?xml version=\"1.0\" encoding=\"utf-8\"?>\n",
       "<svg xmlns=\"http://www.w3.org/2000/svg\" xmlns:xlink=\"http://www.w3.org/1999/xlink\" width=\"600\" height=\"400\" viewBox=\"0 0 2400 1600\">\n",
       "<defs>\n",
       "  <clipPath id=\"clip520\">\n",
       "    <rect x=\"0\" y=\"0\" width=\"2400\" height=\"1600\"/>\n",
       "  </clipPath>\n",
       "</defs>\n",
       "<path clip-path=\"url(#clip520)\" d=\"\n",
       "M0 1600 L2400 1600 L2400 0 L0 0  Z\n",
       "  \" fill=\"#ffffff\" fill-rule=\"evenodd\" fill-opacity=\"1\"/>\n",
       "<defs>\n",
       "  <clipPath id=\"clip521\">\n",
       "    <rect x=\"480\" y=\"0\" width=\"1681\" height=\"1600\"/>\n",
       "  </clipPath>\n",
       "</defs>\n",
       "<path clip-path=\"url(#clip520)\" d=\"\n",
       "M156.598 1486.45 L2352.76 1486.45 L2352.76 47.2441 L156.598 47.2441  Z\n",
       "  \" fill=\"#ffffff\" fill-rule=\"evenodd\" fill-opacity=\"1\"/>\n",
       "<defs>\n",
       "  <clipPath id=\"clip522\">\n",
       "    <rect x=\"156\" y=\"47\" width=\"2197\" height=\"1440\"/>\n",
       "  </clipPath>\n",
       "</defs>\n",
       "<polyline clip-path=\"url(#clip522)\" style=\"stroke:#000000; stroke-linecap:round; stroke-linejoin:round; stroke-width:2; stroke-opacity:0.1; fill:none\" points=\"\n",
       "  218.754,1486.45 218.754,47.2441 \n",
       "  \"/>\n",
       "<polyline clip-path=\"url(#clip522)\" style=\"stroke:#000000; stroke-linecap:round; stroke-linejoin:round; stroke-width:2; stroke-opacity:0.1; fill:none\" points=\"\n",
       "  739.124,1486.45 739.124,47.2441 \n",
       "  \"/>\n",
       "<polyline clip-path=\"url(#clip522)\" style=\"stroke:#000000; stroke-linecap:round; stroke-linejoin:round; stroke-width:2; stroke-opacity:0.1; fill:none\" points=\"\n",
       "  1259.5,1486.45 1259.5,47.2441 \n",
       "  \"/>\n",
       "<polyline clip-path=\"url(#clip522)\" style=\"stroke:#000000; stroke-linecap:round; stroke-linejoin:round; stroke-width:2; stroke-opacity:0.1; fill:none\" points=\"\n",
       "  1779.87,1486.45 1779.87,47.2441 \n",
       "  \"/>\n",
       "<polyline clip-path=\"url(#clip522)\" style=\"stroke:#000000; stroke-linecap:round; stroke-linejoin:round; stroke-width:2; stroke-opacity:0.1; fill:none\" points=\"\n",
       "  2300.24,1486.45 2300.24,47.2441 \n",
       "  \"/>\n",
       "<polyline clip-path=\"url(#clip520)\" style=\"stroke:#000000; stroke-linecap:round; stroke-linejoin:round; stroke-width:4; stroke-opacity:1; fill:none\" points=\"\n",
       "  156.598,1486.45 2352.76,1486.45 \n",
       "  \"/>\n",
       "<polyline clip-path=\"url(#clip520)\" style=\"stroke:#000000; stroke-linecap:round; stroke-linejoin:round; stroke-width:4; stroke-opacity:1; fill:none\" points=\"\n",
       "  218.754,1486.45 218.754,1467.55 \n",
       "  \"/>\n",
       "<polyline clip-path=\"url(#clip520)\" style=\"stroke:#000000; stroke-linecap:round; stroke-linejoin:round; stroke-width:4; stroke-opacity:1; fill:none\" points=\"\n",
       "  739.124,1486.45 739.124,1467.55 \n",
       "  \"/>\n",
       "<polyline clip-path=\"url(#clip520)\" style=\"stroke:#000000; stroke-linecap:round; stroke-linejoin:round; stroke-width:4; stroke-opacity:1; fill:none\" points=\"\n",
       "  1259.5,1486.45 1259.5,1467.55 \n",
       "  \"/>\n",
       "<polyline clip-path=\"url(#clip520)\" style=\"stroke:#000000; stroke-linecap:round; stroke-linejoin:round; stroke-width:4; stroke-opacity:1; fill:none\" points=\"\n",
       "  1779.87,1486.45 1779.87,1467.55 \n",
       "  \"/>\n",
       "<polyline clip-path=\"url(#clip520)\" style=\"stroke:#000000; stroke-linecap:round; stroke-linejoin:round; stroke-width:4; stroke-opacity:1; fill:none\" points=\"\n",
       "  2300.24,1486.45 2300.24,1467.55 \n",
       "  \"/>\n",
       "<path clip-path=\"url(#clip520)\" d=\"M196.138 1517.37 Q192.527 1517.37 190.698 1520.93 Q188.893 1524.47 188.893 1531.6 Q188.893 1538.71 190.698 1542.27 Q192.527 1545.82 196.138 1545.82 Q199.772 1545.82 201.578 1542.27 Q203.407 1538.71 203.407 1531.6 Q203.407 1524.47 201.578 1520.93 Q199.772 1517.37 196.138 1517.37 M196.138 1513.66 Q201.948 1513.66 205.004 1518.27 Q208.082 1522.85 208.082 1531.6 Q208.082 1540.33 205.004 1544.94 Q201.948 1549.52 196.138 1549.52 Q190.328 1549.52 187.249 1544.94 Q184.194 1540.33 184.194 1531.6 Q184.194 1522.85 187.249 1518.27 Q190.328 1513.66 196.138 1513.66 Z\" fill=\"#000000\" fill-rule=\"evenodd\" fill-opacity=\"1\" /><path clip-path=\"url(#clip520)\" d=\"M216.3 1542.97 L221.184 1542.97 L221.184 1548.85 L216.3 1548.85 L216.3 1542.97 Z\" fill=\"#000000\" fill-rule=\"evenodd\" fill-opacity=\"1\" /><path clip-path=\"url(#clip520)\" d=\"M241.369 1517.37 Q237.758 1517.37 235.929 1520.93 Q234.124 1524.47 234.124 1531.6 Q234.124 1538.71 235.929 1542.27 Q237.758 1545.82 241.369 1545.82 Q245.003 1545.82 246.809 1542.27 Q248.638 1538.71 248.638 1531.6 Q248.638 1524.47 246.809 1520.93 Q245.003 1517.37 241.369 1517.37 M241.369 1513.66 Q247.179 1513.66 250.235 1518.27 Q253.314 1522.85 253.314 1531.6 Q253.314 1540.33 250.235 1544.94 Q247.179 1549.52 241.369 1549.52 Q235.559 1549.52 232.48 1544.94 Q229.425 1540.33 229.425 1531.6 Q229.425 1522.85 232.48 1518.27 Q235.559 1513.66 241.369 1513.66 Z\" fill=\"#000000\" fill-rule=\"evenodd\" fill-opacity=\"1\" /><path clip-path=\"url(#clip520)\" d=\"M710.861 1544.91 L727.18 1544.91 L727.18 1548.85 L705.236 1548.85 L705.236 1544.91 Q707.898 1542.16 712.481 1537.53 Q717.088 1532.88 718.268 1531.53 Q720.513 1529.01 721.393 1527.27 Q722.296 1525.51 722.296 1523.82 Q722.296 1521.07 720.351 1519.33 Q718.43 1517.6 715.328 1517.6 Q713.129 1517.6 710.676 1518.36 Q708.245 1519.13 705.467 1520.68 L705.467 1515.95 Q708.291 1514.82 710.745 1514.24 Q713.199 1513.66 715.236 1513.66 Q720.606 1513.66 723.8 1516.35 Q726.995 1519.03 726.995 1523.52 Q726.995 1525.65 726.185 1527.57 Q725.398 1529.47 723.291 1532.07 Q722.713 1532.74 719.611 1535.95 Q716.509 1539.15 710.861 1544.91 Z\" fill=\"#000000\" fill-rule=\"evenodd\" fill-opacity=\"1\" /><path clip-path=\"url(#clip520)\" d=\"M736.995 1542.97 L741.879 1542.97 L741.879 1548.85 L736.995 1548.85 L736.995 1542.97 Z\" fill=\"#000000\" fill-rule=\"evenodd\" fill-opacity=\"1\" /><path clip-path=\"url(#clip520)\" d=\"M752.111 1514.29 L770.467 1514.29 L770.467 1518.22 L756.393 1518.22 L756.393 1526.7 Q757.411 1526.35 758.43 1526.19 Q759.448 1526 760.467 1526 Q766.254 1526 769.634 1529.17 Q773.013 1532.34 773.013 1537.76 Q773.013 1543.34 769.541 1546.44 Q766.069 1549.52 759.749 1549.52 Q757.573 1549.52 755.305 1549.15 Q753.06 1548.78 750.652 1548.04 L750.652 1543.34 Q752.736 1544.47 754.958 1545.03 Q757.18 1545.58 759.657 1545.58 Q763.661 1545.58 765.999 1543.48 Q768.337 1541.37 768.337 1537.76 Q768.337 1534.15 765.999 1532.04 Q763.661 1529.94 759.657 1529.94 Q757.782 1529.94 755.907 1530.35 Q754.055 1530.77 752.111 1531.65 L752.111 1514.29 Z\" fill=\"#000000\" fill-rule=\"evenodd\" fill-opacity=\"1\" /><path clip-path=\"url(#clip520)\" d=\"M1226.66 1514.29 L1245.02 1514.29 L1245.02 1518.22 L1230.94 1518.22 L1230.94 1526.7 Q1231.96 1526.35 1232.98 1526.19 Q1234 1526 1235.02 1526 Q1240.8 1526 1244.18 1529.17 Q1247.56 1532.34 1247.56 1537.76 Q1247.56 1543.34 1244.09 1546.44 Q1240.62 1549.52 1234.3 1549.52 Q1232.12 1549.52 1229.85 1549.15 Q1227.61 1548.78 1225.2 1548.04 L1225.2 1543.34 Q1227.28 1544.47 1229.51 1545.03 Q1231.73 1545.58 1234.21 1545.58 Q1238.21 1545.58 1240.55 1543.48 Q1242.89 1541.37 1242.89 1537.76 Q1242.89 1534.15 1240.55 1532.04 Q1238.21 1529.94 1234.21 1529.94 Q1232.33 1529.94 1230.46 1530.35 Q1228.6 1530.77 1226.66 1531.65 L1226.66 1514.29 Z\" fill=\"#000000\" fill-rule=\"evenodd\" fill-opacity=\"1\" /><path clip-path=\"url(#clip520)\" d=\"M1256.78 1542.97 L1261.66 1542.97 L1261.66 1548.85 L1256.78 1548.85 L1256.78 1542.97 Z\" fill=\"#000000\" fill-rule=\"evenodd\" fill-opacity=\"1\" /><path clip-path=\"url(#clip520)\" d=\"M1281.84 1517.37 Q1278.23 1517.37 1276.4 1520.93 Q1274.6 1524.47 1274.6 1531.6 Q1274.6 1538.71 1276.4 1542.27 Q1278.23 1545.82 1281.84 1545.82 Q1285.48 1545.82 1287.28 1542.27 Q1289.11 1538.71 1289.11 1531.6 Q1289.11 1524.47 1287.28 1520.93 Q1285.48 1517.37 1281.84 1517.37 M1281.84 1513.66 Q1287.65 1513.66 1290.71 1518.27 Q1293.79 1522.85 1293.79 1531.6 Q1293.79 1540.33 1290.71 1544.94 Q1287.65 1549.52 1281.84 1549.52 Q1276.03 1549.52 1272.96 1544.94 Q1269.9 1540.33 1269.9 1531.6 Q1269.9 1522.85 1272.96 1518.27 Q1276.03 1513.66 1281.84 1513.66 Z\" fill=\"#000000\" fill-rule=\"evenodd\" fill-opacity=\"1\" /><path clip-path=\"url(#clip520)\" d=\"M1746.19 1514.29 L1768.41 1514.29 L1768.41 1516.28 L1755.86 1548.85 L1750.98 1548.85 L1762.78 1518.22 L1746.19 1518.22 L1746.19 1514.29 Z\" fill=\"#000000\" fill-rule=\"evenodd\" fill-opacity=\"1\" /><path clip-path=\"url(#clip520)\" d=\"M1777.53 1542.97 L1782.41 1542.97 L1782.41 1548.85 L1777.53 1548.85 L1777.53 1542.97 Z\" fill=\"#000000\" fill-rule=\"evenodd\" fill-opacity=\"1\" /><path clip-path=\"url(#clip520)\" d=\"M1792.64 1514.29 L1811 1514.29 L1811 1518.22 L1796.93 1518.22 L1796.93 1526.7 Q1797.94 1526.35 1798.96 1526.19 Q1799.98 1526 1801 1526 Q1806.79 1526 1810.17 1529.17 Q1813.55 1532.34 1813.55 1537.76 Q1813.55 1543.34 1810.07 1546.44 Q1806.6 1549.52 1800.28 1549.52 Q1798.11 1549.52 1795.84 1549.15 Q1793.59 1548.78 1791.19 1548.04 L1791.19 1543.34 Q1793.27 1544.47 1795.49 1545.03 Q1797.71 1545.58 1800.19 1545.58 Q1804.19 1545.58 1806.53 1543.48 Q1808.87 1541.37 1808.87 1537.76 Q1808.87 1534.15 1806.53 1532.04 Q1804.19 1529.94 1800.19 1529.94 Q1798.32 1529.94 1796.44 1530.35 Q1794.59 1530.77 1792.64 1531.65 L1792.64 1514.29 Z\" fill=\"#000000\" fill-rule=\"evenodd\" fill-opacity=\"1\" /><path clip-path=\"url(#clip520)\" d=\"M2252.31 1544.91 L2259.95 1544.91 L2259.95 1518.55 L2251.64 1520.21 L2251.64 1515.95 L2259.9 1514.29 L2264.58 1514.29 L2264.58 1544.91 L2272.22 1544.91 L2272.22 1548.85 L2252.31 1548.85 L2252.31 1544.91 Z\" fill=\"#000000\" fill-rule=\"evenodd\" fill-opacity=\"1\" /><path clip-path=\"url(#clip520)\" d=\"M2291.66 1517.37 Q2288.05 1517.37 2286.22 1520.93 Q2284.42 1524.47 2284.42 1531.6 Q2284.42 1538.71 2286.22 1542.27 Q2288.05 1545.82 2291.66 1545.82 Q2295.29 1545.82 2297.1 1542.27 Q2298.93 1538.71 2298.93 1531.6 Q2298.93 1524.47 2297.1 1520.93 Q2295.29 1517.37 2291.66 1517.37 M2291.66 1513.66 Q2297.47 1513.66 2300.53 1518.27 Q2303.61 1522.85 2303.61 1531.6 Q2303.61 1540.33 2300.53 1544.94 Q2297.47 1549.52 2291.66 1549.52 Q2285.85 1549.52 2282.77 1544.94 Q2279.72 1540.33 2279.72 1531.6 Q2279.72 1522.85 2282.77 1518.27 Q2285.85 1513.66 2291.66 1513.66 Z\" fill=\"#000000\" fill-rule=\"evenodd\" fill-opacity=\"1\" /><path clip-path=\"url(#clip520)\" d=\"M2311.82 1542.97 L2316.71 1542.97 L2316.71 1548.85 L2311.82 1548.85 L2311.82 1542.97 Z\" fill=\"#000000\" fill-rule=\"evenodd\" fill-opacity=\"1\" /><path clip-path=\"url(#clip520)\" d=\"M2336.89 1517.37 Q2333.28 1517.37 2331.45 1520.93 Q2329.65 1524.47 2329.65 1531.6 Q2329.65 1538.71 2331.45 1542.27 Q2333.28 1545.82 2336.89 1545.82 Q2340.53 1545.82 2342.33 1542.27 Q2344.16 1538.71 2344.16 1531.6 Q2344.16 1524.47 2342.33 1520.93 Q2340.53 1517.37 2336.89 1517.37 M2336.89 1513.66 Q2342.7 1513.66 2345.76 1518.27 Q2348.84 1522.85 2348.84 1531.6 Q2348.84 1540.33 2345.76 1544.94 Q2342.7 1549.52 2336.89 1549.52 Q2331.08 1549.52 2328 1544.94 Q2324.95 1540.33 2324.95 1531.6 Q2324.95 1522.85 2328 1518.27 Q2331.08 1513.66 2336.89 1513.66 Z\" fill=\"#000000\" fill-rule=\"evenodd\" fill-opacity=\"1\" /><polyline clip-path=\"url(#clip522)\" style=\"stroke:#000000; stroke-linecap:round; stroke-linejoin:round; stroke-width:2; stroke-opacity:0.1; fill:none\" points=\"\n",
       "  156.598,1445.72 2352.76,1445.72 \n",
       "  \"/>\n",
       "<polyline clip-path=\"url(#clip522)\" style=\"stroke:#000000; stroke-linecap:round; stroke-linejoin:round; stroke-width:2; stroke-opacity:0.1; fill:none\" points=\"\n",
       "  156.598,1082.52 2352.76,1082.52 \n",
       "  \"/>\n",
       "<polyline clip-path=\"url(#clip522)\" style=\"stroke:#000000; stroke-linecap:round; stroke-linejoin:round; stroke-width:2; stroke-opacity:0.1; fill:none\" points=\"\n",
       "  156.598,719.322 2352.76,719.322 \n",
       "  \"/>\n",
       "<polyline clip-path=\"url(#clip522)\" style=\"stroke:#000000; stroke-linecap:round; stroke-linejoin:round; stroke-width:2; stroke-opacity:0.1; fill:none\" points=\"\n",
       "  156.598,356.126 2352.76,356.126 \n",
       "  \"/>\n",
       "<polyline clip-path=\"url(#clip520)\" style=\"stroke:#000000; stroke-linecap:round; stroke-linejoin:round; stroke-width:4; stroke-opacity:1; fill:none\" points=\"\n",
       "  156.598,1486.45 156.598,47.2441 \n",
       "  \"/>\n",
       "<polyline clip-path=\"url(#clip520)\" style=\"stroke:#000000; stroke-linecap:round; stroke-linejoin:round; stroke-width:4; stroke-opacity:1; fill:none\" points=\"\n",
       "  156.598,1445.72 175.496,1445.72 \n",
       "  \"/>\n",
       "<polyline clip-path=\"url(#clip520)\" style=\"stroke:#000000; stroke-linecap:round; stroke-linejoin:round; stroke-width:4; stroke-opacity:1; fill:none\" points=\"\n",
       "  156.598,1082.52 175.496,1082.52 \n",
       "  \"/>\n",
       "<polyline clip-path=\"url(#clip520)\" style=\"stroke:#000000; stroke-linecap:round; stroke-linejoin:round; stroke-width:4; stroke-opacity:1; fill:none\" points=\"\n",
       "  156.598,719.322 175.496,719.322 \n",
       "  \"/>\n",
       "<polyline clip-path=\"url(#clip520)\" style=\"stroke:#000000; stroke-linecap:round; stroke-linejoin:round; stroke-width:4; stroke-opacity:1; fill:none\" points=\"\n",
       "  156.598,356.126 175.496,356.126 \n",
       "  \"/>\n",
       "<path clip-path=\"url(#clip520)\" d=\"M63.4226 1431.51 Q59.8115 1431.51 57.9828 1435.08 Q56.1773 1438.62 56.1773 1445.75 Q56.1773 1452.86 57.9828 1456.42 Q59.8115 1459.96 63.4226 1459.96 Q67.0569 1459.96 68.8624 1456.42 Q70.6911 1452.86 70.6911 1445.75 Q70.6911 1438.62 68.8624 1435.08 Q67.0569 1431.51 63.4226 1431.51 M63.4226 1427.81 Q69.2328 1427.81 72.2883 1432.42 Q75.367 1437 75.367 1445.75 Q75.367 1454.48 72.2883 1459.08 Q69.2328 1463.67 63.4226 1463.67 Q57.6125 1463.67 54.5338 1459.08 Q51.4782 1454.48 51.4782 1445.75 Q51.4782 1437 54.5338 1432.42 Q57.6125 1427.81 63.4226 1427.81 Z\" fill=\"#000000\" fill-rule=\"evenodd\" fill-opacity=\"1\" /><path clip-path=\"url(#clip520)\" d=\"M83.5845 1457.12 L88.4688 1457.12 L88.4688 1463 L83.5845 1463 L83.5845 1457.12 Z\" fill=\"#000000\" fill-rule=\"evenodd\" fill-opacity=\"1\" /><path clip-path=\"url(#clip520)\" d=\"M108.654 1431.51 Q105.043 1431.51 103.214 1435.08 Q101.409 1438.62 101.409 1445.75 Q101.409 1452.86 103.214 1456.42 Q105.043 1459.96 108.654 1459.96 Q112.288 1459.96 114.094 1456.42 Q115.922 1452.86 115.922 1445.75 Q115.922 1438.62 114.094 1435.08 Q112.288 1431.51 108.654 1431.51 M108.654 1427.81 Q114.464 1427.81 117.52 1432.42 Q120.598 1437 120.598 1445.75 Q120.598 1454.48 117.52 1459.08 Q114.464 1463.67 108.654 1463.67 Q102.844 1463.67 99.765 1459.08 Q96.7095 1454.48 96.7095 1445.75 Q96.7095 1437 99.765 1432.42 Q102.844 1427.81 108.654 1427.81 Z\" fill=\"#000000\" fill-rule=\"evenodd\" fill-opacity=\"1\" /><path clip-path=\"url(#clip520)\" d=\"M65.0198 1068.32 Q61.4087 1068.32 59.58 1071.88 Q57.7745 1075.42 57.7745 1082.55 Q57.7745 1089.66 59.58 1093.22 Q61.4087 1096.77 65.0198 1096.77 Q68.6541 1096.77 70.4596 1093.22 Q72.2883 1089.66 72.2883 1082.55 Q72.2883 1075.42 70.4596 1071.88 Q68.6541 1068.32 65.0198 1068.32 M65.0198 1064.61 Q70.83 1064.61 73.8855 1069.22 Q76.9642 1073.8 76.9642 1082.55 Q76.9642 1091.28 73.8855 1095.89 Q70.83 1100.47 65.0198 1100.47 Q59.2097 1100.47 56.131 1095.89 Q53.0754 1091.28 53.0754 1082.55 Q53.0754 1073.8 56.131 1069.22 Q59.2097 1064.61 65.0198 1064.61 Z\" fill=\"#000000\" fill-rule=\"evenodd\" fill-opacity=\"1\" /><path clip-path=\"url(#clip520)\" d=\"M85.1818 1093.92 L90.066 1093.92 L90.066 1099.8 L85.1818 1099.8 L85.1818 1093.92 Z\" fill=\"#000000\" fill-rule=\"evenodd\" fill-opacity=\"1\" /><path clip-path=\"url(#clip520)\" d=\"M104.279 1095.86 L120.598 1095.86 L120.598 1099.8 L98.6539 1099.8 L98.6539 1095.86 Q101.316 1093.11 105.899 1088.48 Q110.506 1083.83 111.686 1082.48 Q113.932 1079.96 114.811 1078.23 Q115.714 1076.47 115.714 1074.78 Q115.714 1072.02 113.77 1070.29 Q111.848 1068.55 108.746 1068.55 Q106.547 1068.55 104.094 1069.31 Q101.663 1070.08 98.8854 1071.63 L98.8854 1066.91 Q101.709 1065.77 104.163 1065.19 Q106.617 1064.61 108.654 1064.61 Q114.024 1064.61 117.219 1067.3 Q120.413 1069.98 120.413 1074.48 Q120.413 1076.6 119.603 1078.53 Q118.816 1080.42 116.709 1083.02 Q116.131 1083.69 113.029 1086.91 Q109.927 1090.1 104.279 1095.86 Z\" fill=\"#000000\" fill-rule=\"evenodd\" fill-opacity=\"1\" /><path clip-path=\"url(#clip520)\" d=\"M62.9365 705.121 Q59.3254 705.121 57.4967 708.686 Q55.6912 712.227 55.6912 719.357 Q55.6912 726.463 57.4967 730.028 Q59.3254 733.57 62.9365 733.57 Q66.5707 733.57 68.3763 730.028 Q70.205 726.463 70.205 719.357 Q70.205 712.227 68.3763 708.686 Q66.5707 705.121 62.9365 705.121 M62.9365 701.417 Q68.7467 701.417 71.8022 706.024 Q74.8809 710.607 74.8809 719.357 Q74.8809 728.084 71.8022 732.69 Q68.7467 737.274 62.9365 737.274 Q57.1264 737.274 54.0477 732.69 Q50.9921 728.084 50.9921 719.357 Q50.9921 710.607 54.0477 706.024 Q57.1264 701.417 62.9365 701.417 Z\" fill=\"#000000\" fill-rule=\"evenodd\" fill-opacity=\"1\" /><path clip-path=\"url(#clip520)\" d=\"M83.0984 730.723 L87.9827 730.723 L87.9827 736.602 L83.0984 736.602 L83.0984 730.723 Z\" fill=\"#000000\" fill-rule=\"evenodd\" fill-opacity=\"1\" /><path clip-path=\"url(#clip520)\" d=\"M111.015 706.116 L99.2095 724.565 L111.015 724.565 L111.015 706.116 M109.788 702.042 L115.668 702.042 L115.668 724.565 L120.598 724.565 L120.598 728.454 L115.668 728.454 L115.668 736.602 L111.015 736.602 L111.015 728.454 L95.4132 728.454 L95.4132 723.94 L109.788 702.042 Z\" fill=\"#000000\" fill-rule=\"evenodd\" fill-opacity=\"1\" /><path clip-path=\"url(#clip520)\" d=\"M63.2606 341.924 Q59.6495 341.924 57.8208 345.489 Q56.0152 349.031 56.0152 356.16 Q56.0152 363.267 57.8208 366.831 Q59.6495 370.373 63.2606 370.373 Q66.8948 370.373 68.7004 366.831 Q70.5291 363.267 70.5291 356.16 Q70.5291 349.031 68.7004 345.489 Q66.8948 341.924 63.2606 341.924 M63.2606 338.221 Q69.0707 338.221 72.1263 342.827 Q75.205 347.41 75.205 356.16 Q75.205 364.887 72.1263 369.494 Q69.0707 374.077 63.2606 374.077 Q57.4504 374.077 54.3717 369.494 Q51.3162 364.887 51.3162 356.16 Q51.3162 347.41 54.3717 342.827 Q57.4504 338.221 63.2606 338.221 Z\" fill=\"#000000\" fill-rule=\"evenodd\" fill-opacity=\"1\" /><path clip-path=\"url(#clip520)\" d=\"M83.4225 367.526 L88.3067 367.526 L88.3067 373.406 L83.4225 373.406 L83.4225 367.526 Z\" fill=\"#000000\" fill-rule=\"evenodd\" fill-opacity=\"1\" /><path clip-path=\"url(#clip520)\" d=\"M109.071 354.262 Q105.922 354.262 104.071 356.415 Q102.242 358.568 102.242 362.318 Q102.242 366.044 104.071 368.22 Q105.922 370.373 109.071 370.373 Q112.219 370.373 114.047 368.22 Q115.899 366.044 115.899 362.318 Q115.899 358.568 114.047 356.415 Q112.219 354.262 109.071 354.262 M118.353 339.609 L118.353 343.869 Q116.594 343.035 114.788 342.596 Q113.006 342.156 111.246 342.156 Q106.617 342.156 104.163 345.281 Q101.733 348.406 101.385 354.725 Q102.751 352.711 104.811 351.646 Q106.871 350.558 109.348 350.558 Q114.557 350.558 117.566 353.73 Q120.598 356.878 120.598 362.318 Q120.598 367.642 117.45 370.859 Q114.302 374.077 109.071 374.077 Q103.075 374.077 99.9039 369.494 Q96.7326 364.887 96.7326 356.16 Q96.7326 347.966 100.621 343.105 Q104.51 338.221 111.061 338.221 Q112.82 338.221 114.603 338.568 Q116.408 338.915 118.353 339.609 Z\" fill=\"#000000\" fill-rule=\"evenodd\" fill-opacity=\"1\" /><polyline clip-path=\"url(#clip522)\" style=\"stroke:#009af9; stroke-linecap:round; stroke-linejoin:round; stroke-width:4; stroke-opacity:1; fill:none\" points=\"\n",
       "  218.754,1445.72 228.39,1445.72 238.027,1445.72 247.663,1445.72 257.3,1445.72 266.936,1445.72 276.573,1445.72 286.209,1445.71 295.846,1445.71 305.482,1445.71 \n",
       "  315.119,1445.71 324.755,1445.71 334.392,1445.71 344.028,1445.71 353.665,1445.71 363.301,1445.71 372.938,1445.71 382.574,1445.7 392.211,1445.7 401.847,1445.69 \n",
       "  411.484,1445.69 421.12,1445.68 430.757,1445.67 440.393,1445.65 450.03,1445.64 459.666,1445.61 469.303,1445.58 478.939,1445.55 488.576,1445.51 498.212,1445.45 \n",
       "  507.849,1445.38 517.485,1445.3 527.122,1445.19 536.758,1445.06 546.395,1444.9 556.031,1444.7 565.668,1444.47 575.304,1444.18 584.941,1443.82 594.577,1443.4 \n",
       "  604.214,1442.89 613.85,1442.28 623.487,1441.55 633.123,1440.68 642.76,1439.65 652.396,1438.43 662.033,1436.99 671.669,1435.3 681.305,1433.32 690.942,1431.02 \n",
       "  700.578,1428.34 710.215,1425.24 719.851,1421.67 729.488,1417.56 739.124,1412.86 748.761,1407.49 758.397,1401.39 768.034,1394.48 777.67,1386.69 787.307,1377.93 \n",
       "  796.943,1368.13 806.58,1357.2 816.216,1345.06 825.853,1331.63 835.489,1316.83 845.126,1300.58 854.762,1282.83 864.399,1263.51 874.035,1242.57 883.672,1219.98 \n",
       "  893.308,1195.69 902.945,1169.72 912.581,1142.05 922.218,1112.71 931.854,1081.73 941.491,1049.19 951.127,1015.15 960.764,979.714 970.4,942.996 980.037,905.13 \n",
       "  989.673,866.267 999.31,826.574 1008.95,786.229 1018.58,745.422 1028.22,704.353 1037.86,663.223 1047.49,622.241 1057.13,581.614 1066.77,541.546 1076.4,502.237 \n",
       "  1086.04,463.879 1095.67,426.658 1105.31,390.745 1114.95,356.303 1124.58,323.481 1134.22,292.415 1143.86,263.228 1153.49,236.029 1163.13,210.915 1172.77,187.971 \n",
       "  1182.4,167.269 1192.04,148.873 1201.68,132.833 1211.31,119.194 1220.95,107.99 1230.59,99.2491 1240.22,92.9911 1249.86,89.2307 1259.5,87.9763 1269.13,89.2307 \n",
       "  1278.77,92.9911 1288.4,99.2491 1298.04,107.99 1307.68,119.194 1317.31,132.833 1326.95,148.873 1336.59,167.269 1346.22,187.971 1355.86,210.915 1365.5,236.029 \n",
       "  1375.13,263.228 1384.77,292.415 1394.41,323.481 1404.04,356.303 1413.68,390.745 1423.32,426.658 1432.95,463.879 1442.59,502.237 1452.23,541.546 1461.86,581.614 \n",
       "  1471.5,622.241 1481.13,663.223 1490.77,704.353 1500.41,745.422 1510.04,786.229 1519.68,826.574 1529.32,866.267 1538.95,905.13 1548.59,942.996 1558.23,979.714 \n",
       "  1567.86,1015.15 1577.5,1049.19 1587.14,1081.73 1596.77,1112.71 1606.41,1142.05 1616.05,1169.72 1625.68,1195.69 1635.32,1219.97 1644.96,1242.57 1654.59,1263.51 \n",
       "  1664.23,1282.83 1673.86,1300.58 1683.5,1316.83 1693.14,1331.63 1702.77,1345.06 1712.41,1357.2 1722.05,1368.13 1731.68,1377.93 1741.32,1386.69 1750.96,1394.48 \n",
       "  1760.59,1401.39 1770.23,1407.49 1779.87,1412.86 1789.5,1417.56 1799.14,1421.67 1808.78,1425.24 1818.41,1428.34 1828.05,1431.02 1837.69,1433.32 1847.32,1435.3 \n",
       "  1856.96,1436.99 1866.59,1438.43 1876.23,1439.65 1885.87,1440.68 1895.5,1441.55 1905.14,1442.28 1914.78,1442.89 1924.41,1443.4 1934.05,1443.82 1943.69,1444.18 \n",
       "  1953.32,1444.47 1962.96,1444.7 1972.6,1444.9 1982.23,1445.06 1991.87,1445.19 2001.51,1445.3 2011.14,1445.38 2020.78,1445.45 2030.42,1445.51 2040.05,1445.55 \n",
       "  2049.69,1445.58 2059.32,1445.61 2068.96,1445.64 2078.6,1445.65 2088.23,1445.67 2097.87,1445.68 2107.51,1445.69 2117.14,1445.69 2126.78,1445.7 2136.42,1445.7 \n",
       "  2146.05,1445.71 2155.69,1445.71 2165.33,1445.71 2174.96,1445.71 2184.6,1445.71 2194.24,1445.71 2203.87,1445.71 2213.51,1445.71 2223.15,1445.71 2232.78,1445.71 \n",
       "  2242.42,1445.72 2252.05,1445.72 2261.69,1445.72 2271.33,1445.72 2280.96,1445.72 2290.6,1445.72 \n",
       "  \"/>\n",
       "<polyline clip-path=\"url(#clip522)\" style=\"stroke:#e26f46; stroke-linecap:round; stroke-linejoin:round; stroke-width:4; stroke-opacity:1; fill:none\" points=\"\n",
       "  218.754,1445.72 228.39,1445.72 238.027,1445.72 247.663,1445.72 257.3,1445.72 266.936,1445.72 276.573,1445.72 286.209,1445.72 295.846,1445.72 305.482,1445.72 \n",
       "  315.119,1445.72 324.755,1445.72 334.392,1445.72 344.028,1445.72 353.665,1445.72 363.301,1445.72 372.938,1445.72 382.574,1445.72 392.211,1445.72 401.847,1445.72 \n",
       "  411.484,1445.72 421.12,1445.72 430.757,1445.72 440.393,1445.72 450.03,1445.72 459.666,1445.72 469.303,1445.72 478.939,1445.72 488.576,1445.72 498.212,1445.72 \n",
       "  507.849,1445.72 517.485,1445.72 527.122,1445.72 536.758,1445.72 546.395,1445.72 556.031,1445.72 565.668,1445.72 575.304,1445.72 584.941,1445.72 594.577,1445.72 \n",
       "  604.214,1445.72 613.85,1445.72 623.487,1445.72 633.123,1445.72 642.76,1445.72 652.396,1445.72 662.033,1445.72 671.669,1445.72 681.305,1445.72 690.942,1445.72 \n",
       "  700.578,1445.72 710.215,1445.72 719.851,1445.72 729.488,1445.72 739.124,1445.72 748.761,1445.72 758.397,1445.72 768.034,1445.72 777.67,1445.72 787.307,1445.72 \n",
       "  796.943,1445.72 806.58,1445.72 816.216,1445.72 825.853,1445.72 835.489,1445.72 845.126,1445.72 854.762,1445.72 864.399,1445.72 874.035,1445.72 883.672,1445.72 \n",
       "  893.308,1445.72 902.945,1445.72 912.581,1445.72 922.218,1445.72 931.854,1445.72 941.491,1445.72 951.127,1445.72 960.764,1445.72 970.4,1445.72 980.037,1445.72 \n",
       "  989.673,1445.72 999.31,1445.72 1008.95,1445.72 1018.58,1445.72 1028.22,1445.72 1037.86,1445.72 1047.49,1445.72 1057.13,1445.72 1066.77,1445.72 1076.4,1445.72 \n",
       "  1086.04,1445.72 1095.67,1445.72 1105.31,1445.72 1114.95,1445.72 1124.58,1445.72 1134.22,1445.72 1143.86,1445.72 1153.49,1445.72 1163.13,1445.72 1172.77,1445.72 \n",
       "  1182.4,1445.72 1192.04,1445.72 1201.68,1445.72 1211.31,1445.72 1220.95,1445.72 1230.59,1445.72 1240.22,1445.72 1249.86,1445.72 1259.5,1445.72 1269.13,1445.72 \n",
       "  1278.77,1445.72 1288.4,1445.72 1298.04,1445.72 1307.68,1445.72 1317.31,1445.72 1326.95,1445.72 1336.59,1445.72 1346.22,1445.72 1355.86,1445.72 1365.5,1445.72 \n",
       "  1375.13,1445.72 1384.77,1445.72 1394.41,1445.72 1404.04,1445.72 1413.68,1445.72 1423.32,1445.72 1432.95,1445.72 1442.59,1445.72 1452.23,1445.72 1461.86,1445.72 \n",
       "  1471.5,1445.72 1481.13,1445.72 1490.77,1445.72 1500.41,1445.72 1510.04,1445.72 1519.68,1445.72 1529.32,1445.72 1538.95,1445.72 1548.59,1445.72 1558.23,1445.72 \n",
       "  1567.86,1445.72 1577.5,1445.72 1587.14,1445.72 1596.77,1445.72 1606.41,1445.72 1616.05,1445.72 1625.68,1445.72 1635.32,1445.72 1644.96,1445.72 1654.59,1445.72 \n",
       "  1664.23,1445.72 1673.86,1445.72 1683.5,1445.72 1693.14,1445.72 1702.77,1445.72 1712.41,1445.72 1722.05,1445.72 1731.68,1445.72 1741.32,1445.72 1750.96,1445.72 \n",
       "  1760.59,1445.72 1770.23,1445.72 1779.87,1445.72 1789.5,1445.72 1799.14,1445.72 1808.78,1445.72 1818.41,1445.72 1828.05,1445.72 1837.69,1445.72 1847.32,1445.72 \n",
       "  1856.96,1445.72 1866.59,1445.72 1876.23,1445.72 1885.87,1445.72 1895.5,1445.72 1905.14,1445.72 1914.78,1445.72 1924.41,1445.72 1934.05,1445.72 1943.69,1445.72 \n",
       "  1953.32,1445.72 1962.96,1445.72 1972.6,1445.72 1982.23,1445.72 1991.87,1445.72 2001.51,1445.72 2011.14,1445.72 2020.78,1445.72 2030.42,1445.72 2040.05,1445.72 \n",
       "  2049.69,1445.72 2059.32,1445.72 2068.96,1445.72 2078.6,1445.72 2088.23,1445.72 2097.87,1445.72 2107.51,1445.72 2117.14,1445.72 2126.78,1445.72 2136.42,1445.72 \n",
       "  2146.05,1445.72 2155.69,1445.72 2165.33,1445.72 2174.96,1445.72 2184.6,1445.72 2194.24,1445.72 2203.87,1445.72 2213.51,1445.72 2223.15,1445.72 2232.78,1445.72 \n",
       "  2242.42,1445.72 2252.05,1445.72 2261.69,1445.72 2271.33,1445.72 2280.96,1445.72 2290.6,1445.72 \n",
       "  \"/>\n",
       "<polyline clip-path=\"url(#clip522)\" style=\"stroke:#3da44d; stroke-linecap:round; stroke-linejoin:round; stroke-width:4; stroke-opacity:1; fill:none\" points=\"\n",
       "  218.754,1445.72 228.39,1445.72 238.027,1445.72 247.663,1445.72 257.3,1445.72 266.936,1445.72 276.573,1445.72 286.209,1445.72 295.846,1445.72 305.482,1445.72 \n",
       "  315.119,1445.72 324.755,1445.72 334.392,1445.72 344.028,1445.72 353.665,1445.72 363.301,1445.72 372.938,1445.72 382.574,1445.72 392.211,1445.72 401.847,1445.72 \n",
       "  411.484,1445.72 421.12,1445.72 430.757,1445.72 440.393,1445.72 450.03,1445.72 459.666,1445.72 469.303,1445.72 478.939,1445.72 488.576,1445.72 498.212,1445.72 \n",
       "  507.849,1445.72 517.485,1445.72 527.122,1445.72 536.758,1445.72 546.395,1445.72 556.031,1445.72 565.668,1445.71 575.304,1445.71 584.941,1445.71 594.577,1445.71 \n",
       "  604.214,1445.71 613.85,1445.71 623.487,1445.71 633.123,1445.7 642.76,1445.7 652.396,1445.69 662.033,1445.67 671.669,1445.66 681.305,1445.63 690.942,1445.6 \n",
       "  700.578,1445.55 710.215,1445.48 719.851,1445.4 729.488,1445.28 739.124,1445.12 748.761,1444.91 758.397,1444.63 768.034,1444.27 777.67,1443.8 787.307,1443.19 \n",
       "  796.943,1442.4 806.58,1441.4 816.216,1440.14 825.853,1438.55 835.489,1436.57 845.126,1434.12 854.762,1431.11 864.399,1427.43 874.035,1422.99 883.672,1417.65 \n",
       "  893.308,1411.29 902.945,1403.77 912.581,1394.94 922.218,1384.65 931.854,1372.76 941.491,1359.13 951.127,1343.63 960.764,1326.13 970.4,1306.55 980.037,1284.79 \n",
       "  989.673,1260.82 999.31,1234.63 1008.95,1206.22 1018.58,1175.66 1028.22,1143.06 1037.86,1108.55 1047.49,1072.3 1057.13,1034.55 1066.77,995.534 1076.4,955.539 \n",
       "  1086.04,914.872 1095.67,873.861 1105.31,832.845 1114.95,792.175 1124.58,752.202 1134.22,713.274 1143.86,675.732 1153.49,639.903 1163.13,606.097 1172.77,574.605 \n",
       "  1182.4,545.694 1192.04,519.605 1201.68,496.555 1211.31,476.732 1220.95,460.294 1230.59,447.374 1240.22,438.072 1249.86,432.462 1259.5,430.587 1269.13,432.462 \n",
       "  1278.77,438.072 1288.4,447.374 1298.04,460.294 1307.68,476.732 1317.31,496.555 1326.95,519.605 1336.59,545.694 1346.22,574.605 1355.86,606.097 1365.5,639.903 \n",
       "  1375.13,675.732 1384.77,713.274 1394.41,752.202 1404.04,792.175 1413.68,832.845 1423.32,873.861 1432.95,914.872 1442.59,955.539 1452.23,995.534 1461.86,1034.55 \n",
       "  1471.5,1072.3 1481.13,1108.55 1490.77,1143.06 1500.41,1175.66 1510.04,1206.22 1519.68,1234.63 1529.32,1260.82 1538.95,1284.79 1548.59,1306.55 1558.23,1326.13 \n",
       "  1567.86,1343.63 1577.5,1359.13 1587.14,1372.76 1596.77,1384.65 1606.41,1394.94 1616.05,1403.77 1625.68,1411.29 1635.32,1417.65 1644.96,1422.99 1654.59,1427.43 \n",
       "  1664.23,1431.11 1673.86,1434.12 1683.5,1436.57 1693.14,1438.55 1702.77,1440.14 1712.41,1441.4 1722.05,1442.4 1731.68,1443.19 1741.32,1443.8 1750.96,1444.27 \n",
       "  1760.59,1444.63 1770.23,1444.91 1779.87,1445.12 1789.5,1445.28 1799.14,1445.4 1808.78,1445.48 1818.41,1445.55 1828.05,1445.6 1837.69,1445.63 1847.32,1445.66 \n",
       "  1856.96,1445.67 1866.59,1445.69 1876.23,1445.7 1885.87,1445.7 1895.5,1445.71 1905.14,1445.71 1914.78,1445.71 1924.41,1445.71 1934.05,1445.71 1943.69,1445.71 \n",
       "  1953.32,1445.71 1962.96,1445.72 1972.6,1445.72 1982.23,1445.72 1991.87,1445.72 2001.51,1445.72 2011.14,1445.72 2020.78,1445.72 2030.42,1445.72 2040.05,1445.72 \n",
       "  2049.69,1445.72 2059.32,1445.72 2068.96,1445.72 2078.6,1445.72 2088.23,1445.72 2097.87,1445.72 2107.51,1445.72 2117.14,1445.72 2126.78,1445.72 2136.42,1445.72 \n",
       "  2146.05,1445.72 2155.69,1445.72 2165.33,1445.72 2174.96,1445.72 2184.6,1445.72 2194.24,1445.72 2203.87,1445.72 2213.51,1445.72 2223.15,1445.72 2232.78,1445.72 \n",
       "  2242.42,1445.72 2252.05,1445.72 2261.69,1445.72 2271.33,1445.72 2280.96,1445.72 2290.6,1445.72 \n",
       "  \"/>\n",
       "<path clip-path=\"url(#clip520)\" d=\"\n",
       "M229.803 302.578 L627.636 302.578 L627.636 95.2176 L229.803 95.2176  Z\n",
       "  \" fill=\"#ffffff\" fill-rule=\"evenodd\" fill-opacity=\"1\"/>\n",
       "<polyline clip-path=\"url(#clip520)\" style=\"stroke:#000000; stroke-linecap:round; stroke-linejoin:round; stroke-width:4; stroke-opacity:1; fill:none\" points=\"\n",
       "  229.803,302.578 627.636,302.578 627.636,95.2176 229.803,95.2176 229.803,302.578 \n",
       "  \"/>\n",
       "<polyline clip-path=\"url(#clip520)\" style=\"stroke:#009af9; stroke-linecap:round; stroke-linejoin:round; stroke-width:4; stroke-opacity:1; fill:none\" points=\"\n",
       "  254.205,147.058 400.616,147.058 \n",
       "  \"/>\n",
       "<path clip-path=\"url(#clip520)\" d=\"M440.203 142.393 Q439.485 141.977 438.629 141.791 Q437.795 141.583 436.777 141.583 Q433.166 141.583 431.221 143.944 Q429.3 146.282 429.3 150.68 L429.3 164.338 L425.018 164.338 L425.018 138.412 L429.3 138.412 L429.3 142.44 Q430.642 140.078 432.795 138.944 Q434.948 137.787 438.027 137.787 Q438.467 137.787 438.999 137.856 Q439.531 137.903 440.179 138.018 L440.203 142.393 Z\" fill=\"#000000\" fill-rule=\"evenodd\" fill-opacity=\"1\" /><path clip-path=\"url(#clip520)\" d=\"M465.804 150.31 L465.804 152.393 L446.221 152.393 Q446.499 156.791 448.86 159.106 Q451.244 161.398 455.48 161.398 Q457.934 161.398 460.226 160.796 Q462.54 160.194 464.809 158.99 L464.809 163.018 Q462.517 163.99 460.11 164.5 Q457.703 165.009 455.226 165.009 Q449.022 165.009 445.388 161.398 Q441.777 157.787 441.777 151.629 Q441.777 145.264 445.203 141.537 Q448.652 137.787 454.485 137.787 Q459.716 137.787 462.749 141.166 Q465.804 144.523 465.804 150.31 M461.545 149.06 Q461.499 145.565 459.578 143.481 Q457.679 141.398 454.531 141.398 Q450.966 141.398 448.814 143.412 Q446.684 145.426 446.36 149.083 L461.545 149.06 Z\" fill=\"#000000\" fill-rule=\"evenodd\" fill-opacity=\"1\" /><path clip-path=\"url(#clip520)\" d=\"M484.577 151.305 Q479.415 151.305 477.425 152.486 Q475.434 153.666 475.434 156.514 Q475.434 158.782 476.915 160.125 Q478.42 161.444 480.989 161.444 Q484.531 161.444 486.661 158.944 Q488.813 156.421 488.813 152.254 L488.813 151.305 L484.577 151.305 M493.073 149.546 L493.073 164.338 L488.813 164.338 L488.813 160.402 Q487.355 162.763 485.179 163.898 Q483.003 165.009 479.855 165.009 Q475.874 165.009 473.513 162.787 Q471.175 160.541 471.175 156.791 Q471.175 152.416 474.091 150.194 Q477.031 147.972 482.841 147.972 L488.813 147.972 L488.813 147.555 Q488.813 144.615 486.869 143.018 Q484.948 141.398 481.452 141.398 Q479.23 141.398 477.124 141.93 Q475.017 142.463 473.073 143.527 L473.073 139.592 Q475.411 138.69 477.61 138.25 Q479.809 137.787 481.892 137.787 Q487.517 137.787 490.295 140.703 Q493.073 143.62 493.073 149.546 Z\" fill=\"#000000\" fill-rule=\"evenodd\" fill-opacity=\"1\" /><path clip-path=\"url(#clip520)\" d=\"M501.846 128.319 L506.105 128.319 L506.105 164.338 L501.846 164.338 L501.846 128.319 Z\" fill=\"#000000\" fill-rule=\"evenodd\" fill-opacity=\"1\" /><path clip-path=\"url(#clip520)\" d=\"M525.248 128.366 Q522.147 133.69 520.642 138.898 Q519.137 144.106 519.137 149.453 Q519.137 154.801 520.642 160.055 Q522.17 165.287 525.248 170.588 L521.545 170.588 Q518.073 165.148 516.336 159.893 Q514.624 154.639 514.624 149.453 Q514.624 144.291 516.336 139.06 Q518.049 133.828 521.545 128.366 L525.248 128.366 Z\" fill=\"#000000\" fill-rule=\"evenodd\" fill-opacity=\"1\" /><path clip-path=\"url(#clip520)\" d=\"M542.494 164.916 Q537.147 164.06 534.67 161.814 Q531.637 159.06 531.637 153.435 L531.637 138.412 L535.943 138.412 L535.943 153.273 Q535.943 157.509 537.91 159.268 Q539.623 160.796 542.494 161.12 L542.494 138.412 L546.73 138.412 L546.73 161.097 Q549.762 160.773 551.313 159.245 Q553.281 157.301 553.281 153.25 L553.281 138.412 L557.586 138.412 L557.586 153.412 Q557.586 159.245 554.554 161.791 Q551.822 164.083 546.73 164.893 L546.73 174.199 L542.494 174.199 L542.494 164.916 Z\" fill=\"#000000\" fill-rule=\"evenodd\" fill-opacity=\"1\" /><path clip-path=\"url(#clip520)\" d=\"M564.114 128.366 L567.818 128.366 Q571.29 133.828 573.003 139.06 Q574.739 144.291 574.739 149.453 Q574.739 154.639 573.003 159.893 Q571.29 165.148 567.818 170.588 L564.114 170.588 Q567.193 165.287 568.697 160.055 Q570.225 154.801 570.225 149.453 Q570.225 144.106 568.697 138.898 Q567.193 133.69 564.114 128.366 Z\" fill=\"#000000\" fill-rule=\"evenodd\" fill-opacity=\"1\" /><polyline clip-path=\"url(#clip520)\" style=\"stroke:#e26f46; stroke-linecap:round; stroke-linejoin:round; stroke-width:4; stroke-opacity:1; fill:none\" points=\"\n",
       "  254.205,198.898 400.616,198.898 \n",
       "  \"/>\n",
       "<path clip-path=\"url(#clip520)\" d=\"M425.018 190.252 L429.277 190.252 L429.277 216.178 L425.018 216.178 L425.018 190.252 M425.018 180.159 L429.277 180.159 L429.277 185.553 L425.018 185.553 L425.018 180.159 Z\" fill=\"#000000\" fill-rule=\"evenodd\" fill-opacity=\"1\" /><path clip-path=\"url(#clip520)\" d=\"M458.374 195.229 Q459.971 192.358 462.193 190.993 Q464.415 189.627 467.425 189.627 Q471.476 189.627 473.675 192.474 Q475.874 195.298 475.874 200.529 L475.874 216.178 L471.591 216.178 L471.591 200.668 Q471.591 196.942 470.272 195.136 Q468.952 193.33 466.244 193.33 Q462.934 193.33 461.013 195.53 Q459.091 197.729 459.091 201.525 L459.091 216.178 L454.809 216.178 L454.809 200.668 Q454.809 196.918 453.49 195.136 Q452.17 193.33 449.416 193.33 Q446.152 193.33 444.23 195.553 Q442.309 197.752 442.309 201.525 L442.309 216.178 L438.027 216.178 L438.027 190.252 L442.309 190.252 L442.309 194.28 Q443.767 191.895 445.804 190.761 Q447.841 189.627 450.642 189.627 Q453.466 189.627 455.434 191.062 Q457.425 192.497 458.374 195.229 Z\" fill=\"#000000\" fill-rule=\"evenodd\" fill-opacity=\"1\" /><path clip-path=\"url(#clip520)\" d=\"M496.151 203.145 Q490.989 203.145 488.999 204.326 Q487.008 205.506 487.008 208.354 Q487.008 210.622 488.489 211.965 Q489.994 213.284 492.563 213.284 Q496.105 213.284 498.235 210.784 Q500.387 208.261 500.387 204.094 L500.387 203.145 L496.151 203.145 M504.647 201.386 L504.647 216.178 L500.387 216.178 L500.387 212.242 Q498.929 214.603 496.753 215.738 Q494.577 216.849 491.429 216.849 Q487.448 216.849 485.087 214.627 Q482.749 212.381 482.749 208.631 Q482.749 204.256 485.665 202.034 Q488.605 199.812 494.415 199.812 L500.387 199.812 L500.387 199.395 Q500.387 196.455 498.443 194.858 Q496.522 193.238 493.026 193.238 Q490.804 193.238 488.698 193.77 Q486.591 194.303 484.647 195.367 L484.647 191.432 Q486.985 190.53 489.184 190.09 Q491.383 189.627 493.466 189.627 Q499.091 189.627 501.869 192.543 Q504.647 195.46 504.647 201.386 Z\" fill=\"#000000\" fill-rule=\"evenodd\" fill-opacity=\"1\" /><path clip-path=\"url(#clip520)\" d=\"M530.48 202.914 Q530.48 198.284 528.559 195.738 Q526.66 193.192 523.211 193.192 Q519.786 193.192 517.864 195.738 Q515.966 198.284 515.966 202.914 Q515.966 207.52 517.864 210.066 Q519.786 212.613 523.211 212.613 Q526.66 212.613 528.559 210.066 Q530.48 207.52 530.48 202.914 M534.739 212.96 Q534.739 219.58 531.799 222.798 Q528.86 226.039 522.795 226.039 Q520.549 226.039 518.559 225.691 Q516.568 225.367 514.693 224.673 L514.693 220.529 Q516.568 221.548 518.397 222.034 Q520.225 222.52 522.123 222.52 Q526.313 222.52 528.397 220.321 Q530.48 218.145 530.48 213.724 L530.48 211.617 Q529.16 213.909 527.1 215.043 Q525.04 216.178 522.17 216.178 Q517.401 216.178 514.485 212.543 Q511.568 208.909 511.568 202.914 Q511.568 196.895 514.485 193.261 Q517.401 189.627 522.17 189.627 Q525.04 189.627 527.1 190.761 Q529.16 191.895 530.48 194.187 L530.48 190.252 L534.739 190.252 L534.739 212.96 Z\" fill=\"#000000\" fill-rule=\"evenodd\" fill-opacity=\"1\" /><path clip-path=\"url(#clip520)\" d=\"M553.744 180.206 Q550.642 185.53 549.137 190.738 Q547.633 195.946 547.633 201.293 Q547.633 206.641 549.137 211.895 Q550.665 217.127 553.744 222.428 L550.04 222.428 Q546.568 216.988 544.832 211.733 Q543.119 206.479 543.119 201.293 Q543.119 196.131 544.832 190.9 Q546.545 185.668 550.04 180.206 L553.744 180.206 Z\" fill=\"#000000\" fill-rule=\"evenodd\" fill-opacity=\"1\" /><path clip-path=\"url(#clip520)\" d=\"M570.989 216.756 Q565.642 215.9 563.165 213.654 Q560.133 210.9 560.133 205.275 L560.133 190.252 L564.438 190.252 L564.438 205.113 Q564.438 209.349 566.406 211.108 Q568.119 212.636 570.989 212.96 L570.989 190.252 L575.225 190.252 L575.225 212.937 Q578.257 212.613 579.808 211.085 Q581.776 209.141 581.776 205.09 L581.776 190.252 L586.081 190.252 L586.081 205.252 Q586.081 211.085 583.049 213.631 Q580.318 215.923 575.225 216.733 L575.225 226.039 L570.989 226.039 L570.989 216.756 Z\" fill=\"#000000\" fill-rule=\"evenodd\" fill-opacity=\"1\" /><path clip-path=\"url(#clip520)\" d=\"M592.609 180.206 L596.313 180.206 Q599.785 185.668 601.498 190.9 Q603.234 196.131 603.234 201.293 Q603.234 206.479 601.498 211.733 Q599.785 216.988 596.313 222.428 L592.609 222.428 Q595.688 217.127 597.193 211.895 Q598.72 206.641 598.72 201.293 Q598.72 195.946 597.193 190.738 Q595.688 185.53 592.609 180.206 Z\" fill=\"#000000\" fill-rule=\"evenodd\" fill-opacity=\"1\" /><polyline clip-path=\"url(#clip520)\" style=\"stroke:#3da44d; stroke-linecap:round; stroke-linejoin:round; stroke-width:4; stroke-opacity:1; fill:none\" points=\"\n",
       "  254.205,250.738 400.616,250.738 \n",
       "  \"/>\n",
       "<path clip-path=\"url(#clip520)\" d=\"M427.101 246.721 Q428.513 244.36 432.008 242.277 Q433.374 241.467 437.587 241.467 Q442.309 241.467 445.249 245.217 Q448.212 248.967 448.212 255.078 Q448.212 261.189 445.249 264.939 Q442.309 268.689 437.587 268.689 Q434.74 268.689 432.68 267.578 Q430.642 266.443 429.3 264.129 L429.3 277.879 L425.018 277.879 L425.018 255.309 Q425.018 249.962 427.101 246.721 M443.791 255.078 Q443.791 250.379 441.846 247.717 Q439.925 245.032 436.545 245.032 Q433.166 245.032 431.221 247.717 Q429.3 250.379 429.3 255.078 Q429.3 259.777 431.221 262.462 Q433.166 265.124 436.545 265.124 Q439.925 265.124 441.846 262.462 Q443.791 259.777 443.791 255.078 Z\" fill=\"#000000\" fill-rule=\"evenodd\" fill-opacity=\"1\" /></svg>\n"
      ]
     },
     "metadata": {},
     "execution_count": 10
    }
   ],
   "cell_type": "code",
   "source": [
    "using Plots\n",
    "\n",
    "p = plot(x, real.(ψ), label=\"real(ψ)\")\n",
    "plot!(p, x, imag.(ψ), label=\"imag(ψ)\")\n",
    "plot!(p, x, ρ, label=\"ρ\")"
   ],
   "metadata": {},
   "execution_count": 10
  },
  {
   "cell_type": "markdown",
   "source": [
    "The `energy_hamiltonian` function can be used to get the energy and\n",
    "effective Hamiltonian (derivative of the energy with respect to the density matrix)\n",
    "of a particular state (ψ, occupation).\n",
    "The density ρ associated to this state is precomputed\n",
    "and passed to the routine as an optimization."
   ],
   "metadata": {}
  },
  {
   "outputs": [],
   "cell_type": "code",
   "source": [
    "E, ham = energy_hamiltonian(basis, scfres.ψ, scfres.occupation; ρ=scfres.ρ)\n",
    "@assert E.total == scfres.energies.total"
   ],
   "metadata": {},
   "execution_count": 11
  },
  {
   "cell_type": "markdown",
   "source": [
    "Now the Hamiltonian contains all the blocks corresponding to $k$-points. Here, we just\n",
    "have one $k$-point:"
   ],
   "metadata": {}
  },
  {
   "outputs": [],
   "cell_type": "code",
   "source": [
    "H = ham.blocks[1];"
   ],
   "metadata": {},
   "execution_count": 12
  },
  {
   "cell_type": "markdown",
   "source": [
    "`H` can be used as a linear operator (efficiently using FFTs), or converted to a dense matrix:"
   ],
   "metadata": {}
  },
  {
   "outputs": [],
   "cell_type": "code",
   "source": [
    "ψ11 = scfres.ψ[1][:, 1] # first k-point, first eigenvector\n",
    "Hmat = Array(H) # This is now just a plain Julia matrix,\n",
    "#                which we can compute and store in this simple 1D example\n",
    "@assert norm(Hmat * ψ11 - H * ψ11) < 1e-10"
   ],
   "metadata": {},
   "execution_count": 13
  },
  {
   "cell_type": "markdown",
   "source": [
    "Let's check that ψ11 is indeed an eigenstate:"
   ],
   "metadata": {}
  },
  {
   "outputs": [
    {
     "output_type": "execute_result",
     "data": {
      "text/plain": "3.46986131230245e-7"
     },
     "metadata": {},
     "execution_count": 14
    }
   ],
   "cell_type": "code",
   "source": [
    "norm(H * ψ11 - dot(ψ11, H * ψ11) * ψ11)"
   ],
   "metadata": {},
   "execution_count": 14
  },
  {
   "cell_type": "markdown",
   "source": [
    "Build a finite-differences version of the GPE operator $H$, as a sanity check:"
   ],
   "metadata": {}
  },
  {
   "outputs": [
    {
     "output_type": "execute_result",
     "data": {
      "text/plain": "0.00022351460949907373"
     },
     "metadata": {},
     "execution_count": 15
    }
   ],
   "cell_type": "code",
   "source": [
    "A = Array(Tridiagonal(-ones(N - 1), 2ones(N), -ones(N - 1)))\n",
    "A[1, end] = A[end, 1] = -1\n",
    "K = A / dx^2 / 2\n",
    "V = Diagonal(pot.(x) + C .* α .* (ρ.^(α-1)))\n",
    "H_findiff = K + V;\n",
    "maximum(abs.(H_findiff*ψ - (dot(ψ, H_findiff*ψ) / dot(ψ, ψ)) * ψ))"
   ],
   "metadata": {},
   "execution_count": 15
  }
 ],
 "nbformat_minor": 3,
 "metadata": {
  "language_info": {
   "file_extension": ".jl",
   "mimetype": "application/julia",
   "name": "julia",
   "version": "1.8.3"
  },
  "kernelspec": {
   "name": "julia-1.8",
   "display_name": "Julia 1.8.3",
   "language": "julia"
  }
 },
 "nbformat": 4
}
