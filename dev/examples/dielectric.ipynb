{
 "cells": [
  {
   "cell_type": "markdown",
   "source": [
    "# Eigenvalues of the dielectric matrix\n",
    "\n",
    "We compute a few eigenvalues of the dielectric matrix ($q=0$, $ω=0$) iteratively."
   ],
   "metadata": {}
  },
  {
   "outputs": [
    {
     "name": "stdout",
     "output_type": "stream",
     "text": [
      "n     Energy            log10(ΔE)   log10(Δρ)   Diag\n",
      "---   ---------------   ---------   ---------   ----\n",
      "  1   -7.233618917688                   -0.50    6.0\n",
      "  2   -7.249693771322       -1.79       -1.39    1.0\n",
      "  3   -7.250636235598       -3.03       -1.67    4.0\n",
      "  4   -7.251009944710       -3.43       -1.88    2.0\n",
      "  5   -7.251315585326       -3.51       -2.47    2.0\n",
      "  6   -7.251338253070       -4.64       -3.22    1.0\n",
      "  7   -7.251338780075       -6.28       -3.84    3.0\n",
      "  8   -7.251338792206       -7.92       -4.09    2.0\n",
      "  9   -7.251338798597       -8.19       -4.91    1.0\n",
      " 10   -7.251338798696      -10.01       -5.54    3.0\n",
      " 11   -7.251338798704      -11.11       -6.00    3.0\n",
      " 12   -7.251338798704      -12.10       -6.74    2.0\n",
      " 13   -7.251338798705      -13.38       -7.06    3.0\n",
      " 14   -7.251338798705      -14.27       -7.73    2.0\n"
     ]
    }
   ],
   "cell_type": "code",
   "source": [
    "using DFTK\n",
    "using Plots\n",
    "using KrylovKit\n",
    "using Printf\n",
    "\n",
    "# Calculation parameters\n",
    "kgrid = [1, 1, 1]\n",
    "Ecut = 5\n",
    "\n",
    "# Silicon lattice\n",
    "a = 10.26\n",
    "lattice = a / 2 .* [[0 1 1.]; [1 0 1.]; [1 1 0.]]\n",
    "Si = ElementPsp(:Si, psp=load_psp(\"hgh/lda/Si-q4\"))\n",
    "atoms     = [Si, Si]\n",
    "positions = [ones(3)/8, -ones(3)/8]\n",
    "\n",
    "# Compute the dielectric operator without symmetries\n",
    "model = model_LDA(lattice, atoms, positions, symmetries=false)\n",
    "basis = PlaneWaveBasis(model; Ecut, kgrid)\n",
    "scfres = self_consistent_field(basis, tol=1e-14);"
   ],
   "metadata": {},
   "execution_count": 1
  },
  {
   "cell_type": "markdown",
   "source": [
    "Applying $ε^† ≔ (1- χ_0 K)$ …"
   ],
   "metadata": {}
  },
  {
   "outputs": [],
   "cell_type": "code",
   "source": [
    "function eps_fun(δρ)\n",
    "    δV = apply_kernel(basis, δρ; ρ=scfres.ρ)\n",
    "    χ0δV = apply_χ0(scfres, δV)\n",
    "    δρ - χ0δV\n",
    "end;"
   ],
   "metadata": {},
   "execution_count": 2
  },
  {
   "cell_type": "markdown",
   "source": [
    "… eagerly diagonalizes the subspace matrix at each iteration"
   ],
   "metadata": {}
  },
  {
   "outputs": [
    {
     "name": "stdout",
     "output_type": "stream",
     "text": [
      "[ Info: Arnoldi iteration step 1: normres = 0.027028853224363745\n",
      "[ Info: Arnoldi iteration step 2: normres = 1.0076315356384133\n",
      "[ Info: Arnoldi iteration step 3: normres = 0.43244372344646237\n",
      "[ Info: Arnoldi iteration step 4: normres = 0.5081725780889584\n",
      "[ Info: Arnoldi iteration step 5: normres = 0.20710649109718413\n",
      "[ Info: Arnoldi schursolve in iter 1, krylovdim = 5: 0 values converged, normres = (1.42e-02, 8.86e-02, 1.23e-01, 1.37e-01, 2.94e-02)\n",
      "[ Info: Arnoldi iteration step 6: normres = 0.5970060010860502\n",
      "[ Info: Arnoldi schursolve in iter 1, krylovdim = 6: 0 values converged, normres = (4.91e-03, 7.44e-02, 5.52e-01, 1.41e-01, 8.41e-02)\n",
      "[ Info: Arnoldi iteration step 7: normres = 0.1614780198342718\n",
      "[ Info: Arnoldi schursolve in iter 1, krylovdim = 7: 0 values converged, normres = (6.66e-04, 1.13e-01, 6.13e-02, 6.45e-02, 6.46e-02)\n",
      "[ Info: Arnoldi iteration step 8: normres = 0.13066716774652196\n",
      "[ Info: Arnoldi schursolve in iter 1, krylovdim = 8: 0 values converged, normres = (3.91e-05, 1.11e-02, 6.46e-03, 3.35e-02, 6.02e-02)\n",
      "[ Info: Arnoldi iteration step 9: normres = 0.05539575059015099\n",
      "[ Info: Arnoldi schursolve in iter 1, krylovdim = 9: 0 values converged, normres = (9.21e-07, 4.28e-04, 2.74e-04, 5.72e-03, 1.75e-02)\n",
      "[ Info: Arnoldi iteration step 10: normres = 0.08303064467112233\n",
      "[ Info: Arnoldi schursolve in iter 1, krylovdim = 10: 0 values converged, normres = (3.32e-08, 2.55e-05, 1.81e-05, 1.60e-03, 9.93e-03)\n",
      "[ Info: Arnoldi iteration step 11: normres = 0.08629255654221743\n",
      "[ Info: Arnoldi schursolve in iter 1, krylovdim = 11: 0 values converged, normres = (1.22e-09, 1.53e-06, 1.21e-06, 4.16e-04, 5.09e-03)\n",
      "[ Info: Arnoldi iteration step 12: normres = 0.07935569786702143\n",
      "[ Info: Arnoldi schursolve in iter 1, krylovdim = 12: 0 values converged, normres = (4.21e-11, 8.70e-08, 7.60e-08, 1.11e-04, 3.07e-03)\n",
      "[ Info: Arnoldi iteration step 13: normres = 0.029346645142703118\n",
      "[ Info: Arnoldi schursolve in iter 1, krylovdim = 13: 1 values converged, normres = (5.26e-13, 1.77e-09, 1.72e-09, 9.84e-06, 5.84e-04)\n",
      "[ Info: Arnoldi iteration step 14: normres = 0.5167970176373087\n",
      "[ Info: Arnoldi schursolve in iter 1, krylovdim = 14: 1 values converged, normres = (1.24e-13, 7.18e-10, 7.80e-10, 2.67e-05, 6.39e-03)\n",
      "[ Info: Arnoldi iteration step 15: normres = 0.1072627042551682\n",
      "[ Info: Arnoldi schursolve in iter 1, krylovdim = 15: 1 values converged, normres = (1.22e-14, 8.44e-10, 9.70e-02, 4.06e-03, 5.49e-05)\n",
      "[ Info: Arnoldi iteration step 16: normres = 0.7259345270394321\n",
      "[ Info: Arnoldi schursolve in iter 1, krylovdim = 16: 1 values converged, normres = (5.30e-15, 8.98e-10, 9.83e-02, 3.80e-03, 7.09e-01)\n",
      "[ Info: Arnoldi iteration step 17: normres = 0.0375182331274734\n",
      "[ Info: Arnoldi schursolve in iter 1, krylovdim = 17: 1 values converged, normres = (1.43e-16, 3.58e-07, 1.86e-02, 6.03e-05, 1.89e-02)\n",
      "[ Info: Arnoldi iteration step 18: normres = 0.015065423784010929\n",
      "[ Info: Arnoldi schursolve in iter 1, krylovdim = 18: 1 values converged, normres = (8.88e-19, 1.26e-07, 1.84e-04, 2.36e-08, 2.05e-04)\n",
      "[ Info: Arnoldi iteration step 19: normres = 0.22515775847149452\n",
      "[ Info: Arnoldi schursolve in iter 1, krylovdim = 19: 1 values converged, normres = (8.70e-20, 4.03e-06, 2.95e-05, 2.54e-05, 2.66e-05)\n",
      "[ Info: Arnoldi iteration step 20: normres = 0.03733043255382967\n",
      "[ Info: Arnoldi schursolve in iter 1, krylovdim = 20: 1 values converged, normres = (1.54e-21, 5.32e-08, 9.26e-07, 3.48e-07, 1.26e-06)\n",
      "[ Info: Arnoldi iteration step 21: normres = 0.035981894562058823\n",
      "[ Info: Arnoldi schursolve in iter 1, krylovdim = 21: 1 values converged, normres = (2.30e-23, 5.16e-09, 2.17e-08, 1.04e-08, 3.29e-08)\n",
      "[ Info: Arnoldi iteration step 22: normres = 0.04143789193755633\n",
      "[ Info: Arnoldi schursolve in iter 1, krylovdim = 22: 1 values converged, normres = (3.93e-25, 1.52e-10, 5.90e-10, 6.71e-10, 7.96e-10)\n",
      "[ Info: Arnoldi iteration step 23: normres = 0.6336012206913305\n",
      "[ Info: Arnoldi schursolve in iter 1, krylovdim = 23: 1 values converged, normres = (1.78e-25, 1.96e-10, 7.66e-10, 1.22e-09, 1.45e-09)\n",
      "[ Info: Arnoldi iteration step 24: normres = 0.017184754234430215\n",
      "[ Info: Arnoldi schursolve in iter 1, krylovdim = 24: 1 values converged, normres = (1.67e-27, 7.71e-12, 3.00e-11, 5.79e-03, 2.66e-03)\n",
      "[ Info: Arnoldi iteration step 25: normres = 0.02043610473857113\n",
      "[ Info: Arnoldi schursolve in iter 1, krylovdim = 25: 3 values converged, normres = (1.40e-29, 1.02e-13, 3.98e-13, 4.03e-09, 2.50e-08)\n",
      "[ Info: Arnoldi iteration step 26: normres = 0.11700864751601009\n",
      "[ Info: Arnoldi schursolve in iter 1, krylovdim = 26: 3 values converged, normres = (7.15e-31, 8.65e-15, 3.37e-14, 4.49e-06, 1.65e-06)\n",
      "[ Info: Arnoldi iteration step 27: normres = 0.027613115501643356\n",
      "[ Info: Arnoldi schursolve in iter 1, krylovdim = 27: 3 values converged, normres = (8.45e-33, 1.67e-16, 6.52e-16, 1.57e-07, 1.85e-07)\n",
      "[ Info: Arnoldi iteration step 28: normres = 0.10244626052596327\n",
      "[ Info: Arnoldi schursolve in iter 1, krylovdim = 28: 3 values converged, normres = (3.67e-34, 1.18e-17, 4.59e-17, 1.47e-08, 3.59e-09)\n",
      "[ Info: Arnoldi iteration step 29: normres = 0.07324503001491375\n",
      "[ Info: Arnoldi schursolve in iter 1, krylovdim = 29: 3 values converged, normres = (1.17e-35, 6.22e-19, 2.42e-18, 8.51e-10, 5.17e-10)\n",
      "[ Info: Arnoldi iteration step 30: normres = 0.10432871470595828\n",
      "[ Info: Arnoldi schursolve in iter 1, krylovdim = 30: 3 values converged, normres = (5.97e-37, 5.71e-20, 2.22e-19, 9.03e-11, 5.36e-11)\n",
      "[ Info: Arnoldi schursolve in iter 2, krylovdim = 19: 3 values converged, normres = (5.97e-37, 5.71e-20, 2.22e-19, 9.03e-11, 5.36e-11)\n",
      "[ Info: Arnoldi iteration step 20: normres = 0.03942666918328206\n",
      "[ Info: Arnoldi schursolve in iter 2, krylovdim = 20: 3 values converged, normres = (9.83e-39, 1.52e-21, 5.92e-21, 2.65e-12, 1.58e-12)\n",
      "[ Info: Arnoldi iteration step 21: normres = 0.06927817519279188\n",
      "┌ Info: Arnoldi eigsolve finished after 2 iterations:\n",
      "│ *  6 eigenvalues converged\n",
      "│ *  norm of residuals = (2.9137512137841872e-40, 7.366119028050691e-23, 2.8480425033576868e-22, 1.4216919241328908e-13, 8.8798577220242e-14, 1.0005376484414534e-13)\n",
      "└ *  number of operations = 32\n"
     ]
    }
   ],
   "cell_type": "code",
   "source": [
    "eigsolve(eps_fun, randn(size(scfres.ρ)), 5, :LM; eager=true, verbosity=3);"
   ],
   "metadata": {},
   "execution_count": 3
  }
 ],
 "nbformat_minor": 3,
 "metadata": {
  "language_info": {
   "file_extension": ".jl",
   "mimetype": "application/julia",
   "name": "julia",
   "version": "1.8.1"
  },
  "kernelspec": {
   "name": "julia-1.8",
   "display_name": "Julia 1.8.1",
   "language": "julia"
  }
 },
 "nbformat": 4
}
