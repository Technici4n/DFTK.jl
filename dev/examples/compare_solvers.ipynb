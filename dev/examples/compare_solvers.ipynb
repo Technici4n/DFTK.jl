{
 "cells": [
  {
   "cell_type": "markdown",
   "source": [
    "# Comparison of DFT solvers"
   ],
   "metadata": {}
  },
  {
   "cell_type": "markdown",
   "source": [
    "We compare four different approaches for solving the DFT minimisation problem,\n",
    "namely a density-based SCF, a potential-based SCF, direct minimisation and Newton."
   ],
   "metadata": {}
  },
  {
   "cell_type": "markdown",
   "source": [
    "First we setup our problem"
   ],
   "metadata": {}
  },
  {
   "outputs": [
    {
     "output_type": "execute_result",
     "data": {
      "text/plain": "1.0e-6"
     },
     "metadata": {},
     "execution_count": 1
    }
   ],
   "cell_type": "code",
   "source": [
    "using DFTK\n",
    "using LinearAlgebra\n",
    "\n",
    "a = 10.26  # Silicon lattice constant in Bohr\n",
    "lattice = a / 2 * [[0 1 1.];\n",
    "                   [1 0 1.];\n",
    "                   [1 1 0.]]\n",
    "Si = ElementPsp(:Si, psp=load_psp(\"hgh/lda/Si-q4\"))\n",
    "atoms     = [Si, Si]\n",
    "positions = [ones(3)/8, -ones(3)/8]\n",
    "\n",
    "model = model_LDA(lattice, atoms, positions)\n",
    "basis = PlaneWaveBasis(model; Ecut=5, kgrid=[3, 3, 3])\n",
    "\n",
    "# Convergence we desire in the density\n",
    "tol = 1e-6"
   ],
   "metadata": {},
   "execution_count": 1
  },
  {
   "cell_type": "markdown",
   "source": [
    "## Density-based self-consistent field"
   ],
   "metadata": {}
  },
  {
   "outputs": [
    {
     "name": "stdout",
     "output_type": "stream",
     "text": [
      "n     Energy            log10(ΔE)   log10(Δρ)   Diag   Δtime\n",
      "---   ---------------   ---------   ---------   ----   ------\n",
      "  1   -7.846861095961                   -0.70    4.8         \n",
      "  2   -7.852320016160       -2.26       -1.53    1.0   23.5ms\n",
      "  3   -7.852613375508       -3.53       -2.56    1.5   26.4ms\n",
      "  4   -7.852645942794       -4.49       -2.87    2.8   34.3ms\n",
      "  5   -7.852646471135       -6.28       -3.13    1.0   23.8ms\n",
      "  6   -7.852646678866       -6.68       -4.03    1.0   24.4ms\n",
      "  7   -7.852646686571       -8.11       -5.22    1.8   29.5ms\n",
      "  8   -7.852646686724       -9.82       -5.42    2.2   31.0ms\n",
      "  9   -7.852646686727      -11.42       -5.59    1.2   25.2ms\n",
      " 10   -7.852646686730      -11.64       -6.49    1.0   24.6ms\n"
     ]
    }
   ],
   "cell_type": "code",
   "source": [
    "scfres_scf = self_consistent_field(basis; tol);"
   ],
   "metadata": {},
   "execution_count": 2
  },
  {
   "cell_type": "markdown",
   "source": [
    "## Potential-based SCF"
   ],
   "metadata": {}
  },
  {
   "outputs": [
    {
     "name": "stdout",
     "output_type": "stream",
     "text": [
      "n     Energy            log10(ΔE)   log10(Δρ)   α      Diag   Δtime\n",
      "---   ---------------   ---------   ---------   ----   ----   ------\n",
      "  1   -7.846826616112                   -0.70           4.5         \n",
      "  2   -7.852527358622       -2.24       -1.64   0.80    2.2    320ms\n",
      "  3   -7.852636420627       -3.96       -2.73   0.80    1.0   22.2ms\n",
      "  4   -7.852646436756       -5.00       -3.27   0.80    2.0   27.7ms\n",
      "  5   -7.852646682087       -6.61       -4.09   0.80    2.0   26.3ms\n",
      "  6   -7.852646686369       -8.37       -4.78   0.80    1.2   22.7ms\n",
      "  7   -7.852646686718       -9.46       -5.77   0.80    2.0   27.0ms\n",
      "  8   -7.852646686730      -10.93       -6.49   0.80    2.0   28.1ms\n"
     ]
    }
   ],
   "cell_type": "code",
   "source": [
    "scfres_scfv = DFTK.scf_potential_mixing(basis; tol);"
   ],
   "metadata": {},
   "execution_count": 3
  },
  {
   "cell_type": "markdown",
   "source": [
    "## Direct minimization\n",
    "Note: Unlike the other algorithms, tolerance for this one is in the energy,\n",
    "thus we square the density tolerance value to be roughly equivalent."
   ],
   "metadata": {}
  },
  {
   "outputs": [
    {
     "name": "stdout",
     "output_type": "stream",
     "text": [
      "Iter     Function value   Gradient norm \n",
      "     0     1.375391e+01     3.875877e+00\n",
      " * time: 0.41976189613342285\n",
      "     1     8.455060e-01     1.959528e+00\n",
      " * time: 0.6203098297119141\n",
      "     2    -1.852225e+00     2.232705e+00\n",
      " * time: 0.6439938545227051\n",
      "     3    -3.946333e+00     1.958718e+00\n",
      " * time: 0.6794118881225586\n",
      "     4    -5.286094e+00     1.546250e+00\n",
      " * time: 0.7143340110778809\n",
      "     5    -6.893552e+00     8.920114e-01\n",
      " * time: 0.7476708889007568\n",
      "     6    -6.908242e+00     1.433682e+00\n",
      " * time: 0.7709050178527832\n",
      "     7    -7.554167e+00     1.149130e+00\n",
      " * time: 0.7945079803466797\n",
      "     8    -7.593448e+00     2.175009e+00\n",
      " * time: 0.884713888168335\n",
      "     9    -7.613485e+00     1.971580e+00\n",
      " * time: 0.9079968929290771\n",
      "    10    -7.620180e+00     1.928269e+00\n",
      " * time: 0.9418609142303467\n",
      "    11    -7.632097e+00     1.894705e+00\n",
      " * time: 0.9752390384674072\n",
      "    12    -7.699096e+00     5.072374e-01\n",
      " * time: 1.0182499885559082\n",
      "    13    -7.727691e+00     2.050488e+00\n",
      " * time: 1.0413119792938232\n",
      "    14    -7.814420e+00     3.183989e-01\n",
      " * time: 1.0642108917236328\n",
      "    15    -7.821022e+00     1.469696e-01\n",
      " * time: 1.1079869270324707\n",
      "    16    -7.843207e+00     5.092881e-02\n",
      " * time: 1.1317088603973389\n",
      "    17    -7.850686e+00     4.870467e-02\n",
      " * time: 1.154878854751587\n",
      "    18    -7.851975e+00     1.422758e-02\n",
      " * time: 1.1783020496368408\n",
      "    19    -7.852385e+00     7.663008e-03\n",
      " * time: 1.2017309665679932\n",
      "    20    -7.852584e+00     6.508460e-03\n",
      " * time: 1.2251319885253906\n",
      "    21    -7.852627e+00     2.057436e-03\n",
      " * time: 1.2485148906707764\n",
      "    22    -7.852640e+00     1.291258e-03\n",
      " * time: 1.2724740505218506\n",
      "    23    -7.852645e+00     9.385139e-04\n",
      " * time: 1.2959589958190918\n",
      "    24    -7.852646e+00     3.627973e-04\n",
      " * time: 1.3194608688354492\n",
      "    25    -7.852647e+00     2.813673e-04\n",
      " * time: 1.3430418968200684\n",
      "    26    -7.852647e+00     1.625352e-04\n",
      " * time: 1.3664710521697998\n",
      "    27    -7.852647e+00     6.919195e-05\n",
      " * time: 1.3899359703063965\n",
      "    28    -7.852647e+00     4.242387e-05\n",
      " * time: 1.4135768413543701\n",
      "    29    -7.852647e+00     2.589134e-05\n",
      " * time: 1.4378910064697266\n",
      "    30    -7.852647e+00     1.713961e-05\n",
      " * time: 1.4614598751068115\n",
      "    31    -7.852647e+00     9.518608e-06\n",
      " * time: 1.4847328662872314\n",
      "    32    -7.852647e+00     6.266663e-06\n",
      " * time: 1.5078299045562744\n",
      "    33    -7.852647e+00     2.467375e-06\n",
      " * time: 1.5309889316558838\n",
      "    34    -7.852647e+00     1.619777e-06\n",
      " * time: 1.5542278289794922\n",
      "    35    -7.852647e+00     9.374667e-07\n",
      " * time: 1.5777308940887451\n",
      "    36    -7.852647e+00     5.065019e-07\n",
      " * time: 1.6011128425598145\n",
      "    37    -7.852647e+00     1.607752e-07\n",
      " * time: 1.624398946762085\n",
      "    38    -7.852647e+00     1.110390e-07\n",
      " * time: 1.6480908393859863\n",
      "    39    -7.852647e+00     6.300018e-08\n",
      " * time: 1.6717438697814941\n",
      "    40    -7.852647e+00     4.373051e-08\n",
      " * time: 1.6949949264526367\n",
      "    41    -7.852647e+00     4.373051e-08\n",
      " * time: 1.8094470500946045\n"
     ]
    }
   ],
   "cell_type": "code",
   "source": [
    "scfres_dm = direct_minimization(basis; tol=tol^2);"
   ],
   "metadata": {},
   "execution_count": 4
  },
  {
   "cell_type": "markdown",
   "source": [
    "## Newton algorithm"
   ],
   "metadata": {}
  },
  {
   "cell_type": "markdown",
   "source": [
    "Start not too far from the solution to ensure convergence:\n",
    "We run first a very crude SCF to get close and then switch to Newton."
   ],
   "metadata": {}
  },
  {
   "outputs": [
    {
     "name": "stdout",
     "output_type": "stream",
     "text": [
      "n     Energy            log10(ΔE)   log10(Δρ)   Diag   Δtime\n",
      "---   ---------------   ---------   ---------   ----   ------\n",
      "  1   -7.846769718068                   -0.70    4.8         \n"
     ]
    }
   ],
   "cell_type": "code",
   "source": [
    "scfres_start = self_consistent_field(basis; tol=0.5);"
   ],
   "metadata": {},
   "execution_count": 5
  },
  {
   "cell_type": "markdown",
   "source": [
    "Remove the virtual orbitals (which Newton cannot treat yet)"
   ],
   "metadata": {}
  },
  {
   "outputs": [
    {
     "name": "stdout",
     "output_type": "stream",
     "text": [
      "n     Energy            log10(ΔE)   log10(Δρ)   Δtime\n",
      "---   ---------------   ---------   ---------   ------\n",
      "  1   -7.852645846438                   -1.64         \n",
      "  2   -7.852646686730       -6.08       -3.70    1.64s\n",
      "  3   -7.852646686730      -13.23       -7.21    193ms\n"
     ]
    }
   ],
   "cell_type": "code",
   "source": [
    "ψ = DFTK.select_occupied_orbitals(basis, scfres_start.ψ, scfres_start.occupation).ψ\n",
    "scfres_newton = newton(basis, ψ; tol);"
   ],
   "metadata": {},
   "execution_count": 6
  },
  {
   "cell_type": "markdown",
   "source": [
    "## Comparison of results"
   ],
   "metadata": {}
  },
  {
   "outputs": [
    {
     "name": "stdout",
     "output_type": "stream",
     "text": [
      "|ρ_newton - ρ_scf|  = 3.720582735479049e-7\n",
      "|ρ_newton - ρ_scfv| = 2.388362335052652e-7\n",
      "|ρ_newton - ρ_dm|   = 2.809961704709866e-9\n"
     ]
    }
   ],
   "cell_type": "code",
   "source": [
    "println(\"|ρ_newton - ρ_scf|  = \", norm(scfres_newton.ρ - scfres_scf.ρ))\n",
    "println(\"|ρ_newton - ρ_scfv| = \", norm(scfres_newton.ρ - scfres_scfv.ρ))\n",
    "println(\"|ρ_newton - ρ_dm|   = \", norm(scfres_newton.ρ - scfres_dm.ρ))"
   ],
   "metadata": {},
   "execution_count": 7
  }
 ],
 "nbformat_minor": 3,
 "metadata": {
  "language_info": {
   "file_extension": ".jl",
   "mimetype": "application/julia",
   "name": "julia",
   "version": "1.8.5"
  },
  "kernelspec": {
   "name": "julia-1.8",
   "display_name": "Julia 1.8.5",
   "language": "julia"
  }
 },
 "nbformat": 4
}
