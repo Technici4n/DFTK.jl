{
 "cells": [
  {
   "cell_type": "markdown",
   "source": [
    "# Polarizability using automatic differentiation\n",
    "\n",
    "Simple example for computing properties using (forward-mode)\n",
    "automatic differentiation.\n",
    "For a more classical approach and more details about computing polarizabilities,\n",
    "see Polarizability by linear response."
   ],
   "metadata": {}
  },
  {
   "outputs": [],
   "cell_type": "code",
   "source": [
    "using DFTK\n",
    "using LinearAlgebra\n",
    "using ForwardDiff\n",
    "\n",
    "# Construct PlaneWaveBasis given a particular electric field strength\n",
    "# Again we take the example of a Helium atom.\n",
    "function make_basis(ε::T; a=10., Ecut=30) where {T}\n",
    "    lattice=T(a) * I(3)  # lattice is a cube of $a$ Bohrs\n",
    "    # Helium at the center of the box\n",
    "    atoms     = [ElementPsp(:He, psp=load_psp(\"hgh/lda/He-q2\"))]\n",
    "    positions = [[1/2, 1/2, 1/2]]\n",
    "\n",
    "    model = model_DFT(lattice, atoms, positions, [:lda_x, :lda_c_vwn];\n",
    "                      extra_terms=[ExternalFromReal(r -> -ε * (r[1] - a/2))],\n",
    "                      symmetries=false)\n",
    "    PlaneWaveBasis(model; Ecut, kgrid=[1, 1, 1])  # No k-point sampling on isolated system\n",
    "end\n",
    "\n",
    "# dipole moment of a given density (assuming the current geometry)\n",
    "function dipole(basis, ρ)\n",
    "    @assert isdiag(basis.model.lattice)\n",
    "    a  = basis.model.lattice[1, 1]\n",
    "    rr = [a * (r[1] - 1/2) for r in r_vectors(basis)]\n",
    "    sum(rr .* ρ) * basis.dvol\n",
    "end\n",
    "\n",
    "# Function to compute the dipole for a given field strength\n",
    "function compute_dipole(ε; tol=1e-8, kwargs...)\n",
    "    scfres = self_consistent_field(make_basis(ε; kwargs...); tol)\n",
    "    dipole(scfres.basis, scfres.ρ)\n",
    "end;"
   ],
   "metadata": {},
   "execution_count": 1
  },
  {
   "cell_type": "markdown",
   "source": [
    "With this in place we can compute the polarizability from finite differences\n",
    "(just like in the previous example):"
   ],
   "metadata": {}
  },
  {
   "outputs": [
    {
     "name": "stdout",
     "output_type": "stream",
     "text": [
      "n     Energy            log10(ΔE)   log10(Δρ)   Diag   Δtime\n",
      "---   ---------------   ---------   ---------   ----   ------\n",
      "  1   -2.770850263317                   -0.52    9.0         \n",
      "  2   -2.772141238150       -2.89       -1.32    1.0    144ms\n",
      "  3   -2.772170353467       -4.54       -2.52    1.0    148ms\n",
      "  4   -2.772170679598       -6.49       -3.41    1.0    177ms\n",
      "  5   -2.772170720859       -7.38       -3.85    2.0    169ms\n",
      "  6   -2.772170722911       -8.69       -4.79    1.0    171ms\n",
      "  7   -2.772170723011      -10.00       -5.22    2.0    172ms\n",
      "  8   -2.772170723015      -11.37       -6.16    1.0    167ms\n",
      "  9   -2.772170723015      -13.39       -6.36    2.0    179ms\n",
      " 10   -2.772170723015      -13.51       -7.46    1.0    188ms\n",
      " 11   -2.772170723015      -14.18       -8.13    2.0    191ms\n",
      "n     Energy            log10(ΔE)   log10(Δρ)   Diag   Δtime\n",
      "---   ---------------   ---------   ---------   ----   ------\n",
      "  1   -2.770750583513                   -0.53    9.0         \n",
      "  2   -2.772048213997       -2.89       -1.31    1.0    144ms\n",
      "  3   -2.772082524798       -4.46       -2.64    1.0    147ms\n",
      "  4   -2.772083414616       -6.05       -3.94    2.0    195ms\n",
      "  5   -2.772083417638       -8.52       -4.46    2.0    167ms\n",
      "  6   -2.772083417803       -9.78       -5.55    1.0    173ms\n",
      "  7   -2.772083417810      -11.16       -5.87    2.0    173ms\n",
      "  8   -2.772083417811      -12.66       -6.72    1.0    170ms\n",
      "  9   -2.772083417811      -13.77       -7.76    1.0    168ms\n",
      " 10   -2.772083417811   +  -14.45       -8.17    2.0    195ms\n"
     ]
    },
    {
     "output_type": "execute_result",
     "data": {
      "text/plain": "1.773557968479249"
     },
     "metadata": {},
     "execution_count": 2
    }
   ],
   "cell_type": "code",
   "source": [
    "polarizability_fd = let\n",
    "    ε = 0.01\n",
    "    (compute_dipole(ε) - compute_dipole(0.0)) / ε\n",
    "end"
   ],
   "metadata": {},
   "execution_count": 2
  },
  {
   "cell_type": "markdown",
   "source": [
    "We do the same thing using automatic differentiation. Under the hood this uses\n",
    "custom rules to implicitly differentiate through the self-consistent\n",
    "field fixed-point problem."
   ],
   "metadata": {}
  },
  {
   "outputs": [
    {
     "name": "stdout",
     "output_type": "stream",
     "text": [
      "n     Energy            log10(ΔE)   log10(Δρ)   Diag   Δtime\n",
      "---   ---------------   ---------   ---------   ----   ------\n",
      "  1   -2.770845390422                   -0.52    9.0         \n",
      "  2   -2.772062853989       -2.91       -1.32    1.0    197ms\n",
      "  3   -2.772083127049       -4.69       -2.48    1.0    147ms\n",
      "  4   -2.772083353743       -6.64       -3.19    1.0    148ms\n",
      "  5   -2.772083417021       -7.20       -4.04    2.0    225ms\n",
      "  6   -2.772083417734       -9.15       -4.76    1.0    151ms\n",
      "  7   -2.772083417810      -10.12       -5.80    2.0    192ms\n",
      "  8   -2.772083417810      -12.27       -6.03    2.0    177ms\n",
      "  9   -2.772083417811      -12.81       -7.16    1.0    185ms\n",
      " 10   -2.772083417811   +    -Inf       -7.65    2.0    185ms\n",
      " 11   -2.772083417811   +  -14.31       -8.23    1.0    170ms\n",
      "\n",
      "Polarizability via ForwardDiff:       1.7725349621726858\n",
      "Polarizability via finite difference: 1.773557968479249\n"
     ]
    }
   ],
   "cell_type": "code",
   "source": [
    "polarizability = ForwardDiff.derivative(compute_dipole, 0.0)\n",
    "println()\n",
    "println(\"Polarizability via ForwardDiff:       $polarizability\")\n",
    "println(\"Polarizability via finite difference: $polarizability_fd\")"
   ],
   "metadata": {},
   "execution_count": 3
  }
 ],
 "nbformat_minor": 3,
 "metadata": {
  "language_info": {
   "file_extension": ".jl",
   "mimetype": "application/julia",
   "name": "julia",
   "version": "1.9.0"
  },
  "kernelspec": {
   "name": "julia-1.9",
   "display_name": "Julia 1.9.0",
   "language": "julia"
  }
 },
 "nbformat": 4
}
