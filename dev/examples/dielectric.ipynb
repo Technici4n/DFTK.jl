{
 "cells": [
  {
   "cell_type": "markdown",
   "source": [
    "# Eigenvalues of the dielectric matrix\n",
    "\n",
    "We compute a few eigenvalues of the dielectric matrix ($q=0$, $ω=0$) iteratively."
   ],
   "metadata": {}
  },
  {
   "outputs": [
    {
     "name": "stdout",
     "output_type": "stream",
     "text": [
      "n     Energy            log10(ΔE)   log10(Δρ)   Diag   Δtime\n",
      "---   ---------------   ---------   ---------   ----   ------\n",
      "  1   -7.234455808459                   -0.50    7.0         \n",
      "  2   -7.250048123048       -1.81       -1.40    1.0   7.78ms\n",
      "  3   -7.251224759467       -2.93       -2.12    2.0   8.98ms\n",
      "  4   -7.251311911525       -4.06       -2.31    2.0   9.78ms\n",
      "  5   -7.251336080957       -4.62       -2.89    1.0   7.69ms\n",
      "  6   -7.251338326253       -5.65       -3.25    2.0   9.45ms\n",
      "  7   -7.251338675410       -6.46       -3.59    1.0   60.0ms\n",
      "  8   -7.251338748052       -7.14       -3.79    2.0   9.63ms\n",
      "  9   -7.251338797764       -7.30       -4.53    1.0   8.01ms\n",
      " 10   -7.251338798605       -9.07       -5.10    2.0   9.47ms\n",
      " 11   -7.251338798698      -10.03       -5.62    3.0   11.4ms\n",
      " 12   -7.251338798704      -11.22       -5.99    2.0   10.3ms\n",
      " 13   -7.251338798704      -12.09       -6.48    1.0   8.57ms\n",
      " 14   -7.251338798705      -12.95       -6.95    1.0   8.27ms\n",
      " 15   -7.251338798705      -13.73       -7.26    2.0   9.74ms\n",
      " 16   -7.251338798705      -15.05       -7.88    1.0   7.96ms\n",
      " 17   -7.251338798705      -14.45       -7.99    3.0   11.2ms\n",
      " 18   -7.251338798705   +  -14.75       -8.54    1.0   8.81ms\n"
     ]
    }
   ],
   "cell_type": "code",
   "source": [
    "using DFTK\n",
    "using Plots\n",
    "using KrylovKit\n",
    "using Printf\n",
    "\n",
    "# Calculation parameters\n",
    "kgrid = [1, 1, 1]\n",
    "Ecut = 5\n",
    "\n",
    "# Silicon lattice\n",
    "a = 10.26\n",
    "lattice = a / 2 .* [[0 1 1.]; [1 0 1.]; [1 1 0.]]\n",
    "Si = ElementPsp(:Si, psp=load_psp(\"hgh/lda/Si-q4\"))\n",
    "atoms     = [Si, Si]\n",
    "positions = [ones(3)/8, -ones(3)/8]\n",
    "\n",
    "# Compute the dielectric operator without symmetries\n",
    "model  = model_LDA(lattice, atoms, positions, symmetries=false)\n",
    "basis  = PlaneWaveBasis(model; Ecut, kgrid)\n",
    "scfres = self_consistent_field(basis, tol=1e-8);"
   ],
   "metadata": {},
   "execution_count": 1
  },
  {
   "cell_type": "markdown",
   "source": [
    "Applying $ε^† ≔ (1- χ_0 K)$ …"
   ],
   "metadata": {}
  },
  {
   "outputs": [],
   "cell_type": "code",
   "source": [
    "function eps_fun(δρ)\n",
    "    δV = apply_kernel(basis, δρ; ρ=scfres.ρ)\n",
    "    χ0δV = apply_χ0(scfres, δV)\n",
    "    δρ - χ0δV\n",
    "end;"
   ],
   "metadata": {},
   "execution_count": 2
  },
  {
   "cell_type": "markdown",
   "source": [
    "… eagerly diagonalizes the subspace matrix at each iteration"
   ],
   "metadata": {}
  },
  {
   "outputs": [
    {
     "name": "stdout",
     "output_type": "stream",
     "text": [
      "[ Info: Arnoldi iteration step 1: normres = 0.05729580564461938\n",
      "[ Info: Arnoldi iteration step 2: normres = 0.533186916166295\n",
      "[ Info: Arnoldi iteration step 3: normres = 0.9300878062177742\n",
      "[ Info: Arnoldi iteration step 4: normres = 0.26499610240080995\n",
      "[ Info: Arnoldi iteration step 5: normres = 0.292444096302417\n",
      "[ Info: Arnoldi schursolve in iter 1, krylovdim = 5: 0 values converged, normres = (1.96e-02, 3.32e-02, 1.87e-01, 2.20e-01, 2.66e-02)\n",
      "[ Info: Arnoldi iteration step 6: normres = 0.4726993583276539\n",
      "[ Info: Arnoldi schursolve in iter 1, krylovdim = 6: 0 values converged, normres = (8.04e-03, 1.59e-01, 4.26e-01, 8.77e-02, 5.14e-02)\n",
      "[ Info: Arnoldi iteration step 7: normres = 0.09314978248857812\n",
      "[ Info: Arnoldi schursolve in iter 1, krylovdim = 7: 0 values converged, normres = (4.18e-04, 3.56e-02, 8.68e-03, 3.44e-02, 7.18e-02)\n",
      "[ Info: Arnoldi iteration step 8: normres = 0.12101625624088053\n",
      "[ Info: Arnoldi schursolve in iter 1, krylovdim = 8: 0 values converged, normres = (2.19e-05, 3.07e-03, 8.51e-04, 1.42e-02, 5.28e-02)\n",
      "[ Info: Arnoldi iteration step 9: normres = 0.06660811689638609\n",
      "[ Info: Arnoldi schursolve in iter 1, krylovdim = 9: 0 values converged, normres = (6.29e-07, 1.45e-04, 4.46e-05, 3.26e-03, 2.46e-02)\n",
      "[ Info: Arnoldi iteration step 10: normres = 0.07666235516160932\n",
      "[ Info: Arnoldi schursolve in iter 1, krylovdim = 10: 0 values converged, normres = (2.13e-08, 8.21e-06, 2.82e-06, 9.87e-04, 1.92e-02)\n",
      "[ Info: Arnoldi iteration step 11: normres = 0.08246279592333286\n",
      "[ Info: Arnoldi schursolve in iter 1, krylovdim = 11: 0 values converged, normres = (7.38e-10, 4.59e-07, 1.74e-07, 2.21e-04, 7.98e-03)\n",
      "[ Info: Arnoldi iteration step 12: normres = 0.060514144410236115\n",
      "[ Info: Arnoldi schursolve in iter 1, krylovdim = 12: 0 values converged, normres = (1.94e-11, 2.00e-08, 8.43e-09, 4.60e-05, 3.62e-03)\n",
      "[ Info: Arnoldi iteration step 13: normres = 0.04168292403761502\n",
      "[ Info: Arnoldi schursolve in iter 1, krylovdim = 13: 1 values converged, normres = (3.43e-13, 5.72e-10, 2.67e-10, 5.37e-06, 7.84e-04)\n",
      "[ Info: Arnoldi iteration step 14: normres = 0.5072969903061927\n",
      "[ Info: Arnoldi schursolve in iter 1, krylovdim = 14: 1 values converged, normres = (7.87e-14, 2.23e-10, 1.16e-10, 1.29e-05, 6.09e-03)\n",
      "[ Info: Arnoldi iteration step 15: normres = 0.07422318858041754\n",
      "[ Info: Arnoldi schursolve in iter 1, krylovdim = 15: 1 values converged, normres = (5.74e-15, 6.89e-10, 6.82e-02, 7.99e-04, 2.18e-05)\n",
      "[ Info: Arnoldi iteration step 16: normres = 0.6995917929333735\n",
      "[ Info: Arnoldi schursolve in iter 1, krylovdim = 16: 1 values converged, normres = (2.29e-15, 8.10e-10, 5.66e-02, 1.96e-04, 6.84e-01)\n",
      "[ Info: Arnoldi iteration step 17: normres = 0.04260534035208728\n",
      "[ Info: Arnoldi schursolve in iter 1, krylovdim = 17: 1 values converged, normres = (6.90e-17, 7.30e-09, 1.03e-02, 1.50e-05, 2.90e-02)\n",
      "[ Info: Arnoldi iteration step 18: normres = 0.020792726728959737\n",
      "[ Info: Arnoldi schursolve in iter 1, krylovdim = 18: 1 values converged, normres = (5.96e-19, 1.04e-04, 9.86e-05, 3.73e-10, 4.43e-04)\n",
      "[ Info: Arnoldi iteration step 19: normres = 0.21723038830003835\n",
      "[ Info: Arnoldi schursolve in iter 1, krylovdim = 19: 1 values converged, normres = (5.70e-20, 1.75e-08, 2.27e-05, 6.57e-05, 4.28e-05)\n",
      "[ Info: Arnoldi iteration step 20: normres = 0.029406783044950723\n",
      "[ Info: Arnoldi schursolve in iter 1, krylovdim = 20: 1 values converged, normres = (7.83e-22, 3.44e-08, 5.47e-07, 1.95e-06, 8.75e-07)\n",
      "[ Info: Arnoldi iteration step 21: normres = 0.01888641390371514\n",
      "[ Info: Arnoldi schursolve in iter 1, krylovdim = 21: 1 values converged, normres = (6.06e-24, 5.55e-09, 3.83e-09, 4.02e-10, 2.90e-08)\n",
      "[ Info: Arnoldi iteration step 22: normres = 0.0389019674058787\n",
      "[ Info: Arnoldi schursolve in iter 1, krylovdim = 22: 1 values converged, normres = (9.76e-26, 1.30e-10, 1.15e-10, 2.26e-11, 8.24e-10)\n",
      "[ Info: Arnoldi iteration step 23: normres = 0.09147370233422657\n",
      "[ Info: Arnoldi schursolve in iter 1, krylovdim = 23: 1 values converged, normres = (3.71e-27, 7.95e-12, 7.01e-12, 1.52e-12, 5.54e-11)\n",
      "[ Info: Arnoldi iteration step 24: normres = 0.3046635390293433\n",
      "[ Info: Arnoldi schursolve in iter 1, krylovdim = 24: 1 values converged, normres = (9.81e-28, 1.00e-11, 8.82e-12, 4.50e-12, 1.65e-10)\n",
      "[ Info: Arnoldi iteration step 25: normres = 0.02864826820090392\n",
      "[ Info: Arnoldi schursolve in iter 1, krylovdim = 25: 3 values converged, normres = (1.26e-29, 3.24e-13, 2.85e-13, 4.65e-03, 4.11e-03)\n",
      "[ Info: Arnoldi iteration step 26: normres = 0.10693978900243177\n",
      "[ Info: Arnoldi schursolve in iter 1, krylovdim = 26: 3 values converged, normres = (6.00e-31, 2.56e-14, 2.26e-14, 2.93e-11, 1.04e-09)\n",
      "[ Info: Arnoldi iteration step 27: normres = 0.028081724910598075\n",
      "[ Info: Arnoldi schursolve in iter 1, krylovdim = 27: 3 values converged, normres = (7.09e-33, 4.91e-16, 4.33e-16, 1.89e-11, 7.10e-10)\n",
      "[ Info: Arnoldi iteration step 28: normres = 0.11095546304940601\n",
      "[ Info: Arnoldi schursolve in iter 1, krylovdim = 28: 3 values converged, normres = (3.35e-34, 3.79e-17, 3.34e-17, 1.77e-08, 2.31e-08)\n",
      "[ Info: Arnoldi iteration step 29: normres = 0.01954415611732199\n",
      "[ Info: Arnoldi schursolve in iter 1, krylovdim = 29: 3 values converged, normres = (2.81e-36, 5.21e-19, 4.59e-19, 1.51e-08, 8.70e-10)\n",
      "[ Info: Arnoldi iteration step 30: normres = 0.21453409011087182\n",
      "[ Info: Arnoldi schursolve in iter 1, krylovdim = 30: 3 values converged, normres = (2.69e-37, 8.35e-20, 7.36e-20, 1.69e-11, 2.76e-09)\n",
      "[ Info: Arnoldi schursolve in iter 2, krylovdim = 19: 3 values converged, normres = (2.69e-37, 8.35e-20, 7.36e-20, 1.70e-11, 2.76e-09)\n",
      "[ Info: Arnoldi iteration step 20: normres = 0.044431100874922545\n",
      "[ Info: Arnoldi schursolve in iter 2, krylovdim = 20: 3 values converged, normres = (5.51e-39, 2.96e-21, 2.61e-21, 2.10e-12, 1.13e-10)\n",
      "[ Info: Arnoldi iteration step 21: normres = 0.0757545500602903\n",
      "[ Info: Arnoldi schursolve in iter 2, krylovdim = 21: 4 values converged, normres = (1.76e-40, 1.54e-22, 1.36e-22, 1.15e-13, 6.51e-12)\n",
      "[ Info: Arnoldi iteration step 22: normres = 0.021709418167224968\n",
      "┌ Info: Arnoldi eigsolve finished after 2 iterations:\n",
      "│ *  6 eigenvalues converged\n",
      "│ *  norm of residuals = (1.6215072782455934e-42, 2.3069286472794407e-24, 1.7452593971447322e-24, 1.91826962364263e-15, 3.69920032082462e-14, 4.30223162976374e-15)\n",
      "└ *  number of operations = 33\n"
     ]
    }
   ],
   "cell_type": "code",
   "source": [
    "eigsolve(eps_fun, randn(size(scfres.ρ)), 5, :LM; eager=true, verbosity=3);"
   ],
   "metadata": {},
   "execution_count": 3
  }
 ],
 "nbformat_minor": 3,
 "metadata": {
  "language_info": {
   "file_extension": ".jl",
   "mimetype": "application/julia",
   "name": "julia",
   "version": "1.9.0"
  },
  "kernelspec": {
   "name": "julia-1.9",
   "display_name": "Julia 1.9.0",
   "language": "julia"
  }
 },
 "nbformat": 4
}
