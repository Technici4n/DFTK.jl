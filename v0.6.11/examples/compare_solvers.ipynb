{
 "cells": [
  {
   "cell_type": "markdown",
   "source": [
    "# Comparison of DFT solvers"
   ],
   "metadata": {}
  },
  {
   "cell_type": "markdown",
   "source": [
    "We compare four different approaches for solving the DFT minimisation problem,\n",
    "namely a density-based SCF, a potential-based SCF, direct minimisation and Newton."
   ],
   "metadata": {}
  },
  {
   "cell_type": "markdown",
   "source": [
    "First we setup our problem"
   ],
   "metadata": {}
  },
  {
   "outputs": [
    {
     "output_type": "execute_result",
     "data": {
      "text/plain": "1.0e-6"
     },
     "metadata": {},
     "execution_count": 1
    }
   ],
   "cell_type": "code",
   "source": [
    "using DFTK\n",
    "using LinearAlgebra\n",
    "\n",
    "a = 10.26  # Silicon lattice constant in Bohr\n",
    "lattice = a / 2 * [[0 1 1.];\n",
    "                   [1 0 1.];\n",
    "                   [1 1 0.]]\n",
    "Si = ElementPsp(:Si, psp=load_psp(\"hgh/lda/Si-q4\"))\n",
    "atoms     = [Si, Si]\n",
    "positions = [ones(3)/8, -ones(3)/8]\n",
    "\n",
    "model = model_LDA(lattice, atoms, positions)\n",
    "basis = PlaneWaveBasis(model; Ecut=5, kgrid=[3, 3, 3])\n",
    "\n",
    "# Convergence we desire in the density\n",
    "tol = 1e-6"
   ],
   "metadata": {},
   "execution_count": 1
  },
  {
   "cell_type": "markdown",
   "source": [
    "## Density-based self-consistent field"
   ],
   "metadata": {}
  },
  {
   "outputs": [
    {
     "name": "stdout",
     "output_type": "stream",
     "text": [
      "n     Energy            log10(ΔE)   log10(Δρ)   Diag   Δtime\n",
      "---   ---------------   ---------   ---------   ----   ------\n",
      "  1   -7.846854218428                   -0.70    4.8         \n",
      "  2   -7.852317293529       -2.26       -1.53    1.0   25.4ms\n",
      "  3   -7.852617131640       -3.52       -2.57    1.5   28.5ms\n",
      "  4   -7.852646034871       -4.54       -2.92    2.8   35.0ms\n",
      "  5   -7.852646534303       -6.30       -3.24    1.2   26.6ms\n",
      "  6   -7.852646680170       -6.84       -4.25    1.2   26.8ms\n",
      "  7   -7.852646686667       -8.19       -5.02    2.2   34.5ms\n",
      "  8   -7.852646686726      -10.23       -5.54    1.8   30.3ms\n",
      "  9   -7.852646686729      -11.57       -5.74    1.2   27.6ms\n",
      " 10   -7.852646686730      -12.02       -6.82    1.0   25.8ms\n"
     ]
    }
   ],
   "cell_type": "code",
   "source": [
    "scfres_scf = self_consistent_field(basis; tol);"
   ],
   "metadata": {},
   "execution_count": 2
  },
  {
   "cell_type": "markdown",
   "source": [
    "## Potential-based SCF"
   ],
   "metadata": {}
  },
  {
   "outputs": [
    {
     "name": "stdout",
     "output_type": "stream",
     "text": [
      "n     Energy            log10(ΔE)   log10(Δρ)   α      Diag   Δtime\n",
      "---   ---------------   ---------   ---------   ----   ----   ------\n",
      "  1   -7.846914142300                   -0.70           4.8         \n",
      "  2   -7.852528041758       -2.25       -1.64   0.80    2.0    277ms\n",
      "  3   -7.852635803278       -3.97       -2.72   0.80    1.0   23.5ms\n",
      "  4   -7.852646451979       -4.97       -3.24   0.80    2.2   30.8ms\n",
      "  5   -7.852646665545       -6.67       -4.05   0.80    1.0   23.5ms\n",
      "  6   -7.852646686321       -7.68       -4.68   0.80    1.8   28.4ms\n",
      "  7   -7.852646686707       -9.41       -5.43   0.80    1.5   26.9ms\n",
      "  8   -7.852646686729      -10.67       -6.48   0.80    1.8   27.9ms\n"
     ]
    }
   ],
   "cell_type": "code",
   "source": [
    "scfres_scfv = DFTK.scf_potential_mixing(basis; tol);"
   ],
   "metadata": {},
   "execution_count": 3
  },
  {
   "cell_type": "markdown",
   "source": [
    "## Direct minimization\n",
    "Note: Unlike the other algorithms, tolerance for this one is in the energy,\n",
    "thus we square the density tolerance value to be roughly equivalent."
   ],
   "metadata": {}
  },
  {
   "outputs": [
    {
     "name": "stdout",
     "output_type": "stream",
     "text": [
      "Iter     Function value   Gradient norm \n",
      "     0     1.391972e+01     3.620439e+00\n",
      " * time: 0.06254792213439941\n",
      "     1     1.204049e+00     1.757762e+00\n",
      " * time: 0.30686402320861816\n",
      "     2    -1.293861e+00     1.989219e+00\n",
      " * time: 0.3320930004119873\n",
      "     3    -3.670805e+00     1.745091e+00\n",
      " * time: 0.3679769039154053\n",
      "     4    -4.657833e+00     1.597114e+00\n",
      " * time: 0.4038560390472412\n",
      "     5    -6.489232e+00     9.671444e-01\n",
      " * time: 0.43950390815734863\n",
      "     6    -7.183390e+00     4.732329e-01\n",
      " * time: 0.47556304931640625\n",
      "     7    -7.531553e+00     3.145605e-01\n",
      " * time: 0.5003259181976318\n",
      "     8    -7.680524e+00     1.514857e-01\n",
      " * time: 0.5257258415222168\n",
      "     9    -7.756214e+00     1.340858e-01\n",
      " * time: 0.5508320331573486\n",
      "    10    -7.794178e+00     8.999203e-02\n",
      " * time: 0.5761868953704834\n",
      "    11    -7.821973e+00     5.812033e-02\n",
      " * time: 0.6017320156097412\n",
      "    12    -7.840898e+00     5.548180e-02\n",
      " * time: 0.6277649402618408\n",
      "    13    -7.848719e+00     2.248437e-02\n",
      " * time: 0.6529438495635986\n",
      "    14    -7.851362e+00     1.791733e-02\n",
      " * time: 0.6781778335571289\n",
      "    15    -7.852154e+00     1.243350e-02\n",
      " * time: 0.7034199237823486\n",
      "    16    -7.852473e+00     6.862231e-03\n",
      " * time: 0.728874921798706\n",
      "    17    -7.852595e+00     3.813213e-03\n",
      " * time: 0.7543628215789795\n",
      "    18    -7.852632e+00     1.963937e-03\n",
      " * time: 0.7799508571624756\n",
      "    19    -7.852642e+00     9.796861e-04\n",
      " * time: 0.8054289817810059\n",
      "    20    -7.852645e+00     4.674813e-04\n",
      " * time: 0.8307440280914307\n",
      "    21    -7.852646e+00     2.810222e-04\n",
      " * time: 0.8562970161437988\n",
      "    22    -7.852647e+00     2.330832e-04\n",
      " * time: 0.8816759586334229\n",
      "    23    -7.852647e+00     1.263269e-04\n",
      " * time: 0.9811038970947266\n",
      "    24    -7.852647e+00     6.344173e-05\n",
      " * time: 1.0059900283813477\n",
      "    25    -7.852647e+00     4.128399e-05\n",
      " * time: 1.0311188697814941\n",
      "    26    -7.852647e+00     2.095872e-05\n",
      " * time: 1.0560839176177979\n",
      "    27    -7.852647e+00     1.512905e-05\n",
      " * time: 1.0818228721618652\n",
      "    28    -7.852647e+00     8.675132e-06\n",
      " * time: 1.108003854751587\n",
      "    29    -7.852647e+00     6.358687e-06\n",
      " * time: 1.1340649127960205\n",
      "    30    -7.852647e+00     3.795139e-06\n",
      " * time: 1.1598718166351318\n",
      "    31    -7.852647e+00     2.749883e-06\n",
      " * time: 1.1858530044555664\n",
      "    32    -7.852647e+00     1.400772e-06\n",
      " * time: 1.2122960090637207\n",
      "    33    -7.852647e+00     7.732033e-07\n",
      " * time: 1.2382769584655762\n",
      "    34    -7.852647e+00     3.835354e-07\n",
      " * time: 1.264469861984253\n",
      "    35    -7.852647e+00     2.437593e-07\n",
      " * time: 1.2896108627319336\n",
      "    36    -7.852647e+00     1.332298e-07\n",
      " * time: 1.3147568702697754\n",
      "    37    -7.852647e+00     9.525755e-08\n",
      " * time: 1.3402040004730225\n",
      "    38    -7.852647e+00     4.100556e-08\n",
      " * time: 1.3658099174499512\n",
      "    39    -7.852647e+00     2.242903e-08\n",
      " * time: 1.3910009860992432\n",
      "    40    -7.852647e+00     1.329801e-08\n",
      " * time: 1.4161298274993896\n",
      "    41    -7.852647e+00     8.682777e-09\n",
      " * time: 1.4517078399658203\n",
      "    42    -7.852647e+00     5.024032e-09\n",
      " * time: 1.4771528244018555\n",
      "    43    -7.852647e+00     5.012404e-09\n",
      " * time: 1.53482985496521\n",
      "    44    -7.852647e+00     5.012399e-09\n",
      " * time: 1.6255970001220703\n"
     ]
    }
   ],
   "cell_type": "code",
   "source": [
    "scfres_dm = direct_minimization(basis; tol=tol^2);"
   ],
   "metadata": {},
   "execution_count": 4
  },
  {
   "cell_type": "markdown",
   "source": [
    "## Newton algorithm"
   ],
   "metadata": {}
  },
  {
   "cell_type": "markdown",
   "source": [
    "Start not too far from the solution to ensure convergence:\n",
    "We run first a very crude SCF to get close and then switch to Newton."
   ],
   "metadata": {}
  },
  {
   "outputs": [
    {
     "name": "stdout",
     "output_type": "stream",
     "text": [
      "n     Energy            log10(ΔE)   log10(Δρ)   Diag   Δtime\n",
      "---   ---------------   ---------   ---------   ----   ------\n",
      "  1   -7.846671660661                   -0.70    4.5         \n"
     ]
    }
   ],
   "cell_type": "code",
   "source": [
    "scfres_start = self_consistent_field(basis; tol=0.5);"
   ],
   "metadata": {},
   "execution_count": 5
  },
  {
   "cell_type": "markdown",
   "source": [
    "Remove the virtual orbitals (which Newton cannot treat yet)"
   ],
   "metadata": {}
  },
  {
   "outputs": [
    {
     "name": "stdout",
     "output_type": "stream",
     "text": [
      "n     Energy            log10(ΔE)   log10(Δρ)   Δtime\n",
      "---   ---------------   ---------   ---------   ------\n",
      "  1   -7.852645936411                   -1.64         \n",
      "  2   -7.852646686730       -6.12       -3.72    2.18s\n",
      "  3   -7.852646686730      -13.34       -7.27    178ms\n"
     ]
    }
   ],
   "cell_type": "code",
   "source": [
    "ψ = DFTK.select_occupied_orbitals(basis, scfres_start.ψ, scfres_start.occupation).ψ\n",
    "scfres_newton = newton(basis, ψ; tol);"
   ],
   "metadata": {},
   "execution_count": 6
  },
  {
   "cell_type": "markdown",
   "source": [
    "## Comparison of results"
   ],
   "metadata": {}
  },
  {
   "outputs": [
    {
     "name": "stdout",
     "output_type": "stream",
     "text": [
      "|ρ_newton - ρ_scf|  = 2.1103556136645555e-7\n",
      "|ρ_newton - ρ_scfv| = 8.485022497642605e-7\n",
      "|ρ_newton - ρ_dm|   = 8.435599541715113e-10\n"
     ]
    }
   ],
   "cell_type": "code",
   "source": [
    "println(\"|ρ_newton - ρ_scf|  = \", norm(scfres_newton.ρ - scfres_scf.ρ))\n",
    "println(\"|ρ_newton - ρ_scfv| = \", norm(scfres_newton.ρ - scfres_scfv.ρ))\n",
    "println(\"|ρ_newton - ρ_dm|   = \", norm(scfres_newton.ρ - scfres_dm.ρ))"
   ],
   "metadata": {},
   "execution_count": 7
  }
 ],
 "nbformat_minor": 3,
 "metadata": {
  "language_info": {
   "file_extension": ".jl",
   "mimetype": "application/julia",
   "name": "julia",
   "version": "1.9.2"
  },
  "kernelspec": {
   "name": "julia-1.9",
   "display_name": "Julia 1.9.2",
   "language": "julia"
  }
 },
 "nbformat": 4
}
