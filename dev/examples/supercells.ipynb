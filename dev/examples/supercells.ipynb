{
 "cells": [
  {
   "cell_type": "markdown",
   "source": [
    "# Creating and modelling metallic supercells\n",
    "\n",
    "In this section we will be concerned with modelling supercells of aluminium.\n",
    "When dealing with periodic problems there is no unique definition of the\n",
    "lattice: Clearly any duplication of the lattice along an axis is also a valid\n",
    "repetitive unit to describe exactly the same system.\n",
    "This is exactly what a **supercell** is: An $n$-fold repetition along one of the\n",
    "axes of the original lattice.\n",
    "\n",
    "The following code achieves this for aluminium:"
   ],
   "metadata": {}
  },
  {
   "outputs": [],
   "cell_type": "code",
   "source": [
    "using DFTK\n",
    "using LinearAlgebra\n",
    "using ASEconvert\n",
    "\n",
    "function aluminium_setup(repeat=1; Ecut=7.0, kgrid=[2, 2, 2])\n",
    "    a = 7.65339\n",
    "    lattice = a * Matrix(I, 3, 3)\n",
    "    Al = ElementPsp(:Al, psp=load_psp(\"hgh/lda/al-q3\"))\n",
    "    atoms     = [Al, Al, Al, Al]\n",
    "    positions = [[0.0, 0.0, 0.0], [0.0, 0.5, 0.5], [0.5, 0.0, 0.5], [0.5, 0.5, 0.0]]\n",
    "    unit_cell = periodic_system(lattice, atoms, positions)\n",
    "\n",
    "    # Make supercell in ASE:\n",
    "    # We convert our lattice to the conventions used in ASE, make the supercell\n",
    "    # and then convert back ...\n",
    "    supercell_ase = convert_ase(unit_cell) * pytuple((repeat, 1, 1))\n",
    "    supercell     = pyconvert(AbstractSystem, supercell_ase)\n",
    "\n",
    "    # Unfortunately right now the conversion to ASE drops the pseudopotential information,\n",
    "    # so we need to reattach it:\n",
    "    supercell = attach_psp(supercell, Al=\"hgh/lda/al-q3\")\n",
    "\n",
    "    # Construct an LDA model and discretise\n",
    "    # Note: We disable symmetries explicitly here. Otherwise the problem sizes\n",
    "    #       we are able to run on the CI are too simple to observe the numerical\n",
    "    #       instabilities we want to trigger here.\n",
    "    model = model_LDA(supercell; temperature=1e-3, symmetries=false)\n",
    "    PlaneWaveBasis(model; Ecut, kgrid)\n",
    "end;"
   ],
   "metadata": {},
   "execution_count": 1
  },
  {
   "cell_type": "markdown",
   "source": [
    "As part of the code we are using a routine inside the ASE,\n",
    "the [atomistic simulation environment](https://wiki.fysik.dtu.dk/ase/index.html)\n",
    "for creating the supercell and make use of the two-way interoperability of\n",
    "DFTK and ASE. For more details on this aspect see the documentation\n",
    "on Input and output formats."
   ],
   "metadata": {}
  },
  {
   "cell_type": "markdown",
   "source": [
    "Write an example supercell structure to a file to plot it:"
   ],
   "metadata": {}
  },
  {
   "outputs": [
    {
     "name": "stdout",
     "output_type": "stream",
     "text": [
      "┌ Warning: Skipping atomic property pseudopotential, which is not supported in ASE.\n",
      "└ @ ASEconvert ~/.julia/packages/ASEconvert/XF0Hn/src/ASEconvert.jl:144\n",
      "┌ Warning: Skipping atomic property pseudopotential, which is not supported in ASE.\n",
      "└ @ ASEconvert ~/.julia/packages/ASEconvert/XF0Hn/src/ASEconvert.jl:144\n"
     ]
    },
    {
     "output_type": "execute_result",
     "data": {
      "text/plain": "\u001b[0m\u001b[1mPython None\u001b[22m"
     },
     "metadata": {},
     "execution_count": 2
    }
   ],
   "cell_type": "code",
   "source": [
    "setup = aluminium_setup(5)\n",
    "convert_ase(periodic_system(setup.model)).write(\"al_supercell.png\")"
   ],
   "metadata": {},
   "execution_count": 2
  },
  {
   "cell_type": "markdown",
   "source": [
    "<img src=\"https://docs.dftk.org/stable/examples/al_supercell.png\" width=500 height=500 />"
   ],
   "metadata": {}
  },
  {
   "cell_type": "markdown",
   "source": [
    "As we will see in this notebook the modelling of a system generally becomes\n",
    "harder if the system becomes larger.\n",
    "\n",
    "- This sounds like a trivial statement as *per se* the cost per SCF step increases\n",
    "  as the system (and thus $N$) gets larger.\n",
    "- But there is more to it:\n",
    "  If one is not careful also the *number of SCF iterations* increases\n",
    "  as the system gets larger.\n",
    "- The aim of a proper computational treatment of such supercells is therefore\n",
    "  to ensure that the **number of SCF iterations remains constant** when the\n",
    "  system size increases."
   ],
   "metadata": {}
  },
  {
   "cell_type": "markdown",
   "source": [
    "For achieving the latter DFTK by default employs the `LdosMixing`\n",
    "preconditioner [^HL2021] during the SCF iterations. This mixing approach is\n",
    "completely parameter free, but still automatically adapts to the treated\n",
    "system in order to efficiently prevent charge sloshing. As a result,\n",
    "modelling aluminium slabs indeed takes roughly the same number of SCF iterations\n",
    "irrespective of the supercell size:\n",
    "\n",
    "[^HL2021]:\n",
    "   M. F. Herbst and A. Levitt.\n",
    "   *Black-box inhomogeneous preconditioning for self-consistent field iterations in density functional theory.*\n",
    "   J. Phys. Cond. Matt *33* 085503 (2021). [ArXiv:2009.01665](https://arxiv.org/abs/2009.01665)"
   ],
   "metadata": {}
  },
  {
   "outputs": [
    {
     "name": "stdout",
     "output_type": "stream",
     "text": [
      "┌ Warning: Skipping atomic property pseudopotential, which is not supported in ASE.\n",
      "└ @ ASEconvert ~/.julia/packages/ASEconvert/XF0Hn/src/ASEconvert.jl:144\n",
      "n     Energy            log10(ΔE)   log10(Δρ)   Diag   Δtime\n",
      "---   ---------------   ---------   ---------   ----   ------\n",
      "  1   -8.298541456599                   -0.85    5.5         \n",
      "  2   -8.300217643441       -2.78       -1.25    1.0    105ms\n",
      "  3   -8.300438897016       -3.66       -1.88    2.0    118ms\n",
      "  4   -8.300461787942       -4.64       -2.74    2.5    131ms\n",
      "  5   -8.300464390633       -5.58       -3.20    2.6    184ms\n",
      "  6   -8.300464517967       -6.90       -3.35   12.5    260ms\n",
      "  7   -8.300464580700       -7.20       -3.50    2.4    131ms\n",
      "  8   -8.300464615723       -7.46       -3.64    1.5    125ms\n",
      "  9   -8.300464636504       -7.68       -3.83    3.1    156ms\n",
      " 10   -8.300464640539       -8.39       -3.95    2.5    154ms\n",
      " 11   -8.300464643790       -8.49       -4.30    1.8    175ms\n"
     ]
    }
   ],
   "cell_type": "code",
   "source": [
    "self_consistent_field(aluminium_setup(1); tol=1e-4);"
   ],
   "metadata": {},
   "execution_count": 3
  },
  {
   "outputs": [
    {
     "name": "stdout",
     "output_type": "stream",
     "text": [
      "┌ Warning: Skipping atomic property pseudopotential, which is not supported in ASE.\n",
      "└ @ ASEconvert ~/.julia/packages/ASEconvert/XF0Hn/src/ASEconvert.jl:144\n",
      "n     Energy            log10(ΔE)   log10(Δρ)   Diag   Δtime\n",
      "---   ---------------   ---------   ---------   ----   ------\n",
      "  1   -16.67460952906                   -0.70    7.5         \n",
      "  2   -16.67870139338       -2.39       -1.14    1.2    270ms\n",
      "  3   -16.67920321569       -3.30       -1.86    3.6    364ms\n",
      "  4   -16.67927866672       -4.12       -2.75    2.8    310ms\n",
      "  5   -16.67928600643       -5.13       -3.17    4.2    378ms\n",
      "  6   -16.67928620086       -6.71       -3.48    2.4    288ms\n",
      "  7   -16.67928621794       -7.77       -3.94    2.2    310ms\n",
      "  8   -16.67928622158       -8.44       -4.59    2.1    293ms\n"
     ]
    }
   ],
   "cell_type": "code",
   "source": [
    "self_consistent_field(aluminium_setup(2); tol=1e-4);"
   ],
   "metadata": {},
   "execution_count": 4
  },
  {
   "outputs": [
    {
     "name": "stdout",
     "output_type": "stream",
     "text": [
      "┌ Warning: Skipping atomic property pseudopotential, which is not supported in ASE.\n",
      "└ @ ASEconvert ~/.julia/packages/ASEconvert/XF0Hn/src/ASEconvert.jl:144\n",
      "n     Energy            log10(ΔE)   log10(Δρ)   Diag   Δtime\n",
      "---   ---------------   ---------   ---------   ----   ------\n",
      "  1   -33.32573569199                   -0.56    6.2         \n",
      "  2   -33.33281169633       -2.15       -1.00    1.8    1.01s\n",
      "  3   -33.33408914540       -2.89       -1.73    4.6    1.22s\n",
      "  4   -33.33425141869       -3.79       -2.61    2.1    1.05s\n",
      "  5   -33.33593535732       -2.77       -2.50    5.0    1.51s\n",
      "  6   -33.33694226556       -3.00       -2.51    7.8    1.34s\n",
      "  7   -33.33694243458       -6.77       -2.51    2.1    977ms\n",
      "  8   -33.33694173789   +   -6.16       -2.51    1.6    947ms\n",
      "  9   -33.33619159189   +   -3.12       -1.95    3.0    1.46s\n",
      " 10   -33.33593228891   +   -3.59       -1.87    1.6    980ms\n",
      " 11   -33.33613311127       -3.70       -1.91    1.0    918ms\n",
      " 12   -33.33643887916       -3.51       -2.01    1.4    951ms\n",
      " 13   -33.33649446494       -4.26       -2.04    1.0    921ms\n",
      " 14   -33.33661177117       -3.93       -2.11    1.0    914ms\n",
      " 15   -33.33686988933       -3.59       -2.45    1.6    1.07s\n",
      " 16   -33.33688157232       -4.93       -2.48    1.5    976ms\n",
      " 17   -33.33694323524       -4.21       -3.67    2.6    1.19s\n",
      " 18   -33.33694357763       -6.47       -3.81    5.8    1.76s\n",
      " 19   -33.33694371752       -6.85       -4.04    1.8    941ms\n"
     ]
    }
   ],
   "cell_type": "code",
   "source": [
    "self_consistent_field(aluminium_setup(4); tol=1e-4);"
   ],
   "metadata": {},
   "execution_count": 5
  },
  {
   "cell_type": "markdown",
   "source": [
    "When switching off explicitly the `LdosMixing`, by selecting `mixing=SimpleMixing()`,\n",
    "the performance of number of required SCF steps starts to increase as we increase\n",
    "the size of the modelled problem:"
   ],
   "metadata": {}
  },
  {
   "outputs": [
    {
     "name": "stdout",
     "output_type": "stream",
     "text": [
      "┌ Warning: Skipping atomic property pseudopotential, which is not supported in ASE.\n",
      "└ @ ASEconvert ~/.julia/packages/ASEconvert/XF0Hn/src/ASEconvert.jl:144\n",
      "n     Energy            log10(ΔE)   log10(Δρ)   Diag   Δtime\n",
      "---   ---------------   ---------   ---------   ----   ------\n",
      "  1   -8.298475489777                   -0.85    5.5         \n",
      "  2   -8.300266578382       -2.75       -1.59    1.0   83.3ms\n",
      "  3   -8.300431411598       -3.78       -2.57    2.4    105ms\n",
      "  4   -8.300383847658   +   -4.32       -2.30    7.9    202ms\n",
      "  5   -8.300464054253       -4.10       -3.37    1.1   93.8ms\n",
      "  6   -8.300464548559       -6.31       -3.71    3.9    154ms\n",
      "  7   -8.300464637644       -7.05       -4.26    1.9    114ms\n"
     ]
    }
   ],
   "cell_type": "code",
   "source": [
    "self_consistent_field(aluminium_setup(1); tol=1e-4, mixing=SimpleMixing());"
   ],
   "metadata": {},
   "execution_count": 6
  },
  {
   "outputs": [
    {
     "name": "stdout",
     "output_type": "stream",
     "text": [
      "┌ Warning: Skipping atomic property pseudopotential, which is not supported in ASE.\n",
      "└ @ ASEconvert ~/.julia/packages/ASEconvert/XF0Hn/src/ASEconvert.jl:144\n",
      "n     Energy            log10(ΔE)   log10(Δρ)   Diag   Δtime\n",
      "---   ---------------   ---------   ---------   ----   ------\n",
      "  1   -33.32479694848                   -0.56    6.4         \n",
      "  2   -33.11050221079   +   -0.67       -1.18    2.9    917ms\n",
      "  3   +103.8372930604   +    2.14        0.01   15.4    3.08s\n",
      "  4   -33.08268860947        2.14       -1.29    7.2    2.67s\n",
      "  5   -33.24755612989       -0.78       -1.33    3.4    1.36s\n",
      "  6   -33.25781370583       -1.99       -1.59    2.1    1.32s\n",
      "  7   -32.72423914968   +   -0.27       -1.17    4.0    1.25s\n",
      "  8   -33.33001798903       -0.22       -2.10    3.6    1.15s\n",
      "  9   -33.33437359876       -2.36       -2.03    3.0    1.24s\n",
      " 10   -33.33670865330       -2.63       -2.61    2.0    997ms\n",
      " 11   -33.33690172863       -3.71       -2.85    2.1    958ms\n",
      " 12   -33.33691737873       -4.81       -2.99    2.6    975ms\n",
      " 13   -33.33692510160       -5.11       -3.18    2.6    987ms\n",
      " 14   -33.33694165792       -4.78       -3.68    1.9    961ms\n",
      " 15   -33.33694108170   +   -6.24       -3.83    3.2    1.25s\n",
      " 16   -33.33694308909       -5.70       -4.13    3.4    1.13s\n"
     ]
    }
   ],
   "cell_type": "code",
   "source": [
    "self_consistent_field(aluminium_setup(4); tol=1e-4, mixing=SimpleMixing());"
   ],
   "metadata": {},
   "execution_count": 7
  },
  {
   "cell_type": "markdown",
   "source": [
    "For completion let us note that the more traditional `mixing=KerkerMixing()`\n",
    "approach would also help in this particular setting to obtain a constant\n",
    "number of SCF iterations for an increasing system size (try it!). In contrast\n",
    "to `LdosMixing`, however, `KerkerMixing` is only suitable to model bulk metallic\n",
    "system (like the case we are considering here). When modelling metallic surfaces\n",
    "or mixtures of metals and insulators, `KerkerMixing` fails, while `LdosMixing`\n",
    "still works well. See the Modelling a gallium arsenide surface example\n",
    "or [^HL2021] for details. Due to the general applicability of `LdosMixing` this\n",
    "method is the default mixing approach in DFTK."
   ],
   "metadata": {}
  }
 ],
 "nbformat_minor": 3,
 "metadata": {
  "language_info": {
   "file_extension": ".jl",
   "mimetype": "application/julia",
   "name": "julia",
   "version": "1.8.5"
  },
  "kernelspec": {
   "name": "julia-1.8",
   "display_name": "Julia 1.8.5",
   "language": "julia"
  }
 },
 "nbformat": 4
}
