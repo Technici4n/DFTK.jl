{
 "cells": [
  {
   "cell_type": "markdown",
   "source": [
    "# Eigenvalues of the dielectric matrix\n",
    "\n",
    "We compute a few eigenvalues of the dielectric matrix ($q=0$, $ω=0$) iteratively."
   ],
   "metadata": {}
  },
  {
   "outputs": [
    {
     "name": "stdout",
     "output_type": "stream",
     "text": [
      "n     Energy            log10(ΔE)   log10(Δρ)   Diag\n",
      "---   ---------------   ---------   ---------   ----\n",
      "  1   -7.234572662706                   -0.50    8.0\n",
      "  2   -7.250302989241       -1.80       -1.40    1.0\n",
      "  3   -7.251325823309       -2.99       -2.17    4.0\n",
      "  4   -7.251324471946   +   -5.87       -2.48    3.0\n",
      "  5   -7.251335309406       -4.97       -2.85    2.0\n",
      "  6   -7.251337878402       -5.59       -3.18    2.0\n",
      "  7   -7.251338776380       -6.05       -3.97    1.0\n",
      "  8   -7.251338794222       -7.75       -4.25    3.0\n",
      "  9   -7.251338798433       -8.38       -4.91    2.0\n",
      " 10   -7.251338798697       -9.58       -5.59    3.0\n",
      " 11   -7.251338798703      -11.27       -5.87    3.0\n",
      " 12   -7.251338798704      -11.81       -6.32    2.0\n",
      " 13   -7.251338798705      -12.65       -7.02    3.0\n",
      " 14   -7.251338798705      -14.15       -7.38    2.0\n"
     ]
    }
   ],
   "cell_type": "code",
   "source": [
    "using DFTK\n",
    "using Plots\n",
    "using KrylovKit\n",
    "using Printf\n",
    "\n",
    "# Calculation parameters\n",
    "kgrid = [1, 1, 1]\n",
    "Ecut = 5\n",
    "\n",
    "# Silicon lattice\n",
    "a = 10.26\n",
    "lattice = a / 2 .* [[0 1 1.]; [1 0 1.]; [1 1 0.]]\n",
    "Si = ElementPsp(:Si, psp=load_psp(\"hgh/lda/Si-q4\"))\n",
    "atoms     = [Si, Si]\n",
    "positions = [ones(3)/8, -ones(3)/8]\n",
    "\n",
    "# Compute the dielectric operator without symmetries\n",
    "model = model_LDA(lattice, atoms, positions, symmetries=false)\n",
    "basis = PlaneWaveBasis(model; Ecut, kgrid)\n",
    "scfres = self_consistent_field(basis, tol=1e-14);"
   ],
   "metadata": {},
   "execution_count": 1
  },
  {
   "cell_type": "markdown",
   "source": [
    "Applying $ε^† ≔ (1- χ_0 K)$ …"
   ],
   "metadata": {}
  },
  {
   "outputs": [],
   "cell_type": "code",
   "source": [
    "function eps_fun(δρ)\n",
    "    δV = apply_kernel(basis, δρ; ρ=scfres.ρ)\n",
    "    χ0δV = apply_χ0(scfres, δV)\n",
    "    δρ - χ0δV\n",
    "end;"
   ],
   "metadata": {},
   "execution_count": 2
  },
  {
   "cell_type": "markdown",
   "source": [
    "… eagerly diagonalizes the subspace matrix at each iteration"
   ],
   "metadata": {}
  },
  {
   "outputs": [
    {
     "name": "stdout",
     "output_type": "stream",
     "text": [
      "[ Info: Arnoldi iteration step 1: normres = 0.0814085699597854\n",
      "[ Info: Arnoldi iteration step 2: normres = 0.3248894243097996\n",
      "[ Info: Arnoldi iteration step 3: normres = 0.9586607252917054\n",
      "[ Info: Arnoldi iteration step 4: normres = 0.39483078218914025\n",
      "[ Info: Arnoldi iteration step 5: normres = 0.5802648315718634\n",
      "[ Info: Arnoldi schursolve in iter 1, krylovdim = 5: 0 values converged, normres = (9.85e-02, 7.18e-02, 4.84e-01, 2.96e-01, 1.46e-02)\n",
      "[ Info: Arnoldi iteration step 6: normres = 0.1953226252577697\n",
      "[ Info: Arnoldi schursolve in iter 1, krylovdim = 6: 0 values converged, normres = (1.54e-02, 6.96e-02, 1.44e-01, 8.16e-02, 3.83e-02)\n",
      "[ Info: Arnoldi iteration step 7: normres = 0.07556894438005497\n",
      "[ Info: Arnoldi schursolve in iter 1, krylovdim = 7: 0 values converged, normres = (5.35e-04, 4.55e-03, 9.02e-03, 2.52e-02, 6.19e-02)\n",
      "[ Info: Arnoldi iteration step 8: normres = 0.1030799578283486\n",
      "[ Info: Arnoldi schursolve in iter 1, krylovdim = 8: 0 values converged, normres = (2.33e-05, 3.22e-04, 7.06e-04, 7.19e-03, 3.98e-02)\n",
      "[ Info: Arnoldi iteration step 9: normres = 0.05661216544697121\n",
      "[ Info: Arnoldi schursolve in iter 1, krylovdim = 9: 0 values converged, normres = (5.75e-07, 1.31e-05, 3.21e-05, 1.47e-03, 2.88e-02)\n",
      "[ Info: Arnoldi iteration step 10: normres = 0.11628472208328634\n",
      "[ Info: Arnoldi schursolve in iter 1, krylovdim = 10: 0 values converged, normres = (2.93e-08, 1.11e-06, 3.02e-06, 6.21e-04, 3.95e-02)\n",
      "[ Info: Arnoldi iteration step 11: normres = 0.09351321054398012\n",
      "[ Info: Arnoldi schursolve in iter 1, krylovdim = 11: 0 values converged, normres = (1.19e-09, 7.41e-08, 2.24e-07, 2.04e-04, 3.99e-02)\n",
      "[ Info: Arnoldi iteration step 12: normres = 0.07461313517219777\n",
      "[ Info: Arnoldi schursolve in iter 1, krylovdim = 12: 0 values converged, normres = (3.89e-11, 4.05e-09, 1.36e-08, 5.94e-05, 3.04e-02)\n",
      "[ Info: Arnoldi iteration step 13: normres = 0.524324375520564\n",
      "[ Info: Arnoldi schursolve in iter 1, krylovdim = 13: 0 values converged, normres = (9.49e-12, 1.71e-09, 6.50e-09, 2.46e-04, 3.70e-01)\n",
      "[ Info: Arnoldi iteration step 14: normres = 0.1009639138186096\n",
      "[ Info: Arnoldi schursolve in iter 1, krylovdim = 14: 1 values converged, normres = (9.38e-13, 7.10e-09, 9.31e-02, 1.92e-03, 1.75e-04)\n",
      "[ Info: Arnoldi iteration step 15: normres = 0.5431450503748805\n",
      "[ Info: Arnoldi schursolve in iter 1, krylovdim = 15: 1 values converged, normres = (2.44e-13, 5.97e-09, 4.25e-02, 2.27e-04, 5.96e-05)\n",
      "[ Info: Arnoldi iteration step 16: normres = 0.05129346078903713\n",
      "[ Info: Arnoldi schursolve in iter 1, krylovdim = 16: 1 values converged, normres = (1.05e-14, 1.37e-07, 1.28e-02, 1.21e-05, 4.24e-02)\n",
      "[ Info: Arnoldi iteration step 17: normres = 0.032448406534429396\n",
      "[ Info: Arnoldi schursolve in iter 1, krylovdim = 17: 1 values converged, normres = (1.42e-16, 8.89e-06, 2.79e-04, 1.52e-04, 9.94e-04)\n",
      "[ Info: Arnoldi iteration step 18: normres = 0.020196395083091484\n",
      "[ Info: Arnoldi schursolve in iter 1, krylovdim = 18: 1 values converged, normres = (1.18e-18, 2.43e-07, 3.73e-06, 1.24e-05, 8.23e-06)\n",
      "[ Info: Arnoldi iteration step 19: normres = 0.12502208643923354\n",
      "[ Info: Arnoldi schursolve in iter 1, krylovdim = 19: 1 values converged, normres = (6.15e-20, 8.18e-08, 3.01e-07, 9.02e-08, 1.36e-06)\n",
      "[ Info: Arnoldi iteration step 20: normres = 0.10086516196605566\n",
      "[ Info: Arnoldi schursolve in iter 1, krylovdim = 20: 1 values converged, normres = (3.05e-21, 1.22e-08, 2.51e-08, 1.37e-07, 2.79e-08)\n",
      "[ Info: Arnoldi iteration step 21: normres = 0.028000454734347913\n",
      "[ Info: Arnoldi schursolve in iter 1, krylovdim = 21: 1 values converged, normres = (3.59e-23, 2.65e-10, 4.61e-10, 2.69e-09, 1.20e-09)\n",
      "[ Info: Arnoldi iteration step 22: normres = 0.31480843595695857\n",
      "[ Info: Arnoldi schursolve in iter 1, krylovdim = 22: 1 values converged, normres = (4.79e-24, 5.75e-11, 1.00e-10, 6.36e-10, 3.08e-10)\n",
      "[ Info: Arnoldi iteration step 23: normres = 0.07493484322515563\n",
      "[ Info: Arnoldi schursolve in iter 1, krylovdim = 23: 1 values converged, normres = (3.31e-25, 2.81e-11, 4.89e-11, 7.95e-09, 3.03e-09)\n",
      "[ Info: Arnoldi iteration step 24: normres = 0.014605062656987598\n",
      "[ Info: Arnoldi schursolve in iter 1, krylovdim = 24: 3 values converged, normres = (1.99e-27, 2.79e-13, 4.85e-13, 3.28e-04, 1.78e-04)\n",
      "[ Info: Arnoldi iteration step 25: normres = 0.12230656884579412\n",
      "[ Info: Arnoldi schursolve in iter 1, krylovdim = 25: 3 values converged, normres = (1.03e-28, 2.35e-14, 4.08e-14, 4.52e-08, 3.03e-08)\n",
      "[ Info: Arnoldi iteration step 26: normres = 0.02663255012703736\n",
      "[ Info: Arnoldi schursolve in iter 1, krylovdim = 26: 3 values converged, normres = (1.21e-30, 4.60e-16, 8.00e-16, 1.20e-07, 3.30e-07)\n",
      "[ Info: Arnoldi iteration step 27: normres = 0.03644609244819101\n",
      "[ Info: Arnoldi schursolve in iter 1, krylovdim = 27: 3 values converged, normres = (1.81e-32, 1.10e-17, 1.91e-17, 1.38e-08, 3.77e-08)\n",
      "[ Info: Arnoldi iteration step 28: normres = 0.07788408151857663\n",
      "[ Info: Arnoldi schursolve in iter 1, krylovdim = 28: 3 values converged, normres = (6.17e-34, 6.20e-19, 1.08e-18, 1.02e-09, 2.28e-09)\n",
      "[ Info: Arnoldi iteration step 29: normres = 0.047584240456184305\n",
      "[ Info: Arnoldi schursolve in iter 1, krylovdim = 29: 3 values converged, normres = (1.23e-35, 1.99e-20, 3.46e-20, 3.51e-11, 8.02e-11)\n",
      "[ Info: Arnoldi iteration step 30: normres = 0.11055755112972879\n",
      "[ Info: Arnoldi schursolve in iter 1, krylovdim = 30: 3 values converged, normres = (6.71e-37, 1.96e-21, 3.42e-21, 3.96e-12, 9.04e-12)\n",
      "[ Info: Arnoldi schursolve in iter 2, krylovdim = 19: 3 values converged, normres = (6.71e-37, 1.96e-21, 3.42e-21, 3.96e-12, 9.04e-12)\n",
      "[ Info: Arnoldi iteration step 20: normres = 0.06807883715832673\n",
      "┌ Info: Arnoldi eigsolve finished after 2 iterations:\n",
      "│ *  6 eigenvalues converged\n",
      "│ *  norm of residuals = (1.9176694913928643e-38, 9.087551022444501e-23, 1.6337115080798903e-22, 2.0263084640690387e-13, 4.675873878164863e-13, 3.1747942821192624e-14)\n",
      "└ *  number of operations = 31\n"
     ]
    }
   ],
   "cell_type": "code",
   "source": [
    "eigsolve(eps_fun, randn(size(scfres.ρ)), 5, :LM; eager=true, verbosity=3);"
   ],
   "metadata": {},
   "execution_count": 3
  }
 ],
 "nbformat_minor": 3,
 "metadata": {
  "language_info": {
   "file_extension": ".jl",
   "mimetype": "application/julia",
   "name": "julia",
   "version": "1.8.2"
  },
  "kernelspec": {
   "name": "julia-1.8",
   "display_name": "Julia 1.8.2",
   "language": "julia"
  }
 },
 "nbformat": 4
}
