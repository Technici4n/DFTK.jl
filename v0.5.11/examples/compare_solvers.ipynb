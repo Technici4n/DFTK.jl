{
 "cells": [
  {
   "cell_type": "markdown",
   "source": [
    "# Comparison of DFT solvers"
   ],
   "metadata": {}
  },
  {
   "cell_type": "markdown",
   "source": [
    "We compare four different approaches for solving the DFT minimisation problem,\n",
    "namely a density-based SCF, a potential-based SCF, direct minimisation and Newton."
   ],
   "metadata": {}
  },
  {
   "cell_type": "markdown",
   "source": [
    "First we setup our problem"
   ],
   "metadata": {}
  },
  {
   "outputs": [],
   "cell_type": "code",
   "source": [
    "using DFTK\n",
    "using LinearAlgebra\n",
    "\n",
    "a = 10.26  # Silicon lattice constant in Bohr\n",
    "lattice = a / 2 * [[0 1 1.];\n",
    "                   [1 0 1.];\n",
    "                   [1 1 0.]]\n",
    "Si = ElementPsp(:Si, psp=load_psp(\"hgh/lda/Si-q4\"))\n",
    "atoms     = [Si, Si]\n",
    "positions = [ones(3)/8, -ones(3)/8]\n",
    "\n",
    "model = model_LDA(lattice, atoms, positions)\n",
    "basis = PlaneWaveBasis(model; Ecut=5, kgrid=[3, 3, 3])\n",
    "\n",
    "# Convergence we desire\n",
    "tol = 1e-12\n",
    "is_converged = DFTK.ScfConvergenceDensity(tol);"
   ],
   "metadata": {},
   "execution_count": 1
  },
  {
   "cell_type": "markdown",
   "source": [
    "## Density-based self-consistent field"
   ],
   "metadata": {}
  },
  {
   "outputs": [
    {
     "name": "stdout",
     "output_type": "stream",
     "text": [
      "n     Energy            log10(ΔE)   log10(Δρ)   Diag\n",
      "---   ---------------   ---------   ---------   ----\n",
      "  1   -7.846680647452                   -0.70    4.8\n",
      "  2   -7.852300357538       -2.25       -1.54    1.0\n",
      "  3   -7.852646017654       -3.46       -2.52    3.0\n",
      "  4   -7.852646677742       -6.18       -3.39    2.8\n",
      "  5   -7.852646686284       -8.07       -4.73    1.5\n",
      "  6   -7.852646686725       -9.36       -5.59    2.8\n",
      "  7   -7.852646686730      -11.33       -6.58    3.0\n",
      "  8   -7.852646686730      -13.85       -7.34    1.8\n",
      "  9   -7.852646686730      -14.57       -8.58    2.2\n",
      " 10   -7.852646686730   +  -14.57       -9.51    3.5\n",
      " 11   -7.852646686730      -14.45      -10.29    2.2\n",
      " 12   -7.852646686730   +    -Inf      -11.41    2.0\n",
      " 13   -7.852646686730   +  -15.05      -10.22    1.0\n",
      " 14   -7.852646686730      -14.75      -10.32    1.0\n",
      " 15   -7.852646686730      -15.05      -10.37    1.0\n",
      " 16   -7.852646686730   +  -14.45      -10.47    1.0\n",
      " 17   -7.852646686730      -14.75      -11.26    1.0\n",
      " 18   -7.852646686730      -14.75      -11.76    1.2\n",
      " 19   -7.852646686730   +  -14.75      -11.40    1.0\n",
      " 20   -7.852646686730   +    -Inf      -11.75    1.0\n",
      " 21   -7.852646686730   +    -Inf      -13.22    1.0\n"
     ]
    }
   ],
   "cell_type": "code",
   "source": [
    "scfres_scf = self_consistent_field(basis; is_converged);"
   ],
   "metadata": {},
   "execution_count": 2
  },
  {
   "cell_type": "markdown",
   "source": [
    "## Potential-based SCF"
   ],
   "metadata": {}
  },
  {
   "outputs": [
    {
     "name": "stdout",
     "output_type": "stream",
     "text": [
      "n     Energy            log10(ΔE)   log10(Δρ)   α      Diag\n",
      "---   ---------------   ---------   ---------   ----   ----\n",
      "  1   -7.846825786115                   -0.70           4.5\n",
      "  2   -7.852526731298       -2.24       -1.63   0.80    2.0\n",
      "  3   -7.852636752727       -3.96       -2.71   0.80    1.0\n",
      "  4   -7.852646481967       -5.01       -3.29   0.80    2.2\n",
      "  5   -7.852646672312       -6.72       -4.15   0.80    1.0\n",
      "  6   -7.852646686396       -7.85       -4.81   0.80    1.8\n",
      "  7   -7.852646686726       -9.48       -5.57   0.80    1.5\n",
      "  8   -7.852646686729      -11.46       -6.79   0.80    1.5\n",
      "  9   -7.852646686730      -12.38       -7.21   0.80    2.8\n",
      " 10   -7.852646686730      -15.05       -8.13   0.80    1.0\n",
      " 11   -7.852646686730      -14.75       -9.29   0.80    2.0\n",
      " 12   -7.852646686730   +  -14.57      -10.14   0.80    2.8\n",
      " 13   -7.852646686730      -14.75      -11.06   0.80    1.8\n",
      " 14   -7.852646686730      -14.75      -11.18   0.80    2.5\n",
      " 15   -7.852646686730   +  -14.57      -11.82   0.80    1.0\n",
      " 16   -7.852646686730      -15.05      -12.43   0.80    1.0\n"
     ]
    }
   ],
   "cell_type": "code",
   "source": [
    "scfres_scfv = DFTK.scf_potential_mixing(basis; is_converged);"
   ],
   "metadata": {},
   "execution_count": 3
  },
  {
   "cell_type": "markdown",
   "source": [
    "## Direct minimization"
   ],
   "metadata": {}
  },
  {
   "outputs": [
    {
     "name": "stdout",
     "output_type": "stream",
     "text": [
      "Iter     Function value   Gradient norm \n",
      "     0     1.392696e+01     3.627924e+00\n",
      " * time: 0.6737639904022217\n",
      "     1     1.371400e+00     1.893717e+00\n",
      " * time: 0.9366397857666016\n",
      "     2    -1.718871e+00     1.836152e+00\n",
      " * time: 0.9655358791351318\n",
      "     3    -3.990718e+00     1.523507e+00\n",
      " * time: 1.0066728591918945\n",
      "     4    -5.480540e+00     1.192447e+00\n",
      " * time: 1.0499110221862793\n",
      "     5    -6.909096e+00     6.999996e-01\n",
      " * time: 1.090446949005127\n",
      "     6    -7.244118e+00     6.618548e-01\n",
      " * time: 1.1188969612121582\n",
      "     7    -7.554681e+00     1.682013e-01\n",
      " * time: 1.1479368209838867\n",
      "     8    -7.668390e+00     1.709347e-01\n",
      " * time: 1.1792027950286865\n",
      "     9    -7.759738e+00     1.434544e-01\n",
      " * time: 1.2105128765106201\n",
      "    10    -7.800248e+00     9.583272e-02\n",
      " * time: 1.2398300170898438\n",
      "    11    -7.828682e+00     6.210079e-02\n",
      " * time: 1.2703368663787842\n",
      "    12    -7.842932e+00     5.058038e-02\n",
      " * time: 1.2995028495788574\n",
      "    13    -7.849778e+00     3.771047e-02\n",
      " * time: 1.3299849033355713\n",
      "    14    -7.850854e+00     3.771119e-02\n",
      " * time: 1.359246015548706\n",
      "    15    -7.851605e+00     1.461387e-02\n",
      " * time: 1.3895227909088135\n",
      "    16    -7.852256e+00     7.668588e-03\n",
      " * time: 1.418916940689087\n",
      "    17    -7.852526e+00     4.276516e-03\n",
      " * time: 1.4479749202728271\n",
      "    18    -7.852613e+00     2.900695e-03\n",
      " * time: 1.4764049053192139\n",
      "    19    -7.852637e+00     2.594505e-03\n",
      " * time: 1.5082628726959229\n",
      "    20    -7.852644e+00     1.192424e-03\n",
      " * time: 1.5388820171356201\n",
      "    21    -7.852646e+00     4.366700e-04\n",
      " * time: 1.5684058666229248\n",
      "    22    -7.852646e+00     2.364603e-04\n",
      " * time: 1.5995888710021973\n",
      "    23    -7.852647e+00     1.475768e-04\n",
      " * time: 1.6386528015136719\n",
      "    24    -7.852647e+00     1.322530e-04\n",
      " * time: 1.6676068305969238\n",
      "    25    -7.852647e+00     1.062619e-04\n",
      " * time: 1.697077989578247\n",
      "    26    -7.852647e+00     4.518371e-05\n",
      " * time: 1.7285799980163574\n",
      "    27    -7.852647e+00     1.956580e-05\n",
      " * time: 1.7591729164123535\n",
      "    28    -7.852647e+00     1.501249e-05\n",
      " * time: 1.7879679203033447\n",
      "    29    -7.852647e+00     1.075905e-05\n",
      " * time: 1.8201899528503418\n",
      "    30    -7.852647e+00     8.265381e-06\n",
      " * time: 1.8494458198547363\n",
      "    31    -7.852647e+00     6.191746e-06\n",
      " * time: 1.8783979415893555\n",
      "    32    -7.852647e+00     3.177986e-06\n",
      " * time: 1.907045841217041\n",
      "    33    -7.852647e+00     1.830571e-06\n",
      " * time: 1.9432599544525146\n",
      "    34    -7.852647e+00     8.174318e-07\n",
      " * time: 1.9719398021697998\n",
      "    35    -7.852647e+00     3.753998e-07\n",
      " * time: 2.0010578632354736\n",
      "    36    -7.852647e+00     2.204956e-07\n",
      " * time: 2.0292038917541504\n",
      "    37    -7.852647e+00     1.340138e-07\n",
      " * time: 2.0589280128479004\n",
      "    38    -7.852647e+00     6.837408e-08\n",
      " * time: 2.0870609283447266\n",
      "    39    -7.852647e+00     3.835462e-08\n",
      " * time: 2.116154909133911\n",
      "    40    -7.852647e+00     3.023633e-08\n",
      " * time: 2.14642596244812\n",
      "    41    -7.852647e+00     2.435676e-08\n",
      " * time: 2.2015368938446045\n",
      "    42    -7.852647e+00     1.739107e-08\n",
      " * time: 2.242614984512329\n",
      "    43    -7.852647e+00     1.701050e-08\n",
      " * time: 2.3739969730377197\n",
      "    44    -7.852647e+00     1.114648e-08\n",
      " * time: 2.414202928543091\n"
     ]
    }
   ],
   "cell_type": "code",
   "source": [
    "scfres_dm = direct_minimization(basis; tol);"
   ],
   "metadata": {},
   "execution_count": 4
  },
  {
   "cell_type": "markdown",
   "source": [
    "## Newton algorithm"
   ],
   "metadata": {}
  },
  {
   "cell_type": "markdown",
   "source": [
    "Start not too far from the solution to ensure convergence:\n",
    "We run first a very crude SCF to get close and then switch to Newton."
   ],
   "metadata": {}
  },
  {
   "outputs": [
    {
     "name": "stdout",
     "output_type": "stream",
     "text": [
      "n     Energy            log10(ΔE)   log10(Δρ)   Diag\n",
      "---   ---------------   ---------   ---------   ----\n",
      "  1   -7.846812070945                   -0.70    4.5\n",
      "  2   -7.852310494077       -2.26       -1.53    1.0\n"
     ]
    }
   ],
   "cell_type": "code",
   "source": [
    "scfres_start = self_consistent_field(basis; tol=1e-1);"
   ],
   "metadata": {},
   "execution_count": 5
  },
  {
   "cell_type": "markdown",
   "source": [
    "Remove the virtual orbitals (which Newton cannot treat yet)"
   ],
   "metadata": {}
  },
  {
   "outputs": [
    {
     "name": "stdout",
     "output_type": "stream",
     "text": [
      "n     Energy            log10(ΔE)   log10(Δρ)\n",
      "---   ---------------   ---------   ---------\n",
      "  1   -7.852646686666                   -2.54\n",
      "  2   -7.852646686730      -10.20       -5.84\n",
      "  3   -7.852646686730   +    -Inf      -11.96\n",
      "  4   -7.852646686730      -14.75      -15.98\n"
     ]
    }
   ],
   "cell_type": "code",
   "source": [
    "ψ, _ = DFTK.select_occupied_orbitals(basis, scfres_start.ψ, scfres_start.occupation)\n",
    "scfres_newton = newton(basis, ψ; tol);"
   ],
   "metadata": {},
   "execution_count": 6
  },
  {
   "cell_type": "markdown",
   "source": [
    "## Comparison of results"
   ],
   "metadata": {}
  },
  {
   "outputs": [
    {
     "name": "stdout",
     "output_type": "stream",
     "text": [
      "|ρ_newton - ρ_scf|  = 6.463538258820392e-14\n",
      "|ρ_newton - ρ_scfv| = 1.2087837850343388e-13\n",
      "|ρ_newton - ρ_dm|   = 7.493056051937786e-10\n"
     ]
    }
   ],
   "cell_type": "code",
   "source": [
    "println(\"|ρ_newton - ρ_scf|  = \", norm(scfres_newton.ρ - scfres_scf.ρ))\n",
    "println(\"|ρ_newton - ρ_scfv| = \", norm(scfres_newton.ρ - scfres_scfv.ρ))\n",
    "println(\"|ρ_newton - ρ_dm|   = \", norm(scfres_newton.ρ - scfres_dm.ρ))"
   ],
   "metadata": {},
   "execution_count": 7
  }
 ],
 "nbformat_minor": 3,
 "metadata": {
  "language_info": {
   "file_extension": ".jl",
   "mimetype": "application/julia",
   "name": "julia",
   "version": "1.8.2"
  },
  "kernelspec": {
   "name": "julia-1.8",
   "display_name": "Julia 1.8.2",
   "language": "julia"
  }
 },
 "nbformat": 4
}
