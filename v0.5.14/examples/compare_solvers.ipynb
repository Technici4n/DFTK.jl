{
 "cells": [
  {
   "cell_type": "markdown",
   "source": [
    "# Comparison of DFT solvers"
   ],
   "metadata": {}
  },
  {
   "cell_type": "markdown",
   "source": [
    "We compare four different approaches for solving the DFT minimisation problem,\n",
    "namely a density-based SCF, a potential-based SCF, direct minimisation and Newton."
   ],
   "metadata": {}
  },
  {
   "cell_type": "markdown",
   "source": [
    "First we setup our problem"
   ],
   "metadata": {}
  },
  {
   "outputs": [],
   "cell_type": "code",
   "source": [
    "using DFTK\n",
    "using LinearAlgebra\n",
    "\n",
    "a = 10.26  # Silicon lattice constant in Bohr\n",
    "lattice = a / 2 * [[0 1 1.];\n",
    "                   [1 0 1.];\n",
    "                   [1 1 0.]]\n",
    "Si = ElementPsp(:Si, psp=load_psp(\"hgh/lda/Si-q4\"))\n",
    "atoms     = [Si, Si]\n",
    "positions = [ones(3)/8, -ones(3)/8]\n",
    "\n",
    "model = model_LDA(lattice, atoms, positions)\n",
    "basis = PlaneWaveBasis(model; Ecut=5, kgrid=[3, 3, 3])\n",
    "\n",
    "# Convergence we desire\n",
    "tol = 1e-12\n",
    "is_converged = DFTK.ScfConvergenceDensity(tol);"
   ],
   "metadata": {},
   "execution_count": 1
  },
  {
   "cell_type": "markdown",
   "source": [
    "## Density-based self-consistent field"
   ],
   "metadata": {}
  },
  {
   "outputs": [
    {
     "name": "stdout",
     "output_type": "stream",
     "text": [
      "n     Energy            log10(ΔE)   log10(Δρ)   Diag\n",
      "---   ---------------   ---------   ---------   ----\n",
      "  1   -7.846820955855                   -0.70    4.5\n",
      "  2   -7.852304380443       -2.26       -1.53    1.0\n",
      "  3   -7.852646201267       -3.47       -2.52    3.2\n",
      "  4   -7.852646677456       -6.32       -3.37    2.2\n",
      "  5   -7.852646686210       -8.06       -4.66    1.2\n",
      "  6   -7.852646686728       -9.29       -5.49    3.2\n",
      "  7   -7.852646686730      -11.67       -6.26    1.2\n",
      "  8   -7.852646686730      -12.98       -7.64    2.0\n",
      "  9   -7.852646686730      -14.75       -7.84    3.2\n",
      " 10   -7.852646686730   +    -Inf       -8.56    2.0\n",
      " 11   -7.852646686730      -14.75       -9.11    1.8\n",
      " 12   -7.852646686730   +    -Inf      -10.28    2.0\n",
      " 13   -7.852646686730   +    -Inf      -11.00    3.2\n",
      " 14   -7.852646686730   +  -15.05      -11.56    2.2\n",
      " 15   -7.852646686730      -15.05      -12.22    1.5\n"
     ]
    }
   ],
   "cell_type": "code",
   "source": [
    "scfres_scf = self_consistent_field(basis; is_converged);"
   ],
   "metadata": {},
   "execution_count": 2
  },
  {
   "cell_type": "markdown",
   "source": [
    "## Potential-based SCF"
   ],
   "metadata": {}
  },
  {
   "outputs": [
    {
     "name": "stdout",
     "output_type": "stream",
     "text": [
      "n     Energy            log10(ΔE)   log10(Δρ)   α      Diag\n",
      "---   ---------------   ---------   ---------   ----   ----\n",
      "  1   -7.846813372393                   -0.70           4.5\n",
      "  2   -7.852527194228       -2.24       -1.63   0.80    2.0\n",
      "  3   -7.852637245772       -3.96       -2.71   0.80    1.0\n",
      "  4   -7.852646471344       -5.04       -3.31   0.80    2.2\n",
      "  5   -7.852646675668       -6.69       -4.15   0.80    1.2\n",
      "  6   -7.852646686427       -7.97       -4.75   0.80    1.5\n",
      "  7   -7.852646686712       -9.55       -5.57   0.80    1.5\n",
      "  8   -7.852646686730      -10.74       -6.41   0.80    2.2\n",
      "  9   -7.852646686730      -12.65       -7.60   0.80    2.2\n",
      " 10   -7.852646686730      -14.27       -8.50   0.80    2.8\n",
      " 11   -7.852646686730   +  -14.75       -9.20   0.80    2.0\n",
      " 12   -7.852646686730      -14.35      -10.55   0.80    2.0\n",
      " 13   -7.852646686730   +  -14.57      -10.86   0.80    3.2\n",
      " 14   -7.852646686730   +    -Inf      -12.19   0.80    1.0\n"
     ]
    }
   ],
   "cell_type": "code",
   "source": [
    "scfres_scfv = DFTK.scf_potential_mixing(basis; is_converged);"
   ],
   "metadata": {},
   "execution_count": 3
  },
  {
   "cell_type": "markdown",
   "source": [
    "## Direct minimization"
   ],
   "metadata": {}
  },
  {
   "outputs": [
    {
     "name": "stdout",
     "output_type": "stream",
     "text": [
      "Iter     Function value   Gradient norm \n",
      "     0     1.375037e+01     3.101447e+00\n",
      " * time: 0.46505022048950195\n",
      "     1     1.252097e+00     1.763548e+00\n",
      " * time: 0.712468147277832\n",
      "     2    -1.181582e+00     1.899992e+00\n",
      " * time: 0.7395310401916504\n",
      "     3    -3.650181e+00     1.614201e+00\n",
      " * time: 0.779583215713501\n",
      "     4    -4.885063e+00     1.574691e+00\n",
      " * time: 0.8195371627807617\n",
      "     5    -6.730795e+00     1.098430e+00\n",
      " * time: 0.858896017074585\n",
      "     6    -7.406603e+00     5.270824e-01\n",
      " * time: 0.9012081623077393\n",
      "     7    -7.681515e+00     2.342594e-01\n",
      " * time: 0.9291541576385498\n",
      "     8    -7.778887e+00     9.371923e-02\n",
      " * time: 0.9558370113372803\n",
      "     9    -7.809376e+00     1.234816e-01\n",
      " * time: 0.9854550361633301\n",
      "    10    -7.829767e+00     5.671771e-02\n",
      " * time: 1.0133981704711914\n",
      "    11    -7.840804e+00     7.089718e-02\n",
      " * time: 1.0408101081848145\n",
      "    12    -7.844359e+00     8.158196e-02\n",
      " * time: 1.0683701038360596\n",
      "    13    -7.846083e+00     6.278191e-02\n",
      " * time: 1.0957930088043213\n",
      "    14    -7.848500e+00     3.473348e-02\n",
      " * time: 1.123354196548462\n",
      "    15    -7.850580e+00     3.046269e-02\n",
      " * time: 1.1510322093963623\n",
      "    16    -7.851798e+00     1.923748e-02\n",
      " * time: 1.1788921356201172\n",
      "    17    -7.852367e+00     1.226951e-02\n",
      " * time: 1.205855131149292\n",
      "    18    -7.852561e+00     5.555093e-03\n",
      " * time: 1.2332210540771484\n",
      "    19    -7.852616e+00     2.539196e-03\n",
      " * time: 1.260106086730957\n",
      "    20    -7.852636e+00     2.247288e-03\n",
      " * time: 1.2871429920196533\n",
      "    21    -7.852643e+00     1.526989e-03\n",
      " * time: 1.3146321773529053\n",
      "    22    -7.852645e+00     1.066308e-03\n",
      " * time: 1.3418002128601074\n",
      "    23    -7.852646e+00     4.906850e-04\n",
      " * time: 1.3687841892242432\n",
      "    24    -7.852646e+00     2.503845e-04\n",
      " * time: 1.3967339992523193\n",
      "    25    -7.852647e+00     1.788268e-04\n",
      " * time: 1.5252950191497803\n",
      "    26    -7.852647e+00     1.186821e-04\n",
      " * time: 1.5574121475219727\n",
      "    27    -7.852647e+00     7.248434e-05\n",
      " * time: 1.5846350193023682\n",
      "    28    -7.852647e+00     4.287580e-05\n",
      " * time: 1.6124951839447021\n",
      "    29    -7.852647e+00     1.612171e-05\n",
      " * time: 1.6459481716156006\n",
      "    30    -7.852647e+00     6.482398e-06\n",
      " * time: 1.6737470626831055\n",
      "    31    -7.852647e+00     3.322972e-06\n",
      " * time: 1.7020151615142822\n",
      "    32    -7.852647e+00     2.381803e-06\n",
      " * time: 1.7372121810913086\n",
      "    33    -7.852647e+00     1.901912e-06\n",
      " * time: 1.766571044921875\n",
      "    34    -7.852647e+00     1.225606e-06\n",
      " * time: 1.7943191528320312\n",
      "    35    -7.852647e+00     6.806361e-07\n",
      " * time: 1.8270161151885986\n",
      "    36    -7.852647e+00     6.085697e-07\n",
      " * time: 1.8541550636291504\n",
      "    37    -7.852647e+00     3.818024e-07\n",
      " * time: 1.8810551166534424\n",
      "    38    -7.852647e+00     2.500907e-07\n",
      " * time: 1.9118330478668213\n",
      "    39    -7.852647e+00     1.879925e-07\n",
      " * time: 1.9391810894012451\n",
      "    40    -7.852647e+00     7.917885e-08\n",
      " * time: 1.96635103225708\n",
      "    41    -7.852647e+00     4.694128e-08\n",
      " * time: 1.9941380023956299\n",
      "    42    -7.852647e+00     2.555740e-08\n",
      " * time: 2.0219972133636475\n",
      "    43    -7.852647e+00     2.055312e-08\n",
      " * time: 2.07255220413208\n"
     ]
    }
   ],
   "cell_type": "code",
   "source": [
    "scfres_dm = direct_minimization(basis; tol);"
   ],
   "metadata": {},
   "execution_count": 4
  },
  {
   "cell_type": "markdown",
   "source": [
    "## Newton algorithm"
   ],
   "metadata": {}
  },
  {
   "cell_type": "markdown",
   "source": [
    "Start not too far from the solution to ensure convergence:\n",
    "We run first a very crude SCF to get close and then switch to Newton."
   ],
   "metadata": {}
  },
  {
   "outputs": [
    {
     "name": "stdout",
     "output_type": "stream",
     "text": [
      "n     Energy            log10(ΔE)   log10(Δρ)   Diag\n",
      "---   ---------------   ---------   ---------   ----\n",
      "  1   -7.846853874971                   -0.70    4.8\n",
      "  2   -7.852319297897       -2.26       -1.53    1.0\n"
     ]
    }
   ],
   "cell_type": "code",
   "source": [
    "scfres_start = self_consistent_field(basis; tol=1e-1);"
   ],
   "metadata": {},
   "execution_count": 5
  },
  {
   "cell_type": "markdown",
   "source": [
    "Remove the virtual orbitals (which Newton cannot treat yet)"
   ],
   "metadata": {}
  },
  {
   "outputs": [
    {
     "name": "stdout",
     "output_type": "stream",
     "text": [
      "n     Energy            log10(ΔE)   log10(Δρ)\n",
      "---   ---------------   ---------   ---------\n",
      "  1   -7.852646686704                   -2.55\n",
      "  2   -7.852646686730      -10.59       -5.96\n",
      "  3   -7.852646686730   +  -14.45      -12.70\n"
     ]
    }
   ],
   "cell_type": "code",
   "source": [
    "ψ = DFTK.select_occupied_orbitals(basis, scfres_start.ψ, scfres_start.occupation).ψ\n",
    "scfres_newton = newton(basis, ψ; tol);"
   ],
   "metadata": {},
   "execution_count": 6
  },
  {
   "cell_type": "markdown",
   "source": [
    "## Comparison of results"
   ],
   "metadata": {}
  },
  {
   "outputs": [
    {
     "name": "stdout",
     "output_type": "stream",
     "text": [
      "|ρ_newton - ρ_scf|  = 4.1131167501702985e-13\n",
      "|ρ_newton - ρ_scfv| = 1.7915193087580252e-12\n",
      "|ρ_newton - ρ_dm|   = 2.5622673046735726e-9\n"
     ]
    }
   ],
   "cell_type": "code",
   "source": [
    "println(\"|ρ_newton - ρ_scf|  = \", norm(scfres_newton.ρ - scfres_scf.ρ))\n",
    "println(\"|ρ_newton - ρ_scfv| = \", norm(scfres_newton.ρ - scfres_scfv.ρ))\n",
    "println(\"|ρ_newton - ρ_dm|   = \", norm(scfres_newton.ρ - scfres_dm.ρ))"
   ],
   "metadata": {},
   "execution_count": 7
  }
 ],
 "nbformat_minor": 3,
 "metadata": {
  "language_info": {
   "file_extension": ".jl",
   "mimetype": "application/julia",
   "name": "julia",
   "version": "1.8.2"
  },
  "kernelspec": {
   "name": "julia-1.8",
   "display_name": "Julia 1.8.2",
   "language": "julia"
  }
 },
 "nbformat": 4
}
