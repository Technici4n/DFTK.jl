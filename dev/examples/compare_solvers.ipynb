{
 "cells": [
  {
   "cell_type": "markdown",
   "source": [
    "# Comparison of DFT solvers"
   ],
   "metadata": {}
  },
  {
   "cell_type": "markdown",
   "source": [
    "We compare four different approaches for solving the DFT minimisation problem,\n",
    "namely a density-based SCF, a potential-based SCF, direct minimisation and Newton."
   ],
   "metadata": {}
  },
  {
   "cell_type": "markdown",
   "source": [
    "First we setup our problem"
   ],
   "metadata": {}
  },
  {
   "outputs": [
    {
     "output_type": "execute_result",
     "data": {
      "text/plain": "1.0e-6"
     },
     "metadata": {},
     "execution_count": 1
    }
   ],
   "cell_type": "code",
   "source": [
    "using DFTK\n",
    "using LinearAlgebra\n",
    "\n",
    "a = 10.26  # Silicon lattice constant in Bohr\n",
    "lattice = a / 2 * [[0 1 1.];\n",
    "                   [1 0 1.];\n",
    "                   [1 1 0.]]\n",
    "Si = ElementPsp(:Si, psp=load_psp(\"hgh/lda/Si-q4\"))\n",
    "atoms     = [Si, Si]\n",
    "positions = [ones(3)/8, -ones(3)/8]\n",
    "\n",
    "model = model_LDA(lattice, atoms, positions)\n",
    "basis = PlaneWaveBasis(model; Ecut=5, kgrid=[3, 3, 3])\n",
    "\n",
    "# Convergence we desire in the density\n",
    "tol = 1e-6"
   ],
   "metadata": {},
   "execution_count": 1
  },
  {
   "cell_type": "markdown",
   "source": [
    "## Density-based self-consistent field"
   ],
   "metadata": {}
  },
  {
   "outputs": [
    {
     "name": "stdout",
     "output_type": "stream",
     "text": [
      "n     Energy            log10(ΔE)   log10(Δρ)   Diag   Δtime\n",
      "---   ---------------   ---------   ---------   ----   ------\n",
      "  1   -7.846769266599                   -0.70    4.8         \n",
      "  2   -7.852306955383       -2.26       -1.53    1.0   32.0ms\n",
      "  3   -7.852612566802       -3.51       -2.55    1.5   35.3ms\n",
      "  4   -7.852645868027       -4.48       -2.86    2.5   44.3ms\n",
      "  5   -7.852646466512       -6.22       -3.14    1.0   32.3ms\n",
      "  6   -7.852646678051       -6.67       -3.98    1.0   32.7ms\n",
      "  7   -7.852646686292       -8.08       -5.06    1.5   37.8ms\n",
      "  8   -7.852646686720       -9.37       -5.41    2.2   42.2ms\n",
      "  9   -7.852646686729      -11.05       -6.17    1.0   32.8ms\n"
     ]
    }
   ],
   "cell_type": "code",
   "source": [
    "scfres_scf = self_consistent_field(basis; tol);"
   ],
   "metadata": {},
   "execution_count": 2
  },
  {
   "cell_type": "markdown",
   "source": [
    "## Potential-based SCF"
   ],
   "metadata": {}
  },
  {
   "outputs": [
    {
     "name": "stdout",
     "output_type": "stream",
     "text": [
      "n     Energy            log10(ΔE)   log10(Δρ)   α      Diag   Δtime\n",
      "---   ---------------   ---------   ---------   ----   ----   ------\n",
      "  1   -7.846906875821                   -0.70           5.0         \n",
      "  2   -7.852551710341       -2.25       -1.64   0.80    2.0    335ms\n",
      "  3   -7.852637668383       -4.07       -2.75   0.80    1.0   29.4ms\n",
      "  4   -7.852646573826       -5.05       -3.29   0.80    2.0   38.1ms\n",
      "  5   -7.852646678536       -6.98       -4.18   0.80    1.2   31.5ms\n",
      "  6   -7.852646686333       -8.11       -4.86   0.80    2.0   36.8ms\n",
      "  7   -7.852646686720       -9.41       -5.71   0.80    1.8   36.4ms\n",
      "  8   -7.852646686730      -11.02       -6.89   0.80    2.2   38.8ms\n"
     ]
    }
   ],
   "cell_type": "code",
   "source": [
    "scfres_scfv = DFTK.scf_potential_mixing(basis; tol);"
   ],
   "metadata": {},
   "execution_count": 3
  },
  {
   "cell_type": "markdown",
   "source": [
    "## Direct minimization\n",
    "Note: Unlike the other algorithms, tolerance for this one is in the energy,\n",
    "thus we square the density tolerance value to be roughly equivalent."
   ],
   "metadata": {}
  },
  {
   "outputs": [
    {
     "name": "stdout",
     "output_type": "stream",
     "text": [
      "Iter     Function value   Gradient norm \n",
      "     0     1.414801e+01     3.038577e+00\n",
      " * time: 0.5965800285339355\n",
      "     1     1.633490e+00     1.771345e+00\n",
      " * time: 0.844757080078125\n",
      "     2    -1.655430e+00     2.109631e+00\n",
      " * time: 0.8749830722808838\n",
      "     3    -3.576458e+00     1.886699e+00\n",
      " * time: 0.9181339740753174\n",
      "     4    -5.159662e+00     1.599442e+00\n",
      " * time: 0.9617490768432617\n",
      "     5    -6.702972e+00     9.218084e-01\n",
      " * time: 1.0052158832550049\n",
      "     6    -6.974767e+00     1.055165e+00\n",
      " * time: 1.0357248783111572\n",
      "     7    -7.505580e+00     8.887503e-01\n",
      " * time: 1.0663208961486816\n",
      "     8    -7.624156e+00     1.011586e+00\n",
      " * time: 1.0970709323883057\n",
      "     9    -7.707179e+00     8.399860e-01\n",
      " * time: 1.127655029296875\n",
      "    10    -7.753750e+00     1.045253e+00\n",
      " * time: 1.158276081085205\n",
      "    11    -7.795560e+00     8.402908e-01\n",
      " * time: 1.1889588832855225\n",
      "    12    -7.822783e+00     2.939465e-01\n",
      " * time: 1.2329258918762207\n",
      "    13    -7.838398e+00     2.450647e-01\n",
      " * time: 1.2633559703826904\n",
      "    14    -7.844745e+00     5.198174e-02\n",
      " * time: 1.2937300205230713\n",
      "    15    -7.849554e+00     5.662538e-02\n",
      " * time: 1.3241679668426514\n",
      "    16    -7.850601e+00     6.711635e-02\n",
      " * time: 1.354675054550171\n",
      "    17    -7.851318e+00     2.471985e-02\n",
      " * time: 1.3850610256195068\n",
      "    18    -7.852164e+00     1.847268e-02\n",
      " * time: 1.4155960083007812\n",
      "    19    -7.852467e+00     1.511341e-02\n",
      " * time: 1.4462449550628662\n",
      "    20    -7.852588e+00     4.520257e-03\n",
      " * time: 1.476944923400879\n",
      "    21    -7.852628e+00     3.637443e-03\n",
      " * time: 1.507206916809082\n",
      "    22    -7.852643e+00     1.909140e-03\n",
      " * time: 1.5377938747406006\n",
      "    23    -7.852646e+00     7.239134e-04\n",
      " * time: 1.5684149265289307\n",
      "    24    -7.852646e+00     5.415597e-04\n",
      " * time: 1.599078893661499\n",
      "    25    -7.852646e+00     3.588421e-04\n",
      " * time: 1.6297268867492676\n",
      "    26    -7.852647e+00     1.886512e-04\n",
      " * time: 1.660249948501587\n",
      "    27    -7.852647e+00     9.708757e-05\n",
      " * time: 1.6908130645751953\n",
      "    28    -7.852647e+00     8.124604e-05\n",
      " * time: 1.7215750217437744\n",
      "    29    -7.852647e+00     4.820129e-05\n",
      " * time: 1.7521240711212158\n",
      "    30    -7.852647e+00     1.202240e-05\n",
      " * time: 1.7829549312591553\n",
      "    31    -7.852647e+00     7.777576e-06\n",
      " * time: 1.8136389255523682\n",
      "    32    -7.852647e+00     8.561228e-06\n",
      " * time: 1.8443610668182373\n",
      "    33    -7.852647e+00     2.560304e-06\n",
      " * time: 1.8749098777770996\n",
      "    34    -7.852647e+00     1.779750e-06\n",
      " * time: 1.9053020477294922\n",
      "    35    -7.852647e+00     7.858535e-07\n",
      " * time: 1.9357929229736328\n",
      "    36    -7.852647e+00     6.351049e-07\n",
      " * time: 1.9662740230560303\n",
      "    37    -7.852647e+00     5.277792e-07\n",
      " * time: 1.996856927871704\n",
      "    38    -7.852647e+00     2.188040e-07\n",
      " * time: 2.0271060466766357\n",
      "    39    -7.852647e+00     9.469195e-08\n",
      " * time: 2.057849884033203\n",
      "    40    -7.852647e+00     7.468581e-08\n",
      " * time: 2.155895948410034\n",
      "    41    -7.852647e+00     3.558730e-08\n",
      " * time: 2.1860339641571045\n",
      "    42    -7.852647e+00     1.962677e-08\n",
      " * time: 2.2163310050964355\n",
      "    43    -7.852647e+00     1.204511e-08\n",
      " * time: 2.246701955795288\n",
      "    44    -7.852647e+00     5.082232e-09\n",
      " * time: 2.2771780490875244\n",
      "    45    -7.852647e+00     3.351786e-09\n",
      " * time: 2.307513952255249\n"
     ]
    }
   ],
   "cell_type": "code",
   "source": [
    "scfres_dm = direct_minimization(basis; tol=tol^2);"
   ],
   "metadata": {},
   "execution_count": 4
  },
  {
   "cell_type": "markdown",
   "source": [
    "## Newton algorithm"
   ],
   "metadata": {}
  },
  {
   "cell_type": "markdown",
   "source": [
    "Start not too far from the solution to ensure convergence:\n",
    "We run first a very crude SCF to get close and then switch to Newton."
   ],
   "metadata": {}
  },
  {
   "outputs": [
    {
     "name": "stdout",
     "output_type": "stream",
     "text": [
      "n     Energy            log10(ΔE)   log10(Δρ)   Diag   Δtime\n",
      "---   ---------------   ---------   ---------   ----   ------\n",
      "  1   -7.846799503490                   -0.70    4.8         \n"
     ]
    }
   ],
   "cell_type": "code",
   "source": [
    "scfres_start = self_consistent_field(basis; tol=0.5);"
   ],
   "metadata": {},
   "execution_count": 5
  },
  {
   "cell_type": "markdown",
   "source": [
    "Remove the virtual orbitals (which Newton cannot treat yet)"
   ],
   "metadata": {}
  },
  {
   "outputs": [
    {
     "name": "stdout",
     "output_type": "stream",
     "text": [
      "n     Energy            log10(ΔE)   log10(Δρ)   Δtime\n",
      "---   ---------------   ---------   ---------   ------\n",
      "  1   -7.852645896896                   -1.64         \n",
      "  2   -7.852646686730       -6.10       -3.70    2.07s\n",
      "  3   -7.852646686730      -13.34       -7.24    186ms\n"
     ]
    }
   ],
   "cell_type": "code",
   "source": [
    "ψ = DFTK.select_occupied_orbitals(basis, scfres_start.ψ, scfres_start.occupation).ψ\n",
    "scfres_newton = newton(basis, ψ; tol);"
   ],
   "metadata": {},
   "execution_count": 6
  },
  {
   "cell_type": "markdown",
   "source": [
    "## Comparison of results"
   ],
   "metadata": {}
  },
  {
   "outputs": [
    {
     "name": "stdout",
     "output_type": "stream",
     "text": [
      "|ρ_newton - ρ_scf|  = 5.234788284773582e-7\n",
      "|ρ_newton - ρ_scfv| = 1.4739477373220953e-7\n",
      "|ρ_newton - ρ_dm|   = 8.522087296667321e-10\n"
     ]
    }
   ],
   "cell_type": "code",
   "source": [
    "println(\"|ρ_newton - ρ_scf|  = \", norm(scfres_newton.ρ - scfres_scf.ρ))\n",
    "println(\"|ρ_newton - ρ_scfv| = \", norm(scfres_newton.ρ - scfres_scfv.ρ))\n",
    "println(\"|ρ_newton - ρ_dm|   = \", norm(scfres_newton.ρ - scfres_dm.ρ))"
   ],
   "metadata": {},
   "execution_count": 7
  }
 ],
 "nbformat_minor": 3,
 "metadata": {
  "language_info": {
   "file_extension": ".jl",
   "mimetype": "application/julia",
   "name": "julia",
   "version": "1.8.5"
  },
  "kernelspec": {
   "name": "julia-1.8",
   "display_name": "Julia 1.8.5",
   "language": "julia"
  }
 },
 "nbformat": 4
}
