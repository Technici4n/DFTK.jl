{
 "cells": [
  {
   "cell_type": "markdown",
   "source": [
    "# Eigenvalues of the dielectric matrix\n",
    "\n",
    "We compute a few eigenvalues of the dielectric matrix ($q=0$, $ω=0$) iteratively."
   ],
   "metadata": {}
  },
  {
   "outputs": [
    {
     "name": "stdout",
     "output_type": "stream",
     "text": [
      "n     Energy            log10(ΔE)   log10(Δρ)   Diag\n",
      "---   ---------------   ---------   ---------   ----\n",
      "  1   -7.234678715578                   -0.50    8.0\n",
      "  2   -7.250106129843       -1.81       -1.39    1.0\n",
      "  3   -7.250988118468       -3.05       -1.82    4.0\n",
      "  4   -7.250981088087   +   -5.15       -1.88    2.0\n",
      "  5   -7.251316889515       -3.47       -2.47    2.0\n",
      "  6   -7.251337930451       -4.68       -3.11    2.0\n",
      "  7   -7.251338692865       -6.12       -3.52    3.0\n",
      "  8   -7.251338790062       -7.01       -4.01    2.0\n",
      "  9   -7.251338798417       -8.08       -4.76    3.0\n",
      " 10   -7.251338798652       -9.63       -5.19    3.0\n",
      " 11   -7.251338798699      -10.33       -5.65    2.0\n",
      " 12   -7.251338798704      -11.31       -6.47    3.0\n",
      " 13   -7.251338798705      -12.93       -6.90    2.0\n",
      " 14   -7.251338798705      -14.05       -7.47    3.0\n"
     ]
    }
   ],
   "cell_type": "code",
   "source": [
    "using DFTK\n",
    "using Plots\n",
    "using KrylovKit\n",
    "using Printf\n",
    "\n",
    "# Calculation parameters\n",
    "kgrid = [1, 1, 1]\n",
    "Ecut = 5\n",
    "\n",
    "# Silicon lattice\n",
    "a = 10.26\n",
    "lattice = a / 2 .* [[0 1 1.]; [1 0 1.]; [1 1 0.]]\n",
    "Si = ElementPsp(:Si, psp=load_psp(\"hgh/lda/Si-q4\"))\n",
    "atoms     = [Si, Si]\n",
    "positions = [ones(3)/8, -ones(3)/8]\n",
    "\n",
    "# Compute the dielectric operator without symmetries\n",
    "model = model_LDA(lattice, atoms, positions, symmetries=false)\n",
    "basis = PlaneWaveBasis(model; Ecut, kgrid)\n",
    "scfres = self_consistent_field(basis, tol=1e-14);"
   ],
   "metadata": {},
   "execution_count": 1
  },
  {
   "cell_type": "markdown",
   "source": [
    "Applying $ε^† ≔ (1- χ_0 K)$ …"
   ],
   "metadata": {}
  },
  {
   "outputs": [],
   "cell_type": "code",
   "source": [
    "function eps_fun(δρ)\n",
    "    δV = apply_kernel(basis, δρ; ρ=scfres.ρ)\n",
    "    χ0δV = apply_χ0(scfres, δV)\n",
    "    δρ - χ0δV\n",
    "end;"
   ],
   "metadata": {},
   "execution_count": 2
  },
  {
   "cell_type": "markdown",
   "source": [
    "… eagerly diagonalizes the subspace matrix at each iteration"
   ],
   "metadata": {}
  },
  {
   "outputs": [
    {
     "name": "stdout",
     "output_type": "stream",
     "text": [
      "[ Info: Arnoldi iteration step 1: normres = 0.06084962089732653\n",
      "[ Info: Arnoldi iteration step 2: normres = 0.6090418691934447\n",
      "[ Info: Arnoldi iteration step 3: normres = 0.7596627910394803\n",
      "[ Info: Arnoldi iteration step 4: normres = 0.25274168053506646\n",
      "[ Info: Arnoldi iteration step 5: normres = 0.47697179856186817\n",
      "[ Info: Arnoldi schursolve in iter 1, krylovdim = 5: 0 values converged, normres = (1.79e-02, 7.16e-02, 4.20e-01, 2.14e-01, 7.11e-03)\n",
      "[ Info: Arnoldi iteration step 6: normres = 0.3161091981310802\n",
      "[ Info: Arnoldi schursolve in iter 1, krylovdim = 6: 0 values converged, normres = (4.64e-03, 1.08e-01, 2.50e-01, 1.16e-01, 5.11e-02)\n",
      "[ Info: Arnoldi iteration step 7: normres = 0.08973835255003489\n",
      "[ Info: Arnoldi schursolve in iter 1, krylovdim = 7: 0 values converged, normres = (2.06e-04, 1.09e-02, 1.92e-02, 5.23e-02, 6.34e-02)\n",
      "[ Info: Arnoldi iteration step 8: normres = 0.0858075811429688\n",
      "[ Info: Arnoldi schursolve in iter 1, krylovdim = 8: 0 values converged, normres = (7.52e-06, 6.50e-04, 1.27e-03, 1.32e-02, 3.12e-02)\n",
      "[ Info: Arnoldi iteration step 9: normres = 0.06638603703047119\n",
      "[ Info: Arnoldi schursolve in iter 1, krylovdim = 9: 0 values converged, normres = (2.13e-07, 3.01e-05, 6.53e-05, 2.65e-03, 1.60e-02)\n",
      "[ Info: Arnoldi iteration step 10: normres = 0.1068029999935112\n",
      "[ Info: Arnoldi schursolve in iter 1, krylovdim = 10: 0 values converged, normres = (9.94e-09, 2.32e-06, 5.61e-06, 9.88e-04, 2.07e-02)\n",
      "[ Info: Arnoldi iteration step 11: normres = 0.07419934845587574\n",
      "[ Info: Arnoldi schursolve in iter 1, krylovdim = 11: 0 values converged, normres = (3.25e-10, 1.27e-07, 3.41e-07, 3.10e-04, 4.66e-02)\n",
      "[ Info: Arnoldi iteration step 12: normres = 0.08377839898597969\n",
      "[ Info: Arnoldi schursolve in iter 1, krylovdim = 12: 0 values converged, normres = (1.15e-11, 7.33e-09, 2.18e-08, 7.65e-05, 1.85e-02)\n",
      "[ Info: Arnoldi iteration step 13: normres = 0.22847717419778818\n",
      "[ Info: Arnoldi schursolve in iter 1, krylovdim = 13: 0 values converged, normres = (1.17e-12, 1.24e-09, 4.12e-09, 6.99e-05, 4.37e-02)\n",
      "[ Info: Arnoldi iteration step 14: normres = 0.2376501758073409\n",
      "[ Info: Arnoldi schursolve in iter 1, krylovdim = 14: 1 values converged, normres = (2.86e-13, 6.02e-09, 2.31e-01, 4.52e-02, 1.28e-03)\n",
      "[ Info: Arnoldi iteration step 15: normres = 0.19613254801949093\n",
      "[ Info: Arnoldi schursolve in iter 1, krylovdim = 15: 1 values converged, normres = (2.45e-14, 5.15e-09, 3.16e-02, 1.15e-04, 4.15e-06)\n",
      "[ Info: Arnoldi iteration step 16: normres = 0.1652607406896987\n",
      "[ Info: Arnoldi schursolve in iter 1, krylovdim = 16: 1 values converged, normres = (3.80e-15, 3.50e-03, 3.39e-02, 2.11e-07, 1.58e-01)\n",
      "[ Info: Arnoldi iteration step 17: normres = 0.03356663648277653\n",
      "[ Info: Arnoldi schursolve in iter 1, krylovdim = 17: 1 values converged, normres = (5.37e-17, 2.88e-08, 8.41e-04, 1.91e-07, 3.90e-03)\n",
      "[ Info: Arnoldi iteration step 18: normres = 0.017803442307945092\n",
      "[ Info: Arnoldi schursolve in iter 1, krylovdim = 18: 1 values converged, normres = (3.95e-19, 9.50e-06, 2.86e-06, 5.06e-05, 2.16e-06)\n",
      "[ Info: Arnoldi iteration step 19: normres = 0.10541344850134786\n",
      "[ Info: Arnoldi schursolve in iter 1, krylovdim = 19: 1 values converged, normres = (1.74e-20, 3.97e-07, 5.80e-07, 6.44e-08, 3.96e-06)\n",
      "[ Info: Arnoldi iteration step 20: normres = 0.1126501387248441\n",
      "[ Info: Arnoldi schursolve in iter 1, krylovdim = 20: 1 values converged, normres = (9.54e-22, 2.33e-08, 6.51e-08, 2.33e-08, 4.43e-07)\n",
      "[ Info: Arnoldi iteration step 21: normres = 0.02784900733711951\n",
      "[ Info: Arnoldi schursolve in iter 1, krylovdim = 21: 1 values converged, normres = (1.12e-23, 6.79e-10, 1.12e-09, 5.94e-09, 7.20e-09)\n",
      "[ Info: Arnoldi iteration step 22: normres = 0.018667037920424068\n",
      "[ Info: Arnoldi schursolve in iter 1, krylovdim = 22: 1 values converged, normres = (8.58e-26, 8.17e-12, 1.38e-11, 7.21e-11, 1.03e-10)\n",
      "[ Info: Arnoldi iteration step 23: normres = 0.26431866698899203\n",
      "[ Info: Arnoldi schursolve in iter 1, krylovdim = 23: 1 values converged, normres = (9.48e-27, 1.45e-12, 2.46e-12, 1.42e-11, 2.02e-11)\n",
      "[ Info: Arnoldi iteration step 24: normres = 0.07728758055930202\n",
      "[ Info: Arnoldi schursolve in iter 1, krylovdim = 24: 2 values converged, normres = (1.56e-27, 7.40e-13, 1.25e-12, 1.46e-10, 2.09e-10)\n",
      "[ Info: Arnoldi iteration step 25: normres = 0.042429337724002196\n",
      "[ Info: Arnoldi schursolve in iter 1, krylovdim = 25: 3 values converged, normres = (1.20e-29, 2.16e-14, 3.66e-14, 1.58e-03, 1.61e-04)\n",
      "[ Info: Arnoldi iteration step 26: normres = 0.06836176412788028\n",
      "[ Info: Arnoldi schursolve in iter 1, krylovdim = 26: 3 values converged, normres = (3.68e-31, 1.13e-15, 1.91e-15, 3.32e-10, 4.85e-10)\n",
      "[ Info: Arnoldi iteration step 27: normres = 0.02067770584614865\n",
      "[ Info: Arnoldi schursolve in iter 1, krylovdim = 27: 3 values converged, normres = (3.15e-33, 1.54e-17, 2.61e-17, 3.17e-10, 4.58e-10)\n",
      "[ Info: Arnoldi iteration step 28: normres = 0.06695376700878695\n",
      "[ Info: Arnoldi schursolve in iter 1, krylovdim = 28: 3 values converged, normres = (8.76e-35, 6.88e-19, 1.17e-18, 7.20e-10, 1.08e-08)\n",
      "[ Info: Arnoldi iteration step 29: normres = 0.08777549922824165\n",
      "[ Info: Arnoldi schursolve in iter 1, krylovdim = 29: 3 values converged, normres = (3.37e-36, 4.40e-20, 7.45e-20, 1.24e-10, 7.10e-09)\n",
      "[ Info: Arnoldi iteration step 30: normres = 0.11726806324595554\n",
      "[ Info: Arnoldi schursolve in iter 1, krylovdim = 30: 3 values converged, normres = (1.90e-37, 4.41e-21, 7.48e-21, 1.79e-11, 8.08e-10)\n",
      "[ Info: Arnoldi schursolve in iter 2, krylovdim = 19: 3 values converged, normres = (1.91e-37, 4.41e-21, 7.48e-21, 1.79e-11, 8.08e-10)\n",
      "[ Info: Arnoldi iteration step 20: normres = 0.09595651753346343\n",
      "[ Info: Arnoldi schursolve in iter 2, krylovdim = 20: 3 values converged, normres = (7.86e-39, 3.00e-22, 5.08e-22, 1.26e-12, 6.09e-11)\n",
      "[ Info: Arnoldi iteration step 21: normres = 0.047498071386167295\n",
      "[ Info: Arnoldi schursolve in iter 2, krylovdim = 21: 4 values converged, normres = (1.62e-40, 1.02e-23, 1.73e-23, 4.78e-14, 2.31e-12)\n",
      "[ Info: Arnoldi iteration step 22: normres = 0.01902858435426456\n",
      "┌ Info: Arnoldi eigsolve finished after 2 iterations:\n",
      "│ *  6 eigenvalues converged\n",
      "│ *  norm of residuals = (1.264463906021446e-42, 1.2686932327169678e-25, 2.22854754387676e-25, 6.5275683219367965e-16, 3.1373891380229224e-14, 5.445803626782408e-16)\n",
      "└ *  number of operations = 33\n"
     ]
    }
   ],
   "cell_type": "code",
   "source": [
    "eigsolve(eps_fun, randn(size(scfres.ρ)), 5, :LM; eager=true, verbosity=3);"
   ],
   "metadata": {},
   "execution_count": 3
  }
 ],
 "nbformat_minor": 3,
 "metadata": {
  "language_info": {
   "file_extension": ".jl",
   "mimetype": "application/julia",
   "name": "julia",
   "version": "1.8.3"
  },
  "kernelspec": {
   "name": "julia-1.8",
   "display_name": "Julia 1.8.3",
   "language": "julia"
  }
 },
 "nbformat": 4
}
