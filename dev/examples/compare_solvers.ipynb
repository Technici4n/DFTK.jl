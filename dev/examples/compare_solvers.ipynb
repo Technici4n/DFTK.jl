{
 "cells": [
  {
   "cell_type": "markdown",
   "source": [
    "# Comparison of DFT solvers"
   ],
   "metadata": {}
  },
  {
   "cell_type": "markdown",
   "source": [
    "We compare four different approaches for solving the DFT minimisation problem,\n",
    "namely a density-based SCF, a potential-based SCF, direct minimisation and Newton."
   ],
   "metadata": {}
  },
  {
   "cell_type": "markdown",
   "source": [
    "First we setup our problem"
   ],
   "metadata": {}
  },
  {
   "outputs": [
    {
     "output_type": "execute_result",
     "data": {
      "text/plain": "1.0e-6"
     },
     "metadata": {},
     "execution_count": 1
    }
   ],
   "cell_type": "code",
   "source": [
    "using DFTK\n",
    "using LinearAlgebra\n",
    "\n",
    "a = 10.26  # Silicon lattice constant in Bohr\n",
    "lattice = a / 2 * [[0 1 1.];\n",
    "                   [1 0 1.];\n",
    "                   [1 1 0.]]\n",
    "Si = ElementPsp(:Si, psp=load_psp(\"hgh/lda/Si-q4\"))\n",
    "atoms     = [Si, Si]\n",
    "positions = [ones(3)/8, -ones(3)/8]\n",
    "\n",
    "model = model_LDA(lattice, atoms, positions)\n",
    "basis = PlaneWaveBasis(model; Ecut=5, kgrid=[3, 3, 3])\n",
    "\n",
    "# Convergence we desire in the density\n",
    "tol = 1e-6"
   ],
   "metadata": {},
   "execution_count": 1
  },
  {
   "cell_type": "markdown",
   "source": [
    "## Density-based self-consistent field"
   ],
   "metadata": {}
  },
  {
   "outputs": [
    {
     "name": "stdout",
     "output_type": "stream",
     "text": [
      "n     Energy            log10(ΔE)   log10(Δρ)   Diag   Δtime\n",
      "---   ---------------   ---------   ---------   ----   ------\n",
      "  1   -7.846719529136                   -0.70    5.0         \n",
      "  2   -7.852305297516       -2.25       -1.53    1.0   22.9ms\n",
      "  3   -7.852606962965       -3.52       -2.57    1.2   24.1ms\n",
      "  4   -7.852645918514       -4.41       -2.85    2.8   32.8ms\n",
      "  5   -7.852646413359       -6.31       -3.06    1.0   23.4ms\n",
      "  6   -7.852646675903       -6.58       -3.95    1.0   23.8ms\n",
      "  7   -7.852646686058       -7.99       -4.88    1.5   25.8ms\n",
      "  8   -7.852646686714       -9.18       -5.29    2.2   30.3ms\n",
      "  9   -7.852646686728      -10.83       -5.86    1.2   24.4ms\n",
      " 10   -7.852646686730      -11.96       -6.00    1.5   87.4ms\n",
      " 11   -7.852646686730      -12.50       -6.64    1.0   23.4ms\n"
     ]
    }
   ],
   "cell_type": "code",
   "source": [
    "scfres_scf = self_consistent_field(basis; tol);"
   ],
   "metadata": {},
   "execution_count": 2
  },
  {
   "cell_type": "markdown",
   "source": [
    "## Potential-based SCF"
   ],
   "metadata": {}
  },
  {
   "outputs": [
    {
     "name": "stdout",
     "output_type": "stream",
     "text": [
      "n     Energy            log10(ΔE)   log10(Δρ)   α      Diag   Δtime\n",
      "---   ---------------   ---------   ---------   ----   ----   ------\n",
      "  1   -7.846708431358                   -0.70           4.5         \n",
      "  2   -7.852522239731       -2.24       -1.64   0.80    2.0    241ms\n",
      "  3   -7.852633976178       -3.95       -2.75   0.80    1.0   22.0ms\n",
      "  4   -7.852646570916       -4.90       -3.19   0.80    2.2   28.1ms\n",
      "  5   -7.852646680461       -6.96       -4.01   0.80    1.0   21.5ms\n",
      "  6   -7.852646686269       -8.24       -4.80   0.80    1.2   22.1ms\n",
      "  7   -7.852646686713       -9.35       -5.80   0.80    2.0   26.8ms\n",
      "  8   -7.852646686730      -10.78       -6.45   0.80    2.2    103ms\n"
     ]
    }
   ],
   "cell_type": "code",
   "source": [
    "scfres_scfv = DFTK.scf_potential_mixing(basis; tol);"
   ],
   "metadata": {},
   "execution_count": 3
  },
  {
   "cell_type": "markdown",
   "source": [
    "## Direct minimization\n",
    "Note: Unlike the other algorithms, tolerance for this one is in the energy,\n",
    "thus we square the density tolerance value to be roughly equivalent."
   ],
   "metadata": {}
  },
  {
   "outputs": [
    {
     "name": "stdout",
     "output_type": "stream",
     "text": [
      "Iter     Function value   Gradient norm \n",
      "     0     1.416209e+01     3.774023e+00\n",
      " * time: 0.41423797607421875\n",
      "     1     1.572782e+00     1.776811e+00\n",
      " * time: 0.6043200492858887\n",
      "     2    -1.538706e+00     2.105023e+00\n",
      " * time: 0.627140998840332\n",
      "     3    -3.765856e+00     1.730844e+00\n",
      " * time: 0.6597449779510498\n",
      "     4    -5.138614e+00     1.608031e+00\n",
      " * time: 0.6923348903656006\n",
      "     5    -6.825487e+00     9.754160e-01\n",
      " * time: 0.7247829437255859\n",
      "     6    -7.448776e+00     3.885392e-01\n",
      " * time: 0.7574069499969482\n",
      "     7    -7.677616e+00     2.056821e-01\n",
      " * time: 0.7798240184783936\n",
      "     8    -7.758696e+00     1.007179e-01\n",
      " * time: 0.802253007888794\n",
      "     9    -7.796301e+00     1.181002e-01\n",
      " * time: 0.8246760368347168\n",
      "    10    -7.821420e+00     7.343428e-02\n",
      " * time: 0.8474099636077881\n",
      "    11    -7.836631e+00     5.281139e-02\n",
      " * time: 0.8700239658355713\n",
      "    12    -7.843567e+00     4.812373e-02\n",
      " * time: 0.8923778533935547\n",
      "    13    -7.847283e+00     3.674673e-02\n",
      " * time: 0.9147920608520508\n",
      "    14    -7.849973e+00     3.238121e-02\n",
      " * time: 0.9372520446777344\n",
      "    15    -7.851611e+00     1.711591e-02\n",
      " * time: 0.959712028503418\n",
      "    16    -7.852294e+00     9.551569e-03\n",
      " * time: 0.9821648597717285\n",
      "    17    -7.852535e+00     6.402575e-03\n",
      " * time: 1.0045828819274902\n",
      "    18    -7.852606e+00     3.431917e-03\n",
      " * time: 1.0272438526153564\n",
      "    19    -7.852631e+00     1.437209e-03\n",
      " * time: 1.0501329898834229\n",
      "    20    -7.852641e+00     8.699534e-04\n",
      " * time: 1.0732648372650146\n",
      "    21    -7.852645e+00     5.805785e-04\n",
      " * time: 1.0959439277648926\n",
      "    22    -7.852646e+00     3.467396e-04\n",
      " * time: 1.1185970306396484\n",
      "    23    -7.852647e+00     2.009860e-04\n",
      " * time: 1.141103982925415\n",
      "    24    -7.852647e+00     1.211855e-04\n",
      " * time: 1.163787841796875\n",
      "    25    -7.852647e+00     1.001389e-04\n",
      " * time: 1.1864960193634033\n",
      "    26    -7.852647e+00     4.949493e-05\n",
      " * time: 1.2091140747070312\n",
      "    27    -7.852647e+00     2.887994e-05\n",
      " * time: 1.231665849685669\n",
      "    28    -7.852647e+00     1.157186e-05\n",
      " * time: 1.2541308403015137\n",
      "    29    -7.852647e+00     5.703384e-06\n",
      " * time: 1.2765588760375977\n",
      "    30    -7.852647e+00     4.297474e-06\n",
      " * time: 1.2991058826446533\n",
      "    31    -7.852647e+00     2.284764e-06\n",
      " * time: 1.321516990661621\n",
      "    32    -7.852647e+00     1.135920e-06\n",
      " * time: 1.3439700603485107\n",
      "    33    -7.852647e+00     7.629128e-07\n",
      " * time: 1.3666298389434814\n",
      "    34    -7.852647e+00     5.127300e-07\n",
      " * time: 1.3891010284423828\n",
      "    35    -7.852647e+00     3.983311e-07\n",
      " * time: 1.411789894104004\n",
      "    36    -7.852647e+00     2.123879e-07\n",
      " * time: 1.492737054824829\n",
      "    37    -7.852647e+00     1.137505e-07\n",
      " * time: 1.5158238410949707\n",
      "    38    -7.852647e+00     6.024431e-08\n",
      " * time: 1.5383970737457275\n",
      "    39    -7.852647e+00     3.369562e-08\n",
      " * time: 1.5607938766479492\n",
      "    40    -7.852647e+00     2.130887e-08\n",
      " * time: 1.5834949016571045\n",
      "    41    -7.852647e+00     1.244969e-08\n",
      " * time: 1.6060469150543213\n",
      "    42    -7.852647e+00     1.244849e-08\n",
      " * time: 1.6780610084533691\n"
     ]
    }
   ],
   "cell_type": "code",
   "source": [
    "scfres_dm = direct_minimization(basis; tol=tol^2);"
   ],
   "metadata": {},
   "execution_count": 4
  },
  {
   "cell_type": "markdown",
   "source": [
    "## Newton algorithm"
   ],
   "metadata": {}
  },
  {
   "cell_type": "markdown",
   "source": [
    "Start not too far from the solution to ensure convergence:\n",
    "We run first a very crude SCF to get close and then switch to Newton."
   ],
   "metadata": {}
  },
  {
   "outputs": [
    {
     "name": "stdout",
     "output_type": "stream",
     "text": [
      "n     Energy            log10(ΔE)   log10(Δρ)   Diag   Δtime\n",
      "---   ---------------   ---------   ---------   ----   ------\n",
      "  1   -7.846773398731                   -0.70    4.5         \n"
     ]
    }
   ],
   "cell_type": "code",
   "source": [
    "scfres_start = self_consistent_field(basis; tol=0.5);"
   ],
   "metadata": {},
   "execution_count": 5
  },
  {
   "cell_type": "markdown",
   "source": [
    "Remove the virtual orbitals (which Newton cannot treat yet)"
   ],
   "metadata": {}
  },
  {
   "outputs": [
    {
     "name": "stdout",
     "output_type": "stream",
     "text": [
      "n     Energy            log10(ΔE)   log10(Δρ)   Δtime\n",
      "---   ---------------   ---------   ---------   ------\n",
      "  1   -7.852645856426                   -1.64         \n",
      "  2   -7.852646686730       -6.08       -3.70    1.55s\n",
      "  3   -7.852646686730      -13.25       -7.21    195ms\n"
     ]
    }
   ],
   "cell_type": "code",
   "source": [
    "ψ = DFTK.select_occupied_orbitals(basis, scfres_start.ψ, scfres_start.occupation).ψ\n",
    "scfres_newton = newton(basis, ψ; tol);"
   ],
   "metadata": {},
   "execution_count": 6
  },
  {
   "cell_type": "markdown",
   "source": [
    "## Comparison of results"
   ],
   "metadata": {}
  },
  {
   "outputs": [
    {
     "name": "stdout",
     "output_type": "stream",
     "text": [
      "|ρ_newton - ρ_scf|  = 2.366495997954785e-7\n",
      "|ρ_newton - ρ_scfv| = 2.138509186866559e-7\n",
      "|ρ_newton - ρ_dm|   = 1.7795113784938147e-9\n"
     ]
    }
   ],
   "cell_type": "code",
   "source": [
    "println(\"|ρ_newton - ρ_scf|  = \", norm(scfres_newton.ρ - scfres_scf.ρ))\n",
    "println(\"|ρ_newton - ρ_scfv| = \", norm(scfres_newton.ρ - scfres_scfv.ρ))\n",
    "println(\"|ρ_newton - ρ_dm|   = \", norm(scfres_newton.ρ - scfres_dm.ρ))"
   ],
   "metadata": {},
   "execution_count": 7
  }
 ],
 "nbformat_minor": 3,
 "metadata": {
  "language_info": {
   "file_extension": ".jl",
   "mimetype": "application/julia",
   "name": "julia",
   "version": "1.8.5"
  },
  "kernelspec": {
   "name": "julia-1.8",
   "display_name": "Julia 1.8.5",
   "language": "julia"
  }
 },
 "nbformat": 4
}
