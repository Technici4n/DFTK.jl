{
 "cells": [
  {
   "cell_type": "markdown",
   "source": [
    "# Comparison of DFT solvers"
   ],
   "metadata": {}
  },
  {
   "cell_type": "markdown",
   "source": [
    "We compare four different approaches for solving the DFT minimisation problem,\n",
    "namely a density-based SCF, a potential-based SCF, direct minimisation and Newton."
   ],
   "metadata": {}
  },
  {
   "cell_type": "markdown",
   "source": [
    "First we setup our problem"
   ],
   "metadata": {}
  },
  {
   "outputs": [
    {
     "output_type": "execute_result",
     "data": {
      "text/plain": "1.0e-6"
     },
     "metadata": {},
     "execution_count": 1
    }
   ],
   "cell_type": "code",
   "source": [
    "using DFTK\n",
    "using LinearAlgebra\n",
    "\n",
    "a = 10.26  # Silicon lattice constant in Bohr\n",
    "lattice = a / 2 * [[0 1 1.];\n",
    "                   [1 0 1.];\n",
    "                   [1 1 0.]]\n",
    "Si = ElementPsp(:Si, psp=load_psp(\"hgh/lda/Si-q4\"))\n",
    "atoms     = [Si, Si]\n",
    "positions = [ones(3)/8, -ones(3)/8]\n",
    "\n",
    "model = model_LDA(lattice, atoms, positions)\n",
    "basis = PlaneWaveBasis(model; Ecut=5, kgrid=[3, 3, 3])\n",
    "\n",
    "# Convergence we desire in the density\n",
    "tol = 1e-6"
   ],
   "metadata": {},
   "execution_count": 1
  },
  {
   "cell_type": "markdown",
   "source": [
    "## Density-based self-consistent field"
   ],
   "metadata": {}
  },
  {
   "outputs": [
    {
     "name": "stdout",
     "output_type": "stream",
     "text": [
      "n     Energy            log10(ΔE)   log10(Δρ)   Diag   Δtime\n",
      "---   ---------------   ---------   ---------   ----   ------\n",
      "  1   -7.846799749123                   -0.70    4.8         \n",
      "  2   -7.852313461555       -2.26       -1.53    1.0   33.6ms\n",
      "  3   -7.852611188623       -3.53       -2.55    1.5   36.3ms\n",
      "  4   -7.852645847190       -4.46       -2.85    2.5   46.1ms\n",
      "  5   -7.852646416021       -6.25       -3.08    1.0   33.6ms\n",
      "  6   -7.852646677617       -6.58       -3.99    1.0   33.4ms\n",
      "  7   -7.852646686605       -8.05       -5.00    2.0   42.8ms\n",
      "  8   -7.852646686724       -9.93       -5.45    1.8   40.8ms\n",
      "  9   -7.852646686725      -12.23       -5.41    1.2   35.6ms\n",
      " 10   -7.852646686730      -11.28       -6.59    1.0   35.5ms\n"
     ]
    }
   ],
   "cell_type": "code",
   "source": [
    "scfres_scf = self_consistent_field(basis; tol);"
   ],
   "metadata": {},
   "execution_count": 2
  },
  {
   "cell_type": "markdown",
   "source": [
    "## Potential-based SCF"
   ],
   "metadata": {}
  },
  {
   "outputs": [
    {
     "name": "stdout",
     "output_type": "stream",
     "text": [
      "n     Energy            log10(ΔE)   log10(Δρ)   α      Diag   Δtime\n",
      "---   ---------------   ---------   ---------   ----   ----   ------\n",
      "  1   -7.846863286995                   -0.70           4.8         \n",
      "  2   -7.852528840533       -2.25       -1.63   0.80    2.0    317ms\n",
      "  3   -7.852637908190       -3.96       -2.71   0.80    1.0   32.0ms\n",
      "  4   -7.852646432835       -5.07       -3.32   0.80    2.0   40.1ms\n",
      "  5   -7.852646675432       -6.62       -4.15   0.80    1.8   36.7ms\n",
      "  6   -7.852646686327       -7.96       -4.73   0.80    1.8   40.2ms\n",
      "  7   -7.852646686724       -9.40       -5.60   0.80    1.5   36.0ms\n",
      "  8   -7.852646686730      -11.27       -7.29   0.80    1.8   38.2ms\n"
     ]
    }
   ],
   "cell_type": "code",
   "source": [
    "scfres_scfv = DFTK.scf_potential_mixing(basis; tol);"
   ],
   "metadata": {},
   "execution_count": 3
  },
  {
   "cell_type": "markdown",
   "source": [
    "## Direct minimization\n",
    "Note: Unlike the other algorithms, tolerance for this one is in the energy,\n",
    "thus we square the density tolerance value to be roughly equivalent."
   ],
   "metadata": {}
  },
  {
   "outputs": [
    {
     "name": "stdout",
     "output_type": "stream",
     "text": [
      "Iter     Function value   Gradient norm \n",
      "     0     1.378708e+01     3.955225e+00\n",
      " * time: 0.5028510093688965\n",
      "     1     1.029400e+00     2.356305e+00\n",
      " * time: 0.7559418678283691\n",
      "     2    -1.675675e+00     2.778110e+00\n",
      " * time: 0.7901740074157715\n",
      "     3    -3.818062e+00     2.344338e+00\n",
      " * time: 0.9732339382171631\n",
      "     4    -5.253718e+00     2.054170e+00\n",
      " * time: 1.0196619033813477\n",
      "     5    -6.949119e+00     9.956327e-01\n",
      " * time: 1.072523832321167\n",
      "     6    -7.122219e+00     1.182051e+00\n",
      " * time: 1.104691982269287\n",
      "     7    -7.623162e+00     7.931614e-01\n",
      " * time: 1.1364359855651855\n",
      "     8    -7.695074e+00     9.822504e-01\n",
      " * time: 1.1688408851623535\n",
      "     9    -7.730835e+00     7.180154e-01\n",
      " * time: 1.2021379470825195\n",
      "    10    -7.750379e+00     8.211569e-01\n",
      " * time: 1.2365059852600098\n",
      "    11    -7.774729e+00     5.687294e-01\n",
      " * time: 1.2705349922180176\n",
      "    12    -7.784415e+00     5.587531e-01\n",
      " * time: 1.3033828735351562\n",
      "    13    -7.800241e+00     2.129523e-01\n",
      " * time: 1.3355920314788818\n",
      "    14    -7.808213e+00     7.215950e-02\n",
      " * time: 1.3676838874816895\n",
      "    15    -7.817543e+00     8.665455e-02\n",
      " * time: 1.4004969596862793\n",
      "    16    -7.829226e+00     1.120313e-01\n",
      " * time: 1.4349009990692139\n",
      "    17    -7.843211e+00     4.852798e-02\n",
      " * time: 1.4699459075927734\n",
      "    18    -7.847799e+00     4.042047e-02\n",
      " * time: 1.5098259449005127\n",
      "    19    -7.852069e+00     1.776000e-02\n",
      " * time: 1.5439839363098145\n",
      "    20    -7.852476e+00     1.423500e-02\n",
      " * time: 1.580453872680664\n",
      "    21    -7.852606e+00     4.192315e-03\n",
      " * time: 1.6248948574066162\n",
      "    22    -7.852633e+00     2.060676e-03\n",
      " * time: 1.6597468852996826\n",
      "    23    -7.852641e+00     1.515869e-03\n",
      " * time: 1.6943459510803223\n",
      "    24    -7.852644e+00     7.874756e-04\n",
      " * time: 1.7282109260559082\n",
      "    25    -7.852646e+00     3.909332e-04\n",
      " * time: 1.7619519233703613\n",
      "    26    -7.852647e+00     2.695092e-04\n",
      " * time: 1.7946288585662842\n",
      "    27    -7.852647e+00     1.367308e-04\n",
      " * time: 1.8285739421844482\n",
      "    28    -7.852647e+00     8.013621e-05\n",
      " * time: 1.862682819366455\n",
      "    29    -7.852647e+00     5.999144e-05\n",
      " * time: 1.8964619636535645\n",
      "    30    -7.852647e+00     3.503057e-05\n",
      " * time: 1.9311439990997314\n",
      "    31    -7.852647e+00     1.681723e-05\n",
      " * time: 1.9661250114440918\n",
      "    32    -7.852647e+00     8.429568e-06\n",
      " * time: 2.0024709701538086\n",
      "    33    -7.852647e+00     5.799948e-06\n",
      " * time: 2.0364530086517334\n",
      "    34    -7.852647e+00     2.751480e-06\n",
      " * time: 2.0703649520874023\n",
      "    35    -7.852647e+00     1.368343e-06\n",
      " * time: 2.102646827697754\n",
      "    36    -7.852647e+00     1.202007e-06\n",
      " * time: 2.133901834487915\n",
      "    37    -7.852647e+00     5.181084e-07\n",
      " * time: 2.1645679473876953\n",
      "    38    -7.852647e+00     2.956776e-07\n",
      " * time: 2.1978378295898438\n",
      "    39    -7.852647e+00     1.649873e-07\n",
      " * time: 2.230823040008545\n",
      "    40    -7.852647e+00     9.582971e-08\n",
      " * time: 2.264801025390625\n",
      "    41    -7.852647e+00     6.405092e-08\n",
      " * time: 2.2972400188446045\n",
      "    42    -7.852647e+00     3.809948e-08\n",
      " * time: 2.330364942550659\n",
      "    43    -7.852647e+00     2.262152e-08\n",
      " * time: 2.3633270263671875\n",
      "    44    -7.852647e+00     1.774944e-08\n",
      " * time: 2.3947339057922363\n",
      "    45    -7.852647e+00     1.108937e-08\n",
      " * time: 2.4405429363250732\n",
      "    46    -7.852647e+00     1.080256e-08\n",
      " * time: 2.504861831665039\n",
      "    47    -7.852647e+00     3.760686e-09\n",
      " * time: 2.537808895111084\n",
      "    48    -7.852647e+00     3.389233e-09\n",
      " * time: 2.5827388763427734\n",
      "    49    -7.852647e+00     8.146799e-10\n",
      " * time: 2.615604877471924\n"
     ]
    }
   ],
   "cell_type": "code",
   "source": [
    "scfres_dm = direct_minimization(basis; tol=tol^2);"
   ],
   "metadata": {},
   "execution_count": 4
  },
  {
   "cell_type": "markdown",
   "source": [
    "## Newton algorithm"
   ],
   "metadata": {}
  },
  {
   "cell_type": "markdown",
   "source": [
    "Start not too far from the solution to ensure convergence:\n",
    "We run first a very crude SCF to get close and then switch to Newton."
   ],
   "metadata": {}
  },
  {
   "outputs": [
    {
     "name": "stdout",
     "output_type": "stream",
     "text": [
      "n     Energy            log10(ΔE)   log10(Δρ)   Diag   Δtime\n",
      "---   ---------------   ---------   ---------   ----   ------\n",
      "  1   -7.846835829397                   -0.70    4.8         \n"
     ]
    }
   ],
   "cell_type": "code",
   "source": [
    "scfres_start = self_consistent_field(basis; tol=0.5);"
   ],
   "metadata": {},
   "execution_count": 5
  },
  {
   "cell_type": "markdown",
   "source": [
    "Remove the virtual orbitals (which Newton cannot treat yet)"
   ],
   "metadata": {}
  },
  {
   "outputs": [
    {
     "name": "stdout",
     "output_type": "stream",
     "text": [
      "n     Energy            log10(ΔE)   log10(Δρ)   Δtime\n",
      "---   ---------------   ---------   ---------   ------\n",
      "  1   -7.852645906894                   -1.64         \n",
      "  2   -7.852646686730       -6.11       -3.71    2.10s\n",
      "  3   -7.852646686730      -13.34       -7.25    216ms\n"
     ]
    }
   ],
   "cell_type": "code",
   "source": [
    "ψ = DFTK.select_occupied_orbitals(basis, scfres_start.ψ, scfres_start.occupation).ψ\n",
    "scfres_newton = newton(basis, ψ; tol);"
   ],
   "metadata": {},
   "execution_count": 6
  },
  {
   "cell_type": "markdown",
   "source": [
    "## Comparison of results"
   ],
   "metadata": {}
  },
  {
   "outputs": [
    {
     "name": "stdout",
     "output_type": "stream",
     "text": [
      "|ρ_newton - ρ_scf|  = 3.9238702920446444e-7\n",
      "|ρ_newton - ρ_scfv| = 6.225403246354861e-8\n",
      "|ρ_newton - ρ_dm|   = 9.537871503061952e-10\n"
     ]
    }
   ],
   "cell_type": "code",
   "source": [
    "println(\"|ρ_newton - ρ_scf|  = \", norm(scfres_newton.ρ - scfres_scf.ρ))\n",
    "println(\"|ρ_newton - ρ_scfv| = \", norm(scfres_newton.ρ - scfres_scfv.ρ))\n",
    "println(\"|ρ_newton - ρ_dm|   = \", norm(scfres_newton.ρ - scfres_dm.ρ))"
   ],
   "metadata": {},
   "execution_count": 7
  }
 ],
 "nbformat_minor": 3,
 "metadata": {
  "language_info": {
   "file_extension": ".jl",
   "mimetype": "application/julia",
   "name": "julia",
   "version": "1.8.5"
  },
  "kernelspec": {
   "name": "julia-1.8",
   "display_name": "Julia 1.8.5",
   "language": "julia"
  }
 },
 "nbformat": 4
}
