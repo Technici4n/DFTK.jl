{
 "cells": [
  {
   "cell_type": "markdown",
   "source": [
    "# Eigenvalues of the dielectric matrix\n",
    "\n",
    "We compute a few eigenvalues of the dielectric matrix ($q=0$, $ω=0$) iteratively."
   ],
   "metadata": {}
  },
  {
   "outputs": [
    {
     "name": "stdout",
     "output_type": "stream",
     "text": [
      "n     Energy            log10(ΔE)   log10(Δρ)   Diag   Δtime\n",
      "---   ---------------   ---------   ---------   ----   ------\n",
      "  1   -7.233951670730                   -0.50    7.0         \n",
      "  2   -7.249981558942       -1.80       -1.38    1.0   7.39ms\n",
      "  3   -7.250970783128       -3.00       -1.85    2.0   9.32ms\n",
      "  4   -7.251074973000       -3.98       -1.94    1.0   7.71ms\n",
      "  5   -7.251321278380       -3.61       -2.55    1.0   7.32ms\n",
      "  6   -7.251337361146       -4.79       -3.05    2.0   8.32ms\n",
      "  7   -7.251338576034       -5.92       -3.41    2.0   8.86ms\n",
      "  8   -7.251338787166       -6.68       -4.08    2.0   8.84ms\n",
      "  9   -7.251338797879       -7.97       -4.60    2.0   9.53ms\n",
      " 10   -7.251338798557       -9.17       -5.02    2.0   8.52ms\n",
      " 11   -7.251338798694       -9.86       -5.56    2.0   8.81ms\n",
      " 12   -7.251338798702      -11.10       -5.96    1.0   7.63ms\n",
      " 13   -7.251338798704      -11.76       -6.19    2.0   9.09ms\n",
      " 14   -7.251338798704      -12.45       -6.63    1.0   7.73ms\n",
      " 15   -7.251338798705      -13.18       -7.02    2.0   10.5ms\n",
      " 16   -7.251338798705      -14.27       -7.57    1.0   7.48ms\n",
      " 17   -7.251338798705      -14.75       -8.31    2.0   8.91ms\n"
     ]
    }
   ],
   "cell_type": "code",
   "source": [
    "using DFTK\n",
    "using Plots\n",
    "using KrylovKit\n",
    "using Printf\n",
    "\n",
    "# Calculation parameters\n",
    "kgrid = [1, 1, 1]\n",
    "Ecut = 5\n",
    "\n",
    "# Silicon lattice\n",
    "a = 10.26\n",
    "lattice = a / 2 .* [[0 1 1.]; [1 0 1.]; [1 1 0.]]\n",
    "Si = ElementPsp(:Si, psp=load_psp(\"hgh/lda/Si-q4\"))\n",
    "atoms     = [Si, Si]\n",
    "positions = [ones(3)/8, -ones(3)/8]\n",
    "\n",
    "# Compute the dielectric operator without symmetries\n",
    "model  = model_LDA(lattice, atoms, positions, symmetries=false)\n",
    "basis  = PlaneWaveBasis(model; Ecut, kgrid)\n",
    "scfres = self_consistent_field(basis, tol=1e-8);"
   ],
   "metadata": {},
   "execution_count": 1
  },
  {
   "cell_type": "markdown",
   "source": [
    "Applying $ε^† ≔ (1- χ_0 K)$ …"
   ],
   "metadata": {}
  },
  {
   "outputs": [],
   "cell_type": "code",
   "source": [
    "function eps_fun(δρ)\n",
    "    δV = apply_kernel(basis, δρ; ρ=scfres.ρ)\n",
    "    χ0δV = apply_χ0(scfres, δV)\n",
    "    δρ - χ0δV\n",
    "end;"
   ],
   "metadata": {},
   "execution_count": 2
  },
  {
   "cell_type": "markdown",
   "source": [
    "… eagerly diagonalizes the subspace matrix at each iteration"
   ],
   "metadata": {}
  },
  {
   "outputs": [
    {
     "name": "stdout",
     "output_type": "stream",
     "text": [
      "[ Info: Arnoldi iteration step 1: normres = 0.04524576679943123\n",
      "[ Info: Arnoldi iteration step 2: normres = 0.6463516055781104\n",
      "[ Info: Arnoldi iteration step 3: normres = 0.8255046496442345\n",
      "[ Info: Arnoldi iteration step 4: normres = 0.3369889905501869\n",
      "[ Info: Arnoldi iteration step 5: normres = 0.2911195699616518\n",
      "[ Info: Arnoldi schursolve in iter 1, krylovdim = 5: 0 values converged, normres = (2.92e-02, 5.25e-02, 1.82e-01, 2.18e-01, 1.34e-02)\n",
      "[ Info: Arnoldi iteration step 6: normres = 0.5651185455187402\n",
      "[ Info: Arnoldi schursolve in iter 1, krylovdim = 6: 0 values converged, normres = (1.33e-02, 1.41e-01, 5.19e-01, 1.04e-01, 1.37e-01)\n",
      "[ Info: Arnoldi iteration step 7: normres = 0.053755117253770274\n",
      "[ Info: Arnoldi schursolve in iter 1, krylovdim = 7: 0 values converged, normres = (4.09e-04, 2.27e-02, 9.27e-03, 1.67e-02, 3.67e-02)\n",
      "[ Info: Arnoldi iteration step 8: normres = 0.10553694594507057\n",
      "[ Info: Arnoldi schursolve in iter 1, krylovdim = 8: 0 values converged, normres = (1.86e-05, 1.70e-03, 7.76e-04, 5.55e-03, 3.51e-02)\n",
      "[ Info: Arnoldi iteration step 9: normres = 0.06234424530625646\n",
      "[ Info: Arnoldi schursolve in iter 1, krylovdim = 9: 0 values converged, normres = (4.99e-07, 7.45e-05, 3.78e-05, 1.13e-03, 2.84e-02)\n",
      "[ Info: Arnoldi iteration step 10: normres = 0.06516554183073607\n",
      "[ Info: Arnoldi schursolve in iter 1, krylovdim = 10: 0 values converged, normres = (1.39e-08, 3.40e-06, 1.91e-06, 2.22e-04, 1.43e-02)\n",
      "[ Info: Arnoldi iteration step 11: normres = 0.07442962103315424\n",
      "[ Info: Arnoldi schursolve in iter 1, krylovdim = 11: 0 values converged, normres = (4.41e-10, 1.76e-07, 1.10e-07, 4.84e-05, 8.51e-03)\n",
      "[ Info: Arnoldi iteration step 12: normres = 0.15022548592989898\n",
      "[ Info: Arnoldi schursolve in iter 1, krylovdim = 12: 0 values converged, normres = (2.91e-11, 1.93e-08, 1.34e-08, 2.73e-05, 2.75e-02)\n",
      "[ Info: Arnoldi iteration step 13: normres = 0.0738411772437632\n",
      "[ Info: Arnoldi schursolve in iter 1, krylovdim = 13: 1 values converged, normres = (9.42e-13, 1.04e-09, 8.03e-10, 8.49e-06, 4.78e-02)\n",
      "[ Info: Arnoldi iteration step 14: normres = 0.5785306091786279\n",
      "[ Info: Arnoldi schursolve in iter 1, krylovdim = 14: 1 values converged, normres = (4.15e-13, 1.49e-09, 1.77e-09, 5.73e-01, 3.97e-03)\n",
      "[ Info: Arnoldi iteration step 15: normres = 0.06732824453838014\n",
      "[ Info: Arnoldi schursolve in iter 1, krylovdim = 15: 1 values converged, normres = (1.44e-14, 1.96e-10, 3.06e-02, 5.23e-04, 1.36e-06)\n",
      "[ Info: Arnoldi iteration step 16: normres = 0.5024635613559417\n",
      "[ Info: Arnoldi schursolve in iter 1, krylovdim = 16: 1 values converged, normres = (6.51e-15, 5.04e-10, 1.53e-01, 8.11e-03, 4.77e-01)\n",
      "[ Info: Arnoldi iteration step 17: normres = 0.03652886394307742\n",
      "[ Info: Arnoldi schursolve in iter 1, krylovdim = 17: 1 values converged, normres = (1.21e-16, 8.03e-09, 1.29e-02, 2.95e-03, 8.07e-05)\n",
      "[ Info: Arnoldi iteration step 18: normres = 0.019835877778552814\n",
      "[ Info: Arnoldi schursolve in iter 1, krylovdim = 18: 1 values converged, normres = (9.92e-19, 1.49e-04, 8.08e-05, 1.34e-07, 4.38e-05)\n",
      "[ Info: Arnoldi iteration step 19: normres = 0.17292925217726127\n",
      "[ Info: Arnoldi schursolve in iter 1, krylovdim = 19: 1 values converged, normres = (7.27e-20, 1.84e-08, 2.02e-05, 3.33e-07, 5.76e-06)\n",
      "[ Info: Arnoldi iteration step 20: normres = 0.0766755492343982\n",
      "[ Info: Arnoldi schursolve in iter 1, krylovdim = 20: 1 values converged, normres = (2.70e-21, 6.88e-08, 1.34e-06, 4.33e-07, 6.67e-08)\n",
      "[ Info: Arnoldi iteration step 21: normres = 0.027065525122054124\n",
      "[ Info: Arnoldi schursolve in iter 1, krylovdim = 21: 1 values converged, normres = (3.05e-23, 2.25e-08, 9.53e-09, 3.17e-09, 8.18e-09)\n",
      "[ Info: Arnoldi iteration step 22: normres = 0.05814025863101601\n",
      "[ Info: Arnoldi schursolve in iter 1, krylovdim = 22: 1 values converged, normres = (7.27e-25, 7.96e-10, 4.77e-10, 1.29e-10, 3.43e-10)\n",
      "[ Info: Arnoldi iteration step 23: normres = 0.34488151579592036\n",
      "[ Info: Arnoldi schursolve in iter 1, krylovdim = 23: 1 values converged, normres = (2.20e-25, 1.18e-09, 7.15e-10, 4.93e-10, 1.27e-09)\n",
      "[ Info: Arnoldi iteration step 24: normres = 0.017239359082472653\n",
      "[ Info: Arnoldi schursolve in iter 1, krylovdim = 24: 1 values converged, normres = (1.69e-27, 2.20e-11, 1.33e-11, 1.57e-09, 4.03e-09)\n",
      "[ Info: Arnoldi iteration step 25: normres = 0.1117500042919222\n",
      "[ Info: Arnoldi schursolve in iter 1, krylovdim = 25: 1 values converged, normres = (7.92e-29, 1.66e-12, 1.00e-12, 2.72e-04, 1.61e-04)\n",
      "[ Info: Arnoldi iteration step 26: normres = 0.02932955067620974\n",
      "[ Info: Arnoldi schursolve in iter 1, krylovdim = 26: 3 values converged, normres = (1.03e-30, 3.65e-14, 2.20e-14, 8.44e-09, 2.07e-08)\n",
      "[ Info: Arnoldi iteration step 27: normres = 0.05568530510097442\n",
      "[ Info: Arnoldi schursolve in iter 1, krylovdim = 27: 3 values converged, normres = (2.37e-32, 1.34e-15, 8.05e-16, 5.99e-08, 1.39e-07)\n",
      "[ Info: Arnoldi iteration step 28: normres = 0.04593909654296862\n",
      "[ Info: Arnoldi schursolve in iter 1, krylovdim = 28: 3 values converged, normres = (4.82e-34, 4.53e-17, 2.73e-17, 2.58e-09, 1.26e-08)\n",
      "[ Info: Arnoldi iteration step 29: normres = 0.05422651105867841\n",
      "[ Info: Arnoldi schursolve in iter 1, krylovdim = 29: 3 values converged, normres = (1.08e-35, 1.63e-18, 9.81e-19, 3.77e-11, 4.90e-10)\n",
      "[ Info: Arnoldi iteration step 30: normres = 0.09635696384447873\n",
      "[ Info: Arnoldi schursolve in iter 1, krylovdim = 30: 3 values converged, normres = (5.14e-37, 1.40e-19, 8.44e-20, 3.70e-12, 4.79e-11)\n",
      "[ Info: Arnoldi schursolve in iter 2, krylovdim = 19: 3 values converged, normres = (5.15e-37, 1.40e-19, 8.44e-20, 3.70e-12, 4.79e-11)\n",
      "[ Info: Arnoldi iteration step 20: normres = 0.0520639052166203\n",
      "[ Info: Arnoldi schursolve in iter 2, krylovdim = 20: 4 values converged, normres = (1.12e-38, 4.91e-21, 2.96e-21, 1.44e-13, 1.86e-12)\n",
      "[ Info: Arnoldi iteration step 21: normres = 0.04833252061567485\n",
      "┌ Info: Arnoldi eigsolve finished after 2 iterations:\n",
      "│ *  6 eigenvalues converged\n",
      "│ *  norm of residuals = (2.334320952959965e-40, 1.68544637111214e-22, 7.6799653365046e-23, 5.4733804784564774e-15, 7.088146880788906e-14, 5.150806383791965e-14)\n",
      "└ *  number of operations = 32\n"
     ]
    }
   ],
   "cell_type": "code",
   "source": [
    "eigsolve(eps_fun, randn(size(scfres.ρ)), 5, :LM; eager=true, verbosity=3);"
   ],
   "metadata": {},
   "execution_count": 3
  }
 ],
 "nbformat_minor": 3,
 "metadata": {
  "language_info": {
   "file_extension": ".jl",
   "mimetype": "application/julia",
   "name": "julia",
   "version": "1.9.3"
  },
  "kernelspec": {
   "name": "julia-1.9",
   "display_name": "Julia 1.9.3",
   "language": "julia"
  }
 },
 "nbformat": 4
}
