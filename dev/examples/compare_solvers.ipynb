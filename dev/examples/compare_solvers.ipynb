{
 "cells": [
  {
   "cell_type": "markdown",
   "source": [
    "# Comparison of DFT solvers"
   ],
   "metadata": {}
  },
  {
   "cell_type": "markdown",
   "source": [
    "We compare four different approaches for solving the DFT minimisation problem,\n",
    "namely a density-based SCF, a potential-based SCF, direct minimisation and Newton."
   ],
   "metadata": {}
  },
  {
   "cell_type": "markdown",
   "source": [
    "First we setup our problem"
   ],
   "metadata": {}
  },
  {
   "outputs": [
    {
     "output_type": "execute_result",
     "data": {
      "text/plain": "1.0e-6"
     },
     "metadata": {},
     "execution_count": 1
    }
   ],
   "cell_type": "code",
   "source": [
    "using DFTK\n",
    "using LinearAlgebra\n",
    "\n",
    "a = 10.26  # Silicon lattice constant in Bohr\n",
    "lattice = a / 2 * [[0 1 1.];\n",
    "                   [1 0 1.];\n",
    "                   [1 1 0.]]\n",
    "Si = ElementPsp(:Si, psp=load_psp(\"hgh/lda/Si-q4\"))\n",
    "atoms     = [Si, Si]\n",
    "positions = [ones(3)/8, -ones(3)/8]\n",
    "\n",
    "model = model_LDA(lattice, atoms, positions)\n",
    "basis = PlaneWaveBasis(model; Ecut=5, kgrid=[3, 3, 3])\n",
    "\n",
    "# Convergence we desire in the density\n",
    "tol = 1e-6"
   ],
   "metadata": {},
   "execution_count": 1
  },
  {
   "cell_type": "markdown",
   "source": [
    "## Density-based self-consistent field"
   ],
   "metadata": {}
  },
  {
   "outputs": [
    {
     "name": "stdout",
     "output_type": "stream",
     "text": [
      "n     Energy            log10(ΔE)   log10(Δρ)   Diag   Δtime\n",
      "---   ---------------   ---------   ---------   ----   ------\n",
      "  1   -7.846731751394                   -0.70    4.5         \n",
      "  2   -7.852299820921       -2.25       -1.53    1.0   24.7ms\n",
      "  3   -7.852609136082       -3.51       -2.56    1.5   26.5ms\n",
      "  4   -7.852645720220       -4.44       -2.86    2.8   34.6ms\n",
      "  5   -7.852646427055       -6.15       -3.12    1.0   24.8ms\n",
      "  6   -7.852646675849       -6.60       -4.13    1.0   25.2ms\n",
      "  7   -7.852646686664       -7.97       -5.07    2.0    122ms\n",
      "  8   -7.852646686721      -10.24       -5.28    2.0   30.8ms\n",
      "  9   -7.852646686728      -11.12       -5.59    1.0   24.9ms\n",
      " 10   -7.852646686730      -11.88       -6.37    1.0   25.9ms\n"
     ]
    }
   ],
   "cell_type": "code",
   "source": [
    "scfres_scf = self_consistent_field(basis; tol);"
   ],
   "metadata": {},
   "execution_count": 2
  },
  {
   "cell_type": "markdown",
   "source": [
    "## Potential-based SCF"
   ],
   "metadata": {}
  },
  {
   "outputs": [
    {
     "name": "stdout",
     "output_type": "stream",
     "text": [
      "n     Energy            log10(ΔE)   log10(Δρ)   α      Diag   Δtime\n",
      "---   ---------------   ---------   ---------   ----   ----   ------\n",
      "  1   -7.846701036305                   -0.70           4.2         \n",
      "  2   -7.852550674994       -2.23       -1.63   0.80    2.5    267ms\n",
      "  3   -7.852638612223       -4.06       -2.74   0.80    1.0   23.6ms\n",
      "  4   -7.852646443375       -5.11       -3.33   0.80    1.8   28.1ms\n",
      "  5   -7.852646678916       -6.63       -4.19   0.80    1.8   27.2ms\n",
      "  6   -7.852646686449       -8.12       -4.74   0.80    1.8    132ms\n",
      "  7   -7.852646686708       -9.59       -5.59   0.80    1.5   26.3ms\n",
      "  8   -7.852646686730      -10.67       -6.30   0.80    2.0   28.2ms\n"
     ]
    }
   ],
   "cell_type": "code",
   "source": [
    "scfres_scfv = DFTK.scf_potential_mixing(basis; tol);"
   ],
   "metadata": {},
   "execution_count": 3
  },
  {
   "cell_type": "markdown",
   "source": [
    "## Direct minimization\n",
    "Note: Unlike the other algorithms, tolerance for this one is in the energy,\n",
    "thus we square the density tolerance value to be roughly equivalent."
   ],
   "metadata": {}
  },
  {
   "outputs": [
    {
     "name": "stdout",
     "output_type": "stream",
     "text": [
      "Iter     Function value   Gradient norm \n",
      "     0     1.391754e+01     3.564748e+00\n",
      " * time: 0.40828585624694824\n",
      "     1     1.368204e+00     1.867036e+00\n",
      " * time: 0.6065080165863037\n",
      "     2    -1.424990e+00     2.312771e+00\n",
      " * time: 0.6308128833770752\n",
      "     3    -3.637146e+00     1.873415e+00\n",
      " * time: 0.6657350063323975\n",
      "     4    -5.080181e+00     1.657488e+00\n",
      " * time: 0.7008090019226074\n",
      "     5    -6.756180e+00     8.833501e-01\n",
      " * time: 0.7357418537139893\n",
      "     6    -7.383335e+00     3.442162e-01\n",
      " * time: 0.7706279754638672\n",
      "     7    -7.596196e+00     2.489622e-01\n",
      " * time: 0.7950198650360107\n",
      "     8    -7.683514e+00     1.248396e-01\n",
      " * time: 0.8194990158081055\n",
      "     9    -7.749215e+00     1.287304e-01\n",
      " * time: 0.8432350158691406\n",
      "    10    -7.789909e+00     1.123086e-01\n",
      " * time: 0.866908073425293\n",
      "    11    -7.816821e+00     8.923866e-02\n",
      " * time: 0.8909900188446045\n",
      "    12    -7.833796e+00     6.056390e-02\n",
      " * time: 0.9155728816986084\n",
      "    13    -7.841715e+00     4.587359e-02\n",
      " * time: 0.9402298927307129\n",
      "    14    -7.847466e+00     3.275415e-02\n",
      " * time: 0.9646620750427246\n",
      "    15    -7.850751e+00     2.412593e-02\n",
      " * time: 0.9888930320739746\n",
      "    16    -7.851985e+00     1.223563e-02\n",
      " * time: 1.013244867324829\n",
      "    17    -7.852385e+00     6.092011e-03\n",
      " * time: 1.037674903869629\n",
      "    18    -7.852543e+00     3.696361e-03\n",
      " * time: 1.061357021331787\n",
      "    19    -7.852608e+00     2.472060e-03\n",
      " * time: 1.084920883178711\n",
      "    20    -7.852633e+00     1.491268e-03\n",
      " * time: 1.1088218688964844\n",
      "    21    -7.852643e+00     7.754034e-04\n",
      " * time: 1.1326069831848145\n",
      "    22    -7.852646e+00     5.913858e-04\n",
      " * time: 1.1562159061431885\n",
      "    23    -7.852646e+00     3.765442e-04\n",
      " * time: 1.1801130771636963\n",
      "    24    -7.852647e+00     1.445886e-04\n",
      " * time: 1.2037229537963867\n",
      "    25    -7.852647e+00     6.078778e-05\n",
      " * time: 1.2276020050048828\n",
      "    26    -7.852647e+00     3.733290e-05\n",
      " * time: 1.2512729167938232\n",
      "    27    -7.852647e+00     2.449595e-05\n",
      " * time: 1.2749090194702148\n",
      "    28    -7.852647e+00     2.111821e-05\n",
      " * time: 1.2990748882293701\n",
      "    29    -7.852647e+00     1.071805e-05\n",
      " * time: 1.323045015335083\n",
      "    30    -7.852647e+00     3.475575e-06\n",
      " * time: 1.3465869426727295\n",
      "    31    -7.852647e+00     2.086074e-06\n",
      " * time: 1.3704419136047363\n",
      "    32    -7.852647e+00     1.322925e-06\n",
      " * time: 1.3947498798370361\n",
      "    33    -7.852647e+00     7.156956e-07\n",
      " * time: 1.4186890125274658\n",
      "    34    -7.852647e+00     4.736095e-07\n",
      " * time: 1.4429218769073486\n",
      "    35    -7.852647e+00     3.221650e-07\n",
      " * time: 1.467087984085083\n",
      "    36    -7.852647e+00     2.002201e-07\n",
      " * time: 1.4911079406738281\n",
      "    37    -7.852647e+00     8.366928e-08\n",
      " * time: 1.5150249004364014\n",
      "    38    -7.852647e+00     4.353927e-08\n",
      " * time: 1.5391368865966797\n",
      "    39    -7.852647e+00     3.609525e-08\n",
      " * time: 1.5636498928070068\n",
      "    40    -7.852647e+00     2.154409e-08\n",
      " * time: 1.673902988433838\n",
      "    41    -7.852647e+00     2.154409e-08\n",
      " * time: 1.8012418746948242\n"
     ]
    }
   ],
   "cell_type": "code",
   "source": [
    "scfres_dm = direct_minimization(basis; tol=tol^2);"
   ],
   "metadata": {},
   "execution_count": 4
  },
  {
   "cell_type": "markdown",
   "source": [
    "## Newton algorithm"
   ],
   "metadata": {}
  },
  {
   "cell_type": "markdown",
   "source": [
    "Start not too far from the solution to ensure convergence:\n",
    "We run first a very crude SCF to get close and then switch to Newton."
   ],
   "metadata": {}
  },
  {
   "outputs": [
    {
     "name": "stdout",
     "output_type": "stream",
     "text": [
      "n     Energy            log10(ΔE)   log10(Δρ)   Diag   Δtime\n",
      "---   ---------------   ---------   ---------   ----   ------\n",
      "  1   -7.846804017935                   -0.70    4.5         \n"
     ]
    }
   ],
   "cell_type": "code",
   "source": [
    "scfres_start = self_consistent_field(basis; tol=0.5);"
   ],
   "metadata": {},
   "execution_count": 5
  },
  {
   "cell_type": "markdown",
   "source": [
    "Remove the virtual orbitals (which Newton cannot treat yet)"
   ],
   "metadata": {}
  },
  {
   "outputs": [
    {
     "name": "stdout",
     "output_type": "stream",
     "text": [
      "n     Energy            log10(ΔE)   log10(Δρ)   Δtime\n",
      "---   ---------------   ---------   ---------   ------\n",
      "  1   -7.852645888728                   -1.64         \n",
      "  2   -7.852646686730       -6.10       -3.70    1.75s\n",
      "  3   -7.852646686730      -13.30       -7.24    158ms\n"
     ]
    }
   ],
   "cell_type": "code",
   "source": [
    "ψ = DFTK.select_occupied_orbitals(basis, scfres_start.ψ, scfres_start.occupation).ψ\n",
    "scfres_newton = newton(basis, ψ; tol);"
   ],
   "metadata": {},
   "execution_count": 6
  },
  {
   "cell_type": "markdown",
   "source": [
    "## Comparison of results"
   ],
   "metadata": {}
  },
  {
   "outputs": [
    {
     "name": "stdout",
     "output_type": "stream",
     "text": [
      "|ρ_newton - ρ_scf|  = 3.242433335164063e-7\n",
      "|ρ_newton - ρ_scfv| = 2.0366595869600255e-7\n",
      "|ρ_newton - ρ_dm|   = 2.9468200354043948e-9\n"
     ]
    }
   ],
   "cell_type": "code",
   "source": [
    "println(\"|ρ_newton - ρ_scf|  = \", norm(scfres_newton.ρ - scfres_scf.ρ))\n",
    "println(\"|ρ_newton - ρ_scfv| = \", norm(scfres_newton.ρ - scfres_scfv.ρ))\n",
    "println(\"|ρ_newton - ρ_dm|   = \", norm(scfres_newton.ρ - scfres_dm.ρ))"
   ],
   "metadata": {},
   "execution_count": 7
  }
 ],
 "nbformat_minor": 3,
 "metadata": {
  "language_info": {
   "file_extension": ".jl",
   "mimetype": "application/julia",
   "name": "julia",
   "version": "1.8.5"
  },
  "kernelspec": {
   "name": "julia-1.8",
   "display_name": "Julia 1.8.5",
   "language": "julia"
  }
 },
 "nbformat": 4
}
