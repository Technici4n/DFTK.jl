{
 "cells": [
  {
   "cell_type": "markdown",
   "source": [
    "# Eigenvalues of the dielectric matrix\n",
    "\n",
    "We compute a few eigenvalues of the dielectric matrix ($q=0$, $ω=0$) iteratively."
   ],
   "metadata": {}
  },
  {
   "outputs": [
    {
     "name": "stdout",
     "output_type": "stream",
     "text": [
      "n     Energy            log10(ΔE)   log10(Δρ)   Diag   Δtime\n",
      "---   ---------------   ---------   ---------   ----   ------\n",
      "  1   -7.233979910593                   -0.50    7.0         \n",
      "  2   -7.250043375474       -1.79       -1.39    1.0   7.73ms\n",
      "  3   -7.250813159294       -3.11       -1.83    2.0   8.56ms\n",
      "  4   -7.250896674667       -4.08       -1.84    2.0   9.13ms\n",
      "  5   -7.251336342418       -3.36       -2.92    1.0   7.74ms\n",
      "  6   -7.251338495578       -5.67       -3.31    2.0   9.51ms\n",
      "  7   -7.251338728054       -6.63       -3.64    1.0   7.72ms\n",
      "  8   -7.251338788659       -7.22       -4.15    1.0   7.72ms\n",
      "  9   -7.251338797954       -8.03       -4.58    2.0   9.52ms\n",
      " 10   -7.251338798634       -9.17       -5.28    1.0   7.89ms\n",
      " 11   -7.251338798696      -10.21       -5.61    2.0   9.67ms\n",
      " 12   -7.251338798703      -11.15       -6.03    1.0   8.00ms\n",
      " 13   -7.251338798704      -11.91       -6.40    2.0   9.51ms\n",
      " 14   -7.251338798705      -12.68       -6.91    1.0   7.97ms\n",
      " 15   -7.251338798705      -13.85       -7.28    2.0   9.50ms\n",
      " 16   -7.251338798705      -14.35       -7.84    1.0   7.96ms\n",
      " 17   -7.251338798705   +    -Inf       -8.15    2.0   59.2ms\n"
     ]
    }
   ],
   "cell_type": "code",
   "source": [
    "using DFTK\n",
    "using Plots\n",
    "using KrylovKit\n",
    "using Printf\n",
    "\n",
    "# Calculation parameters\n",
    "kgrid = [1, 1, 1]\n",
    "Ecut = 5\n",
    "\n",
    "# Silicon lattice\n",
    "a = 10.26\n",
    "lattice = a / 2 .* [[0 1 1.]; [1 0 1.]; [1 1 0.]]\n",
    "Si = ElementPsp(:Si, psp=load_psp(\"hgh/lda/Si-q4\"))\n",
    "atoms     = [Si, Si]\n",
    "positions = [ones(3)/8, -ones(3)/8]\n",
    "\n",
    "# Compute the dielectric operator without symmetries\n",
    "model  = model_LDA(lattice, atoms, positions, symmetries=false)\n",
    "basis  = PlaneWaveBasis(model; Ecut, kgrid)\n",
    "scfres = self_consistent_field(basis, tol=1e-8);"
   ],
   "metadata": {},
   "execution_count": 1
  },
  {
   "cell_type": "markdown",
   "source": [
    "Applying $ε^† ≔ (1- χ_0 K)$ …"
   ],
   "metadata": {}
  },
  {
   "outputs": [],
   "cell_type": "code",
   "source": [
    "function eps_fun(δρ)\n",
    "    δV = apply_kernel(basis, δρ; ρ=scfres.ρ)\n",
    "    χ0δV = apply_χ0(scfres, δV)\n",
    "    δρ - χ0δV\n",
    "end;"
   ],
   "metadata": {},
   "execution_count": 2
  },
  {
   "cell_type": "markdown",
   "source": [
    "… eagerly diagonalizes the subspace matrix at each iteration"
   ],
   "metadata": {}
  },
  {
   "outputs": [
    {
     "name": "stdout",
     "output_type": "stream",
     "text": [
      "[ Info: Arnoldi iteration step 1: normres = 0.05047212515354877\n",
      "[ Info: Arnoldi iteration step 2: normres = 0.47718420212937623\n",
      "[ Info: Arnoldi iteration step 3: normres = 0.647138414325675\n",
      "[ Info: Arnoldi iteration step 4: normres = 0.5621855772447031\n",
      "[ Info: Arnoldi iteration step 5: normres = 0.4124645267185201\n",
      "[ Info: Arnoldi schursolve in iter 1, krylovdim = 5: 0 values converged, normres = (1.05e-01, 6.17e-02, 2.91e-01, 2.65e-01, 1.95e-02)\n",
      "[ Info: Arnoldi iteration step 6: normres = 0.36206976692753545\n",
      "[ Info: Arnoldi schursolve in iter 1, krylovdim = 6: 0 values converged, normres = (3.10e-02, 8.13e-02, 3.25e-01, 8.71e-02, 9.93e-02)\n",
      "[ Info: Arnoldi iteration step 7: normres = 0.0824942326276317\n",
      "[ Info: Arnoldi schursolve in iter 1, krylovdim = 7: 0 values converged, normres = (1.28e-03, 9.50e-03, 2.22e-02, 2.87e-02, 5.89e-02)\n",
      "[ Info: Arnoldi iteration step 8: normres = 0.12152076542696987\n",
      "[ Info: Arnoldi schursolve in iter 1, krylovdim = 8: 0 values converged, normres = (6.78e-05, 8.35e-04, 2.18e-03, 1.23e-02, 6.22e-02)\n",
      "[ Info: Arnoldi iteration step 9: normres = 0.0736383399245396\n",
      "[ Info: Arnoldi schursolve in iter 1, krylovdim = 9: 0 values converged, normres = (2.16e-06, 4.38e-05, 1.27e-04, 3.28e-03, 3.68e-02)\n",
      "[ Info: Arnoldi iteration step 10: normres = 0.08093396472431262\n",
      "[ Info: Arnoldi schursolve in iter 1, krylovdim = 10: 0 values converged, normres = (7.67e-08, 2.59e-06, 8.36e-06, 1.00e-03, 2.48e-02)\n",
      "[ Info: Arnoldi iteration step 11: normres = 0.08759543201565019\n",
      "[ Info: Arnoldi schursolve in iter 1, krylovdim = 11: 0 values converged, normres = (2.89e-09, 1.60e-07, 5.73e-07, 2.80e-04, 1.46e-02)\n",
      "[ Info: Arnoldi iteration step 12: normres = 0.07113766139759602\n",
      "[ Info: Arnoldi schursolve in iter 1, krylovdim = 12: 0 values converged, normres = (8.88e-11, 8.09e-09, 3.22e-08, 6.62e-05, 7.63e-03)\n",
      "[ Info: Arnoldi iteration step 13: normres = 0.0331778271996771\n",
      "[ Info: Arnoldi schursolve in iter 1, krylovdim = 13: 0 values converged, normres = (1.25e-12, 1.85e-10, 8.13e-10, 6.27e-06, 1.41e-03)\n",
      "[ Info: Arnoldi iteration step 14: normres = 0.7025394683758838\n",
      "[ Info: Arnoldi schursolve in iter 1, krylovdim = 14: 1 values converged, normres = (4.57e-13, 1.28e-10, 6.55e-10, 6.74e-01, 1.36e-01)\n",
      "[ Info: Arnoldi iteration step 15: normres = 0.04446615497464344\n",
      "[ Info: Arnoldi schursolve in iter 1, krylovdim = 15: 1 values converged, normres = (1.53e-14, 2.69e-11, 1.46e-08, 3.58e-02, 1.23e-05)\n",
      "[ Info: Arnoldi iteration step 16: normres = 0.48172620124395005\n",
      "[ Info: Arnoldi schursolve in iter 1, krylovdim = 16: 1 values converged, normres = (3.29e-15, 9.85e-12, 1.41e-02, 2.36e-03, 1.67e-06)\n",
      "[ Info: Arnoldi iteration step 17: normres = 0.08096381174621381\n",
      "[ Info: Arnoldi schursolve in iter 1, krylovdim = 17: 1 values converged, normres = (2.72e-16, 1.21e-10, 7.63e-02, 2.24e-03, 7.90e-03)\n",
      "[ Info: Arnoldi iteration step 18: normres = 0.014928722995352195\n",
      "[ Info: Arnoldi schursolve in iter 1, krylovdim = 18: 1 values converged, normres = (1.68e-18, 5.13e-10, 7.51e-04, 7.90e-05, 5.08e-06)\n",
      "[ Info: Arnoldi iteration step 19: normres = 0.15216572096274347\n",
      "[ Info: Arnoldi schursolve in iter 1, krylovdim = 19: 1 values converged, normres = (1.07e-19, 5.20e-05, 5.69e-05, 1.72e-08, 9.01e-06)\n",
      "[ Info: Arnoldi iteration step 20: normres = 0.05053126757996967\n",
      "[ Info: Arnoldi schursolve in iter 1, krylovdim = 20: 1 values converged, normres = (2.65e-21, 4.47e-10, 3.44e-06, 4.56e-07, 5.22e-08)\n",
      "[ Info: Arnoldi iteration step 21: normres = 0.035466480541858345\n",
      "[ Info: Arnoldi schursolve in iter 1, krylovdim = 21: 1 values converged, normres = (3.88e-23, 1.47e-09, 8.06e-08, 7.72e-09, 8.99e-09)\n",
      "[ Info: Arnoldi iteration step 22: normres = 0.02180713318265703\n",
      "[ Info: Arnoldi schursolve in iter 1, krylovdim = 22: 1 values converged, normres = (3.52e-25, 1.03e-11, 1.17e-09, 1.03e-10, 1.60e-10)\n",
      "[ Info: Arnoldi iteration step 23: normres = 0.021509363936653016\n",
      "[ Info: Arnoldi schursolve in iter 1, krylovdim = 23: 2 values converged, normres = (3.10e-27, 1.43e-13, 1.65e-11, 1.60e-12, 2.47e-12)\n",
      "[ Info: Arnoldi iteration step 24: normres = 0.6455003576979924\n",
      "[ Info: Arnoldi schursolve in iter 1, krylovdim = 24: 2 values converged, normres = (1.02e-27, 8.76e-14, 1.01e-11, 1.13e-12, 1.74e-12)\n",
      "[ Info: Arnoldi iteration step 25: normres = 0.04492350600910455\n",
      "[ Info: Arnoldi schursolve in iter 1, krylovdim = 25: 2 values converged, normres = (1.07e-28, 1.91e-14, 2.20e-12, 1.66e-11, 2.56e-11)\n",
      "[ Info: Arnoldi iteration step 26: normres = 0.1052803135252144\n",
      "[ Info: Arnoldi schursolve in iter 1, krylovdim = 26: 3 values converged, normres = (1.64e-30, 1.51e-15, 1.74e-13, 4.47e-11, 6.90e-11)\n",
      "[ Info: Arnoldi iteration step 27: normres = 0.04064725724287819\n",
      "[ Info: Arnoldi schursolve in iter 1, krylovdim = 27: 3 values converged, normres = (2.81e-32, 4.19e-17, 4.82e-15, 8.38e-05, 2.37e-05)\n",
      "[ Info: Arnoldi iteration step 28: normres = 0.08723568071792412\n",
      "[ Info: Arnoldi schursolve in iter 1, krylovdim = 28: 3 values converged, normres = (1.08e-33, 2.66e-18, 3.06e-16, 5.31e-06, 1.29e-06)\n",
      "[ Info: Arnoldi iteration step 29: normres = 0.012444131439554475\n",
      "[ Info: Arnoldi schursolve in iter 1, krylovdim = 29: 3 values converged, normres = (5.60e-36, 2.23e-20, 2.57e-18, 9.76e-11, 3.78e-08)\n",
      "[ Info: Arnoldi iteration step 30: normres = 0.043089259689083316\n",
      "[ Info: Arnoldi schursolve in iter 1, krylovdim = 30: 3 values converged, normres = (9.92e-38, 6.31e-22, 7.26e-20, 1.10e-11, 1.94e-09)\n",
      "[ Info: Arnoldi schursolve in iter 2, krylovdim = 19: 3 values converged, normres = (9.92e-38, 6.31e-22, 7.26e-20, 1.10e-11, 1.94e-09)\n",
      "[ Info: Arnoldi iteration step 20: normres = 0.1862091659677255\n",
      "[ Info: Arnoldi schursolve in iter 2, krylovdim = 20: 3 values converged, normres = (8.52e-39, 9.32e-23, 1.07e-20, 2.12e-12, 3.22e-10)\n",
      "[ Info: Arnoldi iteration step 21: normres = 0.1045302538451924\n",
      "[ Info: Arnoldi schursolve in iter 2, krylovdim = 21: 4 values converged, normres = (4.07e-40, 7.67e-24, 8.83e-22, 1.90e-13, 2.99e-11)\n",
      "[ Info: Arnoldi iteration step 22: normres = 0.019761982174374814\n",
      "┌ Info: Arnoldi eigsolve finished after 2 iterations:\n",
      "│ *  6 eigenvalues converged\n",
      "│ *  norm of residuals = (3.41392717388573e-42, 1.0469640406280114e-25, 1.2046544163435072e-23, 2.884432812720466e-15, 3.031826241348701e-13, 5.719653652374757e-16)\n",
      "└ *  number of operations = 33\n"
     ]
    }
   ],
   "cell_type": "code",
   "source": [
    "eigsolve(eps_fun, randn(size(scfres.ρ)), 5, :LM; eager=true, verbosity=3);"
   ],
   "metadata": {},
   "execution_count": 3
  }
 ],
 "nbformat_minor": 3,
 "metadata": {
  "language_info": {
   "file_extension": ".jl",
   "mimetype": "application/julia",
   "name": "julia",
   "version": "1.9.0"
  },
  "kernelspec": {
   "name": "julia-1.9",
   "display_name": "Julia 1.9.0",
   "language": "julia"
  }
 },
 "nbformat": 4
}
