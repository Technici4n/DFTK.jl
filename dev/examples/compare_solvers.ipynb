{
 "cells": [
  {
   "cell_type": "markdown",
   "source": [
    "# Comparison of DFT solvers"
   ],
   "metadata": {}
  },
  {
   "cell_type": "markdown",
   "source": [
    "We compare four different approaches for solving the DFT minimisation problem,\n",
    "namely a density-based SCF, a potential-based SCF, direct minimisation and Newton."
   ],
   "metadata": {}
  },
  {
   "cell_type": "markdown",
   "source": [
    "First we setup our problem"
   ],
   "metadata": {}
  },
  {
   "outputs": [],
   "cell_type": "code",
   "source": [
    "using DFTK\n",
    "using LinearAlgebra\n",
    "\n",
    "a = 10.26  # Silicon lattice constant in Bohr\n",
    "lattice = a / 2 * [[0 1 1.];\n",
    "                   [1 0 1.];\n",
    "                   [1 1 0.]]\n",
    "Si = ElementPsp(:Si, psp=load_psp(\"hgh/lda/Si-q4\"))\n",
    "atoms     = [Si, Si]\n",
    "positions = [ones(3)/8, -ones(3)/8]\n",
    "\n",
    "model = model_LDA(lattice, atoms, positions)\n",
    "basis = PlaneWaveBasis(model; Ecut=5, kgrid=[3, 3, 3])\n",
    "\n",
    "# Convergence we desire\n",
    "tol = 1e-12\n",
    "is_converged = DFTK.ScfConvergenceDensity(tol);"
   ],
   "metadata": {},
   "execution_count": 1
  },
  {
   "cell_type": "markdown",
   "source": [
    "## Density-based self-consistent field"
   ],
   "metadata": {}
  },
  {
   "outputs": [
    {
     "name": "stdout",
     "output_type": "stream",
     "text": [
      "n     Energy            log10(ΔE)   log10(Δρ)   Diag\n",
      "---   ---------------   ---------   ---------   ----\n",
      "  1   -7.846802295622                   -0.70    4.8\n",
      "  2   -7.852316721589       -2.26       -1.53    1.0\n",
      "  3   -7.852646222388       -3.48       -2.52    3.2\n",
      "  4   -7.852646677808       -6.34       -3.36    2.0\n",
      "  5   -7.852646686006       -8.09       -4.72    1.5\n",
      "  6   -7.852646686725       -9.14       -5.26    3.5\n",
      "  7   -7.852646686730      -11.31       -6.06    1.2\n",
      "  8   -7.852646686730      -12.52       -7.48    2.8\n",
      "  9   -7.852646686730   +    -Inf       -7.57    2.5\n",
      " 10   -7.852646686730   +  -14.75       -8.95    2.0\n",
      " 11   -7.852646686730   +  -14.75       -9.62    2.0\n",
      " 12   -7.852646686730      -14.75      -10.17    1.8\n",
      " 13   -7.852646686730      -14.75      -10.88    2.0\n",
      " 14   -7.852646686730      -14.45      -11.70    2.5\n",
      " 15   -7.852646686730   +  -14.75      -12.49    2.5\n"
     ]
    }
   ],
   "cell_type": "code",
   "source": [
    "scfres_scf = self_consistent_field(basis; is_converged);"
   ],
   "metadata": {},
   "execution_count": 2
  },
  {
   "cell_type": "markdown",
   "source": [
    "## Potential-based SCF"
   ],
   "metadata": {}
  },
  {
   "outputs": [
    {
     "name": "stdout",
     "output_type": "stream",
     "text": [
      "n     Energy            log10(ΔE)   log10(Δρ)   α      Diag\n",
      "---   ---------------   ---------   ---------   ----   ----\n",
      "  1   -7.846835439666                   -0.70           4.5\n",
      "  2   -7.852542307458       -2.24       -1.63   0.80    2.5\n",
      "  3   -7.852638322977       -4.02       -2.72   0.80    1.0\n",
      "  4   -7.852646564928       -5.08       -3.34   0.80    1.8\n",
      "  5   -7.852646674969       -6.96       -4.25   0.80    1.0\n",
      "  6   -7.852646686586       -7.93       -4.71   0.80    2.2\n",
      "  7   -7.852646686714       -9.89       -5.49   0.80    1.0\n",
      "  8   -7.852646686729      -10.82       -6.16   0.80    1.8\n",
      "  9   -7.852646686730      -12.15       -7.44   0.80    1.8\n",
      " 10   -7.852646686730      -13.67       -7.75   0.80    2.5\n",
      " 11   -7.852646686730      -15.05       -8.81   0.80    1.0\n",
      " 12   -7.852646686730   +  -15.05       -9.52   0.80    2.2\n",
      " 13   -7.852646686730      -15.05      -10.73   0.80    2.0\n",
      " 14   -7.852646686730   +  -15.05      -11.58   0.80    2.5\n",
      " 15   -7.852646686730      -15.05      -11.88   0.80    2.8\n",
      " 16   -7.852646686730      -14.75      -12.29   0.80    1.0\n"
     ]
    }
   ],
   "cell_type": "code",
   "source": [
    "scfres_scfv = DFTK.scf_potential_mixing(basis; is_converged);"
   ],
   "metadata": {},
   "execution_count": 3
  },
  {
   "cell_type": "markdown",
   "source": [
    "## Direct minimization"
   ],
   "metadata": {}
  },
  {
   "outputs": [
    {
     "name": "stdout",
     "output_type": "stream",
     "text": [
      "Iter     Function value   Gradient norm \n",
      "     0     1.425051e+01     3.629710e+00\n",
      " * time: 0.46010708808898926\n",
      "     1     1.660319e+00     1.896408e+00\n",
      " * time: 0.6611418724060059\n",
      "     2    -1.496235e+00     2.247766e+00\n",
      " * time: 0.6880168914794922\n",
      "     3    -3.409737e+00     1.962628e+00\n",
      " * time: 0.7264308929443359\n",
      "     4    -4.737250e+00     1.823925e+00\n",
      " * time: 0.7644550800323486\n",
      "     5    -6.493361e+00     1.077604e+00\n",
      " * time: 0.8028309345245361\n",
      "     6    -7.311022e+00     7.195130e-01\n",
      " * time: 0.8410749435424805\n",
      "     7    -7.608226e+00     4.723921e-01\n",
      " * time: 0.8673088550567627\n",
      "     8    -7.759735e+00     1.166974e-01\n",
      " * time: 0.8939299583435059\n",
      "     9    -7.801999e+00     1.047776e-01\n",
      " * time: 0.9208180904388428\n",
      "    10    -7.824707e+00     7.315319e-02\n",
      " * time: 0.9470019340515137\n",
      "    11    -7.836876e+00     4.788541e-02\n",
      " * time: 0.9734790325164795\n",
      "    12    -7.843946e+00     4.454044e-02\n",
      " * time: 0.9998219013214111\n",
      "    13    -7.844323e+00     5.029710e-02\n",
      " * time: 1.0265769958496094\n",
      "    14    -7.844876e+00     4.167451e-02\n",
      " * time: 1.0531749725341797\n",
      "    15    -7.848270e+00     2.397218e-02\n",
      " * time: 1.0796010494232178\n",
      "    16    -7.851023e+00     2.244692e-02\n",
      " * time: 1.1059300899505615\n",
      "    17    -7.852118e+00     1.695244e-02\n",
      " * time: 1.132559061050415\n",
      "    18    -7.852476e+00     6.447235e-03\n",
      " * time: 1.1590969562530518\n",
      "    19    -7.852585e+00     4.861553e-03\n",
      " * time: 1.185621976852417\n",
      "    20    -7.852623e+00     2.191457e-03\n",
      " * time: 1.2119290828704834\n",
      "    21    -7.852639e+00     1.220865e-03\n",
      " * time: 1.2382209300994873\n",
      "    22    -7.852645e+00     7.352112e-04\n",
      " * time: 1.264523983001709\n",
      "    23    -7.852646e+00     4.776144e-04\n",
      " * time: 1.2910130023956299\n",
      "    24    -7.852646e+00     3.378889e-04\n",
      " * time: 1.317431926727295\n",
      "    25    -7.852647e+00     1.676092e-04\n",
      " * time: 1.3439180850982666\n",
      "    26    -7.852647e+00     9.757685e-05\n",
      " * time: 1.3699979782104492\n",
      "    27    -7.852647e+00     7.281513e-05\n",
      " * time: 1.3964588642120361\n",
      "    28    -7.852647e+00     5.087128e-05\n",
      " * time: 1.4229130744934082\n",
      "    29    -7.852647e+00     2.053011e-05\n",
      " * time: 1.4491379261016846\n",
      "    30    -7.852647e+00     1.104349e-05\n",
      " * time: 1.4755768775939941\n",
      "    31    -7.852647e+00     6.352261e-06\n",
      " * time: 1.5022540092468262\n",
      "    32    -7.852647e+00     4.314098e-06\n",
      " * time: 1.5284559726715088\n",
      "    33    -7.852647e+00     3.767355e-06\n",
      " * time: 1.5550110340118408\n",
      "    34    -7.852647e+00     8.987013e-07\n",
      " * time: 1.7275140285491943\n",
      "    35    -7.852647e+00     7.363875e-07\n",
      " * time: 1.7541038990020752\n",
      "    36    -7.852647e+00     4.224451e-07\n",
      " * time: 1.7805659770965576\n",
      "    37    -7.852647e+00     2.632214e-07\n",
      " * time: 1.8067970275878906\n",
      "    38    -7.852647e+00     1.669341e-07\n",
      " * time: 1.8331530094146729\n",
      "    39    -7.852647e+00     9.560301e-08\n",
      " * time: 1.8592019081115723\n",
      "    40    -7.852647e+00     6.502539e-08\n",
      " * time: 1.8854899406433105\n",
      "    41    -7.852647e+00     4.228624e-08\n",
      " * time: 1.9121079444885254\n",
      "    42    -7.852647e+00     2.352723e-08\n",
      " * time: 1.9386680126190186\n",
      "    43    -7.852647e+00     1.409458e-08\n",
      " * time: 1.9655959606170654\n",
      "    44    -7.852647e+00     6.942561e-09\n",
      " * time: 1.9920930862426758\n",
      "    45    -7.852647e+00     6.942551e-09\n",
      " * time: 2.089197874069214\n"
     ]
    }
   ],
   "cell_type": "code",
   "source": [
    "scfres_dm = direct_minimization(basis; tol);"
   ],
   "metadata": {},
   "execution_count": 4
  },
  {
   "cell_type": "markdown",
   "source": [
    "## Newton algorithm"
   ],
   "metadata": {}
  },
  {
   "cell_type": "markdown",
   "source": [
    "Start not too far from the solution to ensure convergence:\n",
    "We run first a very crude SCF to get close and then switch to Newton."
   ],
   "metadata": {}
  },
  {
   "outputs": [
    {
     "name": "stdout",
     "output_type": "stream",
     "text": [
      "n     Energy            log10(ΔE)   log10(Δρ)   Diag\n",
      "---   ---------------   ---------   ---------   ----\n",
      "  1   -7.846864240493                   -0.70    4.8\n",
      "  2   -7.852322128278       -2.26       -1.53    1.0\n"
     ]
    }
   ],
   "cell_type": "code",
   "source": [
    "scfres_start = self_consistent_field(basis; tol=1e-1);"
   ],
   "metadata": {},
   "execution_count": 5
  },
  {
   "cell_type": "markdown",
   "source": [
    "Remove the virtual orbitals (which Newton cannot treat yet)"
   ],
   "metadata": {}
  },
  {
   "outputs": [
    {
     "name": "stdout",
     "output_type": "stream",
     "text": [
      "n     Energy            log10(ΔE)   log10(Δρ)\n",
      "---   ---------------   ---------   ---------\n",
      "  1   -7.852646686713                   -2.54\n",
      "  2   -7.852646686730      -10.78       -6.04\n",
      "  3   -7.852646686730   +  -14.75      -12.66\n"
     ]
    }
   ],
   "cell_type": "code",
   "source": [
    "ψ = DFTK.select_occupied_orbitals(basis, scfres_start.ψ, scfres_start.occupation).ψ\n",
    "scfres_newton = newton(basis, ψ; tol);"
   ],
   "metadata": {},
   "execution_count": 6
  },
  {
   "cell_type": "markdown",
   "source": [
    "## Comparison of results"
   ],
   "metadata": {}
  },
  {
   "outputs": [
    {
     "name": "stdout",
     "output_type": "stream",
     "text": [
      "|ρ_newton - ρ_scf|  = 1.7664626035878636e-13\n",
      "|ρ_newton - ρ_scfv| = 2.0341119291698525e-13\n",
      "|ρ_newton - ρ_dm|   = 1.0004391886507098e-9\n"
     ]
    }
   ],
   "cell_type": "code",
   "source": [
    "println(\"|ρ_newton - ρ_scf|  = \", norm(scfres_newton.ρ - scfres_scf.ρ))\n",
    "println(\"|ρ_newton - ρ_scfv| = \", norm(scfres_newton.ρ - scfres_scfv.ρ))\n",
    "println(\"|ρ_newton - ρ_dm|   = \", norm(scfres_newton.ρ - scfres_dm.ρ))"
   ],
   "metadata": {},
   "execution_count": 7
  }
 ],
 "nbformat_minor": 3,
 "metadata": {
  "language_info": {
   "file_extension": ".jl",
   "mimetype": "application/julia",
   "name": "julia",
   "version": "1.8.3"
  },
  "kernelspec": {
   "name": "julia-1.8",
   "display_name": "Julia 1.8.3",
   "language": "julia"
  }
 },
 "nbformat": 4
}
