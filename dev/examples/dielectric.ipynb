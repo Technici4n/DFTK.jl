{
 "cells": [
  {
   "cell_type": "markdown",
   "source": [
    "# Eigenvalues of the dielectric matrix\n",
    "\n",
    "We compute a few eigenvalues of the dielectric matrix ($q=0$, $ω=0$) iteratively."
   ],
   "metadata": {}
  },
  {
   "outputs": [
    {
     "name": "stdout",
     "output_type": "stream",
     "text": [
      "n     Energy            log10(ΔE)   log10(Δρ)   Diag   Δtime\n",
      "---   ---------------   ---------   ---------   ----   ------\n",
      "  1   -7.233597356965                   -0.50    7.0         \n",
      "  2   -7.250274499569       -1.78       -1.41    1.0   7.93ms\n",
      "  3   -7.251207970924       -3.03       -2.09    2.0   9.26ms\n",
      "  4   -7.251149707227   +   -4.23       -2.01    2.0   9.43ms\n",
      "  5   -7.251332685432       -3.74       -2.73    1.0   7.65ms\n",
      "  6   -7.251338181919       -5.26       -3.20    1.0   8.05ms\n",
      "  7   -7.251338748543       -6.25       -3.85    1.0   7.68ms\n",
      "  8   -7.251338796852       -7.32       -4.36    2.0   9.45ms\n",
      "  9   -7.251338798472       -8.79       -4.90    2.0   9.37ms\n",
      " 10   -7.251338798680       -9.68       -5.41    2.0   9.33ms\n",
      " 11   -7.251338798701      -10.68       -5.79    2.0   10.5ms\n",
      " 12   -7.251338798704      -11.66       -6.09    2.0   10.0ms\n",
      " 13   -7.251338798704      -12.12       -6.76    1.0   8.70ms\n",
      " 14   -7.251338798705      -13.11       -7.20    3.0   10.7ms\n",
      " 15   -7.251338798705      -14.27       -7.70    2.0   10.7ms\n",
      " 16   -7.251338798705      -14.45       -8.20    2.0   11.1ms\n"
     ]
    }
   ],
   "cell_type": "code",
   "source": [
    "using DFTK\n",
    "using Plots\n",
    "using KrylovKit\n",
    "using Printf\n",
    "\n",
    "# Calculation parameters\n",
    "kgrid = [1, 1, 1]\n",
    "Ecut = 5\n",
    "\n",
    "# Silicon lattice\n",
    "a = 10.26\n",
    "lattice = a / 2 .* [[0 1 1.]; [1 0 1.]; [1 1 0.]]\n",
    "Si = ElementPsp(:Si, psp=load_psp(\"hgh/lda/Si-q4\"))\n",
    "atoms     = [Si, Si]\n",
    "positions = [ones(3)/8, -ones(3)/8]\n",
    "\n",
    "# Compute the dielectric operator without symmetries\n",
    "model  = model_LDA(lattice, atoms, positions, symmetries=false)\n",
    "basis  = PlaneWaveBasis(model; Ecut, kgrid)\n",
    "scfres = self_consistent_field(basis, tol=1e-8);"
   ],
   "metadata": {},
   "execution_count": 1
  },
  {
   "cell_type": "markdown",
   "source": [
    "Applying $ε^† ≔ (1- χ_0 K)$ …"
   ],
   "metadata": {}
  },
  {
   "outputs": [],
   "cell_type": "code",
   "source": [
    "function eps_fun(δρ)\n",
    "    δV = apply_kernel(basis, δρ; ρ=scfres.ρ)\n",
    "    χ0δV = apply_χ0(scfres, δV)\n",
    "    δρ - χ0δV\n",
    "end;"
   ],
   "metadata": {},
   "execution_count": 2
  },
  {
   "cell_type": "markdown",
   "source": [
    "… eagerly diagonalizes the subspace matrix at each iteration"
   ],
   "metadata": {}
  },
  {
   "outputs": [
    {
     "name": "stdout",
     "output_type": "stream",
     "text": [
      "[ Info: Arnoldi iteration step 1: normres = 0.04813339781960447\n",
      "[ Info: Arnoldi iteration step 2: normres = 0.6255780726680251\n",
      "[ Info: Arnoldi iteration step 3: normres = 0.8521583069706491\n",
      "[ Info: Arnoldi iteration step 4: normres = 0.25583663598172224\n",
      "[ Info: Arnoldi iteration step 5: normres = 0.4863776557281307\n",
      "[ Info: Arnoldi schursolve in iter 1, krylovdim = 5: 0 values converged, normres = (2.57e-02, 7.00e-02, 4.23e-01, 2.27e-01, 1.61e-02)\n",
      "[ Info: Arnoldi iteration step 6: normres = 0.3170640271580983\n",
      "[ Info: Arnoldi schursolve in iter 1, krylovdim = 6: 0 values converged, normres = (7.19e-03, 1.95e-01, 2.05e-01, 1.10e-01, 5.37e-02)\n",
      "[ Info: Arnoldi iteration step 7: normres = 0.09958653784347368\n",
      "[ Info: Arnoldi schursolve in iter 1, krylovdim = 7: 0 values converged, normres = (3.56e-04, 2.01e-02, 1.32e-02, 5.81e-02, 7.11e-02)\n",
      "[ Info: Arnoldi iteration step 8: normres = 0.11038553064801612\n",
      "[ Info: Arnoldi schursolve in iter 1, krylovdim = 8: 0 values converged, normres = (1.74e-05, 1.64e-03, 1.20e-03, 2.52e-02, 6.09e-02)\n",
      "[ Info: Arnoldi iteration step 9: normres = 0.06629955796680108\n",
      "[ Info: Arnoldi schursolve in iter 1, krylovdim = 9: 0 values converged, normres = (4.97e-07, 7.71e-05, 6.27e-05, 5.82e-03, 2.59e-02)\n",
      "[ Info: Arnoldi iteration step 10: normres = 0.08178683930036233\n",
      "[ Info: Arnoldi schursolve in iter 1, krylovdim = 10: 0 values converged, normres = (1.74e-08, 4.43e-06, 4.00e-06, 1.49e-03, 1.22e-02)\n",
      "[ Info: Arnoldi iteration step 11: normres = 0.0774808684955003\n",
      "[ Info: Arnoldi schursolve in iter 1, krylovdim = 11: 0 values converged, normres = (5.83e-10, 2.44e-07, 2.44e-07, 3.74e-04, 6.30e-03)\n",
      "[ Info: Arnoldi iteration step 12: normres = 0.09435537618535597\n",
      "[ Info: Arnoldi schursolve in iter 1, krylovdim = 12: 0 values converged, normres = (2.37e-11, 1.63e-08, 1.81e-08, 1.13e-04, 4.11e-03)\n",
      "[ Info: Arnoldi iteration step 13: normres = 0.08075220962202337\n",
      "[ Info: Arnoldi schursolve in iter 1, krylovdim = 13: 1 values converged, normres = (8.20e-13, 9.22e-10, 1.14e-09, 2.91e-05, 2.46e-03)\n",
      "[ Info: Arnoldi iteration step 14: normres = 0.5037575247929799\n",
      "[ Info: Arnoldi schursolve in iter 1, krylovdim = 14: 1 values converged, normres = (3.30e-13, 1.36e-09, 2.83e-09, 5.01e-01, 9.34e-03)\n",
      "[ Info: Arnoldi iteration step 15: normres = 0.05696718974167309\n",
      "[ Info: Arnoldi schursolve in iter 1, krylovdim = 15: 1 values converged, normres = (9.24e-15, 1.26e-10, 2.21e-02, 1.62e-03, 1.60e-06)\n",
      "[ Info: Arnoldi iteration step 16: normres = 0.5641409943762254\n",
      "[ Info: Arnoldi schursolve in iter 1, krylovdim = 16: 1 values converged, normres = (4.51e-15, 2.91e-10, 1.00e-01, 1.94e-02, 5.54e-01)\n",
      "[ Info: Arnoldi iteration step 17: normres = 0.03271087792267517\n",
      "[ Info: Arnoldi schursolve in iter 1, krylovdim = 17: 1 values converged, normres = (7.81e-17, 4.85e-09, 1.33e-02, 1.42e-03, 1.62e-03)\n",
      "[ Info: Arnoldi iteration step 18: normres = 0.02263276753709991\n",
      "[ Info: Arnoldi schursolve in iter 1, krylovdim = 18: 1 values converged, normres = (7.32e-19, 1.94e-08, 2.00e-04, 3.30e-05, 1.47e-05)\n",
      "[ Info: Arnoldi iteration step 19: normres = 0.1436834125326913\n",
      "[ Info: Arnoldi schursolve in iter 1, krylovdim = 19: 1 values converged, normres = (4.46e-20, 1.78e-05, 8.58e-06, 5.41e-08, 3.95e-06)\n",
      "[ Info: Arnoldi iteration step 20: normres = 0.09793694545989054\n",
      "[ Info: Arnoldi schursolve in iter 1, krylovdim = 20: 1 values converged, normres = (2.10e-21, 1.06e-08, 1.67e-06, 3.44e-07, 1.61e-07)\n",
      "[ Info: Arnoldi iteration step 21: normres = 0.02179383060683937\n",
      "[ Info: Arnoldi schursolve in iter 1, krylovdim = 21: 1 values converged, normres = (1.92e-23, 5.10e-09, 2.40e-08, 4.66e-09, 4.05e-09)\n",
      "[ Info: Arnoldi iteration step 22: normres = 0.19148193603629252\n",
      "[ Info: Arnoldi schursolve in iter 1, krylovdim = 22: 1 values converged, normres = (1.52e-24, 7.43e-10, 3.02e-09, 5.99e-10, 6.20e-10)\n",
      "[ Info: Arnoldi iteration step 23: normres = 0.10014145203315396\n",
      "[ Info: Arnoldi schursolve in iter 1, krylovdim = 23: 1 values converged, normres = (1.44e-25, 4.68e-10, 2.07e-09, 1.15e-08, 9.56e-09)\n",
      "[ Info: Arnoldi iteration step 24: normres = 0.016353023372882726\n",
      "[ Info: Arnoldi schursolve in iter 1, krylovdim = 24: 1 values converged, normres = (9.65e-28, 5.55e-12, 2.28e-11, 1.09e-08, 6.33e-09)\n",
      "[ Info: Arnoldi iteration step 25: normres = 0.0413756462191049\n",
      "[ Info: Arnoldi schursolve in iter 1, krylovdim = 25: 3 values converged, normres = (1.64e-29, 1.50e-13, 6.16e-13, 2.80e-05, 3.91e-06)\n",
      "[ Info: Arnoldi iteration step 26: normres = 0.07589740168359337\n",
      "[ Info: Arnoldi schursolve in iter 1, krylovdim = 26: 3 values converged, normres = (5.58e-31, 8.62e-15, 3.53e-14, 8.42e-09, 7.05e-09)\n",
      "[ Info: Arnoldi iteration step 27: normres = 0.046379887373938215\n",
      "[ Info: Arnoldi schursolve in iter 1, krylovdim = 27: 3 values converged, normres = (1.08e-32, 2.68e-16, 1.10e-15, 9.76e-09, 4.92e-09)\n",
      "[ Info: Arnoldi iteration step 28: normres = 0.06963182128836444\n",
      "[ Info: Arnoldi schursolve in iter 1, krylovdim = 28: 3 values converged, normres = (3.32e-34, 1.38e-17, 5.64e-17, 1.78e-09, 2.82e-09)\n",
      "[ Info: Arnoldi iteration step 29: normres = 0.015401086109992846\n",
      "[ Info: Arnoldi schursolve in iter 1, krylovdim = 29: 3 values converged, normres = (2.11e-36, 1.40e-19, 5.75e-19, 2.00e-11, 3.31e-11)\n",
      "[ Info: Arnoldi iteration step 30: normres = 0.21667574580460092\n",
      "[ Info: Arnoldi schursolve in iter 1, krylovdim = 30: 3 values converged, normres = (2.01e-37, 2.22e-20, 9.09e-20, 3.52e-12, 5.82e-12)\n",
      "[ Info: Arnoldi schursolve in iter 2, krylovdim = 19: 3 values converged, normres = (2.01e-37, 2.22e-20, 9.09e-20, 3.52e-12, 5.82e-12)\n",
      "[ Info: Arnoldi iteration step 20: normres = 0.06337155166223488\n",
      "┌ Info: Arnoldi eigsolve finished after 2 iterations:\n",
      "│ *  6 eigenvalues converged\n",
      "│ *  norm of residuals = (6.027857036570833e-39, 1.1617852021350766e-21, 4.871019045601506e-21, 2.091180854607467e-13, 3.774726271993525e-13, 2.9592016545199835e-13)\n",
      "└ *  number of operations = 31\n"
     ]
    }
   ],
   "cell_type": "code",
   "source": [
    "eigsolve(eps_fun, randn(size(scfres.ρ)), 5, :LM; eager=true, verbosity=3);"
   ],
   "metadata": {},
   "execution_count": 3
  }
 ],
 "nbformat_minor": 3,
 "metadata": {
  "language_info": {
   "file_extension": ".jl",
   "mimetype": "application/julia",
   "name": "julia",
   "version": "1.9.2"
  },
  "kernelspec": {
   "name": "julia-1.9",
   "display_name": "Julia 1.9.2",
   "language": "julia"
  }
 },
 "nbformat": 4
}
