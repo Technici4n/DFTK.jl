{
 "cells": [
  {
   "cell_type": "markdown",
   "source": [
    "# Eigenvalues of the dielectric matrix\n",
    "\n",
    "We compute a few eigenvalues of the dielectric matrix ($q=0$, $ω=0$) iteratively."
   ],
   "metadata": {}
  },
  {
   "outputs": [
    {
     "name": "stdout",
     "output_type": "stream",
     "text": [
      "n     Energy            log10(ΔE)   log10(Δρ)   Diag\n",
      "---   ---------------   ---------   ---------   ----\n",
      "  1   -7.231368522719                   -0.50    6.0\n",
      "  2   -7.248371517894       -1.77       -1.37    1.0\n",
      "  3   -7.251264866683       -2.54       -1.69    4.0\n",
      "  4   -7.251325478436       -4.22       -2.17    2.0\n",
      "  5   -7.251309600118   +   -4.80       -2.30    3.0\n",
      "  6   -7.251337994053       -4.55       -3.20    2.0\n",
      "  7   -7.251338582339       -6.23       -3.46    2.0\n",
      "  8   -7.251338787298       -6.69       -4.08    1.0\n",
      "  9   -7.251338797974       -7.97       -4.62    3.0\n",
      " 10   -7.251338798685       -9.15       -5.32    2.0\n",
      " 11   -7.251338798701      -10.78       -5.74    3.0\n",
      " 12   -7.251338798704      -11.56       -6.19    3.0\n",
      " 13   -7.251338798705      -12.36       -6.86    2.0\n",
      " 14   -7.251338798705      -14.05       -7.29    4.0\n"
     ]
    }
   ],
   "cell_type": "code",
   "source": [
    "using DFTK\n",
    "using Plots\n",
    "using KrylovKit\n",
    "using Printf\n",
    "\n",
    "# Calculation parameters\n",
    "kgrid = [1, 1, 1]\n",
    "Ecut = 5\n",
    "\n",
    "# Silicon lattice\n",
    "a = 10.26\n",
    "lattice = a / 2 .* [[0 1 1.]; [1 0 1.]; [1 1 0.]]\n",
    "Si = ElementPsp(:Si, psp=load_psp(\"hgh/lda/Si-q4\"))\n",
    "atoms     = [Si, Si]\n",
    "positions = [ones(3)/8, -ones(3)/8]\n",
    "\n",
    "# Compute the dielectric operator without symmetries\n",
    "model = model_LDA(lattice, atoms, positions, symmetries=false)\n",
    "basis = PlaneWaveBasis(model; Ecut, kgrid)\n",
    "scfres = self_consistent_field(basis, tol=1e-14);"
   ],
   "metadata": {},
   "execution_count": 1
  },
  {
   "cell_type": "markdown",
   "source": [
    "Applying $ε^† ≔ (1- χ_0 K)$ …"
   ],
   "metadata": {}
  },
  {
   "outputs": [],
   "cell_type": "code",
   "source": [
    "function eps_fun(δρ)\n",
    "    δV = apply_kernel(basis, δρ; ρ=scfres.ρ)\n",
    "    χ0δV = apply_χ0(scfres, δV)\n",
    "    δρ - χ0δV\n",
    "end;"
   ],
   "metadata": {},
   "execution_count": 2
  },
  {
   "cell_type": "markdown",
   "source": [
    "… eagerly diagonalizes the subspace matrix at each iteration"
   ],
   "metadata": {}
  },
  {
   "outputs": [
    {
     "name": "stdout",
     "output_type": "stream",
     "text": [
      "[ Info: Arnoldi iteration step 1: normres = 0.06213067222349857\n",
      "[ Info: Arnoldi iteration step 2: normres = 0.4970482253117415\n",
      "[ Info: Arnoldi iteration step 3: normres = 0.9353754765404411\n",
      "[ Info: Arnoldi iteration step 4: normres = 0.322403993923846\n",
      "[ Info: Arnoldi iteration step 5: normres = 0.4931253638064548\n",
      "[ Info: Arnoldi schursolve in iter 1, krylovdim = 5: 0 values converged, normres = (5.64e-02, 7.13e-02, 4.06e-01, 2.65e-01, 1.46e-03)\n",
      "[ Info: Arnoldi iteration step 6: normres = 0.3183754116886251\n",
      "[ Info: Arnoldi schursolve in iter 1, krylovdim = 6: 0 values converged, normres = (1.48e-02, 1.12e-01, 2.46e-01, 9.98e-02, 1.11e-01)\n",
      "[ Info: Arnoldi iteration step 7: normres = 0.07743834206109726\n",
      "[ Info: Arnoldi schursolve in iter 1, krylovdim = 7: 0 values converged, normres = (5.55e-04, 9.08e-03, 1.61e-02, 3.88e-02, 5.79e-02)\n",
      "[ Info: Arnoldi iteration step 8: normres = 0.11468282245112647\n",
      "[ Info: Arnoldi schursolve in iter 1, krylovdim = 8: 0 values converged, normres = (2.79e-05, 7.64e-04, 1.50e-03, 1.64e-02, 4.82e-02)\n",
      "[ Info: Arnoldi iteration step 9: normres = 0.072733704283918\n",
      "[ Info: Arnoldi schursolve in iter 1, krylovdim = 9: 0 values converged, normres = (8.75e-07, 3.94e-05, 8.58e-05, 4.12e-03, 2.60e-02)\n",
      "[ Info: Arnoldi iteration step 10: normres = 0.08379628002799934\n",
      "[ Info: Arnoldi schursolve in iter 1, krylovdim = 10: 0 values converged, normres = (3.19e-08, 2.38e-06, 5.76e-06, 1.20e-03, 1.67e-02)\n",
      "[ Info: Arnoldi iteration step 11: normres = 0.06782289016233575\n",
      "[ Info: Arnoldi schursolve in iter 1, krylovdim = 11: 0 values converged, normres = (9.35e-10, 1.14e-07, 3.08e-07, 2.70e-04, 8.33e-03)\n",
      "[ Info: Arnoldi iteration step 12: normres = 0.07891889892398384\n",
      "[ Info: Arnoldi schursolve in iter 1, krylovdim = 12: 0 values converged, normres = (3.14e-11, 6.27e-09, 1.87e-08, 6.24e-05, 3.67e-03)\n",
      "[ Info: Arnoldi iteration step 13: normres = 0.09708828949883949\n",
      "[ Info: Arnoldi schursolve in iter 1, krylovdim = 13: 0 values converged, normres = (1.30e-12, 4.21e-10, 1.39e-09, 1.77e-05, 1.98e-03)\n",
      "[ Info: Arnoldi iteration step 14: normres = 0.45782869098274925\n",
      "[ Info: Arnoldi schursolve in iter 1, krylovdim = 14: 1 values converged, normres = (5.05e-13, 7.20e-10, 4.97e-09, 4.56e-01, 5.14e-03)\n",
      "[ Info: Arnoldi iteration step 15: normres = 0.1707352205618126\n",
      "[ Info: Arnoldi schursolve in iter 1, krylovdim = 15: 1 values converged, normres = (4.12e-14, 2.00e-10, 5.89e-02, 1.07e-03, 8.00e-06)\n",
      "[ Info: Arnoldi iteration step 16: normres = 0.24719233126227388\n",
      "[ Info: Arnoldi schursolve in iter 1, krylovdim = 16: 1 values converged, normres = (1.04e-14, 1.54e-09, 1.94e-01, 1.06e-02, 1.50e-01)\n",
      "[ Info: Arnoldi iteration step 17: normres = 0.030836784501669136\n",
      "[ Info: Arnoldi schursolve in iter 1, krylovdim = 17: 1 values converged, normres = (1.39e-16, 4.61e-09, 4.49e-03, 2.61e-04, 2.63e-03)\n",
      "[ Info: Arnoldi iteration step 18: normres = 0.019322086916041217\n",
      "[ Info: Arnoldi schursolve in iter 1, krylovdim = 18: 1 values converged, normres = (1.10e-18, 6.99e-09, 5.68e-05, 3.66e-05, 3.71e-06)\n",
      "[ Info: Arnoldi iteration step 19: normres = 0.16932678530555012\n",
      "[ Info: Arnoldi schursolve in iter 1, krylovdim = 19: 1 values converged, normres = (7.87e-20, 4.78e-06, 4.52e-06, 5.31e-08, 4.70e-06)\n",
      "[ Info: Arnoldi iteration step 20: normres = 0.07187475688318175\n",
      "[ Info: Arnoldi schursolve in iter 1, krylovdim = 20: 1 values converged, normres = (2.74e-21, 5.75e-09, 4.11e-07, 1.75e-07, 2.86e-07)\n",
      "[ Info: Arnoldi iteration step 21: normres = 0.024880406925649565\n",
      "[ Info: Arnoldi schursolve in iter 1, krylovdim = 21: 1 values converged, normres = (2.86e-23, 2.42e-09, 6.50e-09, 5.66e-09, 2.65e-09)\n",
      "[ Info: Arnoldi iteration step 22: normres = 0.2530229964847693\n",
      "[ Info: Arnoldi schursolve in iter 1, krylovdim = 22: 1 values converged, normres = (3.03e-24, 3.40e-10, 1.14e-09, 1.16e-09, 2.13e-10)\n",
      "[ Info: Arnoldi iteration step 23: normres = 0.08110320833779873\n",
      "[ Info: Arnoldi schursolve in iter 1, krylovdim = 23: 1 values converged, normres = (2.30e-25, 1.85e-10, 6.18e-10, 1.60e-08, 6.91e-09)\n",
      "[ Info: Arnoldi iteration step 24: normres = 0.014507327283561376\n",
      "[ Info: Arnoldi schursolve in iter 1, krylovdim = 24: 1 values converged, normres = (1.37e-27, 1.82e-12, 6.05e-12, 1.05e-08, 3.99e-09)\n",
      "[ Info: Arnoldi iteration step 25: normres = 0.0765508690376193\n",
      "[ Info: Arnoldi schursolve in iter 1, krylovdim = 25: 3 values converged, normres = (4.35e-29, 9.24e-14, 3.07e-13, 3.70e-05, 2.63e-05)\n",
      "[ Info: Arnoldi iteration step 26: normres = 0.04156948081622261\n",
      "[ Info: Arnoldi schursolve in iter 1, krylovdim = 26: 3 values converged, normres = (8.14e-31, 2.93e-15, 9.72e-15, 3.88e-08, 1.67e-07)\n",
      "[ Info: Arnoldi iteration step 27: normres = 0.025055333359340445\n",
      "[ Info: Arnoldi schursolve in iter 1, krylovdim = 27: 3 values converged, normres = (8.38e-33, 4.80e-17, 1.60e-16, 1.01e-08, 2.47e-08)\n",
      "[ Info: Arnoldi iteration step 28: normres = 0.10354944287180555\n",
      "[ Info: Arnoldi schursolve in iter 1, krylovdim = 28: 3 values converged, normres = (3.77e-34, 3.57e-18, 1.18e-17, 2.14e-09, 1.19e-09)\n",
      "[ Info: Arnoldi iteration step 29: normres = 0.12720916125902867\n",
      "[ Info: Arnoldi schursolve in iter 1, krylovdim = 29: 3 values converged, normres = (2.08e-35, 3.24e-19, 1.08e-18, 2.17e-10, 1.18e-10)\n",
      "[ Info: Arnoldi iteration step 30: normres = 0.04977595923968856\n",
      "[ Info: Arnoldi schursolve in iter 1, krylovdim = 30: 3 values converged, normres = (5.20e-37, 1.41e-20, 4.69e-20, 1.08e-11, 5.91e-12)\n",
      "[ Info: Arnoldi schursolve in iter 2, krylovdim = 19: 3 values converged, normres = (5.25e-37, 1.41e-20, 4.69e-20, 1.08e-11, 5.91e-12)\n",
      "[ Info: Arnoldi iteration step 20: normres = 0.041335428311220876\n",
      "┌ Info: Arnoldi eigsolve finished after 2 iterations:\n",
      "│ *  6 eigenvalues converged\n",
      "│ *  norm of residuals = (8.861150249411787e-39, 3.845177821531741e-22, 1.3002896067568817e-21, 3.2249500412788297e-13, 1.8349198640674776e-13, 1.350348593923798e-13)\n",
      "└ *  number of operations = 31\n"
     ]
    }
   ],
   "cell_type": "code",
   "source": [
    "eigsolve(eps_fun, randn(size(scfres.ρ)), 5, :LM; eager=true, verbosity=3);"
   ],
   "metadata": {},
   "execution_count": 3
  }
 ],
 "nbformat_minor": 3,
 "metadata": {
  "language_info": {
   "file_extension": ".jl",
   "mimetype": "application/julia",
   "name": "julia",
   "version": "1.8.2"
  },
  "kernelspec": {
   "name": "julia-1.8",
   "display_name": "Julia 1.8.2",
   "language": "julia"
  }
 },
 "nbformat": 4
}
