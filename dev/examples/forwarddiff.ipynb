{
 "cells": [
  {
   "cell_type": "markdown",
   "source": [
    "# Polarizability using automatic differentiation\n",
    "\n",
    "Simple example for computing properties using (forward-mode)\n",
    "automatic differentiation.\n",
    "For a more classical approach and more details about computing polarizabilities,\n",
    "see Polarizability by linear response."
   ],
   "metadata": {}
  },
  {
   "outputs": [],
   "cell_type": "code",
   "source": [
    "using DFTK\n",
    "using LinearAlgebra\n",
    "using ForwardDiff\n",
    "\n",
    "# Construct PlaneWaveBasis given a particular electric field strength\n",
    "# Again we take the example of a Helium atom.\n",
    "function make_basis(ε::T; a=10., Ecut=30) where {T}\n",
    "    lattice=T(a) * I(3)  # lattice is a cube of $a$ Bohrs\n",
    "    # Helium at the center of the box\n",
    "    atoms     = [ElementPsp(:He, psp=load_psp(\"hgh/lda/He-q2\"))]\n",
    "    positions = [[1/2, 1/2, 1/2]]\n",
    "\n",
    "    model = model_DFT(lattice, atoms, positions, [:lda_x, :lda_c_vwn];\n",
    "                      extra_terms=[ExternalFromReal(r -> -ε * (r[1] - a/2))],\n",
    "                      symmetries=false)\n",
    "    PlaneWaveBasis(model; Ecut, kgrid=[1, 1, 1])  # No k-point sampling on isolated system\n",
    "end\n",
    "\n",
    "# dipole moment of a given density (assuming the current geometry)\n",
    "function dipole(basis, ρ)\n",
    "    @assert isdiag(basis.model.lattice)\n",
    "    a  = basis.model.lattice[1, 1]\n",
    "    rr = [a * (r[1] - 1/2) for r in r_vectors(basis)]\n",
    "    sum(rr .* ρ) * basis.dvol\n",
    "end\n",
    "\n",
    "# Function to compute the dipole for a given field strength\n",
    "function compute_dipole(ε; tol=1e-8, kwargs...)\n",
    "    scfres = self_consistent_field(make_basis(ε; kwargs...); tol)\n",
    "    dipole(scfres.basis, scfres.ρ)\n",
    "end;"
   ],
   "metadata": {},
   "execution_count": 1
  },
  {
   "cell_type": "markdown",
   "source": [
    "With this in place we can compute the polarizability from finite differences\n",
    "(just like in the previous example):"
   ],
   "metadata": {}
  },
  {
   "outputs": [
    {
     "name": "stdout",
     "output_type": "stream",
     "text": [
      "n     Energy            log10(ΔE)   log10(Δρ)   Diag   Δtime\n",
      "---   ---------------   ---------   ---------   ----   ------\n",
      "  1   -2.770877165944                   -0.52    9.0         \n",
      "  2   -2.772147167416       -2.90       -1.32    1.0    168ms\n",
      "  3   -2.772170373763       -4.63       -2.48    1.0    151ms\n",
      "  4   -2.772170654855       -6.55       -3.19    1.0    153ms\n",
      "  5   -2.772170722088       -7.17       -3.96    2.0    194ms\n",
      "  6   -2.772170722415       -9.49       -4.08    1.0    156ms\n",
      "  7   -2.772170722991       -9.24       -4.88    1.0    164ms\n",
      "  8   -2.772170723010      -10.73       -5.17    1.0    162ms\n",
      "  9   -2.772170723014      -11.34       -5.66    1.0    170ms\n",
      " 10   -2.772170723015      -12.09       -6.10    2.0    196ms\n",
      " 11   -2.772170723015      -13.11       -6.54    1.0    191ms\n",
      " 12   -2.772170723015      -15.35       -7.00    1.0    166ms\n",
      " 13   -2.772170723015      -13.82       -7.48    2.0    205ms\n",
      " 14   -2.772170723015   +  -14.18       -7.84    1.0    169ms\n",
      " 15   -2.772170723015      -15.35       -8.99    1.0    192ms\n",
      "n     Energy            log10(ΔE)   log10(Δρ)   Diag   Δtime\n",
      "---   ---------------   ---------   ---------   ----   ------\n",
      "  1   -2.770796872823                   -0.53    9.0         \n",
      "  2   -2.772057470743       -2.90       -1.29    1.0    175ms\n",
      "  3   -2.772082677703       -4.60       -2.70    1.0    152ms\n",
      "  4   -2.772083413604       -6.13       -3.80    2.0    214ms\n",
      "  5   -2.772083417406       -8.42       -4.28    2.0    175ms\n",
      "  6   -2.772083417801       -9.40       -5.03    1.0    179ms\n",
      "  7   -2.772083417810      -11.06       -5.96    1.0    159ms\n",
      "  8   -2.772083417811      -12.19       -6.22    2.0    191ms\n",
      "  9   -2.772083417811      -13.55       -6.82    1.0    174ms\n",
      " 10   -2.772083417811      -15.05       -7.14    1.0    187ms\n",
      " 11   -2.772083417811   +    -Inf       -7.80    2.0    187ms\n",
      " 12   -2.772083417811      -14.27       -8.26    1.0    189ms\n"
     ]
    },
    {
     "output_type": "execute_result",
     "data": {
      "text/plain": "1.77355804500281"
     },
     "metadata": {},
     "execution_count": 2
    }
   ],
   "cell_type": "code",
   "source": [
    "polarizability_fd = let\n",
    "    ε = 0.01\n",
    "    (compute_dipole(ε) - compute_dipole(0.0)) / ε\n",
    "end"
   ],
   "metadata": {},
   "execution_count": 2
  },
  {
   "cell_type": "markdown",
   "source": [
    "We do the same thing using automatic differentiation. Under the hood this uses\n",
    "custom rules to implicitly differentiate through the self-consistent\n",
    "field fixed-point problem."
   ],
   "metadata": {}
  },
  {
   "outputs": [
    {
     "name": "stdout",
     "output_type": "stream",
     "text": [
      "n     Energy            log10(ΔE)   log10(Δρ)   Diag   Δtime\n",
      "---   ---------------   ---------   ---------   ----   ------\n",
      "  1   -2.770441989222                   -0.53    8.0         \n",
      "  2   -2.772046719761       -2.79       -1.29    1.0    203ms\n",
      "  3   -2.772082163233       -4.45       -2.71    1.0    153ms\n",
      "  4   -2.772083413432       -5.90       -3.83    2.0    227ms\n",
      "  5   -2.772083417542       -8.39       -4.32    2.0    177ms\n",
      "  6   -2.772083417804       -9.58       -5.69    1.0    181ms\n",
      "  7   -2.772083417810      -11.18       -5.89    2.0    181ms\n",
      "  8   -2.772083417811      -12.73       -6.69    1.0    175ms\n",
      "  9   -2.772083417811   +  -14.27       -7.39    2.0    195ms\n",
      " 10   -2.772083417811      -14.10       -7.79    1.0    184ms\n",
      " 11   -2.772083417811      -14.88       -8.66    1.0    168ms\n",
      "\n",
      "Polarizability via ForwardDiff:       1.7725349768872494\n",
      "Polarizability via finite difference: 1.77355804500281\n"
     ]
    }
   ],
   "cell_type": "code",
   "source": [
    "polarizability = ForwardDiff.derivative(compute_dipole, 0.0)\n",
    "println()\n",
    "println(\"Polarizability via ForwardDiff:       $polarizability\")\n",
    "println(\"Polarizability via finite difference: $polarizability_fd\")"
   ],
   "metadata": {},
   "execution_count": 3
  }
 ],
 "nbformat_minor": 3,
 "metadata": {
  "language_info": {
   "file_extension": ".jl",
   "mimetype": "application/julia",
   "name": "julia",
   "version": "1.9.0"
  },
  "kernelspec": {
   "name": "julia-1.9",
   "display_name": "Julia 1.9.0",
   "language": "julia"
  }
 },
 "nbformat": 4
}
