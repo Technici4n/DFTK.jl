{
 "cells": [
  {
   "cell_type": "markdown",
   "source": [
    "# Comparison of DFT solvers"
   ],
   "metadata": {}
  },
  {
   "cell_type": "markdown",
   "source": [
    "We compare four different approaches for solving the DFT minimisation problem,\n",
    "namely a density-based SCF, a potential-based SCF, direct minimisation and Newton."
   ],
   "metadata": {}
  },
  {
   "cell_type": "markdown",
   "source": [
    "First we setup our problem"
   ],
   "metadata": {}
  },
  {
   "outputs": [
    {
     "output_type": "execute_result",
     "data": {
      "text/plain": "1.0e-6"
     },
     "metadata": {},
     "execution_count": 1
    }
   ],
   "cell_type": "code",
   "source": [
    "using DFTK\n",
    "using LinearAlgebra\n",
    "\n",
    "a = 10.26  # Silicon lattice constant in Bohr\n",
    "lattice = a / 2 * [[0 1 1.];\n",
    "                   [1 0 1.];\n",
    "                   [1 1 0.]]\n",
    "Si = ElementPsp(:Si, psp=load_psp(\"hgh/lda/Si-q4\"))\n",
    "atoms     = [Si, Si]\n",
    "positions = [ones(3)/8, -ones(3)/8]\n",
    "\n",
    "model = model_LDA(lattice, atoms, positions)\n",
    "basis = PlaneWaveBasis(model; Ecut=5, kgrid=[3, 3, 3])\n",
    "\n",
    "# Convergence we desire in the density\n",
    "tol = 1e-6"
   ],
   "metadata": {},
   "execution_count": 1
  },
  {
   "cell_type": "markdown",
   "source": [
    "## Density-based self-consistent field"
   ],
   "metadata": {}
  },
  {
   "outputs": [
    {
     "name": "stdout",
     "output_type": "stream",
     "text": [
      "n     Energy            log10(ΔE)   log10(Δρ)   Diag   Δtime\n",
      "---   ---------------   ---------   ---------   ----   ------\n",
      "  1   -7.846886256549                   -0.70    4.8         \n",
      "  2   -7.852327455520       -2.26       -1.53    1.0   22.3ms\n",
      "  3   -7.852614617935       -3.54       -2.56    1.2   24.1ms\n",
      "  4   -7.852645956845       -4.50       -2.88    2.2   30.3ms\n",
      "  5   -7.852646489466       -6.27       -3.16    1.2   24.3ms\n",
      "  6   -7.852646679558       -6.72       -4.05    1.0   22.7ms\n",
      "  7   -7.852646686385       -8.17       -5.16    1.8   27.6ms\n",
      "  8   -7.852646686721       -9.47       -5.39    2.0   29.6ms\n",
      "  9   -7.852646686729      -11.09       -6.10    1.0   24.0ms\n"
     ]
    }
   ],
   "cell_type": "code",
   "source": [
    "scfres_scf = self_consistent_field(basis; tol);"
   ],
   "metadata": {},
   "execution_count": 2
  },
  {
   "cell_type": "markdown",
   "source": [
    "## Potential-based SCF"
   ],
   "metadata": {}
  },
  {
   "outputs": [
    {
     "name": "stdout",
     "output_type": "stream",
     "text": [
      "n     Energy            log10(ΔE)   log10(Δρ)   α      Diag   Δtime\n",
      "---   ---------------   ---------   ---------   ----   ----   ------\n",
      "  1   -7.846829612697                   -0.70           4.5         \n",
      "  2   -7.852551275026       -2.24       -1.64   0.80    2.2    258ms\n",
      "  3   -7.852638106373       -4.06       -2.75   0.80    1.0   21.1ms\n",
      "  4   -7.852646520857       -5.07       -3.31   0.80    2.0   27.5ms\n",
      "  5   -7.852646670046       -6.83       -4.19   0.80    1.2   23.0ms\n",
      "  6   -7.852646686386       -7.79       -4.75   0.80    2.0   27.0ms\n",
      "  7   -7.852646686720       -9.48       -5.52   0.80    1.8   25.0ms\n",
      "  8   -7.852646686729      -11.01       -6.70   0.80    2.0   27.1ms\n"
     ]
    }
   ],
   "cell_type": "code",
   "source": [
    "scfres_scfv = DFTK.scf_potential_mixing(basis; tol);"
   ],
   "metadata": {},
   "execution_count": 3
  },
  {
   "cell_type": "markdown",
   "source": [
    "## Direct minimization\n",
    "Note: Unlike the other algorithms, tolerance for this one is in the energy,\n",
    "thus we square the density tolerance value to be roughly equivalent."
   ],
   "metadata": {}
  },
  {
   "outputs": [
    {
     "name": "stdout",
     "output_type": "stream",
     "text": [
      "Iter     Function value   Gradient norm \n",
      "     0     1.441700e+01     3.547406e+00\n",
      " * time: 0.058435916900634766\n",
      "     1     1.143795e+00     1.736075e+00\n",
      " * time: 0.27963709831237793\n",
      "     2    -1.728728e+00     2.032573e+00\n",
      " * time: 0.3028559684753418\n",
      "     3    -3.863084e+00     1.934241e+00\n",
      " * time: 0.3361549377441406\n",
      "     4    -5.366733e+00     1.620328e+00\n",
      " * time: 0.3690929412841797\n",
      "     5    -6.880865e+00     8.697902e-01\n",
      " * time: 0.4021189212799072\n",
      "     6    -6.931228e+00     1.750026e+00\n",
      " * time: 0.42505693435668945\n",
      "     7    -7.369747e+00     1.453064e+00\n",
      " * time: 0.4477660655975342\n",
      "     8    -7.606925e+00     7.165111e-01\n",
      " * time: 0.4809730052947998\n",
      "     9    -7.730732e+00     2.245087e-01\n",
      " * time: 0.5138969421386719\n",
      "    10    -7.773533e+00     9.825509e-02\n",
      " * time: 0.5369319915771484\n",
      "    11    -7.801138e+00     1.239597e-01\n",
      " * time: 0.5601930618286133\n",
      "    12    -7.826568e+00     1.384280e-01\n",
      " * time: 0.6403560638427734\n",
      "    13    -7.841151e+00     5.907131e-02\n",
      " * time: 0.6633501052856445\n",
      "    14    -7.847027e+00     4.947180e-02\n",
      " * time: 0.6864380836486816\n",
      "    15    -7.849783e+00     4.647430e-02\n",
      " * time: 0.7095539569854736\n",
      "    16    -7.851313e+00     2.290599e-02\n",
      " * time: 0.7326359748840332\n",
      "    17    -7.852073e+00     1.341646e-02\n",
      " * time: 0.7557170391082764\n",
      "    18    -7.852413e+00     1.255160e-02\n",
      " * time: 0.7786800861358643\n",
      "    19    -7.852562e+00     4.869594e-03\n",
      " * time: 0.8012831211090088\n",
      "    20    -7.852620e+00     2.242853e-03\n",
      " * time: 0.8241150379180908\n",
      "    21    -7.852638e+00     2.222015e-03\n",
      " * time: 0.8470249176025391\n",
      "    22    -7.852644e+00     8.704344e-04\n",
      " * time: 0.8698389530181885\n",
      "    23    -7.852646e+00     6.143404e-04\n",
      " * time: 0.893247127532959\n",
      "    24    -7.852646e+00     3.351924e-04\n",
      " * time: 0.9160671234130859\n",
      "    25    -7.852647e+00     1.460038e-04\n",
      " * time: 0.9386670589447021\n",
      "    26    -7.852647e+00     1.308047e-04\n",
      " * time: 0.9617700576782227\n",
      "    27    -7.852647e+00     8.620619e-05\n",
      " * time: 0.9846761226654053\n",
      "    28    -7.852647e+00     6.081161e-05\n",
      " * time: 1.0075600147247314\n",
      "    29    -7.852647e+00     2.669673e-05\n",
      " * time: 1.0307319164276123\n",
      "    30    -7.852647e+00     1.286875e-05\n",
      " * time: 1.0538220405578613\n",
      "    31    -7.852647e+00     7.407394e-06\n",
      " * time: 1.0770330429077148\n",
      "    32    -7.852647e+00     4.672561e-06\n",
      " * time: 1.0999560356140137\n",
      "    33    -7.852647e+00     2.662882e-06\n",
      " * time: 1.123279094696045\n",
      "    34    -7.852647e+00     1.622382e-06\n",
      " * time: 1.146347999572754\n",
      "    35    -7.852647e+00     6.956651e-07\n",
      " * time: 1.1692230701446533\n",
      "    36    -7.852647e+00     4.090844e-07\n",
      " * time: 1.1923630237579346\n",
      "    37    -7.852647e+00     3.295992e-07\n",
      " * time: 1.2154409885406494\n",
      "    38    -7.852647e+00     1.532335e-07\n",
      " * time: 1.2389049530029297\n",
      "    39    -7.852647e+00     8.097257e-08\n",
      " * time: 1.262087106704712\n",
      "    40    -7.852647e+00     4.027116e-08\n",
      " * time: 1.285531997680664\n",
      "    41    -7.852647e+00     2.270759e-08\n",
      " * time: 1.308840036392212\n",
      "    42    -7.852647e+00     1.548518e-08\n",
      " * time: 1.3318300247192383\n",
      "    43    -7.852647e+00     1.168958e-08\n",
      " * time: 1.3549220561981201\n",
      "    44    -7.852647e+00     1.164525e-08\n",
      " * time: 1.408466100692749\n"
     ]
    }
   ],
   "cell_type": "code",
   "source": [
    "scfres_dm = direct_minimization(basis; tol=tol^2);"
   ],
   "metadata": {},
   "execution_count": 4
  },
  {
   "cell_type": "markdown",
   "source": [
    "## Newton algorithm"
   ],
   "metadata": {}
  },
  {
   "cell_type": "markdown",
   "source": [
    "Start not too far from the solution to ensure convergence:\n",
    "We run first a very crude SCF to get close and then switch to Newton."
   ],
   "metadata": {}
  },
  {
   "outputs": [
    {
     "name": "stdout",
     "output_type": "stream",
     "text": [
      "n     Energy            log10(ΔE)   log10(Δρ)   Diag   Δtime\n",
      "---   ---------------   ---------   ---------   ----   ------\n",
      "  1   -7.846910556317                   -0.70    4.8         \n"
     ]
    }
   ],
   "cell_type": "code",
   "source": [
    "scfres_start = self_consistent_field(basis; tol=0.5);"
   ],
   "metadata": {},
   "execution_count": 5
  },
  {
   "cell_type": "markdown",
   "source": [
    "Remove the virtual orbitals (which Newton cannot treat yet)"
   ],
   "metadata": {}
  },
  {
   "outputs": [
    {
     "name": "stdout",
     "output_type": "stream",
     "text": [
      "n     Energy            log10(ΔE)   log10(Δρ)   Δtime\n",
      "---   ---------------   ---------   ---------   ------\n",
      "  1   -7.852645940433                   -1.64         \n",
      "  2   -7.852646686730       -6.13       -3.72    1.90s\n",
      "  3   -7.852646686730      -13.34       -7.27    143ms\n"
     ]
    }
   ],
   "cell_type": "code",
   "source": [
    "ψ = DFTK.select_occupied_orbitals(basis, scfres_start.ψ, scfres_start.occupation).ψ\n",
    "scfres_newton = newton(basis, ψ; tol);"
   ],
   "metadata": {},
   "execution_count": 6
  },
  {
   "cell_type": "markdown",
   "source": [
    "## Comparison of results"
   ],
   "metadata": {}
  },
  {
   "outputs": [
    {
     "name": "stdout",
     "output_type": "stream",
     "text": [
      "|ρ_newton - ρ_scf|  = 5.772794884582083e-7\n",
      "|ρ_newton - ρ_scfv| = 2.4271451935977816e-7\n",
      "|ρ_newton - ρ_dm|   = 9.866853200317049e-10\n"
     ]
    }
   ],
   "cell_type": "code",
   "source": [
    "println(\"|ρ_newton - ρ_scf|  = \", norm(scfres_newton.ρ - scfres_scf.ρ))\n",
    "println(\"|ρ_newton - ρ_scfv| = \", norm(scfres_newton.ρ - scfres_scfv.ρ))\n",
    "println(\"|ρ_newton - ρ_dm|   = \", norm(scfres_newton.ρ - scfres_dm.ρ))"
   ],
   "metadata": {},
   "execution_count": 7
  }
 ],
 "nbformat_minor": 3,
 "metadata": {
  "language_info": {
   "file_extension": ".jl",
   "mimetype": "application/julia",
   "name": "julia",
   "version": "1.9.2"
  },
  "kernelspec": {
   "name": "julia-1.9",
   "display_name": "Julia 1.9.2",
   "language": "julia"
  }
 },
 "nbformat": 4
}
