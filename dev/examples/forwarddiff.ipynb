{
 "cells": [
  {
   "cell_type": "markdown",
   "source": [
    "# Polarizability using automatic differentiation\n",
    "\n",
    "Simple example for computing properties using (forward-mode)\n",
    "automatic differentiation.\n",
    "For a more classical approach and more details about computing polarizabilities,\n",
    "see Polarizability by linear response."
   ],
   "metadata": {}
  },
  {
   "outputs": [],
   "cell_type": "code",
   "source": [
    "using DFTK\n",
    "using LinearAlgebra\n",
    "using ForwardDiff\n",
    "\n",
    "# Construct PlaneWaveBasis given a particular electric field strength\n",
    "# Again we take the example of a Helium atom.\n",
    "function make_basis(ε::T; a=10., Ecut=30) where {T}\n",
    "    lattice=T(a) * I(3)  # lattice is a cube of $a$ Bohrs\n",
    "    # Helium at the center of the box\n",
    "    atoms     = [ElementPsp(:He, psp=load_psp(\"hgh/lda/He-q2\"))]\n",
    "    positions = [[1/2, 1/2, 1/2]]\n",
    "\n",
    "    model = model_DFT(lattice, atoms, positions, [:lda_x, :lda_c_vwn];\n",
    "                      extra_terms=[ExternalFromReal(r -> -ε * (r[1] - a/2))],\n",
    "                      symmetries=false)\n",
    "    PlaneWaveBasis(model; Ecut, kgrid=[1, 1, 1])  # No k-point sampling on isolated system\n",
    "end\n",
    "\n",
    "# dipole moment of a given density (assuming the current geometry)\n",
    "function dipole(basis, ρ)\n",
    "    @assert isdiag(basis.model.lattice)\n",
    "    a  = basis.model.lattice[1, 1]\n",
    "    rr = [a * (r[1] - 1/2) for r in r_vectors(basis)]\n",
    "    sum(rr .* ρ) * basis.dvol\n",
    "end\n",
    "\n",
    "# Function to compute the dipole for a given field strength\n",
    "function compute_dipole(ε; tol=1e-8, kwargs...)\n",
    "    scfres = self_consistent_field(make_basis(ε; kwargs...); tol)\n",
    "    dipole(scfres.basis, scfres.ρ)\n",
    "end;"
   ],
   "metadata": {},
   "execution_count": 1
  },
  {
   "cell_type": "markdown",
   "source": [
    "With this in place we can compute the polarizability from finite differences\n",
    "(just like in the previous example):"
   ],
   "metadata": {}
  },
  {
   "outputs": [
    {
     "name": "stdout",
     "output_type": "stream",
     "text": [
      "n     Energy            log10(ΔE)   log10(Δρ)   Diag   Δtime\n",
      "---   ---------------   ---------   ---------   ----   ------\n",
      "  1   -2.770850451265                   -0.53    9.0         \n",
      "  2   -2.772144071933       -2.89       -1.31    1.0    129ms\n",
      "  3   -2.772170279855       -4.58       -2.57    1.0    137ms\n",
      "  4   -2.772170688053       -6.39       -3.65    1.0    163ms\n",
      "  5   -2.772170722199       -7.47       -4.07    2.0    152ms\n",
      "  6   -2.772170722989       -9.10       -5.47    1.0    158ms\n",
      "  7   -2.772170723013      -10.62       -5.39    3.0    172ms\n",
      "  8   -2.772170723015      -11.73       -6.25    1.0    141ms\n",
      "  9   -2.772170723015      -13.14       -7.19    2.0    172ms\n",
      " 10   -2.772170723015   +  -14.65       -7.26    1.0    152ms\n",
      " 11   -2.772170723015      -13.95       -8.42    1.0    164ms\n",
      "n     Energy            log10(ΔE)   log10(Δρ)   Diag   Δtime\n",
      "---   ---------------   ---------   ---------   ----   ------\n",
      "  1   -2.770816491722                   -0.52    9.0         \n",
      "  2   -2.772061988684       -2.90       -1.32    1.0    163ms\n",
      "  3   -2.772083014327       -4.68       -2.44    1.0    131ms\n",
      "  4   -2.772083338616       -6.49       -3.14    1.0    133ms\n",
      "  5   -2.772083417382       -7.10       -4.18    2.0    187ms\n",
      "  6   -2.772083417725       -9.46       -4.69    1.0    136ms\n",
      "  7   -2.772083417810      -10.07       -6.05    2.0    156ms\n",
      "  8   -2.772083417811      -12.94       -6.24    2.0    171ms\n",
      "  9   -2.772083417811      -13.10       -7.05    1.0    149ms\n",
      " 10   -2.772083417811   +  -14.57       -7.74    2.0    177ms\n",
      " 11   -2.772083417811      -14.57       -8.74    2.0    161ms\n"
     ]
    },
    {
     "output_type": "execute_result",
     "data": {
      "text/plain": "1.7735578528954374"
     },
     "metadata": {},
     "execution_count": 2
    }
   ],
   "cell_type": "code",
   "source": [
    "polarizability_fd = let\n",
    "    ε = 0.01\n",
    "    (compute_dipole(ε) - compute_dipole(0.0)) / ε\n",
    "end"
   ],
   "metadata": {},
   "execution_count": 2
  },
  {
   "cell_type": "markdown",
   "source": [
    "We do the same thing using automatic differentiation. Under the hood this uses\n",
    "custom rules to implicitly differentiate through the self-consistent\n",
    "field fixed-point problem."
   ],
   "metadata": {}
  },
  {
   "outputs": [
    {
     "name": "stdout",
     "output_type": "stream",
     "text": [
      "n     Energy            log10(ΔE)   log10(Δρ)   Diag   Δtime\n",
      "---   ---------------   ---------   ---------   ----   ------\n",
      "  1   -2.770779441866                   -0.52    9.0         \n",
      "  2   -2.772061062468       -2.89       -1.32    1.0    129ms\n",
      "  3   -2.772083040359       -4.66       -2.44    1.0    160ms\n",
      "  4   -2.772083339088       -6.52       -3.13    1.0    132ms\n",
      "  5   -2.772083417472       -7.11       -4.20    2.0    178ms\n",
      "  6   -2.772083417722       -9.60       -4.67    1.0    169ms\n",
      "  7   -2.772083417809      -10.06       -5.84    1.0    137ms\n",
      "  8   -2.772083417811      -11.72       -6.35    2.0    159ms\n",
      "  9   -2.772083417811      -13.44       -7.00    2.0    192ms\n",
      " 10   -2.772083417811      -13.64       -8.04    1.0    149ms\n",
      "\n",
      "Polarizability via ForwardDiff:       1.7725349457631505\n",
      "Polarizability via finite difference: 1.7735578528954374\n"
     ]
    }
   ],
   "cell_type": "code",
   "source": [
    "polarizability = ForwardDiff.derivative(compute_dipole, 0.0)\n",
    "println()\n",
    "println(\"Polarizability via ForwardDiff:       $polarizability\")\n",
    "println(\"Polarizability via finite difference: $polarizability_fd\")"
   ],
   "metadata": {},
   "execution_count": 3
  }
 ],
 "nbformat_minor": 3,
 "metadata": {
  "language_info": {
   "file_extension": ".jl",
   "mimetype": "application/julia",
   "name": "julia",
   "version": "1.8.5"
  },
  "kernelspec": {
   "name": "julia-1.8",
   "display_name": "Julia 1.8.5",
   "language": "julia"
  }
 },
 "nbformat": 4
}
