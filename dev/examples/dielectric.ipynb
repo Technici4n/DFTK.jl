{
 "cells": [
  {
   "cell_type": "markdown",
   "source": [
    "# Eigenvalues of the dielectric matrix\n",
    "\n",
    "We compute a few eigenvalues of the dielectric matrix ($q=0$, $ω=0$) iteratively."
   ],
   "metadata": {}
  },
  {
   "outputs": [
    {
     "name": "stdout",
     "output_type": "stream",
     "text": [
      "n     Energy            log10(ΔE)   log10(Δρ)   Diag\n",
      "---   ---------------   ---------   ---------   ----\n",
      "  1   -7.234169690600                   -0.50    8.0\n",
      "  2   -7.249915759613       -1.80       -1.40    1.0\n",
      "  3   -7.251247504490       -2.88       -1.94    4.0\n",
      "  4   -7.251179771337   +   -4.17       -2.05    6.0\n",
      "  5   -7.251306187349       -3.90       -2.41    4.0\n",
      "  6   -7.251335699086       -4.53       -2.87    4.0\n",
      "  7   -7.251338793224       -5.51       -4.09    3.0\n",
      "  8   -7.251338795356       -8.67       -4.28    2.0\n",
      "  9   -7.251338798553       -8.50       -5.22    1.0\n",
      " 10   -7.251338798676       -9.91       -5.26    3.0\n",
      " 11   -7.251338798699      -10.64       -5.64    2.0\n",
      " 12   -7.251338798704      -11.31       -6.25    4.0\n",
      " 13   -7.251338798704      -12.37       -6.41    3.0\n",
      " 14   -7.251338798704      -13.07       -6.69    1.0\n",
      " 15   -7.251338798705      -13.35       -7.37    3.0\n",
      " 16   -7.251338798705      -14.45       -8.05    3.0\n"
     ]
    }
   ],
   "cell_type": "code",
   "source": [
    "using DFTK\n",
    "using Plots\n",
    "using KrylovKit\n",
    "using Printf\n",
    "\n",
    "# Calculation parameters\n",
    "kgrid = [1, 1, 1]\n",
    "Ecut = 5\n",
    "\n",
    "# Silicon lattice\n",
    "a = 10.26\n",
    "lattice = a / 2 .* [[0 1 1.]; [1 0 1.]; [1 1 0.]]\n",
    "Si = ElementPsp(:Si, psp=load_psp(\"hgh/lda/Si-q4\"))\n",
    "atoms     = [Si, Si]\n",
    "positions = [ones(3)/8, -ones(3)/8]\n",
    "\n",
    "# Compute the dielectric operator without symmetries\n",
    "model = model_LDA(lattice, atoms, positions, symmetries=false)\n",
    "basis = PlaneWaveBasis(model; Ecut, kgrid)\n",
    "scfres = self_consistent_field(basis, tol=1e-14);"
   ],
   "metadata": {},
   "execution_count": 1
  },
  {
   "cell_type": "markdown",
   "source": [
    "Applying $ε^† ≔ (1- χ_0 K)$ …"
   ],
   "metadata": {}
  },
  {
   "outputs": [],
   "cell_type": "code",
   "source": [
    "function eps_fun(δρ)\n",
    "    δV = apply_kernel(basis, δρ; ρ=scfres.ρ)\n",
    "    χ0δV = apply_χ0(scfres, δV)\n",
    "    δρ - χ0δV\n",
    "end;"
   ],
   "metadata": {},
   "execution_count": 2
  },
  {
   "cell_type": "markdown",
   "source": [
    "… eagerly diagonalizes the subspace matrix at each iteration"
   ],
   "metadata": {}
  },
  {
   "outputs": [
    {
     "name": "stdout",
     "output_type": "stream",
     "text": [
      "[ Info: Arnoldi iteration step 1: normres = 0.05218481874366396\n",
      "[ Info: Arnoldi iteration step 2: normres = 0.7836367027189514\n",
      "[ Info: Arnoldi iteration step 3: normres = 0.7144919942048358\n",
      "[ Info: Arnoldi iteration step 4: normres = 0.31754591036808405\n",
      "[ Info: Arnoldi iteration step 5: normres = 0.35984072822709634\n",
      "[ Info: Arnoldi schursolve in iter 1, krylovdim = 5: 0 values converged, normres = (2.41e-02, 7.35e-02, 2.15e-01, 2.77e-01, 2.09e-02)\n",
      "[ Info: Arnoldi iteration step 6: normres = 0.45677853177419847\n",
      "[ Info: Arnoldi schursolve in iter 1, krylovdim = 6: 0 values converged, normres = (9.21e-03, 1.67e-01, 3.99e-01, 8.53e-02, 1.06e-01)\n",
      "[ Info: Arnoldi iteration step 7: normres = 0.08168170207521729\n",
      "[ Info: Arnoldi schursolve in iter 1, krylovdim = 7: 0 values converged, normres = (4.16e-04, 2.56e-02, 1.91e-02, 3.54e-02, 5.83e-02)\n",
      "[ Info: Arnoldi iteration step 8: normres = 0.11654869887707416\n",
      "[ Info: Arnoldi schursolve in iter 1, krylovdim = 8: 0 values converged, normres = (2.10e-05, 2.12e-03, 1.76e-03, 1.38e-02, 3.79e-02)\n",
      "[ Info: Arnoldi iteration step 9: normres = 0.06154616856348044\n",
      "[ Info: Arnoldi schursolve in iter 1, krylovdim = 9: 0 values converged, normres = (5.57e-07, 9.26e-05, 8.54e-05, 2.86e-03, 1.68e-02)\n",
      "[ Info: Arnoldi iteration step 10: normres = 0.08642308077698431\n",
      "[ Info: Arnoldi schursolve in iter 1, krylovdim = 10: 0 values converged, normres = (2.09e-08, 5.74e-06, 5.89e-06, 8.39e-04, 1.05e-02)\n",
      "[ Info: Arnoldi iteration step 11: normres = 0.07445073499482732\n",
      "[ Info: Arnoldi schursolve in iter 1, krylovdim = 11: 0 values converged, normres = (6.68e-10, 3.01e-07, 3.43e-07, 2.00e-04, 5.43e-03)\n",
      "[ Info: Arnoldi iteration step 12: normres = 0.07152199522233026\n",
      "[ Info: Arnoldi schursolve in iter 1, krylovdim = 12: 0 values converged, normres = (2.04e-11, 1.50e-08, 1.89e-08, 4.27e-05, 2.30e-03)\n",
      "[ Info: Arnoldi iteration step 13: normres = 0.08192930429092052\n",
      "[ Info: Arnoldi schursolve in iter 1, krylovdim = 13: 1 values converged, normres = (7.18e-13, 8.64e-10, 1.21e-09, 1.08e-05, 1.15e-03)\n",
      "[ Info: Arnoldi iteration step 14: normres = 0.46625638381609463\n",
      "[ Info: Arnoldi schursolve in iter 1, krylovdim = 14: 1 values converged, normres = (2.85e-13, 1.52e-09, 4.53e-09, 4.64e-01, 7.93e-03)\n",
      "[ Info: Arnoldi iteration step 15: normres = 0.19032332296911786\n",
      "[ Info: Arnoldi schursolve in iter 1, krylovdim = 15: 1 values converged, normres = (2.64e-14, 5.45e-10, 6.68e-02, 3.18e-04, 1.16e-05)\n",
      "[ Info: Arnoldi iteration step 16: normres = 0.21586101537318708\n",
      "[ Info: Arnoldi schursolve in iter 1, krylovdim = 16: 1 values converged, normres = (5.76e-15, 3.29e-09, 1.62e-01, 1.12e-03, 1.41e-01)\n",
      "[ Info: Arnoldi iteration step 17: normres = 0.027909292289740966\n",
      "[ Info: Arnoldi schursolve in iter 1, krylovdim = 17: 1 values converged, normres = (6.91e-17, 9.18e-08, 3.30e-03, 9.40e-07, 2.56e-03)\n",
      "[ Info: Arnoldi iteration step 18: normres = 0.07930963868022044\n",
      "[ Info: Arnoldi schursolve in iter 1, krylovdim = 18: 1 values converged, normres = (2.27e-18, 1.41e-04, 1.02e-04, 5.91e-08, 1.48e-04)\n",
      "[ Info: Arnoldi iteration step 19: normres = 0.07176870486990578\n",
      "[ Info: Arnoldi schursolve in iter 1, krylovdim = 19: 1 values converged, normres = (8.08e-20, 1.41e-08, 1.13e-05, 1.06e-05, 2.87e-06)\n",
      "[ Info: Arnoldi iteration step 20: normres = 0.02431600300608491\n",
      "[ Info: Arnoldi schursolve in iter 1, krylovdim = 20: 1 values converged, normres = (8.10e-22, 5.07e-08, 1.73e-07, 2.61e-08, 1.92e-07)\n",
      "[ Info: Arnoldi iteration step 21: normres = 0.03482115538089589\n",
      "[ Info: Arnoldi schursolve in iter 1, krylovdim = 21: 1 values converged, normres = (1.17e-23, 3.53e-09, 2.25e-09, 3.56e-09, 3.45e-09)\n",
      "[ Info: Arnoldi iteration step 22: normres = 0.02652120067720751\n",
      "[ Info: Arnoldi schursolve in iter 1, krylovdim = 22: 1 values converged, normres = (1.28e-25, 1.02e-11, 7.25e-11, 7.90e-11, 5.41e-11)\n",
      "[ Info: Arnoldi iteration step 23: normres = 0.6098662439712054\n",
      "[ Info: Arnoldi schursolve in iter 1, krylovdim = 23: 1 values converged, normres = (3.85e-26, 5.63e-12, 3.93e-11, 4.87e-11, 3.35e-11)\n",
      "[ Info: Arnoldi iteration step 24: normres = 0.027278435613926375\n",
      "[ Info: Arnoldi schursolve in iter 1, krylovdim = 24: 1 values converged, normres = (8.35e-28, 7.99e-13, 5.58e-12, 9.67e-10, 7.01e-10)\n",
      "[ Info: Arnoldi iteration step 25: normres = 0.052244195326624346\n",
      "[ Info: Arnoldi schursolve in iter 1, krylovdim = 25: 3 values converged, normres = (1.80e-29, 2.76e-14, 1.94e-13, 6.54e-04, 5.23e-04)\n",
      "[ Info: Arnoldi iteration step 26: normres = 0.055274225259368426\n",
      "[ Info: Arnoldi schursolve in iter 1, krylovdim = 26: 3 values converged, normres = (4.49e-31, 8.19e-15, 1.17e-15, 7.81e-10, 4.41e-10)\n",
      "[ Info: Arnoldi iteration step 27: normres = 0.04343201509213276\n",
      "[ Info: Arnoldi schursolve in iter 1, krylovdim = 27: 3 values converged, normres = (8.04e-33, 3.34e-17, 2.34e-16, 6.55e-10, 5.97e-10)\n",
      "[ Info: Arnoldi iteration step 28: normres = 0.08978201529591669\n",
      "[ Info: Arnoldi schursolve in iter 1, krylovdim = 28: 3 values converged, normres = (3.17e-34, 2.19e-18, 1.54e-17, 9.40e-10, 7.97e-10)\n",
      "[ Info: Arnoldi iteration step 29: normres = 0.17565069910125808\n",
      "[ Info: Arnoldi schursolve in iter 1, krylovdim = 29: 3 values converged, normres = (2.40e-35, 2.72e-19, 1.91e-18, 1.24e-08, 2.71e-09)\n",
      "[ Info: Arnoldi iteration step 30: normres = 0.028613940141754213\n",
      "[ Info: Arnoldi schursolve in iter 1, krylovdim = 30: 3 values converged, normres = (3.33e-37, 4.73e-20, 6.74e-21, 1.38e-10, 3.33e-10)\n",
      "[ Info: Arnoldi schursolve in iter 2, krylovdim = 19: 3 values converged, normres = (3.36e-37, 6.74e-21, 4.73e-20, 1.38e-10, 3.33e-10)\n",
      "[ Info: Arnoldi iteration step 20: normres = 0.0235216443980776\n",
      "[ Info: Arnoldi schursolve in iter 2, krylovdim = 20: 3 values converged, normres = (3.21e-39, 1.03e-22, 7.26e-22, 2.25e-12, 5.65e-12)\n",
      "[ Info: Arnoldi iteration step 21: normres = 0.0448813708058943\n",
      "┌ Info: Arnoldi eigsolve finished after 2 iterations:\n",
      "│ *  6 eigenvalues converged\n",
      "│ *  norm of residuals = (5.923881632791864e-41, 1.7248557664205837e-23, 1.7248557664205837e-23, 7.269391809526815e-14, 1.7896070433228647e-13, 2.572525349406879e-14)\n",
      "└ *  number of operations = 32\n"
     ]
    }
   ],
   "cell_type": "code",
   "source": [
    "eigsolve(eps_fun, randn(size(scfres.ρ)), 5, :LM; eager=true, verbosity=3);"
   ],
   "metadata": {},
   "execution_count": 3
  }
 ],
 "nbformat_minor": 3,
 "metadata": {
  "language_info": {
   "file_extension": ".jl",
   "mimetype": "application/julia",
   "name": "julia",
   "version": "1.8.3"
  },
  "kernelspec": {
   "name": "julia-1.8",
   "display_name": "Julia 1.8.3",
   "language": "julia"
  }
 },
 "nbformat": 4
}
