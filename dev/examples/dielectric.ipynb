{
 "cells": [
  {
   "cell_type": "markdown",
   "source": [
    "# Eigenvalues of the dielectric matrix\n",
    "\n",
    "We compute a few eigenvalues of the dielectric matrix ($q=0$, $ω=0$) iteratively."
   ],
   "metadata": {}
  },
  {
   "outputs": [
    {
     "name": "stdout",
     "output_type": "stream",
     "text": [
      "n     Energy            log10(ΔE)   log10(Δρ)   Diag   Δtime\n",
      "---   ---------------   ---------   ---------   ----   ------\n",
      "  1   -7.235470259666                   -0.50    8.0         \n",
      "  2   -7.250349742129       -1.83       -1.40    1.0   11.1ms\n",
      "  3   -7.251147567134       -3.10       -2.17    1.0   11.8ms\n",
      "  4   -7.251235312278       -4.06       -2.11    3.0   16.0ms\n",
      "  5   -7.251332697614       -4.01       -2.65    1.0   10.4ms\n",
      "  6   -7.251334377974       -5.77       -2.82    2.0   14.0ms\n",
      "  7   -7.251338565396       -5.38       -3.39    1.0   10.2ms\n",
      "  8   -7.251338770182       -6.69       -3.86    2.0   12.4ms\n",
      "  9   -7.251338795433       -7.60       -4.35    1.0   10.0ms\n",
      " 10   -7.251338798346       -8.54       -4.74    2.0   11.7ms\n",
      " 11   -7.251338798645       -9.52       -5.19    1.0   10.4ms\n",
      " 12   -7.251338798697      -10.28       -5.64    2.0   12.8ms\n",
      " 13   -7.251338798703      -11.20       -6.17    2.0   13.5ms\n",
      " 14   -7.251338798704      -12.01       -6.36    2.0   12.6ms\n",
      " 15   -7.251338798705      -12.76       -6.94    1.0   10.2ms\n",
      " 16   -7.251338798705      -13.77       -7.09    2.0   11.9ms\n",
      " 17   -7.251338798705      -14.15       -7.43    1.0   10.0ms\n",
      " 18   -7.251338798705   +    -Inf       -7.93    2.0   11.9ms\n",
      " 19   -7.251338798705   +    -Inf       -8.17    1.0   10.8ms\n"
     ]
    }
   ],
   "cell_type": "code",
   "source": [
    "using DFTK\n",
    "using Plots\n",
    "using KrylovKit\n",
    "using Printf\n",
    "\n",
    "# Calculation parameters\n",
    "kgrid = [1, 1, 1]\n",
    "Ecut = 5\n",
    "\n",
    "# Silicon lattice\n",
    "a = 10.26\n",
    "lattice = a / 2 .* [[0 1 1.]; [1 0 1.]; [1 1 0.]]\n",
    "Si = ElementPsp(:Si, psp=load_psp(\"hgh/lda/Si-q4\"))\n",
    "atoms     = [Si, Si]\n",
    "positions = [ones(3)/8, -ones(3)/8]\n",
    "\n",
    "# Compute the dielectric operator without symmetries\n",
    "model  = model_LDA(lattice, atoms, positions, symmetries=false)\n",
    "basis  = PlaneWaveBasis(model; Ecut, kgrid)\n",
    "scfres = self_consistent_field(basis, tol=1e-8);"
   ],
   "metadata": {},
   "execution_count": 1
  },
  {
   "cell_type": "markdown",
   "source": [
    "Applying $ε^† ≔ (1- χ_0 K)$ …"
   ],
   "metadata": {}
  },
  {
   "outputs": [],
   "cell_type": "code",
   "source": [
    "function eps_fun(δρ)\n",
    "    δV = apply_kernel(basis, δρ; ρ=scfres.ρ)\n",
    "    χ0δV = apply_χ0(scfres, δV)\n",
    "    δρ - χ0δV\n",
    "end;"
   ],
   "metadata": {},
   "execution_count": 2
  },
  {
   "cell_type": "markdown",
   "source": [
    "… eagerly diagonalizes the subspace matrix at each iteration"
   ],
   "metadata": {}
  },
  {
   "outputs": [
    {
     "name": "stdout",
     "output_type": "stream",
     "text": [
      "[ Info: Arnoldi iteration step 1: normres = 0.05401862292880719\n",
      "[ Info: Arnoldi iteration step 2: normres = 0.5674546545279696\n",
      "[ Info: Arnoldi iteration step 3: normres = 0.9208174388384764\n",
      "[ Info: Arnoldi iteration step 4: normres = 0.3090135038420841\n",
      "[ Info: Arnoldi iteration step 5: normres = 0.46825165700818583\n",
      "[ Info: Arnoldi schursolve in iter 1, krylovdim = 5: 0 values converged, normres = (3.91e-02, 7.40e-02, 4.09e-01, 2.11e-01, 1.36e-02)\n",
      "[ Info: Arnoldi iteration step 6: normres = 0.30516212552190713\n",
      "[ Info: Arnoldi schursolve in iter 1, krylovdim = 6: 0 values converged, normres = (1.00e-02, 1.18e-01, 2.37e-01, 1.20e-01, 5.06e-02)\n",
      "[ Info: Arnoldi iteration step 7: normres = 0.07860153457694552\n",
      "[ Info: Arnoldi schursolve in iter 1, krylovdim = 7: 0 values converged, normres = (3.79e-04, 9.58e-03, 1.53e-02, 4.02e-02, 5.68e-02)\n",
      "[ Info: Arnoldi iteration step 8: normres = 0.09713636225200033\n",
      "[ Info: Arnoldi schursolve in iter 1, krylovdim = 8: 0 values converged, normres = (1.57e-05, 6.46e-04, 1.14e-03, 1.13e-02, 3.54e-02)\n",
      "[ Info: Arnoldi iteration step 9: normres = 0.06028960745582683\n",
      "[ Info: Arnoldi schursolve in iter 1, krylovdim = 9: 0 values converged, normres = (4.09e-07, 2.78e-05, 5.47e-05, 2.31e-03, 2.37e-02)\n",
      "[ Info: Arnoldi iteration step 10: normres = 0.09121893432553212\n",
      "[ Info: Arnoldi schursolve in iter 1, krylovdim = 10: 0 values converged, normres = (1.61e-08, 1.81e-06, 3.94e-06, 6.87e-04, 2.22e-02)\n",
      "[ Info: Arnoldi iteration step 11: normres = 0.10724285132670332\n",
      "[ Info: Arnoldi schursolve in iter 1, krylovdim = 11: 0 values converged, normres = (7.57e-10, 1.41e-07, 3.41e-07, 2.71e-04, 3.87e-02)\n",
      "[ Info: Arnoldi iteration step 12: normres = 0.0927591744574168\n",
      "[ Info: Arnoldi schursolve in iter 1, krylovdim = 12: 0 values converged, normres = (3.05e-11, 9.37e-09, 2.53e-08, 9.29e-05, 4.32e-02)\n",
      "[ Info: Arnoldi iteration step 13: normres = 0.06542622293802873\n",
      "[ Info: Arnoldi schursolve in iter 1, krylovdim = 13: 1 values converged, normres = (8.62e-13, 4.36e-10, 1.31e-09, 2.08e-05, 1.92e-02)\n",
      "[ Info: Arnoldi iteration step 14: normres = 0.5603820558018195\n",
      "[ Info: Arnoldi schursolve in iter 1, krylovdim = 14: 1 values converged, normres = (4.16e-13, 9.65e-10, 6.46e-09, 5.59e-01, 8.47e-03)\n",
      "[ Info: Arnoldi iteration step 15: normres = 0.12510563712681338\n",
      "[ Info: Arnoldi schursolve in iter 1, krylovdim = 15: 1 values converged, normres = (2.69e-14, 9.12e-10, 5.07e-02, 9.56e-06, 8.92e-06)\n",
      "[ Info: Arnoldi iteration step 16: normres = 0.22406766799662553\n",
      "[ Info: Arnoldi schursolve in iter 1, krylovdim = 16: 1 values converged, normres = (5.72e-15, 3.37e-08, 7.51e-02, 4.98e-04, 2.08e-01)\n",
      "[ Info: Arnoldi iteration step 17: normres = 0.027851969468074844\n",
      "[ Info: Arnoldi schursolve in iter 1, krylovdim = 17: 1 values converged, normres = (6.70e-17, 1.92e-04, 1.59e-03, 3.72e-03, 1.71e-03)\n",
      "[ Info: Arnoldi iteration step 18: normres = 0.04240416597198052\n",
      "[ Info: Arnoldi schursolve in iter 1, krylovdim = 18: 1 values converged, normres = (1.18e-18, 1.70e-08, 4.51e-05, 2.12e-08, 1.28e-04)\n",
      "[ Info: Arnoldi iteration step 19: normres = 0.2216467032985\n",
      "[ Info: Arnoldi schursolve in iter 1, krylovdim = 19: 1 values converged, normres = (1.19e-19, 4.70e-06, 6.23e-06, 2.17e-05, 1.20e-05)\n",
      "[ Info: Arnoldi iteration step 20: normres = 0.02470474884965303\n",
      "[ Info: Arnoldi schursolve in iter 1, krylovdim = 20: 1 values converged, normres = (1.33e-21, 1.11e-08, 1.48e-07, 3.89e-07, 3.59e-07)\n",
      "[ Info: Arnoldi iteration step 21: normres = 0.03077843187286586\n",
      "[ Info: Arnoldi schursolve in iter 1, krylovdim = 21: 1 values converged, normres = (1.69e-23, 1.54e-09, 2.61e-09, 8.68e-09, 8.18e-09)\n",
      "[ Info: Arnoldi iteration step 22: normres = 0.02258379815513764\n",
      "[ Info: Arnoldi schursolve in iter 1, krylovdim = 22: 1 values converged, normres = (1.59e-25, 2.87e-11, 3.53e-11, 6.75e-12, 1.97e-10)\n",
      "[ Info: Arnoldi iteration step 23: normres = 0.6270199413365684\n",
      "[ Info: Arnoldi schursolve in iter 1, krylovdim = 23: 1 values converged, normres = (4.80e-26, 1.55e-11, 1.89e-11, 4.01e-12, 1.20e-10)\n",
      "[ Info: Arnoldi iteration step 24: normres = 0.032482343891606036\n",
      "[ Info: Arnoldi schursolve in iter 1, krylovdim = 24: 1 values converged, normres = (1.27e-27, 2.73e-12, 3.34e-12, 1.59e-09, 3.06e-09)\n",
      "[ Info: Arnoldi iteration step 25: normres = 0.11963147030792347\n",
      "[ Info: Arnoldi schursolve in iter 1, krylovdim = 25: 3 values converged, normres = (6.45e-29, 2.78e-13, 2.27e-13, 1.36e-04, 1.14e-04)\n",
      "[ Info: Arnoldi iteration step 26: normres = 0.01902883556368247\n",
      "[ Info: Arnoldi schursolve in iter 1, krylovdim = 26: 3 values converged, normres = (5.40e-31, 3.18e-15, 3.89e-15, 2.66e-10, 3.10e-09)\n",
      "[ Info: Arnoldi iteration step 27: normres = 0.064020746400878\n",
      "[ Info: Arnoldi schursolve in iter 1, krylovdim = 27: 3 values converged, normres = (1.43e-32, 1.34e-16, 1.64e-16, 6.16e-09, 5.79e-10)\n",
      "[ Info: Arnoldi iteration step 28: normres = 0.040467243249362156\n",
      "[ Info: Arnoldi schursolve in iter 1, krylovdim = 28: 3 values converged, normres = (2.55e-34, 4.89e-18, 4.00e-18, 5.26e-08, 2.26e-08)\n",
      "[ Info: Arnoldi iteration step 29: normres = 0.027979753455715517\n",
      "[ Info: Arnoldi schursolve in iter 1, krylovdim = 29: 3 values converged, normres = (2.94e-36, 7.34e-20, 8.99e-20, 3.06e-10, 8.89e-10)\n",
      "[ Info: Arnoldi iteration step 30: normres = 0.20557739600520303\n",
      "[ Info: Arnoldi schursolve in iter 1, krylovdim = 30: 3 values converged, normres = (2.77e-37, 1.18e-20, 1.45e-20, 4.25e-11, 1.57e-10)\n",
      "[ Info: Arnoldi schursolve in iter 2, krylovdim = 19: 3 values converged, normres = (2.77e-37, 1.45e-20, 1.18e-20, 4.25e-11, 1.57e-10)\n",
      "[ Info: Arnoldi iteration step 20: normres = 0.08085829154305169\n",
      "[ Info: Arnoldi schursolve in iter 2, krylovdim = 20: 3 values converged, normres = (1.01e-38, 7.36e-22, 9.00e-22, 3.10e-12, 1.10e-11)\n",
      "[ Info: Arnoldi iteration step 21: normres = 0.04355737454151809\n",
      "┌ Info: Arnoldi eigsolve finished after 2 iterations:\n",
      "│ *  6 eigenvalues converged\n",
      "│ *  norm of residuals = (1.8958646797852047e-40, 2.65769299440424e-23, 2.65769299440424e-23, 1.796197625964168e-13, 1.796197625964168e-13, 4.818633999613864e-13)\n",
      "└ *  number of operations = 32\n"
     ]
    }
   ],
   "cell_type": "code",
   "source": [
    "eigsolve(eps_fun, randn(size(scfres.ρ)), 5, :LM; eager=true, verbosity=3);"
   ],
   "metadata": {},
   "execution_count": 3
  }
 ],
 "nbformat_minor": 3,
 "metadata": {
  "language_info": {
   "file_extension": ".jl",
   "mimetype": "application/julia",
   "name": "julia",
   "version": "1.8.5"
  },
  "kernelspec": {
   "name": "julia-1.8",
   "display_name": "Julia 1.8.5",
   "language": "julia"
  }
 },
 "nbformat": 4
}
