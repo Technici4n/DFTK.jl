{
 "cells": [
  {
   "cell_type": "markdown",
   "source": [
    "# Comparison of DFT solvers"
   ],
   "metadata": {}
  },
  {
   "cell_type": "markdown",
   "source": [
    "We compare four different approaches for solving the DFT minimisation problem,\n",
    "namely a density-based SCF, a potential-based SCF, direct minimisation and Newton."
   ],
   "metadata": {}
  },
  {
   "cell_type": "markdown",
   "source": [
    "First we setup our problem"
   ],
   "metadata": {}
  },
  {
   "outputs": [
    {
     "output_type": "execute_result",
     "data": {
      "text/plain": "1.0e-6"
     },
     "metadata": {},
     "execution_count": 1
    }
   ],
   "cell_type": "code",
   "source": [
    "using DFTK\n",
    "using LinearAlgebra\n",
    "\n",
    "a = 10.26  # Silicon lattice constant in Bohr\n",
    "lattice = a / 2 * [[0 1 1.];\n",
    "                   [1 0 1.];\n",
    "                   [1 1 0.]]\n",
    "Si = ElementPsp(:Si, psp=load_psp(\"hgh/lda/Si-q4\"))\n",
    "atoms     = [Si, Si]\n",
    "positions = [ones(3)/8, -ones(3)/8]\n",
    "\n",
    "model = model_LDA(lattice, atoms, positions)\n",
    "basis = PlaneWaveBasis(model; Ecut=5, kgrid=[3, 3, 3])\n",
    "\n",
    "# Convergence we desire in the density\n",
    "tol = 1e-6"
   ],
   "metadata": {},
   "execution_count": 1
  },
  {
   "cell_type": "markdown",
   "source": [
    "## Density-based self-consistent field"
   ],
   "metadata": {}
  },
  {
   "outputs": [
    {
     "name": "stdout",
     "output_type": "stream",
     "text": [
      "n     Energy            log10(ΔE)   log10(Δρ)   Diag\n",
      "---   ---------------   ---------   ---------   ----\n",
      "  1   -7.846638399355                   -0.70    4.8\n",
      "  2   -7.852295086911       -2.25       -1.53    1.0\n",
      "  3   -7.852608513631       -3.50       -2.56    1.5\n",
      "  4   -7.852645982812       -4.43       -2.87    2.8\n",
      "  5   -7.852646468307       -6.31       -3.12    1.0\n",
      "  6   -7.852646679586       -6.68       -4.11    1.0\n",
      "  7   -7.852646686672       -8.15       -4.92    2.0\n",
      "  8   -7.852646686719      -10.33       -5.35    1.2\n",
      "  9   -7.852646686724      -11.32       -5.38    1.5\n",
      " 10   -7.852646686730      -11.25       -6.85    1.0\n"
     ]
    }
   ],
   "cell_type": "code",
   "source": [
    "scfres_scf = self_consistent_field(basis; tol);"
   ],
   "metadata": {},
   "execution_count": 2
  },
  {
   "cell_type": "markdown",
   "source": [
    "## Potential-based SCF"
   ],
   "metadata": {}
  },
  {
   "outputs": [
    {
     "name": "stdout",
     "output_type": "stream",
     "text": [
      "n     Energy            log10(ΔE)   log10(Δρ)   α      Diag\n",
      "---   ---------------   ---------   ---------   ----   ----\n",
      "  1   -7.846841347347                   -0.70           4.5\n",
      "  2   -7.852528543113       -2.25       -1.63   0.80    2.2\n",
      "  3   -7.852637421733       -3.96       -2.71   0.80    1.0\n",
      "  4   -7.852646499899       -5.04       -3.31   0.80    2.0\n",
      "  5   -7.852646682019       -6.74       -4.19   0.80    2.0\n",
      "  6   -7.852646686619       -8.34       -4.82   0.80    1.8\n",
      "  7   -7.852646686721       -9.99       -5.67   0.80    1.5\n",
      "  8   -7.852646686730      -11.06       -6.53   0.80    2.2\n"
     ]
    }
   ],
   "cell_type": "code",
   "source": [
    "scfres_scfv = DFTK.scf_potential_mixing(basis; tol);"
   ],
   "metadata": {},
   "execution_count": 3
  },
  {
   "cell_type": "markdown",
   "source": [
    "## Direct minimization\n",
    "Note: Unlike the other algorithms, tolerance for this one is in the energy,\n",
    "thus we square the density tolerance value to be roughly equivalent."
   ],
   "metadata": {}
  },
  {
   "outputs": [
    {
     "name": "stdout",
     "output_type": "stream",
     "text": [
      "Iter     Function value   Gradient norm \n",
      "     0     1.414940e+01     3.120121e+00\n",
      " * time: 0.45061206817626953\n",
      "     1     1.420561e+00     1.763995e+00\n",
      " * time: 0.6467819213867188\n",
      "     2    -1.782892e+00     2.118194e+00\n",
      " * time: 0.6735239028930664\n",
      "     3    -3.919125e+00     1.794121e+00\n",
      " * time: 0.7121329307556152\n",
      "     4    -5.551209e+00     1.501207e+00\n",
      " * time: 0.7504940032958984\n",
      "     5    -6.982687e+00     8.042364e-01\n",
      " * time: 0.7890100479125977\n",
      "     6    -7.237075e+00     8.995277e-01\n",
      " * time: 0.8154439926147461\n",
      "     7    -7.516912e+00     6.262793e-01\n",
      " * time: 0.8420989513397217\n",
      "     8    -7.634263e+00     4.498298e-01\n",
      " * time: 0.8689699172973633\n",
      "     9    -7.737120e+00     1.439591e-01\n",
      " * time: 0.8957018852233887\n",
      "    10    -7.794281e+00     1.416820e-01\n",
      " * time: 0.9221148490905762\n",
      "    11    -7.827572e+00     5.142315e-02\n",
      " * time: 0.9490408897399902\n",
      "    12    -7.839128e+00     3.449603e-02\n",
      " * time: 0.9753868579864502\n",
      "    13    -7.844519e+00     3.530756e-02\n",
      " * time: 1.0017919540405273\n",
      "    14    -7.845181e+00     4.605460e-02\n",
      " * time: 1.0280818939208984\n",
      "    15    -7.845181e+00     4.605460e-02\n",
      " * time: 1.4445469379425049\n"
     ]
    }
   ],
   "cell_type": "code",
   "source": [
    "scfres_dm = direct_minimization(basis; tol=tol^2);"
   ],
   "metadata": {},
   "execution_count": 4
  },
  {
   "cell_type": "markdown",
   "source": [
    "## Newton algorithm"
   ],
   "metadata": {}
  },
  {
   "cell_type": "markdown",
   "source": [
    "Start not too far from the solution to ensure convergence:\n",
    "We run first a very crude SCF to get close and then switch to Newton."
   ],
   "metadata": {}
  },
  {
   "outputs": [
    {
     "name": "stdout",
     "output_type": "stream",
     "text": [
      "n     Energy            log10(ΔE)   log10(Δρ)   Diag\n",
      "---   ---------------   ---------   ---------   ----\n",
      "  1   -7.846875934561                   -0.70    4.5\n"
     ]
    }
   ],
   "cell_type": "code",
   "source": [
    "scfres_start = self_consistent_field(basis; tol=0.5);"
   ],
   "metadata": {},
   "execution_count": 5
  },
  {
   "cell_type": "markdown",
   "source": [
    "Remove the virtual orbitals (which Newton cannot treat yet)"
   ],
   "metadata": {}
  },
  {
   "outputs": [
    {
     "name": "stdout",
     "output_type": "stream",
     "text": [
      "n     Energy            log10(ΔE)   log10(Δρ)\n",
      "---   ---------------   ---------   ---------\n",
      "  1   -7.852645913179                   -1.64\n",
      "  2   -7.852646686730       -6.11       -3.71\n",
      "  3   -7.852646686730      -13.32       -7.25\n"
     ]
    }
   ],
   "cell_type": "code",
   "source": [
    "ψ = DFTK.select_occupied_orbitals(basis, scfres_start.ψ, scfres_start.occupation).ψ\n",
    "scfres_newton = newton(basis, ψ; tol);"
   ],
   "metadata": {},
   "execution_count": 6
  },
  {
   "cell_type": "markdown",
   "source": [
    "## Comparison of results"
   ],
   "metadata": {}
  },
  {
   "outputs": [
    {
     "name": "stdout",
     "output_type": "stream",
     "text": [
      "|ρ_newton - ρ_scf|  = 3.6257895681386296e-7\n",
      "|ρ_newton - ρ_scfv| = 1.4181820098016762e-7\n",
      "|ρ_newton - ρ_dm|   = 0.018353978395237024\n"
     ]
    }
   ],
   "cell_type": "code",
   "source": [
    "println(\"|ρ_newton - ρ_scf|  = \", norm(scfres_newton.ρ - scfres_scf.ρ))\n",
    "println(\"|ρ_newton - ρ_scfv| = \", norm(scfres_newton.ρ - scfres_scfv.ρ))\n",
    "println(\"|ρ_newton - ρ_dm|   = \", norm(scfres_newton.ρ - scfres_dm.ρ))"
   ],
   "metadata": {},
   "execution_count": 7
  }
 ],
 "nbformat_minor": 3,
 "metadata": {
  "language_info": {
   "file_extension": ".jl",
   "mimetype": "application/julia",
   "name": "julia",
   "version": "1.8.3"
  },
  "kernelspec": {
   "name": "julia-1.8",
   "display_name": "Julia 1.8.3",
   "language": "julia"
  }
 },
 "nbformat": 4
}
