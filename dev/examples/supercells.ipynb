{
 "cells": [
  {
   "cell_type": "markdown",
   "source": [
    "# Creating and modelling metallic supercells\n",
    "\n",
    "In this section we will be concerned with modelling supercells of aluminium.\n",
    "When dealing with periodic problems there is no unique definition of the\n",
    "lattice: Clearly any duplication of the lattice along an axis is also a valid\n",
    "repetitive unit to describe exactly the same system.\n",
    "This is exactly what a **supercell** is: An $n$-fold repetition along one of the\n",
    "axes of the original lattice.\n",
    "\n",
    "The following code achieves this for aluminium:"
   ],
   "metadata": {}
  },
  {
   "outputs": [
    {
     "name": "stdout",
     "output_type": "stream",
     "text": [
      "\u001b[32m\u001b[1m    CondaPkg \u001b[22m\u001b[39m\u001b[0mFound dependencies: /home/runner/.julia/packages/ASEconvert/CNQ1A/CondaPkg.toml\n",
      "\u001b[32m\u001b[1m    CondaPkg \u001b[22m\u001b[39m\u001b[0mFound dependencies: /home/runner/.julia/packages/PythonCall/qTEA1/CondaPkg.toml\n",
      "\u001b[32m\u001b[1m    CondaPkg \u001b[22m\u001b[39m\u001b[0mDependencies already up to date\n"
     ]
    }
   ],
   "cell_type": "code",
   "source": [
    "using DFTK\n",
    "using LinearAlgebra\n",
    "using ASEconvert\n",
    "\n",
    "function aluminium_setup(repeat=1; Ecut=7.0, kgrid=[2, 2, 2])\n",
    "    a = 7.65339\n",
    "    lattice = a * Matrix(I, 3, 3)\n",
    "    Al = ElementPsp(:Al; psp=load_psp(\"hgh/lda/al-q3\"))\n",
    "    atoms     = [Al, Al, Al, Al]\n",
    "    positions = [[0.0, 0.0, 0.0], [0.0, 0.5, 0.5], [0.5, 0.0, 0.5], [0.5, 0.5, 0.0]]\n",
    "    unit_cell = periodic_system(lattice, atoms, positions)\n",
    "\n",
    "    # Make supercell in ASE:\n",
    "    # We convert our lattice to the conventions used in ASE, make the supercell\n",
    "    # and then convert back ...\n",
    "    supercell_ase = convert_ase(unit_cell) * pytuple((repeat, 1, 1))\n",
    "    supercell     = pyconvert(AbstractSystem, supercell_ase)\n",
    "\n",
    "    # Unfortunately right now the conversion to ASE drops the pseudopotential information,\n",
    "    # so we need to reattach it:\n",
    "    supercell = attach_psp(supercell; Al=\"hgh/lda/al-q3\")\n",
    "\n",
    "    # Construct an LDA model and discretise\n",
    "    # Note: We disable symmetries explicitly here. Otherwise the problem sizes\n",
    "    #       we are able to run on the CI are too simple to observe the numerical\n",
    "    #       instabilities we want to trigger here.\n",
    "    model = model_LDA(supercell; temperature=1e-3, symmetries=false)\n",
    "    PlaneWaveBasis(model; Ecut, kgrid)\n",
    "end;"
   ],
   "metadata": {},
   "execution_count": 1
  },
  {
   "cell_type": "markdown",
   "source": [
    "As part of the code we are using a routine inside the ASE,\n",
    "the [atomistic simulation environment](https://wiki.fysik.dtu.dk/ase/index.html)\n",
    "for creating the supercell and make use of the two-way interoperability of\n",
    "DFTK and ASE. For more details on this aspect see the documentation\n",
    "on Input and output formats."
   ],
   "metadata": {}
  },
  {
   "cell_type": "markdown",
   "source": [
    "Write an example supercell structure to a file to plot it:"
   ],
   "metadata": {}
  },
  {
   "outputs": [
    {
     "name": "stdout",
     "output_type": "stream",
     "text": [
      "┌ Warning: Skipping atomic property pseudopotential, which is not supported in ASE.\n",
      "└ @ ASEconvert ~/.julia/packages/ASEconvert/CNQ1A/src/ASEconvert.jl:123\n",
      "┌ Warning: Skipping atomic property pseudopotential, which is not supported in ASE.\n",
      "└ @ ASEconvert ~/.julia/packages/ASEconvert/CNQ1A/src/ASEconvert.jl:123\n"
     ]
    },
    {
     "output_type": "execute_result",
     "data": {
      "text/plain": "Python: None"
     },
     "metadata": {},
     "execution_count": 2
    }
   ],
   "cell_type": "code",
   "source": [
    "setup = aluminium_setup(5)\n",
    "convert_ase(periodic_system(setup.model)).write(\"al_supercell.png\")"
   ],
   "metadata": {},
   "execution_count": 2
  },
  {
   "cell_type": "markdown",
   "source": [
    "<img src=\"https://docs.dftk.org/stable/examples/al_supercell.png\" width=500 height=500 />"
   ],
   "metadata": {}
  },
  {
   "cell_type": "markdown",
   "source": [
    "As we will see in this notebook the modelling of a system generally becomes\n",
    "harder if the system becomes larger.\n",
    "\n",
    "- This sounds like a trivial statement as *per se* the cost per SCF step increases\n",
    "  as the system (and thus $N$) gets larger.\n",
    "- But there is more to it:\n",
    "  If one is not careful also the *number of SCF iterations* increases\n",
    "  as the system gets larger.\n",
    "- The aim of a proper computational treatment of such supercells is therefore\n",
    "  to ensure that the **number of SCF iterations remains constant** when the\n",
    "  system size increases."
   ],
   "metadata": {}
  },
  {
   "cell_type": "markdown",
   "source": [
    "For achieving the latter DFTK by default employs the `LdosMixing`\n",
    "preconditioner [^HL2021] during the SCF iterations. This mixing approach is\n",
    "completely parameter free, but still automatically adapts to the treated\n",
    "system in order to efficiently prevent charge sloshing. As a result,\n",
    "modelling aluminium slabs indeed takes roughly the same number of SCF iterations\n",
    "irrespective of the supercell size:\n",
    "\n",
    "[^HL2021]:\n",
    "   M. F. Herbst and A. Levitt.\n",
    "   *Black-box inhomogeneous preconditioning for self-consistent field iterations in density functional theory.*\n",
    "   J. Phys. Cond. Matt *33* 085503 (2021). [ArXiv:2009.01665](https://arxiv.org/abs/2009.01665)"
   ],
   "metadata": {}
  },
  {
   "outputs": [
    {
     "name": "stdout",
     "output_type": "stream",
     "text": [
      "┌ Warning: Skipping atomic property pseudopotential, which is not supported in ASE.\n",
      "└ @ ASEconvert ~/.julia/packages/ASEconvert/CNQ1A/src/ASEconvert.jl:123\n",
      "n     Energy            log10(ΔE)   log10(Δρ)   Diag   Δtime\n",
      "---   ---------------   ---------   ---------   ----   ------\n",
      "  1   -8.298279639767                   -0.85    5.0         \n",
      "  2   -8.300170704222       -2.72       -1.25    1.0    119ms\n",
      "  3   -8.300429372303       -3.59       -1.89    2.2    140ms\n",
      "  4   -8.300462584312       -4.48       -2.76    3.1    157ms\n",
      "  5   -8.300464406639       -5.74       -3.17    2.8    241ms\n",
      "  6   -8.300464524193       -6.93       -3.33   12.2    295ms\n",
      "  7   -8.300464577993       -7.27       -3.47    2.4    146ms\n",
      "  8   -8.300464611486       -7.48       -3.62    1.5    129ms\n",
      "  9   -8.300464632371       -7.68       -3.79    1.4    131ms\n",
      " 10   -8.300464640219       -8.11       -3.97    5.0    255ms\n",
      " 11   -8.300464643567       -8.48       -4.27    4.5    217ms\n"
     ]
    }
   ],
   "cell_type": "code",
   "source": [
    "self_consistent_field(aluminium_setup(1); tol=1e-4);"
   ],
   "metadata": {},
   "execution_count": 3
  },
  {
   "outputs": [
    {
     "name": "stdout",
     "output_type": "stream",
     "text": [
      "┌ Warning: Skipping atomic property pseudopotential, which is not supported in ASE.\n",
      "└ @ ASEconvert ~/.julia/packages/ASEconvert/CNQ1A/src/ASEconvert.jl:123\n",
      "n     Energy            log10(ΔE)   log10(Δρ)   Diag   Δtime\n",
      "---   ---------------   ---------   ---------   ----   ------\n",
      "  1   -16.67434011537                   -0.70    5.8         \n",
      "  2   -16.67861188936       -2.37       -1.14    1.2    322ms\n",
      "  3   -16.67921784826       -3.22       -1.87    3.4    416ms\n",
      "  4   -16.67928005046       -4.21       -2.77    3.8    398ms\n",
      "  5   -16.67928603406       -5.22       -3.18    4.9    478ms\n",
      "  6   -16.67928620418       -6.77       -3.50    2.9    390ms\n",
      "  7   -16.67928621928       -7.82       -3.95    1.6    305ms\n",
      "  8   -16.67928622157       -8.64       -4.58    2.5    340ms\n"
     ]
    }
   ],
   "cell_type": "code",
   "source": [
    "self_consistent_field(aluminium_setup(2); tol=1e-4);"
   ],
   "metadata": {},
   "execution_count": 4
  },
  {
   "outputs": [
    {
     "name": "stdout",
     "output_type": "stream",
     "text": [
      "┌ Warning: Skipping atomic property pseudopotential, which is not supported in ASE.\n",
      "└ @ ASEconvert ~/.julia/packages/ASEconvert/CNQ1A/src/ASEconvert.jl:123\n",
      "n     Energy            log10(ΔE)   log10(Δρ)   Diag   Δtime\n",
      "---   ---------------   ---------   ---------   ----   ------\n",
      "  1   -33.32561967589                   -0.56    7.1         \n",
      "  2   -33.33282300086       -2.14       -1.00    1.0    1.12s\n",
      "  3   -33.33409053444       -2.90       -1.74    3.5    1.34s\n",
      "  4   -33.33428332863       -3.71       -2.64    4.1    1.37s\n",
      "  5   -33.33693823205       -2.58       -2.49    7.4    1.93s\n",
      "  6   -33.33693847343       -6.62       -2.49    5.2    1.37s\n",
      "  7   -33.33693840450   +   -7.16       -2.49    1.0    1.07s\n",
      "  8   -33.33693810745   +   -6.53       -2.51    1.9    1.15s\n",
      "  9   -33.33683041532   +   -3.97       -2.04    2.2    1.22s\n",
      " 10   -33.33628981926   +   -3.27       -1.78    2.8    1.45s\n",
      " 11   -33.33646684932       -3.75       -1.83    1.1    1.06s\n",
      " 12   -33.33676286815       -3.53       -2.20    3.6    1.65s\n",
      " 13   -33.33387047436   +   -2.54       -1.76    4.2    1.89s\n",
      " 14   -33.33353955373   +   -3.48       -1.72    1.2    1.06s\n",
      " 15   -33.33414841291       -3.22       -1.74    1.4    1.08s\n",
      " 16   -33.33486881989       -3.14       -1.79    1.6    1.16s\n",
      " 17   -33.33692681507       -2.69       -2.96    4.1    1.82s\n",
      " 18   -33.33693986803       -4.88       -3.16    3.1    1.46s\n",
      " 19   -33.33694237763       -5.60       -3.33    3.1    1.58s\n",
      " 20   -33.33694292336       -6.26       -3.49    1.2    989ms\n",
      " 21   -33.33694374142       -6.09       -4.31    2.4    1.26s\n"
     ]
    }
   ],
   "cell_type": "code",
   "source": [
    "self_consistent_field(aluminium_setup(4); tol=1e-4);"
   ],
   "metadata": {},
   "execution_count": 5
  },
  {
   "cell_type": "markdown",
   "source": [
    "When switching off explicitly the `LdosMixing`, by selecting `mixing=SimpleMixing()`,\n",
    "the performance of number of required SCF steps starts to increase as we increase\n",
    "the size of the modelled problem:"
   ],
   "metadata": {}
  },
  {
   "outputs": [
    {
     "name": "stdout",
     "output_type": "stream",
     "text": [
      "┌ Warning: Skipping atomic property pseudopotential, which is not supported in ASE.\n",
      "└ @ ASEconvert ~/.julia/packages/ASEconvert/CNQ1A/src/ASEconvert.jl:123\n",
      "n     Energy            log10(ΔE)   log10(Δρ)   Diag   Δtime\n",
      "---   ---------------   ---------   ---------   ----   ------\n",
      "  1   -8.298557932600                   -0.85    5.0         \n",
      "  2   -8.300280692061       -2.76       -1.59    1.0   98.0ms\n",
      "  3   -8.300428818990       -3.83       -2.53    2.4    120ms\n",
      "  4   -8.300371003286   +   -4.24       -2.27    3.2    161ms\n",
      "  5   -8.300464152107       -4.03       -3.41    1.1    100ms\n",
      "  6   -8.300464535336       -6.42       -3.72    2.5    181ms\n",
      "  7   -8.300464635898       -7.00       -4.15    1.1   97.8ms\n"
     ]
    }
   ],
   "cell_type": "code",
   "source": [
    "self_consistent_field(aluminium_setup(1); tol=1e-4, mixing=SimpleMixing());"
   ],
   "metadata": {},
   "execution_count": 6
  },
  {
   "outputs": [
    {
     "name": "stdout",
     "output_type": "stream",
     "text": [
      "┌ Warning: Skipping atomic property pseudopotential, which is not supported in ASE.\n",
      "└ @ ASEconvert ~/.julia/packages/ASEconvert/CNQ1A/src/ASEconvert.jl:123\n",
      "n     Energy            log10(ΔE)   log10(Δρ)   Diag   Δtime\n",
      "---   ---------------   ---------   ---------   ----   ------\n",
      "  1   -33.32593889871                   -0.56    7.2         \n",
      "  2   -33.29173893084   +   -1.47       -1.26    1.2    937ms\n",
      "  3   +6.358339748175   +    1.60       -0.27    6.8    2.28s\n",
      "  4   -33.33381194581        1.60       -1.97    5.8    1.95s\n",
      "  5   -33.28261589138   +   -1.29       -1.46    4.1    1.73s\n",
      "  6   -33.17249707105   +   -0.96       -1.44    4.2    1.56s\n",
      "  7   -33.13359766389   +   -1.41       -1.40    5.6    1.67s\n",
      "  8   -33.33607638471       -0.69       -2.32    4.4    1.48s\n",
      "  9   -33.33339116449   +   -2.57       -2.18    2.5    1.25s\n",
      " 10   -33.33653446001       -2.50       -2.63    2.2    1.12s\n",
      " 11   -33.33689732920       -3.44       -3.10    3.5    1.19s\n",
      " 12   -33.33693975556       -4.37       -3.39    3.8    1.49s\n",
      " 13   -33.33694239261       -5.58       -3.47    2.8    1.18s\n",
      " 14   -33.33694307343       -6.17       -3.88    2.2    1.11s\n",
      " 15   -33.33694346971       -6.40       -4.22    2.2    1.15s\n"
     ]
    }
   ],
   "cell_type": "code",
   "source": [
    "self_consistent_field(aluminium_setup(4); tol=1e-4, mixing=SimpleMixing());"
   ],
   "metadata": {},
   "execution_count": 7
  },
  {
   "cell_type": "markdown",
   "source": [
    "For completion let us note that the more traditional `mixing=KerkerMixing()`\n",
    "approach would also help in this particular setting to obtain a constant\n",
    "number of SCF iterations for an increasing system size (try it!). In contrast\n",
    "to `LdosMixing`, however, `KerkerMixing` is only suitable to model bulk metallic\n",
    "system (like the case we are considering here). When modelling metallic surfaces\n",
    "or mixtures of metals and insulators, `KerkerMixing` fails, while `LdosMixing`\n",
    "still works well. See the Modelling a gallium arsenide surface example\n",
    "or [^HL2021] for details. Due to the general applicability of `LdosMixing` this\n",
    "method is the default mixing approach in DFTK."
   ],
   "metadata": {}
  }
 ],
 "nbformat_minor": 3,
 "metadata": {
  "language_info": {
   "file_extension": ".jl",
   "mimetype": "application/julia",
   "name": "julia",
   "version": "1.9.3"
  },
  "kernelspec": {
   "name": "julia-1.9",
   "display_name": "Julia 1.9.3",
   "language": "julia"
  }
 },
 "nbformat": 4
}
