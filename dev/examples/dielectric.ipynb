{
 "cells": [
  {
   "cell_type": "markdown",
   "source": [
    "# Eigenvalues of the dielectric matrix\n",
    "\n",
    "We compute a few eigenvalues of the dielectric matrix ($q=0$, $ω=0$) iteratively."
   ],
   "metadata": {}
  },
  {
   "outputs": [
    {
     "name": "stdout",
     "output_type": "stream",
     "text": [
      "n     Energy            log10(ΔE)   log10(Δρ)   Diag\n",
      "---   ---------------   ---------   ---------   ----\n",
      "  1   -7.234523616300                   -0.50    8.0\n",
      "  2   -7.250206895731       -1.80       -1.39    1.0\n",
      "  3   -7.251310322569       -2.96       -2.09    4.0\n",
      "  4   -7.251296233480   +   -4.85       -2.27    4.0\n",
      "  5   -7.251331119314       -4.46       -2.71    3.0\n",
      "  6   -7.251336448096       -5.27       -2.97    2.0\n",
      "  7   -7.251338762758       -5.64       -3.92    1.0\n",
      "  8   -7.251338788426       -7.59       -4.06    4.0\n",
      "  9   -7.251338798308       -8.01       -4.71    3.0\n",
      " 10   -7.251338798574       -9.58       -5.02    1.0\n",
      " 11   -7.251338798701       -9.90       -5.78    3.0\n",
      " 12   -7.251338798704      -11.47       -6.15    3.0\n",
      " 13   -7.251338798704      -12.57       -6.60    2.0\n",
      " 14   -7.251338798705      -13.13       -7.03    3.0\n",
      " 15   -7.251338798705      -13.94       -7.81    3.0\n",
      " 16   -7.251338798705      -14.57       -8.36    3.0\n"
     ]
    }
   ],
   "cell_type": "code",
   "source": [
    "using DFTK\n",
    "using Plots\n",
    "using KrylovKit\n",
    "using Printf\n",
    "\n",
    "# Calculation parameters\n",
    "kgrid = [1, 1, 1]\n",
    "Ecut = 5\n",
    "\n",
    "# Silicon lattice\n",
    "a = 10.26\n",
    "lattice = a / 2 .* [[0 1 1.]; [1 0 1.]; [1 1 0.]]\n",
    "Si = ElementPsp(:Si, psp=load_psp(\"hgh/lda/Si-q4\"))\n",
    "atoms     = [Si, Si]\n",
    "positions = [ones(3)/8, -ones(3)/8]\n",
    "\n",
    "# Compute the dielectric operator without symmetries\n",
    "model = model_LDA(lattice, atoms, positions, symmetries=false)\n",
    "basis = PlaneWaveBasis(model; Ecut, kgrid)\n",
    "scfres = self_consistent_field(basis, tol=1e-14);"
   ],
   "metadata": {},
   "execution_count": 1
  },
  {
   "cell_type": "markdown",
   "source": [
    "Applying $ε^† ≔ (1- χ_0 K)$ …"
   ],
   "metadata": {}
  },
  {
   "outputs": [],
   "cell_type": "code",
   "source": [
    "function eps_fun(δρ)\n",
    "    δV = apply_kernel(basis, δρ; ρ=scfres.ρ)\n",
    "    χ0δV = apply_χ0(scfres, δV)\n",
    "    δρ - χ0δV\n",
    "end;"
   ],
   "metadata": {},
   "execution_count": 2
  },
  {
   "cell_type": "markdown",
   "source": [
    "… eagerly diagonalizes the subspace matrix at each iteration"
   ],
   "metadata": {}
  },
  {
   "outputs": [
    {
     "name": "stdout",
     "output_type": "stream",
     "text": [
      "[ Info: Arnoldi iteration step 1: normres = 0.06646460493158168\n",
      "[ Info: Arnoldi iteration step 2: normres = 0.22600517225561173\n",
      "[ Info: Arnoldi iteration step 3: normres = 0.6392267341937111\n",
      "[ Info: Arnoldi iteration step 4: normres = 0.6830771901171617\n",
      "[ Info: Arnoldi iteration step 5: normres = 0.6401841040976396\n",
      "[ Info: Arnoldi schursolve in iter 1, krylovdim = 5: 0 values converged, normres = (2.51e-01, 7.04e-02, 5.37e-01, 2.28e-01, 4.30e-02)\n",
      "[ Info: Arnoldi iteration step 6: normres = 0.20757385266806738\n",
      "[ Info: Arnoldi schursolve in iter 1, krylovdim = 6: 0 values converged, normres = (4.62e-02, 1.41e-01, 8.87e-02, 1.00e-01, 1.55e-02)\n",
      "[ Info: Arnoldi iteration step 7: normres = 0.09471113535146315\n",
      "[ Info: Arnoldi schursolve in iter 1, krylovdim = 7: 0 values converged, normres = (2.06e-03, 1.14e-02, 5.89e-03, 4.50e-02, 7.91e-02)\n",
      "[ Info: Arnoldi iteration step 8: normres = 0.10511824228304247\n",
      "[ Info: Arnoldi schursolve in iter 1, krylovdim = 8: 0 values converged, normres = (9.18e-05, 8.26e-04, 4.74e-04, 1.36e-02, 4.48e-02)\n",
      "[ Info: Arnoldi iteration step 9: normres = 0.08150591536944003\n",
      "[ Info: Arnoldi schursolve in iter 1, krylovdim = 9: 0 values converged, normres = (3.30e-06, 4.94e-05, 3.17e-05, 4.42e-03, 4.10e-02)\n",
      "[ Info: Arnoldi iteration step 10: normres = 0.08246787372164188\n",
      "[ Info: Arnoldi schursolve in iter 1, krylovdim = 10: 0 values converged, normres = (1.19e-07, 2.97e-06, 2.12e-06, 1.37e-03, 3.35e-02)\n",
      "[ Info: Arnoldi iteration step 11: normres = 0.08725955541997259\n",
      "[ Info: Arnoldi schursolve in iter 1, krylovdim = 11: 0 values converged, normres = (4.50e-09, 1.85e-07, 1.46e-07, 4.13e-04, 2.28e-02)\n",
      "[ Info: Arnoldi iteration step 12: normres = 0.06839880498966357\n",
      "[ Info: Arnoldi schursolve in iter 1, krylovdim = 12: 0 values converged, normres = (1.32e-10, 8.87e-09, 7.79e-09, 8.86e-05, 9.80e-03)\n",
      "[ Info: Arnoldi iteration step 13: normres = 0.04501580546079548\n",
      "[ Info: Arnoldi schursolve in iter 1, krylovdim = 13: 0 values converged, normres = (2.55e-12, 2.81e-10, 2.74e-10, 1.24e-05, 2.76e-03)\n",
      "[ Info: Arnoldi iteration step 14: normres = 0.6659326657966572\n",
      "[ Info: Arnoldi schursolve in iter 1, krylovdim = 14: 1 values converged, normres = (8.61e-13, 1.76e-10, 1.97e-10, 5.53e-01, 3.42e-01)\n",
      "[ Info: Arnoldi iteration step 15: normres = 0.08176057829868057\n",
      "[ Info: Arnoldi schursolve in iter 1, krylovdim = 15: 1 values converged, normres = (5.66e-14, 9.78e-11, 6.68e-02, 3.30e-03, 1.15e-05)\n",
      "[ Info: Arnoldi iteration step 16: normres = 0.6303104906264464\n",
      "[ Info: Arnoldi schursolve in iter 1, krylovdim = 16: 1 values converged, normres = (2.96e-14, 2.37e-10, 1.80e-01, 2.65e-02, 6.02e-01)\n",
      "[ Info: Arnoldi iteration step 17: normres = 0.036431847649470724\n",
      "[ Info: Arnoldi schursolve in iter 1, krylovdim = 17: 1 values converged, normres = (5.68e-16, 2.40e-09, 1.39e-02, 4.74e-06, 9.34e-03)\n",
      "[ Info: Arnoldi iteration step 18: normres = 0.021111473366393897\n",
      "[ Info: Arnoldi schursolve in iter 1, krylovdim = 18: 1 values converged, normres = (5.01e-18, 2.56e-09, 1.97e-04, 1.60e-08, 1.45e-04)\n",
      "[ Info: Arnoldi iteration step 19: normres = 0.03050620757216517\n",
      "[ Info: Arnoldi schursolve in iter 1, krylovdim = 19: 1 values converged, normres = (6.27e-20, 3.92e-06, 2.78e-07, 3.17e-06, 2.46e-07)\n",
      "[ Info: Arnoldi iteration step 20: normres = 0.19678204910583924\n",
      "[ Info: Arnoldi schursolve in iter 1, krylovdim = 20: 1 values converged, normres = (5.72e-21, 1.77e-09, 6.20e-07, 5.96e-09, 5.65e-07)\n",
      "[ Info: Arnoldi iteration step 21: normres = 0.03317418267124125\n",
      "[ Info: Arnoldi schursolve in iter 1, krylovdim = 21: 1 values converged, normres = (8.43e-23, 2.56e-09, 1.52e-08, 3.00e-09, 1.55e-08)\n",
      "[ Info: Arnoldi iteration step 22: normres = 0.0376194328266058\n",
      "[ Info: Arnoldi schursolve in iter 1, krylovdim = 22: 1 values converged, normres = (1.31e-24, 3.23e-11, 3.85e-10, 6.06e-11, 4.30e-10)\n",
      "[ Info: Arnoldi iteration step 23: normres = 0.7061025391636779\n",
      "[ Info: Arnoldi schursolve in iter 1, krylovdim = 23: 1 values converged, normres = (5.28e-25, 2.70e-11, 3.20e-10, 6.19e-11, 4.28e-10)\n",
      "[ Info: Arnoldi iteration step 24: normres = 0.021860243759915358\n",
      "[ Info: Arnoldi schursolve in iter 1, krylovdim = 24: 1 values converged, normres = (7.97e-27, 2.34e-12, 2.77e-11, 6.37e-10, 8.22e-09)\n",
      "[ Info: Arnoldi iteration step 25: normres = 0.017931533832783016\n",
      "[ Info: Arnoldi schursolve in iter 1, krylovdim = 25: 3 values converged, normres = (5.86e-29, 2.75e-14, 3.26e-13, 6.76e-09, 3.76e-08)\n",
      "[ Info: Arnoldi iteration step 26: normres = 0.11859803304009607\n",
      "[ Info: Arnoldi schursolve in iter 1, krylovdim = 26: 3 values converged, normres = (3.01e-30, 2.33e-15, 2.76e-14, 9.83e-10, 8.55e-09)\n",
      "[ Info: Arnoldi iteration step 27: normres = 0.03781858928587268\n",
      "[ Info: Arnoldi schursolve in iter 1, krylovdim = 27: 3 values converged, normres = (4.89e-32, 6.21e-17, 7.36e-16, 4.76e-07, 7.01e-08)\n",
      "[ Info: Arnoldi iteration step 28: normres = 0.09531914619242127\n",
      "[ Info: Arnoldi schursolve in iter 1, krylovdim = 28: 3 values converged, normres = (2.03e-33, 4.25e-18, 5.04e-17, 2.82e-08, 3.11e-08)\n",
      "[ Info: Arnoldi iteration step 29: normres = 0.01817304372649859\n",
      "[ Info: Arnoldi schursolve in iter 1, krylovdim = 29: 3 values converged, normres = (1.56e-35, 5.30e-20, 6.29e-19, 2.37e-10, 5.42e-10)\n",
      "[ Info: Arnoldi iteration step 30: normres = 0.07125845522233654\n",
      "[ Info: Arnoldi schursolve in iter 1, krylovdim = 30: 3 values converged, normres = (4.60e-37, 2.51e-21, 2.98e-20, 1.13e-11, 2.87e-11)\n",
      "[ Info: Arnoldi schursolve in iter 2, krylovdim = 19: 3 values converged, normres = (4.60e-37, 2.51e-21, 2.98e-20, 1.13e-11, 2.87e-11)\n",
      "[ Info: Arnoldi iteration step 20: normres = 0.17014920825992647\n",
      "[ Info: Arnoldi schursolve in iter 2, krylovdim = 20: 3 values converged, normres = (3.56e-38, 3.30e-22, 3.92e-21, 1.67e-12, 4.23e-12)\n",
      "[ Info: Arnoldi iteration step 21: normres = 0.09296925693255362\n",
      "┌ Info: Arnoldi eigsolve finished after 2 iterations:\n",
      "│ *  6 eigenvalues converged\n",
      "│ *  norm of residuals = (1.5600020078644814e-39, 2.5245002820649225e-23, 2.9326148449614905e-22, 1.4461989019801646e-13, 1.4873473177918238e-13, 1.1683611828295846e-13)\n",
      "└ *  number of operations = 32\n"
     ]
    }
   ],
   "cell_type": "code",
   "source": [
    "eigsolve(eps_fun, randn(size(scfres.ρ)), 5, :LM; eager=true, verbosity=3);"
   ],
   "metadata": {},
   "execution_count": 3
  }
 ],
 "nbformat_minor": 3,
 "metadata": {
  "language_info": {
   "file_extension": ".jl",
   "mimetype": "application/julia",
   "name": "julia",
   "version": "1.8.2"
  },
  "kernelspec": {
   "name": "julia-1.8",
   "display_name": "Julia 1.8.2",
   "language": "julia"
  }
 },
 "nbformat": 4
}
