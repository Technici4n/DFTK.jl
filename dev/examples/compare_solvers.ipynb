{
 "cells": [
  {
   "cell_type": "markdown",
   "source": [
    "# Comparison of DFT solvers"
   ],
   "metadata": {}
  },
  {
   "cell_type": "markdown",
   "source": [
    "We compare four different approaches for solving the DFT minimisation problem,\n",
    "namely a density-based SCF, a potential-based SCF, direct minimisation and Newton."
   ],
   "metadata": {}
  },
  {
   "cell_type": "markdown",
   "source": [
    "First we setup our problem"
   ],
   "metadata": {}
  },
  {
   "outputs": [
    {
     "output_type": "execute_result",
     "data": {
      "text/plain": "1.0e-6"
     },
     "metadata": {},
     "execution_count": 1
    }
   ],
   "cell_type": "code",
   "source": [
    "using DFTK\n",
    "using LinearAlgebra\n",
    "\n",
    "a = 10.26  # Silicon lattice constant in Bohr\n",
    "lattice = a / 2 * [[0 1 1.];\n",
    "                   [1 0 1.];\n",
    "                   [1 1 0.]]\n",
    "Si = ElementPsp(:Si, psp=load_psp(\"hgh/lda/Si-q4\"))\n",
    "atoms     = [Si, Si]\n",
    "positions = [ones(3)/8, -ones(3)/8]\n",
    "\n",
    "model = model_LDA(lattice, atoms, positions)\n",
    "basis = PlaneWaveBasis(model; Ecut=5, kgrid=[3, 3, 3])\n",
    "\n",
    "# Convergence we desire in the density\n",
    "tol = 1e-6"
   ],
   "metadata": {},
   "execution_count": 1
  },
  {
   "cell_type": "markdown",
   "source": [
    "## Density-based self-consistent field"
   ],
   "metadata": {}
  },
  {
   "outputs": [
    {
     "name": "stdout",
     "output_type": "stream",
     "text": [
      "n     Energy            log10(ΔE)   log10(Δρ)   Diag   Δtime\n",
      "---   ---------------   ---------   ---------   ----   ------\n",
      "  1   -7.846822103458                   -0.70    4.5         \n",
      "  2   -7.852302092044       -2.26       -1.53    1.0   31.0ms\n",
      "  3   -7.852614443193       -3.51       -2.55    1.5   33.5ms\n",
      "  4   -7.852645953057       -4.50       -2.87    2.8   42.5ms\n",
      "  5   -7.852646496777       -6.26       -3.17    1.0   31.3ms\n",
      "  6   -7.852646679824       -6.74       -4.08    1.0   31.0ms\n",
      "  7   -7.852646686662       -8.17       -5.10    2.0   40.7ms\n",
      "  8   -7.852646686723      -10.21       -5.42    1.8   37.1ms\n",
      "  9   -7.852646686729      -11.21       -6.00    1.2   33.6ms\n"
     ]
    }
   ],
   "cell_type": "code",
   "source": [
    "scfres_scf = self_consistent_field(basis; tol);"
   ],
   "metadata": {},
   "execution_count": 2
  },
  {
   "cell_type": "markdown",
   "source": [
    "## Potential-based SCF"
   ],
   "metadata": {}
  },
  {
   "outputs": [
    {
     "name": "stdout",
     "output_type": "stream",
     "text": [
      "n     Energy            log10(ΔE)   log10(Δρ)   α      Diag   Δtime\n",
      "---   ---------------   ---------   ---------   ----   ----   ------\n",
      "  1   -7.846724557801                   -0.70           4.5         \n",
      "  2   -7.852553399518       -2.23       -1.63   0.80    2.0    339ms\n",
      "  3   -7.852639399202       -4.07       -2.74   0.80    1.0   28.1ms\n",
      "  4   -7.852646575014       -5.14       -3.37   0.80    1.8   35.3ms\n",
      "  5   -7.852646679106       -6.98       -4.25   0.80    1.2    125ms\n",
      "  6   -7.852646686604       -8.13       -4.81   0.80    2.2   36.2ms\n",
      "  7   -7.852646686723       -9.93       -5.72   0.80    1.2   30.4ms\n",
      "  8   -7.852646686730      -11.16       -7.16   0.80    2.2   35.3ms\n"
     ]
    }
   ],
   "cell_type": "code",
   "source": [
    "scfres_scfv = DFTK.scf_potential_mixing(basis; tol);"
   ],
   "metadata": {},
   "execution_count": 3
  },
  {
   "cell_type": "markdown",
   "source": [
    "## Direct minimization\n",
    "Note: Unlike the other algorithms, tolerance for this one is in the energy,\n",
    "thus we square the density tolerance value to be roughly equivalent."
   ],
   "metadata": {}
  },
  {
   "outputs": [
    {
     "name": "stdout",
     "output_type": "stream",
     "text": [
      "Iter     Function value   Gradient norm \n",
      "     0     1.374758e+01     3.973042e+00\n",
      " * time: 0.4497530460357666\n",
      "     1     1.390111e+00     2.159902e+00\n",
      " * time: 0.673893928527832\n",
      "     2    -1.281260e+00     2.581731e+00\n",
      " * time: 0.703524112701416\n",
      "     3    -3.549023e+00     2.263422e+00\n",
      " * time: 0.7468369007110596\n",
      "     4    -4.693272e+00     2.043200e+00\n",
      " * time: 0.789370059967041\n",
      "     5    -6.622422e+00     1.027231e+00\n",
      " * time: 0.8327810764312744\n",
      "     6    -7.384739e+00     4.601704e-01\n",
      " * time: 0.8757550716400146\n",
      "     7    -7.680842e+00     1.672786e-01\n",
      " * time: 0.905689001083374\n",
      "     8    -7.762391e+00     1.202458e-01\n",
      " * time: 0.9353930950164795\n",
      "     9    -7.794198e+00     9.425547e-02\n",
      " * time: 0.9657280445098877\n",
      "    10    -7.817966e+00     1.052326e-01\n",
      " * time: 0.9962821006774902\n",
      "    11    -7.836844e+00     7.002851e-02\n",
      " * time: 1.0267109870910645\n",
      "    12    -7.846191e+00     3.502849e-02\n",
      " * time: 1.0574800968170166\n",
      "    13    -7.850858e+00     2.438761e-02\n",
      " * time: 1.0885319709777832\n",
      "    14    -7.851962e+00     1.763391e-02\n",
      " * time: 1.118556022644043\n",
      "    15    -7.852418e+00     5.513603e-03\n",
      " * time: 1.1487069129943848\n",
      "    16    -7.852591e+00     3.098711e-03\n",
      " * time: 1.1789751052856445\n",
      "    17    -7.852632e+00     2.788995e-03\n",
      " * time: 1.2094860076904297\n",
      "    18    -7.852643e+00     1.205834e-03\n",
      " * time: 1.2395939826965332\n",
      "    19    -7.852646e+00     6.245268e-04\n",
      " * time: 1.2696409225463867\n",
      "    20    -7.852646e+00     2.513902e-04\n",
      " * time: 1.2997159957885742\n",
      "    21    -7.852647e+00     1.716657e-04\n",
      " * time: 1.3304851055145264\n",
      "    22    -7.852647e+00     1.602676e-04\n",
      " * time: 1.360503911972046\n",
      "    23    -7.852647e+00     6.787216e-05\n",
      " * time: 1.3907570838928223\n",
      "    24    -7.852647e+00     4.631596e-05\n",
      " * time: 1.4210700988769531\n",
      "    25    -7.852647e+00     1.916530e-05\n",
      " * time: 1.4520480632781982\n",
      "    26    -7.852647e+00     1.280120e-05\n",
      " * time: 1.4826059341430664\n",
      "    27    -7.852647e+00     8.630007e-06\n",
      " * time: 1.513495922088623\n",
      "    28    -7.852647e+00     3.823047e-06\n",
      " * time: 1.5441200733184814\n",
      "    29    -7.852647e+00     3.017724e-06\n",
      " * time: 1.5742449760437012\n",
      "    30    -7.852647e+00     1.973234e-06\n",
      " * time: 1.6048269271850586\n",
      "    31    -7.852647e+00     7.892128e-07\n",
      " * time: 1.6360340118408203\n",
      "    32    -7.852647e+00     6.448288e-07\n",
      " * time: 1.6667890548706055\n",
      "    33    -7.852647e+00     3.621914e-07\n",
      " * time: 1.6973540782928467\n",
      "    34    -7.852647e+00     1.729548e-07\n",
      " * time: 1.7288329601287842\n",
      "    35    -7.852647e+00     1.101870e-07\n",
      " * time: 1.7588651180267334\n",
      "    36    -7.852647e+00     8.278066e-08\n",
      " * time: 1.788417100906372\n",
      "    37    -7.852647e+00     4.990244e-08\n",
      " * time: 1.818730115890503\n",
      "    38    -7.852647e+00     2.354303e-08\n",
      " * time: 1.8493571281433105\n",
      "    39    -7.852647e+00     1.136532e-08\n",
      " * time: 1.8797390460968018\n",
      "    40    -7.852647e+00     6.887650e-09\n",
      " * time: 1.922792911529541\n",
      "    41    -7.852647e+00     3.708010e-09\n",
      " * time: 1.9530749320983887\n",
      "    42    -7.852647e+00     3.708010e-09\n",
      " * time: 2.1785659790039062\n"
     ]
    }
   ],
   "cell_type": "code",
   "source": [
    "scfres_dm = direct_minimization(basis; tol=tol^2);"
   ],
   "metadata": {},
   "execution_count": 4
  },
  {
   "cell_type": "markdown",
   "source": [
    "## Newton algorithm"
   ],
   "metadata": {}
  },
  {
   "cell_type": "markdown",
   "source": [
    "Start not too far from the solution to ensure convergence:\n",
    "We run first a very crude SCF to get close and then switch to Newton."
   ],
   "metadata": {}
  },
  {
   "outputs": [
    {
     "name": "stdout",
     "output_type": "stream",
     "text": [
      "n     Energy            log10(ΔE)   log10(Δρ)   Diag   Δtime\n",
      "---   ---------------   ---------   ---------   ----   ------\n",
      "  1   -7.846897415551                   -0.70    4.8         \n"
     ]
    }
   ],
   "cell_type": "code",
   "source": [
    "scfres_start = self_consistent_field(basis; tol=0.5);"
   ],
   "metadata": {},
   "execution_count": 5
  },
  {
   "cell_type": "markdown",
   "source": [
    "Remove the virtual orbitals (which Newton cannot treat yet)"
   ],
   "metadata": {}
  },
  {
   "outputs": [
    {
     "name": "stdout",
     "output_type": "stream",
     "text": [
      "n     Energy            log10(ΔE)   log10(Δρ)   Δtime\n",
      "---   ---------------   ---------   ---------   ------\n",
      "  1   -7.852645908260                   -1.64         \n",
      "  2   -7.852646686730       -6.11       -3.71    1.81s\n",
      "  3   -7.852646686730      -13.31       -7.24    186ms\n"
     ]
    }
   ],
   "cell_type": "code",
   "source": [
    "ψ = DFTK.select_occupied_orbitals(basis, scfres_start.ψ, scfres_start.occupation).ψ\n",
    "scfres_newton = newton(basis, ψ; tol);"
   ],
   "metadata": {},
   "execution_count": 6
  },
  {
   "cell_type": "markdown",
   "source": [
    "## Comparison of results"
   ],
   "metadata": {}
  },
  {
   "outputs": [
    {
     "name": "stdout",
     "output_type": "stream",
     "text": [
      "|ρ_newton - ρ_scf|  = 7.154400760943968e-7\n",
      "|ρ_newton - ρ_scfv| = 7.272914224421655e-8\n",
      "|ρ_newton - ρ_dm|   = 1.0484725732063504e-9\n"
     ]
    }
   ],
   "cell_type": "code",
   "source": [
    "println(\"|ρ_newton - ρ_scf|  = \", norm(scfres_newton.ρ - scfres_scf.ρ))\n",
    "println(\"|ρ_newton - ρ_scfv| = \", norm(scfres_newton.ρ - scfres_scfv.ρ))\n",
    "println(\"|ρ_newton - ρ_dm|   = \", norm(scfres_newton.ρ - scfres_dm.ρ))"
   ],
   "metadata": {},
   "execution_count": 7
  }
 ],
 "nbformat_minor": 3,
 "metadata": {
  "language_info": {
   "file_extension": ".jl",
   "mimetype": "application/julia",
   "name": "julia",
   "version": "1.8.4"
  },
  "kernelspec": {
   "name": "julia-1.8",
   "display_name": "Julia 1.8.4",
   "language": "julia"
  }
 },
 "nbformat": 4
}
