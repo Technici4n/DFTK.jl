{
 "cells": [
  {
   "cell_type": "markdown",
   "source": [
    "# Eigenvalues of the dielectric matrix\n",
    "\n",
    "We compute a few eigenvalues of the dielectric matrix ($q=0$, $ω=0$) iteratively."
   ],
   "metadata": {}
  },
  {
   "outputs": [
    {
     "name": "stdout",
     "output_type": "stream",
     "text": [
      "n     Energy            log10(ΔE)   log10(Δρ)   Diag\n",
      "---   ---------------   ---------   ---------   ----\n",
      "  1   -7.235543830561                   -0.50    8.0\n",
      "  2   -7.250371983163       -1.83       -1.41    1.0\n",
      "  3   -7.251241656789       -3.06       -2.06    4.0\n",
      "  4   -7.251054575114   +   -3.73       -1.94    4.0\n",
      "  5   -7.251336163377       -3.55       -2.92    3.0\n",
      "  6   -7.251338459568       -5.64       -3.29    3.0\n",
      "  7   -7.251338796225       -6.47       -4.28    3.0\n",
      "  8   -7.251338797873       -8.78       -4.58    4.0\n",
      "  9   -7.251338798674       -9.10       -5.19    2.0\n",
      " 10   -7.251338798700      -10.58       -5.72    3.0\n",
      " 11   -7.251338798704      -11.52       -6.07    3.0\n",
      " 12   -7.251338798705      -12.02       -6.70    2.0\n",
      " 13   -7.251338798705      -13.60       -7.19    4.0\n",
      " 14   -7.251338798705      -14.45       -7.52    1.0\n"
     ]
    }
   ],
   "cell_type": "code",
   "source": [
    "using DFTK\n",
    "using Plots\n",
    "using KrylovKit\n",
    "using Printf\n",
    "\n",
    "# Calculation parameters\n",
    "kgrid = [1, 1, 1]\n",
    "Ecut = 5\n",
    "\n",
    "# Silicon lattice\n",
    "a = 10.26\n",
    "lattice = a / 2 .* [[0 1 1.]; [1 0 1.]; [1 1 0.]]\n",
    "Si = ElementPsp(:Si, psp=load_psp(\"hgh/lda/Si-q4\"))\n",
    "atoms     = [Si, Si]\n",
    "positions = [ones(3)/8, -ones(3)/8]\n",
    "\n",
    "# Compute the dielectric operator without symmetries\n",
    "model = model_LDA(lattice, atoms, positions, symmetries=false)\n",
    "basis = PlaneWaveBasis(model; Ecut, kgrid)\n",
    "scfres = self_consistent_field(basis, tol=1e-14);"
   ],
   "metadata": {},
   "execution_count": 1
  },
  {
   "cell_type": "markdown",
   "source": [
    "Applying $ε^† ≔ (1- χ_0 K)$ …"
   ],
   "metadata": {}
  },
  {
   "outputs": [],
   "cell_type": "code",
   "source": [
    "function eps_fun(δρ)\n",
    "    δV = apply_kernel(basis, δρ; ρ=scfres.ρ)\n",
    "    χ0δV = apply_χ0(scfres, δV)\n",
    "    δρ - χ0δV\n",
    "end;"
   ],
   "metadata": {},
   "execution_count": 2
  },
  {
   "cell_type": "markdown",
   "source": [
    "… eagerly diagonalizes the subspace matrix at each iteration"
   ],
   "metadata": {}
  },
  {
   "outputs": [
    {
     "name": "stdout",
     "output_type": "stream",
     "text": [
      "[ Info: Arnoldi iteration step 1: normres = 0.052837734241749285\n",
      "[ Info: Arnoldi iteration step 2: normres = 0.32558532160094145\n",
      "[ Info: Arnoldi iteration step 3: normres = 0.3739594140103874\n",
      "[ Info: Arnoldi iteration step 4: normres = 0.8412931941302195\n",
      "[ Info: Arnoldi iteration step 5: normres = 0.7200506542348295\n",
      "[ Info: Arnoldi schursolve in iter 1, krylovdim = 5: 0 values converged, normres = (4.30e-01, 8.78e-02, 5.20e-01, 2.35e-01, 1.51e-02)\n",
      "[ Info: Arnoldi iteration step 6: normres = 0.29543813023392956\n",
      "[ Info: Arnoldi schursolve in iter 1, krylovdim = 6: 0 values converged, normres = (1.23e-01, 1.62e-01, 1.54e-01, 1.07e-01, 3.41e-02)\n",
      "[ Info: Arnoldi iteration step 7: normres = 0.09902590775995564\n",
      "[ Info: Arnoldi schursolve in iter 1, krylovdim = 7: 0 values converged, normres = (5.95e-03, 1.51e-02, 1.13e-02, 6.02e-02, 7.20e-02)\n",
      "[ Info: Arnoldi iteration step 8: normres = 0.11793180457404419\n",
      "[ Info: Arnoldi schursolve in iter 1, krylovdim = 8: 0 values converged, normres = (3.07e-04, 1.30e-03, 1.08e-03, 2.60e-02, 5.45e-02)\n",
      "[ Info: Arnoldi iteration step 9: normres = 0.07132535805077356\n",
      "[ Info: Arnoldi schursolve in iter 1, krylovdim = 9: 0 values converged, normres = (9.46e-06, 6.60e-05, 6.09e-05, 6.53e-03, 3.08e-02)\n",
      "[ Info: Arnoldi iteration step 10: normres = 0.08511886590549145\n",
      "[ Info: Arnoldi schursolve in iter 1, krylovdim = 10: 0 values converged, normres = (3.55e-07, 4.14e-06, 4.25e-06, 2.17e-03, 2.40e-02)\n",
      "[ Info: Arnoldi iteration step 11: normres = 0.07413364860113068\n",
      "[ Info: Arnoldi schursolve in iter 1, krylovdim = 11: 0 values converged, normres = (1.13e-08, 2.15e-07, 2.45e-07, 5.00e-04, 1.15e-02)\n",
      "[ Info: Arnoldi iteration step 12: normres = 0.07665183819259759\n",
      "[ Info: Arnoldi schursolve in iter 1, krylovdim = 12: 0 values converged, normres = (3.72e-10, 1.17e-08, 1.48e-08, 1.23e-04, 6.03e-03)\n",
      "[ Info: Arnoldi iteration step 13: normres = 0.06999310421768241\n",
      "[ Info: Arnoldi schursolve in iter 1, krylovdim = 13: 0 values converged, normres = (1.11e-11, 5.64e-10, 7.90e-10, 2.51e-05, 2.35e-03)\n",
      "[ Info: Arnoldi iteration step 14: normres = 0.49094240731487687\n",
      "[ Info: Arnoldi schursolve in iter 1, krylovdim = 14: 0 values converged, normres = (4.26e-12, 7.56e-10, 1.72e-09, 4.88e-01, 6.08e-03)\n",
      "[ Info: Arnoldi iteration step 15: normres = 0.12340641664280641\n",
      "[ Info: Arnoldi schursolve in iter 1, krylovdim = 15: 1 values converged, normres = (2.69e-13, 1.87e-10, 4.81e-02, 8.66e-04, 8.17e-06)\n",
      "[ Info: Arnoldi iteration step 16: normres = 0.2809439040202799\n",
      "[ Info: Arnoldi schursolve in iter 1, krylovdim = 16: 1 values converged, normres = (7.77e-14, 9.92e-10, 2.62e-01, 5.21e-02, 8.15e-02)\n",
      "[ Info: Arnoldi iteration step 17: normres = 0.03263881284933222\n",
      "[ Info: Arnoldi schursolve in iter 1, krylovdim = 17: 1 values converged, normres = (1.10e-15, 1.57e-08, 5.71e-03, 1.77e-06, 2.49e-03)\n",
      "[ Info: Arnoldi iteration step 18: normres = 0.021039152867651262\n",
      "[ Info: Arnoldi schursolve in iter 1, krylovdim = 18: 1 values converged, normres = (9.62e-18, 2.34e-08, 7.98e-05, 2.23e-08, 3.81e-05)\n",
      "[ Info: Arnoldi iteration step 19: normres = 0.13017322738026493\n",
      "[ Info: Arnoldi schursolve in iter 1, krylovdim = 19: 1 values converged, normres = (5.22e-19, 1.02e-06, 6.90e-06, 3.67e-06, 1.30e-07)\n",
      "[ Info: Arnoldi iteration step 20: normres = 0.09741451596863322\n",
      "[ Info: Arnoldi schursolve in iter 1, krylovdim = 20: 1 values converged, normres = (2.50e-20, 2.53e-08, 6.02e-07, 3.70e-08, 3.60e-07)\n",
      "[ Info: Arnoldi iteration step 21: normres = 0.022875821916547082\n",
      "[ Info: Arnoldi schursolve in iter 1, krylovdim = 21: 1 values converged, normres = (2.40e-22, 9.22e-09, 1.53e-09, 5.72e-09, 2.41e-09)\n",
      "[ Info: Arnoldi iteration step 22: normres = 0.06157143894175512\n",
      "[ Info: Arnoldi schursolve in iter 1, krylovdim = 22: 1 values converged, normres = (6.06e-24, 3.18e-10, 2.01e-10, 2.65e-10, 7.18e-11)\n",
      "[ Info: Arnoldi iteration step 23: normres = 0.37429767051147544\n",
      "[ Info: Arnoldi schursolve in iter 1, krylovdim = 23: 1 values converged, normres = (1.98e-24, 4.90e-10, 3.44e-10, 1.04e-09, 3.04e-10)\n",
      "[ Info: Arnoldi iteration step 24: normres = 0.016543597218374867\n",
      "[ Info: Arnoldi schursolve in iter 1, krylovdim = 24: 1 values converged, normres = (1.47e-26, 9.13e-12, 5.86e-12, 1.23e-03, 2.86e-03)\n",
      "[ Info: Arnoldi iteration step 25: normres = 0.06506298776606172\n",
      "[ Info: Arnoldi schursolve in iter 1, krylovdim = 25: 3 values converged, normres = (3.93e-28, 3.90e-13, 2.51e-13, 3.58e-08, 3.64e-09)\n",
      "[ Info: Arnoldi iteration step 26: normres = 0.05025451934727069\n",
      "[ Info: Arnoldi schursolve in iter 1, krylovdim = 26: 3 values converged, normres = (8.91e-30, 1.50e-14, 9.61e-15, 5.20e-09, 1.33e-09)\n",
      "[ Info: Arnoldi iteration step 27: normres = 0.030043180244176192\n",
      "[ Info: Arnoldi schursolve in iter 1, krylovdim = 27: 3 values converged, normres = (1.10e-31, 2.95e-16, 1.90e-16, 1.21e-07, 1.26e-07)\n",
      "[ Info: Arnoldi iteration step 28: normres = 0.08736604624229055\n",
      "[ Info: Arnoldi schursolve in iter 1, krylovdim = 28: 3 values converged, normres = (4.18e-33, 1.85e-17, 1.19e-17, 7.40e-09, 1.15e-08)\n",
      "[ Info: Arnoldi iteration step 29: normres = 0.03513594695646832\n",
      "[ Info: Arnoldi schursolve in iter 1, krylovdim = 29: 3 values converged, normres = (6.18e-35, 4.43e-19, 2.84e-19, 1.79e-10, 2.99e-10)\n",
      "[ Info: Arnoldi iteration step 30: normres = 0.14620397455565592\n",
      "[ Info: Arnoldi schursolve in iter 1, krylovdim = 30: 3 values converged, normres = (4.41e-36, 5.67e-20, 3.64e-20, 2.65e-11, 4.33e-11)\n",
      "[ Info: Arnoldi schursolve in iter 2, krylovdim = 19: 3 values converged, normres = (4.41e-36, 5.67e-20, 3.64e-20, 2.65e-11, 4.33e-11)\n",
      "[ Info: Arnoldi iteration step 20: normres = 0.03226258786548178\n",
      "[ Info: Arnoldi schursolve in iter 2, krylovdim = 20: 4 values converged, normres = (6.01e-38, 1.26e-21, 8.07e-22, 6.47e-13, 1.07e-12)\n",
      "[ Info: Arnoldi iteration step 21: normres = 0.0755314711660359\n",
      "┌ Info: Arnoldi eigsolve finished after 2 iterations:\n",
      "│ *  6 eigenvalues converged\n",
      "│ *  norm of residuals = (1.930646122057681e-39, 6.583111689180667e-23, 3.465079017115929e-23, 3.75238996644152e-14, 6.606768761706603e-14, 1.5817213893320187e-14)\n",
      "└ *  number of operations = 32\n"
     ]
    }
   ],
   "cell_type": "code",
   "source": [
    "eigsolve(eps_fun, randn(size(scfres.ρ)), 5, :LM; eager=true, verbosity=3);"
   ],
   "metadata": {},
   "execution_count": 3
  }
 ],
 "nbformat_minor": 3,
 "metadata": {
  "language_info": {
   "file_extension": ".jl",
   "mimetype": "application/julia",
   "name": "julia",
   "version": "1.8.2"
  },
  "kernelspec": {
   "name": "julia-1.8",
   "display_name": "Julia 1.8.2",
   "language": "julia"
  }
 },
 "nbformat": 4
}
