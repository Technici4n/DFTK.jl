{
 "cells": [
  {
   "cell_type": "markdown",
   "source": [
    "# Comparison of DFT solvers"
   ],
   "metadata": {}
  },
  {
   "cell_type": "markdown",
   "source": [
    "We compare four different approaches for solving the DFT minimisation problem,\n",
    "namely a density-based SCF, a potential-based SCF, direct minimisation and Newton."
   ],
   "metadata": {}
  },
  {
   "cell_type": "markdown",
   "source": [
    "First we setup our problem"
   ],
   "metadata": {}
  },
  {
   "outputs": [],
   "cell_type": "code",
   "source": [
    "using DFTK\n",
    "using LinearAlgebra\n",
    "\n",
    "a = 10.26  # Silicon lattice constant in Bohr\n",
    "lattice = a / 2 * [[0 1 1.];\n",
    "                   [1 0 1.];\n",
    "                   [1 1 0.]]\n",
    "Si = ElementPsp(:Si, psp=load_psp(\"hgh/lda/Si-q4\"))\n",
    "atoms     = [Si, Si]\n",
    "positions = [ones(3)/8, -ones(3)/8]\n",
    "\n",
    "model = model_LDA(lattice, atoms, positions)\n",
    "basis = PlaneWaveBasis(model; Ecut=5, kgrid=[3, 3, 3])\n",
    "\n",
    "# Convergence we desire\n",
    "tol = 1e-12\n",
    "is_converged = DFTK.ScfConvergenceDensity(tol);"
   ],
   "metadata": {},
   "execution_count": 1
  },
  {
   "cell_type": "markdown",
   "source": [
    "## Density-based self-consistent field"
   ],
   "metadata": {}
  },
  {
   "outputs": [
    {
     "name": "stdout",
     "output_type": "stream",
     "text": [
      "n     Energy            log10(ΔE)   log10(Δρ)   Diag\n",
      "---   ---------------   ---------   ---------   ----\n",
      "  1   -7.846826292999                   -0.70    4.8\n",
      "  2   -7.852314911416       -2.26       -1.53    1.0\n",
      "  3   -7.852646217768       -3.48       -2.52    3.2\n",
      "  4   -7.852646677836       -6.34       -3.37    2.0\n",
      "  5   -7.852646685855       -8.10       -4.72    1.2\n",
      "  6   -7.852646686723       -9.06       -5.22    3.5\n",
      "  7   -7.852646686730      -11.19       -6.22    1.5\n",
      "  8   -7.852646686730      -12.69       -7.53    2.2\n",
      "  9   -7.852646686730      -14.75       -7.69    2.2\n",
      " 10   -7.852646686730   +    -Inf       -8.68    2.0\n",
      " 11   -7.852646686730   +    -Inf       -9.43    2.0\n",
      " 12   -7.852646686730   +  -14.45      -10.38    2.2\n",
      " 13   -7.852646686730      -14.75       -9.59    1.0\n",
      " 14   -7.852646686730      -14.75       -9.35    1.2\n",
      " 15   -7.852646686730   +    -Inf       -9.76    1.0\n",
      " 16   -7.852646686730   +  -14.45       -9.68    1.0\n",
      " 17   -7.852646686730      -14.21      -10.75    1.0\n",
      " 18   -7.852646686730   +  -14.15      -11.17    2.0\n",
      " 19   -7.852646686730      -14.57      -10.90    1.0\n",
      " 20   -7.852646686730   +  -14.75      -11.68    1.0\n",
      " 21   -7.852646686730      -14.57      -12.09    1.0\n"
     ]
    }
   ],
   "cell_type": "code",
   "source": [
    "scfres_scf = self_consistent_field(basis; is_converged);"
   ],
   "metadata": {},
   "execution_count": 2
  },
  {
   "cell_type": "markdown",
   "source": [
    "## Potential-based SCF"
   ],
   "metadata": {}
  },
  {
   "outputs": [
    {
     "name": "stdout",
     "output_type": "stream",
     "text": [
      "n     Energy            log10(ΔE)   log10(Δρ)   α      Diag\n",
      "---   ---------------   ---------   ---------   ----   ----\n",
      "  1   -7.846749508361                   -0.70           4.8\n",
      "  2   -7.852550497239       -2.24       -1.63   0.80    2.0\n",
      "  3   -7.852638082853       -4.06       -2.74   0.80    1.0\n",
      "  4   -7.852646444189       -5.08       -3.34   0.80    2.0\n",
      "  5   -7.852646670131       -6.65       -4.17   0.80    1.2\n",
      "  6   -7.852646686387       -7.79       -4.70   0.80    1.8\n",
      "  7   -7.852646686712       -9.49       -5.52   0.80    1.2\n",
      "  8   -7.852646686730      -10.75       -6.24   0.80    2.0\n",
      "  9   -7.852646686730      -12.61       -7.69   0.80    1.8\n",
      " 10   -7.852646686730      -13.80       -8.54   0.80    2.8\n",
      " 11   -7.852646686730   +  -15.05       -9.04   0.80    2.0\n",
      " 12   -7.852646686730      -15.05       -9.81   0.80    1.5\n",
      " 13   -7.852646686730   +  -15.05       -9.96   0.80    2.2\n",
      " 14   -7.852646686730      -15.05      -10.96   0.80    1.0\n",
      " 15   -7.852646686730      -15.05      -11.29   0.80    2.0\n",
      " 16   -7.852646686730   +  -14.45      -11.67   0.80    1.2\n",
      " 17   -7.852646686730      -14.57      -13.07   0.80    1.2\n"
     ]
    }
   ],
   "cell_type": "code",
   "source": [
    "scfres_scfv = DFTK.scf_potential_mixing(basis; is_converged);"
   ],
   "metadata": {},
   "execution_count": 3
  },
  {
   "cell_type": "markdown",
   "source": [
    "## Direct minimization"
   ],
   "metadata": {}
  },
  {
   "outputs": [
    {
     "name": "stdout",
     "output_type": "stream",
     "text": [
      "Iter     Function value   Gradient norm \n",
      "     0     1.398023e+01     3.487827e+00\n",
      " * time: 0.5154929161071777\n",
      "     1     1.284146e+00     1.875688e+00\n",
      " * time: 0.7912449836730957\n",
      "     2    -1.973630e+00     1.837036e+00\n",
      " * time: 0.8193328380584717\n",
      "     3    -3.975799e+00     1.600702e+00\n",
      " * time: 0.859889030456543\n",
      "     4    -5.488606e+00     1.453389e+00\n",
      " * time: 0.9020228385925293\n",
      "     5    -7.079678e+00     8.082662e-01\n",
      " * time: 0.9437038898468018\n",
      "     6    -7.248951e+00     9.653748e-01\n",
      " * time: 0.9716529846191406\n",
      "     7    -7.674305e+00     5.440029e-01\n",
      " * time: 0.9997508525848389\n",
      "     8    -7.780056e+00     2.474160e-01\n",
      " * time: 1.0307269096374512\n",
      "     9    -7.819809e+00     7.655316e-02\n",
      " * time: 1.0585570335388184\n",
      "    10    -7.836319e+00     1.022983e-01\n",
      " * time: 1.0868239402770996\n",
      "    11    -7.845444e+00     5.819173e-02\n",
      " * time: 1.115006923675537\n",
      "    12    -7.850422e+00     2.541396e-02\n",
      " * time: 1.1474108695983887\n",
      "    13    -7.851877e+00     1.906402e-02\n",
      " * time: 1.2845029830932617\n",
      "    14    -7.852264e+00     1.607000e-02\n",
      " * time: 1.3136558532714844\n",
      "    15    -7.852483e+00     8.136664e-03\n",
      " * time: 1.342602014541626\n",
      "    16    -7.852583e+00     4.658955e-03\n",
      " * time: 1.3713459968566895\n",
      "    17    -7.852627e+00     3.360950e-03\n",
      " * time: 1.4096100330352783\n",
      "    18    -7.852640e+00     1.612651e-03\n",
      " * time: 1.444382905960083\n",
      "    19    -7.852644e+00     8.717449e-04\n",
      " * time: 1.4790539741516113\n",
      "    20    -7.852646e+00     6.597827e-04\n",
      " * time: 1.5102720260620117\n",
      "    21    -7.852646e+00     3.316393e-04\n",
      " * time: 1.5392210483551025\n",
      "    22    -7.852647e+00     1.612189e-04\n",
      " * time: 1.5673270225524902\n",
      "    23    -7.852647e+00     1.112842e-04\n",
      " * time: 1.5984630584716797\n",
      "    24    -7.852647e+00     6.815469e-05\n",
      " * time: 1.6291930675506592\n",
      "    25    -7.852647e+00     3.059853e-05\n",
      " * time: 1.6574959754943848\n",
      "    26    -7.852647e+00     2.441128e-05\n",
      " * time: 1.6864378452301025\n",
      "    27    -7.852647e+00     1.592066e-05\n",
      " * time: 1.7158050537109375\n",
      "    28    -7.852647e+00     6.047793e-06\n",
      " * time: 1.7471339702606201\n",
      "    29    -7.852647e+00     3.676077e-06\n",
      " * time: 1.7771389484405518\n",
      "    30    -7.852647e+00     1.914619e-06\n",
      " * time: 1.805891990661621\n",
      "    31    -7.852647e+00     1.122338e-06\n",
      " * time: 1.8353030681610107\n",
      "    32    -7.852647e+00     7.857201e-07\n",
      " * time: 1.8652820587158203\n",
      "    33    -7.852647e+00     5.809989e-07\n",
      " * time: 1.8943328857421875\n",
      "    34    -7.852647e+00     4.311235e-07\n",
      " * time: 1.92232084274292\n",
      "    35    -7.852647e+00     1.698842e-07\n",
      " * time: 1.9530229568481445\n",
      "    36    -7.852647e+00     1.560068e-07\n",
      " * time: 1.984407901763916\n",
      "    37    -7.852647e+00     7.541737e-08\n",
      " * time: 2.01899790763855\n",
      "    38    -7.852647e+00     5.734703e-08\n",
      " * time: 2.04897403717041\n",
      "    39    -7.852647e+00     3.491166e-08\n",
      " * time: 2.08063006401062\n",
      "    40    -7.852647e+00     2.662409e-08\n",
      " * time: 2.1359899044036865\n",
      "    41    -7.852647e+00     1.069672e-08\n",
      " * time: 2.165328025817871\n",
      "    42    -7.852647e+00     1.048486e-08\n",
      " * time: 2.220731019973755\n",
      "    43    -7.852647e+00     4.520073e-09\n",
      " * time: 2.24995493888855\n"
     ]
    }
   ],
   "cell_type": "code",
   "source": [
    "scfres_dm = direct_minimization(basis; tol);"
   ],
   "metadata": {},
   "execution_count": 4
  },
  {
   "cell_type": "markdown",
   "source": [
    "## Newton algorithm"
   ],
   "metadata": {}
  },
  {
   "cell_type": "markdown",
   "source": [
    "Start not too far from the solution to ensure convergence:\n",
    "We run first a very crude SCF to get close and then switch to Newton."
   ],
   "metadata": {}
  },
  {
   "outputs": [
    {
     "name": "stdout",
     "output_type": "stream",
     "text": [
      "n     Energy            log10(ΔE)   log10(Δρ)   Diag\n",
      "---   ---------------   ---------   ---------   ----\n",
      "  1   -7.846787272800                   -0.70    4.8\n",
      "  2   -7.852296897408       -2.26       -1.53    1.0\n"
     ]
    }
   ],
   "cell_type": "code",
   "source": [
    "scfres_start = self_consistent_field(basis; tol=1e-1);"
   ],
   "metadata": {},
   "execution_count": 5
  },
  {
   "cell_type": "markdown",
   "source": [
    "Remove the virtual orbitals (which Newton cannot treat yet)"
   ],
   "metadata": {}
  },
  {
   "outputs": [
    {
     "name": "stdout",
     "output_type": "stream",
     "text": [
      "n     Energy            log10(ΔE)   log10(Δρ)\n",
      "---   ---------------   ---------   ---------\n",
      "  1   -7.852646686695                   -2.54\n",
      "  2   -7.852646686730      -10.46       -5.81\n",
      "  3   -7.852646686730   +    -Inf      -12.34\n"
     ]
    }
   ],
   "cell_type": "code",
   "source": [
    "ψ, _ = DFTK.select_occupied_orbitals(basis, scfres_start.ψ, scfres_start.occupation)\n",
    "scfres_newton = newton(basis, ψ; tol);"
   ],
   "metadata": {},
   "execution_count": 6
  },
  {
   "cell_type": "markdown",
   "source": [
    "## Comparison of results"
   ],
   "metadata": {}
  },
  {
   "outputs": [
    {
     "name": "stdout",
     "output_type": "stream",
     "text": [
      "|ρ_newton - ρ_scf|  = 5.007076931754657e-13\n",
      "|ρ_newton - ρ_scfv| = 3.048497941303998e-13\n",
      "|ρ_newton - ρ_dm|   = 2.428438753833466e-10\n"
     ]
    }
   ],
   "cell_type": "code",
   "source": [
    "println(\"|ρ_newton - ρ_scf|  = \", norm(scfres_newton.ρ - scfres_scf.ρ))\n",
    "println(\"|ρ_newton - ρ_scfv| = \", norm(scfres_newton.ρ - scfres_scfv.ρ))\n",
    "println(\"|ρ_newton - ρ_dm|   = \", norm(scfres_newton.ρ - scfres_dm.ρ))"
   ],
   "metadata": {},
   "execution_count": 7
  }
 ],
 "nbformat_minor": 3,
 "metadata": {
  "language_info": {
   "file_extension": ".jl",
   "mimetype": "application/julia",
   "name": "julia",
   "version": "1.8.2"
  },
  "kernelspec": {
   "name": "julia-1.8",
   "display_name": "Julia 1.8.2",
   "language": "julia"
  }
 },
 "nbformat": 4
}
