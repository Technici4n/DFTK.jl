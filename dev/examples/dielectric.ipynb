{
 "cells": [
  {
   "cell_type": "markdown",
   "source": [
    "# Eigenvalues of the dielectric matrix\n",
    "\n",
    "We compute a few eigenvalues of the dielectric matrix ($q=0$, $ω=0$) iteratively."
   ],
   "metadata": {}
  },
  {
   "outputs": [
    {
     "name": "stdout",
     "output_type": "stream",
     "text": [
      "n     Energy            log10(ΔE)   log10(Δρ)   Diag\n",
      "---   ---------------   ---------   ---------   ----\n",
      "  1   -7.234528463255                   -0.50    8.0\n",
      "  2   -7.250196826464       -1.80       -1.40    1.0\n",
      "  3   -7.251315453740       -2.95       -2.13    4.0\n",
      "  4   -7.251293333665   +   -4.66       -2.30    4.0\n",
      "  5   -7.251326331150       -4.48       -2.62    3.0\n",
      "  6   -7.251337492332       -4.95       -3.07    2.0\n",
      "  7   -7.251338763913       -5.90       -3.96    1.0\n",
      "  8   -7.251338788524       -7.61       -4.05    4.0\n",
      "  9   -7.251338797692       -8.04       -4.51    3.0\n",
      " 10   -7.251338798246       -9.26       -4.72    1.0\n",
      " 11   -7.251338798692       -9.35       -5.40    3.0\n",
      " 12   -7.251338798704      -10.93       -5.91    2.0\n",
      " 13   -7.251338798704      -12.16       -6.18    2.0\n",
      " 14   -7.251338798705      -12.56       -7.03    3.0\n",
      " 15   -7.251338798705      -14.21       -7.44    1.0\n"
     ]
    }
   ],
   "cell_type": "code",
   "source": [
    "using DFTK\n",
    "using Plots\n",
    "using KrylovKit\n",
    "using Printf\n",
    "\n",
    "# Calculation parameters\n",
    "kgrid = [1, 1, 1]\n",
    "Ecut = 5\n",
    "\n",
    "# Silicon lattice\n",
    "a = 10.26\n",
    "lattice = a / 2 .* [[0 1 1.]; [1 0 1.]; [1 1 0.]]\n",
    "Si = ElementPsp(:Si, psp=load_psp(\"hgh/lda/Si-q4\"))\n",
    "atoms     = [Si, Si]\n",
    "positions = [ones(3)/8, -ones(3)/8]\n",
    "\n",
    "# Compute the dielectric operator without symmetries\n",
    "model = model_LDA(lattice, atoms, positions, symmetries=false)\n",
    "basis = PlaneWaveBasis(model; Ecut, kgrid)\n",
    "scfres = self_consistent_field(basis, tol=1e-14);"
   ],
   "metadata": {},
   "execution_count": 1
  },
  {
   "cell_type": "markdown",
   "source": [
    "Applying $ε^† ≔ (1- χ_0 K)$ …"
   ],
   "metadata": {}
  },
  {
   "outputs": [],
   "cell_type": "code",
   "source": [
    "function eps_fun(δρ)\n",
    "    δV = apply_kernel(basis, δρ; ρ=scfres.ρ)\n",
    "    χ0δV = apply_χ0(scfres, δV)\n",
    "    δρ - χ0δV\n",
    "end;"
   ],
   "metadata": {},
   "execution_count": 2
  },
  {
   "cell_type": "markdown",
   "source": [
    "… eagerly diagonalizes the subspace matrix at each iteration"
   ],
   "metadata": {}
  },
  {
   "outputs": [
    {
     "name": "stdout",
     "output_type": "stream",
     "text": [
      "[ Info: Arnoldi iteration step 1: normres = 0.06102665742929522\n",
      "[ Info: Arnoldi iteration step 2: normres = 0.636791264017885\n",
      "[ Info: Arnoldi iteration step 3: normres = 0.8380551743741705\n",
      "[ Info: Arnoldi iteration step 4: normres = 0.2984183132360873\n",
      "[ Info: Arnoldi iteration step 5: normres = 0.453277758144635\n",
      "[ Info: Arnoldi schursolve in iter 1, krylovdim = 5: 0 values converged, normres = (3.28e-02, 7.20e-02, 3.27e-01, 3.01e-01, 3.65e-02)\n",
      "[ Info: Arnoldi iteration step 6: normres = 0.3449779379495476\n",
      "[ Info: Arnoldi schursolve in iter 1, krylovdim = 6: 0 values converged, normres = (9.50e-03, 1.13e-01, 2.97e-01, 1.02e-01, 7.63e-02)\n",
      "[ Info: Arnoldi iteration step 7: normres = 0.0836348056623581\n",
      "[ Info: Arnoldi schursolve in iter 1, krylovdim = 7: 0 values converged, normres = (3.95e-04, 1.18e-02, 2.01e-02, 3.69e-02, 6.13e-02)\n",
      "[ Info: Arnoldi iteration step 8: normres = 0.11354898416693567\n",
      "[ Info: Arnoldi schursolve in iter 1, krylovdim = 8: 0 values converged, normres = (1.97e-05, 9.80e-04, 1.86e-03, 1.55e-02, 5.68e-02)\n",
      "[ Info: Arnoldi iteration step 9: normres = 0.0659894361220503\n",
      "[ Info: Arnoldi schursolve in iter 1, krylovdim = 9: 0 values converged, normres = (5.60e-07, 4.59e-05, 9.67e-05, 3.62e-03, 2.83e-02)\n",
      "[ Info: Arnoldi iteration step 10: normres = 0.09734293034058189\n",
      "[ Info: Arnoldi schursolve in iter 1, krylovdim = 10: 0 values converged, normres = (2.35e-08, 3.16e-06, 7.38e-06, 1.13e-03, 1.63e-02)\n",
      "[ Info: Arnoldi iteration step 11: normres = 0.0663797588737071\n",
      "[ Info: Arnoldi schursolve in iter 1, krylovdim = 11: 0 values converged, normres = (6.81e-10, 1.52e-07, 3.96e-07, 2.77e-04, 1.04e-02)\n",
      "[ Info: Arnoldi iteration step 12: normres = 0.07419221447034142\n",
      "[ Info: Arnoldi schursolve in iter 1, krylovdim = 12: 0 values converged, normres = (2.14e-11, 7.76e-09, 2.24e-08, 5.83e-05, 4.18e-03)\n",
      "[ Info: Arnoldi iteration step 13: normres = 0.2880132240054918\n",
      "[ Info: Arnoldi schursolve in iter 1, krylovdim = 13: 0 values converged, normres = (2.72e-12, 1.65e-09, 5.29e-09, 6.52e-05, 1.24e-02)\n",
      "[ Info: Arnoldi iteration step 14: normres = 0.1429034534995991\n",
      "[ Info: Arnoldi schursolve in iter 1, krylovdim = 14: 1 values converged, normres = (3.55e-13, 1.43e-09, 4.34e-08, 1.38e-01, 8.89e-04)\n",
      "[ Info: Arnoldi iteration step 15: normres = 0.09798542557343247\n",
      "[ Info: Arnoldi schursolve in iter 1, krylovdim = 15: 1 values converged, normres = (1.46e-14, 1.04e-10, 9.74e-03, 1.92e-03, 1.68e-06)\n",
      "[ Info: Arnoldi iteration step 16: normres = 0.3994907878449019\n",
      "[ Info: Arnoldi schursolve in iter 1, krylovdim = 16: 1 values converged, normres = (5.71e-15, 3.72e-10, 3.58e-01, 1.46e-01, 9.55e-02)\n",
      "[ Info: Arnoldi iteration step 17: normres = 0.03275363066590431\n",
      "[ Info: Arnoldi schursolve in iter 1, krylovdim = 17: 1 values converged, normres = (8.73e-17, 1.31e-04, 9.01e-03, 2.99e-04, 6.08e-04)\n",
      "[ Info: Arnoldi iteration step 18: normres = 0.04491386385191365\n",
      "[ Info: Arnoldi schursolve in iter 1, krylovdim = 18: 1 values converged, normres = (1.62e-18, 1.07e-08, 2.68e-04, 3.85e-07, 2.24e-05)\n",
      "[ Info: Arnoldi iteration step 19: normres = 0.13718153457483856\n",
      "[ Info: Arnoldi schursolve in iter 1, krylovdim = 19: 1 values converged, normres = (1.08e-19, 3.19e-05, 1.77e-06, 2.61e-06, 1.55e-06)\n",
      "[ Info: Arnoldi iteration step 20: normres = 0.034746981260239264\n",
      "[ Info: Arnoldi schursolve in iter 1, krylovdim = 20: 1 values converged, normres = (1.60e-21, 4.99e-09, 7.78e-07, 6.00e-08, 5.61e-08)\n",
      "[ Info: Arnoldi iteration step 21: normres = 0.02116543523468804\n",
      "[ Info: Arnoldi schursolve in iter 1, krylovdim = 21: 1 values converged, normres = (1.40e-23, 5.22e-10, 1.09e-08, 9.11e-10, 8.83e-10)\n",
      "[ Info: Arnoldi iteration step 22: normres = 0.4365586362928068\n",
      "[ Info: Arnoldi schursolve in iter 1, krylovdim = 22: 1 values converged, normres = (2.68e-24, 1.86e-10, 3.45e-09, 3.22e-10, 3.10e-10)\n",
      "[ Info: Arnoldi iteration step 23: normres = 0.03789973779271947\n",
      "[ Info: Arnoldi schursolve in iter 1, krylovdim = 23: 1 values converged, normres = (9.11e-26, 4.37e-11, 8.39e-10, 1.46e-08, 1.56e-08)\n",
      "[ Info: Arnoldi iteration step 24: normres = 0.01921872572698279\n",
      "[ Info: Arnoldi schursolve in iter 1, krylovdim = 24: 2 values converged, normres = (7.17e-28, 5.59e-13, 1.05e-11, 4.21e-04, 1.87e-05)\n",
      "[ Info: Arnoldi iteration step 25: normres = 0.10017125559865842\n",
      "[ Info: Arnoldi schursolve in iter 1, krylovdim = 25: 3 values converged, normres = (3.00e-29, 3.76e-14, 7.09e-13, 1.07e-05, 2.69e-05)\n",
      "[ Info: Arnoldi iteration step 26: normres = 0.035033315235644506\n",
      "[ Info: Arnoldi schursolve in iter 1, krylovdim = 26: 3 values converged, normres = (4.68e-31, 9.88e-16, 1.86e-14, 6.98e-09, 8.69e-09)\n",
      "[ Info: Arnoldi iteration step 27: normres = 0.10622819205039945\n",
      "[ Info: Arnoldi schursolve in iter 1, krylovdim = 27: 3 values converged, normres = (2.09e-32, 7.14e-17, 1.35e-15, 2.64e-09, 5.33e-08)\n",
      "[ Info: Arnoldi iteration step 28: normres = 0.12795356248671438\n",
      "[ Info: Arnoldi schursolve in iter 1, krylovdim = 28: 3 values converged, normres = (1.20e-33, 6.91e-18, 1.30e-16, 5.19e-10, 9.17e-09)\n",
      "[ Info: Arnoldi iteration step 29: normres = 0.10780445145766818\n",
      "[ Info: Arnoldi schursolve in iter 1, krylovdim = 29: 3 values converged, normres = (6.21e-35, 6.34e-19, 1.20e-17, 5.40e-11, 9.56e-10)\n",
      "[ Info: Arnoldi iteration step 30: normres = 0.013573660561898617\n",
      "[ Info: Arnoldi schursolve in iter 1, krylovdim = 30: 4 values converged, normres = (3.50e-37, 5.77e-21, 1.09e-19, 5.34e-13, 9.61e-12)\n",
      "[ Info: Arnoldi schursolve in iter 2, krylovdim = 19: 4 values converged, normres = (4.15e-37, 5.77e-21, 1.09e-19, 5.34e-13, 9.61e-12)\n",
      "[ Info: Arnoldi iteration step 20: normres = 0.06729933369200486\n",
      "┌ Info: Arnoldi eigsolve finished after 2 iterations:\n",
      "│ *  6 eigenvalues converged\n",
      "│ *  norm of residuals = (9.764854760802392e-39, 2.572335422345372e-22, 4.8589541755563414e-21, 2.6232859483739363e-14, 4.707211713315975e-13, 2.765021631141097e-14)\n",
      "└ *  number of operations = 31\n"
     ]
    }
   ],
   "cell_type": "code",
   "source": [
    "eigsolve(eps_fun, randn(size(scfres.ρ)), 5, :LM; eager=true, verbosity=3);"
   ],
   "metadata": {},
   "execution_count": 3
  }
 ],
 "nbformat_minor": 3,
 "metadata": {
  "language_info": {
   "file_extension": ".jl",
   "mimetype": "application/julia",
   "name": "julia",
   "version": "1.8.2"
  },
  "kernelspec": {
   "name": "julia-1.8",
   "display_name": "Julia 1.8.2",
   "language": "julia"
  }
 },
 "nbformat": 4
}
