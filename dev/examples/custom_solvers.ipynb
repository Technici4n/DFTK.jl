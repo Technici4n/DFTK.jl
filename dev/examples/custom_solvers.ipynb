{
 "cells": [
  {
   "cell_type": "markdown",
   "source": [
    "# Custom solvers\n",
    "In this example, we show how to define custom solvers. Our system\n",
    "will again be silicon, because we are not very imaginative"
   ],
   "metadata": {}
  },
  {
   "outputs": [],
   "cell_type": "code",
   "source": [
    "using DFTK, LinearAlgebra\n",
    "\n",
    "a = 10.26\n",
    "lattice = a / 2 * [[0 1 1.];\n",
    "                   [1 0 1.];\n",
    "                   [1 1 0.]]\n",
    "Si = ElementPsp(:Si, psp=load_psp(\"hgh/lda/Si-q4\"))\n",
    "atoms = [Si, Si]\n",
    "positions =  [ones(3)/8, -ones(3)/8]\n",
    "\n",
    "# We take very (very) crude parameters\n",
    "model = model_LDA(lattice, atoms, positions)\n",
    "basis = PlaneWaveBasis(model; Ecut=5, kgrid=[1, 1, 1]);"
   ],
   "metadata": {},
   "execution_count": 1
  },
  {
   "cell_type": "markdown",
   "source": [
    "We define our custom fix-point solver: simply a damped fixed-point"
   ],
   "metadata": {}
  },
  {
   "outputs": [],
   "cell_type": "code",
   "source": [
    "function my_fp_solver(f, x0, max_iter; tol)\n",
    "    mixing_factor = .7\n",
    "    x = x0\n",
    "    fx = f(x)\n",
    "    for n = 1:max_iter\n",
    "        inc = fx - x\n",
    "        if norm(inc) < tol\n",
    "            break\n",
    "        end\n",
    "        x = x + mixing_factor * inc\n",
    "        fx = f(x)\n",
    "    end\n",
    "    (fixpoint=x, converged=norm(fx-x) < tol)\n",
    "end;"
   ],
   "metadata": {},
   "execution_count": 2
  },
  {
   "cell_type": "markdown",
   "source": [
    "Our eigenvalue solver just forms the dense matrix and diagonalizes\n",
    "it explicitly (this only works for very small systems)"
   ],
   "metadata": {}
  },
  {
   "outputs": [],
   "cell_type": "code",
   "source": [
    "function my_eig_solver(A, X0; maxiter, tol, kwargs...)\n",
    "    n = size(X0, 2)\n",
    "    A = Array(A)\n",
    "    E = eigen(A)\n",
    "    λ = E.values[1:n]\n",
    "    X = E.vectors[:, 1:n]\n",
    "    (; λ, X, residual_norms=[], iterations=0, converged=true, n_matvec=0)\n",
    "end;"
   ],
   "metadata": {},
   "execution_count": 3
  },
  {
   "cell_type": "markdown",
   "source": [
    "Finally we also define our custom mixing scheme. It will be a mixture\n",
    "of simple mixing (for the first 2 steps) and than default to Kerker mixing.\n",
    "In the mixing interface `δF` is $(ρ_\\text{out} - ρ_\\text{in})$, i.e.\n",
    "the difference in density between two subsequent SCF steps and the `mix`\n",
    "function returns $δρ$, which is added to $ρ_\\text{in}$ to yield $ρ_\\text{next}$,\n",
    "the density for the next SCF step."
   ],
   "metadata": {}
  },
  {
   "outputs": [],
   "cell_type": "code",
   "source": [
    "struct MyMixing\n",
    "    n_simple  # Number of iterations for simple mixing\n",
    "end\n",
    "MyMixing() = MyMixing(2)\n",
    "\n",
    "function DFTK.mix_density(mixing::MyMixing, basis, δF; n_iter, kwargs...)\n",
    "    if n_iter <= mixing.n_simple\n",
    "        return δF  # Simple mixing -> Do not modify update at all\n",
    "    else\n",
    "        # Use the default KerkerMixing from DFTK\n",
    "        DFTK.mix_density(KerkerMixing(), basis, δF; kwargs...)\n",
    "    end\n",
    "end"
   ],
   "metadata": {},
   "execution_count": 4
  },
  {
   "cell_type": "markdown",
   "source": [
    "That's it! Now we just run the SCF with these solvers"
   ],
   "metadata": {}
  },
  {
   "outputs": [
    {
     "name": "stdout",
     "output_type": "stream",
     "text": [
      "n     Energy            log10(ΔE)   log10(Δρ)   Diag   Δtime\n",
      "---   ---------------   ---------   ---------   ----   ------\n",
      "  1   -7.232379826005                   -0.49    0.0         \n",
      "  2   -7.249027603566       -1.78       -0.91    0.0    593ms\n",
      "  3   -7.251141638237       -2.67       -1.33    0.0   73.9ms\n",
      "  4   -7.251288614194       -3.83       -1.64    0.0   73.9ms\n",
      "  5   -7.251325681730       -4.43       -1.95    0.0    175ms\n",
      "  6   -7.251335220077       -5.02       -2.25    0.0   73.1ms\n",
      "  7   -7.251337772099       -5.59       -2.54    0.0   73.9ms\n",
      "  8   -7.251338489015       -6.14       -2.82    0.0   73.3ms\n",
      "  9   -7.251338700978       -6.67       -3.09    0.0   73.0ms\n",
      " 10   -7.251338766701       -7.18       -3.35    0.0   72.9ms\n",
      " 11   -7.251338787920       -7.67       -3.61    0.0   72.7ms\n",
      " 12   -7.251338794993       -8.15       -3.86    0.0    188ms\n",
      " 13   -7.251338797408       -8.62       -4.10    0.0   72.8ms\n",
      " 14   -7.251338798247       -9.08       -4.34    0.0   72.6ms\n",
      " 15   -7.251338798542       -9.53       -4.57    0.0   73.5ms\n",
      " 16   -7.251338798646       -9.98       -4.80    0.0   72.1ms\n",
      " 17   -7.251338798684      -10.43       -5.03    0.0   72.9ms\n",
      " 18   -7.251338798697      -10.87       -5.26    0.0   73.2ms\n",
      " 19   -7.251338798702      -11.32       -5.49    0.0   72.5ms\n",
      " 20   -7.251338798704      -11.76       -5.71    0.0    184ms\n",
      " 21   -7.251338798704      -12.21       -5.94    0.0   75.3ms\n",
      " 22   -7.251338798704      -12.66       -6.16    0.0   73.2ms\n",
      " 23   -7.251338798704      -13.10       -6.38    0.0   74.4ms\n",
      " 24   -7.251338798705      -13.64       -6.58    0.0   72.5ms\n",
      " 25   -7.251338798705      -13.67       -6.82    0.0   73.9ms\n",
      " 26   -7.251338798705      -14.75       -7.02    0.0   73.9ms\n",
      " 27   -7.251338798705      -14.45       -7.22    0.0    169ms\n",
      " 28   -7.251338798705   +  -14.75       -7.42    0.0   73.4ms\n",
      " 29   -7.251338798705      -14.45       -7.57    0.0   75.2ms\n",
      " 30   -7.251338798705   +  -15.05       -7.75    0.0   75.8ms\n",
      " 31   -7.251338798705   +  -14.75       -7.33    0.0   73.9ms\n",
      " 32   -7.251338798705      -14.75       -7.65    0.0   72.3ms\n",
      " 33   -7.251338798705   +  -14.21       -7.26    0.0   74.6ms\n",
      " 34   -7.251338798705      -14.27       -7.50    0.0   73.4ms\n",
      " 35   -7.251338798705   +    -Inf       -7.72    0.0    166ms\n",
      " 36   -7.251338798705   +  -15.05       -8.01    0.0   74.8ms\n"
     ]
    }
   ],
   "cell_type": "code",
   "source": [
    "scfres = self_consistent_field(basis;\n",
    "                               tol=1e-8,\n",
    "                               solver=my_fp_solver,\n",
    "                               eigensolver=my_eig_solver,\n",
    "                               mixing=MyMixing());"
   ],
   "metadata": {},
   "execution_count": 5
  },
  {
   "cell_type": "markdown",
   "source": [
    "Note that the default convergence criterion is the difference in\n",
    "density. When this gets below `tol`, the\n",
    "\"driver\" `self_consistent_field` artificially makes the fixed-point\n",
    "solver think it's converged by forcing `f(x) = x`. You can customize\n",
    "this with the `is_converged` keyword argument to\n",
    "`self_consistent_field`."
   ],
   "metadata": {}
  }
 ],
 "nbformat_minor": 3,
 "metadata": {
  "language_info": {
   "file_extension": ".jl",
   "mimetype": "application/julia",
   "name": "julia",
   "version": "1.8.5"
  },
  "kernelspec": {
   "name": "julia-1.8",
   "display_name": "Julia 1.8.5",
   "language": "julia"
  }
 },
 "nbformat": 4
}
