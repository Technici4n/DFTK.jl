{
 "cells": [
  {
   "cell_type": "markdown",
   "source": [
    "# Creating and modelling metallic supercells\n",
    "\n",
    "In this section we will be concerned with modelling supercells of aluminium.\n",
    "When dealing with periodic problems there is no unique definition of the\n",
    "lattice: Clearly any duplication of the lattice along an axis is also a valid\n",
    "repetitive unit to describe exactly the same system.\n",
    "This is exactly what a **supercell** is: An $n$-fold repetition along one of the\n",
    "axes of the original lattice.\n",
    "\n",
    "The following code achieves this for aluminium:"
   ],
   "metadata": {}
  },
  {
   "outputs": [],
   "cell_type": "code",
   "source": [
    "using DFTK\n",
    "using LinearAlgebra\n",
    "\n",
    "function aluminium_setup(repeat=1; Ecut=7.0, kgrid=[2, 2, 2])\n",
    "    a = 7.65339\n",
    "    lattice = a * Matrix(I, 3, 3)\n",
    "    Al = ElementPsp(:Al, psp=load_psp(\"hgh/lda/al-q3\"))\n",
    "    atoms     = [Al, Al, Al, Al]\n",
    "    positions = [[0.0, 0.0, 0.0], [0.0, 0.5, 0.5], [0.5, 0.0, 0.5], [0.5, 0.5, 0.0]]\n",
    "\n",
    "    # Make supercell in ASE:\n",
    "    # We convert our lattice to the conventions used in ASE\n",
    "    # and then back ...\n",
    "    supercell = ase_atoms(lattice, atoms, positions) * (repeat, 1, 1)\n",
    "    lattice   = load_lattice(supercell)\n",
    "    positions = load_positions(supercell)\n",
    "    atoms = fill(Al, length(positions))\n",
    "\n",
    "    # Construct an LDA model and discretise\n",
    "    # Note: We disable symmetries explicitly here. Otherwise the problem sizes\n",
    "    #       we are able to run on the CI are too simple to observe the numerical\n",
    "    #       instabilities we want to trigger here.\n",
    "    model = model_LDA(lattice, atoms, positions; temperature=1e-3, symmetries=false)\n",
    "    PlaneWaveBasis(model; Ecut, kgrid)\n",
    "end;"
   ],
   "metadata": {},
   "execution_count": 1
  },
  {
   "cell_type": "markdown",
   "source": [
    "As part of the code we are using a routine inside the ASE,\n",
    "the [atomistic simulation environment](https://wiki.fysik.dtu.dk/ase/index.html)\n",
    "for creating the supercell and make use of the two-way interoperability of\n",
    "DFTK and ASE. For more details on this aspect see the documentation\n",
    "on Input and output formats."
   ],
   "metadata": {}
  },
  {
   "cell_type": "markdown",
   "source": [
    "Write an example supercell structure to a file to plot it:"
   ],
   "metadata": {}
  },
  {
   "outputs": [],
   "cell_type": "code",
   "source": [
    "setup = aluminium_setup(5)\n",
    "ase_atoms(setup.model).write(\"al_supercell.png\")"
   ],
   "metadata": {},
   "execution_count": 2
  },
  {
   "cell_type": "markdown",
   "source": [
    "<img src=\"https://docs.dftk.org/stable/examples/al_supercell.png\" width=500 height=500 />"
   ],
   "metadata": {}
  },
  {
   "cell_type": "markdown",
   "source": [
    "As we will see in this notebook the modelling of a system generally becomes\n",
    "harder if the system becomes larger.\n",
    "\n",
    "- This sounds like a trivial statement as *per se* the cost per SCF step increases\n",
    "  as the system (and thus $N$) gets larger.\n",
    "- But there is more to it:\n",
    "  If one is not careful also the *number of SCF iterations* increases\n",
    "  as the system gets larger.\n",
    "- The aim of a proper computational treatment of such supercells is therefore\n",
    "  to ensure that the **number of SCF iterations remains constant** when the\n",
    "  system size increases."
   ],
   "metadata": {}
  },
  {
   "cell_type": "markdown",
   "source": [
    "For achieving the latter DFTK by default employs the `LdosMixing`\n",
    "preconditioner [^HL2021] during the SCF iterations. This mixing approach is\n",
    "completely parameter free, but still automatically adapts to the treated\n",
    "system in order to efficiently prevent charge sloshing. As a result,\n",
    "modelling aluminium slabs indeed takes roughly the same number of SCF iterations\n",
    "irrespective of the supercell size:\n",
    "\n",
    "[^HL2021]:\n",
    "   M. F. Herbst and A. Levitt.\n",
    "   *Black-box inhomogeneous preconditioning for self-consistent field iterations in density functional theory.*\n",
    "   J. Phys. Cond. Matt *33* 085503 (2021). [ArXiv:2009.01665](https://arxiv.org/abs/2009.01665)"
   ],
   "metadata": {}
  },
  {
   "outputs": [
    {
     "name": "stdout",
     "output_type": "stream",
     "text": [
      "n     Energy            log10(ΔE)   log10(Δρ)   Diag\n",
      "---   ---------------   ---------   ---------   ----\n",
      "  1   -8.298310894227                   -0.85    5.2\n",
      "  2   -8.300185762968       -2.73       -1.25    1.0\n",
      "  3   -8.300445962513       -3.58       -1.89    3.5\n",
      "  4   -8.300462365463       -4.79       -2.77    1.4\n",
      "  5   -8.300464375819       -5.70       -3.10    2.9\n",
      "  6   -8.300464492035       -6.93       -3.26    1.0\n",
      "  7   -8.300464562266       -7.15       -3.40   11.6\n",
      "  8   -8.300464601108       -7.41       -3.52    1.5\n",
      "  9   -8.300464629564       -7.55       -3.69    1.0\n",
      " 10   -8.300464640052       -7.98       -3.87    1.9\n",
      " 11   -8.300464643754       -8.43       -4.29    1.0\n"
     ]
    }
   ],
   "cell_type": "code",
   "source": [
    "is_converged = DFTK.ScfConvergenceDensity(1e-4)  # Flag convergence based on density\n",
    "self_consistent_field(aluminium_setup(1); is_converged);"
   ],
   "metadata": {},
   "execution_count": 3
  },
  {
   "outputs": [
    {
     "name": "stdout",
     "output_type": "stream",
     "text": [
      "n     Energy            log10(ΔE)   log10(Δρ)   Diag\n",
      "---   ---------------   ---------   ---------   ----\n",
      "  1   -16.64191900304                   -0.70    6.5\n",
      "  2   -16.67827960891       -1.44       -1.14    1.4\n",
      "  3   -16.67922981416       -3.02       -1.88    3.9\n",
      "  4   -16.67927950414       -4.30       -2.77    3.4\n",
      "  5   -16.67928592884       -5.19       -3.14    5.4\n",
      "  6   -16.67928620515       -6.56       -3.53    1.9\n",
      "  7   -16.67928621939       -7.85       -4.03    1.2\n"
     ]
    }
   ],
   "cell_type": "code",
   "source": [
    "self_consistent_field(aluminium_setup(2); is_converged);"
   ],
   "metadata": {},
   "execution_count": 4
  },
  {
   "outputs": [
    {
     "name": "stdout",
     "output_type": "stream",
     "text": [
      "n     Energy            log10(ΔE)   log10(Δρ)   Diag\n",
      "---   ---------------   ---------   ---------   ----\n",
      "  1   -33.32674735978                   -0.56    7.1\n",
      "  2   -33.33435662695       -2.12       -1.00    1.2\n",
      "  3   -33.33600505205       -2.78       -1.72    4.5\n",
      "  4   -33.33615996320       -3.81       -2.63    7.0\n",
      "  5   -33.33685121433       -3.16       -2.35    7.5\n",
      "  6   -33.33687665062       -4.59       -2.42    1.1\n",
      "  7   -33.33694377178       -4.17       -3.62    3.0\n",
      "  8   -33.33694385255       -7.09       -3.80    5.2\n",
      "  9   -33.33694388267       -7.52       -4.02    2.6\n"
     ]
    }
   ],
   "cell_type": "code",
   "source": [
    "self_consistent_field(aluminium_setup(4); is_converged);"
   ],
   "metadata": {},
   "execution_count": 5
  },
  {
   "cell_type": "markdown",
   "source": [
    "When switching off explicitly the `LdosMixing`, by selecting `mixing=SimpleMixing()`,\n",
    "the performance of number of required SCF steps starts to increase as we increase\n",
    "the size of the modelled problem:"
   ],
   "metadata": {}
  },
  {
   "outputs": [
    {
     "name": "stdout",
     "output_type": "stream",
     "text": [
      "n     Energy            log10(ΔE)   log10(Δρ)   Diag\n",
      "---   ---------------   ---------   ---------   ----\n",
      "  1   -8.298544463852                   -0.85    5.6\n",
      "  2   -8.300235701948       -2.77       -1.58    1.0\n",
      "  3   -8.300219671281   +   -4.80       -2.05    7.9\n",
      "  4   -8.300359706033       -3.85       -2.24    1.5\n",
      "  5   -8.300464010771       -3.98       -3.43    1.0\n",
      "  6   -8.300464552121       -6.27       -3.83    3.8\n",
      "  7   -8.300464630578       -7.11       -4.19    1.8\n"
     ]
    }
   ],
   "cell_type": "code",
   "source": [
    "self_consistent_field(aluminium_setup(1); is_converged, mixing=SimpleMixing());"
   ],
   "metadata": {},
   "execution_count": 6
  },
  {
   "outputs": [
    {
     "name": "stdout",
     "output_type": "stream",
     "text": [
      "n     Energy            log10(ΔE)   log10(Δρ)   Diag\n",
      "---   ---------------   ---------   ---------   ----\n",
      "  1   -33.32614654521                   -0.56    7.6\n",
      "  2   -33.32957807051       -2.46       -1.28    1.4\n",
      "  3   -25.08657612972   +    0.92       -0.61    8.2\n",
      "  4   -33.25680334343        0.91       -1.58    6.4\n",
      "  5   -33.18701724312   +   -1.16       -1.31    3.9\n",
      "  6   -32.39635453275   +   -0.10       -1.08    4.6\n",
      "  7   -33.32643449822       -0.03       -1.93    4.4\n",
      "  8   -33.33388296849       -2.13       -2.24    2.4\n",
      "  9   -33.33534811502       -2.83       -2.37    2.4\n",
      " 10   -33.33534187890   +   -5.21       -2.43    1.1\n",
      " 11   -33.33626343998       -3.04       -2.59    1.6\n",
      " 12   -33.33683780569       -3.24       -3.00    3.1\n",
      " 13   -33.33692059308       -4.08       -3.28    3.1\n",
      " 14   -33.33693396602       -4.87       -3.44    3.0\n",
      " 15   -33.33693605975       -5.68       -3.59    4.4\n",
      " 16   -33.33694281110       -5.17       -4.00    2.8\n",
      " 17   -33.33694374552       -6.03       -4.35    3.0\n"
     ]
    }
   ],
   "cell_type": "code",
   "source": [
    "self_consistent_field(aluminium_setup(4); is_converged, mixing=SimpleMixing());"
   ],
   "metadata": {},
   "execution_count": 7
  },
  {
   "cell_type": "markdown",
   "source": [
    "For completion let us note that the more traditional `mixing=KerkerMixing()`\n",
    "approach would also help in this particular setting to obtain a constant\n",
    "number of SCF iterations for an increasing system size (try it!). In contrast\n",
    "to `LdosMixing`, however, `KerkerMixing` is only suitable to model bulk metallic\n",
    "system (like the case we are considering here). When modelling metallic surfaces\n",
    "or mixtures of metals and insulators, `KerkerMixing` fails, while `LdosMixing`\n",
    "still works well. See the Modelling a gallium arsenide surface example\n",
    "or [^HL2021] for details. Due to the general applicability of `LdosMixing` this\n",
    "method is the default mixing approach in DFTK."
   ],
   "metadata": {}
  }
 ],
 "nbformat_minor": 3,
 "metadata": {
  "language_info": {
   "file_extension": ".jl",
   "mimetype": "application/julia",
   "name": "julia",
   "version": "1.8.2"
  },
  "kernelspec": {
   "name": "julia-1.8",
   "display_name": "Julia 1.8.2",
   "language": "julia"
  }
 },
 "nbformat": 4
}
