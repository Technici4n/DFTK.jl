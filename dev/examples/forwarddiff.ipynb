{
 "cells": [
  {
   "cell_type": "markdown",
   "source": [
    "# Polarizability using automatic differentiation\n",
    "\n",
    "Simple example for computing properties using (forward-mode)\n",
    "automatic differentiation.\n",
    "For a more classical approach and more details about computing polarizabilities,\n",
    "see Polarizability by linear response."
   ],
   "metadata": {}
  },
  {
   "outputs": [],
   "cell_type": "code",
   "source": [
    "using DFTK\n",
    "using LinearAlgebra\n",
    "using ForwardDiff\n",
    "\n",
    "# Construct PlaneWaveBasis given a particular electric field strength\n",
    "# Again we take the example of a Helium atom.\n",
    "function make_basis(ε::T; a=10., Ecut=30) where {T}\n",
    "    lattice=T(a) * I(3)  # lattice is a cube of $a$ Bohrs\n",
    "    # Helium at the center of the box\n",
    "    atoms     = [ElementPsp(:He, psp=load_psp(\"hgh/lda/He-q2\"))]\n",
    "    positions = [[1/2, 1/2, 1/2]]\n",
    "\n",
    "    model = model_DFT(lattice, atoms, positions, [:lda_x, :lda_c_vwn];\n",
    "                      extra_terms=[ExternalFromReal(r -> -ε * (r[1] - a/2))],\n",
    "                      symmetries=false)\n",
    "    PlaneWaveBasis(model; Ecut, kgrid=[1, 1, 1])  # No k-point sampling on isolated system\n",
    "end\n",
    "\n",
    "# dipole moment of a given density (assuming the current geometry)\n",
    "function dipole(basis, ρ)\n",
    "    @assert isdiag(basis.model.lattice)\n",
    "    a  = basis.model.lattice[1, 1]\n",
    "    rr = [a * (r[1] - 1/2) for r in r_vectors(basis)]\n",
    "    sum(rr .* ρ) * basis.dvol\n",
    "end\n",
    "\n",
    "# Function to compute the dipole for a given field strength\n",
    "function compute_dipole(ε; tol=1e-8, kwargs...)\n",
    "    scfres = self_consistent_field(make_basis(ε; kwargs...); tol)\n",
    "    dipole(scfres.basis, scfres.ρ)\n",
    "end;"
   ],
   "metadata": {},
   "execution_count": 1
  },
  {
   "cell_type": "markdown",
   "source": [
    "With this in place we can compute the polarizability from finite differences\n",
    "(just like in the previous example):"
   ],
   "metadata": {}
  },
  {
   "outputs": [
    {
     "name": "stdout",
     "output_type": "stream",
     "text": [
      "n     Energy            log10(ΔE)   log10(Δρ)   Diag   Δtime\n",
      "---   ---------------   ---------   ---------   ----   ------\n",
      "  1   -2.770919025522                   -0.52    9.0         \n",
      "  2   -2.772150136963       -2.91       -1.32    1.0    206ms\n",
      "  3   -2.772170350192       -4.69       -2.46    1.0    215ms\n",
      "  4   -2.772170662336       -6.51       -3.19    1.0    181ms\n",
      "  5   -2.772170722878       -7.22       -4.35    2.0    284ms\n",
      "  6   -2.772170722937      -10.23       -4.48    1.0    185ms\n",
      "  7   -2.772170723012      -10.13       -5.35    1.0    194ms\n",
      "  8   -2.772170723014      -11.63       -5.68    1.0    233ms\n",
      "  9   -2.772170723015      -12.13       -6.71    2.0    229ms\n",
      " 10   -2.772170723015   +  -15.05       -6.89    1.0    239ms\n",
      " 11   -2.772170723015   +  -14.01       -7.33    1.0    245ms\n",
      " 12   -2.772170723015      -14.07       -8.39    2.0    252ms\n",
      "n     Energy            log10(ΔE)   log10(Δρ)   Diag   Δtime\n",
      "---   ---------------   ---------   ---------   ----   ------\n",
      "  1   -2.770758896528                   -0.52    9.0         \n",
      "  2   -2.772058058982       -2.89       -1.32    1.0    176ms\n",
      "  3   -2.772083224861       -4.60       -2.51    1.0    181ms\n",
      "  4   -2.772083371381       -6.83       -3.30    1.0    210ms\n",
      "  5   -2.772083414336       -7.37       -3.77    2.0    214ms\n",
      "  6   -2.772083417697       -8.47       -4.81    1.0    199ms\n",
      "  7   -2.772083417809       -9.95       -5.28    2.0    521ms\n",
      "  8   -2.772083417811      -11.70       -6.30    1.0    287ms\n",
      "  9   -2.772083417811      -13.15       -6.98    2.0    802ms\n",
      " 10   -2.772083417811      -14.40       -7.23    1.0    218ms\n",
      " 11   -2.772083417811      -13.73       -8.29    1.0    233ms\n"
     ]
    },
    {
     "output_type": "execute_result",
     "data": {
      "text/plain": "1.7735578504242164"
     },
     "metadata": {},
     "execution_count": 2
    }
   ],
   "cell_type": "code",
   "source": [
    "polarizability_fd = let\n",
    "    ε = 0.01\n",
    "    (compute_dipole(ε) - compute_dipole(0.0)) / ε\n",
    "end"
   ],
   "metadata": {},
   "execution_count": 2
  },
  {
   "cell_type": "markdown",
   "source": [
    "We do the same thing using automatic differentiation. Under the hood this uses\n",
    "custom rules to implicitly differentiate through the self-consistent\n",
    "field fixed-point problem."
   ],
   "metadata": {}
  },
  {
   "outputs": [
    {
     "name": "stdout",
     "output_type": "stream",
     "text": [
      "n     Energy            log10(ΔE)   log10(Δρ)   Diag   Δtime\n",
      "---   ---------------   ---------   ---------   ----   ------\n",
      "  1   -2.770752871426                   -0.52    9.0         \n",
      "  2   -2.772059071763       -2.88       -1.33    1.0    172ms\n",
      "  3   -2.772082839514       -4.62       -2.41    1.0    214ms\n",
      "  4   -2.772083324722       -6.31       -3.09    1.0    180ms\n",
      "  5   -2.772083417715       -7.03       -4.76    2.0    261ms\n",
      "  6   -2.772083417798      -10.08       -4.79    2.0    218ms\n",
      "  7   -2.772083417807      -11.03       -5.46    1.0    210ms\n",
      "  8   -2.772083417811      -11.47       -6.30    2.0    232ms\n",
      "  9   -2.772083417811      -13.13       -7.04    1.0    231ms\n",
      " 10   -2.772083417811      -14.03       -8.07    2.0    247ms\n",
      "\n",
      "Polarizability via ForwardDiff:       1.7725349422078385\n",
      "Polarizability via finite difference: 1.7735578504242164\n"
     ]
    }
   ],
   "cell_type": "code",
   "source": [
    "polarizability = ForwardDiff.derivative(compute_dipole, 0.0)\n",
    "println()\n",
    "println(\"Polarizability via ForwardDiff:       $polarizability\")\n",
    "println(\"Polarizability via finite difference: $polarizability_fd\")"
   ],
   "metadata": {},
   "execution_count": 3
  }
 ],
 "nbformat_minor": 3,
 "metadata": {
  "language_info": {
   "file_extension": ".jl",
   "mimetype": "application/julia",
   "name": "julia",
   "version": "1.8.5"
  },
  "kernelspec": {
   "name": "julia-1.8",
   "display_name": "Julia 1.8.5",
   "language": "julia"
  }
 },
 "nbformat": 4
}
