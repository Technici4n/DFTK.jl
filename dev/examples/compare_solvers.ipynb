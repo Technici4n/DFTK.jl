{
 "cells": [
  {
   "cell_type": "markdown",
   "source": [
    "# Comparison of DFT solvers"
   ],
   "metadata": {}
  },
  {
   "cell_type": "markdown",
   "source": [
    "We compare four different approaches for solving the DFT minimisation problem,\n",
    "namely a density-based SCF, a potential-based SCF, direct minimisation and Newton."
   ],
   "metadata": {}
  },
  {
   "cell_type": "markdown",
   "source": [
    "First we setup our problem"
   ],
   "metadata": {}
  },
  {
   "outputs": [
    {
     "output_type": "execute_result",
     "data": {
      "text/plain": "1.0e-6"
     },
     "metadata": {},
     "execution_count": 1
    }
   ],
   "cell_type": "code",
   "source": [
    "using DFTK\n",
    "using LinearAlgebra\n",
    "\n",
    "a = 10.26  # Silicon lattice constant in Bohr\n",
    "lattice = a / 2 * [[0 1 1.];\n",
    "                   [1 0 1.];\n",
    "                   [1 1 0.]]\n",
    "Si = ElementPsp(:Si, psp=load_psp(\"hgh/lda/Si-q4\"))\n",
    "atoms     = [Si, Si]\n",
    "positions = [ones(3)/8, -ones(3)/8]\n",
    "\n",
    "model = model_LDA(lattice, atoms, positions)\n",
    "basis = PlaneWaveBasis(model; Ecut=5, kgrid=[3, 3, 3])\n",
    "\n",
    "# Convergence we desire in the density\n",
    "tol = 1e-6"
   ],
   "metadata": {},
   "execution_count": 1
  },
  {
   "cell_type": "markdown",
   "source": [
    "## Density-based self-consistent field"
   ],
   "metadata": {}
  },
  {
   "outputs": [
    {
     "name": "stdout",
     "output_type": "stream",
     "text": [
      "n     Energy            log10(ΔE)   log10(Δρ)   Diag   Δtime\n",
      "---   ---------------   ---------   ---------   ----   ------\n",
      "  1   -7.846877515916                   -0.70    4.8         \n",
      "  2   -7.852325060555       -2.26       -1.53    1.0   29.9ms\n",
      "  3   -7.852617180954       -3.53       -2.56    1.5   33.7ms\n",
      "  4   -7.852645982539       -4.54       -2.89    2.5   39.5ms\n",
      "  5   -7.852646515705       -6.27       -3.21    1.0   29.7ms\n",
      "  6   -7.852646680042       -6.78       -4.21    1.2   31.3ms\n",
      "  7   -7.852646686681       -8.18       -5.01    2.5   40.5ms\n",
      "  8   -7.852646686727      -10.34       -5.61    1.5   33.2ms\n",
      "  9   -7.852646686728      -11.82       -5.65    1.2    126ms\n",
      " 10   -7.852646686730      -11.87       -6.89    1.0   29.9ms\n"
     ]
    }
   ],
   "cell_type": "code",
   "source": [
    "scfres_scf = self_consistent_field(basis; tol);"
   ],
   "metadata": {},
   "execution_count": 2
  },
  {
   "cell_type": "markdown",
   "source": [
    "## Potential-based SCF"
   ],
   "metadata": {}
  },
  {
   "outputs": [
    {
     "name": "stdout",
     "output_type": "stream",
     "text": [
      "n     Energy            log10(ΔE)   log10(Δρ)   α      Diag   Δtime\n",
      "---   ---------------   ---------   ---------   ----   ----   ------\n",
      "  1   -7.846796056623                   -0.70           4.8         \n",
      "  2   -7.852524428549       -2.24       -1.63   0.80    2.0    298ms\n",
      "  3   -7.852635844107       -3.95       -2.71   0.80    1.0   28.5ms\n",
      "  4   -7.852646413953       -4.98       -3.27   0.80    2.2   36.4ms\n",
      "  5   -7.852646673526       -6.59       -4.08   0.80    1.2   29.3ms\n",
      "  6   -7.852646686431       -7.89       -4.67   0.80    1.8   34.1ms\n",
      "  7   -7.852646686722       -9.54       -5.56   0.80    1.5   31.3ms\n",
      "  8   -7.852646686730      -11.13       -6.81   0.80    2.0   33.6ms\n"
     ]
    }
   ],
   "cell_type": "code",
   "source": [
    "scfres_scfv = DFTK.scf_potential_mixing(basis; tol);"
   ],
   "metadata": {},
   "execution_count": 3
  },
  {
   "cell_type": "markdown",
   "source": [
    "## Direct minimization\n",
    "Note: Unlike the other algorithms, tolerance for this one is in the energy,\n",
    "thus we square the density tolerance value to be roughly equivalent."
   ],
   "metadata": {}
  },
  {
   "outputs": [
    {
     "name": "stdout",
     "output_type": "stream",
     "text": [
      "Iter     Function value   Gradient norm \n",
      "     0     1.376522e+01     3.273739e+00\n",
      " * time: 0.6213669776916504\n",
      "     1     1.163086e+00     2.015866e+00\n",
      " * time: 0.8521590232849121\n",
      "     2    -1.291250e+00     2.488249e+00\n",
      " * time: 0.8814489841461182\n",
      "     3    -3.848991e+00     1.922931e+00\n",
      " * time: 0.9234428405761719\n",
      "     4    -5.079111e+00     1.788699e+00\n",
      " * time: 0.9653220176696777\n",
      "     5    -6.831459e+00     8.197735e-01\n",
      " * time: 1.007126808166504\n",
      "     6    -7.435325e+00     3.498570e-01\n",
      " * time: 1.048750877380371\n",
      "     7    -7.664920e+00     1.746317e-01\n",
      " * time: 1.0775949954986572\n",
      "     8    -7.758537e+00     1.532436e-01\n",
      " * time: 1.1066968441009521\n",
      "     9    -7.802714e+00     1.174758e-01\n",
      " * time: 1.135854959487915\n",
      "    10    -7.829526e+00     7.852642e-02\n",
      " * time: 1.164902925491333\n",
      "    11    -7.841253e+00     4.417699e-02\n",
      " * time: 1.193199872970581\n",
      "    12    -7.847744e+00     3.557171e-02\n",
      " * time: 1.2220768928527832\n",
      "    13    -7.850799e+00     2.516393e-02\n",
      " * time: 1.250910997390747\n",
      "    14    -7.851969e+00     1.589498e-02\n",
      " * time: 1.2796030044555664\n",
      "    15    -7.852359e+00     8.883045e-03\n",
      " * time: 1.308516025543213\n",
      "    16    -7.852530e+00     6.756309e-03\n",
      " * time: 1.3377280235290527\n",
      "    17    -7.852607e+00     3.581530e-03\n",
      " * time: 1.366652011871338\n",
      "    18    -7.852632e+00     1.985511e-03\n",
      " * time: 1.3959848880767822\n",
      "    19    -7.852641e+00     1.358875e-03\n",
      " * time: 1.4254000186920166\n",
      "    20    -7.852645e+00     8.377123e-04\n",
      " * time: 1.455286979675293\n",
      "    21    -7.852646e+00     5.104849e-04\n",
      " * time: 1.4846899509429932\n",
      "    22    -7.852647e+00     2.658280e-04\n",
      " * time: 1.5146238803863525\n",
      "    23    -7.852647e+00     2.032926e-04\n",
      " * time: 1.5442078113555908\n",
      "    24    -7.852647e+00     8.056086e-05\n",
      " * time: 1.5733058452606201\n",
      "    25    -7.852647e+00     4.523751e-05\n",
      " * time: 1.602691888809204\n",
      "    26    -7.852647e+00     4.734207e-05\n",
      " * time: 1.632072925567627\n",
      "    27    -7.852647e+00     1.587260e-05\n",
      " * time: 1.6615948677062988\n",
      "    28    -7.852647e+00     9.162067e-06\n",
      " * time: 1.6916828155517578\n",
      "    29    -7.852647e+00     5.001478e-06\n",
      " * time: 1.7209899425506592\n",
      "    30    -7.852647e+00     4.217892e-06\n",
      " * time: 1.7500920295715332\n",
      "    31    -7.852647e+00     2.378615e-06\n",
      " * time: 1.7797620296478271\n",
      "    32    -7.852647e+00     1.283430e-06\n",
      " * time: 1.8090770244598389\n",
      "    33    -7.852647e+00     7.713543e-07\n",
      " * time: 1.8380730152130127\n",
      "    34    -7.852647e+00     5.567723e-07\n",
      " * time: 1.8676419258117676\n",
      "    35    -7.852647e+00     3.653492e-07\n",
      " * time: 1.896859884262085\n",
      "    36    -7.852647e+00     1.999152e-07\n",
      " * time: 1.9255919456481934\n",
      "    37    -7.852647e+00     1.244079e-07\n",
      " * time: 1.9544799327850342\n",
      "    38    -7.852647e+00     7.216124e-08\n",
      " * time: 1.9834678173065186\n",
      "    39    -7.852647e+00     4.022969e-08\n",
      " * time: 2.0129599571228027\n",
      "    40    -7.852647e+00     2.655694e-08\n",
      " * time: 2.0425379276275635\n",
      "    41    -7.852647e+00     1.848411e-08\n",
      " * time: 2.0717718601226807\n",
      "    42    -7.852647e+00     1.160924e-08\n",
      " * time: 2.1015589237213135\n",
      "    43    -7.852647e+00     6.862154e-09\n",
      " * time: 2.1312978267669678\n",
      "    44    -7.852647e+00     3.441560e-09\n",
      " * time: 2.1608729362487793\n",
      "    45    -7.852647e+00     3.424086e-09\n",
      " * time: 2.215920925140381\n",
      "    46    -7.852647e+00     3.424030e-09\n",
      " * time: 2.3080499172210693\n"
     ]
    }
   ],
   "cell_type": "code",
   "source": [
    "scfres_dm = direct_minimization(basis; tol=tol^2);"
   ],
   "metadata": {},
   "execution_count": 4
  },
  {
   "cell_type": "markdown",
   "source": [
    "## Newton algorithm"
   ],
   "metadata": {}
  },
  {
   "cell_type": "markdown",
   "source": [
    "Start not too far from the solution to ensure convergence:\n",
    "We run first a very crude SCF to get close and then switch to Newton."
   ],
   "metadata": {}
  },
  {
   "outputs": [
    {
     "name": "stdout",
     "output_type": "stream",
     "text": [
      "n     Energy            log10(ΔE)   log10(Δρ)   Diag   Δtime\n",
      "---   ---------------   ---------   ---------   ----   ------\n",
      "  1   -7.846821610930                   -0.70    4.5         \n"
     ]
    }
   ],
   "cell_type": "code",
   "source": [
    "scfres_start = self_consistent_field(basis; tol=0.5);"
   ],
   "metadata": {},
   "execution_count": 5
  },
  {
   "cell_type": "markdown",
   "source": [
    "Remove the virtual orbitals (which Newton cannot treat yet)"
   ],
   "metadata": {}
  },
  {
   "outputs": [
    {
     "name": "stdout",
     "output_type": "stream",
     "text": [
      "n     Energy            log10(ΔE)   log10(Δρ)   Δtime\n",
      "---   ---------------   ---------   ---------   ------\n",
      "  1   -7.852645874135                   -1.64         \n",
      "  2   -7.852646686730       -6.09       -3.71    1.93s\n",
      "  3   -7.852646686730      -13.21       -7.21    208ms\n"
     ]
    }
   ],
   "cell_type": "code",
   "source": [
    "ψ = DFTK.select_occupied_orbitals(basis, scfres_start.ψ, scfres_start.occupation).ψ\n",
    "scfres_newton = newton(basis, ψ; tol);"
   ],
   "metadata": {},
   "execution_count": 6
  },
  {
   "cell_type": "markdown",
   "source": [
    "## Comparison of results"
   ],
   "metadata": {}
  },
  {
   "outputs": [
    {
     "name": "stdout",
     "output_type": "stream",
     "text": [
      "|ρ_newton - ρ_scf|  = 2.1513621980340427e-7\n",
      "|ρ_newton - ρ_scfv| = 1.3814689553878664e-7\n",
      "|ρ_newton - ρ_dm|   = 1.1490597299993771e-9\n"
     ]
    }
   ],
   "cell_type": "code",
   "source": [
    "println(\"|ρ_newton - ρ_scf|  = \", norm(scfres_newton.ρ - scfres_scf.ρ))\n",
    "println(\"|ρ_newton - ρ_scfv| = \", norm(scfres_newton.ρ - scfres_scfv.ρ))\n",
    "println(\"|ρ_newton - ρ_dm|   = \", norm(scfres_newton.ρ - scfres_dm.ρ))"
   ],
   "metadata": {},
   "execution_count": 7
  }
 ],
 "nbformat_minor": 3,
 "metadata": {
  "language_info": {
   "file_extension": ".jl",
   "mimetype": "application/julia",
   "name": "julia",
   "version": "1.8.5"
  },
  "kernelspec": {
   "name": "julia-1.8",
   "display_name": "Julia 1.8.5",
   "language": "julia"
  }
 },
 "nbformat": 4
}
