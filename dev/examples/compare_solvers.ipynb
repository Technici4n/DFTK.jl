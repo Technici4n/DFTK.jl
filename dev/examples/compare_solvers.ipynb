{
 "cells": [
  {
   "cell_type": "markdown",
   "source": [
    "# Comparison of DFT solvers"
   ],
   "metadata": {}
  },
  {
   "cell_type": "markdown",
   "source": [
    "We compare four different approaches for solving the DFT minimisation problem,\n",
    "namely a density-based SCF, a potential-based SCF, direct minimisation and Newton."
   ],
   "metadata": {}
  },
  {
   "cell_type": "markdown",
   "source": [
    "First we setup our problem"
   ],
   "metadata": {}
  },
  {
   "outputs": [
    {
     "output_type": "execute_result",
     "data": {
      "text/plain": "1.0e-6"
     },
     "metadata": {},
     "execution_count": 1
    }
   ],
   "cell_type": "code",
   "source": [
    "using DFTK\n",
    "using LinearAlgebra\n",
    "\n",
    "a = 10.26  # Silicon lattice constant in Bohr\n",
    "lattice = a / 2 * [[0 1 1.];\n",
    "                   [1 0 1.];\n",
    "                   [1 1 0.]]\n",
    "Si = ElementPsp(:Si, psp=load_psp(\"hgh/lda/Si-q4\"))\n",
    "atoms     = [Si, Si]\n",
    "positions = [ones(3)/8, -ones(3)/8]\n",
    "\n",
    "model = model_LDA(lattice, atoms, positions)\n",
    "basis = PlaneWaveBasis(model; Ecut=5, kgrid=[3, 3, 3])\n",
    "\n",
    "# Convergence we desire in the density\n",
    "tol = 1e-6"
   ],
   "metadata": {},
   "execution_count": 1
  },
  {
   "cell_type": "markdown",
   "source": [
    "## Density-based self-consistent field"
   ],
   "metadata": {}
  },
  {
   "outputs": [
    {
     "name": "stdout",
     "output_type": "stream",
     "text": [
      "n     Energy            log10(ΔE)   log10(Δρ)   Diag   Δtime\n",
      "---   ---------------   ---------   ---------   ----   ------\n",
      "  1   -7.846629091653                   -0.70    4.8         \n",
      "  2   -7.852292290129       -2.25       -1.53    1.0   27.7ms\n",
      "  3   -7.852611123377       -3.50       -2.55    1.8   31.8ms\n",
      "  4   -7.852645951281       -4.46       -2.88    2.5   38.1ms\n",
      "  5   -7.852646481349       -6.28       -3.14    1.0   27.8ms\n",
      "  6   -7.852646678831       -6.70       -4.01    1.0   27.8ms\n",
      "  7   -7.852646686585       -8.11       -5.13    1.8   33.9ms\n",
      "  8   -7.852646686726       -9.85       -5.52    1.8   34.4ms\n",
      "  9   -7.852646686723   +  -11.67       -5.39    1.5   33.5ms\n",
      " 10   -7.852646686730      -11.20       -7.05    1.0   29.7ms\n"
     ]
    }
   ],
   "cell_type": "code",
   "source": [
    "scfres_scf = self_consistent_field(basis; tol);"
   ],
   "metadata": {},
   "execution_count": 2
  },
  {
   "cell_type": "markdown",
   "source": [
    "## Potential-based SCF"
   ],
   "metadata": {}
  },
  {
   "outputs": [
    {
     "name": "stdout",
     "output_type": "stream",
     "text": [
      "n     Energy            log10(ΔE)   log10(Δρ)   α      Diag   Δtime\n",
      "---   ---------------   ---------   ---------   ----   ----   ------\n",
      "  1   -7.846865747351                   -0.70           4.5         \n",
      "  2   -7.852527656192       -2.25       -1.63   0.80    2.2    302ms\n",
      "  3   -7.852637331248       -3.96       -2.71   0.80    1.0   27.7ms\n",
      "  4   -7.852646453292       -5.04       -3.32   0.80    2.2   36.8ms\n",
      "  5   -7.852646675102       -6.65       -4.16   0.80    1.5   31.0ms\n",
      "  6   -7.852646686373       -7.95       -4.74   0.80    1.8   32.1ms\n",
      "  7   -7.852646686720       -9.46       -5.54   0.80    1.8   33.2ms\n",
      "  8   -7.852646686730      -11.04       -6.43   0.80    1.8   32.1ms\n"
     ]
    }
   ],
   "cell_type": "code",
   "source": [
    "scfres_scfv = DFTK.scf_potential_mixing(basis; tol);"
   ],
   "metadata": {},
   "execution_count": 3
  },
  {
   "cell_type": "markdown",
   "source": [
    "## Direct minimization\n",
    "Note: Unlike the other algorithms, tolerance for this one is in the energy,\n",
    "thus we square the density tolerance value to be roughly equivalent."
   ],
   "metadata": {}
  },
  {
   "outputs": [
    {
     "name": "stdout",
     "output_type": "stream",
     "text": [
      "Iter     Function value   Gradient norm \n",
      "     0     1.396035e+01     3.766948e+00\n",
      " * time: 0.4759640693664551\n",
      "     1     1.316217e+00     1.779567e+00\n",
      " * time: 0.701862096786499\n",
      "     2    -1.267434e+00     2.130194e+00\n",
      " * time: 0.7300810813903809\n",
      "     3    -3.655668e+00     1.827853e+00\n",
      " * time: 0.7695000171661377\n",
      "     4    -5.085818e+00     1.610329e+00\n",
      " * time: 0.809532880783081\n",
      "     5    -6.756341e+00     8.795136e-01\n",
      " * time: 0.8488819599151611\n",
      "     6    -7.433152e+00     2.866285e-01\n",
      " * time: 0.8885760307312012\n",
      "     7    -7.634654e+00     1.774934e-01\n",
      " * time: 0.9161789417266846\n",
      "     8    -7.737193e+00     1.473833e-01\n",
      " * time: 0.943321943283081\n",
      "     9    -7.792022e+00     6.701587e-02\n",
      " * time: 0.9711670875549316\n",
      "    10    -7.827638e+00     5.928948e-02\n",
      " * time: 0.9995729923248291\n",
      "    11    -7.842692e+00     5.519228e-02\n",
      " * time: 1.0280780792236328\n",
      "    12    -7.849212e+00     3.360990e-02\n",
      " * time: 1.0574209690093994\n",
      "    13    -7.851440e+00     2.438694e-02\n",
      " * time: 1.0860199928283691\n",
      "    14    -7.852192e+00     1.124148e-02\n",
      " * time: 1.1138429641723633\n",
      "    15    -7.852477e+00     6.278195e-03\n",
      " * time: 1.1407279968261719\n",
      "    16    -7.852584e+00     3.791369e-03\n",
      " * time: 1.1681458950042725\n",
      "    17    -7.852626e+00     2.068904e-03\n",
      " * time: 1.1957190036773682\n",
      "    18    -7.852640e+00     1.333910e-03\n",
      " * time: 1.223444938659668\n",
      "    19    -7.852644e+00     8.119499e-04\n",
      " * time: 1.2512168884277344\n",
      "    20    -7.852646e+00     5.244067e-04\n",
      " * time: 1.278040885925293\n",
      "    21    -7.852646e+00     2.520515e-04\n",
      " * time: 1.3053040504455566\n",
      "    22    -7.852647e+00     2.489793e-04\n",
      " * time: 1.332935094833374\n",
      "    23    -7.852647e+00     1.388509e-04\n",
      " * time: 1.3607659339904785\n",
      "    24    -7.852647e+00     6.697719e-05\n",
      " * time: 1.3877549171447754\n",
      "    25    -7.852647e+00     4.576099e-05\n",
      " * time: 1.4159209728240967\n",
      "    26    -7.852647e+00     1.825455e-05\n",
      " * time: 1.4433190822601318\n",
      "    27    -7.852647e+00     1.239378e-05\n",
      " * time: 1.4701988697052002\n",
      "    28    -7.852647e+00     6.747042e-06\n",
      " * time: 1.5838699340820312\n",
      "    29    -7.852647e+00     3.762053e-06\n",
      " * time: 1.6122419834136963\n",
      "    30    -7.852647e+00     2.486269e-06\n",
      " * time: 1.6405029296875\n",
      "    31    -7.852647e+00     1.332615e-06\n",
      " * time: 1.6682770252227783\n",
      "    32    -7.852647e+00     9.956631e-07\n",
      " * time: 1.6965608596801758\n",
      "    33    -7.852647e+00     6.840569e-07\n",
      " * time: 1.7246060371398926\n",
      "    34    -7.852647e+00     3.674532e-07\n",
      " * time: 1.7533619403839111\n",
      "    35    -7.852647e+00     2.393621e-07\n",
      " * time: 1.7815239429473877\n",
      "    36    -7.852647e+00     1.338205e-07\n",
      " * time: 1.8093550205230713\n",
      "    37    -7.852647e+00     7.374461e-08\n",
      " * time: 1.8370580673217773\n",
      "    38    -7.852647e+00     4.605135e-08\n",
      " * time: 1.8653409481048584\n",
      "    39    -7.852647e+00     2.557907e-08\n",
      " * time: 1.8933489322662354\n",
      "    40    -7.852647e+00     2.557907e-08\n",
      " * time: 2.031712055206299\n"
     ]
    }
   ],
   "cell_type": "code",
   "source": [
    "scfres_dm = direct_minimization(basis; tol=tol^2);"
   ],
   "metadata": {},
   "execution_count": 4
  },
  {
   "cell_type": "markdown",
   "source": [
    "## Newton algorithm"
   ],
   "metadata": {}
  },
  {
   "cell_type": "markdown",
   "source": [
    "Start not too far from the solution to ensure convergence:\n",
    "We run first a very crude SCF to get close and then switch to Newton."
   ],
   "metadata": {}
  },
  {
   "outputs": [
    {
     "name": "stdout",
     "output_type": "stream",
     "text": [
      "n     Energy            log10(ΔE)   log10(Δρ)   Diag   Δtime\n",
      "---   ---------------   ---------   ---------   ----   ------\n",
      "  1   -7.846815551532                   -0.70    4.5         \n"
     ]
    }
   ],
   "cell_type": "code",
   "source": [
    "scfres_start = self_consistent_field(basis; tol=0.5);"
   ],
   "metadata": {},
   "execution_count": 5
  },
  {
   "cell_type": "markdown",
   "source": [
    "Remove the virtual orbitals (which Newton cannot treat yet)"
   ],
   "metadata": {}
  },
  {
   "outputs": [
    {
     "name": "stdout",
     "output_type": "stream",
     "text": [
      "n     Energy            log10(ΔE)   log10(Δρ)   Δtime\n",
      "---   ---------------   ---------   ---------   ------\n",
      "  1   -7.852645904789                   -1.64         \n",
      "  2   -7.852646686730       -6.11       -3.71    1.91s\n",
      "  3   -7.852646686730      -13.30       -7.24    197ms\n"
     ]
    }
   ],
   "cell_type": "code",
   "source": [
    "ψ = DFTK.select_occupied_orbitals(basis, scfres_start.ψ, scfres_start.occupation).ψ\n",
    "scfres_newton = newton(basis, ψ; tol);"
   ],
   "metadata": {},
   "execution_count": 6
  },
  {
   "cell_type": "markdown",
   "source": [
    "## Comparison of results"
   ],
   "metadata": {}
  },
  {
   "outputs": [
    {
     "name": "stdout",
     "output_type": "stream",
     "text": [
      "|ρ_newton - ρ_scf|  = 2.8117322311769275e-7\n",
      "|ρ_newton - ρ_scfv| = 2.656208286506178e-7\n",
      "|ρ_newton - ρ_dm|   = 2.194235965037396e-9\n"
     ]
    }
   ],
   "cell_type": "code",
   "source": [
    "println(\"|ρ_newton - ρ_scf|  = \", norm(scfres_newton.ρ - scfres_scf.ρ))\n",
    "println(\"|ρ_newton - ρ_scfv| = \", norm(scfres_newton.ρ - scfres_scfv.ρ))\n",
    "println(\"|ρ_newton - ρ_dm|   = \", norm(scfres_newton.ρ - scfres_dm.ρ))"
   ],
   "metadata": {},
   "execution_count": 7
  }
 ],
 "nbformat_minor": 3,
 "metadata": {
  "language_info": {
   "file_extension": ".jl",
   "mimetype": "application/julia",
   "name": "julia",
   "version": "1.8.5"
  },
  "kernelspec": {
   "name": "julia-1.8",
   "display_name": "Julia 1.8.5",
   "language": "julia"
  }
 },
 "nbformat": 4
}
