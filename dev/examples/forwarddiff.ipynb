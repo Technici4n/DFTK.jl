{
 "cells": [
  {
   "cell_type": "markdown",
   "source": [
    "# Polarizability using automatic differentiation\n",
    "\n",
    "Simple example for computing properties using (forward-mode)\n",
    "automatic differentiation.\n",
    "For a more classical approach and more details about computing polarizabilities,\n",
    "see Polarizability by linear response."
   ],
   "metadata": {}
  },
  {
   "outputs": [],
   "cell_type": "code",
   "source": [
    "using DFTK\n",
    "using LinearAlgebra\n",
    "using ForwardDiff\n",
    "\n",
    "# Construct PlaneWaveBasis given a particular electric field strength\n",
    "# Again we take the example of a Helium atom.\n",
    "function make_basis(ε::T; a=10., Ecut=30) where {T}\n",
    "    lattice=T(a) * I(3)  # lattice is a cube of $a$ Bohrs\n",
    "    # Helium at the center of the box\n",
    "    atoms     = [ElementPsp(:He, psp=load_psp(\"hgh/lda/He-q2\"))]\n",
    "    positions = [[1/2, 1/2, 1/2]]\n",
    "\n",
    "    model = model_DFT(lattice, atoms, positions, [:lda_x, :lda_c_vwn];\n",
    "                      extra_terms=[ExternalFromReal(r -> -ε * (r[1] - a/2))],\n",
    "                      symmetries=false)\n",
    "    PlaneWaveBasis(model; Ecut, kgrid=[1, 1, 1])  # No k-point sampling on isolated system\n",
    "end\n",
    "\n",
    "# dipole moment of a given density (assuming the current geometry)\n",
    "function dipole(basis, ρ)\n",
    "    @assert isdiag(basis.model.lattice)\n",
    "    a  = basis.model.lattice[1, 1]\n",
    "    rr = [a * (r[1] - 1/2) for r in r_vectors(basis)]\n",
    "    sum(rr .* ρ) * basis.dvol\n",
    "end\n",
    "\n",
    "# Function to compute the dipole for a given field strength\n",
    "function compute_dipole(ε; tol=1e-8, kwargs...)\n",
    "    scfres = self_consistent_field(make_basis(ε; kwargs...); tol)\n",
    "    dipole(scfres.basis, scfres.ρ)\n",
    "end;"
   ],
   "metadata": {},
   "execution_count": 1
  },
  {
   "cell_type": "markdown",
   "source": [
    "With this in place we can compute the polarizability from finite differences\n",
    "(just like in the previous example):"
   ],
   "metadata": {}
  },
  {
   "outputs": [
    {
     "name": "stdout",
     "output_type": "stream",
     "text": [
      "n     Energy            log10(ΔE)   log10(Δρ)   Diag   Δtime\n",
      "---   ---------------   ---------   ---------   ----   ------\n",
      "  1   -2.770912216008                   -0.52    9.0         \n",
      "  2   -2.772149607843       -2.91       -1.32    1.0    136ms\n",
      "  3   -2.772170324301       -4.68       -2.45    1.0    165ms\n",
      "  4   -2.772170656526       -6.48       -3.17    1.0    140ms\n",
      "  5   -2.772170722766       -7.18       -4.21    2.0    171ms\n",
      "  6   -2.772170722892       -9.90       -4.39    1.0    161ms\n",
      "  7   -2.772170723010       -9.93       -5.14    1.0    145ms\n",
      "  8   -2.772170723015      -11.34       -5.67    1.0    161ms\n",
      "  9   -2.772170723015      -12.27       -6.54    2.0    169ms\n",
      " 10   -2.772170723015      -14.65       -6.76    1.0    165ms\n",
      " 11   -2.772170723015      -14.21       -7.74    1.0    161ms\n",
      " 12   -2.772170723015      -15.35       -8.24    1.0    171ms\n",
      "n     Energy            log10(ΔE)   log10(Δρ)   Diag   Δtime\n",
      "---   ---------------   ---------   ---------   ----   ------\n",
      "  1   -2.770698533841                   -0.53    9.0         \n",
      "  2   -2.772054438241       -2.87       -1.30    1.0    136ms\n",
      "  3   -2.772082989599       -4.54       -2.64    1.0    153ms\n",
      "  4   -2.772083416516       -6.37       -4.06    2.0    157ms\n",
      "  5   -2.772083417757       -8.91       -4.68    2.0    194ms\n",
      "  6   -2.772083417808      -10.29       -5.55    1.0    143ms\n",
      "  7   -2.772083417811      -11.56       -6.10    2.0    176ms\n",
      "  8   -2.772083417811      -13.25       -7.03    1.0    150ms\n",
      "  9   -2.772083417811      -14.03       -7.60    2.0    181ms\n",
      " 10   -2.772083417811   +  -14.31       -7.80    2.0    175ms\n",
      " 11   -2.772083417811   +  -13.99       -9.44    1.0    159ms\n"
     ]
    },
    {
     "output_type": "execute_result",
     "data": {
      "text/plain": "1.7735582742911242"
     },
     "metadata": {},
     "execution_count": 2
    }
   ],
   "cell_type": "code",
   "source": [
    "polarizability_fd = let\n",
    "    ε = 0.01\n",
    "    (compute_dipole(ε) - compute_dipole(0.0)) / ε\n",
    "end"
   ],
   "metadata": {},
   "execution_count": 2
  },
  {
   "cell_type": "markdown",
   "source": [
    "We do the same thing using automatic differentiation. Under the hood this uses\n",
    "custom rules to implicitly differentiate through the self-consistent\n",
    "field fixed-point problem."
   ],
   "metadata": {}
  },
  {
   "outputs": [
    {
     "name": "stdout",
     "output_type": "stream",
     "text": [
      "n     Energy            log10(ΔE)   log10(Δρ)   Diag   Δtime\n",
      "---   ---------------   ---------   ---------   ----   ------\n",
      "  1   -2.770759656811                   -0.53    9.0         \n",
      "  2   -2.772054707116       -2.89       -1.32    1.0    170ms\n",
      "  3   -2.772083109650       -4.55       -2.53    1.0    139ms\n",
      "  4   -2.772083383775       -6.56       -3.48    1.0    155ms\n",
      "  5   -2.772083416429       -7.49       -3.94    2.0    191ms\n",
      "  6   -2.772083417778       -8.87       -5.47    1.0    143ms\n",
      "  7   -2.772083417810      -10.49       -5.71    3.0    194ms\n",
      "  8   -2.772083417811      -12.48       -5.90    1.0    149ms\n",
      "  9   -2.772083417811      -13.09       -6.93    1.0    166ms\n",
      " 10   -2.772083417811      -14.40       -7.25    1.0    157ms\n",
      " 11   -2.772083417811      -13.85       -7.98    1.0    163ms\n",
      " 12   -2.772083417811      -14.57       -8.32    2.0    178ms\n",
      "\n",
      "Polarizability via ForwardDiff:       1.7725349810579116\n",
      "Polarizability via finite difference: 1.7735582742911242\n"
     ]
    }
   ],
   "cell_type": "code",
   "source": [
    "polarizability = ForwardDiff.derivative(compute_dipole, 0.0)\n",
    "println()\n",
    "println(\"Polarizability via ForwardDiff:       $polarizability\")\n",
    "println(\"Polarizability via finite difference: $polarizability_fd\")"
   ],
   "metadata": {},
   "execution_count": 3
  }
 ],
 "nbformat_minor": 3,
 "metadata": {
  "language_info": {
   "file_extension": ".jl",
   "mimetype": "application/julia",
   "name": "julia",
   "version": "1.9.1"
  },
  "kernelspec": {
   "name": "julia-1.9",
   "display_name": "Julia 1.9.1",
   "language": "julia"
  }
 },
 "nbformat": 4
}
