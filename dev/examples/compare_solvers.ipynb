{
 "cells": [
  {
   "cell_type": "markdown",
   "source": [
    "# Comparison of DFT solvers"
   ],
   "metadata": {}
  },
  {
   "cell_type": "markdown",
   "source": [
    "We compare four different approaches for solving the DFT minimisation problem,\n",
    "namely a density-based SCF, a potential-based SCF, direct minimisation and Newton."
   ],
   "metadata": {}
  },
  {
   "cell_type": "markdown",
   "source": [
    "First we setup our problem"
   ],
   "metadata": {}
  },
  {
   "outputs": [],
   "cell_type": "code",
   "source": [
    "using DFTK\n",
    "using LinearAlgebra\n",
    "\n",
    "a = 10.26  # Silicon lattice constant in Bohr\n",
    "lattice = a / 2 * [[0 1 1.];\n",
    "                   [1 0 1.];\n",
    "                   [1 1 0.]]\n",
    "Si = ElementPsp(:Si, psp=load_psp(\"hgh/lda/Si-q4\"))\n",
    "atoms     = [Si, Si]\n",
    "positions = [ones(3)/8, -ones(3)/8]\n",
    "\n",
    "model = model_LDA(lattice, atoms, positions)\n",
    "basis = PlaneWaveBasis(model; Ecut=5, kgrid=[3, 3, 3])\n",
    "\n",
    "# Convergence we desire\n",
    "tol = 1e-12\n",
    "is_converged = DFTK.ScfConvergenceDensity(tol);"
   ],
   "metadata": {},
   "execution_count": 1
  },
  {
   "cell_type": "markdown",
   "source": [
    "## Density-based self-consistent field"
   ],
   "metadata": {}
  },
  {
   "outputs": [
    {
     "name": "stdout",
     "output_type": "stream",
     "text": [
      "n     Energy            log10(ΔE)   log10(Δρ)   Diag\n",
      "---   ---------------   ---------   ---------   ----\n",
      "  1   -7.846730013116                   -0.70    4.8\n",
      "  2   -7.852297476594       -2.25       -1.53    1.0\n",
      "  3   -7.852646205854       -3.46       -2.52    3.2\n",
      "  4   -7.852646678705       -6.33       -3.35    2.5\n",
      "  5   -7.852646686037       -8.13       -4.81    1.0\n",
      "  6   -7.852646686724       -9.16       -5.27    3.2\n",
      "  7   -7.852646686730      -11.22       -6.11    1.8\n",
      "  8   -7.852646686730      -12.66       -7.44    2.2\n",
      "  9   -7.852646686730      -15.05       -7.54    2.2\n",
      " 10   -7.852646686730      -15.05       -8.55    2.0\n",
      " 11   -7.852646686730   +  -14.75       -9.64    2.5\n",
      " 12   -7.852646686730   +    -Inf       -8.31    1.0\n",
      " 13   -7.852646686730      -14.57       -8.22    1.8\n",
      " 14   -7.852646686730   +  -15.05       -7.79    3.0\n",
      " 15   -7.852646686730   +    -Inf       -8.55    2.2\n",
      " 16   -7.852646686730      -14.75       -8.88    1.0\n",
      " 17   -7.852646686730   +  -14.27       -9.51    2.0\n",
      " 18   -7.852646686730      -14.75       -9.94    1.0\n",
      " 19   -7.852646686730   +  -14.75      -10.14    1.0\n",
      " 20   -7.852646686730      -14.45      -10.64    1.0\n",
      " 21   -7.852646686730   +    -Inf      -10.70    1.2\n",
      " 22   -7.852646686730   +  -14.45      -11.49    2.0\n",
      " 23   -7.852646686730      -14.75      -11.46    1.0\n",
      " 24   -7.852646686730   +    -Inf      -11.57    1.0\n",
      " 25   -7.852646686730      -14.75      -11.86    1.0\n",
      " 26   -7.852646686730   +  -14.57      -12.60    1.5\n"
     ]
    }
   ],
   "cell_type": "code",
   "source": [
    "scfres_scf = self_consistent_field(basis; is_converged);"
   ],
   "metadata": {},
   "execution_count": 2
  },
  {
   "cell_type": "markdown",
   "source": [
    "## Potential-based SCF"
   ],
   "metadata": {}
  },
  {
   "outputs": [
    {
     "name": "stdout",
     "output_type": "stream",
     "text": [
      "n     Energy            log10(ΔE)   log10(Δρ)   α      Diag\n",
      "---   ---------------   ---------   ---------   ----   ----\n",
      "  1   -7.846871244231                   -0.70           4.8\n",
      "  2   -7.852527793827       -2.25       -1.63   0.80    2.0\n",
      "  3   -7.852637328623       -3.96       -2.70   0.80    1.0\n",
      "  4   -7.852646414032       -5.04       -3.29   0.80    2.2\n",
      "  5   -7.852646672857       -6.59       -4.09   0.80    1.2\n",
      "  6   -7.852646686389       -7.87       -4.70   0.80    1.8\n",
      "  7   -7.852646686724       -9.48       -5.52   0.80    1.5\n",
      "  8   -7.852646686729      -11.28       -6.79   0.80    1.8\n",
      "  9   -7.852646686730      -12.40       -7.40   0.80    2.8\n",
      " 10   -7.852646686730      -15.05       -8.28   0.80    1.5\n",
      " 11   -7.852646686730   +    -Inf       -8.84   0.80    2.0\n",
      " 12   -7.852646686730   +    -Inf       -9.95   0.80    1.8\n",
      " 13   -7.852646686730      -14.57      -10.61   0.80    2.2\n",
      " 14   -7.852646686730   +  -14.75      -11.20   0.80    1.0\n",
      " 15   -7.852646686730   +    -Inf      -11.78   0.80    1.8\n",
      " 16   -7.852646686730   +    -Inf      -12.45   0.80    1.8\n"
     ]
    }
   ],
   "cell_type": "code",
   "source": [
    "scfres_scfv = DFTK.scf_potential_mixing(basis; is_converged);"
   ],
   "metadata": {},
   "execution_count": 3
  },
  {
   "cell_type": "markdown",
   "source": [
    "## Direct minimization"
   ],
   "metadata": {}
  },
  {
   "outputs": [
    {
     "name": "stdout",
     "output_type": "stream",
     "text": [
      "Iter     Function value   Gradient norm \n",
      "     0     1.364083e+01     3.391886e+00\n",
      " * time: 0.5088930130004883\n",
      "     1     1.218643e+00     1.726350e+00\n",
      " * time: 0.7754168510437012\n",
      "     2    -1.727633e+00     1.763779e+00\n",
      " * time: 0.8053689002990723\n",
      "     3    -3.657240e+00     1.589369e+00\n",
      " * time: 0.8493309020996094\n",
      "     4    -5.040456e+00     1.499949e+00\n",
      " * time: 0.8933939933776855\n",
      "     5    -6.524960e+00     1.037728e+00\n",
      " * time: 0.9359309673309326\n",
      "     6    -7.151184e+00     3.838461e-01\n",
      " * time: 0.977916955947876\n",
      "     7    -7.375578e+00     2.112753e-01\n",
      " * time: 1.0074548721313477\n",
      "     8    -7.497848e+00     1.317448e-01\n",
      " * time: 1.0383689403533936\n",
      "     9    -7.609609e+00     1.372735e-01\n",
      " * time: 1.0683188438415527\n",
      "    10    -7.674418e+00     1.025169e-01\n",
      " * time: 1.1008808612823486\n",
      "    11    -7.737962e+00     1.085641e-01\n",
      " * time: 1.1307430267333984\n",
      "    12    -7.776292e+00     1.338638e-01\n",
      " * time: 1.1607389450073242\n",
      "    13    -7.819154e+00     1.072218e-01\n",
      " * time: 1.1916520595550537\n",
      "    14    -7.840407e+00     5.499377e-02\n",
      " * time: 1.2221760749816895\n",
      "    15    -7.849797e+00     3.788567e-02\n",
      " * time: 1.252310037612915\n",
      "    16    -7.851776e+00     2.891556e-02\n",
      " * time: 1.2824039459228516\n",
      "    17    -7.852372e+00     1.241775e-02\n",
      " * time: 1.3224458694458008\n",
      "    18    -7.852567e+00     3.290563e-03\n",
      " * time: 1.3540098667144775\n",
      "    19    -7.852627e+00     1.978151e-03\n",
      " * time: 1.3838698863983154\n",
      "    20    -7.852641e+00     1.401265e-03\n",
      " * time: 1.4134838581085205\n",
      "    21    -7.852645e+00     8.352015e-04\n",
      " * time: 1.549659013748169\n",
      "    22    -7.852646e+00     6.105182e-04\n",
      " * time: 1.5801868438720703\n",
      "    23    -7.852647e+00     1.650617e-04\n",
      " * time: 1.6103198528289795\n",
      "    24    -7.852647e+00     1.168613e-04\n",
      " * time: 1.6392769813537598\n",
      "    25    -7.852647e+00     9.541988e-05\n",
      " * time: 1.6688108444213867\n",
      "    26    -7.852647e+00     4.862762e-05\n",
      " * time: 1.6982698440551758\n",
      "    27    -7.852647e+00     3.568315e-05\n",
      " * time: 1.728044033050537\n",
      "    28    -7.852647e+00     2.291864e-05\n",
      " * time: 1.7574708461761475\n",
      "    29    -7.852647e+00     1.395378e-05\n",
      " * time: 1.7871389389038086\n",
      "    30    -7.852647e+00     6.114566e-06\n",
      " * time: 1.8167550563812256\n",
      "    31    -7.852647e+00     4.382440e-06\n",
      " * time: 1.8475408554077148\n",
      "    32    -7.852647e+00     2.717336e-06\n",
      " * time: 1.8774158954620361\n",
      "    33    -7.852647e+00     1.554120e-06\n",
      " * time: 1.9069008827209473\n",
      "    34    -7.852647e+00     9.187713e-07\n",
      " * time: 1.9392249584197998\n",
      "    35    -7.852647e+00     4.318948e-07\n",
      " * time: 1.9697799682617188\n",
      "    36    -7.852647e+00     2.767258e-07\n",
      " * time: 2.0006020069122314\n",
      "    37    -7.852647e+00     2.278477e-07\n",
      " * time: 2.030587911605835\n",
      "    38    -7.852647e+00     1.163659e-07\n",
      " * time: 2.0602829456329346\n",
      "    39    -7.852647e+00     4.635197e-08\n",
      " * time: 2.090224027633667\n",
      "    40    -7.852647e+00     2.655885e-08\n",
      " * time: 2.1196060180664062\n",
      "    41    -7.852647e+00     1.811403e-08\n",
      " * time: 2.149137020111084\n",
      "    42    -7.852647e+00     1.804129e-08\n",
      " * time: 2.2163169384002686\n",
      "    43    -7.852647e+00     1.802353e-08\n",
      " * time: 2.2953040599823\n"
     ]
    }
   ],
   "cell_type": "code",
   "source": [
    "scfres_dm = direct_minimization(basis; tol);"
   ],
   "metadata": {},
   "execution_count": 4
  },
  {
   "cell_type": "markdown",
   "source": [
    "## Newton algorithm"
   ],
   "metadata": {}
  },
  {
   "cell_type": "markdown",
   "source": [
    "Start not too far from the solution to ensure convergence:\n",
    "We run first a very crude SCF to get close and then switch to Newton."
   ],
   "metadata": {}
  },
  {
   "outputs": [
    {
     "name": "stdout",
     "output_type": "stream",
     "text": [
      "n     Energy            log10(ΔE)   log10(Δρ)   Diag\n",
      "---   ---------------   ---------   ---------   ----\n",
      "  1   -7.846865260643                   -0.70    4.8\n",
      "  2   -7.852319033040       -2.26       -1.53    1.0\n"
     ]
    }
   ],
   "cell_type": "code",
   "source": [
    "scfres_start = self_consistent_field(basis; tol=1e-1);"
   ],
   "metadata": {},
   "execution_count": 5
  },
  {
   "cell_type": "markdown",
   "source": [
    "Remove the virtual orbitals (which Newton cannot treat yet)"
   ],
   "metadata": {}
  },
  {
   "outputs": [
    {
     "name": "stdout",
     "output_type": "stream",
     "text": [
      "n     Energy            log10(ΔE)   log10(Δρ)\n",
      "---   ---------------   ---------   ---------\n",
      "  1   -7.852646686708                   -2.55\n",
      "  2   -7.852646686730      -10.66       -5.97\n",
      "  3   -7.852646686730      -14.57      -12.59\n"
     ]
    }
   ],
   "cell_type": "code",
   "source": [
    "ψ = DFTK.select_occupied_orbitals(basis, scfres_start.ψ, scfres_start.occupation).ψ\n",
    "scfres_newton = newton(basis, ψ; tol);"
   ],
   "metadata": {},
   "execution_count": 6
  },
  {
   "cell_type": "markdown",
   "source": [
    "## Comparison of results"
   ],
   "metadata": {}
  },
  {
   "outputs": [
    {
     "name": "stdout",
     "output_type": "stream",
     "text": [
      "|ρ_newton - ρ_scf|  = 1.4794578518618143e-13\n",
      "|ρ_newton - ρ_scfv| = 1.3181875466942052e-13\n",
      "|ρ_newton - ρ_dm|   = 1.9399112120854075e-9\n"
     ]
    }
   ],
   "cell_type": "code",
   "source": [
    "println(\"|ρ_newton - ρ_scf|  = \", norm(scfres_newton.ρ - scfres_scf.ρ))\n",
    "println(\"|ρ_newton - ρ_scfv| = \", norm(scfres_newton.ρ - scfres_scfv.ρ))\n",
    "println(\"|ρ_newton - ρ_dm|   = \", norm(scfres_newton.ρ - scfres_dm.ρ))"
   ],
   "metadata": {},
   "execution_count": 7
  }
 ],
 "nbformat_minor": 3,
 "metadata": {
  "language_info": {
   "file_extension": ".jl",
   "mimetype": "application/julia",
   "name": "julia",
   "version": "1.8.2"
  },
  "kernelspec": {
   "name": "julia-1.8",
   "display_name": "Julia 1.8.2",
   "language": "julia"
  }
 },
 "nbformat": 4
}
