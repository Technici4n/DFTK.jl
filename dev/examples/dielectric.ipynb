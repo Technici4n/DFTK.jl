{
 "cells": [
  {
   "cell_type": "markdown",
   "source": [
    "# Eigenvalues of the dielectric matrix\n",
    "\n",
    "We compute a few eigenvalues of the dielectric matrix ($q=0$, $ω=0$) iteratively."
   ],
   "metadata": {}
  },
  {
   "outputs": [
    {
     "name": "stdout",
     "output_type": "stream",
     "text": [
      "n     Energy            log10(ΔE)   log10(Δρ)   Diag   Δtime\n",
      "---   ---------------   ---------   ---------   ----   ------\n",
      "  1   -7.234257402960                   -0.50    8.0         \n",
      "  2   -7.250306401201       -1.79       -1.40    1.0   13.7ms\n",
      "  3   -7.251178527403       -3.06       -2.11    1.0   12.9ms\n",
      "  4   -7.251294657912       -3.94       -2.20    2.0   16.8ms\n",
      "  5   -7.251336213163       -4.38       -2.85    1.0   14.5ms\n",
      "  6   -7.251337634760       -5.85       -3.11    2.0   16.9ms\n",
      "  7   -7.251338570873       -6.03       -3.46    1.0   16.0ms\n",
      "  8   -7.251338784727       -6.67       -4.03    1.0   14.4ms\n",
      "  9   -7.251338797162       -7.91       -4.55    1.0   14.7ms\n",
      " 10   -7.251338798599       -8.84       -4.92    2.0   17.0ms\n",
      " 11   -7.251338798688      -10.05       -5.57    1.0   15.8ms\n",
      " 12   -7.251338798698      -11.03       -5.51    3.0   19.2ms\n",
      " 13   -7.251338798703      -11.26       -6.07    1.0   14.7ms\n",
      " 14   -7.251338798704      -12.05       -6.17    3.0   21.0ms\n",
      " 15   -7.251338798704      -12.45       -6.67    1.0   15.0ms\n",
      " 16   -7.251338798705      -13.16       -7.41    3.0   18.8ms\n",
      " 17   -7.251338798705      -14.27       -7.83    2.0   17.6ms\n",
      " 18   -7.251338798705   +  -14.45       -8.20    1.0   15.5ms\n"
     ]
    }
   ],
   "cell_type": "code",
   "source": [
    "using DFTK\n",
    "using Plots\n",
    "using KrylovKit\n",
    "using Printf\n",
    "\n",
    "# Calculation parameters\n",
    "kgrid = [1, 1, 1]\n",
    "Ecut = 5\n",
    "\n",
    "# Silicon lattice\n",
    "a = 10.26\n",
    "lattice = a / 2 .* [[0 1 1.]; [1 0 1.]; [1 1 0.]]\n",
    "Si = ElementPsp(:Si, psp=load_psp(\"hgh/lda/Si-q4\"))\n",
    "atoms     = [Si, Si]\n",
    "positions = [ones(3)/8, -ones(3)/8]\n",
    "\n",
    "# Compute the dielectric operator without symmetries\n",
    "model  = model_LDA(lattice, atoms, positions, symmetries=false)\n",
    "basis  = PlaneWaveBasis(model; Ecut, kgrid)\n",
    "scfres = self_consistent_field(basis, tol=1e-8);"
   ],
   "metadata": {},
   "execution_count": 1
  },
  {
   "cell_type": "markdown",
   "source": [
    "Applying $ε^† ≔ (1- χ_0 K)$ …"
   ],
   "metadata": {}
  },
  {
   "outputs": [],
   "cell_type": "code",
   "source": [
    "function eps_fun(δρ)\n",
    "    δV = apply_kernel(basis, δρ; ρ=scfres.ρ)\n",
    "    χ0δV = apply_χ0(scfres, δV)\n",
    "    δρ - χ0δV\n",
    "end;"
   ],
   "metadata": {},
   "execution_count": 2
  },
  {
   "cell_type": "markdown",
   "source": [
    "… eagerly diagonalizes the subspace matrix at each iteration"
   ],
   "metadata": {}
  },
  {
   "outputs": [
    {
     "name": "stdout",
     "output_type": "stream",
     "text": [
      "[ Info: Arnoldi iteration step 1: normres = 0.03138490359375267\n",
      "[ Info: Arnoldi iteration step 2: normres = 0.49150925413628044\n",
      "[ Info: Arnoldi iteration step 3: normres = 0.8656800419522814\n",
      "[ Info: Arnoldi iteration step 4: normres = 0.37678892208401576\n",
      "[ Info: Arnoldi iteration step 5: normres = 0.5661534113911141\n",
      "[ Info: Arnoldi schursolve in iter 1, krylovdim = 5: 0 values converged, normres = (9.49e-02, 8.31e-02, 5.08e-01, 2.14e-01, 2.06e-02)\n",
      "[ Info: Arnoldi iteration step 6: normres = 0.27595608823884915\n",
      "[ Info: Arnoldi schursolve in iter 1, krylovdim = 6: 0 values converged, normres = (2.20e-02, 1.40e-01, 1.91e-01, 1.08e-01, 4.40e-02)\n",
      "[ Info: Arnoldi iteration step 7: normres = 0.09253487092473002\n",
      "[ Info: Arnoldi schursolve in iter 1, krylovdim = 7: 0 values converged, normres = (1.02e-03, 1.38e-02, 1.42e-02, 6.74e-02, 5.20e-02)\n",
      "[ Info: Arnoldi iteration step 8: normres = 0.11441338973765317\n",
      "[ Info: Arnoldi schursolve in iter 1, krylovdim = 8: 0 values converged, normres = (5.02e-05, 1.12e-03, 1.28e-03, 2.43e-02, 3.92e-02)\n",
      "[ Info: Arnoldi iteration step 9: normres = 0.07570814750296007\n",
      "[ Info: Arnoldi schursolve in iter 1, krylovdim = 9: 0 values converged, normres = (1.67e-06, 6.19e-05, 7.86e-05, 7.09e-03, 3.92e-02)\n",
      "[ Info: Arnoldi iteration step 10: normres = 0.09612427286724302\n",
      "[ Info: Arnoldi schursolve in iter 1, krylovdim = 10: 0 values converged, normres = (7.03e-08, 4.35e-06, 6.16e-06, 2.58e-03, 3.75e-02)\n",
      "[ Info: Arnoldi iteration step 11: normres = 0.07675639802301878\n",
      "[ Info: Arnoldi schursolve in iter 1, krylovdim = 11: 0 values converged, normres = (2.34e-09, 2.39e-07, 3.77e-07, 7.13e-04, 2.61e-02)\n",
      "[ Info: Arnoldi iteration step 12: normres = 0.07406425030301789\n",
      "[ Info: Arnoldi schursolve in iter 1, krylovdim = 12: 0 values converged, normres = (7.40e-11, 1.24e-08, 2.15e-08, 1.60e-04, 1.10e-02)\n",
      "[ Info: Arnoldi iteration step 13: normres = 0.05283814379168265\n",
      "[ Info: Arnoldi schursolve in iter 1, krylovdim = 13: 0 values converged, normres = (1.66e-12, 4.52e-10, 8.73e-10, 2.46e-05, 3.18e-03)\n",
      "[ Info: Arnoldi iteration step 14: normres = 0.6770509900699812\n",
      "[ Info: Arnoldi schursolve in iter 1, krylovdim = 14: 1 values converged, normres = (6.76e-13, 4.04e-10, 9.55e-10, 6.64e-01, 5.01e-02)\n",
      "[ Info: Arnoldi iteration step 15: normres = 0.09428710513403506\n",
      "[ Info: Arnoldi schursolve in iter 1, krylovdim = 15: 1 values converged, normres = (4.29e-14, 1.72e-10, 6.18e-02, 6.51e-04, 8.16e-06)\n",
      "[ Info: Arnoldi iteration step 16: normres = 0.5079766652923932\n",
      "[ Info: Arnoldi schursolve in iter 1, krylovdim = 16: 1 values converged, normres = (1.89e-14, 3.96e-10, 1.84e-01, 9.47e-03, 4.70e-01)\n",
      "[ Info: Arnoldi iteration step 17: normres = 0.031773273011038924\n",
      "[ Info: Arnoldi schursolve in iter 1, krylovdim = 17: 1 values converged, normres = (3.07e-16, 7.27e-03, 7.31e-03, 5.19e-03, 2.73e-03)\n",
      "[ Info: Arnoldi iteration step 18: normres = 0.018907625766942503\n",
      "[ Info: Arnoldi schursolve in iter 1, krylovdim = 18: 1 values converged, normres = (2.40e-18, 5.46e-06, 1.29e-04, 4.66e-08, 8.08e-05)\n",
      "[ Info: Arnoldi iteration step 19: normres = 0.07584460038393541\n",
      "[ Info: Arnoldi schursolve in iter 1, krylovdim = 19: 1 values converged, normres = (7.49e-20, 1.02e-08, 6.41e-06, 3.58e-06, 2.61e-06)\n",
      "[ Info: Arnoldi iteration step 20: normres = 0.1381711158021469\n",
      "[ Info: Arnoldi schursolve in iter 1, krylovdim = 20: 1 values converged, normres = (5.04e-21, 6.88e-07, 3.48e-07, 2.62e-08, 6.07e-07)\n",
      "[ Info: Arnoldi iteration step 21: normres = 0.03499352743563376\n",
      "[ Info: Arnoldi schursolve in iter 1, krylovdim = 21: 1 values converged, normres = (7.50e-23, 3.22e-09, 1.85e-08, 8.19e-09, 1.42e-08)\n",
      "[ Info: Arnoldi iteration step 22: normres = 0.038954206954338946\n",
      "[ Info: Arnoldi schursolve in iter 1, krylovdim = 22: 1 values converged, normres = (1.21e-24, 3.08e-10, 3.73e-10, 1.51e-10, 4.41e-10)\n",
      "[ Info: Arnoldi iteration step 23: normres = 0.5956145619760913\n",
      "[ Info: Arnoldi schursolve in iter 1, krylovdim = 23: 1 values converged, normres = (5.15e-25, 3.76e-10, 4.54e-10, 2.64e-10, 7.48e-10)\n",
      "[ Info: Arnoldi iteration step 24: normres = 0.01473387288970404\n",
      "[ Info: Arnoldi schursolve in iter 1, krylovdim = 24: 1 values converged, normres = (4.15e-27, 1.26e-11, 1.53e-11, 7.30e-09, 1.85e-08)\n",
      "[ Info: Arnoldi iteration step 25: normres = 0.06621540846878178\n",
      "[ Info: Arnoldi schursolve in iter 1, krylovdim = 25: 3 values converged, normres = (1.14e-28, 5.54e-13, 6.69e-13, 1.85e-04, 2.86e-04)\n",
      "[ Info: Arnoldi iteration step 26: normres = 0.052698766311565295\n",
      "[ Info: Arnoldi schursolve in iter 1, krylovdim = 26: 3 values converged, normres = (2.70e-30, 2.23e-14, 2.69e-14, 6.35e-09, 5.27e-08)\n",
      "[ Info: Arnoldi iteration step 27: normres = 0.014086227408361485\n",
      "[ Info: Arnoldi schursolve in iter 1, krylovdim = 27: 3 values converged, normres = (1.56e-32, 2.06e-16, 2.48e-16, 2.42e-09, 6.72e-09)\n",
      "[ Info: Arnoldi iteration step 28: normres = 0.04834563444311887\n",
      "[ Info: Arnoldi schursolve in iter 1, krylovdim = 28: 3 values converged, normres = (3.11e-34, 6.53e-18, 7.88e-18, 7.93e-10, 5.40e-09)\n",
      "[ Info: Arnoldi iteration step 29: normres = 0.04913205532561565\n",
      "[ Info: Arnoldi schursolve in iter 1, krylovdim = 29: 3 values converged, normres = (6.76e-36, 2.37e-19, 2.86e-19, 4.22e-11, 2.22e-10)\n",
      "[ Info: Arnoldi iteration step 30: normres = 0.06891480626042489\n",
      "[ Info: Arnoldi schursolve in iter 1, krylovdim = 30: 3 values converged, normres = (1.94e-37, 1.09e-20, 1.32e-20, 2.17e-12, 1.13e-11)\n",
      "[ Info: Arnoldi schursolve in iter 2, krylovdim = 19: 3 values converged, normres = (1.94e-37, 1.09e-20, 1.32e-20, 2.17e-12, 1.13e-11)\n",
      "[ Info: Arnoldi iteration step 20: normres = 0.14796576885628454\n",
      "[ Info: Arnoldi schursolve in iter 2, krylovdim = 20: 4 values converged, normres = (1.39e-38, 1.40e-21, 1.69e-21, 3.16e-13, 1.64e-12)\n",
      "[ Info: Arnoldi iteration step 21: normres = 0.08749808225990101\n",
      "┌ Info: Arnoldi eigsolve finished after 2 iterations:\n",
      "│ *  6 eigenvalues converged\n",
      "│ *  norm of residuals = (5.287311004333552e-40, 8.817177483473892e-23, 5.414782055833094e-23, 2.2257217982247585e-14, 1.1602171130407596e-13, 4.3833414754138314e-14)\n",
      "└ *  number of operations = 32\n"
     ]
    }
   ],
   "cell_type": "code",
   "source": [
    "eigsolve(eps_fun, randn(size(scfres.ρ)), 5, :LM; eager=true, verbosity=3);"
   ],
   "metadata": {},
   "execution_count": 3
  }
 ],
 "nbformat_minor": 3,
 "metadata": {
  "language_info": {
   "file_extension": ".jl",
   "mimetype": "application/julia",
   "name": "julia",
   "version": "1.8.5"
  },
  "kernelspec": {
   "name": "julia-1.8",
   "display_name": "Julia 1.8.5",
   "language": "julia"
  }
 },
 "nbformat": 4
}
