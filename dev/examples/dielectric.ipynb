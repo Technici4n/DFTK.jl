{
 "cells": [
  {
   "cell_type": "markdown",
   "source": [
    "# Eigenvalues of the dielectric matrix\n",
    "\n",
    "We compute a few eigenvalues of the dielectric matrix ($q=0$, $ω=0$) iteratively."
   ],
   "metadata": {}
  },
  {
   "outputs": [
    {
     "name": "stdout",
     "output_type": "stream",
     "text": [
      "n     Energy            log10(ΔE)   log10(Δρ)   Diag\n",
      "---   ---------------   ---------   ---------   ----\n",
      "  1   -7.235179941925                   -0.50    8.0\n",
      "  2   -7.250421397233       -1.82       -1.40    1.0\n",
      "  3   -7.251320096781       -3.05       -2.18    3.0\n",
      "  4   -7.251297337985   +   -4.64       -2.31    3.0\n",
      "  5   -7.251331750366       -4.46       -2.74    2.0\n",
      "  6   -7.251337956816       -5.21       -3.15    2.0\n",
      "  7   -7.251338790951       -6.08       -4.15    1.0\n",
      "  8   -7.251338797349       -8.19       -4.53    4.0\n",
      "  9   -7.251338798623       -8.89       -5.16    3.0\n",
      " 10   -7.251338798703      -10.10       -5.84    2.0\n",
      " 11   -7.251338798704      -11.96       -6.43    2.0\n",
      " 12   -7.251338798705      -12.90       -6.82    3.0\n",
      " 13   -7.251338798705      -13.51       -7.58    2.0\n",
      " 14   -7.251338798705      -14.75       -8.06    3.0\n"
     ]
    }
   ],
   "cell_type": "code",
   "source": [
    "using DFTK\n",
    "using Plots\n",
    "using KrylovKit\n",
    "using Printf\n",
    "\n",
    "# Calculation parameters\n",
    "kgrid = [1, 1, 1]\n",
    "Ecut = 5\n",
    "\n",
    "# Silicon lattice\n",
    "a = 10.26\n",
    "lattice = a / 2 .* [[0 1 1.]; [1 0 1.]; [1 1 0.]]\n",
    "Si = ElementPsp(:Si, psp=load_psp(\"hgh/lda/Si-q4\"))\n",
    "atoms     = [Si, Si]\n",
    "positions = [ones(3)/8, -ones(3)/8]\n",
    "\n",
    "# Compute the dielectric operator without symmetries\n",
    "model = model_LDA(lattice, atoms, positions, symmetries=false)\n",
    "basis = PlaneWaveBasis(model; Ecut, kgrid)\n",
    "scfres = self_consistent_field(basis, tol=1e-14);"
   ],
   "metadata": {},
   "execution_count": 1
  },
  {
   "cell_type": "markdown",
   "source": [
    "Applying $ε^† ≔ (1- χ_0 K)$ …"
   ],
   "metadata": {}
  },
  {
   "outputs": [],
   "cell_type": "code",
   "source": [
    "function eps_fun(δρ)\n",
    "    δV = apply_kernel(basis, δρ; ρ=scfres.ρ)\n",
    "    χ0δV = apply_χ0(scfres, δV)\n",
    "    δρ - χ0δV\n",
    "end;"
   ],
   "metadata": {},
   "execution_count": 2
  },
  {
   "cell_type": "markdown",
   "source": [
    "… eagerly diagonalizes the subspace matrix at each iteration"
   ],
   "metadata": {}
  },
  {
   "outputs": [
    {
     "name": "stdout",
     "output_type": "stream",
     "text": [
      "[ Info: Arnoldi iteration step 1: normres = 0.03922020409277574\n",
      "[ Info: Arnoldi iteration step 2: normres = 0.5429151809476288\n",
      "[ Info: Arnoldi iteration step 3: normres = 0.8941554859018614\n",
      "[ Info: Arnoldi iteration step 4: normres = 0.4132563908628417\n",
      "[ Info: Arnoldi iteration step 5: normres = 0.3947730994467661\n",
      "[ Info: Arnoldi schursolve in iter 1, krylovdim = 5: 0 values converged, normres = (5.91e-02, 7.14e-02, 3.21e-01, 2.10e-01, 1.62e-02)\n",
      "[ Info: Arnoldi iteration step 6: normres = 0.3731084049216086\n",
      "[ Info: Arnoldi schursolve in iter 1, krylovdim = 6: 0 values converged, normres = (1.95e-02, 1.91e-01, 2.84e-01, 1.05e-01, 4.49e-02)\n",
      "[ Info: Arnoldi iteration step 7: normres = 0.07677366706418545\n",
      "[ Info: Arnoldi schursolve in iter 1, krylovdim = 7: 0 values converged, normres = (7.61e-04, 1.80e-02, 1.33e-02, 3.58e-02, 5.80e-02)\n",
      "[ Info: Arnoldi iteration step 8: normres = 0.09154984754735458\n",
      "[ Info: Arnoldi schursolve in iter 1, krylovdim = 8: 0 values converged, normres = (2.93e-05, 1.12e-03, 9.15e-04, 8.82e-03, 2.84e-02)\n",
      "[ Info: Arnoldi iteration step 9: normres = 0.06039425328532043\n",
      "[ Info: Arnoldi schursolve in iter 1, krylovdim = 9: 0 values converged, normres = (7.68e-07, 4.86e-05, 4.39e-05, 1.81e-03, 1.93e-02)\n",
      "[ Info: Arnoldi iteration step 10: normres = 0.06970096944574636\n",
      "[ Info: Arnoldi schursolve in iter 1, krylovdim = 10: 0 values converged, normres = (2.29e-08, 2.37e-06, 2.37e-06, 3.79e-04, 1.14e-02)\n",
      "[ Info: Arnoldi iteration step 11: normres = 0.09031187748761697\n",
      "[ Info: Arnoldi schursolve in iter 1, krylovdim = 11: 0 values converged, normres = (8.92e-10, 1.52e-07, 1.69e-07, 1.10e-04, 1.10e-02)\n",
      "[ Info: Arnoldi iteration step 12: normres = 0.1204097421459303\n",
      "[ Info: Arnoldi schursolve in iter 1, krylovdim = 12: 0 values converged, normres = (4.73e-11, 1.34e-08, 1.67e-08, 5.34e-05, 6.09e-02)\n",
      "[ Info: Arnoldi iteration step 13: normres = 0.09334926955121553\n",
      "[ Info: Arnoldi schursolve in iter 1, krylovdim = 13: 0 values converged, normres = (1.93e-12, 9.10e-10, 1.26e-09, 1.96e-05, 4.80e-02)\n",
      "[ Info: Arnoldi iteration step 14: normres = 0.49817520072489524\n",
      "[ Info: Arnoldi schursolve in iter 1, krylovdim = 14: 1 values converged, normres = (8.16e-13, 1.68e-09, 4.84e-09, 4.96e-01, 4.80e-03)\n",
      "[ Info: Arnoldi iteration step 15: normres = 0.1888855165456658\n",
      "[ Info: Arnoldi schursolve in iter 1, krylovdim = 15: 1 values converged, normres = (7.76e-14, 9.25e-10, 7.03e-02, 1.43e-04, 6.08e-06)\n",
      "[ Info: Arnoldi iteration step 16: normres = 0.17549871177838172\n",
      "[ Info: Arnoldi schursolve in iter 1, krylovdim = 16: 1 values converged, normres = (1.35e-14, 7.35e-09, 1.05e-01, 6.85e-04, 1.39e-01)\n",
      "[ Info: Arnoldi iteration step 17: normres = 0.03615562162663925\n",
      "[ Info: Arnoldi schursolve in iter 1, krylovdim = 17: 1 values converged, normres = (2.07e-16, 5.41e-08, 2.80e-03, 5.85e-07, 3.48e-03)\n",
      "[ Info: Arnoldi iteration step 18: normres = 0.02161267829181631\n",
      "[ Info: Arnoldi schursolve in iter 1, krylovdim = 18: 1 values converged, normres = (1.85e-18, 3.86e-05, 1.11e-05, 5.43e-05, 9.06e-06)\n",
      "[ Info: Arnoldi iteration step 19: normres = 0.08302753782808116\n",
      "[ Info: Arnoldi schursolve in iter 1, krylovdim = 19: 1 values converged, normres = (6.36e-20, 2.28e-07, 2.19e-06, 4.92e-07, 3.29e-06)\n",
      "[ Info: Arnoldi iteration step 20: normres = 0.1521635469374768\n",
      "[ Info: Arnoldi schursolve in iter 1, krylovdim = 20: 1 values converged, normres = (4.70e-21, 7.48e-08, 2.82e-07, 5.75e-08, 4.98e-07)\n",
      "[ Info: Arnoldi iteration step 21: normres = 0.025724447699981202\n",
      "[ Info: Arnoldi schursolve in iter 1, krylovdim = 21: 1 values converged, normres = (5.15e-23, 3.09e-09, 4.24e-09, 8.91e-09, 4.55e-09)\n",
      "[ Info: Arnoldi iteration step 22: normres = 0.03129046393138792\n",
      "[ Info: Arnoldi schursolve in iter 1, krylovdim = 22: 1 values converged, normres = (6.62e-25, 5.92e-11, 8.95e-11, 1.79e-10, 1.37e-10)\n",
      "[ Info: Arnoldi iteration step 23: normres = 0.6076920296269422\n",
      "[ Info: Arnoldi schursolve in iter 1, krylovdim = 23: 1 values converged, normres = (2.79e-25, 6.75e-11, 1.02e-10, 2.75e-10, 2.12e-10)\n",
      "[ Info: Arnoldi iteration step 24: normres = 0.015121068113727211\n",
      "[ Info: Arnoldi schursolve in iter 1, krylovdim = 24: 1 values converged, normres = (2.38e-27, 2.55e-12, 3.86e-12, 5.17e-03, 4.16e-04)\n",
      "[ Info: Arnoldi iteration step 25: normres = 0.03830805991677514\n",
      "[ Info: Arnoldi schursolve in iter 1, krylovdim = 25: 3 values converged, normres = (3.75e-29, 6.37e-14, 9.63e-14, 7.97e-09, 8.89e-09)\n",
      "[ Info: Arnoldi iteration step 26: normres = 0.08665167216252966\n",
      "[ Info: Arnoldi schursolve in iter 1, krylovdim = 26: 3 values converged, normres = (1.46e-30, 4.17e-15, 6.31e-15, 7.33e-06, 1.39e-05)\n",
      "[ Info: Arnoldi iteration step 27: normres = 0.03067883844725807\n",
      "[ Info: Arnoldi schursolve in iter 1, krylovdim = 27: 3 values converged, normres = (1.86e-32, 8.55e-17, 1.29e-16, 3.49e-09, 1.82e-09)\n",
      "[ Info: Arnoldi iteration step 28: normres = 0.08904473957718395\n",
      "[ Info: Arnoldi schursolve in iter 1, krylovdim = 28: 3 values converged, normres = (7.22e-34, 5.50e-18, 8.31e-18, 2.46e-09, 4.99e-09)\n",
      "[ Info: Arnoldi iteration step 29: normres = 0.015033532592960608\n",
      "[ Info: Arnoldi schursolve in iter 1, krylovdim = 29: 3 values converged, normres = (4.55e-36, 5.60e-20, 8.46e-20, 5.29e-11, 2.04e-10)\n",
      "[ Info: Arnoldi iteration step 30: normres = 0.21919912357135987\n",
      "[ Info: Arnoldi schursolve in iter 1, krylovdim = 30: 3 values converged, normres = (4.35e-37, 8.86e-21, 1.34e-20, 9.23e-12, 3.55e-11)\n",
      "[ Info: Arnoldi schursolve in iter 2, krylovdim = 19: 3 values converged, normres = (4.35e-37, 8.86e-21, 1.34e-20, 9.23e-12, 3.55e-11)\n",
      "[ Info: Arnoldi iteration step 20: normres = 0.044462874693620695\n",
      "[ Info: Arnoldi schursolve in iter 2, krylovdim = 20: 4 values converged, normres = (9.61e-39, 3.27e-22, 4.94e-22, 3.88e-13, 1.49e-12)\n",
      "[ Info: Arnoldi iteration step 21: normres = 0.07264824339495819\n",
      "┌ Info: Arnoldi eigsolve finished after 2 iterations:\n",
      "│ *  6 eigenvalues converged\n",
      "│ *  norm of residuals = (2.8306563335863713e-40, 1.6585976766237666e-23, 2.846104629384365e-23, 2.1741346452079364e-14, 7.439533412223172e-14, 4.382405217155948e-14)\n",
      "└ *  number of operations = 32\n"
     ]
    }
   ],
   "cell_type": "code",
   "source": [
    "eigsolve(eps_fun, randn(size(scfres.ρ)), 5, :LM; eager=true, verbosity=3);"
   ],
   "metadata": {},
   "execution_count": 3
  }
 ],
 "nbformat_minor": 3,
 "metadata": {
  "language_info": {
   "file_extension": ".jl",
   "mimetype": "application/julia",
   "name": "julia",
   "version": "1.8.1"
  },
  "kernelspec": {
   "name": "julia-1.8",
   "display_name": "Julia 1.8.1",
   "language": "julia"
  }
 },
 "nbformat": 4
}
