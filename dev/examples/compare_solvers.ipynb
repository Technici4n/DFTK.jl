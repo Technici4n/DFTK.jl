{
 "cells": [
  {
   "cell_type": "markdown",
   "source": [
    "# Comparison of DFT solvers"
   ],
   "metadata": {}
  },
  {
   "cell_type": "markdown",
   "source": [
    "We compare four different approaches for solving the DFT minimisation problem,\n",
    "namely a density-based SCF, a potential-based SCF, direct minimisation and Newton."
   ],
   "metadata": {}
  },
  {
   "cell_type": "markdown",
   "source": [
    "First we setup our problem"
   ],
   "metadata": {}
  },
  {
   "outputs": [
    {
     "output_type": "execute_result",
     "data": {
      "text/plain": "1.0e-6"
     },
     "metadata": {},
     "execution_count": 1
    }
   ],
   "cell_type": "code",
   "source": [
    "using DFTK\n",
    "using LinearAlgebra\n",
    "\n",
    "a = 10.26  # Silicon lattice constant in Bohr\n",
    "lattice = a / 2 * [[0 1 1.];\n",
    "                   [1 0 1.];\n",
    "                   [1 1 0.]]\n",
    "Si = ElementPsp(:Si, psp=load_psp(\"hgh/lda/Si-q4\"))\n",
    "atoms     = [Si, Si]\n",
    "positions = [ones(3)/8, -ones(3)/8]\n",
    "\n",
    "model = model_LDA(lattice, atoms, positions)\n",
    "basis = PlaneWaveBasis(model; Ecut=5, kgrid=[3, 3, 3])\n",
    "\n",
    "# Convergence we desire in the density\n",
    "tol = 1e-6"
   ],
   "metadata": {},
   "execution_count": 1
  },
  {
   "cell_type": "markdown",
   "source": [
    "## Density-based self-consistent field"
   ],
   "metadata": {}
  },
  {
   "outputs": [
    {
     "name": "stdout",
     "output_type": "stream",
     "text": [
      "n     Energy            log10(ΔE)   log10(Δρ)   Diag   Δtime\n",
      "---   ---------------   ---------   ---------   ----   ------\n",
      "  1   -7.846690176429                   -0.70    4.5         \n",
      "  2   -7.852288877771       -2.25       -1.53    1.0   23.7ms\n",
      "  3   -7.852613942761       -3.49       -2.56    1.5   26.3ms\n",
      "  4   -7.852646023079       -4.49       -2.88    2.8   32.9ms\n",
      "  5   -7.852646491170       -6.33       -3.15    1.0   23.6ms\n",
      "  6   -7.852646678792       -6.73       -4.06    1.0   23.7ms\n",
      "  7   -7.852646686672       -8.10       -5.14    2.0   29.9ms\n",
      "  8   -7.852646686727      -10.27       -5.56    1.8   28.0ms\n",
      "  9   -7.852646686728      -11.88       -5.63    1.5   26.2ms\n",
      " 10   -7.852646686730      -11.73       -6.68    1.0   24.1ms\n"
     ]
    }
   ],
   "cell_type": "code",
   "source": [
    "scfres_scf = self_consistent_field(basis; tol);"
   ],
   "metadata": {},
   "execution_count": 2
  },
  {
   "cell_type": "markdown",
   "source": [
    "## Potential-based SCF"
   ],
   "metadata": {}
  },
  {
   "outputs": [
    {
     "name": "stdout",
     "output_type": "stream",
     "text": [
      "n     Energy            log10(ΔE)   log10(Δρ)   α      Diag   Δtime\n",
      "---   ---------------   ---------   ---------   ----   ----   ------\n",
      "  1   -7.846781672809                   -0.70           4.8         \n",
      "  2   -7.852524122506       -2.24       -1.63   0.80    2.0    260ms\n",
      "  3   -7.852636137718       -3.95       -2.71   0.80    1.0   22.1ms\n",
      "  4   -7.852646452967       -4.99       -3.29   0.80    2.2   29.1ms\n",
      "  5   -7.852646682512       -6.64       -4.16   0.80    1.5   25.2ms\n",
      "  6   -7.852646686391       -8.41       -4.86   0.80    1.2   23.5ms\n",
      "  7   -7.852646686724       -9.48       -5.78   0.80    2.0   28.0ms\n",
      "  8   -7.852646686730      -11.24       -6.78   0.80    2.0   27.5ms\n"
     ]
    }
   ],
   "cell_type": "code",
   "source": [
    "scfres_scfv = DFTK.scf_potential_mixing(basis; tol);"
   ],
   "metadata": {},
   "execution_count": 3
  },
  {
   "cell_type": "markdown",
   "source": [
    "## Direct minimization\n",
    "Note: Unlike the other algorithms, tolerance for this one is in the energy,\n",
    "thus we square the density tolerance value to be roughly equivalent."
   ],
   "metadata": {}
  },
  {
   "outputs": [
    {
     "name": "stdout",
     "output_type": "stream",
     "text": [
      "Iter     Function value   Gradient norm \n",
      "     0     1.397886e+01     3.225698e+00\n",
      " * time: 0.5280659198760986\n",
      "     1     1.626213e+00     1.639029e+00\n",
      " * time: 0.7212350368499756\n",
      "     2    -1.428603e+00     1.828125e+00\n",
      " * time: 0.7439520359039307\n",
      "     3    -3.776991e+00     1.670345e+00\n",
      " * time: 0.776879072189331\n",
      "     4    -5.205702e+00     1.430526e+00\n",
      " * time: 0.8098890781402588\n",
      "     5    -6.846106e+00     8.849961e-01\n",
      " * time: 0.8429510593414307\n",
      "     6    -6.977307e+00     1.056861e+00\n",
      " * time: 0.8657059669494629\n",
      "     7    -7.534875e+00     4.591650e-01\n",
      " * time: 0.8884499073028564\n",
      "     8    -7.641885e+00     3.147881e-01\n",
      " * time: 0.9111299514770508\n",
      "     9    -7.699276e+00     1.030460e-01\n",
      " * time: 0.9339380264282227\n",
      "    10    -7.735008e+00     1.122988e-01\n",
      " * time: 0.9568078517913818\n",
      "    11    -7.763552e+00     1.144315e-01\n",
      " * time: 0.9796040058135986\n",
      "    12    -7.790969e+00     8.544607e-02\n",
      " * time: 1.0029919147491455\n",
      "    13    -7.816070e+00     6.705947e-02\n",
      " * time: 1.0258018970489502\n",
      "    14    -7.830875e+00     6.038422e-02\n",
      " * time: 1.0487010478973389\n",
      "    15    -7.843926e+00     5.101501e-02\n",
      " * time: 1.071333885192871\n",
      "    16    -7.849587e+00     5.374488e-02\n",
      " * time: 1.0940618515014648\n",
      "    17    -7.851904e+00     1.559198e-02\n",
      " * time: 1.1169779300689697\n",
      "    18    -7.852409e+00     8.602194e-03\n",
      " * time: 1.1396219730377197\n",
      "    19    -7.852561e+00     4.919714e-03\n",
      " * time: 1.162397861480713\n",
      "    20    -7.852615e+00     2.513881e-03\n",
      " * time: 1.1851589679718018\n",
      "    21    -7.852639e+00     1.262315e-03\n",
      " * time: 1.2077958583831787\n",
      "    22    -7.852645e+00     1.003515e-03\n",
      " * time: 1.2305819988250732\n",
      "    23    -7.852646e+00     5.644911e-04\n",
      " * time: 1.253471851348877\n",
      "    24    -7.852647e+00     2.645585e-04\n",
      " * time: 1.2761199474334717\n",
      "    25    -7.852647e+00     1.374221e-04\n",
      " * time: 1.2989869117736816\n",
      "    26    -7.852647e+00     1.207315e-04\n",
      " * time: 1.3221418857574463\n",
      "    27    -7.852647e+00     5.084242e-05\n",
      " * time: 1.3446528911590576\n",
      "    28    -7.852647e+00     3.470966e-05\n",
      " * time: 1.3673629760742188\n",
      "    29    -7.852647e+00     2.249653e-05\n",
      " * time: 1.3901100158691406\n",
      "    30    -7.852647e+00     1.158524e-05\n",
      " * time: 1.4128458499908447\n",
      "    31    -7.852647e+00     1.111498e-05\n",
      " * time: 1.4356708526611328\n",
      "    32    -7.852647e+00     6.407685e-06\n",
      " * time: 1.4584360122680664\n",
      "    33    -7.852647e+00     2.636395e-06\n",
      " * time: 1.4812629222869873\n",
      "    34    -7.852647e+00     1.504592e-06\n",
      " * time: 1.5046939849853516\n",
      "    35    -7.852647e+00     8.381956e-07\n",
      " * time: 1.5275540351867676\n",
      "    36    -7.852647e+00     5.371730e-07\n",
      " * time: 1.5504999160766602\n",
      "    37    -7.852647e+00     2.793032e-07\n",
      " * time: 1.57322096824646\n",
      "    38    -7.852647e+00     1.999505e-07\n",
      " * time: 1.596005916595459\n",
      "    39    -7.852647e+00     8.902007e-08\n",
      " * time: 1.6188879013061523\n",
      "    40    -7.852647e+00     4.285703e-08\n",
      " * time: 1.6415939331054688\n",
      "    41    -7.852647e+00     3.357907e-08\n",
      " * time: 1.6642110347747803\n",
      "    42    -7.852647e+00     1.908121e-08\n",
      " * time: 1.6868419647216797\n",
      "    43    -7.852647e+00     1.364475e-08\n",
      " * time: 1.719735860824585\n",
      "    44    -7.852647e+00     1.352605e-08\n",
      " * time: 1.772230863571167\n"
     ]
    }
   ],
   "cell_type": "code",
   "source": [
    "scfres_dm = direct_minimization(basis; tol=tol^2);"
   ],
   "metadata": {},
   "execution_count": 4
  },
  {
   "cell_type": "markdown",
   "source": [
    "## Newton algorithm"
   ],
   "metadata": {}
  },
  {
   "cell_type": "markdown",
   "source": [
    "Start not too far from the solution to ensure convergence:\n",
    "We run first a very crude SCF to get close and then switch to Newton."
   ],
   "metadata": {}
  },
  {
   "outputs": [
    {
     "name": "stdout",
     "output_type": "stream",
     "text": [
      "n     Energy            log10(ΔE)   log10(Δρ)   Diag   Δtime\n",
      "---   ---------------   ---------   ---------   ----   ------\n",
      "  1   -7.846832846459                   -0.70    4.5         \n"
     ]
    }
   ],
   "cell_type": "code",
   "source": [
    "scfres_start = self_consistent_field(basis; tol=0.5);"
   ],
   "metadata": {},
   "execution_count": 5
  },
  {
   "cell_type": "markdown",
   "source": [
    "Remove the virtual orbitals (which Newton cannot treat yet)"
   ],
   "metadata": {}
  },
  {
   "outputs": [
    {
     "name": "stdout",
     "output_type": "stream",
     "text": [
      "n     Energy            log10(ΔE)   log10(Δρ)   Δtime\n",
      "---   ---------------   ---------   ---------   ------\n",
      "  1   -7.852645908347                   -1.64         \n",
      "  2   -7.852646686730       -6.11       -3.71    1.60s\n",
      "  3   -7.852646686730      -13.32       -7.25    147ms\n"
     ]
    }
   ],
   "cell_type": "code",
   "source": [
    "ψ = DFTK.select_occupied_orbitals(basis, scfres_start.ψ, scfres_start.occupation).ψ\n",
    "scfres_newton = newton(basis, ψ; tol);"
   ],
   "metadata": {},
   "execution_count": 6
  },
  {
   "cell_type": "markdown",
   "source": [
    "## Comparison of results"
   ],
   "metadata": {}
  },
  {
   "outputs": [
    {
     "name": "stdout",
     "output_type": "stream",
     "text": [
      "|ρ_newton - ρ_scf|  = 2.773155770002709e-7\n",
      "|ρ_newton - ρ_scfv| = 1.305499234323868e-7\n",
      "|ρ_newton - ρ_dm|   = 1.2979274827882344e-9\n"
     ]
    }
   ],
   "cell_type": "code",
   "source": [
    "println(\"|ρ_newton - ρ_scf|  = \", norm(scfres_newton.ρ - scfres_scf.ρ))\n",
    "println(\"|ρ_newton - ρ_scfv| = \", norm(scfres_newton.ρ - scfres_scfv.ρ))\n",
    "println(\"|ρ_newton - ρ_dm|   = \", norm(scfres_newton.ρ - scfres_dm.ρ))"
   ],
   "metadata": {},
   "execution_count": 7
  }
 ],
 "nbformat_minor": 3,
 "metadata": {
  "language_info": {
   "file_extension": ".jl",
   "mimetype": "application/julia",
   "name": "julia",
   "version": "1.8.5"
  },
  "kernelspec": {
   "name": "julia-1.8",
   "display_name": "Julia 1.8.5",
   "language": "julia"
  }
 },
 "nbformat": 4
}
