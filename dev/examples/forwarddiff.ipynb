{
 "cells": [
  {
   "cell_type": "markdown",
   "source": [
    "# Polarizability using automatic differentiation\n",
    "\n",
    "Simple example for computing properties using (forward-mode)\n",
    "automatic differentiation.\n",
    "For a more classical approach and more details about computing polarizabilities,\n",
    "see Polarizability by linear response."
   ],
   "metadata": {}
  },
  {
   "outputs": [],
   "cell_type": "code",
   "source": [
    "using DFTK\n",
    "using LinearAlgebra\n",
    "using ForwardDiff\n",
    "\n",
    "# Construct PlaneWaveBasis given a particular electric field strength\n",
    "# Again we take the example of a Helium atom.\n",
    "function make_basis(ε::T; a=10., Ecut=30) where {T}\n",
    "    lattice=T(a) * I(3)  # lattice is a cube of $a$ Bohrs\n",
    "    # Helium at the center of the box\n",
    "    atoms     = [ElementPsp(:He, psp=load_psp(\"hgh/lda/He-q2\"))]\n",
    "    positions = [[1/2, 1/2, 1/2]]\n",
    "\n",
    "    model = model_DFT(lattice, atoms, positions, [:lda_x, :lda_c_vwn];\n",
    "                      extra_terms=[ExternalFromReal(r -> -ε * (r[1] - a/2))],\n",
    "                      symmetries=false)\n",
    "    PlaneWaveBasis(model; Ecut, kgrid=[1, 1, 1])  # No k-point sampling on isolated system\n",
    "end\n",
    "\n",
    "# dipole moment of a given density (assuming the current geometry)\n",
    "function dipole(basis, ρ)\n",
    "    @assert isdiag(basis.model.lattice)\n",
    "    a  = basis.model.lattice[1, 1]\n",
    "    rr = [a * (r[1] - 1/2) for r in r_vectors(basis)]\n",
    "    sum(rr .* ρ) * basis.dvol\n",
    "end\n",
    "\n",
    "# Function to compute the dipole for a given field strength\n",
    "function compute_dipole(ε; tol=1e-8, kwargs...)\n",
    "    scfres = self_consistent_field(make_basis(ε; kwargs...); tol)\n",
    "    dipole(scfres.basis, scfres.ρ)\n",
    "end;"
   ],
   "metadata": {},
   "execution_count": 1
  },
  {
   "cell_type": "markdown",
   "source": [
    "With this in place we can compute the polarizability from finite differences\n",
    "(just like in the previous example):"
   ],
   "metadata": {}
  },
  {
   "outputs": [
    {
     "name": "stdout",
     "output_type": "stream",
     "text": [
      "n     Energy            log10(ΔE)   log10(Δρ)   Diag\n",
      "---   ---------------   ---------   ---------   ----\n",
      "  1   -2.770894353546                   -0.53    9.0\n",
      "  2   -2.772144162541       -2.90       -1.32    1.0\n",
      "  3   -2.772170302834       -4.58       -2.53    1.0\n",
      "  4   -2.772170678958       -6.42       -3.44    1.0\n",
      "  5   -2.772170722890       -7.36       -4.34    2.0\n",
      "  6   -2.772170723001       -9.95       -4.91    1.0\n",
      "  7   -2.772170723014      -10.89       -5.84    1.0\n",
      "  8   -2.772170723015      -12.47       -5.71    2.0\n",
      "  9   -2.772170723015      -12.44       -6.34    1.0\n",
      " 10   -2.772170723015      -13.75       -7.46    1.0\n",
      " 11   -2.772170723015      -13.91       -8.04    2.0\n",
      "n     Energy            log10(ΔE)   log10(Δρ)   Diag\n",
      "---   ---------------   ---------   ---------   ----\n",
      "  1   -2.770770665213                   -0.53    9.0\n",
      "  2   -2.772051727839       -2.89       -1.31    1.0\n",
      "  3   -2.772082786885       -4.51       -2.58    1.0\n",
      "  4   -2.772083411788       -6.20       -3.75    2.0\n",
      "  5   -2.772083417118       -8.27       -4.10    2.0\n",
      "  6   -2.772083417789       -9.17       -5.10    1.0\n",
      "  7   -2.772083417811      -10.66       -6.09    2.0\n",
      "  8   -2.772083417811      -13.47       -6.42    1.0\n",
      "  9   -2.772083417811      -13.64       -7.23    2.0\n",
      " 10   -2.772083417811   +  -13.94       -7.61    1.0\n",
      " 11   -2.772083417811      -14.12       -8.66    1.0\n"
     ]
    },
    {
     "output_type": "execute_result",
     "data": {
      "text/plain": "1.7735581911778093"
     },
     "metadata": {},
     "execution_count": 2
    }
   ],
   "cell_type": "code",
   "source": [
    "polarizability_fd = let\n",
    "    ε = 0.01\n",
    "    (compute_dipole(ε) - compute_dipole(0.0)) / ε\n",
    "end"
   ],
   "metadata": {},
   "execution_count": 2
  },
  {
   "cell_type": "markdown",
   "source": [
    "We do the same thing using automatic differentiation. Under the hood this uses\n",
    "custom rules to implicitly differentiate through the self-consistent\n",
    "field fixed-point problem."
   ],
   "metadata": {}
  },
  {
   "outputs": [
    {
     "name": "stdout",
     "output_type": "stream",
     "text": [
      "n     Energy            log10(ΔE)   log10(Δρ)   Diag\n",
      "---   ---------------   ---------   ---------   ----\n",
      "  1   -2.770817698641                   -0.52    9.0\n",
      "  2   -2.772062440799       -2.90       -1.32    1.0\n",
      "  3   -2.772083157059       -4.68       -2.48    1.0\n",
      "  4   -2.772083351284       -6.71       -3.20    1.0\n",
      "  5   -2.772083416161       -7.19       -3.90    2.0\n",
      "  6   -2.772083417578       -8.85       -4.42    1.0\n",
      "  7   -2.772083417810       -9.63       -5.41    2.0\n",
      "  8   -2.772083417810      -12.47       -6.12    1.0\n",
      "  9   -2.772083417811      -12.82       -7.24    2.0\n",
      " 10   -2.772083417811   +  -14.10       -7.35    1.0\n",
      " 11   -2.772083417811      -14.07       -8.41    1.0\n",
      "\n",
      "Polarizability via ForwardDiff:       1.7725349670616075\n",
      "Polarizability via finite difference: 1.7735581911778093\n"
     ]
    }
   ],
   "cell_type": "code",
   "source": [
    "polarizability = ForwardDiff.derivative(compute_dipole, 0.0)\n",
    "println()\n",
    "println(\"Polarizability via ForwardDiff:       $polarizability\")\n",
    "println(\"Polarizability via finite difference: $polarizability_fd\")"
   ],
   "metadata": {},
   "execution_count": 3
  }
 ],
 "nbformat_minor": 3,
 "metadata": {
  "language_info": {
   "file_extension": ".jl",
   "mimetype": "application/julia",
   "name": "julia",
   "version": "1.8.4"
  },
  "kernelspec": {
   "name": "julia-1.8",
   "display_name": "Julia 1.8.4",
   "language": "julia"
  }
 },
 "nbformat": 4
}
