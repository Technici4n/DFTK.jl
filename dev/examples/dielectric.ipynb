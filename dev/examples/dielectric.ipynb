{
 "cells": [
  {
   "cell_type": "markdown",
   "source": [
    "# Eigenvalues of the dielectric matrix\n",
    "\n",
    "We compute a few eigenvalues of the dielectric matrix ($q=0$, $ω=0$) iteratively."
   ],
   "metadata": {}
  },
  {
   "outputs": [
    {
     "name": "stdout",
     "output_type": "stream",
     "text": [
      "n     Energy            log10(ΔE)   log10(Δρ)   Diag   Δtime\n",
      "---   ---------------   ---------   ---------   ----   ------\n",
      "  1   -7.233950626348                   -0.50    8.0         \n",
      "  2   -7.250177442628       -1.79       -1.40    1.0   9.09ms\n",
      "  3   -7.251112554012       -3.03       -1.99    2.0   10.9ms\n",
      "  4   -7.251147589283       -4.46       -1.99    2.0   12.1ms\n",
      "  5   -7.251321639814       -3.76       -2.53    1.0   10.3ms\n",
      "  6   -7.251337497968       -4.80       -3.05    1.0   9.09ms\n",
      "  7   -7.251338665363       -5.93       -3.54    2.0   10.9ms\n",
      "  8   -7.251338790470       -6.90       -4.03    2.0   11.3ms\n",
      "  9   -7.251338797520       -8.15       -4.65    2.0   10.9ms\n",
      " 10   -7.251338798577       -8.98       -4.88    3.0   13.5ms\n",
      " 11   -7.251338798683       -9.98       -5.45    1.0   10.2ms\n",
      " 12   -7.251338798696      -10.88       -5.52    3.0   12.8ms\n",
      " 13   -7.251338798703      -11.13       -5.97    1.0   11.0ms\n",
      " 14   -7.251338798704      -12.00       -6.66    2.0   12.2ms\n",
      " 15   -7.251338798705      -13.23       -7.04    2.0   12.9ms\n",
      " 16   -7.251338798705      -14.05       -7.47    2.0   12.8ms\n",
      " 17   -7.251338798705   +  -15.05       -7.98    1.0   10.8ms\n",
      " 18   -7.251338798705      -14.45       -8.22    2.0   12.7ms\n"
     ]
    }
   ],
   "cell_type": "code",
   "source": [
    "using DFTK\n",
    "using Plots\n",
    "using KrylovKit\n",
    "using Printf\n",
    "\n",
    "# Calculation parameters\n",
    "kgrid = [1, 1, 1]\n",
    "Ecut = 5\n",
    "\n",
    "# Silicon lattice\n",
    "a = 10.26\n",
    "lattice = a / 2 .* [[0 1 1.]; [1 0 1.]; [1 1 0.]]\n",
    "Si = ElementPsp(:Si, psp=load_psp(\"hgh/lda/Si-q4\"))\n",
    "atoms     = [Si, Si]\n",
    "positions = [ones(3)/8, -ones(3)/8]\n",
    "\n",
    "# Compute the dielectric operator without symmetries\n",
    "model  = model_LDA(lattice, atoms, positions, symmetries=false)\n",
    "basis  = PlaneWaveBasis(model; Ecut, kgrid)\n",
    "scfres = self_consistent_field(basis, tol=1e-8);"
   ],
   "metadata": {},
   "execution_count": 1
  },
  {
   "cell_type": "markdown",
   "source": [
    "Applying $ε^† ≔ (1- χ_0 K)$ …"
   ],
   "metadata": {}
  },
  {
   "outputs": [],
   "cell_type": "code",
   "source": [
    "function eps_fun(δρ)\n",
    "    δV = apply_kernel(basis, δρ; ρ=scfres.ρ)\n",
    "    χ0δV = apply_χ0(scfres, δV)\n",
    "    δρ - χ0δV\n",
    "end;"
   ],
   "metadata": {},
   "execution_count": 2
  },
  {
   "cell_type": "markdown",
   "source": [
    "… eagerly diagonalizes the subspace matrix at each iteration"
   ],
   "metadata": {}
  },
  {
   "outputs": [
    {
     "name": "stdout",
     "output_type": "stream",
     "text": [
      "[ Info: Arnoldi iteration step 1: normres = 0.03889410490751463\n",
      "[ Info: Arnoldi iteration step 2: normres = 0.7290199400180605\n",
      "[ Info: Arnoldi iteration step 3: normres = 0.7246634052110912\n",
      "[ Info: Arnoldi iteration step 4: normres = 0.4465662475932176\n",
      "[ Info: Arnoldi iteration step 5: normres = 0.3063365174035531\n",
      "[ Info: Arnoldi schursolve in iter 1, krylovdim = 5: 0 values converged, normres = (3.72e-02, 7.47e-02, 1.71e-01, 2.37e-01, 3.70e-02)\n",
      "[ Info: Arnoldi iteration step 6: normres = 0.40987049112227447\n",
      "[ Info: Arnoldi schursolve in iter 1, krylovdim = 6: 0 values converged, normres = (1.29e-02, 1.26e-01, 3.74e-01, 7.17e-02, 3.04e-02)\n",
      "[ Info: Arnoldi iteration step 7: normres = 0.09042554472590801\n",
      "[ Info: Arnoldi schursolve in iter 1, krylovdim = 7: 0 values converged, normres = (6.10e-04, 1.82e-02, 2.61e-02, 2.63e-02, 7.55e-02)\n",
      "[ Info: Arnoldi iteration step 8: normres = 0.10598280784257909\n",
      "[ Info: Arnoldi schursolve in iter 1, krylovdim = 8: 0 values converged, normres = (2.80e-05, 1.37e-03, 2.20e-03, 9.73e-03, 4.57e-02)\n",
      "[ Info: Arnoldi iteration step 9: normres = 0.07316493715467885\n",
      "[ Info: Arnoldi schursolve in iter 1, krylovdim = 9: 0 values converged, normres = (8.83e-07, 7.14e-05, 1.27e-04, 2.41e-03, 2.43e-02)\n",
      "[ Info: Arnoldi iteration step 10: normres = 0.08742664724124831\n",
      "[ Info: Arnoldi schursolve in iter 1, krylovdim = 10: 0 values converged, normres = (3.41e-08, 4.61e-06, 9.13e-06, 8.40e-04, 2.19e-02)\n",
      "[ Info: Arnoldi iteration step 11: normres = 0.053354993738534494\n",
      "[ Info: Arnoldi schursolve in iter 1, krylovdim = 11: 0 values converged, normres = (7.67e-10, 1.68e-07, 3.67e-07, 1.25e-04, 6.24e-03)\n",
      "[ Info: Arnoldi iteration step 12: normres = 0.08576665431739557\n",
      "[ Info: Arnoldi schursolve in iter 1, krylovdim = 12: 0 values converged, normres = (2.81e-11, 1.00e-08, 2.44e-08, 3.18e-05, 2.99e-03)\n",
      "[ Info: Arnoldi iteration step 13: normres = 0.052460213307055296\n",
      "[ Info: Arnoldi schursolve in iter 1, krylovdim = 13: 1 values converged, normres = (6.36e-13, 3.73e-10, 1.01e-09, 5.36e-06, 1.04e-03)\n",
      "[ Info: Arnoldi iteration step 14: normres = 0.7017737057035865\n",
      "[ Info: Arnoldi schursolve in iter 1, krylovdim = 14: 1 values converged, normres = (2.85e-13, 3.96e-10, 1.35e-09, 6.97e-01, 3.95e-02)\n",
      "[ Info: Arnoldi iteration step 15: normres = 0.0617314237231075\n",
      "[ Info: Arnoldi schursolve in iter 1, krylovdim = 15: 1 values converged, normres = (1.09e-14, 8.09e-11, 3.88e-02, 4.44e-03, 1.51e-05)\n",
      "[ Info: Arnoldi iteration step 16: normres = 0.6363242468764777\n",
      "[ Info: Arnoldi schursolve in iter 1, krylovdim = 16: 1 values converged, normres = (5.45e-15, 1.45e-10, 9.49e-02, 2.17e-02, 6.28e-01)\n",
      "[ Info: Arnoldi iteration step 17: normres = 0.03825123507554114\n",
      "[ Info: Arnoldi schursolve in iter 1, krylovdim = 17: 1 values converged, normres = (1.21e-16, 1.05e-08, 1.81e-02, 3.80e-03, 3.38e-03)\n",
      "[ Info: Arnoldi iteration step 18: normres = 0.018087983842606646\n",
      "[ Info: Arnoldi schursolve in iter 1, krylovdim = 18: 1 values converged, normres = (9.06e-19, 5.77e-09, 2.17e-04, 7.66e-08, 6.81e-05)\n",
      "[ Info: Arnoldi iteration step 19: normres = 0.14574831126374904\n",
      "[ Info: Arnoldi schursolve in iter 1, krylovdim = 19: 1 values converged, normres = (5.56e-20, 1.28e-05, 1.73e-05, 2.37e-06, 7.08e-06)\n",
      "[ Info: Arnoldi iteration step 20: normres = 0.08683204113364058\n",
      "[ Info: Arnoldi schursolve in iter 1, krylovdim = 20: 1 values converged, normres = (2.33e-21, 1.08e-08, 1.61e-06, 7.12e-08, 6.35e-07)\n",
      "[ Info: Arnoldi iteration step 21: normres = 0.029147267513785737\n",
      "[ Info: Arnoldi schursolve in iter 1, krylovdim = 21: 1 values converged, normres = (2.87e-23, 2.77e-08, 1.64e-08, 5.58e-09, 1.29e-08)\n",
      "[ Info: Arnoldi iteration step 22: normres = 0.019468227855674213\n",
      "[ Info: Arnoldi schursolve in iter 1, krylovdim = 22: 1 values converged, normres = (2.30e-25, 3.80e-10, 1.58e-10, 1.11e-10, 1.65e-10)\n",
      "[ Info: Arnoldi iteration step 23: normres = 0.6650493962820395\n",
      "[ Info: Arnoldi schursolve in iter 1, krylovdim = 23: 1 values converged, normres = (7.65e-26, 2.34e-10, 9.17e-11, 7.74e-11, 1.15e-10)\n",
      "[ Info: Arnoldi iteration step 24: normres = 0.027667113232177853\n",
      "[ Info: Arnoldi schursolve in iter 1, krylovdim = 24: 1 values converged, normres = (1.66e-27, 3.29e-11, 1.31e-11, 5.96e-03, 8.21e-04)\n",
      "[ Info: Arnoldi iteration step 25: normres = 0.024043506437399855\n",
      "[ Info: Arnoldi schursolve in iter 1, krylovdim = 25: 3 values converged, normres = (1.63e-29, 5.13e-13, 2.05e-13, 1.88e-09, 3.13e-09)\n",
      "[ Info: Arnoldi iteration step 26: normres = 0.11877009569291626\n",
      "[ Info: Arnoldi schursolve in iter 1, krylovdim = 26: 3 values converged, normres = (8.46e-31, 4.42e-14, 1.77e-14, 3.04e-05, 3.53e-06)\n",
      "[ Info: Arnoldi iteration step 27: normres = 0.02252560740862196\n",
      "[ Info: Arnoldi schursolve in iter 1, krylovdim = 27: 3 values converged, normres = (8.14e-33, 6.95e-16, 2.78e-16, 7.32e-09, 9.46e-09)\n",
      "[ Info: Arnoldi iteration step 28: normres = 0.09576290886747259\n",
      "[ Info: Arnoldi schursolve in iter 1, krylovdim = 28: 3 values converged, normres = (3.28e-34, 4.53e-17, 1.82e-17, 1.72e-08, 2.35e-08)\n",
      "[ Info: Arnoldi iteration step 29: normres = 0.02483559638960642\n",
      "[ Info: Arnoldi schursolve in iter 1, krylovdim = 29: 3 values converged, normres = (3.54e-36, 8.07e-19, 3.23e-19, 8.28e-10, 3.85e-10)\n",
      "[ Info: Arnoldi iteration step 30: normres = 0.08737771978945377\n",
      "[ Info: Arnoldi schursolve in iter 1, krylovdim = 30: 3 values converged, normres = (1.30e-37, 4.81e-20, 1.93e-20, 5.59e-11, 2.17e-11)\n",
      "[ Info: Arnoldi schursolve in iter 2, krylovdim = 19: 3 values converged, normres = (1.30e-37, 4.81e-20, 1.93e-20, 5.59e-11, 2.17e-11)\n",
      "[ Info: Arnoldi iteration step 20: normres = 0.14304387947706224\n",
      "[ Info: Arnoldi schursolve in iter 2, krylovdim = 20: 3 values converged, normres = (8.21e-39, 5.06e-21, 2.02e-21, 2.62e-12, 6.52e-12)\n",
      "[ Info: Arnoldi iteration step 21: normres = 0.08573796823296466\n",
      "┌ Info: Arnoldi eigsolve finished after 2 iterations:\n",
      "│ *  6 eigenvalues converged\n",
      "│ *  norm of residuals = (3.3935526063151316e-40, 3.6950566792425244e-22, 8.078835363107872e-23, 2.9258266661924825e-13, 2.9258266661924825e-13, 4.5159040460313436e-14)\n",
      "└ *  number of operations = 32\n"
     ]
    }
   ],
   "cell_type": "code",
   "source": [
    "eigsolve(eps_fun, randn(size(scfres.ρ)), 5, :LM; eager=true, verbosity=3);"
   ],
   "metadata": {},
   "execution_count": 3
  }
 ],
 "nbformat_minor": 3,
 "metadata": {
  "language_info": {
   "file_extension": ".jl",
   "mimetype": "application/julia",
   "name": "julia",
   "version": "1.8.5"
  },
  "kernelspec": {
   "name": "julia-1.8",
   "display_name": "Julia 1.8.5",
   "language": "julia"
  }
 },
 "nbformat": 4
}
