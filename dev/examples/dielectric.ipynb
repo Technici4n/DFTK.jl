{
 "cells": [
  {
   "cell_type": "markdown",
   "source": [
    "# Eigenvalues of the dielectric matrix\n",
    "\n",
    "We compute a few eigenvalues of the dielectric matrix ($q=0$, $ω=0$) iteratively."
   ],
   "metadata": {}
  },
  {
   "outputs": [
    {
     "name": "stdout",
     "output_type": "stream",
     "text": [
      "n     Energy            log10(ΔE)   log10(Δρ)   Diag   Δtime\n",
      "---   ---------------   ---------   ---------   ----   ------\n",
      "  1   -7.233695579595                   -0.50    8.0         \n",
      "  2   -7.250205528706       -1.78       -1.40    1.0   7.76ms\n",
      "  3   -7.251293452359       -2.96       -2.15    2.0   9.47ms\n",
      "  4   -7.251319476169       -4.58       -2.43    2.0   9.61ms\n",
      "  5   -7.251333610035       -4.85       -2.78    1.0   8.13ms\n",
      "  6   -7.251337855187       -5.37       -3.18    1.0   7.56ms\n",
      "  7   -7.251338728435       -6.06       -3.64    2.0   9.55ms\n",
      "  8   -7.251338795470       -7.17       -4.21    1.0   8.25ms\n",
      "  9   -7.251338798265       -8.55       -4.79    2.0   9.59ms\n",
      " 10   -7.251338798666       -9.40       -5.30    2.0   9.48ms\n",
      " 11   -7.251338798703      -10.44       -5.90    2.0   9.58ms\n",
      " 12   -7.251338798704      -11.85       -6.27    2.0   64.9ms\n",
      " 13   -7.251338798705      -12.36       -6.86    2.0   11.2ms\n",
      " 14   -7.251338798705      -13.45       -7.21    3.0   11.5ms\n",
      " 15   -7.251338798705      -15.05       -7.73    1.0   8.21ms\n",
      " 16   -7.251338798705      -15.05       -7.89    3.0   10.8ms\n",
      " 17   -7.251338798705   +    -Inf       -8.41    1.0   8.01ms\n"
     ]
    }
   ],
   "cell_type": "code",
   "source": [
    "using DFTK\n",
    "using Plots\n",
    "using KrylovKit\n",
    "using Printf\n",
    "\n",
    "# Calculation parameters\n",
    "kgrid = [1, 1, 1]\n",
    "Ecut = 5\n",
    "\n",
    "# Silicon lattice\n",
    "a = 10.26\n",
    "lattice = a / 2 .* [[0 1 1.]; [1 0 1.]; [1 1 0.]]\n",
    "Si = ElementPsp(:Si, psp=load_psp(\"hgh/lda/Si-q4\"))\n",
    "atoms     = [Si, Si]\n",
    "positions = [ones(3)/8, -ones(3)/8]\n",
    "\n",
    "# Compute the dielectric operator without symmetries\n",
    "model  = model_LDA(lattice, atoms, positions, symmetries=false)\n",
    "basis  = PlaneWaveBasis(model; Ecut, kgrid)\n",
    "scfres = self_consistent_field(basis, tol=1e-8);"
   ],
   "metadata": {},
   "execution_count": 1
  },
  {
   "cell_type": "markdown",
   "source": [
    "Applying $ε^† ≔ (1- χ_0 K)$ …"
   ],
   "metadata": {}
  },
  {
   "outputs": [],
   "cell_type": "code",
   "source": [
    "function eps_fun(δρ)\n",
    "    δV = apply_kernel(basis, δρ; ρ=scfres.ρ)\n",
    "    χ0δV = apply_χ0(scfres, δV)\n",
    "    δρ - χ0δV\n",
    "end;"
   ],
   "metadata": {},
   "execution_count": 2
  },
  {
   "cell_type": "markdown",
   "source": [
    "… eagerly diagonalizes the subspace matrix at each iteration"
   ],
   "metadata": {}
  },
  {
   "outputs": [
    {
     "name": "stdout",
     "output_type": "stream",
     "text": [
      "[ Info: Arnoldi iteration step 1: normres = 0.03585441739993785\n",
      "[ Info: Arnoldi iteration step 2: normres = 0.4880846681006486\n",
      "[ Info: Arnoldi iteration step 3: normres = 0.46623907903094164\n",
      "[ Info: Arnoldi iteration step 4: normres = 0.8511630501637809\n",
      "[ Info: Arnoldi iteration step 5: normres = 0.43058429536849896\n",
      "[ Info: Arnoldi schursolve in iter 1, krylovdim = 5: 0 values converged, normres = (1.89e-01, 7.56e-02, 2.95e-01, 2.37e-01, 2.20e-02)\n",
      "[ Info: Arnoldi iteration step 6: normres = 0.38807553378981746\n",
      "[ Info: Arnoldi schursolve in iter 1, krylovdim = 6: 0 values converged, normres = (6.53e-02, 1.76e-01, 3.12e-01, 1.01e-01, 7.49e-02)\n",
      "[ Info: Arnoldi iteration step 7: normres = 0.06837296519764237\n",
      "[ Info: Arnoldi schursolve in iter 1, krylovdim = 7: 0 values converged, normres = (2.29e-03, 1.63e-02, 1.31e-02, 2.85e-02, 5.08e-02)\n",
      "[ Info: Arnoldi iteration step 8: normres = 0.12621500570226757\n",
      "[ Info: Arnoldi schursolve in iter 1, krylovdim = 8: 0 values converged, normres = (1.26e-04, 1.48e-03, 1.31e-03, 1.20e-02, 5.75e-02)\n",
      "[ Info: Arnoldi iteration step 9: normres = 0.07009240809151103\n",
      "[ Info: Arnoldi schursolve in iter 1, krylovdim = 9: 0 values converged, normres = (3.82e-06, 7.42e-05, 7.34e-05, 3.19e-03, 3.86e-02)\n",
      "[ Info: Arnoldi iteration step 10: normres = 0.08814265710195623\n",
      "[ Info: Arnoldi schursolve in iter 1, krylovdim = 10: 0 values converged, normres = (1.48e-07, 4.78e-06, 5.27e-06, 1.06e-03, 2.83e-02)\n",
      "[ Info: Arnoldi iteration step 11: normres = 0.09347847767420835\n",
      "[ Info: Arnoldi schursolve in iter 1, krylovdim = 11: 0 values converged, normres = (5.91e-09, 3.13e-07, 3.82e-07, 3.09e-04, 1.77e-02)\n",
      "[ Info: Arnoldi iteration step 12: normres = 0.05917651396046703\n",
      "[ Info: Arnoldi schursolve in iter 1, krylovdim = 12: 0 values converged, normres = (1.51e-10, 1.32e-08, 1.79e-08, 6.24e-05, 8.17e-03)\n",
      "[ Info: Arnoldi iteration step 13: normres = 0.058364484061886296\n",
      "[ Info: Arnoldi schursolve in iter 1, krylovdim = 13: 0 values converged, normres = (3.73e-12, 5.28e-10, 7.92e-10, 1.00e-05, 2.37e-03)\n",
      "[ Info: Arnoldi iteration step 14: normres = 0.6659988261576066\n",
      "[ Info: Arnoldi schursolve in iter 1, krylovdim = 14: 0 values converged, normres = (1.63e-12, 5.66e-10, 1.10e-09, 6.57e-01, 2.28e-02)\n",
      "[ Info: Arnoldi iteration step 15: normres = 0.0251186097694798\n",
      "[ Info: Arnoldi schursolve in iter 1, krylovdim = 15: 1 values converged, normres = (2.45e-14, 4.14e-11, 2.38e-08, 1.48e-02, 1.48e-06)\n",
      "[ Info: Arnoldi iteration step 16: normres = 0.14993451165042923\n",
      "[ Info: Arnoldi schursolve in iter 1, krylovdim = 16: 1 values converged, normres = (1.53e-15, 4.14e-12, 1.43e-03, 7.69e-04, 1.51e-07)\n",
      "[ Info: Arnoldi iteration step 17: normres = 0.24476726974996027\n",
      "[ Info: Arnoldi schursolve in iter 1, krylovdim = 17: 1 values converged, normres = (3.94e-16, 2.88e-11, 2.42e-01, 1.15e-02, 1.70e-02)\n",
      "[ Info: Arnoldi iteration step 18: normres = 0.03259596293506291\n",
      "[ Info: Arnoldi schursolve in iter 1, krylovdim = 18: 1 values converged, normres = (5.56e-18, 1.20e-10, 5.35e-03, 3.53e-05, 4.64e-05)\n",
      "[ Info: Arnoldi iteration step 19: normres = 0.20196796571170952\n",
      "[ Info: Arnoldi schursolve in iter 1, krylovdim = 19: 1 values converged, normres = (4.96e-19, 7.69e-04, 2.07e-04, 1.76e-07, 1.14e-05)\n",
      "[ Info: Arnoldi iteration step 20: normres = 0.03834198698623403\n",
      "[ Info: Arnoldi schursolve in iter 1, krylovdim = 20: 1 values converged, normres = (8.84e-21, 6.63e-06, 2.39e-05, 3.02e-08, 3.96e-07)\n",
      "[ Info: Arnoldi iteration step 21: normres = 0.030290246361432967\n",
      "[ Info: Arnoldi schursolve in iter 1, krylovdim = 21: 1 values converged, normres = (1.11e-22, 1.22e-10, 4.99e-07, 4.69e-09, 7.43e-09)\n",
      "[ Info: Arnoldi iteration step 22: normres = 0.02402057038409282\n",
      "[ Info: Arnoldi schursolve in iter 1, krylovdim = 22: 1 values converged, normres = (1.10e-24, 3.40e-11, 7.95e-09, 6.00e-11, 1.42e-10)\n",
      "[ Info: Arnoldi iteration step 23: normres = 0.6236986222346527\n",
      "[ Info: Arnoldi schursolve in iter 1, krylovdim = 23: 1 values converged, normres = (3.30e-25, 1.28e-11, 4.20e-09, 3.61e-11, 8.53e-11)\n",
      "[ Info: Arnoldi iteration step 24: normres = 0.034619364143313805\n",
      "[ Info: Arnoldi schursolve in iter 1, krylovdim = 24: 1 values converged, normres = (9.32e-27, 2.54e-12, 7.86e-10, 3.98e-10, 9.11e-10)\n",
      "[ Info: Arnoldi iteration step 25: normres = 0.06880837244390996\n",
      "[ Info: Arnoldi schursolve in iter 1, krylovdim = 25: 2 values converged, normres = (2.65e-28, 1.19e-13, 3.64e-11, 1.23e-03, 1.04e-04)\n",
      "[ Info: Arnoldi iteration step 26: normres = 0.04701925861143151\n",
      "[ Info: Arnoldi schursolve in iter 1, krylovdim = 26: 2 values converged, normres = (5.63e-30, 4.28e-15, 1.31e-12, 1.01e-09, 2.47e-09)\n",
      "[ Info: Arnoldi iteration step 27: normres = 0.023175496578112704\n",
      "[ Info: Arnoldi schursolve in iter 1, krylovdim = 27: 3 values converged, normres = (5.35e-32, 6.49e-17, 1.98e-14, 6.62e-10, 1.55e-09)\n",
      "[ Info: Arnoldi iteration step 28: normres = 0.09967980445222344\n",
      "[ Info: Arnoldi schursolve in iter 1, krylovdim = 28: 3 values converged, normres = (2.28e-33, 4.52e-18, 1.38e-15, 4.79e-10, 1.70e-09)\n",
      "[ Info: Arnoldi iteration step 29: normres = 0.022118083362760218\n",
      "[ Info: Arnoldi schursolve in iter 1, krylovdim = 29: 3 values converged, normres = (2.16e-35, 7.01e-20, 2.14e-17, 4.76e-11, 1.33e-09)\n",
      "[ Info: Arnoldi iteration step 30: normres = 0.23083514962461393\n",
      "[ Info: Arnoldi schursolve in iter 1, krylovdim = 30: 3 values converged, normres = (2.22e-36, 1.21e-20, 3.69e-18, 8.86e-12, 2.57e-10)\n",
      "[ Info: Arnoldi schursolve in iter 2, krylovdim = 19: 3 values converged, normres = (2.22e-36, 1.21e-20, 3.69e-18, 8.86e-12, 2.57e-10)\n",
      "[ Info: Arnoldi iteration step 20: normres = 0.05010952138298761\n",
      "[ Info: Arnoldi schursolve in iter 2, krylovdim = 20: 4 values converged, normres = (5.22e-38, 4.88e-22, 1.49e-19, 4.06e-13, 1.17e-11)\n",
      "[ Info: Arnoldi iteration step 21: normres = 0.07562562899242213\n",
      "┌ Info: Arnoldi eigsolve finished after 2 iterations:\n",
      "│ *  6 eigenvalues converged\n",
      "│ *  norm of residuals = (1.6585968776100187e-39, 2.5604892683105282e-23, 7.806739963084495e-21, 2.3599355479510576e-14, 6.701711521906907e-13, 6.785342232080714e-14)\n",
      "└ *  number of operations = 32\n"
     ]
    }
   ],
   "cell_type": "code",
   "source": [
    "eigsolve(eps_fun, randn(size(scfres.ρ)), 5, :LM; eager=true, verbosity=3);"
   ],
   "metadata": {},
   "execution_count": 3
  }
 ],
 "nbformat_minor": 3,
 "metadata": {
  "language_info": {
   "file_extension": ".jl",
   "mimetype": "application/julia",
   "name": "julia",
   "version": "1.9.0"
  },
  "kernelspec": {
   "name": "julia-1.9",
   "display_name": "Julia 1.9.0",
   "language": "julia"
  }
 },
 "nbformat": 4
}
