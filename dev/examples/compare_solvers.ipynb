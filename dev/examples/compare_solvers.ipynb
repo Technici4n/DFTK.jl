{
 "cells": [
  {
   "cell_type": "markdown",
   "source": [
    "# Comparison of DFT solvers"
   ],
   "metadata": {}
  },
  {
   "cell_type": "markdown",
   "source": [
    "We compare four different approaches for solving the DFT minimisation problem,\n",
    "namely a density-based SCF, a potential-based SCF, direct minimisation and Newton."
   ],
   "metadata": {}
  },
  {
   "cell_type": "markdown",
   "source": [
    "First we setup our problem"
   ],
   "metadata": {}
  },
  {
   "outputs": [
    {
     "output_type": "execute_result",
     "data": {
      "text/plain": "1.0e-6"
     },
     "metadata": {},
     "execution_count": 1
    }
   ],
   "cell_type": "code",
   "source": [
    "using DFTK\n",
    "using LinearAlgebra\n",
    "\n",
    "a = 10.26  # Silicon lattice constant in Bohr\n",
    "lattice = a / 2 * [[0 1 1.];\n",
    "                   [1 0 1.];\n",
    "                   [1 1 0.]]\n",
    "Si = ElementPsp(:Si, psp=load_psp(\"hgh/lda/Si-q4\"))\n",
    "atoms     = [Si, Si]\n",
    "positions = [ones(3)/8, -ones(3)/8]\n",
    "\n",
    "model = model_LDA(lattice, atoms, positions)\n",
    "basis = PlaneWaveBasis(model; Ecut=5, kgrid=[3, 3, 3])\n",
    "\n",
    "# Convergence we desire in the density\n",
    "tol = 1e-6"
   ],
   "metadata": {},
   "execution_count": 1
  },
  {
   "cell_type": "markdown",
   "source": [
    "## Density-based self-consistent field"
   ],
   "metadata": {}
  },
  {
   "outputs": [
    {
     "name": "stdout",
     "output_type": "stream",
     "text": [
      "n     Energy            log10(ΔE)   log10(Δρ)   Diag\n",
      "---   ---------------   ---------   ---------   ----\n",
      "  1   -7.846856494448                   -0.70    4.8\n",
      "  2   -7.852323051381       -2.26       -1.53    1.0\n",
      "  3   -7.852618291718       -3.53       -2.55    1.5\n",
      "  4   -7.852646040039       -4.56       -2.92    2.2\n",
      "  5   -7.852646557553       -6.29       -3.28    1.2\n",
      "  6   -7.852646679944       -6.91       -4.10    1.0\n",
      "  7   -7.852646686487       -8.18       -5.23    2.0\n",
      "  8   -7.852646686727       -9.62       -5.61    2.0\n",
      "  9   -7.852646686730      -11.51       -6.75    1.5\n"
     ]
    }
   ],
   "cell_type": "code",
   "source": [
    "scfres_scf = self_consistent_field(basis; tol);"
   ],
   "metadata": {},
   "execution_count": 2
  },
  {
   "cell_type": "markdown",
   "source": [
    "## Potential-based SCF"
   ],
   "metadata": {}
  },
  {
   "outputs": [
    {
     "name": "stdout",
     "output_type": "stream",
     "text": [
      "n     Energy            log10(ΔE)   log10(Δρ)   α      Diag\n",
      "---   ---------------   ---------   ---------   ----   ----\n",
      "  1   -7.846855401655                   -0.70           4.5\n",
      "  2   -7.852527529342       -2.25       -1.63   0.80    2.0\n",
      "  3   -7.852637005760       -3.96       -2.71   0.80    1.0\n",
      "  4   -7.852646475908       -5.02       -3.29   0.80    2.2\n",
      "  5   -7.852646678273       -6.69       -4.14   0.80    1.2\n",
      "  6   -7.852646686417       -8.09       -4.80   0.80    1.5\n",
      "  7   -7.852646686723       -9.51       -5.61   0.80    2.0\n",
      "  8   -7.852646686730      -11.18       -6.65   0.80    1.8\n"
     ]
    }
   ],
   "cell_type": "code",
   "source": [
    "scfres_scfv = DFTK.scf_potential_mixing(basis; tol);"
   ],
   "metadata": {},
   "execution_count": 3
  },
  {
   "cell_type": "markdown",
   "source": [
    "## Direct minimization\n",
    "Note: Unlike the other algorithms, tolerance for this one is in the energy,\n",
    "thus we square the density tolerance value to be roughly equivalent."
   ],
   "metadata": {}
  },
  {
   "outputs": [
    {
     "name": "stdout",
     "output_type": "stream",
     "text": [
      "Iter     Function value   Gradient norm \n",
      "     0     1.349863e+01     3.424852e+00\n",
      " * time: 0.5210709571838379\n",
      "     1     1.068269e+00     1.892484e+00\n",
      " * time: 0.800713062286377\n",
      "     2    -1.337950e+00     2.004063e+00\n",
      " * time: 0.8372750282287598\n",
      "     3    -3.739882e+00     1.843201e+00\n",
      " * time: 0.8889491558074951\n",
      "     4    -4.993274e+00     1.742647e+00\n",
      " * time: 0.9408040046691895\n",
      "     5    -6.768633e+00     1.007818e+00\n",
      " * time: 0.9945461750030518\n",
      "     6    -7.417112e+00     5.816504e-01\n",
      " * time: 1.0459771156311035\n",
      "     7    -7.684623e+00     1.718047e-01\n",
      " * time: 1.0811591148376465\n",
      "     8    -7.776602e+00     1.725972e-01\n",
      " * time: 1.1177480220794678\n",
      "     9    -7.813051e+00     8.594681e-02\n",
      " * time: 1.1542229652404785\n",
      "    10    -7.832713e+00     6.826463e-02\n",
      " * time: 1.1907501220703125\n",
      "    11    -7.842445e+00     7.037281e-02\n",
      " * time: 1.2263751029968262\n",
      "    12    -7.846136e+00     5.091066e-02\n",
      " * time: 1.2629220485687256\n",
      "    13    -7.848485e+00     2.888792e-02\n",
      " * time: 1.2991580963134766\n",
      "    14    -7.850595e+00     2.225734e-02\n",
      " * time: 1.3360741138458252\n",
      "    15    -7.851911e+00     1.764067e-02\n",
      " * time: 1.3728151321411133\n",
      "    16    -7.852396e+00     1.100692e-02\n",
      " * time: 1.4104440212249756\n",
      "    17    -7.852576e+00     3.249566e-03\n",
      " * time: 1.4468400478363037\n",
      "    18    -7.852625e+00     2.255769e-03\n",
      " * time: 1.4832401275634766\n",
      "    19    -7.852639e+00     1.039797e-03\n",
      " * time: 1.519284963607788\n",
      "    20    -7.852644e+00     5.714939e-04\n",
      " * time: 1.557075023651123\n",
      "    21    -7.852646e+00     4.150410e-04\n",
      " * time: 1.594480037689209\n",
      "    22    -7.852646e+00     3.165028e-04\n",
      " * time: 1.7597520351409912\n",
      "    23    -7.852647e+00     1.925681e-04\n",
      " * time: 1.7952699661254883\n",
      "    24    -7.852647e+00     9.529975e-05\n",
      " * time: 1.831130027770996\n",
      "    25    -7.852647e+00     5.590861e-05\n",
      " * time: 1.8675150871276855\n",
      "    26    -7.852647e+00     3.783941e-05\n",
      " * time: 1.9032330513000488\n",
      "    27    -7.852647e+00     1.737976e-05\n",
      " * time: 1.93989896774292\n",
      "    28    -7.852647e+00     1.342015e-05\n",
      " * time: 1.9783961772918701\n",
      "    29    -7.852647e+00     5.862282e-06\n",
      " * time: 2.0146851539611816\n",
      "    30    -7.852647e+00     3.518533e-06\n",
      " * time: 2.0525989532470703\n",
      "    31    -7.852647e+00     2.726447e-06\n",
      " * time: 2.089035987854004\n",
      "    32    -7.852647e+00     1.436419e-06\n",
      " * time: 2.125681161880493\n",
      "    33    -7.852647e+00     8.080710e-07\n",
      " * time: 2.1619739532470703\n",
      "    34    -7.852647e+00     3.666223e-07\n",
      " * time: 2.197766065597534\n",
      "    35    -7.852647e+00     1.931057e-07\n",
      " * time: 2.2344510555267334\n",
      "    36    -7.852647e+00     1.234302e-07\n",
      " * time: 2.2711470127105713\n",
      "    37    -7.852647e+00     5.752952e-08\n",
      " * time: 2.307405948638916\n",
      "    38    -7.852647e+00     5.413593e-08\n",
      " * time: 2.343600034713745\n",
      "    39    -7.852647e+00     2.512192e-08\n",
      " * time: 2.3801331520080566\n",
      "    40    -7.852647e+00     1.026613e-08\n",
      " * time: 2.4170889854431152\n",
      "    41    -7.852647e+00     9.018904e-09\n",
      " * time: 2.4537320137023926\n",
      "    42    -7.852647e+00     6.061528e-09\n",
      " * time: 2.4904401302337646\n",
      "    43    -7.852647e+00     6.060380e-09\n",
      " * time: 2.5926260948181152\n"
     ]
    }
   ],
   "cell_type": "code",
   "source": [
    "scfres_dm = direct_minimization(basis; tol=tol^2);"
   ],
   "metadata": {},
   "execution_count": 4
  },
  {
   "cell_type": "markdown",
   "source": [
    "## Newton algorithm"
   ],
   "metadata": {}
  },
  {
   "cell_type": "markdown",
   "source": [
    "Start not too far from the solution to ensure convergence:\n",
    "We run first a very crude SCF to get close and then switch to Newton."
   ],
   "metadata": {}
  },
  {
   "outputs": [
    {
     "name": "stdout",
     "output_type": "stream",
     "text": [
      "n     Energy            log10(ΔE)   log10(Δρ)   Diag\n",
      "---   ---------------   ---------   ---------   ----\n",
      "  1   -7.846840489541                   -0.70    4.5\n"
     ]
    }
   ],
   "cell_type": "code",
   "source": [
    "scfres_start = self_consistent_field(basis; tol=0.5);"
   ],
   "metadata": {},
   "execution_count": 5
  },
  {
   "cell_type": "markdown",
   "source": [
    "Remove the virtual orbitals (which Newton cannot treat yet)"
   ],
   "metadata": {}
  },
  {
   "outputs": [
    {
     "name": "stdout",
     "output_type": "stream",
     "text": [
      "n     Energy            log10(ΔE)   log10(Δρ)\n",
      "---   ---------------   ---------   ---------\n",
      "  1   -7.852645904244                   -1.64\n",
      "  2   -7.852646686730       -6.11       -3.71\n",
      "  3   -7.852646686730      -13.30       -7.24\n"
     ]
    }
   ],
   "cell_type": "code",
   "source": [
    "ψ = DFTK.select_occupied_orbitals(basis, scfres_start.ψ, scfres_start.occupation).ψ\n",
    "scfres_newton = newton(basis, ψ; tol);"
   ],
   "metadata": {},
   "execution_count": 6
  },
  {
   "cell_type": "markdown",
   "source": [
    "## Comparison of results"
   ],
   "metadata": {}
  },
  {
   "outputs": [
    {
     "name": "stdout",
     "output_type": "stream",
     "text": [
      "|ρ_newton - ρ_scf|  = 1.8378812444638547e-7\n",
      "|ρ_newton - ρ_scfv| = 1.0063797986935172e-7\n",
      "|ρ_newton - ρ_dm|   = 6.357634850034107e-10\n"
     ]
    }
   ],
   "cell_type": "code",
   "source": [
    "println(\"|ρ_newton - ρ_scf|  = \", norm(scfres_newton.ρ - scfres_scf.ρ))\n",
    "println(\"|ρ_newton - ρ_scfv| = \", norm(scfres_newton.ρ - scfres_scfv.ρ))\n",
    "println(\"|ρ_newton - ρ_dm|   = \", norm(scfres_newton.ρ - scfres_dm.ρ))"
   ],
   "metadata": {},
   "execution_count": 7
  }
 ],
 "nbformat_minor": 3,
 "metadata": {
  "language_info": {
   "file_extension": ".jl",
   "mimetype": "application/julia",
   "name": "julia",
   "version": "1.8.4"
  },
  "kernelspec": {
   "name": "julia-1.8",
   "display_name": "Julia 1.8.4",
   "language": "julia"
  }
 },
 "nbformat": 4
}
