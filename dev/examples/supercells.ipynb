{
 "cells": [
  {
   "cell_type": "markdown",
   "source": [
    "# Creating and modelling metallic supercells\n",
    "\n",
    "In this section we will be concerned with modelling supercells of aluminium.\n",
    "When dealing with periodic problems there is no unique definition of the\n",
    "lattice: Clearly any duplication of the lattice along an axis is also a valid\n",
    "repetitive unit to describe exactly the same system.\n",
    "This is exactly what a **supercell** is: An $n$-fold repetition along one of the\n",
    "axes of the original lattice.\n",
    "\n",
    "The following code achieves this for aluminium:"
   ],
   "metadata": {}
  },
  {
   "outputs": [],
   "cell_type": "code",
   "source": [
    "using DFTK\n",
    "using LinearAlgebra\n",
    "\n",
    "function aluminium_setup(repeat=1; Ecut=7.0, kgrid=[2, 2, 2])\n",
    "    a = 7.65339\n",
    "    lattice = a * Matrix(I, 3, 3)\n",
    "    Al = ElementPsp(:Al, psp=load_psp(\"hgh/lda/al-q3\"))\n",
    "    atoms     = [Al, Al, Al, Al]\n",
    "    positions = [[0.0, 0.0, 0.0], [0.0, 0.5, 0.5], [0.5, 0.0, 0.5], [0.5, 0.5, 0.0]]\n",
    "\n",
    "    # Make supercell in ASE:\n",
    "    # We convert our lattice to the conventions used in ASE\n",
    "    # and then back ...\n",
    "    supercell = ase_atoms(lattice, atoms, positions) * (repeat, 1, 1)\n",
    "    lattice   = load_lattice(supercell)\n",
    "    positions = load_positions(supercell)\n",
    "    atoms = fill(Al, length(positions))\n",
    "\n",
    "    # Construct an LDA model and discretise\n",
    "    # Note: We disable symmetries explicitly here. Otherwise the problem sizes\n",
    "    #       we are able to run on the CI are too simple to observe the numerical\n",
    "    #       instabilities we want to trigger here.\n",
    "    model = model_LDA(lattice, atoms, positions; temperature=1e-3, symmetries=false)\n",
    "    PlaneWaveBasis(model; Ecut, kgrid)\n",
    "end;"
   ],
   "metadata": {},
   "execution_count": 1
  },
  {
   "cell_type": "markdown",
   "source": [
    "As part of the code we are using a routine inside the ASE,\n",
    "the [atomistic simulation environment](https://wiki.fysik.dtu.dk/ase/index.html)\n",
    "for creating the supercell and make use of the two-way interoperability of\n",
    "DFTK and ASE. For more details on this aspect see the documentation\n",
    "on Input and output formats."
   ],
   "metadata": {}
  },
  {
   "cell_type": "markdown",
   "source": [
    "Write an example supercell structure to a file to plot it:"
   ],
   "metadata": {}
  },
  {
   "outputs": [],
   "cell_type": "code",
   "source": [
    "setup = aluminium_setup(5)\n",
    "ase_atoms(setup.model).write(\"al_supercell.png\")"
   ],
   "metadata": {},
   "execution_count": 2
  },
  {
   "cell_type": "markdown",
   "source": [
    "<img src=\"https://docs.dftk.org/stable/examples/al_supercell.png\" width=500 height=500 />"
   ],
   "metadata": {}
  },
  {
   "cell_type": "markdown",
   "source": [
    "As we will see in this notebook the modelling of a system generally becomes\n",
    "harder if the system becomes larger.\n",
    "\n",
    "- This sounds like a trivial statement as *per se* the cost per SCF step increases\n",
    "  as the system (and thus $N$) gets larger.\n",
    "- But there is more to it:\n",
    "  If one is not careful also the *number of SCF iterations* increases\n",
    "  as the system gets larger.\n",
    "- The aim of a proper computational treatment of such supercells is therefore\n",
    "  to ensure that the **number of SCF iterations remains constant** when the\n",
    "  system size increases."
   ],
   "metadata": {}
  },
  {
   "cell_type": "markdown",
   "source": [
    "For achieving the latter DFTK by default employs the `LdosMixing`\n",
    "preconditioner [^HL2021] during the SCF iterations. This mixing approach is\n",
    "completely parameter free, but still automatically adapts to the treated\n",
    "system in order to efficiently prevent charge sloshing. As a result,\n",
    "modelling aluminium slabs indeed takes roughly the same number of SCF iterations\n",
    "irrespective of the supercell size:\n",
    "\n",
    "[^HL2021]:\n",
    "   M. F. Herbst and A. Levitt.\n",
    "   *Black-box inhomogeneous preconditioning for self-consistent field iterations in density functional theory.*\n",
    "   J. Phys. Cond. Matt *33* 085503 (2021). [ArXiv:2009.01665](https://arxiv.org/abs/2009.01665)"
   ],
   "metadata": {}
  },
  {
   "outputs": [
    {
     "name": "stdout",
     "output_type": "stream",
     "text": [
      "n     Energy            log10(ΔE)   log10(Δρ)   Diag\n",
      "---   ---------------   ---------   ---------   ----\n",
      "  1   -8.298405254721                   -0.85    5.1\n",
      "  2   -8.300187740783       -2.75       -1.25    1.2\n",
      "  3   -8.300447323029       -3.59       -1.89    3.6\n",
      "  4   -8.300462555718       -4.82       -2.75    1.6\n",
      "  5   -8.300464258675       -5.77       -3.03    8.2\n",
      "  6   -8.300464434247       -6.76       -3.18    1.0\n",
      "  7   -8.300464538691       -6.98       -3.32    1.5\n",
      "  8   -8.300464591527       -7.28       -3.45    2.1\n",
      "  9   -8.300464632814       -7.38       -3.67    1.0\n",
      " 10   -8.300464636520       -8.43       -3.76    1.0\n",
      " 11   -8.300464642284       -8.24       -3.97    1.0\n",
      " 12   -8.300464643939       -8.78       -4.44    1.0\n"
     ]
    }
   ],
   "cell_type": "code",
   "source": [
    "is_converged = DFTK.ScfConvergenceDensity(1e-4)  # Flag convergence based on density\n",
    "self_consistent_field(aluminium_setup(1); is_converged);"
   ],
   "metadata": {},
   "execution_count": 3
  },
  {
   "outputs": [
    {
     "name": "stdout",
     "output_type": "stream",
     "text": [
      "n     Energy            log10(ΔE)   log10(Δρ)   Diag\n",
      "---   ---------------   ---------   ---------   ----\n",
      "  1   -16.63714109069                   -0.71    5.5\n",
      "  2   -16.64111585643       -2.40       -1.15    1.0\n",
      "  3   -16.67891627516       -1.42       -1.74    4.0\n",
      "  4   -16.67911152924       -3.71       -2.30    4.9\n",
      "  5   -16.67920817585       -4.01       -2.72    4.4\n",
      "  6   -16.67927773333       -4.16       -3.11    3.5\n",
      "  7   -16.67928278131       -5.30       -3.28    2.6\n",
      "  8   -16.67928611406       -5.48       -3.99    2.6\n",
      "  9   -16.67928621855       -6.98       -4.46    2.6\n"
     ]
    }
   ],
   "cell_type": "code",
   "source": [
    "self_consistent_field(aluminium_setup(2); is_converged);"
   ],
   "metadata": {},
   "execution_count": 4
  },
  {
   "outputs": [
    {
     "name": "stdout",
     "output_type": "stream",
     "text": [
      "n     Energy            log10(ΔE)   log10(Δρ)   Diag\n",
      "---   ---------------   ---------   ---------   ----\n",
      "  1   -33.32684255169                   -0.56    7.0\n",
      "  2   -33.33439492621       -2.12       -1.00    1.6\n",
      "  3   -33.33594151490       -2.81       -1.72    7.5\n",
      "  4   -33.33612975023       -3.73       -2.63    3.6\n",
      "  5   -33.33676269544       -3.20       -2.20    6.1\n",
      "  6   -33.33679502190       -4.49       -2.24    1.2\n",
      "  7   -33.33694324300       -3.83       -3.29    4.6\n",
      "  8   -33.33694388903       -6.19       -3.66    5.6\n",
      "  9   -33.33694377677   +   -6.95       -3.74    1.8\n",
      " 10   -33.33694391581       -6.86       -4.32    4.6\n"
     ]
    }
   ],
   "cell_type": "code",
   "source": [
    "self_consistent_field(aluminium_setup(4); is_converged);"
   ],
   "metadata": {},
   "execution_count": 5
  },
  {
   "cell_type": "markdown",
   "source": [
    "When switching off explicitly the `LdosMixing`, by selecting `mixing=SimpleMixing()`,\n",
    "the performance of number of required SCF steps starts to increase as we increase\n",
    "the size of the modelled problem:"
   ],
   "metadata": {}
  },
  {
   "outputs": [
    {
     "name": "stdout",
     "output_type": "stream",
     "text": [
      "n     Energy            log10(ΔE)   log10(Δρ)   Diag\n",
      "---   ---------------   ---------   ---------   ----\n",
      "  1   -8.298686312499                   -0.85    5.2\n",
      "  2   -8.300294957389       -2.79       -1.59    1.0\n",
      "  3   -8.300459892993       -3.78       -2.67    4.8\n",
      "┌ Warning: Eigensolver not converged\n",
      "│   iterations =\n",
      "│    8-element Vector{Int64}:\n",
      "│     100\n",
      "│       3\n",
      "│       3\n",
      "│       3\n",
      "│       3\n",
      "│       2\n",
      "│       5\n",
      "│       2\n",
      "└ @ DFTK ~/work/DFTK.jl/DFTK.jl/src/scf/self_consistent_field.jl:34\n",
      "  4   -8.300433766394   +   -4.58       -2.51   15.1\n",
      "  5   -8.300464511678       -4.51       -3.69    3.1\n",
      "  6   -8.300464617000       -6.98       -4.10    2.2\n"
     ]
    }
   ],
   "cell_type": "code",
   "source": [
    "self_consistent_field(aluminium_setup(1); is_converged, mixing=SimpleMixing());"
   ],
   "metadata": {},
   "execution_count": 6
  },
  {
   "outputs": [
    {
     "name": "stdout",
     "output_type": "stream",
     "text": [
      "n     Energy            log10(ΔE)   log10(Δρ)   Diag\n",
      "---   ---------------   ---------   ---------   ----\n",
      "  1   -33.32693710867                   -0.56    7.5\n",
      "  2   -33.33358381829       -2.18       -1.28    1.1\n",
      "  3   -32.69293441932   +   -0.19       -1.15    8.5\n",
      "  4   -32.28594491419   +   -0.39       -1.05    5.6\n",
      "  5   -33.23721021131       -0.02       -1.34    4.9\n",
      "  6   -32.81435345456   +   -0.37       -1.20    4.8\n",
      "  7   -33.30558725747       -0.31       -1.76    5.1\n",
      "  8   -33.33641360360       -1.51       -2.35    2.8\n",
      "  9   -33.33690686163       -3.31       -2.82    2.8\n",
      " 10   -33.33690214545   +   -5.33       -2.85    3.4\n",
      " 11   -33.33692693397       -4.61       -3.09    1.8\n",
      " 12   -33.33694317122       -4.79       -3.79    2.2\n",
      " 13   -33.33694335813       -6.73       -3.90    4.2\n",
      " 14   -33.33694340742       -7.31       -4.12    2.2\n"
     ]
    }
   ],
   "cell_type": "code",
   "source": [
    "self_consistent_field(aluminium_setup(4); is_converged, mixing=SimpleMixing());"
   ],
   "metadata": {},
   "execution_count": 7
  },
  {
   "cell_type": "markdown",
   "source": [
    "For completion let us note that the more traditional `mixing=KerkerMixing()`\n",
    "approach would also help in this particular setting to obtain a constant\n",
    "number of SCF iterations for an increasing system size (try it!). In contrast\n",
    "to `LdosMixing`, however, `KerkerMixing` is only suitable to model bulk metallic\n",
    "system (like the case we are considering here). When modelling metallic surfaces\n",
    "or mixtures of metals and insulators, `KerkerMixing` fails, while `LdosMixing`\n",
    "still works well. See the Modelling a gallium arsenide surface example\n",
    "or [^HL2021] for details. Due to the general applicability of `LdosMixing` this\n",
    "method is the default mixing approach in DFTK."
   ],
   "metadata": {}
  }
 ],
 "nbformat_minor": 3,
 "metadata": {
  "language_info": {
   "file_extension": ".jl",
   "mimetype": "application/julia",
   "name": "julia",
   "version": "1.8.2"
  },
  "kernelspec": {
   "name": "julia-1.8",
   "display_name": "Julia 1.8.2",
   "language": "julia"
  }
 },
 "nbformat": 4
}
