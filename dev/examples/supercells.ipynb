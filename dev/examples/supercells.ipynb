{
 "cells": [
  {
   "cell_type": "markdown",
   "source": [
    "# Creating and modelling metallic supercells\n",
    "\n",
    "In this section we will be concerned with modelling supercells of aluminium.\n",
    "When dealing with periodic problems there is no unique definition of the\n",
    "lattice: Clearly any duplication of the lattice along an axis is also a valid\n",
    "repetitive unit to describe exactly the same system.\n",
    "This is exactly what a **supercell** is: An $n$-fold repetition along one of the\n",
    "axes of the original lattice.\n",
    "\n",
    "The following code achieves this for aluminium:"
   ],
   "metadata": {}
  },
  {
   "outputs": [],
   "cell_type": "code",
   "source": [
    "using DFTK\n",
    "using LinearAlgebra\n",
    "\n",
    "function aluminium_setup(repeat=1; Ecut=7.0, kgrid=[2, 2, 2])\n",
    "    a = 7.65339\n",
    "    lattice = a * Matrix(I, 3, 3)\n",
    "    Al = ElementPsp(:Al, psp=load_psp(\"hgh/lda/al-q3\"))\n",
    "    atoms     = [Al, Al, Al, Al]\n",
    "    positions = [[0.0, 0.0, 0.0], [0.0, 0.5, 0.5], [0.5, 0.0, 0.5], [0.5, 0.5, 0.0]]\n",
    "\n",
    "    # Make supercell in ASE:\n",
    "    # We convert our lattice to the conventions used in ASE\n",
    "    # and then back ...\n",
    "    supercell = ase_atoms(lattice, atoms, positions) * (repeat, 1, 1)\n",
    "    lattice   = load_lattice(supercell)\n",
    "    positions = load_positions(supercell)\n",
    "    atoms = fill(Al, length(positions))\n",
    "\n",
    "    # Construct an LDA model and discretise\n",
    "    # Note: We disable symmetries explicitly here. Otherwise the problem sizes\n",
    "    #       we are able to run on the CI are too simple to observe the numerical\n",
    "    #       instabilities we want to trigger here.\n",
    "    model = model_LDA(lattice, atoms, positions; temperature=1e-3, symmetries=false)\n",
    "    PlaneWaveBasis(model; Ecut, kgrid)\n",
    "end;"
   ],
   "metadata": {},
   "execution_count": 1
  },
  {
   "cell_type": "markdown",
   "source": [
    "As part of the code we are using a routine inside the ASE,\n",
    "the [atomistic simulation environment](https://wiki.fysik.dtu.dk/ase/index.html)\n",
    "for creating the supercell and make use of the two-way interoperability of\n",
    "DFTK and ASE. For more details on this aspect see the documentation\n",
    "on Input and output formats."
   ],
   "metadata": {}
  },
  {
   "cell_type": "markdown",
   "source": [
    "Write an example supercell structure to a file to plot it:"
   ],
   "metadata": {}
  },
  {
   "outputs": [],
   "cell_type": "code",
   "source": [
    "setup = aluminium_setup(5)\n",
    "ase_atoms(setup.model).write(\"al_supercell.png\")"
   ],
   "metadata": {},
   "execution_count": 2
  },
  {
   "cell_type": "markdown",
   "source": [
    "<img src=\"https://docs.dftk.org/stable/examples/al_supercell.png\" width=500 height=500 />"
   ],
   "metadata": {}
  },
  {
   "cell_type": "markdown",
   "source": [
    "As we will see in this notebook the modelling of a system generally becomes\n",
    "harder if the system becomes larger.\n",
    "\n",
    "- This sounds like a trivial statement as *per se* the cost per SCF step increases\n",
    "  as the system (and thus $N$) gets larger.\n",
    "- But there is more to it:\n",
    "  If one is not careful also the *number of SCF iterations* increases\n",
    "  as the system gets larger.\n",
    "- The aim of a proper computational treatment of such supercells is therefore\n",
    "  to ensure that the **number of SCF iterations remains constant** when the\n",
    "  system size increases."
   ],
   "metadata": {}
  },
  {
   "cell_type": "markdown",
   "source": [
    "For achieving the latter DFTK by default employs the `LdosMixing`\n",
    "preconditioner [^HL2021] during the SCF iterations. This mixing approach is\n",
    "completely parameter free, but still automatically adapts to the treated\n",
    "system in order to efficiently prevent charge sloshing. As a result,\n",
    "modelling aluminium slabs indeed takes roughly the same number of SCF iterations\n",
    "irrespective of the supercell size:\n",
    "\n",
    "[^HL2021]:\n",
    "   M. F. Herbst and A. Levitt.\n",
    "   *Black-box inhomogeneous preconditioning for self-consistent field iterations in density functional theory.*\n",
    "   J. Phys. Cond. Matt *33* 085503 (2021). [ArXiv:2009.01665](https://arxiv.org/abs/2009.01665)"
   ],
   "metadata": {}
  },
  {
   "outputs": [
    {
     "name": "stdout",
     "output_type": "stream",
     "text": [
      "n     Energy            log10(ΔE)   log10(Δρ)   Diag\n",
      "---   ---------------   ---------   ---------   ----\n",
      "  1   -8.298234454068                   -0.85    5.5\n",
      "  2   -8.300180574648       -2.71       -1.25    1.0\n",
      "  3   -8.300445901030       -3.58       -1.89    3.4\n",
      "  4   -8.300462335639       -4.78       -2.76    1.5\n",
      "  5   -8.300464465472       -5.67       -3.05    9.8\n",
      "  6   -8.300464544260       -7.10       -3.21    1.1\n",
      "  7   -8.300464593210       -7.31       -3.35    2.4\n",
      "  8   -8.300464619446       -7.58       -3.49    1.0\n",
      "  9   -8.300464636827       -7.76       -3.67    1.0\n",
      " 10   -8.300464640449       -8.44       -3.79    1.0\n",
      " 11   -8.300464643353       -8.54       -4.04    1.1\n"
     ]
    }
   ],
   "cell_type": "code",
   "source": [
    "is_converged = DFTK.ScfConvergenceDensity(1e-4)  # Flag convergence based on density\n",
    "self_consistent_field(aluminium_setup(1); is_converged);"
   ],
   "metadata": {},
   "execution_count": 3
  },
  {
   "outputs": [
    {
     "name": "stdout",
     "output_type": "stream",
     "text": [
      "n     Energy            log10(ΔE)   log10(Δρ)   Diag\n",
      "---   ---------------   ---------   ---------   ----\n",
      "  1   -16.67437321981                   -0.70    7.2\n",
      "  2   -16.67871546789       -2.36       -1.14    1.0\n",
      "  3   -16.67923344178       -3.29       -1.87    3.2\n",
      "  4   -16.67927842594       -4.35       -2.78    3.4\n",
      "  5   -16.67928607476       -5.12       -3.21    4.4\n",
      "  6   -16.67928621673       -6.85       -3.50    4.1\n",
      "  7   -16.67928622262       -8.23       -3.97    1.1\n",
      "  8   -16.67928622433       -8.77       -4.62    1.0\n"
     ]
    }
   ],
   "cell_type": "code",
   "source": [
    "self_consistent_field(aluminium_setup(2); is_converged);"
   ],
   "metadata": {},
   "execution_count": 4
  },
  {
   "outputs": [
    {
     "name": "stdout",
     "output_type": "stream",
     "text": [
      "n     Energy            log10(ΔE)   log10(Δρ)   Diag\n",
      "---   ---------------   ---------   ---------   ----\n",
      "  1   -33.31907804638                   -0.56    6.9\n",
      "  2   -33.32613948527       -2.15       -1.00    1.8\n",
      "  3   -33.33600436676       -2.01       -1.67    4.4\n",
      "  4   -33.33616418504       -3.80       -2.56    3.6\n",
      "  5   -33.33688996731       -3.14       -2.46   11.1\n",
      "  6   -33.33691822791       -4.55       -2.62    3.2\n",
      "  7   -33.33694354087       -4.60       -3.42    3.4\n",
      "  8   -33.33694391920       -6.42       -3.87    3.9\n",
      "  9   -33.33694392663       -8.13       -4.71    1.1\n"
     ]
    }
   ],
   "cell_type": "code",
   "source": [
    "self_consistent_field(aluminium_setup(4); is_converged);"
   ],
   "metadata": {},
   "execution_count": 5
  },
  {
   "cell_type": "markdown",
   "source": [
    "When switching off explicitly the `LdosMixing`, by selecting `mixing=SimpleMixing()`,\n",
    "the performance of number of required SCF steps starts to increase as we increase\n",
    "the size of the modelled problem:"
   ],
   "metadata": {}
  },
  {
   "outputs": [
    {
     "name": "stdout",
     "output_type": "stream",
     "text": [
      "n     Energy            log10(ΔE)   log10(Δρ)   Diag\n",
      "---   ---------------   ---------   ---------   ----\n",
      "  1   -8.298718577928                   -0.85    5.0\n",
      "  2   -8.300292999827       -2.80       -1.59    1.0\n",
      "  3   -8.300421531404       -3.89       -2.39    4.8\n",
      "  4   -8.300318126891   +   -3.99       -2.17   12.9\n",
      "  5   -8.300464557448       -3.83       -3.80    2.5\n",
      "  6   -8.300464618569       -7.21       -4.10    3.2\n"
     ]
    }
   ],
   "cell_type": "code",
   "source": [
    "self_consistent_field(aluminium_setup(1); is_converged, mixing=SimpleMixing());"
   ],
   "metadata": {},
   "execution_count": 6
  },
  {
   "outputs": [
    {
     "name": "stdout",
     "output_type": "stream",
     "text": [
      "n     Energy            log10(ΔE)   log10(Δρ)   Diag\n",
      "---   ---------------   ---------   ---------   ----\n",
      "  1   -33.29741900996                   -0.56    6.9\n",
      "  2   -33.24930073681   +   -1.32       -1.24    1.4\n",
      "  3   +15.29531890614   +    1.69       -0.22   11.6\n",
      "  4   -33.30609078453        1.69       -1.50    6.9\n",
      "  5   -33.24472411261   +   -1.21       -1.35    4.2\n",
      "  6   -31.87253770747   +    0.14       -0.98    4.1\n",
      "  7   -33.26236372434        0.14       -1.61    4.8\n",
      "  8   -33.33564614804       -1.14       -2.12    3.5\n",
      "  9   -33.33571204432       -4.18       -2.19    3.4\n",
      " 10   -33.33654659662       -3.08       -2.49    2.2\n",
      " 11   -33.33692019125       -3.43       -2.93    2.0\n",
      " 12   -33.33692052314       -6.48       -2.92    2.0\n",
      " 13   -33.33692278580       -5.65       -2.92    1.5\n",
      " 14   -33.33692291773       -6.88       -2.91    1.5\n",
      " 15   -33.33691949594   +   -5.47       -2.84    1.8\n",
      " 16   -33.33692433850       -5.31       -2.90    1.0\n",
      " 17   -33.33692816326       -5.42       -3.04    1.2\n",
      " 18   -33.33694013631       -4.92       -3.39    1.5\n",
      " 19   -33.33694172356       -5.80       -3.46    1.6\n",
      " 20   -33.33694168461   +   -7.41       -3.87    3.1\n",
      " 21   -33.33693975813   +   -5.72       -3.70    3.1\n",
      " 22   -33.33694381796       -5.39       -4.42    2.8\n"
     ]
    }
   ],
   "cell_type": "code",
   "source": [
    "self_consistent_field(aluminium_setup(4); is_converged, mixing=SimpleMixing());"
   ],
   "metadata": {},
   "execution_count": 7
  },
  {
   "cell_type": "markdown",
   "source": [
    "For completion let us note that the more traditional `mixing=KerkerMixing()`\n",
    "approach would also help in this particular setting to obtain a constant\n",
    "number of SCF iterations for an increasing system size (try it!). In contrast\n",
    "to `LdosMixing`, however, `KerkerMixing` is only suitable to model bulk metallic\n",
    "system (like the case we are considering here). When modelling metallic surfaces\n",
    "or mixtures of metals and insulators, `KerkerMixing` fails, while `LdosMixing`\n",
    "still works well. See the Modelling a gallium arsenide surface example\n",
    "or [^HL2021] for details. Due to the general applicability of `LdosMixing` this\n",
    "method is the default mixing approach in DFTK."
   ],
   "metadata": {}
  }
 ],
 "nbformat_minor": 3,
 "metadata": {
  "language_info": {
   "file_extension": ".jl",
   "mimetype": "application/julia",
   "name": "julia",
   "version": "1.8.2"
  },
  "kernelspec": {
   "name": "julia-1.8",
   "display_name": "Julia 1.8.2",
   "language": "julia"
  }
 },
 "nbformat": 4
}
