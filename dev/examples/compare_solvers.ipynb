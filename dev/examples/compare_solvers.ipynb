{
 "cells": [
  {
   "cell_type": "markdown",
   "source": [
    "# Comparison of DFT solvers"
   ],
   "metadata": {}
  },
  {
   "cell_type": "markdown",
   "source": [
    "We compare four different approaches for solving the DFT minimisation problem,\n",
    "namely a density-based SCF, a potential-based SCF, direct minimisation and Newton."
   ],
   "metadata": {}
  },
  {
   "cell_type": "markdown",
   "source": [
    "First we setup our problem"
   ],
   "metadata": {}
  },
  {
   "outputs": [
    {
     "output_type": "execute_result",
     "data": {
      "text/plain": "1.0e-6"
     },
     "metadata": {},
     "execution_count": 1
    }
   ],
   "cell_type": "code",
   "source": [
    "using DFTK\n",
    "using LinearAlgebra\n",
    "\n",
    "a = 10.26  # Silicon lattice constant in Bohr\n",
    "lattice = a / 2 * [[0 1 1.];\n",
    "                   [1 0 1.];\n",
    "                   [1 1 0.]]\n",
    "Si = ElementPsp(:Si, psp=load_psp(\"hgh/lda/Si-q4\"))\n",
    "atoms     = [Si, Si]\n",
    "positions = [ones(3)/8, -ones(3)/8]\n",
    "\n",
    "model = model_LDA(lattice, atoms, positions)\n",
    "basis = PlaneWaveBasis(model; Ecut=5, kgrid=[3, 3, 3])\n",
    "\n",
    "# Convergence we desire in the density\n",
    "tol = 1e-6"
   ],
   "metadata": {},
   "execution_count": 1
  },
  {
   "cell_type": "markdown",
   "source": [
    "## Density-based self-consistent field"
   ],
   "metadata": {}
  },
  {
   "outputs": [
    {
     "name": "stdout",
     "output_type": "stream",
     "text": [
      "n     Energy            log10(ΔE)   log10(Δρ)   Diag\n",
      "---   ---------------   ---------   ---------   ----\n",
      "  1   -7.846849492074                   -0.70    4.8\n",
      "  2   -7.852321733727       -2.26       -1.53    1.0\n",
      "  3   -7.852614249310       -3.53       -2.56    1.2\n",
      "  4   -7.852645892754       -4.50       -2.86    2.5\n",
      "  5   -7.852646460671       -6.25       -3.13    1.0\n",
      "  6   -7.852646678811       -6.66       -4.02    1.2\n",
      "  7   -7.852646686613       -8.11       -5.06    2.0\n",
      "  8   -7.852646686722       -9.96       -5.36    2.0\n",
      "  9   -7.852646686728      -11.21       -5.62    1.0\n",
      " 10   -7.852646686730      -11.68       -6.63    1.0\n"
     ]
    }
   ],
   "cell_type": "code",
   "source": [
    "scfres_scf = self_consistent_field(basis; tol);"
   ],
   "metadata": {},
   "execution_count": 2
  },
  {
   "cell_type": "markdown",
   "source": [
    "## Potential-based SCF"
   ],
   "metadata": {}
  },
  {
   "outputs": [
    {
     "name": "stdout",
     "output_type": "stream",
     "text": [
      "n     Energy            log10(ΔE)   log10(Δρ)   α      Diag\n",
      "---   ---------------   ---------   ---------   ----   ----\n",
      "  1   -7.846811066590                   -0.70           4.5\n",
      "  2   -7.852538152961       -2.24       -1.63   0.80    2.2\n",
      "  3   -7.852637751031       -4.00       -2.72   0.80    1.0\n",
      "  4   -7.852646479027       -5.06       -3.35   0.80    2.2\n",
      "  5   -7.852646676510       -6.70       -4.20   0.80    1.5\n",
      "  6   -7.852646686577       -8.00       -4.70   0.80    2.0\n",
      "  7   -7.852646686711       -9.87       -5.63   0.80    1.2\n",
      "  8   -7.852646686729      -10.74       -6.05   0.80    2.2\n"
     ]
    }
   ],
   "cell_type": "code",
   "source": [
    "scfres_scfv = DFTK.scf_potential_mixing(basis; tol);"
   ],
   "metadata": {},
   "execution_count": 3
  },
  {
   "cell_type": "markdown",
   "source": [
    "## Direct minimization\n",
    "Note: Unlike the other algorithms, tolerance for this one is in the energy,\n",
    "thus we square the density tolerance value to be roughly equivalent."
   ],
   "metadata": {}
  },
  {
   "outputs": [
    {
     "name": "stdout",
     "output_type": "stream",
     "text": [
      "Iter     Function value   Gradient norm \n",
      "     0     1.370033e+01     3.308369e+00\n",
      " * time: 0.4555649757385254\n",
      "     1     1.015241e+00     1.816783e+00\n",
      " * time: 0.6923859119415283\n",
      "     2    -1.568989e+00     1.907528e+00\n",
      " * time: 0.7245888710021973\n",
      "     3    -3.746339e+00     1.595216e+00\n",
      " * time: 0.7722969055175781\n",
      "     4    -5.098216e+00     1.591197e+00\n",
      " * time: 0.8187978267669678\n",
      "     5    -6.767144e+00     9.110874e-01\n",
      " * time: 0.8669188022613525\n",
      "     6    -7.399833e+00     4.780487e-01\n",
      " * time: 0.9208719730377197\n",
      "     7    -7.642623e+00     2.454088e-01\n",
      " * time: 0.9531338214874268\n",
      "     8    -7.741830e+00     1.171936e-01\n",
      " * time: 0.9853618144989014\n",
      "     9    -7.788832e+00     1.296599e-01\n",
      " * time: 1.017906904220581\n",
      "    10    -7.816401e+00     1.010380e-01\n",
      " * time: 1.0500140190124512\n",
      "    11    -7.833832e+00     6.586149e-02\n",
      " * time: 1.082502841949463\n",
      "    12    -7.841420e+00     7.145352e-02\n",
      " * time: 1.1171059608459473\n",
      "    13    -7.844433e+00     6.852982e-02\n",
      " * time: 1.1495039463043213\n",
      "    14    -7.845260e+00     4.928575e-02\n",
      " * time: 1.3053319454193115\n",
      "    15    -7.847506e+00     3.262190e-02\n",
      " * time: 1.3429179191589355\n",
      "    16    -7.850588e+00     2.583817e-02\n",
      " * time: 1.3746700286865234\n",
      "    17    -7.852020e+00     1.709931e-02\n",
      " * time: 1.4064009189605713\n",
      "    18    -7.852470e+00     4.969149e-03\n",
      " * time: 1.4386799335479736\n",
      "    19    -7.852599e+00     3.701697e-03\n",
      " * time: 1.4704649448394775\n",
      "    20    -7.852630e+00     2.312961e-03\n",
      " * time: 1.5026719570159912\n",
      "    21    -7.852640e+00     1.129998e-03\n",
      " * time: 1.534538984298706\n",
      "    22    -7.852645e+00     8.752525e-04\n",
      " * time: 1.5661358833312988\n",
      "    23    -7.852646e+00     6.585288e-04\n",
      " * time: 1.597795009613037\n",
      "    24    -7.852646e+00     3.680645e-04\n",
      " * time: 1.6297128200531006\n",
      "    25    -7.852647e+00     2.379512e-04\n",
      " * time: 1.661712884902954\n",
      "    26    -7.852647e+00     9.916833e-05\n",
      " * time: 1.6955878734588623\n",
      "    27    -7.852647e+00     9.929439e-05\n",
      " * time: 1.7277839183807373\n",
      "    28    -7.852647e+00     7.296580e-05\n",
      " * time: 1.760267972946167\n",
      "    29    -7.852647e+00     1.805391e-05\n",
      " * time: 1.7925329208374023\n",
      "    30    -7.852647e+00     1.226514e-05\n",
      " * time: 1.8254249095916748\n",
      "    31    -7.852647e+00     7.087517e-06\n",
      " * time: 1.8573429584503174\n",
      "    32    -7.852647e+00     3.127521e-06\n",
      " * time: 1.8893358707427979\n",
      "    33    -7.852647e+00     2.512603e-06\n",
      " * time: 1.9225878715515137\n",
      "    34    -7.852647e+00     1.020718e-06\n",
      " * time: 1.9551708698272705\n",
      "    35    -7.852647e+00     6.818374e-07\n",
      " * time: 1.9872410297393799\n",
      "    36    -7.852647e+00     4.097212e-07\n",
      " * time: 2.0190799236297607\n",
      "    37    -7.852647e+00     2.694509e-07\n",
      " * time: 2.0506749153137207\n",
      "    38    -7.852647e+00     1.968495e-07\n",
      " * time: 2.082096815109253\n",
      "    39    -7.852647e+00     1.242464e-07\n",
      " * time: 2.115691900253296\n",
      "    40    -7.852647e+00     7.624099e-08\n",
      " * time: 2.1476948261260986\n",
      "    41    -7.852647e+00     4.979521e-08\n",
      " * time: 2.1797399520874023\n",
      "    42    -7.852647e+00     3.313798e-08\n",
      " * time: 2.211913824081421\n",
      "    43    -7.852647e+00     1.999323e-08\n",
      " * time: 2.2448229789733887\n",
      "    44    -7.852647e+00     1.001681e-08\n",
      " * time: 2.276962995529175\n",
      "    45    -7.852647e+00     9.565671e-09\n",
      " * time: 2.3383028507232666\n",
      "    46    -7.852647e+00     9.493027e-09\n",
      " * time: 2.4139339923858643\n"
     ]
    }
   ],
   "cell_type": "code",
   "source": [
    "scfres_dm = direct_minimization(basis; tol=tol^2);"
   ],
   "metadata": {},
   "execution_count": 4
  },
  {
   "cell_type": "markdown",
   "source": [
    "## Newton algorithm"
   ],
   "metadata": {}
  },
  {
   "cell_type": "markdown",
   "source": [
    "Start not too far from the solution to ensure convergence:\n",
    "We run first a very crude SCF to get close and then switch to Newton."
   ],
   "metadata": {}
  },
  {
   "outputs": [
    {
     "name": "stdout",
     "output_type": "stream",
     "text": [
      "n     Energy            log10(ΔE)   log10(Δρ)   Diag\n",
      "---   ---------------   ---------   ---------   ----\n",
      "  1   -7.846866662412                   -0.70    4.8\n"
     ]
    }
   ],
   "cell_type": "code",
   "source": [
    "scfres_start = self_consistent_field(basis; tol=0.5);"
   ],
   "metadata": {},
   "execution_count": 5
  },
  {
   "cell_type": "markdown",
   "source": [
    "Remove the virtual orbitals (which Newton cannot treat yet)"
   ],
   "metadata": {}
  },
  {
   "outputs": [
    {
     "name": "stdout",
     "output_type": "stream",
     "text": [
      "n     Energy            log10(ΔE)   log10(Δρ)\n",
      "---   ---------------   ---------   ---------\n",
      "  1   -7.852645910579                   -1.64\n",
      "  2   -7.852646686730       -6.11       -3.71\n",
      "  3   -7.852646686730      -13.29       -7.25\n"
     ]
    }
   ],
   "cell_type": "code",
   "source": [
    "ψ = DFTK.select_occupied_orbitals(basis, scfres_start.ψ, scfres_start.occupation).ψ\n",
    "scfres_newton = newton(basis, ψ; tol);"
   ],
   "metadata": {},
   "execution_count": 6
  },
  {
   "cell_type": "markdown",
   "source": [
    "## Comparison of results"
   ],
   "metadata": {}
  },
  {
   "outputs": [
    {
     "name": "stdout",
     "output_type": "stream",
     "text": [
      "|ρ_newton - ρ_scf|  = 2.72331835364057e-7\n",
      "|ρ_newton - ρ_scfv| = 1.6977618814291134e-7\n",
      "|ρ_newton - ρ_dm|   = 6.796344828107286e-10\n"
     ]
    }
   ],
   "cell_type": "code",
   "source": [
    "println(\"|ρ_newton - ρ_scf|  = \", norm(scfres_newton.ρ - scfres_scf.ρ))\n",
    "println(\"|ρ_newton - ρ_scfv| = \", norm(scfres_newton.ρ - scfres_scfv.ρ))\n",
    "println(\"|ρ_newton - ρ_dm|   = \", norm(scfres_newton.ρ - scfres_dm.ρ))"
   ],
   "metadata": {},
   "execution_count": 7
  }
 ],
 "nbformat_minor": 3,
 "metadata": {
  "language_info": {
   "file_extension": ".jl",
   "mimetype": "application/julia",
   "name": "julia",
   "version": "1.8.3"
  },
  "kernelspec": {
   "name": "julia-1.8",
   "display_name": "Julia 1.8.3",
   "language": "julia"
  }
 },
 "nbformat": 4
}
