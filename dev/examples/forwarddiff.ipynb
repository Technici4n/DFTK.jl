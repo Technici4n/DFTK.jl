{
 "cells": [
  {
   "cell_type": "markdown",
   "source": [
    "# Polarizability using automatic differentiation\n",
    "\n",
    "Simple example for computing properties using (forward-mode)\n",
    "automatic differentiation.\n",
    "For a more classical approach and more details about computing polarizabilities,\n",
    "see Polarizability by linear response."
   ],
   "metadata": {}
  },
  {
   "outputs": [],
   "cell_type": "code",
   "source": [
    "using DFTK\n",
    "using LinearAlgebra\n",
    "using ForwardDiff\n",
    "\n",
    "# Construct PlaneWaveBasis given a particular electric field strength\n",
    "# Again we take the example of a Helium atom.\n",
    "function make_basis(ε::T; a=10., Ecut=30) where {T}\n",
    "    lattice=T(a) * I(3)  # lattice is a cube of $a$ Bohrs\n",
    "    # Helium at the center of the box\n",
    "    atoms     = [ElementPsp(:He, psp=load_psp(\"hgh/lda/He-q2\"))]\n",
    "    positions = [[1/2, 1/2, 1/2]]\n",
    "\n",
    "    model = model_DFT(lattice, atoms, positions, [:lda_x, :lda_c_vwn];\n",
    "                      extra_terms=[ExternalFromReal(r -> -ε * (r[1] - a/2))],\n",
    "                      symmetries=false)\n",
    "    PlaneWaveBasis(model; Ecut, kgrid=[1, 1, 1])  # No k-point sampling on isolated system\n",
    "end\n",
    "\n",
    "# dipole moment of a given density (assuming the current geometry)\n",
    "function dipole(basis, ρ)\n",
    "    @assert isdiag(basis.model.lattice)\n",
    "    a  = basis.model.lattice[1, 1]\n",
    "    rr = [a * (r[1] - 1/2) for r in r_vectors(basis)]\n",
    "    sum(rr .* ρ) * basis.dvol\n",
    "end\n",
    "\n",
    "# Function to compute the dipole for a given field strength\n",
    "function compute_dipole(ε; tol=1e-8, kwargs...)\n",
    "    scfres = self_consistent_field(make_basis(ε; kwargs...); tol)\n",
    "    dipole(scfres.basis, scfres.ρ)\n",
    "end;"
   ],
   "metadata": {},
   "execution_count": 1
  },
  {
   "cell_type": "markdown",
   "source": [
    "With this in place we can compute the polarizability from finite differences\n",
    "(just like in the previous example):"
   ],
   "metadata": {}
  },
  {
   "outputs": [
    {
     "name": "stdout",
     "output_type": "stream",
     "text": [
      "n     Energy            log10(ΔE)   log10(Δρ)   Diag\n",
      "---   ---------------   ---------   ---------   ----\n",
      "  1   -2.770894450621                   -0.52    9.0\n",
      "  2   -2.772149032691       -2.90       -1.32    1.0\n",
      "  3   -2.772170295883       -4.67       -2.44    1.0\n",
      "  4   -2.772170651671       -6.45       -3.14    1.0\n",
      "  5   -2.772170722882       -7.15       -4.35    2.0\n",
      "  6   -2.772170722945      -10.20       -4.49    1.0\n",
      "  7   -2.772170723013      -10.17       -5.45    1.0\n",
      "  8   -2.772170723015      -11.75       -5.61    2.0\n",
      "  9   -2.772170723015      -12.71       -6.29    1.0\n",
      " 10   -2.772170723015      -13.50       -6.47    1.0\n",
      " 11   -2.772170723015      -13.91       -6.80    1.0\n",
      " 12   -2.772170723015      -14.21       -8.65    2.0\n",
      "n     Energy            log10(ΔE)   log10(Δρ)   Diag\n",
      "---   ---------------   ---------   ---------   ----\n",
      "  1   -2.770645279593                   -0.53    8.0\n",
      "  2   -2.772050302232       -2.85       -1.30    1.0\n",
      "  3   -2.772082684792       -4.49       -2.63    1.0\n",
      "  4   -2.772083412675       -6.14       -3.80    2.0\n",
      "  5   -2.772083417128       -8.35       -4.14    2.0\n",
      "  6   -2.772083417787       -9.18       -5.23    1.0\n",
      "  7   -2.772083417810      -10.63       -5.56    2.0\n",
      "  8   -2.772083417810      -12.18       -6.21    1.0\n",
      "  9   -2.772083417811      -12.92       -7.28    2.0\n",
      " 10   -2.772083417811   +  -13.83       -7.17    2.0\n",
      " 11   -2.772083417811      -13.60       -9.09    1.0\n"
     ]
    },
    {
     "output_type": "execute_result",
     "data": {
      "text/plain": "1.7735580041373022"
     },
     "metadata": {},
     "execution_count": 2
    }
   ],
   "cell_type": "code",
   "source": [
    "polarizability_fd = let\n",
    "    ε = 0.01\n",
    "    (compute_dipole(ε) - compute_dipole(0.0)) / ε\n",
    "end"
   ],
   "metadata": {},
   "execution_count": 2
  },
  {
   "cell_type": "markdown",
   "source": [
    "We do the same thing using automatic differentiation. Under the hood this uses\n",
    "custom rules to implicitly differentiate through the self-consistent\n",
    "field fixed-point problem."
   ],
   "metadata": {}
  },
  {
   "outputs": [
    {
     "name": "stdout",
     "output_type": "stream",
     "text": [
      "n     Energy            log10(ΔE)   log10(Δρ)   Diag\n",
      "---   ---------------   ---------   ---------   ----\n",
      "  1   -2.770392416711                   -0.53    9.0\n",
      "  2   -2.772050767255       -2.78       -1.29    1.0\n",
      "  3   -2.772082737385       -4.50       -2.70    1.0\n",
      "  4   -2.772083415800       -6.17       -3.84    2.0\n",
      "  5   -2.772083417693       -8.72       -4.40    1.0\n",
      "  6   -2.772083417801       -9.97       -5.24    1.0\n",
      "  7   -2.772083417810      -11.03       -5.70    2.0\n",
      "  8   -2.772083417811      -12.40       -7.37    1.0\n",
      "  9   -2.772083417811      -14.65       -7.25    3.0\n",
      " 10   -2.772083417811      -15.35       -7.67    1.0\n",
      " 11   -2.772083417811      -15.05       -8.36    1.0\n",
      "\n",
      "Polarizability via ForwardDiff:       1.772534961728542\n",
      "Polarizability via finite difference: 1.7735580041373022\n"
     ]
    }
   ],
   "cell_type": "code",
   "source": [
    "polarizability = ForwardDiff.derivative(compute_dipole, 0.0)\n",
    "println()\n",
    "println(\"Polarizability via ForwardDiff:       $polarizability\")\n",
    "println(\"Polarizability via finite difference: $polarizability_fd\")"
   ],
   "metadata": {},
   "execution_count": 3
  }
 ],
 "nbformat_minor": 3,
 "metadata": {
  "language_info": {
   "file_extension": ".jl",
   "mimetype": "application/julia",
   "name": "julia",
   "version": "1.8.3"
  },
  "kernelspec": {
   "name": "julia-1.8",
   "display_name": "Julia 1.8.3",
   "language": "julia"
  }
 },
 "nbformat": 4
}
