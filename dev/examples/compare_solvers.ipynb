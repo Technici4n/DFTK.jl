{
 "cells": [
  {
   "cell_type": "markdown",
   "source": [
    "# Comparison of DFT solvers"
   ],
   "metadata": {}
  },
  {
   "cell_type": "markdown",
   "source": [
    "We compare four different approaches for solving the DFT minimisation problem,\n",
    "namely a density-based SCF, a potential-based SCF, direct minimisation and Newton."
   ],
   "metadata": {}
  },
  {
   "cell_type": "markdown",
   "source": [
    "First we setup our problem"
   ],
   "metadata": {}
  },
  {
   "outputs": [],
   "cell_type": "code",
   "source": [
    "using DFTK\n",
    "using LinearAlgebra\n",
    "\n",
    "a = 10.26  # Silicon lattice constant in Bohr\n",
    "lattice = a / 2 * [[0 1 1.];\n",
    "                   [1 0 1.];\n",
    "                   [1 1 0.]]\n",
    "Si = ElementPsp(:Si, psp=load_psp(\"hgh/lda/Si-q4\"))\n",
    "atoms     = [Si, Si]\n",
    "positions = [ones(3)/8, -ones(3)/8]\n",
    "\n",
    "model = model_LDA(lattice, atoms, positions)\n",
    "basis = PlaneWaveBasis(model; Ecut=5, kgrid=[3, 3, 3])\n",
    "\n",
    "# Convergence we desire\n",
    "tol = 1e-12\n",
    "is_converged = DFTK.ScfConvergenceDensity(tol);"
   ],
   "metadata": {},
   "execution_count": 1
  },
  {
   "cell_type": "markdown",
   "source": [
    "## Density-based self-consistent field"
   ],
   "metadata": {}
  },
  {
   "outputs": [
    {
     "name": "stdout",
     "output_type": "stream",
     "text": [
      "n     Energy            log10(ΔE)   log10(Δρ)   Diag\n",
      "---   ---------------   ---------   ---------   ----\n",
      "  1   -7.846848952674                   -0.70    4.8\n",
      "  2   -7.852318718680       -2.26       -1.53    1.0\n",
      "  3   -7.852646223678       -3.48       -2.52    3.5\n",
      "  4   -7.852646678058       -6.34       -3.37    2.2\n",
      "  5   -7.852646685859       -8.11       -4.71    1.0\n",
      "  6   -7.852646686723       -9.06       -5.24    3.5\n",
      "  7   -7.852646686730      -11.18       -6.22    1.8\n",
      "  8   -7.852646686730      -12.78       -7.75    2.5\n",
      "  9   -7.852646686730      -14.75       -7.77    2.5\n",
      " 10   -7.852646686730   +  -14.75       -8.83    2.0\n",
      " 11   -7.852646686730   +    -Inf       -9.58    2.0\n",
      " 12   -7.852646686730   +  -15.05       -9.59    1.0\n",
      " 13   -7.852646686730   +    -Inf       -8.80    1.0\n",
      " 14   -7.852646686730   +  -14.57       -9.03    1.0\n",
      " 15   -7.852646686730      -14.75       -9.87    1.0\n",
      " 16   -7.852646686730      -14.35      -10.18    1.0\n",
      " 17   -7.852646686730   +  -14.45      -10.64    1.2\n",
      " 18   -7.852646686730   +  -15.05      -10.68    1.0\n",
      " 19   -7.852646686730      -14.45      -10.82    1.0\n",
      " 20   -7.852646686730   +    -Inf      -11.50    1.8\n",
      " 21   -7.852646686730   +  -14.57      -11.14    1.2\n",
      " 22   -7.852646686730      -15.05      -12.55    1.0\n"
     ]
    }
   ],
   "cell_type": "code",
   "source": [
    "scfres_scf = self_consistent_field(basis; is_converged);"
   ],
   "metadata": {},
   "execution_count": 2
  },
  {
   "cell_type": "markdown",
   "source": [
    "## Potential-based SCF"
   ],
   "metadata": {}
  },
  {
   "outputs": [
    {
     "name": "stdout",
     "output_type": "stream",
     "text": [
      "n     Energy            log10(ΔE)   log10(Δρ)   α      Diag\n",
      "---   ---------------   ---------   ---------   ----   ----\n",
      "  1   -7.846821884008                   -0.70           5.0\n",
      "  2   -7.852528511583       -2.24       -1.63   0.80    2.0\n",
      "  3   -7.852637477166       -3.96       -2.71   0.80    1.0\n",
      "  4   -7.852646470953       -5.05       -3.31   0.80    2.2\n",
      "  5   -7.852646682492       -6.67       -4.16   0.80    1.8\n",
      "  6   -7.852646686392       -8.41       -4.85   0.80    1.5\n",
      "  7   -7.852646686723       -9.48       -5.77   0.80    1.8\n",
      "  8   -7.852646686730      -11.16       -6.74   0.80    2.2\n",
      "  9   -7.852646686730      -12.80       -7.60   0.80    2.5\n",
      " 10   -7.852646686730      -14.75       -8.33   0.80    1.8\n",
      " 11   -7.852646686730   +  -14.45       -8.70   0.80    2.0\n",
      " 12   -7.852646686730      -14.75       -9.77   0.80    1.2\n",
      " 13   -7.852646686730      -14.57       -9.98   0.80    2.5\n",
      " 14   -7.852646686730   +  -14.57      -10.73   0.80    1.0\n",
      " 15   -7.852646686730   +    -Inf      -12.05   0.80    1.2\n"
     ]
    }
   ],
   "cell_type": "code",
   "source": [
    "scfres_scfv = DFTK.scf_potential_mixing(basis; is_converged);"
   ],
   "metadata": {},
   "execution_count": 3
  },
  {
   "cell_type": "markdown",
   "source": [
    "## Direct minimization"
   ],
   "metadata": {}
  },
  {
   "outputs": [
    {
     "name": "stdout",
     "output_type": "stream",
     "text": [
      "Iter     Function value   Gradient norm \n",
      "     0     1.356134e+01     3.095864e+00\n",
      " * time: 0.7231161594390869\n",
      "     1     9.094590e-01     1.638548e+00\n",
      " * time: 1.0266690254211426\n",
      "     2    -1.099486e+00     1.922734e+00\n",
      " * time: 1.064223051071167\n",
      "     3    -3.774758e+00     1.504480e+00\n",
      " * time: 1.1185650825500488\n",
      "     4    -4.842988e+00     1.535267e+00\n",
      " * time: 1.177976131439209\n",
      "     5    -6.628818e+00     8.216966e-01\n",
      " * time: 1.2426090240478516\n",
      "     6    -7.247599e+00     3.160462e-01\n",
      " * time: 1.2974810600280762\n",
      "     7    -7.498483e+00     2.072187e-01\n",
      " * time: 1.334348201751709\n",
      "     8    -7.638024e+00     1.454395e-01\n",
      " * time: 1.3717470169067383\n",
      "     9    -7.731929e+00     1.449287e-01\n",
      " * time: 1.4118330478668213\n",
      "    10    -7.791794e+00     1.021915e-01\n",
      " * time: 1.450423002243042\n",
      "    11    -7.825076e+00     6.738230e-02\n",
      " * time: 1.4879980087280273\n",
      "    12    -7.842883e+00     3.553740e-02\n",
      " * time: 1.5247600078582764\n",
      "    13    -7.849156e+00     2.692520e-02\n",
      " * time: 1.563838005065918\n",
      "    14    -7.851458e+00     1.926929e-02\n",
      " * time: 1.6046061515808105\n",
      "    15    -7.852110e+00     1.268080e-02\n",
      " * time: 1.643455982208252\n",
      "    16    -7.852407e+00     7.190072e-03\n",
      " * time: 1.683420181274414\n",
      "    17    -7.852562e+00     4.105917e-03\n",
      " * time: 1.7281160354614258\n",
      "    18    -7.852617e+00     2.253026e-03\n",
      " * time: 1.767090082168579\n",
      "    19    -7.852636e+00     1.578278e-03\n",
      " * time: 1.8129160404205322\n",
      "    20    -7.852643e+00     1.000654e-03\n",
      " * time: 1.8523499965667725\n",
      "    21    -7.852646e+00     6.106682e-04\n",
      " * time: 1.8996810913085938\n",
      "    22    -7.852646e+00     3.538940e-04\n",
      " * time: 1.9432811737060547\n",
      "    23    -7.852647e+00     2.206153e-04\n",
      " * time: 1.9887750148773193\n",
      "    24    -7.852647e+00     1.227896e-04\n",
      " * time: 2.031024217605591\n",
      "    25    -7.852647e+00     6.410358e-05\n",
      " * time: 2.070733070373535\n",
      "    26    -7.852647e+00     3.699108e-05\n",
      " * time: 2.117680072784424\n",
      "    27    -7.852647e+00     2.077496e-05\n",
      " * time: 2.159663200378418\n",
      "    28    -7.852647e+00     1.794230e-05\n",
      " * time: 2.196909189224243\n",
      "    29    -7.852647e+00     1.112032e-05\n",
      " * time: 2.2402331829071045\n",
      "    30    -7.852647e+00     3.388972e-06\n",
      " * time: 2.2791121006011963\n",
      "    31    -7.852647e+00     2.590796e-06\n",
      " * time: 2.3232040405273438\n",
      "    32    -7.852647e+00     1.276393e-06\n",
      " * time: 2.362534999847412\n",
      "    33    -7.852647e+00     5.746556e-07\n",
      " * time: 2.3999521732330322\n",
      "    34    -7.852647e+00     3.629671e-07\n",
      " * time: 2.437592029571533\n",
      "    35    -7.852647e+00     2.441940e-07\n",
      " * time: 2.4816131591796875\n",
      "    36    -7.852647e+00     1.545703e-07\n",
      " * time: 2.5248351097106934\n",
      "    37    -7.852647e+00     1.040183e-07\n",
      " * time: 2.568631172180176\n",
      "    38    -7.852647e+00     5.967084e-08\n",
      " * time: 2.610733985900879\n",
      "    39    -7.852647e+00     3.701165e-08\n",
      " * time: 2.6497302055358887\n",
      "    40    -7.852647e+00     2.250682e-08\n",
      " * time: 2.6882050037384033\n",
      "    41    -7.852647e+00     1.198230e-08\n",
      " * time: 2.7262160778045654\n",
      "    42    -7.852647e+00     8.432803e-09\n",
      " * time: 2.764883041381836\n",
      "    43    -7.852647e+00     5.060994e-09\n",
      " * time: 2.805009126663208\n"
     ]
    }
   ],
   "cell_type": "code",
   "source": [
    "scfres_dm = direct_minimization(basis; tol);"
   ],
   "metadata": {},
   "execution_count": 4
  },
  {
   "cell_type": "markdown",
   "source": [
    "## Newton algorithm"
   ],
   "metadata": {}
  },
  {
   "cell_type": "markdown",
   "source": [
    "Start not too far from the solution to ensure convergence:\n",
    "We run first a very crude SCF to get close and then switch to Newton."
   ],
   "metadata": {}
  },
  {
   "outputs": [
    {
     "name": "stdout",
     "output_type": "stream",
     "text": [
      "n     Energy            log10(ΔE)   log10(Δρ)   Diag\n",
      "---   ---------------   ---------   ---------   ----\n",
      "  1   -7.846798660437                   -0.70    4.5\n",
      "  2   -7.852300200319       -2.26       -1.53    1.0\n"
     ]
    }
   ],
   "cell_type": "code",
   "source": [
    "scfres_start = self_consistent_field(basis; tol=1e-1);"
   ],
   "metadata": {},
   "execution_count": 5
  },
  {
   "cell_type": "markdown",
   "source": [
    "Remove the virtual orbitals (which Newton cannot treat yet)"
   ],
   "metadata": {}
  },
  {
   "outputs": [
    {
     "name": "stdout",
     "output_type": "stream",
     "text": [
      "n     Energy            log10(ΔE)   log10(Δρ)\n",
      "---   ---------------   ---------   ---------\n",
      "  1   -7.852646686597                   -2.54\n",
      "  2   -7.852646686730       -9.88       -5.87\n",
      "  3   -7.852646686730   +    -Inf      -11.77\n",
      "  4   -7.852646686730      -14.75      -15.71\n"
     ]
    }
   ],
   "cell_type": "code",
   "source": [
    "ψ = DFTK.select_occupied_orbitals(basis, scfres_start.ψ, scfres_start.occupation).ψ\n",
    "scfres_newton = newton(basis, ψ; tol);"
   ],
   "metadata": {},
   "execution_count": 6
  },
  {
   "cell_type": "markdown",
   "source": [
    "## Comparison of results"
   ],
   "metadata": {}
  },
  {
   "outputs": [
    {
     "name": "stdout",
     "output_type": "stream",
     "text": [
      "|ρ_newton - ρ_scf|  = 4.4140811510856365e-13\n",
      "|ρ_newton - ρ_scfv| = 1.4407071430091798e-12\n",
      "|ρ_newton - ρ_dm|   = 7.751055466463193e-10\n"
     ]
    }
   ],
   "cell_type": "code",
   "source": [
    "println(\"|ρ_newton - ρ_scf|  = \", norm(scfres_newton.ρ - scfres_scf.ρ))\n",
    "println(\"|ρ_newton - ρ_scfv| = \", norm(scfres_newton.ρ - scfres_scfv.ρ))\n",
    "println(\"|ρ_newton - ρ_dm|   = \", norm(scfres_newton.ρ - scfres_dm.ρ))"
   ],
   "metadata": {},
   "execution_count": 7
  }
 ],
 "nbformat_minor": 3,
 "metadata": {
  "language_info": {
   "file_extension": ".jl",
   "mimetype": "application/julia",
   "name": "julia",
   "version": "1.8.3"
  },
  "kernelspec": {
   "name": "julia-1.8",
   "display_name": "Julia 1.8.3",
   "language": "julia"
  }
 },
 "nbformat": 4
}
