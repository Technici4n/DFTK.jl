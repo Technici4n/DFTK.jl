{
 "cells": [
  {
   "cell_type": "markdown",
   "source": [
    "# Comparison of DFT solvers"
   ],
   "metadata": {}
  },
  {
   "cell_type": "markdown",
   "source": [
    "We compare four different approaches for solving the DFT minimisation problem,\n",
    "namely a density-based SCF, a potential-based SCF, direct minimisation and Newton."
   ],
   "metadata": {}
  },
  {
   "cell_type": "markdown",
   "source": [
    "First we setup our problem"
   ],
   "metadata": {}
  },
  {
   "outputs": [],
   "cell_type": "code",
   "source": [
    "using DFTK\n",
    "using LinearAlgebra\n",
    "\n",
    "a = 10.26  # Silicon lattice constant in Bohr\n",
    "lattice = a / 2 * [[0 1 1.];\n",
    "                   [1 0 1.];\n",
    "                   [1 1 0.]]\n",
    "Si = ElementPsp(:Si, psp=load_psp(\"hgh/lda/Si-q4\"))\n",
    "atoms     = [Si, Si]\n",
    "positions = [ones(3)/8, -ones(3)/8]\n",
    "\n",
    "model = model_LDA(lattice, atoms, positions)\n",
    "basis = PlaneWaveBasis(model; Ecut=5, kgrid=[3, 3, 3])\n",
    "\n",
    "# Convergence we desire\n",
    "tol = 1e-12\n",
    "is_converged = DFTK.ScfConvergenceDensity(tol);"
   ],
   "metadata": {},
   "execution_count": 1
  },
  {
   "cell_type": "markdown",
   "source": [
    "## Density-based self-consistent field"
   ],
   "metadata": {}
  },
  {
   "outputs": [
    {
     "name": "stdout",
     "output_type": "stream",
     "text": [
      "n     Energy            log10(ΔE)   log10(Δρ)   Diag\n",
      "---   ---------------   ---------   ---------   ----\n",
      "  1   -7.846830157049                   -0.70    4.0\n",
      "  2   -7.852323922276       -2.26       -1.53    1.0\n",
      "  3   -7.852646023982       -3.49       -2.52    3.0\n",
      "  4   -7.852646676004       -6.19       -3.33    2.8\n",
      "  5   -7.852646685831       -8.01       -4.74    1.0\n",
      "  6   -7.852646686728       -9.05       -5.24    4.0\n",
      "  7   -7.852646686729      -11.76       -5.87    1.0\n",
      "  8   -7.852646686730      -12.41       -7.38    2.0\n",
      "  9   -7.852646686730   +  -15.05       -7.65    2.8\n",
      " 10   -7.852646686730      -15.05       -8.14    1.0\n",
      " 11   -7.852646686730      -15.05       -9.54    2.0\n",
      " 12   -7.852646686730   +    -Inf      -10.08    2.8\n",
      " 13   -7.852646686730   +  -15.05      -10.92    1.2\n",
      " 14   -7.852646686730   +    -Inf      -11.90    2.5\n",
      " 15   -7.852646686730      -15.05      -12.22    1.2\n"
     ]
    }
   ],
   "cell_type": "code",
   "source": [
    "scfres_scf = self_consistent_field(basis; is_converged);"
   ],
   "metadata": {},
   "execution_count": 2
  },
  {
   "cell_type": "markdown",
   "source": [
    "## Potential-based SCF"
   ],
   "metadata": {}
  },
  {
   "outputs": [
    {
     "name": "stdout",
     "output_type": "stream",
     "text": [
      "n     Energy            log10(ΔE)   log10(Δρ)   α      Diag\n",
      "---   ---------------   ---------   ---------   ----   ----\n",
      "  1   -7.846853360730                   -0.70           4.2\n",
      "  2   -7.852526428814       -2.25       -1.62   0.80    5.0\n",
      "  3   -7.852609928822       -4.08       -2.79   0.80    5.2\n",
      "  4   -7.852646573318       -4.44       -3.57   0.80    7.5\n",
      "  5   -7.852646683593       -6.96       -4.55   0.80    9.0\n",
      "  6   -7.852646686679       -8.51       -5.12   0.80   10.8\n",
      "  7   -7.852646686725      -10.34       -6.18   0.80   11.8\n",
      "  8   -7.852646686730      -11.35       -7.21   0.80   13.8\n",
      "  9   -7.852646686730      -13.50       -7.86   0.80   15.5\n",
      " 10   -7.852646686730   +  -14.27       -8.76   0.80   16.2\n",
      " 11   -7.852646686730      -15.05      -10.02   0.80   17.8\n",
      " 12   -7.852646686730   +  -15.05      -10.82   0.80   20.5\n",
      " 13   -7.852646686730      -15.05      -11.24   0.80   22.2\n",
      " 14   -7.852646686730      -14.75      -12.28   0.80   23.0\n"
     ]
    }
   ],
   "cell_type": "code",
   "source": [
    "scfres_scfv = DFTK.scf_potential_mixing(basis; is_converged);"
   ],
   "metadata": {},
   "execution_count": 3
  },
  {
   "cell_type": "markdown",
   "source": [
    "## Direct minimization"
   ],
   "metadata": {}
  },
  {
   "outputs": [
    {
     "name": "stdout",
     "output_type": "stream",
     "text": [
      "Iter     Function value   Gradient norm \n",
      "     0     1.392439e+01     3.308221e+00\n",
      " * time: 0.486102819442749\n",
      "     1     1.658430e+00     2.177491e+00\n",
      " * time: 0.7047569751739502\n",
      "     2    -1.736543e+00     2.082497e+00\n",
      " * time: 0.7290928363800049\n",
      "     3    -3.643498e+00     2.032651e+00\n",
      " * time: 0.7650718688964844\n",
      "     4    -5.316299e+00     1.552365e+00\n",
      " * time: 0.7995760440826416\n",
      "     5    -6.801007e+00     9.814098e-01\n",
      " * time: 0.8370518684387207\n",
      "     6    -6.959589e+00     1.522761e+00\n",
      " * time: 0.8627099990844727\n",
      "     7    -7.406620e+00     1.071996e+00\n",
      " * time: 0.8875949382781982\n",
      "     8    -7.614683e+00     2.977380e-01\n",
      " * time: 0.9240870475769043\n",
      "     9    -7.703597e+00     1.959925e-01\n",
      " * time: 0.947861909866333\n",
      "    10    -7.760399e+00     1.019701e-01\n",
      " * time: 0.9746208190917969\n",
      "    11    -7.812143e+00     1.963673e-01\n",
      " * time: 1.0006158351898193\n",
      "    12    -7.833373e+00     4.727438e-02\n",
      " * time: 1.0276439189910889\n",
      "    13    -7.846697e+00     4.517344e-02\n",
      " * time: 1.0540759563446045\n",
      "    14    -7.850759e+00     1.669285e-02\n",
      " * time: 1.0805578231811523\n",
      "    15    -7.851859e+00     1.028536e-02\n",
      " * time: 1.1057748794555664\n",
      "    16    -7.852364e+00     6.254529e-03\n",
      " * time: 1.129640817642212\n",
      "    17    -7.852561e+00     3.656232e-03\n",
      " * time: 1.1524279117584229\n",
      "    18    -7.852623e+00     2.118859e-03\n",
      " * time: 1.1762440204620361\n",
      "    19    -7.852640e+00     1.226712e-03\n",
      " * time: 1.1983330249786377\n",
      "    20    -7.852644e+00     9.114287e-04\n",
      " * time: 1.2213318347930908\n",
      "    21    -7.852646e+00     5.609303e-04\n",
      " * time: 1.2439990043640137\n",
      "    22    -7.852646e+00     3.608451e-04\n",
      " * time: 1.2678718566894531\n",
      "    23    -7.852646e+00     3.178686e-04\n",
      " * time: 1.2928969860076904\n",
      "    24    -7.852647e+00     1.915523e-04\n",
      " * time: 1.3194849491119385\n",
      "    25    -7.852647e+00     8.762817e-05\n",
      " * time: 1.346724033355713\n",
      "    26    -7.852647e+00     4.125749e-05\n",
      " * time: 1.3741748332977295\n",
      "    27    -7.852647e+00     2.248268e-05\n",
      " * time: 1.4016790390014648\n",
      "    28    -7.852647e+00     1.494995e-05\n",
      " * time: 1.4290928840637207\n",
      "    29    -7.852647e+00     6.498691e-06\n",
      " * time: 1.508570909500122\n",
      "    30    -7.852647e+00     3.098919e-06\n",
      " * time: 1.5352649688720703\n",
      "    31    -7.852647e+00     1.564097e-06\n",
      " * time: 1.5611228942871094\n",
      "    32    -7.852647e+00     1.082434e-06\n",
      " * time: 1.5867218971252441\n",
      "    33    -7.852647e+00     5.957751e-07\n",
      " * time: 1.613637924194336\n",
      "    34    -7.852647e+00     3.702822e-07\n",
      " * time: 1.6395678520202637\n",
      "    35    -7.852647e+00     2.237478e-07\n",
      " * time: 1.6651129722595215\n",
      "    36    -7.852647e+00     1.142502e-07\n",
      " * time: 1.6917648315429688\n",
      "    37    -7.852647e+00     6.104469e-08\n",
      " * time: 1.7189438343048096\n",
      "    38    -7.852647e+00     3.721607e-08\n",
      " * time: 1.7454519271850586\n",
      "    39    -7.852647e+00     2.517105e-08\n",
      " * time: 1.7714269161224365\n",
      "    40    -7.852647e+00     1.384709e-08\n",
      " * time: 1.798149824142456\n",
      "    41    -7.852647e+00     9.391172e-09\n",
      " * time: 1.8254330158233643\n",
      "    42    -7.852647e+00     9.287725e-09\n",
      " * time: 1.8757779598236084\n"
     ]
    }
   ],
   "cell_type": "code",
   "source": [
    "scfres_dm = direct_minimization(basis; tol);"
   ],
   "metadata": {},
   "execution_count": 4
  },
  {
   "cell_type": "markdown",
   "source": [
    "## Newton algorithm"
   ],
   "metadata": {}
  },
  {
   "cell_type": "markdown",
   "source": [
    "Start not too far from the solution to ensure convergence:\n",
    "We run first a very crude SCF to get close and then switch to Newton."
   ],
   "metadata": {}
  },
  {
   "outputs": [
    {
     "name": "stdout",
     "output_type": "stream",
     "text": [
      "n     Energy            log10(ΔE)   log10(Δρ)   Diag\n",
      "---   ---------------   ---------   ---------   ----\n",
      "  1   -7.846838018141                   -0.70    4.2\n",
      "  2   -7.852321380332       -2.26       -1.53    1.0\n"
     ]
    }
   ],
   "cell_type": "code",
   "source": [
    "scfres_start = self_consistent_field(basis; tol=1e-1);"
   ],
   "metadata": {},
   "execution_count": 5
  },
  {
   "cell_type": "markdown",
   "source": [
    "Remove the virtual orbitals (which Newton cannot treat yet)"
   ],
   "metadata": {}
  },
  {
   "outputs": [
    {
     "name": "stdout",
     "output_type": "stream",
     "text": [
      "n     Energy            log10(ΔE)   log10(Δρ)\n",
      "---   ---------------   ---------   ---------\n",
      "  1   -7.852646686706                   -2.54\n",
      "  2   -7.852646686730      -10.62       -5.88\n",
      "  3   -7.852646686730   +  -14.75      -12.56\n"
     ]
    }
   ],
   "cell_type": "code",
   "source": [
    "ψ, _ = DFTK.select_occupied_orbitals(basis, scfres_start.ψ, scfres_start.occupation)\n",
    "scfres_newton = newton(basis, ψ; tol);"
   ],
   "metadata": {},
   "execution_count": 6
  },
  {
   "cell_type": "markdown",
   "source": [
    "## Comparison of results"
   ],
   "metadata": {}
  },
  {
   "outputs": [
    {
     "name": "stdout",
     "output_type": "stream",
     "text": [
      "|ρ_newton - ρ_scf|  = 2.1737076832317915e-13\n",
      "|ρ_newton - ρ_scfv| = 2.172550854523969e-13\n",
      "|ρ_newton - ρ_dm|   = 7.124118521879678e-10\n"
     ]
    }
   ],
   "cell_type": "code",
   "source": [
    "println(\"|ρ_newton - ρ_scf|  = \", norm(scfres_newton.ρ - scfres_scf.ρ))\n",
    "println(\"|ρ_newton - ρ_scfv| = \", norm(scfres_newton.ρ - scfres_scfv.ρ))\n",
    "println(\"|ρ_newton - ρ_dm|   = \", norm(scfres_newton.ρ - scfres_dm.ρ))"
   ],
   "metadata": {},
   "execution_count": 7
  }
 ],
 "nbformat_minor": 3,
 "metadata": {
  "language_info": {
   "file_extension": ".jl",
   "mimetype": "application/julia",
   "name": "julia",
   "version": "1.8.1"
  },
  "kernelspec": {
   "name": "julia-1.8",
   "display_name": "Julia 1.8.1",
   "language": "julia"
  }
 },
 "nbformat": 4
}
