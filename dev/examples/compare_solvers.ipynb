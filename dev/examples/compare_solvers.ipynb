{
 "cells": [
  {
   "cell_type": "markdown",
   "source": [
    "# Comparison of DFT solvers"
   ],
   "metadata": {}
  },
  {
   "cell_type": "markdown",
   "source": [
    "We compare four different approaches for solving the DFT minimisation problem,\n",
    "namely a density-based SCF, a potential-based SCF, direct minimisation and Newton."
   ],
   "metadata": {}
  },
  {
   "cell_type": "markdown",
   "source": [
    "First we setup our problem"
   ],
   "metadata": {}
  },
  {
   "outputs": [],
   "cell_type": "code",
   "source": [
    "using DFTK\n",
    "using LinearAlgebra\n",
    "\n",
    "a = 10.26  # Silicon lattice constant in Bohr\n",
    "lattice = a / 2 * [[0 1 1.];\n",
    "                   [1 0 1.];\n",
    "                   [1 1 0.]]\n",
    "Si = ElementPsp(:Si, psp=load_psp(\"hgh/lda/Si-q4\"))\n",
    "atoms     = [Si, Si]\n",
    "positions = [ones(3)/8, -ones(3)/8]\n",
    "\n",
    "model = model_LDA(lattice, atoms, positions)\n",
    "basis = PlaneWaveBasis(model; Ecut=5, kgrid=[3, 3, 3])\n",
    "\n",
    "# Convergence we desire\n",
    "tol = 1e-12\n",
    "is_converged = DFTK.ScfConvergenceDensity(tol);"
   ],
   "metadata": {},
   "execution_count": 1
  },
  {
   "cell_type": "markdown",
   "source": [
    "## Density-based self-consistent field"
   ],
   "metadata": {}
  },
  {
   "outputs": [
    {
     "name": "stdout",
     "output_type": "stream",
     "text": [
      "n     Energy            log10(ΔE)   log10(Δρ)   Diag\n",
      "---   ---------------   ---------   ---------   ----\n",
      "  1   -7.846823238643                   -0.70    4.8\n",
      "  2   -7.852318991180       -2.26       -1.53    1.0\n",
      "  3   -7.852613293462       -3.53       -2.56    1.5\n",
      "  4   -7.852645914062       -4.49       -2.86    2.8\n",
      "  5   -7.852646447061       -6.27       -3.11    1.0\n",
      "  6   -7.852646678319       -6.64       -4.04    1.0\n",
      "  7   -7.852646686684       -8.08       -5.12    2.0\n",
      "  8   -7.852646686722      -10.41       -5.35    1.8\n",
      "  9   -7.852646686726      -11.40       -5.49    1.0\n",
      " 10   -7.852646686730      -11.48       -6.63    1.0\n",
      " 11   -7.852646686730      -12.98       -6.99    2.2\n",
      " 12   -7.852646686730      -14.21       -7.98    1.2\n",
      " 13   -7.852646686730      -14.75       -8.87    2.0\n",
      " 14   -7.852646686730   +  -15.05       -9.28    2.2\n",
      " 15   -7.852646686730   +  -15.05       -9.77    1.0\n",
      " 16   -7.852646686730      -15.05      -10.33    1.5\n",
      " 17   -7.852646686730   +  -15.05      -10.46    1.5\n",
      " 18   -7.852646686730   +  -15.05      -11.17    1.0\n",
      " 19   -7.852646686730      -15.05      -12.05    1.5\n"
     ]
    }
   ],
   "cell_type": "code",
   "source": [
    "scfres_scf = self_consistent_field(basis; is_converged);"
   ],
   "metadata": {},
   "execution_count": 2
  },
  {
   "cell_type": "markdown",
   "source": [
    "## Potential-based SCF"
   ],
   "metadata": {}
  },
  {
   "outputs": [
    {
     "name": "stdout",
     "output_type": "stream",
     "text": [
      "n     Energy            log10(ΔE)   log10(Δρ)   α      Diag\n",
      "---   ---------------   ---------   ---------   ----   ----\n",
      "  1   -7.846808819591                   -0.70           4.8\n",
      "  2   -7.852528908803       -2.24       -1.63   0.80    2.0\n",
      "  3   -7.852637552428       -3.96       -2.71   0.80    1.0\n",
      "  4   -7.852646424450       -5.05       -3.30   0.80    2.0\n",
      "  5   -7.852646670509       -6.61       -4.13   0.80    1.2\n",
      "  6   -7.852646686500       -7.80       -4.69   0.80    2.5\n",
      "  7   -7.852646686726       -9.65       -5.46   0.80    1.2\n",
      "  8   -7.852646686730      -11.47       -6.67   0.80    1.2\n",
      "  9   -7.852646686730      -12.53       -7.25   0.80    2.8\n",
      " 10   -7.852646686730      -14.35       -8.37   0.80    1.0\n",
      " 11   -7.852646686730   +  -14.45       -8.97   0.80    2.5\n",
      " 12   -7.852646686730   +    -Inf       -9.85   0.80    1.2\n",
      " 13   -7.852646686730      -14.45      -10.76   0.80    2.0\n",
      " 14   -7.852646686730   +    -Inf      -11.17   0.80    2.2\n",
      " 15   -7.852646686730   +  -14.45      -11.79   0.80    1.5\n",
      " 16   -7.852646686730      -14.57      -12.82   0.80    1.5\n"
     ]
    }
   ],
   "cell_type": "code",
   "source": [
    "scfres_scfv = DFTK.scf_potential_mixing(basis; is_converged);"
   ],
   "metadata": {},
   "execution_count": 3
  },
  {
   "cell_type": "markdown",
   "source": [
    "## Direct minimization"
   ],
   "metadata": {}
  },
  {
   "outputs": [
    {
     "name": "stdout",
     "output_type": "stream",
     "text": [
      "Iter     Function value   Gradient norm \n",
      "     0     1.416073e+01     3.535297e+00\n",
      " * time: 0.4308600425720215\n",
      "     1     1.334425e+00     1.837826e+00\n",
      " * time: 0.6270830631256104\n",
      "     2    -1.942905e+00     2.125159e+00\n",
      " * time: 0.6538369655609131\n",
      "     3    -3.503381e+00     1.869401e+00\n",
      " * time: 0.6925251483917236\n",
      "     4    -4.856005e+00     1.664679e+00\n",
      " * time: 0.7308809757232666\n",
      "     5    -6.460664e+00     1.501403e+00\n",
      " * time: 0.7695419788360596\n",
      "     6    -7.336488e+00     6.378862e-01\n",
      " * time: 0.8085031509399414\n",
      "     7    -7.599174e+00     3.643903e-01\n",
      " * time: 0.8354041576385498\n",
      "     8    -7.716497e+00     1.092967e-01\n",
      " * time: 0.8620550632476807\n",
      "     9    -7.766992e+00     2.183636e-01\n",
      " * time: 0.8887979984283447\n",
      "    10    -7.816382e+00     9.304798e-02\n",
      " * time: 0.9153871536254883\n",
      "    11    -7.839249e+00     7.649475e-02\n",
      " * time: 0.9420890808105469\n",
      "    12    -7.846770e+00     4.907009e-02\n",
      " * time: 0.9692130088806152\n",
      "    13    -7.850171e+00     3.751030e-02\n",
      " * time: 0.9959819316864014\n",
      "    14    -7.851593e+00     2.170973e-02\n",
      " * time: 1.022550106048584\n",
      "    15    -7.852204e+00     1.376044e-02\n",
      " * time: 1.0491881370544434\n",
      "    16    -7.852513e+00     6.209701e-03\n",
      " * time: 1.0759000778198242\n",
      "    17    -7.852598e+00     3.840419e-03\n",
      " * time: 1.1025371551513672\n",
      "    18    -7.852625e+00     3.422396e-03\n",
      " * time: 1.129012107849121\n",
      "    19    -7.852639e+00     1.530429e-03\n",
      " * time: 1.1557869911193848\n",
      "    20    -7.852644e+00     9.660927e-04\n",
      " * time: 1.182642936706543\n",
      "    21    -7.852646e+00     6.359894e-04\n",
      " * time: 1.2095680236816406\n",
      "    22    -7.852646e+00     3.282822e-04\n",
      " * time: 1.2360849380493164\n",
      "    23    -7.852647e+00     2.670119e-04\n",
      " * time: 1.2630500793457031\n",
      "    24    -7.852647e+00     1.976838e-04\n",
      " * time: 1.2896220684051514\n",
      "    25    -7.852647e+00     8.608744e-05\n",
      " * time: 1.316622018814087\n",
      "    26    -7.852647e+00     3.860142e-05\n",
      " * time: 1.3431310653686523\n",
      "    27    -7.852647e+00     2.281107e-05\n",
      " * time: 1.3700599670410156\n",
      "    28    -7.852647e+00     1.298776e-05\n",
      " * time: 1.396794080734253\n",
      "    29    -7.852647e+00     8.880319e-06\n",
      " * time: 1.423509120941162\n",
      "    30    -7.852647e+00     4.466337e-06\n",
      " * time: 1.4501399993896484\n",
      "    31    -7.852647e+00     3.515369e-06\n",
      " * time: 1.4771549701690674\n",
      "    32    -7.852647e+00     1.717990e-06\n",
      " * time: 1.503783941268921\n",
      "    33    -7.852647e+00     7.143701e-07\n",
      " * time: 1.5304689407348633\n",
      "    34    -7.852647e+00     4.322062e-07\n",
      " * time: 1.5571000576019287\n",
      "    35    -7.852647e+00     3.411640e-07\n",
      " * time: 1.5839729309082031\n",
      "    36    -7.852647e+00     2.087062e-07\n",
      " * time: 1.663646936416626\n",
      "    37    -7.852647e+00     1.358641e-07\n",
      " * time: 1.6904680728912354\n",
      "    38    -7.852647e+00     6.506971e-08\n",
      " * time: 1.7172131538391113\n",
      "    39    -7.852647e+00     3.817607e-08\n",
      " * time: 1.743821144104004\n",
      "    40    -7.852647e+00     2.734314e-08\n",
      " * time: 1.770766019821167\n",
      "    41    -7.852647e+00     2.401071e-08\n",
      " * time: 1.8097641468048096\n",
      "    42    -7.852647e+00     1.211699e-08\n",
      " * time: 1.836496114730835\n",
      "    43    -7.852647e+00     1.147755e-08\n",
      " * time: 1.8871560096740723\n",
      "    44    -7.852647e+00     7.882096e-09\n",
      " * time: 1.9261889457702637\n"
     ]
    }
   ],
   "cell_type": "code",
   "source": [
    "scfres_dm = direct_minimization(basis; tol);"
   ],
   "metadata": {},
   "execution_count": 4
  },
  {
   "cell_type": "markdown",
   "source": [
    "## Newton algorithm"
   ],
   "metadata": {}
  },
  {
   "cell_type": "markdown",
   "source": [
    "Start not too far from the solution to ensure convergence:\n",
    "We run first a very crude SCF to get close and then switch to Newton."
   ],
   "metadata": {}
  },
  {
   "outputs": [
    {
     "name": "stdout",
     "output_type": "stream",
     "text": [
      "n     Energy            log10(ΔE)   log10(Δρ)   Diag\n",
      "---   ---------------   ---------   ---------   ----\n",
      "  1   -7.846826838344                   -0.70    4.5\n",
      "  2   -7.852317049462       -2.26       -1.53    1.0\n"
     ]
    }
   ],
   "cell_type": "code",
   "source": [
    "scfres_start = self_consistent_field(basis; tol=1e-1);"
   ],
   "metadata": {},
   "execution_count": 5
  },
  {
   "cell_type": "markdown",
   "source": [
    "Remove the virtual orbitals (which Newton cannot treat yet)"
   ],
   "metadata": {}
  },
  {
   "outputs": [
    {
     "name": "stdout",
     "output_type": "stream",
     "text": [
      "n     Energy            log10(ΔE)   log10(Δρ)\n",
      "---   ---------------   ---------   ---------\n",
      "  1   -7.852646686711                   -2.54\n",
      "  2   -7.852646686730      -10.72       -5.98\n",
      "  3   -7.852646686730   +    -Inf      -12.65\n"
     ]
    }
   ],
   "cell_type": "code",
   "source": [
    "ψ = DFTK.select_occupied_orbitals(basis, scfres_start.ψ, scfres_start.occupation).ψ\n",
    "scfres_newton = newton(basis, ψ; tol);"
   ],
   "metadata": {},
   "execution_count": 6
  },
  {
   "cell_type": "markdown",
   "source": [
    "## Comparison of results"
   ],
   "metadata": {}
  },
  {
   "outputs": [
    {
     "name": "stdout",
     "output_type": "stream",
     "text": [
      "|ρ_newton - ρ_scf|  = 1.1214190648982514e-12\n",
      "|ρ_newton - ρ_scfv| = 1.2941715060539776e-12\n",
      "|ρ_newton - ρ_dm|   = 4.681922763150632e-10\n"
     ]
    }
   ],
   "cell_type": "code",
   "source": [
    "println(\"|ρ_newton - ρ_scf|  = \", norm(scfres_newton.ρ - scfres_scf.ρ))\n",
    "println(\"|ρ_newton - ρ_scfv| = \", norm(scfres_newton.ρ - scfres_scfv.ρ))\n",
    "println(\"|ρ_newton - ρ_dm|   = \", norm(scfres_newton.ρ - scfres_dm.ρ))"
   ],
   "metadata": {},
   "execution_count": 7
  }
 ],
 "nbformat_minor": 3,
 "metadata": {
  "language_info": {
   "file_extension": ".jl",
   "mimetype": "application/julia",
   "name": "julia",
   "version": "1.8.3"
  },
  "kernelspec": {
   "name": "julia-1.8",
   "display_name": "Julia 1.8.3",
   "language": "julia"
  }
 },
 "nbformat": 4
}
