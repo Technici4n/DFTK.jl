{
 "cells": [
  {
   "cell_type": "markdown",
   "source": [
    "# Comparison of DFT solvers"
   ],
   "metadata": {}
  },
  {
   "cell_type": "markdown",
   "source": [
    "We compare four different approaches for solving the DFT minimisation problem,\n",
    "namely a density-based SCF, a potential-based SCF, direct minimisation and Newton."
   ],
   "metadata": {}
  },
  {
   "cell_type": "markdown",
   "source": [
    "First we setup our problem"
   ],
   "metadata": {}
  },
  {
   "outputs": [
    {
     "output_type": "execute_result",
     "data": {
      "text/plain": "1.0e-6"
     },
     "metadata": {},
     "execution_count": 1
    }
   ],
   "cell_type": "code",
   "source": [
    "using DFTK\n",
    "using LinearAlgebra\n",
    "\n",
    "a = 10.26  # Silicon lattice constant in Bohr\n",
    "lattice = a / 2 * [[0 1 1.];\n",
    "                   [1 0 1.];\n",
    "                   [1 1 0.]]\n",
    "Si = ElementPsp(:Si, psp=load_psp(\"hgh/lda/Si-q4\"))\n",
    "atoms     = [Si, Si]\n",
    "positions = [ones(3)/8, -ones(3)/8]\n",
    "\n",
    "model = model_LDA(lattice, atoms, positions)\n",
    "basis = PlaneWaveBasis(model; Ecut=5, kgrid=[3, 3, 3])\n",
    "\n",
    "# Convergence we desire in the density\n",
    "tol = 1e-6"
   ],
   "metadata": {},
   "execution_count": 1
  },
  {
   "cell_type": "markdown",
   "source": [
    "## Density-based self-consistent field"
   ],
   "metadata": {}
  },
  {
   "outputs": [
    {
     "name": "stdout",
     "output_type": "stream",
     "text": [
      "n     Energy            log10(ΔE)   log10(Δρ)   Diag   Δtime\n",
      "---   ---------------   ---------   ---------   ----   ------\n",
      "  1   -7.846834301281                   -0.70    4.8         \n",
      "  2   -7.852325109331       -2.26       -1.53    1.0   25.4ms\n",
      "  3   -7.852615603433       -3.54       -2.55    1.5   26.2ms\n",
      "  4   -7.852645935908       -4.52       -2.88    2.5   32.8ms\n",
      "  5   -7.852646508573       -6.24       -3.20    1.0   25.0ms\n",
      "  6   -7.852646679021       -6.77       -4.07    1.0   24.8ms\n",
      "  7   -7.852646686673       -8.12       -5.03    2.0   30.9ms\n",
      "  8   -7.852646686726      -10.27       -5.50    2.0   29.8ms\n",
      "  9   -7.852646686728      -11.73       -5.57    1.2   27.6ms\n",
      " 10   -7.852646686730      -11.69       -6.71    1.0   24.8ms\n"
     ]
    }
   ],
   "cell_type": "code",
   "source": [
    "scfres_scf = self_consistent_field(basis; tol);"
   ],
   "metadata": {},
   "execution_count": 2
  },
  {
   "cell_type": "markdown",
   "source": [
    "## Potential-based SCF"
   ],
   "metadata": {}
  },
  {
   "outputs": [
    {
     "name": "stdout",
     "output_type": "stream",
     "text": [
      "n     Energy            log10(ΔE)   log10(Δρ)   α      Diag   Δtime\n",
      "---   ---------------   ---------   ---------   ----   ----   ------\n",
      "  1   -7.846851088952                   -0.70           4.8         \n",
      "  2   -7.852528386353       -2.25       -1.63   0.80    2.0    261ms\n",
      "  3   -7.852636798830       -3.96       -2.71   0.80    1.0   22.2ms\n",
      "  4   -7.852646514813       -5.01       -3.31   0.80    2.2   29.3ms\n",
      "  5   -7.852646682472       -6.78       -4.17   0.80    1.2   23.9ms\n",
      "  6   -7.852646686569       -8.39       -4.86   0.80    1.5   25.8ms\n",
      "  7   -7.852646686723       -9.81       -5.79   0.80    1.8   25.8ms\n",
      "  8   -7.852646686730      -11.16       -6.56   0.80    2.0   27.0ms\n"
     ]
    }
   ],
   "cell_type": "code",
   "source": [
    "scfres_scfv = DFTK.scf_potential_mixing(basis; tol);"
   ],
   "metadata": {},
   "execution_count": 3
  },
  {
   "cell_type": "markdown",
   "source": [
    "## Direct minimization\n",
    "Note: Unlike the other algorithms, tolerance for this one is in the energy,\n",
    "thus we square the density tolerance value to be roughly equivalent."
   ],
   "metadata": {}
  },
  {
   "outputs": [
    {
     "name": "stdout",
     "output_type": "stream",
     "text": [
      "Iter     Function value   Gradient norm \n",
      "     0     1.394532e+01     3.720513e+00\n",
      " * time: 0.433380126953125\n",
      "     1     1.179567e+00     1.927170e+00\n",
      " * time: 0.6305720806121826\n",
      "     2    -1.695303e+00     2.185482e+00\n",
      " * time: 0.6552009582519531\n",
      "     3    -3.652797e+00     2.011982e+00\n",
      " * time: 0.6907980442047119\n",
      "     4    -4.980350e+00     1.790057e+00\n",
      " * time: 0.7261781692504883\n",
      "     5    -6.660491e+00     1.206623e+00\n",
      " * time: 0.8539531230926514\n",
      "     6    -7.381854e+00     7.494675e-01\n",
      " * time: 0.8891491889953613\n",
      "     7    -7.578717e+00     7.752291e-01\n",
      " * time: 0.9134869575500488\n",
      "     8    -7.743448e+00     2.944023e-01\n",
      " * time: 0.9380171298980713\n",
      "     9    -7.800016e+00     8.032626e-02\n",
      " * time: 0.9626071453094482\n",
      "    10    -7.824661e+00     6.420450e-02\n",
      " * time: 0.9872310161590576\n",
      "    11    -7.836061e+00     9.565533e-02\n",
      " * time: 1.0118730068206787\n",
      "    12    -7.844577e+00     4.615342e-02\n",
      " * time: 1.0364091396331787\n",
      "    13    -7.847503e+00     4.513701e-02\n",
      " * time: 1.0606989860534668\n",
      "    14    -7.849110e+00     3.881319e-02\n",
      " * time: 1.0853040218353271\n",
      "    15    -7.850909e+00     1.696339e-02\n",
      " * time: 1.109868049621582\n",
      "    16    -7.851938e+00     1.891872e-02\n",
      " * time: 1.1344990730285645\n",
      "    17    -7.852422e+00     7.600143e-03\n",
      " * time: 1.1591341495513916\n",
      "    18    -7.852571e+00     5.984780e-03\n",
      " * time: 1.1840381622314453\n",
      "    19    -7.852617e+00     2.534071e-03\n",
      " * time: 1.2083501815795898\n",
      "    20    -7.852636e+00     1.879848e-03\n",
      " * time: 1.2330169677734375\n",
      "    21    -7.852642e+00     1.654765e-03\n",
      " * time: 1.2574951648712158\n",
      "    22    -7.852645e+00     9.859059e-04\n",
      " * time: 1.2828919887542725\n",
      "    23    -7.852646e+00     5.786291e-04\n",
      " * time: 1.3074071407318115\n",
      "    24    -7.852647e+00     4.348644e-04\n",
      " * time: 1.3319900035858154\n",
      "    25    -7.852647e+00     1.497076e-04\n",
      " * time: 1.3566341400146484\n",
      "    26    -7.852647e+00     7.706272e-05\n",
      " * time: 1.3809831142425537\n",
      "    27    -7.852647e+00     4.421488e-05\n",
      " * time: 1.4052820205688477\n",
      "    28    -7.852647e+00     2.489404e-05\n",
      " * time: 1.429569959640503\n",
      "    29    -7.852647e+00     1.321279e-05\n",
      " * time: 1.453705072402954\n",
      "    30    -7.852647e+00     6.678922e-06\n",
      " * time: 1.4784510135650635\n",
      "    31    -7.852647e+00     5.258395e-06\n",
      " * time: 1.5028760433197021\n",
      "    32    -7.852647e+00     2.859450e-06\n",
      " * time: 1.5272960662841797\n",
      "    33    -7.852647e+00     2.194374e-06\n",
      " * time: 1.5518980026245117\n",
      "    34    -7.852647e+00     9.501656e-07\n",
      " * time: 1.5765650272369385\n",
      "    35    -7.852647e+00     6.673191e-07\n",
      " * time: 1.6008579730987549\n",
      "    36    -7.852647e+00     5.627949e-07\n",
      " * time: 1.6252760887145996\n",
      "    37    -7.852647e+00     3.180224e-07\n",
      " * time: 1.6495170593261719\n",
      "    38    -7.852647e+00     2.060496e-07\n",
      " * time: 1.6739189624786377\n",
      "    39    -7.852647e+00     1.213824e-07\n",
      " * time: 1.6985960006713867\n",
      "    40    -7.852647e+00     6.169133e-08\n",
      " * time: 1.7230491638183594\n",
      "    41    -7.852647e+00     4.033348e-08\n",
      " * time: 1.7476661205291748\n",
      "    42    -7.852647e+00     2.495907e-08\n",
      " * time: 1.7719471454620361\n",
      "    43    -7.852647e+00     1.579065e-08\n",
      " * time: 1.7962000370025635\n",
      "    44    -7.852647e+00     1.270036e-08\n",
      " * time: 1.8213050365447998\n",
      "    45    -7.852647e+00     6.295906e-09\n",
      " * time: 1.8457720279693604\n",
      "    46    -7.852647e+00     3.066605e-09\n",
      " * time: 1.8701729774475098\n"
     ]
    }
   ],
   "cell_type": "code",
   "source": [
    "scfres_dm = direct_minimization(basis; tol=tol^2);"
   ],
   "metadata": {},
   "execution_count": 4
  },
  {
   "cell_type": "markdown",
   "source": [
    "## Newton algorithm"
   ],
   "metadata": {}
  },
  {
   "cell_type": "markdown",
   "source": [
    "Start not too far from the solution to ensure convergence:\n",
    "We run first a very crude SCF to get close and then switch to Newton."
   ],
   "metadata": {}
  },
  {
   "outputs": [
    {
     "name": "stdout",
     "output_type": "stream",
     "text": [
      "n     Energy            log10(ΔE)   log10(Δρ)   Diag   Δtime\n",
      "---   ---------------   ---------   ---------   ----   ------\n",
      "  1   -7.846786948753                   -0.70    4.5         \n"
     ]
    }
   ],
   "cell_type": "code",
   "source": [
    "scfres_start = self_consistent_field(basis; tol=0.5);"
   ],
   "metadata": {},
   "execution_count": 5
  },
  {
   "cell_type": "markdown",
   "source": [
    "Remove the virtual orbitals (which Newton cannot treat yet)"
   ],
   "metadata": {}
  },
  {
   "outputs": [
    {
     "name": "stdout",
     "output_type": "stream",
     "text": [
      "n     Energy            log10(ΔE)   log10(Δρ)   Δtime\n",
      "---   ---------------   ---------   ---------   ------\n",
      "  1   -7.852645900895                   -1.64         \n",
      "  2   -7.852646686730       -6.10       -3.71    1.49s\n",
      "  3   -7.852646686730      -13.27       -7.24    149ms\n"
     ]
    }
   ],
   "cell_type": "code",
   "source": [
    "ψ = DFTK.select_occupied_orbitals(basis, scfres_start.ψ, scfres_start.occupation).ψ\n",
    "scfres_newton = newton(basis, ψ; tol);"
   ],
   "metadata": {},
   "execution_count": 6
  },
  {
   "cell_type": "markdown",
   "source": [
    "## Comparison of results"
   ],
   "metadata": {}
  },
  {
   "outputs": [
    {
     "name": "stdout",
     "output_type": "stream",
     "text": [
      "|ρ_newton - ρ_scf|  = 2.8544369429516827e-7\n",
      "|ρ_newton - ρ_scfv| = 1.291980279561536e-7\n",
      "|ρ_newton - ρ_dm|   = 4.544984996665822e-10\n"
     ]
    }
   ],
   "cell_type": "code",
   "source": [
    "println(\"|ρ_newton - ρ_scf|  = \", norm(scfres_newton.ρ - scfres_scf.ρ))\n",
    "println(\"|ρ_newton - ρ_scfv| = \", norm(scfres_newton.ρ - scfres_scfv.ρ))\n",
    "println(\"|ρ_newton - ρ_dm|   = \", norm(scfres_newton.ρ - scfres_dm.ρ))"
   ],
   "metadata": {},
   "execution_count": 7
  }
 ],
 "nbformat_minor": 3,
 "metadata": {
  "language_info": {
   "file_extension": ".jl",
   "mimetype": "application/julia",
   "name": "julia",
   "version": "1.8.4"
  },
  "kernelspec": {
   "name": "julia-1.8",
   "display_name": "Julia 1.8.4",
   "language": "julia"
  }
 },
 "nbformat": 4
}
