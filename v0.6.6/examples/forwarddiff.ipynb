{
 "cells": [
  {
   "cell_type": "markdown",
   "source": [
    "# Polarizability using automatic differentiation\n",
    "\n",
    "Simple example for computing properties using (forward-mode)\n",
    "automatic differentiation.\n",
    "For a more classical approach and more details about computing polarizabilities,\n",
    "see Polarizability by linear response."
   ],
   "metadata": {}
  },
  {
   "outputs": [],
   "cell_type": "code",
   "source": [
    "using DFTK\n",
    "using LinearAlgebra\n",
    "using ForwardDiff\n",
    "\n",
    "# Construct PlaneWaveBasis given a particular electric field strength\n",
    "# Again we take the example of a Helium atom.\n",
    "function make_basis(ε::T; a=10., Ecut=30) where {T}\n",
    "    lattice=T(a) * I(3)  # lattice is a cube of $a$ Bohrs\n",
    "    # Helium at the center of the box\n",
    "    atoms     = [ElementPsp(:He, psp=load_psp(\"hgh/lda/He-q2\"))]\n",
    "    positions = [[1/2, 1/2, 1/2]]\n",
    "\n",
    "    model = model_DFT(lattice, atoms, positions, [:lda_x, :lda_c_vwn];\n",
    "                      extra_terms=[ExternalFromReal(r -> -ε * (r[1] - a/2))],\n",
    "                      symmetries=false)\n",
    "    PlaneWaveBasis(model; Ecut, kgrid=[1, 1, 1])  # No k-point sampling on isolated system\n",
    "end\n",
    "\n",
    "# dipole moment of a given density (assuming the current geometry)\n",
    "function dipole(basis, ρ)\n",
    "    @assert isdiag(basis.model.lattice)\n",
    "    a  = basis.model.lattice[1, 1]\n",
    "    rr = [a * (r[1] - 1/2) for r in r_vectors(basis)]\n",
    "    sum(rr .* ρ) * basis.dvol\n",
    "end\n",
    "\n",
    "# Function to compute the dipole for a given field strength\n",
    "function compute_dipole(ε; tol=1e-8, kwargs...)\n",
    "    scfres = self_consistent_field(make_basis(ε; kwargs...); tol)\n",
    "    dipole(scfres.basis, scfres.ρ)\n",
    "end;"
   ],
   "metadata": {},
   "execution_count": 1
  },
  {
   "cell_type": "markdown",
   "source": [
    "With this in place we can compute the polarizability from finite differences\n",
    "(just like in the previous example):"
   ],
   "metadata": {}
  },
  {
   "outputs": [
    {
     "name": "stdout",
     "output_type": "stream",
     "text": [
      "n     Energy            log10(ΔE)   log10(Δρ)   Diag   Δtime\n",
      "---   ---------------   ---------   ---------   ----   ------\n",
      "  1   -2.770837738619                   -0.52    8.0         \n",
      "  2   -2.772140662512       -2.89       -1.32    1.0    173ms\n",
      "  3   -2.772170163249       -4.53       -2.52    1.0    132ms\n",
      "  4   -2.772170649074       -6.31       -3.31    1.0    172ms\n",
      "  5   -2.772170721904       -7.14       -3.98    2.0    170ms\n",
      "  6   -2.772170722979       -8.97       -4.84    1.0    138ms\n",
      "  7   -2.772170723013      -10.46       -5.50    1.0    158ms\n",
      "  8   -2.772170723015      -11.76       -6.51    2.0    159ms\n",
      "  9   -2.772170723015      -13.91       -7.35    1.0    149ms\n",
      " 10   -2.772170723015   +  -14.45       -7.49    2.0    179ms\n",
      " 11   -2.772170723015      -13.85       -7.81    1.0    151ms\n",
      " 12   -2.772170723015   +  -14.01       -8.79    1.0    162ms\n",
      "n     Energy            log10(ΔE)   log10(Δρ)   Diag   Δtime\n",
      "---   ---------------   ---------   ---------   ----   ------\n",
      "  1   -2.770704167781                   -0.53    9.0         \n",
      "  2   -2.772054133885       -2.87       -1.30    1.0    156ms\n",
      "  3   -2.772083019360       -4.54       -2.63    1.0    132ms\n",
      "  4   -2.772083399968       -6.42       -4.11    1.0    133ms\n",
      "  5   -2.772083417743       -7.75       -4.62    2.0    172ms\n",
      "  6   -2.772083417807      -10.19       -5.77    1.0    159ms\n",
      "  7   -2.772083417810      -11.43       -5.86    2.0    156ms\n",
      "  8   -2.772083417811      -12.62       -6.81    1.0    156ms\n",
      "  9   -2.772083417811      -13.92       -7.69    2.0    167ms\n",
      " 10   -2.772083417811   +  -14.03       -7.62    1.0    149ms\n",
      " 11   -2.772083417811   +    -Inf       -9.06    1.0    159ms\n"
     ]
    },
    {
     "output_type": "execute_result",
     "data": {
      "text/plain": "1.773558058013584"
     },
     "metadata": {},
     "execution_count": 2
    }
   ],
   "cell_type": "code",
   "source": [
    "polarizability_fd = let\n",
    "    ε = 0.01\n",
    "    (compute_dipole(ε) - compute_dipole(0.0)) / ε\n",
    "end"
   ],
   "metadata": {},
   "execution_count": 2
  },
  {
   "cell_type": "markdown",
   "source": [
    "We do the same thing using automatic differentiation. Under the hood this uses\n",
    "custom rules to implicitly differentiate through the self-consistent\n",
    "field fixed-point problem."
   ],
   "metadata": {}
  },
  {
   "outputs": [
    {
     "name": "stdout",
     "output_type": "stream",
     "text": [
      "n     Energy            log10(ΔE)   log10(Δρ)   Diag   Δtime\n",
      "---   ---------------   ---------   ---------   ----   ------\n",
      "  1   -2.770798247458                   -0.53    9.0         \n",
      "  2   -2.772055365593       -2.90       -1.32    1.0    177ms\n",
      "  3   -2.772083128111       -4.56       -2.55    1.0    177ms\n",
      "  4   -2.772083387321       -6.59       -3.56    1.0    180ms\n",
      "  5   -2.772083415804       -7.55       -3.89    2.0    490ms\n",
      "  6   -2.772083417725       -8.72       -4.83    1.0    141ms\n",
      "  7   -2.772083417810      -10.07       -5.54    2.0    159ms\n",
      "  8   -2.772083417811      -12.11       -5.94    2.0    177ms\n",
      "  9   -2.772083417811      -13.54       -6.68    1.0    157ms\n",
      " 10   -2.772083417811   +  -14.18       -7.18    1.0    149ms\n",
      " 11   -2.772083417811      -13.73       -7.61    2.0    170ms\n",
      " 12   -2.772083417811   +  -14.51       -7.95    1.0    152ms\n",
      " 13   -2.772083417811   +  -13.75       -8.60    1.0    153ms\n",
      "\n",
      "Polarizability via ForwardDiff:       1.7725349657106593\n",
      "Polarizability via finite difference: 1.773558058013584\n"
     ]
    }
   ],
   "cell_type": "code",
   "source": [
    "polarizability = ForwardDiff.derivative(compute_dipole, 0.0)\n",
    "println()\n",
    "println(\"Polarizability via ForwardDiff:       $polarizability\")\n",
    "println(\"Polarizability via finite difference: $polarizability_fd\")"
   ],
   "metadata": {},
   "execution_count": 3
  }
 ],
 "nbformat_minor": 3,
 "metadata": {
  "language_info": {
   "file_extension": ".jl",
   "mimetype": "application/julia",
   "name": "julia",
   "version": "1.8.5"
  },
  "kernelspec": {
   "name": "julia-1.8",
   "display_name": "Julia 1.8.5",
   "language": "julia"
  }
 },
 "nbformat": 4
}
