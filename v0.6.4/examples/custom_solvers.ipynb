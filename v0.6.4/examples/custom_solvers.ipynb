{
 "cells": [
  {
   "cell_type": "markdown",
   "source": [
    "# Custom solvers\n",
    "In this example, we show how to define custom solvers. Our system\n",
    "will again be silicon, because we are not very imaginative"
   ],
   "metadata": {}
  },
  {
   "outputs": [],
   "cell_type": "code",
   "source": [
    "using DFTK, LinearAlgebra\n",
    "\n",
    "a = 10.26\n",
    "lattice = a / 2 * [[0 1 1.];\n",
    "                   [1 0 1.];\n",
    "                   [1 1 0.]]\n",
    "Si = ElementPsp(:Si, psp=load_psp(\"hgh/lda/Si-q4\"))\n",
    "atoms = [Si, Si]\n",
    "positions =  [ones(3)/8, -ones(3)/8]\n",
    "\n",
    "# We take very (very) crude parameters\n",
    "model = model_LDA(lattice, atoms, positions)\n",
    "basis = PlaneWaveBasis(model; Ecut=5, kgrid=[1, 1, 1]);"
   ],
   "metadata": {},
   "execution_count": 1
  },
  {
   "cell_type": "markdown",
   "source": [
    "We define our custom fix-point solver: simply a damped fixed-point"
   ],
   "metadata": {}
  },
  {
   "outputs": [],
   "cell_type": "code",
   "source": [
    "function my_fp_solver(f, x0, max_iter; tol)\n",
    "    mixing_factor = .7\n",
    "    x = x0\n",
    "    fx = f(x)\n",
    "    for n = 1:max_iter\n",
    "        inc = fx - x\n",
    "        if norm(inc) < tol\n",
    "            break\n",
    "        end\n",
    "        x = x + mixing_factor * inc\n",
    "        fx = f(x)\n",
    "    end\n",
    "    (fixpoint=x, converged=norm(fx-x) < tol)\n",
    "end;"
   ],
   "metadata": {},
   "execution_count": 2
  },
  {
   "cell_type": "markdown",
   "source": [
    "Our eigenvalue solver just forms the dense matrix and diagonalizes\n",
    "it explicitly (this only works for very small systems)"
   ],
   "metadata": {}
  },
  {
   "outputs": [],
   "cell_type": "code",
   "source": [
    "function my_eig_solver(A, X0; maxiter, tol, kwargs...)\n",
    "    n = size(X0, 2)\n",
    "    A = Array(A)\n",
    "    E = eigen(A)\n",
    "    λ = E.values[1:n]\n",
    "    X = E.vectors[:, 1:n]\n",
    "    (; λ, X, residual_norms=[], iterations=0, converged=true, n_matvec=0)\n",
    "end;"
   ],
   "metadata": {},
   "execution_count": 3
  },
  {
   "cell_type": "markdown",
   "source": [
    "Finally we also define our custom mixing scheme. It will be a mixture\n",
    "of simple mixing (for the first 2 steps) and than default to Kerker mixing.\n",
    "In the mixing interface `δF` is $(ρ_\\text{out} - ρ_\\text{in})$, i.e.\n",
    "the difference in density between two subsequent SCF steps and the `mix`\n",
    "function returns $δρ$, which is added to $ρ_\\text{in}$ to yield $ρ_\\text{next}$,\n",
    "the density for the next SCF step."
   ],
   "metadata": {}
  },
  {
   "outputs": [],
   "cell_type": "code",
   "source": [
    "struct MyMixing\n",
    "    n_simple  # Number of iterations for simple mixing\n",
    "end\n",
    "MyMixing() = MyMixing(2)\n",
    "\n",
    "function DFTK.mix_density(mixing::MyMixing, basis, δF; n_iter, kwargs...)\n",
    "    if n_iter <= mixing.n_simple\n",
    "        return δF  # Simple mixing -> Do not modify update at all\n",
    "    else\n",
    "        # Use the default KerkerMixing from DFTK\n",
    "        DFTK.mix_density(KerkerMixing(), basis, δF; kwargs...)\n",
    "    end\n",
    "end"
   ],
   "metadata": {},
   "execution_count": 4
  },
  {
   "cell_type": "markdown",
   "source": [
    "That's it! Now we just run the SCF with these solvers"
   ],
   "metadata": {}
  },
  {
   "outputs": [
    {
     "name": "stdout",
     "output_type": "stream",
     "text": [
      "n     Energy            log10(ΔE)   log10(Δρ)   Diag   Δtime\n",
      "---   ---------------   ---------   ---------   ----   ------\n",
      "  1   -7.231541177875                   -0.48    0.0         \n",
      "  2   -7.249024317152       -1.76       -0.89    0.0    637ms\n",
      "  3   -7.251138393957       -2.67       -1.31    0.0   84.4ms\n",
      "  4   -7.251287720328       -3.83       -1.62    0.0   84.8ms\n",
      "  5   -7.251325440039       -4.42       -1.92    0.0   87.9ms\n",
      "  6   -7.251335154306       -5.01       -2.22    0.0    209ms\n",
      "  7   -7.251337753935       -5.59       -2.51    0.0   84.1ms\n",
      "  8   -7.251338483911       -6.14       -2.79    0.0   85.3ms\n",
      "  9   -7.251338699518       -6.67       -3.06    0.0   85.1ms\n",
      " 10   -7.251338766276       -7.18       -3.33    0.0   84.9ms\n",
      " 11   -7.251338787794       -7.67       -3.59    0.0   85.1ms\n",
      " 12   -7.251338794955       -8.15       -3.84    0.0   90.4ms\n",
      " 13   -7.251338797396       -8.61       -4.09    0.0    219ms\n",
      " 14   -7.251338798243       -9.07       -4.33    0.0   81.3ms\n",
      " 15   -7.251338798541       -9.53       -4.56    0.0   84.0ms\n",
      " 16   -7.251338798646       -9.98       -4.80    0.0   83.6ms\n",
      " 17   -7.251338798684      -10.43       -5.03    0.0   85.6ms\n",
      " 18   -7.251338798697      -10.87       -5.26    0.0   84.8ms\n",
      " 19   -7.251338798702      -11.32       -5.48    0.0   88.2ms\n",
      " 20   -7.251338798704      -11.76       -5.71    0.0   90.9ms\n",
      " 21   -7.251338798704      -12.21       -5.93    0.0    211ms\n",
      " 22   -7.251338798704      -12.65       -6.16    0.0   85.3ms\n",
      " 23   -7.251338798704      -13.07       -6.38    0.0   85.2ms\n",
      " 24   -7.251338798705      -13.60       -6.60    0.0   85.6ms\n",
      " 25   -7.251338798705      -13.88       -6.82    0.0   85.2ms\n",
      " 26   -7.251338798705   +  -14.75       -7.02    0.0   84.2ms\n",
      " 27   -7.251338798705      -14.27       -7.23    0.0   90.4ms\n",
      " 28   -7.251338798705   +  -14.75       -7.34    0.0    201ms\n",
      " 29   -7.251338798705      -15.05       -7.54    0.0   84.4ms\n",
      " 30   -7.251338798705   +  -14.75       -7.35    0.0   85.3ms\n",
      " 31   -7.251338798705      -14.45       -7.57    0.0   84.1ms\n",
      " 32   -7.251338798705      -14.75       -7.83    0.0   85.1ms\n",
      " 33   -7.251338798705   +  -14.75       -7.64    0.0   84.3ms\n",
      " 34   -7.251338798705   +  -14.75       -7.73    0.0   90.1ms\n",
      " 35   -7.251338798705      -14.45       -7.64    0.0   88.6ms\n",
      " 36   -7.251338798705   +  -14.45       -7.48    0.0    190ms\n",
      " 37   -7.251338798705      -14.75       -7.67    0.0   81.5ms\n",
      " 38   -7.251338798705   +    -Inf       -7.93    0.0   85.1ms\n",
      " 39   -7.251338798705   +    -Inf       -7.78    0.0   82.9ms\n",
      " 40   -7.251338798705   +  -14.75       -7.52    0.0   84.7ms\n",
      " 41   -7.251338798705   +    -Inf       -7.78    0.0   85.9ms\n",
      " 42   -7.251338798705      -14.45       -7.60    0.0   91.4ms\n",
      " 43   -7.251338798705   +    -Inf       -7.69    0.0    197ms\n",
      " 44   -7.251338798705   +    -Inf       -8.01    0.0   83.6ms\n"
     ]
    }
   ],
   "cell_type": "code",
   "source": [
    "scfres = self_consistent_field(basis;\n",
    "                               tol=1e-8,\n",
    "                               solver=my_fp_solver,\n",
    "                               eigensolver=my_eig_solver,\n",
    "                               mixing=MyMixing());"
   ],
   "metadata": {},
   "execution_count": 5
  },
  {
   "cell_type": "markdown",
   "source": [
    "Note that the default convergence criterion is the difference in\n",
    "density. When this gets below `tol`, the\n",
    "\"driver\" `self_consistent_field` artificially makes the fixed-point\n",
    "solver think it's converged by forcing `f(x) = x`. You can customize\n",
    "this with the `is_converged` keyword argument to\n",
    "`self_consistent_field`."
   ],
   "metadata": {}
  }
 ],
 "nbformat_minor": 3,
 "metadata": {
  "language_info": {
   "file_extension": ".jl",
   "mimetype": "application/julia",
   "name": "julia",
   "version": "1.8.5"
  },
  "kernelspec": {
   "name": "julia-1.8",
   "display_name": "Julia 1.8.5",
   "language": "julia"
  }
 },
 "nbformat": 4
}
