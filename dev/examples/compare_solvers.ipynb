{
 "cells": [
  {
   "cell_type": "markdown",
   "source": [
    "# Comparison of DFT solvers"
   ],
   "metadata": {}
  },
  {
   "cell_type": "markdown",
   "source": [
    "We compare four different approaches for solving the DFT minimisation problem,\n",
    "namely a density-based SCF, a potential-based SCF, direct minimisation and Newton."
   ],
   "metadata": {}
  },
  {
   "cell_type": "markdown",
   "source": [
    "First we setup our problem"
   ],
   "metadata": {}
  },
  {
   "outputs": [
    {
     "output_type": "execute_result",
     "data": {
      "text/plain": "1.0e-6"
     },
     "metadata": {},
     "execution_count": 1
    }
   ],
   "cell_type": "code",
   "source": [
    "using DFTK\n",
    "using LinearAlgebra\n",
    "\n",
    "a = 10.26  # Silicon lattice constant in Bohr\n",
    "lattice = a / 2 * [[0 1 1.];\n",
    "                   [1 0 1.];\n",
    "                   [1 1 0.]]\n",
    "Si = ElementPsp(:Si, psp=load_psp(\"hgh/lda/Si-q4\"))\n",
    "atoms     = [Si, Si]\n",
    "positions = [ones(3)/8, -ones(3)/8]\n",
    "\n",
    "model = model_LDA(lattice, atoms, positions)\n",
    "basis = PlaneWaveBasis(model; Ecut=5, kgrid=[3, 3, 3])\n",
    "\n",
    "# Convergence we desire in the density\n",
    "tol = 1e-6"
   ],
   "metadata": {},
   "execution_count": 1
  },
  {
   "cell_type": "markdown",
   "source": [
    "## Density-based self-consistent field"
   ],
   "metadata": {}
  },
  {
   "outputs": [
    {
     "name": "stdout",
     "output_type": "stream",
     "text": [
      "n     Energy            log10(ΔE)   log10(Δρ)   Diag   Δtime\n",
      "---   ---------------   ---------   ---------   ----   ------\n",
      "  1   -7.846880190857                   -0.70    4.8         \n",
      "  2   -7.852332210639       -2.26       -1.53    1.0   23.8ms\n",
      "  3   -7.852615323113       -3.55       -2.56    1.2   23.7ms\n",
      "  4   -7.852645994914       -4.51       -2.90    2.5   31.8ms\n",
      "  5   -7.852646508763       -6.29       -3.19    1.2   24.4ms\n",
      "  6   -7.852646679972       -6.77       -4.19    1.0   23.2ms\n",
      "  7   -7.852646686681       -8.17       -4.98    2.2   31.6ms\n",
      "  8   -7.852646686726      -10.35       -5.51    1.5   25.9ms\n",
      "  9   -7.852646686728      -11.62       -5.63    1.2   25.2ms\n",
      " 10   -7.852646686730      -11.79       -6.77    1.0   23.3ms\n"
     ]
    }
   ],
   "cell_type": "code",
   "source": [
    "scfres_scf = self_consistent_field(basis; tol);"
   ],
   "metadata": {},
   "execution_count": 2
  },
  {
   "cell_type": "markdown",
   "source": [
    "## Potential-based SCF"
   ],
   "metadata": {}
  },
  {
   "outputs": [
    {
     "name": "stdout",
     "output_type": "stream",
     "text": [
      "n     Energy            log10(ΔE)   log10(Δρ)   α      Diag   Δtime\n",
      "---   ---------------   ---------   ---------   ----   ----   ------\n",
      "  1   -7.846966699294                   -0.71           4.8         \n",
      "  2   -7.852555868404       -2.25       -1.64   0.80    2.0    252ms\n",
      "  3   -7.852639757291       -4.08       -2.74   0.80    1.0   21.5ms\n",
      "  4   -7.852646464313       -5.17       -3.38   0.80    1.8   25.8ms\n",
      "  5   -7.852646680339       -6.67       -4.26   0.80    2.0   26.6ms\n",
      "  6   -7.852646686607       -8.20       -4.81   0.80    2.0   27.0ms\n",
      "  7   -7.852646686724       -9.93       -5.73   0.80    1.2   23.5ms\n",
      "  8   -7.852646686730      -11.24       -6.58   0.80    1.8   26.5ms\n"
     ]
    }
   ],
   "cell_type": "code",
   "source": [
    "scfres_scfv = DFTK.scf_potential_mixing(basis; tol);"
   ],
   "metadata": {},
   "execution_count": 3
  },
  {
   "cell_type": "markdown",
   "source": [
    "## Direct minimization\n",
    "Note: Unlike the other algorithms, tolerance for this one is in the energy,\n",
    "thus we square the density tolerance value to be roughly equivalent."
   ],
   "metadata": {}
  },
  {
   "outputs": [
    {
     "name": "stdout",
     "output_type": "stream",
     "text": [
      "Iter     Function value   Gradient norm \n",
      "     0     1.390188e+01     3.324201e+00\n",
      " * time: 0.0574190616607666\n",
      "     1     1.148487e+00     2.016294e+00\n",
      " * time: 0.2752950191497803\n",
      "     2    -1.464758e+00     2.430612e+00\n",
      " * time: 0.2980780601501465\n",
      "     3    -3.920534e+00     1.829291e+00\n",
      " * time: 0.330625057220459\n",
      "     4    -5.233562e+00     1.591761e+00\n",
      " * time: 0.3632080554962158\n",
      "     5    -6.815873e+00     1.216918e+00\n",
      " * time: 0.3963179588317871\n",
      "     6    -6.910347e+00     1.588131e+00\n",
      " * time: 0.41937804222106934\n",
      "     7    -7.389688e+00     1.362844e+00\n",
      " * time: 0.44258785247802734\n",
      "     8    -7.644655e+00     8.061368e-01\n",
      " * time: 0.47531986236572266\n",
      "     9    -7.679573e+00     9.734749e-01\n",
      " * time: 0.4984149932861328\n",
      "    10    -7.804687e+00     1.659150e-01\n",
      " * time: 0.5212428569793701\n",
      "    11    -7.828157e+00     7.681791e-02\n",
      " * time: 0.5442979335784912\n",
      "    12    -7.842069e+00     5.107665e-02\n",
      " * time: 0.5671448707580566\n",
      "    13    -7.845162e+00     7.032238e-02\n",
      " * time: 0.5905799865722656\n",
      "    14    -7.846470e+00     5.444820e-02\n",
      " * time: 0.6230700016021729\n",
      "    15    -7.847173e+00     3.742496e-02\n",
      " * time: 0.6560678482055664\n",
      "    16    -7.848355e+00     2.836237e-02\n",
      " * time: 0.6792068481445312\n",
      "    17    -7.850670e+00     2.669151e-02\n",
      " * time: 0.7023088932037354\n",
      "    18    -7.852285e+00     1.506404e-02\n",
      " * time: 0.725395917892456\n",
      "    19    -7.852488e+00     9.995090e-03\n",
      " * time: 0.7484898567199707\n",
      "    20    -7.852594e+00     3.736223e-03\n",
      " * time: 0.7710530757904053\n",
      "    21    -7.852632e+00     2.173037e-03\n",
      " * time: 0.7938618659973145\n",
      "    22    -7.852641e+00     1.987836e-03\n",
      " * time: 0.8789310455322266\n",
      "    23    -7.852645e+00     5.945011e-04\n",
      " * time: 0.9023129940032959\n",
      "    24    -7.852646e+00     3.671195e-04\n",
      " * time: 0.9252710342407227\n",
      "    25    -7.852647e+00     3.085977e-04\n",
      " * time: 0.9482228755950928\n",
      "    26    -7.852647e+00     1.552510e-04\n",
      " * time: 0.9710190296173096\n",
      "    27    -7.852647e+00     9.056673e-05\n",
      " * time: 0.993912935256958\n",
      "    28    -7.852647e+00     5.353802e-05\n",
      " * time: 1.0163328647613525\n",
      "    29    -7.852647e+00     2.987526e-05\n",
      " * time: 1.0391428470611572\n",
      "    30    -7.852647e+00     1.980064e-05\n",
      " * time: 1.0618770122528076\n",
      "    31    -7.852647e+00     8.740952e-06\n",
      " * time: 1.084967851638794\n",
      "    32    -7.852647e+00     4.227604e-06\n",
      " * time: 1.1078648567199707\n",
      "    33    -7.852647e+00     2.877679e-06\n",
      " * time: 1.1308598518371582\n",
      "    34    -7.852647e+00     1.196314e-06\n",
      " * time: 1.1537370681762695\n",
      "    35    -7.852647e+00     6.715278e-07\n",
      " * time: 1.1766488552093506\n",
      "    36    -7.852647e+00     5.351186e-07\n",
      " * time: 1.1995270252227783\n",
      "    37    -7.852647e+00     3.014176e-07\n",
      " * time: 1.2233128547668457\n",
      "    38    -7.852647e+00     1.919084e-07\n",
      " * time: 1.2464749813079834\n",
      "    39    -7.852647e+00     1.019650e-07\n",
      " * time: 1.2698349952697754\n",
      "    40    -7.852647e+00     4.933032e-08\n",
      " * time: 1.294409990310669\n",
      "    41    -7.852647e+00     3.973301e-08\n",
      " * time: 1.317633867263794\n",
      "    42    -7.852647e+00     1.695200e-08\n",
      " * time: 1.340250015258789\n",
      "    43    -7.852647e+00     1.012846e-08\n",
      " * time: 1.3633320331573486\n",
      "    44    -7.852647e+00     6.451984e-09\n",
      " * time: 1.3861758708953857\n"
     ]
    }
   ],
   "cell_type": "code",
   "source": [
    "scfres_dm = direct_minimization(basis; tol=tol^2);"
   ],
   "metadata": {},
   "execution_count": 4
  },
  {
   "cell_type": "markdown",
   "source": [
    "## Newton algorithm"
   ],
   "metadata": {}
  },
  {
   "cell_type": "markdown",
   "source": [
    "Start not too far from the solution to ensure convergence:\n",
    "We run first a very crude SCF to get close and then switch to Newton."
   ],
   "metadata": {}
  },
  {
   "outputs": [
    {
     "name": "stdout",
     "output_type": "stream",
     "text": [
      "n     Energy            log10(ΔE)   log10(Δρ)   Diag   Δtime\n",
      "---   ---------------   ---------   ---------   ----   ------\n",
      "  1   -7.846843416699                   -0.70    4.5         \n"
     ]
    }
   ],
   "cell_type": "code",
   "source": [
    "scfres_start = self_consistent_field(basis; tol=0.5);"
   ],
   "metadata": {},
   "execution_count": 5
  },
  {
   "cell_type": "markdown",
   "source": [
    "Remove the virtual orbitals (which Newton cannot treat yet)"
   ],
   "metadata": {}
  },
  {
   "outputs": [
    {
     "name": "stdout",
     "output_type": "stream",
     "text": [
      "n     Energy            log10(ΔE)   log10(Δρ)   Δtime\n",
      "---   ---------------   ---------   ---------   ------\n",
      "  1   -7.852645880746                   -1.64         \n",
      "  2   -7.852646686730       -6.09       -3.71    1.92s\n",
      "  3   -7.852646686730      -13.26       -7.22    163ms\n"
     ]
    }
   ],
   "cell_type": "code",
   "source": [
    "ψ = DFTK.select_occupied_orbitals(basis, scfres_start.ψ, scfres_start.occupation).ψ\n",
    "scfres_newton = newton(basis, ψ; tol);"
   ],
   "metadata": {},
   "execution_count": 6
  },
  {
   "cell_type": "markdown",
   "source": [
    "## Comparison of results"
   ],
   "metadata": {}
  },
  {
   "outputs": [
    {
     "name": "stdout",
     "output_type": "stream",
     "text": [
      "|ρ_newton - ρ_scf|  = 2.596660593007698e-7\n",
      "|ρ_newton - ρ_scfv| = 1.7305634035576138e-7\n",
      "|ρ_newton - ρ_dm|   = 9.42695013925174e-10\n"
     ]
    }
   ],
   "cell_type": "code",
   "source": [
    "println(\"|ρ_newton - ρ_scf|  = \", norm(scfres_newton.ρ - scfres_scf.ρ))\n",
    "println(\"|ρ_newton - ρ_scfv| = \", norm(scfres_newton.ρ - scfres_scfv.ρ))\n",
    "println(\"|ρ_newton - ρ_dm|   = \", norm(scfres_newton.ρ - scfres_dm.ρ))"
   ],
   "metadata": {},
   "execution_count": 7
  }
 ],
 "nbformat_minor": 3,
 "metadata": {
  "language_info": {
   "file_extension": ".jl",
   "mimetype": "application/julia",
   "name": "julia",
   "version": "1.9.3"
  },
  "kernelspec": {
   "name": "julia-1.9",
   "display_name": "Julia 1.9.3",
   "language": "julia"
  }
 },
 "nbformat": 4
}
