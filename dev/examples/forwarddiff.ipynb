{
 "cells": [
  {
   "cell_type": "markdown",
   "source": [
    "# Polarizability using automatic differentiation\n",
    "\n",
    "Simple example for computing properties using (forward-mode)\n",
    "automatic differentiation.\n",
    "For a more classical approach and more details about computing polarizabilities,\n",
    "see Polarizability by linear response."
   ],
   "metadata": {}
  },
  {
   "outputs": [],
   "cell_type": "code",
   "source": [
    "using DFTK\n",
    "using LinearAlgebra\n",
    "using ForwardDiff\n",
    "\n",
    "# Construct PlaneWaveBasis given a particular electric field strength\n",
    "# Again we take the example of a Helium atom.\n",
    "function make_basis(ε::T; a=10., Ecut=30) where {T}\n",
    "    lattice=T(a) * I(3)  # lattice is a cube of $a$ Bohrs\n",
    "    # Helium at the center of the box\n",
    "    atoms     = [ElementPsp(:He, psp=load_psp(\"hgh/lda/He-q2\"))]\n",
    "    positions = [[1/2, 1/2, 1/2]]\n",
    "\n",
    "    model = model_DFT(lattice, atoms, positions, [:lda_x, :lda_c_vwn];\n",
    "                      extra_terms=[ExternalFromReal(r -> -ε * (r[1] - a/2))],\n",
    "                      symmetries=false)\n",
    "    PlaneWaveBasis(model; Ecut, kgrid=[1, 1, 1])  # No k-point sampling on isolated system\n",
    "end\n",
    "\n",
    "# dipole moment of a given density (assuming the current geometry)\n",
    "function dipole(basis, ρ)\n",
    "    @assert isdiag(basis.model.lattice)\n",
    "    a  = basis.model.lattice[1, 1]\n",
    "    rr = [a * (r[1] - 1/2) for r in r_vectors(basis)]\n",
    "    sum(rr .* ρ) * basis.dvol\n",
    "end\n",
    "\n",
    "# Function to compute the dipole for a given field strength\n",
    "function compute_dipole(ε; tol=1e-8, kwargs...)\n",
    "    scfres = self_consistent_field(make_basis(ε; kwargs...); tol)\n",
    "    dipole(scfres.basis, scfres.ρ)\n",
    "end;"
   ],
   "metadata": {},
   "execution_count": 1
  },
  {
   "cell_type": "markdown",
   "source": [
    "With this in place we can compute the polarizability from finite differences\n",
    "(just like in the previous example):"
   ],
   "metadata": {}
  },
  {
   "outputs": [
    {
     "name": "stdout",
     "output_type": "stream",
     "text": [
      "n     Energy            log10(ΔE)   log10(Δρ)   Diag   Δtime\n",
      "---   ---------------   ---------   ---------   ----   ------\n",
      "  1   -2.770726326598                   -0.53    8.0         \n",
      "  2   -2.772127327928       -2.85       -1.30    1.0    137ms\n",
      "  3   -2.772168910301       -4.38       -2.74    1.0    174ms\n",
      "  4   -2.772170708765       -5.75       -3.55    2.0    160ms\n",
      "  5   -2.772170720295       -7.94       -3.85    2.0    163ms\n",
      "  6   -2.772170722971       -8.57       -5.23    1.0    185ms\n",
      "  7   -2.772170723014      -10.36       -5.59    2.0    166ms\n",
      "  8   -2.772170723015      -12.28       -5.87    2.0    170ms\n",
      "  9   -2.772170723015      -12.94       -6.65    1.0    178ms\n",
      " 10   -2.772170723015   +  -13.92       -7.28    1.0    161ms\n",
      " 11   -2.772170723015      -14.51       -8.46    2.0    186ms\n",
      "n     Energy            log10(ΔE)   log10(Δρ)   Diag   Δtime\n",
      "---   ---------------   ---------   ---------   ----   ------\n",
      "  1   -2.770732425501                   -0.52    9.0         \n",
      "  2   -2.772058949920       -2.88       -1.32    1.0    138ms\n",
      "  3   -2.772082969121       -4.62       -2.43    1.0    162ms\n",
      "  4   -2.772083320666       -6.45       -3.11    1.0    142ms\n",
      "  5   -2.772083417135       -7.02       -4.08    2.0    161ms\n",
      "  6   -2.772083417669       -9.27       -4.56    1.0    186ms\n",
      "  7   -2.772083417810       -9.85       -5.50    2.0    165ms\n",
      "  8   -2.772083417811      -13.26       -6.20    1.0    150ms\n",
      "  9   -2.772083417811      -13.02       -7.09    2.0    195ms\n",
      " 10   -2.772083417811      -14.24       -7.66    1.0    161ms\n",
      " 11   -2.772083417811   +  -13.83       -8.32    2.0    189ms\n"
     ]
    },
    {
     "output_type": "execute_result",
     "data": {
      "text/plain": "1.7735578353749593"
     },
     "metadata": {},
     "execution_count": 2
    }
   ],
   "cell_type": "code",
   "source": [
    "polarizability_fd = let\n",
    "    ε = 0.01\n",
    "    (compute_dipole(ε) - compute_dipole(0.0)) / ε\n",
    "end"
   ],
   "metadata": {},
   "execution_count": 2
  },
  {
   "cell_type": "markdown",
   "source": [
    "We do the same thing using automatic differentiation. Under the hood this uses\n",
    "custom rules to implicitly differentiate through the self-consistent\n",
    "field fixed-point problem."
   ],
   "metadata": {}
  },
  {
   "outputs": [
    {
     "name": "stdout",
     "output_type": "stream",
     "text": [
      "n     Energy            log10(ΔE)   log10(Δρ)   Diag   Δtime\n",
      "---   ---------------   ---------   ---------   ----   ------\n",
      "  1   -2.770893892660                   -0.53    9.0         \n",
      "  2   -2.772063786909       -2.93       -1.32    1.0    137ms\n",
      "  3   -2.772083205475       -4.71       -2.50    1.0    140ms\n",
      "  4   -2.772083362529       -6.80       -3.23    1.0    145ms\n",
      "  5   -2.772083415677       -7.27       -3.86    2.0    395ms\n",
      "  6   -2.772083417686       -8.70       -4.64    1.0    199ms\n",
      "  7   -2.772083417810       -9.90       -5.42    2.0    221ms\n",
      "  8   -2.772083417810      -12.58       -6.08    1.0    574ms\n",
      "  9   -2.772083417811      -12.64       -7.05    2.0    185ms\n",
      " 10   -2.772083417811   +  -14.07       -7.57    2.0    183ms\n",
      " 11   -2.772083417811      -14.21       -8.40    1.0    166ms\n",
      "\n",
      "Polarizability via ForwardDiff:       1.7725349778876651\n",
      "Polarizability via finite difference: 1.7735578353749593\n"
     ]
    }
   ],
   "cell_type": "code",
   "source": [
    "polarizability = ForwardDiff.derivative(compute_dipole, 0.0)\n",
    "println()\n",
    "println(\"Polarizability via ForwardDiff:       $polarizability\")\n",
    "println(\"Polarizability via finite difference: $polarizability_fd\")"
   ],
   "metadata": {},
   "execution_count": 3
  }
 ],
 "nbformat_minor": 3,
 "metadata": {
  "language_info": {
   "file_extension": ".jl",
   "mimetype": "application/julia",
   "name": "julia",
   "version": "1.8.5"
  },
  "kernelspec": {
   "name": "julia-1.8",
   "display_name": "Julia 1.8.5",
   "language": "julia"
  }
 },
 "nbformat": 4
}
