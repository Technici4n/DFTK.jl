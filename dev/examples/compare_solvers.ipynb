{
 "cells": [
  {
   "cell_type": "markdown",
   "source": [
    "# Comparison of DFT solvers"
   ],
   "metadata": {}
  },
  {
   "cell_type": "markdown",
   "source": [
    "We compare four different approaches for solving the DFT minimisation problem,\n",
    "namely a density-based SCF, a potential-based SCF, direct minimisation and Newton."
   ],
   "metadata": {}
  },
  {
   "cell_type": "markdown",
   "source": [
    "First we setup our problem"
   ],
   "metadata": {}
  },
  {
   "outputs": [],
   "cell_type": "code",
   "source": [
    "using DFTK\n",
    "using LinearAlgebra\n",
    "\n",
    "a = 10.26  # Silicon lattice constant in Bohr\n",
    "lattice = a / 2 * [[0 1 1.];\n",
    "                   [1 0 1.];\n",
    "                   [1 1 0.]]\n",
    "Si = ElementPsp(:Si, psp=load_psp(\"hgh/lda/Si-q4\"))\n",
    "atoms     = [Si, Si]\n",
    "positions = [ones(3)/8, -ones(3)/8]\n",
    "\n",
    "model = model_LDA(lattice, atoms, positions)\n",
    "basis = PlaneWaveBasis(model; Ecut=5, kgrid=[3, 3, 3])\n",
    "\n",
    "# Convergence we desire\n",
    "tol = 1e-12\n",
    "is_converged = DFTK.ScfConvergenceDensity(tol);"
   ],
   "metadata": {},
   "execution_count": 1
  },
  {
   "cell_type": "markdown",
   "source": [
    "## Density-based self-consistent field"
   ],
   "metadata": {}
  },
  {
   "outputs": [
    {
     "name": "stdout",
     "output_type": "stream",
     "text": [
      "n     Energy            log10(ΔE)   log10(Δρ)   Diag\n",
      "---   ---------------   ---------   ---------   ----\n",
      "  1   -7.846797269822                   -0.70    4.5\n",
      "  2   -7.852293041860       -2.26       -1.53    1.0\n",
      "  3   -7.852646037380       -3.45       -2.52    3.2\n",
      "  4   -7.852646677405       -6.19       -3.37    2.2\n",
      "  5   -7.852646685830       -8.07       -4.75    1.2\n",
      "  6   -7.852646686723       -9.05       -5.17    4.0\n",
      "  7   -7.852646686729      -11.16       -5.98    1.5\n",
      "  8   -7.852646686730      -12.45       -7.55    2.2\n",
      "  9   -7.852646686730      -14.35       -7.46    2.2\n",
      " 10   -7.852646686730   +  -14.57       -8.91    2.2\n",
      " 11   -7.852646686730      -14.75       -9.57    2.5\n",
      " 12   -7.852646686730   +    -Inf       -9.64    1.0\n",
      " 13   -7.852646686730   +    -Inf      -10.99    1.8\n",
      " 14   -7.852646686730   +  -14.75      -11.35    2.2\n",
      " 15   -7.852646686730      -14.57      -11.66    1.2\n",
      " 16   -7.852646686730   +  -15.05      -12.34    2.2\n"
     ]
    }
   ],
   "cell_type": "code",
   "source": [
    "scfres_scf = self_consistent_field(basis; is_converged);"
   ],
   "metadata": {},
   "execution_count": 2
  },
  {
   "cell_type": "markdown",
   "source": [
    "## Potential-based SCF"
   ],
   "metadata": {}
  },
  {
   "outputs": [
    {
     "name": "stdout",
     "output_type": "stream",
     "text": [
      "n     Energy            log10(ΔE)   log10(Δρ)   α      Diag\n",
      "---   ---------------   ---------   ---------   ----   ----\n",
      "  1   -7.846812705493                   -0.70           4.5\n",
      "  2   -7.852526898749       -2.24       -1.63   0.80    2.0\n",
      "  3   -7.852636434585       -3.96       -2.71   0.80    1.0\n",
      "  4   -7.852646450428       -5.00       -3.28   0.80    2.2\n",
      "  5   -7.852646674792       -6.65       -4.10   0.80    1.2\n",
      "  6   -7.852646686360       -7.94       -4.73   0.80    1.5\n",
      "  7   -7.852646686723       -9.44       -5.57   0.80    2.0\n",
      "  8   -7.852646686730      -11.20       -6.49   0.80    1.8\n",
      "  9   -7.852646686730      -12.49       -7.44   0.80    2.2\n",
      " 10   -7.852646686730      -14.21       -8.17   0.80    2.0\n",
      " 11   -7.852646686730   +  -14.75       -9.08   0.80    2.0\n",
      " 12   -7.852646686730      -14.75       -9.58   0.80    2.0\n",
      " 13   -7.852646686730      -14.75      -10.57   0.80    1.2\n",
      " 14   -7.852646686730   +  -14.57      -11.02   0.80    2.8\n",
      " 15   -7.852646686730      -15.05      -12.38   0.80    1.8\n"
     ]
    }
   ],
   "cell_type": "code",
   "source": [
    "scfres_scfv = DFTK.scf_potential_mixing(basis; is_converged);"
   ],
   "metadata": {},
   "execution_count": 3
  },
  {
   "cell_type": "markdown",
   "source": [
    "## Direct minimization"
   ],
   "metadata": {}
  },
  {
   "outputs": [
    {
     "name": "stdout",
     "output_type": "stream",
     "text": [
      "Iter     Function value   Gradient norm \n",
      "     0     1.396813e+01     3.542703e+00\n",
      " * time: 0.4143180847167969\n",
      "     1     1.284169e+00     1.844049e+00\n",
      " * time: 0.6115701198577881\n",
      "     2    -1.621814e+00     2.051491e+00\n",
      " * time: 0.6346549987792969\n",
      "     3    -3.640671e+00     2.003165e+00\n",
      " * time: 0.6675131320953369\n",
      "     4    -4.891558e+00     1.833512e+00\n",
      " * time: 0.7009930610656738\n",
      "     5    -6.636833e+00     1.159500e+00\n",
      " * time: 0.7342691421508789\n",
      "     6    -7.370333e+00     6.969575e-01\n",
      " * time: 0.7671611309051514\n",
      "     7    -7.616082e+00     5.227928e-01\n",
      " * time: 0.7904541492462158\n",
      "     8    -7.759701e+00     1.034338e-01\n",
      " * time: 0.8134291172027588\n",
      "     9    -7.796090e+00     1.483712e-01\n",
      " * time: 0.8363480567932129\n",
      "    10    -7.824566e+00     5.586510e-02\n",
      " * time: 0.859483003616333\n",
      "    11    -7.837204e+00     4.412270e-02\n",
      " * time: 0.8825860023498535\n",
      "    12    -7.843677e+00     3.827675e-02\n",
      " * time: 0.9054319858551025\n",
      "    13    -7.845437e+00     4.439880e-02\n",
      " * time: 0.9282059669494629\n",
      "    14    -7.845482e+00     5.348855e-02\n",
      " * time: 0.9609241485595703\n",
      "    15    -7.845499e+00     5.441115e-02\n",
      " * time: 1.0242259502410889\n",
      "    16    -7.845727e+00     5.582350e-02\n",
      " * time: 1.0775361061096191\n",
      "    17    -7.845948e+00     4.787877e-02\n",
      " * time: 1.120469093322754\n",
      "    18    -7.846402e+00     3.625750e-02\n",
      " * time: 1.1537680625915527\n",
      "    19    -7.848322e+00     2.848686e-02\n",
      " * time: 1.177135944366455\n",
      "    20    -7.850751e+00     1.634700e-02\n",
      " * time: 1.2003791332244873\n",
      "    21    -7.852186e+00     1.463977e-02\n",
      " * time: 1.224039077758789\n",
      "    22    -7.852470e+00     1.548959e-02\n",
      " * time: 1.2479000091552734\n",
      "    23    -7.852592e+00     4.349505e-03\n",
      " * time: 1.270993947982788\n",
      "    24    -7.852636e+00     3.738875e-03\n",
      " * time: 1.2942261695861816\n",
      "    25    -7.852643e+00     2.791406e-03\n",
      " * time: 1.3172180652618408\n",
      "    26    -7.852645e+00     5.623368e-04\n",
      " * time: 1.3403291702270508\n",
      "    27    -7.852646e+00     4.383045e-04\n",
      " * time: 1.4480149745941162\n",
      "    28    -7.852646e+00     4.678679e-04\n",
      " * time: 1.4716269969940186\n",
      "    29    -7.852647e+00     1.630583e-04\n",
      " * time: 1.494642972946167\n",
      "    30    -7.852647e+00     1.114676e-04\n",
      " * time: 1.5174579620361328\n",
      "    31    -7.852647e+00     8.897451e-05\n",
      " * time: 1.540276050567627\n",
      "    32    -7.852647e+00     3.025601e-05\n",
      " * time: 1.5634679794311523\n",
      "    33    -7.852647e+00     1.811323e-05\n",
      " * time: 1.5862431526184082\n",
      "    34    -7.852647e+00     1.624333e-05\n",
      " * time: 1.608860969543457\n",
      "    35    -7.852647e+00     1.044338e-05\n",
      " * time: 1.6315701007843018\n",
      "    36    -7.852647e+00     4.190600e-06\n",
      " * time: 1.654737949371338\n",
      "    37    -7.852647e+00     2.645398e-06\n",
      " * time: 1.6775121688842773\n",
      "    38    -7.852647e+00     1.877328e-06\n",
      " * time: 1.7003021240234375\n",
      "    39    -7.852647e+00     8.705119e-07\n",
      " * time: 1.723031997680664\n",
      "    40    -7.852647e+00     6.382025e-07\n",
      " * time: 1.7460100650787354\n",
      "    41    -7.852647e+00     4.644713e-07\n",
      " * time: 1.7688400745391846\n",
      "    42    -7.852647e+00     2.558961e-07\n",
      " * time: 1.7917399406433105\n",
      "    43    -7.852647e+00     1.187483e-07\n",
      " * time: 1.814337968826294\n",
      "    44    -7.852647e+00     7.297882e-08\n",
      " * time: 1.8372130393981934\n",
      "    45    -7.852647e+00     4.970329e-08\n",
      " * time: 1.8599090576171875\n",
      "    46    -7.852647e+00     4.036911e-08\n",
      " * time: 1.8824939727783203\n",
      "    47    -7.852647e+00     1.805504e-08\n",
      " * time: 1.914989948272705\n",
      "    48    -7.852647e+00     8.330927e-09\n",
      " * time: 1.9379761219024658\n",
      "    49    -7.852647e+00     1.053740e-08\n",
      " * time: 1.9609379768371582\n",
      "    50    -7.852647e+00     1.053597e-08\n",
      " * time: 2.0241031646728516\n"
     ]
    }
   ],
   "cell_type": "code",
   "source": [
    "scfres_dm = direct_minimization(basis; tol);"
   ],
   "metadata": {},
   "execution_count": 4
  },
  {
   "cell_type": "markdown",
   "source": [
    "## Newton algorithm"
   ],
   "metadata": {}
  },
  {
   "cell_type": "markdown",
   "source": [
    "Start not too far from the solution to ensure convergence:\n",
    "We run first a very crude SCF to get close and then switch to Newton."
   ],
   "metadata": {}
  },
  {
   "outputs": [
    {
     "name": "stdout",
     "output_type": "stream",
     "text": [
      "n     Energy            log10(ΔE)   log10(Δρ)   Diag\n",
      "---   ---------------   ---------   ---------   ----\n",
      "  1   -7.846817668890                   -0.70    4.5\n",
      "  2   -7.852306301511       -2.26       -1.53    1.0\n"
     ]
    }
   ],
   "cell_type": "code",
   "source": [
    "scfres_start = self_consistent_field(basis; tol=1e-1);"
   ],
   "metadata": {},
   "execution_count": 5
  },
  {
   "cell_type": "markdown",
   "source": [
    "Remove the virtual orbitals (which Newton cannot treat yet)"
   ],
   "metadata": {}
  },
  {
   "outputs": [
    {
     "name": "stdout",
     "output_type": "stream",
     "text": [
      "n     Energy            log10(ΔE)   log10(Δρ)\n",
      "---   ---------------   ---------   ---------\n",
      "  1   -7.852646686669                   -2.55\n",
      "  2   -7.852646686730      -10.21       -5.89\n",
      "  3   -7.852646686730   +  -14.75      -12.21\n"
     ]
    }
   ],
   "cell_type": "code",
   "source": [
    "ψ, _ = DFTK.select_occupied_orbitals(basis, scfres_start.ψ, scfres_start.occupation)\n",
    "scfres_newton = newton(basis, ψ; tol);"
   ],
   "metadata": {},
   "execution_count": 6
  },
  {
   "cell_type": "markdown",
   "source": [
    "## Comparison of results"
   ],
   "metadata": {}
  },
  {
   "outputs": [
    {
     "name": "stdout",
     "output_type": "stream",
     "text": [
      "|ρ_newton - ρ_scf|  = 3.404425270533604e-13\n",
      "|ρ_newton - ρ_scfv| = 1.4078050139936343e-13\n",
      "|ρ_newton - ρ_dm|   = 4.3151583913869374e-10\n"
     ]
    }
   ],
   "cell_type": "code",
   "source": [
    "println(\"|ρ_newton - ρ_scf|  = \", norm(scfres_newton.ρ - scfres_scf.ρ))\n",
    "println(\"|ρ_newton - ρ_scfv| = \", norm(scfres_newton.ρ - scfres_scfv.ρ))\n",
    "println(\"|ρ_newton - ρ_dm|   = \", norm(scfres_newton.ρ - scfres_dm.ρ))"
   ],
   "metadata": {},
   "execution_count": 7
  }
 ],
 "nbformat_minor": 3,
 "metadata": {
  "language_info": {
   "file_extension": ".jl",
   "mimetype": "application/julia",
   "name": "julia",
   "version": "1.8.2"
  },
  "kernelspec": {
   "name": "julia-1.8",
   "display_name": "Julia 1.8.2",
   "language": "julia"
  }
 },
 "nbformat": 4
}
