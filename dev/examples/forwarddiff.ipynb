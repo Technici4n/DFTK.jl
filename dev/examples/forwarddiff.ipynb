{
 "cells": [
  {
   "cell_type": "markdown",
   "source": [
    "# Polarizability using automatic differentiation\n",
    "\n",
    "Simple example for computing properties using (forward-mode)\n",
    "automatic differentiation.\n",
    "For a more classical approach and more details about computing polarizabilities,\n",
    "see Polarizability by linear response."
   ],
   "metadata": {}
  },
  {
   "outputs": [],
   "cell_type": "code",
   "source": [
    "using DFTK\n",
    "using LinearAlgebra\n",
    "using ForwardDiff\n",
    "\n",
    "# Construct PlaneWaveBasis given a particular electric field strength\n",
    "# Again we take the example of a Helium atom.\n",
    "function make_basis(ε::T; a=10., Ecut=30) where {T}\n",
    "    lattice=T(a) * I(3)  # lattice is a cube of $a$ Bohrs\n",
    "    # Helium at the center of the box\n",
    "    atoms     = [ElementPsp(:He, psp=load_psp(\"hgh/lda/He-q2\"))]\n",
    "    positions = [[1/2, 1/2, 1/2]]\n",
    "\n",
    "    model = model_DFT(lattice, atoms, positions, [:lda_x, :lda_c_vwn];\n",
    "                      extra_terms=[ExternalFromReal(r -> -ε * (r[1] - a/2))],\n",
    "                      symmetries=false)\n",
    "    PlaneWaveBasis(model; Ecut, kgrid=[1, 1, 1])  # No k-point sampling on isolated system\n",
    "end\n",
    "\n",
    "# dipole moment of a given density (assuming the current geometry)\n",
    "function dipole(basis, ρ)\n",
    "    @assert isdiag(basis.model.lattice)\n",
    "    a  = basis.model.lattice[1, 1]\n",
    "    rr = [a * (r[1] - 1/2) for r in r_vectors(basis)]\n",
    "    sum(rr .* ρ) * basis.dvol\n",
    "end\n",
    "\n",
    "# Function to compute the dipole for a given field strength\n",
    "function compute_dipole(ε; tol=1e-8, kwargs...)\n",
    "    scfres = self_consistent_field(make_basis(ε; kwargs...); tol)\n",
    "    dipole(scfres.basis, scfres.ρ)\n",
    "end;"
   ],
   "metadata": {},
   "execution_count": 1
  },
  {
   "cell_type": "markdown",
   "source": [
    "With this in place we can compute the polarizability from finite differences\n",
    "(just like in the previous example):"
   ],
   "metadata": {}
  },
  {
   "outputs": [
    {
     "name": "stdout",
     "output_type": "stream",
     "text": [
      "n     Energy            log10(ΔE)   log10(Δρ)   Diag   Δtime\n",
      "---   ---------------   ---------   ---------   ----   ------\n",
      "  1   -2.770867182381                   -0.53    9.0         \n",
      "  2   -2.772146256505       -2.89       -1.32    1.0    172ms\n",
      "  3   -2.772170476189       -4.62       -2.52    1.0    213ms\n",
      "  4   -2.772170684073       -6.68       -3.35    1.0    179ms\n",
      "  5   -2.772170721687       -7.42       -3.95    2.0    214ms\n",
      "  6   -2.772170722971       -8.89       -5.01    1.0    210ms\n",
      "  7   -2.772170723014      -10.37       -5.46    2.0    210ms\n",
      "  8   -2.772170723015      -11.99       -6.33    2.0    215ms\n",
      "  9   -2.772170723015      -14.31       -6.68    1.0    221ms\n",
      " 10   -2.772170723015      -13.88       -7.58    1.0    216ms\n",
      " 11   -2.772170723015   +  -14.12       -8.55    2.0    257ms\n",
      "n     Energy            log10(ΔE)   log10(Δρ)   Diag   Δtime\n",
      "---   ---------------   ---------   ---------   ----   ------\n",
      "  1   -2.770762626025                   -0.52    9.0         \n",
      "  2   -2.772059985107       -2.89       -1.32    1.0    206ms\n",
      "  3   -2.772082960089       -4.64       -2.43    1.0    168ms\n",
      "  4   -2.772083331602       -6.43       -3.12    1.0    168ms\n",
      "  5   -2.772083417646       -7.07       -4.33    2.0    217ms\n",
      "  6   -2.772083417736      -10.04       -4.55    1.0    207ms\n",
      "  7   -2.772083417808      -10.14       -5.72    1.0    201ms\n",
      "  8   -2.772083417811      -11.69       -6.26    2.0    235ms\n",
      "  9   -2.772083417811      -13.16       -6.44    2.0    213ms\n",
      " 10   -2.772083417811      -13.76       -7.84    1.0    226ms\n",
      " 11   -2.772083417811      -14.31       -8.26    2.0    243ms\n"
     ]
    },
    {
     "output_type": "execute_result",
     "data": {
      "text/plain": "1.7735581673163774"
     },
     "metadata": {},
     "execution_count": 2
    }
   ],
   "cell_type": "code",
   "source": [
    "polarizability_fd = let\n",
    "    ε = 0.01\n",
    "    (compute_dipole(ε) - compute_dipole(0.0)) / ε\n",
    "end"
   ],
   "metadata": {},
   "execution_count": 2
  },
  {
   "cell_type": "markdown",
   "source": [
    "We do the same thing using automatic differentiation. Under the hood this uses\n",
    "custom rules to implicitly differentiate through the self-consistent\n",
    "field fixed-point problem."
   ],
   "metadata": {}
  },
  {
   "outputs": [
    {
     "name": "stdout",
     "output_type": "stream",
     "text": [
      "n     Energy            log10(ΔE)   log10(Δρ)   Diag   Δtime\n",
      "---   ---------------   ---------   ---------   ----   ------\n",
      "  1   -2.770626759424                   -0.53    8.0         \n",
      "  2   -2.772047136407       -2.85       -1.30    1.0    227ms\n",
      "  3   -2.772082405733       -4.45       -2.65    1.0    183ms\n",
      "  4   -2.772083413486       -6.00       -3.78    2.0    240ms\n",
      "  5   -2.772083417173       -8.43       -4.17    2.0    209ms\n",
      "  6   -2.772083417796       -9.21       -5.50    1.0    203ms\n",
      "  7   -2.772083417810      -10.84       -5.90    2.0    217ms\n",
      "  8   -2.772083417811      -12.89       -6.42    1.0    218ms\n",
      "  9   -2.772083417811      -13.51       -7.14    2.0    247ms\n",
      " 10   -2.772083417811   +  -14.35       -7.39    1.0    241ms\n",
      " 11   -2.772083417811   +  -14.24       -8.43    1.0    199ms\n",
      "\n",
      "Polarizability via ForwardDiff:       1.7725349723395332\n",
      "Polarizability via finite difference: 1.7735581673163774\n"
     ]
    }
   ],
   "cell_type": "code",
   "source": [
    "polarizability = ForwardDiff.derivative(compute_dipole, 0.0)\n",
    "println()\n",
    "println(\"Polarizability via ForwardDiff:       $polarizability\")\n",
    "println(\"Polarizability via finite difference: $polarizability_fd\")"
   ],
   "metadata": {},
   "execution_count": 3
  }
 ],
 "nbformat_minor": 3,
 "metadata": {
  "language_info": {
   "file_extension": ".jl",
   "mimetype": "application/julia",
   "name": "julia",
   "version": "1.8.5"
  },
  "kernelspec": {
   "name": "julia-1.8",
   "display_name": "Julia 1.8.5",
   "language": "julia"
  }
 },
 "nbformat": 4
}
