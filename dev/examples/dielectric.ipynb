{
 "cells": [
  {
   "cell_type": "markdown",
   "source": [
    "# Eigenvalues of the dielectric matrix\n",
    "\n",
    "We compute a few eigenvalues of the dielectric matrix ($q=0$, $ω=0$) iteratively."
   ],
   "metadata": {}
  },
  {
   "outputs": [
    {
     "name": "stdout",
     "output_type": "stream",
     "text": [
      "n     Energy            log10(ΔE)   log10(Δρ)   Diag\n",
      "---   ---------------   ---------   ---------   ----\n",
      "  1   -7.234239918173                   -0.50    8.0\n",
      "  2   -7.250000794750       -1.80       -1.39    1.0\n",
      "  3   -7.251238492585       -2.91       -2.01    3.0\n",
      "  4   -7.251106170920   +   -3.88       -1.97    5.0\n",
      "  5   -7.251327600800       -3.65       -2.62    4.0\n",
      "  6   -7.251337868238       -4.99       -3.08    3.0\n",
      "  7   -7.251338794456       -6.03       -4.14    2.0\n",
      "  8   -7.251338796569       -8.68       -4.41    3.0\n",
      "  9   -7.251338798641       -8.68       -5.09    3.0\n",
      " 10   -7.251338798699      -10.23       -5.70    2.0\n",
      " 11   -7.251338798704      -11.35       -6.11    3.0\n",
      " 12   -7.251338798704      -12.25       -6.48    2.0\n",
      " 13   -7.251338798705      -12.88       -7.11    3.0\n",
      " 14   -7.251338798705      -15.05       -7.49    2.0\n"
     ]
    }
   ],
   "cell_type": "code",
   "source": [
    "using DFTK\n",
    "using Plots\n",
    "using KrylovKit\n",
    "using Printf\n",
    "\n",
    "# Calculation parameters\n",
    "kgrid = [1, 1, 1]\n",
    "Ecut = 5\n",
    "\n",
    "# Silicon lattice\n",
    "a = 10.26\n",
    "lattice = a / 2 .* [[0 1 1.]; [1 0 1.]; [1 1 0.]]\n",
    "Si = ElementPsp(:Si, psp=load_psp(\"hgh/lda/Si-q4\"))\n",
    "atoms     = [Si, Si]\n",
    "positions = [ones(3)/8, -ones(3)/8]\n",
    "\n",
    "# Compute the dielectric operator without symmetries\n",
    "model = model_LDA(lattice, atoms, positions, symmetries=false)\n",
    "basis = PlaneWaveBasis(model; Ecut, kgrid)\n",
    "scfres = self_consistent_field(basis, tol=1e-14);"
   ],
   "metadata": {},
   "execution_count": 1
  },
  {
   "cell_type": "markdown",
   "source": [
    "Applying $ε^† ≔ (1- χ_0 K)$ …"
   ],
   "metadata": {}
  },
  {
   "outputs": [],
   "cell_type": "code",
   "source": [
    "function eps_fun(δρ)\n",
    "    δV = apply_kernel(basis, δρ; ρ=scfres.ρ)\n",
    "    χ0δV = apply_χ0(scfres, δV)\n",
    "    δρ - χ0δV\n",
    "end;"
   ],
   "metadata": {},
   "execution_count": 2
  },
  {
   "cell_type": "markdown",
   "source": [
    "… eagerly diagonalizes the subspace matrix at each iteration"
   ],
   "metadata": {}
  },
  {
   "outputs": [
    {
     "name": "stdout",
     "output_type": "stream",
     "text": [
      "[ Info: Arnoldi iteration step 1: normres = 0.03459097563919216\n",
      "[ Info: Arnoldi iteration step 2: normres = 0.5144575658434767\n",
      "[ Info: Arnoldi iteration step 3: normres = 0.50547851435476\n",
      "[ Info: Arnoldi iteration step 4: normres = 0.6648923189668737\n",
      "[ Info: Arnoldi iteration step 5: normres = 0.48514165703168716\n",
      "[ Info: Arnoldi schursolve in iter 1, krylovdim = 5: 0 values converged, normres = (1.58e-01, 7.40e-02, 3.65e-01, 2.67e-01, 1.57e-02)\n",
      "[ Info: Arnoldi iteration step 6: normres = 0.3766354142616258\n",
      "[ Info: Arnoldi schursolve in iter 1, krylovdim = 6: 0 values converged, normres = (4.87e-02, 1.10e-01, 3.20e-01, 1.10e-01, 1.13e-01)\n",
      "[ Info: Arnoldi iteration step 7: normres = 0.08838205940267875\n",
      "[ Info: Arnoldi schursolve in iter 1, krylovdim = 7: 0 values converged, normres = (2.23e-03, 1.39e-02, 2.41e-02, 5.11e-02, 5.66e-02)\n",
      "[ Info: Arnoldi iteration step 8: normres = 0.10494535604776385\n",
      "[ Info: Arnoldi schursolve in iter 1, krylovdim = 8: 0 values converged, normres = (1.01e-04, 1.04e-03, 1.99e-03, 1.72e-02, 3.70e-02)\n",
      "[ Info: Arnoldi iteration step 9: normres = 0.09746887778757593\n",
      "[ Info: Arnoldi schursolve in iter 1, krylovdim = 9: 0 values converged, normres = (4.29e-06, 7.28e-05, 1.55e-04, 6.10e-03, 3.88e-02)\n",
      "[ Info: Arnoldi iteration step 10: normres = 0.0791942886415089\n",
      "[ Info: Arnoldi schursolve in iter 1, krylovdim = 10: 0 values converged, normres = (1.49e-07, 4.23e-06, 1.01e-05, 1.90e-03, 3.50e-02)\n",
      "[ Info: Arnoldi iteration step 11: normres = 0.060028310779828155\n",
      "[ Info: Arnoldi schursolve in iter 1, krylovdim = 11: 0 values converged, normres = (3.83e-09, 1.77e-07, 4.67e-07, 3.56e-04, 1.28e-02)\n",
      "[ Info: Arnoldi iteration step 12: normres = 0.09204354959089363\n",
      "[ Info: Arnoldi schursolve in iter 1, krylovdim = 12: 0 values converged, normres = (1.51e-10, 1.15e-08, 3.36e-08, 1.01e-04, 6.91e-03)\n",
      "[ Info: Arnoldi iteration step 13: normres = 0.06429808272074813\n",
      "[ Info: Arnoldi schursolve in iter 1, krylovdim = 13: 0 values converged, normres = (4.13e-12, 5.10e-10, 1.65e-09, 1.90e-05, 2.51e-03)\n",
      "[ Info: Arnoldi iteration step 14: normres = 0.5088910751641696\n",
      "[ Info: Arnoldi schursolve in iter 1, krylovdim = 14: 0 values converged, normres = (1.72e-12, 8.29e-10, 4.86e-09, 5.07e-01, 1.07e-02)\n",
      "[ Info: Arnoldi iteration step 15: normres = 0.1202662004918194\n",
      "[ Info: Arnoldi schursolve in iter 1, krylovdim = 15: 1 values converged, normres = (1.01e-13, 1.66e-10, 4.69e-02, 1.12e-03, 2.96e-05)\n",
      "[ Info: Arnoldi iteration step 16: normres = 0.45436073307873853\n",
      "[ Info: Arnoldi schursolve in iter 1, krylovdim = 16: 1 values converged, normres = (4.26e-14, 4.92e-10, 2.19e-01, 1.31e-02, 3.96e-01)\n",
      "[ Info: Arnoldi iteration step 17: normres = 0.028121510893905105\n",
      "[ Info: Arnoldi schursolve in iter 1, krylovdim = 17: 1 values converged, normres = (5.83e-16, 1.01e-08, 8.47e-03, 5.76e-06, 3.34e-03)\n",
      "[ Info: Arnoldi iteration step 18: normres = 0.020605639660760292\n",
      "[ Info: Arnoldi schursolve in iter 1, krylovdim = 18: 1 values converged, normres = (4.94e-18, 2.86e-08, 1.14e-04, 3.00e-05, 3.95e-05)\n",
      "[ Info: Arnoldi iteration step 19: normres = 0.20590869596729408\n",
      "[ Info: Arnoldi schursolve in iter 1, krylovdim = 19: 1 values converged, normres = (4.42e-19, 1.93e-06, 1.68e-05, 1.09e-07, 8.14e-06)\n",
      "[ Info: Arnoldi iteration step 20: normres = 0.056900314351825354\n",
      "[ Info: Arnoldi schursolve in iter 1, krylovdim = 20: 1 values converged, normres = (1.19e-20, 2.32e-08, 8.03e-07, 1.39e-07, 4.16e-07)\n",
      "[ Info: Arnoldi iteration step 21: normres = 0.025662635844747005\n",
      "[ Info: Arnoldi schursolve in iter 1, krylovdim = 21: 1 values converged, normres = (1.27e-22, 8.11e-09, 1.12e-08, 6.95e-09, 4.66e-09)\n",
      "[ Info: Arnoldi iteration step 22: normres = 0.18078895469587677\n",
      "[ Info: Arnoldi schursolve in iter 1, krylovdim = 22: 1 values converged, normres = (9.51e-24, 7.94e-10, 1.45e-09, 9.10e-10, 6.13e-10)\n",
      "[ Info: Arnoldi iteration step 23: normres = 0.11494211756334749\n",
      "[ Info: Arnoldi schursolve in iter 1, krylovdim = 23: 1 values converged, normres = (1.03e-24, 5.49e-10, 1.06e-09, 5.48e-09, 4.13e-09)\n",
      "[ Info: Arnoldi iteration step 24: normres = 0.02375503314876964\n",
      "[ Info: Arnoldi schursolve in iter 1, krylovdim = 24: 1 values converged, normres = (1.01e-26, 1.01e-11, 1.83e-11, 3.25e-08, 2.31e-08)\n",
      "[ Info: Arnoldi iteration step 25: normres = 0.11638466366943612\n",
      "[ Info: Arnoldi schursolve in iter 1, krylovdim = 25: 2 values converged, normres = (5.19e-28, 8.60e-13, 1.57e-12, 1.84e-04, 1.67e-05)\n",
      "[ Info: Arnoldi iteration step 26: normres = 0.01665670849609639\n",
      "[ Info: Arnoldi schursolve in iter 1, krylovdim = 26: 3 values converged, normres = (3.67e-30, 9.89e-15, 1.80e-14, 2.19e-06, 7.61e-08)\n",
      "[ Info: Arnoldi iteration step 27: normres = 0.02728785550424678\n",
      "[ Info: Arnoldi schursolve in iter 1, krylovdim = 27: 3 values converged, normres = (4.11e-32, 1.76e-16, 3.22e-16, 7.50e-09, 8.46e-09)\n",
      "[ Info: Arnoldi iteration step 28: normres = 0.09417406005962023\n",
      "[ Info: Arnoldi schursolve in iter 1, krylovdim = 28: 3 values converged, normres = (1.68e-33, 1.20e-17, 2.18e-17, 3.16e-09, 1.45e-09)\n",
      "[ Info: Arnoldi iteration step 29: normres = 0.03341263071306919\n",
      "[ Info: Arnoldi schursolve in iter 1, krylovdim = 29: 3 values converged, normres = (2.36e-35, 2.71e-19, 4.94e-19, 7.72e-11, 4.13e-11)\n",
      "[ Info: Arnoldi iteration step 30: normres = 0.17404931275190705\n",
      "[ Info: Arnoldi schursolve in iter 1, krylovdim = 30: 3 values converged, normres = (1.96e-36, 3.97e-20, 7.23e-20, 1.28e-11, 6.85e-12)\n",
      "[ Info: Arnoldi schursolve in iter 2, krylovdim = 19: 3 values converged, normres = (1.96e-36, 3.97e-20, 7.23e-20, 1.28e-11, 6.85e-12)\n",
      "[ Info: Arnoldi iteration step 20: normres = 0.035769799195391756\n",
      "┌ Info: Arnoldi eigsolve finished after 2 iterations:\n",
      "│ *  6 eigenvalues converged\n",
      "│ *  norm of residuals = (3.022593124986752e-38, 1.0113354715372452e-21, 1.008978844703737e-21, 3.63552693207372e-13, 1.6329513678252257e-13, 5.038503464242861e-14)\n",
      "└ *  number of operations = 31\n"
     ]
    }
   ],
   "cell_type": "code",
   "source": [
    "eigsolve(eps_fun, randn(size(scfres.ρ)), 5, :LM; eager=true, verbosity=3);"
   ],
   "metadata": {},
   "execution_count": 3
  }
 ],
 "nbformat_minor": 3,
 "metadata": {
  "language_info": {
   "file_extension": ".jl",
   "mimetype": "application/julia",
   "name": "julia",
   "version": "1.8.3"
  },
  "kernelspec": {
   "name": "julia-1.8",
   "display_name": "Julia 1.8.3",
   "language": "julia"
  }
 },
 "nbformat": 4
}
