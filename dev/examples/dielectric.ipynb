{
 "cells": [
  {
   "cell_type": "markdown",
   "source": [
    "# Eigenvalues of the dielectric matrix\n",
    "\n",
    "We compute a few eigenvalues of the dielectric matrix ($q=0$, $ω=0$) iteratively."
   ],
   "metadata": {}
  },
  {
   "outputs": [
    {
     "name": "stdout",
     "output_type": "stream",
     "text": [
      "n     Energy            log10(ΔE)   log10(Δρ)   Diag\n",
      "---   ---------------   ---------   ---------   ----\n",
      "  1   -7.234132100355                   -0.50    7.0\n",
      "  2   -7.250051537018       -1.80       -1.39    1.0\n",
      "  3   -7.251297383934       -2.90       -2.05    4.0\n",
      "  4   -7.251252104776   +   -4.34       -2.18    4.0\n",
      "  5   -7.251316536083       -4.19       -2.49    3.0\n",
      "  6   -7.251337360324       -4.68       -3.04    2.0\n",
      "  7   -7.251338769580       -5.85       -4.00    2.0\n",
      "  8   -7.251338787083       -7.76       -4.02    4.0\n",
      "  9   -7.251338797638       -7.98       -4.50    3.0\n",
      " 10   -7.251338798485       -9.07       -4.90    2.0\n",
      " 11   -7.251338798700       -9.67       -5.93    3.0\n",
      " 12   -7.251338798704      -11.45       -6.11    3.0\n",
      " 13   -7.251338798705      -12.29       -6.59    2.0\n",
      " 14   -7.251338798705      -13.56       -7.29    2.0\n",
      " 15   -7.251338798705      -14.45       -7.64    3.0\n"
     ]
    }
   ],
   "cell_type": "code",
   "source": [
    "using DFTK\n",
    "using Plots\n",
    "using KrylovKit\n",
    "using Printf\n",
    "\n",
    "# Calculation parameters\n",
    "kgrid = [1, 1, 1]\n",
    "Ecut = 5\n",
    "\n",
    "# Silicon lattice\n",
    "a = 10.26\n",
    "lattice = a / 2 .* [[0 1 1.]; [1 0 1.]; [1 1 0.]]\n",
    "Si = ElementPsp(:Si, psp=load_psp(\"hgh/lda/Si-q4\"))\n",
    "atoms     = [Si, Si]\n",
    "positions = [ones(3)/8, -ones(3)/8]\n",
    "\n",
    "# Compute the dielectric operator without symmetries\n",
    "model = model_LDA(lattice, atoms, positions, symmetries=false)\n",
    "basis = PlaneWaveBasis(model; Ecut, kgrid)\n",
    "scfres = self_consistent_field(basis, tol=1e-14);"
   ],
   "metadata": {},
   "execution_count": 1
  },
  {
   "cell_type": "markdown",
   "source": [
    "Applying $ε^† ≔ (1- χ_0 K)$ …"
   ],
   "metadata": {}
  },
  {
   "outputs": [],
   "cell_type": "code",
   "source": [
    "function eps_fun(δρ)\n",
    "    δV = apply_kernel(basis, δρ; ρ=scfres.ρ)\n",
    "    χ0δV = apply_χ0(scfres, δV)\n",
    "    δρ - χ0δV\n",
    "end;"
   ],
   "metadata": {},
   "execution_count": 2
  },
  {
   "cell_type": "markdown",
   "source": [
    "… eagerly diagonalizes the subspace matrix at each iteration"
   ],
   "metadata": {}
  },
  {
   "outputs": [
    {
     "name": "stdout",
     "output_type": "stream",
     "text": [
      "[ Info: Arnoldi iteration step 1: normres = 0.08474654632843664\n",
      "[ Info: Arnoldi iteration step 2: normres = 0.5746213673387883\n",
      "[ Info: Arnoldi iteration step 3: normres = 0.6658854336010491\n",
      "[ Info: Arnoldi iteration step 4: normres = 0.2659378601982471\n",
      "[ Info: Arnoldi iteration step 5: normres = 0.24946477233672626\n",
      "[ Info: Arnoldi schursolve in iter 1, krylovdim = 5: 0 values converged, normres = (6.92e-03, 3.77e-02, 1.51e-01, 1.93e-01, 2.87e-02)\n",
      "[ Info: Arnoldi iteration step 6: normres = 0.4854992749441081\n",
      "[ Info: Arnoldi schursolve in iter 1, krylovdim = 6: 0 values converged, normres = (2.44e-03, 4.05e-02, 4.68e-01, 7.77e-02, 8.69e-02)\n",
      "[ Info: Arnoldi iteration step 7: normres = 0.09647722421686772\n",
      "[ Info: Arnoldi schursolve in iter 1, krylovdim = 7: 0 values converged, normres = (1.36e-04, 9.41e-03, 4.42e-02, 2.81e-02, 6.85e-02)\n",
      "[ Info: Arnoldi iteration step 8: normres = 0.12069489595109255\n",
      "[ Info: Arnoldi schursolve in iter 1, krylovdim = 8: 0 values converged, normres = (7.13e-06, 8.11e-04, 4.25e-03, 1.14e-02, 6.26e-02)\n",
      "[ Info: Arnoldi iteration step 9: normres = 0.07382846893764534\n",
      "[ Info: Arnoldi schursolve in iter 1, krylovdim = 9: 0 values converged, normres = (2.28e-07, 4.29e-05, 2.50e-04, 3.11e-03, 3.64e-02)\n",
      "[ Info: Arnoldi iteration step 10: normres = 0.08500108277932086\n",
      "[ Info: Arnoldi schursolve in iter 1, krylovdim = 10: 0 values converged, normres = (8.42e-09, 2.61e-06, 1.69e-05, 9.16e-04, 2.20e-02)\n",
      "[ Info: Arnoldi iteration step 11: normres = 0.07634057555763865\n",
      "[ Info: Arnoldi schursolve in iter 1, krylovdim = 11: 0 values converged, normres = (2.79e-10, 1.43e-07, 1.03e-06, 2.41e-04, 1.31e-02)\n",
      "[ Info: Arnoldi iteration step 12: normres = 0.08048731420052024\n",
      "[ Info: Arnoldi schursolve in iter 1, krylovdim = 12: 0 values converged, normres = (9.65e-12, 8.10e-09, 6.47e-08, 6.11e-05, 7.03e-03)\n",
      "[ Info: Arnoldi iteration step 13: normres = 0.03804210884693701\n",
      "[ Info: Arnoldi schursolve in iter 1, krylovdim = 13: 1 values converged, normres = (1.56e-13, 2.14e-10, 1.89e-09, 6.94e-06, 1.62e-03)\n",
      "[ Info: Arnoldi iteration step 14: normres = 0.6571851985235362\n",
      "[ Info: Arnoldi schursolve in iter 1, krylovdim = 14: 1 values converged, normres = (5.57e-14, 1.50e-10, 1.56e-09, 6.55e-01, 3.05e-02)\n",
      "[ Info: Arnoldi iteration step 15: normres = 0.10521424445197185\n",
      "[ Info: Arnoldi schursolve in iter 1, krylovdim = 15: 1 values converged, normres = (4.54e-15, 1.29e-10, 7.87e-02, 3.63e-03, 3.51e-05)\n",
      "[ Info: Arnoldi iteration step 16: normres = 0.6227438088899806\n",
      "[ Info: Arnoldi schursolve in iter 1, krylovdim = 16: 1 values converged, normres = (2.17e-15, 2.31e-10, 1.41e-01, 1.50e-02, 6.00e-01)\n",
      "[ Info: Arnoldi iteration step 17: normres = 0.028165962557297183\n",
      "[ Info: Arnoldi schursolve in iter 1, krylovdim = 17: 1 values converged, normres = (3.41e-17, 9.18e-03, 3.33e-03, 8.75e-06, 9.74e-03)\n",
      "[ Info: Arnoldi iteration step 18: normres = 0.01913664981357509\n",
      "[ Info: Arnoldi schursolve in iter 1, krylovdim = 18: 1 values converged, normres = (2.69e-19, 7.65e-09, 1.23e-04, 5.11e-08, 1.35e-04)\n",
      "[ Info: Arnoldi iteration step 19: normres = 0.16046925131994297\n",
      "[ Info: Arnoldi schursolve in iter 1, krylovdim = 19: 1 values converged, normres = (1.83e-20, 8.06e-07, 1.36e-05, 5.67e-06, 1.55e-05)\n",
      "[ Info: Arnoldi iteration step 20: normres = 0.08676340977585331\n",
      "[ Info: Arnoldi schursolve in iter 1, krylovdim = 20: 1 values converged, normres = (7.66e-22, 3.12e-07, 9.66e-07, 1.10e-07, 1.40e-06)\n",
      "[ Info: Arnoldi iteration step 21: normres = 0.027633769167191534\n",
      "[ Info: Arnoldi schursolve in iter 1, krylovdim = 21: 1 values converged, normres = (8.87e-24, 1.01e-09, 1.90e-08, 1.32e-08, 2.58e-08)\n",
      "[ Info: Arnoldi iteration step 22: normres = 0.026610569282586732\n",
      "[ Info: Arnoldi schursolve in iter 1, krylovdim = 22: 1 values converged, normres = (9.68e-26, 2.40e-11, 3.29e-10, 1.81e-10, 5.25e-10)\n",
      "[ Info: Arnoldi iteration step 23: normres = 0.5819525382672507\n",
      "[ Info: Arnoldi schursolve in iter 1, krylovdim = 23: 1 values converged, normres = (3.92e-26, 2.63e-11, 3.60e-10, 2.74e-10, 7.77e-10)\n",
      "[ Info: Arnoldi iteration step 24: normres = 0.016781299920631217\n",
      "[ Info: Arnoldi schursolve in iter 1, krylovdim = 24: 1 values converged, normres = (3.70e-28, 1.09e-12, 1.50e-11, 2.43e-09, 7.60e-09)\n",
      "[ Info: Arnoldi iteration step 25: normres = 0.06419711410573747\n",
      "[ Info: Arnoldi schursolve in iter 1, krylovdim = 25: 3 values converged, normres = (9.81e-30, 4.64e-14, 6.36e-13, 4.04e-07, 1.95e-07)\n",
      "[ Info: Arnoldi iteration step 26: normres = 0.04891334813661491\n",
      "[ Info: Arnoldi schursolve in iter 1, krylovdim = 26: 3 values converged, normres = (2.17e-31, 1.73e-15, 2.38e-14, 2.55e-06, 2.95e-06)\n",
      "[ Info: Arnoldi iteration step 27: normres = 0.04067784943735015\n",
      "[ Info: Arnoldi schursolve in iter 1, krylovdim = 27: 3 values converged, normres = (3.64e-33, 4.65e-17, 6.38e-16, 3.39e-07, 2.79e-07)\n",
      "[ Info: Arnoldi iteration step 28: normres = 0.07060926025679529\n",
      "[ Info: Arnoldi schursolve in iter 1, krylovdim = 28: 3 values converged, normres = (1.13e-34, 2.40e-18, 3.30e-17, 2.67e-08, 1.64e-09)\n",
      "[ Info: Arnoldi iteration step 29: normres = 0.07274774449550524\n",
      "[ Info: Arnoldi schursolve in iter 1, krylovdim = 29: 3 values converged, normres = (3.43e-36, 1.18e-19, 1.61e-18, 1.13e-10, 1.36e-09)\n",
      "[ Info: Arnoldi iteration step 30: normres = 0.06955565938112773\n",
      "[ Info: Arnoldi schursolve in iter 1, krylovdim = 30: 3 values converged, normres = (1.18e-37, 7.32e-21, 1.00e-19, 8.19e-12, 9.71e-11)\n",
      "[ Info: Arnoldi schursolve in iter 2, krylovdim = 19: 3 values converged, normres = (1.18e-37, 7.32e-21, 1.00e-19, 8.19e-12, 9.71e-11)\n",
      "[ Info: Arnoldi iteration step 20: normres = 0.03423642236373052\n",
      "[ Info: Arnoldi schursolve in iter 2, krylovdim = 20: 4 values converged, normres = (1.67e-39, 1.67e-22, 2.29e-21, 2.06e-13, 2.44e-12)\n",
      "[ Info: Arnoldi iteration step 21: normres = 0.07503745090065808\n",
      "┌ Info: Arnoldi eigsolve finished after 2 iterations:\n",
      "│ *  6 eigenvalues converged\n",
      "│ *  norm of residuals = (5.336243119995702e-41, 8.648422787985402e-24, 1.186261752209417e-22, 1.1828762821212743e-14, 1.3421661279642893e-13, 5.1678349467229794e-14)\n",
      "└ *  number of operations = 32\n"
     ]
    }
   ],
   "cell_type": "code",
   "source": [
    "eigsolve(eps_fun, randn(size(scfres.ρ)), 5, :LM; eager=true, verbosity=3);"
   ],
   "metadata": {},
   "execution_count": 3
  }
 ],
 "nbformat_minor": 3,
 "metadata": {
  "language_info": {
   "file_extension": ".jl",
   "mimetype": "application/julia",
   "name": "julia",
   "version": "1.8.2"
  },
  "kernelspec": {
   "name": "julia-1.8",
   "display_name": "Julia 1.8.2",
   "language": "julia"
  }
 },
 "nbformat": 4
}
