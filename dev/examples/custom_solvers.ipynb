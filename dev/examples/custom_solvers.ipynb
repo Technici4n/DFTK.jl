{
 "cells": [
  {
   "cell_type": "markdown",
   "source": [
    "# Custom solvers\n",
    "In this example, we show how to define custom solvers. Our system\n",
    "will again be silicon, because we are not very imaginative"
   ],
   "metadata": {}
  },
  {
   "outputs": [],
   "cell_type": "code",
   "source": [
    "using DFTK, LinearAlgebra\n",
    "\n",
    "a = 10.26\n",
    "lattice = a / 2 * [[0 1 1.];\n",
    "                   [1 0 1.];\n",
    "                   [1 1 0.]]\n",
    "Si = ElementPsp(:Si, psp=load_psp(\"hgh/lda/Si-q4\"))\n",
    "atoms = [Si, Si]\n",
    "positions =  [ones(3)/8, -ones(3)/8]\n",
    "\n",
    "# We take very (very) crude parameters\n",
    "model = model_LDA(lattice, atoms, positions)\n",
    "basis = PlaneWaveBasis(model; Ecut=5, kgrid=[1, 1, 1]);"
   ],
   "metadata": {},
   "execution_count": 1
  },
  {
   "cell_type": "markdown",
   "source": [
    "We define our custom fix-point solver: simply a damped fixed-point"
   ],
   "metadata": {}
  },
  {
   "outputs": [],
   "cell_type": "code",
   "source": [
    "function my_fp_solver(f, x0, max_iter; tol)\n",
    "    mixing_factor = .7\n",
    "    x = x0\n",
    "    fx = f(x)\n",
    "    for n = 1:max_iter\n",
    "        inc = fx - x\n",
    "        if norm(inc) < tol\n",
    "            break\n",
    "        end\n",
    "        x = x + mixing_factor * inc\n",
    "        fx = f(x)\n",
    "    end\n",
    "    (fixpoint=x, converged=norm(fx-x) < tol)\n",
    "end;"
   ],
   "metadata": {},
   "execution_count": 2
  },
  {
   "cell_type": "markdown",
   "source": [
    "Our eigenvalue solver just forms the dense matrix and diagonalizes\n",
    "it explicitly (this only works for very small systems)"
   ],
   "metadata": {}
  },
  {
   "outputs": [],
   "cell_type": "code",
   "source": [
    "function my_eig_solver(A, X0; maxiter, tol, kwargs...)\n",
    "    n = size(X0, 2)\n",
    "    A = Array(A)\n",
    "    E = eigen(A)\n",
    "    λ = E.values[1:n]\n",
    "    X = E.vectors[:, 1:n]\n",
    "    (; λ, X, residual_norms=[], iterations=0, converged=true, n_matvec=0)\n",
    "end;"
   ],
   "metadata": {},
   "execution_count": 3
  },
  {
   "cell_type": "markdown",
   "source": [
    "Finally we also define our custom mixing scheme. It will be a mixture\n",
    "of simple mixing (for the first 2 steps) and than default to Kerker mixing.\n",
    "In the mixing interface `δF` is $(ρ_\\text{out} - ρ_\\text{in})$, i.e.\n",
    "the difference in density between two subsequent SCF steps and the `mix`\n",
    "function returns $δρ$, which is added to $ρ_\\text{in}$ to yield $ρ_\\text{next}$,\n",
    "the density for the next SCF step."
   ],
   "metadata": {}
  },
  {
   "outputs": [],
   "cell_type": "code",
   "source": [
    "struct MyMixing\n",
    "    n_simple  # Number of iterations for simple mixing\n",
    "end\n",
    "MyMixing() = MyMixing(2)\n",
    "\n",
    "function DFTK.mix_density(mixing::MyMixing, basis, δF; n_iter, kwargs...)\n",
    "    if n_iter <= mixing.n_simple\n",
    "        return δF  # Simple mixing -> Do not modify update at all\n",
    "    else\n",
    "        # Use the default KerkerMixing from DFTK\n",
    "        DFTK.mix_density(KerkerMixing(), basis, δF; kwargs...)\n",
    "    end\n",
    "end"
   ],
   "metadata": {},
   "execution_count": 4
  },
  {
   "cell_type": "markdown",
   "source": [
    "That's it! Now we just run the SCF with these solvers"
   ],
   "metadata": {}
  },
  {
   "outputs": [
    {
     "name": "stdout",
     "output_type": "stream",
     "text": [
      "n     Energy            log10(ΔE)   log10(Δρ)   Diag   Δtime\n",
      "---   ---------------   ---------   ---------   ----   ------\n",
      "  1   -7.216581075811                   -0.47    0.0         \n",
      "  2   -7.246549399868       -1.52       -0.85    0.0    600ms\n",
      "  3   -7.251006610304       -2.35       -1.29    0.0    181ms\n",
      "  4   -7.251258709952       -3.60       -1.60    0.0   85.6ms\n",
      "  5   -7.251318976989       -4.22       -1.90    0.0   84.6ms\n",
      "  6   -7.251333669324       -4.83       -2.20    0.0   84.8ms\n",
      "  7   -7.251337397659       -5.43       -2.48    0.0   84.4ms\n",
      "  8   -7.251338393932       -6.00       -2.76    0.0    188ms\n",
      "  9   -7.251338675504       -6.55       -3.04    0.0   84.1ms\n",
      " 10   -7.251338759506       -7.08       -3.30    0.0   85.9ms\n",
      " 11   -7.251338785787       -7.58       -3.56    0.0   86.4ms\n",
      " 12   -7.251338794333       -8.07       -3.81    0.0   87.4ms\n",
      " 13   -7.251338797196       -8.54       -4.05    0.0   86.2ms\n",
      " 14   -7.251338798177       -9.01       -4.29    0.0    176ms\n",
      " 15   -7.251338798518       -9.47       -4.53    0.0   84.0ms\n",
      " 16   -7.251338798638       -9.92       -4.76    0.0   83.6ms\n",
      " 17   -7.251338798681      -10.37       -4.99    0.0   87.2ms\n",
      " 18   -7.251338798696      -10.82       -5.22    0.0   88.9ms\n",
      " 19   -7.251338798702      -11.27       -5.45    0.0    161ms\n",
      " 20   -7.251338798703      -11.71       -5.68    0.0   84.6ms\n",
      " 21   -7.251338798704      -12.16       -5.90    0.0   85.4ms\n",
      " 22   -7.251338798704      -12.59       -6.13    0.0   84.9ms\n",
      " 23   -7.251338798704      -13.05       -6.35    0.0   85.7ms\n",
      " 24   -7.251338798705      -13.48       -6.58    0.0    162ms\n",
      " 25   -7.251338798705      -13.94       -6.80    0.0   85.9ms\n",
      " 26   -7.251338798705      -14.45       -7.01    0.0   85.2ms\n",
      " 27   -7.251338798705   +  -14.45       -7.11    0.0   87.1ms\n",
      " 28   -7.251338798705      -14.27       -7.31    0.0   83.9ms\n",
      " 29   -7.251338798705   +  -15.05       -7.54    0.0    165ms\n",
      " 30   -7.251338798705   +  -15.05       -7.44    0.0   86.9ms\n",
      " 31   -7.251338798705      -14.75       -7.63    0.0   87.8ms\n",
      " 32   -7.251338798705   +  -14.75       -7.47    0.0   85.3ms\n",
      " 33   -7.251338798705      -14.75       -7.68    0.0   86.1ms\n",
      " 34   -7.251338798705   +  -14.75       -7.74    0.0   85.2ms\n",
      " 35   -7.251338798705   +  -14.45       -7.37    0.0    163ms\n",
      " 36   -7.251338798705      -14.27       -7.59    0.0   86.7ms\n",
      " 37   -7.251338798705      -15.05       -7.72    0.0   86.5ms\n",
      " 38   -7.251338798705   +  -14.57       -7.59    0.0   87.3ms\n",
      " 39   -7.251338798705   +  -15.05       -7.85    0.0   88.1ms\n",
      " 40   -7.251338798705   +  -14.75       -7.33    0.0    166ms\n",
      " 41   -7.251338798705      -14.57       -7.52    0.0   85.2ms\n",
      " 42   -7.251338798705      -14.75       -7.56    0.0   84.6ms\n",
      " 43   -7.251338798705      -15.05       -7.74    0.0   86.7ms\n",
      " 44   -7.251338798705   +  -15.05       -7.62    0.0   85.9ms\n",
      " 45   -7.251338798705   +  -14.75       -7.56    0.0    161ms\n",
      " 46   -7.251338798705   +  -14.75       -7.56    0.0   85.4ms\n",
      " 47   -7.251338798705      -14.57       -7.68    0.0   87.8ms\n",
      " 48   -7.251338798705   +  -15.05       -7.59    0.0   90.6ms\n",
      " 49   -7.251338798705      -15.05       -7.83    0.0   88.5ms\n",
      " 50   -7.251338798705      -15.05       -7.66    0.0    167ms\n",
      " 51   -7.251338798705   +  -15.05       -7.55    0.0   86.4ms\n",
      " 52   -7.251338798705      -14.57       -7.68    0.0   87.1ms\n",
      " 53   -7.251338798705   +  -14.45       -7.64    0.0   86.2ms\n",
      " 54   -7.251338798705   +  -15.05       -7.45    0.0   89.0ms\n",
      " 55   -7.251338798705      -14.21       -7.66    0.0   82.3ms\n",
      " 56   -7.251338798705   +  -14.75       -7.83    0.0    159ms\n",
      " 57   -7.251338798705   +  -14.27       -7.52    0.0   84.6ms\n",
      " 58   -7.251338798705      -14.45       -7.50    0.0   88.2ms\n",
      " 59   -7.251338798705      -14.75       -7.76    0.0   88.8ms\n",
      " 60   -7.251338798705   +  -14.35       -7.51    0.0   88.0ms\n",
      " 61   -7.251338798705   +  -14.57       -7.22    0.0    163ms\n",
      " 62   -7.251338798705      -14.21       -7.46    0.0   84.3ms\n",
      " 63   -7.251338798705   +  -14.35       -7.38    0.0   84.9ms\n",
      " 64   -7.251338798705      -14.35       -7.60    0.0   85.3ms\n",
      " 65   -7.251338798705   +  -14.57       -7.88    0.0   85.3ms\n",
      " 66   -7.251338798705   +  -13.69       -6.93    0.0    163ms\n",
      " 67   -7.251338798705      -13.69       -7.19    0.0   86.8ms\n",
      " 68   -7.251338798705      -14.57       -7.49    0.0   89.4ms\n",
      " 69   -7.251338798705   +  -14.57       -7.79    0.0   85.8ms\n",
      " 70   -7.251338798705   +  -14.10       -7.19    0.0   86.5ms\n",
      " 71   -7.251338798705      -14.01       -7.42    0.0    162ms\n",
      " 72   -7.251338798705   +    -Inf       -7.78    0.0   83.6ms\n",
      " 73   -7.251338798705   +  -14.75       -7.62    0.0   87.0ms\n",
      " 74   -7.251338798705   +    -Inf       -7.43    0.0   87.7ms\n",
      " 75   -7.251338798705      -14.45       -7.58    0.0   88.4ms\n",
      " 76   -7.251338798705   +  -14.75       -7.82    0.0   88.1ms\n",
      " 77   -7.251338798705   +  -13.80       -7.07    0.0    163ms\n",
      " 78   -7.251338798705      -13.82       -7.31    0.0   85.1ms\n",
      " 79   -7.251338798705   +  -15.05       -7.62    0.0   86.7ms\n",
      " 80   -7.251338798705      -14.75       -7.37    0.0   87.0ms\n",
      " 81   -7.251338798705   +  -15.05       -7.59    0.0   86.5ms\n",
      " 82   -7.251338798705   +    -Inf       -7.70    0.0    165ms\n",
      " 83   -7.251338798705   +  -15.05       -7.69    0.0   87.5ms\n",
      " 84   -7.251338798705   +  -14.57       -7.45    0.0   88.3ms\n",
      " 85   -7.251338798705      -14.21       -7.65    0.0   88.2ms\n",
      " 86   -7.251338798705   +  -14.27       -7.33    0.0   88.8ms\n",
      " 87   -7.251338798705      -14.57       -7.59    0.0    166ms\n",
      " 88   -7.251338798705   +    -Inf       -7.80    0.0   86.0ms\n",
      " 89   -7.251338798705      -15.05       -7.99    0.0   85.3ms\n",
      " 90   -7.251338798705   +  -14.75       -7.42    0.0   84.3ms\n",
      " 91   -7.251338798705      -14.45       -7.60    0.0   85.3ms\n",
      " 92   -7.251338798705   +    -Inf       -7.60    0.0    166ms\n",
      " 93   -7.251338798705   +  -14.57       -7.76    0.0   84.8ms\n",
      " 94   -7.251338798705      -15.05       -7.89    0.0   84.4ms\n",
      " 95   -7.251338798705   +  -14.15       -7.21    0.0   87.3ms\n",
      " 96   -7.251338798705      -14.15       -7.43    0.0   87.7ms\n",
      " 97   -7.251338798705   +  -14.75       -7.71    0.0   91.1ms\n",
      " 98   -7.251338798705      -15.05       -7.46    0.0    164ms\n",
      " 99   -7.251338798705      -15.05       -7.70    0.0   90.3ms\n",
      " 100   -7.251338798705      -14.75       -7.55    0.0   87.0ms\n",
      " 101   -7.251338798705   +  -14.35       -7.48    0.0   86.2ms\n",
      "┌ Warning: SCF not converged.\n",
      "└ @ DFTK ~/work/DFTK.jl/DFTK.jl/src/scf/scf_callbacks.jl:38\n"
     ]
    }
   ],
   "cell_type": "code",
   "source": [
    "scfres = self_consistent_field(basis;\n",
    "                               tol=1e-8,\n",
    "                               solver=my_fp_solver,\n",
    "                               eigensolver=my_eig_solver,\n",
    "                               mixing=MyMixing());"
   ],
   "metadata": {},
   "execution_count": 5
  },
  {
   "cell_type": "markdown",
   "source": [
    "Note that the default convergence criterion is the difference in\n",
    "density. When this gets below `tol`, the\n",
    "\"driver\" `self_consistent_field` artificially makes the fixed-point\n",
    "solver think it's converged by forcing `f(x) = x`. You can customize\n",
    "this with the `is_converged` keyword argument to\n",
    "`self_consistent_field`."
   ],
   "metadata": {}
  }
 ],
 "nbformat_minor": 3,
 "metadata": {
  "language_info": {
   "file_extension": ".jl",
   "mimetype": "application/julia",
   "name": "julia",
   "version": "1.8.5"
  },
  "kernelspec": {
   "name": "julia-1.8",
   "display_name": "Julia 1.8.5",
   "language": "julia"
  }
 },
 "nbformat": 4
}
