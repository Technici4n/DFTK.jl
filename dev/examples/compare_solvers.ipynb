{
 "cells": [
  {
   "cell_type": "markdown",
   "source": [
    "# Comparison of DFT solvers"
   ],
   "metadata": {}
  },
  {
   "cell_type": "markdown",
   "source": [
    "We compare four different approaches for solving the DFT minimisation problem,\n",
    "namely a density-based SCF, a potential-based SCF, direct minimisation and Newton."
   ],
   "metadata": {}
  },
  {
   "cell_type": "markdown",
   "source": [
    "First we setup our problem"
   ],
   "metadata": {}
  },
  {
   "outputs": [],
   "cell_type": "code",
   "source": [
    "using DFTK\n",
    "using LinearAlgebra\n",
    "\n",
    "a = 10.26  # Silicon lattice constant in Bohr\n",
    "lattice = a / 2 * [[0 1 1.];\n",
    "                   [1 0 1.];\n",
    "                   [1 1 0.]]\n",
    "Si = ElementPsp(:Si, psp=load_psp(\"hgh/lda/Si-q4\"))\n",
    "atoms     = [Si, Si]\n",
    "positions = [ones(3)/8, -ones(3)/8]\n",
    "\n",
    "model = model_LDA(lattice, atoms, positions)\n",
    "basis = PlaneWaveBasis(model; Ecut=5, kgrid=[3, 3, 3])\n",
    "\n",
    "# Convergence we desire\n",
    "tol = 1e-12\n",
    "is_converged = DFTK.ScfConvergenceDensity(tol);"
   ],
   "metadata": {},
   "execution_count": 1
  },
  {
   "cell_type": "markdown",
   "source": [
    "## Density-based self-consistent field"
   ],
   "metadata": {}
  },
  {
   "outputs": [
    {
     "name": "stdout",
     "output_type": "stream",
     "text": [
      "n     Energy            log10(ΔE)   log10(Δρ)   Diag\n",
      "---   ---------------   ---------   ---------   ----\n",
      "  1   -7.846832256807                   -0.70    4.5\n",
      "  2   -7.852326789838       -2.26       -1.53    1.0\n",
      "  3   -7.852646028740       -3.50       -2.52    3.0\n",
      "  4   -7.852646676655       -6.19       -3.36    2.2\n",
      "  5   -7.852646685804       -8.04       -4.79    1.2\n",
      "  6   -7.852646686725       -9.04       -5.17    4.2\n",
      "  7   -7.852646686729      -11.35       -5.83    2.0\n",
      "  8   -7.852646686730      -12.37       -7.31    2.0\n",
      "  9   -7.852646686730   +  -14.75       -7.92    2.8\n",
      " 10   -7.852646686730      -14.75       -8.66    2.0\n",
      " 11   -7.852646686730   +    -Inf       -9.14    1.0\n",
      " 12   -7.852646686730      -14.75      -10.48    3.0\n",
      " 13   -7.852646686730   +  -14.35      -11.66    2.2\n",
      " 14   -7.852646686730      -14.35      -11.67    1.2\n",
      " 15   -7.852646686730   +    -Inf      -12.93    2.5\n"
     ]
    }
   ],
   "cell_type": "code",
   "source": [
    "scfres_scf = self_consistent_field(basis; is_converged);"
   ],
   "metadata": {},
   "execution_count": 2
  },
  {
   "cell_type": "markdown",
   "source": [
    "## Potential-based SCF"
   ],
   "metadata": {}
  },
  {
   "outputs": [
    {
     "name": "stdout",
     "output_type": "stream",
     "text": [
      "n     Energy            log10(ΔE)   log10(Δρ)   α      Diag\n",
      "---   ---------------   ---------   ---------   ----   ----\n",
      "  1   -7.846820022777                   -0.70           4.8\n",
      "  2   -7.852526806182       -2.24       -1.63   0.80    2.0\n",
      "  3   -7.852636745594       -3.96       -2.72   0.80    1.0\n",
      "  4   -7.852646517437       -5.01       -3.29   0.80    2.2\n",
      "  5   -7.852646682965       -6.78       -4.15   0.80    1.2\n",
      "  6   -7.852646686420       -8.46       -4.90   0.80    1.2\n",
      "  7   -7.852646686724       -9.52       -5.83   0.80    2.0\n",
      "  8   -7.852646686730      -11.24       -6.71   0.80    2.0\n",
      "  9   -7.852646686730      -12.81       -7.56   0.80    2.5\n",
      " 10   -7.852646686730   +  -15.05       -8.37   0.80    1.8\n",
      " 11   -7.852646686730      -15.05       -8.41   0.80    2.2\n",
      " 12   -7.852646686730   +    -Inf      -10.01   0.80    1.0\n",
      " 13   -7.852646686730   +    -Inf      -10.62   0.80    2.8\n",
      " 14   -7.852646686730      -14.75      -11.05   0.80    1.2\n",
      " 15   -7.852646686730   +  -14.75      -11.59   0.80    1.8\n",
      " 16   -7.852646686730   +    -Inf      -12.11   0.80    1.8\n"
     ]
    }
   ],
   "cell_type": "code",
   "source": [
    "scfres_scfv = DFTK.scf_potential_mixing(basis; is_converged);"
   ],
   "metadata": {},
   "execution_count": 3
  },
  {
   "cell_type": "markdown",
   "source": [
    "## Direct minimization"
   ],
   "metadata": {}
  },
  {
   "outputs": [
    {
     "name": "stdout",
     "output_type": "stream",
     "text": [
      "Iter     Function value   Gradient norm \n",
      "     0     1.399177e+01     4.253909e+00\n",
      " * time: 0.40346503257751465\n",
      "     1     1.381368e+00     1.949028e+00\n",
      " * time: 0.6069169044494629\n",
      "     2    -1.451453e+00     2.406721e+00\n",
      " * time: 0.631119966506958\n",
      "     3    -3.521434e+00     1.916651e+00\n",
      " * time: 0.6665189266204834\n",
      "     4    -4.783729e+00     1.842281e+00\n",
      " * time: 0.7024519443511963\n",
      "     5    -6.556500e+00     1.027800e+00\n",
      " * time: 0.738663911819458\n",
      "     6    -7.302109e+00     5.114658e-01\n",
      " * time: 0.7741148471832275\n",
      "     7    -7.589990e+00     4.196157e-01\n",
      " * time: 0.7984328269958496\n",
      "     8    -7.704515e+00     1.742432e-01\n",
      " * time: 0.8227479457855225\n",
      "     9    -7.780402e+00     1.913568e-01\n",
      " * time: 0.8469409942626953\n",
      "    10    -7.813197e+00     7.128470e-02\n",
      " * time: 0.8712449073791504\n",
      "    11    -7.834465e+00     7.093862e-02\n",
      " * time: 0.8954908847808838\n",
      "    12    -7.844443e+00     5.368028e-02\n",
      " * time: 0.919625997543335\n",
      "    13    -7.847666e+00     3.707026e-02\n",
      " * time: 0.9437918663024902\n",
      "    14    -7.850008e+00     2.556661e-02\n",
      " * time: 1.0157179832458496\n",
      "    15    -7.851624e+00     1.315357e-02\n",
      " * time: 1.0398259162902832\n",
      "    16    -7.852304e+00     1.291113e-02\n",
      " * time: 1.0638468265533447\n",
      "    17    -7.852525e+00     8.671478e-03\n",
      " * time: 1.0880048274993896\n",
      "    18    -7.852607e+00     2.566908e-03\n",
      " * time: 1.1123368740081787\n",
      "    19    -7.852634e+00     1.947962e-03\n",
      " * time: 1.1363499164581299\n",
      "    20    -7.852641e+00     1.408598e-03\n",
      " * time: 1.1603610515594482\n",
      "    21    -7.852645e+00     7.948559e-04\n",
      " * time: 1.1844940185546875\n",
      "    22    -7.852646e+00     5.061030e-04\n",
      " * time: 1.2086889743804932\n",
      "    23    -7.852646e+00     2.556597e-04\n",
      " * time: 1.2329528331756592\n",
      "    24    -7.852647e+00     1.420466e-04\n",
      " * time: 1.2574028968811035\n",
      "    25    -7.852647e+00     9.167942e-05\n",
      " * time: 1.281615972518921\n",
      "    26    -7.852647e+00     7.438694e-05\n",
      " * time: 1.3057448863983154\n",
      "    27    -7.852647e+00     5.071673e-05\n",
      " * time: 1.3297638893127441\n",
      "    28    -7.852647e+00     2.461591e-05\n",
      " * time: 1.3541648387908936\n",
      "    29    -7.852647e+00     1.092126e-05\n",
      " * time: 1.3782408237457275\n",
      "    30    -7.852647e+00     7.246157e-06\n",
      " * time: 1.4024598598480225\n",
      "    31    -7.852647e+00     7.233455e-06\n",
      " * time: 1.4267768859863281\n",
      "    32    -7.852647e+00     3.502349e-06\n",
      " * time: 1.4510929584503174\n",
      "    33    -7.852647e+00     1.812670e-06\n",
      " * time: 1.475329875946045\n",
      "    34    -7.852647e+00     1.572349e-06\n",
      " * time: 1.4994988441467285\n",
      "    35    -7.852647e+00     7.719296e-07\n",
      " * time: 1.523634910583496\n",
      "    36    -7.852647e+00     2.543027e-07\n",
      " * time: 1.5478160381317139\n",
      "    37    -7.852647e+00     1.825230e-07\n",
      " * time: 1.5720808506011963\n",
      "    38    -7.852647e+00     1.234127e-07\n",
      " * time: 1.596221923828125\n",
      "    39    -7.852647e+00     8.917169e-08\n",
      " * time: 1.620405912399292\n",
      "    40    -7.852647e+00     4.230920e-08\n",
      " * time: 1.6448848247528076\n",
      "    41    -7.852647e+00     2.808750e-08\n",
      " * time: 1.669217824935913\n",
      "    42    -7.852647e+00     2.017561e-08\n",
      " * time: 1.6935930252075195\n",
      "    43    -7.852647e+00     1.508720e-08\n",
      " * time: 1.7291288375854492\n",
      "    44    -7.852647e+00     1.394590e-08\n",
      " * time: 1.753307819366455\n",
      "    45    -7.852647e+00     1.430664e-08\n",
      " * time: 1.7774009704589844\n",
      "    46    -7.852647e+00     1.265831e-08\n",
      " * time: 1.8128619194030762\n",
      "    47    -7.852647e+00     1.249911e-08\n",
      " * time: 1.8594999313354492\n"
     ]
    }
   ],
   "cell_type": "code",
   "source": [
    "scfres_dm = direct_minimization(basis; tol);"
   ],
   "metadata": {},
   "execution_count": 4
  },
  {
   "cell_type": "markdown",
   "source": [
    "## Newton algorithm"
   ],
   "metadata": {}
  },
  {
   "cell_type": "markdown",
   "source": [
    "Start not too far from the solution to ensure convergence:\n",
    "We run first a very crude SCF to get close and then switch to Newton."
   ],
   "metadata": {}
  },
  {
   "outputs": [
    {
     "name": "stdout",
     "output_type": "stream",
     "text": [
      "n     Energy            log10(ΔE)   log10(Δρ)   Diag\n",
      "---   ---------------   ---------   ---------   ----\n",
      "  1   -7.846681515229                   -0.70    4.5\n",
      "  2   -7.852294638446       -2.25       -1.53    1.0\n"
     ]
    }
   ],
   "cell_type": "code",
   "source": [
    "scfres_start = self_consistent_field(basis; tol=1e-1);"
   ],
   "metadata": {},
   "execution_count": 5
  },
  {
   "cell_type": "markdown",
   "source": [
    "Remove the virtual orbitals (which Newton cannot treat yet)"
   ],
   "metadata": {}
  },
  {
   "outputs": [
    {
     "name": "stdout",
     "output_type": "stream",
     "text": [
      "n     Energy            log10(ΔE)   log10(Δρ)\n",
      "---   ---------------   ---------   ---------\n",
      "  1   -7.852646686709                   -2.54\n",
      "  2   -7.852646686730      -10.67       -5.94\n",
      "  3   -7.852646686730   +  -14.75      -12.85\n"
     ]
    }
   ],
   "cell_type": "code",
   "source": [
    "ψ, _ = DFTK.select_occupied_orbitals(basis, scfres_start.ψ, scfres_start.occupation)\n",
    "scfres_newton = newton(basis, ψ; tol);"
   ],
   "metadata": {},
   "execution_count": 6
  },
  {
   "cell_type": "markdown",
   "source": [
    "## Comparison of results"
   ],
   "metadata": {}
  },
  {
   "outputs": [
    {
     "name": "stdout",
     "output_type": "stream",
     "text": [
      "|ρ_newton - ρ_scf|  = 1.0221261220441639e-13\n",
      "|ρ_newton - ρ_scfv| = 2.7143195103018e-13\n",
      "|ρ_newton - ρ_dm|   = 3.072497108365577e-10\n"
     ]
    }
   ],
   "cell_type": "code",
   "source": [
    "println(\"|ρ_newton - ρ_scf|  = \", norm(scfres_newton.ρ - scfres_scf.ρ))\n",
    "println(\"|ρ_newton - ρ_scfv| = \", norm(scfres_newton.ρ - scfres_scfv.ρ))\n",
    "println(\"|ρ_newton - ρ_dm|   = \", norm(scfres_newton.ρ - scfres_dm.ρ))"
   ],
   "metadata": {},
   "execution_count": 7
  }
 ],
 "nbformat_minor": 3,
 "metadata": {
  "language_info": {
   "file_extension": ".jl",
   "mimetype": "application/julia",
   "name": "julia",
   "version": "1.8.2"
  },
  "kernelspec": {
   "name": "julia-1.8",
   "display_name": "Julia 1.8.2",
   "language": "julia"
  }
 },
 "nbformat": 4
}
