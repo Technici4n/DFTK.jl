{
 "cells": [
  {
   "cell_type": "markdown",
   "source": [
    "# Comparison of DFT solvers"
   ],
   "metadata": {}
  },
  {
   "cell_type": "markdown",
   "source": [
    "We compare four different approaches for solving the DFT minimisation problem,\n",
    "namely a density-based SCF, a potential-based SCF, direct minimisation and Newton."
   ],
   "metadata": {}
  },
  {
   "cell_type": "markdown",
   "source": [
    "First we setup our problem"
   ],
   "metadata": {}
  },
  {
   "outputs": [],
   "cell_type": "code",
   "source": [
    "using DFTK\n",
    "using LinearAlgebra\n",
    "\n",
    "a = 10.26  # Silicon lattice constant in Bohr\n",
    "lattice = a / 2 * [[0 1 1.];\n",
    "                   [1 0 1.];\n",
    "                   [1 1 0.]]\n",
    "Si = ElementPsp(:Si, psp=load_psp(\"hgh/lda/Si-q4\"))\n",
    "atoms     = [Si, Si]\n",
    "positions = [ones(3)/8, -ones(3)/8]\n",
    "\n",
    "model = model_LDA(lattice, atoms, positions)\n",
    "basis = PlaneWaveBasis(model; Ecut=5, kgrid=[3, 3, 3])\n",
    "\n",
    "# Convergence we desire\n",
    "tol = 1e-12\n",
    "is_converged = DFTK.ScfConvergenceDensity(tol);"
   ],
   "metadata": {},
   "execution_count": 1
  },
  {
   "cell_type": "markdown",
   "source": [
    "## Density-based self-consistent field"
   ],
   "metadata": {}
  },
  {
   "outputs": [
    {
     "name": "stdout",
     "output_type": "stream",
     "text": [
      "n     Energy            log10(ΔE)   log10(Δρ)   Diag\n",
      "---   ---------------   ---------   ---------   ----\n",
      "  1   -7.846811348943                   -0.70    4.5\n",
      "  2   -7.852317246313       -2.26       -1.53    1.0\n",
      "  3   -7.852646235757       -3.48       -2.52    3.2\n",
      "  4   -7.852646677360       -6.35       -3.36    2.2\n",
      "  5   -7.852646685960       -8.07       -4.73    1.2\n",
      "  6   -7.852646686724       -9.12       -5.29    3.5\n",
      "  7   -7.852646686730      -11.27       -6.12    1.5\n",
      "  8   -7.852646686730      -12.67       -7.63    2.2\n",
      "  9   -7.852646686730      -14.57       -7.68    2.8\n",
      " 10   -7.852646686730      -14.75       -8.82    2.0\n",
      " 11   -7.852646686730   +  -14.45       -9.68    2.5\n",
      " 12   -7.852646686730      -15.05      -10.83    2.0\n",
      " 13   -7.852646686730   +  -14.57       -9.23    2.0\n",
      " 14   -7.852646686730      -14.45       -9.16    1.0\n",
      " 15   -7.852646686730   +    -Inf       -9.33    1.5\n",
      " 16   -7.852646686730   +    -Inf       -9.19    1.0\n",
      " 17   -7.852646686730   +  -15.05       -9.48    1.0\n",
      " 18   -7.852646686730   +    -Inf       -9.62    1.5\n",
      " 19   -7.852646686730   +  -15.05      -10.50    1.5\n",
      " 20   -7.852646686730      -14.75      -10.79    1.0\n",
      " 21   -7.852646686730   +  -15.05      -11.09    1.2\n",
      " 22   -7.852646686730   +  -14.57      -11.35    1.0\n",
      " 23   -7.852646686730      -14.75      -12.86    2.0\n"
     ]
    }
   ],
   "cell_type": "code",
   "source": [
    "scfres_scf = self_consistent_field(basis; is_converged);"
   ],
   "metadata": {},
   "execution_count": 2
  },
  {
   "cell_type": "markdown",
   "source": [
    "## Potential-based SCF"
   ],
   "metadata": {}
  },
  {
   "outputs": [
    {
     "name": "stdout",
     "output_type": "stream",
     "text": [
      "n     Energy            log10(ΔE)   log10(Δρ)   α      Diag\n",
      "---   ---------------   ---------   ---------   ----   ----\n",
      "  1   -7.846664795064                   -0.70           4.5\n",
      "  2   -7.852527149566       -2.23       -1.63   0.80    2.5\n",
      "  3   -7.852636767246       -3.96       -2.72   0.80    1.0\n",
      "  4   -7.852646455729       -5.01       -3.28   0.80    2.0\n",
      "  5   -7.852646682427       -6.64       -4.12   0.80    1.5\n",
      "  6   -7.852646686485       -8.39       -4.82   0.80    1.5\n",
      "  7   -7.852646686724       -9.62       -5.69   0.80    2.0\n",
      "  8   -7.852646686730      -11.26       -6.56   0.80    1.8\n",
      "  9   -7.852646686730      -12.61       -7.40   0.80    2.2\n",
      " 10   -7.852646686730      -14.21       -8.22   0.80    2.0\n",
      " 11   -7.852646686730      -15.05       -8.91   0.80    1.8\n",
      " 12   -7.852646686730   +  -15.05       -9.60   0.80    1.8\n",
      " 13   -7.852646686730   +    -Inf      -10.65   0.80    2.2\n",
      " 14   -7.852646686730      -14.75      -11.19   0.80    2.2\n",
      " 15   -7.852646686730   +  -14.45      -12.51   0.80    1.5\n"
     ]
    }
   ],
   "cell_type": "code",
   "source": [
    "scfres_scfv = DFTK.scf_potential_mixing(basis; is_converged);"
   ],
   "metadata": {},
   "execution_count": 3
  },
  {
   "cell_type": "markdown",
   "source": [
    "## Direct minimization"
   ],
   "metadata": {}
  },
  {
   "outputs": [
    {
     "name": "stdout",
     "output_type": "stream",
     "text": [
      "Iter     Function value   Gradient norm \n",
      "     0     1.349417e+01     2.967531e+00\n",
      " * time: 0.4081261157989502\n",
      "     1     1.562719e+00     1.707101e+00\n",
      " * time: 0.5993249416351318\n",
      "     2    -8.690380e-01     2.044256e+00\n",
      " * time: 0.6226100921630859\n",
      "     3    -3.538632e+00     1.768261e+00\n",
      " * time: 0.6560511589050293\n",
      "     4    -4.606056e+00     1.854989e+00\n",
      " * time: 0.689439058303833\n",
      "     5    -6.562587e+00     1.075181e+00\n",
      " * time: 0.7228760719299316\n",
      "     6    -7.353597e+00     4.251942e-01\n",
      " * time: 0.7564489841461182\n",
      "     7    -7.621370e+00     1.622429e-01\n",
      " * time: 0.7797400951385498\n",
      "     8    -7.709872e+00     1.991716e-01\n",
      " * time: 0.867401123046875\n",
      "     9    -7.757860e+00     1.016335e-01\n",
      " * time: 0.8910989761352539\n",
      "    10    -7.785570e+00     8.226029e-02\n",
      " * time: 0.9148681163787842\n",
      "    11    -7.805619e+00     7.546933e-02\n",
      " * time: 0.9384541511535645\n",
      "    12    -7.826198e+00     6.040628e-02\n",
      " * time: 0.9622571468353271\n",
      "    13    -7.842052e+00     4.768254e-02\n",
      " * time: 0.9856259822845459\n",
      "    14    -7.848425e+00     3.845892e-02\n",
      " * time: 1.0089709758758545\n",
      "    15    -7.851212e+00     1.760606e-02\n",
      " * time: 1.032515048980713\n",
      "    16    -7.852243e+00     1.205159e-02\n",
      " * time: 1.0564360618591309\n",
      "    17    -7.852516e+00     4.504715e-03\n",
      " * time: 1.0803020000457764\n",
      "    18    -7.852607e+00     2.699842e-03\n",
      " * time: 1.1040890216827393\n",
      "    19    -7.852631e+00     2.097159e-03\n",
      " * time: 1.1274280548095703\n",
      "    20    -7.852641e+00     1.184773e-03\n",
      " * time: 1.1508381366729736\n",
      "    21    -7.852645e+00     7.465602e-04\n",
      " * time: 1.1742570400238037\n",
      "    22    -7.852646e+00     6.332611e-04\n",
      " * time: 1.1980199813842773\n",
      "    23    -7.852646e+00     2.487927e-04\n",
      " * time: 1.2215540409088135\n",
      "    24    -7.852647e+00     1.595412e-04\n",
      " * time: 1.2450170516967773\n",
      "    25    -7.852647e+00     1.636339e-04\n",
      " * time: 1.2683000564575195\n",
      "    26    -7.852647e+00     6.679126e-05\n",
      " * time: 1.2917940616607666\n",
      "    27    -7.852647e+00     6.887432e-05\n",
      " * time: 1.3151280879974365\n",
      "    28    -7.852647e+00     2.989789e-05\n",
      " * time: 1.338634967803955\n",
      "    29    -7.852647e+00     1.204304e-05\n",
      " * time: 1.3624179363250732\n",
      "    30    -7.852647e+00     6.796545e-06\n",
      " * time: 1.3860270977020264\n",
      "    31    -7.852647e+00     3.991826e-06\n",
      " * time: 1.4094290733337402\n",
      "    32    -7.852647e+00     3.110272e-06\n",
      " * time: 1.4326491355895996\n",
      "    33    -7.852647e+00     1.817912e-06\n",
      " * time: 1.4558360576629639\n",
      "    34    -7.852647e+00     7.068470e-07\n",
      " * time: 1.47943115234375\n",
      "    35    -7.852647e+00     5.385313e-07\n",
      " * time: 1.5030560493469238\n",
      "    36    -7.852647e+00     4.028663e-07\n",
      " * time: 1.5265130996704102\n",
      "    37    -7.852647e+00     1.951285e-07\n",
      " * time: 1.5499019622802734\n",
      "    38    -7.852647e+00     1.072183e-07\n",
      " * time: 1.5733351707458496\n",
      "    39    -7.852647e+00     4.252877e-08\n",
      " * time: 1.596924066543579\n",
      "    40    -7.852647e+00     2.622232e-08\n",
      " * time: 1.620258092880249\n",
      "    41    -7.852647e+00     2.276965e-08\n",
      " * time: 1.654205083847046\n",
      "    42    -7.852647e+00     1.773999e-08\n",
      " * time: 1.6881170272827148\n",
      "    43    -7.852647e+00     1.030532e-08\n",
      " * time: 1.7115509510040283\n",
      "    44    -7.852647e+00     8.544346e-09\n",
      " * time: 1.7453761100769043\n",
      "    45    -7.852647e+00     8.523998e-09\n",
      " * time: 1.7997920513153076\n",
      "    46    -7.852647e+00     8.523998e-09\n",
      " * time: 1.968148946762085\n"
     ]
    }
   ],
   "cell_type": "code",
   "source": [
    "scfres_dm = direct_minimization(basis; tol);"
   ],
   "metadata": {},
   "execution_count": 4
  },
  {
   "cell_type": "markdown",
   "source": [
    "## Newton algorithm"
   ],
   "metadata": {}
  },
  {
   "cell_type": "markdown",
   "source": [
    "Start not too far from the solution to ensure convergence:\n",
    "We run first a very crude SCF to get close and then switch to Newton."
   ],
   "metadata": {}
  },
  {
   "outputs": [
    {
     "name": "stdout",
     "output_type": "stream",
     "text": [
      "n     Energy            log10(ΔE)   log10(Δρ)   Diag\n",
      "---   ---------------   ---------   ---------   ----\n",
      "  1   -7.846867502874                   -0.70    4.8\n",
      "  2   -7.852317918083       -2.26       -1.53    1.0\n"
     ]
    }
   ],
   "cell_type": "code",
   "source": [
    "scfres_start = self_consistent_field(basis; tol=1e-1);"
   ],
   "metadata": {},
   "execution_count": 5
  },
  {
   "cell_type": "markdown",
   "source": [
    "Remove the virtual orbitals (which Newton cannot treat yet)"
   ],
   "metadata": {}
  },
  {
   "outputs": [
    {
     "name": "stdout",
     "output_type": "stream",
     "text": [
      "n     Energy            log10(ΔE)   log10(Δρ)\n",
      "---   ---------------   ---------   ---------\n",
      "  1   -7.852646686710                   -2.55\n",
      "  2   -7.852646686730      -10.70       -5.95\n",
      "  3   -7.852646686730   +  -15.05      -12.73\n"
     ]
    }
   ],
   "cell_type": "code",
   "source": [
    "ψ, _ = DFTK.select_occupied_orbitals(basis, scfres_start.ψ, scfres_start.occupation)\n",
    "scfres_newton = newton(basis, ψ; tol);"
   ],
   "metadata": {},
   "execution_count": 6
  },
  {
   "cell_type": "markdown",
   "source": [
    "## Comparison of results"
   ],
   "metadata": {}
  },
  {
   "outputs": [
    {
     "name": "stdout",
     "output_type": "stream",
     "text": [
      "|ρ_newton - ρ_scf|  = 6.732588288622552e-14\n",
      "|ρ_newton - ρ_scfv| = 3.0340143542423193e-13\n",
      "|ρ_newton - ρ_dm|   = 6.028589782203148e-10\n"
     ]
    }
   ],
   "cell_type": "code",
   "source": [
    "println(\"|ρ_newton - ρ_scf|  = \", norm(scfres_newton.ρ - scfres_scf.ρ))\n",
    "println(\"|ρ_newton - ρ_scfv| = \", norm(scfres_newton.ρ - scfres_scfv.ρ))\n",
    "println(\"|ρ_newton - ρ_dm|   = \", norm(scfres_newton.ρ - scfres_dm.ρ))"
   ],
   "metadata": {},
   "execution_count": 7
  }
 ],
 "nbformat_minor": 3,
 "metadata": {
  "language_info": {
   "file_extension": ".jl",
   "mimetype": "application/julia",
   "name": "julia",
   "version": "1.8.2"
  },
  "kernelspec": {
   "name": "julia-1.8",
   "display_name": "Julia 1.8.2",
   "language": "julia"
  }
 },
 "nbformat": 4
}
