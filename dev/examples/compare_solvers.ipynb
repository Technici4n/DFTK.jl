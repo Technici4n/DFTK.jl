{
 "cells": [
  {
   "cell_type": "markdown",
   "source": [
    "# Comparison of DFT solvers"
   ],
   "metadata": {}
  },
  {
   "cell_type": "markdown",
   "source": [
    "We compare four different approaches for solving the DFT minimisation problem,\n",
    "namely a density-based SCF, a potential-based SCF, direct minimisation and Newton."
   ],
   "metadata": {}
  },
  {
   "cell_type": "markdown",
   "source": [
    "First we setup our problem"
   ],
   "metadata": {}
  },
  {
   "outputs": [],
   "cell_type": "code",
   "source": [
    "using DFTK\n",
    "using LinearAlgebra\n",
    "\n",
    "a = 10.26  # Silicon lattice constant in Bohr\n",
    "lattice = a / 2 * [[0 1 1.];\n",
    "                   [1 0 1.];\n",
    "                   [1 1 0.]]\n",
    "Si = ElementPsp(:Si, psp=load_psp(\"hgh/lda/Si-q4\"))\n",
    "atoms     = [Si, Si]\n",
    "positions = [ones(3)/8, -ones(3)/8]\n",
    "\n",
    "model = model_LDA(lattice, atoms, positions)\n",
    "basis = PlaneWaveBasis(model; Ecut=5, kgrid=[3, 3, 3])\n",
    "\n",
    "# Convergence we desire\n",
    "tol = 1e-12\n",
    "is_converged = DFTK.ScfConvergenceDensity(tol);"
   ],
   "metadata": {},
   "execution_count": 1
  },
  {
   "cell_type": "markdown",
   "source": [
    "## Density-based self-consistent field"
   ],
   "metadata": {}
  },
  {
   "outputs": [
    {
     "name": "stdout",
     "output_type": "stream",
     "text": [
      "n     Energy            log10(ΔE)   log10(Δρ)   Diag\n",
      "---   ---------------   ---------   ---------   ----\n",
      "  1   -7.846865144028                   -0.70    4.8\n",
      "  2   -7.852323738575       -2.26       -1.53    1.0\n",
      "  3   -7.852646201525       -3.49       -2.52    3.0\n",
      "  4   -7.852646677740       -6.32       -3.37    2.5\n",
      "  5   -7.852646685801       -8.09       -4.73    1.0\n",
      "  6   -7.852646686723       -9.04       -5.20    3.5\n",
      "  7   -7.852646686730      -11.16       -6.17    1.5\n",
      "  8   -7.852646686730      -12.60       -7.48    2.5\n",
      "  9   -7.852646686730      -14.27       -7.58    2.0\n",
      " 10   -7.852646686730   +  -14.57       -8.55    2.0\n",
      " 11   -7.852646686730      -14.57       -9.53    2.2\n",
      " 12   -7.852646686730   +  -14.75      -10.08    3.0\n",
      " 13   -7.852646686730   +  -15.05      -10.97    1.2\n",
      " 14   -7.852646686730      -15.05      -11.62    2.2\n",
      " 15   -7.852646686730      -14.75      -12.82    3.0\n"
     ]
    }
   ],
   "cell_type": "code",
   "source": [
    "scfres_scf = self_consistent_field(basis; is_converged);"
   ],
   "metadata": {},
   "execution_count": 2
  },
  {
   "cell_type": "markdown",
   "source": [
    "## Potential-based SCF"
   ],
   "metadata": {}
  },
  {
   "outputs": [
    {
     "name": "stdout",
     "output_type": "stream",
     "text": [
      "n     Energy            log10(ΔE)   log10(Δρ)   α      Diag\n",
      "---   ---------------   ---------   ---------   ----   ----\n",
      "  1   -7.846808419841                   -0.70           4.8\n",
      "  2   -7.852525474992       -2.24       -1.63   0.80    2.0\n",
      "  3   -7.852635679345       -3.96       -2.71   0.80    1.0\n",
      "  4   -7.852646373827       -4.97       -3.28   0.80    2.2\n",
      "  5   -7.852646680535       -6.51       -4.07   0.80    1.5\n",
      "  6   -7.852646686226       -8.24       -4.72   0.80    1.2\n",
      "  7   -7.852646686716       -9.31       -5.68   0.80    1.8\n",
      "  8   -7.852646686730      -10.88       -6.70   0.80    2.2\n",
      "  9   -7.852646686730      -12.57       -7.16   0.80    2.5\n",
      " 10   -7.852646686730      -14.35       -7.95   0.80    1.5\n",
      " 11   -7.852646686730   +    -Inf       -8.16   0.80    1.8\n",
      " 12   -7.852646686730      -14.45       -8.98   0.80    1.2\n",
      " 13   -7.852646686730   +  -14.75       -9.43   0.80    1.8\n",
      " 14   -7.852646686730   +    -Inf      -10.77   0.80    1.5\n",
      " 15   -7.852646686730   +    -Inf      -11.17   0.80    3.0\n",
      " 16   -7.852646686730   +    -Inf      -11.73   0.80    1.0\n",
      " 17   -7.852646686730   +    -Inf      -12.24   0.80    1.2\n"
     ]
    }
   ],
   "cell_type": "code",
   "source": [
    "scfres_scfv = DFTK.scf_potential_mixing(basis; is_converged);"
   ],
   "metadata": {},
   "execution_count": 3
  },
  {
   "cell_type": "markdown",
   "source": [
    "## Direct minimization"
   ],
   "metadata": {}
  },
  {
   "outputs": [
    {
     "name": "stdout",
     "output_type": "stream",
     "text": [
      "Iter     Function value   Gradient norm \n",
      "     0     1.378218e+01     3.244297e+00\n",
      " * time: 0.5062358379364014\n",
      "     1     1.554891e+00     1.710487e+00\n",
      " * time: 0.7610268592834473\n",
      "     2    -1.301445e+00     2.099653e+00\n",
      " * time: 0.7886350154876709\n",
      "     3    -3.476257e+00     1.857086e+00\n",
      " * time: 0.8282878398895264\n",
      "     4    -4.603163e+00     1.839292e+00\n",
      " * time: 0.8675458431243896\n",
      "     5    -6.400771e+00     1.335774e+00\n",
      " * time: 0.9073469638824463\n",
      "     6    -7.178666e+00     8.079101e-01\n",
      " * time: 0.9476280212402344\n",
      "     7    -7.377928e+00     9.027484e-01\n",
      " * time: 0.9742538928985596\n",
      "     8    -7.559123e+00     5.509254e-01\n",
      " * time: 1.0001449584960938\n",
      "     9    -7.606898e+00     5.409599e-01\n",
      " * time: 1.026322841644287\n",
      "    10    -7.698312e+00     1.824249e-01\n",
      " * time: 1.0523350238800049\n",
      "    11    -7.722556e+00     7.170414e-02\n",
      " * time: 1.0784709453582764\n",
      "    12    -7.740820e+00     9.024789e-02\n",
      " * time: 1.1047029495239258\n",
      "    13    -7.771593e+00     1.805883e-01\n",
      " * time: 1.1307718753814697\n",
      "    14    -7.798988e+00     7.804495e-02\n",
      " * time: 1.1566028594970703\n",
      "    15    -7.829742e+00     8.636981e-02\n",
      " * time: 1.1824970245361328\n",
      "    16    -7.842056e+00     7.133239e-02\n",
      " * time: 1.209378957748413\n",
      "    17    -7.848852e+00     1.831864e-02\n",
      " * time: 1.3123009204864502\n",
      "    18    -7.851459e+00     1.160026e-02\n",
      " * time: 1.3419408798217773\n",
      "    19    -7.852270e+00     1.300113e-02\n",
      " * time: 1.3686108589172363\n",
      "    20    -7.852519e+00     8.267857e-03\n",
      " * time: 1.3940918445587158\n",
      "    21    -7.852598e+00     2.929324e-03\n",
      " * time: 1.4203379154205322\n",
      "    22    -7.852632e+00     1.992181e-03\n",
      " * time: 1.4499409198760986\n",
      "    23    -7.852643e+00     1.251114e-03\n",
      " * time: 1.4766149520874023\n",
      "    24    -7.852646e+00     5.441083e-04\n",
      " * time: 1.5027389526367188\n",
      "    25    -7.852646e+00     4.348910e-04\n",
      " * time: 1.5286409854888916\n",
      "    26    -7.852647e+00     2.594831e-04\n",
      " * time: 1.5540399551391602\n",
      "    27    -7.852647e+00     1.239020e-04\n",
      " * time: 1.5794248580932617\n",
      "    28    -7.852647e+00     6.679674e-05\n",
      " * time: 1.604630947113037\n",
      "    29    -7.852647e+00     6.244221e-05\n",
      " * time: 1.6324679851531982\n",
      "    30    -7.852647e+00     2.935947e-05\n",
      " * time: 1.6605150699615479\n",
      "    31    -7.852647e+00     1.481513e-05\n",
      " * time: 1.687088966369629\n",
      "    32    -7.852647e+00     8.579196e-06\n",
      " * time: 1.713144063949585\n",
      "    33    -7.852647e+00     9.830128e-06\n",
      " * time: 1.7410268783569336\n",
      "    34    -7.852647e+00     3.677944e-06\n",
      " * time: 1.7693290710449219\n",
      "    35    -7.852647e+00     1.794725e-06\n",
      " * time: 1.7974979877471924\n",
      "    36    -7.852647e+00     1.194701e-06\n",
      " * time: 1.8242790699005127\n",
      "    37    -7.852647e+00     5.874023e-07\n",
      " * time: 1.8510470390319824\n",
      "    38    -7.852647e+00     4.059228e-07\n",
      " * time: 1.8780570030212402\n",
      "    39    -7.852647e+00     2.471800e-07\n",
      " * time: 1.9080970287322998\n",
      "    40    -7.852647e+00     1.077292e-07\n",
      " * time: 1.9348578453063965\n",
      "    41    -7.852647e+00     7.466004e-08\n",
      " * time: 1.9608819484710693\n",
      "    42    -7.852647e+00     3.574367e-08\n",
      " * time: 1.9866259098052979\n",
      "    43    -7.852647e+00     2.053772e-08\n",
      " * time: 2.0133869647979736\n",
      "    44    -7.852647e+00     1.433631e-08\n",
      " * time: 2.0399720668792725\n",
      "    45    -7.852647e+00     8.443859e-09\n",
      " * time: 2.067690849304199\n",
      "    46    -7.852647e+00     3.340570e-09\n",
      " * time: 2.096230983734131\n",
      "    47    -7.852647e+00     2.329821e-09\n",
      " * time: 2.124562978744507\n",
      "    48    -7.852647e+00     2.329783e-09\n",
      " * time: 2.213336944580078\n"
     ]
    }
   ],
   "cell_type": "code",
   "source": [
    "scfres_dm = direct_minimization(basis; tol);"
   ],
   "metadata": {},
   "execution_count": 4
  },
  {
   "cell_type": "markdown",
   "source": [
    "## Newton algorithm"
   ],
   "metadata": {}
  },
  {
   "cell_type": "markdown",
   "source": [
    "Start not too far from the solution to ensure convergence:\n",
    "We run first a very crude SCF to get close and then switch to Newton."
   ],
   "metadata": {}
  },
  {
   "outputs": [
    {
     "name": "stdout",
     "output_type": "stream",
     "text": [
      "n     Energy            log10(ΔE)   log10(Δρ)   Diag\n",
      "---   ---------------   ---------   ---------   ----\n",
      "  1   -7.846715392565                   -0.70    4.5\n",
      "  2   -7.852304134981       -2.25       -1.53    1.0\n"
     ]
    }
   ],
   "cell_type": "code",
   "source": [
    "scfres_start = self_consistent_field(basis; tol=1e-1);"
   ],
   "metadata": {},
   "execution_count": 5
  },
  {
   "cell_type": "markdown",
   "source": [
    "Remove the virtual orbitals (which Newton cannot treat yet)"
   ],
   "metadata": {}
  },
  {
   "outputs": [
    {
     "name": "stdout",
     "output_type": "stream",
     "text": [
      "n     Energy            log10(ΔE)   log10(Δρ)\n",
      "---   ---------------   ---------   ---------\n",
      "  1   -7.852646686702                   -2.55\n",
      "  2   -7.852646686730      -10.56       -5.90\n",
      "  3   -7.852646686730   +  -14.75      -12.59\n"
     ]
    }
   ],
   "cell_type": "code",
   "source": [
    "ψ, _ = DFTK.select_occupied_orbitals(basis, scfres_start.ψ, scfres_start.occupation)\n",
    "scfres_newton = newton(basis, ψ; tol);"
   ],
   "metadata": {},
   "execution_count": 6
  },
  {
   "cell_type": "markdown",
   "source": [
    "## Comparison of results"
   ],
   "metadata": {}
  },
  {
   "outputs": [
    {
     "name": "stdout",
     "output_type": "stream",
     "text": [
      "|ρ_newton - ρ_scf|  = 4.707649719393637e-14\n",
      "|ρ_newton - ρ_scfv| = 1.3413029869560504e-13\n",
      "|ρ_newton - ρ_dm|   = 2.539333807558978e-10\n"
     ]
    }
   ],
   "cell_type": "code",
   "source": [
    "println(\"|ρ_newton - ρ_scf|  = \", norm(scfres_newton.ρ - scfres_scf.ρ))\n",
    "println(\"|ρ_newton - ρ_scfv| = \", norm(scfres_newton.ρ - scfres_scfv.ρ))\n",
    "println(\"|ρ_newton - ρ_dm|   = \", norm(scfres_newton.ρ - scfres_dm.ρ))"
   ],
   "metadata": {},
   "execution_count": 7
  }
 ],
 "nbformat_minor": 3,
 "metadata": {
  "language_info": {
   "file_extension": ".jl",
   "mimetype": "application/julia",
   "name": "julia",
   "version": "1.8.1"
  },
  "kernelspec": {
   "name": "julia-1.8",
   "display_name": "Julia 1.8.1",
   "language": "julia"
  }
 },
 "nbformat": 4
}
