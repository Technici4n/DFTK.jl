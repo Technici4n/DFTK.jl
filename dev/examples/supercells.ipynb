{
 "cells": [
  {
   "cell_type": "markdown",
   "source": [
    "# Creating and modelling metallic supercells\n",
    "\n",
    "In this section we will be concerned with modelling supercells of aluminium.\n",
    "When dealing with periodic problems there is no unique definition of the\n",
    "lattice: Clearly any duplication of the lattice along an axis is also a valid\n",
    "repetitive unit to describe exactly the same system.\n",
    "This is exactly what a **supercell** is: An $n$-fold repetition along one of the\n",
    "axes of the original lattice.\n",
    "\n",
    "The following code achieves this for aluminium:"
   ],
   "metadata": {}
  },
  {
   "outputs": [
    {
     "name": "stdout",
     "output_type": "stream",
     "text": [
      "\u001b[32m\u001b[1m    CondaPkg \u001b[22m\u001b[39m\u001b[0mFound dependencies: /home/runner/.julia/packages/ASEconvert/CNQ1A/CondaPkg.toml\n",
      "\u001b[32m\u001b[1m    CondaPkg \u001b[22m\u001b[39m\u001b[0mFound dependencies: /home/runner/.julia/packages/PythonCall/qTEA1/CondaPkg.toml\n",
      "\u001b[32m\u001b[1m    CondaPkg \u001b[22m\u001b[39m\u001b[0mDependencies already up to date\n"
     ]
    }
   ],
   "cell_type": "code",
   "source": [
    "using DFTK\n",
    "using LinearAlgebra\n",
    "using ASEconvert\n",
    "\n",
    "function aluminium_setup(repeat=1; Ecut=7.0, kgrid=[2, 2, 2])\n",
    "    a = 7.65339\n",
    "    lattice = a * Matrix(I, 3, 3)\n",
    "    Al = ElementPsp(:Al; psp=load_psp(\"hgh/lda/al-q3\"))\n",
    "    atoms     = [Al, Al, Al, Al]\n",
    "    positions = [[0.0, 0.0, 0.0], [0.0, 0.5, 0.5], [0.5, 0.0, 0.5], [0.5, 0.5, 0.0]]\n",
    "    unit_cell = periodic_system(lattice, atoms, positions)\n",
    "\n",
    "    # Make supercell in ASE:\n",
    "    # We convert our lattice to the conventions used in ASE, make the supercell\n",
    "    # and then convert back ...\n",
    "    supercell_ase = convert_ase(unit_cell) * pytuple((repeat, 1, 1))\n",
    "    supercell     = pyconvert(AbstractSystem, supercell_ase)\n",
    "\n",
    "    # Unfortunately right now the conversion to ASE drops the pseudopotential information,\n",
    "    # so we need to reattach it:\n",
    "    supercell = attach_psp(supercell; Al=\"hgh/lda/al-q3\")\n",
    "\n",
    "    # Construct an LDA model and discretise\n",
    "    # Note: We disable symmetries explicitly here. Otherwise the problem sizes\n",
    "    #       we are able to run on the CI are too simple to observe the numerical\n",
    "    #       instabilities we want to trigger here.\n",
    "    model = model_LDA(supercell; temperature=1e-3, symmetries=false)\n",
    "    PlaneWaveBasis(model; Ecut, kgrid)\n",
    "end;"
   ],
   "metadata": {},
   "execution_count": 1
  },
  {
   "cell_type": "markdown",
   "source": [
    "As part of the code we are using a routine inside the ASE,\n",
    "the [atomistic simulation environment](https://wiki.fysik.dtu.dk/ase/index.html)\n",
    "for creating the supercell and make use of the two-way interoperability of\n",
    "DFTK and ASE. For more details on this aspect see the documentation\n",
    "on Input and output formats."
   ],
   "metadata": {}
  },
  {
   "cell_type": "markdown",
   "source": [
    "Write an example supercell structure to a file to plot it:"
   ],
   "metadata": {}
  },
  {
   "outputs": [
    {
     "name": "stdout",
     "output_type": "stream",
     "text": [
      "┌ Warning: Skipping atomic property pseudopotential, which is not supported in ASE.\n",
      "└ @ ASEconvert ~/.julia/packages/ASEconvert/CNQ1A/src/ASEconvert.jl:123\n",
      "┌ Warning: Skipping atomic property pseudopotential, which is not supported in ASE.\n",
      "└ @ ASEconvert ~/.julia/packages/ASEconvert/CNQ1A/src/ASEconvert.jl:123\n"
     ]
    },
    {
     "output_type": "execute_result",
     "data": {
      "text/plain": "Python: None"
     },
     "metadata": {},
     "execution_count": 2
    }
   ],
   "cell_type": "code",
   "source": [
    "setup = aluminium_setup(5)\n",
    "convert_ase(periodic_system(setup.model)).write(\"al_supercell.png\")"
   ],
   "metadata": {},
   "execution_count": 2
  },
  {
   "cell_type": "markdown",
   "source": [
    "<img src=\"https://docs.dftk.org/stable/examples/al_supercell.png\" width=500 height=500 />"
   ],
   "metadata": {}
  },
  {
   "cell_type": "markdown",
   "source": [
    "As we will see in this notebook the modelling of a system generally becomes\n",
    "harder if the system becomes larger.\n",
    "\n",
    "- This sounds like a trivial statement as *per se* the cost per SCF step increases\n",
    "  as the system (and thus $N$) gets larger.\n",
    "- But there is more to it:\n",
    "  If one is not careful also the *number of SCF iterations* increases\n",
    "  as the system gets larger.\n",
    "- The aim of a proper computational treatment of such supercells is therefore\n",
    "  to ensure that the **number of SCF iterations remains constant** when the\n",
    "  system size increases."
   ],
   "metadata": {}
  },
  {
   "cell_type": "markdown",
   "source": [
    "For achieving the latter DFTK by default employs the `LdosMixing`\n",
    "preconditioner [^HL2021] during the SCF iterations. This mixing approach is\n",
    "completely parameter free, but still automatically adapts to the treated\n",
    "system in order to efficiently prevent charge sloshing. As a result,\n",
    "modelling aluminium slabs indeed takes roughly the same number of SCF iterations\n",
    "irrespective of the supercell size:\n",
    "\n",
    "[^HL2021]:\n",
    "   M. F. Herbst and A. Levitt.\n",
    "   *Black-box inhomogeneous preconditioning for self-consistent field iterations in density functional theory.*\n",
    "   J. Phys. Cond. Matt *33* 085503 (2021). [ArXiv:2009.01665](https://arxiv.org/abs/2009.01665)"
   ],
   "metadata": {}
  },
  {
   "outputs": [
    {
     "name": "stdout",
     "output_type": "stream",
     "text": [
      "┌ Warning: Skipping atomic property pseudopotential, which is not supported in ASE.\n",
      "└ @ ASEconvert ~/.julia/packages/ASEconvert/CNQ1A/src/ASEconvert.jl:123\n",
      "n     Energy            log10(ΔE)   log10(Δρ)   Diag   Δtime\n",
      "---   ---------------   ---------   ---------   ----   ------\n",
      "  1   -8.298426091608                   -0.85    5.1         \n",
      "  2   -8.300204100077       -2.75       -1.25    1.0    124ms\n",
      "  3   -8.300433901350       -3.64       -1.89    2.0    140ms\n",
      "  4   -8.300460433221       -4.58       -2.75    3.1    217ms\n",
      "  5   -8.300463561428       -5.50       -3.02    8.6    268ms\n",
      "  6   -8.300464082102       -6.28       -3.21    2.2    156ms\n",
      "  7   -8.300464364030       -6.55       -3.35    1.9    167ms\n",
      "  8   -8.300464510312       -6.83       -3.50    2.4    170ms\n",
      "  9   -8.300464610737       -7.00       -3.72    2.8    228ms\n",
      " 10   -8.300464627343       -7.78       -3.85    1.4    210ms\n",
      " 11   -8.300464643077       -7.80       -4.19    2.9    206ms\n"
     ]
    }
   ],
   "cell_type": "code",
   "source": [
    "self_consistent_field(aluminium_setup(1); tol=1e-4);"
   ],
   "metadata": {},
   "execution_count": 3
  },
  {
   "outputs": [
    {
     "name": "stdout",
     "output_type": "stream",
     "text": [
      "┌ Warning: Skipping atomic property pseudopotential, which is not supported in ASE.\n",
      "└ @ ASEconvert ~/.julia/packages/ASEconvert/CNQ1A/src/ASEconvert.jl:123\n",
      "n     Energy            log10(ΔE)   log10(Δρ)   Diag   Δtime\n",
      "---   ---------------   ---------   ---------   ----   ------\n",
      "  1   -16.67452691947                   -0.70    6.6         \n",
      "  2   -16.67859930430       -2.39       -1.14    1.0    320ms\n",
      "  3   -16.67920523572       -3.22       -1.87    3.8    407ms\n",
      "  4   -16.67928012437       -4.13       -2.76    3.5    388ms\n",
      "  5   -16.67928600366       -5.23       -3.19    5.0    519ms\n",
      "  6   -16.67928620258       -6.70       -3.49    2.2    358ms\n",
      "  7   -16.67928621788       -7.82       -3.96    1.6    297ms\n",
      "  8   -16.67928622142       -8.45       -4.58    2.9    377ms\n"
     ]
    }
   ],
   "cell_type": "code",
   "source": [
    "self_consistent_field(aluminium_setup(2); tol=1e-4);"
   ],
   "metadata": {},
   "execution_count": 4
  },
  {
   "outputs": [
    {
     "name": "stdout",
     "output_type": "stream",
     "text": [
      "┌ Warning: Skipping atomic property pseudopotential, which is not supported in ASE.\n",
      "└ @ ASEconvert ~/.julia/packages/ASEconvert/CNQ1A/src/ASEconvert.jl:123\n",
      "n     Energy            log10(ΔE)   log10(Δρ)   Diag   Δtime\n",
      "---   ---------------   ---------   ---------   ----   ------\n",
      "  1   -33.30766304143                   -0.56    7.6         \n",
      "  2   -33.33465351474       -1.57       -1.00    1.5    1.24s\n",
      "  3   -33.33601483381       -2.87       -1.73    5.2    1.62s\n",
      "  4   -33.33616359672       -3.83       -2.63    5.4    1.62s\n",
      "  5   -33.33689090235       -3.14       -2.47    6.5    1.79s\n",
      "  6   -33.33692375387       -4.48       -2.69    2.8    1.21s\n",
      "  7   -33.33694363936       -4.70       -3.62    2.5    1.34s\n",
      "  8   -33.33694370859       -7.16       -3.72    4.0    1.47s\n",
      "  9   -33.33694377199       -7.20       -4.17    1.4    1.00s\n"
     ]
    }
   ],
   "cell_type": "code",
   "source": [
    "self_consistent_field(aluminium_setup(4); tol=1e-4);"
   ],
   "metadata": {},
   "execution_count": 5
  },
  {
   "cell_type": "markdown",
   "source": [
    "When switching off explicitly the `LdosMixing`, by selecting `mixing=SimpleMixing()`,\n",
    "the performance of number of required SCF steps starts to increase as we increase\n",
    "the size of the modelled problem:"
   ],
   "metadata": {}
  },
  {
   "outputs": [
    {
     "name": "stdout",
     "output_type": "stream",
     "text": [
      "┌ Warning: Skipping atomic property pseudopotential, which is not supported in ASE.\n",
      "└ @ ASEconvert ~/.julia/packages/ASEconvert/CNQ1A/src/ASEconvert.jl:123\n",
      "n     Energy            log10(ΔE)   log10(Δρ)   Diag   Δtime\n",
      "---   ---------------   ---------   ---------   ----   ------\n",
      "  1   -8.298441468215                   -0.85    5.1         \n",
      "  2   -8.300246647942       -2.74       -1.59    1.0   86.0ms\n",
      "  3   -8.300442104331       -3.71       -2.68    3.1    136ms\n",
      "  4   -8.300443759320       -5.78       -2.60    4.2    168ms\n",
      "  5   -8.300463937843       -4.70       -3.29    1.0   92.7ms\n",
      "  6   -8.300464569524       -6.20       -3.75    2.9    172ms\n",
      "  7   -8.300464641336       -7.14       -4.52    1.6    119ms\n"
     ]
    }
   ],
   "cell_type": "code",
   "source": [
    "self_consistent_field(aluminium_setup(1); tol=1e-4, mixing=SimpleMixing());"
   ],
   "metadata": {},
   "execution_count": 6
  },
  {
   "outputs": [
    {
     "name": "stdout",
     "output_type": "stream",
     "text": [
      "┌ Warning: Skipping atomic property pseudopotential, which is not supported in ASE.\n",
      "└ @ ASEconvert ~/.julia/packages/ASEconvert/CNQ1A/src/ASEconvert.jl:123\n",
      "n     Energy            log10(ΔE)   log10(Δρ)   Diag   Δtime\n",
      "---   ---------------   ---------   ---------   ----   ------\n",
      "  1   -33.32588571488                   -0.56    7.1         \n",
      "  2   -33.31775454153   +   -2.09       -1.27    1.0    947ms\n",
      "  3   -17.12485769469   +    1.21       -0.46    5.9    1.91s\n",
      "  4   -33.31309371157        1.21       -1.73    6.6    1.98s\n",
      "  5   -32.85448142944   +   -0.34       -1.15    3.4    1.56s\n",
      "  6   -31.83900390896   +    0.01       -0.97    5.1    1.70s\n",
      "  7   -33.33274861636        0.17       -2.06    4.0    1.45s\n",
      "  8   -33.32168238470   +   -1.96       -1.81    2.9    1.33s\n",
      "  9   -33.33673632562       -1.82       -2.58    2.8    1.33s\n",
      " 10   -33.33674377678       -5.13       -2.82    2.9    1.28s\n",
      " 11   -33.33692969084       -3.73       -3.29    3.0    1.24s\n",
      " 12   -33.33694030495       -4.97       -3.72    2.9    1.38s\n",
      " 13   -33.33694344834       -5.50       -4.13    3.4    1.43s\n"
     ]
    }
   ],
   "cell_type": "code",
   "source": [
    "self_consistent_field(aluminium_setup(4); tol=1e-4, mixing=SimpleMixing());"
   ],
   "metadata": {},
   "execution_count": 7
  },
  {
   "cell_type": "markdown",
   "source": [
    "For completion let us note that the more traditional `mixing=KerkerMixing()`\n",
    "approach would also help in this particular setting to obtain a constant\n",
    "number of SCF iterations for an increasing system size (try it!). In contrast\n",
    "to `LdosMixing`, however, `KerkerMixing` is only suitable to model bulk metallic\n",
    "system (like the case we are considering here). When modelling metallic surfaces\n",
    "or mixtures of metals and insulators, `KerkerMixing` fails, while `LdosMixing`\n",
    "still works well. See the Modelling a gallium arsenide surface example\n",
    "or [^HL2021] for details. Due to the general applicability of `LdosMixing` this\n",
    "method is the default mixing approach in DFTK."
   ],
   "metadata": {}
  }
 ],
 "nbformat_minor": 3,
 "metadata": {
  "language_info": {
   "file_extension": ".jl",
   "mimetype": "application/julia",
   "name": "julia",
   "version": "1.9.2"
  },
  "kernelspec": {
   "name": "julia-1.9",
   "display_name": "Julia 1.9.2",
   "language": "julia"
  }
 },
 "nbformat": 4
}
