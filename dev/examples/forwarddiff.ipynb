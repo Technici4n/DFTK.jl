{
 "cells": [
  {
   "cell_type": "markdown",
   "source": [
    "# Polarizability using automatic differentiation\n",
    "\n",
    "Simple example for computing properties using (forward-mode)\n",
    "automatic differentiation.\n",
    "For a more classical approach and more details about computing polarizabilities,\n",
    "see Polarizability by linear response."
   ],
   "metadata": {}
  },
  {
   "outputs": [],
   "cell_type": "code",
   "source": [
    "using DFTK\n",
    "using LinearAlgebra\n",
    "using ForwardDiff\n",
    "\n",
    "# Construct PlaneWaveBasis given a particular electric field strength\n",
    "# Again we take the example of a Helium atom.\n",
    "function make_basis(ε::T; a=10., Ecut=30) where {T}\n",
    "    lattice=T(a) * I(3)  # lattice is a cube of $a$ Bohrs\n",
    "    # Helium at the center of the box\n",
    "    atoms     = [ElementPsp(:He, psp=load_psp(\"hgh/lda/He-q2\"))]\n",
    "    positions = [[1/2, 1/2, 1/2]]\n",
    "\n",
    "    model = model_DFT(lattice, atoms, positions, [:lda_x, :lda_c_vwn];\n",
    "                      extra_terms=[ExternalFromReal(r -> -ε * (r[1] - a/2))],\n",
    "                      symmetries=false)\n",
    "    PlaneWaveBasis(model; Ecut, kgrid=[1, 1, 1])  # No k-point sampling on isolated system\n",
    "end\n",
    "\n",
    "# dipole moment of a given density (assuming the current geometry)\n",
    "function dipole(basis, ρ)\n",
    "    @assert isdiag(basis.model.lattice)\n",
    "    a  = basis.model.lattice[1, 1]\n",
    "    rr = [a * (r[1] - 1/2) for r in r_vectors(basis)]\n",
    "    sum(rr .* ρ) * basis.dvol\n",
    "end\n",
    "\n",
    "# Function to compute the dipole for a given field strength\n",
    "function compute_dipole(ε; tol=1e-8, kwargs...)\n",
    "    scfres = self_consistent_field(make_basis(ε; kwargs...); tol)\n",
    "    dipole(scfres.basis, scfres.ρ)\n",
    "end;"
   ],
   "metadata": {},
   "execution_count": 1
  },
  {
   "cell_type": "markdown",
   "source": [
    "With this in place we can compute the polarizability from finite differences\n",
    "(just like in the previous example):"
   ],
   "metadata": {}
  },
  {
   "outputs": [
    {
     "name": "stdout",
     "output_type": "stream",
     "text": [
      "n     Energy            log10(ΔE)   log10(Δρ)   Diag\n",
      "---   ---------------   ---------   ---------   ----\n",
      "  1   -2.770877278562                   -0.52    9.0\n",
      "  2   -2.772145981830       -2.90       -1.32    1.0\n",
      "  3   -2.772170409929       -4.61       -2.49    1.0\n",
      "  4   -2.772170661944       -6.60       -3.26    1.0\n",
      "  5   -2.772170721530       -7.22       -3.90    2.0\n",
      "  6   -2.772170722983       -8.84       -5.10    1.0\n",
      "  7   -2.772170723013      -10.52       -5.28    2.0\n",
      "  8   -2.772170723015      -11.74       -5.69    1.0\n",
      "  9   -2.772170723015      -12.44       -6.42    1.0\n",
      " 10   -2.772170723015      -13.44       -7.46    2.0\n",
      " 11   -2.772170723015   +  -14.57       -8.11    1.0\n",
      "n     Energy            log10(ΔE)   log10(Δρ)   Diag\n",
      "---   ---------------   ---------   ---------   ----\n",
      "  1   -2.770866849239                   -0.52    9.0\n",
      "  2   -2.772063331475       -2.92       -1.32    1.0\n",
      "  3   -2.772083132691       -4.70       -2.48    1.0\n",
      "  4   -2.772083351973       -6.66       -3.19    1.0\n",
      "  5   -2.772083416458       -7.19       -3.94    2.0\n",
      "  6   -2.772083417700       -8.91       -4.63    1.0\n",
      "  7   -2.772083417810       -9.96       -5.46    2.0\n",
      "  8   -2.772083417811      -12.72       -6.25    1.0\n",
      "  9   -2.772083417811      -13.09       -7.03    2.0\n",
      " 10   -2.772083417811      -14.10       -7.49    1.0\n",
      " 11   -2.772083417811      -14.88       -8.57    1.0\n"
     ]
    },
    {
     "output_type": "execute_result",
     "data": {
      "text/plain": "1.7735576926412076"
     },
     "metadata": {},
     "execution_count": 2
    }
   ],
   "cell_type": "code",
   "source": [
    "polarizability_fd = let\n",
    "    ε = 0.01\n",
    "    (compute_dipole(ε) - compute_dipole(0.0)) / ε\n",
    "end"
   ],
   "metadata": {},
   "execution_count": 2
  },
  {
   "cell_type": "markdown",
   "source": [
    "We do the same thing using automatic differentiation. Under the hood this uses\n",
    "custom rules to implicitly differentiate through the self-consistent\n",
    "field fixed-point problem."
   ],
   "metadata": {}
  },
  {
   "outputs": [
    {
     "name": "stdout",
     "output_type": "stream",
     "text": [
      "n     Energy            log10(ΔE)   log10(Δρ)   Diag\n",
      "---   ---------------   ---------   ---------   ----\n",
      "  1   -2.770705565464                   -0.53    8.0\n",
      "  2   -2.772053211304       -2.87       -1.31    1.0\n",
      "  3   -2.772082749166       -4.53       -2.57    1.0\n",
      "  4   -2.772083404784       -6.18       -3.57    2.0\n",
      "  5   -2.772083416362       -7.94       -3.94    2.0\n",
      "  6   -2.772083417784       -8.85       -5.14    1.0\n",
      "  7   -2.772083417810      -10.57       -5.86    2.0\n",
      "  8   -2.772083417811      -12.79       -6.35    1.0\n",
      "  9   -2.772083417811      -13.14       -7.12    2.0\n",
      " 10   -2.772083417811   +  -14.88       -8.25    2.0\n",
      "\n",
      "Polarizability via ForwardDiff:       1.7725349642569395\n",
      "Polarizability via finite difference: 1.7735576926412076\n"
     ]
    }
   ],
   "cell_type": "code",
   "source": [
    "polarizability = ForwardDiff.derivative(compute_dipole, 0.0)\n",
    "println()\n",
    "println(\"Polarizability via ForwardDiff:       $polarizability\")\n",
    "println(\"Polarizability via finite difference: $polarizability_fd\")"
   ],
   "metadata": {},
   "execution_count": 3
  }
 ],
 "nbformat_minor": 3,
 "metadata": {
  "language_info": {
   "file_extension": ".jl",
   "mimetype": "application/julia",
   "name": "julia",
   "version": "1.8.4"
  },
  "kernelspec": {
   "name": "julia-1.8",
   "display_name": "Julia 1.8.4",
   "language": "julia"
  }
 },
 "nbformat": 4
}
