{
 "cells": [
  {
   "cell_type": "markdown",
   "source": [
    "# Comparison of DFT solvers"
   ],
   "metadata": {}
  },
  {
   "cell_type": "markdown",
   "source": [
    "We compare four different approaches for solving the DFT minimisation problem,\n",
    "namely a density-based SCF, a potential-based SCF, direct minimisation and Newton."
   ],
   "metadata": {}
  },
  {
   "cell_type": "markdown",
   "source": [
    "First we setup our problem"
   ],
   "metadata": {}
  },
  {
   "outputs": [
    {
     "output_type": "execute_result",
     "data": {
      "text/plain": "1.0e-6"
     },
     "metadata": {},
     "execution_count": 1
    }
   ],
   "cell_type": "code",
   "source": [
    "using DFTK\n",
    "using LinearAlgebra\n",
    "\n",
    "a = 10.26  # Silicon lattice constant in Bohr\n",
    "lattice = a / 2 * [[0 1 1.];\n",
    "                   [1 0 1.];\n",
    "                   [1 1 0.]]\n",
    "Si = ElementPsp(:Si, psp=load_psp(\"hgh/lda/Si-q4\"))\n",
    "atoms     = [Si, Si]\n",
    "positions = [ones(3)/8, -ones(3)/8]\n",
    "\n",
    "model = model_LDA(lattice, atoms, positions)\n",
    "basis = PlaneWaveBasis(model; Ecut=5, kgrid=[3, 3, 3])\n",
    "\n",
    "# Convergence we desire in the density\n",
    "tol = 1e-6"
   ],
   "metadata": {},
   "execution_count": 1
  },
  {
   "cell_type": "markdown",
   "source": [
    "## Density-based self-consistent field"
   ],
   "metadata": {}
  },
  {
   "outputs": [
    {
     "name": "stdout",
     "output_type": "stream",
     "text": [
      "n     Energy            log10(ΔE)   log10(Δρ)   Diag\n",
      "---   ---------------   ---------   ---------   ----\n",
      "  1   -7.846816451630                   -0.70    5.0\n",
      "  2   -7.852313647174       -2.26       -1.53    1.0\n",
      "  3   -7.852614479974       -3.52       -2.55    1.5\n",
      "  4   -7.852645909342       -4.50       -2.87    2.5\n",
      "  5   -7.852646476663       -6.25       -3.15    1.0\n",
      "  6   -7.852646679059       -6.69       -3.98    1.2\n",
      "  7   -7.852646686302       -8.14       -5.12    1.5\n",
      "  8   -7.852646686718       -9.38       -5.31    2.2\n",
      "  9   -7.852646686728      -10.99       -5.78    1.0\n",
      " 10   -7.852646686730      -11.89       -6.27    1.2\n"
     ]
    }
   ],
   "cell_type": "code",
   "source": [
    "scfres_scf = self_consistent_field(basis; tol);"
   ],
   "metadata": {},
   "execution_count": 2
  },
  {
   "cell_type": "markdown",
   "source": [
    "## Potential-based SCF"
   ],
   "metadata": {}
  },
  {
   "outputs": [
    {
     "name": "stdout",
     "output_type": "stream",
     "text": [
      "n     Energy            log10(ΔE)   log10(Δρ)   α      Diag\n",
      "---   ---------------   ---------   ---------   ----   ----\n",
      "  1   -7.846812037536                   -0.70           4.8\n",
      "  2   -7.852526620861       -2.24       -1.63   0.80    2.0\n",
      "  3   -7.852637136510       -3.96       -2.70   0.80    1.0\n",
      "  4   -7.852646391807       -5.03       -3.29   0.80    2.2\n",
      "  5   -7.852646681776       -6.54       -4.10   0.80    1.8\n",
      "  6   -7.852646686394       -8.34       -4.71   0.80    1.2\n",
      "  7   -7.852646686721       -9.49       -5.70   0.80    1.8\n",
      "  8   -7.852646686730      -11.07       -6.55   0.80    1.8\n"
     ]
    }
   ],
   "cell_type": "code",
   "source": [
    "scfres_scfv = DFTK.scf_potential_mixing(basis; tol);"
   ],
   "metadata": {},
   "execution_count": 3
  },
  {
   "cell_type": "markdown",
   "source": [
    "## Direct minimization\n",
    "Note: Unlike the other algorithms, tolerance for this one is in the energy,\n",
    "thus we square the density tolerance value to be roughly equivalent."
   ],
   "metadata": {}
  },
  {
   "outputs": [
    {
     "name": "stdout",
     "output_type": "stream",
     "text": [
      "Iter     Function value   Gradient norm \n",
      "     0     1.413963e+01     3.475827e+00\n",
      " * time: 0.4409949779510498\n",
      "     1     1.346364e+00     1.836946e+00\n",
      " * time: 0.6494460105895996\n",
      "     2    -1.204895e+00     2.206977e+00\n",
      " * time: 0.6772518157958984\n",
      "     3    -3.683869e+00     1.805504e+00\n",
      " * time: 0.7166659832000732\n",
      "     4    -4.960450e+00     1.716476e+00\n",
      " * time: 0.7557389736175537\n",
      "     5    -6.740076e+00     9.626648e-01\n",
      " * time: 0.7951200008392334\n",
      "     6    -6.805235e+00     1.314835e+00\n",
      " * time: 0.8221139907836914\n",
      "     7    -7.480720e+00     8.695507e-01\n",
      " * time: 0.8495128154754639\n",
      "     8    -7.575608e+00     1.089775e+00\n",
      " * time: 0.8769748210906982\n",
      "     9    -7.743979e+00     8.096489e-01\n",
      " * time: 0.90451979637146\n",
      "    10    -7.784605e+00     7.020583e-01\n",
      " * time: 0.9312939643859863\n",
      "    11    -7.811131e+00     5.367578e-01\n",
      " * time: 0.9581148624420166\n",
      "    12    -7.830093e+00     3.325562e-01\n",
      " * time: 0.9847619533538818\n",
      "    13    -7.841716e+00     8.259944e-02\n",
      " * time: 1.0917458534240723\n",
      "    14    -7.847735e+00     4.253746e-02\n",
      " * time: 1.1190228462219238\n",
      "    15    -7.851801e+00     3.321452e-02\n",
      " * time: 1.146061897277832\n",
      "    16    -7.852167e+00     1.184487e-02\n",
      " * time: 1.172745943069458\n",
      "    17    -7.852494e+00     1.381361e-02\n",
      " * time: 1.1999738216400146\n",
      "    18    -7.852586e+00     6.228154e-03\n",
      " * time: 1.2268400192260742\n",
      "    19    -7.852618e+00     2.971481e-03\n",
      " * time: 1.2536749839782715\n",
      "    20    -7.852638e+00     1.820538e-03\n",
      " * time: 1.2808740139007568\n",
      "    21    -7.852645e+00     1.063230e-03\n",
      " * time: 1.3077678680419922\n",
      "    22    -7.852646e+00     6.210056e-04\n",
      " * time: 1.3351519107818604\n",
      "    23    -7.852646e+00     3.735747e-04\n",
      " * time: 1.3620548248291016\n",
      "    24    -7.852647e+00     1.789078e-04\n",
      " * time: 1.3889379501342773\n",
      "    25    -7.852647e+00     1.467027e-04\n",
      " * time: 1.4159657955169678\n",
      "    26    -7.852647e+00     9.179712e-05\n",
      " * time: 1.4428420066833496\n",
      "    27    -7.852647e+00     4.369114e-05\n",
      " * time: 1.46937894821167\n",
      "    28    -7.852647e+00     2.315192e-05\n",
      " * time: 1.4961638450622559\n",
      "    29    -7.852647e+00     1.297306e-05\n",
      " * time: 1.5232009887695312\n",
      "    30    -7.852647e+00     7.725385e-06\n",
      " * time: 1.5500459671020508\n",
      "    31    -7.852647e+00     4.003482e-06\n",
      " * time: 1.5772669315338135\n",
      "    32    -7.852647e+00     1.871060e-06\n",
      " * time: 1.6040058135986328\n",
      "    33    -7.852647e+00     1.307465e-06\n",
      " * time: 1.630509853363037\n",
      "    34    -7.852647e+00     7.326198e-07\n",
      " * time: 1.6571509838104248\n",
      "    35    -7.852647e+00     3.591831e-07\n",
      " * time: 1.6838459968566895\n",
      "    36    -7.852647e+00     2.515851e-07\n",
      " * time: 1.710810899734497\n",
      "    37    -7.852647e+00     1.233600e-07\n",
      " * time: 1.7380409240722656\n",
      "    38    -7.852647e+00     7.683166e-08\n",
      " * time: 1.7651619911193848\n",
      "    39    -7.852647e+00     4.416657e-08\n",
      " * time: 1.7923378944396973\n",
      "    40    -7.852647e+00     2.660095e-08\n",
      " * time: 1.8196020126342773\n",
      "    41    -7.852647e+00     1.749223e-08\n",
      " * time: 1.8464248180389404\n",
      "    42    -7.852647e+00     1.161820e-08\n",
      " * time: 1.873534917831421\n"
     ]
    }
   ],
   "cell_type": "code",
   "source": [
    "scfres_dm = direct_minimization(basis; tol=tol^2);"
   ],
   "metadata": {},
   "execution_count": 4
  },
  {
   "cell_type": "markdown",
   "source": [
    "## Newton algorithm"
   ],
   "metadata": {}
  },
  {
   "cell_type": "markdown",
   "source": [
    "Start not too far from the solution to ensure convergence:\n",
    "We run first a very crude SCF to get close and then switch to Newton."
   ],
   "metadata": {}
  },
  {
   "outputs": [
    {
     "name": "stdout",
     "output_type": "stream",
     "text": [
      "n     Energy            log10(ΔE)   log10(Δρ)   Diag\n",
      "---   ---------------   ---------   ---------   ----\n",
      "  1   -7.846762994721                   -0.70    4.5\n"
     ]
    }
   ],
   "cell_type": "code",
   "source": [
    "scfres_start = self_consistent_field(basis; tol=0.5);"
   ],
   "metadata": {},
   "execution_count": 5
  },
  {
   "cell_type": "markdown",
   "source": [
    "Remove the virtual orbitals (which Newton cannot treat yet)"
   ],
   "metadata": {}
  },
  {
   "outputs": [
    {
     "name": "stdout",
     "output_type": "stream",
     "text": [
      "n     Energy            log10(ΔE)   log10(Δρ)\n",
      "---   ---------------   ---------   ---------\n",
      "  1   -7.852645850951                   -1.64\n",
      "  2   -7.852646686730       -6.08       -3.71\n",
      "  3   -7.852646686730      -13.14       -7.19\n"
     ]
    }
   ],
   "cell_type": "code",
   "source": [
    "ψ = DFTK.select_occupied_orbitals(basis, scfres_start.ψ, scfres_start.occupation).ψ\n",
    "scfres_newton = newton(basis, ψ; tol);"
   ],
   "metadata": {},
   "execution_count": 6
  },
  {
   "cell_type": "markdown",
   "source": [
    "## Comparison of results"
   ],
   "metadata": {}
  },
  {
   "outputs": [
    {
     "name": "stdout",
     "output_type": "stream",
     "text": [
      "|ρ_newton - ρ_scf|  = 4.802922845733138e-7\n",
      "|ρ_newton - ρ_scfv| = 1.5435950834374442e-7\n",
      "|ρ_newton - ρ_dm|   = 9.594311464375796e-10\n"
     ]
    }
   ],
   "cell_type": "code",
   "source": [
    "println(\"|ρ_newton - ρ_scf|  = \", norm(scfres_newton.ρ - scfres_scf.ρ))\n",
    "println(\"|ρ_newton - ρ_scfv| = \", norm(scfres_newton.ρ - scfres_scfv.ρ))\n",
    "println(\"|ρ_newton - ρ_dm|   = \", norm(scfres_newton.ρ - scfres_dm.ρ))"
   ],
   "metadata": {},
   "execution_count": 7
  }
 ],
 "nbformat_minor": 3,
 "metadata": {
  "language_info": {
   "file_extension": ".jl",
   "mimetype": "application/julia",
   "name": "julia",
   "version": "1.8.3"
  },
  "kernelspec": {
   "name": "julia-1.8",
   "display_name": "Julia 1.8.3",
   "language": "julia"
  }
 },
 "nbformat": 4
}
