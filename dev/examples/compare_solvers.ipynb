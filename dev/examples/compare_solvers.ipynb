{
 "cells": [
  {
   "cell_type": "markdown",
   "source": [
    "# Comparison of DFT solvers"
   ],
   "metadata": {}
  },
  {
   "cell_type": "markdown",
   "source": [
    "We compare four different approaches for solving the DFT minimisation problem,\n",
    "namely a density-based SCF, a potential-based SCF, direct minimisation and Newton."
   ],
   "metadata": {}
  },
  {
   "cell_type": "markdown",
   "source": [
    "First we setup our problem"
   ],
   "metadata": {}
  },
  {
   "outputs": [
    {
     "output_type": "execute_result",
     "data": {
      "text/plain": "1.0e-6"
     },
     "metadata": {},
     "execution_count": 1
    }
   ],
   "cell_type": "code",
   "source": [
    "using DFTK\n",
    "using LinearAlgebra\n",
    "\n",
    "a = 10.26  # Silicon lattice constant in Bohr\n",
    "lattice = a / 2 * [[0 1 1.];\n",
    "                   [1 0 1.];\n",
    "                   [1 1 0.]]\n",
    "Si = ElementPsp(:Si, psp=load_psp(\"hgh/lda/Si-q4\"))\n",
    "atoms     = [Si, Si]\n",
    "positions = [ones(3)/8, -ones(3)/8]\n",
    "\n",
    "model = model_LDA(lattice, atoms, positions)\n",
    "basis = PlaneWaveBasis(model; Ecut=5, kgrid=[3, 3, 3])\n",
    "\n",
    "# Convergence we desire in the density\n",
    "tol = 1e-6"
   ],
   "metadata": {},
   "execution_count": 1
  },
  {
   "cell_type": "markdown",
   "source": [
    "## Density-based self-consistent field"
   ],
   "metadata": {}
  },
  {
   "outputs": [
    {
     "name": "stdout",
     "output_type": "stream",
     "text": [
      "n     Energy            log10(ΔE)   log10(Δρ)   Diag   Δtime\n",
      "---   ---------------   ---------   ---------   ----   ------\n",
      "  1   -7.846806044534                   -0.70    4.5         \n",
      "  2   -7.852310762686       -2.26       -1.53    1.0   24.4ms\n",
      "  3   -7.852615534800       -3.52       -2.55    1.5   26.3ms\n",
      "  4   -7.852645952450       -4.52       -2.89    2.5   33.5ms\n",
      "  5   -7.852646504089       -6.26       -3.18    1.2   25.9ms\n",
      "  6   -7.852646678188       -6.76       -4.00    1.0   24.8ms\n",
      "  7   -7.852646686274       -8.09       -5.01    1.8   29.6ms\n",
      "  8   -7.852646686722       -9.35       -5.48    1.8   29.9ms\n",
      "  9   -7.852646686729      -11.16       -6.15    1.5   27.3ms\n"
     ]
    }
   ],
   "cell_type": "code",
   "source": [
    "scfres_scf = self_consistent_field(basis; tol);"
   ],
   "metadata": {},
   "execution_count": 2
  },
  {
   "cell_type": "markdown",
   "source": [
    "## Potential-based SCF"
   ],
   "metadata": {}
  },
  {
   "outputs": [
    {
     "name": "stdout",
     "output_type": "stream",
     "text": [
      "n     Energy            log10(ΔE)   log10(Δρ)   α      Diag   Δtime\n",
      "---   ---------------   ---------   ---------   ----   ----   ------\n",
      "  1   -7.846906888062                   -0.70           4.8         \n",
      "  2   -7.852530369091       -2.25       -1.64   0.80    2.0    253ms\n",
      "  3   -7.852637315490       -3.97       -2.72   0.80    1.0   23.5ms\n",
      "  4   -7.852646517647       -5.04       -3.29   0.80    2.2   30.4ms\n",
      "  5   -7.852646681933       -6.78       -4.14   0.80    1.2   24.9ms\n",
      "  6   -7.852646686577       -8.33       -4.84   0.80    1.8   28.2ms\n",
      "  7   -7.852646686723       -9.84       -5.69   0.80    1.8   27.4ms\n",
      "  8   -7.852646686730      -11.15       -6.55   0.80    2.2   29.9ms\n"
     ]
    }
   ],
   "cell_type": "code",
   "source": [
    "scfres_scfv = DFTK.scf_potential_mixing(basis; tol);"
   ],
   "metadata": {},
   "execution_count": 3
  },
  {
   "cell_type": "markdown",
   "source": [
    "## Direct minimization\n",
    "Note: Unlike the other algorithms, tolerance for this one is in the energy,\n",
    "thus we square the density tolerance value to be roughly equivalent."
   ],
   "metadata": {}
  },
  {
   "outputs": [
    {
     "name": "stdout",
     "output_type": "stream",
     "text": [
      "Iter     Function value   Gradient norm \n",
      "     0     1.413807e+01     3.235334e+00\n",
      " * time: 0.05756497383117676\n",
      "     1     1.210684e+00     1.761483e+00\n",
      " * time: 0.2732560634613037\n",
      "     2    -1.600983e+00     2.184312e+00\n",
      " * time: 0.2984941005706787\n",
      "     3    -3.948929e+00     1.946626e+00\n",
      " * time: 0.3341829776763916\n",
      "     4    -5.462302e+00     1.724917e+00\n",
      " * time: 0.37096095085144043\n",
      "     5    -7.023186e+00     8.128526e-01\n",
      " * time: 0.40739893913269043\n",
      "     6    -7.281335e+00     8.270270e-01\n",
      " * time: 0.43241000175476074\n",
      "     7    -7.640726e+00     3.189053e-01\n",
      " * time: 0.45818305015563965\n",
      "     8    -7.726388e+00     1.459047e-01\n",
      " * time: 0.48302793502807617\n",
      "     9    -7.765431e+00     1.088429e-01\n",
      " * time: 0.507519006729126\n",
      "    10    -7.801351e+00     9.988836e-02\n",
      " * time: 0.5320699214935303\n",
      "    11    -7.826567e+00     7.563117e-02\n",
      " * time: 0.5575640201568604\n",
      "    12    -7.846316e+00     4.114880e-02\n",
      " * time: 0.5826830863952637\n",
      "    13    -7.850531e+00     4.341475e-02\n",
      " * time: 0.6076600551605225\n",
      "    14    -7.851878e+00     1.260746e-02\n",
      " * time: 0.6324360370635986\n",
      "    15    -7.852371e+00     1.056050e-02\n",
      " * time: 0.6573820114135742\n",
      "    16    -7.852572e+00     4.218094e-03\n",
      " * time: 0.6823339462280273\n",
      "    17    -7.852624e+00     3.236374e-03\n",
      " * time: 0.7075629234313965\n",
      "    18    -7.852640e+00     1.996602e-03\n",
      " * time: 0.7326691150665283\n",
      "    19    -7.852644e+00     9.409322e-04\n",
      " * time: 0.7577340602874756\n",
      "    20    -7.852646e+00     5.509778e-04\n",
      " * time: 0.7828240394592285\n",
      "    21    -7.852646e+00     3.165206e-04\n",
      " * time: 0.8078689575195312\n",
      "    22    -7.852647e+00     2.167309e-04\n",
      " * time: 0.8325119018554688\n",
      "    23    -7.852647e+00     1.001652e-04\n",
      " * time: 0.8573939800262451\n",
      "    24    -7.852647e+00     7.088032e-05\n",
      " * time: 0.8820459842681885\n",
      "    25    -7.852647e+00     5.676543e-05\n",
      " * time: 0.9069089889526367\n",
      "    26    -7.852647e+00     3.084093e-05\n",
      " * time: 0.9318819046020508\n",
      "    27    -7.852647e+00     1.706863e-05\n",
      " * time: 0.9567420482635498\n",
      "    28    -7.852647e+00     9.174173e-06\n",
      " * time: 0.981252908706665\n",
      "    29    -7.852647e+00     6.300675e-06\n",
      " * time: 1.0058479309082031\n",
      "    30    -7.852647e+00     4.152764e-06\n",
      " * time: 1.0309009552001953\n",
      "    31    -7.852647e+00     1.303889e-06\n",
      " * time: 1.0556919574737549\n",
      "    32    -7.852647e+00     7.571205e-07\n",
      " * time: 1.1385719776153564\n",
      "    33    -7.852647e+00     5.304735e-07\n",
      " * time: 1.1632699966430664\n",
      "    34    -7.852647e+00     2.961942e-07\n",
      " * time: 1.1875998973846436\n",
      "    35    -7.852647e+00     2.231493e-07\n",
      " * time: 1.2125539779663086\n",
      "    36    -7.852647e+00     1.339689e-07\n",
      " * time: 1.236893892288208\n",
      "    37    -7.852647e+00     7.054612e-08\n",
      " * time: 1.2616651058197021\n",
      "    38    -7.852647e+00     3.207434e-08\n",
      " * time: 1.2864060401916504\n",
      "    39    -7.852647e+00     2.239957e-08\n",
      " * time: 1.3106489181518555\n",
      "    40    -7.852647e+00     1.813858e-08\n",
      " * time: 1.3350670337677002\n",
      "    41    -7.852647e+00     1.363266e-08\n",
      " * time: 1.359234094619751\n",
      "    42    -7.852647e+00     6.690638e-09\n",
      " * time: 1.384105920791626\n",
      "    43    -7.852647e+00     6.678565e-09\n",
      " * time: 1.4409420490264893\n"
     ]
    }
   ],
   "cell_type": "code",
   "source": [
    "scfres_dm = direct_minimization(basis; tol=tol^2);"
   ],
   "metadata": {},
   "execution_count": 4
  },
  {
   "cell_type": "markdown",
   "source": [
    "## Newton algorithm"
   ],
   "metadata": {}
  },
  {
   "cell_type": "markdown",
   "source": [
    "Start not too far from the solution to ensure convergence:\n",
    "We run first a very crude SCF to get close and then switch to Newton."
   ],
   "metadata": {}
  },
  {
   "outputs": [
    {
     "name": "stdout",
     "output_type": "stream",
     "text": [
      "n     Energy            log10(ΔE)   log10(Δρ)   Diag   Δtime\n",
      "---   ---------------   ---------   ---------   ----   ------\n",
      "  1   -7.846862207895                   -0.70    4.5         \n"
     ]
    }
   ],
   "cell_type": "code",
   "source": [
    "scfres_start = self_consistent_field(basis; tol=0.5);"
   ],
   "metadata": {},
   "execution_count": 5
  },
  {
   "cell_type": "markdown",
   "source": [
    "Remove the virtual orbitals (which Newton cannot treat yet)"
   ],
   "metadata": {}
  },
  {
   "outputs": [
    {
     "name": "stdout",
     "output_type": "stream",
     "text": [
      "n     Energy            log10(ΔE)   log10(Δρ)   Δtime\n",
      "---   ---------------   ---------   ---------   ------\n",
      "  1   -7.852645925433                   -1.64         \n",
      "  2   -7.852646686730       -6.12       -3.71    1.95s\n",
      "  3   -7.852646686730      -13.32       -7.26    186ms\n"
     ]
    }
   ],
   "cell_type": "code",
   "source": [
    "ψ = DFTK.select_occupied_orbitals(basis, scfres_start.ψ, scfres_start.occupation).ψ\n",
    "scfres_newton = newton(basis, ψ; tol);"
   ],
   "metadata": {},
   "execution_count": 6
  },
  {
   "cell_type": "markdown",
   "source": [
    "## Comparison of results"
   ],
   "metadata": {}
  },
  {
   "outputs": [
    {
     "name": "stdout",
     "output_type": "stream",
     "text": [
      "|ρ_newton - ρ_scf|  = 6.213438675174651e-7\n",
      "|ρ_newton - ρ_scfv| = 1.9935469726770303e-7\n",
      "|ρ_newton - ρ_dm|   = 7.657485560488458e-10\n"
     ]
    }
   ],
   "cell_type": "code",
   "source": [
    "println(\"|ρ_newton - ρ_scf|  = \", norm(scfres_newton.ρ - scfres_scf.ρ))\n",
    "println(\"|ρ_newton - ρ_scfv| = \", norm(scfres_newton.ρ - scfres_scfv.ρ))\n",
    "println(\"|ρ_newton - ρ_dm|   = \", norm(scfres_newton.ρ - scfres_dm.ρ))"
   ],
   "metadata": {},
   "execution_count": 7
  }
 ],
 "nbformat_minor": 3,
 "metadata": {
  "language_info": {
   "file_extension": ".jl",
   "mimetype": "application/julia",
   "name": "julia",
   "version": "1.9.0"
  },
  "kernelspec": {
   "name": "julia-1.9",
   "display_name": "Julia 1.9.0",
   "language": "julia"
  }
 },
 "nbformat": 4
}
