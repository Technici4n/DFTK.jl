{
 "cells": [
  {
   "cell_type": "markdown",
   "source": [
    "# Eigenvalues of the dielectric matrix\n",
    "\n",
    "We compute a few eigenvalues of the dielectric matrix ($q=0$, $ω=0$) iteratively."
   ],
   "metadata": {}
  },
  {
   "outputs": [
    {
     "name": "stdout",
     "output_type": "stream",
     "text": [
      "n     Energy            log10(ΔE)   log10(Δρ)   Diag\n",
      "---   ---------------   ---------   ---------   ----\n",
      "  1   -7.235457038863                   -0.50    8.0\n",
      "  2   -7.250428347548       -1.82       -1.40    1.0\n",
      "  3   -7.251315963184       -3.05       -2.15    4.0\n",
      "  4   -7.251287766004   +   -4.55       -2.28    3.0\n",
      "  5   -7.251328440339       -4.39       -2.66    2.0\n",
      "  6   -7.251337703051       -5.03       -3.10    2.0\n",
      "  7   -7.251338760777       -5.98       -3.92    1.0\n",
      "  8   -7.251338791390       -7.51       -4.10    4.0\n",
      "  9   -7.251338797672       -8.20       -4.52    2.0\n",
      " 10   -7.251338798529       -9.07       -4.95    2.0\n",
      " 11   -7.251338798702       -9.76       -5.66    3.0\n",
      " 12   -7.251338798704      -11.55       -6.30    3.0\n",
      " 13   -7.251338798704      -13.32       -6.54    3.0\n",
      " 14   -7.251338798705      -13.03       -6.95    3.0\n",
      " 15   -7.251338798705      -13.85       -7.89    3.0\n",
      " 16   -7.251338798705   +  -14.45       -8.18    3.0\n"
     ]
    }
   ],
   "cell_type": "code",
   "source": [
    "using DFTK\n",
    "using Plots\n",
    "using KrylovKit\n",
    "using Printf\n",
    "\n",
    "# Calculation parameters\n",
    "kgrid = [1, 1, 1]\n",
    "Ecut = 5\n",
    "\n",
    "# Silicon lattice\n",
    "a = 10.26\n",
    "lattice = a / 2 .* [[0 1 1.]; [1 0 1.]; [1 1 0.]]\n",
    "Si = ElementPsp(:Si, psp=load_psp(\"hgh/lda/Si-q4\"))\n",
    "atoms     = [Si, Si]\n",
    "positions = [ones(3)/8, -ones(3)/8]\n",
    "\n",
    "# Compute the dielectric operator without symmetries\n",
    "model = model_LDA(lattice, atoms, positions, symmetries=false)\n",
    "basis = PlaneWaveBasis(model; Ecut, kgrid)\n",
    "scfres = self_consistent_field(basis, tol=1e-14);"
   ],
   "metadata": {},
   "execution_count": 1
  },
  {
   "cell_type": "markdown",
   "source": [
    "Applying $ε^† ≔ (1- χ_0 K)$ …"
   ],
   "metadata": {}
  },
  {
   "outputs": [],
   "cell_type": "code",
   "source": [
    "function eps_fun(δρ)\n",
    "    δV = apply_kernel(basis, δρ; ρ=scfres.ρ)\n",
    "    χ0δV = apply_χ0(scfres, δV)\n",
    "    δρ - χ0δV\n",
    "end;"
   ],
   "metadata": {},
   "execution_count": 2
  },
  {
   "cell_type": "markdown",
   "source": [
    "… eagerly diagonalizes the subspace matrix at each iteration"
   ],
   "metadata": {}
  },
  {
   "outputs": [
    {
     "name": "stdout",
     "output_type": "stream",
     "text": [
      "[ Info: Arnoldi iteration step 1: normres = 0.08237171530050631\n",
      "[ Info: Arnoldi iteration step 2: normres = 0.5321243569017696\n",
      "[ Info: Arnoldi iteration step 3: normres = 0.7231010933079147\n",
      "[ Info: Arnoldi iteration step 4: normres = 0.2520296842556132\n",
      "[ Info: Arnoldi iteration step 5: normres = 0.6178606899080716\n",
      "[ Info: Arnoldi schursolve in iter 1, krylovdim = 5: 0 values converged, normres = (2.84e-02, 9.88e-02, 5.82e-01, 1.79e-01, 1.16e-02)\n",
      "[ Info: Arnoldi iteration step 6: normres = 0.22157825994448085\n",
      "[ Info: Arnoldi schursolve in iter 1, krylovdim = 6: 0 values converged, normres = (4.51e-03, 1.00e-01, 1.14e-01, 1.22e-01, 7.06e-02)\n",
      "[ Info: Arnoldi iteration step 7: normres = 0.07405818415139545\n",
      "[ Info: Arnoldi schursolve in iter 1, krylovdim = 7: 0 values converged, normres = (1.58e-04, 6.47e-03, 7.32e-03, 4.86e-02, 5.01e-02)\n",
      "[ Info: Arnoldi iteration step 8: normres = 0.08890854013733271\n",
      "[ Info: Arnoldi schursolve in iter 1, krylovdim = 8: 0 values converged, normres = (6.16e-06, 4.19e-04, 5.25e-04, 1.51e-02, 4.07e-02)\n",
      "[ Info: Arnoldi iteration step 9: normres = 0.07847236245889924\n",
      "[ Info: Arnoldi schursolve in iter 1, krylovdim = 9: 0 values converged, normres = (2.04e-07, 2.25e-05, 3.12e-05, 3.37e-03, 2.14e-02)\n",
      "[ Info: Arnoldi iteration step 10: normres = 0.10255428963144074\n",
      "[ Info: Arnoldi schursolve in iter 1, krylovdim = 10: 0 values converged, normres = (9.33e-09, 1.73e-06, 2.68e-06, 1.47e-03, 4.49e-02)\n",
      "[ Info: Arnoldi iteration step 11: normres = 0.08099834589269198\n",
      "[ Info: Arnoldi schursolve in iter 1, krylovdim = 11: 0 values converged, normres = (3.27e-10, 9.97e-08, 1.72e-07, 4.16e-04, 3.68e-02)\n",
      "[ Info: Arnoldi iteration step 12: normres = 0.0886057234400989\n",
      "[ Info: Arnoldi schursolve in iter 1, krylovdim = 12: 0 values converged, normres = (1.25e-11, 6.31e-09, 1.21e-08, 1.27e-04, 2.26e-02)\n",
      "[ Info: Arnoldi iteration step 13: normres = 0.09175121110078673\n",
      "[ Info: Arnoldi schursolve in iter 1, krylovdim = 13: 1 values converged, normres = (4.86e-13, 3.97e-10, 8.42e-10, 3.31e-05, 1.09e-02)\n",
      "[ Info: Arnoldi iteration step 14: normres = 0.43920277580119876\n",
      "[ Info: Arnoldi schursolve in iter 1, krylovdim = 14: 1 values converged, normres = (1.94e-13, 9.11e-10, 7.16e-09, 4.38e-01, 2.51e-03)\n",
      "[ Info: Arnoldi iteration step 15: normres = 0.20314779634424232\n",
      "[ Info: Arnoldi schursolve in iter 1, krylovdim = 15: 1 values converged, normres = (1.90e-14, 5.71e-10, 6.44e-02, 1.88e-04, 2.00e-05)\n",
      "[ Info: Arnoldi iteration step 16: normres = 0.16264824758825328\n",
      "[ Info: Arnoldi schursolve in iter 1, krylovdim = 16: 1 values converged, normres = (3.00e-15, 1.15e-08, 7.94e-02, 1.09e-03, 1.40e-01)\n",
      "[ Info: Arnoldi iteration step 17: normres = 0.02911256943655493\n",
      "[ Info: Arnoldi schursolve in iter 1, krylovdim = 17: 1 values converged, normres = (3.69e-17, 6.24e-09, 1.70e-03, 2.48e-03, 1.50e-03)\n",
      "[ Info: Arnoldi iteration step 18: normres = 0.01678288344445435\n",
      "[ Info: Arnoldi schursolve in iter 1, krylovdim = 18: 1 values converged, normres = (2.56e-19, 1.57e-05, 1.05e-05, 1.65e-07, 3.55e-05)\n",
      "[ Info: Arnoldi iteration step 19: normres = 0.21232008587515577\n",
      "[ Info: Arnoldi schursolve in iter 1, krylovdim = 19: 1 values converged, normres = (2.37e-20, 1.46e-08, 2.89e-06, 8.21e-08, 6.04e-06)\n",
      "[ Info: Arnoldi iteration step 20: normres = 0.05078459034493199\n",
      "[ Info: Arnoldi schursolve in iter 1, krylovdim = 20: 1 values converged, normres = (5.68e-22, 2.73e-08, 1.19e-07, 1.18e-07, 2.65e-07)\n",
      "[ Info: Arnoldi iteration step 21: normres = 0.028819196406694277\n",
      "[ Info: Arnoldi schursolve in iter 1, krylovdim = 21: 1 values converged, normres = (6.82e-24, 8.41e-10, 2.21e-09, 6.15e-09, 7.28e-10)\n",
      "[ Info: Arnoldi iteration step 22: normres = 0.03235239710881815\n",
      "[ Info: Arnoldi schursolve in iter 1, krylovdim = 22: 1 values converged, normres = (9.07e-26, 1.55e-11, 4.77e-11, 1.43e-10, 1.81e-11)\n",
      "[ Info: Arnoldi iteration step 23: normres = 0.6915548050611314\n",
      "[ Info: Arnoldi schursolve in iter 1, krylovdim = 23: 1 values converged, normres = (3.99e-26, 1.62e-11, 4.96e-11, 1.88e-10, 2.47e-11)\n",
      "[ Info: Arnoldi iteration step 24: normres = 0.01624605606570299\n",
      "[ Info: Arnoldi schursolve in iter 1, krylovdim = 24: 2 values converged, normres = (3.98e-28, 8.10e-13, 2.49e-12, 7.39e-09, 2.82e-09)\n",
      "[ Info: Arnoldi iteration step 25: normres = 0.023325522448953973\n",
      "[ Info: Arnoldi schursolve in iter 1, krylovdim = 25: 3 values converged, normres = (3.81e-30, 1.23e-14, 3.79e-14, 2.75e-09, 6.85e-10)\n",
      "[ Info: Arnoldi iteration step 26: normres = 0.11164173226711986\n",
      "[ Info: Arnoldi schursolve in iter 1, krylovdim = 26: 3 values converged, normres = (1.87e-31, 1.01e-15, 3.10e-15, 1.07e-08, 3.58e-09)\n",
      "[ Info: Arnoldi iteration step 27: normres = 0.03834561677897792\n",
      "[ Info: Arnoldi schursolve in iter 1, krylovdim = 27: 3 values converged, normres = (3.04e-33, 2.67e-17, 8.19e-17, 4.28e-07, 4.95e-08)\n",
      "[ Info: Arnoldi iteration step 28: normres = 0.09152516469510347\n",
      "[ Info: Arnoldi schursolve in iter 1, krylovdim = 28: 3 values converged, normres = (1.21e-34, 1.76e-18, 5.42e-18, 1.23e-08, 2.67e-09)\n",
      "[ Info: Arnoldi iteration step 29: normres = 0.033368729251432284\n",
      "[ Info: Arnoldi schursolve in iter 1, krylovdim = 29: 3 values converged, normres = (1.70e-36, 3.99e-20, 1.23e-19, 2.94e-10, 7.61e-10)\n",
      "[ Info: Arnoldi iteration step 30: normres = 0.17528153154728335\n",
      "[ Info: Arnoldi schursolve in iter 1, krylovdim = 30: 3 values converged, normres = (1.35e-37, 5.38e-21, 1.65e-20, 4.15e-11, 1.16e-10)\n",
      "[ Info: Arnoldi schursolve in iter 2, krylovdim = 19: 3 values converged, normres = (1.35e-37, 5.38e-21, 1.65e-20, 4.15e-11, 1.16e-10)\n",
      "[ Info: Arnoldi iteration step 20: normres = 0.1276539172693628\n",
      "[ Info: Arnoldi schursolve in iter 2, krylovdim = 20: 3 values converged, normres = (8.01e-39, 5.54e-22, 1.70e-21, 4.87e-12, 1.35e-11)\n",
      "[ Info: Arnoldi iteration step 21: normres = 0.02922260313037931\n",
      "┌ Info: Arnoldi eigsolve finished after 2 iterations:\n",
      "│ *  6 eigenvalues converged\n",
      "│ *  norm of residuals = (9.96950800592025e-41, 1.1302261356032166e-23, 3.639919015283924e-23, 1.1009369889023698e-13, 3.218306523532242e-13, 2.5714807765393932e-14)\n",
      "└ *  number of operations = 32\n"
     ]
    }
   ],
   "cell_type": "code",
   "source": [
    "eigsolve(eps_fun, randn(size(scfres.ρ)), 5, :LM; eager=true, verbosity=3);"
   ],
   "metadata": {},
   "execution_count": 3
  }
 ],
 "nbformat_minor": 3,
 "metadata": {
  "language_info": {
   "file_extension": ".jl",
   "mimetype": "application/julia",
   "name": "julia",
   "version": "1.8.1"
  },
  "kernelspec": {
   "name": "julia-1.8",
   "display_name": "Julia 1.8.1",
   "language": "julia"
  }
 },
 "nbformat": 4
}
