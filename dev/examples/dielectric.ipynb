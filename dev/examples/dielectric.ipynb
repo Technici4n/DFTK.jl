{
 "cells": [
  {
   "cell_type": "markdown",
   "source": [
    "# Eigenvalues of the dielectric matrix\n",
    "\n",
    "We compute a few eigenvalues of the dielectric matrix ($q=0$, $ω=0$) iteratively."
   ],
   "metadata": {}
  },
  {
   "outputs": [
    {
     "name": "stdout",
     "output_type": "stream",
     "text": [
      "n     Energy            log10(ΔE)   log10(Δρ)   Diag\n",
      "---   ---------------   ---------   ---------   ----\n",
      "  1   -7.235378516119                   -0.50    8.0\n",
      "  2   -7.250412794343       -1.82       -1.41    1.0\n",
      "  3   -7.251199180346       -3.10       -2.00    4.0\n",
      "  4   -7.251002573451   +   -3.71       -1.90    4.0\n",
      "  5   -7.251334995120       -3.48       -2.83    3.0\n",
      "  6   -7.251338236553       -5.49       -3.19    3.0\n",
      "  7   -7.251338787490       -6.26       -4.11    2.0\n",
      "  8   -7.251338795550       -8.09       -4.30    4.0\n",
      "  9   -7.251338798627       -8.51       -4.96    3.0\n",
      " 10   -7.251338798672      -10.35       -5.30    1.0\n",
      " 11   -7.251338798703      -10.50       -5.98    3.0\n",
      " 12   -7.251338798704      -12.05       -6.29    2.0\n",
      " 13   -7.251338798705      -12.68       -7.12    3.0\n",
      " 14   -7.251338798705      -14.45       -7.25    2.0\n"
     ]
    }
   ],
   "cell_type": "code",
   "source": [
    "using DFTK\n",
    "using Plots\n",
    "using KrylovKit\n",
    "using Printf\n",
    "\n",
    "# Calculation parameters\n",
    "kgrid = [1, 1, 1]\n",
    "Ecut = 5\n",
    "\n",
    "# Silicon lattice\n",
    "a = 10.26\n",
    "lattice = a / 2 .* [[0 1 1.]; [1 0 1.]; [1 1 0.]]\n",
    "Si = ElementPsp(:Si, psp=load_psp(\"hgh/lda/Si-q4\"))\n",
    "atoms     = [Si, Si]\n",
    "positions = [ones(3)/8, -ones(3)/8]\n",
    "\n",
    "# Compute the dielectric operator without symmetries\n",
    "model = model_LDA(lattice, atoms, positions, symmetries=false)\n",
    "basis = PlaneWaveBasis(model; Ecut, kgrid)\n",
    "scfres = self_consistent_field(basis, tol=1e-14);"
   ],
   "metadata": {},
   "execution_count": 1
  },
  {
   "cell_type": "markdown",
   "source": [
    "Applying $ε^† ≔ (1- χ_0 K)$ …"
   ],
   "metadata": {}
  },
  {
   "outputs": [],
   "cell_type": "code",
   "source": [
    "function eps_fun(δρ)\n",
    "    δV = apply_kernel(basis, δρ; ρ=scfres.ρ)\n",
    "    χ0δV = apply_χ0(scfres, δV)\n",
    "    δρ - χ0δV\n",
    "end;"
   ],
   "metadata": {},
   "execution_count": 2
  },
  {
   "cell_type": "markdown",
   "source": [
    "… eagerly diagonalizes the subspace matrix at each iteration"
   ],
   "metadata": {}
  },
  {
   "outputs": [
    {
     "name": "stdout",
     "output_type": "stream",
     "text": [
      "[ Info: Arnoldi iteration step 1: normres = 0.07294031242011863\n",
      "[ Info: Arnoldi iteration step 2: normres = 0.5792058461468899\n",
      "[ Info: Arnoldi iteration step 3: normres = 0.7831522124548206\n",
      "[ Info: Arnoldi iteration step 4: normres = 0.27674708484663524\n",
      "[ Info: Arnoldi iteration step 5: normres = 0.4529486047336903\n",
      "[ Info: Arnoldi schursolve in iter 1, krylovdim = 5: 0 values converged, normres = (2.06e-02, 6.43e-02, 3.69e-01, 2.53e-01, 1.78e-02)\n",
      "[ Info: Arnoldi iteration step 6: normres = 0.3153543972892036\n",
      "[ Info: Arnoldi schursolve in iter 1, krylovdim = 6: 0 values converged, normres = (5.36e-03, 9.11e-02, 2.64e-01, 1.00e-01, 3.73e-02)\n",
      "[ Info: Arnoldi iteration step 7: normres = 0.06616690784097522\n",
      "[ Info: Arnoldi schursolve in iter 1, krylovdim = 7: 0 values converged, normres = (1.69e-04, 6.61e-03, 1.42e-02, 2.45e-02, 5.62e-02)\n",
      "[ Info: Arnoldi iteration step 8: normres = 0.10953541568081857\n",
      "[ Info: Arnoldi schursolve in iter 1, krylovdim = 8: 0 values converged, normres = (7.97e-06, 5.14e-04, 1.21e-03, 8.52e-03, 4.87e-02)\n",
      "[ Info: Arnoldi iteration step 9: normres = 0.08607720128303814\n",
      "[ Info: Arnoldi schursolve in iter 1, krylovdim = 9: 0 values converged, normres = (3.01e-07, 3.23e-05, 8.50e-05, 2.84e-03, 5.30e-02)\n",
      "[ Info: Arnoldi iteration step 10: normres = 0.09251595796387795\n",
      "[ Info: Arnoldi schursolve in iter 1, krylovdim = 10: 0 values converged, normres = (1.21e-08, 2.14e-06, 6.28e-06, 9.18e-04, 3.64e-02)\n",
      "[ Info: Arnoldi iteration step 11: normres = 0.07320817041026476\n",
      "[ Info: Arnoldi schursolve in iter 1, krylovdim = 11: 0 values converged, normres = (3.86e-10, 1.13e-07, 3.69e-07, 2.47e-04, 2.31e-02)\n",
      "[ Info: Arnoldi iteration step 12: normres = 0.1019831955846596\n",
      "[ Info: Arnoldi schursolve in iter 1, krylovdim = 12: 0 values converged, normres = (1.70e-11, 8.21e-09, 2.97e-08, 8.35e-05, 1.69e-02)\n",
      "[ Info: Arnoldi iteration step 13: normres = 0.08760265350858686\n",
      "[ Info: Arnoldi schursolve in iter 1, krylovdim = 13: 1 values converged, normres = (6.38e-13, 5.05e-10, 2.03e-09, 2.32e-05, 1.03e-02)\n",
      "[ Info: Arnoldi iteration step 14: normres = 0.41239627025942815\n",
      "[ Info: Arnoldi schursolve in iter 1, krylovdim = 14: 1 values converged, normres = (2.52e-13, 1.54e-09, 1.22e-01, 3.93e-01, 1.81e-03)\n",
      "[ Info: Arnoldi iteration step 15: normres = 0.06251504792892927\n",
      "[ Info: Arnoldi schursolve in iter 1, krylovdim = 15: 1 values converged, normres = (7.45e-15, 5.13e-09, 1.78e-02, 2.19e-06, 1.94e-07)\n",
      "[ Info: Arnoldi iteration step 16: normres = 0.5847215905742233\n",
      "[ Info: Arnoldi schursolve in iter 1, krylovdim = 16: 1 values converged, normres = (3.09e-15, 9.06e-09, 2.07e-02, 8.26e-08, 5.83e-01)\n",
      "[ Info: Arnoldi iteration step 17: normres = 0.03131349789111581\n",
      "[ Info: Arnoldi schursolve in iter 1, krylovdim = 17: 1 values converged, normres = (5.43e-17, 2.55e-08, 1.56e-03, 4.17e-07, 1.57e-02)\n",
      "[ Info: Arnoldi iteration step 18: normres = 0.022584833357631198\n",
      "[ Info: Arnoldi schursolve in iter 1, krylovdim = 18: 1 values converged, normres = (5.04e-19, 1.79e-05, 1.47e-05, 1.64e-08, 2.56e-04)\n",
      "[ Info: Arnoldi iteration step 19: normres = 0.19465275857598663\n",
      "[ Info: Arnoldi schursolve in iter 1, krylovdim = 19: 1 values converged, normres = (4.30e-20, 2.47e-08, 3.28e-06, 3.71e-05, 1.59e-05)\n",
      "[ Info: Arnoldi iteration step 20: normres = 0.06584576552870264\n",
      "[ Info: Arnoldi schursolve in iter 1, krylovdim = 20: 1 values converged, normres = (1.33e-21, 4.45e-08, 1.73e-07, 1.29e-08, 2.49e-06)\n",
      "[ Info: Arnoldi iteration step 21: normres = 0.021018746860770484\n",
      "[ Info: Arnoldi schursolve in iter 1, krylovdim = 21: 1 values converged, normres = (1.17e-23, 6.96e-10, 2.42e-09, 6.75e-09, 3.81e-08)\n",
      "[ Info: Arnoldi iteration step 22: normres = 0.0412696088859868\n",
      "[ Info: Arnoldi schursolve in iter 1, krylovdim = 22: 1 values converged, normres = (1.98e-25, 1.82e-11, 6.54e-11, 5.04e-10, 1.04e-09)\n",
      "[ Info: Arnoldi iteration step 23: normres = 0.4686751746792527\n",
      "[ Info: Arnoldi schursolve in iter 1, krylovdim = 23: 1 values converged, normres = (7.63e-26, 2.79e-11, 1.00e-10, 1.22e-09, 3.00e-09)\n",
      "[ Info: Arnoldi iteration step 24: normres = 0.014762643855495144\n",
      "[ Info: Arnoldi schursolve in iter 1, krylovdim = 24: 2 values converged, normres = (5.34e-28, 5.87e-13, 2.11e-12, 8.04e-08, 6.72e-08)\n",
      "[ Info: Arnoldi iteration step 25: normres = 0.06466732666820536\n",
      "[ Info: Arnoldi schursolve in iter 1, krylovdim = 25: 3 values converged, normres = (1.43e-29, 2.50e-14, 8.98e-14, 7.50e-09, 1.12e-07)\n",
      "[ Info: Arnoldi iteration step 26: normres = 0.056156769221567114\n",
      "[ Info: Arnoldi schursolve in iter 1, krylovdim = 26: 3 values converged, normres = (3.61e-31, 1.07e-15, 3.85e-15, 5.50e-06, 1.04e-06)\n",
      "[ Info: Arnoldi iteration step 27: normres = 0.016450286387568708\n",
      "[ Info: Arnoldi schursolve in iter 1, krylovdim = 27: 3 values converged, normres = (2.44e-33, 1.16e-17, 4.16e-17, 1.37e-07, 1.40e-08)\n",
      "[ Info: Arnoldi iteration step 28: normres = 0.07352054659459625\n",
      "[ Info: Arnoldi schursolve in iter 1, krylovdim = 28: 3 values converged, normres = (7.42e-35, 5.63e-19, 2.02e-18, 4.79e-09, 3.61e-11)\n",
      "[ Info: Arnoldi iteration step 29: normres = 0.10894456019494561\n",
      "[ Info: Arnoldi schursolve in iter 1, krylovdim = 29: 3 values converged, normres = (3.67e-36, 4.72e-20, 1.70e-19, 4.87e-10, 3.10e-12)\n",
      "[ Info: Arnoldi iteration step 30: normres = 0.1064839690508725\n",
      "[ Info: Arnoldi schursolve in iter 1, krylovdim = 30: 3 values converged, normres = (1.88e-37, 4.32e-21, 1.55e-20, 5.04e-11, 1.56e-13)\n",
      "[ Info: Arnoldi schursolve in iter 2, krylovdim = 19: 3 values converged, normres = (1.89e-37, 4.32e-21, 1.55e-20, 5.04e-11, 1.56e-13)\n",
      "[ Info: Arnoldi iteration step 20: normres = 0.04085377551855094\n",
      "[ Info: Arnoldi schursolve in iter 2, krylovdim = 20: 3 values converged, normres = (3.21e-39, 1.19e-22, 4.27e-22, 1.53e-12, 7.28e-15)\n",
      "[ Info: Arnoldi iteration step 21: normres = 0.07295828783797229\n",
      "┌ Info: Arnoldi eigsolve finished after 2 iterations:\n",
      "│ *  6 eigenvalues converged\n",
      "│ *  norm of residuals = (1.000126260971882e-40, 6.0388130960655415e-24, 2.1769038311191025e-23, 8.63297080809465e-14, 3.980419973794165e-14, 9.352988643726968e-14)\n",
      "└ *  number of operations = 32\n"
     ]
    }
   ],
   "cell_type": "code",
   "source": [
    "eigsolve(eps_fun, randn(size(scfres.ρ)), 5, :LM; eager=true, verbosity=3);"
   ],
   "metadata": {},
   "execution_count": 3
  }
 ],
 "nbformat_minor": 3,
 "metadata": {
  "language_info": {
   "file_extension": ".jl",
   "mimetype": "application/julia",
   "name": "julia",
   "version": "1.8.1"
  },
  "kernelspec": {
   "name": "julia-1.8",
   "display_name": "Julia 1.8.1",
   "language": "julia"
  }
 },
 "nbformat": 4
}
