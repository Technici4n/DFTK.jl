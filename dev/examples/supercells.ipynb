{
 "cells": [
  {
   "cell_type": "markdown",
   "source": [
    "# Creating and modelling metallic supercells\n",
    "\n",
    "In this section we will be concerned with modelling supercells of aluminium.\n",
    "When dealing with periodic problems there is no unique definition of the\n",
    "lattice: Clearly any duplication of the lattice along an axis is also a valid\n",
    "repetitive unit to describe exactly the same system.\n",
    "This is exactly what a **supercell** is: An $n$-fold repetition along one of the\n",
    "axes of the original lattice.\n",
    "\n",
    "The following code achieves this for aluminium:"
   ],
   "metadata": {}
  },
  {
   "outputs": [],
   "cell_type": "code",
   "source": [
    "using DFTK\n",
    "using LinearAlgebra\n",
    "using ASEconvert\n",
    "\n",
    "function aluminium_setup(repeat=1; Ecut=7.0, kgrid=[2, 2, 2])\n",
    "    a = 7.65339\n",
    "    lattice = a * Matrix(I, 3, 3)\n",
    "    Al = ElementPsp(:Al, psp=load_psp(\"hgh/lda/al-q3\"))\n",
    "    atoms     = [Al, Al, Al, Al]\n",
    "    positions = [[0.0, 0.0, 0.0], [0.0, 0.5, 0.5], [0.5, 0.0, 0.5], [0.5, 0.5, 0.0]]\n",
    "    unit_cell = periodic_system(lattice, atoms, positions)\n",
    "\n",
    "    # Make supercell in ASE:\n",
    "    # We convert our lattice to the conventions used in ASE, make the supercell\n",
    "    # and then convert back ...\n",
    "    supercell_ase = convert_ase(unit_cell) * pytuple((repeat, 1, 1))\n",
    "    supercell     = pyconvert(AbstractSystem, supercell_ase)\n",
    "\n",
    "    # Unfortunately right now the conversion to ASE drops the pseudopotential information,\n",
    "    # so we need to reattach it:\n",
    "    supercell = attach_psp(supercell, Al=\"hgh/lda/al-q3\")\n",
    "\n",
    "    # Construct an LDA model and discretise\n",
    "    # Note: We disable symmetries explicitly here. Otherwise the problem sizes\n",
    "    #       we are able to run on the CI are too simple to observe the numerical\n",
    "    #       instabilities we want to trigger here.\n",
    "    model = model_LDA(supercell; temperature=1e-3, symmetries=false)\n",
    "    PlaneWaveBasis(model; Ecut, kgrid)\n",
    "end;"
   ],
   "metadata": {},
   "execution_count": 1
  },
  {
   "cell_type": "markdown",
   "source": [
    "As part of the code we are using a routine inside the ASE,\n",
    "the [atomistic simulation environment](https://wiki.fysik.dtu.dk/ase/index.html)\n",
    "for creating the supercell and make use of the two-way interoperability of\n",
    "DFTK and ASE. For more details on this aspect see the documentation\n",
    "on Input and output formats."
   ],
   "metadata": {}
  },
  {
   "cell_type": "markdown",
   "source": [
    "Write an example supercell structure to a file to plot it:"
   ],
   "metadata": {}
  },
  {
   "outputs": [
    {
     "name": "stdout",
     "output_type": "stream",
     "text": [
      "┌ Warning: Skipping atomic property pseudopotential, which is not supported in ASE.\n",
      "└ @ ASEconvert ~/.julia/packages/ASEconvert/neSFl/src/ASEconvert.jl:123\n",
      "┌ Warning: Skipping atomic property pseudopotential, which is not supported in ASE.\n",
      "└ @ ASEconvert ~/.julia/packages/ASEconvert/neSFl/src/ASEconvert.jl:123\n"
     ]
    },
    {
     "output_type": "execute_result",
     "data": {
      "text/plain": "\u001b[0m\u001b[1mPython None\u001b[22m"
     },
     "metadata": {},
     "execution_count": 2
    }
   ],
   "cell_type": "code",
   "source": [
    "setup = aluminium_setup(5)\n",
    "convert_ase(periodic_system(setup.model)).write(\"al_supercell.png\")"
   ],
   "metadata": {},
   "execution_count": 2
  },
  {
   "cell_type": "markdown",
   "source": [
    "<img src=\"https://docs.dftk.org/stable/examples/al_supercell.png\" width=500 height=500 />"
   ],
   "metadata": {}
  },
  {
   "cell_type": "markdown",
   "source": [
    "As we will see in this notebook the modelling of a system generally becomes\n",
    "harder if the system becomes larger.\n",
    "\n",
    "- This sounds like a trivial statement as *per se* the cost per SCF step increases\n",
    "  as the system (and thus $N$) gets larger.\n",
    "- But there is more to it:\n",
    "  If one is not careful also the *number of SCF iterations* increases\n",
    "  as the system gets larger.\n",
    "- The aim of a proper computational treatment of such supercells is therefore\n",
    "  to ensure that the **number of SCF iterations remains constant** when the\n",
    "  system size increases."
   ],
   "metadata": {}
  },
  {
   "cell_type": "markdown",
   "source": [
    "For achieving the latter DFTK by default employs the `LdosMixing`\n",
    "preconditioner [^HL2021] during the SCF iterations. This mixing approach is\n",
    "completely parameter free, but still automatically adapts to the treated\n",
    "system in order to efficiently prevent charge sloshing. As a result,\n",
    "modelling aluminium slabs indeed takes roughly the same number of SCF iterations\n",
    "irrespective of the supercell size:\n",
    "\n",
    "[^HL2021]:\n",
    "   M. F. Herbst and A. Levitt.\n",
    "   *Black-box inhomogeneous preconditioning for self-consistent field iterations in density functional theory.*\n",
    "   J. Phys. Cond. Matt *33* 085503 (2021). [ArXiv:2009.01665](https://arxiv.org/abs/2009.01665)"
   ],
   "metadata": {}
  },
  {
   "outputs": [
    {
     "name": "stdout",
     "output_type": "stream",
     "text": [
      "┌ Warning: Skipping atomic property pseudopotential, which is not supported in ASE.\n",
      "└ @ ASEconvert ~/.julia/packages/ASEconvert/neSFl/src/ASEconvert.jl:123\n",
      "n     Energy            log10(ΔE)   log10(Δρ)   Diag   Δtime\n",
      "---   ---------------   ---------   ---------   ----   ------\n",
      "  1   -8.298358755087                   -0.85    5.5         \n",
      "  2   -8.300181819885       -2.74       -1.25    1.0    102ms\n",
      "  3   -8.300428454089       -3.61       -1.88    2.8    132ms\n",
      "  4   -8.300461392492       -4.48       -2.75    1.9    114ms\n",
      "  5   -8.300463826955       -5.61       -3.02    3.0    252ms\n",
      "  6   -8.300464235403       -6.39       -3.22    5.5    156ms\n",
      "  7   -8.300464439005       -6.69       -3.37    5.0    174ms\n",
      "  8   -8.300464551915       -6.95       -3.53    2.0    128ms\n",
      "  9   -8.300464617040       -7.19       -3.72    1.5    121ms\n",
      " 10   -8.300464631630       -7.84       -3.86    1.4    120ms\n",
      " 11   -8.300464642679       -7.96       -4.15    3.0    192ms\n"
     ]
    }
   ],
   "cell_type": "code",
   "source": [
    "self_consistent_field(aluminium_setup(1); tol=1e-4);"
   ],
   "metadata": {},
   "execution_count": 3
  },
  {
   "outputs": [
    {
     "name": "stdout",
     "output_type": "stream",
     "text": [
      "┌ Warning: Skipping atomic property pseudopotential, which is not supported in ASE.\n",
      "└ @ ASEconvert ~/.julia/packages/ASEconvert/neSFl/src/ASEconvert.jl:123\n",
      "n     Energy            log10(ΔE)   log10(Δρ)   Diag   Δtime\n",
      "---   ---------------   ---------   ---------   ----   ------\n",
      "  1   -16.67386911274                   -0.70    6.4         \n",
      "  2   -16.67869706351       -2.32       -1.14    1.2    264ms\n",
      "  3   -16.67920402847       -3.30       -1.87    1.5    270ms\n",
      "  4   -16.67927957614       -4.12       -2.77    5.0    395ms\n",
      "  5   -16.67928593309       -5.20       -3.18    3.8    361ms\n",
      "  6   -16.67928619564       -6.58       -3.48    2.5    314ms\n",
      "  7   -16.67928621613       -7.69       -3.95    1.9    268ms\n",
      "  8   -16.67928622146       -8.27       -4.56    2.5    304ms\n"
     ]
    }
   ],
   "cell_type": "code",
   "source": [
    "self_consistent_field(aluminium_setup(2); tol=1e-4);"
   ],
   "metadata": {},
   "execution_count": 4
  },
  {
   "outputs": [
    {
     "name": "stdout",
     "output_type": "stream",
     "text": [
      "┌ Warning: Skipping atomic property pseudopotential, which is not supported in ASE.\n",
      "└ @ ASEconvert ~/.julia/packages/ASEconvert/neSFl/src/ASEconvert.jl:123\n",
      "n     Energy            log10(ΔE)   log10(Δρ)   Diag   Δtime\n",
      "---   ---------------   ---------   ---------   ----   ------\n",
      "  1   -33.32781589420                   -0.56    6.9         \n",
      "  2   -33.33458767436       -2.17       -1.00    1.1    991ms\n",
      "  3   -33.33596664461       -2.86       -1.72    5.1    1.29s\n",
      "  4   -33.33614054105       -3.76       -2.63    4.4    1.19s\n",
      "  5   -33.33681582949       -3.17       -2.27    8.0    1.62s\n",
      "  6   -33.33685052758       -4.46       -2.34    1.2    904ms\n",
      "  7   -33.33694338622       -4.03       -3.64    1.6    1.02s\n",
      "  8   -33.33694365386       -6.57       -3.68    5.4    1.60s\n",
      "  9   -33.33694378035       -6.90       -4.25    1.4    903ms\n"
     ]
    }
   ],
   "cell_type": "code",
   "source": [
    "self_consistent_field(aluminium_setup(4); tol=1e-4);"
   ],
   "metadata": {},
   "execution_count": 5
  },
  {
   "cell_type": "markdown",
   "source": [
    "When switching off explicitly the `LdosMixing`, by selecting `mixing=SimpleMixing()`,\n",
    "the performance of number of required SCF steps starts to increase as we increase\n",
    "the size of the modelled problem:"
   ],
   "metadata": {}
  },
  {
   "outputs": [
    {
     "name": "stdout",
     "output_type": "stream",
     "text": [
      "┌ Warning: Skipping atomic property pseudopotential, which is not supported in ASE.\n",
      "└ @ ASEconvert ~/.julia/packages/ASEconvert/neSFl/src/ASEconvert.jl:123\n",
      "n     Energy            log10(ΔE)   log10(Δρ)   Diag   Δtime\n",
      "---   ---------------   ---------   ---------   ----   ------\n",
      "  1   -8.298132698358                   -0.85    5.2         \n",
      "  2   -8.300253214478       -2.67       -1.59    1.0   82.1ms\n",
      "  3   -8.300409723682       -3.81       -2.45    3.2    115ms\n",
      "  4   -8.300348052224   +   -4.21       -2.22    3.2    136ms\n",
      "  5   -8.300463097170       -3.94       -3.20    1.1   83.9ms\n",
      "  6   -8.300464479222       -5.86       -3.62    2.6    118ms\n",
      "  7   -8.300464632305       -6.82       -4.21    1.8   96.4ms\n"
     ]
    }
   ],
   "cell_type": "code",
   "source": [
    "self_consistent_field(aluminium_setup(1); tol=1e-4, mixing=SimpleMixing());"
   ],
   "metadata": {},
   "execution_count": 6
  },
  {
   "outputs": [
    {
     "name": "stdout",
     "output_type": "stream",
     "text": [
      "┌ Warning: Skipping atomic property pseudopotential, which is not supported in ASE.\n",
      "└ @ ASEconvert ~/.julia/packages/ASEconvert/neSFl/src/ASEconvert.jl:123\n",
      "n     Energy            log10(ΔE)   log10(Δρ)   Diag   Δtime\n",
      "---   ---------------   ---------   ---------   ----   ------\n",
      "  1   -33.28911271880                   -0.56    6.8         \n",
      "  2   -33.32991039864       -1.39       -1.26    1.5    811ms\n",
      "  3   -29.01976558417   +    0.63       -0.75    6.8    1.53s\n",
      "  4   -31.96609679950        0.47       -0.99    4.6    1.45s\n",
      "  5   -33.23069096477        0.10       -1.24    3.4    1.20s\n",
      "  6   -33.23725915560       -2.18       -1.54    2.5    1.07s\n",
      "  7   -32.61171692003   +   -0.20       -1.13    4.4    1.27s\n",
      "  8   -33.33102472590       -0.14       -2.09    3.6    1.12s\n",
      "  9   -33.33426933033       -2.49       -2.24    3.6    1.13s\n",
      " 10   -33.33510893297       -3.08       -2.30    1.6    889ms\n",
      " 11   -33.33600337711       -3.05       -2.44    1.8    892ms\n",
      " 12   -33.33682152550       -3.09       -2.74    2.0    903ms\n",
      " 13   -33.33688928542       -4.17       -2.91    2.6    992ms\n",
      " 14   -33.33693412103       -4.35       -3.17    2.8    1.02s\n",
      " 15   -33.33694179157       -5.12       -3.74    2.5    1.05s\n",
      " 16   -33.33692625884   +   -4.81       -3.44    4.0    1.35s\n",
      " 17   -33.33694360874       -4.76       -4.17    3.0    1.10s\n"
     ]
    }
   ],
   "cell_type": "code",
   "source": [
    "self_consistent_field(aluminium_setup(4); tol=1e-4, mixing=SimpleMixing());"
   ],
   "metadata": {},
   "execution_count": 7
  },
  {
   "cell_type": "markdown",
   "source": [
    "For completion let us note that the more traditional `mixing=KerkerMixing()`\n",
    "approach would also help in this particular setting to obtain a constant\n",
    "number of SCF iterations for an increasing system size (try it!). In contrast\n",
    "to `LdosMixing`, however, `KerkerMixing` is only suitable to model bulk metallic\n",
    "system (like the case we are considering here). When modelling metallic surfaces\n",
    "or mixtures of metals and insulators, `KerkerMixing` fails, while `LdosMixing`\n",
    "still works well. See the Modelling a gallium arsenide surface example\n",
    "or [^HL2021] for details. Due to the general applicability of `LdosMixing` this\n",
    "method is the default mixing approach in DFTK."
   ],
   "metadata": {}
  }
 ],
 "nbformat_minor": 3,
 "metadata": {
  "language_info": {
   "file_extension": ".jl",
   "mimetype": "application/julia",
   "name": "julia",
   "version": "1.8.5"
  },
  "kernelspec": {
   "name": "julia-1.8",
   "display_name": "Julia 1.8.5",
   "language": "julia"
  }
 },
 "nbformat": 4
}
