{
 "cells": [
  {
   "cell_type": "markdown",
   "source": [
    "# Comparison of DFT solvers"
   ],
   "metadata": {}
  },
  {
   "cell_type": "markdown",
   "source": [
    "We compare four different approaches for solving the DFT minimisation problem,\n",
    "namely a density-based SCF, a potential-based SCF, direct minimisation and Newton."
   ],
   "metadata": {}
  },
  {
   "cell_type": "markdown",
   "source": [
    "First we setup our problem"
   ],
   "metadata": {}
  },
  {
   "outputs": [],
   "cell_type": "code",
   "source": [
    "using DFTK\n",
    "using LinearAlgebra\n",
    "\n",
    "a = 10.26  # Silicon lattice constant in Bohr\n",
    "lattice = a / 2 * [[0 1 1.];\n",
    "                   [1 0 1.];\n",
    "                   [1 1 0.]]\n",
    "Si = ElementPsp(:Si, psp=load_psp(\"hgh/lda/Si-q4\"))\n",
    "atoms     = [Si, Si]\n",
    "positions = [ones(3)/8, -ones(3)/8]\n",
    "\n",
    "model = model_LDA(lattice, atoms, positions)\n",
    "basis = PlaneWaveBasis(model; Ecut=5, kgrid=[3, 3, 3])\n",
    "\n",
    "# Convergence we desire\n",
    "tol = 1e-12\n",
    "is_converged = DFTK.ScfConvergenceDensity(tol);"
   ],
   "metadata": {},
   "execution_count": 1
  },
  {
   "cell_type": "markdown",
   "source": [
    "## Density-based self-consistent field"
   ],
   "metadata": {}
  },
  {
   "outputs": [
    {
     "name": "stdout",
     "output_type": "stream",
     "text": [
      "n     Energy            log10(ΔE)   log10(Δρ)   Diag\n",
      "---   ---------------   ---------   ---------   ----\n",
      "  1   -7.846897266400                   -0.70    4.8\n",
      "  2   -7.852327958634       -2.27       -1.53    1.0\n",
      "  3   -7.852646054793       -3.50       -2.52    3.0\n",
      "  4   -7.852646678824       -6.20       -3.37    2.8\n",
      "  5   -7.852646686098       -8.14       -4.81    1.2\n",
      "  6   -7.852646686725       -9.20       -5.28    3.5\n",
      "  7   -7.852646686730      -11.29       -6.15    1.8\n",
      "  8   -7.852646686730      -12.71       -7.30    2.2\n",
      "  9   -7.852646686730   +    -Inf       -7.48    2.0\n",
      " 10   -7.852646686730   +    -Inf       -8.51    2.2\n",
      " 11   -7.852646686730   +    -Inf       -9.46    2.2\n",
      " 12   -7.852646686730   +    -Inf      -10.52    2.2\n",
      " 13   -7.852646686730   +    -Inf      -10.77    2.0\n",
      " 14   -7.852646686730   +  -14.75      -11.91    2.2\n",
      " 15   -7.852646686730      -14.57      -12.65    2.5\n"
     ]
    }
   ],
   "cell_type": "code",
   "source": [
    "scfres_scf = self_consistent_field(basis; is_converged);"
   ],
   "metadata": {},
   "execution_count": 2
  },
  {
   "cell_type": "markdown",
   "source": [
    "## Potential-based SCF"
   ],
   "metadata": {}
  },
  {
   "outputs": [
    {
     "name": "stdout",
     "output_type": "stream",
     "text": [
      "n     Energy            log10(ΔE)   log10(Δρ)   α      Diag\n",
      "---   ---------------   ---------   ---------   ----   ----\n",
      "  1   -7.846872976963                   -0.70           4.5\n",
      "  2   -7.852525586223       -2.25       -1.64   0.80    2.2\n",
      "  3   -7.852635832994       -3.96       -2.73   0.80    1.0\n",
      "  4   -7.852646540379       -4.97       -3.25   0.80    2.0\n",
      "  5   -7.852646676032       -6.87       -4.10   0.80    1.5\n",
      "  6   -7.852646686325       -7.99       -4.80   0.80    1.5\n",
      "  7   -7.852646686718       -9.41       -5.52   0.80    2.2\n",
      "  8   -7.852646686729      -10.94       -6.57   0.80    1.8\n",
      "  9   -7.852646686730      -12.39       -7.26   0.80    2.2\n",
      " 10   -7.852646686730      -14.35       -8.26   0.80    1.2\n",
      " 11   -7.852646686730   +  -14.75       -8.34   0.80    2.2\n",
      " 12   -7.852646686730   +    -Inf       -9.80   0.80    1.0\n",
      " 13   -7.852646686730   +    -Inf       -9.83   0.80    3.2\n",
      " 14   -7.852646686730   +  -15.05      -10.76   0.80    1.0\n",
      " 15   -7.852646686730   +    -Inf      -11.78   0.80    1.2\n",
      " 16   -7.852646686730      -15.05      -12.17   0.80    2.5\n"
     ]
    }
   ],
   "cell_type": "code",
   "source": [
    "scfres_scfv = DFTK.scf_potential_mixing(basis; is_converged);"
   ],
   "metadata": {},
   "execution_count": 3
  },
  {
   "cell_type": "markdown",
   "source": [
    "## Direct minimization"
   ],
   "metadata": {}
  },
  {
   "outputs": [
    {
     "name": "stdout",
     "output_type": "stream",
     "text": [
      "Iter     Function value   Gradient norm \n",
      "     0     1.401985e+01     3.459275e+00\n",
      " * time: 0.3973841667175293\n",
      "     1     1.337399e+00     1.763907e+00\n",
      " * time: 0.601402997970581\n",
      "     2    -2.012057e+00     2.040344e+00\n",
      " * time: 0.6248941421508789\n",
      "     3    -3.944220e+00     1.822190e+00\n",
      " * time: 0.6587369441986084\n",
      "     4    -5.510506e+00     1.570311e+00\n",
      " * time: 0.6920671463012695\n",
      "     5    -7.036076e+00     1.035605e+00\n",
      " * time: 0.7257411479949951\n",
      "     6    -7.214904e+00     1.303708e+00\n",
      " * time: 0.7495560646057129\n",
      "     7    -7.668802e+00     7.195014e-01\n",
      " * time: 0.7734489440917969\n",
      "     8    -7.762098e+00     6.236794e-01\n",
      " * time: 0.7973861694335938\n",
      "     9    -7.813468e+00     1.960155e-01\n",
      " * time: 0.8218679428100586\n",
      "    10    -7.833277e+00     6.556674e-02\n",
      " * time: 0.8455901145935059\n",
      "    11    -7.844446e+00     9.507543e-02\n",
      " * time: 0.8691730499267578\n",
      "    12    -7.846101e+00     6.149073e-02\n",
      " * time: 0.8928680419921875\n",
      "    13    -7.846223e+00     5.678739e-02\n",
      " * time: 0.9163539409637451\n",
      "    14    -7.848032e+00     3.823909e-02\n",
      " * time: 0.9399740695953369\n",
      "    15    -7.850832e+00     2.865753e-02\n",
      " * time: 0.9633979797363281\n",
      "    16    -7.852040e+00     1.011250e-02\n",
      " * time: 0.9872241020202637\n",
      "    17    -7.852442e+00     8.818151e-03\n",
      " * time: 1.011286973953247\n",
      "    18    -7.852594e+00     7.569316e-03\n",
      " * time: 1.0350470542907715\n",
      "    19    -7.852628e+00     2.576231e-03\n",
      " * time: 1.0583851337432861\n",
      "    20    -7.852640e+00     1.892882e-03\n",
      " * time: 1.0822420120239258\n",
      "    21    -7.852644e+00     9.553846e-04\n",
      " * time: 1.1062331199645996\n",
      "    22    -7.852646e+00     6.446588e-04\n",
      " * time: 1.1294610500335693\n",
      "    23    -7.852646e+00     2.837678e-04\n",
      " * time: 1.15254807472229\n",
      "    24    -7.852647e+00     2.743331e-04\n",
      " * time: 1.175511121749878\n",
      "    25    -7.852647e+00     1.737205e-04\n",
      " * time: 1.19840407371521\n",
      "    26    -7.852647e+00     5.083529e-05\n",
      " * time: 1.2219080924987793\n",
      "    27    -7.852647e+00     4.533294e-05\n",
      " * time: 1.2449500560760498\n",
      "    28    -7.852647e+00     3.019916e-05\n",
      " * time: 1.2679009437561035\n",
      "    29    -7.852647e+00     1.527636e-05\n",
      " * time: 1.290985107421875\n",
      "    30    -7.852647e+00     1.107896e-05\n",
      " * time: 1.3141770362854004\n",
      "    31    -7.852647e+00     3.570178e-06\n",
      " * time: 1.336920976638794\n",
      "    32    -7.852647e+00     2.675826e-06\n",
      " * time: 1.360145092010498\n",
      "    33    -7.852647e+00     1.398488e-06\n",
      " * time: 1.3827481269836426\n",
      "    34    -7.852647e+00     6.623729e-07\n",
      " * time: 1.4057531356811523\n",
      "    35    -7.852647e+00     6.574240e-07\n",
      " * time: 1.4289679527282715\n",
      "    36    -7.852647e+00     2.774039e-07\n",
      " * time: 1.4520220756530762\n",
      "    37    -7.852647e+00     1.728350e-07\n",
      " * time: 1.4749441146850586\n",
      "    38    -7.852647e+00     7.254971e-08\n",
      " * time: 1.5642311573028564\n",
      "    39    -7.852647e+00     4.420688e-08\n",
      " * time: 1.5880210399627686\n",
      "    40    -7.852647e+00     3.285169e-08\n",
      " * time: 1.6113040447235107\n",
      "    41    -7.852647e+00     1.611967e-08\n",
      " * time: 1.634385108947754\n",
      "    42    -7.852647e+00     1.368899e-08\n",
      " * time: 1.6577990055084229\n",
      "    43    -7.852647e+00     1.345361e-08\n",
      " * time: 1.7009329795837402\n",
      "    44    -7.852647e+00     5.200785e-09\n",
      " * time: 1.7240450382232666\n"
     ]
    }
   ],
   "cell_type": "code",
   "source": [
    "scfres_dm = direct_minimization(basis; tol);"
   ],
   "metadata": {},
   "execution_count": 4
  },
  {
   "cell_type": "markdown",
   "source": [
    "## Newton algorithm"
   ],
   "metadata": {}
  },
  {
   "cell_type": "markdown",
   "source": [
    "Start not too far from the solution to ensure convergence:\n",
    "We run first a very crude SCF to get close and then switch to Newton."
   ],
   "metadata": {}
  },
  {
   "outputs": [
    {
     "name": "stdout",
     "output_type": "stream",
     "text": [
      "n     Energy            log10(ΔE)   log10(Δρ)   Diag\n",
      "---   ---------------   ---------   ---------   ----\n",
      "  1   -7.846866035963                   -0.70    4.5\n",
      "  2   -7.852318480066       -2.26       -1.53    1.0\n"
     ]
    }
   ],
   "cell_type": "code",
   "source": [
    "scfres_start = self_consistent_field(basis; tol=1e-1);"
   ],
   "metadata": {},
   "execution_count": 5
  },
  {
   "cell_type": "markdown",
   "source": [
    "Remove the virtual orbitals (which Newton cannot treat yet)"
   ],
   "metadata": {}
  },
  {
   "outputs": [
    {
     "name": "stdout",
     "output_type": "stream",
     "text": [
      "n     Energy            log10(ΔE)   log10(Δρ)\n",
      "---   ---------------   ---------   ---------\n",
      "  1   -7.852646686711                   -2.55\n",
      "  2   -7.852646686730      -10.72       -5.99\n",
      "  3   -7.852646686730      -14.75      -12.69\n"
     ]
    }
   ],
   "cell_type": "code",
   "source": [
    "ψ, _ = DFTK.select_occupied_orbitals(basis, scfres_start.ψ, scfres_start.occupation)\n",
    "scfres_newton = newton(basis, ψ; tol);"
   ],
   "metadata": {},
   "execution_count": 6
  },
  {
   "cell_type": "markdown",
   "source": [
    "## Comparison of results"
   ],
   "metadata": {}
  },
  {
   "outputs": [
    {
     "name": "stdout",
     "output_type": "stream",
     "text": [
      "|ρ_newton - ρ_scf|  = 4.502593681235752e-14\n",
      "|ρ_newton - ρ_scfv| = 3.445684505969634e-13\n",
      "|ρ_newton - ρ_dm|   = 3.141299473831221e-10\n"
     ]
    }
   ],
   "cell_type": "code",
   "source": [
    "println(\"|ρ_newton - ρ_scf|  = \", norm(scfres_newton.ρ - scfres_scf.ρ))\n",
    "println(\"|ρ_newton - ρ_scfv| = \", norm(scfres_newton.ρ - scfres_scfv.ρ))\n",
    "println(\"|ρ_newton - ρ_dm|   = \", norm(scfres_newton.ρ - scfres_dm.ρ))"
   ],
   "metadata": {},
   "execution_count": 7
  }
 ],
 "nbformat_minor": 3,
 "metadata": {
  "language_info": {
   "file_extension": ".jl",
   "mimetype": "application/julia",
   "name": "julia",
   "version": "1.8.2"
  },
  "kernelspec": {
   "name": "julia-1.8",
   "display_name": "Julia 1.8.2",
   "language": "julia"
  }
 },
 "nbformat": 4
}
