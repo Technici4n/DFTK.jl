{
 "cells": [
  {
   "cell_type": "markdown",
   "source": [
    "# Custom solvers\n",
    "In this example, we show how to define custom solvers. Our system\n",
    "will again be silicon, because we are not very imaginative"
   ],
   "metadata": {}
  },
  {
   "outputs": [],
   "cell_type": "code",
   "source": [
    "using DFTK, LinearAlgebra\n",
    "\n",
    "a = 10.26\n",
    "lattice = a / 2 * [[0 1 1.];\n",
    "                   [1 0 1.];\n",
    "                   [1 1 0.]]\n",
    "Si = ElementPsp(:Si, psp=load_psp(\"hgh/lda/Si-q4\"))\n",
    "atoms = [Si, Si]\n",
    "positions =  [ones(3)/8, -ones(3)/8]\n",
    "\n",
    "# We take very (very) crude parameters\n",
    "model = model_LDA(lattice, atoms, positions)\n",
    "basis = PlaneWaveBasis(model; Ecut=5, kgrid=[1, 1, 1]);"
   ],
   "metadata": {},
   "execution_count": 1
  },
  {
   "cell_type": "markdown",
   "source": [
    "We define our custom fix-point solver: simply a damped fixed-point"
   ],
   "metadata": {}
  },
  {
   "outputs": [],
   "cell_type": "code",
   "source": [
    "function my_fp_solver(f, x0, max_iter; tol)\n",
    "    mixing_factor = .7\n",
    "    x = x0\n",
    "    fx = f(x)\n",
    "    for n = 1:max_iter\n",
    "        inc = fx - x\n",
    "        if norm(inc) < tol\n",
    "            break\n",
    "        end\n",
    "        x = x + mixing_factor * inc\n",
    "        fx = f(x)\n",
    "    end\n",
    "    (fixpoint=x, converged=norm(fx-x) < tol)\n",
    "end;"
   ],
   "metadata": {},
   "execution_count": 2
  },
  {
   "cell_type": "markdown",
   "source": [
    "Our eigenvalue solver just forms the dense matrix and diagonalizes\n",
    "it explicitly (this only works for very small systems)"
   ],
   "metadata": {}
  },
  {
   "outputs": [],
   "cell_type": "code",
   "source": [
    "function my_eig_solver(A, X0; maxiter, tol, kwargs...)\n",
    "    n = size(X0, 2)\n",
    "    A = Array(A)\n",
    "    E = eigen(A)\n",
    "    λ = E.values[1:n]\n",
    "    X = E.vectors[:, 1:n]\n",
    "    (; λ, X, residual_norms=[], iterations=0, converged=true, n_matvec=0)\n",
    "end;"
   ],
   "metadata": {},
   "execution_count": 3
  },
  {
   "cell_type": "markdown",
   "source": [
    "Finally we also define our custom mixing scheme. It will be a mixture\n",
    "of simple mixing (for the first 2 steps) and than default to Kerker mixing.\n",
    "In the mixing interface `δF` is $(ρ_\\text{out} - ρ_\\text{in})$, i.e.\n",
    "the difference in density between two subsequent SCF steps and the `mix`\n",
    "function returns $δρ$, which is added to $ρ_\\text{in}$ to yield $ρ_\\text{next}$,\n",
    "the density for the next SCF step."
   ],
   "metadata": {}
  },
  {
   "outputs": [],
   "cell_type": "code",
   "source": [
    "struct MyMixing\n",
    "    n_simple  # Number of iterations for simple mixing\n",
    "end\n",
    "MyMixing() = MyMixing(2)\n",
    "\n",
    "function DFTK.mix_density(mixing::MyMixing, basis, δF; n_iter, kwargs...)\n",
    "    if n_iter <= mixing.n_simple\n",
    "        return δF  # Simple mixing -> Do not modify update at all\n",
    "    else\n",
    "        # Use the default KerkerMixing from DFTK\n",
    "        DFTK.mix_density(KerkerMixing(), basis, δF; kwargs...)\n",
    "    end\n",
    "end"
   ],
   "metadata": {},
   "execution_count": 4
  },
  {
   "cell_type": "markdown",
   "source": [
    "That's it! Now we just run the SCF with these solvers"
   ],
   "metadata": {}
  },
  {
   "outputs": [
    {
     "name": "stdout",
     "output_type": "stream",
     "text": [
      "n     Energy            log10(ΔE)   log10(Δρ)   Diag   Δtime\n",
      "---   ---------------   ---------   ---------   ----   ------\n",
      "  1   -7.215597085486                   -0.48    0.0         \n",
      "  2   -7.246310533608       -1.51       -0.85    0.0    432ms\n",
      "  3   -7.250986455303       -2.33       -1.30    0.0   70.7ms\n",
      "  4   -7.251254252892       -3.57       -1.61    0.0   72.3ms\n",
      "  5   -7.251318021808       -4.20       -1.92    0.0   76.9ms\n",
      "  6   -7.251333463617       -4.81       -2.21    0.0    168ms\n",
      "  7   -7.251337352252       -5.41       -2.50    0.0   71.3ms\n",
      "  8   -7.251338383513       -5.99       -2.78    0.0   71.6ms\n",
      "  9   -7.251338672989       -6.54       -3.05    0.0   74.6ms\n",
      " 10   -7.251338758862       -7.07       -3.31    0.0   77.1ms\n",
      " 11   -7.251338785611       -7.57       -3.57    0.0    164ms\n",
      " 12   -7.251338794282       -8.06       -3.82    0.0   69.5ms\n",
      " 13   -7.251338797181       -8.54       -4.06    0.0   72.0ms\n",
      " 14   -7.251338798172       -9.00       -4.30    0.0   71.5ms\n",
      " 15   -7.251338798517       -9.46       -4.53    0.0   75.5ms\n",
      " 16   -7.251338798638       -9.92       -4.77    0.0   75.5ms\n",
      " 17   -7.251338798681      -10.37       -4.99    0.0    153ms\n",
      " 18   -7.251338798696      -10.82       -5.22    0.0   71.2ms\n",
      " 19   -7.251338798701      -11.26       -5.45    0.0   70.6ms\n",
      " 20   -7.251338798703      -11.71       -5.68    0.0   75.4ms\n",
      " 21   -7.251338798704      -12.15       -5.90    0.0   76.0ms\n",
      " 22   -7.251338798704      -12.60       -6.13    0.0    140ms\n",
      " 23   -7.251338798704      -13.06       -6.35    0.0   72.0ms\n",
      " 24   -7.251338798705      -13.45       -6.57    0.0   71.4ms\n",
      " 25   -7.251338798705      -13.97       -6.80    0.0   75.3ms\n",
      " 26   -7.251338798705      -14.27       -7.01    0.0   78.8ms\n",
      " 27   -7.251338798705   +    -Inf       -7.22    0.0    143ms\n",
      " 28   -7.251338798705      -14.75       -7.33    0.0   70.1ms\n",
      " 29   -7.251338798705      -14.75       -7.55    0.0   71.1ms\n",
      " 30   -7.251338798705   +  -14.45       -7.57    0.0   71.8ms\n",
      " 31   -7.251338798705      -14.57       -7.78    0.0   76.8ms\n",
      " 32   -7.251338798705   +  -14.57       -7.41    0.0   76.9ms\n",
      " 33   -7.251338798705      -14.75       -7.64    0.0    138ms\n",
      " 34   -7.251338798705   +  -15.05       -7.91    0.0   69.9ms\n",
      " 35   -7.251338798705   +  -14.57       -7.41    0.0   72.7ms\n",
      " 36   -7.251338798705      -14.75       -7.48    0.0   75.9ms\n",
      " 37   -7.251338798705      -14.75       -7.58    0.0   75.6ms\n",
      " 38   -7.251338798705   +  -14.75       -7.78    0.0    141ms\n",
      " 39   -7.251338798705   +    -Inf       -7.74    0.0   70.5ms\n",
      " 40   -7.251338798705      -14.45       -7.56    0.0   72.1ms\n",
      " 41   -7.251338798705   +    -Inf       -7.82    0.0   74.9ms\n",
      " 42   -7.251338798705   +    -Inf       -7.68    0.0   75.7ms\n",
      " 43   -7.251338798705   +  -13.46       -6.92    0.0    141ms\n",
      " 44   -7.251338798705      -13.51       -7.16    0.0   69.4ms\n",
      " 45   -7.251338798705   +    -Inf       -7.48    0.0   71.3ms\n",
      " 46   -7.251338798705      -15.05       -7.53    0.0   73.9ms\n",
      " 47   -7.251338798705      -15.05       -7.52    0.0   77.4ms\n",
      " 48   -7.251338798705   +    -Inf       -7.59    0.0   74.6ms\n",
      " 49   -7.251338798705      -15.05       -7.81    0.0    135ms\n",
      " 50   -7.251338798705   +  -14.57       -7.96    0.0   69.7ms\n",
      " 51   -7.251338798705      -14.45       -8.12    0.0   73.3ms\n"
     ]
    }
   ],
   "cell_type": "code",
   "source": [
    "scfres = self_consistent_field(basis;\n",
    "                               tol=1e-8,\n",
    "                               solver=my_fp_solver,\n",
    "                               eigensolver=my_eig_solver,\n",
    "                               mixing=MyMixing());"
   ],
   "metadata": {},
   "execution_count": 5
  },
  {
   "cell_type": "markdown",
   "source": [
    "Note that the default convergence criterion is the difference in\n",
    "density. When this gets below `tol`, the\n",
    "\"driver\" `self_consistent_field` artificially makes the fixed-point\n",
    "solver think it's converged by forcing `f(x) = x`. You can customize\n",
    "this with the `is_converged` keyword argument to\n",
    "`self_consistent_field`."
   ],
   "metadata": {}
  }
 ],
 "nbformat_minor": 3,
 "metadata": {
  "language_info": {
   "file_extension": ".jl",
   "mimetype": "application/julia",
   "name": "julia",
   "version": "1.9.0"
  },
  "kernelspec": {
   "name": "julia-1.9",
   "display_name": "Julia 1.9.0",
   "language": "julia"
  }
 },
 "nbformat": 4
}
