{
 "cells": [
  {
   "cell_type": "markdown",
   "source": [
    "# Eigenvalues of the dielectric matrix\n",
    "\n",
    "We compute a few eigenvalues of the dielectric matrix ($q=0$, $ω=0$) iteratively."
   ],
   "metadata": {}
  },
  {
   "outputs": [
    {
     "name": "stdout",
     "output_type": "stream",
     "text": [
      "n     Energy            log10(ΔE)   log10(Δρ)   Diag\n",
      "---   ---------------   ---------   ---------   ----\n",
      "  1   -7.233288366951                   -0.50    8.0\n",
      "  2   -7.249768009179       -1.78       -1.40    1.0\n",
      "  3   -7.251310445032       -2.81       -1.96    4.0\n",
      "  4   -7.251321738864       -4.95       -2.41    5.0\n",
      "  5   -7.251331870825       -4.99       -2.62    4.0\n",
      "  6   -7.251338681964       -5.17       -3.58    4.0\n",
      "  7   -7.251338646563   +   -7.45       -3.57    3.0\n",
      "  8   -7.251338794902       -6.83       -4.33    2.0\n",
      "  9   -7.251338798657       -8.43       -5.40    2.0\n",
      " 10   -7.251338798698      -10.38       -5.62    4.0\n",
      " 11   -7.251338798704      -11.23       -6.05    2.0\n",
      " 12   -7.251338798704      -12.23       -6.46    2.0\n",
      " 13   -7.251338798705      -12.84       -7.19    3.0\n",
      " 14   -7.251338798705      -14.27       -7.49    3.0\n"
     ]
    }
   ],
   "cell_type": "code",
   "source": [
    "using DFTK\n",
    "using Plots\n",
    "using KrylovKit\n",
    "using Printf\n",
    "\n",
    "# Calculation parameters\n",
    "kgrid = [1, 1, 1]\n",
    "Ecut = 5\n",
    "\n",
    "# Silicon lattice\n",
    "a = 10.26\n",
    "lattice = a / 2 .* [[0 1 1.]; [1 0 1.]; [1 1 0.]]\n",
    "Si = ElementPsp(:Si, psp=load_psp(\"hgh/lda/Si-q4\"))\n",
    "atoms     = [Si, Si]\n",
    "positions = [ones(3)/8, -ones(3)/8]\n",
    "\n",
    "# Compute the dielectric operator without symmetries\n",
    "model = model_LDA(lattice, atoms, positions, symmetries=false)\n",
    "basis = PlaneWaveBasis(model; Ecut, kgrid)\n",
    "scfres = self_consistent_field(basis, tol=1e-14);"
   ],
   "metadata": {},
   "execution_count": 1
  },
  {
   "cell_type": "markdown",
   "source": [
    "Applying $ε^† ≔ (1- χ_0 K)$ …"
   ],
   "metadata": {}
  },
  {
   "outputs": [],
   "cell_type": "code",
   "source": [
    "function eps_fun(δρ)\n",
    "    δV = apply_kernel(basis, δρ; ρ=scfres.ρ)\n",
    "    χ0δV = apply_χ0(scfres, δV)\n",
    "    δρ - χ0δV\n",
    "end;"
   ],
   "metadata": {},
   "execution_count": 2
  },
  {
   "cell_type": "markdown",
   "source": [
    "… eagerly diagonalizes the subspace matrix at each iteration"
   ],
   "metadata": {}
  },
  {
   "outputs": [
    {
     "name": "stdout",
     "output_type": "stream",
     "text": [
      "[ Info: Arnoldi iteration step 1: normres = 0.02910623808805482\n",
      "[ Info: Arnoldi iteration step 2: normres = 0.43825587408787353\n",
      "[ Info: Arnoldi iteration step 3: normres = 0.34650488457361434\n",
      "[ Info: Arnoldi iteration step 4: normres = 0.9742699252743563\n",
      "[ Info: Arnoldi iteration step 5: normres = 0.5782043739460957\n",
      "[ Info: Arnoldi schursolve in iter 1, krylovdim = 5: 0 values converged, normres = (3.60e-01, 7.87e-02, 3.89e-01, 2.11e-01, 5.26e-02)\n",
      "[ Info: Arnoldi iteration step 6: normres = 0.2941533309143249\n",
      "[ Info: Arnoldi schursolve in iter 1, krylovdim = 6: 0 values converged, normres = (9.71e-02, 1.03e-01, 2.31e-01, 9.95e-02, 1.78e-02)\n",
      "[ Info: Arnoldi iteration step 7: normres = 0.09136366950058385\n",
      "[ Info: Arnoldi schursolve in iter 1, krylovdim = 7: 0 values converged, normres = (4.42e-03, 1.09e-02, 1.79e-02, 5.14e-02, 6.86e-02)\n",
      "[ Info: Arnoldi iteration step 8: normres = 0.11823754439894017\n",
      "[ Info: Arnoldi schursolve in iter 1, krylovdim = 8: 0 values converged, normres = (2.26e-04, 9.17e-04, 1.68e-03, 2.04e-02, 4.71e-02)\n",
      "[ Info: Arnoldi iteration step 9: normres = 0.06689240715055203\n",
      "[ Info: Arnoldi schursolve in iter 1, krylovdim = 9: 0 values converged, normres = (6.63e-06, 4.48e-05, 9.15e-05, 5.45e-03, 3.18e-02)\n",
      "[ Info: Arnoldi iteration step 10: normres = 0.09160371947862714\n",
      "[ Info: Arnoldi schursolve in iter 1, krylovdim = 10: 0 values converged, normres = (2.64e-07, 2.95e-06, 6.69e-06, 1.70e-03, 2.08e-02)\n",
      "[ Info: Arnoldi iteration step 11: normres = 0.0750559413973419\n",
      "[ Info: Arnoldi schursolve in iter 1, krylovdim = 11: 0 values converged, normres = (8.52e-09, 1.56e-07, 3.93e-07, 4.19e-04, 1.16e-02)\n",
      "[ Info: Arnoldi iteration step 12: normres = 0.07010808973008745\n",
      "[ Info: Arnoldi schursolve in iter 1, krylovdim = 12: 0 values converged, normres = (2.55e-10, 7.61e-09, 2.12e-08, 8.73e-05, 4.73e-03)\n",
      "[ Info: Arnoldi iteration step 13: normres = 0.09777998619340739\n",
      "[ Info: Arnoldi schursolve in iter 1, krylovdim = 13: 0 values converged, normres = (1.06e-11, 5.20e-10, 1.61e-09, 2.57e-05, 2.67e-03)\n",
      "[ Info: Arnoldi iteration step 14: normres = 0.5648329393333471\n",
      "[ Info: Arnoldi schursolve in iter 1, krylovdim = 14: 0 values converged, normres = (4.77e-12, 8.43e-10, 4.38e-09, 5.54e-01, 7.74e-03)\n",
      "[ Info: Arnoldi iteration step 15: normres = 0.07335020873739621\n",
      "[ Info: Arnoldi schursolve in iter 1, krylovdim = 15: 1 values converged, normres = (1.74e-13, 1.06e-10, 3.15e-02, 1.17e-03, 1.06e-05)\n",
      "[ Info: Arnoldi iteration step 16: normres = 0.5116703005133176\n",
      "[ Info: Arnoldi schursolve in iter 1, krylovdim = 16: 1 values converged, normres = (7.99e-14, 2.71e-10, 1.70e-01, 3.20e-02, 4.80e-01)\n",
      "[ Info: Arnoldi iteration step 17: normres = 0.03512274759244171\n",
      "[ Info: Arnoldi schursolve in iter 1, krylovdim = 17: 1 values converged, normres = (1.43e-15, 3.03e-03, 1.22e-02, 2.93e-05, 3.07e-03)\n",
      "[ Info: Arnoldi iteration step 18: normres = 0.01934213048515047\n",
      "[ Info: Arnoldi schursolve in iter 1, krylovdim = 18: 1 values converged, normres = (1.14e-17, 3.08e-09, 1.60e-04, 3.35e-08, 4.29e-05)\n",
      "[ Info: Arnoldi iteration step 19: normres = 0.0708293603234503\n",
      "[ Info: Arnoldi schursolve in iter 1, krylovdim = 19: 1 values converged, normres = (3.32e-19, 1.30e-08, 7.46e-06, 1.80e-06, 1.26e-06)\n",
      "[ Info: Arnoldi iteration step 20: normres = 0.1445585722789442\n",
      "[ Info: Arnoldi schursolve in iter 1, krylovdim = 20: 1 values converged, normres = (2.32e-20, 5.90e-07, 7.20e-07, 9.31e-08, 2.98e-07)\n",
      "[ Info: Arnoldi iteration step 21: normres = 0.03552165243030441\n",
      "[ Info: Arnoldi schursolve in iter 1, krylovdim = 21: 1 values converged, normres = (3.53e-22, 2.04e-09, 2.32e-08, 7.84e-09, 3.65e-09)\n",
      "[ Info: Arnoldi iteration step 22: normres = 0.26001703650652186\n",
      "[ Info: Arnoldi schursolve in iter 1, krylovdim = 22: 1 values converged, normres = (3.87e-23, 3.73e-09, 1.75e-09, 1.51e-09, 7.66e-10)\n",
      "[ Info: Arnoldi iteration step 23: normres = 0.09022948789736993\n",
      "[ Info: Arnoldi schursolve in iter 1, krylovdim = 23: 1 values converged, normres = (3.26e-24, 2.14e-09, 1.28e-09, 2.04e-08, 1.95e-08)\n",
      "[ Info: Arnoldi iteration step 24: normres = 0.015836286316351512\n",
      "[ Info: Arnoldi schursolve in iter 1, krylovdim = 24: 1 values converged, normres = (2.12e-26, 2.44e-11, 1.09e-11, 1.00e-04, 2.20e-04)\n",
      "[ Info: Arnoldi iteration step 25: normres = 0.12027917910822888\n",
      "[ Info: Arnoldi schursolve in iter 1, krylovdim = 25: 1 values converged, normres = (1.08e-27, 2.01e-12, 8.93e-13, 2.04e-05, 8.66e-05)\n",
      "[ Info: Arnoldi iteration step 26: normres = 0.025949173321100853\n",
      "[ Info: Arnoldi schursolve in iter 1, krylovdim = 26: 3 values converged, normres = (1.24e-29, 3.85e-14, 1.71e-14, 7.81e-08, 1.40e-08)\n",
      "[ Info: Arnoldi iteration step 27: normres = 0.03902066376339086\n",
      "[ Info: Arnoldi schursolve in iter 1, krylovdim = 27: 3 values converged, normres = (1.98e-31, 9.86e-16, 4.39e-16, 1.00e-08, 9.43e-10)\n",
      "[ Info: Arnoldi iteration step 28: normres = 0.07218435425029568\n",
      "[ Info: Arnoldi schursolve in iter 1, krylovdim = 28: 3 values converged, normres = (6.31e-33, 5.23e-17, 2.33e-17, 8.26e-10, 5.80e-10)\n",
      "[ Info: Arnoldi iteration step 29: normres = 0.011487660838169749\n",
      "[ Info: Arnoldi schursolve in iter 1, krylovdim = 29: 3 values converged, normres = (3.01e-35, 3.99e-19, 1.77e-19, 6.97e-12, 4.85e-12)\n",
      "[ Info: Arnoldi iteration step 30: normres = 0.16455406753166155\n",
      "┌ Info: Arnoldi eigsolve finished after 1 iterations:\n",
      "│ *  5 eigenvalues converged\n",
      "│ *  norm of residuals = (2.108354399796461e-36, 4.557277214809509e-20, 2.2870097901327347e-20, 8.83145297005428e-13, 9.959558967260827e-13)\n",
      "└ *  number of operations = 30\n"
     ]
    }
   ],
   "cell_type": "code",
   "source": [
    "eigsolve(eps_fun, randn(size(scfres.ρ)), 5, :LM; eager=true, verbosity=3);"
   ],
   "metadata": {},
   "execution_count": 3
  }
 ],
 "nbformat_minor": 3,
 "metadata": {
  "language_info": {
   "file_extension": ".jl",
   "mimetype": "application/julia",
   "name": "julia",
   "version": "1.8.2"
  },
  "kernelspec": {
   "name": "julia-1.8",
   "display_name": "Julia 1.8.2",
   "language": "julia"
  }
 },
 "nbformat": 4
}
