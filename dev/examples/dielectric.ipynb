{
 "cells": [
  {
   "cell_type": "markdown",
   "source": [
    "# Eigenvalues of the dielectric matrix\n",
    "\n",
    "We compute a few eigenvalues of the dielectric matrix ($q=0$, $ω=0$) iteratively."
   ],
   "metadata": {}
  },
  {
   "outputs": [
    {
     "name": "stdout",
     "output_type": "stream",
     "text": [
      "n     Energy            log10(ΔE)   log10(Δρ)   Diag\n",
      "---   ---------------   ---------   ---------   ----\n",
      "  1   -7.234498952336                   -0.50    8.0\n",
      "  2   -7.250209056781       -1.80       -1.40    1.0\n",
      "  3   -7.251247385283       -2.98       -2.04    4.0\n",
      "  4   -7.251082788862   +   -3.78       -1.96    4.0\n",
      "  5   -7.251332558002       -3.60       -2.74    4.0\n",
      "  6   -7.251338343242       -5.24       -3.24    3.0\n",
      "  7   -7.251338795433       -6.34       -4.21    3.0\n",
      "  8   -7.251338797763       -8.63       -4.54    4.0\n",
      "  9   -7.251338798631       -9.06       -5.14    2.0\n",
      " 10   -7.251338798703      -10.14       -5.85    3.0\n",
      " 11   -7.251338798704      -11.93       -6.36    4.0\n",
      " 12   -7.251338798704      -13.21       -6.55    4.0\n",
      " 13   -7.251338798705      -12.94       -7.36    3.0\n",
      " 14   -7.251338798705      -15.05       -8.15    3.0\n"
     ]
    }
   ],
   "cell_type": "code",
   "source": [
    "using DFTK\n",
    "using Plots\n",
    "using KrylovKit\n",
    "using Printf\n",
    "\n",
    "# Calculation parameters\n",
    "kgrid = [1, 1, 1]\n",
    "Ecut = 5\n",
    "\n",
    "# Silicon lattice\n",
    "a = 10.26\n",
    "lattice = a / 2 .* [[0 1 1.]; [1 0 1.]; [1 1 0.]]\n",
    "Si = ElementPsp(:Si, psp=load_psp(\"hgh/lda/Si-q4\"))\n",
    "atoms     = [Si, Si]\n",
    "positions = [ones(3)/8, -ones(3)/8]\n",
    "\n",
    "# Compute the dielectric operator without symmetries\n",
    "model = model_LDA(lattice, atoms, positions, symmetries=false)\n",
    "basis = PlaneWaveBasis(model; Ecut, kgrid)\n",
    "scfres = self_consistent_field(basis, tol=1e-14);"
   ],
   "metadata": {},
   "execution_count": 1
  },
  {
   "cell_type": "markdown",
   "source": [
    "Applying $ε^† ≔ (1- χ_0 K)$ …"
   ],
   "metadata": {}
  },
  {
   "outputs": [],
   "cell_type": "code",
   "source": [
    "function eps_fun(δρ)\n",
    "    δV = apply_kernel(basis, δρ; ρ=scfres.ρ)\n",
    "    χ0δV = apply_χ0(scfres, δV)\n",
    "    δρ - χ0δV\n",
    "end;"
   ],
   "metadata": {},
   "execution_count": 2
  },
  {
   "cell_type": "markdown",
   "source": [
    "… eagerly diagonalizes the subspace matrix at each iteration"
   ],
   "metadata": {}
  },
  {
   "outputs": [
    {
     "name": "stdout",
     "output_type": "stream",
     "text": [
      "[ Info: Arnoldi iteration step 1: normres = 0.040972475905489414\n",
      "[ Info: Arnoldi iteration step 2: normres = 0.48201410238910003\n",
      "[ Info: Arnoldi iteration step 3: normres = 0.34225749286981344\n",
      "[ Info: Arnoldi iteration step 4: normres = 1.0516154207732127\n",
      "[ Info: Arnoldi iteration step 5: normres = 0.21043958921604222\n",
      "[ Info: Arnoldi schursolve in iter 1, krylovdim = 5: 0 values converged, normres = (1.22e-01, 2.85e-02, 1.08e-01, 1.18e-01, 5.55e-02)\n",
      "[ Info: Arnoldi iteration step 6: normres = 0.5467193467099244\n",
      "[ Info: Arnoldi schursolve in iter 1, krylovdim = 6: 0 values converged, normres = (3.89e-02, 1.87e-02, 5.24e-01, 1.18e-01, 5.02e-02)\n",
      "[ Info: Arnoldi iteration step 7: normres = 0.11393491731690937\n",
      "[ Info: Arnoldi schursolve in iter 1, krylovdim = 7: 0 values converged, normres = (3.26e-03, 9.25e-03, 8.21e-02, 3.04e-02, 6.24e-02)\n",
      "[ Info: Arnoldi iteration step 8: normres = 0.10311066413002098\n",
      "[ Info: Arnoldi schursolve in iter 1, krylovdim = 8: 0 values converged, normres = (1.42e-04, 6.63e-04, 6.41e-03, 8.49e-03, 3.32e-02)\n",
      "[ Info: Arnoldi iteration step 9: normres = 0.08395683921363943\n",
      "[ Info: Arnoldi schursolve in iter 1, krylovdim = 9: 0 values converged, normres = (5.26e-06, 4.07e-05, 4.39e-04, 2.71e-03, 3.66e-02)\n",
      "[ Info: Arnoldi iteration step 10: normres = 0.0901384893260102\n",
      "[ Info: Arnoldi schursolve in iter 1, krylovdim = 10: 0 values converged, normres = (2.06e-07, 2.64e-06, 3.16e-05, 8.78e-04, 3.58e-02)\n",
      "[ Info: Arnoldi iteration step 11: normres = 0.07572912839562475\n",
      "[ Info: Arnoldi schursolve in iter 1, krylovdim = 11: 0 values converged, normres = (6.91e-09, 1.48e-07, 1.98e-06, 2.81e-04, 3.35e-02)\n",
      "[ Info: Arnoldi iteration step 12: normres = 0.053171227136653364\n",
      "[ Info: Arnoldi schursolve in iter 1, krylovdim = 12: 0 values converged, normres = (1.53e-10, 5.29e-09, 7.81e-08, 3.87e-05, 7.69e-03)\n",
      "[ Info: Arnoldi iteration step 13: normres = 0.08088832341711508\n",
      "[ Info: Arnoldi schursolve in iter 1, krylovdim = 13: 0 values converged, normres = (5.37e-12, 3.05e-10, 5.01e-09, 1.02e-05, 3.95e-03)\n",
      "[ Info: Arnoldi iteration step 14: normres = 0.7275087327022033\n",
      "[ Info: Arnoldi schursolve in iter 1, krylovdim = 14: 0 values converged, normres = (2.68e-12, 4.04e-10, 8.90e-09, 7.25e-01, 3.72e-03)\n",
      "[ Info: Arnoldi iteration step 15: normres = 0.027238987565415585\n",
      "[ Info: Arnoldi schursolve in iter 1, krylovdim = 15: 1 values converged, normres = (4.82e-14, 1.35e-08, 1.63e-02, 3.75e-05, 8.63e-07)\n",
      "[ Info: Arnoldi iteration step 16: normres = 0.40043422788011374\n",
      "[ Info: Arnoldi schursolve in iter 1, krylovdim = 16: 1 values converged, normres = (8.51e-15, 7.38e-09, 4.79e-03, 9.59e-07, 6.69e-07)\n",
      "[ Info: Arnoldi iteration step 17: normres = 0.10358226864995819\n",
      "[ Info: Arnoldi schursolve in iter 1, krylovdim = 17: 1 values converged, normres = (7.87e-16, 9.01e-05, 3.08e-03, 7.80e-07, 9.68e-02)\n",
      "[ Info: Arnoldi iteration step 18: normres = 0.02652815675175314\n",
      "[ Info: Arnoldi schursolve in iter 1, krylovdim = 18: 1 values converged, normres = (8.68e-18, 2.08e-06, 5.62e-05, 1.46e-03, 1.18e-03)\n",
      "[ Info: Arnoldi iteration step 19: normres = 0.20682838913568916\n",
      "[ Info: Arnoldi schursolve in iter 1, krylovdim = 19: 1 values converged, normres = (7.89e-19, 1.30e-07, 8.49e-06, 4.64e-09, 3.15e-04)\n",
      "[ Info: Arnoldi iteration step 20: normres = 0.03182799814889085\n",
      "[ Info: Arnoldi schursolve in iter 1, krylovdim = 20: 1 values converged, normres = (1.17e-20, 3.21e-10, 2.21e-07, 7.28e-09, 9.31e-06)\n",
      "[ Info: Arnoldi iteration step 21: normres = 0.03370244852521237\n",
      "[ Info: Arnoldi schursolve in iter 1, krylovdim = 21: 1 values converged, normres = (1.64e-22, 1.52e-09, 4.73e-09, 2.24e-07, 5.31e-08)\n",
      "[ Info: Arnoldi iteration step 22: normres = 0.018854147768809233\n",
      "[ Info: Arnoldi schursolve in iter 1, krylovdim = 22: 1 values converged, normres = (1.28e-24, 2.00e-11, 5.88e-11, 2.98e-09, 1.09e-09)\n",
      "[ Info: Arnoldi iteration step 23: normres = 0.1446526717545691\n",
      "[ Info: Arnoldi schursolve in iter 1, krylovdim = 23: 1 values converged, normres = (7.66e-26, 1.92e-12, 5.62e-12, 3.18e-10, 1.04e-10)\n",
      "[ Info: Arnoldi iteration step 24: normres = 0.11951312473843412\n",
      "[ Info: Arnoldi schursolve in iter 1, krylovdim = 24: 1 values converged, normres = (8.62e-27, 1.54e-12, 4.52e-12, 5.51e-09, 1.38e-10)\n",
      "[ Info: Arnoldi iteration step 25: normres = 0.07523778056488191\n",
      "[ Info: Arnoldi schursolve in iter 1, krylovdim = 25: 3 values converged, normres = (2.69e-28, 8.02e-14, 2.35e-13, 1.05e-08, 5.77e-09)\n",
      "[ Info: Arnoldi iteration step 26: normres = 0.04242748455937136\n",
      "[ Info: Arnoldi schursolve in iter 1, krylovdim = 26: 3 values converged, normres = (5.15e-30, 2.60e-15, 7.62e-15, 1.98e-04, 1.17e-04)\n",
      "[ Info: Arnoldi iteration step 27: normres = 0.02092784961772841\n",
      "[ Info: Arnoldi schursolve in iter 1, krylovdim = 27: 3 values converged, normres = (4.44e-32, 3.57e-17, 1.05e-16, 6.14e-09, 1.93e-09)\n",
      "[ Info: Arnoldi iteration step 28: normres = 0.1779461810693571\n",
      "[ Info: Arnoldi schursolve in iter 1, krylovdim = 28: 3 values converged, normres = (3.38e-33, 4.46e-18, 1.31e-17, 3.79e-07, 1.18e-07)\n",
      "[ Info: Arnoldi iteration step 29: normres = 0.1051608373680387\n",
      "[ Info: Arnoldi schursolve in iter 1, krylovdim = 29: 3 values converged, normres = (1.68e-34, 3.90e-19, 1.14e-18, 3.85e-08, 2.56e-09)\n",
      "[ Info: Arnoldi iteration step 30: normres = 0.04161876876014032\n",
      "[ Info: Arnoldi schursolve in iter 1, krylovdim = 30: 3 values converged, normres = (3.16e-36, 1.25e-20, 3.65e-20, 8.02e-10, 1.46e-09)\n",
      "[ Info: Arnoldi schursolve in iter 2, krylovdim = 19: 3 values converged, normres = (3.30e-36, 1.25e-20, 3.65e-20, 8.02e-10, 1.46e-09)\n",
      "[ Info: Arnoldi iteration step 20: normres = 0.023949279516517697\n",
      "[ Info: Arnoldi schursolve in iter 2, krylovdim = 20: 3 values converged, normres = (3.12e-38, 1.96e-22, 5.76e-22, 1.51e-11, 2.51e-11)\n",
      "[ Info: Arnoldi iteration step 21: normres = 0.07797434137340659\n",
      "[ Info: Arnoldi schursolve in iter 2, krylovdim = 21: 4 values converged, normres = (1.03e-39, 1.05e-23, 3.07e-23, 8.93e-13, 1.48e-12)\n",
      "[ Info: Arnoldi iteration step 22: normres = 0.021462874109375835\n",
      "┌ Info: Arnoldi eigsolve finished after 2 iterations:\n",
      "│ *  6 eigenvalues converged\n",
      "│ *  norm of residuals = (9.327185734691557e-42, 1.543769503155646e-25, 4.627718087568284e-25, 1.4552078783561994e-14, 2.0631096489062482e-14, 8.619965649095509e-16)\n",
      "└ *  number of operations = 33\n"
     ]
    }
   ],
   "cell_type": "code",
   "source": [
    "eigsolve(eps_fun, randn(size(scfres.ρ)), 5, :LM; eager=true, verbosity=3);"
   ],
   "metadata": {},
   "execution_count": 3
  }
 ],
 "nbformat_minor": 3,
 "metadata": {
  "language_info": {
   "file_extension": ".jl",
   "mimetype": "application/julia",
   "name": "julia",
   "version": "1.8.3"
  },
  "kernelspec": {
   "name": "julia-1.8",
   "display_name": "Julia 1.8.3",
   "language": "julia"
  }
 },
 "nbformat": 4
}
