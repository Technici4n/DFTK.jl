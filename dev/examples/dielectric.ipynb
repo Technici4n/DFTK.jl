{
 "cells": [
  {
   "cell_type": "markdown",
   "source": [
    "# Eigenvalues of the dielectric matrix\n",
    "\n",
    "We compute a few eigenvalues of the dielectric matrix ($q=0$, $ω=0$) iteratively."
   ],
   "metadata": {}
  },
  {
   "outputs": [
    {
     "name": "stdout",
     "output_type": "stream",
     "text": [
      "n     Energy            log10(ΔE)   log10(Δρ)   Diag\n",
      "---   ---------------   ---------   ---------   ----\n",
      "  1   -7.233472585558                   -0.50    7.0\n",
      "  2   -7.249313271909       -1.80       -1.37    1.0\n",
      "  3   -7.250211089174       -3.05       -1.60    4.0\n",
      "  4   -7.250998642265       -3.10       -1.87    2.0\n",
      "  5   -7.251312621238       -3.50       -2.42    2.0\n",
      "  6   -7.251337391510       -4.61       -3.00    2.0\n",
      "  7   -7.251338780970       -5.86       -3.93    3.0\n",
      "  8   -7.251338795255       -7.85       -4.25    2.0\n",
      "  9   -7.251338798284       -8.52       -4.71    1.0\n",
      " 10   -7.251338798669       -9.42       -5.24    1.0\n",
      " 11   -7.251338798703      -10.47       -5.98    2.0\n",
      " 12   -7.251338798704      -11.83       -6.26    3.0\n",
      " 13   -7.251338798705      -12.63       -6.87    3.0\n",
      " 14   -7.251338798705      -14.10       -7.46    3.0\n"
     ]
    }
   ],
   "cell_type": "code",
   "source": [
    "using DFTK\n",
    "using Plots\n",
    "using KrylovKit\n",
    "using Printf\n",
    "\n",
    "# Calculation parameters\n",
    "kgrid = [1, 1, 1]\n",
    "Ecut = 5\n",
    "\n",
    "# Silicon lattice\n",
    "a = 10.26\n",
    "lattice = a / 2 .* [[0 1 1.]; [1 0 1.]; [1 1 0.]]\n",
    "Si = ElementPsp(:Si, psp=load_psp(\"hgh/lda/Si-q4\"))\n",
    "atoms     = [Si, Si]\n",
    "positions = [ones(3)/8, -ones(3)/8]\n",
    "\n",
    "# Compute the dielectric operator without symmetries\n",
    "model = model_LDA(lattice, atoms, positions, symmetries=false)\n",
    "basis = PlaneWaveBasis(model; Ecut, kgrid)\n",
    "scfres = self_consistent_field(basis, tol=1e-14);"
   ],
   "metadata": {},
   "execution_count": 1
  },
  {
   "cell_type": "markdown",
   "source": [
    "Applying $ε^† ≔ (1- χ_0 K)$ …"
   ],
   "metadata": {}
  },
  {
   "outputs": [],
   "cell_type": "code",
   "source": [
    "function eps_fun(δρ)\n",
    "    δV = apply_kernel(basis, δρ; ρ=scfres.ρ)\n",
    "    χ0δV = apply_χ0(scfres, δV)\n",
    "    δρ - χ0δV\n",
    "end;"
   ],
   "metadata": {},
   "execution_count": 2
  },
  {
   "cell_type": "markdown",
   "source": [
    "… eagerly diagonalizes the subspace matrix at each iteration"
   ],
   "metadata": {}
  },
  {
   "outputs": [
    {
     "name": "stdout",
     "output_type": "stream",
     "text": [
      "[ Info: Arnoldi iteration step 1: normres = 0.056176603526312735\n",
      "[ Info: Arnoldi iteration step 2: normres = 0.5501724705911261\n",
      "[ Info: Arnoldi iteration step 3: normres = 0.6885775396205283\n",
      "[ Info: Arnoldi iteration step 4: normres = 0.24241353807532887\n",
      "[ Info: Arnoldi iteration step 5: normres = 0.4486300283059171\n",
      "[ Info: Arnoldi schursolve in iter 1, krylovdim = 5: 0 values converged, normres = (9.95e-03, 7.79e-02, 4.03e-01, 1.81e-01, 1.69e-02)\n",
      "[ Info: Arnoldi iteration step 6: normres = 0.3188887858773606\n",
      "[ Info: Arnoldi schursolve in iter 1, krylovdim = 6: 0 values converged, normres = (2.71e-03, 1.36e-01, 2.52e-01, 1.06e-01, 2.17e-02)\n",
      "[ Info: Arnoldi iteration step 7: normres = 0.1138445694924279\n",
      "[ Info: Arnoldi schursolve in iter 1, krylovdim = 7: 0 values converged, normres = (1.59e-04, 1.91e-02, 2.41e-02, 8.46e-02, 6.61e-02)\n",
      "[ Info: Arnoldi iteration step 8: normres = 0.09864292393329935\n",
      "[ Info: Arnoldi schursolve in iter 1, krylovdim = 8: 0 values converged, normres = (6.70e-06, 1.32e-03, 1.84e-03, 2.43e-02, 3.44e-02)\n",
      "[ Info: Arnoldi iteration step 9: normres = 0.05719396968678239\n",
      "[ Info: Arnoldi schursolve in iter 1, krylovdim = 9: 0 values converged, normres = (1.66e-07, 5.37e-05, 8.35e-05, 4.67e-03, 2.20e-02)\n",
      "[ Info: Arnoldi iteration step 10: normres = 0.07566313214006744\n",
      "[ Info: Arnoldi schursolve in iter 1, krylovdim = 10: 0 values converged, normres = (5.36e-09, 2.84e-06, 4.89e-06, 1.06e-03, 1.30e-02)\n",
      "[ Info: Arnoldi iteration step 11: normres = 0.08865553914053531\n",
      "[ Info: Arnoldi schursolve in iter 1, krylovdim = 11: 0 values converged, normres = (2.05e-10, 1.78e-07, 3.41e-07, 3.01e-04, 1.24e-02)\n",
      "[ Info: Arnoldi iteration step 12: normres = 0.11627032689831779\n",
      "[ Info: Arnoldi schursolve in iter 1, krylovdim = 12: 0 values converged, normres = (1.04e-11, 1.49e-08, 3.17e-08, 1.22e-04, 2.82e-02)\n",
      "[ Info: Arnoldi iteration step 13: normres = 0.1245482799553079\n",
      "[ Info: Arnoldi schursolve in iter 1, krylovdim = 13: 1 values converged, normres = (5.74e-13, 1.38e-09, 3.29e-09, 7.14e-05, 7.83e-02)\n",
      "[ Info: Arnoldi iteration step 14: normres = 0.3737331671124684\n",
      "[ Info: Arnoldi schursolve in iter 1, krylovdim = 14: 1 values converged, normres = (1.91e-13, 2.46e-09, 1.76e-08, 3.71e-01, 1.91e-03)\n",
      "[ Info: Arnoldi iteration step 15: normres = 0.22767778998304092\n",
      "[ Info: Arnoldi schursolve in iter 1, krylovdim = 15: 1 values converged, normres = (2.01e-14, 7.69e-10, 6.31e-02, 5.38e-04, 1.18e-05)\n",
      "[ Info: Arnoldi iteration step 16: normres = 0.12718467769441724\n",
      "[ Info: Arnoldi schursolve in iter 1, krylovdim = 16: 1 values converged, normres = (2.65e-15, 8.70e-09, 1.04e-01, 6.06e-04, 7.17e-02)\n",
      "[ Info: Arnoldi iteration step 17: normres = 0.029456992833742812\n",
      "[ Info: Arnoldi schursolve in iter 1, krylovdim = 17: 1 values converged, normres = (3.26e-17, 3.49e-08, 2.10e-03, 1.41e-03, 6.30e-05)\n",
      "[ Info: Arnoldi iteration step 18: normres = 0.019581623391146354\n",
      "[ Info: Arnoldi schursolve in iter 1, krylovdim = 18: 1 values converged, normres = (2.65e-19, 2.73e-05, 1.55e-06, 1.40e-07, 2.03e-05)\n",
      "[ Info: Arnoldi iteration step 19: normres = 0.1847795500936955\n",
      "[ Info: Arnoldi schursolve in iter 1, krylovdim = 19: 1 values converged, normres = (2.11e-20, 3.20e-08, 3.58e-06, 6.53e-07, 2.87e-06)\n",
      "[ Info: Arnoldi iteration step 20: normres = 0.04618139904482716\n",
      "[ Info: Arnoldi schursolve in iter 1, krylovdim = 20: 1 values converged, normres = (4.65e-22, 2.93e-08, 1.37e-07, 3.47e-08, 1.27e-07)\n",
      "[ Info: Arnoldi iteration step 21: normres = 0.03336406594973102\n",
      "[ Info: Arnoldi schursolve in iter 1, krylovdim = 21: 1 values converged, normres = (6.46e-24, 2.44e-09, 1.96e-09, 1.64e-09, 2.79e-09)\n",
      "[ Info: Arnoldi iteration step 22: normres = 0.1994813731581987\n",
      "[ Info: Arnoldi schursolve in iter 1, krylovdim = 22: 1 values converged, normres = (5.38e-25, 3.24e-10, 2.66e-10, 2.39e-10, 4.14e-10)\n",
      "[ Info: Arnoldi iteration step 23: normres = 0.14695710791077793\n",
      "[ Info: Arnoldi schursolve in iter 1, krylovdim = 23: 1 values converged, normres = (7.71e-26, 2.94e-10, 2.40e-10, 1.74e-09, 3.06e-09)\n",
      "[ Info: Arnoldi iteration step 24: normres = 0.014778483289277325\n",
      "[ Info: Arnoldi schursolve in iter 1, krylovdim = 24: 1 values converged, normres = (4.51e-28, 3.22e-12, 2.64e-12, 2.61e-08, 8.85e-08)\n",
      "[ Info: Arnoldi iteration step 25: normres = 0.11429184050129591\n",
      "[ Info: Arnoldi schursolve in iter 1, krylovdim = 25: 3 values converged, normres = (2.17e-29, 2.51e-13, 2.05e-13, 1.25e-04, 4.45e-05)\n",
      "[ Info: Arnoldi iteration step 26: normres = 0.03468876467611401\n",
      "[ Info: Arnoldi schursolve in iter 1, krylovdim = 26: 3 values converged, normres = (3.33e-31, 6.43e-15, 5.27e-15, 7.80e-09, 1.06e-08)\n",
      "[ Info: Arnoldi iteration step 27: normres = 0.079752673964717\n",
      "[ Info: Arnoldi schursolve in iter 1, krylovdim = 27: 3 values converged, normres = (1.11e-32, 3.43e-16, 2.81e-16, 1.51e-08, 1.13e-07)\n",
      "[ Info: Arnoldi iteration step 28: normres = 0.037245109064329325\n",
      "[ Info: Arnoldi schursolve in iter 1, krylovdim = 28: 3 values converged, normres = (1.81e-34, 9.35e-18, 7.65e-18, 5.97e-09, 3.06e-09)\n",
      "[ Info: Arnoldi iteration step 29: normres = 0.033845682322622375\n",
      "[ Info: Arnoldi schursolve in iter 1, krylovdim = 29: 3 values converged, normres = (2.52e-36, 2.07e-19, 1.70e-19, 1.47e-10, 7.42e-11)\n",
      "[ Info: Arnoldi iteration step 30: normres = 0.15262554584185878\n",
      "[ Info: Arnoldi schursolve in iter 1, krylovdim = 30: 3 values converged, normres = (1.87e-37, 2.75e-20, 2.25e-20, 2.22e-11, 1.13e-11)\n",
      "[ Info: Arnoldi schursolve in iter 2, krylovdim = 19: 3 values converged, normres = (1.87e-37, 2.75e-20, 2.25e-20, 2.22e-11, 1.13e-11)\n",
      "[ Info: Arnoldi iteration step 20: normres = 0.05029481378123073\n",
      "┌ Info: Arnoldi eigsolve finished after 2 iterations:\n",
      "│ *  6 eigenvalues converged\n",
      "│ *  norm of residuals = (3.9924363751260573e-39, 9.598685957403657e-22, 7.17877601124873e-22, 8.598484296981963e-13, 4.824728517985468e-13, 6.155928955155651e-14)\n",
      "└ *  number of operations = 31\n"
     ]
    }
   ],
   "cell_type": "code",
   "source": [
    "eigsolve(eps_fun, randn(size(scfres.ρ)), 5, :LM; eager=true, verbosity=3);"
   ],
   "metadata": {},
   "execution_count": 3
  }
 ],
 "nbformat_minor": 3,
 "metadata": {
  "language_info": {
   "file_extension": ".jl",
   "mimetype": "application/julia",
   "name": "julia",
   "version": "1.8.2"
  },
  "kernelspec": {
   "name": "julia-1.8",
   "display_name": "Julia 1.8.2",
   "language": "julia"
  }
 },
 "nbformat": 4
}
