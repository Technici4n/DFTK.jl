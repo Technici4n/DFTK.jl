{
 "cells": [
  {
   "cell_type": "markdown",
   "source": [
    "# Comparison of DFT solvers"
   ],
   "metadata": {}
  },
  {
   "cell_type": "markdown",
   "source": [
    "We compare four different approaches for solving the DFT minimisation problem,\n",
    "namely a density-based SCF, a potential-based SCF, direct minimisation and Newton."
   ],
   "metadata": {}
  },
  {
   "cell_type": "markdown",
   "source": [
    "First we setup our problem"
   ],
   "metadata": {}
  },
  {
   "outputs": [
    {
     "output_type": "execute_result",
     "data": {
      "text/plain": "1.0e-6"
     },
     "metadata": {},
     "execution_count": 1
    }
   ],
   "cell_type": "code",
   "source": [
    "using DFTK\n",
    "using LinearAlgebra\n",
    "\n",
    "a = 10.26  # Silicon lattice constant in Bohr\n",
    "lattice = a / 2 * [[0 1 1.];\n",
    "                   [1 0 1.];\n",
    "                   [1 1 0.]]\n",
    "Si = ElementPsp(:Si, psp=load_psp(\"hgh/lda/Si-q4\"))\n",
    "atoms     = [Si, Si]\n",
    "positions = [ones(3)/8, -ones(3)/8]\n",
    "\n",
    "model = model_LDA(lattice, atoms, positions)\n",
    "basis = PlaneWaveBasis(model; Ecut=5, kgrid=[3, 3, 3])\n",
    "\n",
    "# Convergence we desire in the density\n",
    "tol = 1e-6"
   ],
   "metadata": {},
   "execution_count": 1
  },
  {
   "cell_type": "markdown",
   "source": [
    "## Density-based self-consistent field"
   ],
   "metadata": {}
  },
  {
   "outputs": [
    {
     "name": "stdout",
     "output_type": "stream",
     "text": [
      "n     Energy            log10(ΔE)   log10(Δρ)   Diag   Δtime\n",
      "---   ---------------   ---------   ---------   ----   ------\n",
      "  1   -7.846864877321                   -0.70    4.5         \n",
      "  2   -7.852307901540       -2.26       -1.53    1.0   31.2ms\n",
      "  3   -7.852615808872       -3.51       -2.56    1.5   34.1ms\n",
      "  4   -7.852645989918       -4.52       -2.90    2.5   42.0ms\n",
      "  5   -7.852646527240       -6.27       -3.22    1.2   32.6ms\n",
      "  6   -7.852646679082       -6.82       -4.02    1.0   30.8ms\n",
      "  7   -7.852646686323       -8.14       -5.28    1.8   36.7ms\n",
      "  8   -7.852646686724       -9.40       -5.48    2.0   39.4ms\n",
      "  9   -7.852646686730      -11.28       -6.84    1.0   31.3ms\n"
     ]
    }
   ],
   "cell_type": "code",
   "source": [
    "scfres_scf = self_consistent_field(basis; tol);"
   ],
   "metadata": {},
   "execution_count": 2
  },
  {
   "cell_type": "markdown",
   "source": [
    "## Potential-based SCF"
   ],
   "metadata": {}
  },
  {
   "outputs": [
    {
     "name": "stdout",
     "output_type": "stream",
     "text": [
      "n     Energy            log10(ΔE)   log10(Δρ)   α      Diag   Δtime\n",
      "---   ---------------   ---------   ---------   ----   ----   ------\n",
      "  1   -7.846886376125                   -0.70           4.8         \n",
      "  2   -7.852552243218       -2.25       -1.64   0.80    2.0    289ms\n",
      "  3   -7.852638075056       -4.07       -2.76   0.80    1.0   25.7ms\n",
      "  4   -7.852646492450       -5.07       -3.31   0.80    2.0   33.7ms\n",
      "  5   -7.852646678296       -6.73       -4.17   0.80    1.5   29.8ms\n",
      "  6   -7.852646686597       -8.08       -4.77   0.80    2.2   35.5ms\n",
      "  7   -7.852646686722       -9.90       -5.60   0.80    1.2   27.4ms\n",
      "  8   -7.852646686730      -11.11       -6.67   0.80    2.0   33.3ms\n"
     ]
    }
   ],
   "cell_type": "code",
   "source": [
    "scfres_scfv = DFTK.scf_potential_mixing(basis; tol);"
   ],
   "metadata": {},
   "execution_count": 3
  },
  {
   "cell_type": "markdown",
   "source": [
    "## Direct minimization\n",
    "Note: Unlike the other algorithms, tolerance for this one is in the energy,\n",
    "thus we square the density tolerance value to be roughly equivalent."
   ],
   "metadata": {}
  },
  {
   "outputs": [
    {
     "name": "stdout",
     "output_type": "stream",
     "text": [
      "Iter     Function value   Gradient norm \n",
      "     0     1.394510e+01     3.105807e+00\n",
      " * time: 0.06629300117492676\n",
      "     1     1.187134e+00     1.818093e+00\n",
      " * time: 0.3251190185546875\n",
      "     2    -1.968987e+00     1.719716e+00\n",
      " * time: 0.35318899154663086\n",
      "     3    -3.973316e+00     1.467924e+00\n",
      " * time: 0.3926270008087158\n",
      "     4    -5.485377e+00     1.258452e+00\n",
      " * time: 0.4320650100708008\n",
      "     5    -6.948993e+00     7.879526e-01\n",
      " * time: 0.47304296493530273\n",
      "     6    -7.144636e+00     9.796686e-01\n",
      " * time: 0.5018529891967773\n",
      "     7    -7.642109e+00     6.826340e-01\n",
      " * time: 0.5297749042510986\n",
      "     8    -7.734675e+00     7.311899e-01\n",
      " * time: 0.5572099685668945\n",
      "     9    -7.782550e+00     4.008700e-01\n",
      " * time: 0.5843789577484131\n",
      "    10    -7.814358e+00     2.246687e-01\n",
      " * time: 0.611198902130127\n",
      "    11    -7.831307e+00     5.826265e-02\n",
      " * time: 0.6394920349121094\n",
      "    12    -7.845315e+00     7.066444e-02\n",
      " * time: 0.6668970584869385\n",
      "    13    -7.847284e+00     6.298172e-02\n",
      " * time: 0.6949329376220703\n",
      "    14    -7.848304e+00     2.423877e-02\n",
      " * time: 0.7228460311889648\n",
      "    15    -7.850466e+00     2.413577e-02\n",
      " * time: 0.7515850067138672\n",
      "    16    -7.851816e+00     1.555692e-02\n",
      " * time: 0.7808420658111572\n",
      "    17    -7.852312e+00     7.482640e-03\n",
      " * time: 0.8101909160614014\n",
      "    18    -7.852560e+00     5.040431e-03\n",
      " * time: 0.8390510082244873\n",
      "    19    -7.852623e+00     2.754654e-03\n",
      " * time: 0.8681430816650391\n",
      "    20    -7.852639e+00     9.718524e-04\n",
      " * time: 0.8974120616912842\n",
      "    21    -7.852644e+00     1.202397e-03\n",
      " * time: 0.92684006690979\n",
      "    22    -7.852646e+00     3.840189e-04\n",
      " * time: 0.9560999870300293\n",
      "    23    -7.852646e+00     2.313064e-04\n",
      " * time: 0.9847009181976318\n",
      "    24    -7.852647e+00     1.619092e-04\n",
      " * time: 1.013171911239624\n",
      "    25    -7.852647e+00     8.911633e-05\n",
      " * time: 1.0423259735107422\n",
      "    26    -7.852647e+00     3.764179e-05\n",
      " * time: 1.0713961124420166\n",
      "    27    -7.852647e+00     2.247136e-05\n",
      " * time: 1.100404977798462\n",
      "    28    -7.852647e+00     1.158803e-05\n",
      " * time: 1.1287109851837158\n",
      "    29    -7.852647e+00     9.821316e-06\n",
      " * time: 1.1566579341888428\n",
      "    30    -7.852647e+00     5.080202e-06\n",
      " * time: 1.1839549541473389\n",
      "    31    -7.852647e+00     1.836393e-06\n",
      " * time: 1.2120330333709717\n",
      "    32    -7.852647e+00     1.109780e-06\n",
      " * time: 1.2395460605621338\n",
      "    33    -7.852647e+00     6.095835e-07\n",
      " * time: 1.266779899597168\n",
      "    34    -7.852647e+00     3.364544e-07\n",
      " * time: 1.2941999435424805\n",
      "    35    -7.852647e+00     2.505400e-07\n",
      " * time: 1.3218419551849365\n",
      "    36    -7.852647e+00     1.359120e-07\n",
      " * time: 1.3497319221496582\n",
      "    37    -7.852647e+00     6.421574e-08\n",
      " * time: 1.3783879280090332\n",
      "    38    -7.852647e+00     4.637444e-08\n",
      " * time: 1.4067540168762207\n",
      "    39    -7.852647e+00     2.993329e-08\n",
      " * time: 1.5075929164886475\n",
      "    40    -7.852647e+00     1.384609e-08\n",
      " * time: 1.5372378826141357\n",
      "    41    -7.852647e+00     1.372910e-08\n",
      " * time: 1.6037609577178955\n",
      "    42    -7.852647e+00     8.327802e-09\n",
      " * time: 1.6437358856201172\n"
     ]
    }
   ],
   "cell_type": "code",
   "source": [
    "scfres_dm = direct_minimization(basis; tol=tol^2);"
   ],
   "metadata": {},
   "execution_count": 4
  },
  {
   "cell_type": "markdown",
   "source": [
    "## Newton algorithm"
   ],
   "metadata": {}
  },
  {
   "cell_type": "markdown",
   "source": [
    "Start not too far from the solution to ensure convergence:\n",
    "We run first a very crude SCF to get close and then switch to Newton."
   ],
   "metadata": {}
  },
  {
   "outputs": [
    {
     "name": "stdout",
     "output_type": "stream",
     "text": [
      "n     Energy            log10(ΔE)   log10(Δρ)   Diag   Δtime\n",
      "---   ---------------   ---------   ---------   ----   ------\n",
      "  1   -7.846880868608                   -0.70    4.5         \n"
     ]
    }
   ],
   "cell_type": "code",
   "source": [
    "scfres_start = self_consistent_field(basis; tol=0.5);"
   ],
   "metadata": {},
   "execution_count": 5
  },
  {
   "cell_type": "markdown",
   "source": [
    "Remove the virtual orbitals (which Newton cannot treat yet)"
   ],
   "metadata": {}
  },
  {
   "outputs": [
    {
     "name": "stdout",
     "output_type": "stream",
     "text": [
      "n     Energy            log10(ΔE)   log10(Δρ)   Δtime\n",
      "---   ---------------   ---------   ---------   ------\n",
      "  1   -7.852645918155                   -1.64         \n",
      "  2   -7.852646686730       -6.11       -3.71    2.25s\n",
      "  3   -7.852646686730      -13.34       -7.25    185ms\n"
     ]
    }
   ],
   "cell_type": "code",
   "source": [
    "ψ = DFTK.select_occupied_orbitals(basis, scfres_start.ψ, scfres_start.occupation).ψ\n",
    "scfres_newton = newton(basis, ψ; tol);"
   ],
   "metadata": {},
   "execution_count": 6
  },
  {
   "cell_type": "markdown",
   "source": [
    "## Comparison of results"
   ],
   "metadata": {}
  },
  {
   "outputs": [
    {
     "name": "stdout",
     "output_type": "stream",
     "text": [
      "|ρ_newton - ρ_scf|  = 3.3630623658270565e-7\n",
      "|ρ_newton - ρ_scfv| = 1.1372818210027853e-7\n",
      "|ρ_newton - ρ_dm|   = 1.4800108850777786e-9\n"
     ]
    }
   ],
   "cell_type": "code",
   "source": [
    "println(\"|ρ_newton - ρ_scf|  = \", norm(scfres_newton.ρ - scfres_scf.ρ))\n",
    "println(\"|ρ_newton - ρ_scfv| = \", norm(scfres_newton.ρ - scfres_scfv.ρ))\n",
    "println(\"|ρ_newton - ρ_dm|   = \", norm(scfres_newton.ρ - scfres_dm.ρ))"
   ],
   "metadata": {},
   "execution_count": 7
  }
 ],
 "nbformat_minor": 3,
 "metadata": {
  "language_info": {
   "file_extension": ".jl",
   "mimetype": "application/julia",
   "name": "julia",
   "version": "1.9.2"
  },
  "kernelspec": {
   "name": "julia-1.9",
   "display_name": "Julia 1.9.2",
   "language": "julia"
  }
 },
 "nbformat": 4
}
