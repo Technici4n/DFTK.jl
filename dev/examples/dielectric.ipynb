{
 "cells": [
  {
   "cell_type": "markdown",
   "source": [
    "# Eigenvalues of the dielectric matrix\n",
    "\n",
    "We compute a few eigenvalues of the dielectric matrix ($q=0$, $ω=0$) iteratively."
   ],
   "metadata": {}
  },
  {
   "outputs": [
    {
     "name": "stdout",
     "output_type": "stream",
     "text": [
      "n     Energy            log10(ΔE)   log10(Δρ)   Diag   Δtime\n",
      "---   ---------------   ---------   ---------   ----   ------\n",
      "  1   -7.235641395600                   -0.50    7.0         \n",
      "  2   -7.250358531870       -1.83       -1.40    1.0   9.44ms\n",
      "  3   -7.251153973371       -3.10       -2.12    1.0   9.49ms\n",
      "  4   -7.251179743653       -4.59       -2.03    2.0   11.9ms\n",
      "  5   -7.251332743012       -3.82       -2.67    1.0   9.48ms\n",
      "  6   -7.251337901105       -5.29       -3.11    1.0   9.60ms\n",
      "  7   -7.251338640853       -6.13       -3.42    3.0   12.8ms\n",
      "  8   -7.251338775061       -6.87       -3.94    1.0   10.2ms\n",
      "  9   -7.251338796734       -7.66       -4.24    3.0   13.7ms\n",
      " 10   -7.251338798103       -8.86       -4.59    1.0   10.4ms\n",
      " 11   -7.251338798606       -9.30       -5.19    1.0   10.4ms\n",
      " 12   -7.251338798691      -10.07       -5.42    3.0   13.5ms\n",
      " 13   -7.251338798702      -10.94       -5.84    1.0   10.1ms\n",
      " 14   -7.251338798704      -11.89       -5.98    3.0   13.3ms\n",
      " 15   -7.251338798704      -12.27       -6.16    1.0   10.4ms\n",
      " 16   -7.251338798704      -12.40       -6.73    1.0   10.4ms\n",
      " 17   -7.251338798705      -13.25       -7.05    2.0   12.2ms\n",
      " 18   -7.251338798705      -14.05       -7.67    2.0   12.3ms\n",
      " 19   -7.251338798705      -14.75       -8.31    2.0   12.4ms\n"
     ]
    }
   ],
   "cell_type": "code",
   "source": [
    "using DFTK\n",
    "using Plots\n",
    "using KrylovKit\n",
    "using Printf\n",
    "\n",
    "# Calculation parameters\n",
    "kgrid = [1, 1, 1]\n",
    "Ecut = 5\n",
    "\n",
    "# Silicon lattice\n",
    "a = 10.26\n",
    "lattice = a / 2 .* [[0 1 1.]; [1 0 1.]; [1 1 0.]]\n",
    "Si = ElementPsp(:Si, psp=load_psp(\"hgh/lda/Si-q4\"))\n",
    "atoms     = [Si, Si]\n",
    "positions = [ones(3)/8, -ones(3)/8]\n",
    "\n",
    "# Compute the dielectric operator without symmetries\n",
    "model  = model_LDA(lattice, atoms, positions, symmetries=false)\n",
    "basis  = PlaneWaveBasis(model; Ecut, kgrid)\n",
    "scfres = self_consistent_field(basis, tol=1e-8);"
   ],
   "metadata": {},
   "execution_count": 1
  },
  {
   "cell_type": "markdown",
   "source": [
    "Applying $ε^† ≔ (1- χ_0 K)$ …"
   ],
   "metadata": {}
  },
  {
   "outputs": [],
   "cell_type": "code",
   "source": [
    "function eps_fun(δρ)\n",
    "    δV = apply_kernel(basis, δρ; ρ=scfres.ρ)\n",
    "    χ0δV = apply_χ0(scfres, δV)\n",
    "    δρ - χ0δV\n",
    "end;"
   ],
   "metadata": {},
   "execution_count": 2
  },
  {
   "cell_type": "markdown",
   "source": [
    "… eagerly diagonalizes the subspace matrix at each iteration"
   ],
   "metadata": {}
  },
  {
   "outputs": [
    {
     "name": "stdout",
     "output_type": "stream",
     "text": [
      "[ Info: Arnoldi iteration step 1: normres = 0.06141638429272897\n",
      "[ Info: Arnoldi iteration step 2: normres = 0.41364139983249515\n",
      "[ Info: Arnoldi iteration step 3: normres = 0.661594467336248\n",
      "[ Info: Arnoldi iteration step 4: normres = 0.5250827351373899\n",
      "[ Info: Arnoldi iteration step 5: normres = 0.2745337464300441\n",
      "[ Info: Arnoldi schursolve in iter 1, krylovdim = 5: 0 values converged, normres = (6.08e-02, 3.29e-02, 1.56e-01, 2.13e-01, 2.99e-02)\n",
      "[ Info: Arnoldi iteration step 6: normres = 0.5529703544248942\n",
      "[ Info: Arnoldi schursolve in iter 1, krylovdim = 6: 0 values converged, normres = (2.70e-02, 9.35e-02, 5.28e-01, 9.19e-02, 8.63e-02)\n",
      "[ Info: Arnoldi iteration step 7: normres = 0.09469380005511173\n",
      "[ Info: Arnoldi schursolve in iter 1, krylovdim = 7: 0 values converged, normres = (1.53e-03, 4.32e-02, 1.06e-02, 2.90e-02, 6.84e-02)\n",
      "[ Info: Arnoldi iteration step 8: normres = 0.08022974824771037\n",
      "[ Info: Arnoldi schursolve in iter 1, krylovdim = 8: 0 values converged, normres = (5.28e-05, 2.46e-03, 6.33e-04, 7.52e-03, 3.52e-02)\n",
      "[ Info: Arnoldi iteration step 9: normres = 0.09969066656428836\n",
      "[ Info: Arnoldi schursolve in iter 1, krylovdim = 9: 0 values converged, normres = (2.27e-06, 1.74e-04, 5.01e-05, 2.50e-03, 3.28e-02)\n",
      "[ Info: Arnoldi iteration step 10: normres = 0.10843753354567577\n",
      "[ Info: Arnoldi schursolve in iter 1, krylovdim = 10: 0 values converged, normres = (1.08e-07, 1.39e-05, 4.44e-06, 1.09e-03, 4.54e-02)\n",
      "[ Info: Arnoldi iteration step 11: normres = 0.046683250069357654\n",
      "[ Info: Arnoldi schursolve in iter 1, krylovdim = 11: 0 values converged, normres = (2.19e-09, 4.61e-07, 1.64e-07, 1.75e-04, 1.64e-02)\n",
      "[ Info: Arnoldi iteration step 12: normres = 0.09283879684159045\n",
      "[ Info: Arnoldi schursolve in iter 1, krylovdim = 12: 0 values converged, normres = (8.62e-11, 2.96e-08, 1.16e-08, 4.62e-05, 7.73e-03)\n",
      "[ Info: Arnoldi iteration step 13: normres = 0.03890053476934641\n",
      "[ Info: Arnoldi schursolve in iter 1, krylovdim = 13: 0 values converged, normres = (1.44e-12, 8.12e-10, 3.55e-10, 5.79e-06, 2.01e-03)\n",
      "[ Info: Arnoldi iteration step 14: normres = 0.6914553050926002\n",
      "[ Info: Arnoldi schursolve in iter 1, krylovdim = 14: 1 values converged, normres = (5.58e-13, 6.38e-10, 3.31e-10, 6.80e-01, 9.93e-02)\n",
      "[ Info: Arnoldi iteration step 15: normres = 0.0941283756849335\n",
      "[ Info: Arnoldi schursolve in iter 1, krylovdim = 15: 1 values converged, normres = (3.84e-14, 3.43e-10, 6.90e-02, 2.20e-03, 5.37e-05)\n",
      "[ Info: Arnoldi iteration step 16: normres = 0.5862647969418948\n",
      "[ Info: Arnoldi schursolve in iter 1, krylovdim = 16: 1 values converged, normres = (1.83e-14, 6.88e-10, 1.65e-01, 1.40e-02, 5.61e-01)\n",
      "[ Info: Arnoldi iteration step 17: normres = 0.03421774374360394\n",
      "[ Info: Arnoldi schursolve in iter 1, krylovdim = 17: 1 values converged, normres = (3.39e-16, 1.82e-03, 1.25e-02, 5.15e-06, 8.54e-03)\n",
      "[ Info: Arnoldi iteration step 18: normres = 0.023906567903157844\n",
      "[ Info: Arnoldi schursolve in iter 1, krylovdim = 18: 1 values converged, normres = (3.35e-18, 4.11e-05, 1.96e-04, 1.98e-05, 1.46e-04)\n",
      "[ Info: Arnoldi iteration step 19: normres = 0.19807561934508264\n",
      "[ Info: Arnoldi schursolve in iter 1, krylovdim = 19: 1 values converged, normres = (2.87e-19, 1.02e-07, 2.82e-05, 1.04e-06, 2.31e-05)\n",
      "[ Info: Arnoldi iteration step 20: normres = 0.06503868953529748\n",
      "[ Info: Arnoldi schursolve in iter 1, krylovdim = 20: 1 values converged, normres = (8.96e-21, 3.62e-07, 1.53e-06, 1.32e-08, 1.47e-06)\n",
      "[ Info: Arnoldi iteration step 21: normres = 0.02036935513244551\n",
      "[ Info: Arnoldi schursolve in iter 1, krylovdim = 21: 1 values converged, normres = (7.55e-23, 1.40e-08, 1.59e-08, 2.71e-09, 2.16e-08)\n",
      "[ Info: Arnoldi iteration step 22: normres = 0.017381761587604593\n",
      "[ Info: Arnoldi schursolve in iter 1, krylovdim = 22: 1 values converged, normres = (5.38e-25, 2.34e-10, 5.50e-11, 3.08e-11, 2.70e-10)\n",
      "[ Info: Arnoldi iteration step 23: normres = 0.6622796176068135\n",
      "[ Info: Arnoldi schursolve in iter 1, krylovdim = 23: 1 values converged, normres = (1.80e-25, 1.45e-10, 3.28e-11, 2.20e-11, 1.93e-10)\n",
      "[ Info: Arnoldi iteration step 24: normres = 0.02500480217370896\n",
      "[ Info: Arnoldi schursolve in iter 1, krylovdim = 24: 1 values converged, normres = (3.49e-27, 1.81e-11, 4.14e-12, 7.31e-03, 7.00e-03)\n",
      "[ Info: Arnoldi iteration step 25: normres = 0.06532005454428567\n",
      "[ Info: Arnoldi schursolve in iter 1, krylovdim = 25: 3 values converged, normres = (9.39e-29, 7.77e-13, 1.77e-13, 1.09e-09, 8.51e-09)\n",
      "[ Info: Arnoldi iteration step 26: normres = 0.05572465451823048\n",
      "[ Info: Arnoldi schursolve in iter 1, krylovdim = 26: 3 values converged, normres = (2.36e-30, 3.30e-14, 7.53e-15, 1.45e-05, 1.13e-05)\n",
      "[ Info: Arnoldi iteration step 27: normres = 0.018641264395857195\n",
      "[ Info: Arnoldi schursolve in iter 1, krylovdim = 27: 3 values converged, normres = (1.81e-32, 4.05e-16, 9.24e-17, 4.54e-07, 2.50e-07)\n",
      "[ Info: Arnoldi iteration step 28: normres = 0.1003935783926205\n",
      "[ Info: Arnoldi schursolve in iter 1, krylovdim = 28: 3 values converged, normres = (7.69e-34, 2.79e-17, 6.38e-18, 2.65e-08, 6.96e-10)\n",
      "[ Info: Arnoldi iteration step 29: normres = 0.04582852524215175\n",
      "[ Info: Arnoldi schursolve in iter 1, krylovdim = 29: 3 values converged, normres = (1.53e-35, 9.15e-19, 2.09e-19, 3.59e-11, 1.69e-09)\n",
      "[ Info: Arnoldi iteration step 30: normres = 0.17276083802386671\n",
      "[ Info: Arnoldi schursolve in iter 1, krylovdim = 30: 3 values converged, normres = (1.28e-36, 1.36e-19, 3.11e-20, 6.38e-12, 2.89e-10)\n",
      "[ Info: Arnoldi schursolve in iter 2, krylovdim = 19: 3 values converged, normres = (1.28e-36, 1.36e-19, 3.11e-20, 6.38e-12, 2.89e-10)\n",
      "[ Info: Arnoldi iteration step 20: normres = 0.03071991849241222\n",
      "[ Info: Arnoldi schursolve in iter 2, krylovdim = 20: 4 values converged, normres = (1.67e-38, 2.91e-21, 6.64e-22, 1.50e-13, 6.83e-12)\n",
      "[ Info: Arnoldi iteration step 21: normres = 0.07955758559439163\n",
      "┌ Info: Arnoldi eigsolve finished after 2 iterations:\n",
      "│ *  6 eigenvalues converged\n",
      "│ *  norm of residuals = (5.607090406592485e-40, 1.5883492697322277e-22, 5.375315129683063e-23, 9.048999507078449e-15, 4.081354786206478e-13, 6.418095345665898e-14)\n",
      "└ *  number of operations = 32\n"
     ]
    }
   ],
   "cell_type": "code",
   "source": [
    "eigsolve(eps_fun, randn(size(scfres.ρ)), 5, :LM; eager=true, verbosity=3);"
   ],
   "metadata": {},
   "execution_count": 3
  }
 ],
 "nbformat_minor": 3,
 "metadata": {
  "language_info": {
   "file_extension": ".jl",
   "mimetype": "application/julia",
   "name": "julia",
   "version": "1.8.5"
  },
  "kernelspec": {
   "name": "julia-1.8",
   "display_name": "Julia 1.8.5",
   "language": "julia"
  }
 },
 "nbformat": 4
}
