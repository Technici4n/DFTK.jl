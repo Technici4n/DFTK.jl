{
 "cells": [
  {
   "cell_type": "markdown",
   "source": [
    "# Comparison of DFT solvers"
   ],
   "metadata": {}
  },
  {
   "cell_type": "markdown",
   "source": [
    "We compare four different approaches for solving the DFT minimisation problem,\n",
    "namely a density-based SCF, a potential-based SCF, direct minimisation and Newton."
   ],
   "metadata": {}
  },
  {
   "cell_type": "markdown",
   "source": [
    "First we setup our problem"
   ],
   "metadata": {}
  },
  {
   "outputs": [],
   "cell_type": "code",
   "source": [
    "using DFTK\n",
    "using LinearAlgebra\n",
    "\n",
    "a = 10.26  # Silicon lattice constant in Bohr\n",
    "lattice = a / 2 * [[0 1 1.];\n",
    "                   [1 0 1.];\n",
    "                   [1 1 0.]]\n",
    "Si = ElementPsp(:Si, psp=load_psp(\"hgh/lda/Si-q4\"))\n",
    "atoms     = [Si, Si]\n",
    "positions = [ones(3)/8, -ones(3)/8]\n",
    "\n",
    "model = model_LDA(lattice, atoms, positions)\n",
    "basis = PlaneWaveBasis(model; Ecut=5, kgrid=[3, 3, 3])\n",
    "\n",
    "# Convergence we desire\n",
    "tol = 1e-12\n",
    "is_converged = DFTK.ScfConvergenceDensity(tol);"
   ],
   "metadata": {},
   "execution_count": 1
  },
  {
   "cell_type": "markdown",
   "source": [
    "## Density-based self-consistent field"
   ],
   "metadata": {}
  },
  {
   "outputs": [
    {
     "name": "stdout",
     "output_type": "stream",
     "text": [
      "n     Energy            log10(ΔE)   log10(Δρ)   Diag\n",
      "---   ---------------   ---------   ---------   ----\n",
      "  1   -7.846853280281                   -0.70    4.5\n",
      "  2   -7.852323168840       -2.26       -1.53    1.0\n",
      "  3   -7.852646052977       -3.49       -2.52    3.2\n",
      "  4   -7.852646677223       -6.20       -3.36    2.2\n",
      "  5   -7.852646685803       -8.07       -4.77    1.0\n",
      "  6   -7.852646686724       -9.04       -5.15    4.2\n",
      "  7   -7.852646686729      -11.24       -5.95    2.0\n",
      "  8   -7.852646686730      -12.45       -7.32    2.2\n",
      "  9   -7.852646686730      -14.27       -7.51    2.2\n",
      " 10   -7.852646686730   +    -Inf       -8.91    1.2\n",
      " 11   -7.852646686730   +  -14.45       -9.53    3.2\n",
      " 12   -7.852646686730      -14.75      -10.17    1.5\n",
      " 13   -7.852646686730   +  -14.75      -10.94    1.5\n",
      " 14   -7.852646686730   +  -14.57      -11.29    2.2\n",
      " 15   -7.852646686730      -14.35      -12.17    1.0\n"
     ]
    }
   ],
   "cell_type": "code",
   "source": [
    "scfres_scf = self_consistent_field(basis; is_converged);"
   ],
   "metadata": {},
   "execution_count": 2
  },
  {
   "cell_type": "markdown",
   "source": [
    "## Potential-based SCF"
   ],
   "metadata": {}
  },
  {
   "outputs": [
    {
     "name": "stdout",
     "output_type": "stream",
     "text": [
      "n     Energy            log10(ΔE)   log10(Δρ)   α      Diag\n",
      "---   ---------------   ---------   ---------   ----   ----\n",
      "  1   -7.846706591151                   -0.70           5.0\n",
      "  2   -7.852527264582       -2.24       -1.63   0.80    2.2\n",
      "  3   -7.852637682714       -3.96       -2.71   0.80    1.0\n",
      "  4   -7.852646469532       -5.06       -3.31   0.80    2.0\n",
      "  5   -7.852646683459       -6.67       -4.23   0.80    2.0\n",
      "  6   -7.852646686455       -8.52       -5.01   0.80    1.5\n",
      "  7   -7.852646686727       -9.57       -5.90   0.80    2.2\n",
      "  8   -7.852646686730      -11.62       -6.83   0.80    1.5\n",
      "  9   -7.852646686730      -12.89       -7.51   0.80    2.2\n",
      " 10   -7.852646686730   +    -Inf       -8.64   0.80    1.8\n",
      " 11   -7.852646686730   +    -Inf       -8.68   0.80    2.8\n",
      " 12   -7.852646686730      -15.05      -10.26   0.80    1.0\n",
      " 13   -7.852646686730   +    -Inf      -11.16   0.80    2.5\n",
      " 14   -7.852646686730   +  -15.05      -11.27   0.80    2.5\n",
      " 15   -7.852646686730      -14.75      -12.61   0.80    1.0\n"
     ]
    }
   ],
   "cell_type": "code",
   "source": [
    "scfres_scfv = DFTK.scf_potential_mixing(basis; is_converged);"
   ],
   "metadata": {},
   "execution_count": 3
  },
  {
   "cell_type": "markdown",
   "source": [
    "## Direct minimization"
   ],
   "metadata": {}
  },
  {
   "outputs": [
    {
     "name": "stdout",
     "output_type": "stream",
     "text": [
      "Iter     Function value   Gradient norm \n",
      "     0     1.413991e+01     3.043367e+00\n",
      " * time: 0.5312039852142334\n",
      "     1     8.518351e-01     1.693807e+00\n",
      " * time: 0.8184740543365479\n",
      "     2    -1.680568e+00     2.064780e+00\n",
      " * time: 0.8579399585723877\n",
      "     3    -3.806715e+00     1.597327e+00\n",
      " * time: 0.9126310348510742\n",
      "     4    -5.039851e+00     1.500077e+00\n",
      " * time: 0.9690530300140381\n",
      "     5    -6.687086e+00     9.284202e-01\n",
      " * time: 1.0228428840637207\n",
      "     6    -7.406787e+00     4.171718e-01\n",
      " * time: 1.0843970775604248\n",
      "     7    -7.685940e+00     2.642405e-01\n",
      " * time: 1.1274549961090088\n",
      "     8    -7.785593e+00     1.056269e-01\n",
      " * time: 1.1663150787353516\n",
      "     9    -7.826387e+00     1.099955e-01\n",
      " * time: 1.205129861831665\n",
      "    10    -7.838431e+00     5.867780e-02\n",
      " * time: 1.2428560256958008\n",
      "    11    -7.847187e+00     3.658418e-02\n",
      " * time: 1.282562017440796\n",
      "    12    -7.850822e+00     3.562188e-02\n",
      " * time: 1.3209829330444336\n",
      "    13    -7.851927e+00     2.473188e-02\n",
      " * time: 1.3615128993988037\n",
      "    14    -7.852391e+00     1.212092e-02\n",
      " * time: 1.402400016784668\n",
      "    15    -7.852531e+00     8.884496e-03\n",
      " * time: 1.4407758712768555\n",
      "    16    -7.852595e+00     3.294048e-03\n",
      " * time: 1.4790310859680176\n",
      "    17    -7.852630e+00     1.769607e-03\n",
      " * time: 1.5205168724060059\n",
      "    18    -7.852641e+00     1.316916e-03\n",
      " * time: 1.558434009552002\n",
      "    19    -7.852645e+00     8.924947e-04\n",
      " * time: 1.5978200435638428\n",
      "    20    -7.852646e+00     5.336939e-04\n",
      " * time: 1.6442060470581055\n",
      "    21    -7.852646e+00     2.487105e-04\n",
      " * time: 1.6827919483184814\n",
      "    22    -7.852647e+00     1.243478e-04\n",
      " * time: 1.7208170890808105\n",
      "    23    -7.852647e+00     8.812659e-05\n",
      " * time: 1.762157917022705\n",
      "    24    -7.852647e+00     6.941449e-05\n",
      " * time: 1.801151990890503\n",
      "    25    -7.852647e+00     3.769695e-05\n",
      " * time: 1.843703031539917\n",
      "    26    -7.852647e+00     1.586380e-05\n",
      " * time: 1.8835840225219727\n",
      "    27    -7.852647e+00     9.881489e-06\n",
      " * time: 1.9297070503234863\n",
      "    28    -7.852647e+00     7.565980e-06\n",
      " * time: 1.9691600799560547\n",
      "    29    -7.852647e+00     3.964582e-06\n",
      " * time: 2.0082199573516846\n",
      "    30    -7.852647e+00     3.018450e-06\n",
      " * time: 2.046207904815674\n",
      "    31    -7.852647e+00     1.219375e-06\n",
      " * time: 2.0849928855895996\n",
      "    32    -7.852647e+00     7.111276e-07\n",
      " * time: 2.122657060623169\n",
      "    33    -7.852647e+00     6.612993e-07\n",
      " * time: 2.160351037979126\n",
      "    34    -7.852647e+00     3.093509e-07\n",
      " * time: 2.2017860412597656\n",
      "    35    -7.852647e+00     1.910581e-07\n",
      " * time: 2.2395858764648438\n",
      "    36    -7.852647e+00     1.116113e-07\n",
      " * time: 2.281614065170288\n",
      "    37    -7.852647e+00     7.126799e-08\n",
      " * time: 2.3212599754333496\n",
      "    38    -7.852647e+00     5.156925e-08\n",
      " * time: 2.3595988750457764\n",
      "    39    -7.852647e+00     3.187394e-08\n",
      " * time: 2.4017648696899414\n",
      "    40    -7.852647e+00     1.873267e-08\n",
      " * time: 2.440782070159912\n",
      "    41    -7.852647e+00     1.855238e-08\n",
      " * time: 2.5320420265197754\n",
      "    42    -7.852647e+00     1.855238e-08\n",
      " * time: 2.7903330326080322\n"
     ]
    }
   ],
   "cell_type": "code",
   "source": [
    "scfres_dm = direct_minimization(basis; tol);"
   ],
   "metadata": {},
   "execution_count": 4
  },
  {
   "cell_type": "markdown",
   "source": [
    "## Newton algorithm"
   ],
   "metadata": {}
  },
  {
   "cell_type": "markdown",
   "source": [
    "Start not too far from the solution to ensure convergence:\n",
    "We run first a very crude SCF to get close and then switch to Newton."
   ],
   "metadata": {}
  },
  {
   "outputs": [
    {
     "name": "stdout",
     "output_type": "stream",
     "text": [
      "n     Energy            log10(ΔE)   log10(Δρ)   Diag\n",
      "---   ---------------   ---------   ---------   ----\n",
      "  1   -7.846825116848                   -0.70    4.5\n",
      "  2   -7.852312763338       -2.26       -1.53    1.0\n"
     ]
    }
   ],
   "cell_type": "code",
   "source": [
    "scfres_start = self_consistent_field(basis; tol=1e-1);"
   ],
   "metadata": {},
   "execution_count": 5
  },
  {
   "cell_type": "markdown",
   "source": [
    "Remove the virtual orbitals (which Newton cannot treat yet)"
   ],
   "metadata": {}
  },
  {
   "outputs": [
    {
     "name": "stdout",
     "output_type": "stream",
     "text": [
      "n     Energy            log10(ΔE)   log10(Δρ)\n",
      "---   ---------------   ---------   ---------\n",
      "  1   -7.852646686690                   -2.55\n",
      "  2   -7.852646686730      -10.40       -5.98\n",
      "  3   -7.852646686730   +    -Inf      -12.50\n"
     ]
    }
   ],
   "cell_type": "code",
   "source": [
    "ψ = DFTK.select_occupied_orbitals(basis, scfres_start.ψ, scfres_start.occupation).ψ\n",
    "scfres_newton = newton(basis, ψ; tol);"
   ],
   "metadata": {},
   "execution_count": 6
  },
  {
   "cell_type": "markdown",
   "source": [
    "## Comparison of results"
   ],
   "metadata": {}
  },
  {
   "outputs": [
    {
     "name": "stdout",
     "output_type": "stream",
     "text": [
      "|ρ_newton - ρ_scf|  = 2.3625141478844024e-13\n",
      "|ρ_newton - ρ_scfv| = 5.69928497821686e-13\n",
      "|ρ_newton - ρ_dm|   = 3.717823759258426e-9\n"
     ]
    }
   ],
   "cell_type": "code",
   "source": [
    "println(\"|ρ_newton - ρ_scf|  = \", norm(scfres_newton.ρ - scfres_scf.ρ))\n",
    "println(\"|ρ_newton - ρ_scfv| = \", norm(scfres_newton.ρ - scfres_scfv.ρ))\n",
    "println(\"|ρ_newton - ρ_dm|   = \", norm(scfres_newton.ρ - scfres_dm.ρ))"
   ],
   "metadata": {},
   "execution_count": 7
  }
 ],
 "nbformat_minor": 3,
 "metadata": {
  "language_info": {
   "file_extension": ".jl",
   "mimetype": "application/julia",
   "name": "julia",
   "version": "1.8.3"
  },
  "kernelspec": {
   "name": "julia-1.8",
   "display_name": "Julia 1.8.3",
   "language": "julia"
  }
 },
 "nbformat": 4
}
