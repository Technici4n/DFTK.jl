{
 "cells": [
  {
   "cell_type": "markdown",
   "source": [
    "# Polarizability using automatic differentiation\n",
    "\n",
    "Simple example for computing properties using (forward-mode)\n",
    "automatic differentiation.\n",
    "For a more classical approach and more details about computing polarizabilities,\n",
    "see Polarizability by linear response."
   ],
   "metadata": {}
  },
  {
   "outputs": [],
   "cell_type": "code",
   "source": [
    "using DFTK\n",
    "using LinearAlgebra\n",
    "using ForwardDiff\n",
    "\n",
    "# Construct PlaneWaveBasis given a particular electric field strength\n",
    "# Again we take the example of a Helium atom.\n",
    "function make_basis(ε::T; a=10., Ecut=30) where {T}\n",
    "    lattice=T(a) * I(3)  # lattice is a cube of $a$ Bohrs\n",
    "    # Helium at the center of the box\n",
    "    atoms     = [ElementPsp(:He, psp=load_psp(\"hgh/lda/He-q2\"))]\n",
    "    positions = [[1/2, 1/2, 1/2]]\n",
    "\n",
    "    model = model_DFT(lattice, atoms, positions, [:lda_x, :lda_c_vwn];\n",
    "                      extra_terms=[ExternalFromReal(r -> -ε * (r[1] - a/2))],\n",
    "                      symmetries=false)\n",
    "    PlaneWaveBasis(model; Ecut, kgrid=[1, 1, 1])  # No k-point sampling on isolated system\n",
    "end\n",
    "\n",
    "# dipole moment of a given density (assuming the current geometry)\n",
    "function dipole(basis, ρ)\n",
    "    @assert isdiag(basis.model.lattice)\n",
    "    a  = basis.model.lattice[1, 1]\n",
    "    rr = [a * (r[1] - 1/2) for r in r_vectors(basis)]\n",
    "    sum(rr .* ρ) * basis.dvol\n",
    "end\n",
    "\n",
    "# Function to compute the dipole for a given field strength\n",
    "function compute_dipole(ε; tol=1e-8, kwargs...)\n",
    "    scfres = self_consistent_field(make_basis(ε; kwargs...); tol)\n",
    "    dipole(scfres.basis, scfres.ρ)\n",
    "end;"
   ],
   "metadata": {},
   "execution_count": 1
  },
  {
   "cell_type": "markdown",
   "source": [
    "With this in place we can compute the polarizability from finite differences\n",
    "(just like in the previous example):"
   ],
   "metadata": {}
  },
  {
   "outputs": [
    {
     "name": "stdout",
     "output_type": "stream",
     "text": [
      "n     Energy            log10(ΔE)   log10(Δρ)   Diag   Δtime\n",
      "---   ---------------   ---------   ---------   ----   ------\n",
      "  1   -2.770882117034                   -0.53    8.0         \n",
      "  2   -2.772143670694       -2.90       -1.30    1.0    157ms\n",
      "  3   -2.772170272091       -4.58       -2.65    1.0    159ms\n",
      "  4   -2.772170720507       -6.35       -3.96    2.0    207ms\n",
      "  5   -2.772170722904       -8.62       -4.51    2.0    176ms\n",
      "  6   -2.772170723013       -9.96       -5.51    1.0    198ms\n",
      "  7   -2.772170723015      -11.67       -6.42    2.0    181ms\n",
      "  8   -2.772170723015      -13.42       -6.86    2.0    197ms\n",
      "  9   -2.772170723015   +  -15.05       -7.72    1.0    186ms\n",
      " 10   -2.772170723015      -14.10       -8.81    2.0    196ms\n",
      "n     Energy            log10(ΔE)   log10(Δρ)   Diag   Δtime\n",
      "---   ---------------   ---------   ---------   ----   ------\n",
      "  1   -2.770837329642                   -0.52    9.0         \n",
      "  2   -2.772063187912       -2.91       -1.32    1.0    185ms\n",
      "  3   -2.772083081496       -4.70       -2.46    1.0    155ms\n",
      "  4   -2.772083347683       -6.57       -3.16    1.0    191ms\n",
      "  5   -2.772083417376       -7.16       -4.15    2.0    190ms\n",
      "  6   -2.772083417650       -9.56       -4.44    1.0    163ms\n",
      "  7   -2.772083417809       -9.80       -5.89    1.0    182ms\n",
      "  8   -2.772083417811      -11.71       -6.39    2.0    185ms\n",
      "  9   -2.772083417811   +  -13.62       -6.26    1.0    198ms\n",
      " 10   -2.772083417811      -13.59       -7.62    1.0    174ms\n",
      " 11   -2.772083417811      -14.15       -7.58    2.0    214ms\n",
      " 12   -2.772083417811      -14.15       -8.09    1.0    195ms\n"
     ]
    },
    {
     "output_type": "execute_result",
     "data": {
      "text/plain": "1.7735580261890493"
     },
     "metadata": {},
     "execution_count": 2
    }
   ],
   "cell_type": "code",
   "source": [
    "polarizability_fd = let\n",
    "    ε = 0.01\n",
    "    (compute_dipole(ε) - compute_dipole(0.0)) / ε\n",
    "end"
   ],
   "metadata": {},
   "execution_count": 2
  },
  {
   "cell_type": "markdown",
   "source": [
    "We do the same thing using automatic differentiation. Under the hood this uses\n",
    "custom rules to implicitly differentiate through the self-consistent\n",
    "field fixed-point problem."
   ],
   "metadata": {}
  },
  {
   "outputs": [
    {
     "name": "stdout",
     "output_type": "stream",
     "text": [
      "n     Energy            log10(ΔE)   log10(Δρ)   Diag   Δtime\n",
      "---   ---------------   ---------   ---------   ----   ------\n",
      "  1   -2.770758958566                   -0.52    9.0         \n",
      "  2   -2.772058045734       -2.89       -1.32    1.0    153ms\n",
      "  3   -2.772083094913       -4.60       -2.49    1.0    201ms\n",
      "  4   -2.772083345799       -6.60       -3.23    1.0    158ms\n",
      "  5   -2.772083414273       -7.16       -3.75    2.0    184ms\n",
      "  6   -2.772083417638       -8.47       -4.60    1.0    210ms\n",
      "  7   -2.772083417807       -9.77       -5.20    2.0    180ms\n",
      "  8   -2.772083417810      -11.50       -6.32    1.0    180ms\n",
      "  9   -2.772083417811      -12.82       -6.77    2.0    197ms\n",
      " 10   -2.772083417811   +  -14.57       -7.43    1.0    163ms\n",
      " 11   -2.772083417811   +  -14.45       -8.26    1.0    196ms\n",
      "\n",
      "Polarizability via ForwardDiff:       1.7725349832326425\n",
      "Polarizability via finite difference: 1.7735580261890493\n"
     ]
    }
   ],
   "cell_type": "code",
   "source": [
    "polarizability = ForwardDiff.derivative(compute_dipole, 0.0)\n",
    "println()\n",
    "println(\"Polarizability via ForwardDiff:       $polarizability\")\n",
    "println(\"Polarizability via finite difference: $polarizability_fd\")"
   ],
   "metadata": {},
   "execution_count": 3
  }
 ],
 "nbformat_minor": 3,
 "metadata": {
  "language_info": {
   "file_extension": ".jl",
   "mimetype": "application/julia",
   "name": "julia",
   "version": "1.9.3"
  },
  "kernelspec": {
   "name": "julia-1.9",
   "display_name": "Julia 1.9.3",
   "language": "julia"
  }
 },
 "nbformat": 4
}
