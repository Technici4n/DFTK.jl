{
 "cells": [
  {
   "cell_type": "markdown",
   "source": [
    "# Eigenvalues of the dielectric matrix\n",
    "\n",
    "We compute a few eigenvalues of the dielectric matrix ($q=0$, $ω=0$) iteratively."
   ],
   "metadata": {}
  },
  {
   "outputs": [
    {
     "name": "stdout",
     "output_type": "stream",
     "text": [
      "n     Energy            log10(ΔE)   log10(Δρ)   Diag\n",
      "---   ---------------   ---------   ---------   ----\n",
      "  1   -7.232804860191                   -0.50    7.0\n",
      "  2   -7.248973396387       -1.79       -1.37    1.0\n",
      "  3   -7.250591001552       -2.79       -1.65    2.0\n",
      "  4   -7.251005722853       -3.38       -1.87    1.0\n",
      "  5   -7.251273912204       -3.57       -2.25    1.0\n",
      "  6   -7.251333965205       -4.22       -2.72    1.0\n",
      "  7   -7.251338128933       -5.38       -3.26    1.0\n",
      "  8   -7.251338739811       -6.21       -3.61    2.0\n",
      "  9   -7.251338792831       -7.28       -4.10    1.0\n",
      " 10   -7.251338797786       -8.30       -4.63    1.0\n",
      " 11   -7.251338798408       -9.21       -4.73    3.0\n",
      " 12   -7.251338798461      -10.28       -4.78    1.0\n",
      " 13   -7.251338798695       -9.63       -5.63    2.0\n",
      " 14   -7.251338798700      -11.26       -5.63    3.0\n",
      " 15   -7.251338798702      -11.70       -5.80    1.0\n",
      " 16   -7.251338798704      -11.67       -6.65    1.0\n",
      " 17   -7.251338798704      -12.59       -6.57    4.0\n",
      " 18   -7.251338798705      -13.34       -7.03    1.0\n",
      " 19   -7.251338798705      -14.45       -7.82    2.0\n",
      " 20   -7.251338798705      -14.45       -7.77    3.0\n",
      " 21   -7.251338798705      -15.05       -7.99    1.0\n",
      " 22   -7.251338798705      -15.05       -9.08    2.0\n"
     ]
    }
   ],
   "cell_type": "code",
   "source": [
    "using DFTK\n",
    "using Plots\n",
    "using KrylovKit\n",
    "using Printf\n",
    "\n",
    "# Calculation parameters\n",
    "kgrid = [1, 1, 1]\n",
    "Ecut = 5\n",
    "\n",
    "# Silicon lattice\n",
    "a = 10.26\n",
    "lattice = a / 2 .* [[0 1 1.]; [1 0 1.]; [1 1 0.]]\n",
    "Si = ElementPsp(:Si, psp=load_psp(\"hgh/lda/Si-q4\"))\n",
    "atoms     = [Si, Si]\n",
    "positions = [ones(3)/8, -ones(3)/8]\n",
    "\n",
    "# Compute the dielectric operator without symmetries\n",
    "model  = model_LDA(lattice, atoms, positions, symmetries=false)\n",
    "basis  = PlaneWaveBasis(model; Ecut, kgrid)\n",
    "scfres = self_consistent_field(basis, tol=1e-8);"
   ],
   "metadata": {},
   "execution_count": 1
  },
  {
   "cell_type": "markdown",
   "source": [
    "Applying $ε^† ≔ (1- χ_0 K)$ …"
   ],
   "metadata": {}
  },
  {
   "outputs": [],
   "cell_type": "code",
   "source": [
    "function eps_fun(δρ)\n",
    "    δV = apply_kernel(basis, δρ; ρ=scfres.ρ)\n",
    "    χ0δV = apply_χ0(scfres, δV)\n",
    "    δρ - χ0δV\n",
    "end;"
   ],
   "metadata": {},
   "execution_count": 2
  },
  {
   "cell_type": "markdown",
   "source": [
    "… eagerly diagonalizes the subspace matrix at each iteration"
   ],
   "metadata": {}
  },
  {
   "outputs": [
    {
     "name": "stdout",
     "output_type": "stream",
     "text": [
      "[ Info: Arnoldi iteration step 1: normres = 0.03529762025631986\n",
      "[ Info: Arnoldi iteration step 2: normres = 0.4890794729952197\n",
      "[ Info: Arnoldi iteration step 3: normres = 0.4518747559661879\n",
      "[ Info: Arnoldi iteration step 4: normres = 0.9415737556927471\n",
      "[ Info: Arnoldi iteration step 5: normres = 0.29480021902820414\n",
      "[ Info: Arnoldi schursolve in iter 1, krylovdim = 5: 0 values converged, normres = (1.39e-01, 5.56e-02, 1.80e-01, 1.77e-01, 2.43e-02)\n",
      "[ Info: Arnoldi iteration step 6: normres = 0.537803986930005\n",
      "[ Info: Arnoldi schursolve in iter 1, krylovdim = 6: 0 values converged, normres = (6.28e-02, 1.64e-01, 4.86e-01, 1.06e-01, 7.65e-02)\n",
      "[ Info: Arnoldi iteration step 7: normres = 0.09855267449886945\n",
      "[ Info: Arnoldi schursolve in iter 1, krylovdim = 7: 0 values converged, normres = (3.46e-03, 3.86e-02, 1.75e-02, 3.13e-02, 7.19e-02)\n",
      "[ Info: Arnoldi iteration step 8: normres = 0.11094503888043547\n",
      "[ Info: Arnoldi schursolve in iter 1, krylovdim = 8: 0 values converged, normres = (1.68e-04, 3.11e-03, 1.57e-03, 1.26e-02, 6.44e-02)\n",
      "[ Info: Arnoldi iteration step 9: normres = 0.07545958914857409\n",
      "[ Info: Arnoldi schursolve in iter 1, krylovdim = 9: 0 values converged, normres = (5.46e-06, 1.66e-04, 9.32e-05, 3.29e-03, 3.29e-02)\n",
      "[ Info: Arnoldi iteration step 10: normres = 0.08410877852633918\n",
      "[ Info: Arnoldi schursolve in iter 1, krylovdim = 10: 0 values converged, normres = (2.04e-07, 1.04e-05, 6.50e-06, 1.12e-03, 3.00e-02)\n",
      "[ Info: Arnoldi iteration step 11: normres = 0.06050989021753441\n",
      "[ Info: Arnoldi schursolve in iter 1, krylovdim = 11: 0 values converged, normres = (5.27e-09, 4.40e-07, 3.05e-07, 2.15e-04, 1.25e-02)\n",
      "[ Info: Arnoldi iteration step 12: normres = 0.09050946726109903\n",
      "[ Info: Arnoldi schursolve in iter 1, krylovdim = 12: 0 values converged, normres = (2.03e-10, 2.77e-08, 2.13e-08, 5.72e-05, 6.07e-03)\n",
      "[ Info: Arnoldi iteration step 13: normres = 0.04088334163513336\n",
      "[ Info: Arnoldi schursolve in iter 1, krylovdim = 13: 0 values converged, normres = (3.59e-12, 8.04e-10, 6.85e-10, 7.73e-06, 1.80e-03)\n",
      "[ Info: Arnoldi iteration step 14: normres = 0.7337071249634259\n",
      "[ Info: Arnoldi schursolve in iter 1, krylovdim = 14: 0 values converged, normres = (1.55e-12, 7.49e-10, 7.77e-10, 7.28e-01, 1.72e-02)\n",
      "[ Info: Arnoldi iteration step 15: normres = 0.03381228004888211\n",
      "[ Info: Arnoldi schursolve in iter 1, krylovdim = 15: 1 values converged, normres = (3.50e-14, 9.38e-11, 7.18e-03, 2.27e-02, 1.18e-05)\n",
      "[ Info: Arnoldi iteration step 16: normres = 0.5999100947808853\n",
      "[ Info: Arnoldi schursolve in iter 1, krylovdim = 16: 1 values converged, normres = (1.00e-14, 4.76e-11, 1.35e-02, 1.71e-03, 4.58e-06)\n",
      "[ Info: Arnoldi iteration step 17: normres = 0.07643406201534585\n",
      "[ Info: Arnoldi schursolve in iter 1, krylovdim = 17: 1 values converged, normres = (7.32e-16, 8.41e-10, 6.75e-02, 3.28e-04, 6.23e-03)\n",
      "[ Info: Arnoldi iteration step 18: normres = 0.020137215552616397\n",
      "[ Info: Arnoldi schursolve in iter 1, krylovdim = 18: 1 values converged, normres = (6.12e-18, 8.46e-04, 3.12e-04, 5.09e-05, 6.74e-05)\n",
      "[ Info: Arnoldi iteration step 19: normres = 0.09950419081937326\n",
      "[ Info: Arnoldi schursolve in iter 1, krylovdim = 19: 1 values converged, normres = (2.52e-19, 1.35e-08, 5.94e-05, 3.28e-07, 6.13e-06)\n",
      "[ Info: Arnoldi iteration step 20: normres = 0.11951769790883757\n",
      "[ Info: Arnoldi schursolve in iter 1, krylovdim = 20: 1 values converged, normres = (1.47e-20, 4.89e-09, 6.23e-06, 3.55e-08, 7.34e-07)\n",
      "[ Info: Arnoldi iteration step 21: normres = 0.027498340174377592\n",
      "[ Info: Arnoldi schursolve in iter 1, krylovdim = 21: 1 values converged, normres = (1.71e-22, 8.76e-08, 7.82e-08, 1.42e-08, 5.75e-09)\n",
      "[ Info: Arnoldi iteration step 22: normres = 0.021079621212676976\n",
      "[ Info: Arnoldi schursolve in iter 1, krylovdim = 22: 1 values converged, normres = (1.48e-24, 5.50e-11, 1.63e-09, 1.16e-10, 2.03e-10)\n",
      "[ Info: Arnoldi iteration step 23: normres = 0.6637346251672255\n",
      "[ Info: Arnoldi schursolve in iter 1, krylovdim = 23: 1 values converged, normres = (5.20e-25, 3.80e-11, 1.10e-09, 9.10e-11, 1.59e-10)\n",
      "[ Info: Arnoldi iteration step 24: normres = 0.023619845260093485\n",
      "[ Info: Arnoldi schursolve in iter 1, krylovdim = 24: 1 values converged, normres = (9.10e-27, 4.15e-12, 1.20e-10, 9.66e-03, 9.64e-03)\n",
      "[ Info: Arnoldi iteration step 25: normres = 0.09291005200302238\n",
      "[ Info: Arnoldi schursolve in iter 1, krylovdim = 25: 2 values converged, normres = (3.52e-28, 2.54e-13, 7.37e-12, 2.47e-09, 4.73e-09)\n",
      "[ Info: Arnoldi iteration step 26: normres = 0.030518385075696812\n",
      "[ Info: Arnoldi schursolve in iter 1, krylovdim = 26: 3 values converged, normres = (4.81e-30, 5.88e-15, 1.70e-13, 7.58e-06, 1.27e-05)\n",
      "[ Info: Arnoldi iteration step 27: normres = 0.02173747640693971\n",
      "[ Info: Arnoldi schursolve in iter 1, krylovdim = 27: 3 values converged, normres = (4.29e-32, 8.36e-17, 2.42e-15, 1.68e-09, 3.14e-09)\n",
      "[ Info: Arnoldi iteration step 28: normres = 0.11447005541728499\n",
      "[ Info: Arnoldi schursolve in iter 1, krylovdim = 28: 3 values converged, normres = (2.10e-33, 6.68e-18, 1.94e-16, 1.22e-09, 4.29e-08)\n",
      "[ Info: Arnoldi iteration step 29: normres = 0.16009755975492984\n",
      "[ Info: Arnoldi schursolve in iter 1, krylovdim = 29: 3 values converged, normres = (1.51e-34, 8.10e-19, 2.35e-17, 5.91e-10, 4.85e-09)\n",
      "[ Info: Arnoldi iteration step 30: normres = 0.0522610307753608\n",
      "[ Info: Arnoldi schursolve in iter 1, krylovdim = 30: 3 values converged, normres = (3.74e-36, 3.52e-20, 1.02e-18, 2.24e-11, 2.78e-10)\n",
      "[ Info: Arnoldi schursolve in iter 2, krylovdim = 19: 3 values converged, normres = (3.76e-36, 3.52e-20, 1.02e-18, 2.24e-11, 2.78e-10)\n",
      "[ Info: Arnoldi iteration step 20: normres = 0.09100493178049861\n",
      "[ Info: Arnoldi schursolve in iter 2, krylovdim = 20: 3 values converged, normres = (1.46e-37, 2.26e-21, 6.54e-20, 1.56e-12, 1.99e-11)\n",
      "[ Info: Arnoldi iteration step 21: normres = 0.022781512749283785\n",
      "┌ Info: Arnoldi eigsolve finished after 2 iterations:\n",
      "│ *  6 eigenvalues converged\n",
      "│ *  norm of residuals = (1.405730048388702e-39, 3.5240295987528175e-23, 1.0221074552250704e-21, 2.7017997431193538e-14, 3.363752407409756e-13, 1.5284733138186813e-13)\n",
      "└ *  number of operations = 32\n"
     ]
    }
   ],
   "cell_type": "code",
   "source": [
    "eigsolve(eps_fun, randn(size(scfres.ρ)), 5, :LM; eager=true, verbosity=3);"
   ],
   "metadata": {},
   "execution_count": 3
  }
 ],
 "nbformat_minor": 3,
 "metadata": {
  "language_info": {
   "file_extension": ".jl",
   "mimetype": "application/julia",
   "name": "julia",
   "version": "1.8.4"
  },
  "kernelspec": {
   "name": "julia-1.8",
   "display_name": "Julia 1.8.4",
   "language": "julia"
  }
 },
 "nbformat": 4
}
