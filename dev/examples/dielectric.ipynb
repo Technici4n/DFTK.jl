{
 "cells": [
  {
   "cell_type": "markdown",
   "source": [
    "# Eigenvalues of the dielectric matrix\n",
    "\n",
    "We compute a few eigenvalues of the dielectric matrix ($q=0$, $ω=0$) iteratively."
   ],
   "metadata": {}
  },
  {
   "outputs": [
    {
     "name": "stdout",
     "output_type": "stream",
     "text": [
      "n     Energy            log10(ΔE)   log10(Δρ)   Diag\n",
      "---   ---------------   ---------   ---------   ----\n",
      "  1   -7.235298541598                   -0.50    7.0\n",
      "  2   -7.250426228169       -1.82       -1.40    1.0\n",
      "  3   -7.251325573995       -3.05       -2.19    3.0\n",
      "  4   -7.251319800801   +   -5.24       -2.47    2.0\n",
      "  5   -7.251331206024       -4.94       -2.72    2.0\n",
      "  6   -7.251338184667       -5.16       -3.23    2.0\n",
      "  7   -7.251338790340       -6.22       -4.12    1.0\n",
      "  8   -7.251338796240       -8.23       -4.38    4.0\n",
      "  9   -7.251338798623       -8.62       -5.07    3.0\n",
      " 10   -7.251338798702      -10.10       -5.85    3.0\n",
      " 11   -7.251338798704      -11.89       -6.09    4.0\n",
      " 12   -7.251338798705      -12.05       -6.83    2.0\n",
      " 13   -7.251338798705      -13.57       -7.15    4.0\n",
      " 14   -7.251338798705      -14.75       -7.58    2.0\n"
     ]
    }
   ],
   "cell_type": "code",
   "source": [
    "using DFTK\n",
    "using Plots\n",
    "using KrylovKit\n",
    "using Printf\n",
    "\n",
    "# Calculation parameters\n",
    "kgrid = [1, 1, 1]\n",
    "Ecut = 5\n",
    "\n",
    "# Silicon lattice\n",
    "a = 10.26\n",
    "lattice = a / 2 .* [[0 1 1.]; [1 0 1.]; [1 1 0.]]\n",
    "Si = ElementPsp(:Si, psp=load_psp(\"hgh/lda/Si-q4\"))\n",
    "atoms     = [Si, Si]\n",
    "positions = [ones(3)/8, -ones(3)/8]\n",
    "\n",
    "# Compute the dielectric operator without symmetries\n",
    "model = model_LDA(lattice, atoms, positions, symmetries=false)\n",
    "basis = PlaneWaveBasis(model; Ecut, kgrid)\n",
    "scfres = self_consistent_field(basis, tol=1e-14);"
   ],
   "metadata": {},
   "execution_count": 1
  },
  {
   "cell_type": "markdown",
   "source": [
    "Applying $ε^† ≔ (1- χ_0 K)$ …"
   ],
   "metadata": {}
  },
  {
   "outputs": [],
   "cell_type": "code",
   "source": [
    "function eps_fun(δρ)\n",
    "    δV = apply_kernel(basis, δρ; ρ=scfres.ρ)\n",
    "    χ0δV = apply_χ0(scfres, δV)\n",
    "    δρ - χ0δV\n",
    "end;"
   ],
   "metadata": {},
   "execution_count": 2
  },
  {
   "cell_type": "markdown",
   "source": [
    "… eagerly diagonalizes the subspace matrix at each iteration"
   ],
   "metadata": {}
  },
  {
   "outputs": [
    {
     "name": "stdout",
     "output_type": "stream",
     "text": [
      "[ Info: Arnoldi iteration step 1: normres = 0.055339624058469414\n",
      "[ Info: Arnoldi iteration step 2: normres = 0.5060028727802615\n",
      "[ Info: Arnoldi iteration step 3: normres = 0.9170961668717856\n",
      "[ Info: Arnoldi iteration step 4: normres = 0.27247679521457113\n",
      "[ Info: Arnoldi iteration step 5: normres = 0.5869237108595587\n",
      "[ Info: Arnoldi schursolve in iter 1, krylovdim = 5: 0 values converged, normres = (3.90e-02, 8.75e-02, 5.43e-01, 2.01e-01, 1.11e-02)\n",
      "[ Info: Arnoldi iteration step 6: normres = 0.2251501640088946\n",
      "[ Info: Arnoldi schursolve in iter 1, krylovdim = 6: 0 values converged, normres = (7.02e-03, 1.20e-01, 1.29e-01, 1.13e-01, 1.71e-02)\n",
      "[ Info: Arnoldi iteration step 7: normres = 0.09202073499483321\n",
      "[ Info: Arnoldi schursolve in iter 1, krylovdim = 7: 0 values converged, normres = (3.09e-04, 9.79e-03, 1.02e-02, 5.76e-02, 6.82e-02)\n",
      "[ Info: Arnoldi iteration step 8: normres = 0.07615495993703225\n",
      "[ Info: Arnoldi schursolve in iter 1, krylovdim = 8: 0 values converged, normres = (1.00e-05, 5.17e-04, 5.92e-04, 1.27e-02, 2.62e-02)\n",
      "[ Info: Arnoldi iteration step 9: normres = 0.09339762829052095\n",
      "[ Info: Arnoldi schursolve in iter 1, krylovdim = 9: 0 values converged, normres = (4.03e-07, 3.43e-05, 4.36e-05, 3.85e-03, 2.26e-02)\n",
      "[ Info: Arnoldi iteration step 10: normres = 0.09308946269747191\n",
      "[ Info: Arnoldi schursolve in iter 1, krylovdim = 10: 0 values converged, normres = (1.65e-08, 2.33e-06, 3.29e-06, 1.32e-03, 3.34e-02)\n",
      "[ Info: Arnoldi iteration step 11: normres = 0.07525448910332547\n",
      "[ Info: Arnoldi schursolve in iter 1, krylovdim = 11: 0 values converged, normres = (5.42e-10, 1.27e-07, 2.01e-07, 3.99e-04, 3.66e-02)\n",
      "[ Info: Arnoldi iteration step 12: normres = 0.0839173724249149\n",
      "[ Info: Arnoldi schursolve in iter 1, krylovdim = 12: 0 values converged, normres = (1.94e-11, 7.41e-09, 1.29e-08, 9.96e-05, 1.62e-02)\n",
      "[ Info: Arnoldi iteration step 13: normres = 0.12774930748295912\n",
      "[ Info: Arnoldi schursolve in iter 1, krylovdim = 13: 0 values converged, normres = (1.08e-12, 6.83e-10, 1.33e-09, 4.44e-05, 1.57e-02)\n",
      "[ Info: Arnoldi iteration step 14: normres = 0.4484796484303847\n",
      "[ Info: Arnoldi schursolve in iter 1, krylovdim = 14: 1 values converged, normres = (4.48e-13, 1.84e-09, 2.35e-08, 4.45e-01, 1.98e-03)\n",
      "[ Info: Arnoldi iteration step 15: normres = 0.15719177165162837\n",
      "[ Info: Arnoldi schursolve in iter 1, krylovdim = 15: 1 values converged, normres = (3.38e-14, 1.60e-09, 4.96e-02, 1.96e-04, 5.96e-06)\n",
      "[ Info: Arnoldi iteration step 16: normres = 0.254663495990027\n",
      "[ Info: Arnoldi schursolve in iter 1, krylovdim = 16: 1 values converged, normres = (8.00e-15, 1.09e-08, 7.37e-02, 1.51e-03, 2.42e-01)\n",
      "[ Info: Arnoldi iteration step 17: normres = 0.031059206089043532\n",
      "[ Info: Arnoldi schursolve in iter 1, krylovdim = 17: 1 values converged, normres = (1.08e-16, 4.30e-08, 2.00e-03, 7.80e-08, 5.45e-03)\n",
      "[ Info: Arnoldi iteration step 18: normres = 0.019170325632374724\n",
      "[ Info: Arnoldi schursolve in iter 1, krylovdim = 18: 1 values converged, normres = (8.55e-19, 6.42e-08, 2.54e-05, 2.60e-07, 7.60e-05)\n",
      "[ Info: Arnoldi iteration step 19: normres = 0.10226583549258815\n",
      "[ Info: Arnoldi schursolve in iter 1, krylovdim = 19: 1 values converged, normres = (3.64e-20, 1.64e-06, 5.62e-07, 4.95e-07, 5.70e-06)\n",
      "[ Info: Arnoldi iteration step 20: normres = 0.12780846790612682\n",
      "[ Info: Arnoldi schursolve in iter 1, krylovdim = 20: 1 values converged, normres = (2.25e-21, 3.52e-08, 1.88e-07, 3.20e-08, 7.15e-07)\n",
      "[ Info: Arnoldi iteration step 21: normres = 0.024982437549982955\n",
      "[ Info: Arnoldi schursolve in iter 1, krylovdim = 21: 1 values converged, normres = (2.40e-23, 1.35e-09, 3.06e-09, 7.94e-09, 1.14e-08)\n",
      "[ Info: Arnoldi iteration step 22: normres = 0.017495089547013384\n",
      "[ Info: Arnoldi schursolve in iter 1, krylovdim = 22: 1 values converged, normres = (1.72e-25, 1.55e-11, 3.50e-11, 1.62e-10, 6.74e-11)\n",
      "[ Info: Arnoldi iteration step 23: normres = 0.6123718082314682\n",
      "[ Info: Arnoldi schursolve in iter 1, krylovdim = 23: 1 values converged, normres = (5.24e-26, 8.59e-12, 1.94e-11, 1.01e-10, 4.65e-11)\n",
      "[ Info: Arnoldi iteration step 24: normres = 0.02779658518311014\n",
      "[ Info: Arnoldi schursolve in iter 1, krylovdim = 24: 1 values converged, normres = (1.15e-27, 1.25e-12, 2.81e-12, 1.67e-02, 8.58e-03)\n",
      "[ Info: Arnoldi iteration step 25: normres = 0.08177460361863546\n",
      "[ Info: Arnoldi schursolve in iter 1, krylovdim = 25: 3 values converged, normres = (3.89e-29, 6.69e-14, 1.51e-13, 2.54e-09, 9.88e-10)\n",
      "[ Info: Arnoldi iteration step 26: normres = 0.045452037127817695\n",
      "[ Info: Arnoldi schursolve in iter 1, krylovdim = 26: 3 values converged, normres = (7.94e-31, 2.31e-15, 5.20e-15, 3.09e-05, 1.53e-05)\n",
      "[ Info: Arnoldi iteration step 27: normres = 0.015836901406468224\n",
      "[ Info: Arnoldi schursolve in iter 1, krylovdim = 27: 3 values converged, normres = (5.16e-33, 2.39e-17, 5.39e-17, 2.70e-07, 3.44e-07)\n",
      "[ Info: Arnoldi iteration step 28: normres = 0.09429273588846525\n",
      "[ Info: Arnoldi schursolve in iter 1, krylovdim = 28: 3 values converged, normres = (2.04e-34, 1.52e-18, 3.43e-18, 5.74e-09, 3.12e-10)\n",
      "[ Info: Arnoldi iteration step 29: normres = 0.10215643390937013\n",
      "[ Info: Arnoldi schursolve in iter 1, krylovdim = 29: 3 values converged, normres = (9.29e-36, 1.17e-19, 2.63e-19, 3.06e-10, 6.36e-10)\n",
      "[ Info: Arnoldi iteration step 30: normres = 0.08496148282248427\n",
      "[ Info: Arnoldi schursolve in iter 1, krylovdim = 30: 3 values converged, normres = (3.89e-37, 8.69e-21, 1.96e-20, 2.73e-11, 6.28e-11)\n",
      "[ Info: Arnoldi schursolve in iter 2, krylovdim = 19: 3 values converged, normres = (3.91e-37, 8.69e-21, 1.96e-20, 2.73e-11, 6.28e-11)\n",
      "[ Info: Arnoldi iteration step 20: normres = 0.046520242379967325\n",
      "[ Info: Arnoldi schursolve in iter 2, krylovdim = 20: 4 values converged, normres = (7.51e-39, 2.70e-22, 6.07e-22, 9.35e-13, 2.08e-12)\n",
      "[ Info: Arnoldi iteration step 21: normres = 0.06787642910008052\n",
      "┌ Info: Arnoldi eigsolve finished after 2 iterations:\n",
      "│ *  6 eigenvalues converged\n",
      "│ *  norm of residuals = (2.188029301990712e-40, 1.2850839348470455e-23, 2.3542844881481048e-23, 4.944041601783271e-14, 1.2000076727884195e-13, 5.238564316314129e-13)\n",
      "└ *  number of operations = 32\n"
     ]
    }
   ],
   "cell_type": "code",
   "source": [
    "eigsolve(eps_fun, randn(size(scfres.ρ)), 5, :LM; eager=true, verbosity=3);"
   ],
   "metadata": {},
   "execution_count": 3
  }
 ],
 "nbformat_minor": 3,
 "metadata": {
  "language_info": {
   "file_extension": ".jl",
   "mimetype": "application/julia",
   "name": "julia",
   "version": "1.8.2"
  },
  "kernelspec": {
   "name": "julia-1.8",
   "display_name": "Julia 1.8.2",
   "language": "julia"
  }
 },
 "nbformat": 4
}
