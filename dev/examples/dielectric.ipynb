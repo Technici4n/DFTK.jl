{
 "cells": [
  {
   "cell_type": "markdown",
   "source": [
    "# Eigenvalues of the dielectric matrix\n",
    "\n",
    "We compute a few eigenvalues of the dielectric matrix ($q=0$, $ω=0$) iteratively."
   ],
   "metadata": {}
  },
  {
   "outputs": [
    {
     "name": "stdout",
     "output_type": "stream",
     "text": [
      "n     Energy            log10(ΔE)   log10(Δρ)   Diag\n",
      "---   ---------------   ---------   ---------   ----\n",
      "  1   -7.233874724435                   -0.50    8.0\n",
      "  2   -7.250100745686       -1.79       -1.40    1.0\n",
      "  3   -7.251281408853       -2.93       -2.05    4.0\n",
      "  4   -7.251241616529   +   -4.40       -2.13    4.0\n",
      "  5   -7.251321483216       -4.10       -2.55    4.0\n",
      "  6   -7.251336792303       -4.82       -2.97    3.0\n",
      "  7   -7.251338786913       -5.70       -4.08    2.0\n",
      "  8   -7.251338793312       -8.19       -4.20    4.0\n",
      "  9   -7.251338798544       -8.28       -4.95    3.0\n",
      " 10   -7.251338798692       -9.83       -5.50    3.0\n",
      " 11   -7.251338798702      -10.99       -5.92    3.0\n",
      " 12   -7.251338798704      -11.68       -6.69    2.0\n",
      " 13   -7.251338798705      -13.28       -7.02    3.0\n",
      " 14   -7.251338798705      -14.10       -7.50    3.0\n"
     ]
    }
   ],
   "cell_type": "code",
   "source": [
    "using DFTK\n",
    "using Plots\n",
    "using KrylovKit\n",
    "using Printf\n",
    "\n",
    "# Calculation parameters\n",
    "kgrid = [1, 1, 1]\n",
    "Ecut = 5\n",
    "\n",
    "# Silicon lattice\n",
    "a = 10.26\n",
    "lattice = a / 2 .* [[0 1 1.]; [1 0 1.]; [1 1 0.]]\n",
    "Si = ElementPsp(:Si, psp=load_psp(\"hgh/lda/Si-q4\"))\n",
    "atoms     = [Si, Si]\n",
    "positions = [ones(3)/8, -ones(3)/8]\n",
    "\n",
    "# Compute the dielectric operator without symmetries\n",
    "model = model_LDA(lattice, atoms, positions, symmetries=false)\n",
    "basis = PlaneWaveBasis(model; Ecut, kgrid)\n",
    "scfres = self_consistent_field(basis, tol=1e-14);"
   ],
   "metadata": {},
   "execution_count": 1
  },
  {
   "cell_type": "markdown",
   "source": [
    "Applying $ε^† ≔ (1- χ_0 K)$ …"
   ],
   "metadata": {}
  },
  {
   "outputs": [],
   "cell_type": "code",
   "source": [
    "function eps_fun(δρ)\n",
    "    δV = apply_kernel(basis, δρ; ρ=scfres.ρ)\n",
    "    χ0δV = apply_χ0(scfres, δV)\n",
    "    δρ - χ0δV\n",
    "end;"
   ],
   "metadata": {},
   "execution_count": 2
  },
  {
   "cell_type": "markdown",
   "source": [
    "… eagerly diagonalizes the subspace matrix at each iteration"
   ],
   "metadata": {}
  },
  {
   "outputs": [
    {
     "name": "stdout",
     "output_type": "stream",
     "text": [
      "[ Info: Arnoldi iteration step 1: normres = 0.06045829005729997\n",
      "[ Info: Arnoldi iteration step 2: normres = 0.4078910249465892\n",
      "[ Info: Arnoldi iteration step 3: normres = 0.9671235725647409\n",
      "[ Info: Arnoldi iteration step 4: normres = 0.274673492792878\n",
      "[ Info: Arnoldi iteration step 5: normres = 0.5729516695739214\n",
      "[ Info: Arnoldi schursolve in iter 1, krylovdim = 5: 0 values converged, normres = (4.26e-02, 6.83e-02, 5.24e-01, 2.15e-01, 3.18e-02)\n",
      "[ Info: Arnoldi iteration step 6: normres = 0.2276614873316351\n",
      "[ Info: Arnoldi schursolve in iter 1, krylovdim = 6: 0 values converged, normres = (8.33e-03, 1.63e-01, 9.05e-02, 1.14e-01, 1.90e-02)\n",
      "[ Info: Arnoldi iteration step 7: normres = 0.09412003258559244\n",
      "[ Info: Arnoldi schursolve in iter 1, krylovdim = 7: 0 values converged, normres = (3.68e-04, 1.25e-02, 6.71e-03, 4.83e-02, 7.68e-02)\n",
      "[ Info: Arnoldi iteration step 8: normres = 0.08253223198409046\n",
      "[ Info: Arnoldi schursolve in iter 1, krylovdim = 8: 0 values converged, normres = (1.31e-05, 7.34e-04, 4.38e-04, 1.29e-02, 3.99e-02)\n",
      "[ Info: Arnoldi iteration step 9: normres = 0.09213097344288391\n",
      "[ Info: Arnoldi schursolve in iter 1, krylovdim = 9: 0 values converged, normres = (5.24e-07, 4.85e-05, 3.21e-05, 4.12e-03, 3.63e-02)\n",
      "[ Info: Arnoldi iteration step 10: normres = 0.10610194496202481\n",
      "[ Info: Arnoldi schursolve in iter 1, krylovdim = 10: 0 values converged, normres = (2.42e-08, 3.69e-06, 2.72e-06, 1.56e-03, 3.84e-02)\n",
      "[ Info: Arnoldi iteration step 11: normres = 0.07417770272168937\n",
      "[ Info: Arnoldi schursolve in iter 1, krylovdim = 11: 0 values converged, normres = (7.89e-10, 2.01e-07, 1.65e-07, 4.68e-04, 3.14e-02)\n",
      "[ Info: Arnoldi iteration step 12: normres = 0.08395778056688197\n",
      "[ Info: Arnoldi schursolve in iter 1, krylovdim = 12: 0 values converged, normres = (2.80e-11, 1.15e-08, 1.05e-08, 1.08e-04, 1.32e-02)\n",
      "[ Info: Arnoldi iteration step 13: normres = 0.11588212894574786\n",
      "[ Info: Arnoldi schursolve in iter 1, krylovdim = 13: 0 values converged, normres = (1.41e-12, 9.64e-10, 9.73e-10, 4.39e-05, 1.19e-02)\n",
      "[ Info: Arnoldi iteration step 14: normres = 0.3861312773739256\n",
      "[ Info: Arnoldi schursolve in iter 1, krylovdim = 14: 1 values converged, normres = (4.95e-13, 1.96e-09, 7.68e-09, 3.83e-01, 1.17e-03)\n",
      "[ Info: Arnoldi iteration step 15: normres = 0.24729060885623644\n",
      "[ Info: Arnoldi schursolve in iter 1, krylovdim = 15: 1 values converged, normres = (5.72e-14, 8.22e-10, 7.04e-02, 4.70e-04, 4.39e-06)\n",
      "[ Info: Arnoldi iteration step 16: normres = 0.15252044246748736\n",
      "[ Info: Arnoldi schursolve in iter 1, krylovdim = 16: 1 values converged, normres = (8.78e-15, 1.41e-08, 1.06e-01, 2.95e-03, 1.06e-01)\n",
      "[ Info: Arnoldi iteration step 17: normres = 0.03374138347676071\n",
      "[ Info: Arnoldi schursolve in iter 1, krylovdim = 17: 1 values converged, normres = (1.24e-16, 1.94e-08, 2.46e-03, 1.89e-06, 2.51e-03)\n",
      "[ Info: Arnoldi iteration step 18: normres = 0.023369826817286245\n",
      "[ Info: Arnoldi schursolve in iter 1, krylovdim = 18: 1 values converged, normres = (1.20e-18, 3.75e-08, 3.81e-05, 2.38e-08, 4.28e-05)\n",
      "[ Info: Arnoldi iteration step 19: normres = 0.17167846059861844\n",
      "[ Info: Arnoldi schursolve in iter 1, krylovdim = 19: 1 values converged, normres = (8.83e-20, 3.61e-06, 2.84e-06, 5.63e-06, 1.01e-06)\n",
      "[ Info: Arnoldi iteration step 20: normres = 0.07584914125501825\n",
      "[ Info: Arnoldi schursolve in iter 1, krylovdim = 20: 1 values converged, normres = (3.21e-21, 1.87e-08, 2.96e-07, 2.06e-08, 4.20e-07)\n",
      "[ Info: Arnoldi iteration step 21: normres = 0.0212484818886962\n",
      "[ Info: Arnoldi schursolve in iter 1, krylovdim = 21: 1 values converged, normres = (2.85e-23, 2.87e-09, 3.14e-09, 3.75e-09, 5.49e-09)\n",
      "[ Info: Arnoldi iteration step 22: normres = 0.05252484356891784\n",
      "[ Info: Arnoldi schursolve in iter 1, krylovdim = 22: 1 values converged, normres = (6.14e-25, 1.03e-10, 1.03e-10, 1.65e-10, 1.89e-10)\n",
      "[ Info: Arnoldi iteration step 23: normres = 0.35509792677254165\n",
      "[ Info: Arnoldi schursolve in iter 1, krylovdim = 23: 1 values converged, normres = (1.88e-25, 1.44e-10, 1.45e-10, 5.09e-10, 5.91e-10)\n",
      "[ Info: Arnoldi iteration step 24: normres = 0.013831693423251796\n",
      "[ Info: Arnoldi schursolve in iter 1, krylovdim = 24: 1 values converged, normres = (1.18e-27, 2.36e-12, 2.35e-12, 3.40e-09, 4.57e-09)\n",
      "[ Info: Arnoldi iteration step 25: normres = 0.07934858408160753\n",
      "[ Info: Arnoldi schursolve in iter 1, krylovdim = 25: 3 values converged, normres = (3.88e-29, 1.25e-13, 1.24e-13, 1.48e-05, 1.50e-05)\n",
      "[ Info: Arnoldi iteration step 26: normres = 0.04298070774150966\n",
      "[ Info: Arnoldi schursolve in iter 1, krylovdim = 26: 3 values converged, normres = (7.50e-31, 4.07e-15, 4.06e-15, 5.63e-06, 5.35e-06)\n",
      "[ Info: Arnoldi iteration step 27: normres = 0.019942739336463407\n",
      "[ Info: Arnoldi schursolve in iter 1, krylovdim = 27: 3 values converged, normres = (6.14e-33, 5.31e-17, 5.30e-17, 3.56e-09, 4.67e-09)\n",
      "[ Info: Arnoldi iteration step 28: normres = 0.10752054618009012\n",
      "[ Info: Arnoldi schursolve in iter 1, krylovdim = 28: 3 values converged, normres = (2.80e-34, 3.94e-18, 3.92e-18, 3.34e-09, 4.70e-09)\n",
      "[ Info: Arnoldi iteration step 29: normres = 0.1207874883609506\n",
      "[ Info: Arnoldi schursolve in iter 1, krylovdim = 29: 3 values converged, normres = (1.49e-35, 3.51e-19, 3.50e-19, 1.27e-10, 6.89e-10)\n",
      "[ Info: Arnoldi iteration step 30: normres = 0.059606709194494685\n",
      "[ Info: Arnoldi schursolve in iter 1, krylovdim = 30: 3 values converged, normres = (4.36e-37, 1.83e-20, 1.83e-20, 7.73e-12, 3.97e-11)\n",
      "[ Info: Arnoldi schursolve in iter 2, krylovdim = 19: 3 values converged, normres = (4.55e-37, 1.83e-20, 1.83e-20, 7.73e-12, 3.97e-11)\n",
      "[ Info: Arnoldi iteration step 20: normres = 0.045178210838880226\n",
      "[ Info: Arnoldi schursolve in iter 2, krylovdim = 20: 4 values converged, normres = (8.15e-39, 5.49e-22, 5.47e-22, 2.55e-13, 1.31e-12)\n",
      "[ Info: Arnoldi iteration step 21: normres = 0.059111722825394696\n",
      "┌ Info: Arnoldi eigsolve finished after 2 iterations:\n",
      "│ *  6 eigenvalues converged\n",
      "│ *  norm of residuals = (2.07198317910089e-40, 2.2888733156854376e-23, 2.558252823617309e-23, 1.1788741784103032e-14, 6.145726611237501e-14, 5.1388009535685004e-14)\n",
      "└ *  number of operations = 32\n"
     ]
    }
   ],
   "cell_type": "code",
   "source": [
    "eigsolve(eps_fun, randn(size(scfres.ρ)), 5, :LM; eager=true, verbosity=3);"
   ],
   "metadata": {},
   "execution_count": 3
  }
 ],
 "nbformat_minor": 3,
 "metadata": {
  "language_info": {
   "file_extension": ".jl",
   "mimetype": "application/julia",
   "name": "julia",
   "version": "1.8.2"
  },
  "kernelspec": {
   "name": "julia-1.8",
   "display_name": "Julia 1.8.2",
   "language": "julia"
  }
 },
 "nbformat": 4
}
