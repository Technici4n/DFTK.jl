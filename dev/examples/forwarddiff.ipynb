{
 "cells": [
  {
   "cell_type": "markdown",
   "source": [
    "# Polarizability using automatic differentiation\n",
    "\n",
    "Simple example for computing properties using (forward-mode)\n",
    "automatic differentiation.\n",
    "For a more classical approach and more details about computing polarizabilities,\n",
    "see Polarizability by linear response."
   ],
   "metadata": {}
  },
  {
   "outputs": [],
   "cell_type": "code",
   "source": [
    "using DFTK\n",
    "using LinearAlgebra\n",
    "using ForwardDiff\n",
    "\n",
    "# Construct PlaneWaveBasis given a particular electric field strength\n",
    "# Again we take the example of a Helium atom.\n",
    "function make_basis(ε::T; a=10., Ecut=30) where {T}\n",
    "    lattice=T(a) * I(3)  # lattice is a cube of $a$ Bohrs\n",
    "    # Helium at the center of the box\n",
    "    atoms     = [ElementPsp(:He, psp=load_psp(\"hgh/lda/He-q2\"))]\n",
    "    positions = [[1/2, 1/2, 1/2]]\n",
    "\n",
    "    model = model_DFT(lattice, atoms, positions, [:lda_x, :lda_c_vwn];\n",
    "                      extra_terms=[ExternalFromReal(r -> -ε * (r[1] - a/2))],\n",
    "                      symmetries=false)\n",
    "    PlaneWaveBasis(model; Ecut, kgrid=[1, 1, 1])  # No k-point sampling on isolated system\n",
    "end\n",
    "\n",
    "# dipole moment of a given density (assuming the current geometry)\n",
    "function dipole(basis, ρ)\n",
    "    @assert isdiag(basis.model.lattice)\n",
    "    a  = basis.model.lattice[1, 1]\n",
    "    rr = [a * (r[1] - 1/2) for r in r_vectors(basis)]\n",
    "    sum(rr .* ρ) * basis.dvol\n",
    "end\n",
    "\n",
    "# Function to compute the dipole for a given field strength\n",
    "function compute_dipole(ε; tol=1e-8, kwargs...)\n",
    "    scfres = self_consistent_field(make_basis(ε; kwargs...); tol)\n",
    "    dipole(scfres.basis, scfres.ρ)\n",
    "end;"
   ],
   "metadata": {},
   "execution_count": 1
  },
  {
   "cell_type": "markdown",
   "source": [
    "With this in place we can compute the polarizability from finite differences\n",
    "(just like in the previous example):"
   ],
   "metadata": {}
  },
  {
   "outputs": [
    {
     "name": "stdout",
     "output_type": "stream",
     "text": [
      "n     Energy            log10(ΔE)   log10(Δρ)   Diag   Δtime\n",
      "---   ---------------   ---------   ---------   ----   ------\n",
      "  1   -2.770875123350                   -0.52    9.0         \n",
      "  2   -2.772147049193       -2.90       -1.32    1.0    140ms\n",
      "  3   -2.772170373174       -4.63       -2.46    1.0    164ms\n",
      "  4   -2.772170649964       -6.56       -3.17    1.0    144ms\n",
      "  5   -2.772170721728       -7.14       -3.94    2.0    187ms\n",
      "  6   -2.772170722694       -9.02       -4.33    1.0    149ms\n",
      "  7   -2.772170723010       -9.50       -5.22    1.0    163ms\n",
      "  8   -2.772170723014      -11.43       -5.63    1.0    156ms\n",
      "  9   -2.772170723015      -12.07       -7.14    2.0    188ms\n",
      " 10   -2.772170723015      -14.12       -6.92    2.0    204ms\n",
      " 11   -2.772170723015      -14.45       -7.37    1.0    158ms\n",
      " 12   -2.772170723015   +  -14.07       -8.19    1.0    178ms\n",
      "n     Energy            log10(ΔE)   log10(Δρ)   Diag   Δtime\n",
      "---   ---------------   ---------   ---------   ----   ------\n",
      "  1   -2.770542182905                   -0.53    9.0         \n",
      "  2   -2.772050962305       -2.82       -1.29    1.0    141ms\n",
      "  3   -2.772082979750       -4.49       -2.71    1.0    143ms\n",
      "  4   -2.772083398154       -6.38       -4.05    1.0    166ms\n",
      "  5   -2.772083417789       -7.71       -5.19    2.0    166ms\n",
      "  6   -2.772083417810      -10.68       -5.86    2.0    183ms\n",
      "  7   -2.772083417811      -12.37       -6.50    1.0    149ms\n",
      "  8   -2.772083417811   +  -14.57       -7.33    1.0    166ms\n",
      "  9   -2.772083417811      -13.88       -8.02    2.0    183ms\n"
     ]
    },
    {
     "output_type": "execute_result",
     "data": {
      "text/plain": "1.7735578059919654"
     },
     "metadata": {},
     "execution_count": 2
    }
   ],
   "cell_type": "code",
   "source": [
    "polarizability_fd = let\n",
    "    ε = 0.01\n",
    "    (compute_dipole(ε) - compute_dipole(0.0)) / ε\n",
    "end"
   ],
   "metadata": {},
   "execution_count": 2
  },
  {
   "cell_type": "markdown",
   "source": [
    "We do the same thing using automatic differentiation. Under the hood this uses\n",
    "custom rules to implicitly differentiate through the self-consistent\n",
    "field fixed-point problem."
   ],
   "metadata": {}
  },
  {
   "outputs": [
    {
     "name": "stdout",
     "output_type": "stream",
     "text": [
      "n     Energy            log10(ΔE)   log10(Δρ)   Diag   Δtime\n",
      "---   ---------------   ---------   ---------   ----   ------\n",
      "  1   -2.770681656951                   -0.53    8.0         \n",
      "  2   -2.772049943664       -2.86       -1.31    1.0    140ms\n",
      "  3   -2.772082631106       -4.49       -2.58    1.0    156ms\n",
      "  4   -2.772083410518       -6.11       -3.74    2.0    215ms\n",
      "  5   -2.772083416918       -8.19       -4.05    2.0    166ms\n",
      "  6   -2.772083417788       -9.06       -5.14    1.0    178ms\n",
      "  7   -2.772083417810      -10.65       -5.88    2.0    170ms\n",
      "  8   -2.772083417811      -12.78       -6.52    1.0    154ms\n",
      "  9   -2.772083417811      -13.48       -7.22    2.0    199ms\n",
      " 10   -2.772083417811      -14.45       -7.95    1.0    165ms\n",
      " 11   -2.772083417811   +  -14.45       -8.74    2.0    192ms\n",
      "\n",
      "Polarizability via ForwardDiff:       1.772534971436127\n",
      "Polarizability via finite difference: 1.7735578059919654\n"
     ]
    }
   ],
   "cell_type": "code",
   "source": [
    "polarizability = ForwardDiff.derivative(compute_dipole, 0.0)\n",
    "println()\n",
    "println(\"Polarizability via ForwardDiff:       $polarizability\")\n",
    "println(\"Polarizability via finite difference: $polarizability_fd\")"
   ],
   "metadata": {},
   "execution_count": 3
  }
 ],
 "nbformat_minor": 3,
 "metadata": {
  "language_info": {
   "file_extension": ".jl",
   "mimetype": "application/julia",
   "name": "julia",
   "version": "1.8.5"
  },
  "kernelspec": {
   "name": "julia-1.8",
   "display_name": "Julia 1.8.5",
   "language": "julia"
  }
 },
 "nbformat": 4
}
