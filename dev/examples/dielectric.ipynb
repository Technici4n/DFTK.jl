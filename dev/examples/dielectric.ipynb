{
 "cells": [
  {
   "cell_type": "markdown",
   "source": [
    "# Eigenvalues of the dielectric matrix\n",
    "\n",
    "We compute a few eigenvalues of the dielectric matrix ($q=0$, $ω=0$) iteratively."
   ],
   "metadata": {}
  },
  {
   "outputs": [
    {
     "name": "stdout",
     "output_type": "stream",
     "text": [
      "n     Energy            log10(ΔE)   log10(Δρ)   Diag   Δtime\n",
      "---   ---------------   ---------   ---------   ----   ------\n",
      "  1   -7.234803432364                   -0.50    8.0         \n",
      "  2   -7.250267340547       -1.81       -1.40    1.0   9.04ms\n",
      "  3   -7.251165033515       -3.05       -2.15    1.0   9.12ms\n",
      "  4   -7.251254673013       -4.05       -2.16    2.0   11.8ms\n",
      "  5   -7.251328383382       -4.13       -2.60    1.0   9.48ms\n",
      "  6   -7.251338332297       -5.00       -3.22    1.0   9.32ms\n",
      "  7   -7.251338745063       -6.38       -3.71    1.0   68.6ms\n",
      "  8   -7.251338783533       -7.41       -3.96    2.0   11.4ms\n",
      "  9   -7.251338797311       -7.86       -4.53    1.0   10.0ms\n",
      " 10   -7.251338798599       -8.89       -5.09    2.0   11.3ms\n",
      " 11   -7.251338798686      -10.06       -5.48    2.0   11.5ms\n",
      " 12   -7.251338798703      -10.78       -6.00    2.0   11.5ms\n",
      " 13   -7.251338798704      -11.84       -6.55    2.0   11.9ms\n",
      " 14   -7.251338798705      -13.33       -6.97    1.0   10.0ms\n",
      " 15   -7.251338798705      -13.80       -7.39    2.0   11.8ms\n",
      " 16   -7.251338798705      -14.75       -7.85    1.0   9.87ms\n",
      " 17   -7.251338798705   +    -Inf       -8.31    2.0   11.7ms\n"
     ]
    }
   ],
   "cell_type": "code",
   "source": [
    "using DFTK\n",
    "using Plots\n",
    "using KrylovKit\n",
    "using Printf\n",
    "\n",
    "# Calculation parameters\n",
    "kgrid = [1, 1, 1]\n",
    "Ecut = 5\n",
    "\n",
    "# Silicon lattice\n",
    "a = 10.26\n",
    "lattice = a / 2 .* [[0 1 1.]; [1 0 1.]; [1 1 0.]]\n",
    "Si = ElementPsp(:Si, psp=load_psp(\"hgh/lda/Si-q4\"))\n",
    "atoms     = [Si, Si]\n",
    "positions = [ones(3)/8, -ones(3)/8]\n",
    "\n",
    "# Compute the dielectric operator without symmetries\n",
    "model  = model_LDA(lattice, atoms, positions, symmetries=false)\n",
    "basis  = PlaneWaveBasis(model; Ecut, kgrid)\n",
    "scfres = self_consistent_field(basis, tol=1e-8);"
   ],
   "metadata": {},
   "execution_count": 1
  },
  {
   "cell_type": "markdown",
   "source": [
    "Applying $ε^† ≔ (1- χ_0 K)$ …"
   ],
   "metadata": {}
  },
  {
   "outputs": [],
   "cell_type": "code",
   "source": [
    "function eps_fun(δρ)\n",
    "    δV = apply_kernel(basis, δρ; ρ=scfres.ρ)\n",
    "    χ0δV = apply_χ0(scfres, δV)\n",
    "    δρ - χ0δV\n",
    "end;"
   ],
   "metadata": {},
   "execution_count": 2
  },
  {
   "cell_type": "markdown",
   "source": [
    "… eagerly diagonalizes the subspace matrix at each iteration"
   ],
   "metadata": {}
  },
  {
   "outputs": [
    {
     "name": "stdout",
     "output_type": "stream",
     "text": [
      "[ Info: Arnoldi iteration step 1: normres = 0.037511481488360365\n",
      "[ Info: Arnoldi iteration step 2: normres = 0.7895533966696276\n",
      "[ Info: Arnoldi iteration step 3: normres = 0.6386859738692842\n",
      "[ Info: Arnoldi iteration step 4: normres = 0.31733755409981645\n",
      "[ Info: Arnoldi iteration step 5: normres = 0.1691806296998378\n",
      "[ Info: Arnoldi schursolve in iter 1, krylovdim = 5: 0 values converged, normres = (6.82e-03, 3.76e-02, 1.16e-01, 1.10e-01, 3.93e-02)\n",
      "[ Info: Arnoldi iteration step 6: normres = 0.6498646394636235\n",
      "[ Info: Arnoldi schursolve in iter 1, krylovdim = 6: 0 values converged, normres = (2.59e-03, 3.71e-02, 5.97e-01, 1.96e-01, 5.22e-02)\n",
      "[ Info: Arnoldi iteration step 7: normres = 0.13956743083308493\n",
      "[ Info: Arnoldi schursolve in iter 1, krylovdim = 7: 0 values converged, normres = (3.02e-04, 1.06e-01, 2.39e-02, 4.23e-02, 7.19e-02)\n",
      "[ Info: Arnoldi iteration step 8: normres = 0.11340817140921357\n",
      "[ Info: Arnoldi schursolve in iter 1, krylovdim = 8: 0 values converged, normres = (1.52e-05, 8.91e-03, 1.93e-03, 1.81e-02, 6.30e-02)\n",
      "[ Info: Arnoldi iteration step 9: normres = 0.07764454903063628\n",
      "[ Info: Arnoldi schursolve in iter 1, krylovdim = 9: 0 values converged, normres = (5.06e-07, 4.86e-04, 1.18e-04, 4.63e-03, 3.14e-02)\n",
      "[ Info: Arnoldi iteration step 10: normres = 0.08870286633904359\n",
      "[ Info: Arnoldi schursolve in iter 1, krylovdim = 10: 0 values converged, normres = (1.98e-08, 3.18e-05, 8.62e-06, 1.65e-03, 2.82e-02)\n",
      "[ Info: Arnoldi iteration step 11: normres = 0.0678966425824726\n",
      "[ Info: Arnoldi schursolve in iter 1, krylovdim = 11: 0 values converged, normres = (5.74e-10, 1.50e-06, 4.51e-07, 3.39e-04, 1.20e-02)\n",
      "[ Info: Arnoldi iteration step 12: normres = 0.08761904808013446\n",
      "[ Info: Arnoldi schursolve in iter 1, krylovdim = 12: 0 values converged, normres = (2.15e-11, 9.24e-08, 3.07e-08, 9.13e-05, 6.32e-03)\n",
      "[ Info: Arnoldi iteration step 13: normres = 0.04187972129622111\n",
      "[ Info: Arnoldi schursolve in iter 1, krylovdim = 13: 1 values converged, normres = (3.87e-13, 2.72e-09, 1.00e-09, 1.20e-05, 1.75e-03)\n",
      "[ Info: Arnoldi iteration step 14: normres = 0.7115680535781634\n",
      "[ Info: Arnoldi schursolve in iter 1, krylovdim = 14: 1 values converged, normres = (1.50e-13, 2.10e-09, 9.12e-10, 6.98e-01, 6.62e-02)\n",
      "[ Info: Arnoldi iteration step 15: normres = 0.03241167712039088\n",
      "[ Info: Arnoldi schursolve in iter 1, krylovdim = 15: 1 values converged, normres = (3.50e-15, 2.94e-10, 2.21e-02, 1.08e-02, 7.86e-06)\n",
      "[ Info: Arnoldi iteration step 16: normres = 0.6947053563336383\n",
      "[ Info: Arnoldi schursolve in iter 1, krylovdim = 16: 1 values converged, normres = (1.23e-15, 1.92e-10, 1.82e-02, 1.31e-03, 3.94e-01)\n",
      "[ Info: Arnoldi iteration step 17: normres = 0.056819242200950824\n",
      "[ Info: Arnoldi schursolve in iter 1, krylovdim = 17: 1 values converged, normres = (6.28e-17, 3.31e-09, 4.78e-02, 4.65e-03, 8.20e-04)\n",
      "[ Info: Arnoldi iteration step 18: normres = 0.020295593288735796\n",
      "[ Info: Arnoldi schursolve in iter 1, krylovdim = 18: 1 values converged, normres = (5.29e-19, 1.15e-04, 6.33e-04, 4.44e-08, 7.55e-05)\n",
      "[ Info: Arnoldi iteration step 19: normres = 0.20017577627909688\n",
      "[ Info: Arnoldi schursolve in iter 1, krylovdim = 19: 1 values converged, normres = (4.55e-20, 7.35e-08, 9.07e-05, 1.09e-05, 4.38e-06)\n",
      "[ Info: Arnoldi iteration step 20: normres = 0.04705124096486166\n",
      "[ Info: Arnoldi schursolve in iter 1, krylovdim = 20: 1 values converged, normres = (1.02e-21, 7.42e-09, 3.61e-06, 5.33e-07, 1.11e-08)\n",
      "[ Info: Arnoldi iteration step 21: normres = 0.03249577161579081\n",
      "[ Info: Arnoldi schursolve in iter 1, krylovdim = 21: 1 values converged, normres = (1.38e-23, 7.75e-08, 9.00e-09, 4.19e-09, 1.20e-08)\n",
      "[ Info: Arnoldi iteration step 22: normres = 0.03189879758910959\n",
      "[ Info: Arnoldi schursolve in iter 1, krylovdim = 22: 1 values converged, normres = (1.82e-25, 1.63e-09, 2.90e-10, 1.26e-10, 2.69e-10)\n",
      "[ Info: Arnoldi iteration step 23: normres = 0.6851214259031613\n",
      "[ Info: Arnoldi schursolve in iter 1, krylovdim = 23: 1 values converged, normres = (7.76e-26, 1.10e-09, 1.19e-09, 1.53e-10, 3.30e-10)\n",
      "[ Info: Arnoldi iteration step 24: normres = 0.019875889484982437\n",
      "[ Info: Arnoldi schursolve in iter 1, krylovdim = 24: 1 values converged, normres = (9.71e-28, 9.86e-11, 3.81e-11, 7.62e-03, 9.58e-03)\n",
      "[ Info: Arnoldi iteration step 25: normres = 0.04073742429599865\n",
      "[ Info: Arnoldi schursolve in iter 1, krylovdim = 25: 1 values converged, normres = (1.62e-29, 2.58e-12, 1.10e-12, 4.63e-09, 1.15e-08)\n",
      "[ Info: Arnoldi iteration step 26: normres = 0.0816346826899063\n",
      "[ Info: Arnoldi schursolve in iter 1, krylovdim = 26: 3 values converged, normres = (5.95e-31, 1.59e-13, 6.78e-14, 2.30e-07, 4.72e-08)\n",
      "[ Info: Arnoldi iteration step 27: normres = 0.022409346724760904\n",
      "[ Info: Arnoldi schursolve in iter 1, krylovdim = 27: 3 values converged, normres = (5.53e-33, 2.38e-15, 1.01e-15, 2.65e-07, 3.16e-07)\n",
      "[ Info: Arnoldi iteration step 28: normres = 0.09314688546795481\n",
      "[ Info: Arnoldi schursolve in iter 1, krylovdim = 28: 3 values converged, normres = (2.22e-34, 1.57e-16, 6.67e-17, 1.85e-09, 1.98e-08)\n",
      "[ Info: Arnoldi iteration step 29: normres = 0.04159481870942755\n",
      "[ Info: Arnoldi schursolve in iter 1, krylovdim = 29: 3 values converged, normres = (3.94e-36, 4.54e-18, 1.93e-18, 9.76e-11, 8.94e-10)\n",
      "[ Info: Arnoldi iteration step 30: normres = 0.15910409416595828\n",
      "[ Info: Arnoldi schursolve in iter 1, krylovdim = 30: 3 values converged, normres = (3.03e-37, 6.21e-19, 2.64e-19, 1.58e-11, 1.40e-10)\n",
      "[ Info: Arnoldi schursolve in iter 2, krylovdim = 19: 3 values converged, normres = (3.03e-37, 6.21e-19, 2.64e-19, 1.58e-11, 1.40e-10)\n",
      "[ Info: Arnoldi iteration step 20: normres = 0.07606983736636241\n",
      "[ Info: Arnoldi schursolve in iter 2, krylovdim = 20: 4 values converged, normres = (9.94e-39, 3.37e-20, 1.43e-20, 9.44e-13, 8.45e-12)\n",
      "[ Info: Arnoldi iteration step 21: normres = 0.042833200819869695\n",
      "┌ Info: Arnoldi eigsolve finished after 2 iterations:\n",
      "│ *  6 eigenvalues converged\n",
      "│ *  norm of residuals = (1.822383723602521e-40, 1.0104534806299062e-21, 6.454283951319873e-22, 3.13984461856846e-14, 2.7601048840180007e-13, 9.618241982242776e-14)\n",
      "└ *  number of operations = 32\n"
     ]
    }
   ],
   "cell_type": "code",
   "source": [
    "eigsolve(eps_fun, randn(size(scfres.ρ)), 5, :LM; eager=true, verbosity=3);"
   ],
   "metadata": {},
   "execution_count": 3
  }
 ],
 "nbformat_minor": 3,
 "metadata": {
  "language_info": {
   "file_extension": ".jl",
   "mimetype": "application/julia",
   "name": "julia",
   "version": "1.9.2"
  },
  "kernelspec": {
   "name": "julia-1.9",
   "display_name": "Julia 1.9.2",
   "language": "julia"
  }
 },
 "nbformat": 4
}
