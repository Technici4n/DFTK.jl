{
 "cells": [
  {
   "cell_type": "markdown",
   "source": [
    "# Eigenvalues of the dielectric matrix\n",
    "\n",
    "We compute a few eigenvalues of the dielectric matrix ($q=0$, $ω=0$) iteratively."
   ],
   "metadata": {}
  },
  {
   "outputs": [
    {
     "name": "stdout",
     "output_type": "stream",
     "text": [
      "n     Energy            log10(ΔE)   log10(Δρ)   Diag\n",
      "---   ---------------   ---------   ---------   ----\n",
      "  1   -7.234444511576                   -0.50    7.0\n",
      "  2   -7.249877160990       -1.81       -1.39    1.0\n",
      "  3   -7.250954752467       -2.97       -1.81    4.0\n",
      "  4   -7.250933621382   +   -4.68       -1.86    2.0\n",
      "  5   -7.251325789123       -3.41       -2.59    2.0\n",
      "  6   -7.251338319265       -4.90       -3.21    2.0\n",
      "  7   -7.251338771105       -6.35       -3.79    2.0\n",
      "  8   -7.251338794369       -7.63       -4.17    3.0\n",
      "  9   -7.251338798563       -8.38       -4.97    1.0\n",
      " 10   -7.251338798690       -9.90       -5.41    3.0\n",
      " 11   -7.251338798704      -10.84       -6.32    3.0\n",
      " 12   -7.251338798704      -12.75       -6.58    3.0\n",
      " 13   -7.251338798705      -13.05       -7.31    3.0\n",
      " 14   -7.251338798705      -14.21       -8.04    3.0\n"
     ]
    }
   ],
   "cell_type": "code",
   "source": [
    "using DFTK\n",
    "using Plots\n",
    "using KrylovKit\n",
    "using Printf\n",
    "\n",
    "# Calculation parameters\n",
    "kgrid = [1, 1, 1]\n",
    "Ecut = 5\n",
    "\n",
    "# Silicon lattice\n",
    "a = 10.26\n",
    "lattice = a / 2 .* [[0 1 1.]; [1 0 1.]; [1 1 0.]]\n",
    "Si = ElementPsp(:Si, psp=load_psp(\"hgh/lda/Si-q4\"))\n",
    "atoms     = [Si, Si]\n",
    "positions = [ones(3)/8, -ones(3)/8]\n",
    "\n",
    "# Compute the dielectric operator without symmetries\n",
    "model = model_LDA(lattice, atoms, positions, symmetries=false)\n",
    "basis = PlaneWaveBasis(model; Ecut, kgrid)\n",
    "scfres = self_consistent_field(basis, tol=1e-14);"
   ],
   "metadata": {},
   "execution_count": 1
  },
  {
   "cell_type": "markdown",
   "source": [
    "Applying $ε^† ≔ (1- χ_0 K)$ …"
   ],
   "metadata": {}
  },
  {
   "outputs": [],
   "cell_type": "code",
   "source": [
    "function eps_fun(δρ)\n",
    "    δV = apply_kernel(basis, δρ; ρ=scfres.ρ)\n",
    "    χ0δV = apply_χ0(scfres, δV)\n",
    "    δρ - χ0δV\n",
    "end;"
   ],
   "metadata": {},
   "execution_count": 2
  },
  {
   "cell_type": "markdown",
   "source": [
    "… eagerly diagonalizes the subspace matrix at each iteration"
   ],
   "metadata": {}
  },
  {
   "outputs": [
    {
     "name": "stdout",
     "output_type": "stream",
     "text": [
      "[ Info: Arnoldi iteration step 1: normres = 0.05254221317253042\n",
      "[ Info: Arnoldi iteration step 2: normres = 0.6501675652734968\n",
      "[ Info: Arnoldi iteration step 3: normres = 0.7736343549555188\n",
      "[ Info: Arnoldi iteration step 4: normres = 0.3334576396202904\n",
      "[ Info: Arnoldi iteration step 5: normres = 0.3868593512293453\n",
      "[ Info: Arnoldi schursolve in iter 1, krylovdim = 5: 0 values converged, normres = (2.39e-02, 6.90e-02, 3.07e-01, 2.22e-01, 2.50e-02)\n",
      "[ Info: Arnoldi iteration step 6: normres = 0.291837447052941\n",
      "[ Info: Arnoldi schursolve in iter 1, krylovdim = 6: 0 values converged, normres = (6.48e-03, 1.85e-01, 1.98e-01, 8.05e-02, 1.91e-02)\n",
      "[ Info: Arnoldi iteration step 7: normres = 0.08710750871220727\n",
      "[ Info: Arnoldi schursolve in iter 1, krylovdim = 7: 0 values converged, normres = (2.68e-04, 1.54e-02, 1.09e-02, 2.65e-02, 7.61e-02)\n",
      "[ Info: Arnoldi iteration step 8: normres = 0.10732984648661881\n",
      "[ Info: Arnoldi schursolve in iter 1, krylovdim = 8: 0 values converged, normres = (1.22e-05, 1.14e-03, 8.95e-04, 8.26e-03, 4.98e-02)\n",
      "[ Info: Arnoldi iteration step 9: normres = 0.0694896854159824\n",
      "[ Info: Arnoldi schursolve in iter 1, krylovdim = 9: 0 values converged, normres = (3.77e-07, 5.91e-05, 5.18e-05, 2.52e-03, 4.76e-02)\n",
      "[ Info: Arnoldi iteration step 10: normres = 0.08468473198698782\n",
      "[ Info: Arnoldi schursolve in iter 1, krylovdim = 10: 0 values converged, normres = (1.38e-08, 3.54e-06, 3.44e-06, 7.05e-04, 2.39e-02)\n",
      "[ Info: Arnoldi iteration step 11: normres = 0.08134131852175235\n",
      "[ Info: Arnoldi schursolve in iter 1, krylovdim = 11: 0 values converged, normres = (4.89e-10, 2.09e-07, 2.26e-07, 2.08e-04, 1.58e-02)\n",
      "[ Info: Arnoldi iteration step 12: normres = 0.0824022413579668\n",
      "[ Info: Arnoldi schursolve in iter 1, krylovdim = 12: 0 values converged, normres = (1.73e-11, 1.21e-08, 1.45e-08, 5.39e-05, 8.97e-03)\n",
      "[ Info: Arnoldi iteration step 13: normres = 0.06753576555970962\n",
      "[ Info: Arnoldi schursolve in iter 1, krylovdim = 13: 1 values converged, normres = (5.03e-13, 5.76e-10, 7.68e-10, 1.17e-05, 4.20e-03)\n",
      "[ Info: Arnoldi iteration step 14: normres = 0.6309457251354595\n",
      "[ Info: Arnoldi schursolve in iter 1, krylovdim = 14: 1 values converged, normres = (2.34e-13, 8.16e-10, 1.58e-09, 6.29e-01, 3.56e-03)\n",
      "[ Info: Arnoldi iteration step 15: normres = 0.13090090829036177\n",
      "[ Info: Arnoldi schursolve in iter 1, krylovdim = 15: 1 values converged, normres = (1.80e-14, 6.82e-10, 6.65e-02, 5.35e-04, 4.18e-06)\n",
      "[ Info: Arnoldi iteration step 16: normres = 0.26780564110230104\n",
      "[ Info: Arnoldi schursolve in iter 1, krylovdim = 16: 1 values converged, normres = (4.62e-15, 4.71e-09, 1.25e-01, 5.65e-03, 2.35e-01)\n",
      "[ Info: Arnoldi iteration step 17: normres = 0.03475742179727578\n",
      "[ Info: Arnoldi schursolve in iter 1, krylovdim = 17: 1 values converged, normres = (6.95e-17, 7.99e-09, 3.58e-03, 2.39e-06, 5.59e-03)\n",
      "[ Info: Arnoldi iteration step 18: normres = 0.02353416755883887\n",
      "[ Info: Arnoldi schursolve in iter 1, krylovdim = 18: 1 values converged, normres = (6.78e-19, 5.29e-05, 1.82e-05, 1.52e-08, 9.64e-05)\n",
      "[ Info: Arnoldi iteration step 19: normres = 0.146999158078133\n",
      "[ Info: Arnoldi schursolve in iter 1, krylovdim = 19: 1 values converged, normres = (4.17e-20, 3.73e-08, 5.55e-06, 4.23e-06, 9.68e-06)\n",
      "[ Info: Arnoldi iteration step 20: normres = 0.08375791029332966\n",
      "[ Info: Arnoldi schursolve in iter 1, krylovdim = 20: 1 values converged, normres = (1.71e-21, 6.06e-08, 4.04e-07, 6.42e-08, 8.84e-07)\n",
      "[ Info: Arnoldi iteration step 21: normres = 0.02706799169158979\n",
      "[ Info: Arnoldi schursolve in iter 1, krylovdim = 21: 1 values converged, normres = (1.93e-23, 7.22e-09, 1.96e-09, 1.52e-08, 9.53e-09)\n",
      "[ Info: Arnoldi iteration step 22: normres = 0.02228818412629946\n",
      "[ Info: Arnoldi schursolve in iter 1, krylovdim = 22: 1 values converged, normres = (1.77e-25, 1.07e-10, 2.21e-11, 2.76e-10, 8.24e-11)\n",
      "[ Info: Arnoldi iteration step 23: normres = 0.7213803666717804\n",
      "[ Info: Arnoldi schursolve in iter 1, krylovdim = 23: 1 values converged, normres = (7.94e-26, 1.10e-10, 2.26e-11, 3.54e-10, 1.06e-10)\n",
      "[ Info: Arnoldi iteration step 24: normres = 0.017337576409939055\n",
      "[ Info: Arnoldi schursolve in iter 1, krylovdim = 24: 1 values converged, normres = (8.66e-28, 6.24e-12, 1.29e-12, 1.62e-03, 6.44e-03)\n",
      "[ Info: Arnoldi iteration step 25: normres = 0.045402400661241564\n",
      "[ Info: Arnoldi schursolve in iter 1, krylovdim = 25: 3 values converged, normres = (1.62e-29, 1.85e-13, 3.82e-14, 6.40e-05, 3.13e-05)\n",
      "[ Info: Arnoldi iteration step 26: normres = 0.07509641811592835\n",
      "[ Info: Arnoldi schursolve in iter 1, krylovdim = 26: 3 values converged, normres = (5.47e-31, 1.06e-14, 2.19e-15, 4.98e-09, 8.87e-10)\n",
      "[ Info: Arnoldi iteration step 27: normres = 0.01833245862274655\n",
      "[ Info: Arnoldi schursolve in iter 1, krylovdim = 27: 3 values converged, normres = (4.14e-33, 1.29e-16, 2.65e-17, 2.48e-07, 2.95e-08)\n",
      "[ Info: Arnoldi iteration step 28: normres = 0.10087022285968511\n",
      "[ Info: Arnoldi schursolve in iter 1, krylovdim = 28: 3 values converged, normres = (1.76e-34, 8.86e-18, 1.83e-18, 1.52e-09, 7.59e-10)\n",
      "[ Info: Arnoldi iteration step 29: normres = 0.07984465852128939\n",
      "[ Info: Arnoldi schursolve in iter 1, krylovdim = 29: 3 values converged, normres = (6.15e-36, 5.14e-19, 1.06e-19, 3.00e-10, 1.45e-09)\n",
      "[ Info: Arnoldi iteration step 30: normres = 0.09832507857000358\n",
      "[ Info: Arnoldi schursolve in iter 1, krylovdim = 30: 3 values converged, normres = (2.98e-37, 4.48e-20, 9.25e-21, 2.96e-11, 1.42e-10)\n",
      "[ Info: Arnoldi schursolve in iter 2, krylovdim = 19: 3 values converged, normres = (2.98e-37, 4.48e-20, 9.25e-21, 2.96e-11, 1.42e-10)\n",
      "[ Info: Arnoldi iteration step 20: normres = 0.019580717040171513\n",
      "[ Info: Arnoldi schursolve in iter 2, krylovdim = 20: 4 values converged, normres = (2.42e-39, 5.85e-22, 1.21e-22, 4.23e-13, 2.05e-12)\n",
      "[ Info: Arnoldi iteration step 21: normres = 0.03612399792522204\n",
      "┌ Info: Arnoldi eigsolve finished after 2 iterations:\n",
      "│ *  6 eigenvalues converged\n",
      "│ *  norm of residuals = (3.5825619697535656e-41, 1.3790146641222762e-23, 2.5650763526686243e-24, 1.0978806537410952e-14, 5.2913599248291774e-14, 3.9738711796325744e-15)\n",
      "└ *  number of operations = 32\n"
     ]
    }
   ],
   "cell_type": "code",
   "source": [
    "eigsolve(eps_fun, randn(size(scfres.ρ)), 5, :LM; eager=true, verbosity=3);"
   ],
   "metadata": {},
   "execution_count": 3
  }
 ],
 "nbformat_minor": 3,
 "metadata": {
  "language_info": {
   "file_extension": ".jl",
   "mimetype": "application/julia",
   "name": "julia",
   "version": "1.8.3"
  },
  "kernelspec": {
   "name": "julia-1.8",
   "display_name": "Julia 1.8.3",
   "language": "julia"
  }
 },
 "nbformat": 4
}
