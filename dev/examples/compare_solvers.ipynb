{
 "cells": [
  {
   "cell_type": "markdown",
   "source": [
    "# Comparison of DFT solvers"
   ],
   "metadata": {}
  },
  {
   "cell_type": "markdown",
   "source": [
    "We compare four different approaches for solving the DFT minimisation problem,\n",
    "namely a density-based SCF, a potential-based SCF, direct minimisation and Newton."
   ],
   "metadata": {}
  },
  {
   "cell_type": "markdown",
   "source": [
    "First we setup our problem"
   ],
   "metadata": {}
  },
  {
   "outputs": [],
   "cell_type": "code",
   "source": [
    "using DFTK\n",
    "using LinearAlgebra\n",
    "\n",
    "a = 10.26  # Silicon lattice constant in Bohr\n",
    "lattice = a / 2 * [[0 1 1.];\n",
    "                   [1 0 1.];\n",
    "                   [1 1 0.]]\n",
    "Si = ElementPsp(:Si, psp=load_psp(\"hgh/lda/Si-q4\"))\n",
    "atoms     = [Si, Si]\n",
    "positions = [ones(3)/8, -ones(3)/8]\n",
    "\n",
    "model = model_LDA(lattice, atoms, positions)\n",
    "basis = PlaneWaveBasis(model; Ecut=5, kgrid=[3, 3, 3])\n",
    "\n",
    "# Convergence we desire\n",
    "tol = 1e-12\n",
    "is_converged = DFTK.ScfConvergenceDensity(tol);"
   ],
   "metadata": {},
   "execution_count": 1
  },
  {
   "cell_type": "markdown",
   "source": [
    "## Density-based self-consistent field"
   ],
   "metadata": {}
  },
  {
   "outputs": [
    {
     "name": "stdout",
     "output_type": "stream",
     "text": [
      "n     Energy            log10(ΔE)   log10(Δρ)   Diag\n",
      "---   ---------------   ---------   ---------   ----\n",
      "  1   -7.846885379836                   -0.70    4.8\n",
      "  2   -7.852324561729       -2.26       -1.53    1.0\n",
      "  3   -7.852615305459       -3.54       -2.56    1.2\n",
      "  4   -7.852645775759       -4.52       -2.88    2.5\n",
      "  5   -7.852646476506       -6.15       -3.19    1.0\n",
      "  6   -7.852646676680       -6.70       -4.05    1.2\n",
      "  7   -7.852646686652       -8.00       -5.17    2.0\n",
      "  8   -7.852646686725      -10.14       -5.43    2.0\n",
      "  9   -7.852646686730      -11.30       -6.12    1.0\n",
      " 10   -7.852646686730      -12.50       -6.61    1.5\n",
      " 11   -7.852646686730      -13.51       -7.19    1.2\n",
      " 12   -7.852646686730      -14.45       -7.89    1.8\n",
      " 13   -7.852646686730   +  -14.75       -8.30    2.0\n",
      " 14   -7.852646686730      -15.05       -9.62    1.2\n",
      " 15   -7.852646686730   +  -15.05      -10.23    3.2\n",
      " 16   -7.852646686730      -14.75      -10.21    1.2\n",
      " 17   -7.852646686730   +  -14.45      -10.93    1.0\n",
      " 18   -7.852646686730      -14.75      -11.94    1.0\n",
      " 19   -7.852646686730   +  -14.75      -12.57    1.8\n"
     ]
    }
   ],
   "cell_type": "code",
   "source": [
    "scfres_scf = self_consistent_field(basis; is_converged);"
   ],
   "metadata": {},
   "execution_count": 2
  },
  {
   "cell_type": "markdown",
   "source": [
    "## Potential-based SCF"
   ],
   "metadata": {}
  },
  {
   "outputs": [
    {
     "name": "stdout",
     "output_type": "stream",
     "text": [
      "n     Energy            log10(ΔE)   log10(Δρ)   α      Diag\n",
      "---   ---------------   ---------   ---------   ----   ----\n",
      "  1   -7.846906697141                   -0.70           4.8\n",
      "  2   -7.852555546977       -2.25       -1.64   0.80    2.0\n",
      "  3   -7.852639440317       -4.08       -2.74   0.80    1.0\n",
      "  4   -7.852646506362       -5.15       -3.36   0.80    2.0\n",
      "  5   -7.852646679478       -6.76       -4.22   0.80    1.5\n",
      "  6   -7.852646686584       -8.15       -4.76   0.80    1.8\n",
      "  7   -7.852646686721       -9.86       -5.65   0.80    1.5\n",
      "  8   -7.852646686730      -11.06       -6.35   0.80    2.2\n",
      "  9   -7.852646686730      -12.75       -7.54   0.80    1.5\n",
      " 10   -7.852646686730      -14.01       -8.27   0.80    2.2\n",
      " 11   -7.852646686730   +  -14.75       -9.59   0.80    1.5\n",
      " 12   -7.852646686730   +  -15.05       -9.66   0.80    3.0\n",
      " 13   -7.852646686730      -14.75      -10.59   0.80    1.0\n",
      " 14   -7.852646686730   +    -Inf      -11.57   0.80    1.2\n",
      " 15   -7.852646686730      -14.75      -11.97   0.80    2.0\n",
      " 16   -7.852646686730   +    -Inf      -12.69   0.80    1.0\n"
     ]
    }
   ],
   "cell_type": "code",
   "source": [
    "scfres_scfv = DFTK.scf_potential_mixing(basis; is_converged);"
   ],
   "metadata": {},
   "execution_count": 3
  },
  {
   "cell_type": "markdown",
   "source": [
    "## Direct minimization"
   ],
   "metadata": {}
  },
  {
   "outputs": [
    {
     "name": "stdout",
     "output_type": "stream",
     "text": [
      "Iter     Function value   Gradient norm \n",
      "     0     1.402373e+01     3.558577e+00\n",
      " * time: 0.4378511905670166\n",
      "     1     1.630955e+00     1.795456e+00\n",
      " * time: 0.6421639919281006\n",
      "     2    -1.281718e+00     2.173860e+00\n",
      " * time: 0.6689810752868652\n",
      "     3    -3.661604e+00     1.757000e+00\n",
      " * time: 0.7074990272521973\n",
      "     4    -5.104503e+00     1.456765e+00\n",
      " * time: 0.7459001541137695\n",
      "     5    -6.665368e+00     8.749559e-01\n",
      " * time: 0.7849199771881104\n",
      "     6    -7.268133e+00     3.990410e-01\n",
      " * time: 0.8238141536712646\n",
      "     7    -7.574643e+00     2.199881e-01\n",
      " * time: 0.8510210514068604\n",
      "     8    -7.728537e+00     1.250909e-01\n",
      " * time: 0.8776991367340088\n",
      "     9    -7.785921e+00     1.132267e-01\n",
      " * time: 0.9047801494598389\n",
      "    10    -7.817256e+00     7.059717e-02\n",
      " * time: 0.9321310520172119\n",
      "    11    -7.836621e+00     5.548029e-02\n",
      " * time: 0.9592440128326416\n",
      "    12    -7.846166e+00     3.367398e-02\n",
      " * time: 0.9858860969543457\n",
      "    13    -7.850584e+00     3.111255e-02\n",
      " * time: 1.0126090049743652\n",
      "    14    -7.851852e+00     2.332556e-02\n",
      " * time: 1.0395610332489014\n",
      "    15    -7.852313e+00     9.762963e-03\n",
      " * time: 1.0661780834197998\n",
      "    16    -7.852516e+00     5.672965e-03\n",
      " * time: 1.167673110961914\n",
      "    17    -7.852595e+00     3.914882e-03\n",
      " * time: 1.1944031715393066\n",
      "    18    -7.852625e+00     1.991465e-03\n",
      " * time: 1.2208471298217773\n",
      "    19    -7.852637e+00     1.483085e-03\n",
      " * time: 1.24723219871521\n",
      "    20    -7.852643e+00     6.959358e-04\n",
      " * time: 1.273712158203125\n",
      "    21    -7.852646e+00     5.634632e-04\n",
      " * time: 1.3001480102539062\n",
      "    22    -7.852646e+00     3.535301e-04\n",
      " * time: 1.3264541625976562\n",
      "    23    -7.852647e+00     1.344347e-04\n",
      " * time: 1.3528220653533936\n",
      "    24    -7.852647e+00     1.140225e-04\n",
      " * time: 1.3794291019439697\n",
      "    25    -7.852647e+00     5.930362e-05\n",
      " * time: 1.4067611694335938\n",
      "    26    -7.852647e+00     2.128673e-05\n",
      " * time: 1.433459997177124\n",
      "    27    -7.852647e+00     2.134305e-05\n",
      " * time: 1.4602031707763672\n",
      "    28    -7.852647e+00     1.246296e-05\n",
      " * time: 1.4867970943450928\n",
      "    29    -7.852647e+00     5.260512e-06\n",
      " * time: 1.513599157333374\n",
      "    30    -7.852647e+00     2.530531e-06\n",
      " * time: 1.5401620864868164\n",
      "    31    -7.852647e+00     1.389524e-06\n",
      " * time: 1.5675389766693115\n",
      "    32    -7.852647e+00     1.027492e-06\n",
      " * time: 1.5946261882781982\n",
      "    33    -7.852647e+00     9.105690e-07\n",
      " * time: 1.6209611892700195\n",
      "    34    -7.852647e+00     4.272546e-07\n",
      " * time: 1.6476051807403564\n",
      "    35    -7.852647e+00     2.219695e-07\n",
      " * time: 1.6743440628051758\n",
      "    36    -7.852647e+00     1.400681e-07\n",
      " * time: 1.7010841369628906\n",
      "    37    -7.852647e+00     8.283801e-08\n",
      " * time: 1.727755069732666\n",
      "    38    -7.852647e+00     6.712472e-08\n",
      " * time: 1.75462007522583\n",
      "    39    -7.852647e+00     5.141266e-08\n",
      " * time: 1.7814481258392334\n",
      "    40    -7.852647e+00     3.298690e-08\n",
      " * time: 1.8082101345062256\n",
      "    41    -7.852647e+00     1.536223e-08\n",
      " * time: 1.834691047668457\n",
      "    42    -7.852647e+00     7.726372e-09\n",
      " * time: 1.8613309860229492\n",
      "    43    -7.852647e+00     4.239706e-09\n",
      " * time: 1.900231122970581\n",
      "    44    -7.852647e+00     4.239664e-09\n",
      " * time: 1.986786127090454\n"
     ]
    }
   ],
   "cell_type": "code",
   "source": [
    "scfres_dm = direct_minimization(basis; tol);"
   ],
   "metadata": {},
   "execution_count": 4
  },
  {
   "cell_type": "markdown",
   "source": [
    "## Newton algorithm"
   ],
   "metadata": {}
  },
  {
   "cell_type": "markdown",
   "source": [
    "Start not too far from the solution to ensure convergence:\n",
    "We run first a very crude SCF to get close and then switch to Newton."
   ],
   "metadata": {}
  },
  {
   "outputs": [
    {
     "name": "stdout",
     "output_type": "stream",
     "text": [
      "n     Energy            log10(ΔE)   log10(Δρ)   Diag\n",
      "---   ---------------   ---------   ---------   ----\n",
      "  1   -7.846857262807                   -0.70    4.8\n",
      "  2   -7.852322661705       -2.26       -1.53    1.0\n"
     ]
    }
   ],
   "cell_type": "code",
   "source": [
    "scfres_start = self_consistent_field(basis; tol=1e-1);"
   ],
   "metadata": {},
   "execution_count": 5
  },
  {
   "cell_type": "markdown",
   "source": [
    "Remove the virtual orbitals (which Newton cannot treat yet)"
   ],
   "metadata": {}
  },
  {
   "outputs": [
    {
     "name": "stdout",
     "output_type": "stream",
     "text": [
      "n     Energy            log10(ΔE)   log10(Δρ)\n",
      "---   ---------------   ---------   ---------\n",
      "  1   -7.852646686713                   -2.55\n",
      "  2   -7.852646686730      -10.78       -6.03\n",
      "  3   -7.852646686730   +  -15.05      -12.71\n"
     ]
    }
   ],
   "cell_type": "code",
   "source": [
    "ψ = DFTK.select_occupied_orbitals(basis, scfres_start.ψ, scfres_start.occupation).ψ\n",
    "scfres_newton = newton(basis, ψ; tol);"
   ],
   "metadata": {},
   "execution_count": 6
  },
  {
   "cell_type": "markdown",
   "source": [
    "## Comparison of results"
   ],
   "metadata": {}
  },
  {
   "outputs": [
    {
     "name": "stdout",
     "output_type": "stream",
     "text": [
      "|ρ_newton - ρ_scf|  = 2.3091371167458254e-13\n",
      "|ρ_newton - ρ_scfv| = 9.599995169440409e-14\n",
      "|ρ_newton - ρ_dm|   = 1.008511945871294e-9\n"
     ]
    }
   ],
   "cell_type": "code",
   "source": [
    "println(\"|ρ_newton - ρ_scf|  = \", norm(scfres_newton.ρ - scfres_scf.ρ))\n",
    "println(\"|ρ_newton - ρ_scfv| = \", norm(scfres_newton.ρ - scfres_scfv.ρ))\n",
    "println(\"|ρ_newton - ρ_dm|   = \", norm(scfres_newton.ρ - scfres_dm.ρ))"
   ],
   "metadata": {},
   "execution_count": 7
  }
 ],
 "nbformat_minor": 3,
 "metadata": {
  "language_info": {
   "file_extension": ".jl",
   "mimetype": "application/julia",
   "name": "julia",
   "version": "1.8.3"
  },
  "kernelspec": {
   "name": "julia-1.8",
   "display_name": "Julia 1.8.3",
   "language": "julia"
  }
 },
 "nbformat": 4
}
