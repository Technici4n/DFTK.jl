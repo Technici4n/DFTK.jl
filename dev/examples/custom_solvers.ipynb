{
 "cells": [
  {
   "cell_type": "markdown",
   "source": [
    "# Custom solvers\n",
    "In this example, we show how to define custom solvers. Our system\n",
    "will again be silicon, because we are not very imaginative"
   ],
   "metadata": {}
  },
  {
   "outputs": [],
   "cell_type": "code",
   "source": [
    "using DFTK, LinearAlgebra\n",
    "\n",
    "a = 10.26\n",
    "lattice = a / 2 * [[0 1 1.];\n",
    "                   [1 0 1.];\n",
    "                   [1 1 0.]]\n",
    "Si = ElementPsp(:Si, psp=load_psp(\"hgh/lda/Si-q4\"))\n",
    "atoms = [Si, Si]\n",
    "positions =  [ones(3)/8, -ones(3)/8]\n",
    "\n",
    "# We take very (very) crude parameters\n",
    "model = model_LDA(lattice, atoms, positions)\n",
    "basis = PlaneWaveBasis(model; Ecut=5, kgrid=[1, 1, 1]);"
   ],
   "metadata": {},
   "execution_count": 1
  },
  {
   "cell_type": "markdown",
   "source": [
    "We define our custom fix-point solver: simply a damped fixed-point"
   ],
   "metadata": {}
  },
  {
   "outputs": [],
   "cell_type": "code",
   "source": [
    "function my_fp_solver(f, x0, max_iter; tol)\n",
    "    mixing_factor = .7\n",
    "    x = x0\n",
    "    fx = f(x)\n",
    "    for n = 1:max_iter\n",
    "        inc = fx - x\n",
    "        if norm(inc) < tol\n",
    "            break\n",
    "        end\n",
    "        x = x + mixing_factor * inc\n",
    "        fx = f(x)\n",
    "    end\n",
    "    (fixpoint=x, converged=norm(fx-x) < tol)\n",
    "end;"
   ],
   "metadata": {},
   "execution_count": 2
  },
  {
   "cell_type": "markdown",
   "source": [
    "Our eigenvalue solver just forms the dense matrix and diagonalizes\n",
    "it explicitly (this only works for very small systems)"
   ],
   "metadata": {}
  },
  {
   "outputs": [],
   "cell_type": "code",
   "source": [
    "function my_eig_solver(A, X0; maxiter, tol, kwargs...)\n",
    "    n = size(X0, 2)\n",
    "    A = Array(A)\n",
    "    E = eigen(A)\n",
    "    λ = E.values[1:n]\n",
    "    X = E.vectors[:, 1:n]\n",
    "    (; λ, X, residual_norms=[], iterations=0, converged=true, n_matvec=0)\n",
    "end;"
   ],
   "metadata": {},
   "execution_count": 3
  },
  {
   "cell_type": "markdown",
   "source": [
    "Finally we also define our custom mixing scheme. It will be a mixture\n",
    "of simple mixing (for the first 2 steps) and than default to Kerker mixing.\n",
    "In the mixing interface `δF` is $(ρ_\\text{out} - ρ_\\text{in})$, i.e.\n",
    "the difference in density between two subsequent SCF steps and the `mix`\n",
    "function returns $δρ$, which is added to $ρ_\\text{in}$ to yield $ρ_\\text{next}$,\n",
    "the density for the next SCF step."
   ],
   "metadata": {}
  },
  {
   "outputs": [],
   "cell_type": "code",
   "source": [
    "struct MyMixing\n",
    "    n_simple  # Number of iterations for simple mixing\n",
    "end\n",
    "MyMixing() = MyMixing(2)\n",
    "\n",
    "function DFTK.mix_density(mixing::MyMixing, basis, δF; n_iter, kwargs...)\n",
    "    if n_iter <= mixing.n_simple\n",
    "        return δF  # Simple mixing -> Do not modify update at all\n",
    "    else\n",
    "        # Use the default KerkerMixing from DFTK\n",
    "        DFTK.mix_density(KerkerMixing(), basis, δF; kwargs...)\n",
    "    end\n",
    "end"
   ],
   "metadata": {},
   "execution_count": 4
  },
  {
   "cell_type": "markdown",
   "source": [
    "That's it! Now we just run the SCF with these solvers"
   ],
   "metadata": {}
  },
  {
   "outputs": [
    {
     "name": "stdout",
     "output_type": "stream",
     "text": [
      "n     Energy            log10(ΔE)   log10(Δρ)   Diag   Δtime\n",
      "---   ---------------   ---------   ---------   ----   ------\n",
      "  1   -7.203629624024                   -0.44    0.0         \n",
      "  2   -7.245122392452       -1.38       -0.78    0.0    514ms\n",
      "  3   -7.250881737076       -2.24       -1.21    0.0    181ms\n",
      "  4   -7.251230465276       -3.46       -1.52    0.0   81.3ms\n",
      "  5   -7.251312616478       -4.09       -1.82    0.0   80.8ms\n",
      "  6   -7.251332200869       -4.71       -2.12    0.0   85.7ms\n",
      "  7   -7.251337045027       -5.31       -2.40    0.0   87.7ms\n",
      "  8   -7.251338305227       -5.90       -2.69    0.0    197ms\n",
      "  9   -7.251338652072       -6.46       -2.96    0.0   79.9ms\n",
      " 10   -7.251338753012       -7.00       -3.23    0.0   78.7ms\n",
      " 11   -7.251338783905       -7.51       -3.49    0.0   81.2ms\n",
      " 12   -7.251338793766       -8.01       -3.75    0.0   88.4ms\n",
      " 13   -7.251338797019       -8.49       -4.00    0.0   85.5ms\n",
      " 14   -7.251338798120       -8.96       -4.25    0.0    186ms\n",
      " 15   -7.251338798500       -9.42       -4.49    0.0   80.2ms\n",
      " 16   -7.251338798632       -9.88       -4.73    0.0   81.3ms\n",
      " 17   -7.251338798679      -10.33       -4.96    0.0   85.6ms\n",
      " 18   -7.251338798695      -10.78       -5.19    0.0   88.2ms\n",
      " 19   -7.251338798701      -11.23       -5.42    0.0    164ms\n",
      " 20   -7.251338798703      -11.67       -5.65    0.0   81.9ms\n",
      " 21   -7.251338798704      -12.12       -5.88    0.0   83.1ms\n",
      " 22   -7.251338798704      -12.57       -6.10    0.0   86.1ms\n",
      " 23   -7.251338798704      -13.02       -6.33    0.0   88.4ms\n",
      " 24   -7.251338798705      -13.46       -6.55    0.0    166ms\n",
      " 25   -7.251338798705      -13.82       -6.78    0.0   79.6ms\n",
      " 26   -7.251338798705      -14.75       -6.99    0.0   81.4ms\n",
      " 27   -7.251338798705   +  -13.97       -7.03    0.0   83.1ms\n",
      " 28   -7.251338798705      -13.91       -7.23    0.0   89.0ms\n",
      " 29   -7.251338798705      -14.45       -7.53    0.0   86.0ms\n",
      " 30   -7.251338798705   +  -14.75       -7.59    0.0    159ms\n",
      " 31   -7.251338798705   +  -14.75       -7.76    0.0   82.3ms\n",
      " 32   -7.251338798705      -14.35       -8.04    0.0   83.1ms\n"
     ]
    }
   ],
   "cell_type": "code",
   "source": [
    "scfres = self_consistent_field(basis;\n",
    "                               tol=1e-8,\n",
    "                               solver=my_fp_solver,\n",
    "                               eigensolver=my_eig_solver,\n",
    "                               mixing=MyMixing());"
   ],
   "metadata": {},
   "execution_count": 5
  },
  {
   "cell_type": "markdown",
   "source": [
    "Note that the default convergence criterion is the difference in\n",
    "density. When this gets below `tol`, the\n",
    "\"driver\" `self_consistent_field` artificially makes the fixed-point\n",
    "solver think it's converged by forcing `f(x) = x`. You can customize\n",
    "this with the `is_converged` keyword argument to\n",
    "`self_consistent_field`."
   ],
   "metadata": {}
  }
 ],
 "nbformat_minor": 3,
 "metadata": {
  "language_info": {
   "file_extension": ".jl",
   "mimetype": "application/julia",
   "name": "julia",
   "version": "1.9.0"
  },
  "kernelspec": {
   "name": "julia-1.9",
   "display_name": "Julia 1.9.0",
   "language": "julia"
  }
 },
 "nbformat": 4
}
