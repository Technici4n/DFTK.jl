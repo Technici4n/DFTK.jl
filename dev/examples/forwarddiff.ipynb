{
 "cells": [
  {
   "cell_type": "markdown",
   "source": [
    "# Polarizability using automatic differentiation\n",
    "\n",
    "Simple example for computing properties using (forward-mode)\n",
    "automatic differentiation.\n",
    "For a more classical approach and more details about computing polarizabilities,\n",
    "see Polarizability by linear response."
   ],
   "metadata": {}
  },
  {
   "outputs": [],
   "cell_type": "code",
   "source": [
    "using DFTK\n",
    "using LinearAlgebra\n",
    "using ForwardDiff\n",
    "\n",
    "# Construct PlaneWaveBasis given a particular electric field strength\n",
    "# Again we take the example of a Helium atom.\n",
    "function make_basis(ε::T; a=10., Ecut=30) where {T}\n",
    "    lattice=T(a) * I(3)  # lattice is a cube of $a$ Bohrs\n",
    "    # Helium at the center of the box\n",
    "    atoms     = [ElementPsp(:He, psp=load_psp(\"hgh/lda/He-q2\"))]\n",
    "    positions = [[1/2, 1/2, 1/2]]\n",
    "\n",
    "    model = model_DFT(lattice, atoms, positions, [:lda_x, :lda_c_vwn];\n",
    "                      extra_terms=[ExternalFromReal(r -> -ε * (r[1] - a/2))],\n",
    "                      symmetries=false)\n",
    "    PlaneWaveBasis(model; Ecut, kgrid=[1, 1, 1])  # No k-point sampling on isolated system\n",
    "end\n",
    "\n",
    "# dipole moment of a given density (assuming the current geometry)\n",
    "function dipole(basis, ρ)\n",
    "    @assert isdiag(basis.model.lattice)\n",
    "    a  = basis.model.lattice[1, 1]\n",
    "    rr = [a * (r[1] - 1/2) for r in r_vectors(basis)]\n",
    "    sum(rr .* ρ) * basis.dvol\n",
    "end\n",
    "\n",
    "# Function to compute the dipole for a given field strength\n",
    "function compute_dipole(ε; tol=1e-8, kwargs...)\n",
    "    scfres = self_consistent_field(make_basis(ε; kwargs...); tol)\n",
    "    dipole(scfres.basis, scfres.ρ)\n",
    "end;"
   ],
   "metadata": {},
   "execution_count": 1
  },
  {
   "cell_type": "markdown",
   "source": [
    "With this in place we can compute the polarizability from finite differences\n",
    "(just like in the previous example):"
   ],
   "metadata": {}
  },
  {
   "outputs": [
    {
     "name": "stdout",
     "output_type": "stream",
     "text": [
      "n     Energy            log10(ΔE)   log10(Δρ)   Diag\n",
      "---   ---------------   ---------   ---------   ----\n",
      "  1   -2.770882241757                   -0.52    9.0\n",
      "  2   -2.772145754357       -2.90       -1.32    1.0\n",
      "  3   -2.772170453846       -4.61       -2.51    1.0\n",
      "  4   -2.772170673721       -6.66       -3.28    1.0\n",
      "  5   -2.772170720962       -7.33       -3.86    2.0\n",
      "  6   -2.772170722919       -8.71       -4.73    1.0\n",
      "  7   -2.772170723013      -10.02       -5.35    2.0\n",
      "  8   -2.772170723015      -11.81       -5.94    1.0\n",
      "  9   -2.772170723015      -12.58       -6.48    2.0\n",
      " 10   -2.772170723015      -13.66       -7.05    1.0\n",
      " 11   -2.772170723015   +  -14.07       -8.30    2.0\n",
      "n     Energy            log10(ΔE)   log10(Δρ)   Diag\n",
      "---   ---------------   ---------   ---------   ----\n",
      "  1   -2.770786719809                   -0.52    9.0\n",
      "  2   -2.772057034020       -2.90       -1.32    1.0\n",
      "  3   -2.772083247825       -4.58       -2.52    1.0\n",
      "  4   -2.772083385511       -6.86       -3.40    1.0\n",
      "  5   -2.772083415938       -7.52       -3.89    2.0\n",
      "  6   -2.772083417769       -8.74       -5.50    1.0\n",
      "  7   -2.772083417808      -10.40       -5.35    3.0\n",
      "  8   -2.772083417810      -11.68       -5.91    1.0\n",
      "  9   -2.772083417811      -13.03       -6.67    1.0\n",
      " 10   -2.772083417811      -13.64       -7.16    2.0\n",
      " 11   -2.772083417811   +  -13.82       -7.82    1.0\n",
      " 12   -2.772083417811      -14.51       -8.90    2.0\n"
     ]
    },
    {
     "output_type": "execute_result",
     "data": {
      "text/plain": "1.7735579934269348"
     },
     "metadata": {},
     "execution_count": 2
    }
   ],
   "cell_type": "code",
   "source": [
    "polarizability_fd = let\n",
    "    ε = 0.01\n",
    "    (compute_dipole(ε) - compute_dipole(0.0)) / ε\n",
    "end"
   ],
   "metadata": {},
   "execution_count": 2
  },
  {
   "cell_type": "markdown",
   "source": [
    "We do the same thing using automatic differentiation. Under the hood this uses\n",
    "custom rules to implicitly differentiate through the self-consistent\n",
    "field fixed-point problem."
   ],
   "metadata": {}
  },
  {
   "outputs": [
    {
     "name": "stdout",
     "output_type": "stream",
     "text": [
      "n     Energy            log10(ΔE)   log10(Δρ)   Diag\n",
      "---   ---------------   ---------   ---------   ----\n",
      "  1   -2.770777165177                   -0.53    9.0\n",
      "  2   -2.772056149135       -2.89       -1.31    1.0\n",
      "  3   -2.772082966571       -4.57       -2.62    1.0\n",
      "  4   -2.772083415736       -6.35       -4.08    2.0\n",
      "  5   -2.772083417620       -8.72       -4.40    2.0\n",
      "  6   -2.772083417803       -9.74       -5.32    1.0\n",
      "  7   -2.772083417810      -11.11       -5.95    2.0\n",
      "  8   -2.772083417811      -12.97       -6.57    1.0\n",
      "  9   -2.772083417811      -13.71       -7.51    2.0\n",
      " 10   -2.772083417811   +  -13.83       -7.69    2.0\n",
      " 11   -2.772083417811      -14.07       -9.30    1.0\n",
      "\n",
      "Polarizability via ForwardDiff:       1.7725349698559938\n",
      "Polarizability via finite difference: 1.7735579934269348\n"
     ]
    }
   ],
   "cell_type": "code",
   "source": [
    "polarizability = ForwardDiff.derivative(compute_dipole, 0.0)\n",
    "println()\n",
    "println(\"Polarizability via ForwardDiff:       $polarizability\")\n",
    "println(\"Polarizability via finite difference: $polarizability_fd\")"
   ],
   "metadata": {},
   "execution_count": 3
  }
 ],
 "nbformat_minor": 3,
 "metadata": {
  "language_info": {
   "file_extension": ".jl",
   "mimetype": "application/julia",
   "name": "julia",
   "version": "1.8.3"
  },
  "kernelspec": {
   "name": "julia-1.8",
   "display_name": "Julia 1.8.3",
   "language": "julia"
  }
 },
 "nbformat": 4
}
