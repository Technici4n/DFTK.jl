{
 "cells": [
  {
   "cell_type": "markdown",
   "source": [
    "# Eigenvalues of the dielectric matrix\n",
    "\n",
    "We compute a few eigenvalues of the dielectric matrix ($q=0$, $ω=0$) iteratively."
   ],
   "metadata": {}
  },
  {
   "outputs": [
    {
     "name": "stdout",
     "output_type": "stream",
     "text": [
      "n     Energy            log10(ΔE)   log10(Δρ)   Diag\n",
      "---   ---------------   ---------   ---------   ----\n",
      "  1   -7.232885011542                   -0.50    7.0\n",
      "  2   -7.249828032693       -1.77       -1.39    1.0\n",
      "  3   -7.251287462753       -2.84       -2.04    4.0\n",
      "  4   -7.251291157997       -5.43       -2.26    5.0\n",
      "  5   -7.251330243462       -4.41       -2.68    4.0\n",
      "  6   -7.251335614463       -5.27       -2.91    3.0\n",
      "  7   -7.251338788740       -5.50       -4.08    2.0\n",
      "  8   -7.251338794929       -8.21       -4.27    3.0\n",
      "  9   -7.251338798306       -8.47       -4.86    1.0\n",
      " 10   -7.251338798694       -9.41       -5.47    3.0\n",
      " 11   -7.251338798703      -11.04       -5.84    3.0\n",
      " 12   -7.251338798704      -12.09       -6.20    3.0\n",
      " 13   -7.251338798704      -12.41       -6.54    2.0\n",
      " 14   -7.251338798705      -13.31       -6.84    1.0\n",
      " 15   -7.251338798705      -13.75       -7.37    3.0\n",
      " 16   -7.251338798705      -14.27       -7.75    2.0\n"
     ]
    }
   ],
   "cell_type": "code",
   "source": [
    "using DFTK\n",
    "using Plots\n",
    "using KrylovKit\n",
    "using Printf\n",
    "\n",
    "# Calculation parameters\n",
    "kgrid = [1, 1, 1]\n",
    "Ecut = 5\n",
    "\n",
    "# Silicon lattice\n",
    "a = 10.26\n",
    "lattice = a / 2 .* [[0 1 1.]; [1 0 1.]; [1 1 0.]]\n",
    "Si = ElementPsp(:Si, psp=load_psp(\"hgh/lda/Si-q4\"))\n",
    "atoms     = [Si, Si]\n",
    "positions = [ones(3)/8, -ones(3)/8]\n",
    "\n",
    "# Compute the dielectric operator without symmetries\n",
    "model = model_LDA(lattice, atoms, positions, symmetries=false)\n",
    "basis = PlaneWaveBasis(model; Ecut, kgrid)\n",
    "scfres = self_consistent_field(basis, tol=1e-14);"
   ],
   "metadata": {},
   "execution_count": 1
  },
  {
   "cell_type": "markdown",
   "source": [
    "Applying $ε^† ≔ (1- χ_0 K)$ …"
   ],
   "metadata": {}
  },
  {
   "outputs": [],
   "cell_type": "code",
   "source": [
    "function eps_fun(δρ)\n",
    "    δV = apply_kernel(basis, δρ; ρ=scfres.ρ)\n",
    "    χ0δV = apply_χ0(scfres, δV)\n",
    "    δρ - χ0δV\n",
    "end;"
   ],
   "metadata": {},
   "execution_count": 2
  },
  {
   "cell_type": "markdown",
   "source": [
    "… eagerly diagonalizes the subspace matrix at each iteration"
   ],
   "metadata": {}
  },
  {
   "outputs": [
    {
     "name": "stdout",
     "output_type": "stream",
     "text": [
      "[ Info: Arnoldi iteration step 1: normres = 0.07425006062060636\n",
      "[ Info: Arnoldi iteration step 2: normres = 0.5587193937323282\n",
      "[ Info: Arnoldi iteration step 3: normres = 0.7404627901974679\n",
      "[ Info: Arnoldi iteration step 4: normres = 0.2531862007167783\n",
      "[ Info: Arnoldi iteration step 5: normres = 0.5878232330571194\n",
      "[ Info: Arnoldi schursolve in iter 1, krylovdim = 5: 0 values converged, normres = (2.82e-02, 9.00e-02, 5.49e-01, 1.88e-01, 1.03e-03)\n",
      "[ Info: Arnoldi iteration step 6: normres = 0.21590903046802679\n",
      "[ Info: Arnoldi schursolve in iter 1, krylovdim = 6: 0 values converged, normres = (4.62e-03, 9.73e-02, 1.22e-01, 1.08e-01, 7.37e-02)\n",
      "[ Info: Arnoldi iteration step 7: normres = 0.08916341443849894\n",
      "[ Info: Arnoldi schursolve in iter 1, krylovdim = 7: 0 values converged, normres = (1.95e-04, 7.58e-03, 9.58e-03, 5.73e-02, 5.79e-02)\n",
      "[ Info: Arnoldi iteration step 8: normres = 0.11388124128954534\n",
      "[ Info: Arnoldi schursolve in iter 1, krylovdim = 8: 0 values converged, normres = (9.72e-06, 6.28e-04, 8.80e-04, 2.30e-02, 4.83e-02)\n",
      "[ Info: Arnoldi iteration step 9: normres = 0.08208613407091965\n",
      "[ Info: Arnoldi schursolve in iter 1, krylovdim = 9: 0 values converged, normres = (3.45e-07, 3.68e-05, 5.72e-05, 6.64e-03, 3.27e-02)\n",
      "[ Info: Arnoldi iteration step 10: normres = 0.07958491564736804\n",
      "[ Info: Arnoldi schursolve in iter 1, krylovdim = 10: 0 values converged, normres = (1.21e-08, 2.16e-06, 3.75e-06, 2.14e-03, 2.76e-02)\n",
      "[ Info: Arnoldi iteration step 11: normres = 0.07796155624013852\n",
      "[ Info: Arnoldi schursolve in iter 1, krylovdim = 11: 0 values converged, normres = (4.02e-10, 1.17e-07, 2.24e-07, 4.94e-04, 1.27e-02)\n",
      "[ Info: Arnoldi iteration step 12: normres = 0.07292974224763411\n",
      "[ Info: Arnoldi schursolve in iter 1, krylovdim = 12: 0 values converged, normres = (1.26e-11, 5.98e-09, 1.27e-08, 1.11e-04, 5.46e-03)\n",
      "[ Info: Arnoldi iteration step 13: normres = 0.07646266099864003\n",
      "[ Info: Arnoldi schursolve in iter 1, krylovdim = 13: 1 values converged, normres = (4.09e-13, 3.17e-10, 7.48e-10, 2.50e-05, 2.41e-03)\n",
      "[ Info: Arnoldi iteration step 14: normres = 0.5530154242901348\n",
      "[ Info: Arnoldi schursolve in iter 1, krylovdim = 14: 1 values converged, normres = (1.86e-13, 5.60e-10, 2.40e-09, 5.52e-01, 4.94e-03)\n",
      "[ Info: Arnoldi iteration step 15: normres = 0.1667011730909799\n",
      "[ Info: Arnoldi schursolve in iter 1, krylovdim = 15: 1 values converged, normres = (1.62e-14, 3.41e-10, 6.96e-02, 7.45e-04, 1.36e-05)\n",
      "[ Info: Arnoldi iteration step 16: normres = 0.25464113369716607\n",
      "[ Info: Arnoldi schursolve in iter 1, krylovdim = 16: 1 values converged, normres = (3.99e-15, 1.97e-09, 1.37e-01, 5.15e-03, 2.12e-01)\n",
      "[ Info: Arnoldi iteration step 17: normres = 0.03269823754510402\n",
      "[ Info: Arnoldi schursolve in iter 1, krylovdim = 17: 1 values converged, normres = (5.62e-17, 5.79e-06, 3.53e-03, 3.25e-06, 4.69e-03)\n",
      "[ Info: Arnoldi iteration step 18: normres = 0.016207332594663733\n",
      "[ Info: Arnoldi schursolve in iter 1, krylovdim = 18: 1 values converged, normres = (3.76e-19, 3.87e-08, 3.77e-05, 5.11e-05, 2.08e-05)\n",
      "[ Info: Arnoldi iteration step 19: normres = 0.039576128157194225\n",
      "[ Info: Arnoldi schursolve in iter 1, krylovdim = 19: 1 values converged, normres = (6.09e-21, 5.27e-08, 9.73e-07, 1.41e-06, 6.88e-07)\n",
      "[ Info: Arnoldi iteration step 20: normres = 0.20869671005341014\n",
      "[ Info: Arnoldi schursolve in iter 1, krylovdim = 20: 1 values converged, normres = (5.87e-22, 2.18e-08, 1.60e-07, 2.90e-08, 2.90e-07)\n",
      "[ Info: Arnoldi iteration step 21: normres = 0.042763384289512985\n",
      "[ Info: Arnoldi schursolve in iter 1, krylovdim = 21: 1 values converged, normres = (1.13e-23, 2.80e-09, 4.51e-09, 6.79e-09, 8.40e-09)\n",
      "[ Info: Arnoldi iteration step 22: normres = 0.038978449034110234\n",
      "[ Info: Arnoldi schursolve in iter 1, krylovdim = 22: 1 values converged, normres = (1.83e-25, 8.64e-11, 1.07e-10, 1.85e-10, 2.46e-10)\n",
      "[ Info: Arnoldi iteration step 23: normres = 0.5549283480149249\n",
      "[ Info: Arnoldi schursolve in iter 1, krylovdim = 23: 1 values converged, normres = (7.66e-26, 1.16e-10, 1.42e-10, 3.65e-10, 5.00e-10)\n",
      "[ Info: Arnoldi iteration step 24: normres = 0.012656207960715156\n",
      "[ Info: Arnoldi schursolve in iter 1, krylovdim = 24: 1 values converged, normres = (5.02e-28, 2.82e-12, 3.49e-12, 1.74e-09, 2.77e-09)\n",
      "[ Info: Arnoldi iteration step 25: normres = 0.06041040032137269\n",
      "[ Info: Arnoldi schursolve in iter 1, krylovdim = 25: 3 values converged, normres = (1.25e-29, 1.13e-13, 1.40e-13, 2.04e-04, 1.03e-04)\n",
      "[ Info: Arnoldi iteration step 26: normres = 0.04988869850329955\n",
      "[ Info: Arnoldi schursolve in iter 1, krylovdim = 26: 3 values converged, normres = (2.82e-31, 4.31e-15, 5.32e-15, 3.33e-09, 4.30e-09)\n",
      "[ Info: Arnoldi iteration step 27: normres = 0.0193931532349684\n",
      "[ Info: Arnoldi schursolve in iter 1, krylovdim = 27: 3 values converged, normres = (2.25e-33, 5.49e-17, 6.78e-17, 1.04e-07, 5.72e-08)\n",
      "[ Info: Arnoldi iteration step 28: normres = 0.08636981742284765\n",
      "[ Info: Arnoldi schursolve in iter 1, krylovdim = 28: 3 values converged, normres = (8.15e-35, 3.20e-18, 3.96e-18, 1.24e-09, 5.25e-09)\n",
      "[ Info: Arnoldi iteration step 29: normres = 0.027213999108726614\n",
      "[ Info: Arnoldi schursolve in iter 1, krylovdim = 29: 3 values converged, normres = (9.66e-37, 6.28e-20, 7.76e-20, 2.79e-11, 7.90e-11)\n",
      "[ Info: Arnoldi iteration step 30: normres = 0.07279615292604565\n",
      "[ Info: Arnoldi schursolve in iter 1, krylovdim = 30: 3 values converged, normres = (2.93e-38, 3.07e-21, 3.79e-21, 1.49e-12, 4.21e-12)\n",
      "[ Info: Arnoldi schursolve in iter 2, krylovdim = 19: 3 values converged, normres = (2.93e-38, 3.07e-21, 3.79e-21, 1.49e-12, 4.21e-12)\n",
      "[ Info: Arnoldi iteration step 20: normres = 0.15404079412220748\n",
      "┌ Info: Arnoldi eigsolve finished after 2 iterations:\n",
      "│ *  5 eigenvalues converged\n",
      "│ *  norm of residuals = (2.0007985650436192e-39, 3.499805509535503e-22, 5.563539050522961e-22, 1.890793615071925e-13, 5.561434059862221e-13)\n",
      "└ *  number of operations = 31\n"
     ]
    }
   ],
   "cell_type": "code",
   "source": [
    "eigsolve(eps_fun, randn(size(scfres.ρ)), 5, :LM; eager=true, verbosity=3);"
   ],
   "metadata": {},
   "execution_count": 3
  }
 ],
 "nbformat_minor": 3,
 "metadata": {
  "language_info": {
   "file_extension": ".jl",
   "mimetype": "application/julia",
   "name": "julia",
   "version": "1.8.2"
  },
  "kernelspec": {
   "name": "julia-1.8",
   "display_name": "Julia 1.8.2",
   "language": "julia"
  }
 },
 "nbformat": 4
}
