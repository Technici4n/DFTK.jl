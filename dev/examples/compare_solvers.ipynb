{
 "cells": [
  {
   "cell_type": "markdown",
   "source": [
    "# Comparison of DFT solvers"
   ],
   "metadata": {}
  },
  {
   "cell_type": "markdown",
   "source": [
    "We compare four different approaches for solving the DFT minimisation problem,\n",
    "namely a density-based SCF, a potential-based SCF, direct minimisation and Newton."
   ],
   "metadata": {}
  },
  {
   "cell_type": "markdown",
   "source": [
    "First we setup our problem"
   ],
   "metadata": {}
  },
  {
   "outputs": [],
   "cell_type": "code",
   "source": [
    "using DFTK\n",
    "using LinearAlgebra\n",
    "\n",
    "a = 10.26  # Silicon lattice constant in Bohr\n",
    "lattice = a / 2 * [[0 1 1.];\n",
    "                   [1 0 1.];\n",
    "                   [1 1 0.]]\n",
    "Si = ElementPsp(:Si, psp=load_psp(\"hgh/lda/Si-q4\"))\n",
    "atoms     = [Si, Si]\n",
    "positions = [ones(3)/8, -ones(3)/8]\n",
    "\n",
    "model = model_LDA(lattice, atoms, positions)\n",
    "basis = PlaneWaveBasis(model; Ecut=5, kgrid=[3, 3, 3])\n",
    "\n",
    "# Convergence we desire\n",
    "tol = 1e-12\n",
    "is_converged = DFTK.ScfConvergenceDensity(tol);"
   ],
   "metadata": {},
   "execution_count": 1
  },
  {
   "cell_type": "markdown",
   "source": [
    "## Density-based self-consistent field"
   ],
   "metadata": {}
  },
  {
   "outputs": [
    {
     "name": "stdout",
     "output_type": "stream",
     "text": [
      "n     Energy            log10(ΔE)   log10(Δρ)   Diag\n",
      "---   ---------------   ---------   ---------   ----\n",
      "  1   -7.846806406657                   -0.70    4.5\n",
      "  2   -7.852310407361       -2.26       -1.53    1.0\n",
      "  3   -7.852646183436       -3.47       -2.52    3.2\n",
      "  4   -7.852646677465       -6.31       -3.36    2.2\n",
      "  5   -7.852646685839       -8.08       -4.75    1.2\n",
      "  6   -7.852646686722       -9.05       -5.17    3.8\n",
      "  7   -7.852646686729      -11.13       -6.00    1.2\n",
      "  8   -7.852646686730      -12.37       -7.23    3.0\n",
      "  9   -7.852646686730   +    -Inf       -7.43    2.0\n",
      " 10   -7.852646686730   +  -14.57       -8.64    2.2\n",
      " 11   -7.852646686730      -14.45       -9.29    2.8\n",
      " 12   -7.852646686730   +  -14.57       -9.65    1.0\n",
      " 13   -7.852646686730      -14.75      -11.09    2.2\n",
      " 14   -7.852646686730   +  -14.45      -11.48    2.5\n",
      " 15   -7.852646686730      -14.45      -11.86    1.0\n",
      " 16   -7.852646686730      -14.75      -12.99    2.0\n"
     ]
    }
   ],
   "cell_type": "code",
   "source": [
    "scfres_scf = self_consistent_field(basis; is_converged);"
   ],
   "metadata": {},
   "execution_count": 2
  },
  {
   "cell_type": "markdown",
   "source": [
    "## Potential-based SCF"
   ],
   "metadata": {}
  },
  {
   "outputs": [
    {
     "name": "stdout",
     "output_type": "stream",
     "text": [
      "n     Energy            log10(ΔE)   log10(Δρ)   α      Diag\n",
      "---   ---------------   ---------   ---------   ----   ----\n",
      "  1   -7.846780735059                   -0.70           4.5\n",
      "  2   -7.852528717365       -2.24       -1.63   0.80    2.2\n",
      "  3   -7.852637335546       -3.96       -2.72   0.80    1.0\n",
      "  4   -7.852646478633       -5.04       -3.30   0.80    2.2\n",
      "  5   -7.852646668918       -6.72       -4.16   0.80    1.2\n",
      "  6   -7.852646686406       -7.76       -4.74   0.80    2.0\n",
      "  7   -7.852646686722       -9.50       -5.44   0.80    1.8\n",
      "  8   -7.852646686729      -11.14       -6.96   0.80    1.8\n",
      "  9   -7.852646686730      -12.24       -7.44   0.80    3.2\n",
      " 10   -7.852646686730      -14.45       -8.18   0.80    1.0\n",
      " 11   -7.852646686730   +  -14.75       -8.90   0.80    2.2\n",
      " 12   -7.852646686730      -14.75      -10.08   0.80    1.5\n",
      " 13   -7.852646686730   +  -14.45      -10.09   0.80    2.8\n",
      " 14   -7.852646686730      -14.35      -11.33   0.80    1.0\n",
      " 15   -7.852646686730   +  -14.57      -12.05   0.80    2.2\n"
     ]
    }
   ],
   "cell_type": "code",
   "source": [
    "scfres_scfv = DFTK.scf_potential_mixing(basis; is_converged);"
   ],
   "metadata": {},
   "execution_count": 3
  },
  {
   "cell_type": "markdown",
   "source": [
    "## Direct minimization"
   ],
   "metadata": {}
  },
  {
   "outputs": [
    {
     "name": "stdout",
     "output_type": "stream",
     "text": [
      "Iter     Function value   Gradient norm \n",
      "     0     1.390393e+01     4.287703e+00\n",
      " * time: 0.4995279312133789\n",
      "     1     1.390319e+00     2.163428e+00\n",
      " * time: 0.7428591251373291\n",
      "     2    -1.221357e+00     2.645623e+00\n",
      " * time: 0.7794439792633057\n",
      "     3    -3.698531e+00     1.838982e+00\n",
      " * time: 0.8236279487609863\n",
      "     4    -5.158562e+00     1.288749e+00\n",
      " * time: 0.981097936630249\n",
      "     5    -6.757979e+00     7.212761e-01\n",
      " * time: 1.016834020614624\n",
      "     6    -7.037047e+00     8.678223e-01\n",
      " * time: 1.0424089431762695\n",
      "     7    -7.438819e+00     4.668649e-01\n",
      " * time: 1.0689170360565186\n",
      "     8    -7.566091e+00     3.799257e-01\n",
      " * time: 1.0967421531677246\n",
      "     9    -7.654516e+00     1.459314e-01\n",
      " * time: 1.1224370002746582\n",
      "    10    -7.749618e+00     2.081613e-01\n",
      " * time: 1.14888596534729\n",
      "    11    -7.784286e+00     1.004705e-01\n",
      " * time: 1.1759650707244873\n",
      "    12    -7.818261e+00     7.277526e-02\n",
      " * time: 1.2054691314697266\n",
      "    13    -7.837797e+00     7.424505e-02\n",
      " * time: 1.234616994857788\n",
      "    14    -7.846245e+00     4.589991e-02\n",
      " * time: 1.2603421211242676\n",
      "    15    -7.849799e+00     2.771530e-02\n",
      " * time: 1.2865581512451172\n",
      "    16    -7.851406e+00     2.097636e-02\n",
      " * time: 1.3172190189361572\n",
      "    17    -7.852135e+00     1.294449e-02\n",
      " * time: 1.345595121383667\n",
      "    18    -7.852458e+00     7.564546e-03\n",
      " * time: 1.3715019226074219\n",
      "    19    -7.852581e+00     4.047124e-03\n",
      " * time: 1.3984100818634033\n",
      "    20    -7.852624e+00     2.872941e-03\n",
      " * time: 1.4283380508422852\n",
      "    21    -7.852638e+00     1.754410e-03\n",
      " * time: 1.4570090770721436\n",
      "    22    -7.852644e+00     1.001477e-03\n",
      " * time: 1.4834470748901367\n",
      "    23    -7.852646e+00     7.765491e-04\n",
      " * time: 1.5114901065826416\n",
      "    24    -7.852646e+00     3.200052e-04\n",
      " * time: 1.5383150577545166\n",
      "    25    -7.852647e+00     2.051153e-04\n",
      " * time: 1.5652000904083252\n",
      "    26    -7.852647e+00     1.437135e-04\n",
      " * time: 1.5919849872589111\n",
      "    27    -7.852647e+00     7.391154e-05\n",
      " * time: 1.619462013244629\n",
      "    28    -7.852647e+00     4.988497e-05\n",
      " * time: 1.6482000350952148\n",
      "    29    -7.852647e+00     2.191823e-05\n",
      " * time: 1.676501989364624\n",
      "    30    -7.852647e+00     1.506318e-05\n",
      " * time: 1.7045869827270508\n",
      "    31    -7.852647e+00     8.303158e-06\n",
      " * time: 1.7332639694213867\n",
      "    32    -7.852647e+00     5.907234e-06\n",
      " * time: 1.7633309364318848\n",
      "    33    -7.852647e+00     3.577787e-06\n",
      " * time: 1.7903940677642822\n",
      "    34    -7.852647e+00     1.683028e-06\n",
      " * time: 1.8211400508880615\n",
      "    35    -7.852647e+00     1.152639e-06\n",
      " * time: 1.8528521060943604\n",
      "    36    -7.852647e+00     5.756890e-07\n",
      " * time: 1.8823180198669434\n",
      "    37    -7.852647e+00     3.211166e-07\n",
      " * time: 1.9103939533233643\n",
      "    38    -7.852647e+00     1.668263e-07\n",
      " * time: 1.9378719329833984\n",
      "    39    -7.852647e+00     1.332378e-07\n",
      " * time: 1.965837001800537\n",
      "    40    -7.852647e+00     1.074211e-07\n",
      " * time: 1.9935500621795654\n",
      "    41    -7.852647e+00     4.772845e-08\n",
      " * time: 2.0224080085754395\n",
      "    42    -7.852647e+00     3.306129e-08\n",
      " * time: 2.052061080932617\n",
      "    43    -7.852647e+00     2.223892e-08\n",
      " * time: 2.079030990600586\n",
      "    44    -7.852647e+00     1.238972e-08\n",
      " * time: 2.1074559688568115\n",
      "    45    -7.852647e+00     9.613451e-09\n",
      " * time: 2.135807991027832\n",
      "    46    -7.852647e+00     6.712772e-09\n",
      " * time: 2.164273977279663\n",
      "    47    -7.852647e+00     6.696387e-09\n",
      " * time: 2.2260091304779053\n",
      "    48    -7.852647e+00     6.695390e-09\n",
      " * time: 2.3004729747772217\n"
     ]
    }
   ],
   "cell_type": "code",
   "source": [
    "scfres_dm = direct_minimization(basis; tol);"
   ],
   "metadata": {},
   "execution_count": 4
  },
  {
   "cell_type": "markdown",
   "source": [
    "## Newton algorithm"
   ],
   "metadata": {}
  },
  {
   "cell_type": "markdown",
   "source": [
    "Start not too far from the solution to ensure convergence:\n",
    "We run first a very crude SCF to get close and then switch to Newton."
   ],
   "metadata": {}
  },
  {
   "outputs": [
    {
     "name": "stdout",
     "output_type": "stream",
     "text": [
      "n     Energy            log10(ΔE)   log10(Δρ)   Diag\n",
      "---   ---------------   ---------   ---------   ----\n",
      "  1   -7.846873040182                   -0.70    4.5\n",
      "  2   -7.852328673684       -2.26       -1.53    1.0\n"
     ]
    }
   ],
   "cell_type": "code",
   "source": [
    "scfres_start = self_consistent_field(basis; tol=1e-1);"
   ],
   "metadata": {},
   "execution_count": 5
  },
  {
   "cell_type": "markdown",
   "source": [
    "Remove the virtual orbitals (which Newton cannot treat yet)"
   ],
   "metadata": {}
  },
  {
   "outputs": [
    {
     "name": "stdout",
     "output_type": "stream",
     "text": [
      "n     Energy            log10(ΔE)   log10(Δρ)\n",
      "---   ---------------   ---------   ---------\n",
      "  1   -7.852646686715                   -2.55\n",
      "  2   -7.852646686730      -10.82       -6.06\n",
      "  3   -7.852646686730   +    -Inf      -12.70\n"
     ]
    }
   ],
   "cell_type": "code",
   "source": [
    "ψ = DFTK.select_occupied_orbitals(basis, scfres_start.ψ, scfres_start.occupation).ψ\n",
    "scfres_newton = newton(basis, ψ; tol);"
   ],
   "metadata": {},
   "execution_count": 6
  },
  {
   "cell_type": "markdown",
   "source": [
    "## Comparison of results"
   ],
   "metadata": {}
  },
  {
   "outputs": [
    {
     "name": "stdout",
     "output_type": "stream",
     "text": [
      "|ρ_newton - ρ_scf|  = 2.2244577738934477e-14\n",
      "|ρ_newton - ρ_scfv| = 1.4888816236277857e-12\n",
      "|ρ_newton - ρ_dm|   = 6.129512244043496e-10\n"
     ]
    }
   ],
   "cell_type": "code",
   "source": [
    "println(\"|ρ_newton - ρ_scf|  = \", norm(scfres_newton.ρ - scfres_scf.ρ))\n",
    "println(\"|ρ_newton - ρ_scfv| = \", norm(scfres_newton.ρ - scfres_scfv.ρ))\n",
    "println(\"|ρ_newton - ρ_dm|   = \", norm(scfres_newton.ρ - scfres_dm.ρ))"
   ],
   "metadata": {},
   "execution_count": 7
  }
 ],
 "nbformat_minor": 3,
 "metadata": {
  "language_info": {
   "file_extension": ".jl",
   "mimetype": "application/julia",
   "name": "julia",
   "version": "1.8.3"
  },
  "kernelspec": {
   "name": "julia-1.8",
   "display_name": "Julia 1.8.3",
   "language": "julia"
  }
 },
 "nbformat": 4
}
