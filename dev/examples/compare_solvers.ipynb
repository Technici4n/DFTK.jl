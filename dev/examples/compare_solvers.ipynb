{
 "cells": [
  {
   "cell_type": "markdown",
   "source": [
    "# Comparison of DFT solvers"
   ],
   "metadata": {}
  },
  {
   "cell_type": "markdown",
   "source": [
    "We compare four different approaches for solving the DFT minimisation problem,\n",
    "namely a density-based SCF, a potential-based SCF, direct minimisation and Newton."
   ],
   "metadata": {}
  },
  {
   "cell_type": "markdown",
   "source": [
    "First we setup our problem"
   ],
   "metadata": {}
  },
  {
   "outputs": [
    {
     "output_type": "execute_result",
     "data": {
      "text/plain": "1.0e-6"
     },
     "metadata": {},
     "execution_count": 1
    }
   ],
   "cell_type": "code",
   "source": [
    "using DFTK\n",
    "using LinearAlgebra\n",
    "\n",
    "a = 10.26  # Silicon lattice constant in Bohr\n",
    "lattice = a / 2 * [[0 1 1.];\n",
    "                   [1 0 1.];\n",
    "                   [1 1 0.]]\n",
    "Si = ElementPsp(:Si, psp=load_psp(\"hgh/lda/Si-q4\"))\n",
    "atoms     = [Si, Si]\n",
    "positions = [ones(3)/8, -ones(3)/8]\n",
    "\n",
    "model = model_LDA(lattice, atoms, positions)\n",
    "basis = PlaneWaveBasis(model; Ecut=5, kgrid=[3, 3, 3])\n",
    "\n",
    "# Convergence we desire in the density\n",
    "tol = 1e-6"
   ],
   "metadata": {},
   "execution_count": 1
  },
  {
   "cell_type": "markdown",
   "source": [
    "## Density-based self-consistent field"
   ],
   "metadata": {}
  },
  {
   "outputs": [
    {
     "name": "stdout",
     "output_type": "stream",
     "text": [
      "n     Energy            log10(ΔE)   log10(Δρ)   Diag   Δtime\n",
      "---   ---------------   ---------   ---------   ----   ------\n",
      "  1   -7.846800451228                   -0.70    4.5         \n",
      "  2   -7.852311551617       -2.26       -1.53    1.0   24.9ms\n",
      "  3   -7.852614380603       -3.52       -2.56    1.5   86.7ms\n",
      "  4   -7.852645937001       -4.50       -2.87    2.8   34.0ms\n",
      "  5   -7.852646468710       -6.27       -3.13    1.2   25.8ms\n",
      "  6   -7.852646679725       -6.68       -4.17    1.0   24.7ms\n",
      "  7   -7.852646686695       -8.16       -5.12    2.2   33.1ms\n",
      "  8   -7.852646686726      -10.50       -5.53    1.5   28.8ms\n",
      "  9   -7.852646686726   +  -12.22       -5.44    1.2   27.1ms\n",
      " 10   -7.852646686730      -11.40       -6.74    1.0   25.7ms\n"
     ]
    }
   ],
   "cell_type": "code",
   "source": [
    "scfres_scf = self_consistent_field(basis; tol);"
   ],
   "metadata": {},
   "execution_count": 2
  },
  {
   "cell_type": "markdown",
   "source": [
    "## Potential-based SCF"
   ],
   "metadata": {}
  },
  {
   "outputs": [
    {
     "name": "stdout",
     "output_type": "stream",
     "text": [
      "n     Energy            log10(ΔE)   log10(Δρ)   α      Diag   Δtime\n",
      "---   ---------------   ---------   ---------   ----   ----   ------\n",
      "  1   -7.846802155537                   -0.70           4.5         \n",
      "  2   -7.852553311921       -2.24       -1.63   0.80    2.2    280ms\n",
      "  3   -7.852639246220       -4.07       -2.74   0.80    1.0   23.1ms\n",
      "  4   -7.852646499172       -5.14       -3.37   0.80    2.0   28.7ms\n",
      "  5   -7.852646678452       -6.75       -4.27   0.80    1.8   27.4ms\n",
      "  6   -7.852646686605       -8.09       -4.79   0.80    2.2   30.8ms\n",
      "  7   -7.852646686720       -9.94       -5.59   0.80    1.2   25.0ms\n",
      "  8   -7.852646686730      -11.03       -6.29   0.80    2.0   29.3ms\n"
     ]
    }
   ],
   "cell_type": "code",
   "source": [
    "scfres_scfv = DFTK.scf_potential_mixing(basis; tol);"
   ],
   "metadata": {},
   "execution_count": 3
  },
  {
   "cell_type": "markdown",
   "source": [
    "## Direct minimization\n",
    "Note: Unlike the other algorithms, tolerance for this one is in the energy,\n",
    "thus we square the density tolerance value to be roughly equivalent."
   ],
   "metadata": {}
  },
  {
   "outputs": [
    {
     "name": "stdout",
     "output_type": "stream",
     "text": [
      "Iter     Function value   Gradient norm \n",
      "     0     1.398744e+01     3.401080e+00\n",
      " * time: 0.40676212310791016\n",
      "     1     1.607735e+00     1.487794e+00\n",
      " * time: 0.6094880104064941\n",
      "     2    -1.464614e+00     1.795400e+00\n",
      " * time: 0.6332619190216064\n",
      "     3    -3.818594e+00     1.657837e+00\n",
      " * time: 0.6671810150146484\n",
      "     4    -5.239990e+00     1.364904e+00\n",
      " * time: 0.7010130882263184\n",
      "     5    -6.820457e+00     9.995439e-01\n",
      " * time: 0.7349460124969482\n",
      "     6    -7.434940e+00     3.538301e-01\n",
      " * time: 0.7687890529632568\n",
      "     7    -7.648126e+00     1.275642e-01\n",
      " * time: 0.7923500537872314\n",
      "     8    -7.738218e+00     1.570176e-01\n",
      " * time: 0.8159260749816895\n",
      "     9    -7.785697e+00     8.707863e-02\n",
      " * time: 0.839616060256958\n",
      "    10    -7.817463e+00     7.627000e-02\n",
      " * time: 0.8635361194610596\n",
      "    11    -7.834654e+00     6.543163e-02\n",
      " * time: 0.8874509334564209\n",
      "    12    -7.844786e+00     4.499375e-02\n",
      " * time: 0.9115350246429443\n",
      "    13    -7.849162e+00     4.490726e-02\n",
      " * time: 0.9354639053344727\n",
      "    14    -7.851170e+00     3.007119e-02\n",
      " * time: 0.9597620964050293\n",
      "    15    -7.852037e+00     1.045896e-02\n",
      " * time: 0.983626127243042\n",
      "    16    -7.852430e+00     8.896991e-03\n",
      " * time: 1.0075750350952148\n",
      "    17    -7.852581e+00     5.146350e-03\n",
      " * time: 1.0319321155548096\n",
      "    18    -7.852626e+00     2.506150e-03\n",
      " * time: 1.0561020374298096\n",
      "    19    -7.852638e+00     1.276311e-03\n",
      " * time: 1.0809171199798584\n",
      "    20    -7.852643e+00     9.079789e-04\n",
      " * time: 1.1051490306854248\n",
      "    21    -7.852646e+00     6.193475e-04\n",
      " * time: 1.129127025604248\n",
      "    22    -7.852646e+00     5.003987e-04\n",
      " * time: 1.153352975845337\n",
      "    23    -7.852647e+00     1.758293e-04\n",
      " * time: 1.177098035812378\n",
      "    24    -7.852647e+00     1.269740e-04\n",
      " * time: 1.2007880210876465\n",
      "    25    -7.852647e+00     7.824438e-05\n",
      " * time: 1.2875139713287354\n",
      "    26    -7.852647e+00     6.027758e-05\n",
      " * time: 1.3113560676574707\n",
      "    27    -7.852647e+00     3.466267e-05\n",
      " * time: 1.3356239795684814\n",
      "    28    -7.852647e+00     1.318880e-05\n",
      " * time: 1.3595280647277832\n",
      "    29    -7.852647e+00     7.652333e-06\n",
      " * time: 1.3837530612945557\n",
      "    30    -7.852647e+00     4.559885e-06\n",
      " * time: 1.4077720642089844\n",
      "    31    -7.852647e+00     2.465747e-06\n",
      " * time: 1.4313130378723145\n",
      "    32    -7.852647e+00     1.423402e-06\n",
      " * time: 1.455277919769287\n",
      "    33    -7.852647e+00     7.579476e-07\n",
      " * time: 1.478943109512329\n",
      "    34    -7.852647e+00     5.873915e-07\n",
      " * time: 1.5026280879974365\n",
      "    35    -7.852647e+00     3.957766e-07\n",
      " * time: 1.526494026184082\n",
      "    36    -7.852647e+00     2.258321e-07\n",
      " * time: 1.5501630306243896\n",
      "    37    -7.852647e+00     1.459068e-07\n",
      " * time: 1.5740220546722412\n",
      "    38    -7.852647e+00     1.328820e-07\n",
      " * time: 1.5981309413909912\n",
      "    39    -7.852647e+00     7.950632e-08\n",
      " * time: 1.6224420070648193\n",
      "    40    -7.852647e+00     3.745507e-08\n",
      " * time: 1.646592140197754\n",
      "    41    -7.852647e+00     2.112307e-08\n",
      " * time: 1.6708879470825195\n",
      "    42    -7.852647e+00     1.734490e-08\n",
      " * time: 1.6945679187774658\n",
      "    43    -7.852647e+00     1.003067e-08\n",
      " * time: 1.7185759544372559\n",
      "    44    -7.852647e+00     5.033649e-09\n",
      " * time: 1.7423160076141357\n",
      "    45    -7.852647e+00     2.310509e-09\n",
      " * time: 1.766247034072876\n",
      "    46    -7.852647e+00     2.307941e-09\n",
      " * time: 1.8215630054473877\n",
      "    47    -7.852647e+00     2.307941e-09\n",
      " * time: 1.9298090934753418\n"
     ]
    }
   ],
   "cell_type": "code",
   "source": [
    "scfres_dm = direct_minimization(basis; tol=tol^2);"
   ],
   "metadata": {},
   "execution_count": 4
  },
  {
   "cell_type": "markdown",
   "source": [
    "## Newton algorithm"
   ],
   "metadata": {}
  },
  {
   "cell_type": "markdown",
   "source": [
    "Start not too far from the solution to ensure convergence:\n",
    "We run first a very crude SCF to get close and then switch to Newton."
   ],
   "metadata": {}
  },
  {
   "outputs": [
    {
     "name": "stdout",
     "output_type": "stream",
     "text": [
      "n     Energy            log10(ΔE)   log10(Δρ)   Diag   Δtime\n",
      "---   ---------------   ---------   ---------   ----   ------\n",
      "  1   -7.846858817110                   -0.70    4.8         \n"
     ]
    }
   ],
   "cell_type": "code",
   "source": [
    "scfres_start = self_consistent_field(basis; tol=0.5);"
   ],
   "metadata": {},
   "execution_count": 5
  },
  {
   "cell_type": "markdown",
   "source": [
    "Remove the virtual orbitals (which Newton cannot treat yet)"
   ],
   "metadata": {}
  },
  {
   "outputs": [
    {
     "name": "stdout",
     "output_type": "stream",
     "text": [
      "n     Energy            log10(ΔE)   log10(Δρ)   Δtime\n",
      "---   ---------------   ---------   ---------   ------\n",
      "  1   -7.852645915143                   -1.64         \n",
      "  2   -7.852646686730       -6.11       -3.71    1.70s\n",
      "  3   -7.852646686730      -13.34       -7.25    171ms\n"
     ]
    }
   ],
   "cell_type": "code",
   "source": [
    "ψ = DFTK.select_occupied_orbitals(basis, scfres_start.ψ, scfres_start.occupation).ψ\n",
    "scfres_newton = newton(basis, ψ; tol);"
   ],
   "metadata": {},
   "execution_count": 6
  },
  {
   "cell_type": "markdown",
   "source": [
    "## Comparison of results"
   ],
   "metadata": {}
  },
  {
   "outputs": [
    {
     "name": "stdout",
     "output_type": "stream",
     "text": [
      "|ρ_newton - ρ_scf|  = 3.455585237044646e-7\n",
      "|ρ_newton - ρ_scfv| = 8.158059527326041e-8\n",
      "|ρ_newton - ρ_dm|   = 6.269029354273328e-10\n"
     ]
    }
   ],
   "cell_type": "code",
   "source": [
    "println(\"|ρ_newton - ρ_scf|  = \", norm(scfres_newton.ρ - scfres_scf.ρ))\n",
    "println(\"|ρ_newton - ρ_scfv| = \", norm(scfres_newton.ρ - scfres_scfv.ρ))\n",
    "println(\"|ρ_newton - ρ_dm|   = \", norm(scfres_newton.ρ - scfres_dm.ρ))"
   ],
   "metadata": {},
   "execution_count": 7
  }
 ],
 "nbformat_minor": 3,
 "metadata": {
  "language_info": {
   "file_extension": ".jl",
   "mimetype": "application/julia",
   "name": "julia",
   "version": "1.8.5"
  },
  "kernelspec": {
   "name": "julia-1.8",
   "display_name": "Julia 1.8.5",
   "language": "julia"
  }
 },
 "nbformat": 4
}
