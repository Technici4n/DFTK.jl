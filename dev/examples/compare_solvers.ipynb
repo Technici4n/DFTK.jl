{
 "cells": [
  {
   "cell_type": "markdown",
   "source": [
    "# Comparison of DFT solvers"
   ],
   "metadata": {}
  },
  {
   "cell_type": "markdown",
   "source": [
    "We compare four different approaches for solving the DFT minimisation problem,\n",
    "namely a density-based SCF, a potential-based SCF, direct minimisation and Newton."
   ],
   "metadata": {}
  },
  {
   "cell_type": "markdown",
   "source": [
    "First we setup our problem"
   ],
   "metadata": {}
  },
  {
   "outputs": [
    {
     "output_type": "execute_result",
     "data": {
      "text/plain": "1.0e-6"
     },
     "metadata": {},
     "execution_count": 1
    }
   ],
   "cell_type": "code",
   "source": [
    "using DFTK\n",
    "using LinearAlgebra\n",
    "\n",
    "a = 10.26  # Silicon lattice constant in Bohr\n",
    "lattice = a / 2 * [[0 1 1.];\n",
    "                   [1 0 1.];\n",
    "                   [1 1 0.]]\n",
    "Si = ElementPsp(:Si, psp=load_psp(\"hgh/lda/Si-q4\"))\n",
    "atoms     = [Si, Si]\n",
    "positions = [ones(3)/8, -ones(3)/8]\n",
    "\n",
    "model = model_LDA(lattice, atoms, positions)\n",
    "basis = PlaneWaveBasis(model; Ecut=5, kgrid=[3, 3, 3])\n",
    "\n",
    "# Convergence we desire in the density\n",
    "tol = 1e-6"
   ],
   "metadata": {},
   "execution_count": 1
  },
  {
   "cell_type": "markdown",
   "source": [
    "## Density-based self-consistent field"
   ],
   "metadata": {}
  },
  {
   "outputs": [
    {
     "name": "stdout",
     "output_type": "stream",
     "text": [
      "n     Energy            log10(ΔE)   log10(Δρ)   Diag   Δtime\n",
      "---   ---------------   ---------   ---------   ----   ------\n",
      "  1   -7.846703790379                   -0.70    4.8         \n",
      "  2   -7.852307383898       -2.25       -1.53    1.0   22.8ms\n",
      "  3   -7.852612526772       -3.52       -2.56    1.5   26.1ms\n",
      "  4   -7.852645904623       -4.48       -2.88    2.2   29.3ms\n",
      "  5   -7.852646478146       -6.24       -3.15    1.0   23.4ms\n",
      "  6   -7.852646679777       -6.70       -4.13    1.2   23.7ms\n",
      "  7   -7.852646686574       -8.17       -4.96    2.0   28.9ms\n",
      "  8   -7.852646686720       -9.84       -5.31    1.8   27.8ms\n",
      "  9   -7.852646686729      -11.02       -5.90    1.0   85.5ms\n",
      " 10   -7.852646686730      -12.32       -6.27    1.2   26.0ms\n"
     ]
    }
   ],
   "cell_type": "code",
   "source": [
    "scfres_scf = self_consistent_field(basis; tol);"
   ],
   "metadata": {},
   "execution_count": 2
  },
  {
   "cell_type": "markdown",
   "source": [
    "## Potential-based SCF"
   ],
   "metadata": {}
  },
  {
   "outputs": [
    {
     "name": "stdout",
     "output_type": "stream",
     "text": [
      "n     Energy            log10(ΔE)   log10(Δρ)   α      Diag   Δtime\n",
      "---   ---------------   ---------   ---------   ----   ----   ------\n",
      "  1   -7.846782654419                   -0.70           4.5         \n",
      "  2   -7.852524615067       -2.24       -1.63   0.80    2.0    250ms\n",
      "  3   -7.852636170152       -3.95       -2.70   0.80    1.0   21.6ms\n",
      "  4   -7.852646264045       -5.00       -3.31   0.80    2.2   27.5ms\n",
      "  5   -7.852646681849       -6.38       -4.12   0.80    1.8   25.7ms\n",
      "  6   -7.852646686386       -8.34       -4.76   0.80    1.2   22.2ms\n",
      "  7   -7.852646686720       -9.48       -5.80   0.80    1.8   25.8ms\n",
      "  8   -7.852646686730      -11.01       -6.35   0.80    1.8   26.0ms\n"
     ]
    }
   ],
   "cell_type": "code",
   "source": [
    "scfres_scfv = DFTK.scf_potential_mixing(basis; tol);"
   ],
   "metadata": {},
   "execution_count": 3
  },
  {
   "cell_type": "markdown",
   "source": [
    "## Direct minimization\n",
    "Note: Unlike the other algorithms, tolerance for this one is in the energy,\n",
    "thus we square the density tolerance value to be roughly equivalent."
   ],
   "metadata": {}
  },
  {
   "outputs": [
    {
     "name": "stdout",
     "output_type": "stream",
     "text": [
      "Iter     Function value   Gradient norm \n",
      "     0     1.400173e+01     3.590417e+00\n",
      " * time: 0.41134095191955566\n",
      "     1     1.171274e+00     1.763443e+00\n",
      " * time: 0.6031489372253418\n",
      "     2    -1.421264e+00     2.010111e+00\n",
      " * time: 0.6258900165557861\n",
      "     3    -3.672746e+00     1.675896e+00\n",
      " * time: 0.657958984375\n",
      "     4    -4.965341e+00     1.434118e+00\n",
      " * time: 0.689906120300293\n",
      "     5    -6.792384e+00     1.181156e+00\n",
      " * time: 0.7218360900878906\n",
      "     6    -7.454613e+00     6.938047e-01\n",
      " * time: 0.7539451122283936\n",
      "     7    -7.696137e+00     5.439011e-01\n",
      " * time: 0.776515007019043\n",
      "     8    -7.797735e+00     9.156979e-02\n",
      " * time: 0.7990190982818604\n",
      "     9    -7.825735e+00     1.785446e-01\n",
      " * time: 0.8214120864868164\n",
      "    10    -7.840375e+00     4.938362e-02\n",
      " * time: 0.8437061309814453\n",
      "    11    -7.847895e+00     2.530615e-02\n",
      " * time: 0.8659601211547852\n",
      "    12    -7.851461e+00     1.699257e-02\n",
      " * time: 0.8882341384887695\n",
      "    13    -7.852280e+00     7.664682e-03\n",
      " * time: 0.910797119140625\n",
      "    14    -7.852494e+00     5.690158e-03\n",
      " * time: 0.9331481456756592\n",
      "    15    -7.852590e+00     3.704253e-03\n",
      " * time: 0.9557490348815918\n",
      "    16    -7.852626e+00     2.451164e-03\n",
      " * time: 0.9782869815826416\n",
      "    17    -7.852641e+00     1.004114e-03\n",
      " * time: 1.0007059574127197\n",
      "    18    -7.852645e+00     5.679713e-04\n",
      " * time: 1.0232689380645752\n",
      "    19    -7.852646e+00     2.757492e-04\n",
      " * time: 1.0461530685424805\n",
      "    20    -7.852646e+00     1.767391e-04\n",
      " * time: 1.068444013595581\n",
      "    21    -7.852647e+00     1.034534e-04\n",
      " * time: 1.0913329124450684\n",
      "    22    -7.852647e+00     5.879507e-05\n",
      " * time: 1.1135759353637695\n",
      "    23    -7.852647e+00     3.498902e-05\n",
      " * time: 1.1358871459960938\n",
      "    24    -7.852647e+00     2.273225e-05\n",
      " * time: 1.1582119464874268\n",
      "    25    -7.852647e+00     1.126438e-05\n",
      " * time: 1.1811749935150146\n",
      "    26    -7.852647e+00     8.218189e-06\n",
      " * time: 1.2034709453582764\n",
      "    27    -7.852647e+00     3.432672e-06\n",
      " * time: 1.2257919311523438\n",
      "    28    -7.852647e+00     1.892340e-06\n",
      " * time: 1.24812912940979\n",
      "    29    -7.852647e+00     1.195791e-06\n",
      " * time: 1.2704060077667236\n",
      "    30    -7.852647e+00     7.363471e-07\n",
      " * time: 1.2930419445037842\n",
      "    31    -7.852647e+00     3.847504e-07\n",
      " * time: 1.315704107284546\n",
      "    32    -7.852647e+00     1.914088e-07\n",
      " * time: 1.3382821083068848\n",
      "    33    -7.852647e+00     1.243122e-07\n",
      " * time: 1.360835075378418\n",
      "    34    -7.852647e+00     6.777229e-08\n",
      " * time: 1.3836281299591064\n",
      "    35    -7.852647e+00     4.230736e-08\n",
      " * time: 1.406144142150879\n",
      "    36    -7.852647e+00     2.497540e-08\n",
      " * time: 1.4288029670715332\n",
      "    37    -7.852647e+00     1.358190e-08\n",
      " * time: 1.4512760639190674\n",
      "    38    -7.852647e+00     1.358116e-08\n",
      " * time: 1.579559087753296\n",
      "    39    -7.852647e+00     4.543873e-09\n",
      " * time: 1.601835012435913\n",
      "    40    -7.852647e+00     4.363695e-09\n",
      " * time: 1.6435611248016357\n",
      "    41    -7.852647e+00     3.898307e-09\n",
      " * time: 1.675713062286377\n",
      "    42    -7.852647e+00     1.481121e-09\n",
      " * time: 1.6980040073394775\n",
      "    43    -7.852647e+00     1.480983e-09\n",
      " * time: 1.7596991062164307\n"
     ]
    }
   ],
   "cell_type": "code",
   "source": [
    "scfres_dm = direct_minimization(basis; tol=tol^2);"
   ],
   "metadata": {},
   "execution_count": 4
  },
  {
   "cell_type": "markdown",
   "source": [
    "## Newton algorithm"
   ],
   "metadata": {}
  },
  {
   "cell_type": "markdown",
   "source": [
    "Start not too far from the solution to ensure convergence:\n",
    "We run first a very crude SCF to get close and then switch to Newton."
   ],
   "metadata": {}
  },
  {
   "outputs": [
    {
     "name": "stdout",
     "output_type": "stream",
     "text": [
      "n     Energy            log10(ΔE)   log10(Δρ)   Diag   Δtime\n",
      "---   ---------------   ---------   ---------   ----   ------\n",
      "  1   -7.846831147749                   -0.70    4.5         \n"
     ]
    }
   ],
   "cell_type": "code",
   "source": [
    "scfres_start = self_consistent_field(basis; tol=0.5);"
   ],
   "metadata": {},
   "execution_count": 5
  },
  {
   "cell_type": "markdown",
   "source": [
    "Remove the virtual orbitals (which Newton cannot treat yet)"
   ],
   "metadata": {}
  },
  {
   "outputs": [
    {
     "name": "stdout",
     "output_type": "stream",
     "text": [
      "n     Energy            log10(ΔE)   log10(Δρ)   Δtime\n",
      "---   ---------------   ---------   ---------   ------\n",
      "  1   -7.852645894380                   -1.64         \n",
      "  2   -7.852646686730       -6.10       -3.71    1.53s\n",
      "  3   -7.852646686730      -13.27       -7.24    157ms\n"
     ]
    }
   ],
   "cell_type": "code",
   "source": [
    "ψ = DFTK.select_occupied_orbitals(basis, scfres_start.ψ, scfres_start.occupation).ψ\n",
    "scfres_newton = newton(basis, ψ; tol);"
   ],
   "metadata": {},
   "execution_count": 6
  },
  {
   "cell_type": "markdown",
   "source": [
    "## Comparison of results"
   ],
   "metadata": {}
  },
  {
   "outputs": [
    {
     "name": "stdout",
     "output_type": "stream",
     "text": [
      "|ρ_newton - ρ_scf|  = 4.549172874404912e-7\n",
      "|ρ_newton - ρ_scfv| = 1.2440369318549612e-7\n",
      "|ρ_newton - ρ_dm|   = 5.812157514816788e-10\n"
     ]
    }
   ],
   "cell_type": "code",
   "source": [
    "println(\"|ρ_newton - ρ_scf|  = \", norm(scfres_newton.ρ - scfres_scf.ρ))\n",
    "println(\"|ρ_newton - ρ_scfv| = \", norm(scfres_newton.ρ - scfres_scfv.ρ))\n",
    "println(\"|ρ_newton - ρ_dm|   = \", norm(scfres_newton.ρ - scfres_dm.ρ))"
   ],
   "metadata": {},
   "execution_count": 7
  }
 ],
 "nbformat_minor": 3,
 "metadata": {
  "language_info": {
   "file_extension": ".jl",
   "mimetype": "application/julia",
   "name": "julia",
   "version": "1.8.5"
  },
  "kernelspec": {
   "name": "julia-1.8",
   "display_name": "Julia 1.8.5",
   "language": "julia"
  }
 },
 "nbformat": 4
}
