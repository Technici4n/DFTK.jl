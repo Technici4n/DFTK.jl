{
 "cells": [
  {
   "cell_type": "markdown",
   "source": [
    "# Eigenvalues of the dielectric matrix\n",
    "\n",
    "We compute a few eigenvalues of the dielectric matrix ($q=0$, $ω=0$) iteratively."
   ],
   "metadata": {}
  },
  {
   "outputs": [
    {
     "name": "stdout",
     "output_type": "stream",
     "text": [
      "n     Energy            log10(ΔE)   log10(Δρ)   Diag   Δtime\n",
      "---   ---------------   ---------   ---------   ----   ------\n",
      "  1   -7.234079180039                   -0.50    7.0         \n",
      "  2   -7.250205314131       -1.79       -1.40    1.0   8.09ms\n",
      "  3   -7.251164179010       -3.02       -2.20    1.0   8.00ms\n",
      "  4   -7.251279655437       -3.94       -2.22    2.0   9.70ms\n",
      "  5   -7.251333123833       -4.27       -2.68    1.0   7.97ms\n",
      "  6   -7.251338230701       -5.29       -3.24    1.0   8.01ms\n",
      "  7   -7.251338748521       -6.29       -3.64    2.0   9.60ms\n",
      "  8   -7.251338789414       -7.39       -4.02    1.0   8.20ms\n",
      "  9   -7.251338797339       -8.10       -4.52    1.0   8.25ms\n",
      " 10   -7.251338798612       -8.90       -5.03    2.0   9.89ms\n",
      " 11   -7.251338798695      -10.08       -5.73    1.0   8.97ms\n",
      " 12   -7.251338798702      -11.18       -5.80    3.0   12.1ms\n",
      " 13   -7.251338798704      -11.60       -6.22    1.0   8.81ms\n",
      " 14   -7.251338798704      -12.42       -6.63    2.0   10.3ms\n",
      " 15   -7.251338798705      -13.21       -7.27    1.0   8.59ms\n",
      " 16   -7.251338798705      -14.21       -7.62    2.0   10.0ms\n",
      " 17   -7.251338798705   +  -15.05       -7.98    2.0   10.1ms\n",
      " 18   -7.251338798705   +  -15.05       -8.60    1.0   8.48ms\n"
     ]
    }
   ],
   "cell_type": "code",
   "source": [
    "using DFTK\n",
    "using Plots\n",
    "using KrylovKit\n",
    "using Printf\n",
    "\n",
    "# Calculation parameters\n",
    "kgrid = [1, 1, 1]\n",
    "Ecut = 5\n",
    "\n",
    "# Silicon lattice\n",
    "a = 10.26\n",
    "lattice = a / 2 .* [[0 1 1.]; [1 0 1.]; [1 1 0.]]\n",
    "Si = ElementPsp(:Si, psp=load_psp(\"hgh/lda/Si-q4\"))\n",
    "atoms     = [Si, Si]\n",
    "positions = [ones(3)/8, -ones(3)/8]\n",
    "\n",
    "# Compute the dielectric operator without symmetries\n",
    "model  = model_LDA(lattice, atoms, positions, symmetries=false)\n",
    "basis  = PlaneWaveBasis(model; Ecut, kgrid)\n",
    "scfres = self_consistent_field(basis, tol=1e-8);"
   ],
   "metadata": {},
   "execution_count": 1
  },
  {
   "cell_type": "markdown",
   "source": [
    "Applying $ε^† ≔ (1- χ_0 K)$ …"
   ],
   "metadata": {}
  },
  {
   "outputs": [],
   "cell_type": "code",
   "source": [
    "function eps_fun(δρ)\n",
    "    δV = apply_kernel(basis, δρ; ρ=scfres.ρ)\n",
    "    χ0δV = apply_χ0(scfres, δV)\n",
    "    δρ - χ0δV\n",
    "end;"
   ],
   "metadata": {},
   "execution_count": 2
  },
  {
   "cell_type": "markdown",
   "source": [
    "… eagerly diagonalizes the subspace matrix at each iteration"
   ],
   "metadata": {}
  },
  {
   "outputs": [
    {
     "name": "stdout",
     "output_type": "stream",
     "text": [
      "[ Info: Arnoldi iteration step 1: normres = 0.043612459990155304\n",
      "[ Info: Arnoldi iteration step 2: normres = 0.38688212677679984\n",
      "[ Info: Arnoldi iteration step 3: normres = 0.7006995498786475\n",
      "[ Info: Arnoldi iteration step 4: normres = 0.5138614746166312\n",
      "[ Info: Arnoldi iteration step 5: normres = 0.18821166807851542\n",
      "[ Info: Arnoldi schursolve in iter 1, krylovdim = 5: 0 values converged, normres = (4.29e-02, 1.81e-02, 1.52e-01, 9.54e-02, 3.04e-02)\n",
      "[ Info: Arnoldi iteration step 6: normres = 0.5820801896766755\n",
      "[ Info: Arnoldi schursolve in iter 1, krylovdim = 6: 0 values converged, normres = (1.41e-02, 1.23e-02, 5.37e-01, 1.92e-01, 6.90e-02)\n",
      "[ Info: Arnoldi iteration step 7: normres = 0.10334869765680543\n",
      "[ Info: Arnoldi schursolve in iter 1, krylovdim = 7: 0 values converged, normres = (1.07e-03, 5.53e-03, 7.71e-02, 3.24e-02, 5.02e-02)\n",
      "[ Info: Arnoldi iteration step 8: normres = 0.08763118398210602\n",
      "[ Info: Arnoldi schursolve in iter 1, krylovdim = 8: 0 values converged, normres = (3.99e-05, 3.39e-04, 5.12e-03, 7.61e-03, 3.59e-02)\n",
      "[ Info: Arnoldi iteration step 9: normres = 0.07452620206201646\n",
      "[ Info: Arnoldi schursolve in iter 1, krylovdim = 9: 0 values converged, normres = (1.30e-06, 1.83e-05, 3.07e-04, 2.06e-03, 4.92e-02)\n",
      "[ Info: Arnoldi iteration step 10: normres = 0.11094839666381581\n",
      "[ Info: Arnoldi schursolve in iter 1, krylovdim = 10: 0 values converged, normres = (6.28e-08, 1.47e-06, 2.74e-05, 8.07e-04, 5.68e-02)\n",
      "[ Info: Arnoldi iteration step 11: normres = 0.07077130882343789\n",
      "[ Info: Arnoldi schursolve in iter 1, krylovdim = 11: 0 values converged, normres = (1.94e-09, 7.50e-08, 1.56e-06, 2.12e-04, 3.57e-02)\n",
      "[ Info: Arnoldi iteration step 12: normres = 0.10630121057178457\n",
      "[ Info: Arnoldi schursolve in iter 1, krylovdim = 12: 0 values converged, normres = (8.85e-11, 5.63e-09, 1.30e-07, 7.36e-05, 2.43e-02)\n",
      "[ Info: Arnoldi iteration step 13: normres = 0.04148802836834518\n",
      "[ Info: Arnoldi schursolve in iter 1, krylovdim = 13: 0 values converged, normres = (1.62e-12, 1.72e-10, 4.42e-09, 1.26e-05, 1.31e-02)\n",
      "[ Info: Arnoldi iteration step 14: normres = 0.5483900429068279\n",
      "[ Info: Arnoldi schursolve in iter 1, krylovdim = 14: 1 values converged, normres = (4.03e-13, 7.28e-11, 2.10e-09, 3.37e-05, 1.26e-01)\n",
      "[ Info: Arnoldi iteration step 15: normres = 0.05064295475801005\n",
      "[ Info: Arnoldi schursolve in iter 1, krylovdim = 15: 1 values converged, normres = (2.03e-14, 1.88e-09, 4.65e-02, 3.30e-04, 2.68e-05)\n",
      "[ Info: Arnoldi iteration step 16: normres = 0.35306974978321476\n",
      "[ Info: Arnoldi schursolve in iter 1, krylovdim = 16: 1 values converged, normres = (3.09e-15, 7.85e-10, 1.16e-02, 2.78e-06, 1.19e-06)\n",
      "[ Info: Arnoldi iteration step 17: normres = 0.12127549505334326\n",
      "[ Info: Arnoldi schursolve in iter 1, krylovdim = 17: 1 values converged, normres = (3.40e-16, 1.78e-03, 8.55e-03, 1.85e-06, 1.16e-01)\n",
      "[ Info: Arnoldi iteration step 18: normres = 0.0249433211564162\n",
      "[ Info: Arnoldi schursolve in iter 1, krylovdim = 18: 1 values converged, normres = (3.56e-18, 4.14e-05, 1.51e-04, 1.95e-03, 8.41e-04)\n",
      "[ Info: Arnoldi iteration step 19: normres = 0.06496610917877284\n",
      "[ Info: Arnoldi schursolve in iter 1, krylovdim = 19: 1 values converged, normres = (9.51e-20, 1.19e-08, 6.68e-06, 6.65e-08, 9.95e-05)\n",
      "[ Info: Arnoldi iteration step 20: normres = 0.14790524431445362\n",
      "[ Info: Arnoldi schursolve in iter 1, krylovdim = 20: 1 values converged, normres = (6.81e-21, 2.88e-07, 8.02e-07, 2.84e-08, 1.44e-05)\n",
      "[ Info: Arnoldi iteration step 21: normres = 0.030685046219243207\n",
      "[ Info: Arnoldi schursolve in iter 1, krylovdim = 21: 1 values converged, normres = (8.95e-23, 1.42e-09, 1.84e-08, 4.13e-08, 3.44e-07)\n",
      "[ Info: Arnoldi iteration step 22: normres = 0.016749468524277677\n",
      "[ Info: Arnoldi schursolve in iter 1, krylovdim = 22: 1 values converged, normres = (6.19e-25, 1.88e-11, 2.03e-10, 4.18e-09, 6.33e-10)\n",
      "[ Info: Arnoldi iteration step 23: normres = 0.028021767668406986\n",
      "[ Info: Arnoldi schursolve in iter 1, krylovdim = 23: 2 values converged, normres = (7.11e-27, 3.45e-13, 3.71e-12, 6.36e-11, 5.64e-11)\n",
      "[ Info: Arnoldi iteration step 24: normres = 0.5371946643446258\n",
      "[ Info: Arnoldi schursolve in iter 1, krylovdim = 24: 2 values converged, normres = (2.94e-27, 4.70e-13, 5.06e-12, 1.36e-10, 1.17e-10)\n",
      "[ Info: Arnoldi iteration step 25: normres = 0.02056237795258335\n",
      "[ Info: Arnoldi schursolve in iter 1, krylovdim = 25: 3 values converged, normres = (3.08e-29, 1.78e-14, 1.91e-13, 4.40e-04, 3.00e-03)\n",
      "[ Info: Arnoldi iteration step 26: normres = 0.09672981765079824\n",
      "[ Info: Arnoldi schursolve in iter 1, krylovdim = 26: 3 values converged, normres = (1.25e-30, 1.17e-15, 1.26e-14, 5.73e-10, 4.38e-10)\n",
      "[ Info: Arnoldi iteration step 27: normres = 0.03778186489863051\n",
      "[ Info: Arnoldi schursolve in iter 1, krylovdim = 27: 3 values converged, normres = (2.06e-32, 3.19e-17, 3.44e-16, 1.81e-05, 1.66e-06)\n",
      "[ Info: Arnoldi iteration step 28: normres = 0.12134269614153446\n",
      "[ Info: Arnoldi schursolve in iter 1, krylovdim = 28: 3 values converged, normres = (1.07e-33, 2.72e-18, 2.93e-17, 4.23e-09, 2.94e-09)\n",
      "[ Info: Arnoldi iteration step 29: normres = 0.07520517250224851\n",
      "[ Info: Arnoldi schursolve in iter 1, krylovdim = 29: 3 values converged, normres = (3.53e-35, 1.48e-19, 1.60e-18, 7.86e-09, 1.18e-08)\n",
      "[ Info: Arnoldi iteration step 30: normres = 0.11819849844102262\n",
      "[ Info: Arnoldi schursolve in iter 1, krylovdim = 30: 3 values converged, normres = (2.03e-36, 1.52e-20, 1.64e-19, 9.07e-09, 5.63e-09)\n",
      "[ Info: Arnoldi schursolve in iter 2, krylovdim = 19: 3 values converged, normres = (2.03e-36, 1.52e-20, 1.64e-19, 9.07e-09, 5.63e-09)\n",
      "[ Info: Arnoldi iteration step 20: normres = 0.0822983847309397\n",
      "[ Info: Arnoldi schursolve in iter 2, krylovdim = 20: 3 values converged, normres = (7.17e-38, 8.86e-22, 9.55e-21, 1.64e-10, 7.40e-10)\n",
      "[ Info: Arnoldi iteration step 21: normres = 0.028031539213284613\n",
      "[ Info: Arnoldi schursolve in iter 2, krylovdim = 21: 3 values converged, normres = (8.59e-40, 1.74e-23, 1.87e-22, 3.81e-12, 7.84e-12)\n",
      "[ Info: Arnoldi iteration step 22: normres = 0.013451185358244392\n",
      "┌ Info: Arnoldi eigsolve finished after 2 iterations:\n",
      "│ *  6 eigenvalues converged\n",
      "│ *  norm of residuals = (4.74276590151499e-42, 1.5277125172175303e-25, 1.6534052514125027e-24, 3.700876475342033e-14, 8.290752986740293e-14, 8.290752986740293e-14)\n",
      "└ *  number of operations = 33\n"
     ]
    }
   ],
   "cell_type": "code",
   "source": [
    "eigsolve(eps_fun, randn(size(scfres.ρ)), 5, :LM; eager=true, verbosity=3);"
   ],
   "metadata": {},
   "execution_count": 3
  }
 ],
 "nbformat_minor": 3,
 "metadata": {
  "language_info": {
   "file_extension": ".jl",
   "mimetype": "application/julia",
   "name": "julia",
   "version": "1.8.5"
  },
  "kernelspec": {
   "name": "julia-1.8",
   "display_name": "Julia 1.8.5",
   "language": "julia"
  }
 },
 "nbformat": 4
}
