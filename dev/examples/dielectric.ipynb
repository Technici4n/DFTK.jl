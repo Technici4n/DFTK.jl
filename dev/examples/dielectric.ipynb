{
 "cells": [
  {
   "cell_type": "markdown",
   "source": [
    "# Eigenvalues of the dielectric matrix\n",
    "\n",
    "We compute a few eigenvalues of the dielectric matrix ($q=0$, $ω=0$) iteratively."
   ],
   "metadata": {}
  },
  {
   "outputs": [
    {
     "name": "stdout",
     "output_type": "stream",
     "text": [
      "n     Energy            log10(ΔE)   log10(Δρ)   Diag\n",
      "---   ---------------   ---------   ---------   ----\n",
      "  1   -7.232324719300                   -0.50    6.0\n",
      "  2   -7.250072147357       -1.75       -1.41    1.0\n",
      "  3   -7.251321318464       -2.90       -2.14    4.0\n",
      "  4   -7.251313006356   +   -5.08       -2.36    3.0\n",
      "  5   -7.251334479673       -4.67       -2.82    2.0\n",
      "  6   -7.251337263364       -5.56       -3.06    2.0\n",
      "  7   -7.251338776972       -5.82       -3.99    1.0\n",
      "  8   -7.251338795204       -7.74       -4.29    3.0\n",
      "  9   -7.251338798541       -8.48       -4.99    2.0\n",
      " 10   -7.251338798694       -9.81       -5.54    3.0\n",
      " 11   -7.251338798702      -11.10       -5.86    3.0\n",
      " 12   -7.251338798704      -11.69       -6.37    2.0\n",
      " 13   -7.251338798705      -12.85       -6.82    2.0\n",
      " 14   -7.251338798705      -13.60       -7.27    2.0\n",
      " 15   -7.251338798705   +    -Inf       -7.77    3.0\n"
     ]
    }
   ],
   "cell_type": "code",
   "source": [
    "using DFTK\n",
    "using Plots\n",
    "using KrylovKit\n",
    "using Printf\n",
    "\n",
    "# Calculation parameters\n",
    "kgrid = [1, 1, 1]\n",
    "Ecut = 5\n",
    "\n",
    "# Silicon lattice\n",
    "a = 10.26\n",
    "lattice = a / 2 .* [[0 1 1.]; [1 0 1.]; [1 1 0.]]\n",
    "Si = ElementPsp(:Si, psp=load_psp(\"hgh/lda/Si-q4\"))\n",
    "atoms     = [Si, Si]\n",
    "positions = [ones(3)/8, -ones(3)/8]\n",
    "\n",
    "# Compute the dielectric operator without symmetries\n",
    "model = model_LDA(lattice, atoms, positions, symmetries=false)\n",
    "basis = PlaneWaveBasis(model; Ecut, kgrid)\n",
    "scfres = self_consistent_field(basis, tol=1e-14);"
   ],
   "metadata": {},
   "execution_count": 1
  },
  {
   "cell_type": "markdown",
   "source": [
    "Applying $ε^† ≔ (1- χ_0 K)$ …"
   ],
   "metadata": {}
  },
  {
   "outputs": [],
   "cell_type": "code",
   "source": [
    "function eps_fun(δρ)\n",
    "    δV = apply_kernel(basis, δρ; ρ=scfres.ρ)\n",
    "    χ0δV = apply_χ0(scfres, δV)\n",
    "    δρ - χ0δV\n",
    "end;"
   ],
   "metadata": {},
   "execution_count": 2
  },
  {
   "cell_type": "markdown",
   "source": [
    "… eagerly diagonalizes the subspace matrix at each iteration"
   ],
   "metadata": {}
  },
  {
   "outputs": [
    {
     "name": "stdout",
     "output_type": "stream",
     "text": [
      "[ Info: Arnoldi iteration step 1: normres = 0.08775779935084296\n",
      "[ Info: Arnoldi iteration step 2: normres = 0.5826214842892241\n",
      "[ Info: Arnoldi iteration step 3: normres = 0.5964640343528758\n",
      "[ Info: Arnoldi iteration step 4: normres = 0.3023987998321548\n",
      "[ Info: Arnoldi iteration step 5: normres = 0.21364992489943466\n",
      "[ Info: Arnoldi schursolve in iter 1, krylovdim = 5: 0 values converged, normres = (5.09e-03, 4.39e-02, 1.38e-01, 1.55e-01, 2.54e-02)\n",
      "[ Info: Arnoldi iteration step 6: normres = 0.6224212912359095\n",
      "[ Info: Arnoldi schursolve in iter 1, krylovdim = 6: 0 values converged, normres = (2.31e-03, 8.17e-02, 5.99e-01, 1.03e-01, 9.61e-02)\n",
      "[ Info: Arnoldi iteration step 7: normres = 0.07993087159799198\n",
      "[ Info: Arnoldi schursolve in iter 1, krylovdim = 7: 0 values converged, normres = (1.21e-04, 4.31e-02, 1.28e-02, 2.34e-02, 5.25e-02)\n",
      "[ Info: Arnoldi iteration step 8: normres = 0.10639045332575037\n",
      "[ Info: Arnoldi schursolve in iter 1, krylovdim = 8: 0 values converged, normres = (5.55e-06, 3.26e-03, 1.10e-03, 7.97e-03, 4.74e-02)\n",
      "[ Info: Arnoldi iteration step 9: normres = 0.0827516806699016\n",
      "[ Info: Arnoldi schursolve in iter 1, krylovdim = 9: 0 values converged, normres = (1.99e-07, 1.92e-04, 7.18e-05, 2.28e-03, 3.90e-02)\n",
      "[ Info: Arnoldi iteration step 10: normres = 0.10203507916849085\n",
      "[ Info: Arnoldi schursolve in iter 1, krylovdim = 10: 0 values converged, normres = (8.85e-09, 1.42e-05, 5.91e-06, 8.55e-04, 4.04e-02)\n",
      "[ Info: Arnoldi iteration step 11: normres = 0.07792507882199373\n",
      "[ Info: Arnoldi schursolve in iter 1, krylovdim = 11: 0 values converged, normres = (3.01e-10, 8.01e-07, 3.71e-07, 2.50e-04, 3.06e-02)\n",
      "[ Info: Arnoldi iteration step 12: normres = 0.08469652477279822\n",
      "[ Info: Arnoldi schursolve in iter 1, krylovdim = 12: 0 values converged, normres = (1.10e-11, 4.82e-08, 2.48e-08, 7.01e-05, 1.80e-02)\n",
      "[ Info: Arnoldi iteration step 13: normres = 0.04323224790299027\n",
      "[ Info: Arnoldi schursolve in iter 1, krylovdim = 13: 1 values converged, normres = (2.02e-13, 1.44e-09, 8.21e-10, 8.94e-06, 4.54e-03)\n",
      "[ Info: Arnoldi iteration step 14: normres = 0.6567512742318934\n",
      "[ Info: Arnoldi schursolve in iter 1, krylovdim = 14: 1 values converged, normres = (8.74e-14, 1.54e-09, 1.14e-09, 6.55e-01, 3.51e-02)\n",
      "[ Info: Arnoldi iteration step 15: normres = 0.04067230391190626\n",
      "[ Info: Arnoldi schursolve in iter 1, krylovdim = 15: 1 values converged, normres = (2.12e-15, 1.80e-10, 1.08e-02, 2.10e-02, 1.01e-05)\n",
      "[ Info: Arnoldi iteration step 16: normres = 0.6318328044140715\n",
      "[ Info: Arnoldi schursolve in iter 1, krylovdim = 16: 1 values converged, normres = (6.46e-16, 9.83e-11, 1.44e-02, 2.07e-03, 7.07e-06)\n",
      "[ Info: Arnoldi iteration step 17: normres = 0.062221736737371386\n",
      "[ Info: Arnoldi schursolve in iter 1, krylovdim = 17: 1 values converged, normres = (3.79e-17, 2.00e-09, 5.43e-02, 2.15e-04, 4.83e-03)\n",
      "[ Info: Arnoldi iteration step 18: normres = 0.018298181619522232\n",
      "[ Info: Arnoldi schursolve in iter 1, krylovdim = 18: 1 values converged, normres = (2.87e-19, 3.82e-04, 5.33e-04, 6.37e-05, 1.08e-05)\n",
      "[ Info: Arnoldi iteration step 19: normres = 0.1345016470743053\n",
      "[ Info: Arnoldi schursolve in iter 1, krylovdim = 19: 1 values converged, normres = (1.62e-20, 1.31e-08, 5.99e-05, 3.95e-08, 6.54e-06)\n",
      "[ Info: Arnoldi iteration step 20: normres = 0.07910857728153706\n",
      "[ Info: Arnoldi schursolve in iter 1, krylovdim = 20: 1 values converged, normres = (6.24e-22, 3.84e-06, 1.56e-06, 3.13e-07, 4.10e-07)\n",
      "[ Info: Arnoldi iteration step 21: normres = 0.02986314009570268\n",
      "[ Info: Arnoldi schursolve in iter 1, krylovdim = 21: 1 values converged, normres = (7.81e-24, 8.38e-08, 2.87e-09, 8.70e-09, 7.55e-09)\n",
      "[ Info: Arnoldi iteration step 22: normres = 0.07978857782854226\n",
      "[ Info: Arnoldi schursolve in iter 1, krylovdim = 22: 1 values converged, normres = (2.57e-25, 4.39e-09, 5.06e-10, 3.50e-10, 5.70e-10)\n",
      "[ Info: Arnoldi iteration step 23: normres = 0.2319412871345089\n",
      "[ Info: Arnoldi schursolve in iter 1, krylovdim = 23: 1 values converged, normres = (5.51e-26, 5.68e-09, 2.77e-10, 2.39e-09, 3.08e-09)\n",
      "[ Info: Arnoldi iteration step 24: normres = 0.014599260381958482\n",
      "[ Info: Arnoldi schursolve in iter 1, krylovdim = 24: 1 values converged, normres = (3.40e-28, 6.91e-11, 6.89e-12, 7.59e-09, 7.74e-09)\n",
      "[ Info: Arnoldi iteration step 25: normres = 0.05220624258857111\n",
      "[ Info: Arnoldi schursolve in iter 1, krylovdim = 25: 1 values converged, normres = (7.32e-30, 2.37e-12, 2.39e-13, 6.55e-05, 4.48e-06)\n",
      "[ Info: Arnoldi iteration step 26: normres = 0.06667599976260655\n",
      "[ Info: Arnoldi schursolve in iter 1, krylovdim = 26: 3 values converged, normres = (2.20e-31, 1.21e-13, 1.22e-14, 7.12e-09, 6.85e-09)\n",
      "[ Info: Arnoldi iteration step 27: normres = 0.021477658859171578\n",
      "[ Info: Arnoldi schursolve in iter 1, krylovdim = 27: 3 values converged, normres = (1.95e-33, 1.71e-15, 1.73e-16, 2.70e-09, 1.12e-08)\n",
      "[ Info: Arnoldi iteration step 28: normres = 0.10965592664023582\n",
      "[ Info: Arnoldi schursolve in iter 1, krylovdim = 28: 3 values converged, normres = (9.19e-35, 1.32e-16, 1.33e-17, 9.58e-10, 2.36e-09)\n",
      "[ Info: Arnoldi iteration step 29: normres = 0.01852055939959787\n",
      "[ Info: Arnoldi schursolve in iter 1, krylovdim = 29: 3 values converged, normres = (7.24e-37, 1.70e-18, 1.71e-19, 1.99e-11, 4.36e-11)\n",
      "[ Info: Arnoldi iteration step 30: normres = 0.10484595537299032\n",
      "[ Info: Arnoldi schursolve in iter 1, krylovdim = 30: 3 values converged, normres = (3.20e-38, 1.21e-19, 1.22e-20, 1.57e-12, 3.44e-12)\n",
      "[ Info: Arnoldi schursolve in iter 2, krylovdim = 19: 3 values converged, normres = (3.20e-38, 1.21e-19, 1.22e-20, 1.57e-12, 3.44e-12)\n",
      "[ Info: Arnoldi iteration step 20: normres = 0.18331907462152858\n",
      "┌ Info: Arnoldi eigsolve finished after 2 iterations:\n",
      "│ *  5 eigenvalues converged\n",
      "│ *  norm of residuals = (2.6783236805089774e-39, 1.7355178962434525e-20, 1.347486085093393e-21, 2.5200038274516355e-13, 5.998003237628681e-13)\n",
      "└ *  number of operations = 31\n"
     ]
    }
   ],
   "cell_type": "code",
   "source": [
    "eigsolve(eps_fun, randn(size(scfres.ρ)), 5, :LM; eager=true, verbosity=3);"
   ],
   "metadata": {},
   "execution_count": 3
  }
 ],
 "nbformat_minor": 3,
 "metadata": {
  "language_info": {
   "file_extension": ".jl",
   "mimetype": "application/julia",
   "name": "julia",
   "version": "1.8.2"
  },
  "kernelspec": {
   "name": "julia-1.8",
   "display_name": "Julia 1.8.2",
   "language": "julia"
  }
 },
 "nbformat": 4
}
