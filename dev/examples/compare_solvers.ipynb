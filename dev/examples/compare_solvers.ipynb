{
 "cells": [
  {
   "cell_type": "markdown",
   "source": [
    "# Comparison of DFT solvers"
   ],
   "metadata": {}
  },
  {
   "cell_type": "markdown",
   "source": [
    "We compare four different approaches for solving the DFT minimisation problem,\n",
    "namely a density-based SCF, a potential-based SCF, direct minimisation and Newton."
   ],
   "metadata": {}
  },
  {
   "cell_type": "markdown",
   "source": [
    "First we setup our problem"
   ],
   "metadata": {}
  },
  {
   "outputs": [],
   "cell_type": "code",
   "source": [
    "using DFTK\n",
    "using LinearAlgebra\n",
    "\n",
    "a = 10.26  # Silicon lattice constant in Bohr\n",
    "lattice = a / 2 * [[0 1 1.];\n",
    "                   [1 0 1.];\n",
    "                   [1 1 0.]]\n",
    "Si = ElementPsp(:Si, psp=load_psp(\"hgh/lda/Si-q4\"))\n",
    "atoms     = [Si, Si]\n",
    "positions = [ones(3)/8, -ones(3)/8]\n",
    "\n",
    "model = model_LDA(lattice, atoms, positions)\n",
    "basis = PlaneWaveBasis(model; Ecut=5, kgrid=[3, 3, 3])\n",
    "\n",
    "# Convergence we desire\n",
    "tol = 1e-12\n",
    "is_converged = DFTK.ScfConvergenceDensity(tol);"
   ],
   "metadata": {},
   "execution_count": 1
  },
  {
   "cell_type": "markdown",
   "source": [
    "## Density-based self-consistent field"
   ],
   "metadata": {}
  },
  {
   "outputs": [
    {
     "name": "stdout",
     "output_type": "stream",
     "text": [
      "n     Energy            log10(ΔE)   log10(Δρ)   Diag\n",
      "---   ---------------   ---------   ---------   ----\n",
      "  1   -7.846831415865                   -0.70    4.5\n",
      "  2   -7.852316100793       -2.26       -1.53    1.0\n",
      "  3   -7.852646225740       -3.48       -2.52    3.2\n",
      "  4   -7.852646677568       -6.35       -3.35    2.0\n",
      "  5   -7.852646685845       -8.08       -4.76    1.2\n",
      "  6   -7.852646686722       -9.06       -5.19    3.5\n",
      "  7   -7.852646686729      -11.16       -6.00    1.2\n",
      "  8   -7.852646686730      -12.38       -7.34    2.8\n",
      "  9   -7.852646686730   +  -14.45       -7.50    2.2\n",
      " 10   -7.852646686730      -14.45       -8.70    2.0\n",
      " 11   -7.852646686730      -14.75       -9.51    2.2\n",
      " 12   -7.852646686730   +    -Inf       -9.51    1.0\n",
      " 13   -7.852646686730      -14.75      -10.85    2.0\n",
      " 14   -7.852646686730   +    -Inf      -11.54    3.2\n",
      " 15   -7.852646686730   +    -Inf      -12.31    2.0\n"
     ]
    }
   ],
   "cell_type": "code",
   "source": [
    "scfres_scf = self_consistent_field(basis; is_converged);"
   ],
   "metadata": {},
   "execution_count": 2
  },
  {
   "cell_type": "markdown",
   "source": [
    "## Potential-based SCF"
   ],
   "metadata": {}
  },
  {
   "outputs": [
    {
     "name": "stdout",
     "output_type": "stream",
     "text": [
      "n     Energy            log10(ΔE)   log10(Δρ)   α      Diag\n",
      "---   ---------------   ---------   ---------   ----   ----\n",
      "  1   -7.846837169981                   -0.70           4.8\n",
      "  2   -7.852525332796       -2.25       -1.63   0.80    2.0\n",
      "  3   -7.852636093671       -3.96       -2.71   0.80    1.0\n",
      "  4   -7.852646400111       -4.99       -3.30   0.80    2.2\n",
      "  5   -7.852646681803       -6.55       -4.10   0.80    1.8\n",
      "  6   -7.852646686371       -8.34       -4.74   0.80    1.2\n",
      "  7   -7.852646686722       -9.46       -5.73   0.80    1.5\n",
      "  8   -7.852646686730      -11.13       -6.50   0.80    2.5\n",
      "  9   -7.852646686730      -12.67       -7.26   0.80    1.8\n",
      " 10   -7.852646686730      -14.05       -7.90   0.80    2.2\n",
      " 11   -7.852646686730      -15.05       -9.62   0.80    1.0\n",
      " 12   -7.852646686730   +    -Inf       -9.43   0.80    3.5\n",
      " 13   -7.852646686730   +  -14.57      -10.22   0.80    1.0\n",
      " 14   -7.852646686730      -14.75      -11.32   0.80    1.0\n",
      " 15   -7.852646686730      -14.75      -11.75   0.80    2.8\n",
      " 16   -7.852646686730   +  -14.75      -13.06   0.80    1.2\n"
     ]
    }
   ],
   "cell_type": "code",
   "source": [
    "scfres_scfv = DFTK.scf_potential_mixing(basis; is_converged);"
   ],
   "metadata": {},
   "execution_count": 3
  },
  {
   "cell_type": "markdown",
   "source": [
    "## Direct minimization"
   ],
   "metadata": {}
  },
  {
   "outputs": [
    {
     "name": "stdout",
     "output_type": "stream",
     "text": [
      "Iter     Function value   Gradient norm \n",
      "     0     1.355734e+01     3.464656e+00\n",
      " * time: 0.4147779941558838\n",
      "     1     9.410974e-01     1.728638e+00\n",
      " * time: 0.6247811317443848\n",
      "     2    -1.540031e+00     2.209211e+00\n",
      " * time: 0.6499600410461426\n",
      "     3    -3.771632e+00     1.737548e+00\n",
      " * time: 0.6862571239471436\n",
      "     4    -5.105760e+00     1.704929e+00\n",
      " * time: 0.7221651077270508\n",
      "     5    -6.733963e+00     8.397156e-01\n",
      " * time: 0.7570540904998779\n",
      "     6    -6.734933e+00     9.495873e-01\n",
      " * time: 0.7811939716339111\n",
      "     7    -7.358988e+00     5.405083e-01\n",
      " * time: 0.8061449527740479\n",
      "     8    -7.500927e+00     4.166405e-01\n",
      " * time: 0.8302550315856934\n",
      "     9    -7.613134e+00     7.772928e-02\n",
      " * time: 0.8541049957275391\n",
      "    10    -7.665810e+00     1.264413e-01\n",
      " * time: 0.878046989440918\n",
      "    11    -7.705636e+00     1.031527e-01\n",
      " * time: 0.9013900756835938\n",
      "    12    -7.731463e+00     9.309048e-02\n",
      " * time: 0.924854040145874\n",
      "    13    -7.765757e+00     1.100394e-01\n",
      " * time: 0.9479200839996338\n",
      "    14    -7.799683e+00     1.026318e-01\n",
      " * time: 0.9705851078033447\n",
      "    15    -7.834742e+00     5.169912e-02\n",
      " * time: 0.9957890510559082\n",
      "    16    -7.845418e+00     3.283493e-02\n",
      " * time: 1.0197041034698486\n",
      "    17    -7.850239e+00     3.120034e-02\n",
      " * time: 1.0435020923614502\n",
      "    18    -7.851859e+00     1.726403e-02\n",
      " * time: 1.0674490928649902\n",
      "    19    -7.852512e+00     8.366074e-03\n",
      " * time: 1.0903971195220947\n",
      "    20    -7.852605e+00     4.881526e-03\n",
      " * time: 1.1131129264831543\n",
      "    21    -7.852632e+00     2.251764e-03\n",
      " * time: 1.1364269256591797\n",
      "    22    -7.852640e+00     1.702822e-03\n",
      " * time: 1.1601009368896484\n",
      "    23    -7.852644e+00     8.599898e-04\n",
      " * time: 1.1834261417388916\n",
      "    24    -7.852646e+00     4.355310e-04\n",
      " * time: 1.208204984664917\n",
      "    25    -7.852646e+00     4.732919e-04\n",
      " * time: 1.2320871353149414\n",
      "    26    -7.852647e+00     1.671914e-04\n",
      " * time: 1.25764799118042\n",
      "    27    -7.852647e+00     1.144080e-04\n",
      " * time: 1.2823219299316406\n",
      "    28    -7.852647e+00     5.503788e-05\n",
      " * time: 1.3061740398406982\n",
      "    29    -7.852647e+00     2.178263e-05\n",
      " * time: 1.3305320739746094\n",
      "    30    -7.852647e+00     2.052655e-05\n",
      " * time: 1.3542981147766113\n",
      "    31    -7.852647e+00     1.175921e-05\n",
      " * time: 1.379241943359375\n",
      "    32    -7.852647e+00     7.424428e-06\n",
      " * time: 1.404911994934082\n",
      "    33    -7.852647e+00     4.575071e-06\n",
      " * time: 1.4290721416473389\n",
      "    34    -7.852647e+00     3.055264e-06\n",
      " * time: 1.4532721042633057\n",
      "    35    -7.852647e+00     1.341228e-06\n",
      " * time: 1.4760501384735107\n",
      "    36    -7.852647e+00     8.493667e-07\n",
      " * time: 1.5003321170806885\n",
      "    37    -7.852647e+00     4.262567e-07\n",
      " * time: 1.5246920585632324\n",
      "    38    -7.852647e+00     2.508497e-07\n",
      " * time: 1.5486910343170166\n",
      "    39    -7.852647e+00     1.889614e-07\n",
      " * time: 1.5739390850067139\n",
      "    40    -7.852647e+00     1.151159e-07\n",
      " * time: 1.5972731113433838\n",
      "    41    -7.852647e+00     5.153159e-08\n",
      " * time: 1.6212279796600342\n",
      "    42    -7.852647e+00     2.883948e-08\n",
      " * time: 1.645798921585083\n",
      "    43    -7.852647e+00     1.717857e-08\n",
      " * time: 1.670177936553955\n",
      "    44    -7.852647e+00     1.596032e-08\n",
      " * time: 1.751265048980713\n",
      "    45    -7.852647e+00     1.596025e-08\n",
      " * time: 1.8387539386749268\n"
     ]
    }
   ],
   "cell_type": "code",
   "source": [
    "scfres_dm = direct_minimization(basis; tol);"
   ],
   "metadata": {},
   "execution_count": 4
  },
  {
   "cell_type": "markdown",
   "source": [
    "## Newton algorithm"
   ],
   "metadata": {}
  },
  {
   "cell_type": "markdown",
   "source": [
    "Start not too far from the solution to ensure convergence:\n",
    "We run first a very crude SCF to get close and then switch to Newton."
   ],
   "metadata": {}
  },
  {
   "outputs": [
    {
     "name": "stdout",
     "output_type": "stream",
     "text": [
      "n     Energy            log10(ΔE)   log10(Δρ)   Diag\n",
      "---   ---------------   ---------   ---------   ----\n",
      "  1   -7.846902251541                   -0.70    4.8\n",
      "  2   -7.852328385708       -2.27       -1.53    1.0\n"
     ]
    }
   ],
   "cell_type": "code",
   "source": [
    "scfres_start = self_consistent_field(basis; tol=1e-1);"
   ],
   "metadata": {},
   "execution_count": 5
  },
  {
   "cell_type": "markdown",
   "source": [
    "Remove the virtual orbitals (which Newton cannot treat yet)"
   ],
   "metadata": {}
  },
  {
   "outputs": [
    {
     "name": "stdout",
     "output_type": "stream",
     "text": [
      "n     Energy            log10(ΔE)   log10(Δρ)\n",
      "---   ---------------   ---------   ---------\n",
      "  1   -7.852646686715                   -2.55\n",
      "  2   -7.852646686730      -10.82       -6.04\n",
      "  3   -7.852646686730   +  -14.57      -12.74\n"
     ]
    }
   ],
   "cell_type": "code",
   "source": [
    "ψ, _ = DFTK.select_occupied_orbitals(basis, scfres_start.ψ, scfres_start.occupation)\n",
    "scfres_newton = newton(basis, ψ; tol);"
   ],
   "metadata": {},
   "execution_count": 6
  },
  {
   "cell_type": "markdown",
   "source": [
    "## Comparison of results"
   ],
   "metadata": {}
  },
  {
   "outputs": [
    {
     "name": "stdout",
     "output_type": "stream",
     "text": [
      "|ρ_newton - ρ_scf|  = 6.692767082510792e-13\n",
      "|ρ_newton - ρ_scfv| = 2.7704352639104724e-13\n",
      "|ρ_newton - ρ_dm|   = 1.116437130759343e-9\n"
     ]
    }
   ],
   "cell_type": "code",
   "source": [
    "println(\"|ρ_newton - ρ_scf|  = \", norm(scfres_newton.ρ - scfres_scf.ρ))\n",
    "println(\"|ρ_newton - ρ_scfv| = \", norm(scfres_newton.ρ - scfres_scfv.ρ))\n",
    "println(\"|ρ_newton - ρ_dm|   = \", norm(scfres_newton.ρ - scfres_dm.ρ))"
   ],
   "metadata": {},
   "execution_count": 7
  }
 ],
 "nbformat_minor": 3,
 "metadata": {
  "language_info": {
   "file_extension": ".jl",
   "mimetype": "application/julia",
   "name": "julia",
   "version": "1.8.2"
  },
  "kernelspec": {
   "name": "julia-1.8",
   "display_name": "Julia 1.8.2",
   "language": "julia"
  }
 },
 "nbformat": 4
}
