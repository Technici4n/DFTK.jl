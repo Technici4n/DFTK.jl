{
 "cells": [
  {
   "cell_type": "markdown",
   "source": [
    "# Comparison of DFT solvers"
   ],
   "metadata": {}
  },
  {
   "cell_type": "markdown",
   "source": [
    "We compare four different approaches for solving the DFT minimisation problem,\n",
    "namely a density-based SCF, a potential-based SCF, direct minimisation and Newton."
   ],
   "metadata": {}
  },
  {
   "cell_type": "markdown",
   "source": [
    "First we setup our problem"
   ],
   "metadata": {}
  },
  {
   "outputs": [
    {
     "output_type": "execute_result",
     "data": {
      "text/plain": "1.0e-6"
     },
     "metadata": {},
     "execution_count": 1
    }
   ],
   "cell_type": "code",
   "source": [
    "using DFTK\n",
    "using LinearAlgebra\n",
    "\n",
    "a = 10.26  # Silicon lattice constant in Bohr\n",
    "lattice = a / 2 * [[0 1 1.];\n",
    "                   [1 0 1.];\n",
    "                   [1 1 0.]]\n",
    "Si = ElementPsp(:Si, psp=load_psp(\"hgh/lda/Si-q4\"))\n",
    "atoms     = [Si, Si]\n",
    "positions = [ones(3)/8, -ones(3)/8]\n",
    "\n",
    "model = model_LDA(lattice, atoms, positions)\n",
    "basis = PlaneWaveBasis(model; Ecut=5, kgrid=[3, 3, 3])\n",
    "\n",
    "# Convergence we desire in the density\n",
    "tol = 1e-6"
   ],
   "metadata": {},
   "execution_count": 1
  },
  {
   "cell_type": "markdown",
   "source": [
    "## Density-based self-consistent field"
   ],
   "metadata": {}
  },
  {
   "outputs": [
    {
     "name": "stdout",
     "output_type": "stream",
     "text": [
      "n     Energy            log10(ΔE)   log10(Δρ)   Diag   Δtime\n",
      "---   ---------------   ---------   ---------   ----   ------\n",
      "  1   -7.846749286126                   -0.70    4.5         \n",
      "  2   -7.852302873830       -2.26       -1.53    1.0   27.4ms\n",
      "  3   -7.852615053652       -3.51       -2.55    1.5   29.0ms\n",
      "  4   -7.852646014605       -4.51       -2.89    2.8   36.0ms\n",
      "  5   -7.852646525876       -6.29       -3.20    1.0   25.9ms\n",
      "  6   -7.852646680080       -6.81       -4.06    1.0   25.9ms\n",
      "  7   -7.852646686382       -8.20       -5.19    1.8   31.4ms\n",
      "  8   -7.852646686724       -9.47       -5.48    2.0   32.8ms\n",
      "  9   -7.852646686730      -11.27       -6.45    1.2   27.5ms\n"
     ]
    }
   ],
   "cell_type": "code",
   "source": [
    "scfres_scf = self_consistent_field(basis; tol);"
   ],
   "metadata": {},
   "execution_count": 2
  },
  {
   "cell_type": "markdown",
   "source": [
    "## Potential-based SCF"
   ],
   "metadata": {}
  },
  {
   "outputs": [
    {
     "name": "stdout",
     "output_type": "stream",
     "text": [
      "n     Energy            log10(ΔE)   log10(Δρ)   α      Diag   Δtime\n",
      "---   ---------------   ---------   ---------   ----   ----   ------\n",
      "  1   -7.846828883477                   -0.70           4.5         \n",
      "  2   -7.852525730550       -2.24       -1.64   0.80    2.0    275ms\n",
      "  3   -7.852636221103       -3.96       -2.73   0.80    1.0   24.6ms\n",
      "  4   -7.852646481247       -4.99       -3.26   0.80    2.2   95.1ms\n",
      "  5   -7.852646671182       -6.72       -4.08   0.80    1.0   23.1ms\n",
      "  6   -7.852646686387       -7.82       -4.75   0.80    1.8   28.8ms\n",
      "  7   -7.852646686725       -9.47       -5.61   0.80    1.8   29.0ms\n",
      "  8   -7.852646686730      -11.35       -6.97   0.80    1.8   27.7ms\n"
     ]
    }
   ],
   "cell_type": "code",
   "source": [
    "scfres_scfv = DFTK.scf_potential_mixing(basis; tol);"
   ],
   "metadata": {},
   "execution_count": 3
  },
  {
   "cell_type": "markdown",
   "source": [
    "## Direct minimization\n",
    "Note: Unlike the other algorithms, tolerance for this one is in the energy,\n",
    "thus we square the density tolerance value to be roughly equivalent."
   ],
   "metadata": {}
  },
  {
   "outputs": [
    {
     "name": "stdout",
     "output_type": "stream",
     "text": [
      "Iter     Function value   Gradient norm \n",
      "     0     1.399269e+01     3.744021e+00\n",
      " * time: 0.06218695640563965\n",
      "     1     1.077707e+00     2.016979e+00\n",
      " * time: 0.3026590347290039\n",
      "     2    -1.416457e+00     2.446651e+00\n",
      " * time: 0.3280520439147949\n",
      "     3    -3.597063e+00     1.906342e+00\n",
      " * time: 0.36466503143310547\n",
      "     4    -4.881931e+00     1.689934e+00\n",
      " * time: 0.40033411979675293\n",
      "     5    -6.533894e+00     1.007432e+00\n",
      " * time: 0.4365570545196533\n",
      "     6    -7.161635e+00     5.676193e-01\n",
      " * time: 0.47236108779907227\n",
      "     7    -7.442690e+00     2.117662e-01\n",
      " * time: 0.49747610092163086\n",
      "     8    -7.588319e+00     1.910843e-01\n",
      " * time: 0.5224349498748779\n",
      "     9    -7.680847e+00     1.356620e-01\n",
      " * time: 0.5476410388946533\n",
      "    10    -7.736923e+00     1.241354e-01\n",
      " * time: 0.5722270011901855\n",
      "    11    -7.785306e+00     1.290501e-01\n",
      " * time: 0.5972621440887451\n",
      "    12    -7.814841e+00     9.404521e-02\n",
      " * time: 0.6220569610595703\n",
      "    13    -7.839426e+00     5.003009e-02\n",
      " * time: 0.6470930576324463\n",
      "    14    -7.848556e+00     5.103865e-02\n",
      " * time: 0.6719319820404053\n",
      "    15    -7.851772e+00     4.098905e-02\n",
      " * time: 0.6970441341400146\n",
      "    16    -7.852350e+00     1.511212e-02\n",
      " * time: 0.7219741344451904\n",
      "    17    -7.852554e+00     6.178172e-03\n",
      " * time: 0.7471680641174316\n",
      "    18    -7.852608e+00     3.432112e-03\n",
      " * time: 0.7722671031951904\n",
      "    19    -7.852627e+00     2.330591e-03\n",
      " * time: 0.7971410751342773\n",
      "    20    -7.852638e+00     1.291389e-03\n",
      " * time: 0.822422981262207\n",
      "    21    -7.852644e+00     7.648431e-04\n",
      " * time: 0.8472549915313721\n",
      "    22    -7.852646e+00     5.935303e-04\n",
      " * time: 0.8728580474853516\n",
      "    23    -7.852646e+00     4.270384e-04\n",
      " * time: 0.8977811336517334\n",
      "    24    -7.852647e+00     1.709816e-04\n",
      " * time: 0.9230210781097412\n",
      "    25    -7.852647e+00     1.279788e-04\n",
      " * time: 0.9478449821472168\n",
      "    26    -7.852647e+00     5.201100e-05\n",
      " * time: 0.9730970859527588\n",
      "    27    -7.852647e+00     3.237558e-05\n",
      " * time: 0.9979369640350342\n",
      "    28    -7.852647e+00     2.463516e-05\n",
      " * time: 1.023047924041748\n",
      "    29    -7.852647e+00     8.341483e-06\n",
      " * time: 1.0479321479797363\n",
      "    30    -7.852647e+00     5.501645e-06\n",
      " * time: 1.0731251239776611\n",
      "    31    -7.852647e+00     4.735855e-06\n",
      " * time: 1.0981471538543701\n",
      "    32    -7.852647e+00     2.422341e-06\n",
      " * time: 1.1227750778198242\n",
      "    33    -7.852647e+00     2.003408e-06\n",
      " * time: 1.1476991176605225\n",
      "    34    -7.852647e+00     1.247976e-06\n",
      " * time: 1.172184944152832\n",
      "    35    -7.852647e+00     9.322740e-07\n",
      " * time: 1.1965389251708984\n",
      "    36    -7.852647e+00     4.677448e-07\n",
      " * time: 1.220716953277588\n",
      "    37    -7.852647e+00     2.778165e-07\n",
      " * time: 1.2454490661621094\n",
      "    38    -7.852647e+00     1.830365e-07\n",
      " * time: 1.328732967376709\n",
      "    39    -7.852647e+00     1.080186e-07\n",
      " * time: 1.3536009788513184\n",
      "    40    -7.852647e+00     3.753466e-08\n",
      " * time: 1.3788139820098877\n",
      "    41    -7.852647e+00     2.542535e-08\n",
      " * time: 1.4038100242614746\n",
      "    42    -7.852647e+00     1.984904e-08\n",
      " * time: 1.4290399551391602\n",
      "    43    -7.852647e+00     1.670515e-08\n",
      " * time: 1.4751861095428467\n",
      "    44    -7.852647e+00     5.212844e-09\n",
      " * time: 1.5003900527954102\n"
     ]
    }
   ],
   "cell_type": "code",
   "source": [
    "scfres_dm = direct_minimization(basis; tol=tol^2);"
   ],
   "metadata": {},
   "execution_count": 4
  },
  {
   "cell_type": "markdown",
   "source": [
    "## Newton algorithm"
   ],
   "metadata": {}
  },
  {
   "cell_type": "markdown",
   "source": [
    "Start not too far from the solution to ensure convergence:\n",
    "We run first a very crude SCF to get close and then switch to Newton."
   ],
   "metadata": {}
  },
  {
   "outputs": [
    {
     "name": "stdout",
     "output_type": "stream",
     "text": [
      "n     Energy            log10(ΔE)   log10(Δρ)   Diag   Δtime\n",
      "---   ---------------   ---------   ---------   ----   ------\n",
      "  1   -7.846891217899                   -0.70    4.8         \n"
     ]
    }
   ],
   "cell_type": "code",
   "source": [
    "scfres_start = self_consistent_field(basis; tol=0.5);"
   ],
   "metadata": {},
   "execution_count": 5
  },
  {
   "cell_type": "markdown",
   "source": [
    "Remove the virtual orbitals (which Newton cannot treat yet)"
   ],
   "metadata": {}
  },
  {
   "outputs": [
    {
     "name": "stdout",
     "output_type": "stream",
     "text": [
      "n     Energy            log10(ΔE)   log10(Δρ)   Δtime\n",
      "---   ---------------   ---------   ---------   ------\n",
      "  1   -7.852645931991                   -1.64         \n",
      "  2   -7.852646686730       -6.12       -3.71    2.10s\n",
      "  3   -7.852646686730      -13.38       -7.26    169ms\n"
     ]
    }
   ],
   "cell_type": "code",
   "source": [
    "ψ = DFTK.select_occupied_orbitals(basis, scfres_start.ψ, scfres_start.occupation).ψ\n",
    "scfres_newton = newton(basis, ψ; tol);"
   ],
   "metadata": {},
   "execution_count": 6
  },
  {
   "cell_type": "markdown",
   "source": [
    "## Comparison of results"
   ],
   "metadata": {}
  },
  {
   "outputs": [
    {
     "name": "stdout",
     "output_type": "stream",
     "text": [
      "|ρ_newton - ρ_scf|  = 2.8278987417627325e-7\n",
      "|ρ_newton - ρ_scfv| = 2.0555561696624974e-7\n",
      "|ρ_newton - ρ_dm|   = 1.790915459234508e-9\n"
     ]
    }
   ],
   "cell_type": "code",
   "source": [
    "println(\"|ρ_newton - ρ_scf|  = \", norm(scfres_newton.ρ - scfres_scf.ρ))\n",
    "println(\"|ρ_newton - ρ_scfv| = \", norm(scfres_newton.ρ - scfres_scfv.ρ))\n",
    "println(\"|ρ_newton - ρ_dm|   = \", norm(scfres_newton.ρ - scfres_dm.ρ))"
   ],
   "metadata": {},
   "execution_count": 7
  }
 ],
 "nbformat_minor": 3,
 "metadata": {
  "language_info": {
   "file_extension": ".jl",
   "mimetype": "application/julia",
   "name": "julia",
   "version": "1.9.2"
  },
  "kernelspec": {
   "name": "julia-1.9",
   "display_name": "Julia 1.9.2",
   "language": "julia"
  }
 },
 "nbformat": 4
}
