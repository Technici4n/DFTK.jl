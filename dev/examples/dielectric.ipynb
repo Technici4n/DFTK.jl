{
 "cells": [
  {
   "cell_type": "markdown",
   "source": [
    "# Eigenvalues of the dielectric matrix\n",
    "\n",
    "We compute a few eigenvalues of the dielectric matrix ($q=0$, $ω=0$) iteratively."
   ],
   "metadata": {}
  },
  {
   "outputs": [
    {
     "name": "stdout",
     "output_type": "stream",
     "text": [
      "n     Energy            log10(ΔE)   log10(Δρ)   Diag\n",
      "---   ---------------   ---------   ---------   ----\n",
      "  1   -7.234573185315                   -0.50    7.0\n",
      "  2   -7.249907956736       -1.81       -1.38    1.0\n",
      "  3   -7.251127779567       -2.91       -1.97    2.0\n",
      "  4   -7.251046246950   +   -4.09       -1.93    2.0\n",
      "  5   -7.251329609871       -3.55       -2.67    1.0\n",
      "  6   -7.251337978429       -5.08       -3.14    1.0\n",
      "  7   -7.251338703392       -6.14       -3.58    2.0\n",
      "  8   -7.251338788422       -7.07       -4.06    1.0\n",
      "  9   -7.251338795932       -8.12       -4.31    3.0\n",
      " 10   -7.251338798445       -8.60       -4.92    1.0\n",
      " 11   -7.251338798686       -9.62       -5.50    2.0\n",
      " 12   -7.251338798699      -10.86       -5.58    3.0\n",
      " 13   -7.251338798702      -11.54       -5.81    1.0\n",
      " 14   -7.251338798704      -11.66       -6.70    2.0\n",
      " 15   -7.251338798705      -12.96       -6.96    3.0\n",
      " 16   -7.251338798705      -14.57       -7.55    1.0\n",
      " 17   -7.251338798705   +    -Inf       -8.11    1.0\n"
     ]
    }
   ],
   "cell_type": "code",
   "source": [
    "using DFTK\n",
    "using Plots\n",
    "using KrylovKit\n",
    "using Printf\n",
    "\n",
    "# Calculation parameters\n",
    "kgrid = [1, 1, 1]\n",
    "Ecut = 5\n",
    "\n",
    "# Silicon lattice\n",
    "a = 10.26\n",
    "lattice = a / 2 .* [[0 1 1.]; [1 0 1.]; [1 1 0.]]\n",
    "Si = ElementPsp(:Si, psp=load_psp(\"hgh/lda/Si-q4\"))\n",
    "atoms     = [Si, Si]\n",
    "positions = [ones(3)/8, -ones(3)/8]\n",
    "\n",
    "# Compute the dielectric operator without symmetries\n",
    "model  = model_LDA(lattice, atoms, positions, symmetries=false)\n",
    "basis  = PlaneWaveBasis(model; Ecut, kgrid)\n",
    "scfres = self_consistent_field(basis, tol=1e-8);"
   ],
   "metadata": {},
   "execution_count": 1
  },
  {
   "cell_type": "markdown",
   "source": [
    "Applying $ε^† ≔ (1- χ_0 K)$ …"
   ],
   "metadata": {}
  },
  {
   "outputs": [],
   "cell_type": "code",
   "source": [
    "function eps_fun(δρ)\n",
    "    δV = apply_kernel(basis, δρ; ρ=scfres.ρ)\n",
    "    χ0δV = apply_χ0(scfres, δV)\n",
    "    δρ - χ0δV\n",
    "end;"
   ],
   "metadata": {},
   "execution_count": 2
  },
  {
   "cell_type": "markdown",
   "source": [
    "… eagerly diagonalizes the subspace matrix at each iteration"
   ],
   "metadata": {}
  },
  {
   "outputs": [
    {
     "name": "stdout",
     "output_type": "stream",
     "text": [
      "[ Info: Arnoldi iteration step 1: normres = 0.05094706522808781\n",
      "[ Info: Arnoldi iteration step 2: normres = 0.40826544388630803\n",
      "[ Info: Arnoldi iteration step 3: normres = 0.8262754114729384\n",
      "[ Info: Arnoldi iteration step 4: normres = 0.4476853107903967\n",
      "[ Info: Arnoldi iteration step 5: normres = 0.565565422476882\n",
      "[ Info: Arnoldi schursolve in iter 1, krylovdim = 5: 0 values converged, normres = (1.17e-01, 8.31e-02, 5.05e-01, 2.10e-01, 1.22e-02)\n",
      "[ Info: Arnoldi iteration step 6: normres = 0.28024874531456545\n",
      "[ Info: Arnoldi schursolve in iter 1, krylovdim = 6: 0 values converged, normres = (2.69e-02, 1.25e-01, 1.93e-01, 1.13e-01, 8.37e-02)\n",
      "[ Info: Arnoldi iteration step 7: normres = 0.08658788494163913\n",
      "[ Info: Arnoldi schursolve in iter 1, krylovdim = 7: 0 values converged, normres = (1.13e-03, 1.09e-02, 1.39e-02, 5.44e-02, 5.71e-02)\n",
      "[ Info: Arnoldi iteration step 8: normres = 0.13079299691210497\n",
      "[ Info: Arnoldi schursolve in iter 1, krylovdim = 8: 0 values converged, normres = (6.48e-05, 1.04e-03, 1.46e-03, 2.47e-02, 6.21e-02)\n",
      "[ Info: Arnoldi iteration step 9: normres = 0.06540441728839674\n",
      "[ Info: Arnoldi schursolve in iter 1, krylovdim = 9: 0 values converged, normres = (1.83e-06, 4.83e-05, 7.56e-05, 5.96e-03, 3.19e-02)\n",
      "[ Info: Arnoldi iteration step 10: normres = 0.08840891049275411\n",
      "[ Info: Arnoldi schursolve in iter 1, krylovdim = 10: 0 values converged, normres = (7.12e-08, 3.13e-06, 5.46e-06, 2.00e-03, 2.41e-02)\n",
      "[ Info: Arnoldi iteration step 11: normres = 0.08414111296929708\n",
      "[ Info: Arnoldi schursolve in iter 1, krylovdim = 11: 0 values converged, normres = (2.57e-09, 1.84e-07, 3.57e-07, 5.24e-04, 1.33e-02)\n",
      "[ Info: Arnoldi iteration step 12: normres = 0.06494312850955242\n",
      "[ Info: Arnoldi schursolve in iter 1, krylovdim = 12: 0 values converged, normres = (7.19e-11, 8.49e-09, 1.83e-08, 1.12e-04, 6.29e-03)\n",
      "[ Info: Arnoldi iteration step 13: normres = 0.046042042656939286\n",
      "[ Info: Arnoldi schursolve in iter 1, krylovdim = 13: 0 values converged, normres = (1.40e-12, 2.69e-10, 6.40e-10, 1.45e-05, 1.51e-03)\n",
      "[ Info: Arnoldi iteration step 14: normres = 0.6670704409918247\n",
      "[ Info: Arnoldi schursolve in iter 1, krylovdim = 14: 1 values converged, normres = (5.62e-13, 2.37e-10, 6.90e-10, 6.59e-01, 3.73e-02)\n",
      "[ Info: Arnoldi iteration step 15: normres = 0.03944725765421069\n",
      "[ Info: Arnoldi schursolve in iter 1, krylovdim = 15: 1 values converged, normres = (1.45e-14, 3.36e-11, 2.57e-02, 7.76e-04, 5.86e-06)\n",
      "[ Info: Arnoldi iteration step 16: normres = 0.7248546690556117\n",
      "[ Info: Arnoldi schursolve in iter 1, krylovdim = 16: 1 values converged, normres = (5.97e-15, 2.87e-11, 2.60e-02, 1.00e-03, 7.19e-01)\n",
      "[ Info: Arnoldi iteration step 17: normres = 0.04915321919660062\n",
      "[ Info: Arnoldi schursolve in iter 1, krylovdim = 17: 1 values converged, normres = (2.35e-16, 1.24e-02, 3.38e-02, 5.63e-04, 4.76e-03)\n",
      "[ Info: Arnoldi iteration step 18: normres = 0.020813323867735947\n",
      "[ Info: Arnoldi schursolve in iter 1, krylovdim = 18: 1 values converged, normres = (2.02e-18, 1.69e-04, 4.65e-04, 2.60e-05, 6.81e-05)\n",
      "[ Info: Arnoldi iteration step 19: normres = 0.08221557802786864\n",
      "[ Info: Arnoldi schursolve in iter 1, krylovdim = 19: 1 values converged, normres = (6.83e-20, 2.64e-09, 2.67e-05, 3.12e-06, 2.99e-06)\n",
      "[ Info: Arnoldi iteration step 20: normres = 0.08602661526713483\n",
      "[ Info: Arnoldi schursolve in iter 1, krylovdim = 20: 1 values converged, normres = (2.92e-21, 2.06e-06, 2.42e-07, 1.38e-08, 3.85e-07)\n",
      "[ Info: Arnoldi iteration step 21: normres = 0.03370372342438821\n",
      "[ Info: Arnoldi schursolve in iter 1, krylovdim = 21: 1 values converged, normres = (4.08e-23, 6.39e-10, 4.65e-08, 9.03e-09, 2.95e-09)\n",
      "[ Info: Arnoldi iteration step 22: normres = 0.12318068570364724\n",
      "[ Info: Arnoldi schursolve in iter 1, krylovdim = 22: 1 values converged, normres = (2.10e-24, 8.52e-11, 3.86e-09, 8.71e-10, 4.46e-11)\n",
      "[ Info: Arnoldi iteration step 23: normres = 0.27014055554226735\n",
      "[ Info: Arnoldi schursolve in iter 1, krylovdim = 23: 1 values converged, normres = (5.12e-25, 1.36e-10, 5.29e-09, 4.10e-09, 8.02e-10)\n",
      "[ Info: Arnoldi iteration step 24: normres = 0.014870753499893927\n",
      "[ Info: Arnoldi schursolve in iter 1, krylovdim = 24: 1 values converged, normres = (3.30e-27, 1.60e-12, 7.21e-11, 2.40e-03, 2.90e-04)\n",
      "[ Info: Arnoldi iteration step 25: normres = 0.09920590997025487\n",
      "[ Info: Arnoldi schursolve in iter 1, krylovdim = 25: 2 values converged, normres = (1.37e-28, 1.07e-13, 4.81e-12, 3.44e-08, 1.35e-08)\n",
      "[ Info: Arnoldi iteration step 26: normres = 0.03217158480971495\n",
      "[ Info: Arnoldi schursolve in iter 1, krylovdim = 26: 3 values converged, normres = (1.96e-30, 2.59e-15, 1.16e-13, 5.79e-06, 1.89e-08)\n",
      "[ Info: Arnoldi iteration step 27: normres = 0.01731505400982149\n",
      "[ Info: Arnoldi schursolve in iter 1, krylovdim = 27: 3 values converged, normres = (1.40e-32, 2.93e-17, 1.32e-15, 1.99e-08, 2.01e-08)\n",
      "[ Info: Arnoldi iteration step 28: normres = 0.06624820454249905\n",
      "[ Info: Arnoldi schursolve in iter 1, krylovdim = 28: 3 values converged, normres = (3.82e-34, 1.28e-18, 5.77e-17, 1.69e-09, 2.20e-09)\n",
      "[ Info: Arnoldi iteration step 29: normres = 0.07962006546461724\n",
      "[ Info: Arnoldi schursolve in iter 1, krylovdim = 29: 3 values converged, normres = (1.36e-35, 7.65e-20, 3.44e-18, 1.27e-10, 1.89e-10)\n",
      "[ Info: Arnoldi iteration step 30: normres = 0.15480918845275243\n",
      "[ Info: Arnoldi schursolve in iter 1, krylovdim = 30: 3 values converged, normres = (9.99e-37, 9.92e-21, 4.46e-19, 1.86e-11, 2.76e-11)\n",
      "[ Info: Arnoldi schursolve in iter 2, krylovdim = 19: 3 values converged, normres = (9.99e-37, 9.92e-21, 4.46e-19, 1.86e-11, 2.76e-11)\n",
      "[ Info: Arnoldi iteration step 20: normres = 0.044223932781181835\n",
      "┌ Info: Arnoldi eigsolve finished after 2 iterations:\n",
      "│ *  6 eigenvalues converged\n",
      "│ *  norm of residuals = (1.8988515772732493e-38, 3.1146295068918733e-22, 1.3791382967614498e-20, 6.502679125552637e-13, 1.0571178359560928e-12, 7.738506904848003e-13)\n",
      "└ *  number of operations = 31\n"
     ]
    }
   ],
   "cell_type": "code",
   "source": [
    "eigsolve(eps_fun, randn(size(scfres.ρ)), 5, :LM; eager=true, verbosity=3);"
   ],
   "metadata": {},
   "execution_count": 3
  }
 ],
 "nbformat_minor": 3,
 "metadata": {
  "language_info": {
   "file_extension": ".jl",
   "mimetype": "application/julia",
   "name": "julia",
   "version": "1.8.3"
  },
  "kernelspec": {
   "name": "julia-1.8",
   "display_name": "Julia 1.8.3",
   "language": "julia"
  }
 },
 "nbformat": 4
}
