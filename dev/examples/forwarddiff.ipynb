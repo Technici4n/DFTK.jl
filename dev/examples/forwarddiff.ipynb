{
 "cells": [
  {
   "cell_type": "markdown",
   "source": [
    "# Polarizability using automatic differentiation\n",
    "\n",
    "Simple example for computing properties using (forward-mode)\n",
    "automatic differentiation.\n",
    "For a more classical approach and more details about computing polarizabilities,\n",
    "see Polarizability by linear response."
   ],
   "metadata": {}
  },
  {
   "outputs": [],
   "cell_type": "code",
   "source": [
    "using DFTK\n",
    "using LinearAlgebra\n",
    "using ForwardDiff\n",
    "\n",
    "# Construct PlaneWaveBasis given a particular electric field strength\n",
    "# Again we take the example of a Helium atom.\n",
    "function make_basis(ε::T; a=10., Ecut=30) where {T}\n",
    "    lattice=T(a) * I(3)  # lattice is a cube of $a$ Bohrs\n",
    "    # Helium at the center of the box\n",
    "    atoms     = [ElementPsp(:He, psp=load_psp(\"hgh/lda/He-q2\"))]\n",
    "    positions = [[1/2, 1/2, 1/2]]\n",
    "\n",
    "    model = model_DFT(lattice, atoms, positions, [:lda_x, :lda_c_vwn];\n",
    "                      extra_terms=[ExternalFromReal(r -> -ε * (r[1] - a/2))],\n",
    "                      symmetries=false)\n",
    "    PlaneWaveBasis(model; Ecut, kgrid=[1, 1, 1])  # No k-point sampling on isolated system\n",
    "end\n",
    "\n",
    "# dipole moment of a given density (assuming the current geometry)\n",
    "function dipole(basis, ρ)\n",
    "    @assert isdiag(basis.model.lattice)\n",
    "    a  = basis.model.lattice[1, 1]\n",
    "    rr = [a * (r[1] - 1/2) for r in r_vectors(basis)]\n",
    "    sum(rr .* ρ) * basis.dvol\n",
    "end\n",
    "\n",
    "# Function to compute the dipole for a given field strength\n",
    "function compute_dipole(ε; tol=1e-8, kwargs...)\n",
    "    scfres = self_consistent_field(make_basis(ε; kwargs...); tol)\n",
    "    dipole(scfres.basis, scfres.ρ)\n",
    "end;"
   ],
   "metadata": {},
   "execution_count": 1
  },
  {
   "cell_type": "markdown",
   "source": [
    "With this in place we can compute the polarizability from finite differences\n",
    "(just like in the previous example):"
   ],
   "metadata": {}
  },
  {
   "outputs": [
    {
     "name": "stdout",
     "output_type": "stream",
     "text": [
      "n     Energy            log10(ΔE)   log10(Δρ)   Diag   Δtime\n",
      "---   ---------------   ---------   ---------   ----   ------\n",
      "  1   -2.770797467632                   -0.53    9.0         \n",
      "  2   -2.772141057594       -2.87       -1.31    1.0    129ms\n",
      "  3   -2.772170237062       -4.53       -2.55    1.0    131ms\n",
      "  4   -2.772170702618       -6.33       -3.46    2.0    200ms\n",
      "  5   -2.772170721960       -7.71       -4.03    1.0    134ms\n",
      "  6   -2.772170722929       -9.01       -5.00    1.0    135ms\n",
      "  7   -2.772170723013      -10.08       -5.23    2.0    177ms\n",
      "  8   -2.772170723015      -11.66       -6.67    1.0    141ms\n",
      "  9   -2.772170723015      -13.54       -6.57    2.0    171ms\n",
      " 10   -2.772170723015   +  -14.40       -6.84    1.0    163ms\n",
      " 11   -2.772170723015      -13.85       -7.75    1.0    144ms\n",
      " 12   -2.772170723015      -14.31       -8.80    2.0    178ms\n",
      "n     Energy            log10(ΔE)   log10(Δρ)   Diag   Δtime\n",
      "---   ---------------   ---------   ---------   ----   ------\n",
      "  1   -2.770573180972                   -0.53    9.0         \n",
      "  2   -2.772050732583       -2.83       -1.30    1.0    129ms\n",
      "  3   -2.772082830785       -4.49       -2.65    1.0    166ms\n",
      "  4   -2.772083414841       -6.23       -3.82    2.0    151ms\n",
      "  5   -2.772083417361       -8.60       -4.21    2.0    157ms\n",
      "  6   -2.772083417796       -9.36       -5.29    1.0    158ms\n",
      "  7   -2.772083417810      -10.83       -5.88    2.0    155ms\n",
      "  8   -2.772083417811      -12.80       -6.46    1.0    158ms\n",
      "  9   -2.772083417811      -13.89       -7.07    1.0    148ms\n",
      " 10   -2.772083417811      -13.85       -7.63    2.0    165ms\n",
      " 11   -2.772083417811   +  -13.85       -7.97    2.0    170ms\n",
      " 12   -2.772083417811      -14.51       -9.36    1.0    150ms\n"
     ]
    },
    {
     "output_type": "execute_result",
     "data": {
      "text/plain": "1.7735580120435548"
     },
     "metadata": {},
     "execution_count": 2
    }
   ],
   "cell_type": "code",
   "source": [
    "polarizability_fd = let\n",
    "    ε = 0.01\n",
    "    (compute_dipole(ε) - compute_dipole(0.0)) / ε\n",
    "end"
   ],
   "metadata": {},
   "execution_count": 2
  },
  {
   "cell_type": "markdown",
   "source": [
    "We do the same thing using automatic differentiation. Under the hood this uses\n",
    "custom rules to implicitly differentiate through the self-consistent\n",
    "field fixed-point problem."
   ],
   "metadata": {}
  },
  {
   "outputs": [
    {
     "name": "stdout",
     "output_type": "stream",
     "text": [
      "n     Energy            log10(ΔE)   log10(Δρ)   Diag   Δtime\n",
      "---   ---------------   ---------   ---------   ----   ------\n",
      "  1   -2.770807255839                   -0.53   10.0         \n",
      "  2   -2.772048516466       -2.91       -1.31    1.0    130ms\n",
      "  3   -2.772082394314       -4.47       -2.63    1.0    132ms\n",
      "  4   -2.772083414848       -5.99       -3.84    2.0    196ms\n",
      "  5   -2.772083417749       -8.54       -4.72    2.0    183ms\n",
      "  6   -2.772083417809      -10.22       -5.85    1.0    134ms\n",
      "  7   -2.772083417811      -11.77       -6.41    2.0    154ms\n",
      "  8   -2.772083417811      -14.45       -7.04    2.0    179ms\n",
      "  9   -2.772083417811      -14.18       -7.92    1.0    148ms\n",
      " 10   -2.772083417811   +  -13.94       -9.16    2.0    165ms\n",
      "\n",
      "Polarizability via ForwardDiff:       1.772534972108326\n",
      "Polarizability via finite difference: 1.7735580120435548\n"
     ]
    }
   ],
   "cell_type": "code",
   "source": [
    "polarizability = ForwardDiff.derivative(compute_dipole, 0.0)\n",
    "println()\n",
    "println(\"Polarizability via ForwardDiff:       $polarizability\")\n",
    "println(\"Polarizability via finite difference: $polarizability_fd\")"
   ],
   "metadata": {},
   "execution_count": 3
  }
 ],
 "nbformat_minor": 3,
 "metadata": {
  "language_info": {
   "file_extension": ".jl",
   "mimetype": "application/julia",
   "name": "julia",
   "version": "1.8.5"
  },
  "kernelspec": {
   "name": "julia-1.8",
   "display_name": "Julia 1.8.5",
   "language": "julia"
  }
 },
 "nbformat": 4
}
