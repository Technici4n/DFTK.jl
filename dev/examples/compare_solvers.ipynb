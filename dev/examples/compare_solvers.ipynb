{
 "cells": [
  {
   "cell_type": "markdown",
   "source": [
    "# Comparison of DFT solvers"
   ],
   "metadata": {}
  },
  {
   "cell_type": "markdown",
   "source": [
    "We compare four different approaches for solving the DFT minimisation problem,\n",
    "namely a density-based SCF, a potential-based SCF, direct minimisation and Newton."
   ],
   "metadata": {}
  },
  {
   "cell_type": "markdown",
   "source": [
    "First we setup our problem"
   ],
   "metadata": {}
  },
  {
   "outputs": [],
   "cell_type": "code",
   "source": [
    "using DFTK\n",
    "using LinearAlgebra\n",
    "\n",
    "a = 10.26  # Silicon lattice constant in Bohr\n",
    "lattice = a / 2 * [[0 1 1.];\n",
    "                   [1 0 1.];\n",
    "                   [1 1 0.]]\n",
    "Si = ElementPsp(:Si, psp=load_psp(\"hgh/lda/Si-q4\"))\n",
    "atoms     = [Si, Si]\n",
    "positions = [ones(3)/8, -ones(3)/8]\n",
    "\n",
    "model = model_LDA(lattice, atoms, positions)\n",
    "basis = PlaneWaveBasis(model; Ecut=5, kgrid=[3, 3, 3])\n",
    "\n",
    "# Convergence we desire\n",
    "tol = 1e-12\n",
    "is_converged = DFTK.ScfConvergenceDensity(tol);"
   ],
   "metadata": {},
   "execution_count": 1
  },
  {
   "cell_type": "markdown",
   "source": [
    "## Density-based self-consistent field"
   ],
   "metadata": {}
  },
  {
   "outputs": [
    {
     "name": "stdout",
     "output_type": "stream",
     "text": [
      "n     Energy            log10(ΔE)   log10(Δρ)   Diag\n",
      "---   ---------------   ---------   ---------   ----\n",
      "  1   -7.846853577944                   -0.70    4.8\n",
      "  2   -7.852321314158       -2.26       -1.53    1.0\n",
      "  3   -7.852646234714       -3.49       -2.52    3.0\n",
      "  4   -7.852646679527       -6.35       -3.36    2.8\n",
      "  5   -7.852646686126       -8.18       -4.78    1.2\n",
      "  6   -7.852646686724       -9.22       -5.28    3.2\n",
      "  7   -7.852646686730      -11.25       -6.22    1.8\n",
      "  8   -7.852646686730      -12.86       -7.63    2.0\n",
      "  9   -7.852646686730      -14.75       -7.69    2.2\n",
      " 10   -7.852646686730   +    -Inf       -8.78    2.2\n",
      " 11   -7.852646686730   +    -Inf       -9.55    2.0\n",
      " 12   -7.852646686730   +    -Inf      -10.12    2.2\n",
      " 13   -7.852646686730   +  -14.75      -11.37    2.8\n",
      " 14   -7.852646686730      -14.45      -11.73    1.8\n",
      " 15   -7.852646686730   +  -14.75      -13.06    2.8\n"
     ]
    }
   ],
   "cell_type": "code",
   "source": [
    "scfres_scf = self_consistent_field(basis; is_converged);"
   ],
   "metadata": {},
   "execution_count": 2
  },
  {
   "cell_type": "markdown",
   "source": [
    "## Potential-based SCF"
   ],
   "metadata": {}
  },
  {
   "outputs": [
    {
     "name": "stdout",
     "output_type": "stream",
     "text": [
      "n     Energy            log10(ΔE)   log10(Δρ)   α      Diag\n",
      "---   ---------------   ---------   ---------   ----   ----\n",
      "  1   -7.846776499544                   -0.70           4.2\n",
      "  2   -7.852539130662       -2.24       -1.63   0.80    2.2\n",
      "  3   -7.852638208157       -4.00       -2.72   0.80    1.0\n",
      "  4   -7.852646481275       -5.08       -3.35   0.80    1.8\n",
      "  5   -7.852646678415       -6.71       -4.22   0.80    2.0\n",
      "  6   -7.852646686566       -8.09       -4.75   0.80    1.8\n",
      "  7   -7.852646686716       -9.82       -5.63   0.80    1.2\n",
      "  8   -7.852646686730      -10.86       -6.15   0.80    2.2\n",
      "  9   -7.852646686730      -12.62       -7.39   0.80    1.5\n",
      " 10   -7.852646686730      -13.94       -7.97   0.80    2.2\n",
      " 11   -7.852646686730   +  -15.05       -8.83   0.80    1.5\n",
      " 12   -7.852646686730      -14.75      -10.01   0.80    2.0\n",
      " 13   -7.852646686730   +    -Inf      -10.47   0.80    2.8\n",
      " 14   -7.852646686730   +    -Inf      -11.91   0.80    1.2\n",
      " 15   -7.852646686730   +    -Inf      -11.53   0.80    3.2\n",
      " 16   -7.852646686730      -15.05      -12.98   0.80    1.0\n"
     ]
    }
   ],
   "cell_type": "code",
   "source": [
    "scfres_scfv = DFTK.scf_potential_mixing(basis; is_converged);"
   ],
   "metadata": {},
   "execution_count": 3
  },
  {
   "cell_type": "markdown",
   "source": [
    "## Direct minimization"
   ],
   "metadata": {}
  },
  {
   "outputs": [
    {
     "name": "stdout",
     "output_type": "stream",
     "text": [
      "Iter     Function value   Gradient norm \n",
      "     0     1.442767e+01     3.909391e+00\n",
      " * time: 0.5550429821014404\n",
      "     1     1.370069e+00     1.937601e+00\n",
      " * time: 0.8223450183868408\n",
      "     2    -1.686579e+00     2.330617e+00\n",
      " * time: 0.8512780666351318\n",
      "     3    -3.797308e+00     2.001718e+00\n",
      " * time: 0.8938901424407959\n",
      "     4    -5.164471e+00     1.487741e+00\n",
      " * time: 0.939141035079956\n",
      "     5    -6.883785e+00     9.920049e-01\n",
      " * time: 0.9787909984588623\n",
      "     6    -6.985145e+00     1.331095e+00\n",
      " * time: 1.0088350772857666\n",
      "     7    -7.584200e+00     1.078871e+00\n",
      " * time: 1.0375950336456299\n",
      "     8    -7.661822e+00     1.130320e+00\n",
      " * time: 1.0664341449737549\n",
      "     9    -7.758679e+00     1.073831e+00\n",
      " * time: 1.0951359272003174\n",
      "    10    -7.776428e+00     1.124570e+00\n",
      " * time: 1.1234509944915771\n",
      "    11    -7.795573e+00     1.028508e+00\n",
      " * time: 1.1518311500549316\n",
      "    12    -7.820556e+00     2.174528e-01\n",
      " * time: 1.193424940109253\n",
      "    13    -7.836095e+00     2.156783e-01\n",
      " * time: 1.2225890159606934\n",
      "    14    -7.842377e+00     5.551523e-02\n",
      " * time: 1.2519280910491943\n",
      "    15    -7.850105e+00     8.648463e-02\n",
      " * time: 1.2810051441192627\n",
      "    16    -7.852034e+00     4.104085e-02\n",
      " * time: 1.309908151626587\n",
      "    17    -7.852385e+00     9.723787e-03\n",
      " * time: 1.3391530513763428\n",
      "    18    -7.852545e+00     1.143155e-02\n",
      " * time: 1.3677361011505127\n",
      "    19    -7.852620e+00     8.495560e-03\n",
      " * time: 1.3972301483154297\n",
      "    20    -7.852639e+00     2.750007e-03\n",
      " * time: 1.427401065826416\n",
      "    21    -7.852645e+00     1.694293e-03\n",
      " * time: 1.4569060802459717\n",
      "    22    -7.852646e+00     5.537130e-04\n",
      " * time: 1.4859869480133057\n",
      "    23    -7.852646e+00     3.042981e-04\n",
      " * time: 1.5139789581298828\n",
      "    24    -7.852647e+00     2.783850e-04\n",
      " * time: 1.5421509742736816\n",
      "    25    -7.852647e+00     1.585628e-04\n",
      " * time: 1.570404052734375\n",
      "    26    -7.852647e+00     6.147933e-05\n",
      " * time: 1.6009960174560547\n",
      "    27    -7.852647e+00     5.326316e-05\n",
      " * time: 1.6283490657806396\n",
      "    28    -7.852647e+00     2.352473e-05\n",
      " * time: 1.6553540229797363\n",
      "    29    -7.852647e+00     1.434120e-05\n",
      " * time: 1.7387640476226807\n",
      "    30    -7.852647e+00     9.883131e-06\n",
      " * time: 1.767557144165039\n",
      "    31    -7.852647e+00     6.380697e-06\n",
      " * time: 1.7954211235046387\n",
      "    32    -7.852647e+00     2.185534e-06\n",
      " * time: 1.8241801261901855\n",
      "    33    -7.852647e+00     1.475201e-06\n",
      " * time: 1.8513410091400146\n",
      "    34    -7.852647e+00     8.343027e-07\n",
      " * time: 1.8790841102600098\n",
      "    35    -7.852647e+00     4.678407e-07\n",
      " * time: 1.9075140953063965\n",
      "    36    -7.852647e+00     3.325270e-07\n",
      " * time: 1.9358739852905273\n",
      "    37    -7.852647e+00     1.621809e-07\n",
      " * time: 1.9642319679260254\n",
      "    38    -7.852647e+00     1.020569e-07\n",
      " * time: 1.9984910488128662\n",
      "    39    -7.852647e+00     4.943614e-08\n",
      " * time: 2.0283000469207764\n",
      "    40    -7.852647e+00     3.451861e-08\n",
      " * time: 2.0572350025177\n",
      "    41    -7.852647e+00     2.286748e-08\n",
      " * time: 2.0867600440979004\n",
      "    42    -7.852647e+00     2.286748e-08\n",
      " * time: 2.23293399810791\n"
     ]
    }
   ],
   "cell_type": "code",
   "source": [
    "scfres_dm = direct_minimization(basis; tol);"
   ],
   "metadata": {},
   "execution_count": 4
  },
  {
   "cell_type": "markdown",
   "source": [
    "## Newton algorithm"
   ],
   "metadata": {}
  },
  {
   "cell_type": "markdown",
   "source": [
    "Start not too far from the solution to ensure convergence:\n",
    "We run first a very crude SCF to get close and then switch to Newton."
   ],
   "metadata": {}
  },
  {
   "outputs": [
    {
     "name": "stdout",
     "output_type": "stream",
     "text": [
      "n     Energy            log10(ΔE)   log10(Δρ)   Diag\n",
      "---   ---------------   ---------   ---------   ----\n",
      "  1   -7.846867605831                   -0.70    4.2\n",
      "  2   -7.852307255586       -2.26       -1.53    1.0\n"
     ]
    }
   ],
   "cell_type": "code",
   "source": [
    "scfres_start = self_consistent_field(basis; tol=1e-1);"
   ],
   "metadata": {},
   "execution_count": 5
  },
  {
   "cell_type": "markdown",
   "source": [
    "Remove the virtual orbitals (which Newton cannot treat yet)"
   ],
   "metadata": {}
  },
  {
   "outputs": [
    {
     "name": "stdout",
     "output_type": "stream",
     "text": [
      "n     Energy            log10(ΔE)   log10(Δρ)\n",
      "---   ---------------   ---------   ---------\n",
      "  1   -7.852646686559                   -2.55\n",
      "  2   -7.852646686730       -9.77       -5.89\n",
      "  3   -7.852646686730   +    -Inf      -11.62\n",
      "  4   -7.852646686730   +    -Inf      -16.01\n"
     ]
    }
   ],
   "cell_type": "code",
   "source": [
    "ψ, _ = DFTK.select_occupied_orbitals(basis, scfres_start.ψ, scfres_start.occupation)\n",
    "scfres_newton = newton(basis, ψ; tol);"
   ],
   "metadata": {},
   "execution_count": 6
  },
  {
   "cell_type": "markdown",
   "source": [
    "## Comparison of results"
   ],
   "metadata": {}
  },
  {
   "outputs": [
    {
     "name": "stdout",
     "output_type": "stream",
     "text": [
      "|ρ_newton - ρ_scf|  = 2.2945610626287292e-14\n",
      "|ρ_newton - ρ_scfv| = 2.3517521623550683e-13\n",
      "|ρ_newton - ρ_dm|   = 3.975715854132333e-9\n"
     ]
    }
   ],
   "cell_type": "code",
   "source": [
    "println(\"|ρ_newton - ρ_scf|  = \", norm(scfres_newton.ρ - scfres_scf.ρ))\n",
    "println(\"|ρ_newton - ρ_scfv| = \", norm(scfres_newton.ρ - scfres_scfv.ρ))\n",
    "println(\"|ρ_newton - ρ_dm|   = \", norm(scfres_newton.ρ - scfres_dm.ρ))"
   ],
   "metadata": {},
   "execution_count": 7
  }
 ],
 "nbformat_minor": 3,
 "metadata": {
  "language_info": {
   "file_extension": ".jl",
   "mimetype": "application/julia",
   "name": "julia",
   "version": "1.8.2"
  },
  "kernelspec": {
   "name": "julia-1.8",
   "display_name": "Julia 1.8.2",
   "language": "julia"
  }
 },
 "nbformat": 4
}
