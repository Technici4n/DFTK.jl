{
 "cells": [
  {
   "cell_type": "markdown",
   "source": [
    "# Eigenvalues of the dielectric matrix\n",
    "\n",
    "We compute a few eigenvalues of the dielectric matrix ($q=0$, $ω=0$) iteratively."
   ],
   "metadata": {}
  },
  {
   "outputs": [
    {
     "name": "stdout",
     "output_type": "stream",
     "text": [
      "n     Energy            log10(ΔE)   log10(Δρ)   Diag   Δtime\n",
      "---   ---------------   ---------   ---------   ----   ------\n",
      "  1   -7.235237817225                   -0.50    7.0         \n",
      "  2   -7.249811893791       -1.84       -1.39    1.0   11.7ms\n",
      "  3   -7.251150196008       -2.87       -1.97    2.0   13.6ms\n",
      "  4   -7.251236009059       -4.07       -2.11    2.0   14.4ms\n",
      "  5   -7.251296471986       -4.22       -2.34    1.0   13.4ms\n",
      "  6   -7.251337017100       -4.39       -3.01    1.0   13.7ms\n",
      "  7   -7.251338657678       -5.79       -3.43    2.0   18.2ms\n",
      "  8   -7.251338781438       -6.91       -3.90    1.0   81.3ms\n",
      "  9   -7.251338795328       -7.86       -4.28    2.0   14.7ms\n",
      " 10   -7.251338798419       -8.51       -4.85    1.0   14.7ms\n",
      " 11   -7.251338798657       -9.62       -5.17    3.0   16.7ms\n",
      " 12   -7.251338798699      -10.38       -5.76    2.0   22.6ms\n",
      " 13   -7.251338798704      -11.32       -6.15    2.0   18.9ms\n",
      " 14   -7.251338798704      -12.19       -6.45    3.0   17.3ms\n",
      " 15   -7.251338798705      -13.06       -6.99    1.0   17.7ms\n",
      " 16   -7.251338798705      -13.75       -7.31    2.0   19.2ms\n",
      " 17   -7.251338798705   +    -Inf       -7.95    1.0   16.1ms\n",
      " 18   -7.251338798705   +    -Inf       -7.94    3.0   19.3ms\n",
      " 19   -7.251338798705   +    -Inf       -8.44    1.0   14.7ms\n"
     ]
    }
   ],
   "cell_type": "code",
   "source": [
    "using DFTK\n",
    "using Plots\n",
    "using KrylovKit\n",
    "using Printf\n",
    "\n",
    "# Calculation parameters\n",
    "kgrid = [1, 1, 1]\n",
    "Ecut = 5\n",
    "\n",
    "# Silicon lattice\n",
    "a = 10.26\n",
    "lattice = a / 2 .* [[0 1 1.]; [1 0 1.]; [1 1 0.]]\n",
    "Si = ElementPsp(:Si, psp=load_psp(\"hgh/lda/Si-q4\"))\n",
    "atoms     = [Si, Si]\n",
    "positions = [ones(3)/8, -ones(3)/8]\n",
    "\n",
    "# Compute the dielectric operator without symmetries\n",
    "model  = model_LDA(lattice, atoms, positions, symmetries=false)\n",
    "basis  = PlaneWaveBasis(model; Ecut, kgrid)\n",
    "scfres = self_consistent_field(basis, tol=1e-8);"
   ],
   "metadata": {},
   "execution_count": 1
  },
  {
   "cell_type": "markdown",
   "source": [
    "Applying $ε^† ≔ (1- χ_0 K)$ …"
   ],
   "metadata": {}
  },
  {
   "outputs": [],
   "cell_type": "code",
   "source": [
    "function eps_fun(δρ)\n",
    "    δV = apply_kernel(basis, δρ; ρ=scfres.ρ)\n",
    "    χ0δV = apply_χ0(scfres, δV)\n",
    "    δρ - χ0δV\n",
    "end;"
   ],
   "metadata": {},
   "execution_count": 2
  },
  {
   "cell_type": "markdown",
   "source": [
    "… eagerly diagonalizes the subspace matrix at each iteration"
   ],
   "metadata": {}
  },
  {
   "outputs": [
    {
     "name": "stdout",
     "output_type": "stream",
     "text": [
      "[ Info: Arnoldi iteration step 1: normres = 0.051546166983921726\n",
      "[ Info: Arnoldi iteration step 2: normres = 0.4557021687482518\n",
      "[ Info: Arnoldi iteration step 3: normres = 0.7893499779827291\n",
      "[ Info: Arnoldi iteration step 4: normres = 0.48454808335939176\n",
      "[ Info: Arnoldi iteration step 5: normres = 0.47652728226183794\n",
      "[ Info: Arnoldi schursolve in iter 1, krylovdim = 5: 0 values converged, normres = (1.01e-01, 7.83e-02, 3.75e-01, 2.64e-01, 1.42e-02)\n",
      "[ Info: Arnoldi iteration step 6: normres = 0.29821511343177404\n",
      "[ Info: Arnoldi schursolve in iter 1, krylovdim = 6: 0 values converged, normres = (2.59e-02, 1.28e-01, 2.34e-01, 9.28e-02, 8.99e-02)\n",
      "[ Info: Arnoldi iteration step 7: normres = 0.07346004348908544\n",
      "[ Info: Arnoldi schursolve in iter 1, krylovdim = 7: 0 values converged, normres = (8.97e-04, 9.73e-03, 1.27e-02, 2.53e-02, 5.53e-02)\n",
      "[ Info: Arnoldi iteration step 8: normres = 0.09314319500237628\n",
      "[ Info: Arnoldi schursolve in iter 1, krylovdim = 8: 0 values converged, normres = (3.73e-05, 6.81e-04, 9.91e-04, 1.01e-02, 6.26e-02)\n",
      "[ Info: Arnoldi iteration step 9: normres = 0.09378192794981739\n",
      "[ Info: Arnoldi schursolve in iter 1, krylovdim = 9: 0 values converged, normres = (1.49e-06, 4.43e-05, 7.15e-05, 2.89e-03, 3.31e-02)\n",
      "[ Info: Arnoldi iteration step 10: normres = 0.06774256041653287\n",
      "[ Info: Arnoldi schursolve in iter 1, krylovdim = 10: 0 values converged, normres = (4.48e-08, 2.24e-06, 4.03e-06, 8.39e-04, 2.82e-02)\n",
      "[ Info: Arnoldi iteration step 11: normres = 0.08792233148087329\n",
      "[ Info: Arnoldi schursolve in iter 1, krylovdim = 11: 0 values converged, normres = (1.67e-09, 1.36e-07, 2.72e-07, 2.17e-04, 1.35e-02)\n",
      "[ Info: Arnoldi iteration step 12: normres = 0.0714241120985061\n",
      "[ Info: Arnoldi schursolve in iter 1, krylovdim = 12: 0 values converged, normres = (5.18e-11, 6.94e-09, 1.54e-08, 5.17e-05, 7.01e-03)\n",
      "[ Info: Arnoldi iteration step 13: normres = 0.04011147916717518\n",
      "[ Info: Arnoldi schursolve in iter 1, krylovdim = 13: 1 values converged, normres = (8.76e-13, 1.90e-10, 4.67e-10, 5.76e-06, 1.47e-03)\n",
      "[ Info: Arnoldi iteration step 14: normres = 0.6988760489490498\n",
      "[ Info: Arnoldi schursolve in iter 1, krylovdim = 14: 1 values converged, normres = (3.28e-13, 1.39e-10, 3.99e-10, 6.88e-01, 1.10e-01)\n",
      "[ Info: Arnoldi iteration step 15: normres = 0.0946133468293044\n",
      "[ Info: Arnoldi schursolve in iter 1, krylovdim = 15: 1 values converged, normres = (2.45e-14, 1.31e-10, 7.30e-02, 4.81e-05, 1.46e-05)\n",
      "[ Info: Arnoldi iteration step 16: normres = 0.4626036009568251\n",
      "[ Info: Arnoldi schursolve in iter 1, krylovdim = 16: 1 values converged, normres = (1.00e-14, 3.96e-10, 1.68e-01, 6.18e-04, 4.30e-01)\n",
      "[ Info: Arnoldi iteration step 17: normres = 0.03556568490201787\n",
      "[ Info: Arnoldi schursolve in iter 1, krylovdim = 17: 1 values converged, normres = (1.70e-16, 3.78e-09, 7.63e-03, 3.28e-06, 9.29e-03)\n",
      "[ Info: Arnoldi iteration step 18: normres = 0.019046142747500997\n",
      "[ Info: Arnoldi schursolve in iter 1, krylovdim = 18: 1 values converged, normres = (1.34e-18, 3.38e-05, 9.03e-05, 9.52e-09, 1.29e-04)\n",
      "[ Info: Arnoldi iteration step 19: normres = 0.07634855760856081\n",
      "[ Info: Arnoldi schursolve in iter 1, krylovdim = 19: 1 values converged, normres = (4.20e-20, 2.54e-07, 4.83e-06, 1.55e-06, 6.94e-06)\n",
      "[ Info: Arnoldi iteration step 20: normres = 0.1236880651507782\n",
      "[ Info: Arnoldi schursolve in iter 1, krylovdim = 20: 1 values converged, normres = (2.55e-21, 6.34e-09, 5.27e-07, 2.22e-08, 8.85e-07)\n",
      "[ Info: Arnoldi iteration step 21: normres = 0.036881313894145486\n",
      "[ Info: Arnoldi schursolve in iter 1, krylovdim = 21: 1 values converged, normres = (3.97e-23, 1.25e-08, 4.74e-09, 3.95e-09, 2.45e-08)\n",
      "[ Info: Arnoldi iteration step 22: normres = 0.021380685397802413\n",
      "[ Info: Arnoldi schursolve in iter 1, krylovdim = 22: 1 values converged, normres = (3.51e-25, 1.89e-10, 1.66e-11, 7.73e-11, 3.80e-10)\n",
      "[ Info: Arnoldi iteration step 23: normres = 0.5246599610706681\n",
      "[ Info: Arnoldi schursolve in iter 1, krylovdim = 23: 1 values converged, normres = (8.24e-26, 7.43e-11, 7.53e-12, 3.39e-11, 1.68e-10)\n",
      "[ Info: Arnoldi iteration step 24: normres = 0.031495350915483854\n",
      "[ Info: Arnoldi schursolve in iter 1, krylovdim = 24: 1 values converged, normres = (2.27e-27, 1.43e-11, 1.42e-12, 4.01e-10, 2.12e-09)\n",
      "[ Info: Arnoldi iteration step 25: normres = 0.04624786382732307\n",
      "[ Info: Arnoldi schursolve in iter 1, krylovdim = 25: 3 values converged, normres = (4.32e-29, 4.40e-13, 4.36e-14, 8.28e-04, 6.08e-05)\n",
      "[ Info: Arnoldi iteration step 26: normres = 0.07498750079846185\n",
      "[ Info: Arnoldi schursolve in iter 1, krylovdim = 26: 3 values converged, normres = (1.46e-30, 2.51e-14, 2.49e-15, 6.84e-10, 3.44e-09)\n",
      "[ Info: Arnoldi iteration step 27: normres = 0.01688646065698467\n",
      "[ Info: Arnoldi schursolve in iter 1, krylovdim = 27: 3 values converged, normres = (1.02e-32, 2.81e-16, 2.79e-17, 6.43e-07, 3.68e-07)\n",
      "[ Info: Arnoldi iteration step 28: normres = 0.07846224052137547\n",
      "[ Info: Arnoldi schursolve in iter 1, krylovdim = 28: 3 values converged, normres = (3.33e-34, 1.48e-17, 1.46e-18, 1.55e-08, 2.92e-08)\n",
      "[ Info: Arnoldi iteration step 29: normres = 0.04360301689883697\n",
      "[ Info: Arnoldi schursolve in iter 1, krylovdim = 29: 3 values converged, normres = (6.34e-36, 4.66e-19, 4.62e-20, 1.20e-10, 1.51e-09)\n",
      "[ Info: Arnoldi iteration step 30: normres = 0.18187143948454892\n",
      "[ Info: Arnoldi schursolve in iter 1, krylovdim = 30: 3 values converged, normres = (5.18e-37, 6.42e-20, 6.37e-21, 1.52e-11, 2.31e-10)\n",
      "[ Info: Arnoldi schursolve in iter 2, krylovdim = 19: 3 values converged, normres = (5.18e-37, 6.42e-20, 6.37e-21, 1.52e-11, 2.31e-10)\n",
      "[ Info: Arnoldi iteration step 20: normres = 0.118014998451441\n",
      "[ Info: Arnoldi schursolve in iter 2, krylovdim = 20: 3 values converged, normres = (2.83e-38, 6.08e-21, 6.03e-22, 1.67e-12, 2.46e-11)\n",
      "[ Info: Arnoldi iteration step 21: normres = 0.035440527415637225\n",
      "┌ Info: Arnoldi eigsolve finished after 2 iterations:\n",
      "│ *  6 eigenvalues converged\n",
      "│ *  norm of residuals = (4.342208431610705e-40, 1.5450781760776555e-22, 1.861510702855712e-23, 4.712390087944176e-14, 6.848845571314666e-13, 1.9507354533143236e-13)\n",
      "└ *  number of operations = 32\n"
     ]
    }
   ],
   "cell_type": "code",
   "source": [
    "eigsolve(eps_fun, randn(size(scfres.ρ)), 5, :LM; eager=true, verbosity=3);"
   ],
   "metadata": {},
   "execution_count": 3
  }
 ],
 "nbformat_minor": 3,
 "metadata": {
  "language_info": {
   "file_extension": ".jl",
   "mimetype": "application/julia",
   "name": "julia",
   "version": "1.8.5"
  },
  "kernelspec": {
   "name": "julia-1.8",
   "display_name": "Julia 1.8.5",
   "language": "julia"
  }
 },
 "nbformat": 4
}
