{
 "cells": [
  {
   "cell_type": "markdown",
   "source": [
    "# Eigenvalues of the dielectric matrix\n",
    "\n",
    "We compute a few eigenvalues of the dielectric matrix ($q=0$, $ω=0$) iteratively."
   ],
   "metadata": {}
  },
  {
   "outputs": [
    {
     "name": "stdout",
     "output_type": "stream",
     "text": [
      "n     Energy            log10(ΔE)   log10(Δρ)   Diag\n",
      "---   ---------------   ---------   ---------   ----\n",
      "  1   -7.232770642519                   -0.50    7.0\n",
      "  2   -7.249210533082       -1.78       -1.38    1.0\n",
      "  3   -7.251081475301       -2.73       -1.84    4.0\n",
      "  4   -7.250995691288   +   -4.07       -1.89    3.0\n",
      "  5   -7.251299631065       -3.52       -2.36    2.0\n",
      "  6   -7.251336308257       -4.44       -2.90    2.0\n",
      "  7   -7.251338742499       -5.61       -3.82    3.0\n",
      "  8   -7.251338782216       -7.40       -3.92    4.0\n",
      "  9   -7.251338797095       -7.83       -4.34    3.0\n",
      " 10   -7.251338797793       -9.16       -4.58    1.0\n",
      " 11   -7.251338798695       -9.04       -5.59    4.0\n",
      " 12   -7.251338798701      -11.22       -5.68    2.0\n",
      " 13   -7.251338798704      -11.59       -6.10    2.0\n",
      " 14   -7.251338798705      -12.19       -6.76    3.0\n",
      " 15   -7.251338798705      -13.71       -7.08    2.0\n",
      " 16   -7.251338798705      -14.05       -7.58    2.0\n"
     ]
    }
   ],
   "cell_type": "code",
   "source": [
    "using DFTK\n",
    "using Plots\n",
    "using KrylovKit\n",
    "using Printf\n",
    "\n",
    "# Calculation parameters\n",
    "kgrid = [1, 1, 1]\n",
    "Ecut = 5\n",
    "\n",
    "# Silicon lattice\n",
    "a = 10.26\n",
    "lattice = a / 2 .* [[0 1 1.]; [1 0 1.]; [1 1 0.]]\n",
    "Si = ElementPsp(:Si, psp=load_psp(\"hgh/lda/Si-q4\"))\n",
    "atoms     = [Si, Si]\n",
    "positions = [ones(3)/8, -ones(3)/8]\n",
    "\n",
    "# Compute the dielectric operator without symmetries\n",
    "model = model_LDA(lattice, atoms, positions, symmetries=false)\n",
    "basis = PlaneWaveBasis(model; Ecut, kgrid)\n",
    "scfres = self_consistent_field(basis, tol=1e-14);"
   ],
   "metadata": {},
   "execution_count": 1
  },
  {
   "cell_type": "markdown",
   "source": [
    "Applying $ε^† ≔ (1- χ_0 K)$ …"
   ],
   "metadata": {}
  },
  {
   "outputs": [],
   "cell_type": "code",
   "source": [
    "function eps_fun(δρ)\n",
    "    δV = apply_kernel(basis, δρ; ρ=scfres.ρ)\n",
    "    χ0δV = apply_χ0(scfres, δV)\n",
    "    δρ - χ0δV\n",
    "end;"
   ],
   "metadata": {},
   "execution_count": 2
  },
  {
   "cell_type": "markdown",
   "source": [
    "… eagerly diagonalizes the subspace matrix at each iteration"
   ],
   "metadata": {}
  },
  {
   "outputs": [
    {
     "name": "stdout",
     "output_type": "stream",
     "text": [
      "[ Info: Arnoldi iteration step 1: normres = 0.04465387678484341\n",
      "[ Info: Arnoldi iteration step 2: normres = 0.7571087833922114\n",
      "[ Info: Arnoldi iteration step 3: normres = 0.6448882381239458\n",
      "[ Info: Arnoldi iteration step 4: normres = 0.46281788549199593\n",
      "[ Info: Arnoldi iteration step 5: normres = 0.2559710815746281\n",
      "[ Info: Arnoldi schursolve in iter 1, krylovdim = 5: 0 values converged, normres = (3.23e-02, 6.93e-02, 1.12e-01, 2.15e-01, 2.66e-02)\n",
      "[ Info: Arnoldi iteration step 6: normres = 0.47179993796639264\n",
      "[ Info: Arnoldi schursolve in iter 1, krylovdim = 6: 0 values converged, normres = (1.23e-02, 1.07e-01, 4.46e-01, 5.47e-02, 8.26e-02)\n",
      "[ Info: Arnoldi iteration step 7: normres = 0.0760227570879972\n",
      "[ Info: Arnoldi schursolve in iter 1, krylovdim = 7: 0 values converged, normres = (4.98e-04, 1.47e-02, 2.70e-02, 1.45e-02, 5.94e-02)\n",
      "[ Info: Arnoldi iteration step 8: normres = 0.08653100389648162\n",
      "[ Info: Arnoldi schursolve in iter 1, krylovdim = 8: 0 values converged, normres = (1.84e-05, 8.93e-04, 1.80e-03, 3.71e-03, 3.41e-02)\n",
      "[ Info: Arnoldi iteration step 9: normres = 0.07193888462601178\n",
      "[ Info: Arnoldi schursolve in iter 1, krylovdim = 9: 0 values converged, normres = (5.71e-07, 4.55e-05, 1.02e-04, 8.72e-04, 2.34e-02)\n",
      "[ Info: Arnoldi iteration step 10: normres = 0.11114422532584459\n",
      "[ Info: Arnoldi schursolve in iter 1, krylovdim = 10: 0 values converged, normres = (2.73e-08, 3.58e-06, 8.91e-06, 3.15e-04, 2.76e-02)\n",
      "[ Info: Arnoldi iteration step 11: normres = 0.08141056280618934\n",
      "[ Info: Arnoldi schursolve in iter 1, krylovdim = 11: 0 values converged, normres = (9.90e-10, 2.18e-07, 6.05e-07, 1.10e-04, 4.88e-02)\n",
      "[ Info: Arnoldi iteration step 12: normres = 0.0880516664087158\n",
      "[ Info: Arnoldi schursolve in iter 1, krylovdim = 12: 0 values converged, normres = (3.75e-11, 1.35e-08, 4.17e-08, 3.21e-05, 2.82e-02)\n",
      "[ Info: Arnoldi iteration step 13: normres = 0.10446260008766513\n",
      "[ Info: Arnoldi schursolve in iter 1, krylovdim = 13: 0 values converged, normres = (1.68e-12, 9.96e-10, 3.41e-09, 1.09e-05, 1.93e-02)\n",
      "[ Info: Arnoldi iteration step 14: normres = 0.3788538071489698\n",
      "[ Info: Arnoldi schursolve in iter 1, krylovdim = 14: 1 values converged, normres = (6.23e-13, 3.30e-09, 3.75e-01, 4.18e-02, 4.05e-03)\n",
      "[ Info: Arnoldi iteration step 15: normres = 0.09847164775145127\n",
      "[ Info: Arnoldi schursolve in iter 1, krylovdim = 15: 1 values converged, normres = (2.83e-14, 5.51e-09, 2.55e-02, 4.96e-05, 1.53e-06)\n",
      "[ Info: Arnoldi iteration step 16: normres = 0.3749668994388573\n",
      "[ Info: Arnoldi schursolve in iter 1, krylovdim = 16: 1 values converged, normres = (9.15e-15, 2.00e-08, 3.80e-02, 2.57e-04, 3.69e-01)\n",
      "[ Info: Arnoldi iteration step 17: normres = 0.03552467803396147\n",
      "[ Info: Arnoldi schursolve in iter 1, krylovdim = 17: 1 values converged, normres = (1.50e-16, 4.84e-08, 1.64e-03, 9.07e-07, 9.99e-03)\n",
      "[ Info: Arnoldi iteration step 18: normres = 0.022504730470729473\n",
      "[ Info: Arnoldi schursolve in iter 1, krylovdim = 18: 1 values converged, normres = (1.39e-18, 1.56e-05, 1.87e-05, 1.42e-04, 8.08e-05)\n",
      "[ Info: Arnoldi iteration step 19: normres = 0.22130871393195836\n",
      "[ Info: Arnoldi schursolve in iter 1, krylovdim = 19: 1 values converged, normres = (1.37e-19, 1.18e-07, 4.02e-06, 1.88e-08, 3.00e-05)\n",
      "[ Info: Arnoldi iteration step 20: normres = 0.04089023461396856\n",
      "[ Info: Arnoldi schursolve in iter 1, krylovdim = 20: 1 values converged, normres = (2.59e-21, 6.07e-08, 1.17e-07, 7.91e-07, 7.86e-07)\n",
      "[ Info: Arnoldi iteration step 21: normres = 0.026304211559447527\n",
      "[ Info: Arnoldi schursolve in iter 1, krylovdim = 21: 1 values converged, normres = (2.83e-23, 1.67e-09, 1.61e-09, 2.06e-08, 6.37e-09)\n",
      "[ Info: Arnoldi iteration step 22: normres = 0.018086119475175442\n",
      "[ Info: Arnoldi schursolve in iter 1, krylovdim = 22: 1 values converged, normres = (2.11e-25, 1.96e-11, 1.93e-11, 2.58e-10, 1.15e-10)\n",
      "[ Info: Arnoldi iteration step 23: normres = 0.5753209608267595\n",
      "[ Info: Arnoldi schursolve in iter 1, krylovdim = 23: 1 values converged, normres = (5.58e-26, 8.89e-12, 8.77e-12, 1.31e-10, 5.84e-11)\n",
      "[ Info: Arnoldi iteration step 24: normres = 0.02829936399254141\n",
      "[ Info: Arnoldi schursolve in iter 1, krylovdim = 24: 1 values converged, normres = (1.35e-27, 1.49e-12, 1.47e-12, 3.99e-05, 2.59e-05)\n",
      "[ Info: Arnoldi iteration step 25: normres = 0.07282128548841665\n",
      "[ Info: Arnoldi schursolve in iter 1, krylovdim = 25: 3 values converged, normres = (4.05e-29, 7.19e-14, 7.09e-14, 1.21e-08, 1.18e-08)\n",
      "[ Info: Arnoldi iteration step 26: normres = 0.04462036143256009\n",
      "[ Info: Arnoldi schursolve in iter 1, krylovdim = 26: 3 values converged, normres = (8.14e-31, 2.44e-15, 2.41e-15, 4.76e-08, 1.22e-08)\n",
      "[ Info: Arnoldi iteration step 27: normres = 0.05418650144351115\n",
      "[ Info: Arnoldi schursolve in iter 1, krylovdim = 27: 3 values converged, normres = (1.82e-32, 8.72e-17, 8.60e-17, 7.89e-09, 6.66e-09)\n",
      "[ Info: Arnoldi iteration step 28: normres = 0.06316332206644935\n",
      "[ Info: Arnoldi schursolve in iter 1, krylovdim = 28: 3 values converged, normres = (5.08e-34, 4.07e-18, 4.01e-18, 5.26e-09, 1.06e-07)\n",
      "[ Info: Arnoldi iteration step 29: normres = 0.1803367791408083\n",
      "[ Info: Arnoldi schursolve in iter 1, krylovdim = 29: 3 values converged, normres = (3.95e-35, 5.19e-19, 5.12e-19, 6.63e-10, 9.28e-10)\n",
      "[ Info: Arnoldi iteration step 30: normres = 0.024602664194720635\n",
      "[ Info: Arnoldi schursolve in iter 1, krylovdim = 30: 3 values converged, normres = (4.69e-37, 1.09e-20, 1.08e-20, 1.57e-11, 2.25e-11)\n",
      "[ Info: Arnoldi schursolve in iter 2, krylovdim = 19: 3 values converged, normres = (4.73e-37, 1.09e-20, 1.08e-20, 1.57e-11, 2.25e-11)\n",
      "[ Info: Arnoldi iteration step 20: normres = 0.0281411970491399\n",
      "┌ Info: Arnoldi eigsolve finished after 2 iterations:\n",
      "│ *  5 eigenvalues converged\n",
      "│ *  norm of residuals = (5.4226353794159665e-39, 2.0092226805762956e-22, 1.980525787050241e-22, 3.1787974997811855e-13, 4.4424389047355775e-13)\n",
      "└ *  number of operations = 31\n"
     ]
    }
   ],
   "cell_type": "code",
   "source": [
    "eigsolve(eps_fun, randn(size(scfres.ρ)), 5, :LM; eager=true, verbosity=3);"
   ],
   "metadata": {},
   "execution_count": 3
  }
 ],
 "nbformat_minor": 3,
 "metadata": {
  "language_info": {
   "file_extension": ".jl",
   "mimetype": "application/julia",
   "name": "julia",
   "version": "1.8.1"
  },
  "kernelspec": {
   "name": "julia-1.8",
   "display_name": "Julia 1.8.1",
   "language": "julia"
  }
 },
 "nbformat": 4
}
