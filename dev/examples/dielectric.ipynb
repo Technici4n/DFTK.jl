{
 "cells": [
  {
   "cell_type": "markdown",
   "source": [
    "# Eigenvalues of the dielectric matrix\n",
    "\n",
    "We compute a few eigenvalues of the dielectric matrix ($q=0$, $ω=0$) iteratively."
   ],
   "metadata": {}
  },
  {
   "outputs": [
    {
     "name": "stdout",
     "output_type": "stream",
     "text": [
      "n     Energy            log10(ΔE)   log10(Δρ)   Diag   Δtime\n",
      "---   ---------------   ---------   ---------   ----   ------\n",
      "  1   -7.232750251930                   -0.50    8.0         \n",
      "  2   -7.249988966282       -1.76       -1.40    1.0   8.63ms\n",
      "  3   -7.251209676201       -2.91       -1.97    2.0   10.2ms\n",
      "  4   -7.251226616326       -4.77       -2.07    2.0   10.5ms\n",
      "  5   -7.251320895743       -4.03       -2.54    1.0   8.55ms\n",
      "  6   -7.251335936678       -4.82       -2.91    1.0   8.51ms\n",
      "  7   -7.251338728735       -5.55       -3.76    1.0   8.52ms\n",
      "  8   -7.251338793072       -7.19       -4.29    2.0   10.0ms\n",
      "  9   -7.251338798249       -8.29       -4.77    2.0   11.3ms\n",
      " 10   -7.251338798604       -9.45       -5.08    2.0   10.4ms\n",
      " 11   -7.251338798694      -10.05       -5.75    2.0   12.7ms\n",
      " 12   -7.251338798701      -11.17       -5.76    3.0   17.0ms\n",
      " 13   -7.251338798704      -11.53       -6.19    1.0   8.90ms\n",
      " 14   -7.251338798704      -12.33       -6.82    2.0   9.93ms\n",
      " 15   -7.251338798705      -13.26       -7.02    3.0   12.0ms\n",
      " 16   -7.251338798705      -14.05       -7.53    1.0   9.04ms\n",
      " 17   -7.251338798705      -14.75       -8.26    2.0   20.2ms\n"
     ]
    }
   ],
   "cell_type": "code",
   "source": [
    "using DFTK\n",
    "using Plots\n",
    "using KrylovKit\n",
    "using Printf\n",
    "\n",
    "# Calculation parameters\n",
    "kgrid = [1, 1, 1]\n",
    "Ecut = 5\n",
    "\n",
    "# Silicon lattice\n",
    "a = 10.26\n",
    "lattice = a / 2 .* [[0 1 1.]; [1 0 1.]; [1 1 0.]]\n",
    "Si = ElementPsp(:Si, psp=load_psp(\"hgh/lda/Si-q4\"))\n",
    "atoms     = [Si, Si]\n",
    "positions = [ones(3)/8, -ones(3)/8]\n",
    "\n",
    "# Compute the dielectric operator without symmetries\n",
    "model  = model_LDA(lattice, atoms, positions, symmetries=false)\n",
    "basis  = PlaneWaveBasis(model; Ecut, kgrid)\n",
    "scfres = self_consistent_field(basis, tol=1e-8);"
   ],
   "metadata": {},
   "execution_count": 1
  },
  {
   "cell_type": "markdown",
   "source": [
    "Applying $ε^† ≔ (1- χ_0 K)$ …"
   ],
   "metadata": {}
  },
  {
   "outputs": [],
   "cell_type": "code",
   "source": [
    "function eps_fun(δρ)\n",
    "    δV = apply_kernel(basis, δρ; ρ=scfres.ρ)\n",
    "    χ0δV = apply_χ0(scfres, δV)\n",
    "    δρ - χ0δV\n",
    "end;"
   ],
   "metadata": {},
   "execution_count": 2
  },
  {
   "cell_type": "markdown",
   "source": [
    "… eagerly diagonalizes the subspace matrix at each iteration"
   ],
   "metadata": {}
  },
  {
   "outputs": [
    {
     "name": "stdout",
     "output_type": "stream",
     "text": [
      "[ Info: Arnoldi iteration step 1: normres = 0.050446858231724505\n",
      "[ Info: Arnoldi iteration step 2: normres = 0.7454137686327454\n",
      "[ Info: Arnoldi iteration step 3: normres = 0.6887182870988178\n",
      "[ Info: Arnoldi iteration step 4: normres = 0.3307965263790484\n",
      "[ Info: Arnoldi iteration step 5: normres = 0.24809350036404532\n",
      "[ Info: Arnoldi schursolve in iter 1, krylovdim = 5: 0 values converged, normres = (1.36e-02, 4.82e-02, 1.35e-01, 1.89e-01, 7.06e-02)\n",
      "[ Info: Arnoldi iteration step 6: normres = 0.3864332593918393\n",
      "[ Info: Arnoldi schursolve in iter 1, krylovdim = 6: 0 values converged, normres = (4.95e-03, 2.30e-01, 3.02e-01, 4.91e-02, 1.73e-02)\n",
      "[ Info: Arnoldi iteration step 7: normres = 0.09547321947249239\n",
      "[ Info: Arnoldi schursolve in iter 1, krylovdim = 7: 0 values converged, normres = (2.38e-04, 2.66e-02, 1.09e-02, 1.73e-02, 8.24e-02)\n",
      "[ Info: Arnoldi iteration step 8: normres = 0.11811067848471765\n",
      "[ Info: Arnoldi schursolve in iter 1, krylovdim = 8: 0 values converged, normres = (1.22e-05, 2.27e-03, 1.02e-03, 7.39e-03, 6.44e-02)\n",
      "[ Info: Arnoldi iteration step 9: normres = 0.06223998742478629\n",
      "[ Info: Arnoldi schursolve in iter 1, krylovdim = 9: 0 values converged, normres = (3.30e-07, 1.01e-04, 5.07e-05, 1.66e-03, 2.71e-02)\n",
      "[ Info: Arnoldi iteration step 10: normres = 0.0948043203580536\n",
      "[ Info: Arnoldi schursolve in iter 1, krylovdim = 10: 0 values converged, normres = (1.35e-08, 6.81e-06, 3.80e-06, 5.15e-04, 1.66e-02)\n",
      "[ Info: Arnoldi iteration step 11: normres = 0.07526646471048672\n",
      "[ Info: Arnoldi schursolve in iter 1, krylovdim = 11: 0 values converged, normres = (4.37e-10, 3.62e-07, 2.24e-07, 1.25e-04, 8.71e-03)\n",
      "[ Info: Arnoldi iteration step 12: normres = 0.08170864939117199\n",
      "[ Info: Arnoldi schursolve in iter 1, krylovdim = 12: 0 values converged, normres = (1.53e-11, 2.06e-08, 1.42e-08, 3.09e-05, 4.30e-03)\n",
      "[ Info: Arnoldi iteration step 13: normres = 0.045805954094554804\n",
      "[ Info: Arnoldi schursolve in iter 1, krylovdim = 13: 1 values converged, normres = (3.05e-13, 6.82e-10, 5.21e-10, 5.05e-06, 1.73e-03)\n",
      "[ Info: Arnoldi iteration step 14: normres = 0.5840274974449614\n",
      "[ Info: Arnoldi schursolve in iter 1, krylovdim = 14: 1 values converged, normres = (8.68e-14, 3.48e-10, 3.03e-10, 5.56e-05, 5.73e-01)\n",
      "[ Info: Arnoldi iteration step 15: normres = 0.061279105161917764\n",
      "[ Info: Arnoldi schursolve in iter 1, krylovdim = 15: 1 values converged, normres = (4.33e-15, 1.25e-10, 5.10e-02, 3.53e-03, 1.50e-05)\n",
      "[ Info: Arnoldi iteration step 16: normres = 0.73404436968794\n",
      "[ Info: Arnoldi schursolve in iter 1, krylovdim = 16: 1 values converged, normres = (2.13e-15, 1.61e-10, 7.90e-02, 9.14e-03, 7.28e-01)\n",
      "[ Info: Arnoldi iteration step 17: normres = 0.04436749326959472\n",
      "[ Info: Arnoldi schursolve in iter 1, krylovdim = 17: 1 values converged, normres = (6.34e-17, 3.98e-09, 2.60e-02, 6.57e-06, 9.09e-03)\n",
      "[ Info: Arnoldi iteration step 18: normres = 0.023300329691975992\n",
      "[ Info: Arnoldi schursolve in iter 1, krylovdim = 18: 1 values converged, normres = (6.16e-19, 1.42e-04, 3.80e-04, 1.84e-05, 1.55e-04)\n",
      "[ Info: Arnoldi iteration step 19: normres = 0.17670628175178663\n",
      "[ Info: Arnoldi schursolve in iter 1, krylovdim = 19: 1 values converged, normres = (4.65e-20, 7.60e-08, 5.01e-05, 1.49e-07, 2.13e-05)\n",
      "[ Info: Arnoldi iteration step 20: normres = 0.04187252836044785\n",
      "[ Info: Arnoldi schursolve in iter 1, krylovdim = 20: 1 values converged, normres = (9.35e-22, 9.39e-09, 1.80e-06, 1.77e-07, 8.55e-07)\n",
      "[ Info: Arnoldi iteration step 21: normres = 0.025107850038449342\n",
      "[ Info: Arnoldi schursolve in iter 1, krylovdim = 21: 1 values converged, normres = (9.66e-24, 2.96e-08, 2.21e-09, 4.72e-09, 1.51e-08)\n",
      "[ Info: Arnoldi iteration step 22: normres = 0.026982300261095653\n",
      "[ Info: Arnoldi schursolve in iter 1, krylovdim = 22: 1 values converged, normres = (1.08e-25, 5.27e-10, 6.71e-11, 8.59e-11, 3.01e-10)\n",
      "[ Info: Arnoldi iteration step 23: normres = 0.20457123331248928\n",
      "[ Info: Arnoldi schursolve in iter 1, krylovdim = 23: 1 values converged, normres = (9.17e-27, 7.17e-11, 8.89e-12, 1.29e-11, 4.51e-11)\n",
      "[ Info: Arnoldi iteration step 24: normres = 0.1062897076609872\n",
      "[ Info: Arnoldi schursolve in iter 1, krylovdim = 24: 1 values converged, normres = (9.82e-28, 4.93e-11, 6.06e-12, 1.07e-10, 3.72e-10)\n",
      "[ Info: Arnoldi iteration step 25: normres = 0.014190387865804361\n",
      "[ Info: Arnoldi schursolve in iter 1, krylovdim = 25: 3 values converged, normres = (5.37e-30, 4.98e-13, 6.17e-14, 8.51e-10, 2.93e-09)\n",
      "[ Info: Arnoldi iteration step 26: normres = 0.04395949598947846\n",
      "[ Info: Arnoldi schursolve in iter 1, krylovdim = 26: 3 values converged, normres = (9.71e-32, 1.44e-14, 1.78e-15, 5.62e-10, 1.94e-09)\n",
      "[ Info: Arnoldi iteration step 27: normres = 0.07641698099261618\n",
      "[ Info: Arnoldi schursolve in iter 1, krylovdim = 27: 3 values converged, normres = (3.30e-33, 8.17e-16, 1.01e-16, 1.10e-06, 1.29e-06)\n",
      "[ Info: Arnoldi iteration step 28: normres = 0.08999634112239929\n",
      "[ Info: Arnoldi schursolve in iter 1, krylovdim = 28: 3 values converged, normres = (1.25e-34, 5.02e-17, 6.21e-18, 4.37e-10, 2.16e-09)\n",
      "[ Info: Arnoldi iteration step 29: normres = 0.12410393509127089\n",
      "[ Info: Arnoldi schursolve in iter 1, krylovdim = 29: 3 values converged, normres = (7.26e-36, 5.07e-18, 6.28e-19, 4.49e-09, 1.35e-08)\n",
      "[ Info: Arnoldi iteration step 30: normres = 0.09576122817421642\n",
      "[ Info: Arnoldi schursolve in iter 1, krylovdim = 30: 3 values converged, normres = (3.25e-37, 3.96e-19, 4.90e-20, 7.35e-11, 1.28e-09)\n",
      "[ Info: Arnoldi schursolve in iter 2, krylovdim = 19: 3 values converged, normres = (3.26e-37, 3.96e-19, 4.90e-20, 7.35e-11, 1.28e-09)\n",
      "[ Info: Arnoldi iteration step 20: normres = 0.02761672832706456\n",
      "[ Info: Arnoldi schursolve in iter 2, krylovdim = 20: 3 values converged, normres = (3.75e-39, 7.38e-21, 9.14e-22, 2.10e-12, 2.72e-11)\n",
      "[ Info: Arnoldi iteration step 21: normres = 0.07985344304406221\n",
      "[ Info: Arnoldi schursolve in iter 2, krylovdim = 21: 4 values converged, normres = (1.26e-40, 3.98e-22, 4.92e-23, 1.25e-13, 1.61e-12)\n",
      "[ Info: Arnoldi iteration step 22: normres = 0.02290271534330651\n",
      "┌ Info: Arnoldi eigsolve finished after 2 iterations:\n",
      "│ *  6 eigenvalues converged\n",
      "│ *  norm of residuals = (1.2266330213823524e-42, 6.3415524854987134e-24, 4.989600011452491e-25, 2.2017414701672297e-15, 2.6636226015217223e-14, 1.7191192544796058e-15)\n",
      "└ *  number of operations = 33\n"
     ]
    }
   ],
   "cell_type": "code",
   "source": [
    "eigsolve(eps_fun, randn(size(scfres.ρ)), 5, :LM; eager=true, verbosity=3);"
   ],
   "metadata": {},
   "execution_count": 3
  }
 ],
 "nbformat_minor": 3,
 "metadata": {
  "language_info": {
   "file_extension": ".jl",
   "mimetype": "application/julia",
   "name": "julia",
   "version": "1.8.5"
  },
  "kernelspec": {
   "name": "julia-1.8",
   "display_name": "Julia 1.8.5",
   "language": "julia"
  }
 },
 "nbformat": 4
}
