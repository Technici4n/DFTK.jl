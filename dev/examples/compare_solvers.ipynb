{
 "cells": [
  {
   "cell_type": "markdown",
   "source": [
    "# Comparison of DFT solvers"
   ],
   "metadata": {}
  },
  {
   "cell_type": "markdown",
   "source": [
    "We compare four different approaches for solving the DFT minimisation problem,\n",
    "namely a density-based SCF, a potential-based SCF, direct minimisation and Newton."
   ],
   "metadata": {}
  },
  {
   "cell_type": "markdown",
   "source": [
    "First we setup our problem"
   ],
   "metadata": {}
  },
  {
   "outputs": [],
   "cell_type": "code",
   "source": [
    "using DFTK\n",
    "using LinearAlgebra\n",
    "\n",
    "a = 10.26  # Silicon lattice constant in Bohr\n",
    "lattice = a / 2 * [[0 1 1.];\n",
    "                   [1 0 1.];\n",
    "                   [1 1 0.]]\n",
    "Si = ElementPsp(:Si, psp=load_psp(\"hgh/lda/Si-q4\"))\n",
    "atoms     = [Si, Si]\n",
    "positions = [ones(3)/8, -ones(3)/8]\n",
    "\n",
    "model = model_LDA(lattice, atoms, positions)\n",
    "basis = PlaneWaveBasis(model; Ecut=5, kgrid=[3, 3, 3])\n",
    "\n",
    "# Convergence we desire\n",
    "tol = 1e-12\n",
    "is_converged = DFTK.ScfConvergenceDensity(tol);"
   ],
   "metadata": {},
   "execution_count": 1
  },
  {
   "cell_type": "markdown",
   "source": [
    "## Density-based self-consistent field"
   ],
   "metadata": {}
  },
  {
   "outputs": [
    {
     "name": "stdout",
     "output_type": "stream",
     "text": [
      "n     Energy            log10(ΔE)   log10(Δρ)   Diag\n",
      "---   ---------------   ---------   ---------   ----\n",
      "  1   -7.846873676070                   -0.70    5.0\n",
      "  2   -7.852314096043       -2.26       -1.53    1.0\n",
      "  3   -7.852646143155       -3.48       -2.52    3.5\n",
      "  4   -7.852646678991       -6.27       -3.37    2.2\n",
      "  5   -7.852646686057       -8.15       -4.78    1.2\n",
      "  6   -7.852646686724       -9.18       -5.23    3.5\n",
      "  7   -7.852646686730      -11.27       -6.11    1.0\n",
      "  8   -7.852646686730      -12.54       -7.41    3.0\n",
      "  9   -7.852646686730   +    -Inf       -7.50    2.0\n",
      " 10   -7.852646686730      -15.05       -8.83    2.2\n",
      " 11   -7.852646686730      -15.05       -8.79    1.0\n",
      " 12   -7.852646686730   +  -14.45       -9.76    2.0\n",
      " 13   -7.852646686730   +  -15.05       -9.95    2.0\n",
      " 14   -7.852646686730      -14.35      -11.24    2.2\n",
      " 15   -7.852646686730   +  -14.75      -11.85    3.0\n",
      " 16   -7.852646686730   +  -15.05      -12.71    1.8\n"
     ]
    }
   ],
   "cell_type": "code",
   "source": [
    "scfres_scf = self_consistent_field(basis; is_converged);"
   ],
   "metadata": {},
   "execution_count": 2
  },
  {
   "cell_type": "markdown",
   "source": [
    "## Potential-based SCF"
   ],
   "metadata": {}
  },
  {
   "outputs": [
    {
     "name": "stdout",
     "output_type": "stream",
     "text": [
      "n     Energy            log10(ΔE)   log10(Δρ)   α      Diag\n",
      "---   ---------------   ---------   ---------   ----   ----\n",
      "  1   -7.846814302658                   -0.70           4.5\n",
      "  2   -7.852524599266       -2.24       -1.64   0.80    2.2\n",
      "  3   -7.852636012195       -3.95       -2.72   0.80    1.0\n",
      "  4   -7.852646522993       -4.98       -3.25   0.80    2.0\n",
      "  5   -7.852646681648       -6.80       -4.13   0.80    1.8\n",
      "  6   -7.852646686380       -8.33       -4.91   0.80    1.5\n",
      "  7   -7.852646686723       -9.46       -5.57   0.80    2.2\n",
      "  8   -7.852646686729      -11.17       -6.37   0.80    1.5\n",
      "  9   -7.852646686730      -12.30       -7.08   0.80    2.2\n",
      " 10   -7.852646686730      -14.05       -7.95   0.80    1.5\n",
      " 11   -7.852646686730      -14.75       -9.72   0.80    2.5\n",
      " 12   -7.852646686730   +  -14.75       -9.30   0.80    3.8\n",
      " 13   -7.852646686730      -14.75      -10.97   0.80    1.0\n",
      " 14   -7.852646686730   +  -14.75      -10.69   0.80    2.0\n",
      " 15   -7.852646686730      -15.05      -11.82   0.80    1.0\n",
      " 16   -7.852646686730   +  -14.45      -12.50   0.80    2.0\n"
     ]
    }
   ],
   "cell_type": "code",
   "source": [
    "scfres_scfv = DFTK.scf_potential_mixing(basis; is_converged);"
   ],
   "metadata": {},
   "execution_count": 3
  },
  {
   "cell_type": "markdown",
   "source": [
    "## Direct minimization"
   ],
   "metadata": {}
  },
  {
   "outputs": [
    {
     "name": "stdout",
     "output_type": "stream",
     "text": [
      "Iter     Function value   Gradient norm \n",
      "     0     1.414216e+01     3.445215e+00\n",
      " * time: 0.3991730213165283\n",
      "     1     1.378784e+00     1.787831e+00\n",
      " * time: 0.6104080677032471\n",
      "     2    -1.481904e+00     1.973016e+00\n",
      " * time: 0.635200023651123\n",
      "     3    -3.690843e+00     1.843058e+00\n",
      " * time: 0.6708741188049316\n",
      "     4    -5.342740e+00     1.728917e+00\n",
      " * time: 0.7070169448852539\n",
      "     5    -6.816305e+00     1.138249e+00\n",
      " * time: 0.7431221008300781\n",
      "     6    -7.117328e+00     1.360281e+00\n",
      " * time: 0.7685749530792236\n",
      "     7    -7.535303e+00     7.946468e-01\n",
      " * time: 0.7937829494476318\n",
      "     8    -7.646024e+00     5.972287e-01\n",
      " * time: 0.8188009262084961\n",
      "     9    -7.739171e+00     1.005552e-01\n",
      " * time: 0.8434560298919678\n",
      "    10    -7.781923e+00     2.048528e-01\n",
      " * time: 0.8674120903015137\n",
      "    11    -7.819388e+00     1.289662e-01\n",
      " * time: 0.891916036605835\n",
      "    12    -7.838171e+00     5.759919e-02\n",
      " * time: 0.9161620140075684\n",
      "    13    -7.845958e+00     3.809408e-02\n",
      " * time: 0.9405040740966797\n",
      "    14    -7.849974e+00     3.628973e-02\n",
      " * time: 0.9652831554412842\n",
      "    15    -7.851563e+00     2.783114e-02\n",
      " * time: 0.9894919395446777\n",
      "    16    -7.852287e+00     1.333429e-02\n",
      " * time: 1.0141091346740723\n",
      "    17    -7.852554e+00     9.652045e-03\n",
      " * time: 1.0386929512023926\n",
      "    18    -7.852618e+00     4.948618e-03\n",
      " * time: 1.063162088394165\n",
      "    19    -7.852638e+00     1.639392e-03\n",
      " * time: 1.087494134902954\n",
      "    20    -7.852644e+00     1.083000e-03\n",
      " * time: 1.111786127090454\n",
      "    21    -7.852646e+00     6.401750e-04\n",
      " * time: 1.1362481117248535\n",
      "    22    -7.852646e+00     4.427807e-04\n",
      " * time: 1.1606550216674805\n",
      "    23    -7.852647e+00     2.765290e-04\n",
      " * time: 1.1852741241455078\n",
      "    24    -7.852647e+00     1.269828e-04\n",
      " * time: 1.2100610733032227\n",
      "    25    -7.852647e+00     9.793661e-05\n",
      " * time: 1.2345161437988281\n",
      "    26    -7.852647e+00     3.657615e-05\n",
      " * time: 1.258932113647461\n",
      "    27    -7.852647e+00     2.158024e-05\n",
      " * time: 1.283400058746338\n",
      "    28    -7.852647e+00     1.333022e-05\n",
      " * time: 1.30715012550354\n",
      "    29    -7.852647e+00     1.092460e-05\n",
      " * time: 1.3319611549377441\n",
      "    30    -7.852647e+00     4.458535e-06\n",
      " * time: 1.3566460609436035\n",
      "    31    -7.852647e+00     2.306017e-06\n",
      " * time: 1.3808391094207764\n",
      "    32    -7.852647e+00     1.906634e-06\n",
      " * time: 1.405113935470581\n",
      "    33    -7.852647e+00     1.176758e-06\n",
      " * time: 1.4978580474853516\n",
      "    34    -7.852647e+00     7.061282e-07\n",
      " * time: 1.5215339660644531\n",
      "    35    -7.852647e+00     3.996476e-07\n",
      " * time: 1.5454590320587158\n",
      "    36    -7.852647e+00     2.511564e-07\n",
      " * time: 1.5691399574279785\n",
      "    37    -7.852647e+00     1.494765e-07\n",
      " * time: 1.5927939414978027\n",
      "    38    -7.852647e+00     9.178230e-08\n",
      " * time: 1.6160171031951904\n",
      "    39    -7.852647e+00     5.995641e-08\n",
      " * time: 1.6399619579315186\n",
      "    40    -7.852647e+00     3.328557e-08\n",
      " * time: 1.6634881496429443\n",
      "    41    -7.852647e+00     1.594969e-08\n",
      " * time: 1.6875269412994385\n",
      "    42    -7.852647e+00     7.646127e-09\n",
      " * time: 1.711400032043457\n"
     ]
    }
   ],
   "cell_type": "code",
   "source": [
    "scfres_dm = direct_minimization(basis; tol);"
   ],
   "metadata": {},
   "execution_count": 4
  },
  {
   "cell_type": "markdown",
   "source": [
    "## Newton algorithm"
   ],
   "metadata": {}
  },
  {
   "cell_type": "markdown",
   "source": [
    "Start not too far from the solution to ensure convergence:\n",
    "We run first a very crude SCF to get close and then switch to Newton."
   ],
   "metadata": {}
  },
  {
   "outputs": [
    {
     "name": "stdout",
     "output_type": "stream",
     "text": [
      "n     Energy            log10(ΔE)   log10(Δρ)   Diag\n",
      "---   ---------------   ---------   ---------   ----\n",
      "  1   -7.846832755302                   -0.70    4.5\n",
      "  2   -7.852314099760       -2.26       -1.53    1.0\n"
     ]
    }
   ],
   "cell_type": "code",
   "source": [
    "scfres_start = self_consistent_field(basis; tol=1e-1);"
   ],
   "metadata": {},
   "execution_count": 5
  },
  {
   "cell_type": "markdown",
   "source": [
    "Remove the virtual orbitals (which Newton cannot treat yet)"
   ],
   "metadata": {}
  },
  {
   "outputs": [
    {
     "name": "stdout",
     "output_type": "stream",
     "text": [
      "n     Energy            log10(ΔE)   log10(Δρ)\n",
      "---   ---------------   ---------   ---------\n",
      "  1   -7.852646686704                   -2.55\n",
      "  2   -7.852646686730      -10.58       -5.94\n",
      "  3   -7.852646686730   +    -Inf      -12.64\n"
     ]
    }
   ],
   "cell_type": "code",
   "source": [
    "ψ = DFTK.select_occupied_orbitals(basis, scfres_start.ψ, scfres_start.occupation).ψ\n",
    "scfres_newton = newton(basis, ψ; tol);"
   ],
   "metadata": {},
   "execution_count": 6
  },
  {
   "cell_type": "markdown",
   "source": [
    "## Comparison of results"
   ],
   "metadata": {}
  },
  {
   "outputs": [
    {
     "name": "stdout",
     "output_type": "stream",
     "text": [
      "|ρ_newton - ρ_scf|  = 1.0647749742129399e-13\n",
      "|ρ_newton - ρ_scfv| = 1.6897031228972678e-13\n",
      "|ρ_newton - ρ_dm|   = 2.865237465154098e-10\n"
     ]
    }
   ],
   "cell_type": "code",
   "source": [
    "println(\"|ρ_newton - ρ_scf|  = \", norm(scfres_newton.ρ - scfres_scf.ρ))\n",
    "println(\"|ρ_newton - ρ_scfv| = \", norm(scfres_newton.ρ - scfres_scfv.ρ))\n",
    "println(\"|ρ_newton - ρ_dm|   = \", norm(scfres_newton.ρ - scfres_dm.ρ))"
   ],
   "metadata": {},
   "execution_count": 7
  }
 ],
 "nbformat_minor": 3,
 "metadata": {
  "language_info": {
   "file_extension": ".jl",
   "mimetype": "application/julia",
   "name": "julia",
   "version": "1.8.2"
  },
  "kernelspec": {
   "name": "julia-1.8",
   "display_name": "Julia 1.8.2",
   "language": "julia"
  }
 },
 "nbformat": 4
}
