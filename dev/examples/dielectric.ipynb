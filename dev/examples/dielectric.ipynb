{
 "cells": [
  {
   "cell_type": "markdown",
   "source": [
    "# Eigenvalues of the dielectric matrix\n",
    "\n",
    "We compute a few eigenvalues of the dielectric matrix ($q=0$, $ω=0$) iteratively."
   ],
   "metadata": {}
  },
  {
   "outputs": [
    {
     "name": "stdout",
     "output_type": "stream",
     "text": [
      "n     Energy            log10(ΔE)   log10(Δρ)   Diag\n",
      "---   ---------------   ---------   ---------   ----\n",
      "  1   -7.233848681599                   -0.50    8.0\n",
      "  2   -7.250267252485       -1.78       -1.40    1.0\n",
      "  3   -7.251307244810       -2.98       -2.11    4.0\n",
      "  4   -7.251281149813   +   -4.58       -2.22    4.0\n",
      "  5   -7.251330416818       -4.31       -2.70    3.0\n",
      "  6   -7.251337059783       -5.18       -3.02    2.0\n",
      "  7   -7.251338765993       -5.77       -3.91    1.0\n",
      "  8   -7.251338793980       -7.55       -4.22    4.0\n",
      "  9   -7.251338798377       -8.36       -4.81    2.0\n",
      " 10   -7.251338798688       -9.51       -5.46    3.0\n",
      " 11   -7.251338798703      -10.81       -5.96    3.0\n",
      " 12   -7.251338798704      -11.95       -6.35    3.0\n",
      " 13   -7.251338798705      -12.68       -7.04    3.0\n",
      " 14   -7.251338798705      -14.10       -7.48    2.0\n"
     ]
    }
   ],
   "cell_type": "code",
   "source": [
    "using DFTK\n",
    "using Plots\n",
    "using KrylovKit\n",
    "using Printf\n",
    "\n",
    "# Calculation parameters\n",
    "kgrid = [1, 1, 1]\n",
    "Ecut = 5\n",
    "\n",
    "# Silicon lattice\n",
    "a = 10.26\n",
    "lattice = a / 2 .* [[0 1 1.]; [1 0 1.]; [1 1 0.]]\n",
    "Si = ElementPsp(:Si, psp=load_psp(\"hgh/lda/Si-q4\"))\n",
    "atoms     = [Si, Si]\n",
    "positions = [ones(3)/8, -ones(3)/8]\n",
    "\n",
    "# Compute the dielectric operator without symmetries\n",
    "model = model_LDA(lattice, atoms, positions, symmetries=false)\n",
    "basis = PlaneWaveBasis(model; Ecut, kgrid)\n",
    "scfres = self_consistent_field(basis, tol=1e-14);"
   ],
   "metadata": {},
   "execution_count": 1
  },
  {
   "cell_type": "markdown",
   "source": [
    "Applying $ε^† ≔ (1- χ_0 K)$ …"
   ],
   "metadata": {}
  },
  {
   "outputs": [],
   "cell_type": "code",
   "source": [
    "function eps_fun(δρ)\n",
    "    δV = apply_kernel(basis, δρ; ρ=scfres.ρ)\n",
    "    χ0δV = apply_χ0(scfres, δV)\n",
    "    δρ - χ0δV\n",
    "end;"
   ],
   "metadata": {},
   "execution_count": 2
  },
  {
   "cell_type": "markdown",
   "source": [
    "… eagerly diagonalizes the subspace matrix at each iteration"
   ],
   "metadata": {}
  },
  {
   "outputs": [
    {
     "name": "stdout",
     "output_type": "stream",
     "text": [
      "[ Info: Arnoldi iteration step 1: normres = 0.06530975895000443\n",
      "[ Info: Arnoldi iteration step 2: normres = 0.3264804049614061\n",
      "[ Info: Arnoldi iteration step 3: normres = 1.0370480216576365\n",
      "[ Info: Arnoldi iteration step 4: normres = 0.3704149415348673\n",
      "[ Info: Arnoldi iteration step 5: normres = 0.6138526548895391\n",
      "[ Info: Arnoldi schursolve in iter 1, krylovdim = 5: 0 values converged, normres = (1.03e-01, 8.61e-02, 5.73e-01, 1.75e-01, 1.05e-02)\n",
      "[ Info: Arnoldi iteration step 6: normres = 0.20356538725295625\n",
      "[ Info: Arnoldi schursolve in iter 1, krylovdim = 6: 0 values converged, normres = (1.57e-02, 7.72e-02, 1.31e-01, 1.06e-01, 3.51e-02)\n",
      "[ Info: Arnoldi iteration step 7: normres = 0.09250930703968632\n",
      "[ Info: Arnoldi schursolve in iter 1, krylovdim = 7: 0 values converged, normres = (6.95e-04, 6.68e-03, 1.06e-02, 5.82e-02, 6.44e-02)\n",
      "[ Info: Arnoldi iteration step 8: normres = 0.13339798684956097\n",
      "[ Info: Arnoldi schursolve in iter 1, krylovdim = 8: 0 values converged, normres = (4.05e-05, 6.45e-04, 1.14e-03, 2.71e-02, 6.17e-02)\n",
      "[ Info: Arnoldi iteration step 9: normres = 0.06214355231700008\n",
      "[ Info: Arnoldi schursolve in iter 1, krylovdim = 9: 0 values converged, normres = (1.10e-06, 2.90e-05, 5.71e-05, 6.72e-03, 3.30e-02)\n",
      "[ Info: Arnoldi iteration step 10: normres = 0.08287699529201617\n",
      "[ Info: Arnoldi schursolve in iter 1, krylovdim = 10: 0 values converged, normres = (3.94e-08, 1.72e-06, 3.76e-06, 1.84e-03, 1.79e-02)\n",
      "[ Info: Arnoldi iteration step 11: normres = 0.08699360373429198\n",
      "[ Info: Arnoldi schursolve in iter 1, krylovdim = 11: 0 values converged, normres = (1.48e-09, 1.06e-07, 2.57e-07, 5.23e-04, 1.08e-02)\n",
      "[ Info: Arnoldi iteration step 12: normres = 0.07220740198612452\n",
      "[ Info: Arnoldi schursolve in iter 1, krylovdim = 12: 0 values converged, normres = (4.61e-11, 5.44e-09, 1.47e-08, 1.26e-04, 5.95e-03)\n",
      "[ Info: Arnoldi iteration step 13: normres = 0.2543738829689112\n",
      "[ Info: Arnoldi schursolve in iter 1, krylovdim = 13: 0 values converged, normres = (5.09e-12, 9.90e-10, 2.96e-09, 1.08e-04, 1.19e-02)\n",
      "[ Info: Arnoldi iteration step 14: normres = 0.1803491776178557\n",
      "[ Info: Arnoldi schursolve in iter 1, krylovdim = 14: 1 values converged, normres = (9.08e-13, 2.13e-09, 1.76e-01, 1.22e-02, 7.79e-04)\n",
      "[ Info: Arnoldi iteration step 15: normres = 0.5139567380692511\n",
      "[ Info: Arnoldi schursolve in iter 1, krylovdim = 15: 1 values converged, normres = (2.17e-13, 1.30e-09, 7.29e-02, 6.28e-04, 8.78e-05)\n",
      "[ Info: Arnoldi iteration step 16: normres = 0.08301898208390222\n",
      "[ Info: Arnoldi schursolve in iter 1, krylovdim = 16: 1 values converged, normres = (1.66e-14, 3.55e-08, 4.68e-02, 6.54e-05, 6.04e-02)\n",
      "[ Info: Arnoldi iteration step 17: normres = 0.030855300485435545\n",
      "[ Info: Arnoldi schursolve in iter 1, krylovdim = 17: 1 values converged, normres = (2.13e-16, 2.09e-08, 9.69e-04, 2.80e-07, 1.36e-03)\n",
      "[ Info: Arnoldi iteration step 18: normres = 0.01827666056094952\n",
      "[ Info: Arnoldi schursolve in iter 1, krylovdim = 18: 1 values converged, normres = (1.60e-18, 5.99e-06, 1.00e-05, 2.61e-08, 1.81e-05)\n",
      "[ Info: Arnoldi iteration step 19: normres = 0.16617279765463508\n",
      "[ Info: Arnoldi schursolve in iter 1, krylovdim = 19: 1 values converged, normres = (1.13e-19, 1.02e-07, 1.33e-06, 2.17e-06, 7.22e-07)\n",
      "[ Info: Arnoldi iteration step 20: normres = 0.07815920178638894\n",
      "[ Info: Arnoldi schursolve in iter 1, krylovdim = 20: 1 values converged, normres = (4.27e-21, 4.05e-08, 8.09e-08, 4.25e-08, 1.71e-07)\n",
      "[ Info: Arnoldi iteration step 21: normres = 0.02751268044843256\n",
      "[ Info: Arnoldi schursolve in iter 1, krylovdim = 21: 1 values converged, normres = (4.92e-23, 8.31e-10, 1.46e-09, 1.64e-09, 3.23e-09)\n",
      "[ Info: Arnoldi iteration step 22: normres = 0.020363112027207225\n",
      "[ Info: Arnoldi schursolve in iter 1, krylovdim = 22: 1 values converged, normres = (4.12e-25, 1.07e-11, 1.97e-11, 2.44e-11, 4.73e-11)\n",
      "[ Info: Arnoldi iteration step 23: normres = 0.6947043966458487\n",
      "[ Info: Arnoldi schursolve in iter 1, krylovdim = 23: 1 values converged, normres = (1.59e-25, 8.33e-12, 1.54e-11, 2.25e-11, 4.37e-11)\n",
      "[ Info: Arnoldi iteration step 24: normres = 0.021722763905609968\n",
      "[ Info: Arnoldi schursolve in iter 1, krylovdim = 24: 2 values converged, normres = (2.44e-27, 7.47e-13, 1.38e-12, 1.78e-10, 3.46e-10)\n",
      "[ Info: Arnoldi iteration step 25: normres = 0.054665054121754736\n",
      "[ Info: Arnoldi schursolve in iter 1, krylovdim = 25: 3 values converged, normres = (5.48e-29, 2.71e-14, 5.00e-14, 4.60e-04, 2.99e-04)\n",
      "[ Info: Arnoldi iteration step 26: normres = 0.06093924365222207\n",
      "[ Info: Arnoldi schursolve in iter 1, krylovdim = 26: 3 values converged, normres = (1.51e-30, 1.26e-15, 2.33e-15, 4.39e-10, 8.61e-10)\n",
      "[ Info: Arnoldi iteration step 27: normres = 0.02492074285896224\n",
      "[ Info: Arnoldi schursolve in iter 1, krylovdim = 27: 3 values converged, normres = (1.55e-32, 2.07e-17, 3.82e-17, 2.64e-10, 5.90e-10)\n",
      "[ Info: Arnoldi iteration step 28: normres = 0.10024754566540893\n",
      "[ Info: Arnoldi schursolve in iter 1, krylovdim = 28: 3 values converged, normres = (6.72e-34, 1.48e-18, 2.73e-18, 1.16e-10, 6.89e-10)\n",
      "[ Info: Arnoldi iteration step 29: normres = 0.020021904964806356\n",
      "[ Info: Arnoldi schursolve in iter 1, krylovdim = 29: 3 values converged, normres = (5.69e-36, 2.04e-20, 3.75e-20, 3.54e-12, 7.06e-10)\n",
      "[ Info: Arnoldi iteration step 30: normres = 0.19248758795436538\n",
      "[ Info: Arnoldi schursolve in iter 1, krylovdim = 30: 4 values converged, normres = (4.86e-37, 2.90e-21, 5.35e-21, 5.60e-13, 1.12e-10)\n",
      "[ Info: Arnoldi schursolve in iter 2, krylovdim = 19: 4 values converged, normres = (4.86e-37, 2.90e-21, 5.35e-21, 5.60e-13, 1.12e-10)\n",
      "[ Info: Arnoldi iteration step 20: normres = 0.09468792717908078\n",
      "[ Info: Arnoldi schursolve in iter 2, krylovdim = 20: 4 values converged, normres = (2.13e-38, 2.21e-22, 4.07e-22, 4.82e-14, 9.66e-12)\n",
      "[ Info: Arnoldi iteration step 21: normres = 0.047836982531480624\n",
      "┌ Info: Arnoldi eigsolve finished after 2 iterations:\n",
      "│ *  6 eigenvalues converged\n",
      "│ *  norm of residuals = (4.430560215375821e-40, 7.627314153636732e-24, 1.4962316347080364e-23, 1.8522246063071842e-15, 3.6935853791265217e-13, 1.1728983593288585e-14)\n",
      "└ *  number of operations = 32\n"
     ]
    }
   ],
   "cell_type": "code",
   "source": [
    "eigsolve(eps_fun, randn(size(scfres.ρ)), 5, :LM; eager=true, verbosity=3);"
   ],
   "metadata": {},
   "execution_count": 3
  }
 ],
 "nbformat_minor": 3,
 "metadata": {
  "language_info": {
   "file_extension": ".jl",
   "mimetype": "application/julia",
   "name": "julia",
   "version": "1.8.2"
  },
  "kernelspec": {
   "name": "julia-1.8",
   "display_name": "Julia 1.8.2",
   "language": "julia"
  }
 },
 "nbformat": 4
}
