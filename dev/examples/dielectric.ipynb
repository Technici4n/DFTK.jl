{
 "cells": [
  {
   "cell_type": "markdown",
   "source": [
    "# Eigenvalues of the dielectric matrix\n",
    "\n",
    "We compute a few eigenvalues of the dielectric matrix ($q=0$, $ω=0$) iteratively."
   ],
   "metadata": {}
  },
  {
   "outputs": [
    {
     "name": "stdout",
     "output_type": "stream",
     "text": [
      "n     Energy            log10(ΔE)   log10(Δρ)   Diag\n",
      "---   ---------------   ---------   ---------   ----\n",
      "  1   -7.233705775441                   -0.50    8.0\n",
      "  2   -7.250039791853       -1.79       -1.39    1.0\n",
      "  3   -7.251240607694       -2.92       -1.94    4.0\n",
      "  4   -7.251247834670       -5.14       -2.09    4.0\n",
      "  5   -7.251324633212       -4.11       -2.58    3.0\n",
      "  6   -7.251334513825       -5.01       -2.83    2.0\n",
      "  7   -7.251338772824       -5.37       -4.10    1.0\n",
      "  8   -7.251338793683       -7.68       -4.24    4.0\n",
      "  9   -7.251338798305       -8.34       -4.79    3.0\n",
      " 10   -7.251338798644       -9.47       -5.22    1.0\n",
      " 11   -7.251338798704      -10.22       -6.01    2.0\n",
      " 12   -7.251338798704      -12.27       -6.48    3.0\n",
      " 13   -7.251338798704      -13.30       -6.74    3.0\n",
      " 14   -7.251338798705      -13.35       -7.68    2.0\n",
      " 15   -7.251338798705   +  -14.75       -7.86    4.0\n"
     ]
    }
   ],
   "cell_type": "code",
   "source": [
    "using DFTK\n",
    "using Plots\n",
    "using KrylovKit\n",
    "using Printf\n",
    "\n",
    "# Calculation parameters\n",
    "kgrid = [1, 1, 1]\n",
    "Ecut = 5\n",
    "\n",
    "# Silicon lattice\n",
    "a = 10.26\n",
    "lattice = a / 2 .* [[0 1 1.]; [1 0 1.]; [1 1 0.]]\n",
    "Si = ElementPsp(:Si, psp=load_psp(\"hgh/lda/Si-q4\"))\n",
    "atoms     = [Si, Si]\n",
    "positions = [ones(3)/8, -ones(3)/8]\n",
    "\n",
    "# Compute the dielectric operator without symmetries\n",
    "model = model_LDA(lattice, atoms, positions, symmetries=false)\n",
    "basis = PlaneWaveBasis(model; Ecut, kgrid)\n",
    "scfres = self_consistent_field(basis, tol=1e-14);"
   ],
   "metadata": {},
   "execution_count": 1
  },
  {
   "cell_type": "markdown",
   "source": [
    "Applying $ε^† ≔ (1- χ_0 K)$ …"
   ],
   "metadata": {}
  },
  {
   "outputs": [],
   "cell_type": "code",
   "source": [
    "function eps_fun(δρ)\n",
    "    δV = apply_kernel(basis, δρ; ρ=scfres.ρ)\n",
    "    χ0δV = apply_χ0(scfres, δV)\n",
    "    δρ - χ0δV\n",
    "end;"
   ],
   "metadata": {},
   "execution_count": 2
  },
  {
   "cell_type": "markdown",
   "source": [
    "… eagerly diagonalizes the subspace matrix at each iteration"
   ],
   "metadata": {}
  },
  {
   "outputs": [
    {
     "name": "stdout",
     "output_type": "stream",
     "text": [
      "[ Info: Arnoldi iteration step 1: normres = 0.05465931723913529\n",
      "[ Info: Arnoldi iteration step 2: normres = 0.5555722388160905\n",
      "[ Info: Arnoldi iteration step 3: normres = 0.9088454432883659\n",
      "[ Info: Arnoldi iteration step 4: normres = 0.2996380390666419\n",
      "[ Info: Arnoldi iteration step 5: normres = 0.4258747602696918\n",
      "[ Info: Arnoldi schursolve in iter 1, krylovdim = 5: 0 values converged, normres = (3.39e-02, 6.15e-02, 3.10e-01, 2.81e-01, 3.35e-02)\n",
      "[ Info: Arnoldi iteration step 6: normres = 0.3713177730664047\n",
      "[ Info: Arnoldi schursolve in iter 1, krylovdim = 6: 0 values converged, normres = (1.13e-02, 2.26e-01, 2.66e-01, 1.02e-01, 6.86e-02)\n",
      "[ Info: Arnoldi iteration step 7: normres = 0.06349116643945996\n",
      "[ Info: Arnoldi schursolve in iter 1, krylovdim = 7: 0 values converged, normres = (3.58e-04, 1.58e-02, 8.53e-03, 2.44e-02, 4.78e-02)\n",
      "[ Info: Arnoldi iteration step 8: normres = 0.10091271946604723\n",
      "[ Info: Arnoldi schursolve in iter 1, krylovdim = 8: 0 values converged, normres = (1.55e-05, 1.11e-03, 6.66e-04, 7.37e-03, 3.69e-02)\n",
      "[ Info: Arnoldi iteration step 9: normres = 0.06661981942410823\n",
      "[ Info: Arnoldi schursolve in iter 1, krylovdim = 9: 0 values converged, normres = (4.46e-07, 5.30e-05, 3.52e-05, 1.69e-03, 3.06e-02)\n",
      "[ Info: Arnoldi iteration step 10: normres = 0.0970852765029104\n",
      "[ Info: Arnoldi schursolve in iter 1, krylovdim = 10: 0 values converged, normres = (1.88e-08, 3.68e-06, 2.71e-06, 5.49e-04, 2.94e-02)\n",
      "[ Info: Arnoldi iteration step 11: normres = 0.09859468592082561\n",
      "[ Info: Arnoldi schursolve in iter 1, krylovdim = 11: 0 values converged, normres = (8.12e-10, 2.64e-07, 2.17e-07, 2.05e-04, 4.38e-02)\n",
      "[ Info: Arnoldi iteration step 12: normres = 0.08979149046502885\n",
      "[ Info: Arnoldi schursolve in iter 1, krylovdim = 12: 0 values converged, normres = (3.17e-11, 1.71e-08, 1.56e-08, 6.79e-05, 3.65e-02)\n",
      "[ Info: Arnoldi iteration step 13: normres = 0.10225538281531218\n",
      "[ Info: Arnoldi schursolve in iter 1, krylovdim = 13: 0 values converged, normres = (1.39e-12, 1.22e-09, 1.24e-09, 2.20e-05, 2.32e-02)\n",
      "[ Info: Arnoldi iteration step 14: normres = 0.3865552442077208\n",
      "[ Info: Arnoldi schursolve in iter 1, krylovdim = 14: 1 values converged, normres = (4.65e-13, 1.95e-09, 4.72e-09, 3.82e-01, 1.31e-03)\n",
      "[ Info: Arnoldi iteration step 15: normres = 0.06649313332355425\n",
      "[ Info: Arnoldi schursolve in iter 1, krylovdim = 15: 1 values converged, normres = (1.40e-14, 1.49e-10, 1.89e-02, 1.48e-03, 4.98e-07)\n",
      "[ Info: Arnoldi iteration step 16: normres = 0.5105472424015245\n",
      "[ Info: Arnoldi schursolve in iter 1, krylovdim = 16: 1 values converged, normres = (6.41e-15, 3.73e-10, 1.15e-01, 5.35e-02, 4.94e-01)\n",
      "[ Info: Arnoldi iteration step 17: normres = 0.03223327149691849\n",
      "[ Info: Arnoldi schursolve in iter 1, krylovdim = 17: 1 values converged, normres = (1.05e-16, 1.56e-08, 1.16e-02, 3.74e-05, 1.66e-03)\n",
      "[ Info: Arnoldi iteration step 18: normres = 0.0202877289366709\n",
      "[ Info: Arnoldi schursolve in iter 1, krylovdim = 18: 1 values converged, normres = (8.77e-19, 4.60e-05, 1.49e-04, 2.27e-05, 8.39e-06)\n",
      "[ Info: Arnoldi iteration step 19: normres = 0.11869940963455798\n",
      "[ Info: Arnoldi schursolve in iter 1, krylovdim = 19: 1 values converged, normres = (4.32e-20, 1.58e-07, 1.23e-05, 2.74e-07, 2.09e-06)\n",
      "[ Info: Arnoldi iteration step 20: normres = 0.06766773098996626\n",
      "[ Info: Arnoldi schursolve in iter 1, krylovdim = 20: 1 values converged, normres = (1.43e-21, 8.08e-09, 7.38e-07, 4.78e-08, 1.36e-07)\n",
      "[ Info: Arnoldi iteration step 21: normres = 0.03458995388914049\n",
      "[ Info: Arnoldi schursolve in iter 1, krylovdim = 21: 1 values converged, normres = (2.07e-23, 1.55e-08, 7.33e-09, 2.81e-09, 2.41e-09)\n",
      "[ Info: Arnoldi iteration step 22: normres = 0.12743703247998195\n",
      "[ Info: Arnoldi schursolve in iter 1, krylovdim = 22: 1 values converged, normres = (1.10e-24, 1.47e-09, 1.17e-10, 2.63e-10, 2.35e-10)\n",
      "[ Info: Arnoldi iteration step 23: normres = 0.22294652654662614\n",
      "[ Info: Arnoldi schursolve in iter 1, krylovdim = 23: 1 values converged, normres = (2.29e-25, 1.92e-09, 4.91e-10, 2.40e-09, 2.15e-09)\n",
      "[ Info: Arnoldi iteration step 24: normres = 0.01423551165575483\n",
      "[ Info: Arnoldi schursolve in iter 1, krylovdim = 24: 1 values converged, normres = (1.36e-27, 2.15e-11, 2.38e-12, 1.74e-03, 9.97e-05)\n",
      "[ Info: Arnoldi iteration step 25: normres = 0.09451922611286695\n",
      "[ Info: Arnoldi schursolve in iter 1, krylovdim = 25: 1 values converged, normres = (5.37e-29, 1.36e-12, 1.51e-13, 8.19e-09, 3.15e-09)\n",
      "[ Info: Arnoldi iteration step 26: normres = 0.03413495791620352\n",
      "[ Info: Arnoldi schursolve in iter 1, krylovdim = 26: 3 values converged, normres = (8.19e-31, 3.49e-14, 3.86e-15, 4.07e-09, 4.42e-09)\n",
      "[ Info: Arnoldi iteration step 27: normres = 0.05212431587061314\n",
      "[ Info: Arnoldi schursolve in iter 1, krylovdim = 27: 3 values converged, normres = (1.76e-32, 1.20e-15, 1.33e-16, 1.21e-07, 5.94e-09)\n",
      "[ Info: Arnoldi iteration step 28: normres = 0.05484515418710884\n",
      "[ Info: Arnoldi schursolve in iter 1, krylovdim = 28: 3 values converged, normres = (4.26e-34, 4.84e-17, 5.36e-18, 1.33e-09, 6.43e-09)\n",
      "[ Info: Arnoldi iteration step 29: normres = 0.018303950767913958\n",
      "[ Info: Arnoldi schursolve in iter 1, krylovdim = 29: 3 values converged, normres = (3.22e-36, 5.84e-19, 6.47e-20, 2.69e-11, 9.17e-11)\n",
      "[ Info: Arnoldi iteration step 30: normres = 0.20584916908041032\n",
      "[ Info: Arnoldi schursolve in iter 1, krylovdim = 30: 3 values converged, normres = (2.98e-37, 9.15e-20, 1.01e-20, 4.73e-12, 1.61e-11)\n",
      "[ Info: Arnoldi schursolve in iter 2, krylovdim = 19: 3 values converged, normres = (2.98e-37, 9.15e-20, 1.01e-20, 4.73e-12, 1.61e-11)\n",
      "[ Info: Arnoldi iteration step 20: normres = 0.08198162064476676\n",
      "[ Info: Arnoldi schursolve in iter 2, krylovdim = 20: 4 values converged, normres = (1.13e-38, 5.94e-21, 6.57e-22, 3.46e-13, 1.18e-12)\n",
      "[ Info: Arnoldi iteration step 21: normres = 0.04406083537564598\n",
      "┌ Info: Arnoldi eigsolve finished after 2 iterations:\n",
      "│ *  6 eigenvalues converged\n",
      "│ *  norm of residuals = (2.1355118129035977e-40, 1.8666786862009244e-22, 9.514487993416496e-23, 1.2090700743607944e-14, 4.247382123803081e-14, 1.3625245029644626e-14)\n",
      "└ *  number of operations = 32\n"
     ]
    }
   ],
   "cell_type": "code",
   "source": [
    "eigsolve(eps_fun, randn(size(scfres.ρ)), 5, :LM; eager=true, verbosity=3);"
   ],
   "metadata": {},
   "execution_count": 3
  }
 ],
 "nbformat_minor": 3,
 "metadata": {
  "language_info": {
   "file_extension": ".jl",
   "mimetype": "application/julia",
   "name": "julia",
   "version": "1.8.2"
  },
  "kernelspec": {
   "name": "julia-1.8",
   "display_name": "Julia 1.8.2",
   "language": "julia"
  }
 },
 "nbformat": 4
}
