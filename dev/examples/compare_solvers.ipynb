{
 "cells": [
  {
   "cell_type": "markdown",
   "source": [
    "# Comparison of DFT solvers"
   ],
   "metadata": {}
  },
  {
   "cell_type": "markdown",
   "source": [
    "We compare four different approaches for solving the DFT minimisation problem,\n",
    "namely a density-based SCF, a potential-based SCF, direct minimisation and Newton."
   ],
   "metadata": {}
  },
  {
   "cell_type": "markdown",
   "source": [
    "First we setup our problem"
   ],
   "metadata": {}
  },
  {
   "outputs": [
    {
     "output_type": "execute_result",
     "data": {
      "text/plain": "1.0e-6"
     },
     "metadata": {},
     "execution_count": 1
    }
   ],
   "cell_type": "code",
   "source": [
    "using DFTK\n",
    "using LinearAlgebra\n",
    "\n",
    "a = 10.26  # Silicon lattice constant in Bohr\n",
    "lattice = a / 2 * [[0 1 1.];\n",
    "                   [1 0 1.];\n",
    "                   [1 1 0.]]\n",
    "Si = ElementPsp(:Si, psp=load_psp(\"hgh/lda/Si-q4\"))\n",
    "atoms     = [Si, Si]\n",
    "positions = [ones(3)/8, -ones(3)/8]\n",
    "\n",
    "model = model_LDA(lattice, atoms, positions)\n",
    "basis = PlaneWaveBasis(model; Ecut=5, kgrid=[3, 3, 3])\n",
    "\n",
    "# Convergence we desire in the density\n",
    "tol = 1e-6"
   ],
   "metadata": {},
   "execution_count": 1
  },
  {
   "cell_type": "markdown",
   "source": [
    "## Density-based self-consistent field"
   ],
   "metadata": {}
  },
  {
   "outputs": [
    {
     "name": "stdout",
     "output_type": "stream",
     "text": [
      "n     Energy            log10(ΔE)   log10(Δρ)   Diag   Δtime\n",
      "---   ---------------   ---------   ---------   ----   ------\n",
      "  1   -7.846881863644                   -0.70    4.8         \n",
      "  2   -7.852315333211       -2.26       -1.53    1.0   23.0ms\n",
      "  3   -7.852616703560       -3.52       -2.56    1.5   25.3ms\n",
      "  4   -7.852645866164       -4.54       -2.87    2.8   31.8ms\n",
      "  5   -7.852646492134       -6.20       -3.17    1.0   23.3ms\n",
      "  6   -7.852646679846       -6.73       -4.33    1.2   24.0ms\n",
      "  7   -7.852646686669       -8.17       -4.86    2.5   32.2ms\n",
      "  8   -7.852646686719      -10.30       -5.29    1.0   23.5ms\n",
      "  9   -7.852646686729      -11.00       -6.05    1.2   24.2ms\n"
     ]
    }
   ],
   "cell_type": "code",
   "source": [
    "scfres_scf = self_consistent_field(basis; tol);"
   ],
   "metadata": {},
   "execution_count": 2
  },
  {
   "cell_type": "markdown",
   "source": [
    "## Potential-based SCF"
   ],
   "metadata": {}
  },
  {
   "outputs": [
    {
     "name": "stdout",
     "output_type": "stream",
     "text": [
      "n     Energy            log10(ΔE)   log10(Δρ)   α      Diag   Δtime\n",
      "---   ---------------   ---------   ---------   ----   ----   ------\n",
      "  1   -7.846791275082                   -0.70           4.5         \n",
      "  2   -7.852524500502       -2.24       -1.63   0.80    2.0    237ms\n",
      "  3   -7.852636586260       -3.95       -2.71   0.80    1.0   21.5ms\n",
      "  4   -7.852646314646       -5.01       -3.28   0.80    2.2   28.1ms\n",
      "  5   -7.852646678302       -6.44       -4.16   0.80    1.2   22.7ms\n",
      "  6   -7.852646686435       -8.09       -4.76   0.80    1.5   24.0ms\n",
      "  7   -7.852646686720       -9.55       -5.56   0.80    1.5   24.7ms\n",
      "  8   -7.852646686730      -11.03       -6.28   0.80    2.0   26.8ms\n"
     ]
    }
   ],
   "cell_type": "code",
   "source": [
    "scfres_scfv = DFTK.scf_potential_mixing(basis; tol);"
   ],
   "metadata": {},
   "execution_count": 3
  },
  {
   "cell_type": "markdown",
   "source": [
    "## Direct minimization\n",
    "Note: Unlike the other algorithms, tolerance for this one is in the energy,\n",
    "thus we square the density tolerance value to be roughly equivalent."
   ],
   "metadata": {}
  },
  {
   "outputs": [
    {
     "name": "stdout",
     "output_type": "stream",
     "text": [
      "Iter     Function value   Gradient norm \n",
      "     0     1.357283e+01     3.378443e+00\n",
      " * time: 0.4149448871612549\n",
      "     1     1.068290e+00     1.860881e+00\n",
      " * time: 0.6045629978179932\n",
      "     2    -1.034102e+00     2.352222e+00\n",
      " * time: 0.6270649433135986\n",
      "     3    -3.598764e+00     1.888202e+00\n",
      " * time: 0.6592779159545898\n",
      "     4    -4.446392e+00     2.025039e+00\n",
      " * time: 0.6915860176086426\n",
      "     5    -6.340751e+00     1.224626e+00\n",
      " * time: 0.7236628532409668\n",
      "     6    -7.016797e+00     1.238681e+00\n",
      " * time: 0.7561540603637695\n",
      "     7    -7.203477e+00     1.362639e+00\n",
      " * time: 0.7785179615020752\n",
      "     8    -7.490388e+00     1.303596e+00\n",
      " * time: 0.8009140491485596\n",
      "     9    -7.697591e+00     3.260601e-01\n",
      " * time: 0.8330168724060059\n",
      "    10    -7.781480e+00     1.787088e-01\n",
      " * time: 0.8555960655212402\n",
      "    11    -7.823763e+00     8.613847e-02\n",
      " * time: 0.8779828548431396\n",
      "    12    -7.840357e+00     4.694750e-02\n",
      " * time: 0.9008569717407227\n",
      "    13    -7.844084e+00     5.222326e-02\n",
      " * time: 0.9232580661773682\n",
      "    14    -7.845309e+00     5.559208e-02\n",
      " * time: 0.9554760456085205\n",
      "    15    -7.845493e+00     5.625846e-02\n",
      " * time: 0.9979078769683838\n",
      "    16    -7.845500e+00     5.703246e-02\n",
      " * time: 1.0694739818572998\n",
      "    17    -7.845511e+00     6.113747e-02\n",
      " * time: 1.121886968612671\n",
      "    18    -7.845513e+00     6.139785e-02\n",
      " * time: 1.1937239170074463\n",
      "    19    -7.845613e+00     6.082663e-02\n",
      " * time: 1.2459988594055176\n",
      "    20    -7.845720e+00     5.799585e-02\n",
      " * time: 1.3543379306793213\n",
      "    21    -7.846014e+00     4.834223e-02\n",
      " * time: 1.3965158462524414\n",
      "    22    -7.846509e+00     2.758017e-02\n",
      " * time: 1.4286799430847168\n",
      "    23    -7.847796e+00     2.676092e-02\n",
      " * time: 1.45107102394104\n",
      "    24    -7.849781e+00     2.177790e-02\n",
      " * time: 1.4736239910125732\n",
      "    25    -7.852160e+00     1.278458e-02\n",
      " * time: 1.495952844619751\n",
      "    26    -7.852511e+00     9.996388e-03\n",
      " * time: 1.5182130336761475\n",
      "    27    -7.852608e+00     5.300505e-03\n",
      " * time: 1.540834903717041\n",
      "    28    -7.852635e+00     1.722194e-03\n",
      " * time: 1.5634419918060303\n",
      "    29    -7.852643e+00     1.145007e-03\n",
      " * time: 1.5861899852752686\n",
      "    30    -7.852645e+00     7.945674e-04\n",
      " * time: 1.6084280014038086\n",
      "    31    -7.852646e+00     4.204177e-04\n",
      " * time: 1.6306889057159424\n",
      "    32    -7.852647e+00     1.978287e-04\n",
      " * time: 1.65305495262146\n",
      "    33    -7.852647e+00     1.587621e-04\n",
      " * time: 1.6755340099334717\n",
      "    34    -7.852647e+00     7.684720e-05\n",
      " * time: 1.697854995727539\n",
      "    35    -7.852647e+00     3.827739e-05\n",
      " * time: 1.7200758457183838\n",
      "    36    -7.852647e+00     2.647878e-05\n",
      " * time: 1.7426650524139404\n",
      "    37    -7.852647e+00     1.602564e-05\n",
      " * time: 1.7650060653686523\n",
      "    38    -7.852647e+00     6.641159e-06\n",
      " * time: 1.787423849105835\n",
      "    39    -7.852647e+00     3.739118e-06\n",
      " * time: 1.8098399639129639\n",
      "    40    -7.852647e+00     2.458247e-06\n",
      " * time: 1.8322620391845703\n",
      "    41    -7.852647e+00     1.994245e-06\n",
      " * time: 1.8548328876495361\n",
      "    42    -7.852647e+00     1.272097e-06\n",
      " * time: 1.8772399425506592\n",
      "    43    -7.852647e+00     6.590596e-07\n",
      " * time: 1.899864912033081\n",
      "    44    -7.852647e+00     3.789569e-07\n",
      " * time: 1.9222190380096436\n",
      "    45    -7.852647e+00     1.619295e-07\n",
      " * time: 1.9446048736572266\n",
      "    46    -7.852647e+00     7.189272e-08\n",
      " * time: 1.9672069549560547\n",
      "    47    -7.852647e+00     3.758090e-08\n",
      " * time: 1.99006986618042\n",
      "    48    -7.852647e+00     2.410475e-08\n",
      " * time: 2.012699842453003\n",
      "    49    -7.852647e+00     1.508339e-08\n",
      " * time: 2.0352630615234375\n",
      "    50    -7.852647e+00     9.459724e-09\n",
      " * time: 2.057905912399292\n"
     ]
    }
   ],
   "cell_type": "code",
   "source": [
    "scfres_dm = direct_minimization(basis; tol=tol^2);"
   ],
   "metadata": {},
   "execution_count": 4
  },
  {
   "cell_type": "markdown",
   "source": [
    "## Newton algorithm"
   ],
   "metadata": {}
  },
  {
   "cell_type": "markdown",
   "source": [
    "Start not too far from the solution to ensure convergence:\n",
    "We run first a very crude SCF to get close and then switch to Newton."
   ],
   "metadata": {}
  },
  {
   "outputs": [
    {
     "name": "stdout",
     "output_type": "stream",
     "text": [
      "n     Energy            log10(ΔE)   log10(Δρ)   Diag   Δtime\n",
      "---   ---------------   ---------   ---------   ----   ------\n",
      "  1   -7.846860838342                   -0.70    5.0         \n"
     ]
    }
   ],
   "cell_type": "code",
   "source": [
    "scfres_start = self_consistent_field(basis; tol=0.5);"
   ],
   "metadata": {},
   "execution_count": 5
  },
  {
   "cell_type": "markdown",
   "source": [
    "Remove the virtual orbitals (which Newton cannot treat yet)"
   ],
   "metadata": {}
  },
  {
   "outputs": [
    {
     "name": "stdout",
     "output_type": "stream",
     "text": [
      "n     Energy            log10(ΔE)   log10(Δρ)   Δtime\n",
      "---   ---------------   ---------   ---------   ------\n",
      "  1   -7.852645914412                   -1.64         \n",
      "  2   -7.852646686730       -6.11       -3.71    1.57s\n",
      "  3   -7.852646686730      -13.34       -7.25    176ms\n"
     ]
    }
   ],
   "cell_type": "code",
   "source": [
    "ψ = DFTK.select_occupied_orbitals(basis, scfres_start.ψ, scfres_start.occupation).ψ\n",
    "scfres_newton = newton(basis, ψ; tol);"
   ],
   "metadata": {},
   "execution_count": 6
  },
  {
   "cell_type": "markdown",
   "source": [
    "## Comparison of results"
   ],
   "metadata": {}
  },
  {
   "outputs": [
    {
     "name": "stdout",
     "output_type": "stream",
     "text": [
      "|ρ_newton - ρ_scf|  = 6.340684110238205e-7\n",
      "|ρ_newton - ρ_scfv| = 1.5603379024289852e-7\n",
      "|ρ_newton - ρ_dm|   = 3.036986212984515e-9\n"
     ]
    }
   ],
   "cell_type": "code",
   "source": [
    "println(\"|ρ_newton - ρ_scf|  = \", norm(scfres_newton.ρ - scfres_scf.ρ))\n",
    "println(\"|ρ_newton - ρ_scfv| = \", norm(scfres_newton.ρ - scfres_scfv.ρ))\n",
    "println(\"|ρ_newton - ρ_dm|   = \", norm(scfres_newton.ρ - scfres_dm.ρ))"
   ],
   "metadata": {},
   "execution_count": 7
  }
 ],
 "nbformat_minor": 3,
 "metadata": {
  "language_info": {
   "file_extension": ".jl",
   "mimetype": "application/julia",
   "name": "julia",
   "version": "1.8.5"
  },
  "kernelspec": {
   "name": "julia-1.8",
   "display_name": "Julia 1.8.5",
   "language": "julia"
  }
 },
 "nbformat": 4
}
