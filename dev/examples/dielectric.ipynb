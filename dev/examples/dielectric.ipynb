{
 "cells": [
  {
   "cell_type": "markdown",
   "source": [
    "# Eigenvalues of the dielectric matrix\n",
    "\n",
    "We compute a few eigenvalues of the dielectric matrix ($q=0$, $ω=0$) iteratively."
   ],
   "metadata": {}
  },
  {
   "outputs": [
    {
     "name": "stdout",
     "output_type": "stream",
     "text": [
      "n     Energy            log10(ΔE)   log10(Δρ)   Diag   Δtime\n",
      "---   ---------------   ---------   ---------   ----   ------\n",
      "  1   -7.234314128853                   -0.50    7.0         \n",
      "  2   -7.249981325809       -1.81       -1.40    1.0   13.1ms\n",
      "  3   -7.250862155669       -3.06       -1.86    2.0   14.9ms\n",
      "  4   -7.250828481256   +   -4.47       -1.81    2.0   16.3ms\n",
      "  5   -7.251333821555       -3.30       -2.77    1.0   13.8ms\n",
      "  6   -7.251338036207       -5.38       -3.15    2.0   16.5ms\n",
      "  7   -7.251338636516       -6.22       -3.45    2.0   19.0ms\n",
      "  8   -7.251338791331       -6.81       -4.11    1.0   14.7ms\n",
      "  9   -7.251338797995       -8.18       -4.73    1.0   13.9ms\n",
      " 10   -7.251338798577       -9.24       -5.05    2.0   17.1ms\n",
      " 11   -7.251338798694       -9.94       -5.65    1.0   14.0ms\n",
      " 12   -7.251338798703      -11.01       -6.03    2.0   16.3ms\n",
      " 13   -7.251338798704      -12.03       -6.46    1.0   13.9ms\n",
      " 14   -7.251338798705      -12.89       -6.89    2.0   15.3ms\n",
      " 15   -7.251338798705      -13.82       -7.43    1.0   14.4ms\n",
      " 16   -7.251338798705   +    -Inf       -7.83    2.0   19.1ms\n",
      " 17   -7.251338798705      -14.75       -8.54    1.0   14.0ms\n"
     ]
    }
   ],
   "cell_type": "code",
   "source": [
    "using DFTK\n",
    "using Plots\n",
    "using KrylovKit\n",
    "using Printf\n",
    "\n",
    "# Calculation parameters\n",
    "kgrid = [1, 1, 1]\n",
    "Ecut = 5\n",
    "\n",
    "# Silicon lattice\n",
    "a = 10.26\n",
    "lattice = a / 2 .* [[0 1 1.]; [1 0 1.]; [1 1 0.]]\n",
    "Si = ElementPsp(:Si, psp=load_psp(\"hgh/lda/Si-q4\"))\n",
    "atoms     = [Si, Si]\n",
    "positions = [ones(3)/8, -ones(3)/8]\n",
    "\n",
    "# Compute the dielectric operator without symmetries\n",
    "model  = model_LDA(lattice, atoms, positions, symmetries=false)\n",
    "basis  = PlaneWaveBasis(model; Ecut, kgrid)\n",
    "scfres = self_consistent_field(basis, tol=1e-8);"
   ],
   "metadata": {},
   "execution_count": 1
  },
  {
   "cell_type": "markdown",
   "source": [
    "Applying $ε^† ≔ (1- χ_0 K)$ …"
   ],
   "metadata": {}
  },
  {
   "outputs": [],
   "cell_type": "code",
   "source": [
    "function eps_fun(δρ)\n",
    "    δV = apply_kernel(basis, δρ; ρ=scfres.ρ)\n",
    "    χ0δV = apply_χ0(scfres, δV)\n",
    "    δρ - χ0δV\n",
    "end;"
   ],
   "metadata": {},
   "execution_count": 2
  },
  {
   "cell_type": "markdown",
   "source": [
    "… eagerly diagonalizes the subspace matrix at each iteration"
   ],
   "metadata": {}
  },
  {
   "outputs": [
    {
     "name": "stdout",
     "output_type": "stream",
     "text": [
      "[ Info: Arnoldi iteration step 1: normres = 0.08122086748336733\n",
      "[ Info: Arnoldi iteration step 2: normres = 0.4466291449638523\n",
      "[ Info: Arnoldi iteration step 3: normres = 0.7462757887349021\n",
      "[ Info: Arnoldi iteration step 4: normres = 0.3096278601393358\n",
      "[ Info: Arnoldi iteration step 5: normres = 0.6090658999315895\n",
      "[ Info: Arnoldi schursolve in iter 1, krylovdim = 5: 0 values converged, normres = (3.64e-02, 7.53e-02, 5.17e-01, 3.08e-01, 4.07e-02)\n",
      "[ Info: Arnoldi iteration step 6: normres = 0.15760716929398366\n",
      "[ Info: Arnoldi schursolve in iter 1, krylovdim = 6: 0 values converged, normres = (4.94e-03, 1.10e-01, 7.02e-02, 7.36e-02, 1.33e-02)\n",
      "[ Info: Arnoldi iteration step 7: normres = 0.07936795050467393\n",
      "[ Info: Arnoldi schursolve in iter 1, krylovdim = 7: 0 values converged, normres = (1.76e-04, 6.75e-03, 4.18e-03, 2.17e-02, 7.34e-02)\n",
      "[ Info: Arnoldi iteration step 8: normres = 0.0805229594669775\n",
      "[ Info: Arnoldi schursolve in iter 1, krylovdim = 8: 0 values converged, normres = (6.00e-06, 3.72e-04, 2.56e-04, 4.90e-03, 3.52e-02)\n",
      "[ Info: Arnoldi iteration step 9: normres = 0.08080883694069542\n",
      "[ Info: Arnoldi schursolve in iter 1, krylovdim = 9: 0 values converged, normres = (2.11e-07, 2.17e-05, 1.66e-05, 1.38e-03, 3.46e-02)\n",
      "[ Info: Arnoldi iteration step 10: normres = 0.06057499061239204\n",
      "[ Info: Arnoldi schursolve in iter 1, krylovdim = 10: 0 values converged, normres = (5.48e-09, 9.20e-07, 7.80e-07, 2.59e-04, 1.98e-02)\n",
      "[ Info: Arnoldi iteration step 11: normres = 0.10059765589896093\n",
      "[ Info: Arnoldi schursolve in iter 1, krylovdim = 11: 0 values converged, normres = (2.38e-10, 6.57e-08, 6.18e-08, 8.34e-05, 1.81e-02)\n",
      "[ Info: Arnoldi iteration step 12: normres = 0.1058217923720782\n",
      "[ Info: Arnoldi schursolve in iter 1, krylovdim = 12: 0 values converged, normres = (1.09e-11, 4.98e-09, 5.21e-09, 3.09e-05, 3.66e-02)\n",
      "[ Info: Arnoldi iteration step 13: normres = 0.1167438271902596\n",
      "[ Info: Arnoldi schursolve in iter 1, krylovdim = 13: 1 values converged, normres = (5.70e-13, 4.38e-10, 5.12e-10, 1.73e-05, 7.37e-02)\n",
      "[ Info: Arnoldi iteration step 14: normres = 0.548545999698313\n",
      "[ Info: Arnoldi schursolve in iter 1, krylovdim = 14: 1 values converged, normres = (2.41e-13, 6.18e-10, 1.13e-09, 5.43e-01, 1.79e-03)\n",
      "[ Info: Arnoldi iteration step 15: normres = 0.06394565139575492\n",
      "[ Info: Arnoldi schursolve in iter 1, krylovdim = 15: 1 values converged, normres = (7.91e-15, 7.48e-11, 2.79e-02, 1.53e-03, 5.09e-06)\n",
      "[ Info: Arnoldi iteration step 16: normres = 0.5775182087450954\n",
      "[ Info: Arnoldi schursolve in iter 1, krylovdim = 16: 1 values converged, normres = (3.85e-15, 1.58e-10, 1.03e-01, 1.49e-02, 5.67e-01)\n",
      "[ Info: Arnoldi iteration step 17: normres = 0.028729312831861746\n",
      "[ Info: Arnoldi schursolve in iter 1, krylovdim = 17: 1 values converged, normres = (5.98e-17, 1.06e-08, 1.20e-02, 9.31e-04, 2.29e-03)\n",
      "[ Info: Arnoldi iteration step 18: normres = 0.017387969114967674\n",
      "[ Info: Arnoldi schursolve in iter 1, krylovdim = 18: 1 values converged, normres = (4.28e-19, 5.34e-05, 1.27e-04, 1.48e-07, 3.12e-05)\n",
      "[ Info: Arnoldi iteration step 19: normres = 0.25091325423608407\n",
      "[ Info: Arnoldi schursolve in iter 1, krylovdim = 19: 1 values converged, normres = (4.77e-20, 1.14e-08, 2.56e-05, 8.38e-07, 6.44e-06)\n",
      "[ Info: Arnoldi iteration step 20: normres = 0.024159702367428492\n",
      "[ Info: Arnoldi schursolve in iter 1, krylovdim = 20: 1 values converged, normres = (5.33e-22, 1.02e-08, 4.99e-07, 1.21e-08, 1.42e-07)\n",
      "[ Info: Arnoldi iteration step 21: normres = 0.014976655837779367\n",
      "[ Info: Arnoldi schursolve in iter 1, krylovdim = 21: 1 values converged, normres = (3.26e-24, 4.95e-10, 4.82e-09, 6.32e-10, 1.39e-09)\n",
      "[ Info: Arnoldi iteration step 22: normres = 0.31605380243860526\n",
      "[ Info: Arnoldi schursolve in iter 1, krylovdim = 22: 1 values converged, normres = (4.33e-25, 1.05e-10, 1.03e-09, 1.50e-10, 3.29e-10)\n",
      "[ Info: Arnoldi iteration step 23: normres = 0.095354545201022\n",
      "[ Info: Arnoldi schursolve in iter 1, krylovdim = 23: 1 values converged, normres = (4.22e-26, 6.49e-11, 6.40e-10, 1.59e-09, 3.51e-09)\n",
      "[ Info: Arnoldi iteration step 24: normres = 0.033029829119584936\n",
      "[ Info: Arnoldi schursolve in iter 1, krylovdim = 24: 1 values converged, normres = (5.28e-28, 1.51e-12, 1.49e-11, 1.30e-04, 3.34e-04)\n",
      "[ Info: Arnoldi iteration step 25: normres = 0.029404482680962785\n",
      "[ Info: Arnoldi schursolve in iter 1, krylovdim = 25: 3 values converged, normres = (6.44e-30, 2.95e-14, 2.91e-13, 8.81e-09, 3.39e-08)\n",
      "[ Info: Arnoldi iteration step 26: normres = 0.12480707894571454\n",
      "[ Info: Arnoldi schursolve in iter 1, krylovdim = 26: 3 values converged, normres = (3.52e-31, 2.68e-15, 2.64e-14, 5.74e-07, 1.30e-06)\n",
      "[ Info: Arnoldi iteration step 27: normres = 0.021836872357071956\n",
      "[ Info: Arnoldi schursolve in iter 1, krylovdim = 27: 3 values converged, normres = (3.27e-33, 4.07e-17, 4.02e-16, 4.96e-09, 1.64e-08)\n",
      "[ Info: Arnoldi iteration step 28: normres = 0.05947807598684362\n",
      "[ Info: Arnoldi schursolve in iter 1, krylovdim = 28: 3 values converged, normres = (8.01e-35, 1.59e-18, 1.57e-17, 1.34e-09, 3.27e-09)\n",
      "[ Info: Arnoldi iteration step 29: normres = 0.10804494072181471\n",
      "[ Info: Arnoldi schursolve in iter 1, krylovdim = 29: 3 values converged, normres = (3.92e-36, 1.32e-19, 1.30e-18, 2.05e-10, 2.54e-10)\n",
      "[ Info: Arnoldi iteration step 30: normres = 0.13621236539314505\n",
      "[ Info: Arnoldi schursolve in iter 1, krylovdim = 30: 3 values converged, normres = (2.54e-37, 1.51e-20, 1.49e-19, 2.55e-11, 3.38e-11)\n",
      "[ Info: Arnoldi schursolve in iter 2, krylovdim = 19: 3 values converged, normres = (2.54e-37, 1.51e-20, 1.49e-19, 2.55e-11, 3.38e-11)\n",
      "[ Info: Arnoldi iteration step 20: normres = 0.030030365286137818\n",
      "┌ Info: Arnoldi eigsolve finished after 2 iterations:\n",
      "│ *  6 eigenvalues converged\n",
      "│ *  norm of residuals = (3.239893715189491e-39, 3.1406058158851263e-22, 3.0718010532453995e-21, 5.924406339666631e-13, 9.444614529229964e-13, 3.348954897756727e-13)\n",
      "└ *  number of operations = 31\n"
     ]
    }
   ],
   "cell_type": "code",
   "source": [
    "eigsolve(eps_fun, randn(size(scfres.ρ)), 5, :LM; eager=true, verbosity=3);"
   ],
   "metadata": {},
   "execution_count": 3
  }
 ],
 "nbformat_minor": 3,
 "metadata": {
  "language_info": {
   "file_extension": ".jl",
   "mimetype": "application/julia",
   "name": "julia",
   "version": "1.8.5"
  },
  "kernelspec": {
   "name": "julia-1.8",
   "display_name": "Julia 1.8.5",
   "language": "julia"
  }
 },
 "nbformat": 4
}
