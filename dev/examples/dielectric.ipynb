{
 "cells": [
  {
   "cell_type": "markdown",
   "source": [
    "# Eigenvalues of the dielectric matrix\n",
    "\n",
    "We compute a few eigenvalues of the dielectric matrix ($q=0$, $ω=0$) iteratively."
   ],
   "metadata": {}
  },
  {
   "outputs": [
    {
     "name": "stdout",
     "output_type": "stream",
     "text": [
      "n     Energy            log10(ΔE)   log10(Δρ)   Diag\n",
      "---   ---------------   ---------   ---------   ----\n",
      "  1   -7.234682335898                   -0.50   10.0\n",
      "  2   -7.250339586969       -1.81       -1.40    1.0\n",
      "  3   -7.251125623644       -3.10       -2.05    1.0\n",
      "  4   -7.251162075907       -4.44       -2.00    2.0\n",
      "  5   -7.251329930888       -3.78       -2.62    1.0\n",
      "  6   -7.251338179003       -5.08       -3.14    1.0\n",
      "  7   -7.251338724922       -6.26       -3.63    2.0\n",
      "  8   -7.251338791123       -7.18       -4.02    2.0\n",
      "  9   -7.251338797444       -8.20       -4.52    1.0\n",
      " 10   -7.251338798564       -8.95       -5.01    2.0\n",
      " 11   -7.251338798688       -9.91       -5.29    3.0\n",
      " 12   -7.251338798697      -11.03       -5.55    1.0\n",
      " 13   -7.251338798704      -11.14       -6.39    1.0\n",
      " 14   -7.251338798704      -12.40       -6.65    2.0\n",
      " 15   -7.251338798705      -13.24       -7.06    1.0\n",
      " 16   -7.251338798705      -14.15       -7.37    2.0\n"
     ]
    }
   ],
   "cell_type": "code",
   "source": [
    "using DFTK\n",
    "using Plots\n",
    "using KrylovKit\n",
    "using Printf\n",
    "\n",
    "# Calculation parameters\n",
    "kgrid = [1, 1, 1]\n",
    "Ecut = 5\n",
    "\n",
    "# Silicon lattice\n",
    "a = 10.26\n",
    "lattice = a / 2 .* [[0 1 1.]; [1 0 1.]; [1 1 0.]]\n",
    "Si = ElementPsp(:Si, psp=load_psp(\"hgh/lda/Si-q4\"))\n",
    "atoms     = [Si, Si]\n",
    "positions = [ones(3)/8, -ones(3)/8]\n",
    "\n",
    "# Compute the dielectric operator without symmetries\n",
    "model = model_LDA(lattice, atoms, positions, symmetries=false)\n",
    "basis = PlaneWaveBasis(model; Ecut, kgrid)\n",
    "scfres = self_consistent_field(basis, tol=1e-14);"
   ],
   "metadata": {},
   "execution_count": 1
  },
  {
   "cell_type": "markdown",
   "source": [
    "Applying $ε^† ≔ (1- χ_0 K)$ …"
   ],
   "metadata": {}
  },
  {
   "outputs": [],
   "cell_type": "code",
   "source": [
    "function eps_fun(δρ)\n",
    "    δV = apply_kernel(basis, δρ; ρ=scfres.ρ)\n",
    "    χ0δV = apply_χ0(scfres, δV)\n",
    "    δρ - χ0δV\n",
    "end;"
   ],
   "metadata": {},
   "execution_count": 2
  },
  {
   "cell_type": "markdown",
   "source": [
    "… eagerly diagonalizes the subspace matrix at each iteration"
   ],
   "metadata": {}
  },
  {
   "outputs": [
    {
     "name": "stdout",
     "output_type": "stream",
     "text": [
      "[ Info: Arnoldi iteration step 1: normres = 0.052784354460070064\n",
      "[ Info: Arnoldi iteration step 2: normres = 0.4357399772889116\n",
      "[ Info: Arnoldi iteration step 3: normres = 1.00536250060753\n",
      "[ Info: Arnoldi iteration step 4: normres = 0.34057425480778314\n",
      "[ Info: Arnoldi iteration step 5: normres = 0.5183687282812663\n",
      "[ Info: Arnoldi schursolve in iter 1, krylovdim = 5: 0 values converged, normres = (6.67e-02, 7.18e-02, 4.61e-01, 2.16e-01, 7.85e-03)\n",
      "[ Info: Arnoldi iteration step 6: normres = 0.3026826061259115\n",
      "[ Info: Arnoldi schursolve in iter 1, krylovdim = 6: 0 values converged, normres = (1.63e-02, 1.01e-01, 2.34e-01, 1.29e-01, 8.41e-02)\n",
      "[ Info: Arnoldi iteration step 7: normres = 0.08260029027757071\n",
      "[ Info: Arnoldi schursolve in iter 1, krylovdim = 7: 0 values converged, normres = (6.51e-04, 8.83e-03, 1.63e-02, 4.66e-02, 5.63e-02)\n",
      "[ Info: Arnoldi iteration step 8: normres = 0.0985175863496371\n",
      "[ Info: Arnoldi schursolve in iter 1, krylovdim = 8: 0 values converged, normres = (2.76e-05, 6.15e-04, 1.26e-03, 1.44e-02, 4.03e-02)\n",
      "[ Info: Arnoldi iteration step 9: normres = 0.05367240669108521\n",
      "[ Info: Arnoldi schursolve in iter 1, krylovdim = 9: 0 values converged, normres = (6.31e-07, 2.30e-05, 5.23e-05, 2.36e-03, 1.76e-02)\n",
      "[ Info: Arnoldi iteration step 10: normres = 0.08762306653465947\n",
      "[ Info: Arnoldi schursolve in iter 1, krylovdim = 10: 0 values converged, normres = (2.41e-08, 1.45e-06, 3.66e-06, 6.92e-04, 1.58e-02)\n",
      "[ Info: Arnoldi iteration step 11: normres = 0.0923559965300942\n",
      "[ Info: Arnoldi schursolve in iter 1, krylovdim = 11: 0 values converged, normres = (9.69e-10, 9.64e-08, 2.72e-07, 2.36e-04, 3.62e-02)\n",
      "[ Info: Arnoldi iteration step 12: normres = 0.1057988752048021\n",
      "[ Info: Arnoldi schursolve in iter 1, krylovdim = 12: 0 values converged, normres = (4.53e-11, 7.54e-09, 2.37e-08, 1.03e-04, 5.14e-02)\n",
      "[ Info: Arnoldi iteration step 13: normres = 0.30881026768677877\n",
      "[ Info: Arnoldi schursolve in iter 1, krylovdim = 13: 0 values converged, normres = (6.12e-12, 1.69e-09, 5.92e-09, 1.24e-04, 1.33e-01)\n",
      "[ Info: Arnoldi iteration step 14: normres = 0.12608905098449172\n",
      "[ Info: Arnoldi schursolve in iter 1, krylovdim = 14: 1 values converged, normres = (8.12e-13, 1.23e-08, 1.23e-01, 2.41e-03, 2.13e-04)\n",
      "[ Info: Arnoldi iteration step 15: normres = 0.3770868655964674\n",
      "[ Info: Arnoldi schursolve in iter 1, krylovdim = 15: 1 values converged, normres = (1.34e-13, 6.77e-09, 3.32e-02, 7.66e-05, 1.73e-05)\n",
      "[ Info: Arnoldi iteration step 16: normres = 0.08757748430601767\n",
      "[ Info: Arnoldi schursolve in iter 1, krylovdim = 16: 1 values converged, normres = (1.07e-14, 1.60e-02, 1.07e-02, 2.36e-05, 8.10e-02)\n",
      "[ Info: Arnoldi iteration step 17: normres = 0.032181557255902056\n",
      "[ Info: Arnoldi schursolve in iter 1, krylovdim = 17: 1 values converged, normres = (1.43e-16, 6.49e-08, 4.24e-04, 1.63e-07, 1.91e-03)\n",
      "[ Info: Arnoldi iteration step 18: normres = 0.022638148057909577\n",
      "[ Info: Arnoldi schursolve in iter 1, krylovdim = 18: 1 values converged, normres = (1.34e-18, 1.37e-07, 6.33e-06, 8.55e-08, 3.15e-05)\n",
      "[ Info: Arnoldi iteration step 19: normres = 0.10949148063048333\n",
      "[ Info: Arnoldi schursolve in iter 1, krylovdim = 19: 1 values converged, normres = (6.18e-20, 4.66e-07, 7.46e-08, 1.85e-06, 1.81e-06)\n",
      "[ Info: Arnoldi iteration step 20: normres = 0.11925449974827274\n",
      "[ Info: Arnoldi schursolve in iter 1, krylovdim = 20: 1 values converged, normres = (3.55e-21, 2.73e-08, 3.98e-08, 9.37e-08, 2.86e-07)\n",
      "[ Info: Arnoldi iteration step 21: normres = 0.02486269277667281\n",
      "[ Info: Arnoldi schursolve in iter 1, krylovdim = 21: 1 values converged, normres = (3.74e-23, 5.86e-10, 5.87e-10, 3.76e-09, 4.34e-09)\n",
      "[ Info: Arnoldi iteration step 22: normres = 0.4829876465607857\n",
      "[ Info: Arnoldi schursolve in iter 1, krylovdim = 22: 1 values converged, normres = (8.07e-24, 2.11e-10, 2.15e-10, 1.43e-09, 1.84e-09)\n",
      "[ Info: Arnoldi iteration step 23: normres = 0.039806564994368285\n",
      "[ Info: Arnoldi schursolve in iter 1, krylovdim = 23: 1 values converged, normres = (2.82e-25, 5.25e-11, 5.33e-11, 3.15e-02, 5.27e-04)\n",
      "[ Info: Arnoldi iteration step 24: normres = 0.013213674280055737\n",
      "[ Info: Arnoldi schursolve in iter 1, krylovdim = 24: 3 values converged, normres = (1.53e-27, 4.51e-13, 4.58e-13, 1.39e-08, 5.29e-08)\n",
      "[ Info: Arnoldi iteration step 25: normres = 0.10441587085840644\n",
      "[ Info: Arnoldi schursolve in iter 1, krylovdim = 25: 3 values converged, normres = (6.66e-29, 3.16e-14, 3.22e-14, 1.83e-05, 4.51e-06)\n",
      "[ Info: Arnoldi iteration step 26: normres = 0.03307131069377651\n",
      "[ Info: Arnoldi schursolve in iter 1, krylovdim = 26: 3 values converged, normres = (9.82e-31, 7.85e-16, 7.99e-16, 1.67e-08, 2.32e-08)\n",
      "[ Info: Arnoldi iteration step 27: normres = 0.032622576278388625\n",
      "[ Info: Arnoldi schursolve in iter 1, krylovdim = 27: 3 values converged, normres = (1.32e-32, 1.68e-17, 1.71e-17, 1.46e-08, 8.59e-09)\n",
      "[ Info: Arnoldi iteration step 28: normres = 0.07810114369429977\n",
      "[ Info: Arnoldi schursolve in iter 1, krylovdim = 28: 3 values converged, normres = (4.47e-34, 9.42e-19, 9.58e-19, 8.10e-10, 5.98e-10)\n",
      "[ Info: Arnoldi iteration step 29: normres = 0.04976534116479196\n",
      "[ Info: Arnoldi schursolve in iter 1, krylovdim = 29: 3 values converged, normres = (9.35e-36, 3.18e-20, 3.24e-20, 3.07e-11, 2.11e-11)\n",
      "[ Info: Arnoldi iteration step 30: normres = 0.16519807760427635\n",
      "[ Info: Arnoldi schursolve in iter 1, krylovdim = 30: 3 values converged, normres = (7.12e-37, 4.16e-21, 4.23e-21, 4.51e-12, 3.11e-12)\n",
      "[ Info: Arnoldi schursolve in iter 2, krylovdim = 19: 3 values converged, normres = (7.12e-37, 4.16e-21, 4.23e-21, 4.51e-12, 3.11e-12)\n",
      "[ Info: Arnoldi iteration step 20: normres = 0.1132807497331096\n",
      "┌ Info: Arnoldi eigsolve finished after 2 iterations:\n",
      "│ *  6 eigenvalues converged\n",
      "│ *  norm of residuals = (3.786981570108085e-38, 3.8088174905859086e-22, 3.9780811399333423e-22, 4.665476750917228e-13, 3.2606323637391373e-13, 2.7338961683815093e-13)\n",
      "└ *  number of operations = 31\n"
     ]
    }
   ],
   "cell_type": "code",
   "source": [
    "eigsolve(eps_fun, randn(size(scfres.ρ)), 5, :LM; eager=true, verbosity=3);"
   ],
   "metadata": {},
   "execution_count": 3
  }
 ],
 "nbformat_minor": 3,
 "metadata": {
  "language_info": {
   "file_extension": ".jl",
   "mimetype": "application/julia",
   "name": "julia",
   "version": "1.8.3"
  },
  "kernelspec": {
   "name": "julia-1.8",
   "display_name": "Julia 1.8.3",
   "language": "julia"
  }
 },
 "nbformat": 4
}
