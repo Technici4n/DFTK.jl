{
 "cells": [
  {
   "cell_type": "markdown",
   "source": [
    "# Eigenvalues of the dielectric matrix\n",
    "\n",
    "We compute a few eigenvalues of the dielectric matrix ($q=0$, $ω=0$) iteratively."
   ],
   "metadata": {}
  },
  {
   "outputs": [
    {
     "name": "stdout",
     "output_type": "stream",
     "text": [
      "n     Energy            log10(ΔE)   log10(Δρ)   Diag   Δtime\n",
      "---   ---------------   ---------   ---------   ----   ------\n",
      "  1   -7.235234259670                   -0.50    7.0         \n",
      "  2   -7.250060722333       -1.83       -1.38    1.0   8.20ms\n",
      "  3   -7.251232767941       -2.93       -2.03    2.0   9.52ms\n",
      "  4   -7.251265025799       -4.49       -2.15    2.0   9.20ms\n",
      "  5   -7.251330850279       -4.18       -2.75    1.0   7.98ms\n",
      "  6   -7.251336456951       -5.25       -2.95    3.0   10.2ms\n",
      "  7   -7.251338672724       -5.65       -3.64    1.0   8.04ms\n",
      "  8   -7.251338762610       -7.05       -3.80    3.0   11.6ms\n",
      "  9   -7.251338796553       -7.47       -4.40    1.0   8.49ms\n",
      " 10   -7.251338798492       -8.71       -4.99    2.0   72.4ms\n",
      " 11   -7.251338798672       -9.74       -5.25    3.0   12.0ms\n",
      " 12   -7.251338798700      -10.56       -5.74    1.0   8.45ms\n",
      " 13   -7.251338798703      -11.49       -5.96    2.0   9.89ms\n",
      " 14   -7.251338798704      -11.87       -6.40    1.0   8.34ms\n",
      " 15   -7.251338798705      -12.75       -6.94    2.0   9.60ms\n",
      " 16   -7.251338798705      -13.75       -7.31    2.0   9.80ms\n",
      " 17   -7.251338798705      -14.15       -7.75    2.0   9.93ms\n",
      " 18   -7.251338798705   +    -Inf       -8.20    1.0   8.19ms\n"
     ]
    }
   ],
   "cell_type": "code",
   "source": [
    "using DFTK\n",
    "using Plots\n",
    "using KrylovKit\n",
    "using Printf\n",
    "\n",
    "# Calculation parameters\n",
    "kgrid = [1, 1, 1]\n",
    "Ecut = 5\n",
    "\n",
    "# Silicon lattice\n",
    "a = 10.26\n",
    "lattice = a / 2 .* [[0 1 1.]; [1 0 1.]; [1 1 0.]]\n",
    "Si = ElementPsp(:Si, psp=load_psp(\"hgh/lda/Si-q4\"))\n",
    "atoms     = [Si, Si]\n",
    "positions = [ones(3)/8, -ones(3)/8]\n",
    "\n",
    "# Compute the dielectric operator without symmetries\n",
    "model  = model_LDA(lattice, atoms, positions, symmetries=false)\n",
    "basis  = PlaneWaveBasis(model; Ecut, kgrid)\n",
    "scfres = self_consistent_field(basis, tol=1e-8);"
   ],
   "metadata": {},
   "execution_count": 1
  },
  {
   "cell_type": "markdown",
   "source": [
    "Applying $ε^† ≔ (1- χ_0 K)$ …"
   ],
   "metadata": {}
  },
  {
   "outputs": [],
   "cell_type": "code",
   "source": [
    "function eps_fun(δρ)\n",
    "    δV = apply_kernel(basis, δρ; ρ=scfres.ρ)\n",
    "    χ0δV = apply_χ0(scfres, δV)\n",
    "    δρ - χ0δV\n",
    "end;"
   ],
   "metadata": {},
   "execution_count": 2
  },
  {
   "cell_type": "markdown",
   "source": [
    "… eagerly diagonalizes the subspace matrix at each iteration"
   ],
   "metadata": {}
  },
  {
   "outputs": [
    {
     "name": "stdout",
     "output_type": "stream",
     "text": [
      "[ Info: Arnoldi iteration step 1: normres = 0.06002932645525927\n",
      "[ Info: Arnoldi iteration step 2: normres = 0.432185353555982\n",
      "[ Info: Arnoldi iteration step 3: normres = 1.005018773743471\n",
      "[ Info: Arnoldi iteration step 4: normres = 0.28798328678413115\n",
      "[ Info: Arnoldi iteration step 5: normres = 0.5829707048385495\n",
      "[ Info: Arnoldi schursolve in iter 1, krylovdim = 5: 0 values converged, normres = (5.44e-02, 7.28e-02, 5.18e-01, 2.51e-01, 1.03e-02)\n",
      "[ Info: Arnoldi iteration step 6: normres = 0.23376690197089559\n",
      "[ Info: Arnoldi schursolve in iter 1, krylovdim = 6: 0 values converged, normres = (1.00e-02, 8.04e-02, 1.73e-01, 1.02e-01, 6.51e-02)\n",
      "[ Info: Arnoldi iteration step 7: normres = 0.08772577385169811\n",
      "[ Info: Arnoldi schursolve in iter 1, krylovdim = 7: 0 values converged, normres = (4.27e-04, 6.99e-03, 1.36e-02, 5.48e-02, 6.13e-02)\n",
      "[ Info: Arnoldi iteration step 8: normres = 0.11153187433705043\n",
      "[ Info: Arnoldi schursolve in iter 1, krylovdim = 8: 0 values converged, normres = (2.08e-05, 5.66e-04, 1.23e-03, 2.19e-02, 4.85e-02)\n",
      "[ Info: Arnoldi iteration step 9: normres = 0.08189490479003524\n",
      "[ Info: Arnoldi schursolve in iter 1, krylovdim = 9: 0 values converged, normres = (7.36e-07, 3.30e-05, 7.95e-05, 6.31e-03, 3.08e-02)\n",
      "[ Info: Arnoldi iteration step 10: normres = 0.08273506284006675\n",
      "[ Info: Arnoldi schursolve in iter 1, krylovdim = 10: 0 values converged, normres = (2.66e-08, 1.98e-06, 5.31e-06, 1.91e-03, 2.15e-02)\n",
      "[ Info: Arnoldi iteration step 11: normres = 0.0726462951252042\n",
      "[ Info: Arnoldi schursolve in iter 1, krylovdim = 11: 0 values converged, normres = (8.32e-10, 1.01e-07, 3.02e-07, 4.49e-04, 1.09e-02)\n",
      "[ Info: Arnoldi iteration step 12: normres = 0.07761463065276632\n",
      "[ Info: Arnoldi schursolve in iter 1, krylovdim = 12: 0 values converged, normres = (2.75e-11, 5.47e-09, 1.81e-08, 1.03e-04, 4.83e-03)\n",
      "[ Info: Arnoldi iteration step 13: normres = 0.04898820367691373\n",
      "[ Info: Arnoldi schursolve in iter 1, krylovdim = 13: 1 values converged, normres = (5.72e-13, 1.85e-10, 6.76e-10, 1.46e-05, 1.29e-03)\n",
      "[ Info: Arnoldi iteration step 14: normres = 0.7410639439257197\n",
      "[ Info: Arnoldi schursolve in iter 1, krylovdim = 14: 1 values converged, normres = (2.71e-13, 2.09e-10, 9.72e-10, 7.36e-01, 3.07e-02)\n",
      "[ Info: Arnoldi iteration step 15: normres = 0.0839022249151104\n",
      "[ Info: Arnoldi schursolve in iter 1, krylovdim = 15: 1 values converged, normres = (1.58e-14, 3.55e-10, 5.45e-02, 1.97e-04, 4.79e-06)\n",
      "[ Info: Arnoldi iteration step 16: normres = 0.5789770557208933\n",
      "[ Info: Arnoldi schursolve in iter 1, krylovdim = 16: 1 values converged, normres = (7.13e-15, 9.30e-10, 8.50e-02, 9.32e-04, 5.68e-01)\n",
      "[ Info: Arnoldi iteration step 17: normres = 0.030617270970913112\n",
      "[ Info: Arnoldi schursolve in iter 1, krylovdim = 17: 1 values converged, normres = (1.14e-16, 4.17e-09, 4.96e-03, 2.30e-06, 1.31e-02)\n",
      "[ Info: Arnoldi iteration step 18: normres = 0.01708662839100522\n",
      "[ Info: Arnoldi schursolve in iter 1, krylovdim = 18: 1 values converged, normres = (8.00e-19, 9.58e-09, 5.60e-05, 1.53e-08, 1.62e-04)\n",
      "[ Info: Arnoldi iteration step 19: normres = 0.07364443329356465\n",
      "[ Info: Arnoldi schursolve in iter 1, krylovdim = 19: 1 values converged, normres = (2.45e-20, 1.60e-06, 2.24e-06, 8.50e-06, 2.08e-06)\n",
      "[ Info: Arnoldi iteration step 20: normres = 0.1650422004560867\n",
      "[ Info: Arnoldi schursolve in iter 1, krylovdim = 20: 1 values converged, normres = (1.92e-21, 4.23e-09, 3.79e-07, 2.07e-08, 1.37e-06)\n",
      "[ Info: Arnoldi iteration step 21: normres = 0.0270149420946736\n",
      "[ Info: Arnoldi schursolve in iter 1, krylovdim = 21: 1 values converged, normres = (2.26e-23, 3.40e-09, 6.61e-09, 7.40e-09, 2.90e-08)\n",
      "[ Info: Arnoldi iteration step 22: normres = 0.01986110757180093\n",
      "[ Info: Arnoldi schursolve in iter 1, krylovdim = 22: 1 values converged, normres = (1.84e-25, 5.72e-11, 7.77e-11, 3.07e-10, 2.97e-10)\n",
      "[ Info: Arnoldi iteration step 23: normres = 0.746011118185368\n",
      "[ Info: Arnoldi schursolve in iter 1, krylovdim = 23: 1 values converged, normres = (7.53e-26, 4.47e-11, 6.46e-11, 3.05e-10, 2.75e-10)\n",
      "[ Info: Arnoldi iteration step 24: normres = 0.019384303728127897\n",
      "[ Info: Arnoldi schursolve in iter 1, krylovdim = 24: 1 values converged, normres = (1.04e-27, 3.77e-12, 5.31e-12, 4.32e-03, 1.36e-02)\n",
      "[ Info: Arnoldi iteration step 25: normres = 0.02448163054576636\n",
      "[ Info: Arnoldi schursolve in iter 1, krylovdim = 25: 3 values converged, normres = (1.04e-29, 5.97e-14, 8.44e-14, 1.42e-04, 1.49e-04)\n",
      "[ Info: Arnoldi iteration step 26: normres = 0.12852382772271803\n",
      "[ Info: Arnoldi schursolve in iter 1, krylovdim = 26: 3 values converged, normres = (5.81e-31, 5.48e-15, 7.75e-15, 7.25e-09, 1.01e-08)\n",
      "[ Info: Arnoldi iteration step 27: normres = 0.017910511019311848\n",
      "[ Info: Arnoldi schursolve in iter 1, krylovdim = 27: 3 values converged, normres = (4.48e-33, 6.95e-17, 9.84e-17, 3.47e-07, 9.66e-08)\n",
      "[ Info: Arnoldi iteration step 28: normres = 0.03524571633910693\n",
      "[ Info: Arnoldi schursolve in iter 1, krylovdim = 28: 3 values converged, normres = (6.48e-35, 1.60e-18, 2.27e-18, 3.41e-09, 9.62e-10)\n",
      "[ Info: Arnoldi iteration step 29: normres = 0.05655258923942874\n",
      "[ Info: Arnoldi schursolve in iter 1, krylovdim = 29: 3 values converged, normres = (1.62e-36, 6.66e-20, 9.42e-20, 2.99e-10, 1.07e-10)\n",
      "[ Info: Arnoldi iteration step 30: normres = 0.0906566869699282\n",
      "[ Info: Arnoldi schursolve in iter 1, krylovdim = 30: 3 values converged, normres = (6.14e-38, 4.08e-21, 5.78e-21, 2.11e-11, 7.70e-12)\n",
      "[ Info: Arnoldi schursolve in iter 2, krylovdim = 19: 3 values converged, normres = (6.14e-38, 4.08e-21, 5.78e-21, 2.11e-11, 7.70e-12)\n",
      "[ Info: Arnoldi iteration step 20: normres = 0.14326764545284335\n",
      "[ Info: Arnoldi schursolve in iter 2, krylovdim = 20: 3 values converged, normres = (4.28e-39, 5.09e-22, 7.19e-22, 2.98e-12, 1.09e-12)\n",
      "[ Info: Arnoldi iteration step 21: normres = 0.09767633703790661\n",
      "┌ Info: Arnoldi eigsolve finished after 2 iterations:\n",
      "│ *  6 eigenvalues converged\n",
      "│ *  norm of residuals = (1.8279070452967006e-40, 3.620257990778053e-23, 4.9931363818576995e-23, 2.3687834913793346e-13, 1.774581655202181e-13, 1.774581655202181e-13)\n",
      "└ *  number of operations = 32\n"
     ]
    }
   ],
   "cell_type": "code",
   "source": [
    "eigsolve(eps_fun, randn(size(scfres.ρ)), 5, :LM; eager=true, verbosity=3);"
   ],
   "metadata": {},
   "execution_count": 3
  }
 ],
 "nbformat_minor": 3,
 "metadata": {
  "language_info": {
   "file_extension": ".jl",
   "mimetype": "application/julia",
   "name": "julia",
   "version": "1.9.2"
  },
  "kernelspec": {
   "name": "julia-1.9",
   "display_name": "Julia 1.9.2",
   "language": "julia"
  }
 },
 "nbformat": 4
}
