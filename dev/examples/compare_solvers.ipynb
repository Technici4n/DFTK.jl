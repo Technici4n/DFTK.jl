{
 "cells": [
  {
   "cell_type": "markdown",
   "source": [
    "# Comparison of DFT solvers"
   ],
   "metadata": {}
  },
  {
   "cell_type": "markdown",
   "source": [
    "We compare four different approaches for solving the DFT minimisation problem,\n",
    "namely a density-based SCF, a potential-based SCF, direct minimisation and Newton."
   ],
   "metadata": {}
  },
  {
   "cell_type": "markdown",
   "source": [
    "First we setup our problem"
   ],
   "metadata": {}
  },
  {
   "outputs": [],
   "cell_type": "code",
   "source": [
    "using DFTK\n",
    "using LinearAlgebra\n",
    "\n",
    "a = 10.26  # Silicon lattice constant in Bohr\n",
    "lattice = a / 2 * [[0 1 1.];\n",
    "                   [1 0 1.];\n",
    "                   [1 1 0.]]\n",
    "Si = ElementPsp(:Si, psp=load_psp(\"hgh/lda/Si-q4\"))\n",
    "atoms     = [Si, Si]\n",
    "positions = [ones(3)/8, -ones(3)/8]\n",
    "\n",
    "model = model_LDA(lattice, atoms, positions)\n",
    "basis = PlaneWaveBasis(model; Ecut=5, kgrid=[3, 3, 3])\n",
    "\n",
    "# Convergence we desire\n",
    "tol = 1e-12\n",
    "is_converged = DFTK.ScfConvergenceDensity(tol);"
   ],
   "metadata": {},
   "execution_count": 1
  },
  {
   "cell_type": "markdown",
   "source": [
    "## Density-based self-consistent field"
   ],
   "metadata": {}
  },
  {
   "outputs": [
    {
     "name": "stdout",
     "output_type": "stream",
     "text": [
      "n     Energy            log10(ΔE)   log10(Δρ)   Diag\n",
      "---   ---------------   ---------   ---------   ----\n",
      "  1   -7.846792912941                   -0.70    4.0\n",
      "  2   -7.852298406492       -2.26       -1.53    1.0\n",
      "  3   -7.852646013689       -3.46       -2.52    3.2\n",
      "  4   -7.852646677217       -6.18       -3.33    2.5\n",
      "  5   -7.852646685912       -8.06       -4.80    1.2\n",
      "  6   -7.852646686726       -9.09       -5.23    4.2\n",
      "  7   -7.852646686730      -11.42       -5.99    2.0\n",
      "  8   -7.852646686730      -12.74       -7.62    2.0\n",
      "  9   -7.852646686730      -14.75       -8.02    2.5\n",
      " 10   -7.852646686730   +  -14.75       -9.14    1.5\n",
      " 11   -7.852646686730      -15.05       -9.93    3.2\n",
      " 12   -7.852646686730      -14.57       -9.30    1.8\n",
      " 13   -7.852646686730   +  -14.45       -7.83    4.0\n",
      " 14   -7.852646686730      -14.45       -7.88    2.2\n",
      " 15   -7.852646686730   +  -14.57       -7.84    2.8\n",
      " 16   -7.852646686730   +  -15.05       -7.39    4.8\n",
      " 17   -7.852646686730      -14.57       -8.04    4.8\n",
      " 18   -7.852646686730   +  -15.05       -7.79    3.5\n",
      " 19   -7.852646686730   +    -Inf       -7.72    2.0\n",
      " 20   -7.852646686730   +    -Inf       -7.93    3.5\n",
      " 21   -7.852646686730      -14.45       -9.53    4.0\n",
      " 22   -7.852646686730   +  -14.35       -9.65    1.0\n",
      " 23   -7.852646686730      -14.45      -11.40    1.0\n",
      " 24   -7.852646686730   +  -14.35      -11.72    2.5\n",
      " 25   -7.852646686730      -14.45      -12.65    1.0\n"
     ]
    }
   ],
   "cell_type": "code",
   "source": [
    "scfres_scf = self_consistent_field(basis; is_converged);"
   ],
   "metadata": {},
   "execution_count": 2
  },
  {
   "cell_type": "markdown",
   "source": [
    "## Potential-based SCF"
   ],
   "metadata": {}
  },
  {
   "outputs": [
    {
     "name": "stdout",
     "output_type": "stream",
     "text": [
      "n     Energy            log10(ΔE)   log10(Δρ)   α      Diag\n",
      "---   ---------------   ---------   ---------   ----   ----\n",
      "  1   -7.846876154313                   -0.70           4.0\n",
      "  2   -7.852524937813       -2.25       -1.62   0.80    4.8\n",
      "  3   -7.852609957687       -4.07       -2.79   0.80    5.2\n",
      "  4   -7.852646570442       -4.44       -3.55   0.80    7.2\n",
      "  5   -7.852646683644       -6.95       -4.56   0.80    8.5\n",
      "  6   -7.852646686690       -8.52       -5.15   0.80   10.5\n",
      "  7   -7.852646686726      -10.45       -6.38   0.80   11.8\n",
      "  8   -7.852646686730      -11.37       -7.04   0.80   13.8\n",
      "  9   -7.852646686730      -13.75       -7.48   0.80   15.0\n",
      " 10   -7.852646686730   +    -Inf       -8.17   0.80   15.5\n",
      " 11   -7.852646686730   +  -15.05       -9.22   0.80   17.0\n",
      " 12   -7.852646686730   +  -15.05      -10.24   0.80   18.8\n",
      " 13   -7.852646686730      -15.05      -11.24   0.80   20.8\n",
      " 14   -7.852646686730      -14.57      -11.67   0.80   22.2\n",
      " 15   -7.852646686730   +  -14.75      -12.62   0.80   23.5\n"
     ]
    }
   ],
   "cell_type": "code",
   "source": [
    "scfres_scfv = DFTK.scf_potential_mixing(basis; is_converged);"
   ],
   "metadata": {},
   "execution_count": 3
  },
  {
   "cell_type": "markdown",
   "source": [
    "## Direct minimization"
   ],
   "metadata": {}
  },
  {
   "outputs": [
    {
     "name": "stdout",
     "output_type": "stream",
     "text": [
      "Iter     Function value   Gradient norm \n",
      "     0     1.385342e+01     5.517291e+00\n",
      " * time: 0.5543420314788818\n",
      "     1     1.120743e+00     2.884817e+00\n",
      " * time: 0.8125600814819336\n",
      "     2    -1.116136e+00     3.327548e+00\n",
      " * time: 0.84151291847229\n",
      "     3    -3.444695e+00     3.079112e+00\n",
      " * time: 0.8930609226226807\n",
      "     4    -4.706742e+00     2.760815e+00\n",
      " * time: 0.933603048324585\n",
      "     5    -6.441983e+00     1.564770e+00\n",
      " * time: 0.9749279022216797\n",
      "     6    -7.142300e+00     5.595088e-01\n",
      " * time: 1.0159258842468262\n",
      "     7    -7.443254e+00     2.943132e-01\n",
      " * time: 1.044753074645996\n",
      "     8    -7.606423e+00     1.821207e-01\n",
      " * time: 1.074207067489624\n",
      "     9    -7.729573e+00     2.046729e-01\n",
      " * time: 1.1032719612121582\n",
      "    10    -7.790899e+00     1.242413e-01\n",
      " * time: 1.132802963256836\n",
      "    11    -7.831209e+00     7.220831e-02\n",
      " * time: 1.1613759994506836\n",
      "    12    -7.843947e+00     6.704512e-02\n",
      " * time: 1.190100908279419\n",
      "    13    -7.849790e+00     2.552547e-02\n",
      " * time: 1.2189810276031494\n",
      "    14    -7.851479e+00     1.710750e-02\n",
      " * time: 1.2478959560394287\n",
      "    15    -7.852205e+00     1.036036e-02\n",
      " * time: 1.2765860557556152\n",
      "    16    -7.852440e+00     9.252226e-03\n",
      " * time: 1.305487871170044\n",
      "    17    -7.852561e+00     3.149062e-03\n",
      " * time: 1.334380865097046\n",
      "    18    -7.852617e+00     2.260646e-03\n",
      " * time: 1.3632090091705322\n",
      "    19    -7.852636e+00     1.624492e-03\n",
      " * time: 1.3915679454803467\n",
      "    20    -7.852644e+00     6.230341e-04\n",
      " * time: 1.421349048614502\n",
      "    21    -7.852646e+00     5.963342e-04\n",
      " * time: 1.450028896331787\n",
      "    22    -7.852646e+00     3.740043e-04\n",
      " * time: 1.4785640239715576\n",
      "    23    -7.852647e+00     1.573884e-04\n",
      " * time: 1.5078229904174805\n",
      "    24    -7.852647e+00     1.246996e-04\n",
      " * time: 1.538012981414795\n",
      "    25    -7.852647e+00     8.614387e-05\n",
      " * time: 1.567579984664917\n",
      "    26    -7.852647e+00     5.420040e-05\n",
      " * time: 1.5970559120178223\n",
      "    27    -7.852647e+00     2.478732e-05\n",
      " * time: 1.6266849040985107\n",
      "    28    -7.852647e+00     1.309565e-05\n",
      " * time: 1.6623389720916748\n",
      "    29    -7.852647e+00     7.264325e-06\n",
      " * time: 1.6909430027008057\n",
      "    30    -7.852647e+00     3.401536e-06\n",
      " * time: 1.7203810214996338\n",
      "    31    -7.852647e+00     2.549801e-06\n",
      " * time: 1.8639590740203857\n",
      "    32    -7.852647e+00     1.507172e-06\n",
      " * time: 1.892716884613037\n",
      "    33    -7.852647e+00     7.865401e-07\n",
      " * time: 1.9214999675750732\n",
      "    34    -7.852647e+00     5.321594e-07\n",
      " * time: 1.9505910873413086\n",
      "    35    -7.852647e+00     2.333221e-07\n",
      " * time: 1.9797859191894531\n",
      "    36    -7.852647e+00     1.586973e-07\n",
      " * time: 2.00862193107605\n",
      "    37    -7.852647e+00     1.525539e-07\n",
      " * time: 2.0373170375823975\n",
      "    38    -7.852647e+00     7.607847e-08\n",
      " * time: 2.0661449432373047\n",
      "    39    -7.852647e+00     4.888235e-08\n",
      " * time: 2.098839044570923\n",
      "    40    -7.852647e+00     2.422215e-08\n",
      " * time: 2.1278579235076904\n",
      "    41    -7.852647e+00     1.368378e-08\n",
      " * time: 2.1561620235443115\n",
      "    42    -7.852647e+00     8.681706e-09\n",
      " * time: 2.18447208404541\n",
      "    43    -7.852647e+00     8.681313e-09\n",
      " * time: 2.2773818969726562\n"
     ]
    }
   ],
   "cell_type": "code",
   "source": [
    "scfres_dm = direct_minimization(basis; tol);"
   ],
   "metadata": {},
   "execution_count": 4
  },
  {
   "cell_type": "markdown",
   "source": [
    "## Newton algorithm"
   ],
   "metadata": {}
  },
  {
   "cell_type": "markdown",
   "source": [
    "Start not too far from the solution to ensure convergence:\n",
    "We run first a very crude SCF to get close and then switch to Newton."
   ],
   "metadata": {}
  },
  {
   "outputs": [
    {
     "name": "stdout",
     "output_type": "stream",
     "text": [
      "n     Energy            log10(ΔE)   log10(Δρ)   Diag\n",
      "---   ---------------   ---------   ---------   ----\n",
      "  1   -7.846727527190                   -0.70    4.0\n",
      "  2   -7.852314664474       -2.25       -1.54    1.0\n"
     ]
    }
   ],
   "cell_type": "code",
   "source": [
    "scfres_start = self_consistent_field(basis; tol=1e-1);"
   ],
   "metadata": {},
   "execution_count": 5
  },
  {
   "cell_type": "markdown",
   "source": [
    "Remove the virtual orbitals (which Newton cannot treat yet)"
   ],
   "metadata": {}
  },
  {
   "outputs": [
    {
     "name": "stdout",
     "output_type": "stream",
     "text": [
      "n     Energy            log10(ΔE)   log10(Δρ)\n",
      "---   ---------------   ---------   ---------\n",
      "  1   -7.852646686708                   -2.54\n",
      "  2   -7.852646686730      -10.67       -5.87\n",
      "  3   -7.852646686730      -15.05      -12.53\n"
     ]
    }
   ],
   "cell_type": "code",
   "source": [
    "ψ, _ = DFTK.select_occupied_orbitals(basis, scfres_start.ψ, scfres_start.occupation)\n",
    "scfres_newton = newton(basis, ψ; tol);"
   ],
   "metadata": {},
   "execution_count": 6
  },
  {
   "cell_type": "markdown",
   "source": [
    "## Comparison of results"
   ],
   "metadata": {}
  },
  {
   "outputs": [
    {
     "name": "stdout",
     "output_type": "stream",
     "text": [
      "|ρ_newton - ρ_scf|  = 9.6597483561996e-14\n",
      "|ρ_newton - ρ_scfv| = 1.4323200635833255e-13\n",
      "|ρ_newton - ρ_dm|   = 7.976347441593329e-10\n"
     ]
    }
   ],
   "cell_type": "code",
   "source": [
    "println(\"|ρ_newton - ρ_scf|  = \", norm(scfres_newton.ρ - scfres_scf.ρ))\n",
    "println(\"|ρ_newton - ρ_scfv| = \", norm(scfres_newton.ρ - scfres_scfv.ρ))\n",
    "println(\"|ρ_newton - ρ_dm|   = \", norm(scfres_newton.ρ - scfres_dm.ρ))"
   ],
   "metadata": {},
   "execution_count": 7
  }
 ],
 "nbformat_minor": 3,
 "metadata": {
  "language_info": {
   "file_extension": ".jl",
   "mimetype": "application/julia",
   "name": "julia",
   "version": "1.8.1"
  },
  "kernelspec": {
   "name": "julia-1.8",
   "display_name": "Julia 1.8.1",
   "language": "julia"
  }
 },
 "nbformat": 4
}
