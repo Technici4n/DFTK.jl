{
 "cells": [
  {
   "cell_type": "markdown",
   "source": [
    "# Comparison of DFT solvers"
   ],
   "metadata": {}
  },
  {
   "cell_type": "markdown",
   "source": [
    "We compare four different approaches for solving the DFT minimisation problem,\n",
    "namely a density-based SCF, a potential-based SCF, direct minimisation and Newton."
   ],
   "metadata": {}
  },
  {
   "cell_type": "markdown",
   "source": [
    "First we setup our problem"
   ],
   "metadata": {}
  },
  {
   "outputs": [],
   "cell_type": "code",
   "source": [
    "using DFTK\n",
    "using LinearAlgebra\n",
    "\n",
    "a = 10.26  # Silicon lattice constant in Bohr\n",
    "lattice = a / 2 * [[0 1 1.];\n",
    "                   [1 0 1.];\n",
    "                   [1 1 0.]]\n",
    "Si = ElementPsp(:Si, psp=load_psp(\"hgh/lda/Si-q4\"))\n",
    "atoms     = [Si, Si]\n",
    "positions = [ones(3)/8, -ones(3)/8]\n",
    "\n",
    "model = model_LDA(lattice, atoms, positions)\n",
    "basis = PlaneWaveBasis(model; Ecut=5, kgrid=[3, 3, 3])\n",
    "\n",
    "# Convergence we desire\n",
    "tol = 1e-12\n",
    "is_converged = DFTK.ScfConvergenceDensity(tol);"
   ],
   "metadata": {},
   "execution_count": 1
  },
  {
   "cell_type": "markdown",
   "source": [
    "## Density-based self-consistent field"
   ],
   "metadata": {}
  },
  {
   "outputs": [
    {
     "name": "stdout",
     "output_type": "stream",
     "text": [
      "n     Energy            log10(ΔE)   log10(Δρ)   Diag\n",
      "---   ---------------   ---------   ---------   ----\n",
      "  1   -7.846910627369                   -0.70    4.8\n",
      "  2   -7.852322602637       -2.27       -1.53    1.0\n",
      "  3   -7.852646187373       -3.49       -2.52    3.0\n",
      "  4   -7.852646677307       -6.31       -3.36    2.5\n",
      "  5   -7.852646685813       -8.07       -4.74    1.2\n",
      "  6   -7.852646686723       -9.04       -5.19    3.5\n",
      "  7   -7.852646686730      -11.15       -6.09    1.5\n",
      "  8   -7.852646686730      -12.54       -7.42    2.5\n",
      "  9   -7.852646686730      -14.75       -7.58    2.2\n",
      " 10   -7.852646686730   +    -Inf       -8.88    2.0\n",
      " 11   -7.852646686730   +    -Inf       -9.67    2.2\n",
      " 12   -7.852646686730   +  -15.05      -10.48    2.5\n",
      " 13   -7.852646686730      -14.57      -11.01    1.5\n",
      " 14   -7.852646686730   +  -15.05      -11.93    2.5\n",
      " 15   -7.852646686730   +  -14.75      -12.42    2.0\n"
     ]
    }
   ],
   "cell_type": "code",
   "source": [
    "scfres_scf = self_consistent_field(basis; is_converged);"
   ],
   "metadata": {},
   "execution_count": 2
  },
  {
   "cell_type": "markdown",
   "source": [
    "## Potential-based SCF"
   ],
   "metadata": {}
  },
  {
   "outputs": [
    {
     "name": "stdout",
     "output_type": "stream",
     "text": [
      "n     Energy            log10(ΔE)   log10(Δρ)   α      Diag\n",
      "---   ---------------   ---------   ---------   ----   ----\n",
      "  1   -7.846747767487                   -0.70           4.2\n",
      "  2   -7.852506231503       -2.24       -1.64   0.80    2.2\n",
      "  3   -7.852632361543       -3.90       -2.71   0.80    1.0\n",
      "  4   -7.852646452153       -4.85       -3.18   0.80    2.0\n",
      "  5   -7.852646668513       -6.66       -3.94   0.80    1.2\n",
      "  6   -7.852646686087       -7.76       -4.64   0.80    1.8\n",
      "  7   -7.852646686705       -9.21       -5.51   0.80    1.8\n",
      "  8   -7.852646686730      -10.62       -6.76   0.80    2.2\n",
      "  9   -7.852646686730      -12.53       -7.10   0.80    3.0\n",
      " 10   -7.852646686730      -14.75       -8.15   0.80    1.0\n",
      " 11   -7.852646686730   +    -Inf       -9.15   0.80    2.2\n",
      " 12   -7.852646686730   +    -Inf       -9.35   0.80    2.2\n",
      " 13   -7.852646686730   +    -Inf      -10.33   0.80    1.0\n",
      " 14   -7.852646686730   +  -14.75      -10.71   0.80    2.2\n",
      " 15   -7.852646686730      -14.75      -11.61   0.80    1.0\n",
      " 16   -7.852646686730      -15.05      -12.87   0.80    1.8\n"
     ]
    }
   ],
   "cell_type": "code",
   "source": [
    "scfres_scfv = DFTK.scf_potential_mixing(basis; is_converged);"
   ],
   "metadata": {},
   "execution_count": 3
  },
  {
   "cell_type": "markdown",
   "source": [
    "## Direct minimization"
   ],
   "metadata": {}
  },
  {
   "outputs": [
    {
     "name": "stdout",
     "output_type": "stream",
     "text": [
      "Iter     Function value   Gradient norm \n",
      "     0     1.433102e+01     3.250408e+00\n",
      " * time: 0.5348060131072998\n",
      "     1     9.178167e-01     1.708036e+00\n",
      " * time: 0.7858419418334961\n",
      "     2    -1.756273e+00     2.059010e+00\n",
      " * time: 0.8213379383087158\n",
      "     3    -3.906100e+00     1.639739e+00\n",
      " * time: 0.995089054107666\n",
      "     4    -5.405724e+00     1.322613e+00\n",
      " * time: 1.045715093612671\n",
      "     5    -6.938569e+00     9.263448e-01\n",
      " * time: 1.0973620414733887\n",
      "     6    -7.131048e+00     1.175052e+00\n",
      " * time: 1.133862018585205\n",
      "     7    -7.571928e+00     9.806713e-01\n",
      " * time: 1.1697051525115967\n",
      "     8    -7.658917e+00     1.056881e+00\n",
      " * time: 1.206104040145874\n",
      "     9    -7.729005e+00     9.398628e-01\n",
      " * time: 1.2437810897827148\n",
      "    10    -7.745078e+00     1.015069e+00\n",
      " * time: 1.2799630165100098\n",
      "    11    -7.767286e+00     8.806124e-01\n",
      " * time: 1.3159539699554443\n",
      "    12    -7.791614e+00     1.822849e-01\n",
      " * time: 1.3671870231628418\n",
      "    13    -7.808861e+00     1.603581e-01\n",
      " * time: 1.4039289951324463\n",
      "    14    -7.819790e+00     8.779583e-02\n",
      " * time: 1.4410059452056885\n",
      "    15    -7.839890e+00     1.584106e-01\n",
      " * time: 1.4783730506896973\n",
      "    16    -7.843858e+00     7.017192e-02\n",
      " * time: 1.5151491165161133\n",
      "    17    -7.846103e+00     7.796437e-02\n",
      " * time: 1.5517549514770508\n",
      "    18    -7.846207e+00     9.436066e-02\n",
      " * time: 1.6046850681304932\n",
      "    19    -7.846603e+00     9.468735e-02\n",
      " * time: 1.675750970840454\n",
      "    20    -7.846721e+00     6.913582e-02\n",
      " * time: 1.7125320434570312\n",
      "    21    -7.850039e+00     2.146801e-02\n",
      " * time: 1.7488269805908203\n",
      "    22    -7.852231e+00     1.417017e-02\n",
      " * time: 1.7861950397491455\n",
      "    23    -7.852466e+00     1.996164e-02\n",
      " * time: 1.822484016418457\n",
      "    24    -7.852581e+00     6.546234e-03\n",
      " * time: 1.8632440567016602\n",
      "    25    -7.852626e+00     3.492577e-03\n",
      " * time: 1.899860143661499\n",
      "    26    -7.852640e+00     2.855393e-03\n",
      " * time: 1.9364709854125977\n",
      "    27    -7.852644e+00     1.266481e-03\n",
      " * time: 1.9734101295471191\n",
      "    28    -7.852646e+00     7.347114e-04\n",
      " * time: 2.0098330974578857\n",
      "    29    -7.852646e+00     6.104054e-04\n",
      " * time: 2.0456490516662598\n",
      "    30    -7.852647e+00     2.963280e-04\n",
      " * time: 2.080815076828003\n",
      "    31    -7.852647e+00     1.889742e-04\n",
      " * time: 2.116269111633301\n",
      "    32    -7.852647e+00     7.354722e-05\n",
      " * time: 2.152338981628418\n",
      "    33    -7.852647e+00     4.866888e-05\n",
      " * time: 2.188800096511841\n",
      "    34    -7.852647e+00     2.386625e-05\n",
      " * time: 2.224743127822876\n",
      "    35    -7.852647e+00     1.979147e-05\n",
      " * time: 2.260899066925049\n",
      "    36    -7.852647e+00     7.599333e-06\n",
      " * time: 2.296260118484497\n",
      "    37    -7.852647e+00     5.128447e-06\n",
      " * time: 2.332364082336426\n",
      "    38    -7.852647e+00     2.628402e-06\n",
      " * time: 2.367548942565918\n",
      "    39    -7.852647e+00     1.587425e-06\n",
      " * time: 2.402989149093628\n",
      "    40    -7.852647e+00     7.671429e-07\n",
      " * time: 2.438153028488159\n",
      "    41    -7.852647e+00     5.822598e-07\n",
      " * time: 2.4737260341644287\n",
      "    42    -7.852647e+00     4.478828e-07\n",
      " * time: 2.508882999420166\n",
      "    43    -7.852647e+00     1.530057e-07\n",
      " * time: 2.5448639392852783\n",
      "    44    -7.852647e+00     1.185588e-07\n",
      " * time: 2.581611156463623\n",
      "    45    -7.852647e+00     7.216357e-08\n",
      " * time: 2.617888927459717\n",
      "    46    -7.852647e+00     2.318487e-08\n",
      " * time: 2.653986930847168\n",
      "    47    -7.852647e+00     2.875521e-08\n",
      " * time: 2.690585136413574\n",
      "    48    -7.852647e+00     1.412458e-08\n",
      " * time: 2.72733211517334\n",
      "    49    -7.852647e+00     1.371640e-08\n",
      " * time: 2.797244071960449\n",
      "    50    -7.852647e+00     1.371586e-08\n",
      " * time: 2.9769480228424072\n"
     ]
    }
   ],
   "cell_type": "code",
   "source": [
    "scfres_dm = direct_minimization(basis; tol);"
   ],
   "metadata": {},
   "execution_count": 4
  },
  {
   "cell_type": "markdown",
   "source": [
    "## Newton algorithm"
   ],
   "metadata": {}
  },
  {
   "cell_type": "markdown",
   "source": [
    "Start not too far from the solution to ensure convergence:\n",
    "We run first a very crude SCF to get close and then switch to Newton."
   ],
   "metadata": {}
  },
  {
   "outputs": [
    {
     "name": "stdout",
     "output_type": "stream",
     "text": [
      "n     Energy            log10(ΔE)   log10(Δρ)   Diag\n",
      "---   ---------------   ---------   ---------   ----\n",
      "  1   -7.846827472140                   -0.70    4.8\n",
      "  2   -7.852316734576       -2.26       -1.53    1.0\n"
     ]
    }
   ],
   "cell_type": "code",
   "source": [
    "scfres_start = self_consistent_field(basis; tol=1e-1);"
   ],
   "metadata": {},
   "execution_count": 5
  },
  {
   "cell_type": "markdown",
   "source": [
    "Remove the virtual orbitals (which Newton cannot treat yet)"
   ],
   "metadata": {}
  },
  {
   "outputs": [
    {
     "name": "stdout",
     "output_type": "stream",
     "text": [
      "n     Energy            log10(ΔE)   log10(Δρ)\n",
      "---   ---------------   ---------   ---------\n",
      "  1   -7.852646686709                   -2.54\n",
      "  2   -7.852646686730      -10.69       -5.97\n",
      "  3   -7.852646686730      -14.75      -12.59\n"
     ]
    }
   ],
   "cell_type": "code",
   "source": [
    "ψ = DFTK.select_occupied_orbitals(basis, scfres_start.ψ, scfres_start.occupation).ψ\n",
    "scfres_newton = newton(basis, ψ; tol);"
   ],
   "metadata": {},
   "execution_count": 6
  },
  {
   "cell_type": "markdown",
   "source": [
    "## Comparison of results"
   ],
   "metadata": {}
  },
  {
   "outputs": [
    {
     "name": "stdout",
     "output_type": "stream",
     "text": [
      "|ρ_newton - ρ_scf|  = 2.5942870111707984e-13\n",
      "|ρ_newton - ρ_scfv| = 5.858834971953737e-13\n",
      "|ρ_newton - ρ_dm|   = 1.9409433501383765e-10\n"
     ]
    }
   ],
   "cell_type": "code",
   "source": [
    "println(\"|ρ_newton - ρ_scf|  = \", norm(scfres_newton.ρ - scfres_scf.ρ))\n",
    "println(\"|ρ_newton - ρ_scfv| = \", norm(scfres_newton.ρ - scfres_scfv.ρ))\n",
    "println(\"|ρ_newton - ρ_dm|   = \", norm(scfres_newton.ρ - scfres_dm.ρ))"
   ],
   "metadata": {},
   "execution_count": 7
  }
 ],
 "nbformat_minor": 3,
 "metadata": {
  "language_info": {
   "file_extension": ".jl",
   "mimetype": "application/julia",
   "name": "julia",
   "version": "1.8.3"
  },
  "kernelspec": {
   "name": "julia-1.8",
   "display_name": "Julia 1.8.3",
   "language": "julia"
  }
 },
 "nbformat": 4
}
