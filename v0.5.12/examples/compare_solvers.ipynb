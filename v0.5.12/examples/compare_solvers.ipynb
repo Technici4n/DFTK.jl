{
 "cells": [
  {
   "cell_type": "markdown",
   "source": [
    "# Comparison of DFT solvers"
   ],
   "metadata": {}
  },
  {
   "cell_type": "markdown",
   "source": [
    "We compare four different approaches for solving the DFT minimisation problem,\n",
    "namely a density-based SCF, a potential-based SCF, direct minimisation and Newton."
   ],
   "metadata": {}
  },
  {
   "cell_type": "markdown",
   "source": [
    "First we setup our problem"
   ],
   "metadata": {}
  },
  {
   "outputs": [],
   "cell_type": "code",
   "source": [
    "using DFTK\n",
    "using LinearAlgebra\n",
    "\n",
    "a = 10.26  # Silicon lattice constant in Bohr\n",
    "lattice = a / 2 * [[0 1 1.];\n",
    "                   [1 0 1.];\n",
    "                   [1 1 0.]]\n",
    "Si = ElementPsp(:Si, psp=load_psp(\"hgh/lda/Si-q4\"))\n",
    "atoms     = [Si, Si]\n",
    "positions = [ones(3)/8, -ones(3)/8]\n",
    "\n",
    "model = model_LDA(lattice, atoms, positions)\n",
    "basis = PlaneWaveBasis(model; Ecut=5, kgrid=[3, 3, 3])\n",
    "\n",
    "# Convergence we desire\n",
    "tol = 1e-12\n",
    "is_converged = DFTK.ScfConvergenceDensity(tol);"
   ],
   "metadata": {},
   "execution_count": 1
  },
  {
   "cell_type": "markdown",
   "source": [
    "## Density-based self-consistent field"
   ],
   "metadata": {}
  },
  {
   "outputs": [
    {
     "name": "stdout",
     "output_type": "stream",
     "text": [
      "n     Energy            log10(ΔE)   log10(Δρ)   Diag\n",
      "---   ---------------   ---------   ---------   ----\n",
      "  1   -7.846845115092                   -0.70    4.8\n",
      "  2   -7.852312288761       -2.26       -1.53    1.0\n",
      "  3   -7.852646043515       -3.48       -2.52    3.2\n",
      "  4   -7.852646676726       -6.20       -3.38    2.0\n",
      "  5   -7.852646685934       -8.04       -4.74    1.5\n",
      "  6   -7.852646686724       -9.10       -5.22    3.8\n",
      "  7   -7.852646686730      -11.25       -6.07    1.0\n",
      "  8   -7.852646686730      -12.54       -7.64    2.5\n",
      "  9   -7.852646686730   +    -Inf       -7.54    2.5\n",
      " 10   -7.852646686730      -14.35       -8.55    2.0\n",
      " 11   -7.852646686730   +  -14.57       -9.21    1.2\n",
      " 12   -7.852646686730      -14.75       -9.79    1.8\n",
      " 13   -7.852646686730   +  -14.75      -10.27    2.2\n",
      " 14   -7.852646686730   +    -Inf      -10.70    1.2\n",
      " 15   -7.852646686730   +  -14.75      -11.93    2.2\n",
      " 16   -7.852646686730      -14.45      -12.18    2.2\n"
     ]
    }
   ],
   "cell_type": "code",
   "source": [
    "scfres_scf = self_consistent_field(basis; is_converged);"
   ],
   "metadata": {},
   "execution_count": 2
  },
  {
   "cell_type": "markdown",
   "source": [
    "## Potential-based SCF"
   ],
   "metadata": {}
  },
  {
   "outputs": [
    {
     "name": "stdout",
     "output_type": "stream",
     "text": [
      "n     Energy            log10(ΔE)   log10(Δρ)   α      Diag\n",
      "---   ---------------   ---------   ---------   ----   ----\n",
      "  1   -7.846823480195                   -0.70           4.5\n",
      "  2   -7.852524714866       -2.24       -1.63   0.80    2.0\n",
      "  3   -7.852636788557       -3.95       -2.70   0.80    1.0\n",
      "  4   -7.852646472295       -5.01       -3.31   0.80    2.2\n",
      "  5   -7.852646678461       -6.69       -4.15   0.80    1.2\n",
      "  6   -7.852646686429       -8.10       -4.77   0.80    1.5\n",
      "  7   -7.852646686719       -9.54       -5.61   0.80    1.8\n",
      "  8   -7.852646686730      -10.99       -6.70   0.80    2.0\n",
      "  9   -7.852646686730      -12.55       -7.43   0.80    2.8\n",
      " 10   -7.852646686730      -15.05       -8.28   0.80    1.2\n",
      " 11   -7.852646686730      -15.05       -9.18   0.80    2.2\n",
      " 12   -7.852646686730   +  -14.75       -9.96   0.80    2.0\n",
      " 13   -7.852646686730   +    -Inf      -10.95   0.80    2.0\n",
      " 14   -7.852646686730      -14.57      -11.01   0.80    2.5\n",
      " 15   -7.852646686730   +  -15.05      -12.25   0.80    1.0\n"
     ]
    }
   ],
   "cell_type": "code",
   "source": [
    "scfres_scfv = DFTK.scf_potential_mixing(basis; is_converged);"
   ],
   "metadata": {},
   "execution_count": 3
  },
  {
   "cell_type": "markdown",
   "source": [
    "## Direct minimization"
   ],
   "metadata": {}
  },
  {
   "outputs": [
    {
     "name": "stdout",
     "output_type": "stream",
     "text": [
      "Iter     Function value   Gradient norm \n",
      "     0     1.357026e+01     2.881777e+00\n",
      " * time: 0.40321993827819824\n",
      "     1     1.317197e+00     1.649172e+00\n",
      " * time: 0.6071429252624512\n",
      "     2    -1.525467e+00     1.991861e+00\n",
      " * time: 0.6302111148834229\n",
      "     3    -3.870550e+00     1.626408e+00\n",
      " * time: 0.6633601188659668\n",
      "     4    -5.160411e+00     1.488371e+00\n",
      " * time: 0.6964669227600098\n",
      "     5    -6.886063e+00     1.058968e+00\n",
      " * time: 0.7297520637512207\n",
      "     6    -7.513658e+00     3.957578e-01\n",
      " * time: 0.7632081508636475\n",
      "     7    -7.705365e+00     1.479742e-01\n",
      " * time: 0.7865550518035889\n",
      "     8    -7.786868e+00     1.354389e-01\n",
      " * time: 0.8099009990692139\n",
      "     9    -7.825310e+00     6.541721e-02\n",
      " * time: 0.8330819606781006\n",
      "    10    -7.841041e+00     6.471218e-02\n",
      " * time: 0.8561999797821045\n",
      "    11    -7.845943e+00     5.512835e-02\n",
      " * time: 0.8792519569396973\n",
      "    12    -7.847689e+00     3.706264e-02\n",
      " * time: 0.9022951126098633\n",
      "    13    -7.849728e+00     2.908303e-02\n",
      " * time: 0.9254751205444336\n",
      "    14    -7.851459e+00     1.842492e-02\n",
      " * time: 0.9486751556396484\n",
      "    15    -7.852230e+00     1.211469e-02\n",
      " * time: 0.97182297706604\n",
      "    16    -7.852504e+00     7.365935e-03\n",
      " * time: 1.078329086303711\n",
      "    17    -7.852592e+00     4.210436e-03\n",
      " * time: 1.101815938949585\n",
      "    18    -7.852626e+00     2.510060e-03\n",
      " * time: 1.1248340606689453\n",
      "    19    -7.852639e+00     1.724977e-03\n",
      " * time: 1.1478221416473389\n",
      "    20    -7.852644e+00     1.238346e-03\n",
      " * time: 1.1709871292114258\n",
      "    21    -7.852646e+00     4.423961e-04\n",
      " * time: 1.1941859722137451\n",
      "    22    -7.852646e+00     3.241809e-04\n",
      " * time: 1.2173449993133545\n",
      "    23    -7.852647e+00     1.920683e-04\n",
      " * time: 1.2408771514892578\n",
      "    24    -7.852647e+00     1.210261e-04\n",
      " * time: 1.2642099857330322\n",
      "    25    -7.852647e+00     1.012678e-04\n",
      " * time: 1.2879281044006348\n",
      "    26    -7.852647e+00     3.574774e-05\n",
      " * time: 1.3115930557250977\n",
      "    27    -7.852647e+00     1.823416e-05\n",
      " * time: 1.3349480628967285\n",
      "    28    -7.852647e+00     1.016637e-05\n",
      " * time: 1.358165979385376\n",
      "    29    -7.852647e+00     5.462881e-06\n",
      " * time: 1.3814940452575684\n",
      "    30    -7.852647e+00     4.903070e-06\n",
      " * time: 1.4046690464019775\n",
      "    31    -7.852647e+00     2.446658e-06\n",
      " * time: 1.4281280040740967\n",
      "    32    -7.852647e+00     1.574412e-06\n",
      " * time: 1.4514200687408447\n",
      "    33    -7.852647e+00     1.035669e-06\n",
      " * time: 1.4748749732971191\n",
      "    34    -7.852647e+00     5.871912e-07\n",
      " * time: 1.4982531070709229\n",
      "    35    -7.852647e+00     5.332619e-07\n",
      " * time: 1.5215089321136475\n",
      "    36    -7.852647e+00     2.557746e-07\n",
      " * time: 1.544590950012207\n",
      "    37    -7.852647e+00     1.524752e-07\n",
      " * time: 1.5676629543304443\n",
      "    38    -7.852647e+00     1.058933e-07\n",
      " * time: 1.5908050537109375\n",
      "    39    -7.852647e+00     5.455891e-08\n",
      " * time: 1.6138360500335693\n",
      "    40    -7.852647e+00     3.522024e-08\n",
      " * time: 1.6368169784545898\n",
      "    41    -7.852647e+00     2.112142e-08\n",
      " * time: 1.6610190868377686\n",
      "    42    -7.852647e+00     1.343414e-08\n",
      " * time: 1.6844451427459717\n",
      "    43    -7.852647e+00     1.343414e-08\n",
      " * time: 1.7879760265350342\n"
     ]
    }
   ],
   "cell_type": "code",
   "source": [
    "scfres_dm = direct_minimization(basis; tol);"
   ],
   "metadata": {},
   "execution_count": 4
  },
  {
   "cell_type": "markdown",
   "source": [
    "## Newton algorithm"
   ],
   "metadata": {}
  },
  {
   "cell_type": "markdown",
   "source": [
    "Start not too far from the solution to ensure convergence:\n",
    "We run first a very crude SCF to get close and then switch to Newton."
   ],
   "metadata": {}
  },
  {
   "outputs": [
    {
     "name": "stdout",
     "output_type": "stream",
     "text": [
      "n     Energy            log10(ΔE)   log10(Δρ)   Diag\n",
      "---   ---------------   ---------   ---------   ----\n",
      "  1   -7.846794984898                   -0.70    4.8\n",
      "  2   -7.852285879979       -2.26       -1.53    1.0\n"
     ]
    }
   ],
   "cell_type": "code",
   "source": [
    "scfres_start = self_consistent_field(basis; tol=1e-1);"
   ],
   "metadata": {},
   "execution_count": 5
  },
  {
   "cell_type": "markdown",
   "source": [
    "Remove the virtual orbitals (which Newton cannot treat yet)"
   ],
   "metadata": {}
  },
  {
   "outputs": [
    {
     "name": "stdout",
     "output_type": "stream",
     "text": [
      "n     Energy            log10(ΔE)   log10(Δρ)\n",
      "---   ---------------   ---------   ---------\n",
      "  1   -7.852646685659                   -2.54\n",
      "  2   -7.852646686730       -8.97       -5.43\n",
      "  3   -7.852646686730   +  -14.75      -10.07\n",
      "  4   -7.852646686730   +    -Inf      -15.56\n"
     ]
    }
   ],
   "cell_type": "code",
   "source": [
    "ψ, _ = DFTK.select_occupied_orbitals(basis, scfres_start.ψ, scfres_start.occupation)\n",
    "scfres_newton = newton(basis, ψ; tol);"
   ],
   "metadata": {},
   "execution_count": 6
  },
  {
   "cell_type": "markdown",
   "source": [
    "## Comparison of results"
   ],
   "metadata": {}
  },
  {
   "outputs": [
    {
     "name": "stdout",
     "output_type": "stream",
     "text": [
      "|ρ_newton - ρ_scf|  = 3.4772429603418834e-13\n",
      "|ρ_newton - ρ_scfv| = 1.66183683616696e-13\n",
      "|ρ_newton - ρ_dm|   = 1.6094878185504857e-9\n"
     ]
    }
   ],
   "cell_type": "code",
   "source": [
    "println(\"|ρ_newton - ρ_scf|  = \", norm(scfres_newton.ρ - scfres_scf.ρ))\n",
    "println(\"|ρ_newton - ρ_scfv| = \", norm(scfres_newton.ρ - scfres_scfv.ρ))\n",
    "println(\"|ρ_newton - ρ_dm|   = \", norm(scfres_newton.ρ - scfres_dm.ρ))"
   ],
   "metadata": {},
   "execution_count": 7
  }
 ],
 "nbformat_minor": 3,
 "metadata": {
  "language_info": {
   "file_extension": ".jl",
   "mimetype": "application/julia",
   "name": "julia",
   "version": "1.8.2"
  },
  "kernelspec": {
   "name": "julia-1.8",
   "display_name": "Julia 1.8.2",
   "language": "julia"
  }
 },
 "nbformat": 4
}
