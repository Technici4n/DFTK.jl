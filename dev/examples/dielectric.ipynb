{
 "cells": [
  {
   "cell_type": "markdown",
   "source": [
    "# Eigenvalues of the dielectric matrix\n",
    "\n",
    "We compute a few eigenvalues of the dielectric matrix ($q=0$, $ω=0$) iteratively."
   ],
   "metadata": {}
  },
  {
   "outputs": [
    {
     "name": "stdout",
     "output_type": "stream",
     "text": [
      "n     Energy            log10(ΔE)   log10(Δρ)   Diag\n",
      "---   ---------------   ---------   ---------   ----\n",
      "  1   -7.234838481325                   -0.50    7.0\n",
      "  2   -7.250245099784       -1.81       -1.41    1.0\n",
      "  3   -7.251307423185       -2.97       -2.12    3.0\n",
      "  4   -7.251291907799   +   -4.81       -2.29    4.0\n",
      "  5   -7.251329124339       -4.43       -2.67    3.0\n",
      "  6   -7.251336955067       -5.11       -3.02    2.0\n",
      "  7   -7.251338767889       -5.74       -4.10    1.0\n",
      "  8   -7.251338792651       -7.61       -4.13    4.0\n",
      "  9   -7.251338797376       -8.33       -4.44    2.0\n",
      " 10   -7.251338798092       -9.14       -4.62    2.0\n",
      " 11   -7.251338798682       -9.23       -5.42    2.0\n",
      " 12   -7.251338798702      -10.71       -5.82    2.0\n",
      " 13   -7.251338798704      -11.67       -6.04    2.0\n",
      " 14   -7.251338798704      -12.10       -6.67    3.0\n",
      " 15   -7.251338798705      -13.39       -7.13    2.0\n",
      " 16   -7.251338798705      -14.27       -7.57    3.0\n"
     ]
    }
   ],
   "cell_type": "code",
   "source": [
    "using DFTK\n",
    "using Plots\n",
    "using KrylovKit\n",
    "using Printf\n",
    "\n",
    "# Calculation parameters\n",
    "kgrid = [1, 1, 1]\n",
    "Ecut = 5\n",
    "\n",
    "# Silicon lattice\n",
    "a = 10.26\n",
    "lattice = a / 2 .* [[0 1 1.]; [1 0 1.]; [1 1 0.]]\n",
    "Si = ElementPsp(:Si, psp=load_psp(\"hgh/lda/Si-q4\"))\n",
    "atoms     = [Si, Si]\n",
    "positions = [ones(3)/8, -ones(3)/8]\n",
    "\n",
    "# Compute the dielectric operator without symmetries\n",
    "model = model_LDA(lattice, atoms, positions, symmetries=false)\n",
    "basis = PlaneWaveBasis(model; Ecut, kgrid)\n",
    "scfres = self_consistent_field(basis, tol=1e-14);"
   ],
   "metadata": {},
   "execution_count": 1
  },
  {
   "cell_type": "markdown",
   "source": [
    "Applying $ε^† ≔ (1- χ_0 K)$ …"
   ],
   "metadata": {}
  },
  {
   "outputs": [],
   "cell_type": "code",
   "source": [
    "function eps_fun(δρ)\n",
    "    δV = apply_kernel(basis, δρ; ρ=scfres.ρ)\n",
    "    χ0δV = apply_χ0(scfres, δV)\n",
    "    δρ - χ0δV\n",
    "end;"
   ],
   "metadata": {},
   "execution_count": 2
  },
  {
   "cell_type": "markdown",
   "source": [
    "… eagerly diagonalizes the subspace matrix at each iteration"
   ],
   "metadata": {}
  },
  {
   "outputs": [
    {
     "name": "stdout",
     "output_type": "stream",
     "text": [
      "[ Info: Arnoldi iteration step 1: normres = 0.05420332958201644\n",
      "[ Info: Arnoldi iteration step 2: normres = 0.6746469427889282\n",
      "[ Info: Arnoldi iteration step 3: normres = 0.7824706816992061\n",
      "[ Info: Arnoldi iteration step 4: normres = 0.31680061699978784\n",
      "[ Info: Arnoldi iteration step 5: normres = 0.333763320609745\n",
      "[ Info: Arnoldi schursolve in iter 1, krylovdim = 5: 0 values converged, normres = (2.07e-02, 5.72e-02, 2.36e-01, 2.28e-01, 1.03e-02)\n",
      "[ Info: Arnoldi iteration step 6: normres = 0.403624413733975\n",
      "[ Info: Arnoldi schursolve in iter 1, krylovdim = 6: 0 values converged, normres = (6.74e-03, 7.82e-02, 3.70e-01, 8.87e-02, 6.29e-02)\n",
      "[ Info: Arnoldi iteration step 7: normres = 0.07861642823374804\n",
      "[ Info: Arnoldi schursolve in iter 1, krylovdim = 7: 0 values converged, normres = (2.76e-04, 1.00e-02, 2.55e-02, 3.01e-02, 5.99e-02)\n",
      "[ Info: Arnoldi iteration step 8: normres = 0.10851284079074498\n",
      "[ Info: Arnoldi schursolve in iter 1, krylovdim = 8: 0 values converged, normres = (1.27e-05, 7.42e-04, 2.11e-03, 9.13e-03, 3.54e-02)\n",
      "[ Info: Arnoldi iteration step 9: normres = 0.07673582705892555\n",
      "[ Info: Arnoldi schursolve in iter 1, krylovdim = 9: 0 values converged, normres = (4.29e-07, 4.18e-05, 1.32e-04, 2.77e-03, 3.71e-02)\n",
      "[ Info: Arnoldi iteration step 10: normres = 0.09319867439292738\n",
      "[ Info: Arnoldi schursolve in iter 1, krylovdim = 10: 0 values converged, normres = (1.75e-08, 2.84e-06, 1.00e-05, 9.85e-04, 3.71e-02)\n",
      "[ Info: Arnoldi iteration step 11: normres = 0.06996988008107882\n",
      "[ Info: Arnoldi schursolve in iter 1, krylovdim = 11: 0 values converged, normres = (5.35e-10, 1.44e-07, 5.63e-07, 2.53e-04, 2.27e-02)\n",
      "[ Info: Arnoldi iteration step 12: normres = 0.06788194802565269\n",
      "[ Info: Arnoldi schursolve in iter 1, krylovdim = 12: 0 values converged, normres = (1.53e-11, 6.67e-09, 2.89e-08, 4.77e-05, 7.62e-03)\n",
      "[ Info: Arnoldi iteration step 13: normres = 0.1287842541491435\n",
      "[ Info: Arnoldi schursolve in iter 1, krylovdim = 13: 1 values converged, normres = (8.53e-13, 6.11e-10, 2.94e-09, 1.99e-05, 6.48e-03)\n",
      "[ Info: Arnoldi iteration step 14: normres = 0.4123089518354473\n",
      "[ Info: Arnoldi schursolve in iter 1, krylovdim = 14: 1 values converged, normres = (2.97e-13, 9.24e-10, 9.23e-09, 4.06e-01, 3.46e-03)\n",
      "[ Info: Arnoldi iteration step 15: normres = 0.13669793310625544\n",
      "[ Info: Arnoldi schursolve in iter 1, krylovdim = 15: 1 values converged, normres = (1.91e-14, 1.80e-10, 4.25e-02, 4.77e-04, 2.49e-06)\n",
      "[ Info: Arnoldi iteration step 16: normres = 0.21884461236402208\n",
      "[ Info: Arnoldi schursolve in iter 1, krylovdim = 16: 1 values converged, normres = (4.40e-15, 1.45e-09, 2.01e-01, 1.94e-03, 8.16e-02)\n",
      "[ Info: Arnoldi iteration step 17: normres = 0.031301119225019755\n",
      "[ Info: Arnoldi schursolve in iter 1, krylovdim = 17: 1 values converged, normres = (5.86e-17, 1.55e-08, 4.29e-03, 3.13e-05, 1.59e-03)\n",
      "[ Info: Arnoldi iteration step 18: normres = 0.028143774759961528\n",
      "[ Info: Arnoldi schursolve in iter 1, krylovdim = 18: 1 values converged, normres = (6.83e-19, 1.11e-08, 8.01e-05, 5.05e-07, 3.26e-05)\n",
      "[ Info: Arnoldi iteration step 19: normres = 0.2120982625997288\n",
      "[ Info: Arnoldi schursolve in iter 1, krylovdim = 19: 1 values converged, normres = (6.36e-20, 3.98e-06, 1.17e-05, 1.21e-06, 5.49e-06)\n",
      "[ Info: Arnoldi iteration step 20: normres = 0.034531021830266226\n",
      "[ Info: Arnoldi schursolve in iter 1, krylovdim = 20: 1 values converged, normres = (1.03e-21, 2.24e-08, 3.50e-07, 8.43e-08, 1.59e-07)\n",
      "[ Info: Arnoldi iteration step 21: normres = 0.03451300923268093\n",
      "[ Info: Arnoldi schursolve in iter 1, krylovdim = 21: 1 values converged, normres = (1.47e-23, 7.47e-09, 3.13e-09, 3.21e-09, 3.28e-09)\n",
      "[ Info: Arnoldi iteration step 22: normres = 0.5767248565604146\n",
      "[ Info: Arnoldi schursolve in iter 1, krylovdim = 22: 1 values converged, normres = (3.94e-24, 3.67e-09, 6.46e-10, 1.65e-09, 1.71e-09)\n",
      "[ Info: Arnoldi iteration step 23: normres = 0.03994174876943588\n",
      "[ Info: Arnoldi schursolve in iter 1, krylovdim = 23: 1 values converged, normres = (1.34e-25, 8.40e-10, 2.25e-10, 2.45e-08, 2.77e-08)\n",
      "[ Info: Arnoldi iteration step 24: normres = 0.013017364394419317\n",
      "[ Info: Arnoldi schursolve in iter 1, krylovdim = 24: 1 values converged, normres = (7.15e-28, 7.33e-12, 1.55e-12, 2.34e-08, 1.98e-08)\n",
      "[ Info: Arnoldi iteration step 25: normres = 0.09048603904932884\n",
      "[ Info: Arnoldi schursolve in iter 1, krylovdim = 25: 3 values converged, normres = (2.70e-29, 4.43e-13, 9.36e-14, 1.45e-05, 9.30e-06)\n",
      "[ Info: Arnoldi iteration step 26: normres = 0.039473097466679735\n",
      "[ Info: Arnoldi schursolve in iter 1, krylovdim = 26: 3 values converged, normres = (4.77e-31, 1.32e-14, 2.79e-15, 2.77e-07, 7.00e-07)\n",
      "[ Info: Arnoldi iteration step 27: normres = 0.02663956045260527\n",
      "[ Info: Arnoldi schursolve in iter 1, krylovdim = 27: 3 values converged, normres = (5.21e-33, 2.30e-16, 4.86e-17, 9.65e-09, 9.55e-09)\n",
      "[ Info: Arnoldi iteration step 28: normres = 0.10590512448377915\n",
      "[ Info: Arnoldi schursolve in iter 1, krylovdim = 28: 3 values converged, normres = (2.39e-34, 1.73e-17, 3.66e-18, 9.29e-10, 7.18e-10)\n",
      "[ Info: Arnoldi iteration step 29: normres = 0.14169846362720603\n",
      "[ Info: Arnoldi schursolve in iter 1, krylovdim = 29: 3 values converged, normres = (1.48e-35, 1.79e-18, 3.77e-19, 1.06e-10, 8.33e-11)\n",
      "[ Info: Arnoldi iteration step 30: normres = 0.03324868288418598\n",
      "[ Info: Arnoldi schursolve in iter 1, krylovdim = 30: 3 values converged, normres = (2.40e-37, 5.14e-20, 1.09e-20, 3.47e-12, 2.73e-12)\n",
      "[ Info: Arnoldi schursolve in iter 2, krylovdim = 19: 3 values converged, normres = (2.51e-37, 5.14e-20, 1.09e-20, 3.47e-12, 2.73e-12)\n",
      "[ Info: Arnoldi iteration step 20: normres = 0.02311142748682836\n",
      "┌ Info: Arnoldi eigsolve finished after 2 iterations:\n",
      "│ *  6 eigenvalues converged\n",
      "│ *  norm of residuals = (2.2858640116729047e-39, 7.803286382315206e-22, 1.5421190690003886e-22, 5.802834244980535e-14, 3.912285206418455e-14, 1.817127081586506e-14)\n",
      "└ *  number of operations = 31\n"
     ]
    }
   ],
   "cell_type": "code",
   "source": [
    "eigsolve(eps_fun, randn(size(scfres.ρ)), 5, :LM; eager=true, verbosity=3);"
   ],
   "metadata": {},
   "execution_count": 3
  }
 ],
 "nbformat_minor": 3,
 "metadata": {
  "language_info": {
   "file_extension": ".jl",
   "mimetype": "application/julia",
   "name": "julia",
   "version": "1.8.2"
  },
  "kernelspec": {
   "name": "julia-1.8",
   "display_name": "Julia 1.8.2",
   "language": "julia"
  }
 },
 "nbformat": 4
}
