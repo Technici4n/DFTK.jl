{
 "cells": [
  {
   "cell_type": "markdown",
   "source": [
    "# Polarizability using automatic differentiation\n",
    "\n",
    "Simple example for computing properties using (forward-mode)\n",
    "automatic differentiation.\n",
    "For a more classical approach and more details about computing polarizabilities,\n",
    "see Polarizability by linear response."
   ],
   "metadata": {}
  },
  {
   "outputs": [],
   "cell_type": "code",
   "source": [
    "using DFTK\n",
    "using LinearAlgebra\n",
    "using ForwardDiff\n",
    "\n",
    "# Construct PlaneWaveBasis given a particular electric field strength\n",
    "# Again we take the example of a Helium atom.\n",
    "function make_basis(ε::T; a=10., Ecut=30) where {T}\n",
    "    lattice=T(a) * I(3)  # lattice is a cube of $a$ Bohrs\n",
    "    # Helium at the center of the box\n",
    "    atoms     = [ElementPsp(:He, psp=load_psp(\"hgh/lda/He-q2\"))]\n",
    "    positions = [[1/2, 1/2, 1/2]]\n",
    "\n",
    "    model = model_DFT(lattice, atoms, positions, [:lda_x, :lda_c_vwn];\n",
    "                      extra_terms=[ExternalFromReal(r -> -ε * (r[1] - a/2))],\n",
    "                      symmetries=false)\n",
    "    PlaneWaveBasis(model; Ecut, kgrid=[1, 1, 1])  # No k-point sampling on isolated system\n",
    "end\n",
    "\n",
    "# dipole moment of a given density (assuming the current geometry)\n",
    "function dipole(basis, ρ)\n",
    "    @assert isdiag(basis.model.lattice)\n",
    "    a  = basis.model.lattice[1, 1]\n",
    "    rr = [a * (r[1] - 1/2) for r in r_vectors(basis)]\n",
    "    sum(rr .* ρ) * basis.dvol\n",
    "end\n",
    "\n",
    "# Function to compute the dipole for a given field strength\n",
    "function compute_dipole(ε; tol=1e-8, kwargs...)\n",
    "    scfres = self_consistent_field(make_basis(ε; kwargs...); tol)\n",
    "    dipole(scfres.basis, scfres.ρ)\n",
    "end;"
   ],
   "metadata": {},
   "execution_count": 1
  },
  {
   "cell_type": "markdown",
   "source": [
    "With this in place we can compute the polarizability from finite differences\n",
    "(just like in the previous example):"
   ],
   "metadata": {}
  },
  {
   "outputs": [
    {
     "name": "stdout",
     "output_type": "stream",
     "text": [
      "n     Energy            log10(ΔE)   log10(Δρ)   Diag   Δtime\n",
      "---   ---------------   ---------   ---------   ----   ------\n",
      "  1   -2.770859368514                   -0.52    8.0         \n",
      "  2   -2.772144343775       -2.89       -1.32    1.0    188ms\n",
      "  3   -2.772170423330       -4.58       -2.50    1.0    162ms\n",
      "  4   -2.772170676376       -6.60       -3.31    1.0    205ms\n",
      "  5   -2.772170720791       -7.35       -3.85    2.0    178ms\n",
      "  6   -2.772170722876       -8.68       -4.62    1.0    193ms\n",
      "  7   -2.772170723010       -9.87       -5.15    2.0    185ms\n",
      "  8   -2.772170723015      -11.29       -6.23    1.0    169ms\n",
      "  9   -2.772170723015      -12.88       -6.35    2.0    198ms\n",
      " 10   -2.772170723015      -13.97       -6.87    1.0    188ms\n",
      " 11   -2.772170723015      -14.21       -8.24    1.0    182ms\n",
      "n     Energy            log10(ΔE)   log10(Δρ)   Diag   Δtime\n",
      "---   ---------------   ---------   ---------   ----   ------\n",
      "  1   -2.770678229175                   -0.53    9.0         \n",
      "  2   -2.772050714344       -2.86       -1.30    1.0    181ms\n",
      "  3   -2.772082506173       -4.50       -2.70    1.0    155ms\n",
      "  4   -2.772083412160       -6.04       -3.74    2.0    225ms\n",
      "  5   -2.772083417165       -8.30       -4.17    2.0    180ms\n",
      "  6   -2.772083417804       -9.19       -5.27    1.0    161ms\n",
      "  7   -2.772083417810      -11.20       -6.34    1.0    172ms\n",
      "  8   -2.772083417811      -12.80       -6.37    2.0    188ms\n",
      "  9   -2.772083417811      -13.94       -7.39    1.0    197ms\n",
      " 10   -2.772083417811      -14.15       -7.70    1.0    179ms\n",
      " 11   -2.772083417811   +  -13.91       -8.37    1.0    189ms\n"
     ]
    },
    {
     "output_type": "execute_result",
     "data": {
      "text/plain": "1.7735578946329391"
     },
     "metadata": {},
     "execution_count": 2
    }
   ],
   "cell_type": "code",
   "source": [
    "polarizability_fd = let\n",
    "    ε = 0.01\n",
    "    (compute_dipole(ε) - compute_dipole(0.0)) / ε\n",
    "end"
   ],
   "metadata": {},
   "execution_count": 2
  },
  {
   "cell_type": "markdown",
   "source": [
    "We do the same thing using automatic differentiation. Under the hood this uses\n",
    "custom rules to implicitly differentiate through the self-consistent\n",
    "field fixed-point problem."
   ],
   "metadata": {}
  },
  {
   "outputs": [
    {
     "name": "stdout",
     "output_type": "stream",
     "text": [
      "n     Energy            log10(ΔE)   log10(Δρ)   Diag   Δtime\n",
      "---   ---------------   ---------   ---------   ----   ------\n",
      "  1   -2.770832306793                   -0.52    9.0         \n",
      "  2   -2.772062889170       -2.91       -1.32    1.0    153ms\n",
      "  3   -2.772083105806       -4.69       -2.46    1.0    163ms\n",
      "  4   -2.772083350393       -6.61       -3.17    1.0    202ms\n",
      "  5   -2.772083417133       -7.18       -4.07    2.0    178ms\n",
      "  6   -2.772083417656       -9.28       -4.49    1.0    184ms\n",
      "  7   -2.772083417808       -9.82       -5.62    1.0    162ms\n",
      "  8   -2.772083417811      -11.63       -6.14    2.0    196ms\n",
      "  9   -2.772083417811      -13.26       -6.55    1.0    171ms\n",
      " 10   -2.772083417811      -13.62       -8.01    1.0    210ms\n",
      "\n",
      "Polarizability via ForwardDiff:       1.772534969665887\n",
      "Polarizability via finite difference: 1.7735578946329391\n"
     ]
    }
   ],
   "cell_type": "code",
   "source": [
    "polarizability = ForwardDiff.derivative(compute_dipole, 0.0)\n",
    "println()\n",
    "println(\"Polarizability via ForwardDiff:       $polarizability\")\n",
    "println(\"Polarizability via finite difference: $polarizability_fd\")"
   ],
   "metadata": {},
   "execution_count": 3
  }
 ],
 "nbformat_minor": 3,
 "metadata": {
  "language_info": {
   "file_extension": ".jl",
   "mimetype": "application/julia",
   "name": "julia",
   "version": "1.9.1"
  },
  "kernelspec": {
   "name": "julia-1.9",
   "display_name": "Julia 1.9.1",
   "language": "julia"
  }
 },
 "nbformat": 4
}
