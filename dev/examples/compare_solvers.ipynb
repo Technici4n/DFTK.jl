{
 "cells": [
  {
   "cell_type": "markdown",
   "source": [
    "# Comparison of DFT solvers"
   ],
   "metadata": {}
  },
  {
   "cell_type": "markdown",
   "source": [
    "We compare four different approaches for solving the DFT minimisation problem,\n",
    "namely a density-based SCF, a potential-based SCF, direct minimisation and Newton."
   ],
   "metadata": {}
  },
  {
   "cell_type": "markdown",
   "source": [
    "First we setup our problem"
   ],
   "metadata": {}
  },
  {
   "outputs": [
    {
     "output_type": "execute_result",
     "data": {
      "text/plain": "1.0e-6"
     },
     "metadata": {},
     "execution_count": 1
    }
   ],
   "cell_type": "code",
   "source": [
    "using DFTK\n",
    "using LinearAlgebra\n",
    "\n",
    "a = 10.26  # Silicon lattice constant in Bohr\n",
    "lattice = a / 2 * [[0 1 1.];\n",
    "                   [1 0 1.];\n",
    "                   [1 1 0.]]\n",
    "Si = ElementPsp(:Si, psp=load_psp(\"hgh/lda/Si-q4\"))\n",
    "atoms     = [Si, Si]\n",
    "positions = [ones(3)/8, -ones(3)/8]\n",
    "\n",
    "model = model_LDA(lattice, atoms, positions)\n",
    "basis = PlaneWaveBasis(model; Ecut=5, kgrid=[3, 3, 3])\n",
    "\n",
    "# Convergence we desire in the density\n",
    "tol = 1e-6"
   ],
   "metadata": {},
   "execution_count": 1
  },
  {
   "cell_type": "markdown",
   "source": [
    "## Density-based self-consistent field"
   ],
   "metadata": {}
  },
  {
   "outputs": [
    {
     "name": "stdout",
     "output_type": "stream",
     "text": [
      "n     Energy            log10(ΔE)   log10(Δρ)   Diag   Δtime\n",
      "---   ---------------   ---------   ---------   ----   ------\n",
      "  1   -7.846824039322                   -0.70    4.5         \n",
      "  2   -7.852317898267       -2.26       -1.53    1.0   26.5ms\n",
      "  3   -7.852616133296       -3.53       -2.56    1.5   29.0ms\n",
      "  4   -7.852645955639       -4.53       -2.88    2.5   36.0ms\n",
      "  5   -7.852646493580       -6.27       -3.16    1.2   28.2ms\n",
      "  6   -7.852646679082       -6.73       -4.15    1.0   26.6ms\n",
      "  7   -7.852646686665       -8.12       -4.94    2.2   35.7ms\n",
      "  8   -7.852646686723      -10.24       -5.43    1.2   28.7ms\n",
      "  9   -7.852646686727      -11.31       -5.57    1.2   28.2ms\n",
      " 10   -7.852646686730      -11.63       -6.67    1.0   27.3ms\n"
     ]
    }
   ],
   "cell_type": "code",
   "source": [
    "scfres_scf = self_consistent_field(basis; tol);"
   ],
   "metadata": {},
   "execution_count": 2
  },
  {
   "cell_type": "markdown",
   "source": [
    "## Potential-based SCF"
   ],
   "metadata": {}
  },
  {
   "outputs": [
    {
     "name": "stdout",
     "output_type": "stream",
     "text": [
      "n     Energy            log10(ΔE)   log10(Δρ)   α      Diag   Δtime\n",
      "---   ---------------   ---------   ---------   ----   ----   ------\n",
      "  1   -7.846859614525                   -0.70           4.8         \n",
      "  2   -7.852524565648       -2.25       -1.64   0.80    2.0    269ms\n",
      "  3   -7.852635689086       -3.95       -2.72   0.80    1.0   24.5ms\n",
      "  4   -7.852646410160       -4.97       -3.24   0.80    2.2   32.0ms\n",
      "  5   -7.852646662176       -6.60       -4.05   0.80    1.0   24.0ms\n",
      "  6   -7.852646686384       -7.62       -4.66   0.80    2.0   31.8ms\n",
      "  7   -7.852646686713       -9.48       -5.37   0.80    1.2   26.5ms\n",
      "  8   -7.852646686729      -10.81       -6.53   0.80    1.8   29.0ms\n"
     ]
    }
   ],
   "cell_type": "code",
   "source": [
    "scfres_scfv = DFTK.scf_potential_mixing(basis; tol);"
   ],
   "metadata": {},
   "execution_count": 3
  },
  {
   "cell_type": "markdown",
   "source": [
    "## Direct minimization\n",
    "Note: Unlike the other algorithms, tolerance for this one is in the energy,\n",
    "thus we square the density tolerance value to be roughly equivalent."
   ],
   "metadata": {}
  },
  {
   "outputs": [
    {
     "name": "stdout",
     "output_type": "stream",
     "text": [
      "Iter     Function value   Gradient norm \n",
      "     0     1.434418e+01     3.147616e+00\n",
      " * time: 0.06523418426513672\n",
      "     1     1.329257e+00     1.617905e+00\n",
      " * time: 0.29673194885253906\n",
      "     2    -1.573576e+00     2.001335e+00\n",
      " * time: 0.3219790458679199\n",
      "     3    -3.696988e+00     1.645962e+00\n",
      " * time: 0.35787510871887207\n",
      "     4    -5.025247e+00     1.641009e+00\n",
      " * time: 0.39331912994384766\n",
      "     5    -6.775005e+00     9.193419e-01\n",
      " * time: 0.42879700660705566\n",
      "     6    -7.506676e+00     3.877142e-01\n",
      " * time: 0.46477198600769043\n",
      "     7    -7.733731e+00     2.182918e-01\n",
      " * time: 0.49025416374206543\n",
      "     8    -7.796164e+00     1.045124e-01\n",
      " * time: 0.5154900550842285\n",
      "     9    -7.821712e+00     8.950826e-02\n",
      " * time: 0.541046142578125\n",
      "    10    -7.832699e+00     5.926363e-02\n",
      " * time: 0.5662620067596436\n",
      "    11    -7.838898e+00     4.605177e-02\n",
      " * time: 0.5914731025695801\n",
      "    12    -7.843352e+00     4.241325e-02\n",
      " * time: 0.616569995880127\n",
      "    13    -7.844948e+00     5.806671e-02\n",
      " * time: 0.6415231227874756\n",
      "    14    -7.845221e+00     6.502178e-02\n",
      " * time: 0.677178144454956\n",
      "    15    -7.845439e+00     6.639446e-02\n",
      " * time: 0.7237141132354736\n",
      "    16    -7.845749e+00     5.760369e-02\n",
      " * time: 0.7702410221099854\n",
      "    17    -7.846455e+00     4.005453e-02\n",
      " * time: 0.8060300350189209\n",
      "    18    -7.848568e+00     3.076950e-02\n",
      " * time: 0.8310091495513916\n",
      "    19    -7.850939e+00     1.973214e-02\n",
      " * time: 0.8558220863342285\n",
      "    20    -7.852085e+00     1.342093e-02\n",
      " * time: 0.880728006362915\n",
      "    21    -7.852426e+00     8.605258e-03\n",
      " * time: 0.9055860042572021\n",
      "    22    -7.852573e+00     4.729106e-03\n",
      " * time: 0.9306621551513672\n",
      "    23    -7.852623e+00     2.623941e-03\n",
      " * time: 0.9553279876708984\n",
      "    24    -7.852639e+00     1.798673e-03\n",
      " * time: 0.9799010753631592\n",
      "    25    -7.852644e+00     9.872835e-04\n",
      " * time: 1.0045180320739746\n",
      "    26    -7.852646e+00     4.683445e-04\n",
      " * time: 1.0291931629180908\n",
      "    27    -7.852646e+00     6.485116e-04\n",
      " * time: 1.1318480968475342\n",
      "    28    -7.852647e+00     2.761070e-04\n",
      " * time: 1.156710147857666\n",
      "    29    -7.852647e+00     7.798506e-05\n",
      " * time: 1.1815881729125977\n",
      "    30    -7.852647e+00     5.092750e-05\n",
      " * time: 1.2067890167236328\n",
      "    31    -7.852647e+00     4.929902e-05\n",
      " * time: 1.2317190170288086\n",
      "    32    -7.852647e+00     2.375139e-05\n",
      " * time: 1.256545066833496\n",
      "    33    -7.852647e+00     1.333365e-05\n",
      " * time: 1.2813661098480225\n",
      "    34    -7.852647e+00     1.015093e-05\n",
      " * time: 1.3062829971313477\n",
      "    35    -7.852647e+00     4.272145e-06\n",
      " * time: 1.331176996231079\n",
      "    36    -7.852647e+00     3.138830e-06\n",
      " * time: 1.3562180995941162\n",
      "    37    -7.852647e+00     1.166066e-06\n",
      " * time: 1.3813979625701904\n",
      "    38    -7.852647e+00     6.789462e-07\n",
      " * time: 1.4065179824829102\n",
      "    39    -7.852647e+00     4.716047e-07\n",
      " * time: 1.4315409660339355\n",
      "    40    -7.852647e+00     2.457141e-07\n",
      " * time: 1.456536054611206\n",
      "    41    -7.852647e+00     1.421228e-07\n",
      " * time: 1.482112169265747\n",
      "    42    -7.852647e+00     6.648441e-08\n",
      " * time: 1.5076570510864258\n",
      "    43    -7.852647e+00     5.081667e-08\n",
      " * time: 1.5330190658569336\n",
      "    44    -7.852647e+00     3.414641e-08\n",
      " * time: 1.5581231117248535\n",
      "    45    -7.852647e+00     1.830574e-08\n",
      " * time: 1.5831990242004395\n",
      "    46    -7.852647e+00     1.418929e-08\n",
      " * time: 1.619394063949585\n",
      "    47    -7.852647e+00     1.404600e-08\n",
      " * time: 1.6765680313110352\n",
      "    48    -7.852647e+00     1.384174e-08\n",
      " * time: 1.733834981918335\n",
      "    49    -7.852647e+00     8.746540e-09\n",
      " * time: 1.7693071365356445\n"
     ]
    }
   ],
   "cell_type": "code",
   "source": [
    "scfres_dm = direct_minimization(basis; tol=tol^2);"
   ],
   "metadata": {},
   "execution_count": 4
  },
  {
   "cell_type": "markdown",
   "source": [
    "## Newton algorithm"
   ],
   "metadata": {}
  },
  {
   "cell_type": "markdown",
   "source": [
    "Start not too far from the solution to ensure convergence:\n",
    "We run first a very crude SCF to get close and then switch to Newton."
   ],
   "metadata": {}
  },
  {
   "outputs": [
    {
     "name": "stdout",
     "output_type": "stream",
     "text": [
      "n     Energy            log10(ΔE)   log10(Δρ)   Diag   Δtime\n",
      "---   ---------------   ---------   ---------   ----   ------\n",
      "  1   -7.846857983890                   -0.70    4.5         \n"
     ]
    }
   ],
   "cell_type": "code",
   "source": [
    "scfres_start = self_consistent_field(basis; tol=0.5);"
   ],
   "metadata": {},
   "execution_count": 5
  },
  {
   "cell_type": "markdown",
   "source": [
    "Remove the virtual orbitals (which Newton cannot treat yet)"
   ],
   "metadata": {}
  },
  {
   "outputs": [
    {
     "name": "stdout",
     "output_type": "stream",
     "text": [
      "n     Energy            log10(ΔE)   log10(Δρ)   Δtime\n",
      "---   ---------------   ---------   ---------   ------\n",
      "  1   -7.852645903080                   -1.64         \n",
      "  2   -7.852646686730       -6.11       -3.70    2.06s\n",
      "  3   -7.852646686730      -13.30       -7.24    161ms\n"
     ]
    }
   ],
   "cell_type": "code",
   "source": [
    "ψ = DFTK.select_occupied_orbitals(basis, scfres_start.ψ, scfres_start.occupation).ψ\n",
    "scfres_newton = newton(basis, ψ; tol);"
   ],
   "metadata": {},
   "execution_count": 6
  },
  {
   "cell_type": "markdown",
   "source": [
    "## Comparison of results"
   ],
   "metadata": {}
  },
  {
   "outputs": [
    {
     "name": "stdout",
     "output_type": "stream",
     "text": [
      "|ρ_newton - ρ_scf|  = 3.31858171615231e-7\n",
      "|ρ_newton - ρ_scfv| = 8.016654374519267e-7\n",
      "|ρ_newton - ρ_dm|   = 5.93950299875608e-10\n"
     ]
    }
   ],
   "cell_type": "code",
   "source": [
    "println(\"|ρ_newton - ρ_scf|  = \", norm(scfres_newton.ρ - scfres_scf.ρ))\n",
    "println(\"|ρ_newton - ρ_scfv| = \", norm(scfres_newton.ρ - scfres_scfv.ρ))\n",
    "println(\"|ρ_newton - ρ_dm|   = \", norm(scfres_newton.ρ - scfres_dm.ρ))"
   ],
   "metadata": {},
   "execution_count": 7
  }
 ],
 "nbformat_minor": 3,
 "metadata": {
  "language_info": {
   "file_extension": ".jl",
   "mimetype": "application/julia",
   "name": "julia",
   "version": "1.9.3"
  },
  "kernelspec": {
   "name": "julia-1.9",
   "display_name": "Julia 1.9.3",
   "language": "julia"
  }
 },
 "nbformat": 4
}
