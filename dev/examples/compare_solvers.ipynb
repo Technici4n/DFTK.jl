{
 "cells": [
  {
   "cell_type": "markdown",
   "source": [
    "# Comparison of DFT solvers"
   ],
   "metadata": {}
  },
  {
   "cell_type": "markdown",
   "source": [
    "We compare four different approaches for solving the DFT minimisation problem,\n",
    "namely a density-based SCF, a potential-based SCF, direct minimisation and Newton."
   ],
   "metadata": {}
  },
  {
   "cell_type": "markdown",
   "source": [
    "First we setup our problem"
   ],
   "metadata": {}
  },
  {
   "outputs": [
    {
     "output_type": "execute_result",
     "data": {
      "text/plain": "1.0e-6"
     },
     "metadata": {},
     "execution_count": 1
    }
   ],
   "cell_type": "code",
   "source": [
    "using DFTK\n",
    "using LinearAlgebra\n",
    "\n",
    "a = 10.26  # Silicon lattice constant in Bohr\n",
    "lattice = a / 2 * [[0 1 1.];\n",
    "                   [1 0 1.];\n",
    "                   [1 1 0.]]\n",
    "Si = ElementPsp(:Si, psp=load_psp(\"hgh/lda/Si-q4\"))\n",
    "atoms     = [Si, Si]\n",
    "positions = [ones(3)/8, -ones(3)/8]\n",
    "\n",
    "model = model_LDA(lattice, atoms, positions)\n",
    "basis = PlaneWaveBasis(model; Ecut=5, kgrid=[3, 3, 3])\n",
    "\n",
    "# Convergence we desire in the density\n",
    "tol = 1e-6"
   ],
   "metadata": {},
   "execution_count": 1
  },
  {
   "cell_type": "markdown",
   "source": [
    "## Density-based self-consistent field"
   ],
   "metadata": {}
  },
  {
   "outputs": [
    {
     "name": "stdout",
     "output_type": "stream",
     "text": [
      "n     Energy            log10(ΔE)   log10(Δρ)   Diag   Δtime\n",
      "---   ---------------   ---------   ---------   ----   ------\n",
      "  1   -7.846853615463                   -0.70    4.8         \n",
      "  2   -7.852317546325       -2.26       -1.53    1.0   24.7ms\n",
      "  3   -7.852617054365       -3.52       -2.56    1.5   27.8ms\n",
      "  4   -7.852646071871       -4.54       -2.91    2.8   96.5ms\n",
      "  5   -7.852646539140       -6.33       -3.23    1.0   25.3ms\n",
      "  6   -7.852646680229       -6.85       -4.14    1.0   26.3ms\n",
      "  7   -7.852646686612       -8.19       -5.33    2.2   32.8ms\n",
      "  8   -7.852646686726       -9.94       -5.57    2.2   32.7ms\n",
      "  9   -7.852646686728      -11.84       -5.66    1.5   28.5ms\n",
      " 10   -7.852646686730      -11.68       -6.35    1.0   25.4ms\n"
     ]
    }
   ],
   "cell_type": "code",
   "source": [
    "scfres_scf = self_consistent_field(basis; tol);"
   ],
   "metadata": {},
   "execution_count": 2
  },
  {
   "cell_type": "markdown",
   "source": [
    "## Potential-based SCF"
   ],
   "metadata": {}
  },
  {
   "outputs": [
    {
     "name": "stdout",
     "output_type": "stream",
     "text": [
      "n     Energy            log10(ΔE)   log10(Δρ)   α      Diag   Δtime\n",
      "---   ---------------   ---------   ---------   ----   ----   ------\n",
      "  1   -7.846821281883                   -0.70           4.5         \n",
      "  2   -7.852551978833       -2.24       -1.63   0.80    2.2    266ms\n",
      "  3   -7.852639172175       -4.06       -2.74   0.80    1.0   23.6ms\n",
      "  4   -7.852646430734       -5.14       -3.36   0.80    1.8   28.7ms\n",
      "  5   -7.852646677805       -6.61       -4.26   0.80    2.0   29.8ms\n",
      "  6   -7.852646686590       -8.06       -4.77   0.80    1.8   27.6ms\n",
      "  7   -7.852646686720       -9.89       -5.68   0.80    1.2   84.4ms\n",
      "  8   -7.852646686730      -11.01       -6.49   0.80    2.5   30.4ms\n"
     ]
    }
   ],
   "cell_type": "code",
   "source": [
    "scfres_scfv = DFTK.scf_potential_mixing(basis; tol);"
   ],
   "metadata": {},
   "execution_count": 3
  },
  {
   "cell_type": "markdown",
   "source": [
    "## Direct minimization\n",
    "Note: Unlike the other algorithms, tolerance for this one is in the energy,\n",
    "thus we square the density tolerance value to be roughly equivalent."
   ],
   "metadata": {}
  },
  {
   "outputs": [
    {
     "name": "stdout",
     "output_type": "stream",
     "text": [
      "Iter     Function value   Gradient norm \n",
      "     0     1.370577e+01     3.410243e+00\n",
      " * time: 0.061383962631225586\n",
      "     1     1.076314e+00     1.748183e+00\n",
      " * time: 0.36644792556762695\n",
      "     2    -1.878391e+00     2.025982e+00\n",
      " * time: 0.39095091819763184\n",
      "     3    -4.042782e+00     1.536993e+00\n",
      " * time: 0.4257519245147705\n",
      "     4    -5.365279e+00     1.357966e+00\n",
      " * time: 0.46056199073791504\n",
      "     5    -7.006754e+00     7.706095e-01\n",
      " * time: 0.4950449466705322\n",
      "     6    -7.572176e+00     3.477310e-01\n",
      " * time: 0.5297720432281494\n",
      "     7    -7.735940e+00     1.502723e-01\n",
      " * time: 0.5537838935852051\n",
      "     8    -7.799123e+00     1.166710e-01\n",
      " * time: 0.5778200626373291\n",
      "     9    -7.828718e+00     7.109661e-02\n",
      " * time: 0.6017711162567139\n",
      "    10    -7.841271e+00     6.723168e-02\n",
      " * time: 0.6264369487762451\n",
      "    11    -7.845479e+00     5.281207e-02\n",
      " * time: 0.6504299640655518\n",
      "    12    -7.847657e+00     3.171185e-02\n",
      " * time: 0.6752779483795166\n",
      "    13    -7.849599e+00     2.166226e-02\n",
      " * time: 0.6994900703430176\n",
      "    14    -7.851172e+00     2.222647e-02\n",
      " * time: 0.7236509323120117\n",
      "    15    -7.852080e+00     1.559004e-02\n",
      " * time: 0.7477309703826904\n",
      "    16    -7.852473e+00     6.506085e-03\n",
      " * time: 0.7718770503997803\n",
      "    17    -7.852597e+00     3.239978e-03\n",
      " * time: 0.7957870960235596\n",
      "    18    -7.852630e+00     2.480939e-03\n",
      " * time: 0.8198330402374268\n",
      "    19    -7.852640e+00     1.722388e-03\n",
      " * time: 0.8438611030578613\n",
      "    20    -7.852644e+00     1.009248e-03\n",
      " * time: 0.8680059909820557\n",
      "    21    -7.852646e+00     4.599449e-04\n",
      " * time: 0.8925900459289551\n",
      "    22    -7.852646e+00     4.112953e-04\n",
      " * time: 0.9165260791778564\n",
      "    23    -7.852647e+00     2.685261e-04\n",
      " * time: 0.9410800933837891\n",
      "    24    -7.852647e+00     8.775545e-05\n",
      " * time: 0.9650630950927734\n",
      "    25    -7.852647e+00     5.787524e-05\n",
      " * time: 0.989206075668335\n",
      "    26    -7.852647e+00     2.706570e-05\n",
      " * time: 1.0135879516601562\n",
      "    27    -7.852647e+00     1.449700e-05\n",
      " * time: 1.0378100872039795\n",
      "    28    -7.852647e+00     1.289043e-05\n",
      " * time: 1.0622169971466064\n",
      "    29    -7.852647e+00     5.177756e-06\n",
      " * time: 1.086479902267456\n",
      "    30    -7.852647e+00     3.708140e-06\n",
      " * time: 1.1106650829315186\n",
      "    31    -7.852647e+00     3.291846e-06\n",
      " * time: 1.1350090503692627\n",
      "    32    -7.852647e+00     1.757070e-06\n",
      " * time: 1.1595220565795898\n",
      "    33    -7.852647e+00     1.019759e-06\n",
      " * time: 1.1837899684906006\n",
      "    34    -7.852647e+00     5.874870e-07\n",
      " * time: 1.2084999084472656\n",
      "    35    -7.852647e+00     3.834998e-07\n",
      " * time: 1.232832908630371\n",
      "    36    -7.852647e+00     2.728425e-07\n",
      " * time: 1.2572441101074219\n",
      "    37    -7.852647e+00     1.830590e-07\n",
      " * time: 1.2816729545593262\n",
      "    38    -7.852647e+00     9.126804e-08\n",
      " * time: 1.3062739372253418\n",
      "    39    -7.852647e+00     5.734216e-08\n",
      " * time: 1.3304641246795654\n",
      "    40    -7.852647e+00     2.689144e-08\n",
      " * time: 1.355247974395752\n",
      "    41    -7.852647e+00     1.762232e-08\n",
      " * time: 1.3800160884857178\n",
      "    42    -7.852647e+00     1.100291e-08\n",
      " * time: 1.4045491218566895\n",
      "    43    -7.852647e+00     1.100285e-08\n",
      " * time: 1.5425100326538086\n"
     ]
    }
   ],
   "cell_type": "code",
   "source": [
    "scfres_dm = direct_minimization(basis; tol=tol^2);"
   ],
   "metadata": {},
   "execution_count": 4
  },
  {
   "cell_type": "markdown",
   "source": [
    "## Newton algorithm"
   ],
   "metadata": {}
  },
  {
   "cell_type": "markdown",
   "source": [
    "Start not too far from the solution to ensure convergence:\n",
    "We run first a very crude SCF to get close and then switch to Newton."
   ],
   "metadata": {}
  },
  {
   "outputs": [
    {
     "name": "stdout",
     "output_type": "stream",
     "text": [
      "n     Energy            log10(ΔE)   log10(Δρ)   Diag   Δtime\n",
      "---   ---------------   ---------   ---------   ----   ------\n",
      "  1   -7.846869406279                   -0.70    4.5         \n"
     ]
    }
   ],
   "cell_type": "code",
   "source": [
    "scfres_start = self_consistent_field(basis; tol=0.5);"
   ],
   "metadata": {},
   "execution_count": 5
  },
  {
   "cell_type": "markdown",
   "source": [
    "Remove the virtual orbitals (which Newton cannot treat yet)"
   ],
   "metadata": {}
  },
  {
   "outputs": [
    {
     "name": "stdout",
     "output_type": "stream",
     "text": [
      "n     Energy            log10(ΔE)   log10(Δρ)   Δtime\n",
      "---   ---------------   ---------   ---------   ------\n",
      "  1   -7.852645915911                   -1.64         \n",
      "  2   -7.852646686730       -6.11       -3.71    1.95s\n",
      "  3   -7.852646686730      -13.30       -7.25    175ms\n"
     ]
    }
   ],
   "cell_type": "code",
   "source": [
    "ψ = DFTK.select_occupied_orbitals(basis, scfres_start.ψ, scfres_start.occupation).ψ\n",
    "scfres_newton = newton(basis, ψ; tol);"
   ],
   "metadata": {},
   "execution_count": 6
  },
  {
   "cell_type": "markdown",
   "source": [
    "## Comparison of results"
   ],
   "metadata": {}
  },
  {
   "outputs": [
    {
     "name": "stdout",
     "output_type": "stream",
     "text": [
      "|ρ_newton - ρ_scf|  = 5.168585818704698e-7\n",
      "|ρ_newton - ρ_scfv| = 9.13546863533761e-8\n",
      "|ρ_newton - ρ_dm|   = 2.5771067077956973e-9\n"
     ]
    }
   ],
   "cell_type": "code",
   "source": [
    "println(\"|ρ_newton - ρ_scf|  = \", norm(scfres_newton.ρ - scfres_scf.ρ))\n",
    "println(\"|ρ_newton - ρ_scfv| = \", norm(scfres_newton.ρ - scfres_scfv.ρ))\n",
    "println(\"|ρ_newton - ρ_dm|   = \", norm(scfres_newton.ρ - scfres_dm.ρ))"
   ],
   "metadata": {},
   "execution_count": 7
  }
 ],
 "nbformat_minor": 3,
 "metadata": {
  "language_info": {
   "file_extension": ".jl",
   "mimetype": "application/julia",
   "name": "julia",
   "version": "1.9.0"
  },
  "kernelspec": {
   "name": "julia-1.9",
   "display_name": "Julia 1.9.0",
   "language": "julia"
  }
 },
 "nbformat": 4
}
