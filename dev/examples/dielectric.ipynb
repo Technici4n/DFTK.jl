{
 "cells": [
  {
   "cell_type": "markdown",
   "source": [
    "# Eigenvalues of the dielectric matrix\n",
    "\n",
    "We compute a few eigenvalues of the dielectric matrix ($q=0$, $ω=0$) iteratively."
   ],
   "metadata": {}
  },
  {
   "outputs": [
    {
     "name": "stdout",
     "output_type": "stream",
     "text": [
      "n     Energy            log10(ΔE)   log10(Δρ)   Diag   Δtime\n",
      "---   ---------------   ---------   ---------   ----   ------\n",
      "  1   -7.234883238735                   -0.50    7.0         \n",
      "  2   -7.250352587576       -1.81       -1.41    1.0   9.81ms\n",
      "  3   -7.251173811121       -3.09       -2.07    2.0   11.0ms\n",
      "  4   -7.251122717325   +   -4.29       -1.99    2.0   11.9ms\n",
      "  5   -7.251330560221       -3.68       -2.67    1.0   9.68ms\n",
      "  6   -7.251338334098       -5.11       -3.30    1.0   9.43ms\n",
      "  7   -7.251338712555       -6.42       -3.56    3.0   13.5ms\n",
      "  8   -7.251338783611       -7.15       -3.95    1.0   9.90ms\n",
      "  9   -7.251338795741       -7.92       -4.57    1.0   10.2ms\n",
      " 10   -7.251338798367       -8.58       -4.68    3.0   13.8ms\n",
      " 11   -7.251338798600       -9.63       -4.98    1.0   10.2ms\n",
      " 12   -7.251338798692      -10.04       -5.52    2.0   12.2ms\n",
      " 13   -7.251338798704      -10.95       -6.05    2.0   12.1ms\n",
      " 14   -7.251338798704      -12.13       -6.32    2.0   12.6ms\n",
      " 15   -7.251338798705      -12.77       -6.74    1.0   10.4ms\n",
      " 16   -7.251338798705      -13.67       -7.19    2.0   12.9ms\n",
      " 17   -7.251338798705      -14.15       -7.75    1.0   10.9ms\n",
      " 18   -7.251338798705      -14.45       -8.13    2.0   12.2ms\n"
     ]
    }
   ],
   "cell_type": "code",
   "source": [
    "using DFTK\n",
    "using Plots\n",
    "using KrylovKit\n",
    "using Printf\n",
    "\n",
    "# Calculation parameters\n",
    "kgrid = [1, 1, 1]\n",
    "Ecut = 5\n",
    "\n",
    "# Silicon lattice\n",
    "a = 10.26\n",
    "lattice = a / 2 .* [[0 1 1.]; [1 0 1.]; [1 1 0.]]\n",
    "Si = ElementPsp(:Si, psp=load_psp(\"hgh/lda/Si-q4\"))\n",
    "atoms     = [Si, Si]\n",
    "positions = [ones(3)/8, -ones(3)/8]\n",
    "\n",
    "# Compute the dielectric operator without symmetries\n",
    "model  = model_LDA(lattice, atoms, positions, symmetries=false)\n",
    "basis  = PlaneWaveBasis(model; Ecut, kgrid)\n",
    "scfres = self_consistent_field(basis, tol=1e-8);"
   ],
   "metadata": {},
   "execution_count": 1
  },
  {
   "cell_type": "markdown",
   "source": [
    "Applying $ε^† ≔ (1- χ_0 K)$ …"
   ],
   "metadata": {}
  },
  {
   "outputs": [],
   "cell_type": "code",
   "source": [
    "function eps_fun(δρ)\n",
    "    δV = apply_kernel(basis, δρ; ρ=scfres.ρ)\n",
    "    χ0δV = apply_χ0(scfres, δV)\n",
    "    δρ - χ0δV\n",
    "end;"
   ],
   "metadata": {},
   "execution_count": 2
  },
  {
   "cell_type": "markdown",
   "source": [
    "… eagerly diagonalizes the subspace matrix at each iteration"
   ],
   "metadata": {}
  },
  {
   "outputs": [
    {
     "name": "stdout",
     "output_type": "stream",
     "text": [
      "[ Info: Arnoldi iteration step 1: normres = 0.035572741334516336\n",
      "[ Info: Arnoldi iteration step 2: normres = 0.516352682394916\n",
      "[ Info: Arnoldi iteration step 3: normres = 0.3494784023311286\n",
      "[ Info: Arnoldi iteration step 4: normres = 1.0009113927748197\n",
      "[ Info: Arnoldi iteration step 5: normres = 0.4437273556986637\n",
      "[ Info: Arnoldi schursolve in iter 1, krylovdim = 5: 0 values converged, normres = (2.65e-01, 7.94e-02, 2.49e-01, 2.41e-01, 2.06e-02)\n",
      "[ Info: Arnoldi iteration step 6: normres = 0.4223661686637928\n",
      "[ Info: Arnoldi schursolve in iter 1, krylovdim = 6: 0 values converged, normres = (9.98e-02, 1.62e-01, 3.53e-01, 8.91e-02, 6.27e-02)\n",
      "[ Info: Arnoldi iteration step 7: normres = 0.08315938489172774\n",
      "[ Info: Arnoldi schursolve in iter 1, krylovdim = 7: 0 values converged, normres = (4.34e-03, 2.14e-02, 1.73e-02, 2.99e-02, 6.45e-02)\n",
      "[ Info: Arnoldi iteration step 8: normres = 0.11870490046203669\n",
      "[ Info: Arnoldi schursolve in iter 1, krylovdim = 8: 0 values converged, normres = (2.24e-04, 1.82e-03, 1.65e-03, 1.22e-02, 6.52e-02)\n",
      "[ Info: Arnoldi iteration step 9: normres = 0.07164964235859769\n",
      "[ Info: Arnoldi schursolve in iter 1, krylovdim = 9: 0 values converged, normres = (6.95e-06, 9.30e-05, 9.39e-05, 3.19e-03, 3.59e-02)\n",
      "[ Info: Arnoldi iteration step 10: normres = 0.08235034931109475\n",
      "[ Info: Arnoldi schursolve in iter 1, krylovdim = 10: 0 values converged, normres = (2.51e-07, 5.59e-06, 6.28e-06, 9.88e-04, 2.37e-02)\n",
      "[ Info: Arnoldi iteration step 11: normres = 0.0918261227372231\n",
      "[ Info: Arnoldi schursolve in iter 1, krylovdim = 11: 0 values converged, normres = (9.85e-09, 3.58e-07, 4.46e-07, 2.77e-04, 1.33e-02)\n",
      "[ Info: Arnoldi iteration step 12: normres = 0.06947721040931035\n",
      "[ Info: Arnoldi schursolve in iter 1, krylovdim = 12: 0 values converged, normres = (2.97e-10, 1.79e-08, 2.47e-08, 6.60e-05, 7.33e-03)\n",
      "[ Info: Arnoldi iteration step 13: normres = 0.08544521619328636\n",
      "[ Info: Arnoldi schursolve in iter 1, krylovdim = 13: 0 values converged, normres = (1.08e-11, 1.06e-09, 1.62e-09, 1.67e-05, 3.84e-03)\n",
      "[ Info: Arnoldi iteration step 14: normres = 0.4455343255562734\n",
      "[ Info: Arnoldi schursolve in iter 1, krylovdim = 14: 0 values converged, normres = (4.01e-12, 1.61e-09, 4.72e-09, 4.44e-01, 2.29e-03)\n",
      "[ Info: Arnoldi iteration step 15: normres = 0.14195429121320274\n",
      "[ Info: Arnoldi schursolve in iter 1, krylovdim = 15: 1 values converged, normres = (2.73e-13, 3.62e-10, 4.82e-02, 1.07e-03, 6.83e-06)\n",
      "[ Info: Arnoldi iteration step 16: normres = 0.22970371574953655\n",
      "[ Info: Arnoldi schursolve in iter 1, krylovdim = 16: 1 values converged, normres = (6.48e-14, 1.91e-09, 2.03e-01, 2.05e-02, 1.05e-01)\n",
      "[ Info: Arnoldi iteration step 17: normres = 0.03121355326082348\n",
      "[ Info: Arnoldi schursolve in iter 1, krylovdim = 17: 1 values converged, normres = (8.79e-16, 1.49e-07, 4.51e-03, 1.08e-05, 1.94e-03)\n",
      "[ Info: Arnoldi iteration step 18: normres = 0.020881298506340136\n",
      "[ Info: Arnoldi schursolve in iter 1, krylovdim = 18: 1 values converged, normres = (7.61e-18, 6.26e-05, 2.18e-06, 7.25e-07, 2.97e-05)\n",
      "[ Info: Arnoldi iteration step 19: normres = 0.0797715977566241\n",
      "[ Info: Arnoldi schursolve in iter 1, krylovdim = 19: 1 values converged, normres = (2.52e-19, 1.17e-08, 3.33e-06, 1.74e-06, 1.43e-07)\n",
      "[ Info: Arnoldi iteration step 20: normres = 0.1578444542503773\n",
      "[ Info: Arnoldi schursolve in iter 1, krylovdim = 20: 1 values converged, normres = (1.91e-20, 3.48e-07, 2.79e-07, 1.11e-07, 2.41e-07)\n",
      "[ Info: Arnoldi iteration step 21: normres = 0.02555926759960672\n",
      "[ Info: Arnoldi schursolve in iter 1, krylovdim = 21: 1 values converged, normres = (2.10e-22, 5.11e-09, 6.30e-09, 3.85e-09, 3.73e-09)\n",
      "[ Info: Arnoldi iteration step 22: normres = 0.047706934898552544\n",
      "[ Info: Arnoldi schursolve in iter 1, krylovdim = 22: 1 values converged, normres = (4.12e-24, 1.44e-10, 2.08e-10, 1.37e-10, 1.23e-10)\n",
      "[ Info: Arnoldi iteration step 23: normres = 0.4433057963263737\n",
      "[ Info: Arnoldi schursolve in iter 1, krylovdim = 23: 1 values converged, normres = (1.54e-24, 2.35e-10, 3.23e-10, 4.27e-10, 3.91e-10)\n",
      "[ Info: Arnoldi iteration step 24: normres = 0.015014239871489551\n",
      "[ Info: Arnoldi schursolve in iter 1, krylovdim = 24: 1 values converged, normres = (1.07e-26, 4.51e-12, 6.43e-12, 1.97e-03, 1.03e-03)\n",
      "[ Info: Arnoldi iteration step 25: normres = 0.04899720088937828\n",
      "[ Info: Arnoldi schursolve in iter 1, krylovdim = 25: 3 values converged, normres = (2.16e-28, 1.44e-13, 2.06e-13, 1.89e-09, 1.66e-09)\n",
      "[ Info: Arnoldi iteration step 26: normres = 0.07671897949554356\n",
      "[ Info: Arnoldi schursolve in iter 1, krylovdim = 26: 3 values converged, normres = (7.38e-30, 8.31e-15, 1.19e-14, 2.17e-08, 3.07e-08)\n",
      "[ Info: Arnoldi iteration step 27: normres = 0.062030876780616244\n",
      "[ Info: Arnoldi schursolve in iter 1, krylovdim = 27: 3 values converged, normres = (1.91e-31, 3.47e-16, 4.95e-16, 4.88e-07, 1.56e-07)\n",
      "[ Info: Arnoldi iteration step 28: normres = 0.052317931076187846\n",
      "[ Info: Arnoldi schursolve in iter 1, krylovdim = 28: 3 values converged, normres = (4.43e-33, 1.35e-17, 1.92e-17, 8.68e-09, 2.06e-08)\n",
      "[ Info: Arnoldi iteration step 29: normres = 0.016630359607468313\n",
      "[ Info: Arnoldi schursolve in iter 1, krylovdim = 29: 3 values converged, normres = (3.04e-35, 1.47e-19, 2.10e-19, 4.59e-11, 2.67e-10)\n",
      "[ Info: Arnoldi iteration step 30: normres = 0.13180477023352571\n",
      "[ Info: Arnoldi schursolve in iter 1, krylovdim = 30: 3 values converged, normres = (1.72e-36, 1.36e-20, 1.94e-20, 4.71e-12, 2.73e-11)\n",
      "[ Info: Arnoldi schursolve in iter 2, krylovdim = 19: 3 values converged, normres = (1.72e-36, 1.36e-20, 1.94e-20, 4.71e-12, 2.73e-11)\n",
      "[ Info: Arnoldi iteration step 20: normres = 0.16695732632245336\n",
      "[ Info: Arnoldi schursolve in iter 2, krylovdim = 20: 4 values converged, normres = (1.34e-37, 1.85e-21, 2.65e-21, 7.24e-13, 4.20e-12)\n",
      "[ Info: Arnoldi iteration step 21: normres = 0.03924065756308243\n",
      "┌ Info: Arnoldi eigsolve finished after 2 iterations:\n",
      "│ *  6 eigenvalues converged\n",
      "│ *  norm of residuals = (2.350472905017533e-39, 5.496289269809201e-23, 8.255195043806708e-23, 2.403712048280478e-14, 1.3272166531412677e-13, 1.1366182069514468e-14)\n",
      "└ *  number of operations = 32\n"
     ]
    }
   ],
   "cell_type": "code",
   "source": [
    "eigsolve(eps_fun, randn(size(scfres.ρ)), 5, :LM; eager=true, verbosity=3);"
   ],
   "metadata": {},
   "execution_count": 3
  }
 ],
 "nbformat_minor": 3,
 "metadata": {
  "language_info": {
   "file_extension": ".jl",
   "mimetype": "application/julia",
   "name": "julia",
   "version": "1.9.2"
  },
  "kernelspec": {
   "name": "julia-1.9",
   "display_name": "Julia 1.9.2",
   "language": "julia"
  }
 },
 "nbformat": 4
}
