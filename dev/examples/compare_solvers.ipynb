{
 "cells": [
  {
   "cell_type": "markdown",
   "source": [
    "# Comparison of DFT solvers"
   ],
   "metadata": {}
  },
  {
   "cell_type": "markdown",
   "source": [
    "We compare four different approaches for solving the DFT minimisation problem,\n",
    "namely a density-based SCF, a potential-based SCF, direct minimisation and Newton."
   ],
   "metadata": {}
  },
  {
   "cell_type": "markdown",
   "source": [
    "First we setup our problem"
   ],
   "metadata": {}
  },
  {
   "outputs": [],
   "cell_type": "code",
   "source": [
    "using DFTK\n",
    "using LinearAlgebra\n",
    "\n",
    "a = 10.26  # Silicon lattice constant in Bohr\n",
    "lattice = a / 2 * [[0 1 1.];\n",
    "                   [1 0 1.];\n",
    "                   [1 1 0.]]\n",
    "Si = ElementPsp(:Si, psp=load_psp(\"hgh/lda/Si-q4\"))\n",
    "atoms     = [Si, Si]\n",
    "positions = [ones(3)/8, -ones(3)/8]\n",
    "\n",
    "model = model_LDA(lattice, atoms, positions)\n",
    "basis = PlaneWaveBasis(model; Ecut=5, kgrid=[3, 3, 3])\n",
    "\n",
    "# Convergence we desire\n",
    "tol = 1e-12\n",
    "is_converged = DFTK.ScfConvergenceDensity(tol);"
   ],
   "metadata": {},
   "execution_count": 1
  },
  {
   "cell_type": "markdown",
   "source": [
    "## Density-based self-consistent field"
   ],
   "metadata": {}
  },
  {
   "outputs": [
    {
     "name": "stdout",
     "output_type": "stream",
     "text": [
      "n     Energy            log10(ΔE)   log10(Δρ)   Diag\n",
      "---   ---------------   ---------   ---------   ----\n",
      "  1   -7.846830353910                   -0.70    4.8\n",
      "  2   -7.852313988077       -2.26       -1.53    1.0\n",
      "  3   -7.852646157169       -3.48       -2.52    3.0\n",
      "  4   -7.852646676178       -6.28       -3.35    2.5\n",
      "  5   -7.852646685884       -8.01       -4.74    1.5\n",
      "  6   -7.852646686724       -9.08       -5.23    3.5\n",
      "  7   -7.852646686730      -11.27       -6.05    1.0\n",
      "  8   -7.852646686730      -12.50       -7.34    3.0\n",
      "  9   -7.852646686730   +  -15.05       -7.55    2.5\n",
      " 10   -7.852646686730      -15.05       -8.52    2.0\n",
      " 11   -7.852646686730      -14.45       -9.07    2.2\n",
      " 12   -7.852646686730   +  -14.75      -10.02    1.8\n",
      " 13   -7.852646686730   +    -Inf      -10.82    2.8\n",
      " 14   -7.852646686730   +  -14.45      -11.03    1.0\n",
      " 15   -7.852646686730      -14.75      -12.34    1.8\n"
     ]
    }
   ],
   "cell_type": "code",
   "source": [
    "scfres_scf = self_consistent_field(basis; is_converged);"
   ],
   "metadata": {},
   "execution_count": 2
  },
  {
   "cell_type": "markdown",
   "source": [
    "## Potential-based SCF"
   ],
   "metadata": {}
  },
  {
   "outputs": [
    {
     "name": "stdout",
     "output_type": "stream",
     "text": [
      "n     Energy            log10(ΔE)   log10(Δρ)   α      Diag\n",
      "---   ---------------   ---------   ---------   ----   ----\n",
      "  1   -7.846791221301                   -0.70           4.5\n",
      "  2   -7.852552419987       -2.24       -1.63   0.80    2.2\n",
      "  3   -7.852640037770       -4.06       -2.72   0.80    1.0\n",
      "  4   -7.852646498475       -5.19       -3.39   0.80    1.8\n",
      "  5   -7.852646683305       -6.73       -4.31   0.80    2.0\n",
      "  6   -7.852646686599       -8.48       -4.91   0.80    2.0\n",
      "  7   -7.852646686719       -9.92       -5.80   0.80    1.5\n",
      "  8   -7.852646686730      -10.98       -6.32   0.80    2.5\n",
      "  9   -7.852646686730      -13.02       -7.26   0.80    1.0\n",
      " 10   -7.852646686730      -13.97       -7.57   0.80    2.2\n",
      " 11   -7.852646686730      -14.45       -8.69   0.80    1.2\n",
      " 12   -7.852646686730   +    -Inf       -9.30   0.80    2.2\n",
      " 13   -7.852646686730   +    -Inf       -9.96   0.80    1.8\n",
      " 14   -7.852646686730   +  -14.75      -11.25   0.80    1.5\n",
      " 15   -7.852646686730      -14.27      -11.53   0.80    2.8\n",
      " 16   -7.852646686730   +  -14.45      -12.41   0.80    1.0\n"
     ]
    }
   ],
   "cell_type": "code",
   "source": [
    "scfres_scfv = DFTK.scf_potential_mixing(basis; is_converged);"
   ],
   "metadata": {},
   "execution_count": 3
  },
  {
   "cell_type": "markdown",
   "source": [
    "## Direct minimization"
   ],
   "metadata": {}
  },
  {
   "outputs": [
    {
     "name": "stdout",
     "output_type": "stream",
     "text": [
      "Iter     Function value   Gradient norm \n",
      "     0     1.368744e+01     3.314661e+00\n",
      " * time: 0.3522648811340332\n",
      "     1     8.739886e-01     2.084213e+00\n",
      " * time: 0.5442209243774414\n",
      "     2    -1.649596e+00     2.482197e+00\n",
      " * time: 0.5656239986419678\n",
      "     3    -3.627294e+00     1.851537e+00\n",
      " * time: 0.5966458320617676\n",
      "     4    -4.763604e+00     1.624632e+00\n",
      " * time: 0.6276838779449463\n",
      "     5    -6.589874e+00     1.093612e+00\n",
      " * time: 0.6602458953857422\n",
      "     6    -7.367496e+00     5.728853e-01\n",
      " * time: 0.6918418407440186\n",
      "     7    -7.661178e+00     1.546498e-01\n",
      " * time: 0.7136399745941162\n",
      "     8    -7.755698e+00     1.109593e-01\n",
      " * time: 0.73590087890625\n",
      "     9    -7.804360e+00     7.468496e-02\n",
      " * time: 0.7571179866790771\n",
      "    10    -7.827254e+00     6.024873e-02\n",
      " * time: 0.7784547805786133\n",
      "    11    -7.842160e+00     5.460403e-02\n",
      " * time: 0.8010118007659912\n",
      "    12    -7.847950e+00     3.479827e-02\n",
      " * time: 0.8229429721832275\n",
      "    13    -7.850656e+00     1.676373e-02\n",
      " * time: 0.8453888893127441\n",
      "    14    -7.851956e+00     1.063666e-02\n",
      " * time: 0.8673439025878906\n",
      "    15    -7.852410e+00     6.637430e-03\n",
      " * time: 0.8887019157409668\n",
      "    16    -7.852584e+00     3.659469e-03\n",
      " * time: 0.9101338386535645\n",
      "    17    -7.852630e+00     2.339420e-03\n",
      " * time: 0.9314498901367188\n",
      "    18    -7.852642e+00     1.233430e-03\n",
      " * time: 0.9528708457946777\n",
      "    19    -7.852645e+00     7.571287e-04\n",
      " * time: 0.9746618270874023\n",
      "    20    -7.852646e+00     4.250511e-04\n",
      " * time: 0.9959948062896729\n",
      "    21    -7.852646e+00     2.703674e-04\n",
      " * time: 1.017474889755249\n",
      "    22    -7.852647e+00     1.603877e-04\n",
      " * time: 1.0394008159637451\n",
      "    23    -7.852647e+00     9.951543e-05\n",
      " * time: 1.0610458850860596\n",
      "    24    -7.852647e+00     7.229943e-05\n",
      " * time: 1.0827670097351074\n",
      "    25    -7.852647e+00     3.615964e-05\n",
      " * time: 1.1046199798583984\n",
      "    26    -7.852647e+00     2.336252e-05\n",
      " * time: 1.1263318061828613\n",
      "    27    -7.852647e+00     1.322543e-05\n",
      " * time: 1.1478397846221924\n",
      "    28    -7.852647e+00     7.024320e-06\n",
      " * time: 1.1695377826690674\n",
      "    29    -7.852647e+00     4.842785e-06\n",
      " * time: 1.191300868988037\n",
      "    30    -7.852647e+00     2.835190e-06\n",
      " * time: 1.2128779888153076\n",
      "    31    -7.852647e+00     2.214498e-06\n",
      " * time: 1.2347979545593262\n",
      "    32    -7.852647e+00     7.738826e-07\n",
      " * time: 1.2561368942260742\n",
      "    33    -7.852647e+00     3.720895e-07\n",
      " * time: 1.2774078845977783\n",
      "    34    -7.852647e+00     2.905559e-07\n",
      " * time: 1.298691987991333\n",
      "    35    -7.852647e+00     1.456986e-07\n",
      " * time: 1.3201789855957031\n",
      "    36    -7.852647e+00     6.419391e-08\n",
      " * time: 1.341911792755127\n",
      "    37    -7.852647e+00     3.952410e-08\n",
      " * time: 1.4146268367767334\n",
      "    38    -7.852647e+00     3.350587e-08\n",
      " * time: 1.436244010925293\n",
      "    39    -7.852647e+00     2.270445e-08\n",
      " * time: 1.457974910736084\n",
      "    40    -7.852647e+00     1.070597e-08\n",
      " * time: 1.480043888092041\n",
      "    41    -7.852647e+00     9.846578e-09\n",
      " * time: 1.5209949016571045\n",
      "    42    -7.852647e+00     4.928511e-09\n",
      " * time: 1.5428268909454346\n"
     ]
    }
   ],
   "cell_type": "code",
   "source": [
    "scfres_dm = direct_minimization(basis; tol);"
   ],
   "metadata": {},
   "execution_count": 4
  },
  {
   "cell_type": "markdown",
   "source": [
    "## Newton algorithm"
   ],
   "metadata": {}
  },
  {
   "cell_type": "markdown",
   "source": [
    "Start not too far from the solution to ensure convergence:\n",
    "We run first a very crude SCF to get close and then switch to Newton."
   ],
   "metadata": {}
  },
  {
   "outputs": [
    {
     "name": "stdout",
     "output_type": "stream",
     "text": [
      "n     Energy            log10(ΔE)   log10(Δρ)   Diag\n",
      "---   ---------------   ---------   ---------   ----\n",
      "  1   -7.846787289191                   -0.70    4.2\n",
      "  2   -7.852282259302       -2.26       -1.53    1.0\n"
     ]
    }
   ],
   "cell_type": "code",
   "source": [
    "scfres_start = self_consistent_field(basis; tol=1e-1);"
   ],
   "metadata": {},
   "execution_count": 5
  },
  {
   "cell_type": "markdown",
   "source": [
    "Remove the virtual orbitals (which Newton cannot treat yet)"
   ],
   "metadata": {}
  },
  {
   "outputs": [
    {
     "name": "stdout",
     "output_type": "stream",
     "text": [
      "n     Energy            log10(ΔE)   log10(Δρ)\n",
      "---   ---------------   ---------   ---------\n",
      "  1   -7.852646685753                   -2.54\n",
      "  2   -7.852646686730       -9.01       -5.52\n",
      "  3   -7.852646686730      -14.75      -10.20\n",
      "  4   -7.852646686730   +  -14.75      -15.40\n"
     ]
    }
   ],
   "cell_type": "code",
   "source": [
    "ψ, _ = DFTK.select_occupied_orbitals(basis, scfres_start.ψ, scfres_start.occupation)\n",
    "scfres_newton = newton(basis, ψ; tol);"
   ],
   "metadata": {},
   "execution_count": 6
  },
  {
   "cell_type": "markdown",
   "source": [
    "## Comparison of results"
   ],
   "metadata": {}
  },
  {
   "outputs": [
    {
     "name": "stdout",
     "output_type": "stream",
     "text": [
      "|ρ_newton - ρ_scf|  = 3.065528023912874e-13\n",
      "|ρ_newton - ρ_scfv| = 7.922038055545094e-13\n",
      "|ρ_newton - ρ_dm|   = 2.620329871897311e-10\n"
     ]
    }
   ],
   "cell_type": "code",
   "source": [
    "println(\"|ρ_newton - ρ_scf|  = \", norm(scfres_newton.ρ - scfres_scf.ρ))\n",
    "println(\"|ρ_newton - ρ_scfv| = \", norm(scfres_newton.ρ - scfres_scfv.ρ))\n",
    "println(\"|ρ_newton - ρ_dm|   = \", norm(scfres_newton.ρ - scfres_dm.ρ))"
   ],
   "metadata": {},
   "execution_count": 7
  }
 ],
 "nbformat_minor": 3,
 "metadata": {
  "language_info": {
   "file_extension": ".jl",
   "mimetype": "application/julia",
   "name": "julia",
   "version": "1.8.2"
  },
  "kernelspec": {
   "name": "julia-1.8",
   "display_name": "Julia 1.8.2",
   "language": "julia"
  }
 },
 "nbformat": 4
}
