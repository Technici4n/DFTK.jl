{
 "cells": [
  {
   "cell_type": "markdown",
   "source": [
    "# Eigenvalues of the dielectric matrix\n",
    "\n",
    "We compute a few eigenvalues of the dielectric matrix ($q=0$, $ω=0$) iteratively."
   ],
   "metadata": {}
  },
  {
   "outputs": [
    {
     "name": "stdout",
     "output_type": "stream",
     "text": [
      "n     Energy            log10(ΔE)   log10(Δρ)   Diag   Δtime\n",
      "---   ---------------   ---------   ---------   ----   ------\n",
      "  1   -7.233502745491                   -0.50    7.0         \n",
      "  2   -7.249451642861       -1.80       -1.38    1.0   7.97ms\n",
      "  3   -7.250712019136       -2.90       -1.71    2.0   9.79ms\n",
      "  4   -7.251018138647       -3.51       -1.89    1.0   7.92ms\n",
      "  5   -7.251315275530       -3.53       -2.47    1.0   7.96ms\n",
      "  6   -7.251337395059       -4.66       -3.07    1.0   7.90ms\n",
      "  7   -7.251338671783       -5.89       -3.40    2.0   10.2ms\n",
      "  8   -7.251338775028       -6.99       -3.82    1.0   8.18ms\n",
      "  9   -7.251338793367       -7.74       -4.17    2.0   9.74ms\n",
      " 10   -7.251338797967       -8.34       -4.69    1.0   8.48ms\n",
      " 11   -7.251338798633       -9.18       -5.15    2.0   10.3ms\n",
      " 12   -7.251338798701      -10.17       -5.75    2.0   9.93ms\n",
      " 13   -7.251338798704      -11.48       -6.15    2.0   10.0ms\n",
      " 14   -7.251338798704      -12.34       -6.67    2.0   9.73ms\n",
      " 15   -7.251338798705      -13.18       -7.20    2.0   10.0ms\n",
      " 16   -7.251338798705      -14.27       -7.84    2.0   10.0ms\n",
      " 17   -7.251338798705   +    -Inf       -7.92    2.0   10.4ms\n",
      " 18   -7.251338798705   +  -15.05       -8.71    1.0   8.44ms\n"
     ]
    }
   ],
   "cell_type": "code",
   "source": [
    "using DFTK\n",
    "using Plots\n",
    "using KrylovKit\n",
    "using Printf\n",
    "\n",
    "# Calculation parameters\n",
    "kgrid = [1, 1, 1]\n",
    "Ecut = 5\n",
    "\n",
    "# Silicon lattice\n",
    "a = 10.26\n",
    "lattice = a / 2 .* [[0 1 1.]; [1 0 1.]; [1 1 0.]]\n",
    "Si = ElementPsp(:Si, psp=load_psp(\"hgh/lda/Si-q4\"))\n",
    "atoms     = [Si, Si]\n",
    "positions = [ones(3)/8, -ones(3)/8]\n",
    "\n",
    "# Compute the dielectric operator without symmetries\n",
    "model  = model_LDA(lattice, atoms, positions, symmetries=false)\n",
    "basis  = PlaneWaveBasis(model; Ecut, kgrid)\n",
    "scfres = self_consistent_field(basis, tol=1e-8);"
   ],
   "metadata": {},
   "execution_count": 1
  },
  {
   "cell_type": "markdown",
   "source": [
    "Applying $ε^† ≔ (1- χ_0 K)$ …"
   ],
   "metadata": {}
  },
  {
   "outputs": [],
   "cell_type": "code",
   "source": [
    "function eps_fun(δρ)\n",
    "    δV = apply_kernel(basis, δρ; ρ=scfres.ρ)\n",
    "    χ0δV = apply_χ0(scfres, δV)\n",
    "    δρ - χ0δV\n",
    "end;"
   ],
   "metadata": {},
   "execution_count": 2
  },
  {
   "cell_type": "markdown",
   "source": [
    "… eagerly diagonalizes the subspace matrix at each iteration"
   ],
   "metadata": {}
  },
  {
   "outputs": [
    {
     "name": "stdout",
     "output_type": "stream",
     "text": [
      "[ Info: Arnoldi iteration step 1: normres = 0.053540097616857046\n",
      "[ Info: Arnoldi iteration step 2: normres = 0.5928098747133606\n",
      "[ Info: Arnoldi iteration step 3: normres = 0.865043596988595\n",
      "[ Info: Arnoldi iteration step 4: normres = 0.2530994291736357\n",
      "[ Info: Arnoldi iteration step 5: normres = 0.5621051794522524\n",
      "[ Info: Arnoldi schursolve in iter 1, krylovdim = 5: 0 values converged, normres = (3.01e-02, 8.19e-02, 4.87e-01, 2.66e-01, 1.23e-02)\n",
      "[ Info: Arnoldi iteration step 6: normres = 0.2376813732706695\n",
      "[ Info: Arnoldi schursolve in iter 1, krylovdim = 6: 0 values converged, normres = (5.96e-03, 1.11e-01, 1.70e-01, 8.96e-02, 3.18e-02)\n",
      "[ Info: Arnoldi iteration step 7: normres = 0.1091325015497849\n",
      "[ Info: Arnoldi schursolve in iter 1, krylovdim = 7: 0 values converged, normres = (3.18e-04, 1.22e-02, 1.58e-02, 6.55e-02, 7.91e-02)\n",
      "[ Info: Arnoldi iteration step 8: normres = 0.10683636723068957\n",
      "[ Info: Arnoldi schursolve in iter 1, krylovdim = 8: 0 values converged, normres = (1.47e-05, 9.27e-04, 1.33e-03, 2.33e-02, 4.19e-02)\n",
      "[ Info: Arnoldi iteration step 9: normres = 0.07280992386290547\n",
      "[ Info: Arnoldi schursolve in iter 1, krylovdim = 9: 0 values converged, normres = (4.67e-07, 4.89e-05, 7.81e-05, 6.39e-03, 2.68e-02)\n",
      "[ Info: Arnoldi iteration step 10: normres = 0.09183448703840248\n",
      "[ Info: Arnoldi schursolve in iter 1, krylovdim = 10: 0 values converged, normres = (1.85e-08, 3.18e-06, 5.64e-06, 1.90e-03, 1.60e-02)\n",
      "[ Info: Arnoldi iteration step 11: normres = 0.07242681318890841\n",
      "[ Info: Arnoldi schursolve in iter 1, krylovdim = 11: 0 values converged, normres = (5.79e-10, 1.64e-07, 3.24e-07, 4.63e-04, 8.95e-03)\n",
      "[ Info: Arnoldi iteration step 12: normres = 0.07138151912562697\n",
      "[ Info: Arnoldi schursolve in iter 1, krylovdim = 12: 0 values converged, normres = (1.75e-11, 8.04e-09, 1.75e-08, 9.27e-05, 3.32e-03)\n",
      "[ Info: Arnoldi iteration step 13: normres = 0.057577259630403645\n",
      "[ Info: Arnoldi schursolve in iter 1, krylovdim = 13: 1 values converged, normres = (4.35e-13, 3.29e-10, 7.98e-10, 1.74e-05, 1.30e-03)\n",
      "[ Info: Arnoldi iteration step 14: normres = 0.7214476666196303\n",
      "[ Info: Arnoldi schursolve in iter 1, krylovdim = 14: 1 values converged, normres = (2.01e-13, 3.65e-10, 1.12e-09, 7.18e-01, 3.43e-02)\n",
      "[ Info: Arnoldi iteration step 15: normres = 0.09415044506984392\n",
      "[ Info: Arnoldi schursolve in iter 1, krylovdim = 15: 1 values converged, normres = (1.31e-14, 5.66e-10, 6.03e-02, 1.43e-04, 1.98e-05)\n",
      "[ Info: Arnoldi iteration step 16: normres = 0.5421834804766263\n",
      "[ Info: Arnoldi schursolve in iter 1, krylovdim = 16: 1 values converged, normres = (5.53e-15, 1.22e-09, 8.96e-02, 7.50e-04, 5.31e-01)\n",
      "[ Info: Arnoldi iteration step 17: normres = 0.031613097286873594\n",
      "[ Info: Arnoldi schursolve in iter 1, krylovdim = 17: 1 values converged, normres = (9.12e-17, 5.10e-03, 1.92e-03, 1.23e-02, 2.22e-03)\n",
      "[ Info: Arnoldi iteration step 18: normres = 0.02095454272029103\n",
      "[ Info: Arnoldi schursolve in iter 1, krylovdim = 18: 1 values converged, normres = (7.85e-19, 6.41e-05, 3.80e-05, 1.89e-04, 7.44e-06)\n",
      "[ Info: Arnoldi iteration step 19: normres = 0.22289212177021442\n",
      "[ Info: Arnoldi schursolve in iter 1, krylovdim = 19: 1 values converged, normres = (7.80e-20, 2.06e-08, 1.24e-05, 3.90e-08, 3.53e-05)\n",
      "[ Info: Arnoldi iteration step 20: normres = 0.02900857606485618\n",
      "[ Info: Arnoldi schursolve in iter 1, krylovdim = 20: 1 values converged, normres = (1.04e-21, 2.68e-07, 1.06e-07, 1.23e-08, 9.25e-07)\n",
      "[ Info: Arnoldi iteration step 21: normres = 0.03727292278675203\n",
      "[ Info: Arnoldi schursolve in iter 1, krylovdim = 21: 1 values converged, normres = (1.61e-23, 2.68e-09, 6.64e-09, 1.04e-08, 2.31e-08)\n",
      "[ Info: Arnoldi iteration step 22: normres = 0.057658346285699096\n",
      "[ Info: Arnoldi schursolve in iter 1, krylovdim = 22: 1 values converged, normres = (3.86e-25, 1.10e-10, 2.52e-10, 4.15e-10, 9.86e-10)\n",
      "[ Info: Arnoldi iteration step 23: normres = 0.39281101204401786\n",
      "[ Info: Arnoldi schursolve in iter 1, krylovdim = 23: 1 values converged, normres = (1.30e-25, 1.69e-10, 3.84e-10, 1.48e-09, 3.26e-09)\n",
      "[ Info: Arnoldi iteration step 24: normres = 0.014171055871233865\n",
      "[ Info: Arnoldi schursolve in iter 1, krylovdim = 24: 1 values converged, normres = (8.39e-28, 2.84e-12, 6.54e-12, 2.24e-03, 3.45e-03)\n",
      "[ Info: Arnoldi iteration step 25: normres = 0.06088088196647585\n",
      "[ Info: Arnoldi schursolve in iter 1, krylovdim = 25: 3 values converged, normres = (2.11e-29, 1.14e-13, 2.63e-13, 1.84e-08, 2.72e-08)\n",
      "[ Info: Arnoldi iteration step 26: normres = 0.047093061096145264\n",
      "[ Info: Arnoldi schursolve in iter 1, krylovdim = 26: 3 values converged, normres = (4.49e-31, 4.12e-15, 9.47e-15, 6.46e-06, 3.50e-06)\n",
      "[ Info: Arnoldi iteration step 27: normres = 0.02603263885270661\n",
      "[ Info: Arnoldi schursolve in iter 1, krylovdim = 27: 3 values converged, normres = (4.81e-33, 7.03e-17, 1.62e-16, 1.16e-07, 4.52e-08)\n",
      "[ Info: Arnoldi iteration step 28: normres = 0.10389351551615973\n",
      "[ Info: Arnoldi schursolve in iter 1, krylovdim = 28: 3 values converged, normres = (2.16e-34, 5.21e-18, 1.20e-17, 4.90e-09, 1.02e-08)\n",
      "[ Info: Arnoldi iteration step 29: normres = 0.032056637186030926\n",
      "[ Info: Arnoldi schursolve in iter 1, krylovdim = 29: 3 values converged, normres = (2.93e-36, 1.15e-19, 2.63e-19, 2.55e-10, 6.70e-11)\n",
      "[ Info: Arnoldi iteration step 30: normres = 0.17829495345444996\n",
      "[ Info: Arnoldi schursolve in iter 1, krylovdim = 30: 3 values converged, normres = (2.51e-37, 1.74e-20, 3.99e-20, 4.41e-11, 1.09e-11)\n",
      "[ Info: Arnoldi schursolve in iter 2, krylovdim = 19: 3 values converged, normres = (2.51e-37, 1.74e-20, 3.99e-20, 4.41e-11, 1.09e-11)\n",
      "[ Info: Arnoldi iteration step 20: normres = 0.04379641566830621\n",
      "[ Info: Arnoldi schursolve in iter 2, krylovdim = 20: 3 values converged, normres = (4.71e-39, 5.37e-22, 1.23e-21, 1.52e-12, 3.80e-13)\n",
      "[ Info: Arnoldi iteration step 21: normres = 0.0631089148011187\n",
      "┌ Info: Arnoldi eigsolve finished after 2 iterations:\n",
      "│ *  6 eigenvalues converged\n",
      "│ *  norm of residuals = (1.2748629350354704e-40, 2.3823157879132328e-23, 4.952353716769064e-23, 7.453008224884696e-14, 3.4477747342580756e-14, 5.206246193850892e-14)\n",
      "└ *  number of operations = 32\n"
     ]
    }
   ],
   "cell_type": "code",
   "source": [
    "eigsolve(eps_fun, randn(size(scfres.ρ)), 5, :LM; eager=true, verbosity=3);"
   ],
   "metadata": {},
   "execution_count": 3
  }
 ],
 "nbformat_minor": 3,
 "metadata": {
  "language_info": {
   "file_extension": ".jl",
   "mimetype": "application/julia",
   "name": "julia",
   "version": "1.9.2"
  },
  "kernelspec": {
   "name": "julia-1.9",
   "display_name": "Julia 1.9.2",
   "language": "julia"
  }
 },
 "nbformat": 4
}
