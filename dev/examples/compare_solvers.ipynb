{
 "cells": [
  {
   "cell_type": "markdown",
   "source": [
    "# Comparison of DFT solvers"
   ],
   "metadata": {}
  },
  {
   "cell_type": "markdown",
   "source": [
    "We compare four different approaches for solving the DFT minimisation problem,\n",
    "namely a density-based SCF, a potential-based SCF, direct minimisation and Newton."
   ],
   "metadata": {}
  },
  {
   "cell_type": "markdown",
   "source": [
    "First we setup our problem"
   ],
   "metadata": {}
  },
  {
   "outputs": [
    {
     "output_type": "execute_result",
     "data": {
      "text/plain": "1.0e-6"
     },
     "metadata": {},
     "execution_count": 1
    }
   ],
   "cell_type": "code",
   "source": [
    "using DFTK\n",
    "using LinearAlgebra\n",
    "\n",
    "a = 10.26  # Silicon lattice constant in Bohr\n",
    "lattice = a / 2 * [[0 1 1.];\n",
    "                   [1 0 1.];\n",
    "                   [1 1 0.]]\n",
    "Si = ElementPsp(:Si, psp=load_psp(\"hgh/lda/Si-q4\"))\n",
    "atoms     = [Si, Si]\n",
    "positions = [ones(3)/8, -ones(3)/8]\n",
    "\n",
    "model = model_LDA(lattice, atoms, positions)\n",
    "basis = PlaneWaveBasis(model; Ecut=5, kgrid=[3, 3, 3])\n",
    "\n",
    "# Convergence we desire in the density\n",
    "tol = 1e-6"
   ],
   "metadata": {},
   "execution_count": 1
  },
  {
   "cell_type": "markdown",
   "source": [
    "## Density-based self-consistent field"
   ],
   "metadata": {}
  },
  {
   "outputs": [
    {
     "name": "stdout",
     "output_type": "stream",
     "text": [
      "n     Energy            log10(ΔE)   log10(Δρ)   Diag\n",
      "---   ---------------   ---------   ---------   ----\n",
      "  1   -7.846813336917                   -0.70    4.5\n",
      "  2   -7.852314567604       -2.26       -1.53    1.0\n",
      "  3   -7.852616546479       -3.52       -2.55    1.5\n",
      "  4   -7.852645904173       -4.53       -2.89    2.2\n",
      "  5   -7.852646511896       -6.22       -3.21    1.2\n",
      "  6   -7.852646677361       -6.78       -4.15    1.0\n",
      "  7   -7.852646686673       -8.03       -4.99    2.2\n",
      "  8   -7.852646686723      -10.30       -5.41    1.2\n",
      "  9   -7.852646686729      -11.26       -5.76    1.2\n",
      " 10   -7.852646686730      -11.96       -6.78    1.2\n"
     ]
    }
   ],
   "cell_type": "code",
   "source": [
    "scfres_scf = self_consistent_field(basis; tol);"
   ],
   "metadata": {},
   "execution_count": 2
  },
  {
   "cell_type": "markdown",
   "source": [
    "## Potential-based SCF"
   ],
   "metadata": {}
  },
  {
   "outputs": [
    {
     "name": "stdout",
     "output_type": "stream",
     "text": [
      "n     Energy            log10(ΔE)   log10(Δρ)   α      Diag\n",
      "---   ---------------   ---------   ---------   ----   ----\n",
      "  1   -7.846851324295                   -0.70           4.8\n",
      "  2   -7.852526116668       -2.25       -1.64   0.80    2.0\n",
      "  3   -7.852635742539       -3.96       -2.73   0.80    1.0\n",
      "  4   -7.852646518621       -4.97       -3.26   0.80    2.2\n",
      "  5   -7.852646674766       -6.81       -4.12   0.80    1.0\n",
      "  6   -7.852646686381       -7.94       -4.79   0.80    1.5\n",
      "  7   -7.852646686725       -9.46       -5.61   0.80    1.8\n",
      "  8   -7.852646686730      -11.30       -7.05   0.80    2.0\n"
     ]
    }
   ],
   "cell_type": "code",
   "source": [
    "scfres_scfv = DFTK.scf_potential_mixing(basis; tol);"
   ],
   "metadata": {},
   "execution_count": 3
  },
  {
   "cell_type": "markdown",
   "source": [
    "## Direct minimization\n",
    "Note: Unlike the other algorithms, tolerance for this one is in the energy,\n",
    "thus we square the density tolerance value to be roughly equivalent."
   ],
   "metadata": {}
  },
  {
   "outputs": [
    {
     "name": "stdout",
     "output_type": "stream",
     "text": [
      "Iter     Function value   Gradient norm \n",
      "     0     1.381742e+01     3.306794e+00\n",
      " * time: 0.5168359279632568\n",
      "     1     1.418931e+00     1.803145e+00\n",
      " * time: 0.7834880352020264\n",
      "     2    -1.477991e+00     2.030239e+00\n",
      " * time: 0.819586992263794\n",
      "     3    -3.561681e+00     1.722115e+00\n",
      " * time: 0.8733608722686768\n",
      "     4    -4.917868e+00     1.649345e+00\n",
      " * time: 0.9246330261230469\n",
      "     5    -6.647626e+00     1.075224e+00\n",
      " * time: 0.9747450351715088\n",
      "     6    -7.312081e+00     4.562381e-01\n",
      " * time: 1.0241029262542725\n",
      "     7    -7.527468e+00     1.437143e-01\n",
      " * time: 1.0626678466796875\n",
      "     8    -7.626323e+00     2.075301e-01\n",
      " * time: 1.0987110137939453\n",
      "     9    -7.715972e+00     1.075246e-01\n",
      " * time: 1.1389729976654053\n",
      "    10    -7.788151e+00     9.936673e-02\n",
      " * time: 1.179692029953003\n",
      "    11    -7.825469e+00     6.481275e-02\n",
      " * time: 1.2187750339508057\n",
      "    12    -7.845002e+00     5.083492e-02\n",
      " * time: 1.257817029953003\n",
      "    13    -7.848651e+00     4.594093e-02\n",
      " * time: 1.2984609603881836\n",
      "    14    -7.850640e+00     2.632367e-02\n",
      " * time: 1.3344440460205078\n",
      "    15    -7.851355e+00     1.994377e-02\n",
      " * time: 1.3703908920288086\n",
      "    16    -7.852048e+00     1.861271e-02\n",
      " * time: 1.4052250385284424\n",
      "    17    -7.852469e+00     8.563124e-03\n",
      " * time: 1.439291000366211\n",
      "    18    -7.852585e+00     4.347809e-03\n",
      " * time: 1.4737119674682617\n",
      "    19    -7.852625e+00     2.493426e-03\n",
      " * time: 1.5087239742279053\n",
      "    20    -7.852639e+00     2.124859e-03\n",
      " * time: 1.5439338684082031\n",
      "    21    -7.852644e+00     1.568118e-03\n",
      " * time: 1.578449010848999\n",
      "    22    -7.852646e+00     7.858132e-04\n",
      " * time: 1.6176888942718506\n",
      "    23    -7.852646e+00     4.736612e-04\n",
      " * time: 1.6534678936004639\n",
      "    24    -7.852647e+00     3.935060e-04\n",
      " * time: 1.6909279823303223\n",
      "    25    -7.852647e+00     1.296815e-04\n",
      " * time: 1.72609281539917\n",
      "    26    -7.852647e+00     9.026020e-05\n",
      " * time: 1.7600688934326172\n",
      "    27    -7.852647e+00     5.508175e-05\n",
      " * time: 1.7941648960113525\n",
      "    28    -7.852647e+00     1.582909e-05\n",
      " * time: 1.8287959098815918\n",
      "    29    -7.852647e+00     9.929078e-06\n",
      " * time: 1.8671000003814697\n",
      "    30    -7.852647e+00     5.470492e-06\n",
      " * time: 1.9044339656829834\n",
      "    31    -7.852647e+00     3.325444e-06\n",
      " * time: 1.9417250156402588\n",
      "    32    -7.852647e+00     2.895602e-06\n",
      " * time: 1.978531837463379\n",
      "    33    -7.852647e+00     1.502581e-06\n",
      " * time: 2.0145039558410645\n",
      "    34    -7.852647e+00     1.118874e-06\n",
      " * time: 2.148766040802002\n",
      "    35    -7.852647e+00     5.866013e-07\n",
      " * time: 2.183311939239502\n",
      "    36    -7.852647e+00     1.975401e-07\n",
      " * time: 2.2175159454345703\n",
      "    37    -7.852647e+00     2.028309e-07\n",
      " * time: 2.2518818378448486\n",
      "    38    -7.852647e+00     1.211454e-07\n",
      " * time: 2.2853848934173584\n",
      "    39    -7.852647e+00     5.104180e-08\n",
      " * time: 2.320884943008423\n",
      "    40    -7.852647e+00     3.265012e-08\n",
      " * time: 2.3586909770965576\n",
      "    41    -7.852647e+00     3.005137e-08\n",
      " * time: 2.3927829265594482\n",
      "    42    -7.852647e+00     1.674635e-08\n",
      " * time: 2.4257290363311768\n",
      "    43    -7.852647e+00     8.009170e-09\n",
      " * time: 2.474752902984619\n",
      "    44    -7.852647e+00     8.008838e-09\n",
      " * time: 2.58621883392334\n"
     ]
    }
   ],
   "cell_type": "code",
   "source": [
    "scfres_dm = direct_minimization(basis; tol=tol^2);"
   ],
   "metadata": {},
   "execution_count": 4
  },
  {
   "cell_type": "markdown",
   "source": [
    "## Newton algorithm"
   ],
   "metadata": {}
  },
  {
   "cell_type": "markdown",
   "source": [
    "Start not too far from the solution to ensure convergence:\n",
    "We run first a very crude SCF to get close and then switch to Newton."
   ],
   "metadata": {}
  },
  {
   "outputs": [
    {
     "name": "stdout",
     "output_type": "stream",
     "text": [
      "n     Energy            log10(ΔE)   log10(Δρ)   Diag\n",
      "---   ---------------   ---------   ---------   ----\n",
      "  1   -7.846828602137                   -0.70    4.8\n"
     ]
    }
   ],
   "cell_type": "code",
   "source": [
    "scfres_start = self_consistent_field(basis; tol=0.5);"
   ],
   "metadata": {},
   "execution_count": 5
  },
  {
   "cell_type": "markdown",
   "source": [
    "Remove the virtual orbitals (which Newton cannot treat yet)"
   ],
   "metadata": {}
  },
  {
   "outputs": [
    {
     "name": "stdout",
     "output_type": "stream",
     "text": [
      "n     Energy            log10(ΔE)   log10(Δρ)\n",
      "---   ---------------   ---------   ---------\n",
      "  1   -7.852645884750                   -1.64\n",
      "  2   -7.852646686730       -6.10       -3.71\n",
      "  3   -7.852646686730      -13.24       -7.23\n"
     ]
    }
   ],
   "cell_type": "code",
   "source": [
    "ψ = DFTK.select_occupied_orbitals(basis, scfres_start.ψ, scfres_start.occupation).ψ\n",
    "scfres_newton = newton(basis, ψ; tol);"
   ],
   "metadata": {},
   "execution_count": 6
  },
  {
   "cell_type": "markdown",
   "source": [
    "## Comparison of results"
   ],
   "metadata": {}
  },
  {
   "outputs": [
    {
     "name": "stdout",
     "output_type": "stream",
     "text": [
      "|ρ_newton - ρ_scf|  = 1.6950609869099965e-7\n",
      "|ρ_newton - ρ_scfv| = 7.679492744666548e-8\n",
      "|ρ_newton - ρ_dm|   = 1.4587853457304449e-9\n"
     ]
    }
   ],
   "cell_type": "code",
   "source": [
    "println(\"|ρ_newton - ρ_scf|  = \", norm(scfres_newton.ρ - scfres_scf.ρ))\n",
    "println(\"|ρ_newton - ρ_scfv| = \", norm(scfres_newton.ρ - scfres_scfv.ρ))\n",
    "println(\"|ρ_newton - ρ_dm|   = \", norm(scfres_newton.ρ - scfres_dm.ρ))"
   ],
   "metadata": {},
   "execution_count": 7
  }
 ],
 "nbformat_minor": 3,
 "metadata": {
  "language_info": {
   "file_extension": ".jl",
   "mimetype": "application/julia",
   "name": "julia",
   "version": "1.8.3"
  },
  "kernelspec": {
   "name": "julia-1.8",
   "display_name": "Julia 1.8.3",
   "language": "julia"
  }
 },
 "nbformat": 4
}
