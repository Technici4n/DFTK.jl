{
 "cells": [
  {
   "cell_type": "markdown",
   "source": [
    "# Comparison of DFT solvers"
   ],
   "metadata": {}
  },
  {
   "cell_type": "markdown",
   "source": [
    "We compare four different approaches for solving the DFT minimisation problem,\n",
    "namely a density-based SCF, a potential-based SCF, direct minimisation and Newton."
   ],
   "metadata": {}
  },
  {
   "cell_type": "markdown",
   "source": [
    "First we setup our problem"
   ],
   "metadata": {}
  },
  {
   "outputs": [],
   "cell_type": "code",
   "source": [
    "using DFTK\n",
    "using LinearAlgebra\n",
    "\n",
    "a = 10.26  # Silicon lattice constant in Bohr\n",
    "lattice = a / 2 * [[0 1 1.];\n",
    "                   [1 0 1.];\n",
    "                   [1 1 0.]]\n",
    "Si = ElementPsp(:Si, psp=load_psp(\"hgh/lda/Si-q4\"))\n",
    "atoms     = [Si, Si]\n",
    "positions = [ones(3)/8, -ones(3)/8]\n",
    "\n",
    "model = model_LDA(lattice, atoms, positions)\n",
    "basis = PlaneWaveBasis(model; Ecut=5, kgrid=[3, 3, 3])\n",
    "\n",
    "# Convergence we desire\n",
    "tol = 1e-12\n",
    "is_converged = DFTK.ScfConvergenceDensity(tol);"
   ],
   "metadata": {},
   "execution_count": 1
  },
  {
   "cell_type": "markdown",
   "source": [
    "## Density-based self-consistent field"
   ],
   "metadata": {}
  },
  {
   "outputs": [
    {
     "name": "stdout",
     "output_type": "stream",
     "text": [
      "n     Energy            log10(ΔE)   log10(Δρ)   Diag\n",
      "---   ---------------   ---------   ---------   ----\n",
      "  1   -7.846769530101                   -0.70    4.5\n",
      "  2   -7.852306435112       -2.26       -1.53    1.0\n",
      "  3   -7.852646195195       -3.47       -2.52    3.2\n",
      "  4   -7.852646677583       -6.32       -3.36    2.2\n",
      "  5   -7.852646685815       -8.08       -4.76    1.0\n",
      "  6   -7.852646686722       -9.04       -5.19    3.5\n",
      "  7   -7.852646686730      -11.15       -6.06    1.5\n",
      "  8   -7.852646686730      -12.48       -7.16    2.5\n",
      "  9   -7.852646686730   +    -Inf       -7.48    1.8\n",
      " 10   -7.852646686730   +    -Inf       -8.51    2.0\n",
      " 11   -7.852646686730      -14.75       -9.64    2.2\n",
      " 12   -7.852646686730   +  -14.57       -9.82    2.0\n",
      " 13   -7.852646686730      -14.57      -10.92    1.8\n",
      " 14   -7.852646686730   +  -14.75      -12.20    2.8\n"
     ]
    }
   ],
   "cell_type": "code",
   "source": [
    "scfres_scf = self_consistent_field(basis; is_converged);"
   ],
   "metadata": {},
   "execution_count": 2
  },
  {
   "cell_type": "markdown",
   "source": [
    "## Potential-based SCF"
   ],
   "metadata": {}
  },
  {
   "outputs": [
    {
     "name": "stdout",
     "output_type": "stream",
     "text": [
      "n     Energy            log10(ΔE)   log10(Δρ)   α      Diag\n",
      "---   ---------------   ---------   ---------   ----   ----\n",
      "  1   -7.846847446690                   -0.70           4.8\n",
      "  2   -7.852552617520       -2.24       -1.63   0.80    2.0\n",
      "  3   -7.852640097629       -4.06       -2.71   0.80    1.0\n",
      "  4   -7.852646446516       -5.20       -3.40   0.80    1.8\n",
      "  5   -7.852646683322       -6.63       -4.28   0.80    2.0\n",
      "  6   -7.852646686614       -8.48       -4.88   0.80    1.8\n",
      "  7   -7.852646686721       -9.97       -5.81   0.80    1.5\n",
      "  8   -7.852646686730      -11.06       -6.43   0.80    2.0\n",
      "  9   -7.852646686730      -12.78       -7.25   0.80    1.5\n",
      " 10   -7.852646686730      -14.27       -8.34   0.80    2.2\n",
      " 11   -7.852646686730      -14.35       -8.96   0.80    2.5\n",
      " 12   -7.852646686730   +  -15.05       -9.47   0.80    1.8\n",
      " 13   -7.852646686730      -15.05      -10.39   0.80    1.5\n",
      " 14   -7.852646686730   +  -15.05      -11.55   0.80    2.0\n",
      " 15   -7.852646686730   +    -Inf      -11.81   0.80    2.0\n",
      " 16   -7.852646686730      -14.75      -12.70   0.80    1.0\n"
     ]
    }
   ],
   "cell_type": "code",
   "source": [
    "scfres_scfv = DFTK.scf_potential_mixing(basis; is_converged);"
   ],
   "metadata": {},
   "execution_count": 3
  },
  {
   "cell_type": "markdown",
   "source": [
    "## Direct minimization"
   ],
   "metadata": {}
  },
  {
   "outputs": [
    {
     "name": "stdout",
     "output_type": "stream",
     "text": [
      "Iter     Function value   Gradient norm \n",
      "     0     1.396375e+01     3.137870e+00\n",
      " * time: 0.41212892532348633\n",
      "     1     1.168916e+00     1.653468e+00\n",
      " * time: 0.6133160591125488\n",
      "     2    -1.426733e+00     1.840351e+00\n",
      " * time: 0.636955976486206\n",
      "     3    -3.731734e+00     1.666868e+00\n",
      " * time: 0.7380950450897217\n",
      "     4    -5.093792e+00     1.462161e+00\n",
      " * time: 0.771608829498291\n",
      "     5    -6.755549e+00     9.035356e-01\n",
      " * time: 0.8054039478302002\n",
      "     6    -6.884632e+00     1.408718e+00\n",
      " * time: 0.8286318778991699\n",
      "     7    -7.380558e+00     1.087609e+00\n",
      " * time: 0.8516559600830078\n",
      "     8    -7.408581e+00     1.355362e+00\n",
      " * time: 0.8750059604644775\n",
      "     9    -7.562287e+00     1.122708e+00\n",
      " * time: 0.8983089923858643\n",
      "    10    -7.731142e+00     3.553808e-01\n",
      " * time: 0.93190598487854\n",
      "    11    -7.783562e+00     2.926766e-01\n",
      " * time: 0.955132007598877\n",
      "    12    -7.813315e+00     7.241706e-02\n",
      " * time: 0.978693962097168\n",
      "    13    -7.839681e+00     1.117169e-01\n",
      " * time: 1.001783847808838\n",
      "    14    -7.846506e+00     7.200316e-02\n",
      " * time: 1.025001049041748\n",
      "    15    -7.849629e+00     2.784673e-02\n",
      " * time: 1.0483078956604004\n",
      "    16    -7.851333e+00     2.958191e-02\n",
      " * time: 1.071394920349121\n",
      "    17    -7.852114e+00     2.303152e-02\n",
      " * time: 1.0947740077972412\n",
      "    18    -7.852452e+00     9.162337e-03\n",
      " * time: 1.1181068420410156\n",
      "    19    -7.852589e+00     4.158084e-03\n",
      " * time: 1.1411058902740479\n",
      "    20    -7.852627e+00     3.215584e-03\n",
      " * time: 1.1643898487091064\n",
      "    21    -7.852639e+00     1.245584e-03\n",
      " * time: 1.1875169277191162\n",
      "    22    -7.852644e+00     1.329830e-03\n",
      " * time: 1.21058988571167\n",
      "    23    -7.852646e+00     6.716588e-04\n",
      " * time: 1.2340989112854004\n",
      "    24    -7.852647e+00     2.749589e-04\n",
      " * time: 1.2574150562286377\n",
      "    25    -7.852647e+00     2.046354e-04\n",
      " * time: 1.2805140018463135\n",
      "    26    -7.852647e+00     7.954129e-05\n",
      " * time: 1.3037018775939941\n",
      "    27    -7.852647e+00     4.866097e-05\n",
      " * time: 1.3271150588989258\n",
      "    28    -7.852647e+00     3.072566e-05\n",
      " * time: 1.3505589962005615\n",
      "    29    -7.852647e+00     1.351550e-05\n",
      " * time: 1.373755931854248\n",
      "    30    -7.852647e+00     1.169459e-05\n",
      " * time: 1.397156000137329\n",
      "    31    -7.852647e+00     5.170696e-06\n",
      " * time: 1.4204449653625488\n",
      "    32    -7.852647e+00     5.789127e-06\n",
      " * time: 1.4435548782348633\n",
      "    33    -7.852647e+00     3.666826e-06\n",
      " * time: 1.466886043548584\n",
      "    34    -7.852647e+00     9.130922e-07\n",
      " * time: 1.490522861480713\n",
      "    35    -7.852647e+00     4.688428e-07\n",
      " * time: 1.5138888359069824\n",
      "    36    -7.852647e+00     4.232465e-07\n",
      " * time: 1.5376310348510742\n",
      "    37    -7.852647e+00     1.744591e-07\n",
      " * time: 1.56085205078125\n",
      "    38    -7.852647e+00     1.370660e-07\n",
      " * time: 1.5843379497528076\n",
      "    39    -7.852647e+00     8.455725e-08\n",
      " * time: 1.6075010299682617\n",
      "    40    -7.852647e+00     3.408361e-08\n",
      " * time: 1.630660057067871\n",
      "    41    -7.852647e+00     2.090539e-08\n",
      " * time: 1.653723955154419\n",
      "    42    -7.852647e+00     1.200276e-08\n",
      " * time: 1.709467887878418\n",
      "    43    -7.852647e+00     1.181992e-08\n",
      " * time: 1.7632849216461182\n",
      "    44    -7.852647e+00     1.174054e-08\n",
      " * time: 1.8175480365753174\n"
     ]
    }
   ],
   "cell_type": "code",
   "source": [
    "scfres_dm = direct_minimization(basis; tol);"
   ],
   "metadata": {},
   "execution_count": 4
  },
  {
   "cell_type": "markdown",
   "source": [
    "## Newton algorithm"
   ],
   "metadata": {}
  },
  {
   "cell_type": "markdown",
   "source": [
    "Start not too far from the solution to ensure convergence:\n",
    "We run first a very crude SCF to get close and then switch to Newton."
   ],
   "metadata": {}
  },
  {
   "outputs": [
    {
     "name": "stdout",
     "output_type": "stream",
     "text": [
      "n     Energy            log10(ΔE)   log10(Δρ)   Diag\n",
      "---   ---------------   ---------   ---------   ----\n",
      "  1   -7.846813611051                   -0.70    4.5\n",
      "  2   -7.852317407790       -2.26       -1.53    1.0\n"
     ]
    }
   ],
   "cell_type": "code",
   "source": [
    "scfres_start = self_consistent_field(basis; tol=1e-1);"
   ],
   "metadata": {},
   "execution_count": 5
  },
  {
   "cell_type": "markdown",
   "source": [
    "Remove the virtual orbitals (which Newton cannot treat yet)"
   ],
   "metadata": {}
  },
  {
   "outputs": [
    {
     "name": "stdout",
     "output_type": "stream",
     "text": [
      "n     Energy            log10(ΔE)   log10(Δρ)\n",
      "---   ---------------   ---------   ---------\n",
      "  1   -7.852646686710                   -2.55\n",
      "  2   -7.852646686730      -10.71       -5.94\n",
      "  3   -7.852646686730   +  -15.05      -12.61\n"
     ]
    }
   ],
   "cell_type": "code",
   "source": [
    "ψ, _ = DFTK.select_occupied_orbitals(basis, scfres_start.ψ, scfres_start.occupation)\n",
    "scfres_newton = newton(basis, ψ; tol);"
   ],
   "metadata": {},
   "execution_count": 6
  },
  {
   "cell_type": "markdown",
   "source": [
    "## Comparison of results"
   ],
   "metadata": {}
  },
  {
   "outputs": [
    {
     "name": "stdout",
     "output_type": "stream",
     "text": [
      "|ρ_newton - ρ_scf|  = 3.7489086601972053e-13\n",
      "|ρ_newton - ρ_scfv| = 1.408752631141365e-13\n",
      "|ρ_newton - ρ_dm|   = 1.0839011843988723e-9\n"
     ]
    }
   ],
   "cell_type": "code",
   "source": [
    "println(\"|ρ_newton - ρ_scf|  = \", norm(scfres_newton.ρ - scfres_scf.ρ))\n",
    "println(\"|ρ_newton - ρ_scfv| = \", norm(scfres_newton.ρ - scfres_scfv.ρ))\n",
    "println(\"|ρ_newton - ρ_dm|   = \", norm(scfres_newton.ρ - scfres_dm.ρ))"
   ],
   "metadata": {},
   "execution_count": 7
  }
 ],
 "nbformat_minor": 3,
 "metadata": {
  "language_info": {
   "file_extension": ".jl",
   "mimetype": "application/julia",
   "name": "julia",
   "version": "1.8.1"
  },
  "kernelspec": {
   "name": "julia-1.8",
   "display_name": "Julia 1.8.1",
   "language": "julia"
  }
 },
 "nbformat": 4
}
