{
 "cells": [
  {
   "cell_type": "markdown",
   "source": [
    "# Creating and modelling metallic supercells\n",
    "\n",
    "In this section we will be concerned with modelling supercells of aluminium.\n",
    "When dealing with periodic problems there is no unique definition of the\n",
    "lattice: Clearly any duplication of the lattice along an axis is also a valid\n",
    "repetitive unit to describe exactly the same system.\n",
    "This is exactly what a **supercell** is: An $n$-fold repetition along one of the\n",
    "axes of the original lattice.\n",
    "\n",
    "The following code achieves this for aluminium:"
   ],
   "metadata": {}
  },
  {
   "outputs": [],
   "cell_type": "code",
   "source": [
    "using DFTK\n",
    "using LinearAlgebra\n",
    "using ASEconvert\n",
    "\n",
    "function aluminium_setup(repeat=1; Ecut=7.0, kgrid=[2, 2, 2])\n",
    "    a = 7.65339\n",
    "    lattice = a * Matrix(I, 3, 3)\n",
    "    Al = ElementPsp(:Al, psp=load_psp(\"hgh/lda/al-q3\"))\n",
    "    atoms     = [Al, Al, Al, Al]\n",
    "    positions = [[0.0, 0.0, 0.0], [0.0, 0.5, 0.5], [0.5, 0.0, 0.5], [0.5, 0.5, 0.0]]\n",
    "    unit_cell = periodic_system(lattice, atoms, positions)\n",
    "\n",
    "    # Make supercell in ASE:\n",
    "    # We convert our lattice to the conventions used in ASE, make the supercell\n",
    "    # and then convert back ...\n",
    "    supercell_ase = convert_ase(unit_cell) * pytuple((repeat, 1, 1))\n",
    "    supercell     = pyconvert(AbstractSystem, supercell_ase)\n",
    "\n",
    "    # Unfortunately right now the conversion to ASE drops the pseudopotential information,\n",
    "    # so we need to reattach it:\n",
    "    supercell = attach_psp(supercell, Al=\"hgh/lda/al-q3\")\n",
    "\n",
    "    # Construct an LDA model and discretise\n",
    "    # Note: We disable symmetries explicitly here. Otherwise the problem sizes\n",
    "    #       we are able to run on the CI are too simple to observe the numerical\n",
    "    #       instabilities we want to trigger here.\n",
    "    model = model_LDA(supercell; temperature=1e-3, symmetries=false)\n",
    "    PlaneWaveBasis(model; Ecut, kgrid)\n",
    "end;"
   ],
   "metadata": {},
   "execution_count": 1
  },
  {
   "cell_type": "markdown",
   "source": [
    "As part of the code we are using a routine inside the ASE,\n",
    "the [atomistic simulation environment](https://wiki.fysik.dtu.dk/ase/index.html)\n",
    "for creating the supercell and make use of the two-way interoperability of\n",
    "DFTK and ASE. For more details on this aspect see the documentation\n",
    "on Input and output formats."
   ],
   "metadata": {}
  },
  {
   "cell_type": "markdown",
   "source": [
    "Write an example supercell structure to a file to plot it:"
   ],
   "metadata": {}
  },
  {
   "outputs": [
    {
     "name": "stdout",
     "output_type": "stream",
     "text": [
      "┌ Warning: Skipping atomic property pseudopotential, which is not supported in ASE.\n",
      "└ @ ASEconvert ~/.julia/packages/ASEconvert/XF0Hn/src/ASEconvert.jl:144\n",
      "┌ Warning: Skipping atomic property pseudopotential, which is not supported in ASE.\n",
      "└ @ ASEconvert ~/.julia/packages/ASEconvert/XF0Hn/src/ASEconvert.jl:144\n"
     ]
    },
    {
     "output_type": "execute_result",
     "data": {
      "text/plain": "\u001b[0m\u001b[1mPython None\u001b[22m"
     },
     "metadata": {},
     "execution_count": 2
    }
   ],
   "cell_type": "code",
   "source": [
    "setup = aluminium_setup(5)\n",
    "convert_ase(periodic_system(setup.model)).write(\"al_supercell.png\")"
   ],
   "metadata": {},
   "execution_count": 2
  },
  {
   "cell_type": "markdown",
   "source": [
    "<img src=\"https://docs.dftk.org/stable/examples/al_supercell.png\" width=500 height=500 />"
   ],
   "metadata": {}
  },
  {
   "cell_type": "markdown",
   "source": [
    "As we will see in this notebook the modelling of a system generally becomes\n",
    "harder if the system becomes larger.\n",
    "\n",
    "- This sounds like a trivial statement as *per se* the cost per SCF step increases\n",
    "  as the system (and thus $N$) gets larger.\n",
    "- But there is more to it:\n",
    "  If one is not careful also the *number of SCF iterations* increases\n",
    "  as the system gets larger.\n",
    "- The aim of a proper computational treatment of such supercells is therefore\n",
    "  to ensure that the **number of SCF iterations remains constant** when the\n",
    "  system size increases."
   ],
   "metadata": {}
  },
  {
   "cell_type": "markdown",
   "source": [
    "For achieving the latter DFTK by default employs the `LdosMixing`\n",
    "preconditioner [^HL2021] during the SCF iterations. This mixing approach is\n",
    "completely parameter free, but still automatically adapts to the treated\n",
    "system in order to efficiently prevent charge sloshing. As a result,\n",
    "modelling aluminium slabs indeed takes roughly the same number of SCF iterations\n",
    "irrespective of the supercell size:\n",
    "\n",
    "[^HL2021]:\n",
    "   M. F. Herbst and A. Levitt.\n",
    "   *Black-box inhomogeneous preconditioning for self-consistent field iterations in density functional theory.*\n",
    "   J. Phys. Cond. Matt *33* 085503 (2021). [ArXiv:2009.01665](https://arxiv.org/abs/2009.01665)"
   ],
   "metadata": {}
  },
  {
   "outputs": [
    {
     "name": "stdout",
     "output_type": "stream",
     "text": [
      "┌ Warning: Skipping atomic property pseudopotential, which is not supported in ASE.\n",
      "└ @ ASEconvert ~/.julia/packages/ASEconvert/XF0Hn/src/ASEconvert.jl:144\n",
      "n     Energy            log10(ΔE)   log10(Δρ)   Diag\n",
      "---   ---------------   ---------   ---------   ----\n",
      "  1   -8.298540530931                   -0.85    4.9\n",
      "  2   -8.300208631926       -2.78       -1.25    1.0\n",
      "  3   -8.300432215986       -3.65       -1.89    3.1\n",
      "  4   -8.300460774493       -4.54       -2.74    1.8\n",
      "  5   -8.300463874104       -5.51       -3.01    2.8\n",
      "  6   -8.300464247117       -6.43       -3.18   13.9\n",
      "  7   -8.300464455373       -6.68       -3.34    6.5\n",
      "  8   -8.300464551937       -7.02       -3.48    1.4\n",
      "  9   -8.300464624643       -7.14       -3.71    1.8\n",
      " 10   -8.300464626730       -8.68       -3.77    1.2\n",
      " 11   -8.300464639880       -7.88       -4.00    1.5\n",
      " 12   -8.300464643946       -8.39       -4.47    7.4\n"
     ]
    }
   ],
   "cell_type": "code",
   "source": [
    "self_consistent_field(aluminium_setup(1); tol=1e-4);"
   ],
   "metadata": {},
   "execution_count": 3
  },
  {
   "outputs": [
    {
     "name": "stdout",
     "output_type": "stream",
     "text": [
      "┌ Warning: Skipping atomic property pseudopotential, which is not supported in ASE.\n",
      "└ @ ASEconvert ~/.julia/packages/ASEconvert/XF0Hn/src/ASEconvert.jl:144\n",
      "n     Energy            log10(ΔE)   log10(Δρ)   Diag\n",
      "---   ---------------   ---------   ---------   ----\n",
      "  1   -16.67450006951                   -0.70    6.0\n",
      "  2   -16.67864052001       -2.38       -1.14    1.9\n",
      "  3   -16.67920041708       -3.25       -1.86    2.8\n",
      "  4   -16.67928010214       -4.10       -2.76    2.5\n",
      "  5   -16.67928603528       -5.23       -3.19    5.2\n",
      "  6   -16.67928621216       -6.75       -3.48    2.4\n",
      "  7   -16.67928622230       -7.99       -3.96    1.6\n",
      "  8   -16.67928622423       -8.72       -4.59    2.4\n"
     ]
    }
   ],
   "cell_type": "code",
   "source": [
    "self_consistent_field(aluminium_setup(2); tol=1e-4);"
   ],
   "metadata": {},
   "execution_count": 4
  },
  {
   "outputs": [
    {
     "name": "stdout",
     "output_type": "stream",
     "text": [
      "┌ Warning: Skipping atomic property pseudopotential, which is not supported in ASE.\n",
      "└ @ ASEconvert ~/.julia/packages/ASEconvert/XF0Hn/src/ASEconvert.jl:144\n",
      "n     Energy            log10(ΔE)   log10(Δρ)   Diag\n",
      "---   ---------------   ---------   ---------   ----\n",
      "  1   -33.32557129900                   -0.56    6.9\n",
      "  2   -33.33269695839       -2.15       -1.00    1.0\n",
      "  3   -33.33409830506       -2.85       -1.73    5.1\n",
      "  4   -33.33428284602       -3.73       -2.64    2.8\n",
      "  5   -33.33525342746       -3.01       -2.41    4.4\n",
      "  6   -33.33694316162       -2.77       -2.52    6.6\n",
      "  7   -33.33694326935       -6.97       -2.53    2.5\n",
      "  8   -33.33689481172   +   -4.31       -2.47    2.9\n",
      "  9   -33.33682356239   +   -4.15       -2.30    2.1\n",
      " 10   -33.33681888511   +   -5.33       -2.30    1.0\n",
      " 11   -33.33683700295       -4.74       -2.34    1.0\n",
      " 12   -33.33684474023       -5.11       -2.36    1.0\n",
      " 13   -33.33686090747       -4.79       -2.40    1.0\n",
      " 14   -33.33686404521       -5.50       -2.40    1.0\n",
      " 15   -33.33687200692       -5.10       -2.43    1.0\n",
      " 16   -33.33686620304   +   -5.24       -2.41    1.0\n",
      " 17   -33.33694363053       -4.11       -3.60    1.6\n",
      " 18   -33.33694389730       -6.57       -3.70    4.2\n",
      " 19   -33.33694390022       -8.53       -3.72    1.2\n",
      " 20   -33.33694390291       -8.57       -3.81    1.0\n",
      " 21   -33.33694390453       -8.79       -3.97    1.0\n",
      " 22   -33.33694392187       -7.76       -4.15    1.1\n"
     ]
    }
   ],
   "cell_type": "code",
   "source": [
    "self_consistent_field(aluminium_setup(4); tol=1e-4);"
   ],
   "metadata": {},
   "execution_count": 5
  },
  {
   "cell_type": "markdown",
   "source": [
    "When switching off explicitly the `LdosMixing`, by selecting `mixing=SimpleMixing()`,\n",
    "the performance of number of required SCF steps starts to increase as we increase\n",
    "the size of the modelled problem:"
   ],
   "metadata": {}
  },
  {
   "outputs": [
    {
     "name": "stdout",
     "output_type": "stream",
     "text": [
      "┌ Warning: Skipping atomic property pseudopotential, which is not supported in ASE.\n",
      "└ @ ASEconvert ~/.julia/packages/ASEconvert/XF0Hn/src/ASEconvert.jl:144\n",
      "n     Energy            log10(ΔE)   log10(Δρ)   Diag\n",
      "---   ---------------   ---------   ---------   ----\n",
      "  1   -8.298442499873                   -0.85    4.9\n",
      "  2   -8.300259018113       -2.74       -1.59    1.0\n",
      "  3   -8.300419781250       -3.79       -2.49    3.2\n",
      "  4   -8.300355251936   +   -4.19       -2.24    3.9\n",
      "  5   -8.300463728303       -3.96       -3.33    1.1\n",
      "  6   -8.300464535302       -6.09       -3.68    3.8\n",
      "  7   -8.300464630084       -7.02       -4.09    1.2\n"
     ]
    }
   ],
   "cell_type": "code",
   "source": [
    "self_consistent_field(aluminium_setup(1); tol=1e-4, mixing=SimpleMixing());"
   ],
   "metadata": {},
   "execution_count": 6
  },
  {
   "outputs": [
    {
     "name": "stdout",
     "output_type": "stream",
     "text": [
      "┌ Warning: Skipping atomic property pseudopotential, which is not supported in ASE.\n",
      "└ @ ASEconvert ~/.julia/packages/ASEconvert/XF0Hn/src/ASEconvert.jl:144\n",
      "n     Energy            log10(ΔE)   log10(Δρ)   Diag\n",
      "---   ---------------   ---------   ---------   ----\n",
      "  1   -33.32483391075                   -0.56    6.2\n",
      "  2   -33.32388266547   +   -3.02       -1.27    1.1\n",
      "  3   -21.83496884571   +    1.06       -0.53    5.6\n",
      "  4   -33.15142677407        1.05       -1.36    6.2\n",
      "  5   -33.25033381380       -1.00       -1.38    3.1\n",
      "  6   -30.15044007160   +    0.49       -0.82    4.5\n",
      "  7   -33.33260126375        0.50       -2.15    4.5\n",
      "  8   -33.33597630409       -2.47       -2.21    4.2\n",
      "  9   -33.33332307758   +   -2.58       -2.19    2.6\n",
      " 10   -33.33595648587       -2.58       -2.49    1.8\n",
      " 11   -33.33686072760       -3.04       -2.96    2.6\n",
      " 12   -33.33691459028       -4.27       -3.24    3.9\n",
      " 13   -33.33693411091       -4.71       -3.45    2.8\n",
      " 14   -33.33694234167       -5.08       -3.70    2.4\n",
      " 15   -33.33694001204   +   -5.63       -3.76    3.6\n",
      " 16   -33.33694386130       -5.41       -4.46    2.8\n"
     ]
    }
   ],
   "cell_type": "code",
   "source": [
    "self_consistent_field(aluminium_setup(4); tol=1e-4, mixing=SimpleMixing());"
   ],
   "metadata": {},
   "execution_count": 7
  },
  {
   "cell_type": "markdown",
   "source": [
    "For completion let us note that the more traditional `mixing=KerkerMixing()`\n",
    "approach would also help in this particular setting to obtain a constant\n",
    "number of SCF iterations for an increasing system size (try it!). In contrast\n",
    "to `LdosMixing`, however, `KerkerMixing` is only suitable to model bulk metallic\n",
    "system (like the case we are considering here). When modelling metallic surfaces\n",
    "or mixtures of metals and insulators, `KerkerMixing` fails, while `LdosMixing`\n",
    "still works well. See the Modelling a gallium arsenide surface example\n",
    "or [^HL2021] for details. Due to the general applicability of `LdosMixing` this\n",
    "method is the default mixing approach in DFTK."
   ],
   "metadata": {}
  }
 ],
 "nbformat_minor": 3,
 "metadata": {
  "language_info": {
   "file_extension": ".jl",
   "mimetype": "application/julia",
   "name": "julia",
   "version": "1.8.4"
  },
  "kernelspec": {
   "name": "julia-1.8",
   "display_name": "Julia 1.8.4",
   "language": "julia"
  }
 },
 "nbformat": 4
}
