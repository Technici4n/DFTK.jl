{
 "cells": [
  {
   "cell_type": "markdown",
   "source": [
    "# Eigenvalues of the dielectric matrix\n",
    "\n",
    "We compute a few eigenvalues of the dielectric matrix ($q=0$, $ω=0$) iteratively."
   ],
   "metadata": {}
  },
  {
   "outputs": [
    {
     "name": "stdout",
     "output_type": "stream",
     "text": [
      "n     Energy            log10(ΔE)   log10(Δρ)   Diag   Δtime\n",
      "---   ---------------   ---------   ---------   ----   ------\n",
      "  1   -7.235400202385                   -0.50    8.0         \n",
      "  2   -7.250146123437       -1.83       -1.40    1.0   9.07ms\n",
      "  3   -7.251173293030       -2.99       -2.01    2.0   9.93ms\n",
      "  4   -7.251158019544   +   -4.82       -2.03    2.0   10.4ms\n",
      "  5   -7.251316454037       -3.80       -2.48    1.0   9.48ms\n",
      "  6   -7.251338275495       -4.66       -3.21    1.0   9.14ms\n",
      "  7   -7.251338702607       -6.37       -3.59    1.0   9.31ms\n",
      "  8   -7.251338783127       -7.09       -4.00    2.0   10.7ms\n",
      "  9   -7.251338798059       -7.83       -4.70    2.0   10.5ms\n",
      " 10   -7.251338798606       -9.26       -5.10    2.0   10.4ms\n",
      " 11   -7.251338798692      -10.06       -5.62    1.0   9.49ms\n",
      " 12   -7.251338798703      -10.95       -5.92    2.0   11.1ms\n",
      " 13   -7.251338798704      -11.84       -6.41    1.0   9.41ms\n",
      " 14   -7.251338798705      -12.70       -6.92    2.0   11.1ms\n",
      " 15   -7.251338798705      -13.85       -7.31    2.0   11.0ms\n",
      " 16   -7.251338798705      -15.05       -7.76    1.0   9.64ms\n",
      " 17   -7.251338798705      -15.05       -7.85    2.0   11.0ms\n",
      " 18   -7.251338798705   +  -15.05       -8.45    1.0   9.37ms\n"
     ]
    }
   ],
   "cell_type": "code",
   "source": [
    "using DFTK\n",
    "using Plots\n",
    "using KrylovKit\n",
    "using Printf\n",
    "\n",
    "# Calculation parameters\n",
    "kgrid = [1, 1, 1]\n",
    "Ecut = 5\n",
    "\n",
    "# Silicon lattice\n",
    "a = 10.26\n",
    "lattice = a / 2 .* [[0 1 1.]; [1 0 1.]; [1 1 0.]]\n",
    "Si = ElementPsp(:Si, psp=load_psp(\"hgh/lda/Si-q4\"))\n",
    "atoms     = [Si, Si]\n",
    "positions = [ones(3)/8, -ones(3)/8]\n",
    "\n",
    "# Compute the dielectric operator without symmetries\n",
    "model  = model_LDA(lattice, atoms, positions, symmetries=false)\n",
    "basis  = PlaneWaveBasis(model; Ecut, kgrid)\n",
    "scfres = self_consistent_field(basis, tol=1e-8);"
   ],
   "metadata": {},
   "execution_count": 1
  },
  {
   "cell_type": "markdown",
   "source": [
    "Applying $ε^† ≔ (1- χ_0 K)$ …"
   ],
   "metadata": {}
  },
  {
   "outputs": [],
   "cell_type": "code",
   "source": [
    "function eps_fun(δρ)\n",
    "    δV = apply_kernel(basis, δρ; ρ=scfres.ρ)\n",
    "    χ0δV = apply_χ0(scfres, δV)\n",
    "    δρ - χ0δV\n",
    "end;"
   ],
   "metadata": {},
   "execution_count": 2
  },
  {
   "cell_type": "markdown",
   "source": [
    "… eagerly diagonalizes the subspace matrix at each iteration"
   ],
   "metadata": {}
  },
  {
   "outputs": [
    {
     "name": "stdout",
     "output_type": "stream",
     "text": [
      "[ Info: Arnoldi iteration step 1: normres = 0.06796513521591432\n",
      "[ Info: Arnoldi iteration step 2: normres = 0.2477673948144414\n",
      "[ Info: Arnoldi iteration step 3: normres = 0.3314871776516751\n",
      "[ Info: Arnoldi iteration step 4: normres = 0.539277225980295\n",
      "[ Info: Arnoldi iteration step 5: normres = 0.927838292787568\n",
      "[ Info: Arnoldi schursolve in iter 1, krylovdim = 5: 0 values converged, normres = (5.01e-01, 1.95e-01, 7.21e-01, 2.27e-01, 1.86e-02)\n",
      "[ Info: Arnoldi iteration step 6: normres = 0.32657902068402767\n",
      "[ Info: Arnoldi schursolve in iter 1, krylovdim = 6: 0 values converged, normres = (2.49e-01, 5.94e-02, 1.30e-01, 1.17e-01, 8.15e-02)\n",
      "[ Info: Arnoldi iteration step 7: normres = 0.10313002183466759\n",
      "[ Info: Arnoldi schursolve in iter 1, krylovdim = 7: 0 values converged, normres = (1.23e-02, 5.58e-03, 1.14e-02, 7.43e-02, 5.56e-02)\n",
      "[ Info: Arnoldi iteration step 8: normres = 0.13270483369133418\n",
      "[ Info: Arnoldi schursolve in iter 1, krylovdim = 8: 0 values converged, normres = (7.18e-04, 5.43e-04, 1.24e-03, 3.56e-02, 6.88e-02)\n",
      "[ Info: Arnoldi iteration step 9: normres = 0.07521880943935635\n",
      "[ Info: Arnoldi schursolve in iter 1, krylovdim = 9: 0 values converged, normres = (2.35e-05, 2.94e-05, 7.47e-05, 1.01e-02, 4.09e-02)\n",
      "[ Info: Arnoldi iteration step 10: normres = 0.0742882508029575\n",
      "[ Info: Arnoldi schursolve in iter 1, krylovdim = 10: 0 values converged, normres = (7.70e-07, 1.61e-06, 4.55e-06, 2.97e-03, 2.79e-02)\n",
      "[ Info: Arnoldi iteration step 11: normres = 0.08537434254980693\n",
      "[ Info: Arnoldi schursolve in iter 1, krylovdim = 11: 0 values converged, normres = (2.81e-08, 9.56e-08, 3.01e-07, 7.62e-04, 1.33e-02)\n",
      "[ Info: Arnoldi iteration step 12: normres = 0.0810118300274575\n",
      "[ Info: Arnoldi schursolve in iter 1, krylovdim = 12: 0 values converged, normres = (9.92e-10, 5.60e-09, 1.96e-08, 2.23e-04, 9.64e-03)\n",
      "[ Info: Arnoldi iteration step 13: normres = 0.09151431523344872\n",
      "[ Info: Arnoldi schursolve in iter 1, krylovdim = 13: 0 values converged, normres = (3.84e-11, 3.52e-10, 1.36e-09, 5.82e-05, 5.01e-03)\n",
      "[ Info: Arnoldi iteration step 14: normres = 0.3814534087323808\n",
      "[ Info: Arnoldi schursolve in iter 1, krylovdim = 14: 0 values converged, normres = (1.32e-11, 6.62e-10, 8.23e-09, 3.81e-01, 2.67e-03)\n",
      "[ Info: Arnoldi iteration step 15: normres = 0.24241140972054906\n",
      "[ Info: Arnoldi schursolve in iter 1, krylovdim = 15: 0 values converged, normres = (1.55e-12, 3.80e-10, 6.96e-02, 1.19e-04, 1.97e-05)\n",
      "[ Info: Arnoldi iteration step 16: normres = 0.14556088537562742\n",
      "[ Info: Arnoldi schursolve in iter 1, krylovdim = 16: 1 values converged, normres = (2.22e-13, 6.61e-09, 9.02e-02, 4.45e-04, 1.09e-01)\n",
      "[ Info: Arnoldi iteration step 17: normres = 0.030712974409888565\n",
      "[ Info: Arnoldi schursolve in iter 1, krylovdim = 17: 1 values converged, normres = (2.85e-15, 5.87e-09, 1.89e-03, 1.71e-07, 2.41e-03)\n",
      "[ Info: Arnoldi iteration step 18: normres = 0.017795735795363612\n",
      "[ Info: Arnoldi schursolve in iter 1, krylovdim = 18: 1 values converged, normres = (2.09e-17, 1.39e-05, 1.72e-05, 2.13e-08, 3.10e-05)\n",
      "[ Info: Arnoldi iteration step 19: normres = 0.030565052544370603\n",
      "[ Info: Arnoldi schursolve in iter 1, krylovdim = 19: 1 values converged, normres = (2.63e-19, 4.43e-07, 1.55e-08, 1.59e-07, 6.66e-07)\n",
      "[ Info: Arnoldi iteration step 20: normres = 0.09765561117701735\n",
      "[ Info: Arnoldi schursolve in iter 1, krylovdim = 20: 1 values converged, normres = (1.08e-20, 6.64e-09, 2.86e-08, 3.39e-08, 3.71e-08)\n",
      "[ Info: Arnoldi iteration step 21: normres = 0.11741901868189837\n",
      "[ Info: Arnoldi schursolve in iter 1, krylovdim = 21: 1 values converged, normres = (6.18e-22, 7.33e-10, 2.93e-09, 3.05e-09, 5.03e-09)\n",
      "[ Info: Arnoldi iteration step 22: normres = 0.02121785628672256\n",
      "[ Info: Arnoldi schursolve in iter 1, krylovdim = 22: 1 values converged, normres = (5.49e-24, 1.83e-11, 3.94e-11, 5.27e-11, 7.73e-11)\n",
      "[ Info: Arnoldi iteration step 23: normres = 0.6729017251888114\n",
      "[ Info: Arnoldi schursolve in iter 1, krylovdim = 23: 1 values converged, normres = (1.96e-24, 2.72e-11, 1.25e-11, 4.24e-11, 6.22e-11)\n",
      "[ Info: Arnoldi iteration step 24: normres = 0.02293204765595915\n",
      "[ Info: Arnoldi schursolve in iter 1, krylovdim = 24: 1 values converged, normres = (3.31e-26, 1.30e-12, 2.81e-12, 3.48e-10, 5.40e-10)\n",
      "[ Info: Arnoldi iteration step 25: normres = 0.029174279167983982\n",
      "[ Info: Arnoldi schursolve in iter 1, krylovdim = 25: 3 values converged, normres = (3.97e-28, 2.50e-14, 5.40e-14, 5.46e-05, 1.62e-06)\n",
      "[ Info: Arnoldi iteration step 26: normres = 0.10614610872004915\n",
      "[ Info: Arnoldi schursolve in iter 1, krylovdim = 26: 3 values converged, normres = (1.87e-29, 1.97e-15, 4.25e-15, 9.85e-10, 1.60e-09)\n",
      "[ Info: Arnoldi iteration step 27: normres = 0.02567515026435206\n",
      "[ Info: Arnoldi schursolve in iter 1, krylovdim = 27: 3 values converged, normres = (2.02e-31, 7.45e-17, 3.44e-17, 4.95e-07, 1.28e-07)\n",
      "[ Info: Arnoldi iteration step 28: normres = 0.10015286573193768\n",
      "[ Info: Arnoldi schursolve in iter 1, krylovdim = 28: 3 values converged, normres = (8.67e-33, 5.24e-18, 2.42e-18, 3.87e-08, 2.98e-08)\n",
      "[ Info: Arnoldi iteration step 29: normres = 0.016541453973630504\n",
      "[ Info: Arnoldi schursolve in iter 1, krylovdim = 29: 3 values converged, normres = (6.11e-35, 2.79e-20, 6.03e-20, 1.29e-11, 2.16e-10)\n",
      "[ Info: Arnoldi iteration step 30: normres = 0.04592444907690633\n",
      "[ Info: Arnoldi schursolve in iter 1, krylovdim = 30: 4 values converged, normres = (1.16e-36, 8.45e-22, 1.83e-21, 4.23e-13, 5.94e-12)\n",
      "[ Info: Arnoldi schursolve in iter 2, krylovdim = 19: 4 values converged, normres = (1.16e-36, 8.45e-22, 1.83e-21, 4.23e-13, 5.94e-12)\n",
      "[ Info: Arnoldi iteration step 20: normres = 0.11366071244339161\n",
      "┌ Info: Arnoldi eigsolve finished after 2 iterations:\n",
      "│ *  5 eigenvalues converged\n",
      "│ *  norm of residuals = (5.787470411260023e-38, 9.229091970634463e-23, 9.229091970634463e-23, 3.9095924520229363e-14, 4.951533155440187e-13)\n",
      "└ *  number of operations = 31\n"
     ]
    }
   ],
   "cell_type": "code",
   "source": [
    "eigsolve(eps_fun, randn(size(scfres.ρ)), 5, :LM; eager=true, verbosity=3);"
   ],
   "metadata": {},
   "execution_count": 3
  }
 ],
 "nbformat_minor": 3,
 "metadata": {
  "language_info": {
   "file_extension": ".jl",
   "mimetype": "application/julia",
   "name": "julia",
   "version": "1.8.4"
  },
  "kernelspec": {
   "name": "julia-1.8",
   "display_name": "Julia 1.8.4",
   "language": "julia"
  }
 },
 "nbformat": 4
}
