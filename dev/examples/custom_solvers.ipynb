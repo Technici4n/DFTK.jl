{
 "cells": [
  {
   "cell_type": "markdown",
   "source": [
    "# Custom solvers\n",
    "In this example, we show how to define custom solvers. Our system\n",
    "will again be silicon, because we are not very imaginative"
   ],
   "metadata": {}
  },
  {
   "outputs": [],
   "cell_type": "code",
   "source": [
    "using DFTK, LinearAlgebra\n",
    "\n",
    "a = 10.26\n",
    "lattice = a / 2 * [[0 1 1.];\n",
    "                   [1 0 1.];\n",
    "                   [1 1 0.]]\n",
    "Si = ElementPsp(:Si, psp=load_psp(\"hgh/lda/Si-q4\"))\n",
    "atoms = [Si, Si]\n",
    "positions =  [ones(3)/8, -ones(3)/8]\n",
    "\n",
    "# We take very (very) crude parameters\n",
    "model = model_LDA(lattice, atoms, positions)\n",
    "basis = PlaneWaveBasis(model; Ecut=5, kgrid=[1, 1, 1]);"
   ],
   "metadata": {},
   "execution_count": 1
  },
  {
   "cell_type": "markdown",
   "source": [
    "We define our custom fix-point solver: simply a damped fixed-point"
   ],
   "metadata": {}
  },
  {
   "outputs": [],
   "cell_type": "code",
   "source": [
    "function my_fp_solver(f, x0, max_iter; tol)\n",
    "    mixing_factor = .7\n",
    "    x = x0\n",
    "    fx = f(x)\n",
    "    for n = 1:max_iter\n",
    "        inc = fx - x\n",
    "        if norm(inc) < tol\n",
    "            break\n",
    "        end\n",
    "        x = x + mixing_factor * inc\n",
    "        fx = f(x)\n",
    "    end\n",
    "    (fixpoint=x, converged=norm(fx-x) < tol)\n",
    "end;"
   ],
   "metadata": {},
   "execution_count": 2
  },
  {
   "cell_type": "markdown",
   "source": [
    "Our eigenvalue solver just forms the dense matrix and diagonalizes\n",
    "it explicitly (this only works for very small systems)"
   ],
   "metadata": {}
  },
  {
   "outputs": [],
   "cell_type": "code",
   "source": [
    "function my_eig_solver(A, X0; maxiter, tol, kwargs...)\n",
    "    n = size(X0, 2)\n",
    "    A = Array(A)\n",
    "    E = eigen(A)\n",
    "    λ = E.values[1:n]\n",
    "    X = E.vectors[:, 1:n]\n",
    "    (; λ, X, residual_norms=[], iterations=0, converged=true, n_matvec=0)\n",
    "end;"
   ],
   "metadata": {},
   "execution_count": 3
  },
  {
   "cell_type": "markdown",
   "source": [
    "Finally we also define our custom mixing scheme. It will be a mixture\n",
    "of simple mixing (for the first 2 steps) and than default to Kerker mixing.\n",
    "In the mixing interface `δF` is $(ρ_\\text{out} - ρ_\\text{in})$, i.e.\n",
    "the difference in density between two subsequent SCF steps and the `mix`\n",
    "function returns $δρ$, which is added to $ρ_\\text{in}$ to yield $ρ_\\text{next}$,\n",
    "the density for the next SCF step."
   ],
   "metadata": {}
  },
  {
   "outputs": [],
   "cell_type": "code",
   "source": [
    "struct MyMixing\n",
    "    n_simple  # Number of iterations for simple mixing\n",
    "end\n",
    "MyMixing() = MyMixing(2)\n",
    "\n",
    "function DFTK.mix_density(mixing::MyMixing, basis, δF; n_iter, kwargs...)\n",
    "    if n_iter <= mixing.n_simple\n",
    "        return δF  # Simple mixing -> Do not modify update at all\n",
    "    else\n",
    "        # Use the default KerkerMixing from DFTK\n",
    "        DFTK.mix_density(KerkerMixing(), basis, δF; kwargs...)\n",
    "    end\n",
    "end"
   ],
   "metadata": {},
   "execution_count": 4
  },
  {
   "cell_type": "markdown",
   "source": [
    "That's it! Now we just run the SCF with these solvers"
   ],
   "metadata": {}
  },
  {
   "outputs": [
    {
     "name": "stdout",
     "output_type": "stream",
     "text": [
      "n     Energy            log10(ΔE)   log10(Δρ)   Diag\n",
      "---   ---------------   ---------   ---------   ----\n",
      "  1   -7.202273114223                   -0.47    0.0\n",
      "  2   -7.244514090007       -1.37       -0.82    0.0\n",
      "  3   -7.250834739052       -2.20       -1.28    0.0\n",
      "  4   -7.251219976852       -3.41       -1.59    0.0\n",
      "  5   -7.251310424959       -4.04       -1.89    0.0\n",
      "  6   -7.251331752861       -4.67       -2.19    0.0\n",
      "  7   -7.251336953577       -5.28       -2.48    0.0\n",
      "  8   -7.251338286331       -5.88       -2.75    0.0\n",
      "  9   -7.251338648060       -6.44       -3.02    0.0\n",
      " 10   -7.251338752120       -6.98       -3.28    0.0\n",
      " 11   -7.251338783691       -7.50       -3.54    0.0\n",
      " 12   -7.251338793709       -8.00       -3.79    0.0\n",
      " 13   -7.251338797003       -8.48       -4.03    0.0\n",
      " 14   -7.251338798115       -8.95       -4.27    0.0\n",
      " 15   -7.251338798498       -9.42       -4.51    0.0\n",
      " 16   -7.251338798631       -9.87       -4.74    0.0\n",
      " 17   -7.251338798679      -10.33       -4.97    0.0\n",
      " 18   -7.251338798695      -10.78       -5.20    0.0\n",
      " 19   -7.251338798701      -11.22       -5.43    0.0\n",
      " 20   -7.251338798703      -11.67       -5.65    0.0\n",
      " 21   -7.251338798704      -12.12       -5.88    0.0\n",
      " 22   -7.251338798704      -12.56       -6.10    0.0\n",
      " 23   -7.251338798704      -13.01       -6.33    0.0\n",
      " 24   -7.251338798705      -13.50       -6.55    0.0\n",
      " 25   -7.251338798705      -13.80       -6.77    0.0\n",
      " 26   -7.251338798705      -14.75       -6.98    0.0\n",
      " 27   -7.251338798705      -15.05       -7.21    0.0\n",
      " 28   -7.251338798705      -15.05       -7.36    0.0\n",
      " 29   -7.251338798705      -14.75       -7.46    0.0\n",
      " 30   -7.251338798705   +    -Inf       -7.54    0.0\n",
      " 31   -7.251338798705      -14.75       -7.74    0.0\n",
      " 32   -7.251338798705   +  -14.45       -7.79    0.0\n",
      " 33   -7.251338798705   +  -14.05       -7.22    0.0\n",
      " 34   -7.251338798705      -13.97       -7.46    0.0\n",
      " 35   -7.251338798705   +  -14.75       -7.42    0.0\n",
      " 36   -7.251338798705   +  -15.05       -7.38    0.0\n",
      " 37   -7.251338798705   +  -15.05       -7.33    0.0\n",
      " 38   -7.251338798705      -14.35       -7.56    0.0\n",
      " 39   -7.251338798705   +  -15.05       -7.68    0.0\n",
      " 40   -7.251338798705   +  -14.45       -7.45    0.0\n",
      " 41   -7.251338798705      -14.45       -7.69    0.0\n",
      " 42   -7.251338798705   +  -14.57       -7.48    0.0\n",
      " 43   -7.251338798705      -15.05       -7.65    0.0\n",
      " 44   -7.251338798705   +  -14.35       -7.28    0.0\n",
      " 45   -7.251338798705      -14.10       -7.46    0.0\n",
      " 46   -7.251338798705      -15.05       -7.72    0.0\n",
      " 47   -7.251338798705   +  -14.45       -7.45    0.0\n",
      " 48   -7.251338798705      -14.57       -7.71    0.0\n",
      " 49   -7.251338798705   +  -15.05       -7.97    0.0\n",
      " 50   -7.251338798705   +  -14.57       -7.78    0.0\n",
      " 51   -7.251338798705      -14.57       -7.84    0.0\n",
      " 52   -7.251338798705   +  -14.57       -7.66    0.0\n",
      " 53   -7.251338798705      -14.75       -7.57    0.0\n",
      " 54   -7.251338798705   +  -14.75       -7.47    0.0\n",
      " 55   -7.251338798705      -14.45       -7.56    0.0\n",
      " 56   -7.251338798705   +  -14.57       -7.81    0.0\n",
      " 57   -7.251338798705   +    -Inf       -7.88    0.0\n",
      " 58   -7.251338798705      -15.05       -7.77    0.0\n",
      " 59   -7.251338798705      -15.05       -7.72    0.0\n",
      " 60   -7.251338798705   +  -15.05       -7.60    0.0\n",
      " 61   -7.251338798705   +  -14.75       -7.86    0.0\n",
      " 62   -7.251338798705      -14.57       -7.66    0.0\n",
      " 63   -7.251338798705      -14.75       -7.73    0.0\n",
      " 64   -7.251338798705   +  -14.35       -7.79    0.0\n",
      " 65   -7.251338798705   +  -14.75       -7.32    0.0\n",
      " 66   -7.251338798705      -14.27       -7.56    0.0\n",
      " 67   -7.251338798705   +  -14.57       -7.54    0.0\n",
      " 68   -7.251338798705   +  -15.05       -7.68    0.0\n",
      " 69   -7.251338798705      -14.45       -7.94    0.0\n",
      " 70   -7.251338798705   +  -14.35       -7.37    0.0\n",
      " 71   -7.251338798705      -14.35       -7.68    0.0\n",
      " 72   -7.251338798705   +  -14.75       -7.64    0.0\n",
      " 73   -7.251338798705   +    -Inf       -7.81    0.0\n",
      " 74   -7.251338798705   +    -Inf       -7.94    0.0\n",
      " 75   -7.251338798705   +  -14.05       -7.18    0.0\n",
      " 76   -7.251338798705      -13.97       -7.41    0.0\n",
      " 77   -7.251338798705   +  -14.45       -7.67    0.0\n",
      " 78   -7.251338798705   +  -14.45       -7.30    0.0\n",
      " 79   -7.251338798705      -14.27       -7.54    0.0\n",
      " 80   -7.251338798705      -14.75       -7.76    0.0\n",
      " 81   -7.251338798705   +  -14.15       -7.40    0.0\n",
      " 82   -7.251338798705      -14.35       -7.62    0.0\n",
      " 83   -7.251338798705   +  -14.27       -7.21    0.0\n",
      " 84   -7.251338798705      -14.10       -7.41    0.0\n",
      " 85   -7.251338798705   +  -14.75       -7.66    0.0\n",
      " 86   -7.251338798705   +  -14.75       -7.56    0.0\n",
      " 87   -7.251338798705   +  -15.05       -7.52    0.0\n",
      " 88   -7.251338798705   +  -14.57       -7.31    0.0\n",
      " 89   -7.251338798705      -14.15       -7.51    0.0\n",
      " 90   -7.251338798705   +  -14.75       -7.76    0.0\n",
      " 91   -7.251338798705   +  -14.75       -7.78    0.0\n",
      " 92   -7.251338798705      -14.35       -7.75    0.0\n",
      " 93   -7.251338798705   +  -15.05       -7.85    0.0\n",
      " 94   -7.251338798705   +  -14.75       -7.62    0.0\n",
      " 95   -7.251338798705      -15.05       -7.54    0.0\n",
      " 96   -7.251338798705      -15.05       -7.71    0.0\n",
      " 97   -7.251338798705   +  -14.45       -7.57    0.0\n",
      " 98   -7.251338798705      -15.05       -7.69    0.0\n",
      " 99   -7.251338798705   +  -14.75       -7.90    0.0\n",
      " 100   -7.251338798705   +    -Inf       -7.47    0.0\n",
      " 101   -7.251338798705      -14.35       -7.69    0.0\n",
      "┌ Warning: SCF not converged.\n",
      "└ @ DFTK ~/work/DFTK.jl/DFTK.jl/src/scf/scf_callbacks.jl:37\n"
     ]
    }
   ],
   "cell_type": "code",
   "source": [
    "scfres = self_consistent_field(basis;\n",
    "                               tol=1e-8,\n",
    "                               solver=my_fp_solver,\n",
    "                               eigensolver=my_eig_solver,\n",
    "                               mixing=MyMixing());"
   ],
   "metadata": {},
   "execution_count": 5
  },
  {
   "cell_type": "markdown",
   "source": [
    "Note that the default convergence criterion is the difference in\n",
    "density. When this gets below `tol`, the\n",
    "\"driver\" `self_consistent_field` artificially makes the fixed-point\n",
    "solver think it's converged by forcing `f(x) = x`. You can customize\n",
    "this with the `is_converged` keyword argument to\n",
    "`self_consistent_field`."
   ],
   "metadata": {}
  }
 ],
 "nbformat_minor": 3,
 "metadata": {
  "language_info": {
   "file_extension": ".jl",
   "mimetype": "application/julia",
   "name": "julia",
   "version": "1.8.3"
  },
  "kernelspec": {
   "name": "julia-1.8",
   "display_name": "Julia 1.8.3",
   "language": "julia"
  }
 },
 "nbformat": 4
}
