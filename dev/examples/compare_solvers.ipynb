{
 "cells": [
  {
   "cell_type": "markdown",
   "source": [
    "# Comparison of DFT solvers"
   ],
   "metadata": {}
  },
  {
   "cell_type": "markdown",
   "source": [
    "We compare four different approaches for solving the DFT minimisation problem,\n",
    "namely a density-based SCF, a potential-based SCF, direct minimisation and Newton."
   ],
   "metadata": {}
  },
  {
   "cell_type": "markdown",
   "source": [
    "First we setup our problem"
   ],
   "metadata": {}
  },
  {
   "outputs": [],
   "cell_type": "code",
   "source": [
    "using DFTK\n",
    "using LinearAlgebra\n",
    "\n",
    "a = 10.26  # Silicon lattice constant in Bohr\n",
    "lattice = a / 2 * [[0 1 1.];\n",
    "                   [1 0 1.];\n",
    "                   [1 1 0.]]\n",
    "Si = ElementPsp(:Si, psp=load_psp(\"hgh/lda/Si-q4\"))\n",
    "atoms     = [Si, Si]\n",
    "positions = [ones(3)/8, -ones(3)/8]\n",
    "\n",
    "model = model_LDA(lattice, atoms, positions)\n",
    "basis = PlaneWaveBasis(model; Ecut=5, kgrid=[3, 3, 3])\n",
    "\n",
    "# Convergence we desire\n",
    "tol = 1e-12\n",
    "is_converged = DFTK.ScfConvergenceDensity(tol);"
   ],
   "metadata": {},
   "execution_count": 1
  },
  {
   "cell_type": "markdown",
   "source": [
    "## Density-based self-consistent field"
   ],
   "metadata": {}
  },
  {
   "outputs": [
    {
     "name": "stdout",
     "output_type": "stream",
     "text": [
      "n     Energy            log10(ΔE)   log10(Δρ)   Diag\n",
      "---   ---------------   ---------   ---------   ----\n",
      "  1   -7.846833049048                   -0.70    4.5\n",
      "  2   -7.852326126981       -2.26       -1.53    1.0\n",
      "  3   -7.852646059163       -3.49       -2.52    3.2\n",
      "  4   -7.852646677283       -6.21       -3.36    2.0\n",
      "  5   -7.852646685876       -8.07       -4.79    1.2\n",
      "  6   -7.852646686723       -9.07       -5.18    4.0\n",
      "  7   -7.852646686729      -11.21       -6.09    1.2\n",
      "  8   -7.852646686730      -12.45       -7.22    2.8\n",
      "  9   -7.852646686730      -14.75       -7.44    2.0\n",
      " 10   -7.852646686730   +    -Inf       -8.39    2.2\n",
      " 11   -7.852646686730      -14.45       -8.72    1.0\n",
      " 12   -7.852646686730   +  -14.45       -9.42    2.2\n",
      " 13   -7.852646686730      -14.75      -10.88    2.0\n",
      " 14   -7.852646686730   +    -Inf      -11.73    3.2\n",
      " 15   -7.852646686730   +  -14.45      -12.13    2.0\n"
     ]
    }
   ],
   "cell_type": "code",
   "source": [
    "scfres_scf = self_consistent_field(basis; is_converged);"
   ],
   "metadata": {},
   "execution_count": 2
  },
  {
   "cell_type": "markdown",
   "source": [
    "## Potential-based SCF"
   ],
   "metadata": {}
  },
  {
   "outputs": [
    {
     "name": "stdout",
     "output_type": "stream",
     "text": [
      "n     Energy            log10(ΔE)   log10(Δρ)   α      Diag\n",
      "---   ---------------   ---------   ---------   ----   ----\n",
      "  1   -7.846864581043                   -0.70           4.8\n",
      "  2   -7.852527762585       -2.25       -1.63   0.80    2.0\n",
      "  3   -7.852637414090       -3.96       -2.71   0.80    1.0\n",
      "  4   -7.852646424424       -5.05       -3.31   0.80    2.0\n",
      "  5   -7.852646682284       -6.59       -4.13   0.80    2.0\n",
      "  6   -7.852646686461       -8.38       -4.77   0.80    1.5\n",
      "  7   -7.852646686722       -9.58       -5.82   0.80    1.5\n",
      "  8   -7.852646686730      -11.13       -6.62   0.80    2.0\n",
      "  9   -7.852646686730      -12.92       -7.81   0.80    1.8\n",
      " 10   -7.852646686730      -14.75       -8.62   0.80    2.8\n",
      " 11   -7.852646686730   +  -15.05       -8.56   0.80    2.0\n",
      " 12   -7.852646686730      -14.57       -9.83   0.80    1.0\n",
      " 13   -7.852646686730      -15.05      -10.72   0.80    2.2\n",
      " 14   -7.852646686730   +  -14.57      -11.33   0.80    2.0\n",
      " 15   -7.852646686730      -14.27      -11.59   0.80    1.8\n",
      " 16   -7.852646686730   +  -14.75      -12.36   0.80    1.0\n"
     ]
    }
   ],
   "cell_type": "code",
   "source": [
    "scfres_scfv = DFTK.scf_potential_mixing(basis; is_converged);"
   ],
   "metadata": {},
   "execution_count": 3
  },
  {
   "cell_type": "markdown",
   "source": [
    "## Direct minimization"
   ],
   "metadata": {}
  },
  {
   "outputs": [
    {
     "name": "stdout",
     "output_type": "stream",
     "text": [
      "Iter     Function value   Gradient norm \n",
      "     0     1.375395e+01     3.472760e+00\n",
      " * time: 0.4141199588775635\n",
      "     1     1.345282e+00     1.778258e+00\n",
      " * time: 0.6162469387054443\n",
      "     2    -1.536269e+00     2.131893e+00\n",
      " * time: 0.6397719383239746\n",
      "     3    -3.827775e+00     1.829706e+00\n",
      " * time: 0.7522928714752197\n",
      "     4    -5.058952e+00     1.595514e+00\n",
      " * time: 0.7857668399810791\n",
      "     5    -6.646831e+00     1.036288e+00\n",
      " * time: 0.8192520141601562\n",
      "     6    -7.332951e+00     5.384534e-01\n",
      " * time: 0.8527870178222656\n",
      "     7    -7.610033e+00     4.313432e-01\n",
      " * time: 0.8759920597076416\n",
      "     8    -7.750359e+00     1.210738e-01\n",
      " * time: 0.8991539478302002\n",
      "     9    -7.793349e+00     1.383538e-01\n",
      " * time: 0.922576904296875\n",
      "    10    -7.822164e+00     1.064798e-01\n",
      " * time: 0.9460320472717285\n",
      "    11    -7.839552e+00     5.986846e-02\n",
      " * time: 0.9693589210510254\n",
      "    12    -7.849165e+00     3.243035e-02\n",
      " * time: 0.9926860332489014\n",
      "    13    -7.851341e+00     2.800450e-02\n",
      " * time: 1.016010046005249\n",
      "    14    -7.852195e+00     1.339410e-02\n",
      " * time: 1.0392858982086182\n",
      "    15    -7.852476e+00     5.776807e-03\n",
      " * time: 1.0625050067901611\n",
      "    16    -7.852599e+00     3.268144e-03\n",
      " * time: 1.0855848789215088\n",
      "    17    -7.852632e+00     2.578116e-03\n",
      " * time: 1.1086840629577637\n",
      "    18    -7.852641e+00     1.832129e-03\n",
      " * time: 1.1318590641021729\n",
      "    19    -7.852644e+00     1.155474e-03\n",
      " * time: 1.155163049697876\n",
      "    20    -7.852646e+00     5.450135e-04\n",
      " * time: 1.1782829761505127\n",
      "    21    -7.852646e+00     3.597752e-04\n",
      " * time: 1.2013790607452393\n",
      "    22    -7.852647e+00     2.395499e-04\n",
      " * time: 1.2244908809661865\n",
      "    23    -7.852647e+00     9.107518e-05\n",
      " * time: 1.2477469444274902\n",
      "    24    -7.852647e+00     7.087242e-05\n",
      " * time: 1.2712359428405762\n",
      "    25    -7.852647e+00     2.592768e-05\n",
      " * time: 1.2945530414581299\n",
      "    26    -7.852647e+00     1.709226e-05\n",
      " * time: 1.317685842514038\n",
      "    27    -7.852647e+00     8.217772e-06\n",
      " * time: 1.3408989906311035\n",
      "    28    -7.852647e+00     6.299861e-06\n",
      " * time: 1.364137887954712\n",
      "    29    -7.852647e+00     4.619742e-06\n",
      " * time: 1.3873920440673828\n",
      "    30    -7.852647e+00     2.482570e-06\n",
      " * time: 1.4105799198150635\n",
      "    31    -7.852647e+00     1.240541e-06\n",
      " * time: 1.4340269565582275\n",
      "    32    -7.852647e+00     6.201813e-07\n",
      " * time: 1.457176923751831\n",
      "    33    -7.852647e+00     3.906804e-07\n",
      " * time: 1.4803578853607178\n",
      "    34    -7.852647e+00     2.317640e-07\n",
      " * time: 1.5037000179290771\n",
      "    35    -7.852647e+00     1.783269e-07\n",
      " * time: 1.5269649028778076\n",
      "    36    -7.852647e+00     9.392031e-08\n",
      " * time: 1.5501329898834229\n",
      "    37    -7.852647e+00     4.866113e-08\n",
      " * time: 1.5742130279541016\n",
      "    38    -7.852647e+00     3.154074e-08\n",
      " * time: 1.5980780124664307\n",
      "    39    -7.852647e+00     2.095363e-08\n",
      " * time: 1.6214380264282227\n",
      "    40    -7.852647e+00     1.239612e-08\n",
      " * time: 1.655616044998169\n",
      "    41    -7.852647e+00     1.082051e-08\n",
      " * time: 1.6793570518493652\n",
      "    42    -7.852647e+00     1.082051e-08\n",
      " * time: 1.7755069732666016\n"
     ]
    }
   ],
   "cell_type": "code",
   "source": [
    "scfres_dm = direct_minimization(basis; tol);"
   ],
   "metadata": {},
   "execution_count": 4
  },
  {
   "cell_type": "markdown",
   "source": [
    "## Newton algorithm"
   ],
   "metadata": {}
  },
  {
   "cell_type": "markdown",
   "source": [
    "Start not too far from the solution to ensure convergence:\n",
    "We run first a very crude SCF to get close and then switch to Newton."
   ],
   "metadata": {}
  },
  {
   "outputs": [
    {
     "name": "stdout",
     "output_type": "stream",
     "text": [
      "n     Energy            log10(ΔE)   log10(Δρ)   Diag\n",
      "---   ---------------   ---------   ---------   ----\n",
      "  1   -7.846804920780                   -0.70    4.5\n",
      "  2   -7.852285697773       -2.26       -1.53    1.0\n"
     ]
    }
   ],
   "cell_type": "code",
   "source": [
    "scfres_start = self_consistent_field(basis; tol=1e-1);"
   ],
   "metadata": {},
   "execution_count": 5
  },
  {
   "cell_type": "markdown",
   "source": [
    "Remove the virtual orbitals (which Newton cannot treat yet)"
   ],
   "metadata": {}
  },
  {
   "outputs": [
    {
     "name": "stdout",
     "output_type": "stream",
     "text": [
      "n     Energy            log10(ΔE)   log10(Δρ)\n",
      "---   ---------------   ---------   ---------\n",
      "  1   -7.852646683355                   -2.57\n",
      "  2   -7.852646686730       -8.47       -5.21\n",
      "  3   -7.852646686730   +  -14.75       -9.47\n",
      "  4   -7.852646686730   +    -Inf      -15.59\n"
     ]
    }
   ],
   "cell_type": "code",
   "source": [
    "ψ, _ = DFTK.select_occupied_orbitals(basis, scfres_start.ψ, scfres_start.occupation)\n",
    "scfres_newton = newton(basis, ψ; tol);"
   ],
   "metadata": {},
   "execution_count": 6
  },
  {
   "cell_type": "markdown",
   "source": [
    "## Comparison of results"
   ],
   "metadata": {}
  },
  {
   "outputs": [
    {
     "name": "stdout",
     "output_type": "stream",
     "text": [
      "|ρ_newton - ρ_scf|  = 6.178591894771385e-13\n",
      "|ρ_newton - ρ_scfv| = 9.58070398855297e-14\n",
      "|ρ_newton - ρ_dm|   = 7.189955606422062e-10\n"
     ]
    }
   ],
   "cell_type": "code",
   "source": [
    "println(\"|ρ_newton - ρ_scf|  = \", norm(scfres_newton.ρ - scfres_scf.ρ))\n",
    "println(\"|ρ_newton - ρ_scfv| = \", norm(scfres_newton.ρ - scfres_scfv.ρ))\n",
    "println(\"|ρ_newton - ρ_dm|   = \", norm(scfres_newton.ρ - scfres_dm.ρ))"
   ],
   "metadata": {},
   "execution_count": 7
  }
 ],
 "nbformat_minor": 3,
 "metadata": {
  "language_info": {
   "file_extension": ".jl",
   "mimetype": "application/julia",
   "name": "julia",
   "version": "1.8.2"
  },
  "kernelspec": {
   "name": "julia-1.8",
   "display_name": "Julia 1.8.2",
   "language": "julia"
  }
 },
 "nbformat": 4
}
