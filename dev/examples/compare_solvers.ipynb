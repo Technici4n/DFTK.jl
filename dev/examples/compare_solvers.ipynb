{
 "cells": [
  {
   "cell_type": "markdown",
   "source": [
    "# Comparison of DFT solvers"
   ],
   "metadata": {}
  },
  {
   "cell_type": "markdown",
   "source": [
    "We compare four different approaches for solving the DFT minimisation problem,\n",
    "namely a density-based SCF, a potential-based SCF, direct minimisation and Newton."
   ],
   "metadata": {}
  },
  {
   "cell_type": "markdown",
   "source": [
    "First we setup our problem"
   ],
   "metadata": {}
  },
  {
   "outputs": [],
   "cell_type": "code",
   "source": [
    "using DFTK\n",
    "using LinearAlgebra\n",
    "\n",
    "a = 10.26  # Silicon lattice constant in Bohr\n",
    "lattice = a / 2 * [[0 1 1.];\n",
    "                   [1 0 1.];\n",
    "                   [1 1 0.]]\n",
    "Si = ElementPsp(:Si, psp=load_psp(\"hgh/lda/Si-q4\"))\n",
    "atoms     = [Si, Si]\n",
    "positions = [ones(3)/8, -ones(3)/8]\n",
    "\n",
    "model = model_LDA(lattice, atoms, positions)\n",
    "basis = PlaneWaveBasis(model; Ecut=5, kgrid=[3, 3, 3])\n",
    "\n",
    "# Convergence we desire\n",
    "tol = 1e-12\n",
    "is_converged = DFTK.ScfConvergenceDensity(tol);"
   ],
   "metadata": {},
   "execution_count": 1
  },
  {
   "cell_type": "markdown",
   "source": [
    "## Density-based self-consistent field"
   ],
   "metadata": {}
  },
  {
   "outputs": [
    {
     "name": "stdout",
     "output_type": "stream",
     "text": [
      "n     Energy            log10(ΔE)   log10(Δρ)   Diag\n",
      "---   ---------------   ---------   ---------   ----\n",
      "  1   -7.846858043013                   -0.70    4.0\n",
      "  2   -7.852325800244       -2.26       -1.53    1.0\n",
      "  3   -7.852646090320       -3.49       -2.52    3.0\n",
      "  4   -7.852646676392       -6.23       -3.34    2.5\n",
      "  5   -7.852646685781       -8.03       -4.77    1.0\n",
      "  6   -7.852646686725       -9.02       -5.16    4.2\n",
      "  7   -7.852646686729      -11.36       -5.84    2.0\n",
      "  8   -7.852646686730      -12.39       -7.25    2.0\n",
      "  9   -7.852646686730      -14.75       -7.69    2.2\n",
      " 10   -7.852646686730   +  -14.75       -8.83    2.5\n",
      " 11   -7.852646686730      -14.75       -9.53    1.8\n",
      " 12   -7.852646686730   +    -Inf      -10.24    1.8\n",
      " 13   -7.852646686730      -14.75      -10.88    2.2\n",
      " 14   -7.852646686730   +  -14.75      -11.32    2.0\n",
      " 15   -7.852646686730      -14.75      -11.91    1.8\n",
      " 16   -7.852646686730   +  -14.75      -12.75    2.8\n"
     ]
    }
   ],
   "cell_type": "code",
   "source": [
    "scfres_scf = self_consistent_field(basis; is_converged);"
   ],
   "metadata": {},
   "execution_count": 2
  },
  {
   "cell_type": "markdown",
   "source": [
    "## Potential-based SCF"
   ],
   "metadata": {}
  },
  {
   "outputs": [
    {
     "name": "stdout",
     "output_type": "stream",
     "text": [
      "n     Energy            log10(ΔE)   log10(Δρ)   α      Diag\n",
      "---   ---------------   ---------   ---------   ----   ----\n",
      "  1   -7.846897092033                   -0.70           4.0\n",
      "  2   -7.852531712227       -2.25       -1.63   0.80    2.0\n",
      "  3   -7.852637654019       -3.97       -2.71   0.80    1.0\n",
      "  4   -7.852646466853       -5.05       -3.30   0.80    2.2\n",
      "  5   -7.852646682302       -6.67       -4.15   0.80    1.5\n",
      "  6   -7.852646686384       -8.39       -4.80   0.80    1.2\n",
      "  7   -7.852646686723       -9.47       -5.84   0.80    1.8\n",
      "  8   -7.852646686730      -11.19       -6.77   0.80    2.2\n",
      "  9   -7.852646686730      -12.72       -7.62   0.80    2.2\n",
      " 10   -7.852646686730   +    -Inf       -8.64   0.80    1.5\n",
      " 11   -7.852646686730      -15.05       -8.34   0.80    3.0\n",
      " 12   -7.852646686730   +  -15.05       -9.19   0.80    1.0\n",
      " 13   -7.852646686730      -14.75      -10.34   0.80    1.0\n",
      " 14   -7.852646686730   +  -15.05      -10.45   0.80    3.0\n",
      " 15   -7.852646686730      -14.75      -10.39   0.80    2.0\n",
      " 16   -7.852646686730   +  -14.75      -11.27   0.80    1.0\n",
      " 17   -7.852646686730      -14.75      -12.04   0.80    1.2\n"
     ]
    }
   ],
   "cell_type": "code",
   "source": [
    "scfres_scfv = DFTK.scf_potential_mixing(basis; is_converged);"
   ],
   "metadata": {},
   "execution_count": 3
  },
  {
   "cell_type": "markdown",
   "source": [
    "## Direct minimization"
   ],
   "metadata": {}
  },
  {
   "outputs": [
    {
     "name": "stdout",
     "output_type": "stream",
     "text": [
      "Iter     Function value   Gradient norm \n",
      "     0     1.417891e+01     3.565430e+00\n",
      " * time: 0.4006030559539795\n",
      "     1     1.487755e+00     1.799995e+00\n",
      " * time: 0.5968949794769287\n",
      "     2    -1.671022e+00     2.061087e+00\n",
      " * time: 0.6202530860900879\n",
      "     3    -3.999604e+00     1.743739e+00\n",
      " * time: 0.6540060043334961\n",
      "     4    -5.576642e+00     1.430883e+00\n",
      " * time: 0.6874790191650391\n",
      "     5    -7.018948e+00     6.941714e-01\n",
      " * time: 0.7212250232696533\n",
      "     6    -7.394014e+00     6.262683e-01\n",
      " * time: 0.7444601058959961\n",
      "     7    -7.602265e+00     1.506265e-01\n",
      " * time: 0.7681078910827637\n",
      "     8    -7.677591e+00     1.641934e-01\n",
      " * time: 0.7913539409637451\n",
      "     9    -7.742363e+00     1.573845e-01\n",
      " * time: 0.8146641254425049\n",
      "    10    -7.785356e+00     1.043321e-01\n",
      " * time: 0.8379449844360352\n",
      "    11    -7.819385e+00     7.046468e-02\n",
      " * time: 0.8614609241485596\n",
      "    12    -7.836699e+00     4.126218e-02\n",
      " * time: 0.884645938873291\n",
      "    13    -7.843618e+00     3.722691e-02\n",
      " * time: 0.9081079959869385\n",
      "    14    -7.845325e+00     3.971882e-02\n",
      " * time: 0.9313840866088867\n",
      "    15    -7.845526e+00     4.042786e-02\n",
      " * time: 0.9649460315704346\n",
      "    16    -7.845526e+00     4.045377e-02\n",
      " * time: 1.0401561260223389\n",
      "    17    -7.845542e+00     4.193419e-02\n",
      " * time: 1.1049749851226807\n",
      "    18    -7.845542e+00     4.200905e-02\n",
      " * time: 1.211225986480713\n",
      "    19    -7.845549e+00     4.251500e-02\n",
      " * time: 1.3421730995178223\n",
      "    20    -7.845552e+00     4.272803e-02\n",
      " * time: 1.4378330707550049\n",
      "    21    -7.845555e+00     4.420415e-02\n",
      " * time: 1.5230469703674316\n",
      "    22    -7.845555e+00     4.478336e-02\n",
      " * time: 1.6186881065368652\n",
      "    23    -7.845557e+00     4.592494e-02\n",
      " * time: 1.7040009498596191\n",
      "    24    -7.845558e+00     4.686805e-02\n",
      " * time: 1.7898919582366943\n",
      "    25    -7.845559e+00     4.763441e-02\n",
      " * time: 1.8750560283660889\n",
      "    26    -7.845561e+00     4.828198e-02\n",
      " * time: 1.9604771137237549\n",
      "    27    -7.845566e+00     4.953677e-02\n",
      " * time: 2.036173105239868\n",
      "    28    -7.845572e+00     5.046794e-02\n",
      " * time: 2.111975908279419\n",
      "    29    -7.845591e+00     5.186203e-02\n",
      " * time: 2.1774790287017822\n",
      "    30    -7.845615e+00     5.240517e-02\n",
      " * time: 2.2625880241394043\n",
      "    31    -7.845678e+00     4.783583e-02\n",
      " * time: 2.306328058242798\n",
      "    32    -7.846165e+00     4.410788e-02\n",
      " * time: 2.339832067489624\n",
      "    33    -7.848158e+00     3.443522e-02\n",
      " * time: 2.3630471229553223\n",
      "    34    -7.850739e+00     1.958080e-02\n",
      " * time: 2.3862080574035645\n",
      "    35    -7.852202e+00     3.119162e-02\n",
      " * time: 2.4094250202178955\n",
      "    36    -7.852499e+00     1.758774e-02\n",
      " * time: 2.432600975036621\n",
      "    37    -7.852610e+00     2.631276e-03\n",
      " * time: 2.4560389518737793\n",
      "    38    -7.852639e+00     2.072559e-03\n",
      " * time: 2.47920298576355\n",
      "    39    -7.852643e+00     2.052405e-03\n",
      " * time: 2.5026190280914307\n",
      "    40    -7.852645e+00     9.757794e-04\n",
      " * time: 2.5258569717407227\n",
      "    41    -7.852646e+00     3.078786e-04\n",
      " * time: 2.54931902885437\n",
      "    42    -7.852647e+00     3.672383e-04\n",
      " * time: 2.5726380348205566\n",
      "    43    -7.852647e+00     2.991762e-04\n",
      " * time: 2.596226930618286\n",
      "    44    -7.852647e+00     7.941282e-05\n",
      " * time: 2.6196320056915283\n",
      "    45    -7.852647e+00     9.757838e-05\n",
      " * time: 2.6431519985198975\n",
      "    46    -7.852647e+00     7.426827e-05\n",
      " * time: 2.6668550968170166\n",
      "    47    -7.852647e+00     2.028856e-05\n",
      " * time: 2.690195083618164\n",
      "    48    -7.852647e+00     1.779606e-05\n",
      " * time: 2.7138988971710205\n",
      "    49    -7.852647e+00     1.006964e-05\n",
      " * time: 2.737220048904419\n",
      "    50    -7.852647e+00     3.979284e-06\n",
      " * time: 2.7605690956115723\n",
      "    51    -7.852647e+00     4.437135e-06\n",
      " * time: 2.7843921184539795\n",
      "    52    -7.852647e+00     1.688501e-06\n",
      " * time: 2.807692050933838\n",
      "    53    -7.852647e+00     7.964547e-07\n",
      " * time: 2.8311820030212402\n",
      "    54    -7.852647e+00     5.441526e-07\n",
      " * time: 2.855104923248291\n",
      "    55    -7.852647e+00     2.822368e-07\n",
      " * time: 2.8785810470581055\n",
      "    56    -7.852647e+00     2.550057e-07\n",
      " * time: 2.9018800258636475\n",
      "    57    -7.852647e+00     7.566654e-08\n",
      " * time: 2.9251859188079834\n",
      "    58    -7.852647e+00     6.259048e-08\n",
      " * time: 2.9484760761260986\n",
      "    59    -7.852647e+00     3.548149e-08\n",
      " * time: 2.9722049236297607\n",
      "    60    -7.852647e+00     1.804176e-08\n",
      " * time: 2.9957361221313477\n",
      "    61    -7.852647e+00     1.284304e-08\n",
      " * time: 3.029607057571411\n",
      "    62    -7.852647e+00     5.494652e-09\n",
      " * time: 3.0529041290283203\n",
      "    63    -7.852647e+00     7.521034e-09\n",
      " * time: 3.0766730308532715\n",
      "    64    -7.852647e+00     7.450694e-09\n",
      " * time: 3.120906114578247\n"
     ]
    }
   ],
   "cell_type": "code",
   "source": [
    "scfres_dm = direct_minimization(basis; tol);"
   ],
   "metadata": {},
   "execution_count": 4
  },
  {
   "cell_type": "markdown",
   "source": [
    "## Newton algorithm"
   ],
   "metadata": {}
  },
  {
   "cell_type": "markdown",
   "source": [
    "Start not too far from the solution to ensure convergence:\n",
    "We run first a very crude SCF to get close and then switch to Newton."
   ],
   "metadata": {}
  },
  {
   "outputs": [
    {
     "name": "stdout",
     "output_type": "stream",
     "text": [
      "n     Energy            log10(ΔE)   log10(Δρ)   Diag\n",
      "---   ---------------   ---------   ---------   ----\n",
      "  1   -7.846825016172                   -0.70    4.0\n",
      "  2   -7.852318158115       -2.26       -1.53    1.0\n"
     ]
    }
   ],
   "cell_type": "code",
   "source": [
    "scfres_start = self_consistent_field(basis; tol=1e-1);"
   ],
   "metadata": {},
   "execution_count": 5
  },
  {
   "cell_type": "markdown",
   "source": [
    "Remove the virtual orbitals (which Newton cannot treat yet)"
   ],
   "metadata": {}
  },
  {
   "outputs": [
    {
     "name": "stdout",
     "output_type": "stream",
     "text": [
      "n     Energy            log10(ΔE)   log10(Δρ)\n",
      "---   ---------------   ---------   ---------\n",
      "  1   -7.852646686690                   -2.54\n",
      "  2   -7.852646686730      -10.40       -5.84\n",
      "  3   -7.852646686730   +  -14.75      -12.57\n"
     ]
    }
   ],
   "cell_type": "code",
   "source": [
    "ψ, _ = DFTK.select_occupied_orbitals(basis, scfres_start.ψ, scfres_start.occupation)\n",
    "scfres_newton = newton(basis, ψ; tol);"
   ],
   "metadata": {},
   "execution_count": 6
  },
  {
   "cell_type": "markdown",
   "source": [
    "## Comparison of results"
   ],
   "metadata": {}
  },
  {
   "outputs": [
    {
     "name": "stdout",
     "output_type": "stream",
     "text": [
      "|ρ_newton - ρ_scf|  = 9.254793092100821e-14\n",
      "|ρ_newton - ρ_scfv| = 2.3576073220825363e-11\n",
      "|ρ_newton - ρ_dm|   = 3.2364494451510676e-10\n"
     ]
    }
   ],
   "cell_type": "code",
   "source": [
    "println(\"|ρ_newton - ρ_scf|  = \", norm(scfres_newton.ρ - scfres_scf.ρ))\n",
    "println(\"|ρ_newton - ρ_scfv| = \", norm(scfres_newton.ρ - scfres_scfv.ρ))\n",
    "println(\"|ρ_newton - ρ_dm|   = \", norm(scfres_newton.ρ - scfres_dm.ρ))"
   ],
   "metadata": {},
   "execution_count": 7
  }
 ],
 "nbformat_minor": 3,
 "metadata": {
  "language_info": {
   "file_extension": ".jl",
   "mimetype": "application/julia",
   "name": "julia",
   "version": "1.8.1"
  },
  "kernelspec": {
   "name": "julia-1.8",
   "display_name": "Julia 1.8.1",
   "language": "julia"
  }
 },
 "nbformat": 4
}
