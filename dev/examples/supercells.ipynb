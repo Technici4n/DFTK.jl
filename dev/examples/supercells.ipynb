{
 "cells": [
  {
   "cell_type": "markdown",
   "source": [
    "# Creating and modelling metallic supercells\n",
    "\n",
    "In this section we will be concerned with modelling supercells of aluminium.\n",
    "When dealing with periodic problems there is no unique definition of the\n",
    "lattice: Clearly any duplication of the lattice along an axis is also a valid\n",
    "repetitive unit to describe exactly the same system.\n",
    "This is exactly what a **supercell** is: An $n$-fold repetition along one of the\n",
    "axes of the original lattice.\n",
    "\n",
    "The following code achieves this for aluminium:"
   ],
   "metadata": {}
  },
  {
   "outputs": [],
   "cell_type": "code",
   "source": [
    "using DFTK\n",
    "using LinearAlgebra\n",
    "\n",
    "function aluminium_setup(repeat=1; Ecut=7.0, kgrid=[2, 2, 2])\n",
    "    a = 7.65339\n",
    "    lattice = a * Matrix(I, 3, 3)\n",
    "    Al = ElementPsp(:Al, psp=load_psp(\"hgh/lda/al-q3\"))\n",
    "    atoms     = [Al, Al, Al, Al]\n",
    "    positions = [[0.0, 0.0, 0.0], [0.0, 0.5, 0.5], [0.5, 0.0, 0.5], [0.5, 0.5, 0.0]]\n",
    "\n",
    "    # Make supercell in ASE:\n",
    "    # We convert our lattice to the conventions used in ASE\n",
    "    # and then back ...\n",
    "    supercell = ase_atoms(lattice, atoms, positions) * (repeat, 1, 1)\n",
    "    lattice   = load_lattice(supercell)\n",
    "    positions = load_positions(supercell)\n",
    "    atoms = fill(Al, length(positions))\n",
    "\n",
    "    # Construct an LDA model and discretise\n",
    "    # Note: We disable symmetries explicitly here. Otherwise the problem sizes\n",
    "    #       we are able to run on the CI are too simple to observe the numerical\n",
    "    #       instabilities we want to trigger here.\n",
    "    model = model_LDA(lattice, atoms, positions; temperature=1e-3, symmetries=false)\n",
    "    PlaneWaveBasis(model; Ecut, kgrid)\n",
    "end;"
   ],
   "metadata": {},
   "execution_count": 1
  },
  {
   "cell_type": "markdown",
   "source": [
    "As part of the code we are using a routine inside the ASE,\n",
    "the [atomistic simulation environment](https://wiki.fysik.dtu.dk/ase/index.html)\n",
    "for creating the supercell and make use of the two-way interoperability of\n",
    "DFTK and ASE. For more details on this aspect see the documentation\n",
    "on Input and output formats."
   ],
   "metadata": {}
  },
  {
   "cell_type": "markdown",
   "source": [
    "Write an example supercell structure to a file to plot it:"
   ],
   "metadata": {}
  },
  {
   "outputs": [],
   "cell_type": "code",
   "source": [
    "setup = aluminium_setup(5)\n",
    "ase_atoms(setup.model).write(\"al_supercell.png\")"
   ],
   "metadata": {},
   "execution_count": 2
  },
  {
   "cell_type": "markdown",
   "source": [
    "<img src=\"https://docs.dftk.org/stable/examples/al_supercell.png\" width=500 height=500 />"
   ],
   "metadata": {}
  },
  {
   "cell_type": "markdown",
   "source": [
    "As we will see in this notebook the modelling of a system generally becomes\n",
    "harder if the system becomes larger.\n",
    "\n",
    "- This sounds like a trivial statement as *per se* the cost per SCF step increases\n",
    "  as the system (and thus $N$) gets larger.\n",
    "- But there is more to it:\n",
    "  If one is not careful also the *number of SCF iterations* increases\n",
    "  as the system gets larger.\n",
    "- The aim of a proper computational treatment of such supercells is therefore\n",
    "  to ensure that the **number of SCF iterations remains constant** when the\n",
    "  system size increases."
   ],
   "metadata": {}
  },
  {
   "cell_type": "markdown",
   "source": [
    "For achieving the latter DFTK by default employs the `LdosMixing`\n",
    "preconditioner [^HL2021] during the SCF iterations. This mixing approach is\n",
    "completely parameter free, but still automatically adapts to the treated\n",
    "system in order to efficiently prevent charge sloshing. As a result,\n",
    "modelling aluminium slabs indeed takes roughly the same number of SCF iterations\n",
    "irrespective of the supercell size:\n",
    "\n",
    "[^HL2021]:\n",
    "   M. F. Herbst and A. Levitt.\n",
    "   *Black-box inhomogeneous preconditioning for self-consistent field iterations in density functional theory.*\n",
    "   J. Phys. Cond. Matt *33* 085503 (2021). [ArXiv:2009.01665](https://arxiv.org/abs/2009.01665)"
   ],
   "metadata": {}
  },
  {
   "outputs": [
    {
     "name": "stdout",
     "output_type": "stream",
     "text": [
      "n     Energy            log10(ΔE)   log10(Δρ)   Diag\n",
      "---   ---------------   ---------   ---------   ----\n",
      "  1   -8.298630014534                   -0.85    5.2\n",
      "  2   -8.300224127516       -2.80       -1.25    1.1\n",
      "  3   -8.300451005630       -3.64       -1.89    2.4\n",
      "  4   -8.300463323758       -4.91       -2.78    2.4\n",
      "  5   -8.300464500301       -5.93       -3.14    3.9\n",
      "  6   -8.300464576912       -7.12       -3.28    1.5\n",
      "  7   -8.300464610707       -7.47       -3.41    4.0\n",
      "  8   -8.300464628794       -7.74       -3.55    1.0\n",
      "  9   -8.300464639892       -7.95       -3.73    1.0\n",
      " 10   -8.300464642289       -8.62       -3.88    1.8\n",
      " 11   -8.300464643792       -8.82       -4.22    1.0\n"
     ]
    }
   ],
   "cell_type": "code",
   "source": [
    "is_converged = DFTK.ScfConvergenceDensity(1e-4)  # Flag convergence based on density\n",
    "self_consistent_field(aluminium_setup(1); is_converged);"
   ],
   "metadata": {},
   "execution_count": 3
  },
  {
   "outputs": [
    {
     "name": "stdout",
     "output_type": "stream",
     "text": [
      "n     Energy            log10(ΔE)   log10(Δρ)   Diag\n",
      "---   ---------------   ---------   ---------   ----\n",
      "  1   -16.67468780521                   -0.70    6.6\n",
      "  2   -16.67869991657       -2.40       -1.14    1.4\n",
      "  3   -16.67923552573       -3.27       -1.87    3.4\n",
      "  4   -16.67928104907       -4.34       -2.77    3.4\n",
      "  5   -16.67928604269       -5.30       -3.22    5.2\n",
      "  6   -16.67928621919       -6.75       -3.52    4.5\n",
      "  7   -16.67928622338       -8.38       -3.98    1.0\n",
      "  8   -16.67928622426       -9.06       -4.63    1.0\n"
     ]
    }
   ],
   "cell_type": "code",
   "source": [
    "self_consistent_field(aluminium_setup(2); is_converged);"
   ],
   "metadata": {},
   "execution_count": 4
  },
  {
   "outputs": [
    {
     "name": "stdout",
     "output_type": "stream",
     "text": [
      "n     Energy            log10(ΔE)   log10(Δρ)   Diag\n",
      "---   ---------------   ---------   ---------   ----\n",
      "  1   -33.32572429047                   -0.56    7.5\n",
      "  2   -33.33273045351       -2.15       -1.00    1.0\n",
      "  3   -33.33412792515       -2.85       -1.74    5.2\n",
      "  4   -33.33428572156       -3.80       -2.64    2.5\n",
      "  5   -33.33694302065       -2.58       -2.52   12.9\n",
      "  6   -33.33694338376       -6.44       -2.54    1.0\n",
      "  7   -33.33694359819       -6.67       -3.07    1.4\n",
      "  8   -33.33694378146       -6.74       -3.60    4.6\n",
      "  9   -33.33694392380       -6.85       -3.80    1.8\n",
      " 10   -33.33694392663       -8.55       -4.49    2.8\n"
     ]
    }
   ],
   "cell_type": "code",
   "source": [
    "self_consistent_field(aluminium_setup(4); is_converged);"
   ],
   "metadata": {},
   "execution_count": 5
  },
  {
   "cell_type": "markdown",
   "source": [
    "When switching off explicitly the `LdosMixing`, by selecting `mixing=SimpleMixing()`,\n",
    "the performance of number of required SCF steps starts to increase as we increase\n",
    "the size of the modelled problem:"
   ],
   "metadata": {}
  },
  {
   "outputs": [
    {
     "name": "stdout",
     "output_type": "stream",
     "text": [
      "n     Energy            log10(ΔE)   log10(Δρ)   Diag\n",
      "---   ---------------   ---------   ---------   ----\n",
      "  1   -8.298297457134                   -0.85    5.0\n",
      "  2   -8.300235788899       -2.71       -1.59    1.0\n",
      "  3   -8.300422839257       -3.73       -2.39    5.0\n",
      "  4   -8.300316039244   +   -3.97       -2.17   14.0\n",
      "  5   -8.300464406122       -3.83       -3.60    2.8\n",
      "  6   -8.300464593584       -6.73       -3.95    3.0\n",
      "  7   -8.300464638679       -7.35       -4.41    2.0\n"
     ]
    }
   ],
   "cell_type": "code",
   "source": [
    "self_consistent_field(aluminium_setup(1); is_converged, mixing=SimpleMixing());"
   ],
   "metadata": {},
   "execution_count": 6
  },
  {
   "outputs": [
    {
     "name": "stdout",
     "output_type": "stream",
     "text": [
      "n     Energy            log10(ΔE)   log10(Δρ)   Diag\n",
      "---   ---------------   ---------   ---------   ----\n",
      "  1   -33.32388727458                   -0.56    6.6\n",
      "  2   -33.29754729120   +   -1.58       -1.26    1.8\n",
      "  3   +1.297503689512   +    1.54       -0.30    9.0\n",
      "  4   -33.32132435663        1.54       -1.63    7.6\n",
      "  5   -33.24240474325   +   -1.10       -1.32    5.6\n",
      "  6   -32.85820384352   +   -0.42       -1.22    4.4\n",
      "  7   -33.28288097095       -0.37       -1.69    5.0\n",
      "  8   -33.33666329752       -1.27       -2.29    3.1\n",
      "  9   -33.33685591244       -3.72       -2.74    3.2\n",
      " 10   -33.33687643286       -4.69       -2.78    3.5\n",
      " 11   -33.33692246675       -4.34       -2.96    1.8\n",
      " 12   -33.33693643955       -4.85       -3.18    2.1\n",
      " 13   -33.33694271145       -5.20       -3.60    3.0\n",
      " 14   -33.33694339567       -6.16       -3.98    2.6\n",
      " 15   -33.33694388156       -6.31       -4.53    3.1\n"
     ]
    }
   ],
   "cell_type": "code",
   "source": [
    "self_consistent_field(aluminium_setup(4); is_converged, mixing=SimpleMixing());"
   ],
   "metadata": {},
   "execution_count": 7
  },
  {
   "cell_type": "markdown",
   "source": [
    "For completion let us note that the more traditional `mixing=KerkerMixing()`\n",
    "approach would also help in this particular setting to obtain a constant\n",
    "number of SCF iterations for an increasing system size (try it!). In contrast\n",
    "to `LdosMixing`, however, `KerkerMixing` is only suitable to model bulk metallic\n",
    "system (like the case we are considering here). When modelling metallic surfaces\n",
    "or mixtures of metals and insulators, `KerkerMixing` fails, while `LdosMixing`\n",
    "still works well. See the Modelling a gallium arsenide surface example\n",
    "or [^HL2021] for details. Due to the general applicability of `LdosMixing` this\n",
    "method is the default mixing approach in DFTK."
   ],
   "metadata": {}
  }
 ],
 "nbformat_minor": 3,
 "metadata": {
  "language_info": {
   "file_extension": ".jl",
   "mimetype": "application/julia",
   "name": "julia",
   "version": "1.8.2"
  },
  "kernelspec": {
   "name": "julia-1.8",
   "display_name": "Julia 1.8.2",
   "language": "julia"
  }
 },
 "nbformat": 4
}
