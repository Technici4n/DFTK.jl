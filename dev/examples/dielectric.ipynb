{
 "cells": [
  {
   "cell_type": "markdown",
   "source": [
    "# Eigenvalues of the dielectric matrix\n",
    "\n",
    "We compute a few eigenvalues of the dielectric matrix ($q=0$, $ω=0$) iteratively."
   ],
   "metadata": {}
  },
  {
   "outputs": [
    {
     "name": "stdout",
     "output_type": "stream",
     "text": [
      "n     Energy            log10(ΔE)   log10(Δρ)   Diag   Δtime\n",
      "---   ---------------   ---------   ---------   ----   ------\n",
      "  1   -7.233915225577                   -0.50    7.0         \n",
      "  2   -7.249807035680       -1.80       -1.38    1.0   9.42ms\n",
      "  3   -7.250788599725       -3.01       -1.76    2.0   10.6ms\n",
      "  4   -7.250950254786       -3.79       -1.86    1.0   9.31ms\n",
      "  5   -7.251331126924       -3.42       -2.70    1.0   9.27ms\n",
      "  6   -7.251337554349       -5.19       -3.09    1.0   9.78ms\n",
      "  7   -7.251338677125       -5.95       -3.52    2.0   10.8ms\n",
      "  8   -7.251338792640       -6.94       -4.12    1.0   9.48ms\n",
      "  9   -7.251338798110       -8.26       -4.69    2.0   11.6ms\n",
      " 10   -7.251338798646       -9.27       -5.17    2.0   10.9ms\n",
      " 11   -7.251338798691      -10.35       -5.49    2.0   12.0ms\n",
      " 12   -7.251338798703      -10.91       -6.09    1.0   9.84ms\n",
      " 13   -7.251338798704      -11.93       -6.51    3.0   12.6ms\n",
      " 14   -7.251338798705      -13.05       -6.90    1.0   10.0ms\n",
      " 15   -7.251338798705      -13.71       -7.42    2.0   11.1ms\n",
      " 16   -7.251338798705   +  -14.75       -7.71    2.0   11.3ms\n",
      " 17   -7.251338798705      -15.05       -8.45    1.0   9.59ms\n"
     ]
    }
   ],
   "cell_type": "code",
   "source": [
    "using DFTK\n",
    "using Plots\n",
    "using KrylovKit\n",
    "using Printf\n",
    "\n",
    "# Calculation parameters\n",
    "kgrid = [1, 1, 1]\n",
    "Ecut = 5\n",
    "\n",
    "# Silicon lattice\n",
    "a = 10.26\n",
    "lattice = a / 2 .* [[0 1 1.]; [1 0 1.]; [1 1 0.]]\n",
    "Si = ElementPsp(:Si, psp=load_psp(\"hgh/lda/Si-q4\"))\n",
    "atoms     = [Si, Si]\n",
    "positions = [ones(3)/8, -ones(3)/8]\n",
    "\n",
    "# Compute the dielectric operator without symmetries\n",
    "model  = model_LDA(lattice, atoms, positions, symmetries=false)\n",
    "basis  = PlaneWaveBasis(model; Ecut, kgrid)\n",
    "scfres = self_consistent_field(basis, tol=1e-8);"
   ],
   "metadata": {},
   "execution_count": 1
  },
  {
   "cell_type": "markdown",
   "source": [
    "Applying $ε^† ≔ (1- χ_0 K)$ …"
   ],
   "metadata": {}
  },
  {
   "outputs": [],
   "cell_type": "code",
   "source": [
    "function eps_fun(δρ)\n",
    "    δV = apply_kernel(basis, δρ; ρ=scfres.ρ)\n",
    "    χ0δV = apply_χ0(scfres, δV)\n",
    "    δρ - χ0δV\n",
    "end;"
   ],
   "metadata": {},
   "execution_count": 2
  },
  {
   "cell_type": "markdown",
   "source": [
    "… eagerly diagonalizes the subspace matrix at each iteration"
   ],
   "metadata": {}
  },
  {
   "outputs": [
    {
     "name": "stdout",
     "output_type": "stream",
     "text": [
      "[ Info: Arnoldi iteration step 1: normres = 0.06352735415096974\n",
      "[ Info: Arnoldi iteration step 2: normres = 0.4191755508724177\n",
      "[ Info: Arnoldi iteration step 3: normres = 1.023033584965217\n",
      "[ Info: Arnoldi iteration step 4: normres = 0.3018182171693712\n",
      "[ Info: Arnoldi iteration step 5: normres = 0.6226945052562471\n",
      "[ Info: Arnoldi schursolve in iter 1, krylovdim = 5: 0 values converged, normres = (6.64e-02, 9.00e-02, 5.65e-01, 2.35e-01, 2.97e-02)\n",
      "[ Info: Arnoldi iteration step 6: normres = 0.22831363666255963\n",
      "[ Info: Arnoldi schursolve in iter 1, krylovdim = 6: 0 values converged, normres = (1.18e-02, 1.04e-01, 1.43e-01, 1.13e-01, 2.86e-02)\n",
      "[ Info: Arnoldi iteration step 7: normres = 0.09143467588328275\n",
      "[ Info: Arnoldi schursolve in iter 1, krylovdim = 7: 0 values converged, normres = (5.16e-04, 8.96e-03, 1.11e-02, 5.59e-02, 6.56e-02)\n",
      "[ Info: Arnoldi iteration step 8: normres = 0.09341794649896505\n",
      "[ Info: Arnoldi schursolve in iter 1, krylovdim = 8: 0 values converged, normres = (2.07e-05, 5.91e-04, 8.12e-04, 1.64e-02, 3.78e-02)\n",
      "[ Info: Arnoldi iteration step 9: normres = 0.060784501995045835\n",
      "[ Info: Arnoldi schursolve in iter 1, krylovdim = 9: 0 values converged, normres = (5.38e-07, 2.51e-05, 3.82e-05, 3.05e-03, 1.86e-02)\n",
      "[ Info: Arnoldi iteration step 10: normres = 0.10749723301950356\n",
      "[ Info: Arnoldi schursolve in iter 1, krylovdim = 10: 0 values converged, normres = (2.55e-08, 1.98e-06, 3.37e-06, 1.25e-03, 3.08e-02)\n",
      "[ Info: Arnoldi iteration step 11: normres = 0.07530813760228397\n",
      "[ Info: Arnoldi schursolve in iter 1, krylovdim = 11: 0 values converged, normres = (8.38e-10, 1.08e-07, 2.04e-07, 3.57e-04, 4.07e-02)\n",
      "[ Info: Arnoldi iteration step 12: normres = 0.0916264445809648\n",
      "[ Info: Arnoldi schursolve in iter 1, krylovdim = 12: 0 values converged, normres = (3.32e-11, 7.06e-09, 1.48e-08, 1.14e-04, 2.45e-02)\n",
      "[ Info: Arnoldi iteration step 13: normres = 0.06165482040891644\n",
      "[ Info: Arnoldi schursolve in iter 1, krylovdim = 13: 1 values converged, normres = (8.78e-13, 3.05e-10, 7.11e-10, 2.17e-05, 9.37e-03)\n",
      "[ Info: Arnoldi iteration step 14: normres = 0.6190958155258506\n",
      "[ Info: Arnoldi schursolve in iter 1, krylovdim = 14: 1 values converged, normres = (4.39e-13, 5.75e-10, 2.33e-09, 6.17e-01, 9.63e-03)\n",
      "[ Info: Arnoldi iteration step 15: normres = 0.10329503179184393\n",
      "[ Info: Arnoldi schursolve in iter 1, krylovdim = 15: 1 values converged, normres = (2.51e-14, 7.98e-10, 4.75e-02, 2.88e-05, 3.50e-06)\n",
      "[ Info: Arnoldi iteration step 16: normres = 0.42230019567960064\n",
      "[ Info: Arnoldi schursolve in iter 1, krylovdim = 16: 1 values converged, normres = (8.91e-15, 2.08e-09, 7.24e-02, 2.40e-04, 4.13e-01)\n",
      "[ Info: Arnoldi iteration step 17: normres = 0.028157569983478133\n",
      "[ Info: Arnoldi schursolve in iter 1, krylovdim = 17: 1 values converged, normres = (1.21e-16, 2.80e-03, 6.50e-04, 4.71e-07, 8.75e-03)\n",
      "[ Info: Arnoldi iteration step 18: normres = 0.02094232156815772\n",
      "[ Info: Arnoldi schursolve in iter 1, krylovdim = 18: 1 values converged, normres = (1.04e-18, 1.03e-05, 3.82e-05, 1.46e-05, 1.32e-04)\n",
      "[ Info: Arnoldi iteration step 19: normres = 0.17468943346648025\n",
      "[ Info: Arnoldi schursolve in iter 1, krylovdim = 19: 1 values converged, normres = (7.73e-20, 5.58e-08, 4.79e-06, 7.78e-06, 1.60e-05)\n",
      "[ Info: Arnoldi iteration step 20: normres = 0.08206168303973405\n",
      "[ Info: Arnoldi schursolve in iter 1, krylovdim = 20: 1 values converged, normres = (3.05e-21, 3.20e-07, 1.10e-07, 1.14e-08, 1.43e-06)\n",
      "[ Info: Arnoldi iteration step 21: normres = 0.021680892939429285\n",
      "[ Info: Arnoldi schursolve in iter 1, krylovdim = 21: 1 values converged, normres = (2.77e-23, 3.02e-09, 3.92e-09, 2.23e-08, 6.09e-09)\n",
      "[ Info: Arnoldi iteration step 22: normres = 0.021862441027126332\n",
      "[ Info: Arnoldi schursolve in iter 1, krylovdim = 22: 1 values converged, normres = (2.49e-25, 3.63e-11, 6.08e-11, 8.75e-12, 3.63e-10)\n",
      "[ Info: Arnoldi iteration step 23: normres = 0.7216573586626328\n",
      "[ Info: Arnoldi schursolve in iter 1, krylovdim = 23: 1 values converged, normres = (1.01e-25, 3.01e-11, 5.03e-11, 3.16e-11, 3.57e-10)\n",
      "[ Info: Arnoldi iteration step 24: normres = 0.01770956977269627\n",
      "[ Info: Arnoldi schursolve in iter 1, krylovdim = 24: 1 values converged, normres = (1.25e-27, 2.17e-12, 3.62e-12, 3.68e-03, 2.12e-03)\n",
      "[ Info: Arnoldi iteration step 25: normres = 0.03686391019428412\n",
      "[ Info: Arnoldi schursolve in iter 1, krylovdim = 25: 3 values converged, normres = (1.88e-29, 5.21e-14, 8.71e-14, 1.20e-04, 1.18e-04)\n",
      "[ Info: Arnoldi iteration step 26: normres = 0.09004530087589459\n",
      "[ Info: Arnoldi schursolve in iter 1, krylovdim = 26: 3 values converged, normres = (7.58e-31, 3.54e-15, 5.91e-15, 1.91e-09, 5.89e-09)\n",
      "[ Info: Arnoldi iteration step 27: normres = 0.030508559509564624\n",
      "[ Info: Arnoldi schursolve in iter 1, krylovdim = 27: 3 values converged, normres = (9.63e-33, 7.24e-17, 1.21e-16, 2.86e-08, 2.53e-08)\n",
      "[ Info: Arnoldi iteration step 28: normres = 0.09866663335433537\n",
      "[ Info: Arnoldi schursolve in iter 1, krylovdim = 28: 3 values converged, normres = (4.14e-34, 5.14e-18, 8.59e-18, 2.86e-09, 3.28e-09)\n",
      "[ Info: Arnoldi iteration step 29: normres = 0.018985984686532294\n",
      "[ Info: Arnoldi schursolve in iter 1, krylovdim = 29: 3 values converged, normres = (3.30e-36, 6.63e-20, 1.11e-19, 4.58e-10, 1.07e-10)\n",
      "[ Info: Arnoldi iteration step 30: normres = 0.10258450152740338\n",
      "[ Info: Arnoldi schursolve in iter 1, krylovdim = 30: 3 values converged, normres = (1.44e-37, 4.72e-21, 7.88e-21, 3.57e-11, 1.11e-11)\n",
      "[ Info: Arnoldi schursolve in iter 2, krylovdim = 19: 3 values converged, normres = (1.44e-37, 4.72e-21, 7.88e-21, 3.57e-11, 1.11e-11)\n",
      "[ Info: Arnoldi iteration step 20: normres = 0.17182368871261025\n",
      "[ Info: Arnoldi schursolve in iter 2, krylovdim = 20: 3 values converged, normres = (1.11e-38, 6.14e-22, 1.03e-21, 5.21e-12, 1.62e-12)\n",
      "[ Info: Arnoldi iteration step 21: normres = 0.05355585834323138\n",
      "┌ Info: Arnoldi eigsolve finished after 2 iterations:\n",
      "│ *  6 eigenvalues converged\n",
      "│ *  norm of residuals = (3.252262116527471e-40, 2.697633273147078e-23, 4.663071532284174e-23, 2.5899382092766784e-13, 2.0993558657834322e-13, 2.4451170955572363e-13)\n",
      "└ *  number of operations = 32\n"
     ]
    }
   ],
   "cell_type": "code",
   "source": [
    "eigsolve(eps_fun, randn(size(scfres.ρ)), 5, :LM; eager=true, verbosity=3);"
   ],
   "metadata": {},
   "execution_count": 3
  }
 ],
 "nbformat_minor": 3,
 "metadata": {
  "language_info": {
   "file_extension": ".jl",
   "mimetype": "application/julia",
   "name": "julia",
   "version": "1.8.5"
  },
  "kernelspec": {
   "name": "julia-1.8",
   "display_name": "Julia 1.8.5",
   "language": "julia"
  }
 },
 "nbformat": 4
}
