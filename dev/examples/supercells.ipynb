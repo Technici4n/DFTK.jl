{
 "cells": [
  {
   "cell_type": "markdown",
   "source": [
    "# Creating and modelling metallic supercells\n",
    "\n",
    "In this section we will be concerned with modelling supercells of aluminium.\n",
    "When dealing with periodic problems there is no unique definition of the\n",
    "lattice: Clearly any duplication of the lattice along an axis is also a valid\n",
    "repetitive unit to describe exactly the same system.\n",
    "This is exactly what a **supercell** is: An $n$-fold repetition along one of the\n",
    "axes of the original lattice.\n",
    "\n",
    "The following code achieves this for aluminium:"
   ],
   "metadata": {}
  },
  {
   "outputs": [],
   "cell_type": "code",
   "source": [
    "using DFTK\n",
    "using LinearAlgebra\n",
    "using ASEconvert\n",
    "\n",
    "function aluminium_setup(repeat=1; Ecut=7.0, kgrid=[2, 2, 2])\n",
    "    a = 7.65339\n",
    "    lattice = a * Matrix(I, 3, 3)\n",
    "    Al = ElementPsp(:Al, psp=load_psp(\"hgh/lda/al-q3\"))\n",
    "    atoms     = [Al, Al, Al, Al]\n",
    "    positions = [[0.0, 0.0, 0.0], [0.0, 0.5, 0.5], [0.5, 0.0, 0.5], [0.5, 0.5, 0.0]]\n",
    "    unit_cell = periodic_system(lattice, atoms, positions)\n",
    "\n",
    "    # Make supercell in ASE:\n",
    "    # We convert our lattice to the conventions used in ASE, make the supercell\n",
    "    # and then convert back ...\n",
    "    supercell_ase = convert_ase(unit_cell) * pytuple((repeat, 1, 1))\n",
    "    supercell     = pyconvert(AbstractSystem, supercell_ase)\n",
    "\n",
    "    # Unfortunately right now the conversion to ASE drops the pseudopotential information,\n",
    "    # so we need to reattach it:\n",
    "    supercell = attach_psp(supercell, Al=\"hgh/lda/al-q3\")\n",
    "\n",
    "    # Construct an LDA model and discretise\n",
    "    # Note: We disable symmetries explicitly here. Otherwise the problem sizes\n",
    "    #       we are able to run on the CI are too simple to observe the numerical\n",
    "    #       instabilities we want to trigger here.\n",
    "    model = model_LDA(supercell; temperature=1e-3, symmetries=false)\n",
    "    PlaneWaveBasis(model; Ecut, kgrid)\n",
    "end;"
   ],
   "metadata": {},
   "execution_count": 1
  },
  {
   "cell_type": "markdown",
   "source": [
    "As part of the code we are using a routine inside the ASE,\n",
    "the [atomistic simulation environment](https://wiki.fysik.dtu.dk/ase/index.html)\n",
    "for creating the supercell and make use of the two-way interoperability of\n",
    "DFTK and ASE. For more details on this aspect see the documentation\n",
    "on Input and output formats."
   ],
   "metadata": {}
  },
  {
   "cell_type": "markdown",
   "source": [
    "Write an example supercell structure to a file to plot it:"
   ],
   "metadata": {}
  },
  {
   "outputs": [
    {
     "name": "stdout",
     "output_type": "stream",
     "text": [
      "┌ Warning: Skipping atomic property pseudopotential, which is not supported in ASE.\n",
      "└ @ ASEconvert ~/.julia/packages/ASEconvert/neSFl/src/ASEconvert.jl:123\n",
      "┌ Warning: Skipping atomic property pseudopotential, which is not supported in ASE.\n",
      "└ @ ASEconvert ~/.julia/packages/ASEconvert/neSFl/src/ASEconvert.jl:123\n"
     ]
    },
    {
     "output_type": "execute_result",
     "data": {
      "text/plain": "\u001b[0m\u001b[1mPython None\u001b[22m"
     },
     "metadata": {},
     "execution_count": 2
    }
   ],
   "cell_type": "code",
   "source": [
    "setup = aluminium_setup(5)\n",
    "convert_ase(periodic_system(setup.model)).write(\"al_supercell.png\")"
   ],
   "metadata": {},
   "execution_count": 2
  },
  {
   "cell_type": "markdown",
   "source": [
    "<img src=\"https://docs.dftk.org/stable/examples/al_supercell.png\" width=500 height=500 />"
   ],
   "metadata": {}
  },
  {
   "cell_type": "markdown",
   "source": [
    "As we will see in this notebook the modelling of a system generally becomes\n",
    "harder if the system becomes larger.\n",
    "\n",
    "- This sounds like a trivial statement as *per se* the cost per SCF step increases\n",
    "  as the system (and thus $N$) gets larger.\n",
    "- But there is more to it:\n",
    "  If one is not careful also the *number of SCF iterations* increases\n",
    "  as the system gets larger.\n",
    "- The aim of a proper computational treatment of such supercells is therefore\n",
    "  to ensure that the **number of SCF iterations remains constant** when the\n",
    "  system size increases."
   ],
   "metadata": {}
  },
  {
   "cell_type": "markdown",
   "source": [
    "For achieving the latter DFTK by default employs the `LdosMixing`\n",
    "preconditioner [^HL2021] during the SCF iterations. This mixing approach is\n",
    "completely parameter free, but still automatically adapts to the treated\n",
    "system in order to efficiently prevent charge sloshing. As a result,\n",
    "modelling aluminium slabs indeed takes roughly the same number of SCF iterations\n",
    "irrespective of the supercell size:\n",
    "\n",
    "[^HL2021]:\n",
    "   M. F. Herbst and A. Levitt.\n",
    "   *Black-box inhomogeneous preconditioning for self-consistent field iterations in density functional theory.*\n",
    "   J. Phys. Cond. Matt *33* 085503 (2021). [ArXiv:2009.01665](https://arxiv.org/abs/2009.01665)"
   ],
   "metadata": {}
  },
  {
   "outputs": [
    {
     "name": "stdout",
     "output_type": "stream",
     "text": [
      "┌ Warning: Skipping atomic property pseudopotential, which is not supported in ASE.\n",
      "└ @ ASEconvert ~/.julia/packages/ASEconvert/neSFl/src/ASEconvert.jl:123\n",
      "n     Energy            log10(ΔE)   log10(Δρ)   Diag   Δtime\n",
      "---   ---------------   ---------   ---------   ----   ------\n",
      "  1   -8.298302296744                   -0.85    5.1         \n",
      "  2   -8.300179573386       -2.73       -1.26    1.8    126ms\n",
      "  3   -8.300432574829       -3.60       -1.87    2.0    134ms\n",
      "  4   -8.300461854759       -4.53       -2.73    1.9    141ms\n",
      "  5   -8.300464198747       -5.63       -3.12    2.9    218ms\n",
      "  6   -8.300464404248       -6.69       -3.25    8.9    222ms\n",
      "  7   -8.300464520903       -6.93       -3.40    4.8    186ms\n",
      "  8   -8.300464577418       -7.25       -3.52    2.1    144ms\n",
      "  9   -8.300464629201       -7.29       -3.75    1.8    149ms\n",
      " 10   -8.300464631797       -8.59       -3.81    3.5    164ms\n",
      " 11   -8.300464642305       -7.98       -4.10    2.9    229ms\n"
     ]
    }
   ],
   "cell_type": "code",
   "source": [
    "self_consistent_field(aluminium_setup(1); tol=1e-4);"
   ],
   "metadata": {},
   "execution_count": 3
  },
  {
   "outputs": [
    {
     "name": "stdout",
     "output_type": "stream",
     "text": [
      "┌ Warning: Skipping atomic property pseudopotential, which is not supported in ASE.\n",
      "└ @ ASEconvert ~/.julia/packages/ASEconvert/neSFl/src/ASEconvert.jl:123\n",
      "n     Energy            log10(ΔE)   log10(Δρ)   Diag   Δtime\n",
      "---   ---------------   ---------   ---------   ----   ------\n",
      "  1   -16.64191841085                   -0.70    6.1         \n",
      "  2   -16.67868613484       -1.43       -1.14    1.4    307ms\n",
      "  3   -16.67921253201       -3.28       -1.88    3.0    342ms\n",
      "  4   -16.67927804297       -4.18       -2.74    2.6    377ms\n",
      "  5   -16.67928596478       -5.10       -3.10    4.0    434ms\n",
      "  6   -16.67928620546       -6.62       -3.53    3.8    364ms\n",
      "  7   -16.67928621922       -7.86       -4.02    1.9    331ms\n"
     ]
    }
   ],
   "cell_type": "code",
   "source": [
    "self_consistent_field(aluminium_setup(2); tol=1e-4);"
   ],
   "metadata": {},
   "execution_count": 4
  },
  {
   "outputs": [
    {
     "name": "stdout",
     "output_type": "stream",
     "text": [
      "┌ Warning: Skipping atomic property pseudopotential, which is not supported in ASE.\n",
      "└ @ ASEconvert ~/.julia/packages/ASEconvert/neSFl/src/ASEconvert.jl:123\n",
      "n     Energy            log10(ΔE)   log10(Δρ)   Diag   Δtime\n",
      "---   ---------------   ---------   ---------   ----   ------\n",
      "  1   -33.32568453642                   -0.56    7.2         \n",
      "  2   -33.33272193156       -2.15       -1.00    1.0    1.06s\n",
      "  3   -33.33411886598       -2.85       -1.74    4.0    1.31s\n",
      "  4   -33.33428767995       -3.77       -2.65    2.2    1.14s\n",
      "  5   -33.33583269463       -2.81       -2.41    5.9    1.59s\n",
      "  6   -33.33694123308       -2.96       -2.50    8.1    1.50s\n",
      "  7   -33.33694168967       -6.34       -2.50    2.4    1.09s\n",
      "  8   -33.33674002126   +   -3.70       -2.22    3.5    1.42s\n",
      "  9   -33.33666375823   +   -4.12       -2.15    1.0    1.01s\n",
      " 10   -33.33657380608   +   -4.05       -2.09    1.0    1.04s\n",
      " 11   -33.33650989798   +   -4.19       -2.05    1.0    1.01s\n",
      " 12   -33.33645254479   +   -4.24       -2.03    1.0    1.05s\n",
      " 13   -33.33640610287   +   -4.33       -2.01    1.0    1.01s\n",
      " 14   -33.33636813336   +   -4.42       -1.99    1.0    1.03s\n",
      " 15   -33.33622812456   +   -3.85       -1.94    1.0    998ms\n",
      " 16   -33.33629086994       -4.20       -1.96    1.0    1.01s\n",
      " 17   -33.33693681401       -3.19       -3.04    2.1    1.34s\n",
      " 18   -33.33693787086       -5.98       -3.04    3.5    1.27s\n",
      " 19   -33.33693901412       -5.94       -3.08    1.0    960ms\n",
      " 20   -33.33694061110       -5.80       -3.16    1.0    958ms\n",
      " 21   -33.33694232235       -5.77       -3.28    1.2    991ms\n",
      " 22   -33.33694212849   +   -6.71       -3.26    1.0    944ms\n",
      " 23   -33.33694133508   +   -6.10       -3.20    1.0    955ms\n",
      " 24   -33.33694260972       -5.89       -3.33    1.1    999ms\n",
      " 25   -33.33694298445       -6.43       -3.38    1.0    975ms\n",
      " 26   -33.33694323551       -6.60       -3.43    3.0    1.71s\n",
      " 27   -33.33694310994   +   -6.90       -3.51    1.0    1.43s\n",
      " 28   -33.33694336429       -6.59       -3.61    1.0    993ms\n",
      " 29   -33.33694363650       -6.57       -4.00    1.4    1.04s\n"
     ]
    }
   ],
   "cell_type": "code",
   "source": [
    "self_consistent_field(aluminium_setup(4); tol=1e-4);"
   ],
   "metadata": {},
   "execution_count": 5
  },
  {
   "cell_type": "markdown",
   "source": [
    "When switching off explicitly the `LdosMixing`, by selecting `mixing=SimpleMixing()`,\n",
    "the performance of number of required SCF steps starts to increase as we increase\n",
    "the size of the modelled problem:"
   ],
   "metadata": {}
  },
  {
   "outputs": [
    {
     "name": "stdout",
     "output_type": "stream",
     "text": [
      "┌ Warning: Skipping atomic property pseudopotential, which is not supported in ASE.\n",
      "└ @ ASEconvert ~/.julia/packages/ASEconvert/neSFl/src/ASEconvert.jl:123\n",
      "n     Energy            log10(ΔE)   log10(Δρ)   Diag   Δtime\n",
      "---   ---------------   ---------   ---------   ----   ------\n",
      "  1   -8.298566877135                   -0.85    5.6         \n",
      "  2   -8.300289247039       -2.76       -1.58    1.5    123ms\n",
      "  3   -8.300442425844       -3.81       -2.71    2.1    112ms\n",
      "  4   -8.300443809680       -5.86       -2.59    7.1    234ms\n",
      "  5   -8.300464497815       -4.68       -3.39    1.0    106ms\n",
      "  6   -8.300464616288       -6.93       -3.99    2.6    140ms\n",
      "  7   -8.300464642518       -7.58       -4.45    3.1    175ms\n"
     ]
    }
   ],
   "cell_type": "code",
   "source": [
    "self_consistent_field(aluminium_setup(1); tol=1e-4, mixing=SimpleMixing());"
   ],
   "metadata": {},
   "execution_count": 6
  },
  {
   "outputs": [
    {
     "name": "stdout",
     "output_type": "stream",
     "text": [
      "┌ Warning: Skipping atomic property pseudopotential, which is not supported in ASE.\n",
      "└ @ ASEconvert ~/.julia/packages/ASEconvert/neSFl/src/ASEconvert.jl:123\n",
      "n     Energy            log10(ΔE)   log10(Δρ)   Diag   Δtime\n",
      "---   ---------------   ---------   ---------   ----   ------\n",
      "  1   -33.32693724054                   -0.56    7.2         \n",
      "  2   -33.31322636538   +   -1.86       -1.27    1.5    947ms\n",
      "  3   -12.61841543113   +    1.32       -0.41    6.5    2.00s\n",
      "  4   -33.30765661738        1.32       -1.51    5.4    1.76s\n",
      "  5   -33.29203004699   +   -1.81       -1.46    2.9    1.36s\n",
      "  6   -32.88999047098   +   -0.40       -1.24    3.2    1.29s\n",
      "  7   -33.31448589286       -0.37       -1.87    3.0    1.24s\n",
      "  8   -33.33613110533       -1.66       -2.48    2.2    1.05s\n",
      "  9   -33.33635879463       -3.64       -2.42    3.2    1.51s\n",
      " 10   -33.33664539812       -3.54       -2.76    2.2    1.19s\n",
      " 11   -33.33688629595       -3.62       -3.10    2.1    1.05s\n",
      " 12   -33.33691594145       -4.53       -3.28    3.2    1.37s\n",
      " 13   -33.33694312202       -4.57       -3.92    3.0    1.25s\n",
      " 14   -33.33694344947       -6.48       -4.15    4.0    1.51s\n"
     ]
    }
   ],
   "cell_type": "code",
   "source": [
    "self_consistent_field(aluminium_setup(4); tol=1e-4, mixing=SimpleMixing());"
   ],
   "metadata": {},
   "execution_count": 7
  },
  {
   "cell_type": "markdown",
   "source": [
    "For completion let us note that the more traditional `mixing=KerkerMixing()`\n",
    "approach would also help in this particular setting to obtain a constant\n",
    "number of SCF iterations for an increasing system size (try it!). In contrast\n",
    "to `LdosMixing`, however, `KerkerMixing` is only suitable to model bulk metallic\n",
    "system (like the case we are considering here). When modelling metallic surfaces\n",
    "or mixtures of metals and insulators, `KerkerMixing` fails, while `LdosMixing`\n",
    "still works well. See the Modelling a gallium arsenide surface example\n",
    "or [^HL2021] for details. Due to the general applicability of `LdosMixing` this\n",
    "method is the default mixing approach in DFTK."
   ],
   "metadata": {}
  }
 ],
 "nbformat_minor": 3,
 "metadata": {
  "language_info": {
   "file_extension": ".jl",
   "mimetype": "application/julia",
   "name": "julia",
   "version": "1.8.5"
  },
  "kernelspec": {
   "name": "julia-1.8",
   "display_name": "Julia 1.8.5",
   "language": "julia"
  }
 },
 "nbformat": 4
}
