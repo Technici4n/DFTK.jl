{
 "cells": [
  {
   "cell_type": "markdown",
   "source": [
    "# Comparison of DFT solvers"
   ],
   "metadata": {}
  },
  {
   "cell_type": "markdown",
   "source": [
    "We compare four different approaches for solving the DFT minimisation problem,\n",
    "namely a density-based SCF, a potential-based SCF, direct minimisation and Newton."
   ],
   "metadata": {}
  },
  {
   "cell_type": "markdown",
   "source": [
    "First we setup our problem"
   ],
   "metadata": {}
  },
  {
   "outputs": [
    {
     "output_type": "execute_result",
     "data": {
      "text/plain": "1.0e-6"
     },
     "metadata": {},
     "execution_count": 1
    }
   ],
   "cell_type": "code",
   "source": [
    "using DFTK\n",
    "using LinearAlgebra\n",
    "\n",
    "a = 10.26  # Silicon lattice constant in Bohr\n",
    "lattice = a / 2 * [[0 1 1.];\n",
    "                   [1 0 1.];\n",
    "                   [1 1 0.]]\n",
    "Si = ElementPsp(:Si, psp=load_psp(\"hgh/lda/Si-q4\"))\n",
    "atoms     = [Si, Si]\n",
    "positions = [ones(3)/8, -ones(3)/8]\n",
    "\n",
    "model = model_LDA(lattice, atoms, positions)\n",
    "basis = PlaneWaveBasis(model; Ecut=5, kgrid=[3, 3, 3])\n",
    "\n",
    "# Convergence we desire in the density\n",
    "tol = 1e-6"
   ],
   "metadata": {},
   "execution_count": 1
  },
  {
   "cell_type": "markdown",
   "source": [
    "## Density-based self-consistent field"
   ],
   "metadata": {}
  },
  {
   "outputs": [
    {
     "name": "stdout",
     "output_type": "stream",
     "text": [
      "n     Energy            log10(ΔE)   log10(Δρ)   Diag   Δtime\n",
      "---   ---------------   ---------   ---------   ----   ------\n",
      "  1   -7.846906713553                   -0.70    4.5         \n",
      "  2   -7.852323144214       -2.27       -1.53    1.0   22.9ms\n",
      "  3   -7.852615824866       -3.53       -2.56    1.5   24.9ms\n",
      "  4   -7.852646012064       -4.52       -2.89    2.5   31.5ms\n",
      "  5   -7.852646522023       -6.29       -3.20    1.2   24.1ms\n",
      "  6   -7.852646679449       -6.80       -4.07    1.0   22.7ms\n",
      "  7   -7.852646686457       -8.15       -5.02    2.0   28.8ms\n",
      "  8   -7.852646686723       -9.57       -5.43    1.8   27.4ms\n",
      "  9   -7.852646686729      -11.26       -5.76    1.2   24.3ms\n",
      " 10   -7.852646686730      -11.91       -6.53    1.0   23.4ms\n"
     ]
    }
   ],
   "cell_type": "code",
   "source": [
    "scfres_scf = self_consistent_field(basis; tol);"
   ],
   "metadata": {},
   "execution_count": 2
  },
  {
   "cell_type": "markdown",
   "source": [
    "## Potential-based SCF"
   ],
   "metadata": {}
  },
  {
   "outputs": [
    {
     "name": "stdout",
     "output_type": "stream",
     "text": [
      "n     Energy            log10(ΔE)   log10(Δρ)   α      Diag   Δtime\n",
      "---   ---------------   ---------   ---------   ----   ----   ------\n",
      "  1   -7.846802413515                   -0.70           4.8         \n",
      "  2   -7.852526501659       -2.24       -1.63   0.80    2.0    256ms\n",
      "  3   -7.852636819851       -3.96       -2.72   0.80    1.0   21.0ms\n",
      "  4   -7.852646547804       -5.01       -3.26   0.80    2.0   27.2ms\n",
      "  5   -7.852646678210       -6.88       -4.12   0.80    1.2   22.0ms\n",
      "  6   -7.852646686553       -8.08       -4.84   0.80    2.0   27.3ms\n",
      "  7   -7.852646686721       -9.78       -5.77   0.80    1.5   23.1ms\n",
      "  8   -7.852646686730      -11.04       -6.85   0.80    2.2   27.0ms\n"
     ]
    }
   ],
   "cell_type": "code",
   "source": [
    "scfres_scfv = DFTK.scf_potential_mixing(basis; tol);"
   ],
   "metadata": {},
   "execution_count": 3
  },
  {
   "cell_type": "markdown",
   "source": [
    "## Direct minimization\n",
    "Note: Unlike the other algorithms, tolerance for this one is in the energy,\n",
    "thus we square the density tolerance value to be roughly equivalent."
   ],
   "metadata": {}
  },
  {
   "outputs": [
    {
     "name": "stdout",
     "output_type": "stream",
     "text": [
      "Iter     Function value   Gradient norm \n",
      "     0     1.391654e+01     3.432355e+00\n",
      " * time: 0.05856919288635254\n",
      "     1     1.391283e+00     1.866601e+00\n",
      " * time: 0.2756969928741455\n",
      "     2    -1.673300e+00     2.059787e+00\n",
      " * time: 0.3703281879425049\n",
      "     3    -3.808010e+00     1.727641e+00\n",
      " * time: 0.40346503257751465\n",
      "     4    -5.241508e+00     1.530867e+00\n",
      " * time: 0.4359281063079834\n",
      "     5    -6.961766e+00     8.322097e-01\n",
      " * time: 0.4686281681060791\n",
      "     6    -7.002847e+00     1.395273e+00\n",
      " * time: 0.49106502532958984\n",
      "     7    -7.537092e+00     9.246721e-01\n",
      " * time: 0.5137879848480225\n",
      "     8    -7.754447e+00     2.376611e-01\n",
      " * time: 0.5463120937347412\n",
      "     9    -7.804744e+00     8.952831e-02\n",
      " * time: 0.5689921379089355\n",
      "    10    -7.829047e+00     9.353117e-02\n",
      " * time: 0.591832160949707\n",
      "    11    -7.840757e+00     4.732102e-02\n",
      " * time: 0.6148121356964111\n",
      "    12    -7.844583e+00     5.164201e-02\n",
      " * time: 0.6377201080322266\n",
      "    13    -7.845133e+00     4.359320e-02\n",
      " * time: 0.6603291034698486\n",
      "    14    -7.845322e+00     4.453245e-02\n",
      " * time: 0.6928460597991943\n",
      "    15    -7.846257e+00     4.315922e-02\n",
      " * time: 0.7253689765930176\n",
      "    16    -7.848750e+00     2.803791e-02\n",
      " * time: 0.7478811740875244\n",
      "    17    -7.851107e+00     1.437363e-02\n",
      " * time: 0.7706351280212402\n",
      "    18    -7.852322e+00     1.498095e-02\n",
      " * time: 0.7932651042938232\n",
      "    19    -7.852521e+00     1.018886e-02\n",
      " * time: 0.815805196762085\n",
      "    20    -7.852605e+00     3.048535e-03\n",
      " * time: 0.8384561538696289\n",
      "    21    -7.852633e+00     2.134799e-03\n",
      " * time: 0.8610069751739502\n",
      "    22    -7.852640e+00     1.508685e-03\n",
      " * time: 0.8838820457458496\n",
      "    23    -7.852645e+00     7.040780e-04\n",
      " * time: 0.9063911437988281\n",
      "    24    -7.852646e+00     5.363872e-04\n",
      " * time: 0.9296669960021973\n",
      "    25    -7.852646e+00     3.217503e-04\n",
      " * time: 0.9521920680999756\n",
      "    26    -7.852647e+00     2.172314e-04\n",
      " * time: 0.9747190475463867\n",
      "    27    -7.852647e+00     1.622619e-04\n",
      " * time: 0.9977860450744629\n",
      "    28    -7.852647e+00     5.157303e-05\n",
      " * time: 1.020268201828003\n",
      "    29    -7.852647e+00     3.198257e-05\n",
      " * time: 1.0432581901550293\n",
      "    30    -7.852647e+00     2.639242e-05\n",
      " * time: 1.065782070159912\n",
      "    31    -7.852647e+00     9.266916e-06\n",
      " * time: 1.0882351398468018\n",
      "    32    -7.852647e+00     8.545272e-06\n",
      " * time: 1.1107451915740967\n",
      "    33    -7.852647e+00     4.347199e-06\n",
      " * time: 1.1336851119995117\n",
      "    34    -7.852647e+00     1.674226e-06\n",
      " * time: 1.156156063079834\n",
      "    35    -7.852647e+00     1.185519e-06\n",
      " * time: 1.1786320209503174\n",
      "    36    -7.852647e+00     6.035132e-07\n",
      " * time: 1.2010600566864014\n",
      "    37    -7.852647e+00     4.712779e-07\n",
      " * time: 1.2239770889282227\n",
      "    38    -7.852647e+00     2.559254e-07\n",
      " * time: 1.2469899654388428\n",
      "    39    -7.852647e+00     1.097320e-07\n",
      " * time: 1.2697460651397705\n",
      "    40    -7.852647e+00     7.059926e-08\n",
      " * time: 1.292316198348999\n",
      "    41    -7.852647e+00     4.733415e-08\n",
      " * time: 1.3149211406707764\n",
      "    42    -7.852647e+00     2.505287e-08\n",
      " * time: 1.3378031253814697\n",
      "    43    -7.852647e+00     1.601106e-08\n",
      " * time: 1.3607101440429688\n",
      "    44    -7.852647e+00     9.160784e-09\n",
      " * time: 1.383606195449829\n"
     ]
    }
   ],
   "cell_type": "code",
   "source": [
    "scfres_dm = direct_minimization(basis; tol=tol^2);"
   ],
   "metadata": {},
   "execution_count": 4
  },
  {
   "cell_type": "markdown",
   "source": [
    "## Newton algorithm"
   ],
   "metadata": {}
  },
  {
   "cell_type": "markdown",
   "source": [
    "Start not too far from the solution to ensure convergence:\n",
    "We run first a very crude SCF to get close and then switch to Newton."
   ],
   "metadata": {}
  },
  {
   "outputs": [
    {
     "name": "stdout",
     "output_type": "stream",
     "text": [
      "n     Energy            log10(ΔE)   log10(Δρ)   Diag   Δtime\n",
      "---   ---------------   ---------   ---------   ----   ------\n",
      "  1   -7.846818050889                   -0.70    4.8         \n"
     ]
    }
   ],
   "cell_type": "code",
   "source": [
    "scfres_start = self_consistent_field(basis; tol=0.5);"
   ],
   "metadata": {},
   "execution_count": 5
  },
  {
   "cell_type": "markdown",
   "source": [
    "Remove the virtual orbitals (which Newton cannot treat yet)"
   ],
   "metadata": {}
  },
  {
   "outputs": [
    {
     "name": "stdout",
     "output_type": "stream",
     "text": [
      "n     Energy            log10(ΔE)   log10(Δρ)   Δtime\n",
      "---   ---------------   ---------   ---------   ------\n",
      "  1   -7.852645906290                   -1.64         \n",
      "  2   -7.852646686730       -6.11       -3.71    1.89s\n",
      "  3   -7.852646686730      -13.29       -7.25    141ms\n"
     ]
    }
   ],
   "cell_type": "code",
   "source": [
    "ψ = DFTK.select_occupied_orbitals(basis, scfres_start.ψ, scfres_start.occupation).ψ\n",
    "scfres_newton = newton(basis, ψ; tol);"
   ],
   "metadata": {},
   "execution_count": 6
  },
  {
   "cell_type": "markdown",
   "source": [
    "## Comparison of results"
   ],
   "metadata": {}
  },
  {
   "outputs": [
    {
     "name": "stdout",
     "output_type": "stream",
     "text": [
      "|ρ_newton - ρ_scf|  = 2.800942683154049e-7\n",
      "|ρ_newton - ρ_scfv| = 2.4876312451115936e-7\n",
      "|ρ_newton - ρ_dm|   = 8.95783771795882e-10\n"
     ]
    }
   ],
   "cell_type": "code",
   "source": [
    "println(\"|ρ_newton - ρ_scf|  = \", norm(scfres_newton.ρ - scfres_scf.ρ))\n",
    "println(\"|ρ_newton - ρ_scfv| = \", norm(scfres_newton.ρ - scfres_scfv.ρ))\n",
    "println(\"|ρ_newton - ρ_dm|   = \", norm(scfres_newton.ρ - scfres_dm.ρ))"
   ],
   "metadata": {},
   "execution_count": 7
  }
 ],
 "nbformat_minor": 3,
 "metadata": {
  "language_info": {
   "file_extension": ".jl",
   "mimetype": "application/julia",
   "name": "julia",
   "version": "1.9.0"
  },
  "kernelspec": {
   "name": "julia-1.9",
   "display_name": "Julia 1.9.0",
   "language": "julia"
  }
 },
 "nbformat": 4
}
