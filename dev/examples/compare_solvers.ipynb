{
 "cells": [
  {
   "cell_type": "markdown",
   "source": [
    "# Comparison of DFT solvers"
   ],
   "metadata": {}
  },
  {
   "cell_type": "markdown",
   "source": [
    "We compare four different approaches for solving the DFT minimisation problem,\n",
    "namely a density-based SCF, a potential-based SCF, direct minimisation and Newton."
   ],
   "metadata": {}
  },
  {
   "cell_type": "markdown",
   "source": [
    "First we setup our problem"
   ],
   "metadata": {}
  },
  {
   "outputs": [],
   "cell_type": "code",
   "source": [
    "using DFTK\n",
    "using LinearAlgebra\n",
    "\n",
    "a = 10.26  # Silicon lattice constant in Bohr\n",
    "lattice = a / 2 * [[0 1 1.];\n",
    "                   [1 0 1.];\n",
    "                   [1 1 0.]]\n",
    "Si = ElementPsp(:Si, psp=load_psp(\"hgh/lda/Si-q4\"))\n",
    "atoms     = [Si, Si]\n",
    "positions = [ones(3)/8, -ones(3)/8]\n",
    "\n",
    "model = model_LDA(lattice, atoms, positions)\n",
    "basis = PlaneWaveBasis(model; Ecut=5, kgrid=[3, 3, 3])\n",
    "\n",
    "# Convergence we desire\n",
    "tol = 1e-12\n",
    "is_converged = DFTK.ScfConvergenceDensity(tol);"
   ],
   "metadata": {},
   "execution_count": 1
  },
  {
   "cell_type": "markdown",
   "source": [
    "## Density-based self-consistent field"
   ],
   "metadata": {}
  },
  {
   "outputs": [
    {
     "name": "stdout",
     "output_type": "stream",
     "text": [
      "n     Energy            log10(ΔE)   log10(Δρ)   Diag\n",
      "---   ---------------   ---------   ---------   ----\n",
      "  1   -7.846715843792                   -0.70    4.8\n",
      "  2   -7.852307721692       -2.25       -1.53    1.0\n",
      "  3   -7.852646104149       -3.47       -2.53    3.0\n",
      "  4   -7.852646675840       -6.24       -3.38    2.2\n",
      "  5   -7.852646686024       -7.99       -4.71    2.2\n",
      "  6   -7.852646686723       -9.16       -5.27    3.2\n",
      "  7   -7.852646686729      -11.22       -5.94    1.0\n",
      "  8   -7.852646686730      -12.42       -7.24    2.5\n",
      "  9   -7.852646686730      -14.45       -7.52    2.8\n",
      " 10   -7.852646686730   +  -14.75       -8.71    2.0\n",
      " 11   -7.852646686730      -14.75       -9.33    1.2\n",
      " 12   -7.852646686730   +  -14.75      -10.33    2.2\n",
      " 13   -7.852646686730   +    -Inf      -10.87    2.0\n",
      " 14   -7.852646686730      -14.75      -11.51    1.5\n",
      " 15   -7.852646686730      -14.75      -12.63    2.5\n"
     ]
    }
   ],
   "cell_type": "code",
   "source": [
    "scfres_scf = self_consistent_field(basis; is_converged);"
   ],
   "metadata": {},
   "execution_count": 2
  },
  {
   "cell_type": "markdown",
   "source": [
    "## Potential-based SCF"
   ],
   "metadata": {}
  },
  {
   "outputs": [
    {
     "name": "stdout",
     "output_type": "stream",
     "text": [
      "n     Energy            log10(ΔE)   log10(Δρ)   α      Diag\n",
      "---   ---------------   ---------   ---------   ----   ----\n",
      "  1   -7.846838225685                   -0.70           4.5\n",
      "  2   -7.852527373029       -2.24       -1.63   0.80    2.0\n",
      "  3   -7.852637216335       -3.96       -2.70   0.80    1.0\n",
      "  4   -7.852646478874       -5.03       -3.31   0.80    2.2\n",
      "  5   -7.852646682659       -6.69       -4.15   0.80    1.5\n",
      "  6   -7.852646686396       -8.43       -4.84   0.80    1.5\n",
      "  7   -7.852646686725       -9.48       -5.79   0.80    1.8\n",
      "  8   -7.852646686730      -11.33       -6.67   0.80    1.8\n",
      "  9   -7.852646686730      -12.79       -7.53   0.80    2.2\n",
      " 10   -7.852646686730   +  -14.75       -8.19   0.80    1.8\n",
      " 11   -7.852646686730      -14.45       -8.64   0.80    1.8\n",
      " 12   -7.852646686730   +  -14.35       -9.06   0.80    2.0\n",
      " 13   -7.852646686730      -15.05       -9.70   0.80    1.2\n",
      " 14   -7.852646686730   +  -14.45      -10.62   0.80    1.5\n",
      " 15   -7.852646686730      -14.45      -10.92   0.80    2.2\n",
      " 16   -7.852646686730      -14.75      -11.51   0.80    1.0\n",
      " 17   -7.852646686730   +  -15.05      -12.51   0.80    1.5\n"
     ]
    }
   ],
   "cell_type": "code",
   "source": [
    "scfres_scfv = DFTK.scf_potential_mixing(basis; is_converged);"
   ],
   "metadata": {},
   "execution_count": 3
  },
  {
   "cell_type": "markdown",
   "source": [
    "## Direct minimization"
   ],
   "metadata": {}
  },
  {
   "outputs": [
    {
     "name": "stdout",
     "output_type": "stream",
     "text": [
      "Iter     Function value   Gradient norm \n",
      "     0     1.362769e+01     3.352338e+00\n",
      " * time: 0.42677807807922363\n",
      "     1     1.369133e+00     1.814754e+00\n",
      " * time: 0.6426291465759277\n",
      "     2    -1.681325e+00     1.890511e+00\n",
      " * time: 0.6655511856079102\n",
      "     3    -3.680314e+00     1.642429e+00\n",
      " * time: 0.6983330249786377\n",
      "     4    -5.164403e+00     1.405626e+00\n",
      " * time: 0.7308170795440674\n",
      "     5    -6.751470e+00     1.031307e+00\n",
      " * time: 0.7635650634765625\n",
      "     6    -7.383428e+00     4.006141e-01\n",
      " * time: 0.7960669994354248\n",
      "     7    -7.606673e+00     1.274471e-01\n",
      " * time: 0.8187470436096191\n",
      "     8    -7.706538e+00     1.635058e-01\n",
      " * time: 0.8414649963378906\n",
      "     9    -7.769154e+00     9.435211e-02\n",
      " * time: 0.8641071319580078\n",
      "    10    -7.813657e+00     7.185459e-02\n",
      " * time: 0.8867261409759521\n",
      "    11    -7.834894e+00     4.148534e-02\n",
      " * time: 0.9094321727752686\n",
      "    12    -7.845373e+00     3.397199e-02\n",
      " * time: 0.9322700500488281\n",
      "    13    -7.849708e+00     3.236356e-02\n",
      " * time: 0.9548571109771729\n",
      "    14    -7.851453e+00     1.742559e-02\n",
      " * time: 0.9774401187896729\n",
      "    15    -7.852225e+00     1.267883e-02\n",
      " * time: 1.0000011920928955\n",
      "    16    -7.852531e+00     4.913185e-03\n",
      " * time: 1.0227370262145996\n",
      "    17    -7.852616e+00     2.831267e-03\n",
      " * time: 1.0453100204467773\n",
      "    18    -7.852637e+00     2.515922e-03\n",
      " * time: 1.0679371356964111\n",
      "    19    -7.852643e+00     8.273924e-04\n",
      " * time: 1.0906009674072266\n",
      "    20    -7.852646e+00     5.542368e-04\n",
      " * time: 1.1137950420379639\n",
      "    21    -7.852646e+00     4.567530e-04\n",
      " * time: 1.1366500854492188\n",
      "    22    -7.852647e+00     3.098322e-04\n",
      " * time: 1.1594140529632568\n",
      "    23    -7.852647e+00     1.790261e-04\n",
      " * time: 1.182291030883789\n",
      "    24    -7.852647e+00     9.517641e-05\n",
      " * time: 1.20536208152771\n",
      "    25    -7.852647e+00     4.796147e-05\n",
      " * time: 1.2280280590057373\n",
      "    26    -7.852647e+00     2.411833e-05\n",
      " * time: 1.2508151531219482\n",
      "    27    -7.852647e+00     1.846171e-05\n",
      " * time: 1.2735819816589355\n",
      "    28    -7.852647e+00     8.339348e-06\n",
      " * time: 1.2962830066680908\n",
      "    29    -7.852647e+00     6.155586e-06\n",
      " * time: 1.31889009475708\n",
      "    30    -7.852647e+00     4.818194e-06\n",
      " * time: 1.3415920734405518\n",
      "    31    -7.852647e+00     2.727909e-06\n",
      " * time: 1.3642711639404297\n",
      "    32    -7.852647e+00     1.597584e-06\n",
      " * time: 1.3869950771331787\n",
      "    33    -7.852647e+00     5.798968e-07\n",
      " * time: 1.4098021984100342\n",
      "    34    -7.852647e+00     3.012235e-07\n",
      " * time: 1.4325640201568604\n",
      "    35    -7.852647e+00     1.949499e-07\n",
      " * time: 1.5985960960388184\n",
      "    36    -7.852647e+00     1.230885e-07\n",
      " * time: 1.6213490962982178\n",
      "    37    -7.852647e+00     6.795455e-08\n",
      " * time: 1.6438300609588623\n",
      "    38    -7.852647e+00     5.971985e-08\n",
      " * time: 1.6662840843200684\n",
      "    39    -7.852647e+00     2.508238e-08\n",
      " * time: 1.6885590553283691\n",
      "    40    -7.852647e+00     1.207298e-08\n",
      " * time: 1.720635175704956\n",
      "    41    -7.852647e+00     9.301226e-09\n",
      " * time: 1.7528090476989746\n"
     ]
    }
   ],
   "cell_type": "code",
   "source": [
    "scfres_dm = direct_minimization(basis; tol);"
   ],
   "metadata": {},
   "execution_count": 4
  },
  {
   "cell_type": "markdown",
   "source": [
    "## Newton algorithm"
   ],
   "metadata": {}
  },
  {
   "cell_type": "markdown",
   "source": [
    "Start not too far from the solution to ensure convergence:\n",
    "We run first a very crude SCF to get close and then switch to Newton."
   ],
   "metadata": {}
  },
  {
   "outputs": [
    {
     "name": "stdout",
     "output_type": "stream",
     "text": [
      "n     Energy            log10(ΔE)   log10(Δρ)   Diag\n",
      "---   ---------------   ---------   ---------   ----\n",
      "  1   -7.846797779814                   -0.70    4.5\n",
      "  2   -7.852299466210       -2.26       -1.53    1.0\n"
     ]
    }
   ],
   "cell_type": "code",
   "source": [
    "scfres_start = self_consistent_field(basis; tol=1e-1);"
   ],
   "metadata": {},
   "execution_count": 5
  },
  {
   "cell_type": "markdown",
   "source": [
    "Remove the virtual orbitals (which Newton cannot treat yet)"
   ],
   "metadata": {}
  },
  {
   "outputs": [
    {
     "name": "stdout",
     "output_type": "stream",
     "text": [
      "n     Energy            log10(ΔE)   log10(Δρ)\n",
      "---   ---------------   ---------   ---------\n",
      "  1   -7.852646686495                   -2.55\n",
      "  2   -7.852646686730       -9.63       -5.79\n",
      "  3   -7.852646686730   +  -14.57      -11.09\n",
      "  4   -7.852646686730      -14.75      -15.71\n"
     ]
    }
   ],
   "cell_type": "code",
   "source": [
    "ψ, _ = DFTK.select_occupied_orbitals(basis, scfres_start.ψ, scfres_start.occupation)\n",
    "scfres_newton = newton(basis, ψ; tol);"
   ],
   "metadata": {},
   "execution_count": 6
  },
  {
   "cell_type": "markdown",
   "source": [
    "## Comparison of results"
   ],
   "metadata": {}
  },
  {
   "outputs": [
    {
     "name": "stdout",
     "output_type": "stream",
     "text": [
      "|ρ_newton - ρ_scf|  = 1.132626330642102e-13\n",
      "|ρ_newton - ρ_scfv| = 4.4157343716498814e-13\n",
      "|ρ_newton - ρ_dm|   = 1.0715459499968605e-9\n"
     ]
    }
   ],
   "cell_type": "code",
   "source": [
    "println(\"|ρ_newton - ρ_scf|  = \", norm(scfres_newton.ρ - scfres_scf.ρ))\n",
    "println(\"|ρ_newton - ρ_scfv| = \", norm(scfres_newton.ρ - scfres_scfv.ρ))\n",
    "println(\"|ρ_newton - ρ_dm|   = \", norm(scfres_newton.ρ - scfres_dm.ρ))"
   ],
   "metadata": {},
   "execution_count": 7
  }
 ],
 "nbformat_minor": 3,
 "metadata": {
  "language_info": {
   "file_extension": ".jl",
   "mimetype": "application/julia",
   "name": "julia",
   "version": "1.8.2"
  },
  "kernelspec": {
   "name": "julia-1.8",
   "display_name": "Julia 1.8.2",
   "language": "julia"
  }
 },
 "nbformat": 4
}
