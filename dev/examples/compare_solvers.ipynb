{
 "cells": [
  {
   "cell_type": "markdown",
   "source": [
    "# Comparison of DFT solvers"
   ],
   "metadata": {}
  },
  {
   "cell_type": "markdown",
   "source": [
    "We compare four different approaches for solving the DFT minimisation problem,\n",
    "namely a density-based SCF, a potential-based SCF, direct minimisation and Newton."
   ],
   "metadata": {}
  },
  {
   "cell_type": "markdown",
   "source": [
    "First we setup our problem"
   ],
   "metadata": {}
  },
  {
   "outputs": [],
   "cell_type": "code",
   "source": [
    "using DFTK\n",
    "using LinearAlgebra\n",
    "\n",
    "a = 10.26  # Silicon lattice constant in Bohr\n",
    "lattice = a / 2 * [[0 1 1.];\n",
    "                   [1 0 1.];\n",
    "                   [1 1 0.]]\n",
    "Si = ElementPsp(:Si, psp=load_psp(\"hgh/lda/Si-q4\"))\n",
    "atoms     = [Si, Si]\n",
    "positions = [ones(3)/8, -ones(3)/8]\n",
    "\n",
    "model = model_LDA(lattice, atoms, positions)\n",
    "basis = PlaneWaveBasis(model; Ecut=5, kgrid=[3, 3, 3])\n",
    "\n",
    "# Convergence we desire\n",
    "tol = 1e-12\n",
    "is_converged = DFTK.ScfConvergenceDensity(tol);"
   ],
   "metadata": {},
   "execution_count": 1
  },
  {
   "cell_type": "markdown",
   "source": [
    "## Density-based self-consistent field"
   ],
   "metadata": {}
  },
  {
   "outputs": [
    {
     "name": "stdout",
     "output_type": "stream",
     "text": [
      "n     Energy            log10(ΔE)   log10(Δρ)   Diag\n",
      "---   ---------------   ---------   ---------   ----\n",
      "  1   -7.846826225397                   -0.70    4.5\n",
      "  2   -7.852305930804       -2.26       -1.53    1.0\n",
      "  3   -7.852645965100       -3.47       -2.53    3.0\n",
      "  4   -7.852646676977       -6.15       -3.36    2.2\n",
      "  5   -7.852646685819       -8.05       -4.79    1.2\n",
      "  6   -7.852646686723       -9.04       -5.16    4.5\n",
      "  7   -7.852646686729      -11.20       -5.89    2.0\n",
      "  8   -7.852646686730      -12.44       -7.38    2.0\n",
      "  9   -7.852646686730      -14.75       -7.87    2.5\n",
      " 10   -7.852646686730   +    -Inf       -8.86    1.5\n",
      " 11   -7.852646686730      -14.75       -9.27    1.0\n",
      " 12   -7.852646686730   +    -Inf      -10.25    2.5\n",
      " 13   -7.852646686730      -14.75      -10.67    1.0\n",
      " 14   -7.852646686730   +  -14.57      -11.97    2.0\n",
      " 15   -7.852646686730   +  -15.05      -12.38    2.0\n"
     ]
    }
   ],
   "cell_type": "code",
   "source": [
    "scfres_scf = self_consistent_field(basis; is_converged);"
   ],
   "metadata": {},
   "execution_count": 2
  },
  {
   "cell_type": "markdown",
   "source": [
    "## Potential-based SCF"
   ],
   "metadata": {}
  },
  {
   "outputs": [
    {
     "name": "stdout",
     "output_type": "stream",
     "text": [
      "n     Energy            log10(ΔE)   log10(Δρ)   α      Diag\n",
      "---   ---------------   ---------   ---------   ----   ----\n",
      "  1   -7.846839869176                   -0.70           4.8\n",
      "  2   -7.852526705316       -2.25       -1.63   0.80    2.0\n",
      "  3   -7.852637204886       -3.96       -2.71   0.80    1.0\n",
      "  4   -7.852646422748       -5.04       -3.27   0.80    2.0\n",
      "  5   -7.852646665170       -6.62       -4.07   0.80    1.2\n",
      "  6   -7.852646686369       -7.67       -4.68   0.80    2.2\n",
      "  7   -7.852646686725       -9.45       -5.39   0.80    1.5\n",
      "  8   -7.852646686729      -11.41       -6.73   0.80    1.2\n",
      "  9   -7.852646686730      -12.16       -6.89   0.80    3.0\n",
      " 10   -7.852646686730      -14.75       -7.86   0.80    1.0\n",
      " 11   -7.852646686730      -14.57       -9.08   0.80    1.5\n",
      " 12   -7.852646686730   +  -14.57       -9.01   0.80    2.5\n",
      " 13   -7.852646686730   +  -15.05      -10.33   0.80    1.0\n",
      " 14   -7.852646686730   +  -14.75      -10.95   0.80    2.0\n",
      " 15   -7.852646686730      -14.57      -11.44   0.80    1.5\n",
      " 16   -7.852646686730   +    -Inf      -12.18   0.80    1.5\n"
     ]
    }
   ],
   "cell_type": "code",
   "source": [
    "scfres_scfv = DFTK.scf_potential_mixing(basis; is_converged);"
   ],
   "metadata": {},
   "execution_count": 3
  },
  {
   "cell_type": "markdown",
   "source": [
    "## Direct minimization"
   ],
   "metadata": {}
  },
  {
   "outputs": [
    {
     "name": "stdout",
     "output_type": "stream",
     "text": [
      "Iter     Function value   Gradient norm \n",
      "     0     1.365968e+01     3.280975e+00\n",
      " * time: 0.5807921886444092\n",
      "     1     1.183809e+00     1.839616e+00\n",
      " * time: 0.8456530570983887\n",
      "     2    -1.422765e+00     2.149561e+00\n",
      " * time: 0.8742411136627197\n",
      "     3    -3.666891e+00     1.852976e+00\n",
      " * time: 0.916438102722168\n",
      "     4    -4.867372e+00     1.697373e+00\n",
      " * time: 0.9589550495147705\n",
      "     5    -6.587807e+00     9.212788e-01\n",
      " * time: 1.0013110637664795\n",
      "     6    -7.261283e+00     4.489107e-01\n",
      " * time: 1.050441026687622\n",
      "     7    -7.543391e+00     3.213930e-01\n",
      " * time: 1.0795001983642578\n",
      "     8    -7.642488e+00     1.568896e-01\n",
      " * time: 1.109166145324707\n",
      "     9    -7.729159e+00     1.762318e-01\n",
      " * time: 1.1385111808776855\n",
      "    10    -7.785327e+00     1.156709e-01\n",
      " * time: 1.1693191528320312\n",
      "    11    -7.826537e+00     6.111392e-02\n",
      " * time: 1.198876142501831\n",
      "    12    -7.845058e+00     5.086118e-02\n",
      " * time: 1.230790138244629\n",
      "    13    -7.850605e+00     2.253899e-02\n",
      " * time: 1.262890100479126\n",
      "    14    -7.852038e+00     1.163182e-02\n",
      " * time: 1.2926130294799805\n",
      "    15    -7.852441e+00     6.578942e-03\n",
      " * time: 1.3217251300811768\n",
      "    16    -7.852580e+00     3.285793e-03\n",
      " * time: 1.3507680892944336\n",
      "    17    -7.852628e+00     1.762341e-03\n",
      " * time: 1.380420207977295\n",
      "    18    -7.852642e+00     9.294371e-04\n",
      " * time: 1.409839153289795\n",
      "    19    -7.852645e+00     4.829958e-04\n",
      " * time: 1.440310001373291\n",
      "    20    -7.852646e+00     2.505184e-04\n",
      " * time: 1.470445156097412\n",
      "    21    -7.852646e+00     1.455335e-04\n",
      " * time: 1.5011091232299805\n",
      "    22    -7.852647e+00     8.991051e-05\n",
      " * time: 1.5298900604248047\n",
      "    23    -7.852647e+00     5.693786e-05\n",
      " * time: 1.5588650703430176\n",
      "    24    -7.852647e+00     3.169134e-05\n",
      " * time: 1.5875890254974365\n",
      "    25    -7.852647e+00     2.175922e-05\n",
      " * time: 1.6169919967651367\n",
      "    26    -7.852647e+00     1.043808e-05\n",
      " * time: 1.6458470821380615\n",
      "    27    -7.852647e+00     4.993295e-06\n",
      " * time: 1.674140214920044\n",
      "    28    -7.852647e+00     2.560879e-06\n",
      " * time: 1.7704601287841797\n",
      "    29    -7.852647e+00     1.860232e-06\n",
      " * time: 1.7990469932556152\n",
      "    30    -7.852647e+00     1.136659e-06\n",
      " * time: 1.8274500370025635\n",
      "    31    -7.852647e+00     5.445081e-07\n",
      " * time: 1.856245994567871\n",
      "    32    -7.852647e+00     3.060340e-07\n",
      " * time: 1.8849241733551025\n",
      "    33    -7.852647e+00     1.650017e-07\n",
      " * time: 1.9146430492401123\n",
      "    34    -7.852647e+00     1.136933e-07\n",
      " * time: 1.9484500885009766\n",
      "    35    -7.852647e+00     7.025723e-08\n",
      " * time: 1.9774081707000732\n",
      "    36    -7.852647e+00     3.464782e-08\n",
      " * time: 2.0062789916992188\n",
      "    37    -7.852647e+00     2.025480e-08\n",
      " * time: 2.0347142219543457\n",
      "    38    -7.852647e+00     1.128368e-08\n",
      " * time: 2.0643551349639893\n",
      "    39    -7.852647e+00     5.162109e-09\n",
      " * time: 2.0935771465301514\n",
      "    40    -7.852647e+00     4.586688e-09\n",
      " * time: 2.1350960731506348\n",
      "    41    -7.852647e+00     4.585324e-09\n",
      " * time: 2.215831995010376\n"
     ]
    }
   ],
   "cell_type": "code",
   "source": [
    "scfres_dm = direct_minimization(basis; tol);"
   ],
   "metadata": {},
   "execution_count": 4
  },
  {
   "cell_type": "markdown",
   "source": [
    "## Newton algorithm"
   ],
   "metadata": {}
  },
  {
   "cell_type": "markdown",
   "source": [
    "Start not too far from the solution to ensure convergence:\n",
    "We run first a very crude SCF to get close and then switch to Newton."
   ],
   "metadata": {}
  },
  {
   "outputs": [
    {
     "name": "stdout",
     "output_type": "stream",
     "text": [
      "n     Energy            log10(ΔE)   log10(Δρ)   Diag\n",
      "---   ---------------   ---------   ---------   ----\n",
      "  1   -7.846906459098                   -0.70    4.8\n",
      "  2   -7.852323988187       -2.27       -1.53    1.0\n"
     ]
    }
   ],
   "cell_type": "code",
   "source": [
    "scfres_start = self_consistent_field(basis; tol=1e-1);"
   ],
   "metadata": {},
   "execution_count": 5
  },
  {
   "cell_type": "markdown",
   "source": [
    "Remove the virtual orbitals (which Newton cannot treat yet)"
   ],
   "metadata": {}
  },
  {
   "outputs": [
    {
     "name": "stdout",
     "output_type": "stream",
     "text": [
      "n     Energy            log10(ΔE)   log10(Δρ)\n",
      "---   ---------------   ---------   ---------\n",
      "  1   -7.852646686714                   -2.55\n",
      "  2   -7.852646686730      -10.80       -6.04\n",
      "  3   -7.852646686730   +  -15.05      -12.71\n"
     ]
    }
   ],
   "cell_type": "code",
   "source": [
    "ψ, _ = DFTK.select_occupied_orbitals(basis, scfres_start.ψ, scfres_start.occupation)\n",
    "scfres_newton = newton(basis, ψ; tol);"
   ],
   "metadata": {},
   "execution_count": 6
  },
  {
   "cell_type": "markdown",
   "source": [
    "## Comparison of results"
   ],
   "metadata": {}
  },
  {
   "outputs": [
    {
     "name": "stdout",
     "output_type": "stream",
     "text": [
      "|ρ_newton - ρ_scf|  = 9.402366497858104e-14\n",
      "|ρ_newton - ρ_scfv| = 2.645696291891693e-13\n",
      "|ρ_newton - ρ_dm|   = 8.801517977463509e-10\n"
     ]
    }
   ],
   "cell_type": "code",
   "source": [
    "println(\"|ρ_newton - ρ_scf|  = \", norm(scfres_newton.ρ - scfres_scf.ρ))\n",
    "println(\"|ρ_newton - ρ_scfv| = \", norm(scfres_newton.ρ - scfres_scfv.ρ))\n",
    "println(\"|ρ_newton - ρ_dm|   = \", norm(scfres_newton.ρ - scfres_dm.ρ))"
   ],
   "metadata": {},
   "execution_count": 7
  }
 ],
 "nbformat_minor": 3,
 "metadata": {
  "language_info": {
   "file_extension": ".jl",
   "mimetype": "application/julia",
   "name": "julia",
   "version": "1.8.2"
  },
  "kernelspec": {
   "name": "julia-1.8",
   "display_name": "Julia 1.8.2",
   "language": "julia"
  }
 },
 "nbformat": 4
}
