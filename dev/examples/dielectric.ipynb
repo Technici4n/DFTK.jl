{
 "cells": [
  {
   "cell_type": "markdown",
   "source": [
    "# Eigenvalues of the dielectric matrix\n",
    "\n",
    "We compute a few eigenvalues of the dielectric matrix ($q=0$, $ω=0$) iteratively."
   ],
   "metadata": {}
  },
  {
   "outputs": [
    {
     "name": "stdout",
     "output_type": "stream",
     "text": [
      "n     Energy            log10(ΔE)   log10(Δρ)   Diag\n",
      "---   ---------------   ---------   ---------   ----\n",
      "  1   -7.232938973036                   -0.50    7.0\n",
      "  2   -7.249608802789       -1.78       -1.38    1.0\n",
      "  3   -7.251195718313       -2.80       -1.88    4.0\n",
      "  4   -7.251177396220   +   -4.74       -2.03    2.0\n",
      "  5   -7.251288410203       -3.95       -2.32    2.0\n",
      "  6   -7.251335612995       -4.33       -2.84    2.0\n",
      "  7   -7.251338697727       -5.51       -3.71    1.0\n",
      "  8   -7.251338770710       -7.14       -3.83    4.0\n",
      "  9   -7.251338795066       -7.61       -4.29    2.0\n",
      " 10   -7.251338798289       -8.49       -4.76    2.0\n",
      " 11   -7.251338798672       -9.42       -5.34    3.0\n",
      " 12   -7.251338798696      -10.62       -5.58    2.0\n",
      " 13   -7.251338798704      -11.11       -6.18    2.0\n",
      " 14   -7.251338798705      -12.14       -6.72    3.0\n",
      " 15   -7.251338798705      -13.52       -6.98    2.0\n",
      " 16   -7.251338798705      -14.45       -7.39    3.0\n"
     ]
    }
   ],
   "cell_type": "code",
   "source": [
    "using DFTK\n",
    "using Plots\n",
    "using KrylovKit\n",
    "using Printf\n",
    "\n",
    "# Calculation parameters\n",
    "kgrid = [1, 1, 1]\n",
    "Ecut = 5\n",
    "\n",
    "# Silicon lattice\n",
    "a = 10.26\n",
    "lattice = a / 2 .* [[0 1 1.]; [1 0 1.]; [1 1 0.]]\n",
    "Si = ElementPsp(:Si, psp=load_psp(\"hgh/lda/Si-q4\"))\n",
    "atoms     = [Si, Si]\n",
    "positions = [ones(3)/8, -ones(3)/8]\n",
    "\n",
    "# Compute the dielectric operator without symmetries\n",
    "model = model_LDA(lattice, atoms, positions, symmetries=false)\n",
    "basis = PlaneWaveBasis(model; Ecut, kgrid)\n",
    "scfres = self_consistent_field(basis, tol=1e-14);"
   ],
   "metadata": {},
   "execution_count": 1
  },
  {
   "cell_type": "markdown",
   "source": [
    "Applying $ε^† ≔ (1- χ_0 K)$ …"
   ],
   "metadata": {}
  },
  {
   "outputs": [],
   "cell_type": "code",
   "source": [
    "function eps_fun(δρ)\n",
    "    δV = apply_kernel(basis, δρ; ρ=scfres.ρ)\n",
    "    χ0δV = apply_χ0(scfres, δV)\n",
    "    δρ - χ0δV\n",
    "end;"
   ],
   "metadata": {},
   "execution_count": 2
  },
  {
   "cell_type": "markdown",
   "source": [
    "… eagerly diagonalizes the subspace matrix at each iteration"
   ],
   "metadata": {}
  },
  {
   "outputs": [
    {
     "name": "stdout",
     "output_type": "stream",
     "text": [
      "[ Info: Arnoldi iteration step 1: normres = 0.06616836826413232\n",
      "[ Info: Arnoldi iteration step 2: normres = 0.6669242337922955\n",
      "[ Info: Arnoldi iteration step 3: normres = 0.6603517036748381\n",
      "[ Info: Arnoldi iteration step 4: normres = 0.24555860761196047\n",
      "[ Info: Arnoldi iteration step 5: normres = 0.3976138552028982\n",
      "[ Info: Arnoldi schursolve in iter 1, krylovdim = 5: 0 values converged, normres = (1.16e-02, 6.13e-02, 2.91e-01, 2.64e-01, 1.09e-02)\n",
      "[ Info: Arnoldi iteration step 6: normres = 0.42312028359556975\n",
      "[ Info: Arnoldi schursolve in iter 1, krylovdim = 6: 0 values converged, normres = (4.27e-03, 2.03e-01, 3.37e-01, 1.04e-01, 1.12e-01)\n",
      "[ Info: Arnoldi iteration step 7: normres = 0.05665115049629118\n",
      "[ Info: Arnoldi schursolve in iter 1, krylovdim = 7: 0 values converged, normres = (1.29e-04, 1.72e-02, 9.11e-03, 2.81e-02, 3.98e-02)\n",
      "[ Info: Arnoldi iteration step 8: normres = 0.12109143818343916\n",
      "[ Info: Arnoldi schursolve in iter 1, krylovdim = 8: 0 values converged, normres = (6.75e-06, 1.48e-03, 8.76e-04, 1.08e-02, 3.62e-02)\n",
      "[ Info: Arnoldi iteration step 9: normres = 0.0839031952114048\n",
      "[ Info: Arnoldi schursolve in iter 1, krylovdim = 9: 0 values converged, normres = (2.45e-07, 8.82e-05, 5.82e-05, 3.26e-03, 3.61e-02)\n",
      "[ Info: Arnoldi iteration step 10: normres = 0.07607460842793715\n",
      "[ Info: Arnoldi schursolve in iter 1, krylovdim = 10: 0 values converged, normres = (8.27e-09, 5.00e-06, 3.68e-06, 1.05e-03, 3.31e-02)\n",
      "[ Info: Arnoldi iteration step 11: normres = 0.07846786681668873\n",
      "[ Info: Arnoldi schursolve in iter 1, krylovdim = 11: 0 values converged, normres = (2.75e-10, 2.71e-07, 2.21e-07, 2.43e-04, 1.48e-02)\n",
      "[ Info: Arnoldi iteration step 12: normres = 0.062004719243648\n",
      "[ Info: Arnoldi schursolve in iter 1, krylovdim = 12: 0 values converged, normres = (7.31e-12, 1.18e-08, 1.06e-08, 4.57e-05, 5.22e-03)\n",
      "[ Info: Arnoldi iteration step 13: normres = 0.18475849029764677\n",
      "[ Info: Arnoldi schursolve in iter 1, krylovdim = 13: 1 values converged, normres = (5.78e-13, 1.52e-09, 1.52e-09, 2.54e-05, 5.54e-03)\n",
      "[ Info: Arnoldi iteration step 14: normres = 0.28277727220947396\n",
      "[ Info: Arnoldi schursolve in iter 1, krylovdim = 14: 1 values converged, normres = (1.52e-13, 2.75e-09, 3.14e-08, 2.77e-01, 4.62e-04)\n",
      "[ Info: Arnoldi iteration step 15: normres = 0.3151961263755536\n",
      "[ Info: Arnoldi schursolve in iter 1, krylovdim = 15: 1 values converged, normres = (2.15e-14, 9.44e-10, 6.60e-02, 4.58e-04, 1.87e-05)\n",
      "[ Info: Arnoldi iteration step 16: normres = 0.10938345710979204\n",
      "[ Info: Arnoldi schursolve in iter 1, krylovdim = 16: 1 values converged, normres = (2.40e-15, 1.07e-08, 8.85e-02, 1.88e-03, 5.91e-02)\n",
      "[ Info: Arnoldi iteration step 17: normres = 0.031189974605281192\n",
      "[ Info: Arnoldi schursolve in iter 1, krylovdim = 17: 1 values converged, normres = (3.12e-17, 1.75e-03, 5.79e-04, 5.29e-07, 1.35e-03)\n",
      "[ Info: Arnoldi iteration step 18: normres = 0.023618333723886813\n",
      "[ Info: Arnoldi schursolve in iter 1, krylovdim = 18: 1 values converged, normres = (3.05e-19, 2.89e-08, 2.88e-05, 2.70e-08, 2.31e-05)\n",
      "[ Info: Arnoldi iteration step 19: normres = 0.2371832017797637\n",
      "[ Info: Arnoldi schursolve in iter 1, krylovdim = 19: 1 values converged, normres = (3.33e-20, 5.38e-06, 4.87e-07, 4.87e-06, 8.67e-08)\n",
      "[ Info: Arnoldi iteration step 20: normres = 0.019002684478924618\n",
      "[ Info: Arnoldi schursolve in iter 1, krylovdim = 20: 1 values converged, normres = (2.82e-22, 5.39e-08, 5.59e-08, 4.56e-08, 6.42e-08)\n",
      "[ Info: Arnoldi iteration step 21: normres = 0.0152183561599283\n",
      "[ Info: Arnoldi schursolve in iter 1, krylovdim = 21: 1 values converged, normres = (1.76e-24, 6.21e-10, 4.54e-10, 6.70e-10, 5.35e-10)\n",
      "[ Info: Arnoldi iteration step 22: normres = 0.030407612174927063\n",
      "[ Info: Arnoldi schursolve in iter 1, krylovdim = 22: 1 values converged, normres = (2.19e-26, 1.25e-11, 8.88e-12, 1.47e-11, 1.17e-11)\n",
      "[ Info: Arnoldi iteration step 23: normres = 0.23559960493388557\n",
      "[ Info: Arnoldi schursolve in iter 1, krylovdim = 23: 1 values converged, normres = (2.20e-27, 2.03e-12, 1.45e-12, 2.65e-12, 2.11e-12)\n",
      "[ Info: Arnoldi iteration step 24: normres = 0.25929420191695857\n",
      "[ Info: Arnoldi schursolve in iter 1, krylovdim = 24: 1 values converged, normres = (5.14e-28, 2.78e-12, 1.98e-12, 1.50e-11, 1.19e-11)\n",
      "[ Info: Arnoldi iteration step 25: normres = 0.12102194526347707\n",
      "[ Info: Arnoldi schursolve in iter 1, krylovdim = 25: 3 values converged, normres = (2.81e-29, 3.15e-13, 2.24e-13, 4.49e-11, 3.58e-11)\n",
      "[ Info: Arnoldi iteration step 26: normres = 0.022242263993050838\n",
      "[ Info: Arnoldi schursolve in iter 1, krylovdim = 26: 3 values converged, normres = (2.69e-31, 5.01e-15, 3.56e-15, 1.01e-10, 8.09e-11)\n",
      "[ Info: Arnoldi iteration step 27: normres = 0.03423264593821904\n",
      "[ Info: Arnoldi schursolve in iter 1, krylovdim = 27: 3 values converged, normres = (3.79e-33, 1.12e-16, 7.99e-17, 2.68e-06, 3.88e-07)\n",
      "[ Info: Arnoldi iteration step 28: normres = 0.09061595366257363\n",
      "[ Info: Arnoldi schursolve in iter 1, krylovdim = 28: 3 values converged, normres = (1.50e-34, 7.41e-18, 5.27e-18, 2.71e-07, 4.24e-07)\n",
      "[ Info: Arnoldi iteration step 29: normres = 0.1267351369724305\n",
      "[ Info: Arnoldi schursolve in iter 1, krylovdim = 29: 3 values converged, normres = (8.13e-36, 6.54e-19, 4.66e-19, 2.00e-10, 4.23e-08)\n",
      "[ Info: Arnoldi iteration step 30: normres = 0.04878091740920445\n",
      "[ Info: Arnoldi schursolve in iter 1, krylovdim = 30: 3 values converged, normres = (1.95e-37, 2.80e-20, 1.99e-20, 3.70e-09, 5.38e-10)\n",
      "[ Info: Arnoldi schursolve in iter 2, krylovdim = 19: 3 values converged, normres = (1.99e-37, 2.80e-20, 1.99e-20, 3.70e-09, 5.38e-10)\n",
      "[ Info: Arnoldi iteration step 20: normres = 0.05489837871178855\n",
      "[ Info: Arnoldi schursolve in iter 2, krylovdim = 20: 3 values converged, normres = (4.43e-39, 1.02e-21, 7.25e-22, 1.48e-10, 2.49e-11)\n",
      "[ Info: Arnoldi iteration step 21: normres = 0.053191237889098596\n",
      "[ Info: Arnoldi schursolve in iter 2, krylovdim = 21: 3 values converged, normres = (1.01e-40, 3.81e-23, 2.71e-23, 6.14e-12, 1.02e-12)\n",
      "[ Info: Arnoldi iteration step 22: normres = 0.014461548114918213\n",
      "┌ Info: Arnoldi eigsolve finished after 2 iterations:\n",
      "│ *  6 eigenvalues converged\n",
      "│ *  norm of residuals = (6.060309133261267e-43, 3.6545886460117503e-25, 2.358971609999596e-25, 6.485666125221002e-14, 1.402940593643199e-16, 4.059667544539552e-17)\n",
      "└ *  number of operations = 33\n"
     ]
    }
   ],
   "cell_type": "code",
   "source": [
    "eigsolve(eps_fun, randn(size(scfres.ρ)), 5, :LM; eager=true, verbosity=3);"
   ],
   "metadata": {},
   "execution_count": 3
  }
 ],
 "nbformat_minor": 3,
 "metadata": {
  "language_info": {
   "file_extension": ".jl",
   "mimetype": "application/julia",
   "name": "julia",
   "version": "1.8.3"
  },
  "kernelspec": {
   "name": "julia-1.8",
   "display_name": "Julia 1.8.3",
   "language": "julia"
  }
 },
 "nbformat": 4
}
