{
 "cells": [
  {
   "cell_type": "markdown",
   "source": [
    "# Eigenvalues of the dielectric matrix\n",
    "\n",
    "We compute a few eigenvalues of the dielectric matrix ($q=0$, $ω=0$) iteratively."
   ],
   "metadata": {}
  },
  {
   "outputs": [
    {
     "name": "stdout",
     "output_type": "stream",
     "text": [
      "n     Energy            log10(ΔE)   log10(Δρ)   Diag\n",
      "---   ---------------   ---------   ---------   ----\n",
      "  1   -7.234165447172                   -0.50    6.0\n",
      "  2   -7.249725939868       -1.81       -1.40    1.0\n",
      "  3   -7.251273784797       -2.81       -1.97    4.0\n",
      "  4   -7.251273691677   +   -7.03       -2.17    4.0\n",
      "  5   -7.251333854499       -4.22       -2.74    4.0\n",
      "  6   -7.251336554804       -5.57       -2.99    2.0\n",
      "  7   -7.251338740184       -5.66       -3.77    2.0\n",
      "  8   -7.251338789553       -7.31       -4.10    2.0\n",
      "  9   -7.251338798307       -8.06       -4.84    2.0\n",
      " 10   -7.251338798680       -9.43       -5.31    3.0\n",
      " 11   -7.251338798695      -10.84       -5.56    3.0\n",
      " 12   -7.251338798704      -11.04       -6.13    2.0\n",
      " 13   -7.251338798705      -12.17       -7.05    3.0\n",
      " 14   -7.251338798705      -13.80       -7.15    4.0\n",
      " 15   -7.251338798705      -14.21       -7.57    3.0\n"
     ]
    }
   ],
   "cell_type": "code",
   "source": [
    "using DFTK\n",
    "using Plots\n",
    "using KrylovKit\n",
    "using Printf\n",
    "\n",
    "# Calculation parameters\n",
    "kgrid = [1, 1, 1]\n",
    "Ecut = 5\n",
    "\n",
    "# Silicon lattice\n",
    "a = 10.26\n",
    "lattice = a / 2 .* [[0 1 1.]; [1 0 1.]; [1 1 0.]]\n",
    "Si = ElementPsp(:Si, psp=load_psp(\"hgh/lda/Si-q4\"))\n",
    "atoms     = [Si, Si]\n",
    "positions = [ones(3)/8, -ones(3)/8]\n",
    "\n",
    "# Compute the dielectric operator without symmetries\n",
    "model = model_LDA(lattice, atoms, positions, symmetries=false)\n",
    "basis = PlaneWaveBasis(model; Ecut, kgrid)\n",
    "scfres = self_consistent_field(basis, tol=1e-14);"
   ],
   "metadata": {},
   "execution_count": 1
  },
  {
   "cell_type": "markdown",
   "source": [
    "Applying $ε^† ≔ (1- χ_0 K)$ …"
   ],
   "metadata": {}
  },
  {
   "outputs": [],
   "cell_type": "code",
   "source": [
    "function eps_fun(δρ)\n",
    "    δV = apply_kernel(basis, δρ; ρ=scfres.ρ)\n",
    "    χ0δV = apply_χ0(scfres, δV)\n",
    "    δρ - χ0δV\n",
    "end;"
   ],
   "metadata": {},
   "execution_count": 2
  },
  {
   "cell_type": "markdown",
   "source": [
    "… eagerly diagonalizes the subspace matrix at each iteration"
   ],
   "metadata": {}
  },
  {
   "outputs": [
    {
     "name": "stdout",
     "output_type": "stream",
     "text": [
      "[ Info: Arnoldi iteration step 1: normres = 0.06064078200585771\n",
      "[ Info: Arnoldi iteration step 2: normres = 0.4398688717590279\n",
      "[ Info: Arnoldi iteration step 3: normres = 0.748885025887573\n",
      "[ Info: Arnoldi iteration step 4: normres = 0.47830535184091827\n",
      "[ Info: Arnoldi iteration step 5: normres = 0.47080131203904296\n",
      "[ Info: Arnoldi schursolve in iter 1, krylovdim = 5: 0 values converged, normres = (9.52e-02, 6.52e-02, 3.23e-01, 3.22e-01, 1.63e-02)\n",
      "[ Info: Arnoldi iteration step 6: normres = 0.26089883422860577\n",
      "[ Info: Arnoldi schursolve in iter 1, krylovdim = 6: 0 values converged, normres = (2.11e-02, 7.91e-02, 2.25e-01, 6.63e-02, 5.56e-02)\n",
      "[ Info: Arnoldi iteration step 7: normres = 0.06987886022720839\n",
      "[ Info: Arnoldi schursolve in iter 1, krylovdim = 7: 0 values converged, normres = (7.03e-04, 6.12e-03, 1.28e-02, 1.96e-02, 5.70e-02)\n",
      "[ Info: Arnoldi iteration step 8: normres = 0.09996993935669804\n",
      "[ Info: Arnoldi schursolve in iter 1, krylovdim = 8: 0 values converged, normres = (2.95e-05, 4.15e-04, 9.64e-04, 5.23e-03, 3.18e-02)\n",
      "[ Info: Arnoldi iteration step 9: normres = 0.06365388219477748\n",
      "[ Info: Arnoldi schursolve in iter 1, krylovdim = 9: 0 values converged, normres = (8.25e-07, 1.93e-05, 4.99e-05, 1.25e-03, 3.11e-02)\n",
      "[ Info: Arnoldi iteration step 10: normres = 0.09615242760809595\n",
      "[ Info: Arnoldi schursolve in iter 1, krylovdim = 10: 0 values converged, normres = (3.41e-08, 1.31e-06, 3.76e-06, 3.85e-04, 2.74e-02)\n",
      "[ Info: Arnoldi iteration step 11: normres = 0.09737676324604863\n",
      "[ Info: Arnoldi schursolve in iter 1, krylovdim = 11: 0 values converged, normres = (1.47e-09, 9.45e-08, 3.03e-07, 1.58e-04, 5.34e-02)\n",
      "[ Info: Arnoldi iteration step 12: normres = 0.06727604502277326\n",
      "[ Info: Arnoldi schursolve in iter 1, krylovdim = 12: 0 values converged, normres = (4.24e-11, 4.46e-09, 1.59e-08, 3.50e-05, 2.26e-02)\n",
      "[ Info: Arnoldi iteration step 13: normres = 0.06280579961165636\n",
      "[ Info: Arnoldi schursolve in iter 1, krylovdim = 13: 0 values converged, normres = (1.14e-12, 1.97e-10, 7.77e-10, 6.82e-06, 8.45e-03)\n",
      "[ Info: Arnoldi iteration step 14: normres = 0.7203611070947769\n",
      "[ Info: Arnoldi schursolve in iter 1, krylovdim = 14: 1 values converged, normres = (5.43e-13, 2.32e-10, 1.19e-09, 7.15e-01, 3.69e-02)\n",
      "[ Info: Arnoldi iteration step 15: normres = 0.1168018337106292\n",
      "[ Info: Arnoldi schursolve in iter 1, krylovdim = 15: 1 values converged, normres = (4.11e-14, 1.78e-10, 7.30e-02, 4.06e-04, 2.19e-05)\n",
      "[ Info: Arnoldi iteration step 16: normres = 0.4283783536631584\n",
      "[ Info: Arnoldi schursolve in iter 1, krylovdim = 16: 1 values converged, normres = (1.57e-14, 5.72e-10, 1.56e-01, 6.10e-03, 3.97e-01)\n",
      "[ Info: Arnoldi iteration step 17: normres = 0.027981359381136408\n",
      "[ Info: Arnoldi schursolve in iter 1, krylovdim = 17: 1 values converged, normres = (2.09e-16, 4.59e-03, 3.13e-03, 5.26e-09, 6.95e-03)\n",
      "[ Info: Arnoldi iteration step 18: normres = 0.02514321284772878\n",
      "[ Info: Arnoldi schursolve in iter 1, krylovdim = 18: 1 values converged, normres = (2.16e-18, 1.64e-08, 9.20e-05, 3.22e-05, 1.22e-04)\n",
      "[ Info: Arnoldi iteration step 19: normres = 0.19755777334878613\n",
      "[ Info: Arnoldi schursolve in iter 1, krylovdim = 19: 1 values converged, normres = (2.00e-19, 4.51e-06, 1.40e-05, 3.86e-08, 2.28e-05)\n",
      "[ Info: Arnoldi iteration step 20: normres = 0.03241965675680939\n",
      "[ Info: Arnoldi schursolve in iter 1, krylovdim = 20: 1 values converged, normres = (2.85e-21, 1.80e-08, 3.52e-07, 3.08e-08, 6.11e-07)\n",
      "[ Info: Arnoldi iteration step 21: normres = 0.03190419950292218\n",
      "[ Info: Arnoldi schursolve in iter 1, krylovdim = 21: 1 values converged, normres = (3.78e-23, 1.03e-09, 7.47e-09, 1.44e-08, 1.26e-09)\n",
      "[ Info: Arnoldi iteration step 22: normres = 0.01937959812459331\n",
      "[ Info: Arnoldi schursolve in iter 1, krylovdim = 22: 1 values converged, normres = (3.02e-25, 1.48e-11, 9.47e-11, 1.83e-10, 8.53e-11)\n",
      "[ Info: Arnoldi iteration step 23: normres = 0.4899582631052926\n",
      "[ Info: Arnoldi schursolve in iter 1, krylovdim = 23: 1 values converged, normres = (6.60e-26, 5.42e-12, 3.48e-11, 7.56e-11, 3.40e-11)\n",
      "[ Info: Arnoldi iteration step 24: normres = 0.0390252448271908\n",
      "[ Info: Arnoldi schursolve in iter 1, krylovdim = 24: 1 values converged, normres = (2.26e-27, 1.33e-12, 8.55e-12, 3.48e-02, 6.48e-03)\n",
      "[ Info: Arnoldi iteration step 25: normres = 0.06702588839737385\n",
      "[ Info: Arnoldi schursolve in iter 1, krylovdim = 25: 3 values converged, normres = (6.25e-29, 5.81e-14, 3.73e-13, 1.52e-09, 6.93e-10)\n",
      "[ Info: Arnoldi iteration step 26: normres = 0.04990506900216955\n",
      "[ Info: Arnoldi schursolve in iter 1, krylovdim = 26: 3 values converged, normres = (1.40e-30, 2.21e-15, 1.42e-14, 5.35e-05, 1.08e-05)\n",
      "[ Info: Arnoldi iteration step 27: normres = 0.04586384832985278\n",
      "[ Info: Arnoldi schursolve in iter 1, krylovdim = 27: 3 values converged, normres = (2.66e-32, 6.69e-17, 4.30e-16, 1.52e-06, 8.33e-07)\n",
      "[ Info: Arnoldi iteration step 28: normres = 0.06282485520505077\n",
      "[ Info: Arnoldi schursolve in iter 1, krylovdim = 28: 3 values converged, normres = (7.38e-34, 3.10e-18, 1.99e-17, 5.99e-08, 3.71e-08)\n",
      "[ Info: Arnoldi iteration step 29: normres = 0.14584610795600159\n",
      "[ Info: Arnoldi schursolve in iter 1, krylovdim = 29: 3 values converged, normres = (4.52e-35, 3.07e-19, 1.97e-18, 9.31e-10, 2.87e-09)\n",
      "[ Info: Arnoldi iteration step 30: normres = 0.035720757234325946\n",
      "[ Info: Arnoldi schursolve in iter 1, krylovdim = 30: 3 values converged, normres = (8.10e-37, 9.78e-21, 6.28e-20, 5.30e-11, 2.02e-10)\n",
      "[ Info: Arnoldi schursolve in iter 2, krylovdim = 19: 3 values converged, normres = (8.18e-37, 9.78e-21, 6.28e-20, 5.30e-11, 2.02e-10)\n",
      "[ Info: Arnoldi iteration step 20: normres = 0.03177658468708551\n",
      "[ Info: Arnoldi schursolve in iter 2, krylovdim = 20: 3 values converged, normres = (1.06e-38, 2.03e-22, 1.31e-21, 1.16e-12, 4.27e-12)\n",
      "[ Info: Arnoldi iteration step 21: normres = 0.07408154440691131\n",
      "┌ Info: Arnoldi eigsolve finished after 2 iterations:\n",
      "│ *  6 eigenvalues converged\n",
      "│ *  norm of residuals = (3.3264903140298362e-40, 1.0412637072065603e-23, 6.355750662717212e-23, 6.57891078531533e-14, 2.830976018341761e-13, 2.830976018341761e-13)\n",
      "└ *  number of operations = 32\n"
     ]
    }
   ],
   "cell_type": "code",
   "source": [
    "eigsolve(eps_fun, randn(size(scfres.ρ)), 5, :LM; eager=true, verbosity=3);"
   ],
   "metadata": {},
   "execution_count": 3
  }
 ],
 "nbformat_minor": 3,
 "metadata": {
  "language_info": {
   "file_extension": ".jl",
   "mimetype": "application/julia",
   "name": "julia",
   "version": "1.8.2"
  },
  "kernelspec": {
   "name": "julia-1.8",
   "display_name": "Julia 1.8.2",
   "language": "julia"
  }
 },
 "nbformat": 4
}
