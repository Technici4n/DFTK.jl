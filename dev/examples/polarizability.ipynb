{
 "cells": [
  {
   "cell_type": "markdown",
   "source": [
    "# Polarizability by linear response\n",
    "\n",
    "We compute the polarizability of a Helium atom. The polarizability\n",
    "is defined as the change in dipole moment\n",
    "$$\n",
    "μ = ∫ r ρ(r) dr\n",
    "$$\n",
    "with respect to a small uniform electric field $E = -x$.\n",
    "\n",
    "We compute this in two ways: first by finite differences (applying a\n",
    "finite electric field), then by linear response. Note that DFTK is\n",
    "not really adapted to isolated atoms because it uses periodic\n",
    "boundary conditions. Nevertheless we can simply embed the Helium\n",
    "atom in a large enough box (although this is computationally wasteful).\n",
    "\n",
    "As in other tests, this is not fully converged, convergence\n",
    "parameters were simply selected for fast execution on CI,"
   ],
   "metadata": {}
  },
  {
   "outputs": [],
   "cell_type": "code",
   "source": [
    "using DFTK\n",
    "using LinearAlgebra\n",
    "\n",
    "a = 10.\n",
    "lattice = a * I(3)  # cube of $a$ bohrs\n",
    "# Helium at the center of the box\n",
    "atoms     = [ElementPsp(:He, psp=load_psp(\"hgh/lda/He-q2\"))]\n",
    "positions = [[1/2, 1/2, 1/2]]\n",
    "\n",
    "\n",
    "kgrid = [1, 1, 1]  # no k-point sampling for an isolated system\n",
    "Ecut = 30\n",
    "tol = 1e-8\n",
    "\n",
    "# dipole moment of a given density (assuming the current geometry)\n",
    "function dipole(basis, ρ)\n",
    "    rr = [(r[1] - a/2) for r in r_vectors_cart(basis)]\n",
    "    sum(rr .* ρ) * basis.dvol\n",
    "end;"
   ],
   "metadata": {},
   "execution_count": 1
  },
  {
   "cell_type": "markdown",
   "source": [
    "## Using finite differences\n",
    "We first compute the polarizability by finite differences.\n",
    "First compute the dipole moment at rest:"
   ],
   "metadata": {}
  },
  {
   "outputs": [
    {
     "name": "stdout",
     "output_type": "stream",
     "text": [
      "n     Energy            log10(ΔE)   log10(Δρ)   Diag   Δtime\n",
      "---   ---------------   ---------   ---------   ----   ------\n",
      "  1   -2.770293050080                   -0.53    9.0         \n",
      "  2   -2.771681123412       -2.86       -1.30    1.0    231ms\n",
      "  3   -2.771713758763       -4.49       -2.71    1.0    164ms\n",
      "  4   -2.771714703538       -6.02       -3.53    2.0    198ms\n",
      "  5   -2.771714712654       -8.04       -3.84    2.0    231ms\n",
      "  6   -2.771714715209       -8.59       -5.58    1.0    173ms\n",
      "  7   -2.771714715248      -10.41       -5.50    3.0    235ms\n",
      "  8   -2.771714715250      -11.94       -6.06    1.0    176ms\n",
      "  9   -2.771714715250      -13.37       -6.49    1.0    204ms\n",
      " 10   -2.771714715250      -13.92       -7.02    1.0    180ms\n",
      " 11   -2.771714715250   +  -13.95       -7.71    2.0    209ms\n",
      " 12   -2.771714715250      -13.91       -7.91    2.0    206ms\n",
      " 13   -2.771714715250      -15.05       -8.70    1.0    194ms\n"
     ]
    },
    {
     "output_type": "execute_result",
     "data": {
      "text/plain": "-0.00013457360763584832"
     },
     "metadata": {},
     "execution_count": 2
    }
   ],
   "cell_type": "code",
   "source": [
    "model = model_LDA(lattice, atoms, positions; symmetries=false)\n",
    "basis = PlaneWaveBasis(model; Ecut, kgrid)\n",
    "res   = self_consistent_field(basis; tol)\n",
    "μref  = dipole(basis, res.ρ)"
   ],
   "metadata": {},
   "execution_count": 2
  },
  {
   "cell_type": "markdown",
   "source": [
    "Then in a small uniform field:"
   ],
   "metadata": {}
  },
  {
   "outputs": [
    {
     "name": "stdout",
     "output_type": "stream",
     "text": [
      "n     Energy            log10(ΔE)   log10(Δρ)   Diag   Δtime\n",
      "---   ---------------   ---------   ---------   ----   ------\n",
      "  1   -2.770494286651                   -0.52    8.0         \n",
      "  2   -2.771777339354       -2.89       -1.32    1.0    166ms\n",
      "  3   -2.771801428963       -4.62       -2.47    1.0    183ms\n",
      "  4   -2.771801973203       -6.26       -3.18    1.0    196ms\n",
      "  5   -2.771802074099       -7.00       -4.10    2.0    187ms\n",
      "  6   -2.771802074064   +  -10.47       -4.12    1.0    204ms\n",
      "  7   -2.771802074436       -9.43       -4.73    1.0    170ms\n",
      "  8   -2.771802074455      -10.74       -4.81    1.0    212ms\n",
      "  9   -2.771802074474      -10.71       -5.51    1.0    188ms\n",
      " 10   -2.771802074476      -11.77       -5.95    2.0    201ms\n",
      " 11   -2.771802074476      -12.84       -6.23    1.0    197ms\n",
      " 12   -2.771802074476      -13.53       -6.68    1.0    196ms\n",
      " 13   -2.771802074476   +  -14.10       -7.53    2.0    233ms\n",
      " 14   -2.771802074476   +  -14.65       -8.10    1.0    202ms\n"
     ]
    },
    {
     "output_type": "execute_result",
     "data": {
      "text/plain": "0.01761222055253888"
     },
     "metadata": {},
     "execution_count": 3
    }
   ],
   "cell_type": "code",
   "source": [
    "ε = .01\n",
    "model_ε = model_LDA(lattice, atoms, positions;\n",
    "                    extra_terms=[ExternalFromReal(r -> -ε * (r[1] - a/2))],\n",
    "                    symmetries=false)\n",
    "basis_ε = PlaneWaveBasis(model_ε; Ecut, kgrid)\n",
    "res_ε   = self_consistent_field(basis_ε; tol)\n",
    "με = dipole(basis_ε, res_ε.ρ)"
   ],
   "metadata": {},
   "execution_count": 3
  },
  {
   "outputs": [
    {
     "name": "stdout",
     "output_type": "stream",
     "text": [
      "Reference dipole:  -0.00013457360763584832\n",
      "Displaced dipole:  0.01761222055253888\n",
      "Polarizability :   1.7746794160174728\n"
     ]
    }
   ],
   "cell_type": "code",
   "source": [
    "polarizability = (με - μref) / ε\n",
    "\n",
    "println(\"Reference dipole:  $μref\")\n",
    "println(\"Displaced dipole:  $με\")\n",
    "println(\"Polarizability :   $polarizability\")"
   ],
   "metadata": {},
   "execution_count": 4
  },
  {
   "cell_type": "markdown",
   "source": [
    "The result on more converged grids is very close to published results.\n",
    "For example [DOI 10.1039/C8CP03569E](https://doi.org/10.1039/C8CP03569E)\n",
    "quotes **1.65** with LSDA and **1.38** with CCSD(T)."
   ],
   "metadata": {}
  },
  {
   "cell_type": "markdown",
   "source": [
    "## Using linear response\n",
    "Now we use linear response to compute this analytically; we refer to standard\n",
    "textbooks for the formalism. In the following, $χ_0$ is the\n",
    "independent-particle polarizability, and $K$ the\n",
    "Hartree-exchange-correlation kernel. We denote with $δV_{\\rm ext}$ an external\n",
    "perturbing potential (like in this case the uniform electric field). Then:\n",
    "$$\n",
    "δρ = χ_0 δV = χ_0 (δV_{\\rm ext} + K δρ),\n",
    "$$\n",
    "which implies\n",
    "$$\n",
    "δρ = (1-χ_0 K)^{-1} χ_0 δV_{\\rm ext}.\n",
    "$$\n",
    "From this we identify the polarizability operator to be $χ = (1-χ_0 K)^{-1} χ_0$.\n",
    "Numerically, we apply $χ$ to $δV = -x$ by solving a linear equation\n",
    "(the Dyson equation) iteratively."
   ],
   "metadata": {}
  },
  {
   "outputs": [
    {
     "name": "stdout",
     "output_type": "stream",
     "text": [
      "WARNING: using KrylovKit.basis in module ##355 conflicts with an existing identifier.\n",
      "[ Info: GMRES linsolve in iter 1; step 1: normres = 2.493920874994e-01\n",
      "[ Info: GMRES linsolve in iter 1; step 2: normres = 3.766551665536e-03\n",
      "[ Info: GMRES linsolve in iter 1; step 3: normres = 2.852768417577e-04\n",
      "[ Info: GMRES linsolve in iter 1; step 4: normres = 4.694602666467e-06\n",
      "[ Info: GMRES linsolve in iter 1; step 5: normres = 1.088788050328e-08\n",
      "[ Info: GMRES linsolve in iter 1; step 6: normres = 6.287951121232e-11\n",
      "[ Info: GMRES linsolve in iter 1; step 7: normres = 1.123603288686e-12\n",
      "[ Info: GMRES linsolve in iter 1; finished at step 7: normres = 1.123603288686e-12\n",
      "[ Info: GMRES linsolve in iter 2; step 1: normres = 6.847865755472e-11\n",
      "[ Info: GMRES linsolve in iter 2; step 2: normres = 1.282230649684e-11\n",
      "[ Info: GMRES linsolve in iter 2; step 3: normres = 2.435962134818e-13\n",
      "[ Info: GMRES linsolve in iter 2; finished at step 3: normres = 2.435962134818e-13\n",
      "┌ Info: GMRES linsolve converged at iteration 2, step 3:\n",
      "│ *  norm of residual = 2.4359559154035014e-13\n",
      "└ *  number of operations = 12\n",
      "Non-interacting polarizability: 1.9257125257881342\n",
      "Interacting polarizability:     1.7736548564593115\n"
     ]
    }
   ],
   "cell_type": "code",
   "source": [
    "using KrylovKit\n",
    "\n",
    "# Apply $(1- χ_0 K)$\n",
    "function dielectric_operator(δρ)\n",
    "    δV = apply_kernel(basis, δρ; res.ρ)\n",
    "    χ0δV = apply_χ0(res, δV)\n",
    "    δρ - χ0δV\n",
    "end\n",
    "\n",
    "# `δVext` is the potential from a uniform field interacting with the dielectric dipole\n",
    "# of the density.\n",
    "δVext = [-(r[1] - a/2) for r in r_vectors_cart(basis)]\n",
    "δVext = cat(δVext; dims=4)\n",
    "\n",
    "# Apply $χ_0$ once to get non-interacting dipole\n",
    "δρ_nointeract = apply_χ0(res, δVext)\n",
    "\n",
    "# Solve Dyson equation to get interacting dipole\n",
    "δρ = linsolve(dielectric_operator, δρ_nointeract, verbosity=3)[1]\n",
    "\n",
    "println(\"Non-interacting polarizability: $(dipole(basis, δρ_nointeract))\")\n",
    "println(\"Interacting polarizability:     $(dipole(basis, δρ))\")"
   ],
   "metadata": {},
   "execution_count": 5
  },
  {
   "cell_type": "markdown",
   "source": [
    "As expected, the interacting polarizability matches the finite difference\n",
    "result. The non-interacting polarizability is higher."
   ],
   "metadata": {}
  }
 ],
 "nbformat_minor": 3,
 "metadata": {
  "language_info": {
   "file_extension": ".jl",
   "mimetype": "application/julia",
   "name": "julia",
   "version": "1.8.5"
  },
  "kernelspec": {
   "name": "julia-1.8",
   "display_name": "Julia 1.8.5",
   "language": "julia"
  }
 },
 "nbformat": 4
}
