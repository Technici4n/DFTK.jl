{
 "cells": [
  {
   "cell_type": "markdown",
   "source": [
    "# Eigenvalues of the dielectric matrix\n",
    "\n",
    "We compute a few eigenvalues of the dielectric matrix ($q=0$, $ω=0$) iteratively."
   ],
   "metadata": {}
  },
  {
   "outputs": [
    {
     "name": "stdout",
     "output_type": "stream",
     "text": [
      "n     Energy            log10(ΔE)   log10(Δρ)   Diag\n",
      "---   ---------------   ---------   ---------   ----\n",
      "  1   -7.234631692270                   -0.50    7.0\n",
      "  2   -7.250220395215       -1.81       -1.40    1.0\n",
      "  3   -7.251160877642       -3.03       -2.19    1.0\n",
      "  4   -7.251310409150       -3.83       -2.26    2.0\n",
      "  5   -7.251337059523       -4.57       -2.82    1.0\n",
      "  6   -7.251337903340       -6.07       -3.09    2.0\n",
      "  7   -7.251338702470       -6.10       -3.61    1.0\n",
      "  8   -7.251338741469       -7.41       -3.77    2.0\n",
      "  9   -7.251338784507       -7.37       -4.06    1.0\n",
      " 10   -7.251338798013       -7.87       -4.65    1.0\n",
      " 11   -7.251338798587       -9.24       -5.08    2.0\n",
      " 12   -7.251338798692       -9.98       -5.53    2.0\n",
      " 13   -7.251338798703      -10.95       -6.00    2.0\n",
      " 14   -7.251338798704      -11.99       -6.36    1.0\n",
      " 15   -7.251338798705      -12.57       -6.90    2.0\n",
      " 16   -7.251338798705      -13.60       -7.17    3.0\n",
      " 17   -7.251338798705      -14.27       -7.75    1.0\n",
      " 18   -7.251338798705   +    -Inf       -7.94    2.0\n",
      " 19   -7.251338798705      -14.75       -8.46    1.0\n"
     ]
    }
   ],
   "cell_type": "code",
   "source": [
    "using DFTK\n",
    "using Plots\n",
    "using KrylovKit\n",
    "using Printf\n",
    "\n",
    "# Calculation parameters\n",
    "kgrid = [1, 1, 1]\n",
    "Ecut = 5\n",
    "\n",
    "# Silicon lattice\n",
    "a = 10.26\n",
    "lattice = a / 2 .* [[0 1 1.]; [1 0 1.]; [1 1 0.]]\n",
    "Si = ElementPsp(:Si, psp=load_psp(\"hgh/lda/Si-q4\"))\n",
    "atoms     = [Si, Si]\n",
    "positions = [ones(3)/8, -ones(3)/8]\n",
    "\n",
    "# Compute the dielectric operator without symmetries\n",
    "model  = model_LDA(lattice, atoms, positions, symmetries=false)\n",
    "basis  = PlaneWaveBasis(model; Ecut, kgrid)\n",
    "scfres = self_consistent_field(basis, tol=1e-8);"
   ],
   "metadata": {},
   "execution_count": 1
  },
  {
   "cell_type": "markdown",
   "source": [
    "Applying $ε^† ≔ (1- χ_0 K)$ …"
   ],
   "metadata": {}
  },
  {
   "outputs": [],
   "cell_type": "code",
   "source": [
    "function eps_fun(δρ)\n",
    "    δV = apply_kernel(basis, δρ; ρ=scfres.ρ)\n",
    "    χ0δV = apply_χ0(scfres, δV)\n",
    "    δρ - χ0δV\n",
    "end;"
   ],
   "metadata": {},
   "execution_count": 2
  },
  {
   "cell_type": "markdown",
   "source": [
    "… eagerly diagonalizes the subspace matrix at each iteration"
   ],
   "metadata": {}
  },
  {
   "outputs": [
    {
     "name": "stdout",
     "output_type": "stream",
     "text": [
      "[ Info: Arnoldi iteration step 1: normres = 0.034263735234470204\n",
      "[ Info: Arnoldi iteration step 2: normres = 0.6049351305681692\n",
      "[ Info: Arnoldi iteration step 3: normres = 0.9481044761800939\n",
      "[ Info: Arnoldi iteration step 4: normres = 0.30452275088450936\n",
      "[ Info: Arnoldi iteration step 5: normres = 0.41308930078652606\n",
      "[ Info: Arnoldi schursolve in iter 1, krylovdim = 5: 0 values converged, normres = (3.94e-02, 6.45e-02, 3.52e-01, 1.94e-01, 5.69e-02)\n",
      "[ Info: Arnoldi iteration step 6: normres = 0.3863120507700348\n",
      "[ Info: Arnoldi schursolve in iter 1, krylovdim = 6: 0 values converged, normres = (1.35e-02, 2.13e-01, 2.87e-01, 1.25e-01, 3.32e-02)\n",
      "[ Info: Arnoldi iteration step 7: normres = 0.10953463585432946\n",
      "[ Info: Arnoldi schursolve in iter 1, krylovdim = 7: 0 values converged, normres = (7.67e-04, 2.94e-02, 1.72e-02, 6.50e-02, 7.29e-02)\n",
      "[ Info: Arnoldi iteration step 8: normres = 0.09742917551687891\n",
      "[ Info: Arnoldi schursolve in iter 1, krylovdim = 8: 0 values converged, normres = (3.22e-05, 2.03e-03, 1.31e-03, 2.00e-02, 4.33e-02)\n",
      "[ Info: Arnoldi iteration step 9: normres = 0.07261866943742827\n",
      "[ Info: Arnoldi schursolve in iter 1, krylovdim = 9: 0 values converged, normres = (1.01e-06, 1.05e-04, 7.52e-05, 4.82e-03, 2.73e-02)\n",
      "[ Info: Arnoldi iteration step 10: normres = 0.11672993555123715\n",
      "[ Info: Arnoldi schursolve in iter 1, krylovdim = 10: 0 values converged, normres = (5.18e-08, 8.94e-06, 7.15e-06, 2.13e-03, 4.14e-02)\n",
      "[ Info: Arnoldi iteration step 11: normres = 0.06512621549311023\n",
      "[ Info: Arnoldi schursolve in iter 1, krylovdim = 11: 0 values converged, normres = (1.47e-09, 4.22e-07, 3.76e-07, 5.43e-04, 3.26e-02)\n",
      "[ Info: Arnoldi iteration step 12: normres = 0.08045266208832512\n",
      "[ Info: Arnoldi schursolve in iter 1, krylovdim = 12: 0 values converged, normres = (5.01e-11, 2.32e-08, 2.29e-08, 1.22e-04, 1.24e-02)\n",
      "[ Info: Arnoldi iteration step 13: normres = 0.04062816804410329\n",
      "[ Info: Arnoldi schursolve in iter 1, krylovdim = 13: 1 values converged, normres = (8.87e-13, 6.82e-10, 7.48e-10, 1.75e-05, 3.98e-03)\n",
      "[ Info: Arnoldi iteration step 14: normres = 0.6877821765028846\n",
      "[ Info: Arnoldi schursolve in iter 1, krylovdim = 14: 1 values converged, normres = (3.29e-13, 4.96e-10, 6.37e-10, 6.75e-01, 1.24e-01)\n",
      "[ Info: Arnoldi iteration step 15: normres = 0.07340338141200788\n",
      "[ Info: Arnoldi schursolve in iter 1, krylovdim = 15: 1 values converged, normres = (1.80e-14, 1.94e-10, 5.59e-02, 1.26e-03, 3.62e-06)\n",
      "[ Info: Arnoldi iteration step 16: normres = 0.4938259890798752\n",
      "[ Info: Arnoldi schursolve in iter 1, krylovdim = 16: 1 values converged, normres = (8.03e-15, 5.62e-10, 2.10e-01, 2.82e-02, 4.44e-01)\n",
      "[ Info: Arnoldi iteration step 17: normres = 0.020955517698533547\n",
      "[ Info: Arnoldi schursolve in iter 1, krylovdim = 17: 1 values converged, normres = (8.24e-17, 6.52e-03, 2.84e-04, 1.18e-05, 3.28e-03)\n",
      "[ Info: Arnoldi iteration step 18: normres = 0.025860552685708506\n",
      "[ Info: Arnoldi schursolve in iter 1, krylovdim = 18: 1 values converged, normres = (8.86e-19, 5.07e-09, 1.13e-04, 2.57e-05, 5.68e-05)\n",
      "[ Info: Arnoldi iteration step 19: normres = 0.057090250517285404\n",
      "[ Info: Arnoldi schursolve in iter 1, krylovdim = 19: 1 values converged, normres = (2.09e-20, 3.76e-06, 1.96e-06, 1.58e-08, 2.58e-06)\n",
      "[ Info: Arnoldi iteration step 20: normres = 0.13072644563624708\n",
      "[ Info: Arnoldi schursolve in iter 1, krylovdim = 20: 1 values converged, normres = (1.33e-21, 2.49e-08, 4.85e-07, 3.09e-07, 1.36e-07)\n",
      "[ Info: Arnoldi iteration step 21: normres = 0.023958628838881068\n",
      "[ Info: Arnoldi schursolve in iter 1, krylovdim = 21: 1 values converged, normres = (1.34e-23, 1.14e-09, 7.85e-09, 1.39e-09, 5.94e-09)\n",
      "[ Info: Arnoldi iteration step 22: normres = 0.04810489333236121\n",
      "[ Info: Arnoldi schursolve in iter 1, krylovdim = 22: 1 values converged, normres = (2.67e-25, 1.33e-10, 2.15e-10, 4.36e-11, 2.10e-10)\n",
      "[ Info: Arnoldi iteration step 23: normres = 0.723348508280364\n",
      "[ Info: Arnoldi schursolve in iter 1, krylovdim = 23: 1 values converged, normres = (1.08e-25, 1.09e-10, 1.78e-10, 4.31e-11, 2.06e-10)\n",
      "[ Info: Arnoldi iteration step 24: normres = 0.029170252549330505\n",
      "[ Info: Arnoldi schursolve in iter 1, krylovdim = 24: 1 values converged, normres = (2.24e-27, 2.14e-11, 1.31e-11, 4.47e-10, 2.14e-09)\n",
      "[ Info: Arnoldi iteration step 25: normres = 0.058375926203617375\n",
      "[ Info: Arnoldi schursolve in iter 1, krylovdim = 25: 3 values converged, normres = (5.36e-29, 8.28e-13, 5.09e-13, 8.17e-04, 3.71e-04)\n",
      "[ Info: Arnoldi iteration step 26: normres = 0.051282903385892635\n",
      "[ Info: Arnoldi schursolve in iter 1, krylovdim = 26: 3 values converged, normres = (1.24e-30, 2.00e-14, 3.25e-14, 8.62e-10, 4.45e-09)\n",
      "[ Info: Arnoldi iteration step 27: normres = 0.030294927443467453\n",
      "[ Info: Arnoldi schursolve in iter 1, krylovdim = 27: 3 values converged, normres = (1.55e-32, 3.97e-16, 6.46e-16, 2.07e-09, 8.81e-09)\n",
      "[ Info: Arnoldi iteration step 28: normres = 0.09293557564759604\n",
      "[ Info: Arnoldi schursolve in iter 1, krylovdim = 28: 3 values converged, normres = (6.20e-34, 2.62e-17, 4.26e-17, 1.40e-08, 5.71e-08)\n",
      "[ Info: Arnoldi iteration step 29: normres = 0.022645916147938323\n",
      "[ Info: Arnoldi schursolve in iter 1, krylovdim = 29: 3 values converged, normres = (5.95e-36, 6.65e-19, 4.09e-19, 7.40e-11, 1.11e-09)\n",
      "[ Info: Arnoldi iteration step 30: normres = 0.11797537548991123\n",
      "[ Info: Arnoldi schursolve in iter 1, krylovdim = 30: 3 values converged, normres = (3.00e-37, 3.37e-20, 5.48e-20, 7.00e-12, 1.01e-10)\n",
      "[ Info: Arnoldi schursolve in iter 2, krylovdim = 19: 3 values converged, normres = (3.00e-37, 3.37e-20, 5.48e-20, 7.00e-12, 1.01e-10)\n",
      "[ Info: Arnoldi iteration step 20: normres = 0.18606500988521216\n",
      "[ Info: Arnoldi schursolve in iter 2, krylovdim = 20: 3 values converged, normres = (2.55e-38, 4.90e-21, 7.98e-21, 1.15e-12, 1.66e-11)\n",
      "[ Info: Arnoldi iteration step 21: normres = 0.046111649318713796\n",
      "┌ Info: Arnoldi eigsolve finished after 2 iterations:\n",
      "│ *  6 eigenvalues converged\n",
      "│ *  norm of residuals = (5.394019547798714e-40, 2.840508873765164e-22, 2.840508873765164e-22, 4.705122951500625e-14, 6.810046625265888e-13, 6.197751293268209e-14)\n",
      "└ *  number of operations = 32\n"
     ]
    }
   ],
   "cell_type": "code",
   "source": [
    "eigsolve(eps_fun, randn(size(scfres.ρ)), 5, :LM; eager=true, verbosity=3);"
   ],
   "metadata": {},
   "execution_count": 3
  }
 ],
 "nbformat_minor": 3,
 "metadata": {
  "language_info": {
   "file_extension": ".jl",
   "mimetype": "application/julia",
   "name": "julia",
   "version": "1.8.4"
  },
  "kernelspec": {
   "name": "julia-1.8",
   "display_name": "Julia 1.8.4",
   "language": "julia"
  }
 },
 "nbformat": 4
}
