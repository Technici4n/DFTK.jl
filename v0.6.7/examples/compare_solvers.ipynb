{
 "cells": [
  {
   "cell_type": "markdown",
   "source": [
    "# Comparison of DFT solvers"
   ],
   "metadata": {}
  },
  {
   "cell_type": "markdown",
   "source": [
    "We compare four different approaches for solving the DFT minimisation problem,\n",
    "namely a density-based SCF, a potential-based SCF, direct minimisation and Newton."
   ],
   "metadata": {}
  },
  {
   "cell_type": "markdown",
   "source": [
    "First we setup our problem"
   ],
   "metadata": {}
  },
  {
   "outputs": [
    {
     "output_type": "execute_result",
     "data": {
      "text/plain": "1.0e-6"
     },
     "metadata": {},
     "execution_count": 1
    }
   ],
   "cell_type": "code",
   "source": [
    "using DFTK\n",
    "using LinearAlgebra\n",
    "\n",
    "a = 10.26  # Silicon lattice constant in Bohr\n",
    "lattice = a / 2 * [[0 1 1.];\n",
    "                   [1 0 1.];\n",
    "                   [1 1 0.]]\n",
    "Si = ElementPsp(:Si, psp=load_psp(\"hgh/lda/Si-q4\"))\n",
    "atoms     = [Si, Si]\n",
    "positions = [ones(3)/8, -ones(3)/8]\n",
    "\n",
    "model = model_LDA(lattice, atoms, positions)\n",
    "basis = PlaneWaveBasis(model; Ecut=5, kgrid=[3, 3, 3])\n",
    "\n",
    "# Convergence we desire in the density\n",
    "tol = 1e-6"
   ],
   "metadata": {},
   "execution_count": 1
  },
  {
   "cell_type": "markdown",
   "source": [
    "## Density-based self-consistent field"
   ],
   "metadata": {}
  },
  {
   "outputs": [
    {
     "name": "stdout",
     "output_type": "stream",
     "text": [
      "n     Energy            log10(ΔE)   log10(Δρ)   Diag   Δtime\n",
      "---   ---------------   ---------   ---------   ----   ------\n",
      "  1   -7.846866811405                   -0.70    4.5         \n",
      "  2   -7.852317024887       -2.26       -1.53    1.0   39.0ms\n",
      "  3   -7.852614257076       -3.53       -2.56    1.5   39.0ms\n",
      "  4   -7.852646040799       -4.50       -2.91    2.8   55.2ms\n",
      "  5   -7.852646537343       -6.30       -3.23    1.0   40.9ms\n",
      "  6   -7.852646680738       -6.84       -4.10    1.0   36.5ms\n",
      "  7   -7.852646686405       -8.25       -5.25    1.5   45.0ms\n",
      "  8   -7.852646686726       -9.49       -5.63    2.2   51.9ms\n",
      "  9   -7.852646686730      -11.47       -6.30    1.5   44.0ms\n"
     ]
    }
   ],
   "cell_type": "code",
   "source": [
    "scfres_scf = self_consistent_field(basis; tol);"
   ],
   "metadata": {},
   "execution_count": 2
  },
  {
   "cell_type": "markdown",
   "source": [
    "## Potential-based SCF"
   ],
   "metadata": {}
  },
  {
   "outputs": [
    {
     "name": "stdout",
     "output_type": "stream",
     "text": [
      "n     Energy            log10(ΔE)   log10(Δρ)   α      Diag   Δtime\n",
      "---   ---------------   ---------   ---------   ----   ----   ------\n",
      "  1   -7.846878973433                   -0.70           4.8         \n",
      "  2   -7.852553299114       -2.25       -1.63   0.80    2.0    348ms\n",
      "  3   -7.852638412968       -4.07       -2.74   0.80    1.0   33.1ms\n",
      "  4   -7.852646542913       -5.09       -3.32   0.80    2.0   40.2ms\n",
      "  5   -7.852646677999       -6.87       -4.23   0.80    1.2   33.9ms\n",
      "  6   -7.852646686404       -8.08       -4.84   0.80    1.5   36.6ms\n",
      "  7   -7.852646686720       -9.50       -5.83   0.80    1.8   38.6ms\n",
      "  8   -7.852646686730      -11.02       -7.01   0.80    1.8   39.2ms\n"
     ]
    }
   ],
   "cell_type": "code",
   "source": [
    "scfres_scfv = DFTK.scf_potential_mixing(basis; tol);"
   ],
   "metadata": {},
   "execution_count": 3
  },
  {
   "cell_type": "markdown",
   "source": [
    "## Direct minimization\n",
    "Note: Unlike the other algorithms, tolerance for this one is in the energy,\n",
    "thus we square the density tolerance value to be roughly equivalent."
   ],
   "metadata": {}
  },
  {
   "outputs": [
    {
     "name": "stdout",
     "output_type": "stream",
     "text": [
      "Iter     Function value   Gradient norm \n",
      "     0     1.407417e+01     3.386927e+00\n",
      " * time: 0.5814111232757568\n",
      "     1     1.488437e+00     1.853840e+00\n",
      " * time: 0.8805279731750488\n",
      "     2    -1.643812e+00     2.299497e+00\n",
      " * time: 0.918597936630249\n",
      "     3    -3.840533e+00     1.921135e+00\n",
      " * time: 0.9728090763092041\n",
      "     4    -5.086182e+00     1.807207e+00\n",
      " * time: 1.02406907081604\n",
      "     5    -6.900888e+00     9.495939e-01\n",
      " * time: 1.0782248973846436\n",
      "     6    -7.528961e+00     5.917202e-01\n",
      " * time: 1.1296720504760742\n",
      "     7    -7.721367e+00     5.287772e-01\n",
      " * time: 1.1659860610961914\n",
      "     8    -7.783771e+00     1.886031e-01\n",
      " * time: 1.2030620574951172\n",
      "     9    -7.816942e+00     1.319810e-01\n",
      " * time: 1.238821029663086\n",
      "    10    -7.835412e+00     6.330321e-02\n",
      " * time: 1.2743759155273438\n",
      "    11    -7.843874e+00     8.631418e-02\n",
      " * time: 1.3109641075134277\n",
      "    12    -7.848761e+00     3.110621e-02\n",
      " * time: 1.3506519794464111\n",
      "    13    -7.851455e+00     3.107820e-02\n",
      " * time: 1.3880589008331299\n",
      "    14    -7.852080e+00     1.429289e-02\n",
      " * time: 1.4256079196929932\n",
      "    15    -7.852408e+00     7.259017e-03\n",
      " * time: 1.4618620872497559\n",
      "    16    -7.852561e+00     6.586322e-03\n",
      " * time: 1.4978749752044678\n",
      "    17    -7.852617e+00     3.050030e-03\n",
      " * time: 1.5344300270080566\n",
      "    18    -7.852637e+00     2.086128e-03\n",
      " * time: 1.710137128829956\n",
      "    19    -7.852643e+00     8.947413e-04\n",
      " * time: 1.7594499588012695\n",
      "    20    -7.852646e+00     6.568460e-04\n",
      " * time: 1.8003520965576172\n",
      "    21    -7.852646e+00     4.110146e-04\n",
      " * time: 1.8364911079406738\n",
      "    22    -7.852647e+00     2.254907e-04\n",
      " * time: 1.8739891052246094\n",
      "    23    -7.852647e+00     1.472851e-04\n",
      " * time: 1.915144920349121\n",
      "    24    -7.852647e+00     6.115675e-05\n",
      " * time: 1.9552700519561768\n",
      "    25    -7.852647e+00     5.059871e-05\n",
      " * time: 1.9963290691375732\n",
      "    26    -7.852647e+00     2.599654e-05\n",
      " * time: 2.0332140922546387\n",
      "    27    -7.852647e+00     1.166750e-05\n",
      " * time: 2.0676159858703613\n",
      "    28    -7.852647e+00     7.059502e-06\n",
      " * time: 2.1038289070129395\n",
      "    29    -7.852647e+00     4.026697e-06\n",
      " * time: 2.1405649185180664\n",
      "    30    -7.852647e+00     1.855127e-06\n",
      " * time: 2.176927089691162\n",
      "    31    -7.852647e+00     1.144569e-06\n",
      " * time: 2.21512508392334\n",
      "    32    -7.852647e+00     1.038441e-06\n",
      " * time: 2.2500689029693604\n",
      "    33    -7.852647e+00     6.831450e-07\n",
      " * time: 2.2854390144348145\n",
      "    34    -7.852647e+00     2.473632e-07\n",
      " * time: 2.3237390518188477\n",
      "    35    -7.852647e+00     1.647318e-07\n",
      " * time: 2.3589301109313965\n",
      "    36    -7.852647e+00     1.293935e-07\n",
      " * time: 2.394782066345215\n",
      "    37    -7.852647e+00     5.546270e-08\n",
      " * time: 2.431870937347412\n",
      "    38    -7.852647e+00     2.936222e-08\n",
      " * time: 2.4667370319366455\n",
      "    39    -7.852647e+00     2.018855e-08\n",
      " * time: 2.500133991241455\n",
      "    40    -7.852647e+00     1.163769e-08\n",
      " * time: 2.541227102279663\n",
      "    41    -7.852647e+00     5.612805e-09\n",
      " * time: 2.57846999168396\n",
      "    42    -7.852647e+00     3.799150e-09\n",
      " * time: 2.6151580810546875\n",
      "    43    -7.852647e+00     3.799150e-09\n",
      " * time: 2.7876601219177246\n"
     ]
    }
   ],
   "cell_type": "code",
   "source": [
    "scfres_dm = direct_minimization(basis; tol=tol^2);"
   ],
   "metadata": {},
   "execution_count": 4
  },
  {
   "cell_type": "markdown",
   "source": [
    "## Newton algorithm"
   ],
   "metadata": {}
  },
  {
   "cell_type": "markdown",
   "source": [
    "Start not too far from the solution to ensure convergence:\n",
    "We run first a very crude SCF to get close and then switch to Newton."
   ],
   "metadata": {}
  },
  {
   "outputs": [
    {
     "name": "stdout",
     "output_type": "stream",
     "text": [
      "n     Energy            log10(ΔE)   log10(Δρ)   Diag   Δtime\n",
      "---   ---------------   ---------   ---------   ----   ------\n",
      "  1   -7.846835427879                   -0.70    4.5         \n"
     ]
    }
   ],
   "cell_type": "code",
   "source": [
    "scfres_start = self_consistent_field(basis; tol=0.5);"
   ],
   "metadata": {},
   "execution_count": 5
  },
  {
   "cell_type": "markdown",
   "source": [
    "Remove the virtual orbitals (which Newton cannot treat yet)"
   ],
   "metadata": {}
  },
  {
   "outputs": [
    {
     "name": "stdout",
     "output_type": "stream",
     "text": [
      "n     Energy            log10(ΔE)   log10(Δρ)   Δtime\n",
      "---   ---------------   ---------   ---------   ------\n",
      "  1   -7.852645883009                   -1.64         \n",
      "  2   -7.852646686730       -6.09       -3.71    3.36s\n",
      "  3   -7.852646686730      -13.26       -7.23    286ms\n"
     ]
    }
   ],
   "cell_type": "code",
   "source": [
    "ψ = DFTK.select_occupied_orbitals(basis, scfres_start.ψ, scfres_start.occupation).ψ\n",
    "scfres_newton = newton(basis, ψ; tol);"
   ],
   "metadata": {},
   "execution_count": 6
  },
  {
   "cell_type": "markdown",
   "source": [
    "## Comparison of results"
   ],
   "metadata": {}
  },
  {
   "outputs": [
    {
     "name": "stdout",
     "output_type": "stream",
     "text": [
      "|ρ_newton - ρ_scf|  = 3.64794762986768e-7\n",
      "|ρ_newton - ρ_scfv| = 7.464399839173464e-8\n",
      "|ρ_newton - ρ_dm|   = 4.789679314575421e-10\n"
     ]
    }
   ],
   "cell_type": "code",
   "source": [
    "println(\"|ρ_newton - ρ_scf|  = \", norm(scfres_newton.ρ - scfres_scf.ρ))\n",
    "println(\"|ρ_newton - ρ_scfv| = \", norm(scfres_newton.ρ - scfres_scfv.ρ))\n",
    "println(\"|ρ_newton - ρ_dm|   = \", norm(scfres_newton.ρ - scfres_dm.ρ))"
   ],
   "metadata": {},
   "execution_count": 7
  }
 ],
 "nbformat_minor": 3,
 "metadata": {
  "language_info": {
   "file_extension": ".jl",
   "mimetype": "application/julia",
   "name": "julia",
   "version": "1.8.5"
  },
  "kernelspec": {
   "name": "julia-1.8",
   "display_name": "Julia 1.8.5",
   "language": "julia"
  }
 },
 "nbformat": 4
}
