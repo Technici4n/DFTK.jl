{
 "cells": [
  {
   "cell_type": "markdown",
   "source": [
    "# Comparison of DFT solvers"
   ],
   "metadata": {}
  },
  {
   "cell_type": "markdown",
   "source": [
    "We compare four different approaches for solving the DFT minimisation problem,\n",
    "namely a density-based SCF, a potential-based SCF, direct minimisation and Newton."
   ],
   "metadata": {}
  },
  {
   "cell_type": "markdown",
   "source": [
    "First we setup our problem"
   ],
   "metadata": {}
  },
  {
   "outputs": [
    {
     "output_type": "execute_result",
     "data": {
      "text/plain": "1.0e-6"
     },
     "metadata": {},
     "execution_count": 1
    }
   ],
   "cell_type": "code",
   "source": [
    "using DFTK\n",
    "using LinearAlgebra\n",
    "\n",
    "a = 10.26  # Silicon lattice constant in Bohr\n",
    "lattice = a / 2 * [[0 1 1.];\n",
    "                   [1 0 1.];\n",
    "                   [1 1 0.]]\n",
    "Si = ElementPsp(:Si, psp=load_psp(\"hgh/lda/Si-q4\"))\n",
    "atoms     = [Si, Si]\n",
    "positions = [ones(3)/8, -ones(3)/8]\n",
    "\n",
    "model = model_LDA(lattice, atoms, positions)\n",
    "basis = PlaneWaveBasis(model; Ecut=5, kgrid=[3, 3, 3])\n",
    "\n",
    "# Convergence we desire in the density\n",
    "tol = 1e-6"
   ],
   "metadata": {},
   "execution_count": 1
  },
  {
   "cell_type": "markdown",
   "source": [
    "## Density-based self-consistent field"
   ],
   "metadata": {}
  },
  {
   "outputs": [
    {
     "name": "stdout",
     "output_type": "stream",
     "text": [
      "n     Energy            log10(ΔE)   log10(Δρ)   Diag   Δtime\n",
      "---   ---------------   ---------   ---------   ----   ------\n",
      "  1   -7.846899784222                   -0.70    4.5         \n",
      "  2   -7.852328190332       -2.27       -1.53    1.0   24.9ms\n",
      "  3   -7.852616627594       -3.54       -2.56    1.5   25.8ms\n",
      "  4   -7.852645986093       -4.53       -2.91    2.5   32.7ms\n",
      "  5   -7.852646529422       -6.26       -3.24    1.0   23.9ms\n",
      "  6   -7.852646679432       -6.82       -4.10    1.2   23.8ms\n",
      "  7   -7.852646686685       -8.14       -5.23    2.2   31.3ms\n",
      "  8   -7.852646686726      -10.38       -5.50    1.8   28.7ms\n",
      "  9   -7.852646686729      -11.59       -5.73    1.0   24.9ms\n",
      " 10   -7.852646686730      -11.99       -6.81    1.2   25.6ms\n"
     ]
    }
   ],
   "cell_type": "code",
   "source": [
    "scfres_scf = self_consistent_field(basis; tol);"
   ],
   "metadata": {},
   "execution_count": 2
  },
  {
   "cell_type": "markdown",
   "source": [
    "## Potential-based SCF"
   ],
   "metadata": {}
  },
  {
   "outputs": [
    {
     "name": "stdout",
     "output_type": "stream",
     "text": [
      "n     Energy            log10(ΔE)   log10(Δρ)   α      Diag   Δtime\n",
      "---   ---------------   ---------   ---------   ----   ----   ------\n",
      "  1   -7.846813461778                   -0.70           4.5         \n",
      "  2   -7.852525027301       -2.24       -1.64   0.80    2.2    253ms\n",
      "  3   -7.852635196621       -3.96       -2.73   0.80    1.0   22.4ms\n",
      "  4   -7.852646492743       -4.95       -3.22   0.80    2.0   28.7ms\n",
      "  5   -7.852646672299       -6.75       -4.04   0.80    1.2   22.8ms\n",
      "  6   -7.852646686285       -7.85       -4.77   0.80    1.8   26.5ms\n",
      "  7   -7.852646686723       -9.36       -5.62   0.80    1.8   27.6ms\n",
      "  8   -7.852646686730      -11.16       -6.94   0.80    2.0   26.6ms\n"
     ]
    }
   ],
   "cell_type": "code",
   "source": [
    "scfres_scfv = DFTK.scf_potential_mixing(basis; tol);"
   ],
   "metadata": {},
   "execution_count": 3
  },
  {
   "cell_type": "markdown",
   "source": [
    "## Direct minimization\n",
    "Note: Unlike the other algorithms, tolerance for this one is in the energy,\n",
    "thus we square the density tolerance value to be roughly equivalent."
   ],
   "metadata": {}
  },
  {
   "outputs": [
    {
     "name": "stdout",
     "output_type": "stream",
     "text": [
      "Iter     Function value   Gradient norm \n",
      "     0     1.417143e+01     3.125283e+00\n",
      " * time: 0.5153770446777344\n",
      "     1     1.307662e+00     1.577557e+00\n",
      " * time: 0.7091920375823975\n",
      "     2    -1.703971e+00     1.976171e+00\n",
      " * time: 0.7323319911956787\n",
      "     3    -3.766727e+00     1.575089e+00\n",
      " * time: 0.7657439708709717\n",
      "     4    -4.926103e+00     1.594999e+00\n",
      " * time: 0.7997479438781738\n",
      "     5    -6.694624e+00     1.069441e+00\n",
      " * time: 0.8323988914489746\n",
      "     6    -7.426489e+00     5.894119e-01\n",
      " * time: 0.8659858703613281\n",
      "     7    -7.666770e+00     5.252888e-01\n",
      " * time: 0.8887619972229004\n",
      "     8    -7.784746e+00     2.401675e-01\n",
      " * time: 0.9115920066833496\n",
      "     9    -7.818638e+00     7.933464e-02\n",
      " * time: 0.9342739582061768\n",
      "    10    -7.835902e+00     5.600867e-02\n",
      " * time: 0.9570648670196533\n",
      "    11    -7.842771e+00     4.909402e-02\n",
      " * time: 0.9797699451446533\n",
      "    12    -7.844470e+00     5.182474e-02\n",
      " * time: 1.002619981765747\n",
      "    13    -7.845263e+00     4.866107e-02\n",
      " * time: 1.0351579189300537\n",
      "    14    -7.845871e+00     3.418809e-02\n",
      " * time: 1.0677149295806885\n",
      "    15    -7.847608e+00     2.357262e-02\n",
      " * time: 1.0903840065002441\n",
      "    16    -7.850318e+00     1.570294e-02\n",
      " * time: 1.1129720211029053\n",
      "    17    -7.852139e+00     2.358320e-02\n",
      " * time: 1.1356010437011719\n",
      "    18    -7.852443e+00     1.556855e-02\n",
      " * time: 1.1584949493408203\n",
      "    19    -7.852583e+00     2.863313e-03\n",
      " * time: 1.1812019348144531\n",
      "    20    -7.852625e+00     2.554952e-03\n",
      " * time: 1.2038068771362305\n",
      "    21    -7.852637e+00     2.018182e-03\n",
      " * time: 1.227036952972412\n",
      "    22    -7.852644e+00     1.018148e-03\n",
      " * time: 1.2499339580535889\n",
      "    23    -7.852646e+00     1.055607e-03\n",
      " * time: 1.2728939056396484\n",
      "    24    -7.852646e+00     3.443191e-04\n",
      " * time: 1.2964658737182617\n",
      "    25    -7.852647e+00     1.314955e-04\n",
      " * time: 1.319140911102295\n",
      "    26    -7.852647e+00     1.064276e-04\n",
      " * time: 1.3419849872589111\n",
      "    27    -7.852647e+00     7.356035e-05\n",
      " * time: 1.3647239208221436\n",
      "    28    -7.852647e+00     4.779665e-05\n",
      " * time: 1.3874380588531494\n",
      "    29    -7.852647e+00     2.531200e-05\n",
      " * time: 1.410423994064331\n",
      "    30    -7.852647e+00     1.035078e-05\n",
      " * time: 1.4330039024353027\n",
      "    31    -7.852647e+00     8.861280e-06\n",
      " * time: 1.456096887588501\n",
      "    32    -7.852647e+00     2.943215e-06\n",
      " * time: 1.4790880680084229\n",
      "    33    -7.852647e+00     2.340038e-06\n",
      " * time: 1.5016329288482666\n",
      "    34    -7.852647e+00     2.209810e-06\n",
      " * time: 1.524482011795044\n",
      "    35    -7.852647e+00     7.520203e-07\n",
      " * time: 1.5474798679351807\n",
      "    36    -7.852647e+00     4.235575e-07\n",
      " * time: 1.570533037185669\n",
      "    37    -7.852647e+00     2.675437e-07\n",
      " * time: 1.5933640003204346\n",
      "    38    -7.852647e+00     9.359304e-08\n",
      " * time: 1.6161630153656006\n",
      "    39    -7.852647e+00     1.084664e-07\n",
      " * time: 1.6388189792633057\n",
      "    40    -7.852647e+00     5.354576e-08\n",
      " * time: 1.6615040302276611\n",
      "    41    -7.852647e+00     3.058273e-08\n",
      " * time: 1.6840510368347168\n",
      "    42    -7.852647e+00     3.051512e-08\n",
      " * time: 1.7473020553588867\n",
      "    43    -7.852647e+00     7.504182e-09\n",
      " * time: 1.7703609466552734\n"
     ]
    }
   ],
   "cell_type": "code",
   "source": [
    "scfres_dm = direct_minimization(basis; tol=tol^2);"
   ],
   "metadata": {},
   "execution_count": 4
  },
  {
   "cell_type": "markdown",
   "source": [
    "## Newton algorithm"
   ],
   "metadata": {}
  },
  {
   "cell_type": "markdown",
   "source": [
    "Start not too far from the solution to ensure convergence:\n",
    "We run first a very crude SCF to get close and then switch to Newton."
   ],
   "metadata": {}
  },
  {
   "outputs": [
    {
     "name": "stdout",
     "output_type": "stream",
     "text": [
      "n     Energy            log10(ΔE)   log10(Δρ)   Diag   Δtime\n",
      "---   ---------------   ---------   ---------   ----   ------\n",
      "  1   -7.846881161369                   -0.70    4.8         \n"
     ]
    }
   ],
   "cell_type": "code",
   "source": [
    "scfres_start = self_consistent_field(basis; tol=0.5);"
   ],
   "metadata": {},
   "execution_count": 5
  },
  {
   "cell_type": "markdown",
   "source": [
    "Remove the virtual orbitals (which Newton cannot treat yet)"
   ],
   "metadata": {}
  },
  {
   "outputs": [
    {
     "name": "stdout",
     "output_type": "stream",
     "text": [
      "n     Energy            log10(ΔE)   log10(Δρ)   Δtime\n",
      "---   ---------------   ---------   ---------   ------\n",
      "  1   -7.852645919204                   -1.64         \n",
      "  2   -7.852646686730       -6.11       -3.71    2.13s\n",
      "  3   -7.852646686730      -13.34       -7.25    142ms\n"
     ]
    }
   ],
   "cell_type": "code",
   "source": [
    "ψ = DFTK.select_occupied_orbitals(basis, scfres_start.ψ, scfres_start.occupation).ψ\n",
    "scfres_newton = newton(basis, ψ; tol);"
   ],
   "metadata": {},
   "execution_count": 6
  },
  {
   "cell_type": "markdown",
   "source": [
    "## Comparison of results"
   ],
   "metadata": {}
  },
  {
   "outputs": [
    {
     "name": "stdout",
     "output_type": "stream",
     "text": [
      "|ρ_newton - ρ_scf|  = 1.737193788652581e-7\n",
      "|ρ_newton - ρ_scfv| = 2.214969988342282e-7\n",
      "|ρ_newton - ρ_dm|   = 7.891172347294021e-10\n"
     ]
    }
   ],
   "cell_type": "code",
   "source": [
    "println(\"|ρ_newton - ρ_scf|  = \", norm(scfres_newton.ρ - scfres_scf.ρ))\n",
    "println(\"|ρ_newton - ρ_scfv| = \", norm(scfres_newton.ρ - scfres_scfv.ρ))\n",
    "println(\"|ρ_newton - ρ_dm|   = \", norm(scfres_newton.ρ - scfres_dm.ρ))"
   ],
   "metadata": {},
   "execution_count": 7
  }
 ],
 "nbformat_minor": 3,
 "metadata": {
  "language_info": {
   "file_extension": ".jl",
   "mimetype": "application/julia",
   "name": "julia",
   "version": "1.8.5"
  },
  "kernelspec": {
   "name": "julia-1.8",
   "display_name": "Julia 1.8.5",
   "language": "julia"
  }
 },
 "nbformat": 4
}
