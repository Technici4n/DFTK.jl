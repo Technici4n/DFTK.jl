{
 "cells": [
  {
   "cell_type": "markdown",
   "source": [
    "# Eigenvalues of the dielectric matrix\n",
    "\n",
    "We compute a few eigenvalues of the dielectric matrix ($q=0$, $ω=0$) iteratively."
   ],
   "metadata": {}
  },
  {
   "outputs": [
    {
     "name": "stdout",
     "output_type": "stream",
     "text": [
      "n     Energy            log10(ΔE)   log10(Δρ)   Diag   Δtime\n",
      "---   ---------------   ---------   ---------   ----   ------\n",
      "  1   -7.235082839245                   -0.50    8.0         \n",
      "  2   -7.250344279636       -1.82       -1.40    1.0   12.3ms\n",
      "  3   -7.251171121974       -3.08       -2.20    1.0   11.7ms\n",
      "  4   -7.251304490532       -3.87       -2.21    3.0   14.8ms\n",
      "  5   -7.251336798261       -4.49       -2.71    1.0   11.4ms\n",
      "  6   -7.251334497700   +   -5.64       -2.84    2.0   13.7ms\n",
      "  7   -7.251338450767       -5.40       -3.30    1.0   11.1ms\n",
      "  8   -7.251338787686       -6.47       -4.04    1.0   12.3ms\n",
      "  9   -7.251338798162       -7.98       -4.48    3.0   15.8ms\n",
      " 10   -7.251338798555       -9.41       -4.91    1.0   11.9ms\n",
      " 11   -7.251338798682       -9.89       -5.44    1.0   12.6ms\n",
      " 12   -7.251338798701      -10.73       -5.71    2.0   14.7ms\n",
      " 13   -7.251338798704      -11.52       -6.25    1.0   11.8ms\n",
      " 14   -7.251338798704      -12.73       -6.30    3.0   15.3ms\n",
      " 15   -7.251338798704      -12.63       -6.72    1.0   12.0ms\n",
      " 16   -7.251338798705      -13.35       -7.42    2.0   14.2ms\n",
      " 17   -7.251338798705      -14.57       -7.68    3.0   15.2ms\n",
      " 18   -7.251338798705   +  -14.75       -8.36    1.0   12.4ms\n"
     ]
    }
   ],
   "cell_type": "code",
   "source": [
    "using DFTK\n",
    "using Plots\n",
    "using KrylovKit\n",
    "using Printf\n",
    "\n",
    "# Calculation parameters\n",
    "kgrid = [1, 1, 1]\n",
    "Ecut = 5\n",
    "\n",
    "# Silicon lattice\n",
    "a = 10.26\n",
    "lattice = a / 2 .* [[0 1 1.]; [1 0 1.]; [1 1 0.]]\n",
    "Si = ElementPsp(:Si, psp=load_psp(\"hgh/lda/Si-q4\"))\n",
    "atoms     = [Si, Si]\n",
    "positions = [ones(3)/8, -ones(3)/8]\n",
    "\n",
    "# Compute the dielectric operator without symmetries\n",
    "model  = model_LDA(lattice, atoms, positions, symmetries=false)\n",
    "basis  = PlaneWaveBasis(model; Ecut, kgrid)\n",
    "scfres = self_consistent_field(basis, tol=1e-8);"
   ],
   "metadata": {},
   "execution_count": 1
  },
  {
   "cell_type": "markdown",
   "source": [
    "Applying $ε^† ≔ (1- χ_0 K)$ …"
   ],
   "metadata": {}
  },
  {
   "outputs": [],
   "cell_type": "code",
   "source": [
    "function eps_fun(δρ)\n",
    "    δV = apply_kernel(basis, δρ; ρ=scfres.ρ)\n",
    "    χ0δV = apply_χ0(scfres, δV)\n",
    "    δρ - χ0δV\n",
    "end;"
   ],
   "metadata": {},
   "execution_count": 2
  },
  {
   "cell_type": "markdown",
   "source": [
    "… eagerly diagonalizes the subspace matrix at each iteration"
   ],
   "metadata": {}
  },
  {
   "outputs": [
    {
     "name": "stdout",
     "output_type": "stream",
     "text": [
      "[ Info: Arnoldi iteration step 1: normres = 0.09334335264061824\n",
      "[ Info: Arnoldi iteration step 2: normres = 0.586382652906392\n",
      "[ Info: Arnoldi iteration step 3: normres = 0.6601643835992378\n",
      "[ Info: Arnoldi iteration step 4: normres = 0.20524597011713683\n",
      "[ Info: Arnoldi iteration step 5: normres = 0.46366753525519744\n",
      "[ Info: Arnoldi schursolve in iter 1, krylovdim = 5: 0 values converged, normres = (1.20e-02, 4.29e-02, 3.77e-01, 2.66e-01, 1.32e-02)\n",
      "[ Info: Arnoldi iteration step 6: normres = 0.3932623466593355\n",
      "[ Info: Arnoldi schursolve in iter 1, krylovdim = 6: 0 values converged, normres = (4.19e-03, 2.78e-01, 2.20e-01, 1.15e-01, 1.16e-01)\n",
      "[ Info: Arnoldi iteration step 7: normres = 0.08824451837761148\n",
      "[ Info: Arnoldi schursolve in iter 1, krylovdim = 7: 0 values converged, normres = (1.87e-04, 2.43e-02, 7.94e-03, 4.41e-02, 6.37e-02)\n",
      "[ Info: Arnoldi iteration step 8: normres = 0.09239874787271968\n",
      "[ Info: Arnoldi schursolve in iter 1, krylovdim = 8: 0 values converged, normres = (7.67e-06, 1.67e-03, 6.07e-04, 1.69e-02, 5.12e-02)\n",
      "[ Info: Arnoldi iteration step 9: normres = 0.09586678678081194\n",
      "[ Info: Arnoldi schursolve in iter 1, krylovdim = 9: 0 values converged, normres = (3.14e-07, 1.12e-04, 4.49e-05, 5.05e-03, 2.85e-02)\n",
      "[ Info: Arnoldi iteration step 10: normres = 0.06705508538730429\n",
      "[ Info: Arnoldi schursolve in iter 1, krylovdim = 10: 0 values converged, normres = (9.28e-09, 5.52e-06, 2.47e-06, 1.34e-03, 1.94e-02)\n",
      "[ Info: Arnoldi iteration step 11: normres = 0.07184505808639141\n",
      "[ Info: Arnoldi schursolve in iter 1, krylovdim = 11: 0 values converged, normres = (2.84e-10, 2.76e-07, 1.37e-07, 2.88e-04, 8.35e-03)\n",
      "[ Info: Arnoldi iteration step 12: normres = 0.08738903611935492\n",
      "[ Info: Arnoldi schursolve in iter 1, krylovdim = 12: 0 values converged, normres = (1.07e-11, 1.71e-08, 9.42e-09, 8.19e-05, 4.98e-03)\n",
      "[ Info: Arnoldi iteration step 13: normres = 0.16037382820739085\n",
      "[ Info: Arnoldi schursolve in iter 1, krylovdim = 13: 1 values converged, normres = (7.30e-13, 1.90e-09, 1.16e-09, 3.84e-05, 4.57e-03)\n",
      "[ Info: Arnoldi iteration step 14: normres = 0.23192964123849522\n",
      "[ Info: Arnoldi schursolve in iter 1, krylovdim = 14: 1 values converged, normres = (1.56e-13, 2.53e-09, 8.23e-09, 2.30e-01, 1.12e-03)\n",
      "[ Info: Arnoldi iteration step 15: normres = 0.023350780487723575\n",
      "[ Info: Arnoldi schursolve in iter 1, krylovdim = 15: 1 values converged, normres = (1.54e-15, 4.76e-11, 1.66e-03, 3.54e-03, 6.89e-07)\n",
      "[ Info: Arnoldi iteration step 16: normres = 0.7531048442132858\n",
      "[ Info: Arnoldi schursolve in iter 1, krylovdim = 16: 1 values converged, normres = (6.59e-16, 4.20e-11, 1.56e-03, 3.81e-03, 7.50e-01)\n",
      "[ Info: Arnoldi iteration step 17: normres = 0.04710450351214542\n",
      "[ Info: Arnoldi schursolve in iter 1, krylovdim = 17: 1 values converged, normres = (2.49e-17, 1.09e-09, 3.54e-02, 1.41e-04, 8.63e-04)\n",
      "[ Info: Arnoldi iteration step 18: normres = 0.023167251000905185\n",
      "[ Info: Arnoldi schursolve in iter 1, krylovdim = 18: 1 values converged, normres = (2.39e-19, 7.63e-05, 5.37e-04, 5.03e-07, 1.22e-05)\n",
      "[ Info: Arnoldi iteration step 19: normres = 0.0336454665946501\n",
      "[ Info: Arnoldi schursolve in iter 1, krylovdim = 19: 1 values converged, normres = (3.29e-21, 9.00e-09, 1.19e-05, 8.01e-08, 2.83e-07)\n",
      "[ Info: Arnoldi iteration step 20: normres = 0.19852342940480994\n",
      "[ Info: Arnoldi schursolve in iter 1, krylovdim = 20: 1 values converged, normres = (3.11e-22, 1.94e-06, 4.26e-07, 2.06e-08, 5.15e-08)\n",
      "[ Info: Arnoldi iteration step 21: normres = 0.01815697331374955\n",
      "[ Info: Arnoldi schursolve in iter 1, krylovdim = 21: 1 values converged, normres = (2.43e-24, 6.26e-09, 2.49e-08, 4.92e-10, 6.31e-10)\n",
      "[ Info: Arnoldi iteration step 22: normres = 0.3413055526358749\n",
      "[ Info: Arnoldi schursolve in iter 1, krylovdim = 22: 1 values converged, normres = (3.58e-25, 3.69e-10, 6.18e-09, 1.33e-10, 1.68e-10)\n",
      "[ Info: Arnoldi iteration step 23: normres = 0.1091820637076377\n",
      "[ Info: Arnoldi schursolve in iter 1, krylovdim = 23: 1 values converged, normres = (3.89e-26, 2.81e-10, 4.20e-09, 1.37e-09, 1.84e-09)\n",
      "[ Info: Arnoldi iteration step 24: normres = 0.027846038869490736\n",
      "[ Info: Arnoldi schursolve in iter 1, krylovdim = 24: 1 values converged, normres = (4.14e-28, 5.27e-12, 8.39e-11, 1.30e-03, 1.00e-03)\n",
      "[ Info: Arnoldi iteration step 25: normres = 0.06494574854359343\n",
      "[ Info: Arnoldi schursolve in iter 1, krylovdim = 25: 2 values converged, normres = (1.12e-29, 2.27e-13, 3.62e-12, 3.05e-09, 4.36e-09)\n",
      "[ Info: Arnoldi iteration step 26: normres = 0.05750776557105288\n",
      "[ Info: Arnoldi schursolve in iter 1, krylovdim = 26: 3 values converged, normres = (2.88e-31, 9.92e-15, 1.58e-13, 2.53e-06, 1.90e-06)\n",
      "[ Info: Arnoldi iteration step 27: normres = 0.0330335580608209\n",
      "[ Info: Arnoldi schursolve in iter 1, krylovdim = 27: 3 values converged, normres = (3.94e-33, 2.17e-16, 3.45e-15, 8.37e-09, 3.73e-08)\n",
      "[ Info: Arnoldi iteration step 28: normres = 0.09138355454107991\n",
      "[ Info: Arnoldi schursolve in iter 1, krylovdim = 28: 3 values converged, normres = (1.57e-34, 1.43e-17, 2.28e-16, 4.27e-10, 2.42e-09)\n",
      "[ Info: Arnoldi iteration step 29: normres = 0.015354863546230984\n",
      "[ Info: Arnoldi schursolve in iter 1, krylovdim = 29: 3 values converged, normres = (1.01e-36, 1.48e-19, 2.36e-18, 5.55e-12, 6.29e-11)\n",
      "[ Info: Arnoldi iteration step 30: normres = 0.20495425000099216\n",
      "[ Info: Arnoldi schursolve in iter 1, krylovdim = 30: 4 values converged, normres = (8.98e-38, 2.18e-20, 3.47e-19, 9.08e-13, 1.04e-11)\n",
      "[ Info: Arnoldi schursolve in iter 2, krylovdim = 19: 4 values converged, normres = (8.98e-38, 2.18e-20, 3.47e-19, 9.08e-13, 1.04e-11)\n",
      "[ Info: Arnoldi iteration step 20: normres = 0.051905059995324916\n",
      "┌ Info: Arnoldi eigsolve finished after 2 iterations:\n",
      "│ *  6 eigenvalues converged\n",
      "│ *  norm of residuals = (2.219069402221444e-39, 9.440718318890267e-22, 1.4651475131249932e-20, 4.470943633679862e-14, 5.102217926283095e-13, 6.918968458692414e-13)\n",
      "└ *  number of operations = 31\n"
     ]
    }
   ],
   "cell_type": "code",
   "source": [
    "eigsolve(eps_fun, randn(size(scfres.ρ)), 5, :LM; eager=true, verbosity=3);"
   ],
   "metadata": {},
   "execution_count": 3
  }
 ],
 "nbformat_minor": 3,
 "metadata": {
  "language_info": {
   "file_extension": ".jl",
   "mimetype": "application/julia",
   "name": "julia",
   "version": "1.8.5"
  },
  "kernelspec": {
   "name": "julia-1.8",
   "display_name": "Julia 1.8.5",
   "language": "julia"
  }
 },
 "nbformat": 4
}
