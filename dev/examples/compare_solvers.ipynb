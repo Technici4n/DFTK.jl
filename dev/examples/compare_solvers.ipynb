{
 "cells": [
  {
   "cell_type": "markdown",
   "source": [
    "# Comparison of DFT solvers"
   ],
   "metadata": {}
  },
  {
   "cell_type": "markdown",
   "source": [
    "We compare four different approaches for solving the DFT minimisation problem,\n",
    "namely a density-based SCF, a potential-based SCF, direct minimisation and Newton."
   ],
   "metadata": {}
  },
  {
   "cell_type": "markdown",
   "source": [
    "First we setup our problem"
   ],
   "metadata": {}
  },
  {
   "outputs": [
    {
     "output_type": "execute_result",
     "data": {
      "text/plain": "1.0e-6"
     },
     "metadata": {},
     "execution_count": 1
    }
   ],
   "cell_type": "code",
   "source": [
    "using DFTK\n",
    "using LinearAlgebra\n",
    "\n",
    "a = 10.26  # Silicon lattice constant in Bohr\n",
    "lattice = a / 2 * [[0 1 1.];\n",
    "                   [1 0 1.];\n",
    "                   [1 1 0.]]\n",
    "Si = ElementPsp(:Si, psp=load_psp(\"hgh/lda/Si-q4\"))\n",
    "atoms     = [Si, Si]\n",
    "positions = [ones(3)/8, -ones(3)/8]\n",
    "\n",
    "model = model_LDA(lattice, atoms, positions)\n",
    "basis = PlaneWaveBasis(model; Ecut=5, kgrid=[3, 3, 3])\n",
    "\n",
    "# Convergence we desire in the density\n",
    "tol = 1e-6"
   ],
   "metadata": {},
   "execution_count": 1
  },
  {
   "cell_type": "markdown",
   "source": [
    "## Density-based self-consistent field"
   ],
   "metadata": {}
  },
  {
   "outputs": [
    {
     "name": "stdout",
     "output_type": "stream",
     "text": [
      "n     Energy            log10(ΔE)   log10(Δρ)   Diag   Δtime\n",
      "---   ---------------   ---------   ---------   ----   ------\n",
      "  1   -7.846869917890                   -0.70    4.8         \n",
      "  2   -7.852321474356       -2.26       -1.53    1.0   34.4ms\n",
      "  3   -7.852613569312       -3.53       -2.55    1.2   34.9ms\n",
      "  4   -7.852645814468       -4.49       -2.87    2.8   49.3ms\n",
      "  5   -7.852646472133       -6.18       -3.17    1.0   33.6ms\n",
      "  6   -7.852646678053       -6.69       -4.12    1.0   37.6ms\n",
      "  7   -7.852646686650       -8.07       -4.87    2.0   44.2ms\n",
      "  8   -7.852646686719      -10.16       -5.31    1.0   35.7ms\n",
      "  9   -7.852646686729      -11.00       -5.76    1.2   39.1ms\n",
      " 10   -7.852646686730      -11.94       -6.63    1.2   38.3ms\n"
     ]
    }
   ],
   "cell_type": "code",
   "source": [
    "scfres_scf = self_consistent_field(basis; tol);"
   ],
   "metadata": {},
   "execution_count": 2
  },
  {
   "cell_type": "markdown",
   "source": [
    "## Potential-based SCF"
   ],
   "metadata": {}
  },
  {
   "outputs": [
    {
     "name": "stdout",
     "output_type": "stream",
     "text": [
      "n     Energy            log10(ΔE)   log10(Δρ)   α      Diag   Δtime\n",
      "---   ---------------   ---------   ---------   ----   ----   ------\n",
      "  1   -7.846891484514                   -0.70           4.5         \n",
      "  2   -7.852527801647       -2.25       -1.64   0.80    2.0    308ms\n",
      "  3   -7.852636537182       -3.96       -2.72   0.80    1.0   33.7ms\n",
      "  4   -7.852646446346       -5.00       -3.26   0.80    2.0   41.2ms\n",
      "  5   -7.852646676300       -6.64       -4.07   0.80    1.2   35.1ms\n",
      "  6   -7.852646686380       -8.00       -4.70   0.80    1.5   39.4ms\n",
      "  7   -7.852646686712       -9.48       -5.55   0.80    1.8   37.2ms\n",
      "  8   -7.852646686730      -10.77       -6.57   0.80    2.0   39.8ms\n"
     ]
    }
   ],
   "cell_type": "code",
   "source": [
    "scfres_scfv = DFTK.scf_potential_mixing(basis; tol);"
   ],
   "metadata": {},
   "execution_count": 3
  },
  {
   "cell_type": "markdown",
   "source": [
    "## Direct minimization\n",
    "Note: Unlike the other algorithms, tolerance for this one is in the energy,\n",
    "thus we square the density tolerance value to be roughly equivalent."
   ],
   "metadata": {}
  },
  {
   "outputs": [
    {
     "name": "stdout",
     "output_type": "stream",
     "text": [
      "Iter     Function value   Gradient norm \n",
      "     0     1.388460e+01     4.010556e+00\n",
      " * time: 0.6903820037841797\n",
      "     1     1.528494e+00     2.323914e+00\n",
      " * time: 0.9513559341430664\n",
      "     2    -1.736442e+00     2.784935e+00\n",
      " * time: 0.9864509105682373\n",
      "     3    -3.506905e+00     2.507857e+00\n",
      " * time: 1.0381369590759277\n",
      "     4    -4.953867e+00     2.178403e+00\n",
      " * time: 1.086068868637085\n",
      "     5    -6.521922e+00     1.315732e+00\n",
      " * time: 1.1375188827514648\n",
      "     6    -7.307407e+00     4.344201e-01\n",
      " * time: 1.184251070022583\n",
      "     7    -7.607939e+00     1.620868e-01\n",
      " * time: 1.2214488983154297\n",
      "     8    -7.731953e+00     1.704794e-01\n",
      " * time: 1.2560088634490967\n",
      "     9    -7.795440e+00     8.059278e-02\n",
      " * time: 1.2897629737854004\n",
      "    10    -7.827055e+00     5.858020e-02\n",
      " * time: 1.3247220516204834\n",
      "    11    -7.843600e+00     3.395274e-02\n",
      " * time: 1.3585259914398193\n",
      "    12    -7.849273e+00     2.160845e-02\n",
      " * time: 1.394057035446167\n",
      "    13    -7.851438e+00     1.302167e-02\n",
      " * time: 1.429271936416626\n",
      "    14    -7.852168e+00     7.106560e-03\n",
      " * time: 1.466609001159668\n",
      "    15    -7.852468e+00     5.562016e-03\n",
      " * time: 1.5010559558868408\n",
      "    16    -7.852592e+00     3.167496e-03\n",
      " * time: 1.5364000797271729\n",
      "    17    -7.852633e+00     1.635475e-03\n",
      " * time: 1.5722510814666748\n",
      "    18    -7.852643e+00     6.576814e-04\n",
      " * time: 1.6074299812316895\n",
      "    19    -7.852645e+00     4.125463e-04\n",
      " * time: 1.6424648761749268\n",
      "    20    -7.852646e+00     2.641170e-04\n",
      " * time: 1.6768169403076172\n",
      "    21    -7.852647e+00     1.810857e-04\n",
      " * time: 1.71024489402771\n",
      "    22    -7.852647e+00     8.714722e-05\n",
      " * time: 1.7435500621795654\n",
      "    23    -7.852647e+00     4.307455e-05\n",
      " * time: 1.7768669128417969\n",
      "    24    -7.852647e+00     2.564343e-05\n",
      " * time: 1.8125689029693604\n",
      "    25    -7.852647e+00     1.176336e-05\n",
      " * time: 1.8481109142303467\n",
      "    26    -7.852647e+00     7.657628e-06\n",
      " * time: 1.8819339275360107\n",
      "    27    -7.852647e+00     3.846005e-06\n",
      " * time: 1.9154789447784424\n",
      "    28    -7.852647e+00     2.344044e-06\n",
      " * time: 1.950098991394043\n",
      "    29    -7.852647e+00     1.189025e-06\n",
      " * time: 1.9866349697113037\n",
      "    30    -7.852647e+00     7.861331e-07\n",
      " * time: 2.02190899848938\n",
      "    31    -7.852647e+00     4.662981e-07\n",
      " * time: 2.0555100440979004\n",
      "    32    -7.852647e+00     2.679121e-07\n",
      " * time: 2.089402914047241\n",
      "    33    -7.852647e+00     1.461004e-07\n",
      " * time: 2.122298002243042\n",
      "    34    -7.852647e+00     8.624959e-08\n",
      " * time: 2.1561739444732666\n",
      "    35    -7.852647e+00     5.241756e-08\n",
      " * time: 2.1969408988952637\n",
      "    36    -7.852647e+00     2.581574e-08\n",
      " * time: 2.2311739921569824\n",
      "    37    -7.852647e+00     1.617409e-08\n",
      " * time: 2.2633440494537354\n",
      "    38    -7.852647e+00     9.398549e-09\n",
      " * time: 2.298038959503174\n",
      "    39    -7.852647e+00     6.398563e-09\n",
      " * time: 2.3318018913269043\n",
      "    40    -7.852647e+00     2.981875e-09\n",
      " * time: 2.3673009872436523\n",
      "    41    -7.852647e+00     2.981875e-09\n",
      " * time: 2.5359249114990234\n"
     ]
    }
   ],
   "cell_type": "code",
   "source": [
    "scfres_dm = direct_minimization(basis; tol=tol^2);"
   ],
   "metadata": {},
   "execution_count": 4
  },
  {
   "cell_type": "markdown",
   "source": [
    "## Newton algorithm"
   ],
   "metadata": {}
  },
  {
   "cell_type": "markdown",
   "source": [
    "Start not too far from the solution to ensure convergence:\n",
    "We run first a very crude SCF to get close and then switch to Newton."
   ],
   "metadata": {}
  },
  {
   "outputs": [
    {
     "name": "stdout",
     "output_type": "stream",
     "text": [
      "n     Energy            log10(ΔE)   log10(Δρ)   Diag   Δtime\n",
      "---   ---------------   ---------   ---------   ----   ------\n",
      "  1   -7.846896437175                   -0.70    4.8         \n"
     ]
    }
   ],
   "cell_type": "code",
   "source": [
    "scfres_start = self_consistent_field(basis; tol=0.5);"
   ],
   "metadata": {},
   "execution_count": 5
  },
  {
   "cell_type": "markdown",
   "source": [
    "Remove the virtual orbitals (which Newton cannot treat yet)"
   ],
   "metadata": {}
  },
  {
   "outputs": [
    {
     "name": "stdout",
     "output_type": "stream",
     "text": [
      "n     Energy            log10(ΔE)   log10(Δρ)   Δtime\n",
      "---   ---------------   ---------   ---------   ------\n",
      "  1   -7.852645906132                   -1.64         \n",
      "  2   -7.852646686730       -6.11       -3.71    2.27s\n",
      "  3   -7.852646686730      -13.31       -7.25    312ms\n"
     ]
    }
   ],
   "cell_type": "code",
   "source": [
    "ψ = DFTK.select_occupied_orbitals(basis, scfres_start.ψ, scfres_start.occupation).ψ\n",
    "scfres_newton = newton(basis, ψ; tol);"
   ],
   "metadata": {},
   "execution_count": 6
  },
  {
   "cell_type": "markdown",
   "source": [
    "## Comparison of results"
   ],
   "metadata": {}
  },
  {
   "outputs": [
    {
     "name": "stdout",
     "output_type": "stream",
     "text": [
      "|ρ_newton - ρ_scf|  = 2.7380869422792213e-7\n",
      "|ρ_newton - ρ_scfv| = 2.5318272370947233e-7\n",
      "|ρ_newton - ρ_dm|   = 7.542186196452146e-10\n"
     ]
    }
   ],
   "cell_type": "code",
   "source": [
    "println(\"|ρ_newton - ρ_scf|  = \", norm(scfres_newton.ρ - scfres_scf.ρ))\n",
    "println(\"|ρ_newton - ρ_scfv| = \", norm(scfres_newton.ρ - scfres_scfv.ρ))\n",
    "println(\"|ρ_newton - ρ_dm|   = \", norm(scfres_newton.ρ - scfres_dm.ρ))"
   ],
   "metadata": {},
   "execution_count": 7
  }
 ],
 "nbformat_minor": 3,
 "metadata": {
  "language_info": {
   "file_extension": ".jl",
   "mimetype": "application/julia",
   "name": "julia",
   "version": "1.8.5"
  },
  "kernelspec": {
   "name": "julia-1.8",
   "display_name": "Julia 1.8.5",
   "language": "julia"
  }
 },
 "nbformat": 4
}
