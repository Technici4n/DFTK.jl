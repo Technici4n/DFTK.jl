{
 "cells": [
  {
   "cell_type": "markdown",
   "source": [
    "# Eigenvalues of the dielectric matrix\n",
    "\n",
    "We compute a few eigenvalues of the dielectric matrix ($q=0$, $ω=0$) iteratively."
   ],
   "metadata": {}
  },
  {
   "outputs": [
    {
     "name": "stdout",
     "output_type": "stream",
     "text": [
      "n     Energy            log10(ΔE)   log10(Δρ)   Diag\n",
      "---   ---------------   ---------   ---------   ----\n",
      "  1   -7.235166610389                   -0.50    8.0\n",
      "  2   -7.250393036894       -1.82       -1.40    1.0\n",
      "  3   -7.251274500886       -3.05       -2.08    4.0\n",
      "  4   -7.251129355910   +   -3.84       -2.00    3.0\n",
      "  5   -7.251333263869       -3.69       -2.77    2.0\n",
      "  6   -7.251338189469       -5.31       -3.17    2.0\n",
      "  7   -7.251338777787       -6.23       -3.98    1.0\n",
      "  8   -7.251338793604       -7.80       -4.21    4.0\n",
      "  9   -7.251338798449       -8.31       -4.87    2.0\n",
      " 10   -7.251338798686       -9.62       -5.44    3.0\n",
      " 11   -7.251338798703      -10.78       -5.93    3.0\n",
      " 12   -7.251338798704      -11.82       -6.38    3.0\n",
      " 13   -7.251338798705      -12.74       -7.31    2.0\n",
      " 14   -7.251338798705   +  -14.57       -7.70    3.0\n"
     ]
    }
   ],
   "cell_type": "code",
   "source": [
    "using DFTK\n",
    "using Plots\n",
    "using KrylovKit\n",
    "using Printf\n",
    "\n",
    "# Calculation parameters\n",
    "kgrid = [1, 1, 1]\n",
    "Ecut = 5\n",
    "\n",
    "# Silicon lattice\n",
    "a = 10.26\n",
    "lattice = a / 2 .* [[0 1 1.]; [1 0 1.]; [1 1 0.]]\n",
    "Si = ElementPsp(:Si, psp=load_psp(\"hgh/lda/Si-q4\"))\n",
    "atoms     = [Si, Si]\n",
    "positions = [ones(3)/8, -ones(3)/8]\n",
    "\n",
    "# Compute the dielectric operator without symmetries\n",
    "model = model_LDA(lattice, atoms, positions, symmetries=false)\n",
    "basis = PlaneWaveBasis(model; Ecut, kgrid)\n",
    "scfres = self_consistent_field(basis, tol=1e-14);"
   ],
   "metadata": {},
   "execution_count": 1
  },
  {
   "cell_type": "markdown",
   "source": [
    "Applying $ε^† ≔ (1- χ_0 K)$ …"
   ],
   "metadata": {}
  },
  {
   "outputs": [],
   "cell_type": "code",
   "source": [
    "function eps_fun(δρ)\n",
    "    δV = apply_kernel(basis, δρ; ρ=scfres.ρ)\n",
    "    χ0δV = apply_χ0(scfres, δV)\n",
    "    δρ - χ0δV\n",
    "end;"
   ],
   "metadata": {},
   "execution_count": 2
  },
  {
   "cell_type": "markdown",
   "source": [
    "… eagerly diagonalizes the subspace matrix at each iteration"
   ],
   "metadata": {}
  },
  {
   "outputs": [
    {
     "name": "stdout",
     "output_type": "stream",
     "text": [
      "[ Info: Arnoldi iteration step 1: normres = 0.0683021318589466\n",
      "[ Info: Arnoldi iteration step 2: normres = 0.5601654809290398\n",
      "[ Info: Arnoldi iteration step 3: normres = 0.8260683837239154\n",
      "[ Info: Arnoldi iteration step 4: normres = 0.27471260957331767\n",
      "[ Info: Arnoldi iteration step 5: normres = 0.5406365348106889\n",
      "[ Info: Arnoldi schursolve in iter 1, krylovdim = 5: 0 values converged, normres = (3.06e-02, 7.71e-02, 4.52e-01, 2.85e-01, 1.68e-02)\n",
      "[ Info: Arnoldi iteration step 6: normres = 0.2767706025903507\n",
      "[ Info: Arnoldi schursolve in iter 1, krylovdim = 6: 0 values converged, normres = (7.33e-03, 1.70e-01, 1.68e-01, 1.01e-01, 6.50e-02)\n",
      "[ Info: Arnoldi iteration step 7: normres = 0.059304641607390574\n",
      "[ Info: Arnoldi schursolve in iter 1, krylovdim = 7: 0 values converged, normres = (2.06e-04, 9.12e-03, 7.13e-03, 2.51e-02, 4.76e-02)\n",
      "[ Info: Arnoldi iteration step 8: normres = 0.10273273881326414\n",
      "[ Info: Arnoldi schursolve in iter 1, krylovdim = 8: 0 values converged, normres = (9.09e-06, 6.59e-04, 5.71e-04, 7.97e-03, 3.49e-02)\n",
      "[ Info: Arnoldi iteration step 9: normres = 0.07897366037631141\n",
      "[ Info: Arnoldi schursolve in iter 1, krylovdim = 9: 0 values converged, normres = (3.13e-07, 3.75e-05, 3.62e-05, 2.28e-03, 3.75e-02)\n",
      "[ Info: Arnoldi iteration step 10: normres = 0.09936325755689304\n",
      "[ Info: Arnoldi schursolve in iter 1, krylovdim = 10: 0 values converged, normres = (1.35e-08, 2.69e-06, 2.89e-06, 8.00e-04, 3.67e-02)\n",
      "[ Info: Arnoldi iteration step 11: normres = 0.08185511327282526\n",
      "[ Info: Arnoldi schursolve in iter 1, krylovdim = 11: 0 values converged, normres = (4.85e-10, 1.60e-07, 1.91e-07, 2.54e-04, 3.50e-02)\n",
      "[ Info: Arnoldi iteration step 12: normres = 0.08645664177843272\n",
      "[ Info: Arnoldi schursolve in iter 1, krylovdim = 12: 0 values converged, normres = (1.80e-11, 9.70e-09, 1.28e-08, 6.96e-05, 1.87e-02)\n",
      "[ Info: Arnoldi iteration step 13: normres = 0.07569307473327126\n",
      "[ Info: Arnoldi schursolve in iter 1, krylovdim = 13: 1 values converged, normres = (5.79e-13, 5.10e-10, 7.47e-10, 1.55e-05, 7.81e-03)\n",
      "[ Info: Arnoldi iteration step 14: normres = 0.531430420601406\n",
      "[ Info: Arnoldi schursolve in iter 1, krylovdim = 14: 1 values converged, normres = (2.62e-13, 1.02e-09, 3.14e-09, 5.30e-01, 6.82e-03)\n",
      "[ Info: Arnoldi iteration step 15: normres = 0.14063476305373654\n",
      "[ Info: Arnoldi schursolve in iter 1, krylovdim = 15: 1 values converged, normres = (1.91e-14, 9.84e-10, 5.50e-02, 2.52e-04, 1.10e-06)\n",
      "[ Info: Arnoldi iteration step 16: normres = 0.2560067869428853\n",
      "[ Info: Arnoldi schursolve in iter 1, krylovdim = 16: 1 values converged, normres = (4.58e-15, 6.38e-09, 8.50e-02, 1.37e-03, 2.39e-01)\n",
      "[ Info: Arnoldi iteration step 17: normres = 0.029144230219192626\n",
      "[ Info: Arnoldi schursolve in iter 1, krylovdim = 17: 1 values converged, normres = (5.81e-17, 1.54e-08, 2.15e-03, 2.39e-07, 5.00e-03)\n",
      "[ Info: Arnoldi iteration step 18: normres = 0.02938300658069444\n",
      "[ Info: Arnoldi schursolve in iter 1, krylovdim = 18: 1 values converged, normres = (7.05e-19, 1.63e-05, 3.85e-05, 9.70e-05, 4.48e-05)\n",
      "[ Info: Arnoldi iteration step 19: normres = 0.2125174792815384\n",
      "[ Info: Arnoldi schursolve in iter 1, krylovdim = 19: 1 values converged, normres = (6.91e-20, 6.28e-08, 7.04e-06, 5.34e-09, 2.02e-05)\n",
      "[ Info: Arnoldi iteration step 20: normres = 0.04260831022938935\n",
      "[ Info: Arnoldi schursolve in iter 1, krylovdim = 20: 1 values converged, normres = (1.32e-21, 3.47e-08, 2.27e-07, 7.40e-07, 3.78e-08)\n",
      "[ Info: Arnoldi iteration step 21: normres = 0.019736745757832786\n",
      "[ Info: Arnoldi schursolve in iter 1, krylovdim = 21: 1 values converged, normres = (1.08e-23, 3.02e-09, 1.14e-10, 2.62e-09, 1.04e-08)\n",
      "[ Info: Arnoldi iteration step 22: normres = 0.017469059476861303\n",
      "[ Info: Arnoldi schursolve in iter 1, krylovdim = 22: 1 values converged, normres = (7.77e-26, 3.45e-11, 1.28e-12, 1.12e-10, 7.64e-11)\n",
      "[ Info: Arnoldi iteration step 23: normres = 0.6500714332983453\n",
      "[ Info: Arnoldi schursolve in iter 1, krylovdim = 23: 1 values converged, normres = (2.51e-26, 2.03e-11, 8.76e-13, 5.07e-11, 7.59e-11)\n",
      "[ Info: Arnoldi iteration step 24: normres = 0.029644643577330092\n",
      "[ Info: Arnoldi schursolve in iter 1, krylovdim = 24: 1 values converged, normres = (5.87e-28, 3.09e-12, 1.28e-13, 2.32e-10, 8.22e-09)\n",
      "[ Info: Arnoldi iteration step 25: normres = 0.12887921478451203\n",
      "[ Info: Arnoldi schursolve in iter 1, krylovdim = 25: 3 values converged, normres = (3.23e-29, 2.79e-13, 1.16e-14, 3.44e-09, 2.75e-09)\n",
      "[ Info: Arnoldi iteration step 26: normres = 0.017088383721359342\n",
      "[ Info: Arnoldi schursolve in iter 1, krylovdim = 26: 3 values converged, normres = (2.41e-31, 3.46e-15, 1.44e-16, 3.20e-05, 9.69e-06)\n",
      "[ Info: Arnoldi iteration step 27: normres = 0.026361566005486725\n",
      "[ Info: Arnoldi schursolve in iter 1, krylovdim = 27: 3 values converged, normres = (2.61e-33, 5.98e-17, 2.49e-18, 4.60e-07, 6.05e-08)\n",
      "[ Info: Arnoldi iteration step 28: normres = 0.10936783353187929\n",
      "[ Info: Arnoldi schursolve in iter 1, krylovdim = 28: 3 values converged, normres = (1.22e-34, 4.55e-18, 1.90e-19, 7.05e-09, 3.71e-09)\n",
      "[ Info: Arnoldi iteration step 29: normres = 0.08485603092136018\n",
      "[ Info: Arnoldi schursolve in iter 1, krylovdim = 29: 3 values converged, normres = (4.46e-36, 2.74e-19, 1.14e-20, 3.28e-09, 1.41e-09)\n",
      "[ Info: Arnoldi iteration step 30: normres = 0.10105338574531925\n",
      "[ Info: Arnoldi schursolve in iter 1, krylovdim = 30: 3 values converged, normres = (2.21e-37, 2.44e-20, 1.01e-21, 3.37e-10, 1.19e-10)\n",
      "[ Info: Arnoldi schursolve in iter 2, krylovdim = 19: 3 values converged, normres = (2.21e-37, 2.44e-20, 1.01e-21, 3.37e-10, 1.19e-10)\n",
      "[ Info: Arnoldi iteration step 20: normres = 0.053225487268272885\n",
      "[ Info: Arnoldi schursolve in iter 2, krylovdim = 20: 3 values converged, normres = (4.90e-39, 8.73e-22, 3.63e-23, 1.36e-11, 4.35e-12)\n",
      "[ Info: Arnoldi iteration step 21: normres = 0.06773852502166788\n",
      "┌ Info: Arnoldi eigsolve finished after 2 iterations:\n",
      "│ *  6 eigenvalues converged\n",
      "│ *  norm of residuals = (1.4201137216445796e-40, 4.1293490897528566e-23, 3.9329186835529823e-23, 7.113253475659735e-13, 6.52502688992388e-14, 6.52502688992388e-14)\n",
      "└ *  number of operations = 32\n"
     ]
    }
   ],
   "cell_type": "code",
   "source": [
    "eigsolve(eps_fun, randn(size(scfres.ρ)), 5, :LM; eager=true, verbosity=3);"
   ],
   "metadata": {},
   "execution_count": 3
  }
 ],
 "nbformat_minor": 3,
 "metadata": {
  "language_info": {
   "file_extension": ".jl",
   "mimetype": "application/julia",
   "name": "julia",
   "version": "1.8.2"
  },
  "kernelspec": {
   "name": "julia-1.8",
   "display_name": "Julia 1.8.2",
   "language": "julia"
  }
 },
 "nbformat": 4
}
