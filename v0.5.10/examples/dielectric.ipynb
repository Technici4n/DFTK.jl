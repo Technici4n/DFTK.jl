{
 "cells": [
  {
   "cell_type": "markdown",
   "source": [
    "# Eigenvalues of the dielectric matrix\n",
    "\n",
    "We compute a few eigenvalues of the dielectric matrix ($q=0$, $ω=0$) iteratively."
   ],
   "metadata": {}
  },
  {
   "outputs": [
    {
     "name": "stdout",
     "output_type": "stream",
     "text": [
      "n     Energy            log10(ΔE)   log10(Δρ)   Diag\n",
      "---   ---------------   ---------   ---------   ----\n",
      "  1   -7.234747220702                   -0.50    7.0\n",
      "  2   -7.250372712776       -1.81       -1.40    1.0\n",
      "  3   -7.251304931034       -3.03       -2.12    4.0\n",
      "  4   -7.251294106361   +   -4.97       -2.24    4.0\n",
      "  5   -7.251335246456       -4.39       -2.87    3.0\n",
      "  6   -7.251336799091       -5.81       -3.01    2.0\n",
      "  7   -7.251338779828       -5.70       -4.06    1.0\n",
      "  8   -7.251338794453       -7.83       -4.27    4.0\n",
      "  9   -7.251338798586       -8.38       -5.02    3.0\n",
      " 10   -7.251338798687      -10.00       -5.47    2.0\n",
      " 11   -7.251338798703      -10.80       -6.00    3.0\n",
      " 12   -7.251338798704      -11.96       -6.32    2.0\n",
      " 13   -7.251338798705      -12.68       -6.82    2.0\n",
      " 14   -7.251338798705      -13.64       -7.14    3.0\n",
      " 15   -7.251338798705      -14.15       -7.55    2.0\n"
     ]
    }
   ],
   "cell_type": "code",
   "source": [
    "using DFTK\n",
    "using Plots\n",
    "using KrylovKit\n",
    "using Printf\n",
    "\n",
    "# Calculation parameters\n",
    "kgrid = [1, 1, 1]\n",
    "Ecut = 5\n",
    "\n",
    "# Silicon lattice\n",
    "a = 10.26\n",
    "lattice = a / 2 .* [[0 1 1.]; [1 0 1.]; [1 1 0.]]\n",
    "Si = ElementPsp(:Si, psp=load_psp(\"hgh/lda/Si-q4\"))\n",
    "atoms     = [Si, Si]\n",
    "positions = [ones(3)/8, -ones(3)/8]\n",
    "\n",
    "# Compute the dielectric operator without symmetries\n",
    "model = model_LDA(lattice, atoms, positions, symmetries=false)\n",
    "basis = PlaneWaveBasis(model; Ecut, kgrid)\n",
    "scfres = self_consistent_field(basis, tol=1e-14);"
   ],
   "metadata": {},
   "execution_count": 1
  },
  {
   "cell_type": "markdown",
   "source": [
    "Applying $ε^† ≔ (1- χ_0 K)$ …"
   ],
   "metadata": {}
  },
  {
   "outputs": [],
   "cell_type": "code",
   "source": [
    "function eps_fun(δρ)\n",
    "    δV = apply_kernel(basis, δρ; ρ=scfres.ρ)\n",
    "    χ0δV = apply_χ0(scfres, δV)\n",
    "    δρ - χ0δV\n",
    "end;"
   ],
   "metadata": {},
   "execution_count": 2
  },
  {
   "cell_type": "markdown",
   "source": [
    "… eagerly diagonalizes the subspace matrix at each iteration"
   ],
   "metadata": {}
  },
  {
   "outputs": [
    {
     "name": "stdout",
     "output_type": "stream",
     "text": [
      "[ Info: Arnoldi iteration step 1: normres = 0.07902036135937103\n",
      "[ Info: Arnoldi iteration step 2: normres = 0.6651372263686938\n",
      "[ Info: Arnoldi iteration step 3: normres = 0.686209781336307\n",
      "[ Info: Arnoldi iteration step 4: normres = 0.2542894245460684\n",
      "[ Info: Arnoldi iteration step 5: normres = 0.4933675694726326\n",
      "[ Info: Arnoldi schursolve in iter 1, krylovdim = 5: 0 values converged, normres = (1.96e-02, 7.27e-02, 2.91e-01, 3.91e-01, 1.59e-02)\n",
      "[ Info: Arnoldi iteration step 6: normres = 0.21601208572562333\n",
      "[ Info: Arnoldi schursolve in iter 1, krylovdim = 6: 0 values converged, normres = (3.78e-03, 1.05e-01, 1.66e-01, 4.67e-02, 2.29e-02)\n",
      "[ Info: Arnoldi iteration step 7: normres = 0.06878827502433124\n",
      "[ Info: Arnoldi schursolve in iter 1, krylovdim = 7: 0 values converged, normres = (1.18e-04, 5.95e-03, 9.04e-03, 1.14e-02, 6.39e-02)\n",
      "[ Info: Arnoldi iteration step 8: normres = 0.09591702824522959\n",
      "[ Info: Arnoldi schursolve in iter 1, krylovdim = 8: 0 values converged, normres = (4.84e-06, 4.00e-04, 6.76e-04, 3.42e-03, 4.52e-02)\n",
      "[ Info: Arnoldi iteration step 9: normres = 0.08309823812166175\n",
      "[ Info: Arnoldi schursolve in iter 1, krylovdim = 9: 0 values converged, normres = (1.74e-07, 2.38e-05, 4.47e-05, 9.96e-04, 4.14e-02)\n",
      "[ Info: Arnoldi iteration step 10: normres = 0.10603332398512656\n",
      "[ Info: Arnoldi schursolve in iter 1, krylovdim = 10: 0 values converged, normres = (8.06e-09, 1.82e-06, 3.81e-06, 3.82e-04, 3.94e-02)\n",
      "[ Info: Arnoldi iteration step 11: normres = 0.07976659132026273\n",
      "[ Info: Arnoldi schursolve in iter 1, krylovdim = 11: 0 values converged, normres = (2.81e-10, 1.06e-07, 2.46e-07, 1.16e-04, 3.20e-02)\n",
      "[ Info: Arnoldi iteration step 12: normres = 0.08599589550498997\n",
      "[ Info: Arnoldi schursolve in iter 1, krylovdim = 12: 0 values converged, normres = (1.04e-11, 6.42e-09, 1.66e-08, 3.24e-05, 1.92e-02)\n",
      "[ Info: Arnoldi iteration step 13: normres = 0.18392621570664638\n",
      "[ Info: Arnoldi schursolve in iter 1, krylovdim = 13: 1 values converged, normres = (8.29e-13, 8.42e-10, 2.42e-09, 2.02e-05, 2.61e-02)\n",
      "[ Info: Arnoldi iteration step 14: normres = 0.252974603708551\n",
      "[ Info: Arnoldi schursolve in iter 1, krylovdim = 14: 1 values converged, normres = (2.14e-13, 3.32e-09, 2.47e-01, 4.17e-02, 2.07e-03)\n",
      "[ Info: Arnoldi iteration step 15: normres = 0.29420121596142373\n",
      "[ Info: Arnoldi schursolve in iter 1, krylovdim = 15: 1 values converged, normres = (2.75e-14, 1.96e-09, 5.10e-02, 1.25e-04, 1.18e-05)\n",
      "[ Info: Arnoldi iteration step 16: normres = 0.08852983420279968\n",
      "[ Info: Arnoldi schursolve in iter 1, krylovdim = 16: 1 values converged, normres = (2.33e-15, 1.93e-08, 3.27e-02, 2.71e-04, 8.11e-02)\n",
      "[ Info: Arnoldi iteration step 17: normres = 0.0375310444066355\n",
      "[ Info: Arnoldi schursolve in iter 1, krylovdim = 17: 1 values converged, normres = (3.64e-17, 1.74e-04, 8.34e-04, 1.56e-07, 2.22e-03)\n",
      "[ Info: Arnoldi iteration step 18: normres = 0.04064980542564159\n",
      "[ Info: Arnoldi schursolve in iter 1, krylovdim = 18: 1 values converged, normres = (6.16e-19, 1.82e-05, 1.42e-05, 6.56e-05, 9.03e-06)\n",
      "[ Info: Arnoldi iteration step 19: normres = 0.1529899554606862\n",
      "[ Info: Arnoldi schursolve in iter 1, krylovdim = 19: 1 values converged, normres = (4.56e-20, 7.48e-08, 3.05e-06, 1.86e-08, 9.95e-06)\n",
      "[ Info: Arnoldi iteration step 20: normres = 0.023968472715159086\n",
      "[ Info: Arnoldi schursolve in iter 1, krylovdim = 20: 1 values converged, normres = (4.66e-22, 8.00e-09, 5.05e-08, 1.75e-07, 6.00e-08)\n",
      "[ Info: Arnoldi iteration step 21: normres = 0.029329245956083702\n",
      "[ Info: Arnoldi schursolve in iter 1, krylovdim = 21: 1 values converged, normres = (5.66e-24, 4.62e-10, 8.82e-10, 3.79e-09, 1.18e-09)\n",
      "[ Info: Arnoldi iteration step 22: normres = 0.019207109900239282\n",
      "[ Info: Arnoldi schursolve in iter 1, krylovdim = 22: 1 values converged, normres = (4.48e-26, 5.97e-12, 1.11e-11, 5.17e-11, 1.98e-11)\n",
      "[ Info: Arnoldi iteration step 23: normres = 0.4132551208560968\n",
      "[ Info: Arnoldi schursolve in iter 1, krylovdim = 23: 1 values converged, normres = (8.06e-27, 1.77e-12, 3.29e-12, 1.71e-11, 6.52e-12)\n",
      "[ Info: Arnoldi iteration step 24: normres = 0.04643588801261226\n",
      "[ Info: Arnoldi schursolve in iter 1, krylovdim = 24: 3 values converged, normres = (3.36e-28, 5.23e-13, 9.72e-13, 2.31e-10, 8.77e-11)\n",
      "[ Info: Arnoldi iteration step 25: normres = 0.0162789896745611\n",
      "[ Info: Arnoldi schursolve in iter 1, krylovdim = 25: 3 values converged, normres = (2.25e-30, 5.68e-15, 1.05e-14, 3.05e-04, 2.35e-04)\n",
      "[ Info: Arnoldi iteration step 26: normres = 0.11703344043576172\n",
      "[ Info: Arnoldi schursolve in iter 1, krylovdim = 26: 3 values converged, normres = (1.12e-31, 4.63e-16, 8.61e-16, 1.02e-05, 4.02e-05)\n",
      "[ Info: Arnoldi iteration step 27: normres = 0.041842837981258624\n",
      "[ Info: Arnoldi schursolve in iter 1, krylovdim = 27: 3 values converged, normres = (2.06e-33, 1.41e-17, 2.62e-17, 3.93e-10, 1.54e-10)\n",
      "[ Info: Arnoldi iteration step 28: normres = 0.2172160020681922\n",
      "[ Info: Arnoldi schursolve in iter 1, krylovdim = 28: 3 values converged, normres = (2.06e-34, 2.42e-18, 4.49e-18, 2.09e-07, 9.72e-09)\n",
      "[ Info: Arnoldi iteration step 29: normres = 0.09696537517597863\n",
      "[ Info: Arnoldi schursolve in iter 1, krylovdim = 29: 3 values converged, normres = (8.90e-36, 1.77e-19, 3.30e-19, 2.67e-10, 1.81e-08)\n",
      "[ Info: Arnoldi iteration step 30: normres = 0.0469291183573456\n",
      "[ Info: Arnoldi schursolve in iter 1, krylovdim = 30: 3 values converged, normres = (1.85e-37, 6.20e-21, 1.15e-20, 7.37e-12, 6.40e-10)\n",
      "[ Info: Arnoldi schursolve in iter 2, krylovdim = 19: 3 values converged, normres = (1.95e-37, 6.20e-21, 1.15e-20, 7.37e-12, 6.40e-10)\n",
      "[ Info: Arnoldi iteration step 20: normres = 0.03318201971595059\n",
      "[ Info: Arnoldi schursolve in iter 2, krylovdim = 20: 4 values converged, normres = (2.53e-39, 1.35e-22, 2.51e-22, 1.77e-13, 1.44e-11)\n",
      "[ Info: Arnoldi iteration step 21: normres = 0.07374137938737513\n",
      "┌ Info: Arnoldi eigsolve finished after 2 iterations:\n",
      "│ *  5 eigenvalues converged\n",
      "│ *  norm of residuals = (7.976185941381563e-41, 6.945187775022551e-24, 1.4476729830830777e-23, 1.006375893295457e-14, 7.325594163064577e-13)\n",
      "└ *  number of operations = 32\n"
     ]
    }
   ],
   "cell_type": "code",
   "source": [
    "eigsolve(eps_fun, randn(size(scfres.ρ)), 5, :LM; eager=true, verbosity=3);"
   ],
   "metadata": {},
   "execution_count": 3
  }
 ],
 "nbformat_minor": 3,
 "metadata": {
  "language_info": {
   "file_extension": ".jl",
   "mimetype": "application/julia",
   "name": "julia",
   "version": "1.8.2"
  },
  "kernelspec": {
   "name": "julia-1.8",
   "display_name": "Julia 1.8.2",
   "language": "julia"
  }
 },
 "nbformat": 4
}
