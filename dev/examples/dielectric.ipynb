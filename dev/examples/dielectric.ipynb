{
 "cells": [
  {
   "cell_type": "markdown",
   "source": [
    "# Eigenvalues of the dielectric matrix\n",
    "\n",
    "We compute a few eigenvalues of the dielectric matrix ($q=0$, $ω=0$) iteratively."
   ],
   "metadata": {}
  },
  {
   "outputs": [
    {
     "name": "stdout",
     "output_type": "stream",
     "text": [
      "n     Energy            log10(ΔE)   log10(Δρ)   Diag\n",
      "---   ---------------   ---------   ---------   ----\n",
      "  1   -7.234858676168                   -0.50    8.0\n",
      "  2   -7.250160893105       -1.82       -1.39    1.0\n",
      "  3   -7.250942582268       -3.11       -1.80    4.0\n",
      "  4   -7.250981424403       -4.41       -1.88    2.0\n",
      "  5   -7.251320730108       -3.47       -2.48    2.0\n",
      "  6   -7.251338139644       -4.76       -3.18    1.0\n",
      "  7   -7.251338659659       -6.28       -3.50    3.0\n",
      "  8   -7.251338792677       -6.88       -4.08    2.0\n",
      "  9   -7.251338797693       -8.30       -4.57    4.0\n",
      " 10   -7.251338798653       -9.02       -5.14    3.0\n",
      " 11   -7.251338798695      -10.37       -5.44    3.0\n",
      " 12   -7.251338798701      -11.27       -5.77    1.0\n",
      " 13   -7.251338798704      -11.41       -6.65    3.0\n",
      " 14   -7.251338798705      -13.42       -7.01    3.0\n",
      " 15   -7.251338798705      -14.35       -7.47    2.0\n"
     ]
    }
   ],
   "cell_type": "code",
   "source": [
    "using DFTK\n",
    "using Plots\n",
    "using KrylovKit\n",
    "using Printf\n",
    "\n",
    "# Calculation parameters\n",
    "kgrid = [1, 1, 1]\n",
    "Ecut = 5\n",
    "\n",
    "# Silicon lattice\n",
    "a = 10.26\n",
    "lattice = a / 2 .* [[0 1 1.]; [1 0 1.]; [1 1 0.]]\n",
    "Si = ElementPsp(:Si, psp=load_psp(\"hgh/lda/Si-q4\"))\n",
    "atoms     = [Si, Si]\n",
    "positions = [ones(3)/8, -ones(3)/8]\n",
    "\n",
    "# Compute the dielectric operator without symmetries\n",
    "model = model_LDA(lattice, atoms, positions, symmetries=false)\n",
    "basis = PlaneWaveBasis(model; Ecut, kgrid)\n",
    "scfres = self_consistent_field(basis, tol=1e-14);"
   ],
   "metadata": {},
   "execution_count": 1
  },
  {
   "cell_type": "markdown",
   "source": [
    "Applying $ε^† ≔ (1- χ_0 K)$ …"
   ],
   "metadata": {}
  },
  {
   "outputs": [],
   "cell_type": "code",
   "source": [
    "function eps_fun(δρ)\n",
    "    δV = apply_kernel(basis, δρ; ρ=scfres.ρ)\n",
    "    χ0δV = apply_χ0(scfres, δV)\n",
    "    δρ - χ0δV\n",
    "end;"
   ],
   "metadata": {},
   "execution_count": 2
  },
  {
   "cell_type": "markdown",
   "source": [
    "… eagerly diagonalizes the subspace matrix at each iteration"
   ],
   "metadata": {}
  },
  {
   "outputs": [
    {
     "name": "stdout",
     "output_type": "stream",
     "text": [
      "[ Info: Arnoldi iteration step 1: normres = 0.05406551991059068\n",
      "[ Info: Arnoldi iteration step 2: normres = 0.5879716957962712\n",
      "[ Info: Arnoldi iteration step 3: normres = 0.8331398491922859\n",
      "[ Info: Arnoldi iteration step 4: normres = 0.2287781015267912\n",
      "[ Info: Arnoldi iteration step 5: normres = 0.6131647940669914\n",
      "[ Info: Arnoldi schursolve in iter 1, krylovdim = 5: 0 values converged, normres = (3.01e-02, 8.61e-02, 5.63e-01, 2.25e-01, 8.39e-03)\n",
      "[ Info: Arnoldi iteration step 6: normres = 0.22061004744210516\n",
      "[ Info: Arnoldi schursolve in iter 1, krylovdim = 6: 0 values converged, normres = (5.18e-03, 9.35e-02, 1.48e-01, 9.32e-02, 6.31e-02)\n",
      "[ Info: Arnoldi iteration step 7: normres = 0.09750881488941983\n",
      "[ Info: Arnoldi schursolve in iter 1, krylovdim = 7: 0 values converged, normres = (2.47e-04, 9.11e-03, 1.26e-02, 6.80e-02, 6.00e-02)\n",
      "[ Info: Arnoldi iteration step 8: normres = 0.12413555172017177\n",
      "[ Info: Arnoldi schursolve in iter 1, krylovdim = 8: 0 values converged, normres = (1.33e-05, 8.12e-04, 1.26e-03, 2.90e-02, 4.44e-02)\n",
      "[ Info: Arnoldi iteration step 9: normres = 0.08101573283981814\n",
      "[ Info: Arnoldi schursolve in iter 1, krylovdim = 9: 0 values converged, normres = (4.72e-07, 4.77e-05, 8.25e-05, 8.95e-03, 3.34e-02)\n",
      "[ Info: Arnoldi iteration step 10: normres = 0.079422953377346\n",
      "[ Info: Arnoldi schursolve in iter 1, krylovdim = 10: 0 values converged, normres = (1.63e-08, 2.73e-06, 5.24e-06, 2.50e-03, 2.19e-02)\n",
      "[ Info: Arnoldi iteration step 11: normres = 0.07041651934465117\n",
      "[ Info: Arnoldi schursolve in iter 1, krylovdim = 11: 0 values converged, normres = (4.92e-10, 1.35e-07, 2.87e-07, 5.59e-04, 1.02e-02)\n",
      "[ Info: Arnoldi iteration step 12: normres = 0.07952389653670255\n",
      "[ Info: Arnoldi schursolve in iter 1, krylovdim = 12: 0 values converged, normres = (1.67e-11, 7.45e-09, 1.76e-08, 1.30e-04, 4.38e-03)\n",
      "[ Info: Arnoldi iteration step 13: normres = 0.13734887193205417\n",
      "[ Info: Arnoldi schursolve in iter 1, krylovdim = 13: 1 values converged, normres = (9.83e-13, 7.20e-10, 1.89e-09, 5.62e-05, 3.91e-03)\n",
      "[ Info: Arnoldi iteration step 14: normres = 0.3127397446619352\n",
      "[ Info: Arnoldi schursolve in iter 1, krylovdim = 14: 1 values converged, normres = (2.80e-13, 1.21e-09, 1.30e-08, 3.10e-01, 1.42e-03)\n",
      "[ Info: Arnoldi iteration step 15: normres = 0.21186573243488607\n",
      "[ Info: Arnoldi schursolve in iter 1, krylovdim = 15: 1 values converged, normres = (2.62e-14, 2.61e-10, 4.86e-02, 3.46e-04, 1.83e-05)\n",
      "[ Info: Arnoldi iteration step 16: normres = 0.2062379883188625\n",
      "[ Info: Arnoldi schursolve in iter 1, krylovdim = 16: 1 values converged, normres = (5.62e-15, 2.09e-09, 1.82e-01, 4.02e-04, 9.34e-02)\n",
      "[ Info: Arnoldi iteration step 17: normres = 0.03284480854660703\n",
      "[ Info: Arnoldi schursolve in iter 1, krylovdim = 17: 1 values converged, normres = (7.89e-17, 7.17e-09, 4.18e-03, 2.88e-06, 1.83e-03)\n",
      "[ Info: Arnoldi iteration step 18: normres = 0.019400391555133786\n",
      "[ Info: Arnoldi schursolve in iter 1, krylovdim = 18: 1 values converged, normres = (6.30e-19, 3.55e-05, 3.98e-05, 6.55e-08, 2.57e-05)\n",
      "[ Info: Arnoldi iteration step 19: normres = 0.07110298729077028\n",
      "[ Info: Arnoldi schursolve in iter 1, krylovdim = 19: 1 values converged, normres = (1.87e-20, 2.52e-06, 3.23e-07, 1.34e-06, 1.38e-07)\n",
      "[ Info: Arnoldi iteration step 20: normres = 0.18408618040035626\n",
      "[ Info: Arnoldi schursolve in iter 1, krylovdim = 20: 1 values converged, normres = (1.65e-21, 2.47e-08, 3.99e-07, 1.44e-07, 1.93e-07)\n",
      "[ Info: Arnoldi iteration step 21: normres = 0.026329081402132384\n",
      "[ Info: Arnoldi schursolve in iter 1, krylovdim = 21: 1 values converged, normres = (1.87e-23, 7.44e-09, 3.39e-10, 4.72e-09, 1.64e-09)\n",
      "[ Info: Arnoldi iteration step 22: normres = 0.16668107550823266\n",
      "[ Info: Arnoldi schursolve in iter 1, krylovdim = 22: 1 values converged, normres = (1.28e-24, 5.77e-10, 5.76e-10, 5.72e-10, 1.90e-10)\n",
      "[ Info: Arnoldi iteration step 23: normres = 0.11096229111530126\n",
      "[ Info: Arnoldi schursolve in iter 1, krylovdim = 23: 1 values converged, normres = (1.36e-25, 4.24e-10, 3.97e-10, 4.18e-09, 1.28e-09)\n",
      "[ Info: Arnoldi iteration step 24: normres = 0.015667729206246924\n",
      "[ Info: Arnoldi schursolve in iter 1, krylovdim = 24: 1 values converged, normres = (8.69e-28, 4.69e-12, 4.59e-12, 8.50e-09, 4.72e-09)\n",
      "[ Info: Arnoldi iteration step 25: normres = 0.0630069892954814\n",
      "[ Info: Arnoldi schursolve in iter 1, krylovdim = 25: 3 values converged, normres = (2.26e-29, 1.95e-13, 1.90e-13, 1.78e-05, 9.09e-06)\n",
      "[ Info: Arnoldi iteration step 26: normres = 0.05359867293747897\n",
      "[ Info: Arnoldi schursolve in iter 1, krylovdim = 26: 3 values converged, normres = (5.45e-31, 7.95e-15, 7.77e-15, 8.63e-07, 1.45e-06)\n",
      "[ Info: Arnoldi iteration step 27: normres = 0.027159053152407752\n",
      "[ Info: Arnoldi schursolve in iter 1, krylovdim = 27: 3 values converged, normres = (6.12e-33, 1.43e-16, 1.40e-16, 2.20e-08, 4.60e-08)\n",
      "[ Info: Arnoldi iteration step 28: normres = 0.09237775176735233\n",
      "[ Info: Arnoldi schursolve in iter 1, krylovdim = 28: 3 values converged, normres = (2.45e-34, 9.41e-18, 9.21e-18, 1.92e-09, 3.12e-09)\n",
      "[ Info: Arnoldi iteration step 29: normres = 0.026201854284093207\n",
      "[ Info: Arnoldi schursolve in iter 1, krylovdim = 29: 3 values converged, normres = (2.70e-36, 1.68e-19, 1.65e-19, 2.84e-11, 6.63e-11)\n",
      "[ Info: Arnoldi iteration step 30: normres = 0.2160231475678077\n",
      "[ Info: Arnoldi schursolve in iter 1, krylovdim = 30: 3 values converged, normres = (2.72e-37, 2.94e-20, 2.87e-20, 5.58e-12, 1.30e-11)\n",
      "[ Info: Arnoldi schursolve in iter 2, krylovdim = 19: 3 values converged, normres = (2.72e-37, 2.94e-20, 2.87e-20, 5.58e-12, 1.30e-11)\n",
      "[ Info: Arnoldi iteration step 20: normres = 0.03869272571026673\n",
      "┌ Info: Arnoldi eigsolve finished after 2 iterations:\n",
      "│ *  6 eigenvalues converged\n",
      "│ *  norm of residuals = (4.649107775059304e-39, 8.448410413974808e-22, 8.382892611828563e-22, 1.7969309319314474e-13, 4.506419875779819e-13, 5.1152223246114485e-14)\n",
      "└ *  number of operations = 31\n"
     ]
    }
   ],
   "cell_type": "code",
   "source": [
    "eigsolve(eps_fun, randn(size(scfres.ρ)), 5, :LM; eager=true, verbosity=3);"
   ],
   "metadata": {},
   "execution_count": 3
  }
 ],
 "nbformat_minor": 3,
 "metadata": {
  "language_info": {
   "file_extension": ".jl",
   "mimetype": "application/julia",
   "name": "julia",
   "version": "1.8.1"
  },
  "kernelspec": {
   "name": "julia-1.8",
   "display_name": "Julia 1.8.1",
   "language": "julia"
  }
 },
 "nbformat": 4
}
