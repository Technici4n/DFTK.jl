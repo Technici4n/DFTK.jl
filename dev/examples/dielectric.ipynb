{
 "cells": [
  {
   "cell_type": "markdown",
   "source": [
    "# Eigenvalues of the dielectric matrix\n",
    "\n",
    "We compute a few eigenvalues of the dielectric matrix ($q=0$, $ω=0$) iteratively."
   ],
   "metadata": {}
  },
  {
   "outputs": [
    {
     "name": "stdout",
     "output_type": "stream",
     "text": [
      "n     Energy            log10(ΔE)   log10(Δρ)   Diag   Δtime\n",
      "---   ---------------   ---------   ---------   ----   ------\n",
      "  1   -7.233207776581                   -0.50    8.0         \n",
      "  2   -7.250272697540       -1.77       -1.41    1.0   8.13ms\n",
      "  3   -7.251156925413       -3.05       -2.16    1.0   8.04ms\n",
      "  4   -7.251210283179       -4.27       -2.09    2.0   10.1ms\n",
      "  5   -7.251332265078       -3.91       -2.68    1.0   8.25ms\n",
      "  6   -7.251337420759       -5.29       -3.02    2.0   9.85ms\n",
      "  7   -7.251338659659       -5.91       -3.56    1.0   8.10ms\n",
      "  8   -7.251338768828       -6.96       -3.81    2.0   10.1ms\n",
      "  9   -7.251338792622       -7.62       -4.16    1.0   8.73ms\n",
      " 10   -7.251338797963       -8.27       -4.69    2.0   9.76ms\n",
      " 11   -7.251338798640       -9.17       -5.15    3.0   11.9ms\n",
      " 12   -7.251338798698      -10.24       -5.68    1.0   8.12ms\n",
      " 13   -7.251338798704      -11.23       -6.18    2.0   9.83ms\n",
      " 14   -7.251338798704      -12.34       -6.34    2.0   11.1ms\n",
      " 15   -7.251338798704      -12.82       -6.69    1.0   9.08ms\n",
      " 16   -7.251338798705      -13.42       -7.18    2.0   10.9ms\n",
      " 17   -7.251338798705      -14.27       -7.47    1.0   8.28ms\n",
      " 18   -7.251338798705   +    -Inf       -8.03    2.0   9.69ms\n"
     ]
    }
   ],
   "cell_type": "code",
   "source": [
    "using DFTK\n",
    "using Plots\n",
    "using KrylovKit\n",
    "using Printf\n",
    "\n",
    "# Calculation parameters\n",
    "kgrid = [1, 1, 1]\n",
    "Ecut = 5\n",
    "\n",
    "# Silicon lattice\n",
    "a = 10.26\n",
    "lattice = a / 2 .* [[0 1 1.]; [1 0 1.]; [1 1 0.]]\n",
    "Si = ElementPsp(:Si, psp=load_psp(\"hgh/lda/Si-q4\"))\n",
    "atoms     = [Si, Si]\n",
    "positions = [ones(3)/8, -ones(3)/8]\n",
    "\n",
    "# Compute the dielectric operator without symmetries\n",
    "model  = model_LDA(lattice, atoms, positions, symmetries=false)\n",
    "basis  = PlaneWaveBasis(model; Ecut, kgrid)\n",
    "scfres = self_consistent_field(basis, tol=1e-8);"
   ],
   "metadata": {},
   "execution_count": 1
  },
  {
   "cell_type": "markdown",
   "source": [
    "Applying $ε^† ≔ (1- χ_0 K)$ …"
   ],
   "metadata": {}
  },
  {
   "outputs": [],
   "cell_type": "code",
   "source": [
    "function eps_fun(δρ)\n",
    "    δV = apply_kernel(basis, δρ; ρ=scfres.ρ)\n",
    "    χ0δV = apply_χ0(scfres, δV)\n",
    "    δρ - χ0δV\n",
    "end;"
   ],
   "metadata": {},
   "execution_count": 2
  },
  {
   "cell_type": "markdown",
   "source": [
    "… eagerly diagonalizes the subspace matrix at each iteration"
   ],
   "metadata": {}
  },
  {
   "outputs": [
    {
     "name": "stdout",
     "output_type": "stream",
     "text": [
      "[ Info: Arnoldi iteration step 1: normres = 0.04542619909873417\n",
      "[ Info: Arnoldi iteration step 2: normres = 0.6329944695915305\n",
      "[ Info: Arnoldi iteration step 3: normres = 0.8242360393581618\n",
      "[ Info: Arnoldi iteration step 4: normres = 0.26277013771681196\n",
      "[ Info: Arnoldi iteration step 5: normres = 0.515156749359443\n",
      "[ Info: Arnoldi schursolve in iter 1, krylovdim = 5: 0 values converged, normres = (2.77e-02, 8.12e-02, 4.56e-01, 2.23e-01, 1.80e-02)\n",
      "[ Info: Arnoldi iteration step 6: normres = 0.3185543654573989\n",
      "[ Info: Arnoldi schursolve in iter 1, krylovdim = 6: 0 values converged, normres = (7.36e-03, 1.46e-01, 2.29e-01, 1.34e-01, 5.81e-02)\n",
      "[ Info: Arnoldi iteration step 7: normres = 0.07652987547828187\n",
      "[ Info: Arnoldi schursolve in iter 1, krylovdim = 7: 0 values converged, normres = (2.76e-04, 1.18e-02, 1.39e-02, 4.67e-02, 5.23e-02)\n",
      "[ Info: Arnoldi iteration step 8: normres = 0.09580131286542369\n",
      "[ Info: Arnoldi schursolve in iter 1, krylovdim = 8: 0 values converged, normres = (1.15e-05, 8.05e-04, 1.05e-03, 1.45e-02, 4.12e-02)\n",
      "[ Info: Arnoldi iteration step 9: normres = 0.06782247590023832\n",
      "[ Info: Arnoldi schursolve in iter 1, krylovdim = 9: 0 values converged, normres = (3.33e-07, 3.84e-05, 5.57e-05, 3.12e-03, 2.58e-02)\n",
      "[ Info: Arnoldi iteration step 10: normres = 0.09033720916558056\n",
      "[ Info: Arnoldi schursolve in iter 1, krylovdim = 10: 0 values converged, normres = (1.31e-08, 2.50e-06, 4.03e-06, 9.68e-04, 2.56e-02)\n",
      "[ Info: Arnoldi iteration step 11: normres = 0.09046277119168929\n",
      "[ Info: Arnoldi schursolve in iter 1, krylovdim = 11: 0 values converged, normres = (5.19e-10, 1.64e-07, 2.95e-07, 3.29e-04, 4.03e-02)\n",
      "[ Info: Arnoldi iteration step 12: normres = 0.10048543561008866\n",
      "[ Info: Arnoldi schursolve in iter 1, krylovdim = 12: 0 values converged, normres = (2.29e-11, 1.21e-08, 2.42e-08, 1.33e-04, 4.27e-02)\n",
      "[ Info: Arnoldi iteration step 13: normres = 0.05944910071612063\n",
      "[ Info: Arnoldi schursolve in iter 1, krylovdim = 13: 1 values converged, normres = (5.75e-13, 4.91e-10, 1.09e-09, 2.25e-05, 1.34e-02)\n",
      "[ Info: Arnoldi iteration step 14: normres = 0.6029464130555062\n",
      "[ Info: Arnoldi schursolve in iter 1, krylovdim = 14: 1 values converged, normres = (2.70e-13, 7.82e-10, 2.74e-09, 6.00e-01, 3.07e-03)\n",
      "[ Info: Arnoldi iteration step 15: normres = 0.11541601287903819\n",
      "[ Info: Arnoldi schursolve in iter 1, krylovdim = 15: 1 values converged, normres = (1.78e-14, 1.02e-09, 5.40e-02, 8.58e-05, 3.60e-06)\n",
      "[ Info: Arnoldi iteration step 16: normres = 0.425225237404135\n",
      "[ Info: Arnoldi schursolve in iter 1, krylovdim = 16: 1 values converged, normres = (6.52e-15, 3.02e-09, 9.29e-02, 1.89e-04, 4.10e-01)\n",
      "[ Info: Arnoldi iteration step 17: normres = 0.028922546952244516\n",
      "[ Info: Arnoldi schursolve in iter 1, krylovdim = 17: 1 values converged, normres = (8.85e-17, 3.69e-08, 3.43e-03, 5.21e-03, 6.79e-03)\n",
      "[ Info: Arnoldi iteration step 18: normres = 0.01806074600128914\n",
      "[ Info: Arnoldi schursolve in iter 1, krylovdim = 18: 1 values converged, normres = (6.59e-19, 2.22e-05, 3.42e-05, 1.80e-08, 1.12e-04)\n",
      "[ Info: Arnoldi iteration step 19: normres = 0.09095281934317177\n",
      "[ Info: Arnoldi schursolve in iter 1, krylovdim = 19: 1 values converged, normres = (2.51e-20, 2.21e-08, 2.49e-06, 2.85e-06, 7.01e-06)\n",
      "[ Info: Arnoldi iteration step 20: normres = 0.15902942203657688\n",
      "[ Info: Arnoldi schursolve in iter 1, krylovdim = 20: 1 values converged, normres = (1.92e-21, 9.72e-08, 3.26e-07, 3.08e-08, 1.17e-06)\n",
      "[ Info: Arnoldi iteration step 21: normres = 0.018203264996924772\n",
      "[ Info: Arnoldi schursolve in iter 1, krylovdim = 21: 1 values converged, normres = (1.49e-23, 1.51e-09, 4.07e-09, 7.49e-09, 1.48e-08)\n",
      "[ Info: Arnoldi iteration step 22: normres = 0.014050296404961596\n",
      "[ Info: Arnoldi schursolve in iter 1, krylovdim = 22: 1 values converged, normres = (8.61e-26, 1.37e-11, 3.74e-11, 9.57e-11, 1.38e-10)\n",
      "[ Info: Arnoldi iteration step 23: normres = 0.3001709735316365\n",
      "[ Info: Arnoldi schursolve in iter 1, krylovdim = 23: 1 values converged, normres = (1.09e-26, 2.84e-12, 7.71e-12, 2.18e-11, 3.15e-11)\n",
      "[ Info: Arnoldi iteration step 24: normres = 0.07772346771580538\n",
      "[ Info: Arnoldi schursolve in iter 1, krylovdim = 24: 1 values converged, normres = (1.16e-27, 1.42e-12, 3.85e-12, 2.01e-10, 2.92e-10)\n",
      "[ Info: Arnoldi iteration step 25: normres = 0.09635304774844725\n",
      "[ Info: Arnoldi schursolve in iter 1, krylovdim = 25: 3 values converged, normres = (3.17e-29, 9.75e-14, 2.65e-13, 4.30e-03, 3.02e-03)\n",
      "[ Info: Arnoldi iteration step 26: normres = 0.027871247795825036\n",
      "[ Info: Arnoldi schursolve in iter 1, krylovdim = 26: 3 values converged, normres = (3.95e-31, 2.04e-15, 5.55e-15, 6.87e-10, 9.83e-10)\n",
      "[ Info: Arnoldi iteration step 27: normres = 0.03896455223573009\n",
      "[ Info: Arnoldi schursolve in iter 1, krylovdim = 27: 3 values converged, normres = (6.33e-33, 5.23e-17, 1.42e-16, 7.31e-07, 6.45e-07)\n",
      "[ Info: Arnoldi iteration step 28: normres = 0.0589384054609852\n",
      "[ Info: Arnoldi schursolve in iter 1, krylovdim = 28: 3 values converged, normres = (1.65e-34, 2.28e-18, 6.18e-18, 5.08e-08, 1.12e-07)\n",
      "[ Info: Arnoldi iteration step 29: normres = 0.16683393851654554\n",
      "[ Info: Arnoldi schursolve in iter 1, krylovdim = 29: 3 values converged, normres = (1.17e-35, 2.62e-19, 7.12e-19, 1.44e-09, 2.19e-08)\n",
      "[ Info: Arnoldi iteration step 30: normres = 0.0533391680306841\n",
      "[ Info: Arnoldi schursolve in iter 1, krylovdim = 30: 3 values converged, normres = (3.06e-37, 1.22e-20, 3.32e-20, 1.51e-10, 1.02e-09)\n",
      "[ Info: Arnoldi schursolve in iter 2, krylovdim = 19: 3 values converged, normres = (3.19e-37, 1.22e-20, 3.32e-20, 1.51e-10, 1.02e-09)\n",
      "[ Info: Arnoldi iteration step 20: normres = 0.08695418873643142\n",
      "[ Info: Arnoldi schursolve in iter 2, krylovdim = 20: 3 values converged, normres = (1.13e-38, 7.31e-22, 1.99e-21, 9.53e-12, 6.81e-11)\n",
      "[ Info: Arnoldi iteration step 21: normres = 0.024268994033075898\n",
      "[ Info: Arnoldi schursolve in iter 2, krylovdim = 21: 4 values converged, normres = (1.16e-40, 1.22e-23, 3.31e-23, 1.76e-13, 1.25e-12)\n",
      "[ Info: Arnoldi iteration step 22: normres = 0.01821554811134552\n",
      "┌ Info: Arnoldi eigsolve finished after 2 iterations:\n",
      "│ *  6 eigenvalues converged\n",
      "│ *  norm of residuals = (8.632955966052453e-43, 1.4471184134037016e-25, 4.0669098282974487e-25, 2.3067077382002773e-15, 1.6245868362091396e-14, 7.412778370776569e-16)\n",
      "└ *  number of operations = 33\n"
     ]
    }
   ],
   "cell_type": "code",
   "source": [
    "eigsolve(eps_fun, randn(size(scfres.ρ)), 5, :LM; eager=true, verbosity=3);"
   ],
   "metadata": {},
   "execution_count": 3
  }
 ],
 "nbformat_minor": 3,
 "metadata": {
  "language_info": {
   "file_extension": ".jl",
   "mimetype": "application/julia",
   "name": "julia",
   "version": "1.9.3"
  },
  "kernelspec": {
   "name": "julia-1.9",
   "display_name": "Julia 1.9.3",
   "language": "julia"
  }
 },
 "nbformat": 4
}
