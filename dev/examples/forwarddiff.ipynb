{
 "cells": [
  {
   "cell_type": "markdown",
   "source": [
    "# Polarizability using automatic differentiation\n",
    "\n",
    "Simple example for computing properties using (forward-mode)\n",
    "automatic differentiation.\n",
    "For a more classical approach and more details about computing polarizabilities,\n",
    "see Polarizability by linear response."
   ],
   "metadata": {}
  },
  {
   "outputs": [],
   "cell_type": "code",
   "source": [
    "using DFTK\n",
    "using LinearAlgebra\n",
    "using ForwardDiff\n",
    "\n",
    "# Construct PlaneWaveBasis given a particular electric field strength\n",
    "# Again we take the example of a Helium atom.\n",
    "function make_basis(ε::T; a=10., Ecut=30) where {T}\n",
    "    lattice=T(a) * I(3)  # lattice is a cube of $a$ Bohrs\n",
    "    # Helium at the center of the box\n",
    "    atoms     = [ElementPsp(:He, psp=load_psp(\"hgh/lda/He-q2\"))]\n",
    "    positions = [[1/2, 1/2, 1/2]]\n",
    "\n",
    "    model = model_DFT(lattice, atoms, positions, [:lda_x, :lda_c_vwn];\n",
    "                      extra_terms=[ExternalFromReal(r -> -ε * (r[1] - a/2))],\n",
    "                      symmetries=false)\n",
    "    PlaneWaveBasis(model; Ecut, kgrid=[1, 1, 1])  # No k-point sampling on isolated system\n",
    "end\n",
    "\n",
    "# dipole moment of a given density (assuming the current geometry)\n",
    "function dipole(basis, ρ)\n",
    "    @assert isdiag(basis.model.lattice)\n",
    "    a  = basis.model.lattice[1, 1]\n",
    "    rr = [a * (r[1] - 1/2) for r in r_vectors(basis)]\n",
    "    sum(rr .* ρ) * basis.dvol\n",
    "end\n",
    "\n",
    "# Function to compute the dipole for a given field strength\n",
    "function compute_dipole(ε; tol=1e-8, kwargs...)\n",
    "    scfres = self_consistent_field(make_basis(ε; kwargs...); tol)\n",
    "    dipole(scfres.basis, scfres.ρ)\n",
    "end;"
   ],
   "metadata": {},
   "execution_count": 1
  },
  {
   "cell_type": "markdown",
   "source": [
    "With this in place we can compute the polarizability from finite differences\n",
    "(just like in the previous example):"
   ],
   "metadata": {}
  },
  {
   "outputs": [
    {
     "name": "stdout",
     "output_type": "stream",
     "text": [
      "n     Energy            log10(ΔE)   log10(Δρ)   Diag   Δtime\n",
      "---   ---------------   ---------   ---------   ----   ------\n",
      "  1   -2.770899876802                   -0.52    9.0         \n",
      "  2   -2.772148331163       -2.90       -1.32    1.0    161ms\n",
      "  3   -2.772170263302       -4.66       -2.46    1.0    140ms\n",
      "  4   -2.772170650002       -6.41       -3.16    1.0    142ms\n",
      "  5   -2.772170722672       -7.14       -4.11    2.0    198ms\n",
      "  6   -2.772170722926       -9.59       -4.46    1.0    145ms\n",
      "  7   -2.772170723012      -10.07       -5.49    1.0    148ms\n",
      "  8   -2.772170723015      -11.49       -6.10    2.0    194ms\n",
      "  9   -2.772170723015      -13.19       -6.89    1.0    153ms\n",
      " 10   -2.772170723015      -13.82       -7.97    2.0    185ms\n",
      " 11   -2.772170723015   +  -14.12       -8.08    2.0    179ms\n",
      "n     Energy            log10(ΔE)   log10(Δρ)   Diag   Δtime\n",
      "---   ---------------   ---------   ---------   ----   ------\n",
      "  1   -2.770678208154                   -0.53    9.0         \n",
      "  2   -2.772052049007       -2.86       -1.30    1.0    160ms\n",
      "  3   -2.772082709150       -4.51       -2.63    1.0    139ms\n",
      "  4   -2.772083415330       -6.15       -3.93    2.0    159ms\n",
      "  5   -2.772083417699       -8.63       -4.49    2.0    190ms\n",
      "  6   -2.772083417806       -9.97       -5.49    1.0    145ms\n",
      "  7   -2.772083417810      -11.35       -6.03    2.0    174ms\n",
      "  8   -2.772083417811      -12.96       -6.87    1.0    151ms\n",
      "  9   -2.772083417811      -14.10       -7.54    2.0    177ms\n",
      " 10   -2.772083417811      -14.35       -7.96    1.0    173ms\n",
      " 11   -2.772083417811   +  -14.35       -9.15    1.0    153ms\n"
     ]
    },
    {
     "output_type": "execute_result",
     "data": {
      "text/plain": "1.7735580830487492"
     },
     "metadata": {},
     "execution_count": 2
    }
   ],
   "cell_type": "code",
   "source": [
    "polarizability_fd = let\n",
    "    ε = 0.01\n",
    "    (compute_dipole(ε) - compute_dipole(0.0)) / ε\n",
    "end"
   ],
   "metadata": {},
   "execution_count": 2
  },
  {
   "cell_type": "markdown",
   "source": [
    "We do the same thing using automatic differentiation. Under the hood this uses\n",
    "custom rules to implicitly differentiate through the self-consistent\n",
    "field fixed-point problem."
   ],
   "metadata": {}
  },
  {
   "outputs": [
    {
     "name": "stdout",
     "output_type": "stream",
     "text": [
      "n     Energy            log10(ΔE)   log10(Δρ)   Diag   Δtime\n",
      "---   ---------------   ---------   ---------   ----   ------\n",
      "  1   -2.770572059580                   -0.53    9.0         \n",
      "  2   -2.772049588303       -2.83       -1.29    1.0    138ms\n",
      "  3   -2.772082629472       -4.48       -2.72    1.0    178ms\n",
      "  4   -2.772083413406       -6.11       -3.76    2.0    160ms\n",
      "  5   -2.772083417460       -8.39       -4.25    2.0    190ms\n",
      "  6   -2.772083417806       -9.46       -5.21    1.0    145ms\n",
      "  7   -2.772083417810      -11.34       -6.11    1.0    146ms\n",
      "  8   -2.772083417811      -12.72       -6.71    2.0    192ms\n",
      "  9   -2.772083417811   +  -14.51       -7.37    1.0    159ms\n",
      " 10   -2.772083417811      -14.88       -7.78    1.0    165ms\n",
      " 11   -2.772083417811   +  -14.27       -8.71    2.0    177ms\n",
      "\n",
      "Polarizability via ForwardDiff:       1.7725349710326301\n",
      "Polarizability via finite difference: 1.7735580830487492\n"
     ]
    }
   ],
   "cell_type": "code",
   "source": [
    "polarizability = ForwardDiff.derivative(compute_dipole, 0.0)\n",
    "println()\n",
    "println(\"Polarizability via ForwardDiff:       $polarizability\")\n",
    "println(\"Polarizability via finite difference: $polarizability_fd\")"
   ],
   "metadata": {},
   "execution_count": 3
  }
 ],
 "nbformat_minor": 3,
 "metadata": {
  "language_info": {
   "file_extension": ".jl",
   "mimetype": "application/julia",
   "name": "julia",
   "version": "1.9.3"
  },
  "kernelspec": {
   "name": "julia-1.9",
   "display_name": "Julia 1.9.3",
   "language": "julia"
  }
 },
 "nbformat": 4
}
