{
 "cells": [
  {
   "cell_type": "markdown",
   "source": [
    "# Comparison of DFT solvers"
   ],
   "metadata": {}
  },
  {
   "cell_type": "markdown",
   "source": [
    "We compare four different approaches for solving the DFT minimisation problem,\n",
    "namely a density-based SCF, a potential-based SCF, direct minimisation and Newton."
   ],
   "metadata": {}
  },
  {
   "cell_type": "markdown",
   "source": [
    "First we setup our problem"
   ],
   "metadata": {}
  },
  {
   "outputs": [
    {
     "output_type": "execute_result",
     "data": {
      "text/plain": "1.0e-6"
     },
     "metadata": {},
     "execution_count": 1
    }
   ],
   "cell_type": "code",
   "source": [
    "using DFTK\n",
    "using LinearAlgebra\n",
    "\n",
    "a = 10.26  # Silicon lattice constant in Bohr\n",
    "lattice = a / 2 * [[0 1 1.];\n",
    "                   [1 0 1.];\n",
    "                   [1 1 0.]]\n",
    "Si = ElementPsp(:Si, psp=load_psp(\"hgh/lda/Si-q4\"))\n",
    "atoms     = [Si, Si]\n",
    "positions = [ones(3)/8, -ones(3)/8]\n",
    "\n",
    "model = model_LDA(lattice, atoms, positions)\n",
    "basis = PlaneWaveBasis(model; Ecut=5, kgrid=[3, 3, 3])\n",
    "\n",
    "# Convergence we desire in the density\n",
    "tol = 1e-6"
   ],
   "metadata": {},
   "execution_count": 1
  },
  {
   "cell_type": "markdown",
   "source": [
    "## Density-based self-consistent field"
   ],
   "metadata": {}
  },
  {
   "outputs": [
    {
     "name": "stdout",
     "output_type": "stream",
     "text": [
      "n     Energy            log10(ΔE)   log10(Δρ)   Diag   Δtime\n",
      "---   ---------------   ---------   ---------   ----   ------\n",
      "  1   -7.846891463693                   -0.70    4.5         \n",
      "  2   -7.852325402545       -2.26       -1.53    1.0   30.1ms\n",
      "  3   -7.852615309268       -3.54       -2.56    1.5   33.4ms\n",
      "  4   -7.852645990736       -4.51       -2.87    2.5   40.9ms\n",
      "  5   -7.852646479883       -6.31       -3.14    1.0   29.8ms\n",
      "  6   -7.852646679077       -6.70       -4.03    1.0   29.6ms\n",
      "  7   -7.852646686530       -8.13       -5.24    2.0   36.1ms\n",
      "  8   -7.852646686725       -9.71       -5.52    2.2   38.2ms\n",
      "  9   -7.852646686725   +  -13.02       -5.51    1.2   30.9ms\n",
      " 10   -7.852646686729      -11.37       -6.08    1.0   29.9ms\n"
     ]
    }
   ],
   "cell_type": "code",
   "source": [
    "scfres_scf = self_consistent_field(basis; tol);"
   ],
   "metadata": {},
   "execution_count": 2
  },
  {
   "cell_type": "markdown",
   "source": [
    "## Potential-based SCF"
   ],
   "metadata": {}
  },
  {
   "outputs": [
    {
     "name": "stdout",
     "output_type": "stream",
     "text": [
      "n     Energy            log10(ΔE)   log10(Δρ)   α      Diag   Δtime\n",
      "---   ---------------   ---------   ---------   ----   ----   ------\n",
      "  1   -7.846815155123                   -0.70           4.5         \n",
      "  2   -7.852528862776       -2.24       -1.64   0.80    2.2    313ms\n",
      "  3   -7.852636852984       -3.97       -2.73   0.80    1.0   28.3ms\n",
      "  4   -7.852646512498       -5.02       -3.28   0.80    2.2   37.6ms\n",
      "  5   -7.852646674347       -6.79       -4.14   0.80    1.2   29.3ms\n",
      "  6   -7.852646686570       -7.91       -4.81   0.80    2.0   36.3ms\n",
      "  7   -7.852646686724       -9.81       -5.52   0.80    1.2   30.1ms\n",
      "  8   -7.852646686729      -11.24       -6.65   0.80    2.0   35.1ms\n"
     ]
    }
   ],
   "cell_type": "code",
   "source": [
    "scfres_scfv = DFTK.scf_potential_mixing(basis; tol);"
   ],
   "metadata": {},
   "execution_count": 3
  },
  {
   "cell_type": "markdown",
   "source": [
    "## Direct minimization\n",
    "Note: Unlike the other algorithms, tolerance for this one is in the energy,\n",
    "thus we square the density tolerance value to be roughly equivalent."
   ],
   "metadata": {}
  },
  {
   "outputs": [
    {
     "name": "stdout",
     "output_type": "stream",
     "text": [
      "Iter     Function value   Gradient norm \n",
      "     0     1.410660e+01     3.693004e+00\n",
      " * time: 0.07213401794433594\n",
      "     1     1.655654e+00     1.730441e+00\n",
      " * time: 0.34137606620788574\n",
      "     2    -1.749400e+00     2.076657e+00\n",
      " * time: 0.37036705017089844\n",
      "     3    -3.816541e+00     1.736758e+00\n",
      " * time: 0.4119679927825928\n",
      "     4    -5.394421e+00     1.474629e+00\n",
      " * time: 0.45406413078308105\n",
      "     5    -6.885589e+00     7.639165e-01\n",
      " * time: 0.4963979721069336\n",
      "     6    -6.926871e+00     1.188083e+00\n",
      " * time: 0.5251259803771973\n",
      "     7    -7.558573e+00     6.852306e-01\n",
      " * time: 0.5547361373901367\n",
      "     8    -7.614236e+00     8.567379e-01\n",
      " * time: 0.5842530727386475\n",
      "     9    -7.764237e+00     5.397976e-01\n",
      " * time: 0.6139280796051025\n",
      "    10    -7.805636e+00     4.341130e-01\n",
      " * time: 0.6435520648956299\n",
      "    11    -7.824178e+00     1.018804e-01\n",
      " * time: 0.6731381416320801\n",
      "    12    -7.836111e+00     6.754376e-02\n",
      " * time: 0.7025601863861084\n",
      "    13    -7.846258e+00     6.944533e-02\n",
      " * time: 0.7312881946563721\n",
      "    14    -7.847709e+00     4.741148e-02\n",
      " * time: 0.7603781223297119\n",
      "    15    -7.849964e+00     2.478224e-02\n",
      " * time: 0.7891690731048584\n",
      "    16    -7.851642e+00     1.932426e-02\n",
      " * time: 0.8969361782073975\n",
      "    17    -7.852229e+00     1.424736e-02\n",
      " * time: 0.9263570308685303\n",
      "    18    -7.852475e+00     7.782572e-03\n",
      " * time: 0.9555401802062988\n",
      "    19    -7.852594e+00     4.926145e-03\n",
      " * time: 0.9840359687805176\n",
      "    20    -7.852628e+00     1.816598e-03\n",
      " * time: 1.0132420063018799\n",
      "    21    -7.852639e+00     1.393738e-03\n",
      " * time: 1.042227029800415\n",
      "    22    -7.852644e+00     1.108705e-03\n",
      " * time: 1.0715131759643555\n",
      "    23    -7.852646e+00     6.439845e-04\n",
      " * time: 1.1015961170196533\n",
      "    24    -7.852646e+00     4.010196e-04\n",
      " * time: 1.1313681602478027\n",
      "    25    -7.852647e+00     2.700207e-04\n",
      " * time: 1.1610360145568848\n",
      "    26    -7.852647e+00     1.022911e-04\n",
      " * time: 1.1902880668640137\n",
      "    27    -7.852647e+00     6.101282e-05\n",
      " * time: 1.2195770740509033\n",
      "    28    -7.852647e+00     3.632273e-05\n",
      " * time: 1.2486791610717773\n",
      "    29    -7.852647e+00     2.633052e-05\n",
      " * time: 1.2781651020050049\n",
      "    30    -7.852647e+00     1.805886e-05\n",
      " * time: 1.3071701526641846\n",
      "    31    -7.852647e+00     7.025456e-06\n",
      " * time: 1.3360199928283691\n",
      "    32    -7.852647e+00     3.449097e-06\n",
      " * time: 1.3648860454559326\n",
      "    33    -7.852647e+00     1.864545e-06\n",
      " * time: 1.3940789699554443\n",
      "    34    -7.852647e+00     9.907444e-07\n",
      " * time: 1.4229919910430908\n",
      "    35    -7.852647e+00     6.331585e-07\n",
      " * time: 1.452052116394043\n",
      "    36    -7.852647e+00     3.614801e-07\n",
      " * time: 1.4804141521453857\n",
      "    37    -7.852647e+00     2.237592e-07\n",
      " * time: 1.5088331699371338\n",
      "    38    -7.852647e+00     1.669212e-07\n",
      " * time: 1.5380079746246338\n",
      "    39    -7.852647e+00     7.051348e-08\n",
      " * time: 1.5671451091766357\n",
      "    40    -7.852647e+00     5.794687e-08\n",
      " * time: 1.5962650775909424\n",
      "    41    -7.852647e+00     3.126177e-08\n",
      " * time: 1.6253321170806885\n",
      "    42    -7.852647e+00     1.264447e-08\n",
      " * time: 1.6545891761779785\n",
      "    43    -7.852647e+00     6.745581e-09\n",
      " * time: 1.6840341091156006\n",
      "    44    -7.852647e+00     6.454411e-09\n",
      " * time: 1.7129271030426025\n",
      "    45    -7.852647e+00     5.564907e-09\n",
      " * time: 1.7550201416015625\n"
     ]
    }
   ],
   "cell_type": "code",
   "source": [
    "scfres_dm = direct_minimization(basis; tol=tol^2);"
   ],
   "metadata": {},
   "execution_count": 4
  },
  {
   "cell_type": "markdown",
   "source": [
    "## Newton algorithm"
   ],
   "metadata": {}
  },
  {
   "cell_type": "markdown",
   "source": [
    "Start not too far from the solution to ensure convergence:\n",
    "We run first a very crude SCF to get close and then switch to Newton."
   ],
   "metadata": {}
  },
  {
   "outputs": [
    {
     "name": "stdout",
     "output_type": "stream",
     "text": [
      "n     Energy            log10(ΔE)   log10(Δρ)   Diag   Δtime\n",
      "---   ---------------   ---------   ---------   ----   ------\n",
      "  1   -7.846916649413                   -0.70    4.8         \n"
     ]
    }
   ],
   "cell_type": "code",
   "source": [
    "scfres_start = self_consistent_field(basis; tol=0.5);"
   ],
   "metadata": {},
   "execution_count": 5
  },
  {
   "cell_type": "markdown",
   "source": [
    "Remove the virtual orbitals (which Newton cannot treat yet)"
   ],
   "metadata": {}
  },
  {
   "outputs": [
    {
     "name": "stdout",
     "output_type": "stream",
     "text": [
      "n     Energy            log10(ΔE)   log10(Δρ)   Δtime\n",
      "---   ---------------   ---------   ---------   ------\n",
      "  1   -7.852645925390                   -1.64         \n",
      "  2   -7.852646686730       -6.12       -3.71    2.41s\n",
      "  3   -7.852646686730      -13.34       -7.26    160ms\n"
     ]
    }
   ],
   "cell_type": "code",
   "source": [
    "ψ = DFTK.select_occupied_orbitals(basis, scfres_start.ψ, scfres_start.occupation).ψ\n",
    "scfres_newton = newton(basis, ψ; tol);"
   ],
   "metadata": {},
   "execution_count": 6
  },
  {
   "cell_type": "markdown",
   "source": [
    "## Comparison of results"
   ],
   "metadata": {}
  },
  {
   "outputs": [
    {
     "name": "stdout",
     "output_type": "stream",
     "text": [
      "|ρ_newton - ρ_scf|  = 9.610405889860694e-7\n",
      "|ρ_newton - ρ_scfv| = 4.016880975240788e-7\n",
      "|ρ_newton - ρ_dm|   = 1.4424659963979763e-9\n"
     ]
    }
   ],
   "cell_type": "code",
   "source": [
    "println(\"|ρ_newton - ρ_scf|  = \", norm(scfres_newton.ρ - scfres_scf.ρ))\n",
    "println(\"|ρ_newton - ρ_scfv| = \", norm(scfres_newton.ρ - scfres_scfv.ρ))\n",
    "println(\"|ρ_newton - ρ_dm|   = \", norm(scfres_newton.ρ - scfres_dm.ρ))"
   ],
   "metadata": {},
   "execution_count": 7
  }
 ],
 "nbformat_minor": 3,
 "metadata": {
  "language_info": {
   "file_extension": ".jl",
   "mimetype": "application/julia",
   "name": "julia",
   "version": "1.9.2"
  },
  "kernelspec": {
   "name": "julia-1.9",
   "display_name": "Julia 1.9.2",
   "language": "julia"
  }
 },
 "nbformat": 4
}
