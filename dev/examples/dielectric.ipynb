{
 "cells": [
  {
   "cell_type": "markdown",
   "source": [
    "# Eigenvalues of the dielectric matrix\n",
    "\n",
    "We compute a few eigenvalues of the dielectric matrix ($q=0$, $ω=0$) iteratively."
   ],
   "metadata": {}
  },
  {
   "outputs": [
    {
     "name": "stdout",
     "output_type": "stream",
     "text": [
      "n     Energy            log10(ΔE)   log10(Δρ)   Diag\n",
      "---   ---------------   ---------   ---------   ----\n",
      "  1   -7.234954668343                   -0.50    7.0\n",
      "  2   -7.250113563653       -1.82       -1.40    1.0\n",
      "  3   -7.251267496764       -2.94       -2.01    4.0\n",
      "  4   -7.251167033651   +   -4.00       -2.04    4.0\n",
      "  5   -7.251320083079       -3.82       -2.53    3.0\n",
      "  6   -7.251337107183       -4.77       -3.00    3.0\n",
      "  7   -7.251338784696       -5.78       -4.17    2.0\n",
      "  8   -7.251338794557       -8.01       -4.25    4.0\n",
      "  9   -7.251338798422       -8.41       -4.80    3.0\n",
      " 10   -7.251338798620       -9.70       -5.10    1.0\n",
      " 11   -7.251338798699      -10.10       -5.68    3.0\n",
      " 12   -7.251338798704      -11.29       -6.09    3.0\n",
      " 13   -7.251338798704      -12.27       -6.51    2.0\n",
      " 14   -7.251338798705      -13.29       -6.96    3.0\n",
      " 15   -7.251338798705      -13.71       -7.44    2.0\n",
      " 16   -7.251338798705   +  -15.05       -8.00    2.0\n"
     ]
    }
   ],
   "cell_type": "code",
   "source": [
    "using DFTK\n",
    "using Plots\n",
    "using KrylovKit\n",
    "using Printf\n",
    "\n",
    "# Calculation parameters\n",
    "kgrid = [1, 1, 1]\n",
    "Ecut = 5\n",
    "\n",
    "# Silicon lattice\n",
    "a = 10.26\n",
    "lattice = a / 2 .* [[0 1 1.]; [1 0 1.]; [1 1 0.]]\n",
    "Si = ElementPsp(:Si, psp=load_psp(\"hgh/lda/Si-q4\"))\n",
    "atoms     = [Si, Si]\n",
    "positions = [ones(3)/8, -ones(3)/8]\n",
    "\n",
    "# Compute the dielectric operator without symmetries\n",
    "model = model_LDA(lattice, atoms, positions, symmetries=false)\n",
    "basis = PlaneWaveBasis(model; Ecut, kgrid)\n",
    "scfres = self_consistent_field(basis, tol=1e-14);"
   ],
   "metadata": {},
   "execution_count": 1
  },
  {
   "cell_type": "markdown",
   "source": [
    "Applying $ε^† ≔ (1- χ_0 K)$ …"
   ],
   "metadata": {}
  },
  {
   "outputs": [],
   "cell_type": "code",
   "source": [
    "function eps_fun(δρ)\n",
    "    δV = apply_kernel(basis, δρ; ρ=scfres.ρ)\n",
    "    χ0δV = apply_χ0(scfres, δV)\n",
    "    δρ - χ0δV\n",
    "end;"
   ],
   "metadata": {},
   "execution_count": 2
  },
  {
   "cell_type": "markdown",
   "source": [
    "… eagerly diagonalizes the subspace matrix at each iteration"
   ],
   "metadata": {}
  },
  {
   "outputs": [
    {
     "name": "stdout",
     "output_type": "stream",
     "text": [
      "[ Info: Arnoldi iteration step 1: normres = 0.059012153375183084\n",
      "[ Info: Arnoldi iteration step 2: normres = 0.5827627495098956\n",
      "[ Info: Arnoldi iteration step 3: normres = 0.896046307412168\n",
      "[ Info: Arnoldi iteration step 4: normres = 0.29924877404469064\n",
      "[ Info: Arnoldi iteration step 5: normres = 0.25992044051359464\n",
      "[ Info: Arnoldi schursolve in iter 1, krylovdim = 5: 0 values converged, normres = (2.07e-02, 3.43e-02, 1.66e-01, 1.95e-01, 1.65e-02)\n",
      "[ Info: Arnoldi iteration step 6: normres = 0.5248878563652644\n",
      "[ Info: Arnoldi schursolve in iter 1, krylovdim = 6: 0 values converged, normres = (8.05e-03, 4.30e-02, 4.99e-01, 1.19e-01, 9.16e-02)\n",
      "[ Info: Arnoldi iteration step 7: normres = 0.0664222859478326\n",
      "[ Info: Arnoldi schursolve in iter 1, krylovdim = 7: 0 values converged, normres = (3.04e-04, 6.32e-03, 3.21e-02, 2.51e-02, 4.45e-02)\n",
      "[ Info: Arnoldi iteration step 8: normres = 0.09434666662643236\n",
      "[ Info: Arnoldi schursolve in iter 1, krylovdim = 8: 0 values converged, normres = (1.21e-05, 4.12e-04, 2.28e-03, 6.36e-03, 2.33e-02)\n",
      "[ Info: Arnoldi iteration step 9: normres = 0.049178732414857984\n",
      "[ Info: Arnoldi schursolve in iter 1, krylovdim = 9: 0 values converged, normres = (2.58e-07, 1.45e-05, 8.90e-05, 1.06e-03, 1.38e-02)\n",
      "[ Info: Arnoldi iteration step 10: normres = 0.07640984705117411\n",
      "[ Info: Arnoldi schursolve in iter 1, krylovdim = 10: 0 values converged, normres = (8.37e-09, 7.64e-07, 5.21e-06, 2.30e-04, 7.50e-03)\n",
      "[ Info: Arnoldi iteration step 11: normres = 0.0834993527010956\n",
      "[ Info: Arnoldi schursolve in iter 1, krylovdim = 11: 0 values converged, normres = (2.98e-10, 4.45e-08, 3.36e-07, 5.70e-05, 5.24e-03)\n",
      "[ Info: Arnoldi iteration step 12: normres = 0.10892624755573632\n",
      "[ Info: Arnoldi schursolve in iter 1, krylovdim = 12: 0 values converged, normres = (1.42e-11, 3.52e-09, 2.96e-08, 2.26e-05, 1.17e-02)\n",
      "[ Info: Arnoldi iteration step 13: normres = 0.20495019871939885\n",
      "[ Info: Arnoldi schursolve in iter 1, krylovdim = 13: 0 values converged, normres = (1.31e-12, 5.49e-10, 5.16e-09, 2.45e-05, 1.43e-01)\n",
      "[ Info: Arnoldi iteration step 14: normres = 0.34854395935619553\n",
      "[ Info: Arnoldi schursolve in iter 1, krylovdim = 14: 1 values converged, normres = (4.55e-13, 2.25e-09, 3.28e-01, 1.03e-01, 8.09e-04)\n",
      "[ Info: Arnoldi iteration step 15: normres = 0.06408120978725547\n",
      "[ Info: Arnoldi schursolve in iter 1, krylovdim = 15: 1 values converged, normres = (1.31e-14, 5.00e-09, 1.50e-02, 2.20e-05, 9.74e-07)\n",
      "[ Info: Arnoldi iteration step 16: normres = 0.3761342936685886\n",
      "[ Info: Arnoldi schursolve in iter 1, krylovdim = 16: 1 values converged, normres = (4.23e-15, 4.97e-08, 2.18e-02, 8.73e-05, 3.69e-01)\n",
      "[ Info: Arnoldi iteration step 17: normres = 0.021963403108408792\n",
      "[ Info: Arnoldi schursolve in iter 1, krylovdim = 17: 1 values converged, normres = (4.26e-17, 4.19e-04, 4.04e-04, 3.32e-08, 6.11e-03)\n",
      "[ Info: Arnoldi iteration step 18: normres = 0.02643558609170044\n",
      "[ Info: Arnoldi schursolve in iter 1, krylovdim = 18: 1 values converged, normres = (4.69e-19, 1.95e-08, 1.03e-05, 1.19e-04, 1.39e-06)\n",
      "[ Info: Arnoldi iteration step 19: normres = 0.13017739428583514\n",
      "[ Info: Arnoldi schursolve in iter 1, krylovdim = 19: 1 values converged, normres = (2.56e-20, 9.03e-07, 1.04e-07, 1.65e-08, 1.16e-05)\n",
      "[ Info: Arnoldi iteration step 20: normres = 0.053633749869567926\n",
      "[ Info: Arnoldi schursolve in iter 1, krylovdim = 20: 1 values converged, normres = (6.70e-22, 2.29e-08, 3.63e-08, 6.24e-07, 4.75e-08)\n",
      "[ Info: Arnoldi iteration step 21: normres = 0.028809117971207367\n",
      "[ Info: Arnoldi schursolve in iter 1, krylovdim = 21: 1 values converged, normres = (7.98e-24, 5.53e-10, 6.00e-10, 5.40e-09, 1.20e-08)\n",
      "[ Info: Arnoldi iteration step 22: normres = 0.08799488678777069\n",
      "[ Info: Arnoldi schursolve in iter 1, krylovdim = 22: 1 values converged, normres = (2.93e-25, 3.30e-11, 3.52e-11, 2.58e-10, 8.17e-10)\n",
      "[ Info: Arnoldi iteration step 23: normres = 0.4175280627922707\n",
      "[ Info: Arnoldi schursolve in iter 1, krylovdim = 23: 1 values converged, normres = (1.03e-25, 5.01e-11, 5.37e-11, 8.63e-10, 2.52e-09)\n",
      "[ Info: Arnoldi iteration step 24: normres = 0.0202216320223861\n",
      "[ Info: Arnoldi schursolve in iter 1, krylovdim = 24: 1 values converged, normres = (9.70e-28, 1.30e-12, 1.39e-12, 1.27e-03, 9.00e-04)\n",
      "[ Info: Arnoldi iteration step 25: normres = 0.1017711261509409\n",
      "[ Info: Arnoldi schursolve in iter 1, krylovdim = 25: 3 values converged, normres = (4.12e-29, 8.89e-14, 9.50e-14, 6.90e-09, 3.51e-08)\n",
      "[ Info: Arnoldi iteration step 26: normres = 0.03419688686715392\n",
      "[ Info: Arnoldi schursolve in iter 1, krylovdim = 26: 3 values converged, normres = (6.28e-31, 2.28e-15, 2.44e-15, 4.41e-06, 1.70e-06)\n",
      "[ Info: Arnoldi iteration step 27: normres = 0.0477778781187121\n",
      "[ Info: Arnoldi schursolve in iter 1, krylovdim = 27: 3 values converged, normres = (1.23e-32, 7.15e-17, 7.65e-17, 2.03e-07, 6.18e-08)\n",
      "[ Info: Arnoldi iteration step 28: normres = 0.06410224101687695\n",
      "[ Info: Arnoldi schursolve in iter 1, krylovdim = 28: 3 values converged, normres = (3.50e-34, 3.38e-18, 3.61e-18, 3.48e-09, 7.37e-09)\n",
      "[ Info: Arnoldi iteration step 29: normres = 0.015147835621548948\n",
      "[ Info: Arnoldi schursolve in iter 1, krylovdim = 29: 3 values converged, normres = (2.19e-36, 3.39e-20, 3.62e-20, 1.18e-11, 2.34e-10)\n",
      "[ Info: Arnoldi iteration step 30: normres = 0.21412198147688966\n",
      "[ Info: Arnoldi schursolve in iter 1, krylovdim = 30: 3 values converged, normres = (2.10e-37, 5.47e-21, 5.85e-21, 2.98e-12, 4.22e-11)\n",
      "[ Info: Arnoldi schursolve in iter 2, krylovdim = 19: 3 values converged, normres = (2.10e-37, 5.47e-21, 5.85e-21, 2.98e-12, 4.22e-11)\n",
      "[ Info: Arnoldi iteration step 20: normres = 0.03763786362851959\n",
      "[ Info: Arnoldi schursolve in iter 2, krylovdim = 20: 3 values converged, normres = (3.65e-39, 1.64e-22, 1.75e-22, 9.76e-14, 1.42e-12)\n",
      "[ Info: Arnoldi iteration step 21: normres = 0.07407231331612617\n",
      "┌ Info: Arnoldi eigsolve finished after 2 iterations:\n",
      "│ *  6 eigenvalues converged\n",
      "│ *  norm of residuals = (1.1384800638995085e-40, 8.343785147747783e-24, 1.1675036556912544e-23, 7.70476106055745e-14, 7.70476106055745e-14, 3.5850855506562894e-14)\n",
      "└ *  number of operations = 32\n"
     ]
    }
   ],
   "cell_type": "code",
   "source": [
    "eigsolve(eps_fun, randn(size(scfres.ρ)), 5, :LM; eager=true, verbosity=3);"
   ],
   "metadata": {},
   "execution_count": 3
  }
 ],
 "nbformat_minor": 3,
 "metadata": {
  "language_info": {
   "file_extension": ".jl",
   "mimetype": "application/julia",
   "name": "julia",
   "version": "1.8.2"
  },
  "kernelspec": {
   "name": "julia-1.8",
   "display_name": "Julia 1.8.2",
   "language": "julia"
  }
 },
 "nbformat": 4
}
