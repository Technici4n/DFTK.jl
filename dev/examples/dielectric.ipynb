{
 "cells": [
  {
   "cell_type": "markdown",
   "source": [
    "# Eigenvalues of the dielectric matrix\n",
    "\n",
    "We compute a few eigenvalues of the dielectric matrix ($q=0$, $ω=0$) iteratively."
   ],
   "metadata": {}
  },
  {
   "outputs": [
    {
     "name": "stdout",
     "output_type": "stream",
     "text": [
      "n     Energy            log10(ΔE)   log10(Δρ)   Diag   Δtime\n",
      "---   ---------------   ---------   ---------   ----   ------\n",
      "  1   -7.235395608992                   -0.50    7.0         \n",
      "  2   -7.250369554401       -1.82       -1.40    1.0   8.95ms\n",
      "  3   -7.251166928630       -3.10       -2.13    1.0   8.91ms\n",
      "  4   -7.251221238545       -4.27       -2.08    2.0   10.6ms\n",
      "  5   -7.251332515341       -3.95       -2.68    1.0   8.64ms\n",
      "  6   -7.251338046153       -5.26       -3.13    1.0   8.78ms\n",
      "  7   -7.251338725370       -6.17       -3.66    1.0   8.97ms\n",
      "  8   -7.251338794101       -7.16       -4.18    2.0   10.8ms\n",
      "  9   -7.251338798210       -8.39       -4.72    2.0   10.8ms\n",
      " 10   -7.251338798648       -9.36       -5.16    2.0   11.0ms\n",
      " 11   -7.251338798697      -10.31       -5.61    1.0   8.87ms\n",
      " 12   -7.251338798704      -11.15       -6.04    2.0   10.7ms\n",
      " 13   -7.251338798704      -12.14       -6.53    1.0   58.5ms\n",
      " 14   -7.251338798705      -12.81       -7.16    2.0   10.9ms\n",
      " 15   -7.251338798705      -14.27       -7.56    2.0   10.6ms\n",
      " 16   -7.251338798705      -14.75       -7.90    2.0   10.7ms\n",
      " 17   -7.251338798705   +    -Inf       -8.28    2.0   10.7ms\n"
     ]
    }
   ],
   "cell_type": "code",
   "source": [
    "using DFTK\n",
    "using Plots\n",
    "using KrylovKit\n",
    "using Printf\n",
    "\n",
    "# Calculation parameters\n",
    "kgrid = [1, 1, 1]\n",
    "Ecut = 5\n",
    "\n",
    "# Silicon lattice\n",
    "a = 10.26\n",
    "lattice = a / 2 .* [[0 1 1.]; [1 0 1.]; [1 1 0.]]\n",
    "Si = ElementPsp(:Si, psp=load_psp(\"hgh/lda/Si-q4\"))\n",
    "atoms     = [Si, Si]\n",
    "positions = [ones(3)/8, -ones(3)/8]\n",
    "\n",
    "# Compute the dielectric operator without symmetries\n",
    "model  = model_LDA(lattice, atoms, positions, symmetries=false)\n",
    "basis  = PlaneWaveBasis(model; Ecut, kgrid)\n",
    "scfres = self_consistent_field(basis, tol=1e-8);"
   ],
   "metadata": {},
   "execution_count": 1
  },
  {
   "cell_type": "markdown",
   "source": [
    "Applying $ε^† ≔ (1- χ_0 K)$ …"
   ],
   "metadata": {}
  },
  {
   "outputs": [],
   "cell_type": "code",
   "source": [
    "function eps_fun(δρ)\n",
    "    δV = apply_kernel(basis, δρ; ρ=scfres.ρ)\n",
    "    χ0δV = apply_χ0(scfres, δV)\n",
    "    δρ - χ0δV\n",
    "end;"
   ],
   "metadata": {},
   "execution_count": 2
  },
  {
   "cell_type": "markdown",
   "source": [
    "… eagerly diagonalizes the subspace matrix at each iteration"
   ],
   "metadata": {}
  },
  {
   "outputs": [
    {
     "name": "stdout",
     "output_type": "stream",
     "text": [
      "[ Info: Arnoldi iteration step 1: normres = 0.060104908004922034\n",
      "[ Info: Arnoldi iteration step 2: normres = 0.39039014337141453\n",
      "[ Info: Arnoldi iteration step 3: normres = 1.0106381431586342\n",
      "[ Info: Arnoldi iteration step 4: normres = 0.2899908596323545\n",
      "[ Info: Arnoldi iteration step 5: normres = 0.4122957338342827\n",
      "[ Info: Arnoldi schursolve in iter 1, krylovdim = 5: 0 values converged, normres = (4.21e-02, 4.00e-02, 2.97e-01, 2.77e-01, 3.81e-02)\n",
      "[ Info: Arnoldi iteration step 6: normres = 0.4174810202224659\n",
      "[ Info: Arnoldi schursolve in iter 1, krylovdim = 6: 0 values converged, normres = (1.54e-02, 1.93e-01, 3.46e-01, 1.05e-01, 7.50e-02)\n",
      "[ Info: Arnoldi iteration step 7: normres = 0.05194481170322372\n",
      "[ Info: Arnoldi schursolve in iter 1, krylovdim = 7: 0 values converged, normres = (4.21e-04, 1.62e-02, 4.86e-03, 2.11e-02, 3.72e-02)\n",
      "[ Info: Arnoldi iteration step 8: normres = 0.10655776470876181\n",
      "[ Info: Arnoldi schursolve in iter 1, krylovdim = 8: 0 values converged, normres = (1.92e-05, 1.21e-03, 4.00e-04, 6.69e-03, 3.33e-02)\n",
      "[ Info: Arnoldi iteration step 9: normres = 0.06597251078197545\n",
      "[ Info: Arnoldi schursolve in iter 1, krylovdim = 9: 0 values converged, normres = (5.52e-07, 5.76e-05, 2.12e-05, 1.60e-03, 3.73e-02)\n",
      "[ Info: Arnoldi iteration step 10: normres = 0.09183247519509738\n",
      "[ Info: Arnoldi schursolve in iter 1, krylovdim = 10: 0 values converged, normres = (2.18e-08, 3.74e-06, 1.52e-06, 4.66e-04, 2.89e-02)\n",
      "[ Info: Arnoldi iteration step 11: normres = 0.10219144824330272\n",
      "[ Info: Arnoldi schursolve in iter 1, krylovdim = 11: 0 values converged, normres = (9.82e-10, 2.80e-07, 1.27e-07, 1.85e-04, 4.12e-02)\n",
      "[ Info: Arnoldi iteration step 12: normres = 0.08745197458038224\n",
      "[ Info: Arnoldi schursolve in iter 1, krylovdim = 12: 0 values converged, normres = (3.74e-11, 1.77e-08, 8.94e-09, 6.01e-05, 3.86e-02)\n",
      "[ Info: Arnoldi iteration step 13: normres = 0.15992880279056818\n",
      "[ Info: Arnoldi schursolve in iter 1, krylovdim = 13: 0 values converged, normres = (2.56e-12, 1.98e-09, 1.11e-09, 3.09e-05, 3.79e-02)\n",
      "[ Info: Arnoldi iteration step 14: normres = 0.24623253851377952\n",
      "[ Info: Arnoldi schursolve in iter 1, krylovdim = 14: 1 values converged, normres = (5.73e-13, 2.59e-09, 5.85e-09, 2.44e-01, 1.66e-03)\n",
      "[ Info: Arnoldi iteration step 15: normres = 0.1994397123475925\n",
      "[ Info: Arnoldi schursolve in iter 1, krylovdim = 15: 1 values converged, normres = (4.99e-14, 4.93e-10, 3.62e-02, 5.37e-04, 6.89e-06)\n",
      "[ Info: Arnoldi iteration step 16: normres = 0.12946850985769415\n",
      "[ Info: Arnoldi schursolve in iter 1, krylovdim = 16: 1 values converged, normres = (6.89e-15, 4.44e-09, 1.26e-01, 1.47e-02, 1.97e-02)\n",
      "[ Info: Arnoldi iteration step 17: normres = 0.01913948777841157\n",
      "[ Info: Arnoldi schursolve in iter 1, krylovdim = 17: 1 values converged, normres = (5.46e-17, 1.10e-03, 1.08e-03, 3.73e-04, 2.79e-04)\n",
      "[ Info: Arnoldi iteration step 18: normres = 0.04071991373066375\n",
      "[ Info: Arnoldi schursolve in iter 1, krylovdim = 18: 1 values converged, normres = (9.18e-19, 5.77e-07, 4.14e-05, 2.96e-08, 1.38e-05)\n",
      "[ Info: Arnoldi iteration step 19: normres = 0.12739177256289774\n",
      "[ Info: Arnoldi schursolve in iter 1, krylovdim = 19: 1 values converged, normres = (4.93e-20, 9.53e-08, 3.60e-06, 4.63e-07, 1.24e-06)\n",
      "[ Info: Arnoldi iteration step 20: normres = 0.06767384571874113\n",
      "[ Info: Arnoldi schursolve in iter 1, krylovdim = 20: 1 values converged, normres = (1.63e-21, 2.03e-07, 6.88e-08, 4.66e-08, 7.71e-08)\n",
      "[ Info: Arnoldi iteration step 21: normres = 0.023115010421492166\n",
      "[ Info: Arnoldi schursolve in iter 1, krylovdim = 21: 1 values converged, normres = (1.56e-23, 1.85e-09, 2.73e-09, 1.51e-09, 2.61e-10)\n",
      "[ Info: Arnoldi iteration step 22: normres = 0.07354711589197233\n",
      "[ Info: Arnoldi schursolve in iter 1, krylovdim = 22: 1 values converged, normres = (4.77e-25, 1.07e-10, 1.21e-10, 4.91e-12, 8.26e-11)\n",
      "[ Info: Arnoldi iteration step 23: normres = 0.5046686130744344\n",
      "[ Info: Arnoldi schursolve in iter 1, krylovdim = 23: 1 values converged, normres = (1.93e-25, 1.58e-10, 1.82e-10, 1.20e-11, 2.10e-10)\n",
      "[ Info: Arnoldi iteration step 24: normres = 0.016289793937662226\n",
      "[ Info: Arnoldi schursolve in iter 1, krylovdim = 24: 1 values converged, normres = (1.55e-27, 4.15e-12, 4.70e-12, 1.66e-04, 1.67e-04)\n",
      "[ Info: Arnoldi iteration step 25: normres = 0.06170633683505747\n",
      "[ Info: Arnoldi schursolve in iter 1, krylovdim = 25: 3 values converged, normres = (3.94e-29, 1.69e-13, 1.91e-13, 1.57e-05, 2.83e-06)\n",
      "[ Info: Arnoldi iteration step 26: normres = 0.04939092626651406\n",
      "[ Info: Arnoldi schursolve in iter 1, krylovdim = 26: 3 values converged, normres = (8.77e-31, 6.37e-15, 7.22e-15, 1.61e-09, 4.89e-10)\n",
      "[ Info: Arnoldi iteration step 27: normres = 0.03238533193224319\n",
      "[ Info: Arnoldi schursolve in iter 1, krylovdim = 27: 3 values converged, normres = (1.17e-32, 1.36e-16, 1.53e-16, 1.91e-07, 1.05e-07)\n",
      "[ Info: Arnoldi iteration step 28: normres = 0.08743828398574474\n",
      "[ Info: Arnoldi schursolve in iter 1, krylovdim = 28: 3 values converged, normres = (4.45e-34, 8.53e-18, 9.66e-18, 9.73e-09, 5.69e-09)\n",
      "[ Info: Arnoldi iteration step 29: normres = 0.01590910975111076\n",
      "[ Info: Arnoldi schursolve in iter 1, krylovdim = 29: 3 values converged, normres = (2.97e-36, 9.21e-20, 1.04e-19, 1.04e-10, 8.58e-11)\n",
      "[ Info: Arnoldi iteration step 30: normres = 0.12468139643339918\n",
      "[ Info: Arnoldi schursolve in iter 1, krylovdim = 30: 3 values converged, normres = (1.56e-37, 7.83e-21, 8.87e-21, 9.50e-12, 8.80e-12)\n",
      "[ Info: Arnoldi schursolve in iter 2, krylovdim = 19: 3 values converged, normres = (1.56e-37, 7.83e-21, 8.87e-21, 9.50e-12, 8.80e-12)\n",
      "[ Info: Arnoldi iteration step 20: normres = 0.12916357389517463\n",
      "[ Info: Arnoldi schursolve in iter 2, krylovdim = 20: 3 values converged, normres = (9.65e-39, 8.56e-22, 9.69e-22, 1.18e-12, 2.23e-12)\n",
      "[ Info: Arnoldi iteration step 21: normres = 0.06177903958899755\n",
      "┌ Info: Arnoldi eigsolve finished after 2 iterations:\n",
      "│ *  6 eigenvalues converged\n",
      "│ *  norm of residuals = (2.6366739884110072e-40, 3.9237850062842394e-23, 5.681839794473866e-23, 6.04665250431765e-14, 3.86184144094246e-14, 3.86184144094246e-14)\n",
      "└ *  number of operations = 32\n"
     ]
    }
   ],
   "cell_type": "code",
   "source": [
    "eigsolve(eps_fun, randn(size(scfres.ρ)), 5, :LM; eager=true, verbosity=3);"
   ],
   "metadata": {},
   "execution_count": 3
  }
 ],
 "nbformat_minor": 3,
 "metadata": {
  "language_info": {
   "file_extension": ".jl",
   "mimetype": "application/julia",
   "name": "julia",
   "version": "1.8.5"
  },
  "kernelspec": {
   "name": "julia-1.8",
   "display_name": "Julia 1.8.5",
   "language": "julia"
  }
 },
 "nbformat": 4
}
