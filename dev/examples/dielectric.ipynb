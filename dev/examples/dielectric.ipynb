{
 "cells": [
  {
   "cell_type": "markdown",
   "source": [
    "# Eigenvalues of the dielectric matrix\n",
    "\n",
    "We compute a few eigenvalues of the dielectric matrix ($q=0$, $ω=0$) iteratively."
   ],
   "metadata": {}
  },
  {
   "outputs": [
    {
     "name": "stdout",
     "output_type": "stream",
     "text": [
      "n     Energy            log10(ΔE)   log10(Δρ)   Diag   Δtime\n",
      "---   ---------------   ---------   ---------   ----   ------\n",
      "  1   -7.233467826328                   -0.50    7.0         \n",
      "  2   -7.249939741994       -1.78       -1.39    1.0   8.13ms\n",
      "  3   -7.250992270721       -2.98       -1.84    2.0   9.00ms\n",
      "  4   -7.250975443861   +   -4.77       -1.88    1.0   7.49ms\n",
      "  5   -7.251330983042       -3.45       -2.71    1.0   7.77ms\n",
      "  6   -7.251337742634       -5.17       -3.08    1.0   7.55ms\n",
      "  7   -7.251338674079       -6.03       -3.59    2.0   9.08ms\n",
      "  8   -7.251338789676       -6.94       -4.08    2.0   9.47ms\n",
      "  9   -7.251338797645       -8.10       -4.56    2.0   10.1ms\n",
      " 10   -7.251338798602       -9.02       -5.23    1.0   8.28ms\n",
      " 11   -7.251338798692      -10.04       -5.43    3.0   11.3ms\n",
      " 12   -7.251338798701      -11.09       -5.79    1.0   8.36ms\n",
      " 13   -7.251338798704      -11.50       -6.17    2.0   9.24ms\n",
      " 14   -7.251338798704      -12.18       -6.69    1.0   8.12ms\n",
      " 15   -7.251338798705      -13.36       -6.99    2.0   9.39ms\n",
      " 16   -7.251338798705      -14.21       -7.65    1.0   7.95ms\n",
      " 17   -7.251338798705   +  -14.75       -7.85    3.0   10.7ms\n",
      " 18   -7.251338798705      -14.27       -8.54    1.0   7.85ms\n"
     ]
    }
   ],
   "cell_type": "code",
   "source": [
    "using DFTK\n",
    "using Plots\n",
    "using KrylovKit\n",
    "using Printf\n",
    "\n",
    "# Calculation parameters\n",
    "kgrid = [1, 1, 1]\n",
    "Ecut = 5\n",
    "\n",
    "# Silicon lattice\n",
    "a = 10.26\n",
    "lattice = a / 2 .* [[0 1 1.]; [1 0 1.]; [1 1 0.]]\n",
    "Si = ElementPsp(:Si, psp=load_psp(\"hgh/lda/Si-q4\"))\n",
    "atoms     = [Si, Si]\n",
    "positions = [ones(3)/8, -ones(3)/8]\n",
    "\n",
    "# Compute the dielectric operator without symmetries\n",
    "model  = model_LDA(lattice, atoms, positions, symmetries=false)\n",
    "basis  = PlaneWaveBasis(model; Ecut, kgrid)\n",
    "scfres = self_consistent_field(basis, tol=1e-8);"
   ],
   "metadata": {},
   "execution_count": 1
  },
  {
   "cell_type": "markdown",
   "source": [
    "Applying $ε^† ≔ (1- χ_0 K)$ …"
   ],
   "metadata": {}
  },
  {
   "outputs": [],
   "cell_type": "code",
   "source": [
    "function eps_fun(δρ)\n",
    "    δV = apply_kernel(basis, δρ; ρ=scfres.ρ)\n",
    "    χ0δV = apply_χ0(scfres, δV)\n",
    "    δρ - χ0δV\n",
    "end;"
   ],
   "metadata": {},
   "execution_count": 2
  },
  {
   "cell_type": "markdown",
   "source": [
    "… eagerly diagonalizes the subspace matrix at each iteration"
   ],
   "metadata": {}
  },
  {
   "outputs": [
    {
     "name": "stdout",
     "output_type": "stream",
     "text": [
      "[ Info: Arnoldi iteration step 1: normres = 0.08166851724423425\n",
      "[ Info: Arnoldi iteration step 2: normres = 0.39624424732517033\n",
      "[ Info: Arnoldi iteration step 3: normres = 0.997028246827168\n",
      "[ Info: Arnoldi iteration step 4: normres = 0.33404523473969966\n",
      "[ Info: Arnoldi iteration step 5: normres = 0.5694765773092634\n",
      "[ Info: Arnoldi schursolve in iter 1, krylovdim = 5: 0 values converged, normres = (7.05e-02, 7.59e-02, 4.61e-01, 3.18e-01, 1.81e-02)\n",
      "[ Info: Arnoldi iteration step 6: normres = 0.23360054995581767\n",
      "[ Info: Arnoldi schursolve in iter 1, krylovdim = 6: 0 values converged, normres = (1.36e-02, 9.42e-02, 1.73e-01, 9.02e-02, 7.41e-02)\n",
      "[ Info: Arnoldi iteration step 7: normres = 0.06482957633779367\n",
      "[ Info: Arnoldi schursolve in iter 1, krylovdim = 7: 0 values converged, normres = (4.06e-04, 5.42e-03, 9.12e-03, 2.34e-02, 5.18e-02)\n",
      "[ Info: Arnoldi iteration step 8: normres = 0.12693631445370876\n",
      "[ Info: Arnoldi schursolve in iter 1, krylovdim = 8: 0 values converged, normres = (2.21e-05, 4.85e-04, 9.03e-04, 9.15e-03, 5.04e-02)\n",
      "[ Info: Arnoldi iteration step 9: normres = 0.05771952074723057\n",
      "[ Info: Arnoldi schursolve in iter 1, krylovdim = 9: 0 values converged, normres = (5.59e-07, 2.04e-05, 4.24e-05, 2.15e-03, 3.48e-02)\n",
      "[ Info: Arnoldi iteration step 10: normres = 0.0936732521652551\n",
      "[ Info: Arnoldi schursolve in iter 1, krylovdim = 10: 0 values converged, normres = (2.32e-08, 1.42e-06, 3.28e-06, 8.08e-04, 3.17e-02)\n",
      "[ Info: Arnoldi iteration step 11: normres = 0.09236187829089271\n",
      "[ Info: Arnoldi schursolve in iter 1, krylovdim = 11: 0 values converged, normres = (9.12e-10, 9.07e-08, 2.33e-07, 2.24e-04, 1.77e-02)\n",
      "[ Info: Arnoldi iteration step 12: normres = 0.054375812989660384\n",
      "[ Info: Arnoldi schursolve in iter 1, krylovdim = 12: 0 values converged, normres = (2.15e-11, 3.52e-09, 1.00e-08, 4.17e-05, 7.75e-03)\n",
      "[ Info: Arnoldi iteration step 13: normres = 0.09101690398483366\n",
      "[ Info: Arnoldi schursolve in iter 1, krylovdim = 13: 1 values converged, normres = (8.21e-13, 2.18e-10, 6.86e-10, 1.01e-05, 3.19e-03)\n",
      "[ Info: Arnoldi iteration step 14: normres = 0.5880643828895149\n",
      "[ Info: Arnoldi schursolve in iter 1, krylovdim = 14: 1 values converged, normres = (4.07e-13, 4.63e-10, 2.95e-09, 5.85e-01, 1.61e-02)\n",
      "[ Info: Arnoldi iteration step 15: normres = 0.06790166492578985\n",
      "[ Info: Arnoldi schursolve in iter 1, krylovdim = 15: 1 values converged, normres = (1.48e-14, 1.04e-09, 2.91e-02, 8.78e-07, 1.93e-06)\n",
      "[ Info: Arnoldi iteration step 16: normres = 0.47363373155276706\n",
      "[ Info: Arnoldi schursolve in iter 1, krylovdim = 16: 1 values converged, normres = (5.76e-15, 2.72e-09, 4.43e-02, 9.29e-05, 4.71e-01)\n",
      "[ Info: Arnoldi iteration step 17: normres = 0.02874304860313918\n",
      "[ Info: Arnoldi schursolve in iter 1, krylovdim = 17: 1 values converged, normres = (7.98e-17, 1.11e-03, 1.53e-03, 2.69e-07, 1.03e-02)\n",
      "[ Info: Arnoldi iteration step 18: normres = 0.027468866694721445\n",
      "[ Info: Arnoldi schursolve in iter 1, krylovdim = 18: 1 values converged, normres = (9.10e-19, 2.69e-08, 3.47e-05, 1.51e-08, 2.07e-04)\n",
      "[ Info: Arnoldi iteration step 19: normres = 0.12046508737341427\n",
      "[ Info: Arnoldi schursolve in iter 1, krylovdim = 19: 1 values converged, normres = (4.55e-20, 3.01e-07, 2.77e-06, 9.96e-07, 1.83e-05)\n",
      "[ Info: Arnoldi iteration step 20: normres = 0.05378698846574927\n",
      "[ Info: Arnoldi schursolve in iter 1, krylovdim = 20: 1 values converged, normres = (1.21e-21, 5.10e-08, 1.24e-07, 5.71e-09, 1.01e-06)\n",
      "[ Info: Arnoldi iteration step 21: normres = 0.02848753907596688\n",
      "[ Info: Arnoldi schursolve in iter 1, krylovdim = 21: 1 values converged, normres = (1.42e-23, 2.27e-09, 1.10e-09, 6.05e-09, 2.01e-08)\n",
      "[ Info: Arnoldi iteration step 22: normres = 0.026833845542829003\n",
      "[ Info: Arnoldi schursolve in iter 1, krylovdim = 22: 1 values converged, normres = (1.59e-25, 4.12e-11, 1.93e-11, 8.66e-11, 4.07e-10)\n",
      "[ Info: Arnoldi iteration step 23: normres = 0.10768586832348424\n",
      "[ Info: Arnoldi schursolve in iter 1, krylovdim = 23: 1 values converged, normres = (7.07e-27, 2.92e-12, 1.36e-12, 6.69e-12, 3.17e-11)\n",
      "[ Info: Arnoldi iteration step 24: normres = 0.1903852591101617\n",
      "[ Info: Arnoldi schursolve in iter 1, krylovdim = 24: 1 values converged, normres = (1.22e-27, 2.86e-12, 1.33e-12, 2.37e-11, 1.12e-10)\n",
      "[ Info: Arnoldi iteration step 25: normres = 0.08397363987618627\n",
      "[ Info: Arnoldi schursolve in iter 1, krylovdim = 25: 3 values converged, normres = (4.49e-29, 2.23e-13, 1.04e-13, 9.62e-03, 6.95e-03)\n",
      "[ Info: Arnoldi iteration step 26: normres = 0.04576510338587558\n",
      "[ Info: Arnoldi schursolve in iter 1, krylovdim = 26: 3 values converged, normres = (9.17e-31, 7.66e-15, 3.57e-15, 1.34e-08, 8.61e-07)\n",
      "[ Info: Arnoldi iteration step 27: normres = 0.07042363342103611\n",
      "[ Info: Arnoldi schursolve in iter 1, krylovdim = 27: 3 values converged, normres = (2.68e-32, 3.60e-16, 1.68e-16, 9.62e-11, 4.67e-10)\n",
      "[ Info: Arnoldi iteration step 28: normres = 0.036263347866938626\n",
      "[ Info: Arnoldi schursolve in iter 1, krylovdim = 28: 3 values converged, normres = (4.30e-34, 9.62e-18, 4.48e-18, 5.39e-07, 4.15e-07)\n",
      "[ Info: Arnoldi iteration step 29: normres = 0.021192137608849648\n",
      "[ Info: Arnoldi schursolve in iter 1, krylovdim = 29: 3 values converged, normres = (3.74e-36, 1.33e-19, 6.21e-20, 8.79e-09, 6.15e-09)\n",
      "[ Info: Arnoldi iteration step 30: normres = 0.19907422090290283\n",
      "[ Info: Arnoldi schursolve in iter 1, krylovdim = 30: 3 values converged, normres = (3.45e-37, 2.13e-20, 9.89e-21, 1.89e-10, 1.93e-09)\n",
      "[ Info: Arnoldi schursolve in iter 2, krylovdim = 19: 3 values converged, normres = (3.45e-37, 2.13e-20, 9.89e-21, 1.89e-10, 1.93e-09)\n",
      "[ Info: Arnoldi iteration step 20: normres = 0.031158060871723663\n",
      "[ Info: Arnoldi schursolve in iter 2, krylovdim = 20: 3 values converged, normres = (4.77e-39, 4.96e-22, 2.31e-22, 4.68e-11, 1.93e-11)\n",
      "[ Info: Arnoldi iteration step 21: normres = 0.07955200638467648\n",
      "[ Info: Arnoldi schursolve in iter 2, krylovdim = 21: 3 values converged, normres = (1.59e-40, 2.66e-23, 1.24e-23, 2.73e-12, 1.27e-12)\n",
      "[ Info: Arnoldi iteration step 22: normres = 0.023642873401706205\n",
      "┌ Info: Arnoldi eigsolve finished after 2 iterations:\n",
      "│ *  6 eigenvalues converged\n",
      "│ *  norm of residuals = (1.6034410487337867e-42, 4.393399604930269e-25, 1.6435115968296385e-25, 4.9849184365121625e-14, 1.196223838831479e-14, 2.1306664699461518e-15)\n",
      "└ *  number of operations = 33\n"
     ]
    }
   ],
   "cell_type": "code",
   "source": [
    "eigsolve(eps_fun, randn(size(scfres.ρ)), 5, :LM; eager=true, verbosity=3);"
   ],
   "metadata": {},
   "execution_count": 3
  }
 ],
 "nbformat_minor": 3,
 "metadata": {
  "language_info": {
   "file_extension": ".jl",
   "mimetype": "application/julia",
   "name": "julia",
   "version": "1.9.0"
  },
  "kernelspec": {
   "name": "julia-1.9",
   "display_name": "Julia 1.9.0",
   "language": "julia"
  }
 },
 "nbformat": 4
}
