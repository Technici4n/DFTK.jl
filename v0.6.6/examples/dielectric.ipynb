{
 "cells": [
  {
   "cell_type": "markdown",
   "source": [
    "# Eigenvalues of the dielectric matrix\n",
    "\n",
    "We compute a few eigenvalues of the dielectric matrix ($q=0$, $ω=0$) iteratively."
   ],
   "metadata": {}
  },
  {
   "outputs": [
    {
     "name": "stdout",
     "output_type": "stream",
     "text": [
      "n     Energy            log10(ΔE)   log10(Δρ)   Diag   Δtime\n",
      "---   ---------------   ---------   ---------   ----   ------\n",
      "  1   -7.235142820955                   -0.50    9.0         \n",
      "  2   -7.250462239317       -1.81       -1.41    1.0   8.60ms\n",
      "  3   -7.251225826967       -3.12       -2.27    1.0   9.02ms\n",
      "  4   -7.251326019738       -4.00       -2.45    2.0   10.9ms\n",
      "  5   -7.251334967855       -5.05       -2.82    1.0   9.38ms\n",
      "  6   -7.251338097392       -5.50       -3.14    2.0   10.7ms\n",
      "  7   -7.251338658450       -6.25       -3.51    1.0   9.22ms\n",
      "  8   -7.251338776463       -6.93       -3.79    1.0   9.65ms\n",
      "  9   -7.251338795711       -7.72       -4.24    1.0   9.47ms\n",
      " 10   -7.251338798353       -8.58       -4.75    2.0   10.9ms\n",
      " 11   -7.251338798670       -9.50       -5.39    2.0   11.4ms\n",
      " 12   -7.251338798702      -10.49       -5.84    3.0   12.0ms\n",
      " 13   -7.251338798704      -11.67       -6.35    1.0   9.44ms\n",
      " 14   -7.251338798704      -12.62       -6.52    3.0   12.4ms\n",
      " 15   -7.251338798705      -13.03       -7.09    1.0   10.9ms\n",
      " 16   -7.251338798705      -14.01       -7.25    2.0   12.5ms\n",
      " 17   -7.251338798705      -14.45       -7.99    2.0   10.3ms\n",
      " 18   -7.251338798705      -14.45       -8.33    2.0   10.3ms\n"
     ]
    }
   ],
   "cell_type": "code",
   "source": [
    "using DFTK\n",
    "using Plots\n",
    "using KrylovKit\n",
    "using Printf\n",
    "\n",
    "# Calculation parameters\n",
    "kgrid = [1, 1, 1]\n",
    "Ecut = 5\n",
    "\n",
    "# Silicon lattice\n",
    "a = 10.26\n",
    "lattice = a / 2 .* [[0 1 1.]; [1 0 1.]; [1 1 0.]]\n",
    "Si = ElementPsp(:Si, psp=load_psp(\"hgh/lda/Si-q4\"))\n",
    "atoms     = [Si, Si]\n",
    "positions = [ones(3)/8, -ones(3)/8]\n",
    "\n",
    "# Compute the dielectric operator without symmetries\n",
    "model  = model_LDA(lattice, atoms, positions, symmetries=false)\n",
    "basis  = PlaneWaveBasis(model; Ecut, kgrid)\n",
    "scfres = self_consistent_field(basis, tol=1e-8);"
   ],
   "metadata": {},
   "execution_count": 1
  },
  {
   "cell_type": "markdown",
   "source": [
    "Applying $ε^† ≔ (1- χ_0 K)$ …"
   ],
   "metadata": {}
  },
  {
   "outputs": [],
   "cell_type": "code",
   "source": [
    "function eps_fun(δρ)\n",
    "    δV = apply_kernel(basis, δρ; ρ=scfres.ρ)\n",
    "    χ0δV = apply_χ0(scfres, δV)\n",
    "    δρ - χ0δV\n",
    "end;"
   ],
   "metadata": {},
   "execution_count": 2
  },
  {
   "cell_type": "markdown",
   "source": [
    "… eagerly diagonalizes the subspace matrix at each iteration"
   ],
   "metadata": {}
  },
  {
   "outputs": [
    {
     "name": "stdout",
     "output_type": "stream",
     "text": [
      "[ Info: Arnoldi iteration step 1: normres = 0.04899439555179215\n",
      "[ Info: Arnoldi iteration step 2: normres = 0.37903979087514866\n",
      "[ Info: Arnoldi iteration step 3: normres = 0.7142359935606966\n",
      "[ Info: Arnoldi iteration step 4: normres = 0.5157018984544791\n",
      "[ Info: Arnoldi iteration step 5: normres = 0.6213796391360442\n",
      "[ Info: Arnoldi schursolve in iter 1, krylovdim = 5: 0 values converged, normres = (1.60e-01, 8.22e-02, 5.44e-01, 2.40e-01, 2.30e-02)\n",
      "[ Info: Arnoldi iteration step 6: normres = 0.22694711546222834\n",
      "[ Info: Arnoldi schursolve in iter 1, krylovdim = 6: 0 values converged, normres = (3.13e-02, 1.38e-01, 1.30e-01, 9.64e-02, 5.03e-02)\n",
      "[ Info: Arnoldi iteration step 7: normres = 0.12952985975558223\n",
      "[ Info: Arnoldi schursolve in iter 1, krylovdim = 7: 0 values converged, normres = (1.93e-03, 1.57e-02, 1.36e-02, 8.76e-02, 8.21e-02)\n",
      "[ Info: Arnoldi iteration step 8: normres = 0.0975952518612646\n",
      "[ Info: Arnoldi schursolve in iter 1, krylovdim = 8: 0 values converged, normres = (8.63e-05, 1.21e-03, 1.18e-03, 4.82e-02, 5.08e-02)\n",
      "[ Info: Arnoldi iteration step 9: normres = 0.08216474746345709\n",
      "[ Info: Arnoldi schursolve in iter 1, krylovdim = 9: 0 values converged, normres = (3.03e-06, 6.93e-05, 7.50e-05, 1.23e-02, 2.08e-02)\n",
      "[ Info: Arnoldi iteration step 10: normres = 0.0778163572698042\n",
      "[ Info: Arnoldi schursolve in iter 1, krylovdim = 10: 0 values converged, normres = (1.01e-07, 3.80e-06, 4.56e-06, 2.98e-03, 9.49e-03)\n",
      "[ Info: Arnoldi iteration step 11: normres = 0.06203351921097312\n",
      "[ Info: Arnoldi schursolve in iter 1, krylovdim = 11: 0 values converged, normres = (2.71e-09, 1.67e-07, 2.23e-07, 6.05e-04, 4.19e-03)\n",
      "[ Info: Arnoldi iteration step 12: normres = 0.11426894312248206\n",
      "[ Info: Arnoldi schursolve in iter 1, krylovdim = 12: 0 values converged, normres = (1.33e-10, 1.35e-08, 1.99e-08, 2.16e-04, 2.96e-03)\n",
      "[ Info: Arnoldi iteration step 13: normres = 0.06284164531287559\n",
      "[ Info: Arnoldi schursolve in iter 1, krylovdim = 13: 0 values converged, normres = (3.60e-12, 5.98e-10, 9.81e-10, 4.51e-05, 1.56e-03)\n",
      "[ Info: Arnoldi iteration step 14: normres = 0.5195904595154988\n",
      "[ Info: Arnoldi schursolve in iter 1, krylovdim = 14: 0 values converged, normres = (1.61e-12, 1.24e-09, 4.60e-09, 5.19e-01, 8.69e-03)\n",
      "[ Info: Arnoldi iteration step 15: normres = 0.15239870422578206\n",
      "[ Info: Arnoldi schursolve in iter 1, krylovdim = 15: 1 values converged, normres = (1.25e-13, 1.05e-09, 5.78e-02, 7.89e-05, 9.96e-06)\n",
      "[ Info: Arnoldi iteration step 16: normres = 0.1892308726082232\n",
      "[ Info: Arnoldi schursolve in iter 1, krylovdim = 16: 1 values converged, normres = (2.28e-14, 8.25e-09, 7.75e-02, 2.44e-04, 1.71e-01)\n",
      "[ Info: Arnoldi iteration step 17: normres = 0.031713484567223726\n",
      "[ Info: Arnoldi schursolve in iter 1, krylovdim = 17: 1 values converged, normres = (3.05e-16, 6.36e-08, 1.83e-03, 5.45e-08, 3.88e-03)\n",
      "[ Info: Arnoldi iteration step 18: normres = 0.02113034929048737\n",
      "[ Info: Arnoldi schursolve in iter 1, krylovdim = 18: 1 values converged, normres = (2.66e-18, 1.51e-05, 2.07e-05, 2.46e-05, 5.43e-05)\n",
      "[ Info: Arnoldi iteration step 19: normres = 0.04268319413036869\n",
      "[ Info: Arnoldi schursolve in iter 1, krylovdim = 19: 1 values converged, normres = (4.66e-20, 4.43e-07, 5.56e-07, 4.01e-08, 1.82e-06)\n",
      "[ Info: Arnoldi iteration step 20: normres = 0.1543666212233303\n",
      "[ Info: Arnoldi schursolve in iter 1, krylovdim = 20: 1 values converged, normres = (3.50e-21, 3.84e-08, 8.76e-08, 4.91e-08, 2.74e-07)\n",
      "[ Info: Arnoldi iteration step 21: normres = 0.015676962030831514\n",
      "[ Info: Arnoldi schursolve in iter 1, krylovdim = 21: 1 values converged, normres = (2.31e-23, 1.42e-10, 1.02e-09, 1.71e-09, 2.86e-09)\n",
      "[ Info: Arnoldi iteration step 22: normres = 0.02275424265707656\n",
      "[ Info: Arnoldi schursolve in iter 1, krylovdim = 22: 1 values converged, normres = (2.15e-25, 2.19e-12, 1.51e-11, 2.45e-11, 4.83e-11)\n",
      "[ Info: Arnoldi iteration step 23: normres = 0.6988440143821882\n",
      "[ Info: Arnoldi schursolve in iter 1, krylovdim = 23: 1 values converged, normres = (1.06e-25, 2.99e-12, 2.06e-11, 4.58e-11, 9.04e-11)\n",
      "[ Info: Arnoldi iteration step 24: normres = 0.025009375068104894\n",
      "[ Info: Arnoldi schursolve in iter 1, krylovdim = 24: 1 values converged, normres = (1.48e-27, 1.22e-12, 1.78e-13, 2.14e-10, 4.32e-10)\n",
      "[ Info: Arnoldi iteration step 25: normres = 0.06645082570244605\n",
      "[ Info: Arnoldi schursolve in iter 1, krylovdim = 25: 3 values converged, normres = (4.09e-29, 7.99e-15, 5.50e-14, 5.28e-04, 2.52e-04)\n",
      "[ Info: Arnoldi iteration step 26: normres = 0.09309410379716593\n",
      "[ Info: Arnoldi schursolve in iter 1, krylovdim = 26: 3 values converged, normres = (1.68e-30, 5.46e-16, 3.76e-15, 9.84e-10, 2.08e-09)\n",
      "[ Info: Arnoldi iteration step 27: normres = 0.03708233757541506\n",
      "[ Info: Arnoldi schursolve in iter 1, krylovdim = 27: 3 values converged, normres = (2.65e-32, 1.41e-17, 9.69e-17, 4.33e-07, 5.71e-08)\n",
      "[ Info: Arnoldi iteration step 28: normres = 0.09004638846831466\n",
      "[ Info: Arnoldi schursolve in iter 1, krylovdim = 28: 3 values converged, normres = (1.02e-33, 8.79e-19, 6.05e-18, 8.08e-08, 4.36e-08)\n",
      "[ Info: Arnoldi iteration step 29: normres = 0.01943578090557107\n",
      "[ Info: Arnoldi schursolve in iter 1, krylovdim = 29: 3 values converged, normres = (8.52e-36, 1.21e-20, 8.34e-20, 6.24e-11, 1.55e-09)\n",
      "[ Info: Arnoldi iteration step 30: normres = 0.04909192414448706\n",
      "[ Info: Arnoldi schursolve in iter 1, krylovdim = 30: 3 values converged, normres = (1.73e-37, 3.94e-22, 2.71e-21, 1.99e-12, 5.44e-11)\n",
      "[ Info: Arnoldi schursolve in iter 2, krylovdim = 19: 3 values converged, normres = (1.73e-37, 3.94e-22, 2.71e-21, 1.99e-12, 5.44e-11)\n",
      "[ Info: Arnoldi iteration step 20: normres = 0.0701427934227043\n",
      "[ Info: Arnoldi schursolve in iter 2, krylovdim = 20: 4 values converged, normres = (5.25e-39, 1.97e-23, 1.35e-22, 1.11e-13, 3.02e-12)\n",
      "[ Info: Arnoldi iteration step 21: normres = 0.18503513626115653\n",
      "┌ Info: Arnoldi eigsolve finished after 2 iterations:\n",
      "│ *  6 eigenvalues converged\n",
      "│ *  norm of residuals = (4.167513781773106e-40, 1.6885343890002676e-23, 1.6885343890002676e-23, 1.595325897997441e-14, 4.3141337340437926e-13, 6.400271727946893e-14)\n",
      "└ *  number of operations = 32\n"
     ]
    }
   ],
   "cell_type": "code",
   "source": [
    "eigsolve(eps_fun, randn(size(scfres.ρ)), 5, :LM; eager=true, verbosity=3);"
   ],
   "metadata": {},
   "execution_count": 3
  }
 ],
 "nbformat_minor": 3,
 "metadata": {
  "language_info": {
   "file_extension": ".jl",
   "mimetype": "application/julia",
   "name": "julia",
   "version": "1.8.5"
  },
  "kernelspec": {
   "name": "julia-1.8",
   "display_name": "Julia 1.8.5",
   "language": "julia"
  }
 },
 "nbformat": 4
}
