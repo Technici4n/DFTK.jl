{
 "cells": [
  {
   "cell_type": "markdown",
   "source": [
    "# Comparison of DFT solvers"
   ],
   "metadata": {}
  },
  {
   "cell_type": "markdown",
   "source": [
    "We compare four different approaches for solving the DFT minimisation problem,\n",
    "namely a density-based SCF, a potential-based SCF, direct minimisation and Newton."
   ],
   "metadata": {}
  },
  {
   "cell_type": "markdown",
   "source": [
    "First we setup our problem"
   ],
   "metadata": {}
  },
  {
   "outputs": [
    {
     "output_type": "execute_result",
     "data": {
      "text/plain": "1.0e-6"
     },
     "metadata": {},
     "execution_count": 1
    }
   ],
   "cell_type": "code",
   "source": [
    "using DFTK\n",
    "using LinearAlgebra\n",
    "\n",
    "a = 10.26  # Silicon lattice constant in Bohr\n",
    "lattice = a / 2 * [[0 1 1.];\n",
    "                   [1 0 1.];\n",
    "                   [1 1 0.]]\n",
    "Si = ElementPsp(:Si, psp=load_psp(\"hgh/lda/Si-q4\"))\n",
    "atoms     = [Si, Si]\n",
    "positions = [ones(3)/8, -ones(3)/8]\n",
    "\n",
    "model = model_LDA(lattice, atoms, positions)\n",
    "basis = PlaneWaveBasis(model; Ecut=5, kgrid=[3, 3, 3])\n",
    "\n",
    "# Convergence we desire in the density\n",
    "tol = 1e-6"
   ],
   "metadata": {},
   "execution_count": 1
  },
  {
   "cell_type": "markdown",
   "source": [
    "## Density-based self-consistent field"
   ],
   "metadata": {}
  },
  {
   "outputs": [
    {
     "name": "stdout",
     "output_type": "stream",
     "text": [
      "n     Energy            log10(ΔE)   log10(Δρ)   Diag   Δtime\n",
      "---   ---------------   ---------   ---------   ----   ------\n",
      "  1   -7.846853974101                   -0.70    4.8         \n",
      "  2   -7.852323895511       -2.26       -1.53    1.0   40.1ms\n",
      "  3   -7.852617503618       -3.53       -2.55    1.5   38.0ms\n",
      "  4   -7.852645957836       -4.55       -2.89    2.2   46.2ms\n",
      "  5   -7.852646519166       -6.25       -3.22    1.0   34.8ms\n",
      "  6   -7.852646679695       -6.79       -4.13    1.2   34.1ms\n",
      "  7   -7.852646686687       -8.16       -5.10    2.2   45.9ms\n",
      "  8   -7.852646686727      -10.39       -5.62    2.0   39.9ms\n",
      "  9   -7.852646686727      -13.06       -5.53    1.5   37.1ms\n",
      " 10   -7.852646686730      -11.60       -6.91    1.0   34.9ms\n"
     ]
    }
   ],
   "cell_type": "code",
   "source": [
    "scfres_scf = self_consistent_field(basis; tol);"
   ],
   "metadata": {},
   "execution_count": 2
  },
  {
   "cell_type": "markdown",
   "source": [
    "## Potential-based SCF"
   ],
   "metadata": {}
  },
  {
   "outputs": [
    {
     "name": "stdout",
     "output_type": "stream",
     "text": [
      "n     Energy            log10(ΔE)   log10(Δρ)   α      Diag   Δtime\n",
      "---   ---------------   ---------   ---------   ----   ----   ------\n",
      "  1   -7.846711397769                   -0.70           4.2         \n",
      "  2   -7.852526637548       -2.24       -1.64   0.80    2.5    326ms\n",
      "  3   -7.852636533799       -3.96       -2.72   0.80    1.0   31.2ms\n",
      "  4   -7.852646545787       -5.00       -3.26   0.80    2.0   43.3ms\n",
      "  5   -7.852646673794       -6.89       -4.14   0.80    1.0   34.7ms\n",
      "  6   -7.852646686360       -7.90       -4.79   0.80    1.8   37.9ms\n",
      "  7   -7.852646686718       -9.45       -5.61   0.80    2.0   38.0ms\n",
      "  8   -7.852646686729      -10.96       -6.83   0.80    2.0   39.6ms\n"
     ]
    }
   ],
   "cell_type": "code",
   "source": [
    "scfres_scfv = DFTK.scf_potential_mixing(basis; tol);"
   ],
   "metadata": {},
   "execution_count": 3
  },
  {
   "cell_type": "markdown",
   "source": [
    "## Direct minimization\n",
    "Note: Unlike the other algorithms, tolerance for this one is in the energy,\n",
    "thus we square the density tolerance value to be roughly equivalent."
   ],
   "metadata": {}
  },
  {
   "outputs": [
    {
     "name": "stdout",
     "output_type": "stream",
     "text": [
      "Iter     Function value   Gradient norm \n",
      "     0     1.366576e+01     3.020628e+00\n",
      " * time: 0.6248180866241455\n",
      "     1     1.136376e+00     1.844366e+00\n",
      " * time: 0.8868310451507568\n",
      "     2    -1.613010e+00     2.252216e+00\n",
      " * time: 0.9223389625549316\n",
      "     3    -3.840386e+00     1.954077e+00\n",
      " * time: 0.969506025314331\n",
      "     4    -5.185394e+00     1.862168e+00\n",
      " * time: 1.0179400444030762\n",
      "     5    -6.725505e+00     1.364270e+00\n",
      " * time: 1.0655629634857178\n",
      "     6    -6.748880e+00     2.257601e+00\n",
      " * time: 1.0989329814910889\n",
      "     7    -7.246165e+00     1.855803e+00\n",
      " * time: 1.1347410678863525\n",
      "     8    -7.523329e+00     1.277829e+00\n",
      " * time: 1.1835119724273682\n",
      "     9    -7.688837e+00     5.481212e-01\n",
      " * time: 1.2309679985046387\n",
      "    10    -7.764544e+00     2.045532e-01\n",
      " * time: 1.2650270462036133\n",
      "    11    -7.802449e+00     1.497666e-01\n",
      " * time: 1.2985739707946777\n",
      "    12    -7.832129e+00     5.712558e-02\n",
      " * time: 1.3312301635742188\n",
      "    13    -7.842866e+00     3.775967e-02\n",
      " * time: 1.365494966506958\n",
      "    14    -7.848621e+00     4.499205e-02\n",
      " * time: 1.410102128982544\n",
      "    15    -7.851276e+00     1.295227e-02\n",
      " * time: 1.4457991123199463\n",
      "    16    -7.852132e+00     8.892444e-03\n",
      " * time: 1.4826409816741943\n",
      "    17    -7.852453e+00     4.978426e-03\n",
      " * time: 1.51723313331604\n",
      "    18    -7.852593e+00     3.234931e-03\n",
      " * time: 1.5552940368652344\n",
      "    19    -7.852634e+00     1.704331e-03\n",
      " * time: 1.588433027267456\n",
      "    20    -7.852642e+00     1.009337e-03\n",
      " * time: 1.6219849586486816\n",
      "    21    -7.852645e+00     7.553092e-04\n",
      " * time: 1.6558201313018799\n",
      "    22    -7.852646e+00     4.426694e-04\n",
      " * time: 1.6909120082855225\n",
      "    23    -7.852646e+00     2.517342e-04\n",
      " * time: 1.7239301204681396\n",
      "    24    -7.852647e+00     1.456921e-04\n",
      " * time: 1.7588350772857666\n",
      "    25    -7.852647e+00     8.792556e-05\n",
      " * time: 1.7935161590576172\n",
      "    26    -7.852647e+00     4.209566e-05\n",
      " * time: 1.8266620635986328\n",
      "    27    -7.852647e+00     2.077171e-05\n",
      " * time: 1.86043119430542\n",
      "    28    -7.852647e+00     1.470210e-05\n",
      " * time: 1.8962011337280273\n",
      "    29    -7.852647e+00     9.168519e-06\n",
      " * time: 1.9298131465911865\n",
      "    30    -7.852647e+00     5.174792e-06\n",
      " * time: 1.9637491703033447\n",
      "    31    -7.852647e+00     2.530631e-06\n",
      " * time: 1.9988641738891602\n",
      "    32    -7.852647e+00     1.531919e-06\n",
      " * time: 2.0347859859466553\n",
      "    33    -7.852647e+00     9.665776e-07\n",
      " * time: 2.0686440467834473\n",
      "    34    -7.852647e+00     4.636109e-07\n",
      " * time: 2.1039719581604004\n",
      "    35    -7.852647e+00     2.976425e-07\n",
      " * time: 2.1385860443115234\n",
      "    36    -7.852647e+00     1.700579e-07\n",
      " * time: 2.173572063446045\n",
      "    37    -7.852647e+00     6.268999e-08\n",
      " * time: 2.2077980041503906\n",
      "    38    -7.852647e+00     4.986093e-08\n",
      " * time: 2.2420661449432373\n",
      "    39    -7.852647e+00     2.821060e-08\n",
      " * time: 2.3508410453796387\n",
      "    40    -7.852647e+00     2.229188e-08\n",
      " * time: 2.386721134185791\n",
      "    41    -7.852647e+00     1.277854e-08\n",
      " * time: 2.4216930866241455\n",
      "    42    -7.852647e+00     1.277849e-08\n",
      " * time: 2.543708086013794\n"
     ]
    }
   ],
   "cell_type": "code",
   "source": [
    "scfres_dm = direct_minimization(basis; tol=tol^2);"
   ],
   "metadata": {},
   "execution_count": 4
  },
  {
   "cell_type": "markdown",
   "source": [
    "## Newton algorithm"
   ],
   "metadata": {}
  },
  {
   "cell_type": "markdown",
   "source": [
    "Start not too far from the solution to ensure convergence:\n",
    "We run first a very crude SCF to get close and then switch to Newton."
   ],
   "metadata": {}
  },
  {
   "outputs": [
    {
     "name": "stdout",
     "output_type": "stream",
     "text": [
      "n     Energy            log10(ΔE)   log10(Δρ)   Diag   Δtime\n",
      "---   ---------------   ---------   ---------   ----   ------\n",
      "  1   -7.846795524283                   -0.70    4.8         \n"
     ]
    }
   ],
   "cell_type": "code",
   "source": [
    "scfres_start = self_consistent_field(basis; tol=0.5);"
   ],
   "metadata": {},
   "execution_count": 5
  },
  {
   "cell_type": "markdown",
   "source": [
    "Remove the virtual orbitals (which Newton cannot treat yet)"
   ],
   "metadata": {}
  },
  {
   "outputs": [
    {
     "name": "stdout",
     "output_type": "stream",
     "text": [
      "n     Energy            log10(ΔE)   log10(Δρ)   Δtime\n",
      "---   ---------------   ---------   ---------   ------\n",
      "  1   -7.852645877719                   -1.64         \n",
      "  2   -7.852646686730       -6.09       -3.70    2.24s\n",
      "  3   -7.852646686730      -13.25       -7.23    248ms\n"
     ]
    }
   ],
   "cell_type": "code",
   "source": [
    "ψ = DFTK.select_occupied_orbitals(basis, scfres_start.ψ, scfres_start.occupation).ψ\n",
    "scfres_newton = newton(basis, ψ; tol);"
   ],
   "metadata": {},
   "execution_count": 6
  },
  {
   "cell_type": "markdown",
   "source": [
    "## Comparison of results"
   ],
   "metadata": {}
  },
  {
   "outputs": [
    {
     "name": "stdout",
     "output_type": "stream",
     "text": [
      "|ρ_newton - ρ_scf|  = 2.533555393163064e-7\n",
      "|ρ_newton - ρ_scfv| = 4.98266542279815e-7\n",
      "|ρ_newton - ρ_dm|   = 3.7719791237558444e-10\n"
     ]
    }
   ],
   "cell_type": "code",
   "source": [
    "println(\"|ρ_newton - ρ_scf|  = \", norm(scfres_newton.ρ - scfres_scf.ρ))\n",
    "println(\"|ρ_newton - ρ_scfv| = \", norm(scfres_newton.ρ - scfres_scfv.ρ))\n",
    "println(\"|ρ_newton - ρ_dm|   = \", norm(scfres_newton.ρ - scfres_dm.ρ))"
   ],
   "metadata": {},
   "execution_count": 7
  }
 ],
 "nbformat_minor": 3,
 "metadata": {
  "language_info": {
   "file_extension": ".jl",
   "mimetype": "application/julia",
   "name": "julia",
   "version": "1.8.5"
  },
  "kernelspec": {
   "name": "julia-1.8",
   "display_name": "Julia 1.8.5",
   "language": "julia"
  }
 },
 "nbformat": 4
}
