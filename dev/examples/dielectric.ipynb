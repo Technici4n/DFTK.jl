{
 "cells": [
  {
   "cell_type": "markdown",
   "source": [
    "# Eigenvalues of the dielectric matrix\n",
    "\n",
    "We compute a few eigenvalues of the dielectric matrix ($q=0$, $ω=0$) iteratively."
   ],
   "metadata": {}
  },
  {
   "outputs": [
    {
     "name": "stdout",
     "output_type": "stream",
     "text": [
      "n     Energy            log10(ΔE)   log10(Δρ)   Diag   Δtime\n",
      "---   ---------------   ---------   ---------   ----   ------\n",
      "  1   -7.235029049326                   -0.50    9.0         \n",
      "  2   -7.250209692573       -1.82       -1.38    1.0   8.24ms\n",
      "  3   -7.250943453901       -3.13       -1.83    1.0   8.33ms\n",
      "  4   -7.251200646194       -3.59       -2.03    2.0   9.76ms\n",
      "  5   -7.251315430371       -3.94       -2.47    1.0   8.26ms\n",
      "  6   -7.251337513610       -4.66       -3.12    1.0   8.11ms\n",
      "  7   -7.251338614903       -5.96       -3.58    2.0   9.74ms\n",
      "  8   -7.251338773108       -6.80       -3.83    2.0   10.1ms\n",
      "  9   -7.251338795565       -7.65       -4.41    1.0   8.38ms\n",
      " 10   -7.251338798439       -8.54       -4.83    3.0   11.2ms\n",
      " 11   -7.251338798637       -9.70       -5.11    2.0   10.2ms\n",
      " 12   -7.251338798692      -10.26       -5.51    1.0   8.63ms\n",
      " 13   -7.251338798703      -10.94       -5.97    2.0   10.1ms\n",
      " 14   -7.251338798704      -11.89       -6.38    1.0   8.61ms\n",
      " 15   -7.251338798705      -12.67       -6.96    2.0   10.1ms\n",
      " 16   -7.251338798705      -13.88       -7.27    2.0   10.0ms\n",
      " 17   -7.251338798705      -14.57       -7.70    1.0   8.61ms\n",
      " 18   -7.251338798705      -15.05       -8.17    2.0   9.94ms\n"
     ]
    }
   ],
   "cell_type": "code",
   "source": [
    "using DFTK\n",
    "using Plots\n",
    "using KrylovKit\n",
    "using Printf\n",
    "\n",
    "# Calculation parameters\n",
    "kgrid = [1, 1, 1]\n",
    "Ecut = 5\n",
    "\n",
    "# Silicon lattice\n",
    "a = 10.26\n",
    "lattice = a / 2 .* [[0 1 1.]; [1 0 1.]; [1 1 0.]]\n",
    "Si = ElementPsp(:Si, psp=load_psp(\"hgh/lda/Si-q4\"))\n",
    "atoms     = [Si, Si]\n",
    "positions = [ones(3)/8, -ones(3)/8]\n",
    "\n",
    "# Compute the dielectric operator without symmetries\n",
    "model  = model_LDA(lattice, atoms, positions, symmetries=false)\n",
    "basis  = PlaneWaveBasis(model; Ecut, kgrid)\n",
    "scfres = self_consistent_field(basis, tol=1e-8);"
   ],
   "metadata": {},
   "execution_count": 1
  },
  {
   "cell_type": "markdown",
   "source": [
    "Applying $ε^† ≔ (1- χ_0 K)$ …"
   ],
   "metadata": {}
  },
  {
   "outputs": [],
   "cell_type": "code",
   "source": [
    "function eps_fun(δρ)\n",
    "    δV = apply_kernel(basis, δρ; ρ=scfres.ρ)\n",
    "    χ0δV = apply_χ0(scfres, δV)\n",
    "    δρ - χ0δV\n",
    "end;"
   ],
   "metadata": {},
   "execution_count": 2
  },
  {
   "cell_type": "markdown",
   "source": [
    "… eagerly diagonalizes the subspace matrix at each iteration"
   ],
   "metadata": {}
  },
  {
   "outputs": [
    {
     "name": "stdout",
     "output_type": "stream",
     "text": [
      "[ Info: Arnoldi iteration step 1: normres = 0.039032014088467674\n",
      "[ Info: Arnoldi iteration step 2: normres = 0.5689632877500937\n",
      "[ Info: Arnoldi iteration step 3: normres = 0.7953435848175489\n",
      "[ Info: Arnoldi iteration step 4: normres = 0.43670950611388387\n",
      "[ Info: Arnoldi iteration step 5: normres = 0.3425572003185042\n",
      "[ Info: Arnoldi schursolve in iter 1, krylovdim = 5: 0 values converged, normres = (5.57e-02, 5.59e-02, 2.43e-01, 2.26e-01, 3.73e-02)\n",
      "[ Info: Arnoldi iteration step 6: normres = 0.44544168137252355\n",
      "[ Info: Arnoldi schursolve in iter 1, krylovdim = 6: 0 values converged, normres = (1.94e-02, 7.36e-02, 4.15e-01, 1.14e-01, 7.40e-02)\n",
      "[ Info: Arnoldi iteration step 7: normres = 0.08274573234156002\n",
      "[ Info: Arnoldi schursolve in iter 1, krylovdim = 7: 0 values converged, normres = (8.80e-04, 1.15e-02, 3.19e-02, 4.20e-02, 5.51e-02)\n",
      "[ Info: Arnoldi iteration step 8: normres = 0.10867115177238572\n",
      "[ Info: Arnoldi schursolve in iter 1, krylovdim = 8: 0 values converged, normres = (4.17e-05, 9.05e-04, 2.77e-03, 1.57e-02, 4.34e-02)\n",
      "[ Info: Arnoldi iteration step 9: normres = 0.0988071380254706\n",
      "[ Info: Arnoldi schursolve in iter 1, krylovdim = 9: 0 values converged, normres = (1.78e-06, 6.34e-05, 2.16e-04, 5.24e-03, 3.45e-02)\n",
      "[ Info: Arnoldi iteration step 10: normres = 0.07144268790656864\n",
      "[ Info: Arnoldi schursolve in iter 1, krylovdim = 10: 0 values converged, normres = (5.62e-08, 3.36e-06, 1.27e-05, 1.57e-03, 3.28e-02)\n",
      "[ Info: Arnoldi iteration step 11: normres = 0.05423438640202246\n",
      "[ Info: Arnoldi schursolve in iter 1, krylovdim = 11: 0 values converged, normres = (1.28e-09, 1.24e-07, 5.22e-07, 2.39e-04, 8.92e-03)\n",
      "[ Info: Arnoldi iteration step 12: normres = 0.08108363275945454\n",
      "[ Info: Arnoldi schursolve in iter 1, krylovdim = 12: 0 values converged, normres = (4.41e-11, 6.93e-09, 3.22e-08, 5.35e-05, 3.38e-03)\n",
      "[ Info: Arnoldi iteration step 13: normres = 0.04196773043406328\n",
      "[ Info: Arnoldi schursolve in iter 1, krylovdim = 13: 1 values converged, normres = (8.03e-13, 2.08e-10, 1.08e-09, 7.66e-06, 1.06e-03)\n",
      "[ Info: Arnoldi iteration step 14: normres = 0.6899205230354185\n",
      "[ Info: Arnoldi schursolve in iter 1, krylovdim = 14: 1 values converged, normres = (2.86e-13, 1.39e-10, 8.32e-10, 6.17e-01, 2.84e-01)\n",
      "[ Info: Arnoldi iteration step 15: normres = 0.09743114325835825\n",
      "[ Info: Arnoldi schursolve in iter 1, krylovdim = 15: 1 values converged, normres = (2.25e-14, 1.10e-10, 7.96e-02, 2.08e-03, 3.61e-05)\n",
      "[ Info: Arnoldi iteration step 16: normres = 0.6511385900134146\n",
      "[ Info: Arnoldi schursolve in iter 1, krylovdim = 16: 1 values converged, normres = (1.08e-14, 1.84e-10, 1.33e-01, 5.65e-03, 6.32e-01)\n",
      "[ Info: Arnoldi iteration step 17: normres = 0.029167594274719436\n",
      "[ Info: Arnoldi schursolve in iter 1, krylovdim = 17: 1 values converged, normres = (1.85e-16, 2.34e-03, 1.12e-02, 1.33e-05, 1.03e-02)\n",
      "[ Info: Arnoldi iteration step 18: normres = 0.018286367396065907\n",
      "[ Info: Arnoldi schursolve in iter 1, krylovdim = 18: 1 values converged, normres = (1.40e-18, 4.16e-09, 1.37e-04, 1.91e-08, 1.36e-04)\n",
      "[ Info: Arnoldi iteration step 19: normres = 0.0911402958390447\n",
      "[ Info: Arnoldi schursolve in iter 1, krylovdim = 19: 1 values converged, normres = (5.32e-20, 2.87e-06, 7.92e-06, 5.94e-06, 7.01e-06)\n",
      "[ Info: Arnoldi iteration step 20: normres = 0.15088441798467958\n",
      "[ Info: Arnoldi schursolve in iter 1, krylovdim = 20: 1 values converged, normres = (3.85e-21, 1.13e-07, 1.08e-06, 1.29e-08, 1.34e-06)\n",
      "[ Info: Arnoldi iteration step 21: normres = 0.021685425061791552\n",
      "[ Info: Arnoldi schursolve in iter 1, krylovdim = 21: 1 values converged, normres = (3.58e-23, 9.94e-10, 1.65e-08, 4.30e-09, 2.24e-08)\n",
      "[ Info: Arnoldi iteration step 22: normres = 0.016173326174726443\n",
      "[ Info: Arnoldi schursolve in iter 1, krylovdim = 22: 1 values converged, normres = (2.38e-25, 3.29e-11, 1.72e-10, 6.89e-11, 2.57e-10)\n",
      "[ Info: Arnoldi iteration step 23: normres = 0.3168672355966741\n",
      "[ Info: Arnoldi schursolve in iter 1, krylovdim = 23: 1 values converged, normres = (3.17e-26, 7.07e-12, 3.71e-11, 1.63e-11, 6.11e-11)\n",
      "[ Info: Arnoldi iteration step 24: normres = 0.09902551139635574\n",
      "[ Info: Arnoldi schursolve in iter 1, krylovdim = 24: 1 values converged, normres = (4.40e-27, 4.57e-12, 2.40e-11, 2.31e-10, 8.83e-10)\n",
      "[ Info: Arnoldi iteration step 25: normres = 0.12104556989462802\n",
      "[ Info: Arnoldi schursolve in iter 1, krylovdim = 25: 2 values converged, normres = (1.53e-28, 4.14e-13, 2.17e-12, 1.83e-09, 5.67e-09)\n",
      "[ Info: Arnoldi iteration step 26: normres = 0.020183780410626125\n",
      "[ Info: Arnoldi schursolve in iter 1, krylovdim = 26: 3 values converged, normres = (1.33e-30, 5.92e-15, 3.11e-14, 3.06e-10, 1.13e-09)\n",
      "[ Info: Arnoldi iteration step 27: normres = 0.016688495009493886\n",
      "[ Info: Arnoldi schursolve in iter 1, krylovdim = 27: 3 values converged, normres = (9.08e-33, 6.43e-17, 3.38e-16, 2.18e-07, 6.71e-09)\n",
      "[ Info: Arnoldi iteration step 28: normres = 0.0598514301273234\n",
      "[ Info: Arnoldi schursolve in iter 1, krylovdim = 28: 3 values converged, normres = (2.24e-34, 2.54e-18, 1.33e-17, 2.54e-10, 1.66e-09)\n",
      "[ Info: Arnoldi iteration step 29: normres = 0.06677382557533398\n",
      "[ Info: Arnoldi schursolve in iter 1, krylovdim = 29: 3 values converged, normres = (6.58e-36, 1.24e-19, 6.49e-19, 1.63e-10, 4.11e-09)\n",
      "[ Info: Arnoldi iteration step 30: normres = 0.19359306759924086\n",
      "[ Info: Arnoldi schursolve in iter 1, krylovdim = 30: 3 values converged, normres = (5.94e-37, 1.94e-20, 1.02e-19, 4.78e-11, 7.28e-10)\n",
      "[ Info: Arnoldi schursolve in iter 2, krylovdim = 19: 3 values converged, normres = (5.94e-37, 1.94e-20, 1.02e-19, 4.78e-11, 7.28e-10)\n",
      "[ Info: Arnoldi iteration step 20: normres = 0.08999808806000528\n",
      "[ Info: Arnoldi schursolve in iter 2, krylovdim = 20: 3 values converged, normres = (2.37e-38, 1.30e-21, 6.82e-21, 3.25e-12, 5.46e-11)\n",
      "[ Info: Arnoldi iteration step 21: normres = 0.04594294345726401\n",
      "[ Info: Arnoldi schursolve in iter 2, krylovdim = 21: 4 values converged, normres = (4.74e-40, 4.31e-23, 2.26e-22, 1.20e-13, 2.01e-12)\n",
      "[ Info: Arnoldi iteration step 22: normres = 0.017114426166795024\n",
      "┌ Info: Arnoldi eigsolve finished after 2 iterations:\n",
      "│ *  6 eigenvalues converged\n",
      "│ *  norm of residuals = (3.3381816550511507e-42, 4.850579095223371e-25, 2.3964161712007655e-24, 1.4807466346913784e-15, 1.4701292075186722e-14, 8.305953652411331e-16)\n",
      "└ *  number of operations = 33\n"
     ]
    }
   ],
   "cell_type": "code",
   "source": [
    "eigsolve(eps_fun, randn(size(scfres.ρ)), 5, :LM; eager=true, verbosity=3);"
   ],
   "metadata": {},
   "execution_count": 3
  }
 ],
 "nbformat_minor": 3,
 "metadata": {
  "language_info": {
   "file_extension": ".jl",
   "mimetype": "application/julia",
   "name": "julia",
   "version": "1.8.5"
  },
  "kernelspec": {
   "name": "julia-1.8",
   "display_name": "Julia 1.8.5",
   "language": "julia"
  }
 },
 "nbformat": 4
}
