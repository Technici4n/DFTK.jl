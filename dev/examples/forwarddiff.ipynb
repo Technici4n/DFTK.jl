{
 "cells": [
  {
   "cell_type": "markdown",
   "source": [
    "# Polarizability using automatic differentiation\n",
    "\n",
    "Simple example for computing properties using (forward-mode)\n",
    "automatic differentiation.\n",
    "For a more classical approach and more details about computing polarizabilities,\n",
    "see Polarizability by linear response."
   ],
   "metadata": {}
  },
  {
   "outputs": [],
   "cell_type": "code",
   "source": [
    "using DFTK\n",
    "using LinearAlgebra\n",
    "using ForwardDiff\n",
    "\n",
    "# Construct PlaneWaveBasis given a particular electric field strength\n",
    "# Again we take the example of a Helium atom.\n",
    "function make_basis(ε::T; a=10., Ecut=30) where {T}\n",
    "    lattice=T(a) * I(3)  # lattice is a cube of $a$ Bohrs\n",
    "    # Helium at the center of the box\n",
    "    atoms     = [ElementPsp(:He, psp=load_psp(\"hgh/lda/He-q2\"))]\n",
    "    positions = [[1/2, 1/2, 1/2]]\n",
    "\n",
    "    model = model_DFT(lattice, atoms, positions, [:lda_x, :lda_c_vwn];\n",
    "                      extra_terms=[ExternalFromReal(r -> -ε * (r[1] - a/2))],\n",
    "                      symmetries=false)\n",
    "    PlaneWaveBasis(model; Ecut, kgrid=[1, 1, 1])  # No k-point sampling on isolated system\n",
    "end\n",
    "\n",
    "# dipole moment of a given density (assuming the current geometry)\n",
    "function dipole(basis, ρ)\n",
    "    @assert isdiag(basis.model.lattice)\n",
    "    a  = basis.model.lattice[1, 1]\n",
    "    rr = [a * (r[1] - 1/2) for r in r_vectors(basis)]\n",
    "    sum(rr .* ρ) * basis.dvol\n",
    "end\n",
    "\n",
    "# Function to compute the dipole for a given field strength\n",
    "function compute_dipole(ε; tol=1e-8, kwargs...)\n",
    "    scfres = self_consistent_field(make_basis(ε; kwargs...); tol)\n",
    "    dipole(scfres.basis, scfres.ρ)\n",
    "end;"
   ],
   "metadata": {},
   "execution_count": 1
  },
  {
   "cell_type": "markdown",
   "source": [
    "With this in place we can compute the polarizability from finite differences\n",
    "(just like in the previous example):"
   ],
   "metadata": {}
  },
  {
   "outputs": [
    {
     "name": "stdout",
     "output_type": "stream",
     "text": [
      "n     Energy            log10(ΔE)   log10(Δρ)   Diag   Δtime\n",
      "---   ---------------   ---------   ---------   ----   ------\n",
      "  1   -2.770798808239                   -0.53    8.0         \n",
      "  2   -2.772136829609       -2.87       -1.31    1.0    151ms\n",
      "  3   -2.772169914245       -4.48       -2.56    1.0    134ms\n",
      "  4   -2.772170711950       -6.10       -3.58    2.0    154ms\n",
      "  5   -2.772170722180       -7.99       -4.05    1.0    160ms\n",
      "  6   -2.772170722954       -9.11       -5.13    1.0    137ms\n",
      "  7   -2.772170723010      -10.25       -5.16    2.0    178ms\n",
      "  8   -2.772170723015      -11.33       -6.11    1.0    144ms\n",
      "  9   -2.772170723015      -12.92       -6.68    2.0    184ms\n",
      " 10   -2.772170723015      -13.99       -7.31    1.0    151ms\n",
      " 11   -2.772170723015      -14.88       -8.16    2.0    180ms\n",
      "n     Energy            log10(ΔE)   log10(Δρ)   Diag   Δtime\n",
      "---   ---------------   ---------   ---------   ----   ------\n",
      "  1   -2.770653161211                   -0.53    8.0         \n",
      "  2   -2.772045046401       -2.86       -1.30    1.0    155ms\n",
      "  3   -2.772082068808       -4.43       -2.67    1.0    133ms\n",
      "  4   -2.772083412569       -5.87       -3.78    2.0    152ms\n",
      "  5   -2.772083417505       -8.31       -4.32    2.0    180ms\n",
      "  6   -2.772083417805       -9.52       -5.48    1.0    137ms\n",
      "  7   -2.772083417811      -11.26       -6.10    2.0    171ms\n",
      "  8   -2.772083417811      -13.45       -6.66    1.0    143ms\n",
      "  9   -2.772083417811      -13.72       -7.52    1.0    153ms\n",
      " 10   -2.772083417811   +  -13.77       -7.98    2.0    187ms\n",
      " 11   -2.772083417811      -13.95       -8.36    1.0    150ms\n"
     ]
    },
    {
     "output_type": "execute_result",
     "data": {
      "text/plain": "1.7735580405222033"
     },
     "metadata": {},
     "execution_count": 2
    }
   ],
   "cell_type": "code",
   "source": [
    "polarizability_fd = let\n",
    "    ε = 0.01\n",
    "    (compute_dipole(ε) - compute_dipole(0.0)) / ε\n",
    "end"
   ],
   "metadata": {},
   "execution_count": 2
  },
  {
   "cell_type": "markdown",
   "source": [
    "We do the same thing using automatic differentiation. Under the hood this uses\n",
    "custom rules to implicitly differentiate through the self-consistent\n",
    "field fixed-point problem."
   ],
   "metadata": {}
  },
  {
   "outputs": [
    {
     "name": "stdout",
     "output_type": "stream",
     "text": [
      "n     Energy            log10(ΔE)   log10(Δρ)   Diag   Δtime\n",
      "---   ---------------   ---------   ---------   ----   ------\n",
      "  1   -2.770827783044                   -0.52    9.0         \n",
      "  2   -2.772062650687       -2.91       -1.32    1.0    130ms\n",
      "  3   -2.772083101393       -4.69       -2.47    1.0    159ms\n",
      "  4   -2.772083349760       -6.60       -3.17    1.0    134ms\n",
      "  5   -2.772083417186       -7.17       -4.08    2.0    152ms\n",
      "  6   -2.772083417692       -9.30       -4.58    1.0    175ms\n",
      "  7   -2.772083417810       -9.93       -5.88    2.0    157ms\n",
      "  8   -2.772083417811      -12.82       -6.51    2.0    161ms\n",
      "  9   -2.772083417811      -13.85       -6.84    1.0    176ms\n",
      " 10   -2.772083417811   +  -14.18       -7.82    2.0    168ms\n",
      " 11   -2.772083417811   +  -14.57       -8.94    1.0    153ms\n",
      "\n",
      "Polarizability via ForwardDiff:       1.7725349684302627\n",
      "Polarizability via finite difference: 1.7735580405222033\n"
     ]
    }
   ],
   "cell_type": "code",
   "source": [
    "polarizability = ForwardDiff.derivative(compute_dipole, 0.0)\n",
    "println()\n",
    "println(\"Polarizability via ForwardDiff:       $polarizability\")\n",
    "println(\"Polarizability via finite difference: $polarizability_fd\")"
   ],
   "metadata": {},
   "execution_count": 3
  }
 ],
 "nbformat_minor": 3,
 "metadata": {
  "language_info": {
   "file_extension": ".jl",
   "mimetype": "application/julia",
   "name": "julia",
   "version": "1.8.5"
  },
  "kernelspec": {
   "name": "julia-1.8",
   "display_name": "Julia 1.8.5",
   "language": "julia"
  }
 },
 "nbformat": 4
}
