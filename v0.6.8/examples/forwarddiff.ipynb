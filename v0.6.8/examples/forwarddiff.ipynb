{
 "cells": [
  {
   "cell_type": "markdown",
   "source": [
    "# Polarizability using automatic differentiation\n",
    "\n",
    "Simple example for computing properties using (forward-mode)\n",
    "automatic differentiation.\n",
    "For a more classical approach and more details about computing polarizabilities,\n",
    "see Polarizability by linear response."
   ],
   "metadata": {}
  },
  {
   "outputs": [],
   "cell_type": "code",
   "source": [
    "using DFTK\n",
    "using LinearAlgebra\n",
    "using ForwardDiff\n",
    "\n",
    "# Construct PlaneWaveBasis given a particular electric field strength\n",
    "# Again we take the example of a Helium atom.\n",
    "function make_basis(ε::T; a=10., Ecut=30) where {T}\n",
    "    lattice=T(a) * I(3)  # lattice is a cube of $a$ Bohrs\n",
    "    # Helium at the center of the box\n",
    "    atoms     = [ElementPsp(:He, psp=load_psp(\"hgh/lda/He-q2\"))]\n",
    "    positions = [[1/2, 1/2, 1/2]]\n",
    "\n",
    "    model = model_DFT(lattice, atoms, positions, [:lda_x, :lda_c_vwn];\n",
    "                      extra_terms=[ExternalFromReal(r -> -ε * (r[1] - a/2))],\n",
    "                      symmetries=false)\n",
    "    PlaneWaveBasis(model; Ecut, kgrid=[1, 1, 1])  # No k-point sampling on isolated system\n",
    "end\n",
    "\n",
    "# dipole moment of a given density (assuming the current geometry)\n",
    "function dipole(basis, ρ)\n",
    "    @assert isdiag(basis.model.lattice)\n",
    "    a  = basis.model.lattice[1, 1]\n",
    "    rr = [a * (r[1] - 1/2) for r in r_vectors(basis)]\n",
    "    sum(rr .* ρ) * basis.dvol\n",
    "end\n",
    "\n",
    "# Function to compute the dipole for a given field strength\n",
    "function compute_dipole(ε; tol=1e-8, kwargs...)\n",
    "    scfres = self_consistent_field(make_basis(ε; kwargs...); tol)\n",
    "    dipole(scfres.basis, scfres.ρ)\n",
    "end;"
   ],
   "metadata": {},
   "execution_count": 1
  },
  {
   "cell_type": "markdown",
   "source": [
    "With this in place we can compute the polarizability from finite differences\n",
    "(just like in the previous example):"
   ],
   "metadata": {}
  },
  {
   "outputs": [
    {
     "name": "stdout",
     "output_type": "stream",
     "text": [
      "n     Energy            log10(ΔE)   log10(Δρ)   Diag   Δtime\n",
      "---   ---------------   ---------   ---------   ----   ------\n",
      "  1   -2.770933736198                   -0.52    9.0         \n",
      "  2   -2.772150594912       -2.91       -1.32    1.0    169ms\n",
      "  3   -2.772170304555       -4.71       -2.45    1.0    139ms\n",
      "  4   -2.772170653760       -6.46       -3.17    1.0    152ms\n",
      "  5   -2.772170722835       -7.16       -4.26    2.0    175ms\n",
      "  6   -2.772170722920      -10.07       -4.43    1.0    143ms\n",
      "  7   -2.772170723012      -10.04       -5.47    1.0    160ms\n",
      "  8   -2.772170723015      -11.56       -5.71    2.0    166ms\n",
      "  9   -2.772170723015      -12.97       -6.31    1.0    157ms\n",
      " 10   -2.772170723015   +  -15.05       -6.53    1.0    162ms\n",
      " 11   -2.772170723015      -13.95       -7.20    1.0    160ms\n",
      " 12   -2.772170723015   +    -Inf       -8.58    2.0    186ms\n",
      "n     Energy            log10(ΔE)   log10(Δρ)   Diag   Δtime\n",
      "---   ---------------   ---------   ---------   ----   ------\n",
      "  1   -2.770769944654                   -0.52    9.0         \n",
      "  2   -2.772057098510       -2.89       -1.32    1.0    136ms\n",
      "  3   -2.772083097705       -4.59       -2.52    1.0    138ms\n",
      "  4   -2.772083362670       -6.58       -3.34    1.0    154ms\n",
      "  5   -2.772083414644       -7.28       -3.79    2.0    159ms\n",
      "  6   -2.772083417727       -8.51       -4.96    1.0    165ms\n",
      "  7   -2.772083417802      -10.12       -5.06    2.0    162ms\n",
      "  8   -2.772083417810      -11.09       -5.95    1.0    148ms\n",
      "  9   -2.772083417811      -12.38       -6.62    2.0    189ms\n",
      " 10   -2.772083417811   +  -15.35       -7.72    1.0    157ms\n",
      " 11   -2.772083417811      -13.64       -8.40    1.0    159ms\n"
     ]
    },
    {
     "output_type": "execute_result",
     "data": {
      "text/plain": "1.7735579752089763"
     },
     "metadata": {},
     "execution_count": 2
    }
   ],
   "cell_type": "code",
   "source": [
    "polarizability_fd = let\n",
    "    ε = 0.01\n",
    "    (compute_dipole(ε) - compute_dipole(0.0)) / ε\n",
    "end"
   ],
   "metadata": {},
   "execution_count": 2
  },
  {
   "cell_type": "markdown",
   "source": [
    "We do the same thing using automatic differentiation. Under the hood this uses\n",
    "custom rules to implicitly differentiate through the self-consistent\n",
    "field fixed-point problem."
   ],
   "metadata": {}
  },
  {
   "outputs": [
    {
     "name": "stdout",
     "output_type": "stream",
     "text": [
      "n     Energy            log10(ΔE)   log10(Δρ)   Diag   Δtime\n",
      "---   ---------------   ---------   ---------   ----   ------\n",
      "  1   -2.770766656091                   -0.52    9.0         \n",
      "  2   -2.772060163387       -2.89       -1.32    1.0    137ms\n",
      "  3   -2.772083036140       -4.64       -2.44    1.0    173ms\n",
      "  4   -2.772083330778       -6.53       -3.12    1.0    140ms\n",
      "  5   -2.772083416644       -7.07       -3.98    2.0    181ms\n",
      "  6   -2.772083417568       -9.03       -4.40    1.0    166ms\n",
      "  7   -2.772083417806       -9.62       -5.54    1.0    145ms\n",
      "  8   -2.772083417810      -11.43       -5.75    2.0    181ms\n",
      "  9   -2.772083417811      -12.36       -7.20    1.0    156ms\n",
      " 10   -2.772083417811      -13.75       -7.06    3.0    201ms\n",
      " 11   -2.772083417811   +  -13.94       -8.04    1.0    159ms\n",
      "\n",
      "Polarizability via ForwardDiff:       1.7725349948979514\n",
      "Polarizability via finite difference: 1.7735579752089763\n"
     ]
    }
   ],
   "cell_type": "code",
   "source": [
    "polarizability = ForwardDiff.derivative(compute_dipole, 0.0)\n",
    "println()\n",
    "println(\"Polarizability via ForwardDiff:       $polarizability\")\n",
    "println(\"Polarizability via finite difference: $polarizability_fd\")"
   ],
   "metadata": {},
   "execution_count": 3
  }
 ],
 "nbformat_minor": 3,
 "metadata": {
  "language_info": {
   "file_extension": ".jl",
   "mimetype": "application/julia",
   "name": "julia",
   "version": "1.9.0"
  },
  "kernelspec": {
   "name": "julia-1.9",
   "display_name": "Julia 1.9.0",
   "language": "julia"
  }
 },
 "nbformat": 4
}
