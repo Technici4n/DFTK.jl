{
 "cells": [
  {
   "cell_type": "markdown",
   "source": [
    "# Eigenvalues of the dielectric matrix\n",
    "\n",
    "We compute a few eigenvalues of the dielectric matrix ($q=0$, $ω=0$) iteratively."
   ],
   "metadata": {}
  },
  {
   "outputs": [
    {
     "name": "stdout",
     "output_type": "stream",
     "text": [
      "n     Energy            log10(ΔE)   log10(Δρ)   Diag\n",
      "---   ---------------   ---------   ---------   ----\n",
      "  1   -7.233485269929                   -0.50    7.0\n",
      "  2   -7.249375714169       -1.80       -1.40    1.0\n",
      "  3   -7.251228986913       -2.73       -1.92    4.0\n",
      "  4   -7.251174198183   +   -4.26       -2.04    3.0\n",
      "  5   -7.251297557748       -3.91       -2.36    2.0\n",
      "  6   -7.251336261366       -4.41       -2.89    2.0\n",
      "  7   -7.251338746082       -5.60       -3.83    2.0\n",
      "  8   -7.251338783728       -7.42       -3.96    5.0\n",
      "  9   -7.251338797394       -7.86       -4.48    2.0\n",
      " 10   -7.251338798611       -8.91       -5.06    3.0\n",
      " 11   -7.251338798696      -10.07       -5.60    3.0\n",
      " 12   -7.251338798704      -11.08       -6.23    3.0\n",
      " 13   -7.251338798705      -12.50       -7.16    3.0\n",
      " 14   -7.251338798705      -14.57       -7.71    4.0\n"
     ]
    }
   ],
   "cell_type": "code",
   "source": [
    "using DFTK\n",
    "using Plots\n",
    "using KrylovKit\n",
    "using Printf\n",
    "\n",
    "# Calculation parameters\n",
    "kgrid = [1, 1, 1]\n",
    "Ecut = 5\n",
    "\n",
    "# Silicon lattice\n",
    "a = 10.26\n",
    "lattice = a / 2 .* [[0 1 1.]; [1 0 1.]; [1 1 0.]]\n",
    "Si = ElementPsp(:Si, psp=load_psp(\"hgh/lda/Si-q4\"))\n",
    "atoms     = [Si, Si]\n",
    "positions = [ones(3)/8, -ones(3)/8]\n",
    "\n",
    "# Compute the dielectric operator without symmetries\n",
    "model = model_LDA(lattice, atoms, positions, symmetries=false)\n",
    "basis = PlaneWaveBasis(model; Ecut, kgrid)\n",
    "scfres = self_consistent_field(basis, tol=1e-14);"
   ],
   "metadata": {},
   "execution_count": 1
  },
  {
   "cell_type": "markdown",
   "source": [
    "Applying $ε^† ≔ (1- χ_0 K)$ …"
   ],
   "metadata": {}
  },
  {
   "outputs": [],
   "cell_type": "code",
   "source": [
    "function eps_fun(δρ)\n",
    "    δV = apply_kernel(basis, δρ; ρ=scfres.ρ)\n",
    "    χ0δV = apply_χ0(scfres, δV)\n",
    "    δρ - χ0δV\n",
    "end;"
   ],
   "metadata": {},
   "execution_count": 2
  },
  {
   "cell_type": "markdown",
   "source": [
    "… eagerly diagonalizes the subspace matrix at each iteration"
   ],
   "metadata": {}
  },
  {
   "outputs": [
    {
     "name": "stdout",
     "output_type": "stream",
     "text": [
      "[ Info: Arnoldi iteration step 1: normres = 0.04527524592656215\n",
      "[ Info: Arnoldi iteration step 2: normres = 0.3716427594861368\n",
      "[ Info: Arnoldi iteration step 3: normres = 0.24317627967095765\n",
      "[ Info: Arnoldi iteration step 4: normres = 0.6415640229283908\n",
      "[ Info: Arnoldi iteration step 5: normres = 0.42492896690217674\n",
      "[ Info: Arnoldi schursolve in iter 1, krylovdim = 5: 0 values converged, normres = (3.45e-01, 8.72e-02, 1.65e-01, 1.50e-01, 6.45e-02)\n",
      "[ Info: Arnoldi iteration step 6: normres = 0.8528726239550658\n",
      "[ Info: Arnoldi schursolve in iter 1, krylovdim = 6: 0 values converged, normres = (6.99e-01, 3.06e-01, 3.58e-01, 9.79e-02, 5.62e-02)\n",
      "[ Info: Arnoldi iteration step 7: normres = 0.08574047379946005\n",
      "[ Info: Arnoldi schursolve in iter 1, krylovdim = 7: 0 values converged, normres = (3.38e-02, 2.07e-02, 8.82e-03, 2.50e-02, 6.44e-02)\n",
      "[ Info: Arnoldi iteration step 8: normres = 0.09681155836991369\n",
      "[ Info: Arnoldi schursolve in iter 1, krylovdim = 8: 0 values converged, normres = (1.41e-03, 1.42e-03, 6.76e-04, 7.82e-03, 4.92e-02)\n",
      "[ Info: Arnoldi iteration step 9: normres = 0.0936280681040382\n",
      "[ Info: Arnoldi schursolve in iter 1, krylovdim = 9: 0 values converged, normres = (5.76e-05, 9.61e-05, 5.07e-05, 2.69e-03, 4.69e-02)\n",
      "[ Info: Arnoldi iteration step 10: normres = 0.08832633554891384\n",
      "[ Info: Arnoldi schursolve in iter 1, krylovdim = 10: 0 values converged, normres = (2.21e-06, 6.11e-06, 3.58e-06, 8.52e-04, 3.43e-02)\n",
      "[ Info: Arnoldi iteration step 11: normres = 0.08212733115381145\n",
      "[ Info: Arnoldi schursolve in iter 1, krylovdim = 11: 0 values converged, normres = (7.95e-08, 3.64e-07, 2.38e-07, 2.61e-04, 2.58e-02)\n",
      "[ Info: Arnoldi iteration step 12: normres = 0.08871544630965243\n",
      "[ Info: Arnoldi schursolve in iter 1, krylovdim = 12: 0 values converged, normres = (3.01e-09, 2.26e-08, 1.63e-08, 7.08e-05, 1.40e-02)\n",
      "[ Info: Arnoldi iteration step 13: normres = 0.06997404777646236\n",
      "[ Info: Arnoldi schursolve in iter 1, krylovdim = 13: 0 values converged, normres = (9.03e-11, 1.11e-09, 8.89e-10, 1.56e-05, 6.63e-03)\n",
      "[ Info: Arnoldi iteration step 14: normres = 0.5296021923812361\n",
      "[ Info: Arnoldi schursolve in iter 1, krylovdim = 14: 0 values converged, normres = (3.66e-11, 1.46e-09, 1.80e-09, 5.27e-01, 1.59e-02)\n",
      "[ Info: Arnoldi iteration step 15: normres = 0.06499999605365873\n",
      "[ Info: Arnoldi schursolve in iter 1, krylovdim = 15: 0 values converged, normres = (1.23e-12, 1.85e-10, 2.75e-02, 2.23e-03, 3.91e-06)\n",
      "[ Info: Arnoldi iteration step 16: normres = 0.5591493565779365\n",
      "[ Info: Arnoldi schursolve in iter 1, krylovdim = 16: 1 values converged, normres = (5.77e-13, 3.73e-10, 9.82e-02, 2.75e-02, 5.48e-01)\n",
      "[ Info: Arnoldi iteration step 17: normres = 0.032399307790304525\n",
      "[ Info: Arnoldi schursolve in iter 1, krylovdim = 17: 1 values converged, normres = (1.01e-14, 1.14e-02, 6.67e-03, 2.50e-05, 2.70e-03)\n",
      "[ Info: Arnoldi iteration step 18: normres = 0.017593072861366237\n",
      "[ Info: Arnoldi schursolve in iter 1, krylovdim = 18: 1 values converged, normres = (7.36e-17, 9.35e-05, 1.22e-04, 1.40e-05, 3.12e-05)\n",
      "[ Info: Arnoldi iteration step 19: normres = 0.15911784890540404\n",
      "[ Info: Arnoldi schursolve in iter 1, krylovdim = 19: 1 values converged, normres = (4.99e-18, 1.06e-08, 1.69e-05, 3.62e-08, 4.18e-06)\n",
      "[ Info: Arnoldi iteration step 20: normres = 0.07944328609376106\n",
      "[ Info: Arnoldi schursolve in iter 1, krylovdim = 20: 1 values converged, normres = (1.91e-19, 1.15e-06, 1.20e-07, 1.68e-07, 2.79e-07)\n",
      "[ Info: Arnoldi iteration step 21: normres = 0.02297997597335411\n",
      "[ Info: Arnoldi schursolve in iter 1, krylovdim = 21: 1 values converged, normres = (1.83e-21, 2.93e-09, 1.77e-08, 4.23e-09, 3.63e-09)\n",
      "[ Info: Arnoldi iteration step 22: normres = 0.11175671294597038\n",
      "[ Info: Arnoldi schursolve in iter 1, krylovdim = 22: 1 values converged, normres = (8.46e-23, 4.83e-10, 1.23e-09, 3.45e-10, 2.92e-10)\n",
      "[ Info: Arnoldi iteration step 23: normres = 0.23232944824833698\n",
      "[ Info: Arnoldi schursolve in iter 1, krylovdim = 23: 1 values converged, normres = (1.81e-23, 6.33e-10, 1.63e-09, 2.48e-09, 1.59e-09)\n",
      "[ Info: Arnoldi iteration step 24: normres = 0.01379823468687503\n",
      "[ Info: Arnoldi schursolve in iter 1, krylovdim = 24: 1 values converged, normres = (1.05e-25, 7.11e-12, 1.82e-11, 8.80e-09, 3.14e-09)\n",
      "[ Info: Arnoldi iteration step 25: normres = 0.06197473138588607\n",
      "[ Info: Arnoldi schursolve in iter 1, krylovdim = 25: 3 values converged, normres = (2.69e-27, 2.90e-13, 7.43e-13, 1.36e-08, 2.74e-08)\n",
      "[ Info: Arnoldi iteration step 26: normres = 0.06354523061173506\n",
      "[ Info: Arnoldi schursolve in iter 1, krylovdim = 26: 3 values converged, normres = (7.67e-29, 1.40e-14, 3.57e-14, 1.35e-07, 2.45e-07)\n",
      "[ Info: Arnoldi iteration step 27: normres = 0.06440668008800325\n",
      "[ Info: Arnoldi schursolve in iter 1, krylovdim = 27: 3 values converged, normres = (2.05e-30, 6.00e-16, 1.54e-15, 1.84e-07, 3.16e-08)\n",
      "[ Info: Arnoldi iteration step 28: normres = 0.04783196751153879\n",
      "[ Info: Arnoldi schursolve in iter 1, krylovdim = 28: 3 values converged, normres = (4.35e-32, 2.12e-17, 5.43e-17, 3.92e-09, 8.02e-09)\n",
      "[ Info: Arnoldi iteration step 29: normres = 0.013332299549926959\n",
      "[ Info: Arnoldi schursolve in iter 1, krylovdim = 29: 3 values converged, normres = (2.39e-34, 1.86e-19, 4.77e-19, 5.56e-11, 8.30e-11)\n",
      "[ Info: Arnoldi iteration step 30: normres = 0.09300885755657744\n",
      "[ Info: Arnoldi schursolve in iter 1, krylovdim = 30: 3 values converged, normres = (9.20e-36, 1.15e-20, 2.94e-20, 3.78e-12, 5.64e-12)\n",
      "[ Info: Arnoldi schursolve in iter 2, krylovdim = 19: 3 values converged, normres = (9.20e-36, 1.15e-20, 2.94e-20, 3.78e-12, 5.64e-12)\n",
      "[ Info: Arnoldi iteration step 20: normres = 0.14965522462010888\n",
      "┌ Info: Arnoldi eigsolve finished after 2 iterations:\n",
      "│ *  6 eigenvalues converged\n",
      "│ *  norm of residuals = (6.549375740753316e-37, 1.4382111961908921e-21, 3.334725598496623e-21, 5.365899152112249e-13, 8.486728356000179e-13, 3.424862199998204e-13)\n",
      "└ *  number of operations = 31\n"
     ]
    }
   ],
   "cell_type": "code",
   "source": [
    "eigsolve(eps_fun, randn(size(scfres.ρ)), 5, :LM; eager=true, verbosity=3);"
   ],
   "metadata": {},
   "execution_count": 3
  }
 ],
 "nbformat_minor": 3,
 "metadata": {
  "language_info": {
   "file_extension": ".jl",
   "mimetype": "application/julia",
   "name": "julia",
   "version": "1.8.3"
  },
  "kernelspec": {
   "name": "julia-1.8",
   "display_name": "Julia 1.8.3",
   "language": "julia"
  }
 },
 "nbformat": 4
}
