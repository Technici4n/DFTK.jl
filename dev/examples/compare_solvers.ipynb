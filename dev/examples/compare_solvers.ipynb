{
 "cells": [
  {
   "cell_type": "markdown",
   "source": [
    "# Comparison of DFT solvers"
   ],
   "metadata": {}
  },
  {
   "cell_type": "markdown",
   "source": [
    "We compare four different approaches for solving the DFT minimisation problem,\n",
    "namely a density-based SCF, a potential-based SCF, direct minimisation and Newton."
   ],
   "metadata": {}
  },
  {
   "cell_type": "markdown",
   "source": [
    "First we setup our problem"
   ],
   "metadata": {}
  },
  {
   "outputs": [],
   "cell_type": "code",
   "source": [
    "using DFTK\n",
    "using LinearAlgebra\n",
    "\n",
    "a = 10.26  # Silicon lattice constant in Bohr\n",
    "lattice = a / 2 * [[0 1 1.];\n",
    "                   [1 0 1.];\n",
    "                   [1 1 0.]]\n",
    "Si = ElementPsp(:Si, psp=load_psp(\"hgh/lda/Si-q4\"))\n",
    "atoms     = [Si, Si]\n",
    "positions = [ones(3)/8, -ones(3)/8]\n",
    "\n",
    "model = model_LDA(lattice, atoms, positions)\n",
    "basis = PlaneWaveBasis(model; Ecut=5, kgrid=[3, 3, 3])\n",
    "\n",
    "# Convergence we desire\n",
    "tol = 1e-12\n",
    "is_converged = DFTK.ScfConvergenceDensity(tol);"
   ],
   "metadata": {},
   "execution_count": 1
  },
  {
   "cell_type": "markdown",
   "source": [
    "## Density-based self-consistent field"
   ],
   "metadata": {}
  },
  {
   "outputs": [
    {
     "name": "stdout",
     "output_type": "stream",
     "text": [
      "n     Energy            log10(ΔE)   log10(Δρ)   Diag\n",
      "---   ---------------   ---------   ---------   ----\n",
      "  1   -7.846773104028                   -0.70    4.5\n",
      "  2   -7.852309274213       -2.26       -1.53    1.0\n",
      "  3   -7.852646228748       -3.47       -2.52    3.2\n",
      "  4   -7.852646676854       -6.35       -3.36    2.0\n",
      "  5   -7.852646685742       -8.05       -4.73    1.2\n",
      "  6   -7.852646686722       -9.01       -5.20    3.5\n",
      "  7   -7.852646686730      -11.11       -6.28    1.8\n",
      "  8   -7.852646686730      -12.71       -7.56    2.2\n",
      "  9   -7.852646686730      -15.05       -7.60    2.2\n",
      " 10   -7.852646686730   +    -Inf       -8.83    2.0\n",
      " 11   -7.852646686730      -15.05       -9.58    2.5\n",
      " 12   -7.852646686730      -14.75      -10.68    2.0\n",
      " 13   -7.852646686730   +  -15.05      -10.13    1.0\n",
      " 14   -7.852646686730   +  -14.45      -10.05    1.0\n",
      " 15   -7.852646686730      -14.45      -10.63    1.0\n",
      " 16   -7.852646686730   +  -14.75       -9.82    1.5\n",
      " 17   -7.852646686730      -15.05      -10.50    1.0\n",
      " 18   -7.852646686730   +  -15.05      -10.75    1.0\n",
      " 19   -7.852646686730   +    -Inf      -11.64    1.2\n",
      " 20   -7.852646686730   +    -Inf      -11.25    1.0\n",
      " 21   -7.852646686730   +  -14.75      -11.60    1.2\n",
      " 22   -7.852646686730      -14.75      -12.48    2.0\n"
     ]
    }
   ],
   "cell_type": "code",
   "source": [
    "scfres_scf = self_consistent_field(basis; is_converged);"
   ],
   "metadata": {},
   "execution_count": 2
  },
  {
   "cell_type": "markdown",
   "source": [
    "## Potential-based SCF"
   ],
   "metadata": {}
  },
  {
   "outputs": [
    {
     "name": "stdout",
     "output_type": "stream",
     "text": [
      "n     Energy            log10(ΔE)   log10(Δρ)   α      Diag\n",
      "---   ---------------   ---------   ---------   ----   ----\n",
      "  1   -7.846813057554                   -0.70           4.5\n",
      "  2   -7.852528898657       -2.24       -1.63   0.80    2.2\n",
      "  3   -7.852637010409       -3.97       -2.71   0.80    1.0\n",
      "  4   -7.852646479642       -5.02       -3.29   0.80    2.2\n",
      "  5   -7.852646670261       -6.72       -4.16   0.80    1.2\n",
      "  6   -7.852646686397       -7.79       -4.74   0.80    2.0\n",
      "  7   -7.852646686710       -9.50       -5.42   0.80    1.5\n",
      "  8   -7.852646686729      -10.72       -6.45   0.80    1.8\n",
      "  9   -7.852646686730      -12.36       -7.56   0.80    2.5\n",
      " 10   -7.852646686730      -14.01       -7.98   0.80    2.2\n",
      " 11   -7.852646686730      -14.75       -8.45   0.80    1.0\n",
      " 12   -7.852646686730   +    -Inf       -9.19   0.80    1.8\n",
      " 13   -7.852646686730   +    -Inf       -9.72   0.80    1.8\n",
      " 14   -7.852646686730   +  -15.05      -10.53   0.80    1.5\n",
      " 15   -7.852646686730   +  -14.75      -10.94   0.80    2.2\n",
      " 16   -7.852646686730   +  -15.05      -11.97   0.80    1.0\n",
      " 17   -7.852646686730      -14.75      -12.18   0.80    2.2\n"
     ]
    }
   ],
   "cell_type": "code",
   "source": [
    "scfres_scfv = DFTK.scf_potential_mixing(basis; is_converged);"
   ],
   "metadata": {},
   "execution_count": 3
  },
  {
   "cell_type": "markdown",
   "source": [
    "## Direct minimization"
   ],
   "metadata": {}
  },
  {
   "outputs": [
    {
     "name": "stdout",
     "output_type": "stream",
     "text": [
      "Iter     Function value   Gradient norm \n",
      "     0     1.362744e+01     3.295891e+00\n",
      " * time: 0.44206690788269043\n",
      "     1     1.217732e+00     1.760908e+00\n",
      " * time: 0.7732341289520264\n",
      "     2    -1.705896e+00     2.058684e+00\n",
      " * time: 0.7976200580596924\n",
      "     3    -3.749497e+00     1.695687e+00\n",
      " * time: 0.83489990234375\n",
      "     4    -5.051752e+00     1.571388e+00\n",
      " * time: 0.871406078338623\n",
      "     5    -6.739739e+00     7.838982e-01\n",
      " * time: 0.9067039489746094\n",
      "     6    -7.378367e+00     4.000450e-01\n",
      " * time: 0.9420299530029297\n",
      "     7    -7.628567e+00     1.841267e-01\n",
      " * time: 0.9671890735626221\n",
      "     8    -7.745297e+00     1.158328e-01\n",
      " * time: 0.9920430183410645\n",
      "     9    -7.804132e+00     9.759189e-02\n",
      " * time: 1.017798900604248\n",
      "    10    -7.827757e+00     6.481818e-02\n",
      " * time: 1.042815923690796\n",
      "    11    -7.841549e+00     6.482859e-02\n",
      " * time: 1.0682499408721924\n",
      "    12    -7.847314e+00     4.246039e-02\n",
      " * time: 1.0941789150238037\n",
      "    13    -7.850393e+00     3.034231e-02\n",
      " * time: 1.1196401119232178\n",
      "    14    -7.851642e+00     2.173926e-02\n",
      " * time: 1.1464550495147705\n",
      "    15    -7.852188e+00     9.783216e-03\n",
      " * time: 1.1723449230194092\n",
      "    16    -7.852485e+00     5.673869e-03\n",
      " * time: 1.1981348991394043\n",
      "    17    -7.852605e+00     2.949392e-03\n",
      " * time: 1.2243549823760986\n",
      "    18    -7.852634e+00     2.120528e-03\n",
      " * time: 1.2490019798278809\n",
      "    19    -7.852642e+00     9.430464e-04\n",
      " * time: 1.2744300365447998\n",
      "    20    -7.852645e+00     4.921881e-04\n",
      " * time: 1.2996890544891357\n",
      "    21    -7.852646e+00     2.723820e-04\n",
      " * time: 1.3247849941253662\n",
      "    22    -7.852647e+00     1.924403e-04\n",
      " * time: 1.3504359722137451\n",
      "    23    -7.852647e+00     1.138924e-04\n",
      " * time: 1.3745129108428955\n",
      "    24    -7.852647e+00     5.569249e-05\n",
      " * time: 1.3995471000671387\n",
      "    25    -7.852647e+00     3.614224e-05\n",
      " * time: 1.4254870414733887\n",
      "    26    -7.852647e+00     2.520475e-05\n",
      " * time: 1.4504461288452148\n",
      "    27    -7.852647e+00     1.560289e-05\n",
      " * time: 1.4760570526123047\n",
      "    28    -7.852647e+00     8.897597e-06\n",
      " * time: 1.5019121170043945\n",
      "    29    -7.852647e+00     5.270534e-06\n",
      " * time: 1.526911973953247\n",
      "    30    -7.852647e+00     2.446145e-06\n",
      " * time: 1.5523059368133545\n",
      "    31    -7.852647e+00     1.577848e-06\n",
      " * time: 1.5783469676971436\n",
      "    32    -7.852647e+00     7.449057e-07\n",
      " * time: 1.606184959411621\n",
      "    33    -7.852647e+00     4.132593e-07\n",
      " * time: 1.6336591243743896\n",
      "    34    -7.852647e+00     2.411693e-07\n",
      " * time: 1.6602721214294434\n",
      "    35    -7.852647e+00     1.471412e-07\n",
      " * time: 1.6864879131317139\n",
      "    36    -7.852647e+00     9.345029e-08\n",
      " * time: 1.7124269008636475\n",
      "    37    -7.852647e+00     6.050967e-08\n",
      " * time: 1.7390799522399902\n",
      "    38    -7.852647e+00     3.535211e-08\n",
      " * time: 1.765010118484497\n",
      "    39    -7.852647e+00     1.444326e-08\n",
      " * time: 1.7899749279022217\n",
      "    40    -7.852647e+00     1.118745e-08\n",
      " * time: 1.8260219097137451\n",
      "    41    -7.852647e+00     8.090015e-09\n",
      " * time: 1.8631739616394043\n",
      "    42    -7.852647e+00     5.447495e-09\n",
      " * time: 1.8886630535125732\n",
      "    43    -7.852647e+00     5.375118e-09\n",
      " * time: 1.9365050792694092\n"
     ]
    }
   ],
   "cell_type": "code",
   "source": [
    "scfres_dm = direct_minimization(basis; tol);"
   ],
   "metadata": {},
   "execution_count": 4
  },
  {
   "cell_type": "markdown",
   "source": [
    "## Newton algorithm"
   ],
   "metadata": {}
  },
  {
   "cell_type": "markdown",
   "source": [
    "Start not too far from the solution to ensure convergence:\n",
    "We run first a very crude SCF to get close and then switch to Newton."
   ],
   "metadata": {}
  },
  {
   "outputs": [
    {
     "name": "stdout",
     "output_type": "stream",
     "text": [
      "n     Energy            log10(ΔE)   log10(Δρ)   Diag\n",
      "---   ---------------   ---------   ---------   ----\n",
      "  1   -7.846829184847                   -0.70    4.5\n",
      "  2   -7.852317021731       -2.26       -1.53    1.0\n"
     ]
    }
   ],
   "cell_type": "code",
   "source": [
    "scfres_start = self_consistent_field(basis; tol=1e-1);"
   ],
   "metadata": {},
   "execution_count": 5
  },
  {
   "cell_type": "markdown",
   "source": [
    "Remove the virtual orbitals (which Newton cannot treat yet)"
   ],
   "metadata": {}
  },
  {
   "outputs": [
    {
     "name": "stdout",
     "output_type": "stream",
     "text": [
      "n     Energy            log10(ΔE)   log10(Δρ)\n",
      "---   ---------------   ---------   ---------\n",
      "  1   -7.852646686712                   -2.54\n",
      "  2   -7.852646686730      -10.74       -6.00\n",
      "  3   -7.852646686730      -15.05      -12.69\n"
     ]
    }
   ],
   "cell_type": "code",
   "source": [
    "ψ, _ = DFTK.select_occupied_orbitals(basis, scfres_start.ψ, scfres_start.occupation)\n",
    "scfres_newton = newton(basis, ψ; tol);"
   ],
   "metadata": {},
   "execution_count": 6
  },
  {
   "cell_type": "markdown",
   "source": [
    "## Comparison of results"
   ],
   "metadata": {}
  },
  {
   "outputs": [
    {
     "name": "stdout",
     "output_type": "stream",
     "text": [
      "|ρ_newton - ρ_scf|  = 7.791781588506487e-14\n",
      "|ρ_newton - ρ_scfv| = 1.5324629805970736e-12\n",
      "|ρ_newton - ρ_dm|   = 1.6629163527863876e-10\n"
     ]
    }
   ],
   "cell_type": "code",
   "source": [
    "println(\"|ρ_newton - ρ_scf|  = \", norm(scfres_newton.ρ - scfres_scf.ρ))\n",
    "println(\"|ρ_newton - ρ_scfv| = \", norm(scfres_newton.ρ - scfres_scfv.ρ))\n",
    "println(\"|ρ_newton - ρ_dm|   = \", norm(scfres_newton.ρ - scfres_dm.ρ))"
   ],
   "metadata": {},
   "execution_count": 7
  }
 ],
 "nbformat_minor": 3,
 "metadata": {
  "language_info": {
   "file_extension": ".jl",
   "mimetype": "application/julia",
   "name": "julia",
   "version": "1.8.2"
  },
  "kernelspec": {
   "name": "julia-1.8",
   "display_name": "Julia 1.8.2",
   "language": "julia"
  }
 },
 "nbformat": 4
}
