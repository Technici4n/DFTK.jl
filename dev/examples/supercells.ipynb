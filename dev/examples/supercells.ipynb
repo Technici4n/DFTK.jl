{
 "cells": [
  {
   "cell_type": "markdown",
   "source": [
    "# Creating and modelling metallic supercells\n",
    "\n",
    "In this section we will be concerned with modelling supercells of aluminium.\n",
    "When dealing with periodic problems there is no unique definition of the\n",
    "lattice: Clearly any duplication of the lattice along an axis is also a valid\n",
    "repetitive unit to describe exactly the same system.\n",
    "This is exactly what a **supercell** is: An $n$-fold repetition along one of the\n",
    "axes of the original lattice.\n",
    "\n",
    "The following code achieves this for aluminium:"
   ],
   "metadata": {}
  },
  {
   "outputs": [
    {
     "name": "stdout",
     "output_type": "stream",
     "text": [
      "    CondaPkg Found dependencies: /home/runner/.julia/packages/ASEconvert/neSFl/CondaPkg.toml\n",
      "    CondaPkg Found dependencies: /home/runner/.julia/packages/PythonCall/dsECZ/CondaPkg.toml\n",
      "    CondaPkg Dependencies already up to date\n"
     ]
    }
   ],
   "cell_type": "code",
   "source": [
    "using DFTK\n",
    "using LinearAlgebra\n",
    "using ASEconvert\n",
    "\n",
    "function aluminium_setup(repeat=1; Ecut=7.0, kgrid=[2, 2, 2])\n",
    "    a = 7.65339\n",
    "    lattice = a * Matrix(I, 3, 3)\n",
    "    Al = ElementPsp(:Al, psp=load_psp(\"hgh/lda/al-q3\"))\n",
    "    atoms     = [Al, Al, Al, Al]\n",
    "    positions = [[0.0, 0.0, 0.0], [0.0, 0.5, 0.5], [0.5, 0.0, 0.5], [0.5, 0.5, 0.0]]\n",
    "    unit_cell = periodic_system(lattice, atoms, positions)\n",
    "\n",
    "    # Make supercell in ASE:\n",
    "    # We convert our lattice to the conventions used in ASE, make the supercell\n",
    "    # and then convert back ...\n",
    "    supercell_ase = convert_ase(unit_cell) * pytuple((repeat, 1, 1))\n",
    "    supercell     = pyconvert(AbstractSystem, supercell_ase)\n",
    "\n",
    "    # Unfortunately right now the conversion to ASE drops the pseudopotential information,\n",
    "    # so we need to reattach it:\n",
    "    supercell = attach_psp(supercell, Al=\"hgh/lda/al-q3\")\n",
    "\n",
    "    # Construct an LDA model and discretise\n",
    "    # Note: We disable symmetries explicitly here. Otherwise the problem sizes\n",
    "    #       we are able to run on the CI are too simple to observe the numerical\n",
    "    #       instabilities we want to trigger here.\n",
    "    model = model_LDA(supercell; temperature=1e-3, symmetries=false)\n",
    "    PlaneWaveBasis(model; Ecut, kgrid)\n",
    "end;"
   ],
   "metadata": {},
   "execution_count": 1
  },
  {
   "cell_type": "markdown",
   "source": [
    "As part of the code we are using a routine inside the ASE,\n",
    "the [atomistic simulation environment](https://wiki.fysik.dtu.dk/ase/index.html)\n",
    "for creating the supercell and make use of the two-way interoperability of\n",
    "DFTK and ASE. For more details on this aspect see the documentation\n",
    "on Input and output formats."
   ],
   "metadata": {}
  },
  {
   "cell_type": "markdown",
   "source": [
    "Write an example supercell structure to a file to plot it:"
   ],
   "metadata": {}
  },
  {
   "outputs": [
    {
     "name": "stdout",
     "output_type": "stream",
     "text": [
      "┌ Warning: Skipping atomic property pseudopotential, which is not supported in ASE.\n",
      "└ @ ASEconvert ~/.julia/packages/ASEconvert/neSFl/src/ASEconvert.jl:123\n",
      "┌ Warning: Skipping atomic property pseudopotential, which is not supported in ASE.\n",
      "└ @ ASEconvert ~/.julia/packages/ASEconvert/neSFl/src/ASEconvert.jl:123\n"
     ]
    },
    {
     "output_type": "execute_result",
     "data": {
      "text/plain": "\u001b[0m\u001b[1mPython None\u001b[22m"
     },
     "metadata": {},
     "execution_count": 2
    }
   ],
   "cell_type": "code",
   "source": [
    "setup = aluminium_setup(5)\n",
    "convert_ase(periodic_system(setup.model)).write(\"al_supercell.png\")"
   ],
   "metadata": {},
   "execution_count": 2
  },
  {
   "cell_type": "markdown",
   "source": [
    "<img src=\"https://docs.dftk.org/stable/examples/al_supercell.png\" width=500 height=500 />"
   ],
   "metadata": {}
  },
  {
   "cell_type": "markdown",
   "source": [
    "As we will see in this notebook the modelling of a system generally becomes\n",
    "harder if the system becomes larger.\n",
    "\n",
    "- This sounds like a trivial statement as *per se* the cost per SCF step increases\n",
    "  as the system (and thus $N$) gets larger.\n",
    "- But there is more to it:\n",
    "  If one is not careful also the *number of SCF iterations* increases\n",
    "  as the system gets larger.\n",
    "- The aim of a proper computational treatment of such supercells is therefore\n",
    "  to ensure that the **number of SCF iterations remains constant** when the\n",
    "  system size increases."
   ],
   "metadata": {}
  },
  {
   "cell_type": "markdown",
   "source": [
    "For achieving the latter DFTK by default employs the `LdosMixing`\n",
    "preconditioner [^HL2021] during the SCF iterations. This mixing approach is\n",
    "completely parameter free, but still automatically adapts to the treated\n",
    "system in order to efficiently prevent charge sloshing. As a result,\n",
    "modelling aluminium slabs indeed takes roughly the same number of SCF iterations\n",
    "irrespective of the supercell size:\n",
    "\n",
    "[^HL2021]:\n",
    "   M. F. Herbst and A. Levitt.\n",
    "   *Black-box inhomogeneous preconditioning for self-consistent field iterations in density functional theory.*\n",
    "   J. Phys. Cond. Matt *33* 085503 (2021). [ArXiv:2009.01665](https://arxiv.org/abs/2009.01665)"
   ],
   "metadata": {}
  },
  {
   "outputs": [
    {
     "name": "stdout",
     "output_type": "stream",
     "text": [
      "┌ Warning: Skipping atomic property pseudopotential, which is not supported in ASE.\n",
      "└ @ ASEconvert ~/.julia/packages/ASEconvert/neSFl/src/ASEconvert.jl:123\n",
      "n     Energy            log10(ΔE)   log10(Δρ)   Diag   Δtime\n",
      "---   ---------------   ---------   ---------   ----   ------\n",
      "  1   -8.298273872042                   -0.85    5.0         \n",
      "  2   -8.300162575829       -2.72       -1.25    1.2    168ms\n",
      "  3   -8.300430738492       -3.57       -1.89    2.1    190ms\n",
      "  4   -8.300461085854       -4.52       -2.76    2.6    250ms\n",
      "  5   -8.300463888948       -5.55       -3.06    2.6    209ms\n",
      "  6   -8.300464215756       -6.49       -3.21    4.4    228ms\n",
      "  7   -8.300464417346       -6.70       -3.35    8.2    358ms\n",
      "  8   -8.300464526519       -6.96       -3.48    2.1    209ms\n",
      "  9   -8.300464614448       -7.06       -3.70    1.6    241ms\n",
      " 10   -8.300464621129       -8.18       -3.76    1.1    172ms\n",
      " 11   -8.300464638866       -7.75       -4.00    2.1    230ms\n",
      " 12   -8.300464643878       -8.30       -4.46    2.1    236ms\n"
     ]
    }
   ],
   "cell_type": "code",
   "source": [
    "self_consistent_field(aluminium_setup(1); tol=1e-4);"
   ],
   "metadata": {},
   "execution_count": 3
  },
  {
   "outputs": [
    {
     "name": "stdout",
     "output_type": "stream",
     "text": [
      "┌ Warning: Skipping atomic property pseudopotential, which is not supported in ASE.\n",
      "└ @ ASEconvert ~/.julia/packages/ASEconvert/neSFl/src/ASEconvert.jl:123\n",
      "n     Energy            log10(ΔE)   log10(Δρ)   Diag   Δtime\n",
      "---   ---------------   ---------   ---------   ----   ------\n",
      "  1   -16.67397743935                   -0.70    6.5         \n",
      "  2   -16.67868835286       -2.33       -1.14    1.5    436ms\n",
      "  3   -16.67919603894       -3.29       -1.86    2.0    482ms\n",
      "  4   -16.67927761417       -4.09       -2.75    4.5    552ms\n",
      "  5   -16.67928598685       -5.08       -3.17    4.6    662ms\n",
      "  6   -16.67928620149       -6.67       -3.46    2.5    485ms\n",
      "  7   -16.67928621814       -7.78       -3.93    2.0    418ms\n",
      "  8   -16.67928622146       -8.48       -4.57    2.5    492ms\n"
     ]
    }
   ],
   "cell_type": "code",
   "source": [
    "self_consistent_field(aluminium_setup(2); tol=1e-4);"
   ],
   "metadata": {},
   "execution_count": 4
  },
  {
   "outputs": [
    {
     "name": "stdout",
     "output_type": "stream",
     "text": [
      "┌ Warning: Skipping atomic property pseudopotential, which is not supported in ASE.\n",
      "└ @ ASEconvert ~/.julia/packages/ASEconvert/neSFl/src/ASEconvert.jl:123\n",
      "n     Energy            log10(ΔE)   log10(Δρ)   Diag   Δtime\n",
      "---   ---------------   ---------   ---------   ----   ------\n",
      "  1   -33.32498835319                   -0.56    6.4         \n",
      "  2   -33.33258557804       -2.12       -1.00    1.0    1.50s\n",
      "  3   -33.33408325442       -2.82       -1.73    4.2    1.91s\n",
      "  4   -33.33428508950       -3.70       -2.65    2.4    1.64s\n",
      "  5   -33.33574897359       -2.83       -2.30    8.1    2.50s\n",
      "  6   -33.33694239002       -2.92       -2.51    4.4    1.64s\n",
      "  7   -33.33694278746       -6.40       -2.54    2.4    1.54s\n",
      "  8   -33.33688398823   +   -4.23       -2.47    1.9    1.51s\n",
      "  9   -33.33686440390   +   -4.71       -2.40    3.9    1.69s\n",
      " 10   -33.33686287250   +   -5.81       -2.40    1.0    1.39s\n",
      " 11   -33.33687239848       -5.02       -2.42    1.0    1.36s\n",
      " 12   -33.33687549580       -5.51       -2.43    1.0    1.37s\n",
      " 13   -33.33687964995       -5.38       -2.45    1.0    1.40s\n",
      " 14   -33.33688118610       -5.81       -2.45    1.0    1.38s\n",
      " 15   -33.33688545025       -5.37       -2.47    1.0    1.37s\n",
      " 16   -33.33688000488   +   -5.26       -2.45    1.0    1.39s\n",
      " 17   -33.33694351004       -4.20       -3.77    1.8    1.71s\n",
      " 18   -33.33694364349       -6.87       -3.77    3.8    2.28s\n",
      " 19   -33.33694363416   +   -8.03       -3.74    2.0    1.49s\n",
      " 20   -33.33694369578       -7.21       -4.00    1.4    1.38s\n",
      " 21   -33.33694372712       -7.50       -4.06    1.4    1.39s\n"
     ]
    }
   ],
   "cell_type": "code",
   "source": [
    "self_consistent_field(aluminium_setup(4); tol=1e-4);"
   ],
   "metadata": {},
   "execution_count": 5
  },
  {
   "cell_type": "markdown",
   "source": [
    "When switching off explicitly the `LdosMixing`, by selecting `mixing=SimpleMixing()`,\n",
    "the performance of number of required SCF steps starts to increase as we increase\n",
    "the size of the modelled problem:"
   ],
   "metadata": {}
  },
  {
   "outputs": [
    {
     "name": "stdout",
     "output_type": "stream",
     "text": [
      "┌ Warning: Skipping atomic property pseudopotential, which is not supported in ASE.\n",
      "└ @ ASEconvert ~/.julia/packages/ASEconvert/neSFl/src/ASEconvert.jl:123\n",
      "n     Energy            log10(ΔE)   log10(Δρ)   Diag   Δtime\n",
      "---   ---------------   ---------   ---------   ----   ------\n",
      "  1   -8.298547337031                   -0.85    5.1         \n",
      "  2   -8.300281807947       -2.76       -1.59    1.4    128ms\n",
      "  3   -8.300438540722       -3.80       -2.68    2.9    164ms\n",
      "  4   -8.300438433689   +   -6.97       -2.54    7.5    319ms\n",
      "  5   -8.300464282396       -4.59       -3.33    1.1    143ms\n",
      "  6   -8.300464589634       -6.51       -3.77    2.1    182ms\n",
      "  7   -8.300464639846       -7.30       -4.32    1.2    137ms\n"
     ]
    }
   ],
   "cell_type": "code",
   "source": [
    "self_consistent_field(aluminium_setup(1); tol=1e-4, mixing=SimpleMixing());"
   ],
   "metadata": {},
   "execution_count": 6
  },
  {
   "outputs": [
    {
     "name": "stdout",
     "output_type": "stream",
     "text": [
      "┌ Warning: Skipping atomic property pseudopotential, which is not supported in ASE.\n",
      "└ @ ASEconvert ~/.julia/packages/ASEconvert/neSFl/src/ASEconvert.jl:123\n",
      "n     Energy            log10(ΔE)   log10(Δρ)   Diag   Δtime\n",
      "---   ---------------   ---------   ---------   ----   ------\n",
      "  1   -33.32573182173                   -0.56    6.8         \n",
      "  2   -33.31496462679   +   -1.97       -1.27    1.0    1.72s\n",
      "  3   -15.51196823316   +    1.25       -0.44    6.4    2.71s\n",
      "  4   -33.32481627155        1.25       -1.78    5.6    2.50s\n",
      "  5   -32.88762572157   +   -0.36       -1.16    4.4    2.36s\n",
      "  6   -31.73104602208   +    0.06       -0.95    4.5    2.28s\n",
      "  7   -33.33186098161        0.20       -2.02    4.1    2.06s\n",
      "  8   -33.32572106417   +   -2.21       -1.85    2.5    1.79s\n",
      "  9   -33.33646504605       -1.97       -2.36    2.6    1.73s\n",
      " 10   -33.33668517886       -3.66       -2.80    1.9    1.55s\n",
      " 11   -33.33692415470       -3.62       -3.24    3.0    1.75s\n",
      " 12   -33.33693611387       -4.92       -3.43    2.9    1.75s\n",
      " 13   -33.33693892589       -5.55       -3.61    2.5    1.66s\n",
      " 14   -33.33694347593       -5.34       -4.16    2.9    1.67s\n"
     ]
    }
   ],
   "cell_type": "code",
   "source": [
    "self_consistent_field(aluminium_setup(4); tol=1e-4, mixing=SimpleMixing());"
   ],
   "metadata": {},
   "execution_count": 7
  },
  {
   "cell_type": "markdown",
   "source": [
    "For completion let us note that the more traditional `mixing=KerkerMixing()`\n",
    "approach would also help in this particular setting to obtain a constant\n",
    "number of SCF iterations for an increasing system size (try it!). In contrast\n",
    "to `LdosMixing`, however, `KerkerMixing` is only suitable to model bulk metallic\n",
    "system (like the case we are considering here). When modelling metallic surfaces\n",
    "or mixtures of metals and insulators, `KerkerMixing` fails, while `LdosMixing`\n",
    "still works well. See the Modelling a gallium arsenide surface example\n",
    "or [^HL2021] for details. Due to the general applicability of `LdosMixing` this\n",
    "method is the default mixing approach in DFTK."
   ],
   "metadata": {}
  }
 ],
 "nbformat_minor": 3,
 "metadata": {
  "language_info": {
   "file_extension": ".jl",
   "mimetype": "application/julia",
   "name": "julia",
   "version": "1.8.5"
  },
  "kernelspec": {
   "name": "julia-1.8",
   "display_name": "Julia 1.8.5",
   "language": "julia"
  }
 },
 "nbformat": 4
}
