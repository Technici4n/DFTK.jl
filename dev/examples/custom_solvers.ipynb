{
 "cells": [
  {
   "cell_type": "markdown",
   "source": [
    "# Custom solvers\n",
    "In this example, we show how to define custom solvers. Our system\n",
    "will again be silicon, because we are not very imaginative"
   ],
   "metadata": {}
  },
  {
   "outputs": [],
   "cell_type": "code",
   "source": [
    "using DFTK, LinearAlgebra\n",
    "\n",
    "a = 10.26\n",
    "lattice = a / 2 * [[0 1 1.];\n",
    "                   [1 0 1.];\n",
    "                   [1 1 0.]]\n",
    "Si = ElementPsp(:Si, psp=load_psp(\"hgh/lda/Si-q4\"))\n",
    "atoms = [Si, Si]\n",
    "positions =  [ones(3)/8, -ones(3)/8]\n",
    "\n",
    "# We take very (very) crude parameters\n",
    "model = model_LDA(lattice, atoms, positions)\n",
    "basis = PlaneWaveBasis(model; Ecut=5, kgrid=[1, 1, 1]);"
   ],
   "metadata": {},
   "execution_count": 1
  },
  {
   "cell_type": "markdown",
   "source": [
    "We define our custom fix-point solver: simply a damped fixed-point"
   ],
   "metadata": {}
  },
  {
   "outputs": [],
   "cell_type": "code",
   "source": [
    "function my_fp_solver(f, x0, max_iter; tol)\n",
    "    mixing_factor = .7\n",
    "    x = x0\n",
    "    fx = f(x)\n",
    "    for n = 1:max_iter\n",
    "        inc = fx - x\n",
    "        if norm(inc) < tol\n",
    "            break\n",
    "        end\n",
    "        x = x + mixing_factor * inc\n",
    "        fx = f(x)\n",
    "    end\n",
    "    (fixpoint=x, converged=norm(fx-x) < tol)\n",
    "end;"
   ],
   "metadata": {},
   "execution_count": 2
  },
  {
   "cell_type": "markdown",
   "source": [
    "Our eigenvalue solver just forms the dense matrix and diagonalizes\n",
    "it explicitly (this only works for very small systems)"
   ],
   "metadata": {}
  },
  {
   "outputs": [],
   "cell_type": "code",
   "source": [
    "function my_eig_solver(A, X0; maxiter, tol, kwargs...)\n",
    "    n = size(X0, 2)\n",
    "    A = Array(A)\n",
    "    E = eigen(A)\n",
    "    λ = E.values[1:n]\n",
    "    X = E.vectors[:, 1:n]\n",
    "    (; λ, X, residual_norms=[], iterations=0, converged=true, n_matvec=0)\n",
    "end;"
   ],
   "metadata": {},
   "execution_count": 3
  },
  {
   "cell_type": "markdown",
   "source": [
    "Finally we also define our custom mixing scheme. It will be a mixture\n",
    "of simple mixing (for the first 2 steps) and than default to Kerker mixing.\n",
    "In the mixing interface `δF` is $(ρ_\\text{out} - ρ_\\text{in})$, i.e.\n",
    "the difference in density between two subsequent SCF steps and the `mix`\n",
    "function returns $δρ$, which is added to $ρ_\\text{in}$ to yield $ρ_\\text{next}$,\n",
    "the density for the next SCF step."
   ],
   "metadata": {}
  },
  {
   "outputs": [],
   "cell_type": "code",
   "source": [
    "struct MyMixing\n",
    "    n_simple  # Number of iterations for simple mixing\n",
    "end\n",
    "MyMixing() = MyMixing(2)\n",
    "\n",
    "function DFTK.mix_density(mixing::MyMixing, basis, δF; n_iter, kwargs...)\n",
    "    if n_iter <= mixing.n_simple\n",
    "        return δF  # Simple mixing -> Do not modify update at all\n",
    "    else\n",
    "        # Use the default KerkerMixing from DFTK\n",
    "        DFTK.mix_density(KerkerMixing(), basis, δF; kwargs...)\n",
    "    end\n",
    "end"
   ],
   "metadata": {},
   "execution_count": 4
  },
  {
   "cell_type": "markdown",
   "source": [
    "That's it! Now we just run the SCF with these solvers"
   ],
   "metadata": {}
  },
  {
   "outputs": [
    {
     "name": "stdout",
     "output_type": "stream",
     "text": [
      "n     Energy            log10(ΔE)   log10(Δρ)   Diag   Δtime\n",
      "---   ---------------   ---------   ---------   ----   ------\n",
      "  1   -7.227962789379                   -0.49    0.0         \n",
      "  2   -7.248329768185       -1.69       -0.89    0.0    659ms\n",
      "  3   -7.251097702986       -2.56       -1.33    0.0   85.7ms\n",
      "  4   -7.251278849945       -3.74       -1.64    0.0   86.9ms\n",
      "  5   -7.251323513582       -4.35       -1.94    0.0   87.0ms\n",
      "  6   -7.251334726739       -4.95       -2.24    0.0   86.5ms\n",
      "  7   -7.251337655349       -5.53       -2.53    0.0   92.1ms\n",
      "  8   -7.251338460008       -6.09       -2.81    0.0   91.5ms\n",
      "  9   -7.251338693373       -6.63       -3.08    0.0    240ms\n",
      " 10   -7.251338764595       -7.15       -3.34    0.0   85.7ms\n",
      " 11   -7.251338787306       -7.64       -3.60    0.0   86.8ms\n",
      " 12   -7.251338794805       -8.12       -3.85    0.0   86.3ms\n",
      " 13   -7.251338797348       -8.59       -4.09    0.0   87.2ms\n",
      " 14   -7.251338798227       -9.06       -4.33    0.0   85.8ms\n",
      " 15   -7.251338798535       -9.51       -4.56    0.0   91.7ms\n",
      " 16   -7.251338798644       -9.96       -4.79    0.0   91.2ms\n",
      " 17   -7.251338798683      -10.41       -5.02    0.0   91.8ms\n",
      " 18   -7.251338798697      -10.86       -5.25    0.0    236ms\n",
      " 19   -7.251338798702      -11.30       -5.48    0.0   87.6ms\n",
      " 20   -7.251338798704      -11.75       -5.70    0.0   88.1ms\n",
      " 21   -7.251338798704      -12.19       -5.93    0.0   87.7ms\n",
      " 22   -7.251338798704      -12.63       -6.15    0.0   88.6ms\n",
      " 23   -7.251338798704      -13.10       -6.38    0.0   90.0ms\n",
      " 24   -7.251338798705      -13.55       -6.60    0.0   92.3ms\n",
      " 25   -7.251338798705      -13.91       -6.82    0.0   92.3ms\n",
      " 26   -7.251338798705      -14.45       -7.00    0.0    237ms\n",
      " 27   -7.251338798705      -14.75       -7.22    0.0   86.4ms\n",
      " 28   -7.251338798705   +  -14.75       -7.27    0.0   85.7ms\n",
      " 29   -7.251338798705   +    -Inf       -7.48    0.0   87.1ms\n",
      " 30   -7.251338798705      -14.45       -7.76    0.0   87.7ms\n",
      " 31   -7.251338798705   +  -14.75       -7.63    0.0   88.6ms\n",
      " 32   -7.251338798705   +  -14.75       -7.50    0.0   90.6ms\n",
      " 33   -7.251338798705      -14.75       -7.66    0.0   94.8ms\n",
      " 34   -7.251338798705   +    -Inf       -7.81    0.0   92.2ms\n",
      " 35   -7.251338798705      -14.75       -7.62    0.0    217ms\n",
      " 36   -7.251338798705   +    -Inf       -7.87    0.0   87.2ms\n",
      " 37   -7.251338798705   +  -14.75       -7.47    0.0   89.4ms\n",
      " 38   -7.251338798705   +    -Inf       -7.72    0.0   87.0ms\n",
      " 39   -7.251338798705      -14.45       -7.85    0.0   86.2ms\n",
      " 40   -7.251338798705   +  -14.27       -7.77    0.0   87.9ms\n",
      " 41   -7.251338798705   +  -14.27       -7.16    0.0   90.9ms\n",
      " 42   -7.251338798705      -14.05       -7.41    0.0   92.3ms\n",
      " 43   -7.251338798705   +    -Inf       -7.66    0.0   93.1ms\n",
      " 44   -7.251338798705   +  -13.59       -6.94    0.0    215ms\n",
      " 45   -7.251338798705      -13.62       -7.19    0.0   86.2ms\n",
      " 46   -7.251338798705   +    -Inf       -7.46    0.0   88.2ms\n",
      " 47   -7.251338798705      -14.45       -7.75    0.0   87.9ms\n",
      " 48   -7.251338798705   +  -14.35       -7.60    0.0   86.8ms\n",
      " 49   -7.251338798705      -14.15       -7.84    0.0   86.0ms\n",
      " 50   -7.251338798705   +  -14.27       -7.67    0.0   92.3ms\n",
      " 51   -7.251338798705   +    -Inf       -7.49    0.0   90.5ms\n",
      " 52   -7.251338798705      -14.57       -7.74    0.0   92.4ms\n",
      " 53   -7.251338798705   +  -14.75       -7.81    0.0    216ms\n",
      " 54   -7.251338798705   +  -13.69       -7.05    0.0   85.4ms\n",
      " 55   -7.251338798705      -13.73       -7.29    0.0   86.5ms\n",
      " 56   -7.251338798705      -14.75       -7.64    0.0   86.8ms\n",
      " 57   -7.251338798705      -15.05       -7.83    0.0   86.4ms\n",
      " 58   -7.251338798705   +  -14.35       -7.45    0.0   87.6ms\n",
      " 59   -7.251338798705      -14.27       -7.56    0.0   91.2ms\n",
      " 60   -7.251338798705   +    -Inf       -7.81    0.0   91.8ms\n",
      " 61   -7.251338798705   +  -15.05       -8.00    0.0   92.4ms\n"
     ]
    }
   ],
   "cell_type": "code",
   "source": [
    "scfres = self_consistent_field(basis;\n",
    "                               tol=1e-8,\n",
    "                               solver=my_fp_solver,\n",
    "                               eigensolver=my_eig_solver,\n",
    "                               mixing=MyMixing());"
   ],
   "metadata": {},
   "execution_count": 5
  },
  {
   "cell_type": "markdown",
   "source": [
    "Note that the default convergence criterion is the difference in\n",
    "density. When this gets below `tol`, the\n",
    "\"driver\" `self_consistent_field` artificially makes the fixed-point\n",
    "solver think it's converged by forcing `f(x) = x`. You can customize\n",
    "this with the `is_converged` keyword argument to\n",
    "`self_consistent_field`."
   ],
   "metadata": {}
  }
 ],
 "nbformat_minor": 3,
 "metadata": {
  "language_info": {
   "file_extension": ".jl",
   "mimetype": "application/julia",
   "name": "julia",
   "version": "1.8.5"
  },
  "kernelspec": {
   "name": "julia-1.8",
   "display_name": "Julia 1.8.5",
   "language": "julia"
  }
 },
 "nbformat": 4
}
