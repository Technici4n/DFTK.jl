{
 "cells": [
  {
   "cell_type": "markdown",
   "source": [
    "# Eigenvalues of the dielectric matrix\n",
    "\n",
    "We compute a few eigenvalues of the dielectric matrix ($q=0$, $ω=0$) iteratively."
   ],
   "metadata": {}
  },
  {
   "outputs": [
    {
     "name": "stdout",
     "output_type": "stream",
     "text": [
      "n     Energy            log10(ΔE)   log10(Δρ)   Diag   Δtime\n",
      "---   ---------------   ---------   ---------   ----   ------\n",
      "  1   -7.234579546853                   -0.50    8.0         \n",
      "  2   -7.250075998611       -1.81       -1.39    1.0   9.09ms\n",
      "  3   -7.250938524686       -3.06       -1.97    1.0   9.28ms\n",
      "  4   -7.250961904197       -4.63       -1.88    2.0   11.7ms\n",
      "  5   -7.251331910910       -3.43       -2.69    1.0   9.32ms\n",
      "  6   -7.251338073287       -5.21       -3.12    2.0   11.4ms\n",
      "  7   -7.251338687012       -6.21       -3.58    1.0   9.73ms\n",
      "  8   -7.251338778585       -7.04       -3.91    2.0   11.7ms\n",
      "  9   -7.251338796857       -7.74       -4.45    1.0   9.65ms\n",
      " 10   -7.251338798523       -8.78       -4.96    2.0   11.8ms\n",
      " 11   -7.251338798687       -9.79       -5.30    2.0   12.1ms\n",
      " 12   -7.251338798702      -10.82       -5.79    1.0   9.91ms\n",
      " 13   -7.251338798704      -11.67       -6.20    1.0   10.1ms\n",
      " 14   -7.251338798704      -12.17       -6.35    3.0   13.0ms\n",
      " 15   -7.251338798704      -13.04       -6.62    1.0   9.67ms\n",
      " 16   -7.251338798705      -13.38       -6.91    2.0   11.6ms\n",
      " 17   -7.251338798705      -13.91       -7.16    1.0   10.1ms\n",
      " 18   -7.251338798705      -14.45       -8.01    2.0   11.9ms\n"
     ]
    }
   ],
   "cell_type": "code",
   "source": [
    "using DFTK\n",
    "using Plots\n",
    "using KrylovKit\n",
    "using Printf\n",
    "\n",
    "# Calculation parameters\n",
    "kgrid = [1, 1, 1]\n",
    "Ecut = 5\n",
    "\n",
    "# Silicon lattice\n",
    "a = 10.26\n",
    "lattice = a / 2 .* [[0 1 1.]; [1 0 1.]; [1 1 0.]]\n",
    "Si = ElementPsp(:Si, psp=load_psp(\"hgh/lda/Si-q4\"))\n",
    "atoms     = [Si, Si]\n",
    "positions = [ones(3)/8, -ones(3)/8]\n",
    "\n",
    "# Compute the dielectric operator without symmetries\n",
    "model  = model_LDA(lattice, atoms, positions, symmetries=false)\n",
    "basis  = PlaneWaveBasis(model; Ecut, kgrid)\n",
    "scfres = self_consistent_field(basis, tol=1e-8);"
   ],
   "metadata": {},
   "execution_count": 1
  },
  {
   "cell_type": "markdown",
   "source": [
    "Applying $ε^† ≔ (1- χ_0 K)$ …"
   ],
   "metadata": {}
  },
  {
   "outputs": [],
   "cell_type": "code",
   "source": [
    "function eps_fun(δρ)\n",
    "    δV = apply_kernel(basis, δρ; ρ=scfres.ρ)\n",
    "    χ0δV = apply_χ0(scfres, δV)\n",
    "    δρ - χ0δV\n",
    "end;"
   ],
   "metadata": {},
   "execution_count": 2
  },
  {
   "cell_type": "markdown",
   "source": [
    "… eagerly diagonalizes the subspace matrix at each iteration"
   ],
   "metadata": {}
  },
  {
   "outputs": [
    {
     "name": "stdout",
     "output_type": "stream",
     "text": [
      "[ Info: Arnoldi iteration step 1: normres = 0.050666586563343594\n",
      "[ Info: Arnoldi iteration step 2: normres = 0.6012211321239032\n",
      "[ Info: Arnoldi iteration step 3: normres = 0.8891855789965296\n",
      "[ Info: Arnoldi iteration step 4: normres = 0.2818432104934659\n",
      "[ Info: Arnoldi iteration step 5: normres = 0.43208996587333004\n",
      "[ Info: Arnoldi schursolve in iter 1, krylovdim = 5: 0 values converged, normres = (2.84e-02, 6.33e-02, 3.52e-01, 2.34e-01, 5.72e-02)\n",
      "[ Info: Arnoldi iteration step 6: normres = 0.3654710854764077\n",
      "[ Info: Arnoldi schursolve in iter 1, krylovdim = 6: 0 values converged, normres = (9.29e-03, 2.26e-01, 2.49e-01, 1.18e-01, 2.98e-02)\n",
      "[ Info: Arnoldi iteration step 7: normres = 0.0890302686473067\n",
      "[ Info: Arnoldi schursolve in iter 1, krylovdim = 7: 0 values converged, normres = (4.13e-04, 2.15e-02, 1.21e-02, 4.16e-02, 6.80e-02)\n",
      "[ Info: Arnoldi iteration step 8: normres = 0.1206900608372971\n",
      "[ Info: Arnoldi schursolve in iter 1, krylovdim = 8: 0 values converged, normres = (2.18e-05, 1.88e-03, 1.18e-03, 1.77e-02, 6.65e-02)\n",
      "[ Info: Arnoldi iteration step 9: normres = 0.07352776182050043\n",
      "[ Info: Arnoldi schursolve in iter 1, krylovdim = 9: 0 values converged, normres = (6.98e-07, 9.98e-05, 6.98e-05, 4.97e-03, 4.01e-02)\n",
      "[ Info: Arnoldi iteration step 10: normres = 0.07896258453142159\n",
      "[ Info: Arnoldi schursolve in iter 1, krylovdim = 10: 0 values converged, normres = (2.41e-08, 5.70e-06, 4.43e-06, 1.42e-03, 2.40e-02)\n",
      "[ Info: Arnoldi iteration step 11: normres = 0.0775795587813484\n",
      "[ Info: Arnoldi schursolve in iter 1, krylovdim = 11: 0 values converged, normres = (8.04e-10, 3.13e-07, 2.70e-07, 3.57e-04, 1.28e-02)\n",
      "[ Info: Arnoldi iteration step 12: normres = 0.09030336390915816\n",
      "[ Info: Arnoldi schursolve in iter 1, krylovdim = 12: 0 values converged, normres = (3.14e-11, 2.01e-08, 1.93e-08, 1.07e-04, 8.31e-03)\n",
      "[ Info: Arnoldi iteration step 13: normres = 0.07222571095370126\n",
      "[ Info: Arnoldi schursolve in iter 1, krylovdim = 13: 1 values converged, normres = (9.71e-13, 1.02e-09, 1.08e-09, 2.41e-05, 4.14e-03)\n",
      "[ Info: Arnoldi iteration step 14: normres = 0.47196023459619685\n",
      "[ Info: Arnoldi schursolve in iter 1, krylovdim = 14: 1 values converged, normres = (3.94e-13, 1.90e-09, 4.52e-09, 4.68e-01, 3.21e-03)\n",
      "[ Info: Arnoldi iteration step 15: normres = 0.19542730146696746\n",
      "[ Info: Arnoldi schursolve in iter 1, krylovdim = 15: 1 values converged, normres = (3.71e-14, 6.82e-10, 6.82e-02, 2.57e-05, 1.51e-05)\n",
      "[ Info: Arnoldi iteration step 16: normres = 0.2286862424938421\n",
      "[ Info: Arnoldi schursolve in iter 1, krylovdim = 16: 1 values converged, normres = (8.45e-15, 3.42e-09, 1.60e-01, 1.88e-03, 1.62e-01)\n",
      "[ Info: Arnoldi iteration step 17: normres = 0.02798938827209322\n",
      "[ Info: Arnoldi schursolve in iter 1, krylovdim = 17: 1 values converged, normres = (1.03e-16, 2.36e-03, 2.57e-03, 1.17e-06, 2.82e-03)\n",
      "[ Info: Arnoldi iteration step 18: normres = 0.017954428188303746\n",
      "[ Info: Arnoldi schursolve in iter 1, krylovdim = 18: 1 values converged, normres = (7.61e-19, 3.15e-05, 2.65e-05, 8.66e-08, 3.66e-05)\n",
      "[ Info: Arnoldi iteration step 19: normres = 0.10164427477698619\n",
      "[ Info: Arnoldi schursolve in iter 1, krylovdim = 19: 1 values converged, normres = (3.22e-20, 3.55e-08, 2.80e-06, 1.95e-06, 1.94e-06)\n",
      "[ Info: Arnoldi iteration step 20: normres = 0.143151687325246\n",
      "[ Info: Arnoldi schursolve in iter 1, krylovdim = 20: 1 values converged, normres = (2.23e-21, 2.74e-07, 2.09e-07, 6.90e-08, 3.79e-07)\n",
      "[ Info: Arnoldi iteration step 21: normres = 0.02295425783895628\n",
      "[ Info: Arnoldi schursolve in iter 1, krylovdim = 21: 1 values converged, normres = (2.18e-23, 3.27e-09, 4.46e-09, 2.58e-09, 6.34e-09)\n",
      "[ Info: Arnoldi iteration step 22: normres = 0.06353738537177549\n",
      "[ Info: Arnoldi schursolve in iter 1, krylovdim = 22: 1 values converged, normres = (5.70e-25, 1.33e-10, 1.88e-10, 1.23e-10, 2.89e-10)\n",
      "[ Info: Arnoldi iteration step 23: normres = 0.315857370775568\n",
      "[ Info: Arnoldi schursolve in iter 1, krylovdim = 23: 1 values converged, normres = (1.60e-25, 1.93e-10, 2.71e-10, 4.84e-10, 1.16e-09)\n",
      "[ Info: Arnoldi iteration step 24: normres = 0.014562514434569867\n",
      "[ Info: Arnoldi schursolve in iter 1, krylovdim = 24: 1 values converged, normres = (1.02e-27, 2.84e-12, 4.02e-12, 1.62e-09, 3.82e-09)\n",
      "[ Info: Arnoldi iteration step 25: normres = 0.0292006003317944\n",
      "[ Info: Arnoldi schursolve in iter 1, krylovdim = 25: 3 values converged, normres = (1.23e-29, 5.44e-14, 7.69e-14, 1.97e-05, 1.77e-05)\n",
      "[ Info: Arnoldi iteration step 26: normres = 0.11034310779743813\n",
      "[ Info: Arnoldi schursolve in iter 1, krylovdim = 26: 3 values converged, normres = (6.01e-31, 4.46e-15, 6.31e-15, 4.14e-09, 7.56e-09)\n",
      "[ Info: Arnoldi iteration step 27: normres = 0.02704726640791376\n",
      "[ Info: Arnoldi schursolve in iter 1, krylovdim = 27: 3 values converged, normres = (6.83e-33, 8.19e-17, 1.16e-16, 1.80e-08, 2.77e-08)\n",
      "[ Info: Arnoldi iteration step 28: normres = 0.10520405915308817\n",
      "[ Info: Arnoldi schursolve in iter 1, krylovdim = 28: 3 values converged, normres = (3.13e-34, 6.19e-18, 8.76e-18, 1.36e-09, 1.09e-08)\n",
      "[ Info: Arnoldi iteration step 29: normres = 0.018352748017806883\n",
      "[ Info: Arnoldi schursolve in iter 1, krylovdim = 29: 3 values converged, normres = (2.42e-36, 7.77e-20, 1.10e-19, 1.24e-11, 1.52e-10)\n",
      "[ Info: Arnoldi iteration step 30: normres = 0.22012672591629848\n",
      "[ Info: Arnoldi schursolve in iter 1, krylovdim = 30: 3 values converged, normres = (2.41e-37, 1.32e-20, 1.86e-20, 2.35e-12, 2.88e-11)\n",
      "[ Info: Arnoldi schursolve in iter 2, krylovdim = 19: 3 values converged, normres = (2.41e-37, 1.32e-20, 1.86e-20, 2.35e-12, 2.88e-11)\n",
      "[ Info: Arnoldi iteration step 20: normres = 0.07582506779674934\n",
      "[ Info: Arnoldi schursolve in iter 2, krylovdim = 20: 4 values converged, normres = (8.34e-39, 7.83e-22, 1.11e-21, 1.58e-13, 1.93e-12)\n",
      "[ Info: Arnoldi iteration step 21: normres = 0.05298489435587319\n",
      "┌ Info: Arnoldi eigsolve finished after 2 iterations:\n",
      "│ *  6 eigenvalues converged\n",
      "│ *  norm of residuals = (1.909613531913615e-40, 2.952604570088929e-23, 3.0470203573339036e-23, 6.601028567026683e-15, 7.78829019987275e-14, 2.9832603074033304e-14)\n",
      "└ *  number of operations = 32\n"
     ]
    }
   ],
   "cell_type": "code",
   "source": [
    "eigsolve(eps_fun, randn(size(scfres.ρ)), 5, :LM; eager=true, verbosity=3);"
   ],
   "metadata": {},
   "execution_count": 3
  }
 ],
 "nbformat_minor": 3,
 "metadata": {
  "language_info": {
   "file_extension": ".jl",
   "mimetype": "application/julia",
   "name": "julia",
   "version": "1.9.1"
  },
  "kernelspec": {
   "name": "julia-1.9",
   "display_name": "Julia 1.9.1",
   "language": "julia"
  }
 },
 "nbformat": 4
}
