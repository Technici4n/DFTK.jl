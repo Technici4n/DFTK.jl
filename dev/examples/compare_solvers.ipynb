{
 "cells": [
  {
   "cell_type": "markdown",
   "source": [
    "# Comparison of DFT solvers"
   ],
   "metadata": {}
  },
  {
   "cell_type": "markdown",
   "source": [
    "We compare four different approaches for solving the DFT minimisation problem,\n",
    "namely a density-based SCF, a potential-based SCF, direct minimisation and Newton."
   ],
   "metadata": {}
  },
  {
   "cell_type": "markdown",
   "source": [
    "First we setup our problem"
   ],
   "metadata": {}
  },
  {
   "outputs": [
    {
     "output_type": "execute_result",
     "data": {
      "text/plain": "1.0e-6"
     },
     "metadata": {},
     "execution_count": 1
    }
   ],
   "cell_type": "code",
   "source": [
    "using DFTK\n",
    "using LinearAlgebra\n",
    "\n",
    "a = 10.26  # Silicon lattice constant in Bohr\n",
    "lattice = a / 2 * [[0 1 1.];\n",
    "                   [1 0 1.];\n",
    "                   [1 1 0.]]\n",
    "Si = ElementPsp(:Si, psp=load_psp(\"hgh/lda/Si-q4\"))\n",
    "atoms     = [Si, Si]\n",
    "positions = [ones(3)/8, -ones(3)/8]\n",
    "\n",
    "model = model_LDA(lattice, atoms, positions)\n",
    "basis = PlaneWaveBasis(model; Ecut=5, kgrid=[3, 3, 3])\n",
    "\n",
    "# Convergence we desire in the density\n",
    "tol = 1e-6"
   ],
   "metadata": {},
   "execution_count": 1
  },
  {
   "cell_type": "markdown",
   "source": [
    "## Density-based self-consistent field"
   ],
   "metadata": {}
  },
  {
   "outputs": [
    {
     "name": "stdout",
     "output_type": "stream",
     "text": [
      "n     Energy            log10(ΔE)   log10(Δρ)   Diag   Δtime\n",
      "---   ---------------   ---------   ---------   ----   ------\n",
      "  1   -7.846609818434                   -0.70    4.8         \n",
      "  2   -7.852291466038       -2.25       -1.53    1.0   23.8ms\n",
      "  3   -7.852607780231       -3.50       -2.56    1.5   25.6ms\n",
      "  4   -7.852645822343       -4.42       -2.88    2.5   32.6ms\n",
      "  5   -7.852646483376       -6.18       -3.16    1.0   86.2ms\n",
      "  6   -7.852646677571       -6.71       -4.09    1.0   25.7ms\n",
      "  7   -7.852646686516       -8.05       -4.81    2.2   31.2ms\n",
      "  8   -7.852646686718       -9.69       -5.34    1.8   27.4ms\n",
      "  9   -7.852646686727      -11.06       -5.51    1.5   26.4ms\n",
      " 10   -7.852646686730      -11.51       -6.44    1.0   24.2ms\n"
     ]
    }
   ],
   "cell_type": "code",
   "source": [
    "scfres_scf = self_consistent_field(basis; tol);"
   ],
   "metadata": {},
   "execution_count": 2
  },
  {
   "cell_type": "markdown",
   "source": [
    "## Potential-based SCF"
   ],
   "metadata": {}
  },
  {
   "outputs": [
    {
     "name": "stdout",
     "output_type": "stream",
     "text": [
      "n     Energy            log10(ΔE)   log10(Δρ)   α      Diag   Δtime\n",
      "---   ---------------   ---------   ---------   ----   ----   ------\n",
      "  1   -7.846918479895                   -0.70           4.8         \n",
      "  2   -7.852527712052       -2.25       -1.64   0.80    2.0    287ms\n",
      "  3   -7.852636030650       -3.97       -2.73   0.80    1.0   22.5ms\n",
      "  4   -7.852646460459       -4.98       -3.24   0.80    2.2   29.5ms\n",
      "  5   -7.852646667029       -6.68       -4.05   0.80    1.0   21.9ms\n",
      "  6   -7.852646686313       -7.71       -4.70   0.80    1.8   25.8ms\n",
      "  7   -7.852646686723       -9.39       -5.41   0.80    1.8   26.7ms\n",
      "  8   -7.852646686729      -11.24       -6.69   0.80    1.2   22.8ms\n"
     ]
    }
   ],
   "cell_type": "code",
   "source": [
    "scfres_scfv = DFTK.scf_potential_mixing(basis; tol);"
   ],
   "metadata": {},
   "execution_count": 3
  },
  {
   "cell_type": "markdown",
   "source": [
    "## Direct minimization\n",
    "Note: Unlike the other algorithms, tolerance for this one is in the energy,\n",
    "thus we square the density tolerance value to be roughly equivalent."
   ],
   "metadata": {}
  },
  {
   "outputs": [
    {
     "name": "stdout",
     "output_type": "stream",
     "text": [
      "Iter     Function value   Gradient norm \n",
      "     0     1.345882e+01     3.278117e+00\n",
      " * time: 0.06934499740600586\n",
      "     1     1.523815e+00     1.732013e+00\n",
      " * time: 0.30182909965515137\n",
      "     2    -1.358527e+00     1.968012e+00\n",
      " * time: 0.32564711570739746\n",
      "     3    -3.633271e+00     1.846355e+00\n",
      " * time: 0.3600740432739258\n",
      "     4    -5.004065e+00     1.557205e+00\n",
      " * time: 0.47760605812072754\n",
      "     5    -6.711159e+00     1.208558e+00\n",
      " * time: 0.5120320320129395\n",
      "     6    -7.408951e+00     9.299443e-01\n",
      " * time: 0.5458269119262695\n",
      "     7    -7.687954e+00     8.265741e-01\n",
      " * time: 0.5692570209503174\n",
      "     8    -7.772886e+00     5.453095e-01\n",
      " * time: 0.5929510593414307\n",
      "     9    -7.813269e+00     2.700745e-01\n",
      " * time: 0.6174769401550293\n",
      "    10    -7.830297e+00     9.166179e-02\n",
      " * time: 0.6415960788726807\n",
      "    11    -7.843210e+00     9.554148e-02\n",
      " * time: 0.6653211116790771\n",
      "    12    -7.847756e+00     6.376009e-02\n",
      " * time: 0.6891219615936279\n",
      "    13    -7.850397e+00     2.895699e-02\n",
      " * time: 0.7124929428100586\n",
      "    14    -7.851656e+00     2.811672e-02\n",
      " * time: 0.7356979846954346\n",
      "    15    -7.852302e+00     9.665223e-03\n",
      " * time: 0.7590160369873047\n",
      "    16    -7.852489e+00     6.728115e-03\n",
      " * time: 0.7822461128234863\n",
      "    17    -7.852586e+00     4.787965e-03\n",
      " * time: 0.8058991432189941\n",
      "    18    -7.852627e+00     3.234902e-03\n",
      " * time: 0.8294970989227295\n",
      "    19    -7.852640e+00     1.742754e-03\n",
      " * time: 0.8530480861663818\n",
      "    20    -7.852644e+00     1.010353e-03\n",
      " * time: 0.8762569427490234\n",
      "    21    -7.852645e+00     5.166957e-04\n",
      " * time: 0.8999679088592529\n",
      "    22    -7.852646e+00     3.615418e-04\n",
      " * time: 0.9233059883117676\n",
      "    23    -7.852647e+00     2.422515e-04\n",
      " * time: 0.9469919204711914\n",
      "    24    -7.852647e+00     1.430496e-04\n",
      " * time: 0.9706370830535889\n",
      "    25    -7.852647e+00     7.576888e-05\n",
      " * time: 0.9946489334106445\n",
      "    26    -7.852647e+00     4.079624e-05\n",
      " * time: 1.0184681415557861\n",
      "    27    -7.852647e+00     2.465813e-05\n",
      " * time: 1.0421011447906494\n",
      "    28    -7.852647e+00     1.260895e-05\n",
      " * time: 1.0655889511108398\n",
      "    29    -7.852647e+00     8.402725e-06\n",
      " * time: 1.0898590087890625\n",
      "    30    -7.852647e+00     2.998030e-06\n",
      " * time: 1.113879919052124\n",
      "    31    -7.852647e+00     1.998867e-06\n",
      " * time: 1.1375529766082764\n",
      "    32    -7.852647e+00     1.771420e-06\n",
      " * time: 1.1611981391906738\n",
      "    33    -7.852647e+00     1.088807e-06\n",
      " * time: 1.1848390102386475\n",
      "    34    -7.852647e+00     7.590815e-07\n",
      " * time: 1.208531141281128\n",
      "    35    -7.852647e+00     3.000622e-07\n",
      " * time: 1.232414960861206\n",
      "    36    -7.852647e+00     2.429296e-07\n",
      " * time: 1.2563409805297852\n",
      "    37    -7.852647e+00     1.734287e-07\n",
      " * time: 1.2801940441131592\n",
      "    38    -7.852647e+00     8.819544e-08\n",
      " * time: 1.3041300773620605\n",
      "    39    -7.852647e+00     7.993030e-08\n",
      " * time: 1.3290510177612305\n",
      "    40    -7.852647e+00     4.478953e-08\n",
      " * time: 1.3530330657958984\n",
      "    41    -7.852647e+00     1.979402e-08\n",
      " * time: 1.377305030822754\n",
      "    42    -7.852647e+00     1.704624e-08\n",
      " * time: 1.4012949466705322\n",
      "    43    -7.852647e+00     1.571930e-08\n",
      " * time: 1.4472770690917969\n",
      "    44    -7.852647e+00     1.274071e-08\n",
      " * time: 1.4818270206451416\n"
     ]
    }
   ],
   "cell_type": "code",
   "source": [
    "scfres_dm = direct_minimization(basis; tol=tol^2);"
   ],
   "metadata": {},
   "execution_count": 4
  },
  {
   "cell_type": "markdown",
   "source": [
    "## Newton algorithm"
   ],
   "metadata": {}
  },
  {
   "cell_type": "markdown",
   "source": [
    "Start not too far from the solution to ensure convergence:\n",
    "We run first a very crude SCF to get close and then switch to Newton."
   ],
   "metadata": {}
  },
  {
   "outputs": [
    {
     "name": "stdout",
     "output_type": "stream",
     "text": [
      "n     Energy            log10(ΔE)   log10(Δρ)   Diag   Δtime\n",
      "---   ---------------   ---------   ---------   ----   ------\n",
      "  1   -7.846812399343                   -0.70    4.5         \n"
     ]
    }
   ],
   "cell_type": "code",
   "source": [
    "scfres_start = self_consistent_field(basis; tol=0.5);"
   ],
   "metadata": {},
   "execution_count": 5
  },
  {
   "cell_type": "markdown",
   "source": [
    "Remove the virtual orbitals (which Newton cannot treat yet)"
   ],
   "metadata": {}
  },
  {
   "outputs": [
    {
     "name": "stdout",
     "output_type": "stream",
     "text": [
      "n     Energy            log10(ΔE)   log10(Δρ)   Δtime\n",
      "---   ---------------   ---------   ---------   ------\n",
      "  1   -7.852645824595                   -1.64         \n",
      "  2   -7.852646686730       -6.06       -3.70    2.11s\n",
      "  3   -7.852646686730      -13.11       -7.18    172ms\n"
     ]
    }
   ],
   "cell_type": "code",
   "source": [
    "ψ = DFTK.select_occupied_orbitals(basis, scfres_start.ψ, scfres_start.occupation).ψ\n",
    "scfres_newton = newton(basis, ψ; tol);"
   ],
   "metadata": {},
   "execution_count": 6
  },
  {
   "cell_type": "markdown",
   "source": [
    "## Comparison of results"
   ],
   "metadata": {}
  },
  {
   "outputs": [
    {
     "name": "stdout",
     "output_type": "stream",
     "text": [
      "|ρ_newton - ρ_scf|  = 4.420492148073578e-7\n",
      "|ρ_newton - ρ_scfv| = 4.824984516274362e-7\n",
      "|ρ_newton - ρ_dm|   = 8.646809892449614e-10\n"
     ]
    }
   ],
   "cell_type": "code",
   "source": [
    "println(\"|ρ_newton - ρ_scf|  = \", norm(scfres_newton.ρ - scfres_scf.ρ))\n",
    "println(\"|ρ_newton - ρ_scfv| = \", norm(scfres_newton.ρ - scfres_scfv.ρ))\n",
    "println(\"|ρ_newton - ρ_dm|   = \", norm(scfres_newton.ρ - scfres_dm.ρ))"
   ],
   "metadata": {},
   "execution_count": 7
  }
 ],
 "nbformat_minor": 3,
 "metadata": {
  "language_info": {
   "file_extension": ".jl",
   "mimetype": "application/julia",
   "name": "julia",
   "version": "1.9.0"
  },
  "kernelspec": {
   "name": "julia-1.9",
   "display_name": "Julia 1.9.0",
   "language": "julia"
  }
 },
 "nbformat": 4
}
