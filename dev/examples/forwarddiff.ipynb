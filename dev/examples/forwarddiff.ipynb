{
 "cells": [
  {
   "cell_type": "markdown",
   "source": [
    "# Polarizability using automatic differentiation\n",
    "\n",
    "Simple example for computing properties using (forward-mode)\n",
    "automatic differentiation.\n",
    "For a more classical approach and more details about computing polarizabilities,\n",
    "see Polarizability by linear response."
   ],
   "metadata": {}
  },
  {
   "outputs": [],
   "cell_type": "code",
   "source": [
    "using DFTK\n",
    "using LinearAlgebra\n",
    "using ForwardDiff\n",
    "\n",
    "# Construct PlaneWaveBasis given a particular electric field strength\n",
    "# Again we take the example of a Helium atom.\n",
    "function make_basis(ε::T; a=10., Ecut=30) where {T}\n",
    "    lattice=T(a) * I(3)  # lattice is a cube of $a$ Bohrs\n",
    "    # Helium at the center of the box\n",
    "    atoms     = [ElementPsp(:He, psp=load_psp(\"hgh/lda/He-q2\"))]\n",
    "    positions = [[1/2, 1/2, 1/2]]\n",
    "\n",
    "    model = model_DFT(lattice, atoms, positions, [:lda_x, :lda_c_vwn];\n",
    "                      extra_terms=[ExternalFromReal(r -> -ε * (r[1] - a/2))],\n",
    "                      symmetries=false)\n",
    "    PlaneWaveBasis(model; Ecut, kgrid=[1, 1, 1])  # No k-point sampling on isolated system\n",
    "end\n",
    "\n",
    "# dipole moment of a given density (assuming the current geometry)\n",
    "function dipole(basis, ρ)\n",
    "    @assert isdiag(basis.model.lattice)\n",
    "    a  = basis.model.lattice[1, 1]\n",
    "    rr = [a * (r[1] - 1/2) for r in r_vectors(basis)]\n",
    "    sum(rr .* ρ) * basis.dvol\n",
    "end\n",
    "\n",
    "# Function to compute the dipole for a given field strength\n",
    "function compute_dipole(ε; tol=1e-8, kwargs...)\n",
    "    scfres = self_consistent_field(make_basis(ε; kwargs...); tol)\n",
    "    dipole(scfres.basis, scfres.ρ)\n",
    "end;"
   ],
   "metadata": {},
   "execution_count": 1
  },
  {
   "cell_type": "markdown",
   "source": [
    "With this in place we can compute the polarizability from finite differences\n",
    "(just like in the previous example):"
   ],
   "metadata": {}
  },
  {
   "outputs": [
    {
     "name": "stdout",
     "output_type": "stream",
     "text": [
      "n     Energy            log10(ΔE)   log10(Δρ)   Diag   Δtime\n",
      "---   ---------------   ---------   ---------   ----   ------\n",
      "  1   -2.770813431738                   -0.53    9.0         \n",
      "  2   -2.772140124642       -2.88       -1.31    1.0    171ms\n",
      "  3   -2.772170138562       -4.52       -2.59    1.0    174ms\n",
      "  4   -2.772170718923       -6.24       -3.90    2.0    238ms\n",
      "  5   -2.772170722557       -8.44       -4.24    2.0    200ms\n",
      "  6   -2.772170723008       -9.35       -5.56    1.0    200ms\n",
      "  7   -2.772170723015      -11.15       -6.09    2.0    204ms\n",
      "  8   -2.772170723015      -13.17       -6.84    1.0    207ms\n",
      "  9   -2.772170723015   +    -Inf       -7.38    2.0    220ms\n",
      " 10   -2.772170723015      -13.60       -7.99    1.0    215ms\n",
      " 11   -2.772170723015   +  -14.03       -8.87    2.0    211ms\n",
      "n     Energy            log10(ΔE)   log10(Δρ)   Diag   Δtime\n",
      "---   ---------------   ---------   ---------   ----   ------\n",
      "  1   -2.770768317203                   -0.52    9.0         \n",
      "  2   -2.772059165540       -2.89       -1.33    1.0    172ms\n",
      "  3   -2.772082805165       -4.63       -2.40    1.0    175ms\n",
      "  4   -2.772083327819       -6.28       -3.10    1.0    209ms\n",
      "  5   -2.772083417673       -7.05       -4.78    2.0    198ms\n",
      "  6   -2.772083417786       -9.95       -4.75    2.0    225ms\n",
      "  7   -2.772083417810      -10.62       -5.87    1.0    181ms\n",
      "  8   -2.772083417811      -12.00       -6.77    2.0    222ms\n",
      "  9   -2.772083417811   +  -14.18       -6.73    2.0    212ms\n",
      " 10   -2.772083417811      -14.45       -8.18    1.0    228ms\n"
     ]
    },
    {
     "output_type": "execute_result",
     "data": {
      "text/plain": "1.7735579954884655"
     },
     "metadata": {},
     "execution_count": 2
    }
   ],
   "cell_type": "code",
   "source": [
    "polarizability_fd = let\n",
    "    ε = 0.01\n",
    "    (compute_dipole(ε) - compute_dipole(0.0)) / ε\n",
    "end"
   ],
   "metadata": {},
   "execution_count": 2
  },
  {
   "cell_type": "markdown",
   "source": [
    "We do the same thing using automatic differentiation. Under the hood this uses\n",
    "custom rules to implicitly differentiate through the self-consistent\n",
    "field fixed-point problem."
   ],
   "metadata": {}
  },
  {
   "outputs": [
    {
     "name": "stdout",
     "output_type": "stream",
     "text": [
      "n     Energy            log10(ΔE)   log10(Δρ)   Diag   Δtime\n",
      "---   ---------------   ---------   ---------   ----   ------\n",
      "  1   -2.770468951162                   -0.53    9.0         \n",
      "  2   -2.772052784252       -2.80       -1.29    1.0    173ms\n",
      "  3   -2.772082775252       -4.52       -2.77    1.0    245ms\n",
      "  4   -2.772083415883       -6.19       -4.10    2.0    197ms\n",
      "  5   -2.772083417794       -8.72       -4.80    2.0    201ms\n",
      "  6   -2.772083417809      -10.83       -5.48    1.0    208ms\n",
      "  7   -2.772083417811      -11.75       -6.32    2.0    206ms\n",
      "  8   -2.772083417811      -14.05       -7.19    1.0    205ms\n",
      "  9   -2.772083417811      -14.01       -7.85    2.0    210ms\n",
      " 10   -2.772083417811   +  -14.31       -8.22    1.0    218ms\n",
      "\n",
      "Polarizability via ForwardDiff:       1.772534989818863\n",
      "Polarizability via finite difference: 1.7735579954884655\n"
     ]
    }
   ],
   "cell_type": "code",
   "source": [
    "polarizability = ForwardDiff.derivative(compute_dipole, 0.0)\n",
    "println()\n",
    "println(\"Polarizability via ForwardDiff:       $polarizability\")\n",
    "println(\"Polarizability via finite difference: $polarizability_fd\")"
   ],
   "metadata": {},
   "execution_count": 3
  }
 ],
 "nbformat_minor": 3,
 "metadata": {
  "language_info": {
   "file_extension": ".jl",
   "mimetype": "application/julia",
   "name": "julia",
   "version": "1.9.2"
  },
  "kernelspec": {
   "name": "julia-1.9",
   "display_name": "Julia 1.9.2",
   "language": "julia"
  }
 },
 "nbformat": 4
}
