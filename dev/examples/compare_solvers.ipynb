{
 "cells": [
  {
   "cell_type": "markdown",
   "source": [
    "# Comparison of DFT solvers"
   ],
   "metadata": {}
  },
  {
   "cell_type": "markdown",
   "source": [
    "We compare four different approaches for solving the DFT minimisation problem,\n",
    "namely a density-based SCF, a potential-based SCF, direct minimisation and Newton."
   ],
   "metadata": {}
  },
  {
   "cell_type": "markdown",
   "source": [
    "First we setup our problem"
   ],
   "metadata": {}
  },
  {
   "outputs": [],
   "cell_type": "code",
   "source": [
    "using DFTK\n",
    "using LinearAlgebra\n",
    "\n",
    "a = 10.26  # Silicon lattice constant in Bohr\n",
    "lattice = a / 2 * [[0 1 1.];\n",
    "                   [1 0 1.];\n",
    "                   [1 1 0.]]\n",
    "Si = ElementPsp(:Si, psp=load_psp(\"hgh/lda/Si-q4\"))\n",
    "atoms     = [Si, Si]\n",
    "positions = [ones(3)/8, -ones(3)/8]\n",
    "\n",
    "model = model_LDA(lattice, atoms, positions)\n",
    "basis = PlaneWaveBasis(model; Ecut=5, kgrid=[3, 3, 3])\n",
    "\n",
    "# Convergence we desire\n",
    "tol = 1e-12\n",
    "is_converged = DFTK.ScfConvergenceDensity(tol);"
   ],
   "metadata": {},
   "execution_count": 1
  },
  {
   "cell_type": "markdown",
   "source": [
    "## Density-based self-consistent field"
   ],
   "metadata": {}
  },
  {
   "outputs": [
    {
     "name": "stdout",
     "output_type": "stream",
     "text": [
      "n     Energy            log10(ΔE)   log10(Δρ)   Diag\n",
      "---   ---------------   ---------   ---------   ----\n",
      "  1   -7.846886452536                   -0.70    4.5\n",
      "  2   -7.852325906724       -2.26       -1.53    1.0\n",
      "  3   -7.852645950529       -3.49       -2.53    3.0\n",
      "  4   -7.852646676766       -6.14       -3.36    2.2\n",
      "  5   -7.852646686106       -8.03       -4.76    1.5\n",
      "  6   -7.852646686726       -9.21       -5.27    4.5\n",
      "  7   -7.852646686730      -11.48       -5.92    2.0\n",
      "  8   -7.852646686730      -12.60       -7.56    1.5\n",
      "  9   -7.852646686730      -14.21       -8.17    2.5\n",
      " 10   -7.852646686730   +  -14.75       -8.52    1.0\n",
      " 11   -7.852646686730   +  -14.57       -9.51    2.8\n",
      " 12   -7.852646686730      -14.27       -9.00    1.0\n",
      " 13   -7.852646686730   +  -14.21       -8.44    2.0\n",
      " 14   -7.852646686730      -14.57       -8.75    1.5\n",
      " 15   -7.852646686730   +  -15.05       -9.15    1.5\n",
      " 16   -7.852646686730   +  -15.05       -9.46    1.0\n",
      " 17   -7.852646686730      -14.75      -10.14    1.0\n",
      " 18   -7.852646686730      -14.57      -11.24    2.0\n",
      " 19   -7.852646686730   +  -14.35      -11.00    1.0\n",
      " 20   -7.852646686730      -14.75      -11.08    1.0\n",
      " 21   -7.852646686730   +    -Inf      -11.78    2.0\n",
      " 22   -7.852646686730      -14.75      -11.96    1.0\n",
      " 23   -7.852646686730   +    -Inf      -12.73    2.0\n"
     ]
    }
   ],
   "cell_type": "code",
   "source": [
    "scfres_scf = self_consistent_field(basis; is_converged);"
   ],
   "metadata": {},
   "execution_count": 2
  },
  {
   "cell_type": "markdown",
   "source": [
    "## Potential-based SCF"
   ],
   "metadata": {}
  },
  {
   "outputs": [
    {
     "name": "stdout",
     "output_type": "stream",
     "text": [
      "n     Energy            log10(ΔE)   log10(Δρ)   α      Diag\n",
      "---   ---------------   ---------   ---------   ----   ----\n",
      "  1   -7.846852630457                   -0.70           4.8\n",
      "  2   -7.852526385640       -2.25       -1.64   0.80    2.0\n",
      "  3   -7.852636641666       -3.96       -2.72   0.80    1.0\n",
      "  4   -7.852646469800       -5.01       -3.28   0.80    2.2\n",
      "  5   -7.852646682615       -6.67       -4.14   0.80    1.5\n",
      "  6   -7.852646686393       -8.42       -4.84   0.80    1.2\n",
      "  7   -7.852646686726       -9.48       -5.83   0.80    1.8\n",
      "  8   -7.852646686730      -11.38       -6.86   0.80    2.2\n",
      "  9   -7.852646686730      -12.84       -7.68   0.80    2.0\n",
      " 10   -7.852646686730   +  -14.75       -8.38   0.80    2.0\n",
      " 11   -7.852646686730      -14.75       -8.96   0.80    1.8\n",
      " 12   -7.852646686730      -14.75       -9.44   0.80    2.0\n",
      " 13   -7.852646686730   +  -14.75      -10.22   0.80    1.2\n",
      " 14   -7.852646686730   +    -Inf      -11.62   0.80    2.0\n",
      " 15   -7.852646686730   +    -Inf      -11.78   0.80    3.0\n",
      " 16   -7.852646686730   +    -Inf      -12.72   0.80    1.0\n"
     ]
    }
   ],
   "cell_type": "code",
   "source": [
    "scfres_scfv = DFTK.scf_potential_mixing(basis; is_converged);"
   ],
   "metadata": {},
   "execution_count": 3
  },
  {
   "cell_type": "markdown",
   "source": [
    "## Direct minimization"
   ],
   "metadata": {}
  },
  {
   "outputs": [
    {
     "name": "stdout",
     "output_type": "stream",
     "text": [
      "Iter     Function value   Gradient norm \n",
      "     0     1.370031e+01     3.507393e+00\n",
      " * time: 0.47321081161499023\n",
      "     1     1.229991e+00     2.045906e+00\n",
      " * time: 0.7202389240264893\n",
      "     2    -1.461390e+00     2.427145e+00\n",
      " * time: 0.7483489513397217\n",
      "     3    -3.619530e+00     2.187833e+00\n",
      " * time: 0.7883598804473877\n",
      "     4    -4.747730e+00     1.993412e+00\n",
      " * time: 0.8284928798675537\n",
      "     5    -6.597552e+00     1.470830e+00\n",
      " * time: 0.8683428764343262\n",
      "     6    -7.325277e+00     7.427152e-01\n",
      " * time: 0.9085009098052979\n",
      "     7    -7.598429e+00     5.225700e-01\n",
      " * time: 1.0333869457244873\n",
      "     8    -7.726718e+00     1.433323e-01\n",
      " * time: 1.0610589981079102\n",
      "     9    -7.788030e+00     3.179562e-01\n",
      " * time: 1.0888149738311768\n",
      "    10    -7.823120e+00     7.060991e-02\n",
      " * time: 1.1166977882385254\n",
      "    11    -7.842499e+00     5.458105e-02\n",
      " * time: 1.1445269584655762\n",
      "    12    -7.849838e+00     4.094358e-02\n",
      " * time: 1.1723098754882812\n",
      "    13    -7.851574e+00     1.890222e-02\n",
      " * time: 1.200105905532837\n",
      "    14    -7.852299e+00     1.138984e-02\n",
      " * time: 1.2281558513641357\n",
      "    15    -7.852481e+00     6.740897e-03\n",
      " * time: 1.2559189796447754\n",
      "    16    -7.852569e+00     4.138627e-03\n",
      " * time: 1.2836918830871582\n",
      "    17    -7.852618e+00     2.492613e-03\n",
      " * time: 1.3115179538726807\n",
      "    18    -7.852637e+00     1.382769e-03\n",
      " * time: 1.3393988609313965\n",
      "    19    -7.852643e+00     6.933618e-04\n",
      " * time: 1.366844892501831\n",
      "    20    -7.852646e+00     5.756569e-04\n",
      " * time: 1.3946778774261475\n",
      "    21    -7.852646e+00     2.803616e-04\n",
      " * time: 1.422637939453125\n",
      "    22    -7.852647e+00     1.556027e-04\n",
      " * time: 1.4503917694091797\n",
      "    23    -7.852647e+00     1.080375e-04\n",
      " * time: 1.4780099391937256\n",
      "    24    -7.852647e+00     5.680700e-05\n",
      " * time: 1.5059058666229248\n",
      "    25    -7.852647e+00     2.620806e-05\n",
      " * time: 1.5336329936981201\n",
      "    26    -7.852647e+00     1.820168e-05\n",
      " * time: 1.5612518787384033\n",
      "    27    -7.852647e+00     1.190058e-05\n",
      " * time: 1.5888268947601318\n",
      "    28    -7.852647e+00     7.275786e-06\n",
      " * time: 1.6168079376220703\n",
      "    29    -7.852647e+00     3.354315e-06\n",
      " * time: 1.6448109149932861\n",
      "    30    -7.852647e+00     1.647795e-06\n",
      " * time: 1.6725578308105469\n",
      "    31    -7.852647e+00     1.020715e-06\n",
      " * time: 1.700406789779663\n",
      "    32    -7.852647e+00     6.145934e-07\n",
      " * time: 1.7288119792938232\n",
      "    33    -7.852647e+00     3.753419e-07\n",
      " * time: 1.7573418617248535\n",
      "    34    -7.852647e+00     1.963282e-07\n",
      " * time: 1.7855498790740967\n",
      "    35    -7.852647e+00     1.259950e-07\n",
      " * time: 1.8136348724365234\n",
      "    36    -7.852647e+00     7.722196e-08\n",
      " * time: 1.841763973236084\n",
      "    37    -7.852647e+00     4.397175e-08\n",
      " * time: 1.8696739673614502\n",
      "    38    -7.852647e+00     2.694816e-08\n",
      " * time: 1.897803783416748\n",
      "    39    -7.852647e+00     1.859041e-08\n",
      " * time: 1.9257969856262207\n",
      "    40    -7.852647e+00     1.058315e-08\n",
      " * time: 1.9536349773406982\n",
      "    41    -7.852647e+00     1.058315e-08\n",
      " * time: 2.0778908729553223\n"
     ]
    }
   ],
   "cell_type": "code",
   "source": [
    "scfres_dm = direct_minimization(basis; tol);"
   ],
   "metadata": {},
   "execution_count": 4
  },
  {
   "cell_type": "markdown",
   "source": [
    "## Newton algorithm"
   ],
   "metadata": {}
  },
  {
   "cell_type": "markdown",
   "source": [
    "Start not too far from the solution to ensure convergence:\n",
    "We run first a very crude SCF to get close and then switch to Newton."
   ],
   "metadata": {}
  },
  {
   "outputs": [
    {
     "name": "stdout",
     "output_type": "stream",
     "text": [
      "n     Energy            log10(ΔE)   log10(Δρ)   Diag\n",
      "---   ---------------   ---------   ---------   ----\n",
      "  1   -7.846750853011                   -0.70    4.5\n",
      "  2   -7.852289617759       -2.26       -1.53    1.0\n"
     ]
    }
   ],
   "cell_type": "code",
   "source": [
    "scfres_start = self_consistent_field(basis; tol=1e-1);"
   ],
   "metadata": {},
   "execution_count": 5
  },
  {
   "cell_type": "markdown",
   "source": [
    "Remove the virtual orbitals (which Newton cannot treat yet)"
   ],
   "metadata": {}
  },
  {
   "outputs": [
    {
     "name": "stdout",
     "output_type": "stream",
     "text": [
      "n     Energy            log10(ΔE)   log10(Δρ)\n",
      "---   ---------------   ---------   ---------\n",
      "  1   -7.852646686386                   -2.55\n",
      "  2   -7.852646686730       -9.46       -5.67\n",
      "  3   -7.852646686730   +  -15.05      -10.81\n",
      "  4   -7.852646686730   +    -Inf      -15.98\n"
     ]
    }
   ],
   "cell_type": "code",
   "source": [
    "ψ, _ = DFTK.select_occupied_orbitals(basis, scfres_start.ψ, scfres_start.occupation)\n",
    "scfres_newton = newton(basis, ψ; tol);"
   ],
   "metadata": {},
   "execution_count": 6
  },
  {
   "cell_type": "markdown",
   "source": [
    "## Comparison of results"
   ],
   "metadata": {}
  },
  {
   "outputs": [
    {
     "name": "stdout",
     "output_type": "stream",
     "text": [
      "|ρ_newton - ρ_scf|  = 4.094177364396816e-14\n",
      "|ρ_newton - ρ_scfv| = 3.2131371196960597e-13\n",
      "|ρ_newton - ρ_dm|   = 1.563901075306575e-9\n"
     ]
    }
   ],
   "cell_type": "code",
   "source": [
    "println(\"|ρ_newton - ρ_scf|  = \", norm(scfres_newton.ρ - scfres_scf.ρ))\n",
    "println(\"|ρ_newton - ρ_scfv| = \", norm(scfres_newton.ρ - scfres_scfv.ρ))\n",
    "println(\"|ρ_newton - ρ_dm|   = \", norm(scfres_newton.ρ - scfres_dm.ρ))"
   ],
   "metadata": {},
   "execution_count": 7
  }
 ],
 "nbformat_minor": 3,
 "metadata": {
  "language_info": {
   "file_extension": ".jl",
   "mimetype": "application/julia",
   "name": "julia",
   "version": "1.8.2"
  },
  "kernelspec": {
   "name": "julia-1.8",
   "display_name": "Julia 1.8.2",
   "language": "julia"
  }
 },
 "nbformat": 4
}
