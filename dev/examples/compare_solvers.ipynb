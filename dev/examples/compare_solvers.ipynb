{
 "cells": [
  {
   "cell_type": "markdown",
   "source": [
    "# Comparison of DFT solvers"
   ],
   "metadata": {}
  },
  {
   "cell_type": "markdown",
   "source": [
    "We compare four different approaches for solving the DFT minimisation problem,\n",
    "namely a density-based SCF, a potential-based SCF, direct minimisation and Newton."
   ],
   "metadata": {}
  },
  {
   "cell_type": "markdown",
   "source": [
    "First we setup our problem"
   ],
   "metadata": {}
  },
  {
   "outputs": [
    {
     "output_type": "execute_result",
     "data": {
      "text/plain": "1.0e-6"
     },
     "metadata": {},
     "execution_count": 1
    }
   ],
   "cell_type": "code",
   "source": [
    "using DFTK\n",
    "using LinearAlgebra\n",
    "\n",
    "a = 10.26  # Silicon lattice constant in Bohr\n",
    "lattice = a / 2 * [[0 1 1.];\n",
    "                   [1 0 1.];\n",
    "                   [1 1 0.]]\n",
    "Si = ElementPsp(:Si, psp=load_psp(\"hgh/lda/Si-q4\"))\n",
    "atoms     = [Si, Si]\n",
    "positions = [ones(3)/8, -ones(3)/8]\n",
    "\n",
    "model = model_LDA(lattice, atoms, positions)\n",
    "basis = PlaneWaveBasis(model; Ecut=5, kgrid=[3, 3, 3])\n",
    "\n",
    "# Convergence we desire in the density\n",
    "tol = 1e-6"
   ],
   "metadata": {},
   "execution_count": 1
  },
  {
   "cell_type": "markdown",
   "source": [
    "## Density-based self-consistent field"
   ],
   "metadata": {}
  },
  {
   "outputs": [
    {
     "name": "stdout",
     "output_type": "stream",
     "text": [
      "n     Energy            log10(ΔE)   log10(Δρ)   Diag   Δtime\n",
      "---   ---------------   ---------   ---------   ----   ------\n",
      "  1   -7.846767683604                   -0.70    4.5         \n",
      "  2   -7.852312670538       -2.26       -1.53    1.0   33.2ms\n",
      "  3   -7.852615262759       -3.52       -2.55    1.5   35.4ms\n",
      "  4   -7.852645808262       -4.52       -2.89    2.5   46.2ms\n",
      "  5   -7.852646498084       -6.16       -3.21    1.0   35.4ms\n",
      "  6   -7.852646677151       -6.75       -4.01    1.2   34.7ms\n",
      "  7   -7.852646686569       -8.03       -5.27    2.0   42.9ms\n",
      "  8   -7.852646686723       -9.81       -5.37    2.0   42.6ms\n",
      "  9   -7.852646686729      -11.18       -6.07    1.0   34.5ms\n"
     ]
    }
   ],
   "cell_type": "code",
   "source": [
    "scfres_scf = self_consistent_field(basis; tol);"
   ],
   "metadata": {},
   "execution_count": 2
  },
  {
   "cell_type": "markdown",
   "source": [
    "## Potential-based SCF"
   ],
   "metadata": {}
  },
  {
   "outputs": [
    {
     "name": "stdout",
     "output_type": "stream",
     "text": [
      "n     Energy            log10(ΔE)   log10(Δρ)   α      Diag   Δtime\n",
      "---   ---------------   ---------   ---------   ----   ----   ------\n",
      "  1   -7.846848862373                   -0.70           4.8         \n",
      "  2   -7.852527583778       -2.25       -1.64   0.80    2.0    320ms\n",
      "  3   -7.852636706607       -3.96       -2.72   0.80    1.0   33.1ms\n",
      "  4   -7.852646469502       -5.01       -3.28   0.80    2.2   39.3ms\n",
      "  5   -7.852646674862       -6.69       -4.14   0.80    1.2   31.1ms\n",
      "  6   -7.852646686498       -7.93       -4.82   0.80    1.8   38.2ms\n",
      "  7   -7.852646686724       -9.65       -5.54   0.80    1.8   36.5ms\n",
      "  8   -7.852646686729      -11.28       -6.95   0.80    1.8   35.7ms\n"
     ]
    }
   ],
   "cell_type": "code",
   "source": [
    "scfres_scfv = DFTK.scf_potential_mixing(basis; tol);"
   ],
   "metadata": {},
   "execution_count": 3
  },
  {
   "cell_type": "markdown",
   "source": [
    "## Direct minimization\n",
    "Note: Unlike the other algorithms, tolerance for this one is in the energy,\n",
    "thus we square the density tolerance value to be roughly equivalent."
   ],
   "metadata": {}
  },
  {
   "outputs": [
    {
     "name": "stdout",
     "output_type": "stream",
     "text": [
      "Iter     Function value   Gradient norm \n",
      "     0     1.361254e+01     3.173737e+00\n",
      " * time: 0.4934232234954834\n",
      "     1     1.236214e+00     1.883770e+00\n",
      " * time: 0.7537941932678223\n",
      "     2    -1.576311e+00     2.261677e+00\n",
      " * time: 0.7892501354217529\n",
      "     3    -3.801915e+00     2.028634e+00\n",
      " * time: 0.841076135635376\n",
      "     4    -5.070024e+00     1.883327e+00\n",
      " * time: 0.8906559944152832\n",
      "     5    -6.721066e+00     1.057799e+00\n",
      " * time: 0.9402980804443359\n",
      "     6    -7.370043e+00     7.923213e-01\n",
      " * time: 0.9921681880950928\n",
      "     7    -7.585448e+00     6.986792e-01\n",
      " * time: 1.025482177734375\n",
      "     8    -7.721677e+00     2.260344e-01\n",
      " * time: 1.0599720478057861\n",
      "     9    -7.779555e+00     7.979569e-02\n",
      " * time: 1.0936391353607178\n",
      "    10    -7.820037e+00     1.286127e-01\n",
      " * time: 1.1284830570220947\n",
      "    11    -7.833926e+00     4.920357e-02\n",
      " * time: 1.165215015411377\n",
      "    12    -7.846283e+00     2.430614e-02\n",
      " * time: 1.2030410766601562\n",
      "    13    -7.850648e+00     1.896460e-02\n",
      " * time: 1.238511085510254\n",
      "    14    -7.851803e+00     1.019827e-02\n",
      " * time: 1.275982141494751\n",
      "    15    -7.852359e+00     6.980225e-03\n",
      " * time: 1.3141062259674072\n",
      "    16    -7.852551e+00     4.307245e-03\n",
      " * time: 1.350682020187378\n",
      "    17    -7.852622e+00     1.811272e-03\n",
      " * time: 1.3884921073913574\n",
      "    18    -7.852640e+00     1.120571e-03\n",
      " * time: 1.4238340854644775\n",
      "    19    -7.852645e+00     5.681143e-04\n",
      " * time: 1.4572620391845703\n",
      "    20    -7.852646e+00     2.956837e-04\n",
      " * time: 1.498157024383545\n",
      "    21    -7.852646e+00     1.516398e-04\n",
      " * time: 1.533649206161499\n",
      "    22    -7.852647e+00     1.047306e-04\n",
      " * time: 1.568899154663086\n",
      "    23    -7.852647e+00     6.587616e-05\n",
      " * time: 1.7146060466766357\n",
      "    24    -7.852647e+00     4.452030e-05\n",
      " * time: 1.7507431507110596\n",
      "    25    -7.852647e+00     2.499631e-05\n",
      " * time: 1.7892200946807861\n",
      "    26    -7.852647e+00     1.262446e-05\n",
      " * time: 1.8257091045379639\n",
      "    27    -7.852647e+00     7.316734e-06\n",
      " * time: 1.859173059463501\n",
      "    28    -7.852647e+00     4.361013e-06\n",
      " * time: 1.894787073135376\n",
      "    29    -7.852647e+00     2.614058e-06\n",
      " * time: 1.9318761825561523\n",
      "    30    -7.852647e+00     1.641229e-06\n",
      " * time: 1.9725911617279053\n",
      "    31    -7.852647e+00     1.012447e-06\n",
      " * time: 2.0080630779266357\n",
      "    32    -7.852647e+00     6.152402e-07\n",
      " * time: 2.0439610481262207\n",
      "    33    -7.852647e+00     4.046854e-07\n",
      " * time: 2.0777339935302734\n",
      "    34    -7.852647e+00     1.637394e-07\n",
      " * time: 2.1127800941467285\n",
      "    35    -7.852647e+00     1.041153e-07\n",
      " * time: 2.149951219558716\n",
      "    36    -7.852647e+00     7.264475e-08\n",
      " * time: 2.1865501403808594\n",
      "    37    -7.852647e+00     3.634074e-08\n",
      " * time: 2.221410036087036\n",
      "    38    -7.852647e+00     2.185121e-08\n",
      " * time: 2.2594540119171143\n",
      "    39    -7.852647e+00     1.152104e-08\n",
      " * time: 2.294905185699463\n",
      "    40    -7.852647e+00     1.148649e-08\n",
      " * time: 2.375232219696045\n",
      "    41    -7.852647e+00     2.743941e-09\n",
      " * time: 2.4110710620880127\n"
     ]
    }
   ],
   "cell_type": "code",
   "source": [
    "scfres_dm = direct_minimization(basis; tol=tol^2);"
   ],
   "metadata": {},
   "execution_count": 4
  },
  {
   "cell_type": "markdown",
   "source": [
    "## Newton algorithm"
   ],
   "metadata": {}
  },
  {
   "cell_type": "markdown",
   "source": [
    "Start not too far from the solution to ensure convergence:\n",
    "We run first a very crude SCF to get close and then switch to Newton."
   ],
   "metadata": {}
  },
  {
   "outputs": [
    {
     "name": "stdout",
     "output_type": "stream",
     "text": [
      "n     Energy            log10(ΔE)   log10(Δρ)   Diag   Δtime\n",
      "---   ---------------   ---------   ---------   ----   ------\n",
      "  1   -7.846857445532                   -0.70    4.5         \n"
     ]
    }
   ],
   "cell_type": "code",
   "source": [
    "scfres_start = self_consistent_field(basis; tol=0.5);"
   ],
   "metadata": {},
   "execution_count": 5
  },
  {
   "cell_type": "markdown",
   "source": [
    "Remove the virtual orbitals (which Newton cannot treat yet)"
   ],
   "metadata": {}
  },
  {
   "outputs": [
    {
     "name": "stdout",
     "output_type": "stream",
     "text": [
      "n     Energy            log10(ΔE)   log10(Δρ)   Δtime\n",
      "---   ---------------   ---------   ---------   ------\n",
      "  1   -7.852645916097                   -1.64         \n",
      "  2   -7.852646686730       -6.11       -3.71    2.23s\n",
      "  3   -7.852646686730      -13.35       -7.25    234ms\n"
     ]
    }
   ],
   "cell_type": "code",
   "source": [
    "ψ = DFTK.select_occupied_orbitals(basis, scfres_start.ψ, scfres_start.occupation).ψ\n",
    "scfres_newton = newton(basis, ψ; tol);"
   ],
   "metadata": {},
   "execution_count": 6
  },
  {
   "cell_type": "markdown",
   "source": [
    "## Comparison of results"
   ],
   "metadata": {}
  },
  {
   "outputs": [
    {
     "name": "stdout",
     "output_type": "stream",
     "text": [
      "|ρ_newton - ρ_scf|  = 5.734891767279591e-7\n",
      "|ρ_newton - ρ_scfv| = 3.9568421951431614e-7\n",
      "|ρ_newton - ρ_dm|   = 7.414466217838601e-10\n"
     ]
    }
   ],
   "cell_type": "code",
   "source": [
    "println(\"|ρ_newton - ρ_scf|  = \", norm(scfres_newton.ρ - scfres_scf.ρ))\n",
    "println(\"|ρ_newton - ρ_scfv| = \", norm(scfres_newton.ρ - scfres_scfv.ρ))\n",
    "println(\"|ρ_newton - ρ_dm|   = \", norm(scfres_newton.ρ - scfres_dm.ρ))"
   ],
   "metadata": {},
   "execution_count": 7
  }
 ],
 "nbformat_minor": 3,
 "metadata": {
  "language_info": {
   "file_extension": ".jl",
   "mimetype": "application/julia",
   "name": "julia",
   "version": "1.8.5"
  },
  "kernelspec": {
   "name": "julia-1.8",
   "display_name": "Julia 1.8.5",
   "language": "julia"
  }
 },
 "nbformat": 4
}
