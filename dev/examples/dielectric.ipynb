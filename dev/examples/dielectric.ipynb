{
 "cells": [
  {
   "cell_type": "markdown",
   "source": [
    "# Eigenvalues of the dielectric matrix\n",
    "\n",
    "We compute a few eigenvalues of the dielectric matrix ($q=0$, $ω=0$) iteratively."
   ],
   "metadata": {}
  },
  {
   "outputs": [
    {
     "name": "stdout",
     "output_type": "stream",
     "text": [
      "n     Energy            log10(ΔE)   log10(Δρ)   Diag\n",
      "---   ---------------   ---------   ---------   ----\n",
      "  1   -7.236131892773                   -0.50    7.0\n",
      "  2   -7.250290369612       -1.85       -1.38    1.0\n",
      "  3   -7.251127374536       -3.08       -1.93    4.0\n",
      "  4   -7.250942002391   +   -3.73       -1.87    3.0\n",
      "  5   -7.251333035860       -3.41       -2.74    2.0\n",
      "  6   -7.251337912023       -5.31       -3.11    2.0\n",
      "  7   -7.251338780582       -6.06       -4.02    2.0\n",
      "  8   -7.251338793857       -7.88       -4.19    4.0\n",
      "  9   -7.251338798456       -8.34       -4.76    2.0\n",
      " 10   -7.251338798635       -9.75       -5.11    2.0\n",
      " 11   -7.251338798697      -10.21       -5.64    3.0\n",
      " 12   -7.251338798704      -11.12       -6.26    2.0\n",
      " 13   -7.251338798704      -12.75       -6.58    3.0\n",
      " 14   -7.251338798705      -13.44       -7.08    3.0\n",
      " 15   -7.251338798705      -14.10       -7.46    2.0\n"
     ]
    }
   ],
   "cell_type": "code",
   "source": [
    "using DFTK\n",
    "using Plots\n",
    "using KrylovKit\n",
    "using Printf\n",
    "\n",
    "# Calculation parameters\n",
    "kgrid = [1, 1, 1]\n",
    "Ecut = 5\n",
    "\n",
    "# Silicon lattice\n",
    "a = 10.26\n",
    "lattice = a / 2 .* [[0 1 1.]; [1 0 1.]; [1 1 0.]]\n",
    "Si = ElementPsp(:Si, psp=load_psp(\"hgh/lda/Si-q4\"))\n",
    "atoms     = [Si, Si]\n",
    "positions = [ones(3)/8, -ones(3)/8]\n",
    "\n",
    "# Compute the dielectric operator without symmetries\n",
    "model = model_LDA(lattice, atoms, positions, symmetries=false)\n",
    "basis = PlaneWaveBasis(model; Ecut, kgrid)\n",
    "scfres = self_consistent_field(basis, tol=1e-14);"
   ],
   "metadata": {},
   "execution_count": 1
  },
  {
   "cell_type": "markdown",
   "source": [
    "Applying $ε^† ≔ (1- χ_0 K)$ …"
   ],
   "metadata": {}
  },
  {
   "outputs": [],
   "cell_type": "code",
   "source": [
    "function eps_fun(δρ)\n",
    "    δV = apply_kernel(basis, δρ; ρ=scfres.ρ)\n",
    "    χ0δV = apply_χ0(scfres, δV)\n",
    "    δρ - χ0δV\n",
    "end;"
   ],
   "metadata": {},
   "execution_count": 2
  },
  {
   "cell_type": "markdown",
   "source": [
    "… eagerly diagonalizes the subspace matrix at each iteration"
   ],
   "metadata": {}
  },
  {
   "outputs": [
    {
     "name": "stdout",
     "output_type": "stream",
     "text": [
      "[ Info: Arnoldi iteration step 1: normres = 0.0512313015663491\n",
      "[ Info: Arnoldi iteration step 2: normres = 0.5910475161562285\n",
      "[ Info: Arnoldi iteration step 3: normres = 0.8400268042546531\n",
      "[ Info: Arnoldi iteration step 4: normres = 0.2694348189593592\n",
      "[ Info: Arnoldi iteration step 5: normres = 0.48276803374039623\n",
      "[ Info: Arnoldi schursolve in iter 1, krylovdim = 5: 0 values converged, normres = (2.41e-02, 7.29e-02, 4.29e-01, 2.08e-01, 1.63e-02)\n",
      "[ Info: Arnoldi iteration step 6: normres = 0.2916028750772652\n",
      "[ Info: Arnoldi schursolve in iter 1, krylovdim = 6: 0 values converged, normres = (5.84e-03, 1.14e-01, 2.21e-01, 1.22e-01, 3.31e-02)\n",
      "[ Info: Arnoldi iteration step 7: normres = 0.07696784921831189\n",
      "[ Info: Arnoldi schursolve in iter 1, krylovdim = 7: 0 values converged, normres = (2.17e-04, 8.68e-03, 1.46e-02, 4.38e-02, 5.59e-02)\n",
      "[ Info: Arnoldi iteration step 8: normres = 0.11034678917131654\n",
      "[ Info: Arnoldi schursolve in iter 1, krylovdim = 8: 0 values converged, normres = (1.03e-05, 6.76e-04, 1.25e-03, 1.48e-02, 4.04e-02)\n",
      "[ Info: Arnoldi iteration step 9: normres = 0.0721784362536579\n",
      "[ Info: Arnoldi schursolve in iter 1, krylovdim = 9: 0 values converged, normres = (3.23e-07, 3.51e-05, 7.25e-05, 3.90e-03, 3.51e-02)\n",
      "[ Info: Arnoldi iteration step 10: normres = 0.10732182607942627\n",
      "[ Info: Arnoldi schursolve in iter 1, krylovdim = 10: 0 values converged, normres = (1.53e-08, 2.77e-06, 6.37e-06, 1.64e-03, 4.17e-02)\n",
      "[ Info: Arnoldi iteration step 11: normres = 0.07923484393313025\n",
      "[ Info: Arnoldi schursolve in iter 1, krylovdim = 11: 0 values converged, normres = (5.23e-10, 1.56e-07, 3.99e-07, 4.53e-04, 2.75e-02)\n",
      "[ Info: Arnoldi iteration step 12: normres = 0.06619736200001575\n",
      "[ Info: Arnoldi schursolve in iter 1, krylovdim = 12: 0 values converged, normres = (1.49e-11, 7.31e-09, 2.07e-08, 9.59e-05, 1.20e-02)\n",
      "[ Info: Arnoldi iteration step 13: normres = 0.27998643998298384\n",
      "[ Info: Arnoldi schursolve in iter 1, krylovdim = 13: 0 values converged, normres = (1.82e-12, 1.48e-09, 4.67e-09, 9.51e-05, 2.69e-02)\n",
      "[ Info: Arnoldi iteration step 14: normres = 0.19636518951112678\n",
      "[ Info: Arnoldi schursolve in iter 1, krylovdim = 14: 1 values converged, normres = (3.41e-13, 2.48e-09, 1.88e-01, 2.43e-02, 2.00e-04)\n",
      "[ Info: Arnoldi iteration step 15: normres = 0.4841769952447062\n",
      "[ Info: Arnoldi schursolve in iter 1, krylovdim = 15: 1 values converged, normres = (7.60e-14, 1.32e-09, 7.38e-02, 3.61e-04, 1.59e-05)\n",
      "[ Info: Arnoldi iteration step 16: normres = 0.06105317138567211\n",
      "[ Info: Arnoldi schursolve in iter 1, krylovdim = 16: 1 values converged, normres = (4.45e-15, 2.15e-08, 4.28e-02, 2.71e-02, 2.60e-02)\n",
      "[ Info: Arnoldi iteration step 17: normres = 0.03380953109793726\n",
      "[ Info: Arnoldi schursolve in iter 1, krylovdim = 17: 1 values converged, normres = (6.21e-17, 1.44e-06, 9.43e-04, 3.07e-07, 9.31e-04)\n",
      "[ Info: Arnoldi iteration step 18: normres = 0.0243281024528155\n",
      "[ Info: Arnoldi schursolve in iter 1, krylovdim = 18: 1 values converged, normres = (6.28e-19, 1.29e-05, 8.21e-06, 4.56e-08, 1.67e-05)\n",
      "[ Info: Arnoldi iteration step 19: normres = 0.1318477517703855\n",
      "[ Info: Arnoldi schursolve in iter 1, krylovdim = 19: 1 values converged, normres = (3.46e-20, 7.99e-08, 1.35e-06, 1.38e-06, 8.58e-07)\n",
      "[ Info: Arnoldi iteration step 20: normres = 0.07858553700260591\n",
      "[ Info: Arnoldi schursolve in iter 1, krylovdim = 20: 1 values converged, normres = (1.33e-21, 7.62e-08, 5.56e-08, 8.66e-08, 9.62e-08)\n",
      "[ Info: Arnoldi iteration step 21: normres = 0.04719394343774432\n",
      "[ Info: Arnoldi schursolve in iter 1, krylovdim = 21: 1 values converged, normres = (2.63e-23, 2.05e-09, 2.20e-09, 2.86e-09, 3.55e-09)\n",
      "[ Info: Arnoldi iteration step 22: normres = 0.668369352414935\n",
      "[ Info: Arnoldi schursolve in iter 1, krylovdim = 22: 1 values converged, normres = (1.09e-23, 1.97e-09, 2.09e-09, 3.55e-09, 4.11e-09)\n",
      "[ Info: Arnoldi iteration step 23: normres = 0.02077487114284398\n",
      "[ Info: Arnoldi schursolve in iter 1, krylovdim = 23: 1 values converged, normres = (1.44e-25, 1.35e-10, 1.44e-10, 3.06e-03, 9.36e-03)\n",
      "[ Info: Arnoldi iteration step 24: normres = 0.02126443706657841\n",
      "[ Info: Arnoldi schursolve in iter 1, krylovdim = 24: 1 values converged, normres = (1.25e-27, 1.87e-12, 1.99e-12, 1.55e-04, 1.17e-04)\n",
      "[ Info: Arnoldi iteration step 25: normres = 0.1191450777702921\n",
      "[ Info: Arnoldi schursolve in iter 1, krylovdim = 25: 3 values converged, normres = (6.58e-29, 1.64e-13, 1.74e-13, 4.93e-08, 5.68e-08)\n",
      "[ Info: Arnoldi iteration step 26: normres = 0.01707543210263414\n",
      "[ Info: Arnoldi schursolve in iter 1, krylovdim = 26: 3 values converged, normres = (4.76e-31, 1.93e-15, 2.05e-15, 1.91e-07, 5.77e-08)\n",
      "[ Info: Arnoldi iteration step 27: normres = 0.053395451730558756\n",
      "[ Info: Arnoldi schursolve in iter 1, krylovdim = 27: 3 values converged, normres = (1.05e-32, 6.78e-17, 7.21e-17, 3.50e-09, 6.34e-09)\n",
      "[ Info: Arnoldi iteration step 28: normres = 0.06017541899432544\n",
      "[ Info: Arnoldi schursolve in iter 1, krylovdim = 28: 3 values converged, normres = (2.78e-34, 2.99e-18, 3.18e-18, 1.60e-10, 2.88e-10)\n",
      "[ Info: Arnoldi iteration step 29: normres = 0.018628446976592373\n",
      "[ Info: Arnoldi schursolve in iter 1, krylovdim = 29: 3 values converged, normres = (2.14e-36, 3.68e-20, 3.92e-20, 2.16e-12, 3.93e-12)\n",
      "[ Info: Arnoldi iteration step 30: normres = 0.20480643509542543\n",
      "┌ Info: Arnoldi eigsolve finished after 1 iterations:\n",
      "│ *  6 eigenvalues converged\n",
      "│ *  norm of residuals = (2.011048094660933e-37, 5.929450462941656e-21, 7.993116406697841e-21, 3.906810532394322e-13, 7.558166557004192e-13, 8.64998319998171e-13)\n",
      "└ *  number of operations = 30\n"
     ]
    }
   ],
   "cell_type": "code",
   "source": [
    "eigsolve(eps_fun, randn(size(scfres.ρ)), 5, :LM; eager=true, verbosity=3);"
   ],
   "metadata": {},
   "execution_count": 3
  }
 ],
 "nbformat_minor": 3,
 "metadata": {
  "language_info": {
   "file_extension": ".jl",
   "mimetype": "application/julia",
   "name": "julia",
   "version": "1.8.2"
  },
  "kernelspec": {
   "name": "julia-1.8",
   "display_name": "Julia 1.8.2",
   "language": "julia"
  }
 },
 "nbformat": 4
}
